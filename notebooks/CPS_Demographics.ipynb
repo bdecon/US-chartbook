{
 "cells": [
  {
   "cell_type": "markdown",
   "metadata": {},
   "source": [
    "## CPS Demographics\n",
    "\n",
    "Data on headship, age, and education, calculated from basic monthly CPS microdata files"
   ]
  },
  {
   "cell_type": "code",
   "execution_count": 2,
   "metadata": {
    "ExecuteTime": {
     "end_time": "2022-03-02T06:36:26.259987Z",
     "start_time": "2022-03-02T06:36:25.618165Z"
    }
   },
   "outputs": [],
   "source": [
    "import sys\n",
    "sys.path.append('../src')\n",
    "\n",
    "import uschartbook.config\n",
    "\n",
    "from uschartbook.config import *\n",
    "from uschartbook.utils import *"
   ]
  },
  {
   "cell_type": "markdown",
   "metadata": {},
   "source": [
    "### Headship"
   ]
  },
  {
   "cell_type": "code",
   "execution_count": 3,
   "metadata": {
    "ExecuteTime": {
     "end_time": "2022-03-02T06:36:34.986714Z",
     "start_time": "2022-03-02T06:36:27.238316Z"
    }
   },
   "outputs": [
    {
     "name": "stdout",
     "output_type": "stream",
     "text": [
      "The headship rate reached a low of 49.19 percent during May 2020, and is currently 50.08 percent, as of January 2022 (see {\\color{purple!70!violet}\\textbf{---}}). \n"
     ]
    }
   ],
   "source": [
    "cols = ['QSTNUM', 'AGE', 'YEAR', 'MONTH', 'HHWGT', 'PWSSWGT']\n",
    "df = pd.concat([pd.read_feather(f'{cps_dir}/cps{year}.ft', columns=cols)\n",
    "                  .query('AGE > 15') \n",
    "                for year in range(1996, 2023)])\n",
    "\n",
    "headship_rate = (lambda grp: grp.groupby('QSTNUM').HHWGT.first().sum()\n",
    "                 / grp.PWSSWGT.sum())\n",
    "\n",
    "data = (df.groupby(['YEAR', 'MONTH']).apply(headship_rate)).reset_index()\n",
    "data['DATE'] = pd.to_datetime(dict(year=data.YEAR, month=data.MONTH, day=1))\n",
    "data = data.set_index('DATE').drop(['YEAR', 'MONTH'], axis=1)\n",
    "\n",
    "sm = x13_arima_analysis(data[0])\n",
    "result = sm.seasadj * 100\n",
    "result.name = 'value'\n",
    "result.to_csv(data_dir / 'headship.csv', index_label='date', header=True)\n",
    "\n",
    "color = 'purple!70!violet'\n",
    "node = end_node(result, color, date='m', digits=2, full_year=True)\n",
    "write_txt(text_dir / 'headship_node.txt', node)\n",
    "\n",
    "low = result.min()\n",
    "low_dt = dtxt(result.idxmin())['mon1']\n",
    "lt = result.iloc[-1]\n",
    "lt_dt = dtxt(result.index[-1])['mon1']\n",
    "feb = result.loc['2020-02-01']\n",
    "\n",
    "cl = c_line(color)\n",
    "text = (f'The headship rate reached a low of {low:.2f} percent during '+\n",
    "        f'{low_dt}, and is currently {lt:.2f} percent, as of {lt_dt} '+\n",
    "        f'{cl}. ')\n",
    "write_txt(text_dir / 'headship.txt', text)\n",
    "print(text)\n",
    "#In February 2020, the headship rate was {feb:.2f} percent."
   ]
  },
  {
   "cell_type": "code",
   "execution_count": null,
   "metadata": {},
   "outputs": [],
   "source": []
  },
  {
   "cell_type": "code",
   "execution_count": null,
   "metadata": {},
   "outputs": [],
   "source": []
  },
  {
   "cell_type": "markdown",
   "metadata": {},
   "source": [
    "### Median Age"
   ]
  },
  {
   "cell_type": "code",
   "execution_count": null,
   "metadata": {
    "ExecuteTime": {
     "end_time": "2022-02-28T17:50:35.550032Z",
     "start_time": "2022-02-28T17:50:08.127526Z"
    }
   },
   "outputs": [],
   "source": [
    "def median_age(df, wgt='PWSSWGT', percentile=0.5):\n",
    "    '''\n",
    "    Returns age associated with given percentile.\n",
    "    \n",
    "    Default is median (0.5).\n",
    "    '''\n",
    "    bins=np.arange(-1, 86, 1)\n",
    "    cdf = (df.groupby(pd.cut(df.AGE, bins))\n",
    "             [wgt].sum().cumsum() / df[wgt].sum())\n",
    "    \n",
    "    return np.interp(percentile, cdf, bins[1:])\n",
    "\n",
    "cols = ['YEAR', 'MONTH', 'AGE', 'BASICWGT', 'LFS']\n",
    "dfe = pd.concat([pd.read_feather(f'{cps_dir}/cps{year}.ft', \n",
    "                                columns=cols)\n",
    "                for year in range(1989, 1994)])\n",
    "dfl = pd.concat([pd.read_feather(f'{cps_dir}/cps{year}.ft', \n",
    "                                columns=cols + ['PWSSWGT'])\n",
    "                for year in range(1994, 2023)])\n",
    "df = dfe.append(dfl)\n",
    "\n",
    "grps = [('AGE16PLUS', 'BASICWGT', 'YEAR > 1988 and AGE > 15'), \n",
    "        ('PWSSWGT', 'PWSSWGT', 'YEAR > 1988'), \n",
    "        ('BASICWGT', 'BASICWGT', 'YEAR < 1998'), \n",
    "        ('EMP', 'BASICWGT', 'LFS == \"Employed\"')]\n",
    "date = lambda x: pd.to_datetime(dict(year=x.YEAR, \n",
    "                                     month=x.MONTH, day=1))\n",
    "data = pd.concat(\n",
    "    [df.query(query)\n",
    "       .groupby(['YEAR', 'MONTH'])\n",
    "       .apply(lambda x: median_age(x, wgt))\n",
    "       .rename(name).reset_index()\n",
    "       .assign(date = date).set_index('date')\n",
    "       .drop(['YEAR', 'MONTH'], axis=1) \n",
    "     for name, wgt, query in grps], axis=1)\n",
    "data['ALL'] = (data.loc['1989':'1993', 'BASICWGT']\n",
    "               .append(data.loc['1994':, 'PWSSWGT']))\n",
    "res = data.loc['1990':, ['AGE16PLUS', 'EMP', 'ALL']]\n",
    "res.to_csv(data_dir / 'median_age.csv', \n",
    "           index_label='date', float_format='%g')"
   ]
  },
  {
   "cell_type": "code",
   "execution_count": 2,
   "metadata": {
    "ExecuteTime": {
     "end_time": "2022-03-01T14:14:38.864858Z",
     "start_time": "2022-03-01T14:14:38.853655Z"
    }
   },
   "outputs": [
    {
     "name": "stdout",
     "output_type": "stream",
     "text": [
      "The \\textbf{median age} is the midpoint for the age of a group; half of the group is older and half is younger. Tracking this point over time summarizes the age composition of the group. As a population ages, the median age will increase.\n",
      "\n",
      "The median age of the overall civilian noninstitutionalized population, calculated from the Current Population Survey (CPS), is 38, as of January 2022, compared to 31.3 in January 1990 (see {\\color{blue!60!cyan}\\textbf{---}}). The median worker is 41 in January 2022, and 35.5 in January 1990 (see {\\color{red}\\textbf{---}}).\n"
     ]
    }
   ],
   "source": [
    "res = pd.read_csv(data_dir / 'median_age.csv', \n",
    "                  index_col='date', parse_dates=True)\n",
    "allcol = 'blue!60!cyan'\n",
    "a16col = 'violet'\n",
    "empcol = 'red'\n",
    "grps = [('ALL', allcol, None, 0), ('AGE16PLUS', a16col, 'm', 0.17),\n",
    "        ('EMP', empcol, None, 0)]\n",
    "\n",
    "nodes = '\\n'.join([end_node(res[srs], col, date=dt, loc=loc, \n",
    "                            offset=offset,\n",
    "                            full_year=True, colon=False) \n",
    "                   for (srs, col, dt, offset), loc \n",
    "                   in itertools.product(grps, ['end', 'start'])])\n",
    "write_txt(text_dir / 'med_age_node.txt', nodes) \n",
    "\n",
    "def drop_zero(value):\n",
    "    '''\n",
    "    Return text string with value but drop .0 if value ends in .0\n",
    "    '''\n",
    "    return (f'{value:.0f}' if round(value, 1) % 1 == 0.0 \n",
    "            else f'{value:.1f}')\n",
    "\n",
    "ltval = drop_zero(res.ALL.iloc[-1])\n",
    "ltdt = dtxt(res.index[-1])['mon1']\n",
    "prval = drop_zero(res.ALL.iloc[0])\n",
    "prdt = dtxt(res.index[0])['mon1']\n",
    "ltwval = drop_zero(res.EMP.iloc[-1])\n",
    "prwval = drop_zero(res.EMP.iloc[0])\n",
    "text = ('The \\\\textbf{median age} is the midpoint for the age of a '+\n",
    "        'group; half of the group is older and half is younger. '+\n",
    "        'Tracking this point over time summarizes the age composition '+\n",
    "        'of the group. As a population ages, the median age will '+\n",
    "        'increase.\\n\\nThe median age of the overall civilian non'+\n",
    "        'institutionalized population, calculated from the Current '+\n",
    "        f'Population Survey (CPS), is {ltval}, as of {ltdt}, compared '+\n",
    "        f'to {prval} in {prdt} {c_line(allcol)}. The median worker '+\n",
    "        f'is {ltwval} in {ltdt}, and {prwval} in {prdt} '+\n",
    "        f'{c_line(empcol)}.')\n",
    "write_txt(text_dir / 'med_age.txt', text) \n",
    "print(text)"
   ]
  },
  {
   "cell_type": "code",
   "execution_count": null,
   "metadata": {},
   "outputs": [],
   "source": []
  },
  {
   "cell_type": "code",
   "execution_count": null,
   "metadata": {},
   "outputs": [],
   "source": []
  },
  {
   "cell_type": "markdown",
   "metadata": {},
   "source": [
    "### Age Groups / Composition"
   ]
  },
  {
   "cell_type": "code",
   "execution_count": null,
   "metadata": {},
   "outputs": [],
   "source": []
  },
  {
   "cell_type": "code",
   "execution_count": 34,
   "metadata": {
    "ExecuteTime": {
     "end_time": "2022-03-01T19:14:52.865627Z",
     "start_time": "2022-03-01T19:14:52.717227Z"
    }
   },
   "outputs": [],
   "source": [
    "grps = [('0--15', '0', '15'), ('16--24', '16', '24'),\n",
    "        ('25--34', '25', '34'), ('35--44', '35', '44'),\n",
    "        ('45--54', '45', '54'), ('55--64', '55', '64'),\n",
    "        ('65--74', '65', '74'), ('0--17', '0', '17'),\n",
    "        ('25--54', '25', '54'), ('65+', '65', '85')]\n",
    "col = ['AGE', 'PWSSWGT']\n",
    "lt = (cps_1mo(cps_dir, cps_date(), col)\n",
    "      .groupby('AGE')[col[-1]].sum())\n",
    "col = ['AGE', 'BASICWGT']\n",
    "py = '1989'\n",
    "pr = (cps_1mo(cps_dir, pd.to_datetime(f'{py}-01-01'), col)\n",
    "      .groupby('AGE')[col[-1]].sum())\n",
    "sh, tot = pd.DataFrame(), pd.DataFrame()\n",
    "totlt, totpr = lt.sum() / 1_000_000, pr.sum() / 1_000_000\n",
    "tot['Latest'] = (pd.Series({name: lt.loc[a1:a2].sum() \n",
    "                          for name, a1, a2 in grps}) \n",
    "                 / 1_000_000)\n",
    "sh['Latest'] = (tot.Latest / totlt) * 100\n",
    "tot['Prev'] = (pd.Series({name: pr.loc[a1:a2].sum() \n",
    "                          for name, a1, a2 in grps})\n",
    "               / 1_000_000)\n",
    "sh['Prev'] = (tot.Prev / totpr) * 100\n",
    "sh.to_csv(data_dir / 'cps_age.csv', index_label='name', \n",
    "          float_format='%g')\n",
    "ltdt = dtxt(cps_date())['mon1']"
   ]
  },
  {
   "cell_type": "code",
   "execution_count": 48,
   "metadata": {
    "ExecuteTime": {
     "end_time": "2022-03-01T19:39:41.622210Z",
     "start_time": "2022-03-01T19:39:41.613871Z"
    }
   },
   "outputs": [
    {
     "name": "stdout",
     "output_type": "stream",
     "text": [
      "The noninstitutionalized civilian population used in most labor statistics totals 327.7 million in January 2022. Of this, 19.7 percent are under the working age of 16, equivalent to 64.5 million people. In 1989, the under-16 population was 23.4 percent of the total. The juvenile population, those under 18, is 73.5 million, equivalent to 22.4 percent of the population in January 2022, and compared to 26.3 percent in 1989.\n",
      "\n",
      "The core of workforce is historically those between the ages of 25 and 54. The age 25--54 group contains 127.2 million people and comprises 38.8 percent of the population in January 2022. The group made up 42.3 percent of the population in 1989. The age 55 to 64 group makes up 12.9 percent of the total in the latest data and 8.9 percent in 1989. Those above the age of 65 comprise 17.0 percent in January 2022 and 11.9 percent in 1989. \n"
     ]
    }
   ],
   "source": [
    "sht = sh.applymap('{:.1f} percent'.format)\n",
    "tott = tot.applymap('{:.1f} million'.format)\n",
    "text = ('The noninstitutionalized civilian population '+\n",
    "        'used in most labor statistics totals '+\n",
    "        f'{totlt:.1f} million in {ltdt}. '+\n",
    "        f'Of this, {sht.loc[\"0--15\",\"Latest\"]} '+\n",
    "        'are under the working age of 16, '+\n",
    "        f'equivalent to {tott.loc[\"0--15\",\"Latest\"]} '+\n",
    "        'people. In 1989, the under-16 population '+\n",
    "        f'was {sht.loc[\"0--15\",\"Prev\"]} '+\n",
    "        'of the total. The juvenile population, those '+\n",
    "        f'under 18, is {tott.loc[\"0--17\",\"Latest\"]}, '+\n",
    "        f'equivalent to {sht.loc[\"0--17\",\"Latest\"]} of '+\n",
    "        f'the population in {ltdt}, and compared to '+\n",
    "        f'{sht.loc[\"0--17\",\"Prev\"]} in 1989.\\n\\n'+\n",
    "        'The core of workforce is '+\n",
    "        'historically those between the ages of '+\n",
    "        '25 and 54. The age 25--54 group contains '+\n",
    "        f'{tott.loc[\"25--54\", \"Latest\"]} people and '+\n",
    "        f'comprises {sht.loc[\"25--54\", \"Latest\"]} of '+\n",
    "        f'the population in {ltdt}. The group made '+\n",
    "        f'up {sht.loc[\"25--54\", \"Prev\"]} of the '+\n",
    "        'population in 1989. The age 55 to 64 group '+\n",
    "        f'makes up {sht.loc[\"55--64\", \"Latest\"]} of '+\n",
    "        'the total in the latest data and '+\n",
    "        f'{sht.loc[\"55--64\", \"Prev\"]} in 1989. Those '+\n",
    "        'above the age of 65 comprise '+\n",
    "        f'{sht.loc[\"65+\", \"Latest\"]} in {ltdt} and '+\n",
    "        f'{sht.loc[\"65+\", \"Prev\"]} in 1989. ')\n",
    "write_txt(text_dir / 'cps_age.txt', text)    \n",
    "print(text)"
   ]
  },
  {
   "cell_type": "code",
   "execution_count": null,
   "metadata": {},
   "outputs": [],
   "source": []
  },
  {
   "cell_type": "code",
   "execution_count": null,
   "metadata": {},
   "outputs": [],
   "source": []
  },
  {
   "cell_type": "code",
   "execution_count": null,
   "metadata": {},
   "outputs": [],
   "source": []
  },
  {
   "cell_type": "code",
   "execution_count": 26,
   "metadata": {
    "ExecuteTime": {
     "end_time": "2022-03-01T17:44:51.921907Z",
     "start_time": "2022-03-01T17:44:51.919126Z"
    }
   },
   "outputs": [],
   "source": [
    "sh.to_csv(data_dir / 'cps_age.csv', index_label='name', \n",
    "          float_format='%g')"
   ]
  },
  {
   "cell_type": "code",
   "execution_count": null,
   "metadata": {},
   "outputs": [],
   "source": []
  },
  {
   "cell_type": "code",
   "execution_count": null,
   "metadata": {},
   "outputs": [],
   "source": []
  },
  {
   "cell_type": "code",
   "execution_count": 16,
   "metadata": {
    "ExecuteTime": {
     "end_time": "2022-03-01T17:27:57.819454Z",
     "start_time": "2022-03-01T17:27:57.808850Z"
    }
   },
   "outputs": [],
   "source": [
    "sh['Latest'] = pd.Series({name: lt.loc[a1:a2].sum() \n",
    "                          for name, a1, a2 in grps})\n",
    "tot['Latest'] = sh.Latest / totlt\n",
    "sh['Prev'] = pd.Series({name: pr.loc[a1:a2].sum() \n",
    "                          for name, a1, a2 in grps})\n",
    "tot['Prev'] = sh.Prev / totpr"
   ]
  },
  {
   "cell_type": "code",
   "execution_count": 14,
   "metadata": {
    "ExecuteTime": {
     "end_time": "2022-03-01T17:26:50.399576Z",
     "start_time": "2022-03-01T17:26:50.396694Z"
    }
   },
   "outputs": [],
   "source": [
    "tot['Latest'] = sh.Latest / totlt"
   ]
  },
  {
   "cell_type": "code",
   "execution_count": 10,
   "metadata": {
    "ExecuteTime": {
     "end_time": "2022-03-01T17:16:56.125834Z",
     "start_time": "2022-03-01T17:16:56.122180Z"
    }
   },
   "outputs": [
    {
     "data": {
      "text/plain": [
       "327677570.0"
      ]
     },
     "execution_count": 10,
     "metadata": {},
     "output_type": "execute_result"
    }
   ],
   "source": [
    "totlt"
   ]
  },
  {
   "cell_type": "code",
   "execution_count": null,
   "metadata": {},
   "outputs": [],
   "source": []
  },
  {
   "cell_type": "code",
   "execution_count": null,
   "metadata": {},
   "outputs": [],
   "source": []
  },
  {
   "cell_type": "code",
   "execution_count": 7,
   "metadata": {
    "ExecuteTime": {
     "end_time": "2022-03-01T16:41:17.489723Z",
     "start_time": "2022-03-01T16:41:17.319534Z"
    }
   },
   "outputs": [],
   "source": [
    "write_txt(text_dir / 'cps_age_dt.txt', dtxt(cps_date())['mon2'])\n",
    "\n",
    "dates = [('Latest', cps_date()), \n",
    "         ('Prev', cps_date() - pd.DateOffset(years=1)), \n",
    "         ('1989', pd.to_datetime('1989-01-01'))]\n",
    "\n",
    "d = {y: {} for y, d in dates}\n",
    "t = {y: {} for y, d in dates}\n",
    "\n",
    "for name, date in dates:\n",
    "    wgt = 'PWSSWGT' if date.year > 1993 else 'BASICWGT'\n",
    "    cols = ['AGE', wgt]\n",
    "    df = cps_1mo(cps_dir, date, cols)\n",
    "\n",
    "    data = df.groupby('AGE')[wgt].sum()\n",
    "    tot = data.sum()\n",
    "    t[name]['tot'] = tot\n",
    "    d[name]['0--15'] = data.loc[:'15'].sum() / tot\n",
    "    d[name]['16--24'] = data.loc['16':'24'].sum() / tot\n",
    "    d[name]['25--34'] = data.loc['25':'34'].sum() / tot\n",
    "    d[name]['35--44'] = data.loc['35':'44'].sum() / tot\n",
    "    d[name]['45--54'] = data.loc['45':'54'].sum() / tot\n",
    "    d[name]['55--64'] = data.loc['55':'64'].sum() / tot\n",
    "    d[name]['65--74'] = data.loc['65':'74'].sum() / tot\n",
    "    d[name]['0--17'] = data.loc[:'17'].sum() / tot\n",
    "    d[name]['25--54'] = data.loc['25':'54'].sum() / tot\n",
    "    d[name]['65+'] = data.loc['65':].sum() / tot\n",
    "    \n",
    "result = pd.DataFrame(d) * 100\n",
    "result[['1989', 'Latest']].to_csv(data_dir / 'cps_age.csv', \n",
    "                                  index_label='name')"
   ]
  },
  {
   "cell_type": "code",
   "execution_count": 21,
   "metadata": {
    "ExecuteTime": {
     "end_time": "2022-03-01T17:42:49.407623Z",
     "start_time": "2022-03-01T17:42:49.401720Z"
    }
   },
   "outputs": [
    {
     "data": {
      "text/html": [
       "<div>\n",
       "<style scoped>\n",
       "    .dataframe tbody tr th:only-of-type {\n",
       "        vertical-align: middle;\n",
       "    }\n",
       "\n",
       "    .dataframe tbody tr th {\n",
       "        vertical-align: top;\n",
       "    }\n",
       "\n",
       "    .dataframe thead th {\n",
       "        text-align: right;\n",
       "    }\n",
       "</style>\n",
       "<table border=\"1\" class=\"dataframe\">\n",
       "  <thead>\n",
       "    <tr style=\"text-align: right;\">\n",
       "      <th></th>\n",
       "      <th>Latest</th>\n",
       "      <th>Prev</th>\n",
       "      <th>1989</th>\n",
       "    </tr>\n",
       "  </thead>\n",
       "  <tbody>\n",
       "    <tr>\n",
       "      <th>0--15</th>\n",
       "      <td>19.676375</td>\n",
       "      <td>19.748072</td>\n",
       "      <td>23.425871</td>\n",
       "    </tr>\n",
       "    <tr>\n",
       "      <th>16--24</th>\n",
       "      <td>11.559856</td>\n",
       "      <td>11.489636</td>\n",
       "      <td>13.436559</td>\n",
       "    </tr>\n",
       "    <tr>\n",
       "      <th>25--34</th>\n",
       "      <td>13.505641</td>\n",
       "      <td>13.781972</td>\n",
       "      <td>17.631367</td>\n",
       "    </tr>\n",
       "    <tr>\n",
       "      <th>35--44</th>\n",
       "      <td>13.075386</td>\n",
       "      <td>12.802543</td>\n",
       "      <td>14.623985</td>\n",
       "    </tr>\n",
       "    <tr>\n",
       "      <th>45--54</th>\n",
       "      <td>12.233938</td>\n",
       "      <td>12.201227</td>\n",
       "      <td>10.077910</td>\n",
       "    </tr>\n",
       "    <tr>\n",
       "      <th>55--64</th>\n",
       "      <td>12.927431</td>\n",
       "      <td>12.938403</td>\n",
       "      <td>8.885550</td>\n",
       "    </tr>\n",
       "    <tr>\n",
       "      <th>65--74</th>\n",
       "      <td>10.272503</td>\n",
       "      <td>10.145205</td>\n",
       "      <td>7.305468</td>\n",
       "    </tr>\n",
       "    <tr>\n",
       "      <th>0--17</th>\n",
       "      <td>22.438267</td>\n",
       "      <td>22.422472</td>\n",
       "      <td>26.346278</td>\n",
       "    </tr>\n",
       "    <tr>\n",
       "      <th>25--54</th>\n",
       "      <td>38.814965</td>\n",
       "      <td>38.785741</td>\n",
       "      <td>42.333257</td>\n",
       "    </tr>\n",
       "    <tr>\n",
       "      <th>65+</th>\n",
       "      <td>17.021368</td>\n",
       "      <td>17.038155</td>\n",
       "      <td>11.918764</td>\n",
       "    </tr>\n",
       "  </tbody>\n",
       "</table>\n",
       "</div>"
      ],
      "text/plain": [
       "           Latest       Prev       1989\n",
       "0--15   19.676375  19.748072  23.425871\n",
       "16--24  11.559856  11.489636  13.436559\n",
       "25--34  13.505641  13.781972  17.631367\n",
       "35--44  13.075386  12.802543  14.623985\n",
       "45--54  12.233938  12.201227  10.077910\n",
       "55--64  12.927431  12.938403   8.885550\n",
       "65--74  10.272503  10.145205   7.305468\n",
       "0--17   22.438267  22.422472  26.346278\n",
       "25--54  38.814965  38.785741  42.333257\n",
       "65+     17.021368  17.038155  11.918764"
      ]
     },
     "execution_count": 21,
     "metadata": {},
     "output_type": "execute_result"
    }
   ],
   "source": [
    "result"
   ]
  },
  {
   "cell_type": "code",
   "execution_count": null,
   "metadata": {},
   "outputs": [],
   "source": [
    "The noninstitutionalized civilian population used in most labor statistics totals {ltval} million in {ltdt}. Of this, XX.X percent are under the working age of 16, equivalent to XX.X million people. In 1989, the under 16 population was XX.X percent of the total. The juvenile population, those under 18, is XX.X million, equivalent to XX.X percent of population, and compared to XX.X percent in 1989. \n",
    "\n",
    "The core of workforce is historically those between the ages of 25 and 54. The age 25--54 group contains XXX.X million people and comprises XX.X percent of the population in ltdt. The group makes up XX.X percent in 1989. The age 55 to 64 group makes up XX.X percent of the total in the latest data and XX.X percent in 1989. Those above the age of 65 comprise XX.X percent in ltdt and XX.X percent in 1989. "
   ]
  },
  {
   "cell_type": "code",
   "execution_count": null,
   "metadata": {},
   "outputs": [],
   "source": []
  },
  {
   "cell_type": "code",
   "execution_count": null,
   "metadata": {},
   "outputs": [],
   "source": []
  },
  {
   "cell_type": "code",
   "execution_count": null,
   "metadata": {},
   "outputs": [],
   "source": []
  },
  {
   "cell_type": "code",
   "execution_count": null,
   "metadata": {},
   "outputs": [],
   "source": []
  },
  {
   "cell_type": "code",
   "execution_count": 3,
   "metadata": {
    "ExecuteTime": {
     "end_time": "2022-03-01T14:14:50.258389Z",
     "start_time": "2022-03-01T14:14:49.907797Z"
    }
   },
   "outputs": [
    {
     "name": "stdout",
     "output_type": "stream",
     "text": [
      "The CPS civilian noninstitutionalized population is 326 million in the year ending January 2022, with growth of 0.2 percent over the past year, though the official Census population growth estimate is 0.1 percent. By age, 22.3 percent are under the age of 18 and 17.3 percent are age 65 or older. In 1989, the US population was 244 million, with 26.3 percent under 18 and 12.0 percent 65 or older. The pre-retirement age (45--64) share of the population has increased to 25.0 percent in the year ending January 2022 from 18.9 percent in 1989. \n"
     ]
    }
   ],
   "source": [
    "write_txt(text_dir / 'cps_age_dt.txt', dtxt(cps_date())['mon2'])\n",
    "\n",
    "dates = [('Latest', cps_date()), \n",
    "         ('Prev', cps_date() - pd.DateOffset(years=1)), \n",
    "         ('1989', pd.to_datetime('1989-12-01'))]\n",
    "\n",
    "d = {y: {} for y, d in dates}\n",
    "t = {y: {} for y, d in dates}\n",
    "\n",
    "for name, date in dates:\n",
    "    wgt = 'PWSSWGT' if date.year > 1993 else 'BASICWGT'\n",
    "    cols = ['AGE', wgt]\n",
    "    df = cps_1mo(cps_dir, date, cols)\n",
    "\n",
    "    data = df.groupby('AGE')[wgt].sum()\n",
    "    tot = data.sum()\n",
    "    t[name]['tot'] = tot\n",
    "    d[name]['0--15'] = data.loc[:'15'].sum() / tot\n",
    "    d[name]['16--24'] = data.loc['16':'24'].sum() / tot\n",
    "    d[name]['25--34'] = data.loc['25':'34'].sum() / tot\n",
    "    d[name]['35--44'] = data.loc['25':'34'].sum() / tot\n",
    "    d[name]['45--54'] = data.loc['25':'34'].sum() / tot\n",
    "    d[name]['55--64'] = data.loc['25':'34'].sum() / tot\n",
    "    d[name]['65--74'] = data.loc['65':'74'].sum() / tot\n",
    "    d[name]['25--54'] = data.loc['25':'54'].sum() / tot\n",
    "    d[name]['65+'] = data.loc['65':].sum() / tot\n",
    "    \n",
    "result = pd.DataFrame(d) * 100\n",
    "result[['1989', 'Latest']].to_csv(data_dir / 'cps_age.csv', \n",
    "                                  index_label='name')\n",
    "\n",
    "pop = f'{t[\"Latest\"][\"tot\"] / 1_000_000:.0f}'\n",
    "popp = f'{t[\"1989\"][\"tot\"] / 1_000_000:.0f}'\n",
    "ldate = dtxt(cps_date())['mon1']\n",
    "popgr = f'{((t[\"Latest\"][\"tot\"] / t[\"Prev\"][\"tot\"]) - 1) * 100:.1f}'\n",
    "\n",
    "u18 = d['Latest']['0--17'] * 100\n",
    "prer = d['Latest']['45--64'] * 100\n",
    "o64 = d['Latest']['65+'] * 100\n",
    "u18p = d['1989']['0--17'] * 100\n",
    "prerp = d['1989']['45--64'] * 100\n",
    "o64p = d['1989']['65+'] * 100\n",
    "\n",
    "# Population growth estimate retrieved from Census API\n",
    "census = Path(text_dir / 'pop_growth_percent.txt').read_text()\n",
    "\n",
    "qual = '; ' if popgr == census.replace(' percent', '') else ', though'\n",
    "\n",
    "text = (f'The CPS civilian noninstitutionalized population is {pop} '+\n",
    "        f'million in the year ending {ldate}, with growth of '+\n",
    "        f'{popgr} percent over the past year{qual} the official Census '+\n",
    "        f'population growth estimate is {census}. By age, '+\n",
    "        f'{u18:.1f} percent are under the age of 18 and {o64:.1f} '+\n",
    "        f'percent are age 65 or older. In 1989, the US population '+\n",
    "        f'was {popp} million, with {u18p:.1f} percent under 18 and '+\n",
    "        f'{o64p:.1f} percent 65 or older. The pre-retirement age '+\n",
    "        '(45--64) share of the population has increased to '+\n",
    "        f'{prer:.1f} percent in the year ending {ldate} from '+\n",
    "        f'{prerp:.1f} percent in 1989. ')\n",
    "\n",
    "write_txt(text_dir / 'cps_age.txt', text)    \n",
    "print(text)"
   ]
  },
  {
   "cell_type": "code",
   "execution_count": null,
   "metadata": {},
   "outputs": [],
   "source": []
  },
  {
   "cell_type": "code",
   "execution_count": null,
   "metadata": {},
   "outputs": [],
   "source": []
  },
  {
   "cell_type": "markdown",
   "metadata": {},
   "source": [
    "### Education"
   ]
  },
  {
   "cell_type": "code",
   "execution_count": null,
   "metadata": {
    "ExecuteTime": {
     "end_time": "2022-02-09T17:13:45.435418Z",
     "start_time": "2022-02-09T17:13:44.982556Z"
    }
   },
   "outputs": [],
   "source": [
    "cols = ['EDUCDT', 'EDUC', 'BASICWGT', 'AGE', 'MONTH', 'YEAR', 'LFS', 'HRSACTT', 'FEMALE']\n",
    "\n",
    "educdt2 = lambda x: np.where(x.EDUCDT == 'Some college but no degree', 'SCND', \n",
    "                    np.where(x.EDUCDT == 'Associate degree-occupational/vocational', 'VOC',\n",
    "                    np.where(x.EDUCDT == 'Associate degree-academic program', 'AAD', x.EDUC)))\n",
    "\n",
    "df = cps_12mo(cps_dir, cps_date(), cols).query('AGE > 24').assign(EDUCDT2 = educdt2)\n",
    "date2000 = pd.to_datetime('2000-12-01')\n",
    "df2 = cps_12mo(cps_dir, date2000, cols).query('AGE > 24').assign(EDUCDT2 = educdt2)\n",
    "\n",
    "df3 = df.query('LFS == \"Employed\"')\n",
    "df4 = df2.query('LFS == \"Employed\"')\n",
    "\n",
    "data = pd.DataFrame()\n",
    "\n",
    "data['2000'] = df2.groupby('EDUCDT2').BASICWGT.sum() / df2.BASICWGT.sum() * 100\n",
    "data['latest'] = df.groupby('EDUCDT2').BASICWGT.sum() / df.BASICWGT.sum() * 100\n",
    "\n",
    "data['2000_emp'] = df4.groupby('EDUCDT2').BASICWGT.sum() / df4.BASICWGT.sum() * 100\n",
    "data['latest_emp'] = df3.groupby('EDUCDT2').BASICWGT.sum() / df3.BASICWGT.sum() * 100\n",
    "\n",
    "data = data.loc[['LTHS', 'HS', 'SCND', 'VOC', 'AAD', 'COLL', 'ADV']]\n",
    "\n",
    "data.index = ['No High School Diploma', 'High School Diploma', 'Some College, No Degree', \n",
    "              'Associate Degree,\\\\\\*Vocational',\n",
    "              'Associate Degree,\\\\\\*Academic', \"Bachelor's Degree\", 'Advanced Degree']\n",
    "\n",
    "data.to_csv(data_dir / 'cps_educ.csv', sep=';', index_label='name')"
   ]
  },
  {
   "cell_type": "code",
   "execution_count": null,
   "metadata": {
    "ExecuteTime": {
     "end_time": "2022-02-09T17:13:54.009257Z",
     "start_time": "2022-02-09T17:13:53.970188Z"
    }
   },
   "outputs": [],
   "source": [
    "tot = (df.groupby('EDUC').BASICWGT.sum() / 12_000_000).loc[['LTHS', 'HS', 'SC', 'COLL', 'ADV']]\n",
    "tot.index = ['No High School Diploma', 'High School Diploma', 'Some College or Associate Degree', \n",
    "             \"Bachelor's Degree\", 'Advanced Degree']\n",
    "tot.to_csv(data_dir / 'cps_educ_tot.csv', index_label='name', header=True)\n",
    "\n",
    "ltdate = dtxt(cps_date())['mon1']\n",
    "write_txt(text_dir / 'cps_ltdate.txt', ltdate)\n",
    "ba_adv_tot = tot[\"Bachelor's Degree\"] + tot['Advanced Degree']\n",
    "ba_adv_sh = (data.loc[\"Bachelor's Degree\", 'latest'] + \n",
    "             data.loc['Advanced Degree', 'latest'])\n",
    "\n",
    "adv_tot = tot['Advanced Degree']\n",
    "adv_sh = data.loc['Advanced Degree', 'latest']\n",
    "\n",
    "sc_tot = tot['Some College or Associate Degree']\n",
    "\n",
    "hs_tot = tot['High School Diploma']\n",
    "\n",
    "lths_tot = tot['No High School Diploma']\n",
    "\n",
    "text = (f'Over the year ending {ltdate}, {ba_adv_tot:.1f} million '+\n",
    "        f'people over the age of 25, or {ba_adv_sh:.1f} percent of the total, '+\n",
    "        f\"have at least a bachelor's degree, with {adv_tot:.1f} million of \"+\n",
    "        f'those, or {adv_sh:.1f} percent of the total, holding '+\n",
    "        \"an advanced degree such as a master's degree, medical or law degree, or PhD. \"+\n",
    "        f'An additional {sc_tot:.1f} million people have some college coursework '+\n",
    "        f'but no degree or have an associate degree. A total of {hs_tot:.1f} million '+\n",
    "        f'have a high school diploma but no college, while {lths_tot:.1f} million '+\n",
    "        f'have no high school diploma.')\n",
    "write_txt(text_dir / 'cps_educ.txt', text)\n",
    "write_txt(text_dir / 'cps_ltdate.txt', ltdate)\n",
    "print(text)"
   ]
  },
  {
   "cell_type": "code",
   "execution_count": null,
   "metadata": {
    "ExecuteTime": {
     "end_time": "2022-02-09T17:13:56.762632Z",
     "start_time": "2022-02-09T17:13:56.756134Z"
    }
   },
   "outputs": [],
   "source": [
    "ba_adv_sh_pr = (data.loc[\"Bachelor's Degree\", '2000'] + \n",
    "                data.loc['Advanced Degree', '2000'])\n",
    "ba_adv_sh_ch = ba_adv_sh - ba_adv_sh_pr\n",
    "ba_adv_sh_emp = (data.loc[\"Bachelor's Degree\", 'latest_emp'] + \n",
    "                 data.loc['Advanced Degree', 'latest_emp'])\n",
    "ba_adv_sh_emp_pr = (data.loc[\"Bachelor's Degree\", '2000_emp'] + \n",
    "                    data.loc['Advanced Degree', '2000_emp'])\n",
    "ba_adv_sh_emp_ch = ba_adv_sh_emp - ba_adv_sh_emp_pr\n",
    "\n",
    "text = (\"The share of the population with a bachelor's degree or advanced degree \"+\n",
    "        f\"increased by {ba_adv_sh_ch:.1f} percentage points since 2000. The increase \"+\n",
    "        \"is even more pronounced among those who are employed; \"+\n",
    "        f\"{ba_adv_sh_emp:.1f} percent have a college degree or advanced degree in {ltdate}, an \"+\n",
    "        f\"increase of {ba_adv_sh_emp_ch:.1f} percentage points since 2000. \")\n",
    "write_txt(text_dir / 'cps_educ2.txt', text)\n",
    "print(text)"
   ]
  },
  {
   "cell_type": "code",
   "execution_count": null,
   "metadata": {},
   "outputs": [],
   "source": []
  },
  {
   "cell_type": "code",
   "execution_count": null,
   "metadata": {},
   "outputs": [],
   "source": []
  },
  {
   "cell_type": "code",
   "execution_count": null,
   "metadata": {},
   "outputs": [],
   "source": []
  }
 ],
 "metadata": {
  "kernelspec": {
   "display_name": "Python 3",
   "language": "python",
   "name": "python3"
  },
  "language_info": {
   "codemirror_mode": {
    "name": "ipython",
    "version": 3
   },
   "file_extension": ".py",
   "mimetype": "text/x-python",
   "name": "python",
   "nbconvert_exporter": "python",
   "pygments_lexer": "ipython3",
   "version": "3.8.8"
  }
 },
 "nbformat": 4,
 "nbformat_minor": 2
}
