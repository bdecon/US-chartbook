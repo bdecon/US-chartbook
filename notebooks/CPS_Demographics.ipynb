{
 "cells": [
  {
   "cell_type": "markdown",
   "metadata": {},
   "source": [
    "## CPS Demographics\n",
    "\n",
    "Data on headship, age, and education, calculated from basic monthly CPS microdata files"
   ]
  },
  {
   "cell_type": "code",
   "execution_count": null,
   "metadata": {},
   "outputs": [],
   "source": []
  },
  {
   "cell_type": "code",
   "execution_count": 1,
   "metadata": {
    "ExecuteTime": {
     "end_time": "2023-03-11T00:34:51.577969Z",
     "start_time": "2023-03-11T00:34:50.529526Z"
    }
   },
   "outputs": [],
   "source": [
    "import sys\n",
    "sys.path.append('../src')\n",
    "\n",
    "import uschartbook.config\n",
    "\n",
    "from uschartbook.config import *\n",
    "from uschartbook.utils import *"
   ]
  },
  {
   "cell_type": "markdown",
   "metadata": {},
   "source": [
    "### Headship"
   ]
  },
  {
   "cell_type": "code",
   "execution_count": 2,
   "metadata": {
    "ExecuteTime": {
     "end_time": "2023-03-11T00:34:59.391273Z",
     "start_time": "2023-03-11T00:34:51.581412Z"
    }
   },
   "outputs": [
    {
     "name": "stdout",
     "output_type": "stream",
     "text": [
      "The headship rate reached a low of 49.17 percent during May 2020, and is currently 50.05 percent, as of December 2022 (see {\\color{purple!70!violet}\\textbf{---}}). \n"
     ]
    },
    {
     "name": "stderr",
     "output_type": "stream",
     "text": [
      "/home/brian/miniconda3/lib/python3.8/site-packages/statsmodels/tsa/x13.py:203: X13Warning: WARNING: At least one visually significant trading day peak has been\n",
      "          found in one or more of the estimated spectra.\n",
      "  warn(errors, X13Warning)\n"
     ]
    }
   ],
   "source": [
    "cols = ['QSTNUM', 'AGE', 'YEAR', 'MONTH', 'HHWGT', 'PWSSWGT']\n",
    "df = pd.concat([pd.read_feather(f'{cps_dir}/cps{year}.ft', columns=cols)\n",
    "                  .query('AGE > 15') \n",
    "                for year in range(1996, 2023)])\n",
    "\n",
    "headship_rate = (lambda grp: grp.groupby('QSTNUM').HHWGT.first().sum()\n",
    "                 / grp.PWSSWGT.sum())\n",
    "\n",
    "data = (df.groupby(['YEAR', 'MONTH']).apply(headship_rate)).reset_index()\n",
    "data['DATE'] = pd.to_datetime(dict(year=data.YEAR, month=data.MONTH, day=1))\n",
    "data = data.set_index('DATE').drop(['YEAR', 'MONTH'], axis=1)\n",
    "\n",
    "sm = x13_arima_analysis(data[0])\n",
    "result = sm.seasadj * 100\n",
    "result.name = 'value'\n",
    "result.to_csv(data_dir / 'headship.csv', index_label='date', header=True)\n",
    "\n",
    "color = 'purple!70!violet'\n",
    "node = end_node(result, color, date='m', digits=2, full_year=True)\n",
    "write_txt(text_dir / 'headship_node.txt', node)\n",
    "\n",
    "low = result.min()\n",
    "low_dt = dtxt(result.idxmin())['mon1']\n",
    "lt = result.iloc[-1]\n",
    "lt_dt = dtxt(result.index[-1])['mon1']\n",
    "feb = result.loc['2020-02-01']\n",
    "\n",
    "cl = c_line(color)\n",
    "text = (f'The headship rate reached a low of {low:.2f} percent during '+\n",
    "        f'{low_dt}, and is currently {lt:.2f} percent, as of {lt_dt} '+\n",
    "        f'{cl}. ')\n",
    "write_txt(text_dir / 'headship.txt', text)\n",
    "print(text)"
   ]
  },
  {
   "cell_type": "code",
   "execution_count": null,
   "metadata": {},
   "outputs": [],
   "source": []
  },
  {
   "cell_type": "code",
   "execution_count": null,
   "metadata": {},
   "outputs": [],
   "source": []
  },
  {
   "cell_type": "markdown",
   "metadata": {},
   "source": [
    "### Median Age"
   ]
  },
  {
   "cell_type": "code",
   "execution_count": 3,
   "metadata": {
    "ExecuteTime": {
     "end_time": "2023-03-11T00:35:24.086074Z",
     "start_time": "2023-03-11T00:34:59.392862Z"
    }
   },
   "outputs": [],
   "source": [
    "cols = ['YEAR', 'MONTH', 'AGE', 'BASICWGT', 'LFS']\n",
    "dfe = pd.concat([pd.read_feather(f'{cps_dir}/cps{year}.ft', \n",
    "                                columns=cols)\n",
    "                for year in range(1989, 1994)])\n",
    "dfl = pd.concat([pd.read_feather(f'{cps_dir}/cps{year}.ft', \n",
    "                                columns=cols + ['PWSSWGT'])\n",
    "                for year in range(1994, 2023)])\n",
    "df = pd.concat([dfe, dfl])\n",
    "\n",
    "grps = [('AGE16PLUS', 'BASICWGT', 'YEAR > 1988 and AGE > 15'), \n",
    "        ('PWSSWGT', 'PWSSWGT', 'YEAR > 1988'), \n",
    "        ('BASICWGT', 'BASICWGT', 'YEAR < 1998'), \n",
    "        ('EMP', 'BASICWGT', 'LFS == \"Employed\"')]\n",
    "date = lambda x: pd.to_datetime(dict(year=x.YEAR, \n",
    "                                     month=x.MONTH, day=1))\n",
    "data = pd.concat(\n",
    "    [df.query(query)\n",
    "       .groupby(['YEAR', 'MONTH'])\n",
    "       .apply(lambda x: median_age(x, wgt))\n",
    "       .rename(name).reset_index()\n",
    "       .assign(date = date).set_index('date')\n",
    "       .drop(['YEAR', 'MONTH'], axis=1) \n",
    "     for name, wgt, query in grps], axis=1)\n",
    "data['ALL'] = pd.concat([data.loc['1989':'1993', 'BASICWGT'], \n",
    "                         data.loc['1994':, 'PWSSWGT']])\n",
    "res = data.loc['1990':, ['AGE16PLUS', 'EMP', 'ALL']]\n",
    "res.to_csv(data_dir / 'median_age.csv', \n",
    "           index_label='date', float_format='%g')"
   ]
  },
  {
   "cell_type": "code",
   "execution_count": 4,
   "metadata": {
    "ExecuteTime": {
     "end_time": "2023-03-11T00:35:24.097767Z",
     "start_time": "2023-03-11T00:35:24.087922Z"
    }
   },
   "outputs": [
    {
     "name": "stdout",
     "output_type": "stream",
     "text": [
      "The \\textbf{median age} is the midpoint for the age of a group; half of the group is older and half is younger. Tracking this point over time summarizes the age composition of the group. As a population ages, the median age will increase.\n",
      "\n",
      "The median age of the overall civilian noninstitutionalized population, calculated from the Current Population Survey (CPS), is 38.2, as of December 2022, compared to 31.3 in January 1990 (see {\\color{blue!60!cyan}\\textbf{---}}). The median worker is 41 in December 2022, and 35.5 in January 1990 (see {\\color{red}\\textbf{---}}).\n"
     ]
    }
   ],
   "source": [
    "res = pd.read_csv(data_dir / 'median_age.csv', \n",
    "                  index_col='date', parse_dates=True)\n",
    "allcol = 'blue!60!cyan'\n",
    "a16col = 'violet'\n",
    "empcol = 'red'\n",
    "grps = [('ALL', allcol, None, 0), ('AGE16PLUS', a16col, 'm', 0.17),\n",
    "        ('EMP', empcol, None, 0)]\n",
    "\n",
    "nodes = '\\n'.join([end_node(res[srs], col, date=dt, loc=loc, \n",
    "                            offset=offset,\n",
    "                            full_year=True, colon=False) \n",
    "                   for (srs, col, dt, offset), loc \n",
    "                   in itertools.product(grps, ['end', 'start'])])\n",
    "write_txt(text_dir / 'med_age_node.txt', nodes) \n",
    "\n",
    "def drop_zero(value):\n",
    "    '''\n",
    "    Return text string with value but drop .0 if value ends in .0\n",
    "    '''\n",
    "    return (f'{value:.0f}' if round(value, 1) % 1 == 0.0 \n",
    "            else f'{value:.1f}')\n",
    "\n",
    "ltval = drop_zero(res.ALL.iloc[-1])\n",
    "ltdt = dtxt(res.index[-1])['mon1']\n",
    "prval = drop_zero(res.ALL.iloc[0])\n",
    "prdt = dtxt(res.index[0])['mon1']\n",
    "ltwval = drop_zero(res.EMP.iloc[-1])\n",
    "prwval = drop_zero(res.EMP.iloc[0])\n",
    "text = ('The \\\\textbf{median age} is the midpoint for the age of a '+\n",
    "        'group; half of the group is older and half is younger. '+\n",
    "        'Tracking this point over time summarizes the age composition '+\n",
    "        'of the group. As a population ages, the median age will '+\n",
    "        'increase.\\n\\nThe median age of the overall civilian non'+\n",
    "        'institutionalized population, calculated from the Current '+\n",
    "        f'Population Survey (CPS), is {ltval}, as of {ltdt}, compared '+\n",
    "        f'to {prval} in {prdt} {c_line(allcol)}. The median worker '+\n",
    "        f'is {ltwval} in {ltdt}, and {prwval} in {prdt} '+\n",
    "        f'{c_line(empcol)}.')\n",
    "write_txt(text_dir / 'med_age.txt', text) \n",
    "print(text)"
   ]
  },
  {
   "cell_type": "code",
   "execution_count": null,
   "metadata": {},
   "outputs": [],
   "source": []
  },
  {
   "cell_type": "code",
   "execution_count": null,
   "metadata": {},
   "outputs": [],
   "source": []
  },
  {
   "cell_type": "markdown",
   "metadata": {},
   "source": [
    "### Age Groups / Composition"
   ]
  },
  {
   "cell_type": "code",
   "execution_count": 5,
   "metadata": {
    "ExecuteTime": {
     "end_time": "2023-03-11T00:35:24.240045Z",
     "start_time": "2023-03-11T00:35:24.098849Z"
    }
   },
   "outputs": [],
   "source": [
    "write_txt(text_dir / 'cps_age_dt.txt', dtxt(cps_date())['mon2'])\n",
    "grps = [('0--15', '0', '15'), ('16--24', '16', '24'),\n",
    "        ('25--34', '25', '34'), ('35--44', '35', '44'),\n",
    "        ('45--54', '45', '54'), ('55--64', '55', '64'),\n",
    "        ('65--74', '65', '74'), ('0--17', '0', '17'),\n",
    "        ('25--54', '25', '54'), ('65+', '65', '85')]\n",
    "col = ['AGE', 'PWSSWGT']\n",
    "lt = (cps_1mo(cps_dir, cps_date(), col)\n",
    "      .groupby('AGE')[col[-1]].sum())\n",
    "col = ['AGE', 'BASICWGT']\n",
    "py = '1989'\n",
    "pr = (cps_1mo(cps_dir, pd.to_datetime(f'{py}-01-01'), col)\n",
    "      .groupby('AGE')[col[-1]].sum())\n",
    "sh, tot = pd.DataFrame(), pd.DataFrame()\n",
    "totlt, totpr = lt.sum() / 1_000_000, pr.sum() / 1_000_000\n",
    "tot['Latest'] = (pd.Series({name: lt.loc[a1:a2].sum() \n",
    "                          for name, a1, a2 in grps}) \n",
    "                 / 1_000_000)\n",
    "sh['Latest'] = (tot.Latest / totlt) * 100\n",
    "tot['Prev'] = (pd.Series({name: pr.loc[a1:a2].sum() \n",
    "                          for name, a1, a2 in grps})\n",
    "               / 1_000_000)\n",
    "sh['Prev'] = (tot.Prev / totpr) * 100\n",
    "sh.to_csv(data_dir / 'cps_age.csv', index_label='name', \n",
    "          float_format='%g')\n",
    "ltdt = dtxt(cps_date())['mon1']"
   ]
  },
  {
   "cell_type": "code",
   "execution_count": 6,
   "metadata": {
    "ExecuteTime": {
     "end_time": "2023-03-11T00:35:24.247080Z",
     "start_time": "2023-03-11T00:35:24.241315Z"
    }
   },
   "outputs": [
    {
     "name": "stdout",
     "output_type": "stream",
     "text": [
      "The noninstitutionalized civilian population used in most labor statistics totals 329.5 million in January 2023. Of this, 19.3 percent are under the working age of 16, equivalent to 63.6 million people. In 1989, the under-16 population was 23.4 percent of the total. The juvenile population, those under 18, is 72.7 million, equivalent to 22.1 percent of the population in January 2023, and compared to 26.3 percent in 1989.\n",
      "\n",
      "Traditionally, the prime working age is between 25 and 54. In January 2023, 127.7 million people, 38.7 percent of the population, are age 25 to 54. In 1989, 42.3 percent of the population is age 25 to 54. The age 55 to 64 group is 12.6 percent of the population in the latest data and 8.9 percent in 1989. Those above the age of 65 comprise 17.4 percent in January 2023 and 11.9 percent in 1989. \n"
     ]
    }
   ],
   "source": [
    "sht = sh.applymap('{:.1f} percent'.format)\n",
    "tott = tot.applymap('{:.1f} million'.format)\n",
    "text = ('The noninstitutionalized civilian population '+\n",
    "        'used in most labor statistics totals '+\n",
    "        f'{totlt:.1f} million in {ltdt}. '+\n",
    "        f'Of this, {sht.loc[\"0--15\",\"Latest\"]} '+\n",
    "        'are under the working age of 16, '+\n",
    "        f'equivalent to {tott.loc[\"0--15\",\"Latest\"]} '+\n",
    "        'people. In 1989, the under-16 population '+\n",
    "        f'was {sht.loc[\"0--15\",\"Prev\"]} '+\n",
    "        'of the total. The juvenile population, those '+\n",
    "        f'under 18, is {tott.loc[\"0--17\",\"Latest\"]}, '+\n",
    "        f'equivalent to {sht.loc[\"0--17\",\"Latest\"]} of '+\n",
    "        f'the population in {ltdt}, and compared to '+\n",
    "        f'{sht.loc[\"0--17\",\"Prev\"]} in 1989.\\n\\n'+\n",
    "        'Traditionally, the prime working age is '+\n",
    "        f'between 25 and 54. In {ltdt}, '+\n",
    "        f'{tott.loc[\"25--54\", \"Latest\"]} people, '+\n",
    "        f'{sht.loc[\"25--54\", \"Latest\"]} of '+\n",
    "        f'the population, are age 25 to 54. In 1989, '+\n",
    "        f'{sht.loc[\"25--54\", \"Prev\"]} of the '+\n",
    "        'population is age 25 to 54. The age 55 to 64 group '+\n",
    "        f'is {sht.loc[\"55--64\", \"Latest\"]} of '+\n",
    "        'the population in the latest data and '+\n",
    "        f'{sht.loc[\"55--64\", \"Prev\"]} in 1989. Those '+\n",
    "        'above the age of 65 comprise '+\n",
    "        f'{sht.loc[\"65+\", \"Latest\"]} in {ltdt} and '+\n",
    "        f'{sht.loc[\"65+\", \"Prev\"]} in 1989. ')\n",
    "write_txt(text_dir / 'cps_age.txt', text)    \n",
    "print(text)"
   ]
  },
  {
   "cell_type": "code",
   "execution_count": null,
   "metadata": {},
   "outputs": [],
   "source": []
  },
  {
   "cell_type": "code",
   "execution_count": null,
   "metadata": {},
   "outputs": [],
   "source": []
  },
  {
   "cell_type": "markdown",
   "metadata": {},
   "source": [
    "### Education"
   ]
  },
  {
   "cell_type": "code",
   "execution_count": 7,
   "metadata": {
    "ExecuteTime": {
     "end_time": "2023-03-11T00:35:24.669764Z",
     "start_time": "2023-03-11T00:35:24.248180Z"
    }
   },
   "outputs": [
    {
     "name": "stderr",
     "output_type": "stream",
     "text": [
      "/home/brian/Documents/uschartbook/notebooks/../src/uschartbook/utils.py:644: FutureWarning: The frame.append method is deprecated and will be removed from pandas in a future version. Use pandas.concat instead.\n",
      "  df = (pd.read_feather(cps_dir / f'cps{cps_year1}.ft', columns=cols)\n"
     ]
    }
   ],
   "source": [
    "cols = ['EDUCDT', 'EDUC', 'BASICWGT', 'AGE', 'MONTH', 'YEAR', 'LFS', 'HRSACTT', 'FEMALE']\n",
    "\n",
    "educdt2 = lambda x: np.where(x.EDUCDT == 'Some college but no degree', 'SCND', \n",
    "                    np.where(x.EDUCDT == 'Associate degree-occupational/vocational', 'VOC',\n",
    "                    np.where(x.EDUCDT == 'Associate degree-academic program', 'AAD', x.EDUC)))\n",
    "\n",
    "df = cps_12mo(cps_dir, cps_date(), cols).query('AGE > 24').assign(EDUCDT2 = educdt2)\n",
    "date2000 = pd.to_datetime('2000-12-01')\n",
    "df2 = cps_12mo(cps_dir, date2000, cols).query('AGE > 24').assign(EDUCDT2 = educdt2)\n",
    "\n",
    "df3 = df.query('LFS == \"Employed\"')\n",
    "df4 = df2.query('LFS == \"Employed\"')\n",
    "\n",
    "data = pd.DataFrame()\n",
    "\n",
    "data['2000'] = df2.groupby('EDUCDT2').BASICWGT.sum() / df2.BASICWGT.sum() * 100\n",
    "data['latest'] = df.groupby('EDUCDT2').BASICWGT.sum() / df.BASICWGT.sum() * 100\n",
    "\n",
    "data['2000_emp'] = df4.groupby('EDUCDT2').BASICWGT.sum() / df4.BASICWGT.sum() * 100\n",
    "data['latest_emp'] = df3.groupby('EDUCDT2').BASICWGT.sum() / df3.BASICWGT.sum() * 100\n",
    "\n",
    "data = data.loc[['LTHS', 'HS', 'SCND', 'VOC', 'AAD', 'COLL', 'ADV']]\n",
    "\n",
    "data.index = ['No High School Diploma', 'High School Diploma', 'Some College, No Degree', \n",
    "              'Associate Degree,\\\\\\*Vocational',\n",
    "              'Associate Degree,\\\\\\*Academic', \"Bachelor's Degree\", 'Advanced Degree']\n",
    "\n",
    "data.to_csv(data_dir / 'cps_educ.csv', sep=';', index_label='name')"
   ]
  },
  {
   "cell_type": "code",
   "execution_count": 8,
   "metadata": {
    "ExecuteTime": {
     "end_time": "2023-03-11T00:35:24.737915Z",
     "start_time": "2023-03-11T00:35:24.671410Z"
    }
   },
   "outputs": [
    {
     "name": "stdout",
     "output_type": "stream",
     "text": [
      "Over the year ending January 2023, 86.1 million people over the age of 25, or 38.1 percent of the total, have at least a bachelor's degree, with 32.9 million of those, or 14.5 percent of the total, holding an advanced degree such as a master's degree, medical or law degree, or PhD. An additional 56.6 million people have some college coursework but no degree or have an associate degree. A total of 63.7 million have a high school diploma but no college, while 19.7 million have no high school diploma.\n"
     ]
    }
   ],
   "source": [
    "tot = (df.groupby('EDUC').BASICWGT.sum() / 12_000_000).loc[['LTHS', 'HS', 'SC', 'COLL', 'ADV']]\n",
    "tot.index = ['No High School Diploma', 'High School Diploma', 'Some College or Associate Degree', \n",
    "             \"Bachelor's Degree\", 'Advanced Degree']\n",
    "tot.to_csv(data_dir / 'cps_educ_tot.csv', index_label='name', header=True)\n",
    "\n",
    "ltdate = dtxt(cps_date())['mon1']\n",
    "write_txt(text_dir / 'cps_ltdate.txt', ltdate)\n",
    "yrdate = dtxt(cps_date() - pd.DateOffset(years=1))['mon1']\n",
    "write_txt(text_dir / 'cps_yrdate.txt', yrdate)\n",
    "ba_adv_tot = tot[\"Bachelor's Degree\"] + tot['Advanced Degree']\n",
    "ba_adv_sh = (data.loc[\"Bachelor's Degree\", 'latest'] + \n",
    "             data.loc['Advanced Degree', 'latest'])\n",
    "\n",
    "adv_tot = tot['Advanced Degree']\n",
    "adv_sh = data.loc['Advanced Degree', 'latest']\n",
    "\n",
    "sc_tot = tot['Some College or Associate Degree']\n",
    "\n",
    "hs_tot = tot['High School Diploma']\n",
    "\n",
    "lths_tot = tot['No High School Diploma']\n",
    "\n",
    "text = (f'Over the year ending {ltdate}, {ba_adv_tot:.1f} million '+\n",
    "        f'people over the age of 25, or {ba_adv_sh:.1f} percent of the total, '+\n",
    "        f\"have at least a bachelor's degree, with {adv_tot:.1f} million of \"+\n",
    "        f'those, or {adv_sh:.1f} percent of the total, holding '+\n",
    "        \"an advanced degree such as a master's degree, medical or law degree, or PhD. \"+\n",
    "        f'An additional {sc_tot:.1f} million people have some college coursework '+\n",
    "        f'but no degree or have an associate degree. A total of {hs_tot:.1f} million '+\n",
    "        f'have a high school diploma but no college, while {lths_tot:.1f} million '+\n",
    "        f'have no high school diploma.')\n",
    "write_txt(text_dir / 'cps_educ.txt', text)\n",
    "print(text)"
   ]
  },
  {
   "cell_type": "code",
   "execution_count": 9,
   "metadata": {
    "ExecuteTime": {
     "end_time": "2023-03-11T00:35:24.743942Z",
     "start_time": "2023-03-11T00:35:24.739505Z"
    }
   },
   "outputs": [
    {
     "name": "stdout",
     "output_type": "stream",
     "text": [
      "The share of the population with a bachelor's degree or advanced degree increased by 12.2 percentage points since 2000. The increase is even more pronounced among those who are employed; 44.2 percent have a college degree or advanced degree in January 2023, an increase of 13.3 percentage points since 2000. \n"
     ]
    }
   ],
   "source": [
    "ba_adv_sh_pr = (data.loc[\"Bachelor's Degree\", '2000'] + \n",
    "                data.loc['Advanced Degree', '2000'])\n",
    "ba_adv_sh_ch = ba_adv_sh - ba_adv_sh_pr\n",
    "ba_adv_sh_emp = (data.loc[\"Bachelor's Degree\", 'latest_emp'] + \n",
    "                 data.loc['Advanced Degree', 'latest_emp'])\n",
    "ba_adv_sh_emp_pr = (data.loc[\"Bachelor's Degree\", '2000_emp'] + \n",
    "                    data.loc['Advanced Degree', '2000_emp'])\n",
    "ba_adv_sh_emp_ch = ba_adv_sh_emp - ba_adv_sh_emp_pr\n",
    "\n",
    "text = (\"The share of the population with a bachelor's degree or advanced degree \"+\n",
    "        f\"increased by {ba_adv_sh_ch:.1f} percentage points since 2000. The increase \"+\n",
    "        \"is even more pronounced among those who are employed; \"+\n",
    "        f\"{ba_adv_sh_emp:.1f} percent have a college degree or advanced degree in {ltdate}, an \"+\n",
    "        f\"increase of {ba_adv_sh_emp_ch:.1f} percentage points since 2000. \")\n",
    "write_txt(text_dir / 'cps_educ2.txt', text)\n",
    "print(text)"
   ]
  },
  {
   "cell_type": "code",
   "execution_count": null,
   "metadata": {},
   "outputs": [],
   "source": []
  },
  {
   "cell_type": "code",
   "execution_count": null,
   "metadata": {},
   "outputs": [],
   "source": []
  },
  {
   "cell_type": "code",
   "execution_count": null,
   "metadata": {},
   "outputs": [],
   "source": []
  }
 ],
 "metadata": {
  "kernelspec": {
   "display_name": "Python 3 (ipykernel)",
   "language": "python",
   "name": "python3"
  },
  "language_info": {
   "codemirror_mode": {
    "name": "ipython",
    "version": 3
   },
   "file_extension": ".py",
   "mimetype": "text/x-python",
   "name": "python",
   "nbconvert_exporter": "python",
   "pygments_lexer": "ipython3",
   "version": "3.8.13"
  }
 },
 "nbformat": 4,
 "nbformat_minor": 2
}
