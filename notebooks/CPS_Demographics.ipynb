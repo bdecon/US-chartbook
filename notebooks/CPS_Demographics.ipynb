{
 "cells": [
  {
   "cell_type": "markdown",
   "metadata": {},
   "source": [
    "## CPS Demographics\n",
    "\n",
    "Data on headship, age, and education, calculated from basic monthly CPS microdata files"
   ]
  },
  {
   "cell_type": "code",
   "execution_count": 1,
   "metadata": {
    "ExecuteTime": {
     "end_time": "2022-01-14T17:41:10.781987Z",
     "start_time": "2022-01-14T17:41:10.090431Z"
    }
   },
   "outputs": [],
   "source": [
    "import sys\n",
    "sys.path.append('../src')\n",
    "\n",
    "import uschartbook.config\n",
    "\n",
    "from uschartbook.config import *\n",
    "from uschartbook.utils import *"
   ]
  },
  {
   "cell_type": "markdown",
   "metadata": {},
   "source": [
    "### Headship"
   ]
  },
  {
   "cell_type": "code",
   "execution_count": 2,
   "metadata": {
    "ExecuteTime": {
     "end_time": "2022-01-14T17:41:21.033275Z",
     "start_time": "2022-01-14T17:41:12.575201Z"
    }
   },
   "outputs": [
    {
     "name": "stdout",
     "output_type": "stream",
     "text": [
      "The headship rate reached a low of 49.18 percent during May 2020, and is currently 50.39 percent, as of December 2021. In February 2020, the headship rate was 50.07 percent.\n"
     ]
    }
   ],
   "source": [
    "cols = ['QSTNUM', 'AGE', 'YEAR', 'MONTH', 'HHWGT', 'PWSSWGT']\n",
    "\n",
    "df = pd.concat([pd.read_feather(f'{cps_dir}/cps{year}.ft', columns=cols)\n",
    "                  .query('AGE > 15') \n",
    "                for year in range(1996, 2022)])\n",
    "\n",
    "headship_rate = (lambda grp: grp.groupby('QSTNUM').HHWGT.first().sum()\n",
    "                 / grp.PWSSWGT.sum())\n",
    "\n",
    "data = (df.groupby(['YEAR', 'MONTH']).apply(headship_rate)).reset_index()\n",
    "data['DATE'] = pd.to_datetime(dict(year=data.YEAR, month=data.MONTH, day=1))\n",
    "data = data.set_index('DATE').drop(['YEAR', 'MONTH'], axis=1)\n",
    "\n",
    "sm = x13_arima_analysis(data[0])\n",
    "result = sm.seasadj * 100\n",
    "result.name = 'value'\n",
    "result.to_csv(data_dir / 'headship.csv', index_label='date', header=True)\n",
    "\n",
    "node = end_node3(result, 'red' )\n",
    "write_txt(text_dir / 'headship_node.txt', node)\n",
    "\n",
    "low = result.min()\n",
    "low_dt = dtxt(result.idxmin())['mon1']\n",
    "lt = result.iloc[-1]\n",
    "lt_dt = dtxt(result.index[-1])['mon1']\n",
    "feb = result.loc['2020-02-01']\n",
    "\n",
    "text = (f'The headship rate reached a low of {low:.2f} percent during '+\n",
    "        f'{low_dt}, and is currently {lt:.2f} percent, as of {lt_dt}. '+\n",
    "        f'In February 2020, the headship rate was {feb:.2f} percent.')\n",
    "write_txt(text_dir / 'headship.txt', text)\n",
    "print(text)"
   ]
  },
  {
   "cell_type": "code",
   "execution_count": null,
   "metadata": {},
   "outputs": [],
   "source": []
  },
  {
   "cell_type": "code",
   "execution_count": null,
   "metadata": {},
   "outputs": [],
   "source": []
  },
  {
   "cell_type": "markdown",
   "metadata": {},
   "source": [
    "### Age"
   ]
  },
  {
   "cell_type": "code",
   "execution_count": 3,
   "metadata": {
    "ExecuteTime": {
     "end_time": "2022-01-13T00:31:26.842211Z",
     "start_time": "2022-01-13T00:31:26.573572Z"
    }
   },
   "outputs": [
    {
     "name": "stdout",
     "output_type": "stream",
     "text": [
      "The CPS civilian non-institutionalized population is 325 million in the year ending December 2021, with growth of 0.2 percent over the past year, though other Census population growth estimates are around 0.6 percent. By age, 22.3 percent are under the age of 18 and 17.3 percent are age 65 or older. In 1989, the US population was 244 million, with 26.3 percent under 18 and 12.0 percent 65 or older. The pre-retirement age (45--64) share of the population has increased to 25.0 percent in the year ending December 2021 from 18.9 percent in 1989. \n"
     ]
    }
   ],
   "source": [
    "write_txt(text_dir / 'cps_age_dt.txt', dtxt(cps_date())['mon2'])\n",
    "\n",
    "dates = [('Latest', cps_date()), \n",
    "         ('Prev', cps_date() - pd.DateOffset(years=1)), \n",
    "         ('1989', pd.to_datetime('1989-12-01'))]\n",
    "\n",
    "d = {y: {} for y, d in dates}\n",
    "t = {y: {} for y, d in dates}\n",
    "\n",
    "for name, date in dates:\n",
    "    if date.year > 1993:\n",
    "        wgt = 'PWSSWGT'\n",
    "    else: \n",
    "        wgt = 'BASICWGT'\n",
    "    cols = ['AGE', wgt]\n",
    "    df = cps_12mo(cps_dir, date, cols)\n",
    "\n",
    "    data = df.groupby('AGE')[wgt].sum()\n",
    "    tot = data.sum()\n",
    "    t[name]['tot'] = tot / 12\n",
    "    d[name]['0--17'] = data.loc[:'17'].sum() / tot\n",
    "    d[name]['18--29'] = data.loc['18':'29'].sum() / tot\n",
    "    d[name]['30--44'] = data.loc['30':'44'].sum() / tot\n",
    "    d[name]['45--64'] = data.loc['45':'64'].sum() / tot\n",
    "    d[name]['65+'] = data.loc['65':].sum() / tot\n",
    "    \n",
    "result = pd.DataFrame(d) * 100\n",
    "result[['1989', 'Latest']].to_csv(data_dir / 'cps_age.csv', index_label='name')\n",
    "\n",
    "pop = f'{t[\"Latest\"][\"tot\"] / 1_000_000:.0f}'\n",
    "popp = f'{t[\"1989\"][\"tot\"] / 1_000_000:.0f}'\n",
    "ldate = dtxt(cps_date())['mon1']\n",
    "popgr = f'{((t[\"Latest\"][\"tot\"] / t[\"Prev\"][\"tot\"]) - 1) * 100:.1f}'\n",
    "\n",
    "u18 = d['Latest']['0--17'] * 100\n",
    "prer = d['Latest']['45--64'] * 100\n",
    "o64 = d['Latest']['65+'] * 100\n",
    "u18p = d['1989']['0--17'] * 100\n",
    "prerp = d['1989']['45--64'] * 100\n",
    "o64p = d['1989']['65+'] * 100\n",
    "\n",
    "if float(popgr) == 0.6:\n",
    "    qual = '; '\n",
    "else:\n",
    "    qual = ', though'\n",
    "\n",
    "\n",
    "text = (f'The CPS civilian non-institutionalized population is {pop} '+\n",
    "        f'million in the year ending {ldate}, with '+\n",
    "        f'growth of {popgr} percent over the past year{qual} other Census '+\n",
    "        f'population growth estimates are around 0.6 percent. By age, {u18:.1f} '+\n",
    "        f'percent are under the age of 18 and {o64:.1f} percent are age '+\n",
    "        f'65 or older. In 1989, the US population was {popp} million, '+\n",
    "        f'with {u18p:.1f} percent under 18 and {o64p:.1f} percent 65 or older. The '+\n",
    "        'pre-retirement age (45--64) share of the population has increased '+\n",
    "        f'to {prer:.1f} percent in the year ending {ldate} from {prerp:.1f} '+\n",
    "        'percent in 1989. ')\n",
    "\n",
    "write_txt(text_dir / 'cps_age.txt', text)    \n",
    "print(text)"
   ]
  },
  {
   "cell_type": "code",
   "execution_count": null,
   "metadata": {},
   "outputs": [],
   "source": []
  },
  {
   "cell_type": "markdown",
   "metadata": {},
   "source": [
    "### Education"
   ]
  },
  {
   "cell_type": "code",
   "execution_count": 4,
   "metadata": {
    "ExecuteTime": {
     "end_time": "2022-01-13T00:31:27.262205Z",
     "start_time": "2022-01-13T00:31:26.843246Z"
    }
   },
   "outputs": [],
   "source": [
    "cols = ['EDUCDT', 'EDUC', 'BASICWGT', 'AGE', 'MONTH', 'YEAR', 'LFS', 'HRSACTT', 'FEMALE']\n",
    "\n",
    "educdt2 = lambda x: np.where(x.EDUCDT == 'Some college but no degree', 'SCND', \n",
    "                   np.where(x.EDUCDT == 'Associate degree-occupational/vocational', 'VOC',\n",
    "                   np.where(x.EDUCDT == 'Associate degree-academic program', 'AAD', x.EDUC)))\n",
    "\n",
    "df = cps_12mo(cps_dir, cps_date(), cols).query('AGE > 24').assign(EDUCDT2 = educdt2)\n",
    "date2000 = pd.to_datetime('2000-12-01')\n",
    "df2 = cps_12mo(cps_dir, date2000, cols).query('AGE > 24').assign(EDUCDT2 = educdt2)\n",
    "\n",
    "df3 = df.query('LFS == \"Employed\"')\n",
    "df4 = df2.query('LFS == \"Employed\"')\n",
    "\n",
    "data = pd.DataFrame()\n",
    "\n",
    "data['2000'] = df2.groupby('EDUCDT2').BASICWGT.sum() / df2.BASICWGT.sum() * 100\n",
    "data['latest'] = df.groupby('EDUCDT2').BASICWGT.sum() / df.BASICWGT.sum() * 100\n",
    "\n",
    "data['2000_emp'] = df4.groupby('EDUCDT2').BASICWGT.sum() / df4.BASICWGT.sum() * 100\n",
    "data['latest_emp'] = df3.groupby('EDUCDT2').BASICWGT.sum() / df3.BASICWGT.sum() * 100\n",
    "\n",
    "data = data.loc[['LTHS', 'HS', 'SCND', 'VOC', 'AAD', 'COLL', 'ADV']]\n",
    "\n",
    "data.index = ['No High School Diploma', 'High School Diploma', 'Some College, No Degree', \n",
    "              'Associate Degree,\\\\\\*Vocational',\n",
    "              'Associate Degree,\\\\\\*Academic', \"Bachelor's Degree\", 'Advanced Degree']\n",
    "\n",
    "data.to_csv(data_dir / 'cps_educ.csv', sep=';', index_label='name')"
   ]
  },
  {
   "cell_type": "code",
   "execution_count": 5,
   "metadata": {
    "ExecuteTime": {
     "end_time": "2022-01-13T00:31:27.301714Z",
     "start_time": "2022-01-13T00:31:27.263226Z"
    }
   },
   "outputs": [
    {
     "name": "stdout",
     "output_type": "stream",
     "text": [
      "Over the year ending December 2021, 84.3 million people over the age of 25, or 37.6 percent of the total, have at least a bachelor's degree, with 31.9 million of those, or 14.2 percent of the total, holding an advanced degree such as a master's degree, medical or law degree, or PhD. An additional 56.7 million people have some college coursework but no degree or have an associate degree. A total of 63.2 million have a high school diploma but no college, while 20.0 million have no high school diploma.\n"
     ]
    }
   ],
   "source": [
    "tot = (df.groupby('EDUC').BASICWGT.sum() / 12000000).loc[['LTHS', 'HS', 'SC', 'COLL', 'ADV']]\n",
    "\n",
    "tot.index = ['No High School Diploma', 'High School Diploma', 'Some College or Associate Degree', \n",
    "             \"Bachelor's Degree\", 'Advanced Degree']\n",
    "\n",
    "tot.to_csv(data_dir / 'cps_educ_tot.csv', index_label='name', header=True)\n",
    "\n",
    "ltdate = dtxt(cps_date())['mon1']\n",
    "\n",
    "ba_adv_tot = tot[\"Bachelor's Degree\"] + tot['Advanced Degree']\n",
    "ba_adv_sh = data.loc[\"Bachelor's Degree\", 'latest'] + data.loc['Advanced Degree', 'latest']\n",
    "\n",
    "adv_tot = tot['Advanced Degree']\n",
    "adv_sh = data.loc['Advanced Degree', 'latest']\n",
    "\n",
    "sc_tot = tot['Some College or Associate Degree']\n",
    "\n",
    "hs_tot = tot['High School Diploma']\n",
    "\n",
    "lths_tot = tot['No High School Diploma']\n",
    "\n",
    "text = (f'Over the year ending {ltdate}, {ba_adv_tot:.1f} million '+\n",
    "        f'people over the age of 25, or {ba_adv_sh:.1f} percent of the total, '+\n",
    "        f\"have at least a bachelor's degree, with {adv_tot:.1f} million of \"+\n",
    "        f'those, or {adv_sh:.1f} percent of the total, holding '+\n",
    "        \"an advanced degree such as a master's degree, medical or law degree, or PhD. \"+\n",
    "        f'An additional {sc_tot:.1f} million people have some college coursework '+\n",
    "        f'but no degree or have an associate degree. A total of {hs_tot:.1f} million '+\n",
    "        f'have a high school diploma but no college, while {lths_tot:.1f} million '+\n",
    "        f'have no high school diploma.')\n",
    "write_txt(text_dir / 'cps_educ.txt', text)\n",
    "write_txt(text_dir / 'cps_ltdate.txt', ltdate)\n",
    "print(text)"
   ]
  },
  {
   "cell_type": "code",
   "execution_count": 6,
   "metadata": {
    "ExecuteTime": {
     "end_time": "2022-01-13T00:31:27.306051Z",
     "start_time": "2022-01-13T00:31:27.302687Z"
    }
   },
   "outputs": [],
   "source": [
    "ba_adv_sh_pr = data.loc[\"Bachelor's Degree\", '2000'] + data.loc['Advanced Degree', '2000']\n",
    "\n",
    "ba_adv_sh_ch = ba_adv_sh - ba_adv_sh_pr\n",
    "\n",
    "ba_adv_sh_emp = data.loc[\"Bachelor's Degree\", 'latest_emp'] + data.loc['Advanced Degree', 'latest_emp']\n",
    "\n",
    "ba_adv_sh_emp_pr = data.loc[\"Bachelor's Degree\", '2000_emp'] + data.loc['Advanced Degree', '2000_emp']\n",
    "ba_adv_sh_emp_ch = ba_adv_sh_emp - ba_adv_sh_emp_pr\n",
    "\n",
    "text = (\"The share of the population with a bachelor's degree or advanced degree \"+\n",
    "        f\"increased by {ba_adv_sh_ch:.1f} percentage points since 2000. The increase \"+\n",
    "        \"is even more pronounced among those who are employed; \"+\n",
    "        f\"{ba_adv_sh_emp:.1f} percent have a college degree or advanced degree in {ltdate}, an \"+\n",
    "        f\"increase of {ba_adv_sh_emp_ch:.1f} percentage points since 2000. \")\n",
    "\n",
    "write_txt(text_dir / 'cps_educ2.txt', text)\n",
    "\n",
    "write_txt(text_dir / 'cps_ltdate.txt', ltdate)"
   ]
  },
  {
   "cell_type": "code",
   "execution_count": null,
   "metadata": {},
   "outputs": [],
   "source": []
  },
  {
   "cell_type": "code",
   "execution_count": null,
   "metadata": {},
   "outputs": [],
   "source": []
  },
  {
   "cell_type": "code",
   "execution_count": null,
   "metadata": {},
   "outputs": [],
   "source": []
  }
 ],
 "metadata": {
  "kernelspec": {
   "display_name": "Python 3",
   "language": "python",
   "name": "python3"
  },
  "language_info": {
   "codemirror_mode": {
    "name": "ipython",
    "version": 3
   },
   "file_extension": ".py",
   "mimetype": "text/x-python",
   "name": "python",
   "nbconvert_exporter": "python",
   "pygments_lexer": "ipython3",
   "version": "3.8.8"
  }
 },
 "nbformat": 4,
 "nbformat_minor": 2
}
