{
 "cells": [
  {
   "cell_type": "code",
   "execution_count": null,
   "metadata": {},
   "outputs": [],
   "source": []
  },
  {
   "cell_type": "code",
   "execution_count": 1,
   "metadata": {},
   "outputs": [],
   "source": [
    "import sys\n",
    "sys.path.append('../src')\n",
    "\n",
    "import requests\n",
    "import re\n",
    "\n",
    "import uschartbook.config\n",
    "\n",
    "from uschartbook.config import *\n",
    "from uschartbook.utils import *\n",
    "\n",
    "qtrs = {1: 'first', 2: 'second', 3: 'third', 4: 'fourth'}"
   ]
  },
  {
   "cell_type": "code",
   "execution_count": 2,
   "metadata": {},
   "outputs": [],
   "source": [
    "s = {'IP.B00004.S': 'Manufacturing',\n",
    "     'IP.G21.S': 'Mining',\n",
    "     'IP.GMFD.S': 'Durable manufacturing',\n",
    "     'IP.GMFN.S': 'Nondurable manufacturing',\n",
    "     'IP.B51000.S': 'Consumer goods',\n",
    "     'IP.B52000.S': 'Equipment, total',\n",
    "     'IP.B53000.S': 'Materials',\n",
    "     'IP.B54000.S': 'Nonindustrial supplies',\n",
    "     'IP.B50001.S': 'Total index',\n",
    "     'IP.G311A2.S': 'Food, beverage, and tobacco',\n",
    "     'IP.G325.S': 'Chemical',\n",
    "     'IP.G3361T3.S': 'Motor vehicles and parts',\n",
    "     'IP.B51110.S': 'Automotive products',\n",
    "     'IP.B51211.S': 'Foods and tobacco',\n",
    "     'IP.B51220.S': 'Consumer energy products',\n",
    "     'IP.B52110.S': 'Transit equipment',\n",
    "     'IP.B52120.S': 'Information processing and related equipment',\n",
    "     'IP.B52131.S': 'Industrial equipment',\n",
    "     'IP.B52200.S': 'Oil and gas well drilling and manufactured homes',\n",
    "     'IP.B53110.S': 'Consumer parts',\n",
    "     'IP.B53120.S': 'Equipment parts',\n",
    "     'IP.B53131.S': 'Basic metals',\n",
    "     'IP.B53210.S': 'Textile materials',\n",
    "     'IP.B53220.S': 'Paper materials',\n",
    "     'IP.B53230.S': 'Chemical materials',\n",
    "     'IP.B53300.S': 'Energy materials',\n",
    "     'IP.B54100.S': 'Construction supplies',\n",
    "     'IP.B54220.S': 'Commercial energy products',\n",
    "     'IP.G2211A2.S': 'Utilities'}\n",
    "\n",
    "srs = [i[3:-2] for i in s.keys()]"
   ]
  },
  {
   "cell_type": "code",
   "execution_count": 3,
   "metadata": {},
   "outputs": [],
   "source": [
    "ipdata = 'https://www.federalreserve.gov/datadownload/Output.aspx?rel=G17&series=f97ad3652d87a6c1720943c31423103a&lastobs=&from=01/01/1988&to=12/31/2019&filetype=csv&label=include&layout=seriescolumn'\n",
    "ipweights = 'https://www.federalreserve.gov/releases/g17/ipdisk/ipweights_sa.txt'"
   ]
  },
  {
   "cell_type": "code",
   "execution_count": 4,
   "metadata": {},
   "outputs": [],
   "source": [
    "header = ['Series', 'Year', 'January', 'February', 'March', 'April', \n",
    "          'May', 'June', 'July', 'August', 'September', 'October', \n",
    "          'November', 'December']\n",
    "ipw = pd.read_csv(ipweights, sep='\\s+', skiprows=1)\n",
    "ipw.columns = header\n",
    "wgt = ipw[ipw['Series'].isin(srs)].set_index(['Series', 'Year']).stack().reset_index()\n",
    "wgt['Date'] = wgt['level_2'] + ' 01, ' + wgt['Year'].astype('int').astype('str')\n",
    "wgt['Date'] = pd.to_datetime(wgt['Date'])\n",
    "wgt = wgt.set_index(['Series', 'Date'])[0]\n",
    "s_list = list(set(list(f'IP.{s}.S' for s, t in wgt.index)))\n",
    "wgt = wgt.unstack().T.rename({k[3:-2]: v for k, v in s.items()}, axis=1).loc['1988':]"
   ]
  },
  {
   "cell_type": "code",
   "execution_count": null,
   "metadata": {},
   "outputs": [],
   "source": []
  },
  {
   "cell_type": "code",
   "execution_count": 5,
   "metadata": {},
   "outputs": [],
   "source": [
    "df = pd.read_csv(ipdata, skiprows=5, index_col=0)[s.keys()].rename(s, axis=1)\n",
    "df.index = pd.to_datetime(df.index)"
   ]
  },
  {
   "cell_type": "code",
   "execution_count": null,
   "metadata": {},
   "outputs": [],
   "source": []
  },
  {
   "cell_type": "code",
   "execution_count": 6,
   "metadata": {},
   "outputs": [],
   "source": [
    "df[['Manufacturing', 'Total index']].loc['1989':].to_csv(data_dir / 'indpro.csv', index_label='date')"
   ]
  },
  {
   "cell_type": "code",
   "execution_count": 7,
   "metadata": {},
   "outputs": [],
   "source": [
    "mf3y = ((df['Manufacturing'].pct_change(36).iloc[-1] + 1)**(1/3)-1) * 100\n",
    "tot3y = ((df['Total index'].pct_change(36).iloc[-1] + 1)**(1/3)-1) * 100\n",
    "si = series_info(df['Manufacturing'])\n",
    "datelt = si['date_latest_ft']\n",
    "max_diff = (si['val_latest'] / si['val_max'] - 1) * 100"
   ]
  },
  {
   "cell_type": "code",
   "execution_count": 8,
   "metadata": {},
   "outputs": [],
   "source": [
    "text = f'Manufacturing production increased at an average annual rate of {mf3y:.1f} percent over the past three years, as of {datelt}. The total industrial production index grew at an annual rate of {tot3y:.1f} percent over the same period. Manufacturing production is currently {abs(max_diff):.1f} percent below its peak in {si[\"date_max_ft\"]}'"
   ]
  },
  {
   "cell_type": "code",
   "execution_count": 9,
   "metadata": {},
   "outputs": [],
   "source": [
    "write_txt(text_dir / 'indpro.txt', text)"
   ]
  },
  {
   "cell_type": "code",
   "execution_count": 10,
   "metadata": {
    "scrolled": true
   },
   "outputs": [
    {
     "data": {
      "text/plain": [
       "'Manufacturing production increased at an average annual rate of 1.0 percent over the past three years, as of October 2019. The total industrial production index grew at an annual rate of 2.1 percent over the same period. Manufacturing production is currently 5.5 percent below its peak in December 2007'"
      ]
     },
     "execution_count": 10,
     "metadata": {},
     "output_type": "execute_result"
    }
   ],
   "source": [
    "text"
   ]
  },
  {
   "cell_type": "code",
   "execution_count": null,
   "metadata": {},
   "outputs": [],
   "source": []
  },
  {
   "cell_type": "code",
   "execution_count": 11,
   "metadata": {},
   "outputs": [],
   "source": [
    "for i in [df, wgt]:\n",
    "    i['ENS'] = i['Equipment, total'] + i['Nonindustrial supplies']\n",
    "    i['Util'] = i['Total index'] - i['Manufacturing'] - i['Mining']"
   ]
  },
  {
   "cell_type": "code",
   "execution_count": 12,
   "metadata": {},
   "outputs": [],
   "source": [
    "final = pd.DataFrame()\n",
    "for s_name in ['Consumer goods', 'ENS', 'Materials']:\n",
    "    for date in df[s_name].index:\n",
    "        s_wgt = wgt[s_name].loc[date] / 100.0\n",
    "        val = (df[s_name].pct_change(12).loc[date])*100\n",
    "        final.at[date, s_name] = val * s_wgt\n",
    "\n",
    "final = final.loc['1989':]"
   ]
  },
  {
   "cell_type": "code",
   "execution_count": 13,
   "metadata": {},
   "outputs": [],
   "source": [
    "final.loc['2015':].to_csv(data_dir / 'indprogr_rec.csv', index_label='date')"
   ]
  },
  {
   "cell_type": "code",
   "execution_count": 14,
   "metadata": {},
   "outputs": [],
   "source": [
    "(final.resample('QS').mean().loc[:'2019-07-01']\n",
    "      .to_csv(data_dir / 'indprogr.csv', index_label='date'))"
   ]
  },
  {
   "cell_type": "code",
   "execution_count": null,
   "metadata": {},
   "outputs": [],
   "source": []
  },
  {
   "cell_type": "code",
   "execution_count": 15,
   "metadata": {},
   "outputs": [],
   "source": [
    "final = pd.DataFrame()\n",
    "for s_name in ['Durable manufacturing', 'Mining', 'Nondurable manufacturing', 'Utilities']:\n",
    "    for date in df[s_name].index:\n",
    "        s_wgt = wgt[s_name].loc[date] / 100.0\n",
    "        val = (df[s_name].pct_change(12).loc[date])*100\n",
    "        final.at[date, s_name] = val * s_wgt\n",
    "\n",
    "final = final.loc['1989':]"
   ]
  },
  {
   "cell_type": "code",
   "execution_count": 16,
   "metadata": {},
   "outputs": [],
   "source": [
    "final.loc['2015':].to_csv(data_dir / 'indprogr_rec2.csv', index_label='date')"
   ]
  },
  {
   "cell_type": "code",
   "execution_count": 17,
   "metadata": {},
   "outputs": [],
   "source": [
    "(final.resample('QS').mean().loc[:'2019-07-01']\n",
    "      .to_csv(data_dir / 'indprogr2.csv', index_label='date'))"
   ]
  },
  {
   "cell_type": "code",
   "execution_count": null,
   "metadata": {},
   "outputs": [],
   "source": []
  },
  {
   "cell_type": "code",
   "execution_count": 18,
   "metadata": {},
   "outputs": [],
   "source": [
    "%matplotlib inline"
   ]
  },
  {
   "cell_type": "code",
   "execution_count": 19,
   "metadata": {},
   "outputs": [
    {
     "data": {
      "text/plain": [
       "<matplotlib.axes._subplots.AxesSubplot at 0x7f61c934de50>"
      ]
     },
     "execution_count": 19,
     "metadata": {},
     "output_type": "execute_result"
    },
    {
     "data": {
      "image/png": "[encoded data removed]",
      "text/plain": [
       "<Figure size 432x288 with 1 Axes>"
      ]
     },
     "metadata": {
      "needs_background": "light"
     },
     "output_type": "display_data"
    }
   ],
   "source": [
    "final.loc['2015':].plot(kind='bar', stacked=True)"
   ]
  },
  {
   "cell_type": "code",
   "execution_count": null,
   "metadata": {},
   "outputs": [],
   "source": []
  },
  {
   "cell_type": "code",
   "execution_count": 21,
   "metadata": {},
   "outputs": [],
   "source": [
    "final = pd.DataFrame()\n",
    "for s_name in ['Manufacturing', 'Mining', 'Utilities']:\n",
    "    for date in df[s_name].index:\n",
    "        s_wgt = wgt[s_name].loc[date] / 100.0\n",
    "        val = (df[s_name].pct_change(12).loc[date])*100\n",
    "        final.at[date, s_name] = val * s_wgt\n",
    "\n",
    "final = final.loc['1989':]"
   ]
  },
  {
   "cell_type": "code",
   "execution_count": 22,
   "metadata": {},
   "outputs": [
    {
     "data": {
      "text/html": [
       "<div>\n",
       "<style scoped>\n",
       "    .dataframe tbody tr th:only-of-type {\n",
       "        vertical-align: middle;\n",
       "    }\n",
       "\n",
       "    .dataframe tbody tr th {\n",
       "        vertical-align: top;\n",
       "    }\n",
       "\n",
       "    .dataframe thead th {\n",
       "        text-align: right;\n",
       "    }\n",
       "</style>\n",
       "<table border=\"1\" class=\"dataframe\">\n",
       "  <thead>\n",
       "    <tr style=\"text-align: right;\">\n",
       "      <th></th>\n",
       "      <th>Manufacturing</th>\n",
       "      <th>Mining</th>\n",
       "      <th>Utilities</th>\n",
       "    </tr>\n",
       "  </thead>\n",
       "  <tbody>\n",
       "    <tr>\n",
       "      <th>1989-01-01</th>\n",
       "      <td>3.203931</td>\n",
       "      <td>-0.024653</td>\n",
       "      <td>-0.133734</td>\n",
       "    </tr>\n",
       "    <tr>\n",
       "      <th>1989-02-01</th>\n",
       "      <td>2.130327</td>\n",
       "      <td>-0.166204</td>\n",
       "      <td>0.151719</td>\n",
       "    </tr>\n",
       "    <tr>\n",
       "      <th>1989-03-01</th>\n",
       "      <td>1.832124</td>\n",
       "      <td>-0.166474</td>\n",
       "      <td>0.477063</td>\n",
       "    </tr>\n",
       "    <tr>\n",
       "      <th>1989-04-01</th>\n",
       "      <td>1.318149</td>\n",
       "      <td>0.005298</td>\n",
       "      <td>0.292704</td>\n",
       "    </tr>\n",
       "    <tr>\n",
       "      <th>1989-05-01</th>\n",
       "      <td>0.713874</td>\n",
       "      <td>-0.032536</td>\n",
       "      <td>0.378878</td>\n",
       "    </tr>\n",
       "    <tr>\n",
       "      <th>...</th>\n",
       "      <td>...</td>\n",
       "      <td>...</td>\n",
       "      <td>...</td>\n",
       "    </tr>\n",
       "    <tr>\n",
       "      <th>2019-06-01</th>\n",
       "      <td>0.135233</td>\n",
       "      <td>1.172010</td>\n",
       "      <td>-0.360636</td>\n",
       "    </tr>\n",
       "    <tr>\n",
       "      <th>2019-07-01</th>\n",
       "      <td>-0.433410</td>\n",
       "      <td>0.680454</td>\n",
       "      <td>0.066629</td>\n",
       "    </tr>\n",
       "    <tr>\n",
       "      <th>2019-08-01</th>\n",
       "      <td>-0.308691</td>\n",
       "      <td>0.754693</td>\n",
       "      <td>-0.133615</td>\n",
       "    </tr>\n",
       "    <tr>\n",
       "      <th>2019-09-01</th>\n",
       "      <td>-0.705722</td>\n",
       "      <td>0.491421</td>\n",
       "      <td>0.100114</td>\n",
       "    </tr>\n",
       "    <tr>\n",
       "      <th>2019-10-01</th>\n",
       "      <td>-1.118121</td>\n",
       "      <td>0.376483</td>\n",
       "      <td>-0.426592</td>\n",
       "    </tr>\n",
       "  </tbody>\n",
       "</table>\n",
       "<p>370 rows × 3 columns</p>\n",
       "</div>"
      ],
      "text/plain": [
       "            Manufacturing    Mining  Utilities\n",
       "1989-01-01       3.203931 -0.024653  -0.133734\n",
       "1989-02-01       2.130327 -0.166204   0.151719\n",
       "1989-03-01       1.832124 -0.166474   0.477063\n",
       "1989-04-01       1.318149  0.005298   0.292704\n",
       "1989-05-01       0.713874 -0.032536   0.378878\n",
       "...                   ...       ...        ...\n",
       "2019-06-01       0.135233  1.172010  -0.360636\n",
       "2019-07-01      -0.433410  0.680454   0.066629\n",
       "2019-08-01      -0.308691  0.754693  -0.133615\n",
       "2019-09-01      -0.705722  0.491421   0.100114\n",
       "2019-10-01      -1.118121  0.376483  -0.426592\n",
       "\n",
       "[370 rows x 3 columns]"
      ]
     },
     "execution_count": 22,
     "metadata": {},
     "output_type": "execute_result"
    }
   ],
   "source": [
    "final"
   ]
  },
  {
   "cell_type": "code",
   "execution_count": null,
   "metadata": {},
   "outputs": [],
   "source": []
  }
 ],
 "metadata": {
  "kernelspec": {
   "display_name": "Python 3",
   "language": "python",
   "name": "python3"
  },
  "language_info": {
   "codemirror_mode": {
    "name": "ipython",
    "version": 3
   },
   "file_extension": ".py",
   "mimetype": "text/x-python",
   "name": "python",
   "nbconvert_exporter": "python",
   "pygments_lexer": "ipython3",
   "version": "3.7.5"
  }
 },
 "nbformat": 4,
 "nbformat_minor": 2
}
