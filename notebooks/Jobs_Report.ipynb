{
 "cells": [
  {
   "cell_type": "markdown",
   "metadata": {},
   "source": [
    "# Generate Jobs Report Data for Chartbook\n",
    "\n",
    "Brian Dew\n",
    "\n",
    "@bd_econ"
   ]
  },
  {
   "cell_type": "code",
   "execution_count": 2,
   "metadata": {},
   "outputs": [],
   "source": [
    "import sys\n",
    "import json\n",
    "sys.path.append('../src')\n",
    "\n",
    "import requests\n",
    "\n",
    "import uschartbook.config\n",
    "\n",
    "from uschartbook.config import *\n",
    "from uschartbook.utils import *"
   ]
  },
  {
   "cell_type": "markdown",
   "metadata": {},
   "source": [
    "### Unemployment rate"
   ]
  },
  {
   "cell_type": "code",
   "execution_count": 2,
   "metadata": {},
   "outputs": [
    {
     "name": "stdout",
     "output_type": "stream",
     "text": [
      "Post Request Status: REQUEST_SUCCEEDED\n"
     ]
    },
    {
     "data": {
      "text/plain": [
       "'Unemployment is currently very low. BLS \\\\href{https://www.bls.gov/news.release/empsit.nr0.htm}{reports} 5.8 million unemployed persons in December 2019, and an unemployment rate of 3.5 percent. However, unemployment is much higher for disadvantaged groups, with the black or African American unemployment rate typically double the white unemployment rate. A very tight labor market may have the effect of reducing racial discrimination in hiring. Over the past year, the black or African American unemployment rate has fallen by 0.7 percentage points to 5.9 percent.'"
      ]
     },
     "execution_count": 2,
     "metadata": {},
     "output_type": "execute_result"
    }
   ],
   "source": [
    "# Series stored as a dictionary\n",
    "series = {'LNS14000003': 'White', \n",
    "          'LNS14000006': 'Black', \n",
    "          'LNS14000009': 'Hispanic',\n",
    "          'LNS14000000': 'Total',\n",
    "          'LNS13000000': 'Level'}\n",
    "\n",
    "# Start year and end year\n",
    "dates = (1989, 2019)\n",
    "df = bls_api(series, dates, bls_key)\n",
    "srs = ['White', 'Black', 'Hispanic']\n",
    "df[srs].to_csv(data_dir / 'unemp.csv', index_label='date')\n",
    "\n",
    "s = series_info(df['Level'])\n",
    "s2 = series_info(df['Total'])\n",
    "s3 = series_info(df['Black'])\n",
    "text = ('Unemployment is currently very low. BLS '+\n",
    "        '\\href{https://www.bls.gov/news.release/empsit.nr0.htm}{reports} '+\n",
    "        f'{s[\"val_latest\"]/1000:.1f} million '+\n",
    "        f'unemployed persons in {s[\"date_latest_ft\"]}, '+\n",
    "        f'and an unemployment rate of {s2[\"val_latest\"]} percent. '+\n",
    "        'However, unemployment is much higher for disadvantaged groups, '+\n",
    "        'with the black or African American unemployment rate typically double '+\n",
    "        'the white unemployment rate. '+\n",
    "        'A very tight labor market may have the effect of reducing racial '+\n",
    "        'discrimination in hiring. '+\n",
    "        'Over the past year, the black or African American unemployment rate '+\n",
    "        f'has fallen by {abs(s3[\"change_year_ago\"]):.1f} percentage '+\n",
    "        f'points to {s3[\"val_latest\"]:.1f} percent.')\n",
    "write_txt(text_dir / 'unemp.txt', text)\n",
    "text"
   ]
  },
  {
   "cell_type": "code",
   "execution_count": null,
   "metadata": {},
   "outputs": [],
   "source": []
  },
  {
   "cell_type": "markdown",
   "metadata": {},
   "source": [
    "### Employment rate"
   ]
  },
  {
   "cell_type": "code",
   "execution_count": 8,
   "metadata": {},
   "outputs": [
    {
     "name": "stdout",
     "output_type": "stream",
     "text": [
      "In December 2019, 80.4\\% of 25-54 years olds were employed, the highest level since July 2001. Over the past year, the age 25-54 employment rate has increased by 0.8 percentage points. The current age 25-54 employment rate is 0.9 percentage points (equivalent to 1.1 million workers) below the average during 1998--99, a period with a particularly tight labor market. \n"
     ]
    }
   ],
   "source": [
    "series = {'LNS12300060': 'PA_EPOP'}\n",
    "\n",
    "# Start year and end year\n",
    "dates = (1989, 2019)\n",
    "df = bls_api(series, dates, bls_key)\n",
    "df.to_csv(data_dir / 'epop.csv', index_label='date')\n",
    "\n",
    "s = pd.read_csv(data_dir / 'epop.csv').iloc[-1]\n",
    "date = pd.to_datetime(s.date).strftime('%Y-%m')\n",
    "value = s.PA_EPOP\n",
    "\n",
    "txt = f'{date}:\\\\\\{value}\\%'\n",
    "\n",
    "f = text_dir.joinpath('epop.txt')\n",
    "with f.open('w') as wf:\n",
    "    wf.write(txt)\n",
    "    \n",
    "s = pd.read_csv(data_dir / 'epop.csv', parse_dates=['date']).set_index('date')['PA_EPOP']\n",
    "d = series_info(s)\n",
    "\n",
    "text = f'In {d[\"date_latest_ft\"]}, {d[\"val_latest\"]}\\%'\n",
    "\n",
    "if (d['days_since_match'] > 725) | (d['days_since_match'] == 0):\n",
    "    text2 = d['last_matched']\n",
    "else:\n",
    "    text2 = f'compared to {d[\"val_prev\"]} in {d[\"date_prev_ft\"]}'\n",
    "    \n",
    "if d['change_year_ago'] > 0:\n",
    "    direction = 'increased'\n",
    "    value = d['change_year_ago']\n",
    "    label = f'Over the past year, the age 25-54 employment rate has {direction} by {value:.1f} percentage points.'\n",
    "elif d['change_year_ago'] < 0:\n",
    "    direction = 'fallen'\n",
    "    value = abs(d['change_year_ago'])\n",
    "    label = f'Over the past year, the age 25-54 employment rate has {direction} by {value:.1f} percentage points.'\n",
    "else:\n",
    "    label = 'The age 25-54 employment rate is unchanged over the past year. '\n",
    "    \n",
    "pop = 126277\n",
    "diff1 = d['late90s'] - d['val_latest']\n",
    "diff = (d['late90s'] - d['val_latest']) / 100 * pop\n",
    "\n",
    "if diff > 999:\n",
    "    diff_text = f'{round(diff / 1000, 1)} million'\n",
    "else: \n",
    "    diff_text = f'{round(diff, -1)} thousand'\n",
    "    \n",
    "label2 = f'The current age 25-54 employment rate is {diff1:.1f} percentage points (equivalent to {diff_text} workers) below the average during 1998--99, a period with a particularly tight labor market. '\n",
    "\n",
    "textval = f'{text} of 25-54 years olds were employed, {text2}. {label} {label2}'\n",
    "print(textval)\n",
    "\n",
    "f = text_dir.joinpath('epop_text.txt')\n",
    "with f.open('w') as wf:\n",
    "    wf.write(textval)"
   ]
  },
  {
   "cell_type": "code",
   "execution_count": null,
   "metadata": {},
   "outputs": [],
   "source": []
  },
  {
   "cell_type": "markdown",
   "metadata": {},
   "source": [
    "### Unemployment by reason"
   ]
  },
  {
   "cell_type": "code",
   "execution_count": 5,
   "metadata": {},
   "outputs": [
    {
     "name": "stdout",
     "output_type": "stream",
     "text": [
      "Post Request Status: REQUEST_SUCCEEDED\n"
     ]
    }
   ],
   "source": [
    "# Series stored as a dictionary\n",
    "series = {'LNS14023621': 'Job Loser', \n",
    "          'LNS14023705': 'Job Leaver', \n",
    "          'LNS14023557': 'Re-entrant',\n",
    "          'LNS14023569': 'New entrant'}\n",
    "\n",
    "# Start year and end year\n",
    "dates = (1989, 2019)\n",
    "df = bls_api(series, dates, bls_key)\n",
    "\n",
    "df.resample('QS').mean().to_csv(data_dir / 'unemp_reason.csv', index_label='date', float_format='%g')\n",
    "\n",
    "loser = df['Job Loser'].iloc[-1]\n",
    "leaver = df['Job Leaver'].iloc[-1]\n",
    "reent = df['Re-entrant'].iloc[-1]\n",
    "newent = df['New entrant'].iloc[-1]\n",
    "ltdate = df.index[-1].strftime('%B %Y')\n",
    "\n",
    "text = (f'In {ltdate}, {loser:.1f} percent of the labor force '+\n",
    "        'were unemployed because of losing a job or having a '+\n",
    "        f'job end, {leaver:.1f} percent were re-entrants, '+\n",
    "        f'{reent:.1f} percent new entrants, and {newent:.1f} '+\n",
    "        'percent job leavers. ')\n",
    "\n",
    "write_txt(text_dir / 'unemp_reason.txt', text)"
   ]
  },
  {
   "cell_type": "code",
   "execution_count": null,
   "metadata": {},
   "outputs": [],
   "source": []
  },
  {
   "cell_type": "markdown",
   "metadata": {},
   "source": [
    "### Flows"
   ]
  },
  {
   "cell_type": "code",
   "execution_count": 6,
   "metadata": {},
   "outputs": [
    {
     "name": "stdout",
     "output_type": "stream",
     "text": [
      "Post Request Status: REQUEST_SUCCEEDED\n"
     ]
    }
   ],
   "source": [
    "# Series stored as a dictionary\n",
    "series = {'LNS17200000': 'NILF',\n",
    "          'LNS17100000': 'UNEMP'}\n",
    "\n",
    "# Start year and end year\n",
    "dates = (1990, 2019)\n",
    "data = bls_api(series, dates, bls_key)\n",
    "\n",
    "df = data\n",
    "df['TOTAL'] = data.astype('float').sum(axis=1)\n",
    "sh = (df['NILF'] / df['TOTAL']).rename('total') * 100\n",
    "\n",
    "sh.to_csv(data_dir / 'lf_flow.csv', index_label='date', header=True, float_format='%g')\n",
    "\n",
    "sh.resample('QS').mean().rename('quarterly').to_csv(data_dir / 'lf_flow_q.csv', index_label='date', header=True)\n",
    "\n",
    "totval = df['TOTAL'].iloc[-1] / 1000\n",
    "nilfval = df['NILF'].iloc[-1] / 1000\n",
    "unval = df['UNEMP'].iloc[-1] / 1000\n",
    "\n",
    "shval = sh.iloc[-1]\n",
    "\n",
    "sh3y = sh.iloc[-37]\n",
    "\n",
    "ltdate = sh.index[-1].strftime('%B %Y')\n",
    "yragodt = sh.index[-37].strftime('%B %Y')\n",
    "\n",
    "text = (f'In {ltdate}, {totval:.1f} million people were newly employed (on a gross basis). '+\n",
    "        f'Of these, {shval:.1f} percent were not looking for work in the prior '+\n",
    "        'month. With low unemployment, new employees are being pulled '+\n",
    "        'from outside of the labor force and bypassing unemployment. '+\n",
    "        f'Three years ago, in {yragodt}, {sh3y:.1f} percent '+\n",
    "        'of the newly employed were not looking for work month prior.')\n",
    "\n",
    "write_txt(text_dir / 'lf_flow.txt', text)"
   ]
  },
  {
   "cell_type": "code",
   "execution_count": null,
   "metadata": {},
   "outputs": [],
   "source": []
  },
  {
   "cell_type": "markdown",
   "metadata": {},
   "source": [
    "### Wage Growth"
   ]
  },
  {
   "cell_type": "code",
   "execution_count": 7,
   "metadata": {},
   "outputs": [
    {
     "name": "stdout",
     "output_type": "stream",
     "text": [
      "Post Request Status: REQUEST_SUCCEEDED\n"
     ]
    }
   ],
   "source": [
    "data1, data2 = pd.Series(), pd.Series()\n",
    "columns = ['MONTH', 'YEAR', 'AGE', 'PWORWGT', 'WKWAGE', 'HRSUSL1', 'WORKFT']\n",
    "for year in range(1989, 2020):\n",
    "    df = (pd.read_feather(cps_dir / f'cps{year}.ft', columns=columns)\n",
    "        .query('WKWAGE > 0 and WORKFT == 1'))\n",
    "    data = df.groupby(['YEAR', 'MONTH']).apply(binned_wage)\n",
    "    data.index = [pd.to_datetime(f'{ti[0]}-{ti[1]}-01') for ti in data.index]\n",
    "    data1 = data1.append(data)\n",
    "    \n",
    "df = pd.DataFrame({'All': data1})\n",
    "\n",
    "df.rolling(3).mean().to_csv(data_dir / 'uwe_bd.csv', index_label='date')\n",
    "(df.pct_change(12).dropna() * 100).rolling(3).mean().to_csv(data_dir / 'uwe_bd_gr.csv', index_label='date')\n",
    "\n",
    "# Series stored as a dictionary\n",
    "series = {'LEU0252911200': 'value'}\n",
    "\n",
    "# Start year and end year\n",
    "dates = (2000, 2019)\n",
    "df2 = bls_api(series, dates, bls_key)\n",
    "\n",
    "df2.to_csv(data_dir / 'uwe_bls.csv', index_label='date')\n",
    "(df2.pct_change(4).dropna() * 100).to_csv(data_dir / 'uwe_bls_gr.csv', index_label='date')"
   ]
  },
  {
   "cell_type": "code",
   "execution_count": null,
   "metadata": {},
   "outputs": [],
   "source": []
  },
  {
   "cell_type": "markdown",
   "metadata": {},
   "source": [
    "### Average Hourly Earnings"
   ]
  },
  {
   "cell_type": "code",
   "execution_count": 3,
   "metadata": {},
   "outputs": [
    {
     "name": "stdout",
     "output_type": "stream",
     "text": [
      "Post Request Status: REQUEST_SUCCEEDED\n"
     ]
    }
   ],
   "source": [
    "series = {'CES0500000003': 'ALL', 'CES0500000008': 'PNS'}\n",
    "years = (1988, 2019)\n",
    "df = bls_api(series, years, bls_key)\n",
    "(df.pct_change(12) * 100).loc['1989':].to_csv(data_dir / 'ahe.csv', index_label='date')"
   ]
  },
  {
   "cell_type": "code",
   "execution_count": 6,
   "metadata": {},
   "outputs": [
    {
     "ename": "KeyError",
     "evalue": "'series'",
     "output_type": "error",
     "traceback": [
      "\u001b[0;31m---------------------------------------------------------------------------\u001b[0m",
      "\u001b[0;31mKeyError\u001b[0m                                  Traceback (most recent call last)",
      "\u001b[0;32m<ipython-input-6-e41663844289>\u001b[0m in \u001b[0;36m<module>\u001b[0;34m\u001b[0m\n\u001b[1;32m     14\u001b[0m \u001b[0;34m\u001b[0m\u001b[0m\n\u001b[1;32m     15\u001b[0m \u001b[0myears\u001b[0m \u001b[0;34m=\u001b[0m \u001b[0;34m(\u001b[0m\u001b[0;36m2017\u001b[0m\u001b[0;34m,\u001b[0m \u001b[0;36m2019\u001b[0m\u001b[0;34m)\u001b[0m\u001b[0;34m\u001b[0m\u001b[0;34m\u001b[0m\u001b[0m\n\u001b[0;32m---> 16\u001b[0;31m \u001b[0mdf\u001b[0m \u001b[0;34m=\u001b[0m \u001b[0mbls_api\u001b[0m\u001b[0;34m(\u001b[0m\u001b[0mseries\u001b[0m\u001b[0;34m,\u001b[0m \u001b[0myears\u001b[0m\u001b[0;34m,\u001b[0m \u001b[0mbls_key\u001b[0m\u001b[0;34m)\u001b[0m\u001b[0;34m\u001b[0m\u001b[0;34m\u001b[0m\u001b[0m\n\u001b[0m",
      "\u001b[0;32m~/Documents/uschartbook/src/uschartbook/utils.py\u001b[0m in \u001b[0;36mbls_api\u001b[0;34m(series, date_range, bls_key)\u001b[0m\n\u001b[1;32m    339\u001b[0m             data=data).json()\n\u001b[1;32m    340\u001b[0m \u001b[0;34m\u001b[0m\u001b[0m\n\u001b[0;32m--> 341\u001b[0;31m         \u001b[0;32mfor\u001b[0m \u001b[0ms\u001b[0m \u001b[0;32min\u001b[0m \u001b[0mp\u001b[0m\u001b[0;34m[\u001b[0m\u001b[0;34m'Results'\u001b[0m\u001b[0;34m]\u001b[0m\u001b[0;34m[\u001b[0m\u001b[0;34m'series'\u001b[0m\u001b[0;34m]\u001b[0m\u001b[0;34m:\u001b[0m\u001b[0;34m\u001b[0m\u001b[0;34m\u001b[0m\u001b[0m\n\u001b[0m\u001b[1;32m    342\u001b[0m             \u001b[0mcol\u001b[0m \u001b[0;34m=\u001b[0m \u001b[0mseries\u001b[0m\u001b[0;34m[\u001b[0m\u001b[0ms\u001b[0m\u001b[0;34m[\u001b[0m\u001b[0;34m'seriesID'\u001b[0m\u001b[0;34m]\u001b[0m\u001b[0;34m]\u001b[0m\u001b[0;34m\u001b[0m\u001b[0;34m\u001b[0m\u001b[0m\n\u001b[1;32m    343\u001b[0m             \u001b[0;32mfor\u001b[0m \u001b[0mr\u001b[0m \u001b[0;32min\u001b[0m \u001b[0ms\u001b[0m\u001b[0;34m[\u001b[0m\u001b[0;34m'data'\u001b[0m\u001b[0;34m]\u001b[0m\u001b[0;34m:\u001b[0m\u001b[0;34m\u001b[0m\u001b[0;34m\u001b[0m\u001b[0m\n",
      "\u001b[0;31mKeyError\u001b[0m: 'series'"
     ]
    }
   ],
   "source": [
    "series = {'CES3000000008': 'Manufacturing',\n",
    "          'CES1000000008': 'Mining \\& Logging',\n",
    "          'CES4422000008': 'Utilities',\n",
    "          'CES4142000008': 'Wholesale Trade',\n",
    "          'CES5000000008': 'Information',\n",
    "          'CES5500000008': 'Financial Activities',\n",
    "          'CES6000000008': 'Professional \\& Business Services',\n",
    "          'CES6500000008': 'Education \\& Health Services',\n",
    "          'CES0500000008': 'Total Private',\n",
    "          'CES2000000008': 'Construction',\n",
    "          'CES7000000008': 'Leisure \\& Hospitality',\n",
    "          'CES4300000008': 'Transportation \\& Warehousing',\n",
    "          'CES4200000008': 'Retail Trade'}\n",
    "\n",
    "years = (2017, 2019)\n",
    "df = bls_api(series, years, bls_key)"
   ]
  },
  {
   "cell_type": "code",
   "execution_count": 7,
   "metadata": {},
   "outputs": [
    {
     "data": {
      "text/html": [
       "<div>\n",
       "<style scoped>\n",
       "    .dataframe tbody tr th:only-of-type {\n",
       "        vertical-align: middle;\n",
       "    }\n",
       "\n",
       "    .dataframe tbody tr th {\n",
       "        vertical-align: top;\n",
       "    }\n",
       "\n",
       "    .dataframe thead th {\n",
       "        text-align: right;\n",
       "    }\n",
       "</style>\n",
       "<table border=\"1\" class=\"dataframe\">\n",
       "  <thead>\n",
       "    <tr style=\"text-align: right;\">\n",
       "      <th></th>\n",
       "      <th>PNS</th>\n",
       "      <th>ALL</th>\n",
       "    </tr>\n",
       "  </thead>\n",
       "  <tbody>\n",
       "    <tr>\n",
       "      <th>1988-01-01</th>\n",
       "      <td>9.29</td>\n",
       "      <td>NaN</td>\n",
       "    </tr>\n",
       "    <tr>\n",
       "      <th>1988-02-01</th>\n",
       "      <td>9.29</td>\n",
       "      <td>NaN</td>\n",
       "    </tr>\n",
       "    <tr>\n",
       "      <th>1988-03-01</th>\n",
       "      <td>9.31</td>\n",
       "      <td>NaN</td>\n",
       "    </tr>\n",
       "    <tr>\n",
       "      <th>1988-04-01</th>\n",
       "      <td>9.36</td>\n",
       "      <td>NaN</td>\n",
       "    </tr>\n",
       "    <tr>\n",
       "      <th>1988-05-01</th>\n",
       "      <td>9.41</td>\n",
       "      <td>NaN</td>\n",
       "    </tr>\n",
       "    <tr>\n",
       "      <th>...</th>\n",
       "      <td>...</td>\n",
       "      <td>...</td>\n",
       "    </tr>\n",
       "    <tr>\n",
       "      <th>2019-08-01</th>\n",
       "      <td>23.60</td>\n",
       "      <td>28.11</td>\n",
       "    </tr>\n",
       "    <tr>\n",
       "      <th>2019-09-01</th>\n",
       "      <td>23.67</td>\n",
       "      <td>28.12</td>\n",
       "    </tr>\n",
       "    <tr>\n",
       "      <th>2019-10-01</th>\n",
       "      <td>23.73</td>\n",
       "      <td>28.20</td>\n",
       "    </tr>\n",
       "    <tr>\n",
       "      <th>2019-11-01</th>\n",
       "      <td>23.77</td>\n",
       "      <td>28.29</td>\n",
       "    </tr>\n",
       "    <tr>\n",
       "      <th>2019-12-01</th>\n",
       "      <td>23.79</td>\n",
       "      <td>28.32</td>\n",
       "    </tr>\n",
       "  </tbody>\n",
       "</table>\n",
       "<p>384 rows × 2 columns</p>\n",
       "</div>"
      ],
      "text/plain": [
       "              PNS    ALL\n",
       "1988-01-01   9.29    NaN\n",
       "1988-02-01   9.29    NaN\n",
       "1988-03-01   9.31    NaN\n",
       "1988-04-01   9.36    NaN\n",
       "1988-05-01   9.41    NaN\n",
       "...           ...    ...\n",
       "2019-08-01  23.60  28.11\n",
       "2019-09-01  23.67  28.12\n",
       "2019-10-01  23.73  28.20\n",
       "2019-11-01  23.77  28.29\n",
       "2019-12-01  23.79  28.32\n",
       "\n",
       "[384 rows x 2 columns]"
      ]
     },
     "execution_count": 7,
     "metadata": {},
     "output_type": "execute_result"
    }
   ],
   "source": [
    "df"
   ]
  },
  {
   "cell_type": "code",
   "execution_count": null,
   "metadata": {},
   "outputs": [],
   "source": [
    "((df.pct_change(12).iloc[-1] * 100.0)\n",
    "    .sort_values(ascending=False)\n",
    "    .to_csv(data_dir / 'ahe_ind.csv', index_label='name', header=True))\n",
    "\n",
    "write_txt(text_dir / 'ahe_bar_date.txt', df.index[-1].strftime('%B %Y'))\n",
    "\n",
    "text = ('\\\\noindent \\hspace*{-2mm} \\\\begin{tikzpicture}'+\n",
    "        '\\\\begin{axis}[\\\\barplotnogrid axis y line=left, \\\\barylab{4.0cm}{1.5ex}'+\n",
    "        'width=5.2cm, bar width=1.8ex, height=7.2cm, xtick={0}, xmajorgrids,'+\n",
    "        'enlarge y limits={abs=3mm}, enlarge x limits=0.1, '+\n",
    "        f'\\dbar{{x}}{{{allitems:.2f}}}, clip=false,'+\n",
    "        'yticklabels from table={\\\\ahe}{name},'+\n",
    "        'yticklabel style={font=\\\\footnotesize},'+\n",
    "        'nodes near coords style={/pgf/number format/.cd, fixed zerofill,'+\n",
    "        'precision=1, assume math mode}]'+\n",
    "        '\\\\addplot[fill=blue!80!black, draw=none] '+\n",
    "        'table [y expr=-\\coordindex, x index=1] {\\\\ahe};'+\n",
    "        f'\\\\node[right] at ({allitems:.2f}, -12.6) {{\\\\footnotesize \\\\textcolor{{black!80}}{{CPI}}}};'+\n",
    "        '\\end{axis}'+\n",
    "        '\\end{tikzpicture}\\\\\\ '+\n",
    "        '\\\\footnotesize{Source: Bureau of Labor Statistics} \\hspace{32mm} \\\\tbllink{ahe_ind.csv}')\n",
    "\n",
    "write_txt(text_dir / 'ahe_chart.txt', text)\n",
    "\n",
    "print(text)"
   ]
  },
  {
   "cell_type": "code",
   "execution_count": null,
   "metadata": {},
   "outputs": [],
   "source": []
  },
  {
   "cell_type": "code",
   "execution_count": null,
   "metadata": {},
   "outputs": [],
   "source": []
  },
  {
   "cell_type": "code",
   "execution_count": null,
   "metadata": {},
   "outputs": [],
   "source": []
  },
  {
   "cell_type": "code",
   "execution_count": null,
   "metadata": {},
   "outputs": [],
   "source": []
  },
  {
   "cell_type": "code",
   "execution_count": null,
   "metadata": {},
   "outputs": [],
   "source": []
  }
 ],
 "metadata": {
  "kernelspec": {
   "display_name": "Python 3",
   "language": "python",
   "name": "python3"
  },
  "language_info": {
   "codemirror_mode": {
    "name": "ipython",
    "version": 3
   },
   "file_extension": ".py",
   "mimetype": "text/x-python",
   "name": "python",
   "nbconvert_exporter": "python",
   "pygments_lexer": "ipython3",
   "version": "3.7.6"
  }
 },
 "nbformat": 4,
 "nbformat_minor": 2
}
