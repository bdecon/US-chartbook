{
 "cells": [
  {
   "cell_type": "markdown",
   "metadata": {},
   "source": [
    "# Generate Jobs Report Data for Chartbook\n",
    "\n",
    "Brian Dew\n",
    "\n",
    "@bd_econ"
   ]
  },
  {
   "cell_type": "code",
   "execution_count": 1,
   "metadata": {
    "ExecuteTime": {
     "end_time": "2021-02-07T15:37:50.131198Z",
     "start_time": "2021-02-07T15:37:49.143156Z"
    }
   },
   "outputs": [],
   "source": [
    "import sys\n",
    "sys.path.append('../src')\n",
    "\n",
    "import uschartbook.config\n",
    "\n",
    "from uschartbook.config import *\n",
    "from uschartbook.utils import *"
   ]
  },
  {
   "cell_type": "markdown",
   "metadata": {},
   "source": [
    "### API Request"
   ]
  },
  {
   "cell_type": "code",
   "execution_count": 2,
   "metadata": {
    "ExecuteTime": {
     "end_time": "2021-02-07T15:38:01.601831Z",
     "start_time": "2021-02-07T15:37:54.363889Z"
    }
   },
   "outputs": [
    {
     "name": "stdout",
     "output_type": "stream",
     "text": [
      "Post Request Status: REQUEST_SUCCEEDED\n",
      "January 2021\n"
     ]
    }
   ],
   "source": [
    "# Series stored as a dictionary\n",
    "series = {'LNS14000003': 'White', \n",
    "          'LNS14000006': 'Black',\n",
    "          'LNS14000009': 'Hispanic',\n",
    "          'LNS14032183': 'Asian',\n",
    "          'LNS14000000': 'Total',\n",
    "          'LNS13327709': 'U6',\n",
    "          'LNS13000000': 'Level',\n",
    "          'LNU03008636': 'LT',\n",
    "          'LNU03008516': 'MT',\n",
    "          'LNU00000000': 'POP',\n",
    "          'LNS12300060': 'PA_EPOP',\n",
    "          'LNS13023621': 'Job Loser',\n",
    "          'LNS13023653': 'Temporary Layoff',\n",
    "          'LNS13026638': 'Permanent Separation',\n",
    "          'LNS13023705': 'Job Leaver', \n",
    "          'LNS13023557': 'Re-entrant',\n",
    "          'LNS13023569': 'New entrant',\n",
    "          'LNS13008276': 'Median',\n",
    "          'LNS13008275': 'Mean',\n",
    "          'LNS17200000': 'NILF',\n",
    "          'LNS17100000': 'UNEMP',\n",
    "          'LNS11000000': 'LF',\n",
    "          'LNS12032194': 'PTECON'}\n",
    "\n",
    "# Start year and end year\n",
    "dates = (1988, 2021)\n",
    "df = bls_api(series, dates, bls_key)\n",
    "df.to_csv(data_dir / 'jobs_report_main.csv', index_label='date')\n",
    "print(dtxt(df.index[-1])['mon1'])"
   ]
  },
  {
   "cell_type": "code",
   "execution_count": 4,
   "metadata": {
    "ExecuteTime": {
     "end_time": "2021-02-07T15:38:21.597997Z",
     "start_time": "2021-02-07T15:38:14.700782Z"
    }
   },
   "outputs": [
    {
     "name": "stdout",
     "output_type": "stream",
     "text": [
      "Post Request Status: REQUEST_SUCCEEDED\n"
     ]
    }
   ],
   "source": [
    "# Series stored as a dictionary\n",
    "series = {'CES0500000003': 'ALL', \n",
    "          'CES0500000008': 'PNS',\n",
    "          'LNS12005054': 'avghrstot',\n",
    "          'LNU02033699': 'avghrsserv',\n",
    "          'CES0500000002': 'ceshrstot',\n",
    "          'CES0600000002': 'ceshrsgoods',\n",
    "          'CES0800000002': 'ceshrsserv',\n",
    "          'CES0500000007': 'ceshrspns',\n",
    "          'CES9000000001': 'govjobs',\n",
    "          'LNU02033232': 'avghrsptecon',\n",
    "          'LEU0252911200': 'p10uwe',\n",
    "          'LEU0252911300': 'p25uwe',\n",
    "          'LEU0252881500': 'p50uwe',\n",
    "          'LEU0252911400': 'p75uwe',\n",
    "          'LEU0252911500': 'p90uwe',\n",
    "          'LEU0254466800': 'nuwe',\n",
    "          'LNU02026619': 'MJH',\n",
    "          'LNU02000000': 'EMP',\n",
    "          'LNU00000001': 'MenPop',\n",
    "          'LNU00000002': 'WomenPop',\n",
    "          'LNU01000001': 'MenLF',\n",
    "          'LNU01000002': 'WomenLF',\n",
    "          'LNS11300001': 'MenLFPR',\n",
    "          'LNS11300002': 'WomenLFPR'}\n",
    "\n",
    "# Start year and end year\n",
    "dates = (1988, 2021)\n",
    "df = bls_api(series, dates, bls_key)\n",
    "df.to_csv(data_dir / 'jobs_report_main2.csv', index_label='date')"
   ]
  },
  {
   "cell_type": "code",
   "execution_count": 5,
   "metadata": {
    "ExecuteTime": {
     "end_time": "2021-02-07T15:38:25.097344Z",
     "start_time": "2021-02-07T15:38:24.148482Z"
    }
   },
   "outputs": [
    {
     "name": "stdout",
     "output_type": "stream",
     "text": [
      "Post Request Status: REQUEST_SUCCEEDED\n"
     ]
    }
   ],
   "source": [
    "# Series stored as a dictionary\n",
    "series = {'LNS17100001': 'MenUE',\n",
    "          'LNS17100002': 'WomenUE',\n",
    "          'LNS17200001': 'MenNE',\n",
    "          'LNS17200002': 'WomenNE',\n",
    "          'LNS17400001': 'MenEU',\n",
    "          'LNS17400002': 'WomenEU',\n",
    "          'LNS17600001': 'MenNU',\n",
    "          'LNS17600002': 'WomenNU',\n",
    "          'LNS17800001': 'MenEN',\n",
    "          'LNS17800002': 'WomenEN',\n",
    "          'LNS17900001': 'MenUN',\n",
    "          'LNS17900002': 'WomenUN',\n",
    "          'LNS12000001': 'MenE',\n",
    "          'LNS12000002': 'WomenE',\n",
    "          'LNS13000001': 'MenU',\n",
    "          'LNS13000002': 'WomenU',\n",
    "          'LNS15000001': 'MenN',\n",
    "          'LNS15000002': 'WomenN'}\n",
    "\n",
    "# Start year and end year\n",
    "dates = (2018, 2021)\n",
    "df = bls_api(series, dates, bls_key)\n",
    "df.to_csv(data_dir / 'jobs_report_main3.csv', index_label='date')"
   ]
  },
  {
   "cell_type": "code",
   "execution_count": null,
   "metadata": {},
   "outputs": [],
   "source": [
    "         "
   ]
  },
  {
   "cell_type": "markdown",
   "metadata": {},
   "source": [
    "### Labor Force Gross Flows"
   ]
  },
  {
   "cell_type": "code",
   "execution_count": 6,
   "metadata": {
    "ExecuteTime": {
     "end_time": "2021-02-07T15:38:28.838982Z",
     "start_time": "2021-02-07T15:38:28.822317Z"
    }
   },
   "outputs": [],
   "source": [
    "df = (pd.read_csv(data_dir / 'jobs_report_main3.csv', parse_dates=['date'])\n",
    "        .set_index('date')) / 1000\n",
    "\n",
    "cols = ['MenEU', 'WomenEU', 'MenEN', 'WomenEN', 'MenUE', 'WomenUE',\n",
    "        'MenUN', 'WomenUN', 'MenNE', 'WomenNE', 'MenNU', 'WomenNU']\n",
    "\n",
    "cols2 = []\n",
    "for col in cols:\n",
    "    name = f'{col}{col[-2]}'\n",
    "    cols2.append(name)\n",
    "    df[name] = (df[col] / df[f'{col[:-2]}{col[-2]}'].shift()) * 100\n",
    "\n",
    "df.loc['2013-01-01':, cols2].to_csv(data_dir / 'grosslf.csv', index_label='date')"
   ]
  },
  {
   "cell_type": "code",
   "execution_count": null,
   "metadata": {},
   "outputs": [],
   "source": []
  },
  {
   "cell_type": "code",
   "execution_count": null,
   "metadata": {},
   "outputs": [],
   "source": []
  },
  {
   "cell_type": "markdown",
   "metadata": {},
   "source": [
    "### Unemployment rate"
   ]
  },
  {
   "cell_type": "code",
   "execution_count": 8,
   "metadata": {
    "ExecuteTime": {
     "end_time": "2021-02-07T15:38:35.971666Z",
     "start_time": "2021-02-07T15:38:35.938544Z"
    }
   },
   "outputs": [
    {
     "name": "stdout",
     "output_type": "stream",
     "text": [
      "BLS \\href{https://www.bls.gov/news.release/empsit.nr0.htm}{reports} 10.1 million unemployed persons in January 2021, and an unemployment rate of 6.3 percent (see {\\color{blue!50!cyan}\\textbf{---}}), slightly below the December 2020 rate of 6.7 percent, but substantially above the January 2020 rate of 3.5 percent. \n",
      "\n",
      "In January 2021, the labor under-utilization rate is 11.1 percent (see {\\color{blue}\\textbf{---}}). \n",
      "\n",
      "Unemployment is much more common for disadvantaged groups, with the black or African American unemployment rate typically double the white unemployment rate. A very tight labor market may have the effect of reducing racial discrimination in hiring. However, disadvantaged groups are more likely to lose jobs in a downturn. As a result, the full-employment portion of the business cycle is quite short for many people. Since February 2020, the black unemployment rate has increased by 3.2 percentage points to 9.2 percent (see {\\color{green!50!teal!60!black}\\textbf{---}}).\n"
     ]
    }
   ],
   "source": [
    "df = (pd.read_csv(data_dir / 'jobs_report_main.csv', parse_dates=['date'])\n",
    "        .set_index('date'))\n",
    "srs = ['Total', 'U6']\n",
    "df.loc['1989':, srs].to_csv(data_dir / 'unemp2.csv', index_label='date')\n",
    "\n",
    "srs = ['White', 'Black', 'Hispanic']\n",
    "df.loc['1989':, srs].to_csv(data_dir / 'unemp.csv', index_label='date')\n",
    "\n",
    "s = series_info(df['Level'])\n",
    "s2 = series_info(df['Total'])\n",
    "s3 = series_info(df['Black'])\n",
    "s4 = series_info(df['U6'])\n",
    "compare = compare_text(df['Total'].iloc[-1], df['Total'].iloc[-2], [0.15, 1.5, 3.0])\n",
    "compare2 = compare_text(df['Total'].iloc[-1], df['Total'].iloc[-13], [0.15, 1.5, 3.0])\n",
    "pryrdt = dtxt(df.index[-13])['mon1']\n",
    "\n",
    "if compare[-5:] != compare2[-5:]:\n",
    "    conj = f', but {compare2} the {pryrdt} rate of {df[\"Total\"].iloc[-13]:.1f} percent'\n",
    "elif compare != compare2:\n",
    "    conj = f', and {compare2} the {pryrdt} rate of {df[\"Total\"].iloc[-13]:.1f} percent'\n",
    "else:\n",
    "    conj = ''\n",
    "    \n",
    "text = ('BLS \\href{https://www.bls.gov/news.release/empsit.nr0.htm}{reports} '+\n",
    "        f'{s[\"val_latest\"]/1000:.1f} million '+\n",
    "        f'unemployed persons in {s[\"date_latest_ft\"]}, '+\n",
    "        f'and an unemployment rate of {s2[\"val_latest\"]} percent '+\n",
    "        '(see {\\color{blue!50!cyan}\\\\textbf{---}}), '+\n",
    "        f'{compare} the {s[\"date_prev_ft\"]} rate of {s2[\"val_prev\"]} percent'+\n",
    "        f'{conj}.')\n",
    "write_txt(text_dir / 'unemp1.txt', text)\n",
    "print(text, '\\n')\n",
    "\n",
    "mval = f', {s4[\"last_matched\"]}.' if s4['days_since_match'] > 1000 else '.'\n",
    "text = (f'In {s[\"date_latest_ft\"]}, the labor under-utilization rate is '+\n",
    "        f'{s4[\"val_latest\"]} percent '+\n",
    "        '(see {\\color{blue}\\\\textbf{---}})'+\n",
    "        f'{mval}')\n",
    "write_txt(text_dir / 'unemp2.txt', text)\n",
    "print(text, '\\n')\n",
    "\n",
    "write_txt(text_dir / 'u6_node.txt', end_node(df['U6'], 'blue'))\n",
    "write_txt(text_dir / 'u3_node.txt', end_node(df['Total'], 'blue!50!cyan'))\n",
    "\n",
    "black_ch = df['Black'].iloc[-1] - df.loc['2020-02-01', 'Black']\n",
    "text = ('Unemployment is much more common for disadvantaged groups, '+\n",
    "        'with the black or African American unemployment rate typically double '+\n",
    "        'the white unemployment rate. '+\n",
    "        'A very tight labor market may have the effect of reducing racial '+\n",
    "        'discrimination in hiring. However, disadvantaged groups are more likely to '+\n",
    "        'lose jobs in a downturn. As a result, the full-employment portion '+\n",
    "        'of the business cycle is quite short for many people. '\n",
    "        'Since February 2020, the black unemployment rate '+\n",
    "        f'has increased by {black_ch:.1f} percentage '+\n",
    "        f'points to {s3[\"val_latest\"]:.1f} percent '+\n",
    "        '(see {\\color{green!50!teal!60!black}\\\\textbf{---}}).')\n",
    "write_txt(text_dir / 'unemp3.txt', text)\n",
    "print(text)"
   ]
  },
  {
   "cell_type": "code",
   "execution_count": 9,
   "metadata": {
    "ExecuteTime": {
     "end_time": "2021-02-07T15:38:36.763685Z",
     "start_time": "2021-02-07T15:38:36.722791Z"
    }
   },
   "outputs": [
    {
     "data": {
      "text/html": [
       "<div>\n",
       "<style scoped>\n",
       "    .dataframe tbody tr th:only-of-type {\n",
       "        vertical-align: middle;\n",
       "    }\n",
       "\n",
       "    .dataframe tbody tr th {\n",
       "        vertical-align: top;\n",
       "    }\n",
       "\n",
       "    .dataframe thead th {\n",
       "        text-align: right;\n",
       "    }\n",
       "</style>\n",
       "<table border=\"1\" class=\"dataframe\">\n",
       "  <thead>\n",
       "    <tr style=\"text-align: right;\">\n",
       "      <th></th>\n",
       "      <th>Jan `21</th>\n",
       "      <th>Dec `20</th>\n",
       "      <th>Nov `20</th>\n",
       "      <th>Oct `20</th>\n",
       "      <th>Sep `20</th>\n",
       "      <th>Aug `20</th>\n",
       "      <th>GFC peak</th>\n",
       "      <th>Date</th>\n",
       "    </tr>\n",
       "  </thead>\n",
       "  <tbody>\n",
       "    <tr>\n",
       "      <th>Under-utilization Rate (U6)</th>\n",
       "      <td>11.1</td>\n",
       "      <td>11.7</td>\n",
       "      <td>12.0</td>\n",
       "      <td>12.1</td>\n",
       "      <td>12.8</td>\n",
       "      <td>14.2</td>\n",
       "      <td>17.2</td>\n",
       "      <td>Dec `09</td>\n",
       "    </tr>\n",
       "    <tr>\n",
       "      <th>Unemployment Rate (U3)</th>\n",
       "      <td>6.3</td>\n",
       "      <td>6.7</td>\n",
       "      <td>6.7</td>\n",
       "      <td>6.9</td>\n",
       "      <td>7.8</td>\n",
       "      <td>8.4</td>\n",
       "      <td>10.0</td>\n",
       "      <td>Oct `09</td>\n",
       "    </tr>\n",
       "    <tr>\n",
       "      <th>\\textit{by race/ethnicity:}</th>\n",
       "      <td></td>\n",
       "      <td></td>\n",
       "      <td></td>\n",
       "      <td></td>\n",
       "      <td></td>\n",
       "      <td></td>\n",
       "      <td></td>\n",
       "      <td></td>\n",
       "    </tr>\n",
       "    <tr>\n",
       "      <th>\\hspace{2mm} White</th>\n",
       "      <td>5.7</td>\n",
       "      <td>6.0</td>\n",
       "      <td>5.9</td>\n",
       "      <td>6.0</td>\n",
       "      <td>7.0</td>\n",
       "      <td>7.4</td>\n",
       "      <td>9.2</td>\n",
       "      <td>Oct `09</td>\n",
       "    </tr>\n",
       "    <tr>\n",
       "      <th>\\hspace{2mm} Black</th>\n",
       "      <td>9.2</td>\n",
       "      <td>9.9</td>\n",
       "      <td>10.3</td>\n",
       "      <td>10.8</td>\n",
       "      <td>12.0</td>\n",
       "      <td>12.8</td>\n",
       "      <td>16.8</td>\n",
       "      <td>Mar `10</td>\n",
       "    </tr>\n",
       "    <tr>\n",
       "      <th>\\hspace{2mm} Hispanic</th>\n",
       "      <td>8.6</td>\n",
       "      <td>9.3</td>\n",
       "      <td>8.4</td>\n",
       "      <td>8.8</td>\n",
       "      <td>10.3</td>\n",
       "      <td>10.5</td>\n",
       "      <td>13.0</td>\n",
       "      <td>Aug `09</td>\n",
       "    </tr>\n",
       "    <tr>\n",
       "      <th>\\hspace{2mm} Asian</th>\n",
       "      <td>6.6</td>\n",
       "      <td>5.9</td>\n",
       "      <td>6.7</td>\n",
       "      <td>7.6</td>\n",
       "      <td>8.8</td>\n",
       "      <td>10.6</td>\n",
       "      <td>8.4</td>\n",
       "      <td>Dec `09</td>\n",
       "    </tr>\n",
       "  </tbody>\n",
       "</table>\n",
       "</div>"
      ],
      "text/plain": [
       "                            Jan `21 Dec `20 Nov `20 Oct `20 Sep `20 Aug `20  \\\n",
       "Under-utilization Rate (U6)    11.1    11.7    12.0    12.1    12.8    14.2   \n",
       "Unemployment Rate (U3)          6.3     6.7     6.7     6.9     7.8     8.4   \n",
       "\\textit{by race/ethnicity:}                                                   \n",
       "\\hspace{2mm} White              5.7     6.0     5.9     6.0     7.0     7.4   \n",
       "\\hspace{2mm} Black              9.2     9.9    10.3    10.8    12.0    12.8   \n",
       "\\hspace{2mm} Hispanic           8.6     9.3     8.4     8.8    10.3    10.5   \n",
       "\\hspace{2mm} Asian              6.6     5.9     6.7     7.6     8.8    10.6   \n",
       "\n",
       "                            GFC peak     Date  \n",
       "Under-utilization Rate (U6)     17.2  Dec `09  \n",
       "Unemployment Rate (U3)          10.0  Oct `09  \n",
       "\\textit{by race/ethnicity:}                    \n",
       "\\hspace{2mm} White               9.2  Oct `09  \n",
       "\\hspace{2mm} Black              16.8  Mar `10  \n",
       "\\hspace{2mm} Hispanic           13.0  Aug `09  \n",
       "\\hspace{2mm} Asian               8.4  Dec `09  "
      ]
     },
     "execution_count": 9,
     "metadata": {},
     "output_type": "execute_result"
    }
   ],
   "source": [
    "srs = ['U6', 'Total', 'White', 'Black', 'Hispanic', 'Asian']\n",
    "untab = df[srs].iloc[-6:].iloc[::-1].T\n",
    "untab.columns = untab.columns.strftime('%b `%y')\n",
    "untab['GFC peak'] = df.loc['2005':'2013', srs].max()\n",
    "untab['Date'] = df.loc['2005':'2013', srs].idxmax().dt.strftime('%b `%y')\n",
    "d = {'Total': 'Unemployment Rate (U3)',\n",
    "     'U6': 'Under-utilization Rate (U6)',\n",
    "     'White': '\\hspace{2mm} White',\n",
    "     'Black': '\\hspace{2mm} Black',\n",
    "     'Hispanic': '\\hspace{2mm} Hispanic',\n",
    "     'Asian': '\\hspace{2mm} Asian'}\n",
    "untab.index = untab.index.map(d)\n",
    "\n",
    "untab.loc['\\\\textit{by race/ethnicity:}', untab.columns] = [''] * 8\n",
    "untab = untab.iloc[0:2].append(untab.iloc[-1]).append(untab.iloc[2:6])\n",
    "untab.columns.name = None\n",
    "untab.to_csv(data_dir / 'unemp1.tex', sep='&', line_terminator='\\\\\\ ', quotechar=' ')\n",
    "\n",
    "untab"
   ]
  },
  {
   "cell_type": "code",
   "execution_count": null,
   "metadata": {},
   "outputs": [],
   "source": []
  },
  {
   "cell_type": "code",
   "execution_count": null,
   "metadata": {},
   "outputs": [],
   "source": []
  },
  {
   "cell_type": "markdown",
   "metadata": {},
   "source": [
    "### Labor Force Participation Rate"
   ]
  },
  {
   "cell_type": "code",
   "execution_count": 10,
   "metadata": {
    "ExecuteTime": {
     "end_time": "2021-02-07T15:38:41.448549Z",
     "start_time": "2021-02-07T15:38:41.421502Z"
    }
   },
   "outputs": [
    {
     "name": "stdout",
     "output_type": "stream",
     "text": [
      "In the latest data, covering January 2021, 61.4 percent of people age 16 and older are in the labor force (see {\\color{green!80!blue}\\textbf{---}}), compared to 61.5 percent in December 2020 and 61.5 percent in November 2020. In February 2020, when US confirmed cases of COVID-19 were still low, this labor force participation rate was 63.3 percent. \n",
      "In January 2021, 67.5 percent of men age 16+ are in the labor force (see {\\color{blue!80!cyan}\\textbf{---}}), compared to 55.7 percent of women (see {\\color{orange}\\textbf{---}}). Since February 2020, labor force participation has decreased 1.8 percentage points among men, and decreased 2.1 percentage points among women.\n"
     ]
    }
   ],
   "source": [
    "tcol = 'green!80!blue'\n",
    "mcol = 'blue!80!cyan'\n",
    "wcol = 'orange'\n",
    "\n",
    "df = (pd.read_csv(data_dir / 'jobs_report_main2.csv', parse_dates=['date'])\n",
    "        .set_index('date'))[['MenLFPR', 'WomenLFPR']]\n",
    "\n",
    "df2 = (pd.read_csv(data_dir / 'jobs_report_main.csv', parse_dates=['date'])\n",
    "         .assign(TotLFPR = lambda x: (x.LF / x.POP)*100)\n",
    "         .set_index('date'))['TotLFPR']\n",
    "\n",
    "df['TotLFPR'] = df2\n",
    "df.loc['1989':].to_csv(data_dir / 'lfpr.csv', index_label='date')\n",
    "\n",
    "write_txt(text_dir / 'totlfpr_node.txt', end_node3(df['TotLFPR'], tcol))\n",
    "write_txt(text_dir / 'menlfpr_node.txt', end_node3(df['MenLFPR'], mcol))\n",
    "write_txt(text_dir / 'womenlfpr_node.txt', end_node3(df['WomenLFPR'], wcol))\n",
    "\n",
    "ltdate = dtxt(df.index[-1])['mon1']\n",
    "ltval = df['TotLFPR'].iloc[-1]\n",
    "prval = df['TotLFPR'].iloc[-2]\n",
    "if dtxt(df.index[-1])['year'] == dtxt(df.index[-2])['year']:\n",
    "    prmonth = dtxt(df.index[-2])['mon3']\n",
    "else:\n",
    "    prmonth = dtxt(df.index[-2])['mon1']\n",
    "prval2 = df['TotLFPR'].iloc[-3]\n",
    "if dtxt(df.index[-1])['year'] == dtxt(df.index[-3])['year']:\n",
    "    prmonth2 = dtxt(df.index[-3])['mon3']\n",
    "else:\n",
    "    prmonth2 = dtxt(df.index[-3])['mon1']\n",
    "feb20val = df['TotLFPR'].loc['2020-02-01']\n",
    "\n",
    "text = (f'In the latest data, covering {ltdate}, {ltval:.1f} percent of people age 16 and '+\n",
    "        'older are in the labor force (see {\\\\color{green!80!blue}\\\\textbf{---}}), '+\n",
    "        f'compared to {prval:.1f} percent in {prmonth} '+\n",
    "        f'and {prval2:.1f} percent in {prmonth2}. In February 2020, when US '+\n",
    "        'confirmed cases of COVID-19 were still low, this labor force participation '+\n",
    "        f'rate was {feb20val:.1f} percent. ')\n",
    "print(text)\n",
    "write_txt(text_dir / 'lfpr_text.txt', text)\n",
    "\n",
    "mltval = df['MenLFPR'].iloc[-1]\n",
    "wltval = df['WomenLFPR'].iloc[-1]\n",
    "mchval = mltval - df['MenLFPR'].loc['2020-01-01']\n",
    "wchval = wltval - df['WomenLFPR'].loc['2020-01-01']\n",
    "mch = value_text(mchval, style='increase', ptype='pp')\n",
    "wch = value_text(wchval, style='increase', ptype='pp')\n",
    "\n",
    "text = (f'In {ltdate}, {mltval:.1f} percent of men age 16+ are in '+\n",
    "        'the labor force (see {\\\\color{blue!80!cyan}\\\\textbf{---}}), '+\n",
    "        f'compared to {wltval:.1f} percent of women '+\n",
    "        '(see {\\\\color{orange}\\\\textbf{---}}). Since February '+\n",
    "        f'2020, labor force participation has {mch} among men, '+\n",
    "        f'and {wch} among women.')\n",
    "print(text)\n",
    "write_txt(text_dir / 'lfpr_text2.txt', text)"
   ]
  },
  {
   "cell_type": "code",
   "execution_count": null,
   "metadata": {},
   "outputs": [],
   "source": []
  },
  {
   "cell_type": "code",
   "execution_count": null,
   "metadata": {},
   "outputs": [],
   "source": []
  },
  {
   "cell_type": "code",
   "execution_count": null,
   "metadata": {},
   "outputs": [],
   "source": []
  },
  {
   "cell_type": "markdown",
   "metadata": {},
   "source": [
    "### Employment rate"
   ]
  },
  {
   "cell_type": "code",
   "execution_count": 11,
   "metadata": {
    "ExecuteTime": {
     "end_time": "2021-02-07T15:38:43.822826Z",
     "start_time": "2021-02-07T15:38:43.806693Z"
    }
   },
   "outputs": [
    {
     "name": "stdout",
     "output_type": "stream",
     "text": [
      "In January 2021, 76.4 percent of 25-54 years olds were employed, compared to 76.3 percent in December 2020. Over the past year, the age 25-54 employment rate has fallen by 4.1 percentage points. The current age 25-54 employment rate is 4.9 percentage points (equivalent to 6.1 million workers) below the average during 1998--99, a period with a particularly tight labor market. \n"
     ]
    }
   ],
   "source": [
    "df = (pd.read_csv(data_dir / 'jobs_report_main.csv', parse_dates=['date'])\n",
    "        .set_index('date')).loc['1989':, 'PA_EPOP']\n",
    "\n",
    "df.to_csv(data_dir / 'epop.csv', index_label='date')\n",
    "\n",
    "write_txt(text_dir / 'epop_node.txt', end_node(df, 'blue!90!cyan', date=True))\n",
    "\n",
    "#node = f'{dtxt(df.index[-1])[\"mon5\"]}:\\\\\\{df.iloc[-1]:.1f}\\%'\n",
    "#write_txt(text_dir / 'epop.txt', node)\n",
    "\n",
    "d = series_info(df)\n",
    "\n",
    "text = f'In {d[\"date_latest_ft\"]}, {d[\"val_latest\"]} percent'\n",
    "\n",
    "if (d['days_since_match'] > 725) | (d['days_since_match'] == 0):\n",
    "    text2 = d['last_matched']\n",
    "else:\n",
    "    text2 = f'compared to {d[\"val_prev\"]} percent in {d[\"date_prev_ft\"]}'\n",
    "    \n",
    "if d['change_year_ago'] > 0:\n",
    "    direction = 'increased'\n",
    "    value = d['change_year_ago']\n",
    "    label = (f'Over the past year, the age 25-54 employment rate has '+\n",
    "             f'{direction} by {value:.1f} percentage points.')\n",
    "elif d['change_year_ago'] < 0:\n",
    "    direction = 'fallen'\n",
    "    value = abs(d['change_year_ago'])\n",
    "    label = (f'Over the past year, the age 25-54 employment rate has '+\n",
    "             f'{direction} by {value:.1f} percentage points.')\n",
    "else:\n",
    "    label = 'The age 25-54 employment rate is unchanged over the past year. '\n",
    "    \n",
    "pop = 126277\n",
    "diff1 = d['late90s'] - d['val_latest']\n",
    "diff = (d['late90s'] - d['val_latest']) / 100 * pop\n",
    "\n",
    "if diff > 999:\n",
    "    diff_text = f'{round(diff / 1000, 1)} million'\n",
    "else: \n",
    "    diff_text = f'{round(diff, -1)} thousand'\n",
    "    \n",
    "label2 = (f'The current age 25-54 employment rate is {diff1:.1f} percentage '+\n",
    "          f'points (equivalent to {diff_text} workers) below the average during '+\n",
    "          '1998--99, a period with a particularly tight labor market. ')\n",
    "\n",
    "textval = f'{text} of 25-54 years olds were employed, {text2}. {label} {label2}'\n",
    "print(textval)\n",
    "\n",
    "write_txt(text_dir / 'epop_text.txt', textval)"
   ]
  },
  {
   "cell_type": "code",
   "execution_count": null,
   "metadata": {},
   "outputs": [],
   "source": []
  },
  {
   "cell_type": "code",
   "execution_count": null,
   "metadata": {},
   "outputs": [],
   "source": []
  },
  {
   "cell_type": "markdown",
   "metadata": {},
   "source": [
    "### Unemployment by reason"
   ]
  },
  {
   "cell_type": "code",
   "execution_count": 12,
   "metadata": {
    "ExecuteTime": {
     "end_time": "2021-02-07T15:38:46.413225Z",
     "start_time": "2021-02-07T15:38:46.398338Z"
    }
   },
   "outputs": [
    {
     "name": "stdout",
     "output_type": "stream",
     "text": [
      "In January 2021, 4.4 percent of the labor force were unemployed because of losing a job or having a temporary job end. Of these, 1.7 percent of the labor force are unemployed due to temporary layoff, equivalent to 27.1 percent of the unemployed. Additionally, 0.4 percent of the labor force were re-entrants, 1.2 percent were new entrants, and 0.3 percent were job leavers. \n"
     ]
    }
   ],
   "source": [
    "srs = ['Job Loser', 'Job Leaver', 'Re-entrant', 'New entrant', \n",
    "       'Temporary Layoff', 'Permanent Separation', 'Level']\n",
    "d1 = (pd.read_csv(data_dir / 'jobs_report_main.csv', parse_dates=['date'])\n",
    "        .set_index('date')).loc['1989':]\n",
    "\n",
    "df = d1[srs].div(d1['LF'], axis='index') * 100\n",
    "#.resample('QS').mean()\n",
    "df.to_csv(data_dir / 'unemp_reason.csv', index_label='date', float_format='%g')\n",
    "\n",
    "loser = df['Job Loser'].iloc[-1]\n",
    "tl = df['Temporary Layoff'].iloc[-1]\n",
    "tlsh = (d1['Temporary Layoff'] / d1['Level']).iloc[-1] * 100\n",
    "leaver = df['Job Leaver'].iloc[-1]\n",
    "reent = df['Re-entrant'].iloc[-1]\n",
    "newent = df['New entrant'].iloc[-1]\n",
    "ltdate = dtxt(df.index[-1])['mon1']\n",
    "\n",
    "text = (f'In {ltdate}, {loser:.1f} percent of the labor force '+\n",
    "        'were unemployed because of losing a job or having a temporary '+\n",
    "        f'job end. Of these, {tl:.1f} percent of the labor force are unemployed due '+\n",
    "        f'to temporary layoff, equivalent to {tlsh:.1f} percent of the unemployed. '+\n",
    "        f'Additionally, {leaver:.1f} percent of the labor force were re-entrants, '+\n",
    "        f'{reent:.1f} percent were new entrants, and {newent:.1f} '+\n",
    "        'percent were job leavers. ')\n",
    "write_txt(text_dir / 'unemp_reason.txt', text)\n",
    "print(text)"
   ]
  },
  {
   "cell_type": "code",
   "execution_count": 13,
   "metadata": {
    "ExecuteTime": {
     "end_time": "2021-02-07T15:38:49.237344Z",
     "start_time": "2021-02-07T15:38:48.459549Z"
    }
   },
   "outputs": [],
   "source": [
    "lf = ['Employed', 'Unemployed']\n",
    "naw_rate = lambda x: np.average(x['NOTATWORK'], weights=x['BASICWGT'])\n",
    "\n",
    "naw = pd.Series(dtype='float64')\n",
    "\n",
    "columns = ['LFS', 'MONTH', 'YEAR', 'BASICWGT', 'NOTATWORK']\n",
    "for year in range(2017, 2021):\n",
    "    data = (pd.read_feather(cps_dir / f'cps{year}.ft', columns=columns)\n",
    "        .query('LFS in @lf'))\n",
    "    data1 = data.groupby(['YEAR', 'MONTH']).apply(naw_rate) * 100\n",
    "    data1.index = [pd.to_datetime(f'{ti[0]}-{ti[1]}-01') for ti in data1.index]\n",
    "    naw = naw.append(data1)\n",
    "\n",
    "df['Employed, Not at Work'] = naw"
   ]
  },
  {
   "cell_type": "code",
   "execution_count": 14,
   "metadata": {
    "ExecuteTime": {
     "end_time": "2021-02-07T15:38:49.984206Z",
     "start_time": "2021-02-07T15:38:49.954434Z"
    }
   },
   "outputs": [],
   "source": [
    "d = {'Level': 'Unemployed, Any Reason',\n",
    "     'Job Loser': '\\hspace{2mm}Job Loser',\n",
    "     'Temporary Layoff': '\\hspace{4mm}Temporary Layoff',\n",
    "     'Permanent Separation': '\\hspace{4mm}Permanent Separation',\n",
    "     'Re-entrant': '\\hspace{2mm}Re-entrant',\n",
    "     'New entrant': '\\hspace{2mm}New entrant',\n",
    "     'Job Leaver': '\\hspace{2mm}Job Leaver'}\n",
    "\n",
    "final = pd.DataFrame()\n",
    "\n",
    "loc_list = [-1, -2, -3, -4, -5, -13, -14, -15, -16, -17]\n",
    "\n",
    "for key, value in d.items():\n",
    "    for i in loc_list:\n",
    "        final.loc[value, dtxt(df.index[i])['mon6']] = df[key].iloc[i].round(1)\n",
    "        \n",
    "final.loc['\\\\textit{See also:}', final.columns] = [''] * 10\n",
    "final.loc['Employed, Not at Work', final.columns] = [df['Employed, Not at Work'].iloc[i].round(1) \n",
    "                                                     for i in loc_list]\n",
    "\n",
    "final.to_csv(data_dir / 'unempreason_table.tex', sep='&', line_terminator='\\\\\\ ', quotechar=' ')"
   ]
  },
  {
   "cell_type": "code",
   "execution_count": 15,
   "metadata": {
    "ExecuteTime": {
     "end_time": "2021-02-07T15:38:50.607719Z",
     "start_time": "2021-02-07T15:38:50.595710Z"
    }
   },
   "outputs": [
    {
     "data": {
      "text/html": [
       "<div>\n",
       "<style scoped>\n",
       "    .dataframe tbody tr th:only-of-type {\n",
       "        vertical-align: middle;\n",
       "    }\n",
       "\n",
       "    .dataframe tbody tr th {\n",
       "        vertical-align: top;\n",
       "    }\n",
       "\n",
       "    .dataframe thead th {\n",
       "        text-align: right;\n",
       "    }\n",
       "</style>\n",
       "<table border=\"1\" class=\"dataframe\">\n",
       "  <thead>\n",
       "    <tr style=\"text-align: right;\">\n",
       "      <th></th>\n",
       "      <th>Jan `21</th>\n",
       "      <th>Dec `20</th>\n",
       "      <th>Nov `20</th>\n",
       "      <th>Oct `20</th>\n",
       "      <th>Sep `20</th>\n",
       "      <th>Jan `20</th>\n",
       "      <th>Dec `19</th>\n",
       "      <th>Nov `19</th>\n",
       "      <th>Oct `19</th>\n",
       "      <th>Sep `19</th>\n",
       "    </tr>\n",
       "  </thead>\n",
       "  <tbody>\n",
       "    <tr>\n",
       "      <th>Unemployed, Any Reason</th>\n",
       "      <td>6.3</td>\n",
       "      <td>6.7</td>\n",
       "      <td>6.7</td>\n",
       "      <td>6.9</td>\n",
       "      <td>7.8</td>\n",
       "      <td>3.5</td>\n",
       "      <td>3.6</td>\n",
       "      <td>3.6</td>\n",
       "      <td>3.6</td>\n",
       "      <td>3.5</td>\n",
       "    </tr>\n",
       "    <tr>\n",
       "      <th>\\hspace{2mm}Job Loser</th>\n",
       "      <td>4.4</td>\n",
       "      <td>4.5</td>\n",
       "      <td>4.7</td>\n",
       "      <td>4.8</td>\n",
       "      <td>5.6</td>\n",
       "      <td>1.6</td>\n",
       "      <td>1.6</td>\n",
       "      <td>1.7</td>\n",
       "      <td>1.7</td>\n",
       "      <td>1.5</td>\n",
       "    </tr>\n",
       "    <tr>\n",
       "      <th>\\hspace{4mm}Temporary Layoff</th>\n",
       "      <td>1.7</td>\n",
       "      <td>1.9</td>\n",
       "      <td>1.7</td>\n",
       "      <td>2.0</td>\n",
       "      <td>2.9</td>\n",
       "      <td>0.4</td>\n",
       "      <td>0.5</td>\n",
       "      <td>0.5</td>\n",
       "      <td>0.5</td>\n",
       "      <td>0.5</td>\n",
       "    </tr>\n",
       "    <tr>\n",
       "      <th>\\hspace{4mm}Permanent Separation</th>\n",
       "      <td>2.2</td>\n",
       "      <td>2.1</td>\n",
       "      <td>2.3</td>\n",
       "      <td>2.3</td>\n",
       "      <td>2.3</td>\n",
       "      <td>0.8</td>\n",
       "      <td>0.8</td>\n",
       "      <td>0.9</td>\n",
       "      <td>0.8</td>\n",
       "      <td>0.8</td>\n",
       "    </tr>\n",
       "    <tr>\n",
       "      <th>\\hspace{2mm}Re-entrant</th>\n",
       "      <td>1.2</td>\n",
       "      <td>1.4</td>\n",
       "      <td>1.2</td>\n",
       "      <td>1.3</td>\n",
       "      <td>1.3</td>\n",
       "      <td>1.1</td>\n",
       "      <td>1.1</td>\n",
       "      <td>1.0</td>\n",
       "      <td>1.0</td>\n",
       "      <td>1.0</td>\n",
       "    </tr>\n",
       "    <tr>\n",
       "      <th>\\hspace{2mm}New entrant</th>\n",
       "      <td>0.3</td>\n",
       "      <td>0.3</td>\n",
       "      <td>0.3</td>\n",
       "      <td>0.3</td>\n",
       "      <td>0.3</td>\n",
       "      <td>0.3</td>\n",
       "      <td>0.3</td>\n",
       "      <td>0.3</td>\n",
       "      <td>0.4</td>\n",
       "      <td>0.4</td>\n",
       "    </tr>\n",
       "    <tr>\n",
       "      <th>\\hspace{2mm}Job Leaver</th>\n",
       "      <td>0.4</td>\n",
       "      <td>0.5</td>\n",
       "      <td>0.4</td>\n",
       "      <td>0.5</td>\n",
       "      <td>0.5</td>\n",
       "      <td>0.5</td>\n",
       "      <td>0.5</td>\n",
       "      <td>0.5</td>\n",
       "      <td>0.5</td>\n",
       "      <td>0.5</td>\n",
       "    </tr>\n",
       "    <tr>\n",
       "      <th>\\textit{See also:}</th>\n",
       "      <td></td>\n",
       "      <td></td>\n",
       "      <td></td>\n",
       "      <td></td>\n",
       "      <td></td>\n",
       "      <td></td>\n",
       "      <td></td>\n",
       "      <td></td>\n",
       "      <td></td>\n",
       "      <td></td>\n",
       "    </tr>\n",
       "    <tr>\n",
       "      <th>Employed, Not at Work</th>\n",
       "      <td>NaN</td>\n",
       "      <td>3.5</td>\n",
       "      <td>3.1</td>\n",
       "      <td>3.0</td>\n",
       "      <td>3.3</td>\n",
       "      <td>2.7</td>\n",
       "      <td>2.6</td>\n",
       "      <td>2.3</td>\n",
       "      <td>2.5</td>\n",
       "      <td>2.5</td>\n",
       "    </tr>\n",
       "  </tbody>\n",
       "</table>\n",
       "</div>"
      ],
      "text/plain": [
       "                                 Jan `21 Dec `20 Nov `20 Oct `20 Sep `20  \\\n",
       "Unemployed, Any Reason               6.3     6.7     6.7     6.9     7.8   \n",
       "\\hspace{2mm}Job Loser                4.4     4.5     4.7     4.8     5.6   \n",
       "\\hspace{4mm}Temporary Layoff         1.7     1.9     1.7     2.0     2.9   \n",
       "\\hspace{4mm}Permanent Separation     2.2     2.1     2.3     2.3     2.3   \n",
       "\\hspace{2mm}Re-entrant               1.2     1.4     1.2     1.3     1.3   \n",
       "\\hspace{2mm}New entrant              0.3     0.3     0.3     0.3     0.3   \n",
       "\\hspace{2mm}Job Leaver               0.4     0.5     0.4     0.5     0.5   \n",
       "\\textit{See also:}                                                         \n",
       "Employed, Not at Work                NaN     3.5     3.1     3.0     3.3   \n",
       "\n",
       "                                 Jan `20 Dec `19 Nov `19 Oct `19 Sep `19  \n",
       "Unemployed, Any Reason               3.5     3.6     3.6     3.6     3.5  \n",
       "\\hspace{2mm}Job Loser                1.6     1.6     1.7     1.7     1.5  \n",
       "\\hspace{4mm}Temporary Layoff         0.4     0.5     0.5     0.5     0.5  \n",
       "\\hspace{4mm}Permanent Separation     0.8     0.8     0.9     0.8     0.8  \n",
       "\\hspace{2mm}Re-entrant               1.1     1.1     1.0     1.0     1.0  \n",
       "\\hspace{2mm}New entrant              0.3     0.3     0.3     0.4     0.4  \n",
       "\\hspace{2mm}Job Leaver               0.5     0.5     0.5     0.5     0.5  \n",
       "\\textit{See also:}                                                        \n",
       "Employed, Not at Work                2.7     2.6     2.3     2.5     2.5  "
      ]
     },
     "execution_count": 15,
     "metadata": {},
     "output_type": "execute_result"
    }
   ],
   "source": [
    "final"
   ]
  },
  {
   "cell_type": "code",
   "execution_count": null,
   "metadata": {},
   "outputs": [],
   "source": []
  },
  {
   "cell_type": "code",
   "execution_count": null,
   "metadata": {},
   "outputs": [],
   "source": []
  },
  {
   "cell_type": "markdown",
   "metadata": {},
   "source": [
    "### Unemployed long-term"
   ]
  },
  {
   "cell_type": "code",
   "execution_count": 16,
   "metadata": {
    "ExecuteTime": {
     "end_time": "2021-02-07T15:38:53.949519Z",
     "start_time": "2021-02-07T15:38:53.931456Z"
    }
   },
   "outputs": [
    {
     "name": "stdout",
     "output_type": "stream",
     "text": [
      "As of January 2021, BLS \\href{https://www.bls.gov/webapps/legacy/cpsatab12.htm}{reports} that 1.56 percent of the age 16+ population have been unemployed for 27 weeks or longer, compared to 0.47 percent in January 2020 (see {\\color{blue}\\textbf{---}}). This measure of long-term unemployment peaked at 2.96 percent of the population in April 2010, but had fallen to 0.36 percent in April 2020. \n",
      " \n",
      "In January 2021, 2.08 percent of the age 16+ population are unemployed for at least 15 weeks, following 2.06 percent in December 2020, and 2.18 percent in November 2020.\n"
     ]
    }
   ],
   "source": [
    "srs = ['LT', 'MT', 'POP']\n",
    "df = (pd.read_csv(data_dir / 'jobs_report_main.csv', parse_dates=['date'])\n",
    "        .set_index('date')).loc['1989':, srs]\n",
    "\n",
    "data = (df.divide(df['POP'], axis=0) * 100).drop(['POP'], axis=1)\n",
    "data.to_csv(data_dir / 'ltu.csv', index_label='date', float_format='%g')\n",
    "\n",
    "write_txt(text_dir / 'ltu_node.txt', end_node(data['LT'], 'blue'))\n",
    "write_txt(text_dir / 'ltu_node2.txt', end_node(data['MT'], 'red'))\n",
    "\n",
    "ldate = dtxt(data.index[-1])['mon1']\n",
    "pdate = dtxt(data.index[-13])['mon1']\n",
    "hdate = dtxt(data['LT'].idxmax())['mon1']\n",
    "prdt = dtxt(data.index[-2])['mon1']\n",
    "prdt2 = dtxt(data.index[-3])['mon1']\n",
    "\n",
    "recent_min = data.loc['2015':, 'LT'].min()\n",
    "recent_min_dt = dtxt(data.loc['2015':, 'LT'].idxmin())['mon1']\n",
    "\n",
    "text = (f'As of {ldate}, BLS '+\n",
    "        '\\href{https://www.bls.gov/webapps/legacy/cpsatab12.htm}{reports} '+\n",
    "        f'that {data[\"LT\"].iloc[-1]:.2f} percent of the age 16+ '+\n",
    "         'population have been unemployed for 27 weeks or longer, '+\n",
    "        f'compared to {data[\"LT\"].iloc[-13]:.2f} percent in {pdate} '+\n",
    "        '(see {\\color{blue}\\\\textbf{---}}). This measure of long-term '+\n",
    "        f'unemployment peaked at {data[\"LT\"].max():.2f} percent of the '+\n",
    "        f'population in {hdate}, but had fallen to {recent_min:.2f} percent '+\n",
    "        f'in {recent_min_dt}. \\n \\nIn {ldate}, {data[\"MT\"].iloc[-1]:.2f} '+\n",
    "        'percent of the age 16+ population are unemployed for at '+\n",
    "        f'least 15 weeks, following {data[\"MT\"].iloc[-2]:.2f} percent in {prdt}, '+\n",
    "        f'and {data[\"MT\"].iloc[-3]:.2f} percent in {prdt2}.')\n",
    "write_txt(text_dir / 'ltu.txt', text)\n",
    "print(text)"
   ]
  },
  {
   "cell_type": "code",
   "execution_count": null,
   "metadata": {},
   "outputs": [],
   "source": []
  },
  {
   "cell_type": "code",
   "execution_count": null,
   "metadata": {},
   "outputs": [],
   "source": []
  },
  {
   "cell_type": "markdown",
   "metadata": {},
   "source": [
    "### Duration of Unemployment"
   ]
  },
  {
   "cell_type": "code",
   "execution_count": 17,
   "metadata": {
    "ExecuteTime": {
     "end_time": "2021-02-07T15:38:55.882064Z",
     "start_time": "2021-02-07T15:38:55.870718Z"
    }
   },
   "outputs": [
    {
     "name": "stdout",
     "output_type": "stream",
     "text": [
      "Among those who are unemployed, the average (mean) duration of unemployment is 26.0 weeks, and the typical (median) duration of unemployment is 15.3 weeks, as of January 2021.\n"
     ]
    }
   ],
   "source": [
    "srs = ['Median', 'Mean']\n",
    "df = (pd.read_csv(data_dir / 'jobs_report_main.csv', parse_dates=['date'])\n",
    "        .set_index('date')).loc['1989':, srs]\n",
    "\n",
    "df.to_csv(data_dir / 'unempdur.csv', index_label='date', float_format='%g')\n",
    "\n",
    "ldate = dtxt(df.index[-1])['mon1']\n",
    "\n",
    "median = df['Median'].iloc[-1]\n",
    "mean = df['Mean'].iloc[-1]\n",
    "\n",
    "text = ('Among those who are unemployed, '+\n",
    "        f'the average (mean) duration of unemployment is {mean:.1f} weeks, and the '+\n",
    "        f'typical (median) duration of unemployment is {median:.1f} weeks, as of {ldate}.')\n",
    "write_txt(text_dir / 'unempdur.txt', text)\n",
    "print(text)"
   ]
  },
  {
   "cell_type": "code",
   "execution_count": null,
   "metadata": {},
   "outputs": [],
   "source": []
  },
  {
   "cell_type": "code",
   "execution_count": null,
   "metadata": {},
   "outputs": [],
   "source": []
  },
  {
   "cell_type": "markdown",
   "metadata": {},
   "source": [
    "### Part Time for Economic Reasons"
   ]
  },
  {
   "cell_type": "code",
   "execution_count": 18,
   "metadata": {
    "ExecuteTime": {
     "end_time": "2021-02-07T15:38:58.397432Z",
     "start_time": "2021-02-07T15:38:58.378298Z"
    }
   },
   "outputs": [
    {
     "name": "stdout",
     "output_type": "stream",
     "text": [
      "As of January 2021, 5,954,000 people are working part time because of economic reasons, equivalent to 3.7 percent of the labor force (see {\\color{red}\\textbf{---}}), the lowest level since March 2020 and substantially above the February 2020 rate of 2.7 percent. During the great recession, the involuntary part-time share of the labor force peaked at 6.0 percent in September 2010.\n"
     ]
    }
   ],
   "source": [
    "srs = ['PTECON', 'LF']\n",
    "df = (pd.read_csv(data_dir / 'jobs_report_main.csv', parse_dates=['date'])\n",
    "        .set_index('date')).loc['1989':, srs]\n",
    "\n",
    "data = (df['PTECON'] / df['LF']) * 100\n",
    "data.name = 'PTECON'\n",
    "data.to_csv(data_dir / 'ptecon.csv', index_label='date')\n",
    "\n",
    "write_txt(text_dir / 'ptecon_node.txt', end_node(data, 'red'))\n",
    "\n",
    "ltdate = dtxt(df.index[-1])['mon1']\n",
    "totval = df.PTECON.iloc[-1] * 1000\n",
    "ltval = data.iloc[-1]\n",
    "comp_date = '2020-02-01'\n",
    "lastmatch = series_info(data)['last_matched']\n",
    "feb20val = data.loc[comp_date]\n",
    "compare = compare_text(ltval, feb20val, [0.1, 0.9, 4.0])\n",
    "feb20date = dtxt(pd.to_datetime(comp_date))['mon1']\n",
    "gfcval = data.loc[:comp_date].max()\n",
    "gfcmaxdate = dtxt(data.loc[:comp_date].idxmax())['mon1']\n",
    "\n",
    "text = (f'As of {ltdate}, {totval:,.0f} people are working part time '+\n",
    "        f'because of economic reasons, equivalent to {ltval:.1f} percent '+\n",
    "        'of the labor force (see {\\color{red}\\\\textbf{---}}), '+\n",
    "        f'{lastmatch} and {compare} the {feb20date} rate of {feb20val:.1f} percent. '+\n",
    "        'During the great recession, the involuntary part-time share of '+\n",
    "        f'the labor force peaked at {gfcval:.1f} percent in {gfcmaxdate}.')\n",
    "write_txt(text_dir / 'ptecon.txt', text)\n",
    "print(text)"
   ]
  },
  {
   "cell_type": "code",
   "execution_count": null,
   "metadata": {},
   "outputs": [],
   "source": []
  },
  {
   "cell_type": "code",
   "execution_count": null,
   "metadata": {},
   "outputs": [],
   "source": []
  },
  {
   "cell_type": "markdown",
   "metadata": {},
   "source": [
    "### Multiple Jobholders"
   ]
  },
  {
   "cell_type": "code",
   "execution_count": 19,
   "metadata": {
    "ExecuteTime": {
     "end_time": "2021-02-07T15:39:00.895251Z",
     "start_time": "2021-02-07T15:39:00.874310Z"
    }
   },
   "outputs": [
    {
     "name": "stdout",
     "output_type": "stream",
     "text": [
      "In January 2021, 6,535,000 people are working more than one job, equivalent to 4.4 percent of workers (see {\\color{cyan!50!blue}\\textbf{---}}), the highest level since November 2020 and substantially below the February 2020 rate of 5.2 percent. The multiple jobholder share of workers peaked at 6.6 percent in November 1996.\n"
     ]
    }
   ],
   "source": [
    "srs = ['MJH', 'EMP']\n",
    "df = (pd.read_csv(data_dir / 'jobs_report_main2.csv', parse_dates=['date'])\n",
    "        .set_index('date')).loc['1989':, srs]\n",
    "\n",
    "data = ((df['MJH'] / df['EMP']) * 100).dropna()\n",
    "data.name = 'MJH'\n",
    "data.to_csv(data_dir / 'mjh.csv', index_label='date')\n",
    "\n",
    "write_txt(text_dir / 'mjh_node.txt', end_node(data, 'cyan!50!blue'))\n",
    "\n",
    "ltdate = dtxt(df.index[-1])['mon1']\n",
    "totval = df.MJH.iloc[-1] * 1000\n",
    "ltval = data.iloc[-1]\n",
    "comp_date = '2020-02-01'\n",
    "lastmatch = series_info(data)['last_matched']\n",
    "feb20val = data.loc[comp_date]\n",
    "compare = compare_text(ltval, feb20val, [0.1, 0.4, 2.0])\n",
    "feb20date = dtxt(pd.to_datetime(comp_date))['mon1']\n",
    "gfcval = data.loc[:comp_date].max()\n",
    "gfcmaxdate = dtxt(data.loc[:comp_date].idxmax())['mon1']\n",
    "\n",
    "text = (f'In {ltdate}, {totval:,.0f} people are working more than one job, '+\n",
    "        f'equivalent to {ltval:.1f} percent of workers '+\n",
    "        '(see {\\color{cyan!50!blue}\\\\textbf{---}}), '+\n",
    "        f'{lastmatch} and {compare} the {feb20date} rate of {feb20val:.1f} percent. '+\n",
    "        'The multiple jobholder share of '+\n",
    "        f'workers peaked at {gfcval:.1f} percent in {gfcmaxdate}.')\n",
    "write_txt(text_dir / 'mjh.txt', text)\n",
    "print(text)"
   ]
  },
  {
   "cell_type": "code",
   "execution_count": null,
   "metadata": {},
   "outputs": [],
   "source": []
  },
  {
   "cell_type": "code",
   "execution_count": null,
   "metadata": {},
   "outputs": [],
   "source": []
  },
  {
   "cell_type": "markdown",
   "metadata": {},
   "source": [
    "### Average Weekly Hours"
   ]
  },
  {
   "cell_type": "code",
   "execution_count": 20,
   "metadata": {
    "ExecuteTime": {
     "end_time": "2021-02-07T15:39:05.074358Z",
     "start_time": "2021-02-07T15:39:03.808283Z"
    }
   },
   "outputs": [
    {
     "name": "stderr",
     "output_type": "stream",
     "text": [
      "/home/brian/miniconda3/lib/python3.8/site-packages/statsmodels/tsa/x13.py:187: X13Warning: WARNING: At least one visually significant trading day peak has been\n",
      "          found in one or more of the estimated spectra.\n",
      "  warn(errors, X13Warning)\n",
      "/home/brian/miniconda3/lib/python3.8/site-packages/statsmodels/tsa/x13.py:187: X13Warning: WARNING: Visually significant seasonal and trading day peaks have \n",
      "          been found in the estimated spectrum of the regARIMA residuals.\n",
      "  warn(errors, X13Warning)\n"
     ]
    },
    {
     "data": {
      "text/plain": [
       "<AxesSubplot:xlabel='date'>"
      ]
     },
     "execution_count": 20,
     "metadata": {},
     "output_type": "execute_result"
    },
    {
     "data": {
      "image/png": "[encoded data removed]",
      "text/plain": [
       "<Figure size 216x504 with 1 Axes>"
      ]
     },
     "metadata": {
      "needs_background": "light"
     },
     "output_type": "display_data"
    }
   ],
   "source": [
    "df2 = (pd.read_csv(data_dir / 'jobs_report_main2.csv', parse_dates=['date'])\n",
    "        .set_index('date'))\n",
    "\n",
    "data = pd.DataFrame()\n",
    "\n",
    "data['TOTLFS'] = df2['avghrstot']\n",
    "data['SERVNSA'] = df2['avghrsserv']\n",
    "data['SERVSA'] = x13_arima_analysis(df2['avghrsserv'].dropna()).seasadj\n",
    "data['PNS'] = df2['ceshrspns']\n",
    "data['PTECONNSA'] = df2['avghrsptecon']\n",
    "data['PTECONSA'] = x13_arima_analysis(df2['avghrsptecon'].dropna()).seasadj\n",
    "\n",
    "data.loc['1989':].to_csv(data_dir / 'hours.csv', index_label='date')\n",
    "\n",
    "data.plot(color=['blue', 'lime', 'darkgreen', 'orange', 'lightpink', 'red'], figsize=(3, 7))"
   ]
  },
  {
   "cell_type": "code",
   "execution_count": 21,
   "metadata": {
    "ExecuteTime": {
     "end_time": "2021-02-07T15:39:07.304471Z",
     "start_time": "2021-02-07T15:39:07.294398Z"
    }
   },
   "outputs": [],
   "source": [
    "ltval = data['TOTLFS'].iloc[-1]\n",
    "ltdate = dtxt(data.index[-1])['mon1']\n",
    "feb20val = data.loc['2020-02-01', 'TOTLFS']\n",
    "compare = compare_text(ltval, feb20val, [0.2, 1.5, 3.0])\n",
    "avg90 = data.loc['1998':'2000', 'TOTLFS'].mean()\n",
    "gfclow = data.loc['2005': '2012', 'TOTLFS'].min()\n",
    "gfclowdt = dtxt(data.loc['2005': '2012', 'TOTLFS'].idxmin())['mon1']"
   ]
  },
  {
   "cell_type": "code",
   "execution_count": 22,
   "metadata": {
    "ExecuteTime": {
     "end_time": "2021-02-07T15:39:08.875462Z",
     "start_time": "2021-02-07T15:39:08.867582Z"
    }
   },
   "outputs": [
    {
     "name": "stdout",
     "output_type": "stream",
     "text": [
      "Weekly hours for the total group of people at work in all industries average 38.9 in January 2021 (see {\\color{blue}\\textbf{---}}) in line with the 38.9 average weekly hours in February 2020. Weekly hours for this group average 39.6 from 1998 through 2000, and fell to a great recession low of 37.4 in February 2010.\n",
      "Those in service occupations (see {\\color{green!90!blue!70!black}\\textbf{---}}) work fewer hours on average, with 34.7 average weekly hours in January 2021, slightly below the 35.0 average in February 2020. Those part-time for economic reasons (see {\\color{red!90!black}\\textbf{---}}) work an average of 22.3 hours per week in January 2021. \n",
      "In January 2021, production and non-supervisory workers (see {\\color{orange}\\textbf{---}}), about four of every five employees, worked 34.4 hours per week on average, substantially above the 33.7 average weekly hours in February 2020 and in line with the 1998--2000 average of 34.4 hours.\n"
     ]
    }
   ],
   "source": [
    "text = ('Weekly hours for the total group of '+\n",
    "        f'people at work in all industries average {ltval:.1f} in {ltdate} '+\n",
    "        '(see {\\color{blue}\\\\textbf{---}}) '+\n",
    "        f'{compare} the {feb20val:.1f} average weekly hours in February 2020. '+\n",
    "        f'Weekly hours for this group average {avg90:.1f} from 1998 through 2000, '+\n",
    "        f'and fell to a great recession low of {gfclow:.1f} in {gfclowdt}.')\n",
    "\n",
    "write_txt(text_dir / 'hours_tot.txt', text)\n",
    "print(text)\n",
    "\n",
    "ltval2 = data.SERVSA.iloc[-1]\n",
    "feb20val2 = data.loc['2020-02-01', 'SERVSA']\n",
    "compare2 = compare_text(ltval2, feb20val2, [0.2, 0.6, 2.5])\n",
    "pteval = data.PTECONSA.iloc[-1]\n",
    "\n",
    "text = ('Those in service occupations (see '+\n",
    "        '{\\color{green!90!blue!70!black}\\\\textbf{---}}) '+\n",
    "        f'work fewer hours on average, with {ltval2:.1f} average '+\n",
    "        f'weekly hours in {ltdate}, {compare2} the {feb20val2:.1f} '+\n",
    "        'average in February 2020. Those part-time '+\n",
    "        'for economic reasons (see {\\color{red!90!black}\\\\textbf{---}}) '+\n",
    "        f'work an average of {pteval:.1f} hours per week in {ltdate}. ')\n",
    "\n",
    "write_txt(text_dir / 'hours_lfs2.txt', text)\n",
    "print(text)\n",
    "\n",
    "ltval3 = data.PNS.iloc[-1]\n",
    "feb20val3 = data.loc['2020-02-01', 'PNS']\n",
    "compare3 = compare_text(ltval3, feb20val3, [0.2, 0.6, 2.5])\n",
    "val98 = data.loc['1998':'2000', 'PNS'].mean()\n",
    "compare4 = compare_text(ltval3, val98, [0.2, 0.6, 2.5])\n",
    "\n",
    "text = (f'In {ltdate}, '+\n",
    "        'production and non-supervisory workers (see {\\color{orange}\\\\textbf{---}})'+\n",
    "        ', about four of every five employees, '+\n",
    "        f'worked {ltval3:.1f} hours per week on average, '+\n",
    "        f'{compare3} the {feb20val3:.1f} average weekly hours in February 2020 and '+\n",
    "        f'{compare4} the 1998--2000 average of {val98:.1f} hours.')\n",
    "\n",
    "write_txt(text_dir / 'hours_ces.txt', text)\n",
    "print(text)"
   ]
  },
  {
   "cell_type": "code",
   "execution_count": null,
   "metadata": {},
   "outputs": [],
   "source": []
  },
  {
   "cell_type": "code",
   "execution_count": null,
   "metadata": {},
   "outputs": [],
   "source": []
  },
  {
   "cell_type": "markdown",
   "metadata": {},
   "source": [
    "### Flows"
   ]
  },
  {
   "cell_type": "code",
   "execution_count": 23,
   "metadata": {
    "ExecuteTime": {
     "end_time": "2021-02-07T15:39:11.694625Z",
     "start_time": "2021-02-07T15:39:11.667481Z"
    }
   },
   "outputs": [
    {
     "data": {
      "text/plain": [
       "'In January 2021, 6.8 million people were newly employed (on a gross basis). Of these, 61.9 percent were not looking for work in the prior month (see {\\\\color{lime!50!green!60!white}\\\\textbf{---}}). Over the past three months, an average of 61.9 percent of the newly employed were not looking for work the month prior (see {\\\\color{green!60!teal!90!black}\\\\textbf{---}}). With low unemployment, new employees are being pulled from outside of the labor force and bypassing unemployment. Three years ago, in January 2018, 71.8 percent of the newly employed were not looking for work month prior.'"
      ]
     },
     "execution_count": 23,
     "metadata": {},
     "output_type": "execute_result"
    }
   ],
   "source": [
    "df = (pd.read_csv(data_dir / 'jobs_report_main.csv', parse_dates=['date'])\n",
    "        .set_index('date')).loc['1990':, ['NILF', 'UNEMP']]\n",
    "df['TOTAL'] = df.astype('float').sum(axis=1)\n",
    "sh = (df['NILF'] / df['TOTAL']).rename('total') * 100\n",
    "\n",
    "sh.to_csv(data_dir / 'lf_flow.csv', index_label='date', header=True, float_format='%g')\n",
    "\n",
    "ma = sh.resample('QS').mean().rename('quarterly')\n",
    "\n",
    "ma.to_csv(data_dir / 'lf_flow_q.csv', index_label='date', header=True)\n",
    "write_txt(text_dir / 'lf_flow_node.txt', end_node(ma, 'green!60!teal!90!black'))\n",
    "\n",
    "totval = df['TOTAL'].iloc[-1] / 1000\n",
    "nilfval = df['NILF'].iloc[-1] / 1000\n",
    "unval = df['UNEMP'].iloc[-1] / 1000\n",
    "\n",
    "shval = sh.iloc[-1]\n",
    "maval = ma.iloc[-1] \n",
    "sh3y = sh.iloc[-37]\n",
    "\n",
    "ltdate = dtxt(sh.index[-1])['mon1']\n",
    "yragodt = dtxt(sh.index[-37])['mon1']\n",
    "\n",
    "text = (f'In {ltdate}, {totval:.1f} million people were newly employed (on a gross basis). '+\n",
    "        f'Of these, {shval:.1f} percent were not looking for work in the prior month '+\n",
    "        '(see {\\color{lime!50!green!60!white}\\\\textbf{---}}). Over the past three months, an average '+\n",
    "        f'of {maval:.1f} percent of the newly employed were not looking for work the month prior '+\n",
    "        '(see {\\color{green!60!teal!90!black}\\\\textbf{---}}). With low unemployment, new employees '+\n",
    "        'are being pulled from outside of the labor force and bypassing unemployment. '+\n",
    "        f'Three years ago, in {yragodt}, {sh3y:.1f} percent '+\n",
    "        'of the newly employed were not looking for work month prior.')\n",
    "\n",
    "write_txt(text_dir / 'lf_flow.txt', text)\n",
    "text"
   ]
  },
  {
   "cell_type": "code",
   "execution_count": null,
   "metadata": {},
   "outputs": [],
   "source": []
  },
  {
   "cell_type": "code",
   "execution_count": null,
   "metadata": {},
   "outputs": [],
   "source": []
  },
  {
   "cell_type": "markdown",
   "metadata": {},
   "source": [
    "### Wage Growth"
   ]
  },
  {
   "cell_type": "code",
   "execution_count": 24,
   "metadata": {
    "ExecuteTime": {
     "end_time": "2021-02-07T15:39:19.142066Z",
     "start_time": "2021-02-07T15:39:13.865792Z"
    }
   },
   "outputs": [
    {
     "ename": "FileNotFoundError",
     "evalue": "[Errno 2] No such file or directory: '/home/brian/Documents/CPS/data/clean/cps2021.ft'",
     "output_type": "error",
     "traceback": [
      "\u001b[0;31m---------------------------------------------------------------------------\u001b[0m",
      "\u001b[0;31mFileNotFoundError\u001b[0m                         Traceback (most recent call last)",
      "\u001b[0;32m<ipython-input-24-9d7591834f04>\u001b[0m in \u001b[0;36m<module>\u001b[0;34m\u001b[0m\n\u001b[1;32m      2\u001b[0m \u001b[0mcolumns\u001b[0m \u001b[0;34m=\u001b[0m \u001b[0;34m[\u001b[0m\u001b[0;34m'MONTH'\u001b[0m\u001b[0;34m,\u001b[0m \u001b[0;34m'YEAR'\u001b[0m\u001b[0;34m,\u001b[0m \u001b[0;34m'AGE'\u001b[0m\u001b[0;34m,\u001b[0m \u001b[0;34m'PWORWGT'\u001b[0m\u001b[0;34m,\u001b[0m \u001b[0;34m'WKWAGE'\u001b[0m\u001b[0;34m,\u001b[0m \u001b[0;34m'HRSUSL1'\u001b[0m\u001b[0;34m,\u001b[0m \u001b[0;34m'WORKFT'\u001b[0m\u001b[0;34m]\u001b[0m\u001b[0;34m\u001b[0m\u001b[0;34m\u001b[0m\u001b[0m\n\u001b[1;32m      3\u001b[0m \u001b[0;32mfor\u001b[0m \u001b[0myear\u001b[0m \u001b[0;32min\u001b[0m \u001b[0mrange\u001b[0m\u001b[0;34m(\u001b[0m\u001b[0;36m1989\u001b[0m\u001b[0;34m,\u001b[0m \u001b[0;36m2022\u001b[0m\u001b[0;34m)\u001b[0m\u001b[0;34m:\u001b[0m\u001b[0;34m\u001b[0m\u001b[0;34m\u001b[0m\u001b[0m\n\u001b[0;32m----> 4\u001b[0;31m     df = (pd.read_feather(cps_dir / f'cps{year}.ft', columns=columns)\n\u001b[0m\u001b[1;32m      5\u001b[0m         .query('WKWAGE > 0 and WORKFT == 1'))\n\u001b[1;32m      6\u001b[0m     \u001b[0mdata\u001b[0m \u001b[0;34m=\u001b[0m \u001b[0mdf\u001b[0m\u001b[0;34m.\u001b[0m\u001b[0mgroupby\u001b[0m\u001b[0;34m(\u001b[0m\u001b[0;34m[\u001b[0m\u001b[0;34m'YEAR'\u001b[0m\u001b[0;34m,\u001b[0m \u001b[0;34m'MONTH'\u001b[0m\u001b[0;34m]\u001b[0m\u001b[0;34m)\u001b[0m\u001b[0;34m.\u001b[0m\u001b[0mapply\u001b[0m\u001b[0;34m(\u001b[0m\u001b[0mbinned_wage\u001b[0m\u001b[0;34m)\u001b[0m\u001b[0;34m\u001b[0m\u001b[0;34m\u001b[0m\u001b[0m\n",
      "\u001b[0;32m~/miniconda3/lib/python3.8/site-packages/pandas/io/feather_format.py\u001b[0m in \u001b[0;36mread_feather\u001b[0;34m(path, columns, use_threads, storage_options)\u001b[0m\n\u001b[1;32m    121\u001b[0m     \u001b[0;32mfrom\u001b[0m \u001b[0mpyarrow\u001b[0m \u001b[0;32mimport\u001b[0m \u001b[0mfeather\u001b[0m\u001b[0;34m\u001b[0m\u001b[0;34m\u001b[0m\u001b[0m\n\u001b[1;32m    122\u001b[0m \u001b[0;34m\u001b[0m\u001b[0m\n\u001b[0;32m--> 123\u001b[0;31m     with get_handle(\n\u001b[0m\u001b[1;32m    124\u001b[0m         \u001b[0mpath\u001b[0m\u001b[0;34m,\u001b[0m \u001b[0;34m\"rb\"\u001b[0m\u001b[0;34m,\u001b[0m \u001b[0mstorage_options\u001b[0m\u001b[0;34m=\u001b[0m\u001b[0mstorage_options\u001b[0m\u001b[0;34m,\u001b[0m \u001b[0mis_text\u001b[0m\u001b[0;34m=\u001b[0m\u001b[0;32mFalse\u001b[0m\u001b[0;34m\u001b[0m\u001b[0;34m\u001b[0m\u001b[0m\n\u001b[1;32m    125\u001b[0m     ) as handles:\n",
      "\u001b[0;32m~/miniconda3/lib/python3.8/site-packages/pandas/io/common.py\u001b[0m in \u001b[0;36mget_handle\u001b[0;34m(path_or_buf, mode, encoding, compression, memory_map, is_text, errors, storage_options)\u001b[0m\n\u001b[1;32m    646\u001b[0m         \u001b[0;32melse\u001b[0m\u001b[0;34m:\u001b[0m\u001b[0;34m\u001b[0m\u001b[0;34m\u001b[0m\u001b[0m\n\u001b[1;32m    647\u001b[0m             \u001b[0;31m# Binary mode\u001b[0m\u001b[0;34m\u001b[0m\u001b[0;34m\u001b[0m\u001b[0;34m\u001b[0m\u001b[0m\n\u001b[0;32m--> 648\u001b[0;31m             \u001b[0mhandle\u001b[0m \u001b[0;34m=\u001b[0m \u001b[0mopen\u001b[0m\u001b[0;34m(\u001b[0m\u001b[0mhandle\u001b[0m\u001b[0;34m,\u001b[0m \u001b[0mioargs\u001b[0m\u001b[0;34m.\u001b[0m\u001b[0mmode\u001b[0m\u001b[0;34m)\u001b[0m\u001b[0;34m\u001b[0m\u001b[0;34m\u001b[0m\u001b[0m\n\u001b[0m\u001b[1;32m    649\u001b[0m         \u001b[0mhandles\u001b[0m\u001b[0;34m.\u001b[0m\u001b[0mappend\u001b[0m\u001b[0;34m(\u001b[0m\u001b[0mhandle\u001b[0m\u001b[0;34m)\u001b[0m\u001b[0;34m\u001b[0m\u001b[0;34m\u001b[0m\u001b[0m\n\u001b[1;32m    650\u001b[0m \u001b[0;34m\u001b[0m\u001b[0m\n",
      "\u001b[0;31mFileNotFoundError\u001b[0m: [Errno 2] No such file or directory: '/home/brian/Documents/CPS/data/clean/cps2021.ft'"
     ]
    }
   ],
   "source": [
    "data1, data2 = pd.Series(dtype='float64'), pd.Series(dtype='float64')\n",
    "columns = ['MONTH', 'YEAR', 'AGE', 'PWORWGT', 'WKWAGE', 'HRSUSL1', 'WORKFT']\n",
    "for year in range(1989, 2022):\n",
    "    df = (pd.read_feather(cps_dir / f'cps{year}.ft', columns=columns)\n",
    "        .query('WKWAGE > 0 and WORKFT == 1'))\n",
    "    data = df.groupby(['YEAR', 'MONTH']).apply(binned_wage)\n",
    "    data.index = [pd.to_datetime(f'{ti[0]}-{ti[1]}-01') for ti in data.index]\n",
    "    data1 = data1.append(data)\n",
    "    \n",
    "df = pd.DataFrame({'All': data1})\n",
    "df = df.rolling(3).mean()\n",
    "\n",
    "df.rolling(3).mean().to_csv(data_dir / 'uwe_bd.csv', index_label='date')\n",
    "dfgr = (df.pct_change(12).dropna() * 100).rolling(3).mean()\n",
    "dfgr.to_csv(data_dir / 'uwe_bd_gr.csv', index_label='date')\n",
    "\n",
    "srs = ['p10uwe']\n",
    "df2 = (pd.read_csv(data_dir / 'jobs_report_main2.csv', parse_dates=['date'])\n",
    "        .set_index('date')).loc['1988':, srs].dropna()\n",
    "df2.name = 'p10uwe'\n",
    "\n",
    "df2.to_csv(data_dir / 'uwe_bls.csv', index_label='date')\n",
    "df2gr = (df2.pct_change(4).dropna() * 100)\n",
    "df2gr.to_csv(data_dir / 'uwe_bls_gr.csv', index_label='date')"
   ]
  },
  {
   "cell_type": "code",
   "execution_count": null,
   "metadata": {
    "ExecuteTime": {
     "end_time": "2021-02-07T15:39:19.143567Z",
     "start_time": "2021-02-07T15:39:16.484Z"
    }
   },
   "outputs": [],
   "source": [
    "ldate1 = dtxt(df.index[-1])['mon1']\n",
    "lval1 = df['All'].iloc[-1].round()\n",
    "lgrval1 = dfgr['All'].iloc[-1].round()\n",
    "prdate1 = dtxt(df.index[-2])['mon1']\n",
    "prval1 = df['All'].iloc[-2].round()\n",
    "prgrval1 = dfgr['All'].iloc[-2].round()\n",
    "pr2date1 = dtxt(df.index[-3])['mon1']\n",
    "pr2val1 = df['All'].iloc[-3].round()\n",
    "pr2grval1 = dfgr['All'].iloc[-3].round()\n",
    "pr3date1 = dtxt(df.index[-13])['mon1']\n",
    "pr3val1 = df['All'].iloc[-13].round()\n",
    "\n",
    "\n",
    "ldate2 = dtxt(df2.index[-1])['qtr1']\n",
    "lval2 = df2['p10uwe'].iloc[-1]\n",
    "prdate2 = dtxt(df2.index[-5])['qtr1']\n",
    "pr2date2 = dtxt(df2.index[-2])['qtr1']\n",
    "prval2 = df2['p10uwe'].iloc[-5]\n",
    "lgrval2 = df2gr['p10uwe'].iloc[-1]\n",
    "lgr2val2 = df2gr['p10uwe'].iloc[-2]\n",
    "\n",
    "text = ('BLS \\href{https://www.bls.gov/webapps/legacy/cpswktab5.htm}{calculations} '+\n",
    "        f'(see {{\\color{{blue!65!black}}\\\\textbf{{---}}}}) for {ldate2} '+\n",
    "        'show nominal first decile usual weekly '+\n",
    "        f'earnings of \\${lval2:.2f}, compared to \\${prval2:.2f} in {prdate2}, resulting '+\n",
    "        f'in one-year growth of {lgrval2:.1f} percent. In the previous quarter, {pr2date2}, '+\n",
    "        f'first decile usual weekly earnings grew by {lgr2val2:.1f} percent over the year. '+\n",
    "        \"Author's calculations from the CPS (see {\\color{lime!65!green}\\\\textbf{---}}) \"+\n",
    "        'show three-month moving average first decile usual weekly '+\n",
    "        f'earnings of \\${lval1:.2f} in {ldate1}, \\${prval1:.2f} in {prdate1}, '+\n",
    "        f'and \\${pr3val1:.2f} in {pr3date1}. One-year growth was {lgrval1:.1f} percent for '+\n",
    "        f'the three months ending {ldate1}, {prgrval1:.1f} percent for the '+\n",
    "        f'three months ending {prdate1}, and {pr2grval1:.1f} percent for the '+\n",
    "        f'three months ending {pr2date1}.')\n",
    "write_txt(text_dir / 'uwe_basic.txt', text)\n",
    "print(text)"
   ]
  },
  {
   "cell_type": "code",
   "execution_count": null,
   "metadata": {},
   "outputs": [],
   "source": []
  },
  {
   "cell_type": "code",
   "execution_count": null,
   "metadata": {},
   "outputs": [],
   "source": []
  },
  {
   "cell_type": "markdown",
   "metadata": {},
   "source": [
    "### Wages Table"
   ]
  },
  {
   "cell_type": "code",
   "execution_count": null,
   "metadata": {
    "ExecuteTime": {
     "end_time": "2021-02-07T15:39:19.144146Z",
     "start_time": "2021-02-07T15:39:18.700Z"
    }
   },
   "outputs": [],
   "source": [
    "srs = {'First decile': 'p10uwe', 'First quartile': 'p25uwe', 'Median': 'p50uwe', \n",
    "       'Third quartile': 'p75uwe', 'Ninth decile': 'p90uwe'}\n",
    "df = (pd.read_csv(data_dir / 'jobs_report_main2.csv', parse_dates=['date'])\n",
    "        .set_index('date')).loc['2000':, srs.values()].dropna()\n",
    "\n",
    "final = pd.DataFrame()\n",
    "for i in [-1, -2, -3, -4, -5, -9, -13, -17, -21]:\n",
    "    final[dtxt(df.index[i])['qtr1']] = df.pct_change(4).iloc[i] * 100\n",
    "\n",
    "final.index = srs.keys()\n",
    "final.round(1).to_csv(data_dir / 'wage_dist_bls.tex', sep='&', line_terminator='\\\\\\ ', quotechar=' ')\n",
    "\n",
    "final = pd.DataFrame()\n",
    "for i in [-1, -2, -3, -4, -5, -9, -13, -17, -21]:\n",
    "    final[dtxt(df.index[i])['qtr1']] = df.iloc[i]\n",
    "\n",
    "final.index = srs.keys()\n",
    "final.round(0).astype('int').to_csv(data_dir / 'wage_dist_bls2.tex', sep='&', \n",
    "                                    line_terminator='\\\\\\ ', quotechar=' ')"
   ]
  },
  {
   "cell_type": "code",
   "execution_count": null,
   "metadata": {},
   "outputs": [],
   "source": []
  },
  {
   "cell_type": "code",
   "execution_count": null,
   "metadata": {},
   "outputs": [],
   "source": []
  },
  {
   "cell_type": "markdown",
   "metadata": {},
   "source": [
    "### Average Hourly Earnings"
   ]
  },
  {
   "cell_type": "code",
   "execution_count": 25,
   "metadata": {
    "ExecuteTime": {
     "end_time": "2021-02-07T15:39:20.778125Z",
     "start_time": "2021-02-07T15:39:20.745099Z"
    }
   },
   "outputs": [
    {
     "data": {
      "text/plain": [
       "'Over the year ending January 2021, nominal wages increased by 5.4 percent for all employees (see {\\\\color{magenta}\\\\textbf{---}}) and increased by 5.4 percent for production and non-supervisory workers (see {\\\\color{blue!80!black}\\\\textbf{---}}), according to the Bureau of Labor Statistics. Comparing the latest three months to the previous three months, nominal wages increased at an annual rate of 4.5 percent for all employees and increased at an annual rate of 4.5 percent for production and non-supervisory employees.'"
      ]
     },
     "execution_count": 25,
     "metadata": {},
     "output_type": "execute_result"
    }
   ],
   "source": [
    "df = (pd.read_csv(data_dir / 'jobs_report_main2.csv', parse_dates=['date'])\n",
    "        .set_index('date'))\n",
    "data = (df[['ALL', 'PNS']].pct_change(12) * 100).loc['1989':]\n",
    "data.to_csv(data_dir / 'ahe.csv', index_label='date')\n",
    "\n",
    "ldate = dtxt(data.index[-1])['mon1']\n",
    "alllt = data['ALL'].iloc[-1]\n",
    "all_lt = f'{[\"increased\" if alllt >= 0 else \"decreased\"][0]} by {abs(alllt):.1f} percent'\n",
    "pnslt = data['PNS'].iloc[-1]\n",
    "pns_lt = f'{[\"increased\" if pnslt >= 0 else \"decreased\"][0]} by {abs(pnslt):.1f} percent'\n",
    "\n",
    "s = series_info(df['ALL'])\n",
    "all3m = (((s['last_3m'] / s['prev_3m'])**4) - 1) * 100\n",
    "all_3m = f'{[\"increased\" if all3m >= 0 else \"decreased\"][0]} at an annual rate of {abs(all3m):.1f} percent'\n",
    "\n",
    "s = series_info(df['PNS'])\n",
    "pns3m = (((s['last_3m'] / s['prev_3m'])**4) - 1) * 100\n",
    "pns_3m = f'{[\"increased\" if pns3m >= 0 else \"decreased\"][0]} at an annual rate of {abs(pns3m):.1f} percent'\n",
    "\n",
    "text = (f'Over the year ending {ldate}, nominal wages {all_lt} '+\n",
    "        'for all employees (see {\\color{magenta}\\\\textbf{---}}) '+\n",
    "        f'and {pns_lt} for production and non-supervisory workers '+\n",
    "        '(see {\\color{blue!80!black}\\\\textbf{---}}), according to the '+\n",
    "        'Bureau of Labor Statistics. Comparing the latest '+\n",
    "        f'three months to the previous three months, nominal wages {all_3m} '+\n",
    "        f'for all employees and {pns_3m} for production and non-supervisory '+\n",
    "        'employees.')\n",
    "\n",
    "write_txt(text_dir / 'ahe_summary.txt', text)\n",
    "\n",
    "text"
   ]
  },
  {
   "cell_type": "code",
   "execution_count": null,
   "metadata": {},
   "outputs": [],
   "source": []
  },
  {
   "cell_type": "code",
   "execution_count": null,
   "metadata": {},
   "outputs": [],
   "source": []
  },
  {
   "cell_type": "markdown",
   "metadata": {},
   "source": [
    "### AHE by Industry"
   ]
  },
  {
   "cell_type": "code",
   "execution_count": 26,
   "metadata": {
    "ExecuteTime": {
     "end_time": "2021-02-07T15:39:24.042850Z",
     "start_time": "2021-02-07T15:39:23.183733Z"
    }
   },
   "outputs": [
    {
     "name": "stdout",
     "output_type": "stream",
     "text": [
      "Post Request Status: REQUEST_SUCCEEDED\n"
     ]
    }
   ],
   "source": [
    "series = {'CES3000000008': 'Manufacturing',\n",
    "          'CES1000000008': 'Mining \\& Logging',\n",
    "          'CES4422000008': 'Utilities',\n",
    "          'CES4142000008': 'Wholesale Trade',\n",
    "          'CES5000000008': 'Information',\n",
    "          'CES5500000008': 'Financial Activities',\n",
    "          'CES6000000008': 'Professional \\& Business Services',\n",
    "          'CES6500000008': 'Education \\& Health Services',\n",
    "          'CES0500000008': 'Total Private',\n",
    "          'CES2000000008': 'Construction',\n",
    "          'CES7000000008': 'Leisure \\& Hospitality',\n",
    "          'CES4300000008': 'Transportation \\& Warehousing',\n",
    "          'CES4200000008': 'Retail Trade'}\n",
    "\n",
    "years = (2017, 2021)\n",
    "df = bls_api(series, years, bls_key)\n",
    "df.to_csv(data_dir / 'ahe_industry_raw.csv', index_label='date')"
   ]
  },
  {
   "cell_type": "code",
   "execution_count": 27,
   "metadata": {
    "ExecuteTime": {
     "end_time": "2021-02-07T15:39:25.523803Z",
     "start_time": "2021-02-07T15:39:25.497438Z"
    }
   },
   "outputs": [
    {
     "name": "stdout",
     "output_type": "stream",
     "text": [
      "By industry, 11 of 12 groups experienced real wage growth (wage growth above the increase in prices indicated by the consumer price index). The retail trade industry had the fastest nominal growth rate, at 7.4 percent, followed by 6.5 percent in financial activities and 5.7 percent in information. \n",
      "\\noindent \\hspace*{-2mm} \\begin{tikzpicture}\\begin{axis}[\\barplotnogrid axis y line=left, \\barylab{4.0cm}{1.5ex}width=6.2cm, bar width=1.8ex, height=7.2cm, xtick={0}, xmajorgrids,enlarge y limits={abs=3mm}, enlarge x limits=0.02, xmin=-1.3,\\dbar{x}{1.29}, clip=false,yticklabels from table={\\ahe}{name},yticklabel style={font=\\footnotesize},nodes near coords style={/pgf/number format/.cd, fixed zerofill,precision=1, assume math mode}]\\addplot[fill=blue!80!black, draw=none] table [y expr=-\\coordindex, x index=1] {\\ahe};\\node[right] at (1.29, -12.6) {\\footnotesize \\textcolor{black!80}{CPI}};\\end{axis}\\end{tikzpicture}\\\\ \\footnotesize{Source: Bureau of Labor Statistics} \\hspace{48mm} \\tbllink{ahe_ind.csv}\n"
     ]
    }
   ],
   "source": [
    "s = pd.read_csv(data_dir / 'cpi.csv')\n",
    "df = (pd.read_csv(data_dir / 'ahe_industry_raw.csv', parse_dates=['date'])\n",
    "        .set_index('date'))\n",
    "allitems = s['ALL'].iloc[-1]\n",
    "data = (df.pct_change(12).iloc[-1] * 100.0).sort_values(ascending=False)\n",
    "\n",
    "(data.to_csv(data_dir / 'ahe_ind.csv', index_label='name', header=True))\n",
    "\n",
    "write_txt(text_dir / 'ahe_bar_date.txt', df.index[-1].strftime('%B %Y'))\n",
    "\n",
    "real = (data - allitems).drop('Total Private')\n",
    "ltd = {i: (data.index[i].lower(), data.iloc[i]) for i in [0, 1, 2]}\n",
    "\n",
    "txt1 = (f'By industry, {len(real.loc[real > 0])} of {len(real)} groups '+\n",
    "         'experienced real wage growth (wage growth above the increase in '+\n",
    "        f'prices indicated by the consumer price index). The {ltd[0][0]} '+\n",
    "        f'industry had the fastest nominal growth rate, at {ltd[0][1]:.1f} percent, followed '+\n",
    "        f'by {ltd[1][1]:.1f} percent in {ltd[1][0]} and {ltd[2][1]:.1f} percent in {ltd[2][0]}. ')\n",
    "write_txt(text_dir / 'ahe_comp.txt', txt1)\n",
    "print(txt1)\n",
    "\n",
    "if data.min() < 0:\n",
    "    dm = f'{data.min() - 1:.1f}'\n",
    "else:\n",
    "    dm = 0\n",
    "\n",
    "text = ('\\\\noindent \\hspace*{-2mm} \\\\begin{tikzpicture}'+\n",
    "        '\\\\begin{axis}[\\\\barplotnogrid axis y line=left, \\\\barylab{4.0cm}{1.5ex}'+\n",
    "        'width=6.2cm, bar width=1.8ex, height=7.2cm, xtick={0}, xmajorgrids,'+\n",
    "        f'enlarge y limits={{abs=3mm}}, enlarge x limits=0.02, xmin={dm},'+\n",
    "        f'\\dbar{{x}}{{{allitems:.2f}}}, clip=false,'+\n",
    "        'yticklabels from table={\\\\ahe}{name},'+\n",
    "        'yticklabel style={font=\\\\footnotesize},'+\n",
    "        'nodes near coords style={/pgf/number format/.cd, fixed zerofill,'+\n",
    "        'precision=1, assume math mode}]'+\n",
    "        '\\\\addplot[fill=blue!80!black, draw=none] '+\n",
    "        'table [y expr=-\\coordindex, x index=1] {\\\\ahe};'+\n",
    "        f'\\\\node[right] at ({allitems:.2f}, -12.6) {{\\\\footnotesize \\\\textcolor{{black!80}}{{CPI}}}};'+\n",
    "        '\\end{axis}'+\n",
    "        '\\end{tikzpicture}\\\\\\ '+\n",
    "        '\\\\footnotesize{Source: Bureau of Labor Statistics} \\hspace{48mm} \\\\tbllink{ahe_ind.csv}')\n",
    "write_txt(text_dir / 'ahe_chart.txt', text)\n",
    "print(text)"
   ]
  },
  {
   "cell_type": "code",
   "execution_count": null,
   "metadata": {},
   "outputs": [],
   "source": []
  },
  {
   "cell_type": "code",
   "execution_count": null,
   "metadata": {},
   "outputs": [],
   "source": []
  },
  {
   "cell_type": "markdown",
   "metadata": {},
   "source": [
    "### CES data"
   ]
  },
  {
   "cell_type": "code",
   "execution_count": 28,
   "metadata": {
    "ExecuteTime": {
     "end_time": "2021-02-07T15:39:30.221197Z",
     "start_time": "2021-02-07T15:39:28.036416Z"
    }
   },
   "outputs": [
    {
     "name": "stdout",
     "output_type": "stream",
     "text": [
      "Post Request Status: REQUEST_SUCCEEDED\n"
     ]
    }
   ],
   "source": [
    "series = {'CES0000000001': 'ALL',\n",
    "          'LNU00000000': 'TOT',\n",
    "          'CES3000000001': 'Manufacturing',\n",
    "          'CES1000000001': 'Mining \\& Logging',\n",
    "          'CES4422000001': 'Utilities',\n",
    "          'CES4142000001': 'Wholesale Trade',\n",
    "          'CES5000000001': 'Information',\n",
    "          'CES5500000001': 'Financial Activities',\n",
    "          'CES6000000001': 'Professional \\& Business Serv.',\n",
    "          'CES6500000001': 'Education \\& Health Services',\n",
    "          'CES0500000001': 'Total Private',\n",
    "          'CES2000000001': 'Construction',\n",
    "          'CES7000000001': 'Leisure \\& Hospitality',\n",
    "          'CES4300000001': 'Transportation \\& Warehousing',\n",
    "          'CES4200000001': 'Retail Trade',\n",
    "          'CES9000000001': 'Government'}\n",
    "years = (2011, 2021)\n",
    "df = bls_api(series, years, bls_key)\n",
    "df.to_csv(data_dir / 'ces_data.csv', index_label='date')"
   ]
  },
  {
   "cell_type": "code",
   "execution_count": 29,
   "metadata": {
    "ExecuteTime": {
     "end_time": "2021-02-07T15:39:32.759601Z",
     "start_time": "2021-02-07T15:39:32.730749Z"
    }
   },
   "outputs": [
    {
     "name": "stdout",
     "output_type": "stream",
     "text": [
      "The US added 49,000 jobs in January 2021, compared to 227,000 lost in December 2020, and an average of 29,000 added over the past three months. US payrolls shed a combined 22.4 million jobs in March and April 2020 and have since recovered 12.5 million jobs (55.8 percent).\n",
      " \n",
      "To maintain a steady employment rate with population growth, the US needs to add around 140,000 jobs per month. During the 12 months prior to the COVID-related job losses the US was adding an average of 202,000 jobs per month.\n"
     ]
    }
   ],
   "source": [
    "df = pd.read_csv(data_dir / 'ces_data.csv').set_index('date')\n",
    "data = df['ALL'].diff().loc['2017':]\n",
    "data.div(1000).to_csv(data_dir / 'nfp.csv', index_label='date', header='ALL')\n",
    "ldate = dtxt(data.index[-1])['mon1']\n",
    "pdate = dtxt(data.index[-2])['mon1']\n",
    "\n",
    "lval = data.iloc[-1]\n",
    "if lval > 0:\n",
    "    lvaltxt = 'added'\n",
    "else:\n",
    "    lvaltxt = 'lost'\n",
    "pval = data.iloc[-2]\n",
    "if pval > 0:\n",
    "    pvaltxt = 'added'\n",
    "else:\n",
    "    pvaltxt = 'lost'\n",
    "l3val = data.iloc[-3:].mean()\n",
    "if l3val > 0:\n",
    "    l3valtxt = 'added'\n",
    "else:\n",
    "    l3valtxt = 'lost'\n",
    "\n",
    "emp = df.loc['2015':, 'ALL']\n",
    "tot = df.loc['2015':, 'TOT']\n",
    "\n",
    "final2 = (((emp / tot).shift(1) * tot).round(-3) / 1000).rolling(12).mean()\n",
    "final2.to_csv(data_dir / 'nfp_pop.csv', index_label='date', header=['TOT'])\n",
    "\n",
    "lpop = final2.iloc[-3:].mean().round(-1)\n",
    "\n",
    "covloss = abs(data.loc['2020-03-01':'2020-04-01'].sum())  / 1000\n",
    "since = data.loc['2020-05-01':].sum() / 1000\n",
    "\n",
    "rec_pct = since / covloss\n",
    "if rec_pct < 1:\n",
    "    rpct = f' ({rec_pct*100:.1f} percent)'\n",
    "else:\n",
    "    rpct = ''\n",
    "    \n",
    "pre = data.loc['2019-03-01':'2020-02-01'].mean()\n",
    "\n",
    "text = (f'The US {lvaltxt} {abs(lval):,.0f},000 jobs in {ldate}, compared to '+\n",
    "        f'{abs(pval):,.0f},000 {pvaltxt} in {pdate}, and an average of '+\n",
    "        f'{abs(l3val):,.0f},000 {l3valtxt} over '+\n",
    "        f'the past three months. US payrolls shed a combined {covloss:.1f} million jobs '+\n",
    "        f'in March and April 2020 and have since recovered {since:.1f} million jobs{rpct}.'+\n",
    "        '\\n \\nTo maintain a steady employment rate with '+\n",
    "        'population growth, the US needs to '+\n",
    "        f'add around {lpop:.0f},000 jobs per month. During the 12 months prior to the COVID-'+\n",
    "        'related job losses '+\n",
    "        f'the US was adding an average of {pre:,.0f},000 jobs per month.')\n",
    "write_txt(text_dir / 'nfp_basic_text.txt', text)\n",
    "print(text)"
   ]
  },
  {
   "cell_type": "code",
   "execution_count": 30,
   "metadata": {
    "ExecuteTime": {
     "end_time": "2021-02-07T15:39:35.219287Z",
     "start_time": "2021-02-07T15:39:35.196179Z"
    }
   },
   "outputs": [
    {
     "data": {
      "text/html": [
       "<div>\n",
       "<style scoped>\n",
       "    .dataframe tbody tr th:only-of-type {\n",
       "        vertical-align: middle;\n",
       "    }\n",
       "\n",
       "    .dataframe tbody tr th {\n",
       "        vertical-align: top;\n",
       "    }\n",
       "\n",
       "    .dataframe thead th {\n",
       "        text-align: right;\n",
       "    }\n",
       "</style>\n",
       "<table border=\"1\" class=\"dataframe\">\n",
       "  <thead>\n",
       "    <tr style=\"text-align: right;\">\n",
       "      <th></th>\n",
       "      <th>Jan 2021</th>\n",
       "      <th>Jan 2020</th>\n",
       "      <th>Jan 2021</th>\n",
       "      <th>Dec 2020</th>\n",
       "      <th>Nov 2020</th>\n",
       "      <th>Mar `19 to Feb `20 avg</th>\n",
       "      <th>Since May 2020</th>\n",
       "      <th>Mar and Apr `20</th>\n",
       "    </tr>\n",
       "  </thead>\n",
       "  <tbody>\n",
       "    <tr>\n",
       "      <th>\\textbf{Total}</th>\n",
       "      <td>142,631</td>\n",
       "      <td>152,234</td>\n",
       "      <td>49</td>\n",
       "      <td>-227</td>\n",
       "      <td>264</td>\n",
       "      <td>202</td>\n",
       "      <td>12,470</td>\n",
       "      <td>-22,362</td>\n",
       "    </tr>\n",
       "    <tr>\n",
       "      <th>Education \\&amp; Health Services</th>\n",
       "      <td>23,240</td>\n",
       "      <td>24,513</td>\n",
       "      <td>-7</td>\n",
       "      <td>-31</td>\n",
       "      <td>43</td>\n",
       "      <td>54</td>\n",
       "      <td>1,518</td>\n",
       "      <td>-2,843</td>\n",
       "    </tr>\n",
       "    <tr>\n",
       "      <th>Government</th>\n",
       "      <td>21,508</td>\n",
       "      <td>22,789</td>\n",
       "      <td>43</td>\n",
       "      <td>-23</td>\n",
       "      <td>-95</td>\n",
       "      <td>28</td>\n",
       "      <td>-318</td>\n",
       "      <td>-1,009</td>\n",
       "    </tr>\n",
       "    <tr>\n",
       "      <th>Professional \\&amp; Business Serv.</th>\n",
       "      <td>20,644</td>\n",
       "      <td>21,437</td>\n",
       "      <td>97</td>\n",
       "      <td>156</td>\n",
       "      <td>95</td>\n",
       "      <td>25</td>\n",
       "      <td>1,562</td>\n",
       "      <td>-2,387</td>\n",
       "    </tr>\n",
       "    <tr>\n",
       "      <th>Retail Trade</th>\n",
       "      <td>15,226</td>\n",
       "      <td>15,605</td>\n",
       "      <td>-37</td>\n",
       "      <td>134</td>\n",
       "      <td>-2</td>\n",
       "      <td>-4</td>\n",
       "      <td>1,991</td>\n",
       "      <td>-2,374</td>\n",
       "    </tr>\n",
       "    <tr>\n",
       "      <th>Leisure \\&amp; Hospitality</th>\n",
       "      <td>13,035</td>\n",
       "      <td>16,858</td>\n",
       "      <td>-61</td>\n",
       "      <td>-536</td>\n",
       "      <td>10</td>\n",
       "      <td>37</td>\n",
       "      <td>4,344</td>\n",
       "      <td>-8,224</td>\n",
       "    </tr>\n",
       "    <tr>\n",
       "      <th>Manufacturing</th>\n",
       "      <td>12,217</td>\n",
       "      <td>12,792</td>\n",
       "      <td>-10</td>\n",
       "      <td>31</td>\n",
       "      <td>41</td>\n",
       "      <td>-2</td>\n",
       "      <td>803</td>\n",
       "      <td>-1,385</td>\n",
       "    </tr>\n",
       "    <tr>\n",
       "      <th>Financial Activities</th>\n",
       "      <td>8,782</td>\n",
       "      <td>8,849</td>\n",
       "      <td>8</td>\n",
       "      <td>18</td>\n",
       "      <td>10</td>\n",
       "      <td>15</td>\n",
       "      <td>186</td>\n",
       "      <td>-279</td>\n",
       "    </tr>\n",
       "    <tr>\n",
       "      <th>Construction</th>\n",
       "      <td>7,392</td>\n",
       "      <td>7,615</td>\n",
       "      <td>-3</td>\n",
       "      <td>42</td>\n",
       "      <td>24</td>\n",
       "      <td>19</td>\n",
       "      <td>857</td>\n",
       "      <td>-1,113</td>\n",
       "    </tr>\n",
       "    <tr>\n",
       "      <th>Transportation \\&amp; Warehousing</th>\n",
       "      <td>5,659</td>\n",
       "      <td>5,798</td>\n",
       "      <td>-27</td>\n",
       "      <td>-24</td>\n",
       "      <td>123</td>\n",
       "      <td>19</td>\n",
       "      <td>410</td>\n",
       "      <td>-574</td>\n",
       "    </tr>\n",
       "    <tr>\n",
       "      <th>Wholesale Trade</th>\n",
       "      <td>5,632</td>\n",
       "      <td>5,901</td>\n",
       "      <td>14</td>\n",
       "      <td>15</td>\n",
       "      <td>14</td>\n",
       "      <td>0</td>\n",
       "      <td>146</td>\n",
       "      <td>-409</td>\n",
       "    </tr>\n",
       "    <tr>\n",
       "      <th>Information</th>\n",
       "      <td>2,672</td>\n",
       "      <td>2,910</td>\n",
       "      <td>16</td>\n",
       "      <td>6</td>\n",
       "      <td>0</td>\n",
       "      <td>6</td>\n",
       "      <td>39</td>\n",
       "      <td>-281</td>\n",
       "    </tr>\n",
       "    <tr>\n",
       "      <th>Mining \\&amp; Logging</th>\n",
       "      <td>609</td>\n",
       "      <td>689</td>\n",
       "      <td>9</td>\n",
       "      <td>3</td>\n",
       "      <td>3</td>\n",
       "      <td>-4</td>\n",
       "      <td>-13</td>\n",
       "      <td>-68</td>\n",
       "    </tr>\n",
       "    <tr>\n",
       "      <th>Utilities</th>\n",
       "      <td>539</td>\n",
       "      <td>547</td>\n",
       "      <td>0</td>\n",
       "      <td>-1</td>\n",
       "      <td>0</td>\n",
       "      <td>0</td>\n",
       "      <td>-4</td>\n",
       "      <td>-3</td>\n",
       "    </tr>\n",
       "  </tbody>\n",
       "</table>\n",
       "</div>"
      ],
      "text/plain": [
       "                               Jan 2021 Jan 2020 Jan 2021  Dec 2020 Nov 2020  \\\n",
       "\\textbf{Total}                  142,631  152,234        49     -227      264   \n",
       "Education \\& Health Services     23,240   24,513        -7      -31       43   \n",
       "Government                       21,508   22,789        43      -23      -95   \n",
       "Professional \\& Business Serv.   20,644   21,437        97      156       95   \n",
       "Retail Trade                     15,226   15,605       -37      134       -2   \n",
       "Leisure \\& Hospitality           13,035   16,858       -61     -536       10   \n",
       "Manufacturing                    12,217   12,792       -10       31       41   \n",
       "Financial Activities              8,782    8,849         8       18       10   \n",
       "Construction                      7,392    7,615        -3       42       24   \n",
       "Transportation \\& Warehousing     5,659    5,798       -27      -24      123   \n",
       "Wholesale Trade                   5,632    5,901        14       15       14   \n",
       "Information                       2,672    2,910        16        6        0   \n",
       "Mining \\& Logging                   609      689         9        3        3   \n",
       "Utilities                           539      547         0       -1        0   \n",
       "\n",
       "                               Mar `19 to Feb `20 avg Since May 2020  \\\n",
       "\\textbf{Total}                                    202         12,470   \n",
       "Education \\& Health Services                       54          1,518   \n",
       "Government                                         28           -318   \n",
       "Professional \\& Business Serv.                     25          1,562   \n",
       "Retail Trade                                       -4          1,991   \n",
       "Leisure \\& Hospitality                             37          4,344   \n",
       "Manufacturing                                      -2            803   \n",
       "Financial Activities                               15            186   \n",
       "Construction                                       19            857   \n",
       "Transportation \\& Warehousing                      19            410   \n",
       "Wholesale Trade                                     0            146   \n",
       "Information                                         6             39   \n",
       "Mining \\& Logging                                  -4            -13   \n",
       "Utilities                                           0             -4   \n",
       "\n",
       "                               Mar and Apr `20  \n",
       "\\textbf{Total}                         -22,362  \n",
       "Education \\& Health Services            -2,843  \n",
       "Government                              -1,009  \n",
       "Professional \\& Business Serv.          -2,387  \n",
       "Retail Trade                            -2,374  \n",
       "Leisure \\& Hospitality                  -8,224  \n",
       "Manufacturing                           -1,385  \n",
       "Financial Activities                      -279  \n",
       "Construction                            -1,113  \n",
       "Transportation \\& Warehousing             -574  \n",
       "Wholesale Trade                           -409  \n",
       "Information                               -281  \n",
       "Mining \\& Logging                          -68  \n",
       "Utilities                                   -3  "
      ]
     },
     "execution_count": 30,
     "metadata": {},
     "output_type": "execute_result"
    }
   ],
   "source": [
    "data = (pd.read_csv(data_dir / 'ces_data.csv')\n",
    "          .set_index('date')\n",
    "          .drop(['TOT', 'Total Private'], axis=1)\n",
    "          .rename({'ALL': '\\\\textbf{Total}'}, axis=1))\n",
    "\n",
    "final = pd.DataFrame()\n",
    "for i in [-1, -13]:\n",
    "    final[dtxt(data.index[i])['mon2']] = data.iloc[i]\n",
    "    \n",
    "final[dtxt(data.index[-1])['mon2'] + ' '] = data.diff().iloc[-1]\n",
    "for i in [-2, -3]:\n",
    "    final[dtxt(data.index[i])['mon2']] = data.diff().iloc[i]\n",
    "    \n",
    "final['Mar `19 to Feb `20 avg'] = data.diff().loc['2019-03-01':'2020-02-01'].mean()    \n",
    "    \n",
    "final['Since May 2020'] = data.iloc[-1] - data.loc['2020-04-01']\n",
    "final['Mar and Apr `20'] = data.diff().loc['2020-03-01':'2020-04-01'].sum()\n",
    "\n",
    "final = final.sort_values(dtxt(data.index[-1])['mon2'], ascending=False).astype(int).applymap('{:,.0f}'.format)\n",
    "final.to_csv(data_dir / 'nfp.tex', sep='&', line_terminator='\\\\\\ ', quotechar=' ')\n",
    "\n",
    "final"
   ]
  },
  {
   "cell_type": "code",
   "execution_count": null,
   "metadata": {},
   "outputs": [],
   "source": []
  },
  {
   "cell_type": "code",
   "execution_count": null,
   "metadata": {},
   "outputs": [],
   "source": []
  },
  {
   "cell_type": "markdown",
   "metadata": {},
   "source": [
    "### Government Jobs"
   ]
  },
  {
   "cell_type": "code",
   "execution_count": 31,
   "metadata": {
    "ExecuteTime": {
     "end_time": "2021-02-07T15:39:40.499050Z",
     "start_time": "2021-02-07T15:39:40.483483Z"
    }
   },
   "outputs": [
    {
     "name": "stdout",
     "output_type": "stream",
     "text": [
      "In January 2021, there were 21.5 million government jobs, equivalent to 8.2 for every 100 people in the age 16+ population (see {\\color{blue!50!cyan}\\textbf{---}}). The previous year, in January 2020, there were 22.8 million government jobs, equivalent to 8.8 percent of the age 16 or older population. Since February 2020, the US has lost 1.3 million total government jobs. \n"
     ]
    }
   ],
   "source": [
    "df1 = (pd.read_csv(data_dir / 'jobs_report_main.csv', parse_dates=['date'])\n",
    "        .set_index('date'))\n",
    "\n",
    "df2 = (pd.read_csv(data_dir / 'jobs_report_main2.csv', parse_dates=['date'])\n",
    "        .set_index('date'))\n",
    "\n",
    "gj = df2['govjobs']\n",
    "data = ((gj / df1['POP']) * 100)\n",
    "data.name = 'GOVJOBS'\n",
    "data.to_csv(data_dir / 'govjobs.csv', index_label='date', header=True)\n",
    "node = end_node(data, 'blue!50!cyan', date=True)\n",
    "write_txt(text_dir / 'govjobs_node.txt', node)\n",
    "\n",
    "ltdate = dtxt(gj.index[-1])['mon1']\n",
    "pryrdate = dtxt(gj.index[-13])['mon1']\n",
    "\n",
    "ltval = gj.iloc[-1] / 1000 \n",
    "pryrval = gj.iloc[-13] / 1000 \n",
    "ltsh = data.iloc[-1]\n",
    "pryrsh = data.iloc[-13]\n",
    "\n",
    "diff = gj.iloc[-1] - gj.loc['2020-02-01']\n",
    "if diff > 950:\n",
    "    difftxt = f'gained {diff / 1000:.1f} million'\n",
    "elif diff > 0:\n",
    "    difftxt = f'gained {diff:.0f},000'\n",
    "elif diff < -950:\n",
    "    difftxt = f'lost {abs(diff) / 1000:.1f} million'\n",
    "else:\n",
    "    difftxt = f'lost {abs(diff):.0f},000'\n",
    "    \n",
    "text = (f'In {ltdate}, there were {ltval:.1f} million government jobs, '+\n",
    "        f'equivalent to {ltsh:.1f} for every 100 people in the age 16+ population '+\n",
    "        '(see {\\color{blue!50!cyan}\\\\textbf{---}}). The previous year, in '+\n",
    "        f'{pryrdate}, there were {pryrval:.1f} million government jobs, '+\n",
    "        f'equivalent to {pryrsh:.1f} percent of the age 16 or older population. '+\n",
    "        f'Since February 2020, the US has {difftxt} total government jobs. ')\n",
    "print(text)"
   ]
  },
  {
   "cell_type": "code",
   "execution_count": null,
   "metadata": {},
   "outputs": [],
   "source": []
  },
  {
   "cell_type": "code",
   "execution_count": null,
   "metadata": {},
   "outputs": [],
   "source": []
  }
 ],
 "metadata": {
  "kernelspec": {
   "display_name": "Python 3",
   "language": "python",
   "name": "python3"
  },
  "language_info": {
   "codemirror_mode": {
    "name": "ipython",
    "version": 3
   },
   "file_extension": ".py",
   "mimetype": "text/x-python",
   "name": "python",
   "nbconvert_exporter": "python",
   "pygments_lexer": "ipython3",
   "version": "3.8.6"
  }
 },
 "nbformat": 4,
 "nbformat_minor": 2
}
