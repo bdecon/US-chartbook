{
 "cells": [
  {
   "cell_type": "markdown",
   "metadata": {},
   "source": [
    "# Generate Jobs Report Data for Chartbook\n",
    "\n",
    "Brian Dew\n",
    "\n",
    "@bd_econ"
   ]
  },
  {
   "cell_type": "code",
   "execution_count": 1,
   "metadata": {
    "ExecuteTime": {
     "end_time": "2024-01-11T15:51:49.680310Z",
     "start_time": "2024-01-11T15:51:48.712520Z"
    }
   },
   "outputs": [],
   "source": [
    "import sys\n",
    "sys.path.append('../src')\n",
    "\n",
    "import uschartbook.config\n",
    "\n",
    "from uschartbook.config import *\n",
    "from uschartbook.utils import *"
   ]
  },
  {
   "cell_type": "markdown",
   "metadata": {},
   "source": [
    "### API Request"
   ]
  },
  {
   "cell_type": "code",
   "execution_count": 2,
   "metadata": {
    "ExecuteTime": {
     "end_time": "2024-01-05T14:50:21.060449Z",
     "start_time": "2024-01-05T14:50:05.169190Z"
    }
   },
   "outputs": [
    {
     "name": "stdout",
     "output_type": "stream",
     "text": [
      "Post Request Status: REQUEST_SUCCEEDED\n",
      "December 2023\n"
     ]
    }
   ],
   "source": [
    "# Series stored as a dictionary\n",
    "series = {'LNS14000003': 'White', \n",
    "          'LNS14000006': 'Black',\n",
    "          'LNS14000009': 'Hispanic',\n",
    "          'LNS14032183': 'Asian',\n",
    "          'LNS14000000': 'Total',\n",
    "          'LNS13327709': 'U6',\n",
    "          'LNS13000000': 'Level',\n",
    "          'LNU05026639': 'WantJob',\n",
    "          'LNU03008636': 'LT',\n",
    "          'LNU03008516': 'MT',\n",
    "          'LNU00000000': 'POP',\n",
    "          'LNS12300060': 'PA_EPOP',\n",
    "          'LNS13023621': 'Job Loser',\n",
    "          'LNS13023653': 'Temporary Layoff',\n",
    "          'LNS13026638': 'Permanent Separation',\n",
    "          'LNS13023705': 'Job Leaver', \n",
    "          'LNS13023557': 'Re-entrant',\n",
    "          'LNS13023569': 'New entrant',\n",
    "          'LNS13008276': 'Median',\n",
    "          'LNS13008275': 'Mean',\n",
    "          'LNS17200000': 'NILF',\n",
    "          'LNS17100000': 'UNEMP',\n",
    "          'LNS11000000': 'LF',\n",
    "          'LNS12032194': 'PTECON',\n",
    "          'LNS12005977': 'PTNONECON'}\n",
    "\n",
    "# Start year and end year\n",
    "dates = (1988, 2023)\n",
    "df = bls_api(series, dates, bls_key)\n",
    "df.to_csv(data_dir / 'jobs_report_main.csv', index_label='date')\n",
    "print(dtxt(df.index[-1])['mon1'])"
   ]
  },
  {
   "cell_type": "code",
   "execution_count": 3,
   "metadata": {
    "ExecuteTime": {
     "end_time": "2024-01-05T14:50:33.596225Z",
     "start_time": "2024-01-05T14:50:21.062088Z"
    }
   },
   "outputs": [
    {
     "name": "stdout",
     "output_type": "stream",
     "text": [
      "Post Request Status: REQUEST_SUCCEEDED\n"
     ]
    }
   ],
   "source": [
    "# Series stored as a dictionary\n",
    "series = {'LNS12300061': 'PA_EPOP_M', \n",
    "          'LNS12300062': 'PA_EPOP_W',\n",
    "          'LNS12005054': 'avghrstot',\n",
    "          'LNU02033699': 'avghrsserv',\n",
    "          'LNU02033232': 'avghrsptecon',\n",
    "          'LNU01000000': 'LFnsa',\n",
    "          'LNS12026619': 'MJHsa',\n",
    "          'LNU02000000': 'EMP',\n",
    "          'LNS12000000': 'EMPsa',\n",
    "          'LNU00000001': 'MenPop',\n",
    "          'LNU00000002': 'WomenPop',\n",
    "          'LNU01000001': 'MenLF',\n",
    "          'LNU01000002': 'WomenLF',\n",
    "          'LNS11300001': 'MenLFPR',\n",
    "          'LNS11300002': 'WomenLFPR',\n",
    "          'LNU02048984': 'seinc',\n",
    "          'LNS12027714': 'seuninc',\n",
    "          'LNU02374597': 'empdis',\n",
    "          'LNS12300000': 'EPOP'}\n",
    "\n",
    "# Start year and end year\n",
    "dates = (1988, 2023)\n",
    "df = bls_api(series, dates, bls_key)\n",
    "df.to_csv(data_dir / 'jobs_report_main2.csv', index_label='date')"
   ]
  },
  {
   "cell_type": "code",
   "execution_count": 4,
   "metadata": {
    "ExecuteTime": {
     "end_time": "2024-01-05T14:50:35.197625Z",
     "start_time": "2024-01-05T14:50:33.598355Z"
    }
   },
   "outputs": [
    {
     "name": "stdout",
     "output_type": "stream",
     "text": [
      "Post Request Status: REQUEST_SUCCEEDED\n"
     ]
    }
   ],
   "source": [
    "# Series stored as a dictionary\n",
    "series = {'LNS17100001': 'MenUE',\n",
    "          'LNS17100002': 'WomenUE',\n",
    "          'LNS17200001': 'MenNE',\n",
    "          'LNS17200002': 'WomenNE',\n",
    "          'LNS17400001': 'MenEU',\n",
    "          'LNS17400002': 'WomenEU',\n",
    "          'LNS17600001': 'MenNU',\n",
    "          'LNS17600002': 'WomenNU',\n",
    "          'LNS17800001': 'MenEN',\n",
    "          'LNS17800002': 'WomenEN',\n",
    "          'LNS17900001': 'MenUN',\n",
    "          'LNS17900002': 'WomenUN',\n",
    "          'LNS12000001': 'MenE',\n",
    "          'LNS12000002': 'WomenE',\n",
    "          'LNS13000001': 'MenU',\n",
    "          'LNS13000002': 'WomenU',\n",
    "          'LNS15000001': 'MenN',\n",
    "          'LNS15000002': 'WomenN'}\n",
    "\n",
    "# Start year and end year\n",
    "dates = (2018, 2023)\n",
    "df = bls_api(series, dates, bls_key)\n",
    "df.to_csv(data_dir / 'jobs_report_main3.csv', index_label='date')"
   ]
  },
  {
   "cell_type": "code",
   "execution_count": null,
   "metadata": {},
   "outputs": [],
   "source": [
    "         "
   ]
  },
  {
   "cell_type": "markdown",
   "metadata": {},
   "source": [
    "### Labor Force Gross Flows"
   ]
  },
  {
   "cell_type": "code",
   "execution_count": 2,
   "metadata": {
    "ExecuteTime": {
     "end_time": "2024-01-11T15:51:55.692304Z",
     "start_time": "2024-01-11T15:51:55.660017Z"
    }
   },
   "outputs": [],
   "source": [
    "df = (pd.read_csv(data_dir / 'jobs_report_main3.csv', parse_dates=['date'])\n",
    "        .set_index('date')) / 1000\n",
    "\n",
    "cols = ['MenEU', 'WomenEU', 'MenEN', 'WomenEN', 'MenUE', 'WomenUE',\n",
    "        'MenUN', 'WomenUN', 'MenNE', 'WomenNE', 'MenNU', 'WomenNU']\n",
    "\n",
    "cols2 = []\n",
    "for col in cols:\n",
    "    name = f'{col}{col[-2]}'\n",
    "    cols2.append(name)\n",
    "    df[name] = (df[col] / df[f'{col[:-2]}{col[-2]}'].shift()) * 100\n",
    "\n",
    "df.loc['2013-01-01':, cols2].to_csv(data_dir / 'grosslf.csv', index_label='date')"
   ]
  },
  {
   "cell_type": "code",
   "execution_count": null,
   "metadata": {},
   "outputs": [],
   "source": []
  },
  {
   "cell_type": "code",
   "execution_count": null,
   "metadata": {},
   "outputs": [],
   "source": []
  },
  {
   "cell_type": "markdown",
   "metadata": {},
   "source": [
    "### Unemployment rate"
   ]
  },
  {
   "cell_type": "code",
   "execution_count": 3,
   "metadata": {
    "ExecuteTime": {
     "end_time": "2024-01-11T15:51:57.428183Z",
     "start_time": "2024-01-11T15:51:57.388561Z"
    }
   },
   "outputs": [
    {
     "name": "stdout",
     "output_type": "stream",
     "text": [
      "BLS \\href{https://www.bls.gov/news.release/empsit.nr0.htm}{reports} 6.3 million unemployed people in December 2023, and an unemployment rate of 3.7 percent (see {\\color{blue!50!cyan}\\textbf{---}}), in line with the November 2023 rate of 3.7 percent, but slightly above the December 2022 rate of 3.5 percent. \n",
      "\n",
      "In December 2023, the labor under-utilization rate is 7.1 percent (see {\\color{blue}\\textbf{---}}). \n",
      "\n",
      "Periods of unemployment are more common for disadvantaged groups. The black or African American unemployment rate is typically double the white unemployment rate. Employment opportunities for disadvantaged groups are more-dependent on current labor market conditions. A very tight labor market reduces racial discrimination in hiring, while disadvantaged groups are more likely to lose jobs in a downturn. Since February 2020, the black unemployment rate has decreased by 0.9 percentage point to 5.2 percent (see {\\color{green!50!teal!60!black}\\textbf{---}}).\n"
     ]
    }
   ],
   "source": [
    "df = pd.read_csv(data_dir / 'jobs_report_main.csv', index_col='date', \n",
    "                 parse_dates=True)\n",
    "srs = ['Total', 'U6']\n",
    "df.loc['1989':, srs].to_csv(data_dir / 'unemp2.csv', index_label='date')\n",
    "\n",
    "srs = ['White', 'Black', 'Hispanic']\n",
    "df.loc['1989':, srs].to_csv(data_dir / 'unemp.csv', index_label='date')\n",
    "\n",
    "s = series_info(df['Level'])\n",
    "s2 = series_info(df['Total'])\n",
    "s3 = series_info(df['Black'])\n",
    "s4 = series_info(df['U6'])\n",
    "compare = compare_text(df['Total'].iloc[-1], df['Total'].iloc[-2], [0.15, 1.5, 3.0])\n",
    "compare2 = compare_text(df['Total'].iloc[-1], df['Total'].iloc[-13], [0.15, 1.5, 3.0])\n",
    "pryrdt = dtxt(df.index[-13])['mon1']\n",
    "\n",
    "if compare[-5:] != compare2[-5:]:\n",
    "    conj = f', but {compare2} the {pryrdt} rate of {df[\"Total\"].iloc[-13]:.1f} percent'\n",
    "elif compare != compare2:\n",
    "    conj = f', and {compare2} the {pryrdt} rate of {df[\"Total\"].iloc[-13]:.1f} percent'\n",
    "else:\n",
    "    conj = ''\n",
    "    \n",
    "text = ('BLS \\href{https://www.bls.gov/news.release/empsit.nr0.htm}{reports} '+\n",
    "        f'{s[\"val_latest\"]/1000:.1f} million '+\n",
    "        f'unemployed people in {s[\"date_latest_ft\"]}, '+\n",
    "        f'and an unemployment rate of {s2[\"val_latest\"]} percent '+\n",
    "        '(see {\\color{blue!50!cyan}\\\\textbf{---}}), '+\n",
    "        f'{compare} the {s[\"date_prev_ft\"]} rate of {s2[\"val_prev\"]} percent'+\n",
    "        f'{conj}.')\n",
    "write_txt(text_dir / 'unemp1.txt', text)\n",
    "print(text, '\\n')\n",
    "\n",
    "mval = f', {s4[\"last_matched\"]}.' if s4['days_since_match'] > 1000 else '.'\n",
    "text = (f'In {s[\"date_latest_ft\"]}, the labor under-utilization rate is '+\n",
    "        f'{s4[\"val_latest\"]} percent '+\n",
    "        '(see {\\color{blue}\\\\textbf{---}})'+\n",
    "        f'{mval}')\n",
    "write_txt(text_dir / 'unemp2.txt', text)\n",
    "print(text, '\\n')\n",
    "\n",
    "write_txt(text_dir / 'u6_node.txt', \n",
    "          end_node(df['U6'], 'blue', date='m', offset=0.35))\n",
    "write_txt(text_dir / 'u3_node.txt', end_node(df['Total'], 'blue!50!cyan'))\n",
    "\n",
    "black_ch = df['Black'].iloc[-1] - df.loc['2020-02-01', 'Black']\n",
    "bch = value_text(black_ch, style='increase_by', ptype='pp')\n",
    "text = ('Periods of unemployment are more common for disadvantaged groups. '+\n",
    "        'The black or African American unemployment rate is typically '+\n",
    "        'double the white unemployment rate. Employment opportunities for '+\n",
    "        'disadvantaged groups are more-dependent on current labor market '+\n",
    "        'conditions. A very tight labor market reduces racial '+\n",
    "        'discrimination in hiring, while disadvantaged groups are more '+\n",
    "        'likely to lose jobs in a downturn. '+\n",
    "        'Since February 2020, the black unemployment rate '+\n",
    "        f'has {bch} to {s3[\"val_latest\"]:.1f} percent '+\n",
    "        '(see {\\color{green!50!teal!60!black}\\\\textbf{---}}).')\n",
    "write_txt(text_dir / 'unemp3.txt', text)\n",
    "print(text)"
   ]
  },
  {
   "cell_type": "code",
   "execution_count": 4,
   "metadata": {
    "ExecuteTime": {
     "end_time": "2024-01-11T15:51:59.968699Z",
     "start_time": "2024-01-11T15:51:59.929215Z"
    }
   },
   "outputs": [
    {
     "data": {
      "text/html": [
       "<div>\n",
       "<style scoped>\n",
       "    .dataframe tbody tr th:only-of-type {\n",
       "        vertical-align: middle;\n",
       "    }\n",
       "\n",
       "    .dataframe tbody tr th {\n",
       "        vertical-align: top;\n",
       "    }\n",
       "\n",
       "    .dataframe thead th {\n",
       "        text-align: right;\n",
       "    }\n",
       "</style>\n",
       "<table border=\"1\" class=\"dataframe\">\n",
       "  <thead>\n",
       "    <tr style=\"text-align: right;\">\n",
       "      <th></th>\n",
       "      <th>Dec `23</th>\n",
       "      <th>Nov `23</th>\n",
       "      <th>Oct `23</th>\n",
       "      <th>Sep `23</th>\n",
       "      <th>Dec `22</th>\n",
       "      <th>Dec `21</th>\n",
       "      <th>GFC peak</th>\n",
       "      <th>Date of peak</th>\n",
       "    </tr>\n",
       "  </thead>\n",
       "  <tbody>\n",
       "    <tr>\n",
       "      <th>Under-utilization Rate (U6)</th>\n",
       "      <td>7.1</td>\n",
       "      <td>7.0</td>\n",
       "      <td>7.2</td>\n",
       "      <td>7.0</td>\n",
       "      <td>6.5</td>\n",
       "      <td>7.3</td>\n",
       "      <td>17.2</td>\n",
       "      <td>Dec `09</td>\n",
       "    </tr>\n",
       "    <tr>\n",
       "      <th>Unemployment Rate (U3)</th>\n",
       "      <td>3.7</td>\n",
       "      <td>3.7</td>\n",
       "      <td>3.8</td>\n",
       "      <td>3.8</td>\n",
       "      <td>3.5</td>\n",
       "      <td>3.9</td>\n",
       "      <td>10.0</td>\n",
       "      <td>Oct `09</td>\n",
       "    </tr>\n",
       "    <tr>\n",
       "      <th>\\textit{by race/ethnicity:}</th>\n",
       "      <td></td>\n",
       "      <td></td>\n",
       "      <td></td>\n",
       "      <td></td>\n",
       "      <td></td>\n",
       "      <td></td>\n",
       "      <td></td>\n",
       "      <td></td>\n",
       "    </tr>\n",
       "    <tr>\n",
       "      <th>\\hspace{2mm} White</th>\n",
       "      <td>3.5</td>\n",
       "      <td>3.3</td>\n",
       "      <td>3.5</td>\n",
       "      <td>3.4</td>\n",
       "      <td>3.0</td>\n",
       "      <td>3.3</td>\n",
       "      <td>9.2</td>\n",
       "      <td>Oct `09</td>\n",
       "    </tr>\n",
       "    <tr>\n",
       "      <th>\\hspace{2mm} Black</th>\n",
       "      <td>5.2</td>\n",
       "      <td>5.8</td>\n",
       "      <td>5.8</td>\n",
       "      <td>5.7</td>\n",
       "      <td>5.7</td>\n",
       "      <td>6.9</td>\n",
       "      <td>16.8</td>\n",
       "      <td>Mar `10</td>\n",
       "    </tr>\n",
       "    <tr>\n",
       "      <th>\\hspace{2mm} Hispanic</th>\n",
       "      <td>5.0</td>\n",
       "      <td>4.6</td>\n",
       "      <td>4.8</td>\n",
       "      <td>4.6</td>\n",
       "      <td>4.2</td>\n",
       "      <td>4.6</td>\n",
       "      <td>13.0</td>\n",
       "      <td>Aug `09</td>\n",
       "    </tr>\n",
       "    <tr>\n",
       "      <th>\\hspace{2mm} Asian</th>\n",
       "      <td>3.1</td>\n",
       "      <td>3.5</td>\n",
       "      <td>3.1</td>\n",
       "      <td>2.9</td>\n",
       "      <td>2.4</td>\n",
       "      <td>3.8</td>\n",
       "      <td>8.4</td>\n",
       "      <td>Dec `09</td>\n",
       "    </tr>\n",
       "  </tbody>\n",
       "</table>\n",
       "</div>"
      ],
      "text/plain": [
       "                            Dec `23 Nov `23 Oct `23 Sep `23 Dec `22 Dec `21  \\\n",
       "Under-utilization Rate (U6)     7.1     7.0     7.2     7.0     6.5     7.3   \n",
       "Unemployment Rate (U3)          3.7     3.7     3.8     3.8     3.5     3.9   \n",
       "\\textit{by race/ethnicity:}                                                   \n",
       "\\hspace{2mm} White              3.5     3.3     3.5     3.4     3.0     3.3   \n",
       "\\hspace{2mm} Black              5.2     5.8     5.8     5.7     5.7     6.9   \n",
       "\\hspace{2mm} Hispanic           5.0     4.6     4.8     4.6     4.2     4.6   \n",
       "\\hspace{2mm} Asian              3.1     3.5     3.1     2.9     2.4     3.8   \n",
       "\n",
       "                            GFC peak Date of peak  \n",
       "Under-utilization Rate (U6)     17.2      Dec `09  \n",
       "Unemployment Rate (U3)          10.0      Oct `09  \n",
       "\\textit{by race/ethnicity:}                        \n",
       "\\hspace{2mm} White               9.2      Oct `09  \n",
       "\\hspace{2mm} Black              16.8      Mar `10  \n",
       "\\hspace{2mm} Hispanic           13.0      Aug `09  \n",
       "\\hspace{2mm} Asian               8.4      Dec `09  "
      ]
     },
     "execution_count": 4,
     "metadata": {},
     "output_type": "execute_result"
    }
   ],
   "source": [
    "srs = ['U6', 'Total', 'White', 'Black', 'Hispanic', 'Asian']\n",
    "untab = df[srs].iloc[[-1, -2, -3, -4, -13, -25]].T\n",
    "untab.columns = untab.columns.strftime('%b `%y')\n",
    "untab['GFC peak'] = df.loc['2005':'2013', srs].max()\n",
    "untab['Date of peak'] = df.loc['2005':'2013', srs].idxmax().dt.strftime('%b `%y')\n",
    "d = {'Total': 'Unemployment Rate (U3)',\n",
    "     'U6': 'Under-utilization Rate (U6)',\n",
    "     'White': '\\hspace{2mm} White',\n",
    "     'Black': '\\hspace{2mm} Black',\n",
    "     'Hispanic': '\\hspace{2mm} Hispanic',\n",
    "     'Asian': '\\hspace{2mm} Asian'}\n",
    "untab.index = untab.index.map(d)\n",
    "\n",
    "untab.loc['\\\\textit{by race/ethnicity:}', untab.columns] = [''] * 8\n",
    "untab = pd.concat([untab.iloc[0:2], untab.iloc[-1].to_frame().T, untab.iloc[2:6]])\n",
    "untab.columns.name = None\n",
    "untab.to_csv(data_dir / 'unemp1.tex', sep='&', lineterminator='\\\\\\ ', quotechar=' ')\n",
    "\n",
    "untab"
   ]
  },
  {
   "cell_type": "code",
   "execution_count": null,
   "metadata": {},
   "outputs": [],
   "source": []
  },
  {
   "cell_type": "code",
   "execution_count": null,
   "metadata": {},
   "outputs": [],
   "source": []
  },
  {
   "cell_type": "markdown",
   "metadata": {},
   "source": [
    "### Labor Force Participation Rate"
   ]
  },
  {
   "cell_type": "code",
   "execution_count": 5,
   "metadata": {
    "ExecuteTime": {
     "end_time": "2024-01-11T15:52:01.683481Z",
     "start_time": "2024-01-11T15:52:01.648644Z"
    }
   },
   "outputs": [
    {
     "name": "stdout",
     "output_type": "stream",
     "text": [
      "As of December 2023, 62.5 percent of those aged 16 and over are part of the labor force (see {\\color{green!80!blue!60!black}\\textbf{---}}), following 62.8 percent in November and 62.7 percent in October. Pre-pandemic, in February 2020, the rate stood at 63.3 percent.\n",
      "\n",
      "In December 2023, 68.1 percent of men age 16 and older are in the labor force (see {\\color{blue!70!black}\\textbf{---}}), compared to 57.1 percent of women (see {\\color{red!80!black}\\textbf{---}}). Since February 2020, labor force participation has decreased 1.1 percentage points among men, and decreased 0.8 percentage point among women.\n"
     ]
    }
   ],
   "source": [
    "df = (pd.read_csv(data_dir / 'jobs_report_main2.csv', parse_dates=['date'])\n",
    "        .set_index('date'))[['MenLFPR', 'WomenLFPR']]\n",
    "df['TotLFPR'] = (pd.read_csv(data_dir / 'jobs_report_main.csv', \n",
    "                             parse_dates=['date'])\n",
    "                   .assign(TotLFPR = lambda x: (x.LF / x.POP)*100)\n",
    "                   .set_index('date'))['TotLFPR']\n",
    "df.loc['1989':].to_csv(data_dir / 'lfpr.csv', index_label='date')\n",
    "\n",
    "col = {'MenLFPR': 'blue!70!black',\n",
    "       'WomenLFPR': 'red!80!black',\n",
    "       'TotLFPR': 'green!80!blue!60!black'}\n",
    "nodes = (end_node(df['MenLFPR'], col['MenLFPR'], date='m', \n",
    "                  offset=0.35) + '\\n' + \n",
    "         '\\n'.join(end_node(df[name], color) \n",
    "                   for name, color in col.items() if name != 'MenLFPR'))\n",
    "write_txt(text_dir / 'lfpr_nodes.txt', nodes)\n",
    "\n",
    "tot = df['TotLFPR']\n",
    "ltdt = dtxt(df.index[-1])['mon1']\n",
    "write_txt(text_dir / 'lfpr_blsdate.txt', ltdt)\n",
    "prdt, prdt2 = (dtxt(df.index[i])['mon3'] \n",
    "               if df.index[-1].year == df.index[i].year \n",
    "               else dtxt(df.index[i])['mon1'] \n",
    "               for i in [-2, -3])\n",
    "cpdt = '2020-02-01'\n",
    "compdt = dtxt(cpdt)['mon1']\n",
    "feb20val = tot.loc[cpdt]\n",
    "mltval = df['MenLFPR'].iloc[-1]\n",
    "wltval = df['WomenLFPR'].iloc[-1]\n",
    "mchval = mltval - df['MenLFPR'].loc['2020-01-01']\n",
    "wchval = wltval - df['WomenLFPR'].loc['2020-01-01']\n",
    "mch = value_text(mchval, style='increase', ptype='pp')\n",
    "wch = value_text(wchval, style='increase', ptype='pp')\n",
    "cl = {k: c_line(v) for k, v in col.items()}\n",
    "v1, v2, v3 = [value_text(tot.iloc[i], 'plain') for i in [-1, -2, -3]]\n",
    "chtxt = 'following'\n",
    "comptxt = (f', {chtxt} {v2} in {prdt} and {v3} in {prdt2}')\n",
    "if v1 == v2 == v3:\n",
    "    comptxt = (f', the same as in {prdt} and {prdt2}')\n",
    "elif v1 != v2 != v3:\n",
    "    comptxt = comptxt\n",
    "else:\n",
    "    print('Partial match \\n')\n",
    "    if v1 == v2:\n",
    "        comptxt = (f', unchanged from {prdt}, and following {v3} in {prdt2}')\n",
    "    if v1 == v3:\n",
    "        comptxt = comptxt\n",
    "    if v2 == v3:\n",
    "        comptxt = (f', {chtxt} {v2} in both {prdt} and {prdt2}')\n",
    "text = (f'As of {ltdt}, {v1} of those aged 16 and over are part '+\n",
    "        f'of the labor force {cl[\"TotLFPR\"]}{comptxt}. Pre-pandemic, '+\n",
    "        f'in {compdt}, the rate stood at {feb20val:.1f} percent.\\n\\n'+\n",
    "        f'In {ltdt}, {mltval:.1f} percent of men age '+\n",
    "        f'16 and older are in the labor force {cl[\"MenLFPR\"]}, compared to '+\n",
    "        f'{wltval:.1f} percent of women {cl[\"WomenLFPR\"]}. Since '+\n",
    "        f'{compdt}, labor force participation has {mch} among men, '+\n",
    "        f'and {wch} among women.')\n",
    "write_txt(text_dir / 'lfpr_text.txt', text)\n",
    "print(text)"
   ]
  },
  {
   "cell_type": "code",
   "execution_count": null,
   "metadata": {},
   "outputs": [],
   "source": []
  },
  {
   "cell_type": "code",
   "execution_count": null,
   "metadata": {},
   "outputs": [],
   "source": []
  },
  {
   "cell_type": "markdown",
   "metadata": {},
   "source": [
    "### Employment rate"
   ]
  },
  {
   "cell_type": "code",
   "execution_count": 6,
   "metadata": {
    "ExecuteTime": {
     "end_time": "2024-01-11T15:52:25.083960Z",
     "start_time": "2024-01-11T15:52:24.976599Z"
    }
   },
   "outputs": [
    {
     "name": "stdout",
     "output_type": "stream",
     "text": [
      "As of December 2023, the Bureau of Labor Statistics \\href{https://data.bls.gov/timeseries/LNS12300000}{report} an overall (age 16 and older) employment rate of 60.1 percent (see {\\color{green!60!black}\\textbf{---}}), a one-year increase of 0.0 percentage point, but a 0.7 percentage point decrease since 2019.\n",
      "In December 2023, 80.4 percent of 25 to 54 years olds were employed (see {\\color{blue!90!cyan}\\textbf{---}}), compared to 80.7 percent in November 2023. Over the past year, the age 25 to 54 employment rate increased 0.3 percentage point. The December 2023 rate is one percentage point (equivalent to 1.3 million workers) below the average rate of 81.4 during the tight labor market of 1999--2000.\n"
     ]
    }
   ],
   "source": [
    "url = 'https://data.bls.gov/timeseries/LNS12300000'\n",
    "pa_url = 'https://data.bls.gov/timeseries/LNS12300060'\n",
    "df1 = (pd.read_csv(data_dir / 'jobs_report_main.csv', \n",
    "                  index_col='date', parse_dates=True)\n",
    "        .loc['1989':, 'PA_EPOP'])\n",
    "df2 = (pd.read_csv(data_dir / 'jobs_report_main2.csv', \n",
    "                  index_col='date', parse_dates=True)\n",
    "        .loc['1989':, 'EPOP'])\n",
    "df = pd.concat([df1, df2], axis=1)\n",
    "df.to_csv(data_dir / 'epop.csv', index_label='date')\n",
    "\n",
    "color = 'green!60!black'\n",
    "node = end_node(df['EPOP'], color, date='m')\n",
    "write_txt(text_dir / 'epop_node2.txt', node)\n",
    "\n",
    "ltdt = dtxt(df.index[-1])['mon1']\n",
    "ltval = df['EPOP'].iloc[-1]\n",
    "chval = df['EPOP'].diff(12).iloc[-1]\n",
    "chtxt = value_text(chval, 'increase_of', ptype='pp', time_str='one-year ')\n",
    "chval2 = df['EPOP'].iloc[-1] - df.loc['2019', 'EPOP'].mean()\n",
    "chtxt2 = value_text(chval2, style='increase_end', ptype='pp')\n",
    "ab = 'but'\n",
    "if ((chval<0) == (chval2<0)) == True:\n",
    "    ab = 'and'\n",
    "text = (f'As of {ltdt}, the Bureau of Labor Statistics '+\n",
    "        f'\\href{{{url}}}{{report}} '+\n",
    "        f'an overall (age 16 and older) employment rate of {ltval} '+\n",
    "        f'percent {c_line(color)}, {chtxt}, {ab} {chtxt2} since 2019.')\n",
    "write_txt(text_dir / 'epop_text2.txt', text)\n",
    "print(text)\n",
    "\n",
    "color = 'blue!90!cyan'\n",
    "adj = 0\n",
    "if (df['PA_EPOP'].iloc[-1] / df['PA_EPOP'].max()) > 0.95:\n",
    "    adj = -0.25\n",
    "elif (df['PA_EPOP'].iloc[-1] / df['PA_EPOP'].max()) > 1:\n",
    "    adj = -0.4\n",
    "node = end_node(df['PA_EPOP'], color, date='m', offset=adj)\n",
    "write_txt(text_dir / 'epop_node.txt', node)\n",
    "\n",
    "ltval = df['PA_EPOP'].iloc[-1]\n",
    "prval = df['PA_EPOP'].iloc[-2]\n",
    "prdt = dtxt(df['PA_EPOP'].index[-2])['mon1']\n",
    "prtxt = f'compared to {prval} percent in {prdt}'\n",
    "compval = df['PA_EPOP'].loc['2019-06-01': '2020-03-01'].max()\n",
    "last = series_info(df['PA_EPOP'])['last_matched']\n",
    "text2 = prtxt if ltval < compval else last\n",
    "chtxt = value_text(df['PA_EPOP'].diff(12).iloc[-1], ptype='pp', threshold=0.1)\n",
    "\n",
    "pop = (cps_1mo(cps_dir, cps_date(), ['BASICWGT', 'AGE'])\n",
    "       .query('25 <= AGE <=54').BASICWGT.sum()) / 1_000\n",
    "rt99 = df['PA_EPOP'].loc['1999': '2000'].mean()\n",
    "ch99 =  ltval - rt99\n",
    "ch99w = (-ch99 / 100) * pop\n",
    "ch99t = (f'{round(abs(ch99w) / 1000, 1)} million' \n",
    "         if ch99w > 999 else f'{round(abs(ch99w), -1):.0f},000')\n",
    "ch99t2 = f'(equivalent to {ch99t} workers)'\n",
    "threshold = 0.1\n",
    "txt = value_text(ch99, style='above_below', \n",
    "                 ptype='pp', threshold=threshold)\n",
    "if abs(ch99) > threshold:\n",
    "    ch99txt = f'{txt[:-6]} {ch99t2} {txt[-5:]}'\n",
    "else:\n",
    "    ch99txt = txt\n",
    "text = (f'In {ltdt}, {ltval} percent of 25 to 54 years olds were '+\n",
    "        f'employed {c_line(color)}, {text2}. Over the past year, '+\n",
    "        f'the age 25 to 54 employment rate {chtxt}. The {ltdt} rate '+\n",
    "        f'is {ch99txt} the average rate of {rt99:.1f} during the '+\n",
    "        'tight labor market of 1999--2000.')\n",
    "write_txt(text_dir / 'epop_text.txt', text)\n",
    "print(text)"
   ]
  },
  {
   "cell_type": "code",
   "execution_count": null,
   "metadata": {},
   "outputs": [],
   "source": []
  },
  {
   "cell_type": "markdown",
   "metadata": {},
   "source": [
    "### Recent Values"
   ]
  },
  {
   "cell_type": "code",
   "execution_count": 7,
   "metadata": {
    "ExecuteTime": {
     "end_time": "2024-01-11T15:52:27.061369Z",
     "start_time": "2024-01-11T15:52:27.048410Z"
    }
   },
   "outputs": [],
   "source": [
    "df1 = (pd.read_csv(data_dir / 'jobs_report_main.csv', \n",
    "                  index_col='date', parse_dates=True)\n",
    "        .loc['1989':, 'PA_EPOP'])\n",
    "df2 = (pd.read_csv(data_dir / 'jobs_report_main2.csv', \n",
    "                  index_col='date', parse_dates=True)\n",
    "        .loc['1989':, ['PA_EPOP_M', 'PA_EPOP_W']])\n",
    "df = pd.concat([df1, df2], axis=1)\n",
    "df['label'] = [dt.strftime('%b\\\\\\%Y') if dt.month == 1 \n",
    "                  else dt.strftime('%b') if dt.month == 7\n",
    "                  else '' for dt in df.index]\n",
    "res = df.iloc[-25:]\n",
    "\n",
    "res.to_csv(data_dir / 'pa_epop_rec.csv', index_label='date')"
   ]
  },
  {
   "cell_type": "code",
   "execution_count": 8,
   "metadata": {
    "ExecuteTime": {
     "end_time": "2024-01-11T15:52:28.551966Z",
     "start_time": "2024-01-11T15:52:28.544511Z"
    }
   },
   "outputs": [],
   "source": [
    "sdt = res.index[0]\n",
    "sdtime = (dtxt(sdt)['datetime']\n",
    "           .replace('-08-', '-8-').replace('-09-', '-9-'))\n",
    "ltdt = res.index[-1]\n",
    "ltdtime = (dtxt(ltdt)['datetime']\n",
    "           .replace('-08-', '-8-').replace('-09-', '-9-'))\n",
    "node = []\n",
    "d = {'PA_EPOP': ['blue!80!purple', 'cyan'], \n",
    "     'PA_EPOP_M': ['green!50!black', 'green!50!black'], \n",
    "     'PA_EPOP_W': ['yellow!40!orange', 'yellow!40!orange']}\n",
    "for s, [c1, c2] in d.items():\n",
    "    dt = f'\\scriptsize {dtxt(ltdt)[\"mon6\"]} \\\\\\\\' if s == 'PA_EPOP_M' else ''\n",
    "    v0 = res[s].iloc[0]\n",
    "    vlt = res[s].iloc[-1]\n",
    "    y = 0.15 if s == 'PA_EPOP_M' else '0'\n",
    "    x = -0.35 if s == 'PA_EPOP_M' else '-0.05'\n",
    "    n0 = ('\\\\node[label={[yshift=0cm, xshift=0.05cm, align=right]180:'+\n",
    "          f'{{\\scriptsize {v0:.1f}}}}}, circle, draw={c1}, fill={c2}, '+\n",
    "          f'inner sep=1pt] at (axis cs:{sdtime}, {v0}) '+\n",
    "          '{};\\n'+\n",
    "          f'\\\\node[label={{[yshift={y}cm, xshift={x}cm, align=right]0:'+\n",
    "          f'{{{dt}\\scriptsize {vlt:.1f}}}}}, circle, draw={c1}, fill={c2}, '+\n",
    "          f'inner sep=1pt] at (axis cs:{ltdtime}, {vlt}) '+\n",
    "          '{};')\n",
    "    node.append(n0)\n",
    "    \n",
    "# Text labels\n",
    "k = [['south east', 'right', dtxt(res.index[10])['datetime2'], \n",
    "  res['PA_EPOP_M'].iloc[10], 'green!50!black', '\\\\footnotesize Men'], \n",
    " ['north west', 'left', dtxt(res.index[4])['datetime2'], \n",
    "  res['PA_EPOP_W'].iloc[4], 'yellow!40!orange', '\\\\footnotesize Women'], \n",
    " ['south east', 'left', dtxt(res.index[15])['datetime2'], \n",
    "  res['PA_EPOP'].iloc[15], 'blue!80!cyan!90!white', '\\small Total']]\n",
    "\n",
    "tnode = [(f'\\\\node[anchor={anchor}, align={align}] at '+\n",
    "         f'({{{dt}}}, {val}) {{\\color{{{color}}}{name}}};') \n",
    "         for anchor, align, dt, val, color, name in k]\n",
    "\n",
    "nodes = '\\n'.join([n for n in [*node, *tnode]])\n",
    "write_txt(text_dir / 'epop_summary_nodes.txt', nodes)"
   ]
  },
  {
   "cell_type": "code",
   "execution_count": null,
   "metadata": {},
   "outputs": [],
   "source": []
  },
  {
   "cell_type": "code",
   "execution_count": null,
   "metadata": {},
   "outputs": [],
   "source": []
  },
  {
   "cell_type": "markdown",
   "metadata": {},
   "source": [
    "### Unemployment by reason"
   ]
  },
  {
   "cell_type": "code",
   "execution_count": 9,
   "metadata": {
    "ExecuteTime": {
     "end_time": "2024-01-11T15:52:32.870104Z",
     "start_time": "2024-01-11T15:52:31.200640Z"
    }
   },
   "outputs": [
    {
     "name": "stdout",
     "output_type": "stream",
     "text": [
      "There are several \\textbf{reasons for unemployment}. In December 2023, 3.1 million people, or 1.8 percent of the labor force, were unemployed from losing their job (see\\cbox{red!75!orange!70!white}). An additional 0.5 percent voluntarily left a job (see\\cbox{blue!72!black}). Re-entrants, people who left the labor force but are looking for a new job, comprised 1.0 percent (see\\cbox{blue!70!teal!70!gray!62!white}). Lastly, 0.4 percent of the labor force were new entrants to the labor market, looking for their first job (see\\cbox{purple!80!red!85!black}).\n",
      "\n",
      " In December 2023, temporary layoffs were 0.5 percent of the labor force. Permanent job losses were 0.9 percent of labor force. \n"
     ]
    }
   ],
   "source": [
    "srs = ['Job Loser', 'Job Leaver', 'Re-entrant', 'New entrant', \n",
    "       'Temporary Layoff', 'Permanent Separation', 'Level']\n",
    "d1 = (pd.read_csv(data_dir / 'jobs_report_main.csv', \n",
    "                  parse_dates=['date'])\n",
    "        .set_index('date')).loc['1989':]\n",
    "\n",
    "df = d1[srs].div(d1['LF'], axis='index') * 100\n",
    "dfa = df.resample('AS').mean()\n",
    "dfa.index = dfa.index + pd.DateOffset(months=6)\n",
    "dfa.to_csv(data_dir / 'unemp_reason.csv', index_label='date', \n",
    "          float_format='%g')\n",
    "\n",
    "lt = df.iloc[-3:]\n",
    "lt.index = [dtxt(i)['mon7'] for i in lt.index]\n",
    "lt = pd.concat([df.rolling(12).mean().iloc[-1].rename('12m avg'), lt.T], axis=1).T\n",
    "lt.to_csv(data_dir / 'unemp_reason_mon.csv', index_label='date', \n",
    "          float_format='%g')\n",
    "\n",
    "x_val = dtxt(dfa.index[-1])['datetime']\n",
    "x_valpr = dtxt(dfa.index[-2])['datetime']\n",
    "y_val = dfa.Level.iloc[-1]\n",
    "prelim = '(p)' if df.index[-1].month != 12 else ''\n",
    "yrp = f'{dtxt(dfa.index[-1])[\"year\"][2:]}{prelim}'\n",
    "barh = ('\\\\addplot[ybar, bar width=5.4pt, draw=black, fill=white!0] '+\n",
    "        f'plot coordinates{{({x_val},{y_val})}};\\n'+\n",
    "        f'\\\\absnode{{{x_valpr}}}{{-0.25}}{{\\scriptsize \\color{{black!70}} {yrp}}};')\n",
    "write_txt(text_dir / 'unemp_rsn_ltbar.txt', barh)\n",
    "\n",
    "cols = ['Job Loser', 'New entrant', 'Re-entrant', 'Job Leaver']\n",
    "sdf = lt[cols].iloc[-1]\n",
    "height = ((sdf.cumsum() - (sdf / 2) + 0.25)).to_dict()\n",
    "val = sdf.to_dict()\n",
    "nodes = [f'\\\\absnode{{3.3}}{{{height[i]}}}{{\\scriptsize {val[i]:.1f}}}' for i in cols]\n",
    "nodetext = '\\n'.join(nodes)\n",
    "write_txt(text_dir / 'unemp_rsn_ltval.txt', nodetext)\n",
    "\n",
    "colors = {'Job Loser': 'red!75!orange!70!white', 'New entrant': 'purple!80!red!85!black', \n",
    "          'Re-entrant': 'blue!70!teal!70!gray!62!white', 'Job Leaver': 'blue!72!black'}\n",
    "cl = {k: c_box(v) for k, v in colors.items()}\n",
    "\n",
    "ltdt = dtxt(df.index[-1])['mon1']\n",
    "lt = df.iloc[-1]\n",
    "jlsh = lt['Job Loser']\n",
    "jl = (d1['Job Loser'].iloc[-1] / 1_000)\n",
    "jle = lt['Job Leaver']\n",
    "re = lt['Re-entrant']\n",
    "ne = lt['New entrant']\n",
    "text = ('There are several \\\\textbf{reasons for unemployment}. In '+\n",
    "        f'{ltdt}, {jl:.1f} million people, or {jlsh:.1f} percent of '+\n",
    "        'the labor force, were unemployed from losing their job '+\n",
    "        f'{cl[\"Job Loser\"]}. An additional {jle:.1f} percent '+\n",
    "        f'voluntarily left a job {cl[\"Job Leaver\"]}. Re-entrants, '+\n",
    "        'people who left the labor force but are looking for a new '+\n",
    "        f'job, comprised {re:.1f} percent {cl[\"Re-entrant\"]}. Lastly, '+\n",
    "        f'{ne:.1f} percent of the labor force were new entrants to '+\n",
    "        f'the labor market, looking for their first job '+\n",
    "        f'{cl[\"New entrant\"]}.')\n",
    "write_txt(text_dir / 'unemp_rsn.txt', text)\n",
    "print(text)\n",
    "\n",
    "lf = ['Employed', 'Unemployed']\n",
    "naw_rate = lambda x: np.average(x['NOTATWORK'], weights=x['BASICWGT'])\n",
    "\n",
    "columns = ['LFS', 'MONTH', 'YEAR', 'BASICWGT', 'NOTATWORK']\n",
    "\n",
    "naw = (pd.concat([(pd.read_feather(cps_dir / f'cps{year}.ft', columns=columns)\n",
    "              .query('LFS in @lf'))\n",
    "           for year in range(2009, 2024)])\n",
    "        .groupby(['YEAR', 'MONTH'])\n",
    "        .apply(naw_rate) * 100)\n",
    "naw.index = [pd.to_datetime(f'{ti[0]}-{ti[1]}-01') for ti in naw.index]\n",
    "df['Employed, Not at Work'] = naw\n",
    "\n",
    "tbl = df.iloc[-3:].T.iloc[:, ::-1]\n",
    "tbl.columns = [dtxt(i)['mon2'] for i in tbl.columns]\n",
    "tbl['12m Avg.'] = df.rolling(12).mean().iloc[-1]\n",
    "tbl['Apr 2020'] = df.loc['2020-04-01']\n",
    "tbl['2020'] = df.loc['2020'].mean()\n",
    "tbl['2019'] = df.loc['2019'].mean()\n",
    "tbl['2009 --`11'] = df.loc['2009': '2011'].mean()\n",
    "tbl = tbl.round(1)\n",
    "d = {'Level': '\\ Unemployed, Any Reason',\n",
    "     'Job Loser': f'\\hspace{{2mm}}\\cbox{{{colors[\"Job Loser\"]}}} Job Loser',\n",
    "     'Temporary Layoff': '\\hspace{9mm}Temporary Layoff',\n",
    "     'Permanent Separation': '\\hspace{9mm}Permanent Separation',\n",
    "     'Re-entrant': f'\\hspace{{2mm}}\\cbox{{{colors[\"Re-entrant\"]}}} Re-entrant',\n",
    "     'New entrant': f'\\hspace{{2mm}}\\cbox{{{colors[\"New entrant\"]}}} New entrant',\n",
    "     'Job Leaver': f'\\hspace{{2mm}}\\cbox{{{colors[\"Job Leaver\"]}}} Job Leaver'}\n",
    "\n",
    "final = tbl.loc[d.keys()].rename(d)\n",
    "\n",
    "final.loc['\\\\textit{See also:}', final.columns] = [''] * 8\n",
    "final.loc['\\ \\ Employed, Not at Work*'] = tbl.loc['Employed, Not at Work']\n",
    "final.to_csv(data_dir / 'unempreason_table.tex', sep='&', \n",
    "             lineterminator='\\\\\\ ', quotechar=' ')\n",
    "\n",
    "tl = lt['Temporary Layoff']\n",
    "pjl = lt['Permanent Separation']\n",
    "\n",
    "text = (f'In {ltdt}, temporary layoffs were {tl:.1f} percent of '+\n",
    "        f'the labor force. Permanent job losses were {pjl:.1f} '+\n",
    "        'percent of labor force. ')\n",
    "write_txt(text_dir / 'unemp_rsn2.txt', text)\n",
    "print('\\n', text)"
   ]
  },
  {
   "cell_type": "code",
   "execution_count": null,
   "metadata": {},
   "outputs": [],
   "source": []
  },
  {
   "cell_type": "code",
   "execution_count": null,
   "metadata": {},
   "outputs": [],
   "source": []
  },
  {
   "cell_type": "markdown",
   "metadata": {},
   "source": [
    "### Unemployed long-term"
   ]
  },
  {
   "cell_type": "code",
   "execution_count": 10,
   "metadata": {
    "ExecuteTime": {
     "end_time": "2024-01-11T15:52:34.369640Z",
     "start_time": "2024-01-11T15:52:34.342144Z"
    }
   },
   "outputs": [
    {
     "name": "stdout",
     "output_type": "stream",
     "text": [
      "As of December 2023, BLS \\href{https://www.bls.gov/webapps/legacy/cpsatab12.htm}{reports} that 0.44 percent of the age 16 and older population have been unemployed for 27 weeks or longer, compared to 0.37 percent in December 2022 (see {\\color{blue}\\textbf{---}}). This measure of \\textbf{long-term unemployment} peaked at 2.96 percent of the population in April 2010, but had fallen to 0.42 percent in December 2019.\n",
      "\n",
      " In December 2023, 0.82 percent of those age 16 and older have been unemployed for at least 15 weeks (see {\\color{violet!90!black}\\textbf{---}}), following 0.82 percent in November and 0.75 percent in October.. One-year prior, in December 2022, 0.65 percent are unemployed for 15 weeks or more. \n"
     ]
    }
   ],
   "source": [
    "srs = ['LT', 'MT', 'POP']\n",
    "df = (pd.read_csv(data_dir / 'jobs_report_main.csv', parse_dates=['date'])\n",
    "        .set_index('date')).loc['1989':, srs]\n",
    "\n",
    "data = (df.divide(df['POP'], axis=0) * 100).drop(['POP'], axis=1)\n",
    "data.to_csv(data_dir / 'ltu.csv', index_label='date', float_format='%g')\n",
    "\n",
    "collt = 'blue'\n",
    "node = end_node(data['LT'], collt, date='m', digits=2, offset=0.35)\n",
    "write_txt(text_dir / 'ltu_node.txt', node)\n",
    "colmt = 'violet!90!black'\n",
    "node = end_node(data['MT'], colmt, digits=2, date='m', offset=0.35)\n",
    "write_txt(text_dir / 'ltu_node2.txt', node)\n",
    "\n",
    "dates = date_list(data)\n",
    "pydt = dtxt(data.index[-13])['mon1']\n",
    "mxdt = dtxt(data['LT'].idxmax())['mon1']\n",
    "vl1 = value_text(data[\"LT\"].iloc[-1], 'plain', digits=2)\n",
    "v1 = value_text(data[\"MT\"].iloc[-1], 'plain', digits=2)\n",
    "v2 = value_text(data[\"MT\"].iloc[-2], 'plain', digits=2)\n",
    "v3 = value_text(data[\"MT\"].iloc[-3], 'plain', digits=2)\n",
    "comptxt = (f'{v1} in {dates[1]} and {v2} in {dates[2]}.')\n",
    "if v2 == v3:\n",
    "    comptxt = (f'{v2} in both {dates[1]} and {dates[2]}')\n",
    "\n",
    "cllt = c_line(collt)\n",
    "clmt = c_line(colmt)\n",
    "recent_min = data.loc['2015':'2020-02-01', 'LT'].min()\n",
    "recent_min_dt = dtxt(data.loc['2015':'2020-02-01', 'LT'].idxmin())['mon1']\n",
    "url = 'https://www.bls.gov/webapps/legacy/cpsatab12.htm'\n",
    "text = (f'As of {dates[0]}, BLS \\href{{{url}}}{{reports}} that '+\n",
    "        f'{vl1} of the age 16 and older population have been '+\n",
    "         'unemployed for 27 weeks or longer, compared to '+\n",
    "        f'{data[\"LT\"].iloc[-13]:.2f} percent in {pydt} {cllt}. '+\n",
    "        'This measure of \\\\textbf{long-term unemployment} peaked '+\n",
    "        f'at {data[\"LT\"].max():.2f} percent of the population '+\n",
    "        f'in {mxdt}, but had fallen to {recent_min:.2f} percent '+\n",
    "        f'in {recent_min_dt}.\\n\\n In {dates[0]}, {v1} of those '+\n",
    "        'age 16 and older have been unemployed for at least 15 '+\n",
    "        f'weeks {clmt}, following {comptxt}. One-year prior, in '+\n",
    "        f'{pydt}, {data[\"MT\"].iloc[-13]:.2f} percent are unemployed '+\n",
    "        'for 15 weeks or more. ')\n",
    "write_txt(text_dir / 'ltu.txt', text)\n",
    "print(text)"
   ]
  },
  {
   "cell_type": "code",
   "execution_count": null,
   "metadata": {},
   "outputs": [],
   "source": []
  },
  {
   "cell_type": "code",
   "execution_count": null,
   "metadata": {},
   "outputs": [],
   "source": []
  },
  {
   "cell_type": "markdown",
   "metadata": {},
   "source": [
    "### Duration of Unemployment"
   ]
  },
  {
   "cell_type": "code",
   "execution_count": 11,
   "metadata": {
    "ExecuteTime": {
     "end_time": "2024-01-11T15:52:36.725570Z",
     "start_time": "2024-01-11T15:52:36.710348Z"
    }
   },
   "outputs": [
    {
     "name": "stdout",
     "output_type": "stream",
     "text": [
      "Among those who are unemployed in December 2023, the average (mean) \\textbf{duration of unemployment} is 22.3 weeks (see {\\color{blue!60!cyan}\\textbf{---}}), and the typical (median) duration of unemployment is 9.7 weeks (see {\\color{green!75!blue}\\textbf{---}}). Over the year prior to COVID-19, ending February 2020, the average duration of unemployment was 21.7 weeks and the typical duration was 9.2 weeks.\n"
     ]
    }
   ],
   "source": [
    "s = {'Median': 'green!75!blue', 'Mean': 'blue!60!cyan'}\n",
    "df = (pd.read_csv(data_dir / 'jobs_report_main.csv', \n",
    "                  parse_dates=['date'])\n",
    "        .set_index('date')).loc['1989':, s.keys()]\n",
    "df.to_csv(data_dir / 'unempdur.csv', index_label='date', \n",
    "          float_format='%g')\n",
    "ltdt = dtxt(df.index[-1])['mon1']\n",
    "lt = df.iloc[-1]\n",
    "\n",
    "adj = node_adj(df)\n",
    "smax = df.iloc[-1].idxmax()\n",
    "adj[smax] = adj[smax] + 0.35\n",
    "\n",
    "date = {series: 'm' if series == smax else None \n",
    "        for series in s.keys()}\n",
    "nodes  ='\\n'.join([end_node(df[series], color, \n",
    "                            date=date[series], \n",
    "                            size=1.1, offset=adj[series]) \n",
    "                   for series, color in s.items()])\n",
    "write_txt(text_dir / 'unempdur_nodes.txt', nodes) \n",
    "\n",
    "pc_yr = df.loc['2019-03-01':'2020-02-01'].mean()\n",
    "text = (f'Among those who are unemployed in {ltdt}, the average '+\n",
    "        f'(mean) \\\\textbf{{duration of unemployment}} is {lt.Mean:.1f} '+\n",
    "        f'weeks {c_line(s[\"Mean\"])}, and the typical (median) '+\n",
    "        f'duration of unemployment is {lt.Median:.1f} weeks '+\n",
    "        f'{c_line(s[\"Median\"])}. Over the year '+\n",
    "        'prior to COVID-19, ending February 2020, the '+\n",
    "        'average duration of unemployment was '+\n",
    "        f'{pc_yr.Mean:.1f} weeks and the typical '+\n",
    "        f'duration was {pc_yr.Median:.1f} weeks.')\n",
    "write_txt(text_dir / 'unempdur.txt', text)\n",
    "print(text)"
   ]
  },
  {
   "cell_type": "code",
   "execution_count": null,
   "metadata": {},
   "outputs": [],
   "source": []
  },
  {
   "cell_type": "code",
   "execution_count": null,
   "metadata": {},
   "outputs": [],
   "source": []
  },
  {
   "cell_type": "markdown",
   "metadata": {},
   "source": [
    "### Part-Time Workers"
   ]
  },
  {
   "cell_type": "code",
   "execution_count": 12,
   "metadata": {
    "ExecuteTime": {
     "end_time": "2024-01-11T15:52:38.592954Z",
     "start_time": "2024-01-11T15:52:38.574600Z"
    }
   },
   "outputs": [
    {
     "name": "stdout",
     "output_type": "stream",
     "text": [
      "Around 27 million people work part-time, defined as fewer than 35 hours per week, and the reasons for doing so vary. \n",
      "\n",
      "In December 2023, 4.2 million people worked part-time for economic reasons, equivalent to 2.5 percent of the labor force (see {\\color{red}\\textbf{---}}). In 2019, an average of 2.7 percent of the labor force worked part-time for economic reasons. In 2010, following the great recession, the rate was 5.8 percent.\n",
      "\n",
      "Voluntary part-time workers total 22.5 million in December 2023, or 13.4 percent of the labor force (see {\\color{orange!80!yellow}\\textbf{---}}). The category is 13.1 percent of the labor force in 2019, on average.\n"
     ]
    }
   ],
   "source": [
    "srs = ['PTECON', 'PTNONECON', 'LF']\n",
    "df = (pd.read_csv(data_dir / 'jobs_report_main.csv', \n",
    "                  index_col='date', parse_dates=True)\n",
    "        .loc['1989':, srs])\n",
    "df['TOTAL'] = df['PTECON'] + df['PTNONECON']\n",
    "# Total part-time for summary text\n",
    "text = (f'Around {df.TOTAL.iloc[-1] / 1000:.0f} million people '+\n",
    "        'work part-time, defined as fewer than 35 hours per week, '+\n",
    "        'and the reasons for doing so vary.')\n",
    "write_txt(text_dir / 'pt_tot.txt', text)\n",
    "print(text, '\\n')\n",
    "\n",
    "# Share of labor force\n",
    "data = (df.divide(df.LF, axis=0) * 100)\n",
    "data = data.loc['1994':, ['PTECON', 'PTNONECON', 'TOTAL']]\n",
    "data.to_csv(data_dir / 'parttime.csv', index_label='date')\n",
    "\n",
    "color = 'red'\n",
    "col2 = 'orange!80!yellow'\n",
    "node = end_node(data.PTECON, color)\n",
    "node2 = end_node(data.PTNONECON, col2, \n",
    "                 date='m', offset=-0.3)\n",
    "nodes = node + '\\n' + node2\n",
    "write_txt(text_dir / 'pt_nodes.txt', nodes)\n",
    "\n",
    "ltdt = dtxt(df.index[-1])['mon1']\n",
    "lttot = df.PTECON.iloc[-1] / 1_000\n",
    "ltvpt = df.PTNONECON.iloc[-1] / 1_000\n",
    "ltsh = data.PTECON.iloc[-1]\n",
    "val19 = data.loc['2019', 'PTECON'].mean()\n",
    "val10 = data.loc['2010', 'PTECON'].mean()\n",
    "ltvsh = value_text(data.PTNONECON.iloc[-1], 'plain')\n",
    "vsh19 = value_text(data.loc['2019', 'PTNONECON'].mean(), 'plain')\n",
    "also = 'also ' if ltvsh == vsh19 else ''\n",
    "\n",
    "text = (f'In {ltdt}, {lttot:.1f} million people worked part-time '+\n",
    "        f'for economic reasons, equivalent to {ltsh:.1f} percent '+\n",
    "        f'of the labor force {c_line(color)}. In 2019, an average '+\n",
    "        f'of {val19:.1f} percent of the labor force worked part-time '+\n",
    "        'for economic reasons. In 2010, following the great '+\n",
    "        f'recession, the rate was {val10:.1f} percent.\\n\\nVoluntary '+\n",
    "        f'part-time workers total {ltvpt:.1f} million in {ltdt}, or '+\n",
    "        f'{ltvsh} of the labor force {c_line(col2)}. The '+\n",
    "        f'category is {also}{vsh19} of the labor force in '+\n",
    "        '2019, on average.')\n",
    "write_txt(text_dir / 'parttime.txt', text)\n",
    "print(text)"
   ]
  },
  {
   "cell_type": "code",
   "execution_count": null,
   "metadata": {},
   "outputs": [],
   "source": []
  },
  {
   "cell_type": "code",
   "execution_count": null,
   "metadata": {},
   "outputs": [],
   "source": []
  },
  {
   "cell_type": "markdown",
   "metadata": {},
   "source": [
    "### Multiple Jobholders"
   ]
  },
  {
   "cell_type": "code",
   "execution_count": 13,
   "metadata": {
    "ExecuteTime": {
     "end_time": "2024-01-11T15:52:40.738940Z",
     "start_time": "2024-01-11T15:52:40.726149Z"
    }
   },
   "outputs": [
    {
     "name": "stdout",
     "output_type": "stream",
     "text": [
      "In December 2023, a seasonally-adjusted total of 8.6 million people \\textbf{worked more than one job} during the survey reference week, equivalent to 5.3 percent of workers. Over the three months ending December 2023, an average of 5.2 percent of workers were multiple jobholders (see {\\color{blue!50!violet!80!black}\\textbf{---}}). In 2019, an average of 5.1 percent of workers had more than one job during the survey reference week. \n"
     ]
    }
   ],
   "source": [
    "df = (pd.read_csv(data_dir / 'jobs_report_main2.csv', \n",
    "                  index_col='date', parse_dates=True)\n",
    "        .loc['1989':, ['MJHsa', 'EMPsa']])\n",
    "data = ((df.MJHsa / df.EMPsa) * 100).dropna().rename('MJH')\n",
    "d3m = data.rolling(3).mean()\n",
    "d3m.to_csv(data_dir / 'mjh.csv', index_label='date')\n",
    "color = 'blue!50!violet!80!black'\n",
    "node = end_node(d3m, color, size=1.2, date='m')\n",
    "write_txt(text_dir / 'mjh_node.txt', node)\n",
    "\n",
    "ltdt = dtxt(df.index[-1])['mon1']\n",
    "totval = df.MJHsa.iloc[-1] / 1_000\n",
    "ltval = value_text(data.iloc[-1], 'plain')\n",
    "l3val = f'{d3m.iloc[-1]:.1f}'\n",
    "l19val = data.loc['2019'].mean()\n",
    "comp_date = '2020-02-01'\n",
    "same = 'Over' # Less awkward text when latest and 3ma match\n",
    "if ltval == l3val:\n",
    "    same = 'Likewise, over'\n",
    "\n",
    "text = (f'In {ltdt}, a seasonally-adjusted total of {totval:.1f} '+\n",
    "        'million people \\\\textbf{worked '+\n",
    "        'more than one job} during the survey reference week, '+\n",
    "        f'equivalent to {ltval} of workers. '+\n",
    "        f'{same} the three months ending {ltdt}, an average of '+\n",
    "        f'{l3val} percent of workers were multiple '\n",
    "        f'jobholders {c_line(color)}. In 2019, an average of '+\n",
    "        f'{l19val:.1f} percent of workers had more than one job '+\n",
    "        'during the survey reference week. ')\n",
    "write_txt(text_dir / 'mjh.txt', text)\n",
    "print(text)"
   ]
  },
  {
   "cell_type": "code",
   "execution_count": null,
   "metadata": {},
   "outputs": [],
   "source": []
  },
  {
   "cell_type": "code",
   "execution_count": null,
   "metadata": {},
   "outputs": [],
   "source": []
  },
  {
   "cell_type": "markdown",
   "metadata": {},
   "source": [
    "### Self-Employed"
   ]
  },
  {
   "cell_type": "code",
   "execution_count": 14,
   "metadata": {
    "ExecuteTime": {
     "end_time": "2024-01-11T15:52:42.801770Z",
     "start_time": "2024-01-11T15:52:42.780069Z"
    }
   },
   "outputs": [],
   "source": [
    "df = (pd.read_csv(data_dir / 'jobs_report_main2.csv', \n",
    "                  index_col='date', parse_dates=True)\n",
    "        .loc['1988':, ['seinc', 'seuninc', 'LFnsa']])\n",
    "\n",
    "df2 = (pd.read_csv(data_dir / 'jobs_report_main.csv', \n",
    "                  index_col='date', parse_dates=True)\n",
    "        .loc['1988':, ['LF']])\n",
    "\n",
    "df3 = pd.read_csv(data_dir / 'se_inc_hist.csv', index_col='date', \n",
    "                  parse_dates=True)\n",
    "\n",
    "uninc = (df['seuninc'].divide(df2['LF'], axis=0) * 100).rename('uninc')\n",
    "inc = (df['seinc'].divide(df['LFnsa'], axis=0) * 100).rename('inc')\n",
    "INC = (df3.INC.divide(df['LFnsa'], axis=0) / 10).rename('INC')\n",
    "res = uninc.to_frame().join(inc).join(INC).loc['1989':]\n",
    "res.to_csv(data_dir / 'selfemp.csv', index_label='date')\n",
    "dft = res[['inc', 'uninc']]\n",
    "\n",
    "adj = node_adj(dft)\n",
    "smax = dft.iloc[-1].idxmax()\n",
    "adj[smax] = adj[smax] + 0.35\n",
    "\n",
    "colors = {'inc': 'green!80!black', \n",
    "          'uninc': 'purple'}\n",
    "date = {series: 'm' if series == smax else None \n",
    "        for series in colors.keys()}\n",
    "nodes  ='\\n'.join([end_node(dft[series], color, \n",
    "                            date=date[series], \n",
    "                            size=1.1, offset=adj[series]) \n",
    "                   for series, color in colors.items()])\n",
    "write_txt(text_dir / 'selfemp_nodes.txt', nodes)  "
   ]
  },
  {
   "cell_type": "code",
   "execution_count": 15,
   "metadata": {
    "ExecuteTime": {
     "end_time": "2024-01-11T15:52:43.683880Z",
     "start_time": "2024-01-11T15:52:43.674351Z"
    },
    "code_folding": []
   },
   "outputs": [
    {
     "name": "stdout",
     "output_type": "stream",
     "text": [
      "As of December 2023, there are 10.0 million \\textbf{unincorporated self-employed}, equivalent to 6.0 percent of the labor force (see {\\color{purple}\\textbf{---}}). Over the past year, the unincorporated self-employed made up an average of 5.8 percent of the labor force, compared to an average of 5.8 percent in 2019. From 1989 to 1994, the category made up an average of 8.0 percent of the labor force.  \n",
      "\n",
      "The \\textbf{incorporated self-employed} total 6.6 million in December 2023, equivalent to 4.0 percent of the labor force (see {\\color{green!80!black}\\textbf{---}}). In 2019, the category made up 3.8 percent of the labor force.\n",
      "\n",
      "Incorporated self-employed are not reported by BLS prior to 2000, but can be calculated from the CPS, and make up a average of 2.8 percent of the labor force from 1989 to 1994. \n"
     ]
    }
   ],
   "source": [
    "ltdt = dtxt(res.index[-1])['mon1']\n",
    "seutot = df['seuninc'].iloc[-1] / 1_000\n",
    "seush = res['uninc'].iloc[-1]\n",
    "seu1yr = res['uninc'].iloc[-12:].mean()\n",
    "seu19 = res.loc['2019', 'uninc'].mean()\n",
    "seu89 = res.loc['1989':'1994', 'uninc'].mean()\n",
    "\n",
    "text = (f'As of {ltdt}, there are {seutot:.1f} million \\\\textbf{{unincorporated '+\n",
    "        f'self-employed}}, equivalent to {seush:.1f} percent of the labor '+\n",
    "        f'force {c_line(colors[\"uninc\"])}. Over the past year, the '+\n",
    "        f'unincorporated self-employed made up an average of {seu1yr:.1f} '+\n",
    "        f'percent of the labor force, compared to an average of {seu19:.1f} '+\n",
    "        'percent in 2019. From 1989 to 1994, the category made up an '+\n",
    "        f'average of {seu89:.1f} percent of the labor force. ')\n",
    "write_txt(text_dir / 'selfemp1.txt', text)\n",
    "print(text, '\\n')\n",
    "\n",
    "seitot = df['seinc'].iloc[-1] / 1_000\n",
    "seish = res['inc'].iloc[-1]\n",
    "sei19 = res.loc['2019', 'inc'].mean()\n",
    "sei89 = res.loc['1989':'1994', 'INC'].mean()\n",
    "\n",
    "text = (f'The \\\\textbf{{incorporated self-employed}} total {seitot:.1f} million '+\n",
    "        f'in {ltdt}, equivalent to {seish:.1f} percent of the labor force '+\n",
    "        f'{c_line(colors[\"inc\"])}. In 2019, the category made up {sei19:.1f} percent '+\n",
    "        'of the labor force.\\n\\nIncorporated self-employed are not reported by '+\n",
    "        'BLS prior to 2000, but can be calculated from the CPS, and make up a '+\n",
    "        f'average of {sei89:.1f} percent of the labor force from 1989 to 1994. ')\n",
    "print(text)\n",
    "write_txt(text_dir / 'selfemp2.txt', text)"
   ]
  },
  {
   "cell_type": "code",
   "execution_count": null,
   "metadata": {},
   "outputs": [],
   "source": []
  },
  {
   "cell_type": "code",
   "execution_count": null,
   "metadata": {},
   "outputs": [],
   "source": []
  },
  {
   "cell_type": "markdown",
   "metadata": {},
   "source": [
    "### Flows, Newly Employed, Not looking for work previously"
   ]
  },
  {
   "cell_type": "code",
   "execution_count": 16,
   "metadata": {
    "ExecuteTime": {
     "end_time": "2024-01-11T15:52:46.025388Z",
     "start_time": "2024-01-11T15:52:46.008391Z"
    }
   },
   "outputs": [
    {
     "name": "stdout",
     "output_type": "stream",
     "text": [
      "In December 2023, 5.6 million people were newly employed (on a gross basis). Of these, 69.3 percent were not looking for work in the prior month (see {\\color{lime!80!green}\\textbf{---}}). Over the past three months, an average of 70.9 percent of the newly employed were not looking for work the month prior (see {\\color{green!60!teal!80!black}\\textbf{---}}).\n",
      "\n",
      "When unemployment is low, the newly employed are more likely to come from outside of the labor force. Four years ago, in December 2019, 72.6 percent of the newly employed had not looked for work the previous month.\n"
     ]
    }
   ],
   "source": [
    "df = (pd.read_csv(data_dir / 'jobs_report_main.csv', \n",
    "                  parse_dates=['date'])\n",
    "        .set_index('date')).loc['1990':, ['NILF', 'UNEMP']]\n",
    "df['TOTAL'] = df.astype('float').sum(axis=1)\n",
    "sh = (df['NILF'] / df['TOTAL']).rename('total') * 100\n",
    "\n",
    "sh.to_csv(data_dir / 'lf_flow.csv', index_label='date', \n",
    "          header=True, float_format='%g')\n",
    "ma = sh.resample('QS').mean().rename('quarterly')\n",
    "ma.to_csv(data_dir / 'lf_flow_q.csv', index_label='date', \n",
    "          header=True, float_format='%g')\n",
    "\n",
    "col = 'green!60!teal!80!black'\n",
    "col2 = 'lime!80!green'\n",
    "node = end_node(ma, col, date='q', size=1.2)\n",
    "write_txt(text_dir / 'lf_flow_node.txt', node)\n",
    "\n",
    "totval = df['TOTAL'].iloc[-1] / 1000\n",
    "shval = sh.iloc[-1]\n",
    "maval = ma.iloc[-1] \n",
    "sh4y = sh.iloc[-49]\n",
    "\n",
    "ltdt = dtxt(sh.index[-1])['mon1']\n",
    "prdt = dtxt(sh.index[-49])['mon1']\n",
    "\n",
    "text = (f'In {ltdt}, {totval:.1f} million people were newly '+\n",
    "        f'employed (on a gross basis). Of these, {shval:.1f} '+\n",
    "        f'percent were not looking for work in the prior month '+\n",
    "        f'{c_line(col2)}. Over the past three months, an average '+\n",
    "        f'of {maval:.1f} percent of the newly employed were not '+\n",
    "        f'looking for work the month prior {c_line(col)}.\\n\\nWhen '+\n",
    "        'unemployment is low, the newly employed are more '+\n",
    "        'likely to come from outside of the labor force. Four '+\n",
    "        f'years ago, in {prdt}, {sh4y:.1f} percent of the newly '+\n",
    "        'employed had not looked for work the previous month.')\n",
    "write_txt(text_dir / 'lf_flow.txt', text)\n",
    "print(text)"
   ]
  },
  {
   "cell_type": "code",
   "execution_count": null,
   "metadata": {},
   "outputs": [],
   "source": []
  },
  {
   "cell_type": "code",
   "execution_count": null,
   "metadata": {},
   "outputs": [],
   "source": []
  }
 ],
 "metadata": {
  "kernelspec": {
   "display_name": "Python 3 (ipykernel)",
   "language": "python",
   "name": "python3"
  },
  "language_info": {
   "codemirror_mode": {
    "name": "ipython",
    "version": 3
   },
   "file_extension": ".py",
   "mimetype": "text/x-python",
   "name": "python",
   "nbconvert_exporter": "python",
   "pygments_lexer": "ipython3",
   "version": "3.8.13"
  }
 },
 "nbformat": 4,
 "nbformat_minor": 2
}
