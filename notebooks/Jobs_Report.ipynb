{
 "cells": [
  {
   "cell_type": "markdown",
   "metadata": {},
   "source": [
    "# Generate Jobs Report Data for Chartbook\n",
    "\n",
    "Brian Dew\n",
    "\n",
    "@bd_econ"
   ]
  },
  {
   "cell_type": "code",
   "execution_count": 8,
   "metadata": {
    "ExecuteTime": {
     "end_time": "2020-09-04T13:03:56.742185Z",
     "start_time": "2020-09-04T13:03:56.740150Z"
    }
   },
   "outputs": [],
   "source": [
    "import sys\n",
    "sys.path.append('../src')\n",
    "\n",
    "import uschartbook.config\n",
    "\n",
    "from uschartbook.config import *\n",
    "from uschartbook.utils import *"
   ]
  },
  {
   "cell_type": "markdown",
   "metadata": {},
   "source": [
    "### API Request"
   ]
  },
  {
   "cell_type": "code",
   "execution_count": 9,
   "metadata": {
    "ExecuteTime": {
     "end_time": "2020-09-04T13:04:06.711133Z",
     "start_time": "2020-09-04T13:03:59.499617Z"
    }
   },
   "outputs": [
    {
     "name": "stdout",
     "output_type": "stream",
     "text": [
      "Post Request Status: REQUEST_SUCCEEDED\n"
     ]
    }
   ],
   "source": [
    "# Series stored as a dictionary\n",
    "series = {'LNS14000003': 'White', \n",
    "          'LNS14000006': 'Black', \n",
    "          'LNS14000009': 'Hispanic',\n",
    "          'LNS14032183': 'Asian',\n",
    "          'LNS14000000': 'Total',\n",
    "          'LNS13327709': 'U6',\n",
    "          'LNS13000000': 'Level',\n",
    "          'LNU03008636': 'LT',\n",
    "          'LNU03008516': 'MT',\n",
    "          'LNU00000000': 'POP',\n",
    "          'LNS12300060': 'PA_EPOP',\n",
    "          'LNS13023621': 'Job Loser',\n",
    "          'LNS13023653': 'Temporary Layoff',\n",
    "          'LNS13026638': 'Permanent Separation',\n",
    "          'LNS13023705': 'Job Leaver', \n",
    "          'LNS13023557': 'Re-entrant',\n",
    "          'LNS13023569': 'New entrant',\n",
    "          'LNS13008276': 'Median',\n",
    "          'LNS13008275': 'Mean',\n",
    "          'LNS17200000': 'NILF',\n",
    "          'LNS17100000': 'UNEMP',\n",
    "          'LNS11000000': 'LF',\n",
    "          'LNS12032194': 'PTECON'}\n",
    "\n",
    "# Start year and end year\n",
    "dates = (1988, 2020)\n",
    "df = bls_api(series, dates, bls_key)\n",
    "df.to_csv(data_dir / 'jobs_report_main.csv', index_label='date')"
   ]
  },
  {
   "cell_type": "code",
   "execution_count": 10,
   "metadata": {
    "ExecuteTime": {
     "end_time": "2020-09-04T13:04:15.496843Z",
     "start_time": "2020-09-04T13:04:09.807688Z"
    }
   },
   "outputs": [
    {
     "name": "stdout",
     "output_type": "stream",
     "text": [
      "Post Request Status: REQUEST_SUCCEEDED\n"
     ]
    }
   ],
   "source": [
    "# Series stored as a dictionary\n",
    "series = {'CES0500000003': 'ALL', \n",
    "          'CES0500000008': 'PNS',\n",
    "          'LNS12005054': 'avghrstot',\n",
    "          'LNU02033699': 'avghrsserv',\n",
    "          'CES0500000002': 'ceshrstot',\n",
    "          'CES0600000002': 'ceshrsgoods',\n",
    "          'CES0800000002': 'ceshrsserv',\n",
    "          'CES0500000007': 'ceshrspns',\n",
    "          'CES9000000001': 'govjobs',\n",
    "          'LNU02033232': 'avghrsptecon',\n",
    "          'LEU0252911200': 'p10uwe',\n",
    "          'LEU0252911300': 'p25uwe',\n",
    "          'LEU0252881500': 'p50uwe',\n",
    "          'LEU0252911400': 'p75uwe',\n",
    "          'LEU0252911500': 'p90uwe',\n",
    "          'LEU0254466800': 'nuwe',\n",
    "          'LNU02026619': 'MJH',\n",
    "          'LNU02000000': 'EMP'}\n",
    "\n",
    "# Start year and end year\n",
    "dates = (1988, 2020)\n",
    "df = bls_api(series, dates, bls_key)\n",
    "df.to_csv(data_dir / 'jobs_report_main2.csv', index_label='date')"
   ]
  },
  {
   "cell_type": "markdown",
   "metadata": {},
   "source": [
    "### Unemployment rate"
   ]
  },
  {
   "cell_type": "code",
   "execution_count": 11,
   "metadata": {
    "ExecuteTime": {
     "end_time": "2020-09-04T13:04:21.563432Z",
     "start_time": "2020-09-04T13:04:21.529692Z"
    }
   },
   "outputs": [
    {
     "name": "stdout",
     "output_type": "stream",
     "text": [
      "BLS \\href{https://www.bls.gov/news.release/empsit.nr0.htm}{reports} 13.6 million unemployed persons in August 2020, and an unemployment rate of 8.4 percent (see {\\color{blue!50!cyan}\\textbf{---}}), substantially below the July 2020 rate of 10.2 percent, but far above the August 2019 rate of 3.7 percent. \n",
      "\n",
      "In August 2020, the labor under-utilization rate is 14.2 percent (see {\\color{blue}\\textbf{---}}). \n",
      "\n",
      "Unemployment is much more common for disadvantaged groups, with the black or African American unemployment rate typically double the white unemployment rate. A very tight labor market may have the effect of reducing racial discrimination in hiring. However, disadvantaged groups are more likely to lose jobs in a downturn. As a result, the full-employment portion of the business cycle is quite short for many people. Since February 2020, the black unemployment rate has increased by 7.2 percentage points to 13.0 percent (see {\\color{green!50!teal!60!black}\\textbf{---}}).\n"
     ]
    }
   ],
   "source": [
    "df = (pd.read_csv(data_dir / 'jobs_report_main.csv', parse_dates=['date'])\n",
    "        .set_index('date'))\n",
    "srs = ['Total', 'U6']\n",
    "df.loc['1989':, srs].to_csv(data_dir / 'unemp2.csv', index_label='date')\n",
    "\n",
    "srs = ['White', 'Black', 'Hispanic']\n",
    "df.loc['1989':, srs].to_csv(data_dir / 'unemp.csv', index_label='date')\n",
    "\n",
    "s = series_info(df['Level'])\n",
    "s2 = series_info(df['Total'])\n",
    "s3 = series_info(df['Black'])\n",
    "s4 = series_info(df['U6'])\n",
    "compare = compare_text(df['Total'].iloc[-1], df['Total'].iloc[-2], [0.15, 1.5, 3.0])\n",
    "compare2 = compare_text(df['Total'].iloc[-1], df['Total'].iloc[-13], [0.15, 1.5, 3.0])\n",
    "pryrdt = dtxt(df.index[-13])['mon1']\n",
    "\n",
    "if compare[-5:] != compare2[-5:]:\n",
    "    conj = f', but {compare2} the {pryrdt} rate of {df[\"Total\"].iloc[-13]:.1f} percent'\n",
    "elif compare != compare2:\n",
    "    conj = f', and {compare2} the {pryrdt} rate of {df[\"Total\"].iloc[-13]:.1f} percent'\n",
    "else:\n",
    "    conj = ''\n",
    "    \n",
    "text = ('BLS \\href{https://www.bls.gov/news.release/empsit.nr0.htm}{reports} '+\n",
    "        f'{s[\"val_latest\"]/1000:.1f} million '+\n",
    "        f'unemployed persons in {s[\"date_latest_ft\"]}, '+\n",
    "        f'and an unemployment rate of {s2[\"val_latest\"]} percent '+\n",
    "        '(see {\\color{blue!50!cyan}\\\\textbf{---}}), '+\n",
    "        f'{compare} the {s[\"date_prev_ft\"]} rate of {s2[\"val_prev\"]} percent'+\n",
    "        f'{conj}.')\n",
    "write_txt(text_dir / 'unemp1.txt', text)\n",
    "print(text, '\\n')\n",
    "\n",
    "mval = f', {s4[\"last_matched\"]}.' if s4['days_since_match'] > 1000 else '.'\n",
    "text = (f'In {s[\"date_latest_ft\"]}, the labor under-utilization rate is '+\n",
    "        f'{s4[\"val_latest\"]} percent '+\n",
    "        '(see {\\color{blue}\\\\textbf{---}})'+\n",
    "        f'{mval}')\n",
    "write_txt(text_dir / 'unemp2.txt', text)\n",
    "print(text, '\\n')\n",
    "\n",
    "write_txt(text_dir / 'u6_node.txt', end_node(df['U6'], 'blue'))\n",
    "write_txt(text_dir / 'u3_node.txt', end_node(df['Total'], 'blue!50!cyan'))\n",
    "\n",
    "black_ch = df['Black'].iloc[-1] - df.loc['2020-02-01', 'Black']\n",
    "text = ('Unemployment is much more common for disadvantaged groups, '+\n",
    "        'with the black or African American unemployment rate typically double '+\n",
    "        'the white unemployment rate. '+\n",
    "        'A very tight labor market may have the effect of reducing racial '+\n",
    "        'discrimination in hiring. However, disadvantaged groups are more likely to '+\n",
    "        'lose jobs in a downturn. As a result, the full-employment portion '+\n",
    "        'of the business cycle is quite short for many people. '\n",
    "        'Since February 2020, the black unemployment rate '+\n",
    "        f'has increased by {black_ch:.1f} percentage '+\n",
    "        f'points to {s3[\"val_latest\"]:.1f} percent '+\n",
    "        '(see {\\color{green!50!teal!60!black}\\\\textbf{---}}).')\n",
    "write_txt(text_dir / 'unemp3.txt', text)\n",
    "print(text)"
   ]
  },
  {
   "cell_type": "code",
   "execution_count": 12,
   "metadata": {
    "ExecuteTime": {
     "end_time": "2020-09-04T13:04:30.857623Z",
     "start_time": "2020-09-04T13:04:30.786115Z"
    }
   },
   "outputs": [
    {
     "data": {
      "text/html": [
       "<div>\n",
       "<style scoped>\n",
       "    .dataframe tbody tr th:only-of-type {\n",
       "        vertical-align: middle;\n",
       "    }\n",
       "\n",
       "    .dataframe tbody tr th {\n",
       "        vertical-align: top;\n",
       "    }\n",
       "\n",
       "    .dataframe thead th {\n",
       "        text-align: right;\n",
       "    }\n",
       "</style>\n",
       "<table border=\"1\" class=\"dataframe\">\n",
       "  <thead>\n",
       "    <tr style=\"text-align: right;\">\n",
       "      <th></th>\n",
       "      <th>Aug `20</th>\n",
       "      <th>Jul `20</th>\n",
       "      <th>Jun `20</th>\n",
       "      <th>May `20</th>\n",
       "      <th>Apr `20</th>\n",
       "      <th>Mar `20</th>\n",
       "      <th>GFC peak</th>\n",
       "      <th>Date</th>\n",
       "    </tr>\n",
       "  </thead>\n",
       "  <tbody>\n",
       "    <tr>\n",
       "      <th>Under-utilization Rate (U6)</th>\n",
       "      <td>14.2</td>\n",
       "      <td>16.5</td>\n",
       "      <td>18</td>\n",
       "      <td>21.2</td>\n",
       "      <td>22.8</td>\n",
       "      <td>8.7</td>\n",
       "      <td>17.2</td>\n",
       "      <td>Dec `09</td>\n",
       "    </tr>\n",
       "    <tr>\n",
       "      <th>Unemployment Rate (U3)</th>\n",
       "      <td>8.4</td>\n",
       "      <td>10.2</td>\n",
       "      <td>11.1</td>\n",
       "      <td>13.3</td>\n",
       "      <td>14.7</td>\n",
       "      <td>4.4</td>\n",
       "      <td>10</td>\n",
       "      <td>Oct `09</td>\n",
       "    </tr>\n",
       "    <tr>\n",
       "      <th>\\textit{by race/ethnicity:}</th>\n",
       "      <td></td>\n",
       "      <td></td>\n",
       "      <td></td>\n",
       "      <td></td>\n",
       "      <td></td>\n",
       "      <td></td>\n",
       "      <td></td>\n",
       "      <td></td>\n",
       "    </tr>\n",
       "    <tr>\n",
       "      <th>\\hspace{2mm} White</th>\n",
       "      <td>7.3</td>\n",
       "      <td>9.2</td>\n",
       "      <td>10.1</td>\n",
       "      <td>12.4</td>\n",
       "      <td>14.2</td>\n",
       "      <td>4</td>\n",
       "      <td>9.2</td>\n",
       "      <td>Oct `09</td>\n",
       "    </tr>\n",
       "    <tr>\n",
       "      <th>\\hspace{2mm} Black</th>\n",
       "      <td>13</td>\n",
       "      <td>14.6</td>\n",
       "      <td>15.4</td>\n",
       "      <td>16.8</td>\n",
       "      <td>16.7</td>\n",
       "      <td>6.7</td>\n",
       "      <td>16.8</td>\n",
       "      <td>Mar `10</td>\n",
       "    </tr>\n",
       "    <tr>\n",
       "      <th>\\hspace{2mm} Hispanic</th>\n",
       "      <td>10.5</td>\n",
       "      <td>12.9</td>\n",
       "      <td>14.5</td>\n",
       "      <td>17.6</td>\n",
       "      <td>18.9</td>\n",
       "      <td>6</td>\n",
       "      <td>13</td>\n",
       "      <td>Aug `09</td>\n",
       "    </tr>\n",
       "    <tr>\n",
       "      <th>\\hspace{2mm} Asian</th>\n",
       "      <td>10.7</td>\n",
       "      <td>12</td>\n",
       "      <td>13.8</td>\n",
       "      <td>15</td>\n",
       "      <td>14.5</td>\n",
       "      <td>4.1</td>\n",
       "      <td>8.4</td>\n",
       "      <td>Dec `09</td>\n",
       "    </tr>\n",
       "  </tbody>\n",
       "</table>\n",
       "</div>"
      ],
      "text/plain": [
       "                            Aug `20 Jul `20 Jun `20 May `20 Apr `20 Mar `20  \\\n",
       "Under-utilization Rate (U6)    14.2    16.5      18    21.2    22.8     8.7   \n",
       "Unemployment Rate (U3)          8.4    10.2    11.1    13.3    14.7     4.4   \n",
       "\\textit{by race/ethnicity:}                                                   \n",
       "\\hspace{2mm} White              7.3     9.2    10.1    12.4    14.2       4   \n",
       "\\hspace{2mm} Black               13    14.6    15.4    16.8    16.7     6.7   \n",
       "\\hspace{2mm} Hispanic          10.5    12.9    14.5    17.6    18.9       6   \n",
       "\\hspace{2mm} Asian             10.7      12    13.8      15    14.5     4.1   \n",
       "\n",
       "                            GFC peak     Date  \n",
       "Under-utilization Rate (U6)     17.2  Dec `09  \n",
       "Unemployment Rate (U3)            10  Oct `09  \n",
       "\\textit{by race/ethnicity:}                    \n",
       "\\hspace{2mm} White               9.2  Oct `09  \n",
       "\\hspace{2mm} Black              16.8  Mar `10  \n",
       "\\hspace{2mm} Hispanic             13  Aug `09  \n",
       "\\hspace{2mm} Asian               8.4  Dec `09  "
      ]
     },
     "execution_count": 12,
     "metadata": {},
     "output_type": "execute_result"
    }
   ],
   "source": [
    "srs = ['U6', 'Total', 'White', 'Black', 'Hispanic', 'Asian']\n",
    "untab = df[srs].iloc[-6:].iloc[::-1].T\n",
    "untab.columns = untab.columns.strftime('%b `%y')\n",
    "untab['GFC peak'] = df.loc['2005':'2013', srs].max()\n",
    "untab['Date'] = df.loc['2005':'2013', srs].idxmax().dt.strftime('%b `%y')\n",
    "d = {'Total': 'Unemployment Rate (U3)',\n",
    "     'U6': 'Under-utilization Rate (U6)',\n",
    "     'White': '\\hspace{2mm} White',\n",
    "     'Black': '\\hspace{2mm} Black',\n",
    "     'Hispanic': '\\hspace{2mm} Hispanic',\n",
    "     'Asian': '\\hspace{2mm} Asian'}\n",
    "untab.index = untab.index.map(d)\n",
    "\n",
    "untab.loc['\\\\textit{by race/ethnicity:}', untab.columns] = [''] * 8\n",
    "untab = untab.iloc[0:2].append(untab.iloc[-1]).append(untab.iloc[2:6])\n",
    "untab.columns.name = None\n",
    "untab.to_csv(data_dir / 'unemp1.tex', sep='&', line_terminator='\\\\\\ ', quotechar=' ')\n",
    "\n",
    "untab"
   ]
  },
  {
   "cell_type": "code",
   "execution_count": null,
   "metadata": {},
   "outputs": [],
   "source": []
  },
  {
   "cell_type": "code",
   "execution_count": null,
   "metadata": {},
   "outputs": [],
   "source": []
  },
  {
   "cell_type": "markdown",
   "metadata": {},
   "source": [
    "### Labor Force Participation Rate"
   ]
  },
  {
   "cell_type": "code",
   "execution_count": 13,
   "metadata": {
    "ExecuteTime": {
     "end_time": "2020-09-04T13:04:36.013598Z",
     "start_time": "2020-09-04T13:04:35.986182Z"
    }
   },
   "outputs": [
    {
     "name": "stdout",
     "output_type": "stream",
     "text": [
      "In August 2020, 61.7 percent of the age 16+ population was in the labor force, compared to 61.4 percent in July and 61.5 percent in June. In February 2020, when US confirmed cases of COVID-19 were still low, the labor force participation rate was 63.4 percent. \n"
     ]
    }
   ],
   "source": [
    "df = (pd.read_csv(data_dir / 'jobs_report_main.csv', parse_dates=['date'])\n",
    "        .set_index('date'))\n",
    "srs = ['LF', 'POP']\n",
    "rate = (df['LF'] / df['POP']) * 100\n",
    "rate.name = 'lfpr'\n",
    "rate.loc['1989':].to_csv(data_dir / 'lfpr.csv', index_label='date')\n",
    "\n",
    "write_txt(text_dir / 'lfpr_node.txt', end_node(rate, 'red'))\n",
    "\n",
    "ltdate = dtxt(rate.index[-1])['mon1']\n",
    "ltval = rate.iloc[-1]\n",
    "prval = rate.iloc[-2]\n",
    "if dtxt(rate.index[-1])['year'] == dtxt(rate.index[-2])['year']:\n",
    "    prmonth = dtxt(rate.index[-2])['mon3']\n",
    "else:\n",
    "    prmonth = dtxt(rate.index[-2])['mon1']\n",
    "prval2 = rate.iloc[-3]\n",
    "if dtxt(rate.index[-1])['year'] == dtxt(rate.index[-3])['year']:\n",
    "    prmonth2 = dtxt(rate.index[-3])['mon3']\n",
    "else:\n",
    "    prmonth2 = dtxt(rate.index[-3])['mon1']\n",
    "feb20val = rate.loc['2020-02-01']\n",
    "\n",
    "\n",
    "text = (f'In {ltdate}, {ltval:.1f} percent of the age 16+ population '+\n",
    "        f'was in the labor force, compared to {prval:.1f} percent in {prmonth} '+\n",
    "        f'and {prval2:.1f} percent in {prmonth2}. In February 2020, when US '+\n",
    "        'confirmed cases of COVID-19 were still low, the labor force participation '+\n",
    "        f'rate was {feb20val:.1f} percent. ')\n",
    "print(text)\n",
    "write_txt(text_dir / 'lfpr_text.txt', text)"
   ]
  },
  {
   "cell_type": "code",
   "execution_count": null,
   "metadata": {},
   "outputs": [],
   "source": []
  },
  {
   "cell_type": "code",
   "execution_count": null,
   "metadata": {},
   "outputs": [],
   "source": []
  },
  {
   "cell_type": "markdown",
   "metadata": {},
   "source": [
    "### Employment rate"
   ]
  },
  {
   "cell_type": "code",
   "execution_count": 14,
   "metadata": {
    "ExecuteTime": {
     "end_time": "2020-09-04T13:04:41.132950Z",
     "start_time": "2020-09-04T13:04:41.116531Z"
    }
   },
   "outputs": [
    {
     "name": "stdout",
     "output_type": "stream",
     "text": [
      "In August 2020, 75.3 percent of 25-54 years olds were employed, compared to 73.8 percent in July 2020. Over the past year, the age 25-54 employment rate has fallen by 4.8 percentage points. The current age 25-54 employment rate is 6.0 percentage points (equivalent to 7.5 million workers) below the average during 1998--99, a period with a particularly tight labor market. \n"
     ]
    }
   ],
   "source": [
    "df = (pd.read_csv(data_dir / 'jobs_report_main.csv', parse_dates=['date'])\n",
    "        .set_index('date')).loc['1989':, 'PA_EPOP']\n",
    "\n",
    "df.to_csv(data_dir / 'epop.csv', index_label='date')\n",
    "\n",
    "write_txt(text_dir / 'epop_node.txt', end_node(df, 'blue!90!cyan', date=True))\n",
    "\n",
    "#node = f'{dtxt(df.index[-1])[\"mon5\"]}:\\\\\\{df.iloc[-1]:.1f}\\%'\n",
    "#write_txt(text_dir / 'epop.txt', node)\n",
    "\n",
    "d = series_info(df)\n",
    "\n",
    "text = f'In {d[\"date_latest_ft\"]}, {d[\"val_latest\"]} percent'\n",
    "\n",
    "if (d['days_since_match'] > 725) | (d['days_since_match'] == 0):\n",
    "    text2 = d['last_matched']\n",
    "else:\n",
    "    text2 = f'compared to {d[\"val_prev\"]} percent in {d[\"date_prev_ft\"]}'\n",
    "    \n",
    "if d['change_year_ago'] > 0:\n",
    "    direction = 'increased'\n",
    "    value = d['change_year_ago']\n",
    "    label = (f'Over the past year, the age 25-54 employment rate has '+\n",
    "             f'{direction} by {value:.1f} percentage points.')\n",
    "elif d['change_year_ago'] < 0:\n",
    "    direction = 'fallen'\n",
    "    value = abs(d['change_year_ago'])\n",
    "    label = (f'Over the past year, the age 25-54 employment rate has '+\n",
    "             f'{direction} by {value:.1f} percentage points.')\n",
    "else:\n",
    "    label = 'The age 25-54 employment rate is unchanged over the past year. '\n",
    "    \n",
    "pop = 126277\n",
    "diff1 = d['late90s'] - d['val_latest']\n",
    "diff = (d['late90s'] - d['val_latest']) / 100 * pop\n",
    "\n",
    "if diff > 999:\n",
    "    diff_text = f'{round(diff / 1000, 1)} million'\n",
    "else: \n",
    "    diff_text = f'{round(diff, -1)} thousand'\n",
    "    \n",
    "label2 = (f'The current age 25-54 employment rate is {diff1:.1f} percentage '+\n",
    "          f'points (equivalent to {diff_text} workers) below the average during '+\n",
    "          '1998--99, a period with a particularly tight labor market. ')\n",
    "\n",
    "textval = f'{text} of 25-54 years olds were employed, {text2}. {label} {label2}'\n",
    "print(textval)\n",
    "\n",
    "write_txt(text_dir / 'epop_text.txt', textval)"
   ]
  },
  {
   "cell_type": "code",
   "execution_count": null,
   "metadata": {},
   "outputs": [],
   "source": []
  },
  {
   "cell_type": "code",
   "execution_count": null,
   "metadata": {},
   "outputs": [],
   "source": []
  },
  {
   "cell_type": "markdown",
   "metadata": {},
   "source": [
    "### Unemployment by reason"
   ]
  },
  {
   "cell_type": "code",
   "execution_count": 15,
   "metadata": {
    "ExecuteTime": {
     "end_time": "2020-09-04T13:04:44.286245Z",
     "start_time": "2020-09-04T13:04:44.260949Z"
    }
   },
   "outputs": [
    {
     "data": {
      "text/plain": [
       "'In August 2020, 6.4 percent of the labor force were unemployed because of losing a job or having a temporary job end. Of these, 3.8 percent of the labor force are unemployed due to temporary layoff, equivalent to 45.5 percent of the unemployed. Additionally, 0.4 percent of the labor force were re-entrants, 1.3 percent were new entrants, and 0.3 percent were job leavers. '"
      ]
     },
     "execution_count": 15,
     "metadata": {},
     "output_type": "execute_result"
    }
   ],
   "source": [
    "srs = ['Job Loser', 'Job Leaver', 'Re-entrant', 'New entrant', \n",
    "       'Temporary Layoff', 'Permanent Separation', 'Level']\n",
    "d1 = (pd.read_csv(data_dir / 'jobs_report_main.csv', parse_dates=['date'])\n",
    "        .set_index('date')).loc['1989':]\n",
    "\n",
    "df = d1[srs].div(d1['LF'], axis='index') * 100\n",
    "#.resample('QS').mean()\n",
    "df.to_csv(data_dir / 'unemp_reason.csv', index_label='date', float_format='%g')\n",
    "\n",
    "loser = df['Job Loser'].iloc[-1]\n",
    "tl = df['Temporary Layoff'].iloc[-1]\n",
    "tlsh = (d1['Temporary Layoff'] / d1['Level']).iloc[-1] * 100\n",
    "leaver = df['Job Leaver'].iloc[-1]\n",
    "reent = df['Re-entrant'].iloc[-1]\n",
    "newent = df['New entrant'].iloc[-1]\n",
    "ltdate = dtxt(df.index[-1])['mon1']\n",
    "\n",
    "text = (f'In {ltdate}, {loser:.1f} percent of the labor force '+\n",
    "        'were unemployed because of losing a job or having a temporary '+\n",
    "        f'job end. Of these, {tl:.1f} percent of the labor force are unemployed due '+\n",
    "        f'to temporary layoff, equivalent to {tlsh:.1f} percent of the unemployed. '+\n",
    "        f'Additionally, {leaver:.1f} percent of the labor force were re-entrants, '+\n",
    "        f'{reent:.1f} percent were new entrants, and {newent:.1f} '+\n",
    "        'percent were job leavers. ')\n",
    "\n",
    "write_txt(text_dir / 'unemp_reason.txt', text)\n",
    "\n",
    "text"
   ]
  },
  {
   "cell_type": "code",
   "execution_count": 16,
   "metadata": {
    "ExecuteTime": {
     "end_time": "2020-09-04T13:04:47.312706Z",
     "start_time": "2020-09-04T13:04:46.739282Z"
    }
   },
   "outputs": [],
   "source": [
    "lf = ['Employed', 'Unemployed']\n",
    "naw_rate = lambda x: np.average(x['NOTATWORK'], weights=x['BASICWGT'])\n",
    "\n",
    "naw = pd.Series(dtype='float64')\n",
    "\n",
    "columns = ['LFS', 'MONTH', 'YEAR', 'BASICWGT', 'NOTATWORK']\n",
    "for year in range(2017, 2021):\n",
    "    data = (pd.read_feather(cps_dir / f'cps{year}.ft', columns=columns)\n",
    "        .query('LFS in @lf'))\n",
    "    data1 = data.groupby(['YEAR', 'MONTH']).apply(naw_rate) * 100\n",
    "    data1.index = [pd.to_datetime(f'{ti[0]}-{ti[1]}-01') for ti in data1.index]\n",
    "    naw = naw.append(data1)\n",
    "\n",
    "df['Employed, Not at Work'] = naw"
   ]
  },
  {
   "cell_type": "code",
   "execution_count": 17,
   "metadata": {
    "ExecuteTime": {
     "end_time": "2020-09-04T13:04:48.253034Z",
     "start_time": "2020-09-04T13:04:48.226199Z"
    }
   },
   "outputs": [],
   "source": [
    "d = {'Level': 'Unemployed, Any Reason',\n",
    "     'Job Loser': '\\hspace{2mm}Job Loser',\n",
    "     'Temporary Layoff': '\\hspace{4mm}Temporary Layoff',\n",
    "     'Permanent Separation': '\\hspace{4mm}Permanent Separation',\n",
    "     'Re-entrant': '\\hspace{2mm}Re-entrant',\n",
    "     'New entrant': '\\hspace{2mm}New entrant',\n",
    "     'Job Leaver': '\\hspace{2mm}Job Leaver'}\n",
    "\n",
    "final = pd.DataFrame()\n",
    "\n",
    "loc_list = [-1, -2, -3, -4, -5, -13, -14, -15, -16, -17]\n",
    "\n",
    "for key, value in d.items():\n",
    "    for i in loc_list:\n",
    "        final.loc[value, dtxt(df.index[i])['mon6']] = df[key].iloc[i].round(1)\n",
    "        \n",
    "final.loc['\\\\textit{See also:}', final.columns] = [''] * 10\n",
    "final.loc['Employed, Not at Work', final.columns] = [df['Employed, Not at Work'].iloc[i].round(1) \n",
    "                                                     for i in loc_list]\n",
    "\n",
    "final.to_csv(data_dir / 'unempreason_table.tex', sep='&', line_terminator='\\\\\\ ', quotechar=' ')"
   ]
  },
  {
   "cell_type": "code",
   "execution_count": 18,
   "metadata": {
    "ExecuteTime": {
     "end_time": "2020-09-04T13:04:50.456351Z",
     "start_time": "2020-09-04T13:04:50.446742Z"
    }
   },
   "outputs": [
    {
     "data": {
      "text/html": [
       "<div>\n",
       "<style scoped>\n",
       "    .dataframe tbody tr th:only-of-type {\n",
       "        vertical-align: middle;\n",
       "    }\n",
       "\n",
       "    .dataframe tbody tr th {\n",
       "        vertical-align: top;\n",
       "    }\n",
       "\n",
       "    .dataframe thead th {\n",
       "        text-align: right;\n",
       "    }\n",
       "</style>\n",
       "<table border=\"1\" class=\"dataframe\">\n",
       "  <thead>\n",
       "    <tr style=\"text-align: right;\">\n",
       "      <th></th>\n",
       "      <th>Aug `20</th>\n",
       "      <th>Jul `20</th>\n",
       "      <th>Jun `20</th>\n",
       "      <th>May `20</th>\n",
       "      <th>Apr `20</th>\n",
       "      <th>Aug `19</th>\n",
       "      <th>Jul `19</th>\n",
       "      <th>Jun `19</th>\n",
       "      <th>May `19</th>\n",
       "      <th>Apr `19</th>\n",
       "    </tr>\n",
       "  </thead>\n",
       "  <tbody>\n",
       "    <tr>\n",
       "      <th>Unemployed, Any Reason</th>\n",
       "      <td>8.4</td>\n",
       "      <td>10.2</td>\n",
       "      <td>11.1</td>\n",
       "      <td>13.3</td>\n",
       "      <td>14.7</td>\n",
       "      <td>3.7</td>\n",
       "      <td>3.7</td>\n",
       "      <td>3.7</td>\n",
       "      <td>3.6</td>\n",
       "      <td>3.6</td>\n",
       "    </tr>\n",
       "    <tr>\n",
       "      <th>\\hspace{2mm}Job Loser</th>\n",
       "      <td>6.4</td>\n",
       "      <td>8.1</td>\n",
       "      <td>8.9</td>\n",
       "      <td>11.6</td>\n",
       "      <td>13.2</td>\n",
       "      <td>1.7</td>\n",
       "      <td>1.7</td>\n",
       "      <td>1.7</td>\n",
       "      <td>1.6</td>\n",
       "      <td>1.6</td>\n",
       "    </tr>\n",
       "    <tr>\n",
       "      <th>\\hspace{4mm}Temporary Layoff</th>\n",
       "      <td>3.8</td>\n",
       "      <td>5.8</td>\n",
       "      <td>6.6</td>\n",
       "      <td>9.7</td>\n",
       "      <td>11.5</td>\n",
       "      <td>0.5</td>\n",
       "      <td>0.5</td>\n",
       "      <td>0.5</td>\n",
       "      <td>0.5</td>\n",
       "      <td>0.4</td>\n",
       "    </tr>\n",
       "    <tr>\n",
       "      <th>\\hspace{4mm}Permanent Separation</th>\n",
       "      <td>2.1</td>\n",
       "      <td>1.8</td>\n",
       "      <td>1.8</td>\n",
       "      <td>1.5</td>\n",
       "      <td>1.3</td>\n",
       "      <td>0.8</td>\n",
       "      <td>0.8</td>\n",
       "      <td>0.8</td>\n",
       "      <td>0.8</td>\n",
       "      <td>0.8</td>\n",
       "    </tr>\n",
       "    <tr>\n",
       "      <th>\\hspace{2mm}Re-entrant</th>\n",
       "      <td>1.3</td>\n",
       "      <td>1.5</td>\n",
       "      <td>1.5</td>\n",
       "      <td>1</td>\n",
       "      <td>0.9</td>\n",
       "      <td>1.1</td>\n",
       "      <td>1.1</td>\n",
       "      <td>1.1</td>\n",
       "      <td>1.1</td>\n",
       "      <td>1.2</td>\n",
       "    </tr>\n",
       "    <tr>\n",
       "      <th>\\hspace{2mm}New entrant</th>\n",
       "      <td>0.3</td>\n",
       "      <td>0.3</td>\n",
       "      <td>0.4</td>\n",
       "      <td>0.3</td>\n",
       "      <td>0.2</td>\n",
       "      <td>0.4</td>\n",
       "      <td>0.4</td>\n",
       "      <td>0.3</td>\n",
       "      <td>0.4</td>\n",
       "      <td>0.3</td>\n",
       "    </tr>\n",
       "    <tr>\n",
       "      <th>\\hspace{2mm}Job Leaver</th>\n",
       "      <td>0.4</td>\n",
       "      <td>0.4</td>\n",
       "      <td>0.4</td>\n",
       "      <td>0.4</td>\n",
       "      <td>0.4</td>\n",
       "      <td>0.5</td>\n",
       "      <td>0.5</td>\n",
       "      <td>0.5</td>\n",
       "      <td>0.5</td>\n",
       "      <td>0.4</td>\n",
       "    </tr>\n",
       "    <tr>\n",
       "      <th>\\textit{See also:}</th>\n",
       "      <td></td>\n",
       "      <td></td>\n",
       "      <td></td>\n",
       "      <td></td>\n",
       "      <td></td>\n",
       "      <td></td>\n",
       "      <td></td>\n",
       "      <td></td>\n",
       "      <td></td>\n",
       "      <td></td>\n",
       "    </tr>\n",
       "    <tr>\n",
       "      <th>Employed, Not at Work</th>\n",
       "      <td>NaN</td>\n",
       "      <td>6</td>\n",
       "      <td>4.9</td>\n",
       "      <td>5.3</td>\n",
       "      <td>7.4</td>\n",
       "      <td>4.3</td>\n",
       "      <td>6.1</td>\n",
       "      <td>4.4</td>\n",
       "      <td>2.6</td>\n",
       "      <td>2.5</td>\n",
       "    </tr>\n",
       "  </tbody>\n",
       "</table>\n",
       "</div>"
      ],
      "text/plain": [
       "                                 Aug `20 Jul `20 Jun `20 May `20 Apr `20  \\\n",
       "Unemployed, Any Reason               8.4    10.2    11.1    13.3    14.7   \n",
       "\\hspace{2mm}Job Loser                6.4     8.1     8.9    11.6    13.2   \n",
       "\\hspace{4mm}Temporary Layoff         3.8     5.8     6.6     9.7    11.5   \n",
       "\\hspace{4mm}Permanent Separation     2.1     1.8     1.8     1.5     1.3   \n",
       "\\hspace{2mm}Re-entrant               1.3     1.5     1.5       1     0.9   \n",
       "\\hspace{2mm}New entrant              0.3     0.3     0.4     0.3     0.2   \n",
       "\\hspace{2mm}Job Leaver               0.4     0.4     0.4     0.4     0.4   \n",
       "\\textit{See also:}                                                         \n",
       "Employed, Not at Work                NaN       6     4.9     5.3     7.4   \n",
       "\n",
       "                                 Aug `19 Jul `19 Jun `19 May `19 Apr `19  \n",
       "Unemployed, Any Reason               3.7     3.7     3.7     3.6     3.6  \n",
       "\\hspace{2mm}Job Loser                1.7     1.7     1.7     1.6     1.6  \n",
       "\\hspace{4mm}Temporary Layoff         0.5     0.5     0.5     0.5     0.4  \n",
       "\\hspace{4mm}Permanent Separation     0.8     0.8     0.8     0.8     0.8  \n",
       "\\hspace{2mm}Re-entrant               1.1     1.1     1.1     1.1     1.2  \n",
       "\\hspace{2mm}New entrant              0.4     0.4     0.3     0.4     0.3  \n",
       "\\hspace{2mm}Job Leaver               0.5     0.5     0.5     0.5     0.4  \n",
       "\\textit{See also:}                                                        \n",
       "Employed, Not at Work                4.3     6.1     4.4     2.6     2.5  "
      ]
     },
     "execution_count": 18,
     "metadata": {},
     "output_type": "execute_result"
    }
   ],
   "source": [
    "final"
   ]
  },
  {
   "cell_type": "code",
   "execution_count": null,
   "metadata": {},
   "outputs": [],
   "source": []
  },
  {
   "cell_type": "code",
   "execution_count": null,
   "metadata": {},
   "outputs": [],
   "source": []
  },
  {
   "cell_type": "markdown",
   "metadata": {},
   "source": [
    "### Unemployed long-term"
   ]
  },
  {
   "cell_type": "code",
   "execution_count": 19,
   "metadata": {
    "ExecuteTime": {
     "end_time": "2020-09-04T13:04:54.954844Z",
     "start_time": "2020-09-04T13:04:54.934232Z"
    }
   },
   "outputs": [
    {
     "name": "stdout",
     "output_type": "stream",
     "text": [
      "As of August 2020, BLS \\href{https://www.bls.gov/webapps/legacy/cpsatab12.htm}{reports} that 0.63 percent of the age 16+ population have been unemployed for 27 weeks or longer, compared to 0.49 percent in August 2019 (see {\\color{blue}\\textbf{---}}). This measure of long-term unemployment peaked at 2.96 percent of the population in April 2010, but had fallen to 0.36 percent in April 2020.\\\\ \n",
      " \n",
      "In August 2020, 3.08 percent of the age 16+ population are unemployed for at least 15 weeks, following 3.03 percent in July 2020, and 1.21 percent in June 2020.\n"
     ]
    }
   ],
   "source": [
    "srs = ['LT', 'MT', 'POP']\n",
    "df = (pd.read_csv(data_dir / 'jobs_report_main.csv', parse_dates=['date'])\n",
    "        .set_index('date')).loc['1989':, srs]\n",
    "\n",
    "data = (df.divide(df['POP'], axis=0) * 100).drop(['POP'], axis=1)\n",
    "data.to_csv(data_dir / 'ltu.csv', index_label='date', float_format='%g')\n",
    "\n",
    "write_txt(text_dir / 'ltu_node.txt', end_node(data['LT'], 'blue'))\n",
    "write_txt(text_dir / 'ltu_node2.txt', end_node(data['MT'], 'red'))\n",
    "\n",
    "ldate = dtxt(data.index[-1])['mon1']\n",
    "pdate = dtxt(data.index[-13])['mon1']\n",
    "hdate = dtxt(data['LT'].idxmax())['mon1']\n",
    "prdt = dtxt(data.index[-2])['mon1']\n",
    "prdt2 = dtxt(data.index[-3])['mon1']\n",
    "\n",
    "recent_min = data.loc['2015':, 'LT'].min()\n",
    "recent_min_dt = dtxt(data.loc['2015':, 'LT'].idxmin())['mon1']\n",
    "\n",
    "text = (f'As of {ldate}, BLS '+\n",
    "        '\\href{https://www.bls.gov/webapps/legacy/cpsatab12.htm}{reports} '+\n",
    "        f'that {data[\"LT\"].iloc[-1]:.2f} percent of the age 16+ '+\n",
    "         'population have been unemployed for 27 weeks or longer, '+\n",
    "        f'compared to {data[\"LT\"].iloc[-13]:.2f} percent in {pdate} '+\n",
    "        '(see {\\color{blue}\\\\textbf{---}}). This measure of long-term '+\n",
    "        f'unemployment peaked at {data[\"LT\"].max():.2f} percent of the '+\n",
    "        f'population in {hdate}, but had fallen to {recent_min:.2f} percent '+\n",
    "        f'in {recent_min_dt}.\\\\\\\\ \\n \\nIn {ldate}, {data[\"MT\"].iloc[-1]:.2f} '+\n",
    "        'percent of the age 16+ population are unemployed for at '+\n",
    "        f'least 15 weeks, following {data[\"MT\"].iloc[-2]:.2f} percent in {prdt}, '+\n",
    "        f'and {data[\"MT\"].iloc[-3]:.2f} percent in {prdt2}.')\n",
    "write_txt(text_dir / 'ltu.txt', text)\n",
    "print(text)"
   ]
  },
  {
   "cell_type": "code",
   "execution_count": null,
   "metadata": {},
   "outputs": [],
   "source": []
  },
  {
   "cell_type": "code",
   "execution_count": null,
   "metadata": {},
   "outputs": [],
   "source": []
  },
  {
   "cell_type": "markdown",
   "metadata": {},
   "source": [
    "### Duration of Unemployment"
   ]
  },
  {
   "cell_type": "code",
   "execution_count": 20,
   "metadata": {
    "ExecuteTime": {
     "end_time": "2020-09-04T13:04:58.294466Z",
     "start_time": "2020-09-04T13:04:58.282450Z"
    }
   },
   "outputs": [
    {
     "data": {
      "text/plain": [
       "'Among those who are unemployed, the average (mean) duration of unemployment is 20.2 weeks, and the typical (median) duration of unemployment is 16.7 weeks, as of August 2020.'"
      ]
     },
     "execution_count": 20,
     "metadata": {},
     "output_type": "execute_result"
    }
   ],
   "source": [
    "srs = ['Median', 'Mean']\n",
    "df = (pd.read_csv(data_dir / 'jobs_report_main.csv', parse_dates=['date'])\n",
    "        .set_index('date')).loc['1989':, srs]\n",
    "\n",
    "df.to_csv(data_dir / 'unempdur.csv', index_label='date', float_format='%g')\n",
    "\n",
    "ldate = dtxt(df.index[-1])['mon1']\n",
    "\n",
    "median = df['Median'].iloc[-1]\n",
    "mean = df['Mean'].iloc[-1]\n",
    "\n",
    "text = ('Among those who are unemployed, '+\n",
    "        f'the average (mean) duration of unemployment is {mean:.1f} weeks, and the '+\n",
    "        f'typical (median) duration of unemployment is {median:.1f} weeks, as of {ldate}.')\n",
    "\n",
    "write_txt(text_dir / 'unempdur.txt', text)\n",
    "\n",
    "text"
   ]
  },
  {
   "cell_type": "code",
   "execution_count": null,
   "metadata": {},
   "outputs": [],
   "source": []
  },
  {
   "cell_type": "code",
   "execution_count": null,
   "metadata": {},
   "outputs": [],
   "source": []
  },
  {
   "cell_type": "markdown",
   "metadata": {},
   "source": [
    "### Part Time for Economic Reasons"
   ]
  },
  {
   "cell_type": "code",
   "execution_count": 21,
   "metadata": {
    "ExecuteTime": {
     "end_time": "2020-09-04T13:05:01.977938Z",
     "start_time": "2020-09-04T13:05:01.955377Z"
    }
   },
   "outputs": [
    {
     "data": {
      "text/plain": [
       "'As of August 2020, 7,572,000 people are working part time because of economic reasons, equivalent to 4.7 percent of the labor force (see {\\\\color{red}\\\\textbf{---}}), the lowest level since March 2020 and substantially above the February 2020 rate of 2.6 percent. During the great recession, the involuntary part-time share of the labor force peaked at 6.0 percent in September 2010.'"
      ]
     },
     "execution_count": 21,
     "metadata": {},
     "output_type": "execute_result"
    }
   ],
   "source": [
    "srs = ['PTECON', 'LF']\n",
    "df = (pd.read_csv(data_dir / 'jobs_report_main.csv', parse_dates=['date'])\n",
    "        .set_index('date')).loc['1989':, srs]\n",
    "\n",
    "data = (df['PTECON'] / df['LF']) * 100\n",
    "data.name = 'PTECON'\n",
    "data.to_csv(data_dir / 'ptecon.csv', index_label='date')\n",
    "\n",
    "write_txt(text_dir / 'ptecon_node.txt', end_node(data, 'red'))\n",
    "\n",
    "ltdate = dtxt(df.index[-1])['mon1']\n",
    "totval = df.PTECON.iloc[-1] * 1000\n",
    "ltval = data.iloc[-1]\n",
    "comp_date = '2020-02-01'\n",
    "lastmatch = series_info(data)['last_matched']\n",
    "feb20val = data.loc[comp_date]\n",
    "compare = compare_text(ltval, feb20val, [0.1, 0.9, 4.0])\n",
    "feb20date = dtxt(pd.to_datetime(comp_date))['mon1']\n",
    "gfcval = data.loc[:comp_date].max()\n",
    "gfcmaxdate = dtxt(data.loc[:comp_date].idxmax())['mon1']\n",
    "\n",
    "text = (f'As of {ltdate}, {totval:,.0f} people are working part time '+\n",
    "        f'because of economic reasons, equivalent to {ltval:.1f} percent '+\n",
    "        'of the labor force (see {\\color{red}\\\\textbf{---}}), '+\n",
    "        f'{lastmatch} and {compare} the {feb20date} rate of {feb20val:.1f} percent. '+\n",
    "        'During the great recession, the involuntary part-time share of '+\n",
    "        f'the labor force peaked at {gfcval:.1f} percent in {gfcmaxdate}.')\n",
    "\n",
    "write_txt(text_dir / 'ptecon.txt', text)\n",
    "\n",
    "text"
   ]
  },
  {
   "cell_type": "code",
   "execution_count": null,
   "metadata": {},
   "outputs": [],
   "source": []
  },
  {
   "cell_type": "code",
   "execution_count": null,
   "metadata": {},
   "outputs": [],
   "source": []
  },
  {
   "cell_type": "markdown",
   "metadata": {},
   "source": [
    "### Multiple Jobholders"
   ]
  },
  {
   "cell_type": "code",
   "execution_count": 22,
   "metadata": {
    "ExecuteTime": {
     "end_time": "2020-09-04T13:05:06.370482Z",
     "start_time": "2020-09-04T13:05:06.352371Z"
    }
   },
   "outputs": [
    {
     "name": "stdout",
     "output_type": "stream",
     "text": [
      "In August 2020, 6,541,000 people are working more than one job, equivalent to 4.4 percent of workers (see {\\color{cyan!50!blue}\\textbf{---}}), the lowest level since June 2020 and substantially below the February 2020 rate of 5.2 percent. The multiple jobholder share of workers peaked at 6.6 percent in November 1996.\n"
     ]
    }
   ],
   "source": [
    "srs = ['MJH', 'EMP']\n",
    "df = (pd.read_csv(data_dir / 'jobs_report_main2.csv', parse_dates=['date'])\n",
    "        .set_index('date')).loc['1989':, srs]\n",
    "\n",
    "data = (df['MJH'] / df['EMP']) * 100\n",
    "data.name = 'MJH'\n",
    "data.to_csv(data_dir / 'mjh.csv', index_label='date')\n",
    "\n",
    "write_txt(text_dir / 'mjh_node.txt', end_node(data, 'cyan!50!blue'))\n",
    "\n",
    "ltdate = dtxt(df.index[-1])['mon1']\n",
    "totval = df.MJH.iloc[-1] * 1000\n",
    "ltval = data.iloc[-1]\n",
    "comp_date = '2020-02-01'\n",
    "lastmatch = series_info(data)['last_matched']\n",
    "feb20val = data.loc[comp_date]\n",
    "compare = compare_text(ltval, feb20val, [0.1, 0.4, 2.0])\n",
    "feb20date = dtxt(pd.to_datetime(comp_date))['mon1']\n",
    "gfcval = data.loc[:comp_date].max()\n",
    "gfcmaxdate = dtxt(data.loc[:comp_date].idxmax())['mon1']\n",
    "\n",
    "text = (f'In {ltdate}, {totval:,.0f} people are working more than one job, '+\n",
    "        f'equivalent to {ltval:.1f} percent of workers '+\n",
    "        '(see {\\color{cyan!50!blue}\\\\textbf{---}}), '+\n",
    "        f'{lastmatch} and {compare} the {feb20date} rate of {feb20val:.1f} percent. '+\n",
    "        'The multiple jobholder share of '+\n",
    "        f'workers peaked at {gfcval:.1f} percent in {gfcmaxdate}.')\n",
    "write_txt(text_dir / 'mjh.txt', text)\n",
    "print(text)"
   ]
  },
  {
   "cell_type": "code",
   "execution_count": null,
   "metadata": {},
   "outputs": [],
   "source": []
  },
  {
   "cell_type": "code",
   "execution_count": null,
   "metadata": {},
   "outputs": [],
   "source": []
  },
  {
   "cell_type": "markdown",
   "metadata": {},
   "source": [
    "### Average Weekly Hours"
   ]
  },
  {
   "cell_type": "code",
   "execution_count": 23,
   "metadata": {
    "ExecuteTime": {
     "end_time": "2020-09-04T13:05:10.961634Z",
     "start_time": "2020-09-04T13:05:09.677049Z"
    }
   },
   "outputs": [
    {
     "name": "stderr",
     "output_type": "stream",
     "text": [
      "/home/brian/miniconda3/lib/python3.8/site-packages/statsmodels/tsa/x13.py:187: X13Warning: WARNING: At least one visually significant trading day peak has been\n",
      "          found in the estimated spectrum of the regARIMA residuals.\n",
      "  \n",
      " WARNING: At least one visually significant trading day peak has been\n",
      "          found in one or more of the estimated spectra.\n",
      "  warn(errors, X13Warning)\n"
     ]
    },
    {
     "data": {
      "text/plain": [
       "<AxesSubplot:xlabel='date'>"
      ]
     },
     "execution_count": 23,
     "metadata": {},
     "output_type": "execute_result"
    },
    {
     "data": {
      "image/png": "[encoded data removed]",
      "text/plain": [
       "<Figure size 216x504 with 1 Axes>"
      ]
     },
     "metadata": {
      "needs_background": "light"
     },
     "output_type": "display_data"
    }
   ],
   "source": [
    "df2 = (pd.read_csv(data_dir / 'jobs_report_main2.csv', parse_dates=['date'])\n",
    "        .set_index('date'))\n",
    "\n",
    "data = pd.DataFrame()\n",
    "\n",
    "data['TOTLFS'] = df2['avghrstot']\n",
    "data['SERVNSA'] = df2['avghrsserv']\n",
    "data['SERVSA'] = x13_arima_analysis(df2['avghrsserv'].dropna()).seasadj\n",
    "data['PNS'] = df2['ceshrspns']\n",
    "data['PTECONNSA'] = df2['avghrsptecon']\n",
    "data['PTECONSA'] = x13_arima_analysis(df2['avghrsptecon'].dropna()).seasadj\n",
    "\n",
    "data.loc['1989':].to_csv(data_dir / 'hours.csv', index_label='date')\n",
    "\n",
    "\n",
    "data.plot(color=['blue', 'lime', 'darkgreen', 'orange', 'lightpink', 'red'], figsize=(3, 7))"
   ]
  },
  {
   "cell_type": "code",
   "execution_count": 24,
   "metadata": {
    "ExecuteTime": {
     "end_time": "2020-09-04T13:05:13.837850Z",
     "start_time": "2020-09-04T13:05:13.831256Z"
    }
   },
   "outputs": [],
   "source": [
    "ltval = data['TOTLFS'].iloc[-1]\n",
    "ltdate = dtxt(data.index[-1])['mon1']\n",
    "feb20val = data.loc['2020-02-01', 'TOTLFS']\n",
    "compare = compare_text(ltval, feb20val, [0.2, 1.5, 3.0])\n",
    "avg90 = data.loc['1998':'2000', 'TOTLFS'].mean()\n",
    "gfclow = data.loc['2005': '2012', 'TOTLFS'].min()\n",
    "gfclowdt = dtxt(data.loc['2005': '2012', 'TOTLFS'].idxmin())['mon1']"
   ]
  },
  {
   "cell_type": "code",
   "execution_count": 25,
   "metadata": {
    "ExecuteTime": {
     "end_time": "2020-09-04T13:05:14.753884Z",
     "start_time": "2020-09-04T13:05:14.750303Z"
    }
   },
   "outputs": [
    {
     "data": {
      "text/plain": [
       "'Weekly hours for the total group of people at work in all industries average 38.5 in August 2020 (see {\\\\color{blue}\\\\textbf{---}}) slightly below the 38.9 average weekly hours in February 2020. Weekly hours for this group average 39.6 from 1998 through 2000, and fell to a great recession low of 37.4 in February 2010.'"
      ]
     },
     "execution_count": 25,
     "metadata": {},
     "output_type": "execute_result"
    }
   ],
   "source": [
    "text = ('Weekly hours for the total group of '+\n",
    "        f'people at work in all industries average {ltval:.1f} in {ltdate} '+\n",
    "        '(see {\\color{blue}\\\\textbf{---}}) '+\n",
    "        f'{compare} the {feb20val:.1f} average weekly hours in February 2020. '+\n",
    "        f'Weekly hours for this group average {avg90:.1f} from 1998 through 2000, '+\n",
    "        f'and fell to a great recession low of {gfclow:.1f} in {gfclowdt}.')\n",
    "\n",
    "write_txt(text_dir / 'hours_tot.txt', text)\n",
    "text"
   ]
  },
  {
   "cell_type": "code",
   "execution_count": 26,
   "metadata": {
    "ExecuteTime": {
     "end_time": "2020-09-04T13:05:15.613027Z",
     "start_time": "2020-09-04T13:05:15.608240Z"
    }
   },
   "outputs": [
    {
     "data": {
      "text/plain": [
       "'Those in service occupations (see {\\\\color{green!90!blue!70!black}\\\\textbf{---}}) work fewer hours on average, with 34.3 average weekly hours in August 2020, substantially below the 35.1 average in February 2020. Those part-time for economic reasons (see {\\\\color{red!90!black}\\\\textbf{---}}) work an average of 22.4 hours per week in August 2020. '"
      ]
     },
     "execution_count": 26,
     "metadata": {},
     "output_type": "execute_result"
    }
   ],
   "source": [
    "ltval2 = data.SERVSA.iloc[-1]\n",
    "feb20val2 = data.loc['2020-02-01', 'SERVSA']\n",
    "compare2 = compare_text(ltval2, feb20val2, [0.2, 0.6, 2.5])\n",
    "pteval = data.PTECONSA.iloc[-1]\n",
    "\n",
    "text = ('Those in service occupations (see '+\n",
    "        '{\\color{green!90!blue!70!black}\\\\textbf{---}}) '+\n",
    "        f'work fewer hours on average, with {ltval2:.1f} average '+\n",
    "        f'weekly hours in {ltdate}, {compare2} the {feb20val2:.1f} '+\n",
    "        'average in February 2020. Those part-time '+\n",
    "        'for economic reasons (see {\\color{red!90!black}\\\\textbf{---}}) '+\n",
    "        f'work an average of {pteval:.1f} hours per week in {ltdate}. ')\n",
    "\n",
    "write_txt(text_dir / 'hours_lfs2.txt', text)\n",
    "text"
   ]
  },
  {
   "cell_type": "code",
   "execution_count": 27,
   "metadata": {
    "ExecuteTime": {
     "end_time": "2020-09-04T13:05:18.016144Z",
     "start_time": "2020-09-04T13:05:18.010367Z"
    }
   },
   "outputs": [
    {
     "data": {
      "text/plain": [
       "'In August 2020, production and non-supervisory workers (see {\\\\color{orange}\\\\textbf{---}}), about four of every five employees, worked 34.0 hours per week on average, slightly above the 33.7 average weekly hours in February 2020 and slightly below the 1998--2000 average of 34.4 hours.'"
      ]
     },
     "execution_count": 27,
     "metadata": {},
     "output_type": "execute_result"
    }
   ],
   "source": [
    "ltval3 = data.PNS.iloc[-1]\n",
    "feb20val3 = data.loc['2020-02-01', 'PNS']\n",
    "compare3 = compare_text(ltval3, feb20val3, [0.2, 0.6, 2.5])\n",
    "val98 = data.loc['1998':'2000', 'PNS'].mean()\n",
    "compare4 = compare_text(ltval3, val98, [0.2, 0.6, 2.5])\n",
    "\n",
    "text = (f'In {ltdate}, '+\n",
    "        'production and non-supervisory workers (see {\\color{orange}\\\\textbf{---}})'+\n",
    "        ', about four of every five employees, '+\n",
    "        f'worked {ltval3:.1f} hours per week on average, '+\n",
    "        f'{compare3} the {feb20val3:.1f} average weekly hours in February 2020 and '+\n",
    "        f'{compare4} the 1998--2000 average of {val98:.1f} hours.')\n",
    "\n",
    "write_txt(text_dir / 'hours_ces.txt', text)\n",
    "text"
   ]
  },
  {
   "cell_type": "code",
   "execution_count": null,
   "metadata": {},
   "outputs": [],
   "source": []
  },
  {
   "cell_type": "code",
   "execution_count": null,
   "metadata": {},
   "outputs": [],
   "source": []
  },
  {
   "cell_type": "markdown",
   "metadata": {},
   "source": [
    "### Flows"
   ]
  },
  {
   "cell_type": "code",
   "execution_count": 28,
   "metadata": {
    "ExecuteTime": {
     "end_time": "2020-09-04T13:05:21.627046Z",
     "start_time": "2020-09-04T13:05:21.606337Z"
    }
   },
   "outputs": [
    {
     "data": {
      "text/plain": [
       "'In August 2020, 9.5 million people were newly employed (on a gross basis). Of these, 50.9 percent were not looking for work in the prior month (see {\\\\color{lime!50!green!60!white}\\\\textbf{---}}). Over the past three months, an average of 48.1 percent of the newly employed were not looking for work the month prior (see {\\\\color{green!60!teal!90!black}\\\\textbf{---}}). With low unemployment, new employees are being pulled from outside of the labor force and bypassing unemployment. Three years ago, in August 2017, 71.7 percent of the newly employed were not looking for work month prior.'"
      ]
     },
     "execution_count": 28,
     "metadata": {},
     "output_type": "execute_result"
    }
   ],
   "source": [
    "df = (pd.read_csv(data_dir / 'jobs_report_main.csv', parse_dates=['date'])\n",
    "        .set_index('date')).loc['1990':, ['NILF', 'UNEMP']]\n",
    "df['TOTAL'] = df.astype('float').sum(axis=1)\n",
    "sh = (df['NILF'] / df['TOTAL']).rename('total') * 100\n",
    "\n",
    "sh.to_csv(data_dir / 'lf_flow.csv', index_label='date', header=True, float_format='%g')\n",
    "\n",
    "ma = sh.resample('QS').mean().rename('quarterly')\n",
    "\n",
    "ma.to_csv(data_dir / 'lf_flow_q.csv', index_label='date', header=True)\n",
    "write_txt(text_dir / 'lf_flow_node.txt', end_node(ma, 'green!60!teal!90!black'))\n",
    "\n",
    "totval = df['TOTAL'].iloc[-1] / 1000\n",
    "nilfval = df['NILF'].iloc[-1] / 1000\n",
    "unval = df['UNEMP'].iloc[-1] / 1000\n",
    "\n",
    "shval = sh.iloc[-1]\n",
    "maval = ma.iloc[-1] \n",
    "sh3y = sh.iloc[-37]\n",
    "\n",
    "ltdate = dtxt(sh.index[-1])['mon1']\n",
    "yragodt = dtxt(sh.index[-37])['mon1']\n",
    "\n",
    "text = (f'In {ltdate}, {totval:.1f} million people were newly employed (on a gross basis). '+\n",
    "        f'Of these, {shval:.1f} percent were not looking for work in the prior month '+\n",
    "        '(see {\\color{lime!50!green!60!white}\\\\textbf{---}}). Over the past three months, an average '+\n",
    "        f'of {maval:.1f} percent of the newly employed were not looking for work the month prior '+\n",
    "        '(see {\\color{green!60!teal!90!black}\\\\textbf{---}}). With low unemployment, new employees '+\n",
    "        'are being pulled from outside of the labor force and bypassing unemployment. '+\n",
    "        f'Three years ago, in {yragodt}, {sh3y:.1f} percent '+\n",
    "        'of the newly employed were not looking for work month prior.')\n",
    "\n",
    "write_txt(text_dir / 'lf_flow.txt', text)\n",
    "text"
   ]
  },
  {
   "cell_type": "code",
   "execution_count": null,
   "metadata": {},
   "outputs": [],
   "source": []
  },
  {
   "cell_type": "code",
   "execution_count": null,
   "metadata": {},
   "outputs": [],
   "source": []
  },
  {
   "cell_type": "markdown",
   "metadata": {},
   "source": [
    "### Wage Growth"
   ]
  },
  {
   "cell_type": "code",
   "execution_count": 29,
   "metadata": {
    "ExecuteTime": {
     "end_time": "2020-09-04T13:05:30.367395Z",
     "start_time": "2020-09-04T13:05:25.218216Z"
    }
   },
   "outputs": [],
   "source": [
    "data1, data2 = pd.Series(dtype='float64'), pd.Series(dtype='float64')\n",
    "columns = ['MONTH', 'YEAR', 'AGE', 'PWORWGT', 'WKWAGE', 'HRSUSL1', 'WORKFT']\n",
    "for year in range(1989, 2021):\n",
    "    df = (pd.read_feather(cps_dir / f'cps{year}.ft', columns=columns)\n",
    "        .query('WKWAGE > 0 and WORKFT == 1'))\n",
    "    data = df.groupby(['YEAR', 'MONTH']).apply(binned_wage)\n",
    "    data.index = [pd.to_datetime(f'{ti[0]}-{ti[1]}-01') for ti in data.index]\n",
    "    data1 = data1.append(data)\n",
    "    \n",
    "df = pd.DataFrame({'All': data1})\n",
    "df = df.rolling(3).mean()\n",
    "\n",
    "df.rolling(3).mean().to_csv(data_dir / 'uwe_bd.csv', index_label='date')\n",
    "dfgr = (df.pct_change(12).dropna() * 100).rolling(3).mean()\n",
    "dfgr.to_csv(data_dir / 'uwe_bd_gr.csv', index_label='date')\n",
    "\n",
    "srs = ['p10uwe']\n",
    "df2 = (pd.read_csv(data_dir / 'jobs_report_main2.csv', parse_dates=['date'])\n",
    "        .set_index('date')).loc['1988':, srs].dropna()\n",
    "df2.name = 'p10uwe'\n",
    "\n",
    "df2.to_csv(data_dir / 'uwe_bls.csv', index_label='date')\n",
    "df2gr = (df2.pct_change(4).dropna() * 100)\n",
    "df2gr.to_csv(data_dir / 'uwe_bls_gr.csv', index_label='date')"
   ]
  },
  {
   "cell_type": "code",
   "execution_count": 30,
   "metadata": {
    "ExecuteTime": {
     "end_time": "2020-09-04T13:05:32.069689Z",
     "start_time": "2020-09-04T13:05:32.062389Z"
    }
   },
   "outputs": [
    {
     "name": "stdout",
     "output_type": "stream",
     "text": [
      "BLS \\href{https://www.bls.gov/webapps/legacy/cpswktab5.htm}{calculations} (see {\\color{blue!65!black}\\textbf{---}}) for 2020 Q2 show nominal first decile usual weekly earnings of \\$496.00, compared to \\$454.00 in 2019 Q2, resulting in one-year growth of 9.3 percent. In the previous quarter, 2020 Q1, first decile usual weekly earnings grew by 5.9 percent over the year. Author's calculations from the CPS (see {\\color{lime!65!green}\\textbf{---}}) show three-month moving average first decile usual weekly earnings of \\$497.00 in July 2020, \\$506.00 in June 2020, and \\$453.00 in July 2019. One-year growth was 11.0 percent for the three months ending July 2020, 10.0 percent for the three months ending June 2020, and 8.0 percent for the three months ending May 2020.\n"
     ]
    }
   ],
   "source": [
    "ldate1 = dtxt(df.index[-1])['mon1']\n",
    "lval1 = df['All'].iloc[-1].round()\n",
    "lgrval1 = dfgr['All'].iloc[-1].round()\n",
    "prdate1 = dtxt(df.index[-2])['mon1']\n",
    "prval1 = df['All'].iloc[-2].round()\n",
    "prgrval1 = dfgr['All'].iloc[-2].round()\n",
    "pr2date1 = dtxt(df.index[-3])['mon1']\n",
    "pr2val1 = df['All'].iloc[-3].round()\n",
    "pr2grval1 = dfgr['All'].iloc[-3].round()\n",
    "pr3date1 = dtxt(df.index[-13])['mon1']\n",
    "pr3val1 = df['All'].iloc[-13].round()\n",
    "\n",
    "\n",
    "ldate2 = dtxt(df2.index[-1])['qtr1']\n",
    "lval2 = df2['p10uwe'].iloc[-1]\n",
    "prdate2 = dtxt(df2.index[-5])['qtr1']\n",
    "pr2date2 = dtxt(df2.index[-2])['qtr1']\n",
    "prval2 = df2['p10uwe'].iloc[-5]\n",
    "lgrval2 = df2gr['p10uwe'].iloc[-1]\n",
    "lgr2val2 = df2gr['p10uwe'].iloc[-2]\n",
    "\n",
    "text = ('BLS \\href{https://www.bls.gov/webapps/legacy/cpswktab5.htm}{calculations} '+\n",
    "        f'(see {{\\color{{blue!65!black}}\\\\textbf{{---}}}}) for {ldate2} '+\n",
    "        'show nominal first decile usual weekly '+\n",
    "        f'earnings of \\${lval2:.2f}, compared to \\${prval2:.2f} in {prdate2}, resulting '+\n",
    "        f'in one-year growth of {lgrval2:.1f} percent. In the previous quarter, {pr2date2}, '+\n",
    "        f'first decile usual weekly earnings grew by {lgr2val2:.1f} percent over the year. '+\n",
    "        \"Author's calculations from the CPS (see {\\color{lime!65!green}\\\\textbf{---}}) \"+\n",
    "        'show three-month moving average first decile usual weekly '+\n",
    "        f'earnings of \\${lval1:.2f} in {ldate1}, \\${prval1:.2f} in {prdate1}, '+\n",
    "        f'and \\${pr3val1:.2f} in {pr3date1}. One-year growth was {lgrval1:.1f} percent for '+\n",
    "        f'the three months ending {ldate1}, {prgrval1:.1f} percent for the '+\n",
    "        f'three months ending {prdate1}, and {pr2grval1:.1f} percent for the '+\n",
    "        f'three months ending {pr2date1}.')\n",
    "write_txt(text_dir / 'uwe_basic.txt', text)\n",
    "print(text)"
   ]
  },
  {
   "cell_type": "code",
   "execution_count": null,
   "metadata": {},
   "outputs": [],
   "source": []
  },
  {
   "cell_type": "code",
   "execution_count": null,
   "metadata": {},
   "outputs": [],
   "source": []
  },
  {
   "cell_type": "markdown",
   "metadata": {},
   "source": [
    "### Wages Table"
   ]
  },
  {
   "cell_type": "code",
   "execution_count": 31,
   "metadata": {
    "ExecuteTime": {
     "end_time": "2020-09-04T13:05:34.984835Z",
     "start_time": "2020-09-04T13:05:34.960230Z"
    }
   },
   "outputs": [],
   "source": [
    "srs = {'First decile': 'p10uwe', 'First quartile': 'p25uwe', 'Median': 'p50uwe', \n",
    "       'Third quartile': 'p75uwe', 'Ninth decile': 'p90uwe'}\n",
    "df = (pd.read_csv(data_dir / 'jobs_report_main2.csv', parse_dates=['date'])\n",
    "        .set_index('date')).loc['2000':, srs.values()].dropna()\n",
    "\n",
    "final = pd.DataFrame()\n",
    "for i in [-1, -2, -3, -4, -5, -9, -13, -17, -21]:\n",
    "    final[dtxt(df.index[i])['qtr1']] = df.pct_change(4).iloc[i] * 100\n",
    "\n",
    "final.index = srs.keys()\n",
    "final.round(1).to_csv(data_dir / 'wage_dist_bls.tex', sep='&', line_terminator='\\\\\\ ', quotechar=' ')\n",
    "\n",
    "final = pd.DataFrame()\n",
    "for i in [-1, -2, -3, -4, -5, -9, -13, -17, -21]:\n",
    "    final[dtxt(df.index[i])['qtr1']] = df.iloc[i]\n",
    "\n",
    "final.index = srs.keys()\n",
    "final.round(0).astype('int').to_csv(data_dir / 'wage_dist_bls2.tex', sep='&', \n",
    "                                    line_terminator='\\\\\\ ', quotechar=' ')"
   ]
  },
  {
   "cell_type": "code",
   "execution_count": null,
   "metadata": {},
   "outputs": [],
   "source": []
  },
  {
   "cell_type": "code",
   "execution_count": null,
   "metadata": {},
   "outputs": [],
   "source": []
  },
  {
   "cell_type": "markdown",
   "metadata": {},
   "source": [
    "### Average Hourly Earnings"
   ]
  },
  {
   "cell_type": "code",
   "execution_count": 32,
   "metadata": {
    "ExecuteTime": {
     "end_time": "2020-09-04T13:05:37.534237Z",
     "start_time": "2020-09-04T13:05:37.513489Z"
    }
   },
   "outputs": [
    {
     "data": {
      "text/plain": [
       "'Over the year ending August 2020, nominal wages increased by 4.7 percent for all employees (see {\\\\color{magenta}\\\\textbf{---}}) and increased by 4.9 percent for production and non-supervisory workers (see {\\\\color{blue!80!black}\\\\textbf{---}}), according to the Bureau of Labor Statistics. Comparing the latest three months to the previous three months, nominal wages decreased at an annual rate of 1.2 percent for all employees and decreased at an annual rate of 0.1 percent for production and non-supervisory employees.'"
      ]
     },
     "execution_count": 32,
     "metadata": {},
     "output_type": "execute_result"
    }
   ],
   "source": [
    "df = (pd.read_csv(data_dir / 'jobs_report_main2.csv', parse_dates=['date'])\n",
    "        .set_index('date'))\n",
    "data = (df[['ALL', 'PNS']].pct_change(12) * 100).loc['1989':]\n",
    "data.to_csv(data_dir / 'ahe.csv', index_label='date')\n",
    "\n",
    "ldate = dtxt(data.index[-1])['mon1']\n",
    "alllt = data['ALL'].iloc[-1]\n",
    "all_lt = f'{[\"increased\" if alllt >= 0 else \"decreased\"][0]} by {abs(alllt):.1f} percent'\n",
    "pnslt = data['PNS'].iloc[-1]\n",
    "pns_lt = f'{[\"increased\" if pnslt >= 0 else \"decreased\"][0]} by {abs(pnslt):.1f} percent'\n",
    "\n",
    "s = series_info(df['ALL'])\n",
    "all3m = (((s['last_3m'] / s['prev_3m'])**4) - 1) * 100\n",
    "all_3m = f'{[\"increased\" if all3m >= 0 else \"decreased\"][0]} at an annual rate of {abs(all3m):.1f} percent'\n",
    "\n",
    "s = series_info(df['PNS'])\n",
    "pns3m = (((s['last_3m'] / s['prev_3m'])**4) - 1) * 100\n",
    "pns_3m = f'{[\"increased\" if pns3m >= 0 else \"decreased\"][0]} at an annual rate of {abs(pns3m):.1f} percent'\n",
    "\n",
    "text = (f'Over the year ending {ldate}, nominal wages {all_lt} '+\n",
    "        'for all employees (see {\\color{magenta}\\\\textbf{---}}) '+\n",
    "        f'and {pns_lt} for production and non-supervisory workers '+\n",
    "        '(see {\\color{blue!80!black}\\\\textbf{---}}), according to the '+\n",
    "        'Bureau of Labor Statistics. Comparing the latest '+\n",
    "        f'three months to the previous three months, nominal wages {all_3m} '+\n",
    "        f'for all employees and {pns_3m} for production and non-supervisory '+\n",
    "        'employees.')\n",
    "\n",
    "write_txt(text_dir / 'ahe_summary.txt', text)\n",
    "\n",
    "text"
   ]
  },
  {
   "cell_type": "code",
   "execution_count": null,
   "metadata": {},
   "outputs": [],
   "source": []
  },
  {
   "cell_type": "code",
   "execution_count": null,
   "metadata": {},
   "outputs": [],
   "source": []
  },
  {
   "cell_type": "markdown",
   "metadata": {},
   "source": [
    "### AHE by Industry"
   ]
  },
  {
   "cell_type": "code",
   "execution_count": 33,
   "metadata": {
    "ExecuteTime": {
     "end_time": "2020-09-04T13:05:40.481393Z",
     "start_time": "2020-09-04T13:05:39.784310Z"
    }
   },
   "outputs": [
    {
     "name": "stdout",
     "output_type": "stream",
     "text": [
      "Post Request Status: REQUEST_SUCCEEDED\n"
     ]
    }
   ],
   "source": [
    "series = {'CES3000000008': 'Manufacturing',\n",
    "          'CES1000000008': 'Mining \\& Logging',\n",
    "          'CES4422000008': 'Utilities',\n",
    "          'CES4142000008': 'Wholesale Trade',\n",
    "          'CES5000000008': 'Information',\n",
    "          'CES5500000008': 'Financial Activities',\n",
    "          'CES6000000008': 'Professional \\& Business Services',\n",
    "          'CES6500000008': 'Education \\& Health Services',\n",
    "          'CES0500000008': 'Total Private',\n",
    "          'CES2000000008': 'Construction',\n",
    "          'CES7000000008': 'Leisure \\& Hospitality',\n",
    "          'CES4300000008': 'Transportation \\& Warehousing',\n",
    "          'CES4200000008': 'Retail Trade'}\n",
    "\n",
    "years = (2017, 2020)\n",
    "df = bls_api(series, years, bls_key)"
   ]
  },
  {
   "cell_type": "code",
   "execution_count": 34,
   "metadata": {
    "ExecuteTime": {
     "end_time": "2020-09-04T13:05:42.901623Z",
     "start_time": "2020-09-04T13:05:42.892245Z"
    }
   },
   "outputs": [
    {
     "name": "stdout",
     "output_type": "stream",
     "text": [
      "By industry, 11 of 12 groups experienced real wage growth (wage growth above the increase in prices indicated by the consumer price index). The retail trade industry had the fastest nominal growth rate, at 7.8 percent, followed by 6.0 percent in information and 5.4 percent in financial activities. \n",
      "\\noindent \\hspace*{-2mm} \\begin{tikzpicture}\\begin{axis}[\\barplotnogrid axis y line=left, \\barylab{4.0cm}{1.5ex}width=5.9cm, bar width=1.8ex, height=7.2cm, xtick={0}, xmajorgrids,enlarge y limits={abs=3mm}, enlarge x limits=0.1, xmin=-1.0,\\dbar{x}{1.03}, clip=false,yticklabels from table={\\ahe}{name},yticklabel style={font=\\footnotesize},nodes near coords style={/pgf/number format/.cd, fixed zerofill,precision=1, assume math mode}]\\addplot[fill=blue!80!black, draw=none] table [y expr=-\\coordindex, x index=1] {\\ahe};\\node[right] at (1.03, -12.6) {\\footnotesize \\textcolor{black!80}{CPI}};\\end{axis}\\end{tikzpicture}\\\\ \\footnotesize{Source: Bureau of Labor Statistics} \\hspace{38mm} \\tbllink{ahe_ind.csv}\n"
     ]
    }
   ],
   "source": [
    "s = pd.read_csv(data_dir / 'cpi.csv')\n",
    "allitems = s['ALL'].iloc[-1]\n",
    "data = (df.pct_change(12).iloc[-1] * 100.0).sort_values(ascending=False)\n",
    "\n",
    "(data.to_csv(data_dir / 'ahe_ind.csv', index_label='name', header=True))\n",
    "\n",
    "write_txt(text_dir / 'ahe_bar_date.txt', df.index[-1].strftime('%B %Y'))\n",
    "\n",
    "real = (data - allitems).drop('Total Private')\n",
    "ltd = {i: (data.index[i].lower(), data.iloc[i]) for i in [0, 1, 2]}\n",
    "\n",
    "txt1 = (f'By industry, {len(real.loc[real > 0])} of {len(real)} groups '+\n",
    "         'experienced real wage growth (wage growth above the increase in '+\n",
    "        f'prices indicated by the consumer price index). The {ltd[0][0]} '+\n",
    "        f'industry had the fastest nominal growth rate, at {ltd[0][1]:.1f} percent, followed '+\n",
    "        f'by {ltd[1][1]:.1f} percent in {ltd[1][0]} and {ltd[2][1]:.1f} percent in {ltd[2][0]}. ')\n",
    "write_txt(text_dir / 'ahe_comp.txt', txt1)\n",
    "print(txt1)\n",
    "\n",
    "text = ('\\\\noindent \\hspace*{-2mm} \\\\begin{tikzpicture}'+\n",
    "        '\\\\begin{axis}[\\\\barplotnogrid axis y line=left, \\\\barylab{4.0cm}{1.5ex}'+\n",
    "        'width=5.9cm, bar width=1.8ex, height=7.2cm, xtick={0}, xmajorgrids,'+\n",
    "        'enlarge y limits={abs=3mm}, enlarge x limits=0.1, xmin=-1.0,'+\n",
    "        f'\\dbar{{x}}{{{allitems:.2f}}}, clip=false,'+\n",
    "        'yticklabels from table={\\\\ahe}{name},'+\n",
    "        'yticklabel style={font=\\\\footnotesize},'+\n",
    "        'nodes near coords style={/pgf/number format/.cd, fixed zerofill,'+\n",
    "        'precision=1, assume math mode}]'+\n",
    "        '\\\\addplot[fill=blue!80!black, draw=none] '+\n",
    "        'table [y expr=-\\coordindex, x index=1] {\\\\ahe};'+\n",
    "        f'\\\\node[right] at ({allitems:.2f}, -12.6) {{\\\\footnotesize \\\\textcolor{{black!80}}{{CPI}}}};'+\n",
    "        '\\end{axis}'+\n",
    "        '\\end{tikzpicture}\\\\\\ '+\n",
    "        '\\\\footnotesize{Source: Bureau of Labor Statistics} \\hspace{38mm} \\\\tbllink{ahe_ind.csv}')\n",
    "write_txt(text_dir / 'ahe_chart.txt', text)\n",
    "print(text)"
   ]
  },
  {
   "cell_type": "code",
   "execution_count": null,
   "metadata": {},
   "outputs": [],
   "source": []
  },
  {
   "cell_type": "code",
   "execution_count": null,
   "metadata": {},
   "outputs": [],
   "source": []
  },
  {
   "cell_type": "code",
   "execution_count": null,
   "metadata": {},
   "outputs": [],
   "source": []
  },
  {
   "cell_type": "markdown",
   "metadata": {},
   "source": [
    "### CES data"
   ]
  },
  {
   "cell_type": "code",
   "execution_count": 35,
   "metadata": {
    "ExecuteTime": {
     "end_time": "2020-09-04T13:05:48.357977Z",
     "start_time": "2020-09-04T13:05:46.826582Z"
    }
   },
   "outputs": [
    {
     "name": "stdout",
     "output_type": "stream",
     "text": [
      "Post Request Status: REQUEST_SUCCEEDED\n"
     ]
    }
   ],
   "source": [
    "series = {'CES0000000001': 'ALL',\n",
    "          'LNU00000000': 'TOT',\n",
    "          'CES3000000001': 'Manufacturing',\n",
    "          'CES1000000001': 'Mining \\& Logging',\n",
    "          'CES4422000001': 'Utilities',\n",
    "          'CES4142000001': 'Wholesale Trade',\n",
    "          'CES5000000001': 'Information',\n",
    "          'CES5500000001': 'Financial Activities',\n",
    "          'CES6000000001': 'Professional \\& Business Serv.',\n",
    "          'CES6500000001': 'Education \\& Health Services',\n",
    "          'CES0500000001': 'Total Private',\n",
    "          'CES2000000001': 'Construction',\n",
    "          'CES7000000001': 'Leisure \\& Hospitality',\n",
    "          'CES4300000001': 'Transportation \\& Warehousing',\n",
    "          'CES4200000001': 'Retail Trade',\n",
    "          'CES9000000001': 'Government'}\n",
    "years = (2011, 2020)\n",
    "df = bls_api(series, years, bls_key)\n",
    "df.to_csv(data_dir / 'ces_data.csv', index_label='date')"
   ]
  },
  {
   "cell_type": "code",
   "execution_count": 36,
   "metadata": {
    "ExecuteTime": {
     "end_time": "2020-09-04T13:05:50.780268Z",
     "start_time": "2020-09-04T13:05:50.769648Z"
    }
   },
   "outputs": [],
   "source": [
    "# Bar chart\n",
    "df = pd.read_csv(data_dir / 'ces_data.csv').set_index('date')\n",
    "data = df['ALL'].diff().loc['2014':]\n",
    "data.div(1000).to_csv(data_dir / 'nfp.csv', index_label='date', header='ALL')\n",
    "ldate = dtxt(data.index[-1])['mon1']\n",
    "pdate = dtxt(data.index[-2])['mon1']\n",
    "\n",
    "lval = data.iloc[-1]\n",
    "if lval > 0:\n",
    "    lvaltxt = 'added'\n",
    "else:\n",
    "    lvaltxt = 'lost'\n",
    "pval = data.iloc[-2]\n",
    "if pval > 0:\n",
    "    pvaltxt = 'added'\n",
    "else:\n",
    "    pvaltxt = 'lost'\n",
    "l3val = data.iloc[-3:].mean()\n",
    "if l3val > 0:\n",
    "    l3valtxt = 'added'\n",
    "else:\n",
    "    l3valtxt = 'lost'\n",
    "\n",
    "emp = df.loc['2012':, 'ALL']\n",
    "tot = df.loc['2012':, 'TOT']\n",
    "\n",
    "final2 = (((emp / tot).shift(1) * tot).round(-3) / 1000).rolling(12).mean()\n",
    "final2.to_csv(data_dir / 'nfp_pop.csv', index_label='date', header=['TOT'])\n",
    "\n",
    "lpop = final2.iloc[-3:].mean()"
   ]
  },
  {
   "cell_type": "code",
   "execution_count": 37,
   "metadata": {
    "ExecuteTime": {
     "end_time": "2020-09-04T13:05:51.681791Z",
     "start_time": "2020-09-04T13:05:51.678364Z"
    }
   },
   "outputs": [
    {
     "data": {
      "text/plain": [
       "'The US economy added 1,371,000 jobs in August 2020, compared to 1,734,000 added in July 2020, and an average of 2,629,000 added over the past three months. Over the same three months, the US needed to add an average of 147,000 jobs per month to maintain a steady employment rate.'"
      ]
     },
     "execution_count": 37,
     "metadata": {},
     "output_type": "execute_result"
    }
   ],
   "source": [
    "text = (f'The US economy {lvaltxt} {abs(lval):,.0f},000 jobs in {ldate}, compared to '+\n",
    "        f'{abs(pval):,.0f},000 {pvaltxt} in {pdate}, and an average of '+\n",
    "        f'{abs(l3val):,.0f},000 {l3valtxt} over '+\n",
    "        'the past three months. Over the same three months, the US needed to '+\n",
    "        f'add an average of {lpop:.0f},000 jobs per month to maintain a steady '+\n",
    "        'employment rate.')\n",
    "\n",
    "write_txt(text_dir / 'nfp_basic_text.txt', text)\n",
    "\n",
    "text"
   ]
  },
  {
   "cell_type": "code",
   "execution_count": 38,
   "metadata": {
    "ExecuteTime": {
     "end_time": "2020-09-04T13:05:54.621400Z",
     "start_time": "2020-09-04T13:05:54.605206Z"
    }
   },
   "outputs": [
    {
     "data": {
      "text/html": [
       "<div>\n",
       "<style scoped>\n",
       "    .dataframe tbody tr th:only-of-type {\n",
       "        vertical-align: middle;\n",
       "    }\n",
       "\n",
       "    .dataframe tbody tr th {\n",
       "        vertical-align: top;\n",
       "    }\n",
       "\n",
       "    .dataframe thead th {\n",
       "        text-align: right;\n",
       "    }\n",
       "</style>\n",
       "<table border=\"1\" class=\"dataframe\">\n",
       "  <thead>\n",
       "    <tr style=\"text-align: right;\">\n",
       "      <th></th>\n",
       "      <th>Aug 2020</th>\n",
       "      <th>Aug 2019</th>\n",
       "      <th>Aug `20</th>\n",
       "      <th>Jul `20</th>\n",
       "      <th>Jun `20</th>\n",
       "      <th>May `20</th>\n",
       "      <th>Apr `20</th>\n",
       "    </tr>\n",
       "  </thead>\n",
       "  <tbody>\n",
       "    <tr>\n",
       "      <th>Mining \\&amp; Logging</th>\n",
       "      <td>617</td>\n",
       "      <td>731</td>\n",
       "      <td>-2</td>\n",
       "      <td>-7</td>\n",
       "      <td>-7</td>\n",
       "      <td>-20</td>\n",
       "      <td>-53</td>\n",
       "    </tr>\n",
       "    <tr>\n",
       "      <th>Utilities</th>\n",
       "      <td>539</td>\n",
       "      <td>548</td>\n",
       "      <td>0</td>\n",
       "      <td>0</td>\n",
       "      <td>-2</td>\n",
       "      <td>-1</td>\n",
       "      <td>-3</td>\n",
       "    </tr>\n",
       "    <tr>\n",
       "      <th>Wholesale Trade</th>\n",
       "      <td>5606</td>\n",
       "      <td>5906</td>\n",
       "      <td>13</td>\n",
       "      <td>-19</td>\n",
       "      <td>51</td>\n",
       "      <td>23</td>\n",
       "      <td>-385</td>\n",
       "    </tr>\n",
       "    <tr>\n",
       "      <th>Information</th>\n",
       "      <td>2582</td>\n",
       "      <td>2861</td>\n",
       "      <td>15</td>\n",
       "      <td>-9</td>\n",
       "      <td>7</td>\n",
       "      <td>-40</td>\n",
       "      <td>-279</td>\n",
       "    </tr>\n",
       "    <tr>\n",
       "      <th>Construction</th>\n",
       "      <td>7214</td>\n",
       "      <td>7508</td>\n",
       "      <td>16</td>\n",
       "      <td>27</td>\n",
       "      <td>159</td>\n",
       "      <td>456</td>\n",
       "      <td>-1018</td>\n",
       "    </tr>\n",
       "    <tr>\n",
       "      <th>Manufacturing</th>\n",
       "      <td>12132</td>\n",
       "      <td>12848</td>\n",
       "      <td>29</td>\n",
       "      <td>41</td>\n",
       "      <td>333</td>\n",
       "      <td>240</td>\n",
       "      <td>-1317</td>\n",
       "    </tr>\n",
       "    <tr>\n",
       "      <th>Financial Activities</th>\n",
       "      <td>8654</td>\n",
       "      <td>8768</td>\n",
       "      <td>36</td>\n",
       "      <td>13</td>\n",
       "      <td>20</td>\n",
       "      <td>19</td>\n",
       "      <td>-261</td>\n",
       "    </tr>\n",
       "    <tr>\n",
       "      <th>Transportation \\&amp; Warehousing</th>\n",
       "      <td>5297</td>\n",
       "      <td>5618</td>\n",
       "      <td>78</td>\n",
       "      <td>48</td>\n",
       "      <td>87</td>\n",
       "      <td>-25</td>\n",
       "      <td>-559</td>\n",
       "    </tr>\n",
       "    <tr>\n",
       "      <th>Education \\&amp; Health Services</th>\n",
       "      <td>23129</td>\n",
       "      <td>24262</td>\n",
       "      <td>147</td>\n",
       "      <td>222</td>\n",
       "      <td>567</td>\n",
       "      <td>388</td>\n",
       "      <td>-2603</td>\n",
       "    </tr>\n",
       "    <tr>\n",
       "      <th>Leisure \\&amp; Hospitality</th>\n",
       "      <td>12728</td>\n",
       "      <td>16570</td>\n",
       "      <td>174</td>\n",
       "      <td>621</td>\n",
       "      <td>1979</td>\n",
       "      <td>1405</td>\n",
       "      <td>-7575</td>\n",
       "    </tr>\n",
       "    <tr>\n",
       "      <th>Professional \\&amp; Business Serv.</th>\n",
       "      <td>20075</td>\n",
       "      <td>21377</td>\n",
       "      <td>197</td>\n",
       "      <td>153</td>\n",
       "      <td>311</td>\n",
       "      <td>160</td>\n",
       "      <td>-2202</td>\n",
       "    </tr>\n",
       "    <tr>\n",
       "      <th>Retail Trade</th>\n",
       "      <td>15016</td>\n",
       "      <td>15613</td>\n",
       "      <td>248</td>\n",
       "      <td>236</td>\n",
       "      <td>858</td>\n",
       "      <td>385</td>\n",
       "      <td>-2299</td>\n",
       "    </tr>\n",
       "    <tr>\n",
       "      <th>Government</th>\n",
       "      <td>21914</td>\n",
       "      <td>22637</td>\n",
       "      <td>344</td>\n",
       "      <td>253</td>\n",
       "      <td>52</td>\n",
       "      <td>-511</td>\n",
       "      <td>-952</td>\n",
       "    </tr>\n",
       "    <tr>\n",
       "      <th>\\textbf{Total}</th>\n",
       "      <td>140914</td>\n",
       "      <td>151160</td>\n",
       "      <td>1371</td>\n",
       "      <td>1734</td>\n",
       "      <td>4781</td>\n",
       "      <td>2725</td>\n",
       "      <td>-20787</td>\n",
       "    </tr>\n",
       "  </tbody>\n",
       "</table>\n",
       "</div>"
      ],
      "text/plain": [
       "                                Aug 2020  Aug 2019  Aug `20  Jul `20  Jun `20  \\\n",
       "Mining \\& Logging                    617       731       -2       -7       -7   \n",
       "Utilities                            539       548        0        0       -2   \n",
       "Wholesale Trade                     5606      5906       13      -19       51   \n",
       "Information                         2582      2861       15       -9        7   \n",
       "Construction                        7214      7508       16       27      159   \n",
       "Manufacturing                      12132     12848       29       41      333   \n",
       "Financial Activities                8654      8768       36       13       20   \n",
       "Transportation \\& Warehousing       5297      5618       78       48       87   \n",
       "Education \\& Health Services       23129     24262      147      222      567   \n",
       "Leisure \\& Hospitality             12728     16570      174      621     1979   \n",
       "Professional \\& Business Serv.     20075     21377      197      153      311   \n",
       "Retail Trade                       15016     15613      248      236      858   \n",
       "Government                         21914     22637      344      253       52   \n",
       "\\textbf{Total}                    140914    151160     1371     1734     4781   \n",
       "\n",
       "                                May `20  Apr `20  \n",
       "Mining \\& Logging                   -20      -53  \n",
       "Utilities                            -1       -3  \n",
       "Wholesale Trade                      23     -385  \n",
       "Information                         -40     -279  \n",
       "Construction                        456    -1018  \n",
       "Manufacturing                       240    -1317  \n",
       "Financial Activities                 19     -261  \n",
       "Transportation \\& Warehousing       -25     -559  \n",
       "Education \\& Health Services        388    -2603  \n",
       "Leisure \\& Hospitality             1405    -7575  \n",
       "Professional \\& Business Serv.      160    -2202  \n",
       "Retail Trade                        385    -2299  \n",
       "Government                         -511     -952  \n",
       "\\textbf{Total}                     2725   -20787  "
      ]
     },
     "execution_count": 38,
     "metadata": {},
     "output_type": "execute_result"
    }
   ],
   "source": [
    "data = (pd.read_csv(data_dir / 'ces_data.csv')\n",
    "          .set_index('date')\n",
    "          .drop(['TOT', 'Total Private'], axis=1)\n",
    "          .rename({'ALL': '\\\\textbf{Total}'}, axis=1))\n",
    "\n",
    "final = pd.DataFrame()\n",
    "for i in [-1, -13]:\n",
    "    final[dtxt(data.index[i])['mon2']] = data.iloc[i]\n",
    "for i in [-1, -2, -3, -4, -5]:\n",
    "    final[dtxt(data.index[i])['mon6']] = data.diff().iloc[i]\n",
    "\n",
    "final = final.sort_values(dtxt(data.index[-1])['mon6'], ascending=True).astype(int)\n",
    "final.to_csv(data_dir / 'nfp.tex', sep='&', line_terminator='\\\\\\ ', quotechar=' ')\n",
    "\n",
    "final"
   ]
  },
  {
   "cell_type": "code",
   "execution_count": null,
   "metadata": {},
   "outputs": [],
   "source": []
  },
  {
   "cell_type": "code",
   "execution_count": null,
   "metadata": {},
   "outputs": [],
   "source": []
  },
  {
   "cell_type": "markdown",
   "metadata": {},
   "source": [
    "### Government Jobs"
   ]
  },
  {
   "cell_type": "code",
   "execution_count": 39,
   "metadata": {
    "ExecuteTime": {
     "end_time": "2020-09-04T13:05:57.957884Z",
     "start_time": "2020-09-04T13:05:57.939693Z"
    }
   },
   "outputs": [
    {
     "name": "stdout",
     "output_type": "stream",
     "text": [
      "In August 2020, there were 21.9 million government jobs, equivalent to 8.4 percent of the age 16+ population (see {\\color{blue!50!cyan}\\textbf{---}}). The previous year, in August 2019, there were 22.6 million government jobs, equivalent to 8.7 percent of the age 16 or older population. Since February 2020, the US has lost 831,000 total government jobs. \n"
     ]
    }
   ],
   "source": [
    "df1 = (pd.read_csv(data_dir / 'jobs_report_main.csv', parse_dates=['date'])\n",
    "        .set_index('date'))\n",
    "\n",
    "df2 = (pd.read_csv(data_dir / 'jobs_report_main2.csv', parse_dates=['date'])\n",
    "        .set_index('date'))\n",
    "\n",
    "gj = df2['govjobs']\n",
    "data = ((gj / df1['POP']) * 100)\n",
    "data.name = 'GOVJOBS'\n",
    "data.to_csv(data_dir / 'govjobs.csv', index_label='date', header=True)\n",
    "node = end_node(data, 'blue!50!cyan', date=True)\n",
    "write_txt(text_dir / 'govjobs_node.txt', node)\n",
    "\n",
    "ltdate = dtxt(gj.index[-1])['mon1']\n",
    "pryrdate = dtxt(gj.index[-13])['mon1']\n",
    "\n",
    "ltval = gj.iloc[-1] / 1000 \n",
    "pryrval = gj.iloc[-13] / 1000 \n",
    "ltsh = data.iloc[-1]\n",
    "pryrsh = data.iloc[-13]\n",
    "\n",
    "diff = gj.iloc[-1] - gj.loc['2020-02-01']\n",
    "if diff > 900:\n",
    "    difftxt = f'gained {diff / 1000:.1f} million'\n",
    "elif diff > 0:\n",
    "    difftxt = f'gained {diff:.0f},000'\n",
    "elif diff < -900:\n",
    "    difftxt = f'lost {abs(diff) / 1000:.1f} million'\n",
    "else:\n",
    "    difftxt = f'lost {abs(diff):.0f},000'\n",
    "    \n",
    "text = (f'In {ltdate}, there were {ltval:.1f} million government jobs, '+\n",
    "        f'equivalent to {ltsh:.1f} percent of the age 16+ population '+\n",
    "        '(see {\\color{blue!50!cyan}\\\\textbf{---}}). The previous year, in '+\n",
    "        f'{pryrdate}, there were {pryrval:.1f} million government jobs, '+\n",
    "        f'equivalent to {pryrsh:.1f} percent of the age 16 or older population. '+\n",
    "        f'Since February 2020, the US has {difftxt} total government jobs. ')\n",
    "write_txt(text_dir / 'govjobs.txt', text)\n",
    "print(text)"
   ]
  },
  {
   "cell_type": "code",
   "execution_count": null,
   "metadata": {},
   "outputs": [],
   "source": []
  },
  {
   "cell_type": "code",
   "execution_count": null,
   "metadata": {},
   "outputs": [],
   "source": []
  }
 ],
 "metadata": {
  "kernelspec": {
   "display_name": "Python 3",
   "language": "python",
   "name": "python3"
  },
  "language_info": {
   "codemirror_mode": {
    "name": "ipython",
    "version": 3
   },
   "file_extension": ".py",
   "mimetype": "text/x-python",
   "name": "python",
   "nbconvert_exporter": "python",
   "pygments_lexer": "ipython3",
   "version": "3.8.5"
  }
 },
 "nbformat": 4,
 "nbformat_minor": 2
}
