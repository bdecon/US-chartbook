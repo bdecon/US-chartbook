{
 "cells": [
  {
   "cell_type": "markdown",
   "metadata": {},
   "source": [
    "# Local Area Unemployment and Employment Statistics\n"
   ]
  },
  {
   "cell_type": "code",
   "execution_count": 1,
   "metadata": {
    "ExecuteTime": {
     "end_time": "2022-02-25T14:33:36.691305Z",
     "start_time": "2022-02-25T14:33:35.994281Z"
    }
   },
   "outputs": [],
   "source": [
    "import sys\n",
    "sys.path.append('../src')\n",
    "\n",
    "import requests\n",
    "\n",
    "import uschartbook.config\n",
    "\n",
    "from uschartbook.config import *\n",
    "from uschartbook.utils import *\n",
    "\n",
    "# Import libraries and adjust settings\n",
    "%matplotlib inline\n",
    "\n",
    "import matplotlib.pyplot as plt\n",
    "from mpl_toolkits.basemap import Basemap\n",
    "from matplotlib.patches import Polygon\n",
    "from mpl_toolkits.axes_grid1.inset_locator import inset_axes\n",
    "from matplotlib.patches import Rectangle\n",
    "from matplotlib.colors import Normalize\n",
    "plt.rc('font', family='Lato')\n",
    "\n",
    "# CSV file contains city names, their BLS codes (Metropolitan \n",
    "# MTAs/NECTAs only), and their latitude and longitude\n",
    "MSA = pd.read_csv('shapefiles/MSA.csv')"
   ]
  },
  {
   "cell_type": "markdown",
   "metadata": {},
   "source": [
    "### MSA-level unemployment change"
   ]
  },
  {
   "cell_type": "code",
   "execution_count": 13,
   "metadata": {
    "ExecuteTime": {
     "end_time": "2022-02-25T14:37:09.253319Z",
     "start_time": "2022-02-25T14:37:06.294886Z"
    }
   },
   "outputs": [
    {
     "name": "stdout",
     "output_type": "stream",
     "text": [
      "Latest: December 2021\n"
     ]
    }
   ],
   "source": [
    "# BLS flat file contains the unemployment rate by month since 2015\n",
    "url = 'https://download.bls.gov/pub/time.series/la/la.data.60.Metro'\n",
    "df = pd.read_table(url, sep='\\s+', dtype='object')\n",
    "date = lambda x: x['year'].astype('str') + '-' + x['period'].str[1:] + '-01'\n",
    "\n",
    "data = (df[df['series_id'].isin(MSA['fullcode']) & ~df['period'].isin(['M13'])]\n",
    "          .assign(DATE = date)\n",
    "          .set_index(['series_id','DATE'])\n",
    "          .value).unstack().T.dropna().astype('float')\n",
    "data.to_csv(data_dir / 'msa_unemp_raw.csv', index_label='date')\n",
    "\n",
    "lfs = [f'{c[:-1]}6' for c in MSA.fullcode]\n",
    "data2 = (df.query('series_id in @lfs and period != \"M13\"')\n",
    "         .assign(DATE = date).set_index(['series_id','DATE'])\n",
    "         .value).unstack().T.dropna().astype('float')\n",
    "data2.to_csv(data_dir / 'msa_lf_raw.csv', index_label='date')\n",
    "\n",
    "print('Latest:', dtxt(data.index[-1])['mon1'])"
   ]
  },
  {
   "cell_type": "code",
   "execution_count": 14,
   "metadata": {
    "ExecuteTime": {
     "end_time": "2022-02-25T14:37:11.499930Z",
     "start_time": "2022-02-25T14:37:11.425517Z"
    },
    "code_folding": []
   },
   "outputs": [],
   "source": [
    "data = pd.read_csv(data_dir / 'msa_unemp_raw.csv', \n",
    "                   index_col='date', parse_dates=True)\n",
    "ltdt = dtxt(data.index[-1])['mon1']\n",
    "pr = -37 if data.index[-1] >= pd.to_datetime('2022-03-01') else -25\n",
    "prtxt = 'three' if pr == -37 else 'two'\n",
    "lt = data.iloc[-1].rename('latest')\n",
    "pc = data.iloc[pr].rename('precov')\n",
    "ch = (data.iloc[-1] - data.iloc[pr]).rename('value')\n",
    "prdt = dtxt(data.index[pr])['mon1']\n",
    "write_txt(text_dir / 'unemp_map_date.txt', ' to '.join([prdt, ltdt]))\n",
    "ms = MSA.set_index('fullcode').join(ch).join(lt).join(pc)\n",
    "ms['color'] = np.where(ms.value > 0.2, 'blue', \n",
    "                       np.where(ms.value < -0.2, 'greenyellow', 'gray'))\n",
    "ms['size'] = np.where(abs(ms.value) > 0.2, (abs(ms.value*4)), 2)"
   ]
  },
  {
   "cell_type": "code",
   "execution_count": 48,
   "metadata": {
    "ExecuteTime": {
     "end_time": "2022-02-25T15:12:26.397419Z",
     "start_time": "2022-02-25T15:12:26.326325Z"
    }
   },
   "outputs": [
    {
     "name": "stdout",
     "output_type": "stream",
     "text": [
      "From December 2019 to December 2021, unemployment rates fell by 0.3 percentage point or more in 183 metro areas, and increased by 0.3 percentage point or more in 154 metro areas. Recent local unemployment rates were within 0.2 percentage points of their pre-pandemic level in 50 metro areas. \n"
     ]
    }
   ],
   "source": [
    "# Labor force size and change\n",
    "lf = pd.read_csv(data_dir / 'msa_lf_raw.csv', \n",
    "                   index_col='date', parse_dates=True)\n",
    "\n",
    "lfc = [f'{c[:-1]}3' for c in lf.columns]\n",
    "lf.columns = lfc\n",
    "lfl = MSA.set_index('fullcode').join(lf.iloc[-1].rename('labor_force'))\n",
    "lft = lfl.sort_values('labor_force', ascending=False)['labor_force']\n",
    "lfch = (lf.pct_change(abs(pr)).iloc[-1] * 100).rename('LFCH').round(1)\n",
    "\n",
    "cols = data.index[[-37, -25, -13, -4, -3, -2, -1]]\n",
    "colnames = [dtxt(i)['mon2'] for i in cols]\n",
    "r = data.loc[data.index[[-37, -25, -13, -4, -3, -2, -1]]].T\n",
    "r.columns = colnames\n",
    "pc = ((data.iloc[-1] - data.loc['2019'].mean())\n",
    "      .rename('Change since 2019'))\n",
    "m3lt = ((data.iloc[-3:].mean() - data.iloc[-6:-3].mean())\n",
    "        .rename(dtxt(data.index[-1])['mon2'] + ' 3M'))\n",
    "m3pr = ((data.iloc[-4:-1].mean() - data.iloc[-7:-4].mean())\n",
    "        .rename(dtxt(data.index[-2])['mon2'] + ' 3M'))\n",
    "m12 = data.diff(12).iloc[-2:].T\n",
    "m12.columns = [f'{i} 12M' for i in colnames[-2:]]\n",
    "if 'Apr 2020' not in colnames:\n",
    "    cov = data.loc['2020-04-01'].rename('Apr 2020')\n",
    "    r = r.join(cov)\n",
    "r = r.join(m3pr).join(m3lt).join(m12).join(pc).round(1).join(lft).join(lfch)\n",
    "final = MSA.set_index('fullcode')[['fullname', 'area_code']].join(r)\n",
    "final.to_csv(data_dir / 'msa_unemp_rate.csv', index_label='BLSID')\n",
    "\n",
    "incn = len(ch[ch > 0.2])\n",
    "decn = len(ch[ch < -0.2])\n",
    "samen = len(ch[(ch <= 0.2) & (ch >= -0.2)])\n",
    "text = (f'From {prdt} to {ltdt}, unemployment rates fell by 0.3 '+\n",
    "        f'percentage point or more in {decn} metro areas, and '+\n",
    "        f'increased by 0.3 percentage point or more in {incn} metro '+\n",
    "        'areas. Recent local unemployment rates were within 0.2 '+\n",
    "        'percentage points of their pre-pandemic level in '+\n",
    "        f'{samen} metro areas. ')\n",
    "write_txt(text_dir / 'msa_unemp_ch_n.txt', text)\n",
    "print(text)\n",
    "ms10 = (ms.join(lft).join(lfch).dropna()\n",
    "          .sort_values('labor_force', ascending=False).iloc[:11])"
   ]
  },
  {
   "cell_type": "code",
   "execution_count": 42,
   "metadata": {
    "ExecuteTime": {
     "end_time": "2022-02-25T15:05:09.849350Z",
     "start_time": "2022-02-25T15:05:07.289689Z"
    },
    "code_folding": []
   },
   "outputs": [
    {
     "data": {
      "image/png": "[encoded data removed]",
      "text/plain": [
       "<Figure size 468x576 with 2 Axes>"
      ]
     },
     "metadata": {
      "needs_background": "light"
     },
     "output_type": "display_data"
    }
   ],
   "source": [
    "# Map and legend settings\n",
    "fig, (ax, ax2) = plt.subplots(2, 1, gridspec_kw={'height_ratios': [5, 2.5]}, \n",
    "                              figsize=(6.5,8.0))\n",
    "m = Basemap(llcrnrlon=-119, llcrnrlat=20, urcrnrlon=-64, urcrnrlat=49,\n",
    "            projection='lcc', lat_1=33, lat_2=45, lon_0=-95)\n",
    "m.readshapefile('shapefiles/states', 'st', drawbounds=True, color='lightgrey', ax=ax)\n",
    "   \n",
    "for info, shape in zip(m.st_info, m.st):\n",
    "    if info['STATE_NAME'] == 'Hawaii':\n",
    "        shape2 = [[x + 5200000, y - 1400000] for x, y in shape]\n",
    "        ax.add_patch(Polygon(shape2, fc='white', ec='lightgray', lw=0.5)) \n",
    "    elif info['STATE_NAME'] == 'Alaska':\n",
    "        shape2 = [(x * 0.34 + 1200000, \n",
    "                  y * 0.34 - 1300000) for x, y in shape]\n",
    "        ax.add_patch(Polygon(shape2, fc='white', ec='lightgray', lw=0.5))    \n",
    "        \n",
    "# Plot each location, value, and color as identified in the previous section        \n",
    "for index, row in ms.iterrows():\n",
    "    x, y = m(row['longitude'], row['latitude'])\n",
    "    if row['fullname'].endswith('HI'):\n",
    "        x = x + 5200000\n",
    "        y = y - 1400000\n",
    "    if row['fullname'].endswith('AK'):\n",
    "        x = x * 0.34 + 1200000\n",
    "        y = y * 0.34 - 1300000\n",
    "    ax.plot(x, y, marker='o', color=row['color'], alpha=0.5, markersize=row['size'], \n",
    "           markeredgecolor='black', markeredgewidth=.25)\n",
    "\n",
    "plt.annotate('Legend:', xy=(0.43, 0.94), xycoords=ax, fontsize=8, \n",
    "             fontweight='bold')\n",
    "legs = [(0.53, 0.95, 'gray', 2, '+/- 0.2pp'), (0.685, 0.95, 'blue', 12, '+3.0pp'), \n",
    "        (0.685, 0.905, 'blue', 8, '+2.0pp'), (0.685, 0.86, 'blue', 4, '+1.0pp'),\n",
    "        (0.815, 0.95, 'greenyellow', 12, '-3.0pp'), \n",
    "        (0.815, 0.905, 'greenyellow', 8, '-2.0pp'), \n",
    "        (0.815, 0.86, 'greenyellow', 4, '-1.0pp')]\n",
    "\n",
    "for x, y, color, size, text in legs:\n",
    "    y2 = y - 0.005 if y == 0.905 else y\n",
    "    ax.plot(x, y2, marker='o', color=color, alpha=0.5, markersize=size, \n",
    "            markeredgecolor='black', markeredgewidth=.25, transform=ax.transAxes) \n",
    "    ax.annotate(text, xy=(x + 0.025, y * 0.99), xycoords=ax, fontsize=7)\n",
    "ax.axis('off')\n",
    "\n",
    "for i, row in ms10.reset_index().iterrows():\n",
    "    ax2.plot(0.135, 0.95 - (i / 11), marker='o', color=row['color'], \n",
    "             alpha=0.5, markersize=row['size'], markeredgecolor='black', \n",
    "             markeredgewidth=.25, transform=ax2.transAxes) \n",
    "    #val = f'{row[\"value\"]:.1f}pp' if round(abs(row['value']), 1) > 0 else 'unch.'\n",
    "    ax2.annotate(row['fullname'], xy=(0.16, 0.93 - (i / 11)), xycoords=ax2, fontsize=8)\n",
    "    ax2.annotate(row['latest'], xy=(0.37, 0.93 - (i / 11)), xycoords=ax2, fontsize=8)\n",
    "    ax2.annotate(row['precov'], xy=(0.49, 0.93 - (i / 11)), xycoords=ax2, fontsize=8)\n",
    "    pos = '+' if row['value'] > 0 else ''\n",
    "    val = f'{pos}{row[\"value\"]:.1f}' if round(abs(row['value']), 1) > 0.2 else 'unch.'\n",
    "    ax2.annotate(val, xy=(0.11, 0.93 - (i / 11)), xycoords=ax2, fontsize=8, ha='right')\n",
    "    lfv = f\"{round(row['labor_force'], -2):,.0f}\"\n",
    "    ax2.annotate(lfv, xy=(0.595, 0.93 - (i / 11)), xycoords=ax2, fontsize=8)\n",
    "    lfch = f\"{row['LFCH']:.1f}\"\n",
    "    ax2.annotate(lfch, xy=(0.81, 0.93 - (i / 11)), xycoords=ax2, fontsize=8, ha='right')\n",
    "    ax2.plot([0.16, 0.83], [0.91 - (i / 11)]*2, transform=ax2.transAxes, linewidth=0.25, \n",
    "               color='gainsboro')\n",
    "    #ax2.hlines(y=0.92 - (i / 11), xmin=0.11, xmax=0.85, linewidth=0.25, \n",
    "    #           color='lightgray', transform=ax2.transAxes)\n",
    "\n",
    "    \n",
    "ax2.axis('off')\n",
    "plt.subplots_adjust(wspace=0, hspace=0)\n",
    "plt.text(-0.051, 0.068, 'Largest MSAs:', weight='bold')\n",
    "mo1, mo2 = dtxt(lf.index[-1])['mon7'], dtxt(lf.index[pr])['mon7']\n",
    "header = (f'\\\\underline{{Core City}} \\ \\ \\ \\ \\ \\ \\ \\ \\\\underline{{{mo1}}}  '+\n",
    "          f'\\ \\ \\ \\ \\ \\  \\\\underline{{{mo2}}} \\ \\ \\ \\ \\ \\ \\\\underline{{Labor'+\n",
    "          ' Force} \\ \\ \\ \\ \\ \\ \\\\underline{Pct Ch*}')\n",
    "plt.text(-0.037, 0.057, header, fontsize=9, color='dimgray')\n",
    "\n",
    "plt.savefig(data_dir / 'unemp_msa.pgf', bbox_inches='tight')"
   ]
  },
  {
   "cell_type": "code",
   "execution_count": null,
   "metadata": {},
   "outputs": [],
   "source": []
  },
  {
   "cell_type": "code",
   "execution_count": null,
   "metadata": {},
   "outputs": [],
   "source": []
  },
  {
   "cell_type": "markdown",
   "metadata": {},
   "source": [
    "### State-level unemployment"
   ]
  },
  {
   "cell_type": "code",
   "execution_count": null,
   "metadata": {
    "ExecuteTime": {
     "end_time": "2022-02-16T04:23:13.628602Z",
     "start_time": "2022-02-16T04:23:12.479509Z"
    }
   },
   "outputs": [],
   "source": [
    "# Map settings\n",
    "m = Basemap(llcrnrlon=-121, llcrnrlat=20, urcrnrlon=-64, urcrnrlat=49,\n",
    "            projection='lcc', lat_1=33, lat_2=45, lon_0=-95)\n",
    "m.readshapefile('shapefiles/states', 'states', drawbounds=False);\n",
    "\n",
    "laus_raw_url = 'https://www.bls.gov/web/laus/ststdnsadata.txt'\n",
    "r = requests.get(laus_raw_url)\n",
    "raw_data = [line for line in r.text.split('\\n')[16:] if line[:2] != '\\r']"
   ]
  },
  {
   "cell_type": "code",
   "execution_count": null,
   "metadata": {
    "ExecuteTime": {
     "end_time": "2022-02-16T04:23:14.685091Z",
     "start_time": "2022-02-16T04:23:14.535540Z"
    }
   },
   "outputs": [],
   "source": [
    "epop, unrate = {}, {}\n",
    "\n",
    "for row in raw_data:\n",
    "    if row[:5] == '     ':\n",
    "        date_text = row.strip().replace('\\r', '')\n",
    "        date = pd.to_datetime(date_text)\n",
    "        epop[date], unrate[date] = {}, {}\n",
    "    if len(row) > 0:\n",
    "        if row[0] != ' ':\n",
    "            state = row.split('.')[0].strip()\n",
    "            unrate_val = float(row.split()[-1])\n",
    "            unrate[date][state] = unrate_val\n",
    "            epop_val = float(row.split()[-3])\n",
    "            epop[date][state] = epop_val"
   ]
  },
  {
   "cell_type": "code",
   "execution_count": null,
   "metadata": {
    "ExecuteTime": {
     "end_time": "2022-02-16T04:23:52.473183Z",
     "start_time": "2022-02-16T04:23:50.786779Z"
    }
   },
   "outputs": [],
   "source": [
    "data = pd.DataFrame(unrate).T\n",
    "\n",
    "states = list(set([i['STATE_NAME'] for i in m.states_info]))\n",
    "vmin=0\n",
    "vmax=18\n",
    "cmap = plt.cm.PiYG_r\n",
    "norm = Normalize(vmin=vmin, vmax=vmax)\n",
    "\n",
    "# Draw map\n",
    "fig, axes = plt.subplots(nrows=1, ncols=2, figsize=(7.0, 2.4))\n",
    "fig.tight_layout()\n",
    "\n",
    "for group, axval in [(-1, 0), (-13, 1)]:\n",
    "    plt.sca(axes[axval])\n",
    "    axes[axval].axis('off')\n",
    "    m.drawmapboundary()\n",
    "    \n",
    "    for info, shape in zip(m.states_info, m.states):\n",
    "        \n",
    "        fc = cmap(norm(data[info['STATE_NAME']].iloc[group]))\n",
    "        # Alaska and Hawaii moved\n",
    "        if info['STATE_NAME'] == 'Hawaii':\n",
    "            shape = [(x + 5200000, y - 1400000) for x,y in shape]\n",
    "        elif info['STATE_NAME'] == 'Alaska':\n",
    "            shape = [(x*0.35 + 1100000, y*0.35 - 1300000) for x,y in shape]\n",
    "        axes[axval].add_patch(Polygon(shape, fc=fc))\n",
    "    \n",
    "    date = dtxt(data.index[group])['mon1']\n",
    "    plt.text(0.4, 0.98, date, fontsize=9, \n",
    "             transform=axes[axval].transAxes)\n",
    "    \n",
    "ax_inset = inset_axes(axes[0], width='-30%', height='70%', loc=4, borderpad=0.5)\n",
    "for tick_label in [0, 2, 5, 10, 15, 18]:\n",
    "    plt.text(0.6, norm(tick_label), tick_label, fontsize=8, \n",
    "             ha='center', va='center', transform=ax_inset.transAxes)\n",
    "ax_inset.axis('off')\n",
    "\n",
    "# Draw custom legend\n",
    "for group, pt, pt2 in [(-1, 0.71, 0.8), (-13, 0.44, 0.4)]:\n",
    "    for i in np.linspace(0,18,56):\n",
    "        rect = Rectangle(xy=(pt, norm(i)), width=0.04, height=1/56, \n",
    "                         fc=cmap(norm(i)), ec=None)\n",
    "        ax_inset.add_patch(rect)    \n",
    "    \n",
    "    bins = pd.cut(data.iloc[group], np.linspace(0,18,54)).apply(lambda x: x.left)\n",
    "    res = data.iloc[group].groupby(bins).count()\n",
    "    for i, v in res.items():\n",
    "        if group == -1:\n",
    "            adj = (v / 50)\n",
    "        else:\n",
    "            adj = 0\n",
    "        if v > 0:\n",
    "            rect = Rectangle(xy=(pt2 + adj, norm(i)), width= -(v / 50), \n",
    "                             height=1/54, fc=cmap(norm(i)), ec=None)\n",
    "            ax_inset.add_patch(rect)    \n",
    "    \n",
    "plt.savefig('../chartbook/data/unemp_map.pgf', bbox_inches='tight')"
   ]
  },
  {
   "cell_type": "code",
   "execution_count": null,
   "metadata": {
    "ExecuteTime": {
     "end_time": "2022-02-16T04:24:00.987684Z",
     "start_time": "2022-02-16T04:24:00.974675Z"
    }
   },
   "outputs": [],
   "source": [
    "numbers = {0: 'no', 1: 'one', 2: 'two', 3: 'three', 4: 'four', 5: 'five', \n",
    "           6: 'six', 7: 'seven', 8: 'eight', 9: 'nine'}\n",
    "\n",
    "ltmonth = dtxt(data.index[-1])['mon1']\n",
    "prmonth = dtxt(data.index[-13])['mon1']\n",
    "d1 = data.iloc[-1].sort_values()\n",
    "dap = data.loc['2020-04-01'].sort_values()\n",
    "dpr = data.iloc[-13].sort_values()\n",
    "a10 = len(d1[d1 > 8])\n",
    "if a10 < 10:\n",
    "    a10 = numbers[a10]\n",
    "a10pr = len(dpr[dpr > 8])\n",
    "if a10pr < 10:\n",
    "    a10pr = numbers[a10pr]\n",
    "a10ap = len(dap[dap > 8])\n",
    "if a10ap < 10:\n",
    "    a10ap = numbers[a10ap] \n",
    "    \n",
    "a5pr = len(dpr[dpr > 5])\n",
    "if a5pr < 10:\n",
    "    a5pr = numbers[a5pr]\n",
    "    \n",
    "a5 = len(d1[d1 > 5])\n",
    "if a5 < 10:\n",
    "    a5 = numbers[a5]\n",
    "    \n",
    "h, l = {}, {}\n",
    "for i in [1, 2, 3]:\n",
    "    h[i] = f'{d1.index[-i]} ({d1.iloc[-i]}\\%)'\n",
    "    l[i] = f'{d1.index[i-1]} ({d1.iloc[i-1]}\\%)'\n",
    "    \n",
    "text = (f'In {ltmonth}, {a10} states had an unemployment rate '+\n",
    "        f'above eight percent, compared to {a10ap} states in April '+\n",
    "        f'2020. One year prior, in {prmonth}, {a10pr} states had '+\n",
    "        f'an unemployment rate above eight percent and {a5pr} states '+\n",
    "        f'had an unemployment rate above five percent. In {ltmonth}, '+\n",
    "        f'{a5} states have an unemployment rate above five percent.'+\n",
    "        '\\n\\nThe states with the highest unemployment rates in '+\n",
    "        f'{ltmonth} are {h[1]}, {h[2]}, and {h[3]}. The states with '+\n",
    "        f'the lowest unemployment rates are {l[1]}, {l[2]}, and {l[3]}.')\n",
    "write_txt(text_dir / 'state_unemp.txt', text)\n",
    "print(text)   "
   ]
  },
  {
   "cell_type": "code",
   "execution_count": null,
   "metadata": {},
   "outputs": [],
   "source": []
  },
  {
   "cell_type": "markdown",
   "metadata": {},
   "source": [
    "### Employment rate by state"
   ]
  },
  {
   "cell_type": "code",
   "execution_count": null,
   "metadata": {
    "ExecuteTime": {
     "end_time": "2022-02-05T21:00:42.898774Z",
     "start_time": "2022-02-05T21:00:42.199862Z"
    }
   },
   "outputs": [],
   "source": [
    "data = pd.DataFrame(epop).T\n",
    "vmin=data.min().min()\n",
    "vmax=data.max().max()\n",
    "cmap = plt.cm.plasma_r\n",
    "norm = Normalize(vmin=vmin, vmax=vmax)\n",
    "\n",
    "# Draw map\n",
    "fig, axes = plt.subplots(nrows=1, ncols=2, figsize=(7.0, 2.4))\n",
    "fig.tight_layout()\n",
    "\n",
    "for group, axval in [(-1, 0), (-13, 1)]:\n",
    "    plt.sca(axes[axval])\n",
    "    axes[axval].axis('off')\n",
    "    m.drawmapboundary()\n",
    "    \n",
    "    for info, shape in zip(m.states_info, m.states):\n",
    "        \n",
    "        fc = cmap(norm(data[info['STATE_NAME']].iloc[group]))\n",
    "        # Alaska and Hawaii moved\n",
    "        if info['STATE_NAME'] == 'Hawaii':\n",
    "            shape = [(x + 5200000, y - 1400000) for x,y in shape]\n",
    "        elif info['STATE_NAME'] == 'Alaska':\n",
    "            shape = [(x*0.35 + 1100000, y*0.35 - 1300000) for x,y in shape]\n",
    "        axes[axval].add_patch(Polygon(shape, fc=fc))\n",
    "    \n",
    "    date = dtxt(data.index[group])['mon1']\n",
    "    plt.text(0.42, 0.98, date, fontsize=9, \n",
    "             transform=axes[axval].transAxes)\n",
    "    \n",
    "ax_inset = inset_axes(axes[0], width='-30%', height='70%', loc=4, borderpad=0.5)\n",
    "for tick_label in [45, 50, 60, 70]:\n",
    "    plt.text(0.6, norm(tick_label), tick_label, fontsize=8, \n",
    "             ha='center', va='center', transform=ax_inset.transAxes)\n",
    "ax_inset.axis('off')\n",
    "\n",
    "# Draw custom legend\n",
    "for group, pt, pt2 in [(-1, 0.71, 0.8), (-13, 0.44, 0.4)]:\n",
    "    for i in np.linspace(45,70,40):\n",
    "        rect = Rectangle(xy=(pt, norm(i)), width=0.04, height=1/35, \n",
    "                         fc=cmap(norm(i)), ec=None)\n",
    "        ax_inset.add_patch(rect)    \n",
    "    \n",
    "    bins = pd.cut(data.iloc[group], np.linspace(45,70,33)).apply(lambda x: x.left)\n",
    "    res = data.iloc[group].groupby(bins).count()\n",
    "    for i, v in res.items():\n",
    "        if group == -1:\n",
    "            adj = (v / 50)\n",
    "        else:\n",
    "            adj = 0\n",
    "        if v > 0:\n",
    "            rect = Rectangle(xy=(pt2 + adj, norm(i)), width= -(v / 50), \n",
    "                             height=1/33, fc=cmap(norm(i)), ec=None)\n",
    "            ax_inset.add_patch(rect)    \n",
    "    \n",
    "plt.savefig('../chartbook/data/epop_map.pgf', bbox_inches='tight')"
   ]
  },
  {
   "cell_type": "code",
   "execution_count": null,
   "metadata": {
    "ExecuteTime": {
     "end_time": "2022-02-05T21:00:42.909266Z",
     "start_time": "2022-02-05T21:00:42.899715Z"
    }
   },
   "outputs": [],
   "source": [
    "numbers = {0: 'no', 1: 'one', 2: 'two', 3: 'three', 4: 'four', 5: 'five', \n",
    "           6: 'six', 7: 'seven', 8: 'eight', 9: 'nine'}\n",
    "\n",
    "ltmonth = dtxt(data.index[-1])['mon1']\n",
    "prmonth = dtxt(data.index[-13])['mon1']\n",
    "d1 = data.iloc[-1].sort_values()\n",
    "dap = data.loc['2020-04-01'].sort_values()\n",
    "dpr = data.iloc[-13].sort_values()\n",
    "a60 = len(d1[d1 < 60])\n",
    "if a60 < 10:\n",
    "    a60 = numbers[a60]\n",
    "a60pr = len(dpr[dpr < 60])\n",
    "if a60pr < 10:\n",
    "    a60pr = numbers[a60pr]\n",
    "a60ap = len(dap[dap < 60])\n",
    "if a60ap < 10:\n",
    "    a60ap = numbers[a60ap] \n",
    "    \n",
    "a65pr = len(dpr[dpr > 65])\n",
    "if a65pr < 10:\n",
    "    a65pr = numbers[a65pr]\n",
    "    \n",
    "a65 = len(d1[d1 > 65])\n",
    "if a65 < 10:\n",
    "    a65 = numbers[a65]\n",
    "    \n",
    "h, l = {}, {}\n",
    "for i in [1, 2, 3]:\n",
    "    h[i] = f'{d1.index[-i]} ({d1.iloc[-i]}\\%)'\n",
    "    l[i] = f'{d1.index[i-1]} ({d1.iloc[i-1]}\\%)'\n",
    "    \n",
    "text = (f'In {ltmonth}, {a60} states had an employment rate '+\n",
    "        f'above below 60 percent, compared to {a60ap} in April 2020. '+\n",
    "        f'In {prmonth}, {a60pr} states had an employment rate '+\n",
    "        f'below 60 percent and {a65pr} states had an unemployment '+\n",
    "        f'rate above 65 percent. In {ltmonth}, {a65} states '+\n",
    "        'have an employment rate above 65 percent. \\n\\n'+\n",
    "        'The states with the highest employment rates in '+\n",
    "        f'{ltmonth} are {h[1]}, {h[2]}, and {h[3]}. '+\n",
    "        'The states with the lowest employment rates are '+\n",
    "        f'{l[1]}, {l[2]}, and {l[3]}.')\n",
    "write_txt(text_dir / 'state_emp.txt', text)\n",
    "print(text)  "
   ]
  },
  {
   "cell_type": "code",
   "execution_count": null,
   "metadata": {},
   "outputs": [],
   "source": []
  },
  {
   "cell_type": "code",
   "execution_count": null,
   "metadata": {},
   "outputs": [],
   "source": []
  },
  {
   "cell_type": "markdown",
   "metadata": {},
   "source": [
    "### CPS-based measures"
   ]
  },
  {
   "cell_type": "code",
   "execution_count": null,
   "metadata": {
    "ExecuteTime": {
     "end_time": "2022-02-09T17:55:47.574737Z",
     "start_time": "2022-02-09T17:55:43.827632Z"
    }
   },
   "outputs": [],
   "source": [
    "cols = ['LFS', 'BASICWGT', 'AGE', 'MONTH', 'YEAR', 'STATE']\n",
    "query = '25 <= AGE <= 54'\n",
    "df = pd.concat([pd.read_feather(cps_dir/f'cps{year}.ft', columns=cols).query(query) \n",
    "                for year in range(1989, 2023)])   \n",
    "\n",
    "data = ((df.groupby(['YEAR', 'MONTH', 'STATE', 'LFS']).BASICWGT.sum() / \n",
    "        df.groupby(['YEAR', 'MONTH', 'STATE']).BASICWGT.sum())\n",
    "          .unstack()['Employed'].unstack() * 100).dropna()\n",
    "\n",
    "idx = pd.to_datetime(pd.DataFrame(data.index.values.tolist(), \n",
    "                                  columns=['YEAR', 'MONTH']).assign(DAY = 1))\n",
    "\n",
    "data.index = idx\n",
    "\n",
    "vmin=data.min().min()\n",
    "vmax=data.max().max()"
   ]
  },
  {
   "cell_type": "code",
   "execution_count": null,
   "metadata": {
    "ExecuteTime": {
     "end_time": "2022-02-09T17:55:48.828376Z",
     "start_time": "2022-02-09T17:55:48.819189Z"
    }
   },
   "outputs": [],
   "source": [
    "res = pd.DataFrame()\n",
    "res['max'] = data.max()\n",
    "res['min'] = data.min()\n",
    "res['maxst'] = data.loc['2020-04-01':].max()\n",
    "res['minst'] = data.loc['2020-04-01':].min()\n",
    "res['latest'] = data.iloc[-1]"
   ]
  },
  {
   "cell_type": "code",
   "execution_count": null,
   "metadata": {
    "ExecuteTime": {
     "end_time": "2022-02-09T17:55:49.857112Z",
     "start_time": "2022-02-09T17:55:49.831261Z"
    }
   },
   "outputs": [],
   "source": [
    "final = pd.DataFrame()\n",
    "final['outer1'] = res['min']\n",
    "final['range1'] = res['minst'] - res['min']\n",
    "final['rangest'] = res['maxst'] - res['minst']\n",
    "final['range2'] = res['max'] - res['maxst']\n",
    "final['outer2'] = res['max'].max() - res['max']\n",
    "final['latest'] = res['latest']\n",
    "final = final.sort_values('latest', ascending=False)\n",
    "final.index.name = 'name'\n",
    "f1 = final.iloc[:17]\n",
    "f1.loc[:,'y'] = [i * -1 + 0.08 for i in list(range(0, 17))]\n",
    "f1.to_csv(data_dir / 'state_pa_epop.csv', sep=';')\n",
    "f2 = final.iloc[17:34]\n",
    "f2.loc[:,'y'] = [i * -1 + 0.08 for i in list(range(0, 17))]\n",
    "f2.to_csv(data_dir / 'state_pa_epop2.csv', sep=';')\n",
    "f3 = final.iloc[34:]\n",
    "f3.loc[:,'y'] = [i * -1 + 0.08 for i in list(range(0, 17))]\n",
    "f3.to_csv(data_dir / 'state_pa_epop3.csv', sep=';')\n",
    "data.to_csv(data_dir / 'state_pa_epop_full.csv')"
   ]
  },
  {
   "cell_type": "code",
   "execution_count": null,
   "metadata": {
    "ExecuteTime": {
     "end_time": "2022-02-09T17:55:54.150612Z",
     "start_time": "2022-02-09T17:55:53.868020Z"
    }
   },
   "outputs": [],
   "source": [
    "# Map settings\n",
    "m = Basemap(llcrnrlon=-121, llcrnrlat=20, urcrnrlon=-64, urcrnrlat=49,\n",
    "            projection='lcc', lat_1=33, lat_2=45, lon_0=-95)\n",
    "m.readshapefile('shapefiles/states', 'states', drawbounds=False);"
   ]
  },
  {
   "cell_type": "code",
   "execution_count": null,
   "metadata": {
    "ExecuteTime": {
     "end_time": "2022-02-09T17:55:55.382654Z",
     "start_time": "2022-02-09T17:55:54.678166Z"
    }
   },
   "outputs": [],
   "source": [
    "cmap = plt.cm.YlGnBu\n",
    "norm = Normalize(vmin=vmin, vmax=vmax)\n",
    "\n",
    "# Draw map\n",
    "fig, axes = plt.subplots(nrows=1, ncols=2, figsize=(7.0, 2.4))\n",
    "fig.tight_layout()\n",
    "\n",
    "for group, axval in [(-1, 0), (-25, 1)]:\n",
    "    plt.sca(axes[axval])\n",
    "    axes[axval].axis('off')\n",
    "    m.drawmapboundary()\n",
    "    \n",
    "    for info, shape in zip(m.states_info, m.states):\n",
    "        \n",
    "        fc = cmap(norm(data[info['STATE_ABBR']].iloc[group]))\n",
    "        # Alaska and Hawaii moved\n",
    "        if info['STATE_ABBR'] == 'HI':\n",
    "            shape = [(x + 5200000, y - 1400000) for x,y in shape]\n",
    "        elif info['STATE_ABBR'] == 'AK':\n",
    "            shape = [(x*0.35 + 1100000, y*0.35 - 1300000) for x,y in shape]\n",
    "        axes[axval].add_patch(Polygon(shape, fc=fc))\n",
    "    \n",
    "    date = dtxt(data.index[group])['mon1']\n",
    "    plt.text(0.42, 0.98, date, fontsize=9, \n",
    "             transform=axes[axval].transAxes)\n",
    "    \n",
    "ax_inset = inset_axes(axes[0], width='-30%', height='70%', loc=4, borderpad=0.5)\n",
    "for tick_label in [60, 65, 70, 75, 80, 85, 90]:\n",
    "    plt.text(0.6, norm(tick_label), tick_label, fontsize=8, \n",
    "             ha='center', va='center', transform=ax_inset.transAxes)\n",
    "ax_inset.axis('off')\n",
    "\n",
    "# Draw custom legend\n",
    "for group, pt, pt2 in [(-1, 0.71, 0.8), (-25, 0.44, 0.4)]:\n",
    "    for i in np.linspace(58,92,40):\n",
    "        rect = Rectangle(xy=(pt, norm(i)), width=0.04, height=1/35, \n",
    "                         fc=cmap(norm(i)), ec=None)\n",
    "        ax_inset.add_patch(rect)    \n",
    "    \n",
    "    bins = pd.cut(data.iloc[group], np.linspace(58,92,33)).apply(lambda x: x.left)\n",
    "    res = data.iloc[group].groupby(bins).count()\n",
    "    for i, v in res.items():\n",
    "        if group == -1:\n",
    "            adj = (v / 50)\n",
    "        else:\n",
    "            adj = 0\n",
    "        if v > 0:\n",
    "            rect = Rectangle(xy=(pt2 + adj, norm(i)), width= -(v / 50), \n",
    "                             height=1/33, fc=cmap(norm(i)), ec=None)\n",
    "            ax_inset.add_patch(rect)    \n",
    "    \n",
    "plt.savefig('../chartbook/data/pa_epop_map.pgf', bbox_inches='tight')"
   ]
  },
  {
   "cell_type": "code",
   "execution_count": null,
   "metadata": {},
   "outputs": [],
   "source": []
  }
 ],
 "metadata": {
  "kernelspec": {
   "display_name": "Python 3",
   "language": "python",
   "name": "python3"
  },
  "language_info": {
   "codemirror_mode": {
    "name": "ipython",
    "version": 3
   },
   "file_extension": ".py",
   "mimetype": "text/x-python",
   "name": "python",
   "nbconvert_exporter": "python",
   "pygments_lexer": "ipython3",
   "version": "3.8.8"
  }
 },
 "nbformat": 4,
 "nbformat_minor": 2
}
