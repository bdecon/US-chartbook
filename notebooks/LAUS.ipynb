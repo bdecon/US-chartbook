{
 "cells": [
  {
   "cell_type": "markdown",
   "metadata": {},
   "source": [
    "# Local Area Unemployment and Employment Statistics\n"
   ]
  },
  {
   "cell_type": "code",
   "execution_count": 1,
   "metadata": {
    "ExecuteTime": {
     "end_time": "2022-03-23T01:53:47.496813Z",
     "start_time": "2022-03-23T01:53:46.422987Z"
    }
   },
   "outputs": [],
   "source": [
    "# Hide warnings\n",
    "#import warnings\n",
    "#warnings.filterwarnings('ignore')\n",
    "\n",
    "import sys\n",
    "sys.path.append('../src')\n",
    "\n",
    "import requests\n",
    "\n",
    "import uschartbook.config\n",
    "\n",
    "from uschartbook.config import *\n",
    "from uschartbook.utils import *\n",
    "\n",
    "# Import libraries and adjust settings\n",
    "%matplotlib inline\n",
    "\n",
    "import matplotlib.pyplot as plt\n",
    "from mpl_toolkits.basemap import Basemap\n",
    "from matplotlib.patches import Polygon\n",
    "from mpl_toolkits.axes_grid1.inset_locator import inset_axes\n",
    "from matplotlib.patches import Rectangle\n",
    "from matplotlib.colors import Normalize, LinearSegmentedColormap\n",
    "plt.rc('font', family='Lato')\n",
    "\n",
    "# CSV file contains city names, their BLS codes (Metropolitan \n",
    "# MTAs/NECTAs only), and their latitude and longitude\n",
    "MSA = pd.read_csv('shapefiles/MSA.csv')"
   ]
  },
  {
   "cell_type": "markdown",
   "metadata": {},
   "source": [
    "### MSA-level unemployment change"
   ]
  },
  {
   "cell_type": "code",
   "execution_count": null,
   "metadata": {
    "ExecuteTime": {
     "end_time": "2022-03-21T15:57:22.011299Z",
     "start_time": "2022-03-21T15:57:20.128827Z"
    }
   },
   "outputs": [],
   "source": [
    "# BLS flat file contains the unemployment rate by month since 2015\n",
    "url = 'https://download.bls.gov/pub/time.series/la/la.data.60.Metro'\n",
    "df = pd.read_table(url, sep='\\s+', dtype='object')\n",
    "date = lambda x: x['year'].astype('str') + '-' + x['period'].str[1:] + '-01'\n",
    "\n",
    "data = (df[df['series_id'].isin(MSA['fullcode']) & ~df['period'].isin(['M13'])]\n",
    "          .assign(DATE = date)\n",
    "          .set_index(['series_id','DATE'])\n",
    "          .value).unstack().T.dropna().astype('float')\n",
    "data.to_csv(data_dir / 'msa_unemp_raw.csv', index_label='date')\n",
    "\n",
    "lfs = [f'{c[:-1]}6' for c in MSA.fullcode]\n",
    "data2 = (df.query('series_id in @lfs and period != \"M13\"')\n",
    "         .assign(DATE = date).set_index(['series_id','DATE'])\n",
    "         .value).unstack().T.dropna().astype('float')\n",
    "data2.to_csv(data_dir / 'msa_lf_raw.csv', index_label='date')\n",
    "\n",
    "print('Latest:', dtxt(data.index[-1])['mon1'])"
   ]
  },
  {
   "cell_type": "code",
   "execution_count": null,
   "metadata": {
    "ExecuteTime": {
     "end_time": "2022-03-21T15:57:24.126387Z",
     "start_time": "2022-03-21T15:57:24.093518Z"
    },
    "code_folding": []
   },
   "outputs": [],
   "source": [
    "data = pd.read_csv(data_dir / 'msa_unemp_raw.csv', \n",
    "                   index_col='date', parse_dates=True)\n",
    "ltdt = dtxt(data.index[-1])['mon1']\n",
    "pr = -37 if data.index[-1] >= pd.to_datetime('2022-03-01') else -25\n",
    "prtxt = 'three' if pr == -37 else 'two'\n",
    "lt = data.iloc[-1].rename('latest')\n",
    "pc = data.iloc[pr].rename('precov')\n",
    "ch = (data.iloc[-1] - data.iloc[pr]).rename('value')\n",
    "prdt = dtxt(data.index[pr])['mon1']\n",
    "write_txt(text_dir / 'unemp_map_date.txt', ' to '.join([prdt, ltdt]))\n",
    "ms = MSA.set_index('fullcode').join(ch).join(lt).join(pc)\n",
    "ms['color'] = np.where(ms.value > 0.2, 'blue', \n",
    "                       np.where(ms.value < -0.2, 'greenyellow', 'gray'))\n",
    "ms['size'] = np.where(abs(ms.value) > 0.2, (abs(ms.value*4)), 2)"
   ]
  },
  {
   "cell_type": "code",
   "execution_count": null,
   "metadata": {
    "ExecuteTime": {
     "end_time": "2022-03-21T15:57:26.805527Z",
     "start_time": "2022-03-21T15:57:26.748667Z"
    }
   },
   "outputs": [],
   "source": [
    "# Labor force size and change\n",
    "lf = pd.read_csv(data_dir / 'msa_lf_raw.csv', \n",
    "                   index_col='date', parse_dates=True)\n",
    "\n",
    "lfc = [f'{c[:-1]}3' for c in lf.columns]\n",
    "lf.columns = lfc\n",
    "lfl = MSA.set_index('fullcode').join(lf.iloc[-1].rename('labor_force'))\n",
    "lft = lfl.sort_values('labor_force', ascending=False)['labor_force']\n",
    "lfch = (lf.pct_change(abs(pr)).iloc[-1] * 100).rename('LFCH').round(1)\n",
    "\n",
    "cols = data.index[[-37, -25, -13, -4, -3, -2, -1]]\n",
    "colnames = [dtxt(i)['mon2'] for i in cols]\n",
    "r = data.loc[data.index[[-37, -25, -13, -4, -3, -2, -1]]].T\n",
    "r.columns = colnames\n",
    "pc = ((data.iloc[-1] - data.loc['2019'].mean())\n",
    "      .rename('Change since 2019'))\n",
    "m3lt = ((data.iloc[-3:].mean() - data.iloc[-6:-3].mean())\n",
    "        .rename(dtxt(data.index[-1])['mon2'] + ' 3M'))\n",
    "m3pr = ((data.iloc[-4:-1].mean() - data.iloc[-7:-4].mean())\n",
    "        .rename(dtxt(data.index[-2])['mon2'] + ' 3M'))\n",
    "m12 = data.diff(12).iloc[-2:].T\n",
    "m12.columns = [f'{i} 12M' for i in colnames[-2:]]\n",
    "if 'Apr 2020' not in colnames:\n",
    "    cov = data.loc['2020-04-01'].rename('Apr 2020')\n",
    "    r = r.join(cov)\n",
    "r = r.join(m3pr).join(m3lt).join(m12).join(pc).round(1).join(lft).join(lfch)\n",
    "final = MSA.set_index('fullcode')[['fullname', 'area_code']].join(r)\n",
    "final.to_csv(data_dir / 'msa_unemp_rate.csv', index_label='BLSID')\n",
    "\n",
    "incn = len(ch[ch > 0.2])\n",
    "decn = len(ch[ch < -0.2])\n",
    "samen = len(ch[(ch <= 0.2) & (ch >= -0.2)])\n",
    "text = (f'From {prdt} to {ltdt}, unemployment rates fell by 0.3 '+\n",
    "        f'percentage point or more in {decn} metro areas, and '+\n",
    "        f'increased by 0.3 percentage point or more in {incn} metro '+\n",
    "        'areas. Recent local unemployment rates were within 0.2 '+\n",
    "        'percentage points of their pre-pandemic level in '+\n",
    "        f'{samen} metro areas. ')\n",
    "write_txt(text_dir / 'msa_unemp_ch_n.txt', text)\n",
    "print(text)\n",
    "ms10 = (ms.join(lft).join(lfch).dropna()\n",
    "          .sort_values('labor_force', ascending=False).iloc[:11])"
   ]
  },
  {
   "cell_type": "code",
   "execution_count": null,
   "metadata": {
    "ExecuteTime": {
     "end_time": "2022-03-21T15:57:33.121383Z",
     "start_time": "2022-03-21T15:57:29.728076Z"
    },
    "code_folding": []
   },
   "outputs": [],
   "source": [
    "# Map and legend settings\n",
    "fig, (ax, ax2) = plt.subplots(2, 1, gridspec_kw={'height_ratios': [5, 2.5]}, \n",
    "                              figsize=(6.5,8.0))\n",
    "m = Basemap(llcrnrlon=-119, llcrnrlat=20, urcrnrlon=-64, urcrnrlat=49,\n",
    "            projection='lcc', lat_1=33, lat_2=45, lon_0=-95)\n",
    "m.readshapefile('shapefiles/states', 'st', drawbounds=True, color='lightgrey', ax=ax)\n",
    "   \n",
    "for info, shape in zip(m.st_info, m.st):\n",
    "    if info['STATE_NAME'] == 'Hawaii':\n",
    "        shape2 = [[x + 5200000, y - 1400000] for x, y in shape]\n",
    "        ax.add_patch(Polygon(shape2, fc='white', ec='lightgray', lw=0.5)) \n",
    "    elif info['STATE_NAME'] == 'Alaska':\n",
    "        shape2 = [(x * 0.34 + 1200000, \n",
    "                  y * 0.34 - 1300000) for x, y in shape]\n",
    "        ax.add_patch(Polygon(shape2, fc='white', ec='lightgray', lw=0.5))    \n",
    "        \n",
    "# Plot each location, value, and color as identified in the previous section        \n",
    "for index, row in ms.iterrows():\n",
    "    x, y = m(row['longitude'], row['latitude'])\n",
    "    if row['fullname'].endswith('HI'):\n",
    "        x = x + 5200000\n",
    "        y = y - 1400000\n",
    "    if row['fullname'].endswith('AK'):\n",
    "        x = x * 0.34 + 1200000\n",
    "        y = y * 0.34 - 1300000\n",
    "    ax.plot(x, y, marker='o', color=row['color'], alpha=0.5, markersize=row['size'], \n",
    "           markeredgecolor='black', markeredgewidth=.25)\n",
    "\n",
    "plt.annotate('Legend:', xy=(0.43, 0.94), xycoords=ax, fontsize=8, \n",
    "             fontweight='bold')\n",
    "legs = [(0.53, 0.95, 'gray', 2, '+/- 0.2pp'), (0.685, 0.95, 'blue', 12, '+3.0pp'), \n",
    "        (0.685, 0.905, 'blue', 8, '+2.0pp'), (0.685, 0.86, 'blue', 4, '+1.0pp'),\n",
    "        (0.815, 0.95, 'greenyellow', 12, '-3.0pp'), \n",
    "        (0.815, 0.905, 'greenyellow', 8, '-2.0pp'), \n",
    "        (0.815, 0.86, 'greenyellow', 4, '-1.0pp')]\n",
    "\n",
    "for x, y, color, size, text in legs:\n",
    "    y2 = y - 0.005 if y == 0.905 else y\n",
    "    ax.plot(x, y2, marker='o', color=color, alpha=0.5, markersize=size, \n",
    "            markeredgecolor='black', markeredgewidth=.25, transform=ax.transAxes) \n",
    "    ax.annotate(text, xy=(x + 0.025, y * 0.99), xycoords=ax, fontsize=7)\n",
    "ax.axis('off')\n",
    "\n",
    "for i, row in ms10.reset_index().iterrows():\n",
    "    ax2.plot(0.135, 0.95 - (i / 11), marker='o', color=row['color'], \n",
    "             alpha=0.5, markersize=row['size'], markeredgecolor='black', \n",
    "             markeredgewidth=.25, transform=ax2.transAxes) \n",
    "    #val = f'{row[\"value\"]:.1f}pp' if round(abs(row['value']), 1) > 0 else 'unch.'\n",
    "    ax2.annotate(row['fullname'], xy=(0.16, 0.93 - (i / 11)), xycoords=ax2, fontsize=8)\n",
    "    ax2.annotate(row['latest'], xy=(0.37, 0.93 - (i / 11)), xycoords=ax2, fontsize=8)\n",
    "    ax2.annotate(row['precov'], xy=(0.49, 0.93 - (i / 11)), xycoords=ax2, fontsize=8)\n",
    "    pos = '+' if row['value'] > 0 else ''\n",
    "    val = f'{pos}{row[\"value\"]:.1f}' if round(abs(row['value']), 1) > 0.2 else 'unch.'\n",
    "    ax2.annotate(val, xy=(0.11, 0.93 - (i / 11)), xycoords=ax2, fontsize=8, ha='right')\n",
    "    lfv = f\"{round(row['labor_force'], -2):,.0f}\"\n",
    "    ax2.annotate(lfv, xy=(0.595, 0.93 - (i / 11)), xycoords=ax2, fontsize=8)\n",
    "    lfch = f\"{row['LFCH']:.1f}\"\n",
    "    ax2.annotate(lfch, xy=(0.81, 0.93 - (i / 11)), xycoords=ax2, fontsize=8, ha='right')\n",
    "    ax2.plot([0.16, 0.81], [0.91 - (i / 11)]*2, transform=ax2.transAxes, linewidth=0.25, \n",
    "               color='gainsboro')\n",
    "\n",
    "    \n",
    "ax2.axis('off')\n",
    "plt.subplots_adjust(wspace=0, hspace=0)\n",
    "plt.text(-0.051, 0.068, 'Largest MSAs:', weight='bold')\n",
    "mo1, mo2 = dtxt(lf.index[-1])['mon7'], dtxt(lf.index[pr])['mon7']\n",
    "header = (f'Core City \\ \\ \\ \\ \\ \\ \\ \\ {mo1}  '+\n",
    "          f'\\ \\ \\ \\ \\ \\  {mo2} \\ \\ \\ \\ \\ \\ Labor'+\n",
    "          ' Force \\ \\ \\ \\ \\ \\ Pct Ch*')\n",
    "plt.text(-0.037, 0.057, header, fontsize=9, color='dimgray')\n",
    "\n",
    "plt.savefig(data_dir / 'unemp_msa.pgf', bbox_inches='tight')"
   ]
  },
  {
   "cell_type": "code",
   "execution_count": null,
   "metadata": {},
   "outputs": [],
   "source": []
  },
  {
   "cell_type": "code",
   "execution_count": null,
   "metadata": {},
   "outputs": [],
   "source": []
  },
  {
   "cell_type": "markdown",
   "metadata": {},
   "source": [
    "### State data"
   ]
  },
  {
   "cell_type": "code",
   "execution_count": null,
   "metadata": {
    "ExecuteTime": {
     "end_time": "2022-03-21T15:57:39.002237Z",
     "start_time": "2022-03-21T15:57:38.032611Z"
    }
   },
   "outputs": [],
   "source": [
    "laus_raw_url = 'https://www.bls.gov/web/laus/ststdnsadata.txt'\n",
    "r = requests.get(laus_raw_url)\n",
    "raw_data = [line for line in r.text.split('\\n')[16:] \n",
    "            if line[:2] != '\\r']\n",
    "\n",
    "epop, unrate = {}, {}\n",
    "\n",
    "for row in raw_data:\n",
    "    if row[:5] == '     ':\n",
    "        date_text = row.strip().replace('\\r', '')\n",
    "        date = pd.to_datetime(date_text)\n",
    "        epop[date], unrate[date] = {}, {}\n",
    "    if len(row) > 0:\n",
    "        if row[0] != ' ':\n",
    "            state = row.split('.')[0].strip()\n",
    "            unrate_val = float(row.split()[-1])\n",
    "            unrate[date][state] = unrate_val\n",
    "            epop_val = float(row.split()[-3])\n",
    "            epop[date][state] = epop_val\n",
    "\n",
    "df1 = pd.DataFrame(epop).T\n",
    "df1.to_csv(data_dir / 'state_epop.csv', index_label='date')\n",
    "df2 = pd.DataFrame(unrate).T\n",
    "df2.to_csv(data_dir / 'state_unrate.csv', index_label='date')"
   ]
  },
  {
   "cell_type": "code",
   "execution_count": null,
   "metadata": {},
   "outputs": [],
   "source": []
  },
  {
   "cell_type": "code",
   "execution_count": null,
   "metadata": {},
   "outputs": [],
   "source": []
  },
  {
   "cell_type": "markdown",
   "metadata": {},
   "source": [
    "### State-level unemployment"
   ]
  },
  {
   "cell_type": "code",
   "execution_count": 2,
   "metadata": {
    "ExecuteTime": {
     "end_time": "2022-03-23T01:53:59.541338Z",
     "start_time": "2022-03-23T01:53:57.444967Z"
    }
   },
   "outputs": [
    {
     "name": "stderr",
     "output_type": "stream",
     "text": [
      "/tmp/ipykernel_52353/2542285344.py:52: FutureWarning: Index.ravel returning ndarray is deprecated; in a future version this will return a view on self.\n",
      "  res = data.iloc[group].groupby(bins).count()\n",
      "/tmp/ipykernel_52353/2542285344.py:52: FutureWarning: Index.ravel returning ndarray is deprecated; in a future version this will return a view on self.\n",
      "  res = data.iloc[group].groupby(bins).count()\n"
     ]
    },
    {
     "data": {
      "image/png": "[encoded data removed]",
      "text/plain": [
       "<Figure size 504x172.8 with 3 Axes>"
      ]
     },
     "metadata": {
      "needs_background": "light"
     },
     "output_type": "display_data"
    }
   ],
   "source": [
    "data = pd.read_csv(data_dir / 'state_unrate.csv', \n",
    "                   index_col='date', parse_dates=True)\n",
    "\n",
    "# Map settings\n",
    "m = Basemap(llcrnrlon=-121, llcrnrlat=20, urcrnrlon=-64, urcrnrlat=49,\n",
    "            projection='lcc', lat_1=33, lat_2=45, lon_0=-95)\n",
    "m.readshapefile('shapefiles/states', 'states', drawbounds=False);\n",
    "\n",
    "states = list(set([i['STATE_NAME'] for i in m.states_info]))\n",
    "vmin=0\n",
    "vmax=18\n",
    "cmap = plt.cm.PiYG_r\n",
    "norm = Normalize(vmin=vmin, vmax=vmax)\n",
    "\n",
    "# Draw map\n",
    "fig, axes = plt.subplots(nrows=1, ncols=2, figsize=(7.0, 2.4))\n",
    "fig.tight_layout()\n",
    "\n",
    "for group, axval in [(-1, 0), (-13, 1)]:\n",
    "    plt.sca(axes[axval])\n",
    "    axes[axval].axis('off')\n",
    "    m.drawmapboundary()\n",
    "    \n",
    "    for info, shape in zip(m.states_info, m.states):\n",
    "        \n",
    "        fc = cmap(norm(data[info['STATE_NAME']].iloc[group]))\n",
    "        # Alaska and Hawaii moved\n",
    "        if info['STATE_NAME'] == 'Hawaii':\n",
    "            shape = [(x + 5200000, y - 1400000) for x,y in shape]\n",
    "        elif info['STATE_NAME'] == 'Alaska':\n",
    "            shape = [(x*0.35 + 1100000, y*0.35 - 1300000) for x,y in shape]\n",
    "        axes[axval].add_patch(Polygon(shape, fc=fc))\n",
    "    \n",
    "    date = dtxt(data.index[group])['mon1']\n",
    "    plt.text(0.4, 0.98, date, fontsize=9, \n",
    "             transform=axes[axval].transAxes)\n",
    "    \n",
    "ax_inset = inset_axes(axes[0], width='-30%', height='70%', loc=4, borderpad=0.5)\n",
    "for tick_label in [0, 2, 5, 10, 15, 18]:\n",
    "    plt.text(0.6, norm(tick_label), tick_label, fontsize=8, \n",
    "             ha='center', va='center', transform=ax_inset.transAxes)\n",
    "ax_inset.axis('off')\n",
    "\n",
    "# Draw custom legend\n",
    "for group, pt, pt2 in [(-1, 0.71, 0.8), (-13, 0.44, 0.4)]:\n",
    "    for i in np.linspace(0,18,56):\n",
    "        rect = Rectangle(xy=(pt, norm(i)), width=0.04, height=1/56, \n",
    "                         fc=cmap(norm(i)), ec=None)\n",
    "        ax_inset.add_patch(rect)    \n",
    "    \n",
    "    bins = pd.cut(data.iloc[group], np.linspace(0,18,54)).apply(lambda x: x.left)\n",
    "    res = data.iloc[group].groupby(bins).count()\n",
    "    for i, v in res.items():\n",
    "        if group == -1:\n",
    "            adj = (v / 50)\n",
    "        else:\n",
    "            adj = 0\n",
    "        if v > 0:\n",
    "            rect = Rectangle(xy=(pt2 + adj, norm(i)), width= -(v / 50), \n",
    "                             height=1/54, fc=cmap(norm(i)), ec=None)\n",
    "            ax_inset.add_patch(rect)    \n",
    "    \n",
    "plt.savefig('../chartbook/data/unemp_map.pgf', bbox_inches='tight')"
   ]
  },
  {
   "cell_type": "code",
   "execution_count": 6,
   "metadata": {
    "ExecuteTime": {
     "end_time": "2022-03-23T01:59:17.805607Z",
     "start_time": "2022-03-23T01:59:17.801211Z"
    }
   },
   "outputs": [],
   "source": [
    "d1 = data.iloc[-1].sort_values()\n",
    "dap = data.loc['2020-04-01'].sort_values()\n",
    "dpr = data.iloc[-4].sort_values()"
   ]
  },
  {
   "cell_type": "code",
   "execution_count": 9,
   "metadata": {
    "ExecuteTime": {
     "end_time": "2022-03-23T01:59:37.953725Z",
     "start_time": "2022-03-23T01:59:37.947132Z"
    }
   },
   "outputs": [
    {
     "data": {
      "text/plain": [
       "Wyoming                  5.3\n",
       "Connecticut              7.5\n",
       "North Dakota             8.1\n",
       "Nebraska                 8.1\n",
       "New Mexico               8.6\n",
       "South Dakota             8.9\n",
       "Minnesota                8.9\n",
       "Maine                    9.2\n",
       "Arkansas                 9.5\n",
       "Maryland                 9.5\n",
       "Utah                     9.9\n",
       "District of Columbia    10.4\n",
       "Iowa                    10.4\n",
       "Missouri                10.5\n",
       "Virginia                10.9\n",
       "South Carolina          11.0\n",
       "Colorado                11.5\n",
       "Idaho                   11.7\n",
       "Georgia                 11.9\n",
       "Montana                 12.0\n",
       "Kansas                  12.0\n",
       "Alaska                  12.1\n",
       "Texas                   12.1\n",
       "Oklahoma                12.2\n",
       "Florida                 12.8\n",
       "Delaware                12.8\n",
       "Alabama                 13.0\n",
       "Louisiana               13.0\n",
       "Oregon                  13.0\n",
       "Arizona                 13.5\n",
       "North Carolina          13.9\n",
       "Wisconsin               14.1\n",
       "Vermont                 14.3\n",
       "Mississippi             14.8\n",
       "New Jersey              15.1\n",
       "Tennessee               15.3\n",
       "West Virginia           15.4\n",
       "Pennsylvania            15.5\n",
       "California              15.6\n",
       "New York                15.9\n",
       "Ohio                    15.9\n",
       "Kentucky                16.1\n",
       "New Hampshire           16.2\n",
       "Washington              16.2\n",
       "Indiana                 16.5\n",
       "Massachusetts           16.7\n",
       "Illinois                17.2\n",
       "Rhode Island            18.2\n",
       "Hawaii                  21.9\n",
       "Michigan                22.8\n",
       "Nevada                  27.5\n",
       "Name: 2020-04-01 00:00:00, dtype: float64"
      ]
     },
     "execution_count": 9,
     "metadata": {},
     "output_type": "execute_result"
    }
   ],
   "source": [
    "dap"
   ]
  },
  {
   "cell_type": "code",
   "execution_count": 12,
   "metadata": {
    "ExecuteTime": {
     "end_time": "2022-03-23T02:03:38.615843Z",
     "start_time": "2022-03-23T02:03:38.613371Z"
    }
   },
   "outputs": [],
   "source": [
    "st1 = (f'the unemployment rate was above eight percent in {a10} states')\n",
    "st2 = ('every state unemployment rate was below eight percent')\n",
    "stxt = st2 if a10 == 'no' else st1"
   ]
  },
  {
   "cell_type": "code",
   "execution_count": 11,
   "metadata": {
    "ExecuteTime": {
     "end_time": "2022-03-23T02:03:30.152638Z",
     "start_time": "2022-03-23T02:03:30.149706Z"
    }
   },
   "outputs": [
    {
     "data": {
      "text/plain": [
       "'no'"
      ]
     },
     "execution_count": 11,
     "metadata": {},
     "output_type": "execute_result"
    }
   ],
   "source": [
    "a10"
   ]
  },
  {
   "cell_type": "code",
   "execution_count": 22,
   "metadata": {
    "ExecuteTime": {
     "end_time": "2022-03-23T02:17:12.027591Z",
     "start_time": "2022-03-23T02:17:12.022545Z"
    }
   },
   "outputs": [
    {
     "data": {
      "text/plain": [
       "Nebraska                    2.4\n",
       "Indiana                     2.4\n",
       "Utah                        2.4\n",
       "Kansas                      2.7\n",
       "South Dakota                2.8\n",
       "Oklahoma                    3.0\n",
       "Wisconsin                   3.2\n",
       "Georgia                     3.3\n",
       "Alabama                     3.4\n",
       "Montana                     3.4\n",
       "Minnesota                   3.4\n",
       "Virginia                    3.4\n",
       "Idaho                       3.5\n",
       "Vermont                     3.5\n",
       "North Dakota                3.5\n",
       "New Hampshire               3.5\n",
       "Florida                     3.5\n",
       "Arizona                     3.6\n",
       "Tennessee                   3.7\n",
       "South Carolina              3.8\n",
       "Arkansas                    3.8\n",
       "North Carolina              3.8\n",
       "Colorado                    3.9\n",
       "Hawaii                      4.0\n",
       "Missouri                    4.1\n",
       "Wyoming                     4.1\n",
       "Maine                       4.3\n",
       "Louisiana                   4.3\n",
       "West Virginia               4.4\n",
       "Maryland                    4.4\n",
       "Iowa                        4.4\n",
       "Rhode Island                4.5\n",
       "Kentucky                    4.5\n",
       "Oregon                      4.7\n",
       "Ohio                        4.8\n",
       "New Jersey                  4.8\n",
       "Mississippi                 4.8\n",
       "Texas                       4.8\n",
       "Massachusetts               5.0\n",
       "Connecticut                 5.0\n",
       "Michigan                    5.1\n",
       "Washington                  5.1\n",
       "Delaware                    5.2\n",
       "Nevada                      5.2\n",
       "Illinois                    5.3\n",
       "New York                    5.3\n",
       "California                  5.5\n",
       "New Mexico                  5.5\n",
       "Pennsylvania                5.6\n",
       "Alaska                      6.1\n",
       "the District of Columbia    6.4\n",
       "Name: 2022-01-01 00:00:00, dtype: float64"
      ]
     },
     "execution_count": 22,
     "metadata": {},
     "output_type": "execute_result"
    }
   ],
   "source": [
    "d1t = d1.rename({'District of Columbia': 'the District of Columbia'})"
   ]
  },
  {
   "cell_type": "code",
   "execution_count": 23,
   "metadata": {
    "ExecuteTime": {
     "end_time": "2022-03-23T02:17:34.354182Z",
     "start_time": "2022-03-23T02:17:34.344657Z"
    }
   },
   "outputs": [
    {
     "name": "stdout",
     "output_type": "stream",
     "text": [
      "In January 2022, every state's unemployment rate was below eight percent, and 11 states had unemployment rates above five percent. Three months prior, in October 2021, no states had unemployment rates above eight percent, and 10 states had rates above five percent. In the peak of the COVID-19 pandemic shutdowns, in April 2020, the unemployment rate was above eight percent in 49 states, and above five percent in every state.\n",
      "\n",
      "The states with the highest unemployment rates in January 2022 are the District of Columbia (6.4\\%), Alaska (6.1\\%), and Pennsylvania (5.6\\%). The states with the lowest unemployment rates are Nebraska (2.4\\%), Indiana (2.4\\%), and Utah (2.4\\%).\n"
     ]
    }
   ],
   "source": [
    "ltmonth = dtxt(data.index[-1])['mon1']\n",
    "prmonth = dtxt(data.index[-4])['mon1']\n",
    "d1 = data.iloc[-1].sort_values()\n",
    "d1t = d1.rename({'District of Columbia': \n",
    "                 'the District of Columbia'})\n",
    "dap = data.loc['2020-04-01'].sort_values()\n",
    "dpr = data.iloc[-4].sort_values()\n",
    "a10 = len(d1[d1 > 8])\n",
    "if a10 < 10:\n",
    "    a10 = numbers2[a10]\n",
    "    \n",
    "st1 = (f'the unemployment rate was above eight percent in {a10} states '+\n",
    "       f'and above five percent in {a5} states.')\n",
    "st2 = (\"every state's unemployment rate was below eight percent, and \"+\n",
    "       f'{a5} states had unemployment rates above five percent.')\n",
    "stxt = st2 if a10 == 'no' else st1\n",
    "    \n",
    "a10pr = len(dpr[dpr > 8])\n",
    "if a10pr < 10:\n",
    "    a10pr = numbers2[a10pr]\n",
    "a10ap = len(dap[dap > 8])\n",
    "if a10ap < 10:\n",
    "    a10ap = numbers2[a10ap] \n",
    "    \n",
    "a5pr = len(dpr[dpr > 5])\n",
    "if a5pr < 10:\n",
    "    a5pr = numbers2[a5pr]\n",
    "    \n",
    "a5 = len(d1[d1 > 5])\n",
    "if a5 < 10:\n",
    "    a5 = numbers2[a5]\n",
    "    \n",
    "h, l = {}, {}\n",
    "for i in [1, 2, 3]:\n",
    "    h[i] = f'{d1t.index[-i]} ({d1t.iloc[-i]}\\%)'\n",
    "    l[i] = f'{d1t.index[i-1]} ({d1t.iloc[i-1]}\\%)'\n",
    "    \n",
    "text = (f'In {ltmonth}, {stxt} Three months prior, in {prmonth}, '+\n",
    "        f'{a10pr} states had unemployment rates above eight percent, '+\n",
    "        f'and {a5pr} states had rates above five percent. '+\n",
    "        f'In the peak of the COVID-19 pandemic shutdowns, in '+\n",
    "        f'April 2020, the unemployment rate was above eight percent in '+\n",
    "        f'{a10ap} states, and above five percent in every state.\\n\\n'+\n",
    "        'The states with the highest unemployment rates in '+\n",
    "        f'{ltmonth} are {h[1]}, {h[2]}, and {h[3]}. The states with '+\n",
    "        f'the lowest unemployment rates are {l[1]}, {l[2]}, and {l[3]}.')\n",
    "write_txt(text_dir / 'state_unemp.txt', text)\n",
    "print(text)"
   ]
  },
  {
   "cell_type": "code",
   "execution_count": null,
   "metadata": {},
   "outputs": [],
   "source": []
  },
  {
   "cell_type": "code",
   "execution_count": null,
   "metadata": {},
   "outputs": [],
   "source": []
  },
  {
   "cell_type": "markdown",
   "metadata": {},
   "source": [
    "### Employment rate by state"
   ]
  },
  {
   "cell_type": "code",
   "execution_count": 24,
   "metadata": {
    "ExecuteTime": {
     "end_time": "2022-03-23T02:18:48.024082Z",
     "start_time": "2022-03-23T02:18:47.044255Z"
    }
   },
   "outputs": [
    {
     "name": "stderr",
     "output_type": "stream",
     "text": [
      "/tmp/ipykernel_52353/2279896.py:51: FutureWarning: Index.ravel returning ndarray is deprecated; in a future version this will return a view on self.\n",
      "  res = data.iloc[group].groupby(bins).count()\n",
      "/tmp/ipykernel_52353/2279896.py:51: FutureWarning: Index.ravel returning ndarray is deprecated; in a future version this will return a view on self.\n",
      "  res = data.iloc[group].groupby(bins).count()\n"
     ]
    },
    {
     "data": {
      "image/png": "[encoded data removed]",
      "text/plain": [
       "<Figure size 504x172.8 with 3 Axes>"
      ]
     },
     "metadata": {
      "needs_background": "light"
     },
     "output_type": "display_data"
    }
   ],
   "source": [
    "data = pd.read_csv(data_dir / 'state_epop.csv', \n",
    "                   index_col='date', parse_dates=True)\n",
    "\n",
    "# Map settings\n",
    "m = Basemap(llcrnrlon=-121, llcrnrlat=20, urcrnrlon=-64, urcrnrlat=49,\n",
    "            projection='lcc', lat_1=33, lat_2=45, lon_0=-95)\n",
    "m.readshapefile('shapefiles/states', 'states', drawbounds=False);\n",
    "\n",
    "vmin=data.min().min()\n",
    "vmax=data.max().max()\n",
    "cmap = plt.cm.plasma_r\n",
    "norm = Normalize(vmin=vmin, vmax=vmax)\n",
    "\n",
    "# Draw map\n",
    "fig, axes = plt.subplots(nrows=1, ncols=2, figsize=(7.0, 2.4))\n",
    "fig.tight_layout()\n",
    "\n",
    "for group, axval in [(-1, 0), (-13, 1)]:\n",
    "    plt.sca(axes[axval])\n",
    "    axes[axval].axis('off')\n",
    "    m.drawmapboundary()\n",
    "    \n",
    "    for info, shape in zip(m.states_info, m.states):\n",
    "        \n",
    "        fc = cmap(norm(data[info['STATE_NAME']].iloc[group]))\n",
    "        # Alaska and Hawaii moved\n",
    "        if info['STATE_NAME'] == 'Hawaii':\n",
    "            shape = [(x + 5200000, y - 1400000) for x,y in shape]\n",
    "        elif info['STATE_NAME'] == 'Alaska':\n",
    "            shape = [(x*0.35 + 1100000, y*0.35 - 1300000) for x,y in shape]\n",
    "        axes[axval].add_patch(Polygon(shape, fc=fc))\n",
    "    \n",
    "    date = dtxt(data.index[group])['mon1']\n",
    "    plt.text(0.42, 0.98, date, fontsize=9, \n",
    "             transform=axes[axval].transAxes)\n",
    "    \n",
    "ax_inset = inset_axes(axes[0], width='-30%', height='70%', loc=4, borderpad=0.5)\n",
    "for tick_label in [45, 50, 60, 70]:\n",
    "    plt.text(0.6, norm(tick_label), tick_label, fontsize=8, \n",
    "             ha='center', va='center', transform=ax_inset.transAxes)\n",
    "ax_inset.axis('off')\n",
    "\n",
    "# Draw custom legend\n",
    "for group, pt, pt2 in [(-1, 0.71, 0.8), (-13, 0.44, 0.4)]:\n",
    "    for i in np.linspace(45,70,40):\n",
    "        rect = Rectangle(xy=(pt, norm(i)), width=0.04, height=1/35, \n",
    "                         fc=cmap(norm(i)), ec=None)\n",
    "        ax_inset.add_patch(rect)    \n",
    "    \n",
    "    bins = pd.cut(data.iloc[group], np.linspace(45,70,33)).apply(lambda x: x.left)\n",
    "    res = data.iloc[group].groupby(bins).count()\n",
    "    for i, v in res.items():\n",
    "        if group == -1:\n",
    "            adj = (v / 50)\n",
    "        else:\n",
    "            adj = 0\n",
    "        if v > 0:\n",
    "            rect = Rectangle(xy=(pt2 + adj, norm(i)), width= -(v / 50), \n",
    "                             height=1/33, fc=cmap(norm(i)), ec=None)\n",
    "            ax_inset.add_patch(rect)    \n",
    "    \n",
    "plt.savefig('../chartbook/data/epop_map.pgf', bbox_inches='tight')"
   ]
  },
  {
   "cell_type": "code",
   "execution_count": 25,
   "metadata": {
    "ExecuteTime": {
     "end_time": "2022-03-23T02:18:50.145635Z",
     "start_time": "2022-03-23T02:18:50.136321Z"
    }
   },
   "outputs": [
    {
     "name": "stdout",
     "output_type": "stream",
     "text": [
      "In January 2022, 25 states had an employment rate above below 60 percent, compared to 43 in April 2020. In January 2021, 38 states had an employment rate below 60 percent and two states had an unemployment rate above 65 percent. The employment rate was above 65 percent in seven states. \n",
      "\n",
      "The states with the highest employment rates in January 2022 are Nebraska (67.8\\%), the District of Columbia (66.6\\%), and North Dakota (66.1\\%). The states with the lowest employment rates are Mississippi (51.9\\%), West Virginia (52.2\\%), and New Mexico (53.4\\%).\n"
     ]
    }
   ],
   "source": [
    "ltmonth = dtxt(data.index[-1])['mon1']\n",
    "prmonth = dtxt(data.index[-13])['mon1']\n",
    "d1 = data.iloc[-1].sort_values()\n",
    "d1t = d1.rename({'District of Columbia': \n",
    "                 'the District of Columbia'})\n",
    "dap = data.loc['2020-04-01'].sort_values()\n",
    "dpr = data.iloc[-13].sort_values()\n",
    "a60 = len(d1[d1 < 60])\n",
    "if a60 < 10:\n",
    "    a60 = numbers[f'{a60:.1f}']\n",
    "a60pr = len(dpr[dpr < 60])\n",
    "if a60pr < 10:\n",
    "    a60pr = numbers[f'{a60pr:.1f}']\n",
    "a60ap = len(dap[dap < 60])\n",
    "if a60ap < 10:\n",
    "    a60ap = numbers[f'{a60ap:.1f}'] \n",
    "    \n",
    "a65pr = len(dpr[dpr > 65])\n",
    "if a65pr < 10:\n",
    "    a65pr = numbers[f'{a65pr:.1f}']\n",
    "    \n",
    "a65 = len(d1[d1 > 65])\n",
    "if a65 < 10:\n",
    "    a65 = numbers[f'{a65:.1f}']\n",
    "    \n",
    "h, l = {}, {}\n",
    "for i in [1, 2, 3]:\n",
    "    h[i] = f'{d1t.index[-i]} ({d1t.iloc[-i]}\\%)'\n",
    "    l[i] = f'{d1t.index[i-1]} ({d1t.iloc[i-1]}\\%)'\n",
    "    \n",
    "text = (f'In {ltmonth}, {a60} states had an employment rate '+\n",
    "        f'above below 60 percent, compared to {a60ap} in April 2020. '+\n",
    "        f'In {prmonth}, {a60pr} states had an employment rate '+\n",
    "        f'below 60 percent and {a65pr} states had an unemployment '+\n",
    "        f'rate above 65 percent. The employment rate was above 65 '+\n",
    "        f'percent in {a65} states. \\n\\n'+\n",
    "        'The states with the highest employment rates in '+\n",
    "        f'{ltmonth} are {h[1]}, {h[2]}, and {h[3]}. '+\n",
    "        'The states with the lowest employment rates are '+\n",
    "        f'{l[1]}, {l[2]}, and {l[3]}.')\n",
    "write_txt(text_dir / 'state_emp.txt', text)\n",
    "print(text)  "
   ]
  },
  {
   "cell_type": "code",
   "execution_count": null,
   "metadata": {},
   "outputs": [],
   "source": []
  },
  {
   "cell_type": "code",
   "execution_count": null,
   "metadata": {},
   "outputs": [],
   "source": []
  },
  {
   "cell_type": "markdown",
   "metadata": {},
   "source": [
    "### CPS-based measures"
   ]
  },
  {
   "cell_type": "code",
   "execution_count": null,
   "metadata": {
    "ExecuteTime": {
     "end_time": "2022-03-21T15:58:01.925835Z",
     "start_time": "2022-03-21T15:57:55.897191Z"
    }
   },
   "outputs": [],
   "source": [
    "cols = ['LFS', 'BASICWGT', 'AGE', 'MONTH', 'YEAR', 'STATE']\n",
    "query = '25 <= AGE <= 54'\n",
    "df = pd.concat([pd.read_feather(cps_dir/f'cps{year}.ft', columns=cols).query(query) \n",
    "                for year in range(1989, 2023)])   \n",
    "\n",
    "data = ((df.groupby(['YEAR', 'MONTH', 'STATE', 'LFS']).BASICWGT.sum() / \n",
    "        df.groupby(['YEAR', 'MONTH', 'STATE']).BASICWGT.sum())\n",
    "          .unstack()['Employed'].unstack() * 100).dropna()\n",
    "\n",
    "idx = pd.to_datetime(pd.DataFrame(data.index.values.tolist(), \n",
    "                                  columns=['YEAR', 'MONTH']).assign(DAY = 1))\n",
    "data.index = idx\n",
    "data.to_csv(data_dir / 'state_pa_epop_raw.csv', index_label='date')"
   ]
  },
  {
   "cell_type": "code",
   "execution_count": null,
   "metadata": {
    "ExecuteTime": {
     "end_time": "2022-03-21T15:59:13.169486Z",
     "start_time": "2022-03-21T15:58:04.175203Z"
    }
   },
   "outputs": [],
   "source": [
    "data = pd.read_csv(data_dir / 'state_pa_epop_raw.csv', \n",
    "                   index_col='date', parse_dates=True)\n",
    "sa = data.apply(lambda x: x13_arima_analysis(x).seasadj)\n",
    "sa.to_csv(data_dir / 'state_pa_epop_sa_raw.csv', index_label='date')\n",
    "\n",
    "vmin=data.min().min()\n",
    "vmax=data.max().max()\n",
    "\n",
    "res = pd.DataFrame()\n",
    "res['max'] = data.max()\n",
    "res['min'] = data.min()\n",
    "res['maxst'] = data.loc['2020-04-01':].max()\n",
    "res['minst'] = data.loc['2020-04-01':].min()\n",
    "res['latest'] = data.iloc[-1]\n",
    "\n",
    "final = pd.DataFrame()\n",
    "final['outer1'] = res['min']\n",
    "final['range1'] = res['minst'] - res['min']\n",
    "final['rangest'] = res['maxst'] - res['minst']\n",
    "final['range2'] = res['max'] - res['maxst']\n",
    "final['outer2'] = res['max'].max() - res['max']\n",
    "final['latest'] = res['latest']\n",
    "final = final.sort_values('latest', ascending=False)\n",
    "final.index.name = 'name'\n",
    "f1 = final.iloc[:17]\n",
    "f1.loc[:,'y'] = [i * -1 + 0.08 for i in list(range(0, 17))]\n",
    "f1.to_csv(data_dir / 'state_pa_epop.csv', sep=';')\n",
    "f2 = final.iloc[17:34]\n",
    "f2.loc[:,'y'] = [i * -1 + 0.08 for i in list(range(0, 17))]\n",
    "f2.to_csv(data_dir / 'state_pa_epop2.csv', sep=';')\n",
    "f3 = final.iloc[34:]\n",
    "f3.loc[:,'y'] = [i * -1 + 0.08 for i in list(range(0, 17))]\n",
    "f3.to_csv(data_dir / 'state_pa_epop3.csv', sep=';')\n",
    "data.to_csv(data_dir / 'state_pa_epop_full.csv')"
   ]
  },
  {
   "cell_type": "code",
   "execution_count": null,
   "metadata": {
    "ExecuteTime": {
     "end_time": "2022-03-21T15:59:14.133856Z",
     "start_time": "2022-03-21T15:59:13.170979Z"
    }
   },
   "outputs": [],
   "source": [
    "# Map settings\n",
    "m = Basemap(llcrnrlon=-121, llcrnrlat=20, urcrnrlon=-64, urcrnrlat=49,\n",
    "            projection='lcc', lat_1=33, lat_2=45, lon_0=-95)\n",
    "m.readshapefile('shapefiles/states', 'states', drawbounds=False);\n",
    "\n",
    "colors = [\"white\", \"powderblue\", \"deepskyblue\", \"limegreen\", \"darkgreen\"]\n",
    "cmap = LinearSegmentedColormap.from_list(\"mycmap\", colors)\n",
    "norm = Normalize(vmin=vmin, vmax=vmax)\n",
    "\n",
    "# Draw map\n",
    "fig, axes = plt.subplots(nrows=1, ncols=2, figsize=(7.0, 2.4))\n",
    "fig.tight_layout()\n",
    "\n",
    "for group, axval in [(-1, 0), (-25, 1)]:\n",
    "    plt.sca(axes[axval])\n",
    "    axes[axval].axis('off')\n",
    "    m.drawmapboundary()\n",
    "    \n",
    "    for info, shape in zip(m.states_info, m.states):\n",
    "        \n",
    "        fc = cmap(norm(data[info['STATE_ABBR']].iloc[group]))\n",
    "        # Alaska and Hawaii moved\n",
    "        if info['STATE_ABBR'] == 'HI':\n",
    "            shape = [(x + 5200000, y - 1400000) for x,y in shape]\n",
    "        elif info['STATE_ABBR'] == 'AK':\n",
    "            shape = [(x*0.35 + 1100000, y*0.35 - 1300000) for x,y in shape]\n",
    "        axes[axval].add_patch(Polygon(shape, fc=fc))\n",
    "    \n",
    "    date = dtxt(data.index[group])['mon1']\n",
    "    plt.text(0.42, 0.97, date, fontsize=9, \n",
    "             transform=axes[axval].transAxes)\n",
    "    \n",
    "ax_inset = inset_axes(axes[0], width='-30%', height='70%', loc=4, borderpad=0.5)\n",
    "for tick_label in [60, 65, 70, 75, 80, 85, 90]:\n",
    "    plt.text(0.6, norm(tick_label), tick_label, fontsize=8, \n",
    "             ha='center', va='center', transform=ax_inset.transAxes)\n",
    "ax_inset.axis('off')\n",
    "\n",
    "# Draw custom legend\n",
    "for group, pt, pt2 in [(-1, 0.71, 0.8), (-25, 0.44, 0.4)]:\n",
    "    for i in np.linspace(58,92,40):\n",
    "        rect = Rectangle(xy=(pt, norm(i)), width=0.04, height=1/35, \n",
    "                         fc=cmap(norm(i)), ec=None)\n",
    "        ax_inset.add_patch(rect)    \n",
    "    \n",
    "    bins = pd.cut(data.iloc[group], np.linspace(58,92,33)).apply(lambda x: x.left)\n",
    "    res = data.iloc[group].groupby(bins).count()\n",
    "    for i, v in res.items():\n",
    "        if group == -1:\n",
    "            adj = (v / 50)\n",
    "        else:\n",
    "            adj = 0\n",
    "        if v > 0:\n",
    "            rect = Rectangle(xy=(pt2 + adj, norm(i)), width= -(v / 50), \n",
    "                             height=1/33, fc=cmap(norm(i)), ec=None)\n",
    "            ax_inset.add_patch(rect)    \n",
    "    \n",
    "plt.savefig('../chartbook/data/pa_epop_map.pgf', bbox_inches='tight')"
   ]
  },
  {
   "cell_type": "code",
   "execution_count": null,
   "metadata": {
    "ExecuteTime": {
     "end_time": "2022-03-21T15:59:20.751636Z",
     "start_time": "2022-03-21T15:59:20.730242Z"
    }
   },
   "outputs": [],
   "source": [
    "pr = -37 if data.index[-1] >= pd.to_datetime('2022-03-01') else -25\n",
    "prtxt = 'three' if pr == -37 else 'two'\n",
    "s = data.iloc[-1] - data.iloc[pr]\n",
    "ltdt = dtxt(data.index[-1])['mon1']\n",
    "prdt = dtxt(data.index[pr])['mon1']\n",
    "groups = (s.agg(higher=lambda x: (x > 0).sum(),\n",
    "                lower=lambda x: (x < 0).sum(),\n",
    "                unchanged=lambda x: (x == 0).sum())\n",
    "           .sort_values(ascending=False)\n",
    "           .rename({'unchanged': 'the same'})) \n",
    "mainhl = groups.index[0]\n",
    "v = groups.iloc[0]\n",
    "mainn = numbers(f'{v:.1f}') if v < 10 else v\n",
    "secondhl = ''\n",
    "and1 = 'and ' if groups.iloc[2] == 0 else ''\n",
    "if groups.iloc[1] > 0:\n",
    "    v = groups.iloc[1]\n",
    "    n = numbers[f'{v:.1f}'] if v < 10 else v\n",
    "    secondhl = f', {and1}{groups.index[1]} in {n} states'\n",
    "thirdhl = ''\n",
    "if groups.iloc[2] > 0:\n",
    "    v = groups.iloc[2]\n",
    "    n = numbers[f'{v:.1f}'] if v < 10 else v\n",
    "    thirdhl = f', and {groups.index[2]} in {n} states'\n",
    "text = (f'The age 25--54 employment rate is {mainhl} in '+\n",
    "        f'{ltdt} than it was in {prdt} in {mainn} states'+\n",
    "        f'{secondhl}{thirdhl}. ')\n",
    "sa = pd.read_csv(data_dir / 'state_pa_epop_sa_raw.csv', \n",
    "                   index_col='date', parse_dates=True)\n",
    "s2 = sa.iloc[-3:].mean() - sa.iloc[-6:-3].mean()\n",
    "grp = (s2.agg(increased=lambda x: (round(x, 1) > 0).sum(),\n",
    "              decreased=lambda x: (round(x, 1) < 0).sum(),\n",
    "              unchanged=lambda x: (round(x, 1) == 0).sum())\n",
    "         .sort_values(ascending=False)\n",
    "         .rename({'unchanged': 'was unchanged'})) \n",
    "mainhl = grp.index[0]\n",
    "v = grp.iloc[0]\n",
    "mainn = numbers(f'{v:.1f}') if v < 10 else v\n",
    "secondhl = ''\n",
    "and1 = 'and ' if grp.iloc[2] == 0 else ''\n",
    "if grp.iloc[1] > 0:\n",
    "    v = grp.iloc[1]\n",
    "    n = numbers[f'{v:.1f}'] if v < 10 else v\n",
    "    secondhl = f', {and1}{grp.index[1]} in {n} states'\n",
    "thirdhl = ''\n",
    "if grp.iloc[2] > 0:\n",
    "    v = grp.iloc[2]\n",
    "    n = numbers[f'{v:.1f}'] if v < 10 else v\n",
    "    thirdhl = f', and {grp.index[2]} in {n} states'\n",
    "txt1 = (f'{text}Comparing the latest three months to the '+\n",
    "        'previous three months, the seasonally-adjusted age '+\n",
    "        f'25--54 employment rate {mainhl} in {mainn} states'+\n",
    "        f'{secondhl}{thirdhl}.')\n",
    "write_txt(text_dir / 'state_pa_emp.txt', txt1)\n",
    "print(txt1, '\\n')\n",
    "\n",
    "states = {i['STATE_ABBR']: i['STATE_NAME'] \n",
    "          for i in m.states_info}\n",
    "top = data.iloc[-1].sort_values(ascending=False).iloc[:3]\n",
    "topt = [f'{states[top.index[i]]} ({top.iloc[i]:.1f} percent)' \n",
    "        for i in [0, 1, 2]]\n",
    "txt2 = (f'In {ltdt}, the states with the highest employment rates '+\n",
    "        f'for 25 to 54 year olds are {topt[0]}, {topt[1]}, and '+\n",
    "        f'{topt[2]}.')\n",
    "write_txt(text_dir / 'state_pa_emp_t3.txt', txt2)\n",
    "print(txt2)"
   ]
  },
  {
   "cell_type": "code",
   "execution_count": null,
   "metadata": {},
   "outputs": [],
   "source": []
  },
  {
   "cell_type": "code",
   "execution_count": null,
   "metadata": {},
   "outputs": [],
   "source": []
  }
 ],
 "metadata": {
  "kernelspec": {
   "display_name": "Python 3 (ipykernel)",
   "language": "python",
   "name": "python3"
  },
  "language_info": {
   "codemirror_mode": {
    "name": "ipython",
    "version": 3
   },
   "file_extension": ".py",
   "mimetype": "text/x-python",
   "name": "python",
   "nbconvert_exporter": "python",
   "pygments_lexer": "ipython3",
   "version": "3.8.8"
  }
 },
 "nbformat": 4,
 "nbformat_minor": 2
}
