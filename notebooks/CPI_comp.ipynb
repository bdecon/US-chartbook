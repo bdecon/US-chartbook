{
 "cells": [
  {
   "cell_type": "markdown",
   "metadata": {},
   "source": [
    "### CPI components \n",
    "\n",
    "\n",
    "https://www.bls.gov/cpi/tables/relative-importance/home.htm"
   ]
  },
  {
   "cell_type": "code",
   "execution_count": 1,
   "metadata": {},
   "outputs": [],
   "source": [
    "import sys\n",
    "sys.path.append('../src')\n",
    "\n",
    "import requests\n",
    "import re\n",
    "\n",
    "import uschartbook.config\n",
    "\n",
    "from uschartbook.config import *\n",
    "from uschartbook.utils import *"
   ]
  },
  {
   "cell_type": "code",
   "execution_count": 3,
   "metadata": {},
   "outputs": [],
   "source": [
    "# Series stored as a dictionary\n",
    "series = {'CUUR0000SA0': 'All items',\n",
    "          'CUUR0000SAM': 'Medical care',\n",
    "          'CUUR0000SAH': 'Housing',\n",
    "          'CUUR0000SEFV': 'Food away from home',\n",
    "          'CUUR0000SAF11': 'Food at home',\n",
    "          'CUUR0000SAR': 'Recreation',\n",
    "          'CUUR0000SAE1': 'Education',\n",
    "          'CUUR0000SAT': 'Transportation',\n",
    "          'CUUR0000SAA': 'Apparel',\n",
    "          'CUUR0000SA0E': 'Energy',\n",
    "          'CUUR0000SAE2': 'Communication'}\n",
    "\n",
    "url = 'https://www.bls.gov/cpi/tables/relative-importance/2018.txt'\n",
    "rel_imp = pd.read_csv(url, header=None, delim_whitespace=True)\n",
    "r = requests.get(url)\n",
    "data = r.text\n",
    "\n",
    "wgts = {value: re.findall(value+r'\\..*\\s+(\\d+\\.\\d+)\\s+\\d+\\.\\d+\\s+\\r', data)[0] \n",
    "        for key, value in series.items()}"
   ]
  },
  {
   "cell_type": "code",
   "execution_count": 4,
   "metadata": {},
   "outputs": [
    {
     "name": "stdout",
     "output_type": "stream",
     "text": [
      "Post Request Status: REQUEST_SUCCEEDED\n"
     ]
    }
   ],
   "source": [
    "# Start year and end year\n",
    "years = (2017, 2020)\n",
    "df = bls_api(series, years, bls_key)"
   ]
  },
  {
   "cell_type": "code",
   "execution_count": 6,
   "metadata": {},
   "outputs": [],
   "source": [
    "wgt_date = pd.to_datetime('2018-12-01')\n",
    "dates = {'Latest': df.index[-1], 'Previous': df.index[-13]}\n",
    "\n",
    "d = {}\n",
    "\n",
    "for name, date in dates.items():\n",
    "\n",
    "    updated_wgts = {srs: ((df.loc[date, srs] / df.loc[wgt_date, srs])\n",
    "                     * float(wgts[srs]) / \n",
    "                     (df.loc[date, 'All items'] / \n",
    "                      df.loc[wgt_date, 'All items']))\n",
    "                    for key, srs in series.items()}\n",
    "    \n",
    "    d[name] = {srs: (df[srs].pct_change(12).loc[date] \n",
    "                        * (updated_wgts[srs]))\n",
    "                  for key, srs in series.items()}\n",
    "    \n",
    "results = pd.DataFrame(d).drop('All items').round(2).sort_values('Latest', ascending=False)\n",
    "results.to_csv(data_dir / 'cpi_comp.csv', index_label='name')\n",
    "\n",
    "mo1  = df.index[-1].strftime('%b %Y')\n",
    "write_txt(text_dir / 'cpi_mo1.txt', mo1)\n",
    "\n",
    "mo2  = df.index[-13].strftime('%b %Y')\n",
    "write_txt(text_dir / 'cpi_mo2.txt', mo2)\n",
    "\n",
    "results"
   ]
  },
  {
   "cell_type": "code",
   "execution_count": 10,
   "metadata": {},
   "outputs": [],
   "source": [
    "ltdate = df.index[-1].strftime('%B %Y')\n",
    "prevdate = df.index[-13].strftime('%B %Y')\n",
    "\n",
    "ltd = {i: (results.iloc[i].name, results['Latest'].iloc[i]) for i in [0, 1, -2, -1]}\n",
    "\n",
    "textd = {}\n",
    "for idx, (name, val) in ltd.items():\n",
    "    if val >= 0.05:\n",
    "        textd[idx] = f'{name} contributed {val:.2f} percentage points to'\n",
    "    elif val <= -0.04:\n",
    "        textd[idx] = f'{name} subtracted {abs(val):.2f} percentage points from'\n",
    "    else:\n",
    "        textd[idx] = 'did not contribute significantly to'\n",
    "        \n",
    "prevd = {i: (results.iloc[i].name, results['Previous'].iloc[i]) for i in [0, 1, -2, -1]}\n",
    "\n",
    "textd2 = {}\n",
    "for idx, (name, val) in prevd.items():\n",
    "    if val >= 0.05:\n",
    "        textd2[idx] = f'a contribution of {val:.2f} percentage points'\n",
    "    elif val <= -0.04:\n",
    "        textd2[idx] = f'a reduction of {abs(val):.2f} percentage points'\n",
    "    else:\n",
    "        textd2[idx] = 'virtually no effect on inflation'"
   ]
  },
  {
   "cell_type": "code",
   "execution_count": 14,
   "metadata": {},
   "outputs": [],
   "source": [
    "text = (f'In {ltdate}, {textd[0]} overall CPI inflation, compared to '+\n",
    "        f'{textd2[0]} in {prevdate}. {textd[1]} overall inflation in '+\n",
    "        f'{ltdate}, compared to {textd2[1]} in {prevdate}.')\n",
    "\n",
    "write_txt(text_dir / 'cpicomp.txt', text)\n",
    "\n",
    "print(text)\n",
    "\n",
    "text2 = (f'{textd[-1]} overall CPI inflation in {ltdate}, compared to '+\n",
    "         f'{textd2[-1]} in {prevdate}. {textd[-2]} overall inflation, '+\n",
    "         f'compared to {textd2[-2]} the previous year.')\n",
    "\n",
    "write_txt(text_dir / 'cpicomp2.txt', text2)\n",
    "\n",
    "text2"
   ]
  },
  {
   "cell_type": "code",
   "execution_count": 15,
   "metadata": {
    "scrolled": true
   },
   "outputs": [
    {
     "data": {
      "text/plain": [
       "'did not contribute significantly to overall CPI inflation in December 2019, compared to virtually no effect on inflation in December 2018. did not contribute significantly to overall inflation, compared to a reduction of 0.06 percentage points the previous year.'"
      ]
     },
     "execution_count": 15,
     "metadata": {},
     "output_type": "execute_result"
    }
   ],
   "source": []
  },
  {
   "cell_type": "code",
   "execution_count": null,
   "metadata": {},
   "outputs": [],
   "source": []
  },
  {
   "cell_type": "markdown",
   "metadata": {},
   "source": [
    "### CPI chart"
   ]
  },
  {
   "cell_type": "code",
   "execution_count": 16,
   "metadata": {},
   "outputs": [],
   "source": [
    "# Series stored as a dictionary\n",
    "series = {\n",
    "    'CUSR0000SA0': 'ALL', \n",
    "    'CUSR0000SA0L1E': 'CORE'}"
   ]
  },
  {
   "cell_type": "code",
   "execution_count": 17,
   "metadata": {},
   "outputs": [
    {
     "name": "stdout",
     "output_type": "stream",
     "text": [
      "Post Request Status: REQUEST_SUCCEEDED\n"
     ]
    }
   ],
   "source": [
    "# Start year and end year\n",
    "years = (1988, 2019)\n",
    "df = bls_api(series, years, bls_key)"
   ]
  },
  {
   "cell_type": "code",
   "execution_count": 18,
   "metadata": {},
   "outputs": [],
   "source": [
    "(df.pct_change(12).dropna() * 100).to_csv(data_dir / 'cpi.csv', index_label='date')"
   ]
  },
  {
   "cell_type": "code",
   "execution_count": null,
   "metadata": {},
   "outputs": [],
   "source": []
  },
  {
   "cell_type": "code",
   "execution_count": null,
   "metadata": {},
   "outputs": [],
   "source": []
  },
  {
   "cell_type": "markdown",
   "metadata": {},
   "source": [
    "### CPI text"
   ]
  },
  {
   "cell_type": "code",
   "execution_count": 19,
   "metadata": {},
   "outputs": [],
   "source": [
    "s = pd.read_csv(data_dir / 'cpi.csv')\n",
    "date = pd.to_datetime(s['date'].iloc[-1]).strftime('%B %Y')\n",
    "core = s['CORE'].iloc[-1]\n",
    "allitems = s['ALL'].iloc[-1]\n",
    "\n",
    "text = ('\\href{https://www.bls.gov/cpi/}{Consumer prices} increased by '+\n",
    "        f'{allitems:.1f} percent over the year ending {date}, according '+\n",
    "        'to the CPI for all urban consumers. Core inflation, which does '+\n",
    "        'not include the more volatile food and energy prices, was '+\n",
    "        f'{core:.1f} percent.')\n",
    "\n",
    "write_txt(text_dir / 'cpi_main.txt', text)"
   ]
  },
  {
   "cell_type": "code",
   "execution_count": null,
   "metadata": {},
   "outputs": [],
   "source": []
  }
 ],
 "metadata": {
  "kernelspec": {
   "display_name": "Python 3",
   "language": "python",
   "name": "python3"
  },
  "language_info": {
   "codemirror_mode": {
    "name": "ipython",
    "version": 3
   },
   "file_extension": ".py",
   "mimetype": "text/x-python",
   "name": "python",
   "nbconvert_exporter": "python",
   "pygments_lexer": "ipython3",
   "version": "3.8.1"
  }
 },
 "nbformat": 4,
 "nbformat_minor": 2
}
