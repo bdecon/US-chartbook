{
 "cells": [
  {
   "cell_type": "markdown",
   "metadata": {},
   "source": [
    "### CPI components \n",
    "\n",
    "\n",
    "https://www.bls.gov/cpi/tables/relative-importance/home.htm"
   ]
  },
  {
   "cell_type": "code",
   "execution_count": 23,
   "metadata": {},
   "outputs": [],
   "source": [
    "import sys\n",
    "sys.path.append('../src')\n",
    "\n",
    "import requests\n",
    "import re\n",
    "\n",
    "import uschartbook.config\n",
    "\n",
    "from uschartbook.config import *\n",
    "from uschartbook.utils import *"
   ]
  },
  {
   "cell_type": "code",
   "execution_count": null,
   "metadata": {},
   "outputs": [],
   "source": [
    "# Series stored as a dictionary\n",
    "series = {'CUUR0000SA0': 'All items',\n",
    "          'CUUR0000SAM': 'Medical care',\n",
    "          'CUUR0000SAH': 'Housing',\n",
    "          'CUUR0000SEFV': 'Food away from home',\n",
    "          'CUUR0000SAF11': 'Food at home',\n",
    "          'CUUR0000SAR': 'Recreation',\n",
    "          'CUUR0000SAE1': 'Education',\n",
    "          'CUUR0000SAT': 'Transportation',\n",
    "          'CUUR0000SAA': 'Apparel',\n",
    "          'CUUR0000SA0E': 'Energy',\n",
    "          'CUUR0000SAE2': 'Communication'}"
   ]
  },
  {
   "cell_type": "code",
   "execution_count": 60,
   "metadata": {},
   "outputs": [],
   "source": [
    "url = 'https://www.bls.gov/cpi/tables/relative-importance/2018.txt'\n",
    "rel_imp = pd.read_csv(url, header=None, delim_whitespace=True)\n",
    "r = requests.get(url)\n",
    "data = r.text\n",
    "\n",
    "wgts = {value: re.findall(value+r'\\..*\\s+(\\d+\\.\\d+)\\s+\\d+\\.\\d+\\s+\\r', data)[0] \n",
    "        for key, value in series.items()}"
   ]
  },
  {
   "cell_type": "code",
   "execution_count": null,
   "metadata": {},
   "outputs": [],
   "source": [
    "# Start year and end year\n",
    "years = (2017, 2019)\n",
    "df = bls_api(series, years, bls_key)"
   ]
  },
  {
   "cell_type": "code",
   "execution_count": null,
   "metadata": {},
   "outputs": [],
   "source": []
  },
  {
   "cell_type": "code",
   "execution_count": 117,
   "metadata": {},
   "outputs": [],
   "source": [
    "wgt_date = pd.to_datetime('2018-12-01')\n",
    "dates = {'Latest': df.index[-1], 'Previous': df.index[-13]}"
   ]
  },
  {
   "cell_type": "code",
   "execution_count": 118,
   "metadata": {},
   "outputs": [],
   "source": [
    "d = {}\n",
    "\n",
    "for name, date in dates.items():\n",
    "\n",
    "    updated_wgts = {srs: ((df.loc[date, srs] / df.loc[wgt_date, srs])\n",
    "                     * float(wgts[srs]) / \n",
    "                     (df.loc[date, 'All items'] / \n",
    "                      df.loc[wgt_date, 'All items']))\n",
    "                    for key, srs in series.items()}\n",
    "    \n",
    "    d[name] = {srs: (df[srs].pct_change(12).loc[date] \n",
    "                        * (updated_wgts[srs]))\n",
    "                  for key, srs in series.items()}"
   ]
  },
  {
   "cell_type": "code",
   "execution_count": 120,
   "metadata": {},
   "outputs": [],
   "source": [
    "results = pd.DataFrame(d).drop('All items').round(2).sort_values('Latest', ascending=False)\n",
    "results.to_csv(data_dir / 'cpi_comp.csv', index_label='name')\n",
    "\n",
    "mo1  = df.index[-1].strftime('%b %Y')\n",
    "write_txt(text_dir / 'cpi_mo1.txt', mo1)\n",
    "\n",
    "mo2  = df.index[-13].strftime('%b %Y')\n",
    "write_txt(text_dir / 'cpi_mo2.txt', mo2)"
   ]
  },
  {
   "cell_type": "code",
   "execution_count": null,
   "metadata": {},
   "outputs": [],
   "source": []
  },
  {
   "cell_type": "code",
   "execution_count": null,
   "metadata": {},
   "outputs": [],
   "source": []
  },
  {
   "cell_type": "code",
   "execution_count": null,
   "metadata": {},
   "outputs": [],
   "source": []
  },
  {
   "cell_type": "code",
   "execution_count": null,
   "metadata": {},
   "outputs": [],
   "source": []
  }
 ],
 "metadata": {
  "kernelspec": {
   "display_name": "Python 3",
   "language": "python",
   "name": "python3"
  },
  "language_info": {
   "codemirror_mode": {
    "name": "ipython",
    "version": 3
   },
   "file_extension": ".py",
   "mimetype": "text/x-python",
   "name": "python",
   "nbconvert_exporter": "python",
   "pygments_lexer": "ipython3",
   "version": "3.7.5"
  }
 },
 "nbformat": 4,
 "nbformat_minor": 2
}
