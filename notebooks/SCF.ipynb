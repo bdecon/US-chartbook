{
 "cells": [
  {
   "cell_type": "markdown",
   "id": "968e1ad1",
   "metadata": {},
   "source": [
    "### Survey of Consumer Finances \n",
    "\n"
   ]
  },
  {
   "cell_type": "code",
   "execution_count": 14,
   "id": "cb9e26af",
   "metadata": {
    "ExecuteTime": {
     "end_time": "2023-11-01T15:20:55.363451Z",
     "start_time": "2023-11-01T15:20:55.353326Z"
    }
   },
   "outputs": [],
   "source": [
    "%config Completer.use_jedi = False\n",
    "import sys\n",
    "sys.path.append('../src')\n",
    "\n",
    "import uschartbook.config\n",
    "\n",
    "from uschartbook.config import *\n",
    "from uschartbook.utils import *\n",
    "\n",
    "from io import BytesIO, TextIOWrapper, StringIO\n",
    "from zipfile import ZipFile\n",
    "\n",
    "# Format values as dollars\n",
    "numfmt = (lambda x: '\\${:,.0f}'.format(x) if x >=0 \n",
    "          else '-\\${:,.0f}'.format(abs(x)))"
   ]
  },
  {
   "cell_type": "code",
   "execution_count": 33,
   "id": "0233fb96",
   "metadata": {
    "ExecuteTime": {
     "end_time": "2023-11-01T16:20:34.919647Z",
     "start_time": "2023-11-01T16:20:34.707697Z"
    }
   },
   "outputs": [],
   "source": [
    "# Download summary zip file and save selected parts\n",
    "url = 'https://www.federalreserve.gov/econres/scf/dataviz/download/zips/scf.zip'\n",
    "r = requests.get(url)\n",
    "zip_file = ZipFile(BytesIO(r.content))\n",
    "for i in ['racecl4_mean', 'racecl4_median', 'racecl4_have', 'nwcat_mean', \n",
    "          'nwcat_median']:\n",
    "    with zip_file.open(f'interactive_bulletin_charts_{i}.csv', 'r') as csvfile:\n",
    "        (pd.read_csv(StringIO(csvfile.read().decode()), \n",
    "                     index_col=['year', 'Category'], \n",
    "                     parse_dates=True)\n",
    "         .to_csv(data_dir / f'{i}.csv'))"
   ]
  },
  {
   "cell_type": "code",
   "execution_count": null,
   "id": "9efeee7b",
   "metadata": {},
   "outputs": [],
   "source": []
  },
  {
   "cell_type": "code",
   "execution_count": null,
   "id": "fb999861",
   "metadata": {},
   "outputs": [],
   "source": []
  },
  {
   "cell_type": "markdown",
   "id": "af21cd8c",
   "metadata": {
    "ExecuteTime": {
     "end_time": "2023-11-01T16:33:41.805133Z",
     "start_time": "2023-11-01T16:33:41.802719Z"
    }
   },
   "source": [
    "#### Wealth and Income"
   ]
  },
  {
   "cell_type": "code",
   "execution_count": 165,
   "id": "68fa85d4",
   "metadata": {
    "ExecuteTime": {
     "end_time": "2023-11-01T22:28:44.871827Z",
     "start_time": "2023-11-01T22:28:44.840900Z"
    },
    "code_folding": []
   },
   "outputs": [
    {
     "name": "stdout",
     "output_type": "stream",
     "text": [
      "The top ten percent of families by wealth, percentiles 90 to 100 with a mean wealth of \\$7.8 million and a median wealth of \\$3.8 million in 2022, have a typical annual income of \\$301,600 in 2022 and \\$180,400 in 1989, after adjusting for inflation. Income for the group increased \\$121,200, or 20.5 percent per year, over the 33-year period.\n",
      "\n",
      " Families in the third wealth quartile (50th to 74.9th percentiles, mean wealth of \\$373,800 in 2022), have a typical income of \\$83,200 in 2022 and \\$72,200 in 1989 (see {\\color{green!80!blue!85!black}\\textbf{---}}), an increase of \\$11,100 (5.3 percent per year).\n",
      "\n",
      "Second quartile (25th to 49.9th percentile, mean wealth of \\$98,800) family income increased \\$8,900 (6.1 percent per year) to \\$59,500 in 2022, from \\$50,500 in 1989 (see {\\color{red!20!orange!95!black}\\textbf{---}}).\n",
      "\n",
      " For the bottom quarter of families by wealth (see {\\color{violet}\\textbf{---}}), typical income increased \\$10,500 or 14.1 percent per year to \\$34,600, over the 33 years ending 2022. The bottom quarter of families have no wealth.\n"
     ]
    }
   ],
   "source": [
    "# Store data for pre-tax income by wealth percentile chart\n",
    "df = (pd.read_csv(data_dir / 'nwcat_median.csv', \n",
    "                  index_col=['year', 'Category'], parse_dates=True)\n",
    "      ['Before_Tax_Income'].unstack())\n",
    "df.to_csv(data_dir / 'scfwealthmedian.csv', index_label='date')\n",
    "\n",
    "# End nodes\n",
    "c = {'Less than 25': 'violet',\n",
    "     '25-49.9': 'red!20!orange!95!black',\n",
    "     '50-74.9': 'green!80!blue!85!black', \n",
    "     '75-89.9': 'red!80!black',\n",
    "     '90-100': 'blue!80!cyan!80!black'}\n",
    "\n",
    "date = {k: None for k, v in c.items()}\n",
    "date['90-100'] = 'y'\n",
    "\n",
    "nodes = '\\n'.join([end_node(df[k], v, date=date[k], full_year=True) \n",
    "                   for k, v in c.items()])\n",
    "write_txt(text_dir / 'scfwealthmedian_nodes.txt', nodes)\n",
    "\n",
    "# Text\n",
    "yr = dtxt(df.index[-1])['year']\n",
    "write_txt(text_dir / 'scf_year.txt', yr)\n",
    "pryr = dtxt(df.index[0])['year']\n",
    "yrch = str(int(yr) - int(pryr))\n",
    "\n",
    "d, t = {}, {}\n",
    "for cat in ['median', 'mean']:\n",
    "    s = (pd.read_csv(data_dir / f'nwcat_{cat}.csv', \n",
    "                     index_col=['year', 'Category'], parse_dates=True)\n",
    "         ['Net_Worth'].unstack())\n",
    "    d[cat] = s\n",
    "    t[cat] = s.multiply(1000).round(-2).applymap(numfmt).iloc[-1].to_dict()\n",
    "    \n",
    "inc = df.multiply(1000).round(-2).applymap(numfmt)\n",
    "lti = inc.iloc[-1]\n",
    "pyi = inc.iloc[0]\n",
    "chlt = (df.diff(len(df)-1).iloc[-1].multiply(1000)\n",
    "          .round(-2).apply(numfmt))\n",
    "pct = cagr(df)\n",
    "\n",
    "text1 = ('The top ten percent of families by wealth, percentiles 90 '+\n",
    "         f'to 100 with a mean wealth of \\${p90mean:.1f} million and '+\n",
    "         f'a median wealth of \\${p90median:.1f} million in {yr}, have '+\n",
    "         f'a typical annual income of {lti[\"90-100\"]} in {yr} and '+\n",
    "         f'{pyi[\"90-100\"]} in {pryr}, after adjusting for inflation. '+\n",
    "         f'Income for the group increased {chlt[\"90-100\"]}, or '+\n",
    "         f'{pct[\"90-100\"]:.1f} percent per year, over the {yrch}-year '+\n",
    "         'period.')\n",
    "write_txt(text_dir / 'income_wealthg1.txt', text1)\n",
    "print(text1)\n",
    "\n",
    "text2 = ('Families in the third wealth quartile (50th to 74.9th '+\n",
    "         f'percentiles, mean wealth of {t[\"mean\"][\"50-74.9\"]} in {yr}), '+\n",
    "         f'have a typical income of {lti[\"50-74.9\"]} in {yr} and '+\n",
    "         f'{pyi[\"50-74.9\"]} in {pryr} {cl[\"50-74.9\"]}, an increase of '+\n",
    "         f'{chlt[\"50-74.9\"]} ({pct[\"50-74.9\"]:.1f} percent per year).\\n\\n'+\n",
    "         'Second quartile (25th to 49.9th percentile, mean wealth of '+\n",
    "         f'{t[\"mean\"][\"25-49.9\"]}) family income increased '+\n",
    "         f'{chlt[\"25-49.9\"]} ({pct[\"25-49.9\"]:.1f} percent per year) to '+\n",
    "         f'{lti[\"25-49.9\"]} in {yr}, from {pyi[\"25-49.9\"]} in {pryr} '+\n",
    "         f'{cl[\"25-49.9\"]}.\\n\\n For the bottom quarter of families '+\n",
    "         f'by wealth {cl[\"Less than 25\"]}, typical income increased '+\n",
    "         f'{chlt[\"Less than 25\"]} or {pct[\"Less than 25\"]:.1f} percent '+\n",
    "         f'per year to {lti[\"Less than 25\"]}, over the {yrch} years '+\n",
    "         f'ending {yr}. The bottom quarter of families have no wealth.')\n",
    "write_txt(text_dir / 'income_wealthg2.txt', text2)\n",
    "print('\\n', text2)"
   ]
  },
  {
   "cell_type": "code",
   "execution_count": null,
   "id": "7f1bf21f",
   "metadata": {},
   "outputs": [],
   "source": []
  },
  {
   "cell_type": "code",
   "execution_count": null,
   "id": "c7813003",
   "metadata": {},
   "outputs": [],
   "source": []
  },
  {
   "cell_type": "markdown",
   "id": "edfb7163",
   "metadata": {},
   "source": [
    "#### Wealth and Race"
   ]
  },
  {
   "cell_type": "code",
   "execution_count": 163,
   "id": "3ff1fc2c",
   "metadata": {
    "ExecuteTime": {
     "end_time": "2023-11-01T22:18:41.473615Z",
     "start_time": "2023-11-01T22:18:41.403702Z"
    }
   },
   "outputs": [
    {
     "name": "stdout",
     "output_type": "stream",
     "text": [
      "In 2022, among the 284.3 percent of white families who own stocks, the average value of stock holdings is \\$568,136. The return on these assets is a supplement to labor income and the assets themselves provide cushion against unexpected expenses. Meanwhile, black families have relatively few financial assets; only 44.1 percent of black families own stocks, with average stock holdings of \\$80,400. \n",
      "\n",
      "In 2022, white non-Hispanic families' average net worth was \\$1,361,800, compared to \\$211,600 for black non-Hispanic families, and \\$227,500 for Hispanic families of any race. Additionally, typical (median) family wealth is much lower than average (mean) family wealth, as the result of a concentration of wealth among the wealthiest families.\n"
     ]
    }
   ],
   "source": [
    "# Collect data\n",
    "d = {'Black, non-Hispanic': 'Black', \n",
    "     'White, non-Hispanic': 'White'}\n",
    "\n",
    "# Wealth, Income, Asset measures\n",
    "srs = {'Net_Worth': 'scfracemean.csv', \n",
    "       'Before_Tax_Income': 'scfracemean1.csv',\n",
    "       'Financial_Assets': 'scfracemean0.csv', \n",
    "       'Stock_Holdings': 'scfracemean2.csv'}\n",
    "for name, filename in srs.items():\n",
    "    df = (pd.read_csv(data_dir / 'racecl4_mean.csv', \n",
    "                      index_col=['year', 'Category'], \n",
    "                      parse_dates=True)\n",
    "          [name].unstack().rename(d, axis=1))\n",
    "    df.to_csv(data_dir / filename, index_label='date')\n",
    "wval = df.White.iloc[-1] * 1000\n",
    "bval = df.Black.iloc[-1] * 1000\n",
    "\n",
    "# Share that own stocks\n",
    "df = (pd.read_csv(data_dir / 'racecl4_have.csv', \n",
    "                  index_col=['year', 'Category'], \n",
    "                  parse_dates=True)\n",
    "      ['Stock_Holdings'].unstack().rename(d, axis=1))\n",
    "df.to_csv(data_dir / 'scfracehave.csv', index_label='date')\n",
    "\n",
    "# Median wealth\n",
    "df = (pd.read_csv(data_dir / 'racecl4_median.csv', \n",
    "                  index_col=['year', 'Category'], \n",
    "                  parse_dates=True)\n",
    "      ['Net_Worth'].unstack().rename(d, axis=1))\n",
    "df.to_csv(data_dir / 'scfracemedian.csv', index_label='date')\n",
    "\n",
    "#Text\n",
    "wp = df.White.iloc[-1]\n",
    "bp = df.Black.iloc[-1]\n",
    "yr = dtxt(df.index[-1])['year']\n",
    "text = (f'In {yr}, among the {wp:.1f} percent of white families '+\n",
    "        'who own stocks, the average value of stock holdings is '+\n",
    "        f'\\${wval:,.0f}. The return on these assets is a supplement '+\n",
    "        'to labor income and the assets themselves provide cushion '+\n",
    "        'against unexpected expenses. Meanwhile, black families '+\n",
    "        f'have relatively few financial assets; only {bp:.1f} '+\n",
    "        'percent of black families own stocks, with average stock '+\n",
    "        f'holdings of \\${bval:,.0f}.')\n",
    "write_txt(text_dir / 'scfracestocks.txt', text)\n",
    "print(text, '\\n')\n",
    "\n",
    "# Summary text for racial wealth gap\n",
    "mu = pd.read_csv(data_dir / 'scfracemean.csv', index_col='date', \n",
    "                 parse_dates=True)\n",
    "md = pd.read_csv(data_dir / 'scfracemedian.csv', index_col='date', \n",
    "                 parse_dates=True)\n",
    "tmu = mu.multiply(1000).round(-2).applymap(numfmt).iloc[-1]\n",
    "\n",
    "text = (f\"In {yr}, white non-Hispanic families' average net worth \"+\n",
    "        f'was {tmu.White}, compared to {tmu.Black} for black '+\n",
    "        f'non-Hispanic families, and {tmu.Hispanic} for Hispanic '+\n",
    "        'families of any race. Additionally, typical (median) family '+\n",
    "        'wealth is much lower than average (mean) family wealth, '+\n",
    "        'as the result of a concentration of wealth among the '+\n",
    "        'wealthiest families.')\n",
    "write_txt(text_dir / 'scfracialwealthgap.txt', text)\n",
    "print(text)\n",
    "\n",
    "# Racial wealth gap bar chart\n",
    "ltmu = mu.iloc[-1]\n",
    "ltmu.index.name = 'name'\n",
    "ltmu.name = 'value'\n",
    "order = ['White', 'Black', 'Hispanic', 'Other']\n",
    "(ltmu[order].to_csv(data_dir / 'race_wealth_gap_mu.csv', \n",
    "         index_label='name'))\n",
    "\n",
    "ltmd = md.iloc[-1]\n",
    "ltmd.index.name = 'name'\n",
    "ltmd.name = 'value'\n",
    "(ltmd[order].to_csv(data_dir / 'race_wealth_gap_md.csv', \n",
    "         index_label='name'))"
   ]
  },
  {
   "cell_type": "code",
   "execution_count": null,
   "id": "31016418",
   "metadata": {},
   "outputs": [],
   "source": []
  },
  {
   "cell_type": "code",
   "execution_count": null,
   "id": "3d33118d",
   "metadata": {},
   "outputs": [],
   "source": []
  },
  {
   "cell_type": "markdown",
   "id": "322c39e3",
   "metadata": {},
   "source": [
    "### Wealth Distribution"
   ]
  },
  {
   "cell_type": "code",
   "execution_count": 169,
   "id": "7ec68aa1",
   "metadata": {
    "ExecuteTime": {
     "end_time": "2023-11-02T01:05:02.538308Z",
     "start_time": "2023-11-02T01:05:02.531762Z"
    }
   },
   "outputs": [],
   "source": [
    "url = '/home/brian/Documents/econ_data/micro/results/wealth_dist.csv'\n",
    "df = pd.read_csv(url, index_col='pct')\n",
    "df.to_csv(data_dir / 'wealth_dist.csv', index_label='pct')"
   ]
  },
  {
   "cell_type": "code",
   "execution_count": 179,
   "id": "66ace133",
   "metadata": {
    "ExecuteTime": {
     "end_time": "2023-11-02T04:01:01.429066Z",
     "start_time": "2023-11-02T04:01:01.417690Z"
    }
   },
   "outputs": [
    {
     "name": "stdout",
     "output_type": "stream",
     "text": [
      "The vast majority of this wealth, however, is held by the wealthiest families. In the 2022 \\href{{{url}}}{{Survey of Consumer Finances}}, 73.4 percent of wealth is held by the wealthiest ten percent of families (see\\cbox{blue!70!cyan!80!white}).\n"
     ]
    }
   ],
   "source": [
    "url = 'https://www.federalreserve.gov/econres/scfindex.htm'\n",
    "sh = df.Share.iloc[-1]\n",
    "cb = c_box('blue!70!cyan!80!white')\n",
    "text = ('The vast majority of this wealth, however, is held by the wealthiest '+\n",
    "        'families. In the 2022 \\href{{{url}}}{{Survey of Consumer Finances}}, '+\n",
    "        f'{sh:.1f} percent of wealth is held by the wealthiest ten percent of '+\n",
    "        f'families {cb}.')\n",
    "write_txt(text_dir / 'hh_avg_pc_wealth_summary2.txt', text)\n",
    "print(text)"
   ]
  },
  {
   "cell_type": "code",
   "execution_count": null,
   "id": "db7b9b0e",
   "metadata": {},
   "outputs": [],
   "source": []
  },
  {
   "cell_type": "code",
   "execution_count": null,
   "id": "5655b77f",
   "metadata": {},
   "outputs": [],
   "source": []
  },
  {
   "cell_type": "code",
   "execution_count": null,
   "id": "997688cf",
   "metadata": {},
   "outputs": [],
   "source": []
  }
 ],
 "metadata": {
  "kernelspec": {
   "display_name": "Python 3 (ipykernel)",
   "language": "python",
   "name": "python3"
  },
  "language_info": {
   "codemirror_mode": {
    "name": "ipython",
    "version": 3
   },
   "file_extension": ".py",
   "mimetype": "text/x-python",
   "name": "python",
   "nbconvert_exporter": "python",
   "pygments_lexer": "ipython3",
   "version": "3.8.13"
  }
 },
 "nbformat": 4,
 "nbformat_minor": 5
}
