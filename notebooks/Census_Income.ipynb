{
 "cells": [
  {
   "cell_type": "markdown",
   "metadata": {},
   "source": [
    "### Income Measures from Census\n",
    "\n",
    "Typically annual data such as from the ACS and CPS ASEC"
   ]
  },
  {
   "cell_type": "code",
   "execution_count": 1,
   "metadata": {
    "ExecuteTime": {
     "end_time": "2023-10-10T21:03:31.578733Z",
     "start_time": "2023-10-10T21:03:30.646774Z"
    }
   },
   "outputs": [],
   "source": [
    "import sys\n",
    "sys.path.append('../src')\n",
    "\n",
    "import uschartbook.config\n",
    "\n",
    "from uschartbook.config import *\n",
    "from uschartbook.utils import *\n",
    "\n",
    "# Import tools for creating map\n",
    "import matplotlib.pyplot as plt\n",
    "from mpl_toolkits.basemap import Basemap\n",
    "from matplotlib.patches import Polygon, Rectangle\n",
    "from mpl_toolkits.axes_grid1.inset_locator import inset_axes\n",
    "from matplotlib.colors import Normalize, LinearSegmentedColormap\n",
    "plt.rc('font', family='Lato')"
   ]
  },
  {
   "cell_type": "code",
   "execution_count": null,
   "metadata": {},
   "outputs": [],
   "source": []
  },
  {
   "cell_type": "code",
   "execution_count": 8,
   "metadata": {
    "ExecuteTime": {
     "end_time": "2023-09-14T22:05:57.784526Z",
     "start_time": "2023-09-14T22:05:57.551835Z"
    }
   },
   "outputs": [],
   "source": [
    "# Tools to retrieve flat files from BLS\n",
    "headers = {'User-Agent': 'Mozilla/5.0 (X11; Linux x86_64; rv:109.0) Gecko/20100101 Firefox/110.0'}\n",
    "\n",
    "url = 'https://www.bls.gov/cpi/research-series/r-cpi-u-rs-allitems.xlsx'\n",
    "r = requests.get(url, headers=headers)\n",
    "#t = pd.read_html(io.StringIO(r.content),header=0, index_col=0)\n",
    "df = pd.read_excel(io.BytesIO(r.content), header=5, index_col=0)\n",
    "cpi = df['AVG'].dropna()\n",
    "cpi.index = pd.to_datetime(cpi.index.astype('str')) + pd.DateOffset(months=6)\n",
    "cpi.index.name = 'date'\n",
    "cpi.name = 'value'\n",
    "cpi.to_csv(data_dir / 'cpi_u_rs.csv', index_label='date')"
   ]
  },
  {
   "cell_type": "code",
   "execution_count": 10,
   "metadata": {
    "ExecuteTime": {
     "end_time": "2023-09-14T22:06:16.394595Z",
     "start_time": "2023-09-14T22:06:11.664846Z"
    }
   },
   "outputs": [],
   "source": [
    "# Download table PINC-08 1_1_1 for each year\n",
    "base = 'https://www2.census.gov/programs-surveys/cps/tables/'\n",
    "pinc8 = 'pinc08_1_1_1.xlsx'\n",
    "cols = ['Total with income', 'Median income', 'Mean income']\n",
    "pinc1 = 'pinc01_1_1_1.xlsx'\n",
    "d = {}\n",
    "d2 = {}\n",
    "for year in range(2019, 2023):\n",
    "    url1 = f'{base}pinc-08/{year+1}/{pinc8}'\n",
    "    df = pd.read_excel(url1, header=9, index_col=0)\n",
    "    df = df[cols].iloc[1:]\n",
    "    d[year] = df.dropna()\n",
    "    url2 = f'{base}pinc-01/{year+1}/{pinc1}'\n",
    "    pop = pd.read_excel(url2, 'pinc01', index_col=None, \n",
    "                        usecols = 'B', header = 11, nrows=0)\n",
    "    d2[year] = pop.columns.values[0]\n",
    "di = {'Pop': d2, 'Inc': d}\n",
    "pd.to_pickle(di,data_dir / 'pinc_temp.pickle')"
   ]
  },
  {
   "cell_type": "code",
   "execution_count": 11,
   "metadata": {
    "ExecuteTime": {
     "end_time": "2023-09-14T22:06:19.330243Z",
     "start_time": "2023-09-14T22:06:19.308846Z"
    }
   },
   "outputs": [],
   "source": [
    "yr1 = 2022\n",
    "yr2 = 2019\n",
    "cpi = pd.read_csv(data_dir / 'cpi_u_rs.csv', index_col='date', parse_dates=True)\n",
    "pch = (cpi.loc[f'{yr1}-07-01'] / cpi.loc[f'{yr2}-07-01']).value\n",
    "\n",
    "di = pd.read_pickle(data_dir / 'pinc_temp.pickle')\n",
    "res = pd.concat(di['Inc'].values(), axis=1, keys=di['Inc'].keys())\n",
    "res.index = res.index.str.replace('....Total', '\\\\textbf{Total}', regex=False)\n",
    "res = res[res.index.str.contains('..', regex=False)==False]\n",
    "res = res.rename({'SSI (Supplemental Security Income)': 'Supplemental Security Income', \n",
    "            'Financial assistance from outside the household': 'Outside financial assistance',\n",
    "            'Other income, N.E.C.': 'Other'})\n",
    "res = res.loc[:,res.columns.get_level_values(0).isin([yr1, yr2])]\n",
    "res = res.reindex(columns=[yr1, yr2], level=0)\n",
    "# Adjust for inflation\n",
    "prvals = [(yr2, 'Median income'), (yr2, 'Mean income')]\n",
    "res[prvals] = res[prvals] * pch\n",
    "final = res.astype('int')\n",
    "\n",
    "# Save version for download\n",
    "res = res.applymap('{:,.0f}'.format)\n",
    "res.index.name = ''\n",
    "res.to_csv(data_dir / 'pinc08.csv', index_label='category')\n",
    "\n",
    "# Store years separately for tex table\n",
    "year1 = f'{res.columns[0][0]}'\n",
    "year2 = f'{res.columns[3][0]}'\n",
    "write_txt(text_dir / 'pinc_year1.txt', year1)\n",
    "write_txt(text_dir / 'pinc_year2.txt', year2)\n",
    "\n",
    "# Save version for tex table\n",
    "for i in [1, 2, 4, 5]:\n",
    "    res.iloc[0, i] = f'\\${res.iloc[0, i]}'\n",
    "res.droplevel(0, axis=1).to_csv(data_dir / 'pinc08.tex', sep='&', \n",
    "             lineterminator='\\\\\\ ', quotechar=' ')"
   ]
  },
  {
   "cell_type": "code",
   "execution_count": 12,
   "metadata": {
    "ExecuteTime": {
     "end_time": "2023-09-14T22:06:22.824985Z",
     "start_time": "2023-09-14T22:06:22.787552Z"
    }
   },
   "outputs": [],
   "source": [
    "df = pd.DataFrame()\n",
    "df[f'Mean {yr1}'] = final[(yr1, 'Mean income')]\n",
    "df[f'Number {yr1}'] = final[(yr1, 'Total with income')] * 1000\n",
    "df[f'Total {yr1}'] = df[f'Mean {yr1}'] * df[f'Number {yr1}']\n",
    "df[f'Mean {yr2}'] = final[(yr2, 'Mean income')]\n",
    "df[f'Number {yr2}'] = final[(yr2, 'Total with income')] * 1000\n",
    "df[f'Total {yr2}'] = df[f'Mean {yr2}'] * df[f'Number {yr2}']\n",
    "df['PctCh'] = ((df[f'Total {yr1}'] / df[f'Total {yr2}']) - 1) * 100\n",
    "df['LvlCh'] = df[f'Total {yr1}'] - df[f'Total {yr2}']\n",
    "df['LvlChP'] = (df[f'Number {yr1}'] * df[f'Mean {yr2}']) - df[f'Total {yr2}']\n",
    "df['LvlChM'] = (df[f'Number {yr2}'] * df[f'Mean {yr1}']) - df[f'Total {yr2}']\n",
    "df['ContribP'] = (df['LvlChP'] / df.loc['\\\\textbf{Total}', 'LvlCh']) * df.loc['\\\\textbf{Total}', 'PctCh']\n",
    "df['ContribM'] = (df['LvlChM'] / df.loc['\\\\textbf{Total}', 'LvlCh']) * df.loc['\\\\textbf{Total}', 'PctCh']\n",
    "df['Contrib'] = (df['LvlCh'] / df.loc['\\\\textbf{Total}', 'LvlCh']) * df.loc['\\\\textbf{Total}', 'PctCh']\n",
    "\n",
    "# Determine six most prominent sources of change\n",
    "df2 = df.drop(['\\\\textbf{Total}', 'Other'])\n",
    "cats = (abs(pd.concat([df2['ContribP'], df2['ContribM'], df2['Contrib']]))\n",
    " .sort_values(ascending=False)\n",
    " .index.drop_duplicates(keep='first'))[:6]\n",
    "# Top six used for bar chart\n",
    "df.loc[cats, ['ContribP', 'ContribM']].to_csv(data_dir / 'pinc.csv', \n",
    "                                              index_label='Name')\n",
    "\n",
    "# Save full version for download\n",
    "(df[['Contrib', 'ContribP', 'ContribM']]\n",
    "   .to_csv(data_dir / 'pinc_ch_contrib.csv', index_label='category'))"
   ]
  },
  {
   "cell_type": "code",
   "execution_count": 13,
   "metadata": {
    "ExecuteTime": {
     "end_time": "2023-09-14T22:06:24.729280Z",
     "start_time": "2023-09-14T22:06:24.703701Z"
    }
   },
   "outputs": [
    {
     "name": "stdout",
     "output_type": "stream",
     "text": [
      "From 2019 to 2022, aggregate pre-tax personal income decreased by a total of 2.83 percent, after adjusting for changes in prices. Compared to 2019, fewer people received earnings from work, while mean earnings increased. Real income from pensions and retirement plans fell over the period. Unemployment compensation and property income contributed to the overall growth in real income. \n"
     ]
    }
   ],
   "source": [
    "# Manual description for now\n",
    "val = df.loc['\\\\textbf{Total}', 'PctCh']\n",
    "valtext = value_text(val, 'increase_by', digits=2, adj='total')\n",
    "text = (f'From {yr2} to {yr1}, aggregate pre-tax personal income {valtext}, '+\n",
    "        f'after adjusting for changes in prices. Compared to {yr2}, fewer '+\n",
    "        f'people received earnings from work, while mean earnings increased. '+\n",
    "        f'Real income from pensions and retirement plans fell over the period. '+\n",
    "        f'Unemployment compensation and property income contributed to the '+\n",
    "        'overall growth in real income. ')\n",
    "write_txt(text_dir / 'pi_ch_ann.txt', text)\n",
    "print(text)"
   ]
  },
  {
   "cell_type": "code",
   "execution_count": null,
   "metadata": {},
   "outputs": [],
   "source": []
  },
  {
   "cell_type": "code",
   "execution_count": null,
   "metadata": {},
   "outputs": [],
   "source": []
  },
  {
   "cell_type": "code",
   "execution_count": null,
   "metadata": {},
   "outputs": [],
   "source": []
  },
  {
   "cell_type": "markdown",
   "metadata": {},
   "source": [
    "### Median Household Income by State"
   ]
  },
  {
   "cell_type": "code",
   "execution_count": 2,
   "metadata": {
    "ExecuteTime": {
     "end_time": "2023-10-10T21:03:40.142391Z",
     "start_time": "2023-10-10T21:03:38.655135Z"
    }
   },
   "outputs": [],
   "source": [
    "# Uncomment below to retrieve data from API if needed\n",
    "year = 2022\n",
    "srs = 'S1901_C01_012E'\n",
    "url = (f'https://api.census.gov/data/{year}/acs/acs1/subject?'+\n",
    "      f'get=NAME,{srs}&for=state:*&key={census_key}')\n",
    "r = requests.get(url).json()\n",
    "df = (pd.DataFrame(r[1:], columns=r[0])\n",
    "       .set_index('NAME')\n",
    "       .astype({srs: 'int'}))\n",
    "\n",
    "# Retrieve US level data\n",
    "url2 = (f'https://api.census.gov/data/{year}/acs/acs1/subject?'+\n",
    "      f'get=NAME,S1901_C01_012E&for=us:1&key={census_key}')\n",
    "r2 = requests.get(url2).json()\n",
    "us = (pd.DataFrame(r2[1:], columns=r2[0])\n",
    "       .set_index('NAME')\n",
    "       .astype({srs: 'int'}))\n",
    "df2 = pd.concat([df, us])\n",
    "df2.to_csv(data_dir / 'median_hh_inc_state.csv', index_label='name')\n",
    "\n",
    "# Retrieve locally stored data\n",
    "df = pd.read_csv(data_dir / 'median_hh_inc_state.csv', index_col='name')\n",
    "data = df[srs] / 1000\n",
    "vmin = 50\n",
    "vmax = 110\n",
    "if (vmin > min(data.drop('Puerto Rico'))) or (vmax < max(data)):\n",
    "    print('Check max and min boundaries')\n",
    "step = 10\n",
    "legend_ticks = np.arange(vmin, vmax + step, step).tolist()"
   ]
  },
  {
   "cell_type": "code",
   "execution_count": 4,
   "metadata": {
    "ExecuteTime": {
     "end_time": "2023-10-10T21:05:34.183834Z",
     "start_time": "2023-10-10T21:05:33.564016Z"
    },
    "scrolled": true
   },
   "outputs": [
    {
     "data": {
      "image/png": "[encoded data removed]",
      "text/plain": [
       "<Figure size 860x380 with 2 Axes>"
      ]
     },
     "metadata": {},
     "output_type": "display_data"
    }
   ],
   "source": [
    "# Set map projection and boundaries\n",
    "m = Basemap(llcrnrlon=-118, llcrnrlat=20, urcrnrlon=-64, urcrnrlat=49,\n",
    "            projection='lcc', lat_1=33, lat_2=45, lon_0=-95)\n",
    "\n",
    "fig = plt.figure(figsize=(8.6,3.8))\n",
    "\n",
    "m.drawmapboundary()\n",
    "m.readshapefile('shapefiles/states', 'states', drawbounds=False) \n",
    "\n",
    "ax = plt.gca()\n",
    "ax.axis('off')\n",
    "    \n",
    "# Assign income values to colors\n",
    "cm = plt.cm.turbo_r\n",
    "norm = Normalize(vmin, vmax)\n",
    "\n",
    "# Add states to map\n",
    "for info, shape in zip(m.states_info, m.states):\n",
    "    fc = cm(norm(data[info['STATE_NAME']]))\n",
    "    # Alaska and Hawaii moved\n",
    "    if info['STATE_NAME'] == 'Hawaii':\n",
    "        shape = [(x + 5200000, y - 1400000) for x,y in shape]\n",
    "    elif info['STATE_NAME'] == 'Alaska':\n",
    "        shape = [(x*0.35 + 900000, y*0.35 - 1300000) for x,y in shape]\n",
    "    ax.add_patch(Polygon(shape, fc=fc))\n",
    "\n",
    "# Custom legend    \n",
    "ax_inset = inset_axes(ax, width='-40%', height='60%', loc=7, borderpad=0.2)\n",
    "for tick_label in legend_ticks:\n",
    "    plt.text(0.66, norm(tick_label), tick_label, fontsize=7, \n",
    "             ha='center', va='center', transform=ax_inset.transAxes)\n",
    "ax_inset.axis('off')\n",
    "\n",
    "nbins = 25\n",
    "for i in np.linspace(vmin,vmax,nbins):\n",
    "    rect = Rectangle(xy=(0.72, norm(i)), width=0.03, height=(1/nbins), \n",
    "        fc=cm(norm(i)), ec=None)\n",
    "    ax_inset.add_patch(rect)  \n",
    "bins = pd.cut(data, np.linspace(vmin,vmax,nbins)).apply(lambda x: x.left)\n",
    "res = data.groupby(bins).count()\n",
    "for i, v in res.items():\n",
    "    rect = Rectangle(xy=(0.78 + (v / 80), norm(i)), width= -(v / 80),\n",
    "                     height=(1/(nbins)), fc=cm(norm(i)), ec=None)\n",
    "    if v > 0:\n",
    "        ax_inset.add_patch(rect) \n",
    "\n",
    "# US median noted on legend\n",
    "line = Rectangle(xy=(1.02, norm(data['United States'])), width=-0.25,\n",
    "                     height=0.005, fc='gray', ec='none')\n",
    "ax_inset.add_patch(line)\n",
    "# US total \n",
    "ust = f\"\\\\\\${data['United States'] * 1000:,.0f}\"\n",
    "plt.text(0.99, norm(data['United States']) + 0.11, f'US\\nmedian\\n{ust}', fontsize=7, \n",
    "             ha='center', va='center', transform=ax_inset.transAxes)  \n",
    "        \n",
    "# Text to note legend is in thousands        \n",
    "plt.text(0.72, 1.07, 'thousand', fontsize=7, \n",
    "             ha='center', va='center', transform=ax_inset.transAxes)        \n",
    "        \n",
    "plt.savefig('../chartbook/data/hh_med_inc.pgf', bbox_inches='tight')"
   ]
  },
  {
   "cell_type": "code",
   "execution_count": 5,
   "metadata": {
    "ExecuteTime": {
     "end_time": "2023-10-10T21:06:03.048661Z",
     "start_time": "2023-10-10T21:06:03.025111Z"
    }
   },
   "outputs": [
    {
     "name": "stdout",
     "output_type": "stream",
     "text": [
      "Lastly, the Census Bureau \\href{https://www.census.gov/library/publications/2022/acs/acsbr-011.html}{report} median household income by state, calculated using the American Community Survey. In 2022, the median US household income, using this measure, is \\$74,755. In the same year, the median income in 18 states and the District of Columbia is above the national median, and the median income in 32 states is below the national median.\n",
      "\n",
      "In 2022, the District of Columbia tops the list, with a median household income of \\$101,027. New Jersey has the second highest income (\\$96,346), followed by Maryland (\\$94,991). Other high-income states include Massachusetts (\\$94,488), Hawaii (\\$92,458), California (\\$91,551), Washington (\\$91,306), New Hampshire (\\$89,992), Colorado (\\$89,302), and Utah (\\$89,168).\n",
      "\n",
      "The state with the lowest 2022 median household income is Mississippi (\\$52,719), followed by West Virginia (\\$54,329), Louisiana (\\$55,416), Arkansas (\\$55,432), Kentucky (\\$59,341), and Oklahoma (\\$59,673). Median household income in Puerto Rico is \\$24,112. \n"
     ]
    }
   ],
   "source": [
    "url = 'https://www.census.gov/library/publications/2022/acs/acsbr-011.html'\n",
    "usmed = f\"\\${data['United States'] * 1000:,.0f}\"\n",
    "\n",
    "tmp = data.drop(['Puerto Rico', 'United States']).sort_values()\n",
    "above_st = tmp[tmp > data['United States']]\n",
    "above_no = len(above_st)\n",
    "below_st = tmp[tmp < data['United States']]\n",
    "below_no = len(below_st)\n",
    "above = f'{above_no} states'\n",
    "below = f'{below_no} states'\n",
    "if 'District of Columbia' in above_st:\n",
    "    above = f'{above_no - 1} states and the District of Columbia'\n",
    "if 'District of Columbia' in below_st:\n",
    "    below = f'{below_no - 1} states and the District of Columbia'\n",
    "\n",
    "text1 = (f'Lastly, the Census Bureau \\href{{{url}}}'+\n",
    "         '{report} median household income by state, calculated using '+\n",
    "         f'the American Community Survey. In {year}, the median US '+\n",
    "         f'household income, using this measure, is {usmed}. In the '+\n",
    "         f'same year, the median income in {above} is above the national '+\n",
    "         f'median, and the median income in {below} is below the national '+\n",
    "         'median.\\n\\n')\n",
    "tmp = data.drop(['Puerto Rico', 'United States']).sort_values()\n",
    "tmp = tmp.rename({'District of Columbia': 'the District of Columbia'}) * 1000\n",
    "second = tmp.index[-2][0].upper() + tmp.index[-2][1:] # Capitalize\n",
    "txt = {}\n",
    "for i in [4, 5, 6, 7, 8, 9, 10]:\n",
    "    txt[i] = f'{tmp.index[-i]} (\\${tmp.iloc[-i]:,.0f})'\n",
    "    if i == 10:\n",
    "        txt[i] = f'and {txt[i]}'\n",
    "othhigh = ', '.join([v for k,v in txt.items()])\n",
    "txt2 = {}\n",
    "for i in [1, 2, 3, 4, 5]:\n",
    "    txt2[i] = f'{tmp.index[i]} (\\${tmp.iloc[i]:,.0f})'\n",
    "    if i == 5:\n",
    "        txt2[i] = f'and {txt2[i]}'\n",
    "othlow = ', '.join([v for k,v in txt2.items()])\n",
    "\n",
    "pr = f'Median household income in Puerto Rico is \\${data[\"Puerto Rico\"]*1000:,.0f}. '\n",
    "text2 = (f'In {year}, {tmp.index[-1]} tops the list, with a median household '+\n",
    "         f'income of \\${tmp.iloc[-1]:,.0f}. {second} has the second '+\n",
    "         f'highest income (\\${tmp.iloc[-2]:,.0f}), followed by '+\n",
    "         f'{tmp.index[-3]} (\\${tmp.iloc[-3]:,.0f}). Other high-income '+\n",
    "         f'states include {othhigh}.\\n\\nThe state with the lowest {year} median '+\n",
    "         f'household income is {tmp.index[0]} (\\${tmp.iloc[0]:,.0f}), '+\n",
    "         f'followed by {othlow}. {pr}')\n",
    "\n",
    "text = text1 + text2\n",
    "print(text)\n",
    "write_txt(text_dir / 'med_hh_inc_state.txt', text)"
   ]
  },
  {
   "cell_type": "code",
   "execution_count": null,
   "metadata": {},
   "outputs": [],
   "source": []
  },
  {
   "cell_type": "code",
   "execution_count": null,
   "metadata": {},
   "outputs": [],
   "source": []
  },
  {
   "cell_type": "code",
   "execution_count": null,
   "metadata": {},
   "outputs": [],
   "source": []
  },
  {
   "cell_type": "code",
   "execution_count": null,
   "metadata": {},
   "outputs": [],
   "source": []
  },
  {
   "cell_type": "code",
   "execution_count": null,
   "metadata": {},
   "outputs": [],
   "source": [
    "# Table made manually from combining PINC-09 from 2021 and 2020\n",
    "df = (pd.read_csv('../data/pinc-09-2020-2019.csv', index_col='Name')\n",
    "        .drop(['Wages and salary', 'Nonfarm self-employment']))\n",
    "df['Mean2019'] = df['Mean2019'] * (381.2/376.5) #CPI=RS-U\n",
    "years = [2020, 2019]\n",
    "for year in years:\n",
    "    df[f'Total{year}'] = df[f'Number{year}'] * df[f'Mean{year}']\n",
    "    \n",
    "df['PctCh'] = ((df['Total2020'] / df['Total2019']) - 1) * 100\n",
    "df['LvlCh'] = df['Total2020'] - df['Total2019']\n",
    "df['LvlChP'] = (df['Number2020'] * df['Mean2019']) - df['Total2019']\n",
    "df['LvlChM'] = (df['Number2019'] * df['Mean2020']) - df['Total2019']\n",
    "df['ContribP'] = (df['LvlChP'] / df.loc['Total', 'LvlCh']) * df.loc['Total', 'PctCh']\n",
    "df['ContribM'] = (df['LvlChM'] / df.loc['Total', 'LvlCh']) * df.loc['Total', 'PctCh']\n",
    "df['Contrib'] = (df['LvlCh'] / df.loc['Total', 'LvlCh']) * df.loc['Total', 'PctCh']\n",
    "\n",
    "cats = ['Earnings', 'Unemployment compensation', \n",
    "        'Property income', 'Retirement income']\n",
    "df.loc[cats, ['ContribP', 'ContribM']].to_csv(data_dir / 'pinc.csv', \n",
    "                                              index_label='Name')\n",
    "val = df.loc['Total', 'PctCh']\n",
    "valtext = value_text(val, 'increase_by')\n",
    "text = (f'In {years[0]}, aggregate pre-tax personal income {valtext}')\n",
    "write_txt(text_dir / 'pi_ch_ann.txt', text)\n",
    "print(text)"
   ]
  },
  {
   "cell_type": "code",
   "execution_count": null,
   "metadata": {},
   "outputs": [],
   "source": []
  },
  {
   "cell_type": "code",
   "execution_count": null,
   "metadata": {},
   "outputs": [],
   "source": [
    "url15 = 'https://www2.census.gov/programs-surveys/cps/tables/pinc-08/2016/pinc08_1_1_1.xls'\n",
    "url16 = 'https://www2.census.gov/programs-surveys/cps/tables/pinc-08/2017/pinc08_1_1_1.xls'\n",
    "url17 = 'https://www2.census.gov/programs-surveys/cps/tables/pinc-08/2018/bridge/pinc08_1_1_1.xls'\n",
    "url18 = 'https://www2.census.gov/programs-surveys/cps/tables/pinc-08/2019/pinc08_1_1_1.xls'\n",
    "url19 = 'https://www2.census.gov/programs-surveys/cps/tables/pinc-08/2020/pinc08_1_1_1.xlsx'\n",
    "url20 = 'https://www2.census.gov/programs-surveys/cps/tables/pinc-08/2021/pinc08_1_1_1.xlsx'\n",
    "url21 = 'https://www2.census.gov/programs-surveys/cps/tables/pinc-08/2022/pinc08_1_1_1.xlsx'"
   ]
  },
  {
   "cell_type": "code",
   "execution_count": 139,
   "metadata": {
    "ExecuteTime": {
     "end_time": "2022-10-10T02:05:47.339142Z",
     "start_time": "2022-10-10T02:05:41.768167Z"
    }
   },
   "outputs": [],
   "source": [
    "# Download table PINC-08 1_1_1 for each year\n",
    "base = 'https://www2.census.gov/programs-surveys/cps/tables/pinc-08/'\n",
    "file = 'pinc08_1_1_1.xls'\n",
    "cols1 = ['Total with income', 'Median income', 'Mean income']\n",
    "cols2 = ['Total with Income', 'Median income', 'Mean income']\n",
    "hdr1 = 9\n",
    "hdr2 = 10\n",
    "urls = {}\n",
    "d = {}\n",
    "for year in range(2018, 2022):\n",
    "    bridge = 'bridge/' if year == 2017 else ''\n",
    "    x = 'x' if year > 2018 else ''\n",
    "    cols = cols1 if year > 2018 else cols2\n",
    "    hdr = hdr2 if year in [2017, 2018] else hdr1\n",
    "    url = f'{base}{year+1}/{bridge}{file}{x}'\n",
    "    df = pd.read_excel(url, header=hdr, index_col=0)\n",
    "    urls[year] = url\n",
    "    df = df[cols].iloc[1:]\n",
    "    if year < 2017:\n",
    "        df = df.loc[:'Combination of Income Types:']\n",
    "    df.index = df.index.str.replace('.', '', regex=False).str.lower()\n",
    "#    df = df.rename({'Other Income, NEC': 'Other income, NEC'})\n",
    "    d[year] = df.dropna()#.rename({'Total with Income': 'Total with income'}, \n",
    "                #        axis=1).dropna()"
   ]
  }
 ],
 "metadata": {
  "kernelspec": {
   "display_name": "Python 3 (ipykernel)",
   "language": "python",
   "name": "python3"
  },
  "language_info": {
   "codemirror_mode": {
    "name": "ipython",
    "version": 3
   },
   "file_extension": ".py",
   "mimetype": "text/x-python",
   "name": "python",
   "nbconvert_exporter": "python",
   "pygments_lexer": "ipython3",
   "version": "3.8.13"
  }
 },
 "nbformat": 4,
 "nbformat_minor": 4
}
