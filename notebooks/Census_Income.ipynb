{
 "cells": [
  {
   "cell_type": "markdown",
   "metadata": {},
   "source": [
    "### Income Measures from Census\n",
    "\n",
    "Typically annual data such as from the ACS and CPS ASEC"
   ]
  },
  {
   "cell_type": "code",
   "execution_count": 1,
   "metadata": {
    "ExecuteTime": {
     "end_time": "2022-10-11T10:46:56.523388Z",
     "start_time": "2022-10-11T10:46:55.406979Z"
    }
   },
   "outputs": [],
   "source": [
    "import sys\n",
    "sys.path.append('../src')\n",
    "\n",
    "import uschartbook.config\n",
    "\n",
    "from uschartbook.config import *\n",
    "from uschartbook.utils import *"
   ]
  },
  {
   "cell_type": "code",
   "execution_count": 174,
   "metadata": {
    "ExecuteTime": {
     "end_time": "2022-10-10T03:50:42.375567Z",
     "start_time": "2022-10-10T03:50:41.926624Z"
    }
   },
   "outputs": [],
   "source": [
    "url = 'https://www.bls.gov/cpi/research-series/r-cpi-u-rs-allitems.xlsx'\n",
    "df = pd.read_excel(url, header=5, index_col=0)\n",
    "cpi = df['AVG'].dropna()\n",
    "cpi.index = pd.to_datetime(cpi.index.astype('str')) + pd.DateOffset(months=6)\n",
    "cpi.index.name = 'date'\n",
    "cpi.name = 'value'\n",
    "cpi.to_csv(data_dir / 'cpi_u_rs.csv', index_label='date')"
   ]
  },
  {
   "cell_type": "code",
   "execution_count": 179,
   "metadata": {
    "ExecuteTime": {
     "end_time": "2022-10-10T03:59:19.448677Z",
     "start_time": "2022-10-10T03:59:15.542547Z"
    }
   },
   "outputs": [],
   "source": [
    "# Download table PINC-08 1_1_1 for each year\n",
    "base = 'https://www2.census.gov/programs-surveys/cps/tables/'\n",
    "pinc8 = 'pinc08_1_1_1.xlsx'\n",
    "cols = ['Total with income', 'Median income', 'Mean income']\n",
    "pinc1 = 'pinc01_1_1_1.xlsx'\n",
    "d = {}\n",
    "d2 = {}\n",
    "for year in range(2019, 2022):\n",
    "    url1 = f'{base}pinc-08/{year+1}/{pinc8}'\n",
    "    df = pd.read_excel(url1, header=9, index_col=0)\n",
    "    df = df[cols].iloc[1:]\n",
    "    d[year] = df.dropna()\n",
    "    url2 = f'{base}pinc-01/{year+1}/{pinc1}'\n",
    "    pop = pd.read_excel(url2, 'pinc01', index_col=None, \n",
    "                        usecols = 'B', header = 11, nrows=0)\n",
    "    d2[year] = pop.columns.values[0]\n",
    "di = {'Pop': d2, 'Inc': d}\n",
    "pd.to_pickle(di,data_dir / 'pinc_temp.pickle')"
   ]
  },
  {
   "cell_type": "code",
   "execution_count": 96,
   "metadata": {
    "ExecuteTime": {
     "end_time": "2022-10-11T13:53:13.665947Z",
     "start_time": "2022-10-11T13:53:13.645830Z"
    }
   },
   "outputs": [],
   "source": [
    "yr1 = 2021\n",
    "yr2 = 2019\n",
    "cpi = pd.read_csv(data_dir / 'cpi_u_rs.csv', index_col='date', parse_dates=True)\n",
    "pch = (cpi.loc[f'{yr1}-07-01'] / cpi.loc[f'{yr2}-07-01']).value\n",
    "\n",
    "di = pd.read_pickle(data_dir / 'pinc_temp.pickle')\n",
    "res = pd.concat(di['Inc'].values(), axis=1, keys=di['Inc'].keys())\n",
    "res.index = res.index.str.replace('....Total', '\\\\textbf{Total}', regex=False)\n",
    "res = res[res.index.str.contains('..', regex=False)==False]\n",
    "res = res.rename({'SSI (Supplemental Security Income)': 'Supplemental Security Income', \n",
    "            'Financial assistance from outside the household': 'Outside financial assistance',\n",
    "            'Other income, N.E.C.': 'Other'})\n",
    "res = res.loc[:,res.columns.get_level_values(0).isin([yr1, yr2])]\n",
    "res = res.reindex(columns=[yr1, yr2], level=0)\n",
    "# Adjust for inflation\n",
    "prvals = [(yr2, 'Median income'), (yr2, 'Mean income')]\n",
    "res[prvals] = res[prvals] * pch\n",
    "final = res.astype('int')\n",
    "\n",
    "# Save version for download\n",
    "res = res.applymap('{:,.0f}'.format)\n",
    "res.index.name = ''\n",
    "res.to_csv(data_dir / 'pinc08.csv', index_label='category')\n",
    "\n",
    "# Store years separately for tex table\n",
    "year1 = f'{res.columns[0][0]}'\n",
    "year2 = f'{res.columns[3][0]}'\n",
    "write_txt(text_dir / 'pinc_year1.txt', year1)\n",
    "write_txt(text_dir / 'pinc_year2.txt', year2)\n",
    "\n",
    "# Save version for tex table\n",
    "res.droplevel(0, axis=1).to_csv(data_dir / 'pinc08.tex', sep='&', \n",
    "             line_terminator='\\\\\\ ', quotechar=' ')"
   ]
  },
  {
   "cell_type": "code",
   "execution_count": 102,
   "metadata": {
    "ExecuteTime": {
     "end_time": "2022-10-11T13:58:03.028750Z",
     "start_time": "2022-10-11T13:58:03.019774Z"
    }
   },
   "outputs": [],
   "source": [
    "df = pd.DataFrame()\n",
    "df[f'Mean {yr1}'] = final[(yr1, 'Mean income')]\n",
    "df[f'Number {yr1}'] = final[(yr1, 'Total with income')] * 1000\n",
    "df[f'Total {yr1}'] = df[f'Mean {yr1}'] * df[f'Number {yr1}']\n",
    "df[f'Mean {yr2}'] = final[(yr2, 'Mean income')]\n",
    "df[f'Number {yr2}'] = final[(yr2, 'Total with income')] * 1000\n",
    "df[f'Total {yr2}'] = df[f'Mean {yr2}'] * df[f'Number {yr2}']\n",
    "df['PctCh'] = ((df[f'Total {yr1}'] / df[f'Total {yr2}']) - 1) * 100\n",
    "df['LvlCh'] = df[f'Total {yr1}'] - df[f'Total {yr2}']\n",
    "df['LvlChP'] = (df[f'Number {yr1}'] * df[f'Mean {yr2}']) - df[f'Total {yr2}']\n",
    "df['LvlChM'] = (df[f'Number {yr2}'] * df[f'Mean {yr1}']) - df[f'Total {yr2}']\n",
    "df['ContribP'] = (df['LvlChP'] / df.loc['\\\\textbf{Total}', 'LvlCh']) * df.loc['\\\\textbf{Total}', 'PctCh']\n",
    "df['ContribM'] = (df['LvlChM'] / df.loc['\\\\textbf{Total}', 'LvlCh']) * df.loc['\\\\textbf{Total}', 'PctCh']\n",
    "df['Contrib'] = (df['LvlCh'] / df.loc['\\\\textbf{Total}', 'LvlCh']) * df.loc['\\\\textbf{Total}', 'PctCh']\n",
    "\n",
    "# Determine six most prominent sources of change\n",
    "df2 = df.drop(['\\\\textbf{Total}', 'Other'])\n",
    "cats = (abs(pd.concat([df2['ContribP'], df2['ContribM'], df2['Contrib']]))\n",
    " .sort_values(ascending=False)\n",
    " .index.drop_duplicates(keep='first'))[:6]\n",
    "# Top six used for bar chart\n",
    "df.loc[cats, ['ContribP', 'ContribM']].to_csv(data_dir / 'pinc.csv', \n",
    "                                              index_label='Name')\n",
    "\n",
    "# Save full version for download\n",
    "(df[['Contrib', 'ContribP', 'ContribM']]\n",
    "   .to_csv(data_dir / 'pinc_ch_contrib.csv', index_label='category'))"
   ]
  },
  {
   "cell_type": "code",
   "execution_count": 135,
   "metadata": {
    "ExecuteTime": {
     "end_time": "2022-10-11T14:30:13.613866Z",
     "start_time": "2022-10-11T14:30:13.606689Z"
    }
   },
   "outputs": [
    {
     "name": "stdout",
     "output_type": "stream",
     "text": [
      "From 2019 to 2021, aggregate pre-tax personal income increased by a total of 0.55 percent, after adjusting for changes in prices. Compared to 2019, fewer people received earnings from work, while mean earnings increased. Real income from pensions and retirement plans fell over the period. Unemployment compensation and property income contributed to the overall growth in real income. \n"
     ]
    }
   ],
   "source": [
    "# Manual description for now\n",
    "val = df.loc['\\\\textbf{Total}', 'PctCh']\n",
    "valtext = value_text(val, 'increase_by', digits=2, adj='total')\n",
    "text = (f'From {yr2} to {yr1}, aggregate pre-tax personal income {valtext}, '+\n",
    "        f'after adjusting for changes in prices. Compared to {yr2}, fewer '+\n",
    "        f'people received earnings from work, while mean earnings increased. '+\n",
    "        f'Real income from pensions and retirement plans fell over the period. '+\n",
    "        f'Unemployment compensation and property income contributed to the '+\n",
    "        'overall growth in real income. ')\n",
    "write_txt(text_dir / 'pi_ch_ann.txt', text)\n",
    "print(text)"
   ]
  },
  {
   "cell_type": "code",
   "execution_count": null,
   "metadata": {},
   "outputs": [],
   "source": []
  },
  {
   "cell_type": "code",
   "execution_count": null,
   "metadata": {},
   "outputs": [],
   "source": []
  },
  {
   "cell_type": "code",
   "execution_count": null,
   "metadata": {},
   "outputs": [],
   "source": []
  },
  {
   "cell_type": "code",
   "execution_count": null,
   "metadata": {},
   "outputs": [],
   "source": [
    "# Table made manually from combining PINC-09 from 2021 and 2020\n",
    "df = (pd.read_csv('../data/pinc-09-2020-2019.csv', index_col='Name')\n",
    "        .drop(['Wages and salary', 'Nonfarm self-employment']))\n",
    "df['Mean2019'] = df['Mean2019'] * (381.2/376.5) #CPI=RS-U\n",
    "years = [2020, 2019]\n",
    "for year in years:\n",
    "    df[f'Total{year}'] = df[f'Number{year}'] * df[f'Mean{year}']\n",
    "    \n",
    "df['PctCh'] = ((df['Total2020'] / df['Total2019']) - 1) * 100\n",
    "df['LvlCh'] = df['Total2020'] - df['Total2019']\n",
    "df['LvlChP'] = (df['Number2020'] * df['Mean2019']) - df['Total2019']\n",
    "df['LvlChM'] = (df['Number2019'] * df['Mean2020']) - df['Total2019']\n",
    "df['ContribP'] = (df['LvlChP'] / df.loc['Total', 'LvlCh']) * df.loc['Total', 'PctCh']\n",
    "df['ContribM'] = (df['LvlChM'] / df.loc['Total', 'LvlCh']) * df.loc['Total', 'PctCh']\n",
    "df['Contrib'] = (df['LvlCh'] / df.loc['Total', 'LvlCh']) * df.loc['Total', 'PctCh']\n",
    "\n",
    "cats = ['Earnings', 'Unemployment compensation', \n",
    "        'Property income', 'Retirement income']\n",
    "df.loc[cats, ['ContribP', 'ContribM']].to_csv(data_dir / 'pinc.csv', \n",
    "                                              index_label='Name')\n",
    "val = df.loc['Total', 'PctCh']\n",
    "valtext = value_text(val, 'increase_by')\n",
    "text = (f'In {years[0]}, aggregate pre-tax personal income {valtext}')\n",
    "write_txt(text_dir / 'pi_ch_ann.txt', text)\n",
    "print(text)"
   ]
  },
  {
   "cell_type": "code",
   "execution_count": null,
   "metadata": {},
   "outputs": [],
   "source": []
  },
  {
   "cell_type": "code",
   "execution_count": null,
   "metadata": {},
   "outputs": [],
   "source": [
    "url15 = 'https://www2.census.gov/programs-surveys/cps/tables/pinc-08/2016/pinc08_1_1_1.xls'\n",
    "url16 = 'https://www2.census.gov/programs-surveys/cps/tables/pinc-08/2017/pinc08_1_1_1.xls'\n",
    "url17 = 'https://www2.census.gov/programs-surveys/cps/tables/pinc-08/2018/bridge/pinc08_1_1_1.xls'\n",
    "url18 = 'https://www2.census.gov/programs-surveys/cps/tables/pinc-08/2019/pinc08_1_1_1.xls'\n",
    "url19 = 'https://www2.census.gov/programs-surveys/cps/tables/pinc-08/2020/pinc08_1_1_1.xlsx'\n",
    "url20 = 'https://www2.census.gov/programs-surveys/cps/tables/pinc-08/2021/pinc08_1_1_1.xlsx'\n",
    "url21 = 'https://www2.census.gov/programs-surveys/cps/tables/pinc-08/2022/pinc08_1_1_1.xlsx'"
   ]
  },
  {
   "cell_type": "code",
   "execution_count": 139,
   "metadata": {
    "ExecuteTime": {
     "end_time": "2022-10-10T02:05:47.339142Z",
     "start_time": "2022-10-10T02:05:41.768167Z"
    }
   },
   "outputs": [],
   "source": [
    "# Download table PINC-08 1_1_1 for each year\n",
    "base = 'https://www2.census.gov/programs-surveys/cps/tables/pinc-08/'\n",
    "file = 'pinc08_1_1_1.xls'\n",
    "cols1 = ['Total with income', 'Median income', 'Mean income']\n",
    "cols2 = ['Total with Income', 'Median income', 'Mean income']\n",
    "hdr1 = 9\n",
    "hdr2 = 10\n",
    "urls = {}\n",
    "d = {}\n",
    "for year in range(2018, 2022):\n",
    "    bridge = 'bridge/' if year == 2017 else ''\n",
    "    x = 'x' if year > 2018 else ''\n",
    "    cols = cols1 if year > 2018 else cols2\n",
    "    hdr = hdr2 if year in [2017, 2018] else hdr1\n",
    "    url = f'{base}{year+1}/{bridge}{file}{x}'\n",
    "    df = pd.read_excel(url, header=hdr, index_col=0)\n",
    "    urls[year] = url\n",
    "    df = df[cols].iloc[1:]\n",
    "    if year < 2017:\n",
    "        df = df.loc[:'Combination of Income Types:']\n",
    "    df.index = df.index.str.replace('.', '', regex=False).str.lower()\n",
    "#    df = df.rename({'Other Income, NEC': 'Other income, NEC'})\n",
    "    d[year] = df.dropna()#.rename({'Total with Income': 'Total with income'}, \n",
    "                #        axis=1).dropna()"
   ]
  }
 ],
 "metadata": {
  "kernelspec": {
   "display_name": "Python 3 (ipykernel)",
   "language": "python",
   "name": "python3"
  },
  "language_info": {
   "codemirror_mode": {
    "name": "ipython",
    "version": 3
   },
   "file_extension": ".py",
   "mimetype": "text/x-python",
   "name": "python",
   "nbconvert_exporter": "python",
   "pygments_lexer": "ipython3",
   "version": "3.8.8"
  }
 },
 "nbformat": 4,
 "nbformat_minor": 4
}
