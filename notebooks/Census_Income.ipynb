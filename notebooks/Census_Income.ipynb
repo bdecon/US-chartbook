{
 "cells": [
  {
   "cell_type": "markdown",
   "metadata": {},
   "source": [
    "### Income Measures from Census\n",
    "\n",
    "Typically annual data such as from the ACS and CPS ASEC"
   ]
  },
  {
   "cell_type": "code",
   "execution_count": 1,
   "metadata": {
    "ExecuteTime": {
     "end_time": "2021-09-15T14:53:14.269335Z",
     "start_time": "2021-09-15T14:53:13.622594Z"
    }
   },
   "outputs": [],
   "source": [
    "import sys\n",
    "sys.path.append('../src')\n",
    "\n",
    "import uschartbook.config\n",
    "\n",
    "from uschartbook.config import *\n",
    "from uschartbook.utils import *"
   ]
  },
  {
   "cell_type": "code",
   "execution_count": 3,
   "metadata": {
    "ExecuteTime": {
     "end_time": "2021-09-15T14:53:33.356976Z",
     "start_time": "2021-09-15T14:53:33.165951Z"
    },
    "scrolled": false
   },
   "outputs": [
    {
     "name": "stdout",
     "output_type": "stream",
     "text": [
      "Total percent change in personal income, 2020 vs 2019:  -1.21%\n",
      "                              ContribP  ContribM  Contrib\n",
      "Name                                                     \n",
      "Total                             0.27     -1.48    -1.21\n",
      "Earnings                         -1.34     -1.09    -2.42\n",
      "Unemployment compensation         0.84      0.10     1.56\n",
      "Workers' compensation            -0.01     -0.01    -0.02\n",
      "Social Security                   0.08     -0.00     0.07\n",
      "Supplemental Security Income      0.01     -0.00     0.01\n",
      "Public assistance                 0.01      0.00     0.01\n",
      "Veterans' benefits               -0.01      0.02     0.01\n",
      "Survivor benefits                -0.03     -0.00    -0.03\n",
      "Disability benefits              -0.01     -0.03    -0.04\n",
      "Retirement income                -0.27     -0.36    -0.62\n",
      "Property income                   0.01      0.31     0.32\n",
      "Educational assistance           -0.04      0.05     0.00\n",
      "Child support                    -0.01     -0.00    -0.01\n",
      "Alimony                           0.00      0.01     0.01\n",
      "Outside financial assistance     -0.01     -0.00    -0.01\n",
      "Other                            -0.07     -0.07    -0.12\n"
     ]
    },
    {
     "data": {
      "image/png": "[encoded data removed]",
      "text/plain": [
       "<Figure size 432x288 with 1 Axes>"
      ]
     },
     "metadata": {
      "needs_background": "light"
     },
     "output_type": "display_data"
    }
   ],
   "source": [
    "# Table made manually from combining PINC-09 from 2019 and 2018\n",
    "df = (pd.read_csv('../data/pinc-09-2020-2019.csv', index_col='Name')\n",
    "        .drop(['Wages and salary', 'Nonfarm self-employment']))\n",
    "df['Mean2019'] = df['Mean2019'] * (381.2/376.5) #CPI=RS-U\n",
    "for year in [2020, 2019]:\n",
    "    df[f'Total{year}'] = df[f'Number{year}'] * df[f'Mean{year}']\n",
    "    \n",
    "df['PctCh'] = ((df['Total2020'] / df['Total2019']) - 1) * 100\n",
    "df['LvlCh'] = df['Total2020'] - df['Total2019']\n",
    "df['LvlChP'] = (df['Number2020'] * df['Mean2019']) - df['Total2019']\n",
    "df['LvlChM'] = (df['Number2019'] * df['Mean2020']) - df['Total2019']\n",
    "df['ContribP'] = (df['LvlChP'] / df.loc['Total', 'LvlCh']) * df.loc['Total', 'PctCh']\n",
    "df['ContribM'] = (df['LvlChM'] / df.loc['Total', 'LvlCh']) * df.loc['Total', 'PctCh']\n",
    "df['Contrib'] = (df['LvlCh'] / df.loc['Total', 'LvlCh']) * df.loc['Total', 'PctCh']\n",
    "print('Total percent change in personal income, 2020 vs 2019: ', f\"{df.loc['Total', 'PctCh']:.2f}%\")\n",
    "print(df[['ContribP', 'ContribM', 'Contrib']].round(2))\n",
    "df[['ContribP', 'ContribM']].plot(kind='barh');"
   ]
  },
  {
   "cell_type": "code",
   "execution_count": 6,
   "metadata": {
    "ExecuteTime": {
     "end_time": "2021-09-15T15:14:02.622188Z",
     "start_time": "2021-09-15T15:14:02.618398Z"
    }
   },
   "outputs": [],
   "source": [
    "cats = ['Earnings', 'Unemployment compensation', 'Property income', 'Retirement income']\n",
    "\n",
    "df.loc[cats, ['ContribP', 'ContribM']].to_csv(data_dir / 'pinc.csv', index_label='Name')"
   ]
  },
  {
   "cell_type": "code",
   "execution_count": null,
   "metadata": {},
   "outputs": [],
   "source": []
  }
 ],
 "metadata": {
  "kernelspec": {
   "display_name": "Python 3",
   "language": "python",
   "name": "python3"
  },
  "language_info": {
   "codemirror_mode": {
    "name": "ipython",
    "version": 3
   },
   "file_extension": ".py",
   "mimetype": "text/x-python",
   "name": "python",
   "nbconvert_exporter": "python",
   "pygments_lexer": "ipython3",
   "version": "3.8.8"
  }
 },
 "nbformat": 4,
 "nbformat_minor": 4
}
