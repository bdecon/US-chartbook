{
 "cells": [
  {
   "cell_type": "markdown",
   "metadata": {},
   "source": [
    "### Income Measures from Census\n",
    "\n",
    "Typically annual data such as from the ACS and CPS ASEC"
   ]
  },
  {
   "cell_type": "code",
   "execution_count": 2,
   "metadata": {
    "ExecuteTime": {
     "end_time": "2020-09-29T17:06:50.114409Z",
     "start_time": "2020-09-29T17:06:49.472882Z"
    }
   },
   "outputs": [],
   "source": [
    "import sys\n",
    "sys.path.append('../src')\n",
    "\n",
    "import uschartbook.config\n",
    "\n",
    "from uschartbook.config import *\n",
    "from uschartbook.utils import *"
   ]
  },
  {
   "cell_type": "code",
   "execution_count": 3,
   "metadata": {
    "ExecuteTime": {
     "end_time": "2020-09-29T17:06:50.997604Z",
     "start_time": "2020-09-29T17:06:50.788021Z"
    },
    "scrolled": false
   },
   "outputs": [
    {
     "name": "stdout",
     "output_type": "stream",
     "text": [
      "Total percent change in personal income, 2019 vs 2018:  6.89%\n",
      "                              ContribP  ContribM  Contrib\n",
      "Name                                                     \n",
      "Total                             1.36      5.46     6.89\n",
      "Earnings                          1.06      2.56     3.65\n",
      "Unemployment compensation         0.01      0.01     0.02\n",
      "Workers' compensation             0.02      0.02     0.04\n",
      "Social Security                   0.15      0.30     0.45\n",
      "Supplemental Security Income     -0.02      0.01    -0.01\n",
      "Public assistance                -0.00      0.01     0.01\n",
      "Veterans' benefits                0.01      0.07     0.09\n",
      "Survivor benefits                 0.01     -0.02    -0.01\n",
      "Disability benefits               0.03      0.01     0.04\n",
      "Retirement income                 0.31      0.24     0.57\n",
      "Property income                   0.32      1.54     1.95\n",
      "Educational assistance            0.01     -0.01     0.00\n",
      "Child support                    -0.01      0.00    -0.01\n",
      "Alimony                          -0.01      0.01    -0.01\n",
      "Outside financial assistance     -0.03     -0.01    -0.04\n",
      "Other                             0.00      0.18     0.18\n"
     ]
    },
    {
     "data": {
      "image/png": "[encoded data removed]",
      "text/plain": [
       "<Figure size 432x288 with 1 Axes>"
      ]
     },
     "metadata": {
      "needs_background": "light"
     },
     "output_type": "display_data"
    }
   ],
   "source": [
    "# Table made manually from combining PINC-09 from 2019 and 2018\n",
    "df = (pd.read_csv('../data/pinc-09-2019-2018.csv', index_col='Name')\n",
    "        .drop(['Wages and salary', 'Nonfarm self-employment']))\n",
    "df['Mean2018'] = df['Mean2018'] * (376.5/369.8)\n",
    "for year in [2019, 2018]:\n",
    "    df[f'Total{year}'] = df[f'Number{year}'] * df[f'Mean{year}']\n",
    "    \n",
    "df['PctCh'] = ((df['Total2019'] / df['Total2018']) - 1) * 100\n",
    "df['LvlCh'] = df['Total2019'] - df['Total2018']\n",
    "df['LvlChP'] = (df['Number2019'] * df['Mean2018']) - df['Total2018']\n",
    "df['LvlChM'] = (df['Number2018'] * df['Mean2019']) - df['Total2018']\n",
    "df['ContribP'] = (df['LvlChP'] / df.loc['Total', 'LvlCh']) * df.loc['Total', 'PctCh']\n",
    "df['ContribM'] = (df['LvlChM'] / df.loc['Total', 'LvlCh']) * df.loc['Total', 'PctCh']\n",
    "df['Contrib'] = (df['LvlCh'] / df.loc['Total', 'LvlCh']) * df.loc['Total', 'PctCh']\n",
    "print('Total percent change in personal income, 2019 vs 2018: ', f\"{df.loc['Total', 'PctCh']:.2f}%\")\n",
    "print(df[['ContribP', 'ContribM', 'Contrib']].round(2))\n",
    "df[['ContribP', 'ContribM']].plot(kind='barh');"
   ]
  },
  {
   "cell_type": "code",
   "execution_count": 11,
   "metadata": {
    "ExecuteTime": {
     "end_time": "2020-09-29T17:28:32.227363Z",
     "start_time": "2020-09-29T17:28:32.223611Z"
    }
   },
   "outputs": [],
   "source": [
    "cats = ['Earnings', 'Property income', 'Retirement income', 'Social Security']\n",
    "\n",
    "df.loc[cats, ['ContribP', 'ContribM']].to_csv(data_dir / 'pinc.csv', index_label='Name')"
   ]
  },
  {
   "cell_type": "code",
   "execution_count": null,
   "metadata": {},
   "outputs": [],
   "source": []
  }
 ],
 "metadata": {
  "kernelspec": {
   "display_name": "Python 3",
   "language": "python",
   "name": "python3"
  },
  "language_info": {
   "codemirror_mode": {
    "name": "ipython",
    "version": 3
   },
   "file_extension": ".py",
   "mimetype": "text/x-python",
   "name": "python",
   "nbconvert_exporter": "python",
   "pygments_lexer": "ipython3",
   "version": "3.8.5"
  }
 },
 "nbformat": 4,
 "nbformat_minor": 4
}
