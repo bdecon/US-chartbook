{
 "cells": [
  {
   "cell_type": "markdown",
   "metadata": {},
   "source": [
    "# Main GDP Data \n",
    "\n",
    "Brian Dew\n",
    "\n",
    "@bd_econ"
   ]
  },
  {
   "cell_type": "code",
   "execution_count": 2,
   "metadata": {
    "ExecuteTime": {
     "end_time": "2023-11-19T19:19:22.441426Z",
     "start_time": "2023-11-19T19:19:21.446806Z"
    }
   },
   "outputs": [],
   "source": [
    "import sys\n",
    "sys.path.append('../src')\n",
    "\n",
    "import uschartbook.config\n",
    "\n",
    "from uschartbook.config import *\n",
    "from uschartbook.utils import *"
   ]
  },
  {
   "cell_type": "code",
   "execution_count": 2,
   "metadata": {
    "ExecuteTime": {
     "end_time": "2023-10-13T21:34:45.741401Z",
     "start_time": "2023-10-13T21:34:45.739022Z"
    }
   },
   "outputs": [],
   "source": [
    "#nipa_series_codes(retrieve_table('T11500'))"
   ]
  },
  {
   "cell_type": "code",
   "execution_count": null,
   "metadata": {},
   "outputs": [],
   "source": []
  },
  {
   "cell_type": "markdown",
   "metadata": {},
   "source": [
    "### GDP Intro Chart and Text"
   ]
  },
  {
   "cell_type": "code",
   "execution_count": 9,
   "metadata": {
    "ExecuteTime": {
     "end_time": "2023-11-08T16:57:37.294851Z",
     "start_time": "2023-11-08T16:57:37.248144Z"
    }
   },
   "outputs": [],
   "source": [
    "df = nipa_df(retrieve_table('T10502')['Data'],\n",
    "             ['A191RL'])['A191RL']\n",
    "# Dates for latest quarters chart\n",
    "a = df.iloc[-8:]\n",
    "a['Quarter'] = [f'Q{i.quarter}\\\\\\\\{i.year}' if i.quarter == 1 \n",
    "                else dtxt(i)['qtr3'] for i in a.index]\n",
    "# From GDP Now (cover cases where no nowcast available)\n",
    "if gdpdt < nowdt:\n",
    "    next_qtr = rec.index[-1] + pd.DateOffset(months=3)\n",
    "    label = (f'Q{next_qtr.quarter}\\\\\\\\{next_qtr.year}' \n",
    "             if next_qtr.quarter == 1 else dtxt(next_qtr)['qtr3'])\n",
    "    frow = pd.DataFrame({'Quarter': label, \n",
    "                         'index': next_qtr}, index={'index': 4})\n",
    "    rec= pd.concat([rec.reset_index(), frow]).set_index('index')\n",
    "    rec.loc[next_qtr, 'A191RL'] = 0\n",
    "rec['zero'] = 0\n",
    "a.to_csv(data_dir/'gdp_rec2.csv', index_label='date')"
   ]
  },
  {
   "cell_type": "code",
   "execution_count": 10,
   "metadata": {
    "ExecuteTime": {
     "end_time": "2023-11-08T16:57:38.078193Z",
     "start_time": "2023-11-08T16:57:37.952686Z"
    }
   },
   "outputs": [
    {
     "name": "stdout",
     "output_type": "stream",
     "text": [
      "\\$27,623 billion in the third quarter of 2023, compared to an inflation-adjusted equivalent of \\$25,731 billion in 2019 Q4, and \\$11,504 billion in the first quarter of 1989.\n",
      "\n",
      "The US population is growing by about half a percent per year. GDP per capita (see {\\color{red!95!black}\\textbf{---}}), adjusted for inflation to 2023 Q3 dollars, had increased to \\$77,690 in 2019 Q4 from \\$47,111 in 1989 Q1, and is currently \\$82,335, as of the third quarter of 2023.\n"
     ]
    }
   ],
   "source": [
    "df = nipa_df(retrieve_table('T70100')['Data'], ['A939RC', 'A939RX'])\n",
    "df['value'] = (df['A939RX'] / df['A939RX'].iloc[-1]) * df['A939RC'].iloc[-1]\n",
    "df.loc['1989':, 'value'].divide(1000).to_csv(data_dir / 'gdppc.csv', \n",
    "                                             index_label='date')\n",
    "cd = nipa_df(retrieve_table('T10105')['Data'], ['A191RC'])['A191RC'].iloc[-1]\n",
    "rgdp = nipa_df(retrieve_table('T10106')['Data'], ['A191RX'])\n",
    "rgdp_cd = rgdp / rgdp.iloc[-1] * cd\n",
    "\n",
    "ltdate = dtxt(df.index[-1])['qtr2']\n",
    "gdp_val = int(rgdp_cd.iloc[-1].values[0] / 1000)\n",
    "gdp_prv_val = int(rgdp_cd.loc['2019-10-01'] / 1000)\n",
    "gdp_prv_val2 = int(rgdp_cd.iloc[0].values[0] / 1000)\n",
    "gdppc_val = int(df.iloc[-1].loc['value'])\n",
    "gdppc_prv_val = int(df.loc['2019-10-01', 'value'])\n",
    "gdppc_prv_val2 = int(df.iloc[0].loc['value'])\n",
    "qdate = dtxt(df.index[-1])['qtr1']\n",
    "pop = nipa_df(retrieve_table('T20100')['Data'], ['B230RC'])['B230RC']\n",
    "num = numbers[f'{(pop.pct_change(4).iloc[-1] * 1000).round()}']\n",
    "popnum = f'{num}-tenths of' if num != 'five' else 'half'\n",
    "color = 'red!95!black'\n",
    "cl = c_line(color)\n",
    "node = end_node(df['value'] / 1000, color, anchor='south', \n",
    "                dollar='thousands')\n",
    "write_txt(text_dir / 'gdp_pc_node.txt', node)\n",
    "text = (f'\\${gdp_val:,} billion in {ltdate}, compared to an '+\n",
    "        f'inflation-adjusted equivalent of \\${gdp_prv_val:,} '+\n",
    "        f'billion in 2019 Q4, and \\${gdp_prv_val2:,} billion in '+\n",
    "        'the first quarter of 1989.\\n\\nThe US population is growing '+\n",
    "        f'by about {popnum} a percent per year. GDP per capita '+\n",
    "        f'{cl}, adjusted for inflation to {qdate} dollars, had '+\n",
    "        f'increased to \\${gdppc_prv_val:,} in 2019 Q4 from '+\n",
    "        f'\\${gdppc_prv_val2:,} in 1989 Q1, and is currently '+\n",
    "        f'\\${gdppc_val:,}, as of {ltdate}.')\n",
    "write_txt(text_dir / 'gdp1.txt', text)\n",
    "print(text)"
   ]
  },
  {
   "cell_type": "code",
   "execution_count": null,
   "metadata": {},
   "outputs": [],
   "source": []
  },
  {
   "cell_type": "code",
   "execution_count": null,
   "metadata": {},
   "outputs": [],
   "source": []
  },
  {
   "cell_type": "markdown",
   "metadata": {},
   "source": [
    "### GDP components"
   ]
  },
  {
   "cell_type": "code",
   "execution_count": 11,
   "metadata": {
    "ExecuteTime": {
     "end_time": "2023-11-08T16:57:40.734441Z",
     "start_time": "2023-11-08T16:57:40.518104Z"
    }
   },
   "outputs": [
    {
     "name": "stdout",
     "output_type": "stream",
     "text": [
      "Much of the increase in GDP over the past 30 years comes from consumer spending. Consumer spending (see {\\color{yellow!45!orange}\\textbf{---}}) is equivalent to \\$55,840 per person in 2023 Q3, a price-adjusted increase of \\$25,483 since 1989.\n",
      "\n",
      "Gross private domestic investment (see {\\color{blue!70!black}\\textbf{---}}) is equivalent to \\$14,603 per person in 2023 Q3. Government spending and investment (see {\\color{cyan!60!white}\\textbf{---}}) totals \\$14,231 per person. The trade deficit, equivalent to \\$2,339 per person, is subtracted, to capture only domestic production (see {\\color{green!60!black}\\textbf{---}}).\n"
     ]
    }
   ],
   "source": [
    "pop = nipa_df(retrieve_table('T20100')['Data'], ['B230RC'])['B230RC']\n",
    "\n",
    "srs = {'A191RX': '\\hspace{0.01mm} {\\color{red!95!black}\\\\textbf{---}} Gross Domestic Product', \n",
    "       'DPCERX': '\\hspace{1.0mm} {\\color{yellow!45!orange}\\\\textbf{---}} Consumer Spending', \n",
    "       'A006RX': '\\hspace{1.0mm} {\\color{blue!70!black}\\\\textbf{---}} Gross Private Domestic Investment', \n",
    "       'A822RX': '\\hspace{1.0mm} {\\color{cyan!60!white}\\\\textbf{---}} Government Spending \\& Investment',\n",
    "       'A019RX': '\\hspace{1.0mm} {\\color{green!60!black}\\\\textbf{---}} Net Exports', \n",
    "       'A020RX': '\\hspace{4.5mm} Exports', 'A021RX': '\\hspace{4.5mm} Less: Imports'}\n",
    "s = [key for key, value in srs.items()]\n",
    "s2 = [i[:-1].replace('A02', 'B02') + 'C' for i in s]\n",
    "df = nipa_df(retrieve_table('T10106')['Data'], s).sort_index()\n",
    "df2 = nipa_df(retrieve_table('T10105')['Data'], s2).sort_index()\n",
    "\n",
    "dfpop = df.div(pop, axis=0)\n",
    "real_vals = df2.rename({i: i.replace('RC', 'RX').replace('B02', 'A02') \n",
    "                        for i in s2}, axis=1).iloc[-1]\n",
    "data = ((dfpop / dfpop.iloc[-1]) * (real_vals / pop.iloc[-1])).loc['1989':]\n",
    "\n",
    "sel_cols = ['DPCERX', 'A006RX', 'A019RX', 'A822RX']\n",
    "\n",
    "data[sel_cols].to_csv(data_dir / 'gdp_pc_comp.csv', index_label='date')\n",
    "\n",
    "pce = f'\\${data.DPCERX.iloc[-1] * 1000:,.0f}'\n",
    "inv = f'\\${data.A006RX.iloc[-1] * 1000:,.0f}'\n",
    "gov = f'\\${data.A822RX.iloc[-1] * 1000:,.0f}'\n",
    "exp = f'\\${abs(data.A019RX.iloc[-1]) * 1000:,.0f}'\n",
    "ltdt = dtxt(data.index[-1])['qtr1']\n",
    "pce_diff = f'\\${(data.DPCERX.iloc[-1] - data.DPCERX.iloc[0]) * 1000:,.0f}'\n",
    "\n",
    "text = ('Much of the increase in GDP over the past '+\n",
    "        '30 years comes from consumer spending. Consumer '+\n",
    "        'spending (see {\\color{yellow!45!orange}\\\\textbf{---}}) is '+\n",
    "        f'equivalent to {pce} per person in {ltdt}, a price-adjusted '+\n",
    "        f'increase of {pce_diff} since 1989.\\n\\nGross private domestic '+\n",
    "        'investment (see {\\color{blue!70!black}\\\\textbf{---}}) is '+\n",
    "        f'equivalent to {inv} per person in {ltdt}. Government '+\n",
    "        'spending and investment (see {\\color{cyan!60!white}\\\\textbf{---}}) '+\n",
    "        f'totals {gov} per person. The trade deficit, equivalent to {exp} per '+\n",
    "        'person, is subtracted, to capture only domestic production '+\n",
    "        '(see {\\color{green!60!black}\\\\textbf{---}}).')\n",
    "\n",
    "write_txt(text_dir / 'gdp_pc_comp.txt', text)\n",
    "write_txt(text_dir / 'gdp_ltdt.txt', ltdt)\n",
    "print(text)\n",
    "\n",
    "res = data * 1000\n",
    "lt = res.rename(srs, axis=1).iloc[-1]\n",
    "lt.name = dtxt(lt.name)['qtr1']\n",
    "pr = res.rename(srs, axis=1).iloc[-2]\n",
    "pr.name = dtxt(pr.name)['qtr1']\n",
    "pc = res.rename(srs, axis=1).loc['2019-10-01']\n",
    "pc.name = dtxt(pc.name)['qtr1']\n",
    "p00 = res.rename(srs, axis=1).loc['2000-01-01']\n",
    "p00.name = dtxt(p00.name)['qtr1']\n",
    "fi = res.rename(srs, axis=1).iloc[0]\n",
    "fi.name = dtxt(fi.name)['qtr1']\n",
    "table = pd.concat([lt, pr, pc, p00, fi], axis=1).applymap('{:,.0f}'.format)\n",
    "table.iloc[0, 0] = f'\\${table.iloc[0, 0]}'\n",
    "table.to_csv(data_dir / 'gdppc_levels.tex', sep='&', \n",
    "             lineterminator='\\\\\\ ', quotechar=' ')"
   ]
  },
  {
   "cell_type": "code",
   "execution_count": null,
   "metadata": {},
   "outputs": [],
   "source": []
  },
  {
   "cell_type": "code",
   "execution_count": null,
   "metadata": {},
   "outputs": [],
   "source": []
  },
  {
   "cell_type": "markdown",
   "metadata": {},
   "source": [
    "### Labor Share"
   ]
  },
  {
   "cell_type": "code",
   "execution_count": 4,
   "metadata": {
    "ExecuteTime": {
     "end_time": "2023-11-10T21:30:18.915950Z",
     "start_time": "2023-11-10T21:30:18.788258Z"
    }
   },
   "outputs": [
    {
     "name": "stdout",
     "output_type": "stream",
     "text": [
      "Over the year ending 2023 Q2, labor receives 68.7 percent of net domestic income (see {\\color{blue!50!cyan}\\textbf{---}}). Labor's share increased 0.9 percentage point over the past year. For context, one percent of net domestic income translates to \\$204 billion per year, which is \\$1,310 per worker. \n",
      "\n",
      " Labor's share in the corporate sector is 73.8 percent percent in 2023 Q2 (see {\\color{green!60!blue}\\textbf{---}}). The corporate sector has well-defined accounting, which is useful for this analysis. The corporate labor share is currently 9.1 percentage points below its 30-year high of 83.0 percent in 1993 Q1. \n"
     ]
    }
   ],
   "source": [
    "# Compensation of employees divided by gross domestic income less \n",
    "# depreciation (net domestic income, as depreciation is income that\n",
    "# does not go to people)\n",
    "s = ['A261RC', 'A4002C', 'A262RC', 'W271RC']\n",
    "df = nipa_df(retrieve_table('T11000')['Data'], s).sort_index()\n",
    "df['NDI'] = (df['A4002C'] + df['W271RC'])\n",
    "df['Share'] = (df['A4002C'] / df['NDI']) * 100\n",
    "\n",
    "s2 = ['A442RC', 'W322RC']\n",
    "df2 = nipa_df(retrieve_table('T11400')['Data'], s2).sort_index()\n",
    "df2['NCI'] = df2[s2].dropna().sum(axis=1)\n",
    "csh = (df2['A442RC'] / df2['NCI']).dropna().rolling(4).mean() * 100\n",
    "csh.name = 'Corp_Share'\n",
    "\n",
    "data = pd.concat([df['Share'].rolling(4).mean(), csh], axis=1).dropna()\n",
    "data.loc['1989':].to_csv(data_dir / 'laborshare.csv', \n",
    "                                  index_label='date')\n",
    "\n",
    "colors = {'Share': 'blue!50!cyan', 'Corp_Share': 'green!60!blue'}\n",
    "adj = node_adj(data)\n",
    "smax = data.dropna().iloc[-1].idxmax()\n",
    "adj[smax] += 0.35\n",
    "date = {n: None for n in colors.keys()}\n",
    "date[smax] = 'q'\n",
    "\n",
    "nodes = '\\n'.join([end_node(data[n].dropna(), c, date=date[n], offset=adj[n]) \n",
    "                   for n, c in colors.items()])\n",
    "write_txt(text_dir / 'laborshare_node.txt', nodes)\n",
    "\n",
    "# Text\n",
    "ltdt = dtxt(data.index[-1])['qtr1']\n",
    "ltval = value_text(data.Share.iloc[-1], 'plain')\n",
    "ltvalc = value_text(data.Corp_Share.iloc[-1], 'plain')\n",
    "chlt = value_text(data.Share.diff(4).dropna().iloc[-1], ptype='pp')\n",
    "cmax = value_text(data.Corp_Share.max(), 'plain')\n",
    "cidxmax = dtxt(data.Corp_Share.idxmax())['qtr1']\n",
    "cch = value_text(data.Corp_Share.iloc[-1] - data.Corp_Share.max(), \n",
    "                 'above_below', ptype='pp')\n",
    "\n",
    "# Note on value of labor share\n",
    "emp = pd.read_csv(data_dir / 'ces_raw.csv', index_col='date', \n",
    "                  parse_dates=True)['CES0000000001'] / 1_000\n",
    "emp = emp.resample('QS').mean()\n",
    "tot = ((df['NDI'].dropna()) * 0.01)\n",
    "ltndi = tot.iloc[-1] \n",
    "ltemp = emp.loc[tot.index[-1]]\n",
    "per_emp = (ltndi / ltemp).round(-1)\n",
    "cl = {n: c_line(c) for n, c in colors.items()}\n",
    "ctxt = ('For context, one percent of net domestic income translates to '+\n",
    "        f'\\${tot.iloc[-1] / 1000:.0f} billion per year, which is '+\n",
    "        f'\\${per_emp:,.0f} per worker. ')\n",
    "\n",
    "text = (f'Over the year ending {ltdt}, labor receives {ltval} '+\n",
    "        f\"of net domestic income {cl['Share']}. Labor's share {chlt} \"+\n",
    "        f\"over the past year. {ctxt}\\n\\n Labor's share in the corporate \"+\n",
    "        f\"sector is {ltvalc} percent in {ltdt} {cl['Corp_Share']}. The corporate \"+\n",
    "        'sector has well-defined accounting, which is useful for this '+\n",
    "        f'analysis. The corporate labor share is currently {cch} '+\n",
    "        f'its 30-year high of {cmax} in {cidxmax}. ')\n",
    "write_txt(text_dir / 'laborshare.txt', text)\n",
    "print(text)"
   ]
  },
  {
   "cell_type": "code",
   "execution_count": null,
   "metadata": {},
   "outputs": [],
   "source": []
  },
  {
   "cell_type": "code",
   "execution_count": null,
   "metadata": {},
   "outputs": [],
   "source": []
  },
  {
   "cell_type": "markdown",
   "metadata": {
    "ExecuteTime": {
     "end_time": "2023-08-02T04:46:49.344935Z",
     "start_time": "2023-08-02T04:46:49.341939Z"
    }
   },
   "source": [
    "### Nominal GDP decomposed as Real GDP and Prices"
   ]
  },
  {
   "cell_type": "code",
   "execution_count": 2,
   "metadata": {
    "ExecuteTime": {
     "end_time": "2023-11-11T21:11:08.555622Z",
     "start_time": "2023-11-11T21:11:08.485078Z"
    }
   },
   "outputs": [
    {
     "name": "stdout",
     "output_type": "stream",
     "text": [
      "In the third quarter of 2023, nominal GDP increased at an annual rate of 8.5 percent, following increases of 3.8 percent in Q2 and 6.3 percent in Q1. From 1989 to 2019 Q4, nominal GDP increased at an annual rate of 4.6 percent. Since 2019 Q4, the annualized growth rate is 6.4 percent.\n"
     ]
    }
   ],
   "source": [
    "gdp = nipa_df(retrieve_table('T10105')['Data'], ['A191RC'])['A191RC']\n",
    "df = nipa_df(retrieve_table('T10502')['Data'], ['A191RL'])\n",
    "gdpgr = growth_rate(gdp)\n",
    "df['PR'] = growth_rate(gdp) - df['A191RL']\n",
    "df.loc['1989':].to_csv(data_dir / 'ngdp_gr.csv', index_label='date')\n",
    "(gdp.loc['1989':] / 1_000_000).to_csv(data_dir / 'ngdp.csv', \n",
    "                                      index_label='date')\n",
    "\n",
    "# Text \n",
    "ltdt = dtxt(gdpgr.index[-1])['qtr2']\n",
    "ltch = value_text(gdpgr.iloc[-1], adj='annual')\n",
    "prch = prval_comp(gdpgr)\n",
    "\n",
    "ann19 = value_text(cagr(gdp.loc['2019-10-01':]), 'plain')\n",
    "ann89 = value_text(cagr(gdp.loc['1989-01-01':'2019-10-01']), \n",
    "                   adj='annual')\n",
    "    \n",
    "text = (f'In {ltdt}, nominal GDP {ltch}, following {prch}. '+\n",
    "        f'From 1989 to 2019 Q4, nominal GDP {ann89}. '+\n",
    "        f'Since 2019 Q4, the annualized growth rate is {ann19}.')\n",
    "write_txt(text_dir / 'ngdp_gr.txt', text)\n",
    "print(text)"
   ]
  },
  {
   "cell_type": "code",
   "execution_count": null,
   "metadata": {},
   "outputs": [],
   "source": []
  },
  {
   "cell_type": "code",
   "execution_count": null,
   "metadata": {},
   "outputs": [],
   "source": []
  },
  {
   "cell_type": "markdown",
   "metadata": {},
   "source": [
    "### Investment overview"
   ]
  },
  {
   "cell_type": "code",
   "execution_count": 21,
   "metadata": {
    "ExecuteTime": {
     "end_time": "2023-10-26T12:30:32.247602Z",
     "start_time": "2023-10-26T12:30:32.244326Z"
    }
   },
   "outputs": [],
   "source": [
    "#nipa_series_codes(retrieve_table('T10105'))"
   ]
  },
  {
   "cell_type": "code",
   "execution_count": 71,
   "metadata": {
    "ExecuteTime": {
     "end_time": "2023-11-04T19:31:19.770723Z",
     "start_time": "2023-11-04T19:31:19.657703Z"
    }
   },
   "outputs": [
    {
     "name": "stdout",
     "output_type": "stream",
     "text": [
      "In the third quarter of 2023, annualized US \\textbf{gross fixed investment}, both public and private, totals \\$5.8 trillion, or 21.0 percent of GDP (see {\\color{black}\\textbf{---}}). Gross fixed investment is equivalent to 21.3 percent of GDP one year prior, in 2022 Q3, and averages 21.4 percent of GDP in 2019.  \n",
      "\n",
      "In 2023 Q3, private nonresidential (business) fixed investment comprises 64 percent of the total and translates to 13.5 percent of GDP (see\\cbox{yellow!70!orange!90!white}). Private residential makes up 19 percent of the total and 3.9 percent of GDP (see\\cbox{blue!60!white}). Public investment is 17 percent of the total and 3.6 percent of GDP (see\\cbox{violet!60!black}).\n"
     ]
    }
   ],
   "source": [
    "d = {'T10105': {'A007RC': 'PrGrossFixed', 'A008RC': 'PrGrossFixedNR', \n",
    "                'A011RC': 'PrGrossFixedRes', 'A191RC': 'GDP', \n",
    "                'A014RC': 'CIPI'},\n",
    "     'T30100': {'A782RC': 'GovGross'}}\n",
    "\n",
    "df = pd.DataFrame()\n",
    "for t, s in d.items():\n",
    "    i = nipa_df(retrieve_table(t)['Data'], s.keys()).rename(d, axis=1)\n",
    "    for v, n in s.items():\n",
    "        df[n] = i[v]\n",
    "        \n",
    "# Sum public and private gross investment\n",
    "df['Gross'] = df['PrGrossFixed'] + df['GovGross']\n",
    "df.to_csv(data_dir / 'grossinv_lvl.csv', index_label='date')\n",
    "\n",
    "# Share of GDP\n",
    "sh = df.divide(df.GDP, axis=0) * 100\n",
    "sh.loc['1989':].to_csv(data_dir / 'grossinv_sh.csv', index_label='date')\n",
    "\n",
    "# Text \n",
    "ltdt = dtxt(sh.index[-1])['qtr2']\n",
    "ltval = f'\\${df.Gross.iloc[-1] / 1_000_000:.1f} trillion'\n",
    "ltsh = f'{sh.Gross.iloc[-1]:.1f} percent of GDP'\n",
    "prsh = f'{sh.Gross.iloc[-5]:.1f} percent of GDP'\n",
    "prdt = dtxt(sh.index[-5])['qtr1'] \n",
    "sh19 = f'{sh.loc[\"2019\", \"Gross\"].mean():.1f} percent of GDP'\n",
    "also = 'also ' if prsh == sh19 else ''\n",
    "cl = c_line('black')\n",
    "\n",
    "text = (f'In {ltdt}, annualized US \\\\textbf{{gross fixed investment}}, '+\n",
    "        f'both public and private, totals {ltval}, or {ltsh} '+\n",
    "        f'{cl}. Gross fixed investment is equivalent to {prsh} '+\n",
    "        f'one year prior, in {prdt}, and {also}averages {sh19} '+\n",
    "        'in 2019. ')\n",
    "write_txt(text_dir / 'gross_inv_total.txt', text)\n",
    "print(text, '\\n')\n",
    "\n",
    "# Node for total\n",
    "node = end_node(sh.Gross, 'black', date='qs', offset=0.2)\n",
    "write_txt(text_dir / 'gross_inv_total_node.txt', node)\n",
    "# Nodes for latest values\n",
    "cols = ['GovGross', 'PrGrossFixedRes', 'PrGrossFixedNR']\n",
    "sdf = sh[cols].iloc[-1]\n",
    "height = ((sdf.cumsum() - (sdf / 2) + 1.5)).to_dict()\n",
    "val = sdf.to_dict()\n",
    "dtp = dtxt(sh.index[-1] + pd.DateOffset(months=2))['datetime']\n",
    "nodes = [f'\\\\absnode{{{{{dtp}}}}}{{{height[i]}}}{{\\scriptsize {val[i]:.1f}}}' \n",
    "         for i in cols]\n",
    "nodetext = '\\n'.join(nodes)\n",
    "write_txt(text_dir / 'gross_inv_nodes.txt', nodetext)\n",
    "\n",
    "# Color boxes in text\n",
    "govcb = c_box('violet!60!black').replace('see ', 'see')\n",
    "rescb = c_box('blue!60!white').replace('see ', 'see')\n",
    "nrcb = c_box('yellow!70!orange!90!white').replace('see ', 'see')\n",
    "\n",
    "# Text 2\n",
    "ltdt = dtxt(sh.index[-1])['qtr1']\n",
    "st = sh.iloc[-1].to_frame()\n",
    "st['sh'] = (st / st.loc['Gross']) * 100\n",
    "st['sh_txt'] = st['sh'].apply(value_text, style='plain', digits=0)\n",
    "st['gdp_txt'] = st.iloc[:,0].apply(value_text, style='plain')\n",
    "\n",
    "text = (f'In {ltdt}, private nonresidential (business) fixed investment '+\n",
    "        f'comprises {st.loc[\"PrGrossFixedNR\", \"sh_txt\"]} of the '+\n",
    "        f'total and translates to {st.loc[\"PrGrossFixedNR\", \"gdp_txt\"]} '+\n",
    "        f'of GDP {nrcb}. Private residential makes up '+\n",
    "        f'{st.loc[\"PrGrossFixedRes\", \"sh_txt\"]} of the total and '+\n",
    "        f'{st.loc[\"PrGrossFixedRes\", \"gdp_txt\"]} of GDP {rescb}. Public '+\n",
    "        f'investment is {st.loc[\"GovGross\", \"sh_txt\"]} of the total '+\n",
    "        f'and {st.loc[\"GovGross\", \"gdp_txt\"]} of GDP {govcb}.')\n",
    "print(text)\n",
    "write_txt(text_dir / 'gross_inv_sector.txt', text)"
   ]
  },
  {
   "cell_type": "code",
   "execution_count": null,
   "metadata": {},
   "outputs": [],
   "source": []
  },
  {
   "cell_type": "code",
   "execution_count": null,
   "metadata": {},
   "outputs": [],
   "source": []
  },
  {
   "cell_type": "code",
   "execution_count": 24,
   "metadata": {
    "ExecuteTime": {
     "end_time": "2023-10-13T21:34:48.081160Z",
     "start_time": "2023-10-13T21:34:48.079179Z"
    },
    "code_folding": []
   },
   "outputs": [],
   "source": [
    "#nipa_series_codes(retrieve_table('T10502'))"
   ]
  },
  {
   "cell_type": "markdown",
   "metadata": {},
   "source": [
    "### Gross fixed investment"
   ]
  },
  {
   "cell_type": "code",
   "execution_count": 26,
   "metadata": {
    "ExecuteTime": {
     "end_time": "2023-10-27T20:04:06.339093Z",
     "start_time": "2023-10-27T20:04:06.208164Z"
    }
   },
   "outputs": [
    {
     "name": "stdout",
     "output_type": "stream",
     "text": [
      "For example, from 1996 to 1999, gross domestic fixed investment added an average of 1.75 percentage points to annual real GDP growth. \n",
      "\n",
      "In the third quarter of 2023, gross domestic fixed investment contributed 0.40 percentage point to annualized real GDP growth, following a contribution of 1.35 points in the second quarter. Over the past year, gross fixed investment contributed 1.02 percentage point to real GDP growth.\n",
      "\n",
      "In 2023 Q3, by type of gross fixed investment, private nonresidential did not contribute to annualized real GDP growth (see\\cbox{yellow!70!orange!90!white}), private residential contributed 0.15 percentage point (see\\cbox{blue!60!white}), and public contributed 0.25 percentage point (see\\cbox{violet!60!black}). Over the past year, nonresidential or business gross fixed investment contributed 0.87 percentage point, residential subtracted 0.28 point, and public contributed 0.44 point. \n",
      "\n",
      "In 2023 Q3, changes in private inventories contributed 1.32 percentage points to annualized real GDP growth (see\\cbox{red}), following virtually no contribution in 2023 Q2. Over the past year, changes in private inventories contributed 0.09 percentage point from real GDP growth.\n"
     ]
    }
   ],
   "source": [
    "# Retrieve levels data \n",
    "lvl = pd.read_csv(data_dir / 'grossinv_lvl.csv', \n",
    "                  index_col='date', parse_dates=True)\n",
    "# Contribution to one-year growth\n",
    "ac = growth_contrib_ann(lvl, 'GDP')\n",
    "act = value_text(ac.Gross.iloc[-1], 'contribution_to', \n",
    "                 ptype='pp', digits=2)\n",
    "\n",
    "# Contribution to annualized quarterly growth\n",
    "s = ['A008RY', 'A011RY', 'A014RY', 'A788RY', 'A798RY', \n",
    "     'A799RY', 'A007RY']\n",
    "gc = nipa_df(retrieve_table('T10502')['Data'], s)\n",
    "gc['Gov'] = gc[['A788RY', 'A798RY', 'A799RY']].sum(axis=1)\n",
    "gc['Total'] = gc[['A007RY', 'Gov']].sum(axis=1)\n",
    "gc.loc['1989':].to_csv(data_dir / 'inv.csv', index_label='date')\n",
    "\n",
    "# Example of strong investment growth in late 1990s\n",
    "ex = value_text(gc.loc['1996': '1999', 'Total'].mean(), \n",
    "                    'added_lost', adj='average', digits=2, ptype='pp')\n",
    "\n",
    "# Generate text\n",
    "ltdate = dtxt(gc.index[-1])['qtr2']\n",
    "ltdt = dtxt(gc.index[-1])['qtr1']\n",
    "prdt = dtxt(gc.index[-2])['qtr1']\n",
    "prdate = dtxt(gc.index[-2])['qtr5']\n",
    "pr_dt = prdate if gc.index[-1].year == gc.index[-2].year else prdt\n",
    "tot = value_text(gc.Total.iloc[-1], 'contribution_to', ptype='pp', \n",
    "                 digits=2, threshold=0.01)\n",
    "totpr = value_text(gc.Total.iloc[-2], 'contribution_of', ptype='point',\n",
    "                 digits=2, threshold=0.01)\n",
    "\n",
    "bus = value_text(gc.A008RY.iloc[-1], 'contribution_to', ptype='pp', \n",
    "                 digits=2, threshold=0.01)\n",
    "res = value_text(gc.A011RY.iloc[-1], 'contribution', ptype='pp', \n",
    "                 digits=2, threshold=0.01)\n",
    "pub = value_text(gc.Gov.iloc[-1], 'contribution', ptype='pp', \n",
    "                 digits=2, threshold=0.01)\n",
    "cipi = value_text(gc.A014RY.iloc[-1], 'contribution_to', ptype='pp', \n",
    "                  digits=2, threshold=0.01)\n",
    "cipipr = value_text(gc.A014RY.iloc[-2], 'contribution_of', ptype='pp', \n",
    "                  digits=2, threshold=0.01)\n",
    "cipi_yr = value_text(ac.CIPI.iloc[-1], 'contribution', ptype='pp', \n",
    "                     digits=2, threshold=0.01)\n",
    "nr_yr = value_text(ac.PrGrossFixedNR.iloc[-1], 'contribution', ptype='pp', \n",
    "                     digits=2, threshold=0.01)\n",
    "res_yr = value_text(ac.PrGrossFixedRes.iloc[-1], 'contribution', \n",
    "                    ptype='point', digits=2, threshold=0.01)\n",
    "pub_yr = value_text(ac.GovGross.iloc[-1], 'contribution', ptype='point', \n",
    "                     digits=2, threshold=0.01)\n",
    "\n",
    "# Color boxes in text\n",
    "cbpub = c_box('violet!60!black').replace('see ', 'see')\n",
    "cbres = c_box('blue!60!white').replace('see ', 'see')\n",
    "cbbus = c_box('yellow!70!orange!90!white').replace('see ', 'see')\n",
    "cbcipi = c_box('red').replace('see ', 'see')\n",
    "\n",
    "text = ('For example, from 1996 to 1999, gross domestic fixed '+\n",
    "        f'investment {ex} to annual real GDP growth. \\n\\n'\n",
    "        f'In {ltdate}, gross domestic fixed investment {tot} '+\n",
    "        f'annualized real GDP growth, following {totpr} in {pr_dt}. '+\n",
    "        f'Over the past year, gross fixed investment {act} real '+\n",
    "        'GDP growth.\\n\\n'+\n",
    "        f'In {ltdt}, by type of gross fixed investment, private '+\n",
    "        f'nonresidential {bus} annualized real GDP growth {cbbus}, '+\n",
    "        f'private residential {res} {cbres}, and public {pub} '+\n",
    "        f'{cbpub}. Over the past year, nonresidential or business '+\n",
    "        f'gross fixed investment {nr_yr}, residential {res_yr}, and '+\n",
    "        f'public {pub_yr}.')\n",
    "write_txt(text_dir / 'inv_contrib_text.txt', text)\n",
    "print(text, '\\n')\n",
    "\n",
    "text = (f'In {ltdt}, changes in private inventories {cipi} '+\n",
    "        f'annualized real GDP growth {cbcipi}, following {cipipr} '+\n",
    "        f'in {prdt}. Over the past year, changes in private '+\n",
    "        f'inventories {cipi_yr} from real GDP growth.')\n",
    "write_txt(text_dir / 'cipi_contrib_text.txt', text)\n",
    "print(text)"
   ]
  },
  {
   "cell_type": "code",
   "execution_count": null,
   "metadata": {},
   "outputs": [],
   "source": []
  },
  {
   "cell_type": "code",
   "execution_count": null,
   "metadata": {},
   "outputs": [],
   "source": []
  },
  {
   "cell_type": "markdown",
   "metadata": {},
   "source": [
    "### Net Fixed Investment"
   ]
  },
  {
   "cell_type": "code",
   "execution_count": 27,
   "metadata": {
    "ExecuteTime": {
     "end_time": "2023-10-27T20:04:09.035198Z",
     "start_time": "2023-10-27T20:04:08.819692Z"
    }
   },
   "outputs": [],
   "source": [
    "d = {'W171RC': 'NetDomInv',  'W790RC': 'NetBusInv', \n",
    "     'W791RC': 'NetHHInv', 'A889RC': 'NetGovInv', \n",
    "     'A928RC': 'GrossInv_NIPA', 'W170RC': 'GrossInv', \n",
    "     'A262RC': 'CFC', 'W276RC': 'CFCBus', 'W279RC': 'CFCHH',\n",
    "     'A264RC': 'CFCGov', 'W987RC': 'GrossBusInv', \n",
    "     'W988RC': 'GrossHHInv', 'A782RC': 'GrossGovInv'}\n",
    "df = nipa_df(retrieve_table('T50100')['Data'], d.keys()).rename(d, axis=1)\n",
    "df['GDP'] = nipa_df(retrieve_table('T10105')['Data'], ['A191RC'])\n",
    "sh = df.divide(df['GDP'], axis=0) * 100\n",
    "sh.loc['1989':].to_csv(data_dir / 'bea_nfi.csv', \n",
    "             index_label='date', float_format='%g')"
   ]
  },
  {
   "cell_type": "code",
   "execution_count": null,
   "metadata": {},
   "outputs": [],
   "source": []
  },
  {
   "cell_type": "code",
   "execution_count": null,
   "metadata": {},
   "outputs": [],
   "source": []
  },
  {
   "cell_type": "markdown",
   "metadata": {},
   "source": [
    "### Imports and Exports\n",
    "\n",
    "The 2023 comprehensive update split table 4.2.5. "
   ]
  },
  {
   "cell_type": "code",
   "execution_count": 28,
   "metadata": {
    "ExecuteTime": {
     "end_time": "2023-10-27T20:04:11.587519Z",
     "start_time": "2023-10-27T20:04:11.425820Z"
    }
   },
   "outputs": [],
   "source": [
    "# Import and Export share of GDP\n",
    "s = ['B020RC', 'B021RC', 'B648RC', 'LA000006']\n",
    "s2 = ['A191RC']\n",
    "df1 = nipa_df(retrieve_table('T40205A')['Data'], s)\n",
    "df2 = nipa_df(retrieve_table('T40205B')['Data'], s)\n",
    "df = pd.concat([df1, df2])\n",
    "df['A191RC'] = nipa_df(retrieve_table('T10105')['Data'], s2)\n",
    "df['EX'] = df['B020RC'] - df['LA000006']\n",
    "df['IM'] = df['B021RC'] - df['B648RC']\n",
    "data = (df.div(df['A191RC'], axis=0) * 100).loc['1989':]\n",
    "data.to_csv(data_dir / 'eximgdp.csv', index_label='date')"
   ]
  },
  {
   "cell_type": "code",
   "execution_count": 29,
   "metadata": {
    "ExecuteTime": {
     "end_time": "2023-10-27T20:04:12.521249Z",
     "start_time": "2023-10-27T20:04:12.498607Z"
    }
   },
   "outputs": [
    {
     "name": "stdout",
     "output_type": "stream",
     "text": [
      "Nonpetroleum goods and services imports (see {\\color{blue!90!cyan}\\textbf{---}}) were equivalent to 12.9 percent of GDP in the third quarter of 2023, while exports of nonpetroleum goods and services (see {\\color{green!60!teal!80!black}\\textbf{---}}) were equivalent to 10.0 percent of GDP. In 2019 Q4, nonpetroleum imports were 13.0 percent of GDP, and exports were 10.6 percent.\n"
     ]
    }
   ],
   "source": [
    "data = pd.read_csv(data_dir / 'eximgdp.csv', index_col='date', \n",
    "                   parse_dates=True)\n",
    "excol = 'green!60!teal!80!black'\n",
    "imcol = 'blue!90!cyan'\n",
    "\n",
    "node = end_node(data.IM, imcol, date='q', offset=0.35)\n",
    "write_txt(text_dir / 'np_im_node.txt', node)\n",
    "node = end_node(data.EX, excol)\n",
    "write_txt(text_dir / 'np_ex_node.txt', node)\n",
    "\n",
    "date = dtxt(data.index[-1])['qtr2']\n",
    "pc_dt = '2019-10-01'\n",
    "pc_date = dtxt(pd.to_datetime(pc_dt))['qtr1']\n",
    "text = ('Nonpetroleum goods and services imports '+\n",
    "        f'{c_line(imcol)} were equivalent to '+\n",
    "        f'{data.IM.iloc[-1]:.1f} percent of GDP '+\n",
    "        f'in {date}, while exports of nonpetroleum '+\n",
    "        f'goods and services {c_line(excol)} were '+\n",
    "        f'equivalent to {data.EX.iloc[-1]:.1f} percent '+\n",
    "        f'of GDP. In {pc_date}, nonpetroleum imports '+\n",
    "        f'were {data.IM.loc[pc_dt]:.1f} percent of GDP, '+\n",
    "        f'and exports were {data.EX.loc[pc_dt]:.1f} percent.')\n",
    "write_txt(text_dir / 'exim.txt', text)\n",
    "print(text)"
   ]
  },
  {
   "cell_type": "code",
   "execution_count": null,
   "metadata": {},
   "outputs": [],
   "source": []
  },
  {
   "cell_type": "code",
   "execution_count": null,
   "metadata": {},
   "outputs": [],
   "source": []
  },
  {
   "cell_type": "markdown",
   "metadata": {},
   "source": [
    "### Goods Import Penetration"
   ]
  },
  {
   "cell_type": "code",
   "execution_count": 30,
   "metadata": {
    "ExecuteTime": {
     "end_time": "2023-10-27T20:04:15.329864Z",
     "start_time": "2023-10-27T20:04:15.087388Z"
    }
   },
   "outputs": [],
   "source": [
    "s = ['A353RC']\n",
    "G = nipa_df(retrieve_table('T10205')['Data'], s).sort_index()\n",
    "\n",
    "s = ['A253RC', 'A255RC', 'B647RC', 'LA000004', 'A650RC', \n",
    "     'B651RC', 'A652RC', 'A653RC', 'B648RC']\n",
    "MX1 = nipa_df(retrieve_table('T40205A')['Data'], s).sort_index()\n",
    "MX2 = nipa_df(retrieve_table('T40205B')['Data'], s).sort_index()\n",
    "MX = pd.concat([MX1, MX2])\n",
    "\n",
    "D = G['A353RC'] - MX['A253RC'] + MX['A255RC']\n",
    "result = (MX['A255RC'] / D)\n",
    "\n",
    "import_categories = ['B647RC', 'LA000004', 'A650RC', 'B651RC', \n",
    "                     'A652RC', 'A653RC', 'B648RC']\n",
    "Msh = MX[import_categories].div(MX['A255RC'], axis=0)\n",
    "\n",
    "Msh['Consumer'] = Msh['B647RC'] + Msh['A652RC'] + Msh['B651RC']\n",
    "Msh['Capital'] = Msh['LA000004'] - Msh['B648RC'] + Msh['A650RC'] + Msh['A653RC']\n",
    "\n",
    "final = Msh[['Consumer', 'Capital', 'B648RC']].multiply(result, axis=0) * 100\n",
    "\n",
    "final.loc['1989':].to_csv(data_dir / 'goodsimpsh.csv', index_label='date')"
   ]
  },
  {
   "cell_type": "code",
   "execution_count": 79,
   "metadata": {
    "ExecuteTime": {
     "end_time": "2023-11-04T19:38:58.888412Z",
     "start_time": "2023-11-04T19:38:58.876475Z"
    }
   },
   "outputs": [
    {
     "name": "stdout",
     "output_type": "stream",
     "text": [
      "In 2023 Q3, the US imported nonpetroleum consumer goods equivalent to 14.8 percent of domestic consumption of goods (see\\cbox{cyan!40!white}). Petroleum-related imports claim 2.7 percent (see\\cbox{purple}), and imports of all other goods, primarily capital goods, industrial supplies, and materials, are equivalent to 14.3 percent (see\\cbox{blue!50!cyan}). \n",
      "\n",
      "From 1989 to 2011, imports of consumer goods excluding petroleum increased by the equivalent of six percent of domestic consumption of goods, petroleum-related imports increased by the equivalent of 6.1 percent, and all other goods imports increased by the equivalent of 6.1 percent. \n",
      "\n",
      "Since 2011, imports of consumer goods decreased by the equivalent of 1.6 percent of domestic goods demand, imports of petroleum products decreased by the equivalent of 5.7 percent, and other imports decreased by the equivalent of 1.8 percent.\n"
     ]
    }
   ],
   "source": [
    "final = pd.read_csv(data_dir / 'goodsimpsh.csv', index_col='date', \n",
    "                    parse_dates=True)\n",
    "ltdate = final.index[-1]\n",
    "ltdt = dtxt(ltdate)['qtr1']\n",
    "cons, capi = [value_text(final[i].iloc[-1], style='eq') \n",
    "              for i in ['Consumer', 'Capital']]\n",
    "oil = final['B648RC'].iloc[-1]\n",
    "text = (f'In {ltdt}, the US imported nonpetroleum consumer goods '+\n",
    "        f'{cons} of domestic consumption of '+\n",
    "        'goods (see\\cbox{cyan!40!white}). Petroleum-related imports claim '+\n",
    "        f'{oil:.1f} percent (see\\cbox{{purple}}), and imports of all other '+\n",
    "        f'goods, primarily capital goods, industrial supplies, and materials, '+\n",
    "        f'are {capi} (see\\cbox{{blue!50!cyan}}).')\n",
    "write_txt(text_dir / 'goodsimpsh1.txt', text)\n",
    "print(text, '\\n')\n",
    "\n",
    "ch11 = (final.loc['2011-01-01'] - final.iloc[0])\n",
    "cons11, pet11, oth11 = [value_text(ch11[i], adj='equivalent', threshold=0.1) \n",
    "                        for i in ['Consumer', 'B648RC', 'Capital']]\n",
    "chlt = (final.iloc[-1] - final.loc['2011-01-01'])\n",
    "conslt, petlt, othlt = [value_text(chlt[i], adj='equivalent', threshold=0.1) \n",
    "                        for i in ['Consumer', 'B648RC', 'Capital']]\n",
    "text = ('From 1989 to 2011, imports of consumer goods excluding '+\n",
    "        f'petroleum {cons11} of domestic consumption of goods, petroleum-'+\n",
    "        f'related imports {pet11}, and all other goods imports {oth11}. \\n\\n'+\n",
    "        f'Since 2011, imports of consumer goods {conslt} of domestic goods '+\n",
    "        f'demand, imports of petroleum products {petlt}, and other '+\n",
    "        f'imports {othlt}.')\n",
    "write_txt(text_dir / 'goodsimpsh.txt', text)\n",
    "print(text)"
   ]
  },
  {
   "cell_type": "code",
   "execution_count": null,
   "metadata": {},
   "outputs": [],
   "source": []
  },
  {
   "cell_type": "code",
   "execution_count": null,
   "metadata": {},
   "outputs": [],
   "source": []
  },
  {
   "cell_type": "markdown",
   "metadata": {},
   "source": [
    "### International Trade Table"
   ]
  },
  {
   "cell_type": "code",
   "execution_count": 2,
   "metadata": {
    "ExecuteTime": {
     "end_time": "2023-11-07T14:24:28.528163Z",
     "start_time": "2023-11-07T14:24:27.845009Z"
    }
   },
   "outputs": [],
   "source": [
    "# Names of series\n",
    "s = {'B020RC': 'Exports of Goods \\& Services',\n",
    "     'A253RC': 'Exports of Goods',\n",
    "     'B638RC': '\\hspace{2mm}Foods, Feeds, \\& Beverages',\n",
    "     'A639RC': '\\hspace{2mm}Industrial Supplies \\& Materials',\n",
    "     'LA000006': '\\hspace{4mm}Petroleum \\& Products',\n",
    "     'A640RC': '\\hspace{2mm}Capital Goods, Except Automotive',\n",
    "     'B641RC': '\\hspace{2mm}Automotive Vehicles, \\& Parts',\n",
    "     'A642RC': '\\hspace{2mm}Consumer Goods, Ex. Food \\& Auto',\n",
    "     'B690RC': '\\hspace{4mm}Durable Goods',\n",
    "     'B691RC': '\\hspace{4mm}Nondurable Goods',\n",
    "     'A646RC': 'Exports of Services',\n",
    "     'Y800RC': '\\hspace{2mm}Transport',\n",
    "     'Y801RC': '\\hspace{2mm}Travel',\n",
    "     'B684RC': '\\hspace{2mm}Intellectual Property Charges',\n",
    "     'Y802RC': '\\hspace{2mm}Other Business Services',\n",
    "     'B021RC': 'Imports of Goods \\& Services',\n",
    "     'A255RC': 'Imports of Goods',\n",
    "     'B647RC': '\\hspace{2mm}Foods, Feeds, \\& Beverages',\n",
    "     'LA000004': '\\hspace{2mm}Industrial Supplies \\& Materials',\n",
    "     'B648RC': '\\hspace{4mm}Petroleum \\& Products',\n",
    "     'A650RC': '\\hspace{2mm}Capital Goods, Except Automotive',\n",
    "     'B651RC': '\\hspace{2mm}Automotive Vehicles, \\& Parts',\n",
    "     'A652RC': '\\hspace{2mm}Consumer Goods, Ex. Food \\& Auto',\n",
    "     'B697RC': '\\hspace{4mm}Durable Goods',\n",
    "     'B698RC': '\\hspace{4mm}Nondurable Goods',\n",
    "     'B656RC': 'Imports of Services',\n",
    "     'Y804RC': '\\hspace{2mm}Transport',\n",
    "     'Y805RC': '\\hspace{2mm}Travel',\n",
    "     'B908RC': '\\hspace{2mm}Intellectual Property Charges',\n",
    "     'Y806RC': '\\hspace{2mm}Other Business Services'}\n",
    "\n",
    "# Collect data and divide by GDP\n",
    "data = pd.concat([nipa_df(retrieve_table(i)['Data'], s) \n",
    "                  for i in ['T40205A', 'T40205B']])\n",
    "gdp = nipa_df(retrieve_table('T10105')['Data'], ['A191RC'])['A191RC']\n",
    "df = data.div(gdp, axis=0) * 100\n",
    "df.to_csv(data_dir/'exim.csv', index_label='date')\n",
    "\n",
    "# Create table\n",
    "tbl = pd.concat([df.iloc[i] for i in[-1, -2, -5]], axis=1)\n",
    "tbl.columns = [dtxt(i)['qtr4'] for i in tbl.columns]\n",
    "tbl['2016'] = df.loc['2016'].mean()\n",
    "yrs = [(2012, 2013), (2005, 2006), (1998, 1999), (1989, 1993)]\n",
    "for y1, y2 in yrs:\n",
    "    tbl[f'{y1} --{str(y2)[2:]}'] = df.loc[str(y1):str(y2)].mean()\n",
    "    \n",
    "tbl = tbl.applymap('{:.2f}'.format)\n",
    "tbl.index = tbl.index.map(s)\n",
    "tbl.to_csv(data_dir / 'exim.tex', sep='&', \n",
    "           lineterminator='\\\\\\ ', quotechar=' ')"
   ]
  },
  {
   "cell_type": "code",
   "execution_count": null,
   "metadata": {},
   "outputs": [],
   "source": []
  },
  {
   "cell_type": "code",
   "execution_count": 31,
   "metadata": {
    "ExecuteTime": {
     "end_time": "2023-10-13T21:34:48.946875Z",
     "start_time": "2023-10-13T21:34:48.941552Z"
    }
   },
   "outputs": [],
   "source": [
    "#nipa_series_codes(retrieve_table('T10502'))"
   ]
  },
  {
   "cell_type": "markdown",
   "metadata": {},
   "source": [
    "### GDP Contributions -- Long-term Average vs Recent Values bar chart"
   ]
  },
  {
   "cell_type": "code",
   "execution_count": 24,
   "metadata": {
    "ExecuteTime": {
     "end_time": "2023-11-20T15:24:59.584385Z",
     "start_time": "2023-11-20T15:24:59.389239Z"
    },
    "code_folding": []
   },
   "outputs": [],
   "source": [
    "# expenditure approach data\n",
    "ex_s = ['A191RX', 'DPCERX', 'A006RX', 'A019RX', 'A822RX']\n",
    "ex_df = nipa_df(retrieve_table('T10106')['Data'], ex_s).loc['1989':]\n",
    "ex_v = {'A191RX': ['\\\\textbf{Real GDP} \\\\\\\\[-1pt] \\\\textit{(annual rate)}', \n",
    "                   'red!95!black', 4], \n",
    "        'DPCERX': ['Consumer\\\\\\\\[-1pt] Spending', 'yellow!80!orange',  3],\n",
    "        'A006RX': ['Private\\\\\\\\[-1pt] Investment', 'blue!70!black', 2],\n",
    "        'A822RX': ['Government', 'cyan!50!white',  1],\n",
    "        'A019RX': ['Net Exports', 'green!60!black', 0]}\n",
    "\n",
    "# income approach data\n",
    "inc_s = ['A261RC', 'A4002C', 'W271RC', 'indirect', 'A262RC']\n",
    "s = ['A261RX']\n",
    "rgdi = nipa_df(retrieve_table('T11706')['Data'], s).dropna()\n",
    "\n",
    "s = ['A261RC', 'A4002C', 'W056RC', 'A107RC', 'W271RC', 'A262RC',\n",
    "     'A4102C', 'A038RC']\n",
    "df = nipa_df(retrieve_table('T11000')['Data'], s).dropna()\n",
    "\n",
    "# Calculate indirect taxes net of transfers\n",
    "df['indirect'] = df['W056RC'] - df['A107RC']\n",
    "\n",
    "# Calculate GDI deflator from real GDI series\n",
    "deflator = rgdi['A261RX'] / df['A261RC']\n",
    "deflator = deflator / deflator.iloc[-1]\n",
    "inc_df = df.multiply(deflator, axis=0)\n",
    "inc_v = {'A261RC': ['\\\\textbf{Real GDI} \\\\\\\\ \\\\textit{(annual rate)}', \n",
    "                    'blue!95!black', 4], \n",
    "         'A4002C': ['Labor \\\\\\\\ Income', 'magenta!90!blue', 3],\n",
    "         'W271RC': ['Profit', 'yellow!60!orange', 2],\n",
    "         'indirect': ['Indirect Tax\\\\\\[-1pt] -Subsidies', 'violet', 1],\n",
    "         'A262RC': ['Depreciation', 'teal!60!white', 0]}\n",
    "\n",
    "# houshold inputs data\n",
    "hh_s = ['GDP_idx', 'POP_idx', 'EPOP_sa_idx', 'AAH_trend_idx', 'LPROD_idx']\n",
    "hh_df = pd.read_csv(data_dir / 'gdpjobslvl.csv', index_col='date', \n",
    "                 parse_dates=True)[hh_s].dropna()\n",
    "hh_v = {'GDP_idx': ['\\\\textbf{Real GDP}\\\\\\\\[-1pt] \\\\textit{(annual rate)}', \n",
    "                    'red!95!black', 4], \n",
    "        'POP_idx': ['Population', 'lime!90!green', 2],\n",
    "        'EPOP_sa_idx': ['Employment\\\\\\\\[-1pt] Rate', 'green!30!teal!80!black', 1],\n",
    "        'AAH_trend_idx': ['Average\\\\\\\\[-1pt] Workweek', 'blue', 0],\n",
    "        'LPROD_idx': ['Labor\\\\\\\\[-1pt] Productivity', 'cyan!55!white', 3]}\n",
    "\n",
    "# Charts for each approach\n",
    "charts = {'exp': [ex_s, ex_df, ex_v], 'inc': [inc_s, inc_df, inc_v],\n",
    "          'hhinp': [hh_s, hh_df, hh_v]}\n",
    "bar_settings = 'xbar, bar width=3ex, bar shift=0pt, fill, '\n",
    "c, ltc = {}, {}\n",
    "for n, [s, df, v] in charts.items():\n",
    "    df = df.dropna()\n",
    "    if n != 'hhinp':\n",
    "        contrib = (((((df.iloc[-1] - df.iloc[0])\n",
    "                      / df[s[0]].iloc[0]) + 1)\n",
    "                    ** (1/((len(df)-1)/4))) - 1) * 100\n",
    "        c[n] = contrib\n",
    "        ltch = growth_contrib(df, s[0]).iloc[-1]\n",
    "        ltc[n] = ltch\n",
    "    else:\n",
    "        contrib = (((df.iloc[-1] / df.iloc[0]) \n",
    "                    ** (1/((len(df)) / 4))) - 1) * 100\n",
    "        c[n] = contrib\n",
    "        ltch = (((df.iloc[-1] / df.iloc[-2]) ** (4)) - 1) * 100\n",
    "        ltch.name = df.index[-1]\n",
    "        ltc[n] = ltch\n",
    "    # Settings for plot\n",
    "    cmax = max(contrib.max(), ltch.max())\n",
    "    cmin = min(contrib.min(), ltch.min())\n",
    "    crng = cmax - cmin\n",
    "    cbuf = min(cmin, 0) #Buffer for text labels\n",
    "    empty_neg = f'\\\\addplot[white!0] coordinates {{(-{cbuf:.2f}, 0)}};'\n",
    "    txt = [empty_neg]\n",
    "    ylx = (cmin - (crng*0.05)).round(3)\n",
    "    for k, [name, color, y] in v.items():\n",
    "        x = contrib[k].round(3)\n",
    "        bar = f'\\\\addplot[{bar_settings} {color}] coordinates {{({x}, {y})}};'\n",
    "        # Create ylabel and value label\n",
    "        ylabel = ('\\\\node[left, align=right, text width=1.6cm] at '+\n",
    "                  f'(axis cs:{ylx},{y}) {{{name}}};')\n",
    "        # Node for latest quarter\n",
    "        qval = ltch[k].round(3)\n",
    "        qnode = ('\\\\addplot[only marks,mark=*, mark options={fill=white,draw=black}] '+\n",
    "                 f'coordinates {{({qval},{y})}};')\n",
    "        txt.append(bar)\n",
    "        txt.append(ylabel)\n",
    "        txt.append(qnode)\n",
    "    nodes = '\\n'.join(txt)\n",
    "    write_txt(text_dir / f'gdp_{n}_chavg.txt', nodes)\n",
    "\n",
    "    # Store latest date\n",
    "    write_txt(text_dir / f'gdp_{n}_chavg_dt.txt', dtxt(df.index[-1])['qtr1'])"
   ]
  },
  {
   "cell_type": "code",
   "execution_count": 25,
   "metadata": {
    "ExecuteTime": {
     "end_time": "2023-11-20T15:25:01.695150Z",
     "start_time": "2023-11-20T15:25:01.686900Z"
    }
   },
   "outputs": [
    {
     "name": "stdout",
     "output_type": "stream",
     "text": [
      "Since 1989, real GDP has grown 2.4 percent per year. Over this period, consumer spending contributed two percentage points to the annualized change, gross private domestic investment added 0.7 percentage point, government spending and investment added 0.4 point, and net exports subtracted 0.3 point. \n",
      "\n",
      "Since 1989, real GDI has grown at an annualized rate of 2.4 percent. Labor receives 1.5 percentage points of this growth rate, profit claims 0.8 percentage point, indirect taxes minus subsidies receive 0.2 point, and 0.6 point go to depreciation.  \n",
      "\n",
      "Real GDP growth of 2.4 percent per year since 1989 is explained by annualized productivity growth of 1.5 percent and population growth of 0.9 percent. \n"
     ]
    }
   ],
   "source": [
    "# Expenditure approach long-term change summary\n",
    "exv = c['exp']\n",
    "totch = value_text(exv['A191RX'], 'plain')\n",
    "cs = value_text(exv['DPCERX'], 'contribution_to', ptype='pp')\n",
    "gdpi = value_text(exv['A006RX'], 'contribution', ptype='pp', casual=True)\n",
    "gov = value_text(exv['A822RX'], 'contribution', ptype='point', casual=True)\n",
    "nx = value_text(exv['A019RX'], 'contribution', ptype='point')\n",
    "text = (f'Since 1989, real GDP has grown {totch} per year. Over this '+\n",
    "        f'period, consumer spending {cs} the annualized change, gross '+\n",
    "        f'private domestic investment {gdpi}, government spending and '+\n",
    "        f'investment {gov}, and net exports {nx}.')\n",
    "write_txt(text_dir / 'gdp_contrib89_exp.txt', text)\n",
    "print(text, '\\n')\n",
    "\n",
    "# Income approach text\n",
    "inv = c['inc']\n",
    "totch = value_text(inv['A261RC'], 'plain')\n",
    "lab = value_text(inv['A4002C'], 'plain', ptype='pp')\n",
    "prof = value_text(inv['W271RC'], 'plain', ptype='pp')\n",
    "tax = value_text(inv['indirect'], 'plain', ptype='point')\n",
    "cfc = value_text(inv['A262RC'], 'plain', ptype='point')\n",
    "text = (f'Since 1989, real GDI has grown at an annualized rate of {totch}. '+\n",
    "        f'Labor receives {lab} of this growth rate, profit '+\n",
    "        f'claims {prof}, indirect taxes minus subsidies '+\n",
    "        f'receive {tax}, and {cfc} go to depreciation. ')\n",
    "write_txt(text_dir / 'gdp_contrib89_inc.txt', text)\n",
    "print(text, '\\n')\n",
    "\n",
    "\n",
    "# Household inputs text\n",
    "hhv = c['hhinp']\n",
    "totch = value_text(hhv['GDP_idx'], 'plain')\n",
    "popch = value_text(hhv['POP_idx'], 'plain')\n",
    "lprodch = value_text(hhv['LPROD_idx'], 'plain')\n",
    "\n",
    "text = (f'Real GDP growth of {totch} per year since 1989 is explained '+\n",
    "        f'by annualized productivity growth of {lprodch} and population '+\n",
    "        f'growth of {popch}. ')\n",
    "write_txt(text_dir / 'gdp_contrib89_hh.txt', text)\n",
    "print(text)"
   ]
  },
  {
   "cell_type": "code",
   "execution_count": 78,
   "metadata": {
    "ExecuteTime": {
     "end_time": "2023-11-20T15:51:17.671504Z",
     "start_time": "2023-11-20T15:51:17.659499Z"
    }
   },
   "outputs": [
    {
     "name": "stdout",
     "output_type": "stream",
     "text": [
      "In 2023 Q3, labor productivity contributed 4.53 percentage points to GDP growth of 4.9 percent. Population growth added 0.58 point in the period. The employment rate and hours worked were little changed in the period.\n"
     ]
    }
   ],
   "source": [
    "# Text HH inputs to latest published GDP growth number\n",
    "df = ltc['hhinp']\n",
    "ltdt = dtxt(df.name)['qtr1']\n",
    "gdpch = value_text(df['GDP_idx'], 'plain')\n",
    "epopnm = ('the higher employment rate' if df.EPOP_sa_idx > 0.4 \n",
    "          else 'the lower employment rate' if df.EPOP_sa_idx < -0.4\n",
    "          else 'the employment rate')\n",
    "hoursnm = ('longer average workweeks' if df.AAH_trend_idx > 0.4 \n",
    "          else 'the drop in hours worked' if df.AAH_trend_idx < -0.4\n",
    "          else 'hours worked')\n",
    "rn = {'EPOP_sa_idx': epopnm,\n",
    "      'POP_idx': 'population growth',\n",
    "      'AAH_trend_idx': hoursnm,\n",
    "      'LPROD_idx': 'labor productivity'}\n",
    "dfcats = df.drop('GDP_idx').rename(rn)\n",
    "cat1 = dfcats.sort_values().index[-1]\n",
    "cv1 = value_text(dfcats.sort_values().iloc[-1], 'contribution_to', \n",
    "                 ptype='pp', digits=2)\n",
    "cat2 = dfcats.sort_values().index[-2].capitalize()\n",
    "cv2 = value_text(dfcats.sort_values().iloc[-2], 'contribution', \n",
    "                 ptype='point', casual=True, digits=2)\n",
    "cat3 = dfcats.sort_values().index[-3].capitalize()\n",
    "cv3 = value_text(dfcats.sort_values().iloc[-3], 'contribution', \n",
    "                 ptype='point', casual=True, digits=2)\n",
    "cat4 = dfcats.sort_values().index[-4].capitalize()\n",
    "cv4 = value_text(dfcats.sort_values().iloc[-4], 'contribution', \n",
    "                 ptype='point', casual=True, digits=2)\n",
    "small = dfcats[abs(dfcats) < 0.4].index # Small categories \n",
    "ext = '.'\n",
    "if len(small) == 1:\n",
    "    ext = f' and {cat3} {cv3}.'\n",
    "if len(small) == 0:\n",
    "    ext = f', {cat3} {cv3}, and {cat4} {cv4}.'\n",
    "smalltxt = ''\n",
    "if len(small) > 0:\n",
    "    s1 = small[0].capitalize()\n",
    "    if len(small) > 1:\n",
    "        s2 = f' and {small[1]}'\n",
    "        s1 = s1 + s2\n",
    "    sverb = 'were' if len(small) > 1 else 'was'\n",
    "    smalltxt = (f'{s1} {sverb} little changed in the period.')\n",
    "text = (f'In {ltdt}, {cat1} {cv1} GDP growth of {gdpch}. {cat2} {cv2} '+\n",
    "        f'in the period{ext} {smalltxt}')\n",
    "write_txt(text_dir / 'gdp_contrib_lt_hh.txt', text)\n",
    "print(text)"
   ]
  },
  {
   "cell_type": "code",
   "execution_count": null,
   "metadata": {},
   "outputs": [],
   "source": []
  },
  {
   "cell_type": "code",
   "execution_count": null,
   "metadata": {},
   "outputs": [],
   "source": []
  },
  {
   "cell_type": "markdown",
   "metadata": {
    "ExecuteTime": {
     "end_time": "2023-08-16T02:28:45.189770Z",
     "start_time": "2023-08-16T02:28:45.187787Z"
    }
   },
   "source": [
    "### Contribution to change since 2019"
   ]
  },
  {
   "cell_type": "code",
   "execution_count": 549,
   "metadata": {
    "ExecuteTime": {
     "end_time": "2023-11-18T03:04:19.055035Z",
     "start_time": "2023-11-18T03:04:18.863324Z"
    }
   },
   "outputs": [],
   "source": [
    "# expenditure approach data\n",
    "ex_s = ['A191RX', 'DPCERX', 'A006RX', 'A019RX', 'A822RX']\n",
    "ex_df = nipa_df(retrieve_table('T10106')['Data'], ex_s).loc['1989':]\n",
    "ex_v = {'A191RX': ['\\\\textbf{Real GDP} \\\\\\\\ \\\\textit{(annual rate)}', \n",
    "                   'red!95!black', 'white', 4.2], \n",
    "        'DPCERX': ['Consumer Spending', 'yellow!80!orange', 'black', 3],\n",
    "        'A006RX': ['Private\\\\\\\\ Investment', 'blue!70!black', 'white', 2],\n",
    "        'A822RX': ['Gov Spending \\& Investment', 'cyan!50!white', 'black', 1],\n",
    "        'A019RX': ['Net Exports', 'green!60!black', 'white', 0]}\n",
    "\n",
    "\n",
    "# income approach data\n",
    "inc_s = ['A261RC', 'A4002C', 'W271RC', 'indirect', 'A262RC']\n",
    "s = ['A261RX']\n",
    "rgdi = nipa_df(retrieve_table('T11706')['Data'], s).dropna()\n",
    "\n",
    "s = ['A261RC', 'A4002C', 'W056RC', 'A107RC', 'W271RC', 'A262RC',\n",
    "     'A4102C', 'A038RC']\n",
    "\n",
    "df = nipa_df(retrieve_table('T11000')['Data'], s).dropna()\n",
    "\n",
    "# Calculate indirect taxes net of transfers\n",
    "df['indirect'] = df['W056RC'] - df['A107RC']\n",
    "\n",
    "# Calculate GDI deflator from real GDI series\n",
    "deflator = rgdi['A261RX'] / df['A261RC']\n",
    "deflator = deflator / deflator.iloc[-1]\n",
    "inc_df = df.multiply(deflator, axis=0)\n",
    "inc_v = {'A261RC': ['\\\\textbf{Real GDI} \\\\\\\\ \\\\textit{(annual rate)}', \n",
    "                    'blue!95!black', 'white', 4.2], \n",
    "         'A4002C': ['Labor \\\\\\\\ Income', 'magenta!90!blue', 'white', 3],\n",
    "         'W271RC': ['Profit', 'yellow!60!orange', 'black', 2],\n",
    "         'indirect': ['Indirect Taxes Less Subsidies', 'violet', 'white', 1],\n",
    "         'A262RC': ['Depreciation', 'teal!60!white', 'black', 0]}\n",
    "\n",
    "# houshold inputs data\n",
    "hh_s = ['GDP_idx', 'POP_idx', 'EPOP_sa_idx', 'AAH_trend_idx', 'LPROD_idx']\n",
    "hh_df = pd.read_csv(data_dir / 'gdpjobslvl.csv', index_col='date', \n",
    "                 parse_dates=True)[hh_s].dropna()\n",
    "hh_v = {'GDP_idx': ['\\\\textbf{Real GDP} \\\\\\\\ \\\\textit{(annual rate)}', \n",
    "                    'red!95!black', 'white', 4.2], \n",
    "        'POP_idx': ['Population', 'lime!90!green', 'black', 2],\n",
    "        'EPOP_sa_idx': ['Employment Rate', 'green!30!teal!80!black', 'white', 1],\n",
    "        'AAH_trend_idx': ['Average \\\\\\\\ Workweek', 'blue', 'white', 0],\n",
    "        'LPROD_idx': ['Labor \\\\\\\\ Productivity', 'cyan!55!white', 'black', 3]}\n",
    "\n",
    "# Charts for each approach\n",
    "charts = {'exp': [ex_s, ex_df, ex_v], 'inc': [inc_s, inc_df, inc_v],\n",
    "          'hhinp': [hh_s, hh_df, hh_v]}\n",
    "for n, [s, df, v] in charts.items():\n",
    "    d19 = df.loc['2019-10-01':]\n",
    "    contrib = (((((d19.iloc[-1] - d19.iloc[0])\n",
    "                  / d19[s[0]].iloc[0]) + 1)\n",
    "                ** (1/((len(d19)-1)/4))) - 1) * 100\n",
    "    # Settings for plot\n",
    "    cmax = contrib.max()\n",
    "    cmin = contrib.min()\n",
    "    crng = cmax - cmin\n",
    "    cbuf = max([(cmax - 0), (0 - cmin)]) * 0.68 #Buffer for text labels\n",
    "    thresh = crng * 0.21 #Bigger bars labeled inside\n",
    "    empty_neg = f'\\\\addplot[white!0] coordinates {{(-{cbuf:.2f}, 0)}};'\n",
    "    empty_pos = f'\\\\addplot[white!0] coordinates {{({cbuf:.2f}, 0)}};'\n",
    "    txt = [empty_neg, empty_pos]\n",
    "\n",
    "    for k, [name, color, tcolor, y] in v.items():\n",
    "        x = contrib[k].round(3)\n",
    "        bar = f'\\\\addplot[{color}] coordinates {{({x}, {y})}};'\n",
    "        vtc = 'black'\n",
    "        tx = f'{contrib[k]:.1f}'\n",
    "        if abs(x) > thresh:  # Some value labels inside of bars\n",
    "            vt = f'\\scriptsize \\color{{{tcolor}}} \\\\textbf{{{tx}}}'\n",
    "            inside = True\n",
    "        else:\n",
    "            vt = f'\\scriptsize {tx}'\n",
    "            inside = False\n",
    "        if x > 0:\n",
    "            ytlab = 'left, align=right'\n",
    "            vtlab = 'left, align=right' if inside == True else 'right, align=right'\n",
    "        else:\n",
    "            ytlab = 'right, align=left'\n",
    "            vtlab = 'right, align=left' if inside == True else 'left, align=left'\n",
    "        # Create ylabel and value label\n",
    "        ylabel = f'\\\\node[{ytlab}, text width=2.0cm] at (axis cs:0,{y}) {{{name}}};'\n",
    "        vlabel = f'\\\\node[{vtlab}] at (axis cs:{x},{y}) {{{vt}}};'\n",
    "        txt.append(bar)\n",
    "        txt.append(ylabel)\n",
    "        txt.append(vlabel)\n",
    "    nodes = '\\n'.join(txt)\n",
    "    write_txt(text_dir / f'gdp_{n}_ch19.txt', nodes)\n",
    "\n",
    "    # Store latest date\n",
    "    write_txt(text_dir / f'gdp_{n}_ch19_dt.txt', dtxt(d19.index[-1])['qtr1'])"
   ]
  },
  {
   "cell_type": "code",
   "execution_count": null,
   "metadata": {},
   "outputs": [],
   "source": []
  },
  {
   "cell_type": "code",
   "execution_count": null,
   "metadata": {},
   "outputs": [],
   "source": []
  },
  {
   "cell_type": "markdown",
   "metadata": {},
   "source": [
    "### Gross Domestic Income"
   ]
  },
  {
   "cell_type": "code",
   "execution_count": 607,
   "metadata": {
    "ExecuteTime": {
     "end_time": "2023-11-18T22:51:36.360670Z",
     "start_time": "2023-11-18T22:51:36.318899Z"
    }
   },
   "outputs": [
    {
     "name": "stdout",
     "output_type": "stream",
     "text": [
      "In the latest full year of data, 2022, real GDI increased 2.1 percent. Labor income contributed 0.1 percentage point, profit subtracted 0.2 percentage point, indirect taxes less subsidies added 1.6 points, and 0.6 point went to depreciation. \n"
     ]
    }
   ],
   "source": [
    "# Annual contribution to growth\n",
    "s = ['A261RX']\n",
    "rgdi = nipa_df(retrieve_table('T11706A')['Data'], s).dropna()\n",
    "s = ['A261RC', 'A4002C', 'W056RC', 'A107RC', 'W271RC', 'A262RC',\n",
    "     'A4102C', 'A038RC']\n",
    "df = nipa_df(retrieve_table('T11000A')['Data'], s).dropna()\n",
    "\n",
    "# Calculate indirect taxes net of transfers\n",
    "df['indirect'] = df['W056RC'] - df['A107RC']\n",
    "\n",
    "# Calculate GDI deflator from real GDI series\n",
    "deflator = rgdi['A261RX'] / df['A261RC']\n",
    "deflator = deflator / deflator.iloc[-1]\n",
    "df = df.multiply(deflator, axis=0)\n",
    "\n",
    "# Calculate contributions to growth\n",
    "contr = growth_contrib_ann(df, 'A261RC', freq='A')\n",
    "contr.loc['1989':].to_csv(data_dir / 'gdi_comp_ann.csv', index_label='date')\n",
    "\n",
    "# Text \n",
    "lt = contr.iloc[-1]\n",
    "ltyr = contr.index[-1].year\n",
    "gdi = value_text(lt['A261RC'])\n",
    "lab = value_text(lt['A4002C'], 'contribution', ptype='pp')\n",
    "prof = value_text(lt['W271RC'], 'contribution', ptype='pp', casual=True)\n",
    "tax = value_text(lt['indirect'], 'contribution', ptype='point', casual=True)\n",
    "cfc = value_text(lt['A262RC'], 'plain', ptype='point')\n",
    "text = (f'In the latest full year of data, {ltyr}, real GDI {gdi}. '+\n",
    "        f'Labor income {lab}, profit {prof}, '+\n",
    "        f'indirect taxes less subsidies {tax}, and {cfc} '+\n",
    "        f'went to depreciation. ')\n",
    "write_txt(text_dir / 'gdi_ltyr_comp.txt', text)\n",
    "print(text)"
   ]
  },
  {
   "cell_type": "code",
   "execution_count": 582,
   "metadata": {
    "ExecuteTime": {
     "end_time": "2023-11-18T21:32:30.775253Z",
     "start_time": "2023-11-18T21:32:30.605107Z"
    }
   },
   "outputs": [],
   "source": [
    "# Collect data\n",
    "s = ['A261RX']\n",
    "rgdi = nipa_df(retrieve_table('T11706')['Data'], s).dropna()\n",
    "s = ['A261RC', 'A4002C', 'W056RC', 'A107RC', 'W271RC', 'A262RC',\n",
    "     'A4102C', 'A038RC']\n",
    "df = nipa_df(retrieve_table('T11000')['Data'], s).dropna()\n",
    "pop = nipa_df(retrieve_table('T20100')['Data'], ['B230RC'])['B230RC']\n",
    "\n",
    "# Calculate indirect taxes net of transfers\n",
    "df['indirect'] = df['W056RC'] - df['A107RC']\n",
    "\n",
    "# Calculate net domestic income (GDI less depreciation)\n",
    "df['NDI'] = df['A261RC'] - df['A262RC']\n",
    "\n",
    "# Calculate GDI deflator from real GDI series\n",
    "deflator = rgdi['A261RX'] / df['A261RC']\n",
    "deflator = deflator / deflator.iloc[-1]\n",
    "df = df.multiply(deflator, axis=0)\n",
    "\n",
    "# Calculate contributions to growth\n",
    "contr = growth_contrib(df, 'A261RC')\n",
    "\n",
    "# Save results\n",
    "cols = ['A261RC', 'A4002C', 'A4102C', 'A038RC', 'W271RC',\n",
    "        'indirect', 'W056RC', 'A107RC', 'A262RC', 'NDI']\n",
    "contr.loc['1989':, cols].to_csv(data_dir / 'gdi.csv', index_label='date')\n",
    "ctlt = contr[cols].iloc[-9:]\n",
    "ctlt['label'] = [f'Q{i.quarter} \\\\\\\\ {i.year}' if (i.quarter == 1) | (i == ctlt.index[0]) \n",
    "                else dtxt(i)['qtr3'] for i in ctlt.index]\n",
    "ctlt.to_csv(data_dir / 'gdi_latest.csv', index_label='date')\n",
    "\n",
    "# Nodes for latest data\n",
    "slist = ['A4002C', 'W271RC', 'A262RC', 'indirect']\n",
    "nodes = selected_nodes(contr[slist].iloc[-1].to_frame().T)\n",
    "write_txt(text_dir / 'gdi_latest_nodes.txt', nodes)\n",
    "\n",
    "# Empty dots to set axis\n",
    "f = contr[slist].iloc[-9:]\n",
    "ymax = f[f>0].sum(axis=1).max()\n",
    "ymin = f[f<0].sum(axis=1).min()\n",
    "dt = dtxt(contr.index[-1])['datetime2']\n",
    "dots = ('\\\\addplot[only marks, white, draw opacity=0, mark size=0.1pt]'+\n",
    "        f' coordinates {{({{{dt}}},{ymax}) ({{{dt}}}, {ymin})}};')\n",
    "write_txt(text_dir / 'gdi_latest_axis_dots.txt', dots)\n",
    "\n",
    "# Calculate and store per capita data\n",
    "dfpop = df[cols].div(pop, axis=0).dropna()\n",
    "dfpop.to_csv(data_dir / 'gdi_pc_comp.csv', index_label='date')\n",
    "\n",
    "# Store latest date\n",
    "ltdt = dtxt(dfpop.index[-1])['qtr1']\n",
    "prdt = dtxt(dfpop.index[-2])['qtr1']\n",
    "write_txt(text_dir / 'gdi_ltdt.txt', ltdt)"
   ]
  },
  {
   "cell_type": "code",
   "execution_count": 558,
   "metadata": {
    "ExecuteTime": {
     "end_time": "2023-11-18T03:54:27.406321Z",
     "start_time": "2023-11-18T03:54:27.389651Z"
    }
   },
   "outputs": [
    {
     "name": "stdout",
     "output_type": "stream",
     "text": [
      "\n",
      " of \\$26,643 billion in 2023 Q2, which is \\$79,528 per capita.  \n",
      "\n",
      "\n",
      " is \\$22,086 billion in 2023 Q2, or \\$65,926 per capita.  \n",
      "\n",
      "Labor receives 64.2 percent of NDI in 2023 Q2. Gross labor income per capita is \\$42,354 in 2023 Q2 (see {\\color{magenta!90!blue}\\textbf{---}}) and \\$40,899 in 2019 Q4, on an annualized, seasonally-adjusted, and inflation-adjusted basis.\n",
      "\n",
      " Profits comprise 28.0 percent of NDI in 2023 Q2. Profits per person total \\$18,433 in 2023 Q2 (see {\\color{yellow!60!orange}\\textbf{---}}) and \\$18,175 in 2023 Q1, following the same adjustments. Indirect taxes less subsidies per capita total \\$5,139 in 2023 Q2 (see {\\color{violet}\\textbf{---}}) and \\$5,174 in 2023 Q1.\n",
      "\n",
      "Lastly, depreciation per capita is \\$13,602 in 2023 Q2 (see {\\color{teal!60!white}\\textbf{---}}) and \\$12,418 in 2023 Q1. Depreciation makes up 17.1 percent of GDI in 2023 Q2. \n"
     ]
    }
   ],
   "source": [
    "# Per capita summary table\n",
    "srs = {'A261RC': '\\hspace{0.1mm} Gross Domestic Income', \n",
    "       'A4002C': '\\hspace{-0.2mm} {\\color{magenta!90!blue}\\\\textbf{---}} Labor Income', \n",
    "       'A4102C': '\\hspace{4mm} Wages and Salaries',\n",
    "       'A038RC': '\\hspace{4mm} Supplements',\n",
    "       'W271RC': '\\hspace{-0.2mm} {\\color{yellow!60!orange}\\\\textbf{---}} Profit', \n",
    "       'indirect': '\\hspace{-0.1mm} {\\color{violet}\\\\textbf{---}} Indirect Taxes', \n",
    "       'W056RC': '\\hspace{4mm} Taxes on Production \\& Imports',\n",
    "       'A107RC': '\\hspace{4mm} Less: Subsidies',\n",
    "       'A262RC': '\\hspace{-0.2mm} {\\color{teal!60!white}\\\\textbf{---}} Depreciation'}\n",
    "res = dfpop[srs.keys()].dropna() * 1000\n",
    "\n",
    "dates = [res.index[-1], res.index[-5], '2019-10-01', '2012-01-01', \n",
    "         '2000-01-01', '1989-01-01']\n",
    "tbl = (pd.concat([res.loc[dt] for dt in dates], axis=1)\n",
    "         .rename(srs).applymap('{:,.0f}'.format))\n",
    "tbl.columns = [dtxt(i)['qtr1'] for i in tbl.columns]\n",
    "tbl.iloc[0, 0] = f'\\${tbl.iloc[0, 0]}'\n",
    "tbl.to_csv(data_dir / 'gdipc_levels.tex', sep='&', \n",
    "           lineterminator='\\\\\\ ', quotechar=' ')\n",
    "\n",
    "# GDI text\n",
    "ltval = df['A261RC'].iloc[-1] / 1000\n",
    "ltpc = dfpop['A261RC'].iloc[-1] * 1000\n",
    "text = (f'of \\${ltval:,.0f} billion in {ltdt}, which is '+\n",
    "        f'\\${ltpc:,.0f} per capita. ')\n",
    "write_txt(text_dir / 'gdi_levels.txt', text)\n",
    "print('\\n', text, '\\n')\n",
    "\n",
    "# NDI text\n",
    "ltval = df['NDI'].iloc[-1] / 1000\n",
    "ltpc = dfpop['NDI'].iloc[-1] * 1000\n",
    "text = (f'is \\${ltval:,.0f} billion in {ltdt}, or '+\n",
    "        f'\\${ltpc:,.0f} per capita. ')\n",
    "write_txt(text_dir / 'ndi_levels.txt', text)\n",
    "print('\\n', text, '\\n')\n",
    "\n",
    "# Labor and capital share\n",
    "lsh = (df['A4002C'] / df['NDI']) * 100\n",
    "csh = (df['W271RC'] / df['NDI']) * 100\n",
    "dsh = (df['A262RC'] / df['A261RC']) * 100\n",
    "\n",
    "# Text by income type\n",
    "prdate = '2019-10-01'\n",
    "l_pc = dfpop['A4002C'].iloc[-1] * 1000\n",
    "l_pr = dfpop['A4002C'].loc[prdate] * 1000\n",
    "k_pc = dfpop['W271RC'].iloc[-1] * 1000\n",
    "k_pr = dfpop['W271RC'].loc[prdate] * 1000\n",
    "t_pc = dfpop['indirect'].iloc[-1] * 1000\n",
    "t_pr = dfpop['indirect'].loc[prdate] * 1000\n",
    "d_pc = dfpop['A262RC'].iloc[-1] * 1000\n",
    "d_pr = dfpop['A262RC'].loc[prdate] * 1000\n",
    "\n",
    "text = (f'Labor receives {lsh.iloc[-1]:.1f} percent of NDI in {ltdt}. '+\n",
    "        'Gross labor income per capita is '+\n",
    "        f'\\${l_pc:,.0f} in {ltdt} '+\n",
    "        '(see {\\color{magenta!90!blue}\\\\textbf{---}}) '+\n",
    "        f'and \\${l_pr:,.0f} in 2019 Q4, on an annualized, '+\n",
    "        'seasonally-adjusted, and inflation-adjusted basis.\\n\\n '+\n",
    "        f'Profits comprise {csh.iloc[-1]:.1f} percent of NDI in {ltdt}. '+\n",
    "        f'Profits per person total \\${k_pc:,.0f} in {ltdt} '+\n",
    "        '(see {\\color{yellow!60!orange}\\\\textbf{---}}) and '+\n",
    "        f'\\${k_pr:,.0f} in {prdt}, following the same adjustments. '+\n",
    "        f'Indirect taxes less subsidies per capita total \\${t_pc:,.0f} '+\n",
    "        f'in {ltdt} (see {{\\color{{violet}}\\\\textbf{{---}}}}) '+\n",
    "        f'and \\${t_pr:,.0f} in {prdt}.\\n\\nLastly, depreciation per '+\n",
    "        f'capita is \\${d_pc:,.0f} in {ltdt} (see '+\n",
    "        '{\\color{teal!60!white}\\\\textbf{---}}) and '+\n",
    "        f'\\${d_pr:,.0f} in {prdt}. Depreciation makes up '+\n",
    "        f'{dsh.iloc[-1]:.1f} percent of GDI in {ltdt}. ')\n",
    "write_txt(text_dir / 'gdi_levels_pc.txt', text)\n",
    "print(text)"
   ]
  },
  {
   "cell_type": "code",
   "execution_count": 606,
   "metadata": {
    "ExecuteTime": {
     "end_time": "2023-11-18T22:50:58.923713Z",
     "start_time": "2023-11-18T22:50:58.916523Z"
    }
   },
   "outputs": [
    {
     "name": "stdout",
     "output_type": "stream",
     "text": [
      "In the first quarter of 2022, real GDI increased at an annual rate of 2.1 percent, following an increase of 6.1 percent in 2021 Q1, and a decrease of 2.3 percent in 2020 Q1. In the latest quarter, labor income contributed 0.06 percentage point to annualized growth, profit subtracted 0.17 percentage point, changes in indirect tax revenue and subsidies added 1.62 points, and 0.61 point went to depreciation growth. \n"
     ]
    }
   ],
   "source": [
    "# GDI Growth Text\n",
    "s = ['A261RC', 'A4002C', 'W271RC', 'indirect', 'A262RC']\n",
    "df = contr[s]\n",
    "gdi_lt = value_text(df[\"A261RC\"].iloc[-1], adj='annual')\n",
    "prval = prval_comp(df[\"A261RC\"])\n",
    "\n",
    "ltdt = dtxt(df.index[-1])['qtr2']\n",
    "ltdt2 = dtxt(df.index[-1])['qtr1']\n",
    "prdt = dtxt(df.index[-2])['qtr1']\n",
    "\n",
    "text1 = (f'In {ltdt}, real GDI {gdi_lt}, following {prval}. ')  \n",
    "\n",
    "l_lt = value_text(df[\"A4002C\"].iloc[-1], style='contribution_to', \n",
    "                  digits=2, ptype='pp')\n",
    "k_lt = value_text(df[\"W271RC\"].iloc[-1], style='contribution', casual=True,\n",
    "                  digits=2, ptype='pp')\n",
    "t_lt = value_text(df['indirect'].iloc[-1], style='contribution', casual=True,\n",
    "                  digits=2, ptype='point')\n",
    "d_lt = value_text(df['A262RC'].iloc[-1], style='plain', \n",
    "                  digits=2, ptype='point')\n",
    "    \n",
    "text = (f'{text1}In the latest quarter, labor income {l_lt} annualized growth, '+\n",
    "        f'profit {k_lt}, changes in indirect tax revenue '+\n",
    "        f'and subsidies {t_lt}, and {d_lt} went to depreciation growth. ')\n",
    "write_txt(text_dir / 'gdi_growth_comp.txt', text)\n",
    "print(text) "
   ]
  },
  {
   "cell_type": "code",
   "execution_count": null,
   "metadata": {},
   "outputs": [],
   "source": []
  },
  {
   "cell_type": "code",
   "execution_count": null,
   "metadata": {},
   "outputs": [],
   "source": []
  },
  {
   "cell_type": "markdown",
   "metadata": {},
   "source": [
    "### Consumer Spending Overview (Levels)"
   ]
  },
  {
   "cell_type": "code",
   "execution_count": 65,
   "metadata": {
    "ExecuteTime": {
     "end_time": "2023-11-14T00:04:04.945755Z",
     "start_time": "2023-11-14T00:04:04.478659Z"
    }
   },
   "outputs": [
    {
     "name": "stdout",
     "output_type": "stream",
     "text": [
      "Total consumer spending is \\$18.7 trillion in 2023 Q3, compared to a price-adjusted \\$18.6 trillion in 2023 Q2 and \\$17.0 trillion in 2019 Q4. On a per person basis, consumer spending is \\$55,840 in 2023 Q3, of which \\$18,569 are spent on goods (see {\\color{red}\\textbf{---}}) and \\$37,270 on services (see {\\color{orange}\\textbf{---}}). In the fourth quarter of 2019, before the pandemic, consumer spending on goods was \\$15,909 per person, and spending on services was \\$35,542 per person, after adjusting for inflation. \n",
      "\n",
      " Within consumer spending on services, housing and utilities spending totals \\$9,877 on an annualized and per person basis in 2023 Q3 (see {\\color{green!60!blue}\\textbf{---}}) and \\$9,405 in 2019 Q4. Construction or improvement of housing is considered residential fixed investment, not consumer spending, but can be combined with spending to analyze patterns in shelter costs. In 2023 Q3, residential investment totals \\$3,208 per person (see {\\color{blue!80!black}\\textbf{---}}), compared to \\$3,413 in the pre-COVID data covering 2019 Q4. \n",
      "\n",
      " Consumer spending on services other than housing and utilities totals \\$27,394 per person, on an annualized basis, in 2023 Q3 (see {\\color{blue!75!white}\\textbf{---}}), compared to an inflation-adjusted \\$27,192 in 2023 Q2, and \\$26,137 in 2019 Q4. Spending on non-housing services has increased 4.8 percent since 2019 Q4. \n",
      "\n",
      "Shelter costs, which combine housing, utilities, and residential fixed investment, are \\$13,084 per person in 2023 Q3 (see {\\color{green!85!blue}\\textbf{---}}), \\$12,986 in 2023 Q2, and \\$12,818 in 2019 Q4. Shelter spending peaked at \\$14,773 per person in the third quarter of 2005, during the housing bubble.\n"
     ]
    }
   ],
   "source": [
    "pop = nipa_df(retrieve_table('T20100')['Data'], ['B230RC'])['B230RC']\n",
    "\n",
    "n = {'DPCERC': 'Total',\n",
    "     'DGDSRC': 'Goods',\n",
    "     'DSERRC': 'Services',\n",
    "     'DHUTRC': 'Housing',\n",
    "     'A011RC': 'ResInv',\n",
    "     'DMOTRC': 'MotorVeh',\n",
    "     'DFDHRC': 'Furn',\n",
    "     'DREQRC': 'RecDG',\n",
    "     'DFXARC': 'Groc',\n",
    "     'DCLORC': 'Cloth',\n",
    "     'DHLCRC': 'Health',\n",
    "     'DTRSRC': 'Transp',\n",
    "     'DRCARC': 'RecSer',\n",
    "     'DFSARC': 'FoodAcc',\n",
    "     'DIFSRC': 'FinIns'}\n",
    "n2 = {k[:-2] + 'RA': v for k, v in n.items()}\n",
    "s = list(n.keys())\n",
    "s2 = list(n2.keys())\n",
    "\n",
    "othserv = lambda x: x['Services'] - x['Housing']\n",
    "shelter = lambda x: x['Housing'] + x['ResInv']\n",
    "\n",
    "df = (nipa_df(retrieve_table('T10505')['Data'], s)\n",
    "      .rename(n, axis=1))\n",
    "df2 = (nipa_df(retrieve_table('T10503')['Data'], s2)\n",
    "       .rename(n2, axis=1))\n",
    "real = ((df2 / df2.iloc[-1]) * df.iloc[-1]).assign(OTHSERV = othserv, SHELTER = shelter)\n",
    "pp = real.divide(pop, axis=0)\n",
    "\n",
    "keep_col = ['Goods', 'Services', 'Housing', 'ResInv', 'OTHSERV', 'SHELTER']\n",
    "pp.loc['1989':, keep_col].to_csv(data_dir / 'pce_levels.csv', index_label='date')\n",
    "\n",
    "lttot = real.Total.iloc[-1] / 1_000_000\n",
    "prtot = real.Total.iloc[-2] / 1_000_000\n",
    "pctot = real.Total.loc['2019-10-01'] / 1_000_000\n",
    "ltdate = dtxt(real.index[-1])['qtr1']\n",
    "prdate = dtxt(real.index[-2])['qtr1']\n",
    "totpp = pp.Total.iloc[-1] * 1_000\n",
    "goodpp = pp.Goods.iloc[-1] * 1_000\n",
    "servpp = pp.Services.iloc[-1] * 1_000\n",
    "goodpppc = pp.Goods.loc['2019-10-01'] * 1_000\n",
    "servpppc = pp.Services.loc['2019-10-01'] * 1_000\n",
    "\n",
    "text = ('Total consumer spending is '+\n",
    "        f'\\${lttot:.1f} trillion in {ltdate}, compared to a price-adjusted '+\n",
    "        f'\\${prtot:.1f} trillion in {prdate} and \\${pctot:.1f} trillion in 2019 Q4. '+\n",
    "        'On a per person basis, consumer spending is '+\n",
    "        f'\\${totpp:,.0f} in {ltdate}, of which \\${goodpp:,.0f} are spent on goods '+\n",
    "        '(see {\\color{red}\\\\textbf{---}}) and '+\n",
    "        f'\\${servpp:,.0f} on services '+\n",
    "        '(see {\\color{orange}\\\\textbf{---}}). In the fourth quarter of 2019, '+\n",
    "        f'before the pandemic, consumer spending on goods was \\${goodpppc:,.0f} '+\n",
    "        f'per person, and spending on services was \\${servpppc:,.0f} per person, '+\n",
    "        'after adjusting for inflation. ')\n",
    "write_txt(text_dir / 'pce_levels.txt', text)\n",
    "print(text)\n",
    "\n",
    "hult = pp['Housing'].iloc[-1] * 1_000\n",
    "hupc = pp['Housing'].loc['2019-10-01'] * 1_000\n",
    "rfilt = pp['ResInv'].iloc[-1] * 1_000\n",
    "rfipc = pp['ResInv'].loc['2019-10-01'] * 1_000\n",
    "\n",
    "text = ('Within consumer spending on services, housing and utilities spending '+\n",
    "        f'totals \\${hult:,.0f} on an annualized and per person basis in {ltdate} '+\n",
    "        '(see {\\color{green!60!blue}\\\\textbf{---}}) '+\n",
    "        f'and \\${hupc:,.0f} in 2019 Q4. Construction or improvement '+\n",
    "        'of housing is considered residential fixed investment, not '+\n",
    "        'consumer spending, but can be combined with spending to analyze '+\n",
    "        'patterns in shelter costs. In '+\n",
    "        f'{ltdate}, residential investment totals \\${rfilt:,.0f} per person '+\n",
    "        '(see {\\color{blue!80!black}\\\\textbf{---}}), '+\n",
    "        f'compared to \\${rfipc:,.0f} in the pre-COVID data covering 2019 Q4. ')\n",
    "write_txt(text_dir / 'pce2_levels.txt', text)\n",
    "print('\\n', text)\n",
    "\n",
    "othlt = pp['OTHSERV'].iloc[-1] * 1_000\n",
    "othpr = pp['OTHSERV'].iloc[-2] * 1_000\n",
    "othpc = pp.loc['2019-10-01', 'OTHSERV'] * 1_000\n",
    "chval = ((othlt / othpc) - 1) * 100\n",
    "chtxt = value_text(chval)\n",
    "shellt = pp['SHELTER'].iloc[-1] * 1_000\n",
    "shelpr = pp['SHELTER'].iloc[-2] * 1_000\n",
    "shelpc = pp.loc['2019-10-01', 'SHELTER'] * 1_000\n",
    "shelmax = pp['SHELTER'].max() * 1_000\n",
    "shelmaxdt = dtxt(pp.SHELTER.idxmax())['qtr2']\n",
    "\n",
    "text = ('Consumer spending on services other than housing and utilities totals \\$'+\n",
    "        f'{othlt:,.0f} per person, on an annualized basis, in {ltdate} '+\n",
    "        '(see {\\color{blue!75!white}\\\\textbf{---}}), compared to an '+\n",
    "        f'inflation-adjusted \\${othpr:,.0f} in {prdate}, and \\${othpc:,.0f} in '+\n",
    "        f'2019 Q4. Spending on non-housing services has {chtxt} since 2019 Q4. '+\n",
    "        '\\n\\nShelter costs, which combine housing, utilities, and residential fixed '+\n",
    "        f'investment, are \\${shellt:,.0f} per person in {ltdate} '+\n",
    "        '(see {\\color{green!85!blue}\\\\textbf{---}})'+\n",
    "        f', \\${shelpr:,.0f} '+\n",
    "        f'in {prdate}, and \\${shelpc:,.0f} in 2019 Q4. Shelter spending peaked at '+\n",
    "        f'\\${shelmax:,.0f} per person in {shelmaxdt}, during the housing bubble.')\n",
    "write_txt(text_dir / 'pce3_levels.txt', text)\n",
    "print('\\n', text)"
   ]
  },
  {
   "cell_type": "code",
   "execution_count": 35,
   "metadata": {
    "ExecuteTime": {
     "end_time": "2023-10-26T12:31:06.073421Z",
     "start_time": "2023-10-26T12:31:06.060623Z"
    }
   },
   "outputs": [],
   "source": [
    "n = {'Total': 'Consumer Spending',\n",
    "     'Goods': '\\hspace*{-0.6mm} {\\color{red}\\\\textbf{---}} Goods',\n",
    "     'MotorVeh': '\\hspace{4mm} Motor Vehicles \\& Parts',\n",
    "     'Furn': '\\hspace{4mm} Furniture \\& HH Equipment',\n",
    "     'RecDG': '\\hspace{4mm} Recreational Durable Goods',\n",
    "     'Groc': '\\hspace{4mm} Groceries',\n",
    "     'Cloth': '\\hspace{4mm} Clothes \\& Shoes',\n",
    "     'OTHSERV': '\\hspace*{-0.6mm} {\\color{blue!75!white}\\\\textbf{---}} Services Excluding Shelter',\n",
    "     'Health': '\\hspace{4mm} Health Care Services',\n",
    "     'Transp': '\\hspace{4mm} Transportation',\n",
    "     'RecSer': '\\hspace{4mm} Recreational',\n",
    "     'FoodAcc': '\\hspace{4mm} Food \\& Accommodations',\n",
    "     'FinIns': '\\hspace{4mm} Financial \\& Insurance',\n",
    "     'SHELTER': '\\hspace*{-0.6mm} {\\color{green!85!blue}\\\\textbf{---}} Shelter Including Investment',\n",
    "     'Housing': '\\hspace{4mm} Housing Services \\& Utilities ',\n",
    "     'ResInv': '\\hspace{4mm} Residential Fixed Investment'}\n",
    "\n",
    "res = pp[n.keys()].rename(n, axis=1) * 1_000\n",
    "lt = res.iloc[-1]\n",
    "lt.name = dtxt(lt.name)['qtr1']\n",
    "pr = res.iloc[-2]\n",
    "pr.name = dtxt(pr.name)['qtr1']\n",
    "py = res.iloc[-5]\n",
    "py.name = dtxt(py.name)['qtr1']\n",
    "pc = res.loc['2019-10-01']\n",
    "pc.name = dtxt(pc.name)['qtr1']\n",
    "p00 = res.loc['2000-01-01']\n",
    "p00.name = dtxt(p00.name)['qtr1']\n",
    "fi = res.loc['1989-01-01']\n",
    "fi.name = dtxt(fi.name)['qtr1']\n",
    "table = pd.concat([lt, pr, py, pc, p00, fi], axis=1).applymap('{:,.0f}'.format)\n",
    "table.columns = table.columns.str.replace(' ', '\\n')\n",
    "table.iloc[0, 0] = f'\\${table.iloc[0, 0]}'\n",
    "table.to_csv(data_dir / 'pce_levels.tex', sep='&', lineterminator='\\\\\\ ', quotechar=' ')\n",
    "#table"
   ]
  },
  {
   "cell_type": "code",
   "execution_count": null,
   "metadata": {},
   "outputs": [],
   "source": []
  },
  {
   "cell_type": "code",
   "execution_count": null,
   "metadata": {},
   "outputs": [],
   "source": []
  },
  {
   "cell_type": "markdown",
   "metadata": {},
   "source": [
    "### Consumer Spending and Residential Fixed Investment"
   ]
  },
  {
   "cell_type": "code",
   "execution_count": 36,
   "metadata": {
    "ExecuteTime": {
     "end_time": "2023-10-26T12:31:09.020626Z",
     "start_time": "2023-10-26T12:31:08.748519Z"
    }
   },
   "outputs": [
    {
     "name": "stdout",
     "output_type": "stream",
     "text": [
      "These categories contributed 2.7 percentage points to GDP growth in 2023 Q3 and contributed 0.6 percentage point in 2023 Q2, compared to an addition of 1.7 percentage points in 2019 Q4, before the pandemic.\n",
      "\n",
      " In the third quarter of 2023, household spending on goods contributed 1.1 percentage points to GDP growth, household spending on services other than housing and utilities added 1.2 percentage points, and shelter spending and investment contributed 0.6 percentage point.\n"
     ]
    }
   ],
   "source": [
    "s = ['DNPIRY', 'DSERRY', 'DPCERY', 'DGDSRY', 'DMOTRY',\n",
    "     'DFDHRY', 'DREQRY', 'DFXARY', 'DCLORY', 'DHLCRY',\n",
    "     'DTRSRY', 'DRCARY', 'DFSARY', 'DIFSRY', 'DHUTRY',\n",
    "     'A011RY']\n",
    "\n",
    "n = {'TOTAL': '& Consumer Spending',\n",
    "     'DGDSRY': '\\cbox{red} & Goods',\n",
    "     'DMOTRY': '& \\hspace{1mm} Motor Vehicles \\& Parts',\n",
    "     'DFDHRY': '& \\hspace{1mm} Furniture \\& HH Equipment',\n",
    "     'DREQRY': '& \\hspace{1mm} Recreational Durable Goods',\n",
    "     'DFXARY': '& \\hspace{1mm} Groceries',\n",
    "     'DCLORY': '& \\hspace{1mm} Clothes \\& Shoes',\n",
    "     'OTHSERV': '\\cbox{blue!75!white} & Services Excluding Shelter',\n",
    "     'DHLCRY': '& \\hspace{1mm} Health Care Services',\n",
    "     'DTRSRY': '& \\hspace{1mm} Transportation',\n",
    "     'DRCARY': '& \\hspace{1mm} Recreational',\n",
    "     'DFSARY': '& \\hspace{1mm} Food \\& Accommodations',\n",
    "     'DIFSRY': '& \\hspace{1mm} Financial \\& Insurance',\n",
    "     'SHELTER': '\\cbox{green!85!blue} & Shelter Including Investment',\n",
    "     'DHUTRY': '& \\hspace{1mm} Housing Services \\& Utilities ',\n",
    "     'A011RY': '& \\hspace{1mm} Residential Fixed Investment'}\n",
    "\n",
    "total = lambda x: x['DPCERY']\n",
    "othserv = lambda x: x['DSERRY'] - x['DHUTRY']\n",
    "shelter = lambda x: x['DHUTRY'] + x['A011RY']\n",
    "\n",
    "df = (nipa_df(retrieve_table('T10502')['Data'], s)\n",
    "      .assign(TOTAL = total, OTHSERV = othserv, SHELTER = shelter)\n",
    "      [list(n.keys())])\n",
    "\n",
    "(df.loc['1988':, ['DGDSRY', 'OTHSERV', 'SHELTER']]\n",
    " .rolling(4).mean().dropna()\n",
    " .to_csv(data_dir / 'pce_ma.csv', index_label='date', float_format='%g'))\n",
    "\n",
    "data = pd.concat([df.iloc[-3:].iloc[::-1].T, df.iloc[-5]], axis=1)\n",
    "cols = [f'& {q.year} Q{q.quarter}' \n",
    "        if i == 0 else f'`{str(q.year)[2:]} Q{q.quarter}'\n",
    "        for i, q in enumerate(data.columns)]\n",
    "data.columns = cols\n",
    "data['1-year'] = df.rolling(4).mean().iloc[-1]\n",
    "data['10-year'] = df.rolling(40).mean().iloc[-1]\n",
    "data['30-year'] = df.rolling(120).mean().iloc[-1]\n",
    "data.index = data.index.map(n)\n",
    "(data.round(2).applymap('{:,.2f}'.format)\n",
    " .to_csv(data_dir / 'pce.tex', sep='&', lineterminator='\\\\\\ ', quotechar=' '))\n",
    "\n",
    "ld = dtxt(df.index[-1])['qtr1']\n",
    "prd = dtxt(df.index[-2])['qtr1']\n",
    "ld2 = dtxt(df.index[-1])['qtr2']\n",
    "\n",
    "totlt = df['TOTAL'].iloc[-1]\n",
    "totltt = value_text(totlt, style='contribution_to', ptype='pp', \n",
    "                    digits=1, threshold=0.1)\n",
    "totpr = df['TOTAL'].iloc[-2]\n",
    "totprt = value_text(totpr, style='contribution', ptype='pp', \n",
    "                    digits=1, threshold=0.1)\n",
    "totpc = df.loc['2019-10-01', 'TOTAL']\n",
    "totpct = value_text(totpc, style='contribution_of', ptype='pp', \n",
    "                    digits=1, casual=True, threshold=0.1)\n",
    "\n",
    "txt1 = (f'These categories {totltt} GDP growth in {ld} and {totprt} in '+\n",
    "        f'{prd}, compared to {totpct} in 2019 Q4, before the pandemic.')\n",
    "write_txt(text_dir / 'pce1.txt', txt1)\n",
    "print(txt1)\n",
    "\n",
    "gdslt = df['DGDSRY'].iloc[-1]\n",
    "gdsltt = value_text(gdslt, style='contribution_to', ptype='pp', \n",
    "                    digits=1, threshold=0.1)\n",
    "serlt = df['OTHSERV'].iloc[-1]\n",
    "serltt = value_text(serlt, style='contribution', ptype='pp', digits=1, \n",
    "                    casual=True, threshold=0.1)\n",
    "shelt = df['SHELTER'].iloc[-1]\n",
    "sheltt = value_text(shelt, style='contribution', ptype='pp', \n",
    "                    digits=1, threshold=0.1)\n",
    "\n",
    "txt2 = (f'In {ld2}, household spending on goods {gdsltt} GDP growth, '+\n",
    "         'household spending on services other than housing and utilities '+\n",
    "        f'{serltt}, and shelter spending and investment {sheltt}.')\n",
    "write_txt(text_dir / 'pce2.txt', txt2)\n",
    "print('\\n', txt2)"
   ]
  },
  {
   "cell_type": "code",
   "execution_count": null,
   "metadata": {},
   "outputs": [],
   "source": []
  },
  {
   "cell_type": "code",
   "execution_count": null,
   "metadata": {},
   "outputs": [],
   "source": []
  },
  {
   "cell_type": "markdown",
   "metadata": {},
   "source": [
    "### Trade Contribution to GDP"
   ]
  },
  {
   "cell_type": "code",
   "execution_count": 37,
   "metadata": {
    "ExecuteTime": {
     "end_time": "2023-10-26T12:31:10.888846Z",
     "start_time": "2023-10-26T12:31:10.791950Z"
    }
   },
   "outputs": [
    {
     "name": "stdout",
     "output_type": "stream",
     "text": [
      "Goods exports contributed 0.54 percentage point to GDP growth in the third quarter of 2023 while services exports contributed 0.14 percentage point. Good imports subtracted 0.63 percentage point from GDP growth and services imports subtracted 0.12 percentage point.\n"
     ]
    }
   ],
   "source": [
    "s = ['A019RY', 'A253RY', 'A646RY', 'A255RY', 'A656RY']\n",
    "df = nipa_df(retrieve_table('T10502')['Data'], s)\n",
    "df.loc['1989':].to_csv(data_dir / 'nx.csv', index_label='date')\n",
    "\n",
    "sl = [('A253RY', 'contribution_to'), ('A646RY', 'contribution'), \n",
    "      ('A255RY', 'contribution_to'), ('A656RY', 'contribution')]\n",
    "\n",
    "d = {}\n",
    "for s, style in sl:\n",
    "    d[s] = value_text(df[s].iloc[-1], style, 'pp', digits=2)\n",
    "    \n",
    "ldate = dtxt(df.index[-1])['qtr2']\n",
    "\n",
    "text = (f\"Goods exports {d['A253RY']} GDP growth in {ldate} while \"+\n",
    "        f\"services exports {d['A646RY']}. Good imports {d['A255RY']} \"+\n",
    "        f\"GDP growth and services imports {d['A656RY']}.\")\n",
    "write_txt(text_dir / 'trade.txt', text)\n",
    "print(text)"
   ]
  },
  {
   "cell_type": "code",
   "execution_count": null,
   "metadata": {},
   "outputs": [],
   "source": []
  },
  {
   "cell_type": "code",
   "execution_count": null,
   "metadata": {},
   "outputs": [],
   "source": []
  },
  {
   "cell_type": "markdown",
   "metadata": {},
   "source": [
    "### Business investment"
   ]
  },
  {
   "cell_type": "code",
   "execution_count": 19,
   "metadata": {
    "ExecuteTime": {
     "end_time": "2023-11-12T16:19:35.467838Z",
     "start_time": "2023-11-12T16:19:35.309968Z"
    }
   },
   "outputs": [
    {
     "name": "stdout",
     "output_type": "stream",
     "text": [
      "Business fixed investment encompasses structures, equipment, and intellectual property, such as software and R\\&D. Annualized investment in structures is \\$832 billion in 2023 Q3, representing three percent of GDP (see {\\color{yellow!50!orange}\\textbf{---}}). Equipment investment is \\$1,384 billion or five percent of GDP (see {\\color{cyan!60!white}\\textbf{---}}), and intellectual property investment is \\$1,502 billion, which is 5.4 percent of GDP (see {\\color{violet}\\textbf{---}}).\n"
     ]
    }
   ],
   "source": [
    "# Contributions to growth\n",
    "s = ['Y001RY', 'A009RY', 'Y033RY']\n",
    "df = nipa_df(retrieve_table('T10502')['Data'], s)\n",
    "df.loc['1989':].to_csv(data_dir / 'businv.csv', index_label='date')\n",
    "\n",
    "# By category/type\n",
    "s1 = ['Y001RC', 'B009RC', 'Y033RC']\n",
    "s = s1 + ['A008RC']\n",
    "data = nipa_df(retrieve_table('T10105')['Data'], s)\n",
    "gdp = nipa_df(retrieve_table('T10105')['Data'], ['A191RC'])['A191RC']\n",
    "sh = data.divide(gdp, axis=0) * 100\n",
    "sh.loc['1989':].to_csv(data_dir / 'businvsh.csv', index_label='date')\n",
    "\n",
    "# End nodes\n",
    "colors = {'Y001RC': 'violet', 'B009RC': 'yellow!50!orange',\n",
    "          'Y033RC': 'cyan!60!white'}\n",
    "adj = node_adj(sh[s])\n",
    "date = {n: None for n, c in colors.items()}\n",
    "imax = sh[s1].iloc[-1].idxmax()\n",
    "adj[imax] += 0.32\n",
    "date[imax] = 'q'\n",
    "nodes = '\\n'.join([end_node(sh[n], c, date=date[n], offset=adj[n])\n",
    "                   for n, c in colors.items()])\n",
    "write_txt(text_dir / f'bus_inv_sh_nodes.txt', nodes)\n",
    "\n",
    "# Text\n",
    "cl = {n: c_line(c) for n, c in colors.items()}\n",
    "ltdt = dtxt(sh.index[-1])['qtr1']\n",
    "levels, shgdp = {}, {}\n",
    "for series in s1:\n",
    "    level_val = data[series].iloc[-1] / 1_000\n",
    "    levels[series] = f\"\\${level_val:,.0f} billion\"\n",
    "    shgdp[series] = f\"{value_text(sh[series].iloc[-1], 'plain')} of GDP\"\n",
    "text = ('Business fixed investment encompasses '+\n",
    "        'structures, equipment, and intellectual '+\n",
    "        'property, such as software and R\\&D. Annualized '+\n",
    "        f'investment in structures is {levels[\"B009RC\"]} in {ltdt}, '+\n",
    "        f'representing {shgdp[\"B009RC\"]} {cl[\"B009RC\"]}. Equipment '+\n",
    "        f'investment is {levels[\"Y033RC\"]} or {shgdp[\"Y033RC\"]} '+\n",
    "        f'{cl[\"Y033RC\"]}, and intellectual property investment '+\n",
    "        f'is {levels[\"Y001RC\"]}, which is {shgdp[\"Y001RC\"]} {cl[\"Y001RC\"]}.')\n",
    "write_txt(text_dir / 'businv_sh.txt', text)\n",
    "print(text)"
   ]
  },
  {
   "cell_type": "code",
   "execution_count": 16,
   "metadata": {
    "ExecuteTime": {
     "end_time": "2023-11-12T16:14:18.519327Z",
     "start_time": "2023-11-12T16:14:18.421858Z"
    }
   },
   "outputs": [
    {
     "name": "stdout",
     "output_type": "stream",
     "text": [
      "In the third quarter of 2023, gross private business investment totals \\$3,709 billion on a seasonally-adjusted annualized basis, which is 13.4 percent of GDP (see {\\color{blue!60!violet}\\textbf{---}}). Private business investment in fixed assets totals \\$3,718 billion, or 13.5 percent of GDP (see {\\color{cyan!80!white}\\textbf{---}}). Private business depreciation totals \\$2,992 billion in the quarter, or 10.8 percent of GDP (see {\\color{magenta}\\textbf{---}}). As a result, net fixed investment is \\$726 billion, or 2.6 percent of GDP (see {\\color{green!80!blue}\\textbf{---}}).\n",
      "\n",
      " In 2019 Q4, prior to the COVID-19 pandemic, private business gross investment was \\$2,935 billion. Since 2019 Q4, gross investment increased at an annual rate of 6.4 percent. Net fixed investment was \\$711 billion in 2019 Q4, and increased at an annual rate of 0.6 percent from 2019 Q4 to 2023 Q3, as growth of depreciation costs outpaced the increase in gross investment. \n"
     ]
    }
   ],
   "source": [
    "# Gross vs Net\n",
    "s = ['W790RC', 'W276RC', 'W987RC']\n",
    "df = nipa_df(retrieve_table('T50100')['Data'], s).join(data['A008RC'])\n",
    "df['NFI'] = (df['A008RC'] - df['W276RC']) # Net Fixed Investment\n",
    "gdp = nipa_df(retrieve_table('T10105')['Data'], ['A191RC'])['A191RC']\n",
    "res = (df.div(gdp, axis=0) * 100).dropna()\n",
    "res.loc['1989':].to_csv(data_dir / 'businv_main.csv', index_label='date')\n",
    "\n",
    "ltdt1 = dtxt(df.index[-1])['qtr1']\n",
    "ltdt2 = dtxt(df.index[-1])['qtr2']\n",
    "shgdp, levels = {}, {}\n",
    "for series in ['W790RC', 'W276RC', 'W987RC', 'A008RC', 'NFI']:\n",
    "    level_val = df[series].iloc[-1] / 1_000\n",
    "    n = ''\n",
    "    if level_val < 0:\n",
    "        n = 'negative '\n",
    "        level_val = abs(level_val)\n",
    "    levels[series] = f\"{n}\\${level_val:,.0f} billion\"\n",
    "    shgdp[series] = f\"{res[series].iloc[-1]:.1f} percent of GDP\"\n",
    "    \n",
    "diff = cagr(df.loc['2019-10-01':, 'W987RC'])\n",
    "gdt = value_text(diff, adj='annual')\n",
    "diff2 = cagr(df.loc['2019-10-01':, 'NFI'])\n",
    "if diff2 < -95:\n",
    "    ndt = 'but collapsed completely'\n",
    "else:\n",
    "    ndt = 'and ' + value_text(diff2, adj='annual')\n",
    "gpcl = f\"{n}\\${df.loc['2019-10-01', 'W987RC'] / 1_000:,.0f} billion\"\n",
    "npcl = f\"{n}\\${df.loc['2019-10-01', 'NFI'] / 1_000:,.0f} billion\"\n",
    "if diff < 0:\n",
    "    txt = 'as gross investment outpaced depreciation'\n",
    "else:\n",
    "    txt = 'as growth of depreciation costs outpaced the increase in gross investment'\n",
    "    \n",
    "text = (f'In {ltdt2}, gross private business investment totals '+\n",
    "        f'{levels[\"W987RC\"]} on a seasonally-adjusted annualized basis, '+\n",
    "        f'which is {shgdp[\"W987RC\"]} '+\n",
    "        '(see {\\color{blue!60!violet}\\\\textbf{---}}). Private business investment '+\n",
    "        f'in fixed assets totals {levels[\"A008RC\"]}, or {shgdp[\"A008RC\"]} '+\n",
    "        '(see {\\color{cyan!80!white}\\\\textbf{---}}). Private business depreciation '+\n",
    "        f'totals {levels[\"W276RC\"]} in the quarter, or {shgdp[\"W276RC\"]} '+\n",
    "        '(see {\\color{magenta}\\\\textbf{---}}). '+\n",
    "        f'As a result, net fixed investment is {levels[\"NFI\"]}, or {shgdp[\"NFI\"]} '+\n",
    "        '(see {\\color{green!80!blue}\\\\textbf{---}}).\\n\\n '+\n",
    "        'In 2019 Q4, prior to the COVID-19 pandemic, private business gross '+\n",
    "        f'investment was {gpcl}. Since 2019 Q4, gross investment {gdt}. '+\n",
    "        f'Net fixed investment was {npcl} in 2019 Q4, {ndt} from 2019 Q4 to {ltdt1}, '+\n",
    "        f'{txt}. ')\n",
    "write_txt(text_dir / 'businv_levels.txt', text)\n",
    "print(text)  "
   ]
  },
  {
   "cell_type": "code",
   "execution_count": null,
   "metadata": {},
   "outputs": [],
   "source": []
  },
  {
   "cell_type": "code",
   "execution_count": null,
   "metadata": {},
   "outputs": [],
   "source": []
  },
  {
   "cell_type": "markdown",
   "metadata": {},
   "source": [
    "### Business Investment Table and Text"
   ]
  },
  {
   "cell_type": "code",
   "execution_count": 22,
   "metadata": {
    "ExecuteTime": {
     "end_time": "2023-11-12T17:13:33.340268Z",
     "start_time": "2023-11-12T17:13:33.179080Z"
    },
    "code_folding": []
   },
   "outputs": [],
   "source": [
    "# Contribution to growth by business investment type\n",
    "s = ['A008RY', 'A009RY', 'Y033RY', 'Y034RY', 'B935RY', \n",
    "     'A680RY', 'A681RY', 'Y001RY', 'B985RY', 'Y006RY']\n",
    "\n",
    "n = { 'A008RY': 'Total',\n",
    "      'A009RY': '\\hspace{-2mm}\\cbox{yellow!50!orange}Structures',\n",
    "      'Y033RY': '\\hspace{-2mm}\\cbox{cyan!60!white}Equipment',\n",
    "      'Y034RY': '\\hspace{4mm} Information Processing',\n",
    "      'B935RY': '\\hspace{6mm} Computers \\& Peripherals',\n",
    "      'A680RY': '\\hspace{4mm} Industrial Equipment',\n",
    "      'A681RY': '\\hspace{4mm} Transportation Equipment',\n",
    "      'Y001RY': '\\hspace{-2mm}\\cbox{violet}Intellectual Property Products',\n",
    "      'B985RY': '\\hspace{4mm} Software',\n",
    "      'Y006RY': '\\hspace{4mm} Research \\& Development'}\n",
    "\n",
    "df = (nipa_df(retrieve_table('T10502')['Data'], s)\n",
    "      [list(n.keys())])\n",
    "data = df.iloc[-3:].iloc[::-1].T\n",
    "data[df.index[-5]] = df.iloc[-5]\n",
    "data[df.index[-9]] = df.iloc[-9]\n",
    "data.columns = [f' {q.year} Q{q.quarter}' \n",
    "                if i == 0 else f'`{str(q.year)[2:]} Q{q.quarter}'\n",
    "                for i, q in enumerate(data.columns)]\n",
    "data['1-year'] = df.rolling(4).mean().iloc[-1]\n",
    "data['10-year'] = df.rolling(40).mean().iloc[-1]\n",
    "data['30-year'] = df.rolling(120).mean().iloc[-1]\n",
    "data.index = data.index.map(n)\n",
    "res = data.applymap('{:,.2f}'.format)\n",
    "res.to_csv(data_dir / 'businv.tex', sep='&', \n",
    "           lineterminator='\\\\\\ ', quotechar=' ')"
   ]
  },
  {
   "cell_type": "code",
   "execution_count": 52,
   "metadata": {
    "ExecuteTime": {
     "end_time": "2023-11-12T17:25:39.890690Z",
     "start_time": "2023-11-12T17:25:39.877833Z"
    }
   },
   "outputs": [
    {
     "name": "stdout",
     "output_type": "stream",
     "text": [
      "From 1992 to 2000, business fixed investment contributed an average of 1.1 percentage points to GDP growth. Over the past three decades, the category contributed 0.6 percentage point, on average. Business investment added an average of 0.4 percentage point since 2019, and contributed 0.5 percentage point over the past year.\n",
      "\n",
      "Private business gross fixed investment did not contribute to GDP growth in 2023 Q3. Within the category, investment in structures contributed 0.05 percentage point to (see\\cbox{yellow!50!orange}), investment in equipment subtracted 0.19 percentage point (see\\cbox{cyan!60!white}), and investment in intellectual property added 0.14 percentage point (see\\cbox{violet}).\n"
     ]
    }
   ],
   "source": [
    "# Text\n",
    "thresh = 0.02\n",
    "sl = [('A008RY', 'contribution_to'), ('A009RY', 'contribution_to'), \n",
    "      ('Y033RY', 'contribution'), ('Y001RY', 'contribution'), \n",
    "      ('A680RY', 'contribution')]\n",
    "d = {}\n",
    "for s, style in sl:\n",
    "    value = df[s].iloc[-1]\n",
    "    d[s] = (value_text(df[s].iloc[-1], style,\n",
    "           ptype='pp', digits=2, threshold=thresh))\n",
    "\n",
    "t_1y = value_text(df['A008RY'].iloc[-4:].mean(), 'contribution_of', adj='average',\n",
    "           ptype='pp', digits=2, threshold=thresh).replace('an', 'the')\n",
    "ld = dtxt(df.index[-1])['qtr1']\n",
    "ld2 = dtxt(df.index[-1])['qtr2']\n",
    "val1y = df.A008RY.rolling(4).mean().iloc[-1]\n",
    "vallt = df.A008RY.iloc[-1]\n",
    "compare = compare_text(vallt, val1y, [0.1, 0.5, 2.0])\n",
    "colors = {'Y001RY': 'violet', 'A009RY': 'yellow!50!orange',\n",
    "          'Y033RY': 'cyan!60!white'}\n",
    "cb = {n: c_box(c) for n, c in colors.items()}\n",
    "d['Y001RY'] = d['Y001RY'].replace('contributed', 'added')\n",
    "annu = 'annualized ' if abs(df.A008RY.iloc[-1]) > thresh else ''\n",
    "v9200 = value_text(df.loc['1992':'2000', 'A008RY'].mean(), 'plain', ptype='pp')\n",
    "v30 = value_text(data.loc['Total', '30-year'], 'contribution', ptype='pp')\n",
    "v19 = value_text(df.loc['2019':, 'A008RY'].mean(), 'contribution', threshold=0.02, \n",
    "                 casual=True, ptype='pp').replace('ed ', 'ed an average of ')\n",
    "v1 = value_text(data.loc['Total', '1-year'], 'contribution', ptype='pp', \n",
    "                threshold=0.02)\n",
    "text = ('From 1992 to 2000, business fixed investment '+\n",
    "        f'contributed an average of {v9200} to GDP growth. '+\n",
    "        'Over the past three decades, the category '+\n",
    "        f'{v30}, on average. Business investment {v19} since 2019, '+\n",
    "        f'and {v1} over the past year.\\n\\n'+\n",
    "        f\"Private business gross fixed investment {d['A008RY']} \"+\n",
    "        f\"{annu}GDP growth in {ld}. Within the category, investment \"+\n",
    "        f\"in structures {d['A009RY']} {cb['A009RY']}, investment in \"+\n",
    "        f\"equipment {d['Y033RY']} {cb['Y033RY']}, and investment \"+\n",
    "        f\"in intellectual property {d['Y001RY']} {cb['Y001RY']}.\")\n",
    "write_txt(text_dir / 'businv.txt', text)\n",
    "print(text)"
   ]
  },
  {
   "cell_type": "code",
   "execution_count": null,
   "metadata": {},
   "outputs": [],
   "source": []
  },
  {
   "cell_type": "code",
   "execution_count": null,
   "metadata": {},
   "outputs": [],
   "source": []
  },
  {
   "cell_type": "markdown",
   "metadata": {},
   "source": [
    "### Government spending and investment"
   ]
  },
  {
   "cell_type": "code",
   "execution_count": 44,
   "metadata": {
    "ExecuteTime": {
     "end_time": "2023-10-26T12:31:25.771394Z",
     "start_time": "2023-10-26T12:31:25.577224Z"
    }
   },
   "outputs": [],
   "source": [
    "n = {'A822RY': 'Consolidated Government Total',\n",
    "     'A823RY': '\\hspace{2mm}Federal Total',\n",
    "     'A824RY': '\\cbox{blue!60!black}National Defense',\n",
    "     'A997RY': '\\hspace{6mm}Consumption Expenditures',\n",
    "     'A788RY': '\\hspace{6mm}Gross Investment',\n",
    "     'A825RY': '\\cbox{green!85!black}Federal Non-Defense',\n",
    "     'A542RY': '\\hspace{6mm}Consumption Expenditures',\n",
    "     'A798RY': '\\hspace{6mm}Gross Investment',\n",
    "     'A829RY': '\\hspace{-2mm}\\cbox{purple!70!magenta}State \\& Local Total',\n",
    "     'A991RY': '\\hspace{4mm}Consumption Expenditures',\n",
    "     'A799RY': '\\hspace{4mm}Gross Investment'}\n",
    "\n",
    "df = nipa_df(retrieve_table('T10502')['Data'], \n",
    "             list(n.keys()) + ['A191RL'])\n",
    "df.rolling(4).mean().loc['1989':].to_csv(data_dir / 'gov.csv', \n",
    "                                         index_label='date')"
   ]
  },
  {
   "cell_type": "code",
   "execution_count": 45,
   "metadata": {
    "ExecuteTime": {
     "end_time": "2023-10-26T12:31:26.462960Z",
     "start_time": "2023-10-26T12:31:26.423268Z"
    }
   },
   "outputs": [
    {
     "name": "stdout",
     "output_type": "stream",
     "text": [
      "Government consumption and investment directly affect economic growth in the short-term. In the third quarter of 2023, government consumption spending and investment contributed 0.79 percentage point to the real GDP growth rate of 4.9 percent. Over the last four quarters, government consumption and investment contributed 0.77 percentage point to economic growth, on average. Since 1989, the average contribution has been 0.25 percentage points.\n",
      "\n",
      "Over the four quarters ending 2023 Q3, by level of government, national defense contributed 0.18 percentage point (see\\cbox{blue!60!black}), federal non-defense contributed 0.17 percentage point (see\\cbox{green!85!black}), and state and local government contributed 0.43 percentage point (see\\cbox{purple!70!magenta}).\n"
     ]
    }
   ],
   "source": [
    "ltdt = dtxt(df.index[-1])['qtr2']\n",
    "ltdt2 = dtxt(df.index[-1])['qtr1']\n",
    "tot = df.A822RY\n",
    "gdp = df['A191RL'].iloc[-1]\n",
    "oneyr = value_text(tot.iloc[-4:].mean(), 'contribution', 'pp', \n",
    "                   threshold=0.01, digits=2)\n",
    "v89 = tot.loc['1989':].mean()\n",
    "totval = value_text(tot.iloc[-1], 'contribution_to', 'pp', \n",
    "                    threshold=0.01, digits=2)\n",
    "defval = value_text(df['A824RY'].iloc[-4:].mean(), 'contribution', 'pp', \n",
    "                   threshold=0.01, digits=2)\n",
    "defcb = c_box('blue!60!black')\n",
    "fedval = value_text(df['A825RY'].iloc[-4:].mean(), 'contribution', 'pp', \n",
    "                   threshold=0.01, digits=2)\n",
    "fedcb = c_box('green!85!black')\n",
    "slgval = value_text(df['A829RY'].iloc[-4:].mean(), 'contribution', 'pp', \n",
    "                   threshold=0.01, digits=2)\n",
    "slgcb = c_box('purple!70!magenta')\n",
    "text = ('Government consumption and investment directly affect economic '+\n",
    "        f'growth in the short-term. In {ltdt}, government consumption spending '+\n",
    "        f'and investment {totval} the real GDP growth rate of {gdp:.1f} '+\n",
    "        'percent. Over the last four quarters, government consumption '+\n",
    "        f'and investment {oneyr} to economic growth, on average. '+\n",
    "        f'Since 1989, the average contribution has been {v89:.2f} '+\n",
    "        f'percentage points.\\n\\nOver the four quarters ending {ltdt2}, '+\n",
    "        f'by level of government, national defense {defval} {defcb}, '+\n",
    "        f'federal non-defense {fedval} {fedcb}, and state and '+\n",
    "        f'local government {slgval} {slgcb}.')\n",
    "write_txt(text_dir / 'gov.txt', text)\n",
    "print(text)\n",
    "\n",
    "# Table \n",
    "res = df[n.keys()]\n",
    "data = res.iloc[-3:].iloc[::-1].T\n",
    "data[res.index[-5]] = res.iloc[-5]\n",
    "data[res.index[-9]] = res.iloc[-9]\n",
    "cols = [f' {q.year} Q{q.quarter}' \n",
    "        if i == 0 else f'`{str(q.year)[2:]} Q{q.quarter}'\n",
    "        for i, q in enumerate(data.columns)]\n",
    "\n",
    "data.columns = cols\n",
    "data['1-year'] = res.rolling(4).mean().iloc[-1].round(2)\n",
    "data['10-year'] = res.rolling(40).mean().iloc[-1].round(2)\n",
    "data['30-year'] = res.rolling(120).mean().iloc[-1].round(2)\n",
    "data.index = data.index.map(n)\n",
    "data = data.applymap('{:.2f}'.format)\n",
    "data.to_csv(data_dir / 'gov.tex', sep='&', lineterminator='\\\\\\ ', quotechar=' ')"
   ]
  },
  {
   "cell_type": "code",
   "execution_count": null,
   "metadata": {},
   "outputs": [],
   "source": []
  },
  {
   "cell_type": "code",
   "execution_count": null,
   "metadata": {},
   "outputs": [],
   "source": []
  },
  {
   "cell_type": "code",
   "execution_count": 3,
   "metadata": {
    "ExecuteTime": {
     "end_time": "2023-10-18T18:22:54.674317Z",
     "start_time": "2023-10-18T18:22:54.672047Z"
    }
   },
   "outputs": [],
   "source": [
    "#nipa_series_codes(retrieve_table('T30100'))"
   ]
  },
  {
   "cell_type": "markdown",
   "metadata": {},
   "source": [
    "### Government Summary"
   ]
  },
  {
   "cell_type": "code",
   "execution_count": 4,
   "metadata": {
    "ExecuteTime": {
     "end_time": "2023-10-26T12:45:58.441480Z",
     "start_time": "2023-10-26T12:45:58.292886Z"
    }
   },
   "outputs": [
    {
     "name": "stdout",
     "output_type": "stream",
     "text": [
      "As an overview of the consolidated government's effect on GDP, government receipts are equivalent to 27.0 percent of GDP in 2023 Q2, compared to 27.6 percent in 2019 Q2. The vast majority of these receipts are taxes, including social insurance contributions.\n",
      "\n",
      " Government spending is equivalent to 33.8 percent of GDP in the latest data and 33.2 percent in 2019. This includes consumption expenditures, which are the government's operating costs, transfers and subsidies, and interest payments. These are covered in more detail in the following subsections.\n"
     ]
    }
   ],
   "source": [
    "# GDP\n",
    "gdp = nipa_df(retrieve_table('T10105')['Data'], ['A191RC'])['A191RC']\n",
    "\n",
    "# Government data Table 3.1\n",
    "d = {'W021RC': 'Current receipts',\n",
    "     'W054RC': 'Current tax receipts',\n",
    "     'W782RC': 'Contributions for government social insurance',\n",
    "     'W022RC': 'Current expenditures',\n",
    "     'A955RC': 'Consumption Expenditures',\n",
    "     'A084RC': 'Current transfer payments',\n",
    "     'A180RC': 'Interest Payments',\n",
    "     'A107RC': 'Subsidies'}\n",
    "df = nipa_df(retrieve_table('T30100')['Data'], d.keys()).rename(d, axis=1)\n",
    "df['Taxes'] = (df[['Current tax receipts', \n",
    "                   'Contributions for government social insurance']]\n",
    "              ).sum(axis=1)\n",
    "df['Other'] = (df['Current receipts'] - df['Taxes'])\n",
    "df['Transfers and Subsidies'] = (df[['Current transfer payments', 'Subsidies']]\n",
    "                                ).sum(axis=1)\n",
    "\n",
    "res = df.divide(gdp, axis=0).dropna() * 100\n",
    "ex = pd.concat([res.iloc[i] for i in [-1, -17]], axis=1).T.reset_index()\n",
    "ex.to_csv(data_dir / 'gov_overview.csv', index_label='date')\n",
    "\n",
    "# Text\n",
    "ltdt = dtxt(ex['index'][0])['qtr1']\n",
    "prdt = dtxt(ex['index'][1])['qtr1']\n",
    "ltrec = value_text(ex['Current receipts'][0], 'plain')\n",
    "prrec = value_text(ex['Current receipts'][1], 'plain')\n",
    "ltexp = value_text(ex['Current expenditures'][0], 'plain')\n",
    "prexp = value_text(ex['Current expenditures'][1], 'plain')\n",
    "\n",
    "text = (\"As an overview of the consolidated government's effect \"+\n",
    "        'on GDP, government '+\n",
    "        f'receipts are equivalent to {ltrec} of GDP in {ltdt}, '+\n",
    "        f'compared to {prrec} in {prdt}. The vast majority of '+\n",
    "        'these receipts are taxes, including social insurance '+\n",
    "        'contributions.\\n\\n Government spending is equivalent to '+\n",
    "        f'{ltexp} of GDP in the latest data and {prexp} '+\n",
    "        'in 2019. This includes consumption expenditures, which are '+\n",
    "        \"the government's operating costs, transfers and subsidies, \"+\n",
    "        'and interest payments. These are covered in more detail in '+\n",
    "        'the following subsections.')\n",
    "write_txt(text_dir / 'gov_summary.txt', text)\n",
    "print(text)"
   ]
  },
  {
   "cell_type": "code",
   "execution_count": 5,
   "metadata": {
    "ExecuteTime": {
     "end_time": "2023-10-26T12:46:02.178453Z",
     "start_time": "2023-10-26T12:46:02.161900Z"
    }
   },
   "outputs": [],
   "source": [
    "# Nodes and labels\n",
    "s1 = (['Taxes'], 'Current receipts', \n",
    "      {'Taxes': ('blue!50!cyan', 'Taxes'), \n",
    "       'Other': ('violet', 'Other')})\n",
    "s2 = (['Interest Payments', 'Transfers and Subsidies', \n",
    "      'Consumption Expenditures'], 'Current expenditures',\n",
    "      {'Interest Payments': ('orange!90!red', 'Interest'), \n",
    "       'Transfers and Subsidies': \n",
    "       ('gray', 'Transfers \\& Subsidies'),\n",
    "       'Consumption Expenditures': ('blue!60!gray', 'Operations')})\n",
    "\n",
    "for s in [s1, s2]:\n",
    "    node = []\n",
    "    n = s[1][8:11]\n",
    "    for i in [0, 1]:\n",
    "        # Date node\n",
    "        dn = (f\"\\\\node[below, align=center] at (axis cs: {i},0) {{\"+\n",
    "              f\"\\\\scriptsize \\color{{black!80}} {dtxt(ex['index'][i])['qtr3']} \"+\n",
    "              \"\\\\\\\\[-0.22em] \\\\scriptsize \\color{black!80} \"+\n",
    "              f\"{dtxt(ex['index'][i])['year']}}};\")\n",
    "        node.append(dn)\n",
    "        cs = ex[s[2].keys()].cumsum(axis=1) - (ex[s[2].keys()] / 2)\n",
    "        for c in s[2].keys():\n",
    "            col = 'black!90' if c == 'Transfers and Subsidies' else 'white'\n",
    "            v = ex[c][i]\n",
    "            hv = cs[c][i]\n",
    "            tv = f'{v:.1f}'\n",
    "            # Value label node\n",
    "            lnode = (f'\\\\node[align=center] at (axis cs: {i},{hv}) '+\n",
    "                    f'{{\\scriptsize \\color{{{col}}} {tv}}};')\n",
    "            if c != 'Other':\n",
    "                node.append(lnode)\n",
    "            if i == 0:\n",
    "                # Name label node\n",
    "                nnode = (f'\\\\node[left, align=right, xshift=-9pt, text width=42pt] '+\n",
    "                         f'at (axis cs: 0,{hv}) '+\n",
    "                        f'{{\\\\footnotesize \\color{{{s[2][c][0]}}} {s[2][c][1]}}};')\n",
    "                node.append(nnode)\n",
    "        tnv = ex[s[1]][i]\n",
    "        tnvt = f'{tnv:.1f}'\n",
    "        # Top label node (sum)\n",
    "        tn = (f'\\\\node[above, align=center] at (axis cs: {i},{tnv}) '+\n",
    "              f'{{\\scriptsize \\color{{black!90}} {tnvt}}};')\n",
    "        node.append(tn)\n",
    "    nodes = '\\n'.join(node)\n",
    "    write_txt(text_dir / f'gov_summary_{n}_nodes.txt', nodes)"
   ]
  },
  {
   "cell_type": "code",
   "execution_count": null,
   "metadata": {},
   "outputs": [],
   "source": []
  },
  {
   "cell_type": "code",
   "execution_count": null,
   "metadata": {},
   "outputs": [],
   "source": []
  },
  {
   "cell_type": "markdown",
   "metadata": {},
   "source": [
    "### Government Net Investment"
   ]
  },
  {
   "cell_type": "code",
   "execution_count": 88,
   "metadata": {
    "ExecuteTime": {
     "end_time": "2023-11-04T19:43:12.467204Z",
     "start_time": "2023-11-04T19:43:12.395069Z"
    }
   },
   "outputs": [
    {
     "name": "stdout",
     "output_type": "stream",
     "text": [
      "Government gross investment, less depreciation, is the government's net investment in the tangible assets that make the economy more productive. Government investment includes infrastructure, buildings, equipment, intellectual property, and other capital goods. In the latest data, covering 2023 Q3, government net investment is \\$230.7 billion. Government net investment represents 0.84 percent of GDP in 2023 Q3 (see {\\color{red}\\textbf{---}}), compared to 0.58 percent in 2022 Q3, and 0.67 percent in 2021 Q3. \n"
     ]
    }
   ],
   "source": [
    "cofc = nipa_df(retrieve_table('T11000')['Data'], ['A264RC'])['A264RC']\n",
    "ginv = nipa_df(retrieve_table('T30100')['Data'], ['A782RC'])['A782RC']\n",
    "gdp = nipa_df(retrieve_table('T10105')['Data'], ['A191RC'])['A191RC']\n",
    "\n",
    "data = (((ginv - cofc) / gdp) * 100).loc['1989':]\n",
    "data.name = 'Value'\n",
    "data.to_csv(data_dir / 'govnetinv.csv', index_label='date')\n",
    "\n",
    "color = 'red'\n",
    "node = end_node(data, color, date='q', digits=2, offset=0.35)\n",
    "write_txt(text_dir / 'govnetinv_node.txt', node)\n",
    "\n",
    "ltdt = dtxt(data.index[-1])['qtr1']\n",
    "yrdt = dtxt(data.index[-5])['qtr1']\n",
    "yr2dt = dtxt(data.index[-9])['qtr1']\n",
    "gni = f'\\${(ginv - cofc).iloc[-1] / 1_000:.1f} billion'\n",
    "gnish = f'{data.iloc[-1]:.2f} percent'\n",
    "gnishyr = f'{data.iloc[-5]:.2f} percent'\n",
    "gnishyr2 = f'{data.iloc[-9]:.2f} percent'\n",
    "\n",
    "text = (\"Government gross investment, less depreciation, is the government's \"+\n",
    "        \"net investment in the tangible assets that make the economy more \"+\n",
    "        \"productive. Government investment includes infrastructure, \"+\n",
    "        \"buildings, equipment, intellectual property, and other capital goods. \"+\n",
    "        f\"In the latest data, covering {ltdt}, government net investment is \"+\n",
    "        f\"{gni}. Government net investment represents {gnish} \"+\n",
    "        f\"of GDP in {ltdt} {c_line(color)}, compared \"+\n",
    "        f\"to {gnishyr} in {yrdt}, and {gnishyr2} in {yr2dt}. \")\n",
    "write_txt(text_dir / f'govnetinv.txt', text)\n",
    "print(text)"
   ]
  },
  {
   "cell_type": "code",
   "execution_count": null,
   "metadata": {},
   "outputs": [],
   "source": []
  },
  {
   "cell_type": "code",
   "execution_count": null,
   "metadata": {},
   "outputs": [],
   "source": []
  },
  {
   "cell_type": "markdown",
   "metadata": {},
   "source": [
    "### Government receipts and expenditures"
   ]
  },
  {
   "cell_type": "code",
   "execution_count": 3,
   "metadata": {
    "ExecuteTime": {
     "end_time": "2023-10-26T13:24:19.935449Z",
     "start_time": "2023-10-26T13:24:19.796570Z"
    },
    "code_folding": []
   },
   "outputs": [
    {
     "name": "stdout",
     "output_type": "stream",
     "text": [
      "Combined state and local government expenditures total \\$3.8 trillion, or 13.7 percent of GDP, in 2023 Q3. BEA has not yet released receipts data for 2023 Q3, however, in 2023 Q2, combined state and local government receipts total \\$3.6 trillion, or 13.2 percent of GDP. In 2023 Q2, the combined state and local government deficit was \\$185 billion or 0.7 percent of GDP. \n",
      "Federal government expenditures total \\$6.4 trillion, or 23.1 percent of GDP, in 2023 Q3. BEA has not yet released receipts data for 2023 Q3, however, in 2023 Q2, federal government receipts total \\$4.7 trillion, or 17.3 percent of GDP. In 2023 Q2, the federal government deficit was \\$1,661 billion or 6.1 percent of GDP. \n"
     ]
    }
   ],
   "source": [
    "gdp = nipa_df(retrieve_table('T10105')['Data'], ['A191RC'])['A191RC']\n",
    "\n",
    "d = {'slggdp': {'name': 'combined state and local government', \n",
    "                'table': 'T30300', 'series': \n",
    "                {'W024RC': 'SLG_EXP', 'W023RC': 'SLG_REC'}},\n",
    "     'fedgdp': {'name': 'federal government', \n",
    "                'table': 'T30200', 'series':\n",
    "                {'W005RC': 'FED_REC', 'W013RC': 'FED_EXP'}}}\n",
    "\n",
    "data = pd.DataFrame()\n",
    "\n",
    "ltdate = dtxt(gdp.index[-1])['qtr1']\n",
    "\n",
    "for group, details in d.items():\n",
    "    df = nipa_df(retrieve_table(details['table'])['Data'], details['series'].keys())\n",
    "    (df.div(gdp, axis=0) * 100).loc['1989':].to_csv(data_dir / f'{group}.csv', \n",
    "                                                    index_label='date', float_format='%g')\n",
    "    \n",
    "    grp = group[:3].upper()\n",
    "    df.columns = [details['series'][i] for i in df.columns]\n",
    "    bal = df[f'{grp}_REC'] - df[f'{grp}_EXP']\n",
    "    bal_lt = bal.dropna().iloc[-1]\n",
    "    bal_lt_dt = dtxt(bal.dropna().index[-1])['qtr1']\n",
    "    def_sur = 'deficit' if bal_lt < 0 else 'surplus'\n",
    "    df[f'{grp}_BAL'] = bal\n",
    "    \n",
    "    for col in df.columns:\n",
    "        data[col] = df[col]\n",
    "        data[col+'_GDP'] = df[col].div(gdp, axis=0) * 100\n",
    "        \n",
    "    bal_gdp = data[f'{grp}_BAL_GDP'].dropna().iloc[-1]\n",
    "    bal_txt = (f'In {bal_lt_dt}, the {d[group][\"name\"]} {def_sur} was '+\n",
    "               f'\\${abs(bal_lt) / 1000:,.0f} billion or {abs(bal_gdp):.1f} percent of GDP. ')\n",
    "    \n",
    "    exp_txt = (f'{d[group][\"name\"].capitalize()} expenditures total '+\n",
    "               f'\\${data[grp+\"_EXP\"].iloc[-1] / 1000000:.1f} trillion, '+\n",
    "               f'or {data[grp+\"_EXP_GDP\"].iloc[-1]:.1f} percent of GDP, in {ltdate}. ')\n",
    "    \n",
    "    if pd.isna(df[[i for i in df.columns if i[4:] == 'REC'][0]].iloc[-1]) == True:\n",
    "        rec_txt = (f'BEA has not yet released receipts data for {ltdate}, however, '+\n",
    "                   f'in {bal_lt_dt}, {d[group][\"name\"]} receipts total '+\n",
    "                   f'\\${data[grp+\"_REC\"].dropna().iloc[-1] / 1000000:.1f} trillion, '+\n",
    "                   f'or {data[grp+\"_REC_GDP\"].dropna().iloc[-1]:.1f} percent of GDP. ')\n",
    "    else:\n",
    "        rec_txt = ('Receipts for the same period total '+\n",
    "                   f'\\${data[grp+\"_REC\"].dropna().iloc[-1] / 1000000:.1f} trillion '+\n",
    "                   f'or {data[grp+\"_REC_GDP\"].dropna().iloc[-1]:.1f} percent of GDP. ')\n",
    "    \n",
    "    text = exp_txt + rec_txt + bal_txt\n",
    "    write_txt(text_dir / f'{group}.txt', text)\n",
    "    print(text)"
   ]
  },
  {
   "cell_type": "code",
   "execution_count": 5,
   "metadata": {
    "ExecuteTime": {
     "end_time": "2023-10-26T13:25:41.516357Z",
     "start_time": "2023-10-26T13:25:41.490891Z"
    }
   },
   "outputs": [],
   "source": [
    "d = {'SLG_EXP_GDP': '\\hspace{3mm} Expenditures ',\n",
    "     'SLG_REC_GDP': '\\hspace{3mm} Receipts ',\n",
    "     'SLG_BAL_GDP': '\\hspace{3mm} Surplus (+) / Deficit (-) ',\n",
    "     'FED_EXP_GDP': '\\hspace{3mm} Expenditures',\n",
    "     'FED_REC_GDP': '\\hspace{3mm} Receipts',\n",
    "     'FED_BAL_GDP': '\\hspace{3mm} Surplus (+) / Deficit (-)'}\n",
    "\n",
    "cats = {'FED': ' \\ \\\\textbf{Federal Government}', \n",
    "        'SLG': ' \\ \\\\textbf{State \\& Local Government}'}\n",
    "final = pd.DataFrame()\n",
    "for cat, name in cats.items():\n",
    "    cols = [i for i in data.columns \n",
    "            if i.endswith('GDP') & i.startswith(cat)]\n",
    "    tmp = data[cols]\n",
    "    table = pd.concat([tmp.iloc[-3:].iloc[::-1].T, \n",
    "                       tmp.iloc[-5].T, \n",
    "                       tmp.iloc[-9].T, \n",
    "                       tmp.iloc[-17].T], axis=1)\n",
    "    table.columns = [dtxt(i)['qtr4'] for i in table.columns]\n",
    "    for i in [16, 40, 120]:\n",
    "        table[f'{i/4:.0f}-year'] = tmp.iloc[-i:].mean()\n",
    "    table = table.applymap('{:.1f}'.format).sort_index(ascending=False)\n",
    "    blank = pd.Series(index=table.columns, dtype=float)\n",
    "    blank['index'] = name\n",
    "    table = table.reset_index()\n",
    "    table.index = table.index + 1\n",
    "    table.loc[0] = blank\n",
    "    table = table.sort_index().set_index('index').rename(d)\n",
    "    table.index.name = ''\n",
    "    final = pd.concat([final, table]).replace('nan', '--')\n",
    "final.to_csv(data_dir / 'gov_rec_exp_bal.tex', sep='&', \n",
    "             lineterminator='\\\\\\ ', quotechar=' ')"
   ]
  },
  {
   "cell_type": "code",
   "execution_count": null,
   "metadata": {},
   "outputs": [],
   "source": []
  },
  {
   "cell_type": "code",
   "execution_count": 51,
   "metadata": {
    "ExecuteTime": {
     "end_time": "2023-10-13T21:34:53.215502Z",
     "start_time": "2023-10-13T21:34:53.206694Z"
    }
   },
   "outputs": [],
   "source": [
    "#data['FED_BAL_GDP'].iloc[-13:].plot(kind='bar')"
   ]
  },
  {
   "cell_type": "markdown",
   "metadata": {},
   "source": [
    "### Federal Government Current Tax Receipts"
   ]
  },
  {
   "cell_type": "code",
   "execution_count": 6,
   "metadata": {
    "ExecuteTime": {
     "end_time": "2023-10-26T12:48:47.332009Z",
     "start_time": "2023-10-26T12:48:47.231839Z"
    }
   },
   "outputs": [
    {
     "name": "stdout",
     "output_type": "stream",
     "text": [
      "Taxes and social insurance contributions are the main federal government receipts, and total \\$1.8 trillion in 2023 Q3, equivalent to 16.9 percent of GDP. \n",
      "\n",
      "\n",
      "As of 2023 Q3, federal personal current tax receipts are equivalent of eight percent of GDP (see {\\color{green!50!black}\\textbf{---}}). Some volatility in these receipts comes from swings in yearly capital gains. Since 1989, these tax receipts average 7.9 percent of GDP. \n",
      "\n",
      "Social insurance contributions are relatively stable over time and comprise 6.6 percent of GDP in 2023 Q3 (see {\\color{blue!60!white}\\textbf{---}}), compared to an average of 6.6 percent since 1989.\n",
      "\n",
      "Corporate income tax receipts are typically two percent of GDP during economic expansions, but were cut to one percent in 2019. In 2023 Q3, these receipts are equivalent to 1.5 percent of GDP (see {\\color{purple!80!violet}\\textbf{---}}).\n",
      "\n",
      "Other tax receipts, including excise taxes and customs duties total 0.8 percent of GDP in the latest data (see {\\color{black!30!white}\\textbf{---}}).\n"
     ]
    }
   ],
   "source": [
    "# Federal \n",
    "s = {'W006RC': 'Current Tax Receipts', \n",
    "     'A074RC': 'Personal Current Taxes',\n",
    "     'B075RC': 'Taxes on Corporate Income', \n",
    "     'W780RC': 'Social Insurance Contributions'}\n",
    "other = lambda x: x.W006RC - x.A074RC - x.B075RC\n",
    "data = nipa_df(retrieve_table('T30200')['Data'], \n",
    "               s.keys()).assign(Other = other)\n",
    "\n",
    "gdp = nipa_df(retrieve_table('T10105')['Data'], ['A191RC'])['A191RC']\n",
    "sh = (data.divide(gdp, axis=0) * 100).dropna()\n",
    "sh.loc['1989':].to_csv(data_dir / 'fed_gov_rec_type.csv', \n",
    "                       index_label='date')\n",
    "\n",
    "# end nodes\n",
    "srs = {'A074RC': 'green!50!black', 'B075RC': 'purple!80!violet',\n",
    "       'W780RC': 'blue!60!white', 'Other': 'black!30!white'}\n",
    "\n",
    "# date on max value\n",
    "mon = {k: None for k, v in srs.items()}\n",
    "mon[sh[srs.keys()].iloc[-1].idxmax()] = 'q'\n",
    "       \n",
    "nodes = '\\n'.join([end_node(sh[n], col, date=mon[n]) \n",
    "                   for n, col in srs.items()])\n",
    "write_txt(text_dir / 'fed_gov_rec_type_nodes.txt', nodes)\n",
    "\n",
    "# Text overview\n",
    "ltdt = dtxt(data.index[-1])['qtr1']\n",
    "taxsrs = ['W006RC', 'W780RC']\n",
    "taxval = data[taxsrs].iloc[-1].sum() / 1_000_000\n",
    "taxsh = value_text(sh[taxsrs].iloc[-1].sum(), 'plain')\n",
    "text = ('Taxes and social insurance contributions are the main '+\n",
    "        f'federal government receipts, and total \\${taxval:.1f} '+\n",
    "        f'trillion in {ltdt}, equivalent to {taxsh} of GDP.')\n",
    "write_txt(text_dir / 'fed_gov_rec_overview.txt', text)\n",
    "print(text, '\\n\\n')\n",
    "\n",
    "cl = {n: c_line(color) for n, color in srs.items()}\n",
    "pctsh = value_text(sh['A074RC'].iloc[-1], 'plain')\n",
    "pctlg = value_text(sh['A074RC'].mean(), 'plain')\n",
    "sish = value_text(sh['W780RC'].iloc[-1], 'plain')\n",
    "silg = value_text(sh['W780RC'].mean(), 'plain')\n",
    "ci19 = value_text(sh.loc['2019', 'B075RC'].mean(), 'plain')\n",
    "cish = value_text(sh['B075RC'].iloc[-1], 'plain')\n",
    "othsh = value_text(sh['Other'].iloc[-1], 'plain')\n",
    "# Text categories\n",
    "text = (f'As of {ltdt}, federal personal current tax receipts '+\n",
    "        f'are equivalent of {pctsh} of GDP {cl[\"A074RC\"]}. '+\n",
    "        'Some volatility in these receipts comes from swings '+\n",
    "        'in yearly capital gains. Since 1989, these tax receipts '+\n",
    "        f'average {pctlg} of GDP. \\n\\nSocial insurance '+\n",
    "        'contributions are relatively stable over time and comprise '+\n",
    "        f'{sish} of GDP in {ltdt} {cl[\"W780RC\"]}, compared '+\n",
    "        f'to an average of {silg} since 1989.\\n\\n'+\n",
    "        'Corporate income tax receipts are typically two percent of '+\n",
    "        'GDP during economic expansions, but were cut to '+\n",
    "        f'{ci19} in 2019. In {ltdt}, these receipts '+\n",
    "        f'are equivalent to {cish} of GDP {cl[\"B075RC\"]}.\\n\\n'+\n",
    "        'Other tax receipts, including excise taxes and customs duties '+\n",
    "        f'total {othsh} of GDP in the latest data {cl[\"Other\"]}.')\n",
    "write_txt(text_dir / 'fed_gov_rec_cats.txt', text)\n",
    "print(text)"
   ]
  },
  {
   "cell_type": "code",
   "execution_count": null,
   "metadata": {},
   "outputs": [],
   "source": []
  },
  {
   "cell_type": "code",
   "execution_count": null,
   "metadata": {},
   "outputs": [],
   "source": []
  },
  {
   "cell_type": "markdown",
   "metadata": {},
   "source": [
    "### State & Local Government Current Tax Receipts"
   ]
  },
  {
   "cell_type": "code",
   "execution_count": 90,
   "metadata": {
    "ExecuteTime": {
     "end_time": "2023-11-04T19:47:29.681261Z",
     "start_time": "2023-11-04T19:47:29.538577Z"
    }
   },
   "outputs": [],
   "source": [
    "# SLG\n",
    "s = {'W023RC': 'Current Receipts', \n",
    "     'B089RC': 'Federal Transfers',\n",
    "     'W070RC': 'Current Tax Receipts', \n",
    "     'W071RC': 'Personal Current Taxes',\n",
    "     'B245RC': 'Income Taxes',\n",
    "     'B248RC': 'Sales Taxes', \n",
    "     'LA000355': 'Property Taxes'}\n",
    "other = lambda x: x.W023RC - x.B089RC - x.W070RC\n",
    "data = nipa_df(retrieve_table('T30300')['Data'], s.keys()).assign(Other = other)\n",
    "\n",
    "gdp = nipa_df(retrieve_table('T10105')['Data'], ['A191RC'])['A191RC']\n",
    "sh = (data.divide(gdp, axis=0) * 100).dropna()\n",
    "sh.loc['1989':].to_csv(data_dir / 'slg_gov_rec_type.csv', index_label='date')\n",
    "\n",
    "# end nodes\n",
    "srs = {'W070RC': 'blue!60!black', 'B089RC': 'orange!90!red',\n",
    "       'Other': 'black!30!white'}\n",
    "\n",
    "# date on max value\n",
    "mon = {k: None for k, v in srs.items()}\n",
    "mon[sh[srs.keys()].iloc[-1].idxmax()] = 'q'\n",
    "       \n",
    "nodes = '\\n'.join([end_node(sh[n], col, date=mon[n]) \n",
    "                   for n, col in srs.items()])\n",
    "write_txt(text_dir / 'slg_gov_rec_type_nodes.txt', nodes)\n",
    "\n",
    "# Nodes for small plots\n",
    "cols = {'B245RC': 'blue!90!black', \n",
    "        'B248RC': 'blue!70!cyan', \n",
    "        'LA000355': 'cyan!80!white'}\n",
    "\n",
    "for n, col in cols.items():\n",
    "    write_txt(text_dir / f'slg_{n}_node.txt', end_node(sh[n], col))"
   ]
  },
  {
   "cell_type": "code",
   "execution_count": 96,
   "metadata": {
    "ExecuteTime": {
     "end_time": "2023-11-04T19:50:50.788686Z",
     "start_time": "2023-11-04T19:50:50.777772Z"
    }
   },
   "outputs": [
    {
     "name": "stdout",
     "output_type": "stream",
     "text": [
      "In 2023 Q2, combined state and local government tax receipts total 8.6 percent of GDP (see {\\color{blue!60!black}\\textbf{---}}), following 9.4 percent of GDP one year prior. Since 2019, these tax receipts decreased by 0.4 percent of GDP. State and local government income tax receipts decreased by 0.3 percent of GDP over the same period.\n",
      "\n",
      "Federal government transfers to state and local governments total 3.6 percent of GDP in 2023 Q2 (see {\\color{orange!90!red}\\textbf{---}}), and 3.8 percent one year prior. These transfers peaked during COVID-19 relief efforts, but have been climbing over time, from 1.6 percent of GDP in 1989. Other receipts are equivalent to 1.1 percent of GDP in 2023 Q2 (see {\\color{black!30!white}\\textbf{---}}). \n"
     ]
    }
   ],
   "source": [
    "# Text\n",
    "ltdt = dtxt(sh.index[-1])['qtr1']\n",
    "pryr = dtxt(sh.index[-5])['qtr1']\n",
    "ltval = value_text(sh.W070RC.iloc[-1], 'plain')\n",
    "prval = value_text(sh.W070RC.iloc[-5], 'plain')\n",
    "fedsh = value_text(sh.B089RC.iloc[-1], 'plain')\n",
    "fedpy = value_text(sh.B089RC.iloc[-5], 'plain')\n",
    "fed89 = value_text(sh.loc['1989', 'B089RC'].mean(), 'plain')\n",
    "othsh = value_text(sh.Other.iloc[-1], 'plain')\n",
    "ch19 = value_text(sh.W070RC.iloc[-1] - \n",
    "                  sh.loc['2019', 'W070RC'].mean(), 'increase_by')\n",
    "itch19 = value_text(sh.B245RC.iloc[-1] - \n",
    "                    sh.loc['2019', 'B245RC'].mean(), 'increase_by')\n",
    "cl = {n: c_line(color) for n, color in {**cols, **srs}.items()}\n",
    "text = (f'In {ltdt}, combined state and local government tax receipts '+\n",
    "        f'total {ltval} of GDP {cl[\"W070RC\"]}, following '+\n",
    "        f'{prval} of GDP one year prior. Since 2019, these tax receipts '+\n",
    "        f'{ch19} of GDP. State and local government income tax '+\n",
    "        f'receipts {itch19} of GDP over the same period.\\n\\n'+\n",
    "        'Federal government transfers to state and local governments total '+\n",
    "        f'{fedsh} of GDP in {ltdt} {cl[\"B089RC\"]}, and {fedpy} one year prior. '+\n",
    "        'These transfers peaked during COVID-19 relief efforts, but have been '+\n",
    "        f'climbing over time, from {fed89} of GDP in 1989. '+\n",
    "        f'Other receipts are equivalent to {othsh} of GDP in {ltdt} {cl[\"Other\"]}. ')\n",
    "write_txt(text_dir / 'slg_gov_rec_cats.txt', text)\n",
    "print(text)"
   ]
  },
  {
   "cell_type": "code",
   "execution_count": null,
   "metadata": {},
   "outputs": [],
   "source": []
  },
  {
   "cell_type": "code",
   "execution_count": null,
   "metadata": {},
   "outputs": [],
   "source": []
  },
  {
   "cell_type": "markdown",
   "metadata": {},
   "source": [
    "### Government Receipts Overview"
   ]
  },
  {
   "cell_type": "code",
   "execution_count": 97,
   "metadata": {
    "ExecuteTime": {
     "end_time": "2023-11-04T19:52:03.452033Z",
     "start_time": "2023-11-04T19:52:03.369214Z"
    }
   },
   "outputs": [
    {
     "name": "stdout",
     "output_type": "stream",
     "text": [
      "Government receipts total \\$7.3 trillion in 2023 Q2, representing 27.0 percent of GDP (see {\\color{cyan!65!white}\\textbf{---}}). Taxes and social insurance contributions comprise 94.8 percent of receipts and are equivalent to 25.6 percent of GDP in 2023 Q2 (see {\\color{blue!50!violet}\\textbf{---}}). \n"
     ]
    }
   ],
   "source": [
    "s = ['W021RC', 'W054RC', 'W782RC']\n",
    "taxsi = lambda x: x.W054RC + x.W782RC\n",
    "data = nipa_df(retrieve_table('T30100')['Data'], s).assign(TAXSI = taxsi).dropna()\n",
    "\n",
    "gdp = nipa_df(retrieve_table('T10105')['Data'], ['A191RC'])['A191RC']\n",
    "sh = (data.divide(gdp, axis=0) * 100).dropna()\n",
    "sh.loc['1989':].to_csv(data_dir / 'gov_rec_overview.csv', index_label='date')\n",
    "\n",
    "# end nodes\n",
    "srs = {'W021RC': 'cyan!65!white', 'TAXSI': 'blue!50!violet'}\n",
    "\n",
    "# date on max value\n",
    "maxkey = sh[srs.keys()].iloc[-1].idxmax()\n",
    "mon = {k: None for k, v in srs.items()}\n",
    "mon[maxkey] = 'q'\n",
    "off = {k: 0 for k, v in srs.items()}\n",
    "off[maxkey] = 0.35\n",
    "       \n",
    "nodes = '\\n'.join([end_node(sh[n], col, date=mon[n], offset=off[n]) \n",
    "                   for n, col in srs.items()])\n",
    "write_txt(text_dir / 'gov_rec_overview_nodes.txt', nodes)\n",
    "\n",
    "# Text\n",
    "ltdt = dtxt(sh.index[-1])['qtr1']\n",
    "rec_tot = data.W021RC.iloc[-1] / 1_000_000\n",
    "cl = {n: c_line(color) for n, color in srs.items()}\n",
    "totsh = value_text(sh.W021RC.iloc[-1], 'plain')\n",
    "taxsh = value_text(sh.TAXSI.iloc[-1], 'plain')\n",
    "taxcomp = value_text((data.TAXSI.iloc[-1] / \n",
    "                      data.W021RC.iloc[-1]) * 100, 'plain')\n",
    "\n",
    "text = (f'Government receipts total \\${rec_tot:.1f} trillion in {ltdt}, '+\n",
    "        f'representing {totsh} of GDP {cl[\"W021RC\"]}. Taxes and social '+\n",
    "        f'insurance contributions comprise {taxcomp} of receipts and are '+\n",
    "        f'equivalent to {taxsh} of GDP in {ltdt} {cl[\"TAXSI\"]}. ')\n",
    "write_txt(text_dir / 'gov_rec_overview.txt', text)\n",
    "print(text)"
   ]
  },
  {
   "cell_type": "code",
   "execution_count": null,
   "metadata": {},
   "outputs": [],
   "source": []
  },
  {
   "cell_type": "code",
   "execution_count": null,
   "metadata": {},
   "outputs": [],
   "source": []
  },
  {
   "cell_type": "code",
   "execution_count": 56,
   "metadata": {
    "ExecuteTime": {
     "end_time": "2023-10-13T21:34:53.544567Z",
     "start_time": "2023-10-13T21:34:53.542371Z"
    }
   },
   "outputs": [],
   "source": [
    "#nipa_series_codes(retrieve_table('T30300'))"
   ]
  },
  {
   "cell_type": "markdown",
   "metadata": {},
   "source": [
    "### Government Spending Overview"
   ]
  },
  {
   "cell_type": "code",
   "execution_count": 101,
   "metadata": {
    "ExecuteTime": {
     "end_time": "2023-11-04T19:53:32.313903Z",
     "start_time": "2023-11-04T19:53:32.189303Z"
    }
   },
   "outputs": [
    {
     "name": "stdout",
     "output_type": "stream",
     "text": [
      "As of 2023 Q3, government current expenditures total \\$9.3 trillion, which is 33.5 percent of GDP (see {\\color{black!80!white}\\textbf{---}}). One year prior, in 2022 Q3, government current expenditures total 33.6 percent of GDP. Government spending peaked during the COVID-19 pandemic, averaging 40.9 percent of GDP from 2020 to 2021. Since 1989, government spending averages 33.3 percent of GDP.\n"
     ]
    }
   ],
   "source": [
    "srs = {'T30100': {'W022RC': 'Current Expenditures'},\n",
    "       'T30200': {'W013RC': 'Federal Current Expenditures',\n",
    "                  'B089RC': 'SLG Grants'},\n",
    "       'T30300': {'W024RC': 'SLG Current Expenditures'}}\n",
    "\n",
    "df = pd.concat([nipa_df(retrieve_table(t)['Data'], d.keys()).rename(d, axis=1) \n",
    "               for (t, d) in srs.items()], axis=1)\n",
    "df['Federal'] = df['Federal Current Expenditures'] - df['SLG Grants']\n",
    "df['SLG'] = df['SLG Current Expenditures'] - df['SLG Grants']\n",
    "gdp = nipa_df(retrieve_table('T10105')['Data'], ['A191RC'])['A191RC']\n",
    "sh = (df.divide(gdp, axis=0) * 100)\n",
    "sh.loc['1989':].to_csv(data_dir / 'gov_exp_overview.csv', \n",
    "                       index_label='date')\n",
    "\n",
    "# End nodes\n",
    "color = 'black!80!white'\n",
    "node = end_node(sh['Current Expenditures'], color, date='q', offset=0.35)\n",
    "write_txt(text_dir / 'gov_exp_tot_node.txt', node)\n",
    "\n",
    "# Nodes for latest values\n",
    "cols = ['Federal', 'SLG Grants', 'SLG']\n",
    "sdf = sh[cols].iloc[-1]\n",
    "height = ((sdf.cumsum() - (sdf / 2) + 2)).to_dict()\n",
    "val = sdf.to_dict()\n",
    "dtp = dtxt(sh.index[-1] + pd.DateOffset(months=2))['datetime']\n",
    "nodes = [f'\\\\absnode{{{{{dtp}}}}}{{{height[i]}}}{{\\scriptsize {val[i]:.1f}}}' \n",
    "         for i in cols]\n",
    "nodetext = '\\n'.join(nodes)\n",
    "write_txt(text_dir / 'gov_exp_overview_nodes.txt', nodetext)\n",
    "\n",
    "# Summary Text main\n",
    "s = 'Current Expenditures'\n",
    "ltdt = dtxt(sh.index[-1])['qtr1']\n",
    "pydt = dtxt(sh.index[-5])['qtr1']\n",
    "totval = df[s].iloc[-1] / 1_000_000\n",
    "totsh = value_text(sh[s].iloc[-1], 'plain')\n",
    "totshpy = value_text(sh[s].iloc[-5], 'plain')\n",
    "totshcov = value_text(sh.loc['2020': '2021', s].mean(), 'plain')\n",
    "totshlt = value_text(sh.loc['1989':, s].mean(), 'plain')\n",
    "\n",
    "cl = c_line('black!80!white')\n",
    "\n",
    "text = (f'As of {ltdt}, government current expenditures total \\${totval:.1f} '+\n",
    "        f'trillion, which is {totsh} of GDP {cl}. One year prior, '+\n",
    "        f'in {pydt}, government current expenditures total {totshpy} '+\n",
    "        'of GDP. Government spending peaked during the COVID-19 pandemic, averaging '+\n",
    "        f'{totshcov} of GDP from 2020 to 2021. Since 1989, government spending '+\n",
    "        f'averages {totshlt} of GDP.')\n",
    "write_txt(text_dir / 'gov_exp_overview.txt', text)\n",
    "print(text)"
   ]
  },
  {
   "cell_type": "code",
   "execution_count": 102,
   "metadata": {
    "ExecuteTime": {
     "end_time": "2023-11-04T19:53:33.096082Z",
     "start_time": "2023-11-04T19:53:33.092857Z"
    }
   },
   "outputs": [],
   "source": [
    "#nipa_series_codes(retrieve_table('T30100'))"
   ]
  },
  {
   "cell_type": "code",
   "execution_count": 103,
   "metadata": {
    "ExecuteTime": {
     "end_time": "2023-11-04T19:53:33.757351Z",
     "start_time": "2023-11-04T19:53:33.651630Z"
    }
   },
   "outputs": [],
   "source": [
    "# Table \n",
    "s = {'W022RC': f'Current Expenditures {c_line(\"black!80!white\", see=False)}',\n",
    "     'A955RC': '\\hspace{2mm}Consumption Expenditures',\n",
    "     'A084RC': '\\hspace{2mm}Current Transfer Payments',\n",
    "     'A180RC': '\\hspace{2mm}Interest Payments',\n",
    "     'A107RC': '\\hspace{2mm}Subsidies'}\n",
    "df = nipa_df(retrieve_table('T30100')['Data'], s)\n",
    "gdp = nipa_df(retrieve_table('T10105')['Data'], ['A191RC'])['A191RC']\n",
    "res = (df.divide(gdp, axis=0) * 100)\n",
    "data = res.iloc[-3:].iloc[::-1].T\n",
    "data[res.index[-5]] = res.iloc[-5]\n",
    "data[res.index[-9]] = res.iloc[-9]\n",
    "cols = [f' {q.year} Q{q.quarter}' \n",
    "        if i == 0 else f'`{str(q.year)[2:]} Q{q.quarter}'\n",
    "        for i, q in enumerate(data.columns)]\n",
    "\n",
    "data.columns = cols\n",
    "data['1-year'] = res.rolling(4).mean().iloc[-1]\n",
    "data['10-year'] = res.rolling(40).mean().iloc[-1]\n",
    "data['30-year'] = res.rolling(120).mean().iloc[-1]\n",
    "data.index = data.index.map(s)\n",
    "data = data.applymap('{:.1f}'.format)\n",
    "data.to_csv(data_dir / 'gov_exp.tex', sep='&', lineterminator='\\\\\\ ', quotechar=' ')"
   ]
  },
  {
   "cell_type": "code",
   "execution_count": 105,
   "metadata": {
    "ExecuteTime": {
     "end_time": "2023-11-04T19:54:00.203363Z",
     "start_time": "2023-11-04T19:54:00.191323Z"
    }
   },
   "outputs": [
    {
     "name": "stdout",
     "output_type": "stream",
     "text": [
      "By level of government, federal current expenditures are equivalent to 19.8 percent of GDP in 2023 Q3, and 19.7 percent in 2022 Q3 (see\\cbox{blue!65!gray!90!white}). Federal government transfers to state and local governments comprise 3.3 percent of GDP in the latest data (see\\cbox{cyan!40!white}). State and local government current expenditures, excluding transfers from the federal government, are equivalent to 10.4 percent of GDP in 2023 Q3 (see\\cbox{red!20!purple!70!white}). \n",
      "\n",
      "By category, consumption expenditures represent 13.7 percent of GDP in 2023 Q3, and 13.8 percent of GDP one year prior. Over the past 30 years, consumption expenditures average 14.8 percent of GDP. Current transfer payments, which are largely government social benefits, total 14.9 percent of GDP in 2023 Q3, compared to 15.5 percent one year prior, and a long-term average of 13.5 percent.\n",
      "\n",
      "Consolidated government interest payments are 4.6 percent of GDP in the latest data, compared to 3.8 percent one year prior. Interest payments comprise 4.4 percent over the past 30 years, on average. Government subsidies to businesses total 0.4 percent of GDP in 2023 Q3 and 0.5 percent in 2022 Q3. \n"
     ]
    }
   ],
   "source": [
    "# text\n",
    "ltdt = dtxt(res.index[-1])['qtr1']\n",
    "pydt = dtxt(res.index[-5])['qtr1']\n",
    "fedsh = value_text(sh.Federal.iloc[-1], 'plain')\n",
    "fedpy = value_text(sh.Federal.iloc[-5], 'plain')\n",
    "fedtr = value_text(sh['SLG Grants'].iloc[-1], 'plain')\n",
    "slgsh = value_text(sh.SLG.iloc[-1], 'plain')\n",
    "cbfed = c_box('blue!65!gray!90!white')\n",
    "cbtr = c_box('cyan!40!white')\n",
    "cbslg = c_box('red!20!purple!70!white')\n",
    "consh = value_text(res.A955RC.iloc[-1], 'plain')\n",
    "conpy = value_text(res.A955RC.iloc[-5], 'plain')\n",
    "conlg = value_text(res.A955RC.iloc[-121:].mean(), 'plain')\n",
    "trsh = value_text(res.A084RC.iloc[-1], 'plain')\n",
    "trpy = value_text(res.A084RC.iloc[-5], 'plain')\n",
    "trlg = value_text(res.A084RC.iloc[-121:].mean(), 'plain')\n",
    "intsh = value_text(res.A180RC.iloc[-1], 'plain')\n",
    "intpy = value_text(res.A180RC.iloc[-5], 'plain')\n",
    "intlg = value_text(res.A180RC.iloc[-121:].mean(), 'plain')\n",
    "subsh = value_text(res.A107RC.iloc[-1], 'plain')\n",
    "subpy = value_text(res.A107RC.iloc[-5], 'plain')\n",
    "text = ('By level of government, federal current expenditures are equivalent '+\n",
    "        f'to {fedsh} of GDP in {ltdt}, and {fedpy} in '+\n",
    "        f'{pydt} {cbfed}. Federal government transfers to state '+\n",
    "        f'and local governments comprise {fedtr} of GDP in the '+\n",
    "        f'latest data {cbtr}. State and local government current '+\n",
    "        'expenditures, excluding transfers from the federal government, '+\n",
    "        f'are equivalent to {slgsh} of GDP in {ltdt} {cbslg}. \\n\\nBy '+\n",
    "        'category, consumption expenditures represent '+\n",
    "        f'{consh} of GDP in {ltdt}, and {conpy} '+\n",
    "        'of GDP one year prior. Over the past 30 years, consumption '+\n",
    "        f'expenditures average {conlg} of GDP. Current '+\n",
    "        'transfer payments, which are largely government social benefits, '+\n",
    "        f'total {trsh} of GDP in {ltdt}, compared to '+\n",
    "        f'{trpy} one year prior, and a long-term average '+\n",
    "        f'of {trlg}.\\n\\nConsolidated government interest '+\n",
    "        f'payments are {intsh} of GDP in the '+\n",
    "        f'latest data, compared to {intpy} one year prior. '+\n",
    "        f'Interest payments comprise {intlg} over the past '+\n",
    "        '30 years, on average. Government subsidies to businesses total '+\n",
    "        f'{subsh} of GDP in {ltdt} and {subpy} in '+\n",
    "        f'{pydt}. ')\n",
    "write_txt(text_dir / 'gov_exp_overview2.txt', text)\n",
    "print(text)"
   ]
  },
  {
   "cell_type": "code",
   "execution_count": null,
   "metadata": {},
   "outputs": [],
   "source": []
  },
  {
   "cell_type": "code",
   "execution_count": null,
   "metadata": {},
   "outputs": [],
   "source": []
  },
  {
   "cell_type": "markdown",
   "metadata": {},
   "source": [
    "### Personal Income\n",
    "\n",
    "See also table in generate_table notebook"
   ]
  },
  {
   "cell_type": "code",
   "execution_count": 58,
   "metadata": {
    "ExecuteTime": {
     "end_time": "2023-10-26T12:31:55.282575Z",
     "start_time": "2023-10-26T12:31:55.155005Z"
    }
   },
   "outputs": [
    {
     "name": "stdout",
     "output_type": "stream",
     "text": [
      "Aggregate real personal income increased 1.36 percent over the year ending 2023 Q3. Labor income contributed 1.25 percentage points to overall growth, capital income contributed 0.35 percentage point, and net government benefits subtracted 0.25 percentage point. \n"
     ]
    }
   ],
   "source": [
    "# deflator\n",
    "d = nipa_df(retrieve_table('T20304')['Data'], ['DPCERG'])['DPCERG']\n",
    "deflator = d.iloc[-1] / d\n",
    "\n",
    "# collect and combine series\n",
    "s = ['A065RC', 'A033RC', 'A041RC', 'A048RC', 'W210RC', 'A577RC', 'A061RC']\n",
    "df = (nipa_df(retrieve_table('T20100')['Data'], s)\n",
    "      .assign(CAPITAL = lambda x: x['A041RC'] + x['A048RC'] + x['W210RC'],\n",
    "              TRANSFER = lambda x: x['A577RC'] - x['A061RC'])\n",
    "      .drop(['A061RC', 'A041RC', 'A048RC', 'W210RC', 'A577RC'], axis=1)\n",
    "      .multiply(deflator, axis=0))\n",
    "growth_contrib_ann(df, 'A065RC').loc['1989':].to_csv(data_dir / 'pi.csv', index_label='date')\n",
    "\n",
    "data = growth_contrib_ann(df, 'A065RC').rename({'A065RC': 'TOTAL', 'A033RC': 'LABOR'}, axis=1)\n",
    "\n",
    "ltdate = dtxt(data.index[-1])['qtr1']\n",
    "tot = value_text(data['TOTAL'].iloc[-1], digits=2)\n",
    "slist = ['LABOR', 'CAPITAL', 'TRANSFER']\n",
    "style = {k: 'contribution' for k in slist}\n",
    "style['LABOR'] = 'contribution_to'\n",
    "d = {}\n",
    "for i in slist:\n",
    "    d[i] = value_text(data[i].iloc[-1], style=style[i], \n",
    "                      ptype='pp', digits=2)\n",
    "text = (f'Aggregate real personal income {tot} over the year ending {ltdate}. '+\n",
    "        f'Labor income {d[\"LABOR\"]} overall growth, capital '+\n",
    "        f'income {d[\"CAPITAL\"]}, and net government benefits {d[\"TRANSFER\"]}. ')\n",
    "write_txt(text_dir / 'pi.txt', text)\n",
    "print(text)"
   ]
  },
  {
   "cell_type": "code",
   "execution_count": null,
   "metadata": {},
   "outputs": [],
   "source": []
  },
  {
   "cell_type": "code",
   "execution_count": null,
   "metadata": {},
   "outputs": [],
   "source": []
  },
  {
   "cell_type": "markdown",
   "metadata": {},
   "source": [
    "### Personal Income Table"
   ]
  },
  {
   "cell_type": "code",
   "execution_count": null,
   "metadata": {},
   "outputs": [],
   "source": [
    "series = {\n",
    " 'A065RC': '\\hspace{0.5mm}Personal Income (Pre-Tax Income)',\n",
    " 'A033RC': '\\hspace{-2mm}\\cbox{green!55!blue!72!black}Labor',\n",
    " 'A034RC': '\\hspace{3mm} Wages \\& Salaries',\n",
    " 'A038RC': '\\hspace{3mm} Supplements to Wages \\& Salaries',\n",
    " 'CAPITAL': '\\hspace{-2mm}\\cbox{yellow!85!orange!88!white}Capital',\n",
    " 'A041RC': \"\\hspace{3mm} Proprietors' Income\",\n",
    " 'A048RC': '\\hspace{3mm} Rental Income',\n",
    " 'W210RC': '\\hspace{3mm} Personal Income Receipts on Assets',\n",
    " 'A064RC': '\\hspace{3mm} Personal Interest Income',\n",
    " 'B703RC': '\\hspace{3mm} Personal Dividend Income',\n",
    " 'TRANSFER': '\\hspace{-2mm}\\cbox{cyan!90!blue!90!white}Net Government Benefits',\n",
    " 'A577RC': 'Personal current transfer receipts',\n",
    " 'A063RC': '\\hspace{2mm} Government Social Benefits',\n",
    " 'W823RC': '\\hspace{3mm} Social Security',\n",
    " 'W824RC': '\\hspace{3mm} Medicare',\n",
    " 'W729RC': '\\hspace{3mm} Medicaid',\n",
    " 'W825RC': '\\hspace{3mm} Unemployment Insurance',\n",
    " 'W826RC': \"\\hspace{3mm} Veterans' Benefits\",\n",
    " 'W827RC': '\\hspace{3mm} Other',\n",
    " 'A061RC': '\\hspace{2mm} Less: Social Insurance Contributions'}\n",
    "\n",
    "# PCE price deflator\n",
    "pce = nipa_df(retrieve_table('T20304')['Data'], ['DPCERG'])['DPCERG']\n",
    "deflator = d.iloc[-1] / d\n",
    "\n",
    "# Calculate real growth\n",
    "s = [key for key, value in series.items() \n",
    "     if key not in ['CAPITAL', 'TRANSFER']]\n",
    "df = (nipa_df(retrieve_table('T20100')['Data'], s)\n",
    "      .assign(CAPITAL = lambda x: x['A041RC'] + x['A048RC'] + x['W210RC'],\n",
    "              TRANSFER = lambda x: x['A577RC'] - x['A061RC'],\n",
    "              A061RC = lambda x: - x['A061RC'])\n",
    "      .drop(['W210RC', 'A577RC'], axis=1)\n",
    "      .multiply(deflator, axis=0))\n",
    "result = growth_contrib_ann(df, 'A065RC')\n",
    "data = result.iloc[-5:].iloc[::-1].T\n",
    "data.columns = [f' {q.year} Q{q.quarter}' \n",
    "                if i == 0 else f'`{str(q.year)[2:]} Q{q.quarter}'\n",
    "                for i, q in enumerate(data.columns)]\n",
    "\n",
    "# Averages over past year, 10 years, and 30 years\n",
    "for i in 4, 40, 120:\n",
    "    data[f'{i/4}-year'] = result.rolling(i).mean().iloc[-1]\n",
    "# Save table    \n",
    "data.index = data.index.map(series)\n",
    "(data.reindex(list(series.values())).dropna().round(2).applymap('{:,.2f}'.format)\n",
    "     .to_csv(data_dir / 'pi.tex', sep='&', lineterminator='\\\\\\ ', quotechar=' '))"
   ]
  },
  {
   "cell_type": "code",
   "execution_count": null,
   "metadata": {},
   "outputs": [],
   "source": []
  },
  {
   "cell_type": "code",
   "execution_count": null,
   "metadata": {},
   "outputs": [],
   "source": []
  },
  {
   "cell_type": "markdown",
   "metadata": {
    "ExecuteTime": {
     "end_time": "2020-10-14T06:23:18.467227Z",
     "start_time": "2020-10-14T06:23:18.460090Z"
    }
   },
   "source": [
    "### Government Personal Income"
   ]
  },
  {
   "cell_type": "code",
   "execution_count": 59,
   "metadata": {
    "ExecuteTime": {
     "end_time": "2023-10-26T12:31:57.200194Z",
     "start_time": "2023-10-26T12:31:57.084743Z"
    }
   },
   "outputs": [
    {
     "name": "stdout",
     "output_type": "stream",
     "text": [
      "In 2023 Q3, government worker wages and salaries were equivalent to \\$5,203 per capita, following a price-adjusted \\$5,199 in 2019 Q4 (see {\\color{orange}\\textbf{---}}). Net government benefits were equivalent to \\$11,886 per capita in 2023 Q3, compared to \\$10,940 per capita in 2019 Q4 (see {\\color{violet}\\textbf{---}}). In 1989 Q1, net benefits were equivalent to \\$4,420 per person.  \n",
      "\n",
      " Personal current taxes and social insurance contributions total \\$13,791 per capita in 2023 Q3, \\$12,849 in 2019 Q4, and \\$8,096 in 1989 (see {\\color{cyan!80!blue}\\textbf{---}}).\n"
     ]
    }
   ],
   "source": [
    "s = ['DPCERG']\n",
    "\n",
    "d = nipa_df(retrieve_table('T20304')['Data'], s)['DPCERG']\n",
    "deflator = d.iloc[-1] / d\n",
    "\n",
    "s = ['B230RC']\n",
    "\n",
    "population = nipa_df(retrieve_table('T20100')['Data'], s)['B230RC']\n",
    "\n",
    "s = ['A063RC', 'B202RC', 'A061RC', 'W055RC']\n",
    "df = nipa_df(retrieve_table('T20100')['Data'], s)\n",
    "\n",
    "n = {'A063RC': 'Welfare',\n",
    "     'B202RC': 'WandS'}\n",
    "result = df.multiply(deflator, axis=0).divide(population, axis=0)\n",
    "result['TaxSI'] = result['A061RC'] + result['W055RC']\n",
    "result = result.drop(['A061RC', 'W055RC'], axis=1).rename(n, axis=1)\n",
    "result.loc['1989':].to_csv(data_dir / 'govpi.csv', index_label='date')\n",
    "\n",
    "ltdate = dtxt(result.index[-1])['qtr1']\n",
    "prdt = '2019-10-01'\n",
    "prdate = dtxt(pd.to_datetime(prdt))['qtr1']\n",
    "wsltval = result['WandS'].iloc[-1] * 1_000\n",
    "wsprval = result.loc[prdt, 'WandS'] * 1_000\n",
    "wltval = result['Welfare'].iloc[-1] * 1_000\n",
    "wprval = result.loc[prdt, 'Welfare'] * 1_000\n",
    "w89val = result.loc['1989-01-01', 'Welfare'] * 1_000\n",
    "tltval = result['TaxSI'].iloc[-1] * 1_000\n",
    "tprval = result.loc[prdt, 'TaxSI'] * 1_000\n",
    "t89val = result.loc['1989-01-01', 'TaxSI'] * 1_000\n",
    "\n",
    "text = (f'In {ltdate}, government worker wages and salaries '+\n",
    "        f'were equivalent to \\${wsltval:,.0f} per capita, following a '+\n",
    "        f'price-adjusted \\${wsprval:,.0f} in {prdate} '+\n",
    "        '(see {\\color{orange}\\\\textbf{---}}). Net government benefits were equivalent '+\n",
    "        f'to \\${wltval:,.0f} per capita in {ltdate}, compared to \\${wprval:,.0f} '+\n",
    "        f'per capita in {prdate} '+\n",
    "        '(see {\\color{violet}\\\\textbf{---}}). In 1989 Q1, net benefits were '+\n",
    "        f'equivalent to \\${w89val:,.0f} per person.  \\n\\n Personal current taxes '+\n",
    "        f'and social insurance contributions total \\${tltval:,.0f} per capita '+\n",
    "        f'in {ltdate}, \\${tprval:,.0f} in {prdate}, and \\${t89val:,.0f} in 1989 '+\n",
    "        '(see {\\color{cyan!80!blue}\\\\textbf{---}}).')\n",
    "write_txt(text_dir / 'govpi.txt', text)\n",
    "print(text)"
   ]
  },
  {
   "cell_type": "code",
   "execution_count": null,
   "metadata": {},
   "outputs": [],
   "source": []
  },
  {
   "cell_type": "code",
   "execution_count": null,
   "metadata": {},
   "outputs": [],
   "source": []
  },
  {
   "cell_type": "markdown",
   "metadata": {
    "ExecuteTime": {
     "end_time": "2020-10-14T15:23:11.647340Z",
     "start_time": "2020-10-14T15:23:11.645438Z"
    }
   },
   "source": [
    "### Government Consumption and Investment"
   ]
  },
  {
   "cell_type": "code",
   "execution_count": 60,
   "metadata": {
    "ExecuteTime": {
     "end_time": "2023-10-26T12:31:59.869873Z",
     "start_time": "2023-10-26T12:31:59.793769Z"
    }
   },
   "outputs": [
    {
     "name": "stdout",
     "output_type": "stream",
     "text": [
      "In 2023 Q3, federal non-defense spending and investment was \\$782.1 billion, equivalent to 2.8 percent of GDP (see {\\color{green!85!black}\\textbf{---}}), compared to 2.6 percent of GDP in 2019 Q4. Federal spending on national defense was equivalent to 3.6 percent of GDP in the latest quarter and 4.0 percent in 2019 Q4 (see {\\color{blue!60!black}\\textbf{---}}). National defense spending was 6.9 percent of GDP in 1989 Q1. \n",
      "\n",
      " In 2023 Q3, state and local government spending and investment was equivalent to 10.8 percent of GDP, compared to 11.1 percent in 2019 Q4 (see {\\color{purple!70!magenta}\\textbf{---}}).\n"
     ]
    }
   ],
   "source": [
    "s = ['A823RC', 'A829RC', 'A191RC', 'A824RC', 'A825RC']\n",
    "df = nipa_df(retrieve_table('T10105')['Data'], s).sort_index()\n",
    "result = df.drop('A191RC', axis=1).divide(df['A191RC'], axis=0) * 100\n",
    "result.loc['1989':].to_csv(data_dir / 'govci.csv', index_label='date')\n",
    "\n",
    "ltdate = dtxt(result.index[-1])['qtr1']\n",
    "prdt = pd.to_datetime('2019-10-01')\n",
    "prdate = dtxt(prdt)['qtr1']\n",
    "fndnom = df['A825RC'].iloc[-1] / 1_000\n",
    "fndlt = result['A825RC'].iloc[-1]\n",
    "fndpr = result.loc[prdt, 'A825RC']\n",
    "dlt = result['A824RC'].iloc[-1]\n",
    "dpr = result.loc[prdt, 'A824RC']\n",
    "d89 = result.loc['1989-01-01', 'A824RC']\n",
    "slt = result['A829RC'].iloc[-1]\n",
    "spr = result.loc[prdt, 'A829RC']\n",
    "\n",
    "text = (f'In {ltdate}, federal non-defense spending and investment '+\n",
    "        f'was \\${fndnom:,.1f} billion, equivalent to {fndlt:.1f} percent '+\n",
    "        'of GDP (see {\\color{green!85!black}\\\\textbf{---}}), compared '+\n",
    "        f'to {fndpr:.1f} percent of GDP in {prdate}. Federal spending '+\n",
    "        f'on national defense was equivalent to {dlt:.1f} percent of '+\n",
    "        f'GDP in the latest quarter and {dpr:.1f} percent in {prdate} '+\n",
    "        '(see {\\color{blue!60!black}\\\\textbf{---}}). National defense '\n",
    "        f'spending was {d89:.1f} percent of GDP in 1989 Q1. \\n\\n In '+\n",
    "        f'{ltdate}, state and local government spending and investment '+\n",
    "        f'was equivalent to {slt:.1f} percent of GDP, compared to '+\n",
    "        f'{spr:.1f} percent in {prdate} '+\n",
    "        '(see {\\color{purple!70!magenta}\\\\textbf{---}}).')\n",
    "write_txt(text_dir / 'govci.txt', text)\n",
    "print(text)"
   ]
  },
  {
   "cell_type": "code",
   "execution_count": null,
   "metadata": {},
   "outputs": [],
   "source": []
  },
  {
   "cell_type": "code",
   "execution_count": null,
   "metadata": {},
   "outputs": [],
   "source": []
  },
  {
   "cell_type": "markdown",
   "metadata": {},
   "source": [
    "### Consumer Spending Growth Contributions"
   ]
  },
  {
   "cell_type": "code",
   "execution_count": 14,
   "metadata": {
    "ExecuteTime": {
     "end_time": "2023-11-13T16:24:39.019665Z",
     "start_time": "2023-11-13T16:24:38.901722Z"
    }
   },
   "outputs": [],
   "source": [
    "s = 'B230RC'\n",
    "pop = nipa_df(retrieve_table('T20100')['Data'], [s])[s]\n",
    "s = 'DPCERG'\n",
    "d = nipa_df(retrieve_table('T20304')['Data'], [s])[s]\n",
    "deflator = d.iloc[-1] / d\n",
    "\n",
    "s = ['A067RC', 'A068RC', 'A071RC', 'DPCERC']\n",
    "\n",
    "df = (nipa_df(retrieve_table('T20100')['Data'], s)\n",
    "      .assign(OTHER = lambda x: -(x['A068RC'] - x['DPCERC']),\n",
    "              SAVING = lambda x: -x['A071RC'])\n",
    "      .rename({'A067RC': 'INCOME', 'DPCERC': 'SPENDING'}, axis=1)\n",
    "      .drop(['A068RC', 'A071RC'], axis=1)\n",
    "      .divide(pop, axis=0)\n",
    "      .multiply(deflator, axis=0))\n",
    "\n",
    "data = growth_contrib(df, 'SPENDING').rolling(4).mean()\n",
    "data.loc['1989':].to_csv(data_dir / 'pcedecomp.csv', index_label='date')"
   ]
  },
  {
   "cell_type": "code",
   "execution_count": 64,
   "metadata": {
    "ExecuteTime": {
     "end_time": "2023-11-13T18:25:36.262769Z",
     "start_time": "2023-11-13T18:25:36.250452Z"
    },
    "scrolled": true
   },
   "outputs": [
    {
     "name": "stdout",
     "output_type": "stream",
     "text": [
      "Since 1989, annualized real per capita consumer spending growth of 1.8 percent is explained by a 1.8 percent increase in disposable income. Saving was virtually unchanged, while increases in other outlays subtracted 0.1 percentage point per year.\n",
      "\n",
      " Spending increased at an average rate of 1.9 percent over the four quarters ending 2023 Q3. Higher income added 3.5 percentage points, increased saving subtracted 0.8 percentage point, and increases in other outlays subtracted 0.8 percentage point.\n"
     ]
    }
   ],
   "source": [
    "# Long-term text \n",
    "n = (df.index[-1] - df.index[0]).days / 365.25\n",
    "chtot = (((((df.iloc[-1] - df.iloc[0]) / df.SPENDING.iloc[0]) + 1)\n",
    "          ** (1/n)) - 1) * 100\n",
    "expch = value_text(chtot.SPENDING, 'plain')\n",
    "incch = value_text(chtot.INCOME, 'plain')\n",
    "sav = ('Reduced saving' if chtot.SAVING > 0.1 \n",
    "       else 'Increased saving' if chtot.SAVING < -0.1 \n",
    "       else 'Saving')\n",
    "savch = (value_text(chtot.SAVING, threshold=0.1) if abs(chtot.SAVING) < 0.1 \n",
    "         else value_text(chtot.SAVING, 'contribution', ptype='pp', \n",
    "                         casual=True))\n",
    "oth = ('increases in other outlays' if chtot.OTHER < -0.1 \n",
    "       else 'decreases in other outlays' if ch.OTHER > 0.1 \n",
    "       else 'other outlays')\n",
    "othch = value_text(chtot.OTHER, 'contribution', threshold=0.1, \n",
    "                   ptype='pp', obj='plural')\n",
    "\n",
    "text = ('Since 1989, annualized real per capita consumer spending '+\n",
    "        f'growth of {expch} is explained by a {incch} increase '+\n",
    "        f'in disposable income. '+\n",
    "        f'{sav} {savch}, while {oth} {othch} per year.')\n",
    "\n",
    "# Recent data text\n",
    "date = f'{data.index[-1].year} Q{data.index[-1].quarter}'\n",
    "pcetext = value_text(data['SPENDING'].iloc[-1], adj='average')\n",
    "\n",
    "slist = ['INCOME', 'SAVING', 'OTHER']\n",
    "d = {}\n",
    "for i in slist:\n",
    "    val = data[i].iloc[-1]\n",
    "    vt = value_text(data[i].iloc[-1], style='contribution', \n",
    "           ptype='pp', casual=True)\n",
    "    if f'{abs(val):.1f}' == '0.0':\n",
    "        vt = \"didn't affect the total\"\n",
    "    d[i] = vt\n",
    "pce19 = value_text(data.loc['2019', 'SPENDING'].mean(), adj='average')\n",
    "dpi19 = value_text(data.loc['2019', 'INCOME'].mean(), style='contribution', \n",
    "           ptype='pp')\n",
    "save19 = value_text(data.loc['2019', 'SAVING'].mean(), style='contribution', \n",
    "           ptype='pp')\n",
    "inc = data.INCOME.iloc[-1]\n",
    "chinc = 'Higher' if inc > 0.1 else 'Lower' if inc < -0.1 else 'Flat'\n",
    "ltsv = data['SAVING'].iloc[-1].round(2)\n",
    "svid = 'decreased' if ltsv > 0 else '' if ltsv == 0 else 'increased'\n",
    "ltot = data['OTHER'].iloc[-1].round(2)\n",
    "otid = 'decreases in' if ltsv > 0 else '' if ltsv == 0 else 'increases in'\n",
    "pcetxt = (f'{text}\\n\\n Spending {pcetext} over the '+\n",
    "          f'four quarters ending {date}. {chinc} income '+\n",
    "          f'{d[\"INCOME\"]}, {svid} saving {d[\"SAVING\"]}, and '+\n",
    "          f'{otid} other outlays {d[\"OTHER\"]}.')\n",
    "write_txt(text_dir / 'pcedecomp.txt', pcetxt)\n",
    "print(pcetxt)"
   ]
  },
  {
   "cell_type": "code",
   "execution_count": null,
   "metadata": {},
   "outputs": [],
   "source": []
  },
  {
   "cell_type": "code",
   "execution_count": null,
   "metadata": {},
   "outputs": [],
   "source": []
  },
  {
   "cell_type": "markdown",
   "metadata": {},
   "source": [
    "### Nominal Consumer Spending Growth by Year"
   ]
  },
  {
   "cell_type": "code",
   "execution_count": 139,
   "metadata": {
    "ExecuteTime": {
     "end_time": "2023-11-14T20:02:11.422035Z",
     "start_time": "2023-11-14T20:02:11.336422Z"
    }
   },
   "outputs": [],
   "source": [
    "df = (nipa_df(retrieve_table('T20100')['Data'], ['DPCERC'])\n",
    "      .rename({'DPCERC': 'NOMINAL'}, axis=1))\n",
    "s = 'B230RC'\n",
    "df['POP'] = nipa_df(retrieve_table('T20100')['Data'], [s])[s]\n",
    "s = 'DPCERG'\n",
    "defl = nipa_df(retrieve_table('T20304')['Data'], [s])[s]\n",
    "df['INFL'] = (defl[-1] / defl)\n",
    "df['REAL'] = df['NOMINAL'] * df['INFL']\n",
    "df['REALPC'] = df['REAL'] / df['POP']\n",
    "dfc = df.groupby(df.index.year).filter(lambda x: len(x) == 4)\n",
    "res = (dfc.resample('AS').mean().pct_change() * 100).dropna()\n",
    "res['INFL_CONTR'] = res['NOMINAL'] - res['REAL']\n",
    "res['POP_CONTR'] = res['REAL'] - res['REALPC']\n",
    "keep_col = ['POP_CONTR', 'INFL_CONTR', 'REALPC']\n",
    "res[keep_col].to_csv(data_dir / 'npcedecomp.csv', index_label='date')\n",
    "res.index = res.index + pd.DateOffset(months=7)\n",
    "res['NOMINAL'].to_csv(data_dir / 'npce_gr.csv', index_label='date')\n",
    "node = end_node(res.NOMINAL, 'black', date='y', size=1.4, offset=0.18, \n",
    "                xoffset=0.05)\n",
    "write_txt(text_dir / 'npce_gr_node.txt', node)"
   ]
  },
  {
   "cell_type": "code",
   "execution_count": 164,
   "metadata": {
    "ExecuteTime": {
     "end_time": "2023-11-14T20:16:48.226190Z",
     "start_time": "2023-11-14T20:16:48.214769Z"
    }
   },
   "outputs": [
    {
     "name": "stdout",
     "output_type": "stream",
     "text": [
      "Since 1989, total US consumer spending increased at an annual rate of five percent. Real per capita spending increased by 1.8 percent per year, inflation added 2.3 percentage points, and population growth added 0.9 percentage point. In the latest full year of data, 2022, nominal consumer spending growth is 9.2 percent, real per capita growth is 2.2 percent, inflation is 6.6 percent, and population growth is 0.4 percent.\n"
     ]
    }
   ],
   "source": [
    "nom89 = cagr(dfc.loc['1989':, 'NOMINAL'])\n",
    "real89 = cagr(dfc.loc['1989':, 'REAL'])\n",
    "rpc89 = cagr(dfc.loc['1989':, 'REALPC'])\n",
    "nom89t = value_text(nom89, 'plain')\n",
    "rpc89t = value_text(rpc89, 'plain')\n",
    "inf89t = value_text(nom89-real89, 'plain', ptype='pp')\n",
    "pop89t = value_text(real89-rpc89, 'plain', ptype='pp')\n",
    "nomlt = value_text(res['NOMINAL'].iloc[-1], 'plain')\n",
    "rpclt = value_text(res['REALPC'].iloc[-1], 'plain')\n",
    "inflt = value_text(res['INFL_CONTR'].iloc[-1], 'plain')\n",
    "poplt = value_text(res['POP_CONTR'].iloc[-1], 'plain')\n",
    "ltyr = res.index[-1].year\n",
    "text = ('Since 1989, total US consumer spending increased at an annual rate '+\n",
    "        f'of {nom89t}. Real per capita spending increased by {rpc89t} per year, '+\n",
    "        f'inflation added {inf89t}, and population growth added {pop89t}. '+\n",
    "        f'In the latest full year of data, {ltyr}, nominal consumer spending growth '+\n",
    "        f'is {nomlt}, real per capita growth is {rpclt}, inflation is {inflt}, '+\n",
    "        f'and population growth is {poplt}.')\n",
    "write_txt(text_dir / 'npce_gr_decomp.txt', text)\n",
    "print(text)"
   ]
  },
  {
   "cell_type": "code",
   "execution_count": null,
   "metadata": {},
   "outputs": [],
   "source": []
  },
  {
   "cell_type": "code",
   "execution_count": null,
   "metadata": {},
   "outputs": [],
   "source": []
  },
  {
   "cell_type": "markdown",
   "metadata": {},
   "source": [
    "### Sectoral Accounts\n",
    "\n",
    "**NOTE:** Need to convert \"deficit\", \"borrower\" etc to parameters!"
   ]
  },
  {
   "cell_type": "code",
   "execution_count": 63,
   "metadata": {
    "ExecuteTime": {
     "end_time": "2023-10-26T12:32:07.900825Z",
     "start_time": "2023-10-26T12:32:07.891836Z"
    }
   },
   "outputs": [],
   "source": [
    "def sect_txt(val):\n",
    "    lb = ('borrower', 'deficit') if val < 0 else ('lender', 'surplus')\n",
    "    d = {'v': val,\n",
    "         'vt': f'{val:.1f}',\n",
    "         'avt': f'{abs(val):.1f}',\n",
    "         'vg': f'the equivalent of {abs(val):.1f} percent of GDP',\n",
    "         'lb': lb[0],\n",
    "         'ds': lb[1]}\n",
    "    return d"
   ]
  },
  {
   "cell_type": "code",
   "execution_count": 64,
   "metadata": {
    "ExecuteTime": {
     "end_time": "2023-10-26T12:32:09.039579Z",
     "start_time": "2023-10-26T12:32:08.905260Z"
    }
   },
   "outputs": [
    {
     "name": "stdout",
     "output_type": "stream",
     "text": [
      "In 2023 Q2, the US private sector was a net lender (running a surplus) of the equivalent of 4.6 percent of GDP, in line with the 4.6 percent surplus in 2019. The rest of the world was a net lender to the US to the equivalent of 3.1 percent of GDP in 2023 Q2, compared to 2.1 percent in 2019. Balancing these transactions, the government (federal, state, and local combined) was a net borrower (running a deficit) of the equivalent of 7.7 percent of GDP in 2023 Q2, compared to 6.7 percent in 2019.  \n",
      "\n",
      "Breaking out the two main categories in the private sector, households were net lenders (ran a surplus) of the equivalent of 2.7 percent of GDP in 2023 Q2 (see\\cbox{orange!90!yellow}), while private businesses--corporate and noncorporate--were net lenders of the equivalent of 1.9 percent of GDP (see\\cbox{purple!50!red}). In 2019, households were net lenders of 4.0 percent, and private businesses were net lenders of 0.6 percent.\n"
     ]
    }
   ],
   "source": [
    "gdp = nipa_df(retrieve_table('T10105')['Data'], ['A191RC'])['A191RC']\n",
    "s = ['W162RC', 'W994RC', 'AD01RC', 'W995RC', 'W996RC', 'AD03RC']\n",
    "sb = nipa_df(retrieve_table('T50100')['Data'], s)\n",
    "df = (sb.div(gdp, axis=0) * 100).dropna()\n",
    "res = df[['W995RC', 'W996RC', 'AD03RC']].loc['1989':]\n",
    "res.to_csv(data_dir / 'sectbal2.csv', index_label='date')\n",
    "\n",
    "data = pd.DataFrame()\n",
    "data['PRIV'] = df['W994RC']\n",
    "data['GOV'] = df['AD01RC']\n",
    "data['ROW'] = -df['W162RC'] # Negative in raw data\n",
    "data = data.dropna().loc['1989':]\n",
    "data.to_csv(data_dir / 'sectbal.csv', index_label='date')\n",
    "\n",
    "date = dtxt(data.index[-1])['qtr1']\n",
    "pcdt = '2019-10-01'\n",
    "\n",
    "priv = sect_txt(data.PRIV.iloc[-1])\n",
    "privpr = sect_txt(data.loc['2019', 'PRIV'].mean())\n",
    "row = sect_txt(data.ROW.iloc[-1])\n",
    "rowpr = sect_txt(data.loc['2019', 'ROW'].mean())\n",
    "gov = sect_txt(data.GOV.iloc[-1])\n",
    "govpr = sect_txt(data.loc['2019', 'GOV'].mean())\n",
    "\n",
    "compare = compare_text(priv['v'], privpr['v'], [0.4, 1.0, 3.5])\n",
    "\n",
    "txt = (f\"In {date}, the US private sector was a net {priv['lb']} \"+\n",
    "       f\"(running a {priv['ds']}) of {priv['vg']}, {compare} the \"+\n",
    "       f\"{privpr['avt']} percent surplus in 2019. The rest of the world \"+\n",
    "       f\"was a net {row['lb']} to the US to {row['vg']} in {date}, compared \"+\n",
    "       f\"to {rowpr['avt']} percent in 2019. Balancing these transactions, \"+\n",
    "       \"the government (federal, state, and local combined) was a net \"+\n",
    "       f\"{gov['lb']} (running a {gov['ds']}) of {gov['vg']} in {date}, \"+\n",
    "       f\"compared to {govpr['avt']} percent in 2019. \")\n",
    "write_txt(text_dir / 'sectbal.txt', txt)\n",
    "print(txt, '\\n')\n",
    "\n",
    "date = dtxt(df.index[-1])['qtr1']\n",
    "hh = sect_txt(df.W996RC.iloc[-1])\n",
    "hhpr = sect_txt(df.loc['2019', 'W996RC'].mean())\n",
    "pb = sect_txt(df.W995RC.iloc[-1])\n",
    "pbpr = sect_txt(df.loc['2019', 'W995RC'].mean())   \n",
    "text = ('Breaking out the two main categories in the private sector, households '+\n",
    "       f'were net {hh[\"lb\"]}s (ran a {hh[\"ds\"]}) of {hh[\"vg\"]} in {date} '+\n",
    "        '(see\\cbox{orange!90!yellow}), while private businesses--corporate '+\n",
    "       f'and noncorporate--were net {pb[\"lb\"]}s of {pb[\"vg\"]} '+\n",
    "       '(see\\cbox{purple!50!red}). In 2019, households were net '+\n",
    "       f'{hhpr[\"lb\"]}s of {hhpr[\"avt\"]} percent, and private businesses were net '+\n",
    "       f'{pbpr[\"lb\"]}s of {pbpr[\"avt\"]} percent.') \n",
    "write_txt(text_dir / 'sectbal2.txt', text)\n",
    "print(text)"
   ]
  },
  {
   "cell_type": "code",
   "execution_count": null,
   "metadata": {},
   "outputs": [],
   "source": []
  },
  {
   "cell_type": "code",
   "execution_count": null,
   "metadata": {},
   "outputs": [],
   "source": []
  },
  {
   "cell_type": "markdown",
   "metadata": {},
   "source": [
    "### Current Account Balance"
   ]
  },
  {
   "cell_type": "code",
   "execution_count": 65,
   "metadata": {
    "ExecuteTime": {
     "end_time": "2023-10-26T12:32:13.058501Z",
     "start_time": "2023-10-26T12:32:12.786313Z"
    },
    "code_folding": []
   },
   "outputs": [
    {
     "name": "stdout",
     "output_type": "stream",
     "text": [
      "As of 2023 Q2, the US runs a current account deficit of 3.1 percent of GDP, primarily as the result of a trade deficit on goods of 4.0 percent of GDP. The initial GDP report for 2023 Q3 does not include the data needed to calculate the current account balance, however, the goods trade deficit for 2023 Q3 is equivalent to 3.9 percent of GDP. \n"
     ]
    }
   ],
   "source": [
    "s = ['A191RC']\n",
    "\n",
    "gdp = nipa_df(retrieve_table('T10105')['Data'], s)\n",
    "\n",
    "n = {'A124RC': 'Current Account Balance',\n",
    "     'A1073C': 'Current Receipts',\n",
    "     'B020RC': '\\hspace{1mm}Exports',\n",
    "     'A253RC': '\\hspace{3mm}Goods',\n",
    "     'A332RC': '\\hspace{5mm}Durable',\n",
    "     'A339RC': '\\hspace{5mm}Non-Durable',\n",
    "     'A646RC': '\\hspace{3mm}Services',\n",
    "     'B645RC': '\\hspace{1mm}Income Receipts',\n",
    "     'LA000035': '\\hspace{1mm}Transfer Receipts',\n",
    "     'W163RC': 'Current payments',\n",
    "     'B021RC': '\\hspace{1mm}Imports',\n",
    "     'A255RC': '\\hspace{3mm}Goods',\n",
    "     'A333RC': '\\hspace{5mm}Durable',\n",
    "     'A340RC': '\\hspace{5mm}Non-Durable',\n",
    "     'B656RC': '\\hspace{3mm}Services',\n",
    "     'A655RC': '\\hspace{1mm}Income Payments',\n",
    "     'A123RC': '\\hspace{1mm}Transfer Payments'}\n",
    "\n",
    "s = ['A124RC', 'GOODS', 'SERVICES', 'INCOME', 'TRANSFERS']\n",
    "\n",
    "df = (nipa_df(retrieve_table('T40100')['Data'], n.keys())\n",
    "      .assign(GOODS = lambda x: x['A253RC'] - x['A255RC'],\n",
    "              SERVICES = lambda x: x['A646RC'] - x['B656RC'],\n",
    "              INCOME = lambda x: x['B645RC'] - x['A655RC'],\n",
    "              TRANSFERS = lambda x: - x['A123RC']))\n",
    "\n",
    "data = (df.div(nipa_df(retrieve_table('T10105')['Data'], ['A191RC']\n",
    "               )['A191RC'], axis=0).loc['1989':].multiply(100).round(2))\n",
    "\n",
    "data.loc['1989':, s].dropna().to_csv(data_dir / 'cab.csv', index_label='date')\n",
    "\n",
    "node = end_node(data['A124RC'].dropna(), 'black', date='q')\n",
    "write_txt(text_dir / 'cab_node.txt', node)  \n",
    "\n",
    "cab = abs(data.dropna()['A124RC'].iloc[-1])\n",
    "tb = abs(data.dropna()['GOODS'].iloc[-1])\n",
    "ld = dtxt(data.dropna().index[-1])['qtr1']\n",
    "ltdate = dtxt(data.index[-1])['qtr1']\n",
    "prdate = dtxt(data.index[-2])['qtr1']\n",
    "lttbval = abs(data['GOODS'].iloc[-1])\n",
    "tbprval = abs(data['GOODS'].iloc[-2])\n",
    "prval = abs(data['A124RC'].iloc[-2])\n",
    "\n",
    "if pd.isna(data['A124RC'].iloc[-1]) == True:\n",
    "    mtxt = (f'The initial GDP report for {ltdate} does not include the '+\n",
    "            'data needed to calculate the current account balance, however, '+\n",
    "            f'the goods trade deficit for {ltdate} is equivalent to '+\n",
    "            f'{lttbval:.1f} percent of GDP. ')\n",
    "else:\n",
    "    mtxt = (f'In {prdate}, the current account deficit was equivalent to '\n",
    "            f'{prval:.1f}, and the trade deficit was equivalent to '+\n",
    "            f'{tbprval:.1f} percent of GDP.')\n",
    "\n",
    "text = (f'As of {ld}, the US runs a current account deficit of {cab:.1f} '+\n",
    "        'percent of GDP, primarily as the result of a trade deficit on '+\n",
    "        f'goods of {tb:.1f} percent of GDP. {mtxt}')\n",
    "write_txt(text_dir / 'cab.txt', text)\n",
    "print(text)\n",
    "\n",
    "# Table\n",
    "result = data[n.keys()]\n",
    "data2 = result.iloc[-6:].iloc[::-1].T\n",
    "\n",
    "cols = [f' {q.year} Q{q.quarter}' \n",
    "        if i == 0 else f'`{str(q.year)[2:]} Q{q.quarter}'\n",
    "        for i, q in enumerate(data2.columns)]\n",
    "\n",
    "data2.columns = cols\n",
    "data2['3-year'] = result.rolling(11).mean().iloc[-1].round(2)\n",
    "data2['10-year'] = result.rolling(40).mean().iloc[-1].round(2)\n",
    "data2.index = data2.index.map(n)\n",
    "data2 = data2.applymap('{:.2f}'.format).replace('nan', '--')\n",
    "data2.to_csv(data_dir / 'cab.tex', sep='&', lineterminator='\\\\\\ ', quotechar=' ')"
   ]
  },
  {
   "cell_type": "code",
   "execution_count": null,
   "metadata": {},
   "outputs": [],
   "source": []
  },
  {
   "cell_type": "code",
   "execution_count": null,
   "metadata": {},
   "outputs": [],
   "source": []
  },
  {
   "cell_type": "code",
   "execution_count": 69,
   "metadata": {
    "ExecuteTime": {
     "end_time": "2023-10-13T21:34:54.709087Z",
     "start_time": "2023-10-13T21:34:54.704303Z"
    }
   },
   "outputs": [],
   "source": [
    "#nipa_series_codes(retrieve_table('T20100'))"
   ]
  },
  {
   "cell_type": "markdown",
   "metadata": {},
   "source": [
    "### Corporate Profits Destination"
   ]
  },
  {
   "cell_type": "code",
   "execution_count": 66,
   "metadata": {
    "ExecuteTime": {
     "end_time": "2023-10-26T12:32:15.411344Z",
     "start_time": "2023-10-26T12:32:15.299976Z"
    }
   },
   "outputs": [
    {
     "name": "stdout",
     "output_type": "stream",
     "text": [
      "In the second quarter of 2023, corporate profits were \\$3.17 trillion, equivalent to 16.0 percent of the income paid to US nationals after depreciation costs (net national income). Of this, \\$1.86 trillion, equivalent to 9.4 percent of net national income, were paid out as dividends (see\\cbox{blue!70!purple}), \\$746 billion were retained (corporate saving, see\\cbox{cyan!50!white}), and \\$570 billion, 18.0 percent of corporate profits, went to corporate income tax (see\\cbox{red!80!orange}). \n",
      "\n",
      "In 2019, corporate profits were 15.1 percent of net national income. Dividends were equivalent to 8.6 percent, corporate savings were 4.6 percent, and corporate income taxes were 1.8 percent of net national income and 12.0 percent of corporate profits.\n"
     ]
    }
   ],
   "source": [
    "s = ['A032RC', 'A438RC', 'A054RC', 'B056RC', 'A127RC']\n",
    "df = (nipa_df(retrieve_table('T11200')['Data'], s)\n",
    "         / 1_000_000).dropna().rename({})\n",
    "df['NNI'] = df['A032RC'] - df['A438RC']\n",
    "df['TOT'] = df[['A054RC', 'B056RC', 'A127RC']].sum(axis=1)\n",
    "dt = df.index[-1]\n",
    "ltdate = dtxt(df.index[-1])['qtr2']\n",
    "sh = df.div(df.NNI, axis=0) * 100\n",
    "(sh.loc['1989':, ['A054RC', 'B056RC', 'A127RC']]\n",
    "   .to_csv(data_dir / 'cprof.csv', index_label='date'))\n",
    "taxrt = ((df.A054RC / df.TOT) * 100).loc['1989':]\n",
    "taxrt.to_csv(data_dir / 'cprof_taxrt.csv', index_label='date')\n",
    "totsh19 = sh.loc['2019', 'TOT'].mean()\n",
    "divsh19 = sh.loc['2019', 'B056RC'].mean()\n",
    "resh19 = sh.loc['2019', 'A127RC'].mean()\n",
    "taxsh19 = sh.loc['2019', 'A054RC'].mean()\n",
    "taxrt19 = taxrt.loc['2019'].mean()\n",
    "text = (f'In {ltdate}, corporate profits were '+\n",
    "        f'\\${df.TOT.iloc[-1]:.2f} trillion, equivalent to '+\n",
    "        f'{sh.TOT.iloc[-1]:.1f} percent of the income paid '+\n",
    "        'to US nationals after depreciation costs (net national '+\n",
    "        f'income). Of this, \\${df.B056RC.iloc[-1]:.2f} trillion, '+\n",
    "        f'equivalent to {sh.B056RC.iloc[-1]:.1f} percent of '+\n",
    "        'net national income, were paid out as dividends '+\n",
    "        '(see\\cbox{blue!70!purple}), '+\n",
    "        f'\\${df.A127RC.iloc[-1] * 1000:,.0f} billion were '+\n",
    "        'retained (corporate saving, see\\cbox{cyan!50!white}), '+\n",
    "        f'and \\${df.A054RC.iloc[-1] * 1000:.0f} billion, '+\n",
    "        f'{taxrt.iloc[-1]:.1f} percent of corporate profits, '+\n",
    "        'went to corporate income tax (see\\cbox{red!80!orange}). \\n\\n'+\n",
    "        f'In 2019, corporate profits were {totsh19:.1f} percent '+\n",
    "        'of net national income. Dividends were equivalent to '+\n",
    "        f'{divsh19:.1f} percent, corporate savings were '+\n",
    "        f'{resh19:.1f} percent, and corporate income taxes were '+\n",
    "        f'{taxsh19:.1f} percent of net national income '+\n",
    "        f'and {taxrt19:.1f} percent of corporate profits.')\n",
    "write_txt(text_dir / 'cprof.txt', text)\n",
    "print(text)\n",
    "\n",
    "cols = ['B056RC', 'A127RC', 'A054RC']\n",
    "sdf = sh[cols].iloc[-1]\n",
    "height = ((sdf.cumsum() - (sdf / 2) + 1.0)).to_dict()\n",
    "val = sdf.to_dict()\n",
    "dtp = dtxt(sh.index[-1] + pd.DateOffset(months=3))['datetime']\n",
    "nodes = [f'\\\\absnode{{{{{dtp}}}}}{{{height[i]}}}{{\\scriptsize {val[i]:.1f}}}' \n",
    "         for i in cols]\n",
    "dtv = dtxt(sh.index[-1])['qtr4'].replace(' ', '\\\\\\\\ \\scriptsize ')\n",
    "dtn = f'\\\\absnode{{{{{dtp}}}}}{{{sdf.cumsum().iloc[-1] + 3.0}}}{{\\scriptsize{dtv}:}}'\n",
    "nodes.append(dtn)\n",
    "nodetext = '\\n'.join(nodes)\n",
    "write_txt(text_dir / 'cprof_nodes.txt', nodetext)"
   ]
  },
  {
   "cell_type": "code",
   "execution_count": null,
   "metadata": {},
   "outputs": [],
   "source": []
  },
  {
   "cell_type": "code",
   "execution_count": null,
   "metadata": {},
   "outputs": [],
   "source": []
  },
  {
   "cell_type": "markdown",
   "metadata": {},
   "source": [
    "### Corporate profits source"
   ]
  },
  {
   "cell_type": "code",
   "execution_count": 67,
   "metadata": {
    "ExecuteTime": {
     "end_time": "2023-10-26T12:32:17.697440Z",
     "start_time": "2023-10-26T12:32:17.560914Z"
    }
   },
   "outputs": [],
   "source": [
    "# Based loosely on Levy's Where do Profits Come From?\n",
    "s = ['W170RC', 'A262RC', 'W986RC', 'A922RC']\n",
    "df1 = nipa_df(retrieve_table('T50100')['Data'], s)\n",
    "\n",
    "s = ['A123RC']\n",
    "df2 = nipa_df(retrieve_table('T40100')['Data'], s)\n",
    "\n",
    "s = ['A001RC']\n",
    "df3 = nipa_df(retrieve_table('T10705')['Data'], s)\n",
    "\n",
    "cprof = pd.DataFrame()\n",
    "cprof['ROW Saving'] = (df2['A123RC'] / df3['A001RC']) * 100\n",
    "cprof['HH Saving'] = (- df1['W986RC'] / df3['A001RC']) * 100\n",
    "cprof['Gov Saving'] = (- df1['A922RC'] / df3['A001RC']) * 100\n",
    "cprof['Investment'] = ((df1['W170RC'] - df1['A262RC']) / df3['A001RC']) * 100\n",
    "\n",
    "cprof.loc['1989':].to_csv(data_dir / 'cprof2.csv', index_label='date')"
   ]
  },
  {
   "cell_type": "code",
   "execution_count": 72,
   "metadata": {
    "ExecuteTime": {
     "end_time": "2023-10-13T21:34:54.940322Z",
     "start_time": "2023-10-13T21:34:54.938167Z"
    },
    "code_folding": []
   },
   "outputs": [],
   "source": [
    "#nipa_series_codes(retrieve_table('T50100'))"
   ]
  },
  {
   "cell_type": "code",
   "execution_count": null,
   "metadata": {},
   "outputs": [],
   "source": []
  },
  {
   "cell_type": "code",
   "execution_count": null,
   "metadata": {},
   "outputs": [],
   "source": []
  },
  {
   "cell_type": "markdown",
   "metadata": {},
   "source": [
    "### Table 1.15 Prices and Costs"
   ]
  },
  {
   "cell_type": "code",
   "execution_count": 2,
   "metadata": {
    "ExecuteTime": {
     "end_time": "2023-11-09T03:56:59.768464Z",
     "start_time": "2023-11-09T03:56:59.665304Z"
    }
   },
   "outputs": [],
   "source": [
    "d = nipa_series_codes(retrieve_table('T11500'))\n",
    "df = nipa_df(retrieve_table('T11500')['Data'], d.keys())\n",
    "res = growth_contrib_ann(df, 'A455RD')[['A460RD', 'A467RD', 'A463RD']]"
   ]
  },
  {
   "cell_type": "code",
   "execution_count": null,
   "metadata": {},
   "outputs": [],
   "source": []
  },
  {
   "cell_type": "code",
   "execution_count": null,
   "metadata": {},
   "outputs": [],
   "source": []
  }
 ],
 "metadata": {
  "kernelspec": {
   "display_name": "Python 3 (ipykernel)",
   "language": "python",
   "name": "python3"
  },
  "language_info": {
   "codemirror_mode": {
    "name": "ipython",
    "version": 3
   },
   "file_extension": ".py",
   "mimetype": "text/x-python",
   "name": "python",
   "nbconvert_exporter": "python",
   "pygments_lexer": "ipython3",
   "version": "3.8.13"
  }
 },
 "nbformat": 4,
 "nbformat_minor": 2
}
