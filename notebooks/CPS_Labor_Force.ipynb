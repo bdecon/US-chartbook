{
 "cells": [
  {
   "cell_type": "markdown",
   "metadata": {},
   "source": [
    "# Labor Force Statistics from CPS Microdata\n",
    "\n",
    "Brian Dew, @bd_econ, brian.w.dew@gmail.com"
   ]
  },
  {
   "cell_type": "code",
   "execution_count": 2,
   "metadata": {
    "ExecuteTime": {
     "end_time": "2022-02-24T16:07:15.434730Z",
     "start_time": "2022-02-24T16:07:14.757496Z"
    }
   },
   "outputs": [],
   "source": [
    "import wquantiles\n",
    "import sys\n",
    "sys.path.append('../src')\n",
    "\n",
    "import uschartbook.config\n",
    "\n",
    "from uschartbook.config import *\n",
    "from uschartbook.utils import *\n",
    "\n",
    "dt = cps_date()\n",
    "if dt > pd.to_datetime('2022-02-01'):\n",
    "    pcdt = dt - pd.DateOffset(years=3)\n",
    "else:\n",
    "    pcdt = dt - pd.DateOffset(years=2)\n",
    "def to_date(ym):\n",
    "    return pd.to_datetime(f'{ym[0]}-{ym[1]}-01')"
   ]
  },
  {
   "cell_type": "markdown",
   "metadata": {},
   "source": [
    "### Overview data and text"
   ]
  },
  {
   "cell_type": "code",
   "execution_count": 2,
   "metadata": {
    "ExecuteTime": {
     "end_time": "2022-02-09T17:18:42.881862Z",
     "start_time": "2022-02-09T17:18:38.630652Z"
    }
   },
   "outputs": [],
   "source": [
    "yr_wt = {y: 'PWSSWGT' if y > 1993 else 'BASICWGT' for y in range(1989, 2023)}\n",
    "\n",
    "cols = ['LFS', 'AGE', 'MONTH', 'YEAR', 'FEMALE']\n",
    "\n",
    "df = pd.concat([(pd.read_feather(cps_dir / f'cps{y}.ft', columns=cols + [w])\n",
    "                   .rename({w: 'WGT'}, axis=1)) \n",
    "                for y, w in yr_wt.items()], sort=False)\n",
    "df['DATE'] = pd.to_datetime(dict(year=df.YEAR, month=df.MONTH, day=1))\n",
    "data = df.groupby(['DATE', 'LFS']).WGT.sum().unstack().rename({'nan': 'Children'}, axis=1) / 1000000\n",
    "data.to_csv(data_dir/ 'cps_lfs.csv', index_label='date')\n",
    "\n",
    "datelt = dtxt(data.index[-1])['mon1']\n",
    "dateltsh = dtxt(data.index[-1])['mon2']\n",
    "dateyr = dtxt(data.index[-13])['mon1']\n",
    "dateprepan = dtxt(data.index[-25])['mon1']\n",
    "dateshprepan = dtxt(data.index[-25])['mon2']\n",
    "dateyrsh = dtxt(data.index[-13])['mon2']\n",
    "datepr = f\"{dateyr} to {datelt}\"\n",
    "datepr2 = f\"{dateprepan} to {datelt}\"\n",
    "\n",
    "write_txt(text_dir / 'cps_lfs_date.txt', datelt)\n",
    "write_txt(text_dir / 'cps_lfs_datesh.txt', dateltsh)\n",
    "write_txt(text_dir / 'cps_lfs_dateyr.txt', dateyr)\n",
    "write_txt(text_dir / 'cps_lfs_datepc.txt', dtxt(pcdt)['mon1'])\n",
    "write_txt(text_dir / 'cps_lfs_dateprepan.txt', dateprepan)\n",
    "write_txt(text_dir / 'cps_lfs_dateshprepan.txt', dateshprepan)\n",
    "write_txt(text_dir / 'cps_lfs_dateyrsh.txt', dateyrsh)\n",
    "write_txt(text_dir / 'cps_lfs_datepr.txt', datepr)\n",
    "write_txt(text_dir / 'cps_lfs_date2pr.txt', datepr2)\n",
    "\n",
    "epop = data[\"Employed\"].iloc[-1] / data.iloc[-1].sum() * 100"
   ]
  },
  {
   "cell_type": "code",
   "execution_count": 3,
   "metadata": {
    "ExecuteTime": {
     "end_time": "2022-02-09T17:18:43.585785Z",
     "start_time": "2022-02-09T17:18:43.477628Z"
    }
   },
   "outputs": [
    {
     "name": "stdout",
     "output_type": "stream",
     "text": [
      "As of January 2022, 156.0 million people are employed (including self-employment). \n",
      "The number of people who are considered employed divided by the total population is the employment rate or employment-to-population ratio, which is 47.6 percent as of January 2022.\n",
      "As of January 2022, there are 7.3 million unemployed people. The combined group of employed and unemployed people is the labor force. The number of unemployed people divided by the number of people in the labor force is the unemployment rate, currently 4.5 percent. The number of people in the labor force divided by the total population is the labor force participation rate, currently 49.8 percent.\n",
      "These non-participants usually comprise about half of the population, and total 164.4 million in January 2022. The category includes children (60.1 million), students (18.9 million), unpaid caregivers (12.9 million), those unable to work due to disability or illness (14.0 million), those who want a job but have given up looking (6.0 million), and retirees and the elderly (50.3 million).\n"
     ]
    }
   ],
   "source": [
    "text = (f'As of {datelt}, {data[\"Employed\"].iloc[-1]:.1f} million '+\n",
    "        'people are employed (including self-employment). ')\n",
    "print(text)\n",
    "write_txt(text_dir / 'cps_lfs0.txt', text)\n",
    "\n",
    "text = ('The number of people who are considered employed divided by the total '+\n",
    "        'population is the employment rate or employment-to-population ratio, '+\n",
    "        f'which is {epop:.1f} percent as of {datelt}.')\n",
    "print(text)\n",
    "write_txt(text_dir / 'cps_lfs.txt', text)\n",
    "\n",
    "unemp = (data[\"Unemployed\"].iloc[-1] / (data[\"Unemployed\"].iloc[-1] + data[\"Employed\"].iloc[-1])) * 100\n",
    "lfpr = (data[\"Unemployed\"].iloc[-1] + data[\"Employed\"].iloc[-1]) / data.iloc[-1].sum() * 100\n",
    "\n",
    "text = (f'As of {datelt}, there are {data[\"Unemployed\"].iloc[-1]:.1f} million '+\n",
    "        'unemployed people. The combined group of employed and unemployed people '+\n",
    "        'is the labor force. The number of unemployed people divided by the number '+\n",
    "        f'of people in the labor force is the unemployment rate, currently {unemp:.1f} percent. '+\n",
    "        'The number of people in the labor force divided by the total population is the '+\n",
    "        f'labor force participation rate, currently {lfpr:.1f} percent.')\n",
    "print(text)\n",
    "write_txt(text_dir / 'cps_lfs2.txt', text)\n",
    "    \n",
    "cols2 = cols + ['NILFREASON', 'PWSSWGT']\n",
    "\n",
    "datalt = cps_1mo(cps_dir, cps_date(), cols2)\n",
    "\n",
    "student = (datalt.query('NILFREASON == \"School\"').PWSSWGT.sum() / 1000000)\n",
    "care = (datalt.query('NILFREASON == \"Family\"').PWSSWGT.sum() / 1000000)\n",
    "disill = (datalt.query('NILFREASON == \"Disabled/Ill\"').PWSSWGT.sum() / 1000000)\n",
    "disc = (datalt.query('NILFREASON == \"Discouraged\"').PWSSWGT.sum() / 1000000)\n",
    "ret = (datalt.query('NILFREASON == \"Retired\"').PWSSWGT.sum() / 1000000)\n",
    "\n",
    "nilfpop = data[['NILF', 'Children']].iloc[-1].sum()\n",
    "text = ('These non-participants usually comprise about half of the population, and '+\n",
    "        f'total {nilfpop:.1f} million in {datelt}. The category includes '+\n",
    "        f'children ({data[\"Children\"].iloc[-1]:.1f} million), students '+\n",
    "        f'({student:.1f} million), unpaid caregivers ({care:.1f} million), those '+\n",
    "        f'unable to work due to disability or illness ({disill:.1f} million), '+\n",
    "        f'those who want a job but have given up looking ({disc:.1f} '+\n",
    "        f'million), and retirees and the elderly ({ret:.1f} million).')\n",
    "\n",
    "write_txt(text_dir / 'cps_lfs3.txt', text)\n",
    "    \n",
    "data['Total'] = data[['Employed', 'Unemployed', 'NILF']].sum(axis=1)\n",
    "result = data.drop('Children', axis=1).resample('QS').mean()\n",
    "\n",
    "growth_contrib_ann(result, 'Total').dropna().to_csv(data_dir / 'cps_lfs2.csv', index_label='date')\n",
    "print(text)"
   ]
  },
  {
   "cell_type": "code",
   "execution_count": null,
   "metadata": {},
   "outputs": [],
   "source": []
  },
  {
   "cell_type": "code",
   "execution_count": null,
   "metadata": {},
   "outputs": [],
   "source": []
  },
  {
   "cell_type": "markdown",
   "metadata": {},
   "source": [
    "### LFS Table"
   ]
  },
  {
   "cell_type": "code",
   "execution_count": 4,
   "metadata": {
    "ExecuteTime": {
     "end_time": "2022-02-09T17:19:12.447721Z",
     "start_time": "2022-02-09T17:19:11.884349Z"
    }
   },
   "outputs": [],
   "source": [
    "cols = ['LFS', 'BASICWGT', 'AGE', 'MONTH', 'YEAR', 'MJH',\n",
    "        'FEMALE', 'NILFREASON', 'UNEMPTYPE', 'PTECON', 'WORKFT']\n",
    "\n",
    "df = cps_1mo(cps_dir, cps_date(), cols).query('AGE > 15')\n",
    "df2 = cps_1mo(cps_dir, cps_date() - pd.DateOffset(years=2), cols).query('AGE > 15')\n",
    "\n",
    "age_groups = [(16, 30), (30, 60), (60, 86)]\n",
    "sex = [0, 1]\n",
    "d = {'Population': {'query': 'BASICWGT > 0'}, \n",
    "     '\\hspace{2mm}Employed': {'query': 'LFS == \"Employed\"'}, \n",
    "     '\\hspace{4mm}Multiple jobs': {'query': 'MJH == 1'},     \n",
    "     '\\hspace{4mm}Full-time': {'query': 'WORKFT == 1'},  \n",
    "     '\\hspace{4mm}Part-time': {'query': 'WORKFT == 0'}, \n",
    "     '\\hspace{6mm}Economic reasons': {'query': 'PTECON == 1'},\n",
    "     '\\hspace{2mm}Unemployed': {'query': 'LFS == \"Unemployed\"'}, \n",
    "     '\\hspace{2mm}Not in Labor Force': {'query': 'LFS == \"NILF\"'}, \n",
    "     '\\hspace{4mm}Discouraged': {'query': 'NILFREASON == \"Discouraged\"'}, \n",
    "     '\\hspace{4mm}Disabled/Ill': {'query': 'NILFREASON == \"Disabled/Ill\"'}, \n",
    "     '\\hspace{4mm}Family/Care': {'query': 'NILFREASON == \"Family\"'}, \n",
    "     '\\hspace{4mm}School': {'query': 'NILFREASON == \"School\"'}, \n",
    "     '\\hspace{4mm}Retirement': {'query': 'NILFREASON == \"Retired\"'}}\n",
    "\n",
    "d2 = {k: {} for k, v in d.items()}\n",
    "\n",
    "lf_groups = list(zip(d.keys(), [d[i]['query'] for i in d.keys()])) \n",
    "\n",
    "for name, query in lf_groups:\n",
    "    totval = df.query(query).BASICWGT.sum()/1000\n",
    "    d[name]['Total, 16+'] = f'{totval:,.0f}'\n",
    "    chval = totval - df2.query(query).BASICWGT.sum()/1000\n",
    "    d2[name]['Total, 16+'] = f'{chval:,.0f}'\n",
    "\n",
    "for sex, (agemin, agemax) in itertools.product(sex, age_groups):\n",
    "    data = df.query('@agemin <= AGE < @agemax and FEMALE == @sex')\n",
    "    data2 = df2.query('@agemin <= AGE < @agemax and FEMALE == @sex')\n",
    "    group = f'{[\"Women\" if sex==1 else \"Men\"][0]}, {agemin}--{agemax-1}'.replace('--85', '+')\n",
    "    for name, query in lf_groups:\n",
    "        tmp = data.query(query).BASICWGT.sum()/1000\n",
    "        tmp2 = data2.query(query).BASICWGT.sum()/1000\n",
    "        d[name][group] = f'{tmp:,.0f}'\n",
    "        d2[name][group] = f'{tmp - tmp2:,.0f}'\n",
    "        \n",
    "(pd.DataFrame(d).T.drop('query', axis=1).to_csv(data_dir / 'lfs_table1.tex', \n",
    "    sep='&', line_terminator='\\\\\\ ', quotechar=' '))\n",
    "pd.DataFrame(d2).T.to_csv(data_dir / 'lfs_table2.tex', sep='&', line_terminator='\\\\\\ ', quotechar=' ')"
   ]
  },
  {
   "cell_type": "code",
   "execution_count": 5,
   "metadata": {
    "ExecuteTime": {
     "end_time": "2022-02-09T17:19:27.763837Z",
     "start_time": "2022-02-09T17:19:27.214572Z"
    },
    "code_folding": []
   },
   "outputs": [
    {
     "name": "stdout",
     "output_type": "stream",
     "text": [
      "January 2021 to January 2022\n"
     ]
    },
    {
     "data": {
      "text/html": [
       "<div>\n",
       "<style scoped>\n",
       "    .dataframe tbody tr th:only-of-type {\n",
       "        vertical-align: middle;\n",
       "    }\n",
       "\n",
       "    .dataframe tbody tr th {\n",
       "        vertical-align: top;\n",
       "    }\n",
       "\n",
       "    .dataframe thead th {\n",
       "        text-align: right;\n",
       "    }\n",
       "</style>\n",
       "<table border=\"1\" class=\"dataframe\">\n",
       "  <thead>\n",
       "    <tr style=\"text-align: right;\">\n",
       "      <th></th>\n",
       "      <th>Total, 16+</th>\n",
       "      <th>Men, 16--29</th>\n",
       "      <th>Men, 30--59</th>\n",
       "      <th>Men, 60+</th>\n",
       "      <th>Women, 16--29</th>\n",
       "      <th>Women, 30--59</th>\n",
       "      <th>Women, 60+</th>\n",
       "    </tr>\n",
       "  </thead>\n",
       "  <tbody>\n",
       "    <tr>\n",
       "      <th>Population</th>\n",
       "      <td>2,351</td>\n",
       "      <td>-160</td>\n",
       "      <td>1,412</td>\n",
       "      <td>792</td>\n",
       "      <td>-45</td>\n",
       "      <td>432</td>\n",
       "      <td>-80</td>\n",
       "    </tr>\n",
       "    <tr>\n",
       "      <th>\\hspace{2mm}Employed</th>\n",
       "      <td>7,235</td>\n",
       "      <td>567</td>\n",
       "      <td>2,491</td>\n",
       "      <td>784</td>\n",
       "      <td>819</td>\n",
       "      <td>2,150</td>\n",
       "      <td>425</td>\n",
       "    </tr>\n",
       "    <tr>\n",
       "      <th>\\hspace{4mm}Multiple jobs</th>\n",
       "      <td>794</td>\n",
       "      <td>66</td>\n",
       "      <td>415</td>\n",
       "      <td>41</td>\n",
       "      <td>-10</td>\n",
       "      <td>242</td>\n",
       "      <td>41</td>\n",
       "    </tr>\n",
       "    <tr>\n",
       "      <th>\\hspace{4mm}Full-time</th>\n",
       "      <td>2,261</td>\n",
       "      <td>-153</td>\n",
       "      <td>1,407</td>\n",
       "      <td>548</td>\n",
       "      <td>-309</td>\n",
       "      <td>673</td>\n",
       "      <td>94</td>\n",
       "    </tr>\n",
       "    <tr>\n",
       "      <th>\\hspace{4mm}Part-time</th>\n",
       "      <td>4,974</td>\n",
       "      <td>720</td>\n",
       "      <td>1,084</td>\n",
       "      <td>236</td>\n",
       "      <td>1,127</td>\n",
       "      <td>1,476</td>\n",
       "      <td>331</td>\n",
       "    </tr>\n",
       "    <tr>\n",
       "      <th>\\hspace{6mm}Economic reasons</th>\n",
       "      <td>-2,236</td>\n",
       "      <td>-212</td>\n",
       "      <td>-571</td>\n",
       "      <td>-210</td>\n",
       "      <td>-334</td>\n",
       "      <td>-697</td>\n",
       "      <td>-212</td>\n",
       "    </tr>\n",
       "    <tr>\n",
       "      <th>\\hspace{2mm}Unemployed</th>\n",
       "      <td>-3,644</td>\n",
       "      <td>-558</td>\n",
       "      <td>-1,144</td>\n",
       "      <td>-189</td>\n",
       "      <td>-613</td>\n",
       "      <td>-945</td>\n",
       "      <td>-195</td>\n",
       "    </tr>\n",
       "    <tr>\n",
       "      <th>\\hspace{2mm}Not in Labor Force</th>\n",
       "      <td>-1,240</td>\n",
       "      <td>-169</td>\n",
       "      <td>65</td>\n",
       "      <td>197</td>\n",
       "      <td>-251</td>\n",
       "      <td>-772</td>\n",
       "      <td>-311</td>\n",
       "    </tr>\n",
       "    <tr>\n",
       "      <th>\\hspace{4mm}Discouraged</th>\n",
       "      <td>-1,255</td>\n",
       "      <td>-189</td>\n",
       "      <td>-230</td>\n",
       "      <td>9</td>\n",
       "      <td>-265</td>\n",
       "      <td>-444</td>\n",
       "      <td>-137</td>\n",
       "    </tr>\n",
       "    <tr>\n",
       "      <th>\\hspace{4mm}Disabled/Ill</th>\n",
       "      <td>-313</td>\n",
       "      <td>-37</td>\n",
       "      <td>-88</td>\n",
       "      <td>-35</td>\n",
       "      <td>-22</td>\n",
       "      <td>-153</td>\n",
       "      <td>22</td>\n",
       "    </tr>\n",
       "    <tr>\n",
       "      <th>\\hspace{4mm}Family/Care</th>\n",
       "      <td>-244</td>\n",
       "      <td>8</td>\n",
       "      <td>192</td>\n",
       "      <td>23</td>\n",
       "      <td>-86</td>\n",
       "      <td>-225</td>\n",
       "      <td>-156</td>\n",
       "    </tr>\n",
       "    <tr>\n",
       "      <th>\\hspace{4mm}School</th>\n",
       "      <td>206</td>\n",
       "      <td>43</td>\n",
       "      <td>8</td>\n",
       "      <td>-1</td>\n",
       "      <td>122</td>\n",
       "      <td>12</td>\n",
       "      <td>23</td>\n",
       "    </tr>\n",
       "    <tr>\n",
       "      <th>\\hspace{4mm}Retirement</th>\n",
       "      <td>487</td>\n",
       "      <td>-15</td>\n",
       "      <td>198</td>\n",
       "      <td>243</td>\n",
       "      <td>13</td>\n",
       "      <td>78</td>\n",
       "      <td>-31</td>\n",
       "    </tr>\n",
       "  </tbody>\n",
       "</table>\n",
       "</div>"
      ],
      "text/plain": [
       "                               Total, 16+ Men, 16--29 Men, 30--59 Men, 60+  \\\n",
       "Population                          2,351        -160       1,412      792   \n",
       "\\hspace{2mm}Employed                7,235         567       2,491      784   \n",
       "\\hspace{4mm}Multiple jobs             794          66         415       41   \n",
       "\\hspace{4mm}Full-time               2,261        -153       1,407      548   \n",
       "\\hspace{4mm}Part-time               4,974         720       1,084      236   \n",
       "\\hspace{6mm}Economic reasons       -2,236        -212        -571     -210   \n",
       "\\hspace{2mm}Unemployed             -3,644        -558      -1,144     -189   \n",
       "\\hspace{2mm}Not in Labor Force     -1,240        -169          65      197   \n",
       "\\hspace{4mm}Discouraged            -1,255        -189        -230        9   \n",
       "\\hspace{4mm}Disabled/Ill             -313         -37         -88      -35   \n",
       "\\hspace{4mm}Family/Care              -244           8         192       23   \n",
       "\\hspace{4mm}School                    206          43           8       -1   \n",
       "\\hspace{4mm}Retirement                487         -15         198      243   \n",
       "\n",
       "                               Women, 16--29 Women, 30--59 Women, 60+  \n",
       "Population                               -45           432        -80  \n",
       "\\hspace{2mm}Employed                     819         2,150        425  \n",
       "\\hspace{4mm}Multiple jobs                -10           242         41  \n",
       "\\hspace{4mm}Full-time                   -309           673         94  \n",
       "\\hspace{4mm}Part-time                  1,127         1,476        331  \n",
       "\\hspace{6mm}Economic reasons            -334          -697       -212  \n",
       "\\hspace{2mm}Unemployed                  -613          -945       -195  \n",
       "\\hspace{2mm}Not in Labor Force          -251          -772       -311  \n",
       "\\hspace{4mm}Discouraged                 -265          -444       -137  \n",
       "\\hspace{4mm}Disabled/Ill                 -22          -153         22  \n",
       "\\hspace{4mm}Family/Care                  -86          -225       -156  \n",
       "\\hspace{4mm}School                       122            12         23  \n",
       "\\hspace{4mm}Retirement                    13            78        -31  "
      ]
     },
     "execution_count": 5,
     "metadata": {},
     "output_type": "execute_result"
    }
   ],
   "source": [
    "# One year change\n",
    "cols = ['LFS', 'BASICWGT', 'AGE', 'MONTH', 'YEAR', 'MJH',\n",
    "        'FEMALE', 'NILFREASON', 'UNEMPTYPE', 'PTECON', 'WORKFT']\n",
    "\n",
    "df = cps_1mo(cps_dir, cps_date(), cols).query('AGE > 15')\n",
    "df2 = cps_1mo(cps_dir, cps_date() - pd.DateOffset(years=1), cols).query('AGE > 15')\n",
    "\n",
    "age_groups = [(16, 30), (30, 60), (60, 86)]\n",
    "sex = [0, 1]\n",
    "d = {'Population': {'query': 'BASICWGT > 0'}, \n",
    "     '\\hspace{2mm}Employed': {'query': 'LFS == \"Employed\"'}, \n",
    "     '\\hspace{4mm}Multiple jobs': {'query': 'MJH == 1'},     \n",
    "     '\\hspace{4mm}Full-time': {'query': 'WORKFT == 1'},  \n",
    "     '\\hspace{4mm}Part-time': {'query': 'WORKFT == 0'}, \n",
    "     '\\hspace{6mm}Economic reasons': {'query': 'PTECON == 1'},\n",
    "     '\\hspace{2mm}Unemployed': {'query': 'LFS == \"Unemployed\"'}, \n",
    "     '\\hspace{2mm}Not in Labor Force': {'query': 'LFS == \"NILF\"'}, \n",
    "     '\\hspace{4mm}Discouraged': {'query': 'NILFREASON == \"Discouraged\"'}, \n",
    "     '\\hspace{4mm}Disabled/Ill': {'query': 'NILFREASON == \"Disabled/Ill\"'}, \n",
    "     '\\hspace{4mm}Family/Care': {'query': 'NILFREASON == \"Family\"'}, \n",
    "     '\\hspace{4mm}School': {'query': 'NILFREASON == \"School\"'}, \n",
    "     '\\hspace{4mm}Retirement': {'query': 'NILFREASON == \"Retired\"'}}\n",
    "\n",
    "d2 = {k: {} for k, v in d.items()}\n",
    "\n",
    "lf_groups = list(zip(d.keys(), [d[i]['query'] for i in d.keys()])) \n",
    "\n",
    "for name, query in lf_groups:\n",
    "    totval = df.query(query).BASICWGT.sum()/1000\n",
    "    d[name]['Total, 16+'] = f'{totval:,.0f}'\n",
    "    chval = totval - df2.query(query).BASICWGT.sum()/1000\n",
    "    d2[name]['Total, 16+'] = f'{chval:,.0f}'\n",
    "\n",
    "for sex, (agemin, agemax) in itertools.product(sex, age_groups):\n",
    "    data = df.query('@agemin <= AGE < @agemax and FEMALE == @sex')\n",
    "    data2 = df2.query('@agemin <= AGE < @agemax and FEMALE == @sex')\n",
    "    group = f'{[\"Women\" if sex==1 else \"Men\"][0]}, {agemin}--{agemax-1}'.replace('--85', '+')\n",
    "    for name, query in lf_groups:\n",
    "        tmp = data.query(query).BASICWGT.sum()/1000\n",
    "        tmp2 = data2.query(query).BASICWGT.sum()/1000\n",
    "        d[name][group] = f'{tmp:,.0f}'\n",
    "        d2[name][group] = f'{tmp - tmp2:,.0f}'\n",
    "        \n",
    "print(datepr)\n",
    "pd.DataFrame(d2).T        "
   ]
  },
  {
   "cell_type": "code",
   "execution_count": null,
   "metadata": {},
   "outputs": [],
   "source": []
  },
  {
   "cell_type": "code",
   "execution_count": null,
   "metadata": {},
   "outputs": [],
   "source": []
  },
  {
   "cell_type": "markdown",
   "metadata": {},
   "source": [
    "### Employment rates by age, gender, education"
   ]
  },
  {
   "cell_type": "code",
   "execution_count": 6,
   "metadata": {
    "ExecuteTime": {
     "end_time": "2022-02-09T17:19:37.801676Z",
     "start_time": "2022-02-09T17:19:35.933064Z"
    }
   },
   "outputs": [],
   "source": [
    "cols = ['MONTH', 'YEAR', 'LFS', 'PWSSWGT', 'AGE', 'EDUC', 'FEMALE']\n",
    "df1 = cps_3mo(cps_dir, cps_date() - pd.DateOffset(months=24), cols)\n",
    "df2 = cps_3mo(cps_dir, cps_date(), cols)\n",
    "\n",
    "ages = [(16, 24), (25, 34), (35, 44), (45, 54), (55, 64), (65, 74)]\n",
    "educ = [['LTHS', 'HS'], ['SC'], ['COLL', 'ADV'], ['LTHS', 'HS', 'SC', 'COLL', 'ADV']]\n",
    "sex = [0, 1]\n",
    "\n",
    "results = pd.DataFrame()\n",
    "for a, e, s in itertools.product(ages, educ, sex):\n",
    "    row_name = f'{a[0]}-{a[1]}'\n",
    "    col_name = f'{\" or \".join(e)} {[\"Female\" if s == 1 else \"Male\"][0]}'\n",
    "    for yr, df in [('Year Ago', df1), ('Latest', df2)]:\n",
    "        data = df.query('@a[0] <= AGE <= @a[1] and EDUC in @e and FEMALE == @s')\n",
    "        i = data.groupby('LFS').PWSSWGT.sum()\n",
    "        results.loc[row_name, f'{yr} {col_name}'] = (i.Employed / i.sum()) * 100\n",
    "        \n",
    "results.iloc[1:, :-4].to_csv(data_dir / 'empgroups.csv', index_label='name')\n",
    "results.iloc[:, -4:].to_csv(data_dir / 'empgroups2.csv', index_label='name')"
   ]
  },
  {
   "cell_type": "code",
   "execution_count": null,
   "metadata": {},
   "outputs": [],
   "source": []
  },
  {
   "cell_type": "code",
   "execution_count": null,
   "metadata": {},
   "outputs": [],
   "source": []
  },
  {
   "cell_type": "markdown",
   "metadata": {},
   "source": [
    "### Union Membership"
   ]
  },
  {
   "cell_type": "code",
   "execution_count": 7,
   "metadata": {
    "ExecuteTime": {
     "end_time": "2022-02-09T17:19:45.143501Z",
     "start_time": "2022-02-09T17:19:41.819613Z"
    }
   },
   "outputs": [
    {
     "name": "stdout",
     "output_type": "stream",
     "text": [
      "Over the 12 months ending January 2022, the share of jobs held by union and employee association members averaged 10.2 percent. In levels, there were 14.0 million union jobs, and 122.9 million nonunion jobs, on average over the period. This union membership rate averaged 10.8 percent during the 12 months ending January 2021, and 10.3 percent during the 12 months ending January 2020. Union jobs decreased by 164,000 from January 2021 to January 2022, while nonunion jobs increased by 5,611,000.\n"
     ]
    }
   ],
   "source": [
    "union_membership_rate = lambda x: np.average(x['UNIONMEM'], weights=x['PWORWGT'])\n",
    "union_coverage_rate = lambda x: np.average(x['UNION'], weights=x['PWORWGT'])\n",
    "\n",
    "unmem, uncov = pd.Series(dtype='float64'), pd.Series(dtype='float64')\n",
    "\n",
    "untot, nuntot = pd.Series(dtype='float64'), pd.Series(dtype='float64')\n",
    "\n",
    "columns = ['MONTH', 'YEAR', 'LFS', 'PWORWGT', 'UNION', 'UNIONMEM']\n",
    "for year in range(1989, 2023):\n",
    "    df = (pd.read_feather(cps_dir / f'cps{year}.ft', columns=columns)\n",
    "        .query('LFS == \"Employed\" and UNION in [0, 1]'))\n",
    "    data1 = df.groupby(['YEAR', 'MONTH']).apply(union_membership_rate)\n",
    "    data1.index = [pd.to_datetime(f'{ti[0]}-{ti[1]}-01') for ti in data1.index]\n",
    "    unmem = unmem.append(data1)\n",
    "    data2 = df.groupby(['YEAR', 'MONTH']).apply(union_coverage_rate)\n",
    "    data2.index = [pd.to_datetime(f'{ti[0]}-{ti[1]}-01') for ti in data2.index]\n",
    "    uncov = uncov.append(data2)\n",
    "    df2 = df.query('UNIONMEM == 1')   \n",
    "    data3 = df2.groupby(['YEAR', 'MONTH']).PWORWGT.sum()\n",
    "    data3.index = [pd.to_datetime(f'{ti[0]}-{ti[1]}-01') for ti in data3.index]\n",
    "    untot = untot.append(data3)\n",
    "    df3 = df.query('UNIONMEM == 0')\n",
    "    data4 = df3.groupby(['YEAR', 'MONTH']).PWORWGT.sum()\n",
    "    data4.index = [pd.to_datetime(f'{ti[0]}-{ti[1]}-01') for ti in data4.index]\n",
    "    nuntot = nuntot.append(data4)    \n",
    "    \n",
    "data = pd.DataFrame({'Membership': unmem, 'Coverage': uncov})\n",
    "levels = pd.DataFrame({'Union': untot, 'Nonunion': nuntot})\n",
    "data['Diff'] = data['Coverage'] - data['Membership']\n",
    "final = (data.rolling(12).mean().dropna() * 100)\n",
    "final.to_csv(data_dir / 'union.csv', index_label='date', float_format='%g')\n",
    "final2 = (levels.rolling(12).mean().dropna()) / 1000000\n",
    "\n",
    "ltdate = final.index[-1].strftime('%B %Y')\n",
    "prevdate = final.index[-13].strftime('%B %Y')\n",
    "prev2date = final.index[-25].strftime('%B %Y')\n",
    "\n",
    "ltval = final['Membership'].iloc[-1]\n",
    "prevval = final['Membership'].iloc[-13]\n",
    "prev2val = final['Membership'].iloc[-25]\n",
    "\n",
    "totvallt = final2['Union'].iloc[-1]\n",
    "totnvallt = final2['Nonunion'].iloc[-1]\n",
    "\n",
    "chlt = final2['Union'].diff(12).iloc[-1] * 1000000\n",
    "chpr = final2['Union'].diff(12).iloc[-13] * 1000000\n",
    "\n",
    "chnlt = final2['Nonunion'].diff(12).iloc[-1] * 1000000\n",
    "chnpr = final2['Nonunion'].diff(12).iloc[-13] * 1000000\n",
    "\n",
    "if chlt > 10:\n",
    "    chlt_txt = f'increased by {round(chlt, -3):,.0f}'\n",
    "elif chlt <= -10:\n",
    "    chlt_txt = f'decreased by {abs(round(chlt, -3)):,.0f}'\n",
    "else:\n",
    "    chlt_txt = 'were virtually unchanged'\n",
    "    \n",
    "if chnlt > 10:\n",
    "    chnlt_txt = f'increased by {round(chnlt, -3):,.0f}'\n",
    "elif chnlt <= -10:\n",
    "    chnlt_txt = f'decreased by {abs(round(chnlt, -3)):,.0f}'\n",
    "else:\n",
    "    chnlt_txt = 'were virtually unchanged'\n",
    "    \n",
    "text = (f'Over the 12 months ending {ltdate}, the share of jobs held '+\n",
    "        f'by union and employee association members averaged {ltval:.1f} percent. '+\n",
    "        f'In levels, there were {totvallt:.1f} million union jobs, and '+\n",
    "        f'{totnvallt:.1f} million nonunion jobs, on average over the period. '+\n",
    "        f'This union membership rate averaged {prevval:.1f} percent during the 12 '+\n",
    "        f'months ending {prevdate}, and {prev2val:.1f} percent during the 12 '+\n",
    "        f'months ending {prev2date}. Union jobs {chlt_txt} '+\n",
    "        f'from {prevdate} to {ltdate}, while nonunion jobs {chnlt_txt}.')\n",
    "write_txt(text_dir / 'union.txt', text)\n",
    "print(text)"
   ]
  },
  {
   "cell_type": "code",
   "execution_count": 8,
   "metadata": {
    "ExecuteTime": {
     "end_time": "2022-02-09T17:19:55.085564Z",
     "start_time": "2022-02-09T17:19:51.474934Z"
    }
   },
   "outputs": [
    {
     "name": "stdout",
     "output_type": "stream",
     "text": [
      "Public administration has the highest union membership rate, at 30.7 percent as of January 2022, followed by education and health with 17.6 percent, and construction and mining with 11.8 percent. The manufacturing industry experienced the largest overall percentage point decrease in union membership rates over the past 30 years, and is currently 15.7 percentage points below its February 1989 rate of 23.5 percent. The lowest union membership rate is in finance and business services (2.7 percent). The union membership rate of the industry was 7.2 percent at its 30-year peak in March 1992. \n"
     ]
    }
   ],
   "source": [
    "union_membership_rate = lambda x: np.average(x['UNIONMEM'], weights=x['PWORWGT']) * 100\n",
    "columns = ['MONTH', 'YEAR', 'LFS', 'PWORWGT', 'UNIONMEM', 'INDGRP']\n",
    "\n",
    "df = pd.concat([pd.read_feather(cps_dir / f'cps{year}.ft', columns=columns)\n",
    "                  .query('PWORWGT > 0 and UNIONMEM == UNIONMEM')\n",
    "      for year in range(1989, 2023)])\n",
    "\n",
    "df.INDGRP.cat = df.INDGRP.cat.remove_unused_categories()\n",
    "\n",
    "data = df.groupby(['YEAR', 'MONTH', 'INDGRP']).apply(union_membership_rate).unstack()\n",
    "data.index = [pd.to_datetime(f'{ti[0]}-{ti[1]}-01') for ti in data.index]\n",
    "data.index.name = 'date'\n",
    "data.columns.name = None\n",
    "prev12 = data.iloc[-12:].mean()\n",
    "lval = data.iloc[-1]\n",
    "minval = data.min()\n",
    "maxval = data.max()\n",
    "width = maxval - minval\n",
    "final = pd.concat([lval, prev12, minval, maxval, width], axis=1)\n",
    "final.columns = ['latest', 'prev12', 'min', 'max', 'width']\n",
    "final.index.name = 'name'\n",
    "final = final[['min', 'width', 'latest']].sort_values('latest', ascending=False)\n",
    "final['y'] = [0.13, -0.87, -1.87, -2.87, -3.87, -4.87, -5.87]\n",
    "final.to_csv(data_dir / 'union_ind.csv', sep=';')\n",
    "\n",
    "dec = (maxval - lval).sort_values()\n",
    "dec1 = dec.index[-1]\n",
    "decval1 = dec[-1]\n",
    "decmaxdt = dtxt(data[dec1].idxmax())['mon1']\n",
    "decmaxval = data[dec1].max()\n",
    "decgrp = dec1.lower()\n",
    "lowgroupmaxdt = dtxt(data[final.index[-1]].idxmax())['mon1']\n",
    "lowgrp = final.index[-1].lower()\n",
    "\n",
    "\n",
    "text = (f'{final.index[0]} has the highest union membership rate, '+\n",
    "        f'at {final.latest.iloc[0]:.1f} percent as of {ltdate}, followed by '+\n",
    "        f'{final.index[1].lower()} with {final.latest.iloc[1]:.1f} percent, '+\n",
    "        f'and {final.index[2].lower()} with {final.latest.iloc[2]:.1f} percent. '+\n",
    "        f'The {decgrp} industry '+\n",
    "        'experienced the largest overall percentage point decrease '+\n",
    "        'in union membership rates over the past 30 years, and is '+\n",
    "        f'currently {decval1:.1f} percentage points below its {decmaxdt} '+\n",
    "        f'rate of {decmaxval:.1f} percent. ')\n",
    "txt2 = ('The lowest union membership rate '+\n",
    "        f'is in {lowgrp} ({final.latest.iloc[-1]:.1f} percent). '+\n",
    "        f'The union membership rate of the industry was {data[final.index[-1]].max():.1f} '+\n",
    "        f'percent at its 30-year peak in {lowgroupmaxdt}. ')\n",
    "\n",
    "mfglt = data['Manufacturing'].iloc[-1]\n",
    "mfgpr = data['Manufacturing'].iloc[-13]\n",
    "prdt = dtxt(data.index[-13])['mon1']\n",
    "mfgpr2 = data['Manufacturing'].iloc[-25]\n",
    "prdt2 = dtxt(data.index[-25])['mon1']\n",
    "\n",
    "txt3 = (f'The manufacturing industry union membership rate was {mfglt:.1f} percent in {ltdate}, '+\n",
    "        f'{mfgpr:.1f} percent in {prdt}, and {mfgpr2:.1f} percent in {prdt2}.')\n",
    "\n",
    "if lowgrp == decgrp:\n",
    "    text = text + txt3\n",
    "else:\n",
    "    text = text + txt2\n",
    "\n",
    "write_txt(text_dir / 'union_ind.txt', text)\n",
    "print(text)"
   ]
  },
  {
   "cell_type": "code",
   "execution_count": null,
   "metadata": {},
   "outputs": [],
   "source": []
  },
  {
   "cell_type": "code",
   "execution_count": null,
   "metadata": {},
   "outputs": [],
   "source": []
  },
  {
   "cell_type": "markdown",
   "metadata": {},
   "source": [
    "### Matching YY -- Disability to Work Flows"
   ]
  },
  {
   "cell_type": "code",
   "execution_count": 9,
   "metadata": {
    "ExecuteTime": {
     "end_time": "2022-02-09T17:20:40.827385Z",
     "start_time": "2022-02-09T17:20:03.988954Z"
    }
   },
   "outputs": [
    {
     "name": "stdout",
     "output_type": "stream",
     "text": [
      "Over the year ending January 2022, 8.8 percent of people age 25--54 who were out of the labor force due to disability or illness in the prior year are now employed (see {\\color{blue}\\textbf{---}}). This one-year rate of job-finding has increased substantially from its 2010--2013 average of 5.8 percent.\n"
     ]
    }
   ],
   "source": [
    "cols = ['CPSID', 'AGE', 'FEMALE', 'WBHAO', 'NILFREASON', \n",
    "        'LFS', 'MIS', 'BASICWGT', 'LINENO']\n",
    "\n",
    "emp = lambda x: np.where(x.LFS_y == 'Employed', 1, 0)\n",
    "\n",
    "dates = pd.date_range('1997-01-01', cps_date(), freq='MS')\n",
    "\n",
    "d = {}\n",
    "for dt in dates:\n",
    "    df1 = (cps_1mo(cps_dir, dt - pd.DateOffset(years=1), cols)\n",
    "           .query('NILFREASON == \"Disabled/Ill\"'))\n",
    "    df2 = cps_1mo(cps_dir, dt, cols)\n",
    "    data = (pd.merge(df1, df2, on=['CPSID', 'LINENO', 'FEMALE', 'WBHAO'])\n",
    "              .query('25 <= AGE_y <= 54'))\n",
    "    data = (data.loc[(data.AGE_x <= data.AGE_y) & \n",
    "                     (data.AGE_y - 2 <= data.AGE_x)]).assign(EMP = emp)\n",
    "\n",
    "    d[dt] = np.average(data.EMP, weights=data.BASICWGT_y) * 100\n",
    "    \n",
    "df = pd.Series(d).rolling(12).mean().dropna().rename('Share')\n",
    "\n",
    "df.to_csv(data_dir / 'disflow.csv', index_label='date', header=True)\n",
    "write_txt(text_dir/ 'disflow_node.txt', end_node(df, 'blue', date='m', percent=True))\n",
    "\n",
    "latest = df.iloc[-1]\n",
    "valavg = df.loc['2010-12-01':'2013-12-01'].mean()\n",
    "ltdate = dtxt(df.index[-1])['mon1']\n",
    "\n",
    "text = (f'Over the year ending {ltdate}, {latest:.1f} percent of '+\n",
    "        'people age 25--54 who were out of the labor force due to disability or illness '+\n",
    "        'in the prior year are now employed (see {\\color{blue}\\\\textbf{---}}). '+\n",
    "        'This one-year rate of job-finding has increased '+\n",
    "        f'substantially from its 2010--2013 average of {valavg:.1f} percent.')\n",
    "\n",
    "write_txt(text_dir / 'disflow.txt', text)\n",
    "print(text)\n",
    "#df.plot(color='blue', title='Flow, Disability to Work');"
   ]
  },
  {
   "cell_type": "code",
   "execution_count": null,
   "metadata": {},
   "outputs": [],
   "source": []
  },
  {
   "cell_type": "code",
   "execution_count": null,
   "metadata": {},
   "outputs": [],
   "source": []
  },
  {
   "cell_type": "markdown",
   "metadata": {},
   "source": [
    "### Job switching rate"
   ]
  },
  {
   "cell_type": "code",
   "execution_count": 14,
   "metadata": {
    "ExecuteTime": {
     "end_time": "2022-02-18T20:50:28.120283Z",
     "start_time": "2022-02-18T20:50:24.452832Z"
    }
   },
   "outputs": [
    {
     "name": "stderr",
     "output_type": "stream",
     "text": [
      "/home/brian/miniconda3/lib/python3.8/site-packages/statsmodels/tsa/x13.py:187: X13Warning: WARNING: At least one visually significant trading day peak has been\n",
      "          found in the estimated spectrum of the regARIMA residuals.\n",
      "  \n",
      " WARNING: At least one visually significant trading day peak has been\n",
      "          found in one or more of the estimated spectra.\n",
      "  warn(errors, X13Warning)\n"
     ]
    }
   ],
   "source": [
    "cols = ['YEAR', 'MONTH', 'SAMEEMP', 'BASICWGT', 'LFS']\n",
    "df = pd.concat([pd.read_feather(cps_dir / f'cps{year}.ft', columns=cols)\n",
    "                  .query('LFS == \"Employed\" and SAMEEMP in [0, 1]') \n",
    "                for year in range(1994, 2023)])\n",
    "newemp = (lambda x: x.query('SAMEEMP == 0').BASICWGT.sum()\n",
    "                 / x.BASICWGT.sum())\n",
    "\n",
    "data = (df.groupby(['YEAR', 'MONTH']).apply(newemp)).reset_index()\n",
    "data['date'] = pd.to_datetime(dict(year=data.YEAR, month=data.MONTH, day=1))\n",
    "data = data.set_index('date').drop(['YEAR', 'MONTH'], axis=1) * 100\n",
    "sm = x13_arima_analysis(data)\n",
    "res = pd.concat([sm.seasadj.rename('Monthly'), \n",
    "           sm.seasadj.rolling(3).mean().rename('MA3')], axis=1)\n",
    "res.to_csv(data_dir / 'jobswitch.csv', index_label='date')"
   ]
  },
  {
   "cell_type": "code",
   "execution_count": 16,
   "metadata": {
    "ExecuteTime": {
     "end_time": "2022-02-18T20:51:36.966078Z",
     "start_time": "2022-02-18T20:51:36.940446Z"
    }
   },
   "outputs": [
    {
     "name": "stdout",
     "output_type": "stream",
     "text": [
      "More recent data show a slight increase in job switching rates. In January 2022, 2.5 percent of the workforce had a different employer than the previous month, after seasonal adjustment (see {\\color{orange}\\textbf{---}}). Smoothed data show an average of 2.4 percent of the workforce with a new employer during the three months ending January 2022 (see {\\color{blue}\\textbf{---}}). Prior to COVID-19, in 2019 Q4, a monthly average of 2.2 percent of the workforce switched jobs.\n"
     ]
    }
   ],
   "source": [
    "res = pd.read_csv(data_dir / 'jobswitch.csv', index_col='date', \n",
    "                  parse_dates=True)\n",
    "qcol = 'blue'\n",
    "mcol = 'orange'\n",
    "node = end_node(res['Monthly'], mcol, date='m', percent=True)\n",
    "write_txt(text_dir/ 'jobswitch_node.txt', node)\n",
    "ltdate = dtxt(res.index[-1])['mon1']\n",
    "ltval = f'{res[\"Monthly\"].iloc[-1]:.1f} percent'\n",
    "ltqval = f'{res[\"MA3\"].iloc[-1]:.1f} percent'\n",
    "also = 'also ' if ltval == ltqval else ''\n",
    "ltq = f'the three months ending {ltdate}'\n",
    "pcdt = '2019-12-01'\n",
    "pcqval = f'{res[\"MA3\"].loc[pcdt]:.1f} percent'\n",
    "text = ('More recent data show a slight increase in job switching rates. '+\n",
    "        f'In {ltdate}, {ltval} of the workforce had a '+\n",
    "        'different employer than the previous month, after seasonal '+\n",
    "        f'adjustment {c_line(mcol)}. Smoothed data {also}show an average '+\n",
    "        f'of {ltqval} of the workforce with a new employer during {ltq} '+\n",
    "        f'{c_line(qcol)}. Prior to COVID-19, in {dtxt(pcdt)[\"qtr1\"]}, '+\n",
    "        f'a monthly average of {pcqval} of the workforce switched jobs.')\n",
    "write_txt(text_dir / 'jobswitch.txt', text)\n",
    "print(text)"
   ]
  },
  {
   "cell_type": "code",
   "execution_count": null,
   "metadata": {},
   "outputs": [],
   "source": []
  },
  {
   "cell_type": "code",
   "execution_count": null,
   "metadata": {},
   "outputs": [],
   "source": []
  },
  {
   "cell_type": "markdown",
   "metadata": {},
   "source": [
    "### Young adults school/NILF"
   ]
  },
  {
   "cell_type": "code",
   "execution_count": 11,
   "metadata": {
    "ExecuteTime": {
     "end_time": "2022-02-09T17:20:57.705102Z",
     "start_time": "2022-02-09T17:20:54.904276Z"
    }
   },
   "outputs": [
    {
     "name": "stdout",
     "output_type": "stream",
     "text": [
      "From 1994 to 2000, labor force participation among young people increased slightly. Following the recession of 2001, and carrying through the great recession, participation rates dropped sharply. From 2000 to 2014, annual labor force non-participation increased from 28.2 percent to 39.3 percent for 19 to 21 year olds and from 19.3 percent to 24.6 percent for 22 to 24 year olds (see {\\color{orange!90!yellow}\\textbf{---}}). The overall increase is nearly entirely accounted for by increased college enrollment (see {\\color{blue!50!cyan}\\textbf{---}}).\n",
      "\n",
      "By February 2020, the labor market had improved and the annual non-participation rate was 38.3 percent for 19 to 21 year olds and 22.9 percent for 22 to 24 year olds. In the latest data, covering the 12 months ending January 2022, the rate of non-participation is 39.4 percent for 19 to 21 year olds and 24.1 percent for 22 to 24 year olds. \n"
     ]
    }
   ],
   "source": [
    "sch_stat = lambda x: np.where(x.NILFREASON == 'School', 'School',\n",
    "                     np.where(x.LFS == 'NILF', 'Other', 'LF'))\n",
    "age_grp = lambda x: np.where(x.AGE < 22, '19-21', '22-24')\n",
    "date = lambda x: pd.to_datetime(dict(year=x.YEAR, month=x.MONTH, day=1))\n",
    "\n",
    "datecol = ['YEAR', 'MONTH']\n",
    "cols = ['AGE', 'NILFREASON', 'BASICWGT', 'LFS'] + datecol\n",
    "\n",
    "df = pd.concat([pd.read_feather(cps_dir / f'cps{year}.ft', columns=cols)\n",
    "                  .query('18 < AGE < 25').assign(SCH_STAT = sch_stat, \n",
    "                                                 AGE_GRP = age_grp,\n",
    "                                                 DATE = date) \n",
    "                for year in range(1994, 2023)])\n",
    "\n",
    "res = pd.DataFrame()\n",
    "for ag in ['19-21', '22-24']:\n",
    "    td = df.query('AGE_GRP == @ag')\n",
    "    data = ((td.groupby(['DATE', 'SCH_STAT']).BASICWGT.sum() / \n",
    "             td.groupby('DATE').BASICWGT.sum()) * 100).unstack()\n",
    "    data.columns = [i + '_' + ag for i in data.columns]\n",
    "    data.columns.name = ''\n",
    "    data['Total_' + ag] = 100 - data['LF_' + ag]\n",
    "    data = data.drop('LF_' + ag, axis=1)\n",
    "    res = res.join(data, how='right')\n",
    "    \n",
    "ma = res.rolling(12).mean().dropna()\n",
    "ma.to_csv(data_dir/ 'young_school.csv', index_label='date')\n",
    "\n",
    "colors = [('School_', 'blue!50!cyan'),\n",
    "          ('Other_', 'violet!85!black')]\n",
    "\n",
    "for ag in ['19-21', '22-24']:\n",
    "    node_dt = None if ag == '22-24' else 'm'\n",
    "    node_adj = 0 if ag == '22-24' else -0.25\n",
    "    node = end_node(ma['Total_' + ag], 'orange!90!yellow', percent=True,\n",
    "                    date=node_dt, offset=node_adj, full_year=True)\n",
    "    nodes = '\\n'.join([node] + [end_node(ma[name + ag], color, percent=True) \n",
    "                       for name, color in colors])\n",
    "    write_txt(text_dir/ f'young_nilf{ag}_node.txt', nodes)\n",
    "    \n",
    "t0019 = f'{ma.loc[\"2000-12-01\", \"Total_19-21\"]:.1f}'\n",
    "t0022 = f'{ma.loc[\"2000-12-01\", \"Total_22-24\"]:.1f}'\n",
    "t1119 = f'{ma.loc[\"2014-12-01\", \"Total_19-21\"]:.1f}'\n",
    "t1122 = f'{ma.loc[\"2014-12-01\", \"Total_22-24\"]:.1f}'\n",
    "t1919 = f'{ma.loc[\"2020-02-01\", \"Total_19-21\"]:.1f}'\n",
    "t1922 = f'{ma.loc[\"2020-02-01\", \"Total_22-24\"]:.1f}'\n",
    "tlt19 = f'{ma.loc[cps_date(), \"Total_19-21\"]:.1f}'\n",
    "tlt22 = f'{ma.loc[cps_date(), \"Total_22-24\"]:.1f}'\n",
    "ltdate = dtxt(cps_date())['mon1']    \n",
    "text = ('From 1994 to 2000, labor force participation among young people '+\n",
    "        'increased slightly. Following the recession of 2001, and carrying '+\n",
    "        'through the great recession, participation rates dropped sharply. '+\n",
    "        'From 2000 to 2014, annual labor force non-participation increased '+\n",
    "        f'from {t0019} percent to {t1119} percent for 19 to 21 year olds '+\n",
    "        f'and from {t0022} percent to {t1122} percent for 22 to 24 year olds '+\n",
    "        '(see {\\color{orange!90!yellow}\\\\textbf{---}}). The overall '+\n",
    "        'increase is nearly entirely accounted for by increased college '+\n",
    "        'enrollment (see {\\color{blue!50!cyan}\\\\textbf{---}}).\\n\\nBy February '+\n",
    "        '2020, the labor market had improved and the annual non-participation '+\n",
    "        f'rate was {t1919} percent for 19 to 21 year olds and {t1922} '+\n",
    "        f'percent for 22 to 24 year olds. In the latest data, covering the '+\n",
    "        f'12 months ending {ltdate}, the rate of non-participation is {tlt19} '+\n",
    "        f'percent for 19 to 21 year olds and {tlt22} percent for 22 to 24 '+\n",
    "        'year olds. ')\n",
    "write_txt(text_dir / 'young_nilf.txt', text)\n",
    "print(text)"
   ]
  },
  {
   "cell_type": "code",
   "execution_count": null,
   "metadata": {},
   "outputs": [],
   "source": []
  },
  {
   "cell_type": "code",
   "execution_count": null,
   "metadata": {},
   "outputs": [],
   "source": []
  },
  {
   "cell_type": "markdown",
   "metadata": {},
   "source": [
    "### CPS Labor Force Nonparticipation by Reason\n",
    "\n",
    "Replication using python of a very clever chart by Ernie Tedeschi (@ernietedeschi).\n",
    "\n",
    "[Definitions](https://www.frbatlanta.org/chcs/human-capital-currents/2015/0612-measuring-labor-market-status-using-basic-data.aspx) of labor market status come from the FRB of Atlanta."
   ]
  },
  {
   "cell_type": "code",
   "execution_count": 11,
   "metadata": {
    "ExecuteTime": {
     "end_time": "2022-02-18T04:50:20.504116Z",
     "start_time": "2022-02-18T04:50:13.930145Z"
    }
   },
   "outputs": [],
   "source": [
    "years = range(2000, 2023)\n",
    "ref_pd = (2001, 3)\n",
    "ref_dt = to_date(ref_pd)\n",
    "ages = '18 <= AGE <= 64'\n",
    "wgt = 'BASICWGT'\n",
    "cat = 'NILFREASON'\n",
    "dates = ['YEAR', 'MONTH']\n",
    "dems = ['FEMALE', 'AGE']\n",
    "cols = dates + dems + [wgt, cat]\n",
    "files = [f'cps{year}.ft' for year in years]\n",
    "\n",
    "# CPS Data\n",
    "df = pd.concat([pd.read_feather(cps_dir / file, columns=cols)\n",
    "                  .query(ages) for file in files])\n",
    "\n",
    "p = df.groupby(dates + dems)[wgt].sum().rename('ADJ')\n",
    "sh = (p / p.groupby(dates).sum())\n",
    "adj = (sh.loc[ref_pd] / sh).reset_index()\n",
    "data = (pd.merge(df, adj)\n",
    "          .assign(ADJWGT = lambda x: x.ADJ * x[wgt]))\n",
    "data.NILFREASON.cat.rename_categories({'nan': 'LF'}, \n",
    "                                      inplace=True)\n",
    "\n",
    "# Make Adjustments\n",
    "c = data.groupby(dates + [cat]).ADJWGT.sum()\n",
    "dem_res = (c / c.groupby(dates).sum()).unstack()\n",
    "dem_res.columns = dem_res.columns.to_list()\n",
    "\n",
    "c_nd = data.groupby(dates + [cat])[wgt].sum()\n",
    "nd_res = (c_nd / c_nd.groupby(dates).sum()).unstack()\n",
    "\n",
    "dem_res['Demographics'] = dem_res['LF'] - nd_res['LF']\n",
    "dem_res.index = [to_date(ym) for ym in dem_res.index]\n",
    "\n",
    "keep_cols = dem_res.columns.difference(['LF'])\n",
    "result = (dem_res.rolling(12).mean().dropna()\n",
    "                 .loc[ref_dt:, keep_cols] * 100)\n",
    "\n",
    "final = result.iloc[0] - result\n",
    "final.to_csv(data_dir / 'nilf.csv', index_label='date')"
   ]
  },
  {
   "cell_type": "code",
   "execution_count": 14,
   "metadata": {
    "ExecuteTime": {
     "end_time": "2022-02-18T04:59:05.804590Z",
     "start_time": "2022-02-18T04:59:05.766590Z"
    }
   },
   "outputs": [
    {
     "name": "stdout",
     "output_type": "stream",
     "text": [
      "From March 2001 to the latest available twelve months of data, ending January 2022, an additional 3.3 percent of the age 18--64 population left the labor force. Changes in the demographic composition of the population affect the rate of participation. For example, the larger-than-normal population cohort born after World War II is reaching retirement age in this period. Changes in the age and sex distribution within the age group explain 1.1 percentage points of the cumulative decrease in participation since March 2001 (see {\\color{violet!80!purple}\\textbf{---}}). \n",
      "\n",
      "Additionally, young people are staying in school longer, on average, reducing the age 18--64 labor force by 1.6 percent (see {\\color{cyan}\\textbf{---}}). Disability and illness reduce the labor force by another 0.6 percent (see {\\color{green!80!blue}\\textbf{---}}). Less retirement among those age 18--64 increases the labor force by 0.7 percent, over the period (see {\\color{orange}\\textbf{---}}).\n"
     ]
    }
   ],
   "source": [
    "pd.read_csv(data_dir / 'nilf.csv', index_col='date', parse_dates=True)\n",
    "colors = {'Disabled/Ill': 'green!80!blue', \n",
    "          'Discouraged': 'blue', \n",
    "          'Family': 'red', \n",
    "          'Retired': 'orange', \n",
    "          'School': 'cyan', \n",
    "          'Demographics': 'violet!80!purple'}\n",
    "\n",
    "adj = node_adjust(final, colors)\n",
    "\n",
    "node_file = open(text_dir / 'nilf_nodes.txt', 'w')\n",
    "for series, color in colors.items():\n",
    "    if series in adj.keys():\n",
    "        offset = adj[series]\n",
    "    else:\n",
    "        offset = 0\n",
    "    node_file.write(end_node(final[series], color))\n",
    "node_file.close()\n",
    "\n",
    "ltdate = dtxt(cps_date())['mon1']\n",
    "\n",
    "lt = final.iloc[-1]\n",
    "tot = abs(lt.sum())\n",
    "dem = abs(lt['Demographics'])\n",
    "demc = c_line(colors['Demographics'])\n",
    "sch = abs(lt['School'])\n",
    "schc = c_line(colors['School'])\n",
    "dis = abs(lt['Disabled/Ill'])\n",
    "disc = c_line(colors['Disabled/Ill'])\n",
    "ret = abs(lt['Retired'])\n",
    "retc = c_line(colors['Retired'])\n",
    "\n",
    "text = (f'From March 2001 to the latest available twelve months '+\n",
    "        f'of data, ending {ltdate}, an additional {tot:.1f} percent '+\n",
    "         'of the age 18--64 population left the labor force. Changes '+\n",
    "         'in the demographic composition of the population affect the '+\n",
    "         'rate of participation. For example, the larger-than-normal '+\n",
    "         'population cohort born after World War II is reaching '+\n",
    "         'retirement age in this period. Changes in the age and '+\n",
    "        f'sex distribution within the age group explain {dem:.1f} '+\n",
    "        f'percentage points of the cumulative decrease in participation '+ \n",
    "        f'since March 2001 {demc}. \\n\\nAdditionally, young people are '+\n",
    "        f'staying in school longer, on average, reducing the age 18--64 '+\n",
    "        f'labor force by {sch:.1f} percent {schc}. Disability and '+\n",
    "        f'illness reduce the labor force by another {dis:.1f} percent '+\n",
    "        f'{disc}. Less retirement among those age 18--64 increases the '+\n",
    "        f'labor force by {ret:.1f} percent, over the period {retc}.')\n",
    "write_txt(text_dir / 'nilf_01.txt', text)\n",
    "print(text)"
   ]
  },
  {
   "cell_type": "code",
   "execution_count": 16,
   "metadata": {
    "ExecuteTime": {
     "end_time": "2022-02-18T04:59:50.716835Z",
     "start_time": "2022-02-18T04:59:50.593697Z"
    }
   },
   "outputs": [
    {
     "name": "stdout",
     "output_type": "stream",
     "text": [
      "These labor force non-participants, which do not include those under the age of 16, total 100.4 million in January 2022, or 38.1 percent of the age 16 or older population, compared to 37.0 percent in January 2020. Slightly less than half of non-participants, and 19.2 percent of population, are retirees in January 2022 (see\\cbox{green!80!blue!75!black}). A total of 13.9 million people, or 5.3 percent of the age 15 or older population, are out of the labor force due to disability or illness; 5.7 percent were out of the labor force for school, and 4.9 percent for family or caregiving reasons.\n"
     ]
    }
   ],
   "source": [
    "result, share = pd.DataFrame(), pd.DataFrame()\n",
    "dts = [cps_date(), cps_date() - pd.DateOffset(years=2)]\n",
    "\n",
    "for date in dts:\n",
    "    month =  date.month\n",
    "    year = date.year\n",
    "    data = (pd.read_feather(cps_dir / f'cps{year}.ft', columns=cols)\n",
    "              .query('YEAR == @year and MONTH == @month and AGE > 15'))\n",
    "    \n",
    "    dt = dtxt(date)['mon1']\n",
    "\n",
    "    result[dt] = data.groupby('NILFREASON').BASICWGT.sum()\n",
    "    share[dt] = result[dt] / result[dt].sum() * 100\n",
    "\n",
    "mo1 = dtxt(dts[0])['mon1']\n",
    "mo2 = dtxt(dts[1])['mon1']\n",
    "\n",
    "(share.drop('nan').round(1).sort_values(mo1, ascending=False)\n",
    "       .to_csv(data_dir / 'nilf_comp.csv', index_label='name'))\n",
    "\n",
    "write_txt(text_dir / 'nilf_mo1.txt', mo1)\n",
    "write_txt(text_dir / 'nilf_mo2.txt', mo2)\n",
    "\n",
    "pct = share[mo1]\n",
    "pctpr = share[mo2]\n",
    "lev = result[mo1] / 1_000_000\n",
    "\n",
    "totlev = lev.drop('nan').sum()\n",
    "totpct = pct.drop('nan').sum()\n",
    "totpctpr = pctpr.drop('nan').sum()\n",
    "retpct = pct['Retired']\n",
    "dislev = lev['Disabled/Ill']\n",
    "dispct = pct['Disabled/Ill']\n",
    "schpct = pct['School']\n",
    "carepct = pct['Family']\n",
    "\n",
    "text = ('These labor force non-participants, which do not include '+\n",
    "        f'those under the age of 16, total {totlev:.1f} million '+\n",
    "        f'in {mo1}, or {totpct:.1f} percent of the age 16 or older '+\n",
    "        f'population, compared to {totpctpr:.1f} percent in {mo2}. '+\n",
    "         'Slightly less than half of non-participants, and '+\n",
    "        f'{retpct:.1f} percent of population, are retirees in {mo1} '+\n",
    "        '(see\\cbox{green!80!blue!75!black}). A total of '+\n",
    "        f'{dislev:.1f} million people, or {dispct:.1f} percent of the age '+\n",
    "         '15 or older population, are out of the labor force due to disability '+\n",
    "        f'or illness; {schpct:.1f} percent were out of the labor force for '+\n",
    "        f'school, and {carepct:.1f} percent for family or caregiving reasons.')\n",
    "write_txt(text_dir / 'nilfbasic.txt', text)\n",
    "print(text)"
   ]
  },
  {
   "cell_type": "code",
   "execution_count": null,
   "metadata": {},
   "outputs": [],
   "source": []
  },
  {
   "cell_type": "code",
   "execution_count": null,
   "metadata": {},
   "outputs": [],
   "source": []
  },
  {
   "cell_type": "markdown",
   "metadata": {},
   "source": [
    "### Occupations"
   ]
  },
  {
   "cell_type": "code",
   "execution_count": 16,
   "metadata": {
    "ExecuteTime": {
     "end_time": "2022-02-09T17:21:14.138182Z",
     "start_time": "2022-02-09T17:21:13.612974Z"
    }
   },
   "outputs": [
    {
     "data": {
      "image/png": "[encoded data removed]",
      "text/plain": [
       "<Figure size 432x288 with 1 Axes>"
      ]
     },
     "metadata": {
      "needs_background": "light"
     },
     "output_type": "display_data"
    }
   ],
   "source": [
    "occs = {1   :  'Management occupations',\n",
    "        2   :  'Business and financial operations occupations',\n",
    "        3   :  'Computer and mathematical science occupations',\n",
    "        4   :  'Architecture and engineering occupations',\n",
    "        5   :  'Life, physical, and social science occupations',\n",
    "        6   :  'Community and social service occupations',\n",
    "        7   :  'Legal occupations',\n",
    "        8   :  'Education, training, and library occupations',\n",
    "        9   :  'Arts, design, entertainment, sports, and media',\n",
    "        10  :  'Healthcare practitioner and technical occupations',\n",
    "        11  :  'Healthcare support occupations',\n",
    "        12  :  'Protective service occupations',\n",
    "        13  :  'Food preparation and serving related occupations',\n",
    "        14  :  'Building and grounds cleaning and maintenance',\n",
    "        15  :  'Personal care and service occupations',\n",
    "        16  :  'Sales and related occupations',\n",
    "        17  :  'Office and administrative support occupations',\n",
    "        18  :  'Farming, fishing, and forestry occupations',\n",
    "        19  :  'Construction and extraction occupations',\n",
    "        20  :  'Installation, maintenance, and repair occupations',\n",
    "        21  :  'Production occupations',\n",
    "        22  :  'Transportation and material moving occupations'}\n",
    "\n",
    "cols = ['MONTH', 'YEAR', 'LFS', 'PWSSWGT', 'OCC03D', 'OCC203D', 'WORKFT', 'COW1', 'COW2']\n",
    "\n",
    "df = cps_3mo(cps_dir, cps_date(), cols)\n",
    "df2 = cps_3mo(cps_dir, cps_date() - pd.DateOffset(months=24), cols)\n",
    "\n",
    "df['OCC03D'] = df['OCC03D'].map(occs)\n",
    "df2['OCC03D'] = df2['OCC03D'].map(occs)\n",
    "\n",
    "data = pd.DataFrame()\n",
    "\n",
    "data['FT'] = (((df.query('WORKFT == 1').groupby('OCC03D').PWSSWGT.sum() / df.PWSSWGT.sum()) - \n",
    "              (df2.query('WORKFT == 1').groupby('OCC03D').PWSSWGT.sum() / df.PWSSWGT.sum())) * 100)\n",
    "data['PT'] = (((df.query('WORKFT == 0').groupby('OCC03D').PWSSWGT.sum() / df.PWSSWGT.sum()) - \n",
    "              (df2.query('WORKFT == 0').groupby('OCC03D').PWSSWGT.sum() / df.PWSSWGT.sum())) * 100)\n",
    "data['Total'] = data.sum(axis=1)\n",
    "\n",
    "data.index = data.index.str.replace('occupations', '').str.replace('and', '\\&')\n",
    "\n",
    "data = data.sort_values('Total')\n",
    "data.drop('Total', axis=1).to_csv(data_dir / 'occs.csv', sep=';', index_label='name', header=True)\n",
    "\n",
    "data.drop('Total', axis=1).plot(kind='barh', stacked=True);\n",
    "\n",
    "data1 = data.drop('Total', axis=1)"
   ]
  },
  {
   "cell_type": "code",
   "execution_count": null,
   "metadata": {},
   "outputs": [],
   "source": []
  },
  {
   "cell_type": "code",
   "execution_count": null,
   "metadata": {},
   "outputs": [],
   "source": []
  },
  {
   "cell_type": "markdown",
   "metadata": {},
   "source": [
    "### Atlanta Fed WGT"
   ]
  },
  {
   "cell_type": "code",
   "execution_count": 2,
   "metadata": {
    "ExecuteTime": {
     "end_time": "2022-02-16T04:12:44.138142Z",
     "start_time": "2022-02-16T04:12:10.292895Z"
    }
   },
   "outputs": [],
   "source": [
    "cols = ['AGE', 'HRWAGE', 'ATLFLG', 'FEMALE', 'CPSID', 'WBHAO', \n",
    "        'LINENO', 'WKEARN']\n",
    "mergecol = ['CPSID', 'LINENO', 'FEMALE', 'WBHAO']\n",
    "filters = 'HRWAGE >= 2.13 and ATLFLG == 1'\n",
    "dates = pd.date_range('1997-01-01', cps_date(), freq='MS')\n",
    "d, d2, d3 = {}, {}, {}\n",
    "for dt in dates:\n",
    "    df1 = cps_1mo(cps_dir, dt - pd.DateOffset(years=1), \n",
    "                  cols).query(filters)\n",
    "    df2 = cps_1mo(cps_dir, dt, cols).query(filters)\n",
    "    data = (pd.merge(df1, df2, on=mergecol))\n",
    "    data = (data.loc[(data.AGE_x <= data.AGE_y) & \n",
    "                     (data.AGE_y - 2 <= data.AGE_x)])\n",
    "    wage_change_array = ((data['HRWAGE_y'] / data['HRWAGE_x']) - 1) * 100\n",
    "    wkpy_change_array = ((data['WKEARN_y'] / data['WKEARN_x']) - 1) * 100\n",
    "    d[dt] = wage_change_array.median()\n",
    "    d3[dt] = wkpy_change_array.median()\n",
    "    zwc = (len(wage_change_array[(wage_change_array >= -0.5) & \n",
    "                                 (wage_change_array <= 0.5)]) / \n",
    "           len(wage_change_array)) * 100\n",
    "    d2[dt] = zwc\n",
    "\n",
    "result = pd.Series(d, name='bd_cps').to_frame()\n",
    "result['3ma'] = result.rolling(3).mean()\n",
    "result['wk'] = pd.Series(d3, name='wkpy').to_frame()\n",
    "result['wk3ma'] = result['wk'].rolling(3).mean()\n",
    "result['zwc'] = pd.Series(d2).rolling(3).mean()\n",
    "result.to_csv(data_dir/ 'atl_wgt.csv', index_label='date')"
   ]
  },
  {
   "cell_type": "code",
   "execution_count": 10,
   "metadata": {
    "ExecuteTime": {
     "end_time": "2022-02-24T16:10:22.572175Z",
     "start_time": "2022-02-24T16:10:22.563413Z"
    }
   },
   "outputs": [
    {
     "name": "stdout",
     "output_type": "stream",
     "text": [
      "Replication of the wage growth tracker using the bd CPS shows matched-observation hourly wage growth of 6.2 percent in January 2022 (see {\\color{orange!60!white}\\textbf{---}}), and average wage growth of 5.4 percent over the three months ending January 2022 (see {\\color{blue!75!cyan}\\textbf{---}}). One year prior, in January 2021, three-month moving average wage growth was 3.4 percent. Matched observation weekly wage growth, which is affected by changes in hours worked, increased 6.8 percent over the year ending January 2022 (see right chart).\n",
      "In January 2022, 12.3 percent of individuals had no hourly wage growth, compared to 12.9 in December 2021 (see {\\color{red}\\textbf{---}}). One year prior, in January 2021, 14.4 percent of individuals had no wage growth.\n"
     ]
    }
   ],
   "source": [
    "df = pd.read_csv(data_dir / 'atl_wgt.csv', \n",
    "                 index_col='date', parse_dates=True)\n",
    "ltdt = dtxt(df.index[-1])['mon1']\n",
    "ltval = df['bd_cps'].iloc[-1]\n",
    "lt3m = df['3ma'].iloc[-1]\n",
    "yrdt = dtxt(df.index[-13])['mon1']\n",
    "pr3m = df['3ma'].iloc[-13]\n",
    "also = 'also' if round(lt3m) == round(pr3m) else ''\n",
    "\n",
    "col = 'orange!60!white'\n",
    "col3 = 'blue!75!cyan'\n",
    "wval = value_text(df.wk.iloc[-1])\n",
    "text = ('Replication of the wage growth tracker using '+\n",
    "        'the bd CPS shows matched-observation hourly wage '+\n",
    "        f'growth of {ltval:.1f} percent in {ltdt} {c_line(col)}, '+\n",
    "        f'and average wage growth of {lt3m:.1f} percent over '+\n",
    "        f'the three months ending {ltdt} {c_line(col3)}. '+\n",
    "        f'One year prior, in {yrdt}, three-month moving average '+\n",
    "        f'wage growth was {also}{pr3m:.1f} percent. Matched '+\n",
    "        'observation weekly wage growth, which is affected '+\n",
    "        f'by changes in hours worked, {wval} over the year '+\n",
    "        f'ending {ltdt} (see right chart).')\n",
    "write_txt(text_dir / 'atl_wgt.txt', text)\n",
    "print(text)\n",
    "\n",
    "ltval = df['zwc'].iloc[-1]\n",
    "prval = df['zwc'].iloc[-2]\n",
    "prdate = dtxt(df.index[-2])['mon1']\n",
    "yrval = df['zwc'].iloc[-13]\n",
    "\n",
    "zcol = 'red'\n",
    "node = end_node(df['zwc'], zcol, date='m', \n",
    "                full_year=True, percent=True)\n",
    "write_txt(text_dir/ 'zwc_node.txt', node)\n",
    "\n",
    "text = (f'In {ltdt}, {ltval:.1f} '+\n",
    "        'percent of individuals had no hourly wage growth, '+\n",
    "        f'compared to {prval:.1f} in {prdate} {c_line(zcol)}. '+\n",
    "        f'One year prior, in {yrdt}, {yrval:.1f} percent of '+\n",
    "        'individuals had no wage growth.')\n",
    "write_txt(text_dir / 'atl_zwc.txt', text)\n",
    "print(text)"
   ]
  },
  {
   "cell_type": "code",
   "execution_count": null,
   "metadata": {},
   "outputs": [],
   "source": []
  },
  {
   "cell_type": "code",
   "execution_count": null,
   "metadata": {},
   "outputs": [],
   "source": []
  },
  {
   "cell_type": "markdown",
   "metadata": {},
   "source": [
    "### Unemployment Rate for Smaller Groups"
   ]
  },
  {
   "cell_type": "code",
   "execution_count": 18,
   "metadata": {
    "ExecuteTime": {
     "end_time": "2022-02-09T17:21:49.174495Z",
     "start_time": "2022-02-09T17:21:48.831638Z"
    }
   },
   "outputs": [],
   "source": [
    "cols = ['YEAR', 'MONTH', 'WBHAOM', 'BASICWGT', 'LFS', 'AGE', 'FEMALE']\n",
    "groups = ['White', 'Black', 'Hispanic', 'Asian', 'Native American', 'More than one']\n",
    "\n",
    "unrate = lambda x: np.average(x['UNEMP'], weights=x['BASICWGT']) * 100\n",
    "unsh = lambda x: (x['UNEMP'] * x['BASICWGT']).sum()\n",
    "unemp = lambda x: np.where(x['LFS'] == 'Unemployed', 1, \n",
    "                  np.where(x['LFS'] == 'Employed', 0, np.nan))\n",
    "\n",
    "\n",
    "df, df2, df3 = pd.DataFrame(), pd.DataFrame(), pd.DataFrame()\n",
    "for dt in [cps_date(), cps_date() - pd.DateOffset(months=24)]:\n",
    "    data = (cps_6mo(cps_dt=pd.to_datetime(dt), cols=cols, cps_dir=cps_dir)\n",
    "            .assign(UNEMP = unemp)\n",
    "            .query('AGE > 15 and AGE < 65 and LFS != \"NILF\"'))\n",
    "    \n",
    "    srs = data.groupby('WBHAOM').apply(unrate)\n",
    "    df[dtxt(dt)['mon2']] = srs.loc[groups]\n",
    "    \n",
    "    unemptot = (data['UNEMP'] * data['BASICWGT']).sum()\n",
    "    srs2 = (data.groupby('WBHAOM').apply(unsh) / unemptot) * 100\n",
    "    df2[dtxt(dt)['mon2']] = srs2.loc[groups]\n",
    "    pop = data.BASICWGT.sum()\n",
    "    popsh = (data.groupby('WBHAOM').BASICWGT.sum() / pop) * 100\n",
    "    df3[dtxt(dt)['mon2']] = popsh.loc[groups]\n",
    "\n",
    "df.index.name = ''\n",
    "df.to_csv(data_dir / 'unemp_grp.csv', index_label='name', header=True)\n",
    "df2.index.name = ''\n",
    "df2['pop'] = df3.mean(axis=1)\n",
    "df2.to_csv(data_dir / 'unemp_grpsh.csv', index_label='name', header=True)"
   ]
  },
  {
   "cell_type": "code",
   "execution_count": 19,
   "metadata": {
    "ExecuteTime": {
     "end_time": "2022-02-09T17:21:55.886577Z",
     "start_time": "2022-02-09T17:21:49.175763Z"
    }
   },
   "outputs": [],
   "source": [
    "cols = ['MONTH', 'YEAR', 'LFS', 'PWSSWGT', 'AGE', 'WBHAOM', 'FEMALE']\n",
    "df1 = cps_6mo(cps_dir, cps_date() - pd.DateOffset(months=24), cols)\n",
    "df2 = cps_6mo(cps_dir, cps_date(), cols)\n",
    "\n",
    "ages = [(18, 64), (25, 54), (16, 24), (25, 34), (35, 44), (45, 54), (55, 64), (65, 74)]\n",
    "groups = ['White', 'Black', 'Hispanic', 'Asian', 'Native American', 'More than one']\n",
    "sex = [[0], [1], [0, 1]] \n",
    "\n",
    "results = pd.DataFrame()\n",
    "for a, g, s in itertools.product(ages, groups, sex):\n",
    "    row_name = f'{a[0]}--{a[1]}'\n",
    "    col_name = f'{g} {[\"Female\" if s == [1] else \"Male\" if s == [0] else \"Total\"][0]}'\n",
    "    for yr, df in [('Year Ago', df1), ('Latest', df2)]:\n",
    "        data = df.query('@a[0] <= AGE <= @a[1] and WBHAOM == @g and FEMALE in @s')\n",
    "        i = data.groupby('LFS').PWSSWGT.sum()\n",
    "        results.loc[row_name, f'{yr} {col_name}'] = (i.Unemployed / (i.Unemployed + i.Employed)) * 100\n",
    "        \n",
    "results.iloc[:, :-12].to_csv(data_dir / 'unempgroups.csv', index_label='name')\n",
    "results.iloc[:2, -12:].to_csv(data_dir / 'unempgroups2.csv', index_label='name')"
   ]
  },
  {
   "cell_type": "code",
   "execution_count": 20,
   "metadata": {
    "ExecuteTime": {
     "end_time": "2022-02-09T17:21:56.929166Z",
     "start_time": "2022-02-09T17:21:55.887710Z"
    }
   },
   "outputs": [],
   "source": [
    "ages = [(18, 64), (25, 54), (16, 24), (25, 34), (35, 44), (45, 54), (55, 64), (65, 74)]\n",
    "sex = [[0], [1], [0, 1]] \n",
    "\n",
    "results = pd.DataFrame()\n",
    "for a, s in itertools.product(ages, sex):\n",
    "    row_name = f'{a[0]}--{a[1]}'\n",
    "    col_name = f'{[\"Female\" if s == [1] else \"Male\" if s == [0] else \"Total\"][0]}'\n",
    "    for yr, df in [('Year Ago', df1), ('Latest', df2)]:\n",
    "        data = df.query('@a[0] <= AGE <= @a[1] and FEMALE in @s')\n",
    "        i = data.groupby('LFS').PWSSWGT.sum()\n",
    "        results.loc[row_name, f'{yr} {col_name}'] = (i.Unemployed / (i.Unemployed + i.Employed)) * 100\n",
    "        \n",
    "results.to_csv(data_dir / 'unempgroups3.csv', index_label='name')"
   ]
  },
  {
   "cell_type": "code",
   "execution_count": null,
   "metadata": {},
   "outputs": [],
   "source": []
  },
  {
   "cell_type": "code",
   "execution_count": null,
   "metadata": {},
   "outputs": [],
   "source": []
  },
  {
   "cell_type": "markdown",
   "metadata": {},
   "source": [
    "### Usual hours worked"
   ]
  },
  {
   "cell_type": "code",
   "execution_count": 21,
   "metadata": {
    "ExecuteTime": {
     "end_time": "2022-02-09T17:21:57.615559Z",
     "start_time": "2022-02-09T17:21:56.930101Z"
    }
   },
   "outputs": [],
   "source": [
    "hrs = lambda x: np.where(x.HRSUSL1 == -4, x.HRSUSL1I,\n",
    "                np.where(x.HRSUSL1 > 0, x.HRSUSL1,\n",
    "                         np.nan))\n",
    "\n",
    "wgt_avg = lambda x: np.average(x.HRS, weights=x.BASICWGT)\n",
    "\n",
    "cols = ['HRSUSL1', 'HRSUSL1I', 'BASICWGT', 'LFS', 'YEAR', 'MONTH']\n",
    "\n",
    "data = pd.concat([(pd.read_feather(f'{cps_dir}/cps{year}.ft', columns=cols)\n",
    "                     .assign(HRS = hrs).query('HRS > 0'))\n",
    "                  for year in range(2018, 2023)])\n",
    "\n",
    "grp_data = data.groupby(['YEAR', 'MONTH']).apply(wgt_avg)\n",
    "grp_data.index = [to_date(ym) for ym in grp_data.index]\n",
    "\n",
    "sa_cps = x13_arima_analysis(grp_data).seasadj\n",
    "\n",
    "sa_cps.to_csv(data_dir / 'uslhrs.csv', index_label='name')"
   ]
  },
  {
   "cell_type": "code",
   "execution_count": null,
   "metadata": {},
   "outputs": [],
   "source": []
  },
  {
   "cell_type": "code",
   "execution_count": null,
   "metadata": {},
   "outputs": [],
   "source": []
  },
  {
   "cell_type": "markdown",
   "metadata": {},
   "source": [
    "### LFS by Age"
   ]
  },
  {
   "cell_type": "code",
   "execution_count": 2,
   "metadata": {
    "ExecuteTime": {
     "end_time": "2022-02-09T17:52:46.748081Z",
     "start_time": "2022-02-09T17:52:46.666439Z"
    }
   },
   "outputs": [],
   "source": [
    "lfs2 = lambda x: np.where(((x.AGE < 16) | (x.NILFREASON == 'School')), 'Child/Student',\n",
    "                 np.where(((x.LFS == 'Unemployed') | (x.NILFREASON == 'Discouraged') | \n",
    "                           (x.NILFREASON == 'Other')), 'Unemployed/Discouraged/Other',\n",
    "                 np.where(x.LFS == 'Employed', 'Employed', x.NILFREASON)))\n",
    "\n",
    "cols = ['YEAR', 'MONTH', 'AGE', 'NILFREASON', 'LFS', 'PWSSWGT']\n",
    "df = (cps_1mo(cps_dir, dt, cols).assign(LFS2 = lfs2))\n",
    "df2 = df.copy()\n",
    "df2.loc[:,'AGE'] = df.AGE + 1\n",
    "df3 = df.copy()\n",
    "df3.loc[:,'AGE'] = df.AGE - 1\n",
    "df = df.append(df2).append(df3)\n",
    "data = (df.groupby(['AGE', 'LFS2']).PWSSWGT.sum().unstack()\n",
    "          .divide(df.groupby('AGE').PWSSWGT.sum(), axis=0))\n",
    "data.columns.name = ''\n",
    "data = data.fillna(0) * 100\n",
    "data.to_csv(data_dir / 'lfs_age.csv', index_label='AGE')"
   ]
  },
  {
   "cell_type": "code",
   "execution_count": 3,
   "metadata": {
    "ExecuteTime": {
     "end_time": "2022-02-09T17:52:48.377463Z",
     "start_time": "2022-02-09T17:52:48.281477Z"
    }
   },
   "outputs": [],
   "source": [
    "df = (cps_1mo(cps_dir, pcdt, cols).assign(LFS2 = lfs2))\n",
    "df2 = df.copy()\n",
    "df2.loc[:,'AGE'] = df.AGE + 1\n",
    "df3 = df.copy()\n",
    "df3.loc[:,'AGE'] = df.AGE - 1\n",
    "df = df.append(df2).append(df3)\n",
    "data2 = (df.groupby(['AGE', 'LFS2']).PWSSWGT.sum().unstack()\n",
    "           .divide(df.groupby('AGE').PWSSWGT.sum(), axis=0))\n",
    "data2.columns.name = ''\n",
    "data2 = data2.fillna(0) * 100\n",
    "result = (data - data2).loc[15:].rename({'Child/Student': 'Student'}, axis=1)\n",
    "result.to_csv(data_dir / 'lfs_age_ch.csv', index_label='AGE')"
   ]
  },
  {
   "cell_type": "code",
   "execution_count": 4,
   "metadata": {
    "ExecuteTime": {
     "end_time": "2022-02-09T17:52:51.873206Z",
     "start_time": "2022-02-09T17:52:51.861801Z"
    }
   },
   "outputs": [
    {
     "data": {
      "text/html": [
       "<div>\n",
       "<style scoped>\n",
       "    .dataframe tbody tr th:only-of-type {\n",
       "        vertical-align: middle;\n",
       "    }\n",
       "\n",
       "    .dataframe tbody tr th {\n",
       "        vertical-align: top;\n",
       "    }\n",
       "\n",
       "    .dataframe thead th {\n",
       "        text-align: right;\n",
       "    }\n",
       "</style>\n",
       "<table border=\"1\" class=\"dataframe\">\n",
       "  <thead>\n",
       "    <tr style=\"text-align: right;\">\n",
       "      <th></th>\n",
       "      <th>Student</th>\n",
       "      <th>Disabled/Ill</th>\n",
       "      <th>Employed</th>\n",
       "      <th>Family</th>\n",
       "      <th>Retired</th>\n",
       "      <th>Unemployed/Discouraged/Other</th>\n",
       "    </tr>\n",
       "    <tr>\n",
       "      <th>AGE</th>\n",
       "      <th></th>\n",
       "      <th></th>\n",
       "      <th></th>\n",
       "      <th></th>\n",
       "      <th></th>\n",
       "      <th></th>\n",
       "    </tr>\n",
       "  </thead>\n",
       "  <tbody>\n",
       "    <tr>\n",
       "      <th>15</th>\n",
       "      <td>-0.133339</td>\n",
       "      <td>0.134365</td>\n",
       "      <td>-0.050089</td>\n",
       "      <td>0.250591</td>\n",
       "      <td>-0.055179</td>\n",
       "      <td>-0.146344</td>\n",
       "    </tr>\n",
       "    <tr>\n",
       "      <th>16</th>\n",
       "      <td>-1.047157</td>\n",
       "      <td>0.260939</td>\n",
       "      <td>1.077488</td>\n",
       "      <td>0.225017</td>\n",
       "      <td>-0.083381</td>\n",
       "      <td>-0.432903</td>\n",
       "    </tr>\n",
       "    <tr>\n",
       "      <th>17</th>\n",
       "      <td>-0.994194</td>\n",
       "      <td>0.235682</td>\n",
       "      <td>1.096285</td>\n",
       "      <td>0.038766</td>\n",
       "      <td>-0.111287</td>\n",
       "      <td>-0.265258</td>\n",
       "    </tr>\n",
       "    <tr>\n",
       "      <th>18</th>\n",
       "      <td>-0.543880</td>\n",
       "      <td>0.125492</td>\n",
       "      <td>1.122368</td>\n",
       "      <td>-0.270716</td>\n",
       "      <td>0.003696</td>\n",
       "      <td>-0.436965</td>\n",
       "    </tr>\n",
       "    <tr>\n",
       "      <th>19</th>\n",
       "      <td>0.608105</td>\n",
       "      <td>0.155104</td>\n",
       "      <td>0.174820</td>\n",
       "      <td>-0.137507</td>\n",
       "      <td>0.016540</td>\n",
       "      <td>-0.817064</td>\n",
       "    </tr>\n",
       "    <tr>\n",
       "      <th>...</th>\n",
       "      <td>...</td>\n",
       "      <td>...</td>\n",
       "      <td>...</td>\n",
       "      <td>...</td>\n",
       "      <td>...</td>\n",
       "      <td>...</td>\n",
       "    </tr>\n",
       "    <tr>\n",
       "      <th>77</th>\n",
       "      <td>0.212840</td>\n",
       "      <td>0.301840</td>\n",
       "      <td>-2.480710</td>\n",
       "      <td>0.092768</td>\n",
       "      <td>1.439354</td>\n",
       "      <td>0.433911</td>\n",
       "    </tr>\n",
       "    <tr>\n",
       "      <th>78</th>\n",
       "      <td>0.298190</td>\n",
       "      <td>-0.039512</td>\n",
       "      <td>-1.085244</td>\n",
       "      <td>-0.107971</td>\n",
       "      <td>0.350731</td>\n",
       "      <td>0.583817</td>\n",
       "    </tr>\n",
       "    <tr>\n",
       "      <th>79</th>\n",
       "      <td>-0.082966</td>\n",
       "      <td>-0.560338</td>\n",
       "      <td>-0.789434</td>\n",
       "      <td>-0.144720</td>\n",
       "      <td>1.282745</td>\n",
       "      <td>0.294716</td>\n",
       "    </tr>\n",
       "    <tr>\n",
       "      <th>80</th>\n",
       "      <td>-0.130091</td>\n",
       "      <td>-0.707684</td>\n",
       "      <td>-0.892290</td>\n",
       "      <td>-0.118166</td>\n",
       "      <td>1.623466</td>\n",
       "      <td>0.224770</td>\n",
       "    </tr>\n",
       "    <tr>\n",
       "      <th>81</th>\n",
       "      <td>-0.178854</td>\n",
       "      <td>-0.720866</td>\n",
       "      <td>-0.884561</td>\n",
       "      <td>-0.123135</td>\n",
       "      <td>1.725311</td>\n",
       "      <td>0.182100</td>\n",
       "    </tr>\n",
       "  </tbody>\n",
       "</table>\n",
       "<p>67 rows × 6 columns</p>\n",
       "</div>"
      ],
      "text/plain": [
       "      Student  Disabled/Ill  Employed    Family   Retired  \\\n",
       "AGE                                                         \n",
       "15  -0.133339      0.134365 -0.050089  0.250591 -0.055179   \n",
       "16  -1.047157      0.260939  1.077488  0.225017 -0.083381   \n",
       "17  -0.994194      0.235682  1.096285  0.038766 -0.111287   \n",
       "18  -0.543880      0.125492  1.122368 -0.270716  0.003696   \n",
       "19   0.608105      0.155104  0.174820 -0.137507  0.016540   \n",
       "..        ...           ...       ...       ...       ...   \n",
       "77   0.212840      0.301840 -2.480710  0.092768  1.439354   \n",
       "78   0.298190     -0.039512 -1.085244 -0.107971  0.350731   \n",
       "79  -0.082966     -0.560338 -0.789434 -0.144720  1.282745   \n",
       "80  -0.130091     -0.707684 -0.892290 -0.118166  1.623466   \n",
       "81  -0.178854     -0.720866 -0.884561 -0.123135  1.725311   \n",
       "\n",
       "     Unemployed/Discouraged/Other  \n",
       "AGE                                \n",
       "15                      -0.146344  \n",
       "16                      -0.432903  \n",
       "17                      -0.265258  \n",
       "18                      -0.436965  \n",
       "19                      -0.817064  \n",
       "..                            ...  \n",
       "77                       0.433911  \n",
       "78                       0.583817  \n",
       "79                       0.294716  \n",
       "80                       0.224770  \n",
       "81                       0.182100  \n",
       "\n",
       "[67 rows x 6 columns]"
      ]
     },
     "execution_count": 4,
     "metadata": {},
     "output_type": "execute_result"
    }
   ],
   "source": [
    "result"
   ]
  },
  {
   "cell_type": "code",
   "execution_count": null,
   "metadata": {},
   "outputs": [],
   "source": []
  },
  {
   "cell_type": "code",
   "execution_count": null,
   "metadata": {},
   "outputs": [],
   "source": []
  },
  {
   "cell_type": "markdown",
   "metadata": {},
   "source": [
    "### Labor Force Participation"
   ]
  },
  {
   "cell_type": "code",
   "execution_count": 108,
   "metadata": {
    "ExecuteTime": {
     "end_time": "2022-02-18T15:30:47.718743Z",
     "start_time": "2022-02-18T15:30:15.587253Z"
    }
   },
   "outputs": [
    {
     "name": "stderr",
     "output_type": "stream",
     "text": [
      "/home/brian/miniconda3/lib/python3.8/site-packages/statsmodels/tsa/x13.py:187: X13Warning: NOTE: Unable to test AO2020.Apr due to regression matrix singularity.\n",
      "       The effect of this outlier is already accounted for by other regressors \n",
      "       (usually user-specified or previously identified outliers).\n",
      "\n",
      " NOTE: Unable to test LS2020.Mar due to regression matrix singularity.\n",
      "       The effect of this outlier is already accounted for by other regressors \n",
      "       (usually user-specified or previously identified outliers).\n",
      "  \n",
      " WARNING: At least one visually significant trading day peak has been\n",
      "          found in the estimated spectrum of the regARIMA residuals.\n",
      "  warn(errors, X13Warning)\n"
     ]
    }
   ],
   "source": [
    "final = pd.DataFrame()\n",
    "years = range(1989, 2023)\n",
    "compdt = (2000, 1)\n",
    "dates = ['YEAR', 'MONTH']\n",
    "dems = ['AGE', 'FEMALE']\n",
    "cols = dates + ['AGE', 'FEMALE', 'BASICWGT', 'LFS']\n",
    "files = [f'cps{year}.ft' for year in years]\n",
    "sex = [('Men', [0]), ('Women', [1]), ('Total', [0, 1])]\n",
    "for name, grp in sex:\n",
    "    query = 'AGE >= 16 and FEMALE in @grp'\n",
    "    # CPS Data\n",
    "    df = pd.concat([pd.read_feather(cps_dir / file, columns=cols)\n",
    "                      .query(query) for file in files])\n",
    "    p = df.groupby(dates + dems)[wgt].sum().rename('ADJ')\n",
    "    sh = (p / p.groupby(dates).sum())\n",
    "    adj = (sh.loc[compdt] / sh).reset_index()\n",
    "    data = (pd.merge(df, adj)\n",
    "              .assign(ADJWGT = lambda x: x.ADJ * x[wgt]))\n",
    "    wgts = ['BASICWGT', 'ADJWGT']\n",
    "    res = pd.DataFrame({wgt: (1 - (data.groupby(dates + ['LFS'])[wgt].sum() / \n",
    "                                   data.groupby(dates)[wgt].sum())\n",
    "                              .unstack()['NILF']\n",
    "                             ).multiply(100).dropna()\n",
    "                  for wgt in wgts})\n",
    "    res.index = [to_date(ym) for ym in res.index]\n",
    "    sa = pd.DataFrame({f'{i}_{name}': x13_arima_analysis(res[i]).seasadj \n",
    "                       for i in wgts})    \n",
    "    final = pd.concat([final, sa], axis=1)\n",
    "final.to_csv(data_dir / 'lfpr_adj.csv', index_label='date')"
   ]
  },
  {
   "cell_type": "code",
   "execution_count": 131,
   "metadata": {
    "ExecuteTime": {
     "end_time": "2022-02-18T16:19:43.219266Z",
     "start_time": "2022-02-18T16:19:43.199446Z"
    }
   },
   "outputs": [
    {
     "name": "stdout",
     "output_type": "stream",
     "text": [
      "Reweighting the population to match the age composition in 2000 suggests the aging of the US population since 2000 has reduced total labor force participation by 3.6 percentage points. \n"
     ]
    }
   ],
   "source": [
    "df = pd.read_csv(data_dir / 'lfpr_adj.csv', index_col='date', \n",
    "                 parse_dates=True)\n",
    "ltdt = dtxt(df.index[-1])['mon1']\n",
    "write_txt(text_dir / 'lfpr_cpsdate.txt', ltdt)\n",
    "colors = {'Total': 'green!70!lime', 'Men': 'blue!40!cyan', \n",
    "          'Women': 'orange!40!yellow'}\n",
    "nodes = (end_node(df['ADJWGT_Men'], colors['Men'], \n",
    "                  percent=True, date='m', full_year=True, \n",
    "                  offset=0.35) + '\\n' + \n",
    "         '\\n'.join(end_node(df[f'ADJWGT_{name}'], color, \n",
    "                            percent=True) \n",
    "                   for name, color in colors.items() \n",
    "                   if name != 'Men'))\n",
    "write_txt(text_dir / 'lfpr_nodes_adj.txt', nodes)\n",
    "\n",
    "lt = final.iloc[-1]\n",
    "diffval = lt['ADJWGT_Total'] - lt['BASICWGT_Total']\n",
    "text = ('Reweighting the population to match the '+\n",
    "        f'age composition in {compdt[0]} suggests the aging '+\n",
    "        f'of the US population since {compdt[0]} has reduced '+\n",
    "        f'total labor force participation by {diffval:.1f} '+\n",
    "        f'percentage points. ')\n",
    "write_txt(text_dir / 'lfpr_adj.txt', text)\n",
    "print(text)"
   ]
  },
  {
   "cell_type": "code",
   "execution_count": null,
   "metadata": {},
   "outputs": [],
   "source": []
  },
  {
   "cell_type": "code",
   "execution_count": null,
   "metadata": {},
   "outputs": [],
   "source": []
  }
 ],
 "metadata": {
  "kernelspec": {
   "display_name": "Python 3",
   "language": "python",
   "name": "python3"
  },
  "language_info": {
   "codemirror_mode": {
    "name": "ipython",
    "version": 3
   },
   "file_extension": ".py",
   "mimetype": "text/x-python",
   "name": "python",
   "nbconvert_exporter": "python",
   "pygments_lexer": "ipython3",
   "version": "3.8.8"
  }
 },
 "nbformat": 4,
 "nbformat_minor": 2
}
