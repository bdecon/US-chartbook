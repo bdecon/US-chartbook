{
 "cells": [
  {
   "cell_type": "code",
   "execution_count": 36,
   "metadata": {},
   "outputs": [],
   "source": [
    "import pandas as pd\n",
    "import numpy as np"
   ]
  },
  {
   "cell_type": "code",
   "execution_count": 37,
   "metadata": {},
   "outputs": [],
   "source": [
    "path = '/home/brian/Documents/CPS/data/clean/'\n",
    "\n",
    "cols = ['LFS', 'BASICWGT', 'PWSSWGT', 'AGE', 'MONTH', 'YEAR', 'FEMALE']"
   ]
  },
  {
   "cell_type": "code",
   "execution_count": 38,
   "metadata": {},
   "outputs": [],
   "source": [
    "df = pd.concat([pd.read_feather(f'{path}cps{year}.ft', columns=cols) \n",
    "                for year in range(1989, 2020)], sort=False)\n",
    "\n",
    "df['WGT'] = np.where(df['YEAR'] > 1993, df['PWSSWGT'], df['BASICWGT'])\n",
    "df['DATE'] = pd.to_datetime(dict(year=df.YEAR, month=df.MONTH, day=1))\n",
    "data = df.groupby(['DATE', 'LFS']).WGT.sum().unstack().rename({'nan': 'Children'}, axis=1) / 1000000\n",
    "file = '/home/brian/Documents/uschartbook/chartbook/data/cps_lfs.csv'\n",
    "data.to_csv(file, index_label='date')"
   ]
  },
  {
   "cell_type": "code",
   "execution_count": 39,
   "metadata": {},
   "outputs": [],
   "source": [
    "datelt = data.index[-1].strftime('%B %Y')"
   ]
  },
  {
   "cell_type": "code",
   "execution_count": 40,
   "metadata": {},
   "outputs": [],
   "source": [
    "epop = data[\"Employed\"].iloc[-1] / data.iloc[-1].sum() * 100"
   ]
  },
  {
   "cell_type": "code",
   "execution_count": 41,
   "metadata": {},
   "outputs": [],
   "source": [
    "text = (f'As of {datelt}, {data[\"Employed\"].iloc[-1]:.1f} million '+\n",
    "        'people are employed (including self-employment). ')\n",
    "\n",
    "file = '/home/brian/Documents/uschartbook/chartbook/text/cps_lfs0.txt'\n",
    "with open(file, 'w') as wf:\n",
    "    wf.write(text)\n",
    "\n",
    "\n",
    "text = ('Labor provided within a household is not captured by GDP compilation '+\n",
    "        'methods (expenditures, output, or income), though household surveys '+\n",
    "        'offer some insight into this important category of labor. The '+\n",
    "        'number of people who are considered employed divided by the total '+\n",
    "        'population is the employment rate or employment-to-population ratio, '+\n",
    "        f'which is {epop:.1f} percent as of {datelt}.')"
   ]
  },
  {
   "cell_type": "code",
   "execution_count": 42,
   "metadata": {},
   "outputs": [],
   "source": [
    "file = '/home/brian/Documents/uschartbook/chartbook/text/cps_lfs.txt'\n",
    "with open(file, 'w') as wf:\n",
    "    wf.write(text)"
   ]
  },
  {
   "cell_type": "code",
   "execution_count": 43,
   "metadata": {},
   "outputs": [],
   "source": [
    "unemp = (data[\"Unemployed\"].iloc[-1] / (data[\"Unemployed\"].iloc[-1] + data[\"Employed\"].iloc[-1])) * 100\n",
    "lfpr = (data[\"Unemployed\"].iloc[-1] + data[\"Employed\"].iloc[-1]) / data.iloc[-1].sum() * 100"
   ]
  },
  {
   "cell_type": "code",
   "execution_count": 44,
   "metadata": {},
   "outputs": [],
   "source": [
    "text = (f'As of {datelt}, there are {data[\"Unemployed\"].iloc[-1]:.1f} million '+\n",
    "        'unemployed people. The combined group of employed and unemployed people '+\n",
    "        'is the labor force. The number of unemployed people divided by the number '+\n",
    "        f'of people in the labor force is the unemployment rate, currently {unemp:.1f} percent. '+\n",
    "        'The number of people in the labor force divided by the total population is the '+\n",
    "        f'labor force participation rate, currently {lfpr:.1f} percent.')"
   ]
  },
  {
   "cell_type": "code",
   "execution_count": 45,
   "metadata": {},
   "outputs": [
    {
     "data": {
      "text/plain": [
       "'As of October 2019, there are 5.6 million unemployed people. The combined group of employed and unemployed people is the labor force. The number of unemployed people divided by the number of people in the labor force is the unemployment rate, currently 3.4 percent. The number of people in the labor force divided by the total population is the labor force participation rate, currently 51.1 percent.'"
      ]
     },
     "execution_count": 45,
     "metadata": {},
     "output_type": "execute_result"
    }
   ],
   "source": [
    "text"
   ]
  },
  {
   "cell_type": "code",
   "execution_count": 46,
   "metadata": {},
   "outputs": [],
   "source": [
    "file = '/home/brian/Documents/uschartbook/chartbook/text/cps_lfs2.txt'\n",
    "with open(file, 'w') as wf:\n",
    "    wf.write(text)"
   ]
  },
  {
   "cell_type": "code",
   "execution_count": 47,
   "metadata": {},
   "outputs": [],
   "source": [
    "cols2 = cols + ['NILFREASON']"
   ]
  },
  {
   "cell_type": "code",
   "execution_count": 48,
   "metadata": {},
   "outputs": [],
   "source": [
    "datalt = pd.read_feather(f'{path}cps2019.ft', columns=cols2)"
   ]
  },
  {
   "cell_type": "code",
   "execution_count": 49,
   "metadata": {},
   "outputs": [],
   "source": [
    "student = (datalt.query('MONTH == 10 and NILFREASON == \"School\"').PWSSWGT.sum() / 1000000)\n",
    "care = (datalt.query('MONTH == 10 and NILFREASON == \"Family\"').PWSSWGT.sum() / 1000000)\n",
    "disill = (datalt.query('MONTH == 10 and NILFREASON == \"Disabled/Ill\"').PWSSWGT.sum() / 1000000)\n",
    "disc = (datalt.query('MONTH == 10 and NILFREASON == \"Discouraged\"').PWSSWGT.sum() / 1000000)\n",
    "ret = (datalt.query('MONTH == 10 and NILFREASON == \"Retired\"').PWSSWGT.sum() / 1000000)"
   ]
  },
  {
   "cell_type": "code",
   "execution_count": 50,
   "metadata": {},
   "outputs": [],
   "source": [
    "text = ('This category is about half of the population, on average, and '+\n",
    "        f'totals {data[\"NILF\"].iloc[-1]:.1f} million in {datelt}. The '+\n",
    "        f'category is comprised of children ({data[\"Children\"].iloc[-1]:.1f}'+\n",
    "        f' million), students ({student:.1f} million), unpaid caregivers '+\n",
    "        f'({care:.1f} million), those unable to work due to disability or illness '+\n",
    "        f'({disill:.1f} million), those who want a job but have given up looking ({disc:.1f} '+\n",
    "        f'million), and retirees and the elderly ({ret:.1f} million).')"
   ]
  },
  {
   "cell_type": "code",
   "execution_count": 51,
   "metadata": {},
   "outputs": [
    {
     "data": {
      "text/plain": [
       "'This category is about half of the population, on average, and totals 98.1 million in October 2019. The category is comprised of children (60.7 million), students (18.5 million), unpaid caregivers (12.2 million), those unable to work due to disability or illness (14.2 million), those who want a job but have given up looking (4.1 million), and retirees and the elderly (47.3 million).'"
      ]
     },
     "execution_count": 51,
     "metadata": {},
     "output_type": "execute_result"
    }
   ],
   "source": [
    "text"
   ]
  },
  {
   "cell_type": "code",
   "execution_count": 52,
   "metadata": {},
   "outputs": [],
   "source": [
    "file = '/home/brian/Documents/uschartbook/chartbook/text/cps_lfs3.txt'\n",
    "with open(file, 'w') as wf:\n",
    "    wf.write(text)"
   ]
  },
  {
   "cell_type": "code",
   "execution_count": null,
   "metadata": {},
   "outputs": [],
   "source": []
  },
  {
   "cell_type": "code",
   "execution_count": 53,
   "metadata": {},
   "outputs": [],
   "source": [
    "data['Total'] = data[['Employed', 'Unemployed', 'NILF']].sum(axis=1)"
   ]
  },
  {
   "cell_type": "code",
   "execution_count": 54,
   "metadata": {},
   "outputs": [],
   "source": [
    "result = data.drop('Children', axis=1).resample('QS').mean()"
   ]
  },
  {
   "cell_type": "code",
   "execution_count": 55,
   "metadata": {},
   "outputs": [],
   "source": [
    "def growth_contrib_ann(df, srs):\n",
    "    '''Calculate df column contribution to srs growth'''\n",
    "    dft = df.diff(4)\n",
    "    dft = dft.div(dft[srs], axis=0)\n",
    "    c = dft.multiply(df[srs].pct_change(4) * 100, axis=0)\n",
    "    return c.round(2)"
   ]
  },
  {
   "cell_type": "code",
   "execution_count": 56,
   "metadata": {},
   "outputs": [],
   "source": [
    "file = '/home/brian/Documents/uschartbook/chartbook/data/cps_lfs2.csv'\n",
    "growth_contrib_ann(result, 'Total').to_csv(file, index_label='date')"
   ]
  },
  {
   "cell_type": "code",
   "execution_count": null,
   "metadata": {},
   "outputs": [],
   "source": []
  },
  {
   "cell_type": "code",
   "execution_count": null,
   "metadata": {},
   "outputs": [],
   "source": []
  },
  {
   "cell_type": "code",
   "execution_count": null,
   "metadata": {},
   "outputs": [],
   "source": []
  },
  {
   "cell_type": "markdown",
   "metadata": {},
   "source": [
    "### LFS Table"
   ]
  },
  {
   "cell_type": "code",
   "execution_count": 12,
   "metadata": {},
   "outputs": [],
   "source": [
    "import itertools"
   ]
  },
  {
   "cell_type": "code",
   "execution_count": 113,
   "metadata": {},
   "outputs": [],
   "source": [
    "cols = ['LFS', 'PWSSWGT', 'PWSSWGT', 'AGE', 'MONTH', 'YEAR', 'MJH',\n",
    "        'FEMALE', 'NILFREASON', 'UNEMPTYPE', 'PTECON', 'WORKFT']\n",
    "\n",
    "df = pd.read_feather(f'{path}cps2019.ft', columns=cols).query('AGE >= 15 and MONTH == 10')\n",
    "df2 = pd.read_feather(f'{path}cps2018.ft', columns=cols).query('AGE >= 15 and MONTH == 10')"
   ]
  },
  {
   "cell_type": "code",
   "execution_count": 115,
   "metadata": {},
   "outputs": [],
   "source": [
    "age_groups = [(15, 30), (30, 60), (60, 86)]\n",
    "sex = [0, 1]\n",
    "d = {'Population': {'query': 'PWSSWGT > 0'}, \n",
    "     '\\hspace{2mm}Employed': {'query': 'LFS == \"Employed\"'}, \n",
    "     '\\hspace{4mm}Multiple jobs': {'query': 'MJH == 1'},     \n",
    "     '\\hspace{4mm}Full-time': {'query': 'WORKFT == 1'},  \n",
    "     '\\hspace{4mm}Part-time': {'query': 'WORKFT == 0'}, \n",
    "     '\\hspace{6mm}Economic reasons': {'query': 'PTECON == 1'},\n",
    "     '\\hspace{2mm}Unemployed': {'query': 'LFS == \"Unemployed\"'}, \n",
    "     '\\hspace{2mm}Not in Labor Force': {'query': 'LFS == \"NILF\"'}, \n",
    "     '\\hspace{4mm}Discouraged': {'query': 'NILFREASON == \"Discouraged\"'}, \n",
    "     '\\hspace{4mm}Disabled/Ill': {'query': 'NILFREASON == \"Disabled/Ill\"'}, \n",
    "     '\\hspace{4mm}Family/Care': {'query': 'NILFREASON == \"Family\"'}, \n",
    "     '\\hspace{4mm}School': {'query': 'NILFREASON == \"School\"'}, \n",
    "     '\\hspace{4mm}Retirement': {'query': 'NILFREASON == \"Retired\"'}}\n",
    "\n",
    "d2 = {k: {} for k, v in d.items()}\n",
    "\n",
    "lf_groups = list(zip(d.keys(), [d[i]['query'] for i in d.keys()])) \n",
    "\n",
    "for name, query in lf_groups:\n",
    "    totval = df.query(query).PWSSWGT.sum()/1000\n",
    "    d[name]['Total, 15+'] = f'{totval:,.0f}'\n",
    "    chval = totval - df2.query(query).PWSSWGT.sum()/1000\n",
    "    d2[name]['Total, 15+'] = f'{chval:,.0f}'\n",
    "\n",
    "for sex, (agemin, agemax) in itertools.product(sex, age_groups):\n",
    "    data = df.query('@agemin <= AGE < @agemax and FEMALE == @sex')\n",
    "    data2 = df2.query('@agemin <= AGE < @agemax and FEMALE == @sex')\n",
    "    group = f'{[\"Women\" if sex==1 else \"Men\"][0]}, {agemin}--{agemax-1}'.replace('--85', '+')\n",
    "    for name, query in lf_groups:\n",
    "        tmp = data.query(query).PWSSWGT.sum()/1000\n",
    "        tmp2 = data2.query(query).PWSSWGT.sum()/1000\n",
    "        d[name][group] = f'{tmp:,.0f}'\n",
    "        d2[name][group] = f'{tmp - tmp2:,.0f}'"
   ]
  },
  {
   "cell_type": "code",
   "execution_count": 116,
   "metadata": {},
   "outputs": [],
   "source": [
    "file = '/home/brian/Documents/uschartbook/chartbook/data/lfs_table1.tex'\n",
    "(pd.DataFrame(d).T.drop('query', axis=1).to_csv(file, \n",
    "    sep='&', line_terminator='\\\\\\ ', quotechar=' '))\n",
    "file = '/home/brian/Documents/uschartbook/chartbook/data/lfs_table2.tex'\n",
    "pd.DataFrame(d2).T.to_csv(file, sep='&', line_terminator='\\\\\\ ', quotechar=' ')"
   ]
  },
  {
   "cell_type": "code",
   "execution_count": null,
   "metadata": {},
   "outputs": [],
   "source": []
  },
  {
   "cell_type": "code",
   "execution_count": 74,
   "metadata": {},
   "outputs": [
    {
     "data": {
      "text/plain": [
       "'Women, 60+'"
      ]
     },
     "execution_count": 74,
     "metadata": {},
     "output_type": "execute_result"
    }
   ],
   "source": [
    "f'{[\"Women\" if sex==1 else \"Men\"][0]}, {agemin}--{agemax-1}'.replace('--85', '+')"
   ]
  },
  {
   "cell_type": "code",
   "execution_count": 110,
   "metadata": {},
   "outputs": [
    {
     "data": {
      "text/html": [
       "<div>\n",
       "<style scoped>\n",
       "    .dataframe tbody tr th:only-of-type {\n",
       "        vertical-align: middle;\n",
       "    }\n",
       "\n",
       "    .dataframe tbody tr th {\n",
       "        vertical-align: top;\n",
       "    }\n",
       "\n",
       "    .dataframe thead th {\n",
       "        text-align: right;\n",
       "    }\n",
       "</style>\n",
       "<table border=\"1\" class=\"dataframe\">\n",
       "  <thead>\n",
       "    <tr style=\"text-align: right;\">\n",
       "      <th></th>\n",
       "      <th>index</th>\n",
       "      <th>Total</th>\n",
       "      <th>Men, 15--29</th>\n",
       "      <th>Men, 30--59</th>\n",
       "      <th>Men, 60+</th>\n",
       "      <th>Women, 15--29</th>\n",
       "      <th>Women, 30--59</th>\n",
       "      <th>Women, 60+</th>\n",
       "    </tr>\n",
       "  </thead>\n",
       "  <tbody>\n",
       "    <tr>\n",
       "      <th>0</th>\n",
       "      <td>Population</td>\n",
       "      <td>259,845</td>\n",
       "      <td>30,426</td>\n",
       "      <td>61,334</td>\n",
       "      <td>33,927</td>\n",
       "      <td>30,205</td>\n",
       "      <td>63,629</td>\n",
       "      <td>40,324</td>\n",
       "    </tr>\n",
       "    <tr>\n",
       "      <th>1</th>\n",
       "      <td>\\hspace{2mm}Employed</td>\n",
       "      <td>159,067</td>\n",
       "      <td>19,337</td>\n",
       "      <td>52,443</td>\n",
       "      <td>12,138</td>\n",
       "      <td>18,481</td>\n",
       "      <td>46,423</td>\n",
       "      <td>10,245</td>\n",
       "    </tr>\n",
       "    <tr>\n",
       "      <th>2</th>\n",
       "      <td>\\hspace{4mm}Multiple jobs</td>\n",
       "      <td>8,350</td>\n",
       "      <td>844</td>\n",
       "      <td>2,682</td>\n",
       "      <td>535</td>\n",
       "      <td>1,123</td>\n",
       "      <td>2,654</td>\n",
       "      <td>512</td>\n",
       "    </tr>\n",
       "    <tr>\n",
       "      <th>3</th>\n",
       "      <td>\\hspace{4mm}Full-time</td>\n",
       "      <td>120,787</td>\n",
       "      <td>13,678</td>\n",
       "      <td>46,108</td>\n",
       "      <td>8,623</td>\n",
       "      <td>11,211</td>\n",
       "      <td>35,143</td>\n",
       "      <td>6,025</td>\n",
       "    </tr>\n",
       "    <tr>\n",
       "      <th>4</th>\n",
       "      <td>\\hspace{4mm}Part-time</td>\n",
       "      <td>38,280</td>\n",
       "      <td>5,658</td>\n",
       "      <td>6,336</td>\n",
       "      <td>3,515</td>\n",
       "      <td>7,270</td>\n",
       "      <td>11,281</td>\n",
       "      <td>4,220</td>\n",
       "    </tr>\n",
       "    <tr>\n",
       "      <th>5</th>\n",
       "      <td>\\hspace{6mm}Economic reasons</td>\n",
       "      <td>4,057</td>\n",
       "      <td>831</td>\n",
       "      <td>1,076</td>\n",
       "      <td>212</td>\n",
       "      <td>689</td>\n",
       "      <td>1,035</td>\n",
       "      <td>213</td>\n",
       "    </tr>\n",
       "    <tr>\n",
       "      <th>6</th>\n",
       "      <td>\\hspace{2mm}Unemployed</td>\n",
       "      <td>5,510</td>\n",
       "      <td>1,366</td>\n",
       "      <td>1,269</td>\n",
       "      <td>271</td>\n",
       "      <td>1,012</td>\n",
       "      <td>1,316</td>\n",
       "      <td>275</td>\n",
       "    </tr>\n",
       "    <tr>\n",
       "      <th>7</th>\n",
       "      <td>\\hspace{2mm}Not in Labor Force</td>\n",
       "      <td>95,269</td>\n",
       "      <td>9,723</td>\n",
       "      <td>7,621</td>\n",
       "      <td>21,518</td>\n",
       "      <td>10,713</td>\n",
       "      <td>15,889</td>\n",
       "      <td>29,804</td>\n",
       "    </tr>\n",
       "    <tr>\n",
       "      <th>8</th>\n",
       "      <td>\\hspace{4mm}Discouraged</td>\n",
       "      <td>4,025</td>\n",
       "      <td>712</td>\n",
       "      <td>733</td>\n",
       "      <td>465</td>\n",
       "      <td>640</td>\n",
       "      <td>950</td>\n",
       "      <td>524</td>\n",
       "    </tr>\n",
       "    <tr>\n",
       "      <th>9</th>\n",
       "      <td>\\hspace{4mm}Disabled/Ill</td>\n",
       "      <td>14,275</td>\n",
       "      <td>846</td>\n",
       "      <td>3,724</td>\n",
       "      <td>2,366</td>\n",
       "      <td>524</td>\n",
       "      <td>3,964</td>\n",
       "      <td>2,851</td>\n",
       "    </tr>\n",
       "    <tr>\n",
       "      <th>10</th>\n",
       "      <td>\\hspace{4mm}Family/Care</td>\n",
       "      <td>12,320</td>\n",
       "      <td>383</td>\n",
       "      <td>784</td>\n",
       "      <td>72</td>\n",
       "      <td>2,197</td>\n",
       "      <td>7,953</td>\n",
       "      <td>930</td>\n",
       "    </tr>\n",
       "    <tr>\n",
       "      <th>11</th>\n",
       "      <td>\\hspace{4mm}School</td>\n",
       "      <td>14,943</td>\n",
       "      <td>7,171</td>\n",
       "      <td>455</td>\n",
       "      <td>14</td>\n",
       "      <td>6,830</td>\n",
       "      <td>447</td>\n",
       "      <td>25</td>\n",
       "    </tr>\n",
       "    <tr>\n",
       "      <th>12</th>\n",
       "      <td>\\hspace{4mm}Retirement</td>\n",
       "      <td>47,757</td>\n",
       "      <td>133</td>\n",
       "      <td>1,446</td>\n",
       "      <td>18,493</td>\n",
       "      <td>196</td>\n",
       "      <td>2,127</td>\n",
       "      <td>25,362</td>\n",
       "    </tr>\n",
       "  </tbody>\n",
       "</table>\n",
       "</div>"
      ],
      "text/plain": [
       "                             index    Total Men, 15--29 Men, 30--59 Men, 60+  \\\n",
       "0                       Population  259,845      30,426      61,334   33,927   \n",
       "1             \\hspace{2mm}Employed  159,067      19,337      52,443   12,138   \n",
       "2        \\hspace{4mm}Multiple jobs    8,350         844       2,682      535   \n",
       "3            \\hspace{4mm}Full-time  120,787      13,678      46,108    8,623   \n",
       "4            \\hspace{4mm}Part-time   38,280       5,658       6,336    3,515   \n",
       "5     \\hspace{6mm}Economic reasons    4,057         831       1,076      212   \n",
       "6           \\hspace{2mm}Unemployed    5,510       1,366       1,269      271   \n",
       "7   \\hspace{2mm}Not in Labor Force   95,269       9,723       7,621   21,518   \n",
       "8          \\hspace{4mm}Discouraged    4,025         712         733      465   \n",
       "9         \\hspace{4mm}Disabled/Ill   14,275         846       3,724    2,366   \n",
       "10         \\hspace{4mm}Family/Care   12,320         383         784       72   \n",
       "11              \\hspace{4mm}School   14,943       7,171         455       14   \n",
       "12          \\hspace{4mm}Retirement   47,757         133       1,446   18,493   \n",
       "\n",
       "   Women, 15--29 Women, 30--59 Women, 60+  \n",
       "0         30,205        63,629     40,324  \n",
       "1         18,481        46,423     10,245  \n",
       "2          1,123         2,654        512  \n",
       "3         11,211        35,143      6,025  \n",
       "4          7,270        11,281      4,220  \n",
       "5            689         1,035        213  \n",
       "6          1,012         1,316        275  \n",
       "7         10,713        15,889     29,804  \n",
       "8            640           950        524  \n",
       "9            524         3,964      2,851  \n",
       "10         2,197         7,953        930  \n",
       "11         6,830           447         25  \n",
       "12           196         2,127     25,362  "
      ]
     },
     "execution_count": 110,
     "metadata": {},
     "output_type": "execute_result"
    }
   ],
   "source": [
    "pd.DataFrame(d).T.drop('query', axis=1).reset_index()"
   ]
  },
  {
   "cell_type": "code",
   "execution_count": null,
   "metadata": {},
   "outputs": [],
   "source": []
  },
  {
   "cell_type": "code",
   "execution_count": 46,
   "metadata": {},
   "outputs": [],
   "source": [
    "age_groups = [(15, 30), (30, 60), (60, 86)]\n",
    "sex = [0, 1]\n",
    "d = {'Population': {'query': 'BASCICWGT > 0'}, '\\hspace{2mm}Employed': {'query': 'LFS == \"Employed\"'}, \n",
    "     '\\hspace{4mm}Full-time': {'query': 'WORKFT == 1'}, \n",
    "     '\\hspace{4mm}Multiple jobs': {'query': 'MJH == 1'}, \n",
    "     '\\hspace{4mm}Part-time': {'query': 'WORKFT == 0'}, \n",
    "     '\\hspace{6mm}Economic reasons': {'query': 'PTECON == 1'},\n",
    "     '\\hspace{2mm}Unemployed': {'query': 'LFS == \"Unemployed\"'}, \n",
    "     '\\hspace{2mm}Not in Labor Force': {'query': 'LFS == \"NILF\"'}, \n",
    "     '\\hspace{4mm}Discouraged': {'query': 'NILFREASON == \"Discouraged\"'}, \n",
    "     '\\hspace{4mm}Disabled/Ill': {'query': 'NILFREASON == \"Disabled/Ill\"'}, \n",
    "     '\\hspace{4mm}Family/Care': {'query': 'NILFREASON == \"Family\"'}, \n",
    "     '\\hspace{4mm}School': {'query': 'NILFREASON == \"School\"'}, \n",
    "     '\\hspace{4mm}Retirement': {'query': 'NILFREASON == \"Retired\"'}}\n",
    "for sex, (agemin, agemax) in itertools.product(sex, age_groups):\n",
    "    data = df.query('@agemin <= AGE < @agemax and FEMALE == @sex')\n",
    "    group = f'{[\"Women\" if sex==1 else \"Men\"][0]}, {agemin}--{agemax-1}'\n",
    "    for name, query in zip(d.keys(), [d[i]['query'] for i in d.keys()]):\n",
    "        tmp = data.query(query).BASICWGT.sum()\n",
    "        d[name][group] = f'{tmp},.0f'\n",
    "    d['Population'][group] = data.BASICWGT.sum()\n",
    "    \n",
    "    \n",
    "    d['\\hspace{2mm}Employed'][group] = data.query('LFS == \"Employed\"').BASICWGT.sum()    \n",
    "    d['\\hspace{2mm}Unemployed'][group] = data.query('LFS == \"Unemployed\"').BASICWGT.sum() \n",
    "    d['\\hspace{2mm}Not in Labor Force'][group] = data.query('LFS == \"NILF\"').BASICWGT.sum() \n",
    "    d['\\hspace{4mm}Multiple jobs'][group] = data.query('MJH == 1').BASICWGT.sum() \n",
    "    d['\\hspace{4mm}Full-time'][group] = data.query('WORKFT == 1').BASICWGT.sum() \n",
    "    d['\\hspace{4mm}Part-time'][group] = data.query('WORKFT == 0').BASICWGT.sum() \n",
    "    d['\\hspace{6mm}Economic reasons'][group] = data.query('PTECON == 1').BASICWGT.sum()\n",
    "    d['\\hspace{4mm}Discouraged'][group] = data.query('NILFREASON == \"Discouraged\"').BASICWGT.sum() \n",
    "    d['\\hspace{4mm}Disabled/Ill'][group] = data.query('NILFREASON == \"Disabled/Ill\"').BASICWGT.sum() \n",
    "    d['\\hspace{4mm}Family/Care'][group] = data.query('NILFREASON == \"Family\"').BASICWGT.sum() \n",
    "    d['\\hspace{4mm}School'][group] = data.query('NILFREASON == \"School\"').BASICWGT.sum() \n",
    "    d['\\hspace{4mm}Retirement'][group] = data.query('NILFREASON == \"Retired\"').BASICWGT.sum() "
   ]
  },
  {
   "cell_type": "code",
   "execution_count": 49,
   "metadata": {},
   "outputs": [],
   "source": [
    "file = '/home/brian/Documents/uschartbook/chartbook/data/lfs_table1.tex'\n",
    "pd.DataFrame(d).T.divide(1000).round().to_csv(file, sep='&', line_terminator='\\\\\\ ', quotechar=' ')"
   ]
  },
  {
   "cell_type": "code",
   "execution_count": 70,
   "metadata": {},
   "outputs": [],
   "source": [
    "file = '/home/brian/Documents/uschartbook/chartbook/data/lfs_table1.tex'\n",
    "pd.DataFrame(d).T.drop('query', axis=1).to_csv(file, sep='&', line_terminator='\\\\\\ ', quotechar=' ')"
   ]
  },
  {
   "cell_type": "code",
   "execution_count": null,
   "metadata": {},
   "outputs": [],
   "source": [
    "d[][]"
   ]
  },
  {
   "cell_type": "code",
   "execution_count": 55,
   "metadata": {},
   "outputs": [
    {
     "data": {
      "text/plain": [
       "[('Population', 'BASCICWGT > 0'),\n",
       " ('\\\\hspace{2mm}Employed', 'LFS == \"Employed\"'),\n",
       " ('\\\\hspace{4mm}Full-time', 'WORKFT == 1'),\n",
       " ('\\\\hspace{4mm}Multiple jobs', 'MJH == 1'),\n",
       " ('\\\\hspace{4mm}Part-time', 'WORKFT == 0'),\n",
       " ('\\\\hspace{6mm}Economic reasons', 'PTECON == 1'),\n",
       " ('\\\\hspace{2mm}Unemployed', 'LFS == \"Unemployed\"'),\n",
       " ('\\\\hspace{2mm}Not in Labor Force', 'LFS == \"NILF\"'),\n",
       " ('\\\\hspace{4mm}Discouraged', 'NILFREASON == \"Discouraged\"'),\n",
       " ('\\\\hspace{4mm}Disabled/Ill', 'NILFREASON == \"Disabled/Ill\"'),\n",
       " ('\\\\hspace{4mm}Family/Care', 'NILFREASON == \"Family\"'),\n",
       " ('\\\\hspace{4mm}School', 'NILFREASON == \"School\"'),\n",
       " ('\\\\hspace{4mm}Retirement', 'NILFREASON == \"Retired\"')]"
      ]
     },
     "execution_count": 55,
     "metadata": {},
     "output_type": "execute_result"
    }
   ],
   "source": [
    "list(zip(d.keys(), [d[i]['query'] for i in d.keys()]))"
   ]
  },
  {
   "cell_type": "code",
   "execution_count": 56,
   "metadata": {},
   "outputs": [
    {
     "name": "stdout",
     "output_type": "stream",
     "text": [
      "Population\n",
      "BASCICWGT > 0\n",
      "\\hspace{2mm}Employed\n",
      "LFS == \"Employed\"\n",
      "\\hspace{4mm}Full-time\n",
      "WORKFT == 1\n",
      "\\hspace{4mm}Multiple jobs\n",
      "MJH == 1\n",
      "\\hspace{4mm}Part-time\n",
      "WORKFT == 0\n",
      "\\hspace{6mm}Economic reasons\n",
      "PTECON == 1\n",
      "\\hspace{2mm}Unemployed\n",
      "LFS == \"Unemployed\"\n",
      "\\hspace{2mm}Not in Labor Force\n",
      "LFS == \"NILF\"\n",
      "\\hspace{4mm}Discouraged\n",
      "NILFREASON == \"Discouraged\"\n",
      "\\hspace{4mm}Disabled/Ill\n",
      "NILFREASON == \"Disabled/Ill\"\n",
      "\\hspace{4mm}Family/Care\n",
      "NILFREASON == \"Family\"\n",
      "\\hspace{4mm}School\n",
      "NILFREASON == \"School\"\n",
      "\\hspace{4mm}Retirement\n",
      "NILFREASON == \"Retired\"\n"
     ]
    }
   ],
   "source": [
    "for name, query in zip(d.keys(), [d[i]['query'] for i in d.keys()]):\n",
    "    tmp = data.query(query).BASICWGT.sum()\n",
    "    d[name][group] = f'{tmp},.0f'\n",
    "    \n",
    "\n",
    "\n"
   ]
  },
  {
   "cell_type": "code",
   "execution_count": null,
   "metadata": {},
   "outputs": [],
   "source": [
    "for sex, age_group in zip([], [(16, 24), (25, 54), (55, 80)]):\n",
    "    data = "
   ]
  },
  {
   "cell_type": "code",
   "execution_count": null,
   "metadata": {},
   "outputs": [],
   "source": []
  },
  {
   "cell_type": "code",
   "execution_count": 50,
   "metadata": {},
   "outputs": [],
   "source": [
    "d_tmp = d"
   ]
  }
 ],
 "metadata": {
  "kernelspec": {
   "display_name": "Python 3",
   "language": "python",
   "name": "python3"
  },
  "language_info": {
   "codemirror_mode": {
    "name": "ipython",
    "version": 3
   },
   "file_extension": ".py",
   "mimetype": "text/x-python",
   "name": "python",
   "nbconvert_exporter": "python",
   "pygments_lexer": "ipython3",
   "version": "3.7.5"
  }
 },
 "nbformat": 4,
 "nbformat_minor": 2
}
