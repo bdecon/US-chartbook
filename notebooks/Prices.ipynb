{
 "cells": [
  {
   "cell_type": "markdown",
   "metadata": {},
   "source": [
    "# Prices"
   ]
  },
  {
   "cell_type": "code",
   "execution_count": 1,
   "metadata": {},
   "outputs": [],
   "source": [
    "import sys\n",
    "sys.path.append('../src')\n",
    "\n",
    "import uschartbook.config\n",
    "\n",
    "from uschartbook.config import *\n",
    "from uschartbook.utils import *"
   ]
  },
  {
   "cell_type": "markdown",
   "metadata": {},
   "source": [
    "### CPI components \n",
    "\n",
    "\n",
    "https://www.bls.gov/cpi/tables/relative-importance/home.htm"
   ]
  },
  {
   "cell_type": "code",
   "execution_count": 2,
   "metadata": {},
   "outputs": [],
   "source": [
    "# Series stored as a dictionary\n",
    "series = {'CUUR0000SA0': 'All items',\n",
    "          'CUUR0000SAM': 'Medical care',\n",
    "          'CUUR0000SAH': 'Housing',\n",
    "          'CUUR0000SEFV': 'Food away from home',\n",
    "          'CUUR0000SAF11': 'Food at home',\n",
    "          'CUUR0000SAR': 'Recreation',\n",
    "          'CUUR0000SAE1': 'Education',\n",
    "          'CUUR0000SAT': 'Transportation',\n",
    "          'CUUR0000SAA': 'Apparel',\n",
    "          'CUUR0000SA0E': 'Energy',\n",
    "          'CUUR0000SAE2': 'Communication'}\n",
    "\n",
    "url = 'https://www.bls.gov/cpi/tables/relative-importance/2019.txt'\n",
    "rel_imp = pd.read_csv(url, header=None, delim_whitespace=True)\n",
    "r = requests.get(url)\n",
    "data = r.text\n",
    "\n",
    "wgts = {value: re.findall(value+r'\\..*\\s+(\\d+\\.\\d+)\\s+\\d+\\.\\d+\\s+\\r', data)[0] \n",
    "        for key, value in series.items()}"
   ]
  },
  {
   "cell_type": "code",
   "execution_count": 3,
   "metadata": {},
   "outputs": [
    {
     "name": "stdout",
     "output_type": "stream",
     "text": [
      "Post Request Status: REQUEST_SUCCEEDED\n"
     ]
    }
   ],
   "source": [
    "# Start year and end year\n",
    "years = (2018, 2020)\n",
    "df = bls_api(series, years, bls_key)"
   ]
  },
  {
   "cell_type": "code",
   "execution_count": 4,
   "metadata": {},
   "outputs": [
    {
     "data": {
      "text/html": [
       "<div>\n",
       "<style scoped>\n",
       "    .dataframe tbody tr th:only-of-type {\n",
       "        vertical-align: middle;\n",
       "    }\n",
       "\n",
       "    .dataframe tbody tr th {\n",
       "        vertical-align: top;\n",
       "    }\n",
       "\n",
       "    .dataframe thead th {\n",
       "        text-align: right;\n",
       "    }\n",
       "</style>\n",
       "<table border=\"1\" class=\"dataframe\">\n",
       "  <thead>\n",
       "    <tr style=\"text-align: right;\">\n",
       "      <th></th>\n",
       "      <th>Latest</th>\n",
       "      <th>Previous</th>\n",
       "    </tr>\n",
       "  </thead>\n",
       "  <tbody>\n",
       "    <tr>\n",
       "      <th>Housing</th>\n",
       "      <td>0.86</td>\n",
       "      <td>1.26</td>\n",
       "    </tr>\n",
       "    <tr>\n",
       "      <th>Medical care</th>\n",
       "      <td>0.46</td>\n",
       "      <td>0.17</td>\n",
       "    </tr>\n",
       "    <tr>\n",
       "      <th>Food at home</th>\n",
       "      <td>0.45</td>\n",
       "      <td>0.07</td>\n",
       "    </tr>\n",
       "    <tr>\n",
       "      <th>Food away from home</th>\n",
       "      <td>0.20</td>\n",
       "      <td>0.19</td>\n",
       "    </tr>\n",
       "    <tr>\n",
       "      <th>Recreation</th>\n",
       "      <td>0.09</td>\n",
       "      <td>0.05</td>\n",
       "    </tr>\n",
       "    <tr>\n",
       "      <th>Education</th>\n",
       "      <td>0.06</td>\n",
       "      <td>0.09</td>\n",
       "    </tr>\n",
       "    <tr>\n",
       "      <th>Communication</th>\n",
       "      <td>0.03</td>\n",
       "      <td>-0.06</td>\n",
       "    </tr>\n",
       "    <tr>\n",
       "      <th>Apparel</th>\n",
       "      <td>-0.20</td>\n",
       "      <td>-0.04</td>\n",
       "    </tr>\n",
       "    <tr>\n",
       "      <th>Energy</th>\n",
       "      <td>-0.77</td>\n",
       "      <td>-0.24</td>\n",
       "    </tr>\n",
       "    <tr>\n",
       "      <th>Transportation</th>\n",
       "      <td>-1.21</td>\n",
       "      <td>-0.12</td>\n",
       "    </tr>\n",
       "  </tbody>\n",
       "</table>\n",
       "</div>"
      ],
      "text/plain": [
       "                     Latest  Previous\n",
       "Housing                0.86      1.26\n",
       "Medical care           0.46      0.17\n",
       "Food at home           0.45      0.07\n",
       "Food away from home    0.20      0.19\n",
       "Recreation             0.09      0.05\n",
       "Education              0.06      0.09\n",
       "Communication          0.03     -0.06\n",
       "Apparel               -0.20     -0.04\n",
       "Energy                -0.77     -0.24\n",
       "Transportation        -1.21     -0.12"
      ]
     },
     "execution_count": 4,
     "metadata": {},
     "output_type": "execute_result"
    }
   ],
   "source": [
    "wgt_date = pd.to_datetime('2019-12-01')\n",
    "dates = {'Latest': df.index[-1], 'Previous': df.index[-13]}\n",
    "\n",
    "d = {}\n",
    "\n",
    "for name, date in dates.items():\n",
    "\n",
    "    updated_wgts = {srs: ((df.loc[date, srs] / df.loc[wgt_date, srs])\n",
    "                     * float(wgts[srs]) / \n",
    "                     (df.loc[date, 'All items'] / \n",
    "                      df.loc[wgt_date, 'All items']))\n",
    "                    for key, srs in series.items()}\n",
    "    \n",
    "    d[name] = {srs: (df[srs].pct_change(12).loc[date] \n",
    "                        * (updated_wgts[srs]))\n",
    "                  for key, srs in series.items()}\n",
    "    \n",
    "results = pd.DataFrame(d).drop('All items').round(2).sort_values('Latest', ascending=False)\n",
    "results.to_csv(data_dir / 'cpi_comp.csv', index_label='name')\n",
    "\n",
    "mo1  = df.index[-1].strftime('%b %Y')\n",
    "write_txt(text_dir / 'cpi_mo1.txt', mo1)\n",
    "\n",
    "mo2  = df.index[-13].strftime('%b %Y')\n",
    "write_txt(text_dir / 'cpi_mo2.txt', mo2)\n",
    "\n",
    "results"
   ]
  },
  {
   "cell_type": "code",
   "execution_count": 5,
   "metadata": {},
   "outputs": [],
   "source": [
    "ltdate = df.index[-1].strftime('%B %Y')\n",
    "prevdate = df.index[-13].strftime('%B %Y')\n",
    "\n",
    "ltd = {i: (results.iloc[i].name, results['Latest'].iloc[i]) for i in [0, 1, -2, -1]}\n",
    "\n",
    "textd = {}\n",
    "for idx, (name, val) in ltd.items():\n",
    "    if idx == 0:\n",
    "        name = name.lower()\n",
    "    if val >= 0.05:\n",
    "        textd[idx] = f'{name} contributed {val:.2f} percentage points to'\n",
    "    elif val <= -0.04:\n",
    "        textd[idx] = f'{name} subtracted {abs(val):.2f} percentage points from'\n",
    "    else:\n",
    "        textd[idx] = f'{name} did not contribute significantly to'\n",
    "        \n",
    "prevd = {i: (results.iloc[i].name, results['Previous'].iloc[i]) for i in [0, 1, -2, -1]}\n",
    "\n",
    "textd2 = {}\n",
    "for idx, (name, val) in prevd.items():\n",
    "    if val >= 0.05:\n",
    "        textd2[idx] = f'a contribution of {val:.2f} percentage points'\n",
    "    elif val <= -0.04:\n",
    "        textd2[idx] = f'a reduction of {abs(val):.2f} percentage points'\n",
    "    else:\n",
    "        textd2[idx] = 'virtually no effect on inflation'"
   ]
  },
  {
   "cell_type": "code",
   "execution_count": 6,
   "metadata": {},
   "outputs": [
    {
     "name": "stdout",
     "output_type": "stream",
     "text": [
      "In June 2020, housing contributed 0.86 percentage points to overall CPI inflation, compared to a contribution of 1.26 percentage points in June 2019. Medical care contributed 0.46 percentage points to overall inflation in June 2020, compared to a contribution of 0.17 percentage points in June 2019.\n"
     ]
    },
    {
     "data": {
      "text/plain": [
       "'Transportation subtracted 1.21 percentage points from overall CPI inflation in June 2020, compared to a reduction of 0.12 percentage points in June 2019. Energy subtracted 0.77 percentage points from overall inflation, compared to a reduction of 0.24 percentage points the previous year.'"
      ]
     },
     "execution_count": 6,
     "metadata": {},
     "output_type": "execute_result"
    }
   ],
   "source": [
    "text = (f'In {ltdate}, {textd[0]} overall CPI inflation, compared to '+\n",
    "        f'{textd2[0]} in {prevdate}. {textd[1]} overall inflation in '+\n",
    "        f'{ltdate}, compared to {textd2[1]} in {prevdate}.')\n",
    "\n",
    "write_txt(text_dir / 'cpicomp.txt', text)\n",
    "\n",
    "print(text)\n",
    "\n",
    "text2 = (f'{textd[-1]} overall CPI inflation in {ltdate}, compared to '+\n",
    "         f'{textd2[-1]} in {prevdate}. {textd[-2]} overall inflation, '+\n",
    "         f'compared to {textd2[-2]} the previous year.')\n",
    "\n",
    "write_txt(text_dir / 'cpicomp2.txt', text2)\n",
    "\n",
    "text2"
   ]
  },
  {
   "cell_type": "code",
   "execution_count": null,
   "metadata": {},
   "outputs": [],
   "source": []
  },
  {
   "cell_type": "code",
   "execution_count": null,
   "metadata": {},
   "outputs": [],
   "source": []
  },
  {
   "cell_type": "markdown",
   "metadata": {},
   "source": [
    "### CPI chart"
   ]
  },
  {
   "cell_type": "code",
   "execution_count": 7,
   "metadata": {},
   "outputs": [
    {
     "name": "stdout",
     "output_type": "stream",
     "text": [
      "Post Request Status: REQUEST_SUCCEEDED\n"
     ]
    }
   ],
   "source": [
    "# Series stored as a dictionary\n",
    "series = {\n",
    "    'CUSR0000SA0': 'ALL', \n",
    "    'CUSR0000SA0L1E': 'CORE'}\n",
    "\n",
    "# Start year and end year\n",
    "years = (1988, 2020)\n",
    "df = bls_api(series, years, bls_key)\n",
    "\n",
    "(df.pct_change(12).dropna() * 100).to_csv(data_dir / 'cpi.csv', index_label='date')"
   ]
  },
  {
   "cell_type": "code",
   "execution_count": null,
   "metadata": {},
   "outputs": [],
   "source": []
  },
  {
   "cell_type": "markdown",
   "metadata": {},
   "source": [
    "### CPI text"
   ]
  },
  {
   "cell_type": "code",
   "execution_count": 8,
   "metadata": {},
   "outputs": [
    {
     "data": {
      "text/plain": [
       "'\\\\href{https://www.bls.gov/cpi/}{Consumer prices} increased by 0.7 percent over the year ending June 2020, according to the CPI for all urban consumers. Core inflation, which does not include the more volatile food and energy prices, was 1.2 percent.'"
      ]
     },
     "execution_count": 8,
     "metadata": {},
     "output_type": "execute_result"
    }
   ],
   "source": [
    "s = pd.read_csv(data_dir / 'cpi.csv')\n",
    "date = pd.to_datetime(s['date'].iloc[-1]).strftime('%B %Y')\n",
    "core = s['CORE'].iloc[-1]\n",
    "allitems = s['ALL'].iloc[-1]\n",
    "\n",
    "text = ('\\href{https://www.bls.gov/cpi/}{Consumer prices} increased by '+\n",
    "        f'{allitems:.1f} percent over the year ending {date}, according '+\n",
    "        'to the CPI for all urban consumers. Core inflation, which does '+\n",
    "        'not include the more volatile food and energy prices, was '+\n",
    "        f'{core:.1f} percent.')\n",
    "\n",
    "write_txt(text_dir / 'cpi_main.txt', text)\n",
    "\n",
    "text"
   ]
  },
  {
   "cell_type": "code",
   "execution_count": null,
   "metadata": {},
   "outputs": [],
   "source": []
  },
  {
   "cell_type": "code",
   "execution_count": null,
   "metadata": {},
   "outputs": [],
   "source": []
  },
  {
   "cell_type": "markdown",
   "metadata": {},
   "source": [
    "### PPI"
   ]
  },
  {
   "cell_type": "code",
   "execution_count": 2,
   "metadata": {},
   "outputs": [
    {
     "data": {
      "text/plain": [
       "'The Bureau of Labor Statistics \\\\href{https://www.bls.gov/ppi/}{reports} prices producers receive for the various goods and services they produce. The producer price index for all commodities (see {\\\\color{green!80!blue}\\\\textbf{---}}) decreased by 6.1 percent over the year ending May 2020, far below the 12-month growth rate of -0.7 percent in May 2019.'"
      ]
     },
     "execution_count": 2,
     "metadata": {},
     "output_type": "execute_result"
    }
   ],
   "source": [
    "ppi = (fred_df('PPIACO', start='1988')['VALUE'].pct_change(12) * 100).dropna()\n",
    "ppi.to_csv(data_dir / 'ppi.csv', index_label='date')\n",
    "node = end_node(ppi, 'green!80!blue')\n",
    "write_txt(text_dir / 'ppi_node.txt', node)\n",
    "\n",
    "ch = inc_dec_percent(ppi.iloc[-1])\n",
    "prval = ppi.iloc[-13]\n",
    "compare = compare_text(ppi.iloc[-1], prval, [1.0, 3.0, 5.0])\n",
    "date = dtxt(ppi.index[-1])['mon1']\n",
    "date2 = dtxt(ppi.index[-13])['mon1']\n",
    "\n",
    "text = ('The Bureau of Labor Statistics \\\\href{https://www.bls.gov/ppi/}{reports} '+\n",
    "        'prices producers receive for the various goods and services they produce. '+\n",
    "        'The producer price index for all commodities (see {\\color{green!80!blue}\\\\textbf{---}}) '+\n",
    "        f'{ch} over the year ending {date}, {compare} '+\n",
    "        f'the 12-month growth rate of {prval:.1f} percent '+\n",
    "        f'in {date2}.')\n",
    "\n",
    "write_txt(text_dir / 'ppi_main.txt', text)\n",
    "\n",
    "text"
   ]
  },
  {
   "cell_type": "code",
   "execution_count": null,
   "metadata": {},
   "outputs": [],
   "source": []
  },
  {
   "cell_type": "code",
   "execution_count": null,
   "metadata": {},
   "outputs": [],
   "source": []
  },
  {
   "cell_type": "markdown",
   "metadata": {},
   "source": [
    "### Import/Export Price Index"
   ]
  },
  {
   "cell_type": "code",
   "execution_count": 2,
   "metadata": {},
   "outputs": [
    {
     "name": "stdout",
     "output_type": "stream",
     "text": [
      "Post Request Status: REQUEST_SUCCEEDED\n"
     ]
    }
   ],
   "source": [
    "# Series stored as a dictionary\n",
    "series = {'EIUIR': 'Imports', \n",
    "          'EIUIQ': 'Exports',\n",
    "          'EIUIREXFUELS': 'ImpExFuels',\n",
    "          'EIUIR10': 'ImpFuels',\n",
    "          'EIUIQEXAG': 'ExpExAg',\n",
    "          'EIUIQAG': 'ExpAg'}\n",
    "\n",
    "# Start year and end year\n",
    "years = (1988, 2020)\n",
    "df = bls_api(series, years, bls_key)\n",
    "\n",
    "df.to_csv(data_dir / 'mxpi_main.csv', index_label='date')\n",
    "\n",
    "srs = ['Imports', 'Exports']\n",
    "(df[srs].pct_change(12).dropna() * 100).to_csv(data_dir / 'mxpi.csv', index_label='date')"
   ]
  },
  {
   "cell_type": "code",
   "execution_count": 3,
   "metadata": {},
   "outputs": [
    {
     "data": {
      "text/plain": [
       "'According to the Bureau of Labor Statistics, US import prices (see {\\\\color{cyan!85!yellow}\\\\textbf{---}}) decreased by 3.8 percent over the 12 months ending June 2020. Import prices decreased by 6.2 percent over the 12 months ending the month prior (May 2020). The latest value is substantially below the past-three-year average growth rate of 0.4 percent.'"
      ]
     },
     "execution_count": 3,
     "metadata": {},
     "output_type": "execute_result"
    }
   ],
   "source": [
    "df = pd.read_csv(data_dir / 'mxpi_main.csv', index_col='date')\n",
    "\n",
    "df.index = pd.to_datetime(df.index)\n",
    "\n",
    "data = (df.pct_change(12).dropna() * 100)\n",
    "\n",
    "ltval = data['Imports'].iloc[-1]\n",
    "ch = inc_dec_percent(ltval)\n",
    "ltdate = dtxt(data.index[-1])['mon1']\n",
    "chpr = inc_dec_percent(data['Imports'].iloc[-2])\n",
    "prdate = dtxt(data.index[-2])['mon1']\n",
    "\n",
    "s = series_info(data['Imports'])\n",
    "m3y = s['three_year_mean']\n",
    "lm = f\", {s['last_matched']}\" if s['days_since_match'] > 1000 else ''\n",
    "compare = compare_text(ltval, m3y, [0.4, 2.0, 6.0])\n",
    "\n",
    "text = ('According to the Bureau of Labor Statistics, US import '+\n",
    "        'prices (see {\\color{cyan!85!yellow}\\\\textbf{---}}) '+\n",
    "        f'{ch} over the 12 months ending {ltdate}{lm}. '+\n",
    "        f'Import prices {chpr} over the 12 months ending the month prior ({prdate}). '\n",
    "        f'The latest value is {compare} the past-three-year average growth rate '+\n",
    "        f'of {m3y:.1f} percent.')\n",
    "\n",
    "write_txt(text_dir / 'mxpi_imp.txt', text)\n",
    "\n",
    "text"
   ]
  },
  {
   "cell_type": "code",
   "execution_count": 4,
   "metadata": {},
   "outputs": [
    {
     "data": {
      "text/plain": [
       "'Prices of US exports (see {\\\\color{red!25!orange}\\\\textbf{---}}) decreased by 4.4 percent over the year ending June 2020, also substantially below its three-year moving average growth rate of 0.6 percent. Export prices decreased by 6.2 percent over the 12 months ending May 2020.'"
      ]
     },
     "execution_count": 4,
     "metadata": {},
     "output_type": "execute_result"
    }
   ],
   "source": [
    "ltval = data['Exports'].iloc[-1]\n",
    "ch = inc_dec_percent(ltval)\n",
    "ltdate = dtxt(data.index[-1])['mon1']\n",
    "chpr = inc_dec_percent(data['Exports'].iloc[-2])\n",
    "prdate = dtxt(data.index[-2])['mon1']\n",
    "\n",
    "s = series_info(data['Exports'])\n",
    "m3y = s['three_year_mean']\n",
    "lm = f\", {s['last_matched']}, and \" if s['days_since_match'] > 1000 else ', '\n",
    "compare2 = compare_text(ltval, m3y, [0.4, 2.0, 6.0])\n",
    "also = 'also ' if compare2 == compare else ''\n",
    "\n",
    "text = ('Prices of US exports (see {\\color{red!25!orange}\\\\textbf{---}}) '+\n",
    "        f'{ch} over the year ending {ltdate}{lm}{also}{compare2} '+\n",
    "        f'its three-year moving average growth rate of {m3y:.1f} percent. '+\n",
    "        f'Export prices {chpr} over the 12 months ending {prdate}.')\n",
    "\n",
    "write_txt(text_dir / 'mxpi_exp.txt', text)\n",
    "\n",
    "text"
   ]
  },
  {
   "cell_type": "code",
   "execution_count": null,
   "metadata": {},
   "outputs": [],
   "source": []
  },
  {
   "cell_type": "code",
   "execution_count": null,
   "metadata": {},
   "outputs": [],
   "source": []
  },
  {
   "cell_type": "markdown",
   "metadata": {},
   "source": [
    "### PCE Price Index"
   ]
  },
  {
   "cell_type": "code",
   "execution_count": 9,
   "metadata": {},
   "outputs": [
    {
     "name": "stdout",
     "output_type": "stream",
     "text": [
      "As of May 2020, PCE inflation, measured as the one year percent change in the overall index, is 0.5 percent, compared to 0.6 percent in April 2020, and 1.4 percent in May 2019. Core PCE inflation, excluding food and energy, was 1.0 percent in May 2020, 1.0 percent in April 2020, and 1.5 percent in May 2019.\n"
     ]
    }
   ],
   "source": [
    "data = pd.DataFrame()\n",
    "\n",
    "df = fred_df('PCEPI', start='1988').pct_change(12)\n",
    "data['PCE'] = df['VALUE'].dropna() * 100.0\n",
    "df = fred_df('PCEPILFE', start='1988').pct_change(12)\n",
    "data['CORE'] = df['VALUE'].dropna() * 100.0\n",
    "\n",
    "data.to_csv(data_dir / 'pce_pi.csv', index_label='date')\n",
    "\n",
    "ltdate = dtxt(data.index[-1])['mon1']\n",
    "prdate = dtxt(data.index[-2])['mon1']\n",
    "pryrdate = dtxt(data.index[-13])['mon1']\n",
    "ltval = data.PCE.iloc[-1]\n",
    "prval = data.PCE.iloc[-2]\n",
    "pryrval = data.PCE.iloc[-13]\n",
    "ltcore = data.CORE.iloc[-1]\n",
    "prcore = data.CORE.iloc[-2]\n",
    "pryrcore = data.CORE.iloc[-13]\n",
    "\n",
    "text = (f'As of {ltdate}, PCE inflation, measured as the one year percent '+\n",
    "        f'change in the overall index, is {ltval:.1f} percent, compared to '+\n",
    "        f'{prval:.1f} percent in {prdate}, and {pryrval:.1f} percent in {pryrdate}. '+\n",
    "        f'Core PCE inflation, excluding food and energy, was {ltcore:.1f} percent '+\n",
    "        f'in {ltdate}, {prcore:.1f} percent in {prdate}, and {pryrcore:.1f} '+\n",
    "        f'percent in {pryrdate}.')\n",
    "\n",
    "write_txt(text_dir / 'pce_inf_basic.txt', text)\n",
    "\n",
    "print(text)"
   ]
  },
  {
   "cell_type": "code",
   "execution_count": 4,
   "metadata": {},
   "outputs": [],
   "source": []
  },
  {
   "cell_type": "code",
   "execution_count": null,
   "metadata": {},
   "outputs": [],
   "source": []
  },
  {
   "cell_type": "code",
   "execution_count": null,
   "metadata": {},
   "outputs": [],
   "source": []
  }
 ],
 "metadata": {
  "kernelspec": {
   "display_name": "Python 3",
   "language": "python",
   "name": "python3"
  },
  "language_info": {
   "codemirror_mode": {
    "name": "ipython",
    "version": 3
   },
   "file_extension": ".py",
   "mimetype": "text/x-python",
   "name": "python",
   "nbconvert_exporter": "python",
   "pygments_lexer": "ipython3",
   "version": "3.8.2"
  }
 },
 "nbformat": 4,
 "nbformat_minor": 2
}
