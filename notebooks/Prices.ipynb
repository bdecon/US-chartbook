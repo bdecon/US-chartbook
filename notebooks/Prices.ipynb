{
 "cells": [
  {
   "cell_type": "markdown",
   "metadata": {},
   "source": [
    "# Prices"
   ]
  },
  {
   "cell_type": "code",
   "execution_count": 1,
   "metadata": {
    "ExecuteTime": {
     "end_time": "2022-02-25T15:24:33.954055Z",
     "start_time": "2022-02-25T15:24:33.305332Z"
    }
   },
   "outputs": [],
   "source": [
    "import sys\n",
    "sys.path.append('../src')\n",
    "\n",
    "import uschartbook.config\n",
    "\n",
    "from uschartbook.config import *\n",
    "from uschartbook.utils import *"
   ]
  },
  {
   "cell_type": "markdown",
   "metadata": {},
   "source": [
    "### CPI components \n",
    "\n",
    "\n",
    "https://www.bls.gov/cpi/tables/relative-importance/home.htm"
   ]
  },
  {
   "cell_type": "code",
   "execution_count": null,
   "metadata": {
    "ExecuteTime": {
     "end_time": "2022-02-11T21:16:40.716329Z",
     "start_time": "2022-02-11T21:16:40.267445Z"
    }
   },
   "outputs": [],
   "source": [
    "base = 'CUUR0000'\n",
    "\n",
    "series1 = {'SA0': 'All items',\n",
    "           'SAM': 'Medical care',\n",
    "           'SAH': 'Housing',\n",
    "           'SEFV': 'Food away from home',\n",
    "           'SAF11': 'Food at home',\n",
    "           'SAR': 'Recreation',\n",
    "           'SAE1': 'Education',\n",
    "           'SAT': 'Transportation',\n",
    "           'SAA': 'Apparel',\n",
    "           'SA0E': 'Energy',\n",
    "           'SAE2': 'Communication'}\n",
    "\n",
    "series2 = {'SEHA': 'Rent of primary residence',\n",
    "           'SEHC': \"Owners' equivalent rent of primary residence\",\n",
    "           'SAH3': 'Household furnishings and operations',\n",
    "           'SETA01': 'New vehicles',\n",
    "           'SETA02': 'Used cars and trucks',\n",
    "           'SEMD': 'Hospital and related services',\n",
    "           'SEMC': 'Professional services',\n",
    "           'SEME': 'Health insurance'}\n",
    "\n",
    "series = {**series1, **series2}\n",
    "series = {base+key: value for key, value in series.items()}\n",
    "\n",
    "url = 'https://www.bls.gov/cpi/tables/relative-importance/2021.htm'\n",
    "t = pd.read_html(url,header=1, index_col=0)\n",
    "wgts = t[0].dropna()['CPI-U'].to_dict()\n",
    "wgt_date = pd.to_datetime('2021-12-01')"
   ]
  },
  {
   "cell_type": "code",
   "execution_count": null,
   "metadata": {
    "ExecuteTime": {
     "end_time": "2022-02-10T15:05:02.453311Z",
     "start_time": "2022-02-10T15:05:01.080215Z"
    }
   },
   "outputs": [],
   "source": [
    "# Start year and end year\n",
    "years = (2017, 2022)\n",
    "df = bls_api(series, years, bls_key)\n",
    "df.to_csv(data_dir / 'cpi_comp_raw.csv', index_label='date')"
   ]
  },
  {
   "cell_type": "code",
   "execution_count": null,
   "metadata": {
    "ExecuteTime": {
     "end_time": "2022-02-11T21:16:42.676946Z",
     "start_time": "2022-02-11T21:16:42.632287Z"
    }
   },
   "outputs": [],
   "source": [
    "df = pd.read_csv(data_dir / 'cpi_comp_raw.csv', index_col='date')\n",
    "df.index = pd.to_datetime(df.index)\n",
    "dates = {'Latest': df.index[-1], 'Previous': df.index[-13]}\n",
    "\n",
    "d = {}\n",
    "\n",
    "for name, date in dates.items():\n",
    "\n",
    "    updated_wgts = {srs: ((df.loc[date, srs] / df.loc[wgt_date, srs])\n",
    "                     * float(wgts[srs]) / \n",
    "                     (df.loc[date, 'All items'] / \n",
    "                      df.loc[wgt_date, 'All items']))\n",
    "                    for key, srs in series.items()}\n",
    "    \n",
    "    d[name] = {srs: (df[srs].pct_change(12).loc[date] \n",
    "                        * (updated_wgts[srs]))\n",
    "                  for key, srs in series.items()}\n",
    "    \n",
    "results = pd.DataFrame(d).round(2).sort_values('Latest', ascending=False)\n",
    "results.loc[series1.values()].drop('All items').to_csv(data_dir / 'cpi_comp.csv', index_label='name')\n",
    "\n",
    "write_txt(text_dir / 'cpi_mo1.txt', dtxt(df.index[-1])['mon2'])\n",
    "write_txt(text_dir / 'cpi_mo2.txt', dtxt(df.index[-13])['mon2'])\n",
    "\n",
    "results"
   ]
  },
  {
   "cell_type": "code",
   "execution_count": null,
   "metadata": {
    "ExecuteTime": {
     "end_time": "2022-02-11T21:16:53.548275Z",
     "start_time": "2022-02-11T21:16:53.537334Z"
    },
    "scrolled": true
   },
   "outputs": [],
   "source": [
    "ltdate = dtxt(df.index[-1])['mon1']\n",
    "prdate = dtxt(df.index[-13])['mon1']\n",
    "\n",
    "data = results.loc[series1.values()].drop('All items')\n",
    "c1n = data.index[0].lower()\n",
    "c1v = data.Latest.iloc[0]\n",
    "c1vt = value_text(c1v, style=\"contribution_to\", ptype=\"pp\", digits=2, casual=True)\n",
    "c1 = f'In {ltdate}, {c1n} {c1vt} overall CPI inflation'\n",
    "p1v = data.Previous.iloc[0]\n",
    "ct1 = compare_text(c1v, p1v, cutoffs=[0.05, 0.3, 1])\n",
    "p1vt = (value_text(p1v, style='contribution_of', ptype='pp', digits=2)\n",
    "        .replace('a ', f\"the category's {prdate} \"))\n",
    "\n",
    "c2n = data.index[1]\n",
    "c2v = data.Latest.iloc[1]\n",
    "c2vt = value_text(c2v, style=\"contribution_to\", ptype=\"pp\", digits=2)\n",
    "c2 = f'{c2n} {c2vt} inflation'\n",
    "p2v = data.Previous.iloc[1]\n",
    "if abs(p2v - c2v) > 0.2:\n",
    "    ct2 = compare_text(c2v, p2v, cutoffs=[0.05, 0.3, 1])\n",
    "else:\n",
    "    ct2 = 'and'\n",
    "p2vt = value_text(p2v, style='contribution', ptype='pp', digits=2, casual=True)\n",
    "\n",
    "c5n = data.index[2]\n",
    "c5v = data.Latest.iloc[2]\n",
    "c5vt = value_text(c5v, style=\"contribution_to\", ptype=\"pp\", digits=2)\n",
    "c5 = f'{c5n} {c5vt} inflation'\n",
    "p5v = data.Previous.iloc[2]\n",
    "if abs(p5v - c5v) > 0.2:\n",
    "    ct5 = compare_text(c5v, p5v, cutoffs=[0.05, 0.3, 1])\n",
    "    style = 'contribution_of'\n",
    "else:\n",
    "    ct5 = 'and'\n",
    "    style = 'contribution'\n",
    "p5vt = value_text(p5v, style=style, ptype='pp', digits=2, casual=True)\n",
    "\n",
    "c3n = data.index[-1]\n",
    "c3v = data.Latest.iloc[-1]\n",
    "c3vt = value_text(c3v, style=\"contribution_to\", ptype=\"pp\", digits=2)\n",
    "c3 = f'{c3n} {c3vt} inflation in {ltdate}'\n",
    "p3v = data.Previous.iloc[-1]\n",
    "ct3 = compare_text(c3v, p3v, cutoffs=[0.05, 0.3, 1])\n",
    "p3vt = (value_text(p3v, style='contribution_of', ptype='pp', digits=2)\n",
    "        .replace('a ', 'the ').replace('an ', 'the '))\n",
    "\n",
    "c4n = data.index[-2]\n",
    "c4v = data.Latest.iloc[-2]\n",
    "c4vt = value_text(c4v, style=\"contribution\", ptype=\"pp\", digits=2, casual=True)\n",
    "c4 = f'{c4n} {c4vt} in {ltdate}'\n",
    "p4v = data.Previous.iloc[-2]\n",
    "ct4 = compare_text(c4v, p4v, cutoffs=[0.05, 0.3, 1])\n",
    "p4vt = (value_text(p4v, style='contribution_of', ptype='pp', digits=2, casual=True)\n",
    "        .replace('a ', 'the ').replace('an ', 'the '))\n",
    "\n",
    "text = (f'{c1}, {ct1} {p1vt}. {c2} in {ltdate} {ct2} {p2vt} in {prdate}. '+\n",
    "        f'{c5}, {ct5} {p5vt} one year prior.\\n\\n'+\n",
    "        f'{c3}, {ct3} {p3vt} during the same month one year prior. '+\n",
    "        f'{c4}, {ct4} {p4vt} in {prdate}.')\n",
    "write_txt(text_dir / 'cpicomp.txt', text)\n",
    "print(text)"
   ]
  },
  {
   "cell_type": "code",
   "execution_count": null,
   "metadata": {},
   "outputs": [],
   "source": []
  },
  {
   "cell_type": "code",
   "execution_count": null,
   "metadata": {},
   "outputs": [],
   "source": []
  },
  {
   "cell_type": "markdown",
   "metadata": {},
   "source": [
    "### CPI Table"
   ]
  },
  {
   "cell_type": "code",
   "execution_count": null,
   "metadata": {
    "ExecuteTime": {
     "end_time": "2022-02-16T19:57:08.705807Z",
     "start_time": "2022-02-16T19:57:08.603326Z"
    }
   },
   "outputs": [],
   "source": [
    "df = pd.read_csv(data_dir / 'cpi_comp_raw.csv', \n",
    "                 index_col='date', parse_dates=True)\n",
    "ltdt = df.index[-1]\n",
    "\n",
    "data = df.pct_change(12) * 100\n",
    "\n",
    "tbl = pd.DataFrame()\n",
    "for i in [-1, -2, -3, -4, -13, -25]:\n",
    "    tbl[df.index[i]] = data.iloc[i]\n",
    "    \n",
    "dt = '2020-02-01'\n",
    "cdt = pd.to_datetime(dt)\n",
    "tbl[cdt] = data.loc[dt]\n",
    "\n",
    "tbl = tbl[tbl.columns.sort_values(ascending=False)]\n",
    "tbl = tbl.applymap('{:,.1f}'.format)\n",
    "tbl.columns = [dtxt(col)['mon6'] for col in tbl.columns]\n",
    "\n",
    "wgt_dt = dtxt(ltdt)['mon6']\n",
    "wgt_col = f'Weight, {wgt_dt}'\n",
    "tbl[wgt_col] = pd.Series(updated_wgts).astype('float').map('{:,.3f}'.format)\n",
    "tbl.loc['All items', wgt_col] = '100.0'\n",
    "\n",
    "order = ['All items', 'Housing', \"Owners' equivalent rent of primary residence\",\n",
    "         'Rent of primary residence', 'Household furnishings and operations',  \n",
    "         'Transportation', 'New vehicles',\n",
    "         'Used cars and trucks', 'Medical care', 'Professional services',\n",
    "         'Hospital and related services', 'Health insurance',\n",
    "         'Food at home', 'Food away from home', 'Energy', 'Recreation',\n",
    "         'Communication', 'Education', 'Apparel']\n",
    "tbl = tbl.loc[order]\n",
    "s2adj = {val: f'\\hspace{{2mm}} {val}' for val in list(series2.values())}\n",
    "s1 = {val: val for val in series1.values()}\n",
    "adj = {**s2adj, **s1}\n",
    "tbl.index = tbl.index.map(adj)\n",
    "tbl = (tbl.rename({\"\\hspace{2mm} Owners' equivalent rent of primary residence\": \n",
    "                   \"\\hspace{2mm} Owners' equivalent rent\"})\n",
    "          .rename({'\\hspace{2mm} Household furnishings and operations':\n",
    "                   '\\hspace{2mm} Household furnishings \\& ops.'}))\n",
    "(tbl.to_csv(data_dir / 'cpi_comp.tex', sep='&', \n",
    "           line_terminator='\\\\\\ ', quotechar=' '))\n",
    "tbl"
   ]
  },
  {
   "cell_type": "code",
   "execution_count": null,
   "metadata": {
    "ExecuteTime": {
     "end_time": "2022-02-10T15:59:02.472521Z",
     "start_time": "2022-02-10T15:59:02.462006Z"
    }
   },
   "outputs": [],
   "source": [
    "ltdate = dtxt(ltdt)['mon1']\n",
    "\n",
    "res = data.loc[[ltdt, cdt]].T.sort_values(by=[ltdt])\n",
    "\n",
    "hc = res.loc['Housing', ltdt]\n",
    "h1 = value_text(res.loc['Housing', ltdt])\n",
    "hp = res.loc['Housing', cdt]\n",
    "hch = compare_text(hc, hp, [0.3, 1.0, 3.0])\n",
    "m1 = value_text(res.loc['Medical care', ltdt])\n",
    "mpr = value_text(res.loc['Medical care', cdt], casual=True)\n",
    "fah1 = value_text(res.loc['Food at home', ltdt])\n",
    "fahpr = res.loc['Food at home', cdt]\n",
    "tc = res.loc['Transportation', ltdt]\n",
    "t1 = value_text(tc)\n",
    "tp = res.loc['Transportation', cdt]\n",
    "tpr = value_text(tp, style='increase_end').replace('a ', '').replace('an ', '')\n",
    "tch = compare_text(tc, tp, [0.3, 1.0, 3.0])\n",
    "e1 = value_text(res.loc['Energy', ltdt])\n",
    "epr = value_text(res.loc['Energy', cdt], style='increase_end')\n",
    "\n",
    "text = (f'Housing prices {h1} over the year ending {ltdate}, '+\n",
    "        f'{hch} the pre-COVID rate of {hp:.1f} percent (covering the year '+\n",
    "        f'ending February 2020). Medical care prices {m1}, '+\n",
    "        f'these prices {mpr} over the year ending February 2020. '+\n",
    "        'In contrast, prices of food consumed at home '+\n",
    "        f'(groceries) {fah1} in the year ending '+\n",
    "        f'{ltdate} compared to {fahpr:.1f} percent over the year '+\n",
    "        'ending February 2020. \\n\\n'+\n",
    "        f'Transportation prices {t1} over the year ending {ltdate}, '+\n",
    "        f'{tch} the pre-COVID {tpr}. '+\n",
    "        f'Energy prices {e1} in the latest month, '+\n",
    "        f'compared to {epr} in February 2020. Energy prices '+\n",
    "        'are historically more volatile than other categories. ')\n",
    "write_txt(text_dir / 'cpicomp2.txt', text)\n",
    "print(text)"
   ]
  },
  {
   "cell_type": "code",
   "execution_count": null,
   "metadata": {},
   "outputs": [],
   "source": []
  },
  {
   "cell_type": "code",
   "execution_count": null,
   "metadata": {},
   "outputs": [],
   "source": []
  },
  {
   "cell_type": "markdown",
   "metadata": {},
   "source": [
    "### CPI Decomposition"
   ]
  },
  {
   "cell_type": "code",
   "execution_count": null,
   "metadata": {
    "ExecuteTime": {
     "end_time": "2022-02-17T00:08:04.432977Z",
     "start_time": "2022-02-17T00:08:04.317232Z"
    }
   },
   "outputs": [],
   "source": [
    "# cols = list(rel_wgt.keys())\n",
    "# d = {c: {} for c in cols}\n",
    "# data = {c: {} for c in cols}\n",
    "# dates = [f'{i}-12-01' for i in range(2009, 2023, 2)]\n",
    "# for s, i in itertools.product(cols, dates):\n",
    "#     start, end, prev = (i, dtxt(pd.to_datetime(i) + \n",
    "#                          pd.DateOffset(years=2))['datetime'],\n",
    "#                         dtxt(pd.to_datetime(i) - \n",
    "#                          pd.DateOffset(years=2))['datetime'])\n",
    "#     ri = [w[1] for w in rel_wgt[s] if w[0][0] == start][0]\n",
    "#     base = df.loc[start, s]\n",
    "#     print(s)\n",
    "#     dt = pd.to_datetime(i)\n",
    "#     d10 = pd.to_datetime('2010-01-01')\n",
    "#     prev_link = d[s][prev] if dt > d10 else df.loc[start, s]\n",
    "#     print(prev_link)\n",
    "#     val = (ri * df.loc[start:end, s]) / prev_link\n",
    "#     d[s][start] = (val[-1] / val[0]) * df.loc[:end, s].iloc[-1]\n",
    "#     data[s].update(val.to_dict())"
   ]
  },
  {
   "cell_type": "code",
   "execution_count": null,
   "metadata": {},
   "outputs": [],
   "source": []
  },
  {
   "cell_type": "code",
   "execution_count": 14,
   "metadata": {
    "ExecuteTime": {
     "end_time": "2022-02-17T00:33:05.111306Z",
     "start_time": "2022-02-17T00:33:05.104390Z"
    }
   },
   "outputs": [],
   "source": [
    "# Relative weights for series of interest, from here: \n",
    "# https://www.bls.gov/cpi/tables/relative-importance/home.htm\n",
    "rel_wgt = {'CUUR0000SAF1': [(('2009-12-01', '2011-12-01'), 13.738),\n",
    "                           (('2011-12-01', '2013-12-01'), 14.308),\n",
    "                           (('2013-12-01', '2015-12-01'), 13.891), \n",
    "                           (('2015-12-01', '2017-12-01'), 14.015), \n",
    "                           (('2017-12-01', '2019-12-01'), 13.384),\n",
    "                           (('2019-12-01', '2021-12-01'), 13.771),\n",
    "                           (('2021-12-01', '2023-12-01'), 13.370)],\n",
    "           'CUUR0000SA0': [(('2009-12-01', '2011-12-01'), 100.0),\n",
    "                           (('2011-12-01', '2013-12-01'), 100.0),\n",
    "                           (('2013-12-01', '2015-12-01'), 100.0), \n",
    "                           (('2015-12-01', '2017-12-01'), 100.0), \n",
    "                           (('2017-12-01', '2019-12-01'), 100.0),\n",
    "                           (('2019-12-01', '2021-12-01'), 100.0),\n",
    "                           (('2021-12-01', '2023-12-01'), 100.0)],\n",
    "           'CUUR0000SA0E': [(('2009-12-01', '2011-12-01'), 8.553),\n",
    "                            (('2011-12-01', '2013-12-01'), 9.679),\n",
    "                            (('2013-12-01', '2015-12-01'), 9.046), \n",
    "                            (('2015-12-01', '2017-12-01'), 6.816), \n",
    "                            (('2017-12-01', '2019-12-01'), 7.513),\n",
    "                            (('2019-12-01', '2021-12-01'), 6.706),\n",
    "                            (('2021-12-01', '2023-12-01'), 7.348)],\n",
    "           'CUUR0000SAH1': [(('2009-12-01', '2011-12-01'), 32.289),\n",
    "                            (('2011-12-01', '2013-12-01'), 31.539),\n",
    "                            (('2013-12-01', '2015-12-01'), 32.029), \n",
    "                            (('2015-12-01', '2017-12-01'), 33.15), \n",
    "                            (('2017-12-01', '2019-12-01'), 32.843),\n",
    "                            (('2019-12-01', '2021-12-01'), 33.158),\n",
    "                            (('2021-12-01', '2023-12-01'), 32.946)],\n",
    "           'CUUR0000SACL1E': [(('2009-12-01', '2011-12-01'), 21.276),\n",
    "                              (('2011-12-01', '2013-12-01'), 19.852),\n",
    "                              (('2013-12-01', '2015-12-01'), 19.71), \n",
    "                              (('2015-12-01', '2017-12-01'), 19.613), \n",
    "                              (('2017-12-01', '2019-12-01'), 19.849),\n",
    "                              (('2019-12-01', '2021-12-01'), 20.137),\n",
    "                              (('2021-12-01', '2023-12-01'), 21.699)],\n",
    "           'CUUR0000SASLE': [(('2009-12-01', '2011-12-01'), 56.432),\n",
    "                             (('2011-12-01', '2013-12-01'), 56.161),\n",
    "                             (('2013-12-01', '2015-12-01'), 57.353), \n",
    "                             (('2015-12-01', '2017-12-01'), 59.556), \n",
    "                             (('2017-12-01', '2019-12-01'), 59.254),\n",
    "                             (('2019-12-01', '2021-12-01'), 59.387),\n",
    "                             (('2021-12-01', '2023-12-01'), 57.583)]}\n",
    "series = {key: key for key, value in rel_wgt.items()}"
   ]
  },
  {
   "cell_type": "code",
   "execution_count": null,
   "metadata": {},
   "outputs": [],
   "source": [
    "# Start year and end year\n",
    "years = (2008, 2022)\n",
    "df = bls_api(series, years, bls_key)\n",
    "df.to_csv(data_dir / 'cpi_decomp_raw.csv', index_label='date')"
   ]
  },
  {
   "cell_type": "code",
   "execution_count": 15,
   "metadata": {
    "ExecuteTime": {
     "end_time": "2022-02-17T00:33:09.959760Z",
     "start_time": "2022-02-17T00:33:09.810866Z"
    }
   },
   "outputs": [],
   "source": [
    "df = pd.read_csv(data_dir / 'cpi_decomp_raw.csv', index_col='date', \n",
    "                 parse_dates=True)\n",
    "\n",
    "# Dictionary combining all the info for each series\n",
    "d = {i: {'name': i,\n",
    "         'values': df[i],\n",
    "         'rel_wgt': rel_wgt[i]} for i in list(rel_wgt.keys())}\n",
    "\n",
    "# Adjust for changes to relative importance\n",
    "df1, df2, df3, df4, df5, df6, df7 = (pd.DataFrame(), pd.DataFrame(), \n",
    "                                     pd.DataFrame(), pd.DataFrame(), \n",
    "                                     pd.DataFrame(), pd.DataFrame(), \n",
    "                                     pd.DataFrame())\n",
    "for i, v in d.items():\n",
    "    start, end = v['rel_wgt'][0][0][0], v['rel_wgt'][0][0][1]\n",
    "    rwc, rwn = v['rel_wgt'][0][1], v['rel_wgt'][1][1]\n",
    "    df1.at[start: end, i] = (v['values'].loc[start: end])\n",
    "    df1[i] = (df1[i].diff().cumsum() / df1.loc[start, i] + 1)\n",
    "    df1.at[start, i] = 1.0\n",
    "    df1[i] = (df1[i] * rwc)\n",
    "    link = (df1.loc[end, i] / rwn)\n",
    "    \n",
    "    # Next set of dates\n",
    "    start, end = v['rel_wgt'][1][0][0], v['rel_wgt'][1][0][1]\n",
    "    rwc, rwn = v['rel_wgt'][1][1], v['rel_wgt'][2][1]\n",
    "    df2[i] = (v['values'].loc[start: end])\n",
    "    df2[i] = df2[i].diff().cumsum() / df2.loc[start, i] + 1\n",
    "    df2.at[start, i] = 1.0\n",
    "    df2[i] = (df2[i] * rwc) * link\n",
    "    link = (df2.loc[end, i] / rwn)\n",
    "    \n",
    "    # Next set of dates\n",
    "    start, end = v['rel_wgt'][2][0][0], v['rel_wgt'][2][0][1]\n",
    "    rwc, rwn = v['rel_wgt'][2][1], v['rel_wgt'][3][1]\n",
    "    df3[i] = (v['values'].loc[start: end])\n",
    "    df3[i] = df3[i].diff().cumsum() / df3.loc[start, i] + 1\n",
    "    df3.at[start, i] = 1.0\n",
    "    df3[i] = (df3[i] * rwc) * link\n",
    "    link = (df3.loc[end, i] / rwn)\n",
    "    \n",
    "    # Next set of dates\n",
    "    start, end = v['rel_wgt'][3][0][0], v['rel_wgt'][3][0][1]\n",
    "    rwc, rwn = v['rel_wgt'][3][1], v['rel_wgt'][4][1]\n",
    "    df4[i] = (v['values'].loc[start: end])\n",
    "    df4[i] = df4[i].diff().cumsum() / df4.loc[start, i] + 1\n",
    "    df4.at[start, i] = 1.0\n",
    "    df4[i] = (df4[i] * rwc) * link\n",
    "    link = (df4.loc[end, i] / rwn)\n",
    "\n",
    "    # Next set of dates\n",
    "    start, end = v['rel_wgt'][4][0][0], v['rel_wgt'][4][0][1]\n",
    "    rwc, rwn = v['rel_wgt'][4][1], v['rel_wgt'][5][1]\n",
    "    df5[i] = (v['values'].loc[start: end])\n",
    "    df5[i] = df5[i].diff().cumsum() / df5.loc[start, i] + 1\n",
    "    df5.at[start, i] = 1.0\n",
    "    df5[i] = (df5[i] * rwc) * link\n",
    "    link = (df5.loc[end, i] / rwn)    \n",
    "    \n",
    "    # Next set of dates\n",
    "    start, end = v['rel_wgt'][5][0][0], v['rel_wgt'][5][0][1]\n",
    "    rwc, rwn = v['rel_wgt'][5][1], v['rel_wgt'][6][1]\n",
    "    df6[i] = (v['values'].loc[start: end])\n",
    "    df6[i] = df6[i].diff().cumsum() / df6.loc[start, i] + 1\n",
    "    df6.at[start, i] = 1.0\n",
    "    df6[i] = (df6[i] * rwc) * link\n",
    "    link = (df6.loc[end, i] / rwn)   \n",
    "    \n",
    "    # Next set of dates\n",
    "    start, end = v['rel_wgt'][6][0][0], v['rel_wgt'][6][0][1]\n",
    "    rwc = v['rel_wgt'][6][1]\n",
    "    df7[i] = (v['values'].loc[start: end])\n",
    "    df7[i] = df7[i].diff().cumsum() / df7.loc[start, i] + 1\n",
    "    df7.at[start, i] = 1.0\n",
    "    df7[i] = (df7[i] * rwc) * link"
   ]
  },
  {
   "cell_type": "code",
   "execution_count": 33,
   "metadata": {
    "ExecuteTime": {
     "end_time": "2022-02-17T00:39:10.387654Z",
     "start_time": "2022-02-17T00:39:10.368451Z"
    }
   },
   "outputs": [
    {
     "name": "stdout",
     "output_type": "stream",
     "text": [
      "As of January 2022, core goods contributed 2.08 percentage points to the overall non-seasonally-adjusted CPI inflation rate of 7.48 percent, while core services excluding shelter contributed 0.95 percentage point. Shelter contributed 1.54 percentage points, and food and energy contributed 2.91 percentage points. One year prior, in January 2021, the corresponding CPI inflation rate was 1.40 percent; core goods contributed 0.30 percentage point, core services excluding shelter contributed 0.23 percentage point, shelter contributed 0.57 percentage point, and food and energy contributed 0.25 percentage point.\n"
     ]
    }
   ],
   "source": [
    "# Calculate exactly what I want to show\n",
    "res = pd.concat([df1, df2, df3, df4, df5, df6, df7])  # Combine the various relative importance dfs\n",
    "res = res[~res.index.duplicated(keep='first')] # Drop duplicate pivot year data\n",
    "final = ((res.diff(12).divide(res['CUUR0000SA0'].diff(12), axis=0))\n",
    "         .multiply(res['CUUR0000SA0'].pct_change(12) * 100, axis=0))\n",
    "# Core services is services less food, energy, and shelter\n",
    "final['core_services'] = final['CUUR0000SASLE'] - final['CUUR0000SAH1']\n",
    "# Combine food and energy\n",
    "final['food_energy'] = final['CUUR0000SAF1'] + final['CUUR0000SA0E']\n",
    "final = final.dropna().round(2)\n",
    "d2 = final[['CUUR0000SACL1E', 'core_services', 'CUUR0000SAH1', 'food_energy']].loc['2011-01-01':]\n",
    "# Rename columns\n",
    "col_names = ['core_goods', 'core_services', 'shelter', 'food_energy']\n",
    "d2.columns = col_names\n",
    "d2['total'] = final['CUUR0000SA0'].loc['2011-01-01':]\n",
    "\n",
    "d2.to_csv(data_dir / 'cpi_decomp.csv', index_label='date')\n",
    "\n",
    "ltdate = dtxt(d2.index[-1])['mon1']\n",
    "prdate = dtxt(d2.index[-13])['mon1']\n",
    "cg = cont_subt(d2.core_goods.iloc[-1])\n",
    "cs = cont_subt(d2.core_services.iloc[-1], style='end')\n",
    "sh = cont_subt(d2.shelter.iloc[-1], style='end')\n",
    "fe = cont_subt(d2.food_energy.iloc[-1], style='end')\n",
    "tot = d2.total.iloc[-1]\n",
    "cgpr = cont_subt(d2.core_goods.iloc[-13], style='end')\n",
    "cspr = cont_subt(d2.core_services.iloc[-13], style='end')\n",
    "shpr = cont_subt(d2.shelter.iloc[-13], style='end')\n",
    "fepr = cont_subt(d2.food_energy.iloc[-13], style='end')\n",
    "totpr = d2.total.iloc[-13]\n",
    "text = (f'As of {ltdate}, core goods {cg} the overall non-seasonally-'+\n",
    "        f'adjusted CPI inflation rate of {tot:.2f} percent, '+\n",
    "        f'while core services excluding shelter {cs}. Shelter {sh}, '+\n",
    "        f'and food and energy {fe}. One year prior, in {prdate}, '+\n",
    "        f'the corresponding CPI inflation rate was {totpr:.2f} percent; '\n",
    "        f'core goods {cgpr}, core services excluding shelter {cspr}, '+\n",
    "        f'shelter {shpr}, and food and energy {fepr}.')\n",
    "write_txt(text_dir / 'cpi_decomp.txt', text)\n",
    "print(text)"
   ]
  },
  {
   "cell_type": "code",
   "execution_count": null,
   "metadata": {},
   "outputs": [],
   "source": []
  },
  {
   "cell_type": "code",
   "execution_count": null,
   "metadata": {},
   "outputs": [],
   "source": []
  },
  {
   "cell_type": "markdown",
   "metadata": {},
   "source": [
    "### CPI chart"
   ]
  },
  {
   "cell_type": "code",
   "execution_count": null,
   "metadata": {
    "ExecuteTime": {
     "end_time": "2022-02-10T16:53:02.040362Z",
     "start_time": "2022-02-10T16:52:59.460787Z"
    }
   },
   "outputs": [],
   "source": [
    "# Series stored as a dictionary\n",
    "series = {'CUUR0000SA0': 'ALL', \n",
    "          'CUUR0000SA0L1E': 'CORE',\n",
    "          'CUSR0000SA0': 'ALL_S',\n",
    "          'CUSR0000SA0L1E': 'CORE_S'}\n",
    "\n",
    "# Start year and end year\n",
    "years = (1988, 2022)\n",
    "df = bls_api(series, years, bls_key)\n",
    "df.to_csv(data_dir / 'cpi_index.csv', index_label='date')\n",
    "(df.pct_change(12).dropna() * 100).to_csv(data_dir / 'cpi.csv', index_label='date')"
   ]
  },
  {
   "cell_type": "code",
   "execution_count": null,
   "metadata": {
    "ExecuteTime": {
     "end_time": "2022-02-10T16:53:03.549128Z",
     "start_time": "2022-02-10T16:53:03.542189Z"
    }
   },
   "outputs": [],
   "source": [
    "s = pd.read_csv(data_dir / 'cpi.csv', index_col='date', parse_dates=True)\n",
    "node_color = 'blue!60!cyan'\n",
    "node = end_node(s.ALL, node_color, offset=-0.2, percent=True,\n",
    "                date='m', full_year=True)\n",
    "write_txt(text_dir / 'cpi_node.txt', node)\n",
    "\n",
    "date = dtxt(s.index[-1])['mon1']\n",
    "allitems = value_text(s['ALL'].iloc[-1])\n",
    "core = value_text(s['CORE'].iloc[-1])\n",
    "text = ('\\href{https://www.bls.gov/cpi/}{Consumer prices} '+\n",
    "        f'{allitems} over the year ending {date} '+\n",
    "        f'(see {{\\color{{{node_color}}}\\\\textbf{{---}}}}), according '+\n",
    "        'to the Consumer Price Index for all urban consumers (CPI-U). '+\n",
    "        'The core CPI, which does not include the more-volatile '+\n",
    "        f'food and energy prices, {core} over the same one-year period '+\n",
    "        '(see {\\color{gray}\\\\textbf{---}}).')\n",
    "write_txt(text_dir / 'cpi_main.txt', text)\n",
    "print(text)"
   ]
  },
  {
   "cell_type": "code",
   "execution_count": null,
   "metadata": {
    "ExecuteTime": {
     "end_time": "2022-02-13T05:39:44.343779Z",
     "start_time": "2022-02-13T05:39:44.335094Z"
    }
   },
   "outputs": [],
   "source": [
    "# Line for AHE chart\n",
    "s = pd.read_csv(data_dir / 'cpi.csv', index_col='date', parse_dates=True)\n",
    "cpival = s['ALL_S'].iloc[-1].round(3)\n",
    "cpi_txt = f'{cpival:.1f} percent'\n",
    "text = ('\\\\addplot[dashed, ultra thick, red, sharp plot, update limits=false] '+\n",
    "        f'coordinates {{({cpival},-12.5) ({cpival}, 0.5)}} node[right] at '+\n",
    "        f'(axis cs:{cpival},-12.5) {{\\\\textbf{{CPI}} ({cpi_txt})}};')\n",
    "write_txt(text_dir / 'cpi_lt_line.txt', text)"
   ]
  },
  {
   "cell_type": "code",
   "execution_count": null,
   "metadata": {},
   "outputs": [],
   "source": []
  },
  {
   "cell_type": "code",
   "execution_count": null,
   "metadata": {},
   "outputs": [],
   "source": []
  },
  {
   "cell_type": "markdown",
   "metadata": {},
   "source": [
    "### Monthly CPI Inflation"
   ]
  },
  {
   "cell_type": "code",
   "execution_count": null,
   "metadata": {
    "ExecuteTime": {
     "end_time": "2022-02-10T17:19:37.760548Z",
     "start_time": "2022-02-10T17:19:37.746791Z"
    }
   },
   "outputs": [],
   "source": [
    "s = pd.read_csv(data_dir / 'cpi_index.csv', index_col='date', \n",
    "                parse_dates=True)\n",
    "data = ((np.log(s) - np.log(s.shift(1))) * 12) * 100\n",
    "data['label'] = [dt.strftime('%b\\\\\\`%y') if dt.month == 1 \n",
    "                 else dt.strftime('%b') for dt in data.index]\n",
    "data.iloc[-19:].to_csv(data_dir / 'cpi_monthly.csv', \n",
    "                         index_label='date')\n",
    "ltdate = dtxt(data.index[-1])['mon1']\n",
    "prdate = dtxt(data.index[-2])['mon1']\n",
    "ltval = data.ALL_S.iloc[-1]\n",
    "prval = data.ALL_S.iloc[-2]\n",
    "text = (f'In {ltdate}, the annualized one-month change '+\n",
    "        f'in the consumer price index was {ltval:.1f} '+\n",
    "        'percent (see\\cbox{blue}), following '+\n",
    "        f'{prval:.1f} percent in {prdate}. ')\n",
    "write_txt(text_dir / 'cpi_monthly.txt', text)\n",
    "print(text)"
   ]
  },
  {
   "cell_type": "code",
   "execution_count": null,
   "metadata": {},
   "outputs": [],
   "source": []
  },
  {
   "cell_type": "code",
   "execution_count": null,
   "metadata": {},
   "outputs": [],
   "source": []
  },
  {
   "cell_type": "markdown",
   "metadata": {},
   "source": [
    "### PPI"
   ]
  },
  {
   "cell_type": "code",
   "execution_count": null,
   "metadata": {
    "ExecuteTime": {
     "end_time": "2022-02-15T16:00:38.282929Z",
     "start_time": "2022-02-15T16:00:36.306254Z"
    }
   },
   "outputs": [],
   "source": [
    "df = bls_api({'WPU00000000': 'PPIACO'}, (1988, 2022), bls_key)\n",
    "df.to_csv(data_dir / 'ppi_index.csv', index_label='date')"
   ]
  },
  {
   "cell_type": "code",
   "execution_count": null,
   "metadata": {
    "ExecuteTime": {
     "end_time": "2022-02-15T16:00:44.626210Z",
     "start_time": "2022-02-15T16:00:44.598455Z"
    }
   },
   "outputs": [],
   "source": [
    "df = pd.read_csv(data_dir / 'ppi_index.csv', index_col='date', \n",
    "                 parse_dates=True)\n",
    "ppi = (df['PPIACO'].pct_change(12) * 100).dropna()\n",
    "ppi.to_csv(data_dir / 'ppi.csv', index_label='date')\n",
    "\n",
    "node_color = 'green!80!blue'\n",
    "node = end_node(ppi, node_color, date='m', percent=True, \n",
    "                full_year=True, offset=-0.1)\n",
    "write_txt(text_dir / 'ppi_node.txt', node)\n",
    "\n",
    "ch = value_text(ppi.iloc[-1])\n",
    "prval = ppi.iloc[-13]\n",
    "yr3val = ppi.rolling(36).mean().iloc[-1]\n",
    "compare = compare_text(ppi.iloc[-1], prval, [1.0, 3.0, 5.0])\n",
    "date = dtxt(ppi.index[-1])['mon1']\n",
    "date2 = dtxt(ppi.index[-13])['mon1']\n",
    "\n",
    "text = ('The Bureau of Labor Statistics \\\\href{https://www.bls.gov/ppi/}'+\n",
    "        '{report} prices producers receive for the various goods '+\n",
    "        'and services they produce. The producer price index for all '+\n",
    "        f'commodities (see {{\\color{{{node_color}}}\\\\textbf{{---}}}}) '+\n",
    "        f'{ch} over the year ending {date}, {compare} the 12-month '+\n",
    "        f'growth rate of {prval:.1f} percent in {date2}. Over the '+\n",
    "        f'past three years, producer prices increased by {yr3val:.1f} '+\n",
    "        'percent per year, on average.')\n",
    "write_txt(text_dir / 'ppi_main.txt', text)\n",
    "print(text)"
   ]
  },
  {
   "cell_type": "code",
   "execution_count": null,
   "metadata": {},
   "outputs": [],
   "source": []
  },
  {
   "cell_type": "code",
   "execution_count": null,
   "metadata": {},
   "outputs": [],
   "source": []
  },
  {
   "cell_type": "markdown",
   "metadata": {},
   "source": [
    "### Import/Export Price Index"
   ]
  },
  {
   "cell_type": "code",
   "execution_count": null,
   "metadata": {
    "ExecuteTime": {
     "end_time": "2022-02-16T14:17:48.493154Z",
     "start_time": "2022-02-16T14:17:44.575272Z"
    }
   },
   "outputs": [],
   "source": [
    "# Series stored as a dictionary\n",
    "series = {'EIUIR': 'Imports', \n",
    "          'EIUIQ': 'Exports',\n",
    "          'EIUIREXFUELS': 'ImpExFuels',\n",
    "          'EIUIR10': 'ImpFuels',\n",
    "          'EIUIQEXAG': 'ExpExAg',\n",
    "          'EIUIQAG': 'ExpAg'}\n",
    "\n",
    "# Start year and end year\n",
    "years = (1988, 2022)\n",
    "df = bls_api(series, years, bls_key)\n",
    "\n",
    "df.to_csv(data_dir / 'mxpi_main.csv', index_label='date')\n",
    "\n",
    "srs = ['Imports', 'Exports']\n",
    "(df[srs].pct_change(12).dropna() * 100).to_csv(data_dir / 'mxpi.csv', \n",
    "                                               index_label='date')"
   ]
  },
  {
   "cell_type": "code",
   "execution_count": null,
   "metadata": {
    "ExecuteTime": {
     "end_time": "2022-02-16T14:17:50.080004Z",
     "start_time": "2022-02-16T14:17:50.059846Z"
    }
   },
   "outputs": [],
   "source": [
    "df = pd.read_csv(data_dir / 'mxpi_main.csv', index_col='date')\n",
    "\n",
    "df.index = pd.to_datetime(df.index)\n",
    "\n",
    "data = (df.pct_change(12).dropna() * 100)\n",
    "\n",
    "ltdate = dtxt(data.index[-1])['mon1']\n",
    "prdate = dtxt(data.index[-2])['mon1']\n",
    "prdate2 = dtxt(data.index[-3])['mon1']\n",
    "mv1 = data['Imports'].iloc[-1]\n",
    "mv2 = data['Imports'].iloc[-2]\n",
    "mv3 = data['Imports'].iloc[-3]\n",
    "mv4 = data.loc['2017-03-01': '2020-02-01', 'Imports'].mean()\n",
    "m1 = value_text(mv1, casual=True, threshold=0.1, obj='plural')\n",
    "m2 = value_text(mv2, style='increase_of', threshold=0.1, obj='plural')\n",
    "m3 = value_text(mv3, style='increase_of', threshold=0.1, obj='plural')\n",
    "mpc = value_text(mv4, threshold=0.1, obj='plural', adj='average')\n",
    "mfv1 = data['ImpExFuels'].iloc[-1]\n",
    "mfv2 = data['ImpExFuels'].iloc[-2]\n",
    "mfv3 = data.loc['2017-03-01': '2020-02-01', 'ImpExFuels'].mean()\n",
    "mf1 = value_text(mfv1, threshold=0.1, obj='plural')\n",
    "mf2 = value_text(mfv2, casual=True, threshold=0.1, obj='plural')\n",
    "mfpc = value_text(mfv3, threshold=0.1, obj='plural', adj='average')\n",
    "if data.index[-1].year == data.index[-2].year:\n",
    "    prdate = dtxt(data.index[-2])['mon3']\n",
    "if data.index[-2].year == data.index[-3].year:\n",
    "    prdate2 = dtxt(data.index[-3])['mon3']\n",
    "if np.sign(mv2) == np.sign(mv3):\n",
    "    m3 = f'{abs(mv3):.1f} percent'\n",
    "ftxt = f'{m2} in {prdate} and {m3} in {prdate2}'\n",
    "\n",
    "xv1 = data['Exports'].iloc[-1]\n",
    "xv2 = data['Exports'].iloc[-2]\n",
    "xv3 = data['Exports'].iloc[-3]\n",
    "xv4 = data.loc['2017-03-01': '2020-02-01', 'Exports'].mean()\n",
    "x1 = value_text(xv1, casual=True, threshold=0.1, obj='plural')\n",
    "x2 = value_text(xv2, style='increase_of', threshold=0.1, obj='plural')\n",
    "x3 = value_text(xv3, style='increase_of', threshold=0.1, obj='plural')\n",
    "x4 = value_text(xv4, style='increase_of', threshold=0.1, obj='plural')\n",
    "if np.sign(xv1) == np.sign(xv2):\n",
    "        x2 = f'{abs(xv2):.1f} percent'\n",
    "if np.sign(xv2) == np.sign(xv3):\n",
    "        x3 = f'{abs(xv3):.1f} percent'\n",
    "if np.sign(xv3) == np.sign(xv4):\n",
    "        x4 = f'{abs(xv4):.1f} percent'\n",
    "ftxt2 = (f'compared to {x2} in {prdate}, {x3} in {prdate2}, and {x4} '+\n",
    "         'on average during the three years ending February 2020')"
   ]
  },
  {
   "cell_type": "code",
   "execution_count": null,
   "metadata": {
    "ExecuteTime": {
     "end_time": "2022-02-16T14:17:50.987597Z",
     "start_time": "2022-02-16T14:17:50.984731Z"
    }
   },
   "outputs": [],
   "source": [
    "text = ('The Bureau of Labor Statistics '+\n",
    "        '\\href{https://www.bls.gov/news.release/ximpim.nr0.htm}{report} '\n",
    "        'changes in the prices of imports and exports. Over the year ending '+\n",
    "        f'{ltdate}, US import prices {m1} '+\n",
    "        '(see {\\color{cyan!85!yellow}\\\\textbf{---}}), '+\n",
    "        f'following {ftxt}. Excluding fuels, US import prices '+\n",
    "        f'{mf1} in {ltdate} and {mf2} in {prdate}. Over the three years '+\n",
    "        'ending February 2020, prior to the US COVID-19 pandemic, US import '+\n",
    "        f'prices {mpc}. Excluding fuels, import prices {mfpc} during the '+\n",
    "        'same three-year pre-COVID period.\\n\\n'+\n",
    "        'Prices of US exports (see {\\color{red!25!orange}\\\\textbf{---}}) '+\n",
    "        f'{x1} over the year ending {ltdate}, {ftxt2}. ')\n",
    "write_txt(text_dir / 'mxpi.txt', text)\n",
    "print(text)"
   ]
  },
  {
   "cell_type": "code",
   "execution_count": null,
   "metadata": {},
   "outputs": [],
   "source": []
  },
  {
   "cell_type": "code",
   "execution_count": null,
   "metadata": {},
   "outputs": [],
   "source": []
  },
  {
   "cell_type": "markdown",
   "metadata": {},
   "source": [
    "### PCE Price Index"
   ]
  },
  {
   "cell_type": "code",
   "execution_count": 12,
   "metadata": {
    "ExecuteTime": {
     "end_time": "2022-02-25T15:30:17.358189Z",
     "start_time": "2022-02-25T15:30:17.335905Z"
    }
   },
   "outputs": [
    {
     "name": "stdout",
     "output_type": "stream",
     "text": [
      "As of January 2022, PCE inflation, measured as the one-year percent change in the overall index, is 6.1 percent (see {\\color{orange!80!yellow}\\textbf{---}}), compared to 5.8 percent in December 2021, and 1.4 percent in January 2021. Core PCE inflation, which excludes food and energy, was 5.2 percent in January 2022 (see {\\color{blue!60!black}\\textbf{---}}), 4.9 percent in December 2021, and 1.5 percent in January 2021.\n"
     ]
    }
   ],
   "source": [
    "df = pd.read_csv(data_dir / 'nipa20804.csv', \n",
    "                 index_col='date', parse_dates=True)\n",
    "df[['DPCERG', 'DPCCRG']].to_csv(data_dir / 'pce_index.csv', \n",
    "                    index_label='date')\n",
    "pce = pd.DataFrame()\n",
    "pce['PCE'] = df['DPCERG'].pct_change(12).dropna() * 100.0\n",
    "node_color = 'orange!80!yellow'\n",
    "node = end_node(pce['PCE'], node_color, date='m', percent=True, \n",
    "                full_year=True, offset=-0.2)\n",
    "write_txt(text_dir / 'pce_pi_node.txt', node)\n",
    "\n",
    "pce['CORE'] = df['DPCCRG'].pct_change(12).dropna() * 100.0\n",
    "pce.to_csv(data_dir / 'pce_pi.csv', index_label='date')\n",
    "\n",
    "ltdate = dtxt(pce.index[-1])['mon1']\n",
    "prdate = dtxt(pce.index[-2])['mon1']\n",
    "pryrdate = dtxt(pce.index[-13])['mon1']\n",
    "ltval = pce.PCE.iloc[-1]\n",
    "prval = pce.PCE.iloc[-2]\n",
    "pryrval = pce.PCE.iloc[-13]\n",
    "ltcore = pce.CORE.iloc[-1]\n",
    "prcore = pce.CORE.iloc[-2]\n",
    "pryrcore = pce.CORE.iloc[-13]\n",
    "\n",
    "text = (f'As of {ltdate}, PCE inflation, measured as the one-year '+\n",
    "        f'percent change in the overall index, is {ltval:.1f} percent '+\n",
    "        f'(see {{\\color{{{node_color}}}\\\\textbf{{---}}}}), '+\n",
    "        f'compared to {prval:.1f} percent in {prdate}, and {pryrval:.1f} '+\n",
    "        f'percent in {pryrdate}. Core PCE inflation, which excludes food '+\n",
    "        f'and energy, was {ltcore:.1f} percent in {ltdate} '+\n",
    "        f'(see {{\\color{{blue!60!black}}\\\\textbf{{---}}}}), {prcore:.1f} '+\n",
    "        f'percent in {prdate}, and {pryrcore:.1f} percent in {pryrdate}.')\n",
    "write_txt(text_dir / 'pce_inf_basic.txt', text)\n",
    "print(text)"
   ]
  },
  {
   "cell_type": "code",
   "execution_count": null,
   "metadata": {},
   "outputs": [],
   "source": []
  },
  {
   "cell_type": "code",
   "execution_count": null,
   "metadata": {},
   "outputs": [],
   "source": []
  },
  {
   "cell_type": "markdown",
   "metadata": {},
   "source": [
    "### Trimmed mean PCE"
   ]
  },
  {
   "cell_type": "code",
   "execution_count": 3,
   "metadata": {
    "ExecuteTime": {
     "end_time": "2022-02-25T15:24:42.749070Z",
     "start_time": "2022-02-25T15:24:42.181552Z"
    }
   },
   "outputs": [],
   "source": [
    "# Trimmed-mean PCE from Dallas Fed\n",
    "url = 'https://www.dallasfed.org/research/~/media/documents/research/pce/pcehist.xls'\n",
    "tmpce = (pd.read_excel(url, index_col=0, header=3, parse_dates=True)\n",
    "           .loc['1988':].dropna(axis=1))\n",
    "tmpce.to_csv(data_dir / 'pce_tm.csv', index_label='date')"
   ]
  },
  {
   "cell_type": "code",
   "execution_count": 4,
   "metadata": {
    "ExecuteTime": {
     "end_time": "2022-02-25T15:24:43.486627Z",
     "start_time": "2022-02-25T15:24:43.468795Z"
    }
   },
   "outputs": [
    {
     "name": "stdout",
     "output_type": "stream",
     "text": [
      "The trimmed-mean PCE price index increased three percent over the year ending December 2021 (see {\\color{violet!60!magenta}\\textbf{---}}). By excluding top and bottom categories, the trimmed-mean rate was 2.7 percentage points below the all-items PCE rate. In November 2021, the trimmed-mean rate was 2.9 percent, 2.8 percentage points below the all-items rate. From 2017--2019, the average trimmed-mean rate was 1.9 percent, 0.1 percentage point above the all-items rate.\n"
     ]
    }
   ],
   "source": [
    "df = pd.read_csv(data_dir / 'pce_tm.csv', index_col='date', \n",
    "                 parse_dates=True).loc['1989':, '12-month']\n",
    "pce = pd.read_csv(data_dir / 'pce_pi.csv', index_col='date', \n",
    "                  parse_dates=True).loc['1989':, 'PCE']\n",
    "df.to_csv(data_dir / 'pce_tm12.csv', index_label='date')\n",
    "ltdate = dtxt(df.index[-1])['mon1']\n",
    "ltval = df.iloc[-1]\n",
    "prdate = dtxt(df.index[-2])['mon1']\n",
    "prval = df.iloc[-2]\n",
    "ltvaltxt = value_text(ltval, threshold=0.1)\n",
    "diff =  ltval - pce.loc[df.index[-1]]\n",
    "difftxt = value_text(diff, 'above_below', ptype='pp')\n",
    "diff2 =  prval - pce.loc[df.index[-2]]\n",
    "difftxt2  = value_text(diff2, 'above_below', ptype='pp')\n",
    "pcval = df.loc['2017': '2019'].mean()\n",
    "diff3 = pcval - pce.loc['2017': '2019'].mean()\n",
    "difftxt3  = value_text(diff3, 'above_below', ptype='pp')\n",
    "color = 'violet!60!magenta'\n",
    "node = end_node(df, color, date='m', percent=True, \n",
    "                full_year=True, offset=-0.1)\n",
    "write_txt(text_dir / 'pce_tm_node.txt', node)\n",
    "text = (f'The trimmed-mean PCE price index {ltvaltxt} over the year '+\n",
    "        f'ending {ltdate} (see {{\\color{{{color}}}\\\\textbf{{---}}}}). '+\n",
    "        'By excluding top and bottom categories, the trimmed-'+\n",
    "        f'mean rate was {difftxt} the all-items PCE rate. In '+\n",
    "        f'{prdate}, the trimmed-mean rate was {prval:.1f} percent, '+\n",
    "        f'{difftxt2} the all-items rate. From 2017--2019, the average '+\n",
    "        f'trimmed-mean rate was {pcval:.1f} percent, {difftxt3} the '+\n",
    "        'all-items rate.')\n",
    "write_txt(text_dir / 'pce_tm_basic.txt', text)\n",
    "print(text)"
   ]
  },
  {
   "cell_type": "code",
   "execution_count": null,
   "metadata": {},
   "outputs": [],
   "source": []
  },
  {
   "cell_type": "code",
   "execution_count": null,
   "metadata": {},
   "outputs": [],
   "source": []
  },
  {
   "cell_type": "markdown",
   "metadata": {},
   "source": [
    "### Prices Table"
   ]
  },
  {
   "cell_type": "code",
   "execution_count": 13,
   "metadata": {
    "ExecuteTime": {
     "end_time": "2022-02-25T15:30:21.194437Z",
     "start_time": "2022-02-25T15:30:21.167751Z"
    }
   },
   "outputs": [],
   "source": [
    "pce = pd.read_csv(data_dir / 'pce_index.csv', \n",
    "                  index_col='date', parse_dates=True).pct_change(12) * 100\n",
    "cpi = (pd.read_csv(data_dir / 'cpi_index.csv', \n",
    "                   index_col='date', parse_dates=True)\n",
    "         .rename({'ALL': 'CPI', 'CORE': 'CPI_CORE'}, axis=1)).pct_change(12) * 100\n",
    "ppi = pd.read_csv(data_dir / 'ppi_index.csv', \n",
    "                  index_col='date', parse_dates=True).pct_change(12) * 100\n",
    "mxpi = pd.read_csv(data_dir / 'mxpi_main.csv', \n",
    "                   index_col='date', parse_dates=True).pct_change(12) * 100\n",
    "res = pce.join([cpi, ppi, mxpi], how='outer')\n",
    "keep_cols = ['CPI', 'CPI_CORE', 'PPIACO', 'Imports', \n",
    "             'Exports', 'DPCERG', 'DPCCRG']\n",
    "tm = pd.read_csv(data_dir / 'pce_tm.csv', \n",
    "                 index_col='date', parse_dates=True)['12-month']\n",
    "srs = {'CPI': 'CPI, All Items',\n",
    "       'CPI_CORE': 'CPI, ex. Food \\& Energy',\n",
    "       'PPIACO': 'PPI, All Commodities',\n",
    "       'Imports': 'Imports Price Index',\n",
    "       'Exports': 'Exports Price Index',\n",
    "       'DPCERG': 'PCE, All Items',\n",
    "       'DPCCRG': 'PCE, ex. Food \\& Energy',\n",
    "       '12-month': 'PCE, Trimmed Mean'}\n",
    "res12 = (res[keep_cols].join(tm, how='outer').rename(srs, axis=1))\n",
    "tbl = res12.iloc[[-1, -2, -3, -4, -13, -25]].T\n",
    "tbl.columns = [dtxt(c)['mon6'] for c in tbl.columns]\n",
    "tbl['`17--19 Avg.'] = res12.loc['2017': '2019'].mean()\n",
    "tbl['`00-- Avg.'] = res12.loc['2000':].mean()\n",
    "tbl = tbl.applymap('{:.1f}'.format).replace('nan', '--')\n",
    "tbl.to_csv(data_dir / 'prices_12m.tex', sep='&', line_terminator='\\\\\\ ', \n",
    "           quotechar=' ', float_format='%g')"
   ]
  },
  {
   "cell_type": "code",
   "execution_count": 14,
   "metadata": {
    "ExecuteTime": {
     "end_time": "2022-02-25T15:30:24.063003Z",
     "start_time": "2022-02-25T15:30:24.055025Z"
    }
   },
   "outputs": [
    {
     "data": {
      "text/html": [
       "<div>\n",
       "<style scoped>\n",
       "    .dataframe tbody tr th:only-of-type {\n",
       "        vertical-align: middle;\n",
       "    }\n",
       "\n",
       "    .dataframe tbody tr th {\n",
       "        vertical-align: top;\n",
       "    }\n",
       "\n",
       "    .dataframe thead th {\n",
       "        text-align: right;\n",
       "    }\n",
       "</style>\n",
       "<table border=\"1\" class=\"dataframe\">\n",
       "  <thead>\n",
       "    <tr style=\"text-align: right;\">\n",
       "      <th></th>\n",
       "      <th>Jan `22</th>\n",
       "      <th>Dec `21</th>\n",
       "      <th>Nov `21</th>\n",
       "      <th>Oct `21</th>\n",
       "      <th>Jan `21</th>\n",
       "      <th>Jan `20</th>\n",
       "      <th>`17--19 Avg.</th>\n",
       "      <th>`00-- Avg.</th>\n",
       "    </tr>\n",
       "  </thead>\n",
       "  <tbody>\n",
       "    <tr>\n",
       "      <th>CPI, All Items</th>\n",
       "      <td>7.5</td>\n",
       "      <td>7.0</td>\n",
       "      <td>6.8</td>\n",
       "      <td>6.2</td>\n",
       "      <td>1.4</td>\n",
       "      <td>2.5</td>\n",
       "      <td>2.1</td>\n",
       "      <td>2.3</td>\n",
       "    </tr>\n",
       "    <tr>\n",
       "      <th>CPI, ex. Food \\&amp; Energy</th>\n",
       "      <td>6.0</td>\n",
       "      <td>5.5</td>\n",
       "      <td>4.9</td>\n",
       "      <td>4.6</td>\n",
       "      <td>1.4</td>\n",
       "      <td>2.3</td>\n",
       "      <td>2.1</td>\n",
       "      <td>2.1</td>\n",
       "    </tr>\n",
       "    <tr>\n",
       "      <th>PPI, All Commodities</th>\n",
       "      <td>19.3</td>\n",
       "      <td>20.3</td>\n",
       "      <td>22.7</td>\n",
       "      <td>22.4</td>\n",
       "      <td>2.8</td>\n",
       "      <td>0.1</td>\n",
       "      <td>2.6</td>\n",
       "      <td>3.0</td>\n",
       "    </tr>\n",
       "    <tr>\n",
       "      <th>Imports Price Index</th>\n",
       "      <td>10.8</td>\n",
       "      <td>10.2</td>\n",
       "      <td>11.8</td>\n",
       "      <td>11.0</td>\n",
       "      <td>1.0</td>\n",
       "      <td>0.5</td>\n",
       "      <td>1.6</td>\n",
       "      <td>1.9</td>\n",
       "    </tr>\n",
       "    <tr>\n",
       "      <th>Exports Price Index</th>\n",
       "      <td>15.1</td>\n",
       "      <td>14.8</td>\n",
       "      <td>18.1</td>\n",
       "      <td>18.3</td>\n",
       "      <td>2.5</td>\n",
       "      <td>0.4</td>\n",
       "      <td>1.6</td>\n",
       "      <td>1.8</td>\n",
       "    </tr>\n",
       "    <tr>\n",
       "      <th>PCE, All Items</th>\n",
       "      <td>6.1</td>\n",
       "      <td>5.8</td>\n",
       "      <td>5.6</td>\n",
       "      <td>5.1</td>\n",
       "      <td>1.4</td>\n",
       "      <td>1.9</td>\n",
       "      <td>1.8</td>\n",
       "      <td>1.9</td>\n",
       "    </tr>\n",
       "    <tr>\n",
       "      <th>PCE, ex. Food \\&amp; Energy</th>\n",
       "      <td>5.2</td>\n",
       "      <td>4.9</td>\n",
       "      <td>4.7</td>\n",
       "      <td>4.2</td>\n",
       "      <td>1.5</td>\n",
       "      <td>1.8</td>\n",
       "      <td>1.8</td>\n",
       "      <td>1.8</td>\n",
       "    </tr>\n",
       "    <tr>\n",
       "      <th>PCE, Trimmed Mean</th>\n",
       "      <td>--</td>\n",
       "      <td>3.0</td>\n",
       "      <td>2.9</td>\n",
       "      <td>2.6</td>\n",
       "      <td>1.7</td>\n",
       "      <td>2.1</td>\n",
       "      <td>1.9</td>\n",
       "      <td>2.0</td>\n",
       "    </tr>\n",
       "  </tbody>\n",
       "</table>\n",
       "</div>"
      ],
      "text/plain": [
       "                        Jan `22 Dec `21 Nov `21 Oct `21 Jan `21 Jan `20  \\\n",
       "CPI, All Items              7.5     7.0     6.8     6.2     1.4     2.5   \n",
       "CPI, ex. Food \\& Energy     6.0     5.5     4.9     4.6     1.4     2.3   \n",
       "PPI, All Commodities       19.3    20.3    22.7    22.4     2.8     0.1   \n",
       "Imports Price Index        10.8    10.2    11.8    11.0     1.0     0.5   \n",
       "Exports Price Index        15.1    14.8    18.1    18.3     2.5     0.4   \n",
       "PCE, All Items              6.1     5.8     5.6     5.1     1.4     1.9   \n",
       "PCE, ex. Food \\& Energy     5.2     4.9     4.7     4.2     1.5     1.8   \n",
       "PCE, Trimmed Mean            --     3.0     2.9     2.6     1.7     2.1   \n",
       "\n",
       "                        `17--19 Avg. `00-- Avg.  \n",
       "CPI, All Items                   2.1        2.3  \n",
       "CPI, ex. Food \\& Energy          2.1        2.1  \n",
       "PPI, All Commodities             2.6        3.0  \n",
       "Imports Price Index              1.6        1.9  \n",
       "Exports Price Index              1.6        1.8  \n",
       "PCE, All Items                   1.8        1.9  \n",
       "PCE, ex. Food \\& Energy          1.8        1.8  \n",
       "PCE, Trimmed Mean                1.9        2.0  "
      ]
     },
     "execution_count": 14,
     "metadata": {},
     "output_type": "execute_result"
    }
   ],
   "source": [
    "tbl"
   ]
  },
  {
   "cell_type": "code",
   "execution_count": null,
   "metadata": {},
   "outputs": [],
   "source": []
  },
  {
   "cell_type": "code",
   "execution_count": null,
   "metadata": {},
   "outputs": [],
   "source": []
  }
 ],
 "metadata": {
  "kernelspec": {
   "display_name": "Python 3",
   "language": "python",
   "name": "python3"
  },
  "language_info": {
   "codemirror_mode": {
    "name": "ipython",
    "version": 3
   },
   "file_extension": ".py",
   "mimetype": "text/x-python",
   "name": "python",
   "nbconvert_exporter": "python",
   "pygments_lexer": "ipython3",
   "version": "3.8.8"
  }
 },
 "nbformat": 4,
 "nbformat_minor": 2
}
