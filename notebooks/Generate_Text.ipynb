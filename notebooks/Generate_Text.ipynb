{
 "cells": [
  {
   "cell_type": "code",
   "execution_count": 1,
   "metadata": {
    "ExecuteTime": {
     "end_time": "2019-09-26T12:50:26.316711Z",
     "start_time": "2019-09-26T12:50:26.039124Z"
    }
   },
   "outputs": [],
   "source": [
    "import sys\n",
    "sys.path.append('../src')\n",
    "\n",
    "import uschartbook.config\n",
    "\n",
    "from uschartbook.config import *\n",
    "from uschartbook.utils import *\n",
    "\n",
    "qtrs = {1: 'first', 2: 'second', 3: 'third', 4: 'fourth'}\n",
    "\n",
    "qtrsrm = {'I': 1, 'II': 2, 'III': 3, 'IV': 4}"
   ]
  },
  {
   "cell_type": "code",
   "execution_count": 2,
   "metadata": {
    "ExecuteTime": {
     "end_time": "2019-09-26T12:50:26.359408Z",
     "start_time": "2019-09-26T12:50:26.318087Z"
    }
   },
   "outputs": [],
   "source": [
    "s = ['A939RC', 'A939RX']\n",
    "\n",
    "df = nipa_df(retrieve_table('T70100')['Data'], s)\n",
    "df['value'] = (df['A939RX'] / df['A939RX'].iloc[-1])  * df['A939RC'].iloc[-1]"
   ]
  },
  {
   "cell_type": "code",
   "execution_count": 3,
   "metadata": {
    "ExecuteTime": {
     "end_time": "2019-09-26T12:50:26.408715Z",
     "start_time": "2019-09-26T12:50:26.360942Z"
    }
   },
   "outputs": [],
   "source": [
    "cd_gdp = (nipa_df(retrieve_table('T10105')['Data'], ['A191RC'])\n",
    "          .sort_index().iloc[-1].values[0])\n",
    "\n",
    "rgdp = nipa_df(retrieve_table('T10106')['Data'], ['A191RX']).sort_index()\n",
    "rgdp_cd = rgdp / rgdp.iloc[-1] * cd_gdp"
   ]
  },
  {
   "cell_type": "code",
   "execution_count": 4,
   "metadata": {
    "ExecuteTime": {
     "end_time": "2019-09-26T12:50:26.415748Z",
     "start_time": "2019-09-26T12:50:26.410035Z"
    }
   },
   "outputs": [],
   "source": [
    "year = df.index[-1].year\n",
    "q = df.index[-1].quarter\n",
    "text_date = f'{year} Q{q}'\n",
    "date = df.index[-1].strftime('%Y-%m-%d')\n",
    "gdp_val = int(rgdp_cd.iloc[-1].values[0] / 1000)\n",
    "gdp_prv_val = int(rgdp_cd.iloc[0].values[0] / 1000)\n",
    "gdppc_val = int(df.iloc[-1].loc['value'])\n",
    "gdppc_prv_val = int(df.iloc[0].loc['value'])\n",
    "\n",
    "f = text_dir.joinpath('gdp.txt')"
   ]
  },
  {
   "cell_type": "code",
   "execution_count": 5,
   "metadata": {
    "ExecuteTime": {
     "end_time": "2019-09-26T12:50:26.424605Z",
     "start_time": "2019-09-26T12:50:26.417113Z"
    }
   },
   "outputs": [],
   "source": [
    "text = [r'\\begin{minipage}{0.61\\textwidth}',\n",
    "f'\\small This analysis of the United States economy begins with the most popular measure of economic activity, Gross Domestic Product (GDP). According to the Bureau of Economic Analysis, GDP--the seasonally-adjusted annualized value of goods and services produced in the US--was \\${gdp_val:,} billion in the {qtrs[q]} quarter of {year}, compared to an inflation-adjusted equivalent of \\${gdp_prv_val:,} billion in the first quarter of 1989.\\\\\\\\',\n",
    "r'',\n",
    "r'The US population is growing by about sixth-tenths of a percent per year. GDP per capita (see {\\color{blue}\\textbf{---}} ), adjusted for inflation to ' + text_date + r' dollars, has increased to ' + f'\\${gdppc_val:,} in {text_date} from \\${gdppc_prv_val:,} in 1989 Q1. \\\\\\\\',\n",
    "r'\\end{minipage}\\hfill',\n",
    "r'\\begin{minipage}{0.34\\textwidth}',\n",
    "r'\\noindent \\normalsize \\textbf{GDP per capita}\\\\',\n",
    "r'\\footnotesize{\\textit{in ' + text_date + r' dollars}}\\\\ ',\n",
    "r'\\noindent \\begin{tikzpicture}',\n",
    "r'    \\begin{axis}[\\dateaxisticks clip=false, height=4.2cm, width=5.8cm,',\n",
    "r'            ytick={40000,50000,60000}, yticklabels={40, 50, \\$60k},',\n",
    "r'            xtick={{1989-01-01}, {2000-01-01}, {2010-01-01}, {2019-04-01}},',\n",
    "r'        minor xtick={}, ',\n",
    "r\"        xticklabels={`89, `00, `10, `19 Q2}, enlarge y limits={lower, 0.3}, \",\n",
    "r'        enlarge x limits={0.05}]',\n",
    "r'    \\stdline{blue}{date}{value}{data/gdppc.csv}',\n",
    "r'    \\node[label={90:{\\$'+ f'{gdppc_val:,}' + r'}}, circle, blue, fill, inner sep=1.5pt] at ',\n",
    "f'        (axis cs:{date},{gdppc_val})' + r' {};',\n",
    "r'    \\end{axis}',\n",
    "r'\\end{tikzpicture}\\\\',\n",
    "r'\\footnotesize{Source: Bureau of Economic Analysis} \\\\',\n",
    "r'\\end{minipage}']"
   ]
  },
  {
   "cell_type": "code",
   "execution_count": 6,
   "metadata": {
    "ExecuteTime": {
     "end_time": "2019-09-26T12:50:26.434711Z",
     "start_time": "2019-09-26T12:50:26.425910Z"
    }
   },
   "outputs": [
    {
     "name": "stdout",
     "output_type": "stream",
     "text": [
      "\\begin{minipage}{0.61\\textwidth}\n",
      "\\small This analysis of the United States economy begins with the most popular measure of economic activity, Gross Domestic Product (GDP). According to the Bureau of Economic Analysis, GDP--the seasonally-adjusted annualized value of goods and services produced in the US--was \\$21,340 billion in the second quarter of 2019, compared to an inflation-adjusted equivalent of \\$10,210 billion in the first quarter of 1989.\\\\\n",
      "\n",
      "The US population is growing by about sixth-tenths of a percent per year. GDP per capita (see {\\color{blue}\\textbf{---}} ), adjusted for inflation to 2019 Q2 dollars, has increased to \\$64,837 in 2019 Q2 from \\$41,429 in 1989 Q1. \\\\\n",
      "\\end{minipage}\\hfill\n",
      "\\begin{minipage}{0.34\\textwidth}\n",
      "\\noindent \\normalsize \\textbf{GDP per capita}\\\\\n",
      "\\footnotesize{\\textit{in 2019 Q2 dollars}}\\\\ \n",
      "\\noindent \\begin{tikzpicture}\n",
      "    \\begin{axis}[\\dateaxisticks clip=false, height=4.2cm, width=5.8cm,\n",
      "            ytick={40000,50000,60000}, yticklabels={40, 50, \\$60k},\n",
      "            xtick={{1989-01-01}, {2000-01-01}, {2010-01-01}, {2019-04-01}},\n",
      "        minor xtick={}, \n",
      "        xticklabels={`89, `00, `10, `19 Q2}, enlarge y limits={lower, 0.3}, \n",
      "        enlarge x limits={0.05}]\n",
      "    \\stdline{blue}{date}{value}{data/gdppc.csv}\n",
      "    \\node[label={90:{\\$64,837}}, circle, blue, fill, inner sep=1.5pt] at \n",
      "        (axis cs:2019-04-01,64837) {};\n",
      "    \\end{axis}\n",
      "\\end{tikzpicture}\\\\\n",
      "\\footnotesize{Source: Bureau of Economic Analysis} \\\\\n",
      "\\end{minipage}\n"
     ]
    }
   ],
   "source": [
    "with f.open('w') as wf:\n",
    "    for t in text:\n",
    "        print(t)\n",
    "        wf.write(t + '\\n')"
   ]
  },
  {
   "cell_type": "code",
   "execution_count": null,
   "metadata": {},
   "outputs": [],
   "source": []
  },
  {
   "cell_type": "code",
   "execution_count": 16,
   "metadata": {
    "ExecuteTime": {
     "end_time": "2019-09-26T13:14:45.705850Z",
     "start_time": "2019-09-26T13:14:45.660522Z"
    }
   },
   "outputs": [],
   "source": [
    "f = text_dir.joinpath('gdp_gr.txt')\n",
    "\n",
    "gdp_gr = nipa_df(retrieve_table('T10502')['Data'], ['A191RL']).sort_index()\n",
    "year = gdp_gr.index[-1].year\n",
    "year_p = gdp_gr.index[-2].year\n",
    "q = gdp_gr.index[-1].quarter\n",
    "qp = gdp_gr.index[-2].quarter\n",
    "text_date = f'{year} Q{q}'\n",
    "date = gdp_gr.index[-1].strftime('%Y-%m-%d')\n",
    "gr = gdp_gr.iloc[-1].values[0]\n",
    "if gr >= 0:\n",
    "    inc_dec = 'increased'\n",
    "else:\n",
    "    inc_dec = 'decreased'\n",
    "    \n",
    "gr_p = gdp_gr.iloc[-2].values[0]\n",
    "if gr_p >= 0:\n",
    "    inc_dec_p = 'an increase'\n",
    "else:\n",
    "    inc_dec_p = 'a decrease'\n",
    "    \n",
    "gr_3 = round(gdp_gr.iloc[-13:].values.mean(), 1)\n",
    "gr_10 = round(gdp_gr.iloc[-41:].values.mean(), 1)\n",
    "gr_30 = round(gdp_gr.iloc[-121:].values.mean(), 1)"
   ]
  },
  {
   "cell_type": "code",
   "execution_count": 17,
   "metadata": {
    "ExecuteTime": {
     "end_time": "2019-09-26T13:14:47.899104Z",
     "start_time": "2019-09-26T13:14:47.894858Z"
    }
   },
   "outputs": [],
   "source": [
    "gdpg = [f'{inc_dec} at an annual rate of {gr} percent during the {qtrs[q]} quarter of {year}, compared to {inc_dec_p} of {gr_p} percent in the {qtrs[qp]} quarter of {year_p}. Quarterly growth has averaged {gr_3} percent over the past three years, {gr_10} percent over the past 10 years, and {gr_30} percent over the past 30 years. ']"
   ]
  },
  {
   "cell_type": "code",
   "execution_count": 18,
   "metadata": {
    "ExecuteTime": {
     "end_time": "2019-09-26T13:14:48.609655Z",
     "start_time": "2019-09-26T13:14:48.605202Z"
    }
   },
   "outputs": [
    {
     "name": "stdout",
     "output_type": "stream",
     "text": [
      "increased at an annual rate of 2.0 percent during the second quarter of 2019, compared to an increase of 3.1 percent in the first quarter of 2019. Quarterly growth has averaged 2.5 percent over the past three years, 2.2 percent over the past 10 years, and 2.5 percent over the past 30 years. \n"
     ]
    }
   ],
   "source": [
    "f = text_dir.joinpath('gdp_gr.txt')\n",
    "with f.open('w') as wf:\n",
    "    for t in gdpg:\n",
    "        print(t)\n",
    "        wf.write(t + '\\n')"
   ]
  }
 ],
 "metadata": {
  "kernelspec": {
   "display_name": "Python 3",
   "language": "python",
   "name": "python3"
  },
  "language_info": {
   "codemirror_mode": {
    "name": "ipython",
    "version": 3
   },
   "file_extension": ".py",
   "mimetype": "text/x-python",
   "name": "python",
   "nbconvert_exporter": "python",
   "pygments_lexer": "ipython3",
   "version": "3.7.4"
  }
 },
 "nbformat": 4,
 "nbformat_minor": 2
}
