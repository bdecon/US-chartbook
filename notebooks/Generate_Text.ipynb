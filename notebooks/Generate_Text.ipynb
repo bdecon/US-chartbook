{
 "cells": [
  {
   "cell_type": "code",
   "execution_count": 1,
   "metadata": {
    "ExecuteTime": {
     "end_time": "2019-10-11T18:49:32.546502Z",
     "start_time": "2019-10-11T18:49:32.286622Z"
    }
   },
   "outputs": [],
   "source": [
    "import sys\n",
    "sys.path.append('../src')\n",
    "\n",
    "import uschartbook.config\n",
    "\n",
    "from uschartbook.config import *\n",
    "from uschartbook.utils import *\n",
    "\n",
    "qtrs = {1: 'first', 2: 'second', 3: 'third', 4: 'fourth'}\n",
    "\n",
    "qtrsrm = {'I': 1, 'II': 2, 'III': 3, 'IV': 4}"
   ]
  },
  {
   "cell_type": "code",
   "execution_count": null,
   "metadata": {
    "ExecuteTime": {
     "end_time": "2019-09-26T12:50:26.359408Z",
     "start_time": "2019-09-26T12:50:26.318087Z"
    }
   },
   "outputs": [],
   "source": [
    "s = ['A939RC', 'A939RX']\n",
    "\n",
    "df = nipa_df(retrieve_table('T70100')['Data'], s)\n",
    "df['value'] = (df['A939RX'] / df['A939RX'].iloc[-1])  * df['A939RC'].iloc[-1]"
   ]
  },
  {
   "cell_type": "code",
   "execution_count": null,
   "metadata": {
    "ExecuteTime": {
     "end_time": "2019-09-26T12:50:26.408715Z",
     "start_time": "2019-09-26T12:50:26.360942Z"
    }
   },
   "outputs": [],
   "source": [
    "cd_gdp = (nipa_df(retrieve_table('T10105')['Data'], ['A191RC'])\n",
    "          .sort_index().iloc[-1].values[0])\n",
    "\n",
    "rgdp = nipa_df(retrieve_table('T10106')['Data'], ['A191RX']).sort_index()\n",
    "rgdp_cd = rgdp / rgdp.iloc[-1] * cd_gdp"
   ]
  },
  {
   "cell_type": "code",
   "execution_count": null,
   "metadata": {
    "ExecuteTime": {
     "end_time": "2019-09-26T12:50:26.415748Z",
     "start_time": "2019-09-26T12:50:26.410035Z"
    }
   },
   "outputs": [],
   "source": [
    "year = df.index[-1].year\n",
    "q = df.index[-1].quarter\n",
    "text_date = f'{year} Q{q}'\n",
    "date = df.index[-1].strftime('%Y-%m-%d')\n",
    "gdp_val = int(rgdp_cd.iloc[-1].values[0] / 1000)\n",
    "gdp_prv_val = int(rgdp_cd.iloc[0].values[0] / 1000)\n",
    "gdppc_val = int(df.iloc[-1].loc['value'])\n",
    "gdppc_prv_val = int(df.iloc[0].loc['value'])\n",
    "\n",
    "f = text_dir.joinpath('gdp.txt')"
   ]
  },
  {
   "cell_type": "code",
   "execution_count": null,
   "metadata": {
    "ExecuteTime": {
     "end_time": "2019-09-26T12:50:26.424605Z",
     "start_time": "2019-09-26T12:50:26.417113Z"
    }
   },
   "outputs": [],
   "source": [
    "text = [r'\\begin{minipage}{0.61\\textwidth}',\n",
    "f'\\small This analysis of the United States economy begins with the most popular measure of economic activity, Gross Domestic Product (GDP). According to the Bureau of Economic Analysis, GDP--the seasonally-adjusted annualized value of goods and services produced in the US--was \\${gdp_val:,} billion in the {qtrs[q]} quarter of {year}, compared to an inflation-adjusted equivalent of \\${gdp_prv_val:,} billion in the first quarter of 1989.\\\\\\\\',\n",
    "r'',\n",
    "r'The US population is growing by about sixth-tenths of a percent per year. GDP per capita (see {\\color{blue}\\textbf{---}} ), adjusted for inflation to ' + text_date + r' dollars, has increased to ' + f'\\${gdppc_val:,} in {text_date} from \\${gdppc_prv_val:,} in 1989 Q1. \\\\\\\\',\n",
    "r'\\end{minipage}\\hfill',\n",
    "r'\\begin{minipage}{0.34\\textwidth}',\n",
    "r'\\noindent \\normalsize \\textbf{GDP per capita}\\\\',\n",
    "r'\\footnotesize{\\textit{in ' + text_date + r' dollars}}\\\\ ',\n",
    "r'\\noindent \\begin{tikzpicture}',\n",
    "r'    \\begin{axis}[\\dateaxisticks clip=false, height=4.2cm, width=5.8cm,',\n",
    "r'            ytick={40000,50000,60000}, yticklabels={40, 50, \\$60k},',\n",
    "r'            xtick={{1989-01-01}, {2000-01-01}, {2010-01-01}, {2019-04-01}},',\n",
    "r'        minor xtick={}, ',\n",
    "r\"        xticklabels={`89, `00, `10, `19 Q2}, enlarge y limits={lower, 0.3}, \",\n",
    "r'        enlarge x limits={0.05}]',\n",
    "r'    \\stdline{blue}{date}{value}{data/gdppc.csv}',\n",
    "r'    \\node[label={90:{\\$'+ f'{gdppc_val:,}' + r'}}, circle, blue, fill, inner sep=1.5pt] at ',\n",
    "f'        (axis cs:{date},{gdppc_val})' + r' {};',\n",
    "r'    \\end{axis}',\n",
    "r'\\end{tikzpicture}\\\\',\n",
    "r'\\footnotesize{Source: Bureau of Economic Analysis} \\\\',\n",
    "r'\\end{minipage}']"
   ]
  },
  {
   "cell_type": "code",
   "execution_count": null,
   "metadata": {
    "ExecuteTime": {
     "end_time": "2019-09-26T12:50:26.434711Z",
     "start_time": "2019-09-26T12:50:26.425910Z"
    }
   },
   "outputs": [],
   "source": [
    "with f.open('w') as wf:\n",
    "    for t in text:\n",
    "        print(t)\n",
    "        wf.write(t + '\\n')"
   ]
  },
  {
   "cell_type": "code",
   "execution_count": null,
   "metadata": {},
   "outputs": [],
   "source": []
  },
  {
   "cell_type": "code",
   "execution_count": null,
   "metadata": {
    "ExecuteTime": {
     "end_time": "2019-09-26T13:14:45.705850Z",
     "start_time": "2019-09-26T13:14:45.660522Z"
    }
   },
   "outputs": [],
   "source": [
    "f = text_dir.joinpath('gdp_gr.txt')\n",
    "\n",
    "gdp_gr = nipa_df(retrieve_table('T10502')['Data'], ['A191RL']).sort_index()\n",
    "year = gdp_gr.index[-1].year\n",
    "year_p = gdp_gr.index[-2].year\n",
    "q = gdp_gr.index[-1].quarter\n",
    "qp = gdp_gr.index[-2].quarter\n",
    "text_date = f'{year} Q{q}'\n",
    "date = gdp_gr.index[-1].strftime('%Y-%m-%d')\n",
    "gr = gdp_gr.iloc[-1].values[0]\n",
    "if gr >= 0:\n",
    "    inc_dec = 'increased'\n",
    "else:\n",
    "    inc_dec = 'decreased'\n",
    "    \n",
    "gr_p = gdp_gr.iloc[-2].values[0]\n",
    "if gr_p >= 0:\n",
    "    inc_dec_p = 'an increase'\n",
    "else:\n",
    "    inc_dec_p = 'a decrease'\n",
    "    \n",
    "gr_3 = round(gdp_gr.iloc[-13:].values.mean(), 1)\n",
    "gr_10 = round(gdp_gr.iloc[-41:].values.mean(), 1)\n",
    "gr_30 = round(gdp_gr.iloc[-121:].values.mean(), 1)"
   ]
  },
  {
   "cell_type": "code",
   "execution_count": null,
   "metadata": {
    "ExecuteTime": {
     "end_time": "2019-09-26T13:14:47.899104Z",
     "start_time": "2019-09-26T13:14:47.894858Z"
    }
   },
   "outputs": [],
   "source": [
    "gdpg = [f'{inc_dec} at an annual rate of {gr} percent during the {qtrs[q]} quarter of {year}, compared to {inc_dec_p} of {gr_p} percent in the {qtrs[qp]} quarter of {year_p}. Quarterly growth has averaged {gr_3} percent over the past three years, {gr_10} percent over the past 10 years, and {gr_30} percent over the past 30 years. ']"
   ]
  },
  {
   "cell_type": "code",
   "execution_count": null,
   "metadata": {
    "ExecuteTime": {
     "end_time": "2019-09-26T13:14:48.609655Z",
     "start_time": "2019-09-26T13:14:48.605202Z"
    }
   },
   "outputs": [],
   "source": [
    "f = text_dir.joinpath('gdp_gr.txt')\n",
    "with f.open('w') as wf:\n",
    "    for t in gdpg:\n",
    "        print(t)\n",
    "        wf.write(t + '\\n')"
   ]
  },
  {
   "cell_type": "code",
   "execution_count": null,
   "metadata": {},
   "outputs": [],
   "source": []
  },
  {
   "cell_type": "markdown",
   "metadata": {},
   "source": [
    "### Simple text for pce growth"
   ]
  },
  {
   "cell_type": "code",
   "execution_count": 6,
   "metadata": {
    "ExecuteTime": {
     "end_time": "2019-10-11T18:52:09.073802Z",
     "start_time": "2019-10-11T18:52:09.062973Z"
    }
   },
   "outputs": [],
   "source": [
    "s = pd.read_csv(data_dir / 'pcegrowth.csv', parse_dates=['date']).set_index('date')['value2']\n",
    "d = series_info(s)"
   ]
  },
  {
   "cell_type": "code",
   "execution_count": 10,
   "metadata": {
    "ExecuteTime": {
     "end_time": "2019-10-11T19:02:31.000684Z",
     "start_time": "2019-10-11T19:02:30.996212Z"
    }
   },
   "outputs": [],
   "source": [
    "textval = f'Consumer spending is also reported on a monthly basis. Inflation- and population-adjusted consumer spending increased by {d[\"val_latest\"]:.1f} percent over the year ending {d[\"date_latest\"].strftime(\"%B %Y\")}, compared to an increase of {d[\"val_year_ago\"]:.1f} percent over the year ending {d[\"date_year_ago\"].strftime(\"%B %Y\")}. '"
   ]
  },
  {
   "cell_type": "code",
   "execution_count": 11,
   "metadata": {
    "ExecuteTime": {
     "end_time": "2019-10-11T19:02:37.615053Z",
     "start_time": "2019-10-11T19:02:37.609994Z"
    }
   },
   "outputs": [],
   "source": [
    "f = text_dir.joinpath('pcegrowth.txt')\n",
    "with f.open('w') as wf:\n",
    "    wf.write(textval)"
   ]
  },
  {
   "cell_type": "code",
   "execution_count": null,
   "metadata": {},
   "outputs": [],
   "source": []
  },
  {
   "cell_type": "markdown",
   "metadata": {
    "ExecuteTime": {
     "end_time": "2019-10-11T19:06:59.777198Z",
     "start_time": "2019-10-11T19:06:59.746141Z"
    }
   },
   "source": [
    "### Simple text for cpi"
   ]
  },
  {
   "cell_type": "code",
   "execution_count": 25,
   "metadata": {
    "ExecuteTime": {
     "end_time": "2019-10-11T19:09:18.447058Z",
     "start_time": "2019-10-11T19:09:18.436898Z"
    }
   },
   "outputs": [],
   "source": [
    "s = pd.read_csv(data_dir / 'cpi.csv')#, parse_dates=['date']).set_index('date')"
   ]
  },
  {
   "cell_type": "code",
   "execution_count": 26,
   "metadata": {
    "ExecuteTime": {
     "end_time": "2019-10-11T19:09:19.245648Z",
     "start_time": "2019-10-11T19:09:19.240593Z"
    }
   },
   "outputs": [],
   "source": [
    "date = pd.to_datetime(s['date'].iloc[-1]).strftime('%B %Y')\n",
    "core = s['value2'].iloc[-1]\n",
    "allitems = s['value'].iloc[-1]"
   ]
  },
  {
   "cell_type": "code",
   "execution_count": 27,
   "metadata": {
    "ExecuteTime": {
     "end_time": "2019-10-11T19:09:19.921195Z",
     "start_time": "2019-10-11T19:09:19.914758Z"
    }
   },
   "outputs": [],
   "source": [
    "text = f'Consumer prices increased by {allitems:.1f} percent over the year ending {date}, according to the CPI for all urban consumers. Core inflation, which does not include the more volatile food and energy prices, was {core:.1f} percent.'"
   ]
  },
  {
   "cell_type": "code",
   "execution_count": 28,
   "metadata": {
    "ExecuteTime": {
     "end_time": "2019-10-11T19:09:20.542978Z",
     "start_time": "2019-10-11T19:09:20.537846Z"
    }
   },
   "outputs": [],
   "source": [
    "f = text_dir.joinpath('cpi_main.txt')\n",
    "with f.open('w') as wf:\n",
    "    wf.write(text)"
   ]
  },
  {
   "cell_type": "code",
   "execution_count": null,
   "metadata": {},
   "outputs": [],
   "source": []
  },
  {
   "cell_type": "code",
   "execution_count": null,
   "metadata": {},
   "outputs": [],
   "source": []
  },
  {
   "cell_type": "markdown",
   "metadata": {},
   "source": [
    "### Simple text for epop"
   ]
  },
  {
   "cell_type": "code",
   "execution_count": null,
   "metadata": {
    "ExecuteTime": {
     "end_time": "2019-10-07T13:39:54.442178Z",
     "start_time": "2019-10-07T13:39:54.432226Z"
    }
   },
   "outputs": [],
   "source": [
    "s = pd.read_csv(data_dir / 'epop.csv').iloc[-1]\n",
    "date = pd.to_datetime(s.date).strftime('%Y-%m')\n",
    "value = s.PA_EPOP\n",
    "\n",
    "txt = f'{date}:\\\\\\{value}\\%'\n",
    "\n",
    "f = text_dir.joinpath('epop.txt')\n",
    "with f.open('w') as wf:\n",
    "    wf.write(txt)"
   ]
  },
  {
   "cell_type": "markdown",
   "metadata": {},
   "source": [
    "### Body text for epop"
   ]
  },
  {
   "cell_type": "code",
   "execution_count": 2,
   "metadata": {
    "ExecuteTime": {
     "end_time": "2019-10-11T18:49:48.869499Z",
     "start_time": "2019-10-11T18:49:48.857360Z"
    }
   },
   "outputs": [],
   "source": [
    "s = pd.read_csv(data_dir / 'epop.csv', parse_dates=['date']).set_index('date')['PA_EPOP']\n",
    "d = series_info(s)"
   ]
  },
  {
   "cell_type": "code",
   "execution_count": null,
   "metadata": {
    "ExecuteTime": {
     "end_time": "2019-10-11T17:34:22.073163Z",
     "start_time": "2019-10-11T17:34:22.066689Z"
    }
   },
   "outputs": [],
   "source": [
    "text = f'In {d[\"date_latest\"].strftime(\"%B %Y\")}, {d[\"val_latest\"]}\\%'\n",
    "\n",
    "if (d['days_since_match'] > 725) | (d['days_since_match'] == 0):\n",
    "    text2 = d['last_matched']\n",
    "else:\n",
    "    text2 = f'compared to {d[\"val_prev\"]} in {d[\"date_prev\"].strftime(\"%B %Y\")}'\n",
    "    \n",
    "if d['change_12m'] > 0:\n",
    "    direction = 'increased'\n",
    "    value = d['change_12m']\n",
    "    label = f'Over the past year, the age 25-54 employment rate has {direction} by {value:.1f} percentage points.'\n",
    "elif d['change_12m'] < 0:\n",
    "    direction = 'fallen'\n",
    "    value = abs(d['change_12m'])\n",
    "    label = f'Over the past year, the age 25-54 employment rate has {direction} by {value:.1f} percentage points.'\n",
    "else:\n",
    "    label = 'The age 25-54 employment rate is unchanged over the past year. '\n",
    "    \n",
    "pop = 126277\n",
    "diff1 = d['late90s'] - d['val_latest']\n",
    "diff = (d['late90s'] - d['val_latest']) / 100 * pop\n",
    "\n",
    "if diff > 999:\n",
    "    diff_text = f'{round(diff / 1000, 1)} million'\n",
    "else: \n",
    "    diff_text = f'{round(diff, -1)} thousand'\n",
    "    \n",
    "label2 = f'The current age 25-54 employment rate is {diff1:.1f} percentage points (equivalent to {diff_text} workers) below the average during 1998--99, a period with a particularly tight labor market. '"
   ]
  },
  {
   "cell_type": "code",
   "execution_count": null,
   "metadata": {
    "ExecuteTime": {
     "end_time": "2019-10-11T17:34:23.741990Z",
     "start_time": "2019-10-11T17:34:23.737178Z"
    }
   },
   "outputs": [],
   "source": [
    "textval = f'{text} of 25-54 years olds were employed, {text2}. {label} {label2}'\n",
    "print(textval)"
   ]
  },
  {
   "cell_type": "code",
   "execution_count": null,
   "metadata": {
    "ExecuteTime": {
     "end_time": "2019-10-11T17:34:25.551376Z",
     "start_time": "2019-10-11T17:34:25.545783Z"
    }
   },
   "outputs": [],
   "source": [
    "f = text_dir.joinpath('epop_text.txt')\n",
    "with f.open('w') as wf:\n",
    "    wf.write(textval)"
   ]
  }
 ],
 "metadata": {
  "kernelspec": {
   "display_name": "Python 3",
   "language": "python",
   "name": "python3"
  },
  "language_info": {
   "codemirror_mode": {
    "name": "ipython",
    "version": 3
   },
   "file_extension": ".py",
   "mimetype": "text/x-python",
   "name": "python",
   "nbconvert_exporter": "python",
   "pygments_lexer": "ipython3",
   "version": "3.7.4"
  }
 },
 "nbformat": 4,
 "nbformat_minor": 2
}
