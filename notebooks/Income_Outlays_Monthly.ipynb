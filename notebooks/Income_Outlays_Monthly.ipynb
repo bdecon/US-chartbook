{
 "cells": [
  {
   "cell_type": "markdown",
   "metadata": {},
   "source": [
    "### Income and Outlays Monthly Data"
   ]
  },
  {
   "cell_type": "code",
   "execution_count": 5,
   "metadata": {},
   "outputs": [],
   "source": [
    "import sys\n",
    "import json\n",
    "sys.path.append('../src')\n",
    "\n",
    "import uschartbook.config\n",
    "\n",
    "from uschartbook.config import *\n",
    "from uschartbook.utils import *"
   ]
  },
  {
   "cell_type": "code",
   "execution_count": null,
   "metadata": {},
   "outputs": [],
   "source": []
  },
  {
   "cell_type": "markdown",
   "metadata": {},
   "source": [
    "### After-tax income growth"
   ]
  },
  {
   "cell_type": "code",
   "execution_count": 30,
   "metadata": {},
   "outputs": [],
   "source": [
    "data = fred_df('A229RX0', start='1988')['VALUE']\n",
    "data2 = (data.pct_change(12) * 100).dropna()\n",
    "data2.to_csv(data_dir / 'rdpigrowth.csv', header=['rdpi'], index_label='date')\n",
    "node = end_node(data2, 'blue!80!cyan')\n",
    "write_txt(text_dir / 'rdpi_node.txt', node)\n",
    "\n",
    "ltdate = dtxt(data2.index[-1])['mon1']\n",
    "ltval = data2.iloc[-1]\n",
    "prdate = dtxt(data2.index[-2])['mon1']\n",
    "prval = data2.iloc[-2]\n",
    "prdate2 = dtxt(data2.index[-13])['mon1']\n",
    "prval2 = data2.iloc[-13]\n",
    "ltavg = data2.iloc[-13:].mean()\n",
    "\n",
    "text = ('The real one-year change in after-tax income per person (see '+\n",
    "        '{\\color{blue!80!cyan}\\\\textbf{---}}) was '+\n",
    "        f'{ltval:.1f} percent in {ltdate}, {prval:.1f} percent '+\n",
    "        f'in {prdate}, and {prval2:.1f} percent in {prdate2}. '+\n",
    "        f'Over the past year, the measure has averaged {ltavg:.1f} percent.')\n",
    "\n",
    "write_txt(text_dir / 'rdpigrowth.txt', text)\n",
    "\n",
    "text"
   ]
  },
  {
   "cell_type": "code",
   "execution_count": null,
   "metadata": {},
   "outputs": [],
   "source": []
  },
  {
   "cell_type": "code",
   "execution_count": null,
   "metadata": {},
   "outputs": [],
   "source": []
  },
  {
   "cell_type": "markdown",
   "metadata": {},
   "source": [
    "### Monthly consumer spending growth"
   ]
  },
  {
   "cell_type": "code",
   "execution_count": 2,
   "metadata": {},
   "outputs": [],
   "source": [
    "data = pd.read_csv('../data/rpcepop_hist.csv', index_col='DATE', parse_dates=True)\n",
    "\n",
    "series = {'PCEC96': 'PCE', \n",
    "          'POPTHM': 'POP'}\n",
    "\n",
    "df = pd.DataFrame()\n",
    "for srs, name in series.items():\n",
    "    url = f'http://research.stlouisfed.org/fred2/series/{srs}/downloaddata/{srs}.csv'\n",
    "    s = pd.read_csv(url, index_col='DATE', parse_dates=True)['VALUE']\n",
    "    df[name] = s\n",
    "    \n",
    "df['PCEPOP'] = df['PCE'] / df['POP']\n",
    "data2 = data['rpcepop'].append((df.PCEPOP.pct_change(12) * 100).dropna().rename('rpcepop'))\n",
    "\n",
    "data2.to_csv(data_dir / 'pcegrowth.csv', header=['rpcepop'], index_label='date')\n",
    "\n",
    "node = end_node(data2, 'green!80!black')\n",
    "write_txt(text_dir / 'pcegrowth_node.txt', node)"
   ]
  },
  {
   "cell_type": "code",
   "execution_count": 3,
   "metadata": {},
   "outputs": [],
   "source": [
    "s = pd.read_csv(data_dir / 'pcegrowth.csv', parse_dates=['date']).set_index('date')['rpcepop']\n",
    "d = series_info(s)\n",
    "\n",
    "text = ('Consumer spending is also \\href{https://www.bea.gov/data/consumer-spending/main}{reported}'+\n",
    "        ' on a monthly basis. Inflation- and population-adjusted consumer spending increased by '+\n",
    "        f'{d[\"val_latest\"]:.1f} percent over the year ending {d[\"date_latest_ft\"]} '+\n",
    "        '(see {\\color{green!80!black}\\\\textbf{---}}), compared '+\n",
    "        f'to an equivalent increase of {d[\"val_year_ago\"]:.1f} percent for the year ending '+\n",
    "        f'{d[\"date_year_ago_ft\"]}. ')\n",
    "\n",
    "write_txt(text_dir / 'pcegrowth.txt', text)\n",
    "\n",
    "text"
   ]
  },
  {
   "cell_type": "code",
   "execution_count": null,
   "metadata": {},
   "outputs": [],
   "source": []
  },
  {
   "cell_type": "code",
   "execution_count": null,
   "metadata": {},
   "outputs": [],
   "source": []
  },
  {
   "cell_type": "markdown",
   "metadata": {},
   "source": [
    "### Personal saving rate"
   ]
  },
  {
   "cell_type": "code",
   "execution_count": 4,
   "metadata": {},
   "outputs": [
    {
     "name": "stdout",
     "output_type": "stream",
     "text": [
      "As of February 2020, the Bureau of Economic Analysis \\href{https://www.bea.gov/data/income-saving/personal-saving-rate}{reports} a rate of personal saving of 8.2 percent. Over the past three years, the personal saving rate increased by a total of 1.1 percentage points.\n"
     ]
    }
   ],
   "source": [
    "data = fred_df('PSAVERT')['VALUE']\n",
    "\n",
    "data.to_csv(data_dir / 'psavert.csv', index_label='date', header=True)\n",
    "\n",
    "datelt = dtxt(data.index[-1])['mon1']\n",
    "latest = data.iloc[-1]\n",
    "ch3yr = data.diff(36).iloc[-1]\n",
    "\n",
    "txt = val_inc_pp(ch3yr)\n",
    "\n",
    "text = (f'As of {datelt}, the Bureau of Economic Analysis '+\n",
    "        '\\href{https://www.bea.gov/data/income-saving/personal-saving-rate}{reports} a rate '+\n",
    "        f'of personal saving of {latest:.1f} percent. Over the past three years, '+\n",
    "        f'the personal saving rate {txt}.')\n",
    "\n",
    "write_txt(text_dir / 'psavert.txt', text)\n",
    "\n",
    "print(text)\n",
    "\n",
    "node = end_node(data, 'red')\n",
    "write_txt(text_dir / 'psavert_node.txt', node)"
   ]
  },
  {
   "cell_type": "code",
   "execution_count": null,
   "metadata": {},
   "outputs": [],
   "source": []
  }
 ],
 "metadata": {
  "kernelspec": {
   "display_name": "Python 3",
   "language": "python",
   "name": "python3"
  },
  "language_info": {
   "codemirror_mode": {
    "name": "ipython",
    "version": 3
   },
   "file_extension": ".py",
   "mimetype": "text/x-python",
   "name": "python",
   "nbconvert_exporter": "python",
   "pygments_lexer": "ipython3",
   "version": "3.8.2"
  }
 },
 "nbformat": 4,
 "nbformat_minor": 4
}
