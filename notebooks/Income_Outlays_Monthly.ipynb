{
 "cells": [
  {
   "cell_type": "markdown",
   "metadata": {},
   "source": [
    "### Income and Outlays Monthly Data"
   ]
  },
  {
   "cell_type": "code",
   "execution_count": 1,
   "metadata": {
    "ExecuteTime": {
     "end_time": "2022-02-01T17:06:22.912997Z",
     "start_time": "2022-02-01T17:06:22.265293Z"
    }
   },
   "outputs": [],
   "source": [
    "%config Completer.use_jedi = False\n",
    "import sys\n",
    "import json\n",
    "sys.path.append('../src')\n",
    "\n",
    "import uschartbook.config\n",
    "\n",
    "from uschartbook.config import *\n",
    "from uschartbook.utils import *"
   ]
  },
  {
   "cell_type": "code",
   "execution_count": null,
   "metadata": {},
   "outputs": [],
   "source": []
  },
  {
   "cell_type": "markdown",
   "metadata": {},
   "source": [
    "### Download NIPA tables"
   ]
  },
  {
   "cell_type": "code",
   "execution_count": 3,
   "metadata": {
    "ExecuteTime": {
     "end_time": "2022-02-01T17:06:31.922567Z",
     "start_time": "2022-02-01T17:06:27.668288Z"
    }
   },
   "outputs": [],
   "source": [
    "# Request data from BEA API\n",
    "for tbl in ['20600', '20806', '20804']:\n",
    "    r = bea_api_nipa([f'T{tbl}'], bea_key, freq='M')\n",
    "    s = nipa_series_codes(json.loads(r[0][2])['BEAAPI']['Results'])\n",
    "    data = json.loads(r[0][2])['BEAAPI']['Results']\n",
    "    date = lambda x: pd.to_datetime(x.TimePeriod.str.replace('M', '-') + '-01')\n",
    "    df = pd.DataFrame({c: (pd.DataFrame(data['Data']).assign(date = date)\n",
    "                             .query('SeriesCode == @c')\n",
    "                             .set_index('date')['DataValue'].sort_index())\n",
    "                       for c in s.keys()}).replace(',','', regex=True).astype(float)\n",
    "    df.to_csv(data_dir / f'nipa{tbl}.csv', index_label='date')"
   ]
  },
  {
   "cell_type": "code",
   "execution_count": null,
   "metadata": {},
   "outputs": [],
   "source": []
  },
  {
   "cell_type": "code",
   "execution_count": null,
   "metadata": {},
   "outputs": [],
   "source": []
  },
  {
   "cell_type": "markdown",
   "metadata": {},
   "source": [
    "### After-tax income growth"
   ]
  },
  {
   "cell_type": "code",
   "execution_count": 4,
   "metadata": {
    "ExecuteTime": {
     "end_time": "2022-02-01T17:06:33.921927Z",
     "start_time": "2022-02-01T17:06:33.898609Z"
    }
   },
   "outputs": [
    {
     "name": "stdout",
     "output_type": "stream",
     "text": [
      "The Bureau of Economic Analysis \\href{https://www.bea.gov/data/income-saving/personal-income}{report} an inflation-adjusted one-year change in after-tax income per person (see {\\color{blue!80!cyan}\\textbf{---}}) of -0.5 percent in December 2021, -0.1 percent in November 2021, and 3.2 percent in December 2020. Over the past year, the measure has averaged 2.1 percent. During the three years before the COVID-19 pandemic, per capita after-tax income grew at an average annual rate of 2.3 percent.\n"
     ]
    }
   ],
   "source": [
    "df = pd.read_csv(data_dir/'nipa20600.csv', index_col='date', \n",
    "                 parse_dates=True)\n",
    "data = (df['A229RX'].pct_change(12) * 100).dropna()\n",
    "data.to_csv(data_dir / 'rdpigrowth.csv', header=['rdpi'], \n",
    "            index_label='date')\n",
    "node = end_node(data, 'blue!80!cyan', date='m', percent=True)\n",
    "write_txt(text_dir / 'rdpi_node.txt', node)\n",
    "\n",
    "ltdate = dtxt(data.index[-1])['mon1']\n",
    "ltval = data.iloc[-1]\n",
    "prdate = dtxt(data.index[-2])['mon1']\n",
    "prval = data.iloc[-2]\n",
    "prdate2 = dtxt(data.index[-13])['mon1']\n",
    "prval2 = data.iloc[-13]\n",
    "ltavg = data.iloc[-13:].mean()\n",
    "ltavg2 = data.loc['2017-03-01': '2020-02-01'].mean()\n",
    "\n",
    "text = ('The Bureau of Economic Analysis '+\n",
    "        '\\href{https://www.bea.gov/data/income-saving/personal-income}{report} '+\n",
    "        'an inflation-adjusted one-year change in after-tax income per person '+\n",
    "        '(see {\\color{blue!80!cyan}\\\\textbf{---}}) of '+\n",
    "        f'{ltval:.1f} percent in {ltdate}, {prval:.1f} percent in '+\n",
    "        f'{prdate}, and {prval2:.1f} percent in {prdate2}. Over the past '+\n",
    "        f'year, the measure has averaged {ltavg:.1f} percent. During the '+\n",
    "        'three years before the COVID-19 pandemic, per capita after-tax income '+\n",
    "        f'grew at an average annual rate of {ltavg2:.1f} percent.')\n",
    "write_txt(text_dir / 'rdpigrowth.txt', text)\n",
    "print(text)"
   ]
  },
  {
   "cell_type": "code",
   "execution_count": null,
   "metadata": {},
   "outputs": [],
   "source": []
  },
  {
   "cell_type": "code",
   "execution_count": null,
   "metadata": {},
   "outputs": [],
   "source": []
  },
  {
   "cell_type": "markdown",
   "metadata": {},
   "source": [
    "### Monthly consumer spending growth"
   ]
  },
  {
   "cell_type": "code",
   "execution_count": 22,
   "metadata": {
    "ExecuteTime": {
     "end_time": "2022-02-01T17:17:39.108866Z",
     "start_time": "2022-02-01T17:17:39.087424Z"
    }
   },
   "outputs": [
    {
     "name": "stdout",
     "output_type": "stream",
     "text": [
      "Consumer spending is also \\href{https://www.bea.gov/data/consumer-spending/main}{reported} on a monthly basis. Inflation- and population-adjusted consumer spending increased 6.8 percent over the year ending December 2021 (see {\\color{green!80!black}\\textbf{---}}), far above the previous year rate (a decrease of 3.7 percent over the year ending December 2020). \n"
     ]
    }
   ],
   "source": [
    "pop = (pd.read_csv(data_dir/'nipa20600.csv', index_col='date', \n",
    "                  parse_dates=True)['B230RC'])\n",
    "pce = (pd.read_csv(data_dir/'nipa20806.csv', index_col='date', \n",
    "                  parse_dates=True)['DPCERX'])\n",
    "df = ((pce / pop).pct_change(12) * 100).dropna().rename('rpcepop')\n",
    "hist = pd.read_csv('../data/rpcepop_hist.csv', index_col='DATE', \n",
    "                   parse_dates=True)['rpcepop']\n",
    "df = hist.append(df)\n",
    "df.to_csv(data_dir / 'pcegrowth.csv', index_label='date')\n",
    "color = 'green!80!black'\n",
    "node = end_node(df, color, date='m', percent=True)\n",
    "write_txt(text_dir / 'pcegrowth_node.txt', node)\n",
    "\n",
    "ltdate = dtxt(df.index[-1])['mon1']\n",
    "ltval  = df.iloc[-1]\n",
    "pydate = dtxt(df.index[-13])['mon1']\n",
    "pyval = df.iloc[-13]\n",
    "compare = compare_text(ltval, pyval, [0.1, 0.5, 2.0])\n",
    "url = 'https://www.bea.gov/data/consumer-spending/main'\n",
    "pyrt = value_text(pyval, 'increase_of', threshold=0.1)\n",
    "ltrt = value_text(ltval, threshold=0.1)\n",
    "text = (f'Consumer spending is also \\href{{{url}}}{{reported}}'+\n",
    "        ' on a monthly basis. Inflation- and population-adjusted '+\n",
    "        f'consumer spending {ltrt} over the year ending '+\n",
    "        f'{ltdate} (see {{\\color{{{color}}}\\\\textbf{{---}}}}), '+\n",
    "        f'{compare} the previous year rate ({pyrt} over the year '+\n",
    "        f'ending {pydate}). ')\n",
    "write_txt(text_dir / 'pcegrowth.txt', text)\n",
    "print(text)"
   ]
  },
  {
   "cell_type": "code",
   "execution_count": null,
   "metadata": {},
   "outputs": [],
   "source": []
  },
  {
   "cell_type": "code",
   "execution_count": null,
   "metadata": {},
   "outputs": [],
   "source": []
  },
  {
   "cell_type": "markdown",
   "metadata": {},
   "source": [
    "### Personal saving rate"
   ]
  },
  {
   "cell_type": "code",
   "execution_count": 7,
   "metadata": {
    "ExecuteTime": {
     "end_time": "2022-02-01T17:06:49.291889Z",
     "start_time": "2022-02-01T17:06:49.279221Z"
    }
   },
   "outputs": [
    {
     "name": "stdout",
     "output_type": "stream",
     "text": [
      "As of December 2021, the Bureau of Economic Analysis \\href{https://www.bea.gov/data/income-saving/personal-saving-rate}{report} a personal saving rate of 7.9 percent (see {\\color{red}\\textbf{---}}). Since February 2020, the personal saving rate decreased by a total of 0.4 percentage point.\n"
     ]
    }
   ],
   "source": [
    "df = pd.read_csv(data_dir/'nipa20600.csv', index_col='date', \n",
    "                 parse_dates=True)\n",
    "data = df['A072RC']\n",
    "data.to_csv(data_dir / 'psavert.csv', index_label='date')\n",
    "datelt = dtxt(data.index[-1])['mon1']\n",
    "latest = data.iloc[-1]\n",
    "ch_covid = latest - data.loc['2020-02-01']\n",
    "node = end_node(data, 'red', date='m', percent=True)\n",
    "write_txt(text_dir / 'psavert_node.txt', node)\n",
    "\n",
    "txt = value_text(ch_covid, ptype='pp', adj='total')\n",
    "url = 'https://www.bea.gov/data/income-saving/personal-saving-rate'\n",
    "text = (f'As of {datelt}, the Bureau of Economic Analysis '+\n",
    "        f'\\href{{{url}}}{{report}} a personal saving rate of '+\n",
    "        f'{latest:.1f} percent (see {{\\color{{red}}\\\\textbf{{---}}}}). '+\n",
    "        f'Since February 2020, the personal saving rate {txt}.')\n",
    "write_txt(text_dir / 'psavert.txt', text)\n",
    "print(text)"
   ]
  },
  {
   "cell_type": "code",
   "execution_count": null,
   "metadata": {},
   "outputs": [],
   "source": []
  },
  {
   "cell_type": "code",
   "execution_count": null,
   "metadata": {},
   "outputs": [],
   "source": []
  },
  {
   "cell_type": "markdown",
   "metadata": {},
   "source": [
    "### Personal Income"
   ]
  },
  {
   "cell_type": "code",
   "execution_count": 8,
   "metadata": {
    "ExecuteTime": {
     "end_time": "2022-02-01T17:06:56.208626Z",
     "start_time": "2022-02-01T17:06:56.185242Z"
    }
   },
   "outputs": [],
   "source": [
    "series = {\n",
    " 'TOTAL': '\\hspace{2mm}Personal income',\n",
    " 'LABOR': '\\hspace{-1mm}\\cbox{green!75!black} Labor',\n",
    " 'A034RC': '\\hspace{4mm} Wages and salaries',\n",
    " 'A038RC': '\\hspace{4mm} Supplements',\n",
    " 'CAPITAL': '\\hspace{-1mm}\\cbox{orange!40!yellow}Capital',\n",
    " 'A041RC': \"\\hspace{4mm} Proprietors' income\",\n",
    " 'A048RC': '\\hspace{4mm} Rental income',\n",
    " 'A064RC': '\\hspace{4mm} Personal interest income',\n",
    " 'B703RC': '\\hspace{4mm} Personal dividend income',\n",
    " 'TRANSFER': '\\hspace{-1mm}\\cbox{blue!80!white}Welfare',\n",
    " 'W823RC': '\\hspace{4mm} Social security',\n",
    " 'W824RC': '\\hspace{4mm} Medicare',\n",
    " 'W729RC': '\\hspace{4mm} Medicaid',\n",
    " 'W825RC': '\\hspace{4mm} Unemployment insurance',\n",
    " 'W826RC': \"\\hspace{4mm} Veterans' benefits\",\n",
    " 'W827RC': '\\hspace{4mm} Other',\n",
    " 'A061RC': '\\hspace{4mm} Less welfare contributions'}\n",
    "\n",
    "df = (pd.read_csv(data_dir/'nipa20600.csv', index_col='date', \n",
    "                 parse_dates=True)        \n",
    "        .assign(CAPITAL = lambda x: x['A041RC'] + x['A048RC'] + x['W210RC'],\n",
    "                TRANSFER = lambda x: x['A577RC'] - x['A061RC'],\n",
    "                A061RC = lambda x: - x['A061RC'])\n",
    "        .rename({'A065RC': 'TOTAL', 'A033RC': 'LABOR'}, axis=1))\n",
    "df.to_csv(data_dir / 'pi_raw.csv', index_label='date')"
   ]
  },
  {
   "cell_type": "code",
   "execution_count": 9,
   "metadata": {
    "ExecuteTime": {
     "end_time": "2022-02-01T17:06:59.233911Z",
     "start_time": "2022-02-01T17:06:58.503413Z"
    }
   },
   "outputs": [
    {
     "name": "stdout",
     "output_type": "stream",
     "text": [
      "In December 2021, annualized personal income is \\$63,234 per capita. Labor income totals \\$39,415 per person; capital and proprietor income is \\$16,850 per person; and welfare or transfer income is \\$6,969 per person. \n"
     ]
    }
   ],
   "source": [
    "df = pd.read_csv(data_dir / 'pi_raw.csv').set_index('date')\n",
    "df.index = pd.to_datetime(df.index)\n",
    "\n",
    "pce = fred_df('PCEPI', start='1988')['VALUE']\n",
    "pce = (pce.iloc[-1] / pce)\n",
    "\n",
    "pop = df['B230RC']\n",
    "\n",
    "data = (df.div(pop, axis=0).multiply(pce, axis=0))\n",
    "cols = ['LABOR', 'CAPITAL', 'TRANSFER']\n",
    "(data.loc['1989-01-01':,cols]\n",
    "     .to_csv(data_dir / 'pi_levels.csv', index_label='date'))\n",
    "\n",
    "tbl = ((data[series.keys()].rename(series, axis=1)\n",
    "            .iloc[[-1, -2, -3, -4, -13, -37]].T * 1000)\n",
    "            .applymap('{:,.0f}'.format))\n",
    "\n",
    "tbl.columns = [dtxt(c)['mon6'] for c in tbl.columns]\n",
    "tbl.index.name = ''\n",
    "\n",
    "tbl.to_csv(data_dir / 'pi_levels.tex', sep='&', \n",
    "           line_terminator='\\\\\\ ', quotechar=' ')\n",
    "\n",
    "ld = data.index[-1]\n",
    "ltdate = dtxt(data.index[-1])['mon1']\n",
    "totval = data.loc[ld, 'TOTAL'] * 1000\n",
    "labval = data.loc[ld, 'LABOR'] * 1000\n",
    "capval = data.loc[ld, 'CAPITAL'] * 1000\n",
    "welval = data.loc[ld, 'TRANSFER'] * 1000\n",
    "text = (f'In {ltdate}, annualized personal income is '+\n",
    "        f'\\${totval:,.0f} per capita. Labor income totals \\${labval:,.0f} '+\n",
    "        f'per person; capital and proprietor income is \\${capval:,.0f} '+\n",
    "        f'per person; and welfare or transfer income is \\${welval:,.0f} '+\n",
    "        'per person. ')\n",
    "write_txt(text_dir / 'pi_levels_basic.txt', text)\n",
    "write_txt(text_dir / 'pi_date.txt', ltdate)\n",
    "print(text)"
   ]
  },
  {
   "cell_type": "code",
   "execution_count": null,
   "metadata": {},
   "outputs": [],
   "source": []
  },
  {
   "cell_type": "code",
   "execution_count": null,
   "metadata": {},
   "outputs": [],
   "source": []
  },
  {
   "cell_type": "markdown",
   "metadata": {},
   "source": [
    "### Income, Outlays, Savings overview"
   ]
  },
  {
   "cell_type": "code",
   "execution_count": 10,
   "metadata": {
    "ExecuteTime": {
     "end_time": "2022-02-01T17:07:02.161547Z",
     "start_time": "2022-02-01T17:07:02.144765Z"
    }
   },
   "outputs": [
    {
     "name": "stdout",
     "output_type": "stream",
     "text": [
      "Disposable personal income, or after-tax income to persons, totals \\$18.2 trillion, on an annualized basis, in December 2021, equivalent to \\$54,960 per person (see {\\color{blue!75!black}\\textbf{---}}). Personal consumption expenditures, or consumer spending, totals \\$16.3 trillion in December 2021, or \\$49,131 per person (see {\\color{orange}\\textbf{---}}). Saving, calculated as after-tax income minus consumer spending, totals \\$1.4 trillion, or \\$4,324 per person (see {\\color{green!80!blue}\\textbf{---}}). \n"
     ]
    }
   ],
   "source": [
    "# Income outlays and savings, overview\n",
    "series2 = {'A067RC': 'DPI',\n",
    "           'DPCERC': 'PCE',\n",
    "           'A071RC': 'PSAVE'}\n",
    "df2 = data.loc['1989':].rename(series2, axis=1)[series2.values()]\n",
    "df2.to_csv(data_dir / 'inc_out_save.csv', index_label='date')\n",
    "\n",
    "ltdate = dtxt(df2.index[-1])['mon1']\n",
    "value = df['A067RC'].iloc[-1] / 1_000_000\n",
    "value = f'\\${value:.1f} trillion'\n",
    "valuepc = df2['DPI'].iloc[-1] * 1000\n",
    "valuepc = f'\\${valuepc:,.0f}'\n",
    "pcevalue = df['DPCERC'].iloc[-1] / 1_000_000\n",
    "pcevalue = f'\\${pcevalue:.1f} trillion'\n",
    "pcevaluepc = df2['PCE'].iloc[-1] * 1000\n",
    "pcevaluepc = f'\\${pcevaluepc:,.0f}'\n",
    "savevalue = df['A071RC'].iloc[-1] / 1_000_000\n",
    "savevalue = f'\\${savevalue:.1f} trillion'\n",
    "savevaluepc = df2['PSAVE'].iloc[-1] * 1000\n",
    "savevaluepc = f'\\${savevaluepc:,.0f}'\n",
    "\n",
    "text = ('Disposable personal income, or after-tax income to persons, '+\n",
    "        f'totals {value}, on an annualized basis, in {ltdate}, '+\n",
    "        f'equivalent to {valuepc} per person '+\n",
    "        '(see {\\color{blue!75!black}\\\\textbf{---}}). Personal '+\n",
    "        f'consumption expenditures, or consumer spending, totals '+\n",
    "        f'{pcevalue} in {ltdate}, or {pcevaluepc} per person '+\n",
    "        '(see {\\color{orange}\\\\textbf{---}}). Saving, '+\n",
    "        'calculated as after-tax income minus consumer spending, '+\n",
    "        f'totals {savevalue}, or {savevaluepc} per person '+\n",
    "        '(see {\\color{green!80!blue}\\\\textbf{---}}). ')\n",
    "write_txt(text_dir / 'inc_out_save.txt', text)\n",
    "print(text)\n",
    "\n",
    "series3 = {\n",
    " 'TOTAL': '\\hspace{3mm}Personal income',\n",
    " 'W055RC': '\\hspace{3mm}Personal current taxes',\n",
    " 'A067RC': '\\hspace{-1mm} {\\color{blue!75!black}\\\\textbf{---}} \\ After-tax income',\n",
    " 'DPCERC': '\\hspace{-1mm} {\\color{orange}\\\\textbf{---}} \\ Consumer spending',\n",
    " 'A071RC': '\\hspace{-1mm} {\\color{green!80!blue}\\\\textbf{---}} \\ Personal saving'}\n",
    "\n",
    "tbl = ((data[series3.keys()].rename(series3, axis=1)\n",
    "            .iloc[[-1, -2, -3, -4, -13, -37]].T * 1000)\n",
    "            .applymap('{:,.0f}'.format))\n",
    "\n",
    "tbl.columns = [dtxt(c)['mon6'] for c in tbl.columns]\n",
    "tbl.index.name = ''\n",
    "\n",
    "tbl.to_csv(data_dir / 'inc_out_save_levels.tex', sep='&', \n",
    "           line_terminator='\\\\\\ ', quotechar=' ')"
   ]
  },
  {
   "cell_type": "code",
   "execution_count": null,
   "metadata": {},
   "outputs": [],
   "source": []
  },
  {
   "cell_type": "code",
   "execution_count": null,
   "metadata": {},
   "outputs": [],
   "source": []
  }
 ],
 "metadata": {
  "kernelspec": {
   "display_name": "Python 3",
   "language": "python",
   "name": "python3"
  },
  "language_info": {
   "codemirror_mode": {
    "name": "ipython",
    "version": 3
   },
   "file_extension": ".py",
   "mimetype": "text/x-python",
   "name": "python",
   "nbconvert_exporter": "python",
   "pygments_lexer": "ipython3",
   "version": "3.8.8"
  }
 },
 "nbformat": 4,
 "nbformat_minor": 4
}
