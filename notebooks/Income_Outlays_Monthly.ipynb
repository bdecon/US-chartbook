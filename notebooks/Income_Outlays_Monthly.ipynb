{
 "cells": [
  {
   "cell_type": "markdown",
   "metadata": {},
   "source": [
    "### Income and Outlays Monthly Data"
   ]
  },
  {
   "cell_type": "code",
   "execution_count": 1,
   "metadata": {
    "ExecuteTime": {
     "end_time": "2022-01-09T22:12:50.940827Z",
     "start_time": "2022-01-09T22:12:50.245495Z"
    }
   },
   "outputs": [],
   "source": [
    "%config Completer.use_jedi = False\n",
    "import sys\n",
    "import json\n",
    "sys.path.append('../src')\n",
    "\n",
    "import uschartbook.config\n",
    "\n",
    "from uschartbook.config import *\n",
    "from uschartbook.utils import *"
   ]
  },
  {
   "cell_type": "code",
   "execution_count": null,
   "metadata": {},
   "outputs": [],
   "source": []
  },
  {
   "cell_type": "markdown",
   "metadata": {},
   "source": [
    "### After-tax income growth"
   ]
  },
  {
   "cell_type": "code",
   "execution_count": 2,
   "metadata": {
    "ExecuteTime": {
     "end_time": "2022-01-09T22:12:51.723857Z",
     "start_time": "2022-01-09T22:12:50.941915Z"
    }
   },
   "outputs": [
    {
     "name": "stdout",
     "output_type": "stream",
     "text": [
      "The Bureau of Economic Analysis \\href{https://www.bea.gov/data/income-saving/personal-income}{report} an inflation-adjusted one-year change in after-tax income per person (see {\\color{blue!80!cyan}\\textbf{---}}) of -0.2 percent in November 2021, -1.3 percent in October 2021, and 2.7 percent in November 2020. Over the past year, the measure has averaged 2.3 percent. During the three years before the COVID-19 pandemic, per capita after-tax income grew at an average annual rate of 2.3 percent.\n"
     ]
    }
   ],
   "source": [
    "data = fred_df('A229RX0', start='1988')['VALUE']\n",
    "data2 = (data.pct_change(12) * 100).dropna()\n",
    "data2.to_csv(data_dir / 'rdpigrowth.csv', header=['rdpi'], index_label='date')\n",
    "node = end_node(data2, 'blue!80!cyan', date=True)\n",
    "write_txt(text_dir / 'rdpi_node.txt', node)\n",
    "\n",
    "ltdate = dtxt(data2.index[-1])['mon1']\n",
    "ltval = data2.iloc[-1]\n",
    "prdate = dtxt(data2.index[-2])['mon1']\n",
    "prval = data2.iloc[-2]\n",
    "prdate2 = dtxt(data2.index[-13])['mon1']\n",
    "prval2 = data2.iloc[-13]\n",
    "ltavg = data2.iloc[-13:].mean()\n",
    "ltavg2 = data2.loc['2017-03-01': '2020-02-01'].mean()\n",
    "\n",
    "text = ('The Bureau of Economic Analysis '+\n",
    "        '\\href{https://www.bea.gov/data/income-saving/personal-income}{report} '+\n",
    "        'an inflation-adjusted one-year change in after-tax income per person (see '+\n",
    "        '{\\color{blue!80!cyan}\\\\textbf{---}}) of '+\n",
    "        f'{ltval:.1f} percent in {ltdate}, {prval:.1f} percent '+\n",
    "        f'in {prdate}, and {prval2:.1f} percent in {prdate2}. '+\n",
    "        f'Over the past year, the measure has averaged {ltavg:.1f} percent. '+\n",
    "        'During the three years before the COVID-19 pandemic, per capita '+\n",
    "        f'after-tax income grew at an average annual rate of {ltavg2:.1f} percent.')\n",
    "write_txt(text_dir / 'rdpigrowth.txt', text)\n",
    "print(text)"
   ]
  },
  {
   "cell_type": "code",
   "execution_count": null,
   "metadata": {},
   "outputs": [],
   "source": []
  },
  {
   "cell_type": "code",
   "execution_count": null,
   "metadata": {},
   "outputs": [],
   "source": []
  },
  {
   "cell_type": "markdown",
   "metadata": {},
   "source": [
    "### Monthly consumer spending growth"
   ]
  },
  {
   "cell_type": "code",
   "execution_count": 3,
   "metadata": {
    "ExecuteTime": {
     "end_time": "2022-01-09T22:12:53.266093Z",
     "start_time": "2022-01-09T22:12:51.725443Z"
    }
   },
   "outputs": [],
   "source": [
    "data = pd.read_csv('../data/rpcepop_hist.csv', index_col='DATE', parse_dates=True)\n",
    "\n",
    "series = {'PCEC96': 'PCE', \n",
    "          'POPTHM': 'POP'}\n",
    "\n",
    "df = pd.DataFrame()\n",
    "for srs, name in series.items():\n",
    "    url = f'http://research.stlouisfed.org/fred2/series/{srs}/downloaddata/{srs}.csv'\n",
    "    s = pd.read_csv(url, index_col='DATE', parse_dates=True)['VALUE']\n",
    "    df[name] = s\n",
    "    \n",
    "df['PCEPOP'] = df['PCE'] / df['POP']\n",
    "data2 = data['rpcepop'].append((df.PCEPOP.pct_change(12) * 100).dropna().rename('rpcepop'))\n",
    "\n",
    "data2.to_csv(data_dir / 'pcegrowth.csv', header=['rpcepop'], index_label='date')\n",
    "\n",
    "node = end_node(data2, 'green!80!black', date=True)\n",
    "write_txt(text_dir / 'pcegrowth_node.txt', node)"
   ]
  },
  {
   "cell_type": "code",
   "execution_count": 4,
   "metadata": {
    "ExecuteTime": {
     "end_time": "2022-01-09T22:12:53.273561Z",
     "start_time": "2022-01-09T22:12:53.267302Z"
    }
   },
   "outputs": [
    {
     "name": "stdout",
     "output_type": "stream",
     "text": [
      "Consumer spending is also \\href{https://www.bea.gov/data/consumer-spending/main}{reported} on a monthly basis. Inflation- and population-adjusted consumer spending increased 7.1 percent over the year ending November 2021 (see {\\color{green!80!black}\\textbf{---}}), far above the previous year rate (a decrease of 2.9 percent over the year ending November 2020). \n"
     ]
    }
   ],
   "source": [
    "s = pd.read_csv(data_dir / 'pcegrowth.csv', parse_dates=['date']).set_index('date')['rpcepop']\n",
    "val_lt = s.iloc[-1]\n",
    "val_yr = s.iloc[-13]\n",
    "compare = compare_text(val_lt, val_yr, [0.1, 0.5, 2.0])\n",
    "\n",
    "text = ('Consumer spending is also \\href{https://www.bea.gov/data/consumer-spending/main}{reported}'+\n",
    "        ' on a monthly basis. Inflation- and population-adjusted consumer spending '+\n",
    "        f'{value_text(val_lt)} over the year ending {dtxt(s.index[-1])[\"mon1\"]} '+\n",
    "        '(see {\\color{green!80!black}\\\\textbf{---}}), '+\n",
    "        f'{compare} the previous year rate ({value_text(val_yr, \"increase_of\")} '+\n",
    "        f'over the year ending {dtxt(s.index[-13])[\"mon1\"]}). ')\n",
    "write_txt(text_dir / 'pcegrowth.txt', text)\n",
    "print(text)"
   ]
  },
  {
   "cell_type": "code",
   "execution_count": null,
   "metadata": {},
   "outputs": [],
   "source": []
  },
  {
   "cell_type": "code",
   "execution_count": null,
   "metadata": {
    "ExecuteTime": {
     "end_time": "2020-09-10T18:07:28.404607Z",
     "start_time": "2020-09-10T18:07:28.397307Z"
    }
   },
   "outputs": [],
   "source": []
  },
  {
   "cell_type": "markdown",
   "metadata": {},
   "source": [
    "### Personal saving rate"
   ]
  },
  {
   "cell_type": "code",
   "execution_count": 5,
   "metadata": {
    "ExecuteTime": {
     "end_time": "2022-01-09T22:12:53.967740Z",
     "start_time": "2022-01-09T22:12:53.274614Z"
    }
   },
   "outputs": [
    {
     "name": "stdout",
     "output_type": "stream",
     "text": [
      "As of November 2021, the Bureau of Economic Analysis \\href{https://www.bea.gov/data/income-saving/personal-saving-rate}{report} a rate of personal saving of 6.9 percent (see {\\color{red}\\textbf{---}}). Since February 2020, the personal saving rate decreased by a total of 1.4 percentage points.\n"
     ]
    }
   ],
   "source": [
    "data = fred_df('PSAVERT')['VALUE']\n",
    "\n",
    "data.to_csv(data_dir / 'psavert.csv', index_label='date', header=True)\n",
    "\n",
    "datelt = dtxt(data.index[-1])['mon1']\n",
    "latest = data.iloc[-1]\n",
    "ch_covid = latest - data.loc['2020-02-01']\n",
    "\n",
    "txt = value_text(ch_covid, ptype='pp', adj='total')\n",
    "\n",
    "text = (f'As of {datelt}, the Bureau of Economic Analysis '+\n",
    "        '\\href{https://www.bea.gov/data/income-saving/personal-saving-rate}{report} a rate '+\n",
    "        f'of personal saving of {latest:.1f} percent '+\n",
    "        '(see {\\color{red}\\\\textbf{---}}). Since February 2020, '+\n",
    "        f'the personal saving rate {txt}.')\n",
    "\n",
    "write_txt(text_dir / 'psavert.txt', text)\n",
    "\n",
    "print(text)\n",
    "\n",
    "node = end_node(data, 'red', date=True)\n",
    "write_txt(text_dir / 'psavert_node.txt', node)"
   ]
  },
  {
   "cell_type": "code",
   "execution_count": null,
   "metadata": {},
   "outputs": [],
   "source": []
  },
  {
   "cell_type": "markdown",
   "metadata": {},
   "source": [
    "### Personal Income"
   ]
  },
  {
   "cell_type": "code",
   "execution_count": 6,
   "metadata": {
    "ExecuteTime": {
     "end_time": "2022-01-09T22:12:55.473544Z",
     "start_time": "2022-01-09T22:12:53.968924Z"
    }
   },
   "outputs": [],
   "source": [
    "series = {\n",
    " 'TOTAL': '\\hspace{2mm}Personal income',\n",
    " 'LABOR': '\\hspace{-1mm}\\cbox{green!75!black} Labor',\n",
    " 'A034RC': '\\hspace{4mm} Wages and salaries',\n",
    " 'A038RC': '\\hspace{4mm} Supplements',\n",
    " 'CAPITAL': '\\hspace{-1mm}\\cbox{orange!40!yellow}Capital',\n",
    " 'A041RC': \"\\hspace{4mm} Proprietors' income\",\n",
    " 'A048RC': '\\hspace{4mm} Rental income',\n",
    " 'A064RC': '\\hspace{4mm} Personal interest income',\n",
    " 'B703RC': '\\hspace{4mm} Personal dividend income',\n",
    " 'TRANSFER': '\\hspace{-1mm}\\cbox{blue!80!white}Welfare',\n",
    " 'W823RC': '\\hspace{4mm} Social security',\n",
    " 'W824RC': '\\hspace{4mm} Medicare',\n",
    " 'W729RC': '\\hspace{4mm} Medicaid',\n",
    " 'W825RC': '\\hspace{4mm} Unemployment insurance',\n",
    " 'W826RC': \"\\hspace{4mm} Veterans' benefits\",\n",
    " 'W827RC': '\\hspace{4mm} Other',\n",
    " 'A061RC': '\\hspace{4mm} Less welfare contributions'}\n",
    "\n",
    "# Components of request\n",
    "base = f'https://apps.bea.gov/api/data/?&UserID={bea_key}'\n",
    "dset = '&method=GetData&datasetname=NIPA'\n",
    "tbl = 'T20600' \n",
    "freq = '&Frequency=M'\n",
    "yr = ','.join(map(str, range(1988, 2022)))\n",
    "fmt = '&ResultFormat=json'\n",
    "url = f'{base}{dset}&TableName={tbl}{freq}&Year={yr}{fmt}'\n",
    "\n",
    "# Request data\n",
    "r = requests.get(url).json()['BEAAPI']['Results']\n",
    "\n",
    "df = pd.DataFrame(r['Data'])\n",
    "df['Date'] = pd.to_datetime(df['TimePeriod'], format='%YM%m')\n",
    "\n",
    "df = (df.set_index(['Date', 'SeriesCode'])['DataValue'].str.replace(',', '')\n",
    "        .astype(float).unstack()\n",
    "        .assign(CAPITAL = lambda x: x['A041RC'] + x['A048RC'] + x['W210RC'],\n",
    "                TRANSFER = lambda x: x['A577RC'] - x['A061RC'],\n",
    "                A061RC = lambda x: - x['A061RC'])\n",
    "        .rename({'A065RC': 'TOTAL', 'A033RC': 'LABOR'}, axis=1))\n",
    "\n",
    "df.to_csv(data_dir / 'pi_raw.csv', index_label='date')"
   ]
  },
  {
   "cell_type": "code",
   "execution_count": 7,
   "metadata": {
    "ExecuteTime": {
     "end_time": "2022-01-09T22:12:56.231797Z",
     "start_time": "2022-01-09T22:12:55.474513Z"
    }
   },
   "outputs": [
    {
     "name": "stdout",
     "output_type": "stream",
     "text": [
      "In November 2021, annualized personal income is \\$62,894 per capita. Labor income totals \\$39,052 per person; capital and proprietor income is \\$16,833 per person; and welfare or transfer income is \\$7,009 per person. \n"
     ]
    }
   ],
   "source": [
    "df = pd.read_csv(data_dir / 'pi_raw.csv').set_index('date')\n",
    "df.index = pd.to_datetime(df.index)\n",
    "\n",
    "pce = fred_df('PCEPI', start='1988')['VALUE']\n",
    "pce = (pce.iloc[-1] / pce)\n",
    "\n",
    "pop = df['B230RC']\n",
    "\n",
    "data = (df.div(pop, axis=0).multiply(pce, axis=0))\n",
    "\n",
    "(data.loc[pd.to_datetime('1989-01-01'):,['LABOR', 'CAPITAL', 'TRANSFER']]\n",
    "     .to_csv(data_dir / 'pi_levels.csv', index_label='date'))\n",
    "\n",
    "tbl = ((data[series.keys()].rename(series, axis=1)\n",
    "            .iloc[[-1, -2, -3, -4, -13, -37]].T * 1000)\n",
    "            .applymap('{:,.0f}'.format))\n",
    "\n",
    "tbl.columns = [dtxt(c)['mon6'] for c in tbl.columns]\n",
    "tbl.index.name = ''\n",
    "\n",
    "tbl.to_csv(data_dir / 'pi_levels.tex', sep='&', line_terminator='\\\\\\ ', quotechar=' ')\n",
    "\n",
    "ld = data.index[-1]\n",
    "ltdate = dtxt(data.index[-1])['mon1']\n",
    "totval = data.loc[ld, 'TOTAL'] * 1000\n",
    "labval = data.loc[ld, 'LABOR'] * 1000\n",
    "capval = data.loc[ld, 'CAPITAL'] * 1000\n",
    "welval = data.loc[ld, 'TRANSFER'] * 1000\n",
    "\n",
    "text = (f'In {ltdate}, annualized personal income is '+\n",
    "        f'\\${totval:,.0f} per capita. Labor income totals \\${labval:,.0f} '+\n",
    "        f'per person; capital and proprietor income is \\${capval:,.0f} '+\n",
    "        f'per person; and welfare or transfer income is \\${welval:,.0f} '+\n",
    "        'per person. ')\n",
    "\n",
    "write_txt(text_dir / 'pi_levels_basic.txt', text)\n",
    "write_txt(text_dir / 'pi_date.txt', ltdate)\n",
    "print(text)"
   ]
  },
  {
   "cell_type": "code",
   "execution_count": null,
   "metadata": {},
   "outputs": [],
   "source": []
  },
  {
   "cell_type": "markdown",
   "metadata": {},
   "source": [
    "### Income, Outlays, Savings overview"
   ]
  },
  {
   "cell_type": "code",
   "execution_count": 8,
   "metadata": {
    "ExecuteTime": {
     "end_time": "2022-01-09T22:12:56.247827Z",
     "start_time": "2022-01-09T22:12:56.234426Z"
    }
   },
   "outputs": [
    {
     "name": "stdout",
     "output_type": "stream",
     "text": [
      "Disposable personal income, or after-tax income to persons, totals \\$18.2 trillion, on an annualized basis, in November 2021, equivalent to \\$54,758 per person (see {\\color{blue!75!black}\\textbf{---}}). Personal consumption expenditures, or consumer spending, totals \\$16.4 trillion in November 2021, or \\$49,498 per person (see {\\color{orange}\\textbf{---}}). Saving, calculated as after-tax income minus consumer spending, totals \\$1.3 trillion, or \\$3,768 per person (see {\\color{green!80!blue}\\textbf{---}}). \n"
     ]
    }
   ],
   "source": [
    "# Income outlays and savings, overview\n",
    "series2 = {'A067RC': 'DPI',\n",
    "           'DPCERC': 'PCE',\n",
    "           'A071RC': 'PSAVE'}\n",
    "df2 = data.loc['1989':].rename(series2, axis=1)[series2.values()]\n",
    "df2.to_csv(data_dir / 'inc_out_save.csv', index_label='date')\n",
    "\n",
    "ltdate = dtxt(df2.index[-1])['mon1']\n",
    "value = df['A067RC'].iloc[-1] / 1_000_000\n",
    "value = f'\\${value:.1f} trillion'\n",
    "valuepc = df2['DPI'].iloc[-1] * 1000\n",
    "valuepc = f'\\${valuepc:,.0f}'\n",
    "pcevalue = df['DPCERC'].iloc[-1] / 1_000_000\n",
    "pcevalue = f'\\${pcevalue:.1f} trillion'\n",
    "pcevaluepc = df2['PCE'].iloc[-1] * 1000\n",
    "pcevaluepc = f'\\${pcevaluepc:,.0f}'\n",
    "savevalue = df['A071RC'].iloc[-1] / 1_000_000\n",
    "savevalue = f'\\${savevalue:.1f} trillion'\n",
    "savevaluepc = df2['PSAVE'].iloc[-1] * 1000\n",
    "savevaluepc = f'\\${savevaluepc:,.0f}'\n",
    "\n",
    "text = ('Disposable personal income, or after-tax income to persons, '+\n",
    "        f'totals {value}, on an annualized basis, in {ltdate}, '+\n",
    "        f'equivalent to {valuepc} per person '+\n",
    "        '(see {\\color{blue!75!black}\\\\textbf{---}}). Personal '+\n",
    "        f'consumption expenditures, or consumer spending, totals '+\n",
    "        f'{pcevalue} in {ltdate}, or {pcevaluepc} per person '+\n",
    "        '(see {\\color{orange}\\\\textbf{---}}). Saving, '+\n",
    "        'calculated as after-tax income minus consumer spending, '+\n",
    "        f'totals {savevalue}, or {savevaluepc} per person '+\n",
    "        '(see {\\color{green!80!blue}\\\\textbf{---}}). ')\n",
    "\n",
    "write_txt(text_dir / 'inc_out_save.txt', text)\n",
    "print(text)"
   ]
  },
  {
   "cell_type": "code",
   "execution_count": 9,
   "metadata": {
    "ExecuteTime": {
     "end_time": "2022-01-09T22:12:56.255199Z",
     "start_time": "2022-01-09T22:12:56.248926Z"
    }
   },
   "outputs": [],
   "source": [
    "series3 = {\n",
    " 'TOTAL': '\\hspace{3mm}Personal income',\n",
    " 'W055RC': '\\hspace{3mm}Personal current taxes',\n",
    " 'A067RC': '\\hspace{-1mm} {\\color{blue!75!black}\\\\textbf{---}} \\ After-tax income',\n",
    " 'DPCERC': '\\hspace{-1mm} {\\color{orange}\\\\textbf{---}} \\ Consumer spending',\n",
    " 'A071RC': '\\hspace{-1mm} {\\color{green!80!blue}\\\\textbf{---}} \\ Personal saving'}"
   ]
  },
  {
   "cell_type": "code",
   "execution_count": 11,
   "metadata": {
    "ExecuteTime": {
     "end_time": "2022-01-09T22:13:10.102078Z",
     "start_time": "2022-01-09T22:13:10.094941Z"
    }
   },
   "outputs": [],
   "source": [
    "tbl = ((data[series3.keys()].rename(series3, axis=1)\n",
    "            .iloc[[-1, -2, -3, -4, -13, -37]].T * 1000)\n",
    "            .applymap('{:,.0f}'.format))\n",
    "\n",
    "tbl.columns = [dtxt(c)['mon6'] for c in tbl.columns]\n",
    "tbl.index.name = ''\n",
    "\n",
    "tbl.to_csv(data_dir / 'inc_out_save_levels.tex', sep='&', line_terminator='\\\\\\ ', quotechar=' ')"
   ]
  },
  {
   "cell_type": "code",
   "execution_count": null,
   "metadata": {},
   "outputs": [],
   "source": []
  }
 ],
 "metadata": {
  "kernelspec": {
   "display_name": "Python 3",
   "language": "python",
   "name": "python3"
  },
  "language_info": {
   "codemirror_mode": {
    "name": "ipython",
    "version": 3
   },
   "file_extension": ".py",
   "mimetype": "text/x-python",
   "name": "python",
   "nbconvert_exporter": "python",
   "pygments_lexer": "ipython3",
   "version": "3.8.8"
  }
 },
 "nbformat": 4,
 "nbformat_minor": 4
}
