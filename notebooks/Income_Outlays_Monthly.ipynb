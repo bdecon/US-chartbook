{
 "cells": [
  {
   "cell_type": "markdown",
   "metadata": {},
   "source": [
    "### Income and Outlays Monthly Data"
   ]
  },
  {
   "cell_type": "code",
   "execution_count": 2,
   "metadata": {
    "ExecuteTime": {
     "end_time": "2020-09-10T02:59:57.718346Z",
     "start_time": "2020-09-10T02:59:57.036974Z"
    }
   },
   "outputs": [],
   "source": [
    "import sys\n",
    "import json\n",
    "sys.path.append('../src')\n",
    "\n",
    "import uschartbook.config\n",
    "\n",
    "from uschartbook.config import *\n",
    "from uschartbook.utils import *"
   ]
  },
  {
   "cell_type": "code",
   "execution_count": null,
   "metadata": {},
   "outputs": [],
   "source": []
  },
  {
   "cell_type": "markdown",
   "metadata": {},
   "source": [
    "### After-tax income growth"
   ]
  },
  {
   "cell_type": "code",
   "execution_count": 6,
   "metadata": {
    "ExecuteTime": {
     "end_time": "2020-09-09T21:21:49.632535Z",
     "start_time": "2020-09-09T21:21:49.170366Z"
    }
   },
   "outputs": [
    {
     "name": "stdout",
     "output_type": "stream",
     "text": [
      "The Bureau of Economic Analysis \\href{https://www.bea.gov/data/income-saving/personal-income}{report} an inflation-adjusted one-year change in after-tax income per person (see {\\color{blue!80!cyan}\\textbf{---}}) of 7.9 percent in July 2020, 8.1 percent in June 2020, and 1.1 percent in July 2019. Over the past year, the measure has averaged 4.0 percent. During the three-years prior to the COVID-19 pandemic, per capita after-tax income grew at an average annual rate of 2.4 percent.\n"
     ]
    }
   ],
   "source": [
    "data = fred_df('A229RX0', start='1988')['VALUE']\n",
    "data2 = (data.pct_change(12) * 100).dropna()\n",
    "data2.to_csv(data_dir / 'rdpigrowth.csv', header=['rdpi'], index_label='date')\n",
    "node = end_node(data2, 'blue!80!cyan', date=True)\n",
    "write_txt(text_dir / 'rdpi_node.txt', node)\n",
    "\n",
    "ltdate = dtxt(data2.index[-1])['mon1']\n",
    "ltval = data2.iloc[-1]\n",
    "prdate = dtxt(data2.index[-2])['mon1']\n",
    "prval = data2.iloc[-2]\n",
    "prdate2 = dtxt(data2.index[-13])['mon1']\n",
    "prval2 = data2.iloc[-13]\n",
    "ltavg = data2.iloc[-13:].mean()\n",
    "ltavg2 = data2.loc['2017-03-01': '2020-02-01'].mean()\n",
    "\n",
    "text = ('The Bureau of Economic Analysis '+\n",
    "        '\\href{https://www.bea.gov/data/income-saving/personal-income}{report} '+\n",
    "        'an inflation-adjusted one-year change in after-tax income per person (see '+\n",
    "        '{\\color{blue!80!cyan}\\\\textbf{---}}) of '+\n",
    "        f'{ltval:.1f} percent in {ltdate}, {prval:.1f} percent '+\n",
    "        f'in {prdate}, and {prval2:.1f} percent in {prdate2}. '+\n",
    "        f'Over the past year, the measure has averaged {ltavg:.1f} percent. '+\n",
    "        'During the three years before the COVID-19 pandemic, per capita '+\n",
    "        f'after-tax income grew at an average annual rate of {ltavg2:.1f} percent.')\n",
    "write_txt(text_dir / 'rdpigrowth.txt', text)\n",
    "print(text)"
   ]
  },
  {
   "cell_type": "code",
   "execution_count": null,
   "metadata": {},
   "outputs": [],
   "source": []
  },
  {
   "cell_type": "code",
   "execution_count": null,
   "metadata": {},
   "outputs": [],
   "source": []
  },
  {
   "cell_type": "markdown",
   "metadata": {},
   "source": [
    "### Monthly consumer spending growth"
   ]
  },
  {
   "cell_type": "code",
   "execution_count": 7,
   "metadata": {},
   "outputs": [],
   "source": [
    "data = pd.read_csv('../data/rpcepop_hist.csv', index_col='DATE', parse_dates=True)\n",
    "\n",
    "series = {'PCEC96': 'PCE', \n",
    "          'POPTHM': 'POP'}\n",
    "\n",
    "df = pd.DataFrame()\n",
    "for srs, name in series.items():\n",
    "    url = f'http://research.stlouisfed.org/fred2/series/{srs}/downloaddata/{srs}.csv'\n",
    "    s = pd.read_csv(url, index_col='DATE', parse_dates=True)['VALUE']\n",
    "    df[name] = s\n",
    "    \n",
    "df['PCEPOP'] = df['PCE'] / df['POP']\n",
    "data2 = data['rpcepop'].append((df.PCEPOP.pct_change(12) * 100).dropna().rename('rpcepop'))\n",
    "\n",
    "data2.to_csv(data_dir / 'pcegrowth.csv', header=['rpcepop'], index_label='date')\n",
    "\n",
    "node = end_node(data2, 'green!80!black', date=True)\n",
    "write_txt(text_dir / 'pcegrowth_node.txt', node)"
   ]
  },
  {
   "cell_type": "code",
   "execution_count": 8,
   "metadata": {},
   "outputs": [
    {
     "data": {
      "text/plain": [
       "'Consumer spending is also \\\\href{https://www.bea.gov/data/consumer-spending/main}{reported} on a monthly basis. Inflation- and population-adjusted consumer spending decreased by 4.2 percentover the year ending July 2020 (see {\\\\color{green!80!black}\\\\textbf{---}}), far below the previous year rate (an increase of 2.0 percent for the year ending July 2019). '"
      ]
     },
     "execution_count": 8,
     "metadata": {},
     "output_type": "execute_result"
    }
   ],
   "source": [
    "s = pd.read_csv(data_dir / 'pcegrowth.csv', parse_dates=['date']).set_index('date')['rpcepop']\n",
    "d = series_info(s)\n",
    "val_lt = data2.iloc[-1]\n",
    "inc_dec = inc_dec_percent(val_lt)\n",
    "val_yr = data2.iloc[-13]\n",
    "inc_dec2 = inc_dec_percent(val_yr, how='of')\n",
    "compare = compare_text(val_lt, val_yr, [0.1, 0.5, 2.0])\n",
    "\n",
    "text = ('Consumer spending is also \\href{https://www.bea.gov/data/consumer-spending/main}{reported}'+\n",
    "        f' on a monthly basis. Inflation- and population-adjusted consumer spending {inc_dec}'+\n",
    "        f'over the year ending {d[\"date_latest_ft\"]} '+\n",
    "        '(see {\\color{green!80!black}\\\\textbf{---}}), '+\n",
    "        f'{compare} the previous year rate ({inc_dec2} for the year ending '+\n",
    "        f'{d[\"date_year_ago_ft\"]}). ')\n",
    "\n",
    "write_txt(text_dir / 'pcegrowth.txt', text)\n",
    "\n",
    "text"
   ]
  },
  {
   "cell_type": "code",
   "execution_count": null,
   "metadata": {},
   "outputs": [],
   "source": []
  },
  {
   "cell_type": "code",
   "execution_count": null,
   "metadata": {},
   "outputs": [],
   "source": []
  },
  {
   "cell_type": "markdown",
   "metadata": {},
   "source": [
    "### Personal saving rate"
   ]
  },
  {
   "cell_type": "code",
   "execution_count": 2,
   "metadata": {
    "ExecuteTime": {
     "end_time": "2020-09-09T22:34:29.675605Z",
     "start_time": "2020-09-09T22:34:29.164855Z"
    }
   },
   "outputs": [
    {
     "name": "stdout",
     "output_type": "stream",
     "text": [
      "As of July 2020, the Bureau of Economic Analysis \\href{https://www.bea.gov/data/income-saving/personal-saving-rate}{report} a rate of personal saving of 17.8 percent (see {\\color{red}\\textbf{---}}). Since February 2020, the personal saving rate increased by a total of 9.5 percentage points.\n"
     ]
    }
   ],
   "source": [
    "data = fred_df('PSAVERT')['VALUE']\n",
    "\n",
    "data.to_csv(data_dir / 'psavert.csv', index_label='date', header=True)\n",
    "\n",
    "datelt = dtxt(data.index[-1])['mon1']\n",
    "latest = data.iloc[-1]\n",
    "ch_covid = latest - data.loc['2020-02-01']\n",
    "\n",
    "txt = val_inc_pp(ch_covid)\n",
    "\n",
    "text = (f'As of {datelt}, the Bureau of Economic Analysis '+\n",
    "        '\\href{https://www.bea.gov/data/income-saving/personal-saving-rate}{report} a rate '+\n",
    "        f'of personal saving of {latest:.1f} percent '+\n",
    "        '(see {\\color{red}\\\\textbf{---}}). Since February 2020, '+\n",
    "        f'the personal saving rate {txt}.')\n",
    "\n",
    "write_txt(text_dir / 'psavert.txt', text)\n",
    "\n",
    "print(text)\n",
    "\n",
    "node = end_node(data, 'red', date=True)\n",
    "write_txt(text_dir / 'psavert_node.txt', node)"
   ]
  },
  {
   "cell_type": "code",
   "execution_count": null,
   "metadata": {},
   "outputs": [],
   "source": []
  },
  {
   "cell_type": "code",
   "execution_count": null,
   "metadata": {},
   "outputs": [],
   "source": []
  },
  {
   "cell_type": "markdown",
   "metadata": {},
   "source": [
    "### Personal Income"
   ]
  },
  {
   "cell_type": "code",
   "execution_count": 6,
   "metadata": {
    "ExecuteTime": {
     "end_time": "2020-09-10T03:20:22.482271Z",
     "start_time": "2020-09-10T03:20:19.995656Z"
    }
   },
   "outputs": [],
   "source": [
    "series = {\n",
    " 'TOTAL': '\\hspace{2mm}Personal income',\n",
    " 'LABOR': '\\hspace{-1mm}\\cbox{green!75!black} Labor',\n",
    " 'A034RC': '\\hspace{4mm} Wages and salaries',\n",
    " 'A038RC': '\\hspace{4mm} Supplements',\n",
    " 'CAPITAL': '\\hspace{-1mm}\\cbox{orange!40!yellow}Capital',\n",
    " 'A041RC': \"\\hspace{4mm} Proprietors' income\",\n",
    " 'A048RC': '\\hspace{4mm} Rental income',\n",
    " 'A064RC': '\\hspace{4mm} Personal interest income',\n",
    " 'B703RC': '\\hspace{4mm} Personal dividend income',\n",
    " 'TRANSFER': '\\hspace{-1mm}\\cbox{blue!80!white}Welfare',\n",
    " 'W823RC': '\\hspace{4mm} Social security',\n",
    " 'W824RC': '\\hspace{4mm} Medicare',\n",
    " 'W729RC': '\\hspace{4mm} Medicaid',\n",
    " 'W825RC': '\\hspace{4mm} Unemployment insurance',\n",
    " 'W826RC': \"\\hspace{4mm} Veterans' benefits\",\n",
    " 'W827RC': '\\hspace{4mm} Other',\n",
    " 'A061RC': '\\hspace{4mm} Less welfare contributions'}\n",
    "\n",
    "# Components of request\n",
    "base = f'https://apps.bea.gov/api/data/?&UserID={bea_key}'\n",
    "dset = '&method=GetData&datasetname=NIPA'\n",
    "tbl = 'T20600' \n",
    "freq = '&Frequency=M'\n",
    "yr = ','.join(map(str, range(1988, 2021)))\n",
    "fmt = '&ResultFormat=json'\n",
    "url = f'{base}{dset}&TableName={tbl}{freq}&Year={yr}{fmt}'\n",
    "\n",
    "# Request data\n",
    "r = requests.get(url).json()['BEAAPI']['Results']\n",
    "\n",
    "df = pd.DataFrame(r['Data'])\n",
    "df['Date'] = pd.to_datetime(df['TimePeriod'], format='%YM%m')\n",
    "\n",
    "df = (df.set_index(['Date', 'SeriesCode'])['DataValue'].str.replace(',', '')\n",
    "        .astype(float).unstack()\n",
    "        .assign(CAPITAL = lambda x: x['A041RC'] + x['A048RC'] + x['W210RC'],\n",
    "                TRANSFER = lambda x: x['A577RC'] - x['A061RC'],\n",
    "                A061RC = lambda x: - x['A061RC'])\n",
    "        .rename({'A065RC': 'TOTAL', 'A033RC': 'LABOR'}, axis=1))\n",
    "\n",
    "df.to_csv(data_dir / 'pi_raw.csv', index_label='date')"
   ]
  },
  {
   "cell_type": "code",
   "execution_count": 7,
   "metadata": {
    "ExecuteTime": {
     "end_time": "2020-09-10T03:20:23.060998Z",
     "start_time": "2020-09-10T03:20:22.483378Z"
    }
   },
   "outputs": [
    {
     "name": "stdout",
     "output_type": "stream",
     "text": [
      "In July 2020, annualized personal income is \\$60,699 per capita. Labor income totals \\$34,159 per person; capital and proprietor income is \\$15,970 per person; and welfare or transfer income is \\$10,569 per person. \n"
     ]
    }
   ],
   "source": [
    "df = pd.read_csv(data_dir / 'pi_raw.csv').set_index('date')\n",
    "\n",
    "pce = fred_df('PCEPI', start='1988')['VALUE']\n",
    "pce = (pce.iloc[-1] / pce)\n",
    "\n",
    "pop = df['B230RC']\n",
    "\n",
    "data = (df.div(pop, axis=0).multiply(pce, axis=0))\n",
    "\n",
    "(data.loc['1989':,['LABOR', 'CAPITAL', 'TRANSFER']]\n",
    "     .to_csv(data_dir / 'pi_levels.csv', index_label='date'))\n",
    "\n",
    "tbl = ((data[series.keys()].rename(series, axis=1)\n",
    "            .iloc[[-1, -2, -3, -4, -13, -37]].T * 1000)\n",
    "            .applymap('{:,.0f}'.format))\n",
    "\n",
    "tbl.columns = [dtxt(c)['mon6'] for c in tbl.columns]\n",
    "tbl.index.name = ''\n",
    "\n",
    "tbl.to_csv(data_dir / 'pi_levels.tex', sep='&', line_terminator='\\\\\\ ', quotechar=' ')\n",
    "\n",
    "ld = data.index[-1]\n",
    "ltdate = dtxt(data.index[-1])['mon1']\n",
    "totval = data.loc[ld, 'TOTAL'] * 1000\n",
    "labval = data.loc[ld, 'LABOR'] * 1000\n",
    "capval = data.loc[ld, 'CAPITAL'] * 1000\n",
    "welval = data.loc[ld, 'TRANSFER'] * 1000\n",
    "\n",
    "text = (f'In {ltdate}, annualized personal income is '+\n",
    "        f'\\${totval:,.0f} per capita. Labor income totals \\${labval:,.0f} '+\n",
    "        f'per person; capital and proprietor income is \\${capval:,.0f} '+\n",
    "        f'per person; and welfare or transfer income is \\${welval:,.0f} '+\n",
    "        'per person. ')\n",
    "\n",
    "write_txt(text_dir / 'pi_levels_basic.txt', text)\n",
    "write_txt(text_dir / 'pi_date.txt', ltdate)\n",
    "print(text)"
   ]
  },
  {
   "cell_type": "code",
   "execution_count": null,
   "metadata": {},
   "outputs": [],
   "source": []
  }
 ],
 "metadata": {
  "kernelspec": {
   "display_name": "Python 3",
   "language": "python",
   "name": "python3"
  },
  "language_info": {
   "codemirror_mode": {
    "name": "ipython",
    "version": 3
   },
   "file_extension": ".py",
   "mimetype": "text/x-python",
   "name": "python",
   "nbconvert_exporter": "python",
   "pygments_lexer": "ipython3",
   "version": "3.8.5"
  }
 },
 "nbformat": 4,
 "nbformat_minor": 4
}
