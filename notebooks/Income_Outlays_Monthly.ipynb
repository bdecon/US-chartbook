{
 "cells": [
  {
   "cell_type": "markdown",
   "metadata": {},
   "source": [
    "### Income and Outlays Monthly Data"
   ]
  },
  {
   "cell_type": "code",
   "execution_count": 1,
   "metadata": {
    "ExecuteTime": {
     "end_time": "2023-12-22T13:50:20.940058Z",
     "start_time": "2023-12-22T13:50:19.551743Z"
    }
   },
   "outputs": [],
   "source": [
    "%config Completer.use_jedi = False\n",
    "import sys\n",
    "import json\n",
    "sys.path.append('../src')\n",
    "\n",
    "import uschartbook.config\n",
    "\n",
    "from uschartbook.config import *\n",
    "from uschartbook.utils import *"
   ]
  },
  {
   "cell_type": "markdown",
   "metadata": {},
   "source": [
    "### Download NIPA tables"
   ]
  },
  {
   "cell_type": "code",
   "execution_count": 2,
   "metadata": {
    "ExecuteTime": {
     "end_time": "2023-12-22T13:50:26.748101Z",
     "start_time": "2023-12-22T13:50:20.941607Z"
    }
   },
   "outputs": [],
   "source": [
    "# Request data from BEA API\n",
    "for tbl in ['20600', '20806', '20804']:\n",
    "    r = bea_api_nipa([f'T{tbl}'], bea_key, freq='M')\n",
    "    s = nipa_series_codes(json.loads(r[0][2])['BEAAPI']['Results'])\n",
    "    data = json.loads(r[0][2])['BEAAPI']['Results']\n",
    "    date = lambda x: pd.to_datetime(x.TimePeriod.str.replace('M', '-') + '-01')\n",
    "    df = pd.DataFrame({c: (pd.DataFrame(data['Data']).assign(date = date)\n",
    "                             .query('SeriesCode == @c')\n",
    "                             .set_index('date')['DataValue'].sort_index())\n",
    "                       for c in s.keys()}).replace(',','', regex=True).astype(float)\n",
    "    df.to_csv(data_dir / f'nipa{tbl}.csv', index_label='date')"
   ]
  },
  {
   "cell_type": "code",
   "execution_count": null,
   "metadata": {},
   "outputs": [],
   "source": []
  },
  {
   "cell_type": "code",
   "execution_count": null,
   "metadata": {},
   "outputs": [],
   "source": []
  },
  {
   "cell_type": "markdown",
   "metadata": {},
   "source": [
    "### Income measures per capita"
   ]
  },
  {
   "cell_type": "code",
   "execution_count": 3,
   "metadata": {
    "ExecuteTime": {
     "end_time": "2023-12-22T13:50:26.822768Z",
     "start_time": "2023-12-22T13:50:26.749250Z"
    }
   },
   "outputs": [],
   "source": [
    "s = ['A261RC', 'A262RC']\n",
    "df = nipa_df(retrieve_table('T11000')['Data'], s).sort_index()\n",
    "df['NDI'] = (df['A261RC'] - df['A262RC'])\n",
    "\n",
    "# deflator\n",
    "pce = pd.read_csv(data_dir / 'nipa20804.csv', \n",
    "                 index_col='date', parse_dates=True)['DPCERG']\n",
    "pce = (pce.iloc[-1] / pce)\n",
    "pceq = pce.resample('QS').mean()\n",
    "\n",
    "# DPI and PI, monthly, and population\n",
    "cols = ['A067RC', 'A065RC', 'B230RC']\n",
    "dfm = (pd.read_csv(data_dir/'nipa20600.csv', index_col='date', \n",
    "                  parse_dates=True)[cols])\n",
    "pop = dfm['B230RC']\n",
    "popq = dfm['B230RC'].resample('QS').mean()\n",
    "\n",
    "# Per capita real monthly\n",
    "d = {'A065RC': 'PI', 'A067RC': 'DPI'}\n",
    "pcm = (dfm[d.keys()].divide(pop, axis=0).multiply(pce, axis=0)\n",
    "       .rename(d, axis=1)).rolling(3).mean()\n",
    "\n",
    "#pcm.to_csv(data_dir / 'pc_inc_mon.csv', index_label='date')\n",
    "# Per capita real quarterly\n",
    "pcq = ((df['NDI'] / popq) * pceq).dropna()\n",
    "pcq.name = 'NDI'\n",
    "pcq.index = pcq.index + pd.DateOffset(days=45)\n",
    "#pcq.to_csv(data_dir / 'pc_inc_qtr.csv', index_label='date')"
   ]
  },
  {
   "cell_type": "code",
   "execution_count": 4,
   "metadata": {
    "ExecuteTime": {
     "end_time": "2023-12-22T13:50:26.827200Z",
     "start_time": "2023-12-22T13:50:26.824859Z"
    }
   },
   "outputs": [],
   "source": [
    "#pcm.plot()"
   ]
  },
  {
   "cell_type": "code",
   "execution_count": null,
   "metadata": {},
   "outputs": [],
   "source": []
  },
  {
   "cell_type": "code",
   "execution_count": null,
   "metadata": {},
   "outputs": [],
   "source": []
  },
  {
   "cell_type": "markdown",
   "metadata": {},
   "source": [
    "### After-tax income growth"
   ]
  },
  {
   "cell_type": "code",
   "execution_count": 5,
   "metadata": {
    "ExecuteTime": {
     "end_time": "2023-12-22T13:50:26.844385Z",
     "start_time": "2023-12-22T13:50:26.828357Z"
    }
   },
   "outputs": [
    {
     "name": "stdout",
     "output_type": "stream",
     "text": [
      "The Bureau of Economic Analysis \\href{https://www.bea.gov/data/income-saving/personal-income}{report} an inflation-adjusted one-year change in after-tax income per person of 3.7 percent in November 2023, 3.3 percent in October 2023, and -2.1 percent in November 2022 (see {\\color{blue!80!cyan}\\textbf{---}}). Over the past year, the measure has averaged 2.8 percent. During the three years before the COVID-19 pandemic, per capita after-tax income grew at an average annual rate of 2.7 percent.\n"
     ]
    }
   ],
   "source": [
    "df = pd.read_csv(data_dir/'nipa20600.csv', index_col='date', \n",
    "                 parse_dates=True)\n",
    "data = (df['A229RX'].pct_change(12) * 100).dropna()\n",
    "data.to_csv(data_dir / 'rdpigrowth.csv', header=['rdpi'], \n",
    "            index_label='date')\n",
    "color = 'blue!80!cyan'\n",
    "node = end_node(data, color, date='m')\n",
    "write_txt(text_dir / 'rdpi_node.txt', node)\n",
    "\n",
    "ltdate = dtxt(data.index[-1])['mon1']\n",
    "ltval = data.iloc[-1]\n",
    "prdate = dtxt(data.index[-2])['mon1']\n",
    "prval = data.iloc[-2]\n",
    "prdate2 = dtxt(data.index[-13])['mon1']\n",
    "prval2 = data.iloc[-13]\n",
    "ltavg = data.iloc[-13:].mean()\n",
    "ltavg2 = data.loc['2017-03-01': '2020-02-01'].mean()\n",
    "url = 'https://www.bea.gov/data/income-saving/personal-income'\n",
    "text = (f'The Bureau of Economic Analysis \\href{{{url}}}{{report}} '+\n",
    "        'an inflation-adjusted one-year change in after-tax income '+\n",
    "        f'per person of {ltval:.1f} percent in {ltdate}, {prval:.1f} '+\n",
    "        f'percent in {prdate}, and {prval2:.1f} percent in '+\n",
    "        f'{prdate2} {c_line(color)}. Over the past year, the measure '+\n",
    "        f'has averaged {ltavg:.1f} percent. During the three years '+\n",
    "        'before the COVID-19 pandemic, per capita after-tax income '+\n",
    "        f'grew at an average annual rate of {ltavg2:.1f} percent.')\n",
    "write_txt(text_dir / 'rdpigrowth.txt', text)\n",
    "print(text)"
   ]
  },
  {
   "cell_type": "code",
   "execution_count": null,
   "metadata": {},
   "outputs": [],
   "source": []
  },
  {
   "cell_type": "code",
   "execution_count": null,
   "metadata": {},
   "outputs": [],
   "source": []
  },
  {
   "cell_type": "markdown",
   "metadata": {},
   "source": [
    "### Monthly consumer spending growth"
   ]
  },
  {
   "cell_type": "code",
   "execution_count": 6,
   "metadata": {
    "ExecuteTime": {
     "end_time": "2023-12-22T13:50:26.865913Z",
     "start_time": "2023-12-22T13:50:26.845679Z"
    }
   },
   "outputs": [
    {
     "name": "stdout",
     "output_type": "stream",
     "text": [
      "Consumer spending is also \\href{https://www.bea.gov/data/consumer-spending/main}{reported} on a monthly basis. In November 2023, consumer spending totals \\$56,131 per capita, on an annualized basis. Inflation- and population-adjusted consumer spending increased 2.2 percent over the year ending November 2023 (see {\\color{green!70!olive!60!black}\\textbf{---}}), substantially above the previous year rate (an increase of 0.4 percent over the year ending November 2022). \n"
     ]
    }
   ],
   "source": [
    "pop = (pd.read_csv(data_dir/'nipa20600.csv', index_col='date', \n",
    "                  parse_dates=True)['B230RC'])\n",
    "pr = pd.read_csv(data_dir / 'nipa20804.csv', \n",
    "                 index_col='date', parse_dates=True)['DPCERG']\n",
    "npce = (pd.read_csv(data_dir/'nipa20600.csv', index_col='date', \n",
    "                  parse_dates=True)['DPCERC'])\n",
    "df = ((npce / pr / pop).pct_change(12) * 100).dropna().rename('rpcepop')\n",
    "df.to_csv(data_dir / 'pcegrowth.csv', index_label='date')\n",
    "color = 'green!70!olive!60!black'\n",
    "node = end_node(df, color, date='m')\n",
    "write_txt(text_dir / 'pcegrowth_node.txt', node)\n",
    "\n",
    "ltdt = dtxt(df.index[-1])['mon1']\n",
    "ltpc = f'\\${(npce / pop).iloc[-1] * 1000:,.0f} per capita'\n",
    "ltval  = df.iloc[-1]\n",
    "pydate = dtxt(df.index[-13])['mon1']\n",
    "pyval = df.iloc[-13]\n",
    "compare = compare_text(ltval, pyval, [0.1, 0.5, 2.0])\n",
    "url = 'https://www.bea.gov/data/consumer-spending/main'\n",
    "pyrt = value_text(pyval, 'increase_of', threshold=0.1)\n",
    "ltrt = value_text(ltval, threshold=0.1)\n",
    "\n",
    "text = (f'Consumer spending is also \\href{{{url}}}{{reported}}'+\n",
    "        f' on a monthly basis. In {ltdt}, consumer spending totals '+\n",
    "        f'{ltpc}, on an annualized basis. Inflation- and population-'+\n",
    "        f'adjusted consumer spending {ltrt} over the year ending {ltdt} '+\n",
    "        f'{c_line(color)}, {compare} the previous year rate ({pyrt} '+\n",
    "        f'over the year ending {pydate}). ')\n",
    "write_txt(text_dir / 'pcegrowth.txt', text)\n",
    "print(text)"
   ]
  },
  {
   "cell_type": "code",
   "execution_count": null,
   "metadata": {},
   "outputs": [],
   "source": []
  },
  {
   "cell_type": "code",
   "execution_count": null,
   "metadata": {},
   "outputs": [],
   "source": []
  },
  {
   "cell_type": "markdown",
   "metadata": {},
   "source": [
    "### Personal saving rate"
   ]
  },
  {
   "cell_type": "code",
   "execution_count": 7,
   "metadata": {
    "ExecuteTime": {
     "end_time": "2023-12-22T13:50:26.877766Z",
     "start_time": "2023-12-22T13:50:26.867184Z"
    }
   },
   "outputs": [
    {
     "name": "stdout",
     "output_type": "stream",
     "text": [
      "In November 2023, the Bureau of Economic Analysis \\href{https://www.bea.gov/data/income-saving/personal-saving-rate}{report} a personal saving rate of 4.1 percent (see {\\color{red}\\textbf{---}}). The personal saving rate decreased by a total of 3.6 percentage points since February 2020.\n"
     ]
    }
   ],
   "source": [
    "df = pd.read_csv(data_dir/'nipa20600.csv', index_col='date', \n",
    "                 parse_dates=True)\n",
    "data = df.loc['1989':, 'A072RC']\n",
    "data.to_csv(data_dir / 'psavert.csv', index_label='date')\n",
    "datelt = dtxt(data.index[-1])['mon1']\n",
    "latest = data.iloc[-1]\n",
    "ch_covid = latest - data.loc['2020-02-01']\n",
    "color = 'red'\n",
    "node = end_node(data, color, date='m', \n",
    "                offset=0.35)\n",
    "write_txt(text_dir / 'psavert_node.txt', node)\n",
    "\n",
    "txt = value_text(ch_covid, ptype='pp', adj='total')\n",
    "url = 'https://www.bea.gov/data/income-saving/personal-saving-rate'\n",
    "text = (f'In {datelt}, the Bureau of Economic Analysis '+\n",
    "        f'\\href{{{url}}}{{report}} a personal saving rate of '+\n",
    "        f'{latest:.1f} percent {c_line(color)}. '+\n",
    "        f'The personal saving rate {txt} since February 2020.')\n",
    "write_txt(text_dir / 'psavert.txt', text)\n",
    "print(text)"
   ]
  },
  {
   "cell_type": "code",
   "execution_count": null,
   "metadata": {},
   "outputs": [],
   "source": []
  },
  {
   "cell_type": "code",
   "execution_count": null,
   "metadata": {},
   "outputs": [],
   "source": []
  },
  {
   "cell_type": "markdown",
   "metadata": {},
   "source": [
    "### Personal Income"
   ]
  },
  {
   "cell_type": "code",
   "execution_count": 8,
   "metadata": {
    "ExecuteTime": {
     "end_time": "2023-12-22T13:50:26.882179Z",
     "start_time": "2023-12-22T13:50:26.879090Z"
    }
   },
   "outputs": [],
   "source": [
    "series = {\n",
    " 'TOTAL': '\\hspace{0.5mm}Personal Income (Pre-Tax Income)',\n",
    " 'LABOR': '\\hspace{-2mm}\\cbox{green!55!blue!72!black}Labor',\n",
    " 'A034RC': '\\hspace{3mm} Wages \\& Salaries',\n",
    " 'A038RC': '\\hspace{3mm} Supplements to Wages \\& Salaries',\n",
    " 'CAPITAL': '\\hspace{-2mm}\\cbox{yellow!85!orange!88!white}Capital',\n",
    " 'A041RC': \"\\hspace{3mm} Proprietors' Income\",\n",
    " 'A048RC': '\\hspace{3mm} Rental Income',\n",
    " 'A064RC': '\\hspace{3mm} Personal Interest Income',\n",
    " 'B703RC': '\\hspace{3mm} Personal Dividend Income',\n",
    " 'TRANSFER': '\\hspace{-2mm}\\cbox{cyan!90!blue!90!white}Net Government Benefits',\n",
    " 'A063RC': '\\hspace{2mm} Government Social Benefits',\n",
    " 'W823RC': '\\hspace{3mm} Social Security',\n",
    " 'W824RC': '\\hspace{3mm} Medicare',\n",
    " 'W729RC': '\\hspace{3mm} Medicaid',\n",
    " 'W825RC': '\\hspace{3mm} Unemployment Insurance',\n",
    " 'W826RC': \"\\hspace{3mm} Veterans' Benefits\",\n",
    " 'W827RC': '\\hspace{3mm} Other',\n",
    " 'A061RC': '\\hspace{2mm} Less: Social Insurance Contributions'}"
   ]
  },
  {
   "cell_type": "code",
   "execution_count": 9,
   "metadata": {
    "ExecuteTime": {
     "end_time": "2023-12-22T13:50:26.905353Z",
     "start_time": "2023-12-22T13:50:26.883358Z"
    }
   },
   "outputs": [],
   "source": [
    "df = (pd.read_csv(data_dir/'nipa20600.csv', index_col='date', \n",
    "                 parse_dates=True)        \n",
    "        .assign(CAPITAL = lambda x: x['A041RC'] + x['A048RC'] + x['W210RC'],\n",
    "                TRANSFER = lambda x: x['A577RC'] - x['A061RC'],\n",
    "                A061RC = lambda x: - x['A061RC'])\n",
    "        .rename({'A065RC': 'TOTAL', 'A033RC': 'LABOR'}, axis=1))\n",
    "df.to_csv(data_dir / 'pi_raw.csv', index_label='date')"
   ]
  },
  {
   "cell_type": "code",
   "execution_count": 10,
   "metadata": {
    "ExecuteTime": {
     "end_time": "2023-12-22T13:50:26.931112Z",
     "start_time": "2023-12-22T13:50:26.907705Z"
    }
   },
   "outputs": [
    {
     "name": "stdout",
     "output_type": "stream",
     "text": [
      "In November 2023, annualized personal income is \\$69,318 per capita  (see \\tikz \\draw[black, fill=black!20!white] (2.5pt,4pt) circle (2pt);). Labor income totals \\$43,225 per person, capital and proprietor income is \\$19,453 per person, and net government benefits total \\$6,640 per person. \n"
     ]
    }
   ],
   "source": [
    "df = pd.read_csv(data_dir / 'pi_raw.csv', index_col='date', \n",
    "                 parse_dates=True)\n",
    "\n",
    "pce = pd.read_csv(data_dir / 'nipa20804.csv', \n",
    "                 index_col='date', parse_dates=True)['DPCERG']\n",
    "pce = (pce.iloc[-1] / pce)\n",
    "\n",
    "pop = df['B230RC']\n",
    "\n",
    "data = (df.div(pop, axis=0).multiply(pce, axis=0))\n",
    "cols = ['LABOR', 'CAPITAL', 'TRANSFER']\n",
    "(data.loc['1989-01-01':,cols]\n",
    "     .to_csv(data_dir / 'pi_levels.csv', index_label='date'))\n",
    "\n",
    "tbl = ((data[series.keys()].rename(series, axis=1)\n",
    "            .iloc[[-1, -2, -3, -13, -49]].T * 1000)\n",
    "            .applymap('{:,.0f}'.format))\n",
    "\n",
    "tbl.columns = [dtxt(c)['mon6'] for c in tbl.columns]\n",
    "tbl.index.name = ''\n",
    "tbl.iloc[0, 0] = f'\\${tbl.iloc[0, 0]}'\n",
    "tbl.to_csv(data_dir / 'pi_levels.tex', sep='&', \n",
    "           lineterminator='\\\\\\ ', quotechar=' ')\n",
    "\n",
    "ld = data.index[-1]\n",
    "ltdate = dtxt(data.index[-1])['mon1']\n",
    "totval = data.loc[ld, 'TOTAL'] * 1000\n",
    "labval = data.loc[ld, 'LABOR'] * 1000\n",
    "capval = data.loc[ld, 'CAPITAL'] * 1000\n",
    "welval = data.loc[ld, 'TRANSFER'] * 1000\n",
    "mark = ' (see \\\\tikz \\draw[black, fill=black!20!white] (2.5pt,4pt) circle (2pt);)'\n",
    "text = (f'In {ltdate}, annualized personal income is '+\n",
    "        f'\\${totval:,.0f} per capita {mark}. Labor income totals \\${labval:,.0f} '+\n",
    "        f'per person, capital and proprietor income is \\${capval:,.0f} '+\n",
    "        f'per person, and net government benefits total \\${welval:,.0f} '+\n",
    "        'per person. ')\n",
    "write_txt(text_dir / 'pi_levels_basic.txt', text)\n",
    "write_txt(text_dir / 'pi_date.txt', ltdate)\n",
    "print(text)"
   ]
  },
  {
   "cell_type": "code",
   "execution_count": 11,
   "metadata": {
    "ExecuteTime": {
     "end_time": "2023-12-22T13:50:26.938024Z",
     "start_time": "2023-12-22T13:50:26.932344Z"
    }
   },
   "outputs": [],
   "source": [
    "# End Nodes\n",
    "sdf = data[cols].iloc[-1]\n",
    "height = ((sdf.cumsum() - (sdf / 2) + 4)).to_dict()\n",
    "val = sdf.to_dict()\n",
    "dtp = dtxt(data.index[-1] + pd.DateOffset(months=2))['datetime2']\n",
    "nodes = [f'\\\\absnode{{{{{dtp}}}}}{{{height[i]}}}{{\\scriptsize {val[i]:.1f}}}' \n",
    "         for i in cols]\n",
    "\n",
    "dt = dtxt(data.index[-1])['mon6'].replace(' ', ' \\\\\\\\ ')\n",
    "ldt = dtxt(data.index[-1])['datetime2']\n",
    "lvt = sdf.sum()\n",
    "node = (f'\\\\node[label={{[align=left]90:{{\\scriptsize {dt}: '+\n",
    "        f'\\\\\\\\ \\scriptsize \\ {lvt:.1f}}}}}, '+\n",
    "        'circle, draw=black, fill=black!20!white, inner sep=1.4pt] at '+\n",
    "        f'(axis cs:{ldt}, {lvt}) {{}};')\n",
    "nodetext = '\\n'.join(nodes + [node])\n",
    "write_txt(text_dir / 'pi_level_nodes.txt', nodetext)"
   ]
  },
  {
   "cell_type": "code",
   "execution_count": null,
   "metadata": {},
   "outputs": [],
   "source": []
  },
  {
   "cell_type": "code",
   "execution_count": 12,
   "metadata": {
    "ExecuteTime": {
     "end_time": "2023-12-22T13:50:26.966140Z",
     "start_time": "2023-12-22T13:50:26.939179Z"
    }
   },
   "outputs": [],
   "source": [
    "# Recent data for wage summary chart\n",
    "df = pd.read_csv(data_dir / 'pi_raw.csv', index_col='date', \n",
    "                 parse_dates=True)\n",
    "\n",
    "# Nonfarm payrolls\n",
    "nfp = pd.read_csv(data_dir / 'ces_raw.csv', index_col='date', \n",
    "                 parse_dates=True)['CES0000000001']\n",
    "\n",
    "res = (df['A034RC'] / nfp).dropna().pct_change(12) * 100\n",
    "\n",
    "cpi = pd.read_csv(data_dir / 'cpi.csv', \n",
    "                 index_col='date', parse_dates=True)['ALL_S']\n",
    "cpidt = cpi.index[-73]\n",
    "data = res.rolling(3).mean().loc[cpidt:].to_frame().rename({0: 'COE'}, axis=1)\n",
    "data.to_csv(data_dir / 'coe_growth_recent.csv', \n",
    "                        index_label='date')"
   ]
  },
  {
   "cell_type": "code",
   "execution_count": null,
   "metadata": {},
   "outputs": [],
   "source": []
  },
  {
   "cell_type": "code",
   "execution_count": null,
   "metadata": {},
   "outputs": [],
   "source": []
  },
  {
   "cell_type": "markdown",
   "metadata": {},
   "source": [
    "### Income, Outlays, Savings overview"
   ]
  },
  {
   "cell_type": "code",
   "execution_count": 13,
   "metadata": {
    "ExecuteTime": {
     "end_time": "2023-12-22T13:50:26.989996Z",
     "start_time": "2023-12-22T13:50:26.967497Z"
    },
    "code_folding": []
   },
   "outputs": [
    {
     "name": "stdout",
     "output_type": "stream",
     "text": [
      "In the national accounts, disposable personal income, or \\textbf{after-tax income}, totals \\$20.5 trillion, on an annualized basis, in November 2023, equivalent to \\$61,047 per person (see {\\color{blue!75!black}\\textbf{---}}). Personal consumption expenditures, or \\textbf{consumer spending}, totals \\$18.9 trillion in November 2023, or \\$56,131 per person (see {\\color{orange}\\textbf{---}}). \\textbf{Personal saving}, calculated as after-tax income minus consumer spending and other outlays such as interest payments, totals \\$0.84 trillion, or \\$2,500 per person (see {\\color{green!80!blue}\\textbf{---}}). \n"
     ]
    }
   ],
   "source": [
    "# Income outlays and savings, overview\n",
    "df = pd.read_csv(data_dir / 'pi_raw.csv', index_col='date', \n",
    "                 parse_dates=True)\n",
    "\n",
    "pce = pd.read_csv(data_dir / 'nipa20804.csv', \n",
    "                 index_col='date', parse_dates=True)['DPCERG']\n",
    "pce = (pce.iloc[-1] / pce)\n",
    "\n",
    "pop = df['B230RC']\n",
    "\n",
    "data = (df.div(pop, axis=0).multiply(pce, axis=0))\n",
    "\n",
    "series2 = {'A067RC': 'DPI',\n",
    "           'DPCERC': 'PCE',\n",
    "           'A071RC': 'PSAVE'}\n",
    "df2 = data.loc['1989':].rename(series2, axis=1)[series2.values()]\n",
    "df2.to_csv(data_dir / 'inc_out_save.csv', index_label='date')\n",
    "\n",
    "ltdate = dtxt(df2.index[-1])['mon1']\n",
    "value = df['A067RC'].iloc[-1] / 1_000_000\n",
    "value = f'\\${value:.1f} trillion'\n",
    "valuepc = df2['DPI'].iloc[-1] * 1000\n",
    "valuepc = f'\\${valuepc:,.0f}'\n",
    "pcevalue = df['DPCERC'].iloc[-1] / 1_000_000\n",
    "pcevalue = f'\\${pcevalue:.1f} trillion'\n",
    "pcevaluepc = df2['PCE'].iloc[-1] * 1000\n",
    "pcevaluepc = f'\\${pcevaluepc:,.0f}'\n",
    "savevalue = df['A071RC'].iloc[-1] / 1_000_000\n",
    "savevalue = f'\\${savevalue:.2f} trillion'\n",
    "savevaluepc = df2['PSAVE'].iloc[-1] * 1000\n",
    "savevaluepc = f'\\${savevaluepc:,.0f}'\n",
    "\n",
    "text = ('In the national accounts, disposable personal income, '+\n",
    "        'or \\\\textbf{after-tax income}, totals '+\n",
    "        f'{value}, on an annualized basis, in {ltdate}, '+\n",
    "        f'equivalent to {valuepc} per person '+\n",
    "        '(see {\\color{blue!75!black}\\\\textbf{---}}). Personal '+\n",
    "        f'consumption expenditures, or \\\\textbf{{consumer spending}}, totals '+\n",
    "        f'{pcevalue} in {ltdate}, or {pcevaluepc} per person '+\n",
    "        '(see {\\color{orange}\\\\textbf{---}}). \\\\textbf{Personal saving}, '+\n",
    "        'calculated as after-tax income minus consumer spending '+\n",
    "        'and other outlays such as interest payments, '+\n",
    "        f'totals {savevalue}, or {savevaluepc} per person '+\n",
    "        '(see {\\color{green!80!blue}\\\\textbf{---}}). ')\n",
    "write_txt(text_dir / 'inc_out_save.txt', text)\n",
    "print(text)\n",
    "\n",
    "series3 = {\n",
    " 'TOTAL': '\\hspace{1mm}Personal Income',\n",
    " 'W055RC': '\\hspace{2mm}Personal Current Taxes',\n",
    " 'A067RC': '\\hspace{-1mm} {\\color{blue!75!black}\\\\textbf{---}} \\ After-Tax Income',\n",
    " 'A068RC': '\\hspace{3mm} {\\ Personal Outlays}',\n",
    " 'DPCERC': '\\hspace{3mm} {\\color{orange}\\\\textbf{---}} \\ Consumer Spending', \n",
    " 'B069RC': '\\hspace{6mm} {\\ Interest Payments}',\n",
    " 'A071RC': '\\hspace{0.5mm} {\\color{green!80!blue}\\\\textbf{---}} \\ Personal Saving'}\n",
    "\n",
    "tbl = ((data[series3.keys()].rename(series3, axis=1)\n",
    "            .iloc[[-1, -2, -3, -4, -13, -37]].T * 1000)\n",
    "            .applymap('{:,.0f}'.format))\n",
    "\n",
    "tbl.columns = [dtxt(c)['mon6'] for c in tbl.columns]\n",
    "tbl.index.name = ''\n",
    "tbl.iloc[0, 0] = f'\\${tbl.iloc[0, 0]}'\n",
    "tbl.to_csv(data_dir / 'inc_out_save_levels.tex', sep='&', \n",
    "           lineterminator='\\\\\\ ', quotechar=' ')"
   ]
  },
  {
   "cell_type": "code",
   "execution_count": null,
   "metadata": {},
   "outputs": [],
   "source": []
  },
  {
   "cell_type": "code",
   "execution_count": null,
   "metadata": {},
   "outputs": [],
   "source": []
  },
  {
   "cell_type": "markdown",
   "metadata": {
    "ExecuteTime": {
     "end_time": "2022-11-09T20:06:15.087248Z",
     "start_time": "2022-11-09T20:06:15.084250Z"
    }
   },
   "source": [
    "### Detailed information on spending by type"
   ]
  },
  {
   "cell_type": "code",
   "execution_count": 14,
   "metadata": {
    "ExecuteTime": {
     "end_time": "2023-12-22T13:50:41.387270Z",
     "start_time": "2023-12-22T13:50:26.991142Z"
    }
   },
   "outputs": [],
   "source": [
    "years = ','.join(map(str, range(1988, 2024)))\n",
    "url = (f'https://apps.bea.gov/api/data/?&UserID={bea_key}'+\n",
    "        '&method=GetData&datasetname=NIUnderlyingDetail&'+\n",
    "        'TableName=U20405&Frequency=M&'+\n",
    "       f'Year={years}&ResultFormat=json')\n",
    "r = requests.get(url).json()\n",
    "data = pd.DataFrame(r['BEAAPI']['Results']['Data'])\n",
    "data['DataValue'] = data['DataValue'].str.replace(',', '').astype('int')\n",
    "df = data.groupby(['TimePeriod', 'SeriesCode'])['DataValue'].mean().unstack()\n",
    "df.columns.name = ''\n",
    "df.index = (df.reset_index().TimePeriod\n",
    "            .apply(lambda x: pd.to_datetime(x, format='%YM%m')).rename('date'))\n",
    "df.to_csv(data_dir / 'nipaU20405.csv')"
   ]
  },
  {
   "cell_type": "code",
   "execution_count": null,
   "metadata": {},
   "outputs": [],
   "source": []
  },
  {
   "cell_type": "code",
   "execution_count": null,
   "metadata": {},
   "outputs": [],
   "source": []
  },
  {
   "cell_type": "markdown",
   "metadata": {},
   "source": [
    "### Gross Labor Income"
   ]
  },
  {
   "cell_type": "code",
   "execution_count": 15,
   "metadata": {
    "ExecuteTime": {
     "end_time": "2023-12-22T13:50:41.398825Z",
     "start_time": "2023-12-22T13:50:41.388824Z"
    }
   },
   "outputs": [
    {
     "name": "stdout",
     "output_type": "stream",
     "text": [
      "The monthly data on compensation of employees from BEA (see {\\color{orange!80!yellow}\\textbf{---}}) shows one-year gross labor income growth of 6.3 percent in November 2023, and 4.9 percent in November 2022, one-year prior. \n"
     ]
    }
   ],
   "source": [
    "# Calculate Gross Labor Income\n",
    "start = '2017-01-01'\n",
    "coe = (pd.read_csv(data_dir/'nipa20600.csv', index_col='date', \n",
    "                   parse_dates=True)['A033RC']\n",
    "       .pct_change(12) * 100).rename('BEA')\n",
    "coe.loc[start:].to_csv(data_dir / 'gli_coe.csv', index_label='date')\n",
    "\n",
    "# Text\n",
    "cline = c_line('orange!80!yellow')\n",
    "ltdt = dtxt(coe.index[-1])['mon1']\n",
    "prdt = dtxt(coe.index[-13])['mon1']\n",
    "text = (f'The monthly data on compensation of employees from BEA {cline} '+\n",
    "        f'shows one-year gross labor income growth of {coe.iloc[-1]:.1f} '+\n",
    "        f'percent in {ltdt}, and {coe.iloc[-13]:.1f} percent in '+\n",
    "        f'{prdt}, one-year prior. ')\n",
    "write_txt(text_dir / 'gli_coe.txt', text)\n",
    "print(text)"
   ]
  },
  {
   "cell_type": "code",
   "execution_count": null,
   "metadata": {},
   "outputs": [],
   "source": []
  },
  {
   "cell_type": "code",
   "execution_count": null,
   "metadata": {},
   "outputs": [],
   "source": []
  },
  {
   "cell_type": "markdown",
   "metadata": {},
   "source": [
    "### Major Government Programs"
   ]
  },
  {
   "cell_type": "code",
   "execution_count": 16,
   "metadata": {
    "ExecuteTime": {
     "end_time": "2023-12-22T13:50:41.426614Z",
     "start_time": "2023-12-22T13:50:41.400277Z"
    }
   },
   "outputs": [],
   "source": [
    "data = pd.read_csv(data_dir/'nipa20600.csv', index_col='date', \n",
    "                 parse_dates=True)\n",
    "d = {'W823RC': 'SS', 'W824RC': 'Medicare', 'W729RC': 'Medicaid'}\n",
    "df = data[d.keys()].rename(d, axis=1)\n",
    "\n",
    "# GDP monthly estimate\n",
    "gdp = pd.read_csv(data_dir/'gdp_monthly.csv', index_col='date', \n",
    "                  parse_dates=True)\n",
    "res = (df.divide(gdp['A191RC'], axis=0)) * 100\n",
    "res.dropna().loc['1989':].to_csv(data_dir / 'prog_exp.csv', \n",
    "                                 index_label='date')"
   ]
  },
  {
   "cell_type": "code",
   "execution_count": 17,
   "metadata": {
    "ExecuteTime": {
     "end_time": "2023-12-22T13:50:41.435750Z",
     "start_time": "2023-12-22T13:50:41.427885Z"
    }
   },
   "outputs": [
    {
     "name": "stdout",
     "output_type": "stream",
     "text": [
      "Payments to Social Security beneficiaries, combined with government spending on Medicare and Medicaid, comprise 10.7 percent of GDP in 2010. In the latest data, covering November 2023, these programs combined are equivalent to 11.4 percent of GDP. As of July 2023, Social Security benefits are 4.9 percent of GDP, and government spending on Medicare and Medicaid are 3.4 percent and 3.1 percent of GDP, respectively.\n"
     ]
    }
   ],
   "source": [
    "ltdt = dtxt(res.dropna().index[-1])['mon1']\n",
    "csh10 = value_text(res.loc['2010'].sum(axis=1).mean(), 'plain')\n",
    "cshlt = value_text(res.dropna().iloc[-1].sum(), 'plain')\n",
    "sssh = value_text(res.SS.dropna().iloc[-1].sum(), 'plain')\n",
    "aresh = value_text(res.Medicare.dropna().iloc[-1].sum(), 'plain')\n",
    "aidsh = value_text(res.Medicaid.dropna().iloc[-1].sum(), 'plain')\n",
    "text = ('Payments to Social Security beneficiaries, combined with '+\n",
    "        'government spending on Medicare and Medicaid, comprise '+\n",
    "        f'{csh10} of GDP in 2010. In the latest data, covering '+\n",
    "        f'{ltdt}, these programs combined are equivalent to {cshlt} '+\n",
    "        'of GDP. As of July 2023, Social Security benefits are '+\n",
    "        f'{sssh} of GDP, and government spending on Medicare and '+\n",
    "        f'Medicaid are {aresh} and {aidsh} of GDP, respectively.')\n",
    "write_txt(text_dir / 'prog_exp.txt', text)\n",
    "print(text)"
   ]
  },
  {
   "cell_type": "code",
   "execution_count": null,
   "metadata": {},
   "outputs": [],
   "source": []
  },
  {
   "cell_type": "code",
   "execution_count": null,
   "metadata": {},
   "outputs": [],
   "source": []
  },
  {
   "cell_type": "markdown",
   "metadata": {},
   "source": [
    "### Real Per Capita Consumer Spending and Related Contributors"
   ]
  },
  {
   "cell_type": "code",
   "execution_count": 18,
   "metadata": {
    "ExecuteTime": {
     "end_time": "2023-12-22T13:50:41.465375Z",
     "start_time": "2023-12-22T13:50:41.437056Z"
    }
   },
   "outputs": [],
   "source": [
    "df = (pd.read_csv(data_dir / 'nipa20600.csv', \n",
    "                 index_col='date', parse_dates=True)\n",
    "        .assign(OTHER = lambda x: -(x['A068RC'] - x['DPCERC']),\n",
    "                SAVING = lambda x: -x['A071RC'])\n",
    "        .rename({'A067RC': 'INCOME', 'DPCERC': 'SPENDING'}, axis=1))\n",
    "# population\n",
    "pop = df['B230RC']\n",
    "\n",
    "# deflator\n",
    "pce = pd.read_csv(data_dir / 'nipa20804.csv', \n",
    "                 index_col='date', parse_dates=True)['DPCERG']\n",
    "defl = (pce.iloc[-1] / pce)\n",
    "\n",
    "# 3M/3M growth rate\n",
    "df['REAL'] = df['SPENDING'] * defl\n",
    "df['REAL_PC'] = df['REAL'] / pop\n",
    "srs = df[['SPENDING', 'REAL', 'REAL_PC']]\n",
    "res = m3rate(srs)\n",
    "res['INFL_CONTR'] = res['SPENDING'] - res['REAL']\n",
    "res['POP_CONTR'] = res['REAL'] - res['REAL_PC']\n",
    "res['label'] = [dt.strftime('%b\\\\\\%Y') if dt.month == 1 \n",
    "                  else dt.strftime('%b') if dt.month in [7]\n",
    "                  else '' for dt in res.index]\n",
    "keep_col = ['POP_CONTR', 'INFL_CONTR', 'REAL_PC', 'SPENDING', 'label']\n",
    "res[keep_col].iloc[-19:].to_csv(data_dir / 'npcedecomp3m.csv', \n",
    "                                index_label='date')\n",
    "node = end_node(res['SPENDING'], 'black', date='m', offset=0.35, \n",
    "                xoffset=0.05, size=1.4)\n",
    "write_txt(text_dir / 'npce_decomp3m_node.txt', node)\n",
    "\n",
    "# Real per capita\n",
    "s = ['INCOME', 'SPENDING', 'OTHER', 'SAVING']\n",
    "rpc = (df[s].divide(pop, axis=0).multiply(defl, axis=0))\n",
    "ch = growth_contrib_3m3m(rpc, 'SPENDING').dropna().round(2)\n",
    "ch['label'] = [dt.strftime('%b\\\\\\%Y') if dt.month == 1 \n",
    "                  else dt.strftime('%b') if dt.month in [7]\n",
    "                  else '' for dt in ch.index]\n",
    "ch.iloc[-19:].to_csv(data_dir / 'exp_inc_save_mon.csv')\n",
    "node = end_node(ch['SPENDING'], 'black', date='m', offset=0.35, \n",
    "                xoffset=0.05, size=1.4)\n",
    "write_txt(text_dir / 'exp_inc_save_mon_node.txt', node)"
   ]
  },
  {
   "cell_type": "code",
   "execution_count": 19,
   "metadata": {
    "ExecuteTime": {
     "end_time": "2023-12-22T13:50:41.475141Z",
     "start_time": "2023-12-22T13:50:41.466605Z"
    }
   },
   "outputs": [
    {
     "name": "stdout",
     "output_type": "stream",
     "text": [
      "Real per capita consumer spending over the past three months compared with the previous three months shows annualized growth of two percent in November 2023. Higher income contributed 0.6 percentage point, reduced saving contributed 2.5 percentage points, and increases in other outlays subtracted 1.1 percentage points.\n",
      "\n",
      " Higher interest rates, which count as other outlays, can eat into consumer spending. Since the start of 2022, increases in other outlays have reduced consumer spending by 0.8 percentage point per year.\n"
     ]
    }
   ],
   "source": [
    "# Text\n",
    "ltdt = dtxt(ch.index[-1])['mon1']\n",
    "thresh = 0.1\n",
    "expch = value_text(ch.SPENDING.iloc[-1], 'plain')\n",
    "incval = ch.INCOME.iloc[-1]\n",
    "inc = ('Higher income' if incval > 0.1 \n",
    "       else 'Lower income' if incval < -0.1 \n",
    "       else 'Income')\n",
    "incch = value_text(incval, 'contribution', ptype='pp', threshold=thresh)\n",
    "savval = ch.SAVING.iloc[-1]\n",
    "sav = ('reduced saving' if savval > 0.1 \n",
    "       else 'increased saving' if savval < -0.1 \n",
    "       else 'saving')\n",
    "savch = value_text(savval, 'contribution', ptype='pp', threshold=thresh)\n",
    "othval = ch.OTHER.iloc[-1]\n",
    "oth = ('increases in other outlays' if othval < -0.1 \n",
    "       else 'decreases in other outlays' if othval > 0.1 \n",
    "       else 'other outlays')\n",
    "othch = value_text(othval, 'contribution', ptype='pp', threshold=thresh)\n",
    "\n",
    "# Other outlays\n",
    "cmpdt = '2022-01-01'\n",
    "n = (rpc.index[-1] - pd.to_datetime(cmpdt)).days / 365.25\n",
    "chtot = (((((rpc.iloc[-1] - rpc.loc[cmpdt]) / rpc.SPENDING.loc[cmpdt]) + 1)\n",
    "          ** (1/n)) - 1) * 100\n",
    "oth2 = ('increases in other outlays' if chtot.OTHER < -0.1 \n",
    "       else 'decreases in other outlays' if chtot.OTHER > 0.1 \n",
    "       else 'other outlays')\n",
    "othch2 = (value_text(chtot.OTHER, adj='inflation', ptype='pp',\n",
    "                     threshold=thresh, obj='plural')\n",
    "          .replace('the inflation rate', 'consumer spending'))\n",
    "text = ('Real per capita consumer spending over the past three months '+\n",
    "        'compared with the previous three months shows annualized growth '+\n",
    "        f'of {expch} in {ltdt}. {inc} {incch}, {sav} {savch}, and '+\n",
    "        f'{oth} {othch}.\\n\\n Higher interest rates, which count as '+\n",
    "        'other outlays, can eat into consumer spending. Since the start of '+\n",
    "        f'2022, {oth2} have {othch2} per year.')\n",
    "write_txt(text_dir / 'exp_inc_save_mon.txt', text)\n",
    "print(text)"
   ]
  },
  {
   "cell_type": "code",
   "execution_count": 20,
   "metadata": {
    "ExecuteTime": {
     "end_time": "2023-12-22T13:50:41.490380Z",
     "start_time": "2023-12-22T13:50:41.476278Z"
    }
   },
   "outputs": [],
   "source": [
    "rpcgr = pd.DataFrame()\n",
    "rpcgr['RPC3M'] = m3rate(df['REAL_PC'])\n",
    "rpcgr['RPC12M'] = (df['REAL_PC'].pct_change(12) * 100).dropna()\n",
    "# End node\n",
    "colors = {'RPC3M': 'blue!40!cyan!90!white', 'RPC12M': 'blue!50!black'} \n",
    "adj = node_adj(rpcgr.iloc[-19:])\n",
    "date = {n: None for n, c in colors.items()}\n",
    "smax = rpcgr.iloc[-1].idxmax()\n",
    "adj[smax] += 0.35\n",
    "date[smax] = 'm'\n",
    "size = {'RPC3M': 1.1, 'RPC12M': 1.3} \n",
    "nodes = '\\n'.join([end_node(rpcgr[n], c, date=date[n], \n",
    "                            offset=adj[n], size=size[n]) \n",
    "                   for n,c in colors.items()])\n",
    "write_txt(text_dir / 'npcegr_nodes.txt', nodes)\n",
    "\n",
    "rpcgr['label'] = [dt.strftime('%b\\\\\\%Y') if dt.month == 1 \n",
    "                  else dt.strftime('%b') if dt.month in [7]\n",
    "                  else '' for dt in rpcgr.index]\n",
    "rpcgr.iloc[-19:].to_csv(data_dir / 'npcegr.csv', \n",
    "                                index_label='date')"
   ]
  },
  {
   "cell_type": "code",
   "execution_count": 21,
   "metadata": {
    "ExecuteTime": {
     "end_time": "2023-12-22T13:50:41.506454Z",
     "start_time": "2023-12-22T13:50:41.491897Z"
    }
   },
   "outputs": [
    {
     "name": "stdout",
     "output_type": "stream",
     "text": [
      "Using this measure, nominal consumer spending increased at an annual rate of 5.3 percent in November 2023. Real per capita growth was two percent, inflation contributed 2.8 percent, and population growth added 0.6 percent.\n",
      "Over the 12 months ending November 2023, real per capita consumer spending increased 2.2 percent, following increases of 1.5 percent in October and 0.4 percent in November 2022 (see {\\color{blue!40!cyan!90!white}\\textbf{---}}).\n",
      "\n",
      " The three month growth rate (3M/3M) is two percent in November, 1.9 percent in October, and 1.7 percent one year prior (see {\\color{blue!50!black}\\textbf{---}}).\n"
     ]
    }
   ],
   "source": [
    "# Text for 3M/3M nominal decomp\n",
    "ltdt = dtxt(res.index[-1])['mon1']\n",
    "nomch = value_text(res.SPENDING.iloc[-1], adj='annual')\n",
    "rpcch = value_text(res.REAL_PC.iloc[-1], 'plain')\n",
    "infch = value_text(res.INFL_CONTR.iloc[-1], 'contribution')\n",
    "popch = value_text(res.POP_CONTR.iloc[-1], 'contribution', \n",
    "                   casual=True)\n",
    "\n",
    "text = ('Using this measure, nominal consumer spending '+\n",
    "        f'{nomch} in {ltdt}. Real per capita growth was '+\n",
    "        f'{rpcch}, inflation {infch}, '+\n",
    "        f'and population growth {popch}.')\n",
    "write_txt(text_dir / 'rpcpce_3m_decomp.txt', text)\n",
    "print(text)\n",
    "\n",
    "# Text for real per capita recent growth\n",
    "ch12lt = value_text(rpcgr['RPC12M'].iloc[-1])\n",
    "tdf = (pd.concat([rpcgr.iloc[-13].to_frame().T, rpcgr.iloc[-2:]])\n",
    "         .drop('label', axis=1))\n",
    "prval12 = prval_comp(tdf.RPC12M)\n",
    "ch3lt = value_text(rpcgr['RPC3M'].iloc[-1], 'plain')\n",
    "ch3pr = value_text(rpcgr['RPC3M'].iloc[-2], 'plain')\n",
    "ch3py = value_text(rpcgr['RPC3M'].iloc[-13], 'plain')\n",
    "dates = date_list(rpcgr)\n",
    "ltmo = dtxt(rpcgr.index[-1])['mon3']\n",
    "cl3 = c_line('blue!50!black')\n",
    "cl12 = c_line('blue!40!cyan!90!white')\n",
    "text = (f'Over the 12 months ending {ltdt}, real per capita '+\n",
    "        f'consumer spending {ch12lt}, following {prval12} {cl12}.'+\n",
    "        f'\\n\\n The three month growth rate (3M/3M) is {ch3lt} in '+\n",
    "        f'{ltmo}, {ch3pr} in {dates[1]}, and {ch3py} one year '+\n",
    "        f'prior {cl3}.')\n",
    "write_txt(text_dir / 'rpcpce_ltgr.txt', text)\n",
    "print(text)"
   ]
  },
  {
   "cell_type": "code",
   "execution_count": null,
   "metadata": {},
   "outputs": [],
   "source": []
  },
  {
   "cell_type": "code",
   "execution_count": null,
   "metadata": {},
   "outputs": [],
   "source": []
  }
 ],
 "metadata": {
  "kernelspec": {
   "display_name": "Python 3 (ipykernel)",
   "language": "python",
   "name": "python3"
  },
  "language_info": {
   "codemirror_mode": {
    "name": "ipython",
    "version": 3
   },
   "file_extension": ".py",
   "mimetype": "text/x-python",
   "name": "python",
   "nbconvert_exporter": "python",
   "pygments_lexer": "ipython3",
   "version": "3.8.13"
  }
 },
 "nbformat": 4,
 "nbformat_minor": 4
}
