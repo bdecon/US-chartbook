{
 "cells": [
  {
   "cell_type": "markdown",
   "metadata": {},
   "source": [
    "### Income and Outlays Monthly Data"
   ]
  },
  {
   "cell_type": "code",
   "execution_count": 1,
   "metadata": {},
   "outputs": [],
   "source": [
    "import sys\n",
    "import json\n",
    "sys.path.append('../src')\n",
    "\n",
    "import uschartbook.config\n",
    "\n",
    "from uschartbook.config import *\n",
    "from uschartbook.utils import *"
   ]
  },
  {
   "cell_type": "code",
   "execution_count": null,
   "metadata": {},
   "outputs": [],
   "source": []
  },
  {
   "cell_type": "markdown",
   "metadata": {},
   "source": [
    "### After-tax income growth"
   ]
  },
  {
   "cell_type": "code",
   "execution_count": 2,
   "metadata": {},
   "outputs": [
    {
     "data": {
      "text/plain": [
       "'The Bureau of Economic Analysis \\\\href{https://www.bea.gov/data/income-saving/personal-income}{reports} an inflation-adjusted one-year change in after-tax income per person (see {\\\\color{blue!80!cyan}\\\\textbf{---}}) of -0.4 percent in March 2020, 1.6 percent in February 2020, and 2.8 percent in March 2019. Over the past year, the measure has averaged 2.0 percent.'"
      ]
     },
     "execution_count": 2,
     "metadata": {},
     "output_type": "execute_result"
    }
   ],
   "source": [
    "data = fred_df('A229RX0', start='1988')['VALUE']\n",
    "data2 = (data.pct_change(12) * 100).dropna()\n",
    "data2.to_csv(data_dir / 'rdpigrowth.csv', header=['rdpi'], index_label='date')\n",
    "node = end_node(data2, 'blue!80!cyan')\n",
    "write_txt(text_dir / 'rdpi_node.txt', node)\n",
    "\n",
    "ltdate = dtxt(data2.index[-1])['mon1']\n",
    "ltval = data2.iloc[-1]\n",
    "prdate = dtxt(data2.index[-2])['mon1']\n",
    "prval = data2.iloc[-2]\n",
    "prdate2 = dtxt(data2.index[-13])['mon1']\n",
    "prval2 = data2.iloc[-13]\n",
    "ltavg = data2.iloc[-13:].mean()\n",
    "\n",
    "text = ('The Bureau of Economic Analysis '+\n",
    "        '\\href{https://www.bea.gov/data/income-saving/personal-income}{reports} '+\n",
    "        'an inflation-adjusted one-year change in after-tax income per person (see '+\n",
    "        '{\\color{blue!80!cyan}\\\\textbf{---}}) of '+\n",
    "        f'{ltval:.1f} percent in {ltdate}, {prval:.1f} percent '+\n",
    "        f'in {prdate}, and {prval2:.1f} percent in {prdate2}. '+\n",
    "        f'Over the past year, the measure has averaged {ltavg:.1f} percent.')\n",
    "\n",
    "write_txt(text_dir / 'rdpigrowth.txt', text)\n",
    "\n",
    "text"
   ]
  },
  {
   "cell_type": "code",
   "execution_count": null,
   "metadata": {},
   "outputs": [],
   "source": []
  },
  {
   "cell_type": "code",
   "execution_count": null,
   "metadata": {},
   "outputs": [],
   "source": []
  },
  {
   "cell_type": "markdown",
   "metadata": {},
   "source": [
    "### Monthly consumer spending growth"
   ]
  },
  {
   "cell_type": "code",
   "execution_count": 3,
   "metadata": {},
   "outputs": [],
   "source": [
    "data = pd.read_csv('../data/rpcepop_hist.csv', index_col='DATE', parse_dates=True)\n",
    "\n",
    "series = {'PCEC96': 'PCE', \n",
    "          'POPTHM': 'POP'}\n",
    "\n",
    "df = pd.DataFrame()\n",
    "for srs, name in series.items():\n",
    "    url = f'http://research.stlouisfed.org/fred2/series/{srs}/downloaddata/{srs}.csv'\n",
    "    s = pd.read_csv(url, index_col='DATE', parse_dates=True)['VALUE']\n",
    "    df[name] = s\n",
    "    \n",
    "df['PCEPOP'] = df['PCE'] / df['POP']\n",
    "data2 = data['rpcepop'].append((df.PCEPOP.pct_change(12) * 100).dropna().rename('rpcepop'))\n",
    "\n",
    "data2.to_csv(data_dir / 'pcegrowth.csv', header=['rpcepop'], index_label='date')\n",
    "\n",
    "node = end_node(data2, 'green!80!black')\n",
    "write_txt(text_dir / 'pcegrowth_node.txt', node)"
   ]
  },
  {
   "cell_type": "code",
   "execution_count": 4,
   "metadata": {},
   "outputs": [
    {
     "data": {
      "text/plain": [
       "'Consumer spending is also \\\\href{https://www.bea.gov/data/consumer-spending/main}{reported} on a monthly basis. Inflation- and population-adjusted consumer spending increased by -5.5 percent over the year ending March 2020 (see {\\\\color{green!80!black}\\\\textbf{---}}), compared to an equivalent increase of 2.3 percent for the year ending March 2019. '"
      ]
     },
     "execution_count": 4,
     "metadata": {},
     "output_type": "execute_result"
    }
   ],
   "source": [
    "s = pd.read_csv(data_dir / 'pcegrowth.csv', parse_dates=['date']).set_index('date')['rpcepop']\n",
    "d = series_info(s)\n",
    "\n",
    "text = ('Consumer spending is also \\href{https://www.bea.gov/data/consumer-spending/main}{reported}'+\n",
    "        ' on a monthly basis. Inflation- and population-adjusted consumer spending increased by '+\n",
    "        f'{d[\"val_latest\"]:.1f} percent over the year ending {d[\"date_latest_ft\"]} '+\n",
    "        '(see {\\color{green!80!black}\\\\textbf{---}}), compared '+\n",
    "        f'to an equivalent increase of {d[\"val_year_ago\"]:.1f} percent for the year ending '+\n",
    "        f'{d[\"date_year_ago_ft\"]}. ')\n",
    "\n",
    "write_txt(text_dir / 'pcegrowth.txt', text)\n",
    "\n",
    "text"
   ]
  },
  {
   "cell_type": "code",
   "execution_count": null,
   "metadata": {},
   "outputs": [],
   "source": []
  },
  {
   "cell_type": "code",
   "execution_count": null,
   "metadata": {},
   "outputs": [],
   "source": []
  },
  {
   "cell_type": "markdown",
   "metadata": {},
   "source": [
    "### Personal saving rate"
   ]
  },
  {
   "cell_type": "code",
   "execution_count": 5,
   "metadata": {},
   "outputs": [
    {
     "name": "stdout",
     "output_type": "stream",
     "text": [
      "As of March 2020, the Bureau of Economic Analysis \\href{https://www.bea.gov/data/income-saving/personal-saving-rate}{reports} a rate of personal saving of 13.1 percent (see {\\color{red}\\textbf{---}}). Over the past three years, the personal saving rate increased by a total of 5.9 percentage points.\n"
     ]
    }
   ],
   "source": [
    "data = fred_df('PSAVERT')['VALUE']\n",
    "\n",
    "data.to_csv(data_dir / 'psavert.csv', index_label='date', header=True)\n",
    "\n",
    "datelt = dtxt(data.index[-1])['mon1']\n",
    "latest = data.iloc[-1]\n",
    "ch3yr = data.diff(36).iloc[-1]\n",
    "\n",
    "txt = val_inc_pp(ch3yr)\n",
    "\n",
    "text = (f'As of {datelt}, the Bureau of Economic Analysis '+\n",
    "        '\\href{https://www.bea.gov/data/income-saving/personal-saving-rate}{reports} a rate '+\n",
    "        f'of personal saving of {latest:.1f} percent '+\n",
    "        '(see {\\color{red}\\\\textbf{---}}). Over the past '+\n",
    "        f'three years, the personal saving rate {txt}.')\n",
    "\n",
    "write_txt(text_dir / 'psavert.txt', text)\n",
    "\n",
    "print(text)\n",
    "\n",
    "node = end_node(data, 'red')\n",
    "write_txt(text_dir / 'psavert_node.txt', node)"
   ]
  },
  {
   "cell_type": "code",
   "execution_count": null,
   "metadata": {},
   "outputs": [],
   "source": []
  },
  {
   "cell_type": "code",
   "execution_count": null,
   "metadata": {},
   "outputs": [],
   "source": []
  },
  {
   "cell_type": "markdown",
   "metadata": {},
   "source": [
    "### Personal Income"
   ]
  },
  {
   "cell_type": "code",
   "execution_count": 39,
   "metadata": {},
   "outputs": [],
   "source": [
    "series = {\n",
    " 'TOTAL': '\\hspace{2mm}Personal income',\n",
    " 'LABOR': '\\hspace{-1mm}\\cbox{green!80!black} Labor',\n",
    " 'A034RC': '\\hspace{4mm} Wages and salaries',\n",
    " 'A038RC': '\\hspace{4mm} Supplements',\n",
    " 'CAPITAL': '\\hspace{-1mm}\\cbox{orange!50!yellow}Capital',\n",
    " 'A041RC': \"\\hspace{4mm} Proprietors' income\",\n",
    " 'A048RC': '\\hspace{4mm} Rental income',\n",
    " 'A064RC': '\\hspace{4mm} Personal interest income',\n",
    " 'B703RC': '\\hspace{4mm} Personal dividend income',\n",
    " 'TRANSFER': '\\hspace{-1mm}\\cbox{blue!80!white}Welfare',\n",
    " 'W823RC': '\\hspace{4mm} Social security',\n",
    " 'W824RC': '\\hspace{4mm} Medicare',\n",
    " 'W729RC': '\\hspace{4mm} Medicaid',\n",
    " 'W825RC': '\\hspace{4mm} Unemployment insurance',\n",
    " 'W826RC': \"\\hspace{4mm} Veterans' benefits\",\n",
    " 'A061RC': '\\hspace{4mm} Less welfare contributions'}"
   ]
  },
  {
   "cell_type": "code",
   "execution_count": 2,
   "metadata": {},
   "outputs": [],
   "source": [
    "# Components of request\n",
    "base = f'https://www.bea.gov/api/data/?&UserID={bea_key}'\n",
    "dset = '&method=GetData&datasetname=NIPA'\n",
    "tbl = 'T20600' \n",
    "freq = '&Frequency=M'\n",
    "yr = ','.join(map(str, range(1988, 2021)))\n",
    "fmt = '&ResultFormat=json'\n",
    "url = f'{base}{dset}&TableName={tbl}{freq}&Year={yr}{fmt}'"
   ]
  },
  {
   "cell_type": "code",
   "execution_count": 45,
   "metadata": {},
   "outputs": [],
   "source": [
    "# Request data\n",
    "r = requests.get(url).json()['BEAAPI']['Results']\n",
    "\n",
    "df = pd.DataFrame(r['Data'])\n",
    "df['Date'] = pd.to_datetime(df['TimePeriod'], format='%YM%m')\n",
    "\n",
    "df = (df.set_index(['Date', 'SeriesCode'])['DataValue'].str.replace(',', '')\n",
    "        .astype(float).unstack()\n",
    "        .assign(CAPITAL = lambda x: x['A041RC'] + x['A048RC'] + x['W210RC'],\n",
    "                TRANSFER = lambda x: x['A577RC'] - x['A061RC'],\n",
    "                A061RC = lambda x: - x['A061RC'])\n",
    "        .rename({'A065RC': 'TOTAL', 'A033RC': 'LABOR'}, axis=1))\n",
    "\n",
    "pce = fred_df('PCEPI', start='1988')['VALUE']\n",
    "pce = (pce.iloc[-1] / pce)\n",
    "\n",
    "pop = df['B230RC']\n",
    "\n",
    "data = (df.div(pop, axis=0).multiply(pce, axis=0))\n",
    "\n",
    "(data[['LABOR', 'CAPITAL', 'TRANSFER']]\n",
    "     .to_csv(data_dir / 'pi_levels.csv', index_label='date'))"
   ]
  },
  {
   "cell_type": "code",
   "execution_count": 55,
   "metadata": {},
   "outputs": [],
   "source": [
    "tbl = ((data[series.keys()].rename(series, axis=1)\n",
    "            .iloc[[-1, -2, -3, -4, -13, -37]].T * 1000)\n",
    "            .applymap('{:,.0f}'.format))\n",
    "\n",
    "tbl.columns = [dtxt(c)['mon6'] for c in tbl.columns]\n",
    "tbl.index.name = ''\n",
    "\n",
    "tbl.to_csv(data_dir / 'pi_levels.tex', sep='&', line_terminator='\\\\\\ ', quotechar=' ')"
   ]
  },
  {
   "cell_type": "code",
   "execution_count": 64,
   "metadata": {},
   "outputs": [
    {
     "data": {
      "text/plain": [
       "'In March 2020, annualized personal income is equivalent to \\\\$56,718 per person. Labor income totals \\\\$34,463 per person; capital and proprietor income is \\\\$16,478 per person; and welfare or transfer income is \\\\$5,777 per person. '"
      ]
     },
     "execution_count": 64,
     "metadata": {},
     "output_type": "execute_result"
    }
   ],
   "source": [
    "ld = data.index[-1]\n",
    "ltdate = dtxt(data.index[-1])['mon1']\n",
    "totval = data.loc[ld, 'TOTAL'] * 1000\n",
    "labval = data.loc[ld, 'LABOR'] * 1000\n",
    "capval = data.loc[ld, 'CAPITAL'] * 1000\n",
    "welval = data.loc[ld, 'TRANSFER'] * 1000\n",
    "\n",
    "text = (f'In {ltdate}, annualized personal income is equivalent to '+\n",
    "        f'\\${totval:,.0f} per person. Labor income totals \\${labval:,.0f} '+\n",
    "        f'per person; capital and proprietor income is \\${capval:,.0f} '+\n",
    "        f'per person; and welfare or transfer income is \\${welval:,.0f} '+\n",
    "        'per person. ')\n",
    "\n",
    "write_txt(text_dir / 'pi_levels_basic.txt', text)\n",
    "\n",
    "text"
   ]
  },
  {
   "cell_type": "code",
   "execution_count": null,
   "metadata": {},
   "outputs": [],
   "source": []
  },
  {
   "cell_type": "code",
   "execution_count": null,
   "metadata": {},
   "outputs": [],
   "source": []
  },
  {
   "cell_type": "code",
   "execution_count": null,
   "metadata": {},
   "outputs": [],
   "source": [
    "r"
   ]
  }
 ],
 "metadata": {
  "kernelspec": {
   "display_name": "Python 3",
   "language": "python",
   "name": "python3"
  },
  "language_info": {
   "codemirror_mode": {
    "name": "ipython",
    "version": 3
   },
   "file_extension": ".py",
   "mimetype": "text/x-python",
   "name": "python",
   "nbconvert_exporter": "python",
   "pygments_lexer": "ipython3",
   "version": "3.8.2"
  }
 },
 "nbformat": 4,
 "nbformat_minor": 4
}
