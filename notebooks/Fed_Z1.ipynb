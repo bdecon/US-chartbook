{
 "cells": [
  {
   "cell_type": "markdown",
   "metadata": {},
   "source": [
    "### Fed Z.1 Report\n",
    "\n",
    "See: FRB Calendar: https://www.federalreserve.gov/data/releaseschedule.htm\n",
    "\n",
    "FRBNY Consumer Credit Panel calendar: https://www.newyorkfed.org/microeconomics/calendar.html\n"
   ]
  },
  {
   "cell_type": "code",
   "execution_count": 1,
   "metadata": {
    "ExecuteTime": {
     "end_time": "2022-11-16T05:23:25.190307Z",
     "start_time": "2022-11-16T05:23:24.137746Z"
    }
   },
   "outputs": [],
   "source": [
    "%config Completer.use_jedi = False\n",
    "import sys\n",
    "sys.path.append('../src')\n",
    "\n",
    "import uschartbook.config\n",
    "\n",
    "from uschartbook.config import *\n",
    "from uschartbook.utils import *"
   ]
  },
  {
   "cell_type": "markdown",
   "metadata": {},
   "source": [
    "### Change in liabilities"
   ]
  },
  {
   "cell_type": "code",
   "execution_count": 2,
   "metadata": {
    "ExecuteTime": {
     "end_time": "2022-11-16T05:23:25.419729Z",
     "start_time": "2022-11-16T05:23:25.192202Z"
    }
   },
   "outputs": [],
   "source": [
    "base = 'https://www.federalreserve.gov/datadownload/Output.aspx?'\n",
    "srs = 'rel=Z1&series=226131d24948eeb075a4766f667eccf6&lastobs=&' \n",
    "dt = 'from=01/01/1988&to=12/31/2022&'\n",
    "oth = 'filetype=csv&label=include&layout=seriescolumn'\n",
    "\n",
    "d, df = clean_fed_data(base + srs + dt + oth)\n",
    "df['Government'] = df[['LA214104005.Q', 'LA314104005.Q']].sum(axis=1)\n",
    "df['NCB'] = df['LA144104005.Q'] - df['LA104104005.Q']\n",
    "df.to_csv(data_dir / 'liab_z1_raw.csv', index_label='date')"
   ]
  },
  {
   "cell_type": "code",
   "execution_count": 3,
   "metadata": {
    "ExecuteTime": {
     "end_time": "2022-11-16T05:23:25.520620Z",
     "start_time": "2022-11-16T05:23:25.421763Z"
    }
   },
   "outputs": [],
   "source": [
    "# Data as a share of GDP\n",
    "df = pd.read_csv(data_dir / 'liab_z1_raw.csv', index_col='date', \n",
    "                 parse_dates=True)\n",
    "sh = (df.div(nipa_df(retrieve_table('T10105')['Data'], ['A191RC']\n",
    "                    )['A191RC'], axis=0)).dropna().loc['1989':] * 100\n",
    "sh.loc['1989':].to_csv(data_dir / 'liabsh.csv', index_label='date')\n",
    "liab_dt = dtxt(sh.index[-1])['qtr1']\n",
    "write_txt(text_dir / 'liab_date.txt', liab_dt)\n",
    "\n",
    "s = [('LA384104005.Q', 'blue!60!black', None, 0), \n",
    "     ('FL384190005.Q', 'cyan!88!blue', 'q', 0), \n",
    "     ('FL264090005.Q', 'red!90!magenta', None, 0)]\n",
    "nodes = '\\n'.join([end_node(sh[i], c, percent=True, date=d, size=1.2, offset=o) \n",
    "                   for i, c, d, o in s]).replace('\\\\\\ \\scriptsize Q', ' Q')\n",
    "write_txt(text_dir / 'liabsh_node1.txt', nodes)\n",
    "\n",
    "s = [('FL144190005.Q', 'green!72!black', 'q'), \n",
    "     ('FL154190005.Q', 'orange!90!red', None), \n",
    "     ('FL214190005.Q', 'cyan!60!white', None), \n",
    "     ('FL314190005.Q', 'blue!70!white', None)]\n",
    "nodes = '\\n'.join([end_node(sh[i], c, percent=True, date=d, size=1.2) \n",
    "                   for i, c, d in s]).replace('\\\\\\ \\scriptsize Q', ' Q')\n",
    "write_txt(text_dir / 'liabsh_node.txt', nodes)\n",
    "ss = s\n",
    "\n",
    "s = [('LA144104005.Q', 'green!72!black', None), \n",
    "     ('LA154104005.Q', 'orange!90!red', None), \n",
    "     ('LA214104005.Q', 'cyan!60!white', None), \n",
    "     ('LA314104005.Q', 'blue!70!white', 'q')]\n",
    "adj = node_adj(sh[[i[0] for i in s]])\n",
    "nodes = '\\n'.join([end_node(sh[i], c, percent=True, date=d, \n",
    "                            size=1.2, offset=adj[i]) \n",
    "                   for i, c, d in s]).replace('\\\\\\ \\scriptsize Q', ' Q')\n",
    "write_txt(text_dir / 'liabsh_node2.txt', nodes)\n",
    "\n",
    "# Calculate per capita adjusted for inflation\n",
    "pop = nipa_df(retrieve_table('T20100')['Data'], ['B230RC'])['B230RC']\n",
    "pce = nipa_df(retrieve_table('T20304')['Data'], ['DPCERG']).loc[df.index,'DPCERG']\n",
    "pr = (pce / pce.iloc[-1])\n",
    "pc = df.divide(pr, axis=0).divide(pop, axis=0).dropna()\n",
    "pc.loc['1989':].to_csv(data_dir / 'liabpc.csv', index_label='date')\n",
    "\n",
    "s = [('LA384104005.Q', 'blue!60!black', None, 0), \n",
    "     ('FL384190005.Q', 'cyan!88!blue', 'q', -0.15), \n",
    "     ('FL264090005.Q', 'red!90!magenta', None, 0)]\n",
    "nodes = '\\n'.join([end_node(pc[i], c, date=d, size=1.2, offset=o, dollar=True) \n",
    "                   for i, c, d, o in s]).replace('\\\\\\ \\scriptsize Q', ' Q')\n",
    "write_txt(text_dir / 'liabpc_node.txt', nodes)"
   ]
  },
  {
   "cell_type": "code",
   "execution_count": 4,
   "metadata": {
    "ExecuteTime": {
     "end_time": "2022-11-16T05:23:25.530727Z",
     "start_time": "2022-11-16T05:23:25.522644Z"
    },
    "code_folding": []
   },
   "outputs": [
    {
     "name": "stdout",
     "output_type": "stream",
     "text": [
      "The first and most-common approach to analyzing US liabilities looks at \\textbf{debt}, which includes loans and debt securities, such as bonds. In this approach, total debt is the sum of debt held by each nonfinancial sector of the domestic economy: households, businesses, and the government. The combined debt of US nonfinancial sectors is \\$67.6 trillion in the second quarter of 2022, equivalent to 267.8 percent of GDP, or \\$203,078 per capita. \n",
      "\n",
      "The second approach is \\textbf{total liabilities}, which include debt and all other financial obligations. Other financial obligations include accounts payable, taxes payable, pension obligations, intercompany debt, and other miscellaneous liabilities. Total liabilities of nonfinancial sectors sum to \\$91.2 trillion in 2022 Q2, or 361.0 percent of GDP.\n",
      "\n",
      "The last approach looks at \\textbf{foreign financial claims} on the US. From a net US wealth perspective, domestic liabilities held by domestic creditors cancel out. It is therefore of interest to look at the portion of domestic liabilities that are to foreign creditors. Foreign financial claims on the US total \\$40.9 trillion in 2022 Q2, equivalent to 162.0 percent of GDP, or \\$122,831 per capita. \n"
     ]
    }
   ],
   "source": [
    "# Text for overview of liabilities\n",
    "srs = ['LA384104005.Q', 'FL384190005.Q', 'FL264090005.Q']\n",
    "shlt = sh[srs].iloc[-1].apply('{:.1f} percent of GDP'.format)\n",
    "pclt = pc[srs].iloc[-1].multiply(1000).apply('\\${:,.0f} per capita'.format)\n",
    "lvlt = df[srs].iloc[-1].divide(1_000_000).apply('\\${:,.1f} trillion'.format)\n",
    "ltdt = dtxt(sh.index[-1])['qtr1']\n",
    "ltdt1 = dtxt(sh.index[-1])['qtr2']\n",
    "debt_lvl = lvlt['LA384104005.Q']\n",
    "debt_gdp = shlt['LA384104005.Q']\n",
    "debt_pc = pclt['LA384104005.Q']\n",
    "liab_lvl = lvlt['FL384190005.Q']\n",
    "liab_gdp = shlt['FL384190005.Q']\n",
    "liab_pc = pclt['FL384190005.Q']\n",
    "for_lvl = lvlt['FL264090005.Q']\n",
    "for_gdp = shlt['FL264090005.Q']\n",
    "for_pc = pclt['FL264090005.Q']\n",
    "\n",
    "text = ('The first and most-common approach to analyzing US liabilities '+\n",
    "        'looks at \\\\textbf{debt}, which includes loans and debt securities, '+\n",
    "        'such as bonds. In this approach, total debt is the sum of debt '+\n",
    "        'held by each nonfinancial sector of the domestic economy: households, '+\n",
    "        'businesses, and the government. The combined debt of US nonfinancial '+\n",
    "        f'sectors is {debt_lvl} in {ltdt1}, equivalent to {debt_gdp}, or '+\n",
    "        f'{debt_pc}. \\n\\nThe second approach is \\\\textbf{{total liabilities}}, '+\n",
    "        'which include debt and all other financial obligations. Other '+\n",
    "        'financial obligations include accounts payable, taxes payable, '+\n",
    "        'pension obligations, intercompany debt, and other miscellaneous '+\n",
    "        'liabilities. Total liabilities of nonfinancial sectors sum to '+\n",
    "        f'{liab_lvl} in {ltdt}, or {liab_gdp}.\\n\\nThe last approach looks at '+\n",
    "        '\\\\textbf{foreign financial claims} on the US. From a net US wealth '+\n",
    "        'perspective, domestic liabilities held by domestic creditors cancel '+\n",
    "        'out. It is therefore of interest to look at the portion of domestic '+\n",
    "        'liabilities that are to foreign creditors. Foreign financial claims '+\n",
    "        f'on the US total {for_lvl} in {ltdt}, equivalent to {for_gdp}, or '+\n",
    "        f'{for_pc}. ')\n",
    "write_txt(text_dir / 'liab_overview.txt', text)\n",
    "print(text)"
   ]
  },
  {
   "cell_type": "code",
   "execution_count": 5,
   "metadata": {
    "ExecuteTime": {
     "end_time": "2022-11-16T05:23:25.567462Z",
     "start_time": "2022-11-16T05:23:25.532028Z"
    }
   },
   "outputs": [],
   "source": [
    "n = {'FL384190005.Q': f'Total Liabilities {c_line(\"cyan!88!blue\", see=False)}',\n",
    "     'LA384104005.Q': f'\\hspace{{2mm}}Debt {c_line(\"blue!60!black\", see=False)}',\n",
    "     'FL384122005.Q': '\\hspace{4mm}Debt Securities',\n",
    "     'FL384123005.Q': '\\hspace{4mm}Loans',\n",
    "     'FL264090005.Q': ('\\hspace{2mm}Foreign Financial Claims '+\n",
    "                       f'{c_line(\"red!90!magenta\", see=False)}')}\n",
    "\n",
    "result = sh[n.keys()]\n",
    "lt = result.iloc[-2:].iloc[::-1]\n",
    "pryr = result.iloc[-5].to_frame().T\n",
    "pc = result.loc['2019-10-01'].to_frame().T\n",
    "tbl = pd.concat([lt, pryr, pc]).T\n",
    "cols = [f' {q.year} Q{q.quarter}' \n",
    "        if i == 0 else f'`{str(q.year)[2:]} Q{q.quarter}'\n",
    "        for i, q in enumerate(tbl.columns)]\n",
    "\n",
    "tbl.columns = cols\n",
    "comp_years = ['2010', '1989']\n",
    "for cy in comp_years:\n",
    "    tbl[cy] = result.loc[cy].mean().rename(cy)\n",
    "tbl = tbl.rename(n).applymap('{:.1f}'.format)\n",
    "tbl.to_csv(data_dir / 'liabsh1.tex', sep='&', lineterminator='\\\\\\ ', \n",
    "            quotechar=' ')"
   ]
  },
  {
   "cell_type": "code",
   "execution_count": 6,
   "metadata": {
    "ExecuteTime": {
     "end_time": "2022-11-16T05:23:25.589490Z",
     "start_time": "2022-11-16T05:23:25.570961Z"
    }
   },
   "outputs": [],
   "source": [
    "n = {'LA384104005.Q': 'Debt of Nonfinancial Sectors',\n",
    "     'LA154104005.Q': ('\\hspace{2mm}Households \\& Nonprofits '+\n",
    "                       f'{c_line(\"orange!90!red\", see=False)}'),\n",
    "     'FL153165005.Q': '\\hspace{4mm}Home Mortgages',\n",
    "     'FL153166000.Q': '\\hspace{4mm}Consumer Credit',\n",
    "     'LA144104005.Q': ('\\hspace{2mm}Nonfinancial Businesses '+\n",
    "                       f'{c_line(\"green!72!black\", see=False)}'),\n",
    "     'LA104104005.Q': '\\hspace{4mm}Corporate',\n",
    "     'FL104122005.Q': '\\hspace{6mm}Debt Securities',\n",
    "     'FL104123005.Q': '\\hspace{6mm}Loans',\n",
    "     'NCB': '\\hspace{4mm}Noncorporate',\n",
    "     'FL113165505.Q': '\\hspace{6mm}Commercial Mortgages',\n",
    "     'Government': '\\hspace{2mm}Government',\n",
    "     'LA214104005.Q': ('\\hspace{4mm}State \\& Local '+\n",
    "                       f'{c_line(\"cyan!60!white\", see=False)}'),\n",
    "     'LA314104005.Q': ('\\hspace{4mm}Federal '+\n",
    "                       f'{c_line(\"blue!70!white\", see=False)}')}\n",
    "\n",
    "result = sh[n.keys()]\n",
    "lt = result.iloc[-2:].iloc[::-1]\n",
    "pryr = result.iloc[-5].to_frame().T\n",
    "pc = result.loc['2019-10-01'].to_frame().T\n",
    "tbl = pd.concat([lt, pryr, pc]).T\n",
    "cols = [f' {q.year} Q{q.quarter}' \n",
    "        if i == 0 else f'`{str(q.year)[2:]} Q{q.quarter}'\n",
    "        for i, q in enumerate(tbl.columns)]\n",
    "\n",
    "tbl.columns = cols\n",
    "comp_years = ['2010', '1989']\n",
    "for cy in comp_years:\n",
    "    tbl[cy] = result.loc[cy].mean().rename(cy)\n",
    "tbl = tbl.rename(n).applymap('{:.1f}'.format)\n",
    "tbl.to_csv(data_dir / 'liabsh2.tex', sep='&', lineterminator='\\\\\\ ', \n",
    "            quotechar=' ')"
   ]
  },
  {
   "cell_type": "code",
   "execution_count": 7,
   "metadata": {
    "ExecuteTime": {
     "end_time": "2022-11-16T05:23:25.614502Z",
     "start_time": "2022-11-16T05:23:25.591349Z"
    }
   },
   "outputs": [
    {
     "name": "stdout",
     "output_type": "stream",
     "text": [
      "Liabilities vary \\textbf{by sector} and vary over time within sectors. Households and nonprofits (see {\\color{orange!90!red}\\textbf{---}}) have \\$18.6 trillion in debt in 2022 Q2, equivalent to 73.5 percent of GDP. During the collapse of the housing bubble, in 2010, household and nonprofit debt was equivalent to 92.5 percent of GDP.\n",
      "\n",
      "In 2022 Q2, Private nonfinancial businesses (see {\\color{green!72!black}\\textbf{---}}), corporate and noncorporate, have total liabilities of \\$34.4 trillion and debt of \\$19.5 trillion. In 2022 Q2, nonfinancial business debt is equivalent to 77.2 percent of GDP, slightly above the pre-COVID ratio of 74.1 percent. Nonfinancial corporations have \\$24.7 trillion in total liabilities and \\$12.6 trillion in debt. \n",
      "\n",
      "Federal government debt (see {\\color{blue!70!white}\\textbf{---}}) is equivalent to 104.2 percent of GDP in the latest data and 87.7 percent in 2019 Q4. Federal government debt has increased substantially since the great recession. State and local government debt (see {\\color{cyan!60!white}\\textbf{---}}) is equivalent to 12.9 percent of GDP in 2022 Q2 and 21.1 percent of GDP in 2010. Total liabilities for the sector, which include pensions, are 35.3 percent of GDP in the latest data and 44.2 percent in 2010.\n"
     ]
    }
   ],
   "source": [
    "clhh = c_line('orange!90!red')\n",
    "clbus = c_line('green!72!black')\n",
    "clfg = c_line('blue!70!white')\n",
    "clslg = c_line('cyan!60!white')\n",
    "ltdt = dtxt(sh.index[-1])['qtr1']\n",
    "vals = df.divide(1_000_000).applymap('\\${:,.1f} trillion'.format)\n",
    "shtxt = sh.applymap('{:.1f} percent of GDP'.format)\n",
    "hhval = vals['LA154104005.Q'].iloc[-1]\n",
    "hhsh = shtxt['LA154104005.Q'].iloc[-1]\n",
    "hhsh10 = f\"{sh.loc['2010', 'LA154104005.Q'].mean():.1f} percent of GDP\"\n",
    "busval_liab = vals['FL144190005.Q'].iloc[-1]\n",
    "busval = vals['LA144104005.Q'].iloc[-1]\n",
    "bussh = shtxt['LA144104005.Q'].iloc[-1]\n",
    "compare = compare_text(sh['LA144104005.Q'].iloc[-1], \n",
    "                       sh.loc['2019-10-01', 'LA144104005.Q'], \n",
    "                       [2.0, 10.0, 30.0])\n",
    "busshpc = shtxt.loc['2019-10-01', 'LA154104005.Q'].replace(' of GDP', '')\n",
    "nfcb_liab = vals['FL104190005.Q'].iloc[-1]\n",
    "nfcb = vals['LA104104005.Q'].iloc[-1]\n",
    "fgsh = shtxt['LA314104005.Q'].iloc[-1]\n",
    "fgpc = shtxt.loc['2019-10-01', 'LA314104005.Q'].replace(' of GDP', '')\n",
    "slgsh = shtxt['LA214104005.Q'].iloc[-1]\n",
    "slgsh10 = f\"{sh.loc['2010', 'LA214104005.Q'].mean():.1f} percent of GDP\"\n",
    "slgliab = shtxt['FL214190005.Q'].iloc[-1]\n",
    "slgliab10 = f\"{sh.loc['2010', 'FL214190005.Q'].mean():.1f} percent\"\n",
    "\n",
    "text = ('Liabilities vary \\\\textbf{by sector} and vary over '+\n",
    "        'time within sectors. Households and nonprofits '+\n",
    "        f'{clhh} have {hhval} in debt in {ltdt}, equivalent to '+\n",
    "        f'{hhsh}. During the collapse of the housing bubble, in '+\n",
    "        '2010, household and nonprofit debt was equivalent to '+\n",
    "        f'{hhsh10}.\\n\\nIn {ltdt}, Private nonfinancial businesses '+\n",
    "        f'{clbus}, corporate and noncorporate, have total '+\n",
    "        f'liabilities of {busval_liab} and debt of {busval}. '+\n",
    "        f'In {ltdt}, nonfinancial business debt is equivalent to '+\n",
    "        f'{bussh}, {compare} the pre-COVID ratio of {busshpc}. '+\n",
    "        f'Nonfinancial corporations have {nfcb_liab} in total '+\n",
    "        f'liabilities and {nfcb} in debt. \\n\\n'+\n",
    "        f'Federal government debt {clfg} is equivalent to {fgsh} '+\n",
    "        f'in the latest data and {fgpc} in 2019 Q4. Federal '+\n",
    "        'government debt has increased substantially since the '+\n",
    "        f'great recession. State and local government debt {clslg} '+\n",
    "        f'is equivalent to {slgsh} in {ltdt} and {slgsh10} in 2010. '+\n",
    "        'Total liabilities for the sector, which include pensions, '+\n",
    "        f'are {slgliab} in the latest data and {slgliab10} in 2010.')\n",
    "write_txt(text_dir / 'liabsh.txt', text)\n",
    "print(text)"
   ]
  },
  {
   "cell_type": "code",
   "execution_count": null,
   "metadata": {},
   "outputs": [],
   "source": []
  },
  {
   "cell_type": "code",
   "execution_count": 8,
   "metadata": {
    "ExecuteTime": {
     "end_time": "2022-11-16T05:23:25.617877Z",
     "start_time": "2022-11-16T05:23:25.615947Z"
    }
   },
   "outputs": [],
   "source": [
    "#sh.applymap(lambda x: value_text(x, 'eq', adj='gdp'))"
   ]
  },
  {
   "cell_type": "markdown",
   "metadata": {},
   "source": [
    "### Real Debt Growth"
   ]
  },
  {
   "cell_type": "code",
   "execution_count": 9,
   "metadata": {
    "ExecuteTime": {
     "end_time": "2022-11-16T05:23:25.681455Z",
     "start_time": "2022-11-16T05:23:25.619303Z"
    }
   },
   "outputs": [
    {
     "name": "stdout",
     "output_type": "stream",
     "text": [
      "Since 2019 Q3, real debt increased at an average rate of 4.8 percent, compared to an average increase of 3.8 percent over the past 30 years.\n",
      "\n",
      "By sector, long-term real debt growth is broad-based, with categories contributing relatively evenly. Over the past three years, the growth is relatively broad-based. The main contribution is an increase in federal government debt and nonfinancial business debt. Since 2019 Q3, federal government debt contributed 3.3 percentage points to one-year real debt growth, on average, compared to an average contribution of 1.4 percentage points over the past 30 years. Nonfinancial business debt contributed one percentage point on average over the past three years, and contributed 1.1 percentage points on average over the past 30 years.\n",
      "\n",
      "Turning to the latest data, debt increased 0.2 percent over the year ending 2022 Q2, after adjusting for inflation. In the latest quarter, the low growth is the result of an increase in several categories that is partially offset by a decrease in state and local government debt. Federal government borrowing (see \\cbox{blue!70!white}) contributed 0.2 percentage point to the overall change, while the state and local government subtracted 0.3 percentage point (see \\cbox{cyan!60!white}). Households and nonprofits contributed 0.2 percentage point (see \\cbox{orange!90!red}), and nonfinancial businesses contributed 0.2 percentage point (see \\cbox{green!72!black}).\n"
     ]
    }
   ],
   "source": [
    "# Real Debt Growth\n",
    "n = {'FL384104005.Q': 'Total',\n",
    "     'FL154104005.Q': '\\hspace{-2mm}\\cbox{orange!90!red}Households \\& Nonprofits',\n",
    "     'FL153165005.Q': '\\hspace{4mm} Home Mortgages',\n",
    "     'FL153166000.Q': '\\hspace{4mm} Consumer Credit',\n",
    "     'FL144104005.Q': '\\hspace{-2mm}\\cbox{green!72!black}Businesses',\n",
    "     'FL104104005.Q': '\\hspace{4mm}Corporate Businesses',\n",
    "     'FL104122005.Q': '\\hspace{6mm} Debt Securities',\n",
    "     'FL104123005.Q': '\\hspace{6mm} Loans',\n",
    "     'NCB': '\\hspace{4mm}Noncorporate Businesses',\n",
    "     'FL113165505.Q': '\\hspace{6mm} Commercial Mortgages',\n",
    "     'FL214104005.Q': '\\hspace{-2mm}\\cbox{cyan!60!white}State \\& Local Governments',\n",
    "     'FL314104005.Q': '\\hspace{-2mm}\\cbox{blue!70!white}Federal Government'}\n",
    "df = pd.read_csv(data_dir / 'liab_z1_raw.csv', index_col='date', \n",
    "                 parse_dates=True)\n",
    "data = df.join(nipa_df(retrieve_table('T20304')['Data'], ['DPCERG'])['DPCERG'])\n",
    "pr = data.DPCERG / data.DPCERG.iloc[-1]\n",
    "real = data.divide(pr, axis=0).drop('DPCERG', axis=1)\n",
    "res = growth_contrib_ann(real, 'FL384104005.Q').dropna()\n",
    "res.to_csv(data_dir / 'liabgr.csv', index_label='date')\n",
    "s = [('fed', 'blue!70!white', 'FL314104005.Q'), ('slg', 'cyan!60!white', 'FL214104005.Q'), \n",
    "     ('hh', 'orange!90!red', 'FL154104005.Q'), ('bus', 'green!72!black', 'FL144104005.Q')]\n",
    "cbox = {name: c_box(color) for name, color, _ in s}\n",
    "tot = value_text(res['FL384104005.Q'].iloc[-1], threshold=0.1, obj='plural')\n",
    "stypes = [('contribution', '1'), ('contribution_to', '2')]\n",
    "txt = {f'{name}{i}': value_text(res[col].iloc[-1], style, digits=1,\n",
    "                                ptype='pp', threshold=0.1) \n",
    "       for style, i in stypes for name, _, col in s}\n",
    "dt = dtxt(df.index[-1])\n",
    "rn = {'FL144104005.Q': 'nonfinancial business debt', \n",
    "      'FL154104005.Q': 'household debt', \n",
    "      'FL214104005.Q': 'state and local government debt', \n",
    "      'FL314104005.Q': 'federal government debt'}\n",
    "lt = res[rn.keys()].iloc[-1].rename(rn)\n",
    "gct, _ = gc_desc(lt, 0.5, 2)\n",
    "\n",
    "v30 = res[rn.keys()].iloc[-120:].mean().rename(rn)\n",
    "gct30, _ = gc_desc(v30, 0.5, 2)\n",
    "v3 = res[rn.keys()].iloc[-12:].mean().rename(rn)\n",
    "gct3, _ = gc_desc(v3, 0.5, 2)\n",
    "c1 = abs(v3).sort_values().index[-1]\n",
    "ct1 = value_text(v3[c1], 'contribution', 'pp')\n",
    "ctlt1 = value_text(v30[c1], 'contribution_of', 'pp', adj='average')\n",
    "c2 = abs(v3).sort_values().index[-2]\n",
    "ct2 = value_text(v3[c2], 'contribution', 'pp')\n",
    "ctlt2 = value_text(v30[c2], 'contribution', 'pp')\n",
    "\n",
    "t3 = value_text(v3.sum(), adj='average')\n",
    "t30 = value_text(v30.sum(), 'increase_of', adj='average')\n",
    "stdt = dtxt(res.index[-12])['qtr1']\n",
    "txt1 = (f'Since {stdt}, real debt {t3}, compared to {t30} over the past 30 years.\\n\\n')\n",
    "\n",
    "txt2 = (f'By sector, long-term real debt {gct30} Over the past '+\n",
    "        f'three years, the {gct3} Since {stdt}, {c1} '+\n",
    "        f'{ct1} to one-year real debt growth, on average, compared '+\n",
    "        f'to {ctlt1} over the past 30 years. {c2[0].upper() + c2[1:]} '+\n",
    "        f'{ct2} on average over the past three years, and {ctlt2} '+\n",
    "        'on average over the past 30 years.\\n\\n')\n",
    "\n",
    "txt3 = (f'Turning to the latest data, debt {tot} over the '+\n",
    "        f'year ending {dt[\"qtr1\"]}, after adjusting '+\n",
    "        f'for inflation. In the latest quarter, the {gct} '+\n",
    "        f'Federal government borrowing {cbox[\"fed\"]} {txt[\"fed2\"]} '+\n",
    "        f'the overall change, while the state and local government '+\n",
    "        f'{txt[\"slg1\"]} {cbox[\"slg\"]}. Households and nonprofits '+\n",
    "        f'{txt[\"hh1\"]} {cbox[\"hh\"]}, and nonfinancial '+\n",
    "        f'businesses {txt[\"bus1\"]} {cbox[\"bus\"]}.')\n",
    "text = txt1 + txt2 + txt3\n",
    "write_txt(text_dir / 'liabgr.txt', text)\n",
    "print(text)\n",
    "\n",
    "result = res[n.keys()]\n",
    "tbl = result.iloc[-5:].iloc[::-1].T\n",
    "cols = [f' {q.year} Q{q.quarter}' \n",
    "        if i == 0 else f'`{str(q.year)[2:]} Q{q.quarter}'\n",
    "        for i, q in enumerate(tbl.columns)]\n",
    "\n",
    "tbl.columns = cols\n",
    "tbl['3-year'] = result.rolling(13).mean().iloc[-1].round(2)\n",
    "tbl['10-year'] = result.rolling(41).mean().iloc[-1].round(2)\n",
    "tbl['30-year'] = result.rolling(121).mean().iloc[-1].round(2)\n",
    "tbl.index = tbl.index.map(n)\n",
    "tbl = tbl.applymap('{:.2f}'.format)\n",
    "tbl.to_csv(data_dir / 'liabgr.tex', sep='&', lineterminator='\\\\\\ ', \n",
    "            quotechar=' ')"
   ]
  },
  {
   "cell_type": "code",
   "execution_count": null,
   "metadata": {},
   "outputs": [],
   "source": []
  },
  {
   "cell_type": "code",
   "execution_count": null,
   "metadata": {},
   "outputs": [],
   "source": []
  },
  {
   "cell_type": "markdown",
   "metadata": {},
   "source": [
    "### Wealth to GDP\n"
   ]
  },
  {
   "cell_type": "code",
   "execution_count": 10,
   "metadata": {
    "ExecuteTime": {
     "end_time": "2022-11-16T05:23:25.890549Z",
     "start_time": "2022-11-16T05:23:25.684374Z"
    }
   },
   "outputs": [],
   "source": [
    "url = ('https://www.federalreserve.gov/datadownload/Output.aspx?'+\n",
    "       'rel=Z1&series=2ce5701b67d5c62df54fe8fc8312f49c&lastobs=&'+\n",
    "       'from=03/01/1988&to=12/31/2022&filetype=csv&label=include&'+\n",
    "       'layout=seriescolumn')\n",
    "d, df = clean_fed_data(url)\n",
    "df.to_csv(data_dir / 'uswealth_raw.csv', index_label='date')"
   ]
  },
  {
   "cell_type": "code",
   "execution_count": 11,
   "metadata": {
    "ExecuteTime": {
     "end_time": "2022-11-16T05:23:25.985958Z",
     "start_time": "2022-11-16T05:23:25.896568Z"
    }
   },
   "outputs": [
    {
     "name": "stdout",
     "output_type": "stream",
     "text": [
      "US wealth totals \\$130.8 trillion in 2022 Q2, equivalent to \\$392,900 per capita, or a 5.18 multiple of GDP (518.1 percent of GDP.)\n",
      "The ratio of US wealth to GDP has increased 132.7 percentage points since 1989, driven largely by increases in the market value of corporate equities and residential real estate. The market value of corporate equities was equivalent to a 2.11 multiple of GDP in 2022 Q2, compared to 1.70 in 1999--2000, during the tech bubble, and to 0.60 in 1989 (see \\cbox{magenta!50!violet}). The market value of domestic residential real estate was equivalent to a 1.80 multiple of GDP in 2022 Q2, compared to 1.85 in 2005--2007, during the housing bubble, and 1.34 in 1989 (see \\cbox{green!80!blue}).\n",
      "\n",
      "On a net basis, all other US wealth is equivalent to a 1.26 multiple of GDP in 2022 Q2 and a 1.91 multiple in 1989 (see \\cbox{cyan!35!white}). The other category includes tangible assets of noncorporate businesses and governments, and domestic financial claims on foreign assets. The category also subtracts foreign financial claims on US assets, for example foreign holdings of US corporate equities and Treasury bonds.\n"
     ]
    }
   ],
   "source": [
    "df = pd.read_csv(data_dir / 'uswealth_raw.csv', index_col='date',\n",
    "                 parse_dates=True)\n",
    "d2 = {'FL264090005.Q': '\\hspace{5mm} Less: ROW Claims on US',\n",
    "      'FL882090265.Q': '\\hspace{2mm} Net Claims on ROW',\n",
    "      'FL892090005.Q': 'US Net Wealth',\n",
    "      'LM112010005.Q': 'nfncb',\n",
    "      'LM152010005.Q': '\\hspace{2mm} Households \\& Nonprofits',\n",
    "      'LM212010095.Q': '\\hspace{2mm} State \\& Local Government',\n",
    "      'LM315015005.Q': '\\hspace{2mm} Federal Government',\n",
    "      'LM662090003.Q': 'fncb',\n",
    "      'LM882010405.Q': '\\hspace{2mm} Domestic Corporations',\n",
    "      'FL264194005.Q': '\\hspace{5mm} US Claims on ROW',\n",
    "      'LM155035005.Q': 'Real Estate', \n",
    "      'LM883164105.Q': 'Corporate Equities'}\n",
    "data = df.rename(d2, axis=1)\n",
    "data['\\hspace{2mm} Noncorporate Businesses'] = data['nfncb'] + data['fncb']\n",
    "data['Other'] = (data['US Net Wealth'] - data['Real Estate']\n",
    "                 - data['Corporate Equities'])\n",
    "gdp = nipa_df(retrieve_table('T10105')['Data'], ['A191RC'])['A191RC']\n",
    "ro = ['US Net Wealth', '\\hspace{2mm} Households \\& Nonprofits', \n",
    "      '\\hspace{2mm} Noncorporate Businesses', \n",
    "      '\\hspace{2mm} Domestic Corporations', '\\hspace{2mm} Federal Government', \n",
    "      '\\hspace{2mm} State \\& Local Government', \n",
    "      '\\hspace{2mm} Net Claims on ROW', '\\hspace{5mm} US Claims on ROW', \n",
    "      '\\hspace{5mm} Less: ROW Claims on US']\n",
    "dsh = (data.div(gdp, axis=0) * 100).dropna()\n",
    "res = dsh.loc[:,ro]\n",
    "\n",
    "tbl = res.iloc[-3:].iloc[::-1].T\n",
    "tbl[res.index[-5]] = res.iloc[-5]\n",
    "cols = [f' {q.year} Q{q.quarter}' \n",
    "        if i == 0 else f'`{str(q.year)[2:]} Q{q.quarter}'\n",
    "        for i, q in enumerate(tbl.columns)]\n",
    "\n",
    "tbl.columns = cols\n",
    "tbl['2019'] = res.loc['2019'].mean()\n",
    "tbl['2005 --`07'] = res.loc['2005':'2007'].mean()\n",
    "tbl['1989'] = res.loc['1989'].mean()\n",
    "tbl = tbl.applymap('{:.1f}'.format)\n",
    "tbl.to_csv(data_dir / 'uswealth.tex', sep='&', lineterminator='\\\\\\ ', \n",
    "            quotechar=' ')\n",
    "\n",
    "# Text\n",
    "ltdt = dtxt(res.index[-1])['qtr1']\n",
    "pop = nipa_df(retrieve_table('T20100')['Data'], ['B230RC'])['B230RC']\n",
    "pc = (data['US Net Wealth'].divide(pop, axis=0)).dropna() * 1000\n",
    "pcv = f'\\${pc.iloc[-1].round(-2):,.0f}'\n",
    "ltval = data['US Net Wealth'].iloc[-1] / 1_000_000\n",
    "ltsh = res['US Net Wealth'].iloc[-1]\n",
    "\n",
    "text = (f'US wealth totals \\${ltval:.1f} trillion in {ltdt}, '+\n",
    "        f'equivalent to {pcv} per capita, or a {ltsh / 100:.2f} '+\n",
    "        f'multiple of GDP ({ltsh:.1f} percent of GDP.)')\n",
    "write_txt(text_dir / 'uswealth.txt', text)\n",
    "print(text)\n",
    "\n",
    "keep = ['Corporate Equities', 'Real Estate', 'Other', \n",
    "        'US Net Wealth']\n",
    "dft = dsh.loc['1989':, keep].divide(100)\n",
    "dft.to_csv(data_dir / 'wealthgdp.csv', index_label='date')\n",
    "tot = dft['US Net Wealth']\n",
    "ltval = tot.iloc[-1]\n",
    "t89 = tot.loc['1989'].mean()\n",
    "cht = value_text((ltval - t89) * 100, ptype='pp')\n",
    "ce = dft['Corporate Equities']\n",
    "ce89 = ce.loc['1989'].mean()\n",
    "ce99 = ce.loc['1999': '2000'].mean()\n",
    "rr = dft['Real Estate']\n",
    "rr89 = rr.loc['1989'].mean()\n",
    "rr05 = rr.loc['2005': '2007'].mean()\n",
    "ot = dft['Other']\n",
    "ot89 = ot.loc['1989'].mean()\n",
    "\n",
    "ceb = c_box('magenta!50!violet')\n",
    "reb = c_box('green!80!blue')\n",
    "otb = c_box('cyan!35!white')\n",
    "\n",
    "txt = (f'The ratio of US wealth to GDP has {cht} since 1989, driven '+\n",
    "       f'largely by increases in the market value of corporate '+\n",
    "       'equities and residential real estate. The market value of '+\n",
    "       f'corporate equities was equivalent to a {ce.iloc[-1]:.2f} '+\n",
    "       f'multiple of GDP in {ltdt}, compared to {ce99:.2f} in 1999--'+\n",
    "       f'2000, during the tech bubble, and to {ce89:.2f} in 1989 {ceb}. '+\n",
    "       f'The market value of domestic residential real estate was '+\n",
    "       f'equivalent to a {rr.iloc[-1]:.2f} multiple of GDP in {ltdt}, '+\n",
    "       f'compared to {rr05:.2f} in 2005--2007, during the housing bubble, '+\n",
    "       f'and {rr89:.2f} in 1989 {reb}.\\n\\nOn a net basis, all other US '+\n",
    "       f'wealth is equivalent to a {ot.iloc[-1]:.2f} multiple of GDP '+\n",
    "       f'in {ltdt} and a {ot89:.2f} multiple in 1989 {otb}. The other '+\n",
    "       'category includes tangible assets of noncorporate businesses and '+\n",
    "       'governments, and domestic financial claims on foreign assets. The '+\n",
    "       'category also subtracts foreign financial claims on US assets, '+\n",
    "       'for example foreign holdings of US corporate equities and '+\n",
    "       'Treasury bonds.')\n",
    "write_txt(text_dir / 'wealthgdp.txt', txt)\n",
    "print(txt)"
   ]
  },
  {
   "cell_type": "code",
   "execution_count": null,
   "metadata": {},
   "outputs": [],
   "source": []
  },
  {
   "cell_type": "code",
   "execution_count": null,
   "metadata": {},
   "outputs": [],
   "source": []
  },
  {
   "cell_type": "markdown",
   "metadata": {},
   "source": [
    "### Business Debt"
   ]
  },
  {
   "cell_type": "code",
   "execution_count": 12,
   "metadata": {
    "ExecuteTime": {
     "end_time": "2022-11-16T05:23:26.213411Z",
     "start_time": "2022-11-16T05:23:25.987156Z"
    }
   },
   "outputs": [],
   "source": [
    "base = 'https://www.federalreserve.gov/datadownload/Output.aspx?'\n",
    "srs = 'rel=Z1&series=d720788442f3511d102b43eee2bddb41&lastobs=&'\n",
    "dt = 'from=03/01/1988&to=12/31/2022&'\n",
    "oth = 'filetype=csv&label=include&layout=seriescolumn'\n",
    "url = base + srs + dt + oth\n",
    "\n",
    "d = {'FL104122005.Q': 'Debt Securities',\n",
    "     'FL143168005.Q': 'Bank Loans',\n",
    "     'FL143165005.Q': 'Mortgages',\n",
    "     'FL143169005.Q': 'Nonbank Loans',\n",
    "     'FL144104005.Q': 'Total',\n",
    "     'FL104104005.Q': 'Total Corporate',\n",
    "     'FL114123005.Q': 'Total Noncorporate',\n",
    "     'FL794122005.Q': 'Financial Debt Securities',\n",
    "     'FL794123005.Q': 'Financial Loans',\n",
    "     'FL794104005.Q': 'Financial Total',\n",
    "     'FL423161705.Q': 'Agency MBS'}\n",
    "\n",
    "r = requests.get(url)\n",
    "df = pd.read_csv(io.StringIO(r.content.decode('utf-8')), skiprows=5, index_col=0)[d.keys()].rename(d, axis=1)\n",
    "df.index = pd.to_datetime(df.index)\n",
    "df['Bank Loans and Mortgages'] = df['Bank Loans'] + df['Mortgages']\n",
    "df['Other'] = df['Financial Debt Securities'] - df['Agency MBS']\n",
    "\n",
    "data = (df.div(nipa_df(retrieve_table('T10105')['Data'], ['A191RC']\n",
    "               )['A191RC'], axis=0)).dropna() * 100\n",
    "data.loc['1989':].to_csv(data_dir / 'busdebtgdp2.csv', index_label='date', \n",
    "                         float_format='%g')"
   ]
  },
  {
   "cell_type": "code",
   "execution_count": 13,
   "metadata": {
    "ExecuteTime": {
     "end_time": "2022-11-16T05:23:26.219823Z",
     "start_time": "2022-11-16T05:23:26.214833Z"
    }
   },
   "outputs": [],
   "source": [
    "lt_date = f'{data.index[-1].year} Q{data.index[-1].quarter}'\n",
    "total = df['Total'].iloc[-1] / 1_000\n",
    "corp = df['Total Corporate'].iloc[-1] / 1_000\n",
    "corp_sh = corp / total * 100\n",
    "tot_gdp = data['Total'].iloc[-1]\n",
    "tot_gdp_3 = data['Total'].iloc[-13]\n",
    "\n",
    "date_3 = f'{data.index[-13].year} Q{data.index[-13].quarter}'\n",
    "tot_3 = tot_gdp - tot_gdp_3\n",
    "ds_3 = data['Debt Securities'].iloc[-1] - data['Debt Securities'].iloc[-13]\n",
    "nb_3 = data['Nonbank Loans'].iloc[-1] - data['Nonbank Loans'].iloc[-13]\n",
    "\n",
    "if tot_3 >= 1:\n",
    "    tot_text = 'increased faster than'\n",
    "    tot_text2 = 'increased'\n",
    "elif (tot_3 < 1) & (tot_3 >= -1):\n",
    "    tot_text = 'grown at about the same rate as'\n",
    "    tot_text2 = 'grew'\n",
    "else:\n",
    "    tot_text = 'fallen relative to'\n",
    "    tot_text2 = 'fell'\n",
    "    \n",
    "finmax = data['Financial Total'].max()\n",
    "finmaxdt = f'{data[\"Financial Total\"].idxmax().year} Q{data[\"Financial Total\"].idxmax().quarter}'\n",
    "finlt = data['Financial Total'].iloc[-1]"
   ]
  },
  {
   "cell_type": "code",
   "execution_count": 14,
   "metadata": {
    "ExecuteTime": {
     "end_time": "2022-11-16T05:23:26.228550Z",
     "start_time": "2022-11-16T05:23:26.221066Z"
    }
   },
   "outputs": [
    {
     "name": "stdout",
     "output_type": "stream",
     "text": [
      "As of 2022 Q2, \\textbf{nonfinancial business debt}--the debt security and loan liabilities of nonfinancial businesses--both corporate and non-corporate--totals \\$19,457 billion, with \\$12,560 billion (64.6 percent) held by corporate businesses. Over the past three years, nonfinancial business debt has increased faster than overall economic activity. As a share of GDP, nonfinancial business debt increased by 1.8 percentage points to 77.1 percent in 2022 Q2 from 75.3 percent in 2019 Q2. The vast majority of the increase, 2.0 percentage points, comes from nonbank loans (see\\cbox{{blue}}). \n",
      "\n",
      "Domestic financial sector debt has fallen as a share of GDP to 74.9 percent in 2022 Q2 from a housing-bubble peak of 122.7 percent in 2008 Q4.\n"
     ]
    }
   ],
   "source": [
    "busdebt = (f'As of {lt_date}, \\\\textbf{{nonfinancial business debt}}--the debt '+\n",
    "           'security and loan liabilities of nonfinancial businesses--both '+\n",
    "           f'corporate and non-corporate--totals \\${total:,.0f} billion, with '+\n",
    "           f'\\${corp:,.0f} billion ({corp_sh:,.1f} percent) held by corporate '+\n",
    "           'businesses. Over the past three years, nonfinancial business debt '+\n",
    "           f'has {tot_text} overall economic activity. As a share of GDP, '+\n",
    "           f'nonfinancial business debt {tot_text2} by {tot_3:.1f} percentage '+\n",
    "           f'points to {tot_gdp:.1f} percent in {lt_date} from {tot_gdp_3:.1f} '+\n",
    "           f'percent in {date_3}. The vast majority of the increase, {nb_3:.1f} '+\n",
    "           'percentage points, comes from nonbank loans (see\\\\cbox{{blue}}).')\n",
    "write_txt(text_dir / 'busdebtgdp.txt', busdebt)\n",
    "\n",
    "fintext = ('Domestic financial sector debt has fallen as a share of '+\n",
    "           f'GDP to {finlt:.1f} percent in {lt_date} from a housing-bubble '+\n",
    "           f'peak of {finmax:.1f} percent in {finmaxdt}.')\n",
    "write_txt(text_dir / 'findebtgdp.txt', fintext)\n",
    "print(busdebt, '\\n')\n",
    "print(fintext)"
   ]
  },
  {
   "cell_type": "code",
   "execution_count": null,
   "metadata": {},
   "outputs": [],
   "source": []
  },
  {
   "cell_type": "code",
   "execution_count": null,
   "metadata": {},
   "outputs": [],
   "source": []
  },
  {
   "cell_type": "markdown",
   "metadata": {},
   "source": [
    "### Business Assets"
   ]
  },
  {
   "cell_type": "code",
   "execution_count": 15,
   "metadata": {
    "ExecuteTime": {
     "end_time": "2022-11-16T05:23:26.451932Z",
     "start_time": "2022-11-16T05:23:26.229992Z"
    }
   },
   "outputs": [],
   "source": [
    "base = 'https://www.federalreserve.gov/datadownload/Output.aspx?'\n",
    "srs = 'rel=Z1&series=eaf7407a6299f192955e236fed258708&lastobs=&'\n",
    "dt = 'from=03/01/1988&to=12/31/2022&'\n",
    "oth = 'filetype=csv&label=include&layout=seriescolumn'\n",
    "url = base + srs + dt + oth\n",
    "\n",
    "d, df = clean_fed_data(url, dtype='full')\n",
    "pd.to_pickle(d,data_dir / 'bus_assets.pickle')\n",
    "df.columns = [c[:-2] for c in df.columns]\n",
    "df['Bus_A'] = df[['FL112000005', 'FL102000005']].sum(axis=1)\n",
    "df['Bus_FA'] = df[['FL114090005', 'FL104090005']].sum(axis=1)\n",
    "df['Bus_NFA'] =  df[['LM112010005', 'LM102010005']].sum(axis=1)\n",
    "df.to_csv(data_dir / 'bus_assets_raw.csv', index_label='date')"
   ]
  },
  {
   "cell_type": "code",
   "execution_count": 16,
   "metadata": {
    "ExecuteTime": {
     "end_time": "2022-11-16T05:23:26.492730Z",
     "start_time": "2022-11-16T05:23:26.454225Z"
    }
   },
   "outputs": [],
   "source": [
    "# Data as a share of GDP\n",
    "df = pd.read_csv(data_dir / 'bus_assets_raw.csv', index_col='date', \n",
    "                 parse_dates=True)\n",
    "sh = (df.div(nipa_df(retrieve_table('T10105')['Data'], ['A191RC']\n",
    "                    )['A191RC'], axis=0)).dropna().loc['1989':] * 100\n",
    "sh.loc['1989':].to_csv(data_dir / 'bus_asset_sh.csv', index_label='date')\n",
    "#d = pd.read_pickle(data_dir / 'bus_assets.pickle')"
   ]
  },
  {
   "cell_type": "code",
   "execution_count": 17,
   "metadata": {
    "ExecuteTime": {
     "end_time": "2022-11-16T05:23:26.499878Z",
     "start_time": "2022-11-16T05:23:26.494119Z"
    }
   },
   "outputs": [],
   "source": [
    "# Nodes for latest values\n",
    "s = {'LM112010005': 'noncorporate nonfinancial',\n",
    "     'FL114090005': 'noncorporate financial',\n",
    "     'LM102010005': 'corporate nonfinancial',\n",
    "     'FL104090005': 'corporate financial'}\n",
    "sdf = sh[s.keys()].iloc[-1]\n",
    "height = ((sdf.cumsum() - (sdf / 2) + 15)).to_dict()\n",
    "val = sdf.to_dict()\n",
    "dtp = dtxt(sh.index[-1] + pd.DateOffset(months=2))['datetime']\n",
    "nodes = [f'\\\\absnode{{{{{dtp}}}}}{{{height[i]}}}{{\\scriptsize {val[i]:.1f}}}' \n",
    "         for i in s.keys()]\n",
    "dtv = dtxt(sh.index[-1])['qtr1'].replace(' ', '\\\\\\\\ \\scriptsize ')\n",
    "dtn = f'\\\\absnode{{{{{dtp}}}}}{{{sdf.cumsum().iloc[-1] + 25.0}}}{{\\scriptsize {dtv}:}}'\n",
    "nodes.append(dtn)\n",
    "nodetext = '\\n'.join(nodes)\n",
    "write_txt(text_dir / 'bus_asset_nodes.txt', nodetext)"
   ]
  },
  {
   "cell_type": "code",
   "execution_count": 18,
   "metadata": {
    "ExecuteTime": {
     "end_time": "2022-11-16T05:23:26.540816Z",
     "start_time": "2022-11-16T05:23:26.501179Z"
    }
   },
   "outputs": [
    {
     "name": "stdout",
     "output_type": "stream",
     "text": [
      "Combined \\textbf{assets of nonfinancial businesses} are valued at \\$80.7 trillion in the second quarter of 2022, equivalent to 319.6 percent of GDP. These include financial assets and nonfinancial assets. Financial assets include cash and deposits, equity in other businesses, trade receivables, and other financial assets, and total \\$32.4 trillion. Nonfinancial, or tangible, assets include real estate, equipment, inventories, and intellectual property products, and total \\$48.2 trillion.\n",
      "\n",
      "Nonfinancial corporations have assets valued at \\$54.8 trillion, or 217.0 percent of GDP. These include nonfinancial assets (see \\cbox{green!52!blue!55!white}) valued at 115.9 percent of GDP and financial assets (see \\cbox{green!70!yellow!70!lightgray!90!white}) valued at 101.0 percent, as of 2022 Q2. Noncorporate business assets are valued at \\$25.9 trillion, equivalent to 102.6 percent of GDP. Tangible assets (see \\cbox{orange!50!red!45!white}) are equivalent to 75.2 percent of GDP, and include \\$10.6 trillion in rental housing. Financial assets for the sector (see \\cbox{orange!55!red}) are equivalent to 27.5 percent of GDP.\n"
     ]
    }
   ],
   "source": [
    "colors = {'LM112010005': 'orange!50!red!45!white',\n",
    "          'FL114090005': 'orange!55!red',\n",
    "          'LM102010005': 'green!52!blue!55!white',\n",
    "          'FL104090005': 'green!70!yellow!70!lightgray!90!white'}\n",
    "cb = {i: c_box(c) for i, c in colors.items()}\n",
    "cb2 = {i: c_box(c, see=False) for i, c in colors.items()}\n",
    "\n",
    "dft = df.divide(1_000_000).applymap('\\${:.1f} trillion'.format)\n",
    "sht = sh.applymap(lambda x: value_text(x, 'eq', adj='gdp'))\n",
    "sht2 = sh.applymap(lambda x: value_text(x, 'eq'))\n",
    "sht3 = sh.applymap(lambda x: value_text(x, 'plain'))\n",
    "ltdt = dtxt(sh.index[-1])['qtr1']\n",
    "ltdt2 = dtxt(sh.index[-1])['qtr2']\n",
    "\n",
    "text = ('Combined \\\\textbf{assets of nonfinancial businesses} are valued '+\n",
    "        f'at {dft.Bus_A.iloc[-1]} in {ltdt2}, {sht.Bus_A.iloc[-1]}. These '+\n",
    "        'include financial assets and nonfinancial assets. Financial assets '+\n",
    "        'include cash and deposits, equity in other businesses, trade '+\n",
    "        f'receivables, and other financial assets, and total {dft.Bus_FA.iloc[-1]}. '+\n",
    "        'Nonfinancial, or tangible, assets include real '+\n",
    "        'estate, equipment, inventories, and intellectual property '+\n",
    "        f'products, and total {dft.Bus_NFA.iloc[-1]}.\\n\\nNonfinancial '+\n",
    "        f'corporations have assets valued at {dft.FL102000005.iloc[-1]}, or '+\n",
    "        f'{sht3.FL102000005.iloc[-1]} of GDP. These include nonfinancial assets '+\n",
    "        f'{cb[\"LM102010005\"]} valued at {sht3.LM102010005.iloc[-1]} of GDP and '+\n",
    "        f'financial assets {cb[\"FL104090005\"]} valued at '+\n",
    "        f'{sht3.FL104090005.iloc[-1]}, as of {ltdt}. Noncorporate '+\n",
    "        f'business assets are valued at {dft.FL112000005.iloc[-1]}, '+\n",
    "        f'{sht.FL112000005.iloc[-1]}. Tangible assets {cb[\"LM112010005\"]} are '+\n",
    "        f'{sht.LM112010005.iloc[-1]}, and include {dft.LM115035023.iloc[-1]} '+\n",
    "        f'in rental housing. Financial assets for the sector {cb[\"FL114090005\"]} '+\n",
    "        f'are {sht.FL114090005.iloc[-1]}.')\n",
    "write_txt(text_dir / 'bus_assets.txt', text)\n",
    "print(text)"
   ]
  },
  {
   "cell_type": "code",
   "execution_count": 19,
   "metadata": {
    "ExecuteTime": {
     "end_time": "2022-11-16T05:23:26.553617Z",
     "start_time": "2022-11-16T05:23:26.542066Z"
    }
   },
   "outputs": [],
   "source": [
    "n = {'FL102000005': 'Corporate Total',\n",
    "     'LM102010005': f'\\hspace{{2mm}}Nonfinancial Assets  {cb2[\"LM102010005\"]}',\n",
    "     'LM105035005': '\\hspace{4mm}Real Estate',\n",
    "     'LM105015205': '\\hspace{4mm}Equipment',\n",
    "     'LM105013765': '\\hspace{4mm}IP Products',\n",
    "     'LM105020005': '\\hspace{4mm}Inventories',\n",
    "     'FL104090005': f'\\hspace{{2mm}}Financial Assets  {cb2[\"FL104090005\"]}',\n",
    "     'FL112000005': 'Noncorporate Total',\n",
    "     'LM112010005': f'\\hspace{{2mm}}Nonfinancial Assets  {cb2[\"LM112010005\"]}',\n",
    "     'LM115035005': '\\hspace{4mm}Real Estate',\n",
    "     'LM115035023': '\\hspace{6mm}Residential',\n",
    "     'LM115015205': '\\hspace{4mm}Equipment',\n",
    "     'LM115013765': '\\hspace{4mm}IP Products',\n",
    "     'LM115020005': '\\hspace{4mm}Inventories',\n",
    "     'FL114090005': f'\\hspace{{2mm}}Financial Assets  {cb2[\"FL114090005\"]}',}\n",
    "\n",
    "result = sh[n.keys()]\n",
    "lt = result.iloc[-3:].iloc[::-1]\n",
    "pryr = result.iloc[-5].to_frame().T\n",
    "pc = result.loc['2019-10-01'].to_frame().T\n",
    "tbl = pd.concat([lt, pryr, pc]).T\n",
    "cols = [f' {q.year} Q{q.quarter}' \n",
    "        if i == 0 else f'`{str(q.year)[2:]} Q{q.quarter}'\n",
    "        for i, q in enumerate(tbl.columns)]\n",
    "\n",
    "tbl.columns = cols\n",
    "comp_years = ['2010', '1989']\n",
    "for cy in comp_years:\n",
    "    tbl[cy] = result.loc[cy].mean().rename(cy)\n",
    "tbl = tbl.rename(n).applymap('{:.1f}'.format)\n",
    "tbl.to_csv(data_dir / 'bus_asset.tex', sep='&', lineterminator='\\\\\\ ', \n",
    "            quotechar=' ')"
   ]
  },
  {
   "cell_type": "code",
   "execution_count": null,
   "metadata": {},
   "outputs": [],
   "source": []
  },
  {
   "cell_type": "code",
   "execution_count": null,
   "metadata": {},
   "outputs": [],
   "source": []
  },
  {
   "cell_type": "markdown",
   "metadata": {},
   "source": [
    "### Tobin's Q"
   ]
  },
  {
   "cell_type": "code",
   "execution_count": 20,
   "metadata": {
    "ExecuteTime": {
     "end_time": "2022-11-16T05:23:26.564693Z",
     "start_time": "2022-11-16T05:23:26.554852Z"
    }
   },
   "outputs": [
    {
     "name": "stdout",
     "output_type": "stream",
     "text": [
      "As of 2022 Q2, the ratio is 159.9 (see {\\color{green!70!black}\\textbf{---}}), following 192.9 in 2022 Q1, and compared to an average of 165.1 in 2019.\n"
     ]
    }
   ],
   "source": [
    "# Tobin's Q\n",
    "color = 'green!70!black'\n",
    "s = df.loc['1989':, 'FL103164106']\n",
    "s.name = 'value'\n",
    "s.to_csv(data_dir / 'tobinq.csv', index_label='date')\n",
    "write_txt(text_dir / 'tobinq_node.txt', \n",
    "          end_node(s, color, date='q'))\n",
    "\n",
    "ltdt = dtxt(s.index[-1])['qtr1']\n",
    "prdt = dtxt(s.index[-2])['qtr1']\n",
    "pcval = s.loc['2019'].mean()\n",
    "text = (f'As of {ltdt}, the ratio is {s[-1]:.1f} {c_line(color)}, '+\n",
    "        f'following {s[-2]:.1f} in {prdt}, and compared to an average '+\n",
    "        f'of {pcval:.1f} in 2019.')\n",
    "write_txt(text_dir / 'tobinq.txt', text)\n",
    "print(text)"
   ]
  },
  {
   "cell_type": "code",
   "execution_count": null,
   "metadata": {},
   "outputs": [],
   "source": []
  },
  {
   "cell_type": "code",
   "execution_count": null,
   "metadata": {},
   "outputs": [],
   "source": []
  },
  {
   "cell_type": "markdown",
   "metadata": {},
   "source": [
    "### Household debt"
   ]
  },
  {
   "cell_type": "code",
   "execution_count": 21,
   "metadata": {
    "ExecuteTime": {
     "end_time": "2022-11-16T05:23:26.825219Z",
     "start_time": "2022-11-16T05:23:26.565901Z"
    }
   },
   "outputs": [],
   "source": [
    "base = 'https://www.federalreserve.gov/datadownload/Output.aspx?'\n",
    "srs = 'rel=Z1&series=21a69f49792f26a66791418647f75234&lastobs=&'\n",
    "dt = 'from=03/01/1988&to=12/31/2022&'\n",
    "oth = 'filetype=csv&label=include&layout=seriescolumn'\n",
    "url = base + srs + dt + oth\n",
    "\n",
    "d = {'FL153165105.Q': 'Mortgages',\n",
    "     'FL153166000.Q': 'Consumer Credit',\n",
    "     'FL154190005.Q': 'Total'}\n",
    "r = requests.get(url)\n",
    "df = (pd.read_csv(io.StringIO(r.content.decode('utf-8')), skiprows=5, \n",
    "                  index_col=0, parse_dates=True)[d.keys()]\n",
    "        .rename(d, axis=1).divide(1000))\n",
    "df['Other'] = df['Total'] - df['Consumer Credit'] - df['Mortgages']\n",
    "table_store_fa = df.divide(1000)\n",
    "dpi = nipa_df(retrieve_table('T20100')['Data'], ['A067RC'])['A067RC']\n",
    "data = (df.div(dpi, axis=0)).dropna() * 100_000\n",
    "data.loc['1989':].to_csv(data_dir / 'hhdebt.csv', index_label='date')\n",
    "table_store_fa_dpi = data"
   ]
  },
  {
   "cell_type": "code",
   "execution_count": 22,
   "metadata": {
    "ExecuteTime": {
     "end_time": "2022-11-16T05:23:26.834537Z",
     "start_time": "2022-11-16T05:23:26.826528Z"
    }
   },
   "outputs": [
    {
     "name": "stdout",
     "output_type": "stream",
     "text": [
      "The liabilities of households and nonprofit institutions total \\$18.9 trillion in 2022 Q2, as \\href{https://www.federalreserve.gov/releases/z1/current/default.htm}{reported} by the Federal Reserve. Home mortgages are the main household liability, and total \\$12.2 trillion (see\\cbox{blue!60!violet}). Consumer credit liabilities include auto loans, credit card debt, student loans, and other personal loans, and total \\$4.6 trillion (see\\cbox{magenta}). The remaining liabilities are primarily attributable to nonprofits (see\\cbox{orange!80!yellow}). \n",
      "\n",
      " The ratio of household and nonprofit debt to disposable personal income has fallen to 102.7 percent in 2022 Q2 from its housing-bubble peak of 136.6 percent in 2007 Q4. Over the past three years, household and nonprofit debt has increased 17.0 percent while disposable personal income has increased 13.6 percent. As a result, the ratio of household and nonprofit debt to disposable personal income has increased by 3.4 percentage points.\n"
     ]
    }
   ],
   "source": [
    "date = dtxt(data.index[-1])['qtr1']\n",
    "maxdate = dtxt(data.Total.idxmax())['qtr1']\n",
    "\n",
    "totval = (df['Total'].iloc[-1] / 1000)\n",
    "mortval = (df['Mortgages'].iloc[-1] / 1000)\n",
    "mortsh = mortval / totval * 100\n",
    "ccval = (df['Consumer Credit'].iloc[-1] / 1000)\n",
    "ccsh = ccval / totval * 100\n",
    "totrt = data['Total'].iloc[-1]\n",
    "maxrt = data['Total'].max()\n",
    "dpi3 = dpi.pct_change(12).iloc[-1] * 100\n",
    "rt3 = df.Total.pct_change(12).iloc[-1] * 100\n",
    "ch3 = data.Total.diff(12).iloc[-1]  \n",
    "ch3txt = (value_text(ch3, style='increase_by', ptype='pp', threshold=0.3)\n",
    "          .replace('decreased', 'fallen').replace('was', 'been'))\n",
    "url = 'https://www.federalreserve.gov/releases/z1/current/default.htm'  \n",
    "text1 = ('The liabilities of households and nonprofit institutions '+\n",
    "         f'total \\${totval:,.1f} trillion in {date}, as '+\n",
    "         f'\\href{{{url}}}{{reported}} by the Federal Reserve. Home mortgages are the '+\n",
    "         f'main household liability, and total \\${mortval:,.1f} trillion '+\n",
    "         '(see\\cbox{blue!60!violet}). Consumer credit liabilities include auto '+\n",
    "         'loans, credit card debt, student loans, and other personal loans, and '+\n",
    "         f'total \\${ccval:,.1f} trillion (see\\cbox{{magenta}}). The '+\n",
    "         'remaining liabilities are primarily attributable to nonprofits '+\n",
    "         '(see\\cbox{orange!80!yellow}).')\n",
    "\n",
    "text2 = ('The ratio of household and nonprofit debt to disposable personal '+\n",
    "         f'income has fallen to {totrt:.1f} percent in {date} from its '+\n",
    "         f'housing-bubble peak of {maxrt:.1f} percent in {maxdate}. Over '+\n",
    "         'the past three years, household and nonprofit debt has '+\n",
    "         f'{value_text(rt3, threshold=0.4)} while disposable personal '+\n",
    "         f'income has {value_text(dpi3, threshold=0.4)}. As a result, the '+\n",
    "         'ratio of household and nonprofit debt to disposable personal income '+\n",
    "         f'has {ch3txt}.')\n",
    "write_txt(text_dir / 'hhdebt1.txt', text1)    \n",
    "write_txt(text_dir / 'hhdebt2.txt', text2)\n",
    "print(text1, '\\n\\n', text2)"
   ]
  },
  {
   "cell_type": "code",
   "execution_count": null,
   "metadata": {},
   "outputs": [],
   "source": []
  },
  {
   "cell_type": "code",
   "execution_count": null,
   "metadata": {},
   "outputs": [],
   "source": []
  },
  {
   "cell_type": "markdown",
   "metadata": {},
   "source": [
    "### Consumer Credit"
   ]
  },
  {
   "cell_type": "code",
   "execution_count": 23,
   "metadata": {
    "ExecuteTime": {
     "end_time": "2022-11-16T05:23:28.423061Z",
     "start_time": "2022-11-16T05:23:26.835737Z"
    }
   },
   "outputs": [],
   "source": [
    "if os.path.exists(data_dir / 'ccp_hist.csv'):\n",
    "    h = pd.read_csv(data_dir / 'ccp_hist.csv', index_col='date', \n",
    "                    parse_dates=True)\n",
    "else:\n",
    "    # Historical data\n",
    "    print('Retrieving historical data')\n",
    "    url = ('https://www.newyorkfed.org/medialibrary/media/research/'+\n",
    "           'national_economy/householdcredit/pre2003_data.xlsx')\n",
    "    h = pd.read_excel(url, sheet_name='Total Balance Data', skiprows=2, \n",
    "                      nrows=6, usecols='A:S', index_col=0).dropna(axis=1).T\n",
    "    h.index = pd.date_range(start='1999-01-01', end='2002-10-01', freq='QS')\n",
    "    h.to_csv(data_dir / 'ccp_hist.csv', index_label='date')\n",
    "    \n",
    "# Download latest data    \n",
    "d1 = pd.to_datetime('today') - pd.DateOffset(weeks=7)\n",
    "dt1 = f'{d1.year}q{d1.quarter}.xlsx'\n",
    "d2 = pd.to_datetime('today') - pd.DateOffset(weeks=20)\n",
    "dt2 = f'{d2.year}q{d2.quarter}.xlsx'\n",
    "\n",
    "def retrieve_frbny_data(dt):\n",
    "    url = ('https://www.newyorkfed.org/medialibrary/interactives/'+\n",
    "           f'householdcredit/data/xls/hhd_c_report_')\n",
    "    return pd.read_excel(url+dt, sheet_name='Page 3 Data', \n",
    "                         header=3, index_col=0)\n",
    "\n",
    "try:\n",
    "    df = retrieve_frbny_data(dt1)\n",
    "except ValueError:\n",
    "    df = retrieve_frbny_data(dt2)\n",
    "    print(f'{dt1} Not available. Using {dt2} instead.')\n",
    "df.index = [pd.to_datetime(f'20{x.replace(\":\", \"-\")}') for x in df.index]\n",
    "df = df.dropna(axis=1)  \n",
    "data = pd.concat([h, df])\n",
    "data['Mortgage Total'] = data['Mortgage'] + data['HE Revolving']\n",
    "data['Consumer Credit'] = data['Total'] - data['Mortgage Total']\n",
    "data.to_csv(data_dir / 'hhccpdebt.csv', index_label='date')"
   ]
  },
  {
   "cell_type": "code",
   "execution_count": 24,
   "metadata": {
    "ExecuteTime": {
     "end_time": "2022-11-16T05:23:28.464525Z",
     "start_time": "2022-11-16T05:23:28.424223Z"
    }
   },
   "outputs": [
    {
     "name": "stdout",
     "output_type": "stream",
     "text": [
      "The latest comparable figure from the FRBNY data discussed in the previous section, which covers 2022 Q3, shows consumer credit is equivalent to 24.1 percent of annual disposable personal income (see {\\color{lime!55!green}\\textbf{---}}). Over the past year, the ratio increased by a total of 0.9 percentage point.\n"
     ]
    }
   ],
   "source": [
    "data = pd.read_csv(data_dir / 'hhccpdebt.csv', index_col='date', \n",
    "                    parse_dates=True)\n",
    "dpi = (nipa_df(retrieve_table('T20100')['Data'], ['A067RC'])\n",
    "       .A067RC  / 1_000_000)\n",
    "sh = (data.div(dpi, axis=0)).dropna(how='all') * 100\n",
    "sh.loc['1999':].to_csv(data_dir / 'hhcdebt.csv', index_label='date')\n",
    "ltdate = dtxt(sh.index[-1])['qtr1']\n",
    "ltval = sh['Consumer Credit'].iloc[-1]\n",
    "one_yr_diff = value_text(sh['Consumer Credit'].diff(4).iloc[-1], \n",
    "                         adj='total', ptype='pp')\n",
    "cl = c_line('lime!55!green')\n",
    "text = ('The latest comparable figure from the FRBNY data discussed in the '+\n",
    "        f'previous section, which covers {ltdate}, shows consumer credit '+\n",
    "        f'is equivalent to {ltval:.1f} percent of annual disposable '+\n",
    "        f'personal income {cl}. Over the past year, the ratio {one_yr_diff}.')\n",
    "write_txt(text_dir / 'cc_dpi_2.txt', text)\n",
    "print(text)\n",
    "\n",
    "st = end_node(sh['Student Loan'], 'green!80!blue', date='q', \n",
    "              full_year=True, offset=0.35, percent=True)\n",
    "au = end_node(sh['Auto Loan'], 'blue!60!cyan', percent=True)\n",
    "cc = end_node(sh['Credit Card'], 'red', percent=True)\n",
    "nodes = '\\n'.join([st, au, cc])\n",
    "write_txt(text_dir / 'cc_nodes.txt', nodes)\n",
    "\n",
    "c = [('Mortgage', 'gray'), ('HE Revolving', 'gray'), \n",
    "     ('Auto Loan', 'blue!60!cyan'), ('Credit Card', 'red'), \n",
    "     ('Student Loan', 'green!80!blue'), ('Total', 'gray')]\n",
    "yr3ch = sh.diff(12).iloc[-1].sort_values(ascending=True)\n",
    "d = dtxt(sh.index[-1])\n",
    "d3 = dtxt(sh.index[-13])['qtr1']\n",
    "cc_dates = d3 + '--' + d['qtr4']\n",
    "write_txt(text_dir / 'cc_dates.txt', cc_dates)\n",
    "\n",
    "bar = pd.DataFrame({'color': pd.Series({name: color for name, color in c}), \n",
    "                    'value': yr3ch}).dropna().sort_values('value')\n",
    "bar.index.name = 'name'\n",
    "bar.to_csv(data_dir / 'ccdebtbar.csv', index_label='name')"
   ]
  },
  {
   "cell_type": "code",
   "execution_count": 25,
   "metadata": {
    "ExecuteTime": {
     "end_time": "2022-11-16T05:23:28.470778Z",
     "start_time": "2022-11-16T05:23:28.465795Z"
    }
   },
   "outputs": [
    {
     "name": "stdout",
     "output_type": "stream",
     "text": [
      "Federal Reserve Bank of New York (FRBNY) \\href{https://www.newyorkfed.org/microeconomics/hhdc/background.html}{analysis} of Equifax data shows \\$16.5 trillion in total consumer debt in the third quarter of 2022, which is equivalent to 88.3 percent of disposable personal income. Over the past three years, total consumer debt has increased by \\$2.55 trillion, compared to an increase of \\$2.24 trillion in disposable personal income. As a result, the ratio of total consumer debt to disposable personal income increased 3.5 percentage points over this period.\n"
     ]
    }
   ],
   "source": [
    "# Consumer credit text\n",
    "totval = data['Total'].iloc[-1]\n",
    "totval2 = sh['Total'].iloc[-1]\n",
    "totvalch = data['Total'].diff(12).iloc[-1]\n",
    "tvdir = value_text(totvalch, 'increase_by', ptype='trillion', \n",
    "                   dollar=True, threshold=0.1, digits=2)\n",
    "dpich = dpi.diff(12).iloc[-1]\n",
    "dpidir = value_text(dpich, 'increase_of', ptype='trillion', \n",
    "                   dollar=True, threshold=0.1, digits=2)    \n",
    "totvalch2 = sh['Total'].diff(12).iloc[-1]\n",
    "tvdir2 = value_text(totvalch2, ptype='pp', threshold=0.1)\n",
    "url = 'https://www.newyorkfed.org/microeconomics/hhdc/background.html'\n",
    "txt = (f'Federal Reserve Bank of New York (FRBNY) \\href{{{url}}}{{analysis}} '+\n",
    "       f'of Equifax data shows \\\\${totval:.1f} trillion in total consumer '+\n",
    "       f'debt in {d[\"qtr2\"]}, which is equivalent to {totval2:.1f} percent '+\n",
    "       f'of disposable personal income. Over the past three years, total '+\n",
    "       f'consumer debt has {tvdir}, compared to {dpidir} in disposable personal '+\n",
    "       f'income. As a result, the ratio of total consumer debt to disposable '+\n",
    "       f'personal income {tvdir2} over this period.')\n",
    "write_txt(text_dir / 'hhcdebt3.txt', txt)\n",
    "print(txt)"
   ]
  },
  {
   "cell_type": "code",
   "execution_count": 26,
   "metadata": {
    "ExecuteTime": {
     "end_time": "2022-11-16T05:23:28.480939Z",
     "start_time": "2022-11-16T05:23:28.471945Z"
    }
   },
   "outputs": [
    {
     "name": "stdout",
     "output_type": "stream",
     "text": [
      "The FRBNY data show mortgage debt, including home equity lines of credit, totals \\$11.99 trillion in the third quarter of 2022, equivalent to 64.1 percent of disposable personal income. Student loans total \\$1,574 billion, or 8.4 percent of income; auto loans total \\$1,524 billion (8.2 percent of income); and credit card debt is \\$925 billion (4.9 percent of income). \n",
      "\n",
      "Over the past three years, the ratio of total mortgage debt to disposable personal income grew by 4.4 percentage points, compared to a decrease of 0.7 percentage point for student loans, an increase of 0.2 percentage point for auto loans, and a decrease of 0.4 percentage point for credit card debt.\n"
     ]
    }
   ],
   "source": [
    "tot, shr, gr = {}, {}, {}\n",
    "for series in ['Mortgage Total', 'Auto Loan', 'Student Loan', 'Credit Card']:\n",
    "    tot[series] = data[series].iloc[-1] * 1000\n",
    "    shr[series] = sh[series].iloc[-1]\n",
    "    grtmp = (sh[series].diff(12)).iloc[-1]\n",
    "    casual = True if series == 'Mortgage Total' else False\n",
    "    style = 'increase_of' if series != 'Mortgage Total' else 'increase_by'\n",
    "    gr[series] = value_text(grtmp, style, ptype='pp', \n",
    "                            threshold=0.1, casual=casual)\n",
    "        \n",
    "mgr = sh['Mortgage Total'].diff(12).iloc[-1]        \n",
    "#gr['Mortgage Total'] = f'fell by {abs(mgr):.1f} percentage points'\n",
    "\n",
    "txt3 = ('The FRBNY data show mortgage debt, including home '+\n",
    "        f'equity lines of credit, totals \\${tot[\"Mortgage Total\"] / 1_000:,.2f} '+\n",
    "        f'trillion in {d[\"qtr2\"]}, equivalent to {shr[\"Mortgage Total\"]:.1f} '+\n",
    "        f'percent of disposable personal income. Student loans '+\n",
    "        f'total \\${tot[\"Student Loan\"]:,.0f} billion, or '+\n",
    "        f'{shr[\"Student Loan\"]:.1f} percent of income; auto loans total '+\n",
    "        f'\\${tot[\"Auto Loan\"]:,.0f} billion ({shr[\"Auto Loan\"]:.1f} percent '+\n",
    "        f'of income); and credit card debt is \\${tot[\"Credit Card\"]:,.0f} '+\n",
    "        f'billion ({shr[\"Credit Card\"]:.1f} percent of income).' )\n",
    "write_txt(text_dir / 'hhcdebt4.txt', txt3)\n",
    "print(txt3, '\\n')\n",
    "txt4 = ('Over the past three years, the ratio of total mortgage debt to '+\n",
    "        f'disposable personal income {gr[\"Mortgage Total\"]}, compared to '+\n",
    "        f'{gr[\"Student Loan\"]} for student loans, '+\n",
    "        f'{gr[\"Auto Loan\"]} for auto loans, and '+\n",
    "        f'{gr[\"Credit Card\"]} for credit card debt.')\n",
    "write_txt(text_dir / 'hhcdebt5.txt', txt4)\n",
    "print(txt4)"
   ]
  },
  {
   "cell_type": "code",
   "execution_count": 35,
   "metadata": {
    "ExecuteTime": {
     "end_time": "2022-11-16T05:26:29.963785Z",
     "start_time": "2022-11-16T05:26:29.935746Z"
    }
   },
   "outputs": [],
   "source": [
    "# Household debt and consumer credit table\n",
    "dtlt = pd.to_datetime(data.index[-1])\n",
    "dt2 = pd.to_datetime(data.index[-2])\n",
    "dt3y = pd.to_datetime(data.index[-13])\n",
    "dt13 = pd.to_datetime('2013-01-01')\n",
    "dt03 = pd.to_datetime('2003-01-01')\n",
    "\n",
    "dts = [dtlt, dt2]\n",
    "dts2 = [dtlt, dt2, dt3y, dt13, dt03]\n",
    "\n",
    "for x in [data, sh]:\n",
    "    x['Mortgage Total'] = x['Mortgage'] + x['HE Revolving']\n",
    "    x['Non-Mortgage Total'] = (x['Auto Loan'] + x['Credit Card'] \n",
    "                               + x['Student Loan'] + x['Other'])\n",
    "\n",
    "# Attempt to handle CCP coming out first\n",
    "for x in [table_store_fa, table_store_fa_dpi]:\n",
    "    if dtlt not in x.index:\n",
    "        x.loc[dtlt, :] = '--'\n",
    "\n",
    "d1 = {'Total': 'Financial Accounts Total',\n",
    "      'Mortgages': '\\hspace{2mm} \\cbox{blue!60!violet} Mortgage Debt Total',\n",
    "      'Consumer Credit': '\\hspace{2mm} \\cbox{magenta} Consumer Credit',\n",
    "      'Other': '\\hspace{2mm} \\cbox{orange!80!yellow} Other'}\n",
    "\n",
    "d2 = {'Total': 'Consumer Credit Panel Total',\n",
    "      'Mortgage Total': '\\hspace{2mm} Mortgage Debt Total',\n",
    "      'Mortgage': '\\hspace{4mm} Mortgage',\n",
    "      'HE Revolving': '\\hspace{4mm} Home Equity Revolving',\n",
    "      'Non-Mortgage Total': '\\hspace{2mm} Consumer Credit',\n",
    "      'Auto Loan': '\\hspace{4mm} \\cbox{blue!60!cyan} Auto Loan',\n",
    "      'Credit Card': '\\hspace{4mm} \\cbox{red} Credit Card',\n",
    "      'Student Loan': '\\hspace{4mm} \\cbox{green!80!blue} Student Loan',\n",
    "      'Other': '\\hspace{4mm} Other'}\n",
    "\n",
    "final = pd.DataFrame()\n",
    "\n",
    "for dt in dts:\n",
    "    dtmp = f'{dt.year} Q{dt.quarter}'\n",
    "    for srs in [table_store_fa]:\n",
    "        for k, v in d1.items():\n",
    "            if srs.loc[dt, k] != '--':\n",
    "                final.at[v, dtmp] = f'\\${srs.loc[dt, k]:.2f}T'\n",
    "            else: final.at[v, dtmp] = srs.loc[dt, k]\n",
    "    for srs in [data]:\n",
    "        for k, v in d2.items():            \n",
    "            final.at[v, dtmp] = f'\\${srs.loc[dt, k]:.2f}T' \n",
    "            \n",
    "for dt in dts2:\n",
    "    dtmp = f'`{str(dt.year)[2:]} Q{dt.quarter}'\n",
    "    for srs in [table_store_fa_dpi]:\n",
    "        for k, v in d1.items():\n",
    "            if srs.loc[dt, k] != '--':\n",
    "                final.at[v, dtmp] = round(srs.loc[dt, k], 1)\n",
    "            else: \n",
    "                final.at[v, dtmp] = srs.loc[dt, k]\n",
    "    for srs in [sh]:\n",
    "        for k, v in d2.items():\n",
    "            final.at[v, dtmp] = round(srs.loc[dt, k], 1)\n",
    "            \n",
    "final.to_csv(data_dir / 'hhcdebt.tex', sep='&', \n",
    "             lineterminator='\\\\\\ ', quotechar=' ')"
   ]
  },
  {
   "cell_type": "code",
   "execution_count": null,
   "metadata": {},
   "outputs": [],
   "source": []
  },
  {
   "cell_type": "markdown",
   "metadata": {},
   "source": [
    "### Income as return on total HH assets"
   ]
  },
  {
   "cell_type": "code",
   "execution_count": 36,
   "metadata": {
    "ExecuteTime": {
     "end_time": "2022-11-16T05:26:34.448518Z",
     "start_time": "2022-11-16T05:26:34.220994Z"
    }
   },
   "outputs": [
    {
     "name": "stdout",
     "output_type": "stream",
     "text": [
      "In 2022 Q2, disposable income is equivalent to 11.3 percent of the market value of US assets (see {\\color{red}\\textbf{---}}), compared to an average of 16.0 percent during the 1990s.\n"
     ]
    }
   ],
   "source": [
    "base = 'https://www.federalreserve.gov/datadownload/Output.aspx?'\n",
    "srs = 'rel=Z1&series=906ccd6e7fcae1e4f20ac00b86ade272&lastobs=&'\n",
    "dt = 'from=03/01/1988&to=12/31/2022&'\n",
    "oth = 'filetype=csv&label=include&layout=seriescolumn'\n",
    "url = base + srs + dt + oth\n",
    "\n",
    "d = {'LM152010005.Q': 'Nonfinancial',\n",
    "     'FL154090005.Q': 'Financial'}\n",
    "\n",
    "r = requests.get(url)\n",
    "df = pd.read_csv(io.StringIO(r.content.decode('utf-8')), skiprows=5, \n",
    "                 index_col=0, parse_dates=True)[d.keys()].rename(d, axis=1)\n",
    "df['Total'] = df['Nonfinancial'] + df['Financial']\n",
    "df['DPI'] = nipa_df(retrieve_table('T20100')['Data'], ['A067RC'])\n",
    "df['DPINF'] = df['Nonfinancial'].divide(df['Total'], axis=0)\n",
    "df['DPIF'] = df['Financial'].divide(df['Total'], axis=0)\n",
    "df['DPIsh'] = df['DPI'].divide(df['Total'], axis=0)\n",
    "df['DPINFsh'] = df['DPINF'] * df['DPIsh']\n",
    "df['DPIFsh'] = df['DPIF'] * df['DPIsh']\n",
    "\n",
    "df = df * 100\n",
    "df.loc['1989':,'DPIsh'].to_csv(data_dir / 'dpish.csv', index_label='date')\n",
    "\n",
    "color = 'red'\n",
    "node = end_node(df['DPIsh'], color=color, percent=True, date='q', \n",
    "                offset=0.35, full_year=True)\n",
    "write_txt(text_dir / 'dpish_node.txt', node)\n",
    "\n",
    "ltdt = dtxt(df.index[-1])['qtr1']\n",
    "tot = df.DPIsh.iloc[-1]\n",
    "tot90s = df.loc['1990':'1999', 'DPIsh'].mean()\n",
    "\n",
    "text = (f'In {ltdt}, disposable income is equivalent to {tot:.1f} '+\n",
    "        f'percent of the market value of US assets {c_line(color)}, '+\n",
    "        f'compared to an average of {tot90s:.1f} percent during '+\n",
    "        'the 1990s.')\n",
    "write_txt(text_dir / 'dpishta.txt', text)\n",
    "print(text)"
   ]
  },
  {
   "cell_type": "code",
   "execution_count": null,
   "metadata": {},
   "outputs": [],
   "source": []
  },
  {
   "cell_type": "code",
   "execution_count": null,
   "metadata": {},
   "outputs": [],
   "source": []
  },
  {
   "cell_type": "markdown",
   "metadata": {},
   "source": [
    "### Household assets\n",
    "\n",
    "See B.101, for example"
   ]
  },
  {
   "cell_type": "code",
   "execution_count": 37,
   "metadata": {
    "ExecuteTime": {
     "end_time": "2022-11-16T05:26:37.346453Z",
     "start_time": "2022-11-16T05:26:37.049453Z"
    }
   },
   "outputs": [
    {
     "name": "stdout",
     "output_type": "stream",
     "text": [
      "According to the US Financial Accounts produced by the Federal Reserve, the market value of \\textbf{household and nonprofit assets} is \\$162.7 trillion in 2022 Q2, equivalent to 644 percent--or 6.44 years--of GDP. Of this, \\$54.0 trillion, or 33.2 percent of the total, are tangible (non-financial) assets and \\$108.7 trillion, or 66.8 percent, are financial assets.\n",
      "\n",
      "Tangible assets include peoples' homes as well as consumer durable goods, such as cars, furniture, and appliances. Owner-occupied real estate is valued at \\$41.2 trillion in 2022 Q2, equivalent to 163 percent of GDP (see \\cbox{green!60!teal}). The replacement value of consumer durable goods is \\$7.7 trillion, or 30 percent of GDP.\n",
      "\n",
      "Financial assets include equity in businesses--corporate and non-corporate--with a market value of \\$54.7 trillion, or 217 percent of GDP (see \\cbox{blue!65!black}), in 2022 Q2. Debt securities and loan assets total \\$10.5 trillion, or 42 percent of GDP (see \\cbox{blue!55!cyan}). Cash and deposits, including money market accounts, total \\$18.5 trillion, or 73 percent of GDP (see \\cbox{cyan!40!white}). Other financial assets total \\$25.0 trillion.\n"
     ]
    }
   ],
   "source": [
    "url = ('https://www.federalreserve.gov/datadownload/Output.aspx?'+\n",
    "       'rel=Z1&series=5f48b7338e558e73e11dc78be7354a87&lastobs=&'+ \n",
    "       'from=03/01/1988&to=12/31/2022&filetype=csv&label=include&'+\n",
    "       'layout=seriescolumn')\n",
    "d, clean_data = clean_fed_data(url, dtype='full')\n",
    "\n",
    "sel = {'FA156012005.Q': ('DPI', 'Disposable personal income'),\n",
    "       'FL152000005.Q': ('TOT', 'Total assets'),\n",
    "       'LM152010005.Q': ('NFA', 'Non-financial assets'),\n",
    "       'LM155035015.Q': ('HRE', 'Owner-occupied real estate'),\n",
    "       'FL155035065.Q': ('REQ', 'Owner equity in real estate'),\n",
    "       'LM155111005.Q': ('CDG', 'Consumer durable goods'),\n",
    "       'FL154090005.Q': ('TFA', 'Financial assets'),\n",
    "       'FL154000025.Q': ('DEP', 'Deposits'),\n",
    "       'LM153064475.Q': ('CEQ', 'Corporate equities'),\n",
    "       'LM152090205.Q': ('NEQ', 'Noncorporate equity'),\n",
    "       'LM155035005.Q': ('RET', 'Real estate')}\n",
    "\n",
    "colors = {'TEQ': 'blue!65!black', 'HRE': 'green!60!teal', \n",
    "          'DEP': 'cyan!40!white', 'DSL': 'blue!55!cyan'}\n",
    "cbox = {name: c_box(color) for name, color in colors.items()}\n",
    "\n",
    "sel_cols = [k for k,v in sel.items()]\n",
    "col_names = [v[0] for k,v in sel.items()]\n",
    "\n",
    "df = clean_data.loc[:,sel_cols]\n",
    "df.columns = col_names\n",
    "\n",
    "df['NPA'] = clean_data.loc[:,['LM165013765.Q', 'LM165015205.Q', 'LM165035005.Q']].sum(axis=1)\n",
    "df['DSL'] = clean_data.loc[:,['LM154022375.Q', 'FL154023005.Q']].sum(axis=1)\n",
    "df['TEQ'] = df['NEQ'] + df['CEQ']\n",
    "df['OFA'] = df['TFA'] - df['DEP'] - df['DSL'] - df['TEQ']\n",
    "df['OTH'] = df['TOT'] - df['HRE'] - df['DEP'] - df['DSL'] - df['TEQ']\n",
    "\n",
    "pce = nipa_df(retrieve_table('T20304')['Data'], ['DPCERG']).loc[df.index,'DPCERG']\n",
    "pr = (pce / pce.iloc[-1])\n",
    "\n",
    "gdp = nipa_df(retrieve_table('T10105')['Data'], ['A191RC']).loc[df.index,'A191RC']\n",
    "\n",
    "dfgdp = df.div(gdp, axis=0).dropna() *100\n",
    "dfgdp.loc['1989':].to_csv(data_dir / 'hhassetsgdp.csv', \n",
    "                          index_label='date', float_format='%g')\n",
    "\n",
    "# Nodes for latest values\n",
    "cols = ['HRE', 'DEP', 'DSL', 'TEQ']\n",
    "sdf = dfgdp[cols].iloc[-1]\n",
    "height = ((sdf.cumsum() - (sdf / 2) + 15)).to_dict()\n",
    "val = sdf.to_dict()\n",
    "dtp = dtxt(dfgdp.index[-1] + pd.DateOffset(months=2))['datetime']\n",
    "nodes = [f'\\\\absnode{{{{{dtp}}}}}{{{height[i]}}}{{\\scriptsize {val[i]:.1f}}}' \n",
    "         for i in cols]\n",
    "dtv = dtxt(dfgdp.index[-1])['qtr1'].replace(' ', '\\\\\\\\ \\scriptsize ')\n",
    "dtn = f'\\\\absnode{{{{{dtp}}}}}{{{sdf.cumsum().iloc[-1] + 25.0}}}{{\\scriptsize {dtv}:}}'\n",
    "nodes.append(dtn)\n",
    "nodetext = '\\n'.join(nodes)\n",
    "write_txt(text_dir / 'hhasset_nodes.txt', nodetext)\n",
    "\n",
    "# Text1 \n",
    "ltdt = dtxt(df.index[-1])['qtr1']\n",
    "prdt = dtxt(df.index[-5])['qtr1']\n",
    "i = df.iloc[-1] / 1000000\n",
    "vt = {n: f'\\${v:.1f} trillion' for n, v in i.items()}\n",
    "totgdp = dfgdp['TOT'].iloc[-1]\n",
    "g = {n: f'{v:.0f} percent of GDP' for n, v in dfgdp.iloc[-1].items()}\n",
    "s = (df.div(df.TOT, axis=0) * 100).iloc[-1]\n",
    "\n",
    "text = ('According to the US Financial Accounts produced by the Federal Reserve, '+\n",
    "        'the market value of \\\\textbf{household and nonprofit assets} is '+\n",
    "        f'{vt[\"TOT\"]} in {ltdt}, equivalent to {totgdp:.0f} percent--or '+\n",
    "        f'{totgdp/100:.3g} years--of GDP. Of this, {vt[\"NFA\"]}, or '+\n",
    "        f'{s.NFA:.1f} percent of the total, are tangible (non-financial) assets '+\n",
    "        f'and {vt[\"TFA\"]}, or {s.TFA:.1f} percent, are financial assets.\\n\\n'+\n",
    "        \"Tangible assets include peoples' homes as well \"+\n",
    "        'as consumer durable goods, such as cars, furniture, and appliances. '+\n",
    "        f'Owner-occupied real estate is valued at {vt[\"HRE\"]} '+\n",
    "        f'in {ltdt}, equivalent to {g[\"HRE\"]} {cbox[\"HRE\"]}. The replacement '+\n",
    "        f'value of consumer durable goods is {vt[\"CDG\"]}, or {g[\"CDG\"]}.\\n\\n'+\n",
    "        'Financial assets include equity in businesses--corporate and '+\n",
    "        f'non-corporate--with a market value of {vt[\"TEQ\"]}, or '+\n",
    "        f'{g[\"TEQ\"]} {cbox[\"TEQ\"]}, in {ltdt}. Debt securities and loan assets '+\n",
    "        f'total {vt[\"DSL\"]}, or {g[\"DSL\"]} {cbox[\"DSL\"]}. Cash and deposits, '+\n",
    "        f'including money market accounts, total {vt[\"DEP\"]}, or '+\n",
    "        f'{g[\"DEP\"]} {cbox[\"DEP\"]}. Other financial assets total {vt[\"OFA\"]}.')\n",
    "\n",
    "write_txt(text_dir / 'hhasset.txt', text)\n",
    "print(text)"
   ]
  },
  {
   "cell_type": "code",
   "execution_count": 38,
   "metadata": {
    "ExecuteTime": {
     "end_time": "2022-11-16T05:26:37.941807Z",
     "start_time": "2022-11-16T05:26:37.911252Z"
    }
   },
   "outputs": [
    {
     "name": "stdout",
     "output_type": "stream",
     "text": [
      "The value of household and nonprofit assets fell 4.5 percent over the year ending 2022 Q2. The decrease is driven largely by a decrease in the market value of business equity, and partially offset by an increase in the value of owner-occupied real estate.\n"
     ]
    }
   ],
   "source": [
    "tnames = {'HRE': 'the value of owner-occupied real estate', \n",
    "          'DEP': 'money held as deposits',\n",
    "          'DSL': 'the market value of debt and loan securities', \n",
    "          'TEQ': 'the market value of business equity',\n",
    "          'OTH': 'other assets'}\n",
    "\n",
    "real_data = df.div(pr, axis=0)\n",
    "growth = growth_contrib_ann(real_data, 'TOT')\n",
    "\n",
    "(growth.dropna()[['HRE', 'DEP', 'DSL', 'TEQ', 'OTH']].loc['1989':]\n",
    " .to_csv(data_dir / 'hh_asset_growth.csv', index_label='date'))\n",
    "gr = growth.iloc[-1]\n",
    "gr2 = growth[tnames.keys()].iloc[-1].rename(tnames)\n",
    "gctext, bbdb = gc_desc(gr2, 2, 5)\n",
    "grtot = value_text(gr.TOT, casual=True)\n",
    "text = (f'The value of household and nonprofit assets {grtot} '+\n",
    "        f'over the year ending {ltdt}. The {gctext}')\n",
    "write_txt(text_dir / 'hhasset2.txt', text)\n",
    "print(text)"
   ]
  },
  {
   "cell_type": "code",
   "execution_count": 39,
   "metadata": {
    "ExecuteTime": {
     "end_time": "2022-11-16T05:26:39.805431Z",
     "start_time": "2022-11-16T05:26:39.778347Z"
    }
   },
   "outputs": [],
   "source": [
    "# Generate table\n",
    "nd = {'TOT': '&Total Assets', 'NFA': '& \\hspace{1mm} Non-financial assets', \n",
    "      'HRE': '\\cbox{green!60!teal!95!black} & \\hspace{3mm} Owner-occupied real estate', \n",
    "      'CDG': ' & \\hspace{3mm} Consumer durable goods',\n",
    "      'NPA': ' & \\hspace{3mm} Nonprofit assets',\n",
    "      'TFA': ' & \\hspace{1mm} Financial assets',\n",
    "      'DEP': '\\cbox{cyan!32!white} & \\hspace{3mm} Deposits, incl. money market',\n",
    "      'DSL': '\\cbox{blue!58!cyan} & \\hspace{3mm} Debt securities and loans',\n",
    "      'TEQ': '\\cbox{blue!55!black} & \\hspace{3mm} Business equity',\n",
    "      'CEQ': ' & \\hspace{5mm} Corporate equities',\n",
    "      'NEQ': ' & \\hspace{5mm} Noncorporate business equity'}\n",
    "\n",
    "table = pd.DataFrame()\n",
    "table[ltdt] = pd.Series({idx: f'\\${val:.1f}' if idx == 'TOT' else f'{val:.1f}' \n",
    "                          for idx, val in i.items()})\n",
    "table[ltdt+'  '] = dfgdp.iloc[-1]\n",
    "table[prdt+'  '] = dfgdp.iloc[-5]\n",
    "table['One-year'] = real_data.pct_change(4).iloc[-1] * 100\n",
    "table['Three-year'] = ((real_data.pct_change(12) + 1)**(1/3) - 1).iloc[-1] * 100\n",
    "table['20-year'] = ((real_data.pct_change(80) + 1)**(1/20) - 1).iloc[-1] * 100\n",
    "\n",
    "table.index.name = '& '\n",
    "clean = table.loc[nd.keys()].rename(nd).round(1)\n",
    "\n",
    "clean.to_csv(data_dir / 'hhasset.tex', sep='&', \n",
    "             lineterminator='\\\\\\ ', quotechar=' ')\n",
    "\n",
    "# Version for download\n",
    "clean.index = [i[-1] for i in clean.index.str.split('}')]\n",
    "clean.index = clean.index.str.replace('&', '')\n",
    "clean.to_csv(data_dir / 'hhasset_table.csv', index_label='category')"
   ]
  },
  {
   "cell_type": "code",
   "execution_count": null,
   "metadata": {},
   "outputs": [],
   "source": []
  },
  {
   "cell_type": "code",
   "execution_count": null,
   "metadata": {},
   "outputs": [],
   "source": []
  },
  {
   "cell_type": "markdown",
   "metadata": {},
   "source": [
    "### Net Worth"
   ]
  },
  {
   "cell_type": "code",
   "execution_count": 40,
   "metadata": {
    "ExecuteTime": {
     "end_time": "2022-11-16T05:26:41.576145Z",
     "start_time": "2022-11-16T05:26:41.342787Z"
    }
   },
   "outputs": [
    {
     "name": "stdout",
     "output_type": "stream",
     "text": [
      "In 2022 Q2, household and nonprofit institution net worth was \\$143.8 trillion, equivalent to 7.8 years of disposable personal income; the result of total assets of \\$162.7 trillion and total liabilities of \\$18.9 trillion. \n",
      "\n",
      "\n",
      "In 2022 Q2, inflation-adjusted net worth decreased by 5.1 percent (see\\cbox{cyan!40!white}), and inflation-adjusted after-tax income decreased by 4.4 percent (see {\\color{blue!50!violet}\\textbf{---}}). Over the past three years, real net worth grew at an average rate of 7.4 percent, while real after-tax income grew at an average rate of 1.8 percent\n"
     ]
    }
   ],
   "source": [
    "base = 'https://www.federalreserve.gov/datadownload/Output.aspx?'\n",
    "srs = 'rel=Z1&series=5274f1fc3a4900aba158b78578142b2a&lastobs=&'\n",
    "dt = 'from=03/01/1988&to=12/31/2022&'\n",
    "oth = 'filetype=csv&label=include&layout=seriescolumn'\n",
    "url = base + srs + dt + oth\n",
    "\n",
    "d, clean_data = clean_fed_data(url)\n",
    "n = {'FL152090005.Q': 'NW',\n",
    "     'FL152000005.Q': 'ASSETS',\n",
    "     'FL154190005.Q': 'LIAB',\n",
    "     'FA156012005.Q': 'DPI'}\n",
    "\n",
    "df = clean_data.rename(n, axis=1) / 1_000_000\n",
    "datelt = dtxt(df.index[-1])['qtr1']\n",
    "i = df.iloc[-1]\n",
    "text = (f'In {datelt}, household and nonprofit institution net worth '+\n",
    "        f'was \\${i.NW:.1f} trillion, equivalent to {i.NW / i.DPI:.1f} '+\n",
    "        'years of disposable personal income; the result of total '+\n",
    "        f'assets of \\${i.ASSETS:.1f} trillion and total liabilities '+\n",
    "        f'of \\${i.LIAB:.1f} trillion.')\n",
    "write_txt(text_dir / 'nw1.txt', text)\n",
    "print(text, '\\n\\n')\n",
    "\n",
    "pce = (nipa_df(retrieve_table('T20304')['Data'], ['DPCERG'])\n",
    "       .loc[df.index, 'DPCERG'])\n",
    "res = (df.divide(pce / pce.iloc[-1], axis=0)\n",
    "         .pct_change(4) * 100).dropna()\n",
    "res.to_csv(data_dir / 'rdpi_nw.csv', index_label='date')\n",
    "\n",
    "nwtxt = value_text(res.NW.iloc[-1], style='increase_by')\n",
    "dpitxt = value_text(res.DPI.iloc[-1], style='increase_by')\n",
    "i = res.iloc[-13:].mean()\n",
    "dpi3txt = value_text(i.DPI, adj='average', casual=True)\n",
    "nw3txt = value_text(i.NW, adj='average', casual=True)\n",
    "text = (f'In {datelt}, inflation-adjusted net worth {nwtxt}'+\n",
    "        ' (see\\cbox{cyan!40!white}), and '+\n",
    "        f'inflation-adjusted after-tax income {dpitxt} '+\n",
    "        '(see {\\color{blue!50!violet}\\\\textbf{---}}). Over '+\n",
    "        f'the past three years, real net worth {nw3txt}, '+\n",
    "        f'while real after-tax income {dpi3txt}')\n",
    "write_txt(text_dir / 'nw2.txt', text)\n",
    "print(text)"
   ]
  },
  {
   "cell_type": "code",
   "execution_count": null,
   "metadata": {},
   "outputs": [],
   "source": []
  },
  {
   "cell_type": "code",
   "execution_count": null,
   "metadata": {},
   "outputs": [],
   "source": []
  },
  {
   "cell_type": "markdown",
   "metadata": {},
   "source": [
    "### Net worth contributions"
   ]
  },
  {
   "cell_type": "code",
   "execution_count": 41,
   "metadata": {
    "ExecuteTime": {
     "end_time": "2022-11-16T05:26:46.484880Z",
     "start_time": "2022-11-16T05:26:46.272878Z"
    }
   },
   "outputs": [
    {
     "name": "stdout",
     "output_type": "stream",
     "text": [
      "In the the second quarter of 2022, holding gains subtracted 0.5 percentage point from the 1.1 percent change in net worth. Income invested at the 1989-onward average rate of 10.2 percent would have contributed 1.3 percentage points, but 0.3 percentage points were subtracted as household net investment was 7.9 percent of disposable person income in 2022 Q2. Other volume changes contributed 0.6 percentage point.\n",
      "\n",
      "Over the past three years, net worth grew at an average rate of 10.6 percent. Holding gains contributed 8.1 percentage points to this total, on average; net investment of income contributed 2.2 percentage points; and other volume changes contributed 0.3 percentage point.\n"
     ]
    }
   ],
   "source": [
    "base = 'https://www.federalreserve.gov/datadownload/Output.aspx?'\n",
    "srs = 'rel=Z1&series=73021951e1b749df8a5de36975a7926d&lastobs=&'\n",
    "dt = 'from=03/01/1988&to=12/31/2022&'\n",
    "oth = 'filetype=csv&label=include&layout=seriescolumn'\n",
    "url = base + srs + dt + oth\n",
    "\n",
    "d, clean_data = clean_fed_data(url)\n",
    "\n",
    "df = clean_data.loc[:, ['FC152090005.Q', 'FU155060005.Q', 'FV158090005.Q', \n",
    "                 'FU156012005.Q', 'FR158000005.Q']]\n",
    "df.columns = ['NW', 'NI', 'OVC', 'DPI', 'RV']\n",
    "\n",
    "df = df.rolling(4).sum().dropna()\n",
    "rate = (df['NI'] / df['DPI']).mean()\n",
    "rate2 = (df['NI'] / df['DPI']).iloc[-1]\n",
    "\n",
    "df['INC'] = df['DPI'] * rate\n",
    "df['INV'] = df['NI'] - df['INC']\n",
    "df['NWL'] = clean_data['FL152090005.Q']\n",
    "\n",
    "growth = (df[['OVC', 'INC', 'INV', 'RV']]\n",
    "          .div(df['NWL'].shift(4), axis=0).dropna() * 100)\n",
    "\n",
    "growth.to_csv(data_dir / 'nw_gr.csv', index_label='date')\n",
    "\n",
    "# Text for chart\n",
    "ldate = dtxt(growth.index[-1])['qtr1']\n",
    "ltdate = dtxt(growth.index[-1])['qtr2']\n",
    "\n",
    "hgtxt = value_text(growth['RV'].iloc[-1], style='contribution_to', \n",
    "           ptype='pp', threshold=0.1)\n",
    "inctxt = value_text(growth['INC'].iloc[-1], style='contribution', \n",
    "           ptype='pp', threshold=0.1)\n",
    "inv = growth['INV'].iloc[-1]\n",
    "invtxt = [f'; an additional {inv:.1f} percentage points were added' if inv >= 0.1 \n",
    "         else f', but {abs(inv):.1f} percentage points were subtracted' if inv <= -0.1 \n",
    "         else ', and cyclical activity in investment did not seem to play a role'][0]\n",
    "othtxt = value_text(growth['OVC'].iloc[-1], style='contribution', \n",
    "           ptype='pp', threshold=0.1)\n",
    "hg3txt = value_text(growth['RV'].iloc[-13:].mean(), style='contribution', \n",
    "           ptype='pp', threshold=0.1)\n",
    "oth3txt = value_text(growth['OVC'].iloc[-13:].mean(), style='contribution', \n",
    "           ptype='pp', threshold=0.1)\n",
    "ni3 = growth['INC'].iloc[-13:].mean() + growth['INV'].iloc[-13:].mean()\n",
    "ni3txt = value_text(ni3, style='contribution', \n",
    "           ptype='pp', threshold=0.1)\n",
    "\n",
    "text = (f'In the {ltdate}, holding gains {hgtxt} the {growth.iloc[-1].sum():.1f} '+\n",
    "        'percent change in net worth. Income invested at the 1989-onward average '+\n",
    "        f'rate of {rate*100:.1f} percent would have {inctxt}{invtxt} as household '+\n",
    "        f'net investment was {rate2*100:.1f} percent of disposable person income '+\n",
    "        f'in {ldate}. Other volume changes {othtxt}.\\n\\nOver the past three years, '+\n",
    "        f'net worth grew at an average rate of {growth.iloc[-13:].mean().sum():.1f} '+\n",
    "        f'percent. Holding gains {hg3txt} to this total, on average; net investment '+\n",
    "        f'of income {ni3txt}; and other volume changes {oth3txt}.')\n",
    "write_txt(text_dir / 'nwcontrib.txt', text)\n",
    "print(text)"
   ]
  },
  {
   "cell_type": "code",
   "execution_count": null,
   "metadata": {},
   "outputs": [],
   "source": []
  },
  {
   "cell_type": "code",
   "execution_count": null,
   "metadata": {},
   "outputs": [],
   "source": []
  },
  {
   "cell_type": "markdown",
   "metadata": {},
   "source": [
    "### Equity Payout"
   ]
  },
  {
   "cell_type": "code",
   "execution_count": 42,
   "metadata": {
    "ExecuteTime": {
     "end_time": "2022-11-16T05:26:46.704126Z",
     "start_time": "2022-11-16T05:26:46.487333Z"
    }
   },
   "outputs": [],
   "source": [
    "url = ('https://www.federalreserve.gov/datadownload/Output.aspx?'+\n",
    "       'rel=Z1&series=5dbfee986a7636f1bc997a80c313cabc&lastobs=&'+\n",
    "       'from=01/01/1988&to=12/31/2022&filetype=csv&'+\n",
    "       'label=include&layout=seriescolumn')\n",
    "d, df = clean_fed_data(url)\n",
    "srs = {'FA103164103.Q': 'Buybacks',\n",
    "       'FA106121075.Q': 'Dividends'}\n",
    "\n",
    "data = df.rename(srs, axis=1)\n",
    "data['Buybacks'] = -data['Buybacks']\n",
    "gdp = nipa_df(retrieve_table('T10105')['Data'], ['A191RC'])['A191RC']\n",
    "res = data.divide(gdp, axis=0).loc['1989':].dropna() * 100\n",
    "res.to_csv(data_dir / 'eq_payout.csv', index_label='date')"
   ]
  },
  {
   "cell_type": "code",
   "execution_count": 43,
   "metadata": {
    "ExecuteTime": {
     "end_time": "2022-11-16T05:26:46.713218Z",
     "start_time": "2022-11-16T05:26:46.705295Z"
    }
   },
   "outputs": [
    {
     "name": "stdout",
     "output_type": "stream",
     "text": [
      "In the second quarter of 2022, nonfinancial corporation net dividends are equivalent to 2.8 percent of GDP (see \\cbox{blue!90!purple}) and net equities issuance is equivalent to 2.1 percent of GDP (see \\cbox{magenta}). In 2019, net dividends were 3.3 percent of GDP and net issuance was 2.1 percent. From 1990 to 2015, net dividends averaged 2.6 percent of GDP and net issuance averaged 1.3 percent.\n"
     ]
    }
   ],
   "source": [
    "cbd = c_box('blue!90!purple')\n",
    "cbb = c_box('magenta')\n",
    "\n",
    "ltdt = dtxt(res.index[-1])['qtr2']\n",
    "ltd = res['Dividends'].iloc[-1]\n",
    "ltb = res['Buybacks'].iloc[-1]\n",
    "d19 = res.loc['2019', 'Dividends'].mean()\n",
    "b19 = res.loc['2019', 'Buybacks'].mean()\n",
    "avd = res.loc['1990': '2015', 'Dividends'].mean()\n",
    "avb = res.loc['1990': '2015', 'Buybacks'].mean()\n",
    "text = (f'In {ltdt}, nonfinancial corporation net dividends are '+\n",
    "        f'equivalent to {ltd:.1f} percent of GDP {cbd} and net '+\n",
    "        f'equities issuance is equivalent to {ltb:.1f} percent of '+\n",
    "        f'GDP {cbb}. In 2019, net dividends were {d19:.1f} percent '+\n",
    "        f'of GDP and net issuance was {b19:.1f} percent. From 1990 to '+\n",
    "        f'2015, net dividends averaged {avd:.1f} percent of GDP and '+\n",
    "        f'net issuance averaged {avb:.1f} percent.')\n",
    "write_txt(text_dir / 'eq_payout.txt', text)\n",
    "print(text)"
   ]
  },
  {
   "cell_type": "code",
   "execution_count": null,
   "metadata": {},
   "outputs": [],
   "source": []
  },
  {
   "cell_type": "code",
   "execution_count": null,
   "metadata": {},
   "outputs": [],
   "source": []
  },
  {
   "cell_type": "markdown",
   "metadata": {},
   "source": [
    "### Government Share of US Net Worth"
   ]
  },
  {
   "cell_type": "code",
   "execution_count": 44,
   "metadata": {
    "ExecuteTime": {
     "end_time": "2022-11-16T05:26:46.912241Z",
     "start_time": "2022-11-16T05:26:46.714886Z"
    }
   },
   "outputs": [],
   "source": [
    "url = ('https://www.federalreserve.gov/datadownload/Output.aspx?'+\n",
    "       'rel=Z1&series=94066b162cbbe774fa6cb1ae8cf757e6&lastobs=&'+\n",
    "       'from=01/01/1988&to=12/31/2022&filetype=csv&label=include&'+\n",
    "       'layout=seriescolumn')\n",
    "d, df = clean_fed_data(url)\n",
    "\n",
    "s = {'FL212090095.Q': 'SLG NW',\n",
    "     'FL312090095.Q': 'FG NW',\n",
    "     'FL892090005.Q': 'Total NW'}\n",
    "data = df.rename(s, axis=1)\n",
    "data['Gov NW'] = data['SLG NW'] + data['FG NW']\n",
    "res = ((data.div(data['Total NW'], axis=0) * 100)\n",
    "            .drop('Total NW', axis=1).loc['1989':])\n",
    "res.to_csv(data_dir / 'govshnw.csv', index_label='date', \n",
    "           float_format='%g')"
   ]
  },
  {
   "cell_type": "code",
   "execution_count": 45,
   "metadata": {
    "ExecuteTime": {
     "end_time": "2022-11-16T05:26:46.922146Z",
     "start_time": "2022-11-16T05:26:46.914331Z"
    }
   },
   "outputs": [
    {
     "name": "stdout",
     "output_type": "stream",
     "text": [
      "The combined US government sector has a net worth of -\\$20.6 trillion, as of 2022 Q2, equivalent to -7.8 percent of national wealth (see {\\color{green!80!blue}\\textbf{---}}). Federal government net worth (excluding land) is equal to -15.8 percent of national wealth (see {\\color{orange!80!white}\\textbf{---}}), while state and local government net worth is equivalent to 8.0 percent (see {\\color{blue!90!black}\\textbf{---}}).\n"
     ]
    }
   ],
   "source": [
    "colors = {'Gov NW': 'green!80!blue', 'SLG NW': 'blue!90!black', \n",
    "          'FG NW': 'orange!80!white'}\n",
    "date = {k: None for k, v in colors.items()}\n",
    "date[res.iloc[-1].idxmax()] = 'q'\n",
    "nodes = '\\n'.join([end_node(res[k], v, percent=True, date=date[k], \n",
    "                            full_year=True) \n",
    "                   for k, v in colors.items()])\n",
    "write_txt(text_dir / 'govnw_nodes.txt', nodes)\n",
    "\n",
    "totval = data['FG NW'].iloc[-1] / 1_000_000\n",
    "ns = '' if totval > 0 else '-'\n",
    "totv = f'{ns}\\${abs(totval):.1f} trillion'\n",
    "ltdt = dtxt(data.index[-1])['qtr1']\n",
    "gsh = f\"{res['Gov NW'].iloc[-1]:.1f} percent\"\n",
    "fgsh = f\"{res['FG NW'].iloc[-1]:.1f} percent\"\n",
    "slgsh = f\"{res['SLG NW'].iloc[-1]:.1f} percent\"\n",
    "cl = {k: c_line(v) for k, v in colors.items()}\n",
    "text = ('The combined US government sector has a net worth of '+\n",
    "        f'{totv}, as of {ltdt}, equivalent to {gsh} of '+\n",
    "        f'national wealth {cl[\"Gov NW\"]}. Federal government '+\n",
    "        'net worth (excluding land) is equal to '+\n",
    "        f'{fgsh} of national wealth {cl[\"FG NW\"]}, while '+\n",
    "        'state and local government net worth is equivalent to '+\n",
    "        f'{slgsh} {cl[\"SLG NW\"]}.')\n",
    "write_txt(text_dir / 'govshnw.txt', text)\n",
    "print(text)"
   ]
  },
  {
   "cell_type": "code",
   "execution_count": null,
   "metadata": {},
   "outputs": [],
   "source": []
  },
  {
   "cell_type": "code",
   "execution_count": null,
   "metadata": {},
   "outputs": [],
   "source": []
  },
  {
   "cell_type": "markdown",
   "metadata": {},
   "source": [
    "### Government Assets"
   ]
  },
  {
   "cell_type": "code",
   "execution_count": 46,
   "metadata": {
    "ExecuteTime": {
     "end_time": "2022-11-16T05:26:47.148077Z",
     "start_time": "2022-11-16T05:26:46.923347Z"
    }
   },
   "outputs": [
    {
     "name": "stdout",
     "output_type": "stream",
     "text": [
      "In the second quarter of 2022, the market value of government assets, excluding land, is \\$27.6 trillion, equivalent to 109.2 percent of GDP. Of this, state and local government nonfinancial assets, such as buildings and equipment, are equivalent to 59.1 percent of GDP (see \\cbox{cyan!36!white}), and state and local government financial assets, such as insurance trust funds, are equivalent to 17.4 percent of GDP (see \\cbox{blue!75!cyan}).\n",
      "\n",
      "The market value of federal government nonfinancial assets is equivalent to 16.8 percent of GDP in 2022 Q2 (see \\cbox{violet!60!white}). Federal government financial assets are valued at 15.8 percent of GDP (see \\cbox{blue!28!violet!90!black}).\n"
     ]
    }
   ],
   "source": [
    "url = ('https://www.federalreserve.gov/datadownload/Output.aspx?'+\n",
    "       'rel=Z1&series=69790f5ee559de8e4c534f51c91cc3bb&lastobs=&'+\n",
    "       'from=01/01/1988&to=12/31/2022&'+\n",
    "       'filetype=csv&label=include&layout=seriescolumn')\n",
    "d, data = clean_fed_data(url)\n",
    "s = {'FL212010095.Q': 'SLG NFA',\n",
    "     'FL214090005.Q': 'SLG FA',\n",
    "     'FL312010095.Q': 'FG NFA',\n",
    "     'FL314090005.Q': 'FG FA'}\n",
    "df = data.rename(s, axis=1)\n",
    "\n",
    "# Share of GDP\n",
    "gdp = nipa_df(retrieve_table('T10105')['Data'], ['A191RC'])\n",
    "sh = (df.divide(gdp['A191RC'], axis=0) * 100).loc['1989':].dropna()\n",
    "sh.to_csv(data_dir / 'govassets.csv', index_label='date', \n",
    "          float_format='%g')\n",
    "\n",
    "ltdt = dtxt(sh.index[-1])\n",
    "totval = df.iloc[-1].sum() / 1_000_000\n",
    "sh['Tot'] = sh.sum(axis=1)\n",
    "lt = sh.iloc[-1].apply(lambda x: f'{x:.1f} percent of GDP')\n",
    "\n",
    "\n",
    "colors = {'SLG NFA': 'cyan!36!white', \n",
    "          'SLG FA': 'blue!75!cyan', 'FG NFA': 'violet!60!white',\n",
    "          'FG FA': 'blue!28!violet!90!black'}\n",
    "cl = {key: c_box(value) for key, value in colors.items()}\n",
    "\n",
    "text = (f'In {ltdt[\"qtr2\"]}, the market value of government assets, '+\n",
    "        f'excluding land, is \\${totval:.1f} trillion, equivalent '+\n",
    "        f'to {lt[\"Tot\"]}. Of this, state and local government '+\n",
    "        f'nonfinancial assets, such as buildings and equipment, '+\n",
    "        f'are equivalent to {lt[\"SLG NFA\"]} {cl[\"SLG NFA\"]}, and '+\n",
    "        'state and local government financial assets, such as '+\n",
    "        f'insurance trust funds, are equivalent to {lt[\"SLG FA\"]} '+\n",
    "        f'{cl[\"SLG FA\"]}.\\n\\nThe market value of federal '+\n",
    "        'government nonfinancial assets is equivalent to '+\n",
    "        f'{lt[\"FG NFA\"]} in {ltdt[\"qtr1\"]} {cl[\"FG NFA\"]}. '+\n",
    "        'Federal government financial assets are valued at '+\n",
    "        f'{lt[\"FG FA\"]} {cl[\"FG FA\"]}.')\n",
    "write_txt(text_dir / 'govassets.txt', text)\n",
    "print(text)"
   ]
  },
  {
   "cell_type": "code",
   "execution_count": null,
   "metadata": {},
   "outputs": [],
   "source": []
  },
  {
   "cell_type": "code",
   "execution_count": null,
   "metadata": {},
   "outputs": [],
   "source": []
  },
  {
   "cell_type": "markdown",
   "metadata": {},
   "source": [
    "### Net Fixed Investment"
   ]
  },
  {
   "cell_type": "code",
   "execution_count": 47,
   "metadata": {
    "ExecuteTime": {
     "end_time": "2022-11-16T05:26:47.347434Z",
     "start_time": "2022-11-16T05:26:47.149412Z"
    }
   },
   "outputs": [],
   "source": [
    "url = ('https://www.federalreserve.gov/datadownload/Output.aspx?'+\n",
    "       'rel=Z1&series=fe4e292249867fb6016a0c9bd55e400d&'+\n",
    "       'lastobs=&from=03/01/1988&to=12/31/2022&filetype=csv&'+\n",
    "       'label=include&layout=seriescolumn')\n",
    "d, clean_data = clean_fed_data(url)\n",
    "clean_data.to_csv(data_dir / 'z1_nfi_raw.csv', index_label='date')"
   ]
  },
  {
   "cell_type": "code",
   "execution_count": 48,
   "metadata": {
    "ExecuteTime": {
     "end_time": "2022-11-16T05:26:47.396648Z",
     "start_time": "2022-11-16T05:26:47.352533Z"
    }
   },
   "outputs": [],
   "source": [
    "df = pd.read_csv(data_dir / 'z1_nfi_raw.csv', index_col='date',\n",
    "                parse_dates=True)\n",
    "gdp = nipa_df(retrieve_table('T10105')['Data'], \n",
    "              ['A191RC'])['A191RC']\n",
    "\n",
    "d2 = {'FA115015005.Q': 'NCB',\n",
    "      'FA155015005.Q': 'HH',\n",
    "      'FA215015005.Q': 'SLG',\n",
    "      'FA315015005.Q': 'FEDG',\n",
    "      'FA885015005.Q': 'TOT',\n",
    "      'FA885019005.Q': 'TOTG',\n",
    "      'FA886300095.Q': 'CFC',\n",
    "      'FA155111005.Q': 'DG',\n",
    "      'FA105015085.Q': 'CB'}\n",
    "res = df[d2.keys()].rename(d2, axis=1)\n",
    "res['GOV'] = df[['FA215015005.Q', 'FA315015005.Q']].sum(axis=1)\n",
    "res['BUS'] = res['TOT'] - res[['GOV', 'HH']].sum(axis=1)\n",
    "final = (res.divide(gdp, axis=0).dropna() * 100).loc['1989':]\n",
    "final.to_csv(data_dir / 'z1_nfi.csv', \n",
    "             index_label='date', float_format='%g')"
   ]
  },
  {
   "cell_type": "code",
   "execution_count": 49,
   "metadata": {
    "ExecuteTime": {
     "end_time": "2022-11-16T05:26:47.401623Z",
     "start_time": "2022-11-16T05:26:47.398052Z"
    }
   },
   "outputs": [],
   "source": [
    "dgcol = 'blue!80!green!95!white'\n",
    "totcol = 'purple'\n",
    "nodes = (end_node(final.TOT, totcol, date='q', \n",
    "                  percent=True, offset=0.35) + \n",
    "         '\\n' + end_node(final.DG, dgcol, percent=True))\n",
    "write_txt(text_dir / 'z1_nfi_nodes.txt', nodes)"
   ]
  },
  {
   "cell_type": "code",
   "execution_count": 50,
   "metadata": {
    "ExecuteTime": {
     "end_time": "2022-11-16T05:26:47.412105Z",
     "start_time": "2022-11-16T05:26:47.403807Z"
    }
   },
   "outputs": [
    {
     "name": "stdout",
     "output_type": "stream",
     "text": [
      "In 2022 Q2, gross fixed investment was \\$5.3 trillion, depreciation was \\$4.3 trillion, and net fixed investment was \\$1.1 trillion, equivalent to 4.3 percent of GDP (see {\\color{purple}\\textbf{---}}). In 2019, net fixed investment was 4.9 percent of GDP.\n",
      "\n",
      "Some economic measures also count consumer durable goods, such as autos, furniture, and appliances, as investments. Net investment in consumer durables was \\$479 billion in 2022 Q2, or 1.9 percent of GDP (see {\\color{blue!80!green!95!white}\\textbf{---}}). Consumer durable goods net fixed investment was 1.2 percent of GDP in 2019. \n",
      "\n",
      "Levels of net fixed investment vary by sector and over time. In 2022 Q2, household sector net fixed investment, excluding consumer durables, was equivalent to 1.5 percent of GDP, compared to 1.3 percent in 2019 (see \\cbox{cyan!40!white!95!white}). From 2003 to 2006, during the housing bubble, household net fixed investment averaged 3.5 percent of GDP. Business sector net fixed investment is equivalent to 2.3 percent of GDP in 2022 Q2, and 2.9 percent in 2019 (see \\cbox{magenta!90!white}). Government net fixed investment is equivalent to 0.5 percent of GDP in 2022 Q2 and 0.7 percent in 2019 (see \\cbox{violet!85!black}).\n"
     ]
    }
   ],
   "source": [
    "ltr = res.iloc[-1] / 1_000_000\n",
    "lts = final.iloc[-1]\n",
    "s19 = final.loc['2019'].mean()\n",
    "ltdt = dtxt(final.index[-1])['qtr1']\n",
    "text = (f'In {ltdt}, gross fixed investment was \\${ltr.TOTG:.1f} '+\n",
    "        f'trillion, depreciation was \\${ltr.CFC:.1f} trillion, and '+\n",
    "        f'net fixed investment was \\${ltr.TOT:.1f} trillion, '+\n",
    "        f'equivalent to {lts.TOT:.1f} percent of GDP {c_line(totcol)}. '+\n",
    "        f'In 2019, net fixed investment was {s19.TOT:.1f} percent of '+\n",
    "        'GDP.\\n\\nSome economic measures also count consumer '+\n",
    "        'durable goods, such as autos, furniture, and '+\n",
    "        'appliances, as investments. Net investment in consumer '+\n",
    "        f'durables was \\${ltr.DG *1000:,.0f} billion in {ltdt}, or '+\n",
    "        f'{lts.DG:.1f} percent of GDP {c_line(dgcol)}. Consumer '+\n",
    "        f'durable goods net fixed investment was {s19.DG:.1f} percent '+\n",
    "        'of GDP in 2019.')\n",
    "write_txt(text_dir / 'z1_nfi_main.txt', text)\n",
    "print(text, '\\n')\n",
    "hh03 = final.loc['2003': '2006', 'HH'].mean()\n",
    "hhcol = 'cyan!40!white!95!white'\n",
    "buscol = 'magenta!90!white'\n",
    "govcol = 'violet!85!black'\n",
    "text = ('Levels of net fixed investment vary by sector and over time. '+\n",
    "        f'In {ltdt}, household sector net fixed investment, excluding '+\n",
    "        f'consumer durables, was equivalent to {lts.HH:.1f} percent '+\n",
    "        f'of GDP, compared to {s19.HH:.1f} percent in 2019 '+\n",
    "        f'{c_box(hhcol)}. From 2003 to 2006, during the housing bubble, '+\n",
    "        f'household net fixed investment averaged {hh03:.1f} percent '+\n",
    "        'of GDP. Business sector net fixed investment is equivalent to '+\n",
    "        f'{lts.BUS:.1f} percent of GDP in {ltdt}, and {s19.BUS:.1f} '+\n",
    "        f'percent in 2019 {c_box(buscol)}. Government net fixed '+\n",
    "        f'investment is equivalent to {lts.GOV:.1f} percent of GDP in '+\n",
    "        f'{ltdt} and {s19.GOV:.1f} percent in 2019 '+\n",
    "        f'{c_box(govcol)}.')\n",
    "write_txt(text_dir / 'z1_nfi_sect.txt', text)\n",
    "print(text)"
   ]
  },
  {
   "cell_type": "code",
   "execution_count": 51,
   "metadata": {
    "ExecuteTime": {
     "end_time": "2022-11-16T05:26:47.428109Z",
     "start_time": "2022-11-16T05:26:47.413306Z"
    }
   },
   "outputs": [],
   "source": [
    "d2 = {'TOT': '\\hspace{0.1mm} {\\color{purple}\\\\textbf{---}} Net Fixed Investment',\n",
    "      'BUS': '\\hspace{0.5mm}\\cbox{magenta!90!white}Business',\n",
    "      'NCB': '\\hspace{6mm} Nonfin. Noncorp. Business',\n",
    "      'CB': '\\hspace{6mm} Nonfin. Corporations',      \n",
    "      'GOV': '\\hspace{0.5mm}\\cbox{violet!85!black}Government',\n",
    "      'SLG': '\\hspace{6mm} State \\& Local Gov.',\n",
    "      'FEDG': '\\hspace{6mm} Federal Gov.',\n",
    "      'HH': '\\hspace{0.5mm}\\cbox{cyan!40!white!95!white}Household \\& Nonprofit',\n",
    "      'DG': '\\hspace{0.1mm} {\\color{blue!80!green!95!white}\\\\textbf{---}} /\\cbox{blue!80!green!95!white}Consumer Durables'}\n",
    "\n",
    "fin = final[list(d2.keys())].rename(d2, axis=1)\n",
    "tbl = fin.iloc[-3:].iloc[::-1].T\n",
    "tbl[fin.index[-5]] = fin.iloc[-5]\n",
    "cols = [f' {q.year} Q{q.quarter}' \n",
    "        if i == 0 else f'`{str(q.year)[2:]} Q{q.quarter}'\n",
    "        for i, q in enumerate(tbl.columns)]\n",
    "\n",
    "tbl.columns = cols\n",
    "tbl['2019'] = fin.loc['2019'].mean()\n",
    "tbl['2003 --`06'] = fin.loc['2003':'2006'].mean()\n",
    "tbl['1999 --`01'] = fin.loc['1999':'2001'].mean()\n",
    "tbl = tbl.applymap('{:.2f}'.format)\n",
    "tbl.to_csv(data_dir / 'z1_nfi.tex', sep='&', lineterminator='\\\\\\ ', \n",
    "            quotechar=' ')"
   ]
  },
  {
   "cell_type": "code",
   "execution_count": null,
   "metadata": {},
   "outputs": [],
   "source": []
  },
  {
   "cell_type": "code",
   "execution_count": null,
   "metadata": {},
   "outputs": [],
   "source": []
  },
  {
   "cell_type": "markdown",
   "metadata": {},
   "source": [
    "### Rest of World - Financial Account Balance"
   ]
  },
  {
   "cell_type": "code",
   "execution_count": 52,
   "metadata": {
    "ExecuteTime": {
     "end_time": "2022-11-16T05:26:47.662628Z",
     "start_time": "2022-11-16T05:26:47.429428Z"
    }
   },
   "outputs": [],
   "source": [
    "url = ('https://www.federalreserve.gov/datadownload/Output.aspx?'+\n",
    "       'rel=Z1&series=190320d1c0034f8438756dbb830ed2d2&lastobs=&'+\n",
    "       'from=03/01/1988&to=12/31/2022&filetype=csv&label=include&'+\n",
    "       'layout=seriescolumn')\n",
    "s, df = clean_fed_data(url)\n",
    "d = {'FA263181125.Q': 'Equity', 'FA264190005.Q': 'Liab',\n",
    "     'FA264194005.Q': 'EqLiab', 'FA266000105.Q': 'Saving',\n",
    "     'FA264090005.Q': 'Assets'}\n",
    "df = df.rename(d, axis=1)\n",
    "df['Discrepancy'] = (df['Saving'] - (df['Assets'] - df['EqLiab']))\n",
    "for i in ['Equity', 'Liab', 'EqLiab']:\n",
    "    df[i] = -df[i]\n",
    "    \n",
    "gdp = nipa_df(retrieve_table('T10105')['Data'], ['A191RC'])\n",
    "res = (df.divide(gdp['A191RC'], axis=0) * 100).rolling(4).mean().dropna()\n",
    "res.loc['1989':].to_csv(data_dir/'fabz1.csv', index_label='date')"
   ]
  },
  {
   "cell_type": "code",
   "execution_count": 53,
   "metadata": {
    "ExecuteTime": {
     "end_time": "2022-11-16T05:26:47.669118Z",
     "start_time": "2022-11-16T05:26:47.663814Z"
    }
   },
   "outputs": [
    {
     "name": "stdout",
     "output_type": "stream",
     "text": [
      "In the second quarter of 2022, the rest of the world acquired \\$2.15 trillion in US assets, equivalent to 7.9 percent of GDP (see \\cbox{blue!60!cyan!90!black}). The rest of the world incurred the equivalent of -2.7 percent of US GDP in liabilities (see \\cbox{red}) and issued -2.7 percent of US GDP of equity in foreign businesses (see \\cbox{violet!90!black}). \n"
     ]
    }
   ],
   "source": [
    "ltdt = dtxt(res.index[-1])['qtr2']\n",
    "lta = df['Assets'].iloc[-1] / 1_000\n",
    "lta = f'\\${(lta / 1_000):.2f} trillion' if lta > 1_000 else f'\\${(lta):.0f} billion'\n",
    "sha = res['Assets'].iloc[-1]\n",
    "shl = res['Liab'].iloc[-1]\n",
    "she = res['Equity'].iloc[-1]\n",
    "\n",
    "colors = {'Assets': 'blue!60!cyan!90!black', \n",
    "          'Liab': 'red', 'Equity': 'violet!90!black'}\n",
    "cl = {key: c_box(value) for key, value in colors.items()}\n",
    "\n",
    "text = (f'In {ltdt}, the rest of the world acquired '+\n",
    "        f'{lta} in US assets, equivalent to {sha:.1f} percent '+\n",
    "        f'of GDP {cl[\"Assets\"]}. The rest of the world incurred the '+\n",
    "        f'equivalent of {shl:.1f} percent of US GDP in liabilities '+\n",
    "        f'{cl[\"Liab\"]} and issued {she:.1f} percent of US GDP of '+\n",
    "        f'equity in foreign businesses {cl[\"Equity\"]}. ')\n",
    "write_txt(text_dir / 'fabz1.txt', text)\n",
    "print(text)"
   ]
  },
  {
   "cell_type": "code",
   "execution_count": null,
   "metadata": {},
   "outputs": [],
   "source": []
  },
  {
   "cell_type": "code",
   "execution_count": null,
   "metadata": {},
   "outputs": [],
   "source": []
  },
  {
   "cell_type": "markdown",
   "metadata": {},
   "source": [
    "### Distributive Financial Accounts (DFA)\n",
    "\n",
    "https://www.federalreserve.gov/releases/z1/dataviz/download/dfa-networth-shares.csv"
   ]
  },
  {
   "cell_type": "code",
   "execution_count": 54,
   "metadata": {
    "ExecuteTime": {
     "end_time": "2022-11-16T05:26:47.879272Z",
     "start_time": "2022-11-16T05:26:47.670400Z"
    }
   },
   "outputs": [],
   "source": [
    "url = ('https://www.federalreserve.gov/releases/z1/'+\n",
    "       'dataviz/download/dfa-networth-shares.csv')\n",
    "r = requests.get(url)\n",
    "df = pd.read_csv(io.StringIO(r.content.decode('utf-8')), \n",
    "                 index_col=['Date', 'Category'])['Net worth'].unstack()\n",
    "df.index = pd.to_datetime(df.index.str.replace(':', '-'))\n",
    "df['Top10'] = df[['RemainingTop1', 'Next9', 'TopPt1']].sum(axis=1)\n",
    "df['Top1'] = df[['RemainingTop1', 'TopPt1']].sum(axis=1)\n",
    "df.to_csv(data_dir / 'dfa_nw_sh.csv', index_label='date', float_format='%g')"
   ]
  },
  {
   "cell_type": "code",
   "execution_count": 55,
   "metadata": {
    "ExecuteTime": {
     "end_time": "2022-11-16T05:26:47.896642Z",
     "start_time": "2022-11-16T05:26:47.881895Z"
    }
   },
   "outputs": [
    {
     "name": "stdout",
     "output_type": "stream",
     "text": [
      "The Federal Reserve \\href{https://www.federalreserve.gov/releases/z1/dataviz/dfa/distribute/chart/}{report} net worth by percentile. The top one percent of households by wealth own 31.1 percent percent of US wealth, as of 2022 Q2 (see {\\color{red!50!orange}\\textbf{---}}), while the top 10 percent of households own 68.0 percent percent. The bottom half of households own 3.2 percent percent of US wealth (see {\\color{blue!80!cyan}\\textbf{---}}).\n",
      "\n",
      "Since 1989, the wealth share of the top one percent increased 8.5 percentage points, while the share held by the bottom 50 percent decreased 0.5 percentage point. The wealth share of the 40 percent of households in wealth percentiles 50 through 90 decreased 7.5 percentage points since 1989.\n"
     ]
    }
   ],
   "source": [
    "df = pd.read_csv(data_dir / 'dfa_nw_sh.csv', index_col='date', \n",
    "                 parse_dates=True)\n",
    "cols = [('Bottom50', 'blue!80!cyan'), ('Next40', 'cyan!80!white'), \n",
    "        ('Next9', 'orange!50!yellow'), ('Top1', 'red!50!orange')]\n",
    "\n",
    "nodes = '\\n'.join([end_node(df[name], col, percent=True) \n",
    "                 for name, col in cols])\n",
    "write_txt(text_dir / 'dfa_nw_sh_nodes.txt', nodes)\n",
    "\n",
    "lt = df.iloc[-1].apply(lambda x: f'{x:.1f} percent')\n",
    "ltdt = dtxt(lt.name)['qtr1']\n",
    "cl = {name: c_line(col) for name, col in cols}\n",
    "ch = ((df.iloc[-1] - df.loc['1989'].mean())\n",
    "      .apply(lambda x: value_text(x, ptype='pp')))\n",
    "\n",
    "url = ('https://www.federalreserve.gov/releases/'+\n",
    "       'z1/dataviz/dfa/distribute/chart/')\n",
    "text = (f'The Federal Reserve \\href{{{url}}}{{report}} net '+\n",
    "        'worth by percentile. The top one percent of households '+\n",
    "        f'by wealth own {lt.Top1} '+\n",
    "        f'percent of US wealth, as of {ltdt} {cl[\"Top1\"]}, while '+\n",
    "        f'the top 10 percent of households own {lt.Top10} percent. '+\n",
    "        f'The bottom half of households own {lt.Bottom50} percent of '+\n",
    "        f'US wealth {cl[\"Bottom50\"]}.\\n\\nSince 1989, the wealth '+\n",
    "        f'share of the top one percent {ch.Top1}, while the share '+\n",
    "        f'held by the bottom 50 percent {ch.Bottom50}. The wealth '+\n",
    "        'share of the 40 percent of households in wealth percentiles '+\n",
    "        f'50 through 90 {ch.Next40} since 1989.')\n",
    "write_txt(text_dir / 'dfa_nw_sh.txt', text)\n",
    "print(text)"
   ]
  },
  {
   "cell_type": "code",
   "execution_count": null,
   "metadata": {},
   "outputs": [],
   "source": []
  },
  {
   "cell_type": "code",
   "execution_count": null,
   "metadata": {},
   "outputs": [],
   "source": []
  },
  {
   "cell_type": "markdown",
   "metadata": {},
   "source": [
    "# Survey of Consumer Finances"
   ]
  },
  {
   "cell_type": "code",
   "execution_count": 56,
   "metadata": {
    "ExecuteTime": {
     "end_time": "2022-11-16T05:26:47.908866Z",
     "start_time": "2022-11-16T05:26:47.898220Z"
    }
   },
   "outputs": [],
   "source": [
    "df = (pd.read_csv('../data/scf_wealth_median.csv')\n",
    "        .set_index(['year', 'Category'])['Before_Tax_Income']\n",
    "        .unstack())\n",
    "df.index = pd.to_datetime([f'{year}-07-01' for year in df.index])\n",
    "df.to_csv(data_dir / 'scfwealthmedian.csv', index_label='date', float_format='%g')\n",
    "node = end_node(df['Less than 25'], 'violet')\n",
    "write_txt(text_dir / 'scfwealthmedian_node1.txt', node)\n",
    "node = end_node(df['25-49.9'], 'red!20!orange!95!black')\n",
    "write_txt(text_dir / 'scfwealthmedian_node2.txt', node)\n",
    "node = end_node(df['50-74.9'], 'green!80!blue!85!black')\n",
    "write_txt(text_dir / 'scfwealthmedian_node3.txt', node)\n",
    "node = end_node(df['75-89.9'], 'red!80!black')\n",
    "write_txt(text_dir / 'scfwealthmedian_node4.txt', node)\n",
    "node = end_node(df['90-100'], 'blue!80!cyan!80!black', \n",
    "          date='y', full_year=True)\n",
    "write_txt(text_dir / 'scfwealthmedian_node5.txt', node)\n",
    "#df.plot();"
   ]
  },
  {
   "cell_type": "code",
   "execution_count": 57,
   "metadata": {
    "ExecuteTime": {
     "end_time": "2022-11-16T05:26:47.917305Z",
     "start_time": "2022-11-16T05:26:47.910343Z"
    }
   },
   "outputs": [
    {
     "name": "stdout",
     "output_type": "stream",
     "text": [
      "have a median annual income of \\$236,203 in 2019 and \\$155,693 in 1989, after adjusting for inflation. Median income for the group increased \\$80,510, or 51.7 percent, over the 30-year period. \n",
      "\n",
      " In contrast, families in the third quartile of wealth (50th to 74.9th percentiles, mean wealth of \\$700,000 in 2019, see {\\color{green!80!blue!85!black}\\textbf{---}}) have a median income of \\$70,250 in 2019 and \\$62,277 in 1989, an increase of \\$7,973 (12.8 percent). \n",
      "\n",
      "Median income for families in the second quartile (25th to 49.9th percentiles, mean wealth of \\$236,000 in 2019, see {\\color{red!20!orange!95!black}\\textbf{---}}) increased \\$3,239 (7.4 percent) to \\$46,833 in 2019, from \\$43,594 in 1989. \n",
      "\n",
      " For the bottom quarter of families by wealth (see {\\color{violet}\\textbf{---}}), median income increased \\$8,766 or 42.2 percent to \\$29,525, over the 30 years ending 2019. The average wealth of the bottom quarter of families is negative in 2019 and the median wealth is virtually zero. \n"
     ]
    }
   ],
   "source": [
    "yr = dtxt(df.index[-1])['year']\n",
    "pryr = dtxt(df.index[0])['year']\n",
    "\n",
    "g1val = df['90-100'].iloc[-1] * 1000\n",
    "g1valpr = df['90-100'].iloc[0] * 1000\n",
    "g1ch = g1val - g1valpr\n",
    "g1pc = ((g1val / g1valpr) - 1) * 100\n",
    "\n",
    "g2val = df['50-74.9'].iloc[-1] * 1000\n",
    "g2valpr = df['50-74.9'].iloc[0] * 1000\n",
    "g2ch = g2val - g2valpr\n",
    "g2pc = ((g2val / g2valpr) - 1) * 100\n",
    "\n",
    "g3val = df['25-49.9'].iloc[-1] * 1000\n",
    "g3valpr = df['25-49.9'].iloc[0] * 1000\n",
    "g3ch = g3val - g3valpr\n",
    "g3pc = ((g3val / g3valpr) - 1) * 100\n",
    "\n",
    "g4val = df['Less than 25'].iloc[-1] * 1000\n",
    "g4valpr = df['Less than 25'].iloc[0] * 1000\n",
    "g4ch = g4val - g4valpr\n",
    "g4pc = ((g4val / g4valpr) - 1) * 100\n",
    "\n",
    "text1 = (f'have a median annual income of \\${g1val:,.0f} in {yr} and '+\n",
    "         f'\\${g1valpr:,.0f} in {pryr}, after adjusting for inflation. '+\n",
    "         f'Median income for the group increased \\${g1ch:,.0f}, or '+\n",
    "         f'{g1pc:.1f} percent, over the 30-year period. ')\n",
    "\n",
    "write_txt(text_dir / 'income_wealthg1.txt', text1)\n",
    "print(text1)\n",
    "\n",
    "text2 = ('In contrast, families in the third quartile of wealth (50th to 74.9th '+\n",
    "         f'percentiles, mean wealth of \\$700,000 in {yr}, see '+\n",
    "         '{\\color{green!80!blue!85!black}\\\\textbf{---}}) have a median income of '+\n",
    "         f'\\${g2val:,.0f} in {yr} and \\${g2valpr:,.0f} in '+\n",
    "         f'{pryr}, an increase of \\${g2ch:,.0f} ({g2pc:.1f} percent). \\n\\n'+\n",
    "         'Median income for families in the second quartile (25th to 49.9th '+\n",
    "         f'percentiles, mean wealth of \\$236,000 in {yr}, see '+\n",
    "         '{\\color{red!20!orange!95!black}\\\\textbf{---}}) increased '+\n",
    "         f'\\${g3ch:,.0f} ({g3pc:,.1f} percent) to '+\n",
    "         f'\\${g3val:,.0f} in {yr}, '+\n",
    "         f'from \\${g3valpr:,.0f} in {pryr}. \\n\\n For '+\n",
    "         'the bottom quarter of families by wealth (see {\\color{violet}\\\\textbf{---}}), '+\n",
    "         f'median income increased \\${g4ch:,.0f} or {g4pc:,.1f} '+\n",
    "         f'percent to \\${g4val:,.0f}, over the 30 years ending {yr}. '+\n",
    "         f'The average wealth of the bottom quarter of families '+\n",
    "         f'is negative in {yr} and the median wealth is virtually zero. ')\n",
    "write_txt(text_dir / 'income_wealthg2.txt', text2)\n",
    "print('\\n', text2)"
   ]
  },
  {
   "cell_type": "code",
   "execution_count": 58,
   "metadata": {
    "ExecuteTime": {
     "end_time": "2022-11-16T05:26:47.930359Z",
     "start_time": "2022-11-16T05:26:47.918470Z"
    }
   },
   "outputs": [],
   "source": [
    "d = {'Black, non-Hispanic': 'Black', \n",
    "     'White, non-Hispanic': 'White'}\n",
    "\n",
    "df = pd.read_csv('../data/scf_race_mean.csv').set_index(['year', 'Category'])['Net_Worth'].unstack()\n",
    "df = df.rename(d, axis=1)\n",
    "df.index = pd.to_datetime([f'{year}-07-01' for year in df.index])\n",
    "df = df.round(1)\n",
    "df.to_csv(data_dir / 'scfracemean.csv', index_label='date')"
   ]
  },
  {
   "cell_type": "code",
   "execution_count": 59,
   "metadata": {
    "ExecuteTime": {
     "end_time": "2022-11-16T05:26:47.950523Z",
     "start_time": "2022-11-16T05:26:47.934424Z"
    }
   },
   "outputs": [],
   "source": [
    "df = pd.read_csv('../data/scf_race_mean.csv').set_index(['year', 'Category'])['Before_Tax_Income'].unstack()\n",
    "df = df.rename(d, axis=1)\n",
    "df.index = pd.to_datetime([f'{year}-07-01' for year in df.index])\n",
    "df = df.round(1)\n",
    "df.to_csv(data_dir / 'scfracemean1.csv', index_label='date')"
   ]
  },
  {
   "cell_type": "code",
   "execution_count": 60,
   "metadata": {
    "ExecuteTime": {
     "end_time": "2022-11-16T05:26:47.979798Z",
     "start_time": "2022-11-16T05:26:47.954386Z"
    }
   },
   "outputs": [],
   "source": [
    "df = pd.read_csv('../data/scf_race_mean.csv').set_index(['year', 'Category'])['Financial_Assets'].unstack()\n",
    "df = df.rename(d, axis=1)\n",
    "df.index = pd.to_datetime([f'{year}-07-01' for year in df.index])\n",
    "df = df.round(1)\n",
    "df.to_csv(data_dir / 'scfracemean0.csv', index_label='date')"
   ]
  },
  {
   "cell_type": "code",
   "execution_count": 61,
   "metadata": {
    "ExecuteTime": {
     "end_time": "2022-11-16T05:26:48.026303Z",
     "start_time": "2022-11-16T05:26:47.986007Z"
    }
   },
   "outputs": [
    {
     "name": "stdout",
     "output_type": "stream",
     "text": [
      "In 2019, among the 60.8 percent of white families who own stocks, the average value of stock holdings is \\$433,900. The return on these assets is a supplement to labor income and the assets themselves provide cushion against unexpected expenses. Meanwhile, black families have relatively few financial assets; only 33.5 percent of black families own stocks, with average stock holdings of \\$76,300.\n"
     ]
    }
   ],
   "source": [
    "df = pd.read_csv('../data/scf_race_mean.csv').set_index(['year', 'Category'])['Stock_Holdings'].unstack()\n",
    "df = df.rename(d, axis=1)\n",
    "df.index = pd.to_datetime([f'{year}-07-01' for year in df.index])\n",
    "df = df.round(1)\n",
    "df.to_csv(data_dir / 'scfracemean2.csv', index_label='date')\n",
    "\n",
    "wval = df.White.iloc[-1] * 1000\n",
    "bval = df.Black.iloc[-1] * 1000\n",
    "\n",
    "df = pd.read_csv('../data/scf_race_have.csv').set_index(['year', 'Category'])['Stock_Holdings'].unstack()\n",
    "df = df.rename(d, axis=1)\n",
    "df.index = pd.to_datetime([f'{year}-07-01' for year in df.index])\n",
    "df = df.round(1)\n",
    "df.to_csv(data_dir / 'scfracehave.csv', index_label='date')\n",
    "\n",
    "wp = df.White.iloc[-1]\n",
    "bp = df.Black.iloc[-1]\n",
    "\n",
    "yr = dtxt(df.index[-1])['year']\n",
    "\n",
    "text = (f'In {yr}, among the {wp:.1f} percent of white families who own stocks, '+\n",
    "        f'the average value of stock holdings is \\${wval:,.0f}. The return on these '+\n",
    "        'assets is a supplement to labor income and the assets themselves provide '+\n",
    "        'cushion against unexpected expenses. Meanwhile, black families '+\n",
    "        f'have relatively few financial assets; only {bp:.1f} percent of black '+\n",
    "        f'families own stocks, with average stock holdings of \\${bval:,.0f}.')\n",
    "write_txt(text_dir / 'scfracestocks.txt', text)\n",
    "print(text)"
   ]
  },
  {
   "cell_type": "code",
   "execution_count": null,
   "metadata": {},
   "outputs": [],
   "source": []
  },
  {
   "cell_type": "code",
   "execution_count": null,
   "metadata": {},
   "outputs": [],
   "source": []
  }
 ],
 "metadata": {
  "kernelspec": {
   "display_name": "Python 3 (ipykernel)",
   "language": "python",
   "name": "python3"
  },
  "language_info": {
   "codemirror_mode": {
    "name": "ipython",
    "version": 3
   },
   "file_extension": ".py",
   "mimetype": "text/x-python",
   "name": "python",
   "nbconvert_exporter": "python",
   "pygments_lexer": "ipython3",
   "version": "3.8.13"
  }
 },
 "nbformat": 4,
 "nbformat_minor": 4
}
