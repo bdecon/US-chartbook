{
 "cells": [
  {
   "cell_type": "markdown",
   "metadata": {},
   "source": [
    "### Fed Z.1 Report"
   ]
  },
  {
   "cell_type": "code",
   "execution_count": 1,
   "metadata": {
    "ExecuteTime": {
     "end_time": "2021-06-11T01:06:28.502266Z",
     "start_time": "2021-06-11T01:06:27.797280Z"
    }
   },
   "outputs": [],
   "source": [
    "%config Completer.use_jedi = False\n",
    "import sys\n",
    "sys.path.append('../src')\n",
    "\n",
    "import uschartbook.config\n",
    "\n",
    "from uschartbook.config import *\n",
    "from uschartbook.utils import *"
   ]
  },
  {
   "cell_type": "markdown",
   "metadata": {},
   "source": [
    "### Change in liabilities"
   ]
  },
  {
   "cell_type": "code",
   "execution_count": 2,
   "metadata": {
    "ExecuteTime": {
     "end_time": "2021-06-11T01:06:34.019808Z",
     "start_time": "2021-06-11T01:06:28.503325Z"
    }
   },
   "outputs": [],
   "source": [
    "base = 'https://www.federalreserve.gov/datadownload/Output.aspx?'\n",
    "srs = 'rel=Z1&series=b682bef8ceb8d78b170ce12e692f06dc&lastobs=&' # More detailed\n",
    "dt = 'from=03/01/1988&to=12/31/2021&'\n",
    "oth = 'filetype=csv&label=include&layout=seriescolumn'\n",
    "\n",
    "url = base + srs + dt + oth\n",
    "\n",
    "n = {'Total': 'Total',\n",
    "     'FL104190005.Q': '\\hspace{-2mm}\\cbox{lime!70}Corporate Business',\n",
    "     'FL104122005.Q': '\\hspace{4mm} Debt Securities',\n",
    "     'FL104123005.Q': '\\hspace{4mm} Loans',\n",
    "     'FL114190005.Q': '\\hspace{-2mm}\\cbox{green!72!black}Non-corporate Business',\n",
    "     'FL113165505.Q': '\\hspace{4mm} Commercial Mortgages',\n",
    "     'FL154190005.Q': '\\hspace{-2mm}\\cbox{orange!70}Household \\& Nonprofit',\n",
    "     'FL153165105.Q': '\\hspace{4mm} Home Mortgages',\n",
    "     'FL153166000.Q': '\\hspace{4mm} Consumer Credit',\n",
    "     'FL214190005.Q': '\\hspace{-2mm}\\cbox{cyan!52}State \\& Local Government',\n",
    "     'FL314190005.Q': '\\hspace{-2mm}\\cbox{blue!70}Federal Government'}\n",
    "\n",
    "df = pd.read_csv(url, skiprows=5, index_col=0)\n",
    "df.index = pd.to_datetime(df.index)\n",
    "\n",
    "subseries = ['FL104190005.Q', 'FL114190005.Q', 'FL154190005.Q', \n",
    "             'FL214190005.Q', 'FL314190005.Q']\n",
    "\n",
    "df['Total'] = df[subseries].sum(axis=1)\n",
    "\n",
    "pce = nipa_df(retrieve_table('T20304')['Data'], ['DPCERG'])['DPCERG']\n",
    "pr = (pce / pce.iloc[-1])\n",
    "data = df.divide(pr, axis=0).dropna().loc['1988':]\n",
    "\n",
    "result = growth_contrib_ann(data, 'Total').dropna()\n",
    "result.to_csv(data_dir / 'liabgr.csv', index_label='date')"
   ]
  },
  {
   "cell_type": "code",
   "execution_count": 3,
   "metadata": {
    "ExecuteTime": {
     "end_time": "2021-06-11T01:06:34.025457Z",
     "start_time": "2021-06-11T01:06:34.021049Z"
    }
   },
   "outputs": [
    {
     "name": "stdout",
     "output_type": "stream",
     "text": [
      "Total domestic liabilities increased 6.4 percent over the year ending 2021 Q1, after adjusting for inflation. Federal government borrowing contributed 5.5 percentage points to the total (see\\cbox{blue!70}), while the state and local government subtracted 0.9 percentage point (see\\cbox{cyan!52}). Households and nonprofits contributed 0.6 percentage point over this three year period (see\\cbox{orange!70}), corporate businesses contributed 0.8 percentage point (see\\cbox{lime!70}), and non-corporate businesses contributed 0.4 percentage point (see\\cbox{green!72!black}).\n"
     ]
    }
   ],
   "source": [
    "fedgov = value_text(result[\"FL314190005.Q\"].iloc[-1], 'contribution_to', ptype='pp')\n",
    "slggov = value_text(result[\"FL214190005.Q\"].iloc[-1], 'contribution', ptype='pp')\n",
    "hhnp = value_text(result[\"FL154190005.Q\"].iloc[-1], 'contribution', ptype='pp')\n",
    "cb = value_text(result[\"FL104190005.Q\"].iloc[-1], 'contribution', ptype='pp')\n",
    "ncb = value_text(result[\"FL114190005.Q\"].iloc[-1], 'contribution', ptype='pp')\n",
    "\n",
    "text = (f'Total domestic liabilities {value_text(result.Total.iloc[-1])} '+\n",
    "        f'over the year ending {dtxt(data.index[-1])[\"qtr1\"]}, after adjusting for inflation. '+\n",
    "        f'Federal government borrowing {fedgov} the total (see\\cbox{{blue!70}}), '+\n",
    "        f'while the state and local government {slggov} (see\\cbox{{cyan!52}}). '+\n",
    "        f'Households and nonprofits {hhnp} over this three '+\n",
    "        f'year period (see\\cbox{{orange!70}}), corporate businesses '+\n",
    "        f'{cb} (see\\cbox{{lime!70}}), and '+\n",
    "        f'non-corporate businesses {ncb} (see\\cbox{{green!72!black}}).')\n",
    "\n",
    "write_txt(text_dir / 'liabgr.txt', text)\n",
    "print(text)"
   ]
  },
  {
   "cell_type": "code",
   "execution_count": 4,
   "metadata": {
    "ExecuteTime": {
     "end_time": "2021-06-11T01:06:34.042597Z",
     "start_time": "2021-06-11T01:06:34.026572Z"
    }
   },
   "outputs": [],
   "source": [
    "result = result[n.keys()]\n",
    "\n",
    "data = result.iloc[-5:].iloc[::-1].T\n",
    "\n",
    "cols = [f' {q.year} Q{q.quarter}' \n",
    "        if i == 0 else f'`{str(q.year)[2:]} Q{q.quarter}'\n",
    "        for i, q in enumerate(data.columns)]\n",
    "\n",
    "data.columns = cols\n",
    "data['3-year'] = result.rolling(13).mean().iloc[-1].round(2)\n",
    "data['10-year'] = result.rolling(41).mean().iloc[-1].round(2)\n",
    "data['30-year'] = result.rolling(121).mean().iloc[-1].round(2)\n",
    "data.index = data.index.map(n)\n",
    "data = data.applymap('{:.2f}'.format)\n",
    "data.to_csv(data_dir / 'liabgr.tex', sep='&', line_terminator='\\\\\\ ', quotechar=' ')"
   ]
  },
  {
   "cell_type": "code",
   "execution_count": null,
   "metadata": {},
   "outputs": [],
   "source": []
  },
  {
   "cell_type": "code",
   "execution_count": null,
   "metadata": {},
   "outputs": [],
   "source": []
  },
  {
   "cell_type": "markdown",
   "metadata": {},
   "source": [
    "### Wealth to GDP\n"
   ]
  },
  {
   "cell_type": "code",
   "execution_count": 5,
   "metadata": {
    "ExecuteTime": {
     "end_time": "2021-06-11T01:06:39.675993Z",
     "start_time": "2021-06-11T01:06:34.043635Z"
    }
   },
   "outputs": [
    {
     "name": "stdout",
     "output_type": "stream",
     "text": [
      "The ratio of US total wealth, excluding public lands, to GDP increased to 5.52 in 2021 Q1 from 3.65 in 1989 Q1. The market value of corporate equities (see\\cbox{{magenta!50!violet}}) increased to a 2.67 multiple of GDP in 2021 Q1 from 0.56 in 1989 Q1. The market value of residential real estate (see\\cbox{{green!80!blue}}) increased to 1.7 times GDP from 1.33 in 1989. The other category (see\\cbox{{cyan!35!white}}), which includes tangible assets other than residential real estate less US financial obligations to the rest of the world, decreased to 1.14 from 1.76 in 1989.\n"
     ]
    }
   ],
   "source": [
    "base = 'https://www.federalreserve.gov/datadownload/Output.aspx?'\n",
    "srs = 'rel=Z1&series=71f2e13e70c5d96bb5da3a65053d836e&lastobs=&'\n",
    "dt = 'from=03/01/1988&to=12/31/2021&'\n",
    "oth = 'filetype=csv&label=include&layout=seriescolumn'\n",
    "url = base + srs + dt + oth\n",
    "\n",
    "d = {'LM155035005.Q': 'Real Estate', \n",
    "     'FL892090005.Q': 'Total', \n",
    "     'LM883164105.Q': 'Corporate Equities'}\n",
    "\n",
    "df = pd.read_csv(url, skiprows=5, index_col=0)[d.keys()].rename(d, axis=1)\n",
    "\n",
    "df.index = pd.to_datetime(df.index)\n",
    "\n",
    "df['Other'] = df['Total'] * 2 - df.sum(axis=1)\n",
    "\n",
    "data = (df.div(nipa_df(retrieve_table('T10105')['Data'], ['A191RC']\n",
    "               )['A191RC'], axis=0)).dropna().loc['1989':]\n",
    "data.loc['1989':].to_csv(data_dir / 'wealthgdp.csv', index_label='date')\n",
    "\n",
    "d89 = data.iloc[0].round(2)\n",
    "dlt = data.iloc[-1].round(2)\n",
    "\n",
    "date = dtxt(data.index[-1])['qtr1']\n",
    "\n",
    "wealthtxt = ('The ratio of US total wealth, excluding public lands, to GDP '+\n",
    "             f\"increased to {dlt['Total']} in {date} from {d89['Total']} in 1989 Q1. \"+\n",
    "             \"The market value of corporate equities (see\\cbox{{magenta!50!violet}}) \"+\n",
    "             f\"increased to a {dlt['Corporate Equities']} multiple of GDP in {date} \"+\n",
    "             f\"from {d89['Corporate Equities']} in 1989 Q1. The market value of \"+\n",
    "             \"residential real estate (see\\cbox{{green!80!blue}}) increased to \"+\n",
    "             f\"{dlt['Real Estate']} times GDP from {d89['Real Estate']} in 1989. \"+\n",
    "             \"The other category (see\\cbox{{cyan!35!white}}), which includes tangible \"+\n",
    "             \"assets other than residential real estate less US financial obligations \"+\n",
    "             f\"to the rest of the world, decreased to {dlt['Other']} from {d89['Other']} in 1989.\")\n",
    "write_txt(text_dir / 'wealthgdp.txt', wealthtxt)\n",
    "print(wealthtxt)"
   ]
  },
  {
   "cell_type": "code",
   "execution_count": null,
   "metadata": {},
   "outputs": [],
   "source": []
  },
  {
   "cell_type": "code",
   "execution_count": null,
   "metadata": {},
   "outputs": [],
   "source": []
  },
  {
   "cell_type": "markdown",
   "metadata": {},
   "source": [
    "### Business Debt"
   ]
  },
  {
   "cell_type": "code",
   "execution_count": 6,
   "metadata": {
    "ExecuteTime": {
     "end_time": "2021-06-11T01:06:45.149394Z",
     "start_time": "2021-06-11T01:06:39.678334Z"
    }
   },
   "outputs": [],
   "source": [
    "base = 'https://www.federalreserve.gov/datadownload/Output.aspx?'\n",
    "srs = 'rel=Z1&series=d720788442f3511d102b43eee2bddb41&lastobs=&'\n",
    "dt = 'from=03/01/1988&to=12/31/2021&'\n",
    "oth = 'filetype=csv&label=include&layout=seriescolumn'\n",
    "url = base + srs + dt + oth\n",
    "\n",
    "d = {'FL104122005.Q': 'Debt Securities',\n",
    "     'FL143168005.Q': 'Bank Loans',\n",
    "     'FL143165005.Q': 'Mortgages',\n",
    "     'FL143169005.Q': 'Nonbank Loans',\n",
    "     'FL144104005.Q': 'Total',\n",
    "     'FL104104005.Q': 'Total Corporate',\n",
    "     'FL114123005.Q': 'Total Noncorporate',\n",
    "     'FL794122005.Q': 'Financial Debt Securities',\n",
    "     'FL794123005.Q': 'Financial Loans',\n",
    "     'FL794104005.Q': 'Financial Total',\n",
    "     'FL423161705.Q': 'Agency MBS'}\n",
    "\n",
    "df = pd.read_csv(url, skiprows=5, index_col=0)[d.keys()].rename(d, axis=1)\n",
    "df.index = pd.to_datetime(df.index)\n",
    "df['Bank Loans and Mortgages'] = df['Bank Loans'] + df['Mortgages']\n",
    "df['Other'] = df['Financial Debt Securities'] - df['Agency MBS']\n",
    "\n",
    "data = (df.div(nipa_df(retrieve_table('T10105')['Data'], ['A191RC']\n",
    "               )['A191RC'], axis=0)).dropna() * 100\n",
    "data.loc['1989':].to_csv(data_dir / 'busdebtgdp2.csv', index_label='date', float_format='%g')"
   ]
  },
  {
   "cell_type": "code",
   "execution_count": 7,
   "metadata": {
    "ExecuteTime": {
     "end_time": "2021-06-11T01:06:45.154971Z",
     "start_time": "2021-06-11T01:06:45.150370Z"
    }
   },
   "outputs": [],
   "source": [
    "lt_date = f'{data.index[-1].year} Q{data.index[-1].quarter}'\n",
    "total = df['Total'].iloc[-1] / 1_000\n",
    "corp = df['Total Corporate'].iloc[-1] / 1_000\n",
    "corp_sh = corp / total * 100\n",
    "tot_gdp = data['Total'].iloc[-1]\n",
    "tot_gdp_3 = data['Total'].iloc[-13]\n",
    "\n",
    "date_3 = f'{data.index[-13].year} Q{data.index[-13].quarter}'\n",
    "tot_3 = tot_gdp - tot_gdp_3\n",
    "ds_3 = data['Debt Securities'].iloc[-1] - data['Debt Securities'].iloc[-13]\n",
    "nb_3 = data['Nonbank Loans'].iloc[-1] - data['Nonbank Loans'].iloc[-13]\n",
    "\n",
    "if tot_3 >= 1:\n",
    "    tot_text = 'increased faster than'\n",
    "    tot_text2 = 'increased'\n",
    "elif (tot_3 < 1) & (tot_3 >= -1):\n",
    "    tot_text = 'grown at about the same rate as'\n",
    "    tot_text2 = 'grew'\n",
    "else:\n",
    "    tot_text = 'fallen relative to'\n",
    "    tot_text2 = 'fell'\n",
    "    \n",
    "finmax = data['Financial Total'].max()\n",
    "finmaxdt = f'{data[\"Financial Total\"].idxmax().year} Q{data[\"Financial Total\"].idxmax().quarter}'\n",
    "finlt = data['Financial Total'].iloc[-1]"
   ]
  },
  {
   "cell_type": "code",
   "execution_count": 8,
   "metadata": {
    "ExecuteTime": {
     "end_time": "2021-06-11T01:06:45.163308Z",
     "start_time": "2021-06-11T01:06:45.156526Z"
    }
   },
   "outputs": [],
   "source": [
    "busdebt = (f'As of {lt_date}, nonfinancial business debt--the debt security '+\n",
    "           'and loan liabilities of nonfinancial businesses--both corporate and '+\n",
    "           f'non-corporate--totals \\${total:,.0f} billion, with \\${corp:,.0f} '+\n",
    "           f'billion ({corp_sh:,.1f}\\%) held by corporate businesses. Over the '+\n",
    "           f'past three years, nonfinancial business debt has {tot_text} overall '+\n",
    "           'economic activity. As a share of GDP, nonfinancial business debt '+\n",
    "           f'{tot_text2} by {tot_3:.1f} percentage points to {tot_gdp:.1f} percent '+\n",
    "           f'in {lt_date} from {tot_gdp_3:.1f} percent in {date_3}. The vast '+\n",
    "           f'majority of the increase, {nb_3:.1f} percentage points, comes from '+\n",
    "           'nonbank loans (see\\\\cbox{{blue}}).')\n",
    "\n",
    "write_txt(text_dir / 'busdebtgdp.txt', busdebt)\n",
    "\n",
    "fintext = ('Domestic financial sector debt has fallen as a share of '+\n",
    "           f'GDP to {finlt:.1f} percent in {lt_date} from a housing-bubble '+\n",
    "           f'peak of {finmax:.1f} percent in {finmaxdt}.')\n",
    "\n",
    "write_txt(text_dir / 'findebtgdp.txt', fintext)"
   ]
  },
  {
   "cell_type": "code",
   "execution_count": null,
   "metadata": {},
   "outputs": [],
   "source": []
  },
  {
   "cell_type": "code",
   "execution_count": null,
   "metadata": {},
   "outputs": [],
   "source": []
  },
  {
   "cell_type": "code",
   "execution_count": null,
   "metadata": {},
   "outputs": [],
   "source": []
  },
  {
   "cell_type": "markdown",
   "metadata": {},
   "source": [
    "### Household debt"
   ]
  },
  {
   "cell_type": "code",
   "execution_count": 9,
   "metadata": {
    "ExecuteTime": {
     "end_time": "2021-06-11T01:06:50.632684Z",
     "start_time": "2021-06-11T01:06:45.168815Z"
    }
   },
   "outputs": [],
   "source": [
    "base = 'https://www.federalreserve.gov/datadownload/Output.aspx?'\n",
    "srs = 'rel=Z1&series=21a69f49792f26a66791418647f75234&lastobs=&'\n",
    "dt = 'from=03/01/1988&to=12/31/2021&'\n",
    "oth = 'filetype=csv&label=include&layout=seriescolumn'\n",
    "url = base + srs + dt + oth\n",
    "\n",
    "d = {'FL153165105.Q': 'Mortgages',\n",
    "     'FL153166000.Q': 'Consumer Credit',\n",
    "     'FL154190005.Q': 'Total'}\n",
    "\n",
    "df = pd.read_csv(url, skiprows=5, index_col=0)[d.keys()].rename(d, axis=1).divide(1000)\n",
    "df.index = pd.to_datetime(df.index)\n",
    "df['Other'] = df['Total'] - df['Consumer Credit'] - df['Mortgages']\n",
    "\n",
    "table_store_fa = df.divide(1000)\n",
    "\n",
    "dpi = nipa_df(retrieve_table('T20100')['Data'], ['A067RC'])['A067RC']\n",
    "data = (df.div(dpi, axis=0)).dropna() * 100_000\n",
    "data.loc['1989':].to_csv(data_dir / 'hhdebt.csv', index_label='date')\n",
    "\n",
    "table_store_fa_dpi = data"
   ]
  },
  {
   "cell_type": "code",
   "execution_count": 10,
   "metadata": {
    "ExecuteTime": {
     "end_time": "2021-06-11T01:06:50.640970Z",
     "start_time": "2021-06-11T01:06:50.633727Z"
    }
   },
   "outputs": [
    {
     "name": "stdout",
     "output_type": "stream",
     "text": [
      "The Federal Reserve \\href{https://www.federalreserve.gov/releases/z1/current/default.htm}{reports} total liabilities of households and nonprofits of \\$17.24 trillion in 2021 Q1. The vast majority--\\$11.04 trillion or 64.0 percent of the total--are home mortgages (see\\cbox{blue!60!violet}). Consumer credit liabilities (see\\cbox{magenta}) which include auto loans, credit card debt, student loans, and other personal loans, total \\$4.16 trillion (24.1\\% of the total). The remaining liabilities (see\\cbox{orange!80!yellow}) are primarily attributable to nonprofits. \n",
      "\n",
      " The ratio of household and nonprofit debt to disposable personal income has fallen to 87.2 percent in 2021 Q1 from its housing-bubble peak of 136.0 percent in 2007 Q4. Over the past three years, nominal household and nonprofit debt has increased 11.5 percent while nominal disposable personal income has increased 27.9 percent. As a result, the ratio of household and nonprofit debt to disposable personal income has fallen by 12.8 percentage points.\n"
     ]
    }
   ],
   "source": [
    "date = dtxt(data.index[-1])['qtr1']\n",
    "maxdate = dtxt(data.Total.idxmax())['qtr1']\n",
    "\n",
    "totval = (df['Total'].iloc[-1] / 1000)\n",
    "mortval = (df['Mortgages'].iloc[-1] / 1000)\n",
    "mortsh = mortval / totval * 100\n",
    "ccval = (df['Consumer Credit'].iloc[-1] / 1000)\n",
    "ccsh = ccval / totval * 100\n",
    "\n",
    "totrt = data['Total'].iloc[-1]\n",
    "maxrt = data['Total'].max()\n",
    "\n",
    "dpi3 = dpi.pct_change(12).iloc[-1] * 100\n",
    "rt3 = df.Total.pct_change(12).iloc[-1] * 100\n",
    "ch3 = data.Total.diff(12).iloc[-1]\n",
    "    \n",
    "if ch3 > 0.4:\n",
    "    ch3txt = f'increased by {abs(ch3):.1f} percentage points'\n",
    "elif ch3 < -0.4:\n",
    "    ch3txt = f'fallen by {abs(ch3):.1f} percentage points'\n",
    "else:\n",
    "    ch3txt = 'been virtually unchanged'\n",
    "    \n",
    "text1 = ('The Federal Reserve \\href{https://www.federalreserve.gov/releases/z1/current/default.htm}{reports} '+\n",
    "         f'total liabilities of households and nonprofits of \\${totval:,.2f} trillion in {date}. '+\n",
    "         f'The vast majority--\\${mortval:,.2f} trillion or {mortsh:.1f} percent of the total--are '+\n",
    "         'home mortgages (see\\cbox{blue!60!violet}). Consumer credit liabilities (see\\cbox{magenta}) '+\n",
    "         'which include auto loans, credit card debt, student loans, and other personal loans, total '+\n",
    "         f'\\${ccval:,.2f} trillion ({ccsh:.1f}\\% of the total). The remaining liabilities '+\n",
    "         '(see\\cbox{orange!80!yellow}) are primarily attributable to nonprofits.')\n",
    "\n",
    "text2 = ('The ratio of household and nonprofit debt to disposable personal income has fallen to '+\n",
    "         f'{totrt:.1f} percent in {date} from its housing-bubble peak of {maxrt:.1f} percent in {maxdate}. '+\n",
    "         'Over the past three years, nominal household and nonprofit debt has '+\n",
    "         f'{value_text(rt3, threshold=0.4)} while nominal disposable personal income '+\n",
    "         f'has {value_text(dpi3, threshold=0.4)}. As a result, the ratio of household '+\n",
    "         f'and nonprofit debt to disposable personal income has {ch3txt}.')\n",
    "\n",
    "write_txt(text_dir / 'hhdebt1.txt', text1)    \n",
    "write_txt(text_dir / 'hhdebt2.txt', text2)\n",
    "print(text1, '\\n\\n', text2)"
   ]
  },
  {
   "cell_type": "code",
   "execution_count": null,
   "metadata": {},
   "outputs": [],
   "source": []
  },
  {
   "cell_type": "code",
   "execution_count": null,
   "metadata": {},
   "outputs": [],
   "source": []
  },
  {
   "cell_type": "markdown",
   "metadata": {},
   "source": [
    "### Consumer Credit"
   ]
  },
  {
   "cell_type": "code",
   "execution_count": 11,
   "metadata": {
    "ExecuteTime": {
     "end_time": "2021-06-11T01:06:50.679594Z",
     "start_time": "2021-06-11T01:06:50.642068Z"
    }
   },
   "outputs": [],
   "source": [
    "df = pd.read_csv(data_dir / 'hhdebt2.csv', index_col='Date', parse_dates=True)\n",
    "df['Mortgage Total'] = df['Mortgage'] + df['HE Revolving']\n",
    "dpi = nipa_df(retrieve_table('T20100')['Data'], ['A067RC'])['A067RC']  / 1_000_000\n",
    "data = (df.div(dpi, axis=0)).dropna(how='all') * 100\n",
    "data2 = data\n",
    "data = data.drop(['Other', 'Mortgage Total'], axis=1)\n",
    "data.loc['1989':].to_csv(data_dir / 'hhcdebt.csv', index_label='date')"
   ]
  },
  {
   "cell_type": "code",
   "execution_count": 12,
   "metadata": {
    "ExecuteTime": {
     "end_time": "2021-06-11T01:06:50.684748Z",
     "start_time": "2021-06-11T01:06:50.680542Z"
    }
   },
   "outputs": [
    {
     "data": {
      "text/plain": [
       "'decreased by a total of 4.2 percentage points'"
      ]
     },
     "execution_count": 12,
     "metadata": {},
     "output_type": "execute_result"
    }
   ],
   "source": [
    "cc = (data2['Total'] - data2['Mortgage Total'])\n",
    "value_text(cc.diff(4).iloc[-1], adj='total', ptype='pp')\n",
    "#val_inc_pp(cc.diff(4).iloc[-1])"
   ]
  },
  {
   "cell_type": "code",
   "execution_count": 13,
   "metadata": {
    "ExecuteTime": {
     "end_time": "2021-06-11T01:06:50.693167Z",
     "start_time": "2021-06-11T01:06:50.685841Z"
    }
   },
   "outputs": [
    {
     "name": "stdout",
     "output_type": "stream",
     "text": [
      "The latest comparable figure from the FRBNY data discussed in the previous section, which covers 2021 Q1, shows consumer credit is equivalent to 21.0 percent of one year of disposable personal income (see {\\color{lime!75!green}\\textbf{---}}). Over the past year, the ratio decreased by a total of 4.2 percentage points.\n"
     ]
    }
   ],
   "source": [
    "cc = (data2['Total'] - data2['Mortgage Total'])\n",
    "cc.name = 'value'\n",
    "cc.to_csv(data_dir / 'cc_dpi_quarterly.csv', index_label='date')\n",
    "ltdate = dtxt(cc.index[-1])['qtr1']\n",
    "ltval = cc.iloc[-1]\n",
    "one_yr_diff = value_text(cc.diff(4).iloc[-1], adj='total', ptype='pp')\n",
    "\n",
    "text = ('The latest comparable figure from the FRBNY data discussed '+\n",
    "        f'in the previous section, which covers {ltdate}, '+\n",
    "        f'shows consumer credit is equivalent to {ltval:.1f} percent of one year of '+\n",
    "        'disposable personal income (see {\\color{lime!75!green}\\\\textbf{---}}). '+\n",
    "        f'Over the past year, the ratio {one_yr_diff}.')\n",
    "\n",
    "write_txt(text_dir / 'cc_dpi_2.txt', text)\n",
    "print(text)"
   ]
  },
  {
   "cell_type": "code",
   "execution_count": 14,
   "metadata": {
    "ExecuteTime": {
     "end_time": "2021-06-11T01:06:50.700373Z",
     "start_time": "2021-06-11T01:06:50.694090Z"
    }
   },
   "outputs": [],
   "source": [
    "# Consumer credit charts\n",
    "d = {'Mortgage': 'gray', 'HE Revolving': 'gray', \n",
    "     'Auto Loan': 'blue!60!cyan', 'Credit Card': 'red', \n",
    "     'Student Loan': 'green!80!blue', 'Total': 'gray'}\n",
    "yr3ch = data.diff(12).iloc[-1].sort_values(ascending=True)\n",
    "ltdate = data.index[-1].strftime('%Y-%m-%d')\n",
    "\n",
    "ltdate2 = f'`{str(data.index[-1].year)[-2:]} Q{data.index[-1].quarter}'\n",
    "ltdate3 = f'{data.index[-1].year} Q{data.index[-1].quarter}'\n",
    "dates = f'{data.index[-13].year} Q{data.index[-13].quarter}--`{str(data.index[-1].year)[-2:]} Q{data.index[-1].quarter}'\n",
    "\n",
    "yticklist = \",\".join(yr3ch.index)\n",
    "\n",
    "col = {}\n",
    "ind = {}\n",
    "coord = {}\n",
    "\n",
    "for i, k in enumerate(yr3ch):\n",
    "    coord[i+1] = round(k, 2)\n",
    "    ind[i+1] = i+1\n",
    "    col[i+1] = d[yr3ch.index[i]]\n",
    "    \n",
    "autocolor = d['Auto Loan']\n",
    "studcolor = d['Student Loan']\n",
    "cccolor = d['Credit Card']\n",
    "\n",
    "autoval = data[\"Auto Loan\"].iloc[-1].round(4)\n",
    "studval = data[\"Student Loan\"].iloc[-1].round(4)\n",
    "ccval = data[\"Credit Card\"].iloc[-1].round(4)"
   ]
  },
  {
   "cell_type": "code",
   "execution_count": 15,
   "metadata": {
    "ExecuteTime": {
     "end_time": "2021-06-11T01:06:50.709015Z",
     "start_time": "2021-06-11T01:06:50.701399Z"
    }
   },
   "outputs": [],
   "source": [
    "# Text for charts\n",
    "text = (f'''\\\\noindent \\\\normalsize \\hspace{{5mm}} Total Change, \\small {dates} \\\\normalsize \\hspace{{18mm}} Consumer Debt Trends \\\\footnotesize \n",
    "\\\\vspace{{1mm}}\n",
    "\n",
    "\\hspace{{2.1cm}} \\\\begin{{tikzpicture}}[trim axis left]\n",
    "\t\\\\begin{{axis}}[\\\\barplotnogrid axis y line=left, \\\\barylab{{3.7cm}}{{1.5ex}}\n",
    "\t\twidth=4.6cm, bar width=2.2ex, y=4.0ex, \n",
    "\t\tenlarge y limits={{abs=0.35cm}}, \n",
    "\t\tenlarge x limits=0.33, \\\\bbar{{x}}{{0}},\n",
    "        x tick style={{draw=none}},\n",
    "        ytick={{1,2,3,4,5,6}},\n",
    "\t\tyticklabels={{{yticklist}}},\n",
    "\t\tyticklabel style={{font=\\small, xshift=-4pt}},\n",
    "\t\tevery axis plot/.append style={{bar shift=0pt, fill}},\n",
    "\t\tnodes near coords style={{/pgf/number format/.cd,fixed zerofill,precision=1, assume math mode}}]\n",
    "\t\t\\\\addplot[{col[1]}] coordinates {{{(coord[1], ind[1])}}};\n",
    "\t\t\\\\addplot[{col[2]}] coordinates {{{(coord[2], ind[2])}}};\n",
    "\t\t\\\\addplot[{col[3]}] coordinates {{{(coord[3], ind[3])}}};\n",
    "\t\t\\\\addplot[{col[4]}] coordinates {{{(coord[4], ind[4])}}};\n",
    "\t\t\\\\addplot[{col[5]}] coordinates {{{(coord[5], ind[5])}}};\n",
    "\t\t\\\\addplot[{col[6]}] coordinates {{{(coord[6], ind[6])}}};\n",
    "\t\\end{{axis}}\n",
    "\\end{{tikzpicture}}\n",
    "\\hfill\n",
    "\\\\begin{{tikzpicture}}\n",
    "\t\\\\begin{{axis}}[\\\\bbar{{y}}{{0}}, \\dateaxisticks ytick={{2, 4, 6, 8, 10}}, \n",
    "\t\tclip=false, width=6.7cm, \n",
    "\t\txtick={{{{1999-01-01}}, {{2005-01-01}}, {{2010-01-01}}, {{2015-01-01}}, {{{ltdate}}}}},\n",
    "        minor xtick={{}}, \n",
    "        xticklabels={{`99, `05, `10, `15, {ltdate2}}}, enlarge y limits={{lower, 0.2}}, \n",
    "        enlarge x limits={{0.04}}]\n",
    "\t\\\\rebars\n",
    "\t\\stdline{{{autocolor}}}{{date}}{{Auto Loan}}{{data/hhcdebt.csv}}\n",
    "    \\\\node[label={{0:{{\\scriptsize {autoval:.1f}}}}}, circle, {autocolor}, fill, inner sep=1.5pt] at \n",
    "        (axis cs:{{{ltdate}}},{{{autoval}}}){{}};\n",
    "\t\\stdline{{{studcolor}}}{{date}}{{Student Loan}}{{data/hhcdebt.csv}}\n",
    "    \\\\node[label={{0:{{\\scriptsize {studval:.1f}}}}}, circle, {studcolor}, fill, inner sep=1.5pt] at \n",
    "        (axis cs:{{{ltdate}}},{{{studval}}}){{}};\n",
    "\t\\stdline{{{cccolor}}}{{date}}{{Credit Card}}{{data/hhcdebt.csv}}\n",
    "    \\\\node[label={{0:{{\\scriptsize {ccval:.1f}}}}}, circle, {cccolor}, fill, inner sep=1.5pt] at \n",
    "        (axis cs:{{{ltdate}}},{{{ccval}}}){{}};\n",
    "\t\\stdnode{{4.2cm}}{{1.85cm}}{{\\scriptsize \\color{{{autocolor}}}{{auto}}}}\n",
    "\t\\stdnode{{1.2cm}}{{0.9cm}}{{\\scriptsize \\color{{{studcolor}}}{{student}}}}\n",
    "\t\\stdnode{{3.8cm}}{{0.82cm}}{{\\scriptsize \\color{{{cccolor}}}{{credit card}}}}\n",
    "\t\\end{{axis}}\n",
    "\\end{{tikzpicture}}''')\n",
    "\n",
    "write_txt(text_dir / 'hhcdebt2.txt', text)"
   ]
  },
  {
   "cell_type": "code",
   "execution_count": 16,
   "metadata": {
    "ExecuteTime": {
     "end_time": "2021-06-11T01:06:50.718335Z",
     "start_time": "2021-06-11T01:06:50.710100Z"
    }
   },
   "outputs": [],
   "source": [
    "# Consumer credit text\n",
    "totval = df['Total'].iloc[-1]\n",
    "totval2 = data['Total'].iloc[-1]\n",
    "\n",
    "totvalch = df['Total'].diff(12).iloc[-1]\n",
    "dpich = dpi.diff(12).iloc[-1]\n",
    "\n",
    "if totvalch >= 0.1:\n",
    "    tvdir = f'increased by \\${abs(totvalch):.2f} trillion'\n",
    "elif totvalch <= -0.1:\n",
    "    tvdir = f'decreased by \\${abs(totvalch):.2f} trillion'\n",
    "else:\n",
    "    tvdir = 'was virtually unchanged'\n",
    "    \n",
    "if dpich >= 0.1:\n",
    "    dpidir = f'an increase of \\${abs(dpich):.2f} trillion'\n",
    "elif dpich <= -0.1:\n",
    "    dpidir = f'a decrease of \\${abs(dpich):.2f} trillion'\n",
    "else:\n",
    "    dpidir = 'virtually no change'\n",
    "    \n",
    "totvalch2 = data['Total'].diff(12).iloc[-1]\n",
    "\n",
    "\n",
    "if totvalch2 >= 0.1:\n",
    "    tvdir2 = f'has risen by {abs(totvalch2):.1f} percentage points'\n",
    "elif totvalch2 <= -0.1:\n",
    "    tvdir2 = f'has fallen by {abs(totvalch2):.1f} percentage points'\n",
    "else:\n",
    "    tvdir2 = 'was virtually unchanged'"
   ]
  },
  {
   "cell_type": "code",
   "execution_count": 17,
   "metadata": {
    "ExecuteTime": {
     "end_time": "2021-06-11T01:06:50.730209Z",
     "start_time": "2021-06-11T01:06:50.719258Z"
    }
   },
   "outputs": [],
   "source": [
    "cctxt1 = ('Federal Reserve Bank of New York (FRBNY) '+\n",
    "          '\\href{https://www.newyorkfed.org/microeconomics/hhdc/background.html}{analysis} '+\n",
    "          f'of Equifax data shows \\\\${totval:.1f} trillion in total consumer debt in {ltdate3}, '+\n",
    "          f'which is equivalent to {totval2:.1f} percent of disposable personal income.')\n",
    "\n",
    "cctxt2 = (f'Over the past three years, total consumer debt has {tvdir} compared '+\n",
    "          f'to {dpidir} in disposable personal income. As a result, the ratio of '+\n",
    "          f'total consumer debt to disposable personal income {tvdir2} over this period.')\n",
    "\n",
    "text2 = f'{cctxt1} {cctxt2}'\n",
    "\n",
    "write_txt(text_dir / 'hhcdebt3.txt', text2)"
   ]
  },
  {
   "cell_type": "code",
   "execution_count": 18,
   "metadata": {
    "ExecuteTime": {
     "end_time": "2021-06-11T01:06:50.751357Z",
     "start_time": "2021-06-11T01:06:50.735321Z"
    }
   },
   "outputs": [],
   "source": [
    "tot = {}\n",
    "sh = {}\n",
    "gr = {}\n",
    "\n",
    "for series in ['Mortgage Total', 'Auto Loan', 'Student Loan', 'Credit Card']:\n",
    "    tot[series] = df[series].iloc[-1] * 1000\n",
    "    sh[series] = data2[series].iloc[-1]\n",
    "    grtmp = (data2[series].diff(12)).iloc[-1]\n",
    "    if round(grtmp, 1) >= 0.1:\n",
    "        gr[series] = f'an increase of {grtmp:.1f} percentage points'\n",
    "    elif round(grtmp, 1) <= -0.1:\n",
    "        gr[series] = f'a decrease of {abs(grtmp):.1f} percentage points'\n",
    "    else:\n",
    "        gr[series] = 'virtually no change'\n",
    "        \n",
    "mgr = data2['Mortgage Total'].diff(12).iloc[-1]        \n",
    "gr['Mortgage Total'] = f'fell by {abs(mgr):.1f} percentage points'"
   ]
  },
  {
   "cell_type": "code",
   "execution_count": 19,
   "metadata": {
    "ExecuteTime": {
     "end_time": "2021-06-11T01:06:50.763641Z",
     "start_time": "2021-06-11T01:06:50.753774Z"
    }
   },
   "outputs": [
    {
     "data": {
      "text/plain": [
       "'Over the past three years, the ratio of total mortgage debt to disposable personal income fell by 7.6 percentage points, compared to a decrease of 1.1 percentage points for student loans, a decrease of 1.0 percentage points for auto loans, and a decrease of 1.4 percentage points for credit card debt'"
      ]
     },
     "execution_count": 19,
     "metadata": {},
     "output_type": "execute_result"
    }
   ],
   "source": [
    "txt3 = ('According to the same FRBNY data, mortgage debt, including home '+\n",
    "        f'equity lines of credit, totalled \\${tot[\"Mortgage Total\"]:,.0f} '+\n",
    "        f'billion in {ltdate3}, equivalent to {sh[\"Mortgage Total\"]:.1f} '+\n",
    "        f'percent of disposable personal income (DPI). Student loans '+\n",
    "        f'totalled \\${tot[\"Student Loan\"]:,.0f} billion, or '+\n",
    "        f'{sh[\"Student Loan\"]:.1f} percent of DPI; auto loans totalled '+\n",
    "        f'\\${tot[\"Auto Loan\"]:,.0f} billion ({sh[\"Auto Loan\"]:.1f} percent '+\n",
    "        f'of DPI); and credit card debt totalled '+\n",
    "        f'\\${tot[\"Credit Card\"]:,.0f} billion ({sh[\"Credit Card\"]:.1f} percent of DPI).' )\n",
    "\n",
    "\n",
    "txt4 = ('Over the past three years, the ratio of total mortgage debt to disposable '+\n",
    "        f'personal income {gr[\"Mortgage Total\"]}, compared to '+\n",
    "        f'{gr[\"Student Loan\"]} for student loans, '+\n",
    "        f'{gr[\"Auto Loan\"]} for auto loans, and '+\n",
    "        f'{gr[\"Credit Card\"]} for credit card debt')\n",
    "\n",
    "write_txt(text_dir / 'hhcdebt4.txt', txt3)\n",
    "write_txt(text_dir / 'hhcdebt5.txt', txt4)\n",
    "\n",
    "txt4"
   ]
  },
  {
   "cell_type": "code",
   "execution_count": 20,
   "metadata": {
    "ExecuteTime": {
     "end_time": "2021-06-11T01:06:50.792048Z",
     "start_time": "2021-06-11T01:06:50.764928Z"
    }
   },
   "outputs": [],
   "source": [
    "# Household debt and consumer credit table\n",
    "dtlt = pd.to_datetime(df.index[-1])\n",
    "dt2 = pd.to_datetime(df.index[-2])\n",
    "dt3y = pd.to_datetime(df.index[-13])\n",
    "dt13 = pd.to_datetime('2013-01-01')\n",
    "dt03 = pd.to_datetime('2003-01-01')\n",
    "\n",
    "dts = [dtlt, dt2]\n",
    "\n",
    "dts2 = [dtlt, dt2, dt3y, dt13, dt03]\n",
    "\n",
    "for x in [df, data2]:\n",
    "    x['Mortgage Total'] = x['Mortgage'] + x['HE Revolving']\n",
    "    x['Non-Mortgage Total'] = (x['Auto Loan'] + x['Credit Card'] \n",
    "                               + x['Student Loan'] + x['Other'])\n",
    "\n",
    "# Attempt to handle CCP coming out first\n",
    "for x in [table_store_fa, table_store_fa_dpi]:\n",
    "    if dtlt not in x.index:\n",
    "        x.at[dtlt, :] = '--'\n",
    "\n",
    "d1 = {'Total': 'Financial Accounts Total*',\n",
    "      'Mortgages': '\\hspace{2mm} \\cbox{blue!60!violet} Mortgage Debt Total',\n",
    "      'Consumer Credit': '\\hspace{2mm} \\cbox{magenta} Consumer Credit',\n",
    "      'Other': '\\hspace{2mm} \\cbox{orange!80!yellow} Other'}\n",
    "\n",
    "d2 = {'Total': 'Consumer Credit Panel Total',\n",
    "      'Mortgage Total': '\\hspace{2mm} Mortgage Debt Total',\n",
    "      'Mortgage': '\\hspace{4mm} Mortgage',\n",
    "      'HE Revolving': '\\hspace{4mm} Home Equity Revolving',\n",
    "      'Non-Mortgage Total': '\\hspace{2mm} Consumer Credit',\n",
    "      'Auto Loan': f'\\hspace{{4mm}} \\cbox{{{autocolor}}} Auto Loan',\n",
    "      'Credit Card': f'\\hspace{{4mm}} \\cbox{{{cccolor}}} Credit Card',\n",
    "      'Student Loan': f'\\hspace{{4mm}} \\cbox{{{studcolor}}} Student Loan',\n",
    "      'Other': '\\hspace{4mm} Other'}\n",
    "\n",
    "final = pd.DataFrame()\n",
    "\n",
    "for dt in dts:\n",
    "    dtmp = f'{dt.year} Q{dt.quarter}'\n",
    "    for srs in [table_store_fa]:\n",
    "        for k, v in d1.items():\n",
    "            if srs.loc[dt, k] != '--':\n",
    "                final.at[v, dtmp] = f'\\${srs.loc[dt, k]:.2f}T'\n",
    "            else: final.at[v, dtmp] = srs.loc[dt, k]\n",
    "    for srs in [df]:\n",
    "        for k, v in d2.items():            \n",
    "            final.at[v, dtmp] = f'\\${srs.loc[dt, k]:.2f}T' \n",
    "            \n",
    "for dt in dts2:\n",
    "    dtmp = f'`{str(dt.year)[2:]} Q{dt.quarter}'\n",
    "    for srs in [table_store_fa_dpi]:\n",
    "        for k, v in d1.items():\n",
    "            if srs.loc[dt, k] != '--':\n",
    "                final.at[v, dtmp] = round(srs.loc[dt, k], 1)\n",
    "            else: \n",
    "                final.at[v, dtmp] = srs.loc[dt, k]\n",
    "    for srs in [data2]:\n",
    "        for k, v in d2.items():\n",
    "            final.at[v, dtmp] = round(srs.loc[dt, k], 1)\n",
    "            \n",
    "final.to_csv(data_dir / 'hhcdebt.tex', sep='&', line_terminator='\\\\\\ ', quotechar=' ')"
   ]
  },
  {
   "cell_type": "code",
   "execution_count": null,
   "metadata": {},
   "outputs": [],
   "source": []
  },
  {
   "cell_type": "code",
   "execution_count": null,
   "metadata": {},
   "outputs": [],
   "source": []
  },
  {
   "cell_type": "markdown",
   "metadata": {},
   "source": [
    "### Income as return on total HH assets"
   ]
  },
  {
   "cell_type": "code",
   "execution_count": 21,
   "metadata": {
    "ExecuteTime": {
     "end_time": "2021-06-11T01:06:56.175255Z",
     "start_time": "2021-06-11T01:06:50.793016Z"
    }
   },
   "outputs": [],
   "source": [
    "base = 'https://www.federalreserve.gov/datadownload/Output.aspx?'\n",
    "srs = 'rel=Z1&series=906ccd6e7fcae1e4f20ac00b86ade272&lastobs=&'\n",
    "dt = 'from=03/01/1988&to=12/31/2021&'\n",
    "oth = 'filetype=csv&label=include&layout=seriescolumn'\n",
    "url = base + srs + dt + oth\n",
    "\n",
    "d = {'LM152010005.Q': 'Nonfinancial',\n",
    "     'FL154090005.Q': 'Financial'}\n",
    "\n",
    "df = pd.read_csv(url, skiprows=5, index_col=0)[d.keys()].rename(d, axis=1)\n",
    "\n",
    "df.index = pd.to_datetime(df.index)\n",
    "df['Total'] = df['Nonfinancial'] + df['Financial']\n",
    "s = ['A067RC']\n",
    "\n",
    "df['DPI'] = nipa_df(retrieve_table('T20100')['Data'], s)\n",
    "df['DPINF'] = df['Nonfinancial'].divide(df['Total'], axis=0)\n",
    "df['DPIF'] = df['Financial'].divide(df['Total'], axis=0)\n",
    "df['DPIsh'] = df['DPI'].divide(df['Total'], axis=0)\n",
    "df['DPINFsh'] = df['DPINF'] * df['DPIsh']\n",
    "df['DPIFsh'] = df['DPIF'] * df['DPIsh']\n",
    "\n",
    "df = df * 100\n",
    "\n",
    "df.loc['1989':,'DPIsh'].to_csv(data_dir / 'dpish.csv', index_label='date', float_format='%g')\n",
    "\n",
    "node = end_node(df['DPIsh'], 'red')\n",
    "write_txt(text_dir / 'dpish_node.txt', node)\n",
    "\n",
    "dt = df.index[-1]\n",
    "ltdate = dtxt(dt)['qtr1']\n",
    "tot = df.loc[dt, 'DPIsh']\n",
    "tot90s = df.loc['1990':'1999', 'DPIsh'].mean()\n",
    "\n",
    "text = (f'As of {ltdate}, disposable income was equivalent to {tot:.1f} percent '+\n",
    "        'of total assets (see {\\color{red}\\\\textbf{---}}), '\n",
    "        +f'compared to an average rate of {tot90s:.1f} percent during '+\n",
    "        'the 1990s.')\n",
    "\n",
    "write_txt(text_dir / 'dpishta.txt', text)"
   ]
  },
  {
   "cell_type": "code",
   "execution_count": null,
   "metadata": {},
   "outputs": [],
   "source": []
  },
  {
   "cell_type": "code",
   "execution_count": null,
   "metadata": {},
   "outputs": [],
   "source": []
  },
  {
   "cell_type": "markdown",
   "metadata": {},
   "source": [
    "### Household assets"
   ]
  },
  {
   "cell_type": "code",
   "execution_count": 22,
   "metadata": {
    "ExecuteTime": {
     "end_time": "2021-06-11T01:07:01.606976Z",
     "start_time": "2021-06-11T01:06:56.176167Z"
    }
   },
   "outputs": [
    {
     "data": {
      "text/plain": [
       "'Financial assets include equity in businesses--corporate and non-coporate--with a market value of \\\\$57.2 trillion, or 2.6 years of GDP (see\\\\cbox{blue!65!black}), in 2021 Q1. Debt securities and loan assets total \\\\$11.7 trillion, or 0.53 years of GDP (see\\\\cbox{{blue!55!cyan}}). Cash and deposits, including money market accounts, total \\\\$17.4 trillion, or 0.79 years of GDP (see\\\\cbox{cyan!40!white}). All other financial assets total \\\\$23.3 trillion.'"
      ]
     },
     "execution_count": 22,
     "metadata": {},
     "output_type": "execute_result"
    }
   ],
   "source": [
    "base = 'https://www.federalreserve.gov/datadownload/Output.aspx?'\n",
    "srs = 'rel=Z1&series=5f48b7338e558e73e11dc78be7354a87&lastobs=&'\n",
    "dt = 'from=03/01/1988&to=12/31/2021&'\n",
    "oth = 'filetype=csv&label=include&layout=seriescolumn'\n",
    "url = base + srs + dt + oth\n",
    "raw_data = pd.read_csv(url)\n",
    "\n",
    "d = {v: re.sub(\"\\s+[\\(\\[].*?[\\)\\]]\", \"\", i.split('; ')[1]) \n",
    "     for i, v in raw_data.iloc[4, 1:].iteritems()}\n",
    "\n",
    "date_column = raw_data.loc[5:, 'Series Description']\n",
    "date_index = pd.to_datetime(date_column).rename('Date')\n",
    "columns = raw_data.iloc[4, 1:].values\n",
    "    \n",
    "clean_data = raw_data.iloc[5:, 1:].replace('ND', np.nan).astype('float')\n",
    "clean_data.index = date_index\n",
    "clean_data.columns = columns\n",
    "\n",
    "sel_col = ['FA156012005.Q', 'FL152000005.Q', 'LM152010005.Q', 'LM155035015.Q', \n",
    "           'FL155035065.Q', 'LM155111005.Q', 'FL154090005.Q', 'FL154000025.Q',\n",
    "           'LM153064475.Q', 'LM152090205.Q']\n",
    "\n",
    "names = ['DPI', 'TOT', 'NFA', 'HRE', 'REQ', 'CDG', 'TFA', 'DEP', 'CEQ', 'NEQ']\n",
    "\n",
    "df = clean_data.loc[:,sel_col]\n",
    "df.columns = names\n",
    "\n",
    "df['NPA'] = clean_data.loc[:,['LM165013765.Q', 'LM165015205.Q', 'LM165035005.Q']].sum(axis=1)\n",
    "df['DSL'] = clean_data.loc[:,['LM154022375.Q', 'FL154023005.Q']].sum(axis=1)\n",
    "df['TEQ'] = df['NEQ'] + df['CEQ']\n",
    "df['OFA'] = df['TFA'] - df['DEP'] - df['DSL'] - df['TEQ']\n",
    "df['OTH'] = df['TOT'] - df['HRE'] - df['DEP'] - df['DSL'] - df['TEQ']\n",
    "\n",
    "pce = nipa_df(retrieve_table('T20304')['Data'], ['DPCERG']).loc[df.index,'DPCERG']\n",
    "pr = (pce / pce.iloc[-1])\n",
    "\n",
    "gdp = nipa_df(retrieve_table('T10105')['Data'], ['A191RC']).loc[df.index,'A191RC']\n",
    "\n",
    "dfgdp = df.div(gdp, axis=0).dropna() *100\n",
    "dfgdp.loc['1989':].to_csv(data_dir / 'hhassetsgdp.csv', index_label='date', float_format='%g')\n",
    "\n",
    "ldate = dtxt(df.index[-1])['qtr1']\n",
    "pdate = dtxt(df.index[-5])['qtr1']\n",
    "i = df.iloc[-1] / 1000000\n",
    "g = dfgdp.iloc[-1] / 100\n",
    "s = (df.div(df.TOT, axis=0) * 100).iloc[-1]\n",
    "\n",
    "text = ('Assets '+\n",
    "        f'of households and nonprofits were valued at \\${i.TOT:.1f} trillion in {ldate}, '+\n",
    "        f'equivalent to {g.TOT*100:.0f} percent--or {g.TOT:.3g} years--of GDP. '+\n",
    "        f'Of this, \\${i.NFA:.1f} trillion, or {s.NFA:.1f} percent of the total, '+\n",
    "        f'are tangible assets and \\${i.TFA:.1f} trillion, or {s.TFA:.1f} percent, '+\n",
    "        'are financial assets.')\n",
    "text2 = (\"Tangible, or non-financial, assets include peoples' homes as well \"+\n",
    "         'as consumer durable goods, such as cars, furniture, and appliances. '+\n",
    "         f'The market value of owner-occupied real estate is \\${i.HRE:.1f} trillion in {ldate}, '+\n",
    "         f'equivalent to {g.HRE:.3g} years of GDP (see\\cbox{{green!60!teal}}). Consumer durable goods have a '+\n",
    "         f'replacement value of \\${i.CDG:.1f} trillion, or {g.CDG:.2g} years of GDP. '+\n",
    "         'Tangible assets are reported for the combined household and nonprofit sector '+\n",
    "         'and include real estate and equipment belonging to nonprofits, '+\n",
    "         f'which totals \\${i.NPA:.1f} trillion in {ldate}. ')\n",
    "text3 = ('Financial assets include equity in businesses--corporate and non-coporate--with a market value of '+\n",
    "         f'\\${i.TEQ:.1f} trillion, or {g.TEQ:.2g} years of GDP (see\\cbox{{blue!65!black}}), in {ldate}. Debt '+\n",
    "         f'securities and loan assets total \\${i.DSL:.1f} trillion, or {g.DSL:.2g} '+\n",
    "         'years of GDP (see\\cbox{{blue!55!cyan}}). Cash and deposits, including money market accounts, '+\n",
    "         f'total \\${i.DEP:.1f} trillion, or {g.DEP:.2g} years of GDP (see\\cbox{{cyan!40!white}}). All '+\n",
    "         f'other financial assets total \\${i.OFA:.1f} trillion.')\n",
    "\n",
    "write_txt(text_dir / 'hhasset1.txt', text)\n",
    "write_txt(text_dir / 'hhasset2.txt', text2)\n",
    "write_txt(text_dir / 'hhasset3.txt', text3)\n",
    "\n",
    "text3"
   ]
  },
  {
   "cell_type": "code",
   "execution_count": 23,
   "metadata": {
    "ExecuteTime": {
     "end_time": "2021-06-11T01:07:01.624016Z",
     "start_time": "2021-06-11T01:07:01.609071Z"
    }
   },
   "outputs": [
    {
     "data": {
      "text/plain": [
       "'Household and nonprofit assets grew by 18.5 percent over the year ending 2021 Q1. Owner-occupied real estate contributed 2.0 percentage points to total growth, and business equity contributed 13.8 percentage points.'"
      ]
     },
     "execution_count": 23,
     "metadata": {},
     "output_type": "execute_result"
    }
   ],
   "source": [
    "real_data = df.div(pr, axis=0)\n",
    "growth = growth_contrib_ann(real_data, 'TOT')\n",
    "\n",
    "(growth.dropna()[['HRE', 'DEP', 'DSL', 'TEQ', 'OTH']].loc['1989':]\n",
    " .to_csv(data_dir / 'hh_asset_growth.csv', index_label='date'))\n",
    "\n",
    "gr = growth.iloc[-1]\n",
    "grtot = [f'grew by {gr.TOT:.1f} percent' if gr.TOT >=0.1 \n",
    "         else f'decreased in value by {abs(gr.TOT):.1f} percent' if gr.TOT <= -0.1\n",
    "         else 'did not change substanatially in value'][0]\n",
    "\n",
    "grhre = [f'contributed {gr.HRE:.1f} percentage points to' if gr.HRE >=0.1\n",
    "         else f'subtracted {abs(gr.HRE):.1f} percentage points from' if gr.HRE <=-0.1\n",
    "         else 'did not contribute significantly to'][0]\n",
    "\n",
    "grteq = [f'contributed {gr.TEQ:.1f} percentage points' if gr.TEQ >=0.1\n",
    "         else f'subtracted {abs(gr.TEQ):.1f} percentage points' if gr.TEQ <=-0.1\n",
    "         else 'did not contribute significantly'][0]\n",
    "\n",
    "text = (f'Household and nonprofit assets {grtot} '+\n",
    "        f'over the year ending {ldate}. Owner-occupied real estate {grhre} '+\n",
    "        'total growth, and business equity '+\n",
    "        f'{grteq}.')\n",
    "\n",
    "write_txt(text_dir / 'hhasset4.txt', text)\n",
    "\n",
    "text"
   ]
  },
  {
   "cell_type": "code",
   "execution_count": 24,
   "metadata": {
    "ExecuteTime": {
     "end_time": "2021-06-11T01:07:01.640573Z",
     "start_time": "2021-06-11T01:07:01.625159Z"
    }
   },
   "outputs": [],
   "source": [
    "nd = {'TOT': '& Total Assets', 'NFA': '& \\hspace{2mm} Non-financial assets', \n",
    "      'HRE': '\\cbox{green!60!teal} & \\hspace{4mm} Owner-occupied real estate', \n",
    "      'CDG': ' & \\hspace{4mm} Consumer durable goods',\n",
    "      'NPA': ' & \\hspace{4mm} Nonprofit assets',\n",
    "      'TFA': ' & \\hspace{2mm} Financial assets',\n",
    "      'DEP': '\\cbox{cyan!40!white} & \\hspace{4mm} Deposits, incl. money market',\n",
    "      'DSL': '\\cbox{blue!55!cyan} & \\hspace{4mm} Debt securities and loans',\n",
    "      'TEQ': '\\cbox{blue!65!black} & \\hspace{4mm} Business equity',\n",
    "      'CEQ': ' & \\hspace{6mm} Corporate equities',\n",
    "      'NEQ': ' & \\hspace{6mm} Noncorporate business equity'}\n",
    "\n",
    "table = pd.DataFrame()\n",
    "table[ldate] = pd.Series({idx: f'\\${val:.1f}' if idx == 'TOT' else f'{val:.1f}' \n",
    "                          for idx, val in i.iteritems()})\n",
    "table[ldate+' '] = dfgdp.iloc[-1]\n",
    "table[pdate+' '] = dfgdp.iloc[-5]\n",
    "table['One-year'] = real_data.pct_change(4).iloc[-1] * 100\n",
    "table['Three-year'] = ((real_data.pct_change(12) + 1)**(1/3) - 1).iloc[-1] * 100\n",
    "table['20-year'] = ((real_data.pct_change(80) + 1)**(1/20) - 1).iloc[-1] * 100\n",
    "\n",
    "table.index.name = '& '\n",
    "\n",
    "table.loc[nd.keys()].rename(nd).round(1).to_csv(data_dir / 'hhasset.tex', sep='&', \n",
    "                                                line_terminator='\\\\\\ ', quotechar=' ')"
   ]
  },
  {
   "cell_type": "code",
   "execution_count": null,
   "metadata": {},
   "outputs": [],
   "source": []
  },
  {
   "cell_type": "code",
   "execution_count": null,
   "metadata": {},
   "outputs": [],
   "source": []
  },
  {
   "cell_type": "markdown",
   "metadata": {},
   "source": [
    "### Net Worth"
   ]
  },
  {
   "cell_type": "code",
   "execution_count": 25,
   "metadata": {
    "ExecuteTime": {
     "end_time": "2021-06-11T01:07:07.134110Z",
     "start_time": "2021-06-11T01:07:01.641575Z"
    }
   },
   "outputs": [
    {
     "name": "stdout",
     "output_type": "stream",
     "text": [
      "In 2021 Q1, household and nonprofit institution net worth was \\$136.9 trillion, equivalent to 6.9 years of disposable personal income; the result of total assets of \\$154.2 trillion and total liabilities of \\$17.2 trillion. \n",
      "\n",
      "\n",
      "In 2021 Q1, inflation-adjusted net worth increased by 20.8 percent (see\\cbox{cyan!40!white}), and inflation adjusted after-tax income increased by 16.4 percent (see {\\color{blue!50!violet}\\textbf{---}}). Over the past three years, real net worth grew at an average rate of 5.9 percent, while real after-tax income grew at an average rate of 4.9 percent\n"
     ]
    }
   ],
   "source": [
    "base = 'https://www.federalreserve.gov/datadownload/Output.aspx?'\n",
    "srs = 'rel=Z1&series=5274f1fc3a4900aba158b78578142b2a&lastobs=&'\n",
    "dt = 'from=03/01/1988&to=12/31/2021&'\n",
    "oth = 'filetype=csv&label=include&layout=seriescolumn'\n",
    "url = base + srs + dt + oth\n",
    "\n",
    "d = {'FL152090005.Q': 'NW',\n",
    "     'FL152000005.Q': 'ASSETS',\n",
    "     'FL154190005.Q': 'LIAB',\n",
    "     'FA156012005.Q': 'DPI'}\n",
    "\n",
    "df = pd.read_csv(url, skiprows=5, index_col=0)[d.keys()].rename(d, axis=1) / 1000000\n",
    "df.index = pd.to_datetime(df.index)\n",
    "\n",
    "datelt = dtxt(df.index[-1])['qtr1']\n",
    "i = df.iloc[-1]\n",
    "\n",
    "text = (f'In {datelt}, household and nonprofit institution net worth was '+\n",
    "        f'\\${i.NW:.1f} trillion, equivalent to {i.NW / i.DPI:.1f} years of disposable '+\n",
    "        f'personal income; the result of total assets of \\${i.ASSETS:.1f} trillion '+\n",
    "        f'and total liabilities of \\${i.LIAB:.1f} trillion.')\n",
    "\n",
    "write_txt(text_dir / 'nw1.txt', text)\n",
    "\n",
    "print(text, '\\n\\n')\n",
    "\n",
    "pce = nipa_df(retrieve_table('T20304')['Data'], ['DPCERG'])['DPCERG']\n",
    "\n",
    "pr = df.join(pce)['DPCERG'] / df.join(pce)['DPCERG'].iloc[-1]\n",
    "\n",
    "data = df.divide(pr, axis=0)\n",
    "\n",
    "srs = ['NW', 'DPI']\n",
    "\n",
    "result = pd.concat([data[i].dropna().pct_change(4).dropna() * 100 \n",
    "            for i in srs], axis=1)\n",
    "(result.to_csv(data_dir / 'rdpi_nw.csv', index_label='date'))\n",
    "\n",
    "gr = {}\n",
    "gr2 = {}\n",
    "for s in srs:\n",
    "    val = result[s].iloc[-1]\n",
    "    val2 = result[s].iloc[-13:].mean()\n",
    "    gr[s] = inc_dec_percent(val)\n",
    "    if val2 >= 0.1:\n",
    "        gr2[s] = f'grew at an average rate of {val2:.1f} percent'\n",
    "    elif val2 <= -0.1:\n",
    "        gr2[s] = f'decreased at an average rate of {abs(val2):.1f} percent'\n",
    "    else:\n",
    "        gr2[s] = 'was virtually unchanged'\n",
    "        \n",
    "text = (f'In {datelt}, inflation-adjusted net worth {gr[\"NW\"]}'+\n",
    "        ' (see\\cbox{cyan!40!white}), and '+\n",
    "        f'inflation adjusted after-tax income {gr[\"DPI\"]} '+\n",
    "        '(see {\\color{blue!50!violet}\\\\textbf{---}}). Over the past '+\n",
    "        f'three years, real net worth {gr2[\"NW\"]}, while real '+\n",
    "        f'after-tax income {gr2[\"DPI\"]}')\n",
    "\n",
    "write_txt(text_dir / 'nw2.txt', text)\n",
    "\n",
    "print(text)"
   ]
  },
  {
   "cell_type": "code",
   "execution_count": null,
   "metadata": {},
   "outputs": [],
   "source": []
  },
  {
   "cell_type": "code",
   "execution_count": null,
   "metadata": {},
   "outputs": [],
   "source": []
  },
  {
   "cell_type": "markdown",
   "metadata": {},
   "source": [
    "### Net worth contributions"
   ]
  },
  {
   "cell_type": "code",
   "execution_count": 26,
   "metadata": {
    "ExecuteTime": {
     "end_time": "2021-06-11T01:07:12.448304Z",
     "start_time": "2021-06-11T01:07:07.135210Z"
    }
   },
   "outputs": [],
   "source": [
    "base = 'https://www.federalreserve.gov/datadownload/Output.aspx?'\n",
    "srs = 'rel=Z1&series=73021951e1b749df8a5de36975a7926d&lastobs=&'\n",
    "dt = 'from=03/01/1988&to=12/31/2021&'\n",
    "oth = 'filetype=csv&label=include&layout=seriescolumn'\n",
    "url = base + srs + dt + oth\n",
    "\n",
    "raw_data = pd.read_csv(url)\n",
    "\n",
    "d = {v: re.sub(\"\\s+[\\(\\[].*?[\\)\\]]\", \"\", i) \n",
    "     for i, v in raw_data.iloc[4, 1:].iteritems()}\n",
    "\n",
    "date_column = raw_data.loc[5:, 'Series Description']\n",
    "date_index = pd.to_datetime(date_column).rename('Date')\n",
    "columns = raw_data.iloc[4, 1:].values\n",
    "    \n",
    "clean_data = raw_data.iloc[5:, 1:].replace('ND', np.nan).astype('float')\n",
    "clean_data.index = date_index\n",
    "clean_data.columns = columns"
   ]
  },
  {
   "cell_type": "code",
   "execution_count": 28,
   "metadata": {
    "ExecuteTime": {
     "end_time": "2021-06-11T01:08:07.445083Z",
     "start_time": "2021-06-11T01:08:07.404523Z"
    }
   },
   "outputs": [
    {
     "data": {
      "text/plain": [
       "'In the the first quarter of 2021, holding gains contributed 19.4 percentage points to the 23.0 percent change in net worth. Income invested at the 1989-onward average rate of 10.3 percent would have contributed 1.7 percentage points; an additional 1.5 percentage points were added as household net investment was 19.7 percent of disposable person income in 2021 Q1. Other volume changes contributed 0.3 percentage points. Over the past three years, nominal one-year growth of net worth averaged 7.6 percent. Holding gains contributed 5.5 percentage points on average; net investment of income contributed 3.2 percentage points; and other volume changes did not contribute significantly.'"
      ]
     },
     "execution_count": 28,
     "metadata": {},
     "output_type": "execute_result"
    }
   ],
   "source": [
    "df = clean_data.loc[:, ['FC152090005.Q', 'FU155060005.Q', 'FV158090005.Q', \n",
    "                 'FU156012005.Q', 'FR158000005.Q']]\n",
    "df.columns = ['NW', 'NI', 'OVC', 'DPI', 'RV']\n",
    "\n",
    "df = df.rolling(4).sum().dropna()\n",
    "rate = (df['NI'] / df['DPI']).mean()\n",
    "rate2 = (df['NI'] / df['DPI']).iloc[-1]\n",
    "\n",
    "df['INC'] = df['DPI'] * rate\n",
    "df['INV'] = df['NI'] - df['INC']\n",
    "df['NWL'] = clean_data['FL152090005.Q']\n",
    "\n",
    "growth = (df[['OVC', 'INC', 'INV', 'RV']]\n",
    "          .div(df['NWL'].shift(4), axis=0).dropna() * 100)\n",
    "\n",
    "growth.to_csv(data_dir / 'nw_gr.csv', index_label='date')\n",
    "\n",
    "ldate = dtxt(growth.index[-1])['qtr1']\n",
    "ltdate = dtxt(growth.index[-1])['qtr2']\n",
    "\n",
    "hg = growth['RV'].iloc[-1]\n",
    "inc = growth['INC'].iloc[-1]\n",
    "inv = growth['INV'].iloc[-1]\n",
    "oth = growth['OVC'].iloc[-1]\n",
    "ni = inc + inv\n",
    "\n",
    "hgtxt = [f'contributed {hg:.1f} percentage points to' if hg >= 0.1 \n",
    "         else f'subtracted {abs(hg):.1f} percentage points from' if hg <= -0.1 \n",
    "         else 'did not contribute significantly to'][0]\n",
    "\n",
    "inctxt = [f'contributed {inc:.1f} percentage points' if inc >= 0.1 \n",
    "         else f'subtracted {abs(inc):.1f} percentage points' if inc <= -0.1 \n",
    "         else 'did not contribute significantly'][0]\n",
    "\n",
    "invtxt = [f'; an additional {inv:.1f} percentage points were added' if inv >= 0.1 \n",
    "         else f', but {abs(inv):.1f} percentage points were subtracted' if inv <= -0.1 \n",
    "         else ', and cyclical activity in investment did not seem to play a role'][0]\n",
    "\n",
    "othtxt = [f'contributed {oth:.1f} percentage points' if oth >= 0.1 \n",
    "         else f'subtracted {abs(oth):.1f} percentage points' if oth <= -0.1 \n",
    "         else 'did not contribute significantly'][0]\n",
    "\n",
    "hg3 = growth['RV'].iloc[-13:].mean()\n",
    "inc3 = growth['INC'].iloc[-13:].mean()\n",
    "inv3 = growth['INV'].iloc[-13:].mean()\n",
    "oth3 = growth['OVC'].iloc[-13:].mean()\n",
    "ni3 = inc3 + inv3\n",
    "\n",
    "hg3txt = [f'contributed {hg3:.1f} percentage points' if hg3 >= 0.1 \n",
    "         else f'subtracted {abs(hg3):.1f} percentage points' if hg3 <= -0.1 \n",
    "         else 'did not contribute significantly'][0]\n",
    "\n",
    "oth3txt = [f'contributed {oth3:.1f} percentage points' if oth3 >= 0.1 \n",
    "         else f'subtracted {abs(oth3):.1f} percentage points' if oth3 <= -0.1 \n",
    "         else 'did not contribute significantly'][0]\n",
    "\n",
    "ni3txt = [f'contributed {ni:.1f} percentage points' if ni >= 0.1 \n",
    "         else f'subtracted {abs(ni):.1f} percentage points' if ni <= -0.1 \n",
    "         else 'did not contribute significantly'][0]\n",
    "\n",
    "text = (f'In the {ltdate}, holding gains {hgtxt} the {growth.iloc[-1].sum():.1f} percent '+\n",
    "        f'change in net worth. '+\n",
    "        f'Income invested at the 1989-onward average rate of {rate*100:.1f} percent '+\n",
    "        f'would have {inctxt}{invtxt} as household net investment was {rate2*100:.1f} '+\n",
    "        f'percent of disposable person income in {ldate}. Other '+\n",
    "        f'volume changes {othtxt}. Over the past three years, nominal one-year growth of '+\n",
    "        f'net worth averaged {growth.iloc[-13:].mean().sum():.1f} percent. Holding '+\n",
    "        f'gains {hg3txt} on average; net investment of income '+\n",
    "        f'{ni3txt}; and other volume changes {oth3txt}.')\n",
    "\n",
    "write_txt(text_dir / 'nwcontrib.txt', text)\n",
    "\n",
    "text"
   ]
  },
  {
   "cell_type": "code",
   "execution_count": null,
   "metadata": {},
   "outputs": [],
   "source": []
  },
  {
   "cell_type": "code",
   "execution_count": null,
   "metadata": {},
   "outputs": [],
   "source": []
  },
  {
   "cell_type": "markdown",
   "metadata": {},
   "source": [
    "### Equity Payout"
   ]
  },
  {
   "cell_type": "code",
   "execution_count": 29,
   "metadata": {
    "ExecuteTime": {
     "end_time": "2021-06-11T01:08:16.653054Z",
     "start_time": "2021-06-11T01:08:11.246655Z"
    }
   },
   "outputs": [],
   "source": [
    "base = 'https://www.federalreserve.gov/datadownload/Output.aspx?'\n",
    "srs = 'rel=Z1&series=5dbfee986a7636f1bc997a80c313cabc&lastobs=&'\n",
    "dt = 'from=01/01/1988&to=12/31/2021&'\n",
    "oth = 'filetype=csv&label=include&layout=seriescolumn'\n",
    "url = base + srs + dt + oth\n",
    "\n",
    "d, clean_data = clean_fed_data(url)\n",
    "\n",
    "srs = {'FA103164103.Q': 'Buybacks',\n",
    "       'FA106121075.Q': 'Dividends'}\n",
    "\n",
    "data = clean_data.rename(srs, axis=1)\n",
    "data['Buybacks'] = -data['Buybacks']\n",
    "gdp = nipa_df(retrieve_table('T10105')['Data'], ['A191RC'])['A191RC']\n",
    "\n",
    "results = data.divide(gdp, axis=0)\n",
    "\n",
    "(results.dropna() * 100).loc['1989':].to_csv(data_dir / 'eq_payout.csv', index_label='date')"
   ]
  },
  {
   "cell_type": "code",
   "execution_count": null,
   "metadata": {},
   "outputs": [],
   "source": []
  },
  {
   "cell_type": "code",
   "execution_count": null,
   "metadata": {},
   "outputs": [],
   "source": []
  },
  {
   "cell_type": "markdown",
   "metadata": {},
   "source": [
    "### Government Share of US Net Worth"
   ]
  },
  {
   "cell_type": "code",
   "execution_count": 30,
   "metadata": {
    "ExecuteTime": {
     "end_time": "2021-06-11T01:08:22.120268Z",
     "start_time": "2021-06-11T01:08:16.658228Z"
    }
   },
   "outputs": [],
   "source": [
    "base = 'https://www.federalreserve.gov/datadownload/Output.aspx?'\n",
    "srs = 'rel=Z1&series=94066b162cbbe774fa6cb1ae8cf757e6&lastobs=&'\n",
    "dt = 'from=01/01/1988&to=12/31/2021&'\n",
    "oth = 'filetype=csv&label=include&layout=seriescolumn'\n",
    "url = base + srs + dt + oth\n",
    "\n",
    "d, clean_data = clean_fed_data(url)\n",
    "\n",
    "s = {'FL212090095.Q': 'SLG NW',\n",
    "     'FL312090095.Q': 'FG NW',\n",
    "     'FL892090005.Q': 'Total NW'}\n",
    "\n",
    "data = clean_data.rename(s, axis=1)\n",
    "\n",
    "data['Gov NW'] = data['SLG NW'] + data['FG NW']\n",
    "result = ((data.div(data['Total NW'], axis=0) * 100)\n",
    "               .drop('Total NW', axis=1).loc['1989':])\n",
    "result.to_csv(data_dir / 'govshnw.csv', index_label='date', float_format='%g')"
   ]
  },
  {
   "cell_type": "code",
   "execution_count": 31,
   "metadata": {
    "ExecuteTime": {
     "end_time": "2021-06-11T01:08:22.134258Z",
     "start_time": "2021-06-11T01:08:22.123286Z"
    }
   },
   "outputs": [
    {
     "name": "stdout",
     "output_type": "stream",
     "text": [
      "The combined US government sector has a net worth of \\$-19.0 trillion, as of 2021 Q1, equivalent to -8.9 percent of national wealth (see {\\color{green!80!blue}\\textbf{---}}). Federal government net worth (not including land) is equal to -15.6 percent of national wealth (see {\\color{orange!80!white}\\textbf{---}}) while state and local government net worth is equilavent to 6.7 percent (see {\\color{blue!90!black}\\textbf{---}}).\n"
     ]
    }
   ],
   "source": [
    "node = end_node3(result['Gov NW'], 'green!80!blue')\n",
    "write_txt(text_dir / 'govshnw_node.txt', node)\n",
    "node = end_node3(result['SLG NW'], 'blue!90!black')\n",
    "write_txt(text_dir / 'slgshnw_node.txt', node)\n",
    "node = end_node3(result['FG NW'], 'orange!80!white')\n",
    "write_txt(text_dir / 'fgshnw_node.txt', node)\n",
    "\n",
    "totval = data['FG NW'].iloc[-1] / 1_000_000\n",
    "totv = f'\\${totval:.1f} trillion'\n",
    "ltdt = dtxt(data.index[-1])['qtr1']\n",
    "gsh = f\"{result['Gov NW'].iloc[-1]:.1f} percent\"\n",
    "fgsh = f\"{result['FG NW'].iloc[-1]:.1f} percent\"\n",
    "slgsh = f\"{result['SLG NW'].iloc[-1]:.1f} percent\"\n",
    "\n",
    "text = ('The combined US government sector has a net worth of '+\n",
    "        f'{totv}, as of {ltdt}, equivalent to {gsh} '+\n",
    "        'of national wealth (see {\\color{green!80!blue}\\\\textbf{---}}). '+\n",
    "        'Federal government net worth (not including land) is equal '+\n",
    "        f'to {fgsh} of national wealth (see '+\n",
    "        '{\\color{orange!80!white}\\\\textbf{---}}) while state and local '+\n",
    "        'government net worth is equilavent to '+\n",
    "        f'{slgsh} '+\n",
    "        '(see {\\color{blue!90!black}\\\\textbf{---}}).')\n",
    "write_txt(text_dir / 'govshnw.txt', text)\n",
    "print(text)"
   ]
  },
  {
   "cell_type": "code",
   "execution_count": null,
   "metadata": {},
   "outputs": [],
   "source": []
  },
  {
   "cell_type": "code",
   "execution_count": null,
   "metadata": {},
   "outputs": [],
   "source": []
  },
  {
   "cell_type": "markdown",
   "metadata": {},
   "source": [
    "### Government Assets"
   ]
  },
  {
   "cell_type": "code",
   "execution_count": 32,
   "metadata": {
    "ExecuteTime": {
     "end_time": "2021-06-11T01:08:27.500417Z",
     "start_time": "2021-06-11T01:08:22.136286Z"
    }
   },
   "outputs": [
    {
     "name": "stdout",
     "output_type": "stream",
     "text": [
      "In the first quarter of 2021, public/government assets excluding land are valued at \\$24.4 trillion, equivalent to 110.5 percent of GDP. Of this, state and local government nonfinancial assets, such as buildings and equipment, are equivalent to 57.3 percent of GDP (see\\cbox{cyan!36!white}), and state and local government financial assets, such as insurance trust funds, are equivalent to 17.7 percent of GDP (see\\cbox{blue!75!cyan}). \n",
      "\n",
      "Federal government nonfinancial assets are equivalent to 17.0 percent of GDP in 2021 Q1 (see\\cbox{violet!60!white}). Federal government financial assets have a market value equivalent to 18.4 percent of GDP (see\\cbox{blue!28!violet!90!black}).\n"
     ]
    }
   ],
   "source": [
    "base = 'https://www.federalreserve.gov/datadownload/Output.aspx?'\n",
    "srs = 'rel=Z1&series=69790f5ee559de8e4c534f51c91cc3bb&lastobs=&'\n",
    "dt = 'from=01/01/1988&to=12/31/2021&'\n",
    "oth = 'filetype=csv&label=include&layout=seriescolumn'\n",
    "url = base + srs + dt + oth\n",
    "\n",
    "d, clean_data = clean_fed_data(url)\n",
    "\n",
    "s = {'FL212010095.Q': 'SLG NFA',\n",
    "     'FL214090005.Q': 'SLG FA',\n",
    "     'FL312010095.Q': 'FG NFA',\n",
    "     'FL314090005.Q': 'FG FA'}\n",
    "\n",
    "data = clean_data.rename(s, axis=1)\n",
    "\n",
    "gdp = nipa_df(retrieve_table('T10105')['Data'], ['A191RC']).loc[data.index,'A191RC']\n",
    "\n",
    "gagdp = data.div(gdp, axis=0).dropna() *100\n",
    "gagdp.loc['1989':].to_csv(data_dir / 'govassets.csv', index_label='date', float_format='%g')\n",
    "\n",
    "ltdate = dtxt(gagdp.index[-1])['qtr2']\n",
    "ltdate2 = dtxt(gagdp.index[-1])['qtr1']\n",
    "totval = data.sum(axis=1).iloc[-1] / 1_000_000\n",
    "valgdp = gagdp.sum(axis=1).iloc[-1]\n",
    "slgnfa = gagdp['SLG NFA'].iloc[-1]\n",
    "slgfa = gagdp['SLG FA'].iloc[-1]\n",
    "fgnfa = gagdp['FG NFA'].iloc[-1]\n",
    "fgfa = gagdp['FG FA'].iloc[-1]\n",
    "\n",
    "text = (f'In {ltdate}, public/government assets excluding '+\n",
    "        f'land are valued at \\${totval:.1f} trillion, equivalent '+\n",
    "        f'to {valgdp:.1f} percent of GDP. Of this, state and local '+\n",
    "        f'government nonfinancial assets, such as buildings and '+\n",
    "        f'equipment, are equivalent to {slgnfa:.1f} percent of '+\n",
    "        'GDP (see\\cbox{cyan!36!white}), and state and local government '+\n",
    "        'financial assets, such as insurance trust funds, are equivalent to '+\n",
    "        f'{slgfa:.1f} percent of GDP (see\\cbox{{blue!75!cyan}}). '+\n",
    "        '\\n\\n'+\n",
    "        'Federal government nonfinancial assets are equivalent to '+\n",
    "        f'{fgnfa:.1f} percent of GDP in {ltdate2} (see\\cbox{{violet!60!white}}). '+\n",
    "        'Federal government financial assets have a market value equivalent '+\n",
    "        f'to {fgfa:.1f} percent of GDP (see\\cbox{{blue!28!violet!90!black}}).')\n",
    "write_txt(text_dir / 'govassets.txt', text)\n",
    "print(text)"
   ]
  },
  {
   "cell_type": "code",
   "execution_count": null,
   "metadata": {},
   "outputs": [],
   "source": []
  },
  {
   "cell_type": "code",
   "execution_count": null,
   "metadata": {},
   "outputs": [],
   "source": []
  },
  {
   "cell_type": "markdown",
   "metadata": {},
   "source": [
    "# Survey of Consumer Finances"
   ]
  },
  {
   "cell_type": "code",
   "execution_count": null,
   "metadata": {
    "ExecuteTime": {
     "end_time": "2021-06-11T01:07:12.576283Z",
     "start_time": "2021-06-11T01:06:27.889Z"
    }
   },
   "outputs": [],
   "source": [
    "df = (pd.read_csv('../data/scf_wealth_median.csv')\n",
    "        .set_index(['year', 'Category'])['Before_Tax_Income']\n",
    "        .unstack())\n",
    "df.index = pd.to_datetime([f'{year}-07-01' for year in df.index])\n",
    "df.to_csv(data_dir / 'scfwealthmedian.csv', index_label='date', float_format='%g')\n",
    "node = end_node3(df['Less than 25'], 'violet', percent=False)\n",
    "write_txt(text_dir / 'scfwealthmedian_node1.txt', node)\n",
    "node = end_node3(df['25-49.9'], 'red!20!orange!95!black', percent=False)\n",
    "write_txt(text_dir / 'scfwealthmedian_node2.txt', node)\n",
    "node = end_node3(df['50-74.9'], 'green!80!blue!85!black', percent=False)\n",
    "write_txt(text_dir / 'scfwealthmedian_node3.txt', node)\n",
    "node = end_node3(df['75-89.9'], 'red!80!black', percent=False)\n",
    "write_txt(text_dir / 'scfwealthmedian_node4.txt', node)\n",
    "node = end_node3(df['90-100'], 'blue!80!cyan!80!black', percent=False)\n",
    "write_txt(text_dir / 'scfwealthmedian_node5.txt', node)\n",
    "df.plot();"
   ]
  },
  {
   "cell_type": "code",
   "execution_count": null,
   "metadata": {
    "ExecuteTime": {
     "end_time": "2021-06-11T01:07:12.576715Z",
     "start_time": "2021-06-11T01:06:27.890Z"
    }
   },
   "outputs": [],
   "source": [
    "yr = dtxt(df.index[-1])['year']\n",
    "pryr = dtxt(df.index[0])['year']\n",
    "\n",
    "g1val = df['90-100'].iloc[-1] * 1000\n",
    "g1valpr = df['90-100'].iloc[0] * 1000\n",
    "g1ch = g1val - g1valpr\n",
    "g1pc = ((g1val / g1valpr) - 1) * 100\n",
    "\n",
    "g2val = df['50-74.9'].iloc[-1] * 1000\n",
    "g2valpr = df['50-74.9'].iloc[0] * 1000\n",
    "g2ch = g2val - g2valpr\n",
    "g2pc = ((g2val / g2valpr) - 1) * 100\n",
    "\n",
    "g3val = df['25-49.9'].iloc[-1] * 1000\n",
    "g3valpr = df['25-49.9'].iloc[0] * 1000\n",
    "g3ch = g3val - g3valpr\n",
    "g3pc = ((g3val / g3valpr) - 1) * 100\n",
    "\n",
    "g4val = df['Less than 25'].iloc[-1] * 1000\n",
    "g4valpr = df['Less than 25'].iloc[0] * 1000\n",
    "g4ch = g4val - g4valpr\n",
    "g4pc = ((g4val / g4valpr) - 1) * 100\n",
    "\n",
    "text1 = (f'have a median annual income of \\${g1val:,.0f} in {yr} and '+\n",
    "         f'\\${g1valpr:,.0f} in {pryr}, after adjusting for prices. '+\n",
    "         f'Median income for the group increased \\${g1ch:,.0f}, or '+\n",
    "         f'{g1pc:.1f} percent, over the 30-year period. ')\n",
    "\n",
    "write_txt(text_dir / 'income_wealthg1.txt', text1)\n",
    "print(text1)\n",
    "\n",
    "text2 = ('In contrast, families in the third quartile of wealth (50th to 74.9th '+\n",
    "         f'percentiles, mean wealth of \\$700,000 in {yr}, see '+\n",
    "         '{\\color{green!80!blue!85!black}\\\\textbf{---}}) have a median income of '+\n",
    "         f'\\${g2val:,.0f} in {yr} and \\${g2valpr:,.0f} in '+\n",
    "         f'{pryr}, an increase of \\${g2ch:,.0f} ({g2pc:.1f} percent). \\n\\n'+\n",
    "         'Median income for families in the second quartile (25th to 49.9th '+\n",
    "         f'percentiles, mean wealth of \\$236,000 in {yr}, see '+\n",
    "         '{\\color{red!20!orange!95!black}\\\\textbf{---}}) increased '+\n",
    "         f'\\${g3ch:,.0f} ({g3pc:,.1f} percent) to '+\n",
    "         f'\\${g3val:,.0f} in {yr}, '+\n",
    "         f'from \\${g3valpr:,.0f} in {pryr}. \\n\\n For '+\n",
    "         'the bottom quarter of families by wealth (see {\\color{violet}\\\\textbf{---}}), '+\n",
    "         f'median income increased \\${g4ch:,.0f} or {g4pc:,.1f} '+\n",
    "         f'percent to \\${g4val:,.0f}, '+\n",
    "         f'over the 30 years ending {yr}. The bottom quarter of families '+\n",
    "         f'have a negative mean wealth in {yr} and a median wealth of virtually zero. ')\n",
    "write_txt(text_dir / 'income_wealthg2.txt', text2)\n",
    "print('\\n', text2)"
   ]
  },
  {
   "cell_type": "code",
   "execution_count": null,
   "metadata": {
    "ExecuteTime": {
     "end_time": "2021-06-11T01:07:12.577133Z",
     "start_time": "2021-06-11T01:06:27.891Z"
    }
   },
   "outputs": [],
   "source": [
    "d = {'Black, non-Hispanic': 'Black', \n",
    "     'White, non-Hispanic': 'White'}\n",
    "\n",
    "df = pd.read_csv('../data/scf_race_mean.csv').set_index(['year', 'Category'])['Net_Worth'].unstack()\n",
    "df = df.rename(d, axis=1)\n",
    "df.index = pd.to_datetime([f'{year}-07-01' for year in df.index])\n",
    "df = df.round(1)\n",
    "df.to_csv(data_dir / 'scfracemean.csv', index_label='date')"
   ]
  },
  {
   "cell_type": "code",
   "execution_count": null,
   "metadata": {
    "ExecuteTime": {
     "end_time": "2021-06-11T01:07:12.577554Z",
     "start_time": "2021-06-11T01:06:27.892Z"
    }
   },
   "outputs": [],
   "source": [
    "df = pd.read_csv('../data/scf_race_mean.csv').set_index(['year', 'Category'])['Before_Tax_Income'].unstack()\n",
    "df = df.rename(d, axis=1)\n",
    "df.index = pd.to_datetime([f'{year}-07-01' for year in df.index])\n",
    "df = df.round(1)\n",
    "df.to_csv(data_dir / 'scfracemean1.csv', index_label='date')"
   ]
  },
  {
   "cell_type": "code",
   "execution_count": null,
   "metadata": {
    "ExecuteTime": {
     "end_time": "2021-06-11T01:07:12.577967Z",
     "start_time": "2021-06-11T01:06:27.893Z"
    }
   },
   "outputs": [],
   "source": [
    "df = pd.read_csv('../data/scf_race_mean.csv').set_index(['year', 'Category'])['Financial_Assets'].unstack()\n",
    "df = df.rename(d, axis=1)\n",
    "df.index = pd.to_datetime([f'{year}-07-01' for year in df.index])\n",
    "df = df.round(1)\n",
    "df.to_csv(data_dir / 'scfracemean0.csv', index_label='date')"
   ]
  },
  {
   "cell_type": "code",
   "execution_count": null,
   "metadata": {
    "ExecuteTime": {
     "end_time": "2021-06-11T01:07:12.578396Z",
     "start_time": "2021-06-11T01:06:27.896Z"
    }
   },
   "outputs": [],
   "source": [
    "df = pd.read_csv('../data/scf_race_mean.csv').set_index(['year', 'Category'])['Stock_Holdings'].unstack()\n",
    "df = df.rename(d, axis=1)\n",
    "df.index = pd.to_datetime([f'{year}-07-01' for year in df.index])\n",
    "df = df.round(1)\n",
    "df.to_csv(data_dir / 'scfracemean2.csv', index_label='date')\n",
    "\n",
    "wval = df.White.iloc[-1] * 1000\n",
    "bval = df.Black.iloc[-1] * 1000\n",
    "\n",
    "df = pd.read_csv('../data/scf_race_have.csv').set_index(['year', 'Category'])['Stock_Holdings'].unstack()\n",
    "df = df.rename(d, axis=1)\n",
    "df.index = pd.to_datetime([f'{year}-07-01' for year in df.index])\n",
    "df = df.round(1)\n",
    "df.to_csv(data_dir / 'scfracehave.csv', index_label='date')\n",
    "\n",
    "wp = df.White.iloc[-1]\n",
    "bp = df.Black.iloc[-1]\n",
    "\n",
    "yr = dtxt(df.index[-1])['year']\n",
    "\n",
    "text = (f'In {yr}, among the {wp:.1f} percent of white families who own stocks, '+\n",
    "        f'the average value of stock holdings is \\${wval:,.0f}. The return on these '+\n",
    "        'assets is a supplement to labor income and the assets themselves provide '+\n",
    "        'cushion against unexpected expenses. Meanwhile, black families '+\n",
    "        f'have relatively few financial assets; only {bp:.1f} percent of black '+\n",
    "        f'families own stocks, with median stock holdings of \\${bval:,.0f}.')\n",
    "write_txt(text_dir / 'scfracestocks.txt', text)\n",
    "text"
   ]
  },
  {
   "cell_type": "code",
   "execution_count": null,
   "metadata": {},
   "outputs": [],
   "source": []
  },
  {
   "cell_type": "code",
   "execution_count": null,
   "metadata": {},
   "outputs": [],
   "source": []
  }
 ],
 "metadata": {
  "kernelspec": {
   "display_name": "Python 3",
   "language": "python",
   "name": "python3"
  },
  "language_info": {
   "codemirror_mode": {
    "name": "ipython",
    "version": 3
   },
   "file_extension": ".py",
   "mimetype": "text/x-python",
   "name": "python",
   "nbconvert_exporter": "python",
   "pygments_lexer": "ipython3",
   "version": "3.8.8"
  }
 },
 "nbformat": 4,
 "nbformat_minor": 4
}
