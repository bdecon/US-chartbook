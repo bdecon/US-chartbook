{
 "cells": [
  {
   "cell_type": "markdown",
   "metadata": {},
   "source": [
    "### Fed Z.1 Report"
   ]
  },
  {
   "cell_type": "code",
   "execution_count": 2,
   "metadata": {
    "ExecuteTime": {
     "end_time": "2022-03-23T14:11:32.661570Z",
     "start_time": "2022-03-23T14:11:31.565697Z"
    }
   },
   "outputs": [],
   "source": [
    "%config Completer.use_jedi = False\n",
    "import sys\n",
    "sys.path.append('../src')\n",
    "\n",
    "import uschartbook.config\n",
    "\n",
    "from uschartbook.config import *\n",
    "from uschartbook.utils import *"
   ]
  },
  {
   "cell_type": "markdown",
   "metadata": {},
   "source": [
    "### Change in liabilities"
   ]
  },
  {
   "cell_type": "code",
   "execution_count": 2,
   "metadata": {
    "ExecuteTime": {
     "end_time": "2022-03-10T18:01:13.760849Z",
     "start_time": "2022-03-10T18:01:13.758625Z"
    }
   },
   "outputs": [],
   "source": [
    "n = {'Total': 'Total',\n",
    "     'FL104190005.Q': '\\hspace{-2mm}\\cbox{lime!70}Corporate Business',\n",
    "     'FL104122005.Q': '\\hspace{4mm} Debt Securities',\n",
    "     'FL104123005.Q': '\\hspace{4mm} Loans',\n",
    "     'FL114190005.Q': '\\hspace{-2mm}\\cbox{green!72!black}Non-corporate Business',\n",
    "     'FL113165505.Q': '\\hspace{4mm} Commercial Mortgages',\n",
    "     'FL154190005.Q': '\\hspace{-2mm}\\cbox{orange!70}Household \\& Nonprofit',\n",
    "     'FL153165105.Q': '\\hspace{4mm} Home Mortgages',\n",
    "     'FL153166000.Q': '\\hspace{4mm} Consumer Credit',\n",
    "     'FL214190005.Q': '\\hspace{-2mm}\\cbox{cyan!52}State \\& Local Government',\n",
    "     'FL314190005.Q': '\\hspace{-2mm}\\cbox{blue!70}Federal Government'}"
   ]
  },
  {
   "cell_type": "code",
   "execution_count": 3,
   "metadata": {
    "ExecuteTime": {
     "end_time": "2022-03-10T18:01:19.189011Z",
     "start_time": "2022-03-10T18:01:13.762278Z"
    }
   },
   "outputs": [],
   "source": [
    "base = 'https://www.federalreserve.gov/datadownload/Output.aspx?'\n",
    "srs = 'rel=Z1&series=b682bef8ceb8d78b170ce12e692f06dc&lastobs=&' \n",
    "dt = 'from=03/01/1988&to=12/31/2021&'\n",
    "oth = 'filetype=csv&label=include&layout=seriescolumn'\n",
    "\n",
    "d, df = clean_fed_data(base + srs + dt + oth)\n",
    "subseries = ['FL104190005.Q', 'FL114190005.Q', 'FL154190005.Q', \n",
    "             'FL214190005.Q', 'FL314190005.Q']\n",
    "df['Total'] = df[subseries].sum(axis=1)\n",
    "df.to_csv(data_dir / 'liab_z1_raw.csv', index_label='date')"
   ]
  },
  {
   "cell_type": "code",
   "execution_count": 4,
   "metadata": {
    "ExecuteTime": {
     "end_time": "2022-03-10T18:01:19.271516Z",
     "start_time": "2022-03-10T18:01:19.190254Z"
    }
   },
   "outputs": [
    {
     "name": "stdout",
     "output_type": "stream",
     "text": [
      "Private business liabilities, corporate- and non-corporate, total \\$35.3 trillion in the fourth quarter of 2021, equivalent to 147.2 percent of GDP (see {\\color{green!72!black}\\textbf{---}}). In 2019, business liabilities were equivalent to 144.2 percent of GDP, and during the 1990s they were 99.6 percent of GDP, on average. Private household and nonprofit liabilities are equivalent to 76.4 percent of GDP in 2021 Q4 (see {\\color{orange!90!red}\\textbf{---}}), 76.0 percent in 2019, and 64.2 percent in the 1990s.\n",
      "\n",
      "Federal government liabilities are equivalent to 116.8 percent of GDP in 2021 Q4 (see {\\color{blue!70!white}\\textbf{---}}), compared to 98.6 percent of GDP in 2019 and 66.2 percent of GDP during the 1990s. Combined state and local government liabilities total 33.4 percent of GDP in 2021 Q4 (see {\\color{cyan!60!white}\\textbf{---}}), 39.4 percent in 2019, and 26.8 percent in the 1990s. \n",
      "\n",
      "Total domestic liabilities decreased 0.7 percent over the year ending 2021 Q4, after adjusting for inflation. Federal government borrowing did not contribute to the total (see\\cbox{blue!70}), while the state and local government subtracted 0.84 percentage point (see\\cbox{cyan!52}). Households and nonprofits contributed 0.32 percentage point to total annual growth (see\\cbox{orange!70}), corporate businesses subtracted 0.11 percentage point (see\\cbox{lime!70}), and non-corporate businesses subtracted 0.14 percentage point (see\\cbox{green!72!black}).\n"
     ]
    }
   ],
   "source": [
    "df = pd.read_csv(data_dir / 'liab_z1_raw.csv', index_col='date', \n",
    "                 parse_dates=True)\n",
    "sh = (df.div(nipa_df(retrieve_table('T10105')['Data'], ['A191RC']\n",
    "                    )['A191RC'], axis=0)).dropna().loc['1989':] * 100\n",
    "sh['Business'] = sh[['FL104190005.Q', 'FL114190005.Q']].sum(axis=1)\n",
    "sh.to_csv(data_dir / 'liabsh.csv', index_label='date')\n",
    "\n",
    "s = [('Business', 'green!72!black', 'q'), \n",
    "     ('FL154190005.Q', 'orange!90!red', None), \n",
    "     ('FL214190005.Q', 'cyan!60!white', None), \n",
    "     ('FL314190005.Q', 'blue!70!white', None)]\n",
    "nodes = '\\n'.join([end_node(sh[i], c, percent=True, date=d, size=1.2) \n",
    "                   for i, c, d in s]).replace('\\\\\\ \\scriptsize Q', ' Q')\n",
    "write_txt(text_dir / 'liabsh_node.txt', nodes)\n",
    "\n",
    "dt = dtxt(sh.index[-1])\n",
    "bt = df[['FL104190005.Q', 'FL114190005.Q']].iloc[-1].sum() / 1_000_000\n",
    "lt = {name: f'{val:.1f} percent' for name, val \n",
    "      in sh.iloc[-1].to_dict().items()}\n",
    "lt19 = {name: f'{val:.1f} percent' for name, val \n",
    "        in sh.loc['2019'].mean().to_dict().items()}\n",
    "lt90 = {name: f'{val:.1f} percent' for name, val \n",
    "        in sh.loc['1990':'1999'].mean().to_dict().items()}\n",
    "cl = {name: c_line(color) for name, color, _ in s}\n",
    "text = ('Private business liabilities, corporate- and non-corporate, '+\n",
    "        f'total \\${bt:.1f} trillion in {dt[\"qtr2\"]}, '+\n",
    "        f'equivalent to {lt[\"Business\"]} of GDP {cl[\"Business\"]}. In 2019, '+\n",
    "        f'business liabilities were equivalent to {lt19[\"Business\"]} '+\n",
    "        f'of GDP, and during the 1990s they were {lt90[\"Business\"]} of '+\n",
    "        'GDP, on average. Private household and nonprofit liabilities '+\n",
    "        f'are equivalent to {lt[\"FL154190005.Q\"]} of GDP in {dt[\"qtr1\"]} '+\n",
    "        f'{cl[\"FL154190005.Q\"]}, {lt19[\"FL154190005.Q\"]} in 2019, and '+\n",
    "        f'{lt90[\"FL154190005.Q\"]} in the 1990s.\\n\\nFederal government '+\n",
    "        f'liabilities are equivalent to {lt[\"FL314190005.Q\"]} of GDP in '+\n",
    "        f'{dt[\"qtr1\"]} {cl[\"FL314190005.Q\"]}, compared to '+\n",
    "        f'{lt19[\"FL314190005.Q\"]} of GDP in 2019 and {lt90[\"FL314190005.Q\"]} '+\n",
    "        'of GDP during the 1990s. Combined state and local government '+\n",
    "        f'liabilities total {lt[\"FL214190005.Q\"]} of GDP in {dt[\"qtr1\"]} '+\n",
    "        f'{cl[\"FL214190005.Q\"]}, {lt19[\"FL214190005.Q\"]} in 2019, and '+\n",
    "        f'{lt90[\"FL214190005.Q\"]} in the 1990s.')\n",
    "write_txt(text_dir / 'liabsh.txt', text)\n",
    "print(text, '\\n')\n",
    "\n",
    "data = df.join(nipa_df(retrieve_table('T20304')['Data'], ['DPCERG'])['DPCERG'])\n",
    "pr = data.DPCERG / data.DPCERG.iloc[-1]\n",
    "real = data.divide(pr, axis=0).drop('DPCERG', axis=1)\n",
    "res = growth_contrib_ann(real, 'Total').dropna()\n",
    "res.to_csv(data_dir / 'liabgr.csv', index_label='date')\n",
    "s = [('fed', 'blue!70', 'FL314190005.Q'), ('slg', 'cyan!52', 'FL214190005.Q'), \n",
    "     ('hh', 'orange!70', 'FL154190005.Q'), ('cb', 'lime!70', 'FL104190005.Q'), \n",
    "     ('ncb', 'green!72!black', 'FL114190005.Q')]\n",
    "cbox = {name: c_box(color) for name, color, _ in s}\n",
    "tot = value_text(res.Total.iloc[-1], threshold=0.1, obj='plural')\n",
    "stypes = [('contribution', '1'), ('contribution_to', '2')]\n",
    "txt = {f'{name}{i}': value_text(res[col].iloc[-1], style, digits=2,\n",
    "                                ptype='pp', threshold=0.1) \n",
    "       for style, i in stypes for name, _, col in s}\n",
    "text = (f'Total domestic liabilities {tot} over the year ending '+\n",
    "        f'{dt[\"qtr1\"]}, after adjusting for inflation. Federal government '+\n",
    "        f'borrowing {txt[\"fed2\"]} the total {cbox[\"fed\"]}, while the '+\n",
    "        f'state and local government {txt[\"slg1\"]} {cbox[\"slg\"]}. Households '+\n",
    "        f'and nonprofits {txt[\"hh1\"]} to total annual growth {cbox[\"hh\"]}, '+\n",
    "        f'corporate businesses {txt[\"cb1\"]} {cbox[\"cb\"]}, and non-corporate '+\n",
    "        f'businesses {txt[\"ncb1\"]} {cbox[\"ncb\"]}.')\n",
    "write_txt(text_dir / 'liabgr.txt', text)\n",
    "print(text)\n",
    "\n",
    "result = res[n.keys()]\n",
    "tbl = result.iloc[-5:].iloc[::-1].T\n",
    "cols = [f' {q.year} Q{q.quarter}' \n",
    "        if i == 0 else f'`{str(q.year)[2:]} Q{q.quarter}'\n",
    "        for i, q in enumerate(tbl.columns)]\n",
    "\n",
    "tbl.columns = cols\n",
    "tbl['3-year'] = result.rolling(13).mean().iloc[-1].round(2)\n",
    "tbl['10-year'] = result.rolling(41).mean().iloc[-1].round(2)\n",
    "tbl['30-year'] = result.rolling(121).mean().iloc[-1].round(2)\n",
    "tbl.index = tbl.index.map(n)\n",
    "tbl = tbl.applymap('{:.2f}'.format)\n",
    "tbl.to_csv(data_dir / 'liabgr.tex', sep='&', line_terminator='\\\\\\ ', \n",
    "            quotechar=' ')"
   ]
  },
  {
   "cell_type": "code",
   "execution_count": null,
   "metadata": {},
   "outputs": [],
   "source": []
  },
  {
   "cell_type": "code",
   "execution_count": null,
   "metadata": {},
   "outputs": [],
   "source": []
  },
  {
   "cell_type": "markdown",
   "metadata": {},
   "source": [
    "### Wealth to GDP\n"
   ]
  },
  {
   "cell_type": "code",
   "execution_count": 5,
   "metadata": {
    "ExecuteTime": {
     "end_time": "2022-03-10T18:01:24.604078Z",
     "start_time": "2022-03-10T18:01:19.272373Z"
    }
   },
   "outputs": [],
   "source": [
    "url = ('https://www.federalreserve.gov/datadownload/Output.aspx?'+\n",
    "       'rel=Z1&series=2ce5701b67d5c62df54fe8fc8312f49c&lastobs=&'+\n",
    "       'from=03/01/1988&to=12/31/2021&filetype=csv&label=include&'+\n",
    "       'layout=seriescolumn')\n",
    "d, df = clean_fed_data(url)\n",
    "df.to_csv(data_dir / 'uswealth_raw.csv', index_label='date')"
   ]
  },
  {
   "cell_type": "code",
   "execution_count": 6,
   "metadata": {
    "ExecuteTime": {
     "end_time": "2022-03-10T18:01:24.681758Z",
     "start_time": "2022-03-10T18:01:24.605088Z"
    }
   },
   "outputs": [
    {
     "name": "stdout",
     "output_type": "stream",
     "text": [
      "US wealth totals \\$137.1 trillion in 2021 Q4, equivalent to \\$412,200 per capita, or a 5.71 multiple of GDP (571.0 percent of GDP.)\n",
      "The ratio of US wealth to GDP has increased 185.5 percentage points since 1989, driven largely by increases in the market value of corporate equities and residential real estate. The market value of corporate equities was equivalent to a 2.84 multiple of GDP in 2021 Q4, compared to 1.70 in 1999--2000, during the tech bubble, and to 0.60 in 1989 (see\\cbox{magenta!50!violet}). The market value of domestic residential real estate was equivalent to a 1.77 multiple of GDP in 2021 Q4, compared to 1.85 in 2005--2007, during the housing bubble, and 1.34 in 1989 (see\\cbox{green!80!blue}).\n",
      "\n",
      "On a net basis, all other US wealth is equivalent to a 1.10 multiple of GDP in 2021 Q4 and a 1.91 multiple in 1989 (see\\cbox{cyan!35!white}). The other category includes tangible assets of noncorporate businesses and governments, and domestic financial claims on foreign assets. The category also subtracts foreign financial claims on US assets, for example foreign holdings of US corporate equities and Treasury bonds.\n"
     ]
    }
   ],
   "source": [
    "df = pd.read_csv(data_dir / 'uswealth_raw.csv', index_col='date',\n",
    "                 parse_dates=True)\n",
    "d2 = {'FL264090005.Q': '\\hspace{5mm} Less: ROW Claims on US',\n",
    "      'FL882090265.Q': '\\hspace{2mm} Net Claims on ROW',\n",
    "      'FL892090005.Q': 'US Net Wealth',\n",
    "      'LM112010005.Q': 'nfncb',\n",
    "      'LM152010005.Q': '\\hspace{2mm} Households \\& Nonprofits',\n",
    "      'LM212010095.Q': '\\hspace{2mm} State \\& Local Government',\n",
    "      'LM315015005.Q': '\\hspace{2mm} Federal Government',\n",
    "      'LM662090003.Q': 'fncb',\n",
    "      'LM882010405.Q': '\\hspace{2mm} Domestic Corporations',\n",
    "      'FL264194005.Q': '\\hspace{5mm} US Claims on ROW',\n",
    "      'LM155035005.Q': 'Real Estate', \n",
    "      'LM883164105.Q': 'Corporate Equities'}\n",
    "data = df.rename(d2, axis=1)\n",
    "data['\\hspace{2mm} Noncorporate Businesses'] = data['nfncb'] + data['fncb']\n",
    "data['Other'] = (data['US Net Wealth'] - data['Real Estate']\n",
    "                 - data['Corporate Equities'])\n",
    "gdp = nipa_df(retrieve_table('T10105')['Data'], ['A191RC'])['A191RC']\n",
    "ro = ['US Net Wealth', '\\hspace{2mm} Households \\& Nonprofits', \n",
    "      '\\hspace{2mm} Noncorporate Businesses', \n",
    "      '\\hspace{2mm} Domestic Corporations', '\\hspace{2mm} Federal Government', \n",
    "      '\\hspace{2mm} State \\& Local Government', \n",
    "      '\\hspace{2mm} Net Claims on ROW', '\\hspace{5mm} US Claims on ROW', \n",
    "      '\\hspace{5mm} Less: ROW Claims on US']\n",
    "dsh = (data.div(gdp, axis=0) * 100).dropna()\n",
    "res = dsh.loc[:,ro]\n",
    "\n",
    "tbl = res.iloc[-3:].iloc[::-1].T\n",
    "tbl[res.index[-5]] = res.iloc[-5]\n",
    "cols = [f' {q.year} Q{q.quarter}' \n",
    "        if i == 0 else f'`{str(q.year)[2:]} Q{q.quarter}'\n",
    "        for i, q in enumerate(tbl.columns)]\n",
    "\n",
    "tbl.columns = cols\n",
    "tbl['2019'] = res.loc['2019'].mean()\n",
    "tbl['2005 --`07'] = res.loc['2005':'2007'].mean()\n",
    "tbl['1989'] = res.loc['1989'].mean()\n",
    "tbl = tbl.applymap('{:.1f}'.format)\n",
    "tbl.to_csv(data_dir / 'uswealth.tex', sep='&', line_terminator='\\\\\\ ', \n",
    "            quotechar=' ')\n",
    "\n",
    "# Text\n",
    "ltdt = dtxt(res.index[-1])['qtr1']\n",
    "pop = nipa_df(retrieve_table('T20100')['Data'], ['B230RC'])['B230RC']\n",
    "pc = (data['US Net Wealth'].divide(pop, axis=0)).dropna() * 1000\n",
    "pcv = f'\\${pc.iloc[-1].round(-2):,.0f}'\n",
    "ltval = data['US Net Wealth'].iloc[-1] / 1_000_000\n",
    "ltsh = res['US Net Wealth'].iloc[-1]\n",
    "\n",
    "text = (f'US wealth totals \\${ltval:.1f} trillion in {ltdt}, '+\n",
    "        f'equivalent to {pcv} per capita, or a {ltsh / 100:.2f} '+\n",
    "        f'multiple of GDP ({ltsh:.1f} percent of GDP.)')\n",
    "write_txt(text_dir / 'uswealth.txt', text)\n",
    "print(text)\n",
    "\n",
    "keep = ['Corporate Equities', 'Real Estate', 'Other', \n",
    "        'US Net Wealth']\n",
    "dft = dsh.loc['1989':, keep].divide(100)\n",
    "dft.to_csv(data_dir / 'wealthgdp.csv', index_label='date')\n",
    "tot = dft['US Net Wealth']\n",
    "ltval = tot.iloc[-1]\n",
    "t89 = tot.loc['1989'].mean()\n",
    "cht = value_text((ltval - t89) * 100, ptype='pp')\n",
    "ce = dft['Corporate Equities']\n",
    "ce89 = ce.loc['1989'].mean()\n",
    "ce99 = ce.loc['1999': '2000'].mean()\n",
    "rr = dft['Real Estate']\n",
    "rr89 = rr.loc['1989'].mean()\n",
    "rr05 = rr.loc['2005': '2007'].mean()\n",
    "ot = dft['Other']\n",
    "ot89 = ot.loc['1989'].mean()\n",
    "\n",
    "ceb = c_box('magenta!50!violet')\n",
    "reb = c_box('green!80!blue')\n",
    "otb = c_box('cyan!35!white')\n",
    "\n",
    "txt = (f'The ratio of US wealth to GDP has {cht} since 1989, driven '+\n",
    "       f'largely by increases in the market value of corporate '+\n",
    "       'equities and residential real estate. The market value of '+\n",
    "       f'corporate equities was equivalent to a {ce.iloc[-1]:.2f} '+\n",
    "       f'multiple of GDP in {ltdt}, compared to {ce99:.2f} in 1999--'+\n",
    "       f'2000, during the tech bubble, and to {ce89:.2f} in 1989 {ceb}. '+\n",
    "       f'The market value of domestic residential real estate was '+\n",
    "       f'equivalent to a {rr.iloc[-1]:.2f} multiple of GDP in {ltdt}, '+\n",
    "       f'compared to {rr05:.2f} in 2005--2007, during the housing bubble, '+\n",
    "       f'and {rr89:.2f} in 1989 {reb}.\\n\\nOn a net basis, all other US '+\n",
    "       f'wealth is equivalent to a {ot.iloc[-1]:.2f} multiple of GDP '+\n",
    "       f'in {ltdt} and a {ot89:.2f} multiple in 1989 {otb}. The other '+\n",
    "       'category includes tangible assets of noncorporate businesses and '+\n",
    "       'governments, and domestic financial claims on foreign assets. The '+\n",
    "       'category also subtracts foreign financial claims on US assets, '+\n",
    "       'for example foreign holdings of US corporate equities and '+\n",
    "       'Treasury bonds.')\n",
    "write_txt(text_dir / 'wealthgdp.txt', txt)\n",
    "print(txt)"
   ]
  },
  {
   "cell_type": "code",
   "execution_count": null,
   "metadata": {},
   "outputs": [],
   "source": []
  },
  {
   "cell_type": "code",
   "execution_count": null,
   "metadata": {},
   "outputs": [],
   "source": []
  },
  {
   "cell_type": "markdown",
   "metadata": {},
   "source": [
    "### Business Debt"
   ]
  },
  {
   "cell_type": "code",
   "execution_count": 7,
   "metadata": {
    "ExecuteTime": {
     "end_time": "2022-03-10T18:01:30.020842Z",
     "start_time": "2022-03-10T18:01:24.682964Z"
    }
   },
   "outputs": [],
   "source": [
    "base = 'https://www.federalreserve.gov/datadownload/Output.aspx?'\n",
    "srs = 'rel=Z1&series=d720788442f3511d102b43eee2bddb41&lastobs=&'\n",
    "dt = 'from=03/01/1988&to=12/31/2021&'\n",
    "oth = 'filetype=csv&label=include&layout=seriescolumn'\n",
    "url = base + srs + dt + oth\n",
    "\n",
    "d = {'FL104122005.Q': 'Debt Securities',\n",
    "     'FL143168005.Q': 'Bank Loans',\n",
    "     'FL143165005.Q': 'Mortgages',\n",
    "     'FL143169005.Q': 'Nonbank Loans',\n",
    "     'FL144104005.Q': 'Total',\n",
    "     'FL104104005.Q': 'Total Corporate',\n",
    "     'FL114123005.Q': 'Total Noncorporate',\n",
    "     'FL794122005.Q': 'Financial Debt Securities',\n",
    "     'FL794123005.Q': 'Financial Loans',\n",
    "     'FL794104005.Q': 'Financial Total',\n",
    "     'FL423161705.Q': 'Agency MBS'}\n",
    "\n",
    "df = pd.read_csv(url, skiprows=5, index_col=0)[d.keys()].rename(d, axis=1)\n",
    "df.index = pd.to_datetime(df.index)\n",
    "df['Bank Loans and Mortgages'] = df['Bank Loans'] + df['Mortgages']\n",
    "df['Other'] = df['Financial Debt Securities'] - df['Agency MBS']\n",
    "\n",
    "data = (df.div(nipa_df(retrieve_table('T10105')['Data'], ['A191RC']\n",
    "               )['A191RC'], axis=0)).dropna() * 100\n",
    "data.loc['1989':].to_csv(data_dir / 'busdebtgdp2.csv', index_label='date', \n",
    "                         float_format='%g')"
   ]
  },
  {
   "cell_type": "code",
   "execution_count": 8,
   "metadata": {
    "ExecuteTime": {
     "end_time": "2022-03-10T18:01:30.028057Z",
     "start_time": "2022-03-10T18:01:30.022608Z"
    }
   },
   "outputs": [],
   "source": [
    "lt_date = f'{data.index[-1].year} Q{data.index[-1].quarter}'\n",
    "total = df['Total'].iloc[-1] / 1_000\n",
    "corp = df['Total Corporate'].iloc[-1] / 1_000\n",
    "corp_sh = corp / total * 100\n",
    "tot_gdp = data['Total'].iloc[-1]\n",
    "tot_gdp_3 = data['Total'].iloc[-13]\n",
    "\n",
    "date_3 = f'{data.index[-13].year} Q{data.index[-13].quarter}'\n",
    "tot_3 = tot_gdp - tot_gdp_3\n",
    "ds_3 = data['Debt Securities'].iloc[-1] - data['Debt Securities'].iloc[-13]\n",
    "nb_3 = data['Nonbank Loans'].iloc[-1] - data['Nonbank Loans'].iloc[-13]\n",
    "\n",
    "if tot_3 >= 1:\n",
    "    tot_text = 'increased faster than'\n",
    "    tot_text2 = 'increased'\n",
    "elif (tot_3 < 1) & (tot_3 >= -1):\n",
    "    tot_text = 'grown at about the same rate as'\n",
    "    tot_text2 = 'grew'\n",
    "else:\n",
    "    tot_text = 'fallen relative to'\n",
    "    tot_text2 = 'fell'\n",
    "    \n",
    "finmax = data['Financial Total'].max()\n",
    "finmaxdt = f'{data[\"Financial Total\"].idxmax().year} Q{data[\"Financial Total\"].idxmax().quarter}'\n",
    "finlt = data['Financial Total'].iloc[-1]"
   ]
  },
  {
   "cell_type": "code",
   "execution_count": 9,
   "metadata": {
    "ExecuteTime": {
     "end_time": "2022-03-10T18:01:30.042487Z",
     "start_time": "2022-03-10T18:01:30.029574Z"
    }
   },
   "outputs": [],
   "source": [
    "busdebt = (f'As of {lt_date}, nonfinancial business debt--the debt security '+\n",
    "           'and loan liabilities of nonfinancial businesses--both corporate and '+\n",
    "           f'non-corporate--totals \\${total:,.0f} billion, with \\${corp:,.0f} '+\n",
    "           f'billion ({corp_sh:,.1f}\\%) held by corporate businesses. Over the '+\n",
    "           f'past three years, nonfinancial business debt has {tot_text} overall '+\n",
    "           'economic activity. As a share of GDP, nonfinancial business debt '+\n",
    "           f'{tot_text2} by {tot_3:.1f} percentage points to {tot_gdp:.1f} percent '+\n",
    "           f'in {lt_date} from {tot_gdp_3:.1f} percent in {date_3}. The vast '+\n",
    "           f'majority of the increase, {nb_3:.1f} percentage points, comes from '+\n",
    "           'nonbank loans (see\\\\cbox{{blue}}).')\n",
    "write_txt(text_dir / 'busdebtgdp.txt', busdebt)\n",
    "\n",
    "fintext = ('Domestic financial sector debt has fallen as a share of '+\n",
    "           f'GDP to {finlt:.1f} percent in {lt_date} from a housing-bubble '+\n",
    "           f'peak of {finmax:.1f} percent in {finmaxdt}.')\n",
    "write_txt(text_dir / 'findebtgdp.txt', fintext)"
   ]
  },
  {
   "cell_type": "code",
   "execution_count": null,
   "metadata": {},
   "outputs": [],
   "source": []
  },
  {
   "cell_type": "code",
   "execution_count": null,
   "metadata": {},
   "outputs": [],
   "source": []
  },
  {
   "cell_type": "markdown",
   "metadata": {},
   "source": [
    "### Household debt"
   ]
  },
  {
   "cell_type": "code",
   "execution_count": 10,
   "metadata": {
    "ExecuteTime": {
     "end_time": "2022-03-10T18:01:35.331035Z",
     "start_time": "2022-03-10T18:01:30.043448Z"
    }
   },
   "outputs": [],
   "source": [
    "base = 'https://www.federalreserve.gov/datadownload/Output.aspx?'\n",
    "srs = 'rel=Z1&series=21a69f49792f26a66791418647f75234&lastobs=&'\n",
    "dt = 'from=03/01/1988&to=12/31/2021&'\n",
    "oth = 'filetype=csv&label=include&layout=seriescolumn'\n",
    "url = base + srs + dt + oth\n",
    "\n",
    "d = {'FL153165105.Q': 'Mortgages',\n",
    "     'FL153166000.Q': 'Consumer Credit',\n",
    "     'FL154190005.Q': 'Total'}\n",
    "\n",
    "df = (pd.read_csv(url, skiprows=5, index_col=0, parse_dates=True)[d.keys()]\n",
    "        .rename(d, axis=1).divide(1000))\n",
    "df['Other'] = df['Total'] - df['Consumer Credit'] - df['Mortgages']\n",
    "table_store_fa = df.divide(1000)\n",
    "dpi = nipa_df(retrieve_table('T20100')['Data'], ['A067RC'])['A067RC']\n",
    "data = (df.div(dpi, axis=0)).dropna() * 100_000\n",
    "data.loc['1989':].to_csv(data_dir / 'hhdebt.csv', index_label='date')\n",
    "table_store_fa_dpi = data"
   ]
  },
  {
   "cell_type": "code",
   "execution_count": 11,
   "metadata": {
    "ExecuteTime": {
     "end_time": "2022-03-10T18:01:35.340218Z",
     "start_time": "2022-03-10T18:01:35.332142Z"
    }
   },
   "outputs": [
    {
     "name": "stdout",
     "output_type": "stream",
     "text": [
      "The Federal Reserve \\href{https://www.federalreserve.gov/releases/z1/current/default.htm}{report} household and nonprofit liabilities total \\$18.35 trillion in 2021 Q4. The vast majority--\\$11.74 trillion or 64.0 percent of the total--are home mortgages (see\\cbox{blue!60!violet}). Consumer credit liabilities (see\\cbox{magenta}) which include auto loans, credit card debt, student loans, and other personal loans, total \\$4.43 trillion (24.2 percent of the total). The remaining liabilities (see\\cbox{orange!80!yellow}) are primarily attributable to nonprofits. \n",
      "\n",
      " The ratio of household and nonprofit debt to disposable personal income has fallen to 100.8 percent in 2021 Q4 from its housing-bubble peak of 136.6 percent in 2007 Q4. Over the past three years, nominal household and nonprofit debt has increased 14.7 percent while nominal disposable personal income has increased 14.4 percent. As a result, the ratio of household and nonprofit debt to disposable personal income has been virtually unchanged.\n"
     ]
    }
   ],
   "source": [
    "date = dtxt(data.index[-1])['qtr1']\n",
    "maxdate = dtxt(data.Total.idxmax())['qtr1']\n",
    "\n",
    "totval = (df['Total'].iloc[-1] / 1000)\n",
    "mortval = (df['Mortgages'].iloc[-1] / 1000)\n",
    "mortsh = mortval / totval * 100\n",
    "ccval = (df['Consumer Credit'].iloc[-1] / 1000)\n",
    "ccsh = ccval / totval * 100\n",
    "totrt = data['Total'].iloc[-1]\n",
    "maxrt = data['Total'].max()\n",
    "dpi3 = dpi.pct_change(12).iloc[-1] * 100\n",
    "rt3 = df.Total.pct_change(12).iloc[-1] * 100\n",
    "ch3 = data.Total.diff(12).iloc[-1]  \n",
    "ch3txt = (value_text(ch3, style='increase_by', ptype='pp', threshold=0.3)\n",
    "          .replace('decreased', 'fallen').replace('was', 'been'))\n",
    "url = 'https://www.federalreserve.gov/releases/z1/current/default.htm'    \n",
    "text1 = (f'The Federal Reserve \\href{{{url}}}{{report}} household and '+\n",
    "         f'nonprofit liabilities total \\${totval:,.2f} trillion in {date}. '+\n",
    "         f'The vast majority--\\${mortval:,.2f} trillion or {mortsh:.1f} '+\n",
    "         'percent of the total--are home mortgages (see\\cbox{blue!60!violet}). '+\n",
    "         'Consumer credit liabilities (see\\cbox{magenta}) which include auto '+\n",
    "         'loans, credit card debt, student loans, and other personal loans, '+\n",
    "         f'total \\${ccval:,.2f} trillion ({ccsh:.1f} percent of the total). The '+\n",
    "         'remaining liabilities (see\\cbox{orange!80!yellow}) are primarily '+\n",
    "         'attributable to nonprofits.')\n",
    "\n",
    "text2 = ('The ratio of household and nonprofit debt to disposable personal '+\n",
    "         f'income has fallen to {totrt:.1f} percent in {date} from its '+\n",
    "         f'housing-bubble peak of {maxrt:.1f} percent in {maxdate}. Over '+\n",
    "         'the past three years, nominal household and nonprofit debt has '+\n",
    "         f'{value_text(rt3, threshold=0.4)} while nominal disposable personal '+\n",
    "         f'income has {value_text(dpi3, threshold=0.4)}. As a result, the '+\n",
    "         'ratio of household and nonprofit debt to disposable personal income '+\n",
    "         f'has {ch3txt}.')\n",
    "write_txt(text_dir / 'hhdebt1.txt', text1)    \n",
    "write_txt(text_dir / 'hhdebt2.txt', text2)\n",
    "print(text1, '\\n\\n', text2)"
   ]
  },
  {
   "cell_type": "code",
   "execution_count": null,
   "metadata": {},
   "outputs": [],
   "source": []
  },
  {
   "cell_type": "code",
   "execution_count": null,
   "metadata": {},
   "outputs": [],
   "source": []
  },
  {
   "cell_type": "markdown",
   "metadata": {},
   "source": [
    "### Consumer Credit"
   ]
  },
  {
   "cell_type": "code",
   "execution_count": 12,
   "metadata": {
    "ExecuteTime": {
     "end_time": "2022-03-10T18:01:37.262399Z",
     "start_time": "2022-03-10T18:01:35.341286Z"
    }
   },
   "outputs": [
    {
     "name": "stdout",
     "output_type": "stream",
     "text": [
      "2022q1.xlsx Not available. Using 2021q4.xlsx instead.\n"
     ]
    }
   ],
   "source": [
    "if os.path.exists(data_dir / 'ccp_hist.csv'):\n",
    "    h = pd.read_csv(data_dir / 'ccp_hist.csv', index_col='date', \n",
    "                    parse_dates=True)\n",
    "else:\n",
    "    # Historical data\n",
    "    print('Retrieving historical data')\n",
    "    url = ('https://www.newyorkfed.org/medialibrary/media/research/'+\n",
    "           'national_economy/householdcredit/pre2003_data.xlsx')\n",
    "    h = pd.read_excel(url, sheet_name='Total Balance Data', skiprows=2, \n",
    "                      nrows=6, usecols='A:S', index_col=0).dropna(axis=1).T\n",
    "    h.index = pd.date_range(start='1999-01-01', end='2002-10-01', freq='QS')\n",
    "    h.to_csv(data_dir / 'ccp_hist.csv', index_label='date')\n",
    "    \n",
    "# Download latest data    \n",
    "d1 = pd.to_datetime('today') - pd.DateOffset(weeks=7)\n",
    "dt1 = f'{d1.year}q{d1.quarter}.xlsx'\n",
    "d2 = pd.to_datetime('today') - pd.DateOffset(weeks=20)\n",
    "dt2 = f'{d2.year}q{d2.quarter}.xlsx'\n",
    "\n",
    "def retrieve_frbny_data(dt):\n",
    "    url = ('https://www.newyorkfed.org/medialibrary/interactives/'+\n",
    "           f'householdcredit/data/xls/hhd_c_report_')\n",
    "    return pd.read_excel(url+dt, sheet_name='Page 3 Data', \n",
    "                         header=3, index_col=0)\n",
    "\n",
    "try:\n",
    "    df = retrieve_frbny_data(dt1)\n",
    "except ValueError:\n",
    "    df = retrieve_frbny_data(dt2)\n",
    "    print(f'{dt1} Not available. Using {dt2} instead.')\n",
    "df.index = [pd.to_datetime(f'20{x.replace(\":\", \"-\")}') for x in df.index]\n",
    "df = df.dropna(axis=1)    \n",
    "data = h.append(df)\n",
    "data['Mortgage Total'] = data['Mortgage'] + data['HE Revolving']\n",
    "data['Consumer Credit'] = data['Total'] - data['Mortgage Total']\n",
    "data.to_csv(data_dir / 'hhccpdebt.csv', index_label='date')"
   ]
  },
  {
   "cell_type": "code",
   "execution_count": 13,
   "metadata": {
    "ExecuteTime": {
     "end_time": "2022-03-10T18:01:37.309747Z",
     "start_time": "2022-03-10T18:01:37.263607Z"
    }
   },
   "outputs": [
    {
     "name": "stdout",
     "output_type": "stream",
     "text": [
      "The latest comparable figure from the FRBNY data discussed in the previous section, which covers 2021 Q4, shows consumer credit is equivalent to 23.8 percent of annual disposable personal income (see {\\color{lime!55!green}\\textbf{---}}). Over the past year, the ratio decreased by a total of 0.3 percentage point.\n"
     ]
    }
   ],
   "source": [
    "data = pd.read_csv(data_dir / 'hhccpdebt.csv', index_col='date', \n",
    "                    parse_dates=True)\n",
    "dpi = (nipa_df(retrieve_table('T20100')['Data'], ['A067RC'])\n",
    "       .A067RC  / 1_000_000)\n",
    "sh = (data.div(dpi, axis=0)).dropna(how='all') * 100\n",
    "sh.loc['1999':].to_csv(data_dir / 'hhcdebt.csv', index_label='date')\n",
    "ltdate = dtxt(sh.index[-1])['qtr1']\n",
    "ltval = sh['Consumer Credit'].iloc[-1]\n",
    "one_yr_diff = value_text(sh['Consumer Credit'].diff(4).iloc[-1], \n",
    "                         adj='total', ptype='pp')\n",
    "cl = c_line('lime!55!green')\n",
    "text = ('The latest comparable figure from the FRBNY data discussed in the '+\n",
    "        f'previous section, which covers {ltdate}, shows consumer credit '+\n",
    "        f'is equivalent to {ltval:.1f} percent of annual disposable '+\n",
    "        f'personal income {cl}. Over the past year, the ratio {one_yr_diff}.')\n",
    "write_txt(text_dir / 'cc_dpi_2.txt', text)\n",
    "print(text)\n",
    "\n",
    "st = end_node(sh['Student Loan'], 'green!80!blue', date='q', \n",
    "              full_year=True, offset=0.35, percent=True)\n",
    "au = end_node(sh['Auto Loan'], 'blue!60!cyan', percent=True)\n",
    "cc = end_node(sh['Credit Card'], 'red', percent=True)\n",
    "nodes = '\\n'.join([st, au, cc])\n",
    "write_txt(text_dir / 'cc_nodes.txt', nodes)\n",
    "\n",
    "c = [('Mortgage', 'gray'), ('HE Revolving', 'gray'), \n",
    "     ('Auto Loan', 'blue!60!cyan'), ('Credit Card', 'red'), \n",
    "     ('Student Loan', 'green!80!blue'), ('Total', 'gray')]\n",
    "yr3ch = sh.diff(12).iloc[-1].sort_values(ascending=True)\n",
    "d = dtxt(sh.index[-1])\n",
    "d3 = dtxt(sh.index[-13])['qtr1']\n",
    "cc_dates = d3 + '--' + d['qtr4']\n",
    "write_txt(text_dir / 'cc_dates.txt', cc_dates)\n",
    "\n",
    "bar = pd.DataFrame({'color': pd.Series({name: color for name, color in c}), \n",
    "                    'value': yr3ch}).dropna().sort_values('value')\n",
    "bar.index.name = 'name'\n",
    "bar.to_csv(data_dir / 'ccdebtbar.csv', index_label='name')"
   ]
  },
  {
   "cell_type": "code",
   "execution_count": 14,
   "metadata": {
    "ExecuteTime": {
     "end_time": "2022-03-10T18:01:37.317107Z",
     "start_time": "2022-03-10T18:01:37.311056Z"
    }
   },
   "outputs": [
    {
     "name": "stdout",
     "output_type": "stream",
     "text": [
      "Federal Reserve Bank of New York (FRBNY) \\href{https://www.newyorkfed.org/microeconomics/hhdc/background.html}{analysis} of Equifax data shows \\$15.6 trillion in total consumer debt in the fourth quarter of 2021, which is equivalent to 85.6 percent of disposable personal income. Over the past three years, total consumer debt has increased by \\$2.03 trillion, compared to an increase of \\$2.29 trillion in disposable personal income. As a result, the ratio of total consumer debt to disposable personal income increased 0.4 percentage point over this period.\n"
     ]
    }
   ],
   "source": [
    "# Consumer credit text\n",
    "totval = data['Total'].iloc[-1]\n",
    "totval2 = sh['Total'].iloc[-1]\n",
    "totvalch = data['Total'].diff(12).iloc[-1]\n",
    "tvdir = value_text(totvalch, 'increase_by', ptype='trillion', \n",
    "                   dollar=True, threshold=0.1, digits=2)\n",
    "dpich = dpi.diff(12).iloc[-1]\n",
    "dpidir = value_text(dpich, 'increase_of', ptype='trillion', \n",
    "                   dollar=True, threshold=0.1, digits=2)    \n",
    "totvalch2 = sh['Total'].diff(12).iloc[-1]\n",
    "tvdir2 = value_text(totvalch2, ptype='pp', threshold=0.1)\n",
    "url = 'https://www.newyorkfed.org/microeconomics/hhdc/background.html'\n",
    "txt = (f'Federal Reserve Bank of New York (FRBNY) \\href{{{url}}}{{analysis}} '+\n",
    "       f'of Equifax data shows \\\\${totval:.1f} trillion in total consumer '+\n",
    "       f'debt in {d[\"qtr2\"]}, which is equivalent to {totval2:.1f} percent '+\n",
    "       f'of disposable personal income. Over the past three years, total '+\n",
    "       f'consumer debt has {tvdir}, compared to {dpidir} in disposable personal '+\n",
    "       f'income. As a result, the ratio of total consumer debt to disposable '+\n",
    "       f'personal income {tvdir2} over this period.')\n",
    "write_txt(text_dir / 'hhcdebt3.txt', txt)\n",
    "print(txt)"
   ]
  },
  {
   "cell_type": "code",
   "execution_count": 15,
   "metadata": {
    "ExecuteTime": {
     "end_time": "2022-03-10T18:01:37.326132Z",
     "start_time": "2022-03-10T18:01:37.318414Z"
    }
   },
   "outputs": [
    {
     "name": "stdout",
     "output_type": "stream",
     "text": [
      "According to the same FRBNY data, mortgage debt, including home equity lines of credit, totalled \\$11.25 trillion in the fourth quarter of 2021, equivalent to 61.8 percent of disposable personal income (DPI). Student loans totalled \\$1,576 billion, or 8.7 percent of DPI; auto loans totalled \\$1,458 billion (8.0 percent of DPI); and credit card debt totalled \\$856 billion (4.7 percent of DPI). \n",
      "\n",
      "Over the past three years, the ratio of total mortgage debt to disposable personal income fell by 1.9 percentage points, compared to a decrease of 0.5 percentage point for student loans, virtually no change for auto loans, and a decrease of 0.8 percentage point for credit card debt\n"
     ]
    }
   ],
   "source": [
    "tot, shr, gr = {}, {}, {}\n",
    "for series in ['Mortgage Total', 'Auto Loan', 'Student Loan', 'Credit Card']:\n",
    "    tot[series] = data[series].iloc[-1] * 1000\n",
    "    shr[series] = sh[series].iloc[-1]\n",
    "    grtmp = (sh[series].diff(12)).iloc[-1]\n",
    "    gr[series] = value_text(grtmp, 'increase_of', ptype='pp', threshold=0.1)\n",
    "        \n",
    "mgr = sh['Mortgage Total'].diff(12).iloc[-1]        \n",
    "gr['Mortgage Total'] = f'fell by {abs(mgr):.1f} percentage points'\n",
    "\n",
    "txt3 = ('According to the same FRBNY data, mortgage debt, including home '+\n",
    "        f'equity lines of credit, totalled \\${tot[\"Mortgage Total\"] / 1_000:,.2f} '+\n",
    "        f'trillion in {d[\"qtr2\"]}, equivalent to {shr[\"Mortgage Total\"]:.1f} '+\n",
    "        f'percent of disposable personal income (DPI). Student loans '+\n",
    "        f'totalled \\${tot[\"Student Loan\"]:,.0f} billion, or '+\n",
    "        f'{shr[\"Student Loan\"]:.1f} percent of DPI; auto loans totalled '+\n",
    "        f'\\${tot[\"Auto Loan\"]:,.0f} billion ({shr[\"Auto Loan\"]:.1f} percent '+\n",
    "        f'of DPI); and credit card debt totalled \\${tot[\"Credit Card\"]:,.0f} '+\n",
    "        f'billion ({shr[\"Credit Card\"]:.1f} percent of DPI).' )\n",
    "write_txt(text_dir / 'hhcdebt4.txt', txt3)\n",
    "print(txt3, '\\n')\n",
    "txt4 = ('Over the past three years, the ratio of total mortgage debt to disposable '+\n",
    "        f'personal income {gr[\"Mortgage Total\"]}, compared to '+\n",
    "        f'{gr[\"Student Loan\"]} for student loans, '+\n",
    "        f'{gr[\"Auto Loan\"]} for auto loans, and '+\n",
    "        f'{gr[\"Credit Card\"]} for credit card debt')\n",
    "write_txt(text_dir / 'hhcdebt5.txt', txt4)\n",
    "print(txt4)"
   ]
  },
  {
   "cell_type": "code",
   "execution_count": 16,
   "metadata": {
    "ExecuteTime": {
     "end_time": "2022-03-10T18:01:37.351912Z",
     "start_time": "2022-03-10T18:01:37.326982Z"
    }
   },
   "outputs": [],
   "source": [
    "# Household debt and consumer credit table\n",
    "dtlt = pd.to_datetime(data.index[-1])\n",
    "dt2 = pd.to_datetime(data.index[-2])\n",
    "dt3y = pd.to_datetime(data.index[-13])\n",
    "dt13 = pd.to_datetime('2013-01-01')\n",
    "dt03 = pd.to_datetime('2003-01-01')\n",
    "\n",
    "dts = [dtlt, dt2]\n",
    "dts2 = [dtlt, dt2, dt3y, dt13, dt03]\n",
    "\n",
    "for x in [data, sh]:\n",
    "    x['Mortgage Total'] = x['Mortgage'] + x['HE Revolving']\n",
    "    x['Non-Mortgage Total'] = (x['Auto Loan'] + x['Credit Card'] \n",
    "                               + x['Student Loan'] + x['Other'])\n",
    "\n",
    "# Attempt to handle CCP coming out first\n",
    "for x in [table_store_fa, table_store_fa_dpi]:\n",
    "    if dtlt not in x.index:\n",
    "        x.at[dtlt, :] = '--'\n",
    "\n",
    "d1 = {'Total': 'Financial Accounts Total*',\n",
    "      'Mortgages': '\\hspace{2mm} \\cbox{blue!60!violet} Mortgage Debt Total',\n",
    "      'Consumer Credit': '\\hspace{2mm} \\cbox{magenta} Consumer Credit',\n",
    "      'Other': '\\hspace{2mm} \\cbox{orange!80!yellow} Other'}\n",
    "\n",
    "d2 = {'Total': 'Consumer Credit Panel Total',\n",
    "      'Mortgage Total': '\\hspace{2mm} Mortgage Debt Total',\n",
    "      'Mortgage': '\\hspace{4mm} Mortgage',\n",
    "      'HE Revolving': '\\hspace{4mm} Home Equity Revolving',\n",
    "      'Non-Mortgage Total': '\\hspace{2mm} Consumer Credit',\n",
    "      'Auto Loan': '\\hspace{4mm} \\cbox{blue!60!cyan} Auto Loan',\n",
    "      'Credit Card': '\\hspace{4mm} \\cbox{red} Credit Card',\n",
    "      'Student Loan': '\\hspace{4mm} \\cbox{green!80!blue} Student Loan',\n",
    "      'Other': '\\hspace{4mm} Other'}\n",
    "\n",
    "final = pd.DataFrame()\n",
    "\n",
    "for dt in dts:\n",
    "    dtmp = f'{dt.year} Q{dt.quarter}'\n",
    "    for srs in [table_store_fa]:\n",
    "        for k, v in d1.items():\n",
    "            if srs.loc[dt, k] != '--':\n",
    "                final.at[v, dtmp] = f'\\${srs.loc[dt, k]:.2f}T'\n",
    "            else: final.at[v, dtmp] = srs.loc[dt, k]\n",
    "    for srs in [data]:\n",
    "        for k, v in d2.items():            \n",
    "            final.at[v, dtmp] = f'\\${srs.loc[dt, k]:.2f}T' \n",
    "            \n",
    "for dt in dts2:\n",
    "    dtmp = f'`{str(dt.year)[2:]} Q{dt.quarter}'\n",
    "    for srs in [table_store_fa_dpi]:\n",
    "        for k, v in d1.items():\n",
    "            if srs.loc[dt, k] != '--':\n",
    "                final.at[v, dtmp] = round(srs.loc[dt, k], 1)\n",
    "            else: \n",
    "                final.at[v, dtmp] = srs.loc[dt, k]\n",
    "    for srs in [sh]:\n",
    "        for k, v in d2.items():\n",
    "            final.at[v, dtmp] = round(srs.loc[dt, k], 1)\n",
    "            \n",
    "final.to_csv(data_dir / 'hhcdebt.tex', sep='&', \n",
    "             line_terminator='\\\\\\ ', quotechar=' ')"
   ]
  },
  {
   "cell_type": "code",
   "execution_count": null,
   "metadata": {},
   "outputs": [],
   "source": []
  },
  {
   "cell_type": "code",
   "execution_count": null,
   "metadata": {},
   "outputs": [],
   "source": []
  },
  {
   "cell_type": "markdown",
   "metadata": {},
   "source": [
    "### Income as return on total HH assets"
   ]
  },
  {
   "cell_type": "code",
   "execution_count": 17,
   "metadata": {
    "ExecuteTime": {
     "end_time": "2022-03-10T18:01:42.752867Z",
     "start_time": "2022-03-10T18:01:37.352925Z"
    }
   },
   "outputs": [
    {
     "name": "stdout",
     "output_type": "stream",
     "text": [
      "As of 2021 Q4, disposable income was equivalent to 10.8 percent of total assets (see {\\color{red}\\textbf{---}}), compared to an average rate of 16.0 percent during the 1990s.\n"
     ]
    }
   ],
   "source": [
    "base = 'https://www.federalreserve.gov/datadownload/Output.aspx?'\n",
    "srs = 'rel=Z1&series=906ccd6e7fcae1e4f20ac00b86ade272&lastobs=&'\n",
    "dt = 'from=03/01/1988&to=12/31/2021&'\n",
    "oth = 'filetype=csv&label=include&layout=seriescolumn'\n",
    "url = base + srs + dt + oth\n",
    "\n",
    "d = {'LM152010005.Q': 'Nonfinancial',\n",
    "     'FL154090005.Q': 'Financial'}\n",
    "\n",
    "df = pd.read_csv(url, skiprows=5, index_col=0, \n",
    "                 parse_dates=True)[d.keys()].rename(d, axis=1)\n",
    "df['Total'] = df['Nonfinancial'] + df['Financial']\n",
    "df['DPI'] = nipa_df(retrieve_table('T20100')['Data'], ['A067RC'])\n",
    "df['DPINF'] = df['Nonfinancial'].divide(df['Total'], axis=0)\n",
    "df['DPIF'] = df['Financial'].divide(df['Total'], axis=0)\n",
    "df['DPIsh'] = df['DPI'].divide(df['Total'], axis=0)\n",
    "df['DPINFsh'] = df['DPINF'] * df['DPIsh']\n",
    "df['DPIFsh'] = df['DPIF'] * df['DPIsh']\n",
    "\n",
    "df = df * 100\n",
    "df.loc['1989':,'DPIsh'].to_csv(data_dir / 'dpish.csv', index_label='date')\n",
    "\n",
    "node = end_node(df['DPIsh'], 'red', percent=True, date='q', \n",
    "                offset=0.35, full_year=True)\n",
    "write_txt(text_dir / 'dpish_node.txt', node)\n",
    "\n",
    "ltdate = dtxt(df.index[-1])['qtr1']\n",
    "tot = df.DPIsh.iloc[-1]\n",
    "tot90s = df.loc['1990':'1999', 'DPIsh'].mean()\n",
    "\n",
    "text = (f'As of {ltdate}, disposable income was equivalent to {tot:.1f} '+\n",
    "        'percent of total assets (see {\\color{red}\\\\textbf{---}}), '+\n",
    "        f'compared to an average rate of {tot90s:.1f} percent during '+\n",
    "        'the 1990s.')\n",
    "write_txt(text_dir / 'dpishta.txt', text)\n",
    "print(text)"
   ]
  },
  {
   "cell_type": "code",
   "execution_count": null,
   "metadata": {},
   "outputs": [],
   "source": []
  },
  {
   "cell_type": "code",
   "execution_count": null,
   "metadata": {},
   "outputs": [],
   "source": []
  },
  {
   "cell_type": "markdown",
   "metadata": {},
   "source": [
    "### Household assets"
   ]
  },
  {
   "cell_type": "code",
   "execution_count": 18,
   "metadata": {
    "ExecuteTime": {
     "end_time": "2022-03-10T18:01:48.087798Z",
     "start_time": "2022-03-10T18:01:42.753972Z"
    }
   },
   "outputs": [
    {
     "name": "stdout",
     "output_type": "stream",
     "text": [
      "Financial assets include equity in businesses--corporate and non-coporate--with a market value of \\$64.7 trillion, or 2.7 years of GDP (see\\cbox{blue!65!black}), in 2021 Q4. Debt securities and loan assets total \\$10.7 trillion, or 0.44 years of GDP (see\\cbox{{blue!55!cyan}}). Cash and deposits, including money market accounts, total \\$18.1 trillion, or 0.75 years of GDP (see\\cbox{cyan!40!white}). All other financial assets total \\$24.8 trillion.\n"
     ]
    }
   ],
   "source": [
    "base = 'https://www.federalreserve.gov/datadownload/Output.aspx?'\n",
    "srs = 'rel=Z1&series=5f48b7338e558e73e11dc78be7354a87&lastobs=&'\n",
    "dt = 'from=03/01/1988&to=12/31/2021&'\n",
    "oth = 'filetype=csv&label=include&layout=seriescolumn'\n",
    "url = base + srs + dt + oth\n",
    "raw_data = pd.read_csv(url)\n",
    "\n",
    "d = {v: re.sub(\"\\s+[\\(\\[].*?[\\)\\]]\", \"\", i.split('; ')[1]) \n",
    "     for i, v in raw_data.iloc[4, 1:].iteritems()}\n",
    "\n",
    "date_column = raw_data.loc[5:, 'Series Description']\n",
    "date_index = pd.to_datetime(date_column).rename('Date')\n",
    "columns = raw_data.iloc[4, 1:].values\n",
    "    \n",
    "clean_data = raw_data.iloc[5:, 1:].replace('ND', np.nan).astype('float')\n",
    "clean_data.index = date_index\n",
    "clean_data.columns = columns\n",
    "\n",
    "sel_col = ['FA156012005.Q', 'FL152000005.Q', 'LM152010005.Q', 'LM155035015.Q', \n",
    "           'FL155035065.Q', 'LM155111005.Q', 'FL154090005.Q', 'FL154000025.Q',\n",
    "           'LM153064475.Q', 'LM152090205.Q']\n",
    "\n",
    "names = ['DPI', 'TOT', 'NFA', 'HRE', 'REQ', 'CDG', 'TFA', 'DEP', 'CEQ', 'NEQ']\n",
    "\n",
    "df = clean_data.loc[:,sel_col]\n",
    "df.columns = names\n",
    "\n",
    "df['NPA'] = clean_data.loc[:,['LM165013765.Q', 'LM165015205.Q', 'LM165035005.Q']].sum(axis=1)\n",
    "df['DSL'] = clean_data.loc[:,['LM154022375.Q', 'FL154023005.Q']].sum(axis=1)\n",
    "df['TEQ'] = df['NEQ'] + df['CEQ']\n",
    "df['OFA'] = df['TFA'] - df['DEP'] - df['DSL'] - df['TEQ']\n",
    "df['OTH'] = df['TOT'] - df['HRE'] - df['DEP'] - df['DSL'] - df['TEQ']\n",
    "\n",
    "pce = nipa_df(retrieve_table('T20304')['Data'], ['DPCERG']).loc[df.index,'DPCERG']\n",
    "pr = (pce / pce.iloc[-1])\n",
    "\n",
    "gdp = nipa_df(retrieve_table('T10105')['Data'], ['A191RC']).loc[df.index,'A191RC']\n",
    "\n",
    "dfgdp = df.div(gdp, axis=0).dropna() *100\n",
    "dfgdp.loc['1989':].to_csv(data_dir / 'hhassetsgdp.csv', index_label='date', float_format='%g')\n",
    "\n",
    "ldate = dtxt(df.index[-1])['qtr1']\n",
    "pdate = dtxt(df.index[-5])['qtr1']\n",
    "i = df.iloc[-1] / 1000000\n",
    "g = dfgdp.iloc[-1] / 100\n",
    "s = (df.div(df.TOT, axis=0) * 100).iloc[-1]\n",
    "\n",
    "text = ('Assets '+\n",
    "        f'of households and nonprofits were valued at \\${i.TOT:.1f} trillion in {ldate}, '+\n",
    "        f'equivalent to {g.TOT*100:.0f} percent--or {g.TOT:.3g} years--of GDP. '+\n",
    "        f'Of this, \\${i.NFA:.1f} trillion, or {s.NFA:.1f} percent of the total, '+\n",
    "        f'are tangible assets and \\${i.TFA:.1f} trillion, or {s.TFA:.1f} percent, '+\n",
    "        'are financial assets.')\n",
    "text2 = (\"Tangible, or non-financial, assets include peoples' homes as well \"+\n",
    "         'as consumer durable goods, such as cars, furniture, and appliances. '+\n",
    "         f'The market value of owner-occupied real estate is \\${i.HRE:.1f} trillion in {ldate}, '+\n",
    "         f'equivalent to {g.HRE:.3g} years of GDP (see\\cbox{{green!60!teal}}). Consumer durable goods have a '+\n",
    "         f'replacement value of \\${i.CDG:.1f} trillion, or {g.CDG:.2g} years of GDP. '+\n",
    "         'Tangible assets are reported for the combined household and nonprofit sector '+\n",
    "         'and include real estate and equipment belonging to nonprofits, '+\n",
    "         f'which totals \\${i.NPA:.1f} trillion in {ldate}. ')\n",
    "text3 = ('Financial assets include equity in businesses--corporate and non-coporate--with a market value of '+\n",
    "         f'\\${i.TEQ:.1f} trillion, or {g.TEQ:.2g} years of GDP (see\\cbox{{blue!65!black}}), in {ldate}. Debt '+\n",
    "         f'securities and loan assets total \\${i.DSL:.1f} trillion, or {g.DSL:.2g} '+\n",
    "         'years of GDP (see\\cbox{{blue!55!cyan}}). Cash and deposits, including money market accounts, '+\n",
    "         f'total \\${i.DEP:.1f} trillion, or {g.DEP:.2g} years of GDP (see\\cbox{{cyan!40!white}}). All '+\n",
    "         f'other financial assets total \\${i.OFA:.1f} trillion.')\n",
    "\n",
    "write_txt(text_dir / 'hhasset1.txt', text)\n",
    "write_txt(text_dir / 'hhasset2.txt', text2)\n",
    "write_txt(text_dir / 'hhasset3.txt', text3)\n",
    "print(text3)"
   ]
  },
  {
   "cell_type": "code",
   "execution_count": 19,
   "metadata": {
    "ExecuteTime": {
     "end_time": "2022-03-10T18:01:48.103464Z",
     "start_time": "2022-03-10T18:01:48.088959Z"
    }
   },
   "outputs": [
    {
     "name": "stdout",
     "output_type": "stream",
     "text": [
      "Household and nonprofit assets grew by 7.7 percent over the year ending 2021 Q4. Owner-occupied real estate contributed 2.1 percentage points to total growth, and business equity contributed 5.1 percentage points.\n"
     ]
    }
   ],
   "source": [
    "real_data = df.div(pr, axis=0)\n",
    "growth = growth_contrib_ann(real_data, 'TOT')\n",
    "\n",
    "(growth.dropna()[['HRE', 'DEP', 'DSL', 'TEQ', 'OTH']].loc['1989':]\n",
    " .to_csv(data_dir / 'hh_asset_growth.csv', index_label='date'))\n",
    "\n",
    "gr = growth.iloc[-1]\n",
    "grtot = [f'grew by {gr.TOT:.1f} percent' if gr.TOT >=0.1 \n",
    "         else f'decreased in value by {abs(gr.TOT):.1f} percent' if gr.TOT <= -0.1\n",
    "         else 'did not change substanatially in value'][0]\n",
    "\n",
    "grhre = [f'contributed {gr.HRE:.1f} percentage points to' if gr.HRE >=0.1\n",
    "         else f'subtracted {abs(gr.HRE):.1f} percentage points from' if gr.HRE <=-0.1\n",
    "         else 'did not contribute significantly to'][0]\n",
    "\n",
    "grteq = [f'contributed {gr.TEQ:.1f} percentage points' if gr.TEQ >=0.1\n",
    "         else f'subtracted {abs(gr.TEQ):.1f} percentage points' if gr.TEQ <=-0.1\n",
    "         else 'did not contribute significantly'][0]\n",
    "\n",
    "text = (f'Household and nonprofit assets {grtot} '+\n",
    "        f'over the year ending {ldate}. Owner-occupied real estate {grhre} '+\n",
    "        'total growth, and business equity '+\n",
    "        f'{grteq}.')\n",
    "write_txt(text_dir / 'hhasset4.txt', text)\n",
    "print(text)"
   ]
  },
  {
   "cell_type": "code",
   "execution_count": 20,
   "metadata": {
    "ExecuteTime": {
     "end_time": "2022-03-10T18:01:48.120532Z",
     "start_time": "2022-03-10T18:01:48.104341Z"
    }
   },
   "outputs": [],
   "source": [
    "nd = {'TOT': '& Total Assets', 'NFA': '& \\hspace{2mm} Non-financial assets', \n",
    "      'HRE': '\\cbox{green!60!teal} & \\hspace{4mm} Owner-occupied real estate', \n",
    "      'CDG': ' & \\hspace{4mm} Consumer durable goods',\n",
    "      'NPA': ' & \\hspace{4mm} Nonprofit assets',\n",
    "      'TFA': ' & \\hspace{2mm} Financial assets',\n",
    "      'DEP': '\\cbox{cyan!40!white} & \\hspace{4mm} Deposits, incl. money market',\n",
    "      'DSL': '\\cbox{blue!55!cyan} & \\hspace{4mm} Debt securities and loans',\n",
    "      'TEQ': '\\cbox{blue!65!black} & \\hspace{4mm} Business equity',\n",
    "      'CEQ': ' & \\hspace{6mm} Corporate equities',\n",
    "      'NEQ': ' & \\hspace{6mm} Noncorporate business equity'}\n",
    "\n",
    "table = pd.DataFrame()\n",
    "table[ldate] = pd.Series({idx: f'\\${val:.1f}' if idx == 'TOT' else f'{val:.1f}' \n",
    "                          for idx, val in i.iteritems()})\n",
    "table[ldate+' '] = dfgdp.iloc[-1]\n",
    "table[pdate+' '] = dfgdp.iloc[-5]\n",
    "table['One-year'] = real_data.pct_change(4).iloc[-1] * 100\n",
    "table['Three-year'] = ((real_data.pct_change(12) + 1)**(1/3) - 1).iloc[-1] * 100\n",
    "table['20-year'] = ((real_data.pct_change(80) + 1)**(1/20) - 1).iloc[-1] * 100\n",
    "\n",
    "table.index.name = '& '\n",
    "\n",
    "table.loc[nd.keys()].rename(nd).round(1).to_csv(data_dir / 'hhasset.tex', sep='&', \n",
    "                                                line_terminator='\\\\\\ ', quotechar=' ')"
   ]
  },
  {
   "cell_type": "code",
   "execution_count": null,
   "metadata": {},
   "outputs": [],
   "source": []
  },
  {
   "cell_type": "code",
   "execution_count": null,
   "metadata": {},
   "outputs": [],
   "source": []
  },
  {
   "cell_type": "markdown",
   "metadata": {},
   "source": [
    "### Net Worth"
   ]
  },
  {
   "cell_type": "code",
   "execution_count": 21,
   "metadata": {
    "ExecuteTime": {
     "end_time": "2022-03-10T18:01:53.436341Z",
     "start_time": "2022-03-10T18:01:48.121590Z"
    }
   },
   "outputs": [
    {
     "name": "stdout",
     "output_type": "stream",
     "text": [
      "In 2021 Q4, household and nonprofit institution net worth was \\$150.3 trillion, equivalent to 8.3 years of disposable personal income; the result of total assets of \\$168.6 trillion and total liabilities of \\$18.4 trillion. \n",
      "\n",
      "\n",
      "In 2021 Q4, inflation-adjusted net worth increased by 8.5 percent (see\\cbox{cyan!40!white}), and inflation-adjusted after-tax income decreased by 0.2 percent (see {\\color{blue!50!violet}\\textbf{---}}). Over the past three years, real net worth grew at an average rate of 7.8 percent, while real after-tax income grew at an average rate of 3.6 percent\n"
     ]
    }
   ],
   "source": [
    "base = 'https://www.federalreserve.gov/datadownload/Output.aspx?'\n",
    "srs = 'rel=Z1&series=5274f1fc3a4900aba158b78578142b2a&lastobs=&'\n",
    "dt = 'from=03/01/1988&to=12/31/2021&'\n",
    "oth = 'filetype=csv&label=include&layout=seriescolumn'\n",
    "url = base + srs + dt + oth\n",
    "\n",
    "d, clean_data = clean_fed_data(url)\n",
    "n = {'FL152090005.Q': 'NW',\n",
    "     'FL152000005.Q': 'ASSETS',\n",
    "     'FL154190005.Q': 'LIAB',\n",
    "     'FA156012005.Q': 'DPI'}\n",
    "\n",
    "df = clean_data.rename(n, axis=1) / 1_000_000\n",
    "datelt = dtxt(df.index[-1])['qtr1']\n",
    "i = df.iloc[-1]\n",
    "text = (f'In {datelt}, household and nonprofit institution net worth '+\n",
    "        f'was \\${i.NW:.1f} trillion, equivalent to {i.NW / i.DPI:.1f} '+\n",
    "        'years of disposable personal income; the result of total '+\n",
    "        f'assets of \\${i.ASSETS:.1f} trillion and total liabilities '+\n",
    "        f'of \\${i.LIAB:.1f} trillion.')\n",
    "write_txt(text_dir / 'nw1.txt', text)\n",
    "print(text, '\\n\\n')\n",
    "\n",
    "pce = (nipa_df(retrieve_table('T20304')['Data'], ['DPCERG'])\n",
    "       .loc[df.index, 'DPCERG'])\n",
    "res = (df.divide(pce / pce.iloc[-1], axis=0)\n",
    "         .pct_change(4) * 100).dropna()\n",
    "res.to_csv(data_dir / 'rdpi_nw.csv', index_label='date')\n",
    "\n",
    "nwtxt = value_text(res.NW.iloc[-1], style='increase_by')\n",
    "dpitxt = value_text(res.DPI.iloc[-1], style='increase_by')\n",
    "i = res.iloc[-13:].mean()\n",
    "dpi3txt = value_text(i.DPI, adj='average', casual=True)\n",
    "nw3txt = value_text(i.NW, adj='average', casual=True)\n",
    "text = (f'In {datelt}, inflation-adjusted net worth {nwtxt}'+\n",
    "        ' (see\\cbox{cyan!40!white}), and '+\n",
    "        f'inflation-adjusted after-tax income {dpitxt} '+\n",
    "        '(see {\\color{blue!50!violet}\\\\textbf{---}}). Over '+\n",
    "        f'the past three years, real net worth {nw3txt}, '+\n",
    "        f'while real after-tax income {dpi3txt}')\n",
    "write_txt(text_dir / 'nw2.txt', text)\n",
    "print(text)"
   ]
  },
  {
   "cell_type": "code",
   "execution_count": null,
   "metadata": {},
   "outputs": [],
   "source": []
  },
  {
   "cell_type": "code",
   "execution_count": null,
   "metadata": {},
   "outputs": [],
   "source": []
  },
  {
   "cell_type": "markdown",
   "metadata": {},
   "source": [
    "### Net worth contributions"
   ]
  },
  {
   "cell_type": "code",
   "execution_count": 22,
   "metadata": {
    "ExecuteTime": {
     "end_time": "2022-03-10T18:01:58.752458Z",
     "start_time": "2022-03-10T18:01:53.437439Z"
    }
   },
   "outputs": [
    {
     "name": "stdout",
     "output_type": "stream",
     "text": [
      "In the the fourth quarter of 2021, holding gains contributed 12.7 percentage points to the 14.4 percent change in net worth. Income invested at the 1989-onward average rate of 10.2 percent would have contributed 1.4 percentage points; an additional 0.3 percentage points were added as household net investment was 12.6 percent of disposable person income in 2021 Q4. Other volume changes did not contribute.\n",
      "\n",
      "Over the past three years, net worth grew at an average rate of 10.2 percent. Holding gains contributed 7.8 percentage points to this total, on average; net investment of income contributed 2.2 percentage points; and other volume changes contributed 0.2 percentage point.\n"
     ]
    }
   ],
   "source": [
    "base = 'https://www.federalreserve.gov/datadownload/Output.aspx?'\n",
    "srs = 'rel=Z1&series=73021951e1b749df8a5de36975a7926d&lastobs=&'\n",
    "dt = 'from=03/01/1988&to=12/31/2021&'\n",
    "oth = 'filetype=csv&label=include&layout=seriescolumn'\n",
    "url = base + srs + dt + oth\n",
    "\n",
    "d, clean_data = clean_fed_data(url)\n",
    "\n",
    "df = clean_data.loc[:, ['FC152090005.Q', 'FU155060005.Q', 'FV158090005.Q', \n",
    "                 'FU156012005.Q', 'FR158000005.Q']]\n",
    "df.columns = ['NW', 'NI', 'OVC', 'DPI', 'RV']\n",
    "\n",
    "df = df.rolling(4).sum().dropna()\n",
    "rate = (df['NI'] / df['DPI']).mean()\n",
    "rate2 = (df['NI'] / df['DPI']).iloc[-1]\n",
    "\n",
    "df['INC'] = df['DPI'] * rate\n",
    "df['INV'] = df['NI'] - df['INC']\n",
    "df['NWL'] = clean_data['FL152090005.Q']\n",
    "\n",
    "growth = (df[['OVC', 'INC', 'INV', 'RV']]\n",
    "          .div(df['NWL'].shift(4), axis=0).dropna() * 100)\n",
    "\n",
    "growth.to_csv(data_dir / 'nw_gr.csv', index_label='date')\n",
    "\n",
    "# Text for chart\n",
    "ldate = dtxt(growth.index[-1])['qtr1']\n",
    "ltdate = dtxt(growth.index[-1])['qtr2']\n",
    "\n",
    "hgtxt = value_text(growth['RV'].iloc[-1], style='contribution_to', \n",
    "           ptype='pp', threshold=0.1)\n",
    "inctxt = value_text(growth['INC'].iloc[-1], style='contribution', \n",
    "           ptype='pp', threshold=0.1)\n",
    "inv = growth['INV'].iloc[-1]\n",
    "invtxt = [f'; an additional {inv:.1f} percentage points were added' if inv >= 0.1 \n",
    "         else f', but {abs(inv):.1f} percentage points were subtracted' if inv <= -0.1 \n",
    "         else ', and cyclical activity in investment did not seem to play a role'][0]\n",
    "othtxt = value_text(growth['OVC'].iloc[-1], style='contribution', \n",
    "           ptype='pp', threshold=0.1)\n",
    "hg3txt = value_text(growth['RV'].iloc[-13:].mean(), style='contribution', \n",
    "           ptype='pp', threshold=0.1)\n",
    "oth3txt = value_text(growth['OVC'].iloc[-13:].mean(), style='contribution', \n",
    "           ptype='pp', threshold=0.1)\n",
    "ni3 = growth['INC'].iloc[-13:].mean() + growth['INV'].iloc[-13:].mean()\n",
    "ni3txt = value_text(ni3, style='contribution', \n",
    "           ptype='pp', threshold=0.1)\n",
    "\n",
    "text = (f'In the {ltdate}, holding gains {hgtxt} the {growth.iloc[-1].sum():.1f} '+\n",
    "        'percent change in net worth. Income invested at the 1989-onward average '+\n",
    "        f'rate of {rate*100:.1f} percent would have {inctxt}{invtxt} as household '+\n",
    "        f'net investment was {rate2*100:.1f} percent of disposable person income '+\n",
    "        f'in {ldate}. Other volume changes {othtxt}.\\n\\nOver the past three years, '+\n",
    "        f'net worth grew at an average rate of {growth.iloc[-13:].mean().sum():.1f} '+\n",
    "        f'percent. Holding gains {hg3txt} to this total, on average; net investment '+\n",
    "        f'of income {ni3txt}; and other volume changes {oth3txt}.')\n",
    "write_txt(text_dir / 'nwcontrib.txt', text)\n",
    "print(text)"
   ]
  },
  {
   "cell_type": "code",
   "execution_count": null,
   "metadata": {},
   "outputs": [],
   "source": []
  },
  {
   "cell_type": "code",
   "execution_count": null,
   "metadata": {},
   "outputs": [],
   "source": []
  },
  {
   "cell_type": "markdown",
   "metadata": {},
   "source": [
    "### Equity Payout"
   ]
  },
  {
   "cell_type": "code",
   "execution_count": 23,
   "metadata": {
    "ExecuteTime": {
     "end_time": "2022-03-10T18:02:04.023460Z",
     "start_time": "2022-03-10T18:01:58.754831Z"
    }
   },
   "outputs": [],
   "source": [
    "base = 'https://www.federalreserve.gov/datadownload/Output.aspx?'\n",
    "srs = 'rel=Z1&series=5dbfee986a7636f1bc997a80c313cabc&lastobs=&'\n",
    "dt = 'from=01/01/1988&to=12/31/2021&'\n",
    "oth = 'filetype=csv&label=include&layout=seriescolumn'\n",
    "url = base + srs + dt + oth\n",
    "\n",
    "d, clean_data = clean_fed_data(url)\n",
    "\n",
    "srs = {'FA103164103.Q': 'Buybacks',\n",
    "       'FA106121075.Q': 'Dividends'}\n",
    "\n",
    "data = clean_data.rename(srs, axis=1)\n",
    "data['Buybacks'] = -data['Buybacks']\n",
    "gdp = nipa_df(retrieve_table('T10105')['Data'], ['A191RC'])['A191RC']\n",
    "\n",
    "results = data.divide(gdp, axis=0).loc['1989':].dropna() * 100\n",
    "\n",
    "results.to_csv(data_dir / 'eq_payout.csv', index_label='date')"
   ]
  },
  {
   "cell_type": "code",
   "execution_count": null,
   "metadata": {},
   "outputs": [],
   "source": []
  },
  {
   "cell_type": "code",
   "execution_count": null,
   "metadata": {},
   "outputs": [],
   "source": []
  },
  {
   "cell_type": "markdown",
   "metadata": {},
   "source": [
    "### Government Share of US Net Worth"
   ]
  },
  {
   "cell_type": "code",
   "execution_count": 24,
   "metadata": {
    "ExecuteTime": {
     "end_time": "2022-03-10T18:02:09.338561Z",
     "start_time": "2022-03-10T18:02:04.024702Z"
    }
   },
   "outputs": [],
   "source": [
    "base = 'https://www.federalreserve.gov/datadownload/Output.aspx?'\n",
    "srs = 'rel=Z1&series=94066b162cbbe774fa6cb1ae8cf757e6&lastobs=&'\n",
    "dt = 'from=01/01/1988&to=12/31/2022&'\n",
    "oth = 'filetype=csv&label=include&layout=seriescolumn'\n",
    "url = base + srs + dt + oth\n",
    "\n",
    "d, clean_data = clean_fed_data(url)\n",
    "\n",
    "s = {'FL212090095.Q': 'SLG NW',\n",
    "     'FL312090095.Q': 'FG NW',\n",
    "     'FL892090005.Q': 'Total NW'}\n",
    "\n",
    "data = clean_data.rename(s, axis=1)\n",
    "\n",
    "data['Gov NW'] = data['SLG NW'] + data['FG NW']\n",
    "result = ((data.div(data['Total NW'], axis=0) * 100)\n",
    "               .drop('Total NW', axis=1).loc['1989':])\n",
    "result.to_csv(data_dir / 'govshnw.csv', index_label='date', float_format='%g')"
   ]
  },
  {
   "cell_type": "code",
   "execution_count": 25,
   "metadata": {
    "ExecuteTime": {
     "end_time": "2022-03-10T18:02:09.346923Z",
     "start_time": "2022-03-10T18:02:09.339748Z"
    }
   },
   "outputs": [
    {
     "name": "stdout",
     "output_type": "stream",
     "text": [
      "The combined US government sector has a net worth of \\$-20.4 trillion, as of 2021 Q4, equivalent to -7.4 percent of national wealth (see {\\color{green!80!blue}\\textbf{---}}). Federal government net worth (not including land) is equal to -14.9 percent of national wealth (see {\\color{orange!80!white}\\textbf{---}}) while state and local government net worth is equilavent to 7.5 percent (see {\\color{blue!90!black}\\textbf{---}}).\n"
     ]
    }
   ],
   "source": [
    "node = end_node(result['Gov NW'], 'green!80!blue', percent=True)\n",
    "write_txt(text_dir / 'govshnw_node.txt', node)\n",
    "node = end_node(result['SLG NW'], 'blue!90!black', percent=True)\n",
    "write_txt(text_dir / 'slgshnw_node.txt', node)\n",
    "node = end_node(result['FG NW'], 'orange!80!white', percent=True)\n",
    "write_txt(text_dir / 'fgshnw_node.txt', node)\n",
    "\n",
    "totval = data['FG NW'].iloc[-1] / 1_000_000\n",
    "totv = f'\\${totval:.1f} trillion'\n",
    "ltdt = dtxt(data.index[-1])['qtr1']\n",
    "gsh = f\"{result['Gov NW'].iloc[-1]:.1f} percent\"\n",
    "fgsh = f\"{result['FG NW'].iloc[-1]:.1f} percent\"\n",
    "slgsh = f\"{result['SLG NW'].iloc[-1]:.1f} percent\"\n",
    "\n",
    "text = ('The combined US government sector has a net worth of '+\n",
    "        f'{totv}, as of {ltdt}, equivalent to {gsh} '+\n",
    "        'of national wealth (see {\\color{green!80!blue}\\\\textbf{---}}). '+\n",
    "        'Federal government net worth (not including land) is equal '+\n",
    "        f'to {fgsh} of national wealth (see '+\n",
    "        '{\\color{orange!80!white}\\\\textbf{---}}) while state and local '+\n",
    "        'government net worth is equilavent to '+\n",
    "        f'{slgsh} '+\n",
    "        '(see {\\color{blue!90!black}\\\\textbf{---}}).')\n",
    "write_txt(text_dir / 'govshnw.txt', text)\n",
    "print(text)"
   ]
  },
  {
   "cell_type": "code",
   "execution_count": null,
   "metadata": {},
   "outputs": [],
   "source": []
  },
  {
   "cell_type": "code",
   "execution_count": null,
   "metadata": {},
   "outputs": [],
   "source": []
  },
  {
   "cell_type": "markdown",
   "metadata": {},
   "source": [
    "### Government Assets"
   ]
  },
  {
   "cell_type": "code",
   "execution_count": 26,
   "metadata": {
    "ExecuteTime": {
     "end_time": "2022-03-23T14:32:59.284037Z",
     "start_time": "2022-03-23T14:32:59.073579Z"
    }
   },
   "outputs": [
    {
     "name": "stdout",
     "output_type": "stream",
     "text": [
      "In the fourth quarter of 2021, the market value of government assets, excluding land, is \\$25.9 trillion, equivalent to 107.9 percent of GDP. Of this, state and local government nonfinancial assets, such as buildings and equipment, are equivalent to 57.6 percent of GDP (see {\\color{cyan!36!white}\\textbf{---}}), and state and local government financial assets, such as insurance trust funds, are equivalent to 18.4 percent of GDP (see {\\color{blue!75!cyan}\\textbf{---}}).\n",
      "\n",
      "The market value of federal government nonfinancial assets is equivalent to 16.8 percent of GDP in 2021 Q4 (see {\\color{violet!60!white}\\textbf{---}}). Federal government financial assets are valued at 15.1 percent of GDP (see {\\color{blue!28!violet!90!black}\\textbf{---}}).\n"
     ]
    }
   ],
   "source": [
    "url = ('https://www.federalreserve.gov/datadownload/Output.aspx?'+\n",
    "       'rel=Z1&series=69790f5ee559de8e4c534f51c91cc3bb&lastobs=&'+\n",
    "       'from=01/01/1988&to=12/31/2022&'+\n",
    "       'filetype=csv&label=include&layout=seriescolumn')\n",
    "d, data = clean_fed_data(url)\n",
    "s = {'FL212010095.Q': 'SLG NFA',\n",
    "     'FL214090005.Q': 'SLG FA',\n",
    "     'FL312010095.Q': 'FG NFA',\n",
    "     'FL314090005.Q': 'FG FA'}\n",
    "df = data.rename(s, axis=1)\n",
    "\n",
    "# Share of GDP\n",
    "gdp = nipa_df(retrieve_table('T10105')['Data'], ['A191RC'])\n",
    "sh = (df.divide(gdp['A191RC'], axis=0) * 100).loc['1989':]\n",
    "sh.to_csv(data_dir / 'govassets.csv', index_label='date', \n",
    "          float_format='%g')\n",
    "\n",
    "ltdt = dtxt(sh.index[-1])\n",
    "totval = df.iloc[-1].sum() / 1_000_000\n",
    "sh['Tot'] = sh.sum(axis=1)\n",
    "lt = sh.iloc[-1].apply(lambda x: f'{x:.1f} percent of GDP')\n",
    "text = (f'In {ltdt[\"qtr2\"]}, the market value of government assets, '+\n",
    "        f'excluding land, is \\${totval:.1f} trillion, equivalent '+\n",
    "        f'to {lt[\"Tot\"]}. Of this, state and local government '+\n",
    "        f'nonfinancial assets, such as buildings and equipment, '+\n",
    "        f'are equivalent to {lt[\"SLG NFA\"]} {cl[\"SLG NFA\"]}, and '+\n",
    "        'state and local government financial assets, such as '+\n",
    "        f'insurance trust funds, are equivalent to {lt[\"SLG FA\"]} '+\n",
    "        f'{cl[\"SLG FA\"]}.\\n\\nThe market value of federal '+\n",
    "        'government nonfinancial assets is equivalent to '+\n",
    "        f'{lt[\"FG NFA\"]} in {ltdt[\"qtr1\"]} {cl[\"FG NFA\"]}. '+\n",
    "        'Federal government financial assets are valued at '+\n",
    "        f'{lt[\"FG FA\"]} {cl[\"FG FA\"]}.')\n",
    "write_txt(text_dir / 'govassets.txt', text)\n",
    "print(text)"
   ]
  },
  {
   "cell_type": "code",
   "execution_count": null,
   "metadata": {},
   "outputs": [],
   "source": []
  },
  {
   "cell_type": "code",
   "execution_count": null,
   "metadata": {},
   "outputs": [],
   "source": []
  },
  {
   "cell_type": "markdown",
   "metadata": {},
   "source": [
    "### Net Fixed Investment"
   ]
  },
  {
   "cell_type": "code",
   "execution_count": 27,
   "metadata": {
    "ExecuteTime": {
     "end_time": "2022-03-10T18:02:19.950533Z",
     "start_time": "2022-03-10T18:02:14.647366Z"
    }
   },
   "outputs": [],
   "source": [
    "url = ('https://www.federalreserve.gov/datadownload/Output.aspx?'+\n",
    "       'rel=Z1&series=fe4e292249867fb6016a0c9bd55e400d&'+\n",
    "       'lastobs=&from=03/01/1988&to=12/31/2022&filetype=csv&'+\n",
    "       'label=include&layout=seriescolumn')\n",
    "d, clean_data = clean_fed_data(url)\n",
    "clean_data.to_csv(data_dir / 'z1_nfi_raw.csv', index_label='date')"
   ]
  },
  {
   "cell_type": "code",
   "execution_count": 28,
   "metadata": {
    "ExecuteTime": {
     "end_time": "2022-03-10T18:02:19.984112Z",
     "start_time": "2022-03-10T18:02:19.951528Z"
    }
   },
   "outputs": [],
   "source": [
    "df = pd.read_csv(data_dir / 'z1_nfi_raw.csv', index_col='date',\n",
    "                parse_dates=True)\n",
    "gdp = nipa_df(retrieve_table('T10105')['Data'], \n",
    "              ['A191RC'])['A191RC']\n",
    "\n",
    "d2 = {'FA115015005.Q': 'NCB',\n",
    "      'FA155015005.Q': 'HH',\n",
    "      'FA215015005.Q': 'SLG',\n",
    "      'FA315015005.Q': 'FEDG',\n",
    "      'FA885015005.Q': 'TOT',\n",
    "      'FA885019005.Q': 'TOTG',\n",
    "      'FA886300095.Q': 'CFC',\n",
    "      'FA155111005.Q': 'DG',\n",
    "      'FA105015085.Q': 'CB'}\n",
    "res = df[d2.keys()].rename(d2, axis=1)\n",
    "res['GOV'] = df[['FA215015005.Q', 'FA315015005.Q']].sum(axis=1)\n",
    "res['BUS'] = res['TOT'] - res[['GOV', 'HH']].sum(axis=1)\n",
    "final = (res.divide(gdp, axis=0).dropna() * 100).loc['1989':]\n",
    "final.to_csv(data_dir / 'z1_nfi.csv', \n",
    "             index_label='date', float_format='%g')"
   ]
  },
  {
   "cell_type": "code",
   "execution_count": 29,
   "metadata": {
    "ExecuteTime": {
     "end_time": "2022-03-10T18:02:19.988289Z",
     "start_time": "2022-03-10T18:02:19.985129Z"
    }
   },
   "outputs": [],
   "source": [
    "dgcol = 'blue!80!green!95!white'\n",
    "totcol = 'purple'\n",
    "nodes = (end_node(final.TOT, totcol, date='q', \n",
    "                  percent=True, offset=0.35) + \n",
    "         '\\n' + end_node(final.DG, dgcol, percent=True))\n",
    "write_txt(text_dir / 'z1_nfi_nodes.txt', nodes)"
   ]
  },
  {
   "cell_type": "code",
   "execution_count": 30,
   "metadata": {
    "ExecuteTime": {
     "end_time": "2022-03-10T18:02:19.998654Z",
     "start_time": "2022-03-10T18:02:19.989516Z"
    }
   },
   "outputs": [
    {
     "name": "stdout",
     "output_type": "stream",
     "text": [
      "In 2021 Q4, gross fixed investment was \\$5.1 trillion, depreciation was \\$4.0 trillion, and net fixed investment was \\$1.1 trillion, equivalent to 4.5 percent of GDP (see {\\color{purple}\\textbf{---}}). In 2019, net fixed investment was 4.9 percent of GDP.\n",
      "\n",
      "Some economic measures also count consumer durable goods, such as autos, furniture, and appliances, as investments. Net investment in consumer durables was \\$527 billion in 2021 Q4, or 2.2 percent of GDP (see {\\color{blue!80!green!95!white}\\textbf{---}}). Consumer durable goods net fixed investment was 1.2 percent of GDP in 2019. \n",
      "\n",
      "Levels of net fixed investment vary by sector and over time. In 2021 Q4, household sector net fixed investment, excluding consumer durables, was equivalent to 1.7 percent of GDP, compared to 1.3 percent in 2019 (see\\cbox{cyan!40!white!95!white}). From 2003 to 2006, during the housing bubble, household net fixed investment averaged 3.5 percent of GDP. Business sector net fixed investment is equivalent to 2.2 percent of GDP in 2021 Q4, and 2.9 percent in 2019 (see\\cbox{magenta!90!white}). Government net fixed investment is equivalent to 0.6 percent of GDP in 2021 Q4 and 0.7 percent in 2019 (see\\cbox{violet!85!black}).\n"
     ]
    }
   ],
   "source": [
    "ltr = res.iloc[-1] / 1_000_000\n",
    "lts = final.iloc[-1]\n",
    "s19 = final.loc['2019'].mean()\n",
    "ltdt = dtxt(final.index[-1])['qtr1']\n",
    "text = (f'In {ltdt}, gross fixed investment was \\${ltr.TOTG:.1f} '+\n",
    "        f'trillion, depreciation was \\${ltr.CFC:.1f} trillion, and '+\n",
    "        f'net fixed investment was \\${ltr.TOT:.1f} trillion, '+\n",
    "        f'equivalent to {lts.TOT:.1f} percent of GDP {c_line(totcol)}. '+\n",
    "        f'In 2019, net fixed investment was {s19.TOT:.1f} percent of '+\n",
    "        'GDP.\\n\\nSome economic measures also count consumer '+\n",
    "        'durable goods, such as autos, furniture, and '+\n",
    "        'appliances, as investments. Net investment in consumer '+\n",
    "        f'durables was \\${ltr.DG *1000:,.0f} billion in {ltdt}, or '+\n",
    "        f'{lts.DG:.1f} percent of GDP {c_line(dgcol)}. Consumer '+\n",
    "        f'durable goods net fixed investment was {s19.DG:.1f} percent '+\n",
    "        'of GDP in 2019.')\n",
    "write_txt(text_dir / 'z1_nfi_main.txt', text)\n",
    "print(text, '\\n')\n",
    "hh03 = final.loc['2003': '2006', 'HH'].mean()\n",
    "hhcol = 'cyan!40!white!95!white'\n",
    "buscol = 'magenta!90!white'\n",
    "govcol = 'violet!85!black'\n",
    "text = ('Levels of net fixed investment vary by sector and over time. '+\n",
    "        f'In {ltdt}, household sector net fixed investment, excluding '+\n",
    "        f'consumer durables, was equivalent to {lts.HH:.1f} percent '+\n",
    "        f'of GDP, compared to {s19.HH:.1f} percent in 2019 '+\n",
    "        f'{c_box(hhcol)}. From 2003 to 2006, during the housing bubble, '+\n",
    "        f'household net fixed investment averaged {hh03:.1f} percent '+\n",
    "        'of GDP. Business sector net fixed investment is equivalent to '+\n",
    "        f'{lts.BUS:.1f} percent of GDP in {ltdt}, and {s19.BUS:.1f} '+\n",
    "        f'percent in 2019 {c_box(buscol)}. Government net fixed '+\n",
    "        f'investment is equivalent to {lts.GOV:.1f} percent of GDP in '+\n",
    "        f'{ltdt} and {s19.GOV:.1f} percent in 2019 '+\n",
    "        f'{c_box(govcol)}.')\n",
    "write_txt(text_dir / 'z1_nfi_sect.txt', text)\n",
    "print(text)"
   ]
  },
  {
   "cell_type": "code",
   "execution_count": 31,
   "metadata": {
    "ExecuteTime": {
     "end_time": "2022-03-10T18:02:20.017152Z",
     "start_time": "2022-03-10T18:02:19.999701Z"
    }
   },
   "outputs": [],
   "source": [
    "d2 = {'TOT': '\\hspace{0.1mm} {\\color{purple}\\\\textbf{---}} Net Fixed Investment',\n",
    "      'BUS': '\\hspace{0.5mm}\\cbox{magenta!90!white}Business',\n",
    "      'NCB': '\\hspace{6mm} Nonfin. Noncorp. Business',\n",
    "      'CB': '\\hspace{6mm} Nonfin. Corporations',      \n",
    "      'GOV': '\\hspace{0.5mm}\\cbox{violet!85!black}Government',\n",
    "      'SLG': '\\hspace{6mm} State \\& Local Gov.',\n",
    "      'FEDG': '\\hspace{6mm} Federal Gov.',\n",
    "      'HH': '\\hspace{0.5mm}\\cbox{cyan!40!white!95!white}Household \\& Nonprofit',\n",
    "      'DG': '\\hspace{0.1mm} {\\color{blue!80!green!95!white}\\\\textbf{---}} /\\cbox{blue!80!green!95!white}Consumer Durables'}\n",
    "\n",
    "fin = final[list(d2.keys())].rename(d2, axis=1)\n",
    "tbl = fin.iloc[-3:].iloc[::-1].T\n",
    "tbl[fin.index[-5]] = fin.iloc[-5]\n",
    "cols = [f' {q.year} Q{q.quarter}' \n",
    "        if i == 0 else f'`{str(q.year)[2:]} Q{q.quarter}'\n",
    "        for i, q in enumerate(tbl.columns)]\n",
    "\n",
    "tbl.columns = cols\n",
    "tbl['2019'] = fin.loc['2019'].mean()\n",
    "tbl['2003 --`06'] = fin.loc['2003':'2006'].mean()\n",
    "tbl['1999 --`01'] = fin.loc['1999':'2001'].mean()\n",
    "tbl = tbl.applymap('{:.2f}'.format)\n",
    "tbl.to_csv(data_dir / 'z1_nfi.tex', sep='&', line_terminator='\\\\\\ ', \n",
    "            quotechar=' ')"
   ]
  },
  {
   "cell_type": "code",
   "execution_count": null,
   "metadata": {},
   "outputs": [],
   "source": []
  },
  {
   "cell_type": "code",
   "execution_count": null,
   "metadata": {},
   "outputs": [],
   "source": []
  },
  {
   "cell_type": "markdown",
   "metadata": {},
   "source": [
    "### Distributive Financial Accounts (DFA)\n",
    "\n",
    "https://www.federalreserve.gov/releases/z1/dataviz/download/dfa-networth-shares.csv"
   ]
  },
  {
   "cell_type": "code",
   "execution_count": 2,
   "metadata": {
    "ExecuteTime": {
     "end_time": "2022-03-22T00:48:03.397028Z",
     "start_time": "2022-03-22T00:48:03.173032Z"
    }
   },
   "outputs": [],
   "source": [
    "url = ('https://www.federalreserve.gov/releases/z1/'+\n",
    "       'dataviz/download/dfa-networth-shares.csv')\n",
    "df = pd.read_csv(url, index_col=['Date', 'Category'])['Net worth'].unstack()\n",
    "df.index = pd.to_datetime(df.index.str.replace(':', '-'))\n",
    "df.to_csv(data_dir / 'dfa_nw_sh.csv', index_label='date', float_format='%g')"
   ]
  },
  {
   "cell_type": "code",
   "execution_count": 3,
   "metadata": {
    "ExecuteTime": {
     "end_time": "2022-03-22T00:48:06.918525Z",
     "start_time": "2022-03-22T00:48:06.905691Z"
    }
   },
   "outputs": [
    {
     "name": "stdout",
     "output_type": "stream",
     "text": [
      "The Federal Reserve \\href{https://www.federalreserve.gov/releases/z1/dataviz/dfa/distribute/chart/}{report} net worth by percentile. The top one percent of households by wealth own 32.3 percent percent of US wealth, as of 2021 Q4 (see {\\color{red!50!orange}\\textbf{---}}), while the top 10 percent of households own 69.8 percent percent. The bottom half of households own 2.6 percent percent of US wealth (see {\\color{blue!80!cyan}\\textbf{---}}).\n",
      "\n",
      "Since 1989, the wealth share of the top one percent increased 8.7 percentage points, while the share held by the bottom 50 percent decreased one percentage point. The wealth share of the 40 percent of households in wealth percentiles 50 through 90 decreased 7.9 percentage points since 1989.\n"
     ]
    }
   ],
   "source": [
    "df = pd.read_csv(data_dir / 'dfa_nw_sh.csv', index_col='date', \n",
    "                 parse_dates=True)\n",
    "df['Top10'] = df[['Top1', 'Next9']].sum(axis=1)\n",
    "cols = [('Bottom50', 'blue!80!cyan'), ('Next40', 'cyan!80!white'), \n",
    "        ('Next9', 'orange!50!yellow'), ('Top1', 'red!50!orange')]\n",
    "\n",
    "nodes = '\\n'.join([end_node(df[name], col, percent=True) \n",
    "                 for name, col in cols])\n",
    "write_txt(text_dir / 'dfa_nw_sh_nodes.txt', nodes)\n",
    "\n",
    "lt = df.iloc[-1].apply(lambda x: f'{x:.1f} percent')\n",
    "ltdt = dtxt(lt.name)['qtr1']\n",
    "cl = {name: c_line(col) for name, col in cols}\n",
    "ch = ((df.iloc[-1] - df.loc['1989'].mean())\n",
    "      .apply(lambda x: value_text(x, ptype='pp')))\n",
    "\n",
    "url = ('https://www.federalreserve.gov/releases/'+\n",
    "       'z1/dataviz/dfa/distribute/chart/')\n",
    "text = (f'The Federal Reserve \\href{{{url}}}{{report}} net '+\n",
    "        'worth by percentile. The top one percent of households '+\n",
    "        f'by wealth own {lt.Top1} '+\n",
    "        f'percent of US wealth, as of {ltdt} {cl[\"Top1\"]}, while '+\n",
    "        f'the top 10 percent of households own {lt.Top10} percent. '+\n",
    "        f'The bottom half of households own {lt.Bottom50} percent of '+\n",
    "        f'US wealth {cl[\"Bottom50\"]}.\\n\\nSince 1989, the wealth '+\n",
    "        f'share of the top one percent {ch.Top1}, while the share '+\n",
    "        f'held by the bottom 50 percent {ch.Bottom50}. The wealth '+\n",
    "        'share of the 40 percent of households in wealth percentiles '+\n",
    "        f'50 through 90 {ch.Next40} since 1989.')\n",
    "write_txt(text_dir / 'dfa_nw_sh.txt', text)\n",
    "print(text)"
   ]
  },
  {
   "cell_type": "code",
   "execution_count": null,
   "metadata": {},
   "outputs": [],
   "source": []
  },
  {
   "cell_type": "code",
   "execution_count": null,
   "metadata": {},
   "outputs": [],
   "source": []
  },
  {
   "cell_type": "markdown",
   "metadata": {},
   "source": [
    "# Survey of Consumer Finances"
   ]
  },
  {
   "cell_type": "code",
   "execution_count": 34,
   "metadata": {
    "ExecuteTime": {
     "end_time": "2022-03-10T18:02:20.472708Z",
     "start_time": "2022-03-10T18:02:20.288974Z"
    }
   },
   "outputs": [
    {
     "data": {
      "image/png": "[encoded data removed]",
      "text/plain": [
       "<Figure size 432x288 with 1 Axes>"
      ]
     },
     "metadata": {
      "needs_background": "light"
     },
     "output_type": "display_data"
    }
   ],
   "source": [
    "df = (pd.read_csv('../data/scf_wealth_median.csv')\n",
    "        .set_index(['year', 'Category'])['Before_Tax_Income']\n",
    "        .unstack())\n",
    "df.index = pd.to_datetime([f'{year}-07-01' for year in df.index])\n",
    "df.to_csv(data_dir / 'scfwealthmedian.csv', index_label='date', float_format='%g')\n",
    "node = end_node(df['Less than 25'], 'violet')\n",
    "write_txt(text_dir / 'scfwealthmedian_node1.txt', node)\n",
    "node = end_node(df['25-49.9'], 'red!20!orange!95!black')\n",
    "write_txt(text_dir / 'scfwealthmedian_node2.txt', node)\n",
    "node = end_node(df['50-74.9'], 'green!80!blue!85!black')\n",
    "write_txt(text_dir / 'scfwealthmedian_node3.txt', node)\n",
    "node = end_node(df['75-89.9'], 'red!80!black')\n",
    "write_txt(text_dir / 'scfwealthmedian_node4.txt', node)\n",
    "node = end_node(df['90-100'], 'blue!80!cyan!80!black', \n",
    "          date='y', full_year=True)\n",
    "write_txt(text_dir / 'scfwealthmedian_node5.txt', node)\n",
    "df.plot();"
   ]
  },
  {
   "cell_type": "code",
   "execution_count": 35,
   "metadata": {
    "ExecuteTime": {
     "end_time": "2022-03-10T18:02:20.480696Z",
     "start_time": "2022-03-10T18:02:20.474036Z"
    }
   },
   "outputs": [
    {
     "name": "stdout",
     "output_type": "stream",
     "text": [
      "have a median annual income of \\$236,203 in 2019 and \\$155,693 in 1989, after adjusting for inflation. Median income for the group increased \\$80,510, or 51.7 percent, over the 30-year period. \n",
      "\n",
      " In contrast, families in the third quartile of wealth (50th to 74.9th percentiles, mean wealth of \\$700,000 in 2019, see {\\color{green!80!blue!85!black}\\textbf{---}}) have a median income of \\$70,250 in 2019 and \\$62,277 in 1989, an increase of \\$7,973 (12.8 percent). \n",
      "\n",
      "Median income for families in the second quartile (25th to 49.9th percentiles, mean wealth of \\$236,000 in 2019, see {\\color{red!20!orange!95!black}\\textbf{---}}) increased \\$3,239 (7.4 percent) to \\$46,833 in 2019, from \\$43,594 in 1989. \n",
      "\n",
      " For the bottom quarter of families by wealth (see {\\color{violet}\\textbf{---}}), median income increased \\$8,766 or 42.2 percent to \\$29,525, over the 30 years ending 2019. The bottom quarter of families have a negative mean wealth in 2019 and a median wealth of virtually zero. \n"
     ]
    }
   ],
   "source": [
    "yr = dtxt(df.index[-1])['year']\n",
    "pryr = dtxt(df.index[0])['year']\n",
    "\n",
    "g1val = df['90-100'].iloc[-1] * 1000\n",
    "g1valpr = df['90-100'].iloc[0] * 1000\n",
    "g1ch = g1val - g1valpr\n",
    "g1pc = ((g1val / g1valpr) - 1) * 100\n",
    "\n",
    "g2val = df['50-74.9'].iloc[-1] * 1000\n",
    "g2valpr = df['50-74.9'].iloc[0] * 1000\n",
    "g2ch = g2val - g2valpr\n",
    "g2pc = ((g2val / g2valpr) - 1) * 100\n",
    "\n",
    "g3val = df['25-49.9'].iloc[-1] * 1000\n",
    "g3valpr = df['25-49.9'].iloc[0] * 1000\n",
    "g3ch = g3val - g3valpr\n",
    "g3pc = ((g3val / g3valpr) - 1) * 100\n",
    "\n",
    "g4val = df['Less than 25'].iloc[-1] * 1000\n",
    "g4valpr = df['Less than 25'].iloc[0] * 1000\n",
    "g4ch = g4val - g4valpr\n",
    "g4pc = ((g4val / g4valpr) - 1) * 100\n",
    "\n",
    "text1 = (f'have a median annual income of \\${g1val:,.0f} in {yr} and '+\n",
    "         f'\\${g1valpr:,.0f} in {pryr}, after adjusting for inflation. '+\n",
    "         f'Median income for the group increased \\${g1ch:,.0f}, or '+\n",
    "         f'{g1pc:.1f} percent, over the 30-year period. ')\n",
    "\n",
    "write_txt(text_dir / 'income_wealthg1.txt', text1)\n",
    "print(text1)\n",
    "\n",
    "text2 = ('In contrast, families in the third quartile of wealth (50th to 74.9th '+\n",
    "         f'percentiles, mean wealth of \\$700,000 in {yr}, see '+\n",
    "         '{\\color{green!80!blue!85!black}\\\\textbf{---}}) have a median income of '+\n",
    "         f'\\${g2val:,.0f} in {yr} and \\${g2valpr:,.0f} in '+\n",
    "         f'{pryr}, an increase of \\${g2ch:,.0f} ({g2pc:.1f} percent). \\n\\n'+\n",
    "         'Median income for families in the second quartile (25th to 49.9th '+\n",
    "         f'percentiles, mean wealth of \\$236,000 in {yr}, see '+\n",
    "         '{\\color{red!20!orange!95!black}\\\\textbf{---}}) increased '+\n",
    "         f'\\${g3ch:,.0f} ({g3pc:,.1f} percent) to '+\n",
    "         f'\\${g3val:,.0f} in {yr}, '+\n",
    "         f'from \\${g3valpr:,.0f} in {pryr}. \\n\\n For '+\n",
    "         'the bottom quarter of families by wealth (see {\\color{violet}\\\\textbf{---}}), '+\n",
    "         f'median income increased \\${g4ch:,.0f} or {g4pc:,.1f} '+\n",
    "         f'percent to \\${g4val:,.0f}, '+\n",
    "         f'over the 30 years ending {yr}. The bottom quarter of families '+\n",
    "         f'have a negative mean wealth in {yr} and a median wealth of virtually zero. ')\n",
    "write_txt(text_dir / 'income_wealthg2.txt', text2)\n",
    "print('\\n', text2)"
   ]
  },
  {
   "cell_type": "code",
   "execution_count": 36,
   "metadata": {
    "ExecuteTime": {
     "end_time": "2022-03-10T18:02:20.513126Z",
     "start_time": "2022-03-10T18:02:20.481588Z"
    }
   },
   "outputs": [],
   "source": [
    "d = {'Black, non-Hispanic': 'Black', \n",
    "     'White, non-Hispanic': 'White'}\n",
    "\n",
    "df = pd.read_csv('../data/scf_race_mean.csv').set_index(['year', 'Category'])['Net_Worth'].unstack()\n",
    "df = df.rename(d, axis=1)\n",
    "df.index = pd.to_datetime([f'{year}-07-01' for year in df.index])\n",
    "df = df.round(1)\n",
    "df.to_csv(data_dir / 'scfracemean.csv', index_label='date')"
   ]
  },
  {
   "cell_type": "code",
   "execution_count": 37,
   "metadata": {
    "ExecuteTime": {
     "end_time": "2022-03-10T18:02:20.546283Z",
     "start_time": "2022-03-10T18:02:20.516718Z"
    }
   },
   "outputs": [],
   "source": [
    "df = pd.read_csv('../data/scf_race_mean.csv').set_index(['year', 'Category'])['Before_Tax_Income'].unstack()\n",
    "df = df.rename(d, axis=1)\n",
    "df.index = pd.to_datetime([f'{year}-07-01' for year in df.index])\n",
    "df = df.round(1)\n",
    "df.to_csv(data_dir / 'scfracemean1.csv', index_label='date')"
   ]
  },
  {
   "cell_type": "code",
   "execution_count": 38,
   "metadata": {
    "ExecuteTime": {
     "end_time": "2022-03-10T18:02:20.563623Z",
     "start_time": "2022-03-10T18:02:20.548460Z"
    }
   },
   "outputs": [],
   "source": [
    "df = pd.read_csv('../data/scf_race_mean.csv').set_index(['year', 'Category'])['Financial_Assets'].unstack()\n",
    "df = df.rename(d, axis=1)\n",
    "df.index = pd.to_datetime([f'{year}-07-01' for year in df.index])\n",
    "df = df.round(1)\n",
    "df.to_csv(data_dir / 'scfracemean0.csv', index_label='date')"
   ]
  },
  {
   "cell_type": "code",
   "execution_count": 39,
   "metadata": {
    "ExecuteTime": {
     "end_time": "2022-03-10T18:02:20.590071Z",
     "start_time": "2022-03-10T18:02:20.564856Z"
    }
   },
   "outputs": [
    {
     "name": "stdout",
     "output_type": "stream",
     "text": [
      "In 2019, among the 60.8 percent of white families who own stocks, the average value of stock holdings is \\$433,900. The return on these assets is a supplement to labor income and the assets themselves provide cushion against unexpected expenses. Meanwhile, black families have relatively few financial assets; only 33.5 percent of black families own stocks, with median stock holdings of \\$76,300.\n"
     ]
    }
   ],
   "source": [
    "df = pd.read_csv('../data/scf_race_mean.csv').set_index(['year', 'Category'])['Stock_Holdings'].unstack()\n",
    "df = df.rename(d, axis=1)\n",
    "df.index = pd.to_datetime([f'{year}-07-01' for year in df.index])\n",
    "df = df.round(1)\n",
    "df.to_csv(data_dir / 'scfracemean2.csv', index_label='date')\n",
    "\n",
    "wval = df.White.iloc[-1] * 1000\n",
    "bval = df.Black.iloc[-1] * 1000\n",
    "\n",
    "df = pd.read_csv('../data/scf_race_have.csv').set_index(['year', 'Category'])['Stock_Holdings'].unstack()\n",
    "df = df.rename(d, axis=1)\n",
    "df.index = pd.to_datetime([f'{year}-07-01' for year in df.index])\n",
    "df = df.round(1)\n",
    "df.to_csv(data_dir / 'scfracehave.csv', index_label='date')\n",
    "\n",
    "wp = df.White.iloc[-1]\n",
    "bp = df.Black.iloc[-1]\n",
    "\n",
    "yr = dtxt(df.index[-1])['year']\n",
    "\n",
    "text = (f'In {yr}, among the {wp:.1f} percent of white families who own stocks, '+\n",
    "        f'the average value of stock holdings is \\${wval:,.0f}. The return on these '+\n",
    "        'assets is a supplement to labor income and the assets themselves provide '+\n",
    "        'cushion against unexpected expenses. Meanwhile, black families '+\n",
    "        f'have relatively few financial assets; only {bp:.1f} percent of black '+\n",
    "        f'families own stocks, with median stock holdings of \\${bval:,.0f}.')\n",
    "write_txt(text_dir / 'scfracestocks.txt', text)\n",
    "print(text)"
   ]
  },
  {
   "cell_type": "code",
   "execution_count": null,
   "metadata": {},
   "outputs": [],
   "source": []
  },
  {
   "cell_type": "code",
   "execution_count": null,
   "metadata": {},
   "outputs": [],
   "source": []
  }
 ],
 "metadata": {
  "kernelspec": {
   "display_name": "Python 3 (ipykernel)",
   "language": "python",
   "name": "python3"
  },
  "language_info": {
   "codemirror_mode": {
    "name": "ipython",
    "version": 3
   },
   "file_extension": ".py",
   "mimetype": "text/x-python",
   "name": "python",
   "nbconvert_exporter": "python",
   "pygments_lexer": "ipython3",
   "version": "3.8.8"
  }
 },
 "nbformat": 4,
 "nbformat_minor": 4
}
