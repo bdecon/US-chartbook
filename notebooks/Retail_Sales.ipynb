{
 "cells": [
  {
   "cell_type": "code",
   "execution_count": 1,
   "metadata": {},
   "outputs": [],
   "source": [
    "import sys\n",
    "sys.path.append('../src')\n",
    "\n",
    "import uschartbook.config\n",
    "\n",
    "from uschartbook.config import *\n",
    "from uschartbook.utils import *"
   ]
  },
  {
   "cell_type": "markdown",
   "metadata": {},
   "source": [
    "### Main Chart"
   ]
  },
  {
   "cell_type": "code",
   "execution_count": 2,
   "metadata": {},
   "outputs": [],
   "source": [
    "# New orders for capital goods excluding defense or aircraft\n",
    "key = census_key\n",
    "base = 'https://api.census.gov/data/timeseries/eits/marts/'\n",
    "param = 'cell_value,time_slot_id,category_code'\n",
    "t = '&time=from+1992'\n",
    "dtc = '&data_type_code=SM'\n",
    "oth = '&for=us&seasonally_adj=yes'\n",
    "\n",
    "url = f'{base}?get={param}&key={key}{dtc}{t}{oth}'\n",
    "\n",
    "r = requests.get(url).json()"
   ]
  },
  {
   "cell_type": "code",
   "execution_count": 3,
   "metadata": {},
   "outputs": [
    {
     "data": {
      "text/plain": [
       "'According to the \\\\href{https://www.census.gov/retail/index.html}{Census Bureau}, retail and food service sales totalled \\\\$485.5 billion in May 2020, equivalent to roughly 27.1 percent of GDP on an annualized basis. Over the past year, retail and food service sales decreased by 6.1 percent, without adjusting for prices (see {\\\\color{green!90!blue}\\\\textbf{---}}). Nonstore sales, which include online retailers, have increased by 30.8 percent over the same period (see {\\\\color{blue!70!black}\\\\textbf{---}}), and total \\\\$86.4 billion, or roughly 4.8 percent of GDP. '"
      ]
     },
     "execution_count": 3,
     "metadata": {},
     "output_type": "execute_result"
    }
   ],
   "source": [
    "df = pd.DataFrame()\n",
    "for series in ['44000', '44X72', '44W72', '454']:\n",
    "    df[series] = pd.Series(\n",
    "        {pd.to_datetime(i[4]): \n",
    "         float(i[0]) for i in r[1:] if i[2] == series}\n",
    "    ).sort_index()\n",
    "    \n",
    "data = (df.pct_change(12) * 100).dropna()\n",
    "data['NS_3M'] = data['454'].rolling(3).mean()\n",
    "\n",
    "s = ['A191RC']\n",
    "\n",
    "gdp = nipa_df(retrieve_table('T10105')['Data'], s)\n",
    "\n",
    "data.to_csv(data_dir / 'marts.csv', index_label='date', float_format='%g')\n",
    "\n",
    "node = end_node(data['NS_3M'], 'blue!70!black')\n",
    "write_txt(text_dir / 'rs_ns3m_node.txt', node)\n",
    "\n",
    "node = end_node(data['44X72'], 'green!90!blue')\n",
    "write_txt(text_dir / 'rs_44x72_node.txt', node)\n",
    "\n",
    "totval = df['44X72'].iloc[-1]\n",
    "shgdp = (totval * 12 / gdp.iloc[-1] * 100)[-1]\n",
    "totgr = data['44X72'].iloc[-1]\n",
    "datelt = df.index[-1].strftime('%B %Y')\n",
    "grtxt = inc_dec_percent(totgr)\n",
    "    \n",
    "totval2 = df['454'].iloc[-1]\n",
    "shgdp2 = (totval2 * 12 / gdp.iloc[-1] * 100)[-1]\n",
    "totgr2 = data['454'].iloc[-1]\n",
    "grtxt2 = inc_dec_percent(totgr2)\n",
    "    \n",
    "text = ('According to the \\href{https://www.census.gov/retail/index.html}{Census Bureau}, '+\n",
    "        'retail and food service '+\n",
    "        f'sales totalled \\${totval/1000:,.1f} billion in {datelt}, equivalent '+\n",
    "        f'to roughly {shgdp:.1f} percent of GDP on an annualized basis. '+\n",
    "        'Over the past year, retail and '+\n",
    "        f'food service sales {grtxt}, without adjusting for prices '+\n",
    "        '(see {\\color{green!90!blue}\\\\textbf{---}}). Nonstore '+\n",
    "        f'sales, which include online retailers, have {grtxt2} over '+\n",
    "        'the same period (see {\\color{blue!70!black}\\\\textbf{---}}), and '\n",
    "        f'total \\${totval2/1000:,.1f} billion, or roughly {shgdp2:.1f} percent of GDP. ')\n",
    "\n",
    "write_txt(text_dir / 'marts.txt', text)\n",
    "\n",
    "text"
   ]
  },
  {
   "cell_type": "markdown",
   "metadata": {},
   "source": [
    "### By Type"
   ]
  },
  {
   "cell_type": "code",
   "execution_count": 4,
   "metadata": {},
   "outputs": [],
   "source": [
    "key = census_key\n",
    "base = 'https://api.census.gov/data/timeseries/eits/marts/'\n",
    "param = 'cell_value,time_slot_id,category_code'\n",
    "t = '&time=from+1992'\n",
    "dtc = '&data_type_code=SM'\n",
    "oth = '&for=us&seasonally_adj=no'\n",
    "\n",
    "url = f'{base}?get={param}&key={key}{dtc}{t}{oth}'\n",
    "\n",
    "r = requests.get(url).json()"
   ]
  },
  {
   "cell_type": "code",
   "execution_count": 5,
   "metadata": {},
   "outputs": [],
   "source": [
    "series_dict = {'441': 'Motor Vehicles \\& Parts', '442': 'Furniture \\& Home Furnishings', \n",
    "               '443': 'Electronics \\& Appliance', '444': 'Building \\& Garden Equipment', \n",
    "               '445': 'Food \\& Beverage Stores', '446': 'Health \\& Personal Care', \n",
    "               '447': 'Gasoline Stations', '448': 'Clothing and Accessories', \n",
    "               '451': 'Sports/Hobby/Music/Books', '452': 'General Merchandise', \n",
    "               '454': 'Nonstore', '722': 'Food Service \\& Drinking Places'}\n",
    "\n",
    "df = pd.DataFrame()\n",
    "for series in series_dict.keys():\n",
    "    df[series] = pd.Series(\n",
    "        {pd.to_datetime(i[4]): \n",
    "         float(i[0]) for i in r[1:] if i[2] == series}\n",
    "    ).sort_index()\n",
    "    \n",
    "dpi = fred_df('DSPI', start='1988')['VALUE'] * 1000\n",
    "data = (df.multiply(12).divide(dpi, axis=0) * 100).dropna()\n",
    "results = (pd.concat([data.iloc[-61], data.iloc[-1]], axis=1)\n",
    "             .sort_values(data.dropna().index[-1], ascending=False))\n",
    "results.index = results.index.map(series_dict)\n",
    "ltmonth = dtxt(data.dropna().index[-1])['mon2']\n",
    "write_txt(text_dir / 'rs_mon1.txt', ltmonth)\n",
    "prmonth = dtxt(data.dropna().index[-61])['mon2']\n",
    "write_txt(text_dir / 'rs_mon2.txt', prmonth)\n",
    "results.round(2).to_csv(data_dir / 'rs_comp.csv', index_label='name')"
   ]
  },
  {
   "cell_type": "code",
   "execution_count": null,
   "metadata": {},
   "outputs": [],
   "source": []
  },
  {
   "cell_type": "code",
   "execution_count": null,
   "metadata": {},
   "outputs": [],
   "source": []
  },
  {
   "cell_type": "markdown",
   "metadata": {},
   "source": [
    "### Inventories to Sales Ratio (ISRATIO)"
   ]
  },
  {
   "cell_type": "code",
   "execution_count": 4,
   "metadata": {},
   "outputs": [
    {
     "ename": "KeyError",
     "evalue": "'Results'",
     "output_type": "error",
     "traceback": [
      "\u001b[0;31m---------------------------------------------------------------------------\u001b[0m",
      "\u001b[0;31mKeyError\u001b[0m                                  Traceback (most recent call last)",
      "\u001b[0;32m<ipython-input-4-462e9d3e1c58>\u001b[0m in \u001b[0;36m<module>\u001b[0;34m\u001b[0m\n\u001b[1;32m     11\u001b[0m \u001b[0mr\u001b[0m \u001b[0;34m=\u001b[0m \u001b[0mrequests\u001b[0m\u001b[0;34m.\u001b[0m\u001b[0mget\u001b[0m\u001b[0;34m(\u001b[0m\u001b[0murl\u001b[0m\u001b[0;34m)\u001b[0m\u001b[0;34m.\u001b[0m\u001b[0mjson\u001b[0m\u001b[0;34m(\u001b[0m\u001b[0;34m)\u001b[0m\u001b[0;34m\u001b[0m\u001b[0;34m\u001b[0m\u001b[0m\n\u001b[1;32m     12\u001b[0m \u001b[0;34m\u001b[0m\u001b[0m\n\u001b[0;32m---> 13\u001b[0;31m \u001b[0mdata\u001b[0m \u001b[0;34m=\u001b[0m \u001b[0mr\u001b[0m\u001b[0;34m[\u001b[0m\u001b[0;34m'BEAAPI'\u001b[0m\u001b[0;34m]\u001b[0m\u001b[0;34m[\u001b[0m\u001b[0;34m'Results'\u001b[0m\u001b[0;34m]\u001b[0m\u001b[0;34m[\u001b[0m\u001b[0;34m'Data'\u001b[0m\u001b[0;34m]\u001b[0m\u001b[0;34m\u001b[0m\u001b[0;34m\u001b[0m\u001b[0m\n\u001b[0m\u001b[1;32m     14\u001b[0m \u001b[0;34m\u001b[0m\u001b[0m\n\u001b[1;32m     15\u001b[0m \u001b[0ms1\u001b[0m \u001b[0;34m=\u001b[0m \u001b[0mpd\u001b[0m\u001b[0;34m.\u001b[0m\u001b[0mread_csv\u001b[0m\u001b[0;34m(\u001b[0m\u001b[0;34m'raw/real_isratio.csv'\u001b[0m\u001b[0;34m)\u001b[0m\u001b[0;34m\u001b[0m\u001b[0;34m\u001b[0m\u001b[0m\n",
      "\u001b[0;31mKeyError\u001b[0m: 'Results'"
     ]
    }
   ],
   "source": [
    "# Nominal\n",
    "df = fred_df('ISRATIO')['VALUE']\n",
    "df.to_csv(data_dir / 'isratio.csv', index_label='date')\n",
    "\n",
    "# Real \n",
    "years = ','.join(map(str, range(1988, 2021)))\n",
    "url = (f'https://www.bea.gov/api/data/?&UserID={bea_key}'+\n",
    "        '&method=GetData&datasetname=NIUnderlyingDetail&TableName=U003BU'+\n",
    "       f'&LineNumber=1&Frequency=M&Year={years}&ResultFormat=json')\n",
    "\n",
    "r = requests.get(url).json()\n",
    "\n",
    "data = r['BEAAPI']['Results']['Data']\n",
    "\n",
    "s1 = pd.read_csv('raw/real_isratio.csv')\n",
    "s1['Date'] = pd.to_datetime(s1['Date'])\n",
    "s1 = s1.set_index('Date')['Value'].sort_index()\n",
    "\n",
    "s2 = pd.Series({pd.to_datetime(i['TimePeriod'], format='%YM%m'): \n",
    "               i['DataValue'] for i in data if i['LineNumber'] == '1'}).astype(float)\n",
    "s2.index.name = 'Date'\n",
    "s2.name = 'Value'\n",
    "s2 = s2.sort_index()\n",
    "\n",
    "result = s1.append(s2)\n",
    "\n",
    "result.to_csv(data_dir / 'real_isratio.csv', index_label='date')\n",
    "\n",
    "# Text\n",
    "ltmon = dtxt(df.index[-1])['mon1']\n",
    "prmon = dtxt(df.index[-2])['mon1']\n",
    "prmon12 = dtxt(df.index[-13])['mon1']\n",
    "ltval = f'{df.iloc[-1]:.2f}'\n",
    "prval = f'{df.iloc[-2]:.2f}'\n",
    "prval12 = f'{df.iloc[-13]:.2f}'\n",
    "lt2mon = dtxt(result.index[-1])['mon1']\n",
    "pr2mon = dtxt(result.index[-13])['mon1']\n",
    "lt2val = f'{result.iloc[-1]:.2f}'\n",
    "lt2val2 = f'{result.iloc[-2]:.2f}'\n",
    "rngval = f'{result.loc[\"2011\":\"2014\"].mean():.2f}'\n",
    "\n",
    "text = (f'In {ltmon}, the ratio of inventories to '+\n",
    "        f'sales was {ltval}, compared to {prval} in '+\n",
    "        f'{prmon}, and {prval12} in {prmon12}. The '+\n",
    "        'inflation adjusted version from BEA shows '+\n",
    "        f'inventories at {lt2val} times sales in '+\n",
    "        f'{lt2mon}, compared to {lt2val2} in {pr2mon}. '+\n",
    "        f'From 2011 to 2014, real monthly inventories were {rngval} '+\n",
    "         'times real monthly sales, on average. ')\n",
    "\n",
    "write_txt(text_dir / 'isratio.txt', text)\n",
    "\n",
    "text"
   ]
  },
  {
   "cell_type": "code",
   "execution_count": null,
   "metadata": {},
   "outputs": [],
   "source": []
  },
  {
   "cell_type": "code",
   "execution_count": null,
   "metadata": {},
   "outputs": [],
   "source": []
  }
 ],
 "metadata": {
  "kernelspec": {
   "display_name": "Python 3",
   "language": "python",
   "name": "python3"
  },
  "language_info": {
   "codemirror_mode": {
    "name": "ipython",
    "version": 3
   },
   "file_extension": ".py",
   "mimetype": "text/x-python",
   "name": "python",
   "nbconvert_exporter": "python",
   "pygments_lexer": "ipython3",
   "version": "3.8.2"
  }
 },
 "nbformat": 4,
 "nbformat_minor": 4
}
