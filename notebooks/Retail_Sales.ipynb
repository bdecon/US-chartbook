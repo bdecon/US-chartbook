{
 "cells": [
  {
   "cell_type": "markdown",
   "metadata": {},
   "source": [
    "### Retail Sales and Inventories"
   ]
  },
  {
   "cell_type": "code",
   "execution_count": 1,
   "metadata": {
    "ExecuteTime": {
     "end_time": "2023-10-27T13:03:18.178089Z",
     "start_time": "2023-10-27T13:03:17.232217Z"
    }
   },
   "outputs": [],
   "source": [
    "import sys\n",
    "sys.path.append('../src')\n",
    "\n",
    "import uschartbook.config\n",
    "\n",
    "from uschartbook.config import *\n",
    "from uschartbook.utils import *"
   ]
  },
  {
   "cell_type": "markdown",
   "metadata": {},
   "source": [
    "### Main Chart"
   ]
  },
  {
   "cell_type": "code",
   "execution_count": 2,
   "metadata": {
    "ExecuteTime": {
     "end_time": "2023-10-27T13:03:20.269258Z",
     "start_time": "2023-10-27T13:03:18.179740Z"
    }
   },
   "outputs": [
    {
     "name": "stdout",
     "output_type": "stream",
     "text": [
      "Latest:  September 2023\n"
     ]
    }
   ],
   "source": [
    "# Retail sales\n",
    "url = ('https://api.census.gov/data/timeseries/eits/marts?'+\n",
    "       'get=cell_value,time_slot_id,category_code&'+\n",
    "       f'key={census_key}&data_type_code=SM&time=from+1992&'+\n",
    "       'for=us&seasonally_adj=yes')\n",
    "r = requests.get(url).json()\n",
    "date = lambda x: pd.to_datetime(x.time)\n",
    "df = ((pd.DataFrame(r[1:], columns=r[0]).assign(date = date)\n",
    "         .set_index(['date', 'category_code']))['cell_value']\n",
    "         .unstack().astype('float'))\n",
    "print('Latest: ', dtxt(df.index[-1])['mon1'])\n",
    "df.to_csv(data_dir / 'rs_raw.csv', index_label='date')"
   ]
  },
  {
   "cell_type": "code",
   "execution_count": 3,
   "metadata": {
    "ExecuteTime": {
     "end_time": "2023-10-27T13:03:20.331136Z",
     "start_time": "2023-10-27T13:03:20.270964Z"
    }
   },
   "outputs": [
    {
     "name": "stdout",
     "output_type": "stream",
     "text": [
      "Changes in retail and food services sales can indicate shifts in consumer behavior. One-year retail and food services \\textbf{sales growth} is 3.8 percent in September 2023, and averages 3.1 percent over past three months (see {\\color{green!70!black}\\textbf{---}}). Nonstore sales, for example from online retailers, have increased at a faster rate than other sales, since 1992. Over the past three months, one-year nonstore sales growth averages 8.4 percent (see {\\color{blue!60!black}\\textbf{---}}).  \n",
      "\n",
      "In September 2023, \\textbf{retail and food services sales} total \\$704.9 billion. On an annualized basis, this is equivalent to 41.6 percent of disposable (after-tax) income (see {\\color{magenta!80!purple}\\textbf{---}}), 44.9 percent of consumer spending (see {\\color{cyan}\\textbf{---}}), and 30.0 percent of GDP (see {\\color{blue}\\textbf{---}}). \n",
      "\n",
      "Per capita retail and food services sales, adjusted by the personal consumption expenditure (PCE) price index, are \\$2,100 during September 2023 (see {\\color{violet!60!blue}\\textbf{---}}). Prior to the pandemic, in 2019, real per capita retail and food service sales averaged \\$1,823 per month. Excluding automotive and gasoline sales, per capita sales were \\$1,528 in September 2023 and \\$1,306 per month in 2019, after adjusting for inflation (see {\\color{green!80!olive}\\textbf{---}}). \n"
     ]
    }
   ],
   "source": [
    "df = pd.read_csv(data_dir / 'rs_raw.csv', index_col='date', \n",
    "                 parse_dates=True)[['44000', '44X72', '44W72', '454']]\n",
    "\n",
    "# Retail sales growth\n",
    "data = (df.pct_change(12) * 100).dropna()\n",
    "res = data[['44X72', '454']].rolling(3).mean().dropna()\n",
    "res.to_csv(data_dir / 'marts.csv', index_label='date', \n",
    "            float_format='%g')\n",
    "adj = node_adj(res)\n",
    "smax = res.iloc[-1].idxmax()\n",
    "adj[smax] = adj[smax] + 0.35\n",
    "\n",
    "colors = {'44X72': 'green!70!black', '454': 'blue!60!black'}\n",
    "date = {series: 'm' if series == smax else None \n",
    "        for series in colors.keys()}\n",
    "nodes  ='\\n'.join([end_node(res[series], color, \n",
    "                            date=date[series], \n",
    "                            size=1.1, offset=adj[series]) \n",
    "                   for series, color in colors.items()])\n",
    "write_txt(text_dir / 'rs_nodes.txt', nodes)  \n",
    "ltdt = dtxt(df.index[-1])['mon1']\n",
    "lttot = value_text(data['44X72'].iloc[-1], 'plain')\n",
    "lt3m = value_text(res['44X72'].iloc[-1], 'plain')\n",
    "ns3m = value_text(res['454'].iloc[-1], 'plain')\n",
    "text = ('Changes in retail and food services sales can '+\n",
    "        'indicate shifts in consumer behavior. One-year '+\n",
    "        'retail and food services \\\\textbf{sales growth} '+\n",
    "        f'is {lttot} in {ltdt}, and averages {lt3m} '+\n",
    "        f'over past three months {c_line(colors[\"44X72\"])}. '+\n",
    "        'Nonstore sales, for example from online '+\n",
    "        'retailers, have increased at a '+\n",
    "        'faster rate than other sales, since 1992. '+\n",
    "        'Over the past three months, one-year nonstore '+\n",
    "        f'sales growth averages {ns3m} '+\n",
    "        f'{c_line(colors[\"454\"])}. ')\n",
    "write_txt(text_dir / 'rs_gr.txt', text)\n",
    "print(text, '\\n')\n",
    "\n",
    "# Share of aggregate measures\n",
    "gdpm = pd.read_csv(data_dir / 'gdp_monthly.csv', index_col='date', \n",
    "                   parse_dates=True)['A191RC']\n",
    "\n",
    "dpi = (pd.read_csv(data_dir / 'nipa20600.csv', \n",
    "                   index_col='date', parse_dates=True)\n",
    "         .loc['1992':, 'A067RC'].rename('VALUE'))\n",
    "\n",
    "pop = (pd.read_csv(data_dir/'nipa20600.csv', index_col='date', \n",
    "                  parse_dates=True)['B230RC'])\n",
    "pce = (pd.read_csv(data_dir / 'pi_raw.csv', index_col='date', \n",
    "                  parse_dates=True)['DPCERC'])\n",
    "\n",
    "pi = (pd.read_csv(data_dir / 'nipa20804.csv', \n",
    "                 index_col='date', parse_dates=True)['DPCERG'])\n",
    "pch = (pi.iloc[-1] / pi)\n",
    "\n",
    "rs = df['44X72']\n",
    "sh = pd.DataFrame()\n",
    "sh['DPI'] = (rs.multiply(12).divide(dpi, axis=0) * 100).dropna()\n",
    "sh['CE'] = (rs.multiply(12).divide(pce, axis=0) * 100).dropna()\n",
    "sh['GDP'] = (rs.multiply(12).divide(gdpm, axis=0) * 100).dropna()\n",
    "sh['RealPC_Tot'] = (rs.multiply(pch, axis=0)\n",
    "               .dropna().divide(pop / 1000, axis=0)).dropna()\n",
    "sh['RealPC_ExAutoGas'] = (df['44W72'].multiply(pch, axis=0)\n",
    "               .dropna().divide(pop / 1000, axis=0)).dropna()\n",
    "sh['RealPC_Nonstore'] = (df['454'].multiply(pch, axis=0)\n",
    "               .dropna().divide(pop / 1000, axis=0)).dropna()\n",
    "sh.to_csv(data_dir / 'rs_sh.csv', index_label='date')\n",
    "\n",
    "rsdt = dtxt(sh['RealPC_Tot'].dropna().index[-1])['mon1']\n",
    "write_txt(text_dir / 'rs_dt.txt', rsdt)\n",
    "adj = node_adj(sh[['DPI', 'CE', 'GDP']])\n",
    "smax = sh[['DPI', 'CE', 'GDP']].iloc[-1].idxmax()\n",
    "adj[smax] = adj[smax] + 0.35\n",
    "\n",
    "colors = {'DPI': 'magenta!80!purple', 'GDP': 'blue', 'CE': 'cyan'}\n",
    "date = {series: 'm' if series == smax else None \n",
    "        for series in colors.keys()}\n",
    "nodes  ='\\n'.join([end_node(sh[series], color, \n",
    "                            date=date[series], \n",
    "                            size=1.1, offset=adj[series]) \n",
    "                   for series, color in colors.items()])\n",
    "write_txt(text_dir / 'rs_sh_nodes.txt', nodes)  \n",
    "\n",
    "ltdt = dtxt(sh.index[-1])['mon1']\n",
    "tot = df['44X72'].iloc[-1] / 1_000\n",
    "lt = sh.iloc[-1]\n",
    "text = (f'In {ltdt}, \\\\textbf{{retail and food services sales}} '+\n",
    "        f'total \\${tot:.1f} billion. On an annualized basis, '+\n",
    "        f'this is equivalent to {lt.DPI:.1f} percent of '+\n",
    "        f'disposable (after-tax) income {c_line(colors[\"DPI\"])}, '+\n",
    "        f'{lt.CE:.1f} percent of consumer spending '+\n",
    "        f'{c_line(colors[\"CE\"])}, and {lt.GDP:.1f} percent of '+\n",
    "        f'GDP {c_line(colors[\"GDP\"])}.')\n",
    "write_txt(text_dir / 'rs_sh.txt', text)\n",
    "print(text, '\\n')\n",
    "\n",
    "# Real per capita retail sales\n",
    "colors = {'RealPC_Tot': 'violet!60!blue', \n",
    "          'RealPC_ExAutoGas': 'green!80!olive',\n",
    "          'RealPC_Nonstore': 'blue!60!black'}\n",
    "adj = node_adj(sh[colors.keys()])\n",
    "smax = sh[colors.keys()].iloc[-1].idxmax()\n",
    "\n",
    "date = {series: 'm' if series == smax else None \n",
    "        for series in colors.keys()}\n",
    "nodes  ='\\n'.join([end_node(sh[series], color, \n",
    "                            date=date[series], dollar=True,\n",
    "                            digits='comma',\n",
    "                            size=1.1, offset=adj[series]) \n",
    "                   for series, color in colors.items()])\n",
    "write_txt(text_dir / 'rs_pc_nodes.txt', nodes)  \n",
    "\n",
    "pclt = lt['RealPC_Tot']\n",
    "pc19 = sh.loc['2019', 'RealPC_Tot'].mean()\n",
    "pcex = lt['RealPC_ExAutoGas']\n",
    "pcex19 = sh.loc['2019', 'RealPC_ExAutoGas'].mean()\n",
    "\n",
    "text = ('Per capita retail and food services sales, '+\n",
    "        'adjusted by the personal consumption expenditure '+\n",
    "        f'(PCE) price index, are \\${pclt:,.0f} during {ltdt} '+\n",
    "        f'{c_line(colors[\"RealPC_Tot\"])}. Prior to the '+\n",
    "        'pandemic, in 2019, real per capita retail and '+\n",
    "        f'food service sales averaged \\${pc19:,.0f} per '+\n",
    "        'month. Excluding automotive and gasoline sales, '+\n",
    "        f'per capita sales were \\${pcex:,.0f} in {ltdt} '+\n",
    "        f'and \\${pcex19:,.0f} per month in 2019, after '+\n",
    "        'adjusting for inflation '+\n",
    "        f'{c_line(colors[\"RealPC_ExAutoGas\"])}. ')\n",
    "write_txt(text_dir / 'rs_pc.txt', text)\n",
    "print(text)"
   ]
  },
  {
   "cell_type": "code",
   "execution_count": null,
   "metadata": {},
   "outputs": [],
   "source": []
  },
  {
   "cell_type": "code",
   "execution_count": null,
   "metadata": {},
   "outputs": [],
   "source": []
  },
  {
   "cell_type": "markdown",
   "metadata": {},
   "source": [
    "### By Kind of Business"
   ]
  },
  {
   "cell_type": "code",
   "execution_count": 4,
   "metadata": {
    "ExecuteTime": {
     "end_time": "2023-10-27T13:03:20.362372Z",
     "start_time": "2023-10-27T13:03:20.332996Z"
    }
   },
   "outputs": [
    {
     "name": "stdout",
     "output_type": "stream",
     "text": [
      "Nonstore sales were 1.7 percent of after-tax income in January 1992 and 7.0 percent in September 2023, a shift that is equivalent to \\$1,077 billion per year. Since 1992, sales as a share of after-tax income has decreased in food and beverage stores (-2.9 percentage points), clothing and accessories stores (-1.0 percentage points), and general merchandise stores (-0.7 percentage points).\n"
     ]
    }
   ],
   "source": [
    "cats = [('441', 'Motor Vehicles \\& Parts', 'blue!70!cyan'), \n",
    "        ('442', 'Furniture \\& Home Furnishings', 'orange!90!red'), \n",
    "        ('443', 'Electronics \\& Appliance', 'red!80!orange!90!white'), \n",
    "        ('444', 'Building \\& Garden Equipment', 'blue!70!black'), \n",
    "        ('445', 'Food \\& Beverage Stores', 'green!50!black'), \n",
    "        ('446', 'Health \\& Personal Care', 'green!80!blue!90!white'), \n",
    "        ('447', 'Gasoline Stations', 'pink!80!red'), \n",
    "        ('448', 'Clothing and Accessories', 'yellow!75!orange'), \n",
    "        ('451', 'Sports/Hobby/Music/Books', 'violet'), \n",
    "        ('452', 'General Merchandise', 'green!60!yellow'), \n",
    "        ('454', 'Nonstore', 'purple!90!black'), \n",
    "        ('722', 'Food Service \\& Drinking Places', 'cyan!90!white')]\n",
    "\n",
    "names = {i[0]: i[1] for i in cats}\n",
    "df = pd.read_csv(data_dir / 'rs_raw.csv', index_col='date', \n",
    "                 parse_dates=True)[names.keys()]\n",
    "    \n",
    "dpi = (pd.read_csv(data_dir / 'nipa20600.csv', \n",
    "                   index_col='date', parse_dates=True)\n",
    "         .loc['1992':, 'A067RC'].rename('VALUE'))\n",
    "data = (df.multiply(12).divide(dpi, axis=0) * 100).dropna()\n",
    "\n",
    "data.to_csv(data_dir / 'rs_ind.csv', index_label='date')\n",
    "\n",
    "maxdt = dtxt(data.index[-1] + pd.DateOffset(weeks = 10))['datetime']\n",
    "\n",
    "d = {}\n",
    "for sname, name, color in cats:\n",
    "    d[f'{sname}_line'] = f'''\\\\rebars\n",
    "                \\stdline{{{color}}}{{date}}{{{sname}}}{{data/rs_ind.csv}}\n",
    "                \\\\node[text width=4.2cm, anchor=west] at \n",
    "                    (axis description cs: -0.24, 1.11){{\\\\footnotesize{{{name}}}}};\n",
    "                {end_node(data[sname], color)}'''\n",
    "    mean = round(data[sname].mean(), 1)\n",
    "    ytick = ', '.join([str(round(data[sname].max(), 1)), str(mean),\n",
    "                     str(round(data[sname].min(), 1))])\n",
    "    d[f'{sname}_end'] = f'''\\shdateaxisticks  \n",
    "\t\tyticklabel style={{text width=1.6em}}, enlarge y limits={{0.08}},\n",
    "        ytick={{{ytick}}}, \\\\bbar{{y}}{{{mean}}}\n",
    "\t\txticklabel={{`\\short{{\\year}}}}, clip=false, height=3.3cm, width=4.6cm\n",
    "    '''\n",
    "    d[sname] = f'''date coordinates in=x, axis line style={{draw=none}},\n",
    "    \txticklabels=\\empty, xtick style={{draw=none}},\n",
    "\t\txmax={{{maxdt}}}, max space between ticks=40,\t    \n",
    "\t\tenlarge y limits={{0.08}},  \\\\bbar{{y}}{{{mean}}}\n",
    "\t\tenlarge x limits={{0.01}}, ytick={{{ytick}}}, \n",
    "\t\tyticklabel style={{text width=1.6em}},\n",
    "\t\tclip=false, height=3.3cm, width=4.6cm'''\n",
    "\n",
    "lt = data.iloc[-1].sort_values(ascending=False)\n",
    "top9 = '\\n'.join([f'\\\\nextgroupplot[{d[s]}] {d[f\"{s}_line\"]}' \n",
    "                  for s in lt[:9].index])\n",
    "bottom3 = '\\n'.join([f'\\\\nextgroupplot[{d[f\"{s}_end\"]}] {d[f\"{s}_line\"]}' \n",
    "                     for s in lt[9:].index])    \n",
    "    \n",
    "v = (f'''\\\\begin{{groupplot}}[group style={{group size=3 by 4, \n",
    "    x descriptions at=edge bottom, vertical sep=20pt, horizontal sep=36pt,}},]\n",
    "    {top9}\n",
    "    {bottom3}\n",
    "    \\end{{groupplot}}''')\n",
    "write_txt(text_dir / 'rs_ind.txt', v)\n",
    "\n",
    "ns92 = data['454'].iloc[0]\n",
    "nslt = data['454'].iloc[-1]\n",
    "ltdt = dtxt(data.index[-1])['mon1']\n",
    "nssh = dpi.iloc[-1] * ((nslt - ns92) / 100) / 1_000\n",
    "ch92 = (data.iloc[-1] - data.iloc[0]).sort_values()\n",
    "endings = ['store', 'stations', 'places']\n",
    "tv = {}\n",
    "for i in [0, 1, 2]:\n",
    "    cat = names[ch92.index[i]].lower().replace('\\\\&', 'and')\n",
    "    if any(ending in cat for ending in endings) == False:\n",
    "        cat = cat + ' stores'\n",
    "    tv[i] = f'{cat} ({ch92.iloc[i]:.1f} percentage points)'\n",
    "text = (f'Nonstore sales were {ns92:.1f} percent of '+\n",
    "        f'after-tax income in January 1992 and {nslt:.1f} percent '+\n",
    "        f'in {ltdt}, a shift that is equivalent to \\${nssh:,.0f} '+\n",
    "        'billion per year. Since 1992, sales '+\n",
    "        f'as a share of after-tax income has decreased in {tv[0]}, '+\n",
    "        f'{ tv[1]}, and {tv[2]}.')\n",
    "write_txt(text_dir / 'rs_kb.txt', text)\n",
    "print(text)\n",
    "\n",
    "rsdt = f'January 1992 to {ltdt}'\n",
    "write_txt(text_dir / 'rs_dates.txt', rsdt)"
   ]
  },
  {
   "cell_type": "code",
   "execution_count": null,
   "metadata": {},
   "outputs": [],
   "source": []
  },
  {
   "cell_type": "code",
   "execution_count": null,
   "metadata": {},
   "outputs": [],
   "source": []
  },
  {
   "cell_type": "markdown",
   "metadata": {},
   "source": [
    "### Inventories to Sales Ratio (ISRATIO)"
   ]
  },
  {
   "cell_type": "code",
   "execution_count": 5,
   "metadata": {
    "ExecuteTime": {
     "end_time": "2023-10-27T13:03:24.412370Z",
     "start_time": "2023-10-27T13:03:20.363837Z"
    }
   },
   "outputs": [
    {
     "name": "stdout",
     "output_type": "stream",
     "text": [
      "In August 2023, the ratio of total business inventories to sales was 1.37, compared to 1.39 in July 2023, 1.36 in August 2022, and 1.43 in February 2020.\n",
      "\n",
      "The inflation-adjusted version from BEA shows inventories at 1.55 times sales in August 2023, following a ratio of 1.55 in July 2023, and 1.54 one year prior, in August 2022. In 2019, real monthly inventories were 1.55 times real monthly sales, on average. \n"
     ]
    }
   ],
   "source": [
    "# Nominal\n",
    "url = ('https://api.census.gov/data/timeseries/eits/mtis?'+\n",
    "       'get=cell_value,time_slot_id,category_code&'+\n",
    "       f'key={census_key}&data_type_code=IR&category_code=TOTBUS&'+\n",
    "       'time=from+1992&for=us&seasonally_adj=yes')\n",
    "r = requests.get(url).json()\n",
    "date = lambda x: pd.to_datetime(x.time)\n",
    "df = (pd.DataFrame(r[1:], columns=r[0]).assign(date = date)\n",
    "        .set_index('date'))['cell_value'].astype('float').sort_index()\n",
    "df.name = 'VALUE'\n",
    "df.to_csv(data_dir / 'isratio.csv', index_label='date')\n",
    "\n",
    "# Real \n",
    "years = ','.join(map(str, range(1988, 2024)))\n",
    "url = (f'https://apps.bea.gov/api/data/?&UserID={bea_key}'+\n",
    "        '&method=GetData&datasetname=NIUnderlyingDetail&'+\n",
    "        'TableName=U003BU&LineNumber=1&Frequency=M&'+\n",
    "       f'Year={years}&ResultFormat=json')\n",
    "r = requests.get(url).json()\n",
    "data = r['BEAAPI']['Results']['Data']\n",
    "\n",
    "s1 = pd.read_csv('raw/real_isratio.csv')\n",
    "s1['Date'] = pd.to_datetime(s1['Date'])\n",
    "s1 = s1.set_index('Date')['Value'].sort_index()\n",
    "\n",
    "s2 = pd.Series({pd.to_datetime(i['TimePeriod'], format='%YM%m'): \n",
    "               i['DataValue'] for i in data \n",
    "                if i['LineNumber'] == '1'}).astype(float)\n",
    "s2.index.name = 'Date'\n",
    "s2.name = 'Value'\n",
    "s2 = s2.sort_index()\n",
    "result = pd.concat([s1, s2])\n",
    "result.to_csv(data_dir / 'real_isratio.csv', index_label='date')\n",
    "\n",
    "# Text\n",
    "ltmon = dtxt(df.index[-1])['mon1']\n",
    "prmon = dtxt(df.index[-2])['mon1']\n",
    "prmon12 = dtxt(df.index[-13])['mon1']\n",
    "ltval = f'{df.iloc[-1]:.2f}'\n",
    "prval = f'{df.iloc[-2]:.2f}'\n",
    "prval12 = f'{df.iloc[-13]:.2f}'\n",
    "pcval = f'{df.loc[\"2020-02-01\"].mean():.2f}'\n",
    "lt2mon = dtxt(result.index[-1])['mon1']\n",
    "pr2mon = dtxt(result.index[-13])['mon1']\n",
    "lt2val = f'{result.iloc[-1]:.2f}'\n",
    "lt2val2 = f'{result.iloc[-13]:.2f}'\n",
    "rngval = f'{result.loc[\"2019\"].mean():.2f}'\n",
    "\n",
    "text = (f'In {ltmon}, the ratio of total business '+\n",
    "        f'inventories to sales was {ltval}, compared '+\n",
    "        f'to {prval} in {prmon}, {prval12} in {prmon12}, '+\n",
    "        f'and {pcval} in February 2020.\\n\\nThe '+\n",
    "        'inflation-adjusted version from BEA shows '+\n",
    "        f'inventories at {lt2val} times sales in '+\n",
    "        f'{lt2mon}, following a ratio of {result.iloc[-2]:.2f} '+\n",
    "        f'in {dtxt(result.index[-2])[\"mon1\"]}, '+\n",
    "        f'and {lt2val2} one year prior, in {pr2mon}. '+\n",
    "        f'In 2019, real monthly inventories were {rngval} '+\n",
    "         'times real monthly sales, on average. ')\n",
    "write_txt(text_dir / 'isratio.txt', text)\n",
    "print(text)"
   ]
  },
  {
   "cell_type": "code",
   "execution_count": null,
   "metadata": {},
   "outputs": [],
   "source": []
  },
  {
   "cell_type": "code",
   "execution_count": null,
   "metadata": {},
   "outputs": [],
   "source": []
  }
 ],
 "metadata": {
  "kernelspec": {
   "display_name": "Python 3 (ipykernel)",
   "language": "python",
   "name": "python3"
  },
  "language_info": {
   "codemirror_mode": {
    "name": "ipython",
    "version": 3
   },
   "file_extension": ".py",
   "mimetype": "text/x-python",
   "name": "python",
   "nbconvert_exporter": "python",
   "pygments_lexer": "ipython3",
   "version": "3.8.13"
  }
 },
 "nbformat": 4,
 "nbformat_minor": 4
}
