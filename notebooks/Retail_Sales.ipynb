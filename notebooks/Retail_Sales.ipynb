{
 "cells": [
  {
   "cell_type": "code",
   "execution_count": 1,
   "metadata": {
    "ExecuteTime": {
     "end_time": "2022-02-05T15:57:11.463651Z",
     "start_time": "2022-02-05T15:57:10.806442Z"
    }
   },
   "outputs": [],
   "source": [
    "import sys\n",
    "sys.path.append('../src')\n",
    "\n",
    "import uschartbook.config\n",
    "\n",
    "from uschartbook.config import *\n",
    "from uschartbook.utils import *"
   ]
  },
  {
   "cell_type": "markdown",
   "metadata": {},
   "source": [
    "### Main Chart"
   ]
  },
  {
   "cell_type": "code",
   "execution_count": 2,
   "metadata": {
    "ExecuteTime": {
     "end_time": "2022-02-03T15:06:48.868749Z",
     "start_time": "2022-02-03T15:06:47.625250Z"
    }
   },
   "outputs": [],
   "source": [
    "# New orders for capital goods excluding defense or aircraft\n",
    "key = census_key\n",
    "base = 'https://api.census.gov/data/timeseries/eits/marts/'\n",
    "param = 'cell_value,time_slot_id,category_code'\n",
    "t = '&time=from+1992'\n",
    "dtc = '&data_type_code=SM'\n",
    "oth = '&for=us&seasonally_adj=yes'\n",
    "\n",
    "url = f'{base}?get={param}&key={key}{dtc}{t}{oth}'\n",
    "\n",
    "r = requests.get(url).json()"
   ]
  },
  {
   "cell_type": "code",
   "execution_count": 3,
   "metadata": {
    "ExecuteTime": {
     "end_time": "2022-02-03T15:06:49.005113Z",
     "start_time": "2022-02-03T15:06:48.869984Z"
    }
   },
   "outputs": [
    {
     "name": "stdout",
     "output_type": "stream",
     "text": [
      "According to the \\href{https://www.census.gov/retail/index.html}{Census Bureau}, retail and food service sales total \\$626.8 billion in December 2021, equivalent to 31.4 percent of GDP on an annualized basis. Over the past year, retail and food service sales increased by 16.9 percent, without adjusting for inflation (see {\\color{green!80!blue}\\textbf{---}}). Nonstore sales, which include online retailers, have increased by 10.7 percent over the same period, and total \\$82.6 billion, or 4.1 percent of GDP. \n"
     ]
    }
   ],
   "source": [
    "df = pd.DataFrame()\n",
    "for series in ['44000', '44X72', '44W72', '454']:\n",
    "    df[series] = pd.Series(\n",
    "        {pd.to_datetime(i[4]): \n",
    "         float(i[0]) for i in r[1:] if i[2] == series}\n",
    "    ).sort_index()\n",
    "    \n",
    "data = (df.pct_change(12) * 100).dropna()\n",
    "data['NS_3M'] = data['454'].rolling(3).mean()\n",
    "data.to_csv(data_dir / 'marts.csv', index_label='date', \n",
    "            float_format='%g')\n",
    "\n",
    "nsgr = data['454'].iloc[-1]\n",
    "totgr = data['44X72'].iloc[-1]\n",
    "date_ns = None if nsgr <= totgr else 'm'\n",
    "offset_ns = 0 if nsgr <= totgr else 0.4\n",
    "date_tot = None if totgr < nsgr else 'm'\n",
    "offset_tot = 0 if totgr < nsgr else 0.4\n",
    "diff = nsgr - totgr\n",
    "if abs(diff) < 5:\n",
    "    offset_ns = offset_ns*2 - 0.15\n",
    "    offset_tot = offset_tot*2 - 0.15\n",
    "\n",
    "node = end_node(data['NS_3M'], 'blue!70!black', percent=True, \n",
    "                date=date_ns, offset=offset_ns, full_year=True)\n",
    "write_txt(text_dir / 'rs_ns3m_node.txt', node)\n",
    "\n",
    "node = end_node(data['44X72'], 'green!80!blue', percent=True, \n",
    "                date=date_tot, offset=offset_tot, full_year=True)\n",
    "write_txt(text_dir / 'rs_44x72_node.txt', node)\n",
    "\n",
    "totval = df['44X72'].iloc[-1]\n",
    "gdp = nipa_df(retrieve_table('T10105')['Data'], ['A191RC'])\n",
    "shgdp = (totval * 12 / gdp.iloc[-1] * 100)[-1]\n",
    "datelt = df.index[-1].strftime('%B %Y')\n",
    "grtxt = inc_dec_percent(totgr)\n",
    "nsval = df['454'].iloc[-1]\n",
    "shgdp2 = (nsval * 12 / gdp.iloc[-1] * 100)[-1]\n",
    "grtxt2 = inc_dec_percent(nsgr)\n",
    "    \n",
    "text = ('According to the \\href{https://www.census.gov/retail/index.html}{Census Bureau}, '+\n",
    "        f'retail and food service sales total \\${totval/1000:,.1f} '+\n",
    "        f'billion in {datelt}, equivalent to {shgdp:.1f} percent '+\n",
    "        'of GDP on an annualized basis. Over the past year, retail and '+\n",
    "        f'food service sales {grtxt}, without adjusting for inflation '+\n",
    "        '(see {\\color{green!80!blue}\\\\textbf{---}}). Nonstore sales, which include '+\n",
    "        f'online retailers, have {grtxt2} over the same '+\n",
    "        f'period, and total \\${nsval/1000:,.1f} billion, or {shgdp2:.1f} percent of GDP. ')\n",
    "write_txt(text_dir / 'marts.txt', text)\n",
    "print(text)"
   ]
  },
  {
   "cell_type": "code",
   "execution_count": null,
   "metadata": {},
   "outputs": [],
   "source": []
  },
  {
   "cell_type": "code",
   "execution_count": null,
   "metadata": {},
   "outputs": [],
   "source": []
  },
  {
   "cell_type": "markdown",
   "metadata": {},
   "source": [
    "### By Type"
   ]
  },
  {
   "cell_type": "code",
   "execution_count": 4,
   "metadata": {
    "ExecuteTime": {
     "end_time": "2022-02-03T15:06:49.744987Z",
     "start_time": "2022-02-03T15:06:49.006228Z"
    }
   },
   "outputs": [],
   "source": [
    "key = census_key\n",
    "base = 'https://api.census.gov/data/timeseries/eits/marts/'\n",
    "param = 'cell_value,time_slot_id,category_code'\n",
    "t = '&time=from+1992'\n",
    "dtc = '&data_type_code=SM'\n",
    "oth = '&for=us&seasonally_adj=no'\n",
    "\n",
    "url = f'{base}?get={param}&key={key}{dtc}{t}{oth}'\n",
    "\n",
    "r = requests.get(url).json()"
   ]
  },
  {
   "cell_type": "code",
   "execution_count": 5,
   "metadata": {
    "ExecuteTime": {
     "end_time": "2022-02-03T15:06:50.068251Z",
     "start_time": "2022-02-03T15:06:49.745960Z"
    }
   },
   "outputs": [],
   "source": [
    "series_dict = {'441': 'Motor Vehicles \\& Parts', '442': 'Furniture \\& Home Furnishings', \n",
    "               '443': 'Electronics \\& Appliance', '444': 'Building \\& Garden Equipment', \n",
    "               '445': 'Food \\& Beverage Stores', '446': 'Health \\& Personal Care', \n",
    "               '447': 'Gasoline Stations', '448': 'Clothing and Accessories', \n",
    "               '451': 'Sports/Hobby/Music/Books', '452': 'General Merchandise', \n",
    "               '454': 'Nonstore', '722': 'Food Service \\& Drinking Places'}\n",
    "\n",
    "df = pd.DataFrame()\n",
    "for series in series_dict.keys():\n",
    "    df[series] = pd.Series(\n",
    "        {pd.to_datetime(i[4]): \n",
    "         float(i[0]) for i in r[1:] if i[2] == series}\n",
    "    ).sort_index()\n",
    "    \n",
    "dpi = (pd.read_csv(data_dir / 'nipa20600.csv', \n",
    "                   index_col='date', parse_dates=True)\n",
    "         .loc['1992':, 'A067RC'].rename('VALUE'))\n",
    "data = (df.multiply(12).divide(dpi, axis=0) * 100).dropna()\n",
    "results = (pd.concat([data.iloc[-25], data.iloc[-1]], axis=1)\n",
    "             .sort_values(data.dropna().index[-1], ascending=False))\n",
    "results.index = results.index.map(series_dict)\n",
    "ltmonth = dtxt(data.dropna().index[-1])['mon2']\n",
    "write_txt(text_dir / 'rs_mon1.txt', ltmonth)\n",
    "prmonth = dtxt(data.dropna().index[-25])['mon2']\n",
    "write_txt(text_dir / 'rs_mon2.txt', prmonth)\n",
    "results.round(2).to_csv(data_dir / 'rs_comp.csv', index_label='name')"
   ]
  },
  {
   "cell_type": "code",
   "execution_count": null,
   "metadata": {},
   "outputs": [],
   "source": []
  },
  {
   "cell_type": "code",
   "execution_count": null,
   "metadata": {},
   "outputs": [],
   "source": []
  },
  {
   "cell_type": "markdown",
   "metadata": {},
   "source": [
    "### Inventories to Sales Ratio (ISRATIO)"
   ]
  },
  {
   "cell_type": "code",
   "execution_count": 2,
   "metadata": {
    "ExecuteTime": {
     "end_time": "2022-02-05T15:57:17.333612Z",
     "start_time": "2022-02-05T15:57:14.391970Z"
    }
   },
   "outputs": [
    {
     "name": "stdout",
     "output_type": "stream",
     "text": [
      "In November 2021, the ratio of inventories to sales was 1.25, compared to 1.24 in October 2021, 1.35 in November 2020, and 1.42 in February 2020.\n",
      "\n",
      "The inflation-adjusted version from BEA shows inventories at 1.39 times sales in November 2021, following a ratio of 1.24 in October 2021, and 1.44 one year prior, in November 2020. In 2019, real monthly inventories were 1.51 times real monthly sales, on average. \n"
     ]
    }
   ],
   "source": [
    "# Nominal\n",
    "df = fred_df('ISRATIO')['VALUE']\n",
    "df.to_csv(data_dir / 'isratio.csv', index_label='date')\n",
    "\n",
    "# Real \n",
    "years = ','.join(map(str, range(1988, 2022)))\n",
    "url = (f'https://apps.bea.gov/api/data/?&UserID={bea_key}'+\n",
    "        '&method=GetData&datasetname=NIUnderlyingDetail&TableName=U003BU'+\n",
    "       f'&LineNumber=1&Frequency=M&Year={years}&ResultFormat=json')\n",
    "\n",
    "r = requests.get(url).json()\n",
    "\n",
    "data = r['BEAAPI']['Results']['Data']\n",
    "\n",
    "s1 = pd.read_csv('raw/real_isratio.csv')\n",
    "s1['Date'] = pd.to_datetime(s1['Date'])\n",
    "s1 = s1.set_index('Date')['Value'].sort_index()\n",
    "\n",
    "s2 = pd.Series({pd.to_datetime(i['TimePeriod'], format='%YM%m'): \n",
    "               i['DataValue'] for i in data if i['LineNumber'] == '1'}).astype(float)\n",
    "s2.index.name = 'Date'\n",
    "s2.name = 'Value'\n",
    "s2 = s2.sort_index()\n",
    "\n",
    "result = s1.append(s2)\n",
    "\n",
    "result.to_csv(data_dir / 'real_isratio.csv', index_label='date')\n",
    "\n",
    "# Text\n",
    "ltmon = dtxt(df.index[-1])['mon1']\n",
    "prmon = dtxt(df.index[-2])['mon1']\n",
    "prmon12 = dtxt(df.index[-13])['mon1']\n",
    "ltval = f'{df.iloc[-1]:.2f}'\n",
    "prval = f'{df.iloc[-2]:.2f}'\n",
    "prval12 = f'{df.iloc[-13]:.2f}'\n",
    "pcval = f'{df.loc[\"2020-02-01\"]}'\n",
    "lt2mon = dtxt(result.index[-1])['mon1']\n",
    "pr2mon = dtxt(result.index[-13])['mon1']\n",
    "lt2val = f'{result.iloc[-1]:.2f}'\n",
    "lt2val2 = f'{result.iloc[-13]:.2f}'\n",
    "rngval = f'{result.loc[\"2019\"].mean():.2f}'\n",
    "\n",
    "text = (f'In {ltmon}, the ratio of inventories to '+\n",
    "        f'sales was {ltval}, compared to {prval} in '+\n",
    "        f'{prmon}, {prval12} in {prmon12}, and {pcval} '+\n",
    "        'in February 2020.\\n\\nThe '+\n",
    "        'inflation-adjusted version from BEA shows '+\n",
    "        f'inventories at {lt2val} times sales in '+\n",
    "        f'{lt2mon}, following a ratio of {df.iloc[-2]:.2f} '+\n",
    "        f'in {dtxt(result.index[-2])[\"mon1\"]}, '+\n",
    "        f'and {lt2val2} one year prior, in {pr2mon}. '+\n",
    "        f'In 2019, real monthly inventories were {rngval} '+\n",
    "         'times real monthly sales, on average. ')\n",
    "write_txt(text_dir / 'isratio.txt', text)\n",
    "print(text)"
   ]
  },
  {
   "cell_type": "code",
   "execution_count": null,
   "metadata": {},
   "outputs": [],
   "source": []
  },
  {
   "cell_type": "code",
   "execution_count": null,
   "metadata": {},
   "outputs": [],
   "source": []
  }
 ],
 "metadata": {
  "kernelspec": {
   "display_name": "Python 3",
   "language": "python",
   "name": "python3"
  },
  "language_info": {
   "codemirror_mode": {
    "name": "ipython",
    "version": 3
   },
   "file_extension": ".py",
   "mimetype": "text/x-python",
   "name": "python",
   "nbconvert_exporter": "python",
   "pygments_lexer": "ipython3",
   "version": "3.8.8"
  }
 },
 "nbformat": 4,
 "nbformat_minor": 4
}
