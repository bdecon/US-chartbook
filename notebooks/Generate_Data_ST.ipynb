{
 "cells": [
  {
   "cell_type": "markdown",
   "metadata": {},
   "source": [
    "# Generate Data for Chartbook\n",
    "\n",
    "Brian Dew\n",
    "\n",
    "@bd_econ"
   ]
  },
  {
   "cell_type": "code",
   "execution_count": 1,
   "metadata": {},
   "outputs": [],
   "source": [
    "import sys\n",
    "sys.path.append('../src')\n",
    "\n",
    "import time\n",
    "\n",
    "import uschartbook.config\n",
    "\n",
    "from uschartbook.config import *\n",
    "from uschartbook.utils import *"
   ]
  },
  {
   "cell_type": "code",
   "execution_count": null,
   "metadata": {},
   "outputs": [],
   "source": []
  },
  {
   "cell_type": "markdown",
   "metadata": {},
   "source": [
    "### S&P 500 "
   ]
  },
  {
   "cell_type": "code",
   "execution_count": 2,
   "metadata": {},
   "outputs": [],
   "source": [
    "ltdate = int(time.time())\n",
    "\n",
    "url = ('https://query1.finance.yahoo.com/v7/finance/download/%5EGSPC?'+\n",
    "       f'period1=599616000&period2={ltdate}&interval=1d&events=history')\n",
    "\n",
    "df = pd.read_csv(url).set_index('Date')\n",
    "\n",
    "close = df['Adj Close']\n",
    "\n",
    "close.index = pd.to_datetime(close.index)\n",
    "\n",
    "final = close.resample('MS').mean().append(pd.Series({close.index[-1]: close[-1]}))\n",
    "final.name = 'GSPC'\n",
    "final.to_csv(data_dir / 'sp500.csv', index_label='date', float_format='%g') \n",
    "\n",
    "data = pd.DataFrame()\n",
    "data['GSPC'] = close.loc['2017':]\n",
    "data['MA'] = close.rolling(253).mean().loc['2017':]\n",
    "data.to_csv(data_dir / 'sp500_recent.csv', index_label='date', float_format='%g')"
   ]
  },
  {
   "cell_type": "code",
   "execution_count": 3,
   "metadata": {},
   "outputs": [
    {
     "data": {
      "text/plain": [
       "'The S\\\\&P 500 closed at 2762 on April 13, 2020. The index is currently 18.6 percent below its one-year high of 3394 on February 19, 2020, and 26.0 percent above its one-year low of 2192 on March 23, 2020. The average over the past year is 2987; the index is 7.5 percent below its one-year moving average (see {\\\\color{black!18!white}\\\\textbf{---}}).'"
      ]
     },
     "execution_count": 3,
     "metadata": {},
     "output_type": "execute_result"
    }
   ],
   "source": [
    "ltdate = dtxt(close.index[-1])['day1']\n",
    "ltval = close.iloc[-1]\n",
    "hival = df.High.iloc[-253:].max()\n",
    "chhi = (1 - ltval/hival) * 100\n",
    "hidt = dtxt(df.High.iloc[-253:].idxmax())['day1']\n",
    "loval = df.Low.iloc[-253:].min()\n",
    "chlo = abs((1 - ltval/loval) * 100)\n",
    "lodt = dtxt(df.Low.iloc[-253:].idxmin())['day1']\n",
    "avval = df['Adj Close'].iloc[-253:].mean()\n",
    "chav = (1 - ltval/avval) * 100\n",
    "chavabs = abs(chav)\n",
    "chtype = 'below' if chav > 0 else 'above'\n",
    "\n",
    "text = (f'The S\\&P 500 closed at {ltval:.0f} on {ltdate}. The index is currently '+\n",
    "        f'{chhi:.1f} percent below its one-year high of {hival:.0f} on {hidt}, and '+\n",
    "        f'{chlo:.1f} percent above its one-year low of {loval:.0f} on {lodt}. The '+\n",
    "        f'average over the past year is {avval:.0f}; the index is {chavabs:.1f} percent '+\n",
    "        f'{chtype} its one-year moving average '+\n",
    "         '(see {\\color{black!18!white}\\\\textbf{---}}).')\n",
    "\n",
    "write_txt(text_dir / 'sp500.txt', text)\n",
    "\n",
    "text"
   ]
  },
  {
   "cell_type": "code",
   "execution_count": null,
   "metadata": {},
   "outputs": [],
   "source": []
  },
  {
   "cell_type": "code",
   "execution_count": null,
   "metadata": {},
   "outputs": [],
   "source": []
  },
  {
   "cell_type": "markdown",
   "metadata": {},
   "source": [
    "### Interest rates"
   ]
  },
  {
   "cell_type": "code",
   "execution_count": 9,
   "metadata": {},
   "outputs": [
    {
     "name": "stdout",
     "output_type": "stream",
     "text": [
      "As of April 9, 2020, the constant maturity yield for a ten-year Treasury bond (see {\\color{red!70!purple!90!black}\\textbf{---}}) is 0.73 percent, compared to 2.53 percent one year prior. The yield for a two-year Treasury (see {\\color{orange!80!yellow}\\textbf{---}}) is 0.23 percent, compared to 2.34 percent a year prior.\n"
     ]
    },
    {
     "data": {
      "text/plain": [
       "'The effective fed funds rate (see {\\\\color{blue!60!black}\\\\textbf{---}}) is 0.05 percent, as of April 9, 2020.'"
      ]
     },
     "execution_count": 9,
     "metadata": {},
     "output_type": "execute_result"
    }
   ],
   "source": [
    "base = 'https://www.federalreserve.gov/datadownload/Output.aspx?'\n",
    "srs = 'rel=H15&series=398c5ba6279c57e57055c6a65c95e9d3&lastobs=&'\n",
    "dt = 'from=01/01/1989&to=12/31/2020&'\n",
    "oth = 'filetype=csv&label=include&layout=seriescolumn'\n",
    "url = base + srs + dt + oth\n",
    "\n",
    "d = {\n",
    "    'RIFLGFCY10_N.B': 'Ten-year',\n",
    "    'RIFSPFF_N.B': 'Fed Funds',\n",
    "    'RIFLGFCM03_N.B': 'Three-month',\n",
    "    'RIFLGFCY02_N.B': 'Two-year'\n",
    "}\n",
    "\n",
    "df = pd.read_csv(url, skiprows=5, index_col=0)[d.keys()].rename(d, axis=1)\n",
    "\n",
    "df.index = pd.to_datetime(df.index)\n",
    "\n",
    "df = df[df['Ten-year'] != 'ND']\n",
    "\n",
    "data = (df[df['Ten-year'] != 'ND'].astype('float')\n",
    "        .resample('M').mean().iloc[:-1]\n",
    "        .append(df.iloc[-1]))\n",
    "\n",
    "data.to_csv(data_dir / 'rates.csv', index_label='date', float_format='%g')\n",
    "\n",
    "ldate = dtxt(data.index[-1])['day1']\n",
    "tenlt = data['Ten-year'].iloc[-1]\n",
    "tenpr = data['Ten-year'].iloc[-13]\n",
    "twolt = data['Two-year'].iloc[-1]\n",
    "twopr = data['Two-year'].iloc[-13]\n",
    "\n",
    "text = (f'As of {ldate}, the constant maturity yield for a ten-year '+\n",
    "        'Treasury bond (see {\\color{red!70!purple!90!black}\\\\textbf{---}}) '+\n",
    "        f'is {tenlt} percent, compared to {tenpr:.2f} percent one year prior. '+\n",
    "        'The yield for a two-year Treasury (see {\\color{orange!80!yellow}\\\\textbf{---}}) '\n",
    "        +f'is {twolt} percent, compared to {twopr:.2f} '+\n",
    "        f'percent a year prior.')\n",
    "\n",
    "write_txt(text_dir / 'rates_basic.txt', text)\n",
    "\n",
    "print(text)\n",
    "\n",
    "text = ('The effective fed funds rate (see {\\color{blue!60!black}\\\\textbf{---}}) '+\n",
    "        f'is {data[\"Fed Funds\"].iloc[-1]} percent, as of {ldate}.')\n",
    "\n",
    "write_txt(text_dir / 'rates_ff.txt', text)\n",
    "\n",
    "text"
   ]
  },
  {
   "cell_type": "code",
   "execution_count": null,
   "metadata": {},
   "outputs": [],
   "source": []
  },
  {
   "cell_type": "code",
   "execution_count": null,
   "metadata": {},
   "outputs": [],
   "source": []
  },
  {
   "cell_type": "markdown",
   "metadata": {},
   "source": [
    "### Spread"
   ]
  },
  {
   "cell_type": "code",
   "execution_count": 10,
   "metadata": {},
   "outputs": [
    {
     "data": {
      "text/plain": [
       "'As of April 9, 2020, the spread between a 10-year treasury bond and a three-month treasury bill is 0.48 percentage points (see {\\\\color{cyan!60!blue}\\\\textbf{---}}), compared to 0.09 percentage points one year prior. The spread between 10-year and 2-year treasuries (see {\\\\color{orange}\\\\textbf{---}}) was 0.50 percentage points on April 9, 2020, and 0.16 percentage points one year prior.'"
      ]
     },
     "execution_count": 10,
     "metadata": {},
     "output_type": "execute_result"
    }
   ],
   "source": [
    "data = df[df['Ten-year'] != 'ND'].astype('float')\n",
    "spread = pd.DataFrame()\n",
    "spread['Ten-3M'] = data['Ten-year'] - data['Three-month']\n",
    "spread['Ten-2Y'] = data['Ten-year'] - data['Two-year']\n",
    "spread.loc['2012':].to_csv(data_dir / 'spread.csv', index_label='date', float_format='%g', header=True)\n",
    "\n",
    "node = end_node(spread['Ten-3M'], 'cyan!60!blue').replace('\\\\%', '')\n",
    "write_txt(text_dir / 'spread_node.txt', node)\n",
    "\n",
    "node = end_node(spread['Ten-2Y'], 'orange').replace('\\\\%', '')\n",
    "write_txt(text_dir / 'spread_node2.txt', node)\n",
    "\n",
    "lt3 = spread['Ten-3M'].iloc[-1]\n",
    "pr3 = spread['Ten-3M'].iloc[-252]\n",
    "lt2 = spread['Ten-2Y'].iloc[-1]\n",
    "pr2 = spread['Ten-2Y'].iloc[-252]\n",
    "\n",
    "text = (f'As of {ldate}, the spread between a 10-year treasury bond and '+\n",
    "        f'a three-month treasury bill is {lt3:.2f} percentage points '+\n",
    "        '(see {\\color{cyan!60!blue}\\\\textbf{---}}), compared to '+\n",
    "        f'{pr3:.2f} percentage points one year prior. The spread between 10-year '+\n",
    "        'and 2-year treasuries (see {\\color{orange}\\\\textbf{---}}) '+\n",
    "        f'was {lt2:.2f} percentage points on {ldate}, and '+\n",
    "        f'{pr2:.2f} percentage points one year prior.')\n",
    "\n",
    "write_txt(text_dir / 'spread_basic.txt', text)\n",
    "\n",
    "text"
   ]
  },
  {
   "cell_type": "code",
   "execution_count": null,
   "metadata": {},
   "outputs": [],
   "source": []
  },
  {
   "cell_type": "code",
   "execution_count": null,
   "metadata": {},
   "outputs": [],
   "source": []
  },
  {
   "cell_type": "code",
   "execution_count": null,
   "metadata": {},
   "outputs": [],
   "source": []
  },
  {
   "cell_type": "markdown",
   "metadata": {},
   "source": [
    "### Fed Balance Sheet"
   ]
  },
  {
   "cell_type": "code",
   "execution_count": 11,
   "metadata": {},
   "outputs": [],
   "source": [
    "base = 'https://www.federalreserve.gov/datadownload/Output.aspx?'\n",
    "srs = 'rel=H41&series=38d757c01cb3b550176f371352643679&lastobs=&'\n",
    "dt = 'from=01/01/2002&to=12/31/2020&'\n",
    "oth = 'filetype=csv&label=include&layout=seriescolumn'\n",
    "url = base + srs + dt + oth\n",
    "\n",
    "raw_data = pd.read_csv(url)\n",
    "\n",
    "d = {v: re.sub(\"\\s+[\\(\\[].*?[\\)\\]]\", \"\", i.split(';')[0]) \n",
    "     for i, v in raw_data.iloc[4, 1:].iteritems()}\n",
    "\n",
    "date_column = raw_data.loc[5:, 'Series Description']\n",
    "date_index = pd.to_datetime(date_column).rename('Date')\n",
    "columns = raw_data.iloc[4, 1:].values\n",
    "    \n",
    "clean_data = raw_data.iloc[5:, 1:].replace('ND', np.nan).astype('float')\n",
    "clean_data.index = date_index\n",
    "clean_data.columns = columns\n",
    "\n",
    "clean_data = clean_data / 1_000_000\n",
    "\n",
    "clean_data.to_csv(data_dir / 'fed_assets.csv', index_label='date', float_format='%g')"
   ]
  },
  {
   "cell_type": "code",
   "execution_count": 12,
   "metadata": {},
   "outputs": [
    {
     "name": "stdout",
     "output_type": "stream",
     "text": [
      "Balance sheet normalization ended in September 2019 when the Fed increased operations in overnight and term repurchase agreement (repo) markets, following a sharp increase in rates in these markets. The Fed balance sheet increased to \\$4.1 trillion by December 2019. More recently, in response to worsening financial conditions, the Fed began to purchase commercial bonds and to offer currency swaps with major US trading partners. The Fed balance sheet increased from \\$4.2 trillion in February 2020 to \\$6.1 trillion, as of the latest data, covering April 8, 2020. Fed total assets increased by \\$272 billion over the previous week value.\n"
     ]
    }
   ],
   "source": [
    "ltval = clean_data['RESPPMA_N.WW'].iloc[-1].round(1)\n",
    "ltdate = dtxt(clean_data.index[-1])['day1']\n",
    "n = (clean_data.iloc[-1] - clean_data.iloc[-2])['RESPPMA_N.WW'] * 1000\n",
    "chval = (f'increased by \\${abs(n):.0f} billion' if n >= 10 \n",
    "         else f'decreased by \\${abs(n):.0f} billion' \n",
    "         if n <= -10 else 'was largely unchanged')\n",
    "\n",
    "text = ('In response to the collapse of the housing bubble, the Fed purchased '+\n",
    "        'U.S. Treasury bonds and mortgage-backed securities. Total assets held by '+\n",
    "        'the Federal Reserve (see {\\color{blue!80!black}\\\\textbf{---}}) '+\n",
    "        'increased from \\$0.9 trillion in August 2008 to '+\n",
    "        '\\$2.2 trillion in November 2008. Additional rounds of asset purchases, '+\n",
    "        'referred to as quantitative easing, increased the balance sheet to '+\n",
    "        '\\$4.5 trillion by January 2014. As bonds mature they were replaced '+\n",
    "        'until October 2017, when the Fed allowed the size of its balance '+\n",
    "        'sheet to normalize. Total assets fell below \\$3.8 trillion in August 2019.')\n",
    "\n",
    "write_txt(text_dir / 'fed_assets1.txt', text)\n",
    "        \n",
    "        \n",
    "txt2 = ('Balance sheet normalization ended in September 2019 when the Fed increased '+\n",
    "        'operations in overnight and term repurchase agreement (repo) markets, following '+\n",
    "        'a sharp increase in rates in these markets. The Fed balance sheet '+\n",
    "        'increased to \\$4.1 trillion by December 2019. More recently, in response to '+\n",
    "        'worsening financial conditions, the Fed began to purchase commercial bonds '+\n",
    "        'and to offer currency swaps with major US trading partners. '+\n",
    "        'The Fed balance sheet increased from \\$4.2 trillion in February 2020 to '+\n",
    "        f'\\${ltval} trillion, as of the latest data, covering {ltdate}. Fed total assets '+\n",
    "        f'{chval} over the previous week value.')\n",
    "\n",
    "write_txt(text_dir / 'fed_assets2.txt', txt2)\n",
    "\n",
    "print(txt2)"
   ]
  },
  {
   "cell_type": "code",
   "execution_count": null,
   "metadata": {},
   "outputs": [],
   "source": []
  },
  {
   "cell_type": "code",
   "execution_count": null,
   "metadata": {},
   "outputs": [],
   "source": []
  },
  {
   "cell_type": "markdown",
   "metadata": {},
   "source": [
    "### Exchange rates"
   ]
  },
  {
   "cell_type": "code",
   "execution_count": 13,
   "metadata": {},
   "outputs": [
    {
     "data": {
      "text/plain": [
       "'The latest index value, as of April 10, 2020, is 122.4, an increase of 22.4 percent since inception in 2006. Over the past three years, the index value has averaged 114.1, compared to an average of 107.5 over the previous three-year period.'"
      ]
     },
     "execution_count": 13,
     "metadata": {},
     "output_type": "execute_result"
    }
   ],
   "source": [
    "base = 'https://www.federalreserve.gov/datadownload/Output.aspx?'\n",
    "srs = 'rel=H10&series=ad1712193ad5bad7b424e3ae5eb101a5&lastobs=&'\n",
    "dt = 'from=01/01/1989&to=12/31/2020&'\n",
    "oth = 'filetype=csv&label=include&layout=seriescolumn'\n",
    "url = base + srs + dt + oth\n",
    "\n",
    "raw_data = pd.read_csv(url)\n",
    "\n",
    "d = {v: re.sub(\"\\s+[\\(\\[].*?[\\)\\]]\", \"\", i.split(';')[0]) \n",
    "     for i, v in raw_data.iloc[4, 1:].iteritems()}\n",
    "\n",
    "date_column = raw_data.loc[5:, 'Series Description']\n",
    "date_index = pd.to_datetime(date_column).rename('Date')\n",
    "columns = raw_data.iloc[4, 1:].values\n",
    "    \n",
    "clean_data = raw_data.iloc[5:, 1:].replace('ND', np.nan).astype('float')\n",
    "clean_data.index = date_index\n",
    "clean_data.columns = columns\n",
    "\n",
    "clean_data['RXI_N.B.EU'] = 1 / clean_data['RXI$US_N.B.EU'] \n",
    "clean_data['RXI_N.B.UK'] = 1 / clean_data['RXI$US_N.B.UK'] \n",
    "clean_data['RXI_N.B.JA'] = clean_data['RXI_N.B.JA'] / 100.0\n",
    "\n",
    "latest = clean_data.iloc[-1]\n",
    "major = ['RXI_N.B.EU', 'RXI_N.B.UK', 'RXI_N.B.CA', 'RXI_N.B.JA']\n",
    "oth = ['RXI_N.B.MX', 'RXI_N.B.BZ', 'RXI_N.B.CH', 'RXI_N.B.SD']\n",
    "twidx = clean_data.resample('MS').mean().append(latest)['JRXWTFB_N.B'].dropna()\n",
    "clean_data.resample('MS').mean().append(latest)[major].to_csv(data_dir / 'fx1.csv', index_label='date', float_format='%g')\n",
    "clean_data.resample('MS').mean().append(latest)[oth].to_csv(data_dir / 'fx2.csv', index_label='date', float_format='%g')\n",
    "twidx.to_csv(data_dir / 'fx_idx.csv', index_label='date', float_format='%g', header=True)\n",
    "\n",
    "ldate = dtxt(twidx.index[-1])['day1']\n",
    "lval = twidx.iloc[-1]\n",
    "totch = ((lval / 100) - 1) * 100\n",
    "threeyr = twidx.iloc[-38:].mean()\n",
    "prev3yr = twidx.iloc[-74:-38].mean()\n",
    "\n",
    "text = (f'The latest index value, as of {ldate}, is {lval:.1f}, an increase '+\n",
    "        f'of {totch:.1f} percent since inception in 2006. Over the past three years, '+\n",
    "        f'the index value has averaged {threeyr:.1f}, compared to an average '+\n",
    "        f'of {prev3yr:.1f} over the previous three-year period.')\n",
    "\n",
    "write_txt(text_dir / 'twdbasic.txt', text)\n",
    "\n",
    "text"
   ]
  },
  {
   "cell_type": "code",
   "execution_count": 14,
   "metadata": {},
   "outputs": [
    {
     "data": {
      "text/plain": [
       "'As of April 10, 2020, one US dollar buys approximately: 1.40 Canadian dollars (see {\\\\color{green!85!blue}\\\\textbf{---}}), 108 Japanese Yen (see {\\\\color{red}\\\\textbf{---}}), 0.91 Euros (see {\\\\color{cyan!90!white}\\\\textbf{---}}), and 0.80 British Pounds (see {\\\\color{blue!90!cyan}\\\\textbf{---}}). Over the past three years, the nominal exchange rate between the US dollar and the Canadian dollar increased by 4.8 percent, the USD-JPY rate decreased by 2.3 percent, the USD-EUR rate increased by 2.9 percent, and the USD-GBP rate increased by 4.9 percent.'"
      ]
     },
     "execution_count": 14,
     "metadata": {},
     "output_type": "execute_result"
    }
   ],
   "source": [
    "cad = clean_data.loc[ldate, 'RXI_N.B.CA']\n",
    "jpy = clean_data.loc[ldate, 'RXI_N.B.JA'] * 100\n",
    "eur = clean_data.loc[ldate, 'RXI_N.B.EU']\n",
    "gbp = clean_data.loc[ldate, 'RXI_N.B.UK']\n",
    "cadpc = inc_dec_percent(clean_data['RXI_N.B.CA'].pct_change(262).iloc[-1] * 100)\n",
    "jpypc = inc_dec_percent(clean_data['RXI_N.B.JA'].pct_change(262).iloc[-1] * 100)\n",
    "gbppc = inc_dec_percent(clean_data['RXI_N.B.UK'].pct_change(262).iloc[-1] * 100)\n",
    "eurpc = inc_dec_percent(clean_data['RXI_N.B.EU'].pct_change(262).iloc[-1] * 100)\n",
    "\n",
    "\n",
    "text = (f'As of {ldate}, one US dollar buys approximately: {cad:.2f} Canadian dollars '+\n",
    "        f'(see {{\\color{{green!85!blue}}\\\\textbf{{---}}}}), {jpy:.0f} Japanese Yen '+\n",
    "        f'(see {{\\color{{red}}\\\\textbf{{---}}}}), {eur:.2f} Euros '+\n",
    "        f'(see {{\\color{{cyan!90!white}}\\\\textbf{{---}}}}), and {gbp:.2f} British Pounds '+\n",
    "         '(see {\\color{blue!90!cyan}\\\\textbf{---}}). Over the past three years, the nominal '+\n",
    "        f'exchange rate between the US dollar and the Canadian dollar {cadpc}, the USD-JPY rate '+\n",
    "        f'{jpypc}, the USD-EUR rate {eurpc}, and the USD-GBP rate {gbppc}.')\n",
    "\n",
    "write_txt(text_dir / 'selcurr_basic.txt', text)\n",
    "\n",
    "text"
   ]
  },
  {
   "cell_type": "code",
   "execution_count": null,
   "metadata": {},
   "outputs": [],
   "source": []
  },
  {
   "cell_type": "code",
   "execution_count": null,
   "metadata": {},
   "outputs": [],
   "source": []
  },
  {
   "cell_type": "markdown",
   "metadata": {},
   "source": [
    "### Initial jobless claims"
   ]
  },
  {
   "cell_type": "code",
   "execution_count": 15,
   "metadata": {},
   "outputs": [
    {
     "data": {
      "text/plain": [
       "'The Department of Labor \\\\href{{https://www.dol.gov/ui/data.pdf}}{{reported}} 6,203,359 actual new claims for unemployment insurance during the week ending April 4, 2020, a one-week increase of 187,500. Over the past four weeks, new claims have averaged 3,847,700 per week. During the same four-week period last year, there were an average of 191,100 new claims per week.'"
      ]
     },
     "execution_count": 15,
     "metadata": {},
     "output_type": "execute_result"
    }
   ],
   "source": [
    "series = 'ICNSA'\n",
    "start = '1988-01-01'\n",
    "base = 'https://api.stlouisfed.org/fred/series/observations?'\n",
    "param = f'series_id={series}&observation_start={start}&api_key={fred_key}'\n",
    "ftype = '&file_type=json'\n",
    "\n",
    "url = f'{base}{param}{ftype}'\n",
    "r = requests.get(url).json()['observations']\n",
    "data = pd.DataFrame(pd.Series({i['date']: int(i['value']) / 1000 \n",
    "                               for i in r}).rename('weekly'))\n",
    "\n",
    "data['1M'] = data['weekly'].rolling(4).mean()\n",
    "\n",
    "data.to_csv(data_dir / 'icsa.csv', index_label='date', float_format='%g')\n",
    "\n",
    "totval = data['weekly'].iloc[-1]*1000\n",
    "datelt = dtxt(data.index[-1])['day1']\n",
    "latest1m = data[\"1M\"].iloc[-1]*1000\n",
    "prev1m = data[\"1M\"].iloc[-53]*1000\n",
    "\n",
    "chval = totval - data['weekly'].iloc[-2]*1000\n",
    "chtxt = f'{round(abs(chval),-2):,.0f}'\n",
    "if chval > 1000:\n",
    "    change = f'a one-week increase of {chtxt}'\n",
    "elif chval < -1000:\n",
    "    change = f'a one-week decrease of {chtxt}'\n",
    "else:\n",
    "    change = 'virtually unchanged from the previous week'\n",
    "\n",
    "text = ('The Department of Labor \\href{{https://www.dol.gov/ui/data.pdf}}{{reported}} '+\n",
    "        f'{totval:,.0f} actual new claims for unemployment '+\n",
    "        f'insurance during the week ending {datelt}, {change}. Over the past four weeks, '+\n",
    "        f'new claims have averaged {round(latest1m,-2):,.0f} per week. During the same four-'+\n",
    "        f'week period last year, there were an average of {round(prev1m,-2):,.0f} new claims per week.')\n",
    "\n",
    "write_txt(text_dir / 'icsa.txt', text)\n",
    "\n",
    "text"
   ]
  },
  {
   "cell_type": "code",
   "execution_count": null,
   "metadata": {},
   "outputs": [],
   "source": []
  },
  {
   "cell_type": "code",
   "execution_count": null,
   "metadata": {},
   "outputs": [],
   "source": []
  },
  {
   "cell_type": "markdown",
   "metadata": {},
   "source": [
    "### VIX (SP500 volatility)"
   ]
  },
  {
   "cell_type": "code",
   "execution_count": 16,
   "metadata": {},
   "outputs": [
    {
     "data": {
      "text/plain": [
       "'This volatility measure, the VIX index (see {\\\\color{magenta}\\\\textbf{---}}), was 41.2 on April 13, 2020, substantially above the average index value of 17.6 over the past three years.'"
      ]
     },
     "execution_count": 16,
     "metadata": {},
     "output_type": "execute_result"
    }
   ],
   "source": [
    "prev = pd.read_excel(data_dir/ 'vixarchive.xls', skiprows=1, index_col='Date')\n",
    "VIX = 'http://www.cboe.com/publish/scheduledtask/mktdata/datahouse/vixcurrent.csv'\n",
    "curr = pd.read_csv(VIX, skiprows=1, index_col='Date', parse_dates=True)\n",
    "df = (prev.append(curr)['VIX Close'].resample('MS').mean()\n",
    "      .append(curr['VIX Close'].iloc[-1:]).rename('value'))\n",
    "df.to_csv(data_dir / 'vix.csv', index_label='date', header='True')\n",
    "\n",
    "ldate = dtxt(df.index[-1])['day1']\n",
    "vallt = df.iloc[-1]\n",
    "val3y = df.iloc[-37:].mean()\n",
    "\n",
    "compare = compare_text(vallt, val3y, [3, 15, 30])\n",
    "\n",
    "text = ('This volatility measure, the VIX index (see {\\color{magenta}\\\\textbf{---}}), '+\n",
    "        f'was {vallt:.1f} on {ldate}, '+\n",
    "        f'{compare} the average index value of {val3y:.1f} over the '+\n",
    "        'past three years.')\n",
    "\n",
    "write_txt(text_dir / 'vixbasic.txt', text)\n",
    "\n",
    "text"
   ]
  },
  {
   "cell_type": "code",
   "execution_count": null,
   "metadata": {},
   "outputs": [],
   "source": []
  },
  {
   "cell_type": "code",
   "execution_count": null,
   "metadata": {},
   "outputs": [],
   "source": []
  },
  {
   "cell_type": "markdown",
   "metadata": {},
   "source": [
    "### Oil prices (WTI)"
   ]
  },
  {
   "cell_type": "code",
   "execution_count": 17,
   "metadata": {},
   "outputs": [
    {
     "data": {
      "text/plain": [
       "'As of April 6, 2020, a barrel of west Texas intermediate (WTI) \\\\textbf{crude oil} sells for \\\\$26.21 (see {\\\\color{red!80!purple}\\\\textbf{---}}). Over the past year, this measure of oil prices has decreased by 59.0 percent. Over the past three years, the price decreased by 48.7 percent. Currently, the WTI price is \\\\$107.67 per barrel below its June 2008 average.'"
      ]
     },
     "execution_count": 17,
     "metadata": {},
     "output_type": "execute_result"
    }
   ],
   "source": [
    "df = fred_df('DCOILWTICO')\n",
    "\n",
    "latest = df.iloc[-1]\n",
    "\n",
    "ma = df.resample('MS').mean()\n",
    "\n",
    "p = ma.append(latest)['VALUE']\n",
    "\n",
    "(p.to_csv(data_dir / 'wti.csv', index_label='date', header=True))\n",
    "\n",
    "oneyr = p.pct_change(13).iloc[-1] * 100\n",
    "\n",
    "threeyr = p.pct_change(37).iloc[-1] * 100\n",
    "\n",
    "oyt = inc_dec_percent(oneyr)\n",
    "tyt = inc_dec_percent(threeyr)\n",
    "    \n",
    "ltch = p.loc['2008-06-01'] - p.iloc[-1]\n",
    "\n",
    "ldate = dtxt(p.index[-1])['day1']\n",
    "\n",
    "text = (f'As of {ldate}, a barrel of west Texas '+\n",
    "        f'intermediate (WTI) \\\\textbf{{crude oil}} sells for \\${p.iloc[-1]:.2f} '+\n",
    "        '(see {\\color{red!80!purple}\\\\textbf{---}}). Over the past '+\n",
    "        f'year, this measure of oil prices has {oyt}. Over the past three years, '+\n",
    "        f'the price {tyt}. Currently, the WTI price is \\${ltch:.2f} per barrel '+\n",
    "        'below its June 2008 average.')\n",
    "\n",
    "write_txt(text_dir / 'wti.txt', text)\n",
    "\n",
    "text"
   ]
  },
  {
   "cell_type": "code",
   "execution_count": null,
   "metadata": {},
   "outputs": [],
   "source": []
  },
  {
   "cell_type": "code",
   "execution_count": null,
   "metadata": {},
   "outputs": [],
   "source": []
  },
  {
   "cell_type": "markdown",
   "metadata": {},
   "source": [
    "### Inflation Expectations"
   ]
  },
  {
   "cell_type": "code",
   "execution_count": 18,
   "metadata": {},
   "outputs": [],
   "source": [
    "url = 'http://www.sca.isr.umich.edu/files/tbmpx1px5.csv'\n",
    "df = pd.read_csv(url)\n",
    "df.index = pd.to_datetime(df['Month'] + ' ' + df['YYYY'].astype('str'))\n",
    "data = df['PX5_MD'].loc['2015':]\n",
    "\n",
    "data.to_csv(data_dir / 'infumich.csv', index_label='date', header='VALUE')\n",
    "\n",
    "node = end_node(data, 'violet')\n",
    "write_txt(text_dir / 'infumich_node.txt', node)\n",
    "\n",
    "data1 = fred_df('T5YIE').loc['2015':,'VALUE']\n",
    "data1.to_csv(data_dir / 'infbreak.csv', index_label='date', header=True)\n",
    "\n",
    "node = end_node(data1, 'blue!70!black')\n",
    "write_txt(text_dir / 'infbreak_node.txt', node)"
   ]
  },
  {
   "cell_type": "code",
   "execution_count": 19,
   "metadata": {},
   "outputs": [
    {
     "data": {
      "text/plain": [
       "'As of March 2020, consumers expect an average inflation rate of 2.3 percent over the next five years, (see {\\\\color{violet!60!magenta}\\\\textbf{---}}), compared to an expected rate of 2.5 percent in March 2019. Consumers had expected inflation to average 2.8 percent over the past five years, while actual inflation over the period was 1.7 percent.'"
      ]
     },
     "execution_count": 19,
     "metadata": {},
     "output_type": "execute_result"
    }
   ],
   "source": [
    "ldate = dtxt(data.index[-1])['mon1']\n",
    "pdate = dtxt(data.index[-13])['mon1']\n",
    "p5val = data.iloc[-61]\n",
    "lval = data.iloc[-1]\n",
    "pval = data.iloc[-13]\n",
    "\n",
    "ldatem = dtxt(data1.index[-1])['day1']\n",
    "lvalm = data1.iloc[-1]\n",
    "pdatem = dtxt(data1.index[-262])['day1']\n",
    "pvalm = data1.iloc[-262]\n",
    "p5valm = data1.iloc[-(262*5)]\n",
    "\n",
    "inf_act = pd.read_csv(data_dir / 'cpi.csv')['ALL'].iloc[-60:].mean()\n",
    "\n",
    "text = (f'As of {ldate}, consumers expect an average inflation rate of {lval} '+\n",
    "        'percent over the next five years, (see {\\color{violet!60!magenta}\\\\textbf{---}}), '+\n",
    "        f'compared to an expected rate of {pval} percent '+\n",
    "        f'in {pdate}. Consumers had expected inflation to average {p5val} percent over the past '+\n",
    "        f'five years, while actual inflation over the period was {inf_act:.1f} percent.')\n",
    "\n",
    "write_txt(text_dir / 'inf_exp_cons.txt', text)\n",
    "\n",
    "text"
   ]
  },
  {
   "cell_type": "code",
   "execution_count": 20,
   "metadata": {},
   "outputs": [
    {
     "data": {
      "text/plain": [
       "'As of April 13, 2020, markets expect an average inflation rate of 0.94 percent over the next five years (see {\\\\color{blue!70!black}\\\\textbf{---}}), compared to an expected rate of 1.86 percent on April 12, 2019. Markets had expected inflation to average 1.6 percent over the past five years, five years ago.'"
      ]
     },
     "execution_count": 20,
     "metadata": {},
     "output_type": "execute_result"
    }
   ],
   "source": [
    "text2 = (f'As of {ldatem}, markets expect an average inflation rate of {lvalm} percent ' + \n",
    "         'over the next five years (see {\\color{blue!70!black}\\\\textbf{---}}), '\n",
    "         +f'compared to an expected rate of {pvalm} percent on '+\n",
    "         f'{pdatem}. Markets had expected inflation to average {p5valm} percent over the '+\n",
    "         f'past five years, five years ago.')\n",
    "\n",
    "write_txt(text_dir / 'inf_exp_mkts.txt', text2)\n",
    "\n",
    "text2"
   ]
  },
  {
   "cell_type": "code",
   "execution_count": null,
   "metadata": {},
   "outputs": [],
   "source": []
  },
  {
   "cell_type": "code",
   "execution_count": null,
   "metadata": {},
   "outputs": [],
   "source": []
  }
 ],
 "metadata": {
  "kernelspec": {
   "display_name": "Python 3",
   "language": "python",
   "name": "python3"
  },
  "language_info": {
   "codemirror_mode": {
    "name": "ipython",
    "version": 3
   },
   "file_extension": ".py",
   "mimetype": "text/x-python",
   "name": "python",
   "nbconvert_exporter": "python",
   "pygments_lexer": "ipython3",
   "version": "3.8.2"
  }
 },
 "nbformat": 4,
 "nbformat_minor": 2
}
