{
 "cells": [
  {
   "cell_type": "markdown",
   "metadata": {},
   "source": [
    "# Generate Data for Chartbook\n",
    "\n",
    "Brian Dew\n",
    "\n",
    "@bd_econ"
   ]
  },
  {
   "cell_type": "code",
   "execution_count": 1,
   "metadata": {},
   "outputs": [],
   "source": [
    "import sys\n",
    "import json\n",
    "sys.path.append('../src')\n",
    "\n",
    "import requests\n",
    "from io import StringIO\n",
    "import time\n",
    "\n",
    "import uschartbook.config\n",
    "\n",
    "from uschartbook.config import *\n",
    "from uschartbook.utils import *"
   ]
  },
  {
   "cell_type": "code",
   "execution_count": null,
   "metadata": {},
   "outputs": [],
   "source": []
  },
  {
   "cell_type": "markdown",
   "metadata": {},
   "source": [
    "### S&P 500 "
   ]
  },
  {
   "cell_type": "markdown",
   "metadata": {},
   "source": [
    "tickers = ['^GSPC']\n",
    "start = '820454400'\n",
    "base = 'https://finance.yahoo.com/quote/'\n",
    "base2 = 'https://query1.finance.yahoo.com/v7/finance/download/'\n",
    "end = int(time.time())\n",
    "dates = '?period1={}&period2={}'.format(start, end)\n",
    "param = '&interval=1d&filter=history&frequency=1d'\n",
    "\n",
    "d = {}\n",
    "for t in tickers:\n",
    "    url = '{}{}/history{}{}'.format(base, t, dates, param)\n",
    "    s = requests.Session()\n",
    "    r = s.get(url)\n",
    "    regex = '\"CrumbStore\":{\"crumb\":\"(.+?)\"},'\n",
    "    pattern = re.compile(regex)\n",
    "    crumb = re.findall(pattern, r.text)[0]\n",
    "    param2 = '{}{}&interval=1d&events=history&crumb={}/Q'.format(\n",
    "        t, dates, crumb)\n",
    "    url2 = '{}{}'.format(base2, param2)\n",
    "    data = s.post(url2)\n",
    "    csv = StringIO(data.text)\n",
    "    d[t[1:]] = pd.read_table(csv, sep=',',\n",
    "                             parse_dates=['Date']).set_index('Date')['Adj Close']\n",
    "df = pd.DataFrame(d)\n",
    "final = df.resample('MS').mean().append(df.iloc[-1])\n",
    "\n",
    "final.to_csv(data_dir / 'sp500.csv', index_label='date', float_format='%g')"
   ]
  },
  {
   "cell_type": "code",
   "execution_count": null,
   "metadata": {},
   "outputs": [],
   "source": []
  },
  {
   "cell_type": "code",
   "execution_count": null,
   "metadata": {},
   "outputs": [],
   "source": []
  },
  {
   "cell_type": "markdown",
   "metadata": {},
   "source": [
    "### Interest rates"
   ]
  },
  {
   "cell_type": "code",
   "execution_count": 2,
   "metadata": {},
   "outputs": [
    {
     "name": "stdout",
     "output_type": "stream",
     "text": [
      "As of March 12, 2020, the constant maturity yield for a ten-year Treasury bond (see {\\color{red!70!purple!90!black}\\textbf{---}}) is 0.88 percent, compared to 2.57 percent one-year prior. The yield for a two-year Treasury (see {\\color{orange!80!yellow}\\textbf{---}}) is 0.50 percent, compared to 2.41 percent a year prior.\n"
     ]
    },
    {
     "data": {
      "text/plain": [
       "'The effective fed funds (see {\\\\color{blue!60!black}\\\\textbf{---}}) rate is 1.10 percent, as of March 12, 2020.'"
      ]
     },
     "execution_count": 2,
     "metadata": {},
     "output_type": "execute_result"
    }
   ],
   "source": [
    "base = 'https://www.federalreserve.gov/datadownload/Output.aspx?'\n",
    "srs = 'rel=H15&series=398c5ba6279c57e57055c6a65c95e9d3&lastobs=&'\n",
    "dt = 'from=01/01/1989&to=12/31/2020&'\n",
    "oth = 'filetype=csv&label=include&layout=seriescolumn'\n",
    "url = base + srs + dt + oth\n",
    "\n",
    "d = {\n",
    "    'RIFLGFCY10_N.B': 'Ten-year',\n",
    "    'RIFSPFF_N.B': 'Fed Funds',\n",
    "    'RIFLGFCM03_N.B': 'Three-month',\n",
    "    'RIFLGFCY02_N.B': 'Two-year'\n",
    "}\n",
    "\n",
    "df = pd.read_csv(url, skiprows=5, index_col=0)[d.keys()].rename(d, axis=1)\n",
    "\n",
    "df.index = pd.to_datetime(df.index)\n",
    "\n",
    "data = (df[df['Ten-year'] != 'ND'].astype('float')\n",
    "        .resample('M').mean().iloc[:-1]\n",
    "        .append(df.iloc[-1]))\n",
    "\n",
    "data.to_csv(data_dir / 'rates.csv', index_label='date', float_format='%g')\n",
    "\n",
    "ldate = dtxt(data.index[-1])['day1']\n",
    "tenlt = data['Ten-year'].iloc[-1]\n",
    "tenpr = data['Ten-year'].iloc[-13]\n",
    "twolt = data['Two-year'].iloc[-1]\n",
    "twopr = data['Two-year'].iloc[-13]\n",
    "\n",
    "text = (f'As of {ldate}, the constant maturity yield for a ten-year '+\n",
    "        'Treasury bond (see {\\color{red!70!purple!90!black}\\\\textbf{---}}) '+\n",
    "        f'is {tenlt} percent, compared to {tenpr:.2f} percent one-year prior. '+\n",
    "        'The yield for a two-year Treasury (see {\\color{orange!80!yellow}\\\\textbf{---}}) '\n",
    "        +f'is {twolt} percent, compared to {twopr:.2f} '+\n",
    "        f'percent a year prior.')\n",
    "\n",
    "write_txt(text_dir / 'rates_basic.txt', text)\n",
    "\n",
    "print(text)\n",
    "\n",
    "text = ('The effective fed funds (see {\\color{blue!60!black}\\\\textbf{---}}) '+\n",
    "        f'rate is {data[\"Fed Funds\"].iloc[-1]} percent, as of {ldate}.')\n",
    "\n",
    "write_txt(text_dir / 'rates_ff.txt', text)\n",
    "\n",
    "text"
   ]
  },
  {
   "cell_type": "code",
   "execution_count": null,
   "metadata": {},
   "outputs": [],
   "source": []
  },
  {
   "cell_type": "code",
   "execution_count": null,
   "metadata": {},
   "outputs": [],
   "source": []
  },
  {
   "cell_type": "markdown",
   "metadata": {},
   "source": [
    "### Spread"
   ]
  },
  {
   "cell_type": "code",
   "execution_count": 23,
   "metadata": {},
   "outputs": [],
   "source": [
    "data = df[df['Ten-year'] != 'ND'].astype('float')\n",
    "spread = data['Ten-year'] - data['Three-month']\n",
    "spread.name = 'Value'\n",
    "spread.loc['2012':].to_csv(data_dir / 'spread.csv', index_label='date', float_format='%g', header=True)"
   ]
  },
  {
   "cell_type": "code",
   "execution_count": 27,
   "metadata": {},
   "outputs": [],
   "source": [
    "node = end_node(spread, 'cyan!60!blue').replace('\\\\%', '')\n",
    "write_txt(text_dir / 'spread_node.txt', node)"
   ]
  },
  {
   "cell_type": "code",
   "execution_count": null,
   "metadata": {},
   "outputs": [],
   "source": []
  },
  {
   "cell_type": "code",
   "execution_count": null,
   "metadata": {},
   "outputs": [],
   "source": []
  },
  {
   "cell_type": "markdown",
   "metadata": {},
   "source": [
    "### Exchange rates"
   ]
  },
  {
   "cell_type": "code",
   "execution_count": 3,
   "metadata": {},
   "outputs": [
    {
     "data": {
      "text/plain": [
       "'The latest index value, as of March 6, 2020, is 116.9, thus an increase of 16.9 percent since inception in 2006. Over the past three years, the index value has averaged 113.6, compared to an average of 106.9 over the previous three year period.'"
      ]
     },
     "execution_count": 3,
     "metadata": {},
     "output_type": "execute_result"
    }
   ],
   "source": [
    "base = 'https://www.federalreserve.gov/datadownload/Output.aspx?'\n",
    "srs = 'rel=H10&series=ad1712193ad5bad7b424e3ae5eb101a5&lastobs=&'\n",
    "dt = 'from=01/01/1989&to=12/31/2020&'\n",
    "oth = 'filetype=csv&label=include&layout=seriescolumn'\n",
    "url = base + srs + dt + oth\n",
    "\n",
    "raw_data = pd.read_csv(url)\n",
    "\n",
    "d = {v: re.sub(\"\\s+[\\(\\[].*?[\\)\\]]\", \"\", i.split(';')[0]) \n",
    "     for i, v in raw_data.iloc[4, 1:].iteritems()}\n",
    "\n",
    "date_column = raw_data.loc[5:, 'Series Description']\n",
    "date_index = pd.to_datetime(date_column).rename('Date')\n",
    "columns = raw_data.iloc[4, 1:].values\n",
    "    \n",
    "clean_data = raw_data.iloc[5:, 1:].replace('ND', np.nan).astype('float')\n",
    "clean_data.index = date_index\n",
    "clean_data.columns = columns\n",
    "\n",
    "clean_data['RXI_N.B.EU'] = 1 / clean_data['RXI$US_N.B.EU'] \n",
    "clean_data['RXI_N.B.UK'] = 1 / clean_data['RXI$US_N.B.UK'] \n",
    "clean_data['RXI_N.B.JA'] = clean_data['RXI_N.B.JA'] / 100.0\n",
    "\n",
    "latest = clean_data.iloc[-1]\n",
    "major = ['RXI_N.B.EU', 'RXI_N.B.UK', 'RXI_N.B.CA', 'RXI_N.B.JA']\n",
    "oth = ['RXI_N.B.MX', 'RXI_N.B.BZ', 'RXI_N.B.CH', 'RXI_N.B.SD']\n",
    "twidx = clean_data.resample('MS').mean().append(latest)['JRXWTFB_N.B'].dropna()\n",
    "clean_data.resample('MS').mean().append(latest)[major].to_csv(data_dir / 'fx1.csv', index_label='date', float_format='%g')\n",
    "clean_data.resample('MS').mean().append(latest)[oth].to_csv(data_dir / 'fx2.csv', index_label='date', float_format='%g')\n",
    "twidx.to_csv(data_dir / 'fx_idx.csv', index_label='date', float_format='%g', header=True)\n",
    "\n",
    "ldate = dtxt(twidx.index[-1])['day1']\n",
    "lval = twidx.iloc[-1]\n",
    "totch = ((lval / 100) - 1) * 100\n",
    "threeyr = twidx.iloc[-38:].mean()\n",
    "prev3yr = twidx.iloc[-74:-38].mean()\n",
    "\n",
    "text = (f'The latest index value, as of {ldate}, is {lval:.1f}, thus an increase '+\n",
    "        f'of {totch:.1f} percent since inception in 2006. Over the past three years, '+\n",
    "        f'the index value has averaged {threeyr:.1f}, compared to an average '+\n",
    "        f'of {prev3yr:.1f} over the previous three year period.')\n",
    "\n",
    "write_txt(text_dir / 'twdbasic.txt', text)\n",
    "\n",
    "text"
   ]
  },
  {
   "cell_type": "code",
   "execution_count": null,
   "metadata": {},
   "outputs": [],
   "source": []
  },
  {
   "cell_type": "code",
   "execution_count": 4,
   "metadata": {},
   "outputs": [
    {
     "data": {
      "text/plain": [
       "'As of March 6, 2020, one US dollar buys approximately: 1.34 Canadian dollars (see {\\\\color{green!85!blue}\\\\textbf{---}}), 105 Japanese Yen (see {\\\\color{red}\\\\textbf{---}}), 0.88 Euros (see {\\\\color{cyan!90!white}\\\\textbf{---}}), and 0.77 British Pounds (see {\\\\color{blue!90!cyan}\\\\textbf{---}}). Over the past three years, the nominal exchange rate between the US dollar and the Canadian dollar decreased by 0.2 percent, the USD-JPY rate decreased by 5.7 percent, the USD-EUR rate was virtually unchanged, and the USD-GBP rate increased by 1.1 percent.'"
      ]
     },
     "execution_count": 4,
     "metadata": {},
     "output_type": "execute_result"
    }
   ],
   "source": [
    "cad = clean_data.loc[ldate, 'RXI_N.B.CA']\n",
    "jpy = clean_data.loc[ldate, 'RXI_N.B.JA'] * 100\n",
    "eur = clean_data.loc[ldate, 'RXI_N.B.EU']\n",
    "gbp = clean_data.loc[ldate, 'RXI_N.B.UK']\n",
    "cadpc = inc_dec_percent(clean_data['RXI_N.B.CA'].pct_change(262).iloc[-1] * 100)\n",
    "jpypc = inc_dec_percent(clean_data['RXI_N.B.JA'].pct_change(262).iloc[-1] * 100)\n",
    "gbppc = inc_dec_percent(clean_data['RXI_N.B.UK'].pct_change(262).iloc[-1] * 100)\n",
    "eurpc = inc_dec_percent(clean_data['RXI_N.B.EU'].pct_change(262).iloc[-1] * 100)\n",
    "\n",
    "\n",
    "text = (f'As of {ldate}, one US dollar buys approximately: {cad:.2f} Canadian dollars '+\n",
    "        f'(see {{\\color{{green!85!blue}}\\\\textbf{{---}}}}), {jpy:.0f} Japanese Yen '+\n",
    "        f'(see {{\\color{{red}}\\\\textbf{{---}}}}), {eur:.2f} Euros '+\n",
    "        f'(see {{\\color{{cyan!90!white}}\\\\textbf{{---}}}}), and {gbp:.2f} British Pounds '+\n",
    "         '(see {\\color{blue!90!cyan}\\\\textbf{---}}). Over the past three years, the nominal '+\n",
    "        f'exchange rate between the US dollar and the Canadian dollar {cadpc}, the USD-JPY rate '+\n",
    "        f'{jpypc}, the USD-EUR rate {eurpc}, and the USD-GBP rate {gbppc}.')\n",
    "\n",
    "write_txt(text_dir / 'selcurr_basic.txt', text)\n",
    "\n",
    "text"
   ]
  },
  {
   "cell_type": "code",
   "execution_count": null,
   "metadata": {},
   "outputs": [],
   "source": []
  },
  {
   "cell_type": "code",
   "execution_count": null,
   "metadata": {},
   "outputs": [],
   "source": []
  },
  {
   "cell_type": "markdown",
   "metadata": {},
   "source": [
    "### Initial jobless claims"
   ]
  },
  {
   "cell_type": "code",
   "execution_count": 5,
   "metadata": {},
   "outputs": [
    {
     "data": {
      "text/plain": [
       "'March 7, 2020'"
      ]
     },
     "execution_count": 5,
     "metadata": {},
     "output_type": "execute_result"
    }
   ],
   "source": [
    "series = 'ICSA'\n",
    "start = '1988-01-01'\n",
    "base = 'https://api.stlouisfed.org/fred/series/observations?'\n",
    "param = f'series_id={series}&observation_start={start}&api_key={fred_key}'\n",
    "ftype = '&file_type=json'\n",
    "\n",
    "url = f'{base}{param}{ftype}'\n",
    "r = requests.get(url).json()['observations']\n",
    "data = pd.DataFrame(pd.Series({i['date']: int(i['value']) / 1000 \n",
    "                               for i in r}).rename('weekly'))\n",
    "\n",
    "data['3M'] = data['weekly'].rolling(12).mean()\n",
    "\n",
    "data.to_csv(data_dir / 'icsa.csv', index_label='date', float_format='%g')\n",
    "\n",
    "totval = data['weekly'].iloc[-1]*1000\n",
    "datelt = dtxt(data.index[-1])['day1']\n",
    "latest3m = data[\"3M\"].iloc[-1]*1000\n",
    "prev3m = data[\"3M\"].iloc[-157]*1000\n",
    "\n",
    "text = ('The Department of Labor \\href{{https://www.dol.gov/ui/data.pdf}}{{reported}} '+\n",
    "        f'{totval:,.0f} initial claims for unemployment '+\n",
    "        f'insurance during the week ending {datelt}. Over the past three months, '+\n",
    "        f'initial claims averaged {latest3m:,.0f} per week. During the same three month period '+\n",
    "        f'three years ago, initial claims averaged {prev3m:,.0f} per week.')\n",
    "\n",
    "write_txt(text_dir / 'icsa.txt', text)\n",
    "\n",
    "datelt"
   ]
  },
  {
   "cell_type": "code",
   "execution_count": null,
   "metadata": {},
   "outputs": [],
   "source": []
  },
  {
   "cell_type": "code",
   "execution_count": null,
   "metadata": {},
   "outputs": [],
   "source": []
  },
  {
   "cell_type": "markdown",
   "metadata": {},
   "source": [
    "### VIX (SP500 volatility)"
   ]
  },
  {
   "cell_type": "code",
   "execution_count": 6,
   "metadata": {},
   "outputs": [
    {
     "data": {
      "text/plain": [
       "'This volatility measure, VIX, was 57.8 on March 13, 2020, compared to an average of 16.8 over the past three years.'"
      ]
     },
     "execution_count": 6,
     "metadata": {},
     "output_type": "execute_result"
    }
   ],
   "source": [
    "prev = pd.read_excel(data_dir/ 'vixarchive.xls', skiprows=1, index_col='Date')\n",
    "VIX = 'http://www.cboe.com/publish/scheduledtask/mktdata/datahouse/vixcurrent.csv'\n",
    "curr = pd.read_csv(VIX, skiprows=1, index_col='Date', parse_dates=True)\n",
    "df = (prev.append(curr)['VIX Close'].resample('MS').mean()\n",
    "      .append(curr['VIX Close'].iloc[-1:]).rename('value'))\n",
    "df.to_csv(data_dir / 'vix.csv', index_label='date', header='True')\n",
    "\n",
    "ldate = dtxt(df.index[-1])['day1']\n",
    "\n",
    "text = (f'This volatility measure, VIX, was {df.iloc[-1]:.1f} on {ldate}, '+\n",
    "        f'compared to an average of {df.iloc[-37:].mean():.1f} over the '+\n",
    "        'past three years.')\n",
    "\n",
    "write_txt(text_dir / 'vixbasic.txt', text)\n",
    "\n",
    "text"
   ]
  },
  {
   "cell_type": "code",
   "execution_count": null,
   "metadata": {},
   "outputs": [],
   "source": []
  },
  {
   "cell_type": "code",
   "execution_count": null,
   "metadata": {},
   "outputs": [],
   "source": []
  },
  {
   "cell_type": "markdown",
   "metadata": {},
   "source": [
    "### Oil prices (WTI)"
   ]
  },
  {
   "cell_type": "code",
   "execution_count": 7,
   "metadata": {},
   "outputs": [
    {
     "data": {
      "text/plain": [
       "'As of March 6, 2020, a barrel of west Texas intermediate (WTI) \\textbf{crude oil} sells for \\\\$41.14. Over the past year, this measure of oil prices has decreased by 29.3 percent. Over the past three years, the price decreased by 16.6 percent. Currently, the WTI price is \\\\$92.74 per barrel below its June 2008 average.'"
      ]
     },
     "execution_count": 7,
     "metadata": {},
     "output_type": "execute_result"
    }
   ],
   "source": [
    "df = fred_df('DCOILWTICO')\n",
    "\n",
    "latest = df.iloc[-1]\n",
    "\n",
    "ma = df.resample('MS').mean()\n",
    "\n",
    "p = ma.append(latest)['VALUE']\n",
    "\n",
    "(p.to_csv(data_dir / 'wti.csv', index_label='date', header=True))\n",
    "\n",
    "oneyr = p.pct_change(13).iloc[-1] * 100\n",
    "\n",
    "threeyr = p.pct_change(37).iloc[-1] * 100\n",
    "\n",
    "oyt = inc_dec_percent(oneyr)\n",
    "tyt = inc_dec_percent(threeyr)\n",
    "    \n",
    "ltch = p.loc['2008-06-01'] - p.iloc[-1]\n",
    "\n",
    "ldate = dtxt(p.index[-1])['day1']\n",
    "\n",
    "text = (f'As of {ldate}, a barrel of west Texas '+\n",
    "        f'intermediate (WTI) \\textbf{{crude oil}} sells for \\${p.iloc[-1]}. Over the '+\n",
    "        f'past year, this measure of oil prices has {oyt}. Over the past three '+\n",
    "        f'years, the price {tyt}. Currently, the WTI price is \\${ltch:.2f} per barrel '+\n",
    "        'below its June 2008 average.')\n",
    "\n",
    "write_txt(text_dir / 'wti.txt', text)\n",
    "\n",
    "text"
   ]
  },
  {
   "cell_type": "code",
   "execution_count": null,
   "metadata": {},
   "outputs": [],
   "source": []
  },
  {
   "cell_type": "code",
   "execution_count": null,
   "metadata": {},
   "outputs": [],
   "source": []
  },
  {
   "cell_type": "markdown",
   "metadata": {},
   "source": [
    "### Inflation Expectations"
   ]
  },
  {
   "cell_type": "code",
   "execution_count": 8,
   "metadata": {},
   "outputs": [],
   "source": [
    "url = 'http://www.sca.isr.umich.edu/files/tbmpx1px5.csv'\n",
    "df = pd.read_csv(url)\n",
    "df.index = pd.to_datetime(df['Month'] + ' ' + df['YYYY'].astype('str'))\n",
    "data = df['PX5_MD'].loc['2015':]\n",
    "\n",
    "data.to_csv(data_dir / 'infumich.csv', index_label='date', header='VALUE')\n",
    "\n",
    "node = end_node(data, 'violet')\n",
    "write_txt(text_dir / 'infumich_node.txt', node)\n",
    "\n",
    "data1 = fred_df('T5YIE').loc['2015':,'VALUE']\n",
    "data1.to_csv(data_dir / 'infbreak.csv', index_label='date', header=True)\n",
    "\n",
    "node = end_node(data1, 'blue!70!black')\n",
    "write_txt(text_dir / 'infbreak_node.txt', node)"
   ]
  },
  {
   "cell_type": "code",
   "execution_count": 9,
   "metadata": {},
   "outputs": [
    {
     "data": {
      "text/plain": [
       "'As of February 2020, consumers expect an average inflation rate of 2.3 percent over the next five years, (see {\\\\color{violet!60!magenta}\\\\textbf{---}}), compared to an expected rate of 2.3 percent on February 2019. Consumers had expected inflation to average 2.7 percent over the past five years, while actual inflation over the period was 1.6 percent.'"
      ]
     },
     "execution_count": 9,
     "metadata": {},
     "output_type": "execute_result"
    }
   ],
   "source": [
    "ldate = dtxt(data.index[-1])['mon1']\n",
    "pdate = dtxt(data.index[-13])['mon1']\n",
    "p5val = data.iloc[-61]\n",
    "lval = data.iloc[-1]\n",
    "pval = data.iloc[-13]\n",
    "\n",
    "ldatem = dtxt(data1.index[-1])['day1']\n",
    "lvalm = data1.iloc[-1]\n",
    "pdatem = dtxt(data1.index[-262])['day1']\n",
    "pvalm = data1.iloc[-262]\n",
    "p5valm = data1.iloc[-(262*5)]\n",
    "\n",
    "inf_act = pd.read_csv(data_dir / 'cpi.csv')['ALL'].iloc[-60:].mean()\n",
    "\n",
    "text = (f'As of {ldate}, consumers expect an average inflation rate of {lval} '+\n",
    "        'percent over the next five years, (see {\\color{violet!60!magenta}\\\\textbf{---}}), '+\n",
    "        f'compared to an expected rate of {pval} percent '+\n",
    "        f'on {pdate}. Consumers had expected inflation to average {p5val} percent over the past '+\n",
    "        f'five years, while actual inflation over the period was {inf_act:.1f} percent.')\n",
    "\n",
    "write_txt(text_dir / 'inf_exp_cons.txt', text)\n",
    "\n",
    "text"
   ]
  },
  {
   "cell_type": "code",
   "execution_count": 10,
   "metadata": {},
   "outputs": [
    {
     "data": {
      "text/plain": [
       "'As of March 13, 2020, markets expect an average inflation rate of 2.3 percent over the next five years (see {\\\\color{blue!70!black}\\\\textbf{---}}), compared to an expected rate of 1.85 percent on March 14, 2019. Markets had expected inflation to average 1.47 over the past five years, five years ago.'"
      ]
     },
     "execution_count": 10,
     "metadata": {},
     "output_type": "execute_result"
    }
   ],
   "source": [
    "text2 = (f'As of {ldatem}, markets expect an average inflation rate of {lval} percent ' + \n",
    "         'over the next five years (see {\\color{blue!70!black}\\\\textbf{---}}), '\n",
    "         +f'compared to an expected rate of {pvalm} percent on '+\n",
    "         f'{pdatem}. Markets had expected inflation to average {p5valm} over the past five '+\n",
    "         f'years, five years ago.')\n",
    "\n",
    "write_txt(text_dir / 'inf_exp_mkts.txt', text2)\n",
    "\n",
    "text2"
   ]
  },
  {
   "cell_type": "code",
   "execution_count": null,
   "metadata": {},
   "outputs": [],
   "source": []
  },
  {
   "cell_type": "code",
   "execution_count": null,
   "metadata": {},
   "outputs": [],
   "source": []
  }
 ],
 "metadata": {
  "kernelspec": {
   "display_name": "Python 3",
   "language": "python",
   "name": "python3"
  },
  "language_info": {
   "codemirror_mode": {
    "name": "ipython",
    "version": 3
   },
   "file_extension": ".py",
   "mimetype": "text/x-python",
   "name": "python",
   "nbconvert_exporter": "python",
   "pygments_lexer": "ipython3",
   "version": "3.8.2"
  }
 },
 "nbformat": 4,
 "nbformat_minor": 2
}
