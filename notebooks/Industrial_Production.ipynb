{
 "cells": [
  {
   "cell_type": "markdown",
   "metadata": {},
   "source": [
    "### Industrial Production"
   ]
  },
  {
   "cell_type": "code",
   "execution_count": 1,
   "metadata": {
    "ExecuteTime": {
     "end_time": "2021-11-19T04:34:01.020199Z",
     "start_time": "2021-11-19T04:34:00.331667Z"
    }
   },
   "outputs": [],
   "source": [
    "import sys\n",
    "sys.path.append('../src')\n",
    "\n",
    "import uschartbook.config\n",
    "\n",
    "from uschartbook.config import *\n",
    "from uschartbook.utils import *"
   ]
  },
  {
   "cell_type": "code",
   "execution_count": 2,
   "metadata": {
    "ExecuteTime": {
     "end_time": "2021-11-19T04:34:11.518979Z",
     "start_time": "2021-11-19T04:34:01.021269Z"
    }
   },
   "outputs": [
    {
     "name": "stdout",
     "output_type": "stream",
     "text": [
      "Latest:  October 2021\n"
     ]
    }
   ],
   "source": [
    "url_base = 'https://www.federalreserve.gov/datadownload/Output.aspx?rel=G17'\n",
    "dates = 'from=01/01/1988&to=12/31/2021'\n",
    "series = 'series=f97ad3652d87a6c1720943c31423103a'\n",
    "settings = 'filetype=csv&label=include&layout=seriescolumn'\n",
    "url = f'{url_base}&{series}&lastobs=&{dates}&{settings}'\n",
    "\n",
    "d, data = clean_fed_data(url)\n",
    "\n",
    "data = data.rename(d, axis=1)\n",
    "\n",
    "(data.loc['1989':, ['Manufacturing', 'Total index']]\n",
    " .to_csv(data_dir / 'indpro.csv', index_label='date', float_format='%g'))\n",
    "\n",
    "print('Latest: ', dtxt(data.index[-1])['mon1'])"
   ]
  },
  {
   "cell_type": "code",
   "execution_count": 3,
   "metadata": {
    "ExecuteTime": {
     "end_time": "2021-11-19T04:34:13.720744Z",
     "start_time": "2021-11-19T04:34:11.520398Z"
    }
   },
   "outputs": [],
   "source": [
    "# Retrieve weights\n",
    "adj_series_dict = {k[3:-2]: v for k, v in d.items()}\n",
    "series = adj_series_dict.keys()\n",
    "url = 'https://www.federalreserve.gov/releases/g17/ipdisk/ipweights_sa.txt'\n",
    "columns = ['Series', 'Year', 'January', 'February', 'March', \n",
    "          'April', 'May', 'June', 'July', 'August', \n",
    "          'September', 'October', 'November', 'December']\n",
    "raw_weights = pd.read_csv(url, sep='\\s+', skiprows=1)\n",
    "raw_weights.columns = columns\n",
    "weights = (raw_weights[raw_weights['Series'].isin(series)]\n",
    "           .set_index(['Series', 'Year']).stack().reset_index())\n",
    "weights['Date'] = (pd.to_datetime(weights['level_2'] + ' 01, ' \n",
    "                + weights['Year'].astype('int').astype('str')))\n",
    "weights = (weights.set_index(['Series', 'Date'])[0]\n",
    "           .unstack().T.rename(adj_series_dict, axis=1)\n",
    "           .loc['1988':])\n",
    "\n",
    "weights['ENS'] = weights['Equipment, total'] + weights['Nonindustrial supplies']"
   ]
  },
  {
   "cell_type": "code",
   "execution_count": 4,
   "metadata": {
    "ExecuteTime": {
     "end_time": "2021-11-19T04:34:13.730936Z",
     "start_time": "2021-11-19T04:34:13.721856Z"
    }
   },
   "outputs": [],
   "source": [
    "# Apply calculations\n",
    "growth = data.pct_change(12).dropna() * 100\n",
    "growth['ENS'] = ((growth['Equipment, total'] * (weights['Equipment, total'] / weights['ENS']))\n",
    "                 + (growth['Nonindustrial supplies'] * (weights['Nonindustrial supplies'] / weights['ENS'])))\n",
    "contrib = growth / 100 * weights.iloc[12:]"
   ]
  },
  {
   "cell_type": "code",
   "execution_count": 5,
   "metadata": {
    "ExecuteTime": {
     "end_time": "2021-11-19T04:34:13.736425Z",
     "start_time": "2021-11-19T04:34:13.731891Z"
    }
   },
   "outputs": [],
   "source": [
    "ltmonth = dtxt(data.index[-1])['mon1']\n",
    "prmonth = dtxt(data.index[-2])['mon1']\n",
    "tot = inc_dec_percent(growth['Total index'].iloc[-1])\n",
    "prtot = inc_dec_percent(growth['Total index'].iloc[-2], 'of')\n",
    "man = growth['Manufacturing'].iloc[-1]\n",
    "manu = cont_subt(contrib['Manufacturing'].iloc[-1], digits=1)\n",
    "mining = cont_subt(contrib['Mining'].iloc[-1], digits=1)\n",
    "egu = cont_subt(contrib['Electric and gas utilities'].iloc[-1], 'end', 1)\n",
    "\n",
    "cg = cont_subt(contrib['Consumer goods'].iloc[-1], digits=1)\n",
    "eq = cont_subt(contrib['Equipment, total'].iloc[-1], 'end', 1)\n",
    "nes = cont_subt(contrib['Nonindustrial supplies'].iloc[-1], 'end', 1)\n",
    "mat = cont_subt(contrib['Materials'].iloc[-1], 'end', 1)"
   ]
  },
  {
   "cell_type": "code",
   "execution_count": 6,
   "metadata": {
    "ExecuteTime": {
     "end_time": "2021-11-19T04:34:13.751393Z",
     "start_time": "2021-11-19T04:34:13.737356Z"
    }
   },
   "outputs": [
    {
     "name": "stdout",
     "output_type": "stream",
     "text": [
      "A monthly index produced by the Federal Reserve \\href{https://www.federalreserve.gov/releases/g17/Current/default.htm}{shows} industrial production increased by 5.1 percent over the year ending October 2021, following an increase of 4.6 percent over the year ending September 2021. One-year growth in manufacturing production was 4.5 percent in October 2021, and manufacturing contributed 3.3 percentage points to the overall change in industrial production. Over the same period, mining contributed 1.7 percentage points to the overall change, and electric and gas utilities contributed 0.4 percentage point. \n",
      "\n",
      "By market group, production of consumer goods contributed 0.7 percentage point to one-year industrial production growth in October 2021. Production of business equipment contributed 1.3 percentage points, production of nonindustrial supplies contributed 0.6 percentage point, and production of materials contributed 2.6 percentage points.\n"
     ]
    }
   ],
   "source": [
    "text = ('A monthly index produced by the Federal Reserve '+\n",
    "        '\\href{https://www.federalreserve.gov/releases/g17/Current/default.htm}{shows}'+\n",
    "        f' industrial production {tot} over the year ending {ltmonth}, '+\n",
    "        f'following {prtot} over the year ending {prmonth}. '+\n",
    "        f'One-year growth in manufacturing production was {man:.1f} '+\n",
    "        f'percent in {ltmonth}, and manufacturing {manu} the '+\n",
    "        'overall change in industrial production. Over the same period, '+\n",
    "        f'mining {mining} the overall change, and electric and gas '+\n",
    "        f'utilities {egu}. \\n\\n'+\n",
    "        f'By market group, production of consumer goods {cg} '+\n",
    "        f'one-year industrial production growth in {ltmonth}. Production of '+\n",
    "        f'business equipment {eq}, production of nonindustrial supplies {nes}, '+\n",
    "        f'and production of materials {mat}.')\n",
    "\n",
    "write_txt(text_dir / 'indpro.txt', text)\n",
    "\n",
    "print(text)"
   ]
  },
  {
   "cell_type": "code",
   "execution_count": 7,
   "metadata": {
    "ExecuteTime": {
     "end_time": "2021-11-19T04:34:13.766620Z",
     "start_time": "2021-11-19T04:34:13.755906Z"
    }
   },
   "outputs": [],
   "source": [
    "date_latest = dtxt(data.index[-1])['datetime']\n",
    "month_short = data.index[-1].strftime('%b')\n",
    "\n",
    "text_full = ('\\\\noindent \\hspace*{-2mm} \\\\begin{tikzpicture}'+\n",
    "'\\\\begin{axis}[\\\\bbar{y}{0}, \\dateaxisticks ytick={60, 80, 100}, '+\n",
    "'enlarge y limits={0.05}, enlarge x limits={0}, legend cell align={left},'+\n",
    "'yticklabel style={text width=1.0em}, '+\n",
    "'xtick={{1989-01-01}, {1995-01-01}, {2000-01-01}, {2005-01-01}, '+\n",
    "f'{{2010-01-01}}, {{2015-01-01}}, {{2020-01-01}}, {{{date_latest}}}}},'+\n",
    "f'xticklabels={{`89, `95, `00, `05, `10, `15, ,{month_short}}}, '+\n",
    "'minor xtick={}, '+\n",
    "'clip=false, height=5.4cm, width=6.8cm,'+\n",
    "'legend style={fill=white, legend columns=1, at={(1.02, 0.33)}}]'+\n",
    "'\\\\rbars'+\n",
    "'\\\\thinline{red}{date}{Manufacturing}{data/indpro.csv}'+\n",
    "'\\\\thinline{blue!90!black}{date}{Total index}{data/indpro.csv}'+\n",
    "'\\legend{Manufacturing, Total Index};'+\n",
    "'\\end{axis}'+\n",
    "'\\end{tikzpicture}\\\\')\n",
    "\n",
    "write_txt(text_dir / 'ip_main_line.tex', text_full)"
   ]
  },
  {
   "cell_type": "code",
   "execution_count": 8,
   "metadata": {
    "ExecuteTime": {
     "end_time": "2021-11-19T04:34:13.816448Z",
     "start_time": "2021-11-19T04:34:13.772750Z"
    }
   },
   "outputs": [],
   "source": [
    "srs = ['Consumer goods', 'ENS', 'Materials', 'Durable manufacturing', \n",
    "       'Mining', 'Nondurable manufacturing', 'Electric and gas utilities']\n",
    "\n",
    "(contrib[srs].resample('QS').mean()\n",
    "     .to_csv(data_dir / 'indprogr.csv', index_label='date', float_format='%g'))\n",
    "\n",
    "(contrib.loc['2015':, srs].to_csv(data_dir / 'indprogr_rec.csv', \n",
    "                                       index_label='date', float_format='%g'))"
   ]
  },
  {
   "cell_type": "code",
   "execution_count": 9,
   "metadata": {
    "ExecuteTime": {
     "end_time": "2021-11-19T04:34:13.824063Z",
     "start_time": "2021-11-19T04:34:13.818696Z"
    }
   },
   "outputs": [],
   "source": [
    "date_latest = data.index[-1].strftime('%Y-%m-%d')\n",
    "month_short = data.index[-1].strftime('%b')\n",
    "\n",
    "text = ('yticklabel style={text width=1.5em},'+\n",
    "        'xtick={{2015-01-01}, {2016-01-01}, {2017-01-01}, '+\n",
    "        '{2018-01-01}, {2019-01-01}, {2020-01-01}, {2021-01-01}, '+\n",
    "        f'{{{date_latest}}}}}, '+\n",
    "        f'xticklabels={{`15, `16, `17, `18, `19, `20, ,{month_short}}}')\n",
    "\n",
    "text_full = ('\\\\noindent \\hspace*{-2mm} \\\\begin{tikzpicture}'+\n",
    "' \\\\begin{axis}[\\\\bbar{y}{0}, \\dateaxisticks ytick={-15, -10, -5, 0, 5, 10, 15}, '+\n",
    "' clip=false, width=6.65cm, height=5.5cm, yticklabel style={text width=1.28em}, '+\n",
    "text + \n",
    "', minor xtick={}, enlarge y limits=0.08, '+\n",
    "' enlarge x limits={0.005}]'+\n",
    "' \\\\ctsbar{violet!60!black}{date}{Consumer goods}{data/indprogr_rec.csv}{2.2pt}'+\n",
    "' \\\\ctsbar{magenta}{date}{ENS}{data/indprogr_rec.csv}{2.2pt}'+\n",
    "' \\\\ctsbar{orange!70!yellow}{date}{Materials}{data/indprogr_rec.csv}{2.2pt}'+\n",
    "' \\end{axis}'+\n",
    "' \\end{tikzpicture}'+\n",
    "' \\hfill'+\n",
    "' \\\\begin{tikzpicture}'+\n",
    "' \\\\begin{axis}[\\\\bbar{y}{0}, \\dateaxisticks ytick={-15, -10, -5, 0, 5, 10, 15}, '+\n",
    "' clip=false, width=6.65cm, height=5.5cm, yticklabel style={text width=1.28em}, '+\n",
    "text + \n",
    "', minor xtick={}, enlarge y limits=0.08, '+\n",
    "' enlarge x limits={0.005}]'+\n",
    "' \\\\ctsbar{blue!60!black}{date}{Durable manufacturing}{data/indprogr_rec.csv}{2.2pt}'+\n",
    "' \\\\ctsbar{blue!20!cyan!80!white}{date}{Nondurable manufacturing}{data/indprogr_rec.csv}{2.2pt}'+\n",
    "' \\\\ctsbar{orange!20!yellow}{date}{Mining}{data/indprogr_rec.csv}{2.2pt}'+\n",
    "' \\\\ctsbar{green!80!blue}{date}{Electric and gas utilities}{data/indprogr_rec.csv}{2.2pt}'+\n",
    "' \\end{axis}'+\n",
    "' \\end{tikzpicture}\\\\')\n",
    "\n",
    "write_txt(text_dir / 'ip_latest_monthly.tex', text_full)"
   ]
  },
  {
   "cell_type": "code",
   "execution_count": null,
   "metadata": {},
   "outputs": [],
   "source": []
  },
  {
   "cell_type": "markdown",
   "metadata": {},
   "source": [
    "### IP Table"
   ]
  },
  {
   "cell_type": "code",
   "execution_count": 10,
   "metadata": {
    "ExecuteTime": {
     "end_time": "2021-11-19T04:34:13.849843Z",
     "start_time": "2021-11-19T04:34:13.825836Z"
    }
   },
   "outputs": [],
   "source": [
    "n = {'Total index': '& \\hspace{-1mm}Total index',\n",
    "     'Manufacturing': '& \\hspace{1mm}Manufacturing',\n",
    "     'Durable manufacturing': '\\cbox{blue!60!black} & \\hspace{3mm}Durable manufacturing',\n",
    "     'Motor vehicles and parts': ' & \\hspace{5mm}Motor vehicles \\& parts',\n",
    "     'Nondurable manufacturing': '\\cbox{blue!20!cyan!80!white} & \\hspace{3mm}Nondurable manufacturing',\n",
    "     'Mining': '\\cbox{orange!20!yellow} & \\hspace{1mm}Mining',\n",
    "     'Electric and gas utilities': '\\cbox{green!80!blue} & \\hspace{1mm}Utilities',\n",
    "     'Consumer goods': '\\cbox{violet!60!black} & \\hspace{1mm}Consumer goods',\n",
    "     'Durable consumer goods': ' & \\hspace{3mm}Consumer durables',\n",
    "     'Automotive products': ' & \\hspace{5mm}Automotive products',\n",
    "     'Nondurable consumer goods': ' & \\hspace{3mm}Consumer nondurables',\n",
    "     'Foods and tobacco': ' & \\hspace{5mm}Foods and tobacco',\n",
    "     'Chemical products': ' & \\hspace{5mm}Chemical products',\n",
    "     'Consumer energy products': ' & \\hspace{5mm}Consumer energy products',\n",
    "     'ENS': '\\cbox{magenta} & \\hspace{1mm}Equipment \\& nonindustrial supplies',\n",
    "     'Equipment, total': ' & \\hspace{3mm}Equipment',\n",
    "     'Industrial equipment': ' & \\hspace{5mm}Industrial equipment',\n",
    "     'Nonindustrial supplies': ' & \\hspace{3mm}Nonindustrial supplies',\n",
    "     'Construction supplies': ' & \\hspace{5mm}Construction supplies',\n",
    "     'Business supplies': ' & \\hspace{5mm}Business supplies',\n",
    "     'Materials': '\\cbox{orange!70!yellow} & \\hspace{1mm}Materials',\n",
    "     'Consumer parts': ' & \\hspace{3mm}Consumer parts',\n",
    "     'Equipment parts': ' & \\hspace{3mm}Equipment parts',\n",
    "     'Chemical materials': ' & \\hspace{3mm}Chemical materials',\n",
    "     'Energy materials': ' & \\hspace{3mm}Energy materials'}\n",
    "\n",
    "table = contrib[n.keys()].iloc[-3:].iloc[::-1].T\n",
    "table.columns = [dtxt(date)['mon6'] for date in table.columns]\n",
    "table[dtxt(data.index[-13])['mon6']] = contrib[n.keys()].iloc[-13]\n",
    "table2 = growth[n.keys()].iloc[-3:].iloc[::-1].T\n",
    "table2.columns = [' ' + dtxt(date)['mon6'] for date in table2.columns]\n",
    "table2[' '+dtxt(data.index[-13])['mon6']] = growth[n.keys()].iloc[-13]\n",
    "table = table.join(table2)\n",
    "\n",
    "table = table.applymap('{:,.1f}'.format)\n",
    "table.index = [n[name] for name in table.index]\n",
    "\n",
    "(table.to_csv(data_dir / 'indpro.tex', sep='&', line_terminator='\\\\\\ ', \n",
    "              quotechar=' ', index_label='&'))"
   ]
  },
  {
   "cell_type": "code",
   "execution_count": null,
   "metadata": {},
   "outputs": [],
   "source": []
  },
  {
   "cell_type": "code",
   "execution_count": null,
   "metadata": {},
   "outputs": [],
   "source": []
  },
  {
   "cell_type": "markdown",
   "metadata": {},
   "source": [
    "### Bar Chart"
   ]
  },
  {
   "cell_type": "code",
   "execution_count": 11,
   "metadata": {
    "ExecuteTime": {
     "end_time": "2021-11-19T04:34:19.162581Z",
     "start_time": "2021-11-19T04:34:13.851624Z"
    }
   },
   "outputs": [],
   "source": [
    "base = 'https://www.federalreserve.gov/datadownload/Output.aspx?'\n",
    "srs = 'rel=G17&series=644452cb9b9f8c5a43cd9afb772f1b16&lastobs=50&'\n",
    "dt = 'from=&to=&'\n",
    "oth = 'filetype=csv&label=include&layout=seriescolumn'\n",
    "url = base + srs + dt + oth\n",
    "\n",
    "d, data = clean_fed_data(url)\n",
    "\n",
    "ltdate = dtxt(data.index[-1])['mon1']\n",
    "write_txt(text_dir / 'ip_ind_ldate.txt', ltdate)\n",
    "\n",
    "df = pd.DataFrame()\n",
    "for term, name in [('IP', 'IP'), ('CAP.', 'CP')]:\n",
    "    keys = [key for key in data.keys() if term in key]\n",
    "    td = (1 - data[keys].iloc[-1] / data[keys].loc['2020-02-01'])\n",
    "    td.index = td.index.map(d).str.replace('and', '\\&')\n",
    "    df[name] = td * 100\n",
    "    \n",
    "final = df.sort_values('IP', ascending=False)\n",
    "\n",
    "final.round(1).to_csv(data_dir / 'ip_comp.csv', index_label='name', sep=';')\n",
    "final.index = [i.replace('products', 'product')\n",
    "                .replace('product', 'products')\n",
    "                .replace('eq.', 'equipment') for i in final.index]\n",
    "words = ['none', 'one', 'two', 'three', 'four', 'five', 'six', 'seven', \n",
    "         'eight', 'nine', 'ten', '11', 'all 12']\n",
    "nums = list(range(0, 13))\n",
    "nums_to_words = dict(zip(nums, words))\n",
    "verb = {n: 'were' if n!= 1 else 'was' for n in range(0, 13)}"
   ]
  },
  {
   "cell_type": "code",
   "execution_count": 12,
   "metadata": {
    "ExecuteTime": {
     "end_time": "2021-11-19T04:34:19.174110Z",
     "start_time": "2021-11-19T04:34:19.163835Z"
    }
   },
   "outputs": [
    {
     "name": "stdout",
     "output_type": "stream",
     "text": [
      "As of October 2021, of a subset of 12 industries that contribute the majority of industrial production, seven increased \\textbf{production} since February 2020, five decreased production, and none were unchanged (see\\cbox{green!60!lime}). Since February 2020, aerospace \\& miscellaneous transportation equipment production decreased by 14.6 percent, production of computer \\& electronic products decreased by 10.4 percent, mining production increased by 8.5 percent, and motor vehicles \\& parts production increased by 6.5 percent. \n",
      "\n",
      "Since February 2020, five of the 12 industries increased \\textbf{capacity}, six decreased capacity, and one was unchanged (see\\cbox{cyan!90!blue}). Production capacity for computer \\& electronic products decreased by 5.3 percent, electric \\& gas utilities capacity decreased by 4.6 percent, and mining capacity increased by 1.7 percent.\n"
     ]
    }
   ],
   "source": [
    "thresh = 0.1\n",
    "incval = len(final[final['IP'] >= thresh])\n",
    "decval = len(final[final['IP'] <= -thresh])\n",
    "unchval = len(final[(final['IP'] < thresh) & (final['IP'] > -thresh)])\n",
    "\n",
    "text0 = (f'As of {ltdate}, of a subset of 12 industries that contribute the majority of industrial production, '+\n",
    "        f'{nums_to_words[incval]} increased \\\\textbf{{production}} since February '+\n",
    "        f'2020, {nums_to_words[decval]} decreased '+\n",
    "        f'production, and {nums_to_words[unchval]} {verb[unchval]} unchanged '\n",
    "        +'(see\\cbox{green!60!lime}). ')\n",
    "\n",
    "largest = final.IP[abs(final.IP).sort_values(ascending=False).iloc[:4].index]\n",
    "n = {}\n",
    "i = 0\n",
    "for name, value in largest.iteritems():\n",
    "    iname = f'production of {name}' if 'product' in name else f'{name} production'\n",
    "    inc_dec1 = inc_dec_percent(value)\n",
    "    inc_dec2 = inc_dec_percent(value, 'of')\n",
    "    n[i] = (f'{iname} {inc_dec1}'.lower())\n",
    "    i += 1\n",
    "text1 = (f'Since February 2020, {n[0]}, {n[1]}, {n[2]}, and {n[3]}. \\n\\n')\n",
    "\n",
    "incval = len(final[final['CP'] >= thresh])\n",
    "decval = len(final[final['CP'] <= -thresh])\n",
    "unchval = len(final[(final['CP'] < thresh) & (final['CP'] > -thresh)])\n",
    "\n",
    "text2 = (f'Since February 2020, {nums_to_words[incval]} of the 12 '+\n",
    "         f'industries increased \\\\textbf{{capacity}}, {nums_to_words[decval]} '+\n",
    "         f'decreased capacity, and {nums_to_words[unchval]} {verb[unchval]} unchanged '+\n",
    "         '(see\\cbox{cyan!90!blue}). ')\n",
    "\n",
    "largest = final.CP[abs(final.CP).sort_values(ascending=False).iloc[:3].index]\n",
    "n = {}\n",
    "i = 0\n",
    "for name, value in largest.iteritems():\n",
    "    iname = f'production capacity for {name}' if 'product' in name else f'{name} capacity'\n",
    "    inc_dec1 = inc_dec_percent(value)\n",
    "    inc_dec2 = inc_dec_percent(value, 'of')\n",
    "    n[i] = (f'{iname} {inc_dec1}'.lower())\n",
    "    i += 1\n",
    "    \n",
    "text3 = (f'{n[0].capitalize()}, {n[1]}, and {n[2]}.')\n",
    "\n",
    "end_text = text0 + text1 + text2 + text3\n",
    "\n",
    "print(end_text)\n",
    "\n",
    "write_txt(text_dir / 'ip_comp.txt', end_text)"
   ]
  },
  {
   "cell_type": "code",
   "execution_count": null,
   "metadata": {},
   "outputs": [],
   "source": []
  },
  {
   "cell_type": "code",
   "execution_count": null,
   "metadata": {},
   "outputs": [],
   "source": []
  },
  {
   "cell_type": "markdown",
   "metadata": {},
   "source": [
    "### Capacity Utilization"
   ]
  },
  {
   "cell_type": "code",
   "execution_count": 13,
   "metadata": {
    "ExecuteTime": {
     "end_time": "2021-11-19T04:34:24.439394Z",
     "start_time": "2021-11-19T04:34:19.175076Z"
    }
   },
   "outputs": [
    {
     "name": "stdout",
     "output_type": "stream",
     "text": [
      "In October 2021, the industrial capacity utilization rate was 76.4 percent (see {\\color{blue!80!black}\\textbf{---}}), and the manufacturing capacity utilization rate was 76.7 percent (see {\\color{blue!40!cyan}\\textbf{---}}). Total capacity utilization has fallen by 8.9 percentage points since January 1989.\n"
     ]
    }
   ],
   "source": [
    "base = 'https://www.federalreserve.gov/datadownload/Output.aspx?'\n",
    "srs = 'rel=G17&series=316680f2d5251c61c995df7ae36b4b07&lastobs=&'\n",
    "dt = 'from=01/01/1989&to=12/31/2021&'\n",
    "oth = 'filetype=csv&label=include&layout=seriescolumn'\n",
    "url = base + srs + dt + oth\n",
    "\n",
    "d = {'CAPUTL.B00004.S': 'Manufacturing', 'CAPUTL.B50001.S': 'Total index'}\n",
    "\n",
    "df = pd.read_csv(url, skiprows=5, index_col=0)[d.keys()].rename(d, axis=1)\n",
    "\n",
    "df.index = pd.to_datetime(df.index)\n",
    "\n",
    "df.to_csv(data_dir / 'tcu.csv', index_label='date')\n",
    "\n",
    "node = end_node(df['Total index'], 'blue!80!black')\n",
    "write_txt(text_dir / 'tcu_tot_node.txt', node)\n",
    "\n",
    "node = end_node(df['Manufacturing'], 'blue!40!cyan')\n",
    "write_txt(text_dir / 'tcu_mfg_node.txt', node)\n",
    "\n",
    "ldate = df.index[-1].strftime(\"%B %Y\")\n",
    "lval = df['Total index'].iloc[-1]\n",
    "sval = df.loc['1989-01-01', 'Total index']\n",
    "tch = sval - lval\n",
    "\n",
    "text = (f'In {ldate}, the industrial capacity utilization rate was '+\n",
    "        f'{lval:.1f} percent '+\n",
    "        '(see {\\color{blue!80!black}\\\\textbf{---}}), '+\n",
    "        'and the manufacturing capacity utilization rate was '+\n",
    "        f'{df[\"Manufacturing\"].iloc[-1]:.1f} percent '+\n",
    "        '(see {\\color{blue!40!cyan}\\\\textbf{---}}). Total capacity '+\n",
    "        f'utilization has fallen by {tch:.1f} percentage points since '+\n",
    "        'January 1989.')\n",
    "\n",
    "write_txt(text_dir / 'tcu.txt', text)\n",
    "print(text)"
   ]
  },
  {
   "cell_type": "code",
   "execution_count": null,
   "metadata": {},
   "outputs": [],
   "source": []
  },
  {
   "cell_type": "code",
   "execution_count": null,
   "metadata": {},
   "outputs": [],
   "source": []
  }
 ],
 "metadata": {
  "kernelspec": {
   "display_name": "Python 3",
   "language": "python",
   "name": "python3"
  },
  "language_info": {
   "codemirror_mode": {
    "name": "ipython",
    "version": 3
   },
   "file_extension": ".py",
   "mimetype": "text/x-python",
   "name": "python",
   "nbconvert_exporter": "python",
   "pygments_lexer": "ipython3",
   "version": "3.8.8"
  }
 },
 "nbformat": 4,
 "nbformat_minor": 2
}
