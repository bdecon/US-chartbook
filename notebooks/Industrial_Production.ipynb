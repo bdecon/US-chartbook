{
 "cells": [
  {
   "cell_type": "code",
   "execution_count": 1,
   "metadata": {},
   "outputs": [],
   "source": [
    "import sys\n",
    "sys.path.append('../src')\n",
    "\n",
    "import re\n",
    "\n",
    "import uschartbook.config\n",
    "\n",
    "from uschartbook.config import *\n",
    "from uschartbook.utils import *\n",
    "\n",
    "\n",
    "qtrs = {1: 'first', 2: 'second', 3: 'third', 4: 'fourth'}"
   ]
  },
  {
   "cell_type": "code",
   "execution_count": 2,
   "metadata": {},
   "outputs": [],
   "source": [
    "def ip_retrieve_data():\n",
    "    '''\n",
    "    Pull industrial production index data from Fed\n",
    "    '''\n",
    "    url_base = 'https://www.federalreserve.gov/datadownload/Output.aspx?rel=G17'\n",
    "    dates = 'from=01/01/1988&to=12/31/2019'\n",
    "    series = 'series=f97ad3652d87a6c1720943c31423103a'\n",
    "    settings = 'filetype=csv&label=include&layout=seriescolumn'\n",
    "    \n",
    "    url = f'{url_base}&{series}&lastobs=&{dates}&{settings}'\n",
    "    \n",
    "    raw_data = pd.read_csv(url)\n",
    "    \n",
    "    return raw_data"
   ]
  },
  {
   "cell_type": "code",
   "execution_count": 3,
   "metadata": {},
   "outputs": [],
   "source": [
    "def ip_get_series_dict(raw_data):\n",
    "    '''\n",
    "    Use raw data to identify series and series names \n",
    "    and store the results as a python dictionary\n",
    "    '''\n",
    "    d = {v: re.sub(\"\\s+[\\(\\[].*?[\\)\\]]\", \"\", i.split(';')[0]) \n",
    "         for i, v in raw_data.iloc[4, 1:].iteritems()}\n",
    "    \n",
    "    return d"
   ]
  },
  {
   "cell_type": "code",
   "execution_count": 4,
   "metadata": {},
   "outputs": [],
   "source": [
    "def ip_clean_data(raw_data):\n",
    "    '''\n",
    "    Convert raw industrial production data to dataframe\n",
    "    with date index column and clear column names\n",
    "    '''\n",
    "    date_column = raw_data.loc[5:, 'Series Description']\n",
    "    date_index = pd.to_datetime(date_column).rename('Date')\n",
    "    columns = [series_dict[series_id] \n",
    "               for series_id in raw_data.iloc[4, 1:].values]\n",
    "    \n",
    "    clean_data = raw_data.iloc[5:, 1:].astype('float')\n",
    "    clean_data.index = date_index\n",
    "    clean_data.columns = columns\n",
    "    \n",
    "    return clean_data"
   ]
  },
  {
   "cell_type": "code",
   "execution_count": 5,
   "metadata": {},
   "outputs": [],
   "source": [
    "def ip_retrieve_weights(series_dict):\n",
    "    '''\n",
    "    Retrieve relative importance data for each series that\n",
    "    was identified in the series_dict\n",
    "    '''\n",
    "    adj_series_dict = {k[3:-2]: v for k, v in series_dict.items()}\n",
    "    series = adj_series_dict.keys()\n",
    "    url = 'https://www.federalreserve.gov/releases/g17/ipdisk/'\n",
    "    file = 'ipweights_sa.txt'\n",
    "    columns = ['Series', 'Year', 'January', 'February', 'March', \n",
    "              'April', 'May', 'June', 'July', 'August', \n",
    "              'September', 'October', 'November', 'December']\n",
    "    raw_weights = pd.read_csv(f'{url}{file}', sep='\\s+', skiprows=1)\n",
    "    raw_weights.columns = columns\n",
    "    weights = (raw_weights[raw_weights['Series'].isin(series)]\n",
    "               .set_index(['Series', 'Year']).stack().reset_index())\n",
    "    weights['Date'] = (pd.to_datetime(weights['level_2'] + ' 01, ' \n",
    "                    + weights['Year'].astype('int').astype('str')))\n",
    "    weights = (weights.set_index(['Series', 'Date'])[0]\n",
    "               .unstack().T.rename(adj_series_dict, axis=1)\n",
    "               .loc['1988':])\n",
    "    \n",
    "    return weights"
   ]
  },
  {
   "cell_type": "code",
   "execution_count": 6,
   "metadata": {},
   "outputs": [],
   "source": [
    "def ip_growth_contrib(data, weights, series_list):\n",
    "    '''\n",
    "    Return the one-year contribution to industrial production growth\n",
    "    for each series in the series_list. \n",
    "    \n",
    "    data: dataframe with industrial production index\n",
    "    weights: dataframe with relative importance of each series\n",
    "    series_list: column names that match data and weight columns\n",
    "    '''\n",
    "    contribution = pd.DataFrame()\n",
    "    for series in series_list:\n",
    "        for date in data[series].index:\n",
    "            series_weight = weights.loc[date, series] / 100\n",
    "            growth_rate = (data[series].pct_change(12).loc[date]) * 100\n",
    "            contribution.at[date, series] = growth_rate * series_weight\n",
    "            \n",
    "    return contribution.loc['1989':]"
   ]
  },
  {
   "cell_type": "code",
   "execution_count": 7,
   "metadata": {},
   "outputs": [],
   "source": [
    "def ip_export_data(data, weights):\n",
    "    '''\n",
    "    Save individual csv files that feed into chartbook charts\n",
    "    \n",
    "    Extra steps taken to exclude quarters that aren't complete\n",
    "    \n",
    "    Charts:\n",
    "    indpro: Total IP Index and Manufacturing Index Line Chart:\n",
    "    indprogr: IP Growth Contribution by Market Group - Long-term\n",
    "    indprogr_rec: IP Growth Contribution by Market Group - Recent\n",
    "    indprogr2: IP Growth Contribution by Industry Group - Long-term\n",
    "    indprogr_rec2: IP Growth Contribution by Industry Group - Recent\n",
    "    '''\n",
    "    export_file = data_dir / 'indpro.csv'\n",
    "    series_list = ['Manufacturing', 'Total index']\n",
    "    data[series_list].loc['1989':].to_csv(export_file, index_label='date')\n",
    "    print('Saved: ', export_file)\n",
    "    \n",
    "    series_dict = {'indprogr': ['Consumer goods', 'ENS', 'Materials'],\n",
    "                   'indprogr2': ['Durable manufacturing', 'Mining', \n",
    "                                 'Nondurable manufacturing', \n",
    "                                 'Electric and gas utilities']}\n",
    "    \n",
    "    for i in [data, weights]:\n",
    "        i['ENS'] = i['Equipment, total'] + i['Nonindustrial supplies']\n",
    "    \n",
    "    quarter = data.index[-1].quarter\n",
    "    year = data.index[-1].year\n",
    "\n",
    "    full_quarter = data.index[-1]\n",
    "    current_quarter_len = (\n",
    "        len(data.loc[(data.index.quarter == quarter) & \n",
    "                           (data.index.year == year)]))\n",
    "    \n",
    "    if current_quarter_len < 3:\n",
    "        full_quarter = (data.index[-1] - \n",
    "                           pd.DateOffset(months=current_quarter_len))\n",
    "    \n",
    "    for name, series_list in series_dict.items():\n",
    "        contrib = ip_growth_contrib(data, weights, series_list)\n",
    "        export_file = data_dir / f'{name}.csv'\n",
    "        (contrib.resample('QS').mean().loc[:full_quarter]\n",
    "         .to_csv(export_file, index_label='date'))\n",
    "        print('Saved: ', export_file)\n",
    "        export_file = data_dir / f'{name}_rec.csv'\n",
    "        contrib.loc['2015':].to_csv(export_file, index_label='date')\n",
    "        print('Saved: ', export_file)"
   ]
  },
  {
   "cell_type": "code",
   "execution_count": 28,
   "metadata": {},
   "outputs": [],
   "source": [
    "def three_year_growth(data, series):\n",
    "    '''Annualized growth rate over past three years'''\n",
    "    return ((data[series].pct_change(36).iloc[-1] + 1)**(1/3)-1) * 100\n",
    "\n",
    "def three_year_growth_text(clean_data, series):\n",
    "    '''\n",
    "    Return short text string with three year growth\n",
    "    '''\n",
    "    \n",
    "    growth = three_year_growth(clean_data, series)\n",
    "    \n",
    "    if growth > 0.1:\n",
    "        text = f'increased at an annual rate of {growth:.1f} percent'\n",
    "    elif growth < -0.1:\n",
    "        text = f'decreased at an annual rate of {abs(growth):.1f} percent'\n",
    "    else:\n",
    "        text = 'was virtually unchanged'\n",
    "        \n",
    "    return text"
   ]
  },
  {
   "cell_type": "code",
   "execution_count": 29,
   "metadata": {},
   "outputs": [],
   "source": [
    "def ip_export_text(data, weights):\n",
    "    '''\n",
    "    Export text files that fill in text in the chartbook\n",
    "    '''\n",
    "    s_info = series_info(data['Manufacturing'])\n",
    "    latest_date = s_info['date_latest_ft']\n",
    "    mfg_3yr = three_year_growth(data, 'Manufacturing')\n",
    "    tot_3yr = three_year_growth(data, 'Total index')\n",
    "    max_diff = (s_info['val_latest'] / s_info['val_max'] - 1) * 100\n",
    "    \n",
    "    text = ('Manufacturing production increased at an average annual '+\n",
    "            f'rate of {mfg_3yr:.1f} percent over the past three years, as '+\n",
    "            f'of {latest_date}. The total industrial production index grew at '+\n",
    "            f'an annual rate of {tot_3yr:.1f} percent over the same period. '+\n",
    "            f'Manufacturing production is currently {abs(max_diff):.1f} '+\n",
    "            f'percent below its peak in {s_info[\"date_max_ft\"]}.')\n",
    "    \n",
    "    write_txt(text_dir / 'indpro.txt', text)\n",
    "    \n",
    "    print(text)\n",
    "    \n",
    "    cg = three_year_growth_text(data, 'Consumer goods')\n",
    "    eq = three_year_growth_text(data, 'Equipment, total')\n",
    "    ns = three_year_growth_text(data, 'Nonindustrial supplies')\n",
    "    mat = three_year_growth_text(data, 'Materials')\n",
    "    \n",
    "    text = (f'By market group, production of consumer goods {cg} over the '+\n",
    "            f'past three years, as of {latest_date}. Total production of '+\n",
    "            f'business equipment {eq}, production of nonidustrial supplies {ns}, and '+\n",
    "            f'production of materials {mat}.')\n",
    "    \n",
    "    write_txt(text_dir / 'indpro2.txt', text)\n",
    "    \n",
    "    print(text)"
   ]
  },
  {
   "cell_type": "code",
   "execution_count": 186,
   "metadata": {},
   "outputs": [],
   "source": [
    "def ip_export_table(clean_data, weights):\n",
    "    '''\n",
    "    Create a custom chartbook table from the IP data\n",
    "    '''\n",
    "    export_file = data_dir / 'indpro.tex'\n",
    "    \n",
    "    d = {'Total index': ' & Total index',\n",
    "         'Manufacturing': ' & \\hspace{2mm}Manufacturing',\n",
    "         'Durable manufacturing': '\\cbox{blue!60!black} & \\hspace{4mm}Durable manufacturing',\n",
    "         'Motor vehicles and parts': ' & \\hspace{6mm}Motor vehicles \\& parts',\n",
    "         'Nondurable manufacturing': '\\cbox{blue!20!cyan!80!white} & \\hspace{4mm}Nondurable manufacturing',\n",
    "         'Mining': '\\cbox{orange!20!yellow} & \\hspace{2mm}Mining',\n",
    "         'Electric and gas utilities': '\\cbox{green!80!blue} & \\hspace{2mm}Utilities',\n",
    "         'Consumer goods': '\\cbox{violet!60!black} & \\hspace{2mm}Consumer goods',\n",
    "         'Durable consumer goods': ' & \\hspace{4mm}Consumer durables',\n",
    "         'Automotive products': ' & \\hspace{6mm}Automotive products',\n",
    "         'Nondurable consumer goods': ' & \\hspace{4mm}Consumer nondurables',\n",
    "         'Foods and tobacco': ' & \\hspace{6mm}Foods and tobacco',\n",
    "         'Chemical products': ' & \\hspace{6mm}Chemical products',\n",
    "         'Consumer energy products': ' & \\hspace{6mm}Consumer energy products',\n",
    "         'ENS': '\\cbox{magenta} & \\hspace{2mm}Equipment \\& nonindustrial supplies',\n",
    "         'Equipment, total': ' & \\hspace{4mm}Equipment',\n",
    "         'Industrial equipment': ' & \\hspace{6mm}Industrial equipment',\n",
    "         'Nonindustrial supplies': ' & \\hspace{4mm}Nonindustrial supplies',\n",
    "         'Construction supplies': ' & \\hspace{6mm}Construction supplies',\n",
    "         'Business supplies': ' & \\hspace{6mm}Business supplies',\n",
    "         'Materials': '\\cbox{orange!70!yellow} & \\hspace{2mm}Materials',\n",
    "         'Consumer parts': ' & \\hspace{4mm}Consumer parts',\n",
    "         'Equipment parts': ' & \\hspace{4mm}Equipment parts',\n",
    "         'Textile materials': ' & \\hspace{4mm}Textile materials',\n",
    "         'Chemical materials': ' & \\hspace{4mm}Chemical materials',\n",
    "         'Energy materials': ' & \\hspace{4mm}Energy materials'}\n",
    "    \n",
    "    table = pd.DataFrame()\n",
    "    data = ip_growth_contrib(clean_data, weights, d.keys())\n",
    "    table = data.iloc[-3:].iloc[::-1].T\n",
    "    table.columns = [date.strftime('%b %Y') for date in table.columns]\n",
    "    table['1-year'] = data.rolling(12).mean().iloc[-1]\n",
    "    table['3-year'] = data.rolling(36).mean().iloc[-1]\n",
    "    table['10-year'] = data.rolling(120).mean().iloc[-1]\n",
    "    table['30-year'] = data.rolling(360).mean().iloc[-1]\n",
    "    table = table.round(2)\n",
    "    table.index = [d[name] for name in table.index]\n",
    "\n",
    "    (table.to_csv(export_file, sep='&', line_terminator='\\\\\\ ', \n",
    "                  quotechar=' ', index_label='&'))\n",
    "    \n",
    "    print('Saved: ', export_file)"
   ]
  },
  {
   "cell_type": "code",
   "execution_count": null,
   "metadata": {},
   "outputs": [],
   "source": []
  },
  {
   "cell_type": "code",
   "execution_count": 10,
   "metadata": {},
   "outputs": [],
   "source": [
    "raw_data = ip_retrieve_data()"
   ]
  },
  {
   "cell_type": "code",
   "execution_count": 11,
   "metadata": {},
   "outputs": [],
   "source": [
    "series_dict = ip_get_series_dict(raw_data)"
   ]
  },
  {
   "cell_type": "code",
   "execution_count": 12,
   "metadata": {},
   "outputs": [],
   "source": [
    "clean_data = ip_clean_data(raw_data)"
   ]
  },
  {
   "cell_type": "code",
   "execution_count": 13,
   "metadata": {},
   "outputs": [],
   "source": [
    "weights = ip_retrieve_weights(series_dict)"
   ]
  },
  {
   "cell_type": "code",
   "execution_count": 14,
   "metadata": {},
   "outputs": [
    {
     "name": "stdout",
     "output_type": "stream",
     "text": [
      "Saved:  ../chartbook/data/indpro.csv\n",
      "Saved:  ../chartbook/data/indprogr.csv\n",
      "Saved:  ../chartbook/data/indprogr_rec.csv\n",
      "Saved:  ../chartbook/data/indprogr2.csv\n",
      "Saved:  ../chartbook/data/indprogr2_rec.csv\n"
     ]
    }
   ],
   "source": [
    "ip_export_data(clean_data, weights)"
   ]
  },
  {
   "cell_type": "code",
   "execution_count": 30,
   "metadata": {},
   "outputs": [
    {
     "name": "stdout",
     "output_type": "stream",
     "text": [
      "Manufacturing production increased at an average annual rate of 1.0 percent over the past three years, as of October 2019. The total industrial production index grew at an annual rate of 2.1 percent over the same period. Manufacturing production is currently 5.5 percent below its peak in December 2007.\n",
      "By market group, production of consumer goods increased at an annual rate of 0.3 percent over the past three years, as of October 2019. Total production of business equipment increased at an annual rate of 2.8 percent, production of nonidustrial supplies increased at an annual rate of 1.1 percent, and production of materials increased at an annual rate of 3.2 percent.\n"
     ]
    }
   ],
   "source": [
    "ip_export_text(clean_data, weights)"
   ]
  },
  {
   "cell_type": "code",
   "execution_count": 187,
   "metadata": {},
   "outputs": [
    {
     "name": "stdout",
     "output_type": "stream",
     "text": [
      "Saved:  ../chartbook/data/indpro.tex\n"
     ]
    }
   ],
   "source": [
    "ip_export_table(clean_data, weights)"
   ]
  },
  {
   "cell_type": "code",
   "execution_count": null,
   "metadata": {},
   "outputs": [],
   "source": []
  },
  {
   "cell_type": "code",
   "execution_count": null,
   "metadata": {},
   "outputs": [],
   "source": []
  }
 ],
 "metadata": {
  "kernelspec": {
   "display_name": "Python 3",
   "language": "python",
   "name": "python3"
  },
  "language_info": {
   "codemirror_mode": {
    "name": "ipython",
    "version": 3
   },
   "file_extension": ".py",
   "mimetype": "text/x-python",
   "name": "python",
   "nbconvert_exporter": "python",
   "pygments_lexer": "ipython3",
   "version": "3.7.5"
  }
 },
 "nbformat": 4,
 "nbformat_minor": 2
}
