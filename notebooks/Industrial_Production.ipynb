{
 "cells": [
  {
   "cell_type": "markdown",
   "metadata": {},
   "source": [
    "### Industrial Production"
   ]
  },
  {
   "cell_type": "code",
   "execution_count": 1,
   "metadata": {
    "ExecuteTime": {
     "end_time": "2023-11-16T14:22:27.620775Z",
     "start_time": "2023-11-16T14:22:26.578564Z"
    }
   },
   "outputs": [],
   "source": [
    "import sys\n",
    "sys.path.append('../src')\n",
    "\n",
    "import uschartbook.config\n",
    "\n",
    "from uschartbook.config import *\n",
    "from uschartbook.utils import *"
   ]
  },
  {
   "cell_type": "code",
   "execution_count": 2,
   "metadata": {
    "ExecuteTime": {
     "end_time": "2023-11-16T14:22:31.617974Z",
     "start_time": "2023-11-16T14:22:27.622462Z"
    }
   },
   "outputs": [
    {
     "name": "stdout",
     "output_type": "stream",
     "text": [
      "Latest:  October 2023\n"
     ]
    }
   ],
   "source": [
    "# Retrieve latest data if update available\n",
    "url_base = 'https://www.federalreserve.gov/datadownload/Output.aspx?rel=G17'\n",
    "dates = 'from=01/01/1988&to=12/31/2023'\n",
    "series = 'series=f97ad3652d87a6c1720943c31423103a'\n",
    "settings = 'filetype=csv&label=include&layout=seriescolumn'\n",
    "url = f'{url_base}&{series}&lastobs=&{dates}&{settings}'\n",
    "\n",
    "d, data = clean_fed_data(url)\n",
    "\n",
    "pd.to_pickle(d,data_dir / 'indpro.pickle')\n",
    "data = data.rename(d, axis=1)\n",
    "data.to_csv(data_dir / 'indpro_raw.csv', index_label='date', float_format='%g')\n",
    "(data.loc['1989':, ['Manufacturing', 'Total index']]\n",
    " .to_csv(data_dir / 'indpro.csv', index_label='date', float_format='%g'))\n",
    "\n",
    "print('Latest: ', dtxt(data.index[-1])['mon1'])"
   ]
  },
  {
   "cell_type": "code",
   "execution_count": 3,
   "metadata": {
    "ExecuteTime": {
     "end_time": "2023-11-16T14:22:33.807484Z",
     "start_time": "2023-11-16T14:22:31.619375Z"
    }
   },
   "outputs": [],
   "source": [
    "# Retrieve raw data from csv\n",
    "data = pd.read_csv(data_dir / 'indpro_raw.csv', \n",
    "                   index_col='date', parse_dates=True)\n",
    "d = pd.read_pickle(data_dir / 'indpro.pickle')\n",
    "# Retrieve weights (relative importance)\n",
    "adj_series_dict = {k[3:-2]: v for k, v in d.items()}\n",
    "series = adj_series_dict.keys()\n",
    "url = 'https://www.federalreserve.gov/releases/g17/ipdisk/ipweights_sa.txt'\n",
    "columns = ['Series', 'Year', 'January', 'February', 'March', \n",
    "          'April', 'May', 'June', 'July', 'August', \n",
    "          'September', 'October', 'November', 'December']\n",
    "r = requests.get(url)\n",
    "raw_weights = pd.read_csv(io.StringIO(r.content.decode('utf-8')), \n",
    "                          sep='\\s+', skiprows=1)\n",
    "raw_weights.columns = columns\n",
    "weights = (raw_weights[raw_weights['Series'].isin(series)]\n",
    "           .set_index(['Series', 'Year']).stack().reset_index())\n",
    "weights['Date'] = (pd.to_datetime(weights['level_2'] + ' 01, ' \n",
    "                + weights['Year'].astype('int').astype('str')))\n",
    "weights = (weights.set_index(['Series', 'Date'])[0]\n",
    "           .unstack().T.rename(adj_series_dict, axis=1)\n",
    "           .loc['1988':])\n",
    "weights['ENS'] = (weights['Equipment, total'] + \n",
    "                  weights['Nonindustrial supplies'])\n",
    "\n",
    "# Apply calculations\n",
    "growth = data.pct_change(12).dropna() * 100\n",
    "growth['ENS'] = ((growth['Equipment, total'] * \n",
    "                  (weights['Equipment, total'] / weights['ENS']))\n",
    "                 + (growth['Nonindustrial supplies'] * \n",
    "                    (weights['Nonindustrial supplies'] / weights['ENS'])))\n",
    "contrib = growth / 100 * weights.iloc[12:]\n",
    "contrib['Non-energy materials'] = contrib['Materials'] - contrib['Energy materials']\n",
    "contrib['ENS'] = contrib['Equipment, total'] + contrib['Nonindustrial supplies']\n",
    "\n",
    "srs = ['Consumer goods', 'ENS', 'Materials', 'Durable manufacturing', 'Energy materials',\n",
    "       'Mining', 'Nondurable manufacturing', 'Electric and gas utilities', \n",
    "       'Non-energy materials']\n",
    "\n",
    "(contrib[srs].resample('QS').mean()\n",
    "     .to_csv(data_dir / 'indprogr.csv', index_label='date', float_format='%g'))\n",
    "\n",
    "ltd = contrib.loc[:, srs].iloc[-24:]  # subset of most recent monthly data\n",
    "ltd['label'] = [dt.strftime('%b\\\\\\%Y') if dt.month == 1 \n",
    "                  else dt.strftime('%b') if dt.month in [7]\n",
    "                  else '' for dt in ltd.index]\n",
    "\n",
    "(ltd.to_csv(data_dir / 'indprogr_rec.csv', \n",
    "            index_label='date', float_format='%g'))"
   ]
  },
  {
   "cell_type": "code",
   "execution_count": 4,
   "metadata": {
    "ExecuteTime": {
     "end_time": "2023-11-16T14:22:33.817109Z",
     "start_time": "2023-11-16T14:22:33.809477Z"
    }
   },
   "outputs": [
    {
     "name": "stdout",
     "output_type": "stream",
     "text": [
      "The Federal Reserve industrial production index \\href{https://www.federalreserve.gov/releases/g17/Current/default.htm}{measures} the real output of the industrial sector, which includes manufacturing, mining, and electric and gas utilities.\n",
      "\n",
      "\\textbf{Industrial production} decreased 0.7 percent over the year ending October 2023, following a decrease of 0.2 percent in September. The manufacturing-only index decreased 1.7 percent over the year ending October, and subtracted 1.3 percentage points from the growth of the total index. Mining contributed 0.3 percentage point, and utilities contributed 0.3 percentage point.\n",
      "\n",
      "By market group, finished consumer goods subtracted 0.5 percentage point from one-year industrial production growth in October. Business equipment subtracted 0.1 percentage point, nonindustrial supplies subtracted 0.3 percentage point, and materials contributed 0.3 percentage point.\n"
     ]
    }
   ],
   "source": [
    "# Text 1 \n",
    "ltmo = dtxt(data.index[-1])['mon1']\n",
    "ltmosh = ltmo[:-5]\n",
    "prmo = dtxt(data.index[-2])['mon1']\n",
    "prmo = prmo[:-5] if ltmo[-5:] == prmo[-5:] else prmo\n",
    "ltgr, prgr = growth.iloc[-1], growth.iloc[-2]\n",
    "ltco, prco = contrib.iloc[-1], contrib.iloc[-2]\n",
    "\n",
    "tot = value_text(ltgr['Total index'])\n",
    "prtot = value_text(prgr['Total index'], 'increase_of')\n",
    "man = value_text(ltgr['Manufacturing'])\n",
    "manco = value_text(ltco['Manufacturing'], 'contribution_to', 'pp', threshold=0.1)\n",
    "minco = value_text(ltco['Mining'], 'contribution', 'pp', threshold=0.1)\n",
    "util_t = 'Electric and gas utilities'\n",
    "utilco = value_text(ltco[util_t], 'contribution', 'pp', threshold=0.1)\n",
    "cg = value_text(ltco['Consumer goods'], 'contribution_to', 'pp', threshold=0.1)\n",
    "eqp = value_text(ltco['Equipment, total'], 'contribution', 'pp', threshold=0.1)\n",
    "sup = value_text(ltco['Nonindustrial supplies'], 'contribution', 'pp', threshold=0.1)\n",
    "mat = value_text(ltco['Materials'], 'contribution', 'pp', threshold=0.1)\n",
    "\n",
    "# Text 1 (overview)\n",
    "ip_url = 'https://www.federalreserve.gov/releases/g17/Current/default.htm'\n",
    "txt1 = ('The Federal Reserve industrial production index '+\n",
    "        f'\\href{{{ip_url}}}{{measures}} the real output of '+\n",
    "        'the industrial sector, which includes manufacturing, '+\n",
    "        'mining, and electric and gas utilities.\\n\\n'+\n",
    "        f'\\\\textbf{{Industrial production}} {tot} over the year '+\n",
    "        f'ending {ltmo}, following {prtot} in {prmo}. The manufacturing-'+\n",
    "        f'only index {man} over the year ending {ltmosh}, and {manco} '+\n",
    "        f'the growth of the total index. Mining {minco}, and utilities '+\n",
    "        f'{utilco}.\\n\\nBy market group, finished consumer goods {cg} '+\n",
    "        f'one-year industrial production growth in {ltmosh}. Business '+\n",
    "        f'equipment {eqp}, nonindustrial supplies {sup}, '+\n",
    "        f'and materials {mat}.')\n",
    "write_txt(text_dir / 'indpro.txt', txt1)\n",
    "print(txt1)"
   ]
  },
  {
   "cell_type": "code",
   "execution_count": 9,
   "metadata": {
    "ExecuteTime": {
     "end_time": "2023-11-16T14:24:08.005465Z",
     "start_time": "2023-11-16T14:24:07.969587Z"
    }
   },
   "outputs": [
    {
     "name": "stdout",
     "output_type": "stream",
     "text": [
      "Looking more closely at recent industrial production growth, the latest one-year growth rate, covering October 2023, is substantially below the five-year average, and slightly below the September growth rate. \n",
      "\n",
      "By market group, the latest decrease is driven by a decrease in consumer goods and business equipment and non-industrial supplies, and partially offset by an increase in energy materials. By industry group, the latest decrease is also driven by a decrease in nondurable manufacturing and durable manufacturing.\n"
     ]
    }
   ],
   "source": [
    "# Text 2 (Recent in detail)\n",
    "ltd = ltd.drop('label', axis=1)\n",
    "lt = ltd.iloc[-1].sum() / 2\n",
    "pr = ltd.iloc[-2].sum() / 2\n",
    "avg = ltd.mean().sum() / 2\n",
    "rec1_txt = compare_text(lt, avg, [0.5, 2.0, 5.0])\n",
    "rec2_txt = compare_text(lt, pr, [0.5, 2.0, 5.0])\n",
    "\n",
    "text0 = ('Looking more closely at recent industrial production growth, '+\n",
    "        f'the latest one-year growth rate, covering {ltmo}, is {rec1_txt} '+\n",
    "        f'the five-year average, and {rec2_txt} the {prmo} growth rate. ')\n",
    "\n",
    "df = pd.read_csv(data_dir / 'indprogr_rec.csv', index_col='date', parse_dates=True)\n",
    "# Market group\n",
    "srs1 = ['Consumer goods', 'ENS', 'Energy materials', 'Non-energy materials']\n",
    "data1 = df[srs1]\n",
    "# Adjust columns for use in text\n",
    "data1 = data1.rename({'ENS': 'Business equipment and non-industrial supplies'}, axis=1)\n",
    "data1.columns = data1.columns.str.lower()\n",
    "mu, sigma = 0.5, 2\n",
    "text1, bbdb1 = gc_desc(data1.iloc[-1], mu, sigma)\n",
    "\n",
    "# Industry group\n",
    "srs2 = ['Durable manufacturing', 'Nondurable manufacturing', \n",
    "        'Mining', 'Electric and gas utilities']\n",
    "data2 = df[srs2]\n",
    "data2.columns = data2.columns.str.lower() # Adjust columns for use in text\n",
    "text2, bbdb2 = gc_desc(data2.iloc[-1], mu, sigma)\n",
    "if text1 == text2:\n",
    "    text = (f'By both market group and industry group, the latest {text1}')\n",
    "elif (bbdb1 == bbdb2) & (text1 != text2):\n",
    "    text2, bbdb2 = gc_desc(data2.iloc[-1], mu, sigma, also=True)\n",
    "    text = (f'By market group, the latest {text1} By industry group, the latest {text2}')\n",
    "else:\n",
    "    text = (f'By market group, the latest {text1} By industry group, the latest {text2}')\n",
    "para = '\\n\\n' if len(text) > 160 else ''\n",
    "final = f'{text0}{para}{text}'\n",
    "print(final)\n",
    "write_txt(text_dir / 'indpro_rec.txt', final)"
   ]
  },
  {
   "cell_type": "code",
   "execution_count": null,
   "metadata": {},
   "outputs": [],
   "source": []
  },
  {
   "cell_type": "code",
   "execution_count": null,
   "metadata": {},
   "outputs": [],
   "source": []
  },
  {
   "cell_type": "markdown",
   "metadata": {},
   "source": [
    "### IP Table"
   ]
  },
  {
   "cell_type": "code",
   "execution_count": 10,
   "metadata": {
    "ExecuteTime": {
     "end_time": "2023-11-16T14:24:13.485648Z",
     "start_time": "2023-11-16T14:24:13.456351Z"
    }
   },
   "outputs": [],
   "source": [
    "n = {'Total index': 'Total Index',\n",
    "     'Manufacturing': '\\hspace{2mm}Manufacturing',\n",
    "     'Durable manufacturing': '\\hspace{-3mm} \\cbox{blue!62!black} Durable Manufacturing',\n",
    "     'Motor vehicles and parts': '\\hspace{5mm}Motor Vehicles \\& Parts',\n",
    "     'Nondurable manufacturing': '\\hspace{-3mm} \\cbox{blue!20!cyan!80!white} Nondurable Manufacturing',\n",
    "     'Mining': '\\hspace{-3mm} \\cbox{orange!30!yellow} Mining',\n",
    "     'Electric and gas utilities': '\\hspace{-3mm} \\cbox{green!70!blue} Utilities',\n",
    "     'Consumer goods': '\\hspace{-3mm} \\cbox{violet!70!purple!90!black} Consumer Goods',\n",
    "     'Durable consumer goods': ' \\hspace{4mm}Consumer Durables',\n",
    "     'Automotive products': ' \\hspace{6mm}Automotive Products',\n",
    "     'Nondurable consumer goods': ' \\hspace{4mm}Consumer Nondurables',\n",
    "     'Foods and tobacco': ' \\hspace{6mm}Foods \\& Tobacco',\n",
    "     'Chemical products': ' \\hspace{6mm}Chemical Products',\n",
    "     'Consumer energy products': ' \\hspace{6mm}Consumer Energy Products',\n",
    "     'ENS': '\\hspace{-3mm} \\cbox{magenta} Business Equipment \\& Supplies',\n",
    "     'Equipment, total': '\\hspace{4mm}Equipment',\n",
    "     'Industrial equipment': ' \\hspace{6mm}Industrial Equipment',\n",
    "     'Nonindustrial supplies': ' \\hspace{4mm}Nonindustrial Supplies',\n",
    "     'Construction supplies': ' \\hspace{6mm}Construction Supplies',\n",
    "     'Business supplies': ' \\hspace{6mm}Business Supplies',\n",
    "     'Materials': ' \\hspace{3mm}Materials',\n",
    "     'Consumer parts': ' \\hspace{6mm}Consumer Parts',\n",
    "     'Equipment parts': ' \\hspace{6mm}Equipment Parts',\n",
    "     'Chemical materials': ' \\hspace{6mm}Chemical Materials',\n",
    "     'Energy materials': '\\hspace{-3mm} \\cbox{blue!70!violet} Energy Materials'}\n",
    "\n",
    "table = contrib[n.keys()].iloc[-3:].iloc[::-1].T\n",
    "table.columns = [dtxt(date)['mon6'] for date in table.columns]\n",
    "table[dtxt(data.index[-13])['mon6']] = contrib[n.keys()].iloc[-13]\n",
    "table2 = growth[n.keys()].iloc[-3:].iloc[::-1].T\n",
    "table2.columns = [' ' + dtxt(date)['mon6'] for date in table2.columns]\n",
    "table2[' '+dtxt(data.index[-13])['mon6']] = growth[n.keys()].iloc[-13]\n",
    "table = table.join(table2)\n",
    "\n",
    "table = table.applymap('{:,.1f}'.format)\n",
    "table.index = [n[name] for name in table.index]\n",
    "\n",
    "(table.to_csv(data_dir / 'indpro.tex', sep='&', lineterminator='\\\\\\ ', \n",
    "              quotechar=' '))\n",
    "\n",
    "# csv version for download\n",
    "table2 = table\n",
    "table2.index = [i[-1] for i in table.index.str.split('}')]\n",
    "table2.columns = [f'{col} contrib' if i in [0, 1, 2, 3] \n",
    "                  else f'{col} growth rate' for i, col \n",
    "                  in enumerate(table2.columns)]\n",
    "table2.to_csv(data_dir / 'indpro_table.csv', index_label='name')"
   ]
  },
  {
   "cell_type": "code",
   "execution_count": null,
   "metadata": {},
   "outputs": [],
   "source": []
  },
  {
   "cell_type": "code",
   "execution_count": null,
   "metadata": {},
   "outputs": [],
   "source": []
  },
  {
   "cell_type": "code",
   "execution_count": null,
   "metadata": {},
   "outputs": [],
   "source": []
  },
  {
   "cell_type": "markdown",
   "metadata": {},
   "source": [
    "### Bar Chart"
   ]
  },
  {
   "cell_type": "code",
   "execution_count": 11,
   "metadata": {
    "ExecuteTime": {
     "end_time": "2023-11-16T14:24:18.943277Z",
     "start_time": "2023-11-16T14:24:15.414824Z"
    }
   },
   "outputs": [],
   "source": [
    "base = 'https://www.federalreserve.gov/datadownload/Output.aspx?'\n",
    "srs = 'rel=G17&series=644452cb9b9f8c5a43cd9afb772f1b16&lastobs=50&'\n",
    "dt = 'from=&to=&'\n",
    "oth = 'filetype=csv&label=include&layout=seriescolumn'\n",
    "url = base + srs + dt + oth\n",
    "\n",
    "d, data = clean_fed_data(url)\n",
    "\n",
    "ltdate = dtxt(data.index[-1])['mon1']\n",
    "write_txt(text_dir / 'ip_ind_ldate.txt', ltdate)\n",
    "\n",
    "df = pd.DataFrame()\n",
    "for term, name in [('IP', 'IP'), ('CAP.', 'CP')]:\n",
    "    keys = [key for key in data.keys() if term in key]\n",
    "    td = (data[keys].iloc[-1] / data[keys].loc['2020-02-01']) - 1\n",
    "    td.index = td.index.map(d)\n",
    "    df[name] = td * 100\n",
    "    \n",
    "final = df.sort_values('IP', ascending=False)\n",
    "final.index = [i.replace('products', 'product')\n",
    "                .replace('product', 'products')\n",
    "                .replace('eq.', 'equipment') for i in final.index]\n",
    "table = final.copy().round(1)\n",
    "table.index = [i.replace('and', '\\&').title()\n",
    "                .replace('Beverage', '\\\\mbox{Beverage}')\n",
    "                .replace('Vehicles', '\\\\mbox{Vehicles}')\n",
    "                .replace('Electronic', '\\\\mbox{Electronic}')\n",
    "                .replace('Rubber', '\\\\mbox{Rubber}')\n",
    "                .replace('Transportation', 'Transport.')\n",
    "                .replace('Miscellaneous', 'Misc.')\n",
    "                .replace('Equipment', 'Equip.') for i in table.index]\n",
    "table.to_csv(data_dir / 'ip_comp.csv', index_label='name', sep=';')\n",
    "words = ['none', 'one', 'two', 'three', 'four', 'five', 'six', 'seven', \n",
    "         'eight', 'nine', 'ten', '11', 'all 12']\n",
    "nums = list(range(0, 13))\n",
    "nums_to_words = dict(zip(nums, words))\n",
    "verb = {n: 'were' if n!= 1 else 'was' for n in range(0, 13)}"
   ]
  },
  {
   "cell_type": "code",
   "execution_count": 12,
   "metadata": {
    "ExecuteTime": {
     "end_time": "2023-11-16T14:24:18.960528Z",
     "start_time": "2023-11-16T14:24:18.945996Z"
    }
   },
   "outputs": [
    {
     "name": "stdout",
     "output_type": "stream",
     "text": [
      "As of October 2023, of a subset of 12 industries that contribute the majority of industrial production, six increased \\textbf{production} since February 2020, and six decreased production (see\\cbox{black!20}).\n",
      "\n",
      "Since February 2020, aerospace and miscellaneous transportation equipment production increased by 13.8 percent, paper production decreased by 11.8 percent, motor vehicles and parts production decreased by 8.7 percent, and production of computer and electronic products increased by 8.0 percent. \n",
      "\n",
      "Since February 2020, six of the 12 industries increased \\textbf{capacity}, five decreased capacity, and one was unchanged (see\\cbox{cyan!80!blue}). Production capacity for computer and electronic products increased by 13.9 percent, mining capacity decreased by 12.3 percent, and electric and gas utilities capacity increased by 10.9 percent.\n"
     ]
    }
   ],
   "source": [
    "thresh = 0.1\n",
    "incval = len(final[final['IP'] >= thresh])\n",
    "decval = len(final[final['IP'] <= -thresh])\n",
    "unchval = len(final[(final['IP'] < thresh) & (final['IP'] > -thresh)])\n",
    "and1 = ' and' if unchval == 0 else ''\n",
    "unctxt = (f', and {nums_to_words[unchval]} {verb[unchval]} unchanged' \n",
    "          if unchval > 0 else '')\n",
    "\n",
    "text0 = (f'As of {ltdate}, of a subset of 12 industries that contribute '+\n",
    "         f'the majority of industrial production, {nums_to_words[incval]} '+\n",
    "         'increased \\\\textbf{production} since February 2020,'+\n",
    "         f'{and1} {nums_to_words[decval]} decreased production{unctxt} '+\n",
    "         '(see\\cbox{black!20}).\\n\\n')\n",
    "\n",
    "largest = final.IP[abs(final.IP).sort_values(ascending=False).iloc[:4].index]\n",
    "n = {}\n",
    "i = 0\n",
    "for name, value in largest.items():\n",
    "    iname = f'production of {name}' if 'product' in name else f'{name} production'\n",
    "    inc_dec1 = inc_dec_percent(value)\n",
    "    inc_dec2 = inc_dec_percent(value, 'of')\n",
    "    n[i] = (f'{iname} {inc_dec1}'.lower())\n",
    "    i += 1\n",
    "text1 = (f'Since February 2020, {n[0]}, {n[1]}, {n[2]}, and {n[3]}. \\n\\n')\n",
    "\n",
    "incval = len(final[final['CP'] >= thresh])\n",
    "decval = len(final[final['CP'] <= -thresh])\n",
    "unchval = len(final[(final['CP'] < thresh) & (final['CP'] > -thresh)])\n",
    "\n",
    "text2 = (f'Since February 2020, {nums_to_words[incval]} of the 12 '+\n",
    "         f'industries increased \\\\textbf{{capacity}}, {nums_to_words[decval]} '+\n",
    "         f'decreased capacity, and {nums_to_words[unchval]} {verb[unchval]} unchanged '+\n",
    "         '(see\\cbox{cyan!80!blue}). ')\n",
    "\n",
    "largest = final.CP[abs(final.CP).sort_values(ascending=False).iloc[:3].index]\n",
    "n = {}\n",
    "i = 0\n",
    "for name, value in largest.items():\n",
    "    iname = f'production capacity for {name}' if 'product' in name else f'{name} capacity'\n",
    "    inc_dec1 = inc_dec_percent(value)\n",
    "    inc_dec2 = inc_dec_percent(value, 'of')\n",
    "    n[i] = (f'{iname} {inc_dec1}'.lower())\n",
    "    i += 1\n",
    "    \n",
    "text3 = (f'{n[0].capitalize()}, {n[1]}, and {n[2]}.')\n",
    "\n",
    "end_text = text0 + text1 + text2 + text3\n",
    "write_txt(text_dir / 'ip_comp.txt', end_text)\n",
    "print(end_text)"
   ]
  },
  {
   "cell_type": "code",
   "execution_count": null,
   "metadata": {},
   "outputs": [],
   "source": []
  },
  {
   "cell_type": "code",
   "execution_count": null,
   "metadata": {},
   "outputs": [],
   "source": []
  },
  {
   "cell_type": "markdown",
   "metadata": {},
   "source": [
    "### Capacity Utilization"
   ]
  },
  {
   "cell_type": "code",
   "execution_count": 13,
   "metadata": {
    "ExecuteTime": {
     "end_time": "2023-11-16T14:24:22.698979Z",
     "start_time": "2023-11-16T14:24:18.961864Z"
    }
   },
   "outputs": [],
   "source": [
    "base = 'https://www.federalreserve.gov/datadownload/Output.aspx?'\n",
    "srs = 'rel=G17&series=316680f2d5251c61c995df7ae36b4b07&lastobs=&'\n",
    "dt = 'from=01/01/1989&to=12/31/2023&'\n",
    "oth = 'filetype=csv&label=include&layout=seriescolumn'\n",
    "url = base + srs + dt + oth\n",
    "d, data = clean_fed_data(url)\n",
    "df = data.rename(d, axis=1)\n",
    "df.to_csv(data_dir / 'tcu.csv', index_label='date')"
   ]
  },
  {
   "cell_type": "code",
   "execution_count": 14,
   "metadata": {
    "ExecuteTime": {
     "end_time": "2023-11-16T14:24:22.719313Z",
     "start_time": "2023-11-16T14:24:22.706234Z"
    }
   },
   "outputs": [
    {
     "name": "stdout",
     "output_type": "stream",
     "text": [
      "In October 2023, the US is utilizing 78.9 percent of total industrial capacity (see {\\color{blue!80!black}\\textbf{---}}), and 77.2 percent of manufacturing capacity (see {\\color{blue!40!cyan}\\textbf{---}}). In 2019, the total capacity utilization rate averaged 78.6 percent, and the manufacturing capacity utilization rate averaged 77.1 percent. Total capacity utilization has increased by 0.3 percentage point since 2019, and decreased by 4.8 percentage points since 1989.\n"
     ]
    }
   ],
   "source": [
    "df = pd.read_csv(data_dir / 'tcu.csv', \n",
    "                 index_col='date', parse_dates=True)\n",
    "adj = node_adj(df)\n",
    "smax = df.iloc[-1].idxmax()\n",
    "adj[smax] = adj[smax] + 0.35\n",
    "\n",
    "colors = {'Manufacturing': 'blue!40!cyan', \n",
    "          'Total index': 'blue!80!black'}\n",
    "date = {series: 'm' if series == smax else None \n",
    "        for series in colors.keys()}\n",
    "nodes  ='\\n'.join([end_node(df[series], color, \n",
    "                            date=date[series], \n",
    "                            size=1.1, offset=adj[series]) \n",
    "                   for series, color in colors.items()])\n",
    "write_txt(text_dir / 'tcu_nodes.txt', nodes)  \n",
    "ltd = df.iloc[-1]\n",
    "ltdt = dtxt(df.index[-1])['mon1']\n",
    "lval = ltd['Total index']\n",
    "\n",
    "cyr = '2019'\n",
    "v19 = df.loc[cyr].mean()\n",
    "dfc = v19.apply('{:.1f} percent'.format) \n",
    "\n",
    "sval = df.loc['1989', 'Total index'].mean()\n",
    "ch19 = value_text(lval - v19['Total index'], 'increase_by', ptype='pp')\n",
    "totch = value_text(lval - sval, 'increase_by', ptype='pp')\n",
    "text = (f'In {ltdt}, the US is utilizing {lval:.1f} percent of total '+\n",
    "        f'industrial capacity {c_line(colors[\"Total index\"])}, and '+\n",
    "        f'{df[\"Manufacturing\"].iloc[-1]:.1f} percent of manufacturing '+\n",
    "        f'capacity {c_line(colors[\"Manufacturing\"])}. In {cyr}, the '+\n",
    "        f'total capacity utilization rate averaged {dfc[\"Total index\"]}, '+\n",
    "        'and the manufacturing capacity utilization rate averaged '+\n",
    "        f'{dfc[\"Manufacturing\"]}. Total capacity utilization has '+\n",
    "        f'{ch19} since {cyr}, and {totch} since 1989.')\n",
    "write_txt(text_dir / 'tcu.txt', text)\n",
    "print(text)"
   ]
  },
  {
   "cell_type": "code",
   "execution_count": null,
   "metadata": {},
   "outputs": [],
   "source": []
  },
  {
   "cell_type": "code",
   "execution_count": null,
   "metadata": {},
   "outputs": [],
   "source": []
  }
 ],
 "metadata": {
  "kernelspec": {
   "display_name": "Python 3 (ipykernel)",
   "language": "python",
   "name": "python3"
  },
  "language_info": {
   "codemirror_mode": {
    "name": "ipython",
    "version": 3
   },
   "file_extension": ".py",
   "mimetype": "text/x-python",
   "name": "python",
   "nbconvert_exporter": "python",
   "pygments_lexer": "ipython3",
   "version": "3.8.13"
  }
 },
 "nbformat": 4,
 "nbformat_minor": 2
}
