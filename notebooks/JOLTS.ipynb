{
 "cells": [
  {
   "cell_type": "markdown",
   "metadata": {},
   "source": [
    "### JOLTS Report\n",
    "\n",
    "Updated October 6, 2020 with new JOLTS series IDs:\n",
    "https://www.bls.gov/jlt/jlt_series_changes.htm"
   ]
  },
  {
   "cell_type": "code",
   "execution_count": 1,
   "metadata": {
    "ExecuteTime": {
     "end_time": "2022-02-26T17:25:33.552374Z",
     "start_time": "2022-02-26T17:25:32.923134Z"
    }
   },
   "outputs": [],
   "source": [
    "import sys\n",
    "sys.path.append('../src')\n",
    "\n",
    "import uschartbook.config\n",
    "\n",
    "from uschartbook.config import *\n",
    "from uschartbook.utils import *\n",
    "\n",
    "ind = {'000000': '\\\\textbf{Total nonfarm}',\n",
    "       '110099': 'Mining \\& logging',\n",
    "       '230000': 'Construction',\n",
    "       '320000': 'Durable goods manufacturing',\n",
    "       '340000': 'Nondurable goods manufacturing',\n",
    "       '510000': 'Information',\n",
    "       '510099': 'Financial activities',\n",
    "       '540099': 'Professional \\& business services',\n",
    "       '440000': 'Retail trade',\n",
    "       '480099': 'Transportation, warehousing, \\& utilities',\n",
    "       '610000': 'Educational services',\n",
    "       '620000': 'Health care \\& social services',\n",
    "       '720000': 'Accommodation \\& food services',\n",
    "       '910000': 'Federal government',\n",
    "       '920000': 'State \\& local government'}"
   ]
  },
  {
   "cell_type": "code",
   "execution_count": 2,
   "metadata": {
    "ExecuteTime": {
     "end_time": "2022-02-01T15:56:03.412876Z",
     "start_time": "2022-02-01T15:55:53.692775Z"
    }
   },
   "outputs": [
    {
     "name": "stdout",
     "output_type": "stream",
     "text": [
      "Post Request Status: REQUEST_SUCCEEDED\n",
      "Post Request Status: REQUEST_SUCCEEDED\n"
     ]
    }
   ],
   "source": [
    "series = {'JTS000000000000000JOL': 'Openings', \n",
    "          'JTS000000000000000HIL': 'Hires', \n",
    "          'JTS000000000000000QUL': 'Quits',\n",
    "          'JTS000000000000000TSL': 'Separations',\n",
    "          'JTS000000000000000LDL': 'Layoffs',\n",
    "          'JTS000000000000000OSL': 'Other_Sep',\n",
    "          'LNS13000000': 'Unemp'}\n",
    "\n",
    "series = jolts_codes(series, 'QUR', ind)\n",
    "    \n",
    "df1 = bls_api(series, (2000, 2021), bls_key)\n",
    "\n",
    "df1.to_csv(data_dir/'jolts_master.csv', index_label='date')\n",
    "\n",
    "series2 = {}\n",
    "series = jolts_codes(series2, 'JOR', ind)\n",
    "    \n",
    "df2 = bls_api(series2, (2000, 2021), bls_key)\n",
    "\n",
    "df2.to_csv(data_dir/'jolts_master2.csv', index_label='date')"
   ]
  },
  {
   "cell_type": "code",
   "execution_count": 2,
   "metadata": {
    "ExecuteTime": {
     "end_time": "2022-02-26T17:25:50.700031Z",
     "start_time": "2022-02-26T17:25:50.662588Z"
    }
   },
   "outputs": [
    {
     "name": "stdout",
     "output_type": "stream",
     "text": [
      "In December 2021, there were 10.9 million total nonfarm job openings (see {\\color{blue!80!black}\\textbf{---}}) and 6.3 million hires completed (see {\\color{cyan}\\textbf{---}}). In the same month, there were 5.9 million nonfarm separations, including 1.2 million layoffs (see {\\color{orange!70!yellow}\\textbf{---}}), 4.3 million quits (see {\\color{red!85!violet}\\textbf{---}}), and 392,000 other separations. In 2019, there were an average of 5.8 million hires completed and 5.7 million total separations, per month.\n"
     ]
    }
   ],
   "source": [
    "df = (pd.read_csv(data_dir / 'jolts_master.csv', parse_dates=['date'])\n",
    "        .set_index('date'))\n",
    "\n",
    "levels_srs = ['Openings', 'Hires', 'Quits', 'Separations', \n",
    "              'Unemp', 'Layoffs', 'Other_Sep']\n",
    "rates_srs = ['JTS720000000000000QUR', 'JTS000000000000000QUR']\n",
    "\n",
    "levels_data = df[levels_srs].dropna() / 1000\n",
    "levels_data.to_csv(data_dir / 'jolts.csv', index_label='date')\n",
    "\n",
    "unjo = levels_data['Openings'] / levels_data['Unemp']\n",
    "unjo.name = 'unjo'\n",
    "unjo.to_csv(data_dir / 'unjo.csv', index_label='date')\n",
    "\n",
    "ltdata = levels_data.iloc[-1]\n",
    "\n",
    "ltdate = dtxt(ltdata.name)['mon1']\n",
    "write_txt(text_dir / 'jolts_ltdate.txt', ltdate)\n",
    "ltopen = ltdata['Openings']\n",
    "pryropen = levels_data['Openings'].iloc[-13]\n",
    "lthire = ltdata['Hires']\n",
    "ltquit = ltdata['Quits']\n",
    "ltsep = ltdata['Separations']\n",
    "ltun = ltdata['Unemp']\n",
    "ltlay = ltdata['Layoffs']\n",
    "ltoth = ltdata['Other_Sep'] * 1_000_000\n",
    "h19 = levels_data.loc['2019', 'Hires'].mean()\n",
    "ts19 = levels_data.loc['2019', 'Separations'].mean()\n",
    "\n",
    "text = (f'In {ltdate}, there were {ltopen:.1f} million total nonfarm '+\n",
    "        'job openings (see {\\color{blue!80!black}\\\\textbf{---}}) '\n",
    "        f'and {lthire:.1f} million hires completed '+\n",
    "        '(see {\\color{cyan}\\\\textbf{---}}). In the same month, '+\n",
    "        f'there were {ltsep:.1f} million nonfarm separations, '+\n",
    "        f'including {ltlay:.1f} million layoffs '+\n",
    "        '(see {\\color{orange!70!yellow}\\\\textbf{---}}), '+\n",
    "        f'{ltquit:.1f} million quits '+\n",
    "        '(see {\\color{red!85!violet}\\\\textbf{---}}), and '+\n",
    "        f'{ltoth:,.0f} other separations. In 2019, there were an '\n",
    "        f'average of {h19:.1f} million hires completed and '+\n",
    "        f'{ts19:.1f} million total separations, per month.')\n",
    "write_txt(text_dir / 'jolts2.txt', text)\n",
    "print(text)"
   ]
  },
  {
   "cell_type": "code",
   "execution_count": 3,
   "metadata": {
    "ExecuteTime": {
     "end_time": "2022-02-26T17:25:52.184005Z",
     "start_time": "2022-02-26T17:25:52.178770Z"
    }
   },
   "outputs": [
    {
     "name": "stdout",
     "output_type": "stream",
     "text": [
      "In December 2021, there were 6.3 million unemployed people and 10.9 million job openings, therefore the ratio of job openings per unemployed person was 1.7 (see {\\color{violet}\\textbf{---}}). In November 2021 the ratio was 1.6, and during 2019 the average ratio was 1.2.\n"
     ]
    }
   ],
   "source": [
    "opun = levels_data['Openings'] / levels_data['Unemp']\n",
    "\n",
    "ratio = opun.iloc[-1]\n",
    "ratiop = opun.iloc[-2]\n",
    "prmon = dtxt(opun.index[-2])['mon1']\n",
    "ratio19 = opun.loc['2019'].mean()\n",
    "color = 'violet'\n",
    "write_txt(text_dir / 'unjo_node.txt', end_node(unjo, color, date='m'))\n",
    "text = (f'In {ltdate}, there were {ltun:.1f} million unemployed '+\n",
    "        f'people and {ltopen:.1f} million job openings, therefore '+\n",
    "        'the ratio of job openings per unemployed person was '+\n",
    "        f'{ratio:.1f} {c_line(color)}. In {prmon} the ratio was '+\n",
    "        f'{ratiop:.1f}, and during 2019 the average ratio was '+\n",
    "        f'{ratio19:.1f}.')\n",
    "write_txt(text_dir / 'unjo.txt', text)\n",
    "print(text)"
   ]
  },
  {
   "cell_type": "code",
   "execution_count": 5,
   "metadata": {
    "ExecuteTime": {
     "end_time": "2022-02-17T03:34:48.535819Z",
     "start_time": "2022-02-17T03:34:48.508995Z"
    }
   },
   "outputs": [
    {
     "name": "stdout",
     "output_type": "stream",
     "text": [
      "In December 2021, the total quits rate in all industries was 2.9 percent (see {\\color{violet!90!black}\\textbf{---}}). The accommodations and food services quits rate was 6.1 percent (see {\\color{red!50!purple}\\textbf{---}}); the series high for the industry group was 6.6 percent in August 2021.\n"
     ]
    }
   ],
   "source": [
    "short_names = {'JTS000000000000000QUR': 'TOT_QU', \n",
    "               'JTS720000000000000QUR': 'AFS_QU'}\n",
    "rates_data = df[rates_srs].dropna().rename(short_names, axis=1)\n",
    "\n",
    "rates_data.to_csv(data_dir / 'quits.csv', index_label='date')\n",
    "\n",
    "afs_col = 'red!50!purple'\n",
    "node = end_node(rates_data['AFS_QU'], afs_col, percent=True)\n",
    "write_txt(text_dir / 'quits_afs_node.txt', node)\n",
    "tot_col = 'violet!90!black'\n",
    "node = end_node(rates_data['TOT_QU'], tot_col, percent=True, \n",
    "                date='m')\n",
    "write_txt(text_dir / 'quits_tot_node.txt', node)\n",
    "\n",
    "ltdata = rates_data.iloc[-1]\n",
    "afs_max = rates_data['AFS_QU'].max()\n",
    "afs_idxmax = dtxt(rates_data['AFS_QU'].idxmax())['mon1']\n",
    "\n",
    "h2 = ', the series high for the industry group.'\n",
    "if afs_idxmax == ltdate:\n",
    "    text2 = h2\n",
    "else:\n",
    "    text2 = ('; the series high for the industry group'+\n",
    "            f' was {afs_max} percent in {afs_idxmax}.')\n",
    "\n",
    "text = (f'In {ltdate}, the total quits rate in all industries '+\n",
    "        f'was {ltdata.TOT_QU} percent {c_line(tot_col)}. The '+\n",
    "        f'accommodations and food services quits rate was '+\n",
    "        f'{ltdata.AFS_QU} percent {c_line(afs_col)}'+text2)\n",
    "write_txt(text_dir / 'quits_afs.txt', text)\n",
    "print(text)"
   ]
  },
  {
   "cell_type": "code",
   "execution_count": 6,
   "metadata": {
    "ExecuteTime": {
     "end_time": "2022-02-01T15:56:03.489005Z",
     "start_time": "2022-02-01T15:56:03.466777Z"
    }
   },
   "outputs": [],
   "source": [
    "df = (pd.read_csv(data_dir / 'jolts_master.csv', parse_dates=['date'])\n",
    "        .set_index('date'))\n",
    "\n",
    "max_qur = df.loc[:,df.columns.str.endswith('QUR')].dropna().max()\n",
    "min_qur = df.loc[:,df.columns.str.endswith('QUR')].dropna().min()\n",
    "max_qur2 = df.loc['2018':,df.columns.str.endswith('QUR')].dropna().max()\n",
    "min_qur2 = df.loc['2018':,df.columns.str.endswith('QUR')].dropna().min()\n",
    "lt_qur = df.loc[:,df.columns.str.endswith('QUR')].dropna().iloc[-1]\n",
    "\n",
    "qur = pd.DataFrame({'max': max_qur, 'min': min_qur, 'latest': lt_qur, \n",
    "                    'maxst': max_qur2, 'minst': min_qur2})\n",
    "\n",
    "quits = {}\n",
    "quits = jolts_codes(quits, 'QUR', ind, value='name')\n",
    "    \n",
    "final = pd.DataFrame()\n",
    "final['outer1'] = qur['min']\n",
    "final['range1'] = qur['minst'] - qur['min']\n",
    "final['rangest'] = qur['maxst'] - qur['minst']\n",
    "final['range2'] = qur['max'] - qur['maxst']\n",
    "final['outer2'] = qur['max'].max() - qur['max']\n",
    "final['latest'] = qur['latest']\n",
    "final.index = final.index.map(quits)\n",
    "final = final.sort_values('latest', ascending=False)\n",
    "final['y'] = [i * -1 + 0.08 for i in list(range(0, len(qur)))]\n",
    "final.index.name = 'name'\n",
    "final.to_csv(data_dir / 'quits_ind.csv', sep=';')\n",
    "#final"
   ]
  },
  {
   "cell_type": "code",
   "execution_count": 7,
   "metadata": {
    "ExecuteTime": {
     "end_time": "2022-02-01T15:56:03.511185Z",
     "start_time": "2022-02-01T15:56:03.489950Z"
    }
   },
   "outputs": [],
   "source": [
    "df = (pd.read_csv(data_dir / 'jolts_master2.csv', parse_dates=['date'])\n",
    "        .set_index('date'))\n",
    "\n",
    "max_jor = df.loc[:,df.columns.str.endswith('JOR')].dropna().max()\n",
    "min_jor = df.loc[:,df.columns.str.endswith('JOR')].dropna().min()\n",
    "max_jor2 = df.loc['2018':,df.columns.str.endswith('JOR')].dropna().max()\n",
    "min_jor2 = df.loc['2018':,df.columns.str.endswith('JOR')].dropna().min()\n",
    "lt_jor = df.loc[:,df.columns.str.endswith('JOR')].dropna().iloc[-1]\n",
    "\n",
    "jor = pd.DataFrame({'max': max_jor, 'min': min_jor, 'latest': lt_jor, \n",
    "                    'maxst': max_jor2, 'minst': min_jor2})\n",
    "\n",
    "jos = {}\n",
    "jos = jolts_codes(jos, 'JOR', ind, value='name')\n",
    "    \n",
    "final = pd.DataFrame()\n",
    "final['outer1'] = jor['min']\n",
    "final['range1'] = jor['minst'] - jor['min']\n",
    "final['rangest'] = jor['maxst'] - jor['minst']\n",
    "final['range2'] = jor['max'] - jor['maxst']\n",
    "final['outer2'] = jor['max'].max() - jor['max']\n",
    "final['latest'] = jor['latest']\n",
    "final.index = final.index.map(jos)\n",
    "final = final.sort_values('latest', ascending=False)\n",
    "final['y'] = [i * -1 + 0.08 for i in list(range(0, len(jor)))]\n",
    "final.index.name = 'name'\n",
    "final.to_csv(data_dir / 'openings_ind.csv', sep=';')\n",
    "#final"
   ]
  },
  {
   "cell_type": "code",
   "execution_count": null,
   "metadata": {},
   "outputs": [],
   "source": []
  }
 ],
 "metadata": {
  "kernelspec": {
   "display_name": "Python 3",
   "language": "python",
   "name": "python3"
  },
  "language_info": {
   "codemirror_mode": {
    "name": "ipython",
    "version": 3
   },
   "file_extension": ".py",
   "mimetype": "text/x-python",
   "name": "python",
   "nbconvert_exporter": "python",
   "pygments_lexer": "ipython3",
   "version": "3.8.8"
  }
 },
 "nbformat": 4,
 "nbformat_minor": 4
}
