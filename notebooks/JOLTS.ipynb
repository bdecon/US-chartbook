{
 "cells": [
  {
   "cell_type": "markdown",
   "metadata": {},
   "source": [
    "### JOLTS Report\n",
    "\n",
    "Updated October 6, 2020 with new JOLTS series IDs:\n",
    "https://www.bls.gov/jlt/jlt_series_changes.htm"
   ]
  },
  {
   "cell_type": "code",
   "execution_count": 1,
   "metadata": {
    "ExecuteTime": {
     "end_time": "2023-12-05T15:06:27.360780Z",
     "start_time": "2023-12-05T15:06:26.197626Z"
    }
   },
   "outputs": [],
   "source": [
    "import sys\n",
    "sys.path.append('../src')\n",
    "\n",
    "import uschartbook.config\n",
    "\n",
    "from uschartbook.config import *\n",
    "from uschartbook.utils import *\n",
    "\n",
    "ind = {'000000': '\\\\textbf{Total nonfarm}',\n",
    "       '110099': 'Mining \\& logging',\n",
    "       '230000': 'Construction',\n",
    "       '320000': 'Durable goods manufacturing',\n",
    "       '340000': 'Nondurable goods manufacturing',\n",
    "       '510000': 'Information',\n",
    "       '510099': 'Financial activities',\n",
    "       '540099': 'Professional \\& business services',\n",
    "       '440000': 'Retail trade',\n",
    "       '480099': 'Transportation, warehousing, \\& utilities',\n",
    "       '610000': 'Educational services',\n",
    "       '620000': 'Health care \\& social services',\n",
    "       '720000': 'Accommodation \\& food services',\n",
    "       '910000': 'Federal government',\n",
    "       '920000': 'State \\& local government'}"
   ]
  },
  {
   "cell_type": "markdown",
   "metadata": {},
   "source": [
    "### Retrieve Data"
   ]
  },
  {
   "cell_type": "code",
   "execution_count": 2,
   "metadata": {
    "ExecuteTime": {
     "end_time": "2023-12-05T15:06:39.527721Z",
     "start_time": "2023-12-05T15:06:27.362558Z"
    }
   },
   "outputs": [
    {
     "name": "stdout",
     "output_type": "stream",
     "text": [
      "Post Request Status: REQUEST_SUCCEEDED\n",
      "Post Request Status: REQUEST_SUCCEEDED\n"
     ]
    }
   ],
   "source": [
    "series = {'JTS000000000000000JOL': 'Openings', \n",
    "          'JTS000000000000000HIL': 'Hires', \n",
    "          'JTS000000000000000QUL': 'Quits',\n",
    "          'JTS000000000000000TSL': 'Separations',\n",
    "          'JTS000000000000000LDL': 'Layoffs',\n",
    "          'JTS000000000000000OSL': 'Other_Sep',\n",
    "          'LNS13000000': 'Unemp'}\n",
    "\n",
    "series = jolts_codes(series, 'QUR', ind)\n",
    "    \n",
    "df1 = bls_api(series, (2000, 2023), bls_key)\n",
    "\n",
    "df1.to_csv(data_dir/'jolts_master.csv', index_label='date')\n",
    "\n",
    "series2 = {}\n",
    "series = jolts_codes(series2, 'JOR', ind)\n",
    "    \n",
    "df2 = bls_api(series2, (2000, 2023), bls_key)\n",
    "\n",
    "df2.to_csv(data_dir/'jolts_master2.csv', index_label='date')"
   ]
  },
  {
   "cell_type": "code",
   "execution_count": null,
   "metadata": {},
   "outputs": [],
   "source": []
  },
  {
   "cell_type": "code",
   "execution_count": null,
   "metadata": {},
   "outputs": [],
   "source": []
  },
  {
   "cell_type": "markdown",
   "metadata": {},
   "source": [
    "### Overview in Levels"
   ]
  },
  {
   "cell_type": "code",
   "execution_count": 3,
   "metadata": {
    "ExecuteTime": {
     "end_time": "2023-12-05T15:06:39.547397Z",
     "start_time": "2023-12-05T15:06:39.528838Z"
    }
   },
   "outputs": [
    {
     "name": "stdout",
     "output_type": "stream",
     "text": [
      "In October 2023, there were 8.7 million total nonfarm job openings (see {\\color{blue!90!black}\\textbf{---}}) and 5.9 million hires completed (see {\\color{cyan}\\textbf{---}}). In the same month, there were 5.6 million nonfarm separations, including 1.6 million layoffs (see {\\color{orange!75!yellow}\\textbf{---}}), 3.6 million quits (see {\\color{green!65!black}\\textbf{---}}), and 377,000 other separations. In 2019, there were an average of 5.8 million hires completed and 5.7 million total separations, per month.\n"
     ]
    }
   ],
   "source": [
    "df = (pd.read_csv(data_dir / 'jolts_master.csv', parse_dates=['date'])\n",
    "        .set_index('date'))\n",
    "\n",
    "levels_srs = ['Openings', 'Hires', 'Quits', 'Separations', \n",
    "              'Unemp', 'Layoffs', 'Other_Sep']\n",
    "\n",
    "levels_data = df[levels_srs].dropna() / 1000\n",
    "levels_data.to_csv(data_dir / 'jolts.csv', index_label='date')\n",
    "\n",
    "res = levels_data[['Openings', 'Hires', 'Quits', 'Layoffs']]\n",
    "\n",
    "adj = node_adj(res)\n",
    "smax = res.iloc[-1].idxmax()\n",
    "#adj[smax] = adj[smax] + 0.35\n",
    "\n",
    "col = {'Openings': 'blue!90!black', 'Hires': 'cyan', \n",
    "       'Quits': 'green!65!black', 'Layoffs': 'orange!75!yellow'}\n",
    "date = {series: 'm' if series == smax else None \n",
    "        for series in col.keys()}\n",
    "nodes  ='\\n'.join([end_node(res[series], color, \n",
    "                            date=date[series], \n",
    "                            size=1.1, offset=adj[series]) \n",
    "                   for series, color in col.items()])\n",
    "write_txt(text_dir / 'jolts_nodes.txt', nodes)  \n",
    "\n",
    "ltdata = levels_data.iloc[-1]\n",
    "\n",
    "ltdate = dtxt(ltdata.name)['mon1']\n",
    "write_txt(text_dir / 'jolts_ltdate.txt', ltdate)\n",
    "ltopen = ltdata['Openings']\n",
    "pryropen = levels_data['Openings'].iloc[-13]\n",
    "lthire = ltdata['Hires']\n",
    "ltquit = ltdata['Quits']\n",
    "ltsep = ltdata['Separations']\n",
    "ltlay = ltdata['Layoffs']\n",
    "ltoth = ltdata['Other_Sep'] * 1_000_000\n",
    "h19 = levels_data.loc['2019', 'Hires'].mean()\n",
    "ts19 = levels_data.loc['2019', 'Separations'].mean()\n",
    "\n",
    "\n",
    "cl = {name: c_line(color) for name, color in col.items()}\n",
    "\n",
    "text = (f'In {ltdate}, there were {ltopen:.1f} million total '+\n",
    "        f'nonfarm job openings {cl[\"Openings\"]} and {lthire:.1f} '+\n",
    "        f'million hires completed {cl[\"Hires\"]}. In the same '+\n",
    "        f'month, there were {ltsep:.1f} million nonfarm '+\n",
    "        f'separations, including {ltlay:.1f} million layoffs '+\n",
    "        f'{cl[\"Layoffs\"]}, {ltquit:.1f} million quits {cl[\"Quits\"]}, '+\n",
    "        f'and {ltoth:,.0f} other separations. In 2019, there were an '\n",
    "        f'average of {h19:.1f} million hires completed and '+\n",
    "        f'{ts19:.1f} million total separations, per month.')\n",
    "write_txt(text_dir / 'jolts2.txt', text)\n",
    "print(text)"
   ]
  },
  {
   "cell_type": "code",
   "execution_count": null,
   "metadata": {},
   "outputs": [],
   "source": []
  },
  {
   "cell_type": "code",
   "execution_count": null,
   "metadata": {},
   "outputs": [],
   "source": []
  },
  {
   "cell_type": "markdown",
   "metadata": {},
   "source": [
    "### Unemployed per job opening"
   ]
  },
  {
   "cell_type": "code",
   "execution_count": 4,
   "metadata": {
    "ExecuteTime": {
     "end_time": "2023-12-05T15:06:39.560731Z",
     "start_time": "2023-12-05T15:06:39.549673Z"
    }
   },
   "outputs": [
    {
     "name": "stdout",
     "output_type": "stream",
     "text": [
      "In October 2023, there were 6.5 million unemployed people and 8.7 million job openings, therefore the ratio of job openings per unemployed person was 1.3 (see {\\color{violet}\\textbf{---}}). In September 2023 the ratio was 1.5, and during 2019 the average ratio was 1.2.\n"
     ]
    }
   ],
   "source": [
    "df = (pd.read_csv(data_dir / 'jolts_master.csv', index_col='date', \n",
    "                  parse_dates=True)).dropna()\n",
    "opun = (df['Openings'] / df['Unemp']).rename('unjo')\n",
    "opun.to_csv(data_dir / 'unjo.csv', index_label='date')\n",
    "ratio = opun.iloc[-1]\n",
    "ratiop = opun.iloc[-2]\n",
    "prmon = dtxt(opun.index[-2])['mon1']\n",
    "ratio19 = opun.loc['2019'].mean()\n",
    "color = 'violet'\n",
    "write_txt(text_dir / 'unjo_node.txt', end_node(opun, color, date='m', \n",
    "                                               size=1.2, offset=-0.35))\n",
    "ltdt = dtxt(df.index[-1])['mon1']\n",
    "ltun = df['Unemp'].iloc[-1] / 1_000\n",
    "ltopen = df['Openings'].iloc[-1] / 1_000\n",
    "text = (f'In {ltdt}, there were {ltun:.1f} million unemployed '+\n",
    "        f'people and {ltopen:.1f} million job openings, therefore '+\n",
    "        'the ratio of job openings per unemployed person was '+\n",
    "        f'{ratio:.1f} {c_line(color)}. In {prmon} the ratio was '+\n",
    "        f'{ratiop:.1f}, and during 2019 the average ratio was '+\n",
    "        f'{ratio19:.1f}.')\n",
    "write_txt(text_dir / 'unjo.txt', text)\n",
    "print(text)"
   ]
  },
  {
   "cell_type": "code",
   "execution_count": null,
   "metadata": {},
   "outputs": [],
   "source": []
  },
  {
   "cell_type": "code",
   "execution_count": null,
   "metadata": {},
   "outputs": [],
   "source": []
  },
  {
   "cell_type": "markdown",
   "metadata": {},
   "source": [
    "### Quits rate by industry"
   ]
  },
  {
   "cell_type": "code",
   "execution_count": 5,
   "metadata": {
    "ExecuteTime": {
     "end_time": "2023-12-05T15:06:39.571074Z",
     "start_time": "2023-12-05T15:06:39.561940Z"
    }
   },
   "outputs": [
    {
     "name": "stdout",
     "output_type": "stream",
     "text": [
      "In October 2023, the total quits rate in all industries was 2.3 percent (see {\\color{violet!90!black}\\textbf{---}}). The accommodations and food services quits rate was 4.7 percent (see {\\color{red!50!purple}\\textbf{---}}); the series high for the industry group was 6.3 percent in January 2001.\n"
     ]
    }
   ],
   "source": [
    "short_names = {'JTS000000000000000QUR': 'TOT_QU', \n",
    "               'JTS720000000000000QUR': 'AFS_QU'}\n",
    "rates_data = df[short_names.keys()].dropna().rename(short_names, axis=1)\n",
    "\n",
    "rates_data.to_csv(data_dir / 'quits.csv', index_label='date')\n",
    "\n",
    "afs_col = 'red!50!purple'\n",
    "node = end_node(rates_data['AFS_QU'], afs_col)\n",
    "write_txt(text_dir / 'quits_afs_node.txt', node)\n",
    "tot_col = 'violet!90!black'\n",
    "node = end_node(rates_data['TOT_QU'], tot_col, date='m')\n",
    "write_txt(text_dir / 'quits_tot_node.txt', node)\n",
    "\n",
    "ltdata = rates_data.iloc[-1]\n",
    "afs_max = rates_data['AFS_QU'].max()\n",
    "afs_idxmax = dtxt(rates_data['AFS_QU'].idxmax())['mon1']\n",
    "\n",
    "h2 = ', the series high for the industry group.'\n",
    "if afs_idxmax == ltdate:\n",
    "    text2 = h2\n",
    "else:\n",
    "    text2 = ('; the series high for the industry group'+\n",
    "            f' was {afs_max} percent in {afs_idxmax}.')\n",
    "\n",
    "text = (f'In {ltdate}, the total quits rate in all industries '+\n",
    "        f'was {ltdata.TOT_QU} percent {c_line(tot_col)}. The '+\n",
    "        f'accommodations and food services quits rate was '+\n",
    "        f'{ltdata.AFS_QU} percent {c_line(afs_col)}'+text2)\n",
    "write_txt(text_dir / 'quits_afs.txt', text)\n",
    "print(text)"
   ]
  },
  {
   "cell_type": "code",
   "execution_count": null,
   "metadata": {},
   "outputs": [],
   "source": []
  },
  {
   "cell_type": "code",
   "execution_count": null,
   "metadata": {},
   "outputs": [],
   "source": []
  },
  {
   "cell_type": "markdown",
   "metadata": {},
   "source": [
    "### Range charts"
   ]
  },
  {
   "cell_type": "code",
   "execution_count": 6,
   "metadata": {
    "ExecuteTime": {
     "end_time": "2023-12-05T15:06:39.591377Z",
     "start_time": "2023-12-05T15:06:39.572256Z"
    }
   },
   "outputs": [],
   "source": [
    "df = (pd.read_csv(data_dir / 'jolts_master.csv', index_col='date', \n",
    "                  parse_dates=True))\n",
    "\n",
    "qu = df.loc[:,df.columns.str.endswith('QUR')].dropna()\n",
    "qur = pd.DataFrame({'max': qu.max(), 'min': qu.min(), 'latest': qu.iloc[-1], \n",
    "                    'maxst': qu.loc['2020-03-01':].max(), \n",
    "                    'minst': qu.loc['2020-03-01':].min(),\n",
    "                    'lt3m': qu.iloc[-3:].mean()})\n",
    "quits = jolts_codes({}, 'QUR', ind, value='name')\n",
    "final = pd.DataFrame()\n",
    "final['outer1'] = qur['min']\n",
    "final['range1'] = qur['minst'] - qur['min']\n",
    "final['rangest'] = qur['maxst'] - qur['minst']\n",
    "final['range2'] = qur['max'] - qur['maxst']\n",
    "final['outer2'] = qur['max'].max() - qur['max']\n",
    "final['latest'] = qur['latest']\n",
    "final['lt3m'] = qur['lt3m']\n",
    "final.index = final.index.map(quits)\n",
    "final = final.sort_values('latest', ascending=False)\n",
    "final['y'] = [i * -1 + 0.08 for i in list(range(0, len(qur)))]\n",
    "final.index.name = 'name'\n",
    "final.to_csv(data_dir / 'quits_ind.csv', sep=';')"
   ]
  },
  {
   "cell_type": "code",
   "execution_count": 7,
   "metadata": {
    "ExecuteTime": {
     "end_time": "2023-12-05T15:06:39.607753Z",
     "start_time": "2023-12-05T15:06:39.592564Z"
    }
   },
   "outputs": [],
   "source": [
    "df = (pd.read_csv(data_dir / 'jolts_master2.csv', index_col='date', \n",
    "                  parse_dates=True))\n",
    "\n",
    "jo = df.loc[:,df.columns.str.endswith('JOR')].dropna()\n",
    "jor = pd.DataFrame({'max': jo.max(), 'min': jo.min(), 'latest': jo.iloc[-1], \n",
    "                    'maxst': jo.loc['2020-03-01':].max(), \n",
    "                    'minst': jo.loc['2020-03-01':].min(),\n",
    "                    'lt3m': jo.iloc[-3:].mean()})\n",
    "jos = jolts_codes({}, 'JOR', ind, value='name')\n",
    "final = pd.DataFrame()\n",
    "final['outer1'] = jor['min']\n",
    "final['range1'] = jor['minst'] - jor['min']\n",
    "final['rangest'] = jor['maxst'] - jor['minst']\n",
    "final['range2'] = jor['max'] - jor['maxst']\n",
    "final['outer2'] = jor['max'].max() - jor['max']\n",
    "final['latest'] = jor['latest']\n",
    "final['lt3m'] = jor['lt3m']\n",
    "final.index = final.index.map(jos)\n",
    "final = final.sort_values('latest', ascending=False)\n",
    "final['y'] = [i * -1 + 0.08 for i in list(range(0, len(jor)))]\n",
    "final.index.name = 'name'\n",
    "final.to_csv(data_dir / 'openings_ind.csv', sep=';')\n",
    "#final"
   ]
  },
  {
   "cell_type": "code",
   "execution_count": null,
   "metadata": {},
   "outputs": [],
   "source": []
  }
 ],
 "metadata": {
  "kernelspec": {
   "display_name": "Python 3 (ipykernel)",
   "language": "python",
   "name": "python3"
  },
  "language_info": {
   "codemirror_mode": {
    "name": "ipython",
    "version": 3
   },
   "file_extension": ".py",
   "mimetype": "text/x-python",
   "name": "python",
   "nbconvert_exporter": "python",
   "pygments_lexer": "ipython3",
   "version": "3.8.13"
  }
 },
 "nbformat": 4,
 "nbformat_minor": 4
}
