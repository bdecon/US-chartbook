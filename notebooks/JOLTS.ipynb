{
 "cells": [
  {
   "cell_type": "code",
   "execution_count": null,
   "metadata": {},
   "outputs": [],
   "source": []
  },
  {
   "cell_type": "code",
   "execution_count": 1,
   "metadata": {},
   "outputs": [],
   "source": [
    "import sys\n",
    "import json\n",
    "sys.path.append('../src')\n",
    "\n",
    "import requests\n",
    "\n",
    "import uschartbook.config\n",
    "\n",
    "from uschartbook.config import *\n",
    "from uschartbook.utils import *"
   ]
  },
  {
   "cell_type": "code",
   "execution_count": 54,
   "metadata": {},
   "outputs": [
    {
     "name": "stdout",
     "output_type": "stream",
     "text": [
      "Post Request Status: REQUEST_SUCCEEDED\n"
     ]
    }
   ],
   "source": [
    "ind = {'000000': 'Total nonfarm',\n",
    "       '110099': 'Mining \\& logging',\n",
    "       '230000': 'Construction',\n",
    "       '320000': 'Durable goods manufacturing',\n",
    "       '340000': 'Nondurable goods manufacturing',\n",
    "       '510000': 'Information',\n",
    "       '510099': 'Financial activities',\n",
    "       '540099': 'Professional \\& business services',\n",
    "       '440000': 'Retail trade',\n",
    "       '480099': 'Transportation, warehousing, \\& utilities',\n",
    "       '610000': 'Educational services',\n",
    "       '620000': 'Health care \\& social services',\n",
    "       '720000': 'Accommodation \\& food services',\n",
    "       '910000': 'Federal government',\n",
    "       '920000': 'State \\& local government'}\n",
    "\n",
    "series = {'JTS00000000JOL': 'Openings', \n",
    "          'JTS00000000HIL': 'Hires', \n",
    "          'JTS00000000QUL': 'Quits',\n",
    "          'JTS00000000TSL': 'Separations',\n",
    "          'LNS13000000': 'Unemp'}\n",
    "\n",
    "for code, name in ind.items():\n",
    "    i = 'JTS' + code + '00' + 'QUR'\n",
    "    series[i] = i\n",
    "    \n",
    "df = bls_api(series, (2000, 2020), bls_key)\n",
    "\n",
    "df.to_csv(data_dir/'jolts_master.csv', index_label='date')"
   ]
  },
  {
   "cell_type": "code",
   "execution_count": 71,
   "metadata": {},
   "outputs": [
    {
     "name": "stdout",
     "output_type": "stream",
     "text": [
      "Post Request Status: REQUEST_SUCCEEDED\n"
     ]
    }
   ],
   "source": [
    "series2 = {}\n",
    "for code, name in ind.items():\n",
    "    i = 'JTS' + code + '00' + 'JOR'\n",
    "    series2[i] = i\n",
    "    \n",
    "df = bls_api(series2, (2000, 2020), bls_key)\n",
    "\n",
    "df.to_csv(data_dir/'jolts_master2.csv', index_label='date')"
   ]
  },
  {
   "cell_type": "code",
   "execution_count": 55,
   "metadata": {},
   "outputs": [
    {
     "data": {
      "text/plain": [
       "'In December 2019, there were 6.4 million total job openings and 5.9 million hires completed. In the same month there were 5.7 million total separations, of which 3.5 million were voluntary. In comparison, there are 5.8 million unemployed persons in December 2019. The ratio of job openings to unemployed persons was 1.1 in the latest month, compared to 1.2 in the same month one year prior, and 0.8 in December 2016.'"
      ]
     },
     "execution_count": 55,
     "metadata": {},
     "output_type": "execute_result"
    }
   ],
   "source": [
    "df = (pd.read_csv(data_dir / 'jolts_master.csv', parse_dates=['date'])\n",
    "        .set_index('date'))\n",
    "\n",
    "levels_srs = ['Openings', 'Hires', 'Quits', 'Separations', 'Unemp']\n",
    "rates_srs = ['JTS72000000QUR', 'JTS00000000QUR']\n",
    "\n",
    "levels_data = df[levels_srs].dropna() / 1000\n",
    "levels_data.to_csv(data_dir / 'jolts.csv', index_label='date')\n",
    "\n",
    "ltdata = levels_data.iloc[-1]\n",
    "\n",
    "ltdate = dtxt(ltdata.name)['mon1']\n",
    "write_txt(text_dir / 'jolts_ltdate.txt', ltdate)\n",
    "ltopen = ltdata['Openings']\n",
    "lthire = ltdata['Hires']\n",
    "ltquit = ltdata['Quits']\n",
    "ltsep = ltdata['Separations']\n",
    "ltun = ltdata['Unemp']\n",
    "\n",
    "ratio = ltdata['Openings'] / ltdata['Unemp']\n",
    "ratiop = levels_data['Openings'].iloc[-12] / levels_data['Unemp'].iloc[-12]\n",
    "p3date = dtxt(levels_data.index[-37])['mon1']\n",
    "ratio3 = levels_data['Openings'].iloc[-37] / levels_data['Unemp'].iloc[-37]\n",
    "\n",
    "text = (f'In {ltdate}, there were {ltopen:.1f} million total job openings '+\n",
    "        f'and {lthire:.1f} million hires completed. In the same month '+\n",
    "        f'there were {ltsep:.1f} million total separations, of '+\n",
    "        f'which {ltquit:.1f} million were voluntary. In comparison, '+\n",
    "        f'there are {ltun:.1f} million unemployed persons in {ltdate}. The ratio '+\n",
    "        f'of job openings to unemployed persons was {ratio:.1f} in the latest '+\n",
    "        f'month, compared to {ratiop:.1f} in the same month one year prior, and '+\n",
    "        f'{ratio3:.1f} in {p3date}.')\n",
    "\n",
    "write_txt(text_dir / 'jolts2.txt', text)\n",
    "\n",
    "text"
   ]
  },
  {
   "cell_type": "code",
   "execution_count": 56,
   "metadata": {},
   "outputs": [
    {
     "data": {
      "text/plain": [
       "'In December 2019, the total quits rate in all industries was 2.3 percent. The accommodations and food services quits rate was 4.9 percent; the series high for the industry group was 6.3 percent in January 2001.'"
      ]
     },
     "execution_count": 56,
     "metadata": {},
     "output_type": "execute_result"
    }
   ],
   "source": [
    "rates_data = df[rates_srs].dropna().rename({'JTS00000000QUR': 'TOT_QU', 'JTS72000000QUR': 'AFS_QU'}, axis=1)\n",
    "\n",
    "rates_data.to_csv(data_dir / 'quits.csv', index_label='date')\n",
    "\n",
    "ltdata = rates_data.iloc[-1]\n",
    "\n",
    "afs_max = rates_data['AFS_QU'].max()\n",
    "afs_idxmax = dtxt(rates_data['AFS_QU'].idxmax())['mon1']\n",
    "\n",
    "text = (f'In {ltdate}, the total quits rate in all industries was {ltdata.TOT_QU} percent. '+\n",
    "        f'The accommodations and food services quits rate was {ltdata.AFS_QU} '+\n",
    "        f'percent; the series high for the industry group was {afs_max} percent in {afs_idxmax}.')\n",
    "\n",
    "write_txt(text_dir / 'quits_afs.txt', text)\n",
    "\n",
    "text"
   ]
  },
  {
   "cell_type": "code",
   "execution_count": 67,
   "metadata": {},
   "outputs": [],
   "source": [
    "max_qur = df.loc[:,df.columns.str.endswith('QUR')].dropna().max()\n",
    "min_qur = df.loc[:,df.columns.str.endswith('QUR')].dropna().min()\n",
    "lt_qur = df.loc[:,df.columns.str.endswith('QUR')].dropna().iloc[-1]\n",
    "\n",
    "qur = pd.DataFrame({'max': max_qur, 'min': min_qur, 'latest': lt_qur})\n",
    "\n",
    "quits = {}\n",
    "\n",
    "for code, name in ind.items():\n",
    "    i = 'JTS' + code + '00' + 'QUR'\n",
    "    quits[i] = name\n",
    "    \n",
    "qur.index = qur.index.map(quits)\n",
    "qur['width'] = qur['max'] - qur['min']\n",
    "qur.index.name = 'name'\n",
    "final = qur[['min', 'width', 'latest']].sort_values('latest', ascending=False)\n",
    "final['y'] = [i * -1 + 0.13 for i in list(range(0, len(qur)))]\n",
    "final.to_csv(data_dir / 'quits_ind.csv', sep=';')"
   ]
  },
  {
   "cell_type": "code",
   "execution_count": 72,
   "metadata": {},
   "outputs": [],
   "source": [
    "df = (pd.read_csv(data_dir / 'jolts_master2.csv', parse_dates=['date'])\n",
    "        .set_index('date'))\n",
    "\n",
    "max_qur = df.loc[:,df.columns.str.endswith('JOR')].dropna().max()\n",
    "min_qur = df.loc[:,df.columns.str.endswith('JOR')].dropna().min()\n",
    "lt_qur = df.loc[:,df.columns.str.endswith('JOR')].dropna().iloc[-1]\n",
    "\n",
    "qur = pd.DataFrame({'max': max_qur, 'min': min_qur, 'latest': lt_qur})\n",
    "\n",
    "quits = {}\n",
    "\n",
    "for code, name in ind.items():\n",
    "    i = 'JTS' + code + '00' + 'JOR'\n",
    "    quits[i] = name\n",
    "    \n",
    "qur.index = qur.index.map(quits)\n",
    "qur['width'] = qur['max'] - qur['min']\n",
    "qur.index.name = 'name'\n",
    "final = qur[['min', 'width', 'latest']].sort_values('latest', ascending=False)\n",
    "final['y'] = [i * -1 + 0.13 for i in list(range(0, len(qur)))]\n",
    "final.to_csv(data_dir / 'openings_ind.csv', sep=';')"
   ]
  },
  {
   "cell_type": "code",
   "execution_count": null,
   "metadata": {},
   "outputs": [],
   "source": []
  }
 ],
 "metadata": {
  "kernelspec": {
   "display_name": "Python 3",
   "language": "python",
   "name": "python3"
  },
  "language_info": {
   "codemirror_mode": {
    "name": "ipython",
    "version": 3
   },
   "file_extension": ".py",
   "mimetype": "text/x-python",
   "name": "python",
   "nbconvert_exporter": "python",
   "pygments_lexer": "ipython3",
   "version": "3.8.1"
  }
 },
 "nbformat": 4,
 "nbformat_minor": 4
}
