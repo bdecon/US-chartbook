{
 "cells": [
  {
   "cell_type": "markdown",
   "metadata": {},
   "source": [
    "## CPS_ASEC"
   ]
  },
  {
   "cell_type": "code",
   "execution_count": 2,
   "metadata": {
    "ExecuteTime": {
     "end_time": "2022-10-11T18:12:29.607520Z",
     "start_time": "2022-10-11T18:12:29.602578Z"
    }
   },
   "outputs": [],
   "source": [
    "import sys\n",
    "sys.path.append('../src')\n",
    "\n",
    "import requests\n",
    "\n",
    "import uschartbook.config\n",
    "\n",
    "from uschartbook.config import *\n",
    "from uschartbook.utils import *\n",
    "\n",
    "path = '/home/brian/Documents/ASEC/data/'"
   ]
  },
  {
   "cell_type": "markdown",
   "metadata": {},
   "source": [
    "### Distribution of Personal Income"
   ]
  },
  {
   "cell_type": "code",
   "execution_count": 5,
   "metadata": {
    "ExecuteTime": {
     "end_time": "2022-10-09T01:23:15.155987Z",
     "start_time": "2022-10-09T01:23:09.776993Z"
    }
   },
   "outputs": [],
   "source": [
    "year = '2022'\n",
    "yr = int(year) - 1 # CPS ASEC references prior year\n",
    "write_txt(text_dir / 'asec_year.txt', f'{yr}')\n",
    "datafile = f'asec{year}_pubuse.dat'\n",
    "# Retrieve column info from dictionary\n",
    "variables = ['PRECORD', 'MARSUPWT', 'PEARNVAL', 'ERN_VAL', 'PTOTVAL']\n",
    "dictfile = f'persfmt{year[2:]}.txt'\n",
    "dd = open(path + dictfile).read()\n",
    "p = f'({\"|\".join(variables)})\\s+(\\d+)\\s+(\\d+)\\s'\n",
    "cols = {name: (int(start) - 1, int(start) - 1 + int(length)) \n",
    "        for name, length, start in re.findall(p, dd)}\n",
    "\n",
    "# Read raw fwf file\n",
    "df = (pd.read_fwf(path + datafile, \n",
    "                  colspecs=list(cols.values()), \n",
    "                  header=None, \n",
    "                  names=list(cols.keys()))\n",
    "        .astype({'MARSUPWT': 'int'})\n",
    "        .query('PRECORD == 3 and MARSUPWT > 0'))\n",
    "\n",
    "res = {}\n",
    "for val in ['PTOTVAL', 'PEARNVAL']:\n",
    "    res[val] = {}\n",
    "    for i in range(0,99):\n",
    "        bins=np.arange(-500, 350000, 500)\n",
    "        cdf = (df.groupby(pd.cut(df[val], bins))\n",
    "                 .MARSUPWT.sum().cumsum() / df.MARSUPWT.sum())\n",
    "        res[val][i] = np.interp(i/100, cdf, bins[1:])\n",
    "\n",
    "data = pd.DataFrame(res) / 1_000\n",
    "data['Diff'] = data['PTOTVAL'] - data['PEARNVAL']\n",
    "data.to_csv(data_dir / 'pearn_dist.csv', index_label='percentile')"
   ]
  },
  {
   "cell_type": "code",
   "execution_count": 6,
   "metadata": {
    "ExecuteTime": {
     "end_time": "2022-10-09T01:23:15.168206Z",
     "start_time": "2022-10-09T01:23:15.157185Z"
    }
   },
   "outputs": [
    {
     "name": "stdout",
     "output_type": "stream",
     "text": [
      "Over calendar year 2021, 50 percent of people have any labor income (see\\cbox{cyan!50!white}). Only 43 percent of people have labor income above the single-person poverty threshold of \\$12,880.\n",
      "\n",
      "Total income, includes after-tax labor income plus welfare and capital income, (see\\cbox{violet!50!purple}) reaches 71 percent of people in 2021. People who did not receive any income by the total income measure typically live with people who receive income. \n",
      "\n",
      "In 2021, 4.6 percent of people have total income of more than \\$150,000. Note that the chart cuts off income above \\$150,000. \n"
     ]
    }
   ],
   "source": [
    "data = pd.read_csv(data_dir / 'pearn_dist.csv', index_col='percentile')\n",
    "data.loc[99] = data.loc[98]\n",
    "data.index = data.index + 1\n",
    "threshold = 12880\n",
    "lab = 100 - data[data['PEARNVAL'] > 0].index[0]\n",
    "labp = 100 - data[data['PEARNVAL'] > (threshold / 1000)].index[0]\n",
    "tot = 100 - data[data['PTOTVAL'] > 0].index[0]\n",
    "color = {'PEARNVAL': 'cyan!50!white', 'Diff': 'violet!50!purple'}\n",
    "sh150 = (df.loc[df.PTOTVAL > 150000, 'MARSUPWT'].sum() / \n",
    "         df['MARSUPWT'].sum()) * 100\n",
    "text = (f'Over calendar year {yr}, {lab} percent of people have '+\n",
    "        f'any labor income {c_box(color[\"PEARNVAL\"])}. Only '+\n",
    "        f'{labp} percent of people have labor income above the '+\n",
    "        f'single-person poverty threshold of \\${threshold:,.0f}.'+\n",
    "        '\\n\\nTotal income, includes after-tax labor income plus '+\n",
    "        f'welfare and capital income, {c_box(color[\"Diff\"])} '+\n",
    "        f'reaches {tot} percent of people in {yr}. People who '+\n",
    "        'did not receive any income by the total income measure '+\n",
    "        'typically live with people who receive income. \\n\\nIn '+\n",
    "        f'{yr}, {sh150:.1f} percent of people have total income '+\n",
    "        'of more than \\$150,000. Note that the chart cuts off '+\n",
    "        'income above \\$150,000. ')\n",
    "write_txt(text_dir / 'pearn.txt', text)\n",
    "print(text)"
   ]
  },
  {
   "cell_type": "code",
   "execution_count": 31,
   "metadata": {
    "ExecuteTime": {
     "end_time": "2022-10-09T03:57:15.941429Z",
     "start_time": "2022-10-09T03:57:15.935221Z"
    }
   },
   "outputs": [],
   "source": [
    "wmed = 100 - (data[data['PEARNVAL'] > 0].index[0] / 2)\n",
    "wmedt = wmed - 11\n",
    "text = (f'\\draw [black!60] (axis cs:{{{wmed}}},\\pgfkeysvalueof{{/pgfplots/ymin}}) -- '+\n",
    " f'(axis cs:{{{wmed}}}, \\pgfkeysvalueof{{/pgfplots/ymax}});\\n'+\n",
    " f'\\\\absnode{{{wmedt}}}{{79}}{{\\small \\color{{black!75}} worker\\\\\\ \\small \\color{{black!75}} median}}')\n",
    "write_txt(text_dir / 'pearn_worker_med.txt', text)"
   ]
  },
  {
   "cell_type": "code",
   "execution_count": null,
   "metadata": {},
   "outputs": [],
   "source": []
  },
  {
   "cell_type": "code",
   "execution_count": null,
   "metadata": {},
   "outputs": [],
   "source": []
  },
  {
   "cell_type": "markdown",
   "metadata": {
    "ExecuteTime": {
     "end_time": "2022-02-07T20:23:59.275006Z",
     "start_time": "2022-02-07T20:23:59.273104Z"
    }
   },
   "source": [
    "### Real Median Household Income"
   ]
  },
  {
   "cell_type": "code",
   "execution_count": 3,
   "metadata": {
    "ExecuteTime": {
     "end_time": "2022-10-10T15:52:39.827017Z",
     "start_time": "2022-10-10T15:52:38.947565Z"
    }
   },
   "outputs": [],
   "source": [
    "url = ('https://www2.census.gov/programs-surveys/'+\n",
    "       'demo/tables/p60/276/tableA2.xlsx')\n",
    "df = pd.read_excel(url, header=4, index_col=0, skipfooter=34)\n",
    "# Data covering all races\n",
    "data = df.loc[:'WHITE ALONE 25'].dropna()\n",
    "data.index = (pd.to_datetime(data.index.astype('str').str[:4]) + \n",
    "               pd.DateOffset(months=6))\n",
    "res = data[['Estimate', 'Estimate.1']]\n",
    "res = res.rename({'Estimate': 'Median', \n",
    "                  'Estimate.1': 'Mean'}, axis=1)\n",
    "final = pd.DataFrame()\n",
    "for col in res.columns:\n",
    "    i = res[col]\n",
    "    loc1 = np.where(i.index.get_loc('2017-07-01'))[0][1]\n",
    "    loc2 = np.where(i.index.get_loc('2013-07-01'))[0][1]\n",
    "    final = final.join(i.iloc[:loc1].rename(f'{col}_LT'), how='outer')\n",
    "    final = final.join(i.iloc[loc1: loc2].rename(f'{col}_PR'), how='outer')\n",
    "    final = final.join(i.iloc[loc2:].rename(f'{col}_PR2'), how='outer')\n",
    "    \n",
    "final.loc['1989':].divide(1000).to_csv(data_dir / 'real_hh_inc.csv', \n",
    "                                     index_label='date')\n",
    "\n",
    "# Decile thresholds\n",
    "url = 'https://www2.census.gov/programs-surveys/demo/tables/p60/276/tableA4.xlsx'\n",
    "df = pd.read_excel(url, header=5, index_col=0, skipfooter=25)\n",
    "data = df[['10th percentile limit', '90th percentile limit']]\n",
    "data.index = (pd.to_datetime(data.index.astype('str').str[:4]) + \n",
    "               pd.DateOffset(months=6))\n",
    "res = data.rename({'10th percentile limit': 'p10', \n",
    "                   '90th percentile limit': 'p90'}, axis=1)\n",
    "final = pd.DataFrame()\n",
    "for col in res.columns:\n",
    "    i = res[col]\n",
    "    loc1 = np.where(i.index.get_loc('2017-07-01'))[0][1]\n",
    "    loc2 = np.where(i.index.get_loc('2013-07-01'))[0][1]\n",
    "    final = final.join(i.iloc[:loc1].rename(f'{col}_LT'), how='outer')\n",
    "    final = final.join(i.iloc[loc1: loc2].rename(f'{col}_PR'), how='outer')\n",
    "    final = final.join(i.iloc[loc2:].rename(f'{col}_PR2'), how='outer')\n",
    "    \n",
    "final.loc['1989':].divide(1000).to_csv(data_dir / 'real_hh_inc_dec.csv', \n",
    "                                     index_label='date')"
   ]
  },
  {
   "cell_type": "code",
   "execution_count": 89,
   "metadata": {
    "ExecuteTime": {
     "end_time": "2022-10-10T22:54:42.427956Z",
     "start_time": "2022-10-10T22:54:42.409803Z"
    }
   },
   "outputs": [
    {
     "name": "stdout",
     "output_type": "stream",
     "text": [
      "The mean or average household income is \\$102,316 in 2021 (see {\\color{cyan}\\textbf{---}}), compared to \\$102,020 in 2020, and \\$103,949 in 2019. In 2000, real mean household income was \\$90,142.  \n",
      "\n",
      "Real median household income (see {\\color{violet}\\textbf{---}}), the price-adjusted midpoint among household incomes, is \\$70,784 in 2021, \\$71,186 in 2020, and \\$72,808 in 2019. For comparison, real median household income was \\$66,248 in 2000. Since 2000, real median income increased by a total of 6.8 percent. \n",
      "\n",
      "The price-adjusted income limit for the 90th percentile is \\$211,956 in 2021 (see {\\color{teal}\\textbf{---}}), \\$211,438 in 2020, \\$213,171 in 2019, and \\$176,702 in 2000. Ten percent of households make more than this level. \n",
      "\n",
      "On the opposite end of the income distribution, the 10th percentile income limit is \\$15,660 in 2021 (see {\\color{orange!80!yellow}\\textbf{---}}), \\$16,386 in 2020, \\$16,984 in 2019, and \\$16,695 in 2000. Ten percent of households make less than this level. \n"
     ]
    }
   ],
   "source": [
    "df = pd.read_csv(data_dir / 'real_hh_inc.csv', parse_dates=True,\n",
    "                 index_col='date') * 1000\n",
    "clmean = c_line('cyan')\n",
    "ltdt = dtxt(df.index[-1])['year']\n",
    "prdt = dtxt(df.index[-2])['year']\n",
    "prdt2 = dtxt(df.index[-3])['year']\n",
    "vallt = df['Mean_LT'].iloc[-1]\n",
    "valpr = df['Mean_LT'].iloc[-2]\n",
    "valpr2 = df['Mean_LT'].iloc[-3]\n",
    "val00 = df.loc['2000', 'Mean_PR2'].iloc[0]\n",
    "\n",
    "text = (f'The mean or average household income is \\${vallt:,.0f} in '+\n",
    "        f'{ltdt} {clmean}, compared to \\${valpr:,.0f} in {prdt}, and '+\n",
    "        f'\\${valpr2:,.0f} in {prdt2}. In 2000, real mean household '+\n",
    "        f'income was \\${val00:,.0f}. ')\n",
    "write_txt(text_dir / 'hh_inc1.txt', text)\n",
    "print(text, '\\n')\n",
    "\n",
    "clmed = c_line('violet')\n",
    "valmedlt = df['Median_LT'].iloc[-1]\n",
    "valmedpr = df['Median_LT'].iloc[-2]\n",
    "valmedpr2 = df['Median_LT'].iloc[-3]\n",
    "valmed00 = df.loc['2000', 'Median_PR2'].iloc[0]\n",
    "medch = ((df['Median_LT'].iloc[-1] / \n",
    "          df.loc['2000', 'Median_PR2'].iloc[0]) - 1) * 100\n",
    "medincdec = value_text(medch, adj='total')\n",
    "\n",
    "text = (f'Real median household income {clmed}, the price-adjusted '+\n",
    "        f'midpoint among household incomes, is \\${valmedlt:,.0f} in '+\n",
    "        f'{ltdt}, \\${valmedpr:,.0f} in {prdt}, and \\${valmedpr2:,.0f} in '+\n",
    "        f'{prdt2}. For comparison, real median household income was '+\n",
    "        f'\\${valmed00:,.0f} in 2000. Since 2000, real median income '+\n",
    "        f'{medincdec}.')\n",
    "write_txt(text_dir / 'hh_inc2.txt', text)\n",
    "print(text, '\\n')\n",
    "\n",
    "df = pd.read_csv(data_dir / 'real_hh_inc_dec.csv', parse_dates=True,\n",
    "                 index_col='date') * 1000\n",
    "cl90 = c_line('teal')\n",
    "cl10 = c_line('orange!80!yellow')\n",
    "val90lt = df['p90_LT'].iloc[-1]\n",
    "val90pr = df['p90_LT'].iloc[-2]\n",
    "val90pr2 = df['p90_LT'].iloc[-3]\n",
    "val9000 = df.loc['2000', 'p90_PR2'].iloc[0]\n",
    "val10lt = df['p10_LT'].iloc[-1]\n",
    "val10pr = df['p10_LT'].iloc[-2]\n",
    "val10pr2 = df['p10_LT'].iloc[-3]\n",
    "val1000 = df.loc['2000', 'p10_PR2'].iloc[0]\n",
    "\n",
    "text = ('The price-adjusted income limit for the 90th percentile '+\n",
    "        f'is \\${val90lt:,.0f} in {ltdt} {cl90}, \\${val90pr:,.0f} in {prdt}, '+\n",
    "        f'\\${val90pr2:,.0f} in {prdt2}, and \\${val9000:,.0f} in 2000. Ten '+\n",
    "        'percent of households make more than this level. \\n\\n'+\n",
    "        'On the opposite end of the income distribution, the 10th '+\n",
    "        f'percentile income limit is \\${val10lt:,.0f} in {ltdt} {cl10}, '+\n",
    "        f'\\${val10pr:,.0f} in {prdt}, \\${val10pr2:,.0f} in {prdt2}, and '+\n",
    "        f'\\${val1000:,.0f} in 2000. Ten percent of households make '+\n",
    "        'less than this level. ')\n",
    "write_txt(text_dir / 'hh_inc3.txt', text)\n",
    "print(text)"
   ]
  },
  {
   "cell_type": "code",
   "execution_count": 76,
   "metadata": {
    "ExecuteTime": {
     "end_time": "2022-10-09T23:49:06.105770Z",
     "start_time": "2022-10-09T23:49:06.037730Z"
    }
   },
   "outputs": [
    {
     "name": "stdout",
     "output_type": "stream",
     "text": [
      "Black median household income was \\$48,297 in 2021, compared to an inflation-adjusted equivalent of \\$48,175 in 2020 (see {\\color{blue!80!black}\\textbf{---}}). Non-Hispanic white median household income was \\$77,999 in 2021 and \\$78,912 in 2020 (see {\\color{green!80!black}\\textbf{---}}). Hispanic (any race) median household income was \\$57,981 in 2021 and \\$58,015 in 2020 (see {\\color{red!90!black}\\textbf{---}}). Asian median household income was \\$101,418 in 2021 and \\$99,622 in 2020 (see {\\color{orange}\\textbf{---}}). \n"
     ]
    }
   ],
   "source": [
    "# Median Household income by race/ethnicity\n",
    "url = ('https://www2.census.gov/programs-surveys/'+\n",
    "       'demo/tables/p60/276/tableA2.xlsx')\n",
    "df = pd.read_excel(url, header=4, index_col=0, skipfooter=34)\n",
    "grps = [('Black', 'BLACK ALONE 27', 'ASIAN ALONE OR IN COMBINATION', \n",
    "         'BLACK 26'),\n",
    "        ('Asian', 'ASIAN ALONE 28', 'AMERICAN INDIAN AND ALASKA NATIVE ALONE OR IN COMBINATION', \n",
    "         'ASIAN AND PACIFIC ISLANDER 26'),\n",
    "        ('White', 'WHITE ALONE, NOT HISPANIC 25', \n",
    "         'BLACK ALONE OR IN COMBINATION', 'WHITE, NOT HISPANIC 26'),\n",
    "        ('Hispanic', 'HISPANIC (ANY RACE) 30', '', '')]\n",
    "data = (df['Estimate'].reset_index().fillna(method='ffill', axis=1)\n",
    "        .set_index('index'))\n",
    "res = pd.DataFrame()\n",
    "for name, start, end, drop in grps:\n",
    "    if end == '':\n",
    "        s = (data.loc[start: ].iloc[1:-1]).Estimate\n",
    "    else:\n",
    "        s = (data.loc[start: end].iloc[1:-1].drop(drop)).Estimate\n",
    "    s.index = (pd.to_datetime(s.index.astype('str').str[:4]) + \n",
    "               pd.DateOffset(months=6))\n",
    "    loc1 = np.where(s.index.get_loc('2017-07-01'))[0][1]\n",
    "    loc2 = np.where(s.index.get_loc('2013-07-01'))[0][1]\n",
    "    res = res.join(s.iloc[:loc1].rename(f'{name}_LT'), how='outer')\n",
    "    res = res.join(s.iloc[loc1: loc2].rename(f'{name}_PR'), how='outer')\n",
    "    res = res.join(s.iloc[loc2:].rename(f'{name}_PR2'), how='outer')\n",
    "    \n",
    "res.loc['1989':].divide(1000).to_csv(data_dir / 'real_med_hh_inc.csv', \n",
    "                                     index_label='date')\n",
    "\n",
    "cols = [('Wh', 'green!80!black'), ('Bl', 'blue!80!black'), \n",
    "        ('Hi', 'red!90!black'), ('As', 'orange')]\n",
    "cl = {name: c_line(color) for name, color in cols}\n",
    "ltdt = res.index[-1].year\n",
    "write_txt(text_dir / 'rmhi_ltdt.txt', f'{ltdt}')\n",
    "prdt = res.index[-2].year\n",
    "ltval = res.iloc[-1].dropna().apply(lambda x: f'\\${x:,.0f}')\n",
    "prval = res.iloc[-2].dropna().apply(lambda x: f'\\${x:,.0f}')\n",
    "text = (f'Black median household income was {ltval.Black_LT} in '+\n",
    "        f'{ltdt}, compared to an inflation-adjusted equivalent '+\n",
    "        f'of {prval.Black_LT} in {prdt} {cl[\"Bl\"]}. Non-Hispanic '+\n",
    "        f'white median household income was {ltval.White_LT} in '+\n",
    "        f'{ltdt} and {prval.White_LT} in {prdt} {cl[\"Wh\"]}. '+\n",
    "        f'Hispanic (any race) median household income was '+\n",
    "        f'{ltval.Hispanic_LT} in {ltdt} and {prval.Hispanic_LT} '+\n",
    "        f'in {prdt} {cl[\"Hi\"]}. Asian median household income was '+\n",
    "        f'{ltval.Asian_LT} in {ltdt} and {prval.Asian_LT} in '+\n",
    "        f'{prdt} {cl[\"As\"]}. ')\n",
    "write_txt(text_dir / 'real_med_hh_inc.txt', text)\n",
    "print(text)"
   ]
  },
  {
   "cell_type": "code",
   "execution_count": null,
   "metadata": {},
   "outputs": [],
   "source": []
  },
  {
   "cell_type": "code",
   "execution_count": null,
   "metadata": {},
   "outputs": [],
   "source": []
  },
  {
   "cell_type": "markdown",
   "metadata": {},
   "source": [
    "### Full-time, full-year workers"
   ]
  },
  {
   "cell_type": "code",
   "execution_count": 7,
   "metadata": {
    "ExecuteTime": {
     "end_time": "2022-10-09T00:26:23.256323Z",
     "start_time": "2022-10-09T00:26:20.730469Z"
    }
   },
   "outputs": [
    {
     "name": "stdout",
     "output_type": "stream",
     "text": [
      "117.4 million fully-employed people in 2021, equivalent to 35.7 percent of the US population, compared to 105.5 million (32.3 percent) in 2020. \n"
     ]
    }
   ],
   "source": [
    "ltyear = 2022\n",
    "pry, lty = [str(ltyear-1), str(ltyear)]\n",
    "res = {}\n",
    "for year in [pry, lty]:\n",
    "    res[year] = {}\n",
    "    varlist = ['WEWKRS', 'MARSUPWT', 'PRECORD']\n",
    "    dictfile = f'{path}/persfmt{year[2:]}.txt'\n",
    "    dd = open(dictfile).read()\n",
    "    p = f'({\"|\".join(varlist)})\\s+(\\d+)\\s+(\\d+)\\s'\n",
    "    cols = {name: (int(start) - 1, int(start) - 1 + int(length)) \n",
    "            for name, length, start in re.findall(p, dd)}\n",
    "\n",
    "    datafile = f'{path}/asec{year}_pubuse.dat'\n",
    "    df = (pd.read_fwf(datafile, \n",
    "                      colspecs=list(cols.values()), \n",
    "                      header=None, \n",
    "                      names=list(cols.keys()))\n",
    "            .query('PRECORD == 3'))\n",
    "    \n",
    "    data = df.groupby('WEWKRS').MARSUPWT.sum() / 100_000_000\n",
    "    res[year]['tot'] = data[1]\n",
    "    res[year]['sh'] = data[1] / data.sum() * 100\n",
    "\n",
    "text = (f'{res[lty][\"tot\"]:.1f} million fully-employed people in '+\n",
    "        f'{ltyear - 1}, equivalent to {res[lty][\"sh\"]:.1f} percent '+\n",
    "        f'of the US population, compared to {res[pry][\"tot\"]:.1f} '+\n",
    "        f'million ({res[pry][\"sh\"]:.1f} percent) in {ltyear - 2}. ')\n",
    "write_txt(text_dir / 'asec_ftfy_tot.txt', text)\n",
    "print(text)"
   ]
  },
  {
   "cell_type": "code",
   "execution_count": null,
   "metadata": {},
   "outputs": [],
   "source": []
  },
  {
   "cell_type": "code",
   "execution_count": null,
   "metadata": {},
   "outputs": [],
   "source": []
  },
  {
   "cell_type": "markdown",
   "metadata": {},
   "source": [
    "### Poverty Rates (SPM and OPM)"
   ]
  },
  {
   "cell_type": "code",
   "execution_count": 12,
   "metadata": {
    "ExecuteTime": {
     "end_time": "2022-10-09T22:36:28.639403Z",
     "start_time": "2022-10-09T22:36:28.633304Z"
    }
   },
   "outputs": [],
   "source": [
    "# Historical SPM\n",
    "#url = ('https://www.povertycenter.columbia.edu/s/'+\n",
    "#       'Anchored-and-Historical-Poverty-Rates-1967-to-2020.xlsx')\n",
    "\n",
    "data = [(1989, 14.3), (1990, 14.8), (1991, 15.2), (1992, 15.8),\n",
    "        (1993, 16.8), (1994, 15.7), (1995, 14.2), (1996, 14.1), \n",
    "        (1997, 13.6), (1998, 13.0), (1999, 12.4), (2000, 12.4), \n",
    "        (2001, 13.2), (2002, 13.6), (2003, 13.8), (2004, 13.7), \n",
    "        (2005, 13.7), (2006, 13.8), (2007, 14.4), (2008, 14.8)]\n",
    "idx, values = zip(*data)\n",
    "\n",
    "spmh = pd.Series(values, idx).rename('PR4')\n",
    "spmh.index = (pd.to_datetime(spmh.index.astype('str')) + \n",
    "              pd.DateOffset(months=6))"
   ]
  },
  {
   "cell_type": "code",
   "execution_count": 21,
   "metadata": {
    "ExecuteTime": {
     "end_time": "2022-10-09T22:43:57.621823Z",
     "start_time": "2022-10-09T22:43:57.064402Z"
    }
   },
   "outputs": [
    {
     "name": "stdout",
     "output_type": "stream",
     "text": [
      "Since 1989, the official poverty measure (see {\\color{green!80!blue}\\textbf{---}}) shows between 10.5 percent and 15.1 percent of people in poverty, with an average poverty rate of 13.0 percent during the period. Poverty rates were above average after the recession of 1991 and after the great recession, and below average around 2000.\n",
      "\n",
      "In 2019, both the official US poverty measure and the more-comprehensive supplemental measure (see {\\color{blue!80!green}\\textbf{---}}) reached a new low. In 2021, the supplemental poverty measure fell further, to a new low of 7.8 percent, while the official measure increased. The official poverty rate does not include stimulus checks, housing assistance, or tax credits, while the supplemental rate does.\n"
     ]
    }
   ],
   "source": [
    "url = ('https://www2.census.gov/programs-surveys/demo/tables/'+\n",
    "       'p60/277/tableA4_hist_pov_by_family_type.xlsx')\n",
    "df = pd.read_excel(url, header=6, index_col=0, skipfooter=34)\n",
    "df = (df['Percent'].reset_index().fillna(method='ffill', axis=1)\n",
    "        .set_index('index'))\n",
    "s = df.loc['ALL RACES': 'WHITE ALONE23', 'Percent'].iloc[1:-1]\n",
    "s.index = (pd.to_datetime(s.index.astype('str').str[:4]) + \n",
    "               pd.DateOffset(months=6))\n",
    "loc1 = np.where(s.index == '2013-07-01')[0][1]\n",
    "loc2 = np.where(s.index == '2013-07-01')[0][1]\n",
    "res = pd.DataFrame()\n",
    "res = res.join(s.iloc[:loc1].rename(f'OPM_LT'), how='outer')\n",
    "res = res.join(s.iloc[loc1: loc2].rename(f'OPM_PR'), how='outer')\n",
    "res = res.join(s.iloc[loc2:].rename(f'OPM_PR2'), how='outer')\n",
    "    \n",
    "res.loc['1989':].to_csv(data_dir / 'poverty_opm_line.csv', \n",
    "                                     index_label='date')\n",
    "opmcol = 'green!80!blue'\n",
    "node = end_node(res.OPM_LT, opmcol, date='y', percent=True, \n",
    "                full_year=True, offset=0.16)\n",
    "write_txt(text_dir / 'poverty_opm_node.txt', node)\n",
    "\n",
    "#SPM manual\n",
    "spm = {'PR4': {'2009': 15.1, '2010': 16.0, '2011': 16.1, \n",
    "               '2012': 16.0, '2013': 15.5},\n",
    "       'PR3': {'2013': 15.8, '2014': 15.3, '2015': 14.3},\n",
    "       'PR2': {'2015': 14.5, '2016': 14.0, '2017': 13.9},\n",
    "       'PR': {'2017': 13.0, '2018': 12.8, '2019': 11.7},\n",
    "       'LT': {'2019': 11.8, '2020': 9.2, '2021': 7.8}}\n",
    "\n",
    "sp = pd.DataFrame(spm)\n",
    "sp.index = (pd.to_datetime(sp.index.astype('str').str[:4]) + \n",
    "               pd.DateOffset(months=6))\n",
    "sp = pd.concat([spmh.to_frame(), sp])  \n",
    "sp.to_csv(data_dir / 'poverty_spm_line.csv', index_label='date')\n",
    "spmcol = 'blue!80!green' \n",
    "node = end_node(sp.LT, spmcol, percent=True)\n",
    "write_txt(text_dir / 'poverty_spm_node.txt', node)\n",
    "\n",
    "maxval = res.loc['1989':].max().max()\n",
    "minval = res.loc['1989':].min().min()\n",
    "avgval = res.loc['1989':].mean().mean()\n",
    "\n",
    "val21 = sp.loc['2021-07-01', 'LT']\n",
    "\n",
    "text = (f'Since 1989, the official poverty measure {c_line(opmcol)} '+\n",
    "        f'shows between {minval} percent and {maxval} percent '+\n",
    "        f'of people in poverty, with an average poverty rate '+\n",
    "        f'of {avgval:.1f} percent during the period. Poverty '+\n",
    "        'rates were above average after the recession of 1991 and after '+\n",
    "        'the great recession, and below average around 2000.\\n\\nIn 2019, '+\n",
    "        'both the official US poverty measure and the more-comprehensive '+\n",
    "        f'supplemental measure {c_line(spmcol)} reached a new low. In '\n",
    "        '2021, the supplemental poverty measure fell further, to a new '+\n",
    "        f'low of {val21} percent, while the official measure increased. '+\n",
    "        'The official poverty rate does not include stimulus checks, '+\n",
    "        'housing assistance, or tax credits, while the supplemental '+\n",
    "        'rate does.')\n",
    "write_txt(text_dir / 'poverty_rate_time.txt', text)\n",
    "print(text)"
   ]
  },
  {
   "cell_type": "code",
   "execution_count": null,
   "metadata": {},
   "outputs": [],
   "source": []
  },
  {
   "cell_type": "code",
   "execution_count": null,
   "metadata": {},
   "outputs": [],
   "source": []
  },
  {
   "cell_type": "markdown",
   "metadata": {},
   "source": [
    "### Who are the poor?\n",
    "\n",
    "Attempt to replicate excellent chart by Matt Bruenig\n",
    "\n",
    "----\n",
    "\n",
    "Source: CPS ASEC"
   ]
  },
  {
   "cell_type": "code",
   "execution_count": 4,
   "metadata": {
    "ExecuteTime": {
     "end_time": "2022-10-11T18:12:55.666411Z",
     "start_time": "2022-10-11T18:12:50.275514Z"
    }
   },
   "outputs": [],
   "source": [
    "year = 2021\n",
    "write_txt(text_dir / 'poverty_ltyear.txt', f'{year}')\n",
    "\n",
    "# Extract person records for selected variables\n",
    "variables = ['H_SEQ', 'PPPOS', \n",
    "             'PRECORD', 'A_AGE', 'MARSUPWT', 'PERLIS', \n",
    "             'SPM_Resources', 'SPM_PovThreshold', 'WKSWORK',\n",
    "             'PRDISFLG', 'RSNNOTW', 'PYRSN', 'LKWEEKS',\n",
    "             'SPM_Weight', 'SPM_ID', 'SPM_CapWkCCXpns',\n",
    "             'SPM_Totval', 'SPM_MedXpns', 'SPM_ChildSupPd',\n",
    "             'SPM_Poor', 'SPM_NumPer', 'SPM_EIP']\n",
    "\n",
    "benefits = ['SS_VAL', 'SSI_VAL', 'UC_VAL', 'VET_VAL', \n",
    "            'WC_VAL', 'PAW_VAL']\n",
    "\n",
    "dictfile = f'{path}/persfmt22.txt'\n",
    "dd = open(dictfile).read()\n",
    "p = f'({\"|\".join(variables + benefits)})\\s+(\\d+)\\s+(\\d+)\\s'\n",
    "cols = {name: (int(start) - 1, int(start) - 1 + int(length)) \n",
    "        for name, length, start in re.findall(p, dd)}\n",
    "\n",
    "datafile = f'{path}/asec2022_pubuse.dat'\n",
    "df = (pd.read_fwf(datafile, \n",
    "                  colspecs=list(cols.values()), \n",
    "                  header=None, \n",
    "                  names=list(cols.keys()))\n",
    "        .query('PRECORD == 3'))"
   ]
  },
  {
   "cell_type": "code",
   "execution_count": 5,
   "metadata": {
    "ExecuteTime": {
     "end_time": "2022-10-11T18:12:59.127868Z",
     "start_time": "2022-10-11T18:12:59.064861Z"
    }
   },
   "outputs": [],
   "source": [
    "# Categorize population\n",
    "df['Category'] = (np.where(df.A_AGE < 18, 'Children', \n",
    "                  np.where(df.A_AGE > 64, 'Elderly', \n",
    "                  np.where(((df.PRDISFLG == 1) | (df.PYRSN == 1) | (df.RSNNOTW == 1)), 'Disabled', \n",
    "                  np.where(((df.PYRSN == 3) | (df.RSNNOTW == 4)), 'Students', \n",
    "                  np.where(((df.PYRSN == 2) | (df.RSNNOTW == 3)), 'Carers',\n",
    "                  np.where(((df.PYRSN == 5) | (df.RSNNOTW == 5) | (df.LKWEEKS > 0)), 'Unemployed',         \n",
    "                  np.where(((df.PYRSN == 4) | (df.RSNNOTW == 2)), 'Early Retired',  \n",
    "                  np.where(df.WKSWORK > 49, 'Fully Employed', 'All Other')))))))))\n",
    "\n",
    "df['AGE_GRP'] = pd.cut(df.A_AGE, range(0, 79, 3))\n",
    "\n",
    "df['SPM'] = np.where(df['SPM_Resources'] < df['SPM_PovThreshold'], 1, 0)\n",
    "df['OPM'] = np.where(df['PERLIS'] == 1, 1, 0)\n",
    "df['MARKET_INCOME'] = (df['SPM_Totval'] - \n",
    "                       df[['SPM_CapWkCCXpns','SPM_MedXpns', 'SPM_ChildSupPd']].sum(axis=1) - \n",
    "                       df[benefits].sum(axis=1).groupby(df['SPM_ID']).transform('sum'))\n",
    "\n",
    "df['SPM_MI'] = np.where(df['MARKET_INCOME'] < df['SPM_PovThreshold'], 1, 0)\n",
    "df['MI_GAP'] = ((df['SPM_PovThreshold'] - df['MARKET_INCOME']) / \n",
    "                df['SPM_NumPer']) * df['SPM_Weight'] / 100\n",
    "df['SPM_GAP'] = ((df['SPM_PovThreshold'] - df['SPM_Resources']) / \n",
    "                 df['SPM_NumPer']) * df['SPM_Weight'] / 100"
   ]
  },
  {
   "cell_type": "code",
   "execution_count": 6,
   "metadata": {
    "ExecuteTime": {
     "end_time": "2022-10-11T18:13:01.555223Z",
     "start_time": "2022-10-11T18:13:01.505165Z"
    }
   },
   "outputs": [
    {
     "name": "stdout",
     "output_type": "stream",
     "text": [
      "                      SPM        OPM     SPM_MI\n",
      "Category                                       \n",
      "Elderly         24.247951  15.300705  35.025641\n",
      "Disabled        15.935322  16.536749  13.727863\n",
      "Children        14.710380  29.388754  20.320544\n",
      "Fully Employed  11.164948   7.779601   9.246116\n",
      "Unemployed       7.972807   6.949603   5.171902\n",
      "Carers           7.340135   8.532235   4.969725\n",
      "All Other        7.158846   6.867585   4.630831\n",
      "Students         6.756832   5.516754   3.282633\n",
      "Early Retired    4.712779   3.128014   3.624746\n"
     ]
    }
   ],
   "source": [
    "# Only below poverty line\n",
    "data = df.query('SPM == 1')\n",
    "data2 = df.query('OPM == 1')\n",
    "data3 = df.query('SPM_MI == 1')\n",
    "\n",
    "results = pd.DataFrame()\n",
    "\n",
    "# Group share of total\n",
    "results['SPM'] = (data.groupby('Category').SPM_Weight.sum() / \n",
    "                  data.SPM_Weight.sum() * 100).sort_values(ascending=False)\n",
    "\n",
    "results['OPM'] = (data2.groupby('Category').MARSUPWT.sum() / \n",
    "                  data2.MARSUPWT.sum() * 100).sort_values(ascending=False)\n",
    "\n",
    "\n",
    "results['SPM_MI'] = (data3.groupby('Category').SPM_Weight.sum() / \n",
    "                  data3.SPM_Weight.sum() * 100).sort_values(ascending=False)\n",
    "\n",
    "results.to_csv(data_dir / 'poor.csv', index_label='name')\n",
    "print(results)"
   ]
  },
  {
   "cell_type": "code",
   "execution_count": 7,
   "metadata": {
    "ExecuteTime": {
     "end_time": "2022-10-11T18:13:04.983936Z",
     "start_time": "2022-10-11T18:13:04.899074Z"
    },
    "scrolled": true
   },
   "outputs": [
    {
     "name": "stdout",
     "output_type": "stream",
     "text": [
      "                      SPM        OPM     SPM_MI\n",
      "Category                                       \n",
      "Elderly         10.638173  10.329290  47.044890\n",
      "Disabled        18.855386  28.329685  49.729246\n",
      "Children         5.193788  15.175046  21.964941\n",
      "Fully Employed   2.385637   2.478399   6.048412\n",
      "Unemployed      15.761889  19.833284  31.302692\n",
      "Carers          15.500523  26.957612  32.129871\n",
      "All Other       10.583062  14.809151  20.958567\n",
      "Students        21.877452  24.792004  32.539458\n",
      "Early Retired   18.264164  18.229746  43.006549\n"
     ]
    }
   ],
   "source": [
    "results2 = pd.DataFrame()\n",
    "\n",
    "# Poverty rate of each group\n",
    "results2['SPM'] = (df.groupby('Category')\n",
    "                     .apply(lambda x: np.average(x['SPM'], weights=x['SPM_Weight']))\n",
    "                     * 100).loc[results.index]\n",
    "results2['OPM'] = (df.groupby('Category')\n",
    "                     .apply(lambda x: np.average(x['OPM'], weights=x['MARSUPWT']))\n",
    "                     * 100).loc[results.index]\n",
    "\n",
    "results2['SPM_MI'] = (df.groupby('Category')\n",
    "                     .apply(lambda x: np.average(x['SPM_MI'], weights=x['SPM_Weight']))\n",
    "                     * 100).loc[results.index]\n",
    "\n",
    "results2.to_csv(data_dir / 'poor2.csv', index_label='name')\n",
    "print(results2)"
   ]
  },
  {
   "cell_type": "code",
   "execution_count": 8,
   "metadata": {
    "ExecuteTime": {
     "end_time": "2022-10-11T18:13:08.028161Z",
     "start_time": "2022-10-11T18:13:07.899253Z"
    }
   },
   "outputs": [
    {
     "data": {
      "image/png": "[encoded data removed]",
      "text/plain": [
       "<Figure size 576x576 with 1 Axes>"
      ]
     },
     "metadata": {
      "needs_background": "light"
     },
     "output_type": "display_data"
    }
   ],
   "source": [
    "results3 = pd.DataFrame()\n",
    "results3['disposable'] = (data.groupby('AGE_GRP')['SPM_GAP'].sum() / 3e9)\n",
    "results3['market'] = (data3.groupby('AGE_GRP')['MI_GAP'].sum() / 3e9) - results3['disposable']\n",
    "\n",
    "results3.index = [i.left for i in results3.index]\n",
    "results3.to_csv(data_dir / 'poor_age_latest.csv', index_label='age')\n",
    "results3.iloc[::-1].plot(kind='area', stacked=True, figsize=(8,8), color=['limegreen', 'royalblue']);"
   ]
  },
  {
   "cell_type": "code",
   "execution_count": 10,
   "metadata": {
    "ExecuteTime": {
     "end_time": "2022-10-11T18:13:15.964558Z",
     "start_time": "2022-10-11T18:13:15.946177Z"
    }
   },
   "outputs": [
    {
     "name": "stdout",
     "output_type": "stream",
     "text": [
      "In 2021, income from labor and capital ownership, called \\textit{market income}, was below the Census Bureau threshold for poverty for 78.2 million people in the US, equivalent to 23.8 percent of the population. An adjusted measure called \\textit{disposable income} includes market income plus income from government programs and tax credits, and subtracts taxes paid. \\href{https://www.census.gov/library/publications/2019/demo/p60-268.html}{According} to the Census Bureau Supplemental Poverty Measure (SPM), \\textbf{25.5 million people are in poverty} based on their disposable income, equivalent to 7.8 percent of the population. Government programs and tax credits moved the income of 52.7 million people above the poverty threshold.\n"
     ]
    }
   ],
   "source": [
    "mi_tot = df.query('SPM_MI == 1').MARSUPWT.sum() / 1_000_000 / 100\n",
    "mi_rt = np.average(df['SPM_MI'], weights=df['MARSUPWT']) * 100\n",
    "spm_tot = df.query('SPM == 1').MARSUPWT.sum() / 1_000_000 / 100\n",
    "spm_rt = np.average(df['SPM'], weights=df['MARSUPWT']) * 100\n",
    "ch_val = mi_tot - spm_tot\n",
    "\n",
    "text = (f'In {year}, income from labor and capital ownership, called '+\n",
    "        '\\\\textit{market income}, was below the Census Bureau threshold '+\n",
    "        f'for poverty for {mi_tot:.1f} million people in the US, '+\n",
    "        f'equivalent to {mi_rt:.1f} percent of the population. '+\n",
    "        'An adjusted measure called \\\\textit{disposable income} includes market '+\n",
    "        'income plus income from government programs and tax credits, '\n",
    "        'and subtracts taxes paid. '+\n",
    "        '\\href{https://www.census.gov/library/publications/2019/demo/p60-268.html}{According} '+\n",
    "        'to the Census Bureau Supplemental Poverty Measure (SPM), '+\n",
    "        f'\\\\textbf{{{spm_tot:.1f} million people are in poverty}} based '+\n",
    "        f'on their disposable income, equivalent to {spm_rt:.1f} percent of the '+\n",
    "        'population. Government programs and tax credits moved the income of '+\n",
    "        f'{ch_val:.1f} million people above the poverty threshold.')\n",
    "\n",
    "print(text)\n",
    "\n",
    "write_txt(text_dir / 'poverty_main.txt', text)\n",
    "\n",
    "groups = ['Children', 'Elderly', 'Disabled', 'Carers', 'Students']\n",
    "group_share = results.loc[groups, 'SPM'].sum()\n",
    "\n",
    "text = f'These groups represent {group_share:.1f} percent of those in poverty in {year}.'\n",
    "\n",
    "write_txt(text_dir / 'poverty_groups.txt', text)"
   ]
  },
  {
   "cell_type": "code",
   "execution_count": null,
   "metadata": {},
   "outputs": [],
   "source": []
  },
  {
   "cell_type": "code",
   "execution_count": null,
   "metadata": {},
   "outputs": [],
   "source": []
  },
  {
   "cell_type": "markdown",
   "metadata": {},
   "source": [
    "### 2014 Data for comparison"
   ]
  },
  {
   "cell_type": "code",
   "execution_count": 18,
   "metadata": {
    "ExecuteTime": {
     "end_time": "2022-10-11T18:16:52.995797Z",
     "start_time": "2022-10-11T18:16:52.789245Z"
    }
   },
   "outputs": [],
   "source": [
    "spm = pd.read_stata(f'{path}/spmresearch2014.dta')"
   ]
  },
  {
   "cell_type": "code",
   "execution_count": 19,
   "metadata": {
    "ExecuteTime": {
     "end_time": "2022-10-11T18:17:05.038170Z",
     "start_time": "2022-10-11T18:17:00.206863Z"
    }
   },
   "outputs": [],
   "source": [
    "dictfile = f'{path}/asec2015early_pubuse.dd.txt'\n",
    "dd = open(dictfile, encoding='iso-8859-1').read()\n",
    "p = re.compile(f'D ({\"|\".join(variables + benefits)})\\s+(\\d+)\\s+(\\d+)\\s+')\n",
    "cols = {name: (int(start) - 1, int(start) - 1 + int(length)) \n",
    "        for name, length, start in re.findall(p, dd)}\n",
    "\n",
    "datafile = f'{path}/asec2015_pubuse.dat'\n",
    "df = (pd.read_fwf(datafile, \n",
    "                  colspecs=list(cols.values()), \n",
    "                  header=None, \n",
    "                  names=list(cols.keys()))\n",
    "        .query('PRECORD == 3').astype('int'))"
   ]
  },
  {
   "cell_type": "code",
   "execution_count": 20,
   "metadata": {
    "ExecuteTime": {
     "end_time": "2022-10-11T18:17:06.659394Z",
     "start_time": "2022-10-11T18:17:06.465156Z"
    }
   },
   "outputs": [],
   "source": [
    "df = pd.merge(spm, df, left_on=['h_seq', 'pppos'], right_on=['H_SEQ', 'PPPOS'])\n",
    "\n",
    "# Categorize population\n",
    "df['Category'] = (np.where(df.A_AGE < 18, 'Children', \n",
    "                  np.where(df.A_AGE > 64, 'Elderly', \n",
    "                  np.where(((df.PRDISFLG == 1) | (df.PYRSN == 1) | (df.RSNNOTW == 1)), 'Disabled', \n",
    "                  np.where(((df.PYRSN == 3) | (df.RSNNOTW == 4)), 'Students', \n",
    "                  np.where(((df.PYRSN == 2) | (df.RSNNOTW == 3)), 'Carers',\n",
    "                  np.where(((df.PYRSN == 5) | (df.RSNNOTW == 5) | (df.LKWEEKS > 0)), 'Unemployed',         \n",
    "                  np.where(((df.PYRSN == 4) | (df.RSNNOTW == 2)), 'Early Retired',  \n",
    "                  np.where(df.WKSWORK > 49, 'Fully Employed', 'All Other')))))))))\n",
    "\n",
    "df['AGE_GRP'] = pd.cut(df.A_AGE, range(0, 79, 3))\n",
    "\n",
    "df['SPM'] = np.where(df['spmu_poor'] == 1, 1, 0)\n",
    "df['OPM'] = np.where(df['PERLIS'] == 1, 1, 0)\n",
    "df['MARKET_INCOME'] = (df['spmu_totval'] - \n",
    "                       df[['spmu_capwknchcarexpns','spmu_medoopnmcareb', 'spmu_childsuppd']].sum(axis=1) - \n",
    "                       df[benefits].sum(axis=1).groupby(df['spmu_id']).transform('sum'))\n",
    "\n",
    "df['SPM_MI'] = np.where(df['MARKET_INCOME'] < df['spmu_povthreshold'], 1, 0)\n",
    "\n",
    "df['MI_GAP'] = ((df['spmu_povthreshold'] - df['MARKET_INCOME']) / df['spmu_numper']) * df['spmu_weight'] / 100\n",
    "df['SPM_GAP'] = ((df['spmu_povthreshold'] - df['spmu_resources']) / df['spmu_numper']) * df['spmu_weight'] / 100"
   ]
  },
  {
   "cell_type": "code",
   "execution_count": 21,
   "metadata": {
    "ExecuteTime": {
     "end_time": "2022-10-11T18:17:08.635227Z",
     "start_time": "2022-10-11T18:17:08.531487Z"
    }
   },
   "outputs": [
    {
     "name": "stdout",
     "output_type": "stream",
     "text": [
      "                      SPM        OPM     SPM_MI\n",
      "Category                                       \n",
      "Children        25.924970  33.823404  24.266931\n",
      "Fully Employed  16.304491  10.080446  11.606246\n",
      "Elderly         13.769305   9.761345  27.532471\n",
      "Disabled        12.904645  14.852713  13.947804\n",
      "Carers           8.679352   9.720166   6.423687\n",
      "Unemployed       8.291804   8.243360   6.044157\n",
      "Students         8.158302   7.904065   5.153203\n",
      "Early Retired    3.382392   3.065769   3.394216\n",
      "All Other        2.584739   2.548731   1.631286\n"
     ]
    }
   ],
   "source": [
    "# Only below poverty line\n",
    "data = df.query('SPM == 1')\n",
    "data2 = df.query('OPM == 1')\n",
    "data3 = df.query('SPM_MI == 1')\n",
    "\n",
    "results = pd.DataFrame()\n",
    "\n",
    "# Group share of total\n",
    "results['SPM'] = (data.groupby('Category').spmu_weight.sum() / \n",
    "                  data.spmu_weight.sum() * 100).sort_values(ascending=False)\n",
    "\n",
    "results['OPM'] = (data2.groupby('Category').MARSUPWT.sum() / \n",
    "                  data2.MARSUPWT.sum() * 100).sort_values(ascending=False)\n",
    "\n",
    "results['SPM_MI'] = (data3.groupby('Category').spmu_weight.sum() / \n",
    "                  data3.spmu_weight.sum() * 100).sort_values(ascending=False)\n",
    "print(results)"
   ]
  },
  {
   "cell_type": "code",
   "execution_count": 22,
   "metadata": {
    "ExecuteTime": {
     "end_time": "2022-10-11T18:17:11.166190Z",
     "start_time": "2022-10-11T18:17:10.983148Z"
    }
   },
   "outputs": [
    {
     "name": "stdout",
     "output_type": "stream",
     "text": [
      "                      SPM        OPM     SPM_MI\n",
      "Category                                       \n",
      "Children        16.987500  21.515458  28.250489\n",
      "Fully Employed   6.994778   4.137612   8.846232\n",
      "Elderly         14.425015   9.979379  51.244745\n",
      "Disabled        28.174830  30.672190  54.102955\n",
      "Carers          26.036791  28.098275  34.236115\n",
      "Unemployed      27.551753  25.401457  35.680903\n",
      "Students        28.323841  24.777499  31.785531\n",
      "Early Retired   23.477962  20.596569  41.857744\n",
      "All Other       23.874094  22.185618  26.769496\n"
     ]
    }
   ],
   "source": [
    "results2 = pd.DataFrame()\n",
    "\n",
    "# Poverty rate of each group\n",
    "results2['SPM'] = (df.groupby('Category')\n",
    "                     .apply(lambda x: np.average(x['SPM'], weights=x['spmu_weight']))\n",
    "                     * 100).loc[results.index]\n",
    "results2['OPM'] = (df.groupby('Category')\n",
    "                     .apply(lambda x: np.average(x['OPM'], weights=x['MARSUPWT']))\n",
    "                     * 100).loc[results.index]\n",
    "\n",
    "results2['SPM_MI'] = (df.groupby('Category')\n",
    "                     .apply(lambda x: np.average(x['SPM_MI'], weights=x['spmu_weight']))\n",
    "                     * 100).loc[results.index]\n",
    "print(results2)"
   ]
  },
  {
   "cell_type": "markdown",
   "metadata": {},
   "source": [
    "#### Price adjustment\n",
    "https://www.bls.gov/cpi/research-series/r-cpi-u-rs-allitems.pdf"
   ]
  },
  {
   "cell_type": "code",
   "execution_count": 24,
   "metadata": {
    "ExecuteTime": {
     "end_time": "2022-10-11T18:17:29.944092Z",
     "start_time": "2022-10-11T18:17:29.831168Z"
    }
   },
   "outputs": [
    {
     "data": {
      "image/png": "[encoded data removed]",
      "text/plain": [
       "<Figure size 576x576 with 1 Axes>"
      ]
     },
     "metadata": {
      "needs_background": "light"
     },
     "output_type": "display_data"
    }
   ],
   "source": [
    "results3 = pd.DataFrame()\n",
    "results3['disposable'] = (data.groupby('AGE_GRP')['SPM_GAP'].sum() / 3e9)# - results3['ca_gap']\n",
    "results3['market'] = (data3.groupby('AGE_GRP')['MI_GAP'].sum() / 3e9) - results3['disposable']# - results3['ca_gap']\n",
    "cpi = pd.read_csv(data_dir / 'cpi_u_rs.csv', index_col='date', parse_dates=True)\n",
    "results3 = (results3 * cpi.loc['2021-07-01', 'value'] / cpi.loc['2014-07-01', 'value']) # CPI-U-RS\n",
    "results3.index = [i.left for i in results3.index]\n",
    "results3.to_csv(data_dir / 'poor_age_prev.csv', index_label='age')\n",
    "results3.iloc[::-1].plot(kind='area', stacked=True, figsize=(8,8), color=['limegreen', 'royalblue']);"
   ]
  },
  {
   "cell_type": "code",
   "execution_count": null,
   "metadata": {},
   "outputs": [],
   "source": []
  }
 ],
 "metadata": {
  "kernelspec": {
   "display_name": "Python 3 (ipykernel)",
   "language": "python",
   "name": "python3"
  },
  "language_info": {
   "codemirror_mode": {
    "name": "ipython",
    "version": 3
   },
   "file_extension": ".py",
   "mimetype": "text/x-python",
   "name": "python",
   "nbconvert_exporter": "python",
   "pygments_lexer": "ipython3",
   "version": "3.8.8"
  }
 },
 "nbformat": 4,
 "nbformat_minor": 2
}
