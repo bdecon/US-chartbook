{
 "cells": [
  {
   "cell_type": "markdown",
   "metadata": {},
   "source": [
    "## CPS_ASEC"
   ]
  },
  {
   "cell_type": "code",
   "execution_count": 1,
   "metadata": {
    "ExecuteTime": {
     "end_time": "2022-02-01T02:12:18.830813Z",
     "start_time": "2022-02-01T02:12:18.177850Z"
    }
   },
   "outputs": [],
   "source": [
    "import sys\n",
    "sys.path.append('../src')\n",
    "\n",
    "import requests\n",
    "\n",
    "import uschartbook.config\n",
    "\n",
    "from uschartbook.config import *\n",
    "from uschartbook.utils import *\n",
    "\n",
    "path = '/home/brian/Documents/ASEC/'"
   ]
  },
  {
   "cell_type": "markdown",
   "metadata": {},
   "source": [
    "### Full-time, full-year workers"
   ]
  },
  {
   "cell_type": "code",
   "execution_count": 27,
   "metadata": {
    "ExecuteTime": {
     "end_time": "2022-02-01T02:50:14.324425Z",
     "start_time": "2022-02-01T02:50:11.858689Z"
    }
   },
   "outputs": [
    {
     "name": "stdout",
     "output_type": "stream",
     "text": [
      "105.5 million fully-employed people in 2020, equivalent to 32.3 percent of the US population, compared to 119.2 million (36.6 percent) in 2019. \n"
     ]
    }
   ],
   "source": [
    "ltyear = 2021\n",
    "pry, lty = [str(ltyear-1), str(ltyear)]\n",
    "res = {}\n",
    "for year in [pry, lty]:\n",
    "    res[year] = {}\n",
    "    varlist = ['WEWKRS', 'MARSUPWT', 'PRECORD']\n",
    "    dictfile = f'{path}/data/persfmt{year[2:]}.txt'\n",
    "    dd = open(dictfile).read()\n",
    "    p = f'({\"|\".join(varlist)})\\s+(\\d+)\\s+(\\d+)\\s'\n",
    "    cols = {name: (int(start) - 1, int(start) - 1 + int(length)) \n",
    "            for name, length, start in re.findall(p, dd)}\n",
    "\n",
    "    datafile = f'{path}/data/asec{year}_pubuse.dat'\n",
    "    df = (pd.read_fwf(datafile, \n",
    "                      colspecs=list(cols.values()), \n",
    "                      header=None, \n",
    "                      names=list(cols.keys()))\n",
    "            .query('PRECORD == 3'))\n",
    "    \n",
    "    data = df.groupby('WEWKRS').MARSUPWT.sum() / 100_000_000\n",
    "    res[year]['tot'] = data[1]\n",
    "    res[year]['sh'] = data[1] / data.sum() * 100\n",
    "\n",
    "text = (f'{res[lty][\"tot\"]:.1f} million fully-employed people in '+\n",
    "        f'{ltyear - 1}, equivalent to {res[lty][\"sh\"]:.1f} percent '+\n",
    "        f'of the US population, compared to {res[pry][\"tot\"]:.1f} '+\n",
    "        f'million ({res[pry][\"sh\"]:.1f} percent) in {ltyear - 2}. ')\n",
    "write_txt(text_dir / 'asec_ftfy_tot.txt', text)\n",
    "print(text)"
   ]
  },
  {
   "cell_type": "code",
   "execution_count": null,
   "metadata": {},
   "outputs": [],
   "source": []
  },
  {
   "cell_type": "code",
   "execution_count": null,
   "metadata": {},
   "outputs": [],
   "source": []
  },
  {
   "cell_type": "markdown",
   "metadata": {},
   "source": [
    "### Who are the poor?\n",
    "\n",
    "Attempt to replicate excellent chart by Matt Bruenig\n",
    "\n",
    "----\n",
    "\n",
    "Source: CPS ASEC"
   ]
  },
  {
   "cell_type": "code",
   "execution_count": 3,
   "metadata": {
    "ExecuteTime": {
     "end_time": "2021-09-15T16:10:33.939934Z",
     "start_time": "2021-09-15T16:10:28.346061Z"
    }
   },
   "outputs": [],
   "source": [
    "# Extract person records for selected variables\n",
    "variables = ['H_SEQ', 'PPPOS', \n",
    "             'PRECORD', 'A_AGE', 'MARSUPWT', 'PERLIS', \n",
    "             'SPM_Resources', 'SPM_PovThreshold', 'WKSWORK',\n",
    "             'PRDISFLG', 'RSNNOTW', 'PYRSN', 'LKWEEKS',\n",
    "             'SPM_Weight', 'SPM_ID', 'SPM_CapWkCCXpns',\n",
    "             'SPM_Totval', 'SPM_MedXpns', 'SPM_ChildSupPd',\n",
    "             'SPM_Poor', 'SPM_NumPer', 'SPM_EIP']\n",
    "\n",
    "benefits = ['SS_VAL', 'SSI_VAL', 'UC_VAL', 'VET_VAL', \n",
    "            'WC_VAL', 'PAW_VAL']\n",
    "\n",
    "dictfile = f'{path}/data/persfmt21.txt'\n",
    "dd = open(dictfile).read()\n",
    "p = f'({\"|\".join(variables + benefits)})\\s+(\\d+)\\s+(\\d+)\\s'\n",
    "cols = {name: (int(start) - 1, int(start) - 1 + int(length)) \n",
    "        for name, length, start in re.findall(p, dd)}\n",
    "\n",
    "datafile = f'{path}/data/asec2021_pubuse.dat'\n",
    "df = (pd.read_fwf(datafile, \n",
    "                  colspecs=list(cols.values()), \n",
    "                  header=None, \n",
    "                  names=list(cols.keys()))\n",
    "        .query('PRECORD == 3'))"
   ]
  },
  {
   "cell_type": "code",
   "execution_count": 4,
   "metadata": {
    "ExecuteTime": {
     "end_time": "2021-09-15T16:10:38.279728Z",
     "start_time": "2021-09-15T16:10:38.208887Z"
    }
   },
   "outputs": [],
   "source": [
    "# Categorize population\n",
    "df['Category'] = (np.where(df.A_AGE < 18, 'Children', \n",
    "                  np.where(df.A_AGE > 64, 'Elderly', \n",
    "                  np.where(((df.PRDISFLG == 1) | (df.PYRSN == 1) | (df.RSNNOTW == 1)), 'Disabled', \n",
    "                  np.where(((df.PYRSN == 3) | (df.RSNNOTW == 4)), 'Students', \n",
    "                  np.where(((df.PYRSN == 2) | (df.RSNNOTW == 3)), 'Carers',\n",
    "                  np.where(((df.PYRSN == 5) | (df.RSNNOTW == 5) | (df.LKWEEKS > 0)), 'Unemployed',         \n",
    "                  np.where(((df.PYRSN == 4) | (df.RSNNOTW == 2)), 'Early Retired',  \n",
    "                  np.where(df.WKSWORK > 49, 'Fully Employed', 'All Other')))))))))\n",
    "\n",
    "df['AGE_GRP'] = pd.cut(df.A_AGE, range(0, 79, 3))\n",
    "\n",
    "df['SPM'] = np.where(df['SPM_Resources'] < df['SPM_PovThreshold'], 1, 0)\n",
    "df['OPM'] = np.where(df['PERLIS'] == 1, 1, 0)\n",
    "df['MARKET_INCOME'] = (df['SPM_Totval'] - \n",
    "                       df[['SPM_CapWkCCXpns','SPM_MedXpns', 'SPM_ChildSupPd']].sum(axis=1) - \n",
    "                       df[benefits].sum(axis=1).groupby(df['SPM_ID']).transform('sum'))\n",
    "\n",
    "df['SPM_MI'] = np.where(df['MARKET_INCOME'] < df['SPM_PovThreshold'], 1, 0)\n",
    "df['MI_GAP'] = ((df['SPM_PovThreshold'] - df['MARKET_INCOME']) / df['SPM_NumPer']) * df['SPM_Weight'] / 100\n",
    "df['SPM_GAP'] = ((df['SPM_PovThreshold'] - df['SPM_Resources']) / df['SPM_NumPer']) * df['SPM_Weight'] / 100"
   ]
  },
  {
   "cell_type": "code",
   "execution_count": 5,
   "metadata": {
    "ExecuteTime": {
     "end_time": "2021-09-15T16:10:41.180894Z",
     "start_time": "2021-09-15T16:10:41.128840Z"
    }
   },
   "outputs": [
    {
     "name": "stdout",
     "output_type": "stream",
     "text": [
      "                      SPM        OPM     SPM_MI\n",
      "Category                                       \n",
      "Children        23.067288  31.162116  20.811800\n",
      "Elderly         18.374568  13.424215  33.521200\n",
      "Disabled        13.987730  15.310101  12.936882\n",
      "Unemployed       9.647933   8.848502   7.942697\n",
      "Fully Employed   8.580539   6.353141   7.430565\n",
      "Carers           8.014144   8.617340   5.110800\n",
      "All Other        8.010152   7.365298   5.549312\n",
      "Students         6.387471   5.536543   3.292217\n",
      "Early Retired    3.930174   3.382744   3.404528\n"
     ]
    }
   ],
   "source": [
    "# Only below poverty line\n",
    "data = df.query('SPM == 1')\n",
    "data2 = df.query('OPM == 1')\n",
    "data3 = df.query('SPM_MI == 1')\n",
    "\n",
    "results = pd.DataFrame()\n",
    "\n",
    "# Group share of total\n",
    "results['SPM'] = (data.groupby('Category').SPM_Weight.sum() / \n",
    "                  data.SPM_Weight.sum() * 100).sort_values(ascending=False)\n",
    "\n",
    "results['OPM'] = (data2.groupby('Category').MARSUPWT.sum() / \n",
    "                  data2.MARSUPWT.sum() * 100).sort_values(ascending=False)\n",
    "\n",
    "\n",
    "results['SPM_MI'] = (data3.groupby('Category').SPM_Weight.sum() / \n",
    "                  data3.SPM_Weight.sum() * 100).sort_values(ascending=False)\n",
    "\n",
    "results.to_csv(data_dir / 'poor.csv', index_label='name')\n",
    "print(results)"
   ]
  },
  {
   "cell_type": "code",
   "execution_count": 6,
   "metadata": {
    "ExecuteTime": {
     "end_time": "2021-09-15T16:10:55.913389Z",
     "start_time": "2021-09-15T16:10:55.749461Z"
    },
    "scrolled": true
   },
   "outputs": [
    {
     "name": "stdout",
     "output_type": "stream",
     "text": [
      "                      SPM        OPM     SPM_MI\n",
      "Category                                       \n",
      "Children         9.568298  15.948346  24.012857\n",
      "Elderly          9.459942   8.954905  48.005050\n",
      "Disabled        20.147453  27.321568  51.832070\n",
      "Unemployed      13.362611  15.057674  30.599975\n",
      "Fully Employed   2.370622   2.212626   5.710387\n",
      "Carers          19.747052  26.994766  35.029187\n",
      "All Other       11.584153  13.119255  22.323317\n",
      "Students        23.251313  23.658353  33.335196\n",
      "Early Retired   17.956293  19.812948  43.267099\n"
     ]
    }
   ],
   "source": [
    "results2 = pd.DataFrame()\n",
    "\n",
    "# Poverty rate of each group\n",
    "results2['SPM'] = (df.groupby('Category')\n",
    "                     .apply(lambda x: np.average(x['SPM'], weights=x['SPM_Weight']))\n",
    "                     * 100).loc[results.index]\n",
    "results2['OPM'] = (df.groupby('Category')\n",
    "                     .apply(lambda x: np.average(x['OPM'], weights=x['MARSUPWT']))\n",
    "                     * 100).loc[results.index]\n",
    "\n",
    "results2['SPM_MI'] = (df.groupby('Category')\n",
    "                     .apply(lambda x: np.average(x['SPM_MI'], weights=x['SPM_Weight']))\n",
    "                     * 100).loc[results.index]\n",
    "\n",
    "results2.to_csv(data_dir / 'poor2.csv', index_label='name')\n",
    "print(results2)"
   ]
  },
  {
   "cell_type": "code",
   "execution_count": 7,
   "metadata": {
    "ExecuteTime": {
     "end_time": "2021-09-15T16:11:15.128802Z",
     "start_time": "2021-09-15T16:11:14.863684Z"
    }
   },
   "outputs": [
    {
     "data": {
      "text/plain": [
       "<AxesSubplot:>"
      ]
     },
     "execution_count": 7,
     "metadata": {},
     "output_type": "execute_result"
    },
    {
     "data": {
      "image/png": "[encoded data removed]",
      "text/plain": [
       "<Figure size 576x576 with 1 Axes>"
      ]
     },
     "metadata": {
      "needs_background": "light"
     },
     "output_type": "display_data"
    }
   ],
   "source": [
    "results3 = pd.DataFrame()\n",
    "results3['disposable'] = (data.groupby('AGE_GRP')['SPM_GAP'].sum() / 3e9)\n",
    "results3['market'] = (data3.groupby('AGE_GRP')['MI_GAP'].sum() / 3e9) - results3['disposable']\n",
    "\n",
    "results3.index = [i.left for i in results3.index]\n",
    "results3.to_csv(data_dir / 'poor_age_latest.csv', index_label='age')\n",
    "results3.iloc[::-1].plot(kind='area', stacked=True, figsize=(8,8), color=['limegreen', 'royalblue']);"
   ]
  },
  {
   "cell_type": "code",
   "execution_count": 8,
   "metadata": {
    "ExecuteTime": {
     "end_time": "2021-09-15T16:11:28.631032Z",
     "start_time": "2021-09-15T16:11:28.608114Z"
    }
   },
   "outputs": [
    {
     "name": "stdout",
     "output_type": "stream",
     "text": [
      "In 2020, income from labor and capital ownership, called \\textit{market income}, was below the Census Bureau threshold for poverty for 82.5 million people in the US, equivalent to 25.3 percent of the population. An adjusted measure called \\textit{disposable income} includes market income plus income from government programs and tax credits, and subtracts taxes paid. \\href{https://www.census.gov/library/publications/2019/demo/p60-268.html}{According} to the Census Bureau Supplemental Poverty Measure (SPM), \\textbf{29.8 million people are in poverty} based on their disposable income, equivalent to 9.1 percent of the population. Government programs and tax credits moved the income of 52.8 million people above the poverty threshold.\n"
     ]
    }
   ],
   "source": [
    "year = 2020\n",
    "mi_tot = df.query('SPM_MI == 1').MARSUPWT.sum() / 1_000_000 / 100\n",
    "mi_rt = np.average(df['SPM_MI'], weights=df['MARSUPWT']) * 100\n",
    "spm_tot = df.query('SPM == 1').MARSUPWT.sum() / 1_000_000 / 100\n",
    "spm_rt = np.average(df['SPM'], weights=df['MARSUPWT']) * 100\n",
    "ch_val = mi_tot - spm_tot\n",
    "\n",
    "text = (f'In {year}, income from labor and capital ownership, called '+\n",
    "        '\\\\textit{market income}, was below the Census Bureau threshold '+\n",
    "        f'for poverty for {mi_tot:.1f} million people in the US, '+\n",
    "        f'equivalent to {mi_rt:.1f} percent of the population. '+\n",
    "        'An adjusted measure called \\\\textit{disposable income} includes market '+\n",
    "        'income plus income from government programs and tax credits, '\n",
    "        'and subtracts taxes paid. '+\n",
    "        '\\href{https://www.census.gov/library/publications/2019/demo/p60-268.html}{According} '+\n",
    "        'to the Census Bureau Supplemental Poverty Measure (SPM), '+\n",
    "        f'\\\\textbf{{{spm_tot:.1f} million people are in poverty}} based '+\n",
    "        f'on their disposable income, equivalent to {spm_rt:.1f} percent of the '+\n",
    "        'population. Government programs and tax credits moved the income of '+\n",
    "        f'{ch_val:.1f} million people above the poverty threshold.')\n",
    "\n",
    "print(text)\n",
    "\n",
    "write_txt(text_dir / 'poverty_main.txt', text)\n",
    "\n",
    "groups = ['Children', 'Elderly', 'Disabled', 'Carers', 'Students']\n",
    "group_share = results.loc[groups, 'SPM'].sum()\n",
    "\n",
    "text = f'These groups represent {group_share:.1f} percent of those in poverty in {year}.'\n",
    "\n",
    "write_txt(text_dir / 'poverty_groups.txt', text)"
   ]
  },
  {
   "cell_type": "code",
   "execution_count": null,
   "metadata": {},
   "outputs": [],
   "source": []
  },
  {
   "cell_type": "code",
   "execution_count": null,
   "metadata": {},
   "outputs": [],
   "source": []
  },
  {
   "cell_type": "markdown",
   "metadata": {},
   "source": [
    "### 2014 Data for comparison"
   ]
  },
  {
   "cell_type": "code",
   "execution_count": 9,
   "metadata": {
    "ExecuteTime": {
     "end_time": "2021-09-15T16:13:01.758699Z",
     "start_time": "2021-09-15T16:13:01.487339Z"
    }
   },
   "outputs": [],
   "source": [
    "spm = pd.read_stata(f'{path}/data/spmresearch2014.dta')"
   ]
  },
  {
   "cell_type": "code",
   "execution_count": 10,
   "metadata": {
    "ExecuteTime": {
     "end_time": "2021-09-15T16:13:07.337067Z",
     "start_time": "2021-09-15T16:13:02.509629Z"
    }
   },
   "outputs": [],
   "source": [
    "dictfile = f'{path}/data/asec2015early_pubuse.dd.txt'\n",
    "dd = open(dictfile, encoding='iso-8859-1').read()\n",
    "p = re.compile(f'D ({\"|\".join(variables + benefits)})\\s+(\\d+)\\s+(\\d+)\\s+')\n",
    "cols = {name: (int(start) - 1, int(start) - 1 + int(length)) \n",
    "        for name, length, start in re.findall(p, dd)}\n",
    "\n",
    "datafile = f'{path}/data/asec2015_pubuse.dat'\n",
    "df = (pd.read_fwf(datafile, \n",
    "                  colspecs=list(cols.values()), \n",
    "                  header=None, \n",
    "                  names=list(cols.keys()))\n",
    "        .query('PRECORD == 3').astype('int'))"
   ]
  },
  {
   "cell_type": "code",
   "execution_count": 11,
   "metadata": {
    "ExecuteTime": {
     "end_time": "2021-09-15T16:13:08.679031Z",
     "start_time": "2021-09-15T16:13:08.572007Z"
    }
   },
   "outputs": [],
   "source": [
    "df = pd.merge(spm, df, left_on=['h_seq', 'pppos'], right_on=['H_SEQ', 'PPPOS'])#.keys()"
   ]
  },
  {
   "cell_type": "code",
   "execution_count": 12,
   "metadata": {
    "ExecuteTime": {
     "end_time": "2021-09-15T16:13:10.603263Z",
     "start_time": "2021-09-15T16:13:10.524737Z"
    }
   },
   "outputs": [],
   "source": [
    "# Categorize population\n",
    "df['Category'] = (np.where(df.A_AGE < 18, 'Children', \n",
    "                  np.where(df.A_AGE > 64, 'Elderly', \n",
    "                  np.where(((df.PRDISFLG == 1) | (df.PYRSN == 1) | (df.RSNNOTW == 1)), 'Disabled', \n",
    "                  np.where(((df.PYRSN == 3) | (df.RSNNOTW == 4)), 'Students', \n",
    "                  np.where(((df.PYRSN == 2) | (df.RSNNOTW == 3)), 'Carers',\n",
    "                  np.where(((df.PYRSN == 5) | (df.RSNNOTW == 5) | (df.LKWEEKS > 0)), 'Unemployed',         \n",
    "                  np.where(((df.PYRSN == 4) | (df.RSNNOTW == 2)), 'Early Retired',  \n",
    "                  np.where(df.WKSWORK > 49, 'Fully Employed', 'All Other')))))))))\n",
    "\n",
    "df['AGE_GRP'] = pd.cut(df.A_AGE, range(0, 79, 3))\n",
    "\n",
    "df['SPM'] = np.where(df['spmu_poor'] == 1, 1, 0)\n",
    "df['OPM'] = np.where(df['PERLIS'] == 1, 1, 0)\n",
    "df['MARKET_INCOME'] = (df['spmu_totval'] - \n",
    "                       df[['spmu_capwknchcarexpns','spmu_medoopnmcareb', 'spmu_childsuppd']].sum(axis=1) - \n",
    "                       df[benefits].sum(axis=1).groupby(df['spmu_id']).transform('sum'))\n",
    "\n",
    "df['SPM_MI'] = np.where(df['MARKET_INCOME'] < df['spmu_povthreshold'], 1, 0)\n",
    "\n",
    "df['MI_GAP'] = ((df['spmu_povthreshold'] - df['MARKET_INCOME']) / df['spmu_numper']) * df['spmu_weight'] / 100\n",
    "df['SPM_GAP'] = ((df['spmu_povthreshold'] - df['spmu_resources']) / df['spmu_numper']) * df['spmu_weight'] / 100"
   ]
  },
  {
   "cell_type": "code",
   "execution_count": null,
   "metadata": {},
   "outputs": [],
   "source": []
  },
  {
   "cell_type": "code",
   "execution_count": 13,
   "metadata": {
    "ExecuteTime": {
     "end_time": "2021-09-15T16:13:12.413732Z",
     "start_time": "2021-09-15T16:13:12.321808Z"
    }
   },
   "outputs": [
    {
     "name": "stdout",
     "output_type": "stream",
     "text": [
      "                      SPM        OPM     SPM_MI\n",
      "Category                                       \n",
      "Children        25.924970  33.823404  24.266931\n",
      "Fully Employed  16.304491  10.080446  11.606246\n",
      "Elderly         13.769305   9.761345  27.532471\n",
      "Disabled        12.904645  14.852713  13.947804\n",
      "Carers           8.679352   9.720166   6.423687\n",
      "Unemployed       8.291804   8.243360   6.044157\n",
      "Students         8.158302   7.904065   5.153203\n",
      "Early Retired    3.382392   3.065769   3.394216\n",
      "All Other        2.584739   2.548731   1.631286\n"
     ]
    }
   ],
   "source": [
    "# Only below poverty line\n",
    "data = df.query('SPM == 1')\n",
    "data2 = df.query('OPM == 1')\n",
    "data3 = df.query('SPM_MI == 1')\n",
    "\n",
    "results = pd.DataFrame()\n",
    "\n",
    "# Group share of total\n",
    "results['SPM'] = (data.groupby('Category').spmu_weight.sum() / \n",
    "                  data.spmu_weight.sum() * 100).sort_values(ascending=False)\n",
    "\n",
    "results['OPM'] = (data2.groupby('Category').MARSUPWT.sum() / \n",
    "                  data2.MARSUPWT.sum() * 100).sort_values(ascending=False)\n",
    "\n",
    "results['SPM_MI'] = (data3.groupby('Category').spmu_weight.sum() / \n",
    "                  data3.spmu_weight.sum() * 100).sort_values(ascending=False)\n",
    "print(results)"
   ]
  },
  {
   "cell_type": "code",
   "execution_count": 14,
   "metadata": {
    "ExecuteTime": {
     "end_time": "2021-09-15T16:13:14.493832Z",
     "start_time": "2021-09-15T16:13:14.195263Z"
    }
   },
   "outputs": [
    {
     "name": "stdout",
     "output_type": "stream",
     "text": [
      "                      SPM        OPM     SPM_MI\n",
      "Category                                       \n",
      "Children        16.987500  21.515458  28.250489\n",
      "Fully Employed   6.994778   4.137612   8.846232\n",
      "Elderly         14.425015   9.979379  51.244745\n",
      "Disabled        28.174830  30.672190  54.102955\n",
      "Carers          26.036791  28.098275  34.236115\n",
      "Unemployed      27.551753  25.401457  35.680903\n",
      "Students        28.323841  24.777499  31.785531\n",
      "Early Retired   23.477962  20.596569  41.857744\n",
      "All Other       23.874094  22.185618  26.769496\n"
     ]
    }
   ],
   "source": [
    "results2 = pd.DataFrame()\n",
    "\n",
    "# Poverty rate of each group\n",
    "results2['SPM'] = (df.groupby('Category')\n",
    "                     .apply(lambda x: np.average(x['SPM'], weights=x['spmu_weight']))\n",
    "                     * 100).loc[results.index]\n",
    "results2['OPM'] = (df.groupby('Category')\n",
    "                     .apply(lambda x: np.average(x['OPM'], weights=x['MARSUPWT']))\n",
    "                     * 100).loc[results.index]\n",
    "\n",
    "results2['SPM_MI'] = (df.groupby('Category')\n",
    "                     .apply(lambda x: np.average(x['SPM_MI'], weights=x['spmu_weight']))\n",
    "                     * 100).loc[results.index]\n",
    "print(results2)"
   ]
  },
  {
   "cell_type": "markdown",
   "metadata": {},
   "source": [
    "#### Price adjustment\n",
    "https://www.bls.gov/cpi/research-series/r-cpi-u-rs-allitems.pdf"
   ]
  },
  {
   "cell_type": "code",
   "execution_count": 15,
   "metadata": {
    "ExecuteTime": {
     "end_time": "2021-09-15T16:13:16.326296Z",
     "start_time": "2021-09-15T16:13:16.216253Z"
    }
   },
   "outputs": [
    {
     "data": {
      "image/png": "[encoded data removed]",
      "text/plain": [
       "<Figure size 576x576 with 1 Axes>"
      ]
     },
     "metadata": {
      "needs_background": "light"
     },
     "output_type": "display_data"
    }
   ],
   "source": [
    "results3 = pd.DataFrame()\n",
    "results3['disposable'] = (data.groupby('AGE_GRP')['SPM_GAP'].sum() / 3e9)# - results3['ca_gap']\n",
    "results3['market'] = (data3.groupby('AGE_GRP')['MI_GAP'].sum() / 3e9) - results3['disposable']# - results3['ca_gap']\n",
    "\n",
    "results3 = (results3 * (381.2 / 376.5)) # CPI-U-RS\n",
    "results3.index = [i.left for i in results3.index]\n",
    "results3.to_csv(data_dir / 'poor_age_prev.csv', index_label='age')\n",
    "results3.iloc[::-1].plot(kind='area', stacked=True, figsize=(8,8), color=['limegreen', 'royalblue']);"
   ]
  },
  {
   "cell_type": "code",
   "execution_count": null,
   "metadata": {},
   "outputs": [],
   "source": []
  },
  {
   "cell_type": "code",
   "execution_count": null,
   "metadata": {},
   "outputs": [],
   "source": []
  },
  {
   "cell_type": "code",
   "execution_count": null,
   "metadata": {},
   "outputs": [],
   "source": []
  }
 ],
 "metadata": {
  "kernelspec": {
   "display_name": "Python 3",
   "language": "python",
   "name": "python3"
  },
  "language_info": {
   "codemirror_mode": {
    "name": "ipython",
    "version": 3
   },
   "file_extension": ".py",
   "mimetype": "text/x-python",
   "name": "python",
   "nbconvert_exporter": "python",
   "pygments_lexer": "ipython3",
   "version": "3.8.8"
  }
 },
 "nbformat": 4,
 "nbformat_minor": 2
}
