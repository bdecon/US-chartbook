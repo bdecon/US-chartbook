{
 "cells": [
  {
   "cell_type": "markdown",
   "id": "8b736f8f",
   "metadata": {},
   "source": [
    "### Census Population Estimates and Projections\n",
    "\n",
    "February 22, 2022\n",
    "\n",
    "Brian W. Dew"
   ]
  },
  {
   "cell_type": "code",
   "execution_count": 2,
   "id": "3921f504",
   "metadata": {
    "ExecuteTime": {
     "end_time": "2022-03-01T00:26:42.205164Z",
     "start_time": "2022-03-01T00:26:41.568569Z"
    }
   },
   "outputs": [],
   "source": [
    "import sys\n",
    "sys.path.append('../src')\n",
    "\n",
    "import uschartbook.config\n",
    "\n",
    "from uschartbook.config import *\n",
    "from uschartbook.utils import *"
   ]
  },
  {
   "cell_type": "markdown",
   "id": "c8c47738",
   "metadata": {},
   "source": [
    "### Population Estimates"
   ]
  },
  {
   "cell_type": "code",
   "execution_count": 2,
   "id": "772bcbc9",
   "metadata": {
    "ExecuteTime": {
     "end_time": "2022-02-23T17:27:14.898083Z",
     "start_time": "2022-02-23T17:27:08.459715Z"
    }
   },
   "outputs": [],
   "source": [
    "# April 2020 onward\n",
    "url = ('https://api.census.gov/data/2021/pep/natmonthly?'+\n",
    "       'get=NAME,POP,UNIVERSE,MONTHLY,LASTUPDATE&'+\n",
    "       f'for=us:1&key={census_key}')\n",
    "r = requests.get(url).json()\n",
    "df = (pd.DataFrame(r[1:], columns=r[0]).astype({'MONTHLY': 'int'})\n",
    "        .query('UNIVERSE == \"R\" and MONTHLY > 1')\n",
    "        .sort_values('MONTHLY'))\n",
    "rel_dt = dtxt(pd.to_datetime(df['LASTUPDATE'].iloc[-1]))['day1']\n",
    "write_txt(text_dir / 'pop_est_reldt.txt', rel_dt)\n",
    "df.index = pd.date_range('04-01-2020', '12-01-2022', freq='MS')\n",
    "data = df['POP'].astype('int')\n",
    "\n",
    "# 2010 to 2020 data\n",
    "url = ('https://api.census.gov/data/2019/pep/natmonthly?'+\n",
    "       'get=NAME,POP,UNIVERSE,MONTHLY&'+\n",
    "       f'for=us:1&key={census_key}')\n",
    "r = requests.get(url).json()\n",
    "df10 = (pd.DataFrame(r[1:], columns=r[0]).astype({'MONTHLY': 'int'})\n",
    "          .query('UNIVERSE == \"R\" and MONTHLY > 1')\n",
    "          .sort_values('MONTHLY'))\n",
    "df10.index = pd.date_range('04-01-2010', '12-01-2020', freq='MS')\n",
    "data10 = df10['POP'].astype('int').loc['2010-05-01':'2020-03-01']\n",
    "\n",
    "# 2000 to 2010 data\n",
    "url = ('https://api.census.gov/data/2000/pep/int_natmonthly?'+\n",
    "       f'get=POP,UNIVERSE,MONTHLY&for=us:1&key={census_key}')\n",
    "r = requests.get(url).json()\n",
    "df00 = (pd.DataFrame(r[1:], columns=r[0]).query('UNIVERSE == \"R\"')\n",
    "          .astype({'MONTHLY': 'int'}).sort_values('MONTHLY'))\n",
    "df00.index = pd.date_range('04-01-2000', '04-01-2010', freq='MS')\n",
    "data00 = df00['POP'].astype('int').loc['2000-05-01':]\n",
    "\n",
    "# 1990 to 2000 data\n",
    "url = ('https://www2.census.gov/programs-surveys/popest/datasets/'+\n",
    "       '1990-2000/intercensal/national/us-est90int-07.csv')\n",
    "r = pd.read_csv(url, header=None, skiprows=1)\n",
    "r.columns = ['date', 'age', 'TOTAL', 'men', 'women']\n",
    "df90 = r.query('age == \"All Age\"')\n",
    "df90.index = pd.to_datetime(df90.date)\n",
    "data90 = df90['TOTAL'].astype('int').loc['1990-05-01':]\n",
    "\n",
    "res = data.append(data10).append(data00).append(data90).sort_index()\n",
    "res.to_csv(data_dir / 'pop_est_raw.csv', index_label='date')"
   ]
  },
  {
   "cell_type": "code",
   "execution_count": 3,
   "id": "40e88f19",
   "metadata": {
    "ExecuteTime": {
     "end_time": "2022-02-23T17:27:21.281252Z",
     "start_time": "2022-02-23T17:27:21.277423Z"
    }
   },
   "outputs": [
    {
     "data": {
      "text/plain": [
       "'December 21, 2021'"
      ]
     },
     "execution_count": 3,
     "metadata": {},
     "output_type": "execute_result"
    }
   ],
   "source": [
    "rel_dt"
   ]
  },
  {
   "cell_type": "markdown",
   "id": "104a4449",
   "metadata": {},
   "source": [
    "### Under 65 Population"
   ]
  },
  {
   "cell_type": "code",
   "execution_count": 4,
   "id": "43b3bb8b",
   "metadata": {
    "ExecuteTime": {
     "end_time": "2022-02-23T17:35:02.332211Z",
     "start_time": "2022-02-23T17:34:59.780602Z"
    }
   },
   "outputs": [],
   "source": [
    "# 2010 to 2020 data\n",
    "url = ('https://api.census.gov/data/2019/pep/charagegroups?'+\n",
    "       'get=NAME,POP,DATE_CODE,DATE_DESC,AGEGROUP,UNIVERSE&'+\n",
    "       f'for=us:1&key={census_key}')\n",
    "r = requests.get(url).json()\n",
    "df10 = (pd.DataFrame(r[1:], columns=r[0]).astype({'DATE_CODE': 'int'})\n",
    "          .query('UNIVERSE == \"R\" and AGEGROUP in [\"0\",\"26\"] and DATE_CODE > 2'))\n",
    "df10.index = [pd.to_datetime(df10.DATE_DESC.str[:8]), \n",
    "              df10.AGEGROUP]\n",
    "data10 = df10['POP'].unstack().sort_index().astype(int)\n",
    "\n",
    "# 2000 to 2010 data\n",
    "url = ('https://api.census.gov/data/2000/pep/int_charagegroups?'+\n",
    "       'get=POP,DATE_,DATE_DESC,AGEGROUP,UNIVERSE&'+\n",
    "       f'for=us:1&key={census_key}')\n",
    "r = requests.get(url).json()\n",
    "df00 = (pd.DataFrame(r[1:], columns=r[0]).astype({'DATE_': 'int'})\n",
    "          .query('UNIVERSE == \"R\" and AGEGROUP in [\"0\",\"26\"] and 1 < DATE_ < 12'))\n",
    "df00.index = [pd.to_datetime(df00.DATE_DESC.str[:8]), \n",
    "              df00.AGEGROUP]\n",
    "data00 = df00['POP'].unstack().sort_index().astype(int)\n",
    "\n",
    "# 1990 to 2000 data\n",
    "url = ('https://api.census.gov/data/1990/pep/int_natrespop?'+\n",
    "       f'get=TOT_POP,YEAR,AGE&key={census_key}')\n",
    "r = requests.get(url).json()\n",
    "t = pd.DataFrame(r[1:], columns=r[0]).astype(int)\n",
    "data90 = t.query('AGE < 65').groupby('YEAR').TOT_POP.sum()\n",
    "data90.index = pd.to_datetime([f'{i}-07-01' for i in data90.index])\n",
    "\n",
    "data10['TOT_POP'] = data10['0'] - data10['26']\n",
    "data00['TOT_POP'] = data00['0'] - data00['26']\n",
    "result = data90.append(data00.TOT_POP).append(data10.TOT_POP)\n",
    "result.to_csv(data_dir / 'pop_u65_raw.csv', index_label='date')"
   ]
  },
  {
   "cell_type": "markdown",
   "id": "4c647a87",
   "metadata": {
    "ExecuteTime": {
     "end_time": "2022-02-23T06:51:44.849942Z",
     "start_time": "2022-02-23T06:51:44.848349Z"
    }
   },
   "source": [
    "### Projections 2017"
   ]
  },
  {
   "cell_type": "code",
   "execution_count": null,
   "id": "ea437df6",
   "metadata": {
    "ExecuteTime": {
     "end_time": "2022-02-23T15:12:27.254137Z",
     "start_time": "2022-02-23T15:12:27.247163Z"
    }
   },
   "outputs": [],
   "source": [
    "main = [273.884, 276.587, 279.008]\n",
    "years = [2016, 2020, 2025]\n",
    "index = pd.to_datetime([f'{y}-07-01' for y in years])\n",
    "pr = pd.Series(data=main, index=index, name='PROJ_POP')\n",
    "pr.to_csv(data_dir / 'pop_u65_proj.csv', index_label='date')"
   ]
  },
  {
   "cell_type": "code",
   "execution_count": null,
   "id": "51a31104",
   "metadata": {
    "ExecuteTime": {
     "end_time": "2022-02-23T06:55:20.855931Z",
     "start_time": "2022-02-23T06:55:20.852688Z"
    }
   },
   "outputs": [],
   "source": [
    "main = [325.511, 327.892, 330.269, 332.639, 334.998,\n",
    "        337.342, 339.665, 341.963, 344.234, 346.481,\n",
    "        348.695]\n",
    "years = [2017, 2018, 2019, 2020, 2021, 2022, 2023,\n",
    "        2024, 2025, 2026, 2027]\n",
    "index = pd.to_datetime([f'{y}-07-01' for y in years])\n",
    "pr = pd.Series(data=main, index=index, name='PROJ_POP')\n",
    "pr.to_csv(data_dir / 'pop_est_proj.csv', index_label='date')"
   ]
  },
  {
   "cell_type": "code",
   "execution_count": 96,
   "id": "ea6c55ad",
   "metadata": {
    "ExecuteTime": {
     "end_time": "2022-03-01T02:31:48.755760Z",
     "start_time": "2022-03-01T02:31:48.619300Z"
    }
   },
   "outputs": [
    {
     "name": "stdout",
     "output_type": "stream",
     "text": [
      "The latest population estimates, released on \\input{text/pop_est_reldt.txt}\\unskip, show the US resident population is 332.0 million in January 2022 (see {\\color{violet}\\textbf{---}}). The 2017-based projections of the future US resident population show a 2025 population of 344.2 million people (see \\begin{tikzpicture} \\draw[magenta!80!white] (0pt,5pt) -- (10pt,5pt); \\fill[magenta!80!white] (1ex,1ex) circle (0.5ex);\\end{tikzpicture}). The resident population under age 65 was estimated to be 274.2 million in 2019 (see {\\color{green!70!blue}\\textbf{---}}) and is projected to be 279.0 million in 2025 (see \\begin{tikzpicture}[baseline=-2.5pt] \\draw[cyan!80!white] (-5pt,0pt) -- (5pt,0pt); \\color{cyan!80!white}{\\pgfuseplotmark{triangle}};\\end{tikzpicture}).\n"
     ]
    }
   ],
   "source": [
    "# Cleaned results and text\n",
    "d65 = pd.read_csv(data_dir / 'pop_u65_raw.csv', index_col='date', \n",
    "                 parse_dates=True)\n",
    "d65 = d65[~d65.index.duplicated(keep='last')] / 1_000_000\n",
    "d65.to_csv(data_dir / 'pop_u65.csv', index_label='date')\n",
    "df = pd.read_csv(data_dir / 'pop_est_raw.csv', index_col='date', \n",
    "                 parse_dates=True).rename({'0':'TOT_POP'}, axis=1)\n",
    "df = df[~df.index.duplicated(keep='last')] / 1_000_000\n",
    "df.to_csv(data_dir / 'pop_est.csv', index_label='date')\n",
    "pr = pd.read_csv(data_dir / 'pop_est_proj.csv', index_col='date', \n",
    "                 parse_dates=True)\n",
    "p65 = pd.read_csv(data_dir / 'pop_u65_proj.csv', index_col='date', \n",
    "                 parse_dates=True)\n",
    "pop = int(df.loc[cps_date(), 'TOT_POP'])\n",
    "ltdt = dtxt(cps_date())['mon1']\n",
    "clt = c_line('violet')\n",
    "cl65 = c_line('green!70!blue')\n",
    "clp = ('(see \\\\begin{tikzpicture} \\draw[magenta!80!white] (0pt,5pt) -- '+\n",
    "         '(10pt,5pt); \\\\fill[magenta!80!white] (1ex,1ex) circle (0.5ex);'+\n",
    "         '\\end{tikzpicture})')\n",
    "cl65p = ('(see \\\\begin{tikzpicture}[baseline=-2.5pt] \\draw[cyan!80!white] '+\n",
    "         '(-5pt,0pt) -- (5pt,0pt); \\color{cyan!80!white}{\\pgfuseplotmark'+\n",
    "         '{triangle}};\\end{tikzpicture})')\n",
    "pyear = '2017'\n",
    "proj = pr.loc['2025-07-01', 'PROJ_POP']\n",
    "u65 = d65.TOT_POP.iloc[-1]\n",
    "u65dt = dtxt(d65.index[-1])['year']\n",
    "u65pr = p65.loc['2025-07-01', 'PROJ_POP']\n",
    "text = ('The latest population estimates, released on '+\n",
    "        '\\input{text/pop_est_reldt.txt}\\\\unskip, show the US '+\n",
    "        f'resident population is {pop:.1f} million in {ltdt} '+\n",
    "        f'{clt}. The {pyear}-based projections '+\n",
    "        'of the future US resident population show a 2025 '+\n",
    "        f'population of {proj:.1f} million people '+\n",
    "        f'{clp}. The resident population under age 65 was '+\n",
    "        f'estimated to be {u65:.1f} million in {u65dt} '+\n",
    "        f'{cl65} and is projected to be {u65pr:.1f} million '+\n",
    "        f'in 2025 {cl65p}.')\n",
    "write_txt(text_dir / 'pop_est.txt', text)\n",
    "print(text)\n",
    "dt = dtxt(cps_date())['datetime']\n",
    "proj_bar = (f'\\draw [dashed] (axis cs:{{{dt}}},'+\n",
    "            '\\pgfkeysvalueof{/pgfplots/ymin}) -- '+\n",
    "            f'(axis cs:{{{dt}}}, \\pgfkeysvalueof'+\n",
    "            f'{{/pgfplots/ymax}}); \\n \\\\absnode{{{{{dt}}}}}'+\n",
    "            '{228}{\\scriptsize \\color{black!50}{Projected}}')\n",
    "write_txt(text_dir / 'pop_est_projbar.txt', proj_bar)\n",
    "\n",
    "pjdt = '2025-07-01'\n",
    "pjdt2 = pd.to_datetime(pjdt)\n",
    "ltdt = cps_date()\n",
    "lt65 = d65.index[-1]\n",
    "pr65 = d65.index[-2]\n",
    "dates = ['2010-07-01', '2000-07-01', '1990-07-01']\n",
    "\n",
    "tbl = pd.DataFrame({'Tot': (df.loc[[lt65, pr65], 'TOT_POP']\n",
    "                            .append(df.TOT_POP.loc[dates])),\n",
    "                    'U65': (d65.loc[[lt65, pr65], 'TOT_POP']\n",
    "                            .append(d65.TOT_POP.loc[dates]))})\n",
    "tbl.loc[ltdt, 'Tot'] = df.loc[ltdt, 'TOT_POP']\n",
    "tbl = tbl.sort_index(ascending=False)\n",
    "tbl.loc[pjdt2, 'U65'] = p65.loc[pjdt, 'PROJ_POP']\n",
    "tbl.loc[pjdt2, 'Tot'] = pr.loc[pjdt, 'PROJ_POP']\n",
    "tbl['O65'] = tbl['Tot'] - tbl['U65']\n",
    "rn = {'Tot': 'Total Resident Population',\n",
    "      'U65': '\\\\hspace{2mm} Under Age 65',\n",
    "      'O65': '\\\\hspace{2mm} Over Age 65'}\n",
    "tbl = tbl.T.rename(rn)\n",
    "tbl.columns = ([dtxt(tbl.columns[0])['mon2']] + \n",
    "               [dtxt(i)['year'] for i in tbl.columns[1:]])\n",
    "tbl = tbl.applymap('{:,.1f}'.format).replace('nan', '--')\n",
    "tbl.to_csv(data_dir/'pop_table.tex', sep='&', \n",
    "           line_terminator='\\\\\\ ', quotechar=' ')"
   ]
  },
  {
   "cell_type": "code",
   "execution_count": null,
   "id": "ab739784",
   "metadata": {},
   "outputs": [],
   "source": []
  },
  {
   "cell_type": "code",
   "execution_count": null,
   "id": "696e3375",
   "metadata": {},
   "outputs": [],
   "source": []
  },
  {
   "cell_type": "markdown",
   "id": "c20df891",
   "metadata": {},
   "source": [
    "### Related Measures"
   ]
  },
  {
   "cell_type": "code",
   "execution_count": 102,
   "id": "52e81db0",
   "metadata": {
    "ExecuteTime": {
     "end_time": "2022-03-01T03:21:40.826010Z",
     "start_time": "2022-03-01T03:21:40.163035Z"
    }
   },
   "outputs": [],
   "source": [
    "url = ('https://api.census.gov/data/2021/pep/natmonthly?'+\n",
    "       'get=NAME,POP,UNIVERSE,MONTHLY,LASTUPDATE&'+\n",
    "       f'for=us:1&key={census_key}')\n",
    "r = requests.get(url).json()\n",
    "df = (pd.DataFrame(r[1:], columns=r[0])\n",
    "        .pivot(index='MONTHLY', columns= 'UNIVERSE', \n",
    "               values='POP')).sort_index()\n",
    "df.index = pd.date_range('04-01-2020', '12-01-2022', \n",
    "                         freq='MS')\n",
    "df.to_csv(data_dir / 'pop_universe_raw.csv', \n",
    "          index_label='date')"
   ]
  },
  {
   "cell_type": "code",
   "execution_count": 155,
   "id": "98fc4e1c",
   "metadata": {
    "ExecuteTime": {
     "end_time": "2022-03-01T04:57:08.734669Z",
     "start_time": "2022-03-01T04:57:08.698024Z"
    }
   },
   "outputs": [
    {
     "name": "stdout",
     "output_type": "stream",
     "text": [
      "As of January 2022, the \\textbf{resident} population is 331.4 million, while the more-comprehensive resident population \\textbf{including armed forces overseas} is 331.7 million, and the more-narrow \\textbf{civilian noninstitutionalized} population, which is used in labor statistics, is 326.7 million. \n",
      "\n",
      "As of January 2022, the \\textbf{household} population is 323.7 million, or 97.7 percent of the total resident population. \n"
     ]
    }
   ],
   "source": [
    "dt = cps_date()\n",
    "df = pd.read_csv(data_dir / 'pop_universe_raw.csv', \n",
    "                 index_col='date', parse_dates=True)\n",
    "ltdt = dtxt(dt)['mon1']\n",
    "rpop = df.loc[dt, 'R'] / 1_000_000\n",
    "ppop = df.loc[dt, 'P'] / 1_000_000\n",
    "npop = df.loc[dt, 'N'] / 1_000_000\n",
    "text = (f'As of {ltdt}, the \\\\textbf{{resident}} population '+\n",
    "        f'is {rpop:.1f} million, while the more-comprehensive '+\n",
    "        'resident population \\\\textbf{including armed forces overseas} '+\n",
    "        f'is {ppop:.1f} million, and the more-narrow '+\n",
    "        '\\\\textbf{civilian noninstitutionalized} population, '+\n",
    "        f'which is used in labor statistics, is {npop:.1f} '+\n",
    "        'million.')\n",
    "write_txt(text_dir / 'pop_universe.txt', text)\n",
    "print(text, '\\n')\n",
    "hpop = df.loc[dt, 'H'] / 1_000_000\n",
    "hsh = (hpop / rpop) * 100\n",
    "txt1 = (f'As of {ltdt}, the \\\\textbf{{household}} population '+\n",
    "        f'is {hpop:.1f} million, or {hsh:.1f} percent of the '+\n",
    "        'total resident population. ')\n",
    "print(txt1)"
   ]
  },
  {
   "cell_type": "code",
   "execution_count": 156,
   "id": "9e86f796",
   "metadata": {
    "ExecuteTime": {
     "end_time": "2022-03-01T04:57:12.791245Z",
     "start_time": "2022-03-01T04:57:12.788975Z"
    }
   },
   "outputs": [],
   "source": [
    "# From 2020: DEC Redistricting Data (PL 94-171)\n",
    "d = {'Total': 8239016, 'Institutionalized population': 3753401,\n",
    "     'Correctional facilities for adults': 1967297,\n",
    "     'Juvenile facilities': 88115,\n",
    "     'Nursing facilities/Skilled-nursing facilities': 1627046,\n",
    "     'Other institutional facilities': 70943,\n",
    "     'Noninstitutionalized population': 4485615,\n",
    "     'College/University student housing': 2792097,\n",
    "     'Military quarters': 328372,\n",
    "     'Other noninstitutional facilities': 1365146}"
   ]
  },
  {
   "cell_type": "code",
   "execution_count": 178,
   "id": "1886d1eb",
   "metadata": {
    "ExecuteTime": {
     "end_time": "2022-03-01T05:09:43.318121Z",
     "start_time": "2022-03-01T05:09:43.311477Z"
    }
   },
   "outputs": [
    {
     "name": "stdout",
     "output_type": "stream",
     "text": [
      "The \\textbf{group quarters} population is \\href{https://www.census.gov/library/stories/2021/08/united-states-group-quarters-in-2020-census.html}{measured} in depth as part of the 2020 Census. The 2020 group quarters population is 8.2 million, of which 3.8 million are institutionalized. Of these, two million are in prisons and jails, and 1.6 million are in nursing and skilled-care facilities. An additional 2.8 million people live in dormitories or student housing, 328,000 live in barracks, and 1.4 million live in other noninstitutional facilities such as shelters and group homes.\n"
     ]
    }
   ],
   "source": [
    "s = pd.Series(d)\n",
    "ts = s[s < 1_000_000].round(-3).apply('{:,.0f}'.format)\n",
    "def number_rep(value):\n",
    "    '''Replace some numbers with text'''\n",
    "    res = str(round(value, 1))\n",
    "    if (value < 10) & (round(value, 1) % 1 == 0.0):\n",
    "        res = numbers[res]\n",
    "    return res\n",
    "ms = (s[s >= 1_000_000].divide(1_000_000)\n",
    "      .apply(lambda x: f'{number_rep(x)} million'))\n",
    "sf = ts.append(ms)\n",
    "ipop = sf['Institutionalized population']\n",
    "corpop = sf['Correctional facilities for adults']\n",
    "ncpop = sf['Nursing facilities/Skilled-nursing facilities']\n",
    "stpop = sf['College/University student housing']\n",
    "bpop = sf['Military quarters']\n",
    "opop = sf['Other noninstitutional facilities']\n",
    "url2 = ('https://www.census.gov/library/stories/2021/08/'+\n",
    "        'united-states-group-quarters-in-2020-census.html')\n",
    "\n",
    "txt2 = ('The \\\\textbf{group quarters} population is '+\n",
    "        f'\\href{{{url2}}}{{measured}} in depth as part of '+\n",
    "        'the 2020 Census. The 2020 group quarters population '+\n",
    "        f'is {sf.Total}, of which {ipop} are institutionalized. '+\n",
    "        f'Of these, {corpop} are in prisons and jails, and '+\n",
    "        f'{ncpop} are in nursing and skilled-care facilities. '+\n",
    "        f'An additional {stpop} people live in dormitories or '+\n",
    "        f'student housing, {bpop} live in barracks, and '+\n",
    "        f'{opop} live in other noninstitutional facilities '+\n",
    "        'such as shelters and group homes.')\n",
    "write_txt(text_dir / 'pop_hh.txt', txt1+txt2)\n",
    "print(txt2)"
   ]
  },
  {
   "cell_type": "code",
   "execution_count": null,
   "id": "8cab9f3a",
   "metadata": {},
   "outputs": [],
   "source": []
  },
  {
   "cell_type": "code",
   "execution_count": null,
   "id": "5377e5e7",
   "metadata": {},
   "outputs": [],
   "source": []
  },
  {
   "cell_type": "markdown",
   "id": "35a9a73a",
   "metadata": {
    "ExecuteTime": {
     "end_time": "2022-03-01T00:23:17.454757Z",
     "start_time": "2022-03-01T00:23:17.452549Z"
    }
   },
   "source": [
    "### Growth Rate in Percent"
   ]
  },
  {
   "cell_type": "code",
   "execution_count": 98,
   "id": "3f298b64",
   "metadata": {
    "ExecuteTime": {
     "end_time": "2022-03-01T03:16:27.062445Z",
     "start_time": "2022-03-01T03:16:26.452705Z"
    }
   },
   "outputs": [],
   "source": [
    "url = ('https://api.census.gov/data/2021/pep/population?'+\n",
    "       'get=NAME,PPOPCHG_2021,POP_2021,UNIVERSE&for=us:1&'+\n",
    "       f'key={census_key}')\n",
    "r = requests.get(url).json()\n",
    "pc = pd.Series(r[1], index=r[0])['PPOPCHG_2021']\n",
    "gr = f'{float(pc):.1f} percent'\n",
    "write_txt(text_dir / 'pop_growth_percent.txt', gr)"
   ]
  },
  {
   "cell_type": "code",
   "execution_count": null,
   "id": "899f5b4d",
   "metadata": {},
   "outputs": [],
   "source": []
  },
  {
   "cell_type": "code",
   "execution_count": null,
   "id": "8c44e710",
   "metadata": {},
   "outputs": [],
   "source": []
  },
  {
   "cell_type": "markdown",
   "id": "fb0c241b",
   "metadata": {},
   "source": [
    "### Components of Growth"
   ]
  },
  {
   "cell_type": "code",
   "execution_count": null,
   "id": "1e4e8fd4",
   "metadata": {
    "ExecuteTime": {
     "end_time": "2022-02-22T23:58:57.507126Z",
     "start_time": "2022-02-22T23:58:57.499483Z"
    }
   },
   "outputs": [],
   "source": [
    "#Pre-1991 data from Births and Deaths and population \n",
    "# https://www.census.gov/library/publications/2006/\n",
    "# compendia/statab/126ed/vital-statistics.html\n",
    "# and \n",
    "# https://www2.census.gov/programs-surveys/popest/\n",
    "# tables/1900-1980/national/totals/popclockest.txt\n",
    "years = [1988, 1989, 1990, 1991]\n",
    "births88 = [3809000, 3910000, 4041000, 4158000]\n",
    "deaths88 = [2123000, 2168000, 2150000, 2148000]\n",
    "total88 = [2210064, 2320248, 2645166, 2688696]\n",
    "df88 = pd.DataFrame()\n",
    "df88['BIRTHS'] = pd.Series(data=births88, index=years)\n",
    "df88['DEATHS'] = pd.Series(data=deaths88, index=years)\n",
    "df88['TOTAL'] = pd.Series(data=total88, index=years)\n",
    "df88['NATURALINC'] = df88['BIRTHS'] - df88['DEATHS']\n",
    "df88['NETMIG'] = df88['TOTAL'] - df88['NATURALINC']\n",
    "\n",
    "# Copied these manually from here: https://www2.census.gov/programs-surveys/\n",
    "# popest/tables/1990-2000/estimates-and-change-1990-2000/2000c8_00.txt\n",
    "years = [2000, 1999, 1998, 1997, 1996, 1995, 1994, 1993, 1992, 1991]\n",
    "births90 = ['3,966,059',  '3,949,171',  '3,909,345',  '3,892,431',  \n",
    "            '3,881,967',  '3,926,652',  '3,971,136',  '4,027,125',  \n",
    "            '4,105,689',  '4,133,265']\n",
    "deaths90 = ['2,386,995',  '2,359,088',  '2,330,759',  '2,321,933',  \n",
    "            '2,317,918',  '2,284,363',  '2,282,854',  '2,226,027',  \n",
    "            '2,180,115',  '2,138,906']\n",
    "netmig90 = ['878,119', '862,845', '884,272', '930,821', '862,794', \n",
    "            '783,884', '763,264', '826,566', '792,335', '698,732']\n",
    "df90 = pd.DataFrame()\n",
    "df90['BIRTHS'] = (pd.Series(data=births90, index=years)\n",
    "                    .str.replace(',', '').astype('int'))\n",
    "df90['DEATHS'] = (pd.Series(data=deaths90, index=years)\n",
    "                    .str.replace(',', '').astype('int'))\n",
    "df90['NETMIG'] = (pd.Series(data=netmig90, index=years)\n",
    "                    .str.replace(',', '').astype('int'))\n",
    "df90['NATURALINC'] = df90['BIRTHS'] - df90['DEATHS']"
   ]
  },
  {
   "cell_type": "code",
   "execution_count": null,
   "id": "2e3db636",
   "metadata": {
    "ExecuteTime": {
     "end_time": "2022-02-23T01:59:20.466411Z",
     "start_time": "2022-02-23T01:59:18.851514Z"
    }
   },
   "outputs": [],
   "source": [
    "# 2001 to 2010 data csv\n",
    "url = ('https://www2.census.gov/programs-surveys/popest/datasets/'+\n",
    "       '2010/2010-eval-estimates/co-est2010-alldata.csv')\n",
    "df00 = pd.read_csv(url, encoding='iso-8859-1')\n",
    "\n",
    "# 2011 to 2020 data csv\n",
    "url = ('https://www2.census.gov/programs-surveys/popest/'+\n",
    "       'datasets/2010-2020/state/totals/nst-est2020-alldata.csv')\n",
    "df10 = pd.read_csv(url)\n",
    "\n",
    "# 2021 file\n",
    "file = ('https://www2.census.gov/programs-surveys/popest/tables/'+\n",
    "        '2020-2021/state/totals/NST-EST2021-COMP.xlsx')\n",
    "df = pd.read_excel(file, index_col=0, usecols='A:F', header=[3])\n",
    "cols = ['Total', 'NATURALINC', 'BIRTHS', 'DEATHS', 'NETMIG']\n",
    "df.columns = cols\n",
    "df21 = df.loc['United States', cols[1:]]\n",
    "\n",
    "cats = ['BIRTHS', 'DEATHS', 'NATURALINC', 'NETMIG']\n",
    "res = pd.DataFrame()\n",
    "for cat, year in itertools.product(cats, range(2001, 2011)):\n",
    "    data = df00.query('COUNTY == 0').sum().loc[f'{cat}{year}']\n",
    "    res.at[year, cat] = data\n",
    "for cat, year in itertools.product(cats, range(2011, 2021)):\n",
    "    data = df10.query('NAME == \"United States\"').loc[0, f'{cat}{year}']\n",
    "    res.at[year, cat] = data\n",
    "res = df88.append(df90).append(res).append(df21.rename(2021))\n",
    "res.index = pd.to_datetime([f'{y}-07-01' for y in res.index])\n",
    "res['TOTAL'] = res['NATURALINC'] + res['NETMIG']\n",
    "res = res.sort_index()\n",
    "res.to_csv(data_dir / 'popcomp_raw.csv', index_label='date')"
   ]
  },
  {
   "cell_type": "code",
   "execution_count": 13,
   "id": "eef84ddb",
   "metadata": {
    "ExecuteTime": {
     "end_time": "2022-03-01T01:01:42.804755Z",
     "start_time": "2022-03-01T01:01:42.791094Z"
    }
   },
   "outputs": [
    {
     "name": "stdout",
     "output_type": "stream",
     "text": [
      "Population growth comes from two sources, natural increases (births minus deaths) and net migration. In the latest estimate, the US population added 392,700 people over the year ending July 2021, a population growth rate of 0.1 percent. There were a total of 3.58 million births (see {\\color{green!90!black}\\textbf{---}}), and 3.43 million deaths (see {\\color{orange!80!red}\\textbf{---}}), resulting in a natural increase of 148,000 people (see \\begin{tikzpicture}\\draw [pattern=crosshatch, pattern color=cyan!80!blue, draw=cyan!80!blue](0,0) rectangle (.2,.2); \\end{tikzpicture}). In the same period, net migration from abroad increased the resident population by 244,600 people (see\\cbox{blue!75!black}). For comparison, in 1989, there were 3.91 million births, 2.17 million deaths, and 578,200 net migrants to the US. \n"
     ]
    }
   ],
   "source": [
    "res = pd.read_csv(data_dir / 'popcomp_raw.csv', index_col='date', \n",
    "                  parse_dates=True)\n",
    "(res / 1_000_000).to_csv(data_dir / 'popcomp.csv', index_label='date')\n",
    "ltdt = dtxt(res.index[-1])['mon1']\n",
    "ltval = f'{round(res.TOTAL.iloc[-1],-2):,.0f}'\n",
    "ltb = f'{res.BIRTHS.iloc[-1] / 1_000_000:,.2f}'\n",
    "ltd = f'{res.DEATHS.iloc[-1] / 1_000_000:,.2f}'\n",
    "ltni = f'{round(res.NATURALINC.iloc[-1],-2):,.0f}'\n",
    "ltnm = f'{round(res.NETMIG.iloc[-1],-2):,.0f}'\n",
    "nii = 'increase' if res.NATURALINC.iloc[-1] > 0 else 'decrease'\n",
    "nmi = 'increased' if res.NETMIG.iloc[-1] > 0 else 'decreased'\n",
    "b89 = f'{res.loc[\"1989-07-01\", \"BIRTHS\"] / 1_000_000:,.2f}'\n",
    "d89 = f'{res.loc[\"1989-07-01\", \"DEATHS\"] / 1_000_000:,.2f}'\n",
    "nm89 = f'{round(res.loc[\"1989-07-01\", \"NETMIG\"], -2):,.0f}'\n",
    "cld = c_line('orange!80!red')\n",
    "clb = c_line('green!90!black')\n",
    "cbnm = c_box('blue!75!black')\n",
    "sq = ('(see \\\\begin{tikzpicture}\\draw [pattern=crosshatch, pattern '+\n",
    "      'color=cyan!80!blue, draw=cyan!80!blue](0,0) rectangle '+\n",
    "      '(.2,.2); \\end{tikzpicture})')\n",
    "# Population growth estimate retrieved from Census API\n",
    "gr = Path(text_dir / 'pop_growth_percent.txt').read_text()\n",
    "text = ('Population growth comes from two sources, natural '+\n",
    "        'increases (births minus deaths) and net migration. '+\n",
    "        'In the latest estimate, the US population added '+\n",
    "        f'{ltval} people over the year ending {ltdt}, a '+\n",
    "        f'population growth rate of {gr}. There were a '+\n",
    "        f'total of {ltb} million births {clb}, and {ltd} '+\n",
    "        f'million deaths {cld}, resulting in a natural '+\n",
    "        f'{nii} of {ltni} people {sq}. In the same period, '+\n",
    "        f'net migration from abroad {nmi} the resident '+\n",
    "        f'population by {ltnm} people {cbnm}. For comparison, '+\n",
    "        f'in 1989, there were {b89} million births, {d89} '+\n",
    "        f'million deaths, and {nm89} net migrants to the US. ')\n",
    "write_txt(text_dir / 'pop_comp.txt', text)\n",
    "print(text)"
   ]
  },
  {
   "cell_type": "code",
   "execution_count": null,
   "id": "70c36b81",
   "metadata": {},
   "outputs": [],
   "source": []
  },
  {
   "cell_type": "code",
   "execution_count": null,
   "id": "905cde92",
   "metadata": {},
   "outputs": [],
   "source": []
  }
 ],
 "metadata": {
  "kernelspec": {
   "display_name": "Python 3",
   "language": "python",
   "name": "python3"
  },
  "language_info": {
   "codemirror_mode": {
    "name": "ipython",
    "version": 3
   },
   "file_extension": ".py",
   "mimetype": "text/x-python",
   "name": "python",
   "nbconvert_exporter": "python",
   "pygments_lexer": "ipython3",
   "version": "3.8.8"
  }
 },
 "nbformat": 4,
 "nbformat_minor": 5
}
