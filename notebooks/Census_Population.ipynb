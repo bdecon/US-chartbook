{
 "cells": [
  {
   "cell_type": "markdown",
   "id": "8b736f8f",
   "metadata": {},
   "source": [
    "### Census Population Estimates and Projections\n",
    "\n",
    "February 22, 2022\n",
    "\n",
    "Brian W. Dew"
   ]
  },
  {
   "cell_type": "code",
   "execution_count": 1,
   "id": "3921f504",
   "metadata": {
    "ExecuteTime": {
     "end_time": "2023-04-18T23:54:50.280663Z",
     "start_time": "2023-04-18T23:54:49.373232Z"
    }
   },
   "outputs": [],
   "source": [
    "import sys\n",
    "sys.path.append('../src')\n",
    "\n",
    "import uschartbook.config\n",
    "\n",
    "from uschartbook.config import *\n",
    "from uschartbook.utils import *"
   ]
  },
  {
   "cell_type": "markdown",
   "id": "c8c47738",
   "metadata": {},
   "source": [
    "### Population Estimates"
   ]
  },
  {
   "cell_type": "code",
   "execution_count": 4,
   "id": "772bcbc9",
   "metadata": {
    "ExecuteTime": {
     "end_time": "2023-04-18T23:55:10.255990Z",
     "start_time": "2023-04-18T23:55:03.695391Z"
    }
   },
   "outputs": [],
   "source": [
    "# April 2020 onward\n",
    "url = ('https://api.census.gov/data/2021/pep/natmonthly?'+\n",
    "       'get=NAME,POP,UNIVERSE,MONTHLY,LASTUPDATE&'+\n",
    "       f'for=us:1&key={census_key}')\n",
    "r = requests.get(url).json()\n",
    "df = (pd.DataFrame(r[1:], columns=r[0]).astype({'MONTHLY': 'int'})\n",
    "        .query('UNIVERSE == \"R\" and MONTHLY > 1')\n",
    "        .sort_values('MONTHLY'))\n",
    "rel_dt = dtxt(pd.to_datetime(df['LASTUPDATE'].iloc[-1]))['day1']\n",
    "write_txt(text_dir / 'pop_est_reldt.txt', rel_dt)\n",
    "df.index = pd.date_range('04-01-2020', '12-01-2022', freq='MS')\n",
    "data = df['POP'].astype('int')\n",
    "\n",
    "# 2010 to 2020 data\n",
    "url = ('https://api.census.gov/data/2019/pep/natmonthly?'+\n",
    "       'get=NAME,POP,UNIVERSE,MONTHLY&'+\n",
    "       f'for=us:1&key={census_key}')\n",
    "r = requests.get(url).json()\n",
    "df10 = (pd.DataFrame(r[1:], columns=r[0]).astype({'MONTHLY': 'int'})\n",
    "          .query('UNIVERSE == \"R\" and MONTHLY > 1')\n",
    "          .sort_values('MONTHLY'))\n",
    "df10.index = pd.date_range('04-01-2010', '12-01-2020', freq='MS')\n",
    "data10 = df10['POP'].astype('int').loc['2010-05-01':'2020-03-01']\n",
    "\n",
    "# 2000 to 2010 data\n",
    "url = ('https://api.census.gov/data/2000/pep/int_natmonthly?'+\n",
    "       f'get=POP,UNIVERSE,MONTHLY&for=us:1&key={census_key}')\n",
    "r = requests.get(url).json()\n",
    "df00 = (pd.DataFrame(r[1:], columns=r[0]).query('UNIVERSE == \"R\"')\n",
    "          .astype({'MONTHLY': 'int'}).sort_values('MONTHLY'))\n",
    "df00.index = pd.date_range('04-01-2000', '04-01-2010', freq='MS')\n",
    "data00 = df00['POP'].astype('int').loc['2000-05-01':]\n",
    "\n",
    "# 1990 to 2000 data\n",
    "url = ('https://www2.census.gov/programs-surveys/popest/datasets/'+\n",
    "       '1990-2000/intercensal/national/us-est90int-07.csv')\n",
    "r = pd.read_csv(url, header=None, skiprows=1)\n",
    "r.columns = ['date', 'age', 'TOTAL', 'men', 'women']\n",
    "df90 = r.query('age == \"All Age\"')\n",
    "df90.index = pd.to_datetime(df90.date)\n",
    "data90 = df90['TOTAL'].astype('int').loc['1990-05-01':]\n",
    "\n",
    "res = pd.concat([data, data10, data00, data90]).sort_index()\n",
    "res.to_csv(data_dir / 'pop_est_raw.csv', index_label='date')"
   ]
  },
  {
   "cell_type": "code",
   "execution_count": 5,
   "id": "40e88f19",
   "metadata": {
    "ExecuteTime": {
     "end_time": "2023-04-18T23:55:10.264883Z",
     "start_time": "2023-04-18T23:55:10.257779Z"
    }
   },
   "outputs": [
    {
     "data": {
      "text/plain": [
       "'December 21, 2021'"
      ]
     },
     "execution_count": 5,
     "metadata": {},
     "output_type": "execute_result"
    }
   ],
   "source": [
    "rel_dt"
   ]
  },
  {
   "cell_type": "raw",
   "id": "6f4cc5a2",
   "metadata": {},
   "source": []
  },
  {
   "cell_type": "raw",
   "id": "8a6f49b5",
   "metadata": {},
   "source": []
  },
  {
   "cell_type": "markdown",
   "id": "104a4449",
   "metadata": {},
   "source": [
    "### Under 65 Population"
   ]
  },
  {
   "cell_type": "code",
   "execution_count": 14,
   "id": "43b3bb8b",
   "metadata": {
    "ExecuteTime": {
     "end_time": "2023-04-14T20:20:28.418507Z",
     "start_time": "2023-04-14T20:20:26.251693Z"
    }
   },
   "outputs": [],
   "source": [
    "# 2010 to 2020 data\n",
    "url = ('https://api.census.gov/data/2019/pep/charagegroups?'+\n",
    "       'get=NAME,POP,DATE_CODE,DATE_DESC,AGEGROUP,UNIVERSE&'+\n",
    "       f'for=us:1&key={census_key}')\n",
    "r = requests.get(url).json()\n",
    "df10 = (pd.DataFrame(r[1:], columns=r[0]).astype({'DATE_CODE': 'int'})\n",
    "          .query('UNIVERSE == \"R\" and AGEGROUP in [\"0\",\"26\"] and DATE_CODE > 2'))\n",
    "df10.index = [pd.to_datetime(df10.DATE_DESC.str[:8]), \n",
    "              df10.AGEGROUP]\n",
    "data10 = df10['POP'].unstack().sort_index().astype(int)\n",
    "\n",
    "# 2000 to 2010 data\n",
    "url = ('https://api.census.gov/data/2000/pep/int_charagegroups?'+\n",
    "       'get=POP,DATE_,DATE_DESC,AGEGROUP,UNIVERSE&'+\n",
    "       f'for=us:1&key={census_key}')\n",
    "r = requests.get(url).json()\n",
    "df00 = (pd.DataFrame(r[1:], columns=r[0]).astype({'DATE_': 'int'})\n",
    "          .query('UNIVERSE == \"R\" and AGEGROUP in [\"0\",\"26\"] and 1 < DATE_ < 12'))\n",
    "df00.index = [pd.to_datetime(df00.DATE_DESC.str[:8]), \n",
    "              df00.AGEGROUP]\n",
    "data00 = df00['POP'].unstack().sort_index().astype(int)\n",
    "\n",
    "# 1990 to 2000 data\n",
    "url = ('https://api.census.gov/data/1990/pep/int_natrespop?'+\n",
    "       f'get=TOT_POP,YEAR,AGE&key={census_key}')\n",
    "r = requests.get(url).json()\n",
    "t = pd.DataFrame(r[1:], columns=r[0]).astype(int)\n",
    "data90 = t.query('AGE < 65').groupby('YEAR').TOT_POP.sum()\n",
    "data90.index = pd.to_datetime([f'{i}-07-01' for i in data90.index])\n",
    "\n",
    "data10['TOT_POP'] = data10['0'] - data10['26']\n",
    "data00['TOT_POP'] = data00['0'] - data00['26']\n",
    "result = pd.concat([data90, data00.TOT_POP, data10.TOT_POP])\n",
    "#result = data90.append(data00.TOT_POP).append(data10.TOT_POP)\n",
    "result.to_csv(data_dir / 'pop_u65_raw.csv', index_label='date')"
   ]
  },
  {
   "cell_type": "code",
   "execution_count": null,
   "id": "379fe6e5",
   "metadata": {},
   "outputs": [],
   "source": []
  },
  {
   "cell_type": "code",
   "execution_count": null,
   "id": "23fe8fef",
   "metadata": {},
   "outputs": [],
   "source": []
  },
  {
   "cell_type": "markdown",
   "id": "4c647a87",
   "metadata": {
    "ExecuteTime": {
     "end_time": "2022-02-23T06:51:44.849942Z",
     "start_time": "2022-02-23T06:51:44.848349Z"
    }
   },
   "source": [
    "### Projections 2017"
   ]
  },
  {
   "cell_type": "code",
   "execution_count": 15,
   "id": "ea437df6",
   "metadata": {
    "ExecuteTime": {
     "end_time": "2023-04-14T20:20:37.532945Z",
     "start_time": "2023-04-14T20:20:37.517387Z"
    }
   },
   "outputs": [],
   "source": [
    "main = [273.884, 276.587, 279.008]\n",
    "years = [2016, 2020, 2025]\n",
    "index = pd.to_datetime([f'{y}-07-01' for y in years])\n",
    "pr = pd.Series(data=main, index=index, name='PROJ_POP')\n",
    "pr.to_csv(data_dir / 'pop_u65_proj.csv', index_label='date')"
   ]
  },
  {
   "cell_type": "code",
   "execution_count": 16,
   "id": "51a31104",
   "metadata": {
    "ExecuteTime": {
     "end_time": "2023-04-14T20:20:38.367549Z",
     "start_time": "2023-04-14T20:20:38.350162Z"
    }
   },
   "outputs": [],
   "source": [
    "main = [325.511, 327.892, 330.269, 332.639, 334.998,\n",
    "        337.342, 339.665, 341.963, 344.234, 346.481,\n",
    "        348.695]\n",
    "years = [2017, 2018, 2019, 2020, 2021, 2022, 2023,\n",
    "        2024, 2025, 2026, 2027]\n",
    "index = pd.to_datetime([f'{y}-07-01' for y in years])\n",
    "pr = pd.Series(data=main, index=index, name='PROJ_POP')\n",
    "pr.to_csv(data_dir / 'pop_est_proj.csv', index_label='date')"
   ]
  },
  {
   "cell_type": "code",
   "execution_count": 17,
   "id": "ea6c55ad",
   "metadata": {
    "ExecuteTime": {
     "end_time": "2023-04-14T20:20:39.250159Z",
     "start_time": "2023-04-14T20:20:39.112051Z"
    }
   },
   "outputs": [
    {
     "ename": "KeyError",
     "evalue": "Timestamp('2023-03-01 00:00:00')",
     "output_type": "error",
     "traceback": [
      "\u001b[0;31m---------------------------------------------------------------------------\u001b[0m",
      "\u001b[0;31mKeyError\u001b[0m                                  Traceback (most recent call last)",
      "File \u001b[0;32m~/miniconda3/lib/python3.8/site-packages/pandas/_libs/index.pyx:548\u001b[0m, in \u001b[0;36mpandas._libs.index.DatetimeEngine.get_loc\u001b[0;34m()\u001b[0m\n",
      "File \u001b[0;32mpandas/_libs/hashtable_class_helper.pxi:2263\u001b[0m, in \u001b[0;36mpandas._libs.hashtable.Int64HashTable.get_item\u001b[0;34m()\u001b[0m\n",
      "File \u001b[0;32mpandas/_libs/hashtable_class_helper.pxi:2273\u001b[0m, in \u001b[0;36mpandas._libs.hashtable.Int64HashTable.get_item\u001b[0;34m()\u001b[0m\n",
      "\u001b[0;31mKeyError\u001b[0m: 1677628800000000000",
      "\nDuring handling of the above exception, another exception occurred:\n",
      "\u001b[0;31mKeyError\u001b[0m                                  Traceback (most recent call last)",
      "File \u001b[0;32m~/miniconda3/lib/python3.8/site-packages/pandas/core/indexes/base.py:3803\u001b[0m, in \u001b[0;36mIndex.get_loc\u001b[0;34m(self, key, method, tolerance)\u001b[0m\n\u001b[1;32m   3802\u001b[0m \u001b[38;5;28;01mtry\u001b[39;00m:\n\u001b[0;32m-> 3803\u001b[0m     \u001b[38;5;28;01mreturn\u001b[39;00m \u001b[38;5;28;43mself\u001b[39;49m\u001b[38;5;241;43m.\u001b[39;49m\u001b[43m_engine\u001b[49m\u001b[38;5;241;43m.\u001b[39;49m\u001b[43mget_loc\u001b[49m\u001b[43m(\u001b[49m\u001b[43mcasted_key\u001b[49m\u001b[43m)\u001b[49m\n\u001b[1;32m   3804\u001b[0m \u001b[38;5;28;01mexcept\u001b[39;00m \u001b[38;5;167;01mKeyError\u001b[39;00m \u001b[38;5;28;01mas\u001b[39;00m err:\n",
      "File \u001b[0;32m~/miniconda3/lib/python3.8/site-packages/pandas/_libs/index.pyx:516\u001b[0m, in \u001b[0;36mpandas._libs.index.DatetimeEngine.get_loc\u001b[0;34m()\u001b[0m\n",
      "File \u001b[0;32m~/miniconda3/lib/python3.8/site-packages/pandas/_libs/index.pyx:550\u001b[0m, in \u001b[0;36mpandas._libs.index.DatetimeEngine.get_loc\u001b[0;34m()\u001b[0m\n",
      "\u001b[0;31mKeyError\u001b[0m: Timestamp('2023-03-01 00:00:00')",
      "\nThe above exception was the direct cause of the following exception:\n",
      "\u001b[0;31mKeyError\u001b[0m                                  Traceback (most recent call last)",
      "File \u001b[0;32m~/miniconda3/lib/python3.8/site-packages/pandas/core/indexes/datetimes.py:736\u001b[0m, in \u001b[0;36mDatetimeIndex.get_loc\u001b[0;34m(self, key, method, tolerance)\u001b[0m\n\u001b[1;32m    735\u001b[0m \u001b[38;5;28;01mtry\u001b[39;00m:\n\u001b[0;32m--> 736\u001b[0m     \u001b[38;5;28;01mreturn\u001b[39;00m \u001b[43mIndex\u001b[49m\u001b[38;5;241;43m.\u001b[39;49m\u001b[43mget_loc\u001b[49m\u001b[43m(\u001b[49m\u001b[38;5;28;43mself\u001b[39;49m\u001b[43m,\u001b[49m\u001b[43m \u001b[49m\u001b[43mkey\u001b[49m\u001b[43m,\u001b[49m\u001b[43m \u001b[49m\u001b[43mmethod\u001b[49m\u001b[43m,\u001b[49m\u001b[43m \u001b[49m\u001b[43mtolerance\u001b[49m\u001b[43m)\u001b[49m\n\u001b[1;32m    737\u001b[0m \u001b[38;5;28;01mexcept\u001b[39;00m \u001b[38;5;167;01mKeyError\u001b[39;00m \u001b[38;5;28;01mas\u001b[39;00m err:\n",
      "File \u001b[0;32m~/miniconda3/lib/python3.8/site-packages/pandas/core/indexes/base.py:3805\u001b[0m, in \u001b[0;36mIndex.get_loc\u001b[0;34m(self, key, method, tolerance)\u001b[0m\n\u001b[1;32m   3804\u001b[0m \u001b[38;5;28;01mexcept\u001b[39;00m \u001b[38;5;167;01mKeyError\u001b[39;00m \u001b[38;5;28;01mas\u001b[39;00m err:\n\u001b[0;32m-> 3805\u001b[0m     \u001b[38;5;28;01mraise\u001b[39;00m \u001b[38;5;167;01mKeyError\u001b[39;00m(key) \u001b[38;5;28;01mfrom\u001b[39;00m \u001b[38;5;21;01merr\u001b[39;00m\n\u001b[1;32m   3806\u001b[0m \u001b[38;5;28;01mexcept\u001b[39;00m \u001b[38;5;167;01mTypeError\u001b[39;00m:\n\u001b[1;32m   3807\u001b[0m     \u001b[38;5;66;03m# If we have a listlike key, _check_indexing_error will raise\u001b[39;00m\n\u001b[1;32m   3808\u001b[0m     \u001b[38;5;66;03m#  InvalidIndexError. Otherwise we fall through and re-raise\u001b[39;00m\n\u001b[1;32m   3809\u001b[0m     \u001b[38;5;66;03m#  the TypeError.\u001b[39;00m\n",
      "\u001b[0;31mKeyError\u001b[0m: Timestamp('2023-03-01 00:00:00')",
      "\nThe above exception was the direct cause of the following exception:\n",
      "\u001b[0;31mKeyError\u001b[0m                                  Traceback (most recent call last)",
      "Cell \u001b[0;32mIn [17], line 14\u001b[0m\n\u001b[1;32m     10\u001b[0m pr \u001b[38;5;241m=\u001b[39m pd\u001b[38;5;241m.\u001b[39mread_csv(data_dir \u001b[38;5;241m/\u001b[39m \u001b[38;5;124m'\u001b[39m\u001b[38;5;124mpop_est_proj.csv\u001b[39m\u001b[38;5;124m'\u001b[39m, index_col\u001b[38;5;241m=\u001b[39m\u001b[38;5;124m'\u001b[39m\u001b[38;5;124mdate\u001b[39m\u001b[38;5;124m'\u001b[39m, \n\u001b[1;32m     11\u001b[0m                  parse_dates\u001b[38;5;241m=\u001b[39m\u001b[38;5;28;01mTrue\u001b[39;00m)\n\u001b[1;32m     12\u001b[0m p65 \u001b[38;5;241m=\u001b[39m pd\u001b[38;5;241m.\u001b[39mread_csv(data_dir \u001b[38;5;241m/\u001b[39m \u001b[38;5;124m'\u001b[39m\u001b[38;5;124mpop_u65_proj.csv\u001b[39m\u001b[38;5;124m'\u001b[39m, index_col\u001b[38;5;241m=\u001b[39m\u001b[38;5;124m'\u001b[39m\u001b[38;5;124mdate\u001b[39m\u001b[38;5;124m'\u001b[39m, \n\u001b[1;32m     13\u001b[0m                  parse_dates\u001b[38;5;241m=\u001b[39m\u001b[38;5;28;01mTrue\u001b[39;00m)\n\u001b[0;32m---> 14\u001b[0m pop \u001b[38;5;241m=\u001b[39m \u001b[38;5;28mint\u001b[39m(\u001b[43mdf\u001b[49m\u001b[38;5;241;43m.\u001b[39;49m\u001b[43mloc\u001b[49m\u001b[43m[\u001b[49m\u001b[43mcps_date\u001b[49m\u001b[43m(\u001b[49m\u001b[43m)\u001b[49m\u001b[43m,\u001b[49m\u001b[43m \u001b[49m\u001b[38;5;124;43m'\u001b[39;49m\u001b[38;5;124;43mTOT_POP\u001b[39;49m\u001b[38;5;124;43m'\u001b[39;49m\u001b[43m]\u001b[49m)\n\u001b[1;32m     15\u001b[0m ltdt \u001b[38;5;241m=\u001b[39m dtxt(cps_date())[\u001b[38;5;124m'\u001b[39m\u001b[38;5;124mmon1\u001b[39m\u001b[38;5;124m'\u001b[39m]\n\u001b[1;32m     16\u001b[0m clt \u001b[38;5;241m=\u001b[39m c_line(\u001b[38;5;124m'\u001b[39m\u001b[38;5;124mviolet\u001b[39m\u001b[38;5;124m'\u001b[39m)\n",
      "File \u001b[0;32m~/miniconda3/lib/python3.8/site-packages/pandas/core/indexing.py:1066\u001b[0m, in \u001b[0;36m_LocationIndexer.__getitem__\u001b[0;34m(self, key)\u001b[0m\n\u001b[1;32m   1064\u001b[0m     key \u001b[38;5;241m=\u001b[39m \u001b[38;5;28mtuple\u001b[39m(com\u001b[38;5;241m.\u001b[39mapply_if_callable(x, \u001b[38;5;28mself\u001b[39m\u001b[38;5;241m.\u001b[39mobj) \u001b[38;5;28;01mfor\u001b[39;00m x \u001b[38;5;129;01min\u001b[39;00m key)\n\u001b[1;32m   1065\u001b[0m     \u001b[38;5;28;01mif\u001b[39;00m \u001b[38;5;28mself\u001b[39m\u001b[38;5;241m.\u001b[39m_is_scalar_access(key):\n\u001b[0;32m-> 1066\u001b[0m         \u001b[38;5;28;01mreturn\u001b[39;00m \u001b[38;5;28;43mself\u001b[39;49m\u001b[38;5;241;43m.\u001b[39;49m\u001b[43mobj\u001b[49m\u001b[38;5;241;43m.\u001b[39;49m\u001b[43m_get_value\u001b[49m\u001b[43m(\u001b[49m\u001b[38;5;241;43m*\u001b[39;49m\u001b[43mkey\u001b[49m\u001b[43m,\u001b[49m\u001b[43m \u001b[49m\u001b[43mtakeable\u001b[49m\u001b[38;5;241;43m=\u001b[39;49m\u001b[38;5;28;43mself\u001b[39;49m\u001b[38;5;241;43m.\u001b[39;49m\u001b[43m_takeable\u001b[49m\u001b[43m)\u001b[49m\n\u001b[1;32m   1067\u001b[0m     \u001b[38;5;28;01mreturn\u001b[39;00m \u001b[38;5;28mself\u001b[39m\u001b[38;5;241m.\u001b[39m_getitem_tuple(key)\n\u001b[1;32m   1068\u001b[0m \u001b[38;5;28;01melse\u001b[39;00m:\n\u001b[1;32m   1069\u001b[0m     \u001b[38;5;66;03m# we by definition only have the 0th axis\u001b[39;00m\n",
      "File \u001b[0;32m~/miniconda3/lib/python3.8/site-packages/pandas/core/frame.py:3921\u001b[0m, in \u001b[0;36mDataFrame._get_value\u001b[0;34m(self, index, col, takeable)\u001b[0m\n\u001b[1;32m   3915\u001b[0m engine \u001b[38;5;241m=\u001b[39m \u001b[38;5;28mself\u001b[39m\u001b[38;5;241m.\u001b[39mindex\u001b[38;5;241m.\u001b[39m_engine\n\u001b[1;32m   3917\u001b[0m \u001b[38;5;28;01mif\u001b[39;00m \u001b[38;5;129;01mnot\u001b[39;00m \u001b[38;5;28misinstance\u001b[39m(\u001b[38;5;28mself\u001b[39m\u001b[38;5;241m.\u001b[39mindex, MultiIndex):\n\u001b[1;32m   3918\u001b[0m     \u001b[38;5;66;03m# CategoricalIndex: Trying to use the engine fastpath may give incorrect\u001b[39;00m\n\u001b[1;32m   3919\u001b[0m     \u001b[38;5;66;03m#  results if our categories are integers that dont match our codes\u001b[39;00m\n\u001b[1;32m   3920\u001b[0m     \u001b[38;5;66;03m# IntervalIndex: IntervalTree has no get_loc\u001b[39;00m\n\u001b[0;32m-> 3921\u001b[0m     row \u001b[38;5;241m=\u001b[39m \u001b[38;5;28;43mself\u001b[39;49m\u001b[38;5;241;43m.\u001b[39;49m\u001b[43mindex\u001b[49m\u001b[38;5;241;43m.\u001b[39;49m\u001b[43mget_loc\u001b[49m\u001b[43m(\u001b[49m\u001b[43mindex\u001b[49m\u001b[43m)\u001b[49m\n\u001b[1;32m   3922\u001b[0m     \u001b[38;5;28;01mreturn\u001b[39;00m series\u001b[38;5;241m.\u001b[39m_values[row]\n\u001b[1;32m   3924\u001b[0m \u001b[38;5;66;03m# For MultiIndex going through engine effectively restricts us to\u001b[39;00m\n\u001b[1;32m   3925\u001b[0m \u001b[38;5;66;03m#  same-length tuples; see test_get_set_value_no_partial_indexing\u001b[39;00m\n",
      "File \u001b[0;32m~/miniconda3/lib/python3.8/site-packages/pandas/core/indexes/datetimes.py:738\u001b[0m, in \u001b[0;36mDatetimeIndex.get_loc\u001b[0;34m(self, key, method, tolerance)\u001b[0m\n\u001b[1;32m    736\u001b[0m     \u001b[38;5;28;01mreturn\u001b[39;00m Index\u001b[38;5;241m.\u001b[39mget_loc(\u001b[38;5;28mself\u001b[39m, key, method, tolerance)\n\u001b[1;32m    737\u001b[0m \u001b[38;5;28;01mexcept\u001b[39;00m \u001b[38;5;167;01mKeyError\u001b[39;00m \u001b[38;5;28;01mas\u001b[39;00m err:\n\u001b[0;32m--> 738\u001b[0m     \u001b[38;5;28;01mraise\u001b[39;00m \u001b[38;5;167;01mKeyError\u001b[39;00m(orig_key) \u001b[38;5;28;01mfrom\u001b[39;00m \u001b[38;5;21;01merr\u001b[39;00m\n",
      "\u001b[0;31mKeyError\u001b[0m: Timestamp('2023-03-01 00:00:00')"
     ]
    }
   ],
   "source": [
    "# Cleaned results and text\n",
    "d65 = pd.read_csv(data_dir / 'pop_u65_raw.csv', index_col='date', \n",
    "                 parse_dates=True)\n",
    "d65 = d65[~d65.index.duplicated(keep='last')] / 1_000_000\n",
    "d65.to_csv(data_dir / 'pop_u65.csv', index_label='date')\n",
    "df = pd.read_csv(data_dir / 'pop_est_raw.csv', index_col='date', \n",
    "                 parse_dates=True).rename({'0':'TOT_POP'}, axis=1)\n",
    "df = df[~df.index.duplicated(keep='last')] / 1_000_000\n",
    "df.to_csv(data_dir / 'pop_est.csv', index_label='date')\n",
    "pr = pd.read_csv(data_dir / 'pop_est_proj.csv', index_col='date', \n",
    "                 parse_dates=True)\n",
    "p65 = pd.read_csv(data_dir / 'pop_u65_proj.csv', index_col='date', \n",
    "                 parse_dates=True)\n",
    "pop = int(df.loc[cps_date(), 'TOT_POP'])\n",
    "ltdt = dtxt(cps_date())['mon1']\n",
    "clt = c_line('violet')\n",
    "cl65 = c_line('green!70!blue')\n",
    "clp = ('(see \\\\begin{tikzpicture} \\draw[magenta!80!white] (0pt,5pt) -- '+\n",
    "         '(10pt,5pt); \\\\fill[magenta!80!white] (1ex,1ex) circle (0.5ex);'+\n",
    "         '\\end{tikzpicture})')\n",
    "cl65p = ('(see \\\\begin{tikzpicture}[baseline=-2.5pt] \\draw[cyan!80!white] '+\n",
    "         '(-5pt,0pt) -- (5pt,0pt); \\color{cyan!80!white}{\\pgfuseplotmark'+\n",
    "         '{triangle}};\\end{tikzpicture})')\n",
    "pyear = '2017'\n",
    "proj = pr.loc['2025-07-01', 'PROJ_POP']\n",
    "u65 = d65.TOT_POP.iloc[-1]\n",
    "u65dt = dtxt(d65.index[-1])['year']\n",
    "u65pr = p65.loc['2025-07-01', 'PROJ_POP']\n",
    "rel_dt = open(text_dir / 'pop_est_reldt.txt', 'r').read()\n",
    "text = (f'The US resident population is {pop:.1f} million in {ltdt}, '+\n",
    "        'from the latest population estimates, released on '+\n",
    "        f'{rel_dt} {clt}. The {pyear}-based projections '+\n",
    "        'of the future US resident population show a 2025 '+\n",
    "        f'population of {proj:.1f} million people '+\n",
    "        f'{clp}. The resident population under age 65 was '+\n",
    "        f'estimated to be {u65:.1f} million in {u65dt} '+\n",
    "        f'{cl65} and is projected to be {u65pr:.1f} million '+\n",
    "        f'in 2025 {cl65p}.')\n",
    "write_txt(text_dir / 'pop_est.txt', text)\n",
    "print(text)\n",
    "dt = dtxt(cps_date())['datetime']\n",
    "proj_bar = (f'\\draw [dashed] (axis cs:{{{dt}}},'+\n",
    "            '\\pgfkeysvalueof{/pgfplots/ymin}) -- '+\n",
    "            f'(axis cs:{{{dt}}}, \\pgfkeysvalueof'+\n",
    "            f'{{/pgfplots/ymax}}); \\n \\\\absnode{{{{{dt}}}}}'+\n",
    "            '{228}{\\scriptsize \\color{black!50}{Projected}}')\n",
    "write_txt(text_dir / 'pop_est_projbar.txt', proj_bar)\n",
    "\n",
    "pjdt = '2025-07-01'\n",
    "pjdt2 = pd.to_datetime(pjdt)\n",
    "ltdt = cps_date()\n",
    "lt65 = d65.index[-1]\n",
    "pr65 = d65.index[-2]\n",
    "dates = ['2010-07-01', '2000-07-01', '1990-07-01']\n",
    "\n",
    "tbl = pd.DataFrame({'Tot': (df.loc[[lt65, pr65], 'TOT_POP']\n",
    "                            .append(df.TOT_POP.loc[dates])),\n",
    "                    'U65': (d65.loc[[lt65, pr65], 'TOT_POP']\n",
    "                            .append(d65.TOT_POP.loc[dates]))})\n",
    "tbl.loc[ltdt, 'Tot'] = df.loc[ltdt, 'TOT_POP']\n",
    "tbl = tbl.sort_index(ascending=False)\n",
    "tbl.loc[pjdt2, 'U65'] = p65.loc[pjdt, 'PROJ_POP']\n",
    "tbl.loc[pjdt2, 'Tot'] = pr.loc[pjdt, 'PROJ_POP']\n",
    "tbl['O65'] = tbl['Tot'] - tbl['U65']\n",
    "rn = {'Tot': 'Total Resident Population',\n",
    "      'U65': '\\\\hspace{2mm} Under Age 65',\n",
    "      'O65': '\\\\hspace{2mm} Over Age 65'}\n",
    "tbl = tbl.T.rename(rn)\n",
    "tbl.columns = ([dtxt(tbl.columns[0])['mon2']] + \n",
    "               [dtxt(i)['year'] for i in tbl.columns[1:]])\n",
    "tbl = tbl.applymap('{:,.1f}'.format).replace('nan', '--')\n",
    "tbl.to_csv(data_dir/'pop_table.tex', sep='&', \n",
    "           lineterminator='\\\\\\ ', quotechar=' ')"
   ]
  },
  {
   "cell_type": "code",
   "execution_count": null,
   "id": "ab739784",
   "metadata": {},
   "outputs": [],
   "source": []
  },
  {
   "cell_type": "code",
   "execution_count": null,
   "id": "696e3375",
   "metadata": {},
   "outputs": [],
   "source": []
  },
  {
   "cell_type": "markdown",
   "id": "c20df891",
   "metadata": {},
   "source": [
    "### Related Measures"
   ]
  },
  {
   "cell_type": "code",
   "execution_count": null,
   "id": "52e81db0",
   "metadata": {
    "ExecuteTime": {
     "end_time": "2023-04-14T20:17:05.187298Z",
     "start_time": "2023-04-14T20:17:05.187286Z"
    }
   },
   "outputs": [],
   "source": [
    "url = ('https://api.census.gov/data/2021/pep/natmonthly?'+\n",
    "       'get=NAME,POP,UNIVERSE,MONTHLY,LASTUPDATE&'+\n",
    "       f'for=us:1&key={census_key}')\n",
    "r = requests.get(url).json()\n",
    "df = (pd.DataFrame(r[1:], columns=r[0])\n",
    "        .pivot(index='MONTHLY', columns= 'UNIVERSE', \n",
    "               values='POP')).sort_index()\n",
    "df.index = pd.date_range('04-01-2020', '12-01-2022', \n",
    "                         freq='MS')\n",
    "df.to_csv(data_dir / 'pop_universe_raw.csv', \n",
    "          index_label='date')"
   ]
  },
  {
   "cell_type": "code",
   "execution_count": null,
   "id": "98fc4e1c",
   "metadata": {
    "ExecuteTime": {
     "end_time": "2023-04-14T20:17:05.188599Z",
     "start_time": "2023-04-14T20:17:05.188588Z"
    }
   },
   "outputs": [],
   "source": [
    "dt = cps_date()\n",
    "df = pd.read_csv(data_dir / 'pop_universe_raw.csv', \n",
    "                 index_col='date', parse_dates=True)\n",
    "ltdt = dtxt(dt)['mon1']\n",
    "rpop = df.loc[dt, 'R'] / 1_000_000\n",
    "ppop = df.loc[dt, 'P'] / 1_000_000\n",
    "npop = df.loc[dt, 'N'] / 1_000_000\n",
    "text = (f'As of {ltdt}, the \\\\textbf{{resident}} population '+\n",
    "        f'is {rpop:.1f} million, while the more-comprehensive '+\n",
    "        'resident population \\\\textbf{including armed forces overseas} '+\n",
    "        f'is {ppop:.1f} million, and the more-narrow '+\n",
    "        '\\\\textbf{civilian noninstitutionalized} population, '+\n",
    "        f'which is used in labor statistics, is {npop:.1f} '+\n",
    "        'million.')\n",
    "write_txt(text_dir / 'pop_universe.txt', text)\n",
    "print(text, '\\n')\n",
    "hpop = df.loc[dt, 'H'] / 1_000_000\n",
    "hsh = (hpop / rpop) * 100\n",
    "txt1 = (f'As of {ltdt}, the \\\\textbf{{household}} population '+\n",
    "        f'is {hpop:.1f} million, or {hsh:.1f} percent of the '+\n",
    "        'total resident population. ')\n",
    "print(txt1)"
   ]
  },
  {
   "cell_type": "code",
   "execution_count": null,
   "id": "9e86f796",
   "metadata": {
    "ExecuteTime": {
     "end_time": "2023-04-14T20:17:05.189563Z",
     "start_time": "2023-04-14T20:17:05.189551Z"
    }
   },
   "outputs": [],
   "source": [
    "# From 2020: DEC Redistricting Data (PL 94-171)\n",
    "d = {'Total': 8239016, 'Institutionalized population': 3753401,\n",
    "     'Correctional facilities for adults': 1967297,\n",
    "     'Juvenile facilities': 88115,\n",
    "     'Nursing facilities/Skilled-nursing facilities': 1627046,\n",
    "     'Other institutional facilities': 70943,\n",
    "     'Noninstitutionalized population': 4485615,\n",
    "     'College/University student housing': 2792097,\n",
    "     'Military quarters': 328372,\n",
    "     'Other noninstitutional facilities': 1365146}"
   ]
  },
  {
   "cell_type": "code",
   "execution_count": null,
   "id": "1886d1eb",
   "metadata": {
    "ExecuteTime": {
     "end_time": "2023-04-14T20:17:05.190397Z",
     "start_time": "2023-04-14T20:17:05.190386Z"
    }
   },
   "outputs": [],
   "source": [
    "s = pd.Series(d)\n",
    "ts = s[s < 1_000_000].round(-3).apply('{:,.0f}'.format)\n",
    "def number_rep(value):\n",
    "    '''Replace some numbers with text'''\n",
    "    res = str(round(value, 1))\n",
    "    if (value < 10) & (round(value, 1) % 1 == 0.0):\n",
    "        res = numbers[res]\n",
    "    return res\n",
    "ms = (s[s >= 1_000_000].divide(1_000_000)\n",
    "      .apply(lambda x: f'{number_rep(x)} million'))\n",
    "sf = pd.concat([ts, ms])\n",
    "ipop = sf['Institutionalized population']\n",
    "corpop = sf['Correctional facilities for adults']\n",
    "ncpop = sf['Nursing facilities/Skilled-nursing facilities']\n",
    "stpop = sf['College/University student housing']\n",
    "bpop = sf['Military quarters']\n",
    "opop = sf['Other noninstitutional facilities']\n",
    "url2 = ('https://www.census.gov/library/stories/2021/08/'+\n",
    "        'united-states-group-quarters-in-2020-census.html')\n",
    "\n",
    "txt2 = ('The \\\\textbf{group quarters} population is '+\n",
    "        f'\\href{{{url2}}}{{measured}} in depth as part of '+\n",
    "        'the 2020 Census. The 2020 group quarters population '+\n",
    "        f'is {sf.Total}, of which {ipop} are institutionalized. '+\n",
    "        f'Of these, {corpop} are in prisons and jails, and '+\n",
    "        f'{ncpop} are in nursing and skilled-care facilities. '+\n",
    "        f'An additional {stpop} people live in dormitories or '+\n",
    "        f'student housing, {bpop} live in barracks, and '+\n",
    "        f'{opop} live in other noninstitutional facilities '+\n",
    "        'such as shelters and group homes.')\n",
    "write_txt(text_dir / 'pop_hh.txt', txt1+txt2)\n",
    "print(txt2)"
   ]
  },
  {
   "cell_type": "code",
   "execution_count": null,
   "id": "b371af5e",
   "metadata": {},
   "outputs": [],
   "source": []
  },
  {
   "cell_type": "code",
   "execution_count": null,
   "id": "5377e5e7",
   "metadata": {},
   "outputs": [],
   "source": []
  },
  {
   "cell_type": "markdown",
   "id": "35a9a73a",
   "metadata": {
    "ExecuteTime": {
     "end_time": "2022-03-01T00:23:17.454757Z",
     "start_time": "2022-03-01T00:23:17.452549Z"
    }
   },
   "source": [
    "### Growth Rate in Percent"
   ]
  },
  {
   "cell_type": "code",
   "execution_count": null,
   "id": "3f298b64",
   "metadata": {
    "ExecuteTime": {
     "end_time": "2023-04-14T20:17:05.191279Z",
     "start_time": "2023-04-14T20:17:05.191267Z"
    }
   },
   "outputs": [],
   "source": [
    "url = ('https://api.census.gov/data/2021/pep/population?'+\n",
    "       'get=NAME,PPOPCHG_2021,POP_2021,UNIVERSE&for=us:1&'+\n",
    "       f'key={census_key}')\n",
    "r = requests.get(url).json()\n",
    "pc = pd.Series(r[1], index=r[0])['PPOPCHG_2021']\n",
    "gr = f'{float(pc):.1f} percent'\n",
    "write_txt(text_dir / 'pop_growth_percent.txt', gr)"
   ]
  },
  {
   "cell_type": "code",
   "execution_count": null,
   "id": "899f5b4d",
   "metadata": {},
   "outputs": [],
   "source": []
  },
  {
   "cell_type": "code",
   "execution_count": null,
   "id": "8c44e710",
   "metadata": {},
   "outputs": [],
   "source": []
  },
  {
   "cell_type": "markdown",
   "id": "fb0c241b",
   "metadata": {},
   "source": [
    "### Components of Growth"
   ]
  },
  {
   "cell_type": "code",
   "execution_count": null,
   "id": "1e4e8fd4",
   "metadata": {
    "ExecuteTime": {
     "end_time": "2023-04-14T20:17:05.192043Z",
     "start_time": "2023-04-14T20:17:05.192031Z"
    }
   },
   "outputs": [],
   "source": [
    "#Pre-1991 data from Births and Deaths and population \n",
    "# https://www.census.gov/library/publications/2006/\n",
    "# compendia/statab/126ed/vital-statistics.html\n",
    "# and \n",
    "# https://www2.census.gov/programs-surveys/popest/\n",
    "# tables/1900-1980/national/totals/popclockest.txt\n",
    "years = [1988, 1989, 1990, 1991]\n",
    "births88 = [3809000, 3910000, 4041000, 4158000]\n",
    "deaths88 = [2123000, 2168000, 2150000, 2148000]\n",
    "total88 = [2210064, 2320248, 2645166, 2688696]\n",
    "df88 = pd.DataFrame()\n",
    "df88['BIRTHS'] = pd.Series(data=births88, index=years)\n",
    "df88['DEATHS'] = pd.Series(data=deaths88, index=years)\n",
    "df88['TOTAL'] = pd.Series(data=total88, index=years)\n",
    "df88['NATURALINC'] = df88['BIRTHS'] - df88['DEATHS']\n",
    "df88['NETMIG'] = df88['TOTAL'] - df88['NATURALINC']\n",
    "\n",
    "# Copied these manually from here: https://www2.census.gov/programs-surveys/\n",
    "# popest/tables/1990-2000/estimates-and-change-1990-2000/2000c8_00.txt\n",
    "years = [2000, 1999, 1998, 1997, 1996, 1995, 1994, 1993, 1992, 1991]\n",
    "births90 = ['3,966,059',  '3,949,171',  '3,909,345',  '3,892,431',  \n",
    "            '3,881,967',  '3,926,652',  '3,971,136',  '4,027,125',  \n",
    "            '4,105,689',  '4,133,265']\n",
    "deaths90 = ['2,386,995',  '2,359,088',  '2,330,759',  '2,321,933',  \n",
    "            '2,317,918',  '2,284,363',  '2,282,854',  '2,226,027',  \n",
    "            '2,180,115',  '2,138,906']\n",
    "netmig90 = ['878,119', '862,845', '884,272', '930,821', '862,794', \n",
    "            '783,884', '763,264', '826,566', '792,335', '698,732']\n",
    "df90 = pd.DataFrame()\n",
    "df90['BIRTHS'] = (pd.Series(data=births90, index=years)\n",
    "                    .str.replace(',', '').astype('int'))\n",
    "df90['DEATHS'] = (pd.Series(data=deaths90, index=years)\n",
    "                    .str.replace(',', '').astype('int'))\n",
    "df90['NETMIG'] = (pd.Series(data=netmig90, index=years)\n",
    "                    .str.replace(',', '').astype('int'))\n",
    "df90['NATURALINC'] = df90['BIRTHS'] - df90['DEATHS']"
   ]
  },
  {
   "cell_type": "code",
   "execution_count": null,
   "id": "2e3db636",
   "metadata": {
    "ExecuteTime": {
     "end_time": "2023-04-14T20:17:05.193164Z",
     "start_time": "2023-04-14T20:17:05.193152Z"
    }
   },
   "outputs": [],
   "source": [
    "# 2001 to 2010 data csv\n",
    "url = ('https://www2.census.gov/programs-surveys/popest/datasets/'+\n",
    "       '2010/2010-eval-estimates/co-est2010-alldata.csv')\n",
    "df00 = pd.read_csv(url, encoding='iso-8859-1')\n",
    "\n",
    "# 2011 to 2020 data csv\n",
    "url = ('https://www2.census.gov/programs-surveys/popest/'+\n",
    "       'datasets/2010-2020/state/totals/nst-est2020-alldata.csv')\n",
    "df10 = pd.read_csv(url)\n",
    "\n",
    "# 2021 file\n",
    "file = ('https://www2.census.gov/programs-surveys/popest/tables/'+\n",
    "        '2020-2021/state/totals/NST-EST2021-COMP.xlsx')\n",
    "df = pd.read_excel(file, index_col=0, usecols='A:F', header=[3])\n",
    "cols = ['Total', 'NATURALINC', 'BIRTHS', 'DEATHS', 'NETMIG']\n",
    "df.columns = cols\n",
    "df21 = df.loc['United States', cols[1:]]\n",
    "\n",
    "cats = ['BIRTHS', 'DEATHS', 'NATURALINC', 'NETMIG']\n",
    "res = pd.DataFrame()\n",
    "for cat, year in itertools.product(cats, range(2001, 2011)):\n",
    "    data = df00.query('COUNTY == 0').sum().loc[f'{cat}{year}']\n",
    "    res.at[year, cat] = data\n",
    "for cat, year in itertools.product(cats, range(2011, 2021)):\n",
    "    data = df10.query('NAME == \"United States\"').loc[0, f'{cat}{year}']\n",
    "    res.at[year, cat] = data\n",
    "res = pd.concat([df88, df90, res, df21.rename(2021).to_frame().T]).sort_index()\n",
    "res.index = pd.to_datetime([f'{y}-07-01' for y in res.index])\n",
    "res['TOTAL'] = res['NATURALINC'] + res['NETMIG']\n",
    "res = res.sort_index()\n",
    "res.to_csv(data_dir / 'popcomp_raw.csv', index_label='date')"
   ]
  },
  {
   "cell_type": "code",
   "execution_count": null,
   "id": "eef84ddb",
   "metadata": {
    "ExecuteTime": {
     "end_time": "2023-04-14T20:17:05.193999Z",
     "start_time": "2023-04-14T20:17:05.193988Z"
    }
   },
   "outputs": [],
   "source": [
    "res = pd.read_csv(data_dir / 'popcomp_raw.csv', index_col='date', \n",
    "                  parse_dates=True)\n",
    "(res / 1_000_000).to_csv(data_dir / 'popcomp.csv', index_label='date')\n",
    "ltdt = dtxt(res.index[-1])['mon1']\n",
    "ltval = f'{round(res.TOTAL.iloc[-1],-2):,.0f}'\n",
    "ltb = f'{res.BIRTHS.iloc[-1] / 1_000_000:,.2f}'\n",
    "ltd = f'{res.DEATHS.iloc[-1] / 1_000_000:,.2f}'\n",
    "ltni = f'{round(res.NATURALINC.iloc[-1],-2):,.0f}'\n",
    "ltnm = f'{round(res.NETMIG.iloc[-1],-2):,.0f}'\n",
    "nii = 'increase' if res.NATURALINC.iloc[-1] > 0 else 'decrease'\n",
    "nmi = 'increased' if res.NETMIG.iloc[-1] > 0 else 'decreased'\n",
    "b89 = f'{res.loc[\"1989-07-01\", \"BIRTHS\"] / 1_000_000:,.2f}'\n",
    "d89 = f'{res.loc[\"1989-07-01\", \"DEATHS\"] / 1_000_000:,.2f}'\n",
    "nm89 = f'{round(res.loc[\"1989-07-01\", \"NETMIG\"], -2):,.0f}'\n",
    "cld = c_line('orange!80!red')\n",
    "clb = c_line('green!90!black')\n",
    "cbnm = c_box('blue!75!black')\n",
    "sq = ('(see \\\\begin{tikzpicture}\\draw [pattern=crosshatch, pattern '+\n",
    "      'color=cyan!80!blue, draw=cyan!80!blue](0,0) rectangle '+\n",
    "      '(.2,.2); \\end{tikzpicture})')\n",
    "# Population growth estimate retrieved from Census API\n",
    "gr = Path(text_dir / 'pop_growth_percent.txt').read_text()\n",
    "text = ('Population growth comes from two sources, natural '+\n",
    "        'increases (births minus deaths) and net migration. '+\n",
    "        'In the latest estimate, the US added '+\n",
    "        f'{ltval} people over the year ending {ltdt}, a '+\n",
    "        f'population growth rate of {gr}. There were a '+\n",
    "        f'total of {ltb} million births {clb}, and {ltd} '+\n",
    "        f'million deaths {cld}, resulting in a natural '+\n",
    "        f'{nii} of {ltni} people {sq}. In the same period, '+\n",
    "        f'net migration from abroad {nmi} the resident '+\n",
    "        f'population by {ltnm} people {cbnm}. For comparison, '+\n",
    "        f'in 1989, there were {b89} million births, {d89} '+\n",
    "        f'million deaths, and {nm89} net migrants to the US. ')\n",
    "write_txt(text_dir / 'pop_comp.txt', text)\n",
    "print(text)"
   ]
  },
  {
   "cell_type": "code",
   "execution_count": null,
   "id": "70c36b81",
   "metadata": {},
   "outputs": [],
   "source": []
  },
  {
   "cell_type": "code",
   "execution_count": null,
   "id": "905cde92",
   "metadata": {},
   "outputs": [],
   "source": []
  }
 ],
 "metadata": {
  "kernelspec": {
   "display_name": "Python 3 (ipykernel)",
   "language": "python",
   "name": "python3"
  },
  "language_info": {
   "codemirror_mode": {
    "name": "ipython",
    "version": 3
   },
   "file_extension": ".py",
   "mimetype": "text/x-python",
   "name": "python",
   "nbconvert_exporter": "python",
   "pygments_lexer": "ipython3",
   "version": "3.8.13"
  }
 },
 "nbformat": 4,
 "nbformat_minor": 5
}
