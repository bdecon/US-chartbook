{
 "cells": [
  {
   "cell_type": "code",
   "execution_count": 3,
   "metadata": {
    "ExecuteTime": {
     "end_time": "2020-10-16T04:14:21.342007Z",
     "start_time": "2020-10-16T04:14:21.331284Z"
    }
   },
   "outputs": [],
   "source": [
    "import sys\n",
    "sys.path.append('../src')\n",
    "\n",
    "import uschartbook.config\n",
    "\n",
    "from uschartbook.config import *\n",
    "from uschartbook.utils import *\n",
    "\n",
    "import matplotlib.pyplot as plt\n",
    "from mpl_toolkits.basemap import Basemap\n",
    "from mpl_toolkits.axes_grid1.inset_locator import inset_axes\n",
    "from matplotlib.patches import Polygon\n",
    "from matplotlib.patches import Rectangle\n",
    "from matplotlib.colors import Normalize\n",
    "\n",
    "plt.rc('font', family='Lato')\n",
    "\n",
    "year = 2019"
   ]
  },
  {
   "cell_type": "code",
   "execution_count": 4,
   "metadata": {
    "ExecuteTime": {
     "end_time": "2020-10-16T04:14:32.483128Z",
     "start_time": "2020-10-16T04:14:21.345406Z"
    },
    "code_folding": []
   },
   "outputs": [
    {
     "data": {
      "text/html": [
       "<div>\n",
       "<style scoped>\n",
       "    .dataframe tbody tr th:only-of-type {\n",
       "        vertical-align: middle;\n",
       "    }\n",
       "\n",
       "    .dataframe tbody tr th {\n",
       "        vertical-align: top;\n",
       "    }\n",
       "\n",
       "    .dataframe thead th {\n",
       "        text-align: right;\n",
       "    }\n",
       "</style>\n",
       "<table border=\"1\" class=\"dataframe\">\n",
       "  <thead>\n",
       "    <tr style=\"text-align: right;\">\n",
       "      <th></th>\n",
       "      <th>PWGTP</th>\n",
       "      <th>PUMA</th>\n",
       "      <th>FTFY</th>\n",
       "      <th>EMP</th>\n",
       "      <th>PA</th>\n",
       "    </tr>\n",
       "  </thead>\n",
       "  <tbody>\n",
       "    <tr>\n",
       "      <th>0</th>\n",
       "      <td>11</td>\n",
       "      <td>102200</td>\n",
       "      <td>0</td>\n",
       "      <td>0</td>\n",
       "      <td>1</td>\n",
       "    </tr>\n",
       "    <tr>\n",
       "      <th>1</th>\n",
       "      <td>70</td>\n",
       "      <td>101000</td>\n",
       "      <td>0</td>\n",
       "      <td>0</td>\n",
       "      <td>0</td>\n",
       "    </tr>\n",
       "    <tr>\n",
       "      <th>2</th>\n",
       "      <td>20</td>\n",
       "      <td>101100</td>\n",
       "      <td>0</td>\n",
       "      <td>1</td>\n",
       "      <td>0</td>\n",
       "    </tr>\n",
       "  </tbody>\n",
       "</table>\n",
       "</div>"
      ],
      "text/plain": [
       "   PWGTP    PUMA  FTFY  EMP  PA\n",
       "0     11  102200     0    0   1\n",
       "1     70  101000     0    0   0\n",
       "2     20  101100     0    1   0"
      ]
     },
     "execution_count": 4,
     "metadata": {},
     "output_type": "execute_result"
    }
   ],
   "source": [
    "# Read and pre-process ACS microdata\n",
    "cols = ['ST', 'PUMA', 'PWGTP', 'AGEP', 'WKWN', 'WKHP', 'COW']\n",
    "dtypes = {'ST': str, 'PUMA': str}\n",
    "puma = lambda x: x['ST'] + x['PUMA']\n",
    "ftfy = lambda x: np.where((x.WKWN >= 50) & (x.WKHP > 34), 1, 0)\n",
    "emp = lambda x: np.where(x.COW.isin(range(1,9)), 1, 0)\n",
    "pa = lambda x: np.where(x.AGEP.isin(range(25,55)), 1, 0)\n",
    "\n",
    "files = ['data/psam_pusa_19.csv', 'data/psam_pusb_19.csv']\n",
    "\n",
    "df = pd.concat(\n",
    "    [(pd.read_csv(acs_dir / file, usecols=cols, dtype=dtypes)\n",
    "        .query('PWGTP > 0')\n",
    "        .assign(PUMA = puma, \n",
    "                FTFY = ftfy, \n",
    "                EMP = emp,\n",
    "                PA = pa))\n",
    "        [['PWGTP', 'PUMA', 'FTFY', 'EMP', 'PA']]\n",
    "    for file in files]).astype({'PUMA': int})\n",
    "\n",
    "df.head(3)"
   ]
  },
  {
   "cell_type": "code",
   "execution_count": 5,
   "metadata": {
    "ExecuteTime": {
     "end_time": "2020-10-16T04:14:32.744815Z",
     "start_time": "2020-10-16T04:14:32.484273Z"
    }
   },
   "outputs": [],
   "source": [
    "# Match PUMAs to commuter zones (file from Dorn)\n",
    "cz_match = pd.read_stata(acs_dir / 'data/cw_puma2010_czone.dta')\n",
    "cz_dict = {cz: [(puma, afactor) \n",
    "                for puma, z, afactor \n",
    "                in cz_match[cz_match['czone'] == cz].values] \n",
    "           for cz in cz_match['czone'].unique()}"
   ]
  },
  {
   "cell_type": "code",
   "execution_count": 6,
   "metadata": {
    "ExecuteTime": {
     "end_time": "2020-10-16T04:15:05.628685Z",
     "start_time": "2020-10-16T04:14:32.745984Z"
    }
   },
   "outputs": [],
   "source": [
    "d = {}\n",
    "for cz, puma_list in cz_dict.items():\n",
    "    pop = 0\n",
    "    emp_pop = 0\n",
    "    ftfy_pop = 0   \n",
    "    pa_pop = 0\n",
    "    pa_emp_pop = 0\n",
    "    pa_ftfy_pop = 0\n",
    "    for puma, afactor in puma_list:  \n",
    "        data = (df[df['PUMA'] == puma]\n",
    "                  .assign(WGT = lambda x: x.PWGTP * afactor))\n",
    "        pop += data.WGT.sum()\n",
    "        ftfy_pop += data.loc[data.FTFY == 1, 'WGT'].sum()\n",
    "        emp_pop += data.loc[data.EMP == 1, 'WGT'].sum()\n",
    "        pa_pop += data.loc[data.PA == 1, 'WGT'].sum()\n",
    "        pa_emp_pop += data.loc[(data.PA == 1) & (data.EMP == 1), 'WGT'].sum()\n",
    "        pa_ftfy_pop += data.loc[(data.PA == 1) & (data.FTFY == 1), 'WGT'].sum()\n",
    "        \n",
    "    fpop = ftfy_pop / pop\n",
    "    epop = emp_pop / pop\n",
    "    pa_epop = pa_emp_pop / pa_pop\n",
    "    pa_ftfy = pa_ftfy_pop / pa_pop\n",
    "    d[cz] = [fpop, epop, pop, pa_pop, pa_epop, pa_ftfy]\n",
    "    \n",
    "result = pd.DataFrame(d)\n",
    "result.index = ['ftfy_share', 'emp_share', 'weight', 'pa_weight', 'pa_emp_share', 'pa_ftfy_share']\n",
    "result = result.T\n",
    "\n",
    "maxval = result.ftfy_share.max()\n",
    "minval = result.ftfy_share.min()"
   ]
  },
  {
   "cell_type": "code",
   "execution_count": 7,
   "metadata": {
    "ExecuteTime": {
     "end_time": "2020-10-16T04:15:05.929645Z",
     "start_time": "2020-10-16T04:15:05.629782Z"
    }
   },
   "outputs": [],
   "source": [
    "# Map and legend settings\n",
    "m = Basemap(llcrnrlon=-121, llcrnrlat=20, urcrnrlon=-64, urcrnrlat=49,\n",
    "            projection='lcc', lat_1=33, lat_2=45, lon_0=-95)\n",
    "\n",
    "cmap = plt.cm.winter_r\n",
    "norm = Normalize(vmin=minval, vmax=maxval)\n",
    "\n",
    "hi_cz = [35600, 34701, 34703, 34702, 34703]\n",
    "ak_cz = [34101, 34114, 34102, 34112, 34104, 34107, 34115, \n",
    "         34109, 34109, 34102, 34111, 34108, 34107, 34102, \n",
    "         34106, 34113, 34105, 34111, 34110, 34109, 34115, \n",
    "         34103, 34112, 34110, 34115]\n",
    "\n",
    "pts = np.arange(1, 101, 1)\n",
    "pct = (np.percentile(\n",
    "    np.repeat(result.ftfy_share.values, \n",
    "              result.weight.div(1000).astype(int).values), pts))\n",
    "\n",
    "max_val = f'{maxval * 100:.1f}%'\n",
    "min_val = f'{minval * 100:.1f}%'"
   ]
  },
  {
   "cell_type": "code",
   "execution_count": 8,
   "metadata": {
    "ExecuteTime": {
     "end_time": "2020-10-16T04:15:08.515189Z",
     "start_time": "2020-10-16T04:15:05.930605Z"
    }
   },
   "outputs": [
    {
     "data": {
      "image/png": "[encoded data removed]",
      "text/plain": [
       "<Figure size 417.6x208.8 with 2 Axes>"
      ]
     },
     "metadata": {
      "needs_background": "light"
     },
     "output_type": "display_data"
    }
   ],
   "source": [
    "# Draw map\n",
    "fig = plt.figure(figsize=(5.8,2.9))\n",
    "\n",
    "m.drawmapboundary(color='white')\n",
    "m.readshapefile('/home/brian/Documents/ACS/shapefiles/cz1990', 'cz', drawbounds=False)\n",
    "\n",
    "ax = plt.gca()\n",
    "\n",
    "for info, shape in zip(m.cz_info, m.cz):\n",
    "    fc = cmap(norm(d[info['cz']][0]))\n",
    "    if info['cz'] in hi_cz:\n",
    "        shape = [[x + 5200000, y - 1400000] for x, y in shape]\n",
    "    elif info['cz'] in ak_cz:\n",
    "        shape = [(x * 0.34 + 1200000, \n",
    "                  y * 0.34 - 1300000) for x, y in shape]\n",
    "    ax.add_patch(Polygon(shape, fc=fc))\n",
    "    \n",
    "m.readshapefile('shapefiles/states', 'states', drawbounds=True, \n",
    "                    color='white', linewidth=0.05) \n",
    "\n",
    "ax.axis('off')    \n",
    "\n",
    "ax_inset = inset_axes(ax, width='-10%', height='40%', loc=4, borderpad=2.8) \n",
    "for i, pt in enumerate(pct):\n",
    "    rect = Rectangle(xy=(pt, i / 100), width=-pt, height=0.1, \n",
    "                     fc=cmap(norm(pt)), ec=None)\n",
    "    ax_inset.add_patch(rect)    \n",
    "\n",
    "ax_inset.text(0.58, 1.06, max_val, fontsize=7)\n",
    "ax_inset.text(0.58, -0.14, min_val, fontsize=7)\n",
    "ax_inset.axis('off')\n",
    "plt.savefig(data_dir / 'acs_emp_map.pgf', bbox_inches='tight', transparent=True);"
   ]
  },
  {
   "cell_type": "code",
   "execution_count": 9,
   "metadata": {
    "ExecuteTime": {
     "end_time": "2020-10-16T04:15:08.600900Z",
     "start_time": "2020-10-16T04:15:08.516272Z"
    }
   },
   "outputs": [],
   "source": [
    "cz_names = (pd.read_excel(acs_dir / 'czlma903.xls', sheet_name='CZLMA903')\n",
    "              .set_index('CZ90')\n",
    "              .iloc[:, -1]\n",
    "              .str.replace(' city', '')\n",
    "              .str.replace(' town', '')\n",
    "              .str.replace(' CDP', '')\n",
    "              .str.replace(' \\(remaind', '')\n",
    "              .str.replace(' \\(remain', '')\n",
    "              .str.replace('Arlington, VA', 'Washington, DC')\n",
    "              .to_dict())"
   ]
  },
  {
   "cell_type": "code",
   "execution_count": 10,
   "metadata": {
    "ExecuteTime": {
     "end_time": "2020-10-16T04:15:08.606039Z",
     "start_time": "2020-10-16T04:15:08.602050Z"
    }
   },
   "outputs": [],
   "source": [
    "size_cutoff = 100000\n",
    "\n",
    "final = result.loc[result['weight'] > size_cutoff, 'ftfy_share'].sort_values()\n",
    "\n",
    "final.index = final.index.map(cz_names)"
   ]
  },
  {
   "cell_type": "code",
   "execution_count": null,
   "metadata": {},
   "outputs": [],
   "source": []
  },
  {
   "cell_type": "code",
   "execution_count": 19,
   "metadata": {
    "ExecuteTime": {
     "end_time": "2020-10-16T04:25:28.614892Z",
     "start_time": "2020-10-16T04:25:28.600945Z"
    }
   },
   "outputs": [],
   "source": [
    "file = 'acs_ftfy.txt'\n",
    "f = text_dir / file\n",
    "if file in os.listdir(text_dir):\n",
    "    os.remove(f)\n",
    "\n",
    "with open(f, 'a') as table:\n",
    "    table.write('\\scriptsize{Top 10:} \\\\\\*' + '\\n')\n",
    "    for i in [-1, -2, -3, -4, -5, -6, -7, -8, -9, -10, 0, 1, 2, 3, 4, 5, 6, 7, 8, 9]:\n",
    "        r = f'\\\\textbf{{{final[i]*100:.1f}\\%}} \\hspace{{1mm}} {final.index[i]} \\\\\\*'\n",
    "        table.write(r + '\\n')\n",
    "        if i == -10:\n",
    "            table.write('' + '\\n')\n",
    "            table.write('\\scriptsize{Bottom 10:} \\\\\\*' + '\\n')"
   ]
  },
  {
   "cell_type": "code",
   "execution_count": 13,
   "metadata": {
    "ExecuteTime": {
     "end_time": "2020-10-16T04:16:34.518640Z",
     "start_time": "2020-10-16T04:16:34.500842Z"
    }
   },
   "outputs": [],
   "source": [
    "tot = len(result)\n",
    "thirdsh = (len(result.loc[result.ftfy_share > 0.333]) / tot) * 100\n",
    "\n",
    "qtrtot = len(result.loc[result.ftfy_share <= 0.25])\n",
    "qtrsh = (len(result.loc[result.ftfy_share <= 0.25]) / tot) * 100\n",
    "qtrpop = result.loc[result.ftfy_share <= 0.25, 'weight'].sum() / 1_000_000\n",
    "\n",
    "text = (f'In {year}, fewer than half ({thirdsh:.1f} percent) of commuter zones have at least '+\n",
    "        'a third of their population working full-time and full-year. A total '+\n",
    "        f'of {qtrtot} commuter zones (out of {tot}), covering {qtrpop:.1f} million '+\n",
    "        'people, have a quarter of the population or less fully employed. ')\n",
    "\n",
    "write_txt(text_dir / 'acs_ftfy_year.txt', str(year))\n",
    "write_txt(text_dir / 'acs_ftfy_text.txt', text)"
   ]
  },
  {
   "cell_type": "code",
   "execution_count": null,
   "metadata": {},
   "outputs": [],
   "source": []
  },
  {
   "cell_type": "code",
   "execution_count": 14,
   "metadata": {
    "ExecuteTime": {
     "end_time": "2020-10-16T04:16:35.652250Z",
     "start_time": "2020-10-16T04:16:35.625318Z"
    }
   },
   "outputs": [],
   "source": [
    "size_cutoff = 4_500_000\n",
    "\n",
    "final2 = result.loc[result['weight'] > size_cutoff].sort_values('weight', ascending=False)\n",
    "\n",
    "final2.index = final2.index.map(cz_names)\n",
    "\n",
    "file = '/home/brian/Documents/uschartbook/chartbook/data/acs_emp_tables.tex'\n",
    "\n",
    "((final2[['ftfy_share', 'emp_share', 'pa_ftfy_share', 'pa_emp_share']].round(3) * 100.0)\n",
    " .to_csv(file, sep='&', line_terminator='\\\\\\ ', quotechar=' ', header=False, float_format='%.1f'))"
   ]
  }
 ],
 "metadata": {
  "kernelspec": {
   "display_name": "Python 3",
   "language": "python",
   "name": "python3"
  },
  "language_info": {
   "codemirror_mode": {
    "name": "ipython",
    "version": 3
   },
   "file_extension": ".py",
   "mimetype": "text/x-python",
   "name": "python",
   "nbconvert_exporter": "python",
   "pygments_lexer": "ipython3",
   "version": "3.8.8"
  }
 },
 "nbformat": 4,
 "nbformat_minor": 2
}
