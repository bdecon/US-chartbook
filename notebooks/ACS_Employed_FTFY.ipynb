{
 "cells": [
  {
   "cell_type": "code",
   "execution_count": 1,
   "metadata": {
    "ExecuteTime": {
     "end_time": "2019-12-15T16:45:38.961981Z",
     "start_time": "2019-12-15T16:45:38.057143Z"
    }
   },
   "outputs": [],
   "source": [
    "import sys\n",
    "sys.path.append('../src')\n",
    "\n",
    "import requests\n",
    "\n",
    "import uschartbook.config\n",
    "\n",
    "from uschartbook.config import *\n",
    "from uschartbook.utils import *\n",
    "\n",
    "import matplotlib.pyplot as plt\n",
    "from mpl_toolkits.basemap import Basemap\n",
    "from mpl_toolkits.axes_grid1.inset_locator import inset_axes\n",
    "from matplotlib.patches import Polygon\n",
    "from matplotlib.patches import Rectangle\n",
    "from matplotlib.colors import Normalize\n",
    "\n",
    "plt.rc('font', family='Lato')\n",
    "\n",
    "year = 2018"
   ]
  },
  {
   "cell_type": "code",
   "execution_count": 2,
   "metadata": {
    "ExecuteTime": {
     "end_time": "2019-12-15T16:45:50.024382Z",
     "start_time": "2019-12-15T16:45:38.963287Z"
    },
    "code_folding": []
   },
   "outputs": [
    {
     "data": {
      "text/html": [
       "<div>\n",
       "<style scoped>\n",
       "    .dataframe tbody tr th:only-of-type {\n",
       "        vertical-align: middle;\n",
       "    }\n",
       "\n",
       "    .dataframe tbody tr th {\n",
       "        vertical-align: top;\n",
       "    }\n",
       "\n",
       "    .dataframe thead th {\n",
       "        text-align: right;\n",
       "    }\n",
       "</style>\n",
       "<table border=\"1\" class=\"dataframe\">\n",
       "  <thead>\n",
       "    <tr style=\"text-align: right;\">\n",
       "      <th></th>\n",
       "      <th>PWGTP</th>\n",
       "      <th>PUMA</th>\n",
       "      <th>FTFY</th>\n",
       "      <th>EMP</th>\n",
       "      <th>PA</th>\n",
       "    </tr>\n",
       "  </thead>\n",
       "  <tbody>\n",
       "    <tr>\n",
       "      <th>0</th>\n",
       "      <td>75</td>\n",
       "      <td>101600</td>\n",
       "      <td>0</td>\n",
       "      <td>1</td>\n",
       "      <td>0</td>\n",
       "    </tr>\n",
       "    <tr>\n",
       "      <th>1</th>\n",
       "      <td>75</td>\n",
       "      <td>101900</td>\n",
       "      <td>0</td>\n",
       "      <td>1</td>\n",
       "      <td>0</td>\n",
       "    </tr>\n",
       "    <tr>\n",
       "      <th>2</th>\n",
       "      <td>118</td>\n",
       "      <td>102000</td>\n",
       "      <td>1</td>\n",
       "      <td>1</td>\n",
       "      <td>1</td>\n",
       "    </tr>\n",
       "  </tbody>\n",
       "</table>\n",
       "</div>"
      ],
      "text/plain": [
       "   PWGTP    PUMA  FTFY  EMP  PA\n",
       "0     75  101600     0    1   0\n",
       "1     75  101900     0    1   0\n",
       "2    118  102000     1    1   1"
      ]
     },
     "execution_count": 2,
     "metadata": {},
     "output_type": "execute_result"
    }
   ],
   "source": [
    "# Read and pre-process ACS microdata\n",
    "cols = ['ST', 'PUMA', 'PWGTP', 'AGEP', 'WKW', 'WKHP', 'COW']\n",
    "dtypes = {'ST': str, 'PUMA': str}\n",
    "puma = lambda x: x['ST'] + x['PUMA']\n",
    "ftfy = lambda x: np.where((x.WKW == 1) & (x.WKHP > 34), 1, 0)\n",
    "emp = lambda x: np.where(x.COW.isin(range(1,9)), 1, 0)\n",
    "pa = lambda x: np.where(x.AGEP.isin(range(25,55)), 1, 0)\n",
    "\n",
    "files = ['data/psam_pusa_18.csv', 'data/psam_pusb_18.csv']\n",
    "\n",
    "df = pd.concat(\n",
    "    [(pd.read_csv(acs_dir / file, usecols=cols, dtype=dtypes)\n",
    "        .query('PWGTP > 0')\n",
    "        .assign(PUMA = puma, \n",
    "                FTFY = ftfy, \n",
    "                EMP = emp,\n",
    "                PA = pa))\n",
    "        [['PWGTP', 'PUMA', 'FTFY', 'EMP', 'PA']]\n",
    "    for file in files]).astype({'PUMA': int})\n",
    "\n",
    "df.head(3)"
   ]
  },
  {
   "cell_type": "code",
   "execution_count": 3,
   "metadata": {
    "ExecuteTime": {
     "end_time": "2019-12-15T16:45:50.383210Z",
     "start_time": "2019-12-15T16:45:50.025648Z"
    }
   },
   "outputs": [],
   "source": [
    "# Match PUMAs to commuter zones (file from Dorn)\n",
    "cz_match = pd.read_stata(acs_dir / 'data/cw_puma2010_czone.dta')\n",
    "cz_dict = {cz: [(puma, afactor) \n",
    "                for puma, z, afactor \n",
    "                in cz_match[cz_match['czone'] == cz].values] \n",
    "           for cz in cz_match['czone'].unique()}"
   ]
  },
  {
   "cell_type": "code",
   "execution_count": 4,
   "metadata": {
    "ExecuteTime": {
     "end_time": "2019-12-15T16:46:16.490467Z",
     "start_time": "2019-12-15T16:45:50.385225Z"
    }
   },
   "outputs": [],
   "source": [
    "d = {}\n",
    "for cz, puma_list in cz_dict.items():\n",
    "    pop = 0\n",
    "    emp_pop = 0\n",
    "    ftfy_pop = 0   \n",
    "    pa_pop = 0\n",
    "    pa_emp_pop = 0\n",
    "    pa_ftfy_pop = 0\n",
    "    for puma, afactor in puma_list:  \n",
    "        data = (df[df['PUMA'] == puma]\n",
    "                  .assign(WGT = lambda x: x.PWGTP * afactor))\n",
    "        pop += data.WGT.sum()\n",
    "        ftfy_pop += data.loc[data.FTFY == 1, 'WGT'].sum()\n",
    "        emp_pop += data.loc[data.EMP == 1, 'WGT'].sum()\n",
    "        pa_pop += data.loc[data.PA == 1, 'WGT'].sum()\n",
    "        pa_emp_pop += data.loc[(data.PA == 1) & (data.EMP == 1), 'WGT'].sum()\n",
    "        pa_ftfy_pop += data.loc[(data.PA == 1) & (data.FTFY == 1), 'WGT'].sum()\n",
    "        \n",
    "    fpop = ftfy_pop / pop\n",
    "    epop = emp_pop / pop\n",
    "    pa_epop = pa_emp_pop / pa_pop\n",
    "    pa_ftfy = pa_ftfy_pop / pa_pop\n",
    "    d[cz] = [fpop, epop, pop, pa_pop, pa_epop, pa_ftfy]\n",
    "    \n",
    "result = pd.DataFrame(d)\n",
    "result.index = ['ftfy_share', 'emp_share', 'weight', 'pa_weight', 'pa_emp_share', 'pa_ftfy_share']\n",
    "result = result.T\n",
    "\n",
    "maxval = result.ftfy_share.max()\n",
    "minval = result.ftfy_share.min()"
   ]
  },
  {
   "cell_type": "code",
   "execution_count": 5,
   "metadata": {
    "ExecuteTime": {
     "end_time": "2019-12-15T16:46:16.832976Z",
     "start_time": "2019-12-15T16:46:16.491525Z"
    }
   },
   "outputs": [],
   "source": [
    "# Map and legend settings\n",
    "m = Basemap(llcrnrlon=-121, llcrnrlat=20, urcrnrlon=-64, urcrnrlat=49,\n",
    "            projection='lcc', lat_1=33, lat_2=45, lon_0=-95)\n",
    "\n",
    "cmap = plt.cm.winter_r\n",
    "norm = Normalize(vmin=minval, vmax=maxval)\n",
    "\n",
    "hi_cz = [35600, 34701, 34703, 34702, 34703]\n",
    "ak_cz = [34101, 34114, 34102, 34112, 34104, 34107, 34115, \n",
    "         34109, 34109, 34102, 34111, 34108, 34107, 34102, \n",
    "         34106, 34113, 34105, 34111, 34110, 34109, 34115, \n",
    "         34103, 34112, 34110, 34115]\n",
    "\n",
    "pts = np.arange(1, 101, 1)\n",
    "pct = (np.percentile(\n",
    "    np.repeat(result.ftfy_share.values, \n",
    "              result.weight.div(1000).astype(int).values), pts))\n",
    "\n",
    "max_val = f'{maxval * 100:.1f}%'\n",
    "min_val = f'{minval * 100:.1f}%'"
   ]
  },
  {
   "cell_type": "code",
   "execution_count": 6,
   "metadata": {
    "ExecuteTime": {
     "end_time": "2019-12-15T16:46:19.897423Z",
     "start_time": "2019-12-15T16:46:16.833951Z"
    }
   },
   "outputs": [
    {
     "data": {
      "image/png": "[encoded data removed]",
      "text/plain": [
       "<Figure size 417.6x208.8 with 2 Axes>"
      ]
     },
     "metadata": {
      "needs_background": "light"
     },
     "output_type": "display_data"
    }
   ],
   "source": [
    "# Draw map\n",
    "fig = plt.figure(figsize=(5.8,2.9))\n",
    "\n",
    "m.drawmapboundary(color='white')\n",
    "m.readshapefile('/home/brian/Documents/ACS/shapefiles/cz1990', 'cz', drawbounds=False)\n",
    "\n",
    "ax = plt.gca()\n",
    "\n",
    "for info, shape in zip(m.cz_info, m.cz):\n",
    "    fc = cmap(norm(d[info['cz']][0]))\n",
    "    if info['cz'] in hi_cz:\n",
    "        shape = [[x + 5200000, y - 1400000] for x, y in shape]\n",
    "    elif info['cz'] in ak_cz:\n",
    "        shape = [(x * 0.34 + 1200000, \n",
    "                  y * 0.34 - 1300000) for x, y in shape]\n",
    "    ax.add_patch(Polygon(shape, fc=fc))\n",
    "    \n",
    "m.readshapefile('shapefiles/states', 'states', drawbounds=True, \n",
    "                    color='white', linewidth=0.5) \n",
    "\n",
    "ax.axis('off')    \n",
    "\n",
    "ax_inset = inset_axes(ax, width='-10%', height='40%', loc=4, borderpad=2.8) \n",
    "for i, pt in enumerate(pct):\n",
    "    rect = Rectangle(xy=(pt, i / 100), width=-pt, height=0.1, \n",
    "                     fc=cmap(norm(pt)), ec=None)\n",
    "    ax_inset.add_patch(rect)    \n",
    "\n",
    "ax_inset.text(0.58, 1.06, max_val, fontsize=7)\n",
    "ax_inset.text(0.58, -0.14, min_val, fontsize=7)\n",
    "ax_inset.axis('off')\n",
    "plt.savefig(data_dir / 'acs_emp_map.pgf', bbox_inches='tight', transparent=True);"
   ]
  },
  {
   "cell_type": "code",
   "execution_count": 8,
   "metadata": {
    "ExecuteTime": {
     "end_time": "2019-12-15T16:46:19.998792Z",
     "start_time": "2019-12-15T16:46:19.898734Z"
    }
   },
   "outputs": [],
   "source": [
    "cz_names = (pd.read_excel(acs_dir / 'czlma903.xls', sheet_name='CZLMA903')\n",
    "              .set_index('CZ90')\n",
    "              .iloc[:, -1]\n",
    "              .str.replace(' city', '')\n",
    "              .str.replace(' town', '')\n",
    "              .str.replace(' CDP', '')\n",
    "              .str.replace(' \\(remaind', '')\n",
    "              .str.replace(' \\(remain', '')\n",
    "              .str.replace('Arlington, VA', 'Washington, DC')\n",
    "              .to_dict())"
   ]
  },
  {
   "cell_type": "code",
   "execution_count": 9,
   "metadata": {
    "ExecuteTime": {
     "end_time": "2019-12-15T16:46:20.005251Z",
     "start_time": "2019-12-15T16:46:20.000332Z"
    }
   },
   "outputs": [],
   "source": [
    "size_cutoff = 100000\n",
    "\n",
    "final = result.loc[result['weight'] > size_cutoff, 'ftfy_share'].sort_values()\n",
    "\n",
    "final.index = final.index.map(cz_names)"
   ]
  },
  {
   "cell_type": "code",
   "execution_count": 10,
   "metadata": {
    "ExecuteTime": {
     "end_time": "2019-12-15T16:46:20.016093Z",
     "start_time": "2019-12-15T16:46:20.006419Z"
    }
   },
   "outputs": [
    {
     "name": "stdout",
     "output_type": "stream",
     "text": [
      "\\scriptsize{Top 10:} \\\\*\n",
      "\\textbf{41.2\\%} \\hspace{1mm} Bismarck, ND \\\\*\n",
      "\\textbf{40.9\\%} \\hspace{1mm} Madison, WI \\\\*\n",
      "\\textbf{40.8\\%} \\hspace{1mm} Washington, DC \\\\*\n",
      "\\textbf{40.1\\%} \\hspace{1mm} Denver, CO \\\\*\n",
      "\\textbf{39.9\\%} \\hspace{1mm} Austin, TX \\\\*\n",
      "\\textbf{39.8\\%} \\hspace{1mm} Glenwood Springs, CO \\\\*\n",
      "\\textbf{39.7\\%} \\hspace{1mm} Des Moines, IA \\\\*\n",
      "\\textbf{39.4\\%} \\hspace{1mm} Nashville-Davidson, TN \\\\*\n",
      "\\textbf{39.3\\%} \\hspace{1mm} Fargo, ND \\\\*\n",
      "\\textbf{39.1\\%} \\hspace{1mm} Fredericksburg, VA \\\\*\n",
      "\n",
      "\\scriptsize{Bottom 10:} \\\\*\n",
      "\\textbf{19.8\\%} \\hspace{1mm} Gallup, NM \\\\*\n",
      "\\textbf{22.4\\%} \\hspace{1mm} Hazard, KY \\\\*\n",
      "\\textbf{23.3\\%} \\hspace{1mm} Yuma, AZ \\\\*\n",
      "\\textbf{23.4\\%} \\hspace{1mm} Pikeville, KY \\\\*\n",
      "\\textbf{23.5\\%} \\hspace{1mm} Ocala, FL \\\\*\n",
      "\\textbf{23.6\\%} \\hspace{1mm} Corbin, KY \\\\*\n",
      "\\textbf{24.5\\%} \\hspace{1mm} Port Angeles, WA \\\\*\n",
      "\\textbf{24.6\\%} \\hspace{1mm} Greenville, MS \\\\*\n",
      "\\textbf{25.0\\%} \\hspace{1mm} Huntington, WV \\\\*\n",
      "\\textbf{25.0\\%} \\hspace{1mm} Altamont, OR \\\\*\n"
     ]
    }
   ],
   "source": [
    "print('\\scriptsize{Top 10:} \\\\\\*')\n",
    "for i in [-1, -2, -3, -4, -5, -6, -7, -8, -9, -10, 0, 1, 2, 3, 4, 5, 6, 7, 8, 9]:\n",
    "    print(f'\\\\textbf{{{final[i]*100:.1f}\\%}} \\hspace{{1mm}} {final.index[i]} \\\\\\*')\n",
    "    if i == -10:\n",
    "        print('')\n",
    "        print('\\scriptsize{Bottom 10:} \\\\\\*')"
   ]
  },
  {
   "cell_type": "code",
   "execution_count": 11,
   "metadata": {},
   "outputs": [],
   "source": [
    "tot = len(result)\n",
    "thirdsh = (len(result.loc[result.ftfy_share > 0.333]) / tot) * 100\n",
    "\n",
    "qtrtot = len(result.loc[result.ftfy_share <= 0.25])\n",
    "qtrsh = (len(result.loc[result.ftfy_share <= 0.25]) / tot) * 100\n",
    "qtrpop = result.loc[result.ftfy_share <= 0.25, 'weight'].sum() / 1_000_000\n",
    "\n",
    "text = (f'In {year}, fewer than half ({thirdsh:.1f} percent) of commuter zones have at least '+\n",
    "        'a third of their population working full-time and full-year. A total '+\n",
    "        f'of {qtrtot} commuter zones (out of {tot}), covering {qtrpop:.1f} million '+\n",
    "        'people, have a quarter of the population or less fully employed. ')\n",
    "\n",
    "write_txt(text_dir / 'acs_ftfy_year.txt', str(year))\n",
    "write_txt(text_dir / 'acs_ftfy_text.txt', text)"
   ]
  },
  {
   "cell_type": "code",
   "execution_count": null,
   "metadata": {},
   "outputs": [],
   "source": []
  },
  {
   "cell_type": "code",
   "execution_count": 27,
   "metadata": {},
   "outputs": [],
   "source": [
    "size_cutoff = 4_500_000\n",
    "\n",
    "final2 = result.loc[result['weight'] > size_cutoff].sort_values('weight', ascending=False)\n",
    "\n",
    "final2.index = final2.index.map(cz_names)\n",
    "\n",
    "file = '/home/brian/Documents/uschartbook/chartbook/data/acs_emp_tables.tex'\n",
    "\n",
    "((final2[['ftfy_share', 'emp_share', 'pa_ftfy_share', 'pa_emp_share']].round(3) * 100.0)\n",
    " .to_csv(file, sep='&', line_terminator='\\\\\\ ', quotechar=' ', header=False, float_format='%.1f'))"
   ]
  }
 ],
 "metadata": {
  "kernelspec": {
   "display_name": "Python 3",
   "language": "python",
   "name": "python3"
  },
  "language_info": {
   "codemirror_mode": {
    "name": "ipython",
    "version": 3
   },
   "file_extension": ".py",
   "mimetype": "text/x-python",
   "name": "python",
   "nbconvert_exporter": "python",
   "pygments_lexer": "ipython3",
   "version": "3.8.1"
  }
 },
 "nbformat": 4,
 "nbformat_minor": 2
}
