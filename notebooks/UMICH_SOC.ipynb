{
 "cells": [
  {
   "cell_type": "markdown",
   "metadata": {},
   "source": [
    "### University of Michigan Survey of Consumers"
   ]
  },
  {
   "cell_type": "code",
   "execution_count": 1,
   "metadata": {
    "ExecuteTime": {
     "end_time": "2020-12-31T01:08:08.333877Z",
     "start_time": "2020-12-31T01:08:07.653461Z"
    }
   },
   "outputs": [],
   "source": [
    "import sys\n",
    "sys.path.append('../src')\n",
    "\n",
    "import uschartbook.config\n",
    "\n",
    "from uschartbook.config import *\n",
    "from uschartbook.utils import *"
   ]
  },
  {
   "cell_type": "code",
   "execution_count": 2,
   "metadata": {
    "ExecuteTime": {
     "end_time": "2020-12-31T01:08:08.709790Z",
     "start_time": "2020-12-31T01:08:08.334966Z"
    }
   },
   "outputs": [],
   "source": [
    "url = 'http://www.sca.isr.umich.edu/files/tbmics.csv'\n",
    "\n",
    "df = pd.read_csv(url)\n",
    "df.index = pd.to_datetime(df['Month'] + ' ' + df['YYYY'].astype('str'))\n",
    "data = df['ICS_ALL'].loc['1989':]\n",
    "\n",
    "data.to_csv(data_dir / 'umichsoc.csv', index_label='date', header='True')"
   ]
  },
  {
   "cell_type": "code",
   "execution_count": 3,
   "metadata": {
    "ExecuteTime": {
     "end_time": "2020-12-31T01:08:08.719986Z",
     "start_time": "2020-12-31T01:08:08.710960Z"
    }
   },
   "outputs": [
    {
     "data": {
      "text/plain": [
       "'As of December 2020, the latest value of the consumer sentiment index is 80.7, compared to 76.9 in November 2020 and 99.3 in December 2019.'"
      ]
     },
     "execution_count": 3,
     "metadata": {},
     "output_type": "execute_result"
    }
   ],
   "source": [
    "data = pd.read_csv(data_dir / 'umichsoc.csv').set_index('date')['ICS_ALL']\n",
    "data.index = pd.to_datetime(data.index)\n",
    "node = end_node(data, 'violet!60!blue', percent=False, date=True)\n",
    "write_txt(text_dir / 'soc_node.txt', node)\n",
    "\n",
    "d = {}\n",
    "for i in [-1, -2, -13]:\n",
    "    d[i] = {'date': dtxt(data.index[i])['mon1'], 'val': data.iloc[i]}\n",
    "\n",
    "text = (f'As of {d[-1][\"date\"]}, the latest value of the consumer sentiment index is '+\n",
    "        f'{d[-1][\"val\"]}, compared to {d[-2][\"val\"]} in {d[-2][\"date\"]} and '+\n",
    "        f'{d[-13][\"val\"]} in {d[-13][\"date\"]}.')\n",
    "\n",
    "write_txt(text_dir / 'umichsoc.txt', text)\n",
    "\n",
    "text"
   ]
  },
  {
   "cell_type": "code",
   "execution_count": null,
   "metadata": {},
   "outputs": [],
   "source": []
  },
  {
   "cell_type": "code",
   "execution_count": null,
   "metadata": {},
   "outputs": [],
   "source": []
  }
 ],
 "metadata": {
  "kernelspec": {
   "display_name": "Python 3",
   "language": "python",
   "name": "python3"
  },
  "language_info": {
   "codemirror_mode": {
    "name": "ipython",
    "version": 3
   },
   "file_extension": ".py",
   "mimetype": "text/x-python",
   "name": "python",
   "nbconvert_exporter": "python",
   "pygments_lexer": "ipython3",
   "version": "3.8.6"
  }
 },
 "nbformat": 4,
 "nbformat_minor": 4
}
