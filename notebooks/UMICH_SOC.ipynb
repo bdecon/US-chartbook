{
 "cells": [
  {
   "cell_type": "markdown",
   "metadata": {},
   "source": [
    "### University of Michigan Survey of Consumers"
   ]
  },
  {
   "cell_type": "code",
   "execution_count": 1,
   "metadata": {
    "ExecuteTime": {
     "end_time": "2021-07-07T11:24:13.188668Z",
     "start_time": "2021-07-07T11:24:12.527100Z"
    }
   },
   "outputs": [],
   "source": [
    "import sys\n",
    "sys.path.append('../src')\n",
    "\n",
    "import uschartbook.config\n",
    "\n",
    "from uschartbook.config import *\n",
    "from uschartbook.utils import *"
   ]
  },
  {
   "cell_type": "code",
   "execution_count": 2,
   "metadata": {
    "ExecuteTime": {
     "end_time": "2021-07-07T11:24:13.424161Z",
     "start_time": "2021-07-07T11:24:13.189722Z"
    }
   },
   "outputs": [],
   "source": [
    "url = 'http://www.sca.isr.umich.edu/files/tbmics.csv'\n",
    "\n",
    "df = pd.read_csv(url)\n",
    "df.index = pd.to_datetime(df['Month'] + ' ' + df['YYYY'].astype('str'))\n",
    "data = df['ICS_ALL'].loc['1989':]\n",
    "\n",
    "data.to_csv(data_dir / 'umichsoc.csv', index_label='date', header='True')"
   ]
  },
  {
   "cell_type": "code",
   "execution_count": 3,
   "metadata": {
    "ExecuteTime": {
     "end_time": "2021-07-07T11:24:13.434051Z",
     "start_time": "2021-07-07T11:24:13.425461Z"
    }
   },
   "outputs": [
    {
     "data": {
      "text/plain": [
       "'As of June 2021, the latest value of the consumer sentiment index is 85.5, compared to 82.9 in May 2021 and 78.1 in June 2020.'"
      ]
     },
     "execution_count": 3,
     "metadata": {},
     "output_type": "execute_result"
    }
   ],
   "source": [
    "data = pd.read_csv(data_dir / 'umichsoc.csv').set_index('date')['ICS_ALL']\n",
    "data.index = pd.to_datetime(data.index)\n",
    "node = end_node(data, 'violet!60!blue', percent=False, date=True)\n",
    "write_txt(text_dir / 'soc_node.txt', node)\n",
    "\n",
    "d = {}\n",
    "for i in [-1, -2, -13]:\n",
    "    d[i] = {'date': dtxt(data.index[i])['mon1'], 'val': data.iloc[i]}\n",
    "\n",
    "text = (f'As of {d[-1][\"date\"]}, the latest value of the consumer sentiment index is '+\n",
    "        f'{d[-1][\"val\"]}, compared to {d[-2][\"val\"]} in {d[-2][\"date\"]} and '+\n",
    "        f'{d[-13][\"val\"]} in {d[-13][\"date\"]}.')\n",
    "\n",
    "write_txt(text_dir / 'umichsoc.txt', text)\n",
    "\n",
    "text"
   ]
  },
  {
   "cell_type": "code",
   "execution_count": null,
   "metadata": {},
   "outputs": [],
   "source": []
  },
  {
   "cell_type": "code",
   "execution_count": null,
   "metadata": {},
   "outputs": [],
   "source": []
  },
  {
   "cell_type": "markdown",
   "metadata": {},
   "source": [
    "### Inflation Expecations (One and Five Years Ahead)"
   ]
  },
  {
   "cell_type": "code",
   "execution_count": 4,
   "metadata": {
    "ExecuteTime": {
     "end_time": "2021-07-07T11:24:13.908100Z",
     "start_time": "2021-07-07T11:24:13.435046Z"
    }
   },
   "outputs": [
    {
     "name": "stdout",
     "output_type": "stream",
     "text": [
      "As of June 2021, consumers expect an average inflation rate of 2.8 percent over the next five years, (see {\\color{violet!60!magenta}\\textbf{---}}), compared to an expected rate of 2.5 percent in June 2020. Consumers had expected inflation to average 2.6 percent over the past five years, while actual inflation over the period was 1.9 percent.\n",
      "Respondents expect consumer prices to increase 4.2 percent over the year starting June 2021 (see {\\color{green}\\textbf{---}}).\n"
     ]
    }
   ],
   "source": [
    "url = 'http://www.sca.isr.umich.edu/files/tbmpx1px5.csv'\n",
    "dfm = pd.read_csv(url)\n",
    "dfm.index = pd.to_datetime(dfm['Month'] + ' ' + dfm['YYYY'].astype('str'))\n",
    "dfm = dfm.drop(['Month', 'YYYY'], axis=1)\n",
    "\n",
    "url = 'http://www.sca.isr.umich.edu/files/tbcpx1px5.csv'\n",
    "df = pd.read_csv(url, skiprows=3).dropna(axis=1, how='all').dropna()\n",
    "df.columns = ['Month', 'YYYY', 'PX_MD', 'PX5_MD']\n",
    "df.index = pd.to_datetime(df['Month'] + ' ' + df['YYYY'].astype('int').astype('str'))\n",
    "df = df.drop(['Month', 'YYYY'], axis=1)\n",
    "\n",
    "if df.index[-1] not in dfm.index:\n",
    "    dfm = dfm.append(df.iloc[-1])\n",
    "    \n",
    "dfm.loc['1989':].to_csv(data_dir / 'infumichlt.csv', index_label='date')\n",
    "    \n",
    "data = dfm['PX5_MD'].loc['2015':]\n",
    "\n",
    "data.to_csv(data_dir / 'infumich.csv', index_label='date', header='VALUE')\n",
    "\n",
    "node = end_node(data, 'violet')\n",
    "write_txt(text_dir / 'infumich_node.txt', node)\n",
    "\n",
    "ldate = dtxt(data.index[-1])['mon1']\n",
    "pdate = dtxt(data.index[-13])['mon1']\n",
    "p5val = data.iloc[-61]\n",
    "lval = data.iloc[-1]\n",
    "pval = data.iloc[-13]\n",
    "\n",
    "inf_act = pd.read_csv(data_dir / 'cpi.csv')['ALL'].iloc[-60:].mean()\n",
    "\n",
    "text = (f'As of {ldate}, consumers expect an average inflation rate of {lval} '+\n",
    "        'percent over the next five years, (see {\\color{violet!60!magenta}\\\\textbf{---}}), '+\n",
    "        f'compared to an expected rate of {pval} percent '+\n",
    "        f'in {pdate}. Consumers had expected inflation to average {p5val} percent over the past '+\n",
    "        f'five years, while actual inflation over the period was {inf_act:.1f} percent.')\n",
    "write_txt(text_dir / 'inf_exp_cons.txt', text)\n",
    "print(text)\n",
    "\n",
    "yrval = dfm['PX_MD'].iloc[-1]\n",
    "\n",
    "text = (f'Respondents expect consumer prices to increase {yrval} '+\n",
    "        f'percent over the year starting {ldate} '+\n",
    "        '(see {\\color{green}\\\\textbf{---}}).')\n",
    "write_txt(text_dir / 'inf_exp_surv_st.txt', text)\n",
    "print(text)"
   ]
  },
  {
   "cell_type": "code",
   "execution_count": null,
   "metadata": {},
   "outputs": [],
   "source": []
  },
  {
   "cell_type": "code",
   "execution_count": null,
   "metadata": {},
   "outputs": [],
   "source": []
  },
  {
   "cell_type": "code",
   "execution_count": null,
   "metadata": {},
   "outputs": [],
   "source": []
  }
 ],
 "metadata": {
  "kernelspec": {
   "display_name": "Python 3",
   "language": "python",
   "name": "python3"
  },
  "language_info": {
   "codemirror_mode": {
    "name": "ipython",
    "version": 3
   },
   "file_extension": ".py",
   "mimetype": "text/x-python",
   "name": "python",
   "nbconvert_exporter": "python",
   "pygments_lexer": "ipython3",
   "version": "3.8.8"
  }
 },
 "nbformat": 4,
 "nbformat_minor": 4
}
