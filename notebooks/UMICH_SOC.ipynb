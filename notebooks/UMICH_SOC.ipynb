{
 "cells": [
  {
   "cell_type": "markdown",
   "metadata": {},
   "source": [
    "### University of Michigan Survey of Consumers"
   ]
  },
  {
   "cell_type": "code",
   "execution_count": 1,
   "metadata": {
    "ExecuteTime": {
     "end_time": "2023-11-16T23:09:25.888124Z",
     "start_time": "2023-11-16T23:09:24.916890Z"
    }
   },
   "outputs": [],
   "source": [
    "import sys\n",
    "sys.path.append('../src')\n",
    "import uschartbook.config\n",
    "from uschartbook.config import *\n",
    "from uschartbook.utils import *"
   ]
  },
  {
   "cell_type": "code",
   "execution_count": 2,
   "metadata": {
    "ExecuteTime": {
     "end_time": "2023-11-16T23:09:26.661112Z",
     "start_time": "2023-11-16T23:09:25.889763Z"
    }
   },
   "outputs": [],
   "source": [
    "url = 'http://www.sca.isr.umich.edu/files/tbmics.csv'\n",
    "\n",
    "df = pd.read_csv(url)\n",
    "df.index = pd.to_datetime(df['Month'] + ' ' + df['YYYY'].astype('str'))\n",
    "data = df['ICS_ALL'].loc['1989':]\n",
    "\n",
    "data.to_csv(data_dir / 'umichsoc.csv', index_label='date', header='True')"
   ]
  },
  {
   "cell_type": "code",
   "execution_count": 3,
   "metadata": {
    "ExecuteTime": {
     "end_time": "2023-11-16T23:09:26.671439Z",
     "start_time": "2023-11-16T23:09:26.662401Z"
    }
   },
   "outputs": [
    {
     "name": "stdout",
     "output_type": "stream",
     "text": [
      "As of October 2023, the latest value of the consumer sentiment index is 63.8, following 67.9 in September 2023, and compared to 59.9 one year prior, in October 2022. As a pre-COVID baseline, the index average value was 97.3 during the year ending February 2020; the consumer sentiment index is currently 34.4 percent below this level.\n"
     ]
    }
   ],
   "source": [
    "data = pd.read_csv(data_dir / 'umichsoc.csv').set_index('date')['ICS_ALL']\n",
    "data.index = pd.to_datetime(data.index)\n",
    "write_txt(text_dir / 'soc_node.txt', end_node(data, 'violet!60!blue', date='m'))\n",
    "\n",
    "d = {}\n",
    "for i in [-1, -2, -13]:\n",
    "    d[i] = {'date': dtxt(data.index[i])['mon1'], 'val': data.iloc[i]}\n",
    "pcv = data.loc['2019-03-01':'2020-02-01'].mean()\n",
    "ch_val = -(1 - (d[-1]['val'] / pcv)) * 100\n",
    "ch_txt = value_text(ch_val, style='above_below', threshold=0.5)\n",
    "text = (f'As of {d[-1][\"date\"]}, the latest value of the consumer sentiment index is '+\n",
    "        f'{d[-1][\"val\"]}, following {d[-2][\"val\"]} in {d[-2][\"date\"]}, and compared to '+\n",
    "        f'{d[-13][\"val\"]} one year prior, in {d[-13][\"date\"]}. '+\n",
    "        f'As a pre-COVID baseline, the index average value was {pcv:.1f} '+\n",
    "        'during the year ending February 2020; the consumer '+\n",
    "        f'sentiment index is currently {ch_txt} this level.')\n",
    "write_txt(text_dir / 'umichsoc.txt', text)\n",
    "print(text)"
   ]
  },
  {
   "cell_type": "code",
   "execution_count": null,
   "metadata": {},
   "outputs": [],
   "source": []
  },
  {
   "cell_type": "code",
   "execution_count": null,
   "metadata": {},
   "outputs": [],
   "source": []
  },
  {
   "cell_type": "markdown",
   "metadata": {},
   "source": [
    "### Current conditions and expections"
   ]
  },
  {
   "cell_type": "code",
   "execution_count": 4,
   "metadata": {
    "ExecuteTime": {
     "end_time": "2023-11-16T23:09:27.236511Z",
     "start_time": "2023-11-16T23:09:26.673386Z"
    }
   },
   "outputs": [],
   "source": [
    "url = 'http://www.sca.isr.umich.edu/files/tbmiccice.csv'\n",
    "df = pd.read_csv(url)\n",
    "df.index = pd.to_datetime(df['Month'] + ' ' + df['YYYY'].astype('str'))\n",
    "df = df.loc['1989':, ['ICC', 'ICE']]\n",
    "df.to_csv(data_dir / 'umichsoc_ice.csv', index_label='date')"
   ]
  },
  {
   "cell_type": "code",
   "execution_count": 5,
   "metadata": {
    "ExecuteTime": {
     "end_time": "2023-11-16T23:09:27.248322Z",
     "start_time": "2023-11-16T23:09:27.237641Z"
    }
   },
   "outputs": [
    {
     "name": "stdout",
     "output_type": "stream",
     "text": [
      "The consumer sentiment index combines views on current and future economic conditions. In October 2023, the index tracking views on current economic conditions was 70.6, compared to 71.1 in September 2023, and 110.8 in 2019 (see {\\color{blue!50!cyan}\\textbf{---}}).\n",
      "\n",
      "In October 2023, the index tracking consumer expectations for future economic conditions was 59.3, compared to 65.8 in September 2023, and 86.5 in 2019 (see {\\color{green!60!black}\\textbf{---}}).\n"
     ]
    }
   ],
   "source": [
    "df = pd.read_csv(data_dir / 'umichsoc_ice.csv', index_col='date', \n",
    "                 parse_dates=True)\n",
    "ltdt = dtxt(df.index[-1])['mon1']\n",
    "prdt = dtxt(df.index[-2])['mon1']\n",
    "ccval = df.ICC.iloc[-1]\n",
    "ccpr = df.ICC.iloc[-2]\n",
    "cc19 = df.loc['2019', 'ICC'].mean()\n",
    "cccol = 'blue!50!cyan'\n",
    "ccnode = end_node(df.ICC, cccol, date='m')\n",
    "write_txt(text_dir / 'icc_node.txt', ccnode)\n",
    "\n",
    "ceval = df.ICE.iloc[-1]\n",
    "cepr = df.ICE.iloc[-2]\n",
    "ce19 = df.loc['2019', 'ICE'].mean()\n",
    "cecol = 'green!60!black'\n",
    "text = ('The consumer sentiment index combines views on current '+\n",
    "        f'and future economic conditions. In {ltdt}, the index tracking '+\n",
    "        f'views on current economic conditions was {ccval:.1f}, '+\n",
    "        f'compared to {ccpr:.1f} in {prdt}, and {cc19:.1f} '+\n",
    "        f'in 2019 {c_line(cccol)}.\\n\\n'+\n",
    "        f'In {ltdt}, the index tracking consumer '+\n",
    "        f'expectations for future economic conditions was {ceval:.1f}, '+\n",
    "        f'compared to {cepr:.1f} in {prdt}, and {ce19:.1f} '+\n",
    "        f'in 2019 {c_line(cecol)}.')\n",
    "write_txt(text_dir / 'umichsoc_ice.txt', text)\n",
    "print(text)\n",
    "ccnode = end_node(df.ICC, cccol, date='m')\n",
    "write_txt(text_dir / 'icc_node.txt', ccnode)\n",
    "cenode = end_node(df.ICE, cecol, date='m')\n",
    "write_txt(text_dir / 'ice_node.txt', cenode)"
   ]
  },
  {
   "cell_type": "code",
   "execution_count": null,
   "metadata": {},
   "outputs": [],
   "source": []
  },
  {
   "cell_type": "code",
   "execution_count": null,
   "metadata": {},
   "outputs": [],
   "source": []
  },
  {
   "cell_type": "markdown",
   "metadata": {},
   "source": [
    "### Inflation Expecations (One and Five Years Ahead)"
   ]
  },
  {
   "cell_type": "code",
   "execution_count": 6,
   "metadata": {
    "ExecuteTime": {
     "end_time": "2023-11-16T23:09:28.071253Z",
     "start_time": "2023-11-16T23:09:27.249614Z"
    }
   },
   "outputs": [
    {
     "name": "stdout",
     "output_type": "stream",
     "text": [
      "As of November 2023, surveyed consumers expect inflation to average 3.2 percent over the next five years (see {\\color{violet!60!magenta}\\textbf{---}}), compared to an expected rate of 3.0 percent in November 2022. Consumers had expected inflation to average 2.6 percent over the past five years, while actual inflation over the period was 3.9 percent.\n",
      "Respondents expect consumer prices to increase 4.4 percent over the year starting November 2023 (see {\\color{green}\\textbf{---}}).\n"
     ]
    }
   ],
   "source": [
    "url = 'http://www.sca.isr.umich.edu/files/tbmpx1px5.csv'\n",
    "dfm = pd.read_csv(url)\n",
    "dfm.index = pd.to_datetime(dfm['Month'] + ' ' + dfm['YYYY'].astype('str'))\n",
    "dfm = dfm.drop(['Month', 'YYYY'], axis=1)\n",
    "\n",
    "url = 'http://www.sca.isr.umich.edu/files/tbcpx1px5.csv'\n",
    "df = pd.read_csv(url, skiprows=3).dropna(axis=1, how='all').dropna()\n",
    "df['DATE OF SURVEY'] = df['DATE OF SURVEY'].str.replace(' (P)', '', regex=False)\n",
    "df.columns = ['Month', 'YYYY', 'PX_MD', 'PX5_MD']\n",
    "df.index = pd.to_datetime(df['Month'] + ' ' + df['YYYY'].astype('int').astype('str'))\n",
    "df = df.drop(['Month', 'YYYY'], axis=1)\n",
    "\n",
    "if df.index[-1] not in dfm.index:\n",
    "    dfm = pd.concat([dfm, df.iloc[-1].to_frame().T])\n",
    "    \n",
    "dfm.loc['1989':].to_csv(data_dir / 'infumichlt.csv', index_label='date')    \n",
    "data = dfm['PX5_MD'].loc['2017':]\n",
    "data.to_csv(data_dir / 'infumich.csv', index_label='date', header='VALUE')\n",
    "color = 'violet!60!magenta'\n",
    "node = end_node(data, color)\n",
    "write_txt(text_dir / 'infumich_node.txt', node)  \n",
    "\n",
    "ltdt = dtxt(data.index[-1])['mon1']\n",
    "prdt = dtxt(data.index[-13])['mon1']\n",
    "p5val = data.iloc[-61]\n",
    "lval = data.iloc[-1]\n",
    "pval = data.iloc[-13]\n",
    "\n",
    "inf_act = pd.read_csv(data_dir / 'cpi.csv')['ALL'].iloc[-60:].mean()\n",
    "text = (f'As of {ltdt}, surveyed consumers expect inflation to average '+\n",
    "        f'{lval} percent over the next five years {c_line(color)}, '+\n",
    "        f'compared to an expected rate of {pval} percent in {prdt}. '+\n",
    "        f'Consumers had expected inflation to average {p5val} percent over '+\n",
    "        f'the past five years, while actual inflation over the period '+\n",
    "        f'was {inf_act:.1f} percent.')\n",
    "write_txt(text_dir / 'inf_exp_cons.txt', text)\n",
    "print(text)\n",
    "\n",
    "col2 = 'green'\n",
    "yrval = dfm['PX_MD'].iloc[-1]\n",
    "text = (f'Respondents expect consumer prices to increase {yrval} '+\n",
    "        f'percent over the year starting {ltdt} {c_line(col2)}.')\n",
    "write_txt(text_dir / 'inf_exp_surv_st.txt', text)\n",
    "print(text)"
   ]
  },
  {
   "cell_type": "code",
   "execution_count": null,
   "metadata": {},
   "outputs": [],
   "source": []
  },
  {
   "cell_type": "code",
   "execution_count": null,
   "metadata": {},
   "outputs": [],
   "source": []
  }
 ],
 "metadata": {
  "kernelspec": {
   "display_name": "Python 3 (ipykernel)",
   "language": "python",
   "name": "python3"
  },
  "language_info": {
   "codemirror_mode": {
    "name": "ipython",
    "version": 3
   },
   "file_extension": ".py",
   "mimetype": "text/x-python",
   "name": "python",
   "nbconvert_exporter": "python",
   "pygments_lexer": "ipython3",
   "version": "3.8.13"
  }
 },
 "nbformat": 4,
 "nbformat_minor": 4
}
