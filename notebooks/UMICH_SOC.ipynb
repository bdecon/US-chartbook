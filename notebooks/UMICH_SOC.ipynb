{
 "cells": [
  {
   "cell_type": "code",
   "execution_count": 1,
   "metadata": {},
   "outputs": [],
   "source": [
    "import sys\n",
    "import json\n",
    "sys.path.append('../src')\n",
    "\n",
    "import requests\n",
    "\n",
    "import uschartbook.config\n",
    "\n",
    "from uschartbook.config import *\n",
    "from uschartbook.utils import *"
   ]
  },
  {
   "cell_type": "code",
   "execution_count": 2,
   "metadata": {},
   "outputs": [
    {
     "data": {
      "text/plain": [
       "'As of February 2020, the latest value of the consumer sentiment index is 101.0, compared to 99.8 in January 2020 and 93.8 in February 2019.'"
      ]
     },
     "execution_count": 2,
     "metadata": {},
     "output_type": "execute_result"
    }
   ],
   "source": [
    "url = 'http://www.sca.isr.umich.edu/files/tbmics.csv'\n",
    "\n",
    "df = pd.read_csv(url)\n",
    "df.index = pd.to_datetime(df['Month'] + ' ' + df['YYYY'].astype('str'))\n",
    "data = df['ICS_ALL'].loc['1989':]\n",
    "\n",
    "data.to_csv(data_dir / 'umichsoc.csv', index_label='date', header='True')\n",
    "\n",
    "ldate = dtxt(data.index[-1])['mon1']\n",
    "lval = data.iloc[-1]\n",
    "pdate = dtxt(data.index[-2])['mon1']\n",
    "pval = data.iloc[-2]\n",
    "pydate = dtxt(data.index[-13])['mon1']\n",
    "pyval = data.iloc[-13]\n",
    "\n",
    "text = (f'As of {ldate}, the latest value of the consumer sentiment index is {lval}, '+\n",
    "        f'compared to {pval} in {pdate} and {pyval} in {pydate}.')\n",
    "\n",
    "write_txt(text_dir / 'umichsoc.txt', text)\n",
    "\n",
    "text"
   ]
  },
  {
   "cell_type": "code",
   "execution_count": null,
   "metadata": {},
   "outputs": [],
   "source": []
  },
  {
   "cell_type": "code",
   "execution_count": null,
   "metadata": {},
   "outputs": [],
   "source": []
  }
 ],
 "metadata": {
  "kernelspec": {
   "display_name": "Python 3",
   "language": "python",
   "name": "python3"
  },
  "language_info": {
   "codemirror_mode": {
    "name": "ipython",
    "version": 3
   },
   "file_extension": ".py",
   "mimetype": "text/x-python",
   "name": "python",
   "nbconvert_exporter": "python",
   "pygments_lexer": "ipython3",
   "version": "3.8.2"
  }
 },
 "nbformat": 4,
 "nbformat_minor": 4
}
