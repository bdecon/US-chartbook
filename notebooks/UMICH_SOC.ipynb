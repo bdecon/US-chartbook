{
 "cells": [
  {
   "cell_type": "markdown",
   "metadata": {},
   "source": [
    "### University of Michigan Survey of Consumers"
   ]
  },
  {
   "cell_type": "code",
   "execution_count": 1,
   "metadata": {
    "ExecuteTime": {
     "end_time": "2022-03-01T20:36:42.862197Z",
     "start_time": "2022-03-01T20:36:42.215609Z"
    }
   },
   "outputs": [],
   "source": [
    "import sys\n",
    "sys.path.append('../src')\n",
    "import uschartbook.config\n",
    "from uschartbook.config import *\n",
    "from uschartbook.utils import *"
   ]
  },
  {
   "cell_type": "code",
   "execution_count": 2,
   "metadata": {
    "ExecuteTime": {
     "end_time": "2022-03-01T20:36:43.086492Z",
     "start_time": "2022-03-01T20:36:42.863196Z"
    }
   },
   "outputs": [],
   "source": [
    "url = 'http://www.sca.isr.umich.edu/files/tbmics.csv'\n",
    "\n",
    "df = pd.read_csv(url)\n",
    "df.index = pd.to_datetime(df['Month'] + ' ' + df['YYYY'].astype('str'))\n",
    "data = df['ICS_ALL'].loc['1989':]\n",
    "\n",
    "data.to_csv(data_dir / 'umichsoc.csv', index_label='date', header='True')"
   ]
  },
  {
   "cell_type": "code",
   "execution_count": 3,
   "metadata": {
    "ExecuteTime": {
     "end_time": "2022-03-01T20:36:43.096977Z",
     "start_time": "2022-03-01T20:36:43.087699Z"
    }
   },
   "outputs": [
    {
     "name": "stdout",
     "output_type": "stream",
     "text": [
      "As of February 2022, the latest value of the consumer sentiment index is 62.8, following 67.2 in January 2022 and compared to 76.8 one year prior, in February 2021. As a pre-COVID baseline, the index average value was 97.3 during the year ending February 2020; the consumer sentiment index is currently 35.5 percent below this level.\n"
     ]
    }
   ],
   "source": [
    "data = pd.read_csv(data_dir / 'umichsoc.csv').set_index('date')['ICS_ALL']\n",
    "data.index = pd.to_datetime(data.index)\n",
    "write_txt(text_dir / 'soc_node.txt', end_node(data, 'violet!60!blue', date='m'))\n",
    "\n",
    "d = {}\n",
    "for i in [-1, -2, -13]:\n",
    "    d[i] = {'date': dtxt(data.index[i])['mon1'], 'val': data.iloc[i]}\n",
    "pcv = data.loc['2019-03-01':'2020-02-01'].mean()\n",
    "ch_val = -(1 - (d[-1]['val'] / pcv)) * 100\n",
    "ch_txt = value_text(ch_val, style='above_below', threshold=0.5)\n",
    "text = (f'As of {d[-1][\"date\"]}, the latest value of the consumer sentiment index is '+\n",
    "        f'{d[-1][\"val\"]}, following {d[-2][\"val\"]} in {d[-2][\"date\"]} and compared to '+\n",
    "        f'{d[-13][\"val\"]} one year prior, in {d[-13][\"date\"]}. '+\n",
    "        f'As a pre-COVID baseline, the index average value was {pcv:.1f} '+\n",
    "        'during the year ending February 2020; the consumer '+\n",
    "        f'sentiment index is currently {ch_txt} this level.')\n",
    "write_txt(text_dir / 'umichsoc.txt', text)\n",
    "print(text)"
   ]
  },
  {
   "cell_type": "code",
   "execution_count": null,
   "metadata": {},
   "outputs": [],
   "source": []
  },
  {
   "cell_type": "code",
   "execution_count": null,
   "metadata": {},
   "outputs": [],
   "source": []
  },
  {
   "cell_type": "markdown",
   "metadata": {},
   "source": [
    "### Current conditions and expections"
   ]
  },
  {
   "cell_type": "code",
   "execution_count": 4,
   "metadata": {
    "ExecuteTime": {
     "end_time": "2022-03-01T20:36:43.323278Z",
     "start_time": "2022-03-01T20:36:43.098032Z"
    }
   },
   "outputs": [],
   "source": [
    "url = 'http://www.sca.isr.umich.edu/files/tbmiccice.csv'\n",
    "df = pd.read_csv(url)\n",
    "df.index = pd.to_datetime(df['Month'] + ' ' + df['YYYY'].astype('str'))\n",
    "df = df.loc['1989':, ['ICC', 'ICE']]\n",
    "df.to_csv(data_dir / 'umichsoc_ice.csv', index_label='date')"
   ]
  },
  {
   "cell_type": "code",
   "execution_count": 5,
   "metadata": {
    "ExecuteTime": {
     "end_time": "2022-03-01T20:36:43.335830Z",
     "start_time": "2022-03-01T20:36:43.324383Z"
    }
   },
   "outputs": [
    {
     "name": "stdout",
     "output_type": "stream",
     "text": [
      "There are two components to the index of consumer sentiment. The first component tracks views on current economic conditions. In February 2022, the index tracking views on current economic conditions was 68.2, compared to 72.0 in January 2022, and 110.8 in 2019 (see {\\color{blue!50!cyan}\\textbf{---}}).\n",
      "\n",
      "The second component tracks consumer expectations for future economic conditions. In February 2022, the consumer expectations component of the index was 59.4, compared to 64.1 in January 2022, and 86.5 in 2019 (see {\\color{green!60!black}\\textbf{---}}).\n"
     ]
    }
   ],
   "source": [
    "df = pd.read_csv(data_dir / 'umichsoc_ice.csv', index_col='date', \n",
    "                 parse_dates=True)\n",
    "ltdt = dtxt(df.index[-1])['mon1']\n",
    "prdt = dtxt(df.index[-2])['mon1']\n",
    "ccval = df.ICC.iloc[-1]\n",
    "ccpr = df.ICC.iloc[-2]\n",
    "cc19 = df.loc['2019', 'ICC'].mean()\n",
    "cccol = 'blue!50!cyan'\n",
    "ccnode = end_node(df.ICC, cccol, date='m')\n",
    "write_txt(text_dir / 'icc_node.txt', ccnode)\n",
    "\n",
    "ceval = df.ICE.iloc[-1]\n",
    "cepr = df.ICE.iloc[-2]\n",
    "ce19 = df.loc['2019', 'ICE'].mean()\n",
    "cecol = 'green!60!black'\n",
    "text = ('There are two components to the index of consumer '+\n",
    "        'sentiment. The first component tracks views on current '+\n",
    "        f'economic conditions. In {ltdt}, the index tracking '+\n",
    "        f'views on current economic conditions was {ccval:.1f}, '+\n",
    "        f'compared to {ccpr:.1f} in {prdt}, and {cc19:.1f} '+\n",
    "        f'in 2019 {c_line(cccol)}.\\n\\n'+\n",
    "        'The second component tracks consumer expectations for '+\n",
    "        f'future economic conditions. In {ltdt}, the consumer '+\n",
    "        f'expectations component of the index was {ceval:.1f}, '+\n",
    "        f'compared to {cepr:.1f} in {prdt}, and {ce19:.1f} '+\n",
    "        f'in 2019 {c_line(cecol)}.')\n",
    "write_txt(text_dir / 'umichsoc_ice.txt', text)\n",
    "print(text)\n",
    "ccnode = end_node(df.ICC, cccol, date='m')\n",
    "write_txt(text_dir / 'icc_node.txt', ccnode)\n",
    "cenode = end_node(df.ICE, cecol, date='m')\n",
    "write_txt(text_dir / 'ice_node.txt', cenode)"
   ]
  },
  {
   "cell_type": "code",
   "execution_count": null,
   "metadata": {},
   "outputs": [],
   "source": []
  },
  {
   "cell_type": "code",
   "execution_count": null,
   "metadata": {},
   "outputs": [],
   "source": []
  },
  {
   "cell_type": "code",
   "execution_count": null,
   "metadata": {},
   "outputs": [],
   "source": []
  },
  {
   "cell_type": "markdown",
   "metadata": {},
   "source": [
    "### Inflation Expecations (One and Five Years Ahead)"
   ]
  },
  {
   "cell_type": "code",
   "execution_count": 6,
   "metadata": {
    "ExecuteTime": {
     "end_time": "2022-03-01T20:36:48.756341Z",
     "start_time": "2022-03-01T20:36:43.337424Z"
    }
   },
   "outputs": [
    {
     "name": "stdout",
     "output_type": "stream",
     "text": [
      "As of February 2022, surveyed consumers expect an average inflation rate of 3.0 percent over the next five years, (see {\\color{violet!60!magenta}\\textbf{---}}), compared to an expected rate of 2.7 percent in February 2021. Consumers had expected inflation to average 2.5 percent over the past five years, while actual inflation over the period was 2.5 percent.\n",
      "Respondents expect consumer prices to increase 4.9 percent over the year starting February 2022 (see {\\color{green}\\textbf{---}}).\n"
     ]
    }
   ],
   "source": [
    "url = 'http://www.sca.isr.umich.edu/files/tbmpx1px5.csv'\n",
    "dfm = pd.read_csv(url)\n",
    "dfm.index = pd.to_datetime(dfm['Month'] + ' ' + dfm['YYYY'].astype('str'))\n",
    "dfm = dfm.drop(['Month', 'YYYY'], axis=1)\n",
    "\n",
    "url = 'http://www.sca.isr.umich.edu/files/tbcpx1px5.csv'\n",
    "df = pd.read_csv(url, skiprows=3).dropna(axis=1, how='all').dropna()\n",
    "df.columns = ['Month', 'YYYY', 'PX_MD', 'PX5_MD']\n",
    "df.index = pd.to_datetime(df['Month'] + ' ' + df['YYYY'].astype('int').astype('str'))\n",
    "df = df.drop(['Month', 'YYYY'], axis=1)\n",
    "\n",
    "if df.index[-1] not in dfm.index:\n",
    "    dfm = dfm.append(df.iloc[-1])  \n",
    "    \n",
    "dfm.loc['1989':].to_csv(data_dir / 'infumichlt.csv', index_label='date')    \n",
    "data = dfm['PX5_MD'].loc['2015':]\n",
    "data.to_csv(data_dir / 'infumich.csv', index_label='date', header='VALUE')\n",
    "node = end_node(data, 'violet!60!magenta', percent=True)\n",
    "write_txt(text_dir / 'infumich_node.txt', node)  \n",
    "\n",
    "ldate = dtxt(data.index[-1])['mon1']\n",
    "pdate = dtxt(data.index[-13])['mon1']\n",
    "p5val = data.iloc[-61]\n",
    "lval = data.iloc[-1]\n",
    "pval = data.iloc[-13]\n",
    "\n",
    "inf_act = pd.read_csv(data_dir / 'cpi.csv')['ALL'].iloc[-60:].mean()\n",
    "text = (f'As of {ldate}, surveyed consumers expect an average inflation rate of {lval} '+\n",
    "        'percent over the next five years, (see {\\color{violet!60!magenta}\\\\textbf{---}}), '+\n",
    "        f'compared to an expected rate of {pval} percent '+\n",
    "        f'in {pdate}. Consumers had expected inflation to average {p5val} percent over the past '+\n",
    "        f'five years, while actual inflation over the period was {inf_act:.1f} percent.')\n",
    "write_txt(text_dir / 'inf_exp_cons.txt', text)\n",
    "print(text)\n",
    "\n",
    "yrval = dfm['PX_MD'].iloc[-1]\n",
    "text = (f'Respondents expect consumer prices to increase {yrval} '+\n",
    "        f'percent over the year starting {ldate} '+\n",
    "        '(see {\\color{green}\\\\textbf{---}}).')\n",
    "write_txt(text_dir / 'inf_exp_surv_st.txt', text)\n",
    "print(text)"
   ]
  },
  {
   "cell_type": "code",
   "execution_count": null,
   "metadata": {},
   "outputs": [],
   "source": []
  }
 ],
 "metadata": {
  "kernelspec": {
   "display_name": "Python 3",
   "language": "python",
   "name": "python3"
  },
  "language_info": {
   "codemirror_mode": {
    "name": "ipython",
    "version": 3
   },
   "file_extension": ".py",
   "mimetype": "text/x-python",
   "name": "python",
   "nbconvert_exporter": "python",
   "pygments_lexer": "ipython3",
   "version": "3.8.8"
  }
 },
 "nbformat": 4,
 "nbformat_minor": 4
}
