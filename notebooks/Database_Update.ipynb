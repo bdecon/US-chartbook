{
 "cells": [
  {
   "cell_type": "code",
   "execution_count": 1,
   "metadata": {
    "ExecuteTime": {
     "end_time": "2019-08-26T04:43:17.843530Z",
     "start_time": "2019-08-26T04:43:17.582773Z"
    }
   },
   "outputs": [],
   "source": [
    "import sys\n",
    "sys.path.append('../src')\n",
    "\n",
    "import uschartbook.config\n",
    "\n",
    "from uschartbook.config import *\n",
    "from uschartbook.utils import *"
   ]
  },
  {
   "cell_type": "code",
   "execution_count": 2,
   "metadata": {
    "ExecuteTime": {
     "end_time": "2019-08-26T04:43:32.764270Z",
     "start_time": "2019-08-26T04:43:19.380699Z"
    },
    "code_folding": []
   },
   "outputs": [],
   "source": [
    "# Request NIPA tables data from BEA API\n",
    "\n",
    "table_list = ['T20304', 'T70100', 'T10101', 'T10502', \n",
    "              'T11706', 'T11000', 'T20100', 'T10105',\n",
    "              'T10106']\n",
    "\n",
    "#api_results = bea_api_nipa(table_list, bea_key)\n",
    "\n",
    "#bea_to_db(api_results)"
   ]
  },
  {
   "cell_type": "code",
   "execution_count": 29,
   "metadata": {
    "ExecuteTime": {
     "end_time": "2019-08-26T04:51:38.728888Z",
     "start_time": "2019-08-26T04:51:38.682380Z"
    }
   },
   "outputs": [],
   "source": [
    "cd_gdp = (nipa_df(retrieve_table('T10105')['Data'], ['A191RC'])\n",
    "          .sort_index().iloc[-1].values[0])\n",
    "\n",
    "rgdp = nipa_df(retrieve_table('T10106')['Data'], ['A191RX']).sort_index()\n",
    "rgdp_cd = rgdp / rgdp.iloc[-1] * cd_gdp"
   ]
  }
 ],
 "metadata": {
  "kernelspec": {
   "display_name": "Python 3",
   "language": "python",
   "name": "python3"
  },
  "language_info": {
   "codemirror_mode": {
    "name": "ipython",
    "version": 3
   },
   "file_extension": ".py",
   "mimetype": "text/x-python",
   "name": "python",
   "nbconvert_exporter": "python",
   "pygments_lexer": "ipython3",
   "version": "3.7.3"
  }
 },
 "nbformat": 4,
 "nbformat_minor": 2
}
