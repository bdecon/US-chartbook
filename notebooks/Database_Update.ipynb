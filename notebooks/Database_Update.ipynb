{
 "cells": [
  {
   "cell_type": "markdown",
   "metadata": {},
   "source": [
    "### Update locally stored NIPA tables"
   ]
  },
  {
   "cell_type": "code",
   "execution_count": 1,
   "metadata": {
    "ExecuteTime": {
     "end_time": "2024-07-25T13:48:36.932791Z",
     "start_time": "2024-07-25T13:48:35.992451Z"
    }
   },
   "outputs": [],
   "source": [
    "import sys\n",
    "sys.path.append('../src')\n",
    "\n",
    "import uschartbook.config\n",
    "\n",
    "from uschartbook.config import *\n",
    "from uschartbook.utils import *"
   ]
  },
  {
   "cell_type": "code",
   "execution_count": 2,
   "metadata": {
    "ExecuteTime": {
     "end_time": "2024-07-25T13:49:01.784365Z",
     "start_time": "2024-07-25T13:48:36.934663Z"
    },
    "code_folding": []
   },
   "outputs": [],
   "source": [
    "# Request NIPA tables data from BEA API\n",
    "table_list = ['T20304', 'T70100', 'T10101', 'T10502', \n",
    "              'T11706', 'T11000', 'T20100', 'T10105',\n",
    "              'T10106', 'T50100', 'T20302', 'T40202', \n",
    "              'T40100', 'T11400', 'T11200', 'T10705', \n",
    "              'T30300', 'T30200', 'T10205', 'T40205A',\n",
    "              'T40205B', 'T11705', \n",
    "              'T10103', 'T10503', 'T10505', 'T30100',\n",
    "              'T10104', 'T11500']\n",
    "#'T40205', \n",
    "api_results = bea_api_nipa(table_list, bea_key)\n",
    "\n",
    "bea_to_db(api_results)"
   ]
  },
  {
   "cell_type": "code",
   "execution_count": 3,
   "metadata": {
    "ExecuteTime": {
     "end_time": "2024-07-25T13:49:03.658650Z",
     "start_time": "2024-07-25T13:49:01.785570Z"
    }
   },
   "outputs": [],
   "source": [
    "# Annual data\n",
    "for table in ['T10105', 'T10104', 'T10101', 'T10502', \n",
    "              'T11000', 'T11706']:\n",
    "    bea_retrieve_annual(table, bea_key)"
   ]
  },
  {
   "cell_type": "code",
   "execution_count": null,
   "metadata": {},
   "outputs": [],
   "source": []
  },
  {
   "cell_type": "code",
   "execution_count": null,
   "metadata": {},
   "outputs": [],
   "source": []
  }
 ],
 "metadata": {
  "kernelspec": {
   "display_name": "Python 3 (ipykernel)",
   "language": "python",
   "name": "python3"
  },
  "language_info": {
   "codemirror_mode": {
    "name": "ipython",
    "version": 3
   },
   "file_extension": ".py",
   "mimetype": "text/x-python",
   "name": "python",
   "nbconvert_exporter": "python",
   "pygments_lexer": "ipython3",
   "version": "3.8.13"
  }
 },
 "nbformat": 4,
 "nbformat_minor": 2
}
