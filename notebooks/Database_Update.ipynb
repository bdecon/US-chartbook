{
 "cells": [
  {
   "cell_type": "markdown",
   "metadata": {},
   "source": [
    "### Update locally stored NIPA tables"
   ]
  },
  {
   "cell_type": "code",
   "execution_count": 1,
   "metadata": {
    "ExecuteTime": {
     "end_time": "2023-09-28T13:39:10.082661Z",
     "start_time": "2023-09-28T13:39:09.145464Z"
    }
   },
   "outputs": [],
   "source": [
    "import sys\n",
    "sys.path.append('../src')\n",
    "\n",
    "import uschartbook.config\n",
    "\n",
    "from uschartbook.config import *\n",
    "from uschartbook.utils import *"
   ]
  },
  {
   "cell_type": "code",
   "execution_count": 5,
   "metadata": {
    "ExecuteTime": {
     "end_time": "2023-09-28T14:49:42.681793Z",
     "start_time": "2023-09-28T14:49:02.342571Z"
    },
    "code_folding": []
   },
   "outputs": [],
   "source": [
    "# Request NIPA tables data from BEA API\n",
    "table_list = ['T20304', 'T70100', 'T10101', 'T10502', \n",
    "              'T11706', 'T11000', 'T20100', 'T10105',\n",
    "              'T10106', 'T50100', 'T20302', 'T40202', \n",
    "              'T40100', 'T11400', 'T11200', 'T10705', \n",
    "              'T30300', 'T30200', 'T10205', 'T40205A',\n",
    "              'T40205B',\n",
    "              'T10103', 'T10503', 'T10505', 'T30100',\n",
    "              'T10104', 'T11500']\n",
    "#'T40205', \n",
    "api_results = bea_api_nipa(table_list, bea_key)\n",
    "\n",
    "bea_to_db(api_results)"
   ]
  },
  {
   "cell_type": "code",
   "execution_count": 6,
   "metadata": {
    "ExecuteTime": {
     "end_time": "2023-09-28T14:49:51.982518Z",
     "start_time": "2023-09-28T14:49:51.146341Z"
    }
   },
   "outputs": [],
   "source": [
    "# Annual data\n",
    "api_result2 = bea_api_nipa(['T10105'], bea_key, freq='A')\n",
    "res = list(api_result2[0])\n",
    "res[0] = 'T10105A'\n",
    "\n",
    "api_result = [tuple(res)]\n",
    "bea_to_db(api_result)\n",
    "\n",
    "api_result2 = bea_api_nipa(['T10104'], bea_key, freq='A')\n",
    "res = list(api_result2[0])\n",
    "res[0] = 'T10104A'\n",
    "\n",
    "api_result = [tuple(res)]\n",
    "bea_to_db(api_result)"
   ]
  },
  {
   "cell_type": "code",
   "execution_count": 7,
   "metadata": {
    "ExecuteTime": {
     "end_time": "2023-09-28T14:49:52.360248Z",
     "start_time": "2023-09-28T14:49:52.071171Z"
    }
   },
   "outputs": [],
   "source": [
    "api_result2 = bea_api_nipa(['T10101'], bea_key, freq='A')\n",
    "res = list(api_result2[0])\n",
    "res[0] = 'T10101A'\n",
    "\n",
    "api_result = [tuple(res)]\n",
    "bea_to_db(api_result)"
   ]
  },
  {
   "cell_type": "code",
   "execution_count": null,
   "metadata": {},
   "outputs": [],
   "source": []
  }
 ],
 "metadata": {
  "kernelspec": {
   "display_name": "Python 3 (ipykernel)",
   "language": "python",
   "name": "python3"
  },
  "language_info": {
   "codemirror_mode": {
    "name": "ipython",
    "version": 3
   },
   "file_extension": ".py",
   "mimetype": "text/x-python",
   "name": "python",
   "nbconvert_exporter": "python",
   "pygments_lexer": "ipython3",
   "version": "3.8.13"
  }
 },
 "nbformat": 4,
 "nbformat_minor": 2
}
