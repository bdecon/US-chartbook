{
 "cells": [
  {
   "cell_type": "markdown",
   "metadata": {},
   "source": [
    "### Update locally stored NIPA tables"
   ]
  },
  {
   "cell_type": "code",
   "execution_count": 1,
   "metadata": {
    "ExecuteTime": {
     "end_time": "2021-11-01T17:46:17.520954Z",
     "start_time": "2021-11-01T17:46:16.445014Z"
    }
   },
   "outputs": [],
   "source": [
    "import sys\n",
    "sys.path.append('../src')\n",
    "\n",
    "import uschartbook.config\n",
    "\n",
    "from uschartbook.config import *\n",
    "from uschartbook.utils import *"
   ]
  },
  {
   "cell_type": "code",
   "execution_count": 2,
   "metadata": {
    "ExecuteTime": {
     "end_time": "2021-11-01T17:46:46.383882Z",
     "start_time": "2021-11-01T17:46:17.522599Z"
    },
    "code_folding": []
   },
   "outputs": [],
   "source": [
    "# Request NIPA tables data from BEA API\n",
    "\n",
    "table_list = ['T20304', 'T70100', 'T10101', 'T10502', \n",
    "              'T11706', 'T11000', 'T20100', 'T10105',\n",
    "              'T10106', 'T50100', 'T20302', 'T40202', \n",
    "              'T40100', 'T11400', 'T11200', 'T10705', \n",
    "              'T30300', 'T30200', 'T40205', 'T10205',\n",
    "              'T10103', 'T10503', 'T10505', 'T30100']\n",
    "\n",
    "#table_list = ['T20600']\n",
    "\n",
    "api_results = bea_api_nipa(table_list, bea_key)\n",
    "\n",
    "bea_to_db(api_results)"
   ]
  },
  {
   "cell_type": "code",
   "execution_count": null,
   "metadata": {},
   "outputs": [],
   "source": []
  },
  {
   "cell_type": "code",
   "execution_count": null,
   "metadata": {},
   "outputs": [],
   "source": []
  },
  {
   "cell_type": "code",
   "execution_count": 3,
   "metadata": {
    "ExecuteTime": {
     "end_time": "2021-04-14T15:42:09.422800Z",
     "start_time": "2021-04-14T15:42:09.387279Z"
    },
    "code_folding": []
   },
   "outputs": [
    {
     "data": {
      "text/plain": [
       "{'W021RC': 'Current receipts',\n",
       " 'W054RC': 'Current tax receipts',\n",
       " 'W055RC': 'Personal current taxes',\n",
       " 'W056RC': 'Taxes on production and imports',\n",
       " 'W025RC': 'Taxes on corporate income',\n",
       " 'W008RC': 'Taxes from the rest of the world',\n",
       " 'W782RC': 'Contributions for government social insurance',\n",
       " 'A061RC': 'From persons',\n",
       " 'W781RC': 'From the rest of the world',\n",
       " 'W058RC': 'Income receipts on assets',\n",
       " 'W059RC': 'Interest and miscellaneous receipts',\n",
       " 'Y703RC': 'Interest receipts',\n",
       " 'Y704RC': 'Rents and royalties',\n",
       " 'W065RC': 'Dividends',\n",
       " 'W060RC': 'Current transfer receipts',\n",
       " 'W061RC': 'From business (net)',\n",
       " 'W062RC': 'From persons',\n",
       " 'LA000014': 'From the rest of the world',\n",
       " 'A108RC': 'Current surplus of government enterprises',\n",
       " 'W022RC': 'Current expenditures',\n",
       " 'A955RC': 'Consumption expenditures',\n",
       " 'A084RC': 'Current transfer payments',\n",
       " 'W063RC': 'Government social benefits',\n",
       " 'A063RC': 'To persons',\n",
       " 'W016RC': 'To the rest of the world',\n",
       " 'W017RC': 'Other current transfer payments to the rest of the world',\n",
       " 'A180RC': 'Interest payments',\n",
       " 'A204RC': 'To persons and business',\n",
       " 'Y712RC': 'To the rest of the world',\n",
       " 'A107RC': 'Subsidies',\n",
       " 'A922RC': 'Net government saving',\n",
       " 'A221RC': 'Social insurance funds',\n",
       " 'A391RC': 'Other',\n",
       " 'W066RC': 'Total receipts',\n",
       " 'W067RC': 'Capital transfer receipts',\n",
       " 'W068RC': 'Total expenditures',\n",
       " 'A782RC': 'Gross government investment',\n",
       " 'W069RC': 'Capital transfer payments',\n",
       " 'AD07RC': 'Net purchases of nonproduced assets',\n",
       " 'A264RC': 'Less: Consumption of fixed capital',\n",
       " 'AD01RC': 'Net lending or net borrowing (-)'}"
      ]
     },
     "execution_count": 3,
     "metadata": {},
     "output_type": "execute_result"
    }
   ],
   "source": [
    "nipa_series_codes(retrieve_table('T30100'))"
   ]
  },
  {
   "cell_type": "code",
   "execution_count": null,
   "metadata": {
    "ExecuteTime": {
     "end_time": "2019-08-29T15:50:07.276746Z",
     "start_time": "2019-08-29T15:50:07.227511Z"
    }
   },
   "outputs": [],
   "source": [
    "# Use examples for viewing the retrieved data\n",
    "\n",
    "cd_gdp = (nipa_df(retrieve_table('T10105')['Data'], ['A191RC'])\n",
    "          .sort_index().iloc[-1].values[0])\n",
    "\n",
    "rgdp = nipa_df(retrieve_table('T10106')['Data'], ['A191RX']).sort_index()\n",
    "rgdp_cd = rgdp / rgdp.iloc[-1] * cd_gdp"
   ]
  }
 ],
 "metadata": {
  "kernelspec": {
   "display_name": "Python 3",
   "language": "python",
   "name": "python3"
  },
  "language_info": {
   "codemirror_mode": {
    "name": "ipython",
    "version": 3
   },
   "file_extension": ".py",
   "mimetype": "text/x-python",
   "name": "python",
   "nbconvert_exporter": "python",
   "pygments_lexer": "ipython3",
   "version": "3.8.8"
  }
 },
 "nbformat": 4,
 "nbformat_minor": 2
}
