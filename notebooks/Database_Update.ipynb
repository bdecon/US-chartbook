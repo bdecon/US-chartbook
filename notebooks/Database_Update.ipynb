{
 "cells": [
  {
   "cell_type": "markdown",
   "metadata": {},
   "source": [
    "### Update locally stored NIPA tables"
   ]
  },
  {
   "cell_type": "code",
   "execution_count": 1,
   "metadata": {
    "ExecuteTime": {
     "end_time": "2021-04-05T20:21:09.650318Z",
     "start_time": "2021-04-05T20:21:09.021971Z"
    }
   },
   "outputs": [],
   "source": [
    "import sys\n",
    "sys.path.append('../src')\n",
    "\n",
    "import uschartbook.config\n",
    "\n",
    "from uschartbook.config import *\n",
    "from uschartbook.utils import *"
   ]
  },
  {
   "cell_type": "code",
   "execution_count": 2,
   "metadata": {
    "ExecuteTime": {
     "end_time": "2021-04-05T20:21:28.764299Z",
     "start_time": "2021-04-05T20:21:09.825358Z"
    },
    "code_folding": []
   },
   "outputs": [],
   "source": [
    "# Request NIPA tables data from BEA API\n",
    "\n",
    "table_list = ['T20304', 'T70100', 'T10101', 'T10502', \n",
    "              'T11706', 'T11000', 'T20100', 'T10105',\n",
    "              'T10106', 'T50100', 'T20302', 'T40202', \n",
    "              'T40100', 'T11400', 'T11200', 'T10705', \n",
    "              'T30300', 'T30200', 'T40205', 'T10205',\n",
    "              'T10103', 'T10503', 'T10505', 'T30100']\n",
    "\n",
    "#table_list = ['T20600']\n",
    "\n",
    "api_results = bea_api_nipa(table_list, bea_key)\n",
    "\n",
    "bea_to_db(api_results)"
   ]
  },
  {
   "cell_type": "code",
   "execution_count": null,
   "metadata": {},
   "outputs": [],
   "source": []
  },
  {
   "cell_type": "code",
   "execution_count": null,
   "metadata": {},
   "outputs": [],
   "source": []
  },
  {
   "cell_type": "code",
   "execution_count": 6,
   "metadata": {
    "ExecuteTime": {
     "end_time": "2019-09-05T14:47:10.063578Z",
     "start_time": "2019-09-05T14:47:09.966687Z"
    }
   },
   "outputs": [
    {
     "data": {
      "text/html": [
       "<div>\n",
       "<style scoped>\n",
       "    .dataframe tbody tr th:only-of-type {\n",
       "        vertical-align: middle;\n",
       "    }\n",
       "\n",
       "    .dataframe tbody tr th {\n",
       "        vertical-align: top;\n",
       "    }\n",
       "\n",
       "    .dataframe thead th {\n",
       "        text-align: right;\n",
       "    }\n",
       "</style>\n",
       "<table border=\"1\" class=\"dataframe\">\n",
       "  <thead>\n",
       "    <tr style=\"text-align: right;\">\n",
       "      <th></th>\n",
       "      <th>W162RC</th>\n",
       "      <th>W994RC</th>\n",
       "      <th>AD01RC</th>\n",
       "    </tr>\n",
       "  </thead>\n",
       "  <tbody>\n",
       "    <tr>\n",
       "      <th>1988-01-01</th>\n",
       "      <td>-2.503325</td>\n",
       "      <td>2.534448</td>\n",
       "      <td>-5.038148</td>\n",
       "    </tr>\n",
       "    <tr>\n",
       "      <th>1988-04-01</th>\n",
       "      <td>-2.121141</td>\n",
       "      <td>2.761002</td>\n",
       "      <td>-4.882220</td>\n",
       "    </tr>\n",
       "    <tr>\n",
       "      <th>1988-07-01</th>\n",
       "      <td>-2.017705</td>\n",
       "      <td>2.359434</td>\n",
       "      <td>-4.376911</td>\n",
       "    </tr>\n",
       "    <tr>\n",
       "      <th>1988-10-01</th>\n",
       "      <td>-2.217739</td>\n",
       "      <td>2.318211</td>\n",
       "      <td>-4.535561</td>\n",
       "    </tr>\n",
       "    <tr>\n",
       "      <th>1989-01-01</th>\n",
       "      <td>-1.938271</td>\n",
       "      <td>2.087620</td>\n",
       "      <td>-4.026271</td>\n",
       "    </tr>\n",
       "    <tr>\n",
       "      <th>...</th>\n",
       "      <td>...</td>\n",
       "      <td>...</td>\n",
       "      <td>...</td>\n",
       "    </tr>\n",
       "    <tr>\n",
       "      <th>2019-01-01</th>\n",
       "      <td>-2.592784</td>\n",
       "      <td>4.320923</td>\n",
       "      <td>-6.913702</td>\n",
       "    </tr>\n",
       "    <tr>\n",
       "      <th>2019-04-01</th>\n",
       "      <td>-2.411099</td>\n",
       "      <td>4.699023</td>\n",
       "      <td>-7.110122</td>\n",
       "    </tr>\n",
       "    <tr>\n",
       "      <th>2019-07-01</th>\n",
       "      <td>-2.355451</td>\n",
       "      <td>5.060629</td>\n",
       "      <td>-7.416089</td>\n",
       "    </tr>\n",
       "    <tr>\n",
       "      <th>2019-10-01</th>\n",
       "      <td>-2.044878</td>\n",
       "      <td>5.408009</td>\n",
       "      <td>-7.452887</td>\n",
       "    </tr>\n",
       "    <tr>\n",
       "      <th>2020-01-01</th>\n",
       "      <td>NaN</td>\n",
       "      <td>NaN</td>\n",
       "      <td>NaN</td>\n",
       "    </tr>\n",
       "  </tbody>\n",
       "</table>\n",
       "<p>129 rows × 3 columns</p>\n",
       "</div>"
      ],
      "text/plain": [
       "              W162RC    W994RC    AD01RC\n",
       "1988-01-01 -2.503325  2.534448 -5.038148\n",
       "1988-04-01 -2.121141  2.761002 -4.882220\n",
       "1988-07-01 -2.017705  2.359434 -4.376911\n",
       "1988-10-01 -2.217739  2.318211 -4.535561\n",
       "1989-01-01 -1.938271  2.087620 -4.026271\n",
       "...              ...       ...       ...\n",
       "2019-01-01 -2.592784  4.320923 -6.913702\n",
       "2019-04-01 -2.411099  4.699023 -7.110122\n",
       "2019-07-01 -2.355451  5.060629 -7.416089\n",
       "2019-10-01 -2.044878  5.408009 -7.452887\n",
       "2020-01-01       NaN       NaN       NaN\n",
       "\n",
       "[129 rows x 3 columns]"
      ]
     },
     "execution_count": 6,
     "metadata": {},
     "output_type": "execute_result"
    }
   ],
   "source": [
    "s = ['W162RC', 'W994RC', 'AD01RC']\n",
    "(nipa_df(retrieve_table('T50100')['Data'], s).div(\n",
    " nipa_df(retrieve_table('T10105')['Data'], ['A191RC'])['A191RC'], axis=0)) * 100"
   ]
  },
  {
   "cell_type": "code",
   "execution_count": 3,
   "metadata": {
    "ExecuteTime": {
     "end_time": "2021-04-05T23:27:35.864218Z",
     "start_time": "2021-04-05T23:27:35.832884Z"
    },
    "code_folding": []
   },
   "outputs": [
    {
     "data": {
      "text/plain": [
       "{'W021RC': 'Current receipts',\n",
       " 'W054RC': 'Current tax receipts',\n",
       " 'W055RC': 'Personal current taxes',\n",
       " 'W056RC': 'Taxes on production and imports',\n",
       " 'W025RC': 'Taxes on corporate income',\n",
       " 'W008RC': 'Taxes from the rest of the world',\n",
       " 'W782RC': 'Contributions for government social insurance',\n",
       " 'A061RC': 'From persons',\n",
       " 'W781RC': 'From the rest of the world',\n",
       " 'W058RC': 'Income receipts on assets',\n",
       " 'W059RC': 'Interest and miscellaneous receipts',\n",
       " 'Y703RC': 'Interest receipts',\n",
       " 'Y704RC': 'Rents and royalties',\n",
       " 'W065RC': 'Dividends',\n",
       " 'W060RC': 'Current transfer receipts',\n",
       " 'W061RC': 'From business (net)',\n",
       " 'W062RC': 'From persons',\n",
       " 'LA000014': 'From the rest of the world',\n",
       " 'A108RC': 'Current surplus of government enterprises',\n",
       " 'W022RC': 'Current expenditures',\n",
       " 'A955RC': 'Consumption expenditures',\n",
       " 'A084RC': 'Current transfer payments',\n",
       " 'W063RC': 'Government social benefits',\n",
       " 'A063RC': 'To persons',\n",
       " 'W016RC': 'To the rest of the world',\n",
       " 'W017RC': 'Other current transfer payments to the rest of the world',\n",
       " 'A180RC': 'Interest payments',\n",
       " 'A204RC': 'To persons and business',\n",
       " 'Y712RC': 'To the rest of the world',\n",
       " 'A107RC': 'Subsidies',\n",
       " 'A922RC': 'Net government saving',\n",
       " 'A221RC': 'Social insurance funds',\n",
       " 'A391RC': 'Other',\n",
       " 'W066RC': 'Total receipts',\n",
       " 'W067RC': 'Capital transfer receipts',\n",
       " 'W068RC': 'Total expenditures',\n",
       " 'A782RC': 'Gross government investment',\n",
       " 'W069RC': 'Capital transfer payments',\n",
       " 'AD07RC': 'Net purchases of nonproduced assets',\n",
       " 'A264RC': 'Less: Consumption of fixed capital',\n",
       " 'AD01RC': 'Net lending or net borrowing (-)'}"
      ]
     },
     "execution_count": 3,
     "metadata": {},
     "output_type": "execute_result"
    }
   ],
   "source": [
    "nipa_series_codes(retrieve_table('T30100'))"
   ]
  },
  {
   "cell_type": "code",
   "execution_count": null,
   "metadata": {
    "ExecuteTime": {
     "end_time": "2019-08-29T15:50:07.276746Z",
     "start_time": "2019-08-29T15:50:07.227511Z"
    }
   },
   "outputs": [],
   "source": [
    "# Use examples for viewing the retrieved data\n",
    "\n",
    "cd_gdp = (nipa_df(retrieve_table('T10105')['Data'], ['A191RC'])\n",
    "          .sort_index().iloc[-1].values[0])\n",
    "\n",
    "rgdp = nipa_df(retrieve_table('T10106')['Data'], ['A191RX']).sort_index()\n",
    "rgdp_cd = rgdp / rgdp.iloc[-1] * cd_gdp"
   ]
  }
 ],
 "metadata": {
  "kernelspec": {
   "display_name": "Python 3",
   "language": "python",
   "name": "python3"
  },
  "language_info": {
   "codemirror_mode": {
    "name": "ipython",
    "version": 3
   },
   "file_extension": ".py",
   "mimetype": "text/x-python",
   "name": "python",
   "nbconvert_exporter": "python",
   "pygments_lexer": "ipython3",
   "version": "3.8.6"
  }
 },
 "nbformat": 4,
 "nbformat_minor": 2
}
