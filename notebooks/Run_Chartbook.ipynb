{
 "cells": [
  {
   "cell_type": "markdown",
   "metadata": {},
   "source": [
    "### Tools for generating and storing the chartbook"
   ]
  },
  {
   "cell_type": "code",
   "execution_count": 1,
   "metadata": {
    "ExecuteTime": {
     "end_time": "2023-10-11T22:23:42.680693Z",
     "start_time": "2023-10-11T22:23:42.675358Z"
    }
   },
   "outputs": [],
   "source": [
    "import os, shutil, subprocess\n",
    "\n",
    "os.chdir('../chartbook')"
   ]
  },
  {
   "cell_type": "code",
   "execution_count": 2,
   "metadata": {
    "ExecuteTime": {
     "end_time": "2023-10-11T22:26:33.105534Z",
     "start_time": "2023-10-11T22:23:42.682307Z"
    }
   },
   "outputs": [
    {
     "name": "stderr",
     "output_type": "stream",
     "text": [
      "This is makeindex, version 2.17 [TeX Live 2023] (kpathsea + Thai support).\n",
      "Scanning input file chartbook.idx....done (368 entries accepted, 0 rejected).\n",
      "Sorting entries......done (3365 comparisons).\n",
      "Generating output file chartbook.ind....done (334 lines written, 0 warnings).\n",
      "Output written in chartbook.ind.\n",
      "Transcript written in chartbook.ilg.\n"
     ]
    },
    {
     "name": "stdout",
     "output_type": "stream",
     "text": [
      "0\n"
     ]
    }
   ],
   "source": [
    "# Run chartbook to generate pdf file\n",
    "runcb = subprocess.run(['lualatex', 'chartbook.tex'], stdout=subprocess.DEVNULL)\n",
    "print(runcb.returncode)"
   ]
  },
  {
   "cell_type": "code",
   "execution_count": 3,
   "metadata": {
    "ExecuteTime": {
     "end_time": "2023-10-11T22:26:33.117867Z",
     "start_time": "2023-10-11T22:26:33.107390Z"
    }
   },
   "outputs": [
    {
     "data": {
      "text/plain": [
       "'/home/brian/Documents/bdecon.github.io/chartbook.pdf'"
      ]
     },
     "execution_count": 3,
     "metadata": {},
     "output_type": "execute_result"
    }
   ],
   "source": [
    "# Copy pdf file to personal website folder\n",
    "shutil.copy('chartbook.pdf', '/home/brian/Documents/bdecon.github.io/')"
   ]
  },
  {
   "cell_type": "code",
   "execution_count": null,
   "metadata": {},
   "outputs": [],
   "source": []
  },
  {
   "cell_type": "code",
   "execution_count": null,
   "metadata": {},
   "outputs": [],
   "source": []
  },
  {
   "cell_type": "code",
   "execution_count": null,
   "metadata": {},
   "outputs": [],
   "source": []
  }
 ],
 "metadata": {
  "kernelspec": {
   "display_name": "Python 3 (ipykernel)",
   "language": "python",
   "name": "python3"
  },
  "language_info": {
   "codemirror_mode": {
    "name": "ipython",
    "version": 3
   },
   "file_extension": ".py",
   "mimetype": "text/x-python",
   "name": "python",
   "nbconvert_exporter": "python",
   "pygments_lexer": "ipython3",
   "version": "3.8.13"
  }
 },
 "nbformat": 4,
 "nbformat_minor": 4
}
