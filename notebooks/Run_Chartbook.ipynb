{
 "cells": [
  {
   "cell_type": "markdown",
   "metadata": {},
   "source": [
    "### Tools for generating and storing the chartbook"
   ]
  },
  {
   "cell_type": "code",
   "execution_count": 1,
   "metadata": {
    "ExecuteTime": {
     "end_time": "2024-07-26T14:16:36.130108Z",
     "start_time": "2024-07-26T14:16:36.083846Z"
    }
   },
   "outputs": [],
   "source": [
    "import os, shutil, subprocess, datetime\n",
    "from PyPDF2 import PdfFileReader as pdf\n",
    "\n",
    "os.chdir('../chartbook')"
   ]
  },
  {
   "cell_type": "code",
   "execution_count": null,
   "metadata": {
    "ExecuteTime": {
     "start_time": "2024-07-26T14:16:36.086Z"
    }
   },
   "outputs": [],
   "source": [
    "# Run chartbook to generate pdf file\n",
    "runcb = subprocess.run(['lualatex', 'chartbook.tex'], stdout=subprocess.DEVNULL)\n",
    "print(runcb.returncode)"
   ]
  },
  {
   "cell_type": "code",
   "execution_count": null,
   "metadata": {
    "ExecuteTime": {
     "start_time": "2024-07-26T14:16:36.088Z"
    }
   },
   "outputs": [],
   "source": [
    "# Copy pdf file to personal website folder\n",
    "shutil.copy('chartbook.pdf', '/home/brian/Documents/bdecon.github.io/')"
   ]
  },
  {
   "cell_type": "markdown",
   "metadata": {
    "ExecuteTime": {
     "end_time": "2023-11-03T13:28:48.003163Z",
     "start_time": "2023-11-03T13:28:47.999068Z"
    }
   },
   "source": [
    "#### Check document length"
   ]
  },
  {
   "cell_type": "code",
   "execution_count": null,
   "metadata": {
    "ExecuteTime": {
     "start_time": "2024-07-26T14:16:36.090Z"
    }
   },
   "outputs": [],
   "source": [
    "curr_len = 182\n",
    "file = open('chartbook.pdf', 'rb') \n",
    "if pdf(file).numPages == curr_len:\n",
    "    print('Page length correct')\n",
    "else:\n",
    "    print('ERROR! Incorrect page length')"
   ]
  },
  {
   "cell_type": "markdown",
   "metadata": {
    "ExecuteTime": {
     "end_time": "2023-11-20T03:35:49.019352Z",
     "start_time": "2023-11-20T03:35:49.017059Z"
    }
   },
   "source": [
    "#### Save Latest Date"
   ]
  },
  {
   "cell_type": "code",
   "execution_count": null,
   "metadata": {
    "ExecuteTime": {
     "start_time": "2024-07-26T14:16:36.093Z"
    }
   },
   "outputs": [],
   "source": [
    "dt = datetime.date.today().strftime('%B %d, %Y')\n",
    "filename = '/home/brian/Documents/bdecon.github.io/date.txt'\n",
    "with open(filename, 'w') as text_file:\n",
    "        text_file.write(dt)"
   ]
  },
  {
   "cell_type": "code",
   "execution_count": null,
   "metadata": {},
   "outputs": [],
   "source": []
  },
  {
   "cell_type": "code",
   "execution_count": null,
   "metadata": {},
   "outputs": [],
   "source": []
  },
  {
   "cell_type": "code",
   "execution_count": null,
   "metadata": {},
   "outputs": [],
   "source": []
  }
 ],
 "metadata": {
  "kernelspec": {
   "display_name": "Python 3 (ipykernel)",
   "language": "python",
   "name": "python3"
  },
  "language_info": {
   "codemirror_mode": {
    "name": "ipython",
    "version": 3
   },
   "file_extension": ".py",
   "mimetype": "text/x-python",
   "name": "python",
   "nbconvert_exporter": "python",
   "pygments_lexer": "ipython3",
   "version": "3.8.13"
  }
 },
 "nbformat": 4,
 "nbformat_minor": 4
}
