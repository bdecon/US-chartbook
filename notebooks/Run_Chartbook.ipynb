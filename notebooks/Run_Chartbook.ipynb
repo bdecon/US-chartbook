{
 "cells": [
  {
   "cell_type": "markdown",
   "metadata": {},
   "source": [
    "### Tools for generating and storing the chartbook"
   ]
  },
  {
   "cell_type": "code",
   "execution_count": 1,
   "metadata": {
    "ExecuteTime": {
     "end_time": "2023-11-20T17:16:19.268417Z",
     "start_time": "2023-11-20T17:16:19.228309Z"
    }
   },
   "outputs": [],
   "source": [
    "import os, shutil, subprocess, datetime\n",
    "from PyPDF2 import PdfFileReader as pdf\n",
    "\n",
    "os.chdir('../chartbook')"
   ]
  },
  {
   "cell_type": "code",
   "execution_count": 2,
   "metadata": {
    "ExecuteTime": {
     "end_time": "2023-11-20T17:19:19.640511Z",
     "start_time": "2023-11-20T17:16:19.270704Z"
    }
   },
   "outputs": [
    {
     "name": "stderr",
     "output_type": "stream",
     "text": [
      "This is makeindex, version 2.17 [TeX Live 2023] (kpathsea + Thai support).\n",
      "Scanning input file chartbook.idx....done (419 entries accepted, 0 rejected).\n",
      "Sorting entries......done (3775 comparisons).\n",
      "Generating output file chartbook.ind....done (368 lines written, 0 warnings).\n",
      "Output written in chartbook.ind.\n",
      "Transcript written in chartbook.ilg.\n"
     ]
    },
    {
     "name": "stdout",
     "output_type": "stream",
     "text": [
      "0\n"
     ]
    }
   ],
   "source": [
    "# Run chartbook to generate pdf file\n",
    "runcb = subprocess.run(['lualatex', 'chartbook.tex'], stdout=subprocess.DEVNULL)\n",
    "print(runcb.returncode)"
   ]
  },
  {
   "cell_type": "code",
   "execution_count": 3,
   "metadata": {
    "ExecuteTime": {
     "end_time": "2023-11-20T17:19:19.652936Z",
     "start_time": "2023-11-20T17:19:19.642239Z"
    }
   },
   "outputs": [
    {
     "data": {
      "text/plain": [
       "'/home/brian/Documents/bdecon.github.io/chartbook.pdf'"
      ]
     },
     "execution_count": 3,
     "metadata": {},
     "output_type": "execute_result"
    }
   ],
   "source": [
    "# Copy pdf file to personal website folder\n",
    "shutil.copy('chartbook.pdf', '/home/brian/Documents/bdecon.github.io/')"
   ]
  },
  {
   "cell_type": "markdown",
   "metadata": {
    "ExecuteTime": {
     "end_time": "2023-11-03T13:28:48.003163Z",
     "start_time": "2023-11-03T13:28:47.999068Z"
    }
   },
   "source": [
    "#### Check document length"
   ]
  },
  {
   "cell_type": "code",
   "execution_count": 4,
   "metadata": {
    "ExecuteTime": {
     "end_time": "2023-11-20T17:19:19.724420Z",
     "start_time": "2023-11-20T17:19:19.654882Z"
    }
   },
   "outputs": [
    {
     "name": "stdout",
     "output_type": "stream",
     "text": [
      "ERROR! Incorrect page length\n"
     ]
    }
   ],
   "source": [
    "curr_len = 181\n",
    "file = open('chartbook.pdf', 'rb') \n",
    "if pdf(file).numPages == curr_len:\n",
    "    print('Page length correct')\n",
    "else:\n",
    "    print('ERROR! Incorrect page length')"
   ]
  },
  {
   "cell_type": "markdown",
   "metadata": {
    "ExecuteTime": {
     "end_time": "2023-11-20T03:35:49.019352Z",
     "start_time": "2023-11-20T03:35:49.017059Z"
    }
   },
   "source": [
    "#### Save Latest Date"
   ]
  },
  {
   "cell_type": "code",
   "execution_count": 5,
   "metadata": {
    "ExecuteTime": {
     "end_time": "2023-11-20T17:19:19.728571Z",
     "start_time": "2023-11-20T17:19:19.725852Z"
    }
   },
   "outputs": [],
   "source": [
    "dt = datetime.date.today().strftime('%B %d, %Y')\n",
    "filename = '/home/brian/Documents/bdecon.github.io/date.txt'\n",
    "with open(filename, 'w') as text_file:\n",
    "        text_file.write(dt)"
   ]
  },
  {
   "cell_type": "code",
   "execution_count": null,
   "metadata": {},
   "outputs": [],
   "source": []
  },
  {
   "cell_type": "code",
   "execution_count": null,
   "metadata": {},
   "outputs": [],
   "source": []
  },
  {
   "cell_type": "code",
   "execution_count": null,
   "metadata": {},
   "outputs": [],
   "source": []
  }
 ],
 "metadata": {
  "kernelspec": {
   "display_name": "Python 3 (ipykernel)",
   "language": "python",
   "name": "python3"
  },
  "language_info": {
   "codemirror_mode": {
    "name": "ipython",
    "version": 3
   },
   "file_extension": ".py",
   "mimetype": "text/x-python",
   "name": "python",
   "nbconvert_exporter": "python",
   "pygments_lexer": "ipython3",
   "version": "3.8.13"
  }
 },
 "nbformat": 4,
 "nbformat_minor": 4
}
