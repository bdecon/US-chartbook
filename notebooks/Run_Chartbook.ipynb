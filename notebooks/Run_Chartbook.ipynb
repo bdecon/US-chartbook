{
 "cells": [
  {
   "cell_type": "markdown",
   "metadata": {},
   "source": [
    "### Tools for generating and storing the chartbook"
   ]
  },
  {
   "cell_type": "code",
   "execution_count": 1,
   "metadata": {
    "ExecuteTime": {
     "end_time": "2021-08-09T18:06:34.658049Z",
     "start_time": "2021-08-09T18:06:34.646727Z"
    }
   },
   "outputs": [],
   "source": [
    "import os, shutil \n",
    "\n",
    "os.chdir('../chartbook')"
   ]
  },
  {
   "cell_type": "code",
   "execution_count": 2,
   "metadata": {
    "ExecuteTime": {
     "end_time": "2021-08-09T18:08:16.339861Z",
     "start_time": "2021-08-09T18:06:34.660486Z"
    }
   },
   "outputs": [
    {
     "data": {
      "text/plain": [
       "0"
      ]
     },
     "execution_count": 2,
     "metadata": {},
     "output_type": "execute_result"
    }
   ],
   "source": [
    "# Run chartbook to generate pdf file\n",
    "os.system('lualatex chartbook.tex')"
   ]
  },
  {
   "cell_type": "code",
   "execution_count": 3,
   "metadata": {
    "ExecuteTime": {
     "end_time": "2021-08-09T18:08:16.345171Z",
     "start_time": "2021-08-09T18:08:16.341015Z"
    }
   },
   "outputs": [
    {
     "data": {
      "text/plain": [
       "'/home/brian/Documents/bdecon.github.io/chartbook.pdf'"
      ]
     },
     "execution_count": 3,
     "metadata": {},
     "output_type": "execute_result"
    }
   ],
   "source": [
    "# Copy pdf file to personal website folder\n",
    "shutil.copy('chartbook.pdf', '/home/brian/Documents/bdecon.github.io/')"
   ]
  },
  {
   "cell_type": "code",
   "execution_count": null,
   "metadata": {},
   "outputs": [],
   "source": []
  }
 ],
 "metadata": {
  "kernelspec": {
   "display_name": "Python 3",
   "language": "python",
   "name": "python3"
  },
  "language_info": {
   "codemirror_mode": {
    "name": "ipython",
    "version": 3
   },
   "file_extension": ".py",
   "mimetype": "text/x-python",
   "name": "python",
   "nbconvert_exporter": "python",
   "pygments_lexer": "ipython3",
   "version": "3.8.8"
  }
 },
 "nbformat": 4,
 "nbformat_minor": 4
}
