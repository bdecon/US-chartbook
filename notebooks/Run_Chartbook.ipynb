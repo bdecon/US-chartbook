{
 "cells": [
  {
   "cell_type": "markdown",
   "metadata": {},
   "source": [
    "### Tools for generating and storing the chartbook"
   ]
  },
  {
   "cell_type": "code",
   "execution_count": 1,
   "metadata": {
    "ExecuteTime": {
     "end_time": "2020-10-18T13:20:27.366421Z",
     "start_time": "2020-10-18T13:20:27.363849Z"
    }
   },
   "outputs": [],
   "source": [
    "import os, shutil \n",
    "\n",
    "os.chdir('../chartbook')"
   ]
  },
  {
   "cell_type": "code",
   "execution_count": null,
   "metadata": {
    "ExecuteTime": {
     "start_time": "2020-10-18T13:20:27.366Z"
    }
   },
   "outputs": [],
   "source": [
    "# Run chartbook to generate pdf file\n",
    "os.system('lualatex chartbook.tex')"
   ]
  },
  {
   "cell_type": "code",
   "execution_count": null,
   "metadata": {
    "ExecuteTime": {
     "start_time": "2020-10-18T13:20:27.369Z"
    }
   },
   "outputs": [],
   "source": [
    "# Copy pdf file to personal website folder\n",
    "shutil.copy('chartbook.pdf', '/home/brian/Documents/bdecon.github.io/')"
   ]
  },
  {
   "cell_type": "code",
   "execution_count": null,
   "metadata": {},
   "outputs": [],
   "source": []
  }
 ],
 "metadata": {
  "kernelspec": {
   "display_name": "Python 3",
   "language": "python",
   "name": "python3"
  },
  "language_info": {
   "codemirror_mode": {
    "name": "ipython",
    "version": 3
   },
   "file_extension": ".py",
   "mimetype": "text/x-python",
   "name": "python",
   "nbconvert_exporter": "python",
   "pygments_lexer": "ipython3",
   "version": "3.8.6"
  }
 },
 "nbformat": 4,
 "nbformat_minor": 4
}
