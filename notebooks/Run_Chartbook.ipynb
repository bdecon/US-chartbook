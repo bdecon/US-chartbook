{
 "cells": [
  {
   "cell_type": "markdown",
   "metadata": {},
   "source": [
    "### Tools for generating and storing the chartbook"
   ]
  },
  {
   "cell_type": "code",
   "execution_count": 4,
   "metadata": {
    "ExecuteTime": {
     "end_time": "2020-09-18T04:41:40.761899Z",
     "start_time": "2020-09-18T04:41:40.758545Z"
    }
   },
   "outputs": [],
   "source": [
    "import os, shutil \n",
    "\n",
    "os.chdir('../chartbook')"
   ]
  },
  {
   "cell_type": "code",
   "execution_count": 2,
   "metadata": {
    "ExecuteTime": {
     "end_time": "2020-09-18T00:09:13.000484Z",
     "start_time": "2020-09-18T00:07:47.824998Z"
    }
   },
   "outputs": [
    {
     "data": {
      "text/plain": [
       "0"
      ]
     },
     "execution_count": 2,
     "metadata": {},
     "output_type": "execute_result"
    }
   ],
   "source": [
    "# Run chartbook to generate pdf file\n",
    "os.system('lualatex chartbook.tex')"
   ]
  },
  {
   "cell_type": "code",
   "execution_count": 5,
   "metadata": {
    "ExecuteTime": {
     "end_time": "2020-09-18T04:41:42.035685Z",
     "start_time": "2020-09-18T04:41:42.019375Z"
    }
   },
   "outputs": [
    {
     "data": {
      "text/plain": [
       "'/home/brian/Documents/bdecon.github.io/chartbook.pdf'"
      ]
     },
     "execution_count": 5,
     "metadata": {},
     "output_type": "execute_result"
    }
   ],
   "source": [
    "# Copy pdf file to personal website folder\n",
    "shutil.copy('chartbook.pdf', '/home/brian/Documents/bdecon.github.io/')"
   ]
  },
  {
   "cell_type": "code",
   "execution_count": null,
   "metadata": {},
   "outputs": [],
   "source": []
  }
 ],
 "metadata": {
  "kernelspec": {
   "display_name": "Python 3",
   "language": "python",
   "name": "python3"
  },
  "language_info": {
   "codemirror_mode": {
    "name": "ipython",
    "version": 3
   },
   "file_extension": ".py",
   "mimetype": "text/x-python",
   "name": "python",
   "nbconvert_exporter": "python",
   "pygments_lexer": "ipython3",
   "version": "3.8.5"
  }
 },
 "nbformat": 4,
 "nbformat_minor": 4
}
