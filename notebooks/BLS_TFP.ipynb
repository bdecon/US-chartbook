{
 "cells": [
  {
   "cell_type": "markdown",
   "id": "7a17b076",
   "metadata": {},
   "source": [
    "### Total Factor Productivity from BLS"
   ]
  },
  {
   "cell_type": "code",
   "execution_count": 1,
   "id": "86638316",
   "metadata": {
    "ExecuteTime": {
     "end_time": "2023-03-23T14:18:44.296642Z",
     "start_time": "2023-03-23T14:18:43.369834Z"
    }
   },
   "outputs": [],
   "source": [
    "import sys\n",
    "sys.path.append('../src')\n",
    "\n",
    "import uschartbook.config\n",
    "\n",
    "from uschartbook.config import *\n",
    "from uschartbook.utils import *"
   ]
  },
  {
   "cell_type": "code",
   "execution_count": 2,
   "id": "00da10e9",
   "metadata": {
    "ExecuteTime": {
     "end_time": "2023-03-23T14:18:44.901903Z",
     "start_time": "2023-03-23T14:18:44.298371Z"
    }
   },
   "outputs": [],
   "source": [
    "url = ('https://download.bls.gov/pub/time.series/mp/'+\n",
    "       'mp.data.1.AllData')\n",
    "df = pd.read_table(url, sep='\\s+', skipinitialspace=True)"
   ]
  },
  {
   "cell_type": "code",
   "execution_count": 3,
   "id": "02d510ed",
   "metadata": {
    "ExecuteTime": {
     "end_time": "2023-03-23T14:18:44.921541Z",
     "start_time": "2023-03-23T14:18:44.903168Z"
    }
   },
   "outputs": [
    {
     "name": "stdout",
     "output_type": "stream",
     "text": [
      "In 2022, labor productivity decreased by 1.7 percent (see \\begin{tikzpicture} \\node[line width=0.3mm, circle, draw=black, scale=0.4, aspect=0.8] (d) at (0,0) {}; \\end{tikzpicture}). Capital intensity subtracted 0.4 percentage point (see \\cbox{violet!60!white}), and labor composition did not contribute (see \\cbox{blue!60!black}). The remainder, called total factor productivity, subtracted 1.2 percentage points (see \\cbox{cyan!40!white}).\n"
     ]
    }
   ],
   "source": [
    "d = {'TFP': '01', 'Cap': '15', 'Prod': '06', 'Lab': '18'}\n",
    "d = {f'MPU4910{v}3': k for k, v in d.items()}\n",
    "res = (df.loc[df['series_id'].isin(d.keys())]\n",
    "         .set_index(['year', 'series_id'])\n",
    "         .value.unstack().rename(d, axis=1))\n",
    "\n",
    "res.index = [pd.to_datetime(f'{y}-07-01') for y in res.index]\n",
    "res.loc['1989':].to_csv(data_dir / 'tfp.csv', index_label='date')\n",
    "\n",
    "ltdt = dtxt(res.index[-1])['year']\n",
    "lt = res.iloc[-1]\n",
    "tot = value_text(lt.Prod, 'increase_by')\n",
    "o = ('(see \\\\begin{tikzpicture} \\\\node[line width=0.3mm, circle, '+\n",
    "     'draw=black, scale=0.4, aspect=0.8] (d) at (0,0) {}; '+\n",
    "     '\\end{tikzpicture})')\n",
    "cap = value_text(lt.Cap, 'contribution', 'pp', threshold=0.1)\n",
    "lab = value_text(lt.Lab, 'contribution', 'pp', threshold=0.1)\n",
    "tfp = value_text(lt.TFP, 'contribution', 'pp', threshold=0.1, casual=True)\n",
    "colors = {'Cap': 'violet!60!white', 'Lab': 'blue!60!black', \n",
    "          'TFP': 'cyan!40!white'}\n",
    "cb = {name: c_box(col) for name, col in colors.items()}\n",
    "\n",
    "text = (f'In {ltdt}, labor productivity {tot} {o}. Capital '+\n",
    "        f'intensity {cap} {cb[\"Cap\"]}, and labor composition '+\n",
    "        f'{lab} {cb[\"Lab\"]}. The remainder, called total factor '+\n",
    "        f'productivity, {tfp} {cb[\"TFP\"]}.')\n",
    "write_txt(text_dir / 'tfp.txt', text)\n",
    "print(text)"
   ]
  },
  {
   "cell_type": "code",
   "execution_count": null,
   "id": "6fff7dd9",
   "metadata": {},
   "outputs": [],
   "source": []
  },
  {
   "cell_type": "code",
   "execution_count": null,
   "id": "ce26cb60",
   "metadata": {},
   "outputs": [],
   "source": []
  }
 ],
 "metadata": {
  "kernelspec": {
   "display_name": "Python 3 (ipykernel)",
   "language": "python",
   "name": "python3"
  },
  "language_info": {
   "codemirror_mode": {
    "name": "ipython",
    "version": 3
   },
   "file_extension": ".py",
   "mimetype": "text/x-python",
   "name": "python",
   "nbconvert_exporter": "python",
   "pygments_lexer": "ipython3",
   "version": "3.8.13"
  }
 },
 "nbformat": 4,
 "nbformat_minor": 5
}
