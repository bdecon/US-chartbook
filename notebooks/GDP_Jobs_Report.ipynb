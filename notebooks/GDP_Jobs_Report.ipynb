{
 "cells": [
  {
   "cell_type": "markdown",
   "metadata": {},
   "source": [
    "### Combining GDP data with the jobs report"
   ]
  },
  {
   "cell_type": "code",
   "execution_count": 1,
   "metadata": {
    "ExecuteTime": {
     "end_time": "2019-11-11T14:24:18.418765Z",
     "start_time": "2019-11-11T14:24:18.111292Z"
    }
   },
   "outputs": [],
   "source": [
    "%matplotlib inline\n",
    "import sys\n",
    "sys.path.append('../src')\n",
    "\n",
    "import uschartbook.config\n",
    "\n",
    "from uschartbook.config import *\n",
    "from uschartbook.utils import *\n",
    "\n",
    "qtrs = {1: 1, 2: 1, 3: 1, 4: 2, 5:2, 6:2, 7:3, 8:3, 9:3, 10:4, 11:4, 12:4}"
   ]
  },
  {
   "cell_type": "code",
   "execution_count": 2,
   "metadata": {
    "ExecuteTime": {
     "end_time": "2019-11-11T14:24:23.393321Z",
     "start_time": "2019-11-11T14:24:18.419906Z"
    }
   },
   "outputs": [],
   "source": [
    "aah = {}\n",
    "epop = {}\n",
    "cols = ['HRSACTT', 'LFS', 'BASICWGT', 'MONTH', 'PWSSWGT']\n",
    "for year in range(1989, 2021):\n",
    "    if year >= 1998:\n",
    "        wgt = 'PWSSWGT'\n",
    "    else:\n",
    "        wgt = 'BASICWGT'\n",
    "    df = pd.read_feather(cps_dir / f'cps{year}.ft', columns=cols)\n",
    "    ah = (df.query('LFS == \"Employed\"')\n",
    "            .groupby('MONTH').apply(lambda x: np.average(x.HRSACTT, weights=x.BASICWGT)))\n",
    "    aah.update({f'{year}-{month}-01': value for month, value in list(zip(ah.index, ah.values))})\n",
    "    \n",
    "    ep = (df.query('LFS == \"Employed\"').groupby('MONTH')[wgt].sum() / \n",
    "          df.groupby('MONTH')[wgt].sum())\n",
    "    epop.update({f'{year}-{month}-01': value for month, value in list(zip(ep.index, ep.values))})"
   ]
  },
  {
   "cell_type": "code",
   "execution_count": 3,
   "metadata": {
    "ExecuteTime": {
     "end_time": "2019-11-11T14:24:24.711985Z",
     "start_time": "2019-11-11T14:24:23.776418Z"
    }
   },
   "outputs": [
    {
     "name": "stderr",
     "output_type": "stream",
     "text": [
      "/home/brian/miniconda3/lib/python3.8/site-packages/statsmodels/tsa/x13.py:188: X13Warning: NOTE: Unable to test LS2020.Mar due to regression matrix singularity.\n",
      "       The effect of this outlier is already accounted for by other regressors \n",
      "       (usually user-specified or previously identified outliers).\n",
      "  \n",
      " WARNING: At least one visually significant trading day peak has been\n",
      "          found in one or more of the estimated spectra.\n",
      "  warn(errors, X13Warning)\n"
     ]
    }
   ],
   "source": [
    "sm = x13_arima_analysis(pd.Series(epop, index=pd.to_datetime(list(epop.keys()))))\n",
    "epop_sa = sm.trend.resample('QS').mean()\n",
    "sm = x13_arima_analysis(pd.Series(aah, index=pd.to_datetime(list(aah.keys()))))\n",
    "aah_sa = sm.trend.resample('QS').mean()"
   ]
  },
  {
   "cell_type": "code",
   "execution_count": 4,
   "metadata": {
    "ExecuteTime": {
     "end_time": "2019-11-11T14:33:32.859104Z",
     "start_time": "2019-11-11T14:33:32.800244Z"
    }
   },
   "outputs": [],
   "source": [
    "gdp_code = ('T10106', ['A191RX'])\n",
    "pop_code = ('T70100', ['B230RC'])\n",
    "gdp = nipa_df(retrieve_table(gdp_code[0])['Data'], gdp_code[1]).sort_index()\n",
    "pop = nipa_df(retrieve_table(pop_code[0])['Data'], pop_code[1]).sort_index()\n",
    "\n",
    "df = pd.DataFrame()\n",
    "df['epop'] = epop_sa\n",
    "df['pop'] = pop['B230RC']\n",
    "df['hours'] = aah_sa * 52\n",
    "df['gdp'] = gdp['A191RX']\n",
    "df['input'] = (df['pop'] * df['epop']) * df['hours']\n",
    "df['gdpinp'] = df['gdp'] / df['input']\n",
    "\n",
    "\n",
    "df['epop_c'] = ((df['pop'] * df['epop'].mean()) * df['hours']) * df['gdpinp']\n",
    "df['pop_c'] = ((df['pop'].mean() * df['epop']) * df['hours']) * df['gdpinp']\n",
    "df['hours_c'] = ((df['pop'] * df['epop']) * df['hours'].mean()) * df['gdpinp']\n",
    "\n",
    "df_g = growth_rate(df)\n",
    "\n",
    "df_g['pop_contr'] = df_g['gdp'] - df_g['pop_c']\n",
    "df_g['epop_contr'] = df_g['gdp'] - df_g['epop_c']\n",
    "df_g['hours_contr'] = df_g['gdp'] - df_g['hours_c']\n",
    "df_g['prod'] = df_g['gdp'] - df_g['pop_contr'] - df_g['epop_contr'] - df_g['hours_contr']\n",
    "\n",
    "result = df_g[['pop_contr', 'epop_contr', 'hours_contr', 'prod']].round(2)\n",
    "\n",
    "result.to_csv(data_dir / 'gdpjobs.csv', index_label='date')"
   ]
  },
  {
   "cell_type": "code",
   "execution_count": 5,
   "metadata": {},
   "outputs": [
    {
     "data": {
      "text/html": [
       "<div>\n",
       "<style scoped>\n",
       "    .dataframe tbody tr th:only-of-type {\n",
       "        vertical-align: middle;\n",
       "    }\n",
       "\n",
       "    .dataframe tbody tr th {\n",
       "        vertical-align: top;\n",
       "    }\n",
       "\n",
       "    .dataframe thead th {\n",
       "        text-align: right;\n",
       "    }\n",
       "</style>\n",
       "<table border=\"1\" class=\"dataframe\">\n",
       "  <thead>\n",
       "    <tr style=\"text-align: right;\">\n",
       "      <th></th>\n",
       "      <th>pop_contr</th>\n",
       "      <th>epop_contr</th>\n",
       "      <th>hours_contr</th>\n",
       "      <th>prod</th>\n",
       "    </tr>\n",
       "  </thead>\n",
       "  <tbody>\n",
       "    <tr>\n",
       "      <th>1989-01-01</th>\n",
       "      <td>NaN</td>\n",
       "      <td>NaN</td>\n",
       "      <td>NaN</td>\n",
       "      <td>NaN</td>\n",
       "    </tr>\n",
       "    <tr>\n",
       "      <th>1989-04-01</th>\n",
       "      <td>0.93</td>\n",
       "      <td>-0.31</td>\n",
       "      <td>0.28</td>\n",
       "      <td>2.18</td>\n",
       "    </tr>\n",
       "    <tr>\n",
       "      <th>1989-07-01</th>\n",
       "      <td>1.13</td>\n",
       "      <td>0.22</td>\n",
       "      <td>0.24</td>\n",
       "      <td>1.40</td>\n",
       "    </tr>\n",
       "    <tr>\n",
       "      <th>1989-10-01</th>\n",
       "      <td>1.09</td>\n",
       "      <td>-0.02</td>\n",
       "      <td>0.03</td>\n",
       "      <td>-0.31</td>\n",
       "    </tr>\n",
       "    <tr>\n",
       "      <th>1990-01-01</th>\n",
       "      <td>0.94</td>\n",
       "      <td>-0.68</td>\n",
       "      <td>-0.05</td>\n",
       "      <td>4.23</td>\n",
       "    </tr>\n",
       "    <tr>\n",
       "      <th>...</th>\n",
       "      <td>...</td>\n",
       "      <td>...</td>\n",
       "      <td>...</td>\n",
       "      <td>...</td>\n",
       "    </tr>\n",
       "    <tr>\n",
       "      <th>2019-04-01</th>\n",
       "      <td>0.43</td>\n",
       "      <td>-0.28</td>\n",
       "      <td>0.50</td>\n",
       "      <td>1.37</td>\n",
       "    </tr>\n",
       "    <tr>\n",
       "      <th>2019-07-01</th>\n",
       "      <td>0.57</td>\n",
       "      <td>2.32</td>\n",
       "      <td>0.73</td>\n",
       "      <td>-1.52</td>\n",
       "    </tr>\n",
       "    <tr>\n",
       "      <th>2019-10-01</th>\n",
       "      <td>0.56</td>\n",
       "      <td>1.21</td>\n",
       "      <td>0.43</td>\n",
       "      <td>-0.09</td>\n",
       "    </tr>\n",
       "    <tr>\n",
       "      <th>2020-01-01</th>\n",
       "      <td>0.39</td>\n",
       "      <td>-2.74</td>\n",
       "      <td>0.00</td>\n",
       "      <td>-2.65</td>\n",
       "    </tr>\n",
       "    <tr>\n",
       "      <th>2020-04-01</th>\n",
       "      <td>0.00</td>\n",
       "      <td>0.00</td>\n",
       "      <td>0.00</td>\n",
       "      <td>0.00</td>\n",
       "    </tr>\n",
       "  </tbody>\n",
       "</table>\n",
       "<p>126 rows × 4 columns</p>\n",
       "</div>"
      ],
      "text/plain": [
       "            pop_contr  epop_contr  hours_contr  prod\n",
       "1989-01-01        NaN         NaN          NaN   NaN\n",
       "1989-04-01       0.93       -0.31         0.28  2.18\n",
       "1989-07-01       1.13        0.22         0.24  1.40\n",
       "1989-10-01       1.09       -0.02         0.03 -0.31\n",
       "1990-01-01       0.94       -0.68        -0.05  4.23\n",
       "...               ...         ...          ...   ...\n",
       "2019-04-01       0.43       -0.28         0.50  1.37\n",
       "2019-07-01       0.57        2.32         0.73 -1.52\n",
       "2019-10-01       0.56        1.21         0.43 -0.09\n",
       "2020-01-01       0.39       -2.74         0.00 -2.65\n",
       "2020-04-01       0.00        0.00         0.00  0.00\n",
       "\n",
       "[126 rows x 4 columns]"
      ]
     },
     "execution_count": 5,
     "metadata": {},
     "output_type": "execute_result"
    }
   ],
   "source": [
    "result"
   ]
  }
 ],
 "metadata": {
  "kernelspec": {
   "display_name": "Python 3",
   "language": "python",
   "name": "python3"
  },
  "language_info": {
   "codemirror_mode": {
    "name": "ipython",
    "version": 3
   },
   "file_extension": ".py",
   "mimetype": "text/x-python",
   "name": "python",
   "nbconvert_exporter": "python",
   "pygments_lexer": "ipython3",
   "version": "3.8.2"
  }
 },
 "nbformat": 4,
 "nbformat_minor": 2
}
