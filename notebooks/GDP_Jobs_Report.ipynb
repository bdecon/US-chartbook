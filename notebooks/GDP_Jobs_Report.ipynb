{
 "cells": [
  {
   "cell_type": "markdown",
   "metadata": {},
   "source": [
    "### Combining GDP data with the jobs report\n",
    "\n",
    "Brian Dew\n",
    "\n",
    "Updated: September 20, 2020\n",
    "\n",
    "----\n",
    "\n",
    "Notes:\n",
    "\n",
    "The basic idea here is to use the BEA population estimates plus CPS employment rate and hours worked trends to estimate GDP per hour of work. BLS does this process for its productivity and costs report, using much more comprehensive data, however this approximation has proven decent over time.\n",
    "\n",
    "The hard part to this measure is getting hours worked right. All of the published measures are either too-low-frequency or don't have a broad enough definition of workers. I want to capture all workers, regardless of full-time or part-time status or of whether they work for the private sector. Also want to capture second and third jobs. As a result, I selected total actual hours worked from the CPS microdata, specifically finding the trend using x13as with default settings. Hours worked from the CPS microdata have issues around holidays falling in the reference week, and also do not capture hours worked for some important categories of labor such as self-employed persons."
   ]
  },
  {
   "cell_type": "code",
   "execution_count": 16,
   "metadata": {
    "ExecuteTime": {
     "end_time": "2023-05-10T19:08:08.938726Z",
     "start_time": "2023-05-10T19:08:08.934052Z"
    }
   },
   "outputs": [],
   "source": [
    "%matplotlib inline\n",
    "import sys\n",
    "sys.path.append('../src')\n",
    "\n",
    "import uschartbook.config\n",
    "\n",
    "from uschartbook.config import *\n",
    "from uschartbook.utils import *\n",
    "\n",
    "qtrs = {1: 1, 2: 1, 3: 1, 4: 2, 5:2, 6:2, 7:3, 8:3, 9:3, 10:4, 11:4, 12:4}"
   ]
  },
  {
   "cell_type": "code",
   "execution_count": 17,
   "metadata": {
    "ExecuteTime": {
     "end_time": "2023-05-10T19:08:13.375365Z",
     "start_time": "2023-05-10T19:08:08.941268Z"
    }
   },
   "outputs": [],
   "source": [
    "avghrs = lambda x: np.average(x.HRSACTT.replace(-1, 0), weights=x.WGT)\n",
    "aah, epop = {}, {}\n",
    "cols = ['HRSACTT', 'LFS', 'MONTH']\n",
    "for year in range(1989, 2024):\n",
    "    wgt = 'PWSSWGT' if year >= 1998 else 'BASICWGT'\n",
    "    df = pd.read_feather(cps_dir / f'cps{year}.ft', \n",
    "                         columns=cols + [wgt]).rename({wgt: 'WGT'}, axis=1)\n",
    "    emp = df.query('LFS == \"Employed\"')\n",
    "    ah = (emp.groupby('MONTH').apply(avghrs))\n",
    "    aah.update({pd.to_datetime(f'{year}-{month}-01'): value \n",
    "                for month, value in list(zip(ah.index, ah.values))})\n",
    "    ep = (emp.groupby('MONTH').WGT.sum() / df.groupby('MONTH').WGT.sum())\n",
    "    epop.update({pd.to_datetime(f'{year}-{month}-01'): value \n",
    "                 for month, value in list(zip(ep.index, ep.values))})"
   ]
  },
  {
   "cell_type": "code",
   "execution_count": 18,
   "metadata": {
    "ExecuteTime": {
     "end_time": "2023-05-10T19:08:15.268666Z",
     "start_time": "2023-05-10T19:08:13.376494Z"
    }
   },
   "outputs": [
    {
     "name": "stderr",
     "output_type": "stream",
     "text": [
      "/home/brian/miniconda3/lib/python3.8/site-packages/statsmodels/tsa/x13.py:203: X13Warning: NOTE: Unable to test LS2020.Mar due to regression matrix singularity.\n",
      "       The effect of this outlier is already accounted for by other regressors \n",
      "       (usually user-specified or previously identified outliers).\n",
      "\n",
      " NOTE: Unable to test AO2020.Apr due to regression matrix singularity.\n",
      "       The effect of this outlier is already accounted for by other regressors \n",
      "       (usually user-specified or previously identified outliers).\n",
      "\n",
      " NOTE: Unable to test LS2020.May due to regression matrix singularity.\n",
      "       The effect of this outlier is already accounted for by other regressors \n",
      "       (usually user-specified or previously identified outliers).\n",
      "\n",
      " NOTE: Unable to test AO2020.Apr due to regression matrix singularity.\n",
      "       The effect of this outlier is already accounted for by other regressors \n",
      "       (usually user-specified or previously identified outliers).\n",
      "\n",
      " NOTE: Unable to test LS2020.May due to regression matrix singularity.\n",
      "       The effect of this outlier is already accounted for by other regressors \n",
      "       (usually user-specified or previously identified outliers).\n",
      "\n",
      " NOTE: Unable to test AO2020.Mar due to regression matrix singularity.\n",
      "       The effect of this outlier is already accounted for by other regressors \n",
      "       (usually user-specified or previously identified outliers).\n",
      "\n",
      " NOTE: Unable to test AO2020.Mar due to regression matrix singularity.\n",
      "       The effect of this outlier is already accounted for by other regressors \n",
      "       (usually user-specified or previously identified outliers).\n",
      "\n",
      " NOTE: Unable to test AO2020.Apr due to regression matrix singularity.\n",
      "       The effect of this outlier is already accounted for by other regressors \n",
      "       (usually user-specified or previously identified outliers).\n",
      "\n",
      " NOTE: Unable to test LS2020.May due to regression matrix singularity.\n",
      "       The effect of this outlier is already accounted for by other regressors \n",
      "       (usually user-specified or previously identified outliers).\n",
      "  \n",
      " WARNING: At least one visually significant trading day peak has been\n",
      "          found in one or more of the estimated spectra.\n",
      "  warn(errors, X13Warning)\n",
      "/home/brian/miniconda3/lib/python3.8/site-packages/statsmodels/tsa/x13.py:203: X13Warning: WARNING: At least one visually significant trading day peak has been\n",
      "          found in the estimated spectrum of the regARIMA residuals.\n",
      "  \n",
      " WARNING: At least one visually significant trading day peak has been\n",
      "          found in one or more of the estimated spectra.\n",
      "  warn(errors, X13Warning)\n"
     ]
    }
   ],
   "source": [
    "sm = x13_arima_analysis(pd.Series(epop))\n",
    "epop_sa = sm.seasadj.resample('QS').mean()\n",
    "sm = x13_arima_analysis(pd.Series(aah))\n",
    "aah_sa = sm.trend.resample('QS').mean()"
   ]
  },
  {
   "cell_type": "code",
   "execution_count": 19,
   "metadata": {
    "ExecuteTime": {
     "end_time": "2023-05-10T19:08:15.363216Z",
     "start_time": "2023-05-10T19:08:15.271705Z"
    }
   },
   "outputs": [],
   "source": [
    "gdp_code = ('T10106', ['A191RX'])\n",
    "pop_code = ('T70100', ['B230RC'])\n",
    "cd = nipa_df(retrieve_table('T10105')['Data'], ['A191RC'])['A191RC'].iloc[-1]\n",
    "rgdp = nipa_df(retrieve_table('T10106')['Data'], ['A191RX'])\n",
    "gdp = rgdp / rgdp.iloc[-1] * cd\n",
    "pop = nipa_df(retrieve_table(pop_code[0])['Data'], pop_code[1]).sort_index()\n",
    "\n",
    "df = pd.DataFrame()\n",
    "df['epop'] = epop_sa * 100\n",
    "df['pop'] = pop['B230RC'] / 1000\n",
    "#df['hours'] = fred_df('PRS84006023')\n",
    "df['hours'] = aah_sa\n",
    "df['gdp'] = gdp['A191RX']\n",
    "df['input'] = (df['pop'] * (df['epop'] / 100)) * (df['hours'] * 52)\n",
    "df['gdpinp'] = df['gdp'] / df['input']\n",
    "datetxt = dtxt(df['gdpinp'].dropna().index[-1])['qtr1']\n",
    "write_txt(text_dir / 'gdpjobs_ltdt.txt', datetxt)\n",
    "df.to_csv(data_dir / 'gdpjobslvl.csv', index_label='date')\n",
    "\n",
    "df['epop_c'] = ((df['pop'] * df['epop'].mean()) * df['hours']) * df['gdpinp']\n",
    "df['pop_c'] = ((df['pop'].mean() * df['epop']) * df['hours']) * df['gdpinp']\n",
    "df['hours_c'] = ((df['pop'] * df['epop']) * df['hours'].mean()) * df['gdpinp']\n",
    "\n",
    "df_g = growth_rate(df.dropna())\n",
    "\n",
    "df_g['pop_contr'] = df_g['gdp'] - df_g['pop_c']\n",
    "df_g['epop_contr'] = df_g['gdp'] - df_g['epop_c']\n",
    "df_g['hours_contr'] = df_g['gdp'] - df_g['hours_c']\n",
    "df_g['prod'] = (df_g['gdp'] - df_g['pop_contr'] - \n",
    "                df_g['epop_contr'] - df_g['hours_contr'])\n",
    "result = df_g[['pop_contr', 'epop_contr', 'hours_contr', 'prod']].round(2)\n",
    "result.to_csv(data_dir / 'gdpjobs.csv', index_label='date')"
   ]
  },
  {
   "cell_type": "code",
   "execution_count": 20,
   "metadata": {
    "ExecuteTime": {
     "end_time": "2023-05-10T19:08:15.375354Z",
     "start_time": "2023-05-10T19:08:15.364661Z"
    }
   },
   "outputs": [
    {
     "name": "stdout",
     "output_type": "stream",
     "text": [
      "In 2023 Q1, real GDP was equivalent to roughly \\$83.68 per hour of work, compared to \\$84.23 in 2022 Q4, \\$78.83 in 2019 Q4, \\$76.52 in 2015 Q4, and \\$51.26 in the first quarter of 1989.\n",
      "\n",
      "Comparing the latest data to the pre-COVID data covering 2019 Q4, annualized real GDP is \\$26,466 billion in the latest data and \\$25,132 billion in 2019 Q4. Aggregate hours worked total 316 billion in the latest quarter and 319 billion in 2019 Q4. \n",
      "\n",
      "\n",
      "In 2023 Q1, population growth contributed 0.43 percentage point to annualized GDP growth, and, for comparison, added 0.59 percentage point in 2019 Q4. Changes in the employed share of the population contributed 3.49 percentage points in the latest quarter, and added 1.62 percentage points in the fourth quarter of 2019. Changes in average hours worked subtracted 0.27 percentage point from GDP growth in the latest quarter and added 0.33 percentage point in 2019 Q4. Lastly, productivity subtracted 2.59 percentage points from GDP growth in 2023 Q1, compared to a reduction of 0.76 percentage point in 2019 Q4.\n"
     ]
    }
   ],
   "source": [
    "data = df.dropna()\n",
    "\n",
    "ltval = f\"\\${data['gdpinp'].iloc[-1]:.2f}\"\n",
    "prval = f\"\\${data['gdpinp'].iloc[-2]:.2f}\"\n",
    "prdate = dtxt(data['gdpinp'].index[-2])['qtr1']\n",
    "prdt = '2019-10-01'\n",
    "prval2 = f\"\\${data.loc[prdt, 'gdpinp']:.2f}\"\n",
    "prval3 = f\"\\${data.loc['2015-10-01', 'gdpinp']:.2f}\"\n",
    "val89 = f\"\\${data.loc['1989-01-01', 'gdpinp']:.2f}\"\n",
    "gdpval = f\"\\${data['gdp'].iloc[-1] / 1_000:,.0f}\"\n",
    "gdppr = f\"\\${data.loc[prdt, 'gdp'] / 1_000:,.0f}\"\n",
    "agghrs = f\"{data['input'].iloc[-1] / 1_000:,.0f}\"\n",
    "hrspr = f\"{data.loc[prdt, 'input'] / 1_000:,.0f}\"\n",
    "\n",
    "text = (f'In {datetxt}, real GDP was equivalent to roughly {ltval} '+\n",
    "        f'per hour of work, compared to {prval} in {prdate}, {prval2} '+\n",
    "        f'in 2019 Q4, {prval3} in 2015 Q4, and {val89} in the first quarter '+\n",
    "        'of 1989.\\n\\nComparing the latest data to the pre-COVID data covering '+\n",
    "        f'2019 Q4, annualized real GDP is {gdpval} billion in the latest data '+\n",
    "        f'and {gdppr} billion in 2019 Q4. Aggregate hours worked total '+\n",
    "        f'{agghrs} billion in the latest quarter and {hrspr} billion '+\n",
    "        'in 2019 Q4.')\n",
    "write_txt(text_dir / 'gdp_per_hour.txt', text)\n",
    "print(text, '\\n\\n')\n",
    "\n",
    "poplt = value_text(result['pop_contr'].iloc[-1], style='contribution_to', \n",
    "                   ptype='pp', digits=2)\n",
    "poppr = value_text(result.loc[prdt, 'pop_contr'], style='contribution', \n",
    "                   ptype='pp', digits=2, casual=True)\n",
    "emplt = value_text(result['epop_contr'].iloc[-1], style='contribution', \n",
    "                   ptype='pp', digits=2)\n",
    "emppr = value_text(result.loc[prdt, 'epop_contr'], style='contribution', \n",
    "                   ptype='pp', digits=2, casual=True)\n",
    "hrslt = value_text(result['hours_contr'].iloc[-1], style='contribution_to', \n",
    "                   ptype='pp', digits=2, casual=True)\n",
    "hrspr = value_text(result.loc[prdt, 'hours_contr'], style='contribution', \n",
    "                   ptype='pp', digits=2, casual=True)\n",
    "prodlt = value_text(result['prod'].iloc[-1], style='contribution_to', \n",
    "                    ptype='pp', digits=2)\n",
    "prodpr = value_text(result.loc[prdt, 'prod'], style='contribution_of', \n",
    "                    ptype='pp', digits=2, casual=True)\n",
    "\n",
    "text = (f'In {datetxt}, population growth {poplt} annualized GDP growth, '+\n",
    "        f'and, for comparison, {poppr} in 2019 Q4. Changes in the '+\n",
    "        f'employed share of the population {emplt} in the latest quarter, '+\n",
    "        f'and {emppr} in the fourth quarter of 2019. Changes in average '+\n",
    "        f'hours worked {hrslt} GDP growth in the latest quarter and {hrspr} '+\n",
    "        f'in 2019 Q4. Lastly, productivity {prodlt} GDP growth in {datetxt}, '+\n",
    "        f'compared to {prodpr} in 2019 Q4.')\n",
    "write_txt(text_dir / 'gdpjobsch.txt', text)\n",
    "print(text)"
   ]
  },
  {
   "cell_type": "code",
   "execution_count": 21,
   "metadata": {
    "ExecuteTime": {
     "end_time": "2023-05-10T19:09:01.156717Z",
     "start_time": "2023-05-10T19:09:01.144755Z"
    }
   },
   "outputs": [
    {
     "data": {
      "text/html": [
       "<div>\n",
       "<style scoped>\n",
       "    .dataframe tbody tr th:only-of-type {\n",
       "        vertical-align: middle;\n",
       "    }\n",
       "\n",
       "    .dataframe tbody tr th {\n",
       "        vertical-align: top;\n",
       "    }\n",
       "\n",
       "    .dataframe thead th {\n",
       "        text-align: right;\n",
       "    }\n",
       "</style>\n",
       "<table border=\"1\" class=\"dataframe\">\n",
       "  <thead>\n",
       "    <tr style=\"text-align: right;\">\n",
       "      <th></th>\n",
       "      <th>epop</th>\n",
       "      <th>pop</th>\n",
       "      <th>hours</th>\n",
       "      <th>gdp</th>\n",
       "      <th>input</th>\n",
       "      <th>gdpinp</th>\n",
       "      <th>epop_c</th>\n",
       "      <th>pop_c</th>\n",
       "      <th>hours_c</th>\n",
       "    </tr>\n",
       "  </thead>\n",
       "  <tbody>\n",
       "    <tr>\n",
       "      <th>1989-01-01</th>\n",
       "      <td>48.433198</td>\n",
       "      <td>246.460</td>\n",
       "      <td>37.432191</td>\n",
       "      <td>1.191117e+07</td>\n",
       "      <td>232347.597440</td>\n",
       "      <td>51.264434</td>\n",
       "      <td>2.266992e+07</td>\n",
       "      <td>2.749434e+07</td>\n",
       "      <td>2.288456e+07</td>\n",
       "    </tr>\n",
       "    <tr>\n",
       "      <th>1989-04-01</th>\n",
       "      <td>48.388751</td>\n",
       "      <td>247.017</td>\n",
       "      <td>37.458858</td>\n",
       "      <td>1.200208e+07</td>\n",
       "      <td>232824.742700</td>\n",
       "      <td>51.549856</td>\n",
       "      <td>2.286393e+07</td>\n",
       "      <td>2.764172e+07</td>\n",
       "      <td>2.304282e+07</td>\n",
       "    </tr>\n",
       "    <tr>\n",
       "      <th>1989-07-01</th>\n",
       "      <td>48.467951</td>\n",
       "      <td>247.698</td>\n",
       "      <td>37.481793</td>\n",
       "      <td>1.209100e+07</td>\n",
       "      <td>233991.919732</td>\n",
       "      <td>51.672735</td>\n",
       "      <td>2.299569e+07</td>\n",
       "      <td>2.776996e+07</td>\n",
       "      <td>2.319933e+07</td>\n",
       "    </tr>\n",
       "    <tr>\n",
       "      <th>1989-10-01</th>\n",
       "      <td>48.425322</td>\n",
       "      <td>248.374</td>\n",
       "      <td>37.485015</td>\n",
       "      <td>1.211483e+07</td>\n",
       "      <td>234444.302088</td>\n",
       "      <td>51.674653</td>\n",
       "      <td>2.306128e+07</td>\n",
       "      <td>2.774895e+07</td>\n",
       "      <td>2.324305e+07</td>\n",
       "    </tr>\n",
       "    <tr>\n",
       "      <th>1990-01-01</th>\n",
       "      <td>48.348861</td>\n",
       "      <td>248.936</td>\n",
       "      <td>37.479470</td>\n",
       "      <td>1.224722e+07</td>\n",
       "      <td>234569.066264</td>\n",
       "      <td>52.211566</td>\n",
       "      <td>2.335016e+07</td>\n",
       "      <td>2.798885e+07</td>\n",
       "      <td>2.350052e+07</td>\n",
       "    </tr>\n",
       "    <tr>\n",
       "      <th>...</th>\n",
       "      <td>...</td>\n",
       "      <td>...</td>\n",
       "      <td>...</td>\n",
       "      <td>...</td>\n",
       "      <td>...</td>\n",
       "      <td>...</td>\n",
       "      <td>...</td>\n",
       "      <td>...</td>\n",
       "      <td>...</td>\n",
       "    </tr>\n",
       "    <tr>\n",
       "      <th>2022-04-01</th>\n",
       "      <td>48.515846</td>\n",
       "      <td>333.321</td>\n",
       "      <td>37.125471</td>\n",
       "      <td>2.602040e+07</td>\n",
       "      <td>312191.878470</td>\n",
       "      <td>83.347446</td>\n",
       "      <td>4.943893e+07</td>\n",
       "      <td>4.441059e+07</td>\n",
       "      <td>5.040521e+07</td>\n",
       "    </tr>\n",
       "    <tr>\n",
       "      <th>2022-07-01</th>\n",
       "      <td>48.639045</td>\n",
       "      <td>333.799</td>\n",
       "      <td>37.078669</td>\n",
       "      <td>2.622886e+07</td>\n",
       "      <td>313038.352314</td>\n",
       "      <td>83.788007</td>\n",
       "      <td>4.970878e+07</td>\n",
       "      <td>4.470229e+07</td>\n",
       "      <td>5.087317e+07</td>\n",
       "    </tr>\n",
       "    <tr>\n",
       "      <th>2022-10-01</th>\n",
       "      <td>48.682533</td>\n",
       "      <td>334.282</td>\n",
       "      <td>37.034241</td>\n",
       "      <td>2.639604e+07</td>\n",
       "      <td>313395.643390</td>\n",
       "      <td>84.225937</td>\n",
       "      <td>4.998093e+07</td>\n",
       "      <td>4.492222e+07</td>\n",
       "      <td>5.125885e+07</td>\n",
       "    </tr>\n",
       "    <tr>\n",
       "      <th>2023-01-01</th>\n",
       "      <td>49.111742</td>\n",
       "      <td>334.641</td>\n",
       "      <td>37.009797</td>\n",
       "      <td>2.646586e+07</td>\n",
       "      <td>316289.332370</td>\n",
       "      <td>83.676123</td>\n",
       "      <td>4.967518e+07</td>\n",
       "      <td>4.499273e+07</td>\n",
       "      <td>5.142839e+07</td>\n",
       "    </tr>\n",
       "    <tr>\n",
       "      <th>2023-04-01</th>\n",
       "      <td>49.220589</td>\n",
       "      <td>NaN</td>\n",
       "      <td>37.011551</td>\n",
       "      <td>NaN</td>\n",
       "      <td>NaN</td>\n",
       "      <td>NaN</td>\n",
       "      <td>NaN</td>\n",
       "      <td>NaN</td>\n",
       "      <td>NaN</td>\n",
       "    </tr>\n",
       "  </tbody>\n",
       "</table>\n",
       "<p>138 rows × 9 columns</p>\n",
       "</div>"
      ],
      "text/plain": [
       "                 epop      pop      hours           gdp          input  \\\n",
       "1989-01-01  48.433198  246.460  37.432191  1.191117e+07  232347.597440   \n",
       "1989-04-01  48.388751  247.017  37.458858  1.200208e+07  232824.742700   \n",
       "1989-07-01  48.467951  247.698  37.481793  1.209100e+07  233991.919732   \n",
       "1989-10-01  48.425322  248.374  37.485015  1.211483e+07  234444.302088   \n",
       "1990-01-01  48.348861  248.936  37.479470  1.224722e+07  234569.066264   \n",
       "...               ...      ...        ...           ...            ...   \n",
       "2022-04-01  48.515846  333.321  37.125471  2.602040e+07  312191.878470   \n",
       "2022-07-01  48.639045  333.799  37.078669  2.622886e+07  313038.352314   \n",
       "2022-10-01  48.682533  334.282  37.034241  2.639604e+07  313395.643390   \n",
       "2023-01-01  49.111742  334.641  37.009797  2.646586e+07  316289.332370   \n",
       "2023-04-01  49.220589      NaN  37.011551           NaN            NaN   \n",
       "\n",
       "               gdpinp        epop_c         pop_c       hours_c  \n",
       "1989-01-01  51.264434  2.266992e+07  2.749434e+07  2.288456e+07  \n",
       "1989-04-01  51.549856  2.286393e+07  2.764172e+07  2.304282e+07  \n",
       "1989-07-01  51.672735  2.299569e+07  2.776996e+07  2.319933e+07  \n",
       "1989-10-01  51.674653  2.306128e+07  2.774895e+07  2.324305e+07  \n",
       "1990-01-01  52.211566  2.335016e+07  2.798885e+07  2.350052e+07  \n",
       "...               ...           ...           ...           ...  \n",
       "2022-04-01  83.347446  4.943893e+07  4.441059e+07  5.040521e+07  \n",
       "2022-07-01  83.788007  4.970878e+07  4.470229e+07  5.087317e+07  \n",
       "2022-10-01  84.225937  4.998093e+07  4.492222e+07  5.125885e+07  \n",
       "2023-01-01  83.676123  4.967518e+07  4.499273e+07  5.142839e+07  \n",
       "2023-04-01        NaN           NaN           NaN           NaN  \n",
       "\n",
       "[138 rows x 9 columns]"
      ]
     },
     "execution_count": 21,
     "metadata": {},
     "output_type": "execute_result"
    }
   ],
   "source": [
    "df"
   ]
  },
  {
   "cell_type": "code",
   "execution_count": 8,
   "metadata": {
    "ExecuteTime": {
     "end_time": "2023-05-10T13:46:17.942977Z",
     "start_time": "2023-05-10T13:46:17.937943Z"
    }
   },
   "outputs": [],
   "source": [
    "df2 = pd.read_csv(data_dir / 'lprod.csv', index_col='date', parse_dates=True)"
   ]
  },
  {
   "cell_type": "code",
   "execution_count": 10,
   "metadata": {
    "ExecuteTime": {
     "end_time": "2023-05-10T13:46:29.316066Z",
     "start_time": "2023-05-10T13:46:29.311384Z"
    }
   },
   "outputs": [
    {
     "data": {
      "text/plain": [
       "date\n",
       "1989-01-01    0.2\n",
       "1989-04-01    1.2\n",
       "1989-07-01    1.9\n",
       "1989-10-01    0.0\n",
       "1990-01-01    3.8\n",
       "             ... \n",
       "2022-01-01   -6.0\n",
       "2022-04-01   -3.7\n",
       "2022-07-01    1.2\n",
       "2022-10-01    1.6\n",
       "2023-01-01   -2.7\n",
       "Name: value, Length: 137, dtype: float64"
      ]
     },
     "execution_count": 10,
     "metadata": {},
     "output_type": "execute_result"
    }
   ],
   "source": [
    "df2['value']"
   ]
  },
  {
   "cell_type": "code",
   "execution_count": 11,
   "metadata": {
    "ExecuteTime": {
     "end_time": "2023-05-10T13:46:46.330805Z",
     "start_time": "2023-05-10T13:46:46.325347Z"
    }
   },
   "outputs": [
    {
     "data": {
      "text/plain": [
       "1989-01-01         NaN\n",
       "1989-04-01    2.245742\n",
       "1989-07-01    0.956916\n",
       "1989-10-01    0.014886\n",
       "1990-01-01    4.221378\n",
       "                ...   \n",
       "2022-01-01   -5.236410\n",
       "2022-04-01   -2.822727\n",
       "2022-07-01    2.154975\n",
       "2022-10-01    2.086390\n",
       "2023-01-01   -2.666472\n",
       "Freq: QS-JAN, Name: gdpinp, Length: 137, dtype: float64"
      ]
     },
     "execution_count": 11,
     "metadata": {},
     "output_type": "execute_result"
    }
   ],
   "source": [
    "growth_rate(df['gdpinp'].dropna())"
   ]
  },
  {
   "cell_type": "code",
   "execution_count": null,
   "metadata": {},
   "outputs": [],
   "source": []
  },
  {
   "cell_type": "code",
   "execution_count": 14,
   "metadata": {
    "ExecuteTime": {
     "end_time": "2023-05-10T13:47:45.442431Z",
     "start_time": "2023-05-10T13:47:45.437762Z"
    }
   },
   "outputs": [],
   "source": [
    "final = pd.concat([df2['value'], growth_rate(df['gdpinp'].dropna())], axis=1)"
   ]
  },
  {
   "cell_type": "code",
   "execution_count": 15,
   "metadata": {
    "ExecuteTime": {
     "end_time": "2023-05-10T13:47:50.747472Z",
     "start_time": "2023-05-10T13:47:50.573195Z"
    }
   },
   "outputs": [
    {
     "data": {
      "text/plain": [
       "<AxesSubplot: >"
      ]
     },
     "execution_count": 15,
     "metadata": {},
     "output_type": "execute_result"
    },
    {
     "data": {
      "image/png": "[encoded data removed]",
      "text/plain": [
       "<Figure size 640x480 with 1 Axes>"
      ]
     },
     "metadata": {},
     "output_type": "display_data"
    }
   ],
   "source": [
    "final.plot()"
   ]
  },
  {
   "cell_type": "code",
   "execution_count": null,
   "metadata": {},
   "outputs": [],
   "source": []
  },
  {
   "cell_type": "code",
   "execution_count": 7,
   "metadata": {
    "ExecuteTime": {
     "end_time": "2023-05-10T13:45:17.677070Z",
     "start_time": "2023-05-10T13:45:17.487767Z"
    }
   },
   "outputs": [
    {
     "data": {
      "text/plain": [
       "<AxesSubplot: >"
      ]
     },
     "execution_count": 7,
     "metadata": {},
     "output_type": "execute_result"
    },
    {
     "data": {
      "image/png": "[encoded data removed]",
      "text/plain": [
       "<Figure size 640x480 with 1 Axes>"
      ]
     },
     "metadata": {},
     "output_type": "display_data"
    }
   ],
   "source": [
    "growth_rate(df['gdpinp'].dropna()).iloc[-12:].plot(kind='bar')"
   ]
  },
  {
   "cell_type": "code",
   "execution_count": null,
   "metadata": {},
   "outputs": [],
   "source": []
  },
  {
   "cell_type": "code",
   "execution_count": null,
   "metadata": {},
   "outputs": [],
   "source": []
  }
 ],
 "metadata": {
  "kernelspec": {
   "display_name": "Python 3 (ipykernel)",
   "language": "python",
   "name": "python3"
  },
  "language_info": {
   "codemirror_mode": {
    "name": "ipython",
    "version": 3
   },
   "file_extension": ".py",
   "mimetype": "text/x-python",
   "name": "python",
   "nbconvert_exporter": "python",
   "pygments_lexer": "ipython3",
   "version": "3.8.13"
  }
 },
 "nbformat": 4,
 "nbformat_minor": 2
}
