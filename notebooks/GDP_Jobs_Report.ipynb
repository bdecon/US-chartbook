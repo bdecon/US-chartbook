{
 "cells": [
  {
   "cell_type": "markdown",
   "metadata": {},
   "source": [
    "### Combining GDP data with the jobs report\n",
    "\n",
    "Brian Dew\n",
    "\n",
    "Updated: September 20, 2020\n",
    "\n",
    "----\n",
    "\n",
    "Notes:\n",
    "\n",
    "The basic idea here is to use the BEA population estimates plus CPS employment rate and hours worked trends to estimate GDP per hour of work. BLS does this process for its productivity and costs report, using much more comprehensive data, however this approximation has proven decent over time.\n",
    "\n",
    "The hard part to this measure is getting hours worked right. All of the published measures are either too-low-frequency or don't have a broad enough definition of workers. I want to capture all workers, regardless of full-time or part-time status or of whether they work for the private sector. Also want to capture second and third jobs. As a result, I selected total actual hours worked from the CPS microdata, specifically finding the trend using x13as with default settings. Hours worked from the CPS microdata have issues around holidays falling in the reference week, and also do not capture hours worked for some important categories of labor such as self-employed persons."
   ]
  },
  {
   "cell_type": "code",
   "execution_count": 1,
   "metadata": {
    "ExecuteTime": {
     "end_time": "2022-11-12T21:05:48.149916Z",
     "start_time": "2022-11-12T21:05:46.823535Z"
    }
   },
   "outputs": [],
   "source": [
    "%matplotlib inline\n",
    "import sys\n",
    "sys.path.append('../src')\n",
    "\n",
    "import uschartbook.config\n",
    "\n",
    "from uschartbook.config import *\n",
    "from uschartbook.utils import *\n",
    "\n",
    "qtrs = {1: 1, 2: 1, 3: 1, 4: 2, 5:2, 6:2, 7:3, 8:3, 9:3, 10:4, 11:4, 12:4}"
   ]
  },
  {
   "cell_type": "code",
   "execution_count": 2,
   "metadata": {
    "ExecuteTime": {
     "end_time": "2022-11-12T21:05:53.017947Z",
     "start_time": "2022-11-12T21:05:48.151502Z"
    }
   },
   "outputs": [],
   "source": [
    "avghrs = lambda x: np.average(x.HRSACTT.replace(-1, 0), weights=x.WGT)\n",
    "aah, epop = {}, {}\n",
    "cols = ['HRSACTT', 'LFS', 'MONTH']\n",
    "for year in range(1989, 2023):\n",
    "    wgt = 'PWSSWGT' if year >= 1998 else 'BASICWGT'\n",
    "    df = pd.read_feather(cps_dir / f'cps{year}.ft', \n",
    "                         columns=cols + [wgt]).rename({wgt: 'WGT'}, axis=1)\n",
    "    emp = df.query('LFS == \"Employed\"')\n",
    "    ah = (emp.groupby('MONTH').apply(avghrs))\n",
    "    aah.update({pd.to_datetime(f'{year}-{month}-01'): value \n",
    "                for month, value in list(zip(ah.index, ah.values))})\n",
    "    ep = (emp.groupby('MONTH').WGT.sum() / df.groupby('MONTH').WGT.sum())\n",
    "    epop.update({pd.to_datetime(f'{year}-{month}-01'): value \n",
    "                 for month, value in list(zip(ep.index, ep.values))})"
   ]
  },
  {
   "cell_type": "code",
   "execution_count": 3,
   "metadata": {
    "ExecuteTime": {
     "end_time": "2022-11-12T21:05:54.833457Z",
     "start_time": "2022-11-12T21:05:53.019110Z"
    }
   },
   "outputs": [
    {
     "name": "stderr",
     "output_type": "stream",
     "text": [
      "/home/brian/miniconda3/lib/python3.8/site-packages/statsmodels/tsa/x13.py:203: X13Warning: NOTE: Unable to test AO2020.Mar due to regression matrix singularity.\n",
      "       The effect of this outlier is already accounted for by other regressors \n",
      "       (usually user-specified or previously identified outliers).\n",
      "\n",
      " NOTE: Unable to test LS2020.May due to regression matrix singularity.\n",
      "       The effect of this outlier is already accounted for by other regressors \n",
      "       (usually user-specified or previously identified outliers).\n",
      "\n",
      " NOTE: Unable to test LS2020.Mar due to regression matrix singularity.\n",
      "       The effect of this outlier is already accounted for by other regressors \n",
      "       (usually user-specified or previously identified outliers).\n",
      "\n",
      " NOTE: Unable to test AO2020.Apr due to regression matrix singularity.\n",
      "       The effect of this outlier is already accounted for by other regressors \n",
      "       (usually user-specified or previously identified outliers).\n",
      "\n",
      " NOTE: Unable to test LS2020.May due to regression matrix singularity.\n",
      "       The effect of this outlier is already accounted for by other regressors \n",
      "       (usually user-specified or previously identified outliers).\n",
      "  \n",
      " WARNING: At least one visually significant trading day peak has been\n",
      "          found in one or more of the estimated spectra.\n",
      "  warn(errors, X13Warning)\n",
      "/home/brian/miniconda3/lib/python3.8/site-packages/statsmodels/tsa/x13.py:203: X13Warning: WARNING: At least one visually significant trading day peak has been\n",
      "          found in the estimated spectrum of the regARIMA residuals.\n",
      "  \n",
      " WARNING: At least one visually significant trading day peak has been\n",
      "          found in one or more of the estimated spectra.\n",
      "  warn(errors, X13Warning)\n"
     ]
    }
   ],
   "source": [
    "sm = x13_arima_analysis(pd.Series(epop))\n",
    "epop_sa = sm.seasadj.resample('QS').mean()\n",
    "sm = x13_arima_analysis(pd.Series(aah))\n",
    "aah_sa = sm.trend.resample('QS').mean()"
   ]
  },
  {
   "cell_type": "code",
   "execution_count": 4,
   "metadata": {
    "ExecuteTime": {
     "end_time": "2022-11-12T21:05:54.932338Z",
     "start_time": "2022-11-12T21:05:54.835747Z"
    }
   },
   "outputs": [],
   "source": [
    "gdp_code = ('T10106', ['A191RX'])\n",
    "pop_code = ('T70100', ['B230RC'])\n",
    "cd = nipa_df(retrieve_table('T10105')['Data'], ['A191RC'])['A191RC'].iloc[-1]\n",
    "rgdp = nipa_df(retrieve_table('T10106')['Data'], ['A191RX'])\n",
    "gdp = rgdp / rgdp.iloc[-1] * cd\n",
    "pop = nipa_df(retrieve_table(pop_code[0])['Data'], pop_code[1]).sort_index()\n",
    "\n",
    "df = pd.DataFrame()\n",
    "df['epop'] = epop_sa * 100\n",
    "df['pop'] = pop['B230RC'] / 1000\n",
    "#df['hours'] = fred_df('PRS84006023')\n",
    "df['hours'] = aah_sa\n",
    "df['gdp'] = gdp['A191RX']\n",
    "df['input'] = (df['pop'] * (df['epop'] / 100)) * (df['hours'] * 52)\n",
    "df['gdpinp'] = df['gdp'] / df['input']\n",
    "datetxt = dtxt(df['gdpinp'].dropna().index[-1])['qtr1']\n",
    "write_txt(text_dir / 'gdpjobs_ltdt.txt', datetxt)\n",
    "df.to_csv(data_dir / 'gdpjobslvl.csv', index_label='date')\n",
    "\n",
    "df['epop_c'] = ((df['pop'] * df['epop'].mean()) * df['hours']) * df['gdpinp']\n",
    "df['pop_c'] = ((df['pop'].mean() * df['epop']) * df['hours']) * df['gdpinp']\n",
    "df['hours_c'] = ((df['pop'] * df['epop']) * df['hours'].mean()) * df['gdpinp']\n",
    "\n",
    "df_g = growth_rate(df.dropna())\n",
    "\n",
    "df_g['pop_contr'] = df_g['gdp'] - df_g['pop_c']\n",
    "df_g['epop_contr'] = df_g['gdp'] - df_g['epop_c']\n",
    "df_g['hours_contr'] = df_g['gdp'] - df_g['hours_c']\n",
    "df_g['prod'] = (df_g['gdp'] - df_g['pop_contr'] - \n",
    "                df_g['epop_contr'] - df_g['hours_contr'])\n",
    "result = df_g[['pop_contr', 'epop_contr', 'hours_contr', 'prod']].round(2)\n",
    "result.to_csv(data_dir / 'gdpjobs.csv', index_label='date')"
   ]
  },
  {
   "cell_type": "code",
   "execution_count": 5,
   "metadata": {
    "ExecuteTime": {
     "end_time": "2022-11-12T21:05:54.945592Z",
     "start_time": "2022-11-12T21:05:54.933803Z"
    }
   },
   "outputs": [
    {
     "name": "stdout",
     "output_type": "stream",
     "text": [
      "In 2022 Q3, real GDP was equivalent to roughly \\$82.01 per hour of work, compared to \\$81.75 in 2022 Q2, \\$77.26 in 2019 Q4, \\$74.99 in 2015 Q4, and \\$50.24 in the first quarter of 1989.\n",
      "\n",
      "Comparing the latest data to the pre-COVID data covering 2019 Q4, annualized real GDP is \\$25,663 billion in the latest data and \\$24,630 billion in 2019 Q4. Aggregate hours worked total 313 billion in the latest quarter and 319 billion in 2019 Q4. \n",
      "\n",
      "\n",
      "In 2022 Q3, population growth contributed 0.37 percentage point to annualized GDP growth, and, for comparison, added 0.59 percentage point in 2019 Q4. Changes in the employed share of the population contributed 0.84 percentage point in the latest quarter, and added 1.61 percentage points in the fourth quarter of 2019. Changes in average hours worked added 0.09 percentage point to GDP growth in the latest quarter and added 0.35 percentage point in 2019 Q4. Lastly, productivity contributed 1.26 percentage points to GDP growth in 2022 Q3, compared to a reduction of 0.76 percentage point in 2019 Q4.\n"
     ]
    }
   ],
   "source": [
    "data = df.dropna()\n",
    "\n",
    "ltval = f\"\\${data['gdpinp'].iloc[-1]:.2f}\"\n",
    "prval = f\"\\${data['gdpinp'].iloc[-2]:.2f}\"\n",
    "prdate = dtxt(data['gdpinp'].index[-2])['qtr1']\n",
    "prdt = '2019-10-01'\n",
    "prval2 = f\"\\${data.loc[prdt, 'gdpinp']:.2f}\"\n",
    "prval3 = f\"\\${data.loc['2015-10-01', 'gdpinp']:.2f}\"\n",
    "val89 = f\"\\${data.loc['1989-01-01', 'gdpinp']:.2f}\"\n",
    "gdpval = f\"\\${data['gdp'].iloc[-1] / 1_000:,.0f}\"\n",
    "gdppr = f\"\\${data.loc[prdt, 'gdp'] / 1_000:,.0f}\"\n",
    "agghrs = f\"{data['input'].iloc[-1] / 1_000:,.0f}\"\n",
    "hrspr = f\"{data.loc[prdt, 'input'] / 1_000:,.0f}\"\n",
    "\n",
    "text = (f'In {datetxt}, real GDP was equivalent to roughly {ltval} '+\n",
    "        f'per hour of work, compared to {prval} in {prdate}, {prval2} '+\n",
    "        f'in 2019 Q4, {prval3} in 2015 Q4, and {val89} in the first quarter '+\n",
    "        'of 1989.\\n\\nComparing the latest data to the pre-COVID data covering '+\n",
    "        f'2019 Q4, annualized real GDP is {gdpval} billion in the latest data '+\n",
    "        f'and {gdppr} billion in 2019 Q4. Aggregate hours worked total '+\n",
    "        f'{agghrs} billion in the latest quarter and {hrspr} billion '+\n",
    "        'in 2019 Q4.')\n",
    "write_txt(text_dir / 'gdp_per_hour.txt', text)\n",
    "print(text, '\\n\\n')\n",
    "\n",
    "poplt = value_text(result['pop_contr'].iloc[-1], style='contribution_to', \n",
    "                   ptype='pp', digits=2)\n",
    "poppr = value_text(result.loc[prdt, 'pop_contr'], style='contribution', \n",
    "                   ptype='pp', digits=2, casual=True)\n",
    "emplt = value_text(result['epop_contr'].iloc[-1], style='contribution', \n",
    "                   ptype='pp', digits=2)\n",
    "emppr = value_text(result.loc[prdt, 'epop_contr'], style='contribution', \n",
    "                   ptype='pp', digits=2, casual=True)\n",
    "hrslt = value_text(result['hours_contr'].iloc[-1], style='contribution_to', \n",
    "                   ptype='pp', digits=2, casual=True)\n",
    "hrspr = value_text(result.loc[prdt, 'hours_contr'], style='contribution', \n",
    "                   ptype='pp', digits=2, casual=True)\n",
    "prodlt = value_text(result['prod'].iloc[-1], style='contribution_to', \n",
    "                    ptype='pp', digits=2)\n",
    "prodpr = value_text(result.loc[prdt, 'prod'], style='contribution_of', \n",
    "                    ptype='pp', digits=2, casual=True)\n",
    "\n",
    "text = (f'In {datetxt}, population growth {poplt} annualized GDP growth, '+\n",
    "        f'and, for comparison, {poppr} in 2019 Q4. Changes in the '+\n",
    "        f'employed share of the population {emplt} in the latest quarter, '+\n",
    "        f'and {emppr} in the fourth quarter of 2019. Changes in average '+\n",
    "        f'hours worked {hrslt} GDP growth in the latest quarter and {hrspr} '+\n",
    "        f'in 2019 Q4. Lastly, productivity {prodlt} GDP growth in {datetxt}, '+\n",
    "        f'compared to {prodpr} in 2019 Q4.')\n",
    "write_txt(text_dir / 'gdpjobsch.txt', text)\n",
    "print(text)"
   ]
  },
  {
   "cell_type": "code",
   "execution_count": 6,
   "metadata": {
    "ExecuteTime": {
     "end_time": "2022-11-12T21:05:54.965995Z",
     "start_time": "2022-11-12T21:05:54.947222Z"
    }
   },
   "outputs": [
    {
     "data": {
      "text/html": [
       "<div>\n",
       "<style scoped>\n",
       "    .dataframe tbody tr th:only-of-type {\n",
       "        vertical-align: middle;\n",
       "    }\n",
       "\n",
       "    .dataframe tbody tr th {\n",
       "        vertical-align: top;\n",
       "    }\n",
       "\n",
       "    .dataframe thead th {\n",
       "        text-align: right;\n",
       "    }\n",
       "</style>\n",
       "<table border=\"1\" class=\"dataframe\">\n",
       "  <thead>\n",
       "    <tr style=\"text-align: right;\">\n",
       "      <th></th>\n",
       "      <th>epop</th>\n",
       "      <th>pop</th>\n",
       "      <th>hours</th>\n",
       "      <th>gdp</th>\n",
       "      <th>input</th>\n",
       "      <th>gdpinp</th>\n",
       "      <th>epop_c</th>\n",
       "      <th>pop_c</th>\n",
       "      <th>hours_c</th>\n",
       "    </tr>\n",
       "  </thead>\n",
       "  <tbody>\n",
       "    <tr>\n",
       "      <th>1989-01-01</th>\n",
       "      <td>48.433198</td>\n",
       "      <td>246.460</td>\n",
       "      <td>37.432260</td>\n",
       "      <td>1.167350e+07</td>\n",
       "      <td>232348.021891</td>\n",
       "      <td>50.241459</td>\n",
       "      <td>2.220927e+07</td>\n",
       "      <td>2.689238e+07</td>\n",
       "      <td>2.243204e+07</td>\n",
       "    </tr>\n",
       "    <tr>\n",
       "      <th>1989-04-01</th>\n",
       "      <td>48.388751</td>\n",
       "      <td>247.017</td>\n",
       "      <td>37.458875</td>\n",
       "      <td>1.176260e+07</td>\n",
       "      <td>232824.848740</td>\n",
       "      <td>50.521254</td>\n",
       "      <td>2.239934e+07</td>\n",
       "      <td>2.703653e+07</td>\n",
       "      <td>2.258719e+07</td>\n",
       "    </tr>\n",
       "    <tr>\n",
       "      <th>1989-07-01</th>\n",
       "      <td>48.467951</td>\n",
       "      <td>247.698</td>\n",
       "      <td>37.481756</td>\n",
       "      <td>1.184975e+07</td>\n",
       "      <td>233991.685211</td>\n",
       "      <td>50.641756</td>\n",
       "      <td>2.252842e+07</td>\n",
       "      <td>2.716196e+07</td>\n",
       "      <td>2.274064e+07</td>\n",
       "    </tr>\n",
       "    <tr>\n",
       "      <th>1989-10-01</th>\n",
       "      <td>48.425322</td>\n",
       "      <td>248.374</td>\n",
       "      <td>37.484984</td>\n",
       "      <td>1.187310e+07</td>\n",
       "      <td>234444.109030</td>\n",
       "      <td>50.643626</td>\n",
       "      <td>2.259268e+07</td>\n",
       "      <td>2.714141e+07</td>\n",
       "      <td>2.278349e+07</td>\n",
       "    </tr>\n",
       "    <tr>\n",
       "      <th>1990-01-01</th>\n",
       "      <td>48.348861</td>\n",
       "      <td>248.936</td>\n",
       "      <td>37.479494</td>\n",
       "      <td>1.200285e+07</td>\n",
       "      <td>234569.216302</td>\n",
       "      <td>51.169752</td>\n",
       "      <td>2.287569e+07</td>\n",
       "      <td>2.737606e+07</td>\n",
       "      <td>2.303584e+07</td>\n",
       "    </tr>\n",
       "    <tr>\n",
       "      <th>...</th>\n",
       "      <td>...</td>\n",
       "      <td>...</td>\n",
       "      <td>...</td>\n",
       "      <td>...</td>\n",
       "      <td>...</td>\n",
       "      <td>...</td>\n",
       "      <td>...</td>\n",
       "      <td>...</td>\n",
       "      <td>...</td>\n",
       "    </tr>\n",
       "    <tr>\n",
       "      <th>2021-10-01</th>\n",
       "      <td>47.808361</td>\n",
       "      <td>332.584</td>\n",
       "      <td>37.130975</td>\n",
       "      <td>2.564337e+07</td>\n",
       "      <td>307004.611997</td>\n",
       "      <td>83.527639</td>\n",
       "      <td>4.942508e+07</td>\n",
       "      <td>4.377722e+07</td>\n",
       "      <td>4.967665e+07</td>\n",
       "    </tr>\n",
       "    <tr>\n",
       "      <th>2022-01-01</th>\n",
       "      <td>48.279745</td>\n",
       "      <td>332.749</td>\n",
       "      <td>37.115571</td>\n",
       "      <td>2.553815e+07</td>\n",
       "      <td>310056.770838</td>\n",
       "      <td>82.366031</td>\n",
       "      <td>4.874169e+07</td>\n",
       "      <td>4.357596e+07</td>\n",
       "      <td>4.949334e+07</td>\n",
       "    </tr>\n",
       "    <tr>\n",
       "      <th>2022-04-01</th>\n",
       "      <td>48.537375</td>\n",
       "      <td>332.940</td>\n",
       "      <td>37.121424</td>\n",
       "      <td>2.550121e+07</td>\n",
       "      <td>311939.398783</td>\n",
       "      <td>81.750523</td>\n",
       "      <td>4.841285e+07</td>\n",
       "      <td>4.348798e+07</td>\n",
       "      <td>4.941396e+07</td>\n",
       "    </tr>\n",
       "    <tr>\n",
       "      <th>2022-07-01</th>\n",
       "      <td>48.637137</td>\n",
       "      <td>333.241</td>\n",
       "      <td>37.129911</td>\n",
       "      <td>2.566329e+07</td>\n",
       "      <td>312934.673027</td>\n",
       "      <td>82.008455</td>\n",
       "      <td>4.862062e+07</td>\n",
       "      <td>4.372485e+07</td>\n",
       "      <td>4.971666e+07</td>\n",
       "    </tr>\n",
       "    <tr>\n",
       "      <th>2022-10-01</th>\n",
       "      <td>48.694817</td>\n",
       "      <td>NaN</td>\n",
       "      <td>37.142282</td>\n",
       "      <td>NaN</td>\n",
       "      <td>NaN</td>\n",
       "      <td>NaN</td>\n",
       "      <td>NaN</td>\n",
       "      <td>NaN</td>\n",
       "      <td>NaN</td>\n",
       "    </tr>\n",
       "  </tbody>\n",
       "</table>\n",
       "<p>136 rows × 9 columns</p>\n",
       "</div>"
      ],
      "text/plain": [
       "                 epop      pop      hours           gdp          input  \\\n",
       "1989-01-01  48.433198  246.460  37.432260  1.167350e+07  232348.021891   \n",
       "1989-04-01  48.388751  247.017  37.458875  1.176260e+07  232824.848740   \n",
       "1989-07-01  48.467951  247.698  37.481756  1.184975e+07  233991.685211   \n",
       "1989-10-01  48.425322  248.374  37.484984  1.187310e+07  234444.109030   \n",
       "1990-01-01  48.348861  248.936  37.479494  1.200285e+07  234569.216302   \n",
       "...               ...      ...        ...           ...            ...   \n",
       "2021-10-01  47.808361  332.584  37.130975  2.564337e+07  307004.611997   \n",
       "2022-01-01  48.279745  332.749  37.115571  2.553815e+07  310056.770838   \n",
       "2022-04-01  48.537375  332.940  37.121424  2.550121e+07  311939.398783   \n",
       "2022-07-01  48.637137  333.241  37.129911  2.566329e+07  312934.673027   \n",
       "2022-10-01  48.694817      NaN  37.142282           NaN            NaN   \n",
       "\n",
       "               gdpinp        epop_c         pop_c       hours_c  \n",
       "1989-01-01  50.241459  2.220927e+07  2.689238e+07  2.243204e+07  \n",
       "1989-04-01  50.521254  2.239934e+07  2.703653e+07  2.258719e+07  \n",
       "1989-07-01  50.641756  2.252842e+07  2.716196e+07  2.274064e+07  \n",
       "1989-10-01  50.643626  2.259268e+07  2.714141e+07  2.278349e+07  \n",
       "1990-01-01  51.169752  2.287569e+07  2.737606e+07  2.303584e+07  \n",
       "...               ...           ...           ...           ...  \n",
       "2021-10-01  83.527639  4.942508e+07  4.377722e+07  4.967665e+07  \n",
       "2022-01-01  82.366031  4.874169e+07  4.357596e+07  4.949334e+07  \n",
       "2022-04-01  81.750523  4.841285e+07  4.348798e+07  4.941396e+07  \n",
       "2022-07-01  82.008455  4.862062e+07  4.372485e+07  4.971666e+07  \n",
       "2022-10-01        NaN           NaN           NaN           NaN  \n",
       "\n",
       "[136 rows x 9 columns]"
      ]
     },
     "execution_count": 6,
     "metadata": {},
     "output_type": "execute_result"
    }
   ],
   "source": [
    "df"
   ]
  },
  {
   "cell_type": "code",
   "execution_count": 30,
   "metadata": {
    "ExecuteTime": {
     "end_time": "2022-11-13T00:00:55.187701Z",
     "start_time": "2022-11-13T00:00:55.037028Z"
    }
   },
   "outputs": [
    {
     "data": {
      "text/plain": [
       "<AxesSubplot: >"
      ]
     },
     "execution_count": 30,
     "metadata": {},
     "output_type": "execute_result"
    },
    {
     "data": {
      "image/png": "[encoded data removed]",
      "text/plain": [
       "<Figure size 640x480 with 1 Axes>"
      ]
     },
     "metadata": {},
     "output_type": "display_data"
    }
   ],
   "source": [
    "growth_rate(df['gdpinp'].dropna()).iloc[-12:].plot(kind='bar')"
   ]
  },
  {
   "cell_type": "code",
   "execution_count": null,
   "metadata": {},
   "outputs": [],
   "source": []
  },
  {
   "cell_type": "code",
   "execution_count": null,
   "metadata": {},
   "outputs": [],
   "source": []
  }
 ],
 "metadata": {
  "kernelspec": {
   "display_name": "Python 3 (ipykernel)",
   "language": "python",
   "name": "python3"
  },
  "language_info": {
   "codemirror_mode": {
    "name": "ipython",
    "version": 3
   },
   "file_extension": ".py",
   "mimetype": "text/x-python",
   "name": "python",
   "nbconvert_exporter": "python",
   "pygments_lexer": "ipython3",
   "version": "3.8.13"
  }
 },
 "nbformat": 4,
 "nbformat_minor": 2
}
