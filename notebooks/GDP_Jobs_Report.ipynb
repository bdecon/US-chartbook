{
 "cells": [
  {
   "cell_type": "markdown",
   "metadata": {},
   "source": [
    "### Combining GDP data with the jobs report"
   ]
  },
  {
   "cell_type": "code",
   "execution_count": 1,
   "metadata": {
    "ExecuteTime": {
     "end_time": "2019-11-03T18:13:42.341555Z",
     "start_time": "2019-11-03T18:13:42.022402Z"
    }
   },
   "outputs": [],
   "source": [
    "%matplotlib inline\n",
    "import sys\n",
    "sys.path.append('../src')\n",
    "\n",
    "import uschartbook.config\n",
    "\n",
    "from uschartbook.config import *\n",
    "from uschartbook.utils import *\n",
    "\n",
    "qtrs = {1: 1, 2: 1, 3: 1, 4: 2, 5:2, 6:2, 7:3, 8:3, 9:3, 10:4, 11:4, 12:4}"
   ]
  },
  {
   "cell_type": "code",
   "execution_count": 2,
   "metadata": {
    "ExecuteTime": {
     "end_time": "2019-11-03T18:13:48.694990Z",
     "start_time": "2019-11-03T18:13:43.694879Z"
    }
   },
   "outputs": [],
   "source": [
    "aah = {}\n",
    "epop = {}\n",
    "cols = ['HRSACTT', 'LFS', 'BASICWGT', 'MONTH', 'PWSSWGT']\n",
    "for year in range(1989, 2020):\n",
    "    if year >= 1998:\n",
    "        wgt = 'PWSSWGT'\n",
    "    else:\n",
    "        wgt = 'BASICWGT'\n",
    "    df = pd.read_feather(cps_dir / f'cps{year}.ft', columns=cols)\n",
    "    ah = (df.query('LFS == \"Employed\"')\n",
    "            .groupby('MONTH').apply(lambda x: np.average(x.HRSACTT, weights=x.BASICWGT)))\n",
    "    aah.update({f'{year}-{month}-01': value for month, value in list(zip(ah.index, ah.values))})\n",
    "    \n",
    "    ep = (df.query('LFS == \"Employed\"').groupby('MONTH')[wgt].sum() / \n",
    "          df.groupby('MONTH')[wgt].sum())\n",
    "    epop.update({f'{year}-{month}-01': value for month, value in list(zip(ep.index, ep.values))})"
   ]
  },
  {
   "cell_type": "code",
   "execution_count": 3,
   "metadata": {
    "ExecuteTime": {
     "end_time": "2019-11-03T18:13:49.989940Z",
     "start_time": "2019-11-03T18:13:49.555554Z"
    }
   },
   "outputs": [],
   "source": [
    "import statsmodels.api as sm\n",
    "import os\n",
    "os.environ['X13PATH'] = '/home/brian/Documents/econ_data/micro/x13as/'\n",
    "\n",
    "from statsmodels.tsa.x13 import x13_arima_analysis"
   ]
  },
  {
   "cell_type": "code",
   "execution_count": 4,
   "metadata": {
    "ExecuteTime": {
     "end_time": "2019-11-03T18:13:52.128275Z",
     "start_time": "2019-11-03T18:13:51.107428Z"
    }
   },
   "outputs": [
    {
     "name": "stderr",
     "output_type": "stream",
     "text": [
      "/home/brian/miniconda3/lib/python3.7/site-packages/statsmodels/tsa/x13.py:187: X13Warning: WARNING: At least one visually significant trading day peak has been\n",
      "          found in one or more of the estimated spectra.\n",
      "  warn(errors, X13Warning)\n"
     ]
    }
   ],
   "source": [
    "sm = x13_arima_analysis(pd.Series(epop, index=pd.to_datetime(list(epop.keys()))))\n",
    "epop_sa = sm.trend.resample('QS').mean()\n",
    "sm = x13_arima_analysis(pd.Series(aah, index=pd.to_datetime(list(aah.keys()))))\n",
    "aah_sa = sm.trend.resample('QS').mean()"
   ]
  },
  {
   "cell_type": "code",
   "execution_count": 5,
   "metadata": {
    "ExecuteTime": {
     "end_time": "2019-11-02T02:03:54.858479Z",
     "start_time": "2019-11-02T02:03:54.796874Z"
    }
   },
   "outputs": [],
   "source": [
    "gdp_code = ('T10106', ['A191RX'])\n",
    "pop_code = ('T70100', ['B230RC'])\n",
    "gdp = nipa_df(retrieve_table(gdp_code[0])['Data'], gdp_code[1]).sort_index()\n",
    "pop = nipa_df(retrieve_table(pop_code[0])['Data'], pop_code[1]).sort_index()\n",
    "\n",
    "df = pd.DataFrame()\n",
    "df['epop'] = epop_sa\n",
    "df['pop'] = pop['B230RC']\n",
    "df['hours'] = aah_sa * 52\n",
    "df['gdp'] = gdp['A191RX']\n",
    "df['input'] = (df['pop'] * df['epop']) * df['hours']\n",
    "df['gdpinp'] = df['gdp'] / df['input']\n",
    "\n",
    "\n",
    "df['epop_c'] = ((df['pop'] * df['epop'].mean()) * df['hours']) * df['gdpinp']\n",
    "df['pop_c'] = ((df['pop'].mean() * df['epop']) * df['hours']) * df['gdpinp']\n",
    "df['hours_c'] = ((df['pop'] * df['epop']) * df['hours'].mean()) * df['gdpinp']\n",
    "\n",
    "df_g = growth_rate(df)\n",
    "\n",
    "df_g['pop_contr'] = df_g['gdp'] - df_g['pop_c']\n",
    "df_g['epop_contr'] = df_g['gdp'] - df_g['epop_c']\n",
    "df_g['hours_contr'] = df_g['gdp'] - df_g['hours_c']\n",
    "df_g['prod'] = df_g['gdp'] - df_g['pop_contr'] - df_g['epop_contr'] - df_g['hours_contr']"
   ]
  },
  {
   "cell_type": "code",
   "execution_count": 7,
   "metadata": {
    "ExecuteTime": {
     "end_time": "2019-11-02T02:04:08.350945Z",
     "start_time": "2019-11-02T02:04:08.343643Z"
    }
   },
   "outputs": [],
   "source": [
    "result = df_g[['pop_contr', 'epop_contr', 'hours_contr', 'prod']].round(2)"
   ]
  },
  {
   "cell_type": "code",
   "execution_count": 8,
   "metadata": {
    "ExecuteTime": {
     "end_time": "2019-11-02T02:04:09.208088Z",
     "start_time": "2019-11-02T02:04:09.192858Z"
    }
   },
   "outputs": [],
   "source": [
    "result.to_csv(data_dir / 'gdpjobs.csv', index_label='date')"
   ]
  }
 ],
 "metadata": {
  "kernelspec": {
   "display_name": "Python 3",
   "language": "python",
   "name": "python3"
  },
  "language_info": {
   "codemirror_mode": {
    "name": "ipython",
    "version": 3
   },
   "file_extension": ".py",
   "mimetype": "text/x-python",
   "name": "python",
   "nbconvert_exporter": "python",
   "pygments_lexer": "ipython3",
   "version": "3.7.5"
  }
 },
 "nbformat": 4,
 "nbformat_minor": 2
}
