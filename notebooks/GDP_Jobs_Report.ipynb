{
 "cells": [
  {
   "cell_type": "markdown",
   "metadata": {},
   "source": [
    "### Combining GDP data with the jobs report"
   ]
  },
  {
   "cell_type": "code",
   "execution_count": 1,
   "metadata": {
    "ExecuteTime": {
     "end_time": "2019-08-28T04:32:24.451506Z",
     "start_time": "2019-08-28T04:32:24.093336Z"
    }
   },
   "outputs": [],
   "source": [
    "%matplotlib inline\n",
    "import sys\n",
    "sys.path.append('../src')\n",
    "\n",
    "import uschartbook.config\n",
    "\n",
    "from uschartbook.config import *\n",
    "from uschartbook.utils import *\n",
    "\n",
    "qtrs = {1: 1, 2: 1, 3: 1, 4: 2, 5:2, 6:2, 7:3, 8:3, 9:3, 10:4, 11:4, 12:4}"
   ]
  },
  {
   "cell_type": "code",
   "execution_count": null,
   "metadata": {
    "ExecuteTime": {
     "end_time": "2019-08-27T16:01:13.529392Z",
     "start_time": "2019-08-27T16:01:07.688129Z"
    }
   },
   "outputs": [],
   "source": [
    "aah = {}\n",
    "epop = {}\n",
    "cols = ['HRSACTT', 'LFS', 'BASICWGT', 'MONTH', 'PWSSWGT']\n",
    "for year in range(1989, 2020):\n",
    "    if year >= 1998:\n",
    "        wgt = 'PWSSWGT'\n",
    "    else:\n",
    "        wgt = 'BASICWGT'\n",
    "    df = pd.read_feather(cps_dir / f'cps{year}.ft', columns=cols)\n",
    "    ah = (df.query('LFS == \"Employed\"')\n",
    "            .groupby('MONTH').apply(lambda x: np.average(x.HRSACTT, weights=x.BASICWGT)))\n",
    "    aah.update({f'{year}-{month}-01': value for month, value in list(zip(ah.index, ah.values))})\n",
    "    \n",
    "    ep = (df.query('LFS == \"Employed\"').groupby('MONTH')[wgt].sum() / \n",
    "          df.groupby('MONTH')[wgt].sum())\n",
    "    epop.update({f'{year}-{month}-01': value for month, value in list(zip(ep.index, ep.values))})"
   ]
  },
  {
   "cell_type": "code",
   "execution_count": null,
   "metadata": {
    "ExecuteTime": {
     "end_time": "2019-08-27T16:19:35.123315Z",
     "start_time": "2019-08-27T16:19:35.115300Z"
    },
    "run_control": {
     "marked": false
    }
   },
   "outputs": [],
   "source": [
    "pd.Series(epop).to_csv('epop.csv', index_label='date', header=True)\n",
    "pd.Series(aah).to_csv('aah.csv', index_label='date', header=True)"
   ]
  },
  {
   "cell_type": "markdown",
   "metadata": {},
   "source": [
    "I can't seem to get X-13ARIMA-SEATS running on linux so I've used a virtual machine to convert epop.csv and aah.csv to epop_sa.csv and aah.csv using x13as with default settings."
   ]
  },
  {
   "cell_type": "code",
   "execution_count": 2,
   "metadata": {
    "ExecuteTime": {
     "end_time": "2019-08-28T04:32:26.716464Z",
     "start_time": "2019-08-28T04:32:26.692251Z"
    }
   },
   "outputs": [],
   "source": [
    "epop_sa = (pd.read_csv('raw/epop_sa.csv', header=None, names=['date', 'value'], parse_dates=[0])\n",
    "           .set_index('date').resample('QS').mean())\n",
    "\n",
    "aah_sa = (pd.read_csv('raw/aah_sa.csv', header=None, names=['date', 'value'], parse_dates=[0])\n",
    "           .set_index('date').resample('QS').mean())"
   ]
  },
  {
   "cell_type": "code",
   "execution_count": null,
   "metadata": {
    "ExecuteTime": {
     "end_time": "2019-08-28T01:25:20.003281Z",
     "start_time": "2019-08-28T01:25:19.762557Z"
    }
   },
   "outputs": [],
   "source": [
    "epop_sa.plot();"
   ]
  },
  {
   "cell_type": "code",
   "execution_count": null,
   "metadata": {
    "ExecuteTime": {
     "end_time": "2019-08-28T01:25:22.612140Z",
     "start_time": "2019-08-28T01:25:22.344801Z"
    }
   },
   "outputs": [],
   "source": [
    "aah_sa.plot();"
   ]
  },
  {
   "cell_type": "code",
   "execution_count": 3,
   "metadata": {
    "ExecuteTime": {
     "end_time": "2019-08-28T04:32:30.143739Z",
     "start_time": "2019-08-28T04:32:30.139636Z"
    }
   },
   "outputs": [],
   "source": [
    "gdp_code = ('T10106', ['A191RX'])\n",
    "pop_code = ('T70100', ['B230RC'])"
   ]
  },
  {
   "cell_type": "code",
   "execution_count": 35,
   "metadata": {
    "ExecuteTime": {
     "end_time": "2019-08-28T04:48:19.206896Z",
     "start_time": "2019-08-28T04:48:19.136124Z"
    }
   },
   "outputs": [],
   "source": [
    "gdp_code = ('T10106', ['A191RX'])\n",
    "pop_code = ('T70100', ['B230RC'])\n",
    "gdp = nipa_df(retrieve_table(gdp_code[0])['Data'], gdp_code[1]).sort_index()\n",
    "pop = nipa_df(retrieve_table(pop_code[0])['Data'], pop_code[1]).sort_index()\n",
    "\n",
    "df = pd.DataFrame()\n",
    "df['epop'] = epop_sa['value']\n",
    "df['pop'] = pop['B230RC']\n",
    "df['hours'] = aah_sa['value'] * 52\n",
    "df['gdp'] = gdp['A191RX']\n",
    "df['input'] = (df['pop'] * df['epop']) * df['hours']\n",
    "df['gdpinp'] = df['gdp'] / df['input']\n",
    "\n",
    "\n",
    "df['epop_c'] = ((df['pop'] * df['epop'].mean()) * df['hours']) * df['gdpinp']\n",
    "df['pop_c'] = ((df['pop'].mean() * df['epop']) * df['hours']) * df['gdpinp']\n",
    "df['hours_c'] = ((df['pop'] * df['epop']) * df['hours'].mean()) * df['gdpinp']\n",
    "\n",
    "df_g = growth_rate(df)\n",
    "\n",
    "df_g['pop_contr'] = df_g['gdp'] - df_g['pop_c']\n",
    "df_g['epop_contr'] = df_g['gdp'] - df_g['epop_c']\n",
    "df_g['hours_contr'] = df_g['gdp'] - df_g['hours_c']\n",
    "df_g['prod'] = df_g['gdp'] - df_g['pop_contr'] - df_g['epop_contr'] - df_g['hours_contr']"
   ]
  },
  {
   "cell_type": "code",
   "execution_count": 58,
   "metadata": {
    "ExecuteTime": {
     "end_time": "2019-08-28T04:55:25.560528Z",
     "start_time": "2019-08-28T04:55:25.556133Z"
    }
   },
   "outputs": [],
   "source": [
    "result = df_g[['pop_contr', 'epop_contr', 'hours_contr', 'prod']].round(2)"
   ]
  },
  {
   "cell_type": "code",
   "execution_count": 60,
   "metadata": {
    "ExecuteTime": {
     "end_time": "2019-08-28T04:57:44.402497Z",
     "start_time": "2019-08-28T04:57:44.397725Z"
    }
   },
   "outputs": [],
   "source": [
    "result.to_csv('gdpjobs.csv', index_label='date')"
   ]
  },
  {
   "cell_type": "code",
   "execution_count": null,
   "metadata": {},
   "outputs": [],
   "source": []
  },
  {
   "cell_type": "code",
   "execution_count": null,
   "metadata": {},
   "outputs": [],
   "source": []
  },
  {
   "cell_type": "code",
   "execution_count": null,
   "metadata": {},
   "outputs": [],
   "source": []
  },
  {
   "cell_type": "code",
   "execution_count": null,
   "metadata": {},
   "outputs": [],
   "source": []
  },
  {
   "cell_type": "code",
   "execution_count": null,
   "metadata": {},
   "outputs": [],
   "source": []
  },
  {
   "cell_type": "code",
   "execution_count": null,
   "metadata": {},
   "outputs": [],
   "source": []
  },
  {
   "cell_type": "code",
   "execution_count": 43,
   "metadata": {
    "ExecuteTime": {
     "end_time": "2019-08-28T04:52:32.928577Z",
     "start_time": "2019-08-28T04:52:32.918441Z"
    }
   },
   "outputs": [],
   "source": [
    "df_g[['pop_contr', 'epop_contr', 'hours_contr', 'prod']].fillna('0').to_csv('gdpjobs.csv', index_label='date')"
   ]
  },
  {
   "cell_type": "code",
   "execution_count": 5,
   "metadata": {
    "ExecuteTime": {
     "end_time": "2019-08-28T04:32:31.875571Z",
     "start_time": "2019-08-28T04:32:31.872922Z"
    }
   },
   "outputs": [],
   "source": [
    "df = pd.DataFrame()\n",
    "df['epop'] = epop_sa['value']"
   ]
  },
  {
   "cell_type": "code",
   "execution_count": 6,
   "metadata": {
    "ExecuteTime": {
     "end_time": "2019-08-28T04:32:32.512329Z",
     "start_time": "2019-08-28T04:32:32.506581Z"
    }
   },
   "outputs": [],
   "source": [
    "df['epop'] = epop_sa['value']"
   ]
  },
  {
   "cell_type": "code",
   "execution_count": 7,
   "metadata": {
    "ExecuteTime": {
     "end_time": "2019-08-28T04:32:33.106055Z",
     "start_time": "2019-08-28T04:32:33.097525Z"
    }
   },
   "outputs": [],
   "source": [
    "df['pop'] = pop['B230RC']"
   ]
  },
  {
   "cell_type": "code",
   "execution_count": 8,
   "metadata": {
    "ExecuteTime": {
     "end_time": "2019-08-28T04:32:33.682252Z",
     "start_time": "2019-08-28T04:32:33.677117Z"
    }
   },
   "outputs": [],
   "source": [
    "df['hours'] = aah_sa['value'] * 52"
   ]
  },
  {
   "cell_type": "code",
   "execution_count": 9,
   "metadata": {
    "ExecuteTime": {
     "end_time": "2019-08-28T04:32:34.244009Z",
     "start_time": "2019-08-28T04:32:34.240016Z"
    }
   },
   "outputs": [],
   "source": [
    "df['gdp'] = gdp['A191RX']"
   ]
  },
  {
   "cell_type": "code",
   "execution_count": 10,
   "metadata": {
    "ExecuteTime": {
     "end_time": "2019-08-28T04:32:34.776676Z",
     "start_time": "2019-08-28T04:32:34.773167Z"
    }
   },
   "outputs": [],
   "source": [
    "df['input'] = (df['pop'] * df['epop']) * df['hours']"
   ]
  },
  {
   "cell_type": "code",
   "execution_count": 11,
   "metadata": {
    "ExecuteTime": {
     "end_time": "2019-08-28T04:32:35.414808Z",
     "start_time": "2019-08-28T04:32:35.409739Z"
    }
   },
   "outputs": [],
   "source": [
    "df['gdpinp'] = df['gdp'] / df['input']"
   ]
  },
  {
   "cell_type": "code",
   "execution_count": 20,
   "metadata": {
    "ExecuteTime": {
     "end_time": "2019-08-28T04:39:13.426709Z",
     "start_time": "2019-08-28T04:39:13.420521Z"
    }
   },
   "outputs": [],
   "source": [
    "df['epop_c'] = ((df['pop'] * df['epop'].mean()) * df['hours']) * df['gdpinp']"
   ]
  },
  {
   "cell_type": "code",
   "execution_count": 21,
   "metadata": {
    "ExecuteTime": {
     "end_time": "2019-08-28T04:39:14.200783Z",
     "start_time": "2019-08-28T04:39:14.194570Z"
    }
   },
   "outputs": [],
   "source": [
    "df['pop_c'] = ((df['pop'].mean() * df['epop']) * df['hours']) * df['gdpinp']"
   ]
  },
  {
   "cell_type": "code",
   "execution_count": 22,
   "metadata": {
    "ExecuteTime": {
     "end_time": "2019-08-28T04:39:14.862592Z",
     "start_time": "2019-08-28T04:39:14.857987Z"
    }
   },
   "outputs": [],
   "source": [
    "df['hours_c'] = ((df['pop'] * df['epop']) * df['hours'].mean()) * df['gdpinp']"
   ]
  },
  {
   "cell_type": "code",
   "execution_count": 26,
   "metadata": {
    "ExecuteTime": {
     "end_time": "2019-08-28T04:42:24.344375Z",
     "start_time": "2019-08-28T04:42:24.326385Z"
    }
   },
   "outputs": [],
   "source": [
    "df_g = growth_rate(df)"
   ]
  },
  {
   "cell_type": "code",
   "execution_count": 32,
   "metadata": {
    "ExecuteTime": {
     "end_time": "2019-08-28T04:44:25.603352Z",
     "start_time": "2019-08-28T04:44:25.598206Z"
    }
   },
   "outputs": [
    {
     "data": {
      "text/plain": [
       "date\n",
       "1989-01-01         NaN\n",
       "1989-04-01    3.462486\n",
       "1989-07-01    2.885168\n",
       "1989-10-01    0.770884\n",
       "1990-01-01    4.997588\n",
       "1990-04-01    2.896213\n",
       "1990-07-01    2.492911\n",
       "1990-10-01   -1.088250\n",
       "1991-01-01    0.962365\n",
       "1991-04-01    5.271913\n",
       "1991-07-01    2.969664\n",
       "1991-10-01    2.119167\n",
       "1992-01-01    5.204767\n",
       "1992-04-01    3.850858\n",
       "1992-07-01    4.186364\n",
       "1992-10-01    5.109717\n",
       "1993-01-01    0.483271\n",
       "1993-04-01    0.964048\n",
       "1993-07-01    0.671837\n",
       "1993-10-01    4.209559\n",
       "1994-01-01    2.708130\n",
       "1994-04-01    5.033303\n",
       "1994-07-01    0.297136\n",
       "1994-10-01    1.842336\n",
       "1995-01-01    1.147113\n",
       "1995-04-01    2.098810\n",
       "1995-07-01    3.770459\n",
       "1995-10-01    3.210838\n",
       "1996-01-01    2.965462\n",
       "1996-04-01    4.709948\n",
       "                ...   \n",
       "2012-04-01    1.324932\n",
       "2012-07-01   -0.572013\n",
       "2012-10-01   -0.125864\n",
       "2013-01-01    4.699631\n",
       "2013-04-01   -0.428418\n",
       "2013-07-01    1.926386\n",
       "2013-10-01    3.465894\n",
       "2014-01-01   -2.543939\n",
       "2014-04-01    4.242518\n",
       "2014-07-01    4.409421\n",
       "2014-10-01    0.496511\n",
       "2015-01-01    2.684749\n",
       "2015-04-01    2.464409\n",
       "2015-07-01    0.930435\n",
       "2015-10-01   -1.596022\n",
       "2016-01-01    0.433261\n",
       "2016-04-01    1.764340\n",
       "2016-07-01    1.566358\n",
       "2016-10-01    2.004617\n",
       "2017-01-01    1.099701\n",
       "2017-04-01    0.979857\n",
       "2017-07-01    2.335479\n",
       "2017-10-01    3.611546\n",
       "2018-01-01    1.690941\n",
       "2018-04-01    1.635864\n",
       "2018-07-01    2.190344\n",
       "2018-10-01   -0.271120\n",
       "2019-01-01    3.147768\n",
       "2019-04-01    2.801041\n",
       "2019-07-01    0.000000\n",
       "Freq: QS-JAN, Name: epop_c, Length: 123, dtype: float64"
      ]
     },
     "execution_count": 32,
     "metadata": {},
     "output_type": "execute_result"
    }
   ],
   "source": [
    "df_g['epop_c']"
   ]
  },
  {
   "cell_type": "code",
   "execution_count": 34,
   "metadata": {
    "ExecuteTime": {
     "end_time": "2019-08-28T04:45:03.047597Z",
     "start_time": "2019-08-28T04:45:03.040330Z"
    }
   },
   "outputs": [
    {
     "data": {
      "text/plain": [
       "date\n",
       "1989-01-01         NaN\n",
       "1989-04-01    0.926676\n",
       "1989-07-01    1.128018\n",
       "1989-10-01    1.092815\n",
       "1990-01-01    0.939979\n",
       "1990-04-01    1.253703\n",
       "1990-07-01    1.407331\n",
       "1990-10-01    1.352979\n",
       "1991-01-01    1.202059\n",
       "1991-04-01    1.306312\n",
       "1991-07-01    1.441896\n",
       "1991-10-01    1.377650\n",
       "1992-01-01    1.225590\n",
       "1992-04-01    1.383883\n",
       "1992-07-01    1.522339\n",
       "1992-10-01    1.430974\n",
       "1993-01-01    1.179339\n",
       "1993-04-01    1.234431\n",
       "1993-07-01    1.381533\n",
       "1993-10-01    1.338284\n",
       "1994-01-01    1.110008\n",
       "1994-04-01    1.230370\n",
       "1994-07-01    1.312546\n",
       "1994-10-01    1.272187\n",
       "1995-01-01    1.081050\n",
       "1995-04-01    1.141950\n",
       "1995-07-01    1.323297\n",
       "1995-10-01    1.252540\n",
       "1996-01-01    1.020013\n",
       "1996-04-01    1.207485\n",
       "                ...   \n",
       "2012-04-01    0.656894\n",
       "2012-07-01    0.771325\n",
       "2012-10-01    0.765404\n",
       "2013-01-01    0.601330\n",
       "2013-04-01    0.616650\n",
       "2013-07-01    0.793896\n",
       "2013-10-01    0.809624\n",
       "2014-01-01    0.647943\n",
       "2014-04-01    0.703573\n",
       "2014-07-01    0.838560\n",
       "2014-10-01    0.819143\n",
       "2015-01-01    0.650726\n",
       "2015-04-01    0.674112\n",
       "2015-07-01    0.794876\n",
       "2015-10-01    0.783932\n",
       "2016-01-01    0.667840\n",
       "2016-04-01    0.657097\n",
       "2016-07-01    0.765805\n",
       "2016-10-01    0.729431\n",
       "2017-01-01    0.579751\n",
       "2017-04-01    0.575685\n",
       "2017-07-01    0.708007\n",
       "2017-10-01    0.697806\n",
       "2018-01-01    0.566411\n",
       "2018-04-01    0.591073\n",
       "2018-07-01    0.700509\n",
       "2018-10-01    0.663593\n",
       "2019-01-01    0.552200\n",
       "2019-04-01    0.565634\n",
       "2019-07-01    0.000000\n",
       "Freq: QS-JAN, Length: 123, dtype: float64"
      ]
     },
     "execution_count": 34,
     "metadata": {},
     "output_type": "execute_result"
    }
   ],
   "source": [
    "df_g['gdp'] - df_g['pop_c']"
   ]
  },
  {
   "cell_type": "code",
   "execution_count": null,
   "metadata": {},
   "outputs": [],
   "source": []
  },
  {
   "cell_type": "code",
   "execution_count": null,
   "metadata": {},
   "outputs": [],
   "source": []
  },
  {
   "cell_type": "code",
   "execution_count": null,
   "metadata": {},
   "outputs": [],
   "source": []
  },
  {
   "cell_type": "code",
   "execution_count": 15,
   "metadata": {
    "ExecuteTime": {
     "end_time": "2019-08-28T04:34:32.397995Z",
     "start_time": "2019-08-28T04:34:31.092793Z"
    }
   },
   "outputs": [
    {
     "data": {
      "text/plain": [
       "<matplotlib.axes._subplots.AxesSubplot at 0x7f3bb7759780>"
      ]
     },
     "execution_count": 15,
     "metadata": {},
     "output_type": "execute_result"
    },
    {
     "data": {
      "image/png": "[encoded data removed]",
      "text/plain": [
       "<Figure size 432x288 with 1 Axes>"
      ]
     },
     "metadata": {
      "needs_background": "light"
     },
     "output_type": "display_data"
    }
   ],
   "source": [
    "growth_rate(df['gdpinp']).plot(kind='bar')"
   ]
  },
  {
   "cell_type": "code",
   "execution_count": null,
   "metadata": {
    "ExecuteTime": {
     "end_time": "2019-08-28T02:06:16.332481Z",
     "start_time": "2019-08-28T02:06:16.326398Z"
    }
   },
   "outputs": [],
   "source": [
    "A191RX"
   ]
  },
  {
   "cell_type": "code",
   "execution_count": null,
   "metadata": {
    "ExecuteTime": {
     "end_time": "2019-08-28T02:25:12.050899Z",
     "start_time": "2019-08-28T02:25:12.032925Z"
    }
   },
   "outputs": [],
   "source": [
    "((((df.pct_change() + 1) ** 4) - 1) * 100)"
   ]
  },
  {
   "cell_type": "code",
   "execution_count": null,
   "metadata": {
    "ExecuteTime": {
     "end_time": "2019-08-28T01:42:41.171855Z",
     "start_time": "2019-08-28T01:42:41.146432Z"
    }
   },
   "outputs": [],
   "source": [
    "nipa_series_codes(retrieve_table('T70100'))"
   ]
  },
  {
   "cell_type": "code",
   "execution_count": null,
   "metadata": {},
   "outputs": [],
   "source": []
  },
  {
   "cell_type": "code",
   "execution_count": null,
   "metadata": {},
   "outputs": [],
   "source": []
  },
  {
   "cell_type": "code",
   "execution_count": null,
   "metadata": {
    "ExecuteTime": {
     "end_time": "2019-08-27T05:45:25.043384Z",
     "start_time": "2019-08-27T05:45:25.023539Z"
    },
    "scrolled": false
   },
   "outputs": [],
   "source": [
    "pd.Series(d).to_csv('aah.csv', index_label='date')"
   ]
  },
  {
   "cell_type": "code",
   "execution_count": null,
   "metadata": {
    "ExecuteTime": {
     "end_time": "2019-08-27T15:56:48.234201Z",
     "start_time": "2019-08-27T15:56:48.077392Z"
    }
   },
   "outputs": [],
   "source": [
    "%matplotlib inline"
   ]
  },
  {
   "cell_type": "code",
   "execution_count": null,
   "metadata": {
    "ExecuteTime": {
     "end_time": "2019-08-27T16:04:40.074160Z",
     "start_time": "2019-08-27T16:04:39.830576Z"
    }
   },
   "outputs": [],
   "source": [
    "(pd.read_csv('raw/epop_sa.csv', header=None, names=['date', 'value'], parse_dates=[0]).set_index('date').plot())"
   ]
  },
  {
   "cell_type": "code",
   "execution_count": null,
   "metadata": {
    "ExecuteTime": {
     "end_time": "2019-08-27T05:21:26.561170Z",
     "start_time": "2019-08-27T05:21:26.520664Z"
    }
   },
   "outputs": [],
   "source": []
  },
  {
   "cell_type": "code",
   "execution_count": null,
   "metadata": {},
   "outputs": [],
   "source": [
    "d = {}\n",
    "cols = ['LFS', 'PWSSWGT', 'MONTH']\n",
    "for year in range(1989, 2020):\n",
    "    df = (pd.read_feather(cps_dir / f'cps{year}.ft', columns=cols)\n",
    "            .query('LFS == \"Employed\"')\n",
    "            .groupby('MONTH').HRSACTT.mean())\n",
    "    d.update({f'{year}-{month}-01': value for month, value in list(zip(df.index, df.values))})"
   ]
  },
  {
   "cell_type": "code",
   "execution_count": null,
   "metadata": {},
   "outputs": [],
   "source": []
  },
  {
   "cell_type": "code",
   "execution_count": null,
   "metadata": {},
   "outputs": [],
   "source": []
  }
 ],
 "metadata": {
  "kernelspec": {
   "display_name": "Python 3",
   "language": "python",
   "name": "python3"
  },
  "language_info": {
   "codemirror_mode": {
    "name": "ipython",
    "version": 3
   },
   "file_extension": ".py",
   "mimetype": "text/x-python",
   "name": "python",
   "nbconvert_exporter": "python",
   "pygments_lexer": "ipython3",
   "version": "3.7.3"
  }
 },
 "nbformat": 4,
 "nbformat_minor": 2
}
