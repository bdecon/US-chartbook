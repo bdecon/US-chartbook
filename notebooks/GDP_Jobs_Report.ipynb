{
 "cells": [
  {
   "cell_type": "markdown",
   "metadata": {},
   "source": [
    "### Combining GDP data with the jobs report\n",
    "\n",
    "Brian Dew\n",
    "\n",
    "Updated: September 20, 2020\n",
    "\n",
    "----\n",
    "\n",
    "Notes:\n",
    "\n",
    "The basic idea here is to use the BEA population estimates plus CPS employment rate and hours worked trends to estimate GDP per hour of work. BLS does this process for its productivity and costs report, using much more comprehensive data, however this approximation has proven decent over time.\n",
    "\n",
    "The hard part to this measure is getting hours worked right. All of the published measures are either too-low-frequency or don't have a broad enough definition of workers. I want to capture all workers, regardless of full-time or part-time status or of whether they work for the private sector. Also want to capture second and third jobs. As a result, I selected total actual hours worked from the CPS microdata, specifically finding the trend using x13as with default settings. Hours worked from the CPS microdata have issues around holidays falling in the reference week, and also do not capture hours worked for some important categories of labor such as self-employed persons."
   ]
  },
  {
   "cell_type": "code",
   "execution_count": 1,
   "metadata": {
    "ExecuteTime": {
     "end_time": "2021-03-27T01:43:40.766290Z",
     "start_time": "2021-03-27T01:43:40.088509Z"
    }
   },
   "outputs": [],
   "source": [
    "%matplotlib inline\n",
    "import sys\n",
    "sys.path.append('../src')\n",
    "\n",
    "import uschartbook.config\n",
    "\n",
    "from uschartbook.config import *\n",
    "from uschartbook.utils import *\n",
    "\n",
    "qtrs = {1: 1, 2: 1, 3: 1, 4: 2, 5:2, 6:2, 7:3, 8:3, 9:3, 10:4, 11:4, 12:4}"
   ]
  },
  {
   "cell_type": "code",
   "execution_count": 2,
   "metadata": {
    "ExecuteTime": {
     "end_time": "2021-03-27T01:43:47.320471Z",
     "start_time": "2021-03-27T01:43:40.965146Z"
    }
   },
   "outputs": [],
   "source": [
    "aah = {}\n",
    "epop = {}\n",
    "cols = ['HRSACTT', 'LFS', 'MONTH']\n",
    "for year in range(1989, 2021):\n",
    "    if year >= 1998:\n",
    "        wgt = 'PWSSWGT'\n",
    "    else:\n",
    "        wgt = 'BASICWGT'\n",
    "    df = pd.read_feather(cps_dir / f'cps{year}.ft', columns=cols + [wgt]).rename({wgt: 'WGT'}, axis=1)\n",
    "    ah = (df.query('LFS == \"Employed\"')\n",
    "            .groupby('MONTH').apply(lambda x: np.average(x.HRSACTT.replace(-1, 0), weights=x.WGT)))\n",
    "    aah.update({pd.to_datetime(f'{year}-{month}-01'): value for month, value in list(zip(ah.index, ah.values))})\n",
    "    \n",
    "    ep = (df.query('LFS == \"Employed\"').groupby('MONTH').WGT.sum() / \n",
    "          df.groupby('MONTH').WGT.sum())\n",
    "    epop.update({pd.to_datetime(f'{year}-{month}-01'): value for month, value in list(zip(ep.index, ep.values))})"
   ]
  },
  {
   "cell_type": "code",
   "execution_count": 3,
   "metadata": {
    "ExecuteTime": {
     "end_time": "2021-03-27T01:43:49.098126Z",
     "start_time": "2021-03-27T01:43:47.321569Z"
    }
   },
   "outputs": [
    {
     "name": "stderr",
     "output_type": "stream",
     "text": [
      "/home/brian/miniconda3/lib/python3.8/site-packages/statsmodels/tsa/x13.py:187: X13Warning: WARNING: At least one visually significant seasonal peak has been found\n",
      "          in the estimated spectrum of the regARIMA residuals.\n",
      "  \n",
      " WARNING: At least one visually significant trading day peak has been\n",
      "          found in one or more of the estimated spectra.\n",
      "  warn(errors, X13Warning)\n"
     ]
    }
   ],
   "source": [
    "sm = x13_arima_analysis(pd.Series(epop))\n",
    "epop_sa = sm.seasadj.resample('QS').mean()\n",
    "sm = x13_arima_analysis(pd.Series(aah))\n",
    "aah_sa = sm.trend.resample('QS').mean()"
   ]
  },
  {
   "cell_type": "code",
   "execution_count": 4,
   "metadata": {
    "ExecuteTime": {
     "end_time": "2021-03-27T01:43:49.176511Z",
     "start_time": "2021-03-27T01:43:49.099641Z"
    }
   },
   "outputs": [],
   "source": [
    "gdp_code = ('T10106', ['A191RX'])\n",
    "pop_code = ('T70100', ['B230RC'])\n",
    "cd = nipa_df(retrieve_table('T10105')['Data'], ['A191RC'])['A191RC'].iloc[-1]\n",
    "rgdp = nipa_df(retrieve_table('T10106')['Data'], ['A191RX'])\n",
    "gdp = rgdp / rgdp.iloc[-1] * cd\n",
    "pop = nipa_df(retrieve_table(pop_code[0])['Data'], pop_code[1]).sort_index()\n",
    "\n",
    "df = pd.DataFrame()\n",
    "df['epop'] = epop_sa * 100\n",
    "df['pop'] = pop['B230RC'] / 1000\n",
    "#df['hours'] = fred_df('PRS84006023')\n",
    "df['hours'] = aah_sa\n",
    "df['gdp'] = gdp['A191RX']\n",
    "df['input'] = (df['pop'] * (df['epop'] / 100)) * (df['hours'] * 52)\n",
    "df['gdpinp'] = df['gdp'] / df['input']\n",
    "datetxt = dtxt(df['gdpinp'].dropna().index[-1])['qtr1']\n",
    "write_txt(text_dir / 'gdpjobs_ltdt.txt', datetxt)\n",
    "df.to_csv(data_dir / 'gdpjobslvl.csv', index_label='date')\n",
    "\n",
    "df['epop_c'] = ((df['pop'] * df['epop'].mean()) * df['hours']) * df['gdpinp']\n",
    "df['pop_c'] = ((df['pop'].mean() * df['epop']) * df['hours']) * df['gdpinp']\n",
    "df['hours_c'] = ((df['pop'] * df['epop']) * df['hours'].mean()) * df['gdpinp']\n",
    "\n",
    "df_g = growth_rate(df.dropna())\n",
    "\n",
    "df_g['pop_contr'] = df_g['gdp'] - df_g['pop_c']\n",
    "df_g['epop_contr'] = df_g['gdp'] - df_g['epop_c']\n",
    "df_g['hours_contr'] = df_g['gdp'] - df_g['hours_c']\n",
    "df_g['prod'] = df_g['gdp'] - df_g['pop_contr'] - df_g['epop_contr'] - df_g['hours_contr']\n",
    "\n",
    "result = df_g[['pop_contr', 'epop_contr', 'hours_contr', 'prod']].round(2)\n",
    "\n",
    "result.to_csv(data_dir / 'gdpjobs.csv', index_label='date')"
   ]
  },
  {
   "cell_type": "code",
   "execution_count": 5,
   "metadata": {
    "ExecuteTime": {
     "end_time": "2021-03-27T01:43:49.189705Z",
     "start_time": "2021-03-27T01:43:49.177686Z"
    }
   },
   "outputs": [
    {
     "name": "stdout",
     "output_type": "stream",
     "text": [
      "In 2020 Q4, real GDP was equivalent to roughly \\$73.21 per hour of work, compared to \\$74.40 in 2020 Q3, \\$69.50 in 2019 Q4, \\$67.39 in 2015 Q4, and \\$44.80 in the first quarter of 1989. Comparing the latest data to the pre-COVID data covering 2019 Q4, annualized real GDP is \\$21,495 billion in the latest data and \\$22,020 billion in 2019 Q4. Aggregate hours worked total 294 billion in the latest quarter and 317 billion in 2019 Q4. \n",
      "\n",
      "\n",
      "In 2020 Q4, population growth contributed 0.56 percentage point to annualized GDP growth, and, for comparison, added 0.57 percentage point in 2019 Q4. Changes in the employed share of the population contributed 9.54 percentage points in the latest quarter, and added 1.18 percentage points in the fourth quarter of 2019. Changes in average hours worked added 0.56 percentage point to GDP growth in the latest quarter and added 0.37 percentage point in 2019 Q4. Lastly, productivity subtracted 6.34 percentage points to GDP growth in 2020 Q4, compared to an addition of 0.25 percentage point in 2019 Q4.\n"
     ]
    }
   ],
   "source": [
    "data = df.dropna()\n",
    "\n",
    "ltval = f\"\\${data['gdpinp'].iloc[-1]:.2f}\"\n",
    "prval = f\"\\${data['gdpinp'].iloc[-2]:.2f}\"\n",
    "prdate = dtxt(data['gdpinp'].index[-2])['qtr1']\n",
    "prdt = '2019-10-01'\n",
    "prval2 = f\"\\${data.loc[prdt, 'gdpinp']:.2f}\"\n",
    "prval3 = f\"\\${data.loc['2015-10-01', 'gdpinp']:.2f}\"\n",
    "val89 = f\"\\${data.loc['1989-01-01', 'gdpinp']:.2f}\"\n",
    "gdpval = f\"\\${data['gdp'].iloc[-1] / 1_000:,.0f}\"\n",
    "gdppr = f\"\\${data.loc[prdt, 'gdp'] / 1_000:,.0f}\"\n",
    "agghrs = f\"{data['input'].iloc[-1] / 1_000:,.0f}\"\n",
    "hrspr = f\"{data.loc[prdt, 'input'] / 1_000:,.0f}\"\n",
    "\n",
    "text = (f'In {datetxt}, real GDP was equivalent to roughly {ltval} per hour of '+\n",
    "        f'work, compared to {prval} in {prdate}, {prval2} in 2019 Q4, {prval3} '+\n",
    "        f'in 2015 Q4, and {val89} in the first quarter of 1989. Comparing the latest '+\n",
    "        'data to the pre-COVID data covering 2019 Q4, annualized real GDP '+\n",
    "        f'is {gdpval} billion in the latest data and '+\n",
    "        f'{gdppr} billion in 2019 Q4. Aggregate hours worked total '+\n",
    "        f'{agghrs} billion in the latest quarter and {hrspr} billion '+\n",
    "        'in 2019 Q4.')\n",
    "write_txt(text_dir / 'gdp_per_hour.txt', text)\n",
    "print(text, '\\n\\n')\n",
    "\n",
    "poplt = value_text(result['pop_contr'].iloc[-1], style='contribution_to', ptype='pp', digits=2)\n",
    "poppr = value_text(result.loc[prdt, 'pop_contr'], style='contribution', ptype='pp', digits=2, casual=True)\n",
    "emplt = value_text(result['epop_contr'].iloc[-1], style='contribution', ptype='pp', digits=2)\n",
    "emppr = value_text(result.loc[prdt, 'epop_contr'], style='contribution', ptype='pp', digits=2, casual=True)\n",
    "hrslt = value_text(result['hours_contr'].iloc[-1], style='contribution_to', ptype='pp', digits=2, casual=True)\n",
    "hrspr = value_text(result.loc[prdt, 'hours_contr'], style='contribution', ptype='pp', digits=2, casual=True)\n",
    "prodlt = value_text(result['prod'].iloc[-1], style='contribution', ptype='pp', digits=2)\n",
    "prodpr = value_text(result.loc[prdt, 'prod'], style='contribution_of', ptype='pp', digits=2, casual=True)\n",
    "\n",
    "text = (f'In {datetxt}, population growth {poplt} annualized GDP growth, and, for comparison, '+\n",
    "        f'{poppr} in 2019 Q4. '+\n",
    "        f'Changes in the employed share of the population {emplt} in the latest quarter, and '+\n",
    "        f'{emppr} in the fourth quarter of 2019. Changes in average hours worked {hrslt} GDP '+\n",
    "        f'growth in the latest quarter and {hrspr} in 2019 Q4. Lastly, productivity {prodlt} '+\n",
    "        f'to GDP growth in {datetxt}, compared to {prodpr} in 2019 Q4.')\n",
    "write_txt(text_dir / 'gdpjobsch.txt', text)\n",
    "print(text)"
   ]
  },
  {
   "cell_type": "code",
   "execution_count": null,
   "metadata": {},
   "outputs": [],
   "source": []
  },
  {
   "cell_type": "code",
   "execution_count": null,
   "metadata": {},
   "outputs": [],
   "source": []
  }
 ],
 "metadata": {
  "kernelspec": {
   "display_name": "Python 3",
   "language": "python",
   "name": "python3"
  },
  "language_info": {
   "codemirror_mode": {
    "name": "ipython",
    "version": 3
   },
   "file_extension": ".py",
   "mimetype": "text/x-python",
   "name": "python",
   "nbconvert_exporter": "python",
   "pygments_lexer": "ipython3",
   "version": "3.8.6"
  }
 },
 "nbformat": 4,
 "nbformat_minor": 2
}
