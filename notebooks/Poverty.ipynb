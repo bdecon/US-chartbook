{
 "cells": [
  {
   "cell_type": "markdown",
   "metadata": {},
   "source": [
    "### Who are the poor?\n",
    "\n",
    "Attempt to replicate excellent chart by Matt Bruenig\n",
    "\n",
    "----\n",
    "\n",
    "Source: CPS ASEC\n",
    "\n",
    "Variables:\n",
    "\n",
    "- Person record:       PRECORD\n",
    "- Age:                 A_AGE\n",
    "- Person weight:       MARSUPWT \n",
    "- Poverty status:      PERLIS\n",
    "- Why not full-year:   PYRSN\n",
    "- Why not employed:    RSNNOTW\n",
    "- Disability:          PRDISFLG\n",
    "- Weeks unemployed:    NWLKWK\n",
    "- Full-year worker:    WEWKRS\n",
    "\n",
    "[Data dictionary](https://thedataweb.rm.census.gov/pub/cps/march/06_ASEC_2019-Data_Dictionary_Full.pdf)"
   ]
  },
  {
   "cell_type": "code",
   "execution_count": null,
   "metadata": {},
   "outputs": [],
   "source": []
  },
  {
   "cell_type": "code",
   "execution_count": 1,
   "metadata": {},
   "outputs": [],
   "source": [
    "import pandas as pd\n",
    "import numpy as np\n",
    "import re"
   ]
  },
  {
   "cell_type": "code",
   "execution_count": 2,
   "metadata": {},
   "outputs": [],
   "source": [
    "variables = ['A_AGE', 'MARSUPWT', 'A_LFSR', 'PERLIS', 'PYRSN', \n",
    "             'NWLKWK', 'WEWKRS', 'RSNNOTW', 'SPM_Poor',\n",
    "             'PRDISFLG', 'PRECORD', 'SPM_Weight']\n",
    "\n",
    "dictfile = 'data/persfmt.txt'\n",
    "dd = open(dictfile).read()\n",
    "p = f'({\"|\".join(variables)})\\s+(\\d+)\\s+(\\d+)\\s'\n",
    "cols = {name: (int(start) - 1, int(start) - 1 + int(length)) \n",
    "        for name, length, start in re.findall(p, dd)}\n",
    "\n",
    "datafile = 'data/asec2019_pubuse.dat'\n",
    "df = (pd.read_fwf(datafile, \n",
    "                  colspecs=list(cols.values()), \n",
    "                  header=None, \n",
    "                  names=cols.keys())\n",
    "        .query('PRECORD == 3 and PERLIS == 1 and MARSUPWT > 0'))"
   ]
  },
  {
   "cell_type": "code",
   "execution_count": null,
   "metadata": {},
   "outputs": [],
   "source": []
  },
  {
   "cell_type": "code",
   "execution_count": null,
   "metadata": {},
   "outputs": [],
   "source": []
  },
  {
   "cell_type": "code",
   "execution_count": 3,
   "metadata": {},
   "outputs": [],
   "source": [
    "df['CAT'] = (np.where(df.A_AGE < 18, 'Children', \n",
    "             np.where(df.A_AGE > 64, 'Elderly', \n",
    "             np.where(((df.PRDISFLG == 1) | (df.PYRSN == 1) | (df.RSNNOTW == 1)), 'Disabled', \n",
    "             np.where(((df.PYRSN == 3) | (df.RSNNOTW == 4)), 'Student', \n",
    "             np.where(((df.PYRSN == 2) | (df.RSNNOTW == 3)), 'Carers',\n",
    "             np.where(((df.PYRSN == 4) | (df.RSNNOTW == 2)), 'Nonelderly Retired',  \n",
    "             np.where(((df.PYRSN == 5) | (df.RSNNOTW == 5) | (df.NWLKWK.astype(int) > 0)), 'Unemployed',\n",
    "             np.where(df.WEWKRS.isin([1, 2]), 'Fully Employed', 'Other')))))))))"
   ]
  },
  {
   "cell_type": "code",
   "execution_count": 4,
   "metadata": {},
   "outputs": [
    {
     "data": {
      "text/plain": [
       "CAT\n",
       "Carers                 8.254535\n",
       "Children              32.022004\n",
       "Disabled              15.609597\n",
       "Elderly               13.313400\n",
       "Fully Employed         9.827651\n",
       "Nonelderly Retired     3.188996\n",
       "Other                  9.701647\n",
       "Student                6.206497\n",
       "Unemployed             1.875674\n",
       "Name: MARSUPWT, dtype: float64"
      ]
     },
     "execution_count": 4,
     "metadata": {},
     "output_type": "execute_result"
    }
   ],
   "source": [
    "df.groupby('CAT').MARSUPWT.sum() / df.MARSUPWT.sum() * 100"
   ]
  },
  {
   "cell_type": "code",
   "execution_count": null,
   "metadata": {},
   "outputs": [],
   "source": []
  },
  {
   "cell_type": "code",
   "execution_count": null,
   "metadata": {},
   "outputs": [],
   "source": []
  },
  {
   "cell_type": "code",
   "execution_count": null,
   "metadata": {},
   "outputs": [],
   "source": []
  },
  {
   "cell_type": "code",
   "execution_count": null,
   "metadata": {},
   "outputs": [],
   "source": []
  }
 ],
 "metadata": {
  "kernelspec": {
   "display_name": "Python 3",
   "language": "python",
   "name": "python3"
  },
  "language_info": {
   "codemirror_mode": {
    "name": "ipython",
    "version": 3
   },
   "file_extension": ".py",
   "mimetype": "text/x-python",
   "name": "python",
   "nbconvert_exporter": "python",
   "pygments_lexer": "ipython3",
   "version": "3.7.5"
  }
 },
 "nbformat": 4,
 "nbformat_minor": 2
}
