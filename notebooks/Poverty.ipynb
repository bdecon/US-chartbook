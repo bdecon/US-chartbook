{
 "cells": [
  {
   "cell_type": "markdown",
   "metadata": {},
   "source": [
    "### Who are the poor?\n",
    "\n",
    "Attempt to replicate excellent chart by Matt Bruenig\n",
    "\n",
    "----\n",
    "\n",
    "Source: CPS ASEC"
   ]
  },
  {
   "cell_type": "code",
   "execution_count": 1,
   "metadata": {
    "ExecuteTime": {
     "end_time": "2020-09-15T18:13:15.551992Z",
     "start_time": "2020-09-15T18:13:14.859690Z"
    }
   },
   "outputs": [],
   "source": [
    "import sys\n",
    "sys.path.append('../src')\n",
    "\n",
    "import requests\n",
    "\n",
    "import uschartbook.config\n",
    "\n",
    "from uschartbook.config import *\n",
    "from uschartbook.utils import *"
   ]
  },
  {
   "cell_type": "code",
   "execution_count": 2,
   "metadata": {
    "ExecuteTime": {
     "end_time": "2020-09-15T18:13:21.333696Z",
     "start_time": "2020-09-15T18:13:15.553211Z"
    }
   },
   "outputs": [],
   "source": [
    "# Extract person records for selected variables\n",
    "variables = ['H_SEQ', 'PPPOS', \n",
    "             'PRECORD', 'A_AGE', 'MARSUPWT', 'PERLIS', \n",
    "             'SPM_Resources', 'SPM_PovThreshold', 'WKSWORK',\n",
    "             'PRDISFLG', 'RSNNOTW', 'PYRSN', 'LKWEEKS',\n",
    "             'SPM_Weight', 'SPM_ID', 'SPM_CapWkCCXpns',\n",
    "             'SPM_Totval', 'SPM_MedXpns', 'SPM_ChildSupPd',\n",
    "             'SPM_Poor', 'CTC_CRD', 'ACTC_CRD', \n",
    "             'SPM_NumKids', 'SPM_NumPer']\n",
    "\n",
    "benefits = ['SS_VAL', 'SSI_VAL', 'UC_VAL', 'VET_VAL', \n",
    "            'WC_VAL', 'PAW_VAL']\n",
    "\n",
    "path = '/home/brian/Documents/ASEC/'\n",
    "\n",
    "dictfile = f'{path}/data/persfmt.txt'\n",
    "dd = open(dictfile).read()\n",
    "p = f'({\"|\".join(variables + benefits)})\\s+(\\d+)\\s+(\\d+)\\s'\n",
    "cols = {name: (int(start) - 1, int(start) - 1 + int(length)) \n",
    "        for name, length, start in re.findall(p, dd)}\n",
    "\n",
    "# Manually adjust because 2020 text dict missing\n",
    "cols['SPM_ID'] = (1419-1, 1419-1+8)\n",
    "cols['SPM_CapWkCCXpns'] = (1437-1, 1437-1+6)\n",
    "cols['SPM_ChildSupPd'] = (1449-1, 1449-1+6)\n",
    "cols['SPM_MedXpns'] = (1500-1, 1500-1+7)\n",
    "cols['SPM_Poor'] = (1513-1, 1513-1+1)\n",
    "cols['SPM_PovThreshold'] = (1514-1, 1514-1+5)\n",
    "cols['SPM_Resources'] = (1519-1, 1519-1+7)\n",
    "cols['SPM_Totval'] = (1542-1, 1542-1+7)\n",
    "cols['SPM_Weight'] = (1550-1, 1550-1+7)\n",
    "cols['PERLIS'] = (914-1, 914-1+2)\n",
    "cols['PYRSN'] = (322-1, 322-1+1)\n",
    "cols['WKSWORK'] = (337-1, 337-1+2)\n",
    "cols['LKWEEKS'] = (304-1, 304-1+2)\n",
    "cols['RSNNOTW'] = (323-1, 323-1+1)\n",
    "cols['SS_VAL'] = (623-1, 623-1+5)\n",
    "cols['SSI_VAL'] = (629-1, 629-1+5)\n",
    "cols['UC_VAL'] = (661-1, 661-1+5)\n",
    "cols['VET_VAL'] = (673-1, 673-1+6)\n",
    "cols['WC_VAL'] = (681-1, 681-1+5)\n",
    "cols['PAW_VAL'] = (690-1, 690-1+5)\n",
    "cols['H_SEQ'] = (29-1, 29-1+5)\n",
    "cols['ACTC_CRD'] = (713-1, 713-1+5)\n",
    "cols['CTC_CRD'] = (725-1, 725-1+5)\n",
    "cols['SPM_NumKids'] = (1509-1, 1509-1+2)\n",
    "cols['SPM_NumPer'] = (1511-1, 1511-1+2)\n",
    "\n",
    "datafile = f'{path}/data/asec2020_pubuse.dat'\n",
    "df = (pd.read_fwf(datafile, \n",
    "                  colspecs=list(cols.values()), \n",
    "                  header=None, \n",
    "                  names=list(cols.keys()))\n",
    "        .query('PRECORD == 3'))"
   ]
  },
  {
   "cell_type": "code",
   "execution_count": 3,
   "metadata": {
    "ExecuteTime": {
     "end_time": "2020-09-15T18:13:21.441336Z",
     "start_time": "2020-09-15T18:13:21.335041Z"
    }
   },
   "outputs": [],
   "source": [
    "# Categorize population\n",
    "df['Category'] = (np.where(df.A_AGE < 18, 'Children', \n",
    "                  np.where(df.A_AGE > 64, 'Elderly', \n",
    "                  np.where(((df.PRDISFLG == 1) | (df.PYRSN == 1) | (df.RSNNOTW == 1)), 'Disabled', \n",
    "                  np.where(((df.PYRSN == 3) | (df.RSNNOTW == 4)), 'Student', \n",
    "                  np.where(((df.PYRSN == 2) | (df.RSNNOTW == 3)), 'Carers',\n",
    "                  np.where(((df.PYRSN == 5) | (df.RSNNOTW == 5) | (df.LKWEEKS > 0)), 'Unemployed',         \n",
    "                  np.where(((df.PYRSN == 4) | (df.RSNNOTW == 2)), 'Early Retired',  \n",
    "                  np.where(df.WKSWORK > 49, 'Fully Employed', 'All Other')))))))))\n",
    "\n",
    "df['AGE_GRP'] = pd.cut(df.A_AGE, range(0, 79, 3))\n",
    "\n",
    "df['SPM'] = np.where(df['SPM_Resources'] < df['SPM_PovThreshold'], 1, 0)\n",
    "df['OPM'] = np.where(df['PERLIS'] == 1, 1, 0)\n",
    "df['MARKET_INCOME'] = (df['SPM_Totval'] - \n",
    "                       df[['SPM_CapWkCCXpns','SPM_MedXpns', 'SPM_ChildSupPd']].sum(axis=1) - \n",
    "                       df[benefits].sum(axis=1).groupby(df['SPM_ID']).transform('sum'))\n",
    "\n",
    "df['SPM_MI'] = np.where(df['MARKET_INCOME'] < df['SPM_PovThreshold'], 1, 0)\n",
    "\n",
    "df['CTC'] = df[['CTC_CRD', 'ACTC_CRD']].sum(axis=1).groupby(df['SPM_ID']).transform('sum')\n",
    "df['CALLOW'] = df['SPM_NumKids'] * 3300\n",
    "\n",
    "df['CA_INC'] = df['SPM_Resources'] - df['CTC'] + df['CALLOW']\n",
    "\n",
    "df['SPM_CA'] = np.where(df['CA_INC'] < df['SPM_PovThreshold'], 1, 0)\n",
    "\n",
    "df['MI_GAP'] = ((df['SPM_PovThreshold'] - df['MARKET_INCOME']) / df['SPM_NumPer']) * df['SPM_Weight'] / 100\n",
    "df['SPM_GAP'] = ((df['SPM_PovThreshold'] - df['SPM_Resources']) / df['SPM_NumPer']) * df['SPM_Weight'] / 100\n",
    "df['CA_GAP'] = ((df['SPM_PovThreshold'] - df['CA_INC']) / df['SPM_NumPer']) * df['SPM_Weight'] / 100"
   ]
  },
  {
   "cell_type": "code",
   "execution_count": 4,
   "metadata": {
    "ExecuteTime": {
     "end_time": "2020-09-15T18:13:21.501422Z",
     "start_time": "2020-09-15T18:13:21.442538Z"
    }
   },
   "outputs": [
    {
     "name": "stdout",
     "output_type": "stream",
     "text": [
      "                      SPM        OPM     SPM_MI     SPM_CA\n",
      "Category                                                  \n",
      "Children        23.552475  30.795875  21.062952  16.786422\n",
      "Elderly         19.033379  14.295022  33.935611  22.252895\n",
      "Fully Employed  15.779747  10.050124  12.264199  15.862977\n",
      "Disabled        13.183932  15.317319  13.416647  14.540998\n",
      "Carers           8.629066  10.026422   5.671404   8.422378\n",
      "Student          8.063140   8.087707   4.775935   9.185650\n",
      "Unemployed       5.738762   5.819194   3.933209   5.931719\n",
      "Early Retired    3.626288   3.407859   3.468531   4.264059\n",
      "All Other        2.393210   2.200479   1.471512   2.752902\n"
     ]
    }
   ],
   "source": [
    "# Only below poverty line\n",
    "data = df.query('SPM == 1')\n",
    "data2 = df.query('OPM == 1')\n",
    "data3 = df.query('SPM_MI == 1')\n",
    "data4 = df.query('SPM_CA == 1')\n",
    "\n",
    "results = pd.DataFrame()\n",
    "\n",
    "# Group share of total\n",
    "results['SPM'] = (data.groupby('Category').SPM_Weight.sum() / \n",
    "                  data.SPM_Weight.sum() * 100).sort_values(ascending=False)\n",
    "\n",
    "results['OPM'] = (data2.groupby('Category').MARSUPWT.sum() / \n",
    "                  data2.MARSUPWT.sum() * 100).sort_values(ascending=False)\n",
    "\n",
    "\n",
    "results['SPM_MI'] = (data3.groupby('Category').SPM_Weight.sum() / \n",
    "                  data3.SPM_Weight.sum() * 100).sort_values(ascending=False)\n",
    "\n",
    "results.to_csv(data_dir / 'poor.csv', index_label='name')\n",
    "\n",
    "results['SPM_CA'] = (data4.groupby('Category').SPM_Weight.sum() / \n",
    "                  data4.SPM_Weight.sum() * 100).sort_values(ascending=False)\n",
    "\n",
    "print(results)"
   ]
  },
  {
   "cell_type": "code",
   "execution_count": 5,
   "metadata": {
    "ExecuteTime": {
     "end_time": "2020-09-15T18:13:21.718506Z",
     "start_time": "2020-09-15T18:13:21.502417Z"
    },
    "scrolled": true
   },
   "outputs": [
    {
     "name": "stdout",
     "output_type": "stream",
     "text": [
      "                      SPM        OPM     SPM_MI     SPM_CA\n",
      "Category                                                  \n",
      "Children        12.406551  14.307068  22.143021   7.394473\n",
      "Elderly         12.751231   8.890741  45.372737  12.466866\n",
      "Fully Employed   4.857504   2.780689   7.534517   4.083498\n",
      "Disabled        23.521702  24.229192  47.771721  21.694647\n",
      "Carers          21.369661  22.580328  28.030288  17.442276\n",
      "Student         22.411029  18.548014  26.492266  21.350207\n",
      "Unemployed      20.887578  18.172532  28.570644  18.054480\n",
      "Early Retired   19.312494  16.703581  36.865899  18.990388\n",
      "All Other       16.977166  13.751578  20.832978  16.330879\n"
     ]
    }
   ],
   "source": [
    "results2 = pd.DataFrame()\n",
    "\n",
    "# Poverty rate of each group\n",
    "results2['SPM'] = (df.groupby('Category')\n",
    "                     .apply(lambda x: np.average(x['SPM'], weights=x['SPM_Weight']))\n",
    "                     * 100).loc[results.index]\n",
    "results2['OPM'] = (df.groupby('Category')\n",
    "                     .apply(lambda x: np.average(x['OPM'], weights=x['MARSUPWT']))\n",
    "                     * 100).loc[results.index]\n",
    "\n",
    "results2['SPM_MI'] = (df.groupby('Category')\n",
    "                     .apply(lambda x: np.average(x['SPM_MI'], weights=x['SPM_Weight']))\n",
    "                     * 100).loc[results.index]\n",
    "\n",
    "results2.to_csv(data_dir / 'poor2.csv', index_label='name')\n",
    "\n",
    "results2['SPM_CA'] = (df.groupby('Category')\n",
    "                     .apply(lambda x: np.average(x['SPM_CA'], weights=x['SPM_Weight']))\n",
    "                     * 100).loc[results.index]\n",
    "\n",
    "print(results2)"
   ]
  },
  {
   "cell_type": "code",
   "execution_count": 6,
   "metadata": {
    "ExecuteTime": {
     "end_time": "2020-09-15T18:13:21.880424Z",
     "start_time": "2020-09-15T18:13:21.719588Z"
    }
   },
   "outputs": [
    {
     "data": {
      "text/plain": [
       "<AxesSubplot:>"
      ]
     },
     "execution_count": 6,
     "metadata": {},
     "output_type": "execute_result"
    },
    {
     "data": {
      "image/png": "[encoded data removed]",
      "text/plain": [
       "<Figure size 576x576 with 1 Axes>"
      ]
     },
     "metadata": {
      "needs_background": "light"
     },
     "output_type": "display_data"
    }
   ],
   "source": [
    "results3 = pd.DataFrame()\n",
    "\n",
    "results3['disposable'] = (data.groupby('AGE_GRP')['SPM_GAP'].sum() / 3e9)\n",
    "results3['market'] = (data3.groupby('AGE_GRP')['MI_GAP'].sum() / 3e9) - results3['disposable']\n",
    "\n",
    "results3.index = [i.left for i in results3.index]\n",
    "results3.to_csv(data_dir / 'poor_age_latest.csv', index_label='age')\n",
    "results3.iloc[::-1].plot(kind='area', stacked=True, figsize=(8,8), color=['limegreen', 'royalblue'])"
   ]
  },
  {
   "cell_type": "code",
   "execution_count": null,
   "metadata": {},
   "outputs": [],
   "source": []
  },
  {
   "cell_type": "code",
   "execution_count": null,
   "metadata": {},
   "outputs": [],
   "source": []
  },
  {
   "cell_type": "code",
   "execution_count": 7,
   "metadata": {
    "ExecuteTime": {
     "end_time": "2020-09-15T18:13:21.886275Z",
     "start_time": "2020-09-15T18:13:21.881448Z"
    }
   },
   "outputs": [
    {
     "data": {
      "text/plain": [
       "72.46199228021965"
      ]
     },
     "execution_count": 7,
     "metadata": {},
     "output_type": "execute_result"
    }
   ],
   "source": [
    "results.loc[['Children', 'Elderly', 'Disabled', 'Carers', 'Student'], 'SPM'].sum()"
   ]
  },
  {
   "cell_type": "code",
   "execution_count": null,
   "metadata": {},
   "outputs": [],
   "source": []
  },
  {
   "cell_type": "code",
   "execution_count": 8,
   "metadata": {
    "ExecuteTime": {
     "end_time": "2020-09-15T18:13:21.896006Z",
     "start_time": "2020-09-15T18:13:21.887794Z"
    }
   },
   "outputs": [
    {
     "data": {
      "text/plain": [
       "0.1171337637751755"
      ]
     },
     "execution_count": 8,
     "metadata": {},
     "output_type": "execute_result"
    }
   ],
   "source": [
    "np.average(df['SPM'], weights=df['MARSUPWT'])"
   ]
  },
  {
   "cell_type": "code",
   "execution_count": 9,
   "metadata": {
    "ExecuteTime": {
     "end_time": "2020-09-15T18:13:21.907714Z",
     "start_time": "2020-09-15T18:13:21.897441Z"
    }
   },
   "outputs": [
    {
     "data": {
      "text/plain": [
       "3809988636"
      ]
     },
     "execution_count": 9,
     "metadata": {},
     "output_type": "execute_result"
    }
   ],
   "source": [
    "df.query('SPM == 1').MARSUPWT.sum()"
   ]
  },
  {
   "cell_type": "code",
   "execution_count": 10,
   "metadata": {
    "ExecuteTime": {
     "end_time": "2020-09-15T18:13:21.920138Z",
     "start_time": "2020-09-15T18:13:21.908619Z"
    }
   },
   "outputs": [
    {
     "data": {
      "text/plain": [
       "7569664492"
      ]
     },
     "execution_count": 10,
     "metadata": {},
     "output_type": "execute_result"
    }
   ],
   "source": [
    "df.query('SPM_MI == 1').MARSUPWT.sum()"
   ]
  },
  {
   "cell_type": "code",
   "execution_count": 11,
   "metadata": {
    "ExecuteTime": {
     "end_time": "2020-09-15T18:13:21.928878Z",
     "start_time": "2020-09-15T18:13:21.921150Z"
    }
   },
   "outputs": [
    {
     "data": {
      "text/plain": [
       "157991456294.11"
      ]
     },
     "execution_count": 11,
     "metadata": {},
     "output_type": "execute_result"
    }
   ],
   "source": [
    "df.query('SPM == 1').SPM_GAP.sum()"
   ]
  },
  {
   "cell_type": "code",
   "execution_count": null,
   "metadata": {},
   "outputs": [],
   "source": []
  },
  {
   "cell_type": "code",
   "execution_count": 12,
   "metadata": {
    "ExecuteTime": {
     "end_time": "2020-09-15T18:13:21.932649Z",
     "start_time": "2020-09-15T18:13:21.929796Z"
    }
   },
   "outputs": [
    {
     "data": {
      "text/plain": [
       "0.23272071839934533"
      ]
     },
     "execution_count": 12,
     "metadata": {},
     "output_type": "execute_result"
    }
   ],
   "source": [
    "np.average(df['SPM_MI'], weights=df['MARSUPWT'])"
   ]
  },
  {
   "cell_type": "code",
   "execution_count": 13,
   "metadata": {
    "ExecuteTime": {
     "end_time": "2020-09-15T18:13:21.945582Z",
     "start_time": "2020-09-15T18:13:21.933461Z"
    }
   },
   "outputs": [
    {
     "data": {
      "text/plain": [
       "7569664492"
      ]
     },
     "execution_count": 13,
     "metadata": {},
     "output_type": "execute_result"
    }
   ],
   "source": [
    "df.query('SPM_MI == 1').MARSUPWT.sum() "
   ]
  },
  {
   "cell_type": "code",
   "execution_count": 14,
   "metadata": {
    "ExecuteTime": {
     "end_time": "2020-09-15T18:13:21.957403Z",
     "start_time": "2020-09-15T18:13:21.946560Z"
    }
   },
   "outputs": [
    {
     "data": {
      "text/plain": [
       "576478372644.9"
      ]
     },
     "execution_count": 14,
     "metadata": {},
     "output_type": "execute_result"
    }
   ],
   "source": [
    "df.query('SPM_MI == 1').MI_GAP.sum()"
   ]
  },
  {
   "cell_type": "code",
   "execution_count": null,
   "metadata": {},
   "outputs": [],
   "source": []
  },
  {
   "cell_type": "code",
   "execution_count": 15,
   "metadata": {
    "ExecuteTime": {
     "end_time": "2020-09-15T18:13:21.975851Z",
     "start_time": "2020-09-15T18:13:21.958245Z"
    }
   },
   "outputs": [
    {
     "data": {
      "text/plain": [
       "3759675856"
      ]
     },
     "execution_count": 15,
     "metadata": {},
     "output_type": "execute_result"
    }
   ],
   "source": [
    "df.query('SPM_MI == 1').MARSUPWT.sum() - df.query('SPM == 1').MARSUPWT.sum()"
   ]
  },
  {
   "cell_type": "code",
   "execution_count": null,
   "metadata": {},
   "outputs": [],
   "source": []
  },
  {
   "cell_type": "code",
   "execution_count": null,
   "metadata": {},
   "outputs": [],
   "source": []
  },
  {
   "cell_type": "code",
   "execution_count": null,
   "metadata": {},
   "outputs": [],
   "source": []
  },
  {
   "cell_type": "code",
   "execution_count": null,
   "metadata": {},
   "outputs": [],
   "source": []
  },
  {
   "cell_type": "code",
   "execution_count": null,
   "metadata": {},
   "outputs": [],
   "source": []
  },
  {
   "cell_type": "code",
   "execution_count": null,
   "metadata": {},
   "outputs": [],
   "source": []
  },
  {
   "cell_type": "code",
   "execution_count": null,
   "metadata": {},
   "outputs": [],
   "source": []
  },
  {
   "cell_type": "code",
   "execution_count": 16,
   "metadata": {
    "ExecuteTime": {
     "end_time": "2020-09-15T18:13:22.162606Z",
     "start_time": "2020-09-15T18:13:21.976879Z"
    }
   },
   "outputs": [],
   "source": [
    "spm = pd.read_stata(f'{path}/data/spmresearch2014.dta')"
   ]
  },
  {
   "cell_type": "code",
   "execution_count": 17,
   "metadata": {
    "ExecuteTime": {
     "end_time": "2020-09-15T18:13:27.609957Z",
     "start_time": "2020-09-15T18:13:22.163623Z"
    }
   },
   "outputs": [],
   "source": [
    "dictfile = f'{path}/data/asec2015early_pubuse.dd.txt'\n",
    "dd = open(dictfile, encoding='iso-8859-1').read()\n",
    "p = re.compile(f'D ({\"|\".join(variables + benefits)})\\s+(\\d+)\\s+(\\d+)\\s+')\n",
    "cols = {name: (int(start) - 1, int(start) - 1 + int(length)) \n",
    "        for name, length, start in re.findall(p, dd)}\n",
    "\n",
    "datafile = f'{path}/data/asec2015_pubuse.dat'\n",
    "df = (pd.read_fwf(datafile, \n",
    "                  colspecs=list(cols.values()), \n",
    "                  header=None, \n",
    "                  names=list(cols.keys()))\n",
    "        .query('PRECORD == 3').astype('int'))"
   ]
  },
  {
   "cell_type": "code",
   "execution_count": 18,
   "metadata": {
    "ExecuteTime": {
     "end_time": "2020-09-15T18:13:27.717648Z",
     "start_time": "2020-09-15T18:13:27.610916Z"
    }
   },
   "outputs": [],
   "source": [
    "df = pd.merge(spm, df, left_on=['h_seq', 'pppos'], right_on=['H_SEQ', 'PPPOS'])#.keys()"
   ]
  },
  {
   "cell_type": "code",
   "execution_count": 19,
   "metadata": {
    "ExecuteTime": {
     "end_time": "2020-09-15T18:13:27.848546Z",
     "start_time": "2020-09-15T18:13:27.718940Z"
    }
   },
   "outputs": [],
   "source": [
    "# Categorize population\n",
    "df['Category'] = (np.where(df.A_AGE < 18, 'Children', \n",
    "                  np.where(df.A_AGE > 64, 'Elderly', \n",
    "                  np.where(((df.PRDISFLG == 1) | (df.PYRSN == 1) | (df.RSNNOTW == 1)), 'Disabled', \n",
    "                  np.where(((df.PYRSN == 3) | (df.RSNNOTW == 4)), 'Student', \n",
    "                  np.where(((df.PYRSN == 2) | (df.RSNNOTW == 3)), 'Carers',\n",
    "                  np.where(((df.PYRSN == 5) | (df.RSNNOTW == 5) | (df.LKWEEKS > 0)), 'Unemployed',         \n",
    "                  np.where(((df.PYRSN == 4) | (df.RSNNOTW == 2)), 'Early Retired',  \n",
    "                  np.where(df.WKSWORK > 49, 'Fully Employed', 'All Other')))))))))\n",
    "\n",
    "df['AGE_GRP'] = pd.cut(df.A_AGE, range(0, 79, 3))\n",
    "\n",
    "df['SPM'] = np.where(df['spmu_poor'] == 1, 1, 0)\n",
    "df['OPM'] = np.where(df['PERLIS'] == 1, 1, 0)\n",
    "df['MARKET_INCOME'] = (df['spmu_totval'] - \n",
    "                       df[['spmu_capwknchcarexpns','spmu_medoopnmcareb', 'spmu_childsuppd']].sum(axis=1) - \n",
    "                       df[benefits].sum(axis=1).groupby(df['spmu_id']).transform('sum'))\n",
    "\n",
    "df['SPM_MI'] = np.where(df['MARKET_INCOME'] < df['spmu_povthreshold'], 1, 0)\n",
    "\n",
    "df['CTC'] = df[['CTC_CRD', 'ACTC_CRD']].sum(axis=1).groupby(df['spmu_id']).transform('sum')\n",
    "df['CALLOW'] = df['spmu_numkids'] * 3300\n",
    "\n",
    "df['CA_INC'] = df['spmu_resources'] - df['CTC'] + df['CALLOW']\n",
    "\n",
    "df['SPM_CA'] = np.where(df['CA_INC'] < df['spmu_povthreshold'], 1, 0)\n",
    "\n",
    "df['MI_GAP'] = ((df['spmu_povthreshold'] - df['MARKET_INCOME']) / df['spmu_numper']) * df['spmu_weight'] / 100\n",
    "df['SPM_GAP'] = ((df['spmu_povthreshold'] - df['spmu_resources']) / df['spmu_numper']) * df['spmu_weight'] / 100\n",
    "df['CA_GAP'] = ((df['spmu_povthreshold'] - df['CA_INC']) / df['spmu_numper']) * df['spmu_weight'] / 100"
   ]
  },
  {
   "cell_type": "code",
   "execution_count": null,
   "metadata": {},
   "outputs": [],
   "source": []
  },
  {
   "cell_type": "code",
   "execution_count": 20,
   "metadata": {
    "ExecuteTime": {
     "end_time": "2020-09-15T18:13:27.957804Z",
     "start_time": "2020-09-15T18:13:27.849540Z"
    }
   },
   "outputs": [
    {
     "name": "stdout",
     "output_type": "stream",
     "text": [
      "                      SPM        OPM     SPM_MI     SPM_CA\n",
      "Category                                                  \n",
      "Children        25.924970  33.823404  24.266931  17.333621\n",
      "Fully Employed  16.304491  10.080446  11.606246  16.586023\n",
      "Elderly         13.769305   9.761345  27.532471  17.230063\n",
      "Disabled        12.904645  14.852713  13.947804  14.804994\n",
      "Carers           8.679352   9.720166   6.423687   8.290956\n",
      "Unemployed       8.291804   8.243360   6.044157   9.077884\n",
      "Student          8.158302   7.904065   5.153203   9.368350\n",
      "Early Retired    3.382392   3.065769   3.394216   4.231026\n",
      "All Other        2.584739   2.548731   1.631286   3.077083\n"
     ]
    }
   ],
   "source": [
    "# Only below poverty line\n",
    "data = df.query('SPM == 1')\n",
    "data2 = df.query('OPM == 1')\n",
    "data3 = df.query('SPM_MI == 1')\n",
    "data4 = df.query('SPM_CA == 1')\n",
    "\n",
    "results = pd.DataFrame()\n",
    "\n",
    "# Group share of total\n",
    "results['SPM'] = (data.groupby('Category').spmu_weight.sum() / \n",
    "                  data.spmu_weight.sum() * 100).sort_values(ascending=False)\n",
    "\n",
    "results['OPM'] = (data2.groupby('Category').MARSUPWT.sum() / \n",
    "                  data2.MARSUPWT.sum() * 100).sort_values(ascending=False)\n",
    "\n",
    "\n",
    "#results.to_csv(data_dir / 'poor.csv', index_label='name')\n",
    "\n",
    "\n",
    "results['SPM_MI'] = (data3.groupby('Category').spmu_weight.sum() / \n",
    "                  data3.spmu_weight.sum() * 100).sort_values(ascending=False)\n",
    "\n",
    "results['SPM_CA'] = (data4.groupby('Category').spmu_weight.sum() / \n",
    "                  data4.spmu_weight.sum() * 100).sort_values(ascending=False)\n",
    "\n",
    "\n",
    "print(results)"
   ]
  },
  {
   "cell_type": "code",
   "execution_count": 21,
   "metadata": {
    "ExecuteTime": {
     "end_time": "2020-09-15T18:13:28.375287Z",
     "start_time": "2020-09-15T18:13:27.958764Z"
    }
   },
   "outputs": [
    {
     "name": "stdout",
     "output_type": "stream",
     "text": [
      "                      SPM        OPM     SPM_MI     SPM_CA\n",
      "Category                                                  \n",
      "Children        16.987500  21.515458  28.250489   8.826853\n",
      "Fully Employed   6.994778   4.137612   8.846232   5.529863\n",
      "Elderly         14.425015   9.979379  51.244745  14.028025\n",
      "Disabled        28.174830  30.672190  54.102955  25.120538\n",
      "Carers          26.036791  28.098275  34.236115  19.329037\n",
      "Unemployed      27.551753  25.401457  35.680903  23.441763\n",
      "Student         28.323841  24.777499  31.785531  25.276730\n",
      "Early Retired   23.477962  20.596569  41.857744  22.823775\n",
      "All Other       23.874094  22.185618  26.769496  22.087922\n"
     ]
    }
   ],
   "source": [
    "results2 = pd.DataFrame()\n",
    "\n",
    "# Poverty rate of each group\n",
    "results2['SPM'] = (df.groupby('Category')\n",
    "                     .apply(lambda x: np.average(x['SPM'], weights=x['spmu_weight']))\n",
    "                     * 100).loc[results.index]\n",
    "results2['OPM'] = (df.groupby('Category')\n",
    "                     .apply(lambda x: np.average(x['OPM'], weights=x['MARSUPWT']))\n",
    "                     * 100).loc[results.index]\n",
    "\n",
    "#results2.to_csv(data_dir / 'poor2.csv', index_label='name')\n",
    "\n",
    "results2['SPM_MI'] = (df.groupby('Category')\n",
    "                     .apply(lambda x: np.average(x['SPM_MI'], weights=x['spmu_weight']))\n",
    "                     * 100).loc[results.index]\n",
    "\n",
    "results2['SPM_CA'] = (df.groupby('Category')\n",
    "                     .apply(lambda x: np.average(x['SPM_CA'], weights=x['spmu_weight']))\n",
    "                     * 100).loc[results.index]\n",
    "\n",
    "print(results2)"
   ]
  },
  {
   "cell_type": "code",
   "execution_count": 22,
   "metadata": {
    "ExecuteTime": {
     "end_time": "2020-09-15T18:13:28.493423Z",
     "start_time": "2020-09-15T18:13:28.376346Z"
    }
   },
   "outputs": [
    {
     "data": {
      "text/plain": [
       "<AxesSubplot:>"
      ]
     },
     "execution_count": 22,
     "metadata": {},
     "output_type": "execute_result"
    },
    {
     "data": {
      "image/png": "[encoded data removed]",
      "text/plain": [
       "<Figure size 576x576 with 1 Axes>"
      ]
     },
     "metadata": {
      "needs_background": "light"
     },
     "output_type": "display_data"
    }
   ],
   "source": [
    "results3 = pd.DataFrame()\n",
    "\n",
    "#results3['ca_gap'] = (data4.groupby('AGE_GRP')['CA_GAP'].sum() / 3e9)\n",
    "results3['disposable'] = (data.groupby('AGE_GRP')['SPM_GAP'].sum() / 3e9)# - results3['ca_gap']\n",
    "results3['market'] = (data3.groupby('AGE_GRP')['MI_GAP'].sum() / 3e9) - results3['disposable']# - results3['ca_gap']\n",
    "\n",
    "results3 = (results3 * (376.5 / 348.3)) # CPI-U-RS\n",
    "results3.index = [i.left for i in results3.index]\n",
    "results3.to_csv(data_dir / 'poor_age_prev.csv', index_label='age')\n",
    "results3.iloc[::-1].plot(kind='area', stacked=True, figsize=(8,8), color=['limegreen', 'royalblue']);"
   ]
  },
  {
   "cell_type": "code",
   "execution_count": null,
   "metadata": {},
   "outputs": [],
   "source": []
  },
  {
   "cell_type": "code",
   "execution_count": null,
   "metadata": {},
   "outputs": [],
   "source": []
  },
  {
   "cell_type": "code",
   "execution_count": null,
   "metadata": {},
   "outputs": [],
   "source": []
  }
 ],
 "metadata": {
  "kernelspec": {
   "display_name": "Python 3",
   "language": "python",
   "name": "python3"
  },
  "language_info": {
   "codemirror_mode": {
    "name": "ipython",
    "version": 3
   },
   "file_extension": ".py",
   "mimetype": "text/x-python",
   "name": "python",
   "nbconvert_exporter": "python",
   "pygments_lexer": "ipython3",
   "version": "3.8.5"
  }
 },
 "nbformat": 4,
 "nbformat_minor": 2
}
