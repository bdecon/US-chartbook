{
 "cells": [
  {
   "cell_type": "markdown",
   "metadata": {},
   "source": [
    "### Who are the poor?\n",
    "\n",
    "Attempt to replicate excellent chart by Matt Bruenig\n",
    "\n",
    "----\n",
    "\n",
    "Source: CPS ASEC"
   ]
  },
  {
   "cell_type": "code",
   "execution_count": 1,
   "metadata": {
    "ExecuteTime": {
     "end_time": "2020-09-15T14:59:29.280026Z",
     "start_time": "2020-09-15T14:59:28.643504Z"
    }
   },
   "outputs": [],
   "source": [
    "import sys\n",
    "sys.path.append('../src')\n",
    "\n",
    "import requests\n",
    "\n",
    "import uschartbook.config\n",
    "\n",
    "from uschartbook.config import *\n",
    "from uschartbook.utils import *"
   ]
  },
  {
   "cell_type": "code",
   "execution_count": 2,
   "metadata": {
    "ExecuteTime": {
     "end_time": "2020-09-15T14:59:36.916720Z",
     "start_time": "2020-09-15T14:59:30.031371Z"
    }
   },
   "outputs": [],
   "source": [
    "# Extract person records for selected variables\n",
    "variables = ['H_SEQ', 'PPPOS', \n",
    "             'PRECORD', 'A_AGE', 'MARSUPWT', 'PERLIS', \n",
    "             'SPM_Resources', 'SPM_PovThreshold', 'WKSWORK',\n",
    "             'PRDISFLG', 'RSNNOTW', 'PYRSN', 'LKWEEKS',\n",
    "             'SPM_Weight', 'SPM_ID', 'SPM_CapWkCCXpns',\n",
    "             'SPM_Totval', 'SPM_MedXpns', 'SPM_ChildSupPd',\n",
    "             'SPM_Poor', 'CTC_CRD', 'ACTC_CRD', \n",
    "             'SPM_NumKids', 'SPM_NumPer']\n",
    "\n",
    "benefits = ['SS_VAL', 'SSI_VAL', 'UC_VAL', 'VET_VAL', \n",
    "            'WC_VAL', 'PAW_VAL']\n",
    "\n",
    "path = '/home/brian/Documents/ASEC/'\n",
    "\n",
    "dictfile = f'{path}/data/persfmt.txt'\n",
    "dd = open(dictfile).read()\n",
    "p = f'({\"|\".join(variables + benefits)})\\s+(\\d+)\\s+(\\d+)\\s'\n",
    "cols = {name: (int(start) - 1, int(start) - 1 + int(length)) \n",
    "        for name, length, start in re.findall(p, dd)}\n",
    "\n",
    "datafile = f'{path}/data/asec2019_pubuse.dat'\n",
    "df = (pd.read_fwf(datafile, \n",
    "                  colspecs=list(cols.values()), \n",
    "                  header=None, \n",
    "                  names=list(cols.keys()))\n",
    "        .query('PRECORD == 3'))"
   ]
  },
  {
   "cell_type": "code",
   "execution_count": 3,
   "metadata": {
    "ExecuteTime": {
     "end_time": "2020-09-15T14:59:37.037805Z",
     "start_time": "2020-09-15T14:59:36.917708Z"
    }
   },
   "outputs": [],
   "source": [
    "# Categorize population\n",
    "df['Category'] = (np.where(df.A_AGE < 18, 'Children', \n",
    "                  np.where(df.A_AGE > 64, 'Elderly', \n",
    "                  np.where(((df.PRDISFLG == 1) | (df.PYRSN == 1) | (df.RSNNOTW == 1)), 'Disabled', \n",
    "                  np.where(((df.PYRSN == 3) | (df.RSNNOTW == 4)), 'Student', \n",
    "                  np.where(((df.PYRSN == 2) | (df.RSNNOTW == 3)), 'Carers',\n",
    "                  np.where(((df.PYRSN == 5) | (df.RSNNOTW == 5) | (df.LKWEEKS > 0)), 'Unemployed',         \n",
    "                  np.where(((df.PYRSN == 4) | (df.RSNNOTW == 2)), 'Early Retired',  \n",
    "                  np.where(df.WKSWORK > 49, 'Fully Employed', 'All Other')))))))))\n",
    "\n",
    "df['AGE_GRP'] = pd.cut(df.A_AGE, range(0, 79, 3))\n",
    "\n",
    "df['SPM'] = np.where(df['SPM_Resources'] < df['SPM_PovThreshold'], 1, 0)\n",
    "df['OPM'] = np.where(df['PERLIS'] == 1, 1, 0)\n",
    "df['MARKET_INCOME'] = (df['SPM_Totval'] - \n",
    "                       df[['SPM_CapWkCCXpns','SPM_MedXpns', 'SPM_ChildSupPd']].sum(axis=1) - \n",
    "                       df[benefits].sum(axis=1).groupby(df['SPM_ID']).transform('sum'))\n",
    "\n",
    "df['SPM_MI'] = np.where(df['MARKET_INCOME'] < df['SPM_PovThreshold'], 1, 0)\n",
    "\n",
    "df['CTC'] = df[['CTC_CRD', 'ACTC_CRD']].sum(axis=1).groupby(df['SPM_ID']).transform('sum')\n",
    "df['CALLOW'] = df['SPM_NumKids'] * 3300\n",
    "\n",
    "df['CA_INC'] = df['SPM_Resources'] - df['CTC'] + df['CALLOW']\n",
    "\n",
    "df['SPM_CA'] = np.where(df['CA_INC'] < df['SPM_PovThreshold'], 1, 0)\n",
    "\n",
    "df['MI_GAP'] = ((df['SPM_PovThreshold'] - df['MARKET_INCOME']) / df['SPM_NumPer']) * df['SPM_Weight'] / 100\n",
    "df['SPM_GAP'] = ((df['SPM_PovThreshold'] - df['SPM_Resources']) / df['SPM_NumPer']) * df['SPM_Weight'] / 100\n",
    "df['CA_GAP'] = ((df['SPM_PovThreshold'] - df['CA_INC']) / df['SPM_NumPer']) * df['SPM_Weight'] / 100"
   ]
  },
  {
   "cell_type": "code",
   "execution_count": 4,
   "metadata": {
    "ExecuteTime": {
     "end_time": "2020-09-15T14:59:37.108800Z",
     "start_time": "2020-09-15T14:59:37.038855Z"
    }
   },
   "outputs": [
    {
     "name": "stdout",
     "output_type": "stream",
     "text": [
      "                      SPM        OPM     SPM_MI     SPM_CA\n",
      "Category                                                  \n",
      "Children        23.935014  32.022004  21.567392  16.495507\n",
      "Elderly         17.859979  13.313400  33.406293  21.422614\n",
      "Fully Employed  15.942622   9.827651  11.044724  16.120245\n",
      "Disabled        13.713975  15.609597  13.612266  15.414322\n",
      "Carers           7.432734   8.254535   5.135020   7.156848\n",
      "Student          6.251977   6.206497   3.809745   7.167928\n",
      "All Other        5.947823   5.878308   4.195099   6.286066\n",
      "Unemployed       5.438619   5.699014   3.761860   5.788919\n",
      "Early Retired    3.477258   3.188996   3.467599   4.147552\n"
     ]
    }
   ],
   "source": [
    "# Only below poverty line\n",
    "data = df.query('SPM == 1')\n",
    "data2 = df.query('OPM == 1')\n",
    "data3 = df.query('SPM_MI == 1')\n",
    "data4 = df.query('SPM_CA == 1')\n",
    "\n",
    "results = pd.DataFrame()\n",
    "\n",
    "# Group share of total\n",
    "results['SPM'] = (data.groupby('Category').SPM_Weight.sum() / \n",
    "                  data.SPM_Weight.sum() * 100).sort_values(ascending=False)\n",
    "\n",
    "results['OPM'] = (data2.groupby('Category').MARSUPWT.sum() / \n",
    "                  data2.MARSUPWT.sum() * 100).sort_values(ascending=False)\n",
    "\n",
    "\n",
    "results['SPM_MI'] = (data3.groupby('Category').SPM_Weight.sum() / \n",
    "                  data3.SPM_Weight.sum() * 100).sort_values(ascending=False)\n",
    "\n",
    "results.to_csv(data_dir / 'poor.csv', index_label='name')\n",
    "\n",
    "results['SPM_CA'] = (data4.groupby('Category').SPM_Weight.sum() / \n",
    "                  data4.SPM_Weight.sum() * 100).sort_values(ascending=False)\n",
    "\n",
    "\n",
    "print(results)"
   ]
  },
  {
   "cell_type": "code",
   "execution_count": 5,
   "metadata": {
    "ExecuteTime": {
     "end_time": "2020-09-15T14:59:39.275060Z",
     "start_time": "2020-09-15T14:59:39.006830Z"
    },
    "scrolled": true
   },
   "outputs": [
    {
     "name": "stdout",
     "output_type": "stream",
     "text": [
      "                      SPM        OPM     SPM_MI     SPM_CA\n",
      "Category                                                  \n",
      "Children        13.420792  16.773802  22.909574   7.555149\n",
      "Elderly         13.506284   9.748823  47.858398  13.233061\n",
      "Fully Employed   5.346813   3.108906   7.017220   4.416109\n",
      "Disabled        27.272641  28.850774  51.282502  25.039242\n",
      "Carers          24.596071  26.063815  32.190979  19.345137\n",
      "Student         29.753568  26.014633  34.347294  27.864305\n",
      "All Other       14.977139  13.656449  20.011887  12.929529\n",
      "Unemployed      21.936629  20.970621  28.744774  19.072677\n",
      "Early Retired   23.043398  20.329840  43.532487  22.450934\n"
     ]
    }
   ],
   "source": [
    "results2 = pd.DataFrame()\n",
    "\n",
    "# Poverty rate of each group\n",
    "results2['SPM'] = (df.groupby('Category')\n",
    "                     .apply(lambda x: np.average(x['SPM'], weights=x['SPM_Weight']))\n",
    "                     * 100).loc[results.index]\n",
    "results2['OPM'] = (df.groupby('Category')\n",
    "                     .apply(lambda x: np.average(x['OPM'], weights=x['MARSUPWT']))\n",
    "                     * 100).loc[results.index]\n",
    "\n",
    "results2['SPM_MI'] = (df.groupby('Category')\n",
    "                     .apply(lambda x: np.average(x['SPM_MI'], weights=x['SPM_Weight']))\n",
    "                     * 100).loc[results.index]\n",
    "\n",
    "results2.to_csv(data_dir / 'poor2.csv', index_label='name')\n",
    "\n",
    "results2['SPM_CA'] = (df.groupby('Category')\n",
    "                     .apply(lambda x: np.average(x['SPM_CA'], weights=x['SPM_Weight']))\n",
    "                     * 100).loc[results.index]\n",
    "\n",
    "print(results2)"
   ]
  },
  {
   "cell_type": "code",
   "execution_count": 6,
   "metadata": {
    "ExecuteTime": {
     "end_time": "2020-09-15T14:59:40.006312Z",
     "start_time": "2020-09-15T14:59:39.849277Z"
    }
   },
   "outputs": [
    {
     "data": {
      "text/plain": [
       "<AxesSubplot:>"
      ]
     },
     "execution_count": 6,
     "metadata": {},
     "output_type": "execute_result"
    },
    {
     "data": {
      "image/png": "[encoded data removed]",
      "text/plain": [
       "<Figure size 576x576 with 1 Axes>"
      ]
     },
     "metadata": {
      "needs_background": "light"
     },
     "output_type": "display_data"
    }
   ],
   "source": [
    "results3 = pd.DataFrame()\n",
    "\n",
    "results3['disposable'] = (data.groupby('AGE_GRP')['SPM_GAP'].sum() / 3e9)\n",
    "results3['market'] = (data3.groupby('AGE_GRP')['MI_GAP'].sum() / 3e9) - results3['disposable']\n",
    "\n",
    "results3.index = [i.left for i in results3.index]\n",
    "results3.to_csv(data_dir / 'poor_age_latest.csv', index_label='age')\n",
    "results3.iloc[::-1].plot(kind='area', stacked=True, figsize=(8,8), color=['limegreen', 'royalblue'])"
   ]
  },
  {
   "cell_type": "code",
   "execution_count": null,
   "metadata": {},
   "outputs": [],
   "source": []
  },
  {
   "cell_type": "code",
   "execution_count": null,
   "metadata": {},
   "outputs": [],
   "source": [
    "np.average(df['SPM'], weights=df['MARSUPWT'])"
   ]
  },
  {
   "cell_type": "code",
   "execution_count": null,
   "metadata": {},
   "outputs": [],
   "source": [
    "df.query('SPM == 1').MARSUPWT.sum()"
   ]
  },
  {
   "cell_type": "code",
   "execution_count": null,
   "metadata": {},
   "outputs": [],
   "source": [
    "df.query('SPM == 1').SPM_GAP.sum()"
   ]
  },
  {
   "cell_type": "code",
   "execution_count": null,
   "metadata": {},
   "outputs": [],
   "source": []
  },
  {
   "cell_type": "code",
   "execution_count": null,
   "metadata": {},
   "outputs": [],
   "source": [
    "np.average(df['SPM_MI'], weights=df['MARSUPWT'])"
   ]
  },
  {
   "cell_type": "code",
   "execution_count": null,
   "metadata": {},
   "outputs": [],
   "source": [
    "df.query('SPM_MI == 1').MARSUPWT.sum() "
   ]
  },
  {
   "cell_type": "code",
   "execution_count": null,
   "metadata": {},
   "outputs": [],
   "source": [
    "df.query('SPM_MI == 1').MI_GAP.sum()"
   ]
  },
  {
   "cell_type": "code",
   "execution_count": null,
   "metadata": {},
   "outputs": [],
   "source": []
  },
  {
   "cell_type": "code",
   "execution_count": null,
   "metadata": {},
   "outputs": [],
   "source": [
    "df.query('SPM_MI == 1').MARSUPWT.sum() - df.query('SPM == 1').MARSUPWT.sum()"
   ]
  },
  {
   "cell_type": "code",
   "execution_count": null,
   "metadata": {},
   "outputs": [],
   "source": []
  },
  {
   "cell_type": "code",
   "execution_count": null,
   "metadata": {},
   "outputs": [],
   "source": []
  },
  {
   "cell_type": "code",
   "execution_count": null,
   "metadata": {},
   "outputs": [],
   "source": []
  },
  {
   "cell_type": "code",
   "execution_count": null,
   "metadata": {},
   "outputs": [],
   "source": []
  },
  {
   "cell_type": "code",
   "execution_count": null,
   "metadata": {},
   "outputs": [],
   "source": []
  },
  {
   "cell_type": "code",
   "execution_count": null,
   "metadata": {},
   "outputs": [],
   "source": []
  },
  {
   "cell_type": "code",
   "execution_count": null,
   "metadata": {},
   "outputs": [],
   "source": []
  },
  {
   "cell_type": "code",
   "execution_count": 7,
   "metadata": {
    "ExecuteTime": {
     "end_time": "2020-09-15T14:59:47.528740Z",
     "start_time": "2020-09-15T14:59:47.322232Z"
    }
   },
   "outputs": [],
   "source": [
    "spm = pd.read_stata(f'{path}/data/spmresearch2014.dta')"
   ]
  },
  {
   "cell_type": "code",
   "execution_count": 9,
   "metadata": {
    "ExecuteTime": {
     "end_time": "2020-09-15T15:00:02.338789Z",
     "start_time": "2020-09-15T14:59:56.862709Z"
    }
   },
   "outputs": [],
   "source": [
    "dictfile = f'{path}/data/asec2015early_pubuse.dd.txt'\n",
    "dd = open(dictfile, encoding='iso-8859-1').read()\n",
    "p = re.compile(f'D ({\"|\".join(variables + benefits)})\\s+(\\d+)\\s+(\\d+)\\s+')\n",
    "cols = {name: (int(start) - 1, int(start) - 1 + int(length)) \n",
    "        for name, length, start in re.findall(p, dd)}\n",
    "\n",
    "datafile = f'{path}/data/asec2015_pubuse.dat'\n",
    "df = (pd.read_fwf(datafile, \n",
    "                  colspecs=list(cols.values()), \n",
    "                  header=None, \n",
    "                  names=list(cols.keys()))\n",
    "        .query('PRECORD == 3').astype('int'))"
   ]
  },
  {
   "cell_type": "code",
   "execution_count": 10,
   "metadata": {
    "ExecuteTime": {
     "end_time": "2020-09-15T15:00:02.447199Z",
     "start_time": "2020-09-15T15:00:02.339913Z"
    }
   },
   "outputs": [],
   "source": [
    "df = pd.merge(spm, df, left_on=['h_seq', 'pppos'], right_on=['H_SEQ', 'PPPOS'])#.keys()"
   ]
  },
  {
   "cell_type": "code",
   "execution_count": 11,
   "metadata": {
    "ExecuteTime": {
     "end_time": "2020-09-15T15:00:03.492470Z",
     "start_time": "2020-09-15T15:00:03.330054Z"
    }
   },
   "outputs": [],
   "source": [
    "# Categorize population\n",
    "df['Category'] = (np.where(df.A_AGE < 18, 'Children', \n",
    "                  np.where(df.A_AGE > 64, 'Elderly', \n",
    "                  np.where(((df.PRDISFLG == 1) | (df.PYRSN == 1) | (df.RSNNOTW == 1)), 'Disabled', \n",
    "                  np.where(((df.PYRSN == 3) | (df.RSNNOTW == 4)), 'Student', \n",
    "                  np.where(((df.PYRSN == 2) | (df.RSNNOTW == 3)), 'Carers',\n",
    "                  np.where(((df.PYRSN == 5) | (df.RSNNOTW == 5) | (df.LKWEEKS > 0)), 'Unemployed',         \n",
    "                  np.where(((df.PYRSN == 4) | (df.RSNNOTW == 2)), 'Early Retired',  \n",
    "                  np.where(df.WKSWORK > 49, 'Fully Employed', 'All Other')))))))))\n",
    "\n",
    "df['AGE_GRP'] = pd.cut(df.A_AGE, range(0, 79, 3))\n",
    "\n",
    "df['SPM'] = np.where(df['spmu_poor'] == 1, 1, 0)\n",
    "df['OPM'] = np.where(df['PERLIS'] == 1, 1, 0)\n",
    "df['MARKET_INCOME'] = (df['spmu_totval'] - \n",
    "                       df[['spmu_capwknchcarexpns','spmu_medoopnmcareb', 'spmu_childsuppd']].sum(axis=1) - \n",
    "                       df[benefits].sum(axis=1).groupby(df['spmu_id']).transform('sum'))\n",
    "\n",
    "df['SPM_MI'] = np.where(df['MARKET_INCOME'] < df['spmu_povthreshold'], 1, 0)\n",
    "\n",
    "df['CTC'] = df[['CTC_CRD', 'ACTC_CRD']].sum(axis=1).groupby(df['spmu_id']).transform('sum')\n",
    "df['CALLOW'] = df['spmu_numkids'] * 3300\n",
    "\n",
    "df['CA_INC'] = df['spmu_resources'] - df['CTC'] + df['CALLOW']\n",
    "\n",
    "df['SPM_CA'] = np.where(df['CA_INC'] < df['spmu_povthreshold'], 1, 0)\n",
    "\n",
    "df['MI_GAP'] = ((df['spmu_povthreshold'] - df['MARKET_INCOME']) / df['spmu_numper']) * df['spmu_weight'] / 100\n",
    "df['SPM_GAP'] = ((df['spmu_povthreshold'] - df['spmu_resources']) / df['spmu_numper']) * df['spmu_weight'] / 100\n",
    "df['CA_GAP'] = ((df['spmu_povthreshold'] - df['CA_INC']) / df['spmu_numper']) * df['spmu_weight'] / 100"
   ]
  },
  {
   "cell_type": "code",
   "execution_count": null,
   "metadata": {},
   "outputs": [],
   "source": []
  },
  {
   "cell_type": "code",
   "execution_count": 12,
   "metadata": {
    "ExecuteTime": {
     "end_time": "2020-09-15T15:00:05.887422Z",
     "start_time": "2020-09-15T15:00:05.763886Z"
    }
   },
   "outputs": [
    {
     "name": "stdout",
     "output_type": "stream",
     "text": [
      "                      SPM        OPM     SPM_MI     SPM_CA\n",
      "Category                                                  \n",
      "Children        25.924970  33.823404  24.266931  17.333621\n",
      "Fully Employed  16.304491  10.080446  11.606246  16.586023\n",
      "Elderly         13.769305   9.761345  27.532471  17.230063\n",
      "Disabled        12.904645  14.852713  13.947804  14.804994\n",
      "Carers           8.679352   9.720166   6.423687   8.290956\n",
      "Unemployed       8.291804   8.243360   6.044157   9.077884\n",
      "Student          8.158302   7.904065   5.153203   9.368350\n",
      "Early Retired    3.382392   3.065769   3.394216   4.231026\n",
      "All Other        2.584739   2.548731   1.631286   3.077083\n"
     ]
    }
   ],
   "source": [
    "# Only below poverty line\n",
    "data = df.query('SPM == 1')\n",
    "data2 = df.query('OPM == 1')\n",
    "data3 = df.query('SPM_MI == 1')\n",
    "data4 = df.query('SPM_CA == 1')\n",
    "\n",
    "results = pd.DataFrame()\n",
    "\n",
    "# Group share of total\n",
    "results['SPM'] = (data.groupby('Category').spmu_weight.sum() / \n",
    "                  data.spmu_weight.sum() * 100).sort_values(ascending=False)\n",
    "\n",
    "results['OPM'] = (data2.groupby('Category').MARSUPWT.sum() / \n",
    "                  data2.MARSUPWT.sum() * 100).sort_values(ascending=False)\n",
    "\n",
    "\n",
    "#results.to_csv(data_dir / 'poor.csv', index_label='name')\n",
    "\n",
    "\n",
    "results['SPM_MI'] = (data3.groupby('Category').spmu_weight.sum() / \n",
    "                  data3.spmu_weight.sum() * 100).sort_values(ascending=False)\n",
    "\n",
    "results['SPM_CA'] = (data4.groupby('Category').spmu_weight.sum() / \n",
    "                  data4.spmu_weight.sum() * 100).sort_values(ascending=False)\n",
    "\n",
    "\n",
    "print(results)"
   ]
  },
  {
   "cell_type": "code",
   "execution_count": 13,
   "metadata": {
    "ExecuteTime": {
     "end_time": "2020-09-15T15:00:08.584184Z",
     "start_time": "2020-09-15T15:00:08.156728Z"
    }
   },
   "outputs": [
    {
     "name": "stdout",
     "output_type": "stream",
     "text": [
      "                      SPM        OPM     SPM_MI     SPM_CA\n",
      "Category                                                  \n",
      "Children        16.987500  21.515458  28.250489   8.826853\n",
      "Fully Employed   6.994778   4.137612   8.846232   5.529863\n",
      "Elderly         14.425015   9.979379  51.244745  14.028025\n",
      "Disabled        28.174830  30.672190  54.102955  25.120538\n",
      "Carers          26.036791  28.098275  34.236115  19.329037\n",
      "Unemployed      27.551753  25.401457  35.680903  23.441763\n",
      "Student         28.323841  24.777499  31.785531  25.276730\n",
      "Early Retired   23.477962  20.596569  41.857744  22.823775\n",
      "All Other       23.874094  22.185618  26.769496  22.087922\n"
     ]
    }
   ],
   "source": [
    "results2 = pd.DataFrame()\n",
    "\n",
    "# Poverty rate of each group\n",
    "results2['SPM'] = (df.groupby('Category')\n",
    "                     .apply(lambda x: np.average(x['SPM'], weights=x['spmu_weight']))\n",
    "                     * 100).loc[results.index]\n",
    "results2['OPM'] = (df.groupby('Category')\n",
    "                     .apply(lambda x: np.average(x['OPM'], weights=x['MARSUPWT']))\n",
    "                     * 100).loc[results.index]\n",
    "\n",
    "#results2.to_csv(data_dir / 'poor2.csv', index_label='name')\n",
    "\n",
    "results2['SPM_MI'] = (df.groupby('Category')\n",
    "                     .apply(lambda x: np.average(x['SPM_MI'], weights=x['spmu_weight']))\n",
    "                     * 100).loc[results.index]\n",
    "\n",
    "results2['SPM_CA'] = (df.groupby('Category')\n",
    "                     .apply(lambda x: np.average(x['SPM_CA'], weights=x['spmu_weight']))\n",
    "                     * 100).loc[results.index]\n",
    "\n",
    "print(results2)"
   ]
  },
  {
   "cell_type": "code",
   "execution_count": 14,
   "metadata": {
    "ExecuteTime": {
     "end_time": "2020-09-15T15:00:08.935196Z",
     "start_time": "2020-09-15T15:00:08.797882Z"
    }
   },
   "outputs": [
    {
     "data": {
      "text/plain": [
       "<AxesSubplot:>"
      ]
     },
     "execution_count": 14,
     "metadata": {},
     "output_type": "execute_result"
    },
    {
     "data": {
      "image/png": "[encoded data removed]",
      "text/plain": [
       "<Figure size 576x576 with 1 Axes>"
      ]
     },
     "metadata": {
      "needs_background": "light"
     },
     "output_type": "display_data"
    }
   ],
   "source": [
    "results3 = pd.DataFrame()\n",
    "\n",
    "#results3['ca_gap'] = (data4.groupby('AGE_GRP')['CA_GAP'].sum() / 3e9)\n",
    "results3['disposable'] = (data.groupby('AGE_GRP')['SPM_GAP'].sum() / 3e9)# - results3['ca_gap']\n",
    "results3['market'] = (data3.groupby('AGE_GRP')['MI_GAP'].sum() / 3e9) - results3['disposable']# - results3['ca_gap']\n",
    "\n",
    "results3 = (results3 * 1.06172839506) # CPI-U-RS\n",
    "results3.index = [i.left for i in results3.index]\n",
    "results3.to_csv(data_dir / 'poor_age_prev.csv', index_label='age')\n",
    "results3.iloc[::-1].plot(kind='area', stacked=True, figsize=(8,8), color=['limegreen', 'royalblue'])"
   ]
  },
  {
   "cell_type": "code",
   "execution_count": null,
   "metadata": {},
   "outputs": [],
   "source": []
  },
  {
   "cell_type": "code",
   "execution_count": null,
   "metadata": {},
   "outputs": [],
   "source": []
  },
  {
   "cell_type": "code",
   "execution_count": null,
   "metadata": {},
   "outputs": [],
   "source": []
  },
  {
   "cell_type": "code",
   "execution_count": null,
   "metadata": {},
   "outputs": [],
   "source": []
  },
  {
   "cell_type": "code",
   "execution_count": null,
   "metadata": {},
   "outputs": [],
   "source": []
  },
  {
   "cell_type": "code",
   "execution_count": null,
   "metadata": {},
   "outputs": [],
   "source": []
  }
 ],
 "metadata": {
  "kernelspec": {
   "display_name": "Python 3",
   "language": "python",
   "name": "python3"
  },
  "language_info": {
   "codemirror_mode": {
    "name": "ipython",
    "version": 3
   },
   "file_extension": ".py",
   "mimetype": "text/x-python",
   "name": "python",
   "nbconvert_exporter": "python",
   "pygments_lexer": "ipython3",
   "version": "3.8.5"
  }
 },
 "nbformat": 4,
 "nbformat_minor": 2
}
