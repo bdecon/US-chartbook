{
 "cells": [
  {
   "cell_type": "markdown",
   "id": "97bd2e8f",
   "metadata": {},
   "source": [
    "### Government Sector "
   ]
  },
  {
   "cell_type": "code",
   "execution_count": 1,
   "id": "8fc9fc07",
   "metadata": {
    "ExecuteTime": {
     "end_time": "2023-12-08T22:07:05.449048Z",
     "start_time": "2023-12-08T22:07:04.430586Z"
    }
   },
   "outputs": [],
   "source": [
    "%config Completer.use_jedi = False\n",
    "import sys\n",
    "import json\n",
    "from bs4 import BeautifulSoup\n",
    "sys.path.append('../src')\n",
    "\n",
    "import uschartbook.config\n",
    "\n",
    "from uschartbook.config import *\n",
    "from uschartbook.utils import *"
   ]
  },
  {
   "cell_type": "markdown",
   "id": "a5d434d1",
   "metadata": {},
   "source": [
    "### Number of social security beneficiaries\n",
    "\n",
    "Time series downloaded from here: https://www.ssa.gov/OACT/ProgData/icp.html\n",
    "\n",
    "Long-term data were downloaded manually and stored locally. "
   ]
  },
  {
   "cell_type": "code",
   "execution_count": 2,
   "id": "5dbc9894",
   "metadata": {
    "ExecuteTime": {
     "end_time": "2023-12-08T22:07:05.660115Z",
     "start_time": "2023-12-08T22:07:05.450864Z"
    }
   },
   "outputs": [],
   "source": [
    "# Manually retrieved and locally stored data\n",
    "raw = pd.read_csv('/home/brian/Documents/uschartbook/data/ssa_beneficiaries.csv', \n",
    "                  index_col='Date', parse_dates=True)\n",
    "\n",
    "# Recent monthly data\n",
    "url = 'https://www.ssa.gov/cgi-bin/currentpay.cgi'\n",
    "r = pd.read_html(url)\n",
    "df = r[2]\n",
    "df.columns = [i[1] for i in df.columns] \n",
    "df = df.rename({'End of': 'Date'}, axis=1)\n",
    "df.index = pd.to_datetime(df['Date'])\n",
    "df = df.drop('Date', axis=1)\n",
    "\n",
    "# Combine long-term and monthly data\n",
    "res = pd.concat([raw, df]).drop_duplicates(keep='last')\n",
    "res.to_csv(data_dir / 'ss_beneficiaries.csv', index_label='Date')"
   ]
  },
  {
   "cell_type": "markdown",
   "id": "573ca6a5",
   "metadata": {},
   "source": [
    "### Medicare enrollment\n",
    "\n",
    "Long term data found on census.gov stored locally. Data from 2013 onward retrieved from changing link."
   ]
  },
  {
   "cell_type": "code",
   "execution_count": 3,
   "id": "eae0c177",
   "metadata": {
    "ExecuteTime": {
     "end_time": "2023-12-08T22:07:14.132707Z",
     "start_time": "2023-12-08T22:07:05.661295Z"
    }
   },
   "outputs": [],
   "source": [
    "# Manually retrieved and locally stored data\n",
    "raw = pd.read_csv('/home/brian/Documents/uschartbook/data/medicare.csv', \n",
    "                  index_col='Date', parse_dates=True)\n",
    "raw.index = raw.index + pd.DateOffset(months=6)\n",
    "\n",
    "# Recent data \n",
    "url = 'https://catalog.data.gov/dataset/medicare-monthly-enrollment'\n",
    "r = requests.get(url)\n",
    "soup = BeautifulSoup(r.content, 'html.parser')\n",
    "links = [link.get('href') for link in soup('a')]\n",
    "furl = [i for i in links if i.endswith('csv')][0]\n",
    "df = pd.read_csv(furl)\n",
    "res = (df.query('BENE_STATE_DESC == \"National\" and MONTH != \"Year\"'))\n",
    "res.index = [pd.to_datetime(f'{i[1].MONTH} {i[1].YEAR}') \n",
    "             for i in res.iterrows()]\n",
    "data = res['TOT_BENES']\n",
    "data = res['TOT_BENES']\n",
    "data.name = 'Total'\n",
    "data.index.name = 'Date'\n",
    "\n",
    "# Combine long-term and monthly data\n",
    "comb = pd.concat([raw['Total'], data], axis=0).astype('float')\n",
    "comb.to_csv(data_dir / 'medicare_enrollment.csv', index_label='Date')"
   ]
  },
  {
   "cell_type": "markdown",
   "id": "87078924",
   "metadata": {},
   "source": [
    "### Medicaid and CHIP enrollment data\n",
    "\n",
    "Long-term data stored locally\n",
    "\n",
    "Recent data from csv file here: https://data.medicaid.gov/dataset/6165f45b-ca93-5bb5-9d06-db29c692a360"
   ]
  },
  {
   "cell_type": "code",
   "execution_count": 4,
   "id": "2eab44a3",
   "metadata": {
    "ExecuteTime": {
     "end_time": "2023-12-08T22:07:15.218166Z",
     "start_time": "2023-12-08T22:07:14.134608Z"
    }
   },
   "outputs": [],
   "source": [
    "# Manually retrieved and locally stored data\n",
    "raw = pd.read_csv('/home/brian/Documents/uschartbook/data/medicaid.csv', \n",
    "                  index_col='Date', parse_dates=True)\n",
    "raw.index = raw.index + pd.DateOffset(months=6)\n",
    "\n",
    "# Retrieve recent data and combine with long-term data\n",
    "url = ('https://data.medicaid.gov/sites/default/files/uploaded_resources/'+\n",
    "       'StateMedicaidandCHIPApplicationsEligibilityDeterminationsandEnrollmentData'+\n",
    "       'August2023.csv')\n",
    "\n",
    "df = pd.read_csv(url)\n",
    "dates = df.report_date.unique()\n",
    "upd = df.query('preliminary_updated == \"U\"')\n",
    "prl = df.query('report_date == @dates[-1]')\n",
    "data = pd.concat([upd, prl]).dropna(subset='total_medicaid_enrollment')\n",
    "data['date'] = pd.to_datetime(data['report_date'])\n",
    "tot = pd.concat([raw['Total'], \n",
    "                 (data.groupby('date')['total_medicaid_and_chip_enrollment'].sum()\n",
    "                  / 1_000_000).loc['2022':]])\n",
    "tot.to_csv(data_dir / 'medicaid_enrollment.csv', index_label='Date')"
   ]
  },
  {
   "cell_type": "code",
   "execution_count": 5,
   "id": "36248a5f",
   "metadata": {
    "ExecuteTime": {
     "end_time": "2023-12-08T22:07:15.546160Z",
     "start_time": "2023-12-08T22:07:15.220867Z"
    }
   },
   "outputs": [],
   "source": [
    "df = pd.read_csv(url)\n",
    "dates = df.report_date.unique()\n",
    "upd = df.query('preliminary_updated == \"U\"')\n",
    "prl = df.query('report_date == @dates[-1]')\n",
    "data = pd.concat([upd, prl]).dropna(subset='total_medicaid_enrollment')\n",
    "data['date'] = pd.to_datetime(data['report_date'])\n",
    "tot = pd.concat([raw['Total'], \n",
    "                 (data.groupby('date')['total_medicaid_and_chip_enrollment'].sum()\n",
    "                  / 1_000_000).loc['2022':]])\n",
    "tot.to_csv(data_dir / 'medicaid_enrollment.csv', index_label='Date')"
   ]
  },
  {
   "cell_type": "markdown",
   "id": "e062c20b",
   "metadata": {},
   "source": [
    "### Combine SS, Medicare, Medicaid and calculation share of population"
   ]
  },
  {
   "cell_type": "code",
   "execution_count": 6,
   "id": "ab43c580",
   "metadata": {
    "ExecuteTime": {
     "end_time": "2023-12-08T22:07:15.593020Z",
     "start_time": "2023-12-08T22:07:15.547771Z"
    }
   },
   "outputs": [
    {
     "name": "stdout",
     "output_type": "stream",
     "text": [
      "The number of Social Security beneficiaries has increased from 53.4 million in 2010, or 17.2 percent of the population, to 66.9 million in October 2023, equivalent to 19.9 percent of the population. \n",
      "\n",
      "Medicare enrollment has grown from 15.3 percent of the population in 2010 to 19.8 percent. Total Medicare enrollment is 66.3 million in August 2023. Medicaid, which was expanded in 2014, and the Children's Health Insurance Program (CHIP), increased enrollment from 17.4 percent of the population in 2010 to 26.8 percent in August 2023. The total enrollment for Medicaid and CHIP is 90.0 million people. \n"
     ]
    }
   ],
   "source": [
    "# Social Security Retrieve data\n",
    "res = pd.read_csv(data_dir / 'ss_beneficiaries.csv', index_col='Date', \n",
    "                  parse_dates=True)\n",
    "\n",
    "# Population\n",
    "cols = ['B230RC']\n",
    "dfm = (pd.read_csv(data_dir/'nipa20600.csv', index_col='date', \n",
    "                  parse_dates=True)[cols])\n",
    "pop = dfm['B230RC']\n",
    "# Some months not available in nipa tables yet\n",
    "pope = pd.read_csv(data_dir / 'pop_est_bea.csv', \n",
    "                   index_col='date', parse_dates=True)\n",
    "pop = (pd.concat([pop, (pope['POP'] / 1000)]).reset_index()\n",
    "         .drop_duplicates(subset='date', keep='first')\n",
    "         .set_index('date')[0])\n",
    "sh = (res['Number'] / pop / 10).dropna()\n",
    "\n",
    "ltdt = dtxt(res.index[-1])['mon1']\n",
    "v10 = res.loc['2010', 'Number'].mean() / 1_000_000\n",
    "sh10 = value_text(sh.loc['2010'].mean(), 'plain')\n",
    "vlt = res.Number.iloc[-1] / 1_000_000\n",
    "shlt = value_text(sh.iloc[-1], 'plain')\n",
    "txt1 = ('The number of Social Security beneficiaries has increased '+\n",
    "        f'from {v10:.1f} million in 2010, or {sh10} '+\n",
    "        f'of the population, to {vlt:.1f} million in {ltdt}, '+\n",
    "        f'equivalent to {shlt} of the population. ')\n",
    "\n",
    "\n",
    "# Medicare Retrieve data\n",
    "comb = pd.read_csv(data_dir / 'medicare_enrollment.csv', index_col='Date', \n",
    "                  parse_dates=True)\n",
    "sh2 = comb.divide(pop, axis=0).dropna() / 10\n",
    "\n",
    "\n",
    "# Retrieve Medicaid data\n",
    "tot = pd.read_csv(data_dir / 'medicaid_enrollment.csv', index_col='Date', \n",
    "                  parse_dates=True)['0']\n",
    "sh3 = tot.divide(pop, axis=0).dropna() * 100_000\n",
    "\n",
    "\n",
    "# Combine data\n",
    "final = pd.concat([sh, sh2['Total'], sh3], axis=1)\n",
    "final.columns = ['SS', 'Medicare', 'Medicaid']\n",
    "final.loc['1989':].to_csv(data_dir / 'prog_sh.csv', index_label='date')\n",
    "\n",
    "are10 = value_text(final.loc['2010', 'Medicare'].mean(), 'plain')\n",
    "arelt = value_text(final.Medicare.dropna().iloc[-1], 'plain')\n",
    "arevlt = comb.Total.iloc[-1] / 1_000_000\n",
    "areltdt = dtxt(comb.index[-1])['mon1']\n",
    "aid10 = value_text(final.loc['2010', 'Medicaid'].mean(), 'plain')\n",
    "aidlt = value_text(final.Medicaid.dropna().iloc[-1], 'plain')\n",
    "aidvlt = tot.iloc[-1]\n",
    "aidltdt = dtxt(tot.index[-1])['mon1']\n",
    "txt2 = ('Medicare enrollment has grown from '+\n",
    "        f'{are10} of the population in 2010 to {arelt}. Total Medicare '+\n",
    "        f'enrollment is {arevlt:.1f} million in {areltdt}. Medicaid, which '+\n",
    "        \"was expanded in 2014, and the Children's Health Insurance Program \"+\n",
    "        f'(CHIP), increased enrollment from {aid10} of the population in 2010 '+\n",
    "        f'to {aidlt} in {aidltdt}. The total enrollment for Medicaid and CHIP '+\n",
    "        f'is {aidvlt:.1f} million people. ')\n",
    "text = txt1 + '\\n\\n' + txt2\n",
    "write_txt(text_dir / 'prog_sh.txt', text)\n",
    "print(text)"
   ]
  },
  {
   "cell_type": "code",
   "execution_count": null,
   "id": "c207fbdc",
   "metadata": {},
   "outputs": [],
   "source": []
  },
  {
   "cell_type": "code",
   "execution_count": null,
   "id": "f5b29ee8",
   "metadata": {},
   "outputs": [],
   "source": []
  },
  {
   "cell_type": "markdown",
   "id": "f3a8adb8",
   "metadata": {},
   "source": [
    "### Treasury Monthly Data"
   ]
  },
  {
   "cell_type": "code",
   "execution_count": 7,
   "id": "9fa86ab0",
   "metadata": {
    "ExecuteTime": {
     "end_time": "2023-12-08T22:07:16.043907Z",
     "start_time": "2023-12-08T22:07:15.594496Z"
    }
   },
   "outputs": [],
   "source": [
    "cols = ['record_date', 'classification_desc', \n",
    "        'current_month_rcpt_outly_amt']\n",
    "fields = ','.join(cols)\n",
    "lines = ','.join(['2', '3', '5', '6', '7', '12'])\n",
    "url = ('https://api.fiscaldata.treasury.gov/services/api/'+\n",
    "       'fiscal_service/v1/accounting/mts/mts_table_9'+\n",
    "       f'?filter=src_line_nbr:in:({lines})&format=csv&'+\n",
    "       f'fields={fields}&page[size]=700')\n",
    "\n",
    "other = lambda x: x['Total'] - x['Individual Income Taxes']\n",
    "si_cols = ['Employment and General Retirement', 'Other Retirement', \n",
    "           'Unemployment Insurance']\n",
    "si = lambda x: x[si_cols].sum(axis=1)\n",
    "df = (pd.read_csv(url, index_col=cols[:2], parse_dates=True)\n",
    "        ['current_month_rcpt_outly_amt']\n",
    "        .unstack().astype('float').divide(1_000_000_000_000)\n",
    "        .assign(Other = other, SI = si).rolling(12).sum().dropna())\n",
    "df.to_csv(data_dir / 'tmb_rec.csv', float_format='%g', \n",
    "          index_label='date')"
   ]
  },
  {
   "cell_type": "code",
   "execution_count": 8,
   "id": "6c6dbd25",
   "metadata": {
    "ExecuteTime": {
     "end_time": "2023-12-08T22:07:16.067866Z",
     "start_time": "2023-12-08T22:07:16.046103Z"
    }
   },
   "outputs": [
    {
     "name": "stdout",
     "output_type": "stream",
     "text": [
      "Over the 12 months ending October 2023, \\textbf{federal government receipts} total \\$4.5 trillion, compared to \\$4.9 trillion one year prior, in October 2022.\n",
      "\n",
      "Over the past 12 months, 49 percent of receipts, totalling \\$2.2 trillion, are from individual income taxes (see {\\color{blue!70!black}\\textbf{---}}). The remaining receipts (see {\\color{blue!40!cyan}\\textbf{---}}) are largely social insurance contributions (\\$1.6 trillion) and corporate income taxes (\\$0.5 trillion).\n"
     ]
    }
   ],
   "source": [
    "df = pd.read_csv(data_dir / 'tmb_rec.csv', index_col='date', \n",
    "                 parse_dates=True)\n",
    "# End nodes\n",
    "d = {'Individual Income Taxes': 'blue!70!black', \n",
    "     'Other': 'blue!40!cyan'}\n",
    "adj = node_adj(df[d.keys()])\n",
    "dt = {n: None for n in d.keys()}\n",
    "dt[df[d.keys()].iloc[-1].idxmax()] = 'm'\n",
    "adj[df[d.keys()].iloc[-1].idxmax()] += 0.36\n",
    "nodes = '\\n'.join([end_node(df[n], c, date=dt[n], offset=adj[n]) \n",
    "                   for n, c in d.items()])\n",
    "write_txt(text_dir / 'tmb_end_nodes.txt', nodes)\n",
    "cl_iit = c_line(d['Individual Income Taxes'])\n",
    "cl_oth = c_line(d['Other'])\n",
    "\n",
    "# Text \n",
    "#url = 'https://fiscal.treasury.gov/reports-statements/mts/current.html'\n",
    "dft = df.applymap(lambda x: f'\\${x:.1f} trillion')\n",
    "tval = dft.iloc[-1]\n",
    "prval = dft['Total'].iloc[-13]\n",
    "ltdt = dtxt(df.index[-1])['mon1']\n",
    "prdt = dtxt(df.index[-13])['mon1']\n",
    "ltsh = (df['Individual Income Taxes'].iloc[-1] / \n",
    "        df['Total'].iloc[-1]) * 100\n",
    "tsh = value_text(ltsh, 'plain', digits=0)\n",
    "text = (f'Over the 12 months ending {ltdt}, '+\n",
    "        f'\\\\textbf{{federal government receipts}} total {tval[\"Total\"]}, '+\n",
    "        f'compared to {prval} one year prior, in {prdt}.\\n\\n'\n",
    "        f'Over the past 12 months, {tsh} of receipts, totalling '+\n",
    "        f'{tval[\"Individual Income Taxes\"]}, are from '+\n",
    "        f'individual income taxes {cl_iit}. The remaining receipts '+\n",
    "        f'{cl_oth} are largely social insurance contributions '+\n",
    "        f'({tval[\"SI\"]}) and corporate income taxes '+\n",
    "        f'({tval[\"Corporation Income Taxes\"]}).')\n",
    "write_txt(text_dir / 'tmb_rec.txt', text)\n",
    "print(text)"
   ]
  },
  {
   "cell_type": "code",
   "execution_count": null,
   "id": "5e674542",
   "metadata": {},
   "outputs": [],
   "source": []
  },
  {
   "cell_type": "code",
   "execution_count": null,
   "id": "4bd03a45",
   "metadata": {},
   "outputs": [],
   "source": []
  },
  {
   "cell_type": "markdown",
   "id": "23ca4280",
   "metadata": {},
   "source": [
    "### Size of Treasury Market"
   ]
  },
  {
   "cell_type": "code",
   "execution_count": 9,
   "id": "784612bd",
   "metadata": {
    "ExecuteTime": {
     "end_time": "2023-12-08T22:07:16.439047Z",
     "start_time": "2023-12-08T22:07:16.069962Z"
    }
   },
   "outputs": [
    {
     "name": "stdout",
     "output_type": "stream",
     "text": [
      "As of November 2023, the public holds \\$26.3 trillion in marketable treasuries. \n"
     ]
    }
   ],
   "source": [
    "url = ('https://api.fiscaldata.treasury.gov/services/api/fiscal_service/'+\n",
    "       'v1/debt/mspd/mspd_table_1?sort=-record_date&fields=record_date,'+\n",
    "       'security_type_desc,security_class_desc,total_mil_amt')\n",
    "\n",
    "r = requests.get(url).json()\n",
    "\n",
    "df = pd.DataFrame(r['data']).set_index('record_date')\n",
    "ltdt = df.index[0]\n",
    "ltval = df.query('security_type_desc == \"Total Marketable\"')['total_mil_amt'].iloc[0]\n",
    "tdt = dtxt(ltdt)['mon1']\n",
    "tval = f'\\${float(ltval) / 1_000_000:.1f} trillion'\n",
    "\n",
    "text = (f'As of {tdt}, the public holds {tval} in marketable treasuries. ')\n",
    "write_txt(text_dir / 'treas_market.txt', text)\n",
    "print(text)"
   ]
  },
  {
   "cell_type": "code",
   "execution_count": null,
   "id": "2e6ff205",
   "metadata": {},
   "outputs": [],
   "source": []
  },
  {
   "cell_type": "code",
   "execution_count": null,
   "id": "370d73db",
   "metadata": {},
   "outputs": [],
   "source": []
  },
  {
   "cell_type": "markdown",
   "id": "b240c790",
   "metadata": {},
   "source": [
    "### Government Expenditures by Type\n",
    "\n",
    "Longer-term data from OMB Historical Data Table 8.3\n",
    "\n",
    "Shorter-term data from Treasury Monthly Statement Table 9"
   ]
  },
  {
   "cell_type": "code",
   "execution_count": 10,
   "id": "d4093609",
   "metadata": {
    "ExecuteTime": {
     "end_time": "2023-12-08T22:07:16.784442Z",
     "start_time": "2023-12-08T22:07:16.441574Z"
    }
   },
   "outputs": [
    {
     "name": "stderr",
     "output_type": "stream",
     "text": [
      "/home/brian/miniconda3/lib/python3.8/site-packages/openpyxl/styles/stylesheet.py:226: UserWarning: Workbook contains no default style, apply openpyxl's default\n",
      "  warn(\"Workbook contains no default style, apply openpyxl's default\")\n"
     ]
    }
   ],
   "source": [
    "# Retrieve long-term data\n",
    "url = 'https://www.whitehouse.gov/wp-content/uploads/2023/03/hist08z3_fy2024.xlsx'\n",
    "data = pd.read_excel(url, header=[2,3,4], skipfooter=2, index_col=0)\n",
    "data = data.rename(columns=lambda x: x if not 'Unnamed' in str(x) else '')\n",
    "data.columns = [' '.join(col).strip() for col in data.columns.values]\n",
    "data['Mandatory'] = data.loc[:,data.columns.duplicated()]\n",
    "data = data.loc[:,~data.columns.duplicated()]\n",
    "data = data.rename({'Total': 'Discretionary', '': 'Total'}, axis=1).loc['1989':]\n",
    "data.columns = [i.replace('\\n', ' ').replace('Mandatory Programmatic', 'MP') \n",
    "                for i in data.columns]\n",
    "data.to_csv(data_dir / 'gov_exp_omb_raw.csv', index_label='date')"
   ]
  },
  {
   "cell_type": "code",
   "execution_count": 11,
   "id": "e95c7d6c",
   "metadata": {
    "ExecuteTime": {
     "end_time": "2023-12-08T22:07:16.802739Z",
     "start_time": "2023-12-08T22:07:16.785891Z"
    }
   },
   "outputs": [
    {
     "name": "stdout",
     "output_type": "stream",
     "text": [
      "national defense spending fell to 15.2 percent of outlays in 2019 from 26.6 percent in 1989 (see\\cbox{green!80!blue!68!black}). Discretionary non-defense spending maintained a relative stable share of spending over the period (see\\cbox{green!78!black}). Net interest expense, the cost of federal borrowing, fell along with long-term interest rates, to 8.4 percent of outlays in 2019 from 14.8 percent in 1989 (see\\cbox{orange!80!yellow}). \n",
      "\n",
      " Offsetting the reduction in spending on interest and national defense, Medicare and Social Security now make up a larger share of federal spending, as a larger share of people are retirement age. Likewise, spending on the social safety net (means-tested benefits and Medicaid) increased as employment-to-population ratios fell and Medicaid was expanded. Medicare (see\\cbox{blue!65!black}), Social Security (see\\cbox{cyan!50!blue!95!white}), and the social safety net (see\\cbox{cyan!95!white}) combine to comprise 54.8 percent of federal spending in 2019, compared to 34.7 percent in 1989. \n"
     ]
    }
   ],
   "source": [
    "data = pd.read_csv(data_dir / 'gov_exp_omb_raw.csv', index_col='date')\n",
    "res = data[['Net Interest', 'Non- defense', 'National Defense', \n",
    "            'MP Social Security', 'MP Medicare']].copy()\n",
    "res['Social Safety Net'] = (data['MP Medicaid'] + \n",
    "                            data['MP Other Means  Tested Entitlements (1)'])\n",
    "res['Other'] = 100 - res.sum(axis=1)\n",
    "res = res.loc[~res.index.str.contains('estimate')]\n",
    "res.index = pd.to_datetime(res.index) + pd.DateOffset(months=6)\n",
    "res.to_csv(data_dir / 'gov_exp_omb.csv', index_label='date')\n",
    "\n",
    "cols = ['National Defense', 'Non- defense', 'MP Medicare', 'MP Social Security', \n",
    "        'Social Safety Net', 'Other', 'Net Interest']\n",
    "sdf = res[cols].iloc[-1]\n",
    "height = ((sdf.cumsum() - (sdf / 2) + 4)).to_dict()\n",
    "val = sdf.to_dict()\n",
    "dt = dtxt(res.index[-1] + pd.DateOffset(weeks=2))['datetime']\n",
    "nodes = [f'\\\\absnode{{{dt}}}{{{height[i]}}}{{\\scriptsize {val[i]:.1f}\\%}}' for i in cols]\n",
    "dt2 = dtxt(res.index[-1] - pd.DateOffset(months=12))['datetime']\n",
    "dv = dtxt(res.index[-1])['year']\n",
    "dtnode = f'\\\\absnode{{{dt2}}}{{{108}}}{{\\\\footnotesize {dv}}}'\n",
    "nodetext = '\\n'.join([dtnode] + nodes)\n",
    "write_txt(text_dir / 'gov_exp_nodes.txt', nodetext)\n",
    "\n",
    "val19 = res.loc['2019-07-01']\n",
    "val89 = res.loc['1989-07-01']\n",
    "def19 = val19['National Defense']\n",
    "def89 = val89['National Defense']\n",
    "ni19 = val19['Net Interest']\n",
    "ni89 = val89['Net Interest']\n",
    "combcat = ['MP Medicare', 'MP Social Security', 'Social Safety Net']\n",
    "comb19 = val19.loc[combcat].sum()\n",
    "comb89 = val89.loc[combcat].sum()\n",
    "colors = {'Defense': 'green!80!blue!68!black',\n",
    "          'NonDef': 'green!78!black',\n",
    "          'NI': 'orange!80!yellow',\n",
    "          'SS': 'cyan!50!blue!95!white',\n",
    "          'Medicare': 'blue!65!black',\n",
    "          'SSN': 'cyan!95!white'}\n",
    "\n",
    "cb = {k: c_box(v).replace('see ', 'see') for k,v in colors.items()}\n",
    "\n",
    "text = (f'national defense spending fell to {def19:.1f} percent '+\n",
    "        f'of outlays in 2019 from {def89:.1f} percent in 1989 '+\n",
    "        f'{cb[\"Defense\"]}. Discretionary non-defense '+\n",
    "        'spending maintained a relative stable share of spending '+\n",
    "        f'over the period {cb[\"NonDef\"]}. Net interest '+\n",
    "        'expense, the cost of federal borrowing, fell along with '+\n",
    "        f'long-term interest rates, to {ni19:.1f} percent of outlays '+\n",
    "        f'in 2019 from {ni89:.1f} percent in 1989 '+\n",
    "        f'{cb[\"NI\"]}. \\n\\n Offsetting the reduction in '+\n",
    "        'spending on interest and national defense, Medicare and '+\n",
    "        'Social Security now make up a larger share of federal '+\n",
    "        'spending, as a larger share of people are retirement age. '+\n",
    "        'Likewise, spending on the social safety net (means-tested '+\n",
    "        'benefits and Medicaid) increased as employment-to-population '+\n",
    "        'ratios fell and Medicaid was expanded. Medicare '+\n",
    "        f'{cb[\"Medicare\"]}, Social Security '+\n",
    "        f'{cb[\"SS\"]}, and the social safety net '+\n",
    "        f'{cb[\"SSN\"]} combine to comprise {comb19:.1f} '+\n",
    "        'percent of federal spending in 2019, compared to '+\n",
    "        f'{comb89:.1f} percent in 1989. ')\n",
    "write_txt(text_dir / 'gov_exp_comp1.txt', text)\n",
    "print(text)"
   ]
  },
  {
   "cell_type": "code",
   "execution_count": 12,
   "id": "16be93ee",
   "metadata": {
    "ExecuteTime": {
     "end_time": "2023-12-08T22:07:17.435309Z",
     "start_time": "2023-12-08T22:07:16.803962Z"
    }
   },
   "outputs": [],
   "source": [
    "#Retrieve short-term data\n",
    "cols = ['record_date', 'classification_desc', \n",
    "        'current_month_rcpt_outly_amt']\n",
    "fields = ','.join(cols)\n",
    "lines = ','.join([str(i) for i in list(range(14, 34))])\n",
    "url = ('https://api.fiscaldata.treasury.gov/services/api/'+\n",
    "       'fiscal_service/v1/accounting/mts/mts_table_9'+\n",
    "       f'?filter=src_line_nbr:in:({lines})&format=csv&'+\n",
    "       f'fields={fields}&page[size]=6000')\n",
    "df = (pd.read_csv(url, index_col=cols[:2], parse_dates=True)\n",
    "        ['current_month_rcpt_outly_amt']\n",
    "        .unstack().astype('float').divide(1_000_000))\n",
    "df.to_csv(data_dir / 'gov_exp_mts_raw.csv', index_label='date')"
   ]
  },
  {
   "cell_type": "code",
   "execution_count": 13,
   "id": "8a2834d9",
   "metadata": {
    "ExecuteTime": {
     "end_time": "2023-12-08T22:07:17.476269Z",
     "start_time": "2023-12-08T22:07:17.436643Z"
    }
   },
   "outputs": [
    {
     "name": "stdout",
     "output_type": "stream",
     "text": [
      "Income security, which includes economic impact payments, the child tax credit, unemployment compensation, food and nutrition assistance, federal employee retirement and disability, and housing assistance, was 12.3 percent of federal spending over the 12 months ending October 2023 (see\\cbox{brown}). At its peak, over the 12 months ending March 2021, income security comprised 26.0 percent of federal spending. Pre-pandemic, in 2019, the category comprised 11.5 percent. \n",
      "\n",
      " The category labeled ``other'' in the above-right chart includes several subcategories worth examining. The category increased to 12.9 percent of federal spending during the 12 months ending October 2023, from 24.2 percent during the 12 months ending March 2021 (see\\cbox{yellow!50!brown!55!white}). Prior to the pandemic, in 2019, the category was 12.8 percent of spending. \n"
     ]
    }
   ],
   "source": [
    "df = pd.read_csv(data_dir / 'gov_exp_mts_raw.csv', index_col='date', \n",
    "                 parse_dates=True)\n",
    "oth = ['Administration of Justice', 'Agriculture',\n",
    "       'Commerce and Housing Credit', \n",
    "       'Community and Regional Development',\n",
    "       'Education, Training, Employment, and Social Services', \n",
    "       'Energy', 'General Government', \n",
    "       'General Science, Space, and Technology',\n",
    "       'International Affairs', 'Natural Resources and Environment', \n",
    "       'Transportation', 'Undistributed Offsetting Receipts', \n",
    "       'Veterans Benefits and Services']\n",
    "df['Other'] = df[oth].sum(axis=1)\n",
    "res = df[['Income Security', 'Social Security', 'Health', \n",
    "          'National Defense', 'Medicare', 'Net Interest', \n",
    "          'Other']].copy().rolling(12).sum()\n",
    "final = ((res.divide(res.sum(axis=1), axis=0) * 100).dropna())\n",
    "final.loc['2016-12-01':].to_csv(data_dir / 'gov_exp_mts.csv', \n",
    "                                index_label='date')\n",
    "\n",
    "cols = ['National Defense', 'Health', 'Medicare', 'Social Security', \n",
    "        'Income Security', 'Other', 'Net Interest']\n",
    "sdf = final[cols].iloc[-1]\n",
    "height = ((sdf.cumsum() - (sdf / 2) + 4)).to_dict()\n",
    "val = sdf.to_dict()\n",
    "dt = dtxt(final.index[-1] + pd.DateOffset(weeks=1))['datetime']\n",
    "nodes = [f'\\\\absnode{{{dt}}}{{{height[i]}}}{{\\scriptsize {val[i]:.1f}\\%}}' \n",
    "         for i in cols]\n",
    "dt2 = dtxt(final.index[-1] - pd.DateOffset(months=3))['datetime']\n",
    "dv = dtxt(final.index[-1])['mon6']\n",
    "dtnode = f'\\\\absnode{{{dt2}}}{{{108}}}{{\\\\footnotesize {dv}}}'\n",
    "nodetext = '\\n'.join([dtnode] + nodes)\n",
    "write_txt(text_dir / 'gov_exp_nodes2.txt', nodetext)\n",
    "\n",
    "ltdt = dtxt(final.index[-1])['mon1']\n",
    "lt = final.iloc[-1]\n",
    "incseclt = lt['Income Security']\n",
    "maxdt = dtxt(final[['Income Security', 'Other']].sum(axis=1).idxmax())\n",
    "maxmon = maxdt['mon1']\n",
    "mx = final.loc[maxdt['datetime']]\n",
    "pc = final.loc['2019-12-31']\n",
    "incsecmx = mx['Income Security']\n",
    "incsecpc = pc['Income Security']\n",
    "text = ('Income security, which includes economic impact payments, the '+\n",
    "        'child tax credit, unemployment compensation, food and nutrition '+\n",
    "        'assistance, federal employee retirement and disability, and '+\n",
    "        f'housing assistance, was {incseclt:.1f} percent of federal spending '+\n",
    "        f'over the 12 months ending {ltdt} {c_box(\"brown\")}. At its peak, '+\n",
    "        f'over the 12 months ending {maxmon}, income security comprised '+\n",
    "        f'{incsecmx:.1f} percent of federal spending. Pre-pandemic, in 2019, '+\n",
    "        f'the category comprised {incsecpc:.1f} percent. ')\n",
    "write_txt(text_dir / 'gov_exp_comp2.txt', text)\n",
    "print(text)\n",
    "\n",
    "cols2 = {'Income Security': 'brown', 'Health': 'violet!50!black', \n",
    "         'Medicare': 'blue!65!black', \n",
    "         'Social Security': 'cyan!50!blue!95!white', \n",
    "         'National Defense': 'green!80!blue!68!black',  \n",
    "         'Net Interest': 'orange!80!yellow', \n",
    "         'Other: ': 'yellow!50!brown!55!white'}\n",
    "col_names = {k: f'\\hspace{{-1mm}}\\cbox{{{v}}}{k}' for k, v in cols2.items()}\n",
    "col_names2 = {i: f'\\hspace{{6mm}}{i}' for i in oth}\n",
    "\n",
    "data = df.rolling(12).sum()\n",
    "data = data.divide(data.Total, axis=0) * 100\n",
    "data = data.rename({'Other': 'Other: '}, axis=1)\n",
    "data = data[list(cols2.keys()) + oth]\n",
    "tbl = data.iloc[-3:].iloc[::-1].T\n",
    "dmax = data.loc[maxdt['datetime']]\n",
    "d19 = data.loc['2019'].mean().rename('2019')\n",
    "d17 = data.loc['2017'].mean().rename('2017')\n",
    "tbl = tbl.join(dmax)\n",
    "tbl.columns = [dtxt(i)['mon2'] for i in tbl.columns]\n",
    "tbl = tbl.join(d19).join(d17)\n",
    "tbl = tbl.rename(col_names).rename(col_names2)\n",
    "tbl.index = tbl.index.str.replace('and', '\\&')\n",
    "tbl = tbl.round(1).applymap('{:.1f}'.format)\n",
    "tbl = tbl.rename({'\\hspace{6mm}Education, Training, Employment, \\& Social Services': \n",
    "            '\\hspace{6mm}Educ., Training, Employment, \\& Social Serv.'})\n",
    "(tbl.to_csv(data_dir / 'gov_exp_comp.tex', sep='&', \n",
    "            lineterminator='\\\\\\ ', quotechar=' '))\n",
    "\n",
    "ltval = data['Other: '].iloc[-1]\n",
    "maxval = data.loc[maxdt['datetime'], 'Other: ']\n",
    "val19 = data.loc['2019', 'Other: '].mean()\n",
    "text = (f\"The category labeled ``other'' in the above-right chart \"+\n",
    "        f'includes several subcategories worth examining. The '+\n",
    "        f'category increased to {ltval:.1f} percent of federal '+\n",
    "        f'spending during the 12 months ending {ltdt}, from '+\n",
    "        f'{maxval:.1f} percent during the 12 months ending {maxmon} '+\n",
    "        f'{c_box(cols2[\"Other: \"])}. Prior to the pandemic, in 2019, '+\n",
    "        f'the category was {val19:.1f} percent of spending. ')\n",
    "write_txt(text_dir / 'gov_exp_comp3.txt', text)\n",
    "print('\\n', text)"
   ]
  },
  {
   "cell_type": "code",
   "execution_count": null,
   "id": "e3a1a836",
   "metadata": {},
   "outputs": [],
   "source": []
  },
  {
   "cell_type": "code",
   "execution_count": null,
   "id": "8595fa86",
   "metadata": {},
   "outputs": [],
   "source": []
  },
  {
   "cell_type": "markdown",
   "id": "a17ba56f",
   "metadata": {},
   "source": [
    "### Decomposition of US Public Debt Dynamics"
   ]
  },
  {
   "cell_type": "code",
   "execution_count": 14,
   "id": "3d4e1459",
   "metadata": {
    "ExecuteTime": {
     "end_time": "2023-12-08T22:07:21.466251Z",
     "start_time": "2023-12-08T22:07:17.477851Z"
    }
   },
   "outputs": [],
   "source": [
    "url = ('https://www.federalreserve.gov/datadownload/Output.aspx?'+\n",
    "       'rel=Z1&series=005f835d2ffea228372c2cc838173fa5&lastobs=&'+\n",
    "       'from=01/01/1988&to=12/31/2023&filetype=csv&label=include&'+\n",
    "       'layout=seriescolumn')\n",
    "d, df = clean_fed_data(url)\n",
    "n = {'FA316006005.A': 'Fiscal balance',\n",
    "     'FA316130001.A': 'Interest paid',\n",
    "     'FL314104005.A': 'DSL',\n",
    "     'FL314190005.A': 'Liab',\n",
    "     'FA315000905.A': 'Borrowing'}\n",
    "data = df[n.keys()].rename(n, axis=1)"
   ]
  },
  {
   "cell_type": "code",
   "execution_count": 15,
   "id": "3f9dd0d2",
   "metadata": {
    "ExecuteTime": {
     "end_time": "2023-12-08T22:07:21.568208Z",
     "start_time": "2023-12-08T22:07:21.471768Z"
    }
   },
   "outputs": [
    {
     "name": "stdout",
     "output_type": "stream",
     "text": [
      "In 2022, the debt to GDP ratio decreased by 2.9 percentage points (see \\begin{tikzpicture} \\node[line width=0.3mm, circle, draw=black, scale=0.4, aspect=0.8] (d) at (0,0) {}; \\end{tikzpicture}). The primary balance added 1.3 percentage points to the debt to GDP ratio (see\\cbox{blue!90!cyan!82!white}), economic growth subtracted 1.9 percentage points (see\\cbox{violet!85!black}), and real interest rates subtracted 4.1 percentage points (see\\cbox{green!80!yellow!88!black}). These combined factors were less than the actual change in liabilities; the adjustment to reconcile stocks and flows added 1.8 percentage points (see\\cbox{cyan!16!white}).\n"
     ]
    }
   ],
   "source": [
    "data['Primary balance'] = data['Fiscal balance'] + data['Interest paid']\n",
    "gdpa = (nipa_df(retrieve_table('T10105A')['Data'], ['A191RC'])\n",
    "        ['A191RC'])\n",
    "data['GDP'] = gdpa\n",
    "data['pi_'] = (nipa_df(retrieve_table('T10104A')['Data'], ['A191RG'])\n",
    "               ['A191RG'])\n",
    "data['defl'] = data['pi_'].iloc[-1] / data['pi_']\n",
    "data['Real GDP'] = data['defl'] * data['GDP']\n",
    "\n",
    "pb = -data['Primary balance']\n",
    "i = data['Interest paid'] / data['DSL'].shift()\n",
    "pi = data['pi_'].pct_change()\n",
    "g = data['Real GDP'].pct_change()\n",
    "lmbda = data['GDP'].pct_change()\n",
    "d = data['DSL'] / data['GDP']\n",
    "p = pb / data['GDP']\n",
    "\n",
    "res = (((i / (1 + lmbda)) * d.shift()) - \n",
    "       ((pi / (1 + lmbda)) * d.shift()) - \n",
    "       ((g / (1 + g)) * d.shift()) +\n",
    "       p)\n",
    "\n",
    "data['calc'] = res\n",
    "\n",
    "g2 = 0\n",
    "res3 = (((i / (1 + lmbda - g)) * d.shift()) - \n",
    "       ((pi / (1 + lmbda - g)) * d.shift()) - \n",
    "       ((g2 / (1 + g2)) * d.shift()) +\n",
    "       p)\n",
    "\n",
    "res4 = (((pi / (1 + lmbda)) * d.shift()) - \n",
    "       ((pi / (1 + lmbda)) * d.shift()) - \n",
    "       ((g / (1 + g)) * d.shift()) +\n",
    "       p)\n",
    "\n",
    "res5 = (((i / (1 + lmbda)) * d.shift()) - \n",
    "       ((pi / (1 + lmbda)) * d.shift()) - \n",
    "       ((g / (1 + g)) * d.shift()))\n",
    "\n",
    "data['e_gdp'] = (res - res3)\n",
    "data['e_p'] = (res - res5)\n",
    "data['e_r'] = (res - res4)\n",
    "data['calc2'] = data['e_gdp'] + data['e_p'] + data['e_r']\n",
    "data['sfa'] = d.diff() - data['calc2']\n",
    "data['total'] = d.diff()\n",
    "final = data[['e_gdp', 'e_p', 'e_r', 'sfa', 'total']] * 100\n",
    "final = final.dropna()\n",
    "final.index = final.index + pd.DateOffset(months=6)\n",
    "final.to_csv(data_dir / 'debt_dynamics.csv', index_label='date')\n",
    "\n",
    "col = {'p': 'blue!90!cyan!82!white',\n",
    "       'gdp': 'violet!85!black', 'r': 'green!80!yellow!88!black', \n",
    "       'sfa': 'cyan!16!white'}\n",
    "\n",
    "lt = final.iloc[-1]\n",
    "ltdt = final.index[-1].year\n",
    "totch = value_text(lt['total'], 'increase_by', 'pp', threshold=0.1)\n",
    "pbch = value_text(lt['e_p'], 'contribution_to', 'pp', casual=True, threshold=0.1)\n",
    "rch = value_text(lt['e_r'], 'contribution', 'pp', casual=True, threshold=0.1)\n",
    "gdpch = value_text(lt['e_gdp'], 'contribution', 'pp', casual=True, threshold=0.1)\n",
    "sfach = value_text(lt['sfa'], 'contribution', 'pp', casual=True, threshold=0.1)\n",
    "cmb = lt[['e_gdp', 'e_p', 'e_r']].sum()\n",
    "cmbtxt = 'greater' if cmb > d.diff().iloc[-1] else 'less'\n",
    "text = (f'In {ltdt}, the debt to GDP ratio {totch} (see '+\n",
    "        '\\\\begin{tikzpicture} \\\\node[line width=0.3mm, circle, '+\n",
    "        'draw=black, scale=0.4, aspect=0.8] (d) at (0,0) {}; '+\n",
    "        '\\end{tikzpicture}). The primary balance '+\n",
    "        f'{pbch} the debt to GDP ratio {c_box(col[\"p\"])}, economic '+\n",
    "        f'growth {gdpch} {c_box(col[\"gdp\"])}, and real interest rates '+\n",
    "        f'{rch} {c_box(col[\"r\"])}. These combined factors were '+\n",
    "        f'{cmbtxt} than the actual change in liabilities; '+\n",
    "        'the adjustment to reconcile stocks and flows '+\n",
    "        f'{sfach} {c_box(col[\"sfa\"])}.')\n",
    "write_txt(text_dir / 'debt_dynamics.txt', text)\n",
    "print(text)"
   ]
  },
  {
   "cell_type": "code",
   "execution_count": null,
   "id": "98eb5797",
   "metadata": {},
   "outputs": [],
   "source": []
  },
  {
   "cell_type": "code",
   "execution_count": null,
   "id": "9351bab9",
   "metadata": {},
   "outputs": [],
   "source": []
  },
  {
   "cell_type": "markdown",
   "id": "60099ed0",
   "metadata": {},
   "source": [
    "### Federal Interest Outlays share of GDP"
   ]
  },
  {
   "cell_type": "code",
   "execution_count": 16,
   "id": "c5c6edb8",
   "metadata": {
    "ExecuteTime": {
     "end_time": "2023-12-08T22:07:22.227691Z",
     "start_time": "2023-12-08T22:07:21.570099Z"
    }
   },
   "outputs": [
    {
     "name": "stdout",
     "output_type": "stream",
     "text": [
      "The Office of Management and Budget \\href{https://www.whitehouse.gov/omb/historical-tables/}{report} \\textbf{federal interest outlays} of \\$659 billion in fiscal year 2023 (the year beginning October 1, 2022), compared to \\$475 billion in fiscal year 2022.\n",
      "\n",
      "Put into the context of the size of the economy, federal interest outlays in fiscal year 2023 were equivalent to 2.44 percent of GDP (see {\\color{magenta}\\textbf{---}}), following 1.88 percent of GDP in FY2022 and 1.54 percent in FY2021, and compared to an average of 2.9 percent in the 1990s, when interest rates were substantially higher. \n"
     ]
    }
   ],
   "source": [
    "gdp = nipa_df(retrieve_table('T10105')['Data'], ['A191RC'])\n",
    "gdp.index = gdp.index + pd.DateOffset(months=3)\n",
    "gdp = gdp.A191RC.rolling(4).mean()\n",
    "tot = fred_df('FYOINT')['VALUE']\n",
    "tot.index = tot.index + pd.DateOffset(days=1)\n",
    "df = (tot / gdp).dropna() * 100\n",
    "fedadj = pd.read_csv(data_dir / 'fedintadj.csv', index_col='date', \n",
    "                     parse_dates=True)['RESPPLLOP_N.WW']\n",
    "res = pd.DataFrame({'Tot': tot, 'FedAdj': fedadj}).fillna(0.0)\n",
    "adj = res['Tot'] - res['FedAdj']\n",
    "df2 = (adj / gdp).dropna() * 100\n",
    "final = pd.DataFrame({'Tot': df, 'Adj': df2})\n",
    "\n",
    "final.to_csv(data_dir / 'fedintexp.csv', index_label='date')\n",
    "node = end_node(df, 'magenta', digits=2, date='fy', offset=0.15)\n",
    "write_txt(text_dir / 'fedintexp_node.txt', node)\n",
    "#node2 = end_node(df2, 'orange', digits=2)\n",
    "#write_txt(text_dir / 'fedintexp_nodes.txt', '\\n'.join([node, node2]))\n",
    "val90s = df.loc['1990':'1999'].mean()\n",
    "\n",
    "text = ('The Office of Management and Budget '+\n",
    "        '\\href{https://www.whitehouse.gov/omb/historical-tables/}{report} '+\n",
    "        f'\\\\textbf{{federal interest outlays}} of \\${tot.iloc[-1] / 1000:.0f} '+\n",
    "        f'billion in fiscal year {tot.index[-1].year} (the year '+\n",
    "        f'beginning October 1, {tot.index[-1].year -1}), compared to '+\n",
    "        f'\\${tot.iloc[-2] / 1000:.0f} billion in fiscal year '+\n",
    "        f'{tot.index[-2].year}.\\n\\nPut into the context of the size of '+\n",
    "        f'the economy, federal interest outlays in fiscal year '+\n",
    "        f'{df.index[-1].year} were equivalent to {df.iloc[-1]:.2f} '+\n",
    "        'percent of GDP (see {\\color{magenta}\\\\textbf{---}}), following '+\n",
    "        f'{df.iloc[-2]:.2f} percent of GDP in FY{df.index[-2].year} '+\n",
    "        f'and {df.iloc[-3]:.2f} percent in FY{df.index[-3].year}, '+\n",
    "        f'and compared to an average of {val90s:.1f} percent in '+\n",
    "        'the 1990s, when interest rates were substantially higher. ')\n",
    "write_txt(text_dir / 'fedintexp.txt', text)\n",
    "print(text)\n",
    "\n",
    "# Fed operating at loss (no remittances)\n",
    "# val = (fedadj / 1_000).iloc[-1].round(-1)\n",
    "# adjval = df2.iloc[-1]\n",
    "# cl = c_line('orange')\n",
    "# text = ('Often, the actual interest expense is slightly lower than the reported '+\n",
    "#         'figure, because interest paid to the Federal Reserve gets returned '+\n",
    "#         f'to the Treasury. In FY{df.index[-1].year}, '+\n",
    "#         f'the Fed returned more than \\${val:.0f} billion to the Treasury. '+\n",
    "#         f'Adjusting for these remittances, the interest expense was '+\n",
    "#         f'{adjval:.2f} percent of GDP in FY{df.index[-1].year} {cl}. ')\n",
    "# write_txt(text_dir / 'fedintexp2.txt', text)\n",
    "# print('\\n', text)"
   ]
  },
  {
   "cell_type": "code",
   "execution_count": null,
   "id": "bbd9e23e",
   "metadata": {},
   "outputs": [],
   "source": []
  },
  {
   "cell_type": "code",
   "execution_count": null,
   "id": "08e457e4",
   "metadata": {},
   "outputs": [],
   "source": []
  },
  {
   "cell_type": "markdown",
   "id": "fdf88c85",
   "metadata": {},
   "source": [
    "### Public Debt by Holder"
   ]
  },
  {
   "cell_type": "code",
   "execution_count": 17,
   "id": "6c54bfe4",
   "metadata": {
    "ExecuteTime": {
     "end_time": "2023-12-08T22:07:23.747677Z",
     "start_time": "2023-12-08T22:07:22.230607Z"
    }
   },
   "outputs": [],
   "source": [
    "series = ['FDHBATN', 'GFDEBTN', 'FDHBFRBN', 'FDHBPIN', 'FDHBFIN']\n",
    "start = '1988-01-01'\n",
    "ftype = '&file_type=json'\n",
    "base = 'https://api.stlouisfed.org/fred/series/observations?'\n",
    "\n",
    "data = pd.DataFrame()\n",
    "\n",
    "for srs in series:\n",
    "    param = f'series_id={srs}&observation_start={start}&api_key={fred_key}'\n",
    "    url = f'{base}{param}{ftype}'\n",
    "    r = requests.get(url).json()['observations']\n",
    "    s = pd.Series({pd.to_datetime(i['date']): (float(i['value']) / 1000.0) \n",
    "                   if srs in series[:2] else float(i['value']) for i in r})\n",
    "    data[srs] = s\n",
    "    \n",
    "gdp = nipa_df(retrieve_table('T10105')['Data'], ['A191RC'])['A191RC']"
   ]
  },
  {
   "cell_type": "code",
   "execution_count": 18,
   "id": "2ab5b4dc",
   "metadata": {
    "ExecuteTime": {
     "end_time": "2023-12-08T22:07:23.756776Z",
     "start_time": "2023-12-08T22:07:23.748834Z"
    }
   },
   "outputs": [
    {
     "name": "stdout",
     "output_type": "stream",
     "text": [
      "Federal government public debt \\href{https://www.fiscal.treasury.gov/reports-statements/treasury-bulletin/current.html}{totals} \\$33.2 trillion in 2023 Q3, equivalent to 120.0 percent of GDP.\n"
     ]
    }
   ],
   "source": [
    "# Add dot for latest value of total debt to GDP\n",
    "totgdp = (data['GFDEBTN'] / (gdp / 1000)).dropna() * 100\n",
    "ldtot = totgdp.index[-1]\n",
    "ld = pd.to_datetime(data.dropna().index[-1])\n",
    "ldt = dtxt(ldtot + pd.DateOffset(days=45))['datetime']\n",
    "ltval = totgdp.iloc[-1]\n",
    "lvt = f'{ltval:.1f}'\n",
    "dt = dtxt(totgdp.index[-1])['qtr4']\n",
    "\n",
    "# Only add mark to plot if necessary \n",
    "mark = ' (see \\\\tikz \\draw[black, fill=black!20!white] (2.5pt,4pt) circle (2pt);)'\n",
    "if ldtot > ld:\n",
    "    node = (f'\\\\node[label={{[align=left]90:{{\\scriptsize{dt}: '+\n",
    "            f'\\\\\\\\ \\scriptsize \\ {lvt}}}}}, '+\n",
    "            'circle, draw=black, fill=black!20!white, inner sep=1.4pt] at '+\n",
    "            f'(axis cs:{ldt}, {ltval}) {{}};')\n",
    "    write_txt(text_dir / 'pdebt_node.txt', node)\n",
    "else:\n",
    "    node = ''\n",
    "    mark = ''\n",
    "    write_txt(text_dir / 'pdebt_node.txt', node)\n",
    "\n",
    "# Add text\n",
    "lvls = data['GFDEBTN'].dropna().divide(1000).apply('\\${:.1f} trillion'.format)\n",
    "ltdt = dtxt(lvls.index[-1])['qtr1']\n",
    "ltlvl = lvls.iloc[-1]\n",
    "url = 'https://www.fiscal.treasury.gov/reports-statements/treasury-bulletin/current.html'\n",
    "text = (f'Federal government public debt \\href{{{url}}}{{totals}} '+\n",
    "        f'{ltlvl} in {ltdt}, equivalent to {lvt} '+\n",
    "        f'percent of GDP{mark}.')    \n",
    "write_txt(text_dir / 'pdebt_ltval.txt', text)\n",
    "print(text)"
   ]
  },
  {
   "cell_type": "code",
   "execution_count": 19,
   "id": "139ef505",
   "metadata": {
    "ExecuteTime": {
     "end_time": "2023-12-08T22:07:23.786007Z",
     "start_time": "2023-12-08T22:07:23.758297Z"
    }
   },
   "outputs": [
    {
     "name": "stdout",
     "output_type": "stream",
     "text": [
      "Breaking down federal debt by holder, \\$13.8 trillion, or 41.5 percent of the total, is held by private domestic investors (see\\cbox{green!60!black}). An additional \\$7.6 trillion, or 22.9 percent of the total, is held by foreign investors (see\\cbox{orange!70!white}). The remainder is held by the Federal Reserve (see\\cbox{blue}) and various government agencies and trusts (see\\cbox{cyan!50!white}), such as the Social Security Trust Fund. \n"
     ]
    }
   ],
   "source": [
    "df = data.copy().dropna()\n",
    "df['PD'] = df['FDHBPIN'] - df['FDHBFIN']\n",
    "df['IG'] = df['GFDEBTN'] - (df['FDHBFRBN'] + df['FDHBPIN'])\n",
    "dgdp = df.loc['1989':].div(gdp / 1000.0, axis=0).dropna()\n",
    "(dgdp * 100).to_csv(data_dir / 'pubdebt.csv', index_label='date')\n",
    "\n",
    "# Text \n",
    "ldate = dtxt(ld)['qtr2']\n",
    "ltgdp = dgdp['GFDEBTN'].iloc[-1] * 100\n",
    "txt = 'Breaking down federal debt by holder, '\n",
    "if ldtot > ld:\n",
    "    txt = (f'In {ldate}, federal government public debt totals '+\n",
    "           f'{lvls[df.index[-1]]}, equivalent to {ltgdp:.1f} '+\n",
    "           'percent of GDP. Of this, ')\n",
    "sh = df.div(df['GFDEBTN'], axis=0).iloc[-1] * 100\n",
    "lv = df.iloc[-1] / 1000\n",
    "text = (f'{txt}\\${lv.PD:.1f} trillion, or {sh.PD:.1f} percent of '+\n",
    "        'the total, is held by private domestic investors (see\\cbox{green!60!black}). '+\n",
    "        f'An additional \\${lv.FDHBFIN:.1f} trillion, or {sh.FDHBFIN:.1f} percent '+\n",
    "        'of the total, is held by foreign investors (see\\cbox{orange!70!white}). '+\n",
    "        'The remainder is held by the Federal Reserve (see\\cbox{blue}) '+\n",
    "        'and various government agencies and trusts (see\\cbox{cyan!50!white}), '+\n",
    "        'such as the Social Security Trust Fund. ')\n",
    "write_txt(text_dir / 'pubdebt.txt', text)\n",
    "print(text)"
   ]
  },
  {
   "cell_type": "code",
   "execution_count": null,
   "id": "c016cec5",
   "metadata": {},
   "outputs": [],
   "source": []
  },
  {
   "cell_type": "code",
   "execution_count": null,
   "id": "a7af0f77",
   "metadata": {},
   "outputs": [],
   "source": []
  },
  {
   "cell_type": "code",
   "execution_count": null,
   "id": "deaebe9a",
   "metadata": {},
   "outputs": [],
   "source": []
  }
 ],
 "metadata": {
  "kernelspec": {
   "display_name": "Python 3 (ipykernel)",
   "language": "python",
   "name": "python3"
  },
  "language_info": {
   "codemirror_mode": {
    "name": "ipython",
    "version": 3
   },
   "file_extension": ".py",
   "mimetype": "text/x-python",
   "name": "python",
   "nbconvert_exporter": "python",
   "pygments_lexer": "ipython3",
   "version": "3.8.13"
  }
 },
 "nbformat": 4,
 "nbformat_minor": 5
}
