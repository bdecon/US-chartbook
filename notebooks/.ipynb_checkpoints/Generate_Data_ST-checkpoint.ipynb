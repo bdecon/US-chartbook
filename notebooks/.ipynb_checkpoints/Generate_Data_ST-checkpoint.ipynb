{
 "cells": [
  {
   "cell_type": "markdown",
   "metadata": {},
   "source": [
    "# Generate Data for Chartbook\n",
    "\n",
    "Brian Dew\n",
    "\n",
    "@bd_econ"
   ]
  },
  {
   "cell_type": "code",
   "execution_count": 1,
   "metadata": {},
   "outputs": [],
   "source": [
    "import sys\n",
    "import json\n",
    "sys.path.append('../src')\n",
    "\n",
    "import requests\n",
    "\n",
    "import uschartbook.config\n",
    "\n",
    "from uschartbook.config import *\n",
    "from uschartbook.utils import *"
   ]
  },
  {
   "cell_type": "code",
   "execution_count": null,
   "metadata": {},
   "outputs": [],
   "source": []
  },
  {
   "cell_type": "markdown",
   "metadata": {},
   "source": [
    "### Interest rates"
   ]
  },
  {
   "cell_type": "code",
   "execution_count": 2,
   "metadata": {},
   "outputs": [
    {
     "name": "stdout",
     "output_type": "stream",
     "text": [
      "As of February 13, 2020, the constant maturity yield for a ten-year Treasury bond (see {\\color{red!70!purple!90!black}\\textbf{---}}) is 1.61 percent, compared to 2.68 percent one-year prior. The yield for a two-year Treasury (see {\\color{orange!80!yellow}\\textbf{---}}) is 1.44 percent, compared to 2.50 percent a year prior.\n"
     ]
    },
    {
     "data": {
      "text/plain": [
       "'The effective fed funds (see {\\\\color{blue!60!black}\\\\textbf{---}}) rate is 1.58 percent, as of February 13, 2020.'"
      ]
     },
     "execution_count": 2,
     "metadata": {},
     "output_type": "execute_result"
    }
   ],
   "source": [
    "base = 'https://www.federalreserve.gov/datadownload/Output.aspx?'\n",
    "srs = 'rel=H15&series=398c5ba6279c57e57055c6a65c95e9d3&lastobs=&'\n",
    "dt = 'from=01/01/1989&to=12/31/2020&'\n",
    "oth = 'filetype=csv&label=include&layout=seriescolumn'\n",
    "url = base + srs + dt + oth\n",
    "\n",
    "d = {\n",
    "    'RIFLGFCY10_N.B': 'Ten-year',\n",
    "    'RIFSPFF_N.B': 'Fed Funds',\n",
    "    'RIFLGFCM03_N.B': 'Three-month',\n",
    "    'RIFLGFCY02_N.B': 'Two-year'\n",
    "}\n",
    "\n",
    "df = pd.read_csv(url, skiprows=5, index_col=0)[d.keys()].rename(d, axis=1)\n",
    "\n",
    "df.index = pd.to_datetime(df.index)\n",
    "\n",
    "data = (df[df['Ten-year'] != 'ND'].astype('float')\n",
    "        .resample('M').mean().iloc[:-1]\n",
    "        .append(df.iloc[-1]))\n",
    "\n",
    "data.to_csv(data_dir / 'rates.csv', index_label='date', float_format='%g')\n",
    "\n",
    "ldate = dtxt(data.index[-1])['day1']\n",
    "tenlt = data['Ten-year'].iloc[-1]\n",
    "tenpr = data['Ten-year'].iloc[-13]\n",
    "twolt = data['Two-year'].iloc[-1]\n",
    "twopr = data['Two-year'].iloc[-13]\n",
    "\n",
    "text = (f'As of {ldate}, the constant maturity yield for a ten-year '+\n",
    "        'Treasury bond (see {\\color{red!70!purple!90!black}\\\\textbf{---}}) '+\n",
    "        f'is {tenlt} percent, compared to {tenpr:.2f} percent one-year prior. '+\n",
    "        'The yield for a two-year Treasury (see {\\color{orange!80!yellow}\\\\textbf{---}}) '\n",
    "        +f'is {twolt} percent, compared to {twopr:.2f} '+\n",
    "        f'percent a year prior.')\n",
    "\n",
    "write_txt(text_dir / 'rates_basic.txt', text)\n",
    "\n",
    "print(text)\n",
    "\n",
    "text = ('The effective fed funds (see {\\color{blue!60!black}\\\\textbf{---}}) '+\n",
    "        f'rate is {data[\"Fed Funds\"].iloc[-1]} percent, as of {ldate}.')\n",
    "\n",
    "write_txt(text_dir / 'rates_ff.txt', text)\n",
    "\n",
    "text"
   ]
  },
  {
   "cell_type": "code",
   "execution_count": null,
   "metadata": {},
   "outputs": [],
   "source": []
  },
  {
   "cell_type": "code",
   "execution_count": null,
   "metadata": {},
   "outputs": [],
   "source": []
  },
  {
   "cell_type": "markdown",
   "metadata": {},
   "source": [
    "### Exchange rates"
   ]
  },
  {
   "cell_type": "code",
   "execution_count": 5,
   "metadata": {},
   "outputs": [],
   "source": [
    "base = 'https://www.federalreserve.gov/datadownload/Output.aspx?'\n",
    "srs = 'rel=H10&series=ad1712193ad5bad7b424e3ae5eb101a5&lastobs=&'\n",
    "dt = 'from=01/01/1989&to=12/31/2020&'\n",
    "oth = 'filetype=csv&label=include&layout=seriescolumn'\n",
    "url = base + srs + dt + oth\n",
    "\n",
    "raw_data = pd.read_csv(url)\n",
    "\n",
    "d = {v: re.sub(\"\\s+[\\(\\[].*?[\\)\\]]\", \"\", i.split(';')[0]) \n",
    "     for i, v in raw_data.iloc[4, 1:].iteritems()}\n",
    "\n",
    "date_column = raw_data.loc[5:, 'Series Description']\n",
    "date_index = pd.to_datetime(date_column).rename('Date')\n",
    "columns = raw_data.iloc[4, 1:].values\n",
    "    \n",
    "clean_data = raw_data.iloc[5:, 1:].replace('ND', np.nan).astype('float')\n",
    "clean_data.index = date_index\n",
    "clean_data.columns = columns\n",
    "\n",
    "clean_data['RXI_N.B.EU'] = 1 / clean_data['RXI$US_N.B.EU'] \n",
    "clean_data['RXI_N.B.UK'] = 1 / clean_data['RXI$US_N.B.UK'] \n",
    "clean_data['RXI_N.B.JA'] = clean_data['RXI_N.B.JA'] / 100.0\n",
    "\n",
    "latest = clean_data.iloc[-1]\n",
    "major = ['RXI_N.B.EU', 'RXI_N.B.UK', 'RXI_N.B.CA', 'RXI_N.B.JA']\n",
    "oth = ['RXI_N.B.MX', 'RXI_N.B.BZ', 'RXI_N.B.CH', 'RXI_N.B.SD']\n",
    "twidx = clean_data.resample('MS').mean().append(latest)['JRXWTFB_N.B'].dropna()\n",
    "clean_data.resample('MS').mean().append(latest)[major].to_csv(data_dir / 'fx1.csv', index_label='date', float_format='%g')\n",
    "clean_data.resample('MS').mean().append(latest)[oth].to_csv(data_dir / 'fx2.csv', index_label='date', float_format='%g')\n",
    "twidx.to_csv(data_dir / 'fx_idx.csv', index_label='date', float_format='%g', header=True)"
   ]
  },
  {
   "cell_type": "code",
   "execution_count": 6,
   "metadata": {},
   "outputs": [
    {
     "data": {
      "text/plain": [
       "'The latest index value, as of February 7, 2020, is 116.6, thus an increase of 16.6 percent since inception in 2006. Over the past three years, the index value has averaged 113.6, compared to an average of 106.3 over the previous three year period.'"
      ]
     },
     "execution_count": 6,
     "metadata": {},
     "output_type": "execute_result"
    }
   ],
   "source": [
    "ldate = dtxt(twidx.index[-1])['day1']\n",
    "lval = twidx.iloc[-1]\n",
    "totch = ((lval / 100) - 1) * 100\n",
    "threeyr = twidx.iloc[-38:].mean()\n",
    "prev3yr = twidx.iloc[-74:-38].mean()\n",
    "\n",
    "text = (f'The latest index value, as of {ldate}, is {lval:.1f}, thus an increase '+\n",
    "        f'of {totch:.1f} percent since inception in 2006. Over the past three years, '+\n",
    "        f'the index value has averaged {threeyr:.1f}, compared to an average '+\n",
    "        f'of {prev3yr:.1f} over the previous three year period.')\n",
    "\n",
    "write_txt(text_dir / 'twdbasic.txt', text)\n",
    "\n",
    "text"
   ]
  },
  {
   "cell_type": "code",
   "execution_count": null,
   "metadata": {},
   "outputs": [],
   "source": []
  },
  {
   "cell_type": "code",
   "execution_count": null,
   "metadata": {},
   "outputs": [],
   "source": []
  },
  {
   "cell_type": "markdown",
   "metadata": {},
   "source": [
    "### Initial jobless claims"
   ]
  },
  {
   "cell_type": "code",
   "execution_count": 7,
   "metadata": {},
   "outputs": [],
   "source": [
    "series = 'ICSA'\n",
    "start = '1988-01-01'\n",
    "base = 'https://api.stlouisfed.org/fred/series/observations?'\n",
    "param = f'series_id={series}&observation_start={start}&api_key={fred_key}'\n",
    "ftype = '&file_type=json'\n",
    "\n",
    "url = f'{base}{param}{ftype}'\n",
    "r = requests.get(url).json()['observations']\n",
    "data = pd.DataFrame(pd.Series({i['date']: int(i['value']) / 1000 \n",
    "                               for i in r}).rename('weekly'))\n",
    "\n",
    "data['3M'] = data['weekly'].rolling(12).mean()\n",
    "\n",
    "data.to_csv(data_dir / 'icsa.csv', index_label='date', float_format='%g')\n",
    "\n",
    "totval = data['weekly'].iloc[-1]*1000\n",
    "datelt = dtxt(data.index[-1])['day1']\n",
    "latest3m = data[\"3M\"].iloc[-1]*1000\n",
    "prev3m = data[\"3M\"].iloc[-157]*1000\n",
    "\n",
    "text = ('The Department of Labor \\href{{https://www.dol.gov/ui/data.pdf}}{{reported}} '+\n",
    "        f'{totval:,.0f} initial claims for unemployment '+\n",
    "        f'insurance during the week ending {datelt}. Over the past three months, '+\n",
    "        f'initial claims averaged {latest3m:,.0f} per week. During the same three month period '+\n",
    "        f'three years ago, initial claims averaged {prev3m:,.0f} per week.')\n",
    "\n",
    "write_txt(text_dir / 'icsa.txt', text)"
   ]
  },
  {
   "cell_type": "code",
   "execution_count": null,
   "metadata": {},
   "outputs": [],
   "source": []
  },
  {
   "cell_type": "code",
   "execution_count": null,
   "metadata": {},
   "outputs": [],
   "source": []
  },
  {
   "cell_type": "markdown",
   "metadata": {},
   "source": [
    "### VIX (SP500 volatility)"
   ]
  },
  {
   "cell_type": "code",
   "execution_count": 8,
   "metadata": {},
   "outputs": [],
   "source": [
    "prev = pd.read_excel(data_dir/ 'vixarchive.xls', skiprows=1, index_col='Date')\n",
    "VIX = 'http://www.cboe.com/publish/scheduledtask/mktdata/datahouse/vixcurrent.csv'\n",
    "curr = pd.read_csv(VIX, skiprows=1, index_col='Date', parse_dates=True)\n",
    "df = (prev.append(curr)['VIX Close'].resample('MS').mean()\n",
    "      .append(curr['VIX Close'].iloc[-1:]).rename('value'))\n",
    "df.to_csv(data_dir / 'vix.csv', index_label='date', header='True')"
   ]
  },
  {
   "cell_type": "code",
   "execution_count": 9,
   "metadata": {},
   "outputs": [
    {
     "data": {
      "text/plain": [
       "'This volatility measure, VIX, was 13.7 on February 14, 2020, compared to an average of 14.5 over the past three years.'"
      ]
     },
     "execution_count": 9,
     "metadata": {},
     "output_type": "execute_result"
    }
   ],
   "source": [
    "ldate = dtxt(df.index[-1])['day1']\n",
    "\n",
    "text = (f'This volatility measure, VIX, was {df.iloc[-1]:.1f} on {ldate}, '+\n",
    "        f'compared to an average of {df.iloc[-37:].mean():.1f} over the '+\n",
    "        'past three years.')\n",
    "\n",
    "write_txt(text_dir / 'vixbasic.txt', text)\n",
    "\n",
    "text"
   ]
  },
  {
   "cell_type": "code",
   "execution_count": null,
   "metadata": {},
   "outputs": [],
   "source": []
  },
  {
   "cell_type": "code",
   "execution_count": null,
   "metadata": {},
   "outputs": [],
   "source": []
  },
  {
   "cell_type": "markdown",
   "metadata": {},
   "source": [
    "### Oil prices (WTI)"
   ]
  },
  {
   "cell_type": "code",
   "execution_count": 2,
   "metadata": {},
   "outputs": [
    {
     "data": {
      "text/plain": [
       "'As of February 10, 2020, a barrel of west Texas intermediate (WTI) \\textbf{crude oil} sells for \\\\$49.59. Over the past year, this measure of oil prices has decreased by 9.8 percent. Over the past three years, the price decreased by 7.3 percent. Currently, the WTI price is \\\\$84.29 per barrel below its June 2008 average.'"
      ]
     },
     "execution_count": 2,
     "metadata": {},
     "output_type": "execute_result"
    }
   ],
   "source": [
    "#series = 'DCOILWTICO'\n",
    "\n",
    "#url = f'http://research.stlouisfed.org/fred2/series/{series}/downloaddata/{series}.csv'\n",
    "\n",
    "#df = pd.read_csv(url, index_col='DATE', parse_dates=True)\n",
    "\n",
    "#data = df.loc['1989':'2018'].query('VALUE != \".\"').astype('float').resample('MS').mean()\n",
    "\n",
    "#data.to_csv(data_dir / 'wti_prev.csv', index_label='date')\n",
    "\n",
    "data = pd.read_csv(data_dir / 'wti_prev.csv', index_col='date')\n",
    "series = 'DCOILWTICO'\n",
    "start = '2019-01-01'\n",
    "base = 'https://api.stlouisfed.org/fred/series/observations?'\n",
    "param = f'series_id={series}&observation_start={start}&api_key={fred_key}'\n",
    "ftype = '&file_type=json'\n",
    "\n",
    "url = f'{base}{param}{ftype}'\n",
    "r = requests.get(url).json()['observations']\n",
    "df = pd.DataFrame(pd.Series({pd.to_datetime(i['date']): float(i['value']) \n",
    "                             for i in r if i['value'] != '.'}).rename('VALUE'))\n",
    "\n",
    "p = (data['VALUE']\n",
    "     .append(df['VALUE'].resample('MS').mean())\n",
    "     .append(pd.Series([df.iloc[-1][0]], index=[df.index[-1]]).rename('VALUE')))\n",
    "\n",
    "(p.to_csv(data_dir / 'wti.csv', index_label='date', header=True))\n",
    "\n",
    "oneyr = p.pct_change(13).iloc[-1] * 100\n",
    "\n",
    "threeyr = p.pct_change(37).iloc[-1] * 100\n",
    "\n",
    "if oneyr >= 0.1:\n",
    "    oyt = f'increased by {oneyr:.1f} percent'\n",
    "elif oneyr <= -0.1:\n",
    "    oyt = f'decreased by {abs(oneyr):.1f} percent'    \n",
    "else:\n",
    "    oyt = 'been virtually unchanged'\n",
    "    \n",
    "if threeyr >= 0.1:\n",
    "    tyt = f'increased by {threeyr:.1f} percent'\n",
    "elif oneyr <= -0.1:\n",
    "    tyt = f'decreased by {abs(threeyr):.1f} percent'    \n",
    "else:\n",
    "    tyt = 'were virtually unchanged'\n",
    "    \n",
    "ltch = p.loc['2008-06-01'] - p.iloc[-1]\n",
    "\n",
    "text = (f'As of {p.index[-1].strftime(\"%B %d, %Y\")}, a barrel of west Texas '+\n",
    "        f'intermediate (WTI) \\textbf{{crude oil}} sells for \\${p.iloc[-1]}. Over the '+\n",
    "        f'past year, this measure of oil prices has {oyt}. Over the past three '+\n",
    "        f'years, the price {tyt}. Currently, the WTI price is \\${ltch:.2f} per barrel '+\n",
    "        'below its June 2008 average.')\n",
    "\n",
    "write_txt(text_dir / 'wti.txt', text)\n",
    "\n",
    "text"
   ]
  },
  {
   "cell_type": "code",
   "execution_count": null,
   "metadata": {},
   "outputs": [],
   "source": []
  },
  {
   "cell_type": "code",
   "execution_count": null,
   "metadata": {},
   "outputs": [],
   "source": []
  },
  {
   "cell_type": "markdown",
   "metadata": {},
   "source": [
    "### Inflation Expectations"
   ]
  },
  {
   "cell_type": "code",
   "execution_count": 2,
   "metadata": {},
   "outputs": [],
   "source": [
    "url = 'http://www.sca.isr.umich.edu/files/tbmpx1px5.csv'\n",
    "df = pd.read_csv(url)\n",
    "df.index = pd.to_datetime(df['Month'] + ' ' + df['YYYY'].astype('str'))\n",
    "data = df['PX5_MD'].loc['2015':]\n",
    "\n",
    "data.to_csv(data_dir / 'infumich.csv', index_label='date', header='VALUE')\n",
    "\n",
    "node = end_node(data, 'violet')\n",
    "write_txt(text_dir / 'infumich_node.txt', node)"
   ]
  },
  {
   "cell_type": "code",
   "execution_count": 3,
   "metadata": {},
   "outputs": [],
   "source": [
    "data = fred_df('T5YIE').loc['2015':,'VALUE']\n",
    "data.to_csv(data_dir / 'infbreak.csv', index_label='date', header=True)\n",
    "\n",
    "node = end_node(data, 'blue!70!black')\n",
    "write_txt(text_dir / 'infbreak_node.txt', node)"
   ]
  },
  {
   "cell_type": "code",
   "execution_count": null,
   "metadata": {},
   "outputs": [],
   "source": []
  }
 ],
 "metadata": {
  "kernelspec": {
   "display_name": "Python 3",
   "language": "python",
   "name": "python3"
  },
  "language_info": {
   "codemirror_mode": {
    "name": "ipython",
    "version": 3
   },
   "file_extension": ".py",
   "mimetype": "text/x-python",
   "name": "python",
   "nbconvert_exporter": "python",
   "pygments_lexer": "ipython3",
   "version": "3.8.1"
  }
 },
 "nbformat": 4,
 "nbformat_minor": 2
}
