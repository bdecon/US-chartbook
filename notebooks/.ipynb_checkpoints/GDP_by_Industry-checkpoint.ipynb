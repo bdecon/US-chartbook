{
 "cells": [
  {
   "cell_type": "markdown",
   "metadata": {},
   "source": [
    "https://apps.bea.gov/iTable/iTable.cfm?reqid=147&step=51&isuri=1&table_list=13"
   ]
  },
  {
   "cell_type": "code",
   "execution_count": 68,
   "metadata": {
    "ExecuteTime": {
     "end_time": "2019-08-26T18:40:18.216207Z",
     "start_time": "2019-08-26T18:40:18.211576Z"
    }
   },
   "outputs": [],
   "source": [
    "import sys\n",
    "sys.path.append('../src')\n",
    "\n",
    "import uschartbook.config\n",
    "\n",
    "from uschartbook.config import *\n",
    "from uschartbook.utils import *\n",
    "\n",
    "qtrsrm = {'I': 1, 'II': 4, 'III': 7, 'IV': 10}"
   ]
  },
  {
   "cell_type": "code",
   "execution_count": 63,
   "metadata": {
    "ExecuteTime": {
     "end_time": "2019-08-26T18:36:49.898402Z",
     "start_time": "2019-08-26T18:36:49.896045Z"
    }
   },
   "outputs": [],
   "source": [
    "s = ['Quarter', 'Government', 'Utilities', 'Wholesale trade', 'Retail trade', \n",
    "     'Transportation and warehousing', 'Private goods-producing industries [1]',\n",
    "     'Private services-producing industries [2]',\n",
    "     'Finance, insurance, real estate, rental, and leasing',\n",
    "     'Educational services, health care, and social assistance']"
   ]
  },
  {
   "cell_type": "code",
   "execution_count": 123,
   "metadata": {
    "ExecuteTime": {
     "end_time": "2019-08-26T19:37:14.763030Z",
     "start_time": "2019-08-26T19:37:14.745123Z"
    }
   },
   "outputs": [],
   "source": [
    "# Adjust top and bottom line 1, 2, 3 (downloaded data manually)\n",
    "dset = 1\n",
    "df = pd.read_csv(f'raw/gdpbyindustry{dset}.csv', skiprows=4).T\n",
    "\n",
    "columns = df.iloc[1].str.strip()\n",
    "if dset == 3:\n",
    "    columns[0] = 'Quarter'\n",
    "\n",
    "df.columns = columns\n",
    "\n",
    "df = df.iloc[2:].loc[:, s]\n",
    "\n",
    "if dset == 3:\n",
    "    dates = list(zip([dt[:4] for dt in df.index], df.Quarter.map(qtrsrm).values))\n",
    "    date_index = pd.to_datetime([f'{year}-{month}-01' for year, month in dates])\n",
    "\n",
    "    df = (df.reset_index().drop(['index', 'Quarter'], axis=1)\n",
    "            .set_index(date_index).astype(float))\n",
    "    \n",
    "else:\n",
    "    dates = pd.to_datetime([f'{year}-01-01' for year in df.index])\n",
    "    df = (df.reset_index().drop(['index', 'Quarter'], axis=1)\n",
    "            .set_index(dates).astype(float))    \n",
    "\n",
    "df.index.name = 'date'\n",
    "df['TTU'] = df[['Utilities', 'Wholesale trade', 'Retail trade', \n",
    "                'Transportation and warehousing']].sum(axis=1)\n",
    "\n",
    "df['Oth_Serv'] = (df['Private services-producing industries [2]'] - df['TTU']\n",
    "                  - df['Finance, insurance, real estate, rental, and leasing'])\n",
    "\n",
    "df['FIRE'] = df['Finance, insurance, real estate, rental, and leasing']\n",
    "\n",
    "df['GoodsTTU'] = df['Private goods-producing industries [1]'] + df['TTU']\n",
    "\n",
    "df1 = df"
   ]
  },
  {
   "cell_type": "code",
   "execution_count": 131,
   "metadata": {
    "ExecuteTime": {
     "end_time": "2019-08-26T20:07:08.868515Z",
     "start_time": "2019-08-26T20:07:08.847932Z"
    }
   },
   "outputs": [],
   "source": [
    "(df1.append(df2).loc['1989':'2005'].resample('QS').pad().iloc[:-1]\n",
    "    .append((df1.append(df2).loc['2005'] - (df3.loc['2005'].sum() / 3)).append(df3))\n",
    "    .loc[:,['Government', 'Oth_Serv', 'FIRE', 'GoodsTTU']]).to_csv(data_dir / 'gdpva.csv', index_label='date')"
   ]
  }
 ],
 "metadata": {
  "kernelspec": {
   "display_name": "Python 3",
   "language": "python",
   "name": "python3"
  },
  "language_info": {
   "codemirror_mode": {
    "name": "ipython",
    "version": 3
   },
   "file_extension": ".py",
   "mimetype": "text/x-python",
   "name": "python",
   "nbconvert_exporter": "python",
   "pygments_lexer": "ipython3",
   "version": "3.7.3"
  }
 },
 "nbformat": 4,
 "nbformat_minor": 2
}
