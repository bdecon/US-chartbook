{
 "cells": [
  {
   "cell_type": "code",
   "execution_count": 1,
   "metadata": {
    "ExecuteTime": {
     "end_time": "2019-12-17T14:38:30.216764Z",
     "start_time": "2019-12-17T14:38:29.477181Z"
    }
   },
   "outputs": [],
   "source": [
    "import sys\n",
    "sys.path.append('../src')\n",
    "\n",
    "import re\n",
    "\n",
    "import uschartbook.config\n",
    "\n",
    "from uschartbook.config import *\n",
    "from uschartbook.utils import *\n",
    "\n",
    "\n",
    "qtrs = {1: 'first', 2: 'second', 3: 'third', 4: 'fourth'}"
   ]
  },
  {
   "cell_type": "code",
   "execution_count": 2,
   "metadata": {
    "ExecuteTime": {
     "end_time": "2019-12-17T14:38:30.220538Z",
     "start_time": "2019-12-17T14:38:30.217856Z"
    }
   },
   "outputs": [],
   "source": [
    "def ip_retrieve_data():\n",
    "    '''\n",
    "    Pull industrial production index data from Fed\n",
    "    '''\n",
    "    url_base = 'https://www.federalreserve.gov/datadownload/Output.aspx?rel=G17'\n",
    "    dates = 'from=01/01/1988&to=12/31/2019'\n",
    "    series = 'series=f97ad3652d87a6c1720943c31423103a'\n",
    "    settings = 'filetype=csv&label=include&layout=seriescolumn'\n",
    "    \n",
    "    url = f'{url_base}&{series}&lastobs=&{dates}&{settings}'\n",
    "    \n",
    "    raw_data = pd.read_csv(url)\n",
    "    \n",
    "    return raw_data"
   ]
  },
  {
   "cell_type": "code",
   "execution_count": 3,
   "metadata": {
    "ExecuteTime": {
     "end_time": "2019-12-17T14:38:30.228708Z",
     "start_time": "2019-12-17T14:38:30.221967Z"
    }
   },
   "outputs": [],
   "source": [
    "def ip_get_series_dict(raw_data):\n",
    "    '''\n",
    "    Use raw data to identify series and series names \n",
    "    and store the results as a python dictionary\n",
    "    '''\n",
    "    d = {v: re.sub(\"\\s+[\\(\\[].*?[\\)\\]]\", \"\", i.split(';')[0]) \n",
    "         for i, v in raw_data.iloc[4, 1:].iteritems()}\n",
    "    \n",
    "    return d"
   ]
  },
  {
   "cell_type": "code",
   "execution_count": 4,
   "metadata": {
    "ExecuteTime": {
     "end_time": "2019-12-17T14:38:30.234521Z",
     "start_time": "2019-12-17T14:38:30.229958Z"
    }
   },
   "outputs": [],
   "source": [
    "def ip_clean_data(raw_data):\n",
    "    '''\n",
    "    Convert raw industrial production data to dataframe\n",
    "    with date index column and clear column names\n",
    "    '''\n",
    "    date_column = raw_data.loc[5:, 'Series Description']\n",
    "    date_index = pd.to_datetime(date_column).rename('Date')\n",
    "    columns = [series_dict[series_id] \n",
    "               for series_id in raw_data.iloc[4, 1:].values]\n",
    "    \n",
    "    clean_data = raw_data.iloc[5:, 1:].astype('float')\n",
    "    clean_data.index = date_index\n",
    "    clean_data.columns = columns\n",
    "    \n",
    "    return clean_data"
   ]
  },
  {
   "cell_type": "code",
   "execution_count": 5,
   "metadata": {
    "ExecuteTime": {
     "end_time": "2019-12-17T14:38:30.240917Z",
     "start_time": "2019-12-17T14:38:30.235632Z"
    }
   },
   "outputs": [],
   "source": [
    "def ip_retrieve_weights(series_dict):\n",
    "    '''\n",
    "    Retrieve relative importance data for each series that\n",
    "    was identified in the series_dict\n",
    "    '''\n",
    "    adj_series_dict = {k[3:-2]: v for k, v in series_dict.items()}\n",
    "    series = adj_series_dict.keys()\n",
    "    url = 'https://www.federalreserve.gov/releases/g17/ipdisk/'\n",
    "    file = 'ipweights_sa.txt'\n",
    "    columns = ['Series', 'Year', 'January', 'February', 'March', \n",
    "              'April', 'May', 'June', 'July', 'August', \n",
    "              'September', 'October', 'November', 'December']\n",
    "    raw_weights = pd.read_csv(f'{url}{file}', sep='\\s+', skiprows=1)\n",
    "    raw_weights.columns = columns\n",
    "    weights = (raw_weights[raw_weights['Series'].isin(series)]\n",
    "               .set_index(['Series', 'Year']).stack().reset_index())\n",
    "    weights['Date'] = (pd.to_datetime(weights['level_2'] + ' 01, ' \n",
    "                    + weights['Year'].astype('int').astype('str')))\n",
    "    weights = (weights.set_index(['Series', 'Date'])[0]\n",
    "               .unstack().T.rename(adj_series_dict, axis=1)\n",
    "               .loc['1988':])\n",
    "    \n",
    "    return weights"
   ]
  },
  {
   "cell_type": "code",
   "execution_count": 6,
   "metadata": {
    "ExecuteTime": {
     "end_time": "2019-12-17T14:38:30.249427Z",
     "start_time": "2019-12-17T14:38:30.241882Z"
    }
   },
   "outputs": [],
   "source": [
    "def ip_growth_contrib(data, weights, series_list):\n",
    "    '''\n",
    "    Return the one-year contribution to industrial production growth\n",
    "    for each series in the series_list. \n",
    "    \n",
    "    data: dataframe with industrial production index\n",
    "    weights: dataframe with relative importance of each series\n",
    "    series_list: column names that match data and weight columns\n",
    "    '''\n",
    "    contribution = pd.DataFrame()\n",
    "    for series in series_list:\n",
    "        for date in data[series].index:\n",
    "            series_weight = weights.loc[date, series] / 100\n",
    "            growth_rate = (data[series].pct_change(12).loc[date]) * 100\n",
    "            contribution.at[date, series] = growth_rate * series_weight\n",
    "            \n",
    "    return contribution.loc['1989':]"
   ]
  },
  {
   "cell_type": "code",
   "execution_count": 7,
   "metadata": {
    "ExecuteTime": {
     "end_time": "2019-12-17T14:38:30.257020Z",
     "start_time": "2019-12-17T14:38:30.250559Z"
    }
   },
   "outputs": [],
   "source": [
    "def ip_export_data(data, weights):\n",
    "    '''\n",
    "    Save individual csv files that feed into chartbook charts\n",
    "    \n",
    "    Extra steps taken to exclude quarters that aren't complete\n",
    "    \n",
    "    Charts:\n",
    "    indpro: Total IP Index and Manufacturing Index Line Chart:\n",
    "    indprogr: IP Growth Contribution by Market Group - Long-term\n",
    "    indprogr_rec: IP Growth Contribution by Market Group - Recent\n",
    "    indprogr2: IP Growth Contribution by Industry Group - Long-term\n",
    "    indprogr_rec2: IP Growth Contribution by Industry Group - Recent\n",
    "    '''\n",
    "    export_file = data_dir / 'indpro.csv'\n",
    "    series_list = ['Manufacturing', 'Total index']\n",
    "    data[series_list].loc['1989':].to_csv(export_file, \n",
    "                                          index_label='date', \n",
    "                                          float_format='%g')\n",
    "    print('Saved: ', export_file)\n",
    "    \n",
    "    series_dict = {'indprogr': ['Consumer goods', 'ENS', 'Materials'],\n",
    "                   'indprogr2': ['Durable manufacturing', 'Mining', \n",
    "                                 'Nondurable manufacturing', \n",
    "                                 'Electric and gas utilities']}\n",
    "    \n",
    "    for i in [data, weights]:\n",
    "        i['ENS'] = i['Equipment, total'] + i['Nonindustrial supplies']\n",
    "    \n",
    "    quarter = data.index[-1].quarter\n",
    "    year = data.index[-1].year\n",
    "\n",
    "    full_quarter = data.index[-1]\n",
    "    current_quarter_len = (\n",
    "        len(data.loc[(data.index.quarter == quarter) & \n",
    "                           (data.index.year == year)]))\n",
    "    \n",
    "    if current_quarter_len < 3:\n",
    "        full_quarter = (data.index[-1] - \n",
    "                           pd.DateOffset(months=current_quarter_len))\n",
    "    \n",
    "    for name, series_list in series_dict.items():\n",
    "        contrib = ip_growth_contrib(data, weights, series_list)\n",
    "        export_file = data_dir / f'{name}.csv'\n",
    "        (contrib.resample('QS').mean().loc[:full_quarter]\n",
    "         .to_csv(export_file, index_label='date', float_format='%g'))\n",
    "        print('Saved: ', export_file)\n",
    "        export_file = data_dir / f'{name}_rec.csv'\n",
    "        contrib.loc['2015':].to_csv(export_file, index_label='date', \n",
    "                                    float_format='%g')\n",
    "        print('Saved: ', export_file)"
   ]
  },
  {
   "cell_type": "code",
   "execution_count": 8,
   "metadata": {
    "ExecuteTime": {
     "end_time": "2019-12-17T14:38:30.265043Z",
     "start_time": "2019-12-17T14:38:30.258585Z"
    }
   },
   "outputs": [],
   "source": [
    "def three_year_growth_text(clean_data, series):\n",
    "    '''\n",
    "    Return short text string with three year growth\n",
    "    '''\n",
    "    \n",
    "    growth = three_year_growth(clean_data, series)\n",
    "    \n",
    "    if growth > 0.1:\n",
    "        text = f'increased at an annual rate of {growth:.1f} percent'\n",
    "    elif growth < -0.1:\n",
    "        text = f'decreased at an annual rate of {abs(growth):.1f} percent'\n",
    "    else:\n",
    "        text = 'was virtually unchanged'\n",
    "        \n",
    "    return text"
   ]
  },
  {
   "cell_type": "code",
   "execution_count": 9,
   "metadata": {
    "ExecuteTime": {
     "end_time": "2019-12-17T14:38:30.273172Z",
     "start_time": "2019-12-17T14:38:30.266264Z"
    }
   },
   "outputs": [],
   "source": [
    "def ip_export_text(data, weights):\n",
    "    '''\n",
    "    Export text files that fill in text in the chartbook\n",
    "    '''\n",
    "    s_info = series_info(data['Manufacturing'])\n",
    "    latest_date = s_info['date_latest_ft']\n",
    "    mfg_3yr = three_year_growth(data, 'Manufacturing')\n",
    "    tot_3yr = three_year_growth(data, 'Total index')\n",
    "    max_diff = (s_info['val_latest'] / s_info['val_max'] - 1) * 100\n",
    "    mfg = three_year_growth_text(data, 'Manufacturing')\n",
    "    mn = three_year_growth_text(data, 'Mining')\n",
    "    ut = three_year_growth_text(data, 'Electric and gas utilities')\n",
    "    \n",
    "    text = ('Manufacturing production increased at an annual '+\n",
    "            f'rate of {mfg_3yr:.1f} percent over the past three years, as '+\n",
    "            f'of {latest_date}, but remains {abs(max_diff):.1f} percent '+\n",
    "            f'below its {s_info[\"date_max_ft\"]} rate. Total '+\n",
    "            '\\href{https://www.federalreserve.gov/releases/g17/Current/default.htm}{industrial production} '+\n",
    "            f'increased at an annual rate of {tot_3yr:.1f} '+\n",
    "            f'percent over the same period. Mining production {mn}, '+\n",
    "            f'while production of electric and gas utilities {ut}.')\n",
    "    \n",
    "    write_txt(text_dir / 'indpro.txt', text)\n",
    "    \n",
    "    print(text)\n",
    "    \n",
    "    cg = three_year_growth_text(data, 'Consumer goods')\n",
    "    eq = three_year_growth_text(data, 'Equipment, total')\n",
    "    ns = three_year_growth_text(data, 'Nonindustrial supplies')\n",
    "    mat = three_year_growth_text(data, 'Materials')\n",
    "    \n",
    "    text = (f'By market group, production of consumer goods {cg} over the '+\n",
    "            f'past three years, as of {latest_date}. Production of '+\n",
    "            f'business equipment {eq}, production of nonidustrial supplies {ns}, and '+\n",
    "            f'production of materials {mat}.')\n",
    "    \n",
    "    write_txt(text_dir / 'indpro2.txt', text)\n",
    "    \n",
    "    print(text)"
   ]
  },
  {
   "cell_type": "code",
   "execution_count": 10,
   "metadata": {
    "ExecuteTime": {
     "end_time": "2019-12-17T14:38:30.281462Z",
     "start_time": "2019-12-17T14:38:30.274201Z"
    }
   },
   "outputs": [],
   "source": [
    "def ip_export_table(clean_data, weights):\n",
    "    '''\n",
    "    Create a custom chartbook table from the IP data\n",
    "    '''\n",
    "    export_file = data_dir / 'indpro.tex'\n",
    "    \n",
    "    d = {'Total index': ' & Total index',\n",
    "         'Manufacturing': ' & \\hspace{2mm}Manufacturing',\n",
    "         'Durable manufacturing': '\\cbox{blue!60!black} & \\hspace{4mm}Durable manufacturing',\n",
    "         'Motor vehicles and parts': ' & \\hspace{6mm}Motor vehicles \\& parts',\n",
    "         'Nondurable manufacturing': '\\cbox{blue!20!cyan!80!white} & \\hspace{4mm}Nondurable manufacturing',\n",
    "         'Mining': '\\cbox{orange!20!yellow} & \\hspace{2mm}Mining',\n",
    "         'Electric and gas utilities': '\\cbox{green!80!blue} & \\hspace{2mm}Utilities',\n",
    "         'Consumer goods': '\\cbox{violet!60!black} & \\hspace{2mm}Consumer goods',\n",
    "         'Durable consumer goods': ' & \\hspace{4mm}Consumer durables',\n",
    "         'Automotive products': ' & \\hspace{6mm}Automotive products',\n",
    "         'Nondurable consumer goods': ' & \\hspace{4mm}Consumer nondurables',\n",
    "         'Foods and tobacco': ' & \\hspace{6mm}Foods and tobacco',\n",
    "         'Chemical products': ' & \\hspace{6mm}Chemical products',\n",
    "         'Consumer energy products': ' & \\hspace{6mm}Consumer energy products',\n",
    "         'ENS': '\\cbox{magenta} & \\hspace{2mm}Equipment \\& nonindustrial supplies',\n",
    "         'Equipment, total': ' & \\hspace{4mm}Equipment',\n",
    "         'Industrial equipment': ' & \\hspace{6mm}Industrial equipment',\n",
    "         'Nonindustrial supplies': ' & \\hspace{4mm}Nonindustrial supplies',\n",
    "         'Construction supplies': ' & \\hspace{6mm}Construction supplies',\n",
    "         'Business supplies': ' & \\hspace{6mm}Business supplies',\n",
    "         'Materials': '\\cbox{orange!70!yellow} & \\hspace{2mm}Materials',\n",
    "         'Consumer parts': ' & \\hspace{4mm}Consumer parts',\n",
    "         'Equipment parts': ' & \\hspace{4mm}Equipment parts',\n",
    "         'Chemical materials': ' & \\hspace{4mm}Chemical materials',\n",
    "         'Energy materials': ' & \\hspace{4mm}Energy materials'}\n",
    "    \n",
    "    table = pd.DataFrame()\n",
    "    data = ip_growth_contrib(clean_data, weights, d.keys())\n",
    "    table = data.iloc[-3:].iloc[::-1].T\n",
    "    table.columns = [date.strftime('%b %Y') for date in table.columns]\n",
    "    table['1-year'] = data.rolling(12).mean().iloc[-1]\n",
    "    table['3-year'] = data.rolling(36).mean().iloc[-1]\n",
    "    table['10-year'] = data.rolling(120).mean().iloc[-1]\n",
    "    table['30-year'] = data.rolling(360).mean().iloc[-1]\n",
    "    table = table.round(2).applymap('{:,.2f}'.format)\n",
    "    table.index = [d[name] for name in table.index]\n",
    "\n",
    "    (table.to_csv(export_file, sep='&', line_terminator='\\\\\\ ', \n",
    "                  quotechar=' ', index_label='&'))\n",
    "    \n",
    "    print('Saved: ', export_file)\n",
    "    \n",
    "    return table"
   ]
  },
  {
   "cell_type": "code",
   "execution_count": null,
   "metadata": {},
   "outputs": [],
   "source": []
  },
  {
   "cell_type": "code",
   "execution_count": 11,
   "metadata": {
    "ExecuteTime": {
     "end_time": "2019-12-17T14:38:35.768402Z",
     "start_time": "2019-12-17T14:38:30.282462Z"
    }
   },
   "outputs": [],
   "source": [
    "raw_data = ip_retrieve_data()"
   ]
  },
  {
   "cell_type": "code",
   "execution_count": 12,
   "metadata": {
    "ExecuteTime": {
     "end_time": "2019-12-17T14:38:35.772639Z",
     "start_time": "2019-12-17T14:38:35.769619Z"
    }
   },
   "outputs": [],
   "source": [
    "series_dict = ip_get_series_dict(raw_data)"
   ]
  },
  {
   "cell_type": "code",
   "execution_count": 13,
   "metadata": {
    "ExecuteTime": {
     "end_time": "2019-12-17T14:38:35.783435Z",
     "start_time": "2019-12-17T14:38:35.774247Z"
    }
   },
   "outputs": [],
   "source": [
    "clean_data = ip_clean_data(raw_data)"
   ]
  },
  {
   "cell_type": "code",
   "execution_count": 14,
   "metadata": {
    "ExecuteTime": {
     "end_time": "2019-12-17T14:38:39.476768Z",
     "start_time": "2019-12-17T14:38:35.784581Z"
    }
   },
   "outputs": [],
   "source": [
    "weights = ip_retrieve_weights(series_dict)"
   ]
  },
  {
   "cell_type": "code",
   "execution_count": 15,
   "metadata": {
    "ExecuteTime": {
     "end_time": "2019-12-17T14:38:41.437194Z",
     "start_time": "2019-12-17T14:38:39.477776Z"
    }
   },
   "outputs": [
    {
     "name": "stdout",
     "output_type": "stream",
     "text": [
      "Saved:  ../chartbook/data/indpro.csv\n",
      "Saved:  ../chartbook/data/indprogr.csv\n",
      "Saved:  ../chartbook/data/indprogr_rec.csv\n",
      "Saved:  ../chartbook/data/indprogr2.csv\n",
      "Saved:  ../chartbook/data/indprogr2_rec.csv\n"
     ]
    }
   ],
   "source": [
    "ip_export_data(clean_data, weights)"
   ]
  },
  {
   "cell_type": "code",
   "execution_count": 16,
   "metadata": {
    "ExecuteTime": {
     "end_time": "2019-12-17T14:38:41.449512Z",
     "start_time": "2019-12-17T14:38:41.438226Z"
    }
   },
   "outputs": [
    {
     "name": "stdout",
     "output_type": "stream",
     "text": [
      "Manufacturing production increased at an annual rate of 1.2 percent over the past three years, as of December 2019, but remains 4.6 percent below its December 2007 rate. Total \\href{https://www.federalreserve.gov/releases/g17/Current/default.htm}{industrial production} increased at an annual rate of 2.1 percent over the same period. Mining production increased at an annual rate of 9.4 percent, while production of electric and gas utilities decreased at an annual rate of 1.0 percent.\n",
      "By market group, production of consumer goods increased at an annual rate of 0.2 percent over the past three years, as of December 2019. Production of business equipment increased at an annual rate of 2.8 percent, production of nonidustrial supplies increased at an annual rate of 1.1 percent, and production of materials increased at an annual rate of 3.3 percent.\n"
     ]
    }
   ],
   "source": [
    "ip_export_text(clean_data, weights)"
   ]
  },
  {
   "cell_type": "code",
   "execution_count": 17,
   "metadata": {
    "ExecuteTime": {
     "end_time": "2019-12-17T14:38:46.755124Z",
     "start_time": "2019-12-17T14:38:41.450529Z"
    }
   },
   "outputs": [
    {
     "name": "stdout",
     "output_type": "stream",
     "text": [
      "Saved:  ../chartbook/data/indpro.tex\n"
     ]
    }
   ],
   "source": [
    "table = ip_export_table(clean_data, weights)"
   ]
  },
  {
   "cell_type": "code",
   "execution_count": 18,
   "metadata": {
    "ExecuteTime": {
     "end_time": "2019-12-17T14:38:46.770365Z",
     "start_time": "2019-12-17T14:38:46.756299Z"
    }
   },
   "outputs": [
    {
     "data": {
      "text/html": [
       "<div>\n",
       "<style scoped>\n",
       "    .dataframe tbody tr th:only-of-type {\n",
       "        vertical-align: middle;\n",
       "    }\n",
       "\n",
       "    .dataframe tbody tr th {\n",
       "        vertical-align: top;\n",
       "    }\n",
       "\n",
       "    .dataframe thead th {\n",
       "        text-align: right;\n",
       "    }\n",
       "</style>\n",
       "<table border=\"1\" class=\"dataframe\">\n",
       "  <thead>\n",
       "    <tr style=\"text-align: right;\">\n",
       "      <th></th>\n",
       "      <th>Dec 2019</th>\n",
       "      <th>Nov 2019</th>\n",
       "      <th>Oct 2019</th>\n",
       "      <th>1-year</th>\n",
       "      <th>3-year</th>\n",
       "      <th>10-year</th>\n",
       "      <th>30-year</th>\n",
       "    </tr>\n",
       "  </thead>\n",
       "  <tbody>\n",
       "    <tr>\n",
       "      <th>&amp; Total index</th>\n",
       "      <td>-1.01</td>\n",
       "      <td>-0.68</td>\n",
       "      <td>-0.97</td>\n",
       "      <td>0.84</td>\n",
       "      <td>2.37</td>\n",
       "      <td>2.09</td>\n",
       "      <td>1.91</td>\n",
       "    </tr>\n",
       "    <tr>\n",
       "      <th>&amp; \\hspace{2mm}Manufacturing</th>\n",
       "      <td>-1.01</td>\n",
       "      <td>-0.69</td>\n",
       "      <td>-1.30</td>\n",
       "      <td>-0.14</td>\n",
       "      <td>1.02</td>\n",
       "      <td>1.18</td>\n",
       "      <td>1.53</td>\n",
       "    </tr>\n",
       "    <tr>\n",
       "      <th>\\cbox{blue!60!black} &amp; \\hspace{4mm}Durable manufacturing</th>\n",
       "      <td>-0.50</td>\n",
       "      <td>-0.11</td>\n",
       "      <td>-0.81</td>\n",
       "      <td>0.27</td>\n",
       "      <td>0.79</td>\n",
       "      <td>1.13</td>\n",
       "      <td>1.49</td>\n",
       "    </tr>\n",
       "    <tr>\n",
       "      <th>&amp; \\hspace{6mm}Motor vehicles \\&amp; parts</th>\n",
       "      <td>-0.45</td>\n",
       "      <td>-0.00</td>\n",
       "      <td>-0.55</td>\n",
       "      <td>-0.11</td>\n",
       "      <td>0.04</td>\n",
       "      <td>0.40</td>\n",
       "      <td>0.23</td>\n",
       "    </tr>\n",
       "    <tr>\n",
       "      <th>\\cbox{blue!20!cyan!80!white} &amp; \\hspace{4mm}Nondurable manufacturing</th>\n",
       "      <td>-0.43</td>\n",
       "      <td>-0.46</td>\n",
       "      <td>-0.39</td>\n",
       "      <td>-0.27</td>\n",
       "      <td>0.35</td>\n",
       "      <td>0.21</td>\n",
       "      <td>0.17</td>\n",
       "    </tr>\n",
       "    <tr>\n",
       "      <th>\\cbox{orange!20!yellow} &amp; \\hspace{2mm}Mining</th>\n",
       "      <td>0.20</td>\n",
       "      <td>0.32</td>\n",
       "      <td>0.47</td>\n",
       "      <td>1.04</td>\n",
       "      <td>1.34</td>\n",
       "      <td>0.94</td>\n",
       "      <td>0.30</td>\n",
       "    </tr>\n",
       "    <tr>\n",
       "      <th>\\cbox{green!80!blue} &amp; \\hspace{2mm}Utilities</th>\n",
       "      <td>-0.19</td>\n",
       "      <td>-0.34</td>\n",
       "      <td>-0.17</td>\n",
       "      <td>-0.11</td>\n",
       "      <td>0.09</td>\n",
       "      <td>0.07</td>\n",
       "      <td>0.13</td>\n",
       "    </tr>\n",
       "    <tr>\n",
       "      <th>\\cbox{violet!60!black} &amp; \\hspace{2mm}Consumer goods</th>\n",
       "      <td>-0.45</td>\n",
       "      <td>-0.25</td>\n",
       "      <td>-0.53</td>\n",
       "      <td>-0.24</td>\n",
       "      <td>0.16</td>\n",
       "      <td>0.17</td>\n",
       "      <td>0.25</td>\n",
       "    </tr>\n",
       "    <tr>\n",
       "      <th>&amp; \\hspace{4mm}Consumer durables</th>\n",
       "      <td>-0.22</td>\n",
       "      <td>-0.00</td>\n",
       "      <td>-0.37</td>\n",
       "      <td>-0.09</td>\n",
       "      <td>0.05</td>\n",
       "      <td>0.20</td>\n",
       "      <td>0.16</td>\n",
       "    </tr>\n",
       "    <tr>\n",
       "      <th>&amp; \\hspace{6mm}Automotive products</th>\n",
       "      <td>-0.18</td>\n",
       "      <td>0.06</td>\n",
       "      <td>-0.29</td>\n",
       "      <td>-0.06</td>\n",
       "      <td>0.03</td>\n",
       "      <td>0.18</td>\n",
       "      <td>0.12</td>\n",
       "    </tr>\n",
       "    <tr>\n",
       "      <th>&amp; \\hspace{4mm}Consumer nondurables</th>\n",
       "      <td>-0.22</td>\n",
       "      <td>-0.25</td>\n",
       "      <td>-0.14</td>\n",
       "      <td>-0.15</td>\n",
       "      <td>0.12</td>\n",
       "      <td>-0.02</td>\n",
       "      <td>0.11</td>\n",
       "    </tr>\n",
       "    <tr>\n",
       "      <th>&amp; \\hspace{6mm}Foods and tobacco</th>\n",
       "      <td>0.18</td>\n",
       "      <td>0.17</td>\n",
       "      <td>0.12</td>\n",
       "      <td>-0.02</td>\n",
       "      <td>0.10</td>\n",
       "      <td>0.07</td>\n",
       "      <td>0.06</td>\n",
       "    </tr>\n",
       "    <tr>\n",
       "      <th>&amp; \\hspace{6mm}Chemical products</th>\n",
       "      <td>-0.13</td>\n",
       "      <td>-0.10</td>\n",
       "      <td>-0.07</td>\n",
       "      <td>-0.01</td>\n",
       "      <td>0.03</td>\n",
       "      <td>-0.07</td>\n",
       "      <td>0.05</td>\n",
       "    </tr>\n",
       "    <tr>\n",
       "      <th>&amp; \\hspace{6mm}Consumer energy products</th>\n",
       "      <td>-0.22</td>\n",
       "      <td>-0.23</td>\n",
       "      <td>-0.11</td>\n",
       "      <td>-0.05</td>\n",
       "      <td>0.07</td>\n",
       "      <td>0.05</td>\n",
       "      <td>0.06</td>\n",
       "    </tr>\n",
       "    <tr>\n",
       "      <th>\\cbox{magenta} &amp; \\hspace{2mm}Equipment \\&amp; nonindustrial supplies</th>\n",
       "      <td>-0.19</td>\n",
       "      <td>-0.11</td>\n",
       "      <td>-0.30</td>\n",
       "      <td>0.20</td>\n",
       "      <td>0.61</td>\n",
       "      <td>0.47</td>\n",
       "      <td>0.52</td>\n",
       "    </tr>\n",
       "    <tr>\n",
       "      <th>&amp; \\hspace{4mm}Equipment</th>\n",
       "      <td>-0.12</td>\n",
       "      <td>-0.06</td>\n",
       "      <td>-0.21</td>\n",
       "      <td>0.21</td>\n",
       "      <td>0.41</td>\n",
       "      <td>0.27</td>\n",
       "      <td>0.36</td>\n",
       "    </tr>\n",
       "    <tr>\n",
       "      <th>&amp; \\hspace{6mm}Industrial equipment</th>\n",
       "      <td>-0.10</td>\n",
       "      <td>-0.16</td>\n",
       "      <td>-0.15</td>\n",
       "      <td>-0.01</td>\n",
       "      <td>0.11</td>\n",
       "      <td>0.08</td>\n",
       "      <td>0.04</td>\n",
       "    </tr>\n",
       "    <tr>\n",
       "      <th>&amp; \\hspace{4mm}Nonindustrial supplies</th>\n",
       "      <td>-0.07</td>\n",
       "      <td>-0.05</td>\n",
       "      <td>-0.09</td>\n",
       "      <td>-0.01</td>\n",
       "      <td>0.20</td>\n",
       "      <td>0.20</td>\n",
       "      <td>0.18</td>\n",
       "    </tr>\n",
       "    <tr>\n",
       "      <th>&amp; \\hspace{6mm}Construction supplies</th>\n",
       "      <td>0.04</td>\n",
       "      <td>0.04</td>\n",
       "      <td>0.05</td>\n",
       "      <td>0.08</td>\n",
       "      <td>0.13</td>\n",
       "      <td>0.12</td>\n",
       "      <td>0.04</td>\n",
       "    </tr>\n",
       "    <tr>\n",
       "      <th>&amp; \\hspace{6mm}Business supplies</th>\n",
       "      <td>-0.11</td>\n",
       "      <td>-0.09</td>\n",
       "      <td>-0.13</td>\n",
       "      <td>-0.09</td>\n",
       "      <td>0.07</td>\n",
       "      <td>0.09</td>\n",
       "      <td>0.14</td>\n",
       "    </tr>\n",
       "    <tr>\n",
       "      <th>\\cbox{orange!70!yellow} &amp; \\hspace{2mm}Materials</th>\n",
       "      <td>-0.38</td>\n",
       "      <td>-0.32</td>\n",
       "      <td>-0.14</td>\n",
       "      <td>0.88</td>\n",
       "      <td>1.62</td>\n",
       "      <td>1.51</td>\n",
       "      <td>1.15</td>\n",
       "    </tr>\n",
       "    <tr>\n",
       "      <th>&amp; \\hspace{4mm}Consumer parts</th>\n",
       "      <td>-0.27</td>\n",
       "      <td>-0.18</td>\n",
       "      <td>-0.28</td>\n",
       "      <td>-0.13</td>\n",
       "      <td>-0.01</td>\n",
       "      <td>0.15</td>\n",
       "      <td>0.10</td>\n",
       "    </tr>\n",
       "    <tr>\n",
       "      <th>&amp; \\hspace{4mm}Equipment parts</th>\n",
       "      <td>0.03</td>\n",
       "      <td>0.04</td>\n",
       "      <td>0.01</td>\n",
       "      <td>0.12</td>\n",
       "      <td>0.15</td>\n",
       "      <td>0.25</td>\n",
       "      <td>0.66</td>\n",
       "    </tr>\n",
       "    <tr>\n",
       "      <th>&amp; \\hspace{4mm}Chemical materials</th>\n",
       "      <td>-0.22</td>\n",
       "      <td>-0.24</td>\n",
       "      <td>-0.12</td>\n",
       "      <td>0.00</td>\n",
       "      <td>0.16</td>\n",
       "      <td>0.08</td>\n",
       "      <td>0.05</td>\n",
       "    </tr>\n",
       "    <tr>\n",
       "      <th>&amp; \\hspace{4mm}Energy materials</th>\n",
       "      <td>0.41</td>\n",
       "      <td>0.35</td>\n",
       "      <td>0.52</td>\n",
       "      <td>0.97</td>\n",
       "      <td>1.23</td>\n",
       "      <td>0.89</td>\n",
       "      <td>0.33</td>\n",
       "    </tr>\n",
       "  </tbody>\n",
       "</table>\n",
       "</div>"
      ],
      "text/plain": [
       "                                                   Dec 2019 Nov 2019 Oct 2019  \\\n",
       " & Total index                                        -1.01    -0.68    -0.97   \n",
       " & \\hspace{2mm}Manufacturing                          -1.01    -0.69    -1.30   \n",
       "\\cbox{blue!60!black} & \\hspace{4mm}Durable manu...    -0.50    -0.11    -0.81   \n",
       " & \\hspace{6mm}Motor vehicles \\& parts                -0.45    -0.00    -0.55   \n",
       "\\cbox{blue!20!cyan!80!white} & \\hspace{4mm}Nond...    -0.43    -0.46    -0.39   \n",
       "\\cbox{orange!20!yellow} & \\hspace{2mm}Mining           0.20     0.32     0.47   \n",
       "\\cbox{green!80!blue} & \\hspace{2mm}Utilities          -0.19    -0.34    -0.17   \n",
       "\\cbox{violet!60!black} & \\hspace{2mm}Consumer g...    -0.45    -0.25    -0.53   \n",
       " & \\hspace{4mm}Consumer durables                      -0.22    -0.00    -0.37   \n",
       " & \\hspace{6mm}Automotive products                    -0.18     0.06    -0.29   \n",
       " & \\hspace{4mm}Consumer nondurables                   -0.22    -0.25    -0.14   \n",
       " & \\hspace{6mm}Foods and tobacco                       0.18     0.17     0.12   \n",
       " & \\hspace{6mm}Chemical products                      -0.13    -0.10    -0.07   \n",
       " & \\hspace{6mm}Consumer energy products               -0.22    -0.23    -0.11   \n",
       "\\cbox{magenta} & \\hspace{2mm}Equipment \\& nonin...    -0.19    -0.11    -0.30   \n",
       " & \\hspace{4mm}Equipment                              -0.12    -0.06    -0.21   \n",
       " & \\hspace{6mm}Industrial equipment                   -0.10    -0.16    -0.15   \n",
       " & \\hspace{4mm}Nonindustrial supplies                 -0.07    -0.05    -0.09   \n",
       " & \\hspace{6mm}Construction supplies                   0.04     0.04     0.05   \n",
       " & \\hspace{6mm}Business supplies                      -0.11    -0.09    -0.13   \n",
       "\\cbox{orange!70!yellow} & \\hspace{2mm}Materials       -0.38    -0.32    -0.14   \n",
       " & \\hspace{4mm}Consumer parts                         -0.27    -0.18    -0.28   \n",
       " & \\hspace{4mm}Equipment parts                         0.03     0.04     0.01   \n",
       " & \\hspace{4mm}Chemical materials                     -0.22    -0.24    -0.12   \n",
       " & \\hspace{4mm}Energy materials                        0.41     0.35     0.52   \n",
       "\n",
       "                                                   1-year 3-year 10-year  \\\n",
       " & Total index                                       0.84   2.37    2.09   \n",
       " & \\hspace{2mm}Manufacturing                        -0.14   1.02    1.18   \n",
       "\\cbox{blue!60!black} & \\hspace{4mm}Durable manu...   0.27   0.79    1.13   \n",
       " & \\hspace{6mm}Motor vehicles \\& parts              -0.11   0.04    0.40   \n",
       "\\cbox{blue!20!cyan!80!white} & \\hspace{4mm}Nond...  -0.27   0.35    0.21   \n",
       "\\cbox{orange!20!yellow} & \\hspace{2mm}Mining         1.04   1.34    0.94   \n",
       "\\cbox{green!80!blue} & \\hspace{2mm}Utilities        -0.11   0.09    0.07   \n",
       "\\cbox{violet!60!black} & \\hspace{2mm}Consumer g...  -0.24   0.16    0.17   \n",
       " & \\hspace{4mm}Consumer durables                    -0.09   0.05    0.20   \n",
       " & \\hspace{6mm}Automotive products                  -0.06   0.03    0.18   \n",
       " & \\hspace{4mm}Consumer nondurables                 -0.15   0.12   -0.02   \n",
       " & \\hspace{6mm}Foods and tobacco                    -0.02   0.10    0.07   \n",
       " & \\hspace{6mm}Chemical products                    -0.01   0.03   -0.07   \n",
       " & \\hspace{6mm}Consumer energy products             -0.05   0.07    0.05   \n",
       "\\cbox{magenta} & \\hspace{2mm}Equipment \\& nonin...   0.20   0.61    0.47   \n",
       " & \\hspace{4mm}Equipment                             0.21   0.41    0.27   \n",
       " & \\hspace{6mm}Industrial equipment                 -0.01   0.11    0.08   \n",
       " & \\hspace{4mm}Nonindustrial supplies               -0.01   0.20    0.20   \n",
       " & \\hspace{6mm}Construction supplies                 0.08   0.13    0.12   \n",
       " & \\hspace{6mm}Business supplies                    -0.09   0.07    0.09   \n",
       "\\cbox{orange!70!yellow} & \\hspace{2mm}Materials      0.88   1.62    1.51   \n",
       " & \\hspace{4mm}Consumer parts                       -0.13  -0.01    0.15   \n",
       " & \\hspace{4mm}Equipment parts                       0.12   0.15    0.25   \n",
       " & \\hspace{4mm}Chemical materials                    0.00   0.16    0.08   \n",
       " & \\hspace{4mm}Energy materials                      0.97   1.23    0.89   \n",
       "\n",
       "                                                   30-year  \n",
       " & Total index                                        1.91  \n",
       " & \\hspace{2mm}Manufacturing                          1.53  \n",
       "\\cbox{blue!60!black} & \\hspace{4mm}Durable manu...    1.49  \n",
       " & \\hspace{6mm}Motor vehicles \\& parts                0.23  \n",
       "\\cbox{blue!20!cyan!80!white} & \\hspace{4mm}Nond...    0.17  \n",
       "\\cbox{orange!20!yellow} & \\hspace{2mm}Mining          0.30  \n",
       "\\cbox{green!80!blue} & \\hspace{2mm}Utilities          0.13  \n",
       "\\cbox{violet!60!black} & \\hspace{2mm}Consumer g...    0.25  \n",
       " & \\hspace{4mm}Consumer durables                      0.16  \n",
       " & \\hspace{6mm}Automotive products                    0.12  \n",
       " & \\hspace{4mm}Consumer nondurables                   0.11  \n",
       " & \\hspace{6mm}Foods and tobacco                      0.06  \n",
       " & \\hspace{6mm}Chemical products                      0.05  \n",
       " & \\hspace{6mm}Consumer energy products               0.06  \n",
       "\\cbox{magenta} & \\hspace{2mm}Equipment \\& nonin...    0.52  \n",
       " & \\hspace{4mm}Equipment                              0.36  \n",
       " & \\hspace{6mm}Industrial equipment                   0.04  \n",
       " & \\hspace{4mm}Nonindustrial supplies                 0.18  \n",
       " & \\hspace{6mm}Construction supplies                  0.04  \n",
       " & \\hspace{6mm}Business supplies                      0.14  \n",
       "\\cbox{orange!70!yellow} & \\hspace{2mm}Materials       1.15  \n",
       " & \\hspace{4mm}Consumer parts                         0.10  \n",
       " & \\hspace{4mm}Equipment parts                        0.66  \n",
       " & \\hspace{4mm}Chemical materials                     0.05  \n",
       " & \\hspace{4mm}Energy materials                       0.33  "
      ]
     },
     "execution_count": 18,
     "metadata": {},
     "output_type": "execute_result"
    }
   ],
   "source": [
    "table"
   ]
  },
  {
   "cell_type": "code",
   "execution_count": null,
   "metadata": {},
   "outputs": [],
   "source": []
  },
  {
   "cell_type": "code",
   "execution_count": null,
   "metadata": {},
   "outputs": [],
   "source": []
  },
  {
   "cell_type": "code",
   "execution_count": null,
   "metadata": {},
   "outputs": [],
   "source": []
  },
  {
   "cell_type": "code",
   "execution_count": null,
   "metadata": {},
   "outputs": [],
   "source": []
  },
  {
   "cell_type": "code",
   "execution_count": null,
   "metadata": {},
   "outputs": [],
   "source": []
  },
  {
   "cell_type": "code",
   "execution_count": 19,
   "metadata": {
    "ExecuteTime": {
     "end_time": "2019-12-17T14:38:46.775923Z",
     "start_time": "2019-12-17T14:38:46.771614Z"
    }
   },
   "outputs": [],
   "source": [
    "def ip_clean_data2(raw_data):\n",
    "    '''\n",
    "    Convert raw industrial production data to dataframe\n",
    "    with date index column and clear column names\n",
    "    '''\n",
    "    date_column = raw_data.loc[5:, 'Series Description']\n",
    "    date_index = pd.to_datetime(date_column).rename('Date')\n",
    "    columns = [series_id for series_id in raw_data.iloc[4, 1:].values]\n",
    "    \n",
    "    clean_data = raw_data.iloc[5:, 1:].astype('float')\n",
    "    clean_data.index = date_index\n",
    "    clean_data.columns = columns\n",
    "    \n",
    "    return clean_data"
   ]
  },
  {
   "cell_type": "markdown",
   "metadata": {},
   "source": [
    "### Bar chart"
   ]
  },
  {
   "cell_type": "code",
   "execution_count": 20,
   "metadata": {
    "ExecuteTime": {
     "end_time": "2019-12-17T14:38:52.014957Z",
     "start_time": "2019-12-17T14:38:46.777142Z"
    }
   },
   "outputs": [],
   "source": [
    "url = 'https://www.federalreserve.gov/datadownload/Output.aspx?rel=G17&series=644452cb9b9f8c5a43cd9afb772f1b16&lastobs=50&from=&to=&filetype=csv&label=include&layout=seriescolumn'\n",
    "\n",
    "raw_data = pd.read_csv(url)"
   ]
  },
  {
   "cell_type": "code",
   "execution_count": 21,
   "metadata": {
    "ExecuteTime": {
     "end_time": "2019-12-17T14:38:52.021939Z",
     "start_time": "2019-12-17T14:38:52.017687Z"
    }
   },
   "outputs": [],
   "source": [
    "series_dict = ip_get_series_dict(raw_data)"
   ]
  },
  {
   "cell_type": "code",
   "execution_count": 22,
   "metadata": {
    "ExecuteTime": {
     "end_time": "2019-12-17T14:38:52.043947Z",
     "start_time": "2019-12-17T14:38:52.023990Z"
    }
   },
   "outputs": [],
   "source": [
    "clean_data = ip_clean_data2(raw_data)"
   ]
  },
  {
   "cell_type": "code",
   "execution_count": 23,
   "metadata": {
    "ExecuteTime": {
     "end_time": "2019-12-17T14:38:52.073118Z",
     "start_time": "2019-12-17T14:38:52.046741Z"
    }
   },
   "outputs": [],
   "source": [
    "ip = (pd.Series({series_dict[row[0]]: row[1] \n",
    "                 for row in clean_data.pct_change(36).iloc[-1].iteritems() \n",
    "                 if 'IP' in row[0]}).rename('IP'))\n",
    "cu = (pd.Series({series_dict[row[0]]: row[1] \n",
    "                 for row in clean_data.diff(36).iloc[-1].iteritems() \n",
    "                 if 'UTIL' in row[0]}).rename('CU'))\n",
    "cp = (pd.Series({series_dict[row[0]]: row[1] \n",
    "                 for row in clean_data.pct_change(36).iloc[-1].iteritems() \n",
    "                 if 'CAP.' in row[0]}).rename('CP'))"
   ]
  },
  {
   "cell_type": "code",
   "execution_count": 24,
   "metadata": {
    "ExecuteTime": {
     "end_time": "2019-12-17T14:38:52.079763Z",
     "start_time": "2019-12-17T14:38:52.074633Z"
    }
   },
   "outputs": [],
   "source": [
    "final = pd.DataFrame([ip, cp]).T.sort_values('IP', ascending=False) * 100"
   ]
  },
  {
   "cell_type": "code",
   "execution_count": 25,
   "metadata": {
    "ExecuteTime": {
     "end_time": "2019-12-17T14:38:52.085952Z",
     "start_time": "2019-12-17T14:38:52.080841Z"
    }
   },
   "outputs": [],
   "source": [
    "final.index = final.index.str.replace('and', '\\&')"
   ]
  },
  {
   "cell_type": "code",
   "execution_count": 26,
   "metadata": {
    "ExecuteTime": {
     "end_time": "2019-12-17T14:38:52.093774Z",
     "start_time": "2019-12-17T14:38:52.087142Z"
    }
   },
   "outputs": [],
   "source": [
    "final.round(1).to_csv(data_dir / 'ip_comp.csv', index_label='name', sep=';')"
   ]
  },
  {
   "cell_type": "code",
   "execution_count": 27,
   "metadata": {
    "ExecuteTime": {
     "end_time": "2019-12-17T14:38:52.102567Z",
     "start_time": "2019-12-17T14:38:52.095096Z"
    }
   },
   "outputs": [],
   "source": [
    "words = ['none', 'one', 'two', 'three', 'four', 'five', 'six', 'seven', 'eight', 'nine', 'ten', '11', 'all 12']\n",
    "nums = list(range(0, 13))\n",
    "nums_to_words = dict(zip(nums, words))\n",
    "verb = {n: 'were' if n!= 1 else 'was' for n in range(0, 13)}"
   ]
  },
  {
   "cell_type": "code",
   "execution_count": 28,
   "metadata": {
    "ExecuteTime": {
     "end_time": "2019-12-17T14:38:52.110657Z",
     "start_time": "2019-12-17T14:38:52.103899Z"
    }
   },
   "outputs": [],
   "source": [
    "thresh = 0.1\n",
    "incval = len(final[final['IP'] >= thresh])\n",
    "decval = len(final[final['IP'] <= -thresh])\n",
    "unchval = len(final[(final['IP'] < thresh) & (final['IP'] > -thresh)])"
   ]
  },
  {
   "cell_type": "code",
   "execution_count": 29,
   "metadata": {
    "ExecuteTime": {
     "end_time": "2019-12-17T14:38:52.116780Z",
     "start_time": "2019-12-17T14:38:52.112276Z"
    }
   },
   "outputs": [],
   "source": [
    "text = ('Of a subset of 12 industries that contribute the majority of industrial production, '+\n",
    "        f'{nums_to_words[incval]} increased production over the past three years, {nums_to_words[decval]} decreased '+\n",
    "        f'production, and {nums_to_words[unchval]} {verb[unchval]} unchanged. ')"
   ]
  },
  {
   "cell_type": "code",
   "execution_count": 30,
   "metadata": {
    "ExecuteTime": {
     "end_time": "2019-12-17T14:38:52.124381Z",
     "start_time": "2019-12-17T14:38:52.118076Z"
    }
   },
   "outputs": [],
   "source": [
    "top = final.iloc[0].name\n",
    "topval = final.IP.iloc[0]\n",
    "topch = f'{[\"increased\" if topval >=0 else \"decreased\"][0]} by {abs(topval):.1f} percent'\n",
    "\n",
    "scnd = final.iloc[1].name\n",
    "scndval = final.IP.iloc[1]\n",
    "scndch = f'{[\"increased\" if scndval >=0 else \"decreased\"][0]} by {abs(scndval):.1f} percent'\n",
    "\n",
    "thd = final.iloc[2].name.lower()\n",
    "thdval = final.IP.iloc[2]\n",
    "thdch = f'{[\"increased\" if thdval >=0 else \"decreased\"][0]} by {abs(thdval):.1f} percent'\n",
    "\n",
    "bot = final.iloc[-1].name.lower()\n",
    "botval = final.IP.iloc[-1]\n",
    "botch = f'{[\"increased\" if botval >=0 else \"decreased\"][0]} by {abs(botval):.1f} percent'\n",
    "\n",
    "ltdate = clean_data.index[-1].strftime('%B %Y')"
   ]
  },
  {
   "cell_type": "code",
   "execution_count": 31,
   "metadata": {
    "ExecuteTime": {
     "end_time": "2019-12-17T14:38:52.132776Z",
     "start_time": "2019-12-17T14:38:52.125533Z"
    }
   },
   "outputs": [],
   "source": [
    "text2 = (f'{top} production {topch} in total over the three years ending {ltdate}. '+\n",
    "         f'{scnd} production {scndch}, and {thd} production {thdch}. '+\n",
    "         f'In contrast, {bot} production {botch} over the same period.')"
   ]
  },
  {
   "cell_type": "code",
   "execution_count": 32,
   "metadata": {
    "ExecuteTime": {
     "end_time": "2019-12-17T14:38:52.138713Z",
     "start_time": "2019-12-17T14:38:52.133907Z"
    }
   },
   "outputs": [],
   "source": [
    "txt = text + text2"
   ]
  },
  {
   "cell_type": "code",
   "execution_count": 33,
   "metadata": {
    "ExecuteTime": {
     "end_time": "2019-12-17T14:38:52.147905Z",
     "start_time": "2019-12-17T14:38:52.140068Z"
    }
   },
   "outputs": [],
   "source": [
    "write_txt(text_dir / 'ip_comp1.txt', txt)"
   ]
  },
  {
   "cell_type": "code",
   "execution_count": 34,
   "metadata": {
    "ExecuteTime": {
     "end_time": "2019-12-17T14:38:52.160054Z",
     "start_time": "2019-12-17T14:38:52.149112Z"
    }
   },
   "outputs": [],
   "source": [
    "thresh = 0.1\n",
    "incval = len(final[final['CP'] >= thresh])\n",
    "decval = len(final[final['CP'] <= -thresh])\n",
    "unchval = len(final[(final['CP'] < thresh) & (final['CP'] > -thresh)])"
   ]
  },
  {
   "cell_type": "code",
   "execution_count": 35,
   "metadata": {
    "ExecuteTime": {
     "end_time": "2019-12-17T14:38:52.167290Z",
     "start_time": "2019-12-17T14:38:52.161247Z"
    }
   },
   "outputs": [],
   "source": [
    "cpch = abs(final.CP).sort_values().index[-1]\n",
    "\n",
    "cpch_val = final.loc[cpch, 'CP']\n",
    "\n",
    "cpch_txt = [f'an increase of {cpch_val:.1f} percent' if final.loc[cpch, \"CP\"] > 0 \n",
    "            else f'a decrease of {abs(cpch_val):.1f} percent'][0]\n",
    "\n",
    "cpch2 = abs(final.CP).sort_values().index[-2]\n",
    "\n",
    "cpch2_val = final.loc[cpch2, 'CP']\n",
    "\n",
    "cpch2_txt = [f'an increase of {cpch2_val:.1f} percent' if final.loc[cpch2, \"CP\"] > 0 \n",
    "            else f'a decrease of {abs(cpch2_val):.1f} percent'][0]"
   ]
  },
  {
   "cell_type": "code",
   "execution_count": 36,
   "metadata": {
    "ExecuteTime": {
     "end_time": "2019-12-17T14:38:52.173538Z",
     "start_time": "2019-12-17T14:38:52.168470Z"
    }
   },
   "outputs": [],
   "source": [
    "text3 = (f'Over the three years ending {ltdate}, {nums_to_words[incval]} of the 12 '+\n",
    "         f'industries increased industrial capacity, {nums_to_words[decval]} '+\n",
    "         f'decreased capacity, and {nums_to_words[unchval]} {verb[unchval]} unchanged. '+\n",
    "         f'The most significant change over the period was {cpch_txt} in {cpch.lower()} capacity, '+\n",
    "         f'follwed by {cpch2_txt} in {cpch2.lower()} capacity.')"
   ]
  },
  {
   "cell_type": "code",
   "execution_count": 37,
   "metadata": {
    "ExecuteTime": {
     "end_time": "2019-12-17T14:38:52.179474Z",
     "start_time": "2019-12-17T14:38:52.174705Z"
    }
   },
   "outputs": [],
   "source": [
    "write_txt(text_dir / 'ip_comp2.txt', text3)"
   ]
  },
  {
   "cell_type": "code",
   "execution_count": null,
   "metadata": {},
   "outputs": [],
   "source": []
  },
  {
   "cell_type": "markdown",
   "metadata": {},
   "source": [
    "### Latest monthly data in two small plots"
   ]
  },
  {
   "cell_type": "code",
   "execution_count": 42,
   "metadata": {},
   "outputs": [],
   "source": [
    "date_latest = clean_data.index[-1].strftime('%Y-%m-%d')\n",
    "month_short = clean_data.index[-1].strftime('%b')"
   ]
  },
  {
   "cell_type": "code",
   "execution_count": 51,
   "metadata": {},
   "outputs": [],
   "source": [
    "text = ('xtick={{2015-01-01}, {2016-01-01}, {2017-01-01}, '+\n",
    "        f'{{2018-01-01}}, {{2019-01-01}}, {{{date_latest}}}}}, '+\n",
    "        f'xticklabels={{`15, `16, `17, `18, `19, {month_short}}}')"
   ]
  },
  {
   "cell_type": "code",
   "execution_count": 71,
   "metadata": {},
   "outputs": [],
   "source": [
    "text_full = ('\\\\noindent \\hspace*{-2mm} \\\\begin{tikzpicture}'+\n",
    "' \\\\begin{axis}[\\\\bbar{y}{0}, \\dateaxisticks ytick={-4, -2, 0, 2, 4, 6}, '+\n",
    "' clip=false, width=6.5cm, height=4.6cm, '+\n",
    "text + \n",
    "', minor xtick={}, enlarge y limits=0.06, '+\n",
    "' enlarge x limits={0.04}]'+\n",
    "' \\sbar{violet!60!black}{date}{Consumer goods}{data/indprogr_rec.csv}'+\n",
    "' \\sbar{magenta}{date}{ENS}{data/indprogr_rec.csv}'+\n",
    "' \\sbar{orange!70!yellow}{date}{Materials}{data/indprogr_rec.csv}'+\n",
    "' \\end{axis}'+\n",
    "' \\end{tikzpicture}'+\n",
    "' \\hfill'+\n",
    "' \\\\begin{tikzpicture}'+\n",
    "' \\\\begin{axis}[\\\\bbar{y}{0}, \\dateaxisticks ytick={-4, -2, 0, 2, 4, 6}, '+\n",
    "' clip=false, width=6.5cm, height=4.6cm, '+\n",
    "text + \n",
    "', minor xtick={}, enlarge y limits=0.06, '+\n",
    "' enlarge x limits={0.04}]'+\n",
    "' \\sbar{blue!60!black}{date}{Durable manufacturing}{data/indprogr2_rec.csv}'+\n",
    "' \\sbar{blue!20!cyan!80!white}{date}{Nondurable manufacturing}{data/indprogr2_rec.csv}'+\n",
    "' \\sbar{orange!20!yellow}{date}{Mining}{data/indprogr2_rec.csv}'+\n",
    "' \\sbar{green!80!blue}{date}{Electric and gas utilities}{data/indprogr2_rec.csv}'+\n",
    "' \\end{axis}'+\n",
    "' \\end{tikzpicture} \\\\')"
   ]
  },
  {
   "cell_type": "code",
   "execution_count": 72,
   "metadata": {},
   "outputs": [],
   "source": [
    "write_txt(text_dir / 'ip_latest_monthly.tex', text_full)"
   ]
  },
  {
   "cell_type": "code",
   "execution_count": null,
   "metadata": {},
   "outputs": [],
   "source": []
  },
  {
   "cell_type": "code",
   "execution_count": null,
   "metadata": {},
   "outputs": [],
   "source": []
  },
  {
   "cell_type": "code",
   "execution_count": null,
   "metadata": {},
   "outputs": [],
   "source": []
  }
 ],
 "metadata": {
  "kernelspec": {
   "display_name": "Python 3",
   "language": "python",
   "name": "python3"
  },
  "language_info": {
   "codemirror_mode": {
    "name": "ipython",
    "version": 3
   },
   "file_extension": ".py",
   "mimetype": "text/x-python",
   "name": "python",
   "nbconvert_exporter": "python",
   "pygments_lexer": "ipython3",
   "version": "3.7.6"
  }
 },
 "nbformat": 4,
 "nbformat_minor": 2
}
