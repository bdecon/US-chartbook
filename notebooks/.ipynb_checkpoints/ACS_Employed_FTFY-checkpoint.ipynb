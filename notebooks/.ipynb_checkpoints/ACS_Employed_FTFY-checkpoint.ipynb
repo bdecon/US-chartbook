{
 "cells": [
  {
   "cell_type": "code",
   "execution_count": 1,
   "metadata": {},
   "outputs": [],
   "source": [
    "import sys\n",
    "sys.path.append('../src')\n",
    "\n",
    "import requests\n",
    "\n",
    "import uschartbook.config\n",
    "\n",
    "from uschartbook.config import *\n",
    "from uschartbook.utils import *\n",
    "\n",
    "import matplotlib.pyplot as plt\n",
    "from mpl_toolkits.basemap import Basemap\n",
    "from mpl_toolkits.axes_grid1.inset_locator import inset_axes\n",
    "from matplotlib.patches import Polygon\n",
    "from matplotlib.patches import Rectangle\n",
    "from matplotlib.colors import Normalize\n",
    "\n",
    "plt.rc('font', family='Lato')"
   ]
  },
  {
   "cell_type": "code",
   "execution_count": 2,
   "metadata": {},
   "outputs": [
    {
     "data": {
      "text/html": [
       "<div>\n",
       "<style scoped>\n",
       "    .dataframe tbody tr th:only-of-type {\n",
       "        vertical-align: middle;\n",
       "    }\n",
       "\n",
       "    .dataframe tbody tr th {\n",
       "        vertical-align: top;\n",
       "    }\n",
       "\n",
       "    .dataframe thead th {\n",
       "        text-align: right;\n",
       "    }\n",
       "</style>\n",
       "<table border=\"1\" class=\"dataframe\">\n",
       "  <thead>\n",
       "    <tr style=\"text-align: right;\">\n",
       "      <th></th>\n",
       "      <th>PWGTP</th>\n",
       "      <th>PUMA</th>\n",
       "      <th>FTFY</th>\n",
       "    </tr>\n",
       "  </thead>\n",
       "  <tbody>\n",
       "    <tr>\n",
       "      <th>0</th>\n",
       "      <td>75</td>\n",
       "      <td>101600</td>\n",
       "      <td>0</td>\n",
       "    </tr>\n",
       "    <tr>\n",
       "      <th>1</th>\n",
       "      <td>75</td>\n",
       "      <td>101900</td>\n",
       "      <td>0</td>\n",
       "    </tr>\n",
       "    <tr>\n",
       "      <th>2</th>\n",
       "      <td>118</td>\n",
       "      <td>102000</td>\n",
       "      <td>1</td>\n",
       "    </tr>\n",
       "  </tbody>\n",
       "</table>\n",
       "</div>"
      ],
      "text/plain": [
       "   PWGTP    PUMA  FTFY\n",
       "0     75  101600     0\n",
       "1     75  101900     0\n",
       "2    118  102000     1"
      ]
     },
     "execution_count": 2,
     "metadata": {},
     "output_type": "execute_result"
    }
   ],
   "source": [
    "# Read and pre-process ACS microdata\n",
    "cols = ['ST', 'PUMA', 'PWGTP', 'AGEP', 'WKW', 'WKHP']\n",
    "dtypes = {'ST': str, 'PUMA': str}\n",
    "puma = lambda x: x['ST'] + x['PUMA']\n",
    "ftfy = lambda x: np.where((x.WKW == 1) & (x.WKHP > 34), 1, 0)\n",
    "\n",
    "files = ['data/psam_pusa_18.csv', 'data/psam_pusb_18.csv']\n",
    "\n",
    "df = pd.concat(\n",
    "    [(pd.read_csv(acs_dir / file, usecols=cols, dtype=dtypes)\n",
    "        .query('PWGTP > 0')\n",
    "        .assign(PUMA = puma, \n",
    "                FTFY = ftfy))\n",
    "        [['PWGTP', 'PUMA', 'FTFY']]\n",
    "    for file in files]).astype({'PUMA': int})\n",
    "\n",
    "df.head(3)"
   ]
  },
  {
   "cell_type": "code",
   "execution_count": 3,
   "metadata": {},
   "outputs": [],
   "source": [
    "# Match PUMAs to commuter zones (file from Dorn)\n",
    "cz_match = pd.read_stata(acs_dir / 'data/cw_puma2010_czone.dta')\n",
    "cz_dict = {cz: [(puma, afactor) \n",
    "                for puma, z, afactor \n",
    "                in cz_match[cz_match['czone'] == cz].values] \n",
    "           for cz in cz_match['czone'].unique()}"
   ]
  },
  {
   "cell_type": "code",
   "execution_count": 4,
   "metadata": {},
   "outputs": [],
   "source": [
    "d = {}\n",
    "for cz, puma_list in cz_dict.items():\n",
    "    pop = 0\n",
    "    ftfypop = 0    \n",
    "    for puma, afactor in puma_list:  \n",
    "        data = (df[df['PUMA'] == puma]\n",
    "                  .assign(WGT = lambda x: x['PWGTP'] * afactor))\n",
    "        pop += data.WGT.sum()\n",
    "        ftfypop += data.loc[data['FTFY'] == 1, 'WGT'].sum()\n",
    "        \n",
    "    fpop = ftfypop / pop\n",
    "    d[cz] = [fpop, pop]\n",
    "    \n",
    "result = pd.DataFrame(d)\n",
    "result.index = ['share', 'weight']\n",
    "result = result.T\n",
    "\n",
    "maxval = result.share.max()\n",
    "minval = result.share.min()"
   ]
  },
  {
   "cell_type": "code",
   "execution_count": 5,
   "metadata": {},
   "outputs": [],
   "source": [
    "# Map and legend settings\n",
    "m = Basemap(llcrnrlon=-121, llcrnrlat=20, urcrnrlon=-64, urcrnrlat=49,\n",
    "            projection='lcc', lat_1=33, lat_2=45, lon_0=-95)\n",
    "\n",
    "cmap = plt.cm.winter_r\n",
    "norm = Normalize(vmin=minval, vmax=maxval)\n",
    "\n",
    "hi_cz = [35600, 34701, 34703, 34702, 34703]\n",
    "ak_cz = [34101, 34114, 34102, 34112, 34104, 34107, 34115, \n",
    "         34109, 34109, 34102, 34111, 34108, 34107, 34102, \n",
    "         34106, 34113, 34105, 34111, 34110, 34109, 34115, \n",
    "         34103, 34112, 34110, 34115]\n",
    "\n",
    "pts = np.arange(1, 101, 1)\n",
    "pct = (np.percentile(\n",
    "    np.repeat(result.share.values, \n",
    "              result.weight.div(1000).astype(int).values), pts))\n",
    "\n",
    "max_val = f'{maxval * 100:.1f}%'\n",
    "min_val = f'{minval * 100:.1f}%'"
   ]
  },
  {
   "cell_type": "code",
   "execution_count": 45,
   "metadata": {},
   "outputs": [
    {
     "data": {
      "image/png": "[encoded data removed]",
      "text/plain": [
       "<Figure size 403.2x201.6 with 2 Axes>"
      ]
     },
     "metadata": {
      "needs_background": "light"
     },
     "output_type": "display_data"
    }
   ],
   "source": [
    "# Draw map\n",
    "fig = plt.figure(figsize=(5.6,2.8))\n",
    "\n",
    "m.drawmapboundary()\n",
    "m.readshapefile('/home/brian/Documents/ACS/shapefiles/cz1990', 'cz', drawbounds=False)\n",
    "\n",
    "ax = plt.gca()\n",
    "\n",
    "for info, shape in zip(m.cz_info, m.cz):\n",
    "    fc = cmap(norm(d[info['cz']][0]))\n",
    "    if info['cz'] in hi_cz:\n",
    "        shape = [[x + 5200000, y - 1400000] for x, y in shape]\n",
    "    elif info['cz'] in ak_cz:\n",
    "        shape = [(x * 0.34 + 1200000, \n",
    "                  y * 0.34 - 1300000) for x, y in shape]\n",
    "    ax.add_patch(Polygon(shape, fc=fc))\n",
    "\n",
    "ax.axis('off')    \n",
    "\n",
    "ax_inset = inset_axes(ax, width='-10%', height='40%', loc=4, borderpad=2.8) \n",
    "for i, pt in enumerate(pct):\n",
    "    rect = Rectangle(xy=(pt, i / 100), width=-pt, height=0.1, \n",
    "                     fc=cmap(norm(pt)), ec=None)\n",
    "    ax_inset.add_patch(rect)    \n",
    "\n",
    "ax_inset.text(0.5, 1.06, max_val, fontsize=7)\n",
    "ax_inset.text(0.5, -0.14, min_val, fontsize=7)\n",
    "ax_inset.axis('off')\n",
    "plt.savefig(data_dir / 'acs_emp_map.pgf', bbox_inches='tight', transparent=True);"
   ]
  },
  {
   "cell_type": "code",
   "execution_count": 39,
   "metadata": {},
   "outputs": [],
   "source": [
    "cz_names = (pd.read_excel(acs_dir / 'czlma903.xls', sheet_name='CZLMA903')\n",
    "              .set_index('CZ90')\n",
    "              .iloc[:, -1]\n",
    "              .str.replace(' city', '')\n",
    "              .str.replace(' town', '')\n",
    "              .str.replace(' CDP', '')\n",
    "              .str.replace(' \\(remain', '')\n",
    "              .to_dict())"
   ]
  },
  {
   "cell_type": "code",
   "execution_count": 40,
   "metadata": {},
   "outputs": [],
   "source": [
    "size_cutoff = 100000\n",
    "\n",
    "final = result.loc[result['weight'] > size_cutoff, 'share'].sort_values()\n",
    "\n",
    "final.index = final.index.map(cz_names)"
   ]
  },
  {
   "cell_type": "code",
   "execution_count": 49,
   "metadata": {},
   "outputs": [
    {
     "name": "stdout",
     "output_type": "stream",
     "text": [
      "\\scriptsize{Top 10:} \\\\*\n",
      "\\textbf{41.2\\%} \\hspace{1.5mm} Bismarck, ND \\\\*\n",
      "\\textbf{40.9\\%} \\hspace{1.5mm} Madison, WI \\\\*\n",
      "\\textbf{40.8\\%} \\hspace{1.5mm} Arlington, VA \\\\*\n",
      "\\textbf{40.1\\%} \\hspace{1.5mm} Denver, CO \\\\*\n",
      "\\textbf{39.9\\%} \\hspace{1.5mm} Austin, TX \\\\*\n",
      "\\textbf{39.8\\%} \\hspace{1.5mm} Glenwood Springs, CO \\\\*\n",
      "\\textbf{39.7\\%} \\hspace{1.5mm} Des Moines, IA \\\\*\n",
      "\\textbf{39.4\\%} \\hspace{1.5mm} Nashville-Davidson, TN \\\\*\n",
      "\\textbf{39.3\\%} \\hspace{1.5mm} Fargo, ND \\\\*\n",
      "\\textbf{39.1\\%} \\hspace{1.5mm} Fredericksburg, VA \\\\*\n",
      "\n",
      "\\scriptsize{Bottom 10:} \\\\*\n",
      "\\textbf{19.8\\%} \\hspace{1.5mm} Gallup, NM \\\\*\n",
      "\\textbf{22.4\\%} \\hspace{1.5mm} Hazard, KY \\\\*\n",
      "\\textbf{23.3\\%} \\hspace{1.5mm} Yuma, AZ \\\\*\n",
      "\\textbf{23.4\\%} \\hspace{1.5mm} Pikeville, KY \\\\*\n",
      "\\textbf{23.5\\%} \\hspace{1.5mm} Ocala, FL \\\\*\n",
      "\\textbf{23.6\\%} \\hspace{1.5mm} Corbin, KY \\\\*\n",
      "\\textbf{24.5\\%} \\hspace{1.5mm} Port Angeles, WA \\\\*\n",
      "\\textbf{24.6\\%} \\hspace{1.5mm} Greenville, MS \\\\*\n",
      "\\textbf{25.0\\%} \\hspace{1.5mm} Huntington, WV \\\\*\n",
      "\\textbf{25.0\\%} \\hspace{1.5mm} Altamont, OR \\\\*\n"
     ]
    }
   ],
   "source": [
    "print('\\scriptsize{Top 10:} \\\\\\*')\n",
    "for i in [-1, -2, -3, -4, -5, -6, -7, -8, -9, -10, 0, 1, 2, 3, 4, 5, 6, 7, 8, 9]:\n",
    "    print(f'\\\\textbf{{{final[i]*100:.1f}\\%}} \\hspace{{1.5mm}} {final.index[i]} \\\\\\*')\n",
    "    if i == -10:\n",
    "        print('')\n",
    "        print('\\scriptsize{Bottom 10:} \\\\\\*')"
   ]
  },
  {
   "cell_type": "code",
   "execution_count": null,
   "metadata": {},
   "outputs": [],
   "source": []
  },
  {
   "cell_type": "code",
   "execution_count": null,
   "metadata": {},
   "outputs": [],
   "source": [
    "{final.index[i]}"
   ]
  },
  {
   "cell_type": "code",
   "execution_count": null,
   "metadata": {},
   "outputs": [],
   "source": []
  },
  {
   "cell_type": "code",
   "execution_count": null,
   "metadata": {},
   "outputs": [],
   "source": []
  },
  {
   "cell_type": "code",
   "execution_count": null,
   "metadata": {},
   "outputs": [],
   "source": []
  },
  {
   "cell_type": "code",
   "execution_count": null,
   "metadata": {},
   "outputs": [],
   "source": []
  },
  {
   "cell_type": "code",
   "execution_count": null,
   "metadata": {},
   "outputs": [],
   "source": []
  },
  {
   "cell_type": "code",
   "execution_count": 137,
   "metadata": {},
   "outputs": [],
   "source": [
    "size_cutoff = 100000\n",
    "\n",
    "top5 = {cz_names[cz]: f'{epop*100:.1f}\\%' \n",
    "        for cz, epop \n",
    "        in result.loc[result['weight'] > size_cutoff, 'share'].nlargest(5).items()}\n",
    "bot5 = {cz_names[cz]: f'{epop*100:.1f}\\%' \n",
    "        for cz, epop \n",
    "        in result.loc[result['weight'] > size_cutoff, 'share'].nsmallest(5).items()}"
   ]
  },
  {
   "cell_type": "code",
   "execution_count": 147,
   "metadata": {},
   "outputs": [
    {
     "ename": "TypeError",
     "evalue": "cannot unpack non-iterable float object",
     "output_type": "error",
     "traceback": [
      "\u001b[0;31m---------------------------------------------------------------------------\u001b[0m",
      "\u001b[0;31mTypeError\u001b[0m                                 Traceback (most recent call last)",
      "\u001b[0;32m<ipython-input-147-aa81fcb7d2af>\u001b[0m in \u001b[0;36m<module>\u001b[0;34m\u001b[0m\n\u001b[1;32m      1\u001b[0m {i: (cz_names[cz], f'{epop*100:.1f}\\%' )\n\u001b[0;32m----> 2\u001b[0;31m         for i, (cz, epop) in enumerate(result.loc[result['weight'] > size_cutoff, 'share'].nsmallest(5))}\n\u001b[0m",
      "\u001b[0;32m<ipython-input-147-aa81fcb7d2af>\u001b[0m in \u001b[0;36m<dictcomp>\u001b[0;34m(.0)\u001b[0m\n\u001b[1;32m      1\u001b[0m {i: (cz_names[cz], f'{epop*100:.1f}\\%' )\n\u001b[0;32m----> 2\u001b[0;31m         for i, (cz, epop) in enumerate(result.loc[result['weight'] > size_cutoff, 'share'].nsmallest(5))}\n\u001b[0m",
      "\u001b[0;31mTypeError\u001b[0m: cannot unpack non-iterable float object"
     ]
    }
   ],
   "source": [
    "{i: (cz_names[cz], f'{epop*100:.1f}\\%' )\n",
    "        for i, (cz, epop) in enumerate(result.loc[result['weight'] > size_cutoff, 'share'].nsmallest(5))}"
   ]
  },
  {
   "cell_type": "code",
   "execution_count": null,
   "metadata": {},
   "outputs": [],
   "source": [
    "text = f''"
   ]
  },
  {
   "cell_type": "code",
   "execution_count": 149,
   "metadata": {},
   "outputs": [
    {
     "data": {
      "text/plain": [
       "35500.0    0.197821\n",
       "4502.0     0.224478\n",
       "38100.0    0.232684\n",
       "17000.0    0.233852\n",
       "7800.0     0.234772\n",
       "             ...   \n",
       "31201.0    0.398993\n",
       "28900.0    0.400732\n",
       "11304.0    0.407686\n",
       "23100.0    0.408704\n",
       "26201.0    0.411945\n",
       "Name: share, Length: 384, dtype: float64"
      ]
     },
     "execution_count": 149,
     "metadata": {},
     "output_type": "execute_result"
    }
   ],
   "source": [
    "result.loc[result['weight'] > size_cutoff, 'share'].sort_values()"
   ]
  },
  {
   "cell_type": "code",
   "execution_count": 10,
   "metadata": {},
   "outputs": [
    {
     "data": {
      "text/plain": [
       "Florence, AL      0.308339\n",
       "Birmingham, AL    0.294584\n",
       "Huntsville, AL    0.354105\n",
       "Gadsden, AL       0.309388\n",
       "Birmingham, AL    0.326182\n",
       "                    ...   \n",
       "Monroe, WI        0.388157\n",
       "Milwaukee, WI     0.365482\n",
       "Racine, WI        0.356288\n",
       "Sheboygan, WI     0.356370\n",
       "Appleton, WI      0.379930\n",
       "Name: share, Length: 384, dtype: float64"
      ]
     },
     "execution_count": 10,
     "metadata": {},
     "output_type": "execute_result"
    }
   ],
   "source": [
    "final"
   ]
  }
 ],
 "metadata": {
  "kernelspec": {
   "display_name": "Python 3",
   "language": "python",
   "name": "python3"
  },
  "language_info": {
   "codemirror_mode": {
    "name": "ipython",
    "version": 3
   },
   "file_extension": ".py",
   "mimetype": "text/x-python",
   "name": "python",
   "nbconvert_exporter": "python",
   "pygments_lexer": "ipython3",
   "version": "3.7.5"
  }
 },
 "nbformat": 4,
 "nbformat_minor": 2
}
