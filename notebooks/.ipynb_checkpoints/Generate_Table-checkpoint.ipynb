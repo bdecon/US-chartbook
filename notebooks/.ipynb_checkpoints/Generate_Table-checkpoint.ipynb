{
 "cells": [
  {
   "cell_type": "code",
   "execution_count": 1,
   "metadata": {
    "ExecuteTime": {
     "end_time": "2019-09-26T22:04:45.702149Z",
     "start_time": "2019-09-26T22:04:45.412213Z"
    }
   },
   "outputs": [],
   "source": [
    "import sys\n",
    "sys.path.append('../src')\n",
    "\n",
    "import uschartbook.config\n",
    "\n",
    "from uschartbook.config import *\n",
    "from uschartbook.utils import *"
   ]
  },
  {
   "cell_type": "markdown",
   "metadata": {},
   "source": [
    "### GDP growth contributions table"
   ]
  },
  {
   "cell_type": "code",
   "execution_count": 2,
   "metadata": {
    "ExecuteTime": {
     "end_time": "2019-09-26T22:04:45.724863Z",
     "start_time": "2019-09-26T22:04:45.703384Z"
    },
    "code_folding": []
   },
   "outputs": [],
   "source": [
    "# Settings for GDP table\n",
    "slist = ['A191RL', 'DPCERY', 'DDURRY', 'DNDGRY', 'DSERRY', 'A006RY',\n",
    "         'A008RY', 'A011RY', 'A014RY', 'A822RY', 'A823RY', 'A829RY', \n",
    "         'A019RY', 'A020RY', 'A021RY']\n",
    "\n",
    "n = {'A191RL': '\\cbox{red!95!black} & \\\\textbf{Gross Domestic Product}',\n",
    "     'DPCERY': '\\cbox{yellow!80!orange} & \\hspace{2mm} Consumer Spending',\n",
    "     'DDURRY': '& \\hspace{4mm} Durable Goods',\n",
    "     'DNDGRY': '& \\hspace{4mm} Non-durable Goods ',\n",
    "     'DSERRY': '& \\hspace{4mm} Services ',\n",
    "     'A006RY': '\\cbox{blue!70!black} & \\hspace{2mm} Gross Investment',\n",
    "     'A011RY': '& \\hspace{4mm} Residential ',\n",
    "     'A008RY': '& \\hspace{4mm} Non-residential ',\n",
    "     'A014RY': '& \\hspace{4mm} Change in inventories ',\n",
    "     'A019RY': '\\cbox{green!60!black} & \\hspace{2mm} Net Exports ',\n",
    "     'A020RY': '& \\hspace{4mm} Exports ',\n",
    "     'A021RY': '& \\hspace{4mm} Imports ',\n",
    "     'A822RY': '\\cbox{cyan!50!white} & \\hspace{2mm} Government ',\n",
    "     'A823RY': '& \\hspace{4mm} Federal ',\n",
    "     'A829RY': '& \\hspace{4mm} State and Local '}\n",
    "\n",
    "\n",
    "va = pd.read_csv(data_dir / 'gdpvafull.csv', parse_dates=['date']).set_index('date')\n",
    "\n",
    "sl2 = ['GoodsTTU', 'Manufacturing', 'Construction', 'Retail trade', 'FIRE', \n",
    "       'Oth_Serv', 'Educational services, health care, and social assistance',\n",
    "       'Professional and business services', 'Information', 'Government']\n",
    "\n",
    "n2 = {'GoodsTTU': '\\cbox{purple!70!blue} & \\hspace{2mm} Goods and TTU ',\n",
    "      'Manufacturing': '& \\hspace{4mm} Manufacturing ',\n",
    "      'Construction': '& \\hspace{4mm} Construction ',\n",
    "      'Retail trade': '& \\hspace{4mm} Retail Trade ',\n",
    "      'FIRE': '\\cbox{red!90!white} & \\hspace{2mm} FIRE ',\n",
    "      'Oth_Serv': '\\cbox{blue!90!white} & \\hspace{2mm} Other Services ',\n",
    "      'Educational services, health care, and social assistance': '& \\hspace{4mm} Education \\& Healthcare ',\n",
    "      'Professional and business services': '& \\hspace{4mm} Professional \\& Business',\n",
    "      'Information': '& \\hspace{4mm} Information ',\n",
    "      'Government': '\\cbox{orange!80!white} & \\hspace{2mm} Government '}\n",
    "\n",
    "jb = pd.read_csv(data_dir / 'gdpjobs.csv', parse_dates=['date']).set_index('date').drop(pd.to_datetime('2019-07-01'))\n",
    "\n",
    "n3 = {'pop_contr': '\\cbox{lime} & \\hspace{2mm} Population ',\n",
    "      'epop_contr': '\\cbox{green!30!teal!90!black} & \\hspace{2mm} Employment Rate ',\n",
    "      'hours_contr': '\\cbox{blue} & \\hspace{2mm} Average Hours',\n",
    "      'prod': '\\cbox{cyan!50!white} & \\hspace{2mm} Productivity '}\n",
    "\n",
    "sl3 = ['pop_contr', 'epop_contr', 'hours_contr', 'prod']\n",
    "\n",
    "gd = pd.read_csv(data_dir / 'gdi.csv', parse_dates=['date']).set_index('date')\n",
    "\n",
    "n4 = {'A261RC': '& \\\\textbf{Gross Domestic Income} ',\n",
    "      'A4002C': '\\cbox{magenta!90!blue} & \\hspace{2mm} Labor ',\n",
    "      'W271RC': '\\cbox{yellow!60!orange} & \\hspace{2mm} Profit ',\n",
    "      'A262RC': '\\cbox{teal!60!white} & \\hspace{2mm} Depreciation ',\n",
    "      'indirect': '\\cbox{violet} & \\hspace{2mm} Indirect Taxes '}\n",
    "\n",
    "sl4 = ['A261RC', 'A4002C', 'W271RC', 'A262RC', 'indirect']"
   ]
  },
  {
   "cell_type": "code",
   "execution_count": 3,
   "metadata": {
    "ExecuteTime": {
     "end_time": "2019-09-26T22:04:45.966293Z",
     "start_time": "2019-09-26T22:04:45.726726Z"
    }
   },
   "outputs": [],
   "source": [
    "df = nipa_df(retrieve_table('T10502')['Data'], slist).sort_index()"
   ]
  },
  {
   "cell_type": "code",
   "execution_count": 4,
   "metadata": {
    "ExecuteTime": {
     "end_time": "2019-09-26T22:04:45.971248Z",
     "start_time": "2019-09-26T22:04:45.967631Z"
    },
    "code_folding": []
   },
   "outputs": [],
   "source": [
    "#nipa_series_codes(retrieve_table('T10502'))"
   ]
  },
  {
   "cell_type": "code",
   "execution_count": 5,
   "metadata": {
    "ExecuteTime": {
     "end_time": "2019-09-26T22:04:46.023413Z",
     "start_time": "2019-09-26T22:04:45.972730Z"
    },
    "code_folding": []
   },
   "outputs": [
    {
     "name": "stdout",
     "output_type": "stream",
     "text": [
      "& & 2019 Q2 & '19 Q1 & '18 Q4 & '18 Q3 & '18 Q2 & & 3-year & 10-year & 30-year \\\\\n",
      "\\cbox{red!95!black} & \\textbf{Gross Domestic Product} & 2.0 & 3.1 & 1.1 & 2.9 & 3.5 & & 2.5 &  2.2 & 2.5 \\\\\n",
      "\\cbox{yellow!80!orange} & \\hspace{2mm} Consumer Spending & 3.03 & 0.78 & 0.97 & 2.34 & 2.70 & & 1.87 &  1.58 & 1.81 \\\\\n",
      "& \\hspace{4mm} Durable Goods & 0.87 & 0.02 & 0.09 & 0.25 & 0.56 & & 0.44 &  0.42 & 0.42 \\\\\n",
      "& \\hspace{4mm} Non-durable Goods  & 0.87 & 0.30 & 0.24 & 0.50 & 0.57 & & 0.40 &  0.30 & 0.33 \\\\\n",
      "& \\hspace{4mm} Services  & 1.29 & 0.46 & 0.65 & 1.59 & 1.57 & & 1.03 &  0.85 & 1.06 \\\\\n",
      "\\cbox{blue!70!black} & \\hspace{2mm} Gross Investment & -1.16 & 1.09 & 0.53 & 2.27 & -0.30 & & 0.62 &  0.86 & 0.59 \\\\\n",
      "& \\hspace{4mm} Non-residential  & -0.14 & 0.60 & 0.64 & 0.29 & 1.04 & & 0.59 &  0.58 & 0.54 \\\\\n",
      "& \\hspace{4mm} Residential  & -0.11 & -0.04 & -0.18 & -0.16 & -0.15 & & -0.01 &  0.11 & 0.03 \\\\\n",
      "& \\hspace{4mm} Change in inventories  & -0.91 & 0.53 & 0.07 & 2.14 & -1.20 & & 0.04 &  0.17 & 0.03 \\\\\n",
      "\\cbox{cyan!50!white} & \\hspace{2mm} Government  & 0.82 & 0.50 & -0.07 & 0.36 & 0.44 & & 0.26 &  0.01 & 0.24 \\\\\n",
      "& \\hspace{4mm} Federal  & 0.53 & 0.14 & 0.07 & 0.19 & 0.25 & & 0.14 &  0.01 & 0.07 \\\\\n",
      "& \\hspace{4mm} State and Local  & 0.29 & 0.36 & -0.14 & 0.17 & 0.19 & & 0.12 &  0.00 & 0.17 \\\\\n",
      "\\cbox{green!60!black} & \\hspace{2mm} Net Exports  & -0.68 & 0.73 & -0.35 & -2.05 & 0.67 & & -0.25 &  -0.20 & -0.15 \\\\\n",
      "& \\hspace{4mm} Exports  & -0.69 & 0.49 & 0.18 & -0.78 & 0.71 & & 0.27 &  0.48 & 0.51 \\\\\n",
      "& \\hspace{4mm} Imports  & 0.01 & 0.23 & -0.53 & -1.27 & -0.04 & & -0.52 &  -0.67 & -0.66 \\\\\n",
      "& & & & & & & & & & \\\\\n",
      "\\cbox{purple!70!blue} & \\hspace{2mm} Goods and TTU  & -- & 1.39 & 1.13 & 1.13 & 0.99 & & 0.89 &  0.57 & 0.91 \\\\\n",
      "& \\hspace{4mm} Manufacturing  & -- & 0.51 & 0.32 & 0.31 & 0.26 & & 0.32 &  0.15 & 0.33 \\\\\n",
      "& \\hspace{4mm} Construction  & -- & 0.00 & -0.09 & 0.12 & 0.11 & & 0.07 &  -0.00 & -0.01 \\\\\n",
      "& \\hspace{4mm} Retail Trade  & -- & 0.63 & -0.14 & 0.34 & -0.06 & & 0.24 &  0.13 & 0.20 \\\\\n",
      "\\cbox{red!90!white} & \\hspace{2mm} FIRE  & -- & 0.80 & -0.07 & 0.59 & 0.55 & & 0.21 &  0.48 & 0.47 \\\\\n",
      "\\cbox{blue!90!white} & \\hspace{2mm} Other Services  & -- & 1.03 & 1.16 & 1.33 & 2.35 & & 1.19 &  0.86 & 0.89 \\\\\n",
      "& \\hspace{4mm} Education \\& Healthcare  & -- & 0.51 & 0.16 & 0.24 & 0.34 & & 0.24 &  0.18 & 0.19 \\\\\n",
      "& \\hspace{4mm} Professional \\& Business & -- & 0.27 & 0.48 & 0.59 & 0.96 & & 0.48 &  0.33 & 0.34 \\\\\n",
      "& \\hspace{4mm} Information  & -- & 0.25 & 0.47 & 0.41 & 0.70 & & 0.41 &  0.29 & 0.26 \\\\\n",
      "\\cbox{orange!80!white} & \\hspace{2mm} Government  & -- & -0.14 & -0.02 & 0.12 & 0.07 & & 0.06 &  0.00 & 0.10 \\\\\n",
      "& & & & & & & & & & \\\\\n",
      "\\cbox{lime} & \\hspace{2mm} Population  & 0.57 & 0.55 & 0.66 & 0.70 & 0.59 & & 0.64 &  0.72 & 0.98 \\\\\n",
      "\\cbox{green!30!teal!90!black} & \\hspace{2mm} Employment Rate  & -0.49 & 0.10 & 1.21 & 0.56 & 2.05 & & 0.63 &  0.30 & 0.02 \\\\\n",
      "\\cbox{blue} & \\hspace{2mm} Average Hours & 0.27 & -0.22 & -0.19 & 0.24 & 0.64 & & 0.12 &  0.15 & 0.02 \\\\\n",
      "\\cbox{cyan!50!white} & \\hspace{2mm} Productivity  & 1.68 & 2.66 & -0.60 & 1.43 & 0.23 & & 1.10 &  1.08 & 1.47 \\\\\n",
      "& & & & & & & & & & \\\\\n",
      "& \\textbf{Gross Domestic Income}  & 1.8 & 3.2 & 0.8 & 3.3 & 0.7 & & 2.0 &  2.4 & 2.5 \\\\\n",
      "\\cbox{magenta!90!blue} & \\hspace{2mm} Labor  & 1.09 & 4.41 & 0.28 & 1.39 & -0.03 & & 1.38 &  1.18 & 1.29 \\\\\n",
      "\\cbox{yellow!60!orange} & \\hspace{2mm} Profit  & 0.14 & -1.95 & -0.11 & 1.26 & 0.12 & & 0.04 &  0.78 & 0.63 \\\\\n",
      "\\cbox{teal!60!white} & \\hspace{2mm} Depreciation  & 0.43 & 0.73 & 0.53 & 0.59 & 0.47 & & 0.44 &  0.31 & 0.42 \\\\\n",
      "\\cbox{violet} & \\hspace{2mm} Indirect Taxes  & 0.16 & 0.06 & 0.07 & 0.05 & 0.15 & & 0.14 &  0.15 & 0.17 \\\\\n"
     ]
    }
   ],
   "source": [
    "# GDP Table (please consider revising!!)\n",
    "f = data_dir / 'gdptable.tex'\n",
    "os.remove(f)\n",
    "\n",
    "date1 = {}\n",
    "date = {}\n",
    "data = {s: {} for s in list(df.keys())}\n",
    "\n",
    "blankrow = '& & & & & & & & & & \\\\\\\\'\n",
    "\n",
    "with open(f, 'a') as table:\n",
    "    \n",
    "    for s in list(df.keys()):\n",
    "        data[s]['name'] = n[s]\n",
    "\n",
    "    for i in range(1, 6):\n",
    "        dt = df['A191RL'].index[-i]\n",
    "        q = dt.quarter\n",
    "        y = dt.year\n",
    "        date1[i] = dt\n",
    "        if i == 1:\n",
    "            date[i] = f'{y} Q{q}'\n",
    "        else:\n",
    "            date[i] = f\"'{str(y)[-2:]} Q{q}\"\n",
    "        for s in list(df.keys()):\n",
    "            if s == 'A191RL':\n",
    "                data[s][i] = f'{df[s].iloc[-i]:.1f}'\n",
    "            else:\n",
    "                data[s][i] = f'{df[s].iloc[-i]:.2f}'\n",
    "\n",
    "    for ma in [13, 41, 121]:\n",
    "        for s in list(df.keys()):\n",
    "            if s == 'A191RL':\n",
    "                data[s][ma] = f'{df[s].iloc[-ma:].mean():.1f}'\n",
    "            else:\n",
    "                data[s][ma] = f'{df[s].iloc[-ma:].mean():.2f}'\n",
    "\n",
    "    daterow = (f'& & {date[1]} & {date[2]} & {date[3]} & {date[4]} & {date[5]}'\n",
    "                ' & & 3-year & 10-year & 30-year \\\\\\\\')\n",
    "    table.write(daterow + '\\n')\n",
    "    print(daterow)\n",
    "\n",
    "    for s in slist:\n",
    "        r = (f'{n[s]} & {data[s][1]} & {data[s][2]} & {data[s][3]} & '\n",
    "             f'{data[s][4]} & {data[s][5]} & & {data[s][13]} & '\n",
    "             f' {data[s][41]} & {data[s][121]} \\\\\\\\')\n",
    "\n",
    "        print(r)\n",
    "        table.write(r + '\\n')\n",
    "\n",
    "    print(blankrow)\n",
    "    table.write(blankrow + '\\n')\n",
    "\n",
    "    for s in list(va.keys()):\n",
    "        data[s] = {}\n",
    "        for i in range(1, 6):\n",
    "            if date1[i] in va.index:\n",
    "                data[s][i] = f'{va[s].loc[date1[i]]:.2f}'\n",
    "            else:\n",
    "                data[s][i] = '--'\n",
    "\n",
    "    for ma in [13, 41, 121]:\n",
    "        for s in list(va.keys()):\n",
    "            data[s][ma] = f'{va[s].iloc[-ma:].mean():.2f}'\n",
    "\n",
    "    for s in sl2:\n",
    "        r = (f'{n2[s]} & {data[s][1]} & {data[s][2]} & {data[s][3]} & '\n",
    "             f'{data[s][4]} & {data[s][5]} & & {data[s][13]} & '\n",
    "             f' {data[s][41]} & {data[s][121]} \\\\\\\\')\n",
    "        print(r)\n",
    "        table.write(r + '\\n')\n",
    "\n",
    "    print(blankrow)\n",
    "    table.write(blankrow + '\\n')\n",
    "\n",
    "    for s in list(jb.keys()):\n",
    "        data[s] = {}\n",
    "        for i in range(1, 6):\n",
    "            if date1[i] in jb.index:\n",
    "                data[s][i] = f'{jb[s].loc[date1[i]]:.2f}'\n",
    "            else:\n",
    "                data[s][i] = '--'\n",
    "\n",
    "    for ma in [13, 41, 121]:\n",
    "        for s in list(jb.keys()):\n",
    "            data[s][ma] = f'{jb[s].iloc[-ma:].mean():.2f}'\n",
    "\n",
    "    for s in sl3:\n",
    "        r = (f'{n3[s]} & {data[s][1]} & {data[s][2]} & {data[s][3]} & '\n",
    "             f'{data[s][4]} & {data[s][5]} & & {data[s][13]} & '\n",
    "             f' {data[s][41]} & {data[s][121]} \\\\\\\\')\n",
    "        print(r)\n",
    "        table.write(r + '\\n')\n",
    "\n",
    "    print(blankrow)\n",
    "    table.write(blankrow)\n",
    "\n",
    "    for s in list(gd.keys()):\n",
    "        data[s] = {}\n",
    "        if s == 'A261RC':\n",
    "            for i in range(1, 6):\n",
    "                if date1[i] in gd.index:\n",
    "                    data[s][i] = f'{gd[s].loc[date1[i]]:.1f}'\n",
    "                else:\n",
    "                    data[s][i] = '--'\n",
    "        else:\n",
    "            for i in range(1, 6):\n",
    "                if date1[i] in gd.index:\n",
    "                    data[s][i] = f'{gd[s].loc[date1[i]]:.2f}'\n",
    "                else:\n",
    "                    data[s][i] = '--'\n",
    "\n",
    "    for ma in [13, 41, 121]:\n",
    "        for s in list(gd.keys()):\n",
    "            if s == 'A261RC':\n",
    "                data[s][ma] = f'{gd[s].iloc[-ma:].mean():.1f}'\n",
    "            else:\n",
    "                data[s][ma] = f'{gd[s].iloc[-ma:].mean():.2f}'\n",
    "\n",
    "    for s in sl4:\n",
    "        r = (f'{n4[s]} & {data[s][1]} & {data[s][2]} & {data[s][3]} & '\n",
    "             f'{data[s][4]} & {data[s][5]} & & {data[s][13]} & '\n",
    "             f' {data[s][41]} & {data[s][121]} \\\\\\\\')\n",
    "        print(r)\n",
    "        table.write(r + '\\n')\n"
   ]
  },
  {
   "cell_type": "code",
   "execution_count": null,
   "metadata": {},
   "outputs": [],
   "source": []
  },
  {
   "cell_type": "markdown",
   "metadata": {},
   "source": [
    "### Consumer Spending and Investment"
   ]
  },
  {
   "cell_type": "code",
   "execution_count": 6,
   "metadata": {
    "ExecuteTime": {
     "end_time": "2019-09-26T22:04:46.298847Z",
     "start_time": "2019-09-26T22:04:46.027189Z"
    },
    "code_folding": []
   },
   "outputs": [],
   "source": [
    "# Create table\n",
    "s = ['DNPIRY', 'DSERRY', 'DPCERY', 'DGDSRY', 'DMOTRY',\n",
    "     'DFDHRY', 'DREQRY', 'DFXARY', 'DCLORY', 'DHLCRY',\n",
    "     'DTRSRY', 'DRCARY', 'DFSARY', 'DIFSRY', 'DHUTRY',\n",
    "     'A011RY']\n",
    "\n",
    "n = {'TOTAL': '& Total',\n",
    "     'DGDSRY': '\\cbox{red} & Goods',\n",
    "     'DMOTRY': '& \\hspace{1mm} Motor Vehicles and Parts',\n",
    "     'DFDHRY': '& \\hspace{1mm} Furniture and HH Equipment',\n",
    "     'DREQRY': '& \\hspace{1mm} Recreational Durable Goods',\n",
    "     'DFXARY': '& \\hspace{1mm} Groceries',\n",
    "     'DCLORY': '& \\hspace{1mm} Clothes and Shoes',\n",
    "     'OTHSERV': '\\cbox{blue!75!white} & Services (ex. Shelter)',\n",
    "     'DHLCRY': '& \\hspace{1mm} Health Care Services',\n",
    "     'DTRSRY': '& \\hspace{1mm} Transportation',\n",
    "     'DRCARY': '& \\hspace{1mm} Recreational',\n",
    "     'DFSARY': '& \\hspace{1mm} Food and Accommodations',\n",
    "     'DIFSRY': '& \\hspace{1mm} Financial and Insurance',\n",
    "     'SHELTER': '\\cbox{green!85!blue} & Shelter ',\n",
    "     'DHUTRY': '& \\hspace{1mm} Housing Services and Utilities ',\n",
    "     'A011RY': '& \\hspace{1mm} Residential Fixed Investment'}\n",
    "\n",
    "\n",
    "total = lambda x: x['DPCERY'] - x['DNPIRY']\n",
    "othserv = lambda x: x['DSERRY'] - x['DNPIRY'] - x['DHUTRY']\n",
    "shelter = lambda x: x['DHUTRY'] + x['A011RY']\n",
    "\n",
    "df = (nipa_df(retrieve_table('T10502')['Data'], s)\n",
    "      .assign(TOTAL = total, OTHSERV = othserv, SHELTER = shelter)\n",
    "      [list(n.keys())])\n",
    "\n",
    "data = df.iloc[-5:].iloc[::-1].T\n",
    "\n",
    "cols = [f'& {q.year} Q{q.quarter}' \n",
    "        if i == 0 else f'`{str(q.year)[2:]} Q{q.quarter}'\n",
    "        for i, q in enumerate(data.columns)]\n",
    "\n",
    "data.columns = cols\n",
    "data['3-year'] = df.rolling(13).mean().iloc[-1].round(2)\n",
    "data['10-year'] = df.rolling(41).mean().iloc[-1].round(2)\n",
    "data['30-year'] = df.rolling(121).mean().iloc[-1].round(2)\n",
    "data.index = data.index.map(n)\n",
    "data.round(2).to_csv(data_dir / 'pce.tex', sep='&', line_terminator='\\\\\\ ', quotechar=' ')"
   ]
  },
  {
   "cell_type": "code",
   "execution_count": 7,
   "metadata": {
    "ExecuteTime": {
     "end_time": "2019-09-26T22:04:46.307170Z",
     "start_time": "2019-09-26T22:04:46.299944Z"
    },
    "code_folding": []
   },
   "outputs": [],
   "source": [
    "# Text for household expenditure section\n",
    "q = {1: 'first', 2: 'second', 3: 'third', 4: 'fourth'}\n",
    "\n",
    "sl = [('TOTAL', 'main'), ('DGDSRY', 'main'), \n",
    "      ('OTHSERV', 'end'), ('SHELTER', 'end'), \n",
    "      ('DHLCRY', 'main')]\n",
    "\n",
    "d = {}\n",
    "\n",
    "for s, style in sl:\n",
    "    value = df[s].iloc[-1]\n",
    "    d[s] = cont_subt(value, style=style)\n",
    "\n",
    "t_3y = cont_subt(data.loc['& Total', '3-year'], 'of')\n",
    "hc_3y = cont_subt(data.loc[n['DHLCRY'], '3-year'], 'end')\n",
    "ld = f'{df.index[-1].year} Q{df.index[-1].quarter}'\n",
    "ld2 = f'{q[df.index[-1].quarter]} quarter of {df.index[-1].year}'\n",
    "\n",
    "\n",
    "text1 = f'These categories {d[\"TOTAL\"]} GDP growth in {ld} compared to an average {t_3y} over the past three years. '\n",
    "# Print to file\n",
    "f = text_dir.joinpath('pce1.txt')\n",
    "with f.open('w') as text_file:\n",
    "    text_file.write(text1)\n",
    "    \n",
    "text2 = f'In the {ld2}, household spending on goods {d[\"DGDSRY\"]} GDP growth, household spending on services other than housing and utilities {d[\"OTHSERV\"]}, and shelter spending and investment {d[\"SHELTER\"]}. Spending on health care services {d[\"DHLCRY\"]} GDP growth in {ld} and has {hc_3y}, on average, over the past three years.'\n",
    "# Print to file\n",
    "f = text_dir.joinpath('pce2.txt')\n",
    "with f.open('w') as text_file:\n",
    "    text_file.write(text2)"
   ]
  },
  {
   "cell_type": "code",
   "execution_count": 8,
   "metadata": {
    "ExecuteTime": {
     "end_time": "2019-09-26T22:04:46.324725Z",
     "start_time": "2019-09-26T22:04:46.308870Z"
    }
   },
   "outputs": [
    {
     "data": {
      "text/plain": [
       "'These categories contributed 3.00 percentage points to GDP growth in 2019 Q2 compared to an average contribution of 1.84 percentage points over the past three years. '"
      ]
     },
     "execution_count": 8,
     "metadata": {},
     "output_type": "execute_result"
    }
   ],
   "source": [
    "text1"
   ]
  },
  {
   "cell_type": "code",
   "execution_count": 9,
   "metadata": {
    "ExecuteTime": {
     "end_time": "2019-09-26T22:04:46.332243Z",
     "start_time": "2019-09-26T22:04:46.326180Z"
    }
   },
   "outputs": [
    {
     "data": {
      "text/plain": [
       "'In the second quarter of 2019, household spending on goods contributed 1.74 percentage points to GDP growth, household spending on services other than housing and utilities contributed 1.12 percentage points, and shelter spending and investment contributed 0.03 percentage points. Spending on health care services contributed 0.38 percentage points to GDP growth in 2019 Q2 and has contributed 0.34 percentage points, on average, over the past three years.'"
      ]
     },
     "execution_count": 9,
     "metadata": {},
     "output_type": "execute_result"
    }
   ],
   "source": [
    "text2"
   ]
  },
  {
   "cell_type": "code",
   "execution_count": null,
   "metadata": {},
   "outputs": [],
   "source": []
  },
  {
   "cell_type": "markdown",
   "metadata": {},
   "source": [
    "### Business Investment Table and Text"
   ]
  },
  {
   "cell_type": "code",
   "execution_count": 10,
   "metadata": {
    "ExecuteTime": {
     "end_time": "2019-09-26T22:04:46.524466Z",
     "start_time": "2019-09-26T22:04:46.333695Z"
    }
   },
   "outputs": [],
   "source": [
    "s = ['A008RY', 'A009RY', 'Y033RY', 'Y034RY', 'B935RY', \n",
    "     'A680RY', 'A681RY', 'Y001RY', 'B985RY', 'Y006RY']\n",
    "\n",
    "n = { 'A008RY': 'Total',\n",
    "      'A009RY': '\\hspace{-2mm}\\cbox{yellow!50!orange}Structures',\n",
    "      'Y033RY': '\\hspace{-2mm}\\cbox{cyan!60!white}Equipment',\n",
    "      'Y034RY': '\\hspace{4mm} Information processing',\n",
    "      'B935RY': '\\hspace{6mm} Computers and peripherals',\n",
    "      'A680RY': '\\hspace{4mm} Industrial equipment',\n",
    "      'A681RY': '\\hspace{4mm} Transportation equipment',\n",
    "      'Y001RY': '\\hspace{-2mm}\\cbox{violet}Intellectual property products',\n",
    "      'B985RY': '\\hspace{4mm} Software',\n",
    "      'Y006RY': '\\hspace{4mm} Research and development'}\n",
    "\n",
    "df = (nipa_df(retrieve_table('T10502')['Data'], s)\n",
    "      [list(n.keys())])\n",
    "\n",
    "data = df.iloc[-5:].iloc[::-1].T\n",
    "\n",
    "cols = [f' {q.year} Q{q.quarter}' \n",
    "        if i == 0 else f'`{str(q.year)[2:]} Q{q.quarter}'\n",
    "        for i, q in enumerate(data.columns)]\n",
    "\n",
    "data.columns = cols\n",
    "data['3-year'] = df.rolling(13).mean().iloc[-1].round(2)\n",
    "data['10-year'] = df.rolling(41).mean().iloc[-1].round(2)\n",
    "data['30-year'] = df.rolling(121).mean().iloc[-1].round(2)\n",
    "data.index = data.index.map(n)\n",
    "data.round(2).to_csv(data_dir / 'businv.tex', sep='&', line_terminator='\\\\\\ ', quotechar=' ')"
   ]
  },
  {
   "cell_type": "code",
   "execution_count": 11,
   "metadata": {
    "ExecuteTime": {
     "end_time": "2019-09-26T22:04:46.533553Z",
     "start_time": "2019-09-26T22:04:46.525544Z"
    }
   },
   "outputs": [],
   "source": [
    "# Text for household expenditure section\n",
    "q = {1: 'first', 2: 'second', 3: 'third', 4: 'fourth'}\n",
    "\n",
    "sl = [('A008RY', 'main'), ('A009RY', 'main'), \n",
    "      ('Y033RY', 'end'), ('Y001RY', 'end'), ('A680RY', 'end')]\n",
    "\n",
    "d = {}\n",
    "\n",
    "for s, style in sl:\n",
    "    # Latest total value\n",
    "    value = df[s].iloc[-1]\n",
    "    d[s] = cont_subt(value, style=style)\n",
    "\n",
    "t_3y = cont_subt(data.loc[n['A008RY'], '3-year'], style='of')\n",
    "ie_3y = cont_subt(data.loc[n['A680RY'], '3-year'])\n",
    "ld = f'{df.index[-1].year} Q{df.index[-1].quarter}'\n",
    "ld2 = f'{q[df.index[-1].quarter]} quarter of {df.index[-1].year}'\n",
    "\n",
    "\n",
    "text = f\"Business investment {d['A008RY']} GDP growth in the {ld2} compared to an average {t_3y} over the past three years. In {ld}, investment in structures {d['A009RY']} GDP growth, investment in equipment {d['Y033RY']}, and investment in intellectual property products {d['Y001RY']}.\"\n",
    "# Print to file\n",
    "f = text_dir.joinpath('businv.txt')\n",
    "with f.open('w') as text_file:\n",
    "    text_file.write(text)"
   ]
  },
  {
   "cell_type": "code",
   "execution_count": 12,
   "metadata": {
    "ExecuteTime": {
     "end_time": "2019-09-26T22:04:46.542778Z",
     "start_time": "2019-09-26T22:04:46.534847Z"
    }
   },
   "outputs": [
    {
     "data": {
      "text/plain": [
       "'Business investment subtracted 0.14 percentage points from GDP growth in the second quarter of 2019 compared to an average contribution of 0.59 percentage points over the past three years. In 2019 Q2, investment in structures subtracted 0.36 percentage points from GDP growth, investment in equipment contributed 0.05 percentage points, and investment in intellectual property products contributed 0.17 percentage points.'"
      ]
     },
     "execution_count": 12,
     "metadata": {},
     "output_type": "execute_result"
    }
   ],
   "source": [
    "text"
   ]
  },
  {
   "cell_type": "code",
   "execution_count": null,
   "metadata": {},
   "outputs": [],
   "source": []
  },
  {
   "cell_type": "code",
   "execution_count": null,
   "metadata": {},
   "outputs": [],
   "source": []
  }
 ],
 "metadata": {
  "kernelspec": {
   "display_name": "Python 3",
   "language": "python",
   "name": "python3"
  },
  "language_info": {
   "codemirror_mode": {
    "name": "ipython",
    "version": 3
   },
   "file_extension": ".py",
   "mimetype": "text/x-python",
   "name": "python",
   "nbconvert_exporter": "python",
   "pygments_lexer": "ipython3",
   "version": "3.7.4"
  }
 },
 "nbformat": 4,
 "nbformat_minor": 2
}
