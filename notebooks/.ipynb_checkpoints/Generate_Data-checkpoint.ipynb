{
 "cells": [
  {
   "cell_type": "markdown",
   "metadata": {},
   "source": [
    "# Generate Data for Chartbook\n",
    "\n",
    "Brian Dew\n",
    "\n",
    "@bd_econ"
   ]
  },
  {
   "cell_type": "code",
   "execution_count": 1,
   "metadata": {
    "ExecuteTime": {
     "end_time": "2019-10-27T17:43:51.912791Z",
     "start_time": "2019-10-27T17:43:51.554846Z"
    }
   },
   "outputs": [],
   "source": [
    "import sys\n",
    "sys.path.append('../src')\n",
    "\n",
    "import requests\n",
    "\n",
    "import uschartbook.config\n",
    "\n",
    "from uschartbook.config import *\n",
    "from uschartbook.utils import *"
   ]
  },
  {
   "cell_type": "markdown",
   "metadata": {},
   "source": [
    "### GDP growth rate"
   ]
  },
  {
   "cell_type": "code",
   "execution_count": 2,
   "metadata": {
    "ExecuteTime": {
     "end_time": "2019-10-27T15:40:20.996062Z",
     "start_time": "2019-10-27T15:40:20.951944Z"
    }
   },
   "outputs": [],
   "source": [
    "s = ['A191RL']\n",
    "\n",
    "df = nipa_df(retrieve_table('T10502')['Data'], s).sort_index()\n",
    "\n",
    "df.to_csv(data_dir / 'gdp.csv', index_label='date')\n",
    "\n",
    "txt = f'{df.index[-1].year} Q{df.index[-1].quarter}: {df[\"A191RL\"].iloc[-1]}\\%'\n",
    "\n",
    "write_txt(data_dir / 'gdp.txt', txt)"
   ]
  },
  {
   "cell_type": "code",
   "execution_count": 4,
   "metadata": {
    "ExecuteTime": {
     "end_time": "2019-10-27T15:40:28.107708Z",
     "start_time": "2019-10-27T15:40:28.098802Z"
    }
   },
   "outputs": [
    {
     "data": {
      "text/plain": [
       "'Real GDP grew at an annual rate of 2.0 percent in 2019 Q2'"
      ]
     },
     "execution_count": 4,
     "metadata": {},
     "output_type": "execute_result"
    }
   ],
   "source": [
    "d = series_info(df['A191RL'])\n",
    "\n",
    "f'Real GDP grew at an annual rate of {d[\"val_latest\"]} percent in {d[\"date_latest_ft\"]}'"
   ]
  },
  {
   "cell_type": "code",
   "execution_count": null,
   "metadata": {},
   "outputs": [],
   "source": []
  },
  {
   "cell_type": "markdown",
   "metadata": {},
   "source": [
    "### Private fixed investment"
   ]
  },
  {
   "cell_type": "code",
   "execution_count": null,
   "metadata": {
    "ExecuteTime": {
     "end_time": "2019-10-11T22:04:41.682135Z",
     "start_time": "2019-10-11T22:04:41.595930Z"
    }
   },
   "outputs": [],
   "source": [
    "# Private fixed investment\n",
    "s = ['A008RY', 'A011RY', 'A014RY']\n",
    "\n",
    "(nipa_df(retrieve_table('T10502')['Data'], s)\n",
    " .to_csv(data_dir / 'inv.csv', index_label='date'))"
   ]
  },
  {
   "cell_type": "code",
   "execution_count": null,
   "metadata": {},
   "outputs": [],
   "source": []
  },
  {
   "cell_type": "markdown",
   "metadata": {},
   "source": [
    "### Imports and Exports"
   ]
  },
  {
   "cell_type": "code",
   "execution_count": null,
   "metadata": {
    "ExecuteTime": {
     "end_time": "2019-10-11T22:29:35.794688Z",
     "start_time": "2019-10-11T22:29:35.734005Z"
    }
   },
   "outputs": [],
   "source": [
    "# Import and Export share of GDP\n",
    "s = ['B020RC', 'B021RC', 'A191RC']\n",
    "\n",
    "data = nipa_df(retrieve_table('T10105')['Data'], s)\n",
    "((data.div(data['A191RC'], axis=0) * 100)\n",
    "      .to_csv(data_dir / 'eximgdp.csv', index_label='date'))"
   ]
  },
  {
   "cell_type": "code",
   "execution_count": null,
   "metadata": {},
   "outputs": [],
   "source": []
  },
  {
   "cell_type": "markdown",
   "metadata": {},
   "source": [
    "### GDP Composition"
   ]
  },
  {
   "cell_type": "code",
   "execution_count": null,
   "metadata": {
    "ExecuteTime": {
     "end_time": "2019-09-26T12:49:57.522723Z",
     "start_time": "2019-09-26T12:49:57.437892Z"
    }
   },
   "outputs": [],
   "source": [
    "s = ['DPCERY', 'A006RY', 'A822RY', 'A019RY']\n",
    "\n",
    "(nipa_df(retrieve_table('T10502')['Data'], s)\n",
    " .to_csv(data_dir / 'comp.csv', index_label='date'))"
   ]
  },
  {
   "cell_type": "code",
   "execution_count": null,
   "metadata": {},
   "outputs": [],
   "source": []
  },
  {
   "cell_type": "markdown",
   "metadata": {},
   "source": [
    "### GDP per capita"
   ]
  },
  {
   "cell_type": "code",
   "execution_count": null,
   "metadata": {
    "ExecuteTime": {
     "end_time": "2019-09-26T12:49:57.567363Z",
     "start_time": "2019-09-26T12:49:57.524220Z"
    }
   },
   "outputs": [],
   "source": [
    "s = ['A939RC', 'A939RX']\n",
    "\n",
    "df = nipa_df(retrieve_table('T70100')['Data'], s)\n",
    "df['value'] = (df['A939RX'] / df['A939RX'].iloc[-1])  * df['A939RC'].iloc[-1]\n",
    "df[['value']].to_csv(data_dir / 'gdppc.csv', index_label='date')"
   ]
  },
  {
   "cell_type": "code",
   "execution_count": null,
   "metadata": {},
   "outputs": [],
   "source": []
  },
  {
   "cell_type": "markdown",
   "metadata": {},
   "source": [
    "### Domestic Investment"
   ]
  },
  {
   "cell_type": "code",
   "execution_count": null,
   "metadata": {
    "ExecuteTime": {
     "end_time": "2019-09-26T12:49:57.717632Z",
     "start_time": "2019-09-26T12:49:57.568565Z"
    }
   },
   "outputs": [],
   "source": [
    "s = ['A261RX', 'W256RX']\n",
    "rgdi = nipa_df(retrieve_table('T11706')['Data'], s).dropna()\n",
    "\n",
    "s = ['A261RC', 'A4002C', 'W056RC', 'A107RC', 'W271RC', 'A262RC']\n",
    "df = nipa_df(retrieve_table('T11000')['Data'], s).dropna()\n",
    "\n",
    "# Calculate indirect taxes net of transfers\n",
    "df['indirect'] = df['W056RC'] - df['A107RC']\n",
    "df = df.drop(['A107RC', 'W056RC'], axis=1)\n",
    "\n",
    "# Calculate GDI deflator from real GDI series\n",
    "deflator = rgdi['A261RX'] / df['A261RC']\n",
    "deflator = deflator / deflator.iloc[-1]\n",
    "df = df.multiply(deflator, axis=0)\n",
    "\n",
    "# Calculate contributions to growth\n",
    "dft = df.diff()\n",
    "dft = dft.div(dft['A261RC'], axis=0)\n",
    "contr = dft.multiply((((df['A261RC'].pct_change() + 1) ** 4) - 1) * 100, axis=0)\n",
    "contr.round(2).to_csv(data_dir / 'gdi.csv', index_label='date')"
   ]
  },
  {
   "cell_type": "code",
   "execution_count": null,
   "metadata": {},
   "outputs": [],
   "source": []
  },
  {
   "cell_type": "markdown",
   "metadata": {},
   "source": [
    "### Consumer Spending"
   ]
  },
  {
   "cell_type": "code",
   "execution_count": null,
   "metadata": {
    "ExecuteTime": {
     "end_time": "2019-09-26T12:49:57.808706Z",
     "start_time": "2019-09-26T12:49:57.718941Z"
    }
   },
   "outputs": [],
   "source": [
    "s = ['DGDSRY', 'DHCERY', 'DHUTRY', 'A011RY']\n",
    "\n",
    "(nipa_df(retrieve_table('T10502')['Data'], s)\n",
    " .assign(OTHSER = lambda x: x['DHCERY'] - x['DHUTRY'],\n",
    "         HOUSING = lambda x: x['A011RY'] + x['DHUTRY'])\n",
    " .drop('DHCERY', axis=1)\n",
    " .to_csv(data_dir / 'pce.csv', index_label='date'))"
   ]
  },
  {
   "cell_type": "code",
   "execution_count": null,
   "metadata": {},
   "outputs": [],
   "source": []
  },
  {
   "cell_type": "markdown",
   "metadata": {},
   "source": [
    "### Trade Contribution to GDP"
   ]
  },
  {
   "cell_type": "code",
   "execution_count": null,
   "metadata": {
    "ExecuteTime": {
     "end_time": "2019-09-27T20:06:42.540791Z",
     "start_time": "2019-09-27T20:06:42.429321Z"
    }
   },
   "outputs": [],
   "source": [
    "s = ['A019RY', 'A253RY', 'A646RY', 'A255RY', 'A656RY']\n",
    "df = nipa_df(retrieve_table('T10502')['Data'], s)\n",
    "df.to_csv(data_dir / 'nx.csv', index_label='date')"
   ]
  },
  {
   "cell_type": "code",
   "execution_count": null,
   "metadata": {
    "ExecuteTime": {
     "end_time": "2019-09-27T20:11:26.473659Z",
     "start_time": "2019-09-27T20:11:26.463815Z"
    }
   },
   "outputs": [],
   "source": [
    "sl = [('A253RY', 'main'), ('A646RY', 'end'), \n",
    "      ('A255RY', 'main'), ('A656RY', 'end')]\n",
    "\n",
    "d = {}\n",
    "\n",
    "for s, style in sl:\n",
    "    # Latest total value\n",
    "    value = df[s].iloc[-1]\n",
    "    d[s] = cont_subt(value, style=style)\n",
    "\n",
    "# Text for household expenditure section\n",
    "q = {1: 'first', 2: 'second', 3: 'third', 4: 'fourth'}\n",
    "    \n",
    "ld2 = f'{q[df.index[-1].quarter]} quarter of {df.index[-1].year}'\n",
    "\n",
    "\n",
    "text = f\"Goods exports {d['A253RY']} GDP growth in the {ld2} while services exports {d['A646RY']}. Good imports {d['A255RY']} GDP growth and services imports {d['A656RY']}.\"\n",
    "# Print to file\n",
    "f = text_dir.joinpath('trade.txt')\n",
    "with f.open('w') as text_file:\n",
    "    text_file.write(text)"
   ]
  },
  {
   "cell_type": "code",
   "execution_count": null,
   "metadata": {},
   "outputs": [],
   "source": []
  },
  {
   "cell_type": "markdown",
   "metadata": {},
   "source": [
    "### Business investment"
   ]
  },
  {
   "cell_type": "code",
   "execution_count": null,
   "metadata": {
    "ExecuteTime": {
     "end_time": "2019-09-26T12:49:57.921197Z",
     "start_time": "2019-09-26T12:49:57.916920Z"
    }
   },
   "outputs": [],
   "source": [
    "s = ['Y001RY', 'A009RY', 'Y033RY']"
   ]
  },
  {
   "cell_type": "code",
   "execution_count": null,
   "metadata": {
    "ExecuteTime": {
     "end_time": "2019-09-26T12:49:57.992548Z",
     "start_time": "2019-09-26T12:49:57.922857Z"
    }
   },
   "outputs": [],
   "source": [
    "df = nipa_df(retrieve_table('T10502')['Data'], s)\n",
    "df.to_csv(data_dir / 'businv.csv', index_label='date')"
   ]
  },
  {
   "cell_type": "code",
   "execution_count": null,
   "metadata": {},
   "outputs": [],
   "source": []
  },
  {
   "cell_type": "code",
   "execution_count": null,
   "metadata": {},
   "outputs": [],
   "source": []
  },
  {
   "cell_type": "markdown",
   "metadata": {},
   "source": [
    "### Durable goods new orders"
   ]
  },
  {
   "cell_type": "code",
   "execution_count": null,
   "metadata": {
    "ExecuteTime": {
     "end_time": "2019-10-26T21:17:49.999203Z",
     "start_time": "2019-10-26T21:17:49.228676Z"
    }
   },
   "outputs": [],
   "source": [
    "# New orders for capital goods excluding defense or aircraft\n",
    "key = census_key\n",
    "base = 'https://api.census.gov/data/timeseries/eits/advm3'\n",
    "param = 'cell_value,time_slot_id'\n",
    "t = '&time=from+1992'\n",
    "cat = '&category_code=NXA'\n",
    "dtc = '&data_type_code=NO'\n",
    "oth = '&for=us&seasonally_adj=yes'\n",
    "\n",
    "url = f'{base}?get={param}&key={key}{cat}{dtc}{t}{oth}'\n",
    "\n",
    "r = requests.get(url).json()\n",
    "\n",
    "df = pd.DataFrame({'date': [pd.to_datetime(i[4]) for i in r[1:]], \n",
    "                   'value': [float(i[0]) for i in r[1:]]}).sort_values('date')\n",
    "\n",
    "df = df.set_index('date')"
   ]
  },
  {
   "cell_type": "code",
   "execution_count": null,
   "metadata": {
    "ExecuteTime": {
     "end_time": "2019-10-26T21:10:52.828721Z",
     "start_time": "2019-10-26T21:10:52.826203Z"
    }
   },
   "outputs": [],
   "source": []
  },
  {
   "cell_type": "code",
   "execution_count": null,
   "metadata": {
    "ExecuteTime": {
     "end_time": "2019-10-26T21:18:24.000537Z",
     "start_time": "2019-10-26T21:18:23.993366Z"
    }
   },
   "outputs": [],
   "source": [
    "(df / 1000).to_csv(data_dir / 'dgno.csv', index_label='date')"
   ]
  },
  {
   "cell_type": "code",
   "execution_count": null,
   "metadata": {},
   "outputs": [],
   "source": []
  },
  {
   "cell_type": "markdown",
   "metadata": {},
   "source": [
    "### Government spending and investment"
   ]
  },
  {
   "cell_type": "code",
   "execution_count": null,
   "metadata": {
    "ExecuteTime": {
     "end_time": "2019-09-26T12:49:57.998711Z",
     "start_time": "2019-09-26T12:49:57.993879Z"
    }
   },
   "outputs": [],
   "source": [
    "s = ['A824RY', 'A825RY', 'A829RY']"
   ]
  },
  {
   "cell_type": "code",
   "execution_count": null,
   "metadata": {
    "ExecuteTime": {
     "end_time": "2019-09-26T12:49:58.069973Z",
     "start_time": "2019-09-26T12:49:57.999914Z"
    }
   },
   "outputs": [],
   "source": [
    "df = nipa_df(retrieve_table('T10502')['Data'], s)\n",
    "df.to_csv(data_dir / 'gov.csv', index_label='date')"
   ]
  },
  {
   "cell_type": "code",
   "execution_count": null,
   "metadata": {},
   "outputs": [],
   "source": []
  },
  {
   "cell_type": "markdown",
   "metadata": {},
   "source": [
    "### Personal Income"
   ]
  },
  {
   "cell_type": "code",
   "execution_count": null,
   "metadata": {
    "ExecuteTime": {
     "end_time": "2019-09-26T12:49:58.219988Z",
     "start_time": "2019-09-26T12:49:58.071224Z"
    }
   },
   "outputs": [],
   "source": [
    "s = ['DPCERG']\n",
    "\n",
    "d = nipa_df(retrieve_table('T20304')['Data'], s)['DPCERG']\n",
    "deflator = d.iloc[-1] / d\n",
    "\n",
    "s = ['A065RC', 'A033RC', 'A041RC', 'A048RC', 'W210RC', 'A577RC', 'A061RC']\n",
    "\n",
    "df = (nipa_df(retrieve_table('T20100')['Data'], s)\n",
    "      .assign(CAPITAL = lambda x: x['A041RC'] + x['A048RC'] + x['W210RC'],\n",
    "              TRANSFER = lambda x: x['A577RC'] - x['A061RC'])\n",
    "      .drop(['A061RC', 'A041RC', 'A048RC', 'W210RC', 'A577RC'], axis=1)\n",
    "      .multiply(deflator, axis=0))\n",
    "growth_contrib(df, 'A065RC').to_csv(data_dir / 'pi.csv', index_label='date')"
   ]
  },
  {
   "cell_type": "code",
   "execution_count": null,
   "metadata": {},
   "outputs": [],
   "source": []
  },
  {
   "cell_type": "markdown",
   "metadata": {},
   "source": [
    "### Sectoral Accounts\n",
    "\n",
    "**NOTE:** Need to convert \"deficit\", \"borrower\" etc to parameters!"
   ]
  },
  {
   "cell_type": "code",
   "execution_count": null,
   "metadata": {
    "ExecuteTime": {
     "end_time": "2019-10-26T16:08:06.948486Z",
     "start_time": "2019-10-26T16:08:06.798579Z"
    }
   },
   "outputs": [],
   "source": [
    "s = ['W162RC', 'W994RC', 'AD01RC', 'W995RC', 'W996RC', 'AD03RC']\n",
    "df = (nipa_df(retrieve_table('T50100')['Data'], s).div(\n",
    "      nipa_df(retrieve_table('T10105')['Data'], ['A191RC'])['A191RC'], axis=0)) * 100\n",
    "\n",
    "df[['W995RC', 'W996RC', 'AD03RC']].to_csv(data_dir / 'sectbal2.csv', index_label='date')\n",
    "\n",
    "data = pd.DataFrame()\n",
    "data['PRIV'] = df['W994RC']\n",
    "data['GOV'] = df['AD01RC']\n",
    "data['ROW'] = -df['W162RC']\n",
    "data = data.dropna()\n",
    "date = f'{data.index[-1].year} Q{data.index[-1].quarter}'\n",
    "\n",
    "data.dropna().to_csv(data_dir / 'sectbal.csv', index_label='date')\n",
    "\n",
    "priv_curr = abs(data['PRIV'].iloc[-1])\n",
    "priv_prev = abs(data.loc['2015-01-01', 'PRIV'])\n",
    "gov_curr = abs(data['GOV'].iloc[-1])\n",
    "gov_prev = abs(data.loc['2015-01-01', 'GOV'])\n",
    "row_curr = abs(data['ROW'].iloc[-1])\n",
    "row_prev = abs(data.loc['2015-01-01', 'ROW'])"
   ]
  },
  {
   "cell_type": "code",
   "execution_count": null,
   "metadata": {
    "ExecuteTime": {
     "end_time": "2019-10-26T16:08:07.991438Z",
     "start_time": "2019-10-26T16:08:07.988490Z"
    }
   },
   "outputs": [],
   "source": [
    "sectbaltxt = f\"In {date}, the US private sector was a net lender (running a surplus) of the equivalent of {priv_curr:.1f} percent of GDP, compared to {priv_prev:.1f} percent in 2015 Q1. The rest of the world was a net lender to the US, to the equivalent of {row_curr:.1f} percent of GDP in {date} compared to {row_prev:.1f} percent in 2015 Q1. Balancing these transactions, the government (federal, state, and local combined) was a net borrower (running a deficit) of the equivalent of {gov_curr:.1f} percent of GDP, compared to {gov_prev:.1f} percent in 2015. \"\n",
    "print(sectbaltxt)"
   ]
  },
  {
   "cell_type": "code",
   "execution_count": null,
   "metadata": {
    "ExecuteTime": {
     "end_time": "2019-10-26T16:08:13.204770Z",
     "start_time": "2019-10-26T16:08:13.199570Z"
    }
   },
   "outputs": [],
   "source": [
    "# Print latest date to file\n",
    "f = text_dir.joinpath('sectbal.txt')\n",
    "with f.open('w') as wf:\n",
    "    wf.write(sectbaltxt)"
   ]
  },
  {
   "cell_type": "code",
   "execution_count": null,
   "metadata": {},
   "outputs": [],
   "source": []
  },
  {
   "cell_type": "code",
   "execution_count": null,
   "metadata": {},
   "outputs": [],
   "source": []
  },
  {
   "cell_type": "code",
   "execution_count": null,
   "metadata": {},
   "outputs": [],
   "source": []
  },
  {
   "cell_type": "markdown",
   "metadata": {},
   "source": [
    "### Current Account Balance"
   ]
  },
  {
   "cell_type": "code",
   "execution_count": null,
   "metadata": {
    "ExecuteTime": {
     "end_time": "2019-09-27T17:26:20.252848Z",
     "start_time": "2019-09-27T17:26:20.035900Z"
    },
    "code_folding": []
   },
   "outputs": [],
   "source": [
    "s = ['A191RC']\n",
    "\n",
    "gdp = nipa_df(retrieve_table('T10105')['Data'], s)\n",
    "\n",
    "s = ['A124RC', 'A253RC', 'A255RC', 'A646RC', 'B656RC', 'B645RC',\n",
    "     'A655RC', 'A123RC']\n",
    "\n",
    "df = (nipa_df(retrieve_table('T40100')['Data'], s)\n",
    "      .assign(GOODS = lambda x: x['A253RC'] - x['A255RC'],\n",
    "              SERVICES = lambda x: x['A646RC'] - x['B656RC'],\n",
    "              INCOME = lambda x: x['B645RC'] - x['A655RC'],\n",
    "              TRANSFERS = lambda x: - x['A123RC'])\n",
    "      .drop(s[1:], axis=1).drop_duplicates())\n",
    "\n",
    "data = (df.div(nipa_df(retrieve_table('T10105')['Data'], ['A191RC']\n",
    "               )['A191RC'], axis=0).dropna().loc['1989':].multiply(100).round(2))\n",
    "\n",
    "data.to_csv(data_dir / 'cab.csv', index_label='date')"
   ]
  },
  {
   "cell_type": "code",
   "execution_count": null,
   "metadata": {
    "ExecuteTime": {
     "end_time": "2019-09-27T17:33:55.133785Z",
     "start_time": "2019-09-27T17:33:55.128204Z"
    }
   },
   "outputs": [],
   "source": [
    "cab = abs(data['A124RC'].iloc[-1])\n",
    "tb = abs(data['GOODS'].iloc[-1])\n",
    "ld = f'{data.index[-1].year} Q{data.index[-1].quarter}'\n",
    "\n",
    "text = f'As of {ld}, the US runs a current account deficit of {cab:.1f} percent of GDP, primarily as the result of a trade deficit on goods of {tb:.1f} percent of GDP.'\n",
    "\n",
    "# Print latest date to file\n",
    "f = text_dir.joinpath('cab.txt')\n",
    "with f.open('w') as wf:\n",
    "    wf.write(text)"
   ]
  },
  {
   "cell_type": "code",
   "execution_count": null,
   "metadata": {},
   "outputs": [],
   "source": []
  },
  {
   "cell_type": "code",
   "execution_count": null,
   "metadata": {},
   "outputs": [],
   "source": []
  },
  {
   "cell_type": "markdown",
   "metadata": {},
   "source": [
    "### Wealth to GDP\n",
    "\n"
   ]
  },
  {
   "cell_type": "code",
   "execution_count": null,
   "metadata": {
    "ExecuteTime": {
     "end_time": "2019-10-18T00:09:44.029193Z",
     "start_time": "2019-10-18T00:09:44.027002Z"
    }
   },
   "outputs": [],
   "source": [
    "url = 'https://www.federalreserve.gov/datadownload/Output.aspx?rel=Z1&series=71f2e13e70c5d96bb5da3a65053d836e&lastobs=&from=03/01/1988&to=06/30/2019&filetype=csv&label=include&layout=seriescolumn'"
   ]
  },
  {
   "cell_type": "code",
   "execution_count": null,
   "metadata": {
    "ExecuteTime": {
     "end_time": "2019-10-18T00:09:51.334872Z",
     "start_time": "2019-10-18T00:09:45.919328Z"
    }
   },
   "outputs": [],
   "source": [
    "d = {'LM155035005.Q': 'Real Estate', \n",
    "     'FL892090005.Q': 'Total', \n",
    "     'LM883164105.Q': 'Corporate Equities'}\n",
    "\n",
    "df = pd.read_csv(url, skiprows=5, index_col=0)[d.keys()].rename(d, axis=1)\n",
    "\n",
    "df.index = pd.to_datetime(df.index)\n",
    "\n",
    "df['Other'] = df['Total'] * 2 - df.sum(axis=1)\n",
    "\n",
    "data = (df.div(nipa_df(retrieve_table('T10105')['Data'], ['A191RC']\n",
    "               )['A191RC'], axis=0)).dropna().loc['1989':]\n",
    "data.to_csv(data_dir / 'wealthgdp.csv', index_label='date')"
   ]
  },
  {
   "cell_type": "code",
   "execution_count": null,
   "metadata": {
    "ExecuteTime": {
     "end_time": "2019-10-18T00:09:53.411323Z",
     "start_time": "2019-10-18T00:09:53.406714Z"
    }
   },
   "outputs": [],
   "source": [
    "d89 = data.iloc[0].round(2)\n",
    "dlt = data.iloc[-1].round(2)\n",
    "date = f'{data.index[-1].year} Q{data.index[-1].quarter}'"
   ]
  },
  {
   "cell_type": "code",
   "execution_count": null,
   "metadata": {
    "ExecuteTime": {
     "end_time": "2019-10-18T00:09:54.231331Z",
     "start_time": "2019-10-18T00:09:54.226642Z"
    }
   },
   "outputs": [],
   "source": [
    "wealthtxt = f\"The ratio of US total wealth, excluding public lands, to GDP increased to {dlt['Total']} in {date} from {d89['Total']} in 1989 Q1. The market value of corporate equities (see\\cbox{{magenta!50!violet}}) increased to a {dlt['Corporate Equities']} multiple of GDP in {date} from {d89['Corporate Equities']} in 1989 Q1. The market value of residential real estate (see\\cbox{{green!80!blue}}) increased to {dlt['Real Estate']} times GDP from {d89['Real Estate']} in 1989. The other category (see\\cbox{{cyan!35!white}}), which includes tangible assets other than residential real estate less US financial obligations to the rest of the world, decreased to {dlt['Other']} from {d89['Other']} in 1989.\""
   ]
  },
  {
   "cell_type": "code",
   "execution_count": null,
   "metadata": {
    "ExecuteTime": {
     "end_time": "2019-10-18T00:09:54.955461Z",
     "start_time": "2019-10-18T00:09:54.951499Z"
    }
   },
   "outputs": [],
   "source": [
    "# Print latest date to file\n",
    "f = text_dir.joinpath('wealthgdp.txt')\n",
    "with f.open('w') as wf:\n",
    "    wf.write(wealthtxt)"
   ]
  },
  {
   "cell_type": "code",
   "execution_count": null,
   "metadata": {
    "ExecuteTime": {
     "end_time": "2019-10-18T00:09:55.665664Z",
     "start_time": "2019-10-18T00:09:55.662691Z"
    }
   },
   "outputs": [],
   "source": [
    "wealthtxt"
   ]
  },
  {
   "cell_type": "code",
   "execution_count": null,
   "metadata": {},
   "outputs": [],
   "source": []
  },
  {
   "cell_type": "markdown",
   "metadata": {},
   "source": [
    "### Business Debt"
   ]
  },
  {
   "cell_type": "code",
   "execution_count": null,
   "metadata": {
    "ExecuteTime": {
     "end_time": "2019-10-26T23:21:41.520810Z",
     "start_time": "2019-10-26T23:21:41.515868Z"
    }
   },
   "outputs": [],
   "source": [
    "url = 'https://www.federalreserve.gov/datadownload/Output.aspx?rel=Z1&series=d720788442f3511d102b43eee2bddb41&lastobs=&from=03/01/1988&to=06/30/2019&filetype=csv&label=include&layout=seriescolumn'"
   ]
  },
  {
   "cell_type": "code",
   "execution_count": null,
   "metadata": {
    "ExecuteTime": {
     "end_time": "2019-10-26T23:21:44.217119Z",
     "start_time": "2019-10-26T23:21:44.213492Z"
    }
   },
   "outputs": [],
   "source": [
    "d = {'FL104122005.Q': 'Debt Securities',\n",
    "     'FL143168005.Q': 'Bank Loans',\n",
    "     'FL143165005.Q': 'Mortgages',\n",
    "     'FL143169005.Q': 'Nonbank Loans',\n",
    "     'FL144104005.Q': 'Total',\n",
    "     'FL104104005.Q': 'Total Corporate',\n",
    "     'FL114123005.Q': 'Total Noncorporate',\n",
    "     'FL794122005.Q': 'Financial Debt Securities',\n",
    "     'FL794123005.Q': 'Financial Loans',\n",
    "     'FL794104005.Q': 'Financial Total',\n",
    "     'FL423161705.Q': 'Agency MBS'}"
   ]
  },
  {
   "cell_type": "code",
   "execution_count": null,
   "metadata": {
    "ExecuteTime": {
     "end_time": "2019-10-26T23:22:49.318861Z",
     "start_time": "2019-10-26T23:22:49.049301Z"
    }
   },
   "outputs": [],
   "source": [
    "df = pd.read_csv(url, skiprows=5, index_col=0)[d.keys()].rename(d, axis=1)\n",
    "\n",
    "df.index = pd.to_datetime(df.index)\n",
    "\n",
    "df['Bank Loans and Mortgages'] = df['Bank Loans'] + df['Mortgages']\n",
    "\n",
    "df['Other'] = df['Financial Debt Securities'] - df['Agency MBS']\n",
    "\n",
    "data = (df.div(nipa_df(retrieve_table('T10105')['Data'], ['A191RC']\n",
    "               )['A191RC'], axis=0)).dropna().loc['1989':] * 100\n",
    "data.to_csv(data_dir / 'busdebtgdp2.csv', index_label='date')"
   ]
  },
  {
   "cell_type": "code",
   "execution_count": null,
   "metadata": {
    "ExecuteTime": {
     "end_time": "2019-10-27T01:13:53.697318Z",
     "start_time": "2019-10-27T01:13:53.689218Z"
    }
   },
   "outputs": [],
   "source": [
    "lt_date = f'{data.index[-1].year} Q{data.index[-1].quarter}'\n",
    "total = df['Total'].iloc[-1] / 1_000\n",
    "corp = df['Total Corporate'].iloc[-1] / 1_000\n",
    "corp_sh = corp / total * 100\n",
    "tot_gdp = data['Total'].iloc[-1]\n",
    "tot_gdp_3 = data['Total'].iloc[-13]\n",
    "\n",
    "date_3 = f'{data.index[-13].year} Q{data.index[-13].quarter}'\n",
    "tot_3 = tot_gdp - tot_gdp_3\n",
    "ds_3 = data['Debt Securities'].iloc[-1] - data['Debt Securities'].iloc[-13]\n",
    "nb_3 = data['Nonbank Loans'].iloc[-1] - data['Nonbank Loans'].iloc[-13]\n",
    "\n",
    "if tot_3 >= 1:\n",
    "    tot_text = 'increased faster than'\n",
    "    tot_text2 = 'increased'\n",
    "elif (tot_3 < 1) & (tot_3 >= -1):\n",
    "    tot_text = 'grown at about the same rate as'\n",
    "    tot_text2 = 'grew'\n",
    "else:\n",
    "    tot_text = 'fallen relative to'\n",
    "    tot_text2 = 'fell'\n",
    "    \n",
    "finmax = data['Financial Total'].max()\n",
    "finmaxdt = f'{data[\"Financial Total\"].idxmax().year} Q{data[\"Financial Total\"].idxmax().quarter}'\n",
    "finlt = data['Financial Total'].iloc[-1]"
   ]
  },
  {
   "cell_type": "code",
   "execution_count": null,
   "metadata": {
    "ExecuteTime": {
     "end_time": "2019-10-26T22:47:29.304889Z",
     "start_time": "2019-10-26T22:47:29.301573Z"
    }
   },
   "outputs": [],
   "source": [
    "busdebt = f'As of {lt_date}, nonfinancial business debt--the debt security and loan liabilities of nonfinancial businesses--both corporate and non-corporate--totals \\${total:,.0f} billion, with \\${corp:,.0f} billion ({corp_sh:,.1f}\\%) held by corporate businesses. Over the past three years, nonfinancial business debt has {tot_text} than overall economic activity. As a share of GDP, nonfinancial business debt {tot_text2} by {tot_3:.1f} percentage points to {tot_gdp:.1f} percent in {lt_date} from {tot_gdp_3:.1f} percent in {date_3}. The vast majority of the increase, {nb_3:.1f} percentage points, comes from nonbank loans (see\\\\cbox{{blue}}).'\n",
    "# Print text to file\n",
    "f = text_dir.joinpath('busdebtgdp.txt')\n",
    "with f.open('w') as wf:\n",
    "    wf.write(busdebt)"
   ]
  },
  {
   "cell_type": "code",
   "execution_count": null,
   "metadata": {
    "ExecuteTime": {
     "end_time": "2019-10-27T01:15:24.742527Z",
     "start_time": "2019-10-27T01:15:24.739831Z"
    }
   },
   "outputs": [],
   "source": [
    "fintext = f'Domestic financial sector debt has fallen as a share of GDP to {finlt:.1f} percent in {lt_date} from a housing-bubble peak of {finmax:.1f} percent in {finmaxdt}.'"
   ]
  },
  {
   "cell_type": "code",
   "execution_count": null,
   "metadata": {
    "ExecuteTime": {
     "end_time": "2019-10-27T01:15:25.460193Z",
     "start_time": "2019-10-27T01:15:25.457041Z"
    }
   },
   "outputs": [],
   "source": [
    "# Print text to file\n",
    "f = text_dir.joinpath('findebtgdp.txt')\n",
    "with f.open('w') as wf:\n",
    "    wf.write(fintext)"
   ]
  },
  {
   "cell_type": "code",
   "execution_count": null,
   "metadata": {},
   "outputs": [],
   "source": []
  },
  {
   "cell_type": "code",
   "execution_count": null,
   "metadata": {},
   "outputs": [],
   "source": []
  },
  {
   "cell_type": "markdown",
   "metadata": {},
   "source": [
    "### Household debt"
   ]
  },
  {
   "cell_type": "code",
   "execution_count": null,
   "metadata": {
    "ExecuteTime": {
     "end_time": "2019-10-26T18:57:12.550019Z",
     "start_time": "2019-10-26T18:57:12.547679Z"
    }
   },
   "outputs": [],
   "source": [
    "url = 'https://www.federalreserve.gov/datadownload/Output.aspx?rel=Z1&series=21a69f49792f26a66791418647f75234&lastobs=&from=03/01/1988&to=06/30/2019&filetype=csv&label=include&layout=seriescolumn'"
   ]
  },
  {
   "cell_type": "code",
   "execution_count": null,
   "metadata": {
    "ExecuteTime": {
     "end_time": "2019-10-26T18:57:13.365288Z",
     "start_time": "2019-10-26T18:57:13.357693Z"
    }
   },
   "outputs": [],
   "source": [
    "d = {'FL153165105.Q': 'Mortgages',\n",
    "     'FL153166000.Q': 'Consumer Credit',\n",
    "     'FL154190005.Q': 'Total'}"
   ]
  },
  {
   "cell_type": "code",
   "execution_count": null,
   "metadata": {
    "ExecuteTime": {
     "end_time": "2019-10-26T18:57:14.226724Z",
     "start_time": "2019-10-26T18:57:14.047364Z"
    }
   },
   "outputs": [],
   "source": [
    "df = pd.read_csv(url, skiprows=5, index_col=0)[d.keys()].rename(d, axis=1)\n",
    "\n",
    "df.index = pd.to_datetime(df.index)\n",
    "\n",
    "df['Other'] = df['Total'] - df['Consumer Credit'] - df['Mortgages']"
   ]
  },
  {
   "cell_type": "code",
   "execution_count": null,
   "metadata": {
    "ExecuteTime": {
     "end_time": "2019-10-26T19:08:51.721695Z",
     "start_time": "2019-10-26T19:08:51.684532Z"
    }
   },
   "outputs": [],
   "source": [
    "dpi = nipa_df(retrieve_table('T20100')['Data'], ['A067RC'])['A067RC']\n",
    "data = (df.div(dpi, axis=0)).dropna().loc['1989':] * 100\n",
    "data.to_csv(data_dir / 'hhdebt.csv', index_label='date')"
   ]
  },
  {
   "cell_type": "code",
   "execution_count": null,
   "metadata": {
    "ExecuteTime": {
     "end_time": "2019-10-26T19:20:36.565210Z",
     "start_time": "2019-10-26T19:20:36.549105Z"
    }
   },
   "outputs": [],
   "source": [
    "date = f'{data.index[-1].year} Q{data.index[-1].quarter}'\n",
    "maxdate = f'{data.Total.idxmax().year} Q{data.Total.idxmax().quarter}'\n",
    "\n",
    "totval = (df['Total'].iloc[-1] / 1000)\n",
    "mortval = (df['Mortgages'].iloc[-1] / 1000)\n",
    "mortsh = mortval / totval * 100\n",
    "ccval = (df['Consumer Credit'].iloc[-1] / 1000)\n",
    "ccsh = ccval / totval * 100\n",
    "\n",
    "totrt = data['Total'].iloc[-1]\n",
    "maxrt = data['Total'].max()\n",
    "\n",
    "dpi3 = dpi.pct_change(12).iloc[-1] * 100\n",
    "rt3 = df.Total.pct_change(12).iloc[-1] * 100\n",
    "ch3 = data.Total.diff(12).iloc[-1]\n",
    "\n",
    "if dpi3 > 0.4:\n",
    "    dpi3txt = f'increased {abs(dpi3):.1f} percent'\n",
    "elif dpi3 < -0.4:\n",
    "    dpi3txt = f'decreased {abs(dpi3):.1f} percent'\n",
    "else:\n",
    "    dpi3txt = 'been virtually unchanged'\n",
    "    \n",
    "if rt3 > 0.4:\n",
    "    rt3txt = f'increased {abs(rt3):.1f} percent'\n",
    "elif rt3 < -0.4:\n",
    "    rt3txt = f'decreased {abs(rt3):.1f} percent'\n",
    "else:\n",
    "    rt3txt = 'been virtually unchanged'\n",
    "    \n",
    "if ch3 > 0.4:\n",
    "    ch3txt = f'increased by {abs(ch3):.1f} percentage points'\n",
    "elif ch3 < -0.4:\n",
    "    ch3txt = f'fallen by {abs(ch3):.1f} percentage points'\n",
    "else:\n",
    "    ch3txt = 'been virtually unchanged'"
   ]
  },
  {
   "cell_type": "code",
   "execution_count": null,
   "metadata": {
    "ExecuteTime": {
     "end_time": "2019-10-26T19:28:30.205608Z",
     "start_time": "2019-10-26T19:28:30.202831Z"
    }
   },
   "outputs": [],
   "source": [
    "text1 = f'The Federal Reserve reports total liabilities of households and nonprofits of \\${totval:,.0f} billion in {date}. The vast majority--\\${mortval:,.0f} billion or {mortsh:.1f} percent of the total--are home mortgages (see\\cbox{{blue!80!black}}). Consumer credit liabilities (see\\cbox{{magenta}}) which include auto loans, credit card debt, student loans, and other personal loans, total \\${ccval:,.0f} billion ({ccsh:.1f}\\% of the total). The remaining liabilities (see\\cbox{{orange!80!yellow}}) are primarily attributable to nonprofits.'\n",
    "\n",
    "text2 = f'The ratio of household and nonprofit debt to disposable personal income has fallen to {totrt:.1f} percent in {date} from its housing-bubble peak of {maxrt:.1f} percent in {maxdate}. Over the past three years, nominal household and nonprofit debt has {rt3txt} while nominal disposable personal income has {dpi3txt}. As a result, the ratio of household and nonprofit debt to disposable personal income has {ch3txt}.'"
   ]
  },
  {
   "cell_type": "code",
   "execution_count": null,
   "metadata": {
    "ExecuteTime": {
     "end_time": "2019-10-26T19:29:29.433133Z",
     "start_time": "2019-10-26T19:29:29.429758Z"
    }
   },
   "outputs": [],
   "source": [
    "# Print text to file\n",
    "f = text_dir.joinpath('hhdebt1.txt')\n",
    "with f.open('w') as wf:\n",
    "    wf.write(text1)\n",
    "    \n",
    "f = text_dir.joinpath('hhdebt2.txt')\n",
    "with f.open('w') as wf:\n",
    "    wf.write(text2)"
   ]
  },
  {
   "cell_type": "code",
   "execution_count": null,
   "metadata": {},
   "outputs": [],
   "source": []
  },
  {
   "cell_type": "code",
   "execution_count": null,
   "metadata": {},
   "outputs": [],
   "source": []
  },
  {
   "cell_type": "code",
   "execution_count": null,
   "metadata": {},
   "outputs": [],
   "source": []
  },
  {
   "cell_type": "code",
   "execution_count": null,
   "metadata": {},
   "outputs": [],
   "source": []
  },
  {
   "cell_type": "markdown",
   "metadata": {},
   "source": [
    "### Household formation estimates"
   ]
  },
  {
   "cell_type": "code",
   "execution_count": null,
   "metadata": {
    "ExecuteTime": {
     "end_time": "2019-09-23T18:50:05.773164Z",
     "start_time": "2019-09-23T18:50:04.337698Z"
    },
    "code_folding": [],
    "run_control": {
     "marked": false
    }
   },
   "outputs": [],
   "source": [
    "%matplotlib inline\n",
    "import requests\n",
    "\n",
    "files = ['histtab8.xlsx', 'hist_tab_8a_v2018.xlsx']\n",
    "url = 'https://www.census.gov/housing/hvs/data/'\n",
    "\n",
    "results = {}\n",
    "\n",
    "for file in files:\n",
    "    #r = requests.get(f'{url}{file}')\n",
    "    #with open(data_dir / file, 'wb') as output:\n",
    "    #    output.write(r.content)\n",
    "    data = pd.read_excel(data_dir / file).iloc[4:, :5]\n",
    "    data.columns = ['category', 'Q1', 'Q2', 'Q3', 'Q4']\n",
    "    years = []\n",
    "    for h in data[data['Q1'] == '1st Qtr'].index - 1:\n",
    "        year_raw = data.loc[h, 'Q1']\n",
    "        if type(year_raw) == int:\n",
    "            year = year_raw\n",
    "        elif type(year_raw) == str:\n",
    "            year = int(year_raw[:4])\n",
    "        elif type(year) == float:\n",
    "            year = year + 1\n",
    "        years.append(year)\n",
    "    data.loc[data['Q1'] == '1st Qtr', 'category'] = years\n",
    "    data = data.dropna(subset=['category'])\n",
    "    \n",
    "    df = pd.DataFrame()\n",
    "    for series in ['Owner', 'Renter']:\n",
    "        srs = data.loc[data['category'].astype('str').str.contains(series)]\n",
    "        srs.index = years\n",
    "        srs = srs[['Q1', 'Q2', 'Q3', 'Q4']].unstack().swaplevel()\n",
    "        srs.index = pd.to_datetime([f'{i[0]}-{i[1]}' for i in srs.index])\n",
    "        srs = srs.sort_index()\n",
    "        df[series] = srs\n",
    "    df = df.dropna()\n",
    "    df['Total'] = df.sum(axis=1)\n",
    "    \n",
    "    # Convert to share of total change\n",
    "    for s in ['Owner', 'Renter']:  \n",
    "        df[s] = ((df[s] - df[s].shift(4))\n",
    "                  /df['Total'].shift(4)) * 100\n",
    "        \n",
    "    df = (df.reset_index()\n",
    "            .drop_duplicates(subset='index', keep='last')\n",
    "            .set_index('index'))\n",
    "        \n",
    "    #(df[['Owner', 'Renter']].dropna().rolling(4).mean().loc['1989':]\n",
    "    #   .plot(kind='bar', stacked=True))\n",
    "    \n",
    "    results[file] = df[['Owner', 'Renter']].dropna().rolling(4).mean().loc['1989':]"
   ]
  },
  {
   "cell_type": "code",
   "execution_count": null,
   "metadata": {
    "ExecuteTime": {
     "end_time": "2019-09-23T18:50:06.693836Z",
     "start_time": "2019-09-23T18:50:06.613624Z"
    }
   },
   "outputs": [],
   "source": [
    "final = (results[files[0]].loc[:'2001-10-01']\n",
    "         .append(results[files[1]]).dropna())\n",
    "\n",
    "final['pop'] = (nipa_df(retrieve_table('T70100')['Data'], ['B230RC'])\n",
    "                .pct_change(4).dropna() * 100)\n",
    "\n",
    "final.to_csv(data_dir / 'hhform.csv', index_label='date')"
   ]
  },
  {
   "cell_type": "code",
   "execution_count": null,
   "metadata": {},
   "outputs": [],
   "source": []
  },
  {
   "cell_type": "code",
   "execution_count": null,
   "metadata": {
    "ExecuteTime": {
     "end_time": "2019-10-11T19:35:06.923351Z",
     "start_time": "2019-10-11T19:35:06.902829Z"
    }
   },
   "outputs": [],
   "source": [
    "nipa_series_codes(retrieve_table('T11200'))"
   ]
  },
  {
   "cell_type": "markdown",
   "metadata": {},
   "source": [
    "### Corporate Profits Destination"
   ]
  },
  {
   "cell_type": "code",
   "execution_count": null,
   "metadata": {
    "ExecuteTime": {
     "end_time": "2019-10-11T20:09:28.612923Z",
     "start_time": "2019-10-11T20:09:28.482650Z"
    }
   },
   "outputs": [],
   "source": [
    "s = ['A032RC', 'A438RC', 'A054RC', 'B056RC', 'A127RC']\n",
    "cprof = nipa_df(retrieve_table('T11200')['Data'], s)"
   ]
  },
  {
   "cell_type": "code",
   "execution_count": null,
   "metadata": {
    "ExecuteTime": {
     "end_time": "2019-10-11T20:09:29.180957Z",
     "start_time": "2019-10-11T20:09:29.172274Z"
    }
   },
   "outputs": [],
   "source": [
    "cprof['NNI'] = cprof['A032RC'] - cprof['A438RC']\n",
    "cprof['TAX'] = cprof['A054RC'] / cprof['NNI'] * 100 \n",
    "cprof['DIV'] = cprof['B056RC'] / cprof['NNI'] * 100 \n",
    "cprof['RE'] = cprof['A127RC'] / cprof['NNI'] * 100 "
   ]
  },
  {
   "cell_type": "code",
   "execution_count": null,
   "metadata": {
    "ExecuteTime": {
     "end_time": "2019-10-11T20:09:29.916402Z",
     "start_time": "2019-10-11T20:09:29.906980Z"
    }
   },
   "outputs": [],
   "source": [
    "cprof[['TAX', 'DIV', 'RE']].to_csv(data_dir / 'cprof.csv', index_label='date')"
   ]
  },
  {
   "cell_type": "code",
   "execution_count": null,
   "metadata": {},
   "outputs": [],
   "source": []
  },
  {
   "cell_type": "markdown",
   "metadata": {},
   "source": [
    "### Corporate profits source"
   ]
  },
  {
   "cell_type": "code",
   "execution_count": null,
   "metadata": {
    "ExecuteTime": {
     "end_time": "2019-10-22T02:16:47.268855Z",
     "start_time": "2019-10-22T02:16:47.116415Z"
    }
   },
   "outputs": [],
   "source": [
    "s = ['W170RC', 'A262RC', 'W986RC', 'A922RC']\n",
    "df1 = nipa_df(retrieve_table('T50100')['Data'], s)\n",
    "\n",
    "s = ['A123RC']\n",
    "df2 = nipa_df(retrieve_table('T40100')['Data'], s)\n",
    "\n",
    "s = ['A001RC']\n",
    "df3 = nipa_df(retrieve_table('T10705')['Data'], s)"
   ]
  },
  {
   "cell_type": "code",
   "execution_count": null,
   "metadata": {
    "ExecuteTime": {
     "end_time": "2019-10-22T02:17:57.203336Z",
     "start_time": "2019-10-22T02:17:57.190033Z"
    }
   },
   "outputs": [],
   "source": [
    "cprof = pd.DataFrame()\n",
    "cprof['ROW Saving'] = (df2['A123RC'] / df3['A001RC']) * 100\n",
    "cprof['HH Saving'] = (- df1['W986RC'] / df3['A001RC']) * 100\n",
    "cprof['Gov Saving'] = (- df1['A922RC'] / df3['A001RC']) * 100\n",
    "cprof['Investment'] = ((df1['W170RC'] - df1['A262RC']) / df3['A001RC']) * 100"
   ]
  },
  {
   "cell_type": "code",
   "execution_count": null,
   "metadata": {
    "ExecuteTime": {
     "end_time": "2019-10-22T02:18:50.642861Z",
     "start_time": "2019-10-22T02:18:50.634224Z"
    }
   },
   "outputs": [],
   "source": [
    "cprof.to_csv(data_dir / 'cprof2.csv', index_label='date')"
   ]
  },
  {
   "cell_type": "code",
   "execution_count": null,
   "metadata": {
    "ExecuteTime": {
     "end_time": "2019-10-26T18:56:24.242101Z",
     "start_time": "2019-10-26T18:56:24.240064Z"
    }
   },
   "outputs": [],
   "source": [
    "#nipa_series_codes(retrieve_table('T50100'))"
   ]
  },
  {
   "cell_type": "code",
   "execution_count": null,
   "metadata": {},
   "outputs": [],
   "source": []
  },
  {
   "cell_type": "code",
   "execution_count": null,
   "metadata": {},
   "outputs": [],
   "source": []
  },
  {
   "cell_type": "markdown",
   "metadata": {},
   "source": [
    "### Labor Productivity"
   ]
  },
  {
   "cell_type": "code",
   "execution_count": 3,
   "metadata": {
    "ExecuteTime": {
     "end_time": "2019-10-27T17:44:22.896980Z",
     "start_time": "2019-10-27T17:44:21.597942Z"
    }
   },
   "outputs": [
    {
     "name": "stdout",
     "output_type": "stream",
     "text": [
      "Post Request Status: REQUEST_SUCCEEDED\n"
     ]
    }
   ],
   "source": [
    "# Series stored as a dictionary\n",
    "series = {'PRS85006092': 'value'}\n",
    "\n",
    "# Start year and end year\n",
    "dates = (1989, 2019)\n",
    "df = bls_api(series, dates, bls_key)"
   ]
  },
  {
   "cell_type": "code",
   "execution_count": 33,
   "metadata": {
    "ExecuteTime": {
     "end_time": "2019-10-27T18:49:18.494981Z",
     "start_time": "2019-10-27T18:49:18.485195Z"
    }
   },
   "outputs": [],
   "source": [
    "df.to_csv(data_dir / 'lprod.csv', index_label='date')\n",
    "\n",
    "d = series_info(df['value'])\n",
    "\n",
    "text = f'Labor productivity, measured are real output per hour in the nonfarm business sector, grew at an annual rate of {d[\"val_latest\"]} percent in {d[\"date_latest_ft\"]} and {d[\"val_prev\"]} percent in {d[\"date_prev_ft\"]} (see\\cbox{{teal}}). Over the past five years, labor productivity growth has averaged {d[\"five_year_mean\"]:.1f} percent, compared to a 1989-onward average of {d[\"mean\"]:.1f} percent.'\n",
    "f = text_dir.joinpath('lprod.txt')\n",
    "with f.open('w') as wf:\n",
    "    wf.write(text)"
   ]
  },
  {
   "cell_type": "code",
   "execution_count": null,
   "metadata": {},
   "outputs": [],
   "source": []
  },
  {
   "cell_type": "code",
   "execution_count": null,
   "metadata": {},
   "outputs": [],
   "source": []
  },
  {
   "cell_type": "markdown",
   "metadata": {},
   "source": [
    "### Gross Labor Income"
   ]
  },
  {
   "cell_type": "code",
   "execution_count": null,
   "metadata": {
    "ExecuteTime": {
     "end_time": "2019-10-11T21:04:30.680407Z",
     "start_time": "2019-10-11T21:04:28.886422Z"
    }
   },
   "outputs": [],
   "source": [
    "# Series stored as a dictionary\n",
    "series = {'LNS12005054': 'Hours', 'LNS12000000': 'Employment'}\n",
    "\n",
    "# Start year and end year\n",
    "dates = (1989, 2019)\n",
    "emp_hrs = bls_api(series, dates, bls_key)"
   ]
  },
  {
   "cell_type": "code",
   "execution_count": null,
   "metadata": {
    "ExecuteTime": {
     "end_time": "2019-10-11T21:17:53.451168Z",
     "start_time": "2019-10-11T21:17:53.443822Z"
    }
   },
   "outputs": [],
   "source": [
    "emp_hrs['Total'] = emp_hrs['Hours'] * 52/12 * emp_hrs['Employment']\n",
    "emp = emp_hrs['Total'].resample('QS').sum()"
   ]
  },
  {
   "cell_type": "code",
   "execution_count": null,
   "metadata": {
    "ExecuteTime": {
     "end_time": "2019-10-11T21:13:58.090725Z",
     "start_time": "2019-10-11T21:13:58.019990Z"
    }
   },
   "outputs": [],
   "source": [
    "s = ['A033RC']\n",
    "coe = nipa_df(retrieve_table('T20100')['Data'], s)\n",
    "\n",
    "s = ['DPCERG']\n",
    "pce = nipa_df(retrieve_table('T20304')['Data'], s)"
   ]
  },
  {
   "cell_type": "code",
   "execution_count": null,
   "metadata": {
    "ExecuteTime": {
     "end_time": "2019-10-11T21:17:55.867452Z",
     "start_time": "2019-10-11T21:17:55.858103Z"
    }
   },
   "outputs": [],
   "source": [
    "data = coe.join(pce).join(emp).dropna()"
   ]
  },
  {
   "cell_type": "code",
   "execution_count": null,
   "metadata": {
    "ExecuteTime": {
     "end_time": "2019-10-11T21:18:20.389827Z",
     "start_time": "2019-10-11T21:18:20.371250Z"
    }
   },
   "outputs": [],
   "source": [
    "data = coe.join(pce).join(emp).dropna()\n",
    "data['real_coe'] = data['A033RC'] / (data['DPCERG'] / data['DPCERG'].iloc[-1])\n",
    "data['coe_inp'] = data['real_coe'] / data['Total']\n",
    "data['wage'] = data['coe_inp'] * data['Total'].iloc[0]\n",
    "data['work'] = data['real_coe'] - data['wage']\n",
    "# Calculate contributions to growth\n",
    "dft = data.diff()\n",
    "dft = dft.div(dft['real_coe'], axis=0)\n",
    "contr = dft.multiply(\n",
    "    (((data['real_coe'].pct_change() + 1) ** 4) - 1) * 100, axis=0)\n",
    "\n",
    "result = contr[['work', 'wage']]"
   ]
  },
  {
   "cell_type": "code",
   "execution_count": null,
   "metadata": {
    "ExecuteTime": {
     "end_time": "2019-10-11T21:20:41.787387Z",
     "start_time": "2019-10-11T21:20:41.780765Z"
    }
   },
   "outputs": [],
   "source": [
    "result.dropna().to_csv(data_dir / 'gli.csv', index_label='date')"
   ]
  },
  {
   "cell_type": "code",
   "execution_count": null,
   "metadata": {},
   "outputs": [],
   "source": []
  },
  {
   "cell_type": "markdown",
   "metadata": {},
   "source": [
    "### Census Population and Age Data"
   ]
  },
  {
   "cell_type": "code",
   "execution_count": null,
   "metadata": {
    "ExecuteTime": {
     "end_time": "2019-10-26T20:08:00.463936Z",
     "start_time": "2019-10-26T20:07:59.801790Z"
    }
   },
   "outputs": [],
   "source": [
    "# Import libraries and adjust settings\n",
    "%matplotlib inline\n",
    "\n",
    "import matplotlib.pyplot as plt\n",
    "from mpl_toolkits.basemap import Basemap\n",
    "from mpl_toolkits.axes_grid1.inset_locator import inset_axes\n",
    "from matplotlib.patches import Polygon\n",
    "from matplotlib.patches import Rectangle\n",
    "from matplotlib.colors import Normalize\n",
    "acsdir = '/home/brian/Documents/ACS/'\n",
    "\n",
    "plt.rc('font', family='Lato')\n",
    "\n",
    "# Match PUMAs to commuter zones (file from Dorn)\n",
    "cz_match = pd.read_stata(acsdir + 'data/cw_puma2010_czone.dta')\n",
    "cz_dict = {cz: [(puma, afactor) \n",
    "                for puma, z, afactor \n",
    "                in cz_match[cz_match['czone'] == cz].values] \n",
    "           for cz in cz_match['czone'].unique()}"
   ]
  },
  {
   "cell_type": "code",
   "execution_count": null,
   "metadata": {
    "ExecuteTime": {
     "end_time": "2019-10-26T20:08:03.968141Z",
     "start_time": "2019-10-26T20:08:01.499457Z"
    }
   },
   "outputs": [],
   "source": [
    "variables = {'DP05_0024E': 'Age 65+',\n",
    "             'DP05_0019E': 'Age 0-17',\n",
    "             'DP03_0114E': 'Other NILF',\n",
    "             'DP05_0001E': 'Total'}\n",
    "srs = ','.join(variables.keys())\n",
    "area = 'for=public%20use%20microdata%20area:*'\n",
    "base = 'https://api.census.gov/data/2018/acs/acs1/profile'\n",
    "url = f'{base}?get={srs}&{area}&key={census_key}'\n",
    "r = requests.get(url)"
   ]
  },
  {
   "cell_type": "code",
   "execution_count": null,
   "metadata": {
    "ExecuteTime": {
     "end_time": "2019-10-26T20:08:06.633465Z",
     "start_time": "2019-10-26T20:08:06.618334Z"
    }
   },
   "outputs": [],
   "source": [
    "df = pd.DataFrame(r.json()[1:])\n",
    "df.columns = r.json()[0]\n",
    "df['PUMA'] = [float(f\"{i[-2]}{i[-1]}\") for i in r.json()[1:]]\n",
    "df = df.set_index('PUMA')[variables.keys()]"
   ]
  },
  {
   "cell_type": "code",
   "execution_count": null,
   "metadata": {
    "ExecuteTime": {
     "end_time": "2019-10-12T23:28:35.948402Z",
     "start_time": "2019-10-12T23:28:33.660718Z"
    }
   },
   "outputs": [],
   "source": [
    "d = {}\n",
    "for cz, puma_list in cz_dict.items(): \n",
    "    pop = 0\n",
    "    u18 = 0\n",
    "    o64 = 0\n",
    "    nlf = 0\n",
    "    for puma, afactor in puma_list:\n",
    "        data = dict(df.loc[puma].astype(int) * afactor)\n",
    "        pop += data['DP05_0001E']\n",
    "        u18 += data['DP05_0019E']\n",
    "        o64 += data['DP05_0024E']\n",
    "        nlf += data['DP03_0114E']\n",
    "    \n",
    "    u18sh = u18 / pop\n",
    "    o64sh = o64 / pop\n",
    "    nlfsh = nlf / pop\n",
    "    results = {'Total': pop, 'Age 0-17': u18sh, 'Age 65+': o64sh, 'NILF': nlfsh}\n",
    "    d[cz] = results"
   ]
  },
  {
   "cell_type": "code",
   "execution_count": null,
   "metadata": {
    "ExecuteTime": {
     "end_time": "2019-10-12T23:34:00.280363Z",
     "start_time": "2019-10-12T23:34:00.234043Z"
    }
   },
   "outputs": [],
   "source": [
    "result = pd.DataFrame(d).T\n",
    "result['Sum'] = result[['Age 0-17', 'Age 65+', 'NILF']].sum(axis=1)\n",
    "maxval = result['Age 0-17'].max()\n",
    "minval = result['Age 0-17'].min()\n",
    "\n",
    "maxval2 = result['Age 65+'].max()\n",
    "minval2 = result['Age 65+'].min()\n",
    "\n",
    "maxval3 = result['NILF'].max()\n",
    "minval3 = result['NILF'].min()"
   ]
  },
  {
   "cell_type": "code",
   "execution_count": null,
   "metadata": {
    "ExecuteTime": {
     "end_time": "2019-10-13T00:55:53.101832Z",
     "start_time": "2019-10-13T00:55:52.692246Z"
    }
   },
   "outputs": [],
   "source": [
    "# Map and legend settings\n",
    "m = Basemap(llcrnrlon=-121, llcrnrlat=20, urcrnrlon=-64, urcrnrlat=49,\n",
    "            projection='lcc', lat_1=33, lat_2=45, lon_0=-95)\n",
    "\n",
    "cmap = plt.cm.Blues\n",
    "norm = Normalize(vmin=minval, vmax=maxval)\n",
    "\n",
    "cmap2 = plt.cm.Greens\n",
    "norm2 = Normalize(vmin=minval2, vmax=maxval2)\n",
    "\n",
    "cmap3 = plt.cm.Greens\n",
    "norm3 = Normalize(vmin=minval3, vmax=maxval3)\n",
    "\n",
    "hi_cz = [35600, 34701, 34703, 34702, 34703]\n",
    "ak_cz = [34101, 34114, 34102, 34112, 34104, 34107, 34115, \n",
    "         34109, 34109, 34102, 34111, 34108, 34107, 34102, \n",
    "         34106, 34113, 34105, 34111, 34110, 34109, 34115, \n",
    "         34103, 34112, 34110, 34115]\n",
    "\n",
    "pts = np.arange(1, 101, 1)\n",
    "pct = (np.percentile(\n",
    "    np.repeat(result['Age 0-17'].values, \n",
    "              result.Total.div(1000).astype(int).values), pts))\n",
    "pct2 = (np.percentile(\n",
    "    np.repeat(result['Age 65+'].values, \n",
    "              result.Total.div(1000).astype(int).values), pts))\n",
    "pct3 = (np.percentile(\n",
    "    np.repeat(result['NILF'].values, \n",
    "              result.Total.div(1000).astype(int).values), pts))\n",
    "\n",
    "max_val = f'{maxval * 100:.1f}%'\n",
    "min_val = f'{minval * 100:.1f}%'\n",
    "\n",
    "max_val2 = f'{maxval2 * 100:.1f}%'\n",
    "min_val2 = f'{minval2 * 100:.1f}%'\n",
    "\n",
    "max_val3 = f'{maxval3 * 100:.1f}%'\n",
    "min_val3 = f'{minval3 * 100:.1f}%'"
   ]
  },
  {
   "cell_type": "code",
   "execution_count": null,
   "metadata": {
    "ExecuteTime": {
     "end_time": "2019-10-13T01:45:46.308858Z",
     "start_time": "2019-10-13T01:45:44.477486Z"
    }
   },
   "outputs": [],
   "source": [
    "# Draw map\n",
    "fig = plt.figure(figsize=(5.0,2.5))\n",
    "\n",
    "m.drawmapboundary()\n",
    "m.readshapefile(acsdir + 'shapefiles/cz1990', 'cz', drawbounds=False)\n",
    "\n",
    "ax = plt.gca()\n",
    "\n",
    "for info, shape in zip(m.cz_info, m.cz):\n",
    "    fc = cmap(norm(d[info['cz']]['Age 0-17']))\n",
    "    fc2 = cmap2(norm2(d[info['cz']]['Age 65+']))\n",
    "    fc3 = cmap3(norm3(d[info['cz']]['NILF']))\n",
    "    if info['cz'] in hi_cz:\n",
    "        shape = [[x + 5200000, y - 1400000] for x, y in shape]\n",
    "    elif info['cz'] in ak_cz:\n",
    "        shape = [(x * 0.34 + 1280000, \n",
    "                  y * 0.34 - 1300000) for x, y in shape]\n",
    "    #ax.add_patch(Polygon(shape, fc=fc))\n",
    "    ax.add_patch(Polygon(shape, fc=fc2))\n",
    "    #ax.add_patch(Polygon(shape, fc=fc3))\n",
    "\n",
    "ax.axis('off')    \n",
    "\n",
    "ax_inset = inset_axes(ax, width='-10%', height='50%', loc=4, borderpad=1.8) \n",
    "for i, pt in enumerate(pct2):\n",
    "    rect = Rectangle(xy=(pt, i / 100), width=-pt, height=0.1, \n",
    "                     fc=cmap2(norm2(pt)), ec=None)\n",
    "    ax_inset.add_patch(rect)    \n",
    "\n",
    "ax_inset.text(0.6, 1.05, max_val2, fontsize=7)\n",
    "ax_inset.text(0.6, -0.12, min_val2, fontsize=7)\n",
    "ax_inset.axis('off')\n",
    "plt.savefig(data_dir / 'over64pop.pgf', bbox_inches='tight')"
   ]
  },
  {
   "cell_type": "code",
   "execution_count": null,
   "metadata": {},
   "outputs": [],
   "source": []
  },
  {
   "cell_type": "code",
   "execution_count": null,
   "metadata": {},
   "outputs": [],
   "source": []
  },
  {
   "cell_type": "code",
   "execution_count": null,
   "metadata": {},
   "outputs": [],
   "source": [
    "variables = {'DP05_0024E': 'Age 65+',\n",
    "             'DP05_0019E': 'Age 0-17',\n",
    "             'DP03_0114E': 'Other NILF',\n",
    "             'DP05_0001E': 'Total'}\n",
    "srs = ','.join(variables.keys())\n",
    "area = 'for=public%20use%20microdata%20area:*'\n",
    "base = 'https://api.census.gov/data/2018/acs/acs1/profile'\n",
    "url = f'{base}?get={srs}&{area}&key={census_key}'\n",
    "r = requests.get(url)"
   ]
  },
  {
   "cell_type": "code",
   "execution_count": null,
   "metadata": {
    "ExecuteTime": {
     "end_time": "2019-10-13T10:40:35.224291Z",
     "start_time": "2019-10-13T10:40:35.221860Z"
    }
   },
   "outputs": [],
   "source": [
    "url = f'https://api.census.gov/data/timeseries/eits/resconst?get=geo_level_code,data_type_code,time_slot_id,seasonally_adj,category_code,cell_value,error_data&time=2012&key={census_key}'"
   ]
  },
  {
   "cell_type": "code",
   "execution_count": null,
   "metadata": {
    "ExecuteTime": {
     "end_time": "2019-10-13T10:40:37.370470Z",
     "start_time": "2019-10-13T10:40:36.405530Z"
    }
   },
   "outputs": [],
   "source": [
    "r = requests.get(url)"
   ]
  }
 ],
 "metadata": {
  "kernelspec": {
   "display_name": "Python 3",
   "language": "python",
   "name": "python3"
  },
  "language_info": {
   "codemirror_mode": {
    "name": "ipython",
    "version": 3
   },
   "file_extension": ".py",
   "mimetype": "text/x-python",
   "name": "python",
   "nbconvert_exporter": "python",
   "pygments_lexer": "ipython3",
   "version": "3.7.4"
  }
 },
 "nbformat": 4,
 "nbformat_minor": 2
}
