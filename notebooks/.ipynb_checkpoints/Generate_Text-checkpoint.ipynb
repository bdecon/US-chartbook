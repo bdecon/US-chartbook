{
 "cells": [
  {
   "cell_type": "code",
   "execution_count": 1,
   "metadata": {
    "ExecuteTime": {
     "end_time": "2019-11-15T01:24:35.137497Z",
     "start_time": "2019-11-15T01:24:34.910161Z"
    }
   },
   "outputs": [],
   "source": [
    "import sys\n",
    "sys.path.append('../src')\n",
    "\n",
    "import uschartbook.config\n",
    "\n",
    "from uschartbook.config import *\n",
    "from uschartbook.utils import *\n",
    "\n",
    "qtrs = {1: 'first', 2: 'second', 3: 'third', 4: 'fourth'}\n",
    "\n",
    "qtrsrm = {'I': 1, 'II': 2, 'III': 3, 'IV': 4}"
   ]
  },
  {
   "cell_type": "code",
   "execution_count": 2,
   "metadata": {
    "ExecuteTime": {
     "end_time": "2019-11-01T00:32:21.122054Z",
     "start_time": "2019-11-01T00:32:21.076562Z"
    }
   },
   "outputs": [],
   "source": [
    "s = ['A939RC', 'A939RX']\n",
    "\n",
    "df = nipa_df(retrieve_table('T70100')['Data'], s)\n",
    "df['value'] = (df['A939RX'] / df['A939RX'].iloc[-1])  * df['A939RC'].iloc[-1]\n",
    "\n",
    "cd_gdp = (nipa_df(retrieve_table('T10105')['Data'], ['A191RC'])\n",
    "          .sort_index().iloc[-1].values[0])\n",
    "\n",
    "rgdp = nipa_df(retrieve_table('T10106')['Data'], ['A191RX']).sort_index()\n",
    "rgdp_cd = rgdp / rgdp.iloc[-1] * cd_gdp"
   ]
  },
  {
   "cell_type": "code",
   "execution_count": 6,
   "metadata": {
    "ExecuteTime": {
     "end_time": "2019-11-01T00:32:23.435480Z",
     "start_time": "2019-11-01T00:32:23.430495Z"
    }
   },
   "outputs": [
    {
     "name": "stdout",
     "output_type": "stream",
     "text": [
      "\\begin{minipage}{0.61\\textwidth}\n",
      "\\small This analysis of the United States economy begins with the most popular measure of economic activity, \\href{https://www.bea.gov/data/gdp/gross-domestic-product}{Gross Domestic Product} (GDP). According to the Bureau of Economic Analysis, GDP--the seasonally-adjusted annualized value of goods and services produced in the US--was \\$21,734 billion in the fourth quarter of 2019, compared to an inflation-adjusted equivalent of \\$9,866 billion in the first quarter of 1989.\\\\\n",
      "\n",
      "The US population is growing by about sixth-tenths of a percent per year. GDP per capita (see {\\color{blue}\\textbf{---}} ), adjusted for inflation to 2019 Q4 dollars, has increased to \\$66,024 in 2019 Q4 from \\$40,401 in 1989 Q1. \\\\\n",
      "\\end{minipage}\\hfill\n",
      "\\begin{minipage}{0.34\\textwidth}\n",
      "\\noindent \\normalsize \\textbf{GDP per capita}\\\\\n",
      "\\footnotesize{\\textit{in 2019 Q4 dollars}}\\\\* \n",
      "\\noindent \\begin{tikzpicture}\n",
      "    \\begin{axis}[\\dateaxisticks clip=false, height=4.2cm, width=5.8cm,\n",
      "            ytick={40000,50000,60000}, yticklabels={40, 50, \\$60k},\n",
      "            xtick={{1989-01-01}, {2000-01-01}, {2010-01-01}, {2019-04-01}},\n",
      "        minor xtick={}, \n",
      "        xticklabels={`89, `00, `10, `19 Q4}, enlarge y limits={lower, 0.3}, \n",
      "        enlarge x limits={0.05}]\n",
      "    \\stdline{blue}{date}{value}{data/gdppc.csv}\n",
      "    \\node[label={90:{\\$66,024}}, circle, blue, fill, inner sep=1.5pt] at \n",
      "        (axis cs:2019-10-01,66024) {};\n",
      "    \\end{axis}\n",
      "\\end{tikzpicture}\\\\\n",
      "\\footnotesize{Source: Bureau of Economic Analysis} \\\\\n",
      "\\end{minipage}\n"
     ]
    }
   ],
   "source": [
    "year = df.index[-1].year\n",
    "q = df.index[-1].quarter\n",
    "text_date = f'{year} Q{q}'\n",
    "date = df.index[-1].strftime('%Y-%m-%d')\n",
    "gdp_val = int(rgdp_cd.iloc[-1].values[0] / 1000)\n",
    "gdp_prv_val = int(rgdp_cd.iloc[0].values[0] / 1000)\n",
    "gdppc_val = int(df.iloc[-1].loc['value'])\n",
    "gdppc_prv_val = int(df.iloc[0].loc['value'])\n",
    "ldate = dtxt(df.index[-1])['qtr4']\n",
    "\n",
    "f = text_dir.joinpath('gdp.txt')\n",
    "\n",
    "text = [r'\\begin{minipage}{0.61\\textwidth}',\n",
    "f'\\small This analysis of the United States economy begins with the most popular measure of economic activity, \\href{{https://www.bea.gov/data/gdp/gross-domestic-product}}{{Gross Domestic Product}} (GDP). According to the Bureau of Economic Analysis, GDP--the seasonally-adjusted annualized value of goods and services produced in the US--was \\${gdp_val:,} billion in the {qtrs[q]} quarter of {year}, compared to an inflation-adjusted equivalent of \\${gdp_prv_val:,} billion in the first quarter of 1989.\\\\\\\\',\n",
    "r'',\n",
    "r'The US population is growing by about sixth-tenths of a percent per year. GDP per capita (see {\\color{blue}\\textbf{---}} ), adjusted for inflation to ' + text_date + r' dollars, has increased to ' + f'\\${gdppc_val:,} in {text_date} from \\${gdppc_prv_val:,} in 1989 Q1. \\\\\\\\',\n",
    "r'\\end{minipage}\\hfill',\n",
    "r'\\begin{minipage}{0.34\\textwidth}',\n",
    "r'\\noindent \\normalsize \\textbf{GDP per capita}\\\\',\n",
    "r'\\footnotesize{\\textit{in ' + text_date + r' dollars}}\\\\* ',\n",
    "r'\\noindent \\begin{tikzpicture}',\n",
    "r'    \\begin{axis}[\\dateaxisticks clip=false, height=4.2cm, width=5.8cm,',\n",
    "r'            ytick={40000,50000,60000}, yticklabels={40, 50, \\$60k},',\n",
    "r'            xtick={{1989-01-01}, {2000-01-01}, {2010-01-01}, {2019-04-01}},',\n",
    "r'        minor xtick={}, ',\n",
    "f\"        xticklabels={{`89, `00, `10, {ldate}}}, enlarge y limits={{lower, 0.3}}, \",\n",
    "r'        enlarge x limits={0.05}]',\n",
    "r'    \\stdline{blue}{date}{value}{data/gdppc.csv}',\n",
    "r'    \\node[label={90:{\\$'+ f'{gdppc_val:,}' + r'}}, circle, blue, fill, inner sep=1.5pt] at ',\n",
    "f'        (axis cs:{date},{gdppc_val})' + r' {};',\n",
    "r'    \\end{axis}',\n",
    "r'\\end{tikzpicture}\\\\',\n",
    "r'\\footnotesize{Source: Bureau of Economic Analysis} \\\\',\n",
    "r'\\end{minipage}']\n",
    "\n",
    "with f.open('w') as wf:\n",
    "    for t in text:\n",
    "        print(t)\n",
    "        wf.write(t + '\\n')"
   ]
  },
  {
   "cell_type": "code",
   "execution_count": null,
   "metadata": {},
   "outputs": [],
   "source": []
  },
  {
   "cell_type": "code",
   "execution_count": 7,
   "metadata": {
    "ExecuteTime": {
     "end_time": "2019-11-01T00:32:30.737892Z",
     "start_time": "2019-11-01T00:32:30.692273Z"
    }
   },
   "outputs": [],
   "source": [
    "f = text_dir.joinpath('gdp_gr.txt')\n",
    "\n",
    "gdp_gr = nipa_df(retrieve_table('T10502')['Data'], ['A191RL']).sort_index()\n",
    "year = gdp_gr.index[-1].year\n",
    "year_p = gdp_gr.index[-2].year\n",
    "q = gdp_gr.index[-1].quarter\n",
    "qp = gdp_gr.index[-2].quarter\n",
    "text_date = f'{year} Q{q}'\n",
    "date = gdp_gr.index[-1].strftime('%Y-%m-%d')\n",
    "gr = gdp_gr.iloc[-1].values[0]\n",
    "if gr >= 0:\n",
    "    inc_dec = 'increased'\n",
    "else:\n",
    "    inc_dec = 'decreased'\n",
    "    \n",
    "gr_p = gdp_gr.iloc[-2].values[0]\n",
    "if gr_p >= 0:\n",
    "    inc_dec_p = 'an increase'\n",
    "else:\n",
    "    inc_dec_p = 'a decrease'\n",
    "    \n",
    "gr_3 = round(gdp_gr.iloc[-13:].values.mean(), 1)\n",
    "gr_10 = round(gdp_gr.iloc[-41:].values.mean(), 1)\n",
    "gr_30 = round(gdp_gr.iloc[-121:].values.mean(), 1)"
   ]
  },
  {
   "cell_type": "code",
   "execution_count": 9,
   "metadata": {
    "ExecuteTime": {
     "end_time": "2019-11-01T00:32:31.992552Z",
     "start_time": "2019-11-01T00:32:31.988157Z"
    }
   },
   "outputs": [
    {
     "name": "stdout",
     "output_type": "stream",
     "text": [
      "increased at an annual rate of 2.1 percent during the fourth quarter of 2019, compared to an increase of 2.1 percent in the third quarter of 2019. Quarterly growth has averaged 2.5 percent over the past three years, 2.3 percent over the past 10 years, and 2.5 percent over the past 30 years. \n"
     ]
    }
   ],
   "source": [
    "gdpg = [f'{inc_dec} at an annual rate of {gr} percent during the {qtrs[q]} quarter of {year}, compared to {inc_dec_p} of {gr_p} percent in the {qtrs[qp]} quarter of {year_p}. Quarterly growth has averaged {gr_3} percent over the past three years, {gr_10} percent over the past 10 years, and {gr_30} percent over the past 30 years. ']\n",
    "\n",
    "f = text_dir.joinpath('gdp_gr.txt')\n",
    "with f.open('w') as wf:\n",
    "    for t in gdpg:\n",
    "        print(t)\n",
    "        wf.write(t + '\\n')"
   ]
  },
  {
   "cell_type": "code",
   "execution_count": null,
   "metadata": {},
   "outputs": [],
   "source": []
  },
  {
   "cell_type": "code",
   "execution_count": null,
   "metadata": {},
   "outputs": [],
   "source": []
  },
  {
   "cell_type": "code",
   "execution_count": null,
   "metadata": {},
   "outputs": [],
   "source": []
  },
  {
   "cell_type": "markdown",
   "metadata": {
    "ExecuteTime": {
     "end_time": "2019-10-11T19:06:59.777198Z",
     "start_time": "2019-10-11T19:06:59.746141Z"
    }
   },
   "source": [
    "### Simple text for cpi"
   ]
  },
  {
   "cell_type": "code",
   "execution_count": 2,
   "metadata": {
    "ExecuteTime": {
     "end_time": "2019-11-15T01:24:39.792469Z",
     "start_time": "2019-11-15T01:24:39.770784Z"
    }
   },
   "outputs": [],
   "source": [
    "s = pd.read_csv(data_dir / 'cpi.csv')#, parse_dates=['date']).set_index('date')"
   ]
  },
  {
   "cell_type": "code",
   "execution_count": 3,
   "metadata": {
    "ExecuteTime": {
     "end_time": "2019-11-15T01:24:40.615796Z",
     "start_time": "2019-11-15T01:24:40.610048Z"
    }
   },
   "outputs": [],
   "source": [
    "s = pd.read_csv(data_dir / 'cpi.csv')\n",
    "date = pd.to_datetime(s['date'].iloc[-1]).strftime('%B %Y')\n",
    "core = s['CORE'].iloc[-1]\n",
    "allitems = s['ALL'].iloc[-1]\n",
    "\n",
    "text = ('\\href{https://www.bls.gov/cpi/}{Consumer prices} increased by '+\n",
    "        f'{allitems:.1f} percent over the year ending {date}, according '+\n",
    "        'to the CPI for all urban consumers. Core inflation, which does '+\n",
    "        'not include the more volatile food and energy prices, was '+\n",
    "        f'{core:.1f} percent.')\n",
    "\n",
    "write_txt(text_dir / 'cpi_main.txt', text)"
   ]
  },
  {
   "cell_type": "code",
   "execution_count": 4,
   "metadata": {
    "ExecuteTime": {
     "end_time": "2019-11-15T01:24:41.327585Z",
     "start_time": "2019-11-15T01:24:41.320831Z"
    }
   },
   "outputs": [],
   "source": [
    "text = ('\\href{https://www.bls.gov/cpi/}{Consumer prices} increased by '+\n",
    "        f'{allitems:.1f} percent over the year ending {date}, according '+\n",
    "        'to the CPI for all urban consumers. Core inflation, which does '+\n",
    "        'not include the more volatile food and energy prices, was '+\n",
    "        f'{core:.1f} percent.')\n",
    "\n",
    "write_txt(text_dir / 'cpi_main.txt', text)"
   ]
  },
  {
   "cell_type": "code",
   "execution_count": null,
   "metadata": {},
   "outputs": [],
   "source": []
  }
 ],
 "metadata": {
  "kernelspec": {
   "display_name": "Python 3",
   "language": "python",
   "name": "python3"
  },
  "language_info": {
   "codemirror_mode": {
    "name": "ipython",
    "version": 3
   },
   "file_extension": ".py",
   "mimetype": "text/x-python",
   "name": "python",
   "nbconvert_exporter": "python",
   "pygments_lexer": "ipython3",
   "version": "3.8.1"
  }
 },
 "nbformat": 4,
 "nbformat_minor": 2
}
