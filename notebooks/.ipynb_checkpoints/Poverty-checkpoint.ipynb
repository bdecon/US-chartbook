{
 "cells": [
  {
   "cell_type": "markdown",
   "metadata": {},
   "source": [
    "### Who are the poor?\n",
    "\n",
    "Attempt to replicate excellent chart by Matt Bruenig\n",
    "\n",
    "----\n",
    "\n",
    "Source: CPS ASEC\n",
    "\n",
    "Variables:\n",
    "\n",
    "- Person record:       PRECORD\n",
    "- Age:                 A_AGE\n",
    "- Person weight:       MARSUPWT \n",
    "- Poverty status:      PERLIS\n",
    "- Why not full-year:   PYRSN\n",
    "- Why not employed:    RSNNOTW\n",
    "- Disability:          PRDISFLG\n",
    "- Weeks unemployed:    WEUEMP\n",
    "- Full-year worker:    WEUEMP\n",
    "\n",
    "[Data dictionary](https://thedataweb.rm.census.gov/pub/cps/march/06_ASEC_2019-Data_Dictionary_Full.pdf)"
   ]
  },
  {
   "cell_type": "code",
   "execution_count": 1,
   "metadata": {},
   "outputs": [],
   "source": [
    "import sys\n",
    "sys.path.append('../src')\n",
    "\n",
    "import requests\n",
    "\n",
    "import uschartbook.config\n",
    "\n",
    "from uschartbook.config import *\n",
    "from uschartbook.utils import *"
   ]
  },
  {
   "cell_type": "code",
   "execution_count": 2,
   "metadata": {},
   "outputs": [],
   "source": [
    "# Extract person records for selected variables\n",
    "variables = ['PRECORD', 'A_AGE', 'MARSUPWT', 'A_LFSR', 'PERLIS', \n",
    "             'PRDISFLG', 'WEUEMP', 'RSNNOTW', 'PYRSN']\n",
    "\n",
    "path = '/home/brian/Documents/ASEC/'\n",
    "\n",
    "dictfile = f'{path}/data/persfmt.txt'\n",
    "dd = open(dictfile).read()\n",
    "p = f'({\"|\".join(variables)})\\s+(\\d+)\\s+(\\d+)\\s'\n",
    "cols = {name: (int(start) - 1, int(start) - 1 + int(length)) \n",
    "        for name, length, start in re.findall(p, dd)}\n",
    "\n",
    "datafile = f'{path}/data/asec2019_pubuse.dat'\n",
    "df = (pd.read_fwf(datafile, \n",
    "                  colspecs=list(cols.values()), \n",
    "                  header=None, \n",
    "                  names=cols.keys())\n",
    "        .query('PRECORD == 3 and MARSUPWT > 0'))"
   ]
  },
  {
   "cell_type": "code",
   "execution_count": 3,
   "metadata": {},
   "outputs": [],
   "source": [
    "# Categorize population\n",
    "df['CAT'] = (np.where(df.A_AGE < 18, 'Children', \n",
    "             np.where(df.A_AGE > 64, 'Elderly', \n",
    "             np.where(((df.PRDISFLG == 1) | (df.PYRSN == 1) | (df.RSNNOTW == 1)), 'Disabled', \n",
    "             np.where(((df.PYRSN == 3) | (df.RSNNOTW == 4)), 'Student', \n",
    "             np.where(((df.PYRSN == 2) | (df.RSNNOTW == 3)), 'Carers',\n",
    "             np.where(((df.PYRSN == 4) | (df.RSNNOTW == 2)), 'Early Retired',  \n",
    "             np.where(((df.PYRSN == 5) | (df.RSNNOTW == 5) | (df.WEUEMP.isin([2, 3, 4, 5, 6, 7]))), 'Unemployed',\n",
    "             np.where(df.WEUEMP == 8, 'Fully Employed', 'All Other')))))))))\n",
    "\n",
    "df['POVERTY'] = np.where(df['PERLIS'] == 1, 1, 0)"
   ]
  },
  {
   "cell_type": "code",
   "execution_count": 4,
   "metadata": {},
   "outputs": [
    {
     "name": "stdout",
     "output_type": "stream",
     "text": [
      "CAT\n",
      "Children          32.022004\n",
      "Disabled          15.609597\n",
      "Elderly           13.313400\n",
      "Fully Employed     9.827651\n",
      "Carers             8.254535\n",
      "Student            6.206497\n",
      "All Other          5.878308\n",
      "Unemployed         5.699014\n",
      "Early Retired      3.188996\n",
      "Name: MARSUPWT, dtype: float64\n"
     ]
    }
   ],
   "source": [
    "# Only below poverty line\n",
    "data = df.query('POVERTY == 1')\n",
    "\n",
    "# Group share of total\n",
    "result = (data.groupby('CAT').MARSUPWT.sum() / \n",
    "          data.MARSUPWT.sum() * 100).sort_values(ascending=False)\n",
    "result.to_csv(data_dir / 'poor.csv', index_label='name', header=True)\n",
    "\n",
    "print(result)"
   ]
  },
  {
   "cell_type": "code",
   "execution_count": 5,
   "metadata": {},
   "outputs": [
    {
     "name": "stdout",
     "output_type": "stream",
     "text": [
      "CAT\n",
      "Children          16.773802\n",
      "Disabled          28.850774\n",
      "Elderly            9.748823\n",
      "Fully Employed     3.108906\n",
      "Carers            26.063815\n",
      "Student           26.014633\n",
      "All Other         13.656449\n",
      "Unemployed        20.970621\n",
      "Early Retired     20.329840\n",
      "dtype: float64\n"
     ]
    }
   ],
   "source": [
    "# Poverty rate of each group\n",
    "result2 = (df.groupby('CAT')\n",
    "             .apply(lambda x: np.average(x['POVERTY'], \n",
    "                                         weights=x['MARSUPWT']))\n",
    "           * 100).loc[result.index]\n",
    "\n",
    "result2.to_csv(data_dir / 'poor2.csv', index_label='name', header=True)\n",
    "\n",
    "print(result2)"
   ]
  },
  {
   "cell_type": "code",
   "execution_count": null,
   "metadata": {},
   "outputs": [],
   "source": []
  }
 ],
 "metadata": {
  "kernelspec": {
   "display_name": "Python 3",
   "language": "python",
   "name": "python3"
  },
  "language_info": {
   "codemirror_mode": {
    "name": "ipython",
    "version": 3
   },
   "file_extension": ".py",
   "mimetype": "text/x-python",
   "name": "python",
   "nbconvert_exporter": "python",
   "pygments_lexer": "ipython3",
   "version": "3.7.5"
  }
 },
 "nbformat": 4,
 "nbformat_minor": 2
}
