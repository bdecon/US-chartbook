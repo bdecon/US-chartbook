{
 "cells": [
  {
   "cell_type": "markdown",
   "id": "4ebfe9c6",
   "metadata": {
    "ExecuteTime": {
     "end_time": "2022-02-28T21:31:42.262609Z",
     "start_time": "2022-02-28T21:31:42.260323Z"
    }
   },
   "source": [
    "### Health Data"
   ]
  },
  {
   "cell_type": "code",
   "execution_count": 1,
   "id": "bc619c03",
   "metadata": {
    "ExecuteTime": {
     "end_time": "2022-03-18T23:05:15.261082Z",
     "start_time": "2022-03-18T23:05:14.588432Z"
    }
   },
   "outputs": [],
   "source": [
    "import sys\n",
    "sys.path.append('../src')\n",
    "\n",
    "import uschartbook.config\n",
    "\n",
    "from uschartbook.config import *\n",
    "from uschartbook.utils import *"
   ]
  },
  {
   "cell_type": "markdown",
   "id": "987f0dc4",
   "metadata": {},
   "source": [
    "### Life Expectancy at Birth"
   ]
  },
  {
   "cell_type": "code",
   "execution_count": 2,
   "id": "a9c7d359",
   "metadata": {
    "ExecuteTime": {
     "end_time": "2022-03-18T23:05:15.775092Z",
     "start_time": "2022-03-18T23:05:15.262206Z"
    }
   },
   "outputs": [],
   "source": [
    "url = 'https://data.cdc.gov/resource/w9j2-ggv5.json'\n",
    "r = requests.get(url)\n",
    "df = pd.DataFrame(r.json())\n",
    "date = lambda x: pd.to_datetime(f'{x}-07-01')\n",
    "df['date'] = df['year'].apply(date)\n",
    "df = (df.set_index('date')\n",
    "        .pivot(columns=['race', 'sex'], \n",
    "               values=['average_life_expectancy']))\n",
    "df.columns = df.columns.to_series().str.join('_')\n",
    "df.to_csv(data_dir / 'cdc_life_exp_raw.csv', \n",
    "          index_label='date')"
   ]
  },
  {
   "cell_type": "code",
   "execution_count": 3,
   "id": "3bed3f8e",
   "metadata": {
    "ExecuteTime": {
     "end_time": "2022-03-18T23:05:15.794094Z",
     "start_time": "2022-03-18T23:05:15.776263Z"
    },
    "scrolled": true
   },
   "outputs": [
    {
     "name": "stdout",
     "output_type": "stream",
     "text": [
      "\\textbf{{Life expectancy}} at birth summarizes the health and mortality of a population. The measure indicates the number of years a newborn is expected to live if mortality rates do not change. Life expectancy estimates are \\href{https://www.cdc.gov/nchs/nvss/life-expectancy.htm}{produced} by the National Center for Health Statistics. \n",
      "\n",
      "In 2018, US life expectancy at birth is 78.7 years (see {\\color{cyan}\\textbf{---}}), a decrease of 0.2 years years since 2014, but an increase of 3.6 years years since 1989. Life expectancy for men is 76.2 years in 2018, compared to 76.5 years in 2014 and 71.7 years in 1989 (see {\\color{purple}\\textbf{---}}). Women born in 2018 are expected to live 81.2 years, based on current mortality rates, compared to estimates of 81.3 years for 2014 and 78.5 years for 1989 (see {\\color{blue!80!black}\\textbf{---}}).\n",
      "\n",
      "Falling life expectancy from 2014 to 2018 is generally associated with increased overdose deaths and the opioid epidemic. Life expectancy fell further during the COVID-19 pandemic, \\href{https://www.cdc.gov/nchs/data/vsrr/VSRR10-508.pdf}{according} to early estimates. \n"
     ]
    }
   ],
   "source": [
    "df = pd.read_csv(data_dir / 'cdc_life_exp_raw.csv', \n",
    "                 index_col='date', parse_dates=True)\n",
    "data = df.iloc[:, :3]\n",
    "rn = {'average_life_expectancy_All Races_Both Sexes': 'Total', \n",
    "      'average_life_expectancy_All Races_Female': 'Women', \n",
    "      'average_life_expectancy_All Races_Male': 'Men'}\n",
    "\n",
    "data = data.rename(rn, axis=1).loc['1989':]\n",
    "data.to_csv(data_dir / 'life_exp.csv', index_label='date')\n",
    "wcol = 'blue!80!black'\n",
    "mcol = 'purple'\n",
    "tcol = 'cyan'\n",
    "grps = [('Total', tcol, None), ('Men', mcol, None), \n",
    "        ('Women', wcol, 'y')]\n",
    "nodes = ('\\n'.join([end_node(data[name], color, date=date, size=1.2,\n",
    "                             full_year=True, colon=False) \n",
    "                    for name, color, date in grps]))\n",
    "write_txt(text_dir / 'life_exp_node.txt', nodes)\n",
    "url = 'https://www.cdc.gov/nchs/nvss/life-expectancy.htm'\n",
    "ltdt = dtxt(data.index[-1])['year']\n",
    "lttval = data.Total.iloc[-1]\n",
    "prtval = data.loc['2014-07-01', ['Total']]\n",
    "chtval = (lttval - prtval)\n",
    "chttxt = value_text(chtval['Total'], 'increase_of', None) + ' years'\n",
    "if chtval['Total'].round(1) == 0:\n",
    "    chttxt = 'unchanged'\n",
    "prtval2 = data.loc['1989-07-01', ['Total']]\n",
    "chtval2 = (lttval - prtval2)\n",
    "chttxt2 = value_text(chtval2['Total'], 'increase_of', None) + ' years'\n",
    "if chtval2['Total'].round(1) == 0:\n",
    "    chttxt2 = 'unchanged'\n",
    "ab = ('and' if np.sign(chtval['Total']) == np.sign(chtval2['Total']) \n",
    "      else 'but')\n",
    "ltmval = data.Men.iloc[-1]\n",
    "prmval = data.loc['2014-07-01', 'Men']\n",
    "prmval2 = data.loc['1989-07-01', 'Men']\n",
    "ltwval = data.Women.iloc[-1]\n",
    "prwval = data.loc['2014-07-01', 'Women']\n",
    "prwval2 = data.loc['1989-07-01', 'Women']\n",
    "url2 = 'https://www.cdc.gov/nchs/data/vsrr/VSRR10-508.pdf'\n",
    "txt1 = ('\\\\textbf{{Life expectancy}} at birth summarizes '+\n",
    "        'the health and mortality of a population. The '+\n",
    "        'measure indicates the number of years a newborn is '+\n",
    "        'expected to live if mortality rates do not change. '+\n",
    "        f'Life expectancy estimates are \\href{{{url}}}'+\n",
    "        '{produced} by the National Center for Health '+\n",
    "        'Statistics.')\n",
    "write_txt(text_dir / 'life_exp.txt', txt1)\n",
    "print(txt1, '\\n')\n",
    "txt2 = (f'In {ltdt}, US life expectancy '+\n",
    "        f'at birth is {lttval:.1f} years {c_line(tcol)}, '+\n",
    "        f'{chttxt} years since 2014, {ab} {chttxt2} years '+\n",
    "        f'since 1989. Life expectancy for men is {ltmval:.1f} '+\n",
    "        f'years in {ltdt}, compared to {prmval:.1f} years '+\n",
    "        f'in 2014 and {prmval2:.1f} years in 1989 '+\n",
    "        f'{c_line(mcol)}. Women born in {ltdt} are expected '+\n",
    "        f'to live {ltwval:.1f} years, based on current '+\n",
    "        f'mortality rates, compared to estimates of '+\n",
    "        f'{prwval:.1f} years for 2014 and {prwval2:.1f} years '+\n",
    "        f'for 1989 {c_line(wcol)}.\\n\\nFalling life expectancy '+\n",
    "        'from 2014 to 2018 is generally associated with '+\n",
    "        'increased overdose deaths and the opioid epidemic. '+\n",
    "        'Life expectancy fell further during the COVID-19 '+\n",
    "        f'pandemic, \\href{{{url2}}}{{according}} to early '+\n",
    "        'estimates. ')\n",
    "write_txt(text_dir / 'life_exp2.txt', txt2)\n",
    "print(txt2)"
   ]
  },
  {
   "cell_type": "code",
   "execution_count": null,
   "id": "4d9dba77",
   "metadata": {},
   "outputs": [],
   "source": []
  },
  {
   "cell_type": "code",
   "execution_count": null,
   "id": "52d2715f",
   "metadata": {},
   "outputs": [],
   "source": []
  }
 ],
 "metadata": {
  "kernelspec": {
   "display_name": "Python 3",
   "language": "python",
   "name": "python3"
  },
  "language_info": {
   "codemirror_mode": {
    "name": "ipython",
    "version": 3
   },
   "file_extension": ".py",
   "mimetype": "text/x-python",
   "name": "python",
   "nbconvert_exporter": "python",
   "pygments_lexer": "ipython3",
   "version": "3.8.8"
  }
 },
 "nbformat": 4,
 "nbformat_minor": 5
}
