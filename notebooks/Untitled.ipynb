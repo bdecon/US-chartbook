{
 "cells": [
  {
   "cell_type": "code",
   "execution_count": 2,
   "metadata": {
    "ExecuteTime": {
     "end_time": "2019-11-12T01:12:00.313264Z",
     "start_time": "2019-11-12T01:12:00.045785Z"
    }
   },
   "outputs": [],
   "source": [
    "import pandas as pd\n",
    "import numpy as np"
   ]
  },
  {
   "cell_type": "code",
   "execution_count": null,
   "metadata": {},
   "outputs": [],
   "source": []
  },
  {
   "cell_type": "code",
   "execution_count": null,
   "metadata": {},
   "outputs": [],
   "source": []
  },
  {
   "cell_type": "code",
   "execution_count": 3,
   "metadata": {
    "ExecuteTime": {
     "end_time": "2019-11-12T01:12:02.352998Z",
     "start_time": "2019-11-12T01:12:02.333112Z"
    }
   },
   "outputs": [],
   "source": [
    "def binned_wage(group, wage_var='WKWAGE', percentile=0.1, bins=list(np.arange(25, 3000, 50.0)), bin_size=50.0):\n",
    "    \"\"\"Return BLS-styled binned decile/percentile wage\"\"\"\n",
    "    \n",
    "    import pandas as pd\n",
    "    import numpy as np\n",
    "    \n",
    "    # Use ORG weight since wage defined only for ORG sample\n",
    "    weight = 'PWORWGT'\n",
    "    \n",
    "    # Cut wage series according to bins of bin_size\n",
    "    bin_cut = lambda x: pd.cut(x[wage_var], bins, include_lowest=True)\n",
    "    \n",
    "    # Calculate cumulative sum for weight variable\n",
    "    cum_sum = lambda x: x[weight].cumsum()\n",
    "    \n",
    "    # Sort wages then apply bin_cut and cum_sum\n",
    "    df = (group.sort_values(wage_var)\n",
    "               .assign(WAGE_BIN = bin_cut, CS = cum_sum))\n",
    "    \n",
    "    # Find the weight at the percentile of interest\n",
    "    pct_wgt = df[weight].sum() * percentile\n",
    "\n",
    "    # Find wage bin for person nearest to weighted percentile\n",
    "    pct_bin = df.iloc[df['CS'].searchsorted(pct_wgt)].WAGE_BIN\n",
    "    \n",
    "    # Weight at bottom and top of bin\n",
    "    wgt_btm, wgt_top = (df.loc[df['WAGE_BIN'] == pct_bin, 'CS']\n",
    "                          .iloc[[0, -1]].values)\n",
    "    \n",
    "    # Find where in the bin the percentile is and return that value\n",
    "    pct_value = ((((pct_wgt - wgt_btm) / \n",
    "                   (wgt_top - wgt_btm)) * bin_size) + pct_bin.left)\n",
    "    \n",
    "    return pct_value"
   ]
  },
  {
   "cell_type": "code",
   "execution_count": 14,
   "metadata": {
    "ExecuteTime": {
     "end_time": "2019-11-12T01:18:46.131122Z",
     "start_time": "2019-11-12T01:18:42.810753Z"
    }
   },
   "outputs": [],
   "source": [
    "path = '/home/brian/Documents/CPS/data/clean'\n",
    "data1, data2 = pd.Series(), pd.Series()\n",
    "columns = ['MONTH', 'YEAR', 'AGE', 'PWORWGT', 'WKWAGE', 'HRSUSL1']\n",
    "for year in range(1989, 2020):\n",
    "    df = (pd.read_feather(f'{path}/cps{year}.ft', columns=columns)\n",
    "        .query('WKWAGE > 0 and HRSUSL1 >= 35'))\n",
    "    data = df.groupby(['YEAR', 'MONTH']).apply(binned_wage)\n",
    "    data.index = [pd.to_datetime(f'{ti[0]}-{ti[1]}-01') for ti in data.index]\n",
    "    data1 = data1.append(data)\n",
    "    \n",
    "df = pd.DataFrame({'All': data1})"
   ]
  },
  {
   "cell_type": "code",
   "execution_count": 6,
   "metadata": {
    "ExecuteTime": {
     "end_time": "2019-11-12T01:14:41.587740Z",
     "start_time": "2019-11-12T01:14:41.503522Z"
    }
   },
   "outputs": [],
   "source": [
    "%matplotlib inline"
   ]
  },
  {
   "cell_type": "code",
   "execution_count": 15,
   "metadata": {
    "ExecuteTime": {
     "end_time": "2019-11-12T01:18:47.718277Z",
     "start_time": "2019-11-12T01:18:47.712413Z"
    }
   },
   "outputs": [
    {
     "data": {
      "text/html": [
       "<div>\n",
       "<style scoped>\n",
       "    .dataframe tbody tr th:only-of-type {\n",
       "        vertical-align: middle;\n",
       "    }\n",
       "\n",
       "    .dataframe tbody tr th {\n",
       "        vertical-align: top;\n",
       "    }\n",
       "\n",
       "    .dataframe thead th {\n",
       "        text-align: right;\n",
       "    }\n",
       "</style>\n",
       "<table border=\"1\" class=\"dataframe\">\n",
       "  <thead>\n",
       "    <tr style=\"text-align: right;\">\n",
       "      <th></th>\n",
       "      <th>All</th>\n",
       "    </tr>\n",
       "  </thead>\n",
       "  <tbody>\n",
       "    <tr>\n",
       "      <th>2015-01-01</th>\n",
       "      <td>388.204247</td>\n",
       "    </tr>\n",
       "    <tr>\n",
       "      <th>2015-02-01</th>\n",
       "      <td>386.799389</td>\n",
       "    </tr>\n",
       "    <tr>\n",
       "      <th>2015-03-01</th>\n",
       "      <td>386.708309</td>\n",
       "    </tr>\n",
       "    <tr>\n",
       "      <th>2015-04-01</th>\n",
       "      <td>386.238328</td>\n",
       "    </tr>\n",
       "    <tr>\n",
       "      <th>2015-05-01</th>\n",
       "      <td>394.424230</td>\n",
       "    </tr>\n",
       "    <tr>\n",
       "      <th>2015-06-01</th>\n",
       "      <td>392.124004</td>\n",
       "    </tr>\n",
       "    <tr>\n",
       "      <th>2015-07-01</th>\n",
       "      <td>392.735574</td>\n",
       "    </tr>\n",
       "    <tr>\n",
       "      <th>2015-08-01</th>\n",
       "      <td>383.872513</td>\n",
       "    </tr>\n",
       "    <tr>\n",
       "      <th>2015-09-01</th>\n",
       "      <td>395.233653</td>\n",
       "    </tr>\n",
       "    <tr>\n",
       "      <th>2015-10-01</th>\n",
       "      <td>399.011286</td>\n",
       "    </tr>\n",
       "    <tr>\n",
       "      <th>2015-11-01</th>\n",
       "      <td>395.686299</td>\n",
       "    </tr>\n",
       "    <tr>\n",
       "      <th>2015-12-01</th>\n",
       "      <td>403.157813</td>\n",
       "    </tr>\n",
       "  </tbody>\n",
       "</table>\n",
       "</div>"
      ],
      "text/plain": [
       "                   All\n",
       "2015-01-01  388.204247\n",
       "2015-02-01  386.799389\n",
       "2015-03-01  386.708309\n",
       "2015-04-01  386.238328\n",
       "2015-05-01  394.424230\n",
       "2015-06-01  392.124004\n",
       "2015-07-01  392.735574\n",
       "2015-08-01  383.872513\n",
       "2015-09-01  395.233653\n",
       "2015-10-01  399.011286\n",
       "2015-11-01  395.686299\n",
       "2015-12-01  403.157813"
      ]
     },
     "execution_count": 15,
     "metadata": {},
     "output_type": "execute_result"
    }
   ],
   "source": [
    "df.loc['2015']"
   ]
  },
  {
   "cell_type": "code",
   "execution_count": null,
   "metadata": {},
   "outputs": [],
   "source": []
  }
 ],
 "metadata": {
  "kernelspec": {
   "display_name": "Python 3",
   "language": "python",
   "name": "python3"
  },
  "language_info": {
   "codemirror_mode": {
    "name": "ipython",
    "version": 3
   },
   "file_extension": ".py",
   "mimetype": "text/x-python",
   "name": "python",
   "nbconvert_exporter": "python",
   "pygments_lexer": "ipython3",
   "version": "3.7.5"
  }
 },
 "nbformat": 4,
 "nbformat_minor": 2
}
