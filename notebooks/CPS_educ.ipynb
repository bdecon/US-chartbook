{
 "cells": [
  {
   "cell_type": "code",
   "execution_count": 1,
   "metadata": {
    "ExecuteTime": {
     "end_time": "2019-12-16T13:48:07.668784Z",
     "start_time": "2019-12-16T13:48:06.849476Z"
    }
   },
   "outputs": [],
   "source": [
    "import sys\n",
    "sys.path.append('../src')\n",
    "\n",
    "import uschartbook.config\n",
    "\n",
    "from uschartbook.config import *\n",
    "from uschartbook.utils import *"
   ]
  },
  {
   "cell_type": "code",
   "execution_count": 2,
   "metadata": {
    "ExecuteTime": {
     "end_time": "2019-12-16T13:48:08.127921Z",
     "start_time": "2019-12-16T13:48:07.677312Z"
    }
   },
   "outputs": [],
   "source": [
    "cols = ['PEEDUCA', 'EDUC', 'BASICWGT', 'AGE', 'MONTH', 'YEAR', 'LFS', 'HRSACTT', 'FEMALE']\n",
    "\n",
    "educdt = lambda x: np.where((x.EDUC == 'SC') & (x.PEEDUCA == 40), 'SCND', \n",
    "                   np.where((x.EDUC == 'SC') & (x.PEEDUCA == 41), 'VOC',\n",
    "                   np.where((x.EDUC == 'SC') & (x.PEEDUCA == 42), 'AAD', x.EDUC)))\n",
    "\n",
    "df = cps_12mo(cps_dir, cps_date(), cols).query('AGE > 24').assign(EDUCDT = educdt)\n",
    "date2000 = pd.to_datetime('2000-12-01')\n",
    "df2 = cps_12mo(cps_dir, date2000, cols).query('AGE > 24').assign(EDUCDT = educdt)\n",
    "\n",
    "df3 = df.query('LFS == \"Employed\"')\n",
    "df4 = df2.query('LFS == \"Employed\"')\n",
    "\n",
    "data = pd.DataFrame()\n",
    "\n",
    "data['2000'] = df2.groupby('EDUCDT').BASICWGT.sum() / df2.BASICWGT.sum() * 100\n",
    "data['latest'] = df.groupby('EDUCDT').BASICWGT.sum() / df.BASICWGT.sum() * 100\n",
    "\n",
    "data['2000_emp'] = df4.groupby('EDUCDT').BASICWGT.sum() / df4.BASICWGT.sum() * 100\n",
    "data['latest_emp'] = df3.groupby('EDUCDT').BASICWGT.sum() / df3.BASICWGT.sum() * 100\n",
    "\n",
    "data = data.loc[['LTHS', 'HS', 'SCND', 'VOC', 'AAD', 'COLL', 'ADV']]\n",
    "\n",
    "data.index = ['No High School Diploma', 'High School Diploma', 'Some College, No Degree', \n",
    "              'Associate Degree,\\\\\\*Vocational',\n",
    "              'Associate Degree,\\\\\\*Academic', \"Bachelor's Degree\", 'Advanced Degree']\n",
    "\n",
    "data.to_csv(data_dir / 'cps_educ.csv', sep=';', index_label='name')"
   ]
  },
  {
   "cell_type": "code",
   "execution_count": 3,
   "metadata": {
    "ExecuteTime": {
     "end_time": "2019-12-16T15:43:01.564716Z",
     "start_time": "2019-12-16T15:43:01.555349Z"
    }
   },
   "outputs": [
    {
     "data": {
      "text/plain": [
       "\"Over the year ending April 2020, 80.9 million people over the age of 25, or 36.5 percent of the total, have at least a bachelor's degree, with 30.3 million of those, or 13.6 percent of the total, holding an advanced degree such as a master's degree, medical or law degree, or PhD. An additional 57.7 million people have some college coursework but no degree or have an associate degree. A total of 62.3 million have a high school diploma but no college, while 21.1 million have no high school diploma.\""
      ]
     },
     "execution_count": 3,
     "metadata": {},
     "output_type": "execute_result"
    }
   ],
   "source": [
    "tot = (df.groupby('EDUC').BASICWGT.sum() / 12000000).loc[['LTHS', 'HS', 'SC', 'COLL', 'ADV']]\n",
    "\n",
    "tot.index = ['No High School Diploma', 'High School Diploma', 'Some College or Associate Degree', \n",
    "             \"Bachelor's Degree\", 'Advanced Degree']\n",
    "\n",
    "tot.to_csv(data_dir / 'cps_educ_tot.csv', index_label='name', header=True)\n",
    "\n",
    "ltdate = dtxt(cps_date())['mon1']\n",
    "\n",
    "ba_adv_tot = tot[\"Bachelor's Degree\"] + tot['Advanced Degree']\n",
    "ba_adv_sh = data.loc[\"Bachelor's Degree\", 'latest'] + data.loc['Advanced Degree', 'latest']\n",
    "\n",
    "adv_tot = tot['Advanced Degree']\n",
    "adv_sh = data.loc['Advanced Degree', 'latest']\n",
    "\n",
    "sc_tot = tot['Some College or Associate Degree']\n",
    "\n",
    "hs_tot = tot['High School Diploma']\n",
    "\n",
    "lths_tot = tot['No High School Diploma']\n",
    "\n",
    "text = (f'Over the year ending {ltdate}, {ba_adv_tot:.1f} million '+\n",
    "        f'people over the age of 25, or {ba_adv_sh:.1f} percent of the total, '+\n",
    "        f\"have at least a bachelor's degree, with {adv_tot:.1f} million of \"+\n",
    "        f'those, or {adv_sh:.1f} percent of the total, holding '+\n",
    "        \"an advanced degree such as a master's degree, medical or law degree, or PhD. \"+\n",
    "        f'An additional {sc_tot:.1f} million people have some college coursework '+\n",
    "        f'but no degree or have an associate degree. A total of {hs_tot:.1f} million '+\n",
    "        f'have a high school diploma but no college, while {lths_tot:.1f} million '+\n",
    "        f'have no high school diploma.')\n",
    "write_txt(text_dir / 'cps_educ.txt', text)\n",
    "write_txt(text_dir / 'cps_ltdate.txt', ltdate)\n",
    "\n",
    "text"
   ]
  },
  {
   "cell_type": "code",
   "execution_count": 4,
   "metadata": {},
   "outputs": [],
   "source": [
    "ba_adv_sh_pr = data.loc[\"Bachelor's Degree\", '2000'] + data.loc['Advanced Degree', '2000']\n",
    "\n",
    "ba_adv_sh_ch = ba_adv_sh - ba_adv_sh_pr\n",
    "\n",
    "ba_adv_sh_emp = data.loc[\"Bachelor's Degree\", 'latest_emp'] + data.loc['Advanced Degree', 'latest_emp']\n",
    "\n",
    "ba_adv_sh_emp_pr = data.loc[\"Bachelor's Degree\", '2000_emp'] + data.loc['Advanced Degree', '2000_emp']\n",
    "ba_adv_sh_emp_ch = ba_adv_sh_emp - ba_adv_sh_emp_pr\n",
    "\n",
    "text = (\"The share of the population with a bachelor's degree or advanced degree \"+\n",
    "        f\"increased by {ba_adv_sh_ch:.1f} percentage points since 2000. The increase \"+\n",
    "        \"is even more pronounced among those who are employed; \"+\n",
    "        f\"{ba_adv_sh_emp:.1f} percent have a college degree or advanced degree in {ltdate}, an \"+\n",
    "        f\"increase of {ba_adv_sh_emp_ch:.1f} percentage points since 2000. \")\n",
    "\n",
    "write_txt(text_dir / 'cps_educ2.txt', text)\n",
    "\n",
    "write_txt(text_dir / 'cps_ltdate.txt', ltdate)"
   ]
  }
 ],
 "metadata": {
  "kernelspec": {
   "display_name": "Python 3",
   "language": "python",
   "name": "python3"
  },
  "language_info": {
   "codemirror_mode": {
    "name": "ipython",
    "version": 3
   },
   "file_extension": ".py",
   "mimetype": "text/x-python",
   "name": "python",
   "nbconvert_exporter": "python",
   "pygments_lexer": "ipython3",
   "version": "3.8.2"
  }
 },
 "nbformat": 4,
 "nbformat_minor": 2
}
