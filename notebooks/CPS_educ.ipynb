{
 "cells": [
  {
   "cell_type": "code",
   "execution_count": null,
   "metadata": {},
   "outputs": [],
   "source": []
  },
  {
   "cell_type": "code",
   "execution_count": 1,
   "metadata": {
    "ExecuteTime": {
     "end_time": "2019-12-16T13:48:07.668784Z",
     "start_time": "2019-12-16T13:48:06.849476Z"
    }
   },
   "outputs": [],
   "source": [
    "import sys\n",
    "sys.path.append('../src')\n",
    "\n",
    "import requests\n",
    "\n",
    "import uschartbook.config\n",
    "\n",
    "from uschartbook.config import *\n",
    "from uschartbook.utils import *"
   ]
  },
  {
   "cell_type": "code",
   "execution_count": null,
   "metadata": {},
   "outputs": [],
   "source": []
  },
  {
   "cell_type": "code",
   "execution_count": 5,
   "metadata": {
    "ExecuteTime": {
     "end_time": "2019-12-16T13:48:08.127921Z",
     "start_time": "2019-12-16T13:48:07.677312Z"
    }
   },
   "outputs": [],
   "source": [
    "cols = ['PEEDUCA', 'EDUC', 'BASICWGT', 'AGE', 'MONTH', 'YEAR', 'LFS', 'HRSACTT', 'FEMALE']\n",
    "\n",
    "educdt = lambda x: np.where((x.EDUC == 'SC') & (x.PEEDUCA == 40), 'SCND', \n",
    "                   np.where((x.EDUC == 'SC') & (x.PEEDUCA == 41), 'VOC',\n",
    "                   np.where((x.EDUC == 'SC') & (x.PEEDUCA == 42), 'AAD', x.EDUC)))\n",
    "\n",
    "df = ((pd.read_feather(cps_dir/'cps2019.ft', columns=cols).query('AGE > 24 and MONTH > 1')\n",
    "         .append(pd.read_feather(cps_dir/'cps2020.ft', columns=cols).query('AGE > 24')))\n",
    "         .assign(EDUCDT = educdt))\n",
    "df2 = pd.read_feather(cps_dir/'cps2000.ft', columns=cols).query('AGE > 24').assign(EDUCDT = educdt)\n",
    "\n",
    "df3 = df.query('LFS == \"Employed\"')\n",
    "df4 = df2.query('LFS == \"Employed\"')"
   ]
  },
  {
   "cell_type": "code",
   "execution_count": 6,
   "metadata": {
    "ExecuteTime": {
     "end_time": "2019-12-16T13:48:08.131184Z",
     "start_time": "2019-12-16T13:48:08.129048Z"
    }
   },
   "outputs": [],
   "source": [
    "data = pd.DataFrame()"
   ]
  },
  {
   "cell_type": "code",
   "execution_count": 7,
   "metadata": {
    "ExecuteTime": {
     "end_time": "2019-12-16T13:48:08.290251Z",
     "start_time": "2019-12-16T13:48:08.132150Z"
    }
   },
   "outputs": [],
   "source": [
    "data['2000'] = df2.groupby('EDUCDT').BASICWGT.sum() / df2.BASICWGT.sum() * 100\n",
    "data['latest'] = df.groupby('EDUCDT').BASICWGT.sum() / df.BASICWGT.sum() * 100\n",
    "\n",
    "data['2000_emp'] = df4.groupby('EDUCDT').BASICWGT.sum() / df4.BASICWGT.sum() * 100\n",
    "data['latest_emp'] = df3.groupby('EDUCDT').BASICWGT.sum() / df3.BASICWGT.sum() * 100"
   ]
  },
  {
   "cell_type": "code",
   "execution_count": 8,
   "metadata": {
    "ExecuteTime": {
     "end_time": "2019-12-16T13:48:08.294175Z",
     "start_time": "2019-12-16T13:48:08.291347Z"
    }
   },
   "outputs": [],
   "source": [
    "data = data.loc[['LTHS', 'HS', 'SCND', 'VOC', 'AAD', 'COLL', 'ADV']]"
   ]
  },
  {
   "cell_type": "code",
   "execution_count": 9,
   "metadata": {
    "ExecuteTime": {
     "end_time": "2019-12-16T13:48:19.790663Z",
     "start_time": "2019-12-16T13:48:19.786727Z"
    }
   },
   "outputs": [],
   "source": [
    "data.index = ['No High School Diploma', 'High School Diploma', 'Some College, No Degree', 'Associate Degree,\\\\\\*Vocational',\n",
    "              'Associate Degree,\\\\\\*Academic', \"Bachelor's Degree\", 'Advanced Degree']"
   ]
  },
  {
   "cell_type": "code",
   "execution_count": 10,
   "metadata": {
    "ExecuteTime": {
     "end_time": "2019-12-16T13:48:21.047815Z",
     "start_time": "2019-12-16T13:48:21.044934Z"
    }
   },
   "outputs": [],
   "source": [
    "data.to_csv(data_dir / 'cps_educ.csv', sep=';', index_label='name')"
   ]
  },
  {
   "cell_type": "code",
   "execution_count": 11,
   "metadata": {
    "ExecuteTime": {
     "end_time": "2019-12-16T13:48:21.872630Z",
     "start_time": "2019-12-16T13:48:21.865431Z"
    }
   },
   "outputs": [
    {
     "data": {
      "text/html": [
       "<div>\n",
       "<style scoped>\n",
       "    .dataframe tbody tr th:only-of-type {\n",
       "        vertical-align: middle;\n",
       "    }\n",
       "\n",
       "    .dataframe tbody tr th {\n",
       "        vertical-align: top;\n",
       "    }\n",
       "\n",
       "    .dataframe thead th {\n",
       "        text-align: right;\n",
       "    }\n",
       "</style>\n",
       "<table border=\"1\" class=\"dataframe\">\n",
       "  <thead>\n",
       "    <tr style=\"text-align: right;\">\n",
       "      <th></th>\n",
       "      <th>2000</th>\n",
       "      <th>latest</th>\n",
       "      <th>2000_emp</th>\n",
       "      <th>latest_emp</th>\n",
       "    </tr>\n",
       "  </thead>\n",
       "  <tbody>\n",
       "    <tr>\n",
       "      <th>No High School Diploma</th>\n",
       "      <td>16.080801</td>\n",
       "      <td>9.702842</td>\n",
       "      <td>10.038269</td>\n",
       "      <td>6.786475</td>\n",
       "    </tr>\n",
       "    <tr>\n",
       "      <th>High School Diploma</th>\n",
       "      <td>32.861298</td>\n",
       "      <td>28.176260</td>\n",
       "      <td>31.296618</td>\n",
       "      <td>25.174486</td>\n",
       "    </tr>\n",
       "    <tr>\n",
       "      <th>Some College, No Degree</th>\n",
       "      <td>17.302679</td>\n",
       "      <td>15.668032</td>\n",
       "      <td>18.546383</td>\n",
       "      <td>15.093273</td>\n",
       "    </tr>\n",
       "    <tr>\n",
       "      <th>Associate Degree,\\\\*Vocational</th>\n",
       "      <td>4.147304</td>\n",
       "      <td>4.458818</td>\n",
       "      <td>4.800157</td>\n",
       "      <td>4.817065</td>\n",
       "    </tr>\n",
       "    <tr>\n",
       "      <th>Associate Degree,\\\\*Academic</th>\n",
       "      <td>3.735915</td>\n",
       "      <td>5.862863</td>\n",
       "      <td>4.392566</td>\n",
       "      <td>6.327216</td>\n",
       "    </tr>\n",
       "    <tr>\n",
       "      <th>Bachelor's Degree</th>\n",
       "      <td>17.179794</td>\n",
       "      <td>22.665527</td>\n",
       "      <td>20.353535</td>\n",
       "      <td>26.009243</td>\n",
       "    </tr>\n",
       "    <tr>\n",
       "      <th>Advanced Degree</th>\n",
       "      <td>8.692201</td>\n",
       "      <td>13.465665</td>\n",
       "      <td>10.572464</td>\n",
       "      <td>15.792258</td>\n",
       "    </tr>\n",
       "  </tbody>\n",
       "</table>\n",
       "</div>"
      ],
      "text/plain": [
       "                                     2000     latest   2000_emp  latest_emp\n",
       "No High School Diploma          16.080801   9.702842  10.038269    6.786475\n",
       "High School Diploma             32.861298  28.176260  31.296618   25.174486\n",
       "Some College, No Degree         17.302679  15.668032  18.546383   15.093273\n",
       "Associate Degree,\\\\*Vocational   4.147304   4.458818   4.800157    4.817065\n",
       "Associate Degree,\\\\*Academic     3.735915   5.862863   4.392566    6.327216\n",
       "Bachelor's Degree               17.179794  22.665527  20.353535   26.009243\n",
       "Advanced Degree                  8.692201  13.465665  10.572464   15.792258"
      ]
     },
     "execution_count": 11,
     "metadata": {},
     "output_type": "execute_result"
    }
   ],
   "source": [
    "data"
   ]
  },
  {
   "cell_type": "code",
   "execution_count": null,
   "metadata": {},
   "outputs": [],
   "source": []
  },
  {
   "cell_type": "code",
   "execution_count": null,
   "metadata": {},
   "outputs": [],
   "source": []
  },
  {
   "cell_type": "code",
   "execution_count": 13,
   "metadata": {
    "ExecuteTime": {
     "end_time": "2019-12-16T15:43:01.564716Z",
     "start_time": "2019-12-16T15:43:01.555349Z"
    }
   },
   "outputs": [],
   "source": [
    "tot = (df.groupby('EDUC').BASICWGT.sum() / 12000000).loc[['LTHS', 'HS', 'SC', 'COLL', 'ADV']]"
   ]
  },
  {
   "cell_type": "code",
   "execution_count": 14,
   "metadata": {
    "ExecuteTime": {
     "end_time": "2019-12-16T15:43:02.310214Z",
     "start_time": "2019-12-16T15:43:02.307797Z"
    }
   },
   "outputs": [],
   "source": [
    "tot.index = ['No High School Diploma', 'High School Diploma', 'Some College or Associate Degree', \"Bachelor's Degree\", 'Advanced Degree']"
   ]
  },
  {
   "cell_type": "code",
   "execution_count": 15,
   "metadata": {
    "ExecuteTime": {
     "end_time": "2019-12-16T15:43:03.455416Z",
     "start_time": "2019-12-16T15:43:03.452033Z"
    }
   },
   "outputs": [],
   "source": [
    "tot.to_csv(data_dir / 'cps_educ_tot.csv', index_label='name', header=True)"
   ]
  },
  {
   "cell_type": "code",
   "execution_count": 16,
   "metadata": {
    "ExecuteTime": {
     "end_time": "2019-12-16T15:43:04.169399Z",
     "start_time": "2019-12-16T15:43:04.165808Z"
    }
   },
   "outputs": [
    {
     "data": {
      "text/plain": [
       "No High School Diploma              21.497172\n",
       "High School Diploma                 62.426027\n",
       "Some College or Associate Degree    57.581616\n",
       "Bachelor's Degree                   50.216704\n",
       "Advanced Degree                     29.833912\n",
       "Name: BASICWGT, dtype: float64"
      ]
     },
     "execution_count": 16,
     "metadata": {},
     "output_type": "execute_result"
    }
   ],
   "source": [
    "tot"
   ]
  },
  {
   "cell_type": "code",
   "execution_count": 17,
   "metadata": {
    "ExecuteTime": {
     "end_time": "2019-12-16T15:47:43.996140Z",
     "start_time": "2019-12-16T15:47:43.990249Z"
    }
   },
   "outputs": [
    {
     "data": {
      "text/html": [
       "<div>\n",
       "<style scoped>\n",
       "    .dataframe tbody tr th:only-of-type {\n",
       "        vertical-align: middle;\n",
       "    }\n",
       "\n",
       "    .dataframe tbody tr th {\n",
       "        vertical-align: top;\n",
       "    }\n",
       "\n",
       "    .dataframe thead th {\n",
       "        text-align: right;\n",
       "    }\n",
       "</style>\n",
       "<table border=\"1\" class=\"dataframe\">\n",
       "  <thead>\n",
       "    <tr style=\"text-align: right;\">\n",
       "      <th></th>\n",
       "      <th>2000</th>\n",
       "      <th>latest</th>\n",
       "      <th>2000_emp</th>\n",
       "      <th>latest_emp</th>\n",
       "    </tr>\n",
       "  </thead>\n",
       "  <tbody>\n",
       "    <tr>\n",
       "      <th>No High School Diploma</th>\n",
       "      <td>16.080801</td>\n",
       "      <td>9.702842</td>\n",
       "      <td>10.038269</td>\n",
       "      <td>6.786475</td>\n",
       "    </tr>\n",
       "    <tr>\n",
       "      <th>High School Diploma</th>\n",
       "      <td>32.861298</td>\n",
       "      <td>28.176260</td>\n",
       "      <td>31.296618</td>\n",
       "      <td>25.174486</td>\n",
       "    </tr>\n",
       "    <tr>\n",
       "      <th>Some College, No Degree</th>\n",
       "      <td>17.302679</td>\n",
       "      <td>15.668032</td>\n",
       "      <td>18.546383</td>\n",
       "      <td>15.093273</td>\n",
       "    </tr>\n",
       "    <tr>\n",
       "      <th>Associate Degree,\\\\*Vocational</th>\n",
       "      <td>4.147304</td>\n",
       "      <td>4.458818</td>\n",
       "      <td>4.800157</td>\n",
       "      <td>4.817065</td>\n",
       "    </tr>\n",
       "    <tr>\n",
       "      <th>Associate Degree,\\\\*Academic</th>\n",
       "      <td>3.735915</td>\n",
       "      <td>5.862863</td>\n",
       "      <td>4.392566</td>\n",
       "      <td>6.327216</td>\n",
       "    </tr>\n",
       "    <tr>\n",
       "      <th>Bachelor's Degree</th>\n",
       "      <td>17.179794</td>\n",
       "      <td>22.665527</td>\n",
       "      <td>20.353535</td>\n",
       "      <td>26.009243</td>\n",
       "    </tr>\n",
       "    <tr>\n",
       "      <th>Advanced Degree</th>\n",
       "      <td>8.692201</td>\n",
       "      <td>13.465665</td>\n",
       "      <td>10.572464</td>\n",
       "      <td>15.792258</td>\n",
       "    </tr>\n",
       "  </tbody>\n",
       "</table>\n",
       "</div>"
      ],
      "text/plain": [
       "                                     2000     latest   2000_emp  latest_emp\n",
       "No High School Diploma          16.080801   9.702842  10.038269    6.786475\n",
       "High School Diploma             32.861298  28.176260  31.296618   25.174486\n",
       "Some College, No Degree         17.302679  15.668032  18.546383   15.093273\n",
       "Associate Degree,\\\\*Vocational   4.147304   4.458818   4.800157    4.817065\n",
       "Associate Degree,\\\\*Academic     3.735915   5.862863   4.392566    6.327216\n",
       "Bachelor's Degree               17.179794  22.665527  20.353535   26.009243\n",
       "Advanced Degree                  8.692201  13.465665  10.572464   15.792258"
      ]
     },
     "execution_count": 17,
     "metadata": {},
     "output_type": "execute_result"
    }
   ],
   "source": [
    "data"
   ]
  },
  {
   "cell_type": "code",
   "execution_count": 18,
   "metadata": {
    "ExecuteTime": {
     "end_time": "2019-12-16T15:50:27.567904Z",
     "start_time": "2019-12-16T15:50:27.564454Z"
    }
   },
   "outputs": [],
   "source": [
    "ltdate = 'January 2020'\n",
    "\n",
    "ba_adv_tot = tot[\"Bachelor's Degree\"] + tot['Advanced Degree']\n",
    "ba_adv_sh = data.loc[\"Bachelor's Degree\", 'latest'] + data.loc['Advanced Degree', 'latest']\n",
    "\n",
    "adv_tot = tot['Advanced Degree']\n",
    "adv_sh = data.loc['Advanced Degree', 'latest']\n",
    "\n",
    "sc_tot = tot['Some College or Associate Degree']\n",
    "\n",
    "hs_tot = tot['High School Diploma']\n",
    "\n",
    "lths_tot = tot['No High School Diploma']\n",
    "\n",
    "text = (f'Over the year ending {ltdate}, {ba_adv_tot:.1f} million '+\n",
    "        f'people over the age of 25, or {ba_adv_sh:.1f} percent of the total, '+\n",
    "        f\"have at least a bachelor's degree, with {adv_tot:.1f} million of \"+\n",
    "        f'those, or {adv_sh:.1f} percent of the total, holding '+\n",
    "        \"an advanced degree such as a master's degree, medical or law degree, or PhD. \"+\n",
    "        f'An additional {sc_tot:.1f} million people have some college coursework '+\n",
    "        f'but no degree or have an associate degree. A total of {hs_tot:.1f} million '+\n",
    "        f'have a high school diploma but no college, while {lths_tot:.1f} million '+\n",
    "        f'have no high school diploma.')\n",
    "write_txt(text_dir / 'cps_educ.txt', text)\n",
    "write_txt(text_dir / 'cps_ltdate.txt', ltdate)\n",
    "\n",
    "text"
   ]
  },
  {
   "cell_type": "code",
   "execution_count": 22,
   "metadata": {
    "ExecuteTime": {
     "end_time": "2019-12-16T16:27:17.450939Z",
     "start_time": "2019-12-16T16:27:17.447795Z"
    }
   },
   "outputs": [],
   "source": [
    "ba_adv_sh_pr = data.loc[\"Bachelor's Degree\", '2000'] + data.loc['Advanced Degree', '2000']\n",
    "\n",
    "ba_adv_sh_ch = ba_adv_sh - ba_adv_sh_pr\n",
    "\n",
    "ba_adv_sh_emp = data.loc[\"Bachelor's Degree\", 'latest_emp'] + data.loc['Advanced Degree', 'latest_emp']\n",
    "\n",
    "ba_adv_sh_emp_pr = data.loc[\"Bachelor's Degree\", '2000_emp'] + data.loc['Advanced Degree', '2000_emp']\n",
    "ba_adv_sh_emp_ch = ba_adv_sh_emp - ba_adv_sh_emp_pr"
   ]
  },
  {
   "cell_type": "code",
   "execution_count": 23,
   "metadata": {
    "ExecuteTime": {
     "end_time": "2019-12-16T16:28:31.770935Z",
     "start_time": "2019-12-16T16:28:31.766133Z"
    }
   },
   "outputs": [],
   "source": [
    "text = (\"The share of the population with a bachelor's degree or advanced degree \"+\n",
    "        f\"increased by {ba_adv_sh_ch:.1f} percentage points since 2000. The increase \"+\n",
    "        \"is even more pronounced among those who are employed; \"+\n",
    "        f\"{ba_adv_sh_emp:.1f} percent have a college degree or advanced degree in {ltdate}, an \"+\n",
    "        f\"increase of {ba_adv_sh_emp_ch:.1f} percentage points since 2000. \")"
   ]
  },
  {
   "cell_type": "code",
   "execution_count": 24,
   "metadata": {
    "ExecuteTime": {
     "end_time": "2019-12-16T16:28:37.569884Z",
     "start_time": "2019-12-16T16:28:37.567504Z"
    }
   },
   "outputs": [],
   "source": [
    "write_txt(text_dir / 'cps_educ2.txt', text)"
   ]
  },
  {
   "cell_type": "code",
   "execution_count": null,
   "metadata": {},
   "outputs": [],
   "source": []
  },
  {
   "cell_type": "code",
   "execution_count": 25,
   "metadata": {},
   "outputs": [],
   "source": [
    "write_txt(text_dir / 'cps_ltdate.txt', ltdate)"
   ]
  }
 ],
 "metadata": {
  "kernelspec": {
   "display_name": "Python 3",
   "language": "python",
   "name": "python3"
  },
  "language_info": {
   "codemirror_mode": {
    "name": "ipython",
    "version": 3
   },
   "file_extension": ".py",
   "mimetype": "text/x-python",
   "name": "python",
   "nbconvert_exporter": "python",
   "pygments_lexer": "ipython3",
   "version": "3.8.1"
  }
 },
 "nbformat": 4,
 "nbformat_minor": 2
}
