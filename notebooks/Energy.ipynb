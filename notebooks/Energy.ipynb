{
 "cells": [
  {
   "cell_type": "markdown",
   "id": "ed880e5e",
   "metadata": {},
   "source": [
    "### EIA API\n"
   ]
  },
  {
   "cell_type": "code",
   "execution_count": 1,
   "id": "e09e0362",
   "metadata": {
    "ExecuteTime": {
     "end_time": "2022-03-02T18:36:56.067346Z",
     "start_time": "2022-03-02T18:36:55.376273Z"
    }
   },
   "outputs": [],
   "source": [
    "# Energy Production and Usage\n",
    "import sys\n",
    "sys.path.append('../src')\n",
    "\n",
    "import uschartbook.config\n",
    "\n",
    "from uschartbook.config import *\n",
    "from uschartbook.utils import *"
   ]
  },
  {
   "cell_type": "markdown",
   "id": "d1940eb5",
   "metadata": {},
   "source": [
    "### Crude Oil Production"
   ]
  },
  {
   "cell_type": "code",
   "execution_count": 2,
   "id": "79e53259",
   "metadata": {
    "ExecuteTime": {
     "end_time": "2022-03-02T18:36:56.710873Z",
     "start_time": "2022-03-02T18:36:56.068380Z"
    }
   },
   "outputs": [],
   "source": [
    "# Crude Oil by State Group/Area\n",
    "s_list = ['MCRFPCO2', 'MCRFPTX2', 'MCRFPND2', 'MCRFPNM2', \n",
    "          'MCRFPUS2', 'MCRFP3FM2']\n",
    "s_ids = ';'.join([f'PET.{series}.M' for series in s_list])\n",
    "url = (f'https://api.eia.gov/series/?api_key={eia_key}'+\n",
    "       f'&series_id={s_ids}&start=198801')\n",
    "r = requests.get(url).json()\n",
    "df = pd.DataFrame({i['series_id']: {pd.to_datetime(f'{date}01'): \n",
    "                                    val for date, val in i['data']} \n",
    "                   for i in r['series']}).sort_index().astype('float')\n",
    "df.to_csv(data_dir / 'oil_prod_raw.csv', index_label='date')"
   ]
  },
  {
   "cell_type": "code",
   "execution_count": 3,
   "id": "be3c6a0d",
   "metadata": {
    "ExecuteTime": {
     "end_time": "2022-03-02T18:36:56.728591Z",
     "start_time": "2022-03-02T18:36:56.712116Z"
    }
   },
   "outputs": [
    {
     "name": "stdout",
     "output_type": "stream",
     "text": [
      "During December 2021, the US produced 11.6 million barrels per day.\n"
     ]
    }
   ],
   "source": [
    "df = pd.read_csv(data_dir / 'oil_prod_raw.csv', index_col='date', \n",
    "                 parse_dates=True)\n",
    "df['ND_NM_CO'] = df[['PET.MCRFPND2.M', 'PET.MCRFPNM2.M', 'PET.MCRFPCO2.M']].sum(axis=1)\n",
    "df['USA'] = df['PET.MCRFPUS2.M']\n",
    "df['TX'] = df['PET.MCRFPTX2.M']\n",
    "df['GM'] = df['PET.MCRFP3FM2.M']\n",
    "df['OTH'] = df['USA'] - df['TX'] - df['ND_NM_CO'] - df['GM']\n",
    "\n",
    "data = df.loc['1989':,['ND_NM_CO', 'TX', 'OTH', 'GM', 'USA']].divide(1000, axis=1)\n",
    "data.to_csv(data_dir / 'oil_prod.csv', index_label='date')\n",
    "ltdate = dtxt(data.index[-1])['mon1']\n",
    "ltval = data['USA'].iloc[-1]\n",
    "text = (f'During {ltdate}, the US produced {ltval:.1f} million barrels per day.')\n",
    "write_txt(text_dir / 'oil_prod.txt', text)\n",
    "print(text)"
   ]
  },
  {
   "cell_type": "code",
   "execution_count": null,
   "id": "70af2ea1",
   "metadata": {},
   "outputs": [],
   "source": []
  },
  {
   "cell_type": "code",
   "execution_count": null,
   "id": "c49cd646",
   "metadata": {},
   "outputs": [],
   "source": []
  },
  {
   "cell_type": "markdown",
   "id": "36efcc54",
   "metadata": {},
   "source": [
    "### Electricity Production by Source"
   ]
  },
  {
   "cell_type": "code",
   "execution_count": 4,
   "id": "ebd4233e",
   "metadata": {
    "ExecuteTime": {
     "end_time": "2022-03-02T18:36:57.345989Z",
     "start_time": "2022-03-02T18:36:56.730876Z"
    }
   },
   "outputs": [],
   "source": [
    "# Electricity Production by Major Source\n",
    "s_list = ['COW', 'NUC', 'TSN', 'HYC', 'HPS', 'NG', 'WND', 'GEO', 'WWW',\n",
    "         'WAS', 'PEL', 'PC', 'ALL', 'AOR', 'OTH', 'SUN', 'OOG']\n",
    "s_ids = ';'.join([f'ELEC.GEN.{series}-US-99.M' for series in s_list])\n",
    "url = (f'https://api.eia.gov/series/?api_key={eia_key}'+\n",
    "       f'&series_id={s_ids}')\n",
    "r = requests.get(url).json()\n",
    "df = pd.DataFrame({i['series_id']: {pd.to_datetime(f'{date}01'): \n",
    "                                    val for date, val in i['data']} \n",
    "                   for i in r['series']}).sort_index().astype('float')\n",
    "df.to_csv(data_dir / 'elec_prod_raw.csv', index_label='date')"
   ]
  },
  {
   "cell_type": "code",
   "execution_count": 5,
   "id": "e32c2bf7",
   "metadata": {
    "ExecuteTime": {
     "end_time": "2022-03-02T18:36:57.387061Z",
     "start_time": "2022-03-02T18:36:57.347030Z"
    }
   },
   "outputs": [
    {
     "name": "stdout",
     "output_type": "stream",
     "text": [
      "Over the same period, the US population has increased by 6.5 percent and real GDP has increased by 24.7 percent. During the 12 months ending December 2021, the US generated 4,116 billion kilowatt hours of electricity.\n",
      "Over the year ending December 2021, 1,575 billion kilowatt hours of electricity were generated using natural gas (see\\cbox{blue!40!cyan!60!white}), 899 billion kilowatt hours were generated from coal (see\\cbox{brown}), 778 billion from nuclear (see\\cbox{red!80!blue!70!white}), and 826 billion from renewable sources (see\\cbox{green!75!blue}).\n",
      "Among renewable energy sources, over the year ending December 2021, 260 billion kilowatt hours of electricity were generated with conventional hydroelectric (see\\cbox{cyan}), 55 billion kilowatt hours were generated from biomass (see\\cbox{brown!92!black}), 16 billion were generated from geothermal (see\\cbox{orange}), 380 billion from wind (see\\cbox{green!65!blue}), and 115 billion from solar (see\\cbox{yellow!70!orange}).\n"
     ]
    }
   ],
   "source": [
    "df = pd.read_csv(data_dir / 'elec_prod_raw.csv', index_col='date', \n",
    "                 parse_dates=True)\n",
    "\n",
    "renew = ['SUN', 'HYC', 'WND', 'GEO', 'WAS', 'WWW']\n",
    "renewables = [f'ELEC.GEN.{i}-US-99.M' for i in renew]\n",
    "df['Renewables'] = df[renewables].sum(axis=1)\n",
    "\n",
    "poth = ['PEL', 'PC', 'OTH', 'OOG', 'HPS']\n",
    "petoth = [f'ELEC.GEN.{i}-US-99.M' for i in poth]\n",
    "df['Petroleum and other'] = df[petoth].sum(axis=1)\n",
    "\n",
    "bio = ['WWW', 'WAS']\n",
    "biomass = [f'ELEC.GEN.{i}-US-99.M' for i in bio]\n",
    "df['Biomass'] = df[biomass].sum(axis=1)\n",
    "\n",
    "rename = {'ELEC.GEN.COW-US-99.M': 'Coal', \n",
    "          'ELEC.GEN.NUC-US-99.M': 'Nuclear', \n",
    "          'ELEC.GEN.NG-US-99.M': 'Natural Gas',\n",
    "          'ELEC.GEN.HYC-US-99.M': 'Hydroelectric',\n",
    "          'ELEC.GEN.SUN-US-99.M': 'Solar',\n",
    "          'ELEC.GEN.WND-US-99.M': 'Wind',\n",
    "          'ELEC.GEN.GEO-US-99.M': 'Geothermal'}\n",
    "df.rename(rename, axis=1, inplace=True)\n",
    "\n",
    "var = ['Coal', 'Natural Gas', 'Nuclear', 'Renewables', 'Petroleum and other',\n",
    "       'Hydroelectric', 'Solar', 'Wind', 'Geothermal', 'Biomass']\n",
    "data = df[var].rolling(12).sum().dropna().divide(1000, axis=1)\n",
    "data.to_csv(data_dir / 'elec_prod.csv', index_label='date')\n",
    "\n",
    "popgdp = pd.read_csv(data_dir / 'gdpjobslvl.csv', index_col='date', parse_dates=True)\n",
    "pop = popgdp['pop'].dropna()\n",
    "popch = (pop.iloc[-1] / pop.loc['2011'].mean() - 1) * 100\n",
    "popinc = inc_dec_percent(popch)\n",
    "gdp = popgdp['gdp'].dropna()\n",
    "gdpch = (gdp.iloc[-1] / gdp.loc['2011'].mean() - 1) * 100\n",
    "gdpinc = inc_dec_percent(gdpch)\n",
    "major = ['Coal', 'Natural Gas', 'Nuclear', 'Renewables', 'Petroleum and other']\n",
    "elec = data[major].sum(axis=1)\n",
    "df2 = pd.DataFrame()\n",
    "df2['elec'] = elec\n",
    "df2['gdp'] = gdp\n",
    "df2['pop'] = pop\n",
    "df2['elecgdp'] = elec / gdp\n",
    "df2['elecpop'] = elec / pop\n",
    "df2 = ((df2 / df2.loc['2011-01-01']) - 1) * 100\n",
    "df2.loc['2011':].to_csv(data_dir / 'elec.csv', index_label='date')\n",
    "\n",
    "colors = {'gdp': 'green!60!blue', \n",
    "          'pop': 'blue!90!black', \n",
    "          'elec': 'red', \n",
    "          'elecpop': 'orange', \n",
    "          'elecgdp': 'cyan'}\n",
    "\n",
    "adj = node_adjust(df2, colors)\n",
    "\n",
    "#write_txt(text_dir / 'elec_nodes.txt', '')\n",
    "node_file = open(text_dir / 'elec_nodes.txt', 'w')\n",
    "for series, color in colors.items():\n",
    "    if series in adj.keys():\n",
    "        offset = adj[series]\n",
    "    else:\n",
    "        offset = 0\n",
    "    node_file.write(end_node(df2[series].dropna(), color, percent=True))\n",
    "node_file.close()\n",
    "\n",
    "ltdate = dtxt(df.index[-1])['mon1']\n",
    "ltval = data[major].iloc[-1].sum()\n",
    "text = (f'Over the same period, the US population has {popinc} and real GDP has {gdpinc}. '+\n",
    "        f'During the 12 months ending {ltdate}, the US generated {ltval:,.0f} billion kilowatt '+\n",
    "        'hours of electricity.') \n",
    "write_txt(text_dir / 'elec_prod.txt', text)\n",
    "print(text)\n",
    "\n",
    "ngval = data['Natural Gas'].iloc[-1]\n",
    "coalval = data['Coal'].iloc[-1]\n",
    "nucval = data['Nuclear'].iloc[-1]\n",
    "renval = data['Renewables'].iloc[-1]\n",
    "text = (f'Over the year ending {ltdate}, {ngval:,.0f} billion kilowatt hours '+\n",
    "        'of electricity were generated using natural gas (see\\cbox{blue!40!cyan!60!white}), '+\n",
    "        f'{coalval:,.0f} billion kilowatt hours were generated from coal '+\n",
    "        f'(see\\cbox{{brown}}), {nucval:,.0f} billion from nuclear (see\\cbox{{red!80!blue!70!white}}), '+\n",
    "        f'and {renval:,.0f} billion from renewable sources (see\\cbox{{green!75!blue}}).')\n",
    "write_txt(text_dir / 'elec_prod2.txt', text)\n",
    "print(text)\n",
    "\n",
    "hydval = data['Hydroelectric'].iloc[-1]\n",
    "bioval = data['Biomass'].iloc[-1]\n",
    "geoval = data['Geothermal'].iloc[-1]\n",
    "sunval = data['Solar'].iloc[-1]\n",
    "wndval = data['Wind'].iloc[-1]\n",
    "text = (f'Among renewable energy sources, over the year ending {ltdate}, {hydval:,.0f} billion '+\n",
    "        'kilowatt hours of electricity were generated with conventional hydroelectric (see\\cbox{cyan}), '+\n",
    "        f'{bioval:,.0f} billion kilowatt hours were generated from biomass (see\\cbox{{brown!92!black}}), '+\n",
    "        f'{geoval:,.0f} billion were generated from geothermal (see\\cbox{{orange}}), '+\n",
    "        f'{wndval:,.0f} billion from wind (see\\cbox{{green!65!blue}}), '+\n",
    "        f'and {sunval:,.0f} billion from solar (see\\cbox{{yellow!70!orange}}).')\n",
    "write_txt(text_dir / 'elec_prod3.txt', text)\n",
    "print(text)"
   ]
  },
  {
   "cell_type": "code",
   "execution_count": null,
   "id": "f1699014",
   "metadata": {},
   "outputs": [],
   "source": []
  },
  {
   "cell_type": "code",
   "execution_count": null,
   "id": "f55d2897",
   "metadata": {},
   "outputs": [],
   "source": []
  },
  {
   "cell_type": "markdown",
   "id": "68a4211a",
   "metadata": {},
   "source": [
    "### Electricity Retail Sales by Sector"
   ]
  },
  {
   "cell_type": "code",
   "execution_count": 6,
   "id": "273e27ae",
   "metadata": {
    "ExecuteTime": {
     "end_time": "2022-03-02T18:36:57.735337Z",
     "start_time": "2022-03-02T18:36:57.388220Z"
    }
   },
   "outputs": [],
   "source": [
    "# Electricity Retail Sales by Sector\n",
    "s_list = ['RES', 'COM', 'IND']\n",
    "s_ids = ';'.join([f'ELEC.SALES.US-{series}.M' for series in s_list])\n",
    "url = (f'https://api.eia.gov/series/?api_key={eia_key}'+\n",
    "       f'&series_id={s_ids}&start=200101')\n",
    "r = requests.get(url).json()\n",
    "df = pd.DataFrame({i['series_id']: {pd.to_datetime(f'{date}01'): \n",
    "                                    val for date, val in i['data']} \n",
    "                   for i in r['series']}).sort_index().astype('float')\n",
    "df.to_csv(data_dir / 'elec_sales_raw.csv', index_label='date')"
   ]
  },
  {
   "cell_type": "code",
   "execution_count": 7,
   "id": "c330d510",
   "metadata": {
    "ExecuteTime": {
     "end_time": "2022-03-02T18:36:57.748389Z",
     "start_time": "2022-03-02T18:36:57.736319Z"
    }
   },
   "outputs": [
    {
     "name": "stdout",
     "output_type": "stream",
     "text": [
      "Over the year ending December 2021, retail sales of electricity to the residential sector total 1,477 billion kilowatt hours, compared to 1,440 billion during 2019 (see {\\color{green!90!black}\\textbf{---}}). Commercial sector electricity sales total 1,325 billion kilowatt hours over the year ending December 2021, and 1,361 billion kilowatt hours in 2019 (see {\\color{blue!80!cyan}\\textbf{---}}). Industrial sector sales total 987 billion kilowatt hours in the latest 12 months of data and 1,002 billion kilowatt hours in 2019 (see {\\color{black!35!white}\\textbf{---}}).\n"
     ]
    }
   ],
   "source": [
    "df = pd.read_csv(data_dir / 'elec_sales_raw.csv', index_col='date', \n",
    "                 parse_dates=True) / 1_000\n",
    "\n",
    "rename = {'ELEC.SALES.US-RES.M': 'Residential', \n",
    "          'ELEC.SALES.US-COM.M': 'Commercial',\n",
    "          'ELEC.SALES.US-IND.M': 'Industrial'}\n",
    "df.rename(rename, axis=1, inplace=True)\n",
    "\n",
    "data = df.rolling(12).sum().dropna()\n",
    "data.to_csv(data_dir / 'elec_sales.csv', index_label='date')\n",
    "\n",
    "cats = {'Commercial': 'blue!80!cyan', 'Industrial': \n",
    "        'black!35!white', 'Residential': 'green!90!black'}\n",
    "nodes = '\\n'.join([end_node(data[cat], col, digits='comma') \n",
    "                   for cat, col in cats.items()])\n",
    "write_txt(text_dir / 'elec_ret_nodes.txt', nodes)\n",
    "\n",
    "cl = {cat[:3]: c_line(col) for cat, col in cats.items()}\n",
    "ltdt = dtxt(data.index[-1])['mon1']\n",
    "lt = data.iloc[-1]\n",
    "pr = data.loc['2019-12-01']\n",
    "text = (f'Over the year ending {ltdt}, retail sales of electricity '+\n",
    "        f'to the residential sector total {lt.Residential:,.0f} '+\n",
    "        f'billion kilowatt hours, compared to {pr.Residential:,.0f} '+\n",
    "        f'billion during 2019 {cl[\"Res\"]}. Commercial sector '+\n",
    "        f'electricity sales total {lt.Commercial:,.0f} billion kilowatt '+\n",
    "        f'hours over the year ending {ltdt}, and {pr.Commercial:,.0f} '+\n",
    "        f'billion kilowatt hours in 2019 {cl[\"Com\"]}. Industrial '+\n",
    "        f'sector sales total {lt.Industrial:,.0f} billion kilowatt '+\n",
    "        f'hours in the latest 12 months of data and {pr.Industrial:,.0f} '+\n",
    "        f'billion kilowatt hours in 2019 {cl[\"Ind\"]}.')\n",
    "write_txt(text_dir / 'elec_ret.txt', text)\n",
    "print(text)"
   ]
  },
  {
   "cell_type": "code",
   "execution_count": null,
   "id": "8390199f",
   "metadata": {},
   "outputs": [],
   "source": []
  },
  {
   "cell_type": "code",
   "execution_count": null,
   "id": "5a64a145",
   "metadata": {},
   "outputs": [],
   "source": []
  }
 ],
 "metadata": {
  "kernelspec": {
   "display_name": "Python 3",
   "language": "python",
   "name": "python3"
  },
  "language_info": {
   "codemirror_mode": {
    "name": "ipython",
    "version": 3
   },
   "file_extension": ".py",
   "mimetype": "text/x-python",
   "name": "python",
   "nbconvert_exporter": "python",
   "pygments_lexer": "ipython3",
   "version": "3.8.8"
  }
 },
 "nbformat": 4,
 "nbformat_minor": 5
}
