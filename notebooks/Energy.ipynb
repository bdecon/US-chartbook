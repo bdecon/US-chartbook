{
 "cells": [
  {
   "cell_type": "markdown",
   "id": "ed880e5e",
   "metadata": {},
   "source": [
    "### EIA API\n"
   ]
  },
  {
   "cell_type": "code",
   "execution_count": 1,
   "id": "e09e0362",
   "metadata": {
    "ExecuteTime": {
     "end_time": "2024-06-11T16:12:42.514702Z",
     "start_time": "2024-06-11T16:12:41.542495Z"
    }
   },
   "outputs": [],
   "source": [
    "# Energy Production and Usage\n",
    "import sys\n",
    "sys.path.append('../src')\n",
    "\n",
    "import uschartbook.config\n",
    "\n",
    "from uschartbook.config import *\n",
    "from uschartbook.utils import *"
   ]
  },
  {
   "cell_type": "markdown",
   "id": "d1940eb5",
   "metadata": {},
   "source": [
    "### Crude Oil Production\n",
    "\n",
    "https://www.eia.gov/dnav/pet/pet_crd_crpdn_adc_mbblpd_m.htm"
   ]
  },
  {
   "cell_type": "code",
   "execution_count": 2,
   "id": "b6dc9979",
   "metadata": {
    "ExecuteTime": {
     "end_time": "2024-06-11T16:12:46.530388Z",
     "start_time": "2024-06-11T16:12:42.516574Z"
    }
   },
   "outputs": [],
   "source": [
    "# Crude Oil by State Group/Area\n",
    "s_ids = ['MCRFPCO2', 'MCRFPTX2', 'MCRFPND2', 'MCRFPNM2', \n",
    "         'MCRFPUS2', 'MCRFP3FM2']\n",
    "sl = []\n",
    "for s in s_ids:\n",
    "    sl.append(f'&facets[series][]={s}')\n",
    "    \n",
    "idlist = ''.join(sl)\n",
    "\n",
    "url = ('https://api.eia.gov/v2/petroleum/crd/crpdn/data/'+\n",
    "       f'?api_key={eia_key}'+       \n",
    "       f'&frequency=monthly&data[0]=value{idlist}'+\n",
    "       '&start=1989-01'+\n",
    "       '&sort[0][column]=period&sort[0][direction]=desc'+\n",
    "       '&offset=0&length=5000')\n",
    "\n",
    "url2 = ('https://api.eia.gov/v2/petroleum/sum/snd/data/'+\n",
    "       f'?api_key={eia_key}'+\n",
    "       f'&frequency=monthly&data[0]=value{idlist}'+\n",
    "       '&start=1989-01'+\n",
    "       '&sort[0][column]=period&sort[0][direction]=desc'+\n",
    "       '&offset=0&length=5000')\n",
    "\n",
    "r = requests.get(url).json()\n",
    "r2 = requests.get(url2).json()\n",
    "\n",
    "d = {}\n",
    "for s in s_ids:\n",
    "    m = {pd.to_datetime(f'{i[\"period\"]}-01'): i['value'] \n",
    "      for i in r['response']['data'] if i['series'] == s}\n",
    "    d[s] = m\n",
    "    m2 = {pd.to_datetime(f'{i[\"period\"]}-01'): i['value'] \n",
    "      for i in r2['response']['data'] if i['series'] == s}\n",
    "    if len(m) == 0:\n",
    "        d[s] = m2\n",
    "        \n",
    "df = pd.DataFrame(d).sort_index().astype(float)\n",
    "\n",
    "df['ND_NM_CO'] = df[['MCRFPND2', 'MCRFPNM2', 'MCRFPCO2']].sum(axis=1)\n",
    "df['USA'] = df['MCRFPUS2']\n",
    "df['TX'] = df['MCRFPTX2']\n",
    "df['GM'] = df['MCRFP3FM2']\n",
    "df['OTH'] = df['USA'] - df['TX'] - df['ND_NM_CO'] - df['GM']\n",
    "data = df.loc['1989':,['ND_NM_CO', 'TX', 'OTH', 'GM', 'USA']].divide(1000, axis=1)\n",
    "data.to_csv(data_dir / 'oil_prod.csv', index_label='date')"
   ]
  },
  {
   "cell_type": "code",
   "execution_count": 3,
   "id": "acf80db4",
   "metadata": {
    "ExecuteTime": {
     "end_time": "2024-06-11T16:12:46.547468Z",
     "start_time": "2024-06-11T16:12:46.531718Z"
    }
   },
   "outputs": [
    {
     "name": "stdout",
     "output_type": "stream",
     "text": [
      "During March 2024, the US produced 13.2 million barrels per day, compared to 12.8 million barrels per day in March 2023.\n"
     ]
    }
   ],
   "source": [
    "data.to_csv(data_dir / 'oil_prod.csv', index_label='date')\n",
    "ltdt = dtxt(data.index[-1])['mon1']\n",
    "prdt = dtxt(data.index[-13])['mon1']\n",
    "val = pd.Series({'ltval': data['USA'].iloc[-1], \n",
    "           'pryrval': data['USA'].iloc[-13]})\n",
    "fval = val.apply('{:.1f} million barrels per day'.format)\n",
    "text = (f'During {ltdt}, the US produced {fval.ltval}, '+\n",
    "        f'compared to {fval.pryrval} in {prdt}.')\n",
    "write_txt(text_dir / 'oil_prod.txt', text)\n",
    "print(text)"
   ]
  },
  {
   "cell_type": "code",
   "execution_count": null,
   "id": "72aa6b98",
   "metadata": {},
   "outputs": [],
   "source": []
  },
  {
   "cell_type": "code",
   "execution_count": null,
   "id": "11f88378",
   "metadata": {},
   "outputs": [],
   "source": []
  },
  {
   "cell_type": "markdown",
   "id": "36efcc54",
   "metadata": {},
   "source": [
    "### Electricity Production by Source"
   ]
  },
  {
   "cell_type": "code",
   "execution_count": null,
   "id": "945f2203",
   "metadata": {},
   "outputs": [],
   "source": []
  },
  {
   "cell_type": "code",
   "execution_count": 4,
   "id": "bc10d884",
   "metadata": {
    "ExecuteTime": {
     "end_time": "2024-06-11T16:13:02.500893Z",
     "start_time": "2024-06-11T16:12:46.549803Z"
    }
   },
   "outputs": [],
   "source": [
    "# Electricity Production by Major Source\n",
    "s_list = ['COW', 'NUC', 'TSN', 'HYC', 'HPS', 'NG', 'WND', 'GEO', 'WWW',\n",
    "         'WAS', 'PEL', 'PC', 'ALL', 'AOR', 'OTH', 'SUN', 'OOG']\n",
    "\n",
    "df = pd.DataFrame()\n",
    "for s in s_list:\n",
    "    url = ('https://api.eia.gov/v2/electricity/electric-power-operational-data/data/'+\n",
    "           f'?api_key={eia_key}&frequency=monthly&data[0]=generation'+\n",
    "           f'&facets[fueltypeid][]={s}&facets[location][]=US&facets[sectorid][]=99'+\n",
    "           '&sort[0][column]=period&sort[0][direction]=desc&offset=0&length=5000')\n",
    "    r = requests.get(url).json()\n",
    "    df[s] = (pd.Series({pd.to_datetime(f'{i[\"period\"]}-01'): i['generation'] \n",
    "                        for i in r['response']['data']})\n",
    "          .sort_index().to_frame(name='VALUE')).astype('float')\n",
    "    \n",
    "df.to_csv(data_dir / 'elec_prod_raw.csv', index_label='date')"
   ]
  },
  {
   "cell_type": "code",
   "execution_count": 5,
   "id": "e32c2bf7",
   "metadata": {
    "ExecuteTime": {
     "end_time": "2024-06-11T16:13:02.542524Z",
     "start_time": "2024-06-11T16:13:02.502117Z"
    }
   },
   "outputs": [
    {
     "name": "stdout",
     "output_type": "stream",
     "text": [
      "Since 2011, annualized total US \\textbf{electricity generation} has increased 2.1 percent. Over the same period, the US population has increased by 8.4 percent (see {\\color{blue!90!black}\\textbf{---}}) and real GDP has increased by 34.5 percent (see {\\color{green!60!blue}\\textbf{---}}). As a result, the electricity required to produce a unit of real GDP decreased by 24.0 percent (see {\\color{cyan}\\textbf{---}}).\n",
      "During the 12 months ending March 2024, the US generated 4,215 billion kilowatt hours of electricity. Of this, 1,830 billion kilowatt hours were generated using natural gas (see\\cbox{blue!40!cyan!60!white}), 676 billion kilowatt hours were generated from coal (see\\cbox{brown}), 778 billion from nuclear (see\\cbox{{red!80!blue!70!white}}), and 900 billion from renewable sources (see\\cbox{{green!75!blue}}).\n",
      "Among renewable energy sources, over the year ending March 2024, 242 billion kilowatt hours of electricity were generated with conventional hydroelectric (see\\cbox{cyan}), 47 billion kilowatt hours were generated from biomass (see\\cbox{brown!92!black}), 16 billion were generated from geothermal (see\\cbox{orange}), 422 billion from wind (see\\cbox{green!65!blue}), and 173 billion from solar (see\\cbox{yellow!70!orange}).\n"
     ]
    }
   ],
   "source": [
    "df = pd.read_csv(data_dir / 'elec_prod_raw.csv', index_col='date', \n",
    "                 parse_dates=True)\n",
    "\n",
    "renew = ['SUN', 'HYC', 'WND', 'GEO', 'WAS', 'WWW']\n",
    "renewables = [i for i in renew]\n",
    "df['Renewables'] = df[renewables].sum(axis=1)\n",
    "\n",
    "poth = ['PEL', 'PC', 'OTH', 'OOG', 'HPS']\n",
    "petoth = [i for i in poth]\n",
    "df['Petroleum and other'] = df[petoth].sum(axis=1)\n",
    "\n",
    "bio = ['WWW', 'WAS']\n",
    "biomass = [i for i in bio]\n",
    "df['Biomass'] = df[biomass].sum(axis=1)\n",
    "\n",
    "rename = {'COW': 'Coal', \n",
    "          'NUC': 'Nuclear', \n",
    "          'NG': 'Natural Gas',\n",
    "          'HYC': 'Hydroelectric',\n",
    "          'SUN': 'Solar',\n",
    "          'WND': 'Wind',\n",
    "          'GEO': 'Geothermal'}\n",
    "df.rename(rename, axis=1, inplace=True)\n",
    "\n",
    "var = ['Coal', 'Natural Gas', 'Nuclear', 'Renewables', \n",
    "       'Petroleum and other', 'Hydroelectric', 'Solar', \n",
    "       'Wind', 'Geothermal', 'Biomass']\n",
    "data = df[var].rolling(12).sum().dropna().divide(1000, axis=1)\n",
    "data.to_csv(data_dir / 'elec_prod.csv', index_label='date')\n",
    "\n",
    "popgdp = pd.read_csv(data_dir / 'gdpjobslvl.csv', index_col='date', \n",
    "                     parse_dates=True)\n",
    "popgdp.index = popgdp.index + pd.DateOffset(months=2)\n",
    "pop = popgdp['POP'].dropna()\n",
    "popch = (pop.iloc[-1] / pop.loc['2011-03-01'].mean() - 1) * 100\n",
    "popinc = inc_dec_percent(popch)\n",
    "gdp = popgdp['GDP'].dropna()\n",
    "gdpch = (gdp.iloc[-1] / gdp.loc['2011-03-01'].mean() - 1) * 100\n",
    "gdpinc = inc_dec_percent(gdpch)\n",
    "major = ['Coal', 'Natural Gas', 'Nuclear', 'Renewables', \n",
    "         'Petroleum and other']\n",
    "elec = data[major].sum(axis=1)\n",
    "df2 = pd.DataFrame()\n",
    "df2['elec'] = elec\n",
    "df2['gdp'] = gdp\n",
    "df2['pop'] = pop\n",
    "df2['elecgdp'] = elec / gdp\n",
    "df2['elecpop'] = elec / pop\n",
    "df2 = ((df2 / df2.loc['2011-03-01']) - 1) * 100\n",
    "df2.loc['2011-03-01':].to_csv(data_dir / 'elec.csv', index_label='date')\n",
    "\n",
    "colors = {'gdp': 'green!60!blue', \n",
    "          'pop': 'blue!90!black', \n",
    "          'elec': 'red', \n",
    "          'elecpop': 'orange', \n",
    "          'elecgdp': 'cyan'}\n",
    "\n",
    "adj = node_adj(df2)\n",
    "node_file = open(text_dir / 'elec_nodes.txt', 'w')\n",
    "for series, color in colors.items():\n",
    "    if series in adj.keys():\n",
    "        offset = adj[series]\n",
    "    else:\n",
    "        offset = 0\n",
    "    node_file.write(end_node(df2[series].dropna(), color, \n",
    "                             percent=True))\n",
    "node_file.close()\n",
    "elecgdpch = value_text(df2.elecgdp.dropna().iloc[-1], 'increase_by')\n",
    "elch = df2.elec.dropna().iloc[-1]\n",
    "ctxt = ('remained fairly constant at around four trillion '+\n",
    "        'kilowatt hours')\n",
    "electxt = value_text(elch) if abs(elch) > 0.5 else ctxt\n",
    "ltdate = dtxt(df.index[-1])['mon1']\n",
    "ltval = data[major].iloc[-1].sum()\n",
    "text = ('Since 2011, annualized total US \\\\textbf{electricity '+\n",
    "        f'generation}} has {electxt}. '+\n",
    "        f'Over the same period, the US population has {popinc} '+\n",
    "        f'{c_line(colors[\"pop\"])} and real GDP has {gdpinc} '+\n",
    "        f'{c_line(colors[\"gdp\"])}. As a result, the electricity '+\n",
    "        f'required to produce a unit of real GDP {elecgdpch} '+\n",
    "        f'{c_line(colors[\"elecgdp\"])}.') \n",
    "write_txt(text_dir / 'elec_prod.txt', text)\n",
    "print(text)\n",
    "\n",
    "ngval = data['Natural Gas'].iloc[-1]\n",
    "coalval = data['Coal'].iloc[-1]\n",
    "nucval = data['Nuclear'].iloc[-1]\n",
    "renval = data['Renewables'].iloc[-1]\n",
    "text = (f'During the 12 months ending {ltdate}, the '+\n",
    "        f'US generated {ltval:,.0f} billion kilowatt '+\n",
    "        f'hours of electricity. Of this, {ngval:,.0f} billion '+\n",
    "        'kilowatt hours were generated using '+\n",
    "        'natural gas (see\\cbox{blue!40!cyan!60!white}), '+\n",
    "        f'{coalval:,.0f} billion kilowatt hours were generated '+\n",
    "        f'from coal (see\\cbox{{brown}}), {nucval:,.0f} billion '+\n",
    "        'from nuclear (see\\cbox{{red!80!blue!70!white}}), and '+\n",
    "        f'{renval:,.0f} billion from renewable sources '+\n",
    "        '(see\\cbox{{green!75!blue}}).')\n",
    "write_txt(text_dir / 'elec_prod2.txt', text)\n",
    "print(text)\n",
    "\n",
    "hydval = data['Hydroelectric'].iloc[-1]\n",
    "bioval = data['Biomass'].iloc[-1]\n",
    "geoval = data['Geothermal'].iloc[-1]\n",
    "sunval = data['Solar'].iloc[-1]\n",
    "wndval = data['Wind'].iloc[-1]\n",
    "text = (f'Among renewable energy sources, over the year ending '+\n",
    "        f'{ltdate}, {hydval:,.0f} billion kilowatt hours of '+\n",
    "        'electricity were generated with conventional hydroelectric '+\n",
    "        f'(see\\cbox{{cyan}}), {bioval:,.0f} billion kilowatt hours '+\n",
    "        f'were generated from biomass (see\\cbox{{brown!92!black}}), '+\n",
    "        f'{geoval:,.0f} billion were generated from geothermal '+\n",
    "        f'(see\\cbox{{orange}}), {wndval:,.0f} billion from '+\n",
    "        f'wind (see\\cbox{{green!65!blue}}), and {sunval:,.0f} '+\n",
    "        f'billion from solar (see\\cbox{{yellow!70!orange}}).')\n",
    "write_txt(text_dir / 'elec_prod3.txt', text)\n",
    "print(text)"
   ]
  },
  {
   "cell_type": "code",
   "execution_count": null,
   "id": "6397a2a5",
   "metadata": {},
   "outputs": [],
   "source": []
  },
  {
   "cell_type": "code",
   "execution_count": null,
   "id": "5f7551d2",
   "metadata": {},
   "outputs": [],
   "source": []
  },
  {
   "cell_type": "markdown",
   "id": "68a4211a",
   "metadata": {},
   "source": [
    "### Electricity Retail Sales by Sector"
   ]
  },
  {
   "cell_type": "code",
   "execution_count": 6,
   "id": "273e27ae",
   "metadata": {
    "ExecuteTime": {
     "end_time": "2024-06-11T16:13:04.159509Z",
     "start_time": "2024-06-11T16:13:02.543985Z"
    }
   },
   "outputs": [],
   "source": [
    "# Electricity Retail Sales by Sector\n",
    "s_list = ['RES', 'COM', 'IND']\n",
    "df = pd.DataFrame()\n",
    "for s in s_list:\n",
    "    url = (f'https://api.eia.gov/v2/electricity/retail-sales/data/?api_key={eia_key}&'+\n",
    "           f'frequency=monthly&data[0]=sales&facets[sectorid][]={s}'+\n",
    "           '&facets[stateid][]=US&sort[0][column]=period&sort[0][direction]=desc'+\n",
    "           '&offset=0&length=5000')\n",
    "    r = requests.get(url).json()\n",
    "    df[s] = (pd.Series({pd.to_datetime(f'{i[\"period\"]}-01'): i['sales'] \n",
    "                        for i in r['response']['data']})\n",
    "          .sort_index().to_frame(name='VALUE')).astype('float')\n",
    "df.to_csv(data_dir / 'elec_sales_raw.csv', index_label='date')"
   ]
  },
  {
   "cell_type": "code",
   "execution_count": 7,
   "id": "c330d510",
   "metadata": {
    "ExecuteTime": {
     "end_time": "2024-06-11T16:13:04.174120Z",
     "start_time": "2024-06-11T16:13:04.161043Z"
    }
   },
   "outputs": [
    {
     "name": "stdout",
     "output_type": "stream",
     "text": [
      "Over the year ending March 2024, retail sales of electricity to the residential sector total 1,464 billion kilowatt hours, compared to 1,440 billion during 2019 (see {\\color{green!90!black}\\textbf{---}}). Commercial sector electricity sales total 1,382 billion kilowatt hours over the year ending March 2024, and 1,361 billion in 2019 (see {\\color{blue!80!cyan}\\textbf{---}}). Industrial sector sales total 1,029 billion kilowatt hours in the latest 12 months of data and 1,002 billion in 2019 (see {\\color{black!35!white}\\textbf{---}}).\n"
     ]
    }
   ],
   "source": [
    "df = pd.read_csv(data_dir / 'elec_sales_raw.csv', index_col='date', \n",
    "                 parse_dates=True) / 1_000\n",
    "\n",
    "rename = {'RES': 'Residential', \n",
    "          'COM': 'Commercial',\n",
    "          'IND': 'Industrial'}\n",
    "df.rename(rename, axis=1, inplace=True)\n",
    "\n",
    "data = df.rolling(12).sum().dropna()\n",
    "data.to_csv(data_dir / 'elec_sales.csv', index_label='date')\n",
    "\n",
    "cats = {'Commercial': 'blue!80!cyan', 'Industrial': \n",
    "        'black!35!white', 'Residential': 'green!90!black'}\n",
    "nodes = '\\n'.join([end_node(data[cat], col, digits='comma') \n",
    "                   for cat, col in cats.items()])\n",
    "write_txt(text_dir / 'elec_ret_nodes.txt', nodes)\n",
    "\n",
    "cl = {cat[:3]: c_line(col) for cat, col in cats.items()}\n",
    "ltdt = dtxt(data.index[-1])['mon1']\n",
    "dft = data.applymap('{:,.0f} billion'.format)\n",
    "lt = dft.iloc[-1]\n",
    "pr = dft.loc['2019-12-01']\n",
    "text = (f'Over the year ending {ltdt}, retail sales of electricity '+\n",
    "        f'to the residential sector total {lt.Residential} '+\n",
    "        f'kilowatt hours, compared to {pr.Residential} '+\n",
    "        f'during 2019 {cl[\"Res\"]}. Commercial sector '+\n",
    "        f'electricity sales total {lt.Commercial} kilowatt '+\n",
    "        f'hours over the year ending {ltdt}, and {pr.Commercial} '+\n",
    "        f'in 2019 {cl[\"Com\"]}. Industrial '+\n",
    "        f'sector sales total {lt.Industrial} kilowatt '+\n",
    "        f'hours in the latest 12 months of data and {pr.Industrial} '+\n",
    "        f'in 2019 {cl[\"Ind\"]}.')\n",
    "write_txt(text_dir / 'elec_ret.txt', text)\n",
    "print(text)"
   ]
  },
  {
   "cell_type": "code",
   "execution_count": null,
   "id": "8390199f",
   "metadata": {},
   "outputs": [],
   "source": []
  },
  {
   "cell_type": "code",
   "execution_count": null,
   "id": "5a64a145",
   "metadata": {},
   "outputs": [],
   "source": []
  },
  {
   "cell_type": "markdown",
   "id": "911cba6d",
   "metadata": {},
   "source": [
    "### Weekly retail gasoline prices"
   ]
  },
  {
   "cell_type": "code",
   "execution_count": 8,
   "id": "f2afb824",
   "metadata": {
    "ExecuteTime": {
     "end_time": "2024-06-11T16:13:07.610734Z",
     "start_time": "2024-06-11T16:13:04.175308Z"
    }
   },
   "outputs": [
    {
     "name": "stdout",
     "output_type": "stream",
     "text": [
      "On June 10, 2024, the US average \\href{https://www.eia.gov/opendata/qb.php?category=241021&sdid=EMM_EPM0_PTE_NUS_DPG}{price} for a gallon of \\textbf{gasoline} is \\$3.55 (see {\\color{blue}\\textbf{---}}), a decrease of \\$0.09 from the week prior. This gas price measure, which is the average across formulations, grades, and locations, was \\$3.71 one year prior, and averaged \\$2.69 in 2019. During 2011--2013, the average gas price was \\$3.61.\n"
     ]
    }
   ],
   "source": [
    "s_id = 'EMM_EPM0_PTE_NUS_DPG'\n",
    "url = (f'https://api.eia.gov/v2/petroleum/pri/gnd/data/?api_key={eia_key}'+\n",
    "       f'&frequency=weekly&data[0]=value&facets[series][]={s_id}&start=1990-08-20'+\n",
    "       '&sort[0][column]=period&sort[0][direction]=desc&offset=0&length=5000')\n",
    "r = requests.get(url).json()\n",
    "df = (pd.Series({pd.to_datetime(i['period']): float(i['value']) \n",
    "           for i in r['response']['data']}).to_frame(name='Value').sort_index())\n",
    "df.to_csv(data_dir / 'gas_price.csv', index_label='date')\n",
    "\n",
    "node = end_node(df.Value, 'blue', date='d', digits=2, dollar=True, \n",
    "                full_year=True)\n",
    "write_txt(text_dir / 'gas_price_node.txt', node)\n",
    "\n",
    "# Text\n",
    "ltdt = dtxt(df.index[-1])['day1']\n",
    "ltval = df.Value.iloc[-1]\n",
    "pryrval = df.Value.iloc[-53]\n",
    "v19 = df.Value.loc['2019'].mean()\n",
    "v1113 = df.Value.loc['2011': '2013'].mean()\n",
    "cl = c_line('blue')\n",
    "ch = value_text(df.Value.diff().iloc[-1], 'increase_of', ptype=None, \n",
    "                dollar=True, digits=2, threshold=0.01)\n",
    "url = f'https://www.eia.gov/opendata/qb.php?category=241021&sdid={s_id}'\n",
    "text = (f'On {ltdt}, the US average \\href{{{url}}}{{price}} for a gallon of '+\n",
    "        f'\\\\textbf{{gasoline}} is \\${ltval:.2f} {cl}, {ch} from the week prior. '+\n",
    "        'This gas price measure, which is the average across '+\n",
    "        f'formulations, grades, and locations, was \\${pryrval:.2f} one '+\n",
    "        f'year prior, and averaged \\${v19:.2f} in 2019. During 2011--2013, '+\n",
    "        f'the average gas price was \\${v1113:.2f}.')\n",
    "write_txt(text_dir / 'gas_price.txt', text)\n",
    "print(text)"
   ]
  },
  {
   "cell_type": "code",
   "execution_count": null,
   "id": "d3c2098e",
   "metadata": {},
   "outputs": [],
   "source": []
  },
  {
   "cell_type": "code",
   "execution_count": null,
   "id": "bb35e325",
   "metadata": {},
   "outputs": [],
   "source": []
  },
  {
   "cell_type": "markdown",
   "id": "90c08468",
   "metadata": {},
   "source": [
    "### Oil prices (WTI)"
   ]
  },
  {
   "cell_type": "code",
   "execution_count": 9,
   "id": "9ca211c1",
   "metadata": {
    "ExecuteTime": {
     "end_time": "2024-06-11T16:13:12.520761Z",
     "start_time": "2024-06-11T16:13:07.612130Z"
    }
   },
   "outputs": [
    {
     "name": "stdout",
     "output_type": "stream",
     "text": [
      "Latest Data: April 5, 2024\n"
     ]
    }
   ],
   "source": [
    "data = pd.DataFrame()\n",
    "for year in [1989, 2003, 2015]:\n",
    "    url = (f'https://api.eia.gov/v2/petroleum/pri/fut/data/?api_key={eia_key}'+\n",
    "           '&frequency=daily&data[0]=value&facets[series][]=RCLC1'+\n",
    "           f'&start={year}-01-01&sort[0][column]=period'+\n",
    "           '&sort[0][direction]=asc&offset=0&length=8000')\n",
    "\n",
    "    r = requests.get(url).json()\n",
    "    s = (pd.Series({pd.to_datetime(i['period']): float(i['value']) \n",
    "                 for i in r['response']['data']})\n",
    "            .to_frame(name='VALUE').sort_index())\n",
    "    data = pd.concat([data, s])\n",
    "\n",
    "data = data[~data.index.duplicated(keep='first')]\n",
    "print('Latest Data:', dtxt(data.index[-1])['day1'])\n",
    "data.to_csv(data_dir / 'wti_raw.csv', index_label='date')"
   ]
  },
  {
   "cell_type": "code",
   "execution_count": 10,
   "id": "e640a1fa",
   "metadata": {
    "ExecuteTime": {
     "end_time": "2024-06-11T16:13:12.544532Z",
     "start_time": "2024-06-11T16:13:12.522563Z"
    }
   },
   "outputs": [
    {
     "name": "stdout",
     "output_type": "stream",
     "text": [
      "On April 5, 2024, the \\href{https://www.eia.gov/dnav/pet/hist/RCLC1D.htm}{futures price} for a barrel of west Texas intermediate (WTI) \\textbf{crude oil} is \\$86.91 (see {\\color{red!80!purple}\\textbf{---}}). Over the past year, this measure of oil prices increased 9.4 percent. Over the past four years, the price increased 412.0 percent. The WTI price is currently \\$47 below its peak monthly average price of \\$134 per barrel in June 2008.\n"
     ]
    }
   ],
   "source": [
    "data = pd.read_csv(data_dir / 'wti_raw.csv', index_col='date', \n",
    "                   parse_dates=True)\n",
    "df = data.resample('MS').mean().iloc[:-1]\n",
    "df.index = df.index + pd.DateOffset(days=14)\n",
    "lt = data.iloc[-1].to_frame().T\n",
    "df = pd.concat([df, lt])\n",
    "df.to_csv(data_dir / 'wti.csv', index_label='date')\n",
    "\n",
    "oneyr = value_text(df.VALUE.pct_change(12).iloc[-1] * 100)\n",
    "twoyr = value_text(df.VALUE.pct_change(48).iloc[-1] * 100)\n",
    "\n",
    "color = 'red!80!purple'\n",
    "node = end_node(df.VALUE, color, dollar=True, digits=2, date='d', \n",
    "                offset=True, full_year=True)\n",
    "write_txt(text_dir / 'oil_node.txt', node)\n",
    "\n",
    "maxdt = df.VALUE.idxmax()\n",
    "maxdtt = dtxt(maxdt)['mon1']\n",
    "maxval = df.VALUE.max()\n",
    "ltch = df.loc[maxdt, 'VALUE'] - df.VALUE.iloc[-1]\n",
    "ldate = dtxt(df.index[-1])['day1']\n",
    "url = 'https://www.eia.gov/dnav/pet/hist/RCLC1D.htm'\n",
    "text = (f'On {ldate}, the \\href{{{url}}}{{futures price}} '+\n",
    "        f'for a barrel of west Texas intermediate (WTI) '+\n",
    "        f'\\\\textbf{{crude oil}} is \\${df.VALUE.iloc[-1]:.2f} {c_line(color)}. '+\n",
    "        f'Over the past year, this measure of oil prices {oneyr}. Over '+\n",
    "        f'the past four years, the price {twoyr}. The WTI price is '+\n",
    "        f'currently \\${ltch:.0f} below its peak monthly '+\n",
    "        f'average price of \\${maxval:.0f} per barrel in {maxdtt}.')\n",
    "write_txt(text_dir / 'wti.txt', text)\n",
    "print(text)"
   ]
  },
  {
   "cell_type": "code",
   "execution_count": null,
   "id": "c220a6bb",
   "metadata": {},
   "outputs": [],
   "source": []
  },
  {
   "cell_type": "code",
   "execution_count": null,
   "id": "87fa510e",
   "metadata": {},
   "outputs": [],
   "source": []
  }
 ],
 "metadata": {
  "kernelspec": {
   "display_name": "Python 3 (ipykernel)",
   "language": "python",
   "name": "python3"
  },
  "language_info": {
   "codemirror_mode": {
    "name": "ipython",
    "version": 3
   },
   "file_extension": ".py",
   "mimetype": "text/x-python",
   "name": "python",
   "nbconvert_exporter": "python",
   "pygments_lexer": "ipython3",
   "version": "3.8.13"
  }
 },
 "nbformat": 4,
 "nbformat_minor": 5
}
