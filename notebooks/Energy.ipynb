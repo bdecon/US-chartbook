{
 "cells": [
  {
   "cell_type": "markdown",
   "id": "ed880e5e",
   "metadata": {},
   "source": [
    "### EIA API\n"
   ]
  },
  {
   "cell_type": "code",
   "execution_count": null,
   "id": "dfe4b635",
   "metadata": {},
   "outputs": [],
   "source": []
  },
  {
   "cell_type": "code",
   "execution_count": 1,
   "id": "e09e0362",
   "metadata": {
    "ExecuteTime": {
     "end_time": "2023-02-02T16:07:51.231315Z",
     "start_time": "2023-02-02T16:07:50.284798Z"
    }
   },
   "outputs": [],
   "source": [
    "# Energy Production and Usage\n",
    "import sys\n",
    "sys.path.append('../src')\n",
    "\n",
    "import uschartbook.config\n",
    "\n",
    "from uschartbook.config import *\n",
    "from uschartbook.utils import *"
   ]
  },
  {
   "cell_type": "markdown",
   "id": "d1940eb5",
   "metadata": {},
   "source": [
    "### Crude Oil Production"
   ]
  },
  {
   "cell_type": "code",
   "execution_count": 2,
   "id": "79e53259",
   "metadata": {
    "ExecuteTime": {
     "end_time": "2023-02-02T16:07:52.306166Z",
     "start_time": "2023-02-02T16:07:51.232998Z"
    }
   },
   "outputs": [],
   "source": [
    "# Crude Oil by State Group/Area\n",
    "s_list = ['MCRFPCO2', 'MCRFPTX2', 'MCRFPND2', 'MCRFPNM2', \n",
    "          'MCRFPUS2', 'MCRFP3FM2']\n",
    "s_ids = ';'.join([f'PET.{series}.M' for series in s_list])\n",
    "url = (f'https://api.eia.gov/series/?api_key={eia_key}'+\n",
    "       f'&series_id={s_ids}&start=198801')\n",
    "r = requests.get(url).json()\n",
    "df = pd.DataFrame({i['series_id']: {pd.to_datetime(f'{date}01'): \n",
    "                                    val for date, val in i['data']} \n",
    "                   for i in r['series']}).sort_index().astype('float')\n",
    "df.to_csv(data_dir / 'oil_prod_raw.csv', index_label='date')"
   ]
  },
  {
   "cell_type": "code",
   "execution_count": 3,
   "id": "be3c6a0d",
   "metadata": {
    "ExecuteTime": {
     "end_time": "2023-02-02T16:07:52.322372Z",
     "start_time": "2023-02-02T16:07:52.307348Z"
    }
   },
   "outputs": [
    {
     "name": "stdout",
     "output_type": "stream",
     "text": [
      "During November 2022, the US produced 12.4 million barrels per day, compared to 11.8 million barrels per day in November 2021.\n"
     ]
    }
   ],
   "source": [
    "df = pd.read_csv(data_dir / 'oil_prod_raw.csv', index_col='date', \n",
    "                 parse_dates=True)\n",
    "df['ND_NM_CO'] = df[['PET.MCRFPND2.M', 'PET.MCRFPNM2.M', 'PET.MCRFPCO2.M']].sum(axis=1)\n",
    "df['USA'] = df['PET.MCRFPUS2.M']\n",
    "df['TX'] = df['PET.MCRFPTX2.M']\n",
    "df['GM'] = df['PET.MCRFP3FM2.M']\n",
    "df['OTH'] = df['USA'] - df['TX'] - df['ND_NM_CO'] - df['GM']\n",
    "\n",
    "data = df.loc['1989':,['ND_NM_CO', 'TX', 'OTH', 'GM', 'USA']].divide(1000, axis=1)\n",
    "data.to_csv(data_dir / 'oil_prod.csv', index_label='date')\n",
    "ltdt = dtxt(data.index[-1])['mon1']\n",
    "prdt = dtxt(data.index[-13])['mon1']\n",
    "val = pd.Series({'ltval': data['USA'].iloc[-1], \n",
    "           'pryrval': data['USA'].iloc[-13]})\n",
    "fval = val.apply('{:.1f} million barrels per day'.format)\n",
    "text = (f'During {ltdt}, the US produced {fval.ltval}, '+\n",
    "        f'compared to {fval.pryrval} in {prdt}.')\n",
    "write_txt(text_dir / 'oil_prod.txt', text)\n",
    "print(text)"
   ]
  },
  {
   "cell_type": "code",
   "execution_count": null,
   "id": "c49cd646",
   "metadata": {},
   "outputs": [],
   "source": []
  },
  {
   "cell_type": "code",
   "execution_count": null,
   "id": "ffd0a7bf",
   "metadata": {},
   "outputs": [],
   "source": []
  },
  {
   "cell_type": "markdown",
   "id": "36efcc54",
   "metadata": {},
   "source": [
    "### Electricity Production by Source"
   ]
  },
  {
   "cell_type": "code",
   "execution_count": 4,
   "id": "ebd4233e",
   "metadata": {
    "ExecuteTime": {
     "end_time": "2023-02-02T16:07:53.618034Z",
     "start_time": "2023-02-02T16:07:52.324380Z"
    }
   },
   "outputs": [],
   "source": [
    "# Electricity Production by Major Source\n",
    "s_list = ['COW', 'NUC', 'TSN', 'HYC', 'HPS', 'NG', 'WND', 'GEO', 'WWW',\n",
    "         'WAS', 'PEL', 'PC', 'ALL', 'AOR', 'OTH', 'SUN', 'OOG']\n",
    "s_ids = ';'.join([f'ELEC.GEN.{series}-US-99.M' for series in s_list])\n",
    "url = (f'https://api.eia.gov/series/?api_key={eia_key}'+\n",
    "       f'&series_id={s_ids}')\n",
    "r = requests.get(url).json()\n",
    "df = pd.DataFrame({i['series_id']: {pd.to_datetime(f'{date}01'): \n",
    "                                    val for date, val in i['data']} \n",
    "                   for i in r['series']}).sort_index().astype('float')\n",
    "df.to_csv(data_dir / 'elec_prod_raw.csv', index_label='date')"
   ]
  },
  {
   "cell_type": "code",
   "execution_count": 5,
   "id": "e32c2bf7",
   "metadata": {
    "ExecuteTime": {
     "end_time": "2023-02-02T16:07:53.657775Z",
     "start_time": "2023-02-02T16:07:53.619428Z"
    }
   },
   "outputs": [
    {
     "name": "stdout",
     "output_type": "stream",
     "text": [
      "Since 2011, annualized total US \\textbf{electricity generation} has increased 2.2 percent. Over the same period, the US population has increased by 7.4 percent (see {\\color{blue!90!black}\\textbf{---}}) and real GDP has increased by 28.1 percent (see {\\color{green!60!blue}\\textbf{---}}). As a result, the electricity required to produce a unit of real GDP decreased by 19.7 percent (see {\\color{cyan}\\textbf{---}}).\n",
      "During the 12 months ending November 2022, the US generated 4,217 billion kilowatt hours of electricity. Of this, 1,677 billion kilowatt hours were generated using natural gas (see\\cbox{blue!40!cyan!60!white}), 816 billion kilowatt hours were generated from coal (see\\cbox{brown}), 773 billion from nuclear (see\\cbox{{red!80!blue!70!white}}), and 914 billion from renewable sources (see\\cbox{{green!75!blue}}).\n",
      "Among renewable energy sources, over the year ending November 2022, 264 billion kilowatt hours of electricity were generated with conventional hydroelectric (see\\cbox{cyan}), 54 billion kilowatt hours were generated from biomass (see\\cbox{brown!92!black}), 17 billion were generated from geothermal (see\\cbox{orange}), 435 billion from wind (see\\cbox{green!65!blue}), and 144 billion from solar (see\\cbox{yellow!70!orange}).\n"
     ]
    }
   ],
   "source": [
    "df = pd.read_csv(data_dir / 'elec_prod_raw.csv', index_col='date', \n",
    "                 parse_dates=True)\n",
    "\n",
    "renew = ['SUN', 'HYC', 'WND', 'GEO', 'WAS', 'WWW']\n",
    "renewables = [f'ELEC.GEN.{i}-US-99.M' for i in renew]\n",
    "df['Renewables'] = df[renewables].sum(axis=1)\n",
    "\n",
    "poth = ['PEL', 'PC', 'OTH', 'OOG', 'HPS']\n",
    "petoth = [f'ELEC.GEN.{i}-US-99.M' for i in poth]\n",
    "df['Petroleum and other'] = df[petoth].sum(axis=1)\n",
    "\n",
    "bio = ['WWW', 'WAS']\n",
    "biomass = [f'ELEC.GEN.{i}-US-99.M' for i in bio]\n",
    "df['Biomass'] = df[biomass].sum(axis=1)\n",
    "\n",
    "rename = {'ELEC.GEN.COW-US-99.M': 'Coal', \n",
    "          'ELEC.GEN.NUC-US-99.M': 'Nuclear', \n",
    "          'ELEC.GEN.NG-US-99.M': 'Natural Gas',\n",
    "          'ELEC.GEN.HYC-US-99.M': 'Hydroelectric',\n",
    "          'ELEC.GEN.SUN-US-99.M': 'Solar',\n",
    "          'ELEC.GEN.WND-US-99.M': 'Wind',\n",
    "          'ELEC.GEN.GEO-US-99.M': 'Geothermal'}\n",
    "df.rename(rename, axis=1, inplace=True)\n",
    "\n",
    "var = ['Coal', 'Natural Gas', 'Nuclear', 'Renewables', \n",
    "       'Petroleum and other', 'Hydroelectric', 'Solar', \n",
    "       'Wind', 'Geothermal', 'Biomass']\n",
    "data = df[var].rolling(12).sum().dropna().divide(1000, axis=1)\n",
    "data.to_csv(data_dir / 'elec_prod.csv', index_label='date')\n",
    "\n",
    "popgdp = pd.read_csv(data_dir / 'gdpjobslvl.csv', index_col='date', \n",
    "                     parse_dates=True)\n",
    "popgdp.index = popgdp.index + pd.DateOffset(months=2)\n",
    "pop = popgdp['pop'].dropna()\n",
    "popch = (pop.iloc[-1] / pop.loc['2011-03-01'].mean() - 1) * 100\n",
    "popinc = inc_dec_percent(popch)\n",
    "gdp = popgdp['gdp'].dropna()\n",
    "gdpch = (gdp.iloc[-1] / gdp.loc['2011-03-01'].mean() - 1) * 100\n",
    "gdpinc = inc_dec_percent(gdpch)\n",
    "major = ['Coal', 'Natural Gas', 'Nuclear', 'Renewables', \n",
    "         'Petroleum and other']\n",
    "elec = data[major].sum(axis=1)\n",
    "df2 = pd.DataFrame()\n",
    "df2['elec'] = elec\n",
    "df2['gdp'] = gdp\n",
    "df2['pop'] = pop\n",
    "df2['elecgdp'] = elec / gdp\n",
    "df2['elecpop'] = elec / pop\n",
    "df2 = ((df2 / df2.loc['2011-03-01']) - 1) * 100\n",
    "df2.loc['2011-03-01':].to_csv(data_dir / 'elec.csv', index_label='date')\n",
    "\n",
    "colors = {'gdp': 'green!60!blue', \n",
    "          'pop': 'blue!90!black', \n",
    "          'elec': 'red', \n",
    "          'elecpop': 'orange', \n",
    "          'elecgdp': 'cyan'}\n",
    "\n",
    "adj = node_adj(df2)\n",
    "node_file = open(text_dir / 'elec_nodes.txt', 'w')\n",
    "for series, color in colors.items():\n",
    "    if series in adj.keys():\n",
    "        offset = adj[series]\n",
    "    else:\n",
    "        offset = 0\n",
    "    node_file.write(end_node(df2[series].dropna(), color, \n",
    "                             percent=True))\n",
    "node_file.close()\n",
    "elecgdpch = value_text(df2.elecgdp.dropna().iloc[-1], 'increase_by')\n",
    "elch = df2.elec.dropna().iloc[-1]\n",
    "ctxt = ('remained fairly constant at around four trillion '+\n",
    "        'kilowatt hours')\n",
    "electxt = value_text(elch) if abs(elch) > 0.5 else ctxt\n",
    "ltdate = dtxt(df.index[-1])['mon1']\n",
    "ltval = data[major].iloc[-1].sum()\n",
    "text = ('Since 2011, annualized total US \\\\textbf{electricity '+\n",
    "        f'generation}} has {electxt}. '+\n",
    "        f'Over the same period, the US population has {popinc} '+\n",
    "        f'{c_line(colors[\"pop\"])} and real GDP has {gdpinc} '+\n",
    "        f'{c_line(colors[\"gdp\"])}. As a result, the electricity '+\n",
    "        f'required to produce a unit of real GDP {elecgdpch} '+\n",
    "        f'{c_line(colors[\"elecgdp\"])}.') \n",
    "write_txt(text_dir / 'elec_prod.txt', text)\n",
    "print(text)\n",
    "\n",
    "ngval = data['Natural Gas'].iloc[-1]\n",
    "coalval = data['Coal'].iloc[-1]\n",
    "nucval = data['Nuclear'].iloc[-1]\n",
    "renval = data['Renewables'].iloc[-1]\n",
    "text = (f'During the 12 months ending {ltdate}, the '+\n",
    "        f'US generated {ltval:,.0f} billion kilowatt '+\n",
    "        f'hours of electricity. Of this, {ngval:,.0f} billion '+\n",
    "        'kilowatt hours were generated using '+\n",
    "        'natural gas (see\\cbox{blue!40!cyan!60!white}), '+\n",
    "        f'{coalval:,.0f} billion kilowatt hours were generated '+\n",
    "        f'from coal (see\\cbox{{brown}}), {nucval:,.0f} billion '+\n",
    "        'from nuclear (see\\cbox{{red!80!blue!70!white}}), and '+\n",
    "        f'{renval:,.0f} billion from renewable sources '+\n",
    "        '(see\\cbox{{green!75!blue}}).')\n",
    "write_txt(text_dir / 'elec_prod2.txt', text)\n",
    "print(text)\n",
    "\n",
    "hydval = data['Hydroelectric'].iloc[-1]\n",
    "bioval = data['Biomass'].iloc[-1]\n",
    "geoval = data['Geothermal'].iloc[-1]\n",
    "sunval = data['Solar'].iloc[-1]\n",
    "wndval = data['Wind'].iloc[-1]\n",
    "text = (f'Among renewable energy sources, over the year ending '+\n",
    "        f'{ltdate}, {hydval:,.0f} billion kilowatt hours of '+\n",
    "        'electricity were generated with conventional hydroelectric '+\n",
    "        f'(see\\cbox{{cyan}}), {bioval:,.0f} billion kilowatt hours '+\n",
    "        f'were generated from biomass (see\\cbox{{brown!92!black}}), '+\n",
    "        f'{geoval:,.0f} billion were generated from geothermal '+\n",
    "        f'(see\\cbox{{orange}}), {wndval:,.0f} billion from '+\n",
    "        f'wind (see\\cbox{{green!65!blue}}), and {sunval:,.0f} '+\n",
    "        f'billion from solar (see\\cbox{{yellow!70!orange}}).')\n",
    "write_txt(text_dir / 'elec_prod3.txt', text)\n",
    "print(text)"
   ]
  },
  {
   "cell_type": "code",
   "execution_count": null,
   "id": "6397a2a5",
   "metadata": {},
   "outputs": [],
   "source": []
  },
  {
   "cell_type": "code",
   "execution_count": null,
   "id": "5f7551d2",
   "metadata": {},
   "outputs": [],
   "source": []
  },
  {
   "cell_type": "markdown",
   "id": "68a4211a",
   "metadata": {},
   "source": [
    "### Electricity Retail Sales by Sector"
   ]
  },
  {
   "cell_type": "code",
   "execution_count": 6,
   "id": "273e27ae",
   "metadata": {
    "ExecuteTime": {
     "end_time": "2023-02-02T16:07:54.372781Z",
     "start_time": "2023-02-02T16:07:53.659277Z"
    }
   },
   "outputs": [],
   "source": [
    "# Electricity Retail Sales by Sector\n",
    "s_list = ['RES', 'COM', 'IND']\n",
    "s_ids = ';'.join([f'ELEC.SALES.US-{series}.M' for series in s_list])\n",
    "url = (f'https://api.eia.gov/series/?api_key={eia_key}'+\n",
    "       f'&series_id={s_ids}&start=200101')\n",
    "r = requests.get(url).json()\n",
    "df = pd.DataFrame({i['series_id']: {pd.to_datetime(f'{date}01'): \n",
    "                                    val for date, val in i['data']} \n",
    "                   for i in r['series']}).sort_index().astype('float')\n",
    "df.to_csv(data_dir / 'elec_sales_raw.csv', index_label='date')"
   ]
  },
  {
   "cell_type": "code",
   "execution_count": 7,
   "id": "c330d510",
   "metadata": {
    "ExecuteTime": {
     "end_time": "2023-02-02T16:07:54.385989Z",
     "start_time": "2023-02-02T16:07:54.373980Z"
    }
   },
   "outputs": [
    {
     "name": "stdout",
     "output_type": "stream",
     "text": [
      "Over the year ending November 2022, retail sales of electricity to the residential sector total 1,506 billion kilowatt hours, compared to 1,440 billion during 2019 (see {\\color{green!90!black}\\textbf{---}}). Commercial sector electricity sales total 1,368 billion kilowatt hours over the year ending November 2022, and 1,361 billion in 2019 (see {\\color{blue!80!cyan}\\textbf{---}}). Industrial sector sales total 1,010 billion kilowatt hours in the latest 12 months of data and 1,002 billion in 2019 (see {\\color{black!35!white}\\textbf{---}}).\n"
     ]
    }
   ],
   "source": [
    "df = pd.read_csv(data_dir / 'elec_sales_raw.csv', index_col='date', \n",
    "                 parse_dates=True) / 1_000\n",
    "\n",
    "rename = {'ELEC.SALES.US-RES.M': 'Residential', \n",
    "          'ELEC.SALES.US-COM.M': 'Commercial',\n",
    "          'ELEC.SALES.US-IND.M': 'Industrial'}\n",
    "df.rename(rename, axis=1, inplace=True)\n",
    "\n",
    "data = df.rolling(12).sum().dropna()\n",
    "data.to_csv(data_dir / 'elec_sales.csv', index_label='date')\n",
    "\n",
    "cats = {'Commercial': 'blue!80!cyan', 'Industrial': \n",
    "        'black!35!white', 'Residential': 'green!90!black'}\n",
    "nodes = '\\n'.join([end_node(data[cat], col, digits='comma') \n",
    "                   for cat, col in cats.items()])\n",
    "write_txt(text_dir / 'elec_ret_nodes.txt', nodes)\n",
    "\n",
    "cl = {cat[:3]: c_line(col) for cat, col in cats.items()}\n",
    "ltdt = dtxt(data.index[-1])['mon1']\n",
    "dft = data.applymap('{:,.0f} billion'.format)\n",
    "lt = dft.iloc[-1]\n",
    "pr = dft.loc['2019-12-01']\n",
    "text = (f'Over the year ending {ltdt}, retail sales of electricity '+\n",
    "        f'to the residential sector total {lt.Residential} '+\n",
    "        f'kilowatt hours, compared to {pr.Residential} '+\n",
    "        f'during 2019 {cl[\"Res\"]}. Commercial sector '+\n",
    "        f'electricity sales total {lt.Commercial} kilowatt '+\n",
    "        f'hours over the year ending {ltdt}, and {pr.Commercial} '+\n",
    "        f'in 2019 {cl[\"Com\"]}. Industrial '+\n",
    "        f'sector sales total {lt.Industrial} kilowatt '+\n",
    "        f'hours in the latest 12 months of data and {pr.Industrial} '+\n",
    "        f'in 2019 {cl[\"Ind\"]}.')\n",
    "write_txt(text_dir / 'elec_ret.txt', text)\n",
    "print(text)"
   ]
  },
  {
   "cell_type": "code",
   "execution_count": null,
   "id": "8390199f",
   "metadata": {},
   "outputs": [],
   "source": []
  },
  {
   "cell_type": "code",
   "execution_count": null,
   "id": "5a64a145",
   "metadata": {},
   "outputs": [],
   "source": []
  },
  {
   "cell_type": "markdown",
   "id": "911cba6d",
   "metadata": {},
   "source": [
    "### Weekly retail gasoline prices"
   ]
  },
  {
   "cell_type": "code",
   "execution_count": 8,
   "id": "75ca030a",
   "metadata": {
    "ExecuteTime": {
     "end_time": "2023-02-02T16:07:55.206120Z",
     "start_time": "2023-02-02T16:07:54.387300Z"
    }
   },
   "outputs": [
    {
     "name": "stdout",
     "output_type": "stream",
     "text": [
      "On January 30, 2023, the US average \\href{https://www.eia.gov/opendata/qb.php?category=241021&sdid=PET.EMM_EPM0_PTE_NUS_DPG.W}{price} for a gallon of \\textbf{gasoline} is \\$3.59 (see {\\color{blue}\\textbf{---}}), an increase of \\$0.07 from the week prior. This gas price measure, which is the average across formulations, grades, and locations, was \\$3.46 one year prior, and averaged \\$2.69 in 2019. During 2011--2013, the average gas price was \\$3.61.\n"
     ]
    }
   ],
   "source": [
    "s_id = 'PET.EMM_EPM0_PTE_NUS_DPG.W'\n",
    "url = (f'https://api.eia.gov/series/?api_key={eia_key}'+\n",
    "       f'&series_id={s_id}')\n",
    "r = requests.get(url).json()\n",
    "df = (pd.DataFrame({i['series_id']: {pd.to_datetime(date): val \n",
    "                                     for date, val in i['data']} \n",
    "                    for i in r['series']}).sort_index()\n",
    "        .astype('float').rename({s_id: 'Value'}, axis=1))\n",
    "df.to_csv(data_dir / 'gas_price.csv', index_label='date')\n",
    "\n",
    "node = end_node(df.Value, 'blue', date='d', digits=2, dollar=True, \n",
    "                full_year=True)\n",
    "write_txt(text_dir / 'gas_price_node.txt', node)\n",
    "\n",
    "# Text\n",
    "ltdt = dtxt(df.index[-1])['day1']\n",
    "ltval = df.Value.iloc[-1]\n",
    "pryrval = df.Value.iloc[-53]\n",
    "v19 = df.Value.loc['2019'].mean()\n",
    "v1113 = df.Value.loc['2011': '2013'].mean()\n",
    "cl = c_line('blue')\n",
    "ch = value_text(df.Value.diff().iloc[-1], 'increase_of', ptype=None, \n",
    "                dollar=True, digits=2)\n",
    "url = f'https://www.eia.gov/opendata/qb.php?category=241021&sdid={s_id}'\n",
    "text = (f'On {ltdt}, the US average \\href{{{url}}}{{price}} for a gallon of '+\n",
    "        f'\\\\textbf{{gasoline}} is \\${ltval:.2f} {cl}, {ch} from the week prior. '+\n",
    "        'This gas price measure, which is the average across '+\n",
    "        f'formulations, grades, and locations, was \\${pryrval:.2f} one '+\n",
    "        f'year prior, and averaged \\${v19:.2f} in 2019. During 2011--2013, '+\n",
    "        f'the average gas price was \\${v1113:.2f}.')\n",
    "write_txt(text_dir / 'gas_price.txt', text)\n",
    "print(text)"
   ]
  },
  {
   "cell_type": "code",
   "execution_count": null,
   "id": "d3c2098e",
   "metadata": {},
   "outputs": [],
   "source": []
  },
  {
   "cell_type": "markdown",
   "id": "90c08468",
   "metadata": {},
   "source": [
    "### Oil prices (WTI)"
   ]
  },
  {
   "cell_type": "code",
   "execution_count": 9,
   "id": "c504f18a",
   "metadata": {
    "ExecuteTime": {
     "end_time": "2023-02-02T16:07:56.645836Z",
     "start_time": "2023-02-02T16:07:55.207843Z"
    }
   },
   "outputs": [
    {
     "name": "stdout",
     "output_type": "stream",
     "text": [
      "Latest Data: January 31, 2023\n"
     ]
    }
   ],
   "source": [
    "url = (f'https://api.eia.gov/series/?api_key={eia_key}'+\n",
    "       '&series_id=PET.RCLC1.D&start=19890101')\n",
    "\n",
    "r = requests.get(url).json()\n",
    "data = (pd.Series({pd.to_datetime(f'{i[0]}'): i[1] \n",
    "                   for i in r['series'][0]['data']})\n",
    "          .sort_index().to_frame(name='VALUE'))\n",
    "print('Latest Data:', dtxt(data.index[-1])['day1'])\n",
    "data.to_csv(data_dir / 'wti_raw.csv', index_label='date')"
   ]
  },
  {
   "cell_type": "code",
   "execution_count": 10,
   "id": "e640a1fa",
   "metadata": {
    "ExecuteTime": {
     "end_time": "2023-02-02T16:07:56.670308Z",
     "start_time": "2023-02-02T16:07:56.647897Z"
    }
   },
   "outputs": [
    {
     "name": "stdout",
     "output_type": "stream",
     "text": [
      "On January 31, 2023, the \\href{https://www.eia.gov/dnav/pet/hist/RCLC1D.htm}{futures price} for a barrel of west Texas intermediate (WTI) \\textbf{crude oil} is \\$78.87 (see {\\color{red!80!purple}\\textbf{---}}). Over the past year, this measure of oil prices decreased five percent. Over the past three years, the price increased 36.6 percent. The WTI price is currently \\$55 below its peak monthly average price of \\$134 per barrel in June 2008.\n"
     ]
    }
   ],
   "source": [
    "data = pd.read_csv(data_dir / 'wti_raw.csv', index_col='date', \n",
    "                   parse_dates=True)\n",
    "df = data.resample('MS').mean().iloc[:-1]\n",
    "df.index = df.index + pd.DateOffset(days=14)\n",
    "lt = data.iloc[-1].to_frame().T\n",
    "df = pd.concat([df, lt])\n",
    "df.to_csv(data_dir / 'wti.csv', index_label='date')\n",
    "\n",
    "oneyr = value_text(df.VALUE.pct_change(12).iloc[-1] * 100)\n",
    "twoyr = value_text(df.VALUE.pct_change(36).iloc[-1] * 100)\n",
    "\n",
    "color = 'red!80!purple'\n",
    "node = end_node(df.VALUE, color, dollar=True, digits=2, date='d', \n",
    "                offset=True, full_year=True)\n",
    "write_txt(text_dir / 'oil_node.txt', node)\n",
    "\n",
    "maxdt = df.VALUE.idxmax()\n",
    "maxdtt = dtxt(maxdt)['mon1']\n",
    "maxval = df.VALUE.max()\n",
    "ltch = df.loc[maxdt, 'VALUE'] - df.VALUE.iloc[-1]\n",
    "ldate = dtxt(df.index[-1])['day1']\n",
    "url = 'https://www.eia.gov/dnav/pet/hist/RCLC1D.htm'\n",
    "text = (f'On {ldate}, the \\href{{{url}}}{{futures price}} '+\n",
    "        f'for a barrel of west Texas intermediate (WTI) '+\n",
    "        f'\\\\textbf{{crude oil}} is \\${df.VALUE.iloc[-1]:.2f} {c_line(color)}. '+\n",
    "        f'Over the past year, this measure of oil prices {oneyr}. Over '+\n",
    "        f'the past three years, the price {twoyr}. The WTI price is '+\n",
    "        f'currently \\${ltch:.0f} below its peak monthly '+\n",
    "        f'average price of \\${maxval:.0f} per barrel in {maxdtt}.')\n",
    "write_txt(text_dir / 'wti.txt', text)\n",
    "print(text)"
   ]
  },
  {
   "cell_type": "code",
   "execution_count": null,
   "id": "c220a6bb",
   "metadata": {},
   "outputs": [],
   "source": []
  },
  {
   "cell_type": "code",
   "execution_count": null,
   "id": "87fa510e",
   "metadata": {},
   "outputs": [],
   "source": []
  },
  {
   "cell_type": "code",
   "execution_count": null,
   "id": "bf9556cb",
   "metadata": {},
   "outputs": [],
   "source": []
  }
 ],
 "metadata": {
  "kernelspec": {
   "display_name": "Python 3 (ipykernel)",
   "language": "python",
   "name": "python3"
  },
  "language_info": {
   "codemirror_mode": {
    "name": "ipython",
    "version": 3
   },
   "file_extension": ".py",
   "mimetype": "text/x-python",
   "name": "python",
   "nbconvert_exporter": "python",
   "pygments_lexer": "ipython3",
   "version": "3.8.13"
  }
 },
 "nbformat": 4,
 "nbformat_minor": 5
}
