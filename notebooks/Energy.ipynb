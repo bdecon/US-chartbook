{
 "cells": [
  {
   "cell_type": "code",
   "execution_count": 3,
   "id": "e09e0362",
   "metadata": {
    "ExecuteTime": {
     "end_time": "2022-01-31T23:07:52.318037Z",
     "start_time": "2022-01-31T23:07:52.315772Z"
    }
   },
   "outputs": [],
   "source": [
    "# Energy Production and Usage\n",
    "import sys\n",
    "sys.path.append('../src')\n",
    "\n",
    "import uschartbook.config\n",
    "\n",
    "from uschartbook.config import *\n",
    "from uschartbook.utils import *"
   ]
  },
  {
   "cell_type": "code",
   "execution_count": 6,
   "id": "be3c6a0d",
   "metadata": {
    "ExecuteTime": {
     "end_time": "2022-01-31T23:19:28.513074Z",
     "start_time": "2022-01-31T23:19:26.332698Z"
    }
   },
   "outputs": [
    {
     "name": "stdout",
     "output_type": "stream",
     "text": [
      "During November 2021, the US produced 11.8 million barrels per day.\n"
     ]
    }
   ],
   "source": [
    "# Crude Oil by State Group/Area\n",
    "s_ids = ['MCRFPCO2', 'MCRFPTX2', 'MCRFPND2', 'MCRFPNM2', \n",
    "         'MCRFPUS2', 'MCRFP3FM2']\n",
    "\n",
    "d = {}\n",
    "for series in s_ids:\n",
    "    s = f'PET.{series}.M'\n",
    "    url = f'http://api.eia.gov/series/?api_key={eia_key}&series_id={s}&start=198801'    \n",
    "    r = requests.get(url).json()\n",
    "    data = {pd.to_datetime(f'{i[0]}01'): i[1] for i in r['series'][0]['data']}\n",
    "    d[r['series'][0]['series_id']] = data\n",
    "    \n",
    "df = pd.DataFrame(d).sort_index()\n",
    "df['ND_NM_CO'] = df[['PET.MCRFPND2.M', 'PET.MCRFPNM2.M', 'PET.MCRFPCO2.M']].sum(axis=1)\n",
    "df['USA'] = df['PET.MCRFPUS2.M']\n",
    "df['TX'] = df['PET.MCRFPTX2.M']\n",
    "df['GM'] = df['PET.MCRFP3FM2.M']\n",
    "df['OTH'] = df['USA'] - df['TX'] - df['ND_NM_CO'] - df['GM']\n",
    "\n",
    "data = df.loc['1989':,['ND_NM_CO', 'TX', 'OTH', 'GM', 'USA']].divide(1000, axis=1)\n",
    "data.to_csv(data_dir / 'oil_prod.csv', index_label='date')\n",
    "ltdate = dtxt(data.index[-1])['mon1']\n",
    "ltval = data['USA'].iloc[-1]\n",
    "text = (f'During {ltdate}, the US produced {ltval:.1f} million barrels per day.')\n",
    "write_txt(text_dir / 'oil_prod.txt', text)\n",
    "print(text)"
   ]
  },
  {
   "cell_type": "code",
   "execution_count": 7,
   "id": "e32c2bf7",
   "metadata": {
    "ExecuteTime": {
     "end_time": "2022-01-31T23:19:39.326854Z",
     "start_time": "2022-01-31T23:19:35.101739Z"
    }
   },
   "outputs": [
    {
     "name": "stdout",
     "output_type": "stream",
     "text": [
      "Over the same period, the US population has increased by 6.3 percent and real GDP has increased by 24.6 percent. During the 12 months ending November 2021, the US generated 4,123 billion kilowatt hours of electricity.\n",
      "Over the year ending November 2021, 1,577 billion kilowatt hours of electricity were generated using natural gas (see\\cbox{blue!40!cyan!60!white}), 918 billion kilowatt hours were generated from coal (see\\cbox{brown}), 779 billion from nuclear (see\\cbox{red!80!blue!70!white}), and 812 billion from renewable sources (see\\cbox{green!75!blue}).\n",
      "Among renewable energy sources, over the year ending November 2021, 256 billion kilowatt hours of electricity were generated with conventional hydroelectric (see\\cbox{cyan}), 56 billion kilowatt hours were generated from biomass (see\\cbox{brown!92!black}), 16 billion were generated from geothermal (see\\cbox{orange}), 371 billion from wind (see\\cbox{green!65!blue}), and 113 billion from solar (see\\cbox{yellow!70!orange}).\n"
     ]
    }
   ],
   "source": [
    "# Electricity Production by Major Source\n",
    "s_ids = ['COW', 'NUC', 'TSN', 'HYC', 'HPS', 'NG', 'WND', 'GEO', 'WWW',\n",
    "         'WAS', 'PEL', 'PC', 'ALL', 'AOR', 'OTH', 'SUN', 'OOG']\n",
    "\n",
    "d = {}\n",
    "for series in s_ids:\n",
    "    s = f'ELEC.GEN.{series}-US-99.M'\n",
    "    url = f'http://api.eia.gov/series/?api_key={eia_key}&series_id={s}&out=json'    \n",
    "    r = requests.get(url).json()\n",
    "    data = {pd.to_datetime(f'{i[0]}01'): i[1] for i in r['series'][0]['data']}\n",
    "    d[r['series'][0]['series_id']] = data\n",
    "    \n",
    "df = pd.DataFrame(d).sort_index()\n",
    "\n",
    "renew = ['SUN', 'HYC', 'WND', 'GEO', 'WAS', 'WWW']\n",
    "renewables = [f'ELEC.GEN.{i}-US-99.M' for i in renew]\n",
    "df['Renewables'] = df[renewables].sum(axis=1)\n",
    "\n",
    "poth = ['PEL', 'PC', 'OTH', 'OOG', 'HPS']\n",
    "petoth = [f'ELEC.GEN.{i}-US-99.M' for i in poth]\n",
    "df['Petroleum and other'] = df[petoth].sum(axis=1)\n",
    "\n",
    "bio = ['WWW', 'WAS']\n",
    "biomass = [f'ELEC.GEN.{i}-US-99.M' for i in bio]\n",
    "df['Biomass'] = df[biomass].sum(axis=1)\n",
    "\n",
    "rename = {'ELEC.GEN.COW-US-99.M': 'Coal', \n",
    "          'ELEC.GEN.NUC-US-99.M': 'Nuclear', \n",
    "          'ELEC.GEN.NG-US-99.M': 'Natural Gas',\n",
    "          'ELEC.GEN.HYC-US-99.M': 'Hydroelectric',\n",
    "          'ELEC.GEN.SUN-US-99.M': 'Solar',\n",
    "          'ELEC.GEN.WND-US-99.M': 'Wind',\n",
    "          'ELEC.GEN.GEO-US-99.M': 'Geothermal'}\n",
    "df.rename(rename, axis=1, inplace=True)\n",
    "\n",
    "var = ['Coal', 'Natural Gas', 'Nuclear', 'Renewables', 'Petroleum and other',\n",
    "       'Hydroelectric', 'Solar', 'Wind', 'Geothermal', 'Biomass']\n",
    "data = df[var].rolling(12).sum().dropna().divide(1000, axis=1)\n",
    "data.to_csv(data_dir / 'elec_prod.csv', index_label='date')\n",
    "\n",
    "popgdp = pd.read_csv(data_dir / 'gdpjobslvl.csv', index_col='date', parse_dates=True)\n",
    "pop = popgdp['pop'].dropna()\n",
    "popch = (pop.iloc[-1] / pop.loc['2011'].mean() - 1) * 100\n",
    "popinc = inc_dec_percent(popch)\n",
    "gdp = popgdp['gdp'].dropna()\n",
    "gdpch = (gdp.iloc[-1] / gdp.loc['2011'].mean() - 1) * 100\n",
    "gdpinc = inc_dec_percent(gdpch)\n",
    "major = ['Coal', 'Natural Gas', 'Nuclear', 'Renewables', 'Petroleum and other']\n",
    "elec = data[major].sum(axis=1)\n",
    "df2 = pd.DataFrame()\n",
    "df2['elec'] = elec\n",
    "df2['gdp'] = gdp\n",
    "df2['pop'] = pop\n",
    "df2['elecgdp'] = elec / gdp\n",
    "df2['elecpop'] = elec / pop\n",
    "df2 = ((df2 / df2.loc['2011-01-01']) - 1) * 100\n",
    "df2.loc['2011':].to_csv(data_dir / 'elec.csv', index_label='date')\n",
    "\n",
    "colors = {'gdp': 'green!60!blue', \n",
    "          'pop': 'blue!90!black', \n",
    "          'elec': 'red', \n",
    "          'elecpop': 'orange', \n",
    "          'elecgdp': 'cyan'}\n",
    "\n",
    "adj = node_adjust(df2, colors)\n",
    "\n",
    "#write_txt(text_dir / 'elec_nodes.txt', '')\n",
    "node_file = open(text_dir / 'elec_nodes.txt', 'w')\n",
    "for series, color in colors.items():\n",
    "    if series in adj.keys():\n",
    "        offset = adj[series]\n",
    "    else:\n",
    "        offset = 0\n",
    "    node_file.write(end_node(df2[series].dropna(), color, percent=True))\n",
    "node_file.close()\n",
    "\n",
    "ltdate = dtxt(df.index[-1])['mon1']\n",
    "ltval = data[major].iloc[-1].sum()\n",
    "text = (f'Over the same period, the US population has {popinc} and real GDP has {gdpinc}. '+\n",
    "        f'During the 12 months ending {ltdate}, the US generated {ltval:,.0f} billion kilowatt '+\n",
    "        'hours of electricity.') \n",
    "write_txt(text_dir / 'elec_prod.txt', text)\n",
    "print(text)\n",
    "\n",
    "ngval = data['Natural Gas'].iloc[-1]\n",
    "coalval = data['Coal'].iloc[-1]\n",
    "nucval = data['Nuclear'].iloc[-1]\n",
    "renval = data['Renewables'].iloc[-1]\n",
    "text = (f'Over the year ending {ltdate}, {ngval:,.0f} billion kilowatt hours '+\n",
    "        'of electricity were generated using natural gas (see\\cbox{blue!40!cyan!60!white}), '+\n",
    "        f'{coalval:,.0f} billion kilowatt hours were generated from coal '+\n",
    "        f'(see\\cbox{{brown}}), {nucval:,.0f} billion from nuclear (see\\cbox{{red!80!blue!70!white}}), '+\n",
    "        f'and {renval:,.0f} billion from renewable sources (see\\cbox{{green!75!blue}}).')\n",
    "write_txt(text_dir / 'elec_prod2.txt', text)\n",
    "print(text)\n",
    "\n",
    "hydval = data['Hydroelectric'].iloc[-1]\n",
    "bioval = data['Biomass'].iloc[-1]\n",
    "geoval = data['Geothermal'].iloc[-1]\n",
    "sunval = data['Solar'].iloc[-1]\n",
    "wndval = data['Wind'].iloc[-1]\n",
    "text = (f'Among renewable energy sources, over the year ending {ltdate}, {hydval:,.0f} billion '+\n",
    "        'kilowatt hours of electricity were generated with conventional hydroelectric (see\\cbox{cyan}), '+\n",
    "        f'{bioval:,.0f} billion kilowatt hours were generated from biomass (see\\cbox{{brown!92!black}}), '+\n",
    "        f'{geoval:,.0f} billion were generated from geothermal (see\\cbox{{orange}}), '+\n",
    "        f'{wndval:,.0f} billion from wind (see\\cbox{{green!65!blue}}), '+\n",
    "        f'and {sunval:,.0f} billion from solar (see\\cbox{{yellow!70!orange}}).')\n",
    "write_txt(text_dir / 'elec_prod3.txt', text)\n",
    "print(text)"
   ]
  },
  {
   "cell_type": "code",
   "execution_count": null,
   "id": "f1699014",
   "metadata": {},
   "outputs": [],
   "source": []
  },
  {
   "cell_type": "code",
   "execution_count": null,
   "id": "f55d2897",
   "metadata": {},
   "outputs": [],
   "source": []
  },
  {
   "cell_type": "code",
   "execution_count": 8,
   "id": "c330d510",
   "metadata": {
    "ExecuteTime": {
     "end_time": "2022-01-31T23:19:44.956061Z",
     "start_time": "2022-01-31T23:19:44.317285Z"
    }
   },
   "outputs": [],
   "source": [
    "# Electricity Retail Sales by Sector\n",
    "s_ids = ['RES', 'COM', 'IND']\n",
    "\n",
    "d = {}\n",
    "for series in s_ids:\n",
    "    s = f'ELEC.SALES.US-{series}.M'\n",
    "    url = f'http://api.eia.gov/series/?api_key={eia_key}&series_id={s}&out=json'    \n",
    "    r = requests.get(url).json()\n",
    "    data = {pd.to_datetime(f'{i[0]}01'): i[1] for i in r['series'][0]['data']}\n",
    "    d[r['series'][0]['series_id']] = data\n",
    "    \n",
    "df = pd.DataFrame(d).sort_index() / 1_000\n",
    "\n",
    "rename = {'ELEC.SALES.US-RES.M': 'Residential', \n",
    "          'ELEC.SALES.US-COM.M': 'Commercial',\n",
    "          'ELEC.SALES.US-IND.M': 'Industrial',}\n",
    "df.rename(rename, axis=1, inplace=True)\n",
    "\n",
    "data = df.rolling(12).sum().dropna()\n",
    "data.to_csv(data_dir / 'elec_sales.csv', index_label='date')\n",
    "\n",
    "write_txt(text_dir / 'elec_comm_node.txt', \n",
    "          end_node(data['Commercial'], 'blue!80!cyan', digits='comma'))\n",
    "write_txt(text_dir / 'elec_ind_node.txt', \n",
    "          end_node(data['Industrial'], 'black!35!white', digits='comma'))\n",
    "write_txt(text_dir / 'elec_res_node.txt', \n",
    "          end_node(data['Residential'], 'green!90!black', digits='comma'))"
   ]
  },
  {
   "cell_type": "code",
   "execution_count": null,
   "id": "62a8add9",
   "metadata": {},
   "outputs": [],
   "source": []
  },
  {
   "cell_type": "code",
   "execution_count": null,
   "id": "8390199f",
   "metadata": {},
   "outputs": [],
   "source": []
  }
 ],
 "metadata": {
  "kernelspec": {
   "display_name": "Python 3",
   "language": "python",
   "name": "python3"
  },
  "language_info": {
   "codemirror_mode": {
    "name": "ipython",
    "version": 3
   },
   "file_extension": ".py",
   "mimetype": "text/x-python",
   "name": "python",
   "nbconvert_exporter": "python",
   "pygments_lexer": "ipython3",
   "version": "3.8.8"
  }
 },
 "nbformat": 4,
 "nbformat_minor": 5
}
