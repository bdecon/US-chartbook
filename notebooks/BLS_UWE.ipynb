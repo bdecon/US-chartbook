{
 "cells": [
  {
   "cell_type": "markdown",
   "id": "a8c44850",
   "metadata": {},
   "source": [
    "## BLS Usual Weekly Earnings Data and CPS equivalent"
   ]
  },
  {
   "cell_type": "code",
   "execution_count": 1,
   "id": "0d492dd1",
   "metadata": {
    "ExecuteTime": {
     "end_time": "2023-10-11T20:16:14.536436Z",
     "start_time": "2023-10-11T20:16:13.478559Z"
    }
   },
   "outputs": [],
   "source": [
    "import sys\n",
    "sys.path.append('../src')\n",
    "\n",
    "import uschartbook.config\n",
    "\n",
    "from uschartbook.config import *\n",
    "from uschartbook.utils import *"
   ]
  },
  {
   "cell_type": "code",
   "execution_count": 2,
   "id": "f4749f4d",
   "metadata": {
    "ExecuteTime": {
     "end_time": "2023-07-19T12:59:50.857005Z",
     "start_time": "2023-07-19T12:59:47.838005Z"
    }
   },
   "outputs": [
    {
     "name": "stdout",
     "output_type": "stream",
     "text": [
      "Post Request Status: REQUEST_SUCCEEDED\n"
     ]
    }
   ],
   "source": [
    "# Series stored as a dictionary\n",
    "series = {'LEU0252911200': 'p10uwe',\n",
    "          'LEU0252911300': 'p25uwe',\n",
    "          'LEU0252881500': 'p50uwe',\n",
    "          'LEU0252911400': 'p75uwe',\n",
    "          'LEU0252911500': 'p90uwe',\n",
    "          'LEU0254466800': 'nuwe'}\n",
    "\n",
    "# Start year and end year\n",
    "dates = (1988, 2023)\n",
    "df = bls_api(series, dates, bls_key)\n",
    "df.to_csv(data_dir / 'uwe_main.csv', index_label='date')"
   ]
  },
  {
   "cell_type": "markdown",
   "id": "32c9846d",
   "metadata": {},
   "source": [
    "### UWE and Growth"
   ]
  },
  {
   "cell_type": "code",
   "execution_count": 2,
   "id": "83afbe9c",
   "metadata": {
    "ExecuteTime": {
     "end_time": "2023-10-11T20:16:37.426053Z",
     "start_time": "2023-10-11T20:16:24.666731Z"
    }
   },
   "outputs": [],
   "source": [
    "# Retrieve relavant CPS data\n",
    "columns = ['MONTH', 'YEAR', 'AGE', 'PWORWGT', 'WKEARN', \n",
    "           'HRSUSL1', 'WORKFT']\n",
    "dfc = (pd.concat([pd.read_feather(cps_dir / f'cps{year}.ft', \n",
    "                                  columns=columns)\n",
    "                    .query('WKEARN > 0 and WORKFT == 1')\n",
    "                  for year in range(1989, 2024)]))\n",
    "\n",
    "data = pd.DataFrame()\n",
    "# Calculate wage for percentile p\n",
    "for p in [10, 25, 50, 75, 90]:\n",
    "    data[f'p{p}'] = (dfc.groupby(['YEAR', 'MONTH'])\n",
    "                     .apply(lambda x: binned_wage(x, percentile=p/100)))\n",
    "data.index = [pd.to_datetime(f'{ti[0]}-{ti[1]}-01') \n",
    "              for ti in data.index]\n",
    "\n",
    "# Calculate 3 month moving average and 12-month growth rates\n",
    "for col in data.columns:\n",
    "    data[f'{col}_3M'] = data[col].rolling(3).mean()\n",
    "for col in data.columns:\n",
    "    data[f'{col}_gr'] = data[col].pct_change(12) * 100\n",
    "    \n",
    "# Save to csv\n",
    "data.to_csv(data_dir / 'uwe_cps.csv', index_label='date')    \n",
    "    \n",
    "# Labels for bar chart\n",
    "data['label'] = [dt.strftime('%b\\\\\\%Y') if dt.month == 1 \n",
    "                 else dt.strftime('%b') for dt in data.index]\n",
    "nextmo = data.index[-1] + pd.DateOffset(months=1)\n",
    "data.loc[nextmo, 'label'] = ''\n",
    "data['FILL'] = 0\n",
    "cut = -9\n",
    "if len(data.label.iloc[cut]) < 5:\n",
    "    year = data.index[cut].year\n",
    "    data.loc[data.index[cut], 'label'] = (data.label.iloc[cut] + \n",
    "                                         f'\\\\\\\\{data.index[cut].year}')\n",
    "data.iloc[cut:].to_csv(data_dir / 'uwe_cps_sh.csv', \n",
    "                       index_label='date')  \n",
    "data.index = data.index + pd.DateOffset(days=14)\n",
    "data.iloc[cut:].to_csv(data_dir / 'uwe_cps_shift.csv', \n",
    "                       index_label='date')  \n",
    "\n",
    "# Calculate growth rate for BLS published data\n",
    "bls = (pd.read_csv(data_dir / 'uwe_main.csv', parse_dates=['date'])\n",
    "         .set_index('date'))\n",
    "blsgr = (bls.pct_change(4) * 100).loc['1989':]\n",
    "blsgr.index = blsgr.index + pd.DateOffset(days=45)\n",
    "blsgr.to_csv(data_dir / 'uwe_bls_gr.csv', index_label='date')\n",
    "blsgr.iloc[-2:].to_csv(data_dir / 'uwe_bls_sh.csv', \n",
    "                       index_label='date')  "
   ]
  },
  {
   "cell_type": "code",
   "execution_count": 3,
   "id": "6a97826c",
   "metadata": {
    "ExecuteTime": {
     "end_time": "2023-10-11T20:16:37.433965Z",
     "start_time": "2023-10-11T20:16:37.427748Z"
    }
   },
   "outputs": [
    {
     "name": "stdout",
     "output_type": "stream",
     "text": [
      "In the second quarter of 2023, median usual earnings of full-time wage and salary workers are \\$1,100 per week, compared to \\$1,041 per week in 2022 Q2, a nominal one-year increase of 5.7 percent (see {\\color{cyan!60!white}\\textbf{---}}). In 2023 Q1, the median full-time worker receives \\$1,100 per week, a one-year increase of 6.1 percent.\n"
     ]
    }
   ],
   "source": [
    "# Median wage text\n",
    "d = {}\n",
    "for i in [-1, -2, -5]:\n",
    "    d[i] = {'dt': dtxt(bls.index[i])['qtr2'],\n",
    "            'dt2': dtxt(bls.index[i])['qtr1'],\n",
    "            'val': f'\\${bls.p50uwe.iloc[i]:,.0f} per week'}\n",
    "    \n",
    "ltch = value_text(blsgr.p50uwe.iloc[-1], 'increase_of', \n",
    "                  time_str='nominal one-year ', threshold=0.1)\n",
    "prch = value_text(blsgr.p50uwe.iloc[-2], 'increase_of', \n",
    "                  time_str='one-year ', threshold=0.1)\n",
    "also = 'also ' if blsgr.p50uwe.iloc[-1].round(1) == blsgr.p50uwe.iloc[-2].round(1) else ''\n",
    "cl = c_line('cyan!60!white')\n",
    "text = (f'In {d[-1][\"dt\"]}, median usual earnings of full-time wage and '+\n",
    "        f'salary workers are {d[-1][\"val\"]}, compared to {d[-5][\"val\"]} '+\n",
    "        f'in {d[-5][\"dt2\"]}, {ltch} {cl}. In {d[-2][\"dt2\"]}, the median full-time '+\n",
    "        f'worker receives {d[-2][\"val\"]}, {also}{prch}.')\n",
    "write_txt(text_dir / 'uwe_median.txt', text)\n",
    "print(text)"
   ]
  },
  {
   "cell_type": "code",
   "execution_count": 4,
   "id": "97b78607",
   "metadata": {
    "ExecuteTime": {
     "end_time": "2023-10-11T20:18:16.564384Z",
     "start_time": "2023-10-11T20:18:16.552572Z"
    }
   },
   "outputs": [
    {
     "name": "stdout",
     "output_type": "stream",
     "text": [
      "In September 2023, the median full-time worker receives \\$1,149 per week, following \\$1,083 per week in August 2023 and \\$1,096 per week in July 2023. The average over these three months is \\$1,109 per week, an increase of 3.4 percent over the same three months, one year prior (see {\\color{violet!80!blue}\\textbf{---}}). \n",
      "\n",
      "Median usual weekly earnings increased 4.5 percent over the year ending September 2023 (see\\cbox{violet!80!blue}), following an increase of 1.8 percent in August, and an increase of 3.9 percent in July. \n"
     ]
    }
   ],
   "source": [
    "d = {}\n",
    "for i in [-1, -2, -3]:\n",
    "    d[i] = {'dt': dtxt(data.dropna().index[i])['mon1'],\n",
    "            'val': f'\\${data.p50.dropna().iloc[i]:,.0f} per week',\n",
    "            'gr': value_text(data['p50_gr'].dropna().iloc[i], 'increase_of'),\n",
    "            'gr2': value_text(data['p50_gr'].dropna().iloc[i])}\n",
    "    \n",
    "avg = data.p50.dropna().rolling(3).mean().iloc[-1]\n",
    "avgt = f'\\${avg:,.0f} per week'\n",
    "ch3m = value_text(data.p50_3M_gr.dropna().iloc[-1], 'increase_of', \n",
    "                  threshold=0.1)\n",
    "color = 'violet!80!blue'\n",
    "cl2 = c_line(color)    \n",
    "cb = c_box(color)\n",
    "\n",
    "prdt = (d[-2]['dt'][:-5] if d[-2]['dt'][-4:] == d[-1]['dt'][-4:] \n",
    "        else d[-2]['dt'])\n",
    "pr2dt = (d[-3]['dt'][:-5] if d[-3]['dt'][-4:] == d[-1]['dt'][-4:] \n",
    "        else d[-3]['dt'])\n",
    "\n",
    "text = (f'In {d[-1][\"dt\"]}, the median full-time worker receives '+\n",
    "        f'{d[-1][\"val\"]}, following {d[-2][\"val\"]} in {d[-2][\"dt\"]} '+\n",
    "        f'and {d[-3][\"val\"]} in {d[-3][\"dt\"]}. The average over '+\n",
    "        f'these three months is {avgt}, {ch3m} over the same three '+\n",
    "        f'months, one year prior {cl2}. \\n\\nMedian usual weekly '+\n",
    "        f'earnings {d[-1][\"gr2\"]} over the year ending {d[-1][\"dt\"]} '+\n",
    "        f'{cb}, following {d[-2][\"gr\"]} in {prdt}, and '+\n",
    "        f'{d[-3][\"gr\"]} in {pr2dt}. ')\n",
    "write_txt(text_dir / 'uwe_median_cps.txt', text)\n",
    "print(text)"
   ]
  },
  {
   "cell_type": "code",
   "execution_count": null,
   "id": "c8176d64",
   "metadata": {},
   "outputs": [],
   "source": []
  },
  {
   "cell_type": "code",
   "execution_count": 5,
   "id": "eec11deb",
   "metadata": {
    "ExecuteTime": {
     "end_time": "2023-10-11T20:18:19.508023Z",
     "start_time": "2023-10-11T20:18:19.493498Z"
    }
   },
   "outputs": [
    {
     "name": "stdout",
     "output_type": "stream",
     "text": [
      "BLS \\href{https://www.bls.gov/webapps/legacy/cpswktab5.htm}{report} first decile usual earnings for full-time workers of \\$581 per week in 2023 Q2 and \\$547 per week in 2022 Q2, a nominal one-year increase of 6.2 percent (see {\\color{blue!65!black}\\textbf{---}}). Over the year ending 2023 Q1, first decile usual weekly earnings increased 8.1 percent.\n",
      "\n",
      "The more-volatile CPS-based monthly measure shows first decile usual earnings of \\$598 per week in September 2023, \\$585 per week in August 2023, and \\$585 per week in July 2023. The three-month average is \\$589 per week; first decile earnings increased 4.3 percent over the same months, one year prior (see {\\color{lime!65!green!90!black}\\textbf{---}}). By month, over the year ending September 2023, first decile earnings increased 3.1 percent, following 2.9 percent in August 2023, and 7.1 percent in July 2023.\n"
     ]
    }
   ],
   "source": [
    "# BLS published\n",
    "d = {}\n",
    "for i in [-1, -2, -5]:\n",
    "    d[i] = {'dt': dtxt(bls.index[i])['qtr1'],\n",
    "            'val': f'\\${bls.p10uwe.iloc[i]:,.0f} per week'}\n",
    "    \n",
    "ltch = value_text(blsgr.p10uwe.iloc[-1], 'increase_of', \n",
    "                  time_str='nominal one-year ', threshold=0.1)\n",
    "prch = value_text(blsgr.p10uwe.iloc[-2], threshold=0.1)\n",
    "also = 'also ' if blsgr.p10uwe.iloc[-1].round(1) == blsgr.p10uwe.iloc[-2].round(1) else ''\n",
    "cl = c_line('blue!65!black')\n",
    "cl2 = c_line('lime!65!green!90!black')\n",
    "\n",
    "# CPS-based\n",
    "d2 = {}\n",
    "for i in [-1, -2, -3]:\n",
    "    d2[i] = {'dt': dtxt(data.dropna().index[i])['mon1'],\n",
    "             'val': f'\\${data.p10.dropna().iloc[i]:,.0f} per week',\n",
    "             'val2': f'\\${data.p10_3M.dropna().iloc[i]:,.0f} per week',             \n",
    "             'gr': value_text(data['p10_gr'].dropna().iloc[i], 'increase_of'),\n",
    "             'gr2': value_text(data['p10_gr'].dropna().iloc[i], threshold=0.1),\n",
    "             'gr3': value_text(data['p10_3M_gr'].dropna().iloc[i], threshold=0.1),\n",
    "             'gr4': value_text(data['p10_gr'].dropna().iloc[i], 'increase_of', \n",
    "                               time_str='one-year ', threshold=0.1),\n",
    "             'gr5': value_text(data['p10_gr'].dropna().iloc[i], 'plain', \n",
    "                               threshold=0.1)}\n",
    "\n",
    "moch2 = d2[-2]['gr5'] if d2[-1]['gr2'][:2] == d2[-2]['gr2'][:2] else d2[-2]['gr']\n",
    "moch3 = (d2[-3]['gr5'] if (d2[-1]['gr2'][:2] == d2[-3]['gr2'][:2]) & \n",
    " (d2[-2]['gr2'][:2] == d2[-3]['gr2'][:2]) else d2[-3]['gr'])\n",
    "    \n",
    "url = 'https://www.bls.gov/webapps/legacy/cpswktab5.htm'    \n",
    "text = (f'BLS \\href{{{url}}}{{report}} first decile usual earnings for '+\n",
    "        f'full-time workers of {d[-1][\"val\"]} in {d[-1][\"dt\"]} and '+\n",
    "        f'{d[-5][\"val\"]} in {d[-5][\"dt\"]}, {ltch} {cl}. Over the year ending '+\n",
    "        f'{d[-2][\"dt\"]}, first decile usual weekly earnings {also}{prch}.\\n\\n'+\n",
    "        'The more-volatile CPS-based monthly measure shows first decile '+\n",
    "        f'usual earnings of {d2[-1][\"val\"]} in {d2[-1][\"dt\"]}, {d2[-2][\"val\"]} '+\n",
    "        f'in {d2[-2][\"dt\"]}, and {d2[-3][\"val\"]} in {d2[-3][\"dt\"]}. The three-'+\n",
    "        f'month average is {d2[-1][\"val2\"]}; first decile earnings '+\n",
    "        f'{d2[-1][\"gr3\"]} over the same months, one year prior {cl2}. By month, over '+\n",
    "        f'the year ending {d2[-1][\"dt\"]}, first decile earnings {d2[-1][\"gr2\"]}, '+\n",
    "        f'following {moch2} in {d2[-2][\"dt\"]}, and {moch3} in {d2[-3][\"dt\"]}.')\n",
    "write_txt(text_dir / 'uwe_p10_basic.txt', text)\n",
    "print(text)"
   ]
  },
  {
   "cell_type": "code",
   "execution_count": null,
   "id": "1eeec631",
   "metadata": {},
   "outputs": [],
   "source": []
  },
  {
   "cell_type": "code",
   "execution_count": null,
   "id": "797a684a",
   "metadata": {},
   "outputs": [],
   "source": []
  },
  {
   "cell_type": "code",
   "execution_count": 6,
   "id": "b731db0b",
   "metadata": {
    "ExecuteTime": {
     "end_time": "2023-10-11T20:18:21.985029Z",
     "start_time": "2023-10-11T20:18:21.957333Z"
    }
   },
   "outputs": [],
   "source": [
    "srs = {'First decile': 'p10uwe', 'First quartile': 'p25uwe', \n",
    "       'Median': 'p50uwe', 'Third quartile': 'p75uwe', \n",
    "       'Ninth decile': 'p90uwe'}\n",
    "df3 = (pd.read_csv(data_dir / 'uwe_main.csv', parse_dates=['date'])\n",
    "        .set_index('date')).loc['2000':, srs.values()].dropna()\n",
    "\n",
    "final = pd.DataFrame()\n",
    "for i in [-1, -2, -3, -4, -5, -9, -13, -17, -21]:\n",
    "    final[dtxt(df3.index[i])['qtr1']] = df3.pct_change(4).iloc[i] * 100\n",
    "\n",
    "final.index = srs.keys()\n",
    "final.round(1).to_csv(data_dir / 'wage_dist_bls.tex', sep='&', \n",
    "                      lineterminator='\\\\\\ ', quotechar=' ')\n",
    "\n",
    "final = pd.DataFrame()\n",
    "for i in [-1, -2, -3, -4, -5, -9, -13, -17, -21]:\n",
    "    final[dtxt(df3.index[i])['qtr1']] = df3.iloc[i]\n",
    "\n",
    "final.index = srs.keys()\n",
    "tbl = final.round(0).astype('int').applymap('{:,.0f}'.format)\n",
    "tbl.iloc[0, 0] = f'\\${tbl.iloc[0, 0]}'\n",
    "(tbl.to_csv(data_dir / 'wage_dist_bls2.tex', sep='&', \n",
    "              lineterminator='\\\\\\ ', quotechar=' '))"
   ]
  },
  {
   "cell_type": "code",
   "execution_count": 7,
   "id": "3b212f10",
   "metadata": {
    "ExecuteTime": {
     "end_time": "2023-10-11T20:18:22.859130Z",
     "start_time": "2023-10-11T20:18:22.847027Z"
    }
   },
   "outputs": [
    {
     "data": {
      "text/html": [
       "<div>\n",
       "<style scoped>\n",
       "    .dataframe tbody tr th:only-of-type {\n",
       "        vertical-align: middle;\n",
       "    }\n",
       "\n",
       "    .dataframe tbody tr th {\n",
       "        vertical-align: top;\n",
       "    }\n",
       "\n",
       "    .dataframe thead th {\n",
       "        text-align: right;\n",
       "    }\n",
       "</style>\n",
       "<table border=\"1\" class=\"dataframe\">\n",
       "  <thead>\n",
       "    <tr style=\"text-align: right;\">\n",
       "      <th></th>\n",
       "      <th>2023 Q2</th>\n",
       "      <th>2023 Q1</th>\n",
       "      <th>2022 Q4</th>\n",
       "      <th>2022 Q3</th>\n",
       "      <th>2022 Q2</th>\n",
       "      <th>2021 Q2</th>\n",
       "      <th>2020 Q2</th>\n",
       "      <th>2019 Q2</th>\n",
       "      <th>2018 Q2</th>\n",
       "    </tr>\n",
       "  </thead>\n",
       "  <tbody>\n",
       "    <tr>\n",
       "      <th>First decile</th>\n",
       "      <td>\\$581</td>\n",
       "      <td>574</td>\n",
       "      <td>571</td>\n",
       "      <td>560</td>\n",
       "      <td>547</td>\n",
       "      <td>502</td>\n",
       "      <td>496</td>\n",
       "      <td>454</td>\n",
       "      <td>426</td>\n",
       "    </tr>\n",
       "    <tr>\n",
       "      <th>First quartile</th>\n",
       "      <td>741</td>\n",
       "      <td>739</td>\n",
       "      <td>736</td>\n",
       "      <td>724</td>\n",
       "      <td>710</td>\n",
       "      <td>665</td>\n",
       "      <td>670</td>\n",
       "      <td>611</td>\n",
       "      <td>585</td>\n",
       "    </tr>\n",
       "    <tr>\n",
       "      <th>Median</th>\n",
       "      <td>1,100</td>\n",
       "      <td>1,100</td>\n",
       "      <td>1,085</td>\n",
       "      <td>1,070</td>\n",
       "      <td>1,041</td>\n",
       "      <td>990</td>\n",
       "      <td>1,002</td>\n",
       "      <td>908</td>\n",
       "      <td>876</td>\n",
       "    </tr>\n",
       "    <tr>\n",
       "      <th>Third quartile</th>\n",
       "      <td>1,735</td>\n",
       "      <td>1,751</td>\n",
       "      <td>1,709</td>\n",
       "      <td>1,696</td>\n",
       "      <td>1,655</td>\n",
       "      <td>1,557</td>\n",
       "      <td>1,551</td>\n",
       "      <td>1,432</td>\n",
       "      <td>1,384</td>\n",
       "    </tr>\n",
       "    <tr>\n",
       "      <th>Ninth decile</th>\n",
       "      <td>2,705</td>\n",
       "      <td>2,718</td>\n",
       "      <td>2,584</td>\n",
       "      <td>2,583</td>\n",
       "      <td>2,561</td>\n",
       "      <td>2,405</td>\n",
       "      <td>2,383</td>\n",
       "      <td>2,270</td>\n",
       "      <td>2,112</td>\n",
       "    </tr>\n",
       "  </tbody>\n",
       "</table>\n",
       "</div>"
      ],
      "text/plain": [
       "               2023 Q2 2023 Q1 2022 Q4 2022 Q3 2022 Q2 2021 Q2 2020 Q2  \\\n",
       "First decile     \\$581     574     571     560     547     502     496   \n",
       "First quartile     741     739     736     724     710     665     670   \n",
       "Median           1,100   1,100   1,085   1,070   1,041     990   1,002   \n",
       "Third quartile   1,735   1,751   1,709   1,696   1,655   1,557   1,551   \n",
       "Ninth decile     2,705   2,718   2,584   2,583   2,561   2,405   2,383   \n",
       "\n",
       "               2019 Q2 2018 Q2  \n",
       "First decile       454     426  \n",
       "First quartile     611     585  \n",
       "Median             908     876  \n",
       "Third quartile   1,432   1,384  \n",
       "Ninth decile     2,270   2,112  "
      ]
     },
     "execution_count": 7,
     "metadata": {},
     "output_type": "execute_result"
    }
   ],
   "source": [
    "tbl"
   ]
  },
  {
   "cell_type": "code",
   "execution_count": null,
   "id": "25023bc5",
   "metadata": {},
   "outputs": [],
   "source": []
  },
  {
   "cell_type": "code",
   "execution_count": null,
   "id": "c73e36e8",
   "metadata": {},
   "outputs": [],
   "source": []
  }
 ],
 "metadata": {
  "kernelspec": {
   "display_name": "Python 3 (ipykernel)",
   "language": "python",
   "name": "python3"
  },
  "language_info": {
   "codemirror_mode": {
    "name": "ipython",
    "version": 3
   },
   "file_extension": ".py",
   "mimetype": "text/x-python",
   "name": "python",
   "nbconvert_exporter": "python",
   "pygments_lexer": "ipython3",
   "version": "3.8.13"
  }
 },
 "nbformat": 4,
 "nbformat_minor": 5
}
