{
 "cells": [
  {
   "cell_type": "markdown",
   "id": "a8c44850",
   "metadata": {},
   "source": [
    "## BLS Usual Weekly Earnings Data"
   ]
  },
  {
   "cell_type": "code",
   "execution_count": 1,
   "id": "0d492dd1",
   "metadata": {
    "ExecuteTime": {
     "end_time": "2023-01-12T15:08:37.121114Z",
     "start_time": "2023-01-12T15:08:36.191904Z"
    }
   },
   "outputs": [],
   "source": [
    "import sys\n",
    "sys.path.append('../src')\n",
    "\n",
    "import uschartbook.config\n",
    "\n",
    "from uschartbook.config import *\n",
    "from uschartbook.utils import *"
   ]
  },
  {
   "cell_type": "code",
   "execution_count": 2,
   "id": "f4749f4d",
   "metadata": {
    "ExecuteTime": {
     "end_time": "2022-11-10T14:07:29.070061Z",
     "start_time": "2022-11-10T14:07:25.748266Z"
    }
   },
   "outputs": [
    {
     "name": "stdout",
     "output_type": "stream",
     "text": [
      "Post Request Status: REQUEST_SUCCEEDED\n"
     ]
    }
   ],
   "source": [
    "# Series stored as a dictionary\n",
    "series = {'LEU0252911200': 'p10uwe',\n",
    "          'LEU0252911300': 'p25uwe',\n",
    "          'LEU0252881500': 'p50uwe',\n",
    "          'LEU0252911400': 'p75uwe',\n",
    "          'LEU0252911500': 'p90uwe',\n",
    "          'LEU0254466800': 'nuwe'}\n",
    "\n",
    "# Start year and end year\n",
    "dates = (1988, 2022)\n",
    "df = bls_api(series, dates, bls_key)\n",
    "df.to_csv(data_dir / 'uwe_main.csv', index_label='date')"
   ]
  },
  {
   "cell_type": "markdown",
   "id": "32c9846d",
   "metadata": {},
   "source": [
    "### UWE and Growth"
   ]
  },
  {
   "cell_type": "code",
   "execution_count": 2,
   "id": "8013e8b4",
   "metadata": {
    "ExecuteTime": {
     "end_time": "2023-01-12T15:08:42.055406Z",
     "start_time": "2023-01-12T15:08:38.316133Z"
    }
   },
   "outputs": [],
   "source": [
    "columns = ['MONTH', 'YEAR', 'AGE', 'PWORWGT', 'WKEARN', 'HRSUSL1', 'WORKFT']\n",
    "dfc = (pd.concat([pd.read_feather(cps_dir / f'cps{year}.ft', columns=columns)\n",
    "                    .query('WKEARN > 0 and WORKFT == 1')\n",
    "                  for year in range(1989, 2023)]))\n",
    "res = dfc.groupby(['YEAR', 'MONTH']).apply(binned_wage).rename('All')\n",
    "res.index = [pd.to_datetime(f'{ti[0]}-{ti[1]}-01') for ti in res.index]\n",
    "df = res.rolling(3).mean()\n",
    "df.to_csv(data_dir / 'uwe_bd.csv', index_label='date')\n",
    "dfgr = (df.pct_change(12).dropna() * 100)\n",
    "dfgr.to_csv(data_dir / 'uwe_bd_gr.csv', index_label='date')\n",
    "df2 = (pd.read_csv(data_dir / 'uwe_main.csv', parse_dates=['date'])\n",
    "         .set_index('date')).p10uwe.dropna()\n",
    "\n",
    "df2.loc['1989':].to_csv(data_dir / 'uwe_bls.csv', index_label='date')\n",
    "df2gr = (df2.pct_change(4).dropna() * 100)\n",
    "df2gr.to_csv(data_dir / 'uwe_bls_gr.csv', index_label='date')"
   ]
  },
  {
   "cell_type": "code",
   "execution_count": 3,
   "id": "99547bc7",
   "metadata": {
    "ExecuteTime": {
     "end_time": "2023-01-12T15:08:42.063725Z",
     "start_time": "2023-01-12T15:08:42.056950Z"
    }
   },
   "outputs": [
    {
     "name": "stdout",
     "output_type": "stream",
     "text": [
      "BLS \\href{https://www.bls.gov/webapps/legacy/cpswktab5.htm}{calculations} (see {\\color{blue!65!black}\\textbf{---}}) for 2022 Q3 show nominal first decile usual weekly earnings of \\$560, compared to \\$510 in 2021 Q3, resulting in one-year growth of 9.8 percent. In the previous quarter, 2022 Q2, first decile usual weekly earnings grew by 9.0 percent over the year. Author's calculations from the CPS (see {\\color{lime!65!green!90!black}\\textbf{---}}) show three-month moving average first decile usual weekly earnings of \\$568 in December 2022, \\$570 in November 2022, and \\$517 in December 2021. One-year growth was 9.9 percent for the three months ending December 2022, 10.9 percent for the three months ending November 2022, and 11.2 percent for the three months ending October 2022.\n"
     ]
    }
   ],
   "source": [
    "ldate1 = dtxt(df.index[-1])['mon1']\n",
    "lval1 = df.iloc[-1]\n",
    "lgrval1 = dfgr.iloc[-1]\n",
    "prdate1 = dtxt(df.index[-2])['mon1']\n",
    "prval1 = df.iloc[-2]\n",
    "prgrval1 = dfgr.iloc[-2]\n",
    "pr2date1 = dtxt(df.index[-3])['mon1']\n",
    "pr2val1 = df.iloc[-3]\n",
    "pr2grval1 = dfgr.iloc[-3]\n",
    "pr3date1 = dtxt(df.index[-13])['mon1']\n",
    "pr3val1 = df.iloc[-13]\n",
    "\n",
    "ldate2 = dtxt(df2.index[-1])['qtr1']\n",
    "lval2 = df2.iloc[-1]\n",
    "prdate2 = dtxt(df2.index[-5])['qtr1']\n",
    "pr2date2 = dtxt(df2.index[-2])['qtr1']\n",
    "prval2 = df2.iloc[-5]\n",
    "lgrval2 = df2gr.iloc[-1]\n",
    "lgr2val2 = df2gr.iloc[-2]\n",
    "url = 'https://www.bls.gov/webapps/legacy/cpswktab5.htm'\n",
    "text = (f'BLS \\href{{{url}}}{{calculations}} {c_line(\"blue!65!black\")} '+\n",
    "        f'for {ldate2} show nominal first decile usual weekly earnings '+\n",
    "        f'of \\${lval2:.0f}, compared to \\${prval2:.0f} in {prdate2}, '+\n",
    "        f'resulting in one-year growth of {lgrval2:.1f} percent. In the '+\n",
    "        f'previous quarter, {pr2date2}, first decile usual weekly '+\n",
    "        f'earnings grew by {lgr2val2:.1f} percent over the year. '+\n",
    "        f\"Author's calculations from the CPS {c_line('lime!65!green!90!black')} \"+\n",
    "        'show three-month moving average first decile usual weekly '+\n",
    "        f'earnings of \\${lval1:.0f} in {ldate1}, \\${prval1:.0f} in '+\n",
    "        f'{prdate1}, and \\${pr3val1:.0f} in {pr3date1}. One-year growth '+\n",
    "        f'was {lgrval1:.1f} percent for the three months ending {ldate1}, '+\n",
    "        f'{prgrval1:.1f} percent for the three months ending {prdate1}, '+\n",
    "        f'and {pr2grval1:.1f} percent for the three months ending '\n",
    "        f'{pr2date1}.')\n",
    "write_txt(text_dir / 'uwe_basic.txt', text)\n",
    "print(text)"
   ]
  },
  {
   "cell_type": "code",
   "execution_count": 4,
   "id": "b731db0b",
   "metadata": {
    "ExecuteTime": {
     "end_time": "2023-01-12T15:08:43.325937Z",
     "start_time": "2023-01-12T15:08:43.301659Z"
    }
   },
   "outputs": [],
   "source": [
    "srs = {'First decile': 'p10uwe', 'First quartile': 'p25uwe', \n",
    "       'Median': 'p50uwe', 'Third quartile': 'p75uwe', \n",
    "       'Ninth decile': 'p90uwe'}\n",
    "df3 = (pd.read_csv(data_dir / 'uwe_main.csv', parse_dates=['date'])\n",
    "        .set_index('date')).loc['2000':, srs.values()].dropna()\n",
    "\n",
    "final = pd.DataFrame()\n",
    "for i in [-1, -2, -3, -4, -5, -9, -13, -17, -21]:\n",
    "    final[dtxt(df3.index[i])['qtr1']] = df3.pct_change(4).iloc[i] * 100\n",
    "\n",
    "final.index = srs.keys()\n",
    "final.round(1).to_csv(data_dir / 'wage_dist_bls.tex', sep='&', \n",
    "                      lineterminator='\\\\\\ ', quotechar=' ')\n",
    "\n",
    "final = pd.DataFrame()\n",
    "for i in [-1, -2, -3, -4, -5, -9, -13, -17, -21]:\n",
    "    final[dtxt(df3.index[i])['qtr1']] = df3.iloc[i]\n",
    "\n",
    "final.index = srs.keys()\n",
    "final.round(0).astype('int').to_csv(data_dir / 'wage_dist_bls2.tex', sep='&', \n",
    "                                    lineterminator='\\\\\\ ', quotechar=' ')"
   ]
  },
  {
   "cell_type": "code",
   "execution_count": null,
   "id": "3b212f10",
   "metadata": {},
   "outputs": [],
   "source": []
  },
  {
   "cell_type": "code",
   "execution_count": null,
   "id": "25023bc5",
   "metadata": {},
   "outputs": [],
   "source": []
  },
  {
   "cell_type": "code",
   "execution_count": null,
   "id": "c73e36e8",
   "metadata": {},
   "outputs": [],
   "source": []
  }
 ],
 "metadata": {
  "kernelspec": {
   "display_name": "Python 3 (ipykernel)",
   "language": "python",
   "name": "python3"
  },
  "language_info": {
   "codemirror_mode": {
    "name": "ipython",
    "version": 3
   },
   "file_extension": ".py",
   "mimetype": "text/x-python",
   "name": "python",
   "nbconvert_exporter": "python",
   "pygments_lexer": "ipython3",
   "version": "3.8.13"
  }
 },
 "nbformat": 4,
 "nbformat_minor": 5
}
