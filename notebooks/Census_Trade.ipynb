{
 "cells": [
  {
   "cell_type": "markdown",
   "metadata": {},
   "source": [
    "### Census Trade Data\n",
    "\n",
    "September 30, 2020\n",
    "\n",
    "Brian Dew"
   ]
  },
  {
   "cell_type": "code",
   "execution_count": 1,
   "metadata": {
    "ExecuteTime": {
     "end_time": "2021-08-06T02:33:41.301883Z",
     "start_time": "2021-08-06T02:33:40.608612Z"
    }
   },
   "outputs": [],
   "source": [
    "import sys\n",
    "sys.path.append('../src')\n",
    "\n",
    "import uschartbook.config\n",
    "\n",
    "from uschartbook.config import *\n",
    "from uschartbook.utils import *"
   ]
  },
  {
   "cell_type": "code",
   "execution_count": 2,
   "metadata": {
    "ExecuteTime": {
     "end_time": "2021-08-06T02:33:49.370078Z",
     "start_time": "2021-08-06T02:33:41.303015Z"
    }
   },
   "outputs": [],
   "source": [
    "# Retrieve data from Census API\n",
    "d = {}\n",
    "\n",
    "for flow in ['imports', 'exports']:\n",
    "    base = f'https://api.census.gov/data/timeseries/intltrade/{flow}/hs'\n",
    "    params = ['CTY_CODE', 'CTY_NAME', 'ALL_VAL_MO']\n",
    "    if flow == 'imports':\n",
    "        params[2] = 'GEN_VAL_MO'\n",
    "    \n",
    "    param = ','.join(params)\n",
    "    url = f'{base}?get={param}&key={census_key}&time=from+1992-01'\n",
    "\n",
    "    r = requests.get(url).json()\n",
    "\n",
    "    d[flow] = r"
   ]
  },
  {
   "cell_type": "code",
   "execution_count": 3,
   "metadata": {
    "ExecuteTime": {
     "end_time": "2021-08-06T02:33:50.739820Z",
     "start_time": "2021-08-06T02:33:49.371362Z"
    }
   },
   "outputs": [
    {
     "name": "stdout",
     "output_type": "stream",
     "text": [
      "In June 2021, trade with the top 25 trading partners (see table) comprises 87.2 percent of total US trade in goods.\n"
     ]
    }
   ],
   "source": [
    "i = d['imports']\n",
    "df = pd.DataFrame(i[1:], columns=i[0])\n",
    "df = df[(df['CTY_CODE'].str[0] !='0') & \n",
    "        (df['CTY_CODE'].str[1] != 'X')]\n",
    "df['Name'] = df['CTY_NAME'].str.title()\n",
    "df['Date'] = pd.to_datetime(df['time'], format='%Y-%m')\n",
    "imp = (df.rename({'GEN_VAL_MO': 'Imports'}, axis=1)\n",
    "         .set_index(['Name', 'Date']).Imports.astype(float))\n",
    "\n",
    "e = d['exports']\n",
    "df = pd.DataFrame(e[1:], columns=e[0])\n",
    "df = df[(df['CTY_CODE'].str[0] !='0') & \n",
    "        (df['CTY_CODE'].str[1] != 'X')]\n",
    "df['Name'] = df['CTY_NAME'].str.title()\n",
    "df['Date'] = pd.to_datetime(df['time'], format='%Y-%m')\n",
    "exp = (df.rename({'ALL_VAL_MO': 'Exports'}, axis=1)\n",
    "         .set_index(['Name', 'Date']).Exports.astype(float))\n",
    "\n",
    "data = ((pd.DataFrame([imp, exp]).T / 1000000)\n",
    "           .rename({'Korea, South': 'South Korea',\n",
    "                    'Total For All Countries': 'Total, All Countries'}))\n",
    "\n",
    "data.to_csv(data_dir / 'trade_master.csv')\n",
    "\n",
    "data['Total'] = data['Imports'] + data['Exports']\n",
    "\n",
    "dt = data.xs('Canada').index[-1]\n",
    "ltdate = dtxt(dt)['mon1']\n",
    "index = data.xs(dt, level=1).Total.sort_values(ascending=False).iloc[:26].index\n",
    "\n",
    "final = data.loc[(index, dt),:].astype(int).droplevel('Date')\n",
    "dt2 = dt - pd.DateOffset(months = 12)\n",
    "data2 = data.loc[(index, dt2),:].astype(int).droplevel('Date')\n",
    "data2.columns = [f'{k} ' for k in final.keys()]\n",
    "final = final.join(data2).sort_values('Total', ascending=False)\n",
    "final.index.name = ''\n",
    "\n",
    "(final.applymap('{:,.0f}'.format)\n",
    "      .to_csv(data_dir / 'trade_partner.tex', sep='&', \n",
    "              line_terminator='\\\\\\ ', quotechar=' '))\n",
    "\n",
    "write_txt(text_dir / 'trade_date.txt', dtxt(dt)['mon1'])\n",
    "write_txt(text_dir / 'trade_date2.txt', dtxt(dt2)['mon1'])\n",
    "\n",
    "shval = (final['Total '].iloc[1:].sum() / \n",
    "         final['Total '].iloc[0]) * 100\n",
    "text = (f'In {ltdate}, trade with the top 25 trading partners (see table) '+\n",
    "        f'comprises {shval:.1f} percent of total US trade in goods.')\n",
    "write_txt(text_dir / 'trade_partner_sh.txt', text)\n",
    "print(text)"
   ]
  },
  {
   "cell_type": "code",
   "execution_count": null,
   "metadata": {},
   "outputs": [],
   "source": []
  },
  {
   "cell_type": "code",
   "execution_count": null,
   "metadata": {},
   "outputs": [],
   "source": []
  },
  {
   "cell_type": "code",
   "execution_count": null,
   "metadata": {},
   "outputs": [],
   "source": []
  },
  {
   "cell_type": "markdown",
   "metadata": {},
   "source": [
    "### Trade Levels, Latest in Detail"
   ]
  },
  {
   "cell_type": "code",
   "execution_count": 4,
   "metadata": {
    "ExecuteTime": {
     "end_time": "2021-08-06T02:33:51.232178Z",
     "start_time": "2021-08-06T02:33:50.740926Z"
    }
   },
   "outputs": [],
   "source": [
    "result = pd.DataFrame()\n",
    "url0 = 'https://www.census.gov/econ/currentdata/export/csv'\n",
    "url1 = '?programCode=FTD&timeSlotType=12&startYear=1992&endYear=2021&categoryCode=BOPGS&'\n",
    "for flow in ['EXP', 'IMP']:\n",
    "    url2 = f'dataTypeCode={flow}&geoLevelCode=US&adjusted=yes&errorData=no&internal=false'\n",
    "    url = url0 + url1 + url2\n",
    "    df = pd.read_csv(url, skiprows=6).set_index('Period').dropna()\n",
    "    df.index = pd.to_datetime(df.index)\n",
    "    result[flow] = df['Value']\n",
    "    \n",
    "clean = result.loc['2015':].div(1000)\n",
    "clean.to_csv(data_dir / 'tradelt.csv')\n",
    "write_txt(text_dir / 'implt.txt', end_node3(clean['IMP'], 'blue!80!violet', percent=False))\n",
    "write_txt(text_dir / 'explt.txt', end_node3(clean['EXP'], 'green!80!blue', percent=False))"
   ]
  },
  {
   "cell_type": "code",
   "execution_count": 5,
   "metadata": {
    "ExecuteTime": {
     "end_time": "2021-08-06T02:33:51.243182Z",
     "start_time": "2021-08-06T02:33:51.233916Z"
    }
   },
   "outputs": [
    {
     "name": "stdout",
     "output_type": "stream",
     "text": [
      "US imports of goods and services total \\$283.4 billion in June 2021, compared to \\$201.0 billion in May 2020, and far above the year ago value, \\$209.5 billion. Exports of goods and services are \\$207.7 billion in June 2021, \\$146.1 billion in May 2020, and \\$158.8 billion in June 2020. The trade balance, exports minus imports, shows a trade deficit of \\$75.7 billion in June 2021, \\$54.9 billion in May 2020, and \\$50.7 billion in June 2020. These values are seasonally adjusted but not adjusted for changes in prices or population. \n"
     ]
    }
   ],
   "source": [
    "ltdt = clean.index[-1]\n",
    "ltdate = dtxt(ltdt)['mon1']\n",
    "yrdate = dtxt(clean.index[-13])['mon1']\n",
    "maydt = 'May' if ltdt.year == 2020 else 'May 2020'\n",
    "imltval = clean.IMP.iloc[-1]\n",
    "immayval = clean.IMP.loc['2020-05-01']\n",
    "imyrval = clean.IMP.iloc[-13]\n",
    "imp_comp = compare_text(imltval, imyrval, [10, 30, 50])\n",
    "exltval = clean.EXP.iloc[-1]\n",
    "exmayval = clean.EXP.loc['2020-05-01']\n",
    "exyrval = clean.EXP.iloc[-13]\n",
    "tbltval = exltval - imltval\n",
    "tbmayval = exmayval - immayval\n",
    "tbyrval = exyrval - imyrval\n",
    "\n",
    "if (tbltval < 0) & (tbmayval < 0) & (tbyrval < 0):\n",
    "    tbtxt = 'deficit'\n",
    "    tbtxt2 = ''\n",
    "    tbtxt3 = ''\n",
    "else:\n",
    "    tbtxt = 'deficit'\n",
    "    tbtxt2 = 'a deficit of '\n",
    "    tbtxt3 = 'a deficit of '\n",
    "    if tbltval > 0:\n",
    "        tbtxt = 'surplus'\n",
    "    if tbmayval > 0:\n",
    "        tbtxt2 = 'a surplus of '\n",
    "    if tbyrval > 0:\n",
    "        tbtxt3 = 'a surplus of '\n",
    "\n",
    "text = (f'US imports of goods and services total \\${imltval:.1f} billion in {ltdate}, '+\n",
    "        f'compared to \\${immayval:.1f} billion in {maydt}, and {imp_comp} the year ago value, '+\n",
    "        f'\\${imyrval:.1f} billion. Exports of goods and services are \\${exltval:.1f} billion in '+\n",
    "        f'{ltdate}, \\${exmayval:.1f} billion in {maydt}, and \\${exyrval:.1f} billion in {yrdate}. '+\n",
    "        f'The trade balance, exports minus imports, shows a trade {tbtxt} of '+\n",
    "        f'\\${abs(tbltval):.1f} billion in {ltdate}, {tbtxt2}\\${abs(tbmayval):.1f} billion '+\n",
    "        f'in {maydt}, and {tbtxt3}\\${abs(tbyrval):.1f} billion in {yrdate}. '+\n",
    "        'These values are seasonally adjusted but not adjusted for changes in prices '+\n",
    "        'or population. ')\n",
    "write_txt(text_dir / 'tradeltlevels.txt', text)\n",
    "print(text)"
   ]
  },
  {
   "cell_type": "code",
   "execution_count": null,
   "metadata": {},
   "outputs": [],
   "source": []
  },
  {
   "cell_type": "code",
   "execution_count": null,
   "metadata": {},
   "outputs": [],
   "source": []
  },
  {
   "cell_type": "markdown",
   "metadata": {
    "ExecuteTime": {
     "end_time": "2020-10-03T00:12:51.285487Z",
     "start_time": "2020-10-03T00:12:51.283809Z"
    }
   },
   "source": [
    "### World Bank Tariff Data (WDI)"
   ]
  },
  {
   "cell_type": "code",
   "execution_count": 6,
   "metadata": {
    "ExecuteTime": {
     "end_time": "2021-08-06T02:33:51.632769Z",
     "start_time": "2021-08-06T02:33:51.244329Z"
    }
   },
   "outputs": [
    {
     "name": "stdout",
     "output_type": "stream",
     "text": [
      "World Bank staff \\href{https://data.worldbank.org/indicator/TM.TAX.MRCH.WM.AR.ZS?locations=US&name_desc=true}{calculate} the weighted average applied tariff rate on US imports. The measure shows the trend in applied tariffs, factoring in the actual composition of imports by trading partner. In 1989, the average tariff on US imports was 3.9 percent. During the 1990s and 2000s, the US entered into various trade agreements, while China joined the WTO, obtaining \\href{https://www.wto.org/english/thewto_e/whatis_e/tif_e/fact2_e.htm}{most-favored nation} status with the US. In the latest data, covering 2019, the average tariff was 13.8 percent.\n"
     ]
    }
   ],
   "source": [
    "from io import BytesIO\n",
    "from zipfile import ZipFile\n",
    "\n",
    "url = 'http://api.worldbank.org/v2/en/indicator/TM.TAX.MRCH.WM.AR.ZS?downloadformat=csv'\n",
    "\n",
    "r = requests.get(url)\n",
    "zip_file = ZipFile(BytesIO(r.content))\n",
    "files = zip_file.namelist()\n",
    "data_file = [file for file in files if file[0] != 'M']\n",
    "with zip_file.open(data_file[0], 'r') as csvfile:\n",
    "    df = pd.read_csv(csvfile, skiprows=4)\n",
    "    \n",
    "data = df[df['Country Code'] == 'USA'].T.loc['1989':].dropna().iloc[:,0]\n",
    "data.index = pd.to_datetime([f'{year}-07-01' for year in data.index])\n",
    "data.name = 'tariff'\n",
    "data.index.name = 'date'\n",
    "data[pd.to_datetime('1994-07-01')] = np.nan\n",
    "data = data.sort_index()\n",
    "data.to_csv(data_dir / 'tariff.csv')\n",
    "write_txt(text_dir / 'tariff_node.txt', end_node3(data, 'violet'))\n",
    "\n",
    "t89 = data.loc['1989-07-01']\n",
    "tlt = data.iloc[-1]\n",
    "ltyear = dtxt(data.index[-1])['year']\n",
    "\n",
    "text = ('World Bank staff \\href{https://data.worldbank.org/indicator/TM.TAX.MRCH.WM.AR.ZS?locations=US&name_desc=true}{calculate} '+\n",
    "        'the weighted average applied tariff rate on US imports. The measure shows the trend '+\n",
    "        'in applied tariffs, factoring in the actual composition of imports by trading partner. '+\n",
    "        f'In 1989, the average tariff on US imports was {t89:.1f} percent. During the 1990s and 2000s, '+\n",
    "        'the US entered into various trade agreements, while China joined the WTO, obtaining '+\n",
    "        '\\href{https://www.wto.org/english/thewto_e/whatis_e/tif_e/fact2_e.htm}{most-favored nation} '+\n",
    "        f'status with the US. In the latest data, covering {ltyear}, the average tariff was {tlt:.1f} '+\n",
    "        'percent.')\n",
    "write_txt(text_dir / 'tariff.txt', text)\n",
    "print(text)"
   ]
  },
  {
   "cell_type": "code",
   "execution_count": null,
   "metadata": {},
   "outputs": [],
   "source": []
  },
  {
   "cell_type": "code",
   "execution_count": null,
   "metadata": {},
   "outputs": [],
   "source": []
  }
 ],
 "metadata": {
  "kernelspec": {
   "display_name": "Python 3",
   "language": "python",
   "name": "python3"
  },
  "language_info": {
   "codemirror_mode": {
    "name": "ipython",
    "version": 3
   },
   "file_extension": ".py",
   "mimetype": "text/x-python",
   "name": "python",
   "nbconvert_exporter": "python",
   "pygments_lexer": "ipython3",
   "version": "3.8.8"
  }
 },
 "nbformat": 4,
 "nbformat_minor": 2
}
