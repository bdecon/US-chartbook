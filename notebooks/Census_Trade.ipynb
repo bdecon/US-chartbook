{
 "cells": [
  {
   "cell_type": "markdown",
   "metadata": {},
   "source": [
    "### Census Trade Data"
   ]
  },
  {
   "cell_type": "code",
   "execution_count": 1,
   "metadata": {},
   "outputs": [],
   "source": [
    "import sys\n",
    "sys.path.append('../src')\n",
    "\n",
    "import uschartbook.config\n",
    "\n",
    "from uschartbook.config import *\n",
    "from uschartbook.utils import *"
   ]
  },
  {
   "cell_type": "code",
   "execution_count": 29,
   "metadata": {},
   "outputs": [],
   "source": [
    "d = {}\n",
    "\n",
    "for flow in ['imports', 'exports']:\n",
    "    base = f'https://api.census.gov/data/timeseries/intltrade/{flow}/hs'\n",
    "    params = ['CTY_CODE', 'CTY_NAME', 'ALL_VAL_MO']\n",
    "    if flow == 'imports':\n",
    "        params[2] = 'GEN_VAL_MO'\n",
    "    \n",
    "    param = ','.join(params)\n",
    "    url = f'{base}?get={param}&key={census_key}&time=from+2015-01'\n",
    "\n",
    "    r = requests.get(url).json()\n",
    "\n",
    "    d[flow] = r"
   ]
  },
  {
   "cell_type": "code",
   "execution_count": 162,
   "metadata": {},
   "outputs": [],
   "source": [
    "i = d['imports']\n",
    "df = pd.DataFrame(i[1:], columns=i[0])\n",
    "df = df[(df['CTY_CODE'].str[0] !='0') & \n",
    "        (df['CTY_CODE'].str[1] != 'X')]\n",
    "df['Name'] = df['CTY_NAME'].str.title()\n",
    "df['Date'] = pd.to_datetime(df['time'], format='%Y-%m')\n",
    "imp = (df.rename({'GEN_VAL_MO': 'Imports'}, axis=1)\n",
    "         .set_index(['Name', 'Date']).Imports.astype(float))\n",
    "\n",
    "e = d['exports']\n",
    "df = pd.DataFrame(e[1:], columns=e[0])\n",
    "df = df[(df['CTY_CODE'].str[0] !='0') & \n",
    "        (df['CTY_CODE'].str[1] != 'X')]\n",
    "df['Name'] = df['CTY_NAME'].str.title()\n",
    "df['Date'] = pd.to_datetime(df['time'], format='%Y-%m')\n",
    "exp = (df.rename({'ALL_VAL_MO': 'Exports'}, axis=1)\n",
    "         .set_index(['Name', 'Date']).Exports.astype(float))\n",
    "\n",
    "data = ((pd.DataFrame([imp, exp]).T / 1000000)\n",
    "           .rename({'Korea, South': 'South Korea',\n",
    "                    'Total For All Countries': 'Total, All Countries'}))\n",
    "\n",
    "data['Total'] = data['Imports'] + data['Exports']"
   ]
  },
  {
   "cell_type": "code",
   "execution_count": 164,
   "metadata": {},
   "outputs": [],
   "source": [
    "dt = data.xs('Canada').index[-1]\n",
    "index = data.xs(dt, level=1).Total.sort_values(ascending=False).iloc[:26].index\n",
    "\n",
    "final = data.loc[(index, dt),:].astype(int).droplevel('Date')\n",
    "dt2 = dt - pd.DateOffset(months = 12)\n",
    "data2 = data.loc[(index, dt2),:].astype(int).droplevel('Date')\n",
    "data2.columns = [f'{k} ' for k in final.keys()]\n",
    "final = final.join(data2).sort_values('Total', ascending=False)\n",
    "final.index.name = ''\n",
    "\n",
    "(final.applymap('{:,.0f}'.format)\n",
    "      .to_csv(data_dir / 'trade_partner.tex', sep='&', \n",
    "              line_terminator='\\\\\\ ', quotechar=' '))\n",
    "\n",
    "write_txt(text_dir / 'trade_date.txt', dtxt(dt)['mon1'])\n",
    "write_txt(text_dir / 'trade_date2.txt', dtxt(dt2)['mon1'])"
   ]
  },
  {
   "cell_type": "code",
   "execution_count": 170,
   "metadata": {},
   "outputs": [
    {
     "data": {
      "text/plain": [
       "0.8533121782087467"
      ]
     },
     "execution_count": 170,
     "metadata": {},
     "output_type": "execute_result"
    }
   ],
   "source": [
    "final['Total '].iloc[1:].sum() / final['Total '].iloc[0]"
   ]
  },
  {
   "cell_type": "code",
   "execution_count": null,
   "metadata": {},
   "outputs": [],
   "source": []
  },
  {
   "cell_type": "code",
   "execution_count": null,
   "metadata": {},
   "outputs": [],
   "source": []
  }
 ],
 "metadata": {
  "kernelspec": {
   "display_name": "Python 3",
   "language": "python",
   "name": "python3"
  },
  "language_info": {
   "codemirror_mode": {
    "name": "ipython",
    "version": 3
   },
   "file_extension": ".py",
   "mimetype": "text/x-python",
   "name": "python",
   "nbconvert_exporter": "python",
   "pygments_lexer": "ipython3",
   "version": "3.8.2"
  }
 },
 "nbformat": 4,
 "nbformat_minor": 2
}
