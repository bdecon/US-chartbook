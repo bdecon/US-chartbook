{
 "cells": [
  {
   "cell_type": "markdown",
   "metadata": {},
   "source": [
    "### Census Trade Data\n",
    "\n",
    "September 30, 2020\n",
    "\n",
    "Brian Dew"
   ]
  },
  {
   "cell_type": "code",
   "execution_count": 1,
   "metadata": {
    "ExecuteTime": {
     "end_time": "2024-06-06T22:17:58.321910Z",
     "start_time": "2024-06-06T22:17:57.318410Z"
    }
   },
   "outputs": [],
   "source": [
    "import sys\n",
    "sys.path.append('../src')\n",
    "\n",
    "import uschartbook.config\n",
    "\n",
    "from uschartbook.config import *\n",
    "from uschartbook.utils import *\n",
    "\n",
    "from io import BytesIO, TextIOWrapper\n",
    "from zipfile import ZipFile"
   ]
  },
  {
   "cell_type": "code",
   "execution_count": null,
   "metadata": {},
   "outputs": [],
   "source": []
  },
  {
   "cell_type": "markdown",
   "metadata": {},
   "source": [
    "### Goods Trade by Partner"
   ]
  },
  {
   "cell_type": "code",
   "execution_count": 2,
   "metadata": {
    "ExecuteTime": {
     "end_time": "2024-06-06T22:18:00.726245Z",
     "start_time": "2024-06-06T22:17:58.323637Z"
    }
   },
   "outputs": [],
   "source": [
    "# Retrieve trade data\n",
    "url = ('https://www.census.gov/foreign-trade/balance/country.xlsx')\n",
    "df = pd.read_excel(url)"
   ]
  },
  {
   "cell_type": "code",
   "execution_count": 3,
   "metadata": {
    "ExecuteTime": {
     "end_time": "2024-06-06T22:18:01.190482Z",
     "start_time": "2024-06-06T22:18:00.727634Z"
    },
    "code_folding": []
   },
   "outputs": [],
   "source": [
    "# Melt the DataFrame to have one row per country per year per month\n",
    "months = ['JAN', 'FEB', 'MAR', 'APR', 'MAY', 'JUN', 'JUL', \n",
    "          'AUG', 'SEP', 'OCT', 'NOV', 'DEC']\n",
    "import_columns = ['I' + month for month in months]\n",
    "export_columns = ['E' + month for month in months]\n",
    "\n",
    "# Melt imports\n",
    "dfi = df.melt(id_vars=['year', 'CTY_CODE', 'CTYNAME'], value_vars=import_columns,\n",
    "                     var_name='Month', value_name='Imports')\n",
    "dfi['date'] = pd.to_datetime(dfi.Month.str[1:] + ' ' + dfi.year.astype('str'))\n",
    "\n",
    "# Melt exports\n",
    "dfe = df.melt(id_vars=['year', 'CTY_CODE', 'CTYNAME'], value_vars=export_columns,\n",
    "                     var_name='Month', value_name='Exports')\n",
    "dfe['date'] = pd.to_datetime(dfe.Month.str[1:] + ' ' + dfe.year.astype('str'))\n",
    "\n",
    "# Combine imports and exports\n",
    "dfc = pd.merge(dfi, dfe, on=['CTY_CODE', 'CTYNAME', 'date'])\n",
    "\n",
    "res = (dfc[['date', 'CTY_CODE', 'CTYNAME', 'Imports', 'Exports']]\n",
    "       .set_index(['CTYNAME', 'date']).sort_index())\n",
    "res.replace(0, np.nan, inplace=True)\n",
    "res.to_csv(data_dir / 'trade_partner.csv')"
   ]
  },
  {
   "cell_type": "code",
   "execution_count": 4,
   "metadata": {
    "ExecuteTime": {
     "end_time": "2024-06-06T22:18:01.329857Z",
     "start_time": "2024-06-06T22:18:01.192574Z"
    }
   },
   "outputs": [],
   "source": [
    "# Trade balance by partner chart\n",
    "res = pd.read_csv(data_dir / 'trade_partner.csv', parse_dates=True, \n",
    "                  index_col=['CTYNAME', 'date'])\n",
    "res['Balance'] = res['Exports'] - res['Imports']\n",
    "res['Total'] = res['Exports'] + res['Imports']\n",
    "s = ['World, Not Seasonally Adjusted', 'Canada', 'Mexico', \n",
    "     'European Union', 'China', 'Asia']\n",
    "data = res.query('CTYNAME in @s')['Balance'].unstack().T.loc['1989':].dropna(how='all')\n",
    "tot = data['World, Not Seasonally Adjusted']\n",
    "data['Asia ex. China'] = data['Asia'] - data['China']\n",
    "data = data[['Canada', 'Mexico', 'China', 'Asia ex. China', 'European Union']]\n",
    "\n",
    "gdp = pd.read_csv(data_dir / 'gdp_monthly.csv', parse_dates=True, \n",
    "                  index_col='date').rolling(12).mean()['A191RC']\n",
    "bal = (data.rolling(12).sum()\n",
    "           .divide(gdp, axis=0)\n",
    "           .dropna(how='all') * 100)\n",
    "bal.columns.name = ''\n",
    "bal.to_csv(data_dir / 'trade_bal_partner.csv', index_label='date')\n",
    "\n",
    "# End nodes\n",
    "colors = {'Canada' : 'green!90!blue', 'Mexico' : 'violet', \n",
    "          'China' : 'darkgray', 'Asia ex. China' : 'cyan!80!white', \n",
    "          'European Union' : 'blue!70!black'}\n",
    "\n",
    "adj = node_adj(bal)\n",
    "smax = bal.iloc[-1].idxmax()\n",
    "adj[smax] += 0.35\n",
    "date = {n: None for n in bal.columns}\n",
    "date[smax] = 'm'\n",
    "nodes = '\\n'.join([end_node(bal[i], colors[i], \n",
    "                            date=date[i], offset=adj[i]) \n",
    "                   for i in colors.keys()])\n",
    "write_txt(text_dir / 'trade_bal_partner_nodes.txt', nodes)"
   ]
  },
  {
   "cell_type": "code",
   "execution_count": 5,
   "metadata": {
    "ExecuteTime": {
     "end_time": "2024-06-06T22:18:01.418255Z",
     "start_time": "2024-06-06T22:18:01.331034Z"
    }
   },
   "outputs": [],
   "source": [
    "# Trade in goods, small multiples\n",
    "res = pd.read_csv(data_dir / 'trade_partner.csv', parse_dates=True, \n",
    "                  index_col=['date', 'CTYNAME'])\n",
    "res['Balance'] = res['Exports'] - res['Imports']\n",
    "slist = ['Imports', 'Exports', 'Balance']\n",
    "clist = ['Canada', 'Mexico', 'Japan', 'European Union', 'China', \n",
    "         'South and Central America']\n",
    "df = res.query('CTYNAME in @clist')[slist].rolling(12).sum().unstack()\n",
    "df.columns = [' '.join(col).strip().replace('European Union', 'EU')\n",
    "                 .replace('South and Central America', 'SA') \n",
    "              for col in df.columns.values]\n",
    "dft = (df.divide(gdp, axis=0) * 100).dropna(how='all')\n",
    "dft.to_csv(data_dir / 'trade_partner_goods.csv', index_label='date')"
   ]
  },
  {
   "cell_type": "code",
   "execution_count": 6,
   "metadata": {
    "ExecuteTime": {
     "end_time": "2024-06-06T22:18:01.513245Z",
     "start_time": "2024-06-06T22:18:01.419749Z"
    }
   },
   "outputs": [
    {
     "name": "stdout",
     "output_type": "stream",
     "text": [
      "Imports of goods have increased from 8.4 percent of GDP in 1989 to 11.2 percent of GDP in the year ending April 2024. Goods imports from China increased by 2.5 percent of GDP from 1989 to 2015, and have since fallen by 1.2 percentage points to 1.5 percent of GDP. Goods imports from Mexico have increased by 1.3 percent of GDP since 1989. Goods imports from Japan have fallen by 1.1 percent of GDP.\n",
      "\n",
      " Exports of goods have increased by 0.8 percent of GDP since 1989. The largest buyers of US-made goods are Canada, Mexico, and China. Exports to these three countries make up 40.7 percent of exports and are equivalent to three percent of GDP over the year ending April 2024. Exports to the European Union currently total 1.3 percent of GDP.\n"
     ]
    }
   ],
   "source": [
    "# Imports and Exports by Partner Text\n",
    "res = pd.read_csv(data_dir / 'trade_partner.csv', parse_dates=True, \n",
    "                  index_col=['CTYNAME', 'date'])\n",
    "res['Balance'] = res['Exports'] - res['Imports']\n",
    "# Imports Text\n",
    "totch = (res.loc['World, Not Seasonally Adjusted', 'Imports']\n",
    "         .rolling(12).sum().divide(gdp, axis=0) * 100).dropna()\n",
    "\n",
    "totch89 = value_text(totch.loc['1989-12-01'], 'plain')\n",
    "totchlt = value_text(totch.iloc[-1], 'plain')\n",
    "ltdt = dtxt(totch.index[-1])['mon1']\n",
    "\n",
    "cn_imp = (res.loc['China', 'Imports']\n",
    "         .rolling(12).sum().divide(gdp, axis=0) * 100).dropna()\n",
    "maxdate = cn_imp.idxmax()\n",
    "maxdt = maxdate.year\n",
    "cn_ch = value_text(cn_imp[maxdate] - cn_imp.loc['1989-12-01'], 'plain')\n",
    "cnlt = value_text(cn_imp.iloc[-1], 'plain')\n",
    "cn_lt = value_text(cn_imp[maxdate] - cn_imp.iloc[-1], 'plain', ptype='pp')\n",
    "mx_imp = (res.loc['Mexico', 'Imports']\n",
    "         .rolling(12).sum().divide(gdp, axis=0) * 100).dropna()\n",
    "mx_ch = value_text(mx_imp.iloc[-1] - mx_imp.loc['1989-12-01'], 'increase_by')\n",
    "jp_imp = (res.loc['Japan', 'Imports']\n",
    "         .rolling(12).sum().divide(gdp, axis=0) * 100).dropna()\n",
    "jp_ch = (value_text(jp_imp.iloc[-1] - jp_imp.loc['1989-12-01'], 'increase_by', \n",
    "                    casual=True).replace('fell', 'fallen'))\n",
    "\n",
    "# Exports text\n",
    "totex = res.loc['World, Not Seasonally Adjusted', 'Exports'].rolling(12).sum()\n",
    "exgdp = (totex.divide(gdp, axis=0) * 100).dropna()\n",
    "totchex = value_text(exgdp.iloc[-1] - exgdp.loc['1989-12-01'], 'increase_by')\n",
    "ctylist = ['Canada', 'China', 'Mexico']\n",
    "ctydf = (res.query('CTYNAME in @ctylist')['Exports']\n",
    "            .unstack().T.rolling(12).sum().dropna())\n",
    "octy = ([cty for cty in (ctydf.iloc[-1].sort_values(ascending=False)).index])\n",
    "\n",
    "top3 = ctydf.iloc[-1].sum()\n",
    "topsh = value_text((top3 / totex.dropna().iloc[-1]) * 100, 'plain')\n",
    "top3gdp = value_text((top3 / gdp.loc[ctydf.index[-1]]) * 100, 'plain')\n",
    "eu = res.loc['European Union', 'Exports'].rolling(12).sum()\n",
    "eut = value_text((eu.dropna().iloc[-1] / \n",
    "                  gdp.loc[ctydf.index[-1]]) * 100, 'plain')\n",
    "\n",
    "text = (f'Imports of goods have increased from {totch89} of GDP in '+\n",
    "        f'1989 to {totchlt} of GDP in the year ending {ltdt}. '+\n",
    "        f'Goods imports from China increased by {cn_ch} '+\n",
    "        f'of GDP from 1989 to {maxdt}, and have since fallen by '+\n",
    "        f'{cn_lt} to {cnlt} of GDP. Goods imports from Mexico have '+\n",
    "        f'{mx_ch} of GDP since 1989. Goods imports '+\n",
    "        f'from Japan have {jp_ch} of GDP.\\n\\n Exports '+\n",
    "        f'of goods have {totchex} of GDP since 1989. '+\n",
    "        f'The largest buyers of US-made goods are {octy[0]}, {octy[1]}, '+\n",
    "        f'and {octy[2]}. Exports to these three countries make up '+\n",
    "        f'{topsh} of exports and are equivalent to '+\n",
    "        f'{top3gdp} of GDP over the year ending {ltdt}. Exports '+\n",
    "        f'to the European Union currently total {eut} of GDP.')\n",
    "write_txt(text_dir / 'trade_parter_imp_exp.txt', text)\n",
    "print(text)"
   ]
  },
  {
   "cell_type": "code",
   "execution_count": 7,
   "metadata": {
    "ExecuteTime": {
     "end_time": "2024-06-06T22:18:01.523360Z",
     "start_time": "2024-06-06T22:18:01.514727Z"
    }
   },
   "outputs": [
    {
     "name": "stdout",
     "output_type": "stream",
     "text": [
      "Since 1989, the US goods trade deficit has increased by two percent of GDP, to 3.9 percent percent of GDP. In 2018, the deficit with China was two percent of GDP, but it has fallen to one percent of GDP. \n"
     ]
    }
   ],
   "source": [
    "bal = pd.read_csv(data_dir / 'trade_bal_partner.csv', parse_dates=True, \n",
    "                  index_col='date')\n",
    "bal18 = value_text(abs(bal.loc['2018-12-01', 'China']), 'plain')\n",
    "ballt = value_text(abs(bal['China'].iloc[-1]), 'plain')\n",
    "totch = (res.loc['World, Not Seasonally Adjusted', 'Balance']\n",
    "         .rolling(12).sum().divide(gdp, axis=0) * 100).dropna()\n",
    "totlt = value_text(abs(totch.iloc[-1]), 'plain')\n",
    "balch = value_text(abs(totch.iloc[-1]) - abs(totch.loc['1989-12-01']), \n",
    "                   'increase_by')\n",
    "\n",
    "# Trade Balance Text 1\n",
    "text = (f'Since 1989, the US goods trade deficit has {balch} of '+\n",
    "        f'GDP, to {totlt} percent of GDP. '+\n",
    "        f'In 2018, the deficit with China was {bal18} of GDP, '+\n",
    "        f'but it has fallen to {ballt} of GDP. ')\n",
    "write_txt(text_dir / 'trade_parter_bal1.txt', text)\n",
    "print(text)"
   ]
  },
  {
   "cell_type": "code",
   "execution_count": 8,
   "metadata": {
    "ExecuteTime": {
     "end_time": "2024-06-06T22:18:01.534061Z",
     "start_time": "2024-06-06T22:18:01.524938Z"
    }
   },
   "outputs": [
    {
     "name": "stdout",
     "output_type": "stream",
     "text": [
      "The US also runs a trade deficit with the European Union. In 1997, trade between the EU and US was relatively balanced. In the latest data, the goods trade deficit with the EU is 0.8 percent of GDP.\n",
      "\n",
      " The US trade deficit with Mexico is currently 0.6 percent of GDP. In the early 1990s, the US had a trade surplus with Mexico. The US has a surplus with south and central American countries, equivalent to 0.2 percent of GDP. \n"
     ]
    }
   ],
   "source": [
    "eu = res.loc['European Union', 'Balance'].rolling(12).sum()\n",
    "eugdp = ((eu / gdp) * 100).dropna()\n",
    "eut = value_text(abs(eugdp.iloc[-1]), 'plain')\n",
    "mx = res.loc['Mexico', 'Balance'].rolling(12).sum()\n",
    "mxgdp = ((mx / gdp) * 100).dropna()\n",
    "mxt = value_text(abs(mxgdp.iloc[-1]), 'plain')\n",
    "sa = res.loc['South and Central America', 'Balance'].rolling(12).sum()\n",
    "sagdp = ((sa / gdp) * 100).dropna()\n",
    "sat = value_text(sagdp.iloc[-1], 'plain')\n",
    "\n",
    "# Trade Balance Text 2\n",
    "text = ('The US also runs a trade deficit with the European '+\n",
    "        'Union. In 1997, trade between the EU and US was relatively balanced. '+\n",
    "        f'In the latest data, the goods trade deficit with the EU is {eut} of GDP.\\n\\n '+\n",
    "        f'The US trade deficit with Mexico is currently {mxt} of GDP. '+\n",
    "        'In the early 1990s, the US had a trade surplus with Mexico. '+\n",
    "        'The US has a surplus with south and central American '+\n",
    "        f'countries, equivalent to {sat} of GDP. ')\n",
    "write_txt(text_dir / 'trade_parter_bal2.txt', text)\n",
    "print(text)"
   ]
  },
  {
   "cell_type": "code",
   "execution_count": null,
   "metadata": {},
   "outputs": [],
   "source": []
  },
  {
   "cell_type": "code",
   "execution_count": null,
   "metadata": {},
   "outputs": [],
   "source": []
  },
  {
   "cell_type": "markdown",
   "metadata": {},
   "source": [
    "### Trade by Partner from API"
   ]
  },
  {
   "cell_type": "code",
   "execution_count": 10,
   "metadata": {
    "ExecuteTime": {
     "end_time": "2024-06-06T22:29:32.736318Z",
     "start_time": "2024-06-06T22:23:43.799797Z"
    }
   },
   "outputs": [],
   "source": [
    "# Retrieve data from Census API\n",
    "d = {}\n",
    "for flow in ['imports', 'exports']:\n",
    "    base = f'https://api.census.gov/data/timeseries/intltrade/{flow}/hs'\n",
    "    params = ['CTY_CODE', 'CTY_NAME', 'ALL_VAL_MO']\n",
    "    if flow == 'imports':\n",
    "        params[2] = 'GEN_VAL_MO'\n",
    "    param = ','.join(params)\n",
    "    url = f'{base}?get={param}&key={census_key}&time=from+1992-01'\n",
    "    d[flow] = requests.get(url).json()\n",
    "    \n",
    "i = d['imports']\n",
    "df = pd.DataFrame(i[1:], columns=i[0])\n",
    "df = df[(df['CTY_CODE'].str[0] !='0') & \n",
    "        (df['CTY_CODE'].str[1] != 'X')]\n",
    "df['Name'] = df['CTY_NAME'].str.title()\n",
    "df['Date'] = pd.to_datetime(df['time'], format='%Y-%m')\n",
    "imp = (df.rename({'GEN_VAL_MO': 'Imports'}, axis=1)\n",
    "         .set_index(['Name', 'Date']).Imports.astype(float)\n",
    "         .drop_duplicates(keep='last'))\n",
    "\n",
    "e = d['exports']\n",
    "df = pd.DataFrame(e[1:], columns=e[0])\n",
    "df = df[(df['CTY_CODE'].str[0] !='0') & \n",
    "        (df['CTY_CODE'].str[1] != 'X')]\n",
    "df['Name'] = df['CTY_NAME'].str.title()\n",
    "df['Date'] = pd.to_datetime(df['time'], format='%Y-%m')\n",
    "exp = (df.rename({'ALL_VAL_MO': 'Exports'}, axis=1)\n",
    "         .set_index(['Name', 'Date']).Exports.astype(float)\n",
    "         .drop_duplicates(keep='last'))\n",
    "\n",
    "data = ((pd.DataFrame([imp, exp]).T / 1000000)\n",
    "           .rename({'Korea, South': 'South Korea',\n",
    "                    'Total For All Countries': 'Total, All Countries'}))\n",
    "\n",
    "data.sort_index().to_csv(data_dir / 'trade_master.csv')"
   ]
  },
  {
   "cell_type": "code",
   "execution_count": 11,
   "metadata": {
    "ExecuteTime": {
     "end_time": "2024-06-06T22:30:52.482536Z",
     "start_time": "2024-06-06T22:30:52.437858Z"
    }
   },
   "outputs": [
    {
     "name": "stdout",
     "output_type": "stream",
     "text": [
      "In April 2024, trade with the top 25 trading partners (see table) comprises 99.5 percent of total US trade in goods. The top three US trading partners are Mexico, Canada, and China. These three countries account for 40.9 percent of US goods trade in April 2024. \n"
     ]
    }
   ],
   "source": [
    "data = pd.read_csv(data_dir / 'trade_master.csv', \n",
    "                   parse_dates=True, index_col=['Name', 'Date'])\n",
    "\n",
    "data['Total'] = data['Imports'] + data['Exports']\n",
    "\n",
    "# Retrieve latest date for sample country\n",
    "dt = data.xs('Canada').index[-1]\n",
    "ltdt = dtxt(dt)['mon1']\n",
    "index = data.xs(dt, level=1).Total.sort_values(ascending=False).iloc[:101].index\n",
    "\n",
    "final = data.loc[(index, dt),:].astype(int).droplevel('Date')\n",
    "dt2 = dt - pd.DateOffset(months = 12)\n",
    "data2 = data.loc[(index, dt2),:].astype(int).droplevel('Date')\n",
    "data2.columns = [f'{k} ' for k in final.keys()]\n",
    "final = final.join(data2).sort_values('Total', ascending=False)\n",
    "final.index.name = ''\n",
    "tbl = final.applymap('{:,.0f}'.format)\n",
    "tbl.iloc[0, 0] = f'\\${tbl.iloc[0, 0]}'\n",
    "(tbl.iloc[:26].to_csv(data_dir / 'trade_partner.tex', sep='&', \n",
    "              lineterminator='\\\\\\ ', quotechar=' '))\n",
    "\n",
    "write_txt(text_dir / 'trade_date.txt', dtxt(dt)['mon1'])\n",
    "write_txt(text_dir / 'trade_date2.txt', dtxt(dt2)['mon1'])\n",
    "\n",
    "shval = (final['Total'].iloc[1:].sum() / \n",
    "         final['Total'].iloc[0]) * 100\n",
    "tc = final.drop('Total, All Countries').index[:3]\n",
    "tc_txt = f'{tc[0]}, {tc[1]}, and {tc[2]}'\n",
    "t3sh = (final.loc[tc, 'Total'].sum() / \n",
    "        final.loc['Total, All Countries', 'Total'])\n",
    "t3sh_txt = f'{t3sh*100:.1f} percent'\n",
    "\n",
    "text = (f'In {ltdt}, trade with the top 25 trading partners (see '+\n",
    "        f'table) comprises {shval:.1f} percent of total US trade in '+\n",
    "        'goods. The top three US trading partners are '+\n",
    "        f'{tc_txt}. These three countries account for {t3sh_txt} of '+\n",
    "        f'US goods trade in {ltdt}. ')\n",
    "write_txt(text_dir / 'trade_partner_sh.txt', text)\n",
    "print(text)"
   ]
  },
  {
   "cell_type": "code",
   "execution_count": 12,
   "metadata": {
    "ExecuteTime": {
     "end_time": "2024-06-06T22:30:53.330991Z",
     "start_time": "2024-06-06T22:30:53.320656Z"
    }
   },
   "outputs": [
    {
     "name": "stdout",
     "output_type": "stream",
     "text": [
      "Over the year ending April 2024, nominal total trade increased among 21 of the top 25 trading partners. The largest one-year increase in total trade was with Mexico. Monthly trade with Mexico grew by 9.6 billion, or 15.2 percent. The largest one-year decrease is with China, with monthly trade falling by 2.9 billion, which is a drop of 6.4 percent. Total trade with all countries grew 7.4 percent over the year.\n"
     ]
    }
   ],
   "source": [
    "# Change text\n",
    "ch = final['Total'].iloc[1:] - final['Total '].iloc[1:]\n",
    "\n",
    "inc = (ch.iloc[:25] > 0).sum()\n",
    "dec = (ch.iloc[:25] < 0).sum()\n",
    "tch = ch.sort_values(ascending=False).index[0]\n",
    "tch2 = ch.sort_values(ascending=False).index[1]\n",
    "sch = ch.sort_values(ascending=False).index[-1]\n",
    "cht = value_text(ch.loc[tch] / 1000, 'increase_by', \n",
    "                 ptype='billion', casual=True)\n",
    "pch = (final.loc[tch, 'Total'] / final.loc[tch, 'Total '] - 1) * 100\n",
    "pcht = value_text(pch, 'plain')\n",
    "\n",
    "scht = value_text(ch.loc[sch] / 1000, 'increase_by', ptype='billion', \n",
    "                  casual=True).replace('fell', 'falling')\n",
    "psc = (final.loc[sch, 'Total'] / final.loc[sch, 'Total '] - 1) * 100\n",
    "psct = value_text(psc, 'plain').replace('negative ', 'a drop of ')\n",
    "\n",
    "cht2 = value_text(ch.loc[tch2] / 1000, 'increase_of', \n",
    "                 ptype='billion')\n",
    "pch2 = (final.loc[tch2, 'Total'] / final.loc[tch2, 'Total '] - 1) * 100\n",
    "pcht2 = value_text(pch2, 'plain')\n",
    "\n",
    "if dec > 0:\n",
    "    txt = (f'The largest one-year decrease is with {sch}, with monthly trade '+\n",
    "           f'{scht}, which is {psct}.')\n",
    "else:\n",
    "    txt = ('The second largest one-year rise in monthly trade was '+\n",
    "           f'{cht2} with {tch2}, which is {pcht2}.')\n",
    "\n",
    "only = 'all ' if inc == 25 else 'only ' if inc < 10 else ''\n",
    "\n",
    "totc = final.loc['Total, All Countries']\n",
    "totch = value_text((totc['Total'] / totc['Total '] - 1) * 100, casual=True)\n",
    "\n",
    "text = (f'Over the year ending {ltdt}, nominal total trade '+\n",
    "        f'increased among {only}{inc} of the top 25 trading partners. '+\n",
    "        f'The largest one-year increase in total trade was with {tch}. '+\n",
    "        f'Monthly trade with {tch} {cht}, or {pcht}. {txt} Total trade '+\n",
    "        f'with all countries {totch} over the year.')\n",
    "write_txt(text_dir / 'trade_partner_ch.txt', text)\n",
    "print(text)"
   ]
  },
  {
   "cell_type": "code",
   "execution_count": null,
   "metadata": {},
   "outputs": [],
   "source": []
  },
  {
   "cell_type": "code",
   "execution_count": null,
   "metadata": {},
   "outputs": [],
   "source": []
  },
  {
   "cell_type": "markdown",
   "metadata": {},
   "source": [
    "### Trade Levels, Latest in Detail"
   ]
  },
  {
   "cell_type": "code",
   "execution_count": 13,
   "metadata": {
    "ExecuteTime": {
     "end_time": "2024-06-06T22:30:56.222766Z",
     "start_time": "2024-06-06T22:30:56.123618Z"
    }
   },
   "outputs": [],
   "source": [
    "url = 'https://www.census.gov/econ_getzippedfile/?programCode=FTD'\n",
    "r = requests.get(url)\n",
    "zip_file = ZipFile(BytesIO(r.content))\n",
    "with zip_file.open('FTD-mf.csv', 'r') as csvfile:\n",
    "    tables = csvfile.read().split(b\"\\n\\n\\n\")\n",
    "    tables = [tbl.decode().replace('\\r', '').split('\\n') for tbl in tables]"
   ]
  },
  {
   "cell_type": "code",
   "execution_count": 14,
   "metadata": {
    "ExecuteTime": {
     "end_time": "2024-06-06T22:30:56.989665Z",
     "start_time": "2024-06-06T22:30:56.908041Z"
    }
   },
   "outputs": [],
   "source": [
    "d = {tbl[0]: pd.DataFrame([t.split(',') for t in tbl[1:]]).T.set_index(0).T \n",
    "     for tbl in tables}\n",
    "cats = (d['CATEGORIES'].loc[:, ['cat_idx', 'cat_code']]\n",
    "        .set_index('cat_idx').to_dict()['cat_code'])\n",
    "tp = (d['TIME PERIODS'].loc[:, ['per_idx', 'per_name']]\n",
    "        .set_index('per_idx').to_dict()['per_name'])\n",
    "dtype = (d['DATA TYPES'].loc[:, ['dt_idx', 'dt_code']]\n",
    "        .set_index('dt_idx').to_dict()['dt_code'])\n",
    "data = pd.DataFrame()\n",
    "data['CAT'] = d['DATA']['cat_idx'].dropna().map(cats)\n",
    "data['DATE'] = d['DATA']['per_idx'].dropna().map(tp)\n",
    "data['TYPE'] = d['DATA']['dt_idx'].dropna().map(dtype)\n",
    "data['DATA'] = d['DATA']['val'].dropna().astype('int') / 1000 \n",
    "data['SA'] = d['DATA']['is_adj']\n",
    "data.index = pd.to_datetime(data.DATE)\n",
    "df = pd.DataFrame()\n",
    "for i in ['IMP', 'EXP', 'BAL']:\n",
    "    df[i] = data.query('CAT == \"BOPGS\" & SA == \"1\" & TYPE == @i')['DATA']\n",
    "df.loc['2015':].to_csv(data_dir / 'tradelt.csv', index_label='date')"
   ]
  },
  {
   "cell_type": "code",
   "execution_count": null,
   "metadata": {
    "ExecuteTime": {
     "end_time": "2024-06-06T22:23:06.382222Z",
     "start_time": "2024-06-06T22:23:06.382210Z"
    }
   },
   "outputs": [],
   "source": [
    "# result = pd.DataFrame()\n",
    "# url0 = 'https://www.census.gov/econ/currentdata/export/csv'\n",
    "# url1 = ('?programCode=FTD&timeSlotType=12&startYear=2015&'+\n",
    "#         'endYear=2022&categoryCode=BOPGS&')\n",
    "# for flow in ['EXP', 'IMP']:\n",
    "#     url2 = (f'dataTypeCode={flow}&geoLevelCode=US&adjusted=yes&'+\n",
    "#             'errorData=no&internal=false')\n",
    "#     url = url0 + url1 + url2\n",
    "#     s = pd.read_csv(url, skiprows=6).set_index('Period').dropna()\n",
    "#     s.index = pd.to_datetime(s.index)\n",
    "#     result[flow] = s['Value']\n",
    "\n",
    "# balance = lambda x: x.EXP - x.IMP    \n",
    "# df = result.loc['2015':].div(1000).assign(BAL = balance)\n",
    "# df.to_csv(data_dir / 'tradelt.csv', index_label='date')"
   ]
  },
  {
   "cell_type": "code",
   "execution_count": 15,
   "metadata": {
    "ExecuteTime": {
     "end_time": "2024-06-06T22:30:59.473210Z",
     "start_time": "2024-06-06T22:30:59.443387Z"
    }
   },
   "outputs": [
    {
     "name": "stdout",
     "output_type": "stream",
     "text": [
      "US goods and services imports total \\$338.2 billion in April 2024, following \\$330.2 billion in March (see {\\color{blue!80!violet}\\textbf{---}}). Imports average \\$334.5 billion over the latest three months of data, and \\$321.5 billion during the same months, one year prior. In 2019, monthly US imports average \\$258.8 billion. For additional context, imports are equivalent to \\$1,005 per capita, in the latest month.\n",
      "\n",
      "The US exported \\$263.7 billion of goods and services in April 2024, following \\$261.6 billion in March (see {\\color{green!80!blue}\\textbf{---}}). The three-month average was \\$263.8 billion in April, and \\$253.6 billion one year prior. Exports were \\$212.2 billion per month, on average, in 2019. In the latest month, exports are equivalent to \\$783 per capita or \\$1,633 per worker. \n",
      "\n",
      "Spending on imports exceeds payments received for exports, resulting in a trade deficit. In April, the trade deficit was \\$74.6 billion, following \\$68.6 billion in March (see {\\color{red}\\textbf{---}}). Over the past three months, the average trade deficit is \\$70.7 billion, compared to \\$67.9 billion one year prior. In 2019, the average monthly trade deficit is \\$46.6 billion.\n"
     ]
    }
   ],
   "source": [
    "# Chart and text for latest monthly trade data\n",
    "df = pd.read_csv(data_dir / 'tradelt.csv', index_col='date', \n",
    "                 parse_dates=True)\n",
    "\n",
    "# End nodes for time series graph\n",
    "res = df[['IMP', 'EXP']]\n",
    "adj = node_adj(res)\n",
    "#smax = res2.iloc[-1].idxmax()\n",
    "#adj[smax] = adj[smax] + 0.35\n",
    "cols = {'IMP': 'blue!80!violet', 'EXP': 'green!80!blue'}\n",
    "date = {series: 'm' if series in ['IMP'] else None \n",
    "        for series in cols.keys()}\n",
    "nodes  ='\\n'.join([end_node(res[series], color, date=date[series], \n",
    "                            full_year=True, offset=adj[series]) \n",
    "                   for series, color in cols.items()])\n",
    "write_txt(text_dir / 'tradelt_nodes.txt', nodes) \n",
    "node = end_node(df.BAL, 'red', date='m', offset=0.35, \n",
    "                full_year=True)\n",
    "write_txt(text_dir / 'ballt.txt', node)\n",
    "\n",
    "ltdt = dtxt(df.index[-1])['mon1']\n",
    "ltmo = dtxt(df.index[-1])['mon3']\n",
    "prdt = (dtxt(df.index[-2])['mon3'] \n",
    "        if df.index[-1].year == df.index[-2].year \n",
    "        else dtxt(df.index[-2])['mon1'])\n",
    "dfs = [('lt', df.iloc[-1]), ('pr', df.iloc[-2]), \n",
    "       ('lt3', df.iloc[-3:].mean()), \n",
    "       ('pr3', df.iloc[-15:-12].mean()), \n",
    "       ('pr19', df.loc['2019'].mean())]\n",
    "val = {name: srs.apply(lambda x: f'\\${abs(x):.1f} billion') \n",
    "       for name, srs in dfs}\n",
    "cols = [('IMP', 'blue!80!violet'), ('EXP', 'green!80!blue'),\n",
    "        ('BAL', 'red')]\n",
    "cline = {name: c_line(col) for name, col in cols}\n",
    "\n",
    "# Context values\n",
    "pop = (pd.read_csv(data_dir/'nipa20600.csv', index_col='date', \n",
    "                  parse_dates=True)['B230RC'])\n",
    "\n",
    "emp = (pd.read_csv(data_dir / 'jobs_report_main2.csv', \n",
    "                   index_col='date', parse_dates=True)\n",
    "        .loc['1989':, 'EMPsa'])\n",
    "\n",
    "tpop = (df.multiply(1_000_000).divide(pop, axis=0).dropna()\n",
    "          .applymap('\\${:,.0f} per capita'.format))\n",
    "temp = (df.multiply(1_000_000).divide(emp, axis=0).dropna()\n",
    "          .applymap('\\${:,.0f} per worker'.format))\n",
    "imp_pc = tpop['IMP'].iloc[-1]\n",
    "exp_pc = tpop['EXP'].iloc[-1]\n",
    "exp_pw = temp['EXP'].iloc[-1]\n",
    "\n",
    "text = (f'US goods and services imports total {val[\"lt\"].IMP} in {ltdt}, '+\n",
    "        f'following {val[\"pr\"].IMP} in {prdt} {cline[\"IMP\"]}. '+\n",
    "        f'Imports average {val[\"lt3\"].IMP} over the latest three months of data, '+\n",
    "        f'and {val[\"pr3\"].IMP} during the same months, one year prior. '+\n",
    "        f'In 2019, monthly US imports average {val[\"pr19\"].IMP}. For additional '+\n",
    "        f'context, imports are equivalent to {imp_pc}, in '+\n",
    "        'the latest month.\\n\\n'+\n",
    "        f'The US exported {val[\"lt\"].EXP} of goods and services in {ltdt}, '+\n",
    "        f'following {val[\"pr\"].EXP} in {prdt} {cline[\"EXP\"]}. The three-month '+\n",
    "        f'average was {val[\"lt3\"].EXP} in {ltmo}, and {val[\"pr3\"].EXP} '+\n",
    "        f'one year prior. Exports were {val[\"pr19\"].EXP} per month, '+\n",
    "        'on average, in 2019. In the latest month, exports are equivalent '+\n",
    "        f'to {exp_pc} or {exp_pw}. \\n\\n'+\n",
    "        'Spending on imports exceeds payments '+\n",
    "        f'received for exports, resulting in a trade deficit. In {ltmo}, '+\n",
    "        f'the trade deficit was {val[\"lt\"].BAL}, following {val[\"pr\"].BAL} '+\n",
    "        f'in {prdt} {cline[\"BAL\"]}. Over the past three months, the average '+\n",
    "        f'trade deficit is {val[\"lt3\"].BAL}, compared to '+\n",
    "        f'{val[\"pr3\"].BAL} one year prior. '+\n",
    "        f'In 2019, the average monthly trade deficit is {val[\"pr19\"].BAL}.')\n",
    "write_txt(text_dir / 'tradeltlevels.txt', text)\n",
    "print(text)"
   ]
  },
  {
   "cell_type": "code",
   "execution_count": null,
   "metadata": {},
   "outputs": [],
   "source": []
  },
  {
   "cell_type": "code",
   "execution_count": null,
   "metadata": {},
   "outputs": [],
   "source": []
  },
  {
   "cell_type": "code",
   "execution_count": null,
   "metadata": {},
   "outputs": [],
   "source": []
  },
  {
   "cell_type": "markdown",
   "metadata": {
    "ExecuteTime": {
     "end_time": "2023-04-18T21:01:27.159734Z",
     "start_time": "2023-04-18T21:01:27.157588Z"
    }
   },
   "source": [
    "### Monthly trade data summary table"
   ]
  },
  {
   "cell_type": "code",
   "execution_count": 16,
   "metadata": {
    "ExecuteTime": {
     "end_time": "2024-06-06T22:31:02.606450Z",
     "start_time": "2024-06-06T22:31:02.212457Z"
    }
   },
   "outputs": [],
   "source": [
    "url = ('https://www.census.gov/foreign-trade/Press-Release/current_press_release/exh1.xlsx')\n",
    "df = pd.read_excel(url, skipfooter=5, header=[4,5], index_col=0)\n",
    "df = df.loc[~df.index.str.contains('-')]\n",
    "y1 = df.index.name\n",
    "y2 = df.index[12]\n",
    "y3 = df.index[25]\n",
    "i1 = df.index[:12] + ' 01, ' + y1\n",
    "i2 = df.iloc[13:25].dropna().index.str.replace(' (R)', '', regex=False) + ' 01, ' + y2\n",
    "i3 = df.iloc[26:].dropna().index.str.replace(' (R)', '', regex=False) + ' 01, ' + y3\n",
    "\n",
    "df2 = df.dropna()\n",
    "df2.index = pd.to_datetime([*i1, *i2, *i3])\n",
    "df2.columns = [i[1] + ' ' + i[0] for i in df2.columns]\n",
    "df2.columns = df2.columns.str.replace(' (1)', '', regex=False)\n",
    "df2.to_csv(data_dir / 'trade_mo_summary.csv', index_label='date')"
   ]
  },
  {
   "cell_type": "code",
   "execution_count": 17,
   "metadata": {
    "ExecuteTime": {
     "end_time": "2024-06-06T22:31:03.137536Z",
     "start_time": "2024-06-06T22:31:03.107294Z"
    }
   },
   "outputs": [],
   "source": [
    "df2 = pd.read_csv(data_dir / 'trade_mo_summary.csv', \n",
    "                  index_col='date', parse_dates=True) / 1000\n",
    "lt = df2.iloc[-3:].iloc[::-1].T\n",
    "pryr = df2.iloc[-13].to_frame()\n",
    "pryr2 = df2.iloc[-25].to_frame()\n",
    "modt = pd.concat([lt, pryr, pryr2], axis=1)\n",
    "cm = (df2.resample('QS').count() > 2)['Total Balance']\n",
    "ltqtr = df2.resample('QS').mean().loc[cm[cm].index[-1]].to_frame()\n",
    "prqtr = df2.resample('QS').mean().loc[cm[cm].index[-2]].to_frame()\n",
    "pr2qtr = df2.resample('QS').mean().loc[cm[cm].index[-3]].to_frame()\n",
    "qtrdt = pd.concat([ltqtr, prqtr, pr2qtr], axis=1)\n",
    "modt.columns = [dtxt(i)['mon2'] for i in modt.columns]\n",
    "qtrdt.columns = [dtxt(i)['qtr1'] for i in qtrdt.columns]\n",
    "table = pd.concat([modt, qtrdt], axis=1)\n",
    "table = table.applymap('{:.1f}'.format)\n",
    "indent = [0, 2, 2, 1, 3, 3, 1, 3, 3]\n",
    "refs = ['red', 0, 0, 'green!80!blue', 0, 0, 'blue!80!violet', 0, 0]\n",
    "rt = [' \\ ' + c_line(c, see=False) if c != 0 else '' for c in refs]\n",
    "table.index = [f'\\hspace{{{i}mm}} ' for i in indent] + table.index + rt\n",
    "(table.to_csv(data_dir / 'trade_mo_summary.tex', sep='&', \n",
    "            lineterminator='\\\\\\ ', quotechar=' '))"
   ]
  },
  {
   "cell_type": "code",
   "execution_count": null,
   "metadata": {},
   "outputs": [],
   "source": []
  },
  {
   "cell_type": "code",
   "execution_count": null,
   "metadata": {},
   "outputs": [],
   "source": []
  },
  {
   "cell_type": "markdown",
   "metadata": {
    "ExecuteTime": {
     "end_time": "2020-10-03T00:12:51.285487Z",
     "start_time": "2020-10-03T00:12:51.283809Z"
    }
   },
   "source": [
    "### World Bank Tariff Data (WDI)"
   ]
  },
  {
   "cell_type": "code",
   "execution_count": null,
   "metadata": {
    "ExecuteTime": {
     "end_time": "2024-06-06T22:23:06.385874Z",
     "start_time": "2024-06-06T22:23:06.385862Z"
    }
   },
   "outputs": [],
   "source": [
    "# from io import BytesIO\n",
    "# from zipfile import ZipFile\n",
    "\n",
    "# url = 'http://api.worldbank.org/v2/en/indicator/TM.TAX.MRCH.WM.AR.ZS?downloadformat=csv'\n",
    "\n",
    "# r = requests.get(url)\n",
    "# zip_file = ZipFile(BytesIO(r.content))\n",
    "# files = zip_file.namelist()\n",
    "# data_file = [file for file in files if file[0] != 'M']\n",
    "# with zip_file.open(data_file[0], 'r') as csvfile:\n",
    "#     df = pd.read_csv(csvfile, skiprows=4)\n",
    "    \n",
    "# data = df[df['Country Code'] == 'USA'].T.loc['1989':].dropna().iloc[:,0]\n",
    "# data.index = pd.to_datetime([f'{year}-07-01' for year in data.index])\n",
    "# data.name = 'tariff'\n",
    "# data.index.name = 'date'\n",
    "# data[pd.to_datetime('1994-07-01')] = np.nan\n",
    "# data = data.sort_index()\n",
    "# data.to_csv(data_dir / 'tariff.csv')\n",
    "# write_txt(text_dir / 'tariff_node.txt', end_node(data, 'violet', percent=True))\n",
    "\n",
    "# t89 = data.loc['1989-07-01']\n",
    "# tlt = data.iloc[-1]\n",
    "# ltyear = dtxt(data.index[-1])['year']\n",
    "\n",
    "# text = ('World Bank staff \\href{https://data.worldbank.org/indicator/TM.TAX.MRCH.WM.AR.ZS?locations=US&name_desc=true}{calculate} '+\n",
    "#         'the weighted average applied tariff rate on US imports. The measure shows the trend '+\n",
    "#         'in applied tariffs, factoring in the actual composition of imports by trading partner. '+\n",
    "#         f'In 1989, the average tariff on US imports was {t89:.1f} percent. During the 1990s and 2000s, '+\n",
    "#         'the US entered into various trade agreements, while China joined the WTO, obtaining '+\n",
    "#         '\\href{https://www.wto.org/english/thewto_e/whatis_e/tif_e/fact2_e.htm}{most-favored nation} '+\n",
    "#         f'status with the US. In the latest data, covering {ltyear}, the average tariff was {tlt:.1f} '+\n",
    "#         'percent.')\n",
    "# write_txt(text_dir / 'tariff.txt', text)\n",
    "# print(text)"
   ]
  },
  {
   "cell_type": "code",
   "execution_count": null,
   "metadata": {},
   "outputs": [],
   "source": []
  }
 ],
 "metadata": {
  "kernelspec": {
   "display_name": "Python 3 (ipykernel)",
   "language": "python",
   "name": "python3"
  },
  "language_info": {
   "codemirror_mode": {
    "name": "ipython",
    "version": 3
   },
   "file_extension": ".py",
   "mimetype": "text/x-python",
   "name": "python",
   "nbconvert_exporter": "python",
   "pygments_lexer": "ipython3",
   "version": "3.8.13"
  }
 },
 "nbformat": 4,
 "nbformat_minor": 2
}
