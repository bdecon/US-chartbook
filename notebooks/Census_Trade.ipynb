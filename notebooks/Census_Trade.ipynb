{
 "cells": [
  {
   "cell_type": "markdown",
   "metadata": {},
   "source": [
    "### Census Trade Data\n",
    "\n",
    "September 30, 2020\n",
    "\n",
    "Brian Dew"
   ]
  },
  {
   "cell_type": "code",
   "execution_count": 1,
   "metadata": {
    "ExecuteTime": {
     "end_time": "2023-05-15T15:18:21.106414Z",
     "start_time": "2023-05-15T15:18:20.126905Z"
    }
   },
   "outputs": [],
   "source": [
    "import sys\n",
    "sys.path.append('../src')\n",
    "\n",
    "import uschartbook.config\n",
    "\n",
    "from uschartbook.config import *\n",
    "from uschartbook.utils import *\n",
    "\n",
    "from io import BytesIO, TextIOWrapper\n",
    "from zipfile import ZipFile"
   ]
  },
  {
   "cell_type": "code",
   "execution_count": 2,
   "metadata": {
    "ExecuteTime": {
     "end_time": "2023-05-15T15:18:29.596943Z",
     "start_time": "2023-05-15T15:18:21.108245Z"
    }
   },
   "outputs": [],
   "source": [
    "# Retrieve data from Census API\n",
    "d = {}\n",
    "for flow in ['imports', 'exports']:\n",
    "    base = f'https://api.census.gov/data/timeseries/intltrade/{flow}/hs'\n",
    "    params = ['CTY_CODE', 'CTY_NAME', 'ALL_VAL_MO']\n",
    "    if flow == 'imports':\n",
    "        params[2] = 'GEN_VAL_MO'\n",
    "    param = ','.join(params)\n",
    "    url = f'{base}?get={param}&key={census_key}&time=from+1992-01'\n",
    "    d[flow] = requests.get(url).json()\n",
    "    \n",
    "i = d['imports']\n",
    "df = pd.DataFrame(i[1:], columns=i[0])\n",
    "df = df[(df['CTY_CODE'].str[0] !='0') & \n",
    "        (df['CTY_CODE'].str[1] != 'X')]\n",
    "df['Name'] = df['CTY_NAME'].str.title()\n",
    "df['Date'] = pd.to_datetime(df['time'], format='%Y-%m')\n",
    "imp = (df.rename({'GEN_VAL_MO': 'Imports'}, axis=1)\n",
    "         .set_index(['Name', 'Date']).Imports.astype(float))\n",
    "\n",
    "e = d['exports']\n",
    "df = pd.DataFrame(e[1:], columns=e[0])\n",
    "df = df[(df['CTY_CODE'].str[0] !='0') & \n",
    "        (df['CTY_CODE'].str[1] != 'X')]\n",
    "df['Name'] = df['CTY_NAME'].str.title()\n",
    "df['Date'] = pd.to_datetime(df['time'], format='%Y-%m')\n",
    "exp = (df.rename({'ALL_VAL_MO': 'Exports'}, axis=1)\n",
    "         .set_index(['Name', 'Date']).Exports.astype(float))\n",
    "\n",
    "data = ((pd.DataFrame([imp, exp]).T / 1000000)\n",
    "           .rename({'Korea, South': 'South Korea',\n",
    "                    'Total For All Countries': 'Total, All Countries'}))\n",
    "\n",
    "data.to_csv(data_dir / 'trade_master.csv')"
   ]
  },
  {
   "cell_type": "code",
   "execution_count": 3,
   "metadata": {
    "ExecuteTime": {
     "end_time": "2023-05-15T15:18:29.633074Z",
     "start_time": "2023-05-15T15:18:29.598366Z"
    }
   },
   "outputs": [
    {
     "name": "stdout",
     "output_type": "stream",
     "text": [
      "In March 2023, trade with the top 25 trading partners (see table) comprises 85.3 percent of total US trade in goods. The top three US trading partners are Mexico, Canada, and China. These three countries account for 41.7 percent of US goods trade in March 2023. \n"
     ]
    }
   ],
   "source": [
    "data = pd.read_csv(data_dir / 'trade_master.csv', \n",
    "                   parse_dates=True, index_col=['Name', 'Date'])\n",
    "\n",
    "data['Total'] = data['Imports'] + data['Exports']\n",
    "\n",
    "dt = data.xs('Canada').index[-1]\n",
    "ltdate = dtxt(dt)['mon1']\n",
    "index = data.xs(dt, level=1).Total.sort_values(ascending=False).iloc[:26].index\n",
    "\n",
    "final = data.loc[(index, dt),:].astype(int).droplevel('Date')\n",
    "dt2 = dt - pd.DateOffset(months = 12)\n",
    "data2 = data.loc[(index, dt2),:].astype(int).droplevel('Date')\n",
    "data2.columns = [f'{k} ' for k in final.keys()]\n",
    "final = final.join(data2).sort_values('Total', ascending=False)\n",
    "final.index.name = ''\n",
    "\n",
    "(final.applymap('{:,.0f}'.format)\n",
    "      .to_csv(data_dir / 'trade_partner.tex', sep='&', \n",
    "              lineterminator='\\\\\\ ', quotechar=' '))\n",
    "\n",
    "write_txt(text_dir / 'trade_date.txt', dtxt(dt)['mon1'])\n",
    "write_txt(text_dir / 'trade_date2.txt', dtxt(dt2)['mon1'])\n",
    "\n",
    "shval = (final['Total'].iloc[1:].sum() / \n",
    "         final['Total'].iloc[0]) * 100\n",
    "tc = final.drop('Total, All Countries').index[:3]\n",
    "tc_txt = f'{tc[0]}, {tc[1]}, and {tc[2]}'\n",
    "t3sh = (final.loc[tc, 'Total'].sum() / \n",
    "        final.loc['Total, All Countries', 'Total'])\n",
    "t3sh_txt = f'{t3sh*100:.1f} percent'\n",
    "\n",
    "text = (f'In {ltdate}, trade with the top 25 trading partners (see '+\n",
    "        f'table) comprises {shval:.1f} percent of total US trade in '+\n",
    "        'goods. The top three US trading partners are '+\n",
    "        f'{tc_txt}. These three countries account for {t3sh_txt} of '+\n",
    "        f'US goods trade in {ltdate}. ')\n",
    "write_txt(text_dir / 'trade_partner_sh.txt', text)\n",
    "print(text)"
   ]
  },
  {
   "cell_type": "code",
   "execution_count": null,
   "metadata": {},
   "outputs": [],
   "source": []
  },
  {
   "cell_type": "code",
   "execution_count": null,
   "metadata": {},
   "outputs": [],
   "source": []
  },
  {
   "cell_type": "markdown",
   "metadata": {},
   "source": [
    "### Trade Levels, Latest in Detail"
   ]
  },
  {
   "cell_type": "code",
   "execution_count": 4,
   "metadata": {
    "ExecuteTime": {
     "end_time": "2023-05-15T15:18:29.826901Z",
     "start_time": "2023-05-15T15:18:29.634177Z"
    }
   },
   "outputs": [],
   "source": [
    "url = 'https://www.census.gov/econ_getzippedfile/?programCode=FTD'\n",
    "r = requests.get(url)\n",
    "zip_file = ZipFile(BytesIO(r.content))\n",
    "with zip_file.open('FTD-mf.csv', 'r') as csvfile:\n",
    "    tables = csvfile.read().split(b\"\\n\\n\\n\")\n",
    "    tables = [tbl.decode().replace('\\r', '').split('\\n') for tbl in tables]"
   ]
  },
  {
   "cell_type": "code",
   "execution_count": 5,
   "metadata": {
    "ExecuteTime": {
     "end_time": "2023-05-15T15:18:29.948288Z",
     "start_time": "2023-05-15T15:18:29.828895Z"
    }
   },
   "outputs": [],
   "source": [
    "d = {tbl[0]: pd.DataFrame([t.split(',') for t in tbl[1:]]).T.set_index(0).T \n",
    "     for tbl in tables}\n",
    "cats = (d['CATEGORIES'].loc[:, ['cat_idx', 'cat_code']]\n",
    "        .set_index('cat_idx').to_dict()['cat_code'])\n",
    "tp = (d['TIME PERIODS'].loc[:, ['per_idx', 'per_name']]\n",
    "        .set_index('per_idx').to_dict()['per_name'])\n",
    "dtype = (d['DATA TYPES'].loc[:, ['dt_idx', 'dt_code']]\n",
    "        .set_index('dt_idx').to_dict()['dt_code'])\n",
    "data = pd.DataFrame()\n",
    "data['CAT'] = d['DATA']['cat_idx'].dropna().map(cats)\n",
    "data['DATE'] = d['DATA']['per_idx'].dropna().map(tp)\n",
    "data['TYPE'] = d['DATA']['dt_idx'].dropna().map(dtype)\n",
    "data['DATA'] = d['DATA']['val'].dropna().astype('int') / 1000 \n",
    "data['SA'] = d['DATA']['is_adj']\n",
    "data.index = pd.to_datetime(data.DATE)\n",
    "df = pd.DataFrame()\n",
    "for i in ['IMP', 'EXP', 'BAL']:\n",
    "    df[i] = data.query('CAT == \"BOPGS\" & SA == \"1\" & TYPE == @i')['DATA']\n",
    "df.loc['2015':].to_csv(data_dir / 'tradelt.csv', index_label='date')"
   ]
  },
  {
   "cell_type": "code",
   "execution_count": 6,
   "metadata": {
    "ExecuteTime": {
     "end_time": "2023-05-15T15:18:29.951581Z",
     "start_time": "2023-05-15T15:18:29.949397Z"
    }
   },
   "outputs": [],
   "source": [
    "# result = pd.DataFrame()\n",
    "# url0 = 'https://www.census.gov/econ/currentdata/export/csv'\n",
    "# url1 = ('?programCode=FTD&timeSlotType=12&startYear=2015&'+\n",
    "#         'endYear=2022&categoryCode=BOPGS&')\n",
    "# for flow in ['EXP', 'IMP']:\n",
    "#     url2 = (f'dataTypeCode={flow}&geoLevelCode=US&adjusted=yes&'+\n",
    "#             'errorData=no&internal=false')\n",
    "#     url = url0 + url1 + url2\n",
    "#     s = pd.read_csv(url, skiprows=6).set_index('Period').dropna()\n",
    "#     s.index = pd.to_datetime(s.index)\n",
    "#     result[flow] = s['Value']\n",
    "\n",
    "# balance = lambda x: x.EXP - x.IMP    \n",
    "# df = result.loc['2015':].div(1000).assign(BAL = balance)\n",
    "# df.to_csv(data_dir / 'tradelt.csv', index_label='date')"
   ]
  },
  {
   "cell_type": "code",
   "execution_count": 7,
   "metadata": {
    "ExecuteTime": {
     "end_time": "2023-05-15T15:18:29.980612Z",
     "start_time": "2023-05-15T15:18:29.952640Z"
    }
   },
   "outputs": [
    {
     "name": "stdout",
     "output_type": "stream",
     "text": [
      "US goods and services imports total \\$320.4 billion in March 2023, following \\$321.5 billion in February (see {\\color{blue!80!violet}\\textbf{---}}). Imports average \\$322.8 billion over the latest three months of data, and \\$328.2 billion during the same months, one year prior. In 2019, monthly US imports average \\$258.8 billion. For additional context, imports are equivalent to \\$957 per capita, in the latest month.\n",
      "\n",
      "The US exported \\$256.1 billion of goods and services in March 2023, following \\$250.8 billion in February (see {\\color{green!80!blue}\\textbf{---}}). The three-month average was \\$255.0 billion in March, and \\$234.5 billion one year prior. Exports were \\$212.2 billion per month, on average, in 2019. In the latest month, exports are equivalent to \\$765 per capita or \\$1,592 per worker. \n",
      "\n",
      "Spending on imports exceeds payments received for exports, resulting in a trade deficit. In March, the trade deficit was \\$64.2 billion, following \\$70.6 billion in February (see {\\color{red}\\textbf{---}}). Over the past three months, the average trade deficit is \\$67.8 billion, compared to \\$93.7 billion one year prior. In 2019, the average monthly trade deficit is \\$46.6 billion.\n"
     ]
    }
   ],
   "source": [
    "# Chart and text for latest monthly trade data\n",
    "df = pd.read_csv(data_dir / 'tradelt.csv', index_col='date', \n",
    "                 parse_dates=True)\n",
    "\n",
    "# End nodes for time series graph\n",
    "res = df[['IMP', 'EXP']]\n",
    "adj = node_adj(res)\n",
    "#smax = res2.iloc[-1].idxmax()\n",
    "#adj[smax] = adj[smax] + 0.35\n",
    "cols = {'IMP': 'blue!80!violet', 'EXP': 'green!80!blue'}\n",
    "date = {series: 'm' if series in ['IMP'] else None \n",
    "        for series in cols.keys()}\n",
    "nodes  ='\\n'.join([end_node(res[series], color, date=date[series], \n",
    "                            full_year=True, offset=adj[series]) \n",
    "                   for series, color in cols.items()])\n",
    "write_txt(text_dir / 'tradelt_nodes.txt', nodes) \n",
    "node = end_node(df.BAL, 'red', date='m', offset=0.35, \n",
    "                full_year=True)\n",
    "write_txt(text_dir / 'ballt.txt', node)\n",
    "\n",
    "ltdt = dtxt(df.index[-1])['mon1']\n",
    "ltmo = dtxt(df.index[-1])['mon3']\n",
    "prdt = (dtxt(df.index[-2])['mon3'] \n",
    "        if df.index[-1].year == df.index[-2].year \n",
    "        else dtxt(df.index[-2])['mon1'])\n",
    "dfs = [('lt', df.iloc[-1]), ('pr', df.iloc[-2]), \n",
    "       ('lt3', df.iloc[-3:].mean()), \n",
    "       ('pr3', df.iloc[-15:-12].mean()), \n",
    "       ('pr19', df.loc['2019'].mean())]\n",
    "val = {name: srs.apply(lambda x: f'\\${abs(x):.1f} billion') \n",
    "       for name, srs in dfs}\n",
    "cols = [('IMP', 'blue!80!violet'), ('EXP', 'green!80!blue'),\n",
    "        ('BAL', 'red')]\n",
    "cline = {name: c_line(col) for name, col in cols}\n",
    "\n",
    "# Context values\n",
    "pop = (pd.read_csv(data_dir/'nipa20600.csv', index_col='date', \n",
    "                  parse_dates=True)['B230RC'])\n",
    "\n",
    "emp = (pd.read_csv(data_dir / 'jobs_report_main2.csv', \n",
    "                   index_col='date', parse_dates=True)\n",
    "        .loc['1989':, 'EMPsa'])\n",
    "\n",
    "tpop = (df.multiply(1_000_000).divide(pop, axis=0).dropna()\n",
    "          .applymap('\\${:,.0f} per capita'.format))\n",
    "temp = (df.multiply(1_000_000).divide(emp, axis=0).dropna()\n",
    "          .applymap('\\${:,.0f} per worker'.format))\n",
    "imp_pc = tpop['IMP'].iloc[-1]\n",
    "exp_pc = tpop['EXP'].iloc[-1]\n",
    "exp_pw = temp['EXP'].iloc[-1]\n",
    "\n",
    "text = (f'US goods and services imports total {val[\"lt\"].IMP} in {ltdt}, '+\n",
    "        f'following {val[\"pr\"].IMP} in {prdt} {cline[\"IMP\"]}. '+\n",
    "        f'Imports average {val[\"lt3\"].IMP} over the latest three months of data, '+\n",
    "        f'and {val[\"pr3\"].IMP} during the same months, one year prior. '+\n",
    "        f'In 2019, monthly US imports average {val[\"pr19\"].IMP}. For additional '+\n",
    "        f'context, imports are equivalent to {imp_pc}, in '+\n",
    "        'the latest month.\\n\\n'+\n",
    "        f'The US exported {val[\"lt\"].EXP} of goods and services in {ltdt}, '+\n",
    "        f'following {val[\"pr\"].EXP} in {prdt} {cline[\"EXP\"]}. The three-month '+\n",
    "        f'average was {val[\"lt3\"].EXP} in {ltmo}, and {val[\"pr3\"].EXP} '+\n",
    "        f'one year prior. Exports were {val[\"pr19\"].EXP} per month, '+\n",
    "        'on average, in 2019. In the latest month, exports are equivalent '+\n",
    "        f'to {exp_pc} or {exp_pw}. \\n\\n'+\n",
    "        'Spending on imports exceeds payments '+\n",
    "        f'received for exports, resulting in a trade deficit. In {ltmo}, '+\n",
    "        f'the trade deficit was {val[\"lt\"].BAL}, following {val[\"pr\"].BAL} '+\n",
    "        f'in {prdt} {cline[\"BAL\"]}. Over the past three months, the average '+\n",
    "        f'trade deficit is {val[\"lt3\"].BAL}, compared to '+\n",
    "        f'{val[\"pr3\"].BAL} one year prior. '+\n",
    "        f'In 2019, the average monthly trade deficit is {val[\"pr19\"].BAL}.')\n",
    "write_txt(text_dir / 'tradeltlevels.txt', text)\n",
    "print(text)"
   ]
  },
  {
   "cell_type": "code",
   "execution_count": null,
   "metadata": {},
   "outputs": [],
   "source": []
  },
  {
   "cell_type": "code",
   "execution_count": null,
   "metadata": {},
   "outputs": [],
   "source": []
  },
  {
   "cell_type": "code",
   "execution_count": null,
   "metadata": {},
   "outputs": [],
   "source": []
  },
  {
   "cell_type": "markdown",
   "metadata": {
    "ExecuteTime": {
     "end_time": "2023-04-18T21:01:27.159734Z",
     "start_time": "2023-04-18T21:01:27.157588Z"
    }
   },
   "source": [
    "### Monthly trade data summary table"
   ]
  },
  {
   "cell_type": "code",
   "execution_count": 8,
   "metadata": {
    "ExecuteTime": {
     "end_time": "2023-05-15T15:18:30.836722Z",
     "start_time": "2023-05-15T15:18:29.981790Z"
    }
   },
   "outputs": [],
   "source": [
    "url = ('https://www.census.gov/foreign-trade/Press-Release/current_press_release/exh1.xlsx')\n",
    "df = pd.read_excel(url, skipfooter=5, header=[4,5], index_col=0)\n",
    "df = df.loc[~df.index.str.contains('-')]\n",
    "y1 = df.index.name\n",
    "y2 = df.index[12]\n",
    "y3 = df.index[25]\n",
    "i1 = df.index[:12] + ' 01, ' + y1\n",
    "i2 = df.index[13:25]  + ' 01, ' + y2\n",
    "i3 = df.iloc[26:].dropna().index.str.replace(' (R)', '', regex=False)  + ' 01, ' + y3\n",
    "\n",
    "df2 = df.dropna()\n",
    "df2.index = pd.to_datetime([*i1, *i2, *i3])\n",
    "df2.columns = [i[1] + ' ' + i[0] for i in df2.columns]\n",
    "df2.columns = df2.columns.str.replace(' (1)', '', regex=False)\n",
    "df2.to_csv(data_dir / 'trade_mo_summary.csv', index_label='date')"
   ]
  },
  {
   "cell_type": "code",
   "execution_count": 9,
   "metadata": {
    "ExecuteTime": {
     "end_time": "2023-05-15T15:18:30.851864Z",
     "start_time": "2023-05-15T15:18:30.838174Z"
    }
   },
   "outputs": [],
   "source": [
    "lt = df2.iloc[-3:].iloc[::-1].T\n",
    "pryr = df2.iloc[-13].to_frame()\n",
    "modt = pd.concat([lt, pryr], axis=1)\n",
    "cm = (df2.resample('QS').count() > 2)['Total Balance']\n",
    "ltqtr = df2.resample('QS').mean().loc[cm[cm].index[-1]].to_frame()\n",
    "prqtr = df2.resample('QS').mean().loc[cm[cm].index[-2]].to_frame()\n",
    "qtrdt = pd.concat([ltqtr, prqtr], axis=1)\n",
    "modt.columns = [dtxt(i)['mon2'] for i in modt.columns]\n",
    "qtrdt.columns = [dtxt(i)['qtr1'] for i in qtrdt.columns]\n",
    "table = pd.concat([modt, qtrdt], axis=1)\n",
    "table = table.applymap('{:,.0f}'.format)\n",
    "(table.to_csv(data_dir / 'trade_mo_summary.tex', sep='&', \n",
    "            lineterminator='\\\\\\ ', quotechar=' '))"
   ]
  },
  {
   "cell_type": "code",
   "execution_count": null,
   "metadata": {},
   "outputs": [],
   "source": []
  },
  {
   "cell_type": "code",
   "execution_count": null,
   "metadata": {},
   "outputs": [],
   "source": []
  },
  {
   "cell_type": "markdown",
   "metadata": {
    "ExecuteTime": {
     "end_time": "2020-10-03T00:12:51.285487Z",
     "start_time": "2020-10-03T00:12:51.283809Z"
    }
   },
   "source": [
    "### World Bank Tariff Data (WDI)"
   ]
  },
  {
   "cell_type": "code",
   "execution_count": 10,
   "metadata": {
    "ExecuteTime": {
     "end_time": "2023-05-15T15:18:31.079897Z",
     "start_time": "2023-05-15T15:18:30.852991Z"
    }
   },
   "outputs": [
    {
     "name": "stdout",
     "output_type": "stream",
     "text": [
      "World Bank staff \\href{https://data.worldbank.org/indicator/TM.TAX.MRCH.WM.AR.ZS?locations=US&name_desc=true}{calculate} the weighted average applied tariff rate on US imports. The measure shows the trend in applied tariffs, factoring in the actual composition of imports by trading partner. In 1989, the average tariff on US imports was 3.9 percent. During the 1990s and 2000s, the US entered into various trade agreements, while China joined the WTO, obtaining \\href{https://www.wto.org/english/thewto_e/whatis_e/tif_e/fact2_e.htm}{most-favored nation} status with the US. In the latest data, covering 2020, the average tariff was 1.5 percent.\n"
     ]
    }
   ],
   "source": [
    "from io import BytesIO\n",
    "from zipfile import ZipFile\n",
    "\n",
    "url = 'http://api.worldbank.org/v2/en/indicator/TM.TAX.MRCH.WM.AR.ZS?downloadformat=csv'\n",
    "\n",
    "r = requests.get(url)\n",
    "zip_file = ZipFile(BytesIO(r.content))\n",
    "files = zip_file.namelist()\n",
    "data_file = [file for file in files if file[0] != 'M']\n",
    "with zip_file.open(data_file[0], 'r') as csvfile:\n",
    "    df = pd.read_csv(csvfile, skiprows=4)\n",
    "    \n",
    "data = df[df['Country Code'] == 'USA'].T.loc['1989':].dropna().iloc[:,0]\n",
    "data.index = pd.to_datetime([f'{year}-07-01' for year in data.index])\n",
    "data.name = 'tariff'\n",
    "data.index.name = 'date'\n",
    "data[pd.to_datetime('1994-07-01')] = np.nan\n",
    "data = data.sort_index()\n",
    "data.to_csv(data_dir / 'tariff.csv')\n",
    "write_txt(text_dir / 'tariff_node.txt', end_node(data, 'violet', percent=True))\n",
    "\n",
    "t89 = data.loc['1989-07-01']\n",
    "tlt = data.iloc[-1]\n",
    "ltyear = dtxt(data.index[-1])['year']\n",
    "\n",
    "text = ('World Bank staff \\href{https://data.worldbank.org/indicator/TM.TAX.MRCH.WM.AR.ZS?locations=US&name_desc=true}{calculate} '+\n",
    "        'the weighted average applied tariff rate on US imports. The measure shows the trend '+\n",
    "        'in applied tariffs, factoring in the actual composition of imports by trading partner. '+\n",
    "        f'In 1989, the average tariff on US imports was {t89:.1f} percent. During the 1990s and 2000s, '+\n",
    "        'the US entered into various trade agreements, while China joined the WTO, obtaining '+\n",
    "        '\\href{https://www.wto.org/english/thewto_e/whatis_e/tif_e/fact2_e.htm}{most-favored nation} '+\n",
    "        f'status with the US. In the latest data, covering {ltyear}, the average tariff was {tlt:.1f} '+\n",
    "        'percent.')\n",
    "write_txt(text_dir / 'tariff.txt', text)\n",
    "print(text)"
   ]
  },
  {
   "cell_type": "code",
   "execution_count": null,
   "metadata": {},
   "outputs": [],
   "source": []
  }
 ],
 "metadata": {
  "kernelspec": {
   "display_name": "Python 3 (ipykernel)",
   "language": "python",
   "name": "python3"
  },
  "language_info": {
   "codemirror_mode": {
    "name": "ipython",
    "version": 3
   },
   "file_extension": ".py",
   "mimetype": "text/x-python",
   "name": "python",
   "nbconvert_exporter": "python",
   "pygments_lexer": "ipython3",
   "version": "3.8.13"
  }
 },
 "nbformat": 4,
 "nbformat_minor": 2
}
