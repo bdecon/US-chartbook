{
 "cells": [
  {
   "cell_type": "markdown",
   "metadata": {},
   "source": [
    "### Census Trade Data\n",
    "\n",
    "September 30, 2020\n",
    "\n",
    "Brian Dew"
   ]
  },
  {
   "cell_type": "code",
   "execution_count": 1,
   "metadata": {
    "ExecuteTime": {
     "end_time": "2022-03-02T18:35:38.851494Z",
     "start_time": "2022-03-02T18:35:38.143288Z"
    }
   },
   "outputs": [],
   "source": [
    "import sys\n",
    "sys.path.append('../src')\n",
    "\n",
    "import uschartbook.config\n",
    "\n",
    "from uschartbook.config import *\n",
    "from uschartbook.utils import *"
   ]
  },
  {
   "cell_type": "code",
   "execution_count": 2,
   "metadata": {
    "ExecuteTime": {
     "end_time": "2022-03-02T18:35:45.246644Z",
     "start_time": "2022-03-02T18:35:38.852626Z"
    }
   },
   "outputs": [],
   "source": [
    "# Retrieve data from Census API\n",
    "d = {}\n",
    "for flow in ['imports', 'exports']:\n",
    "    base = f'https://api.census.gov/data/timeseries/intltrade/{flow}/hs'\n",
    "    params = ['CTY_CODE', 'CTY_NAME', 'ALL_VAL_MO']\n",
    "    if flow == 'imports':\n",
    "        params[2] = 'GEN_VAL_MO'\n",
    "    param = ','.join(params)\n",
    "    url = f'{base}?get={param}&key={census_key}&time=from+1992-01'\n",
    "    d[flow] = requests.get(url).json()"
   ]
  },
  {
   "cell_type": "code",
   "execution_count": 3,
   "metadata": {
    "ExecuteTime": {
     "end_time": "2022-03-02T18:35:46.638764Z",
     "start_time": "2022-03-02T18:35:45.247921Z"
    }
   },
   "outputs": [
    {
     "name": "stdout",
     "output_type": "stream",
     "text": [
      "In December 2021, trade with the top 25 trading partners (see table) comprises 86.8 percent of total US trade in goods.\n"
     ]
    }
   ],
   "source": [
    "i = d['imports']\n",
    "df = pd.DataFrame(i[1:], columns=i[0])\n",
    "df = df[(df['CTY_CODE'].str[0] !='0') & \n",
    "        (df['CTY_CODE'].str[1] != 'X')]\n",
    "df['Name'] = df['CTY_NAME'].str.title()\n",
    "df['Date'] = pd.to_datetime(df['time'], format='%Y-%m')\n",
    "imp = (df.rename({'GEN_VAL_MO': 'Imports'}, axis=1)\n",
    "         .set_index(['Name', 'Date']).Imports.astype(float))\n",
    "\n",
    "e = d['exports']\n",
    "df = pd.DataFrame(e[1:], columns=e[0])\n",
    "df = df[(df['CTY_CODE'].str[0] !='0') & \n",
    "        (df['CTY_CODE'].str[1] != 'X')]\n",
    "df['Name'] = df['CTY_NAME'].str.title()\n",
    "df['Date'] = pd.to_datetime(df['time'], format='%Y-%m')\n",
    "exp = (df.rename({'ALL_VAL_MO': 'Exports'}, axis=1)\n",
    "         .set_index(['Name', 'Date']).Exports.astype(float))\n",
    "\n",
    "data = ((pd.DataFrame([imp, exp]).T / 1000000)\n",
    "           .rename({'Korea, South': 'South Korea',\n",
    "                    'Total For All Countries': 'Total, All Countries'}))\n",
    "\n",
    "data.to_csv(data_dir / 'trade_master.csv')\n",
    "\n",
    "data['Total'] = data['Imports'] + data['Exports']\n",
    "\n",
    "dt = data.xs('Canada').index[-1]\n",
    "ltdate = dtxt(dt)['mon1']\n",
    "index = data.xs(dt, level=1).Total.sort_values(ascending=False).iloc[:26].index\n",
    "\n",
    "final = data.loc[(index, dt),:].astype(int).droplevel('Date')\n",
    "dt2 = dt - pd.DateOffset(months = 12)\n",
    "data2 = data.loc[(index, dt2),:].astype(int).droplevel('Date')\n",
    "data2.columns = [f'{k} ' for k in final.keys()]\n",
    "final = final.join(data2).sort_values('Total', ascending=False)\n",
    "final.index.name = ''\n",
    "\n",
    "(final.applymap('{:,.0f}'.format)\n",
    "      .to_csv(data_dir / 'trade_partner.tex', sep='&', \n",
    "              line_terminator='\\\\\\ ', quotechar=' '))\n",
    "\n",
    "write_txt(text_dir / 'trade_date.txt', dtxt(dt)['mon1'])\n",
    "write_txt(text_dir / 'trade_date2.txt', dtxt(dt2)['mon1'])\n",
    "\n",
    "shval = (final['Total '].iloc[1:].sum() / \n",
    "         final['Total '].iloc[0]) * 100\n",
    "text = (f'In {ltdate}, trade with the top 25 trading partners (see table) '+\n",
    "        f'comprises {shval:.1f} percent of total US trade in goods.')\n",
    "write_txt(text_dir / 'trade_partner_sh.txt', text)\n",
    "print(text)"
   ]
  },
  {
   "cell_type": "code",
   "execution_count": null,
   "metadata": {},
   "outputs": [],
   "source": []
  },
  {
   "cell_type": "code",
   "execution_count": null,
   "metadata": {},
   "outputs": [],
   "source": []
  },
  {
   "cell_type": "markdown",
   "metadata": {},
   "source": [
    "### Trade Levels, Latest in Detail"
   ]
  },
  {
   "cell_type": "code",
   "execution_count": 4,
   "metadata": {
    "ExecuteTime": {
     "end_time": "2022-03-02T18:35:47.151972Z",
     "start_time": "2022-03-02T18:35:46.640023Z"
    }
   },
   "outputs": [],
   "source": [
    "result = pd.DataFrame()\n",
    "url0 = 'https://www.census.gov/econ/currentdata/export/csv'\n",
    "url1 = ('?programCode=FTD&timeSlotType=12&startYear=2015&'+\n",
    "        'endYear=2022&categoryCode=BOPGS&')\n",
    "for flow in ['EXP', 'IMP']:\n",
    "    url2 = (f'dataTypeCode={flow}&geoLevelCode=US&adjusted=yes&'+\n",
    "            'errorData=no&internal=false')\n",
    "    url = url0 + url1 + url2\n",
    "    s = pd.read_csv(url, skiprows=6).set_index('Period').dropna()\n",
    "    s.index = pd.to_datetime(s.index)\n",
    "    result[flow] = s['Value']\n",
    "\n",
    "balance = lambda x: x.EXP - x.IMP    \n",
    "df = result.loc['2015':].div(1000).assign(BAL = balance)\n",
    "df.to_csv(data_dir / 'tradelt.csv', index_label='date')"
   ]
  },
  {
   "cell_type": "code",
   "execution_count": 5,
   "metadata": {
    "ExecuteTime": {
     "end_time": "2022-03-02T18:35:47.174750Z",
     "start_time": "2022-03-02T18:35:47.154148Z"
    }
   },
   "outputs": [
    {
     "name": "stdout",
     "output_type": "stream",
     "text": [
      "US imports of goods and services totaled \\$308.9 billion in December 2021, following imports of \\$304.1 billion in November (see {\\color{blue!80!violet}\\textbf{---}}). Over the three months ending December 2021, imports averaged \\$301.2 billion per month, compared to an average of \\$251.9 billion per month one year prior, during the same three months. In 2019, imports averaged \\$258.7 billion per month.\n",
      "\n",
      "The US exported \\$228.1 billion of goods and services in December 2021, following \\$224.7 billion in November (see {\\color{green!80!blue}\\textbf{---}}). The three-month average was \\$225.6 billion in December, and \\$186.3 billion one year prior. Exports were \\$210.7 billion per month, on average, in 2019.\n",
      "\n",
      "Spending on imports exceeds payments received for exports, so the US runs a trade deficit. In December, the trade deficit was \\$80.7 billion, following \\$79.3 billion in November (see {\\color{red}\\textbf{---}}). Over the past three months, the trade deficit averaged \\$75.5 billion, compared to an average of \\$65.6 billion one year prior, during the same three months. In 2019, the trade deficit averaged \\$48.0 billion per month.\n"
     ]
    }
   ],
   "source": [
    "df = pd.read_csv(data_dir / 'tradelt.csv', index_col='date', \n",
    "                 parse_dates=True)\n",
    "node = end_node(df.IMP, 'blue!80!violet', date='m', \n",
    "                offset=-0.25, full_year=True)\n",
    "write_txt(text_dir / 'implt.txt', node)\n",
    "node = end_node(df.EXP, 'green!80!blue')\n",
    "write_txt(text_dir / 'explt.txt', node)\n",
    "node = end_node(df.BAL, 'red', date='m', offset=0.35, \n",
    "                full_year=True)\n",
    "write_txt(text_dir / 'ballt.txt', node)\n",
    "ltdt = dtxt(df.index[-1])['mon1']\n",
    "ltmo = dtxt(df.index[-1])['mon3']\n",
    "prdt = (dtxt(df.index[-2])['mon3'] \n",
    "        if df.index[-1].year == df.index[-2].year \n",
    "        else dtxt(df.index[-2])['mon1'])\n",
    "dfs = [('lt', df.iloc[-1]), ('pr', df.iloc[-2]), \n",
    "       ('lt3', df.iloc[-3:].mean()), \n",
    "       ('pr3', df.iloc[-15:-12].mean()), \n",
    "       ('pr19', df.loc['2019'].mean())]\n",
    "val = {name: srs.apply(lambda x: f'\\${abs(x):.1f} billion') \n",
    "       for name, srs in dfs}\n",
    "cols = [('IMP', 'blue!80!violet'), ('EXP', 'green!80!blue'),\n",
    "        ('BAL', 'red')]\n",
    "cline = {name: c_line(col) for name, col in cols}\n",
    "\n",
    "text = (f'US imports of goods and services totaled {val[\"lt\"].IMP} '+\n",
    "        f'in {ltdt}, following imports of {val[\"pr\"].IMP} in {prdt} '+\n",
    "        f'{cline[\"IMP\"]}. Over the three months ending {ltdt}, '+\n",
    "        f'imports averaged {val[\"lt3\"].IMP} per month, compared to an '+\n",
    "        f'average of {val[\"pr3\"].IMP} per month one year prior, during '+\n",
    "        'the same three months. In 2019, imports averaged '+\n",
    "        f'{val[\"pr19\"].IMP} per month.\\n\\nThe US exported '+\n",
    "        f'{val[\"lt\"].EXP} of goods and services in {ltdt}, following '+\n",
    "        f'{val[\"pr\"].EXP} in {prdt} {cline[\"EXP\"]}. The three-month '+\n",
    "        f'average was {val[\"lt3\"].EXP} in {ltmo}, and {val[\"pr3\"].EXP} '+\n",
    "        f'one year prior. Exports were {val[\"pr19\"].EXP} per month, '+\n",
    "        'on average, in 2019.\\n\\nSpending on imports exceeds payments '+\n",
    "        f'received for exports, so the US runs a trade deficit. In {ltmo}, '+\n",
    "        f'the trade deficit was {val[\"lt\"].BAL}, following {val[\"pr\"].BAL} '+\n",
    "        f'in {prdt} {cline[\"BAL\"]}. Over the past three months, the '+\n",
    "        f'trade deficit averaged {val[\"lt3\"].BAL}, compared to an average '+\n",
    "        f'of {val[\"pr3\"].BAL} one year prior, during the same three months. '+\n",
    "        f'In 2019, the trade deficit averaged {val[\"pr19\"].BAL} per month.')\n",
    "write_txt(text_dir / 'tradeltlevels.txt', text)\n",
    "print(text)"
   ]
  },
  {
   "cell_type": "code",
   "execution_count": null,
   "metadata": {},
   "outputs": [],
   "source": []
  },
  {
   "cell_type": "code",
   "execution_count": null,
   "metadata": {},
   "outputs": [],
   "source": []
  },
  {
   "cell_type": "markdown",
   "metadata": {
    "ExecuteTime": {
     "end_time": "2020-10-03T00:12:51.285487Z",
     "start_time": "2020-10-03T00:12:51.283809Z"
    }
   },
   "source": [
    "### World Bank Tariff Data (WDI)"
   ]
  },
  {
   "cell_type": "code",
   "execution_count": 6,
   "metadata": {
    "ExecuteTime": {
     "end_time": "2022-03-02T18:35:47.488112Z",
     "start_time": "2022-03-02T18:35:47.175870Z"
    }
   },
   "outputs": [
    {
     "name": "stdout",
     "output_type": "stream",
     "text": [
      "World Bank staff \\href{https://data.worldbank.org/indicator/TM.TAX.MRCH.WM.AR.ZS?locations=US&name_desc=true}{calculate} the weighted average applied tariff rate on US imports. The measure shows the trend in applied tariffs, factoring in the actual composition of imports by trading partner. In 1989, the average tariff on US imports was 3.9 percent. During the 1990s and 2000s, the US entered into various trade agreements, while China joined the WTO, obtaining \\href{https://www.wto.org/english/thewto_e/whatis_e/tif_e/fact2_e.htm}{most-favored nation} status with the US. In the latest data, covering 2020, the average tariff was 1.5 percent.\n"
     ]
    }
   ],
   "source": [
    "from io import BytesIO\n",
    "from zipfile import ZipFile\n",
    "\n",
    "url = 'http://api.worldbank.org/v2/en/indicator/TM.TAX.MRCH.WM.AR.ZS?downloadformat=csv'\n",
    "\n",
    "r = requests.get(url)\n",
    "zip_file = ZipFile(BytesIO(r.content))\n",
    "files = zip_file.namelist()\n",
    "data_file = [file for file in files if file[0] != 'M']\n",
    "with zip_file.open(data_file[0], 'r') as csvfile:\n",
    "    df = pd.read_csv(csvfile, skiprows=4)\n",
    "    \n",
    "data = df[df['Country Code'] == 'USA'].T.loc['1989':].dropna().iloc[:,0]\n",
    "data.index = pd.to_datetime([f'{year}-07-01' for year in data.index])\n",
    "data.name = 'tariff'\n",
    "data.index.name = 'date'\n",
    "data[pd.to_datetime('1994-07-01')] = np.nan\n",
    "data = data.sort_index()\n",
    "data.to_csv(data_dir / 'tariff.csv')\n",
    "write_txt(text_dir / 'tariff_node.txt', end_node(data, 'violet', percent=True))\n",
    "\n",
    "t89 = data.loc['1989-07-01']\n",
    "tlt = data.iloc[-1]\n",
    "ltyear = dtxt(data.index[-1])['year']\n",
    "\n",
    "text = ('World Bank staff \\href{https://data.worldbank.org/indicator/TM.TAX.MRCH.WM.AR.ZS?locations=US&name_desc=true}{calculate} '+\n",
    "        'the weighted average applied tariff rate on US imports. The measure shows the trend '+\n",
    "        'in applied tariffs, factoring in the actual composition of imports by trading partner. '+\n",
    "        f'In 1989, the average tariff on US imports was {t89:.1f} percent. During the 1990s and 2000s, '+\n",
    "        'the US entered into various trade agreements, while China joined the WTO, obtaining '+\n",
    "        '\\href{https://www.wto.org/english/thewto_e/whatis_e/tif_e/fact2_e.htm}{most-favored nation} '+\n",
    "        f'status with the US. In the latest data, covering {ltyear}, the average tariff was {tlt:.1f} '+\n",
    "        'percent.')\n",
    "write_txt(text_dir / 'tariff.txt', text)\n",
    "print(text)"
   ]
  },
  {
   "cell_type": "code",
   "execution_count": 7,
   "metadata": {
    "ExecuteTime": {
     "end_time": "2022-03-02T18:35:47.676643Z",
     "start_time": "2022-03-02T18:35:47.489040Z"
    }
   },
   "outputs": [
    {
     "data": {
      "text/plain": [
       "<AxesSubplot:xlabel='date'>"
      ]
     },
     "execution_count": 7,
     "metadata": {},
     "output_type": "execute_result"
    },
    {
     "data": {
      "image/png": "[encoded data removed]",
      "text/plain": [
       "<Figure size 432x288 with 1 Axes>"
      ]
     },
     "metadata": {
      "needs_background": "light"
     },
     "output_type": "display_data"
    }
   ],
   "source": [
    "data.plot()"
   ]
  },
  {
   "cell_type": "code",
   "execution_count": null,
   "metadata": {},
   "outputs": [],
   "source": []
  }
 ],
 "metadata": {
  "kernelspec": {
   "display_name": "Python 3",
   "language": "python",
   "name": "python3"
  },
  "language_info": {
   "codemirror_mode": {
    "name": "ipython",
    "version": 3
   },
   "file_extension": ".py",
   "mimetype": "text/x-python",
   "name": "python",
   "nbconvert_exporter": "python",
   "pygments_lexer": "ipython3",
   "version": "3.8.8"
  }
 },
 "nbformat": 4,
 "nbformat_minor": 2
}
