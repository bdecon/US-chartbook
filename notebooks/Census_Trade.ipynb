{
 "cells": [
  {
   "cell_type": "markdown",
   "metadata": {},
   "source": [
    "### Census Trade Data\n",
    "\n",
    "September 30, 2020\n",
    "\n",
    "Brian Dew"
   ]
  },
  {
   "cell_type": "code",
   "execution_count": 1,
   "metadata": {
    "ExecuteTime": {
     "end_time": "2022-02-01T03:31:11.953258Z",
     "start_time": "2022-02-01T03:31:11.316127Z"
    }
   },
   "outputs": [],
   "source": [
    "import sys\n",
    "sys.path.append('../src')\n",
    "\n",
    "import uschartbook.config\n",
    "\n",
    "from uschartbook.config import *\n",
    "from uschartbook.utils import *"
   ]
  },
  {
   "cell_type": "code",
   "execution_count": 3,
   "metadata": {
    "ExecuteTime": {
     "end_time": "2022-02-01T03:34:36.524140Z",
     "start_time": "2022-02-01T03:34:19.153277Z"
    }
   },
   "outputs": [],
   "source": [
    "# Retrieve data from Census API\n",
    "d = {}\n",
    "for flow in ['imports', 'exports']:\n",
    "    base = f'https://api.census.gov/data/timeseries/intltrade/{flow}/hs'\n",
    "    params = ['CTY_CODE', 'CTY_NAME', 'ALL_VAL_MO']\n",
    "    if flow == 'imports':\n",
    "        params[2] = 'GEN_VAL_MO'\n",
    "    param = ','.join(params)\n",
    "    url = f'{base}?get={param}&key={census_key}&time=from+1992-01'\n",
    "    d[flow] = requests.get(url).json()"
   ]
  },
  {
   "cell_type": "code",
   "execution_count": 4,
   "metadata": {
    "ExecuteTime": {
     "end_time": "2022-02-01T03:34:40.835853Z",
     "start_time": "2022-02-01T03:34:39.453904Z"
    }
   },
   "outputs": [
    {
     "name": "stdout",
     "output_type": "stream",
     "text": [
      "In November 2021, trade with the top 25 trading partners (see table) comprises 87.8 percent of total US trade in goods.\n"
     ]
    }
   ],
   "source": [
    "i = d['imports']\n",
    "df = pd.DataFrame(i[1:], columns=i[0])\n",
    "df = df[(df['CTY_CODE'].str[0] !='0') & \n",
    "        (df['CTY_CODE'].str[1] != 'X')]\n",
    "df['Name'] = df['CTY_NAME'].str.title()\n",
    "df['Date'] = pd.to_datetime(df['time'], format='%Y-%m')\n",
    "imp = (df.rename({'GEN_VAL_MO': 'Imports'}, axis=1)\n",
    "         .set_index(['Name', 'Date']).Imports.astype(float))\n",
    "\n",
    "e = d['exports']\n",
    "df = pd.DataFrame(e[1:], columns=e[0])\n",
    "df = df[(df['CTY_CODE'].str[0] !='0') & \n",
    "        (df['CTY_CODE'].str[1] != 'X')]\n",
    "df['Name'] = df['CTY_NAME'].str.title()\n",
    "df['Date'] = pd.to_datetime(df['time'], format='%Y-%m')\n",
    "exp = (df.rename({'ALL_VAL_MO': 'Exports'}, axis=1)\n",
    "         .set_index(['Name', 'Date']).Exports.astype(float))\n",
    "\n",
    "data = ((pd.DataFrame([imp, exp]).T / 1000000)\n",
    "           .rename({'Korea, South': 'South Korea',\n",
    "                    'Total For All Countries': 'Total, All Countries'}))\n",
    "\n",
    "data.to_csv(data_dir / 'trade_master.csv')\n",
    "\n",
    "data['Total'] = data['Imports'] + data['Exports']\n",
    "\n",
    "dt = data.xs('Canada').index[-1]\n",
    "ltdate = dtxt(dt)['mon1']\n",
    "index = data.xs(dt, level=1).Total.sort_values(ascending=False).iloc[:26].index\n",
    "\n",
    "final = data.loc[(index, dt),:].astype(int).droplevel('Date')\n",
    "dt2 = dt - pd.DateOffset(months = 12)\n",
    "data2 = data.loc[(index, dt2),:].astype(int).droplevel('Date')\n",
    "data2.columns = [f'{k} ' for k in final.keys()]\n",
    "final = final.join(data2).sort_values('Total', ascending=False)\n",
    "final.index.name = ''\n",
    "\n",
    "(final.applymap('{:,.0f}'.format)\n",
    "      .to_csv(data_dir / 'trade_partner.tex', sep='&', \n",
    "              line_terminator='\\\\\\ ', quotechar=' '))\n",
    "\n",
    "write_txt(text_dir / 'trade_date.txt', dtxt(dt)['mon1'])\n",
    "write_txt(text_dir / 'trade_date2.txt', dtxt(dt2)['mon1'])\n",
    "\n",
    "shval = (final['Total '].iloc[1:].sum() / \n",
    "         final['Total '].iloc[0]) * 100\n",
    "text = (f'In {ltdate}, trade with the top 25 trading partners (see table) '+\n",
    "        f'comprises {shval:.1f} percent of total US trade in goods.')\n",
    "write_txt(text_dir / 'trade_partner_sh.txt', text)\n",
    "print(text)"
   ]
  },
  {
   "cell_type": "code",
   "execution_count": null,
   "metadata": {},
   "outputs": [],
   "source": []
  },
  {
   "cell_type": "code",
   "execution_count": null,
   "metadata": {},
   "outputs": [],
   "source": []
  },
  {
   "cell_type": "markdown",
   "metadata": {},
   "source": [
    "### Trade Levels, Latest in Detail"
   ]
  },
  {
   "cell_type": "code",
   "execution_count": 6,
   "metadata": {
    "ExecuteTime": {
     "end_time": "2022-02-01T03:43:14.523983Z",
     "start_time": "2022-02-01T03:43:13.757791Z"
    }
   },
   "outputs": [],
   "source": [
    "result = pd.DataFrame()\n",
    "url0 = 'https://www.census.gov/econ/currentdata/export/csv'\n",
    "url1 = ('?programCode=FTD&timeSlotType=12&startYear=1992&'+\n",
    "        'endYear=2021&categoryCode=BOPGS&')\n",
    "for flow in ['EXP', 'IMP']:\n",
    "    url2 = (f'dataTypeCode={flow}&geoLevelCode=US&adjusted=yes&'+\n",
    "            'errorData=no&internal=false')\n",
    "    url = url0 + url1 + url2\n",
    "    df = pd.read_csv(url, skiprows=6).set_index('Period').dropna()\n",
    "    df.index = pd.to_datetime(df.index)\n",
    "    result[flow] = df['Value']\n",
    "    \n",
    "clean = result.loc['2015':].div(1000)\n",
    "clean.to_csv(data_dir / 'tradelt.csv')\n",
    "node = end_node(clean.IMP, 'blue!80!violet', date='m', \n",
    "                offset=-0.25, full_year=True)\n",
    "write_txt(text_dir / 'implt.txt', node)\n",
    "node = end_node(clean.EXP, 'green!80!blue')\n",
    "write_txt(text_dir / 'explt.txt', node)"
   ]
  },
  {
   "cell_type": "code",
   "execution_count": 16,
   "metadata": {
    "ExecuteTime": {
     "end_time": "2022-02-01T04:04:54.217006Z",
     "start_time": "2022-02-01T04:04:54.195538Z"
    }
   },
   "outputs": [
    {
     "name": "stdout",
     "output_type": "stream",
     "text": [
      "US imports of goods and services totalled \\$304.4 billion in November 2021, \\$252.5 in November 2020, and averaged \\$258.7 billion per month in 2019. Exports of goods and services were \\$224.2 billion in November 2021, \\$185.2 billion in November 2020, and \\$185.2 billion per month in 2019.\n",
      "\n",
      "The trade balance, exports minus imports, shows a trade deficit of \\$80.2 billion in November 2021, \\$67.3 billion in November 2020, and \\$48.0 billion per month in 2019. These values are seasonally adjusted but not adjusted for changes in prices or population. \n"
     ]
    }
   ],
   "source": [
    "ltdt = clean.index[-1]\n",
    "ltdate = dtxt(ltdt)['mon1']\n",
    "yrdate = dtxt(clean.index[-13])['mon1']\n",
    "imltval = clean.IMP.iloc[-1]\n",
    "impcval = clean.IMP.loc['2019'].mean()\n",
    "imyrval = clean.IMP.iloc[-13]\n",
    "imp_comp = compare_text(imltval, imyrval, [10, 30, 50])\n",
    "exltval = clean.EXP.iloc[-1]\n",
    "expcval = clean.EXP.loc['2019'].mean()\n",
    "exyrval = clean.EXP.iloc[-13]\n",
    "tbltval = exltval - imltval\n",
    "tbpcval = expcval - impcval\n",
    "tbyrval = exyrval - imyrval\n",
    "\n",
    "if (tbltval < 0) & (tbpcval < 0) & (tbyrval < 0):\n",
    "    tbtxt, tbtxt2, tbtxt3 = ['deficit', '', '']\n",
    "else:\n",
    "    tbtxt = 'surplus' if tbltval > 0 else 'deficit'\n",
    "    tbtxt2 = 'surplus' if tbyrval > 0 else 'deficit'\n",
    "    tbtxt3 = 'surplus' if tbpcval > 0 else 'deficit'\n",
    "\n",
    "text = (f'US imports of goods and services totalled \\${imltval:.1f} '+\n",
    "        f'billion in {ltdate}, \\${imyrval:.1f} in {yrdate}, and '+\n",
    "        f'averaged \\${impcval:.1f} billion per month in 2019. Exports '+\n",
    "        f'of goods and services were \\${exltval:.1f} billion in '+\n",
    "        f'{ltdate}, \\${exyrval:.1f} billion in {yrdate}, and '+\n",
    "        f'\\${exyrval:.1f} billion per month in 2019.\\n\\nThe trade '+\n",
    "        f'balance, exports minus imports, shows a trade {tbtxt} of '+\n",
    "        f'\\${abs(tbltval):.1f} billion in {ltdate}, {tbtxt2}'+\n",
    "        f'\\${abs(tbyrval):.1f} billion in {yrdate}, and {tbtxt3}'+\n",
    "        f'\\${abs(tbpcval):.1f} billion per month in 2019. These '+\n",
    "        'values are seasonally adjusted but not adjusted for changes '+\n",
    "        'in prices or population. ')\n",
    "write_txt(text_dir / 'tradeltlevels.txt', text)\n",
    "print(text)"
   ]
  },
  {
   "cell_type": "code",
   "execution_count": null,
   "metadata": {},
   "outputs": [],
   "source": []
  },
  {
   "cell_type": "code",
   "execution_count": null,
   "metadata": {},
   "outputs": [],
   "source": []
  },
  {
   "cell_type": "markdown",
   "metadata": {
    "ExecuteTime": {
     "end_time": "2020-10-03T00:12:51.285487Z",
     "start_time": "2020-10-03T00:12:51.283809Z"
    }
   },
   "source": [
    "### World Bank Tariff Data (WDI)"
   ]
  },
  {
   "cell_type": "code",
   "execution_count": 6,
   "metadata": {
    "ExecuteTime": {
     "end_time": "2022-01-31T19:17:52.705509Z",
     "start_time": "2022-01-31T19:17:52.304900Z"
    }
   },
   "outputs": [
    {
     "name": "stdout",
     "output_type": "stream",
     "text": [
      "World Bank staff \\href{https://data.worldbank.org/indicator/TM.TAX.MRCH.WM.AR.ZS?locations=US&name_desc=true}{calculate} the weighted average applied tariff rate on US imports. The measure shows the trend in applied tariffs, factoring in the actual composition of imports by trading partner. In 1989, the average tariff on US imports was 3.9 percent. During the 1990s and 2000s, the US entered into various trade agreements, while China joined the WTO, obtaining \\href{https://www.wto.org/english/thewto_e/whatis_e/tif_e/fact2_e.htm}{most-favored nation} status with the US. In the latest data, covering 2019, the average tariff was 13.8 percent.\n"
     ]
    }
   ],
   "source": [
    "from io import BytesIO\n",
    "from zipfile import ZipFile\n",
    "\n",
    "url = 'http://api.worldbank.org/v2/en/indicator/TM.TAX.MRCH.WM.AR.ZS?downloadformat=csv'\n",
    "\n",
    "r = requests.get(url)\n",
    "zip_file = ZipFile(BytesIO(r.content))\n",
    "files = zip_file.namelist()\n",
    "data_file = [file for file in files if file[0] != 'M']\n",
    "with zip_file.open(data_file[0], 'r') as csvfile:\n",
    "    df = pd.read_csv(csvfile, skiprows=4)\n",
    "    \n",
    "data = df[df['Country Code'] == 'USA'].T.loc['1989':].dropna().iloc[:,0]\n",
    "data.index = pd.to_datetime([f'{year}-07-01' for year in data.index])\n",
    "data.name = 'tariff'\n",
    "data.index.name = 'date'\n",
    "data[pd.to_datetime('1994-07-01')] = np.nan\n",
    "data = data.sort_index()\n",
    "data.to_csv(data_dir / 'tariff.csv')\n",
    "write_txt(text_dir / 'tariff_node.txt', end_node(data, 'violet', percent=True))\n",
    "\n",
    "t89 = data.loc['1989-07-01']\n",
    "tlt = data.iloc[-1]\n",
    "ltyear = dtxt(data.index[-1])['year']\n",
    "\n",
    "text = ('World Bank staff \\href{https://data.worldbank.org/indicator/TM.TAX.MRCH.WM.AR.ZS?locations=US&name_desc=true}{calculate} '+\n",
    "        'the weighted average applied tariff rate on US imports. The measure shows the trend '+\n",
    "        'in applied tariffs, factoring in the actual composition of imports by trading partner. '+\n",
    "        f'In 1989, the average tariff on US imports was {t89:.1f} percent. During the 1990s and 2000s, '+\n",
    "        'the US entered into various trade agreements, while China joined the WTO, obtaining '+\n",
    "        '\\href{https://www.wto.org/english/thewto_e/whatis_e/tif_e/fact2_e.htm}{most-favored nation} '+\n",
    "        f'status with the US. In the latest data, covering {ltyear}, the average tariff was {tlt:.1f} '+\n",
    "        'percent.')\n",
    "write_txt(text_dir / 'tariff.txt', text)\n",
    "print(text)"
   ]
  },
  {
   "cell_type": "code",
   "execution_count": null,
   "metadata": {},
   "outputs": [],
   "source": []
  },
  {
   "cell_type": "code",
   "execution_count": null,
   "metadata": {},
   "outputs": [],
   "source": []
  }
 ],
 "metadata": {
  "kernelspec": {
   "display_name": "Python 3",
   "language": "python",
   "name": "python3"
  },
  "language_info": {
   "codemirror_mode": {
    "name": "ipython",
    "version": 3
   },
   "file_extension": ".py",
   "mimetype": "text/x-python",
   "name": "python",
   "nbconvert_exporter": "python",
   "pygments_lexer": "ipython3",
   "version": "3.8.8"
  }
 },
 "nbformat": 4,
 "nbformat_minor": 2
}
