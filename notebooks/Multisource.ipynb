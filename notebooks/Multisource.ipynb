{
 "cells": [
  {
   "cell_type": "markdown",
   "id": "2c3d1706",
   "metadata": {},
   "source": [
    "### Handle Charts Driven by Multiple Sources"
   ]
  },
  {
   "cell_type": "code",
   "execution_count": 1,
   "id": "a5a8b50c",
   "metadata": {
    "ExecuteTime": {
     "end_time": "2023-10-29T00:31:24.388851Z",
     "start_time": "2023-10-29T00:31:23.440659Z"
    }
   },
   "outputs": [],
   "source": [
    "import sys\n",
    "sys.path.append('../src')\n",
    "\n",
    "import uschartbook.config\n",
    "\n",
    "from uschartbook.config import *\n",
    "from uschartbook.utils import *"
   ]
  },
  {
   "cell_type": "code",
   "execution_count": null,
   "id": "02572878",
   "metadata": {},
   "outputs": [],
   "source": []
  },
  {
   "cell_type": "markdown",
   "id": "46ab9aa7",
   "metadata": {},
   "source": [
    "### Wage Growth Summary Table"
   ]
  },
  {
   "cell_type": "code",
   "execution_count": 279,
   "id": "49ef80cc",
   "metadata": {
    "ExecuteTime": {
     "end_time": "2023-10-31T04:07:46.531347Z",
     "start_time": "2023-10-31T04:07:46.470693Z"
    }
   },
   "outputs": [],
   "source": [
    "# Average Hourly Earnings\n",
    "s = {'CES0500000003': 'AHE', 'CES0500000008': 'PNS', \n",
    "     'CES0600000008': 'Goods', 'CES0800000008': 'Serv'}\n",
    "# AHE series\n",
    "df = pd.read_csv(data_dir / 'ces_raw.csv', index_col='date', \n",
    "                 parse_dates=True)[s.keys()].rename(s, axis=1)\n",
    "dfg = df['Goods']\n",
    "ch = df.pct_change(12) * 100\n",
    "\n",
    "# Median wage from CPS\n",
    "ch['UWE_P50'] = pd.read_csv(data_dir / 'uwe_cps.csv', index_col='date', \n",
    "                            parse_dates=True)['p50_gr']\n",
    "# Wage Growth Tracker\n",
    "ch['WGT'] = pd.read_csv(data_dir / 'atl_wgt.csv', \n",
    "                        index_col='date', parse_dates=True)['bd_cps']\n",
    "\n",
    "# NIPA Wages and Salaries / NFP\n",
    "df = pd.read_csv(data_dir / 'pi_raw.csv', index_col='date', \n",
    "                 parse_dates=True)\n",
    "# Nonfarm payrolls\n",
    "nfp = pd.read_csv(data_dir / 'ces_raw.csv', index_col='date', \n",
    "                 parse_dates=True)['CES0000000001']\n",
    "ch['NIPA'] = (df['A034RC'] / nfp).dropna().pct_change(12) * 100\n",
    "\n",
    "# 3 Month Moving average for volatile series\n",
    "for i in ['UWE_P50', 'WGT', 'NIPA']:\n",
    "    ch[f'{i}_3m'] = ch[i].rolling(3).mean()\n",
    "    \n",
    "ch.loc['1989':].to_csv(data_dir / 'wages_yy_monthly.csv', \n",
    "                      index_label='date')"
   ]
  },
  {
   "cell_type": "code",
   "execution_count": 280,
   "id": "8cb93d96",
   "metadata": {
    "ExecuteTime": {
     "end_time": "2023-10-31T04:07:47.252709Z",
     "start_time": "2023-10-31T04:07:47.234515Z"
    }
   },
   "outputs": [],
   "source": [
    "# Rename for table\n",
    "d = {'AHE': 'Average Hourly Earnings (AHE), Private',\n",
    "     'PNS': '\\hspace{2mm} Production \\& Nonsupervisory',\n",
    "     'Goods': '\\hspace{4mm} Goods-Producing Industries',\n",
    "     'Serv': '\\hspace{4mm} Service-Providing Industries',\n",
    "     'UWE_P50': 'Usual Weekly Earnings, Median',\n",
    "     'UWE_P50_3m': 'Usual Weekly Earnings, Median (3M Avg)',\n",
    "     'WGT': 'Wage Growth Tracker, Median',\n",
    "     'WGT_3m': 'Wage Growth Tracker, Median (3M Avg)',\n",
    "     'NIPA': 'Wages \\& Salaries, Average (NIPA)',\n",
    "     'NIPA_3m': 'Wages \\& Salaries, Average (3M Avg)'}\n",
    "\n",
    "dfm = pd.read_csv(data_dir / 'wages_yy_monthly.csv', index_col='date', \n",
    "                 parse_dates=True)[d.keys()].rename(d, axis=1)\n",
    "\n",
    "# Latest 6 months\n",
    "res = dfm.iloc[-6:].iloc[::-1].T\n",
    "# Same month, prior two years\n",
    "for i in [-13, -25]:\n",
    "    res[dfm.index[i]] = dfm.iloc[i]\n",
    "    \n",
    "res.columns = [dtxt(dt)['mon6'] for dt in res.columns]\n",
    "res = res.applymap('{:.1f}'.format).replace('nan', '--')\n",
    "(res.to_csv(data_dir / 'wages_yy_monthly.tex', sep='&', lineterminator='\\\\\\ ', \n",
    "           quotechar=' '))"
   ]
  },
  {
   "cell_type": "code",
   "execution_count": 281,
   "id": "5b5606c7",
   "metadata": {
    "ExecuteTime": {
     "end_time": "2023-10-31T04:07:47.940548Z",
     "start_time": "2023-10-31T04:07:47.912302Z"
    },
    "code_folding": []
   },
   "outputs": [],
   "source": [
    "# Quarterly measures of wages \n",
    "# Median wage from BLS \n",
    "d = {'IndexWS': 'Wages \\& Salaries (ECI)',\n",
    "     'P50_tot': 'Usual Weekly Earnings, Median',\n",
    "     #'P50_men': '\\hspace{2mm} Men, Age 16+',\n",
    "     #'P50_women': '\\hspace{2mm} Women, Age 16+',\n",
    "     'nfbus_ulc': 'Unit Labor Cost'}\n",
    "df = (pd.read_csv(data_dir / 'uwe_main.csv', index_col='date', \n",
    "                            parse_dates=True)) \n",
    "\n",
    "# Wages and Salaries from Employment Cost Index\n",
    "eci = pd.read_csv(data_dir / 'eci.csv', index_col='date', \n",
    "                 parse_dates=True)[['IndexWS','IndexWSGoods']]\n",
    "\n",
    "# Unit Labor Costs\n",
    "ulc = pd.read_csv(data_dir / 'lprod.csv', index_col='date', \n",
    "                 parse_dates=True)[['business_ulc', 'manuf_ulc', 'nfbus_ulc']]\n",
    "\n",
    "df = pd.concat([df, eci, ulc], axis=1)\n",
    "\n",
    "# Average Hourly Earnings PNS, Goods\n",
    "df['AHEGoods'] = dfg.resample('QS').mean()\n",
    "\n",
    "dfy = df.pct_change(4, fill_method=None) * 100 \n",
    "dfy.loc['1989':].to_csv(data_dir / 'wages_yy_quarterly.csv', \n",
    "                      index_label='date')\n",
    "dfq = df.pct_change(fill_method=None) * 400 \n",
    "\n",
    "# Gender Wage Gap\n",
    "gwg = (df['P50_women'] / df['P50_men']).rolling(4).mean()\n",
    "gwg.name = 'GWG'\n",
    "gwg.loc['1989':].to_csv(data_dir / 'gwg.csv', \n",
    "                      index_label='date')\n",
    "node = end_node(gwg, 'red', date='qs', offset=0.1,\n",
    "                anchor='south', align='center', colon=False, digits=2)\n",
    "write_txt(text_dir / 'gwg_node.txt', node)\n",
    "\n",
    "# Sumary Table\n",
    "# Latest 5 quarters\n",
    "res = dfy.iloc[-5:].iloc[::-1].T\n",
    "# Same quarter, prior two years\n",
    "for i in [-9, -13, -17]:\n",
    "    res[dfy.index[i]] = dfy.iloc[i]\n",
    "    \n",
    "res = res.loc[d.keys()].rename(d)\n",
    "res.columns = [dtxt(dt)['qtr4'] for dt in res.columns]\n",
    "res = res.applymap('{:.1f}'.format).replace('nan', '--')\n",
    "(res.to_csv(data_dir / 'wages_yy_quarterly.tex', sep='&', lineterminator='\\\\\\ ', \n",
    "           quotechar=' '))"
   ]
  },
  {
   "cell_type": "code",
   "execution_count": 282,
   "id": "a322de7e",
   "metadata": {
    "ExecuteTime": {
     "end_time": "2023-10-31T04:07:50.260683Z",
     "start_time": "2023-10-31T04:07:50.243001Z"
    }
   },
   "outputs": [
    {
     "name": "stdout",
     "output_type": "stream",
     "text": [
      "From 1990 to 2004 Q4, the gender wage gap closed at an annual rate of 0.66 percentage point per year. From 2005 to 2019 Q4, the gap closed at an annual rate of only 0.08 percentage point per year.\n",
      "\n",
      "Over the year ending 2023 Q3, the gender wage gap is 16.4 percent. That is, women typically make 83.6 cents for every dollar a man makes. In 2019 Q4, the gap was 18.4 percent.\n"
     ]
    }
   ],
   "source": [
    "# Gender Wage Gap Text\n",
    "ltdt = dtxt(gwg.index[-1])['qtr1']\n",
    "gap = gwg.iloc[-1] * 100\n",
    "gap2 = 100 - gap\n",
    "cmp = '2019-10-01'\n",
    "cmpdt = dtxt(cmp)['qtr1']\n",
    "gapcmp = (1.0 - gwg.loc['2019-10-01']) * 100\n",
    "dt1 = '1990-01-01'\n",
    "dt2 = '2004-10-01'\n",
    "dt3 = '2005-01-01'\n",
    "dt4 = cmp\n",
    "\n",
    "# Annualize rates (divide by 59 quarters)\n",
    "hgap1 = value_text((gwg.loc[dt2] - gwg.loc[dt1]) * (100 / (59 / 4)), \n",
    "                   'plain', 'pp', digits=2)\n",
    "hgap2 = value_text((gwg.loc[dt4] - gwg.loc[dt3]) * (100 / (59 / 4)), \n",
    "                   'plain', 'pp', digits=2)\n",
    "\n",
    "text = ('From 1990 to 2004 Q4, the gender wage gap closed at '+\n",
    "        f'an annual rate of {hgap1} per year. From 2005 to 2019 Q4, '+\n",
    "        f'the gap closed at an annual rate of only {hgap2} per year.\\n\\n'+\n",
    "        f'Over the year ending {ltdt}, the gender wage gap is {gap2:.1f} '+\n",
    "        f'percent. That is, women typically make {gap:.1f} cents for '+\n",
    "        f'every dollar a man makes. In 2019 Q4, the gap was {gapcmp:.1f} '+\n",
    "        'percent.')\n",
    "write_txt(text_dir / 'gwg.txt', text)\n",
    "print(text)"
   ]
  },
  {
   "cell_type": "code",
   "execution_count": 283,
   "id": "ee17c143",
   "metadata": {
    "ExecuteTime": {
     "end_time": "2023-10-31T04:07:50.953539Z",
     "start_time": "2023-10-31T04:07:50.920637Z"
    }
   },
   "outputs": [
    {
     "name": "stdout",
     "output_type": "stream",
     "text": [
      "most measures show one-year nominal wage growth that is falling but still above the pre-pandemic rate.\n"
     ]
    }
   ],
   "source": [
    "# Summary text \n",
    "d, d2 = {}, {} # One-year change and change since 2019\n",
    "# Monthly series\n",
    "for s in ['AHE', 'PNS', 'Goods', 'WGT', 'WGT_3m']:\n",
    "    d[s] = ch[s].dropna().diff(12).iloc[-1]\n",
    "    d2[s] = ch[s].dropna().iloc[-1] - ch.loc['2019', s].mean()\n",
    "    \n",
    "# Quarterly Series    \n",
    "for s in ['IndexWS', 'IndexWSGoods', 'p50uwe']:\n",
    "    d[s] = dfy[s].dropna().diff(4).iloc[-1]\n",
    "    d2[s] = dfy[s].dropna().iloc[-1] - dfy.loc['2019', s].mean()\n",
    "    \n",
    "chlt = pd.DataFrame({'One-year': d, 'Since 2019': d2})\n",
    "keych = chlt.loc[['IndexWS', 'WGT_3m']].mean()\n",
    "chlt.loc['keych'] = keych\n",
    "chdf = pd.concat([pd.cut(chlt[c], [-50, -0.49, 0.49, 50], \n",
    "                         labels=['below', 'same', 'above']) \n",
    "           for c in chlt.columns], axis=1)\n",
    "\n",
    "ref = chdf.drop('keych')\n",
    "keym = chdf.loc['keych']\n",
    "\n",
    "# What percent of the series match the key series?\n",
    "pct = pd.DataFrame(map(lambda k: ref[k]==keym[k], ref)).all().mean()\n",
    "\n",
    "keydir1 = ('falling' if keych['One-year'] <= -0.49 else 'rising' \n",
    "           if keych['One-year'] >=0.49 else 'stable')\n",
    "keydir2 = ('below' if keych['Since 2019'] <= -0.49 else 'above' \n",
    "           if keych['Since 2019'] >=0.49 else 'in line with')\n",
    "\n",
    "keyt = 'key'\n",
    "if pct > 0.8:\n",
    "    keyt = 'nearly all'\n",
    "elif pct > 0.5:\n",
    "    keyt = 'most'\n",
    "    \n",
    "but = 'but still' if ((keydir1 == 'falling') & (keydir2 == 'above') | \n",
    "                (keydir1 == 'rising') & (keydir2 == 'below')) else 'and'    \n",
    "\n",
    "text = (f'{keyt} measures show one-year nominal wage growth that is {keydir1} '+\n",
    "        f'{but} {keydir2} the pre-pandemic rate.')\n",
    "write_txt(text_dir / 'wage_rec_summary.txt', text)\n",
    "print(text)"
   ]
  },
  {
   "cell_type": "code",
   "execution_count": null,
   "id": "36b1e7fe",
   "metadata": {},
   "outputs": [],
   "source": []
  },
  {
   "cell_type": "code",
   "execution_count": null,
   "id": "3c817d77",
   "metadata": {},
   "outputs": [],
   "source": []
  },
  {
   "cell_type": "code",
   "execution_count": null,
   "id": "5f801bf0",
   "metadata": {},
   "outputs": [],
   "source": []
  }
 ],
 "metadata": {
  "kernelspec": {
   "display_name": "Python 3 (ipykernel)",
   "language": "python",
   "name": "python3"
  },
  "language_info": {
   "codemirror_mode": {
    "name": "ipython",
    "version": 3
   },
   "file_extension": ".py",
   "mimetype": "text/x-python",
   "name": "python",
   "nbconvert_exporter": "python",
   "pygments_lexer": "ipython3",
   "version": "3.8.13"
  }
 },
 "nbformat": 4,
 "nbformat_minor": 5
}
