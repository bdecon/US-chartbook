{
 "cells": [
  {
   "cell_type": "markdown",
   "id": "1cbd66cc",
   "metadata": {},
   "source": [
    "### Fed H.4.1\n",
    "\n",
    "Fed Data on Factors Affecting Reserve Balances\n",
    "\n",
    "Thursday 4:30PM"
   ]
  },
  {
   "cell_type": "code",
   "execution_count": 1,
   "id": "c1f1b24a",
   "metadata": {
    "ExecuteTime": {
     "end_time": "2022-10-22T14:41:01.766174Z",
     "start_time": "2022-10-22T14:41:00.664390Z"
    }
   },
   "outputs": [],
   "source": [
    "import sys\n",
    "sys.path.append('../src')\n",
    "\n",
    "import time\n",
    "\n",
    "import uschartbook.config\n",
    "\n",
    "from uschartbook.config import *\n",
    "from uschartbook.utils import *"
   ]
  },
  {
   "cell_type": "code",
   "execution_count": 2,
   "id": "23246751",
   "metadata": {
    "ExecuteTime": {
     "end_time": "2022-10-22T14:41:07.083115Z",
     "start_time": "2022-10-22T14:41:01.767464Z"
    }
   },
   "outputs": [
    {
     "name": "stdout",
     "output_type": "stream",
     "text": [
      "The Fed currently holds \\$5.6 trillion in Treasuries and \\$2.7 trillion in mortgage-backed securities. \n"
     ]
    }
   ],
   "source": [
    "# Retrieve data from Fed DDP\n",
    "url = ('https://www.federalreserve.gov/datadownload/Output.aspx?'+\n",
    "       'rel=H41&series=d898b3af70d8e05b2f639b3f06b0f93f&lastobs=&'+\n",
    "       'from=01/01/2002&to=12/31/2022&filetype=csv&label=include&'+\n",
    "       'layout=seriescolumn')\n",
    "d, df = clean_fed_data(url)\n",
    "\n",
    "# Fed Balance Sheet Total\n",
    "bst = (df['RESPPMA_N.WW'] / 1_000_000)\n",
    "bst.to_csv(data_dir / 'fed_assets.csv', index_label='date', \n",
    "           float_format='%g')\n",
    "\n",
    "# Fed Balance Sheet Text\n",
    "ltval = bst.iloc[-1].round(1)\n",
    "ltdate = dtxt(bst.index[-1])['day1']\n",
    "cl = c_line('blue!80!black')\n",
    "text = ('In response to the collapse of the housing bubble, the '+\n",
    "        'Fed purchased U.S. Treasury bonds and mortgage-backed '+\n",
    "        f'securities. Total assets held by the Federal Reserve {cl} '+\n",
    "        'increased from \\$0.9 trillion in August 2008 to \\$2.2 '+\n",
    "        'trillion in November 2008. Additional rounds of asset '+\n",
    "        'purchases, referred to as quantitative easing, increased '+\n",
    "        'the balance sheet to \\$4.5 trillion by January 2014. As '+\n",
    "        'bonds mature they were replaced until October 2017, when '+\n",
    "        'the Fed allowed the size of its balance sheet to normalize. '+\n",
    "        'Total assets fell below \\$3.8 trillion in August 2019.')\n",
    "write_txt(text_dir / 'fed_assets1.txt', text)\n",
    "        \n",
    "txt2 = ('Balance sheet normalization ended in September 2019 when '+\n",
    "        'the Fed increased operations in overnight and term repurchase '+\n",
    "        'agreement (repo) markets, following a sharp increase in rates '+\n",
    "        'in these markets. The Fed balance sheet increased to \\$4.1 '+\n",
    "        'trillion by December 2019.')\n",
    "write_txt(text_dir / 'fed_assets2.txt', txt2)\n",
    "        \n",
    "txt3 = ('During the COVID-19 pandemic, the Fed offered lending to '+\n",
    "        'businesses and currency swaps to major US trading partners, '+\n",
    "        'began to purchase commercial bonds, and expanded purchases of '+\n",
    "        'treasuries and mortgage-backed securities.\\n\\n The Fed balance '+\n",
    "        'sheet increased from \\$4.2 trillion in February 2020 to '+\n",
    "        f'\\${ltval} trillion, as of the latest data, covering {ltdate}. ')\n",
    "write_txt(text_dir / 'fed_assets3.txt', txt3)\n",
    "\n",
    "# Fed Balance Sheet Components Table\n",
    "d2 = {'RESPPA_N.WW': f'\\\\textbf{{Total}} {cl}',\n",
    "      'RESPPALGUO_N.WW': '\\hspace{2mm}U.S. Treasury securities',\n",
    "      'RESPPALGASMO_N.WW': '\\hspace{2mm}Mortgage-backed securities',\n",
    "      'RESH4SCS_N.WW': '\\hspace{2mm}Central bank liquidity swaps',\n",
    "      'RESPPALGTR_N.WW': '\\hspace{2mm}Repurchase agreements',\n",
    "      'RESPPALD_N.WW': '\\hspace{2mm}Loans',\n",
    "      'RESPPALDJ_N.WW': '\\hspace{4mm}Payroll Protection Program',\n",
    "      'NetPremDisc': '\\hspace{2mm}Net unamortized premium',\n",
    "      'Other': '\\hspace{2mm}Other'}\n",
    "\n",
    "pr_di = ['RESPPALSD_N.WW', 'RESPPALSP_N.WW']\n",
    "\n",
    "data = df.copy()\n",
    "dropcol = ['RESPPA_N.WW', 'RESPPLLOP_N.WW', 'RESPPMA_N.WW']\n",
    "data['Other'] = (data['RESPPA_N.WW'] - data.drop(dropcol,\n",
    "                                                 axis=1).sum(axis=1))\n",
    "data['NetPremDisc'] = data[pr_di].sum(axis=1)\n",
    "ltval_treas = data['RESPPALGUO_N.WW'].iloc[-1] / 1_000_000\n",
    "ltval_mbs = data['RESPPALGASMO_N.WW'].iloc[-1] / 1_000_000\n",
    "\n",
    "data = data.rename(d2, axis=1).drop(pr_di, axis=1)\n",
    "dft = pd.DataFrame()\n",
    "for i in [-1, -2, -5, -53, -105]:\n",
    "    dft[dtxt(data.index[i])['day2']] = data.iloc[i]\n",
    "    \n",
    "(dft.loc[list(d2.values()), :].div(1000)\n",
    "    .applymap('{:,.1f}'.format)\n",
    "    .to_csv(data_dir / 'fed_bal_sheet.tex', sep='&', \n",
    "            line_terminator='\\\\\\ ', quotechar=' '))\n",
    "\n",
    "text = (f'The Fed currently holds \\${ltval_treas:,.1f} trillion in '+\n",
    "        f'Treasuries and \\${ltval_mbs:,.1f} trillion in mortgage-'+\n",
    "        'backed securities. ')\n",
    "write_txt(text_dir / 'fed_assets4.txt', text)\n",
    "print(text)\n",
    "\n",
    "# Adjustment for Fed Interest Expense\n",
    "res = (df['RESPPLLOP_N.WW'].rolling(52).sum()\n",
    "         .resample('MS').mean().dropna())\n",
    "fedadj = res.loc[res.index.month == 10]\n",
    "fedadj.to_csv(data_dir / 'fedintadj.csv', index_label='date')"
   ]
  },
  {
   "cell_type": "code",
   "execution_count": null,
   "id": "905cabae",
   "metadata": {},
   "outputs": [],
   "source": []
  },
  {
   "cell_type": "code",
   "execution_count": null,
   "id": "28463894",
   "metadata": {},
   "outputs": [],
   "source": []
  }
 ],
 "metadata": {
  "kernelspec": {
   "display_name": "Python 3 (ipykernel)",
   "language": "python",
   "name": "python3"
  },
  "language_info": {
   "codemirror_mode": {
    "name": "ipython",
    "version": 3
   },
   "file_extension": ".py",
   "mimetype": "text/x-python",
   "name": "python",
   "nbconvert_exporter": "python",
   "pygments_lexer": "ipython3",
   "version": "3.8.13"
  }
 },
 "nbformat": 4,
 "nbformat_minor": 5
}
