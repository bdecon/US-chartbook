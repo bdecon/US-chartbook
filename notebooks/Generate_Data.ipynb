{
 "cells": [
  {
   "cell_type": "markdown",
   "metadata": {},
   "source": [
    "# Generate Data for Chartbook\n",
    "\n",
    "Brian Dew\n",
    "\n",
    "@bd_econ"
   ]
  },
  {
   "cell_type": "code",
   "execution_count": 1,
   "metadata": {
    "ExecuteTime": {
     "end_time": "2019-12-17T15:10:04.359318Z",
     "start_time": "2019-12-17T15:10:03.840433Z"
    }
   },
   "outputs": [],
   "source": [
    "import sys\n",
    "sys.path.append('../src')\n",
    "\n",
    "import uschartbook.config\n",
    "\n",
    "from uschartbook.config import *\n",
    "from uschartbook.utils import *"
   ]
  },
  {
   "cell_type": "code",
   "execution_count": 2,
   "metadata": {},
   "outputs": [],
   "source": [
    "#nipa_series_codes(retrieve_table('T11000'))"
   ]
  },
  {
   "cell_type": "markdown",
   "metadata": {},
   "source": [
    "### Labor Share"
   ]
  },
  {
   "cell_type": "code",
   "execution_count": 2,
   "metadata": {},
   "outputs": [],
   "source": [
    "s = ['A261RC', 'A4002C']\n",
    "\n",
    "df = nipa_df(retrieve_table('T11000')['Data'], s).sort_index()\n",
    "df['Share'] = (df['A4002C'] / df['A261RC']) * 100\n",
    "data = df.loc['1989':, 'Share'].dropna()\n",
    "data.to_csv(data_dir / 'laborshare.csv', \n",
    "            index_label='date', \n",
    "            float_format='%g')\n",
    "\n",
    "node = end_node(data, 'blue!60!cyan')\n",
    "write_txt(text_dir / 'laborshare_node.txt', node)"
   ]
  },
  {
   "cell_type": "code",
   "execution_count": 3,
   "metadata": {},
   "outputs": [
    {
     "data": {
      "text/plain": [
       "'As of the fourth quarter of 2019, labor receives 53.5 percent of gross domestic income, and the labor share increased by a total of 0.4 percentage points over the past year. The labor share is 1.9 percentage points above its 30-year low of 51.6 percent in 2014 Q3, but 3.9 percentage points below the 30-year high of 57.4 percent in 1992 Q3. '"
      ]
     },
     "execution_count": 3,
     "metadata": {},
     "output_type": "execute_result"
    }
   ],
   "source": [
    "s = series_info(data)\n",
    "ltdate = dtxt(s['date_latest'])['qtr2']\n",
    "one_yr = val_inc_pp(s['val_latest'] - s['val_year_ago'])\n",
    "ltmin = s['val_latest'] - s['val_min']\n",
    "ltmax = s['val_max'] - s['val_latest']\n",
    "text = (f'As of {ltdate}, labor receives '+\n",
    "        f'{s[\"val_latest\"]:.1f} percent of gross domestic income, '+\n",
    "        f'and the labor share {one_yr} over the past year. '+\n",
    "        f'The labor share is {ltmin:.1f} percentage '+\n",
    "        f'points above its 30-year low of {s[\"val_min\"]:.1f} percent '+\n",
    "        f'in {s[\"date_min_ft\"]}, but {ltmax:.1f} percentage points '+\n",
    "        f'below the 30-year high of {s[\"val_max\"]:.1f} percent in '+\n",
    "        f'{s[\"date_max_ft\"]}. ')\n",
    "\n",
    "write_txt(text_dir / 'laborshare.txt', text)\n",
    "text"
   ]
  },
  {
   "cell_type": "code",
   "execution_count": null,
   "metadata": {},
   "outputs": [],
   "source": []
  },
  {
   "cell_type": "code",
   "execution_count": null,
   "metadata": {},
   "outputs": [],
   "source": []
  },
  {
   "cell_type": "markdown",
   "metadata": {},
   "source": [
    "### GDP growth rate"
   ]
  },
  {
   "cell_type": "code",
   "execution_count": 4,
   "metadata": {
    "ExecuteTime": {
     "end_time": "2019-11-01T00:28:50.975073Z",
     "start_time": "2019-11-01T00:28:50.930143Z"
    }
   },
   "outputs": [],
   "source": [
    "s = ['A191RL']\n",
    "df = nipa_df(retrieve_table('T10502')['Data'], s).sort_index()\n",
    "df.loc['1989':].to_csv(data_dir / 'gdp.csv', index_label='date')\n",
    "date = dtxt(df.index[-1])['qtr1']\n",
    "\n",
    "txt = f'{date}: {df[\"A191RL\"].iloc[-1]}\\%'\n",
    "write_txt(data_dir / 'gdp.txt', txt)"
   ]
  },
  {
   "cell_type": "code",
   "execution_count": null,
   "metadata": {},
   "outputs": [],
   "source": [
    "df = nipa_df(retrieve_table('T10502')['Data'], ['A191RL'])['A191RL']\n",
    "ltdate = dtxt(df.index[-1])['qtr2']\n",
    "prdate = dtxt(df.index[-2])['qtr2']\n",
    "ltval = df.iloc[-1]\n",
    "inc_dec = 'increased' if ltval >= 0 else 'decreased'\n",
    "prval = df.iloc[-2]\n",
    "inc_dec2 = 'increase' if prval >= 0 else 'decrease'\n",
    "d = {}\n",
    "for i in [-13, -41, -121]:\n",
    "    d[i] = df.iloc[i:].values.mean().round(1)\n",
    "    \n",
    "text = (f'{inc_dec} at an annual rate of {ltval:.1f} percent during {ltdate}, '+\n",
    "        f'compared to an {inc_dec2} of {prval:.1f} percent in {prdate}. This '+\n",
    "        f'annualized rate of quarterly growth has averaged {d[-13]} percent over '+\n",
    "        f'the past three years, {d[-41]} percent over the past 10 years, and '+\n",
    "        f'{d[-121]} percent over the past 30 years.')    \n",
    "\n",
    "write_txt(text_dir / 'gdp_gr.txt', text)\n",
    "\n",
    "text"
   ]
  },
  {
   "cell_type": "code",
   "execution_count": null,
   "metadata": {},
   "outputs": [],
   "source": []
  },
  {
   "cell_type": "code",
   "execution_count": null,
   "metadata": {},
   "outputs": [],
   "source": []
  },
  {
   "cell_type": "markdown",
   "metadata": {},
   "source": [
    "### GDP Intro Chart and Text"
   ]
  },
  {
   "cell_type": "code",
   "execution_count": null,
   "metadata": {},
   "outputs": [],
   "source": [
    "df = nipa_df(retrieve_table('T70100')['Data'], ['A939RC', 'A939RX'])\n",
    "df['value'] = (df['A939RX'] / df['A939RX'].iloc[-1]) * df['A939RC'].iloc[-1]\n",
    "cd = nipa_df(retrieve_table('T10105')['Data'], ['A191RC'])['A191RC'].iloc[-1]\n",
    "rgdp = nipa_df(retrieve_table('T10106')['Data'], ['A191RX'])\n",
    "rgdp_cd = rgdp / rgdp.iloc[-1] * cd\n",
    "\n",
    "ltdate = dtxt(df.index[-1])['qtr2']\n",
    "gdp_val = int(rgdp_cd.iloc[-1].values[0] / 1000)\n",
    "gdp_prv_val = int(rgdp_cd.iloc[0].values[0] / 1000)\n",
    "gdppc_val = int(df.iloc[-1].loc['value'])\n",
    "gdppc_prv_val = int(df.iloc[0].loc['value'])\n",
    "qdate = dtxt(df.index[-1])['qtr1']\n",
    "\n",
    "text = (f'\\${gdp_val:,} billion in {ltdate}, compared to an '+\n",
    "        f'inflation-adjusted equivalent of \\${gdp_prv_val:,} '+\n",
    "        'billion in the first quarter of 1989.')\n",
    "write_txt(text_dir / 'gdp1.txt', text)\n",
    "print(text, '\\n\\n')\n",
    "\n",
    "text = ('The US population is growing by about sixth-tenths of a '+\n",
    "        'percent per year. GDP per capita (see {\\color{blue}\\\\textbf{---}} ), '+\n",
    "        f'adjusted for inflation to {qdate} dollars, has increased to '+\n",
    "        f'\\${gdppc_val:,} in {qdate} from \\${gdppc_prv_val:,} in 1989 Q1.')\n",
    "write_txt(text_dir / 'gdp2.txt', text)\n",
    "print(text, '\\n\\n')\n",
    "\n",
    "date = df.index[-1].strftime('%Y-%m-%d')\n",
    "ldate = dtxt(df.index[-1])['qtr4']\n",
    "\n",
    "text = [r'\\noindent \\normalsize \\textbf{GDP per capita}\\\\',\n",
    "r'\\footnotesize{\\textit{in ' + qdate + r' dollars}}\\\\* ',\n",
    "r'\\noindent \\begin{tikzpicture}',\n",
    "r'    \\begin{axis}[\\dateaxisticks clip=false, height=4.2cm, width=5.8cm,',\n",
    "r'            ytick={40000,50000,60000}, yticklabels={40, 50, \\$60k},',\n",
    "r'            xtick={{1989-01-01}, {2000-01-01}, {2010-01-01}, {2019-04-01}},',\n",
    "r'        minor xtick={}, ',\n",
    "f\"        xticklabels={{`89, `00, `10, {ldate}}}, enlarge y limits={{lower, 0.3}}, \",\n",
    "r'        enlarge x limits={0.05}]',\n",
    "r'    \\stdline{blue}{date}{value}{data/gdppc.csv}',\n",
    "r'    \\node[label={90:{\\$'+ f'{gdppc_val:,}' + r'}}, circle, blue, fill, inner sep=1.5pt] at ',\n",
    "f'        (axis cs:{date},{gdppc_val})' + r' {};',\n",
    "r'    \\end{axis}',\n",
    "r'\\end{tikzpicture}\\\\',\n",
    "r'\\footnotesize{Source: Bureau of Economic Analysis}']\n",
    "\n",
    "f = text_dir.joinpath('gdp_chart.txt')\n",
    "with f.open('w') as wf:\n",
    "    for t in text:\n",
    "        print(t)\n",
    "        wf.write(t + '\\n')"
   ]
  },
  {
   "cell_type": "code",
   "execution_count": null,
   "metadata": {},
   "outputs": [],
   "source": []
  },
  {
   "cell_type": "code",
   "execution_count": null,
   "metadata": {},
   "outputs": [],
   "source": []
  },
  {
   "cell_type": "markdown",
   "metadata": {},
   "source": [
    "### Private fixed investment"
   ]
  },
  {
   "cell_type": "code",
   "execution_count": 5,
   "metadata": {
    "ExecuteTime": {
     "end_time": "2019-11-01T00:28:54.915730Z",
     "start_time": "2019-11-01T00:28:54.841627Z"
    }
   },
   "outputs": [],
   "source": [
    "# Private fixed investment contribution to growth\n",
    "s = ['A008RY', 'A011RY', 'A014RY']\n",
    "\n",
    "df = nipa_df(retrieve_table('T10502')['Data'], s)\n",
    "\n",
    "df.loc['1989':].to_csv(data_dir / 'inv.csv', index_label='date')\n",
    "\n",
    "ldate = df.index[-1]\n",
    "datetext = dtxt(ldate)[\"qtr1\"]\n",
    "\n",
    "tot_contr = cont_subt(df.loc[ldate, ['A008RY', 'A011RY']].sum())\n",
    "bus_contr = cont_subt(df.loc[ldate, 'A008RY'], 'end')\n",
    "res_contr = cont_subt(df.loc[ldate, 'A011RY'], 'end')\n",
    "inv_contr = cont_subt(df.loc[ldate, 'A014RY'], 'end')\n",
    "\n",
    "text = (f'During the quarter, private fixed investment {tot_contr} real GDP growth. '+\n",
    "        f'Non-residential fixed investment {bus_contr}, while '+\n",
    "        f'residential fixed investment {res_contr}. The change in private '+\n",
    "        f'inventories {inv_contr}.')\n",
    "\n",
    "write_txt(text_dir / 'inv_text2.txt', text)"
   ]
  },
  {
   "cell_type": "code",
   "execution_count": 6,
   "metadata": {},
   "outputs": [],
   "source": [
    "# In levels and share of GDP\n",
    "s = ['A191RC', 'A007RC', 'A008RC', 'A011RC']\n",
    "\n",
    "df = nipa_df(retrieve_table('T10105')['Data'], s)\n",
    "\n",
    "ldate = df.index[-1]\n",
    "\n",
    "inv_tot = df.loc[ldate, 'A007RC'] / 1_000_000\n",
    "gdp_tot = df.loc[ldate, 'A191RC'] / 1_000_000\n",
    "res_tot = df.loc[ldate, 'A011RC'] / 1_000\n",
    "bus_tot = df.loc[ldate, 'A008RC'] / 1_000_000\n",
    "\n",
    "inv_sh = (inv_tot / gdp_tot) * 100\n",
    "res_sh = (res_tot / 1_000 / gdp_tot) * 100\n",
    "bus_sh = (bus_tot / gdp_tot) * 100\n",
    "\n",
    "text = (f'In {dtxt(ldate)[\"qtr2\"]}, private fixed investment, '+\n",
    "        f'which does not include inventory investment, totals \\${inv_tot:.1f} trillion, '+\n",
    "        f'equivalent to {inv_sh:.1f} percent of GDP. Non-residential (business) fixed '+\n",
    "        f'investment totals \\${bus_tot:.1f} trillion, or {bus_sh:.1f} percent of GDP, '+\n",
    "        f'while residential fixed investment totals \\${res_tot:.1f} billion ({res_sh:.1f} '+\n",
    "        'percent of GDP).')\n",
    "\n",
    "write_txt(text_dir / 'inv_text.txt', text)"
   ]
  },
  {
   "cell_type": "code",
   "execution_count": null,
   "metadata": {},
   "outputs": [],
   "source": []
  },
  {
   "cell_type": "code",
   "execution_count": null,
   "metadata": {},
   "outputs": [],
   "source": []
  },
  {
   "cell_type": "markdown",
   "metadata": {},
   "source": [
    "### Imports and Exports"
   ]
  },
  {
   "cell_type": "code",
   "execution_count": 7,
   "metadata": {
    "ExecuteTime": {
     "end_time": "2019-11-05T02:34:45.331609Z",
     "start_time": "2019-11-05T02:34:45.242543Z"
    },
    "code_folding": []
   },
   "outputs": [
    {
     "data": {
      "text/plain": [
       "'Nonpetroleum goods and services imports (see {\\\\color{green!60!teal!80!black}\\\\textbf{---}}) were equivalent to 13.2 percent of GDP in the fourth quarter of 2019, while exports of nonpetroleum goods and services (see {\\\\color{blue!90!cyan}\\\\textbf{---}}) were equivalent to 10.6 percent of GDP.'"
      ]
     },
     "execution_count": 7,
     "metadata": {},
     "output_type": "execute_result"
    }
   ],
   "source": [
    "# Import and Export share of GDP\n",
    "s = ['B020RC', 'B021RC', 'B648RC', 'LA000006']\n",
    "s2 = ['A191RC']\n",
    "df = nipa_df(retrieve_table('T40205')['Data'], s)\n",
    "df['A191RC'] = nipa_df(retrieve_table('T10105')['Data'], s2)\n",
    "df['EX'] = df['B020RC'] - df['LA000006']\n",
    "df['IM'] = df['B021RC'] - df['B648RC']\n",
    "data = df.div(df['A191RC'], axis=0) * 100\n",
    "data.loc['1989':].to_csv(data_dir / 'eximgdp.csv', index_label='date')\n",
    "\n",
    "date = f'{qtrs[data.index[-1].quarter]} quarter of {data.index[-1].year}'\n",
    "valex = data['EX'].iloc[-1]\n",
    "valim = data['IM'].iloc[-1]\n",
    "\n",
    "text = (f'Nonpetroleum goods and services imports (see {{\\color{{green!60!teal!80!black}}'+\n",
    "        f'\\\\textbf{{---}}}}) were equivalent to {valim:.1f} percent of GDP in the {date}, '+\n",
    "        f'while exports of nonpetroleum goods and services (see {{\\\\color{{blue!90!cyan}}'+\n",
    "        f'\\\\textbf{{---}}}}) were equivalent to {valex:.1f} percent of GDP.')\n",
    "\n",
    "write_txt(text_dir / 'exim.txt', text)\n",
    "\n",
    "text"
   ]
  },
  {
   "cell_type": "code",
   "execution_count": null,
   "metadata": {},
   "outputs": [],
   "source": []
  },
  {
   "cell_type": "code",
   "execution_count": null,
   "metadata": {},
   "outputs": [],
   "source": []
  },
  {
   "cell_type": "markdown",
   "metadata": {},
   "source": [
    "### Goods Import Penetration"
   ]
  },
  {
   "cell_type": "code",
   "execution_count": 2,
   "metadata": {},
   "outputs": [],
   "source": [
    "s = ['A353RC']\n",
    "\n",
    "G = nipa_df(retrieve_table('T10205')['Data'], s).sort_index()\n",
    "\n",
    "s = ['A253RC', 'A255RC', 'B647RC', 'LA000004', 'A650RC', 'B651RC', 'A652RC', 'A653RC', 'B648RC']\n",
    "\n",
    "MX = nipa_df(retrieve_table('T40205')['Data'], s).sort_index()\n",
    "\n",
    "D = G['A353RC'] - MX['A253RC'] + MX['A255RC']\n",
    "result = (MX['A255RC'] / D)\n",
    "\n",
    "import_categories = ['B647RC', 'LA000004', 'A650RC', 'B651RC', \n",
    "                     'A652RC', 'A653RC', 'B648RC']\n",
    "Msh = MX[import_categories].div(MX['A255RC'], axis=0)\n",
    "\n",
    "Msh['Consumer'] = Msh['B647RC'] + Msh['A652RC'] + Msh['B651RC']\n",
    "Msh['Capital'] = Msh['LA000004'] - Msh['B648RC'] + Msh['A650RC'] + Msh['A653RC']\n",
    "\n",
    "final = Msh[['Consumer', 'Capital', 'B648RC']].multiply(result, axis=0) * 100\n",
    "\n",
    "final.loc['1989':].to_csv(data_dir / 'goodsimpsh.csv', index_label='date')\n",
    "\n",
    "ltdate = final.index[-1]\n",
    "datetext = dtxt(ltdate)['qtr1']\n",
    "cons = final['Consumer'].iloc[-1]\n",
    "capi = final['Capital'].iloc[-1]\n",
    "oil = final['B648RC'].iloc[-1]\n",
    "\n",
    "text = (f'As of {datetext}, imports of consumer goods excluding petroleum '+\n",
    "        f'and petroleum products are equivalent to {cons:.1f} percent of domestic '+\n",
    "        'consumption of goods (see\\cbox{cyan!40!white}). Petroleum-related imports '+\n",
    "        f'claim {oil:.1f} percent (see\\cbox{{purple}}) and imports of all other goods, '+\n",
    "        f'primarily capital goods, industrial supplies, and materials are equivalent to '+\n",
    "        f'{capi:.1f} percent (see\\cbox{{blue!50!cyan}}).')\n",
    "\n",
    "write_txt(text_dir / 'goodsimpsh1.txt', text)\n",
    "\n",
    "ch11 = (final.loc['2011-01-01'] - final.iloc[0])\n",
    "\n",
    "chlt = (final.iloc[-1] - final.loc['2011-01-01'])\n",
    "\n",
    "chtxt = {}\n",
    "for i, v in chlt.items():\n",
    "    if v >= 0.1:\n",
    "        chtxt[i] = f'increased by the equivalent of {v:.1f} percent'\n",
    "    elif v <= -0.1:\n",
    "        chtxt[i] = f'decreased by the equivalent of {abs(v):.1f} percent'\n",
    "    else:\n",
    "        chtxt[i] = 'was virtually unchanged'\n",
    "        \n",
    "text = ('From 1989 to 2011, imports of consumer goods excluding petroleum increased '+\n",
    "        f'by the equivalent of {ch11[\"Consumer\"]:.1f} percent of domestic '+\n",
    "         'consumption of goods; petroleum and products imports '+\n",
    "        f'increased by the equivalent of {ch11[\"B648RC\"]:.1f} percent; '+\n",
    "        'and all other goods increased by the equivalent '+\n",
    "        f'of {ch11[\"Capital\"]:.1f} percent. Since 2011, imports of '+\n",
    "        f'consumer goods {chtxt[\"Consumer\"]} of domestic goods demand; '+\n",
    "        f'imports of petroleum and products {chtxt[\"B648RC\"]}; and other '+\n",
    "        f'imports {chtxt[\"Capital\"]}.')\n",
    "\n",
    "write_txt(text_dir / 'goodsimpsh.txt', text)"
   ]
  },
  {
   "cell_type": "code",
   "execution_count": null,
   "metadata": {},
   "outputs": [],
   "source": []
  },
  {
   "cell_type": "code",
   "execution_count": null,
   "metadata": {},
   "outputs": [],
   "source": []
  },
  {
   "cell_type": "markdown",
   "metadata": {},
   "source": [
    "### ITA - Financial Account Balance"
   ]
  },
  {
   "cell_type": "code",
   "execution_count": 3,
   "metadata": {},
   "outputs": [],
   "source": [
    "def bea_api_ita(ind_list, bea_key):\n",
    "    ''' Return tables in table list for years in range'''\n",
    "    import requests\n",
    "    from datetime import datetime\n",
    "\n",
    "    years = ','.join(map(str, range(1988, 2020)))\n",
    "\n",
    "    api_results = []\n",
    "\n",
    "    for ind in ind_list:\n",
    "        url = f'https://www.bea.gov/api/data/?&UserID={bea_key}'\\\n",
    "              f'&method=GetData&datasetname=ITA&Indicator={ind}'\\\n",
    "              f'&Frequency=QSA&Year={years}&ResultFormat=json'\n",
    "\n",
    "        r = requests.get(url)\n",
    "\n",
    "        api_results.append((ind, r.text))\n",
    "\n",
    "    return api_results"
   ]
  },
  {
   "cell_type": "code",
   "execution_count": 4,
   "metadata": {},
   "outputs": [
    {
     "data": {
      "text/plain": [
       "'Over the year ending 2019 Q4, net domestic acquisitions of foreign assets were equivalent to 2.0 percent of GDP, while net domestic incurrence of foreign liabilities total 3.6 percent of GDP. Domestic net borrowing totals 1.9 percent of GDP.'"
      ]
     },
     "execution_count": 4,
     "metadata": {},
     "output_type": "execute_result"
    }
   ],
   "source": [
    "ind_list = ['FinAssetsExclFinDeriv', 'FinLiabsExclFinDeriv', 'FinDeriv', 'StatDisc']\n",
    "\n",
    "api_results = bea_api_ita(ind_list, bea_key)\n",
    "\n",
    "gdp = nipa_df(retrieve_table('T10105')['Data'], ['A191RC'])['A191RC']\n",
    "\n",
    "results = pd.DataFrame({name: {i['TimePeriod']: i['DataValue'] \n",
    "                               for i in json.loads(series)['BEAAPI']['Results']['Data']} \n",
    "                        for name, series in api_results})\n",
    "results.index = pd.to_datetime(results.index)\n",
    "results = results.replace(r'^\\s*$', np.nan, regex=True).astype('float').rolling(4).sum()\n",
    "results['FAB'] = results['FinLiabsExclFinDeriv'] - results['FinAssetsExclFinDeriv']\n",
    "results['TOT'] = results[['FAB', 'StatDisc', 'FinDeriv']].sum(axis=1)\n",
    "final = (results.divide(gdp, axis=0).dropna(how='all') * 100).fillna(0)\n",
    "final.loc['1989':, ['FAB', 'StatDisc', 'FinDeriv', 'TOT']].to_csv(data_dir / 'fab.csv', index_label='date')\n",
    "\n",
    "s = final.iloc[-1]\n",
    "liab = s.FinLiabsExclFinDeriv\n",
    "assets = s.FinAssetsExclFinDeriv\n",
    "\n",
    "ldate = dtxt(final.index[-1])['qtr1']\n",
    "\n",
    "text = (f'Over the year ending {ldate}, net domestic acquisitions of foreign assets were '+\n",
    "        f'equivalent to {assets:.1f} percent of GDP, while net domestic incurrence of foreign '+\n",
    "        f'liabilities total {liab:.1f} percent of GDP. Domestic net borrowing totals '+\n",
    "        f'{s.TOT:.1f} percent of GDP.')\n",
    "\n",
    "write_txt(text_dir / 'fab.txt', text)\n",
    "\n",
    "text"
   ]
  },
  {
   "cell_type": "code",
   "execution_count": null,
   "metadata": {},
   "outputs": [],
   "source": []
  },
  {
   "cell_type": "code",
   "execution_count": null,
   "metadata": {},
   "outputs": [],
   "source": []
  },
  {
   "cell_type": "markdown",
   "metadata": {},
   "source": [
    "### GDP Composition"
   ]
  },
  {
   "cell_type": "code",
   "execution_count": 12,
   "metadata": {
    "ExecuteTime": {
     "end_time": "2019-11-01T00:28:58.326392Z",
     "start_time": "2019-11-01T00:28:58.236434Z"
    }
   },
   "outputs": [],
   "source": [
    "s = ['DPCERY', 'A006RY', 'A822RY', 'A019RY']\n",
    "\n",
    "(nipa_df(retrieve_table('T10502')['Data'], s).loc['1989':]\n",
    " .to_csv(data_dir / 'comp.csv', index_label='date'))"
   ]
  },
  {
   "cell_type": "code",
   "execution_count": null,
   "metadata": {},
   "outputs": [],
   "source": []
  },
  {
   "cell_type": "markdown",
   "metadata": {},
   "source": [
    "### GDP per capita"
   ]
  },
  {
   "cell_type": "code",
   "execution_count": 13,
   "metadata": {
    "ExecuteTime": {
     "end_time": "2019-11-01T00:29:00.544648Z",
     "start_time": "2019-11-01T00:29:00.502083Z"
    }
   },
   "outputs": [],
   "source": [
    "s = ['A939RC', 'A939RX']\n",
    "\n",
    "df = nipa_df(retrieve_table('T70100')['Data'], s)\n",
    "df['value'] = (df['A939RX'] / df['A939RX'].iloc[-1])  * df['A939RC'].iloc[-1]\n",
    "df[['value']].loc['1989':].to_csv(data_dir / 'gdppc.csv', index_label='date')"
   ]
  },
  {
   "cell_type": "code",
   "execution_count": null,
   "metadata": {},
   "outputs": [],
   "source": []
  },
  {
   "cell_type": "markdown",
   "metadata": {},
   "source": [
    "### Domestic Investment"
   ]
  },
  {
   "cell_type": "code",
   "execution_count": 14,
   "metadata": {
    "ExecuteTime": {
     "end_time": "2019-11-01T00:29:01.781494Z",
     "start_time": "2019-11-01T00:29:01.616041Z"
    }
   },
   "outputs": [],
   "source": [
    "s = ['A261RX', 'W256RX']\n",
    "rgdi = nipa_df(retrieve_table('T11706')['Data'], s).dropna()\n",
    "\n",
    "s = ['A261RC', 'A4002C', 'W056RC', 'A107RC', 'W271RC', 'A262RC']\n",
    "df = nipa_df(retrieve_table('T11000')['Data'], s).dropna()\n",
    "\n",
    "# Calculate indirect taxes net of transfers\n",
    "df['indirect'] = df['W056RC'] - df['A107RC']\n",
    "df = df.drop(['A107RC', 'W056RC'], axis=1)\n",
    "\n",
    "# Calculate GDI deflator from real GDI series\n",
    "deflator = rgdi['A261RX'] / df['A261RC']\n",
    "deflator = deflator / deflator.iloc[-1]\n",
    "df = df.multiply(deflator, axis=0)\n",
    "\n",
    "# Calculate contributions to growth\n",
    "dft = df.diff()\n",
    "dft = dft.div(dft['A261RC'], axis=0)\n",
    "contr = dft.multiply((((df['A261RC'].pct_change() + 1) ** 4) - 1) * 100, axis=0)\n",
    "contr.loc['1989':].to_csv(data_dir / 'gdi.csv', index_label='date')"
   ]
  },
  {
   "cell_type": "code",
   "execution_count": null,
   "metadata": {},
   "outputs": [],
   "source": []
  },
  {
   "cell_type": "code",
   "execution_count": null,
   "metadata": {},
   "outputs": [],
   "source": []
  },
  {
   "cell_type": "markdown",
   "metadata": {},
   "source": [
    "### Consumer Spending and Residential Fixed Investment"
   ]
  },
  {
   "cell_type": "code",
   "execution_count": 28,
   "metadata": {},
   "outputs": [],
   "source": [
    "s = ['DNPIRY', 'DSERRY', 'DPCERY', 'DGDSRY', 'DMOTRY',\n",
    "     'DFDHRY', 'DREQRY', 'DFXARY', 'DCLORY', 'DHLCRY',\n",
    "     'DTRSRY', 'DRCARY', 'DFSARY', 'DIFSRY', 'DHUTRY',\n",
    "     'A011RY']\n",
    "\n",
    "n = {'TOTAL': '& Total',\n",
    "     'DGDSRY': '\\cbox{red} & Goods',\n",
    "     'DMOTRY': '& \\hspace{1mm} Motor Vehicles and Parts',\n",
    "     'DFDHRY': '& \\hspace{1mm} Furniture and HH Equipment',\n",
    "     'DREQRY': '& \\hspace{1mm} Recreational Durable Goods',\n",
    "     'DFXARY': '& \\hspace{1mm} Groceries',\n",
    "     'DCLORY': '& \\hspace{1mm} Clothes and Shoes',\n",
    "     'OTHSERV': '\\cbox{blue!75!white} & Services (ex. Shelter)',\n",
    "     'DHLCRY': '& \\hspace{1mm} Health Care Services',\n",
    "     'DTRSRY': '& \\hspace{1mm} Transportation',\n",
    "     'DRCARY': '& \\hspace{1mm} Recreational',\n",
    "     'DFSARY': '& \\hspace{1mm} Food and Accommodations',\n",
    "     'DIFSRY': '& \\hspace{1mm} Financial and Insurance',\n",
    "     'SHELTER': '\\cbox{green!85!blue} & Shelter ',\n",
    "     'DHUTRY': '& \\hspace{1mm} Housing Services and Utilities ',\n",
    "     'A011RY': '& \\hspace{1mm} Residential Fixed Investment'}\n",
    "\n",
    "\n",
    "total = lambda x: x['DPCERY'] - x['DNPIRY']\n",
    "othserv = lambda x: x['DSERRY'] - x['DNPIRY'] - x['DHUTRY']\n",
    "shelter = lambda x: x['DHUTRY'] + x['A011RY']\n",
    "\n",
    "df = (nipa_df(retrieve_table('T10502')['Data'], s)\n",
    "      .assign(TOTAL = total, OTHSERV = othserv, SHELTER = shelter)\n",
    "      [list(n.keys())])\n",
    "\n",
    "# Save timseries to csv\n",
    "(df.loc['1989':, ['DGDSRY', 'OTHSERV', 'SHELTER']]\n",
    "   .to_csv(data_dir / 'pce.csv', index_label='date', float_format='%g'))\n",
    "\n",
    "# Save table\n",
    "data = df.iloc[-5:].iloc[::-1].T\n",
    "\n",
    "cols = [f'& {q.year} Q{q.quarter}' \n",
    "        if i == 0 else f'`{str(q.year)[2:]} Q{q.quarter}'\n",
    "        for i, q in enumerate(data.columns)]\n",
    "\n",
    "data.columns = cols\n",
    "data['3-year'] = df.rolling(13).mean().iloc[-1].round(2)\n",
    "data['10-year'] = df.rolling(41).mean().iloc[-1].round(2)\n",
    "data['30-year'] = df.rolling(121).mean().iloc[-1].round(2)\n",
    "data.index = data.index.map(n)\n",
    "(data.round(2).applymap('{:,.2f}'.format)\n",
    " .to_csv(data_dir / 'pce.tex', sep='&', line_terminator='\\\\\\ ', quotechar=' '))"
   ]
  },
  {
   "cell_type": "code",
   "execution_count": 31,
   "metadata": {},
   "outputs": [
    {
     "name": "stdout",
     "output_type": "stream",
     "text": [
      "These categories contributed 1.40 percentage points to GDP growth in 2019 Q4, slightly below the average contribution of 1.85 percentage points over the past three years. \n",
      "In the the fourth quarter of 2019, household spending on goods contributed 0.12 percentage points to GDP growth, household spending on services other than housing and utilities contributed 1.23 percentage points, and shelter spending and investment contributed 0.29 percentage points. Spending on health care services contributed 0.56 percentage points to GDP growth in 2019 Q4 and has contributed 0.35 percentage points, on average, over the past three years.\n"
     ]
    }
   ],
   "source": [
    "sl = [('TOTAL', 'main'), ('DGDSRY', 'main'), \n",
    "      ('OTHSERV', 'end'), ('SHELTER', 'end'), \n",
    "      ('DHLCRY', 'main')]\n",
    "\n",
    "d = {}\n",
    "\n",
    "for s, style in sl:\n",
    "    value = df[s].iloc[-1]\n",
    "    d[s] = cont_subt(value, style=style)\n",
    "\n",
    "t_3y = cont_subt(data.loc['& Total', '3-year'], 'of')\n",
    "hc_3y = cont_subt(data.loc[n['DHLCRY'], '3-year'], 'end')\n",
    "ld = dtxt(df.index[-1])['qtr1']\n",
    "ld2 = dtxt(df.index[-1])['qtr2']\n",
    "val3y = df.TOTAL.rolling(13).mean().iloc[-1].round(2)\n",
    "vallt = df.TOTAL.iloc[-1]\n",
    "\n",
    "compare = compare_text(vallt, val3y, [0.1, 0.5, 2.0])\n",
    "\n",
    "txt1 = (f'These categories {d[\"TOTAL\"]} GDP growth in {ld}, {compare} '+\n",
    "        f'the average {t_3y} over the past three years. ')\n",
    "write_txt(text_dir / 'pce1.txt', txt1)\n",
    "print(txt1)\n",
    "\n",
    "txt2 = (f'In the {ld2}, household spending on goods {d[\"DGDSRY\"]} GDP growth, '+\n",
    "         'household spending on services other than housing and utilities '+\n",
    "        f'{d[\"OTHSERV\"]}, and shelter spending and investment {d[\"SHELTER\"]}. '+\n",
    "        f'Spending on health care services {d[\"DHLCRY\"]} GDP growth in {ld} and '+\n",
    "        f'has {hc_3y}, on average, over the past three years.')\n",
    "write_txt(text_dir / 'pce2.txt', txt2)\n",
    "print(txt2)"
   ]
  },
  {
   "cell_type": "code",
   "execution_count": null,
   "metadata": {},
   "outputs": [],
   "source": []
  },
  {
   "cell_type": "code",
   "execution_count": null,
   "metadata": {},
   "outputs": [],
   "source": []
  },
  {
   "cell_type": "markdown",
   "metadata": {},
   "source": [
    "### Trade Contribution to GDP"
   ]
  },
  {
   "cell_type": "code",
   "execution_count": 16,
   "metadata": {
    "ExecuteTime": {
     "end_time": "2019-11-01T00:29:05.737386Z",
     "start_time": "2019-11-01T00:29:05.632016Z"
    }
   },
   "outputs": [],
   "source": [
    "s = ['A019RY', 'A253RY', 'A646RY', 'A255RY', 'A656RY']\n",
    "df = nipa_df(retrieve_table('T10502')['Data'], s)\n",
    "df.loc['1989':].to_csv(data_dir / 'nx.csv', index_label='date')"
   ]
  },
  {
   "cell_type": "code",
   "execution_count": 17,
   "metadata": {
    "ExecuteTime": {
     "end_time": "2019-11-01T00:29:06.359811Z",
     "start_time": "2019-11-01T00:29:06.354778Z"
    }
   },
   "outputs": [],
   "source": [
    "sl = [('A253RY', 'main'), ('A646RY', 'end'), \n",
    "      ('A255RY', 'main'), ('A656RY', 'end')]\n",
    "\n",
    "d = {}\n",
    "for s, style in sl:\n",
    "    value = df[s].iloc[-1]\n",
    "    d[s] = cont_subt(value, style=style)\n",
    "    \n",
    "ldate = dtxt(df.index[-1])['qtr2']\n",
    "\n",
    "text = (f\"Goods exports {d['A253RY']} GDP growth in {ldate} while \"+\n",
    "        f\"services exports {d['A646RY']}. Good imports {d['A255RY']} \"+\n",
    "        f\"GDP growth and services imports {d['A656RY']}.\")\n",
    "\n",
    "write_txt(text_dir / 'trade.txt', text)"
   ]
  },
  {
   "cell_type": "code",
   "execution_count": null,
   "metadata": {},
   "outputs": [],
   "source": []
  },
  {
   "cell_type": "code",
   "execution_count": null,
   "metadata": {},
   "outputs": [],
   "source": []
  },
  {
   "cell_type": "markdown",
   "metadata": {},
   "source": [
    "### Business investment"
   ]
  },
  {
   "cell_type": "code",
   "execution_count": 18,
   "metadata": {
    "ExecuteTime": {
     "end_time": "2019-11-01T00:29:09.448258Z",
     "start_time": "2019-11-01T00:29:09.373163Z"
    }
   },
   "outputs": [],
   "source": [
    "s = ['Y001RY', 'A009RY', 'Y033RY']\n",
    "\n",
    "df = nipa_df(retrieve_table('T10502')['Data'], s)\n",
    "df.loc['1989':].to_csv(data_dir / 'businv.csv', index_label='date')"
   ]
  },
  {
   "cell_type": "code",
   "execution_count": null,
   "metadata": {},
   "outputs": [],
   "source": []
  },
  {
   "cell_type": "markdown",
   "metadata": {},
   "source": [
    "### Durable goods new orders"
   ]
  },
  {
   "cell_type": "code",
   "execution_count": 5,
   "metadata": {
    "ExecuteTime": {
     "end_time": "2019-10-31T23:50:04.198769Z",
     "start_time": "2019-10-31T23:50:03.401830Z"
    }
   },
   "outputs": [],
   "source": [
    "# New orders for capital goods excluding defense or aircraft\n",
    "key = census_key\n",
    "base = 'https://api.census.gov/data/timeseries/eits/advm3'\n",
    "param = 'cell_value,time_slot_id'\n",
    "t = '&time=from+1992'\n",
    "cat = '&category_code=NXA'\n",
    "dtc = '&data_type_code=NO'\n",
    "oth = '&for=us&seasonally_adj=yes'\n",
    "\n",
    "url = f'{base}?get={param}&key={key}{cat}{dtc}{t}{oth}'\n",
    "\n",
    "r = requests.get(url).json()\n",
    "\n",
    "df = pd.DataFrame({'date': [pd.to_datetime(i[4]) for i in r[1:]], \n",
    "                   'value': [float(i[0]) for i in r[1:]]}).sort_values('date')\n",
    "\n",
    "df = df.set_index('date')\n",
    "\n",
    "gdp = nipa_df(retrieve_table('T10105')['Data'], ['A191RC'])\n",
    "\n",
    "result = ((df['value'].resample('QS').sum() * 4  / gdp['A191RC']).dropna() * 100).iloc[1:]\n",
    "(result.rename('value').loc['1989':].to_csv(data_dir / 'dgno.csv', index_label='date', header=True))\n",
    "\n",
    "node = end_node(result, 'purple!50!violet')\n",
    "write_txt(text_dir / 'dgno_node.txt', node)\n",
    "\n",
    "\n",
    "ldate = dtxt(df.index[-1])['mon1']\n",
    "date_latest = dtxt(df.index[-1])['datetime']\n",
    "month_short = df.index[-1].strftime('%b')"
   ]
  },
  {
   "cell_type": "code",
   "execution_count": 6,
   "metadata": {},
   "outputs": [
    {
     "data": {
      "text/plain": [
       "'New orders for manufactured core capital goods excluding aircraft totalled \\\\$69 billion in February 2020, equivalent to 3.8 percent of GDP (see {\\\\color{purple!50!violet}\\\\textbf{---}}). New orders decreased by 0.6 percent over the past year.'"
      ]
     },
     "execution_count": 6,
     "metadata": {},
     "output_type": "execute_result"
    }
   ],
   "source": [
    "one_yr_ch = (df.pct_change(12) * 100).dropna()['value'].iloc[-1]\n",
    "\n",
    "if one_yr_ch >= 0.1:\n",
    "    val = f'increased by {one_yr_ch:.1f} percent'\n",
    "elif one_yr_ch <= -0.1:\n",
    "    val = f'decreased by {abs(one_yr_ch):.1f} percent'\n",
    "else:\n",
    "    val = 'were virtually unchanged'\n",
    "\n",
    "text = ('New orders for manufactured core capital goods excluding aircraft '+\n",
    "        f'totalled \\${df.iloc[-1][0] / 1000:,.0f} billion in {ldate}, '+\n",
    "        f'equivalent to {result.iloc[-1]:.1f} percent of GDP '+\n",
    "        '(see {\\color{purple!50!violet}\\\\textbf{---}}). New orders '+\n",
    "        f'{val} over the past year.')\n",
    "\n",
    "write_txt(text_dir / 'dgno.txt', text)\n",
    "\n",
    "text"
   ]
  },
  {
   "cell_type": "code",
   "execution_count": 7,
   "metadata": {},
   "outputs": [],
   "source": [
    "text = ('xtick={{1992-01-01}, {1995-01-01}, {2000-01-01}, {2005-01-01}, '+\n",
    "f'{{2010-01-01}}, {{2015-01-01}}, {{{date_latest}}}}}, '+\n",
    "f'xticklabels={{`92, `95, `00, `05, `10, `15, {month_short}}}, ')\n",
    "\n",
    "text_full = ('\\\\begin{tikzpicture}'+\n",
    "'\\\\begin{axis}[\\\\bbar{y}{0}, \\dateaxisticks ytick={4, 6, 8}, width=6.5cm, height=5.4cm,'+\n",
    "'ymin=2.9, clip=false,'+\n",
    "text + \n",
    "'minor xtick={}]'+\n",
    "'\\\\rebars'+\n",
    "'\\\\thickline{purple!50!violet}{date}{value}{data/dgno.csv}'+\n",
    "'\\input{text/dgno_node.txt}'+\n",
    "'\\end{axis}'+\n",
    "'\\end{tikzpicture}')\n",
    "\n",
    "write_txt(text_dir / 'dgno.tex', text_full)"
   ]
  },
  {
   "cell_type": "code",
   "execution_count": null,
   "metadata": {},
   "outputs": [],
   "source": []
  },
  {
   "cell_type": "code",
   "execution_count": null,
   "metadata": {},
   "outputs": [],
   "source": []
  },
  {
   "cell_type": "markdown",
   "metadata": {},
   "source": [
    "### Retail sales"
   ]
  },
  {
   "cell_type": "code",
   "execution_count": 7,
   "metadata": {},
   "outputs": [],
   "source": [
    "# New orders for capital goods excluding defense or aircraft\n",
    "key = census_key\n",
    "base = 'https://api.census.gov/data/timeseries/eits/marts/'\n",
    "param = 'cell_value,time_slot_id,category_code'\n",
    "t = '&time=from+1992'\n",
    "dtc = '&data_type_code=SM'\n",
    "oth = '&for=us&seasonally_adj=yes'\n",
    "\n",
    "url = f'{base}?get={param}&key={key}{dtc}{t}{oth}'\n",
    "\n",
    "r = requests.get(url).json()"
   ]
  },
  {
   "cell_type": "code",
   "execution_count": 8,
   "metadata": {},
   "outputs": [
    {
     "data": {
      "text/plain": [
       "[['cell_value',\n",
       "  'time_slot_id',\n",
       "  'category_code',\n",
       "  'data_type_code',\n",
       "  'time',\n",
       "  'seasonally_adj',\n",
       "  'us'],\n",
       " ['146925', '505', '44000', 'SM', '1992-01', 'yes', '1'],\n",
       " ['33478', '505', '441', 'SM', '1992-01', 'yes', '1'],\n",
       " ['30167', '505', '441X', 'SM', '1992-01', 'yes', '1'],\n",
       " ['4254', '505', '442', 'SM', '1992-01', 'yes', '1'],\n",
       " ['3874', '505', '443', 'SM', '1992-01', 'yes', '1'],\n",
       " ['10845', '505', '444', 'SM', '1992-01', 'yes', '1'],\n",
       " ['30437', '505', '445', 'SM', '1992-01', 'yes', '1'],\n",
       " ['27835', '505', '4451', 'SM', '1992-01', 'yes', '1'],\n",
       " ['7421', '505', '446', 'SM', '1992-01', 'yes', '1'],\n",
       " ['12803', '505', '447', 'SM', '1992-01', 'yes', '1'],\n",
       " ['9716', '505', '448', 'SM', '1992-01', 'yes', '1'],\n",
       " ['117814', '505', '44W72', 'SM', '1992-01', 'yes', '1'],\n",
       " ['164095', '505', '44X72', 'SM', '1992-01', 'yes', '1'],\n",
       " ['130617', '505', '44Y72', 'SM', '1992-01', 'yes', '1'],\n",
       " ['151292', '505', '44Z72', 'SM', '1992-01', 'yes', '1'],\n",
       " ['3385', '505', '451', 'SM', '1992-01', 'yes', '1'],\n",
       " ['19879', '505', '452', 'SM', '1992-01', 'yes', '1'],\n",
       " ['14134', '505', '4521E', 'SM', '1992-01', 'yes', '1'],\n",
       " ['4318', '505', '453', 'SM', '1992-01', 'yes', '1'],\n",
       " ['6515', '505', '454', 'SM', '1992-01', 'yes', '1'],\n",
       " ['17170', '505', '722', 'SM', '1992-01', 'yes', '1'],\n",
       " ['147223', '506', '44000', 'SM', '1992-02', 'yes', '1'],\n",
       " ['33817', '506', '441', 'SM', '1992-02', 'yes', '1'],\n",
       " ['30457', '506', '441X', 'SM', '1992-02', 'yes', '1'],\n",
       " ['4342', '506', '442', 'SM', '1992-02', 'yes', '1'],\n",
       " ['3904', '506', '443', 'SM', '1992-02', 'yes', '1'],\n",
       " ['10904', '506', '444', 'SM', '1992-02', 'yes', '1'],\n",
       " ['30382', '506', '445', 'SM', '1992-02', 'yes', '1'],\n",
       " ['27720', '506', '4451', 'SM', '1992-02', 'yes', '1'],\n",
       " ['7425', '506', '446', 'SM', '1992-02', 'yes', '1'],\n",
       " ['12601', '506', '447', 'SM', '1992-02', 'yes', '1'],\n",
       " ['9712', '506', '448', 'SM', '1992-02', 'yes', '1'],\n",
       " ['117795', '506', '44W72', 'SM', '1992-02', 'yes', '1'],\n",
       " ['164213', '506', '44X72', 'SM', '1992-02', 'yes', '1'],\n",
       " ['130396', '506', '44Y72', 'SM', '1992-02', 'yes', '1'],\n",
       " ['151612', '506', '44Z72', 'SM', '1992-02', 'yes', '1'],\n",
       " ['3516', '506', '451', 'SM', '1992-02', 'yes', '1'],\n",
       " ['20202', '506', '452', 'SM', '1992-02', 'yes', '1'],\n",
       " ['14472', '506', '4521E', 'SM', '1992-02', 'yes', '1'],\n",
       " ['4308', '506', '453', 'SM', '1992-02', 'yes', '1'],\n",
       " ['6110', '506', '454', 'SM', '1992-02', 'yes', '1'],\n",
       " ['16990', '506', '722', 'SM', '1992-02', 'yes', '1'],\n",
       " ['146805', '507', '44000', 'SM', '1992-03', 'yes', '1'],\n",
       " ['33336', '507', '441', 'SM', '1992-03', 'yes', '1'],\n",
       " ['29891', '507', '441X', 'SM', '1992-03', 'yes', '1'],\n",
       " ['4330', '507', '442', 'SM', '1992-03', 'yes', '1'],\n",
       " ['3916', '507', '443', 'SM', '1992-03', 'yes', '1'],\n",
       " ['10986', '507', '444', 'SM', '1992-03', 'yes', '1'],\n",
       " ['30526', '507', '445', 'SM', '1992-03', 'yes', '1'],\n",
       " ['27848', '507', '4451', 'SM', '1992-03', 'yes', '1'],\n",
       " ['7443', '507', '446', 'SM', '1992-03', 'yes', '1'],\n",
       " ['12639', '507', '447', 'SM', '1992-03', 'yes', '1'],\n",
       " ['9669', '507', '448', 'SM', '1992-03', 'yes', '1'],\n",
       " ['117746', '507', '44W72', 'SM', '1992-03', 'yes', '1'],\n",
       " ['163721', '507', '44X72', 'SM', '1992-03', 'yes', '1'],\n",
       " ['130385', '507', '44Y72', 'SM', '1992-03', 'yes', '1'],\n",
       " ['151082', '507', '44Z72', 'SM', '1992-03', 'yes', '1'],\n",
       " ['3482', '507', '451', 'SM', '1992-03', 'yes', '1'],\n",
       " ['20168', '507', '452', 'SM', '1992-03', 'yes', '1'],\n",
       " ['14543', '507', '4521E', 'SM', '1992-03', 'yes', '1'],\n",
       " ['4292', '507', '453', 'SM', '1992-03', 'yes', '1'],\n",
       " ['6018', '507', '454', 'SM', '1992-03', 'yes', '1'],\n",
       " ['16916', '507', '722', 'SM', '1992-03', 'yes', '1'],\n",
       " ['148032', '508', '44000', 'SM', '1992-04', 'yes', '1'],\n",
       " ['33776', '508', '441', 'SM', '1992-04', 'yes', '1'],\n",
       " ['30361', '508', '441X', 'SM', '1992-04', 'yes', '1'],\n",
       " ['4359', '508', '442', 'SM', '1992-04', 'yes', '1'],\n",
       " ['3958', '508', '443', 'SM', '1992-04', 'yes', '1'],\n",
       " ['10738', '508', '444', 'SM', '1992-04', 'yes', '1'],\n",
       " ['30602', '508', '445', 'SM', '1992-04', 'yes', '1'],\n",
       " ['27867', '508', '4451', 'SM', '1992-04', 'yes', '1'],\n",
       " ['7516', '508', '446', 'SM', '1992-04', 'yes', '1'],\n",
       " ['12710', '508', '447', 'SM', '1992-04', 'yes', '1'],\n",
       " ['9862', '508', '448', 'SM', '1992-04', 'yes', '1'],\n",
       " ['118223', '508', '44W72', 'SM', '1992-04', 'yes', '1'],\n",
       " ['164709', '508', '44X72', 'SM', '1992-04', 'yes', '1'],\n",
       " ['130933', '508', '44Y72', 'SM', '1992-04', 'yes', '1'],\n",
       " ['151999', '508', '44Z72', 'SM', '1992-04', 'yes', '1'],\n",
       " ['3535', '508', '451', 'SM', '1992-04', 'yes', '1'],\n",
       " ['20258', '508', '452', 'SM', '1992-04', 'yes', '1'],\n",
       " ['14529', '508', '4521E', 'SM', '1992-04', 'yes', '1'],\n",
       " ['4391', '508', '453', 'SM', '1992-04', 'yes', '1'],\n",
       " ['6327', '508', '454', 'SM', '1992-04', 'yes', '1'],\n",
       " ['16677', '508', '722', 'SM', '1992-04', 'yes', '1'],\n",
       " ['149010', '509', '44000', 'SM', '1992-05', 'yes', '1'],\n",
       " ['34357', '509', '441', 'SM', '1992-05', 'yes', '1'],\n",
       " ['30847', '509', '441X', 'SM', '1992-05', 'yes', '1'],\n",
       " ['4331', '509', '442', 'SM', '1992-05', 'yes', '1'],\n",
       " ['3981', '509', '443', 'SM', '1992-05', 'yes', '1'],\n",
       " ['10777', '509', '444', 'SM', '1992-05', 'yes', '1'],\n",
       " ['30718', '509', '445', 'SM', '1992-05', 'yes', '1'],\n",
       " ['27987', '509', '4451', 'SM', '1992-05', 'yes', '1'],\n",
       " ['7458', '509', '446', 'SM', '1992-05', 'yes', '1'],\n",
       " ['12870', '509', '447', 'SM', '1992-05', 'yes', '1'],\n",
       " ['9755', '509', '448', 'SM', '1992-05', 'yes', '1'],\n",
       " ['118385', '509', '44W72', 'SM', '1992-05', 'yes', '1'],\n",
       " ['165612', '509', '44X72', 'SM', '1992-05', 'yes', '1'],\n",
       " ['131255', '509', '44Y72', 'SM', '1992-05', 'yes', '1'],\n",
       " ['152742', '509', '44Z72', 'SM', '1992-05', 'yes', '1'],\n",
       " ['3512', '509', '451', 'SM', '1992-05', 'yes', '1'],\n",
       " ['20345', '509', '452', 'SM', '1992-05', 'yes', '1'],\n",
       " ['14634', '509', '4521E', 'SM', '1992-05', 'yes', '1'],\n",
       " ['4356', '509', '453', 'SM', '1992-05', 'yes', '1'],\n",
       " ['6550', '509', '454', 'SM', '1992-05', 'yes', '1'],\n",
       " ['16602', '509', '722', 'SM', '1992-05', 'yes', '1'],\n",
       " ['149800', '510', '44000', 'SM', '1992-06', 'yes', '1'],\n",
       " ['34781', '510', '441', 'SM', '1992-06', 'yes', '1'],\n",
       " ['31260', '510', '441X', 'SM', '1992-06', 'yes', '1'],\n",
       " ['4401', '510', '442', 'SM', '1992-06', 'yes', '1'],\n",
       " ['3992', '510', '443', 'SM', '1992-06', 'yes', '1'],\n",
       " ['10790', '510', '444', 'SM', '1992-06', 'yes', '1'],\n",
       " ['30761', '510', '445', 'SM', '1992-06', 'yes', '1'],\n",
       " ['28011', '510', '4451', 'SM', '1992-06', 'yes', '1'],\n",
       " ['7417', '510', '446', 'SM', '1992-06', 'yes', '1'],\n",
       " ['12886', '510', '447', 'SM', '1992-06', 'yes', '1'],\n",
       " ['9915', '510', '448', 'SM', '1992-06', 'yes', '1'],\n",
       " ['118410', '510', '44W72', 'SM', '1992-06', 'yes', '1'],\n",
       " ['166077', '510', '44X72', 'SM', '1992-06', 'yes', '1'],\n",
       " ['131296', '510', '44Y72', 'SM', '1992-06', 'yes', '1'],\n",
       " ['153191', '510', '44Z72', 'SM', '1992-06', 'yes', '1'],\n",
       " ['3549', '510', '451', 'SM', '1992-06', 'yes', '1'],\n",
       " ['20298', '510', '452', 'SM', '1992-06', 'yes', '1'],\n",
       " ['14597', '510', '4521E', 'SM', '1992-06', 'yes', '1'],\n",
       " ['4357', '510', '453', 'SM', '1992-06', 'yes', '1'],\n",
       " ['6653', '510', '454', 'SM', '1992-06', 'yes', '1'],\n",
       " ['16277', '510', '722', 'SM', '1992-06', 'yes', '1'],\n",
       " ['150761', '511', '44000', 'SM', '1992-07', 'yes', '1'],\n",
       " ['35199', '511', '441', 'SM', '1992-07', 'yes', '1'],\n",
       " ['31729', '511', '441X', 'SM', '1992-07', 'yes', '1'],\n",
       " ['4368', '511', '442', 'SM', '1992-07', 'yes', '1'],\n",
       " ['4081', '511', '443', 'SM', '1992-07', 'yes', '1'],\n",
       " ['10785', '511', '444', 'SM', '1992-07', 'yes', '1'],\n",
       " ['30963', '511', '445', 'SM', '1992-07', 'yes', '1'],\n",
       " ['28183', '511', '4451', 'SM', '1992-07', 'yes', '1'],\n",
       " ['7292', '511', '446', 'SM', '1992-07', 'yes', '1'],\n",
       " ['12966', '511', '447', 'SM', '1992-07', 'yes', '1'],\n",
       " ['9957', '511', '448', 'SM', '1992-07', 'yes', '1'],\n",
       " ['119092', '511', '44W72', 'SM', '1992-07', 'yes', '1'],\n",
       " ['167257', '511', '44X72', 'SM', '1992-07', 'yes', '1'],\n",
       " ['132058', '511', '44Y72', 'SM', '1992-07', 'yes', '1'],\n",
       " ['154291', '511', '44Z72', 'SM', '1992-07', 'yes', '1'],\n",
       " ['3586', '511', '451', 'SM', '1992-07', 'yes', '1'],\n",
       " ['20205', '511', '452', 'SM', '1992-07', 'yes', '1'],\n",
       " ['14469', '511', '4521E', 'SM', '1992-07', 'yes', '1'],\n",
       " ['4468', '511', '453', 'SM', '1992-07', 'yes', '1'],\n",
       " ['6891', '511', '454', 'SM', '1992-07', 'yes', '1'],\n",
       " ['16496', '511', '722', 'SM', '1992-07', 'yes', '1'],\n",
       " ['151067', '512', '44000', 'SM', '1992-08', 'yes', '1'],\n",
       " ['34585', '512', '441', 'SM', '1992-08', 'yes', '1'],\n",
       " ['31124', '512', '441X', 'SM', '1992-08', 'yes', '1'],\n",
       " ['4372', '512', '442', 'SM', '1992-08', 'yes', '1'],\n",
       " ['4048', '512', '443', 'SM', '1992-08', 'yes', '1'],\n",
       " ['10915', '512', '444', 'SM', '1992-08', 'yes', '1'],\n",
       " ['31041', '512', '445', 'SM', '1992-08', 'yes', '1'],\n",
       " ['28222', '512', '4451', 'SM', '1992-08', 'yes', '1'],\n",
       " ['7508', '512', '446', 'SM', '1992-08', 'yes', '1'],\n",
       " ['13092', '512', '447', 'SM', '1992-08', 'yes', '1'],\n",
       " ['10141', '512', '448', 'SM', '1992-08', 'yes', '1'],\n",
       " ['120123', '512', '44W72', 'SM', '1992-08', 'yes', '1'],\n",
       " ['167800', '512', '44X72', 'SM', '1992-08', 'yes', '1'],\n",
       " ['133215', '512', '44Y72', 'SM', '1992-08', 'yes', '1'],\n",
       " ['154708', '512', '44Z72', 'SM', '1992-08', 'yes', '1'],\n",
       " ['3512', '512', '451', 'SM', '1992-08', 'yes', '1'],\n",
       " ['20593', '512', '452', 'SM', '1992-08', 'yes', '1'],\n",
       " ['14729', '512', '4521E', 'SM', '1992-08', 'yes', '1'],\n",
       " ['4494', '512', '453', 'SM', '1992-08', 'yes', '1'],\n",
       " ['6766', '512', '454', 'SM', '1992-08', 'yes', '1'],\n",
       " ['16733', '512', '722', 'SM', '1992-08', 'yes', '1'],\n",
       " ['152588', '513', '44000', 'SM', '1992-09', 'yes', '1'],\n",
       " ['35890', '513', '441', 'SM', '1992-09', 'yes', '1'],\n",
       " ['32369', '513', '441X', 'SM', '1992-09', 'yes', '1'],\n",
       " ['4345', '513', '442', 'SM', '1992-09', 'yes', '1'],\n",
       " ['4098', '513', '443', 'SM', '1992-09', 'yes', '1'],\n",
       " ['10980', '513', '444', 'SM', '1992-09', 'yes', '1'],\n",
       " ['30942', '513', '445', 'SM', '1992-09', 'yes', '1'],\n",
       " ['28122', '513', '4451', 'SM', '1992-09', 'yes', '1'],\n",
       " ['7420', '513', '446', 'SM', '1992-09', 'yes', '1'],\n",
       " ['13246', '513', '447', 'SM', '1992-09', 'yes', '1'],\n",
       " ['10154', '513', '448', 'SM', '1992-09', 'yes', '1'],\n",
       " ['120264', '513', '44W72', 'SM', '1992-09', 'yes', '1'],\n",
       " ['169400', '513', '44X72', 'SM', '1992-09', 'yes', '1'],\n",
       " ['133510', '513', '44Y72', 'SM', '1992-09', 'yes', '1'],\n",
       " ['156154', '513', '44Z72', 'SM', '1992-09', 'yes', '1'],\n",
       " ['3566', '513', '451', 'SM', '1992-09', 'yes', '1'],\n",
       " ['20684', '513', '452', 'SM', '1992-09', 'yes', '1'],\n",
       " ['14816', '513', '4521E', 'SM', '1992-09', 'yes', '1'],\n",
       " ['4549', '513', '453', 'SM', '1992-09', 'yes', '1'],\n",
       " ['6714', '513', '454', 'SM', '1992-09', 'yes', '1'],\n",
       " ['16812', '513', '722', 'SM', '1992-09', 'yes', '1'],\n",
       " ['153521', '514', '44000', 'SM', '1992-10', 'yes', '1'],\n",
       " ['35972', '514', '441', 'SM', '1992-10', 'yes', '1'],\n",
       " ['32396', '514', '441X', 'SM', '1992-10', 'yes', '1'],\n",
       " ['4299', '514', '442', 'SM', '1992-10', 'yes', '1'],\n",
       " ['4186', '514', '443', 'SM', '1992-10', 'yes', '1'],\n",
       " ['10971', '514', '444', 'SM', '1992-10', 'yes', '1'],\n",
       " ['31148', '514', '445', 'SM', '1992-10', 'yes', '1'],\n",
       " ['28328', '514', '4451', 'SM', '1992-10', 'yes', '1'],\n",
       " ['7535', '514', '446', 'SM', '1992-10', 'yes', '1'],\n",
       " ['13304', '514', '447', 'SM', '1992-10', 'yes', '1'],\n",
       " ['10174', '514', '448', 'SM', '1992-10', 'yes', '1'],\n",
       " ['121349', '514', '44W72', 'SM', '1992-10', 'yes', '1'],\n",
       " ['170625', '514', '44X72', 'SM', '1992-10', 'yes', '1'],\n",
       " ['134653', '514', '44Y72', 'SM', '1992-10', 'yes', '1'],\n",
       " ['157321', '514', '44Z72', 'SM', '1992-10', 'yes', '1'],\n",
       " ['3607', '514', '451', 'SM', '1992-10', 'yes', '1'],\n",
       " ['20851', '514', '452', 'SM', '1992-10', 'yes', '1'],\n",
       " ['14870', '514', '4521E', 'SM', '1992-10', 'yes', '1'],\n",
       " ['4809', '514', '453', 'SM', '1992-10', 'yes', '1'],\n",
       " ['6665', '514', '454', 'SM', '1992-10', 'yes', '1'],\n",
       " ['17104', '514', '722', 'SM', '1992-10', 'yes', '1'],\n",
       " ['153583', '515', '44000', 'SM', '1992-11', 'yes', '1'],\n",
       " ['35928', '515', '441', 'SM', '1992-11', 'yes', '1'],\n",
       " ['32336', '515', '441X', 'SM', '1992-11', 'yes', '1'],\n",
       " ['4368', '515', '442', 'SM', '1992-11', 'yes', '1'],\n",
       " ['4118', '515', '443', 'SM', '1992-11', 'yes', '1'],\n",
       " ['10873', '515', '444', 'SM', '1992-11', 'yes', '1'],\n",
       " ['30992', '515', '445', 'SM', '1992-11', 'yes', '1'],\n",
       " ['28184', '515', '4451', 'SM', '1992-11', 'yes', '1'],\n",
       " ['7497', '515', '446', 'SM', '1992-11', 'yes', '1'],\n",
       " ['13358', '515', '447', 'SM', '1992-11', 'yes', '1'],\n",
       " ['10076', '515', '448', 'SM', '1992-11', 'yes', '1'],\n",
       " ['121717', '515', '44W72', 'SM', '1992-11', 'yes', '1'],\n",
       " ['171003', '515', '44X72', 'SM', '1992-11', 'yes', '1'],\n",
       " ['135075', '515', '44Y72', 'SM', '1992-11', 'yes', '1'],\n",
       " ['157645', '515', '44Z72', 'SM', '1992-11', 'yes', '1'],\n",
       " ['3626', '515', '451', 'SM', '1992-11', 'yes', '1'],\n",
       " ['21078', '515', '452', 'SM', '1992-11', 'yes', '1'],\n",
       " ['14994', '515', '4521E', 'SM', '1992-11', 'yes', '1'],\n",
       " ['5059', '515', '453', 'SM', '1992-11', 'yes', '1'],\n",
       " ['6610', '515', '454', 'SM', '1992-11', 'yes', '1'],\n",
       " ['17420', '515', '722', 'SM', '1992-11', 'yes', '1'],\n",
       " ['155614', '516', '44000', 'SM', '1992-12', 'yes', '1'],\n",
       " ['36272', '516', '441', 'SM', '1992-12', 'yes', '1'],\n",
       " ['32693', '516', '441X', 'SM', '1992-12', 'yes', '1'],\n",
       " ['4428', '516', '442', 'SM', '1992-12', 'yes', '1'],\n",
       " ['4248', '516', '443', 'SM', '1992-12', 'yes', '1'],\n",
       " ['11082', '516', '444', 'SM', '1992-12', 'yes', '1'],\n",
       " ['31057', '516', '445', 'SM', '1992-12', 'yes', '1'],\n",
       " ['28233', '516', '4451', 'SM', '1992-12', 'yes', '1'],\n",
       " ['7526', '516', '446', 'SM', '1992-12', 'yes', '1'],\n",
       " ['13475', '516', '447', 'SM', '1992-12', 'yes', '1'],\n",
       " ['10318', '516', '448', 'SM', '1992-12', 'yes', '1'],\n",
       " ['123358', '516', '44W72', 'SM', '1992-12', 'yes', '1'],\n",
       " ['173105', '516', '44X72', 'SM', '1992-12', 'yes', '1'],\n",
       " ['136833', '516', '44Y72', 'SM', '1992-12', 'yes', '1'],\n",
       " ['159630', '516', '44Z72', 'SM', '1992-12', 'yes', '1'],\n",
       " ['3800', '516', '451', 'SM', '1992-12', 'yes', '1'],\n",
       " ['21752', '516', '452', 'SM', '1992-12', 'yes', '1'],\n",
       " ['15310', '516', '4521E', 'SM', '1992-12', 'yes', '1'],\n",
       " ['5059', '516', '453', 'SM', '1992-12', 'yes', '1'],\n",
       " ['6597', '516', '454', 'SM', '1992-12', 'yes', '1'],\n",
       " ['17491', '516', '722', 'SM', '1992-12', 'yes', '1'],\n",
       " ['157555', '517', '44000', 'SM', '1993-01', 'yes', '1'],\n",
       " ['37621', '517', '441', 'SM', '1993-01', 'yes', '1'],\n",
       " ['34021', '517', '441X', 'SM', '1993-01', 'yes', '1'],\n",
       " ['4637', '517', '442', 'SM', '1993-01', 'yes', '1'],\n",
       " ['4395', '517', '443', 'SM', '1993-01', 'yes', '1'],\n",
       " ['11333', '517', '444', 'SM', '1993-01', 'yes', '1'],\n",
       " ['31045', '517', '445', 'SM', '1993-01', 'yes', '1'],\n",
       " ['28220', '517', '4451', 'SM', '1993-01', 'yes', '1'],\n",
       " ['7518', '517', '446', 'SM', '1993-01', 'yes', '1'],\n",
       " ['13398', '517', '447', 'SM', '1993-01', 'yes', '1'],\n",
       " ['10581', '517', '448', 'SM', '1993-01', 'yes', '1'],\n",
       " ['124089', '517', '44W72', 'SM', '1993-01', 'yes', '1'],\n",
       " ['175108', '517', '44X72', 'SM', '1993-01', 'yes', '1'],\n",
       " ['137487', '517', '44Y72', 'SM', '1993-01', 'yes', '1'],\n",
       " ['161710', '517', '44Z72', 'SM', '1993-01', 'yes', '1'],\n",
       " ['3648', '517', '451', 'SM', '1993-01', 'yes', '1'],\n",
       " ['21383', '517', '452', 'SM', '1993-01', 'yes', '1'],\n",
       " ['15334', '517', '4521E', 'SM', '1993-01', 'yes', '1'],\n",
       " ['5352', '517', '453', 'SM', '1993-01', 'yes', '1'],\n",
       " ['6644', '517', '454', 'SM', '1993-01', 'yes', '1'],\n",
       " ['17553', '517', '722', 'SM', '1993-01', 'yes', '1'],\n",
       " ['156266', '518', '44000', 'SM', '1993-02', 'yes', '1'],\n",
       " ['36723', '518', '441', 'SM', '1993-02', 'yes', '1'],\n",
       " ['33087', '518', '441X', 'SM', '1993-02', 'yes', '1'],\n",
       " ['4507', '518', '442', 'SM', '1993-02', 'yes', '1'],\n",
       " ['4343', '518', '443', 'SM', '1993-02', 'yes', '1'],\n",
       " ['11410', '518', '444', 'SM', '1993-02', 'yes', '1'],\n",
       " ['31233', '518', '445', 'SM', '1993-02', 'yes', '1'],\n",
       " ['28419', '518', '4451', 'SM', '1993-02', 'yes', '1'],\n",
       " ['7651', '518', '446', 'SM', '1993-02', 'yes', '1'],\n",
       " ['13596', '518', '447', 'SM', '1993-02', 'yes', '1'],\n",
       " ['10150', '518', '448', 'SM', '1993-02', 'yes', '1'],\n",
       " ['123425', '518', '44W72', 'SM', '1993-02', 'yes', '1'],\n",
       " ['173744', '518', '44X72', 'SM', '1993-02', 'yes', '1'],\n",
       " ['137021', '518', '44Y72', 'SM', '1993-02', 'yes', '1'],\n",
       " ['160148', '518', '44Z72', 'SM', '1993-02', 'yes', '1'],\n",
       " ['3585', '518', '451', 'SM', '1993-02', 'yes', '1'],\n",
       " ['21392', '518', '452', 'SM', '1993-02', 'yes', '1'],\n",
       " ['15119', '518', '4521E', 'SM', '1993-02', 'yes', '1'],\n",
       " ['4896', '518', '453', 'SM', '1993-02', 'yes', '1'],\n",
       " ['6780', '518', '454', 'SM', '1993-02', 'yes', '1'],\n",
       " ['17478', '518', '722', 'SM', '1993-02', 'yes', '1'],\n",
       " ['154752', '519', '44000', 'SM', '1993-03', 'yes', '1'],\n",
       " ['35955', '519', '441', 'SM', '1993-03', 'yes', '1'],\n",
       " ['32430', '519', '441X', 'SM', '1993-03', 'yes', '1'],\n",
       " ['4463', '519', '442', 'SM', '1993-03', 'yes', '1'],\n",
       " ['4383', '519', '443', 'SM', '1993-03', 'yes', '1'],\n",
       " ['11184', '519', '444', 'SM', '1993-03', 'yes', '1'],\n",
       " ['31058', '519', '445', 'SM', '1993-03', 'yes', '1'],\n",
       " ['28307', '519', '4451', 'SM', '1993-03', 'yes', '1'],\n",
       " ['7605', '519', '446', 'SM', '1993-03', 'yes', '1'],\n",
       " ['13487', '519', '447', 'SM', '1993-03', 'yes', '1'],\n",
       " ['9916', '519', '448', 'SM', '1993-03', 'yes', '1'],\n",
       " ['122864', '519', '44W72', 'SM', '1993-03', 'yes', '1'],\n",
       " ['172306', '519', '44X72', 'SM', '1993-03', 'yes', '1'],\n",
       " ['136351', '519', '44Y72', 'SM', '1993-03', 'yes', '1'],\n",
       " ['158819', '519', '44Z72', 'SM', '1993-03', 'yes', '1'],\n",
       " ['3608', '519', '451', 'SM', '1993-03', 'yes', '1'],\n",
       " ['21273', '519', '452', 'SM', '1993-03', 'yes', '1'],\n",
       " ['14985', '519', '4521E', 'SM', '1993-03', 'yes', '1'],\n",
       " ['4811', '519', '453', 'SM', '1993-03', 'yes', '1'],\n",
       " ['7009', '519', '454', 'SM', '1993-03', 'yes', '1'],\n",
       " ['17554', '519', '722', 'SM', '1993-03', 'yes', '1'],\n",
       " ['158979', '520', '44000', 'SM', '1993-04', 'yes', '1'],\n",
       " ['38521', '520', '441', 'SM', '1993-04', 'yes', '1'],\n",
       " ['34849', '520', '441X', 'SM', '1993-04', 'yes', '1'],\n",
       " ['4564', '520', '442', 'SM', '1993-04', 'yes', '1'],\n",
       " ['4460', '520', '443', 'SM', '1993-04', 'yes', '1'],\n",
       " ['11417', '520', '444', 'SM', '1993-04', 'yes', '1'],\n",
       " ['31129', '520', '445', 'SM', '1993-04', 'yes', '1'],\n",
       " ['28367', '520', '4451', 'SM', '1993-04', 'yes', '1'],\n",
       " ['7683', '520', '446', 'SM', '1993-04', 'yes', '1'],\n",
       " ['13539', '520', '447', 'SM', '1993-04', 'yes', '1'],\n",
       " ['10257', '520', '448', 'SM', '1993-04', 'yes', '1'],\n",
       " ['124689', '520', '44W72', 'SM', '1993-04', 'yes', '1'],\n",
       " ['176749', '520', '44X72', 'SM', '1993-04', 'yes', '1'],\n",
       " ['138228', '520', '44Y72', 'SM', '1993-04', 'yes', '1'],\n",
       " ['163210', '520', '44Z72', 'SM', '1993-04', 'yes', '1'],\n",
       " ['3749', '520', '451', 'SM', '1993-04', 'yes', '1'],\n",
       " ['21759', '520', '452', 'SM', '1993-04', 'yes', '1'],\n",
       " ['15406', '520', '4521E', 'SM', '1993-04', 'yes', '1'],\n",
       " ['5033', '520', '453', 'SM', '1993-04', 'yes', '1'],\n",
       " ['6868', '520', '454', 'SM', '1993-04', 'yes', '1'],\n",
       " ['17770', '520', '722', 'SM', '1993-04', 'yes', '1'],\n",
       " ['160605', '521', '44000', 'SM', '1993-05', 'yes', '1'],\n",
       " ['39006', '521', '441', 'SM', '1993-05', 'yes', '1'],\n",
       " ['35267', '521', '441X', 'SM', '1993-05', 'yes', '1'],\n",
       " ['4642', '521', '442', 'SM', '1993-05', 'yes', '1'],\n",
       " ['4485', '521', '443', 'SM', '1993-05', 'yes', '1'],\n",
       " ['11720', '521', '444', 'SM', '1993-05', 'yes', '1'],\n",
       " ['31164', '521', '445', 'SM', '1993-05', 'yes', '1'],\n",
       " ['28386', '521', '4451', 'SM', '1993-05', 'yes', '1'],\n",
       " ['7666', '521', '446', 'SM', '1993-05', 'yes', '1'],\n",
       " ['13521', '521', '447', 'SM', '1993-05', 'yes', '1'],\n",
       " ['10386', '521', '448', 'SM', '1993-05', 'yes', '1'],\n",
       " ['125899', '521', '44W72', 'SM', '1993-05', 'yes', '1'],\n",
       " ['178426', '521', '44X72', 'SM', '1993-05', 'yes', '1'],\n",
       " ['139420', '521', '44Y72', 'SM', '1993-05', 'yes', '1'],\n",
       " ['164905', '521', '44Z72', 'SM', '1993-05', 'yes', '1'],\n",
       " ['3746', '521', '451', 'SM', '1993-05', 'yes', '1'],\n",
       " ['21993', '521', '452', 'SM', '1993-05', 'yes', '1'],\n",
       " ['15523', '521', '4521E', 'SM', '1993-05', 'yes', '1'],\n",
       " ['4967', '521', '453', 'SM', '1993-05', 'yes', '1'],\n",
       " ['7309', '521', '454', 'SM', '1993-05', 'yes', '1'],\n",
       " ['17821', '521', '722', 'SM', '1993-05', 'yes', '1'],\n",
       " ['160127', '522', '44000', 'SM', '1993-06', 'yes', '1'],\n",
       " ['38892', '522', '441', 'SM', '1993-06', 'yes', '1'],\n",
       " ['35171', '522', '441X', 'SM', '1993-06', 'yes', '1'],\n",
       " ['4609', '522', '442', 'SM', '1993-06', 'yes', '1'],\n",
       " ['4567', '522', '443', 'SM', '1993-06', 'yes', '1'],\n",
       " ['11669', '522', '444', 'SM', '1993-06', 'yes', '1'],\n",
       " ['31168', '522', '445', 'SM', '1993-06', 'yes', '1'],\n",
       " ['28377', '522', '4451', 'SM', '1993-06', 'yes', '1'],\n",
       " ['7680', '522', '446', 'SM', '1993-06', 'yes', '1'],\n",
       " ['13461', '522', '447', 'SM', '1993-06', 'yes', '1'],\n",
       " ['10411', '522', '448', 'SM', '1993-06', 'yes', '1'],\n",
       " ['125804', '522', '44W72', 'SM', '1993-06', 'yes', '1'],\n",
       " ['178157', '522', '44X72', 'SM', '1993-06', 'yes', '1'],\n",
       " ['139265', '522', '44Y72', 'SM', '1993-06', 'yes', '1'],\n",
       " ['164696', '522', '44Z72', 'SM', '1993-06', 'yes', '1'],\n",
       " ['3702', '522', '451', 'SM', '1993-06', 'yes', '1'],\n",
       " ['21957', '522', '452', 'SM', '1993-06', 'yes', '1'],\n",
       " ['15517', '522', '4521E', 'SM', '1993-06', 'yes', '1'],\n",
       " ['5153', '522', '453', 'SM', '1993-06', 'yes', '1'],\n",
       " ['6858', '522', '454', 'SM', '1993-06', 'yes', '1'],\n",
       " ['18030', '522', '722', 'SM', '1993-06', 'yes', '1'],\n",
       " ['162816', '523', '44000', 'SM', '1993-07', 'yes', '1'],\n",
       " ['40290', '523', '441', 'SM', '1993-07', 'yes', '1'],\n",
       " ['36479', '523', '441X', 'SM', '1993-07', 'yes', '1'],\n",
       " ['4640', '523', '442', 'SM', '1993-07', 'yes', '1'],\n",
       " ['4642', '523', '443', 'SM', '1993-07', 'yes', '1'],\n",
       " ['11781', '523', '444', 'SM', '1993-07', 'yes', '1'],\n",
       " ['31349', '523', '445', 'SM', '1993-07', 'yes', '1'],\n",
       " ['28554', '523', '4451', 'SM', '1993-07', 'yes', '1'],\n",
       " ['7756', '523', '446', 'SM', '1993-07', 'yes', '1'],\n",
       " ['13502', '523', '447', 'SM', '1993-07', 'yes', '1'],\n",
       " ['10593', '523', '448', 'SM', '1993-07', 'yes', '1'],\n",
       " ['126951', '523', '44W72', 'SM', '1993-07', 'yes', '1'],\n",
       " ['180743', '523', '44X72', 'SM', '1993-07', 'yes', '1'],\n",
       " ['140453', '523', '44Y72', 'SM', '1993-07', 'yes', '1'],\n",
       " ['167241', '523', '44Z72', 'SM', '1993-07', 'yes', '1'],\n",
       " ['3810', '523', '451', 'SM', '1993-07', 'yes', '1'],\n",
       " ['22343', '523', '452', 'SM', '1993-07', 'yes', '1'],\n",
       " ['15757', '523', '4521E', 'SM', '1993-07', 'yes', '1'],\n",
       " ['5064', '523', '453', 'SM', '1993-07', 'yes', '1'],\n",
       " ['7046', '523', '454', 'SM', '1993-07', 'yes', '1'],\n",
       " ['17927', '523', '722', 'SM', '1993-07', 'yes', '1'],\n",
       " ['162506', '524', '44000', 'SM', '1993-08', 'yes', '1'],\n",
       " ['40504', '524', '441', 'SM', '1993-08', 'yes', '1'],\n",
       " ['36689', '524', '441X', 'SM', '1993-08', 'yes', '1'],\n",
       " ['4645', '524', '442', 'SM', '1993-08', 'yes', '1'],\n",
       " ['4667', '524', '443', 'SM', '1993-08', 'yes', '1'],\n",
       " ['11875', '524', '444', 'SM', '1993-08', 'yes', '1'],\n",
       " ['31126', '524', '445', 'SM', '1993-08', 'yes', '1'],\n",
       " ['28357', '524', '4451', 'SM', '1993-08', 'yes', '1'],\n",
       " ['7678', '524', '446', 'SM', '1993-08', 'yes', '1'],\n",
       " ['13372', '524', '447', 'SM', '1993-08', 'yes', '1'],\n",
       " ['10406', '524', '448', 'SM', '1993-08', 'yes', '1'],\n",
       " ['126831', '524', '44W72', 'SM', '1993-08', 'yes', '1'],\n",
       " ['180707', '524', '44X72', 'SM', '1993-08', 'yes', '1'],\n",
       " ['140203', '524', '44Y72', 'SM', '1993-08', 'yes', '1'],\n",
       " ['167335', '524', '44Z72', 'SM', '1993-08', 'yes', '1'],\n",
       " ['3804', '524', '451', 'SM', '1993-08', 'yes', '1'],\n",
       " ['22315', '524', '452', 'SM', '1993-08', 'yes', '1'],\n",
       " ['15775', '524', '4521E', 'SM', '1993-08', 'yes', '1'],\n",
       " ['5115', '524', '453', 'SM', '1993-08', 'yes', '1'],\n",
       " ['6999', '524', '454', 'SM', '1993-08', 'yes', '1'],\n",
       " ['18201', '524', '722', 'SM', '1993-08', 'yes', '1'],\n",
       " ['163258', '525', '44000', 'SM', '1993-09', 'yes', '1'],\n",
       " ['40203', '525', '441', 'SM', '1993-09', 'yes', '1'],\n",
       " ['36342', '525', '441X', 'SM', '1993-09', 'yes', '1'],\n",
       " ['4640', '525', '442', 'SM', '1993-09', 'yes', '1'],\n",
       " ['4729', '525', '443', 'SM', '1993-09', 'yes', '1'],\n",
       " ['11786', '525', '444', 'SM', '1993-09', 'yes', '1'],\n",
       " ['31201', '525', '445', 'SM', '1993-09', 'yes', '1'],\n",
       " ['28478', '525', '4451', 'SM', '1993-09', 'yes', '1'],\n",
       " ['7772', '525', '446', 'SM', '1993-09', 'yes', '1'],\n",
       " ['13416', '525', '447', 'SM', '1993-09', 'yes', '1'],\n",
       " ['10549', '525', '448', 'SM', '1993-09', 'yes', '1'],\n",
       " ['128154', '525', '44W72', 'SM', '1993-09', 'yes', '1'],\n",
       " ['181773', '525', '44X72', 'SM', '1993-09', 'yes', '1'],\n",
       " ['141570', '525', '44Y72', 'SM', '1993-09', 'yes', '1'],\n",
       " ['168357', '525', '44Z72', 'SM', '1993-09', 'yes', '1'],\n",
       " ['3825', '525', '451', 'SM', '1993-09', 'yes', '1'],\n",
       " ['22429', '525', '452', 'SM', '1993-09', 'yes', '1'],\n",
       " ['15785', '525', '4521E', 'SM', '1993-09', 'yes', '1'],\n",
       " ['5222', '525', '453', 'SM', '1993-09', 'yes', '1'],\n",
       " ['7486', '525', '454', 'SM', '1993-09', 'yes', '1'],\n",
       " ['18515', '525', '722', 'SM', '1993-09', 'yes', '1'],\n",
       " ['164685', '526', '44000', 'SM', '1993-10', 'yes', '1'],\n",
       " ['40857', '526', '441', 'SM', '1993-10', 'yes', '1'],\n",
       " ['37020', '526', '441X', 'SM', '1993-10', 'yes', '1'],\n",
       " ['4663', '526', '442', 'SM', '1993-10', 'yes', '1'],\n",
       " ['4710', '526', '443', 'SM', '1993-10', 'yes', '1'],\n",
       " ['11908', '526', '444', 'SM', '1993-10', 'yes', '1'],\n",
       " ['31346', '526', '445', 'SM', '1993-10', 'yes', '1'],\n",
       " ['28618', '526', '4451', 'SM', '1993-10', 'yes', '1'],\n",
       " ['7758', '526', '446', 'SM', '1993-10', 'yes', '1'],\n",
       " ['13755', '526', '447', 'SM', '1993-10', 'yes', '1'],\n",
       " ['10449', '526', '448', 'SM', '1993-10', 'yes', '1'],\n",
       " ['128272', '526', '44W72', 'SM', '1993-10', 'yes', '1'],\n",
       " ['182884', '526', '44X72', 'SM', '1993-10', 'yes', '1'],\n",
       " ['142027', '526', '44Y72', 'SM', '1993-10', 'yes', '1'],\n",
       " ['169129', '526', '44Z72', 'SM', '1993-10', 'yes', '1'],\n",
       " ['3817', '526', '451', 'SM', '1993-10', 'yes', '1'],\n",
       " ['22647', '526', '452', 'SM', '1993-10', 'yes', '1'],\n",
       " ['15985', '526', '4521E', 'SM', '1993-10', 'yes', '1'],\n",
       " ['5432', '526', '453', 'SM', '1993-10', 'yes', '1'],\n",
       " ['7343', '526', '454', 'SM', '1993-10', 'yes', '1'],\n",
       " ['18199', '526', '722', 'SM', '1993-10', 'yes', '1'],\n",
       " ['166594', '527', '44000', 'SM', '1993-11', 'yes', '1'],\n",
       " ['42077', '527', '441', 'SM', '1993-11', 'yes', '1'],\n",
       " ['38267', '527', '441X', 'SM', '1993-11', 'yes', '1'],\n",
       " ['4693', '527', '442', 'SM', '1993-11', 'yes', '1'],\n",
       " ['4741', '527', '443', 'SM', '1993-11', 'yes', '1'],\n",
       " ['12297', '527', '444', 'SM', '1993-11', 'yes', '1'],\n",
       " ['31363', '527', '445', 'SM', '1993-11', 'yes', '1'],\n",
       " ['28625', '527', '4451', 'SM', '1993-11', 'yes', '1'],\n",
       " ['7784', '527', '446', 'SM', '1993-11', 'yes', '1'],\n",
       " ['13754', '527', '447', 'SM', '1993-11', 'yes', '1'],\n",
       " ['10475', '527', '448', 'SM', '1993-11', 'yes', '1'],\n",
       " ['128916', '527', '44W72', 'SM', '1993-11', 'yes', '1'],\n",
       " ['184747', '527', '44X72', 'SM', '1993-11', 'yes', '1'],\n",
       " ['142670', '527', '44Y72', 'SM', '1993-11', 'yes', '1'],\n",
       " ['170993', '527', '44Z72', 'SM', '1993-11', 'yes', '1'],\n",
       " ['3930', '527', '451', 'SM', '1993-11', 'yes', '1'],\n",
       " ['22760', '527', '452', 'SM', '1993-11', 'yes', '1'],\n",
       " ['15987', '527', '4521E', 'SM', '1993-11', 'yes', '1'],\n",
       " ['5159', '527', '453', 'SM', '1993-11', 'yes', '1'],\n",
       " ['7561', '527', '454', 'SM', '1993-11', 'yes', '1'],\n",
       " ['18153', '527', '722', 'SM', '1993-11', 'yes', '1'],\n",
       " ['168161', '528', '44000', 'SM', '1993-12', 'yes', '1'],\n",
       " ['42796', '528', '441', 'SM', '1993-12', 'yes', '1'],\n",
       " ['39035', '528', '441X', 'SM', '1993-12', 'yes', '1'],\n",
       " ['4693', '528', '442', 'SM', '1993-12', 'yes', '1'],\n",
       " ['4794', '528', '443', 'SM', '1993-12', 'yes', '1'],\n",
       " ['12583', '528', '444', 'SM', '1993-12', 'yes', '1'],\n",
       " ['31499', '528', '445', 'SM', '1993-12', 'yes', '1'],\n",
       " ['28773', '528', '4451', 'SM', '1993-12', 'yes', '1'],\n",
       " ['7989', '528', '446', 'SM', '1993-12', 'yes', '1'],\n",
       " ['13627', '528', '447', 'SM', '1993-12', 'yes', '1'],\n",
       " ['10442', '528', '448', 'SM', '1993-12', 'yes', '1'],\n",
       " ['129976', '528', '44W72', 'SM', '1993-12', 'yes', '1'],\n",
       " ['186399', '528', '44X72', 'SM', '1993-12', 'yes', '1'],\n",
       " ['143603', '528', '44Y72', 'SM', '1993-12', 'yes', '1'],\n",
       " ['172772', '528', '44Z72', 'SM', '1993-12', 'yes', '1'],\n",
       " ['4018', '528', '451', 'SM', '1993-12', 'yes', '1'],\n",
       " ['22905', '528', '452', 'SM', '1993-12', 'yes', '1'],\n",
       " ['15988', '528', '4521E', 'SM', '1993-12', 'yes', '1'],\n",
       " ['5377', '528', '453', 'SM', '1993-12', 'yes', '1'],\n",
       " ['7438', '528', '454', 'SM', '1993-12', 'yes', '1'],\n",
       " ['18238', '528', '722', 'SM', '1993-12', 'yes', '1'],\n",
       " ['167518', '529', '44000', 'SM', '1994-01', 'yes', '1'],\n",
       " ['42660', '529', '441', 'SM', '1994-01', 'yes', '1'],\n",
       " ['38676', '529', '441X', 'SM', '1994-01', 'yes', '1'],\n",
       " ['4571', '529', '442', 'SM', '1994-01', 'yes', '1'],\n",
       " ['4837', '529', '443', 'SM', '1994-01', 'yes', '1'],\n",
       " ['12316', '529', '444', 'SM', '1994-01', 'yes', '1'],\n",
       " ['31468', '529', '445', 'SM', '1994-01', 'yes', '1'],\n",
       " ['28722', '529', '4451', 'SM', '1994-01', 'yes', '1'],\n",
       " ['7865', '529', '446', 'SM', '1994-01', 'yes', '1'],\n",
       " ['13656', '529', '447', 'SM', '1994-01', 'yes', '1'],\n",
       " ['10450', '529', '448', 'SM', '1994-01', 'yes', '1'],\n",
       " ['128826', '529', '44W72', 'SM', '1994-01', 'yes', '1'],\n",
       " ['185142', '529', '44X72', 'SM', '1994-01', 'yes', '1'],\n",
       " ['142482', '529', '44Y72', 'SM', '1994-01', 'yes', '1'],\n",
       " ['171486', '529', '44Z72', 'SM', '1994-01', 'yes', '1'],\n",
       " ['3981', '529', '451', 'SM', '1994-01', 'yes', '1'],\n",
       " ['22706', '529', '452', 'SM', '1994-01', 'yes', '1'],\n",
       " ['16036', '529', '4521E', 'SM', '1994-01', 'yes', '1'],\n",
       " ['5288', '529', '453', 'SM', '1994-01', 'yes', '1'],\n",
       " ['7720', '529', '454', 'SM', '1994-01', 'yes', '1'],\n",
       " ['17624', '529', '722', 'SM', '1994-01', 'yes', '1'],\n",
       " ['169649', '530', '44000', 'SM', '1994-02', 'yes', '1'],\n",
       " ['43685', '530', '441', 'SM', '1994-02', 'yes', '1'],\n",
       " ['39648', '530', '441X', 'SM', '1994-02', 'yes', '1'],\n",
       " ['4775', '530', '442', 'SM', '1994-02', 'yes', '1'],\n",
       " ['4949', '530', '443', 'SM', '1994-02', 'yes', '1'],\n",
       " ['12233', '530', '444', 'SM', '1994-02', 'yes', '1'],\n",
       " ['31688', '530', '445', 'SM', '1994-02', 'yes', '1'],\n",
       " ['28923', '530', '4451', 'SM', '1994-02', 'yes', '1'],\n",
       " ['7729', '530', '446', 'SM', '1994-02', 'yes', '1'],\n",
       " ['13875', '530', '447', 'SM', '1994-02', 'yes', '1'],\n",
       " ['10587', '530', '448', 'SM', '1994-02', 'yes', '1'],\n",
       " ['130514', '530', '44W72', 'SM', '1994-02', 'yes', '1'],\n",
       " ['188074', '530', '44X72', 'SM', '1994-02', 'yes', '1'],\n",
       " ['144389', '530', '44Y72', 'SM', '1994-02', 'yes', '1'],\n",
       " ['174199', '530', '44Z72', 'SM', '1994-02', 'yes', '1'],\n",
       " ['4095', '530', '451', 'SM', '1994-02', 'yes', '1'],\n",
       " ['23070', '530', '452', 'SM', '1994-02', 'yes', '1'],\n",
       " ['16203', '530', '4521E', 'SM', '1994-02', 'yes', '1'],\n",
       " ['5282', '530', '453', 'SM', '1994-02', 'yes', '1'],\n",
       " ['7681', '530', '454', 'SM', '1994-02', 'yes', '1'],\n",
       " ['18425', '530', '722', 'SM', '1994-02', 'yes', '1'],\n",
       " ['172766', '531', '44000', 'SM', '1994-03', 'yes', '1'],\n",
       " ['44475', '531', '441', 'SM', '1994-03', 'yes', '1'],\n",
       " ['40435', '531', '441X', 'SM', '1994-03', 'yes', '1'],\n",
       " ['4910', '531', '442', 'SM', '1994-03', 'yes', '1'],\n",
       " ['5052', '531', '443', 'SM', '1994-03', 'yes', '1'],\n",
       " ['12767', '531', '444', 'SM', '1994-03', 'yes', '1'],\n",
       " ['31700', '531', '445', 'SM', '1994-03', 'yes', '1'],\n",
       " ['28914', '531', '4451', 'SM', '1994-03', 'yes', '1'],\n",
       " ['7911', '531', '446', 'SM', '1994-03', 'yes', '1'],\n",
       " ['13911', '531', '447', 'SM', '1994-03', 'yes', '1'],\n",
       " ['10806', '531', '448', 'SM', '1994-03', 'yes', '1'],\n",
       " ['133193', '531', '44W72', 'SM', '1994-03', 'yes', '1'],\n",
       " ['191579', '531', '44X72', 'SM', '1994-03', 'yes', '1'],\n",
       " ['147104', '531', '44Y72', 'SM', '1994-03', 'yes', '1'],\n",
       " ['177668', '531', '44Z72', 'SM', '1994-03', 'yes', '1'],\n",
       " ['4131', '531', '451', 'SM', '1994-03', 'yes', '1'],\n",
       " ['23657', '531', '452', 'SM', '1994-03', 'yes', '1'],\n",
       " ['16663', '531', '4521E', 'SM', '1994-03', 'yes', '1'],\n",
       " ['5593', '531', '453', 'SM', '1994-03', 'yes', '1'],\n",
       " ['7853', '531', '454', 'SM', '1994-03', 'yes', '1'],\n",
       " ['18813', '531', '722', 'SM', '1994-03', 'yes', '1'],\n",
       " ['173106', '532', '44000', 'SM', '1994-04', 'yes', '1'],\n",
       " ['45072', '532', '441', 'SM', '1994-04', 'yes', '1'],\n",
       " ['40972', '532', '441X', 'SM', '1994-04', 'yes', '1'],\n",
       " ['4916', '532', '442', 'SM', '1994-04', 'yes', '1'],\n",
       " ['5090', '532', '443', 'SM', '1994-04', 'yes', '1'],\n",
       " ['13076', '532', '444', 'SM', '1994-04', 'yes', '1'],\n",
       " ['31899', '532', '445', 'SM', '1994-04', 'yes', '1'],\n",
       " ['29111', '532', '4451', 'SM', '1994-04', 'yes', '1'],\n",
       " ['7838', '532', '446', 'SM', '1994-04', 'yes', '1'],\n",
       " ['13867', '532', '447', 'SM', '1994-04', 'yes', '1'],\n",
       " ['10554', '532', '448', 'SM', '1994-04', 'yes', '1'],\n",
       " ['132700', '532', '44W72', 'SM', '1994-04', 'yes', '1'],\n",
       " ['191639', '532', '44X72', 'SM', '1994-04', 'yes', '1'],\n",
       " ['146567', '532', '44Y72', 'SM', '1994-04', 'yes', '1'],\n",
       " ['177772', '532', '44Z72', 'SM', '1994-04', 'yes', '1'],\n",
       " ['4035', '532', '451', 'SM', '1994-04', 'yes', '1'],\n",
       " ['23354', '532', '452', 'SM', '1994-04', 'yes', '1'],\n",
       " ['16337', '532', '4521E', 'SM', '1994-04', 'yes', '1'],\n",
       " ['5464', '532', '453', 'SM', '1994-04', 'yes', '1'],\n",
       " ['7941', '532', '454', 'SM', '1994-04', 'yes', '1'],\n",
       " ['18533', '532', '722', 'SM', '1994-04', 'yes', '1'],\n",
       " ['172329', '533', '44000', 'SM', '1994-05', 'yes', '1'],\n",
       " ['44098', '533', '441', 'SM', '1994-05', 'yes', '1'],\n",
       " ['40081', '533', '441X', 'SM', '1994-05', 'yes', '1'],\n",
       " ['4971', '533', '442', 'SM', '1994-05', 'yes', '1'],\n",
       " ['5185', '533', '443', 'SM', '1994-05', 'yes', '1'],\n",
       " ['13033', '533', '444', 'SM', '1994-05', 'yes', '1'],\n",
       " ['31858', '533', '445', 'SM', '1994-05', 'yes', '1'],\n",
       " ['29025', '533', '4451', 'SM', '1994-05', 'yes', '1'],\n",
       " ['7955', '533', '446', 'SM', '1994-05', 'yes', '1'],\n",
       " ['13773', '533', '447', 'SM', '1994-05', 'yes', '1'],\n",
       " ['10451', '533', '448', 'SM', '1994-05', 'yes', '1'],\n",
       " ['133058', '533', '44W72', 'SM', '1994-05', 'yes', '1'],\n",
       " ['190929', '533', '44X72', 'SM', '1994-05', 'yes', '1'],\n",
       " ['146831', '533', '44Y72', 'SM', '1994-05', 'yes', '1'],\n",
       " ['177156', '533', '44Z72', 'SM', '1994-05', 'yes', '1'],\n",
       " ['4119', '533', '451', 'SM', '1994-05', 'yes', '1'],\n",
       " ['23271', '533', '452', 'SM', '1994-05', 'yes', '1'],\n",
       " ['16301', '533', '4521E', 'SM', '1994-05', 'yes', '1'],\n",
       " ['5756', '533', '453', 'SM', '1994-05', 'yes', '1'],\n",
       " ['7859', '533', '454', 'SM', '1994-05', 'yes', '1'],\n",
       " ['18600', '533', '722', 'SM', '1994-05', 'yes', '1'],\n",
       " ['174241', '534', '44000', 'SM', '1994-06', 'yes', '1'],\n",
       " ['44541', '534', '441', 'SM', '1994-06', 'yes', '1'],\n",
       " ['40475', '534', '441X', 'SM', '1994-06', 'yes', '1'],\n",
       " ['5018', '534', '442', 'SM', '1994-06', 'yes', '1'],\n",
       " ['5313', '534', '443', 'SM', '1994-06', 'yes', '1'],\n",
       " ['12987', '534', '444', 'SM', '1994-06', 'yes', '1'],\n",
       " ['32123', '534', '445', 'SM', '1994-06', 'yes', '1'],\n",
       " ['29311', '534', '4451', 'SM', '1994-06', 'yes', '1'],\n",
       " ['8014', '534', '446', 'SM', '1994-06', 'yes', '1'],\n",
       " ['14059', '534', '447', 'SM', '1994-06', 'yes', '1'],\n",
       " ['10612', '534', '448', 'SM', '1994-06', 'yes', '1'],\n",
       " ['134530', '534', '44W72', 'SM', '1994-06', 'yes', '1'],\n",
       " ['193130', '534', '44X72', 'SM', '1994-06', 'yes', '1'],\n",
       " ['148589', '534', '44Y72', 'SM', '1994-06', 'yes', '1'],\n",
       " ['179071', '534', '44Z72', 'SM', '1994-06', 'yes', '1'],\n",
       " ['4135', '534', '451', 'SM', '1994-06', 'yes', '1'],\n",
       " ['23626', '534', '452', 'SM', '1994-06', 'yes', '1'],\n",
       " ['16478', '534', '4521E', 'SM', '1994-06', 'yes', '1'],\n",
       " ['5739', '534', '453', 'SM', '1994-06', 'yes', '1'],\n",
       " ['8074', '534', '454', 'SM', '1994-06', 'yes', '1'],\n",
       " ['18889', '534', '722', 'SM', '1994-06', 'yes', '1'],\n",
       " ['174781', '535', '44000', 'SM', '1994-07', 'yes', '1'],\n",
       " ['44477', '535', '441', 'SM', '1994-07', 'yes', '1'],\n",
       " ['40339', '535', '441X', 'SM', '1994-07', 'yes', '1'],\n",
       " ['5046', '535', '442', 'SM', '1994-07', 'yes', '1'],\n",
       " ['5330', '535', '443', 'SM', '1994-07', 'yes', '1'],\n",
       " ['13130', '535', '444', 'SM', '1994-07', 'yes', '1'],\n",
       " ['31964', '535', '445', 'SM', '1994-07', 'yes', '1'],\n",
       " ['29149', '535', '4451', 'SM', '1994-07', 'yes', '1'],\n",
       " ['8084', '535', '446', 'SM', '1994-07', 'yes', '1'],\n",
       " ['14322', '535', '447', 'SM', '1994-07', 'yes', '1'],\n",
       " ['10672', '535', '448', 'SM', '1994-07', 'yes', '1'],\n",
       " ['134944', '535', '44W72', 'SM', '1994-07', 'yes', '1'],\n",
       " ['193743', '535', '44X72', 'SM', '1994-07', 'yes', '1'],\n",
       " ['149266', '535', '44Y72', 'SM', '1994-07', 'yes', '1'],\n",
       " ['179421', '535', '44Z72', 'SM', '1994-07', 'yes', '1'],\n",
       " ['4111', '535', '451', 'SM', '1994-07', 'yes', '1'],\n",
       " ['23635', '535', '452', 'SM', '1994-07', 'yes', '1'],\n",
       " ['16543', '535', '4521E', 'SM', '1994-07', 'yes', '1'],\n",
       " ['5933', '535', '453', 'SM', '1994-07', 'yes', '1'],\n",
       " ['8077', '535', '454', 'SM', '1994-07', 'yes', '1'],\n",
       " ['18962', '535', '722', 'SM', '1994-07', 'yes', '1'],\n",
       " ['177295', '536', '44000', 'SM', '1994-08', 'yes', '1'],\n",
       " ['45232', '536', '441', 'SM', '1994-08', 'yes', '1'],\n",
       " ['41053', '536', '441X', 'SM', '1994-08', 'yes', '1'],\n",
       " ['5165', '536', '442', 'SM', '1994-08', 'yes', '1'],\n",
       " ['5411', '536', '443', 'SM', '1994-08', 'yes', '1'],\n",
       " ['13224', '536', '444', 'SM', '1994-08', 'yes', '1'],\n",
       " ['32222', '536', '445', 'SM', '1994-08', 'yes', '1'],\n",
       " ['29410', '536', '4451', 'SM', '1994-08', 'yes', '1'],\n",
       " ['8126', '536', '446', 'SM', '1994-08', 'yes', '1'],\n",
       " ['14685', '536', '447', 'SM', '1994-08', 'yes', '1'],\n",
       " ['10839', '536', '448', 'SM', '1994-08', 'yes', '1'],\n",
       " ['136246', '536', '44W72', 'SM', '1994-08', 'yes', '1'],\n",
       " ['196163', '536', '44X72', 'SM', '1994-08', 'yes', '1'],\n",
       " ['150931', '536', '44Y72', 'SM', '1994-08', 'yes', '1'],\n",
       " ['181478', '536', '44Z72', 'SM', '1994-08', 'yes', '1'],\n",
       " ['4249', '536', '451', 'SM', '1994-08', 'yes', '1'],\n",
       " ['23889', '536', '452', 'SM', '1994-08', 'yes', '1'],\n",
       " ['16635', '536', '4521E', 'SM', '1994-08', 'yes', '1'],\n",
       " ['6012', '536', '453', 'SM', '1994-08', 'yes', '1'],\n",
       " ['8241', '536', '454', 'SM', '1994-08', 'yes', '1'],\n",
       " ['18868', '536', '722', 'SM', '1994-08', 'yes', '1'],\n",
       " ['178787', '537', '44000', 'SM', '1994-09', 'yes', '1'],\n",
       " ['46314', '537', '441', 'SM', '1994-09', 'yes', '1'],\n",
       " ['42187', '537', '441X', 'SM', '1994-09', 'yes', '1'],\n",
       " ['5177', '537', '442', 'SM', '1994-09', 'yes', '1'],\n",
       " ['5508', '537', '443', 'SM', '1994-09', 'yes', '1'],\n",
       " ['13375', '537', '444', 'SM', '1994-09', 'yes', '1'],\n",
       " ['32401', '537', '445', 'SM', '1994-09', 'yes', '1'],\n",
       " ['29545', '537', '4451', 'SM', '1994-09', 'yes', '1'],\n",
       " ['8190', '537', '446', 'SM', '1994-09', 'yes', '1'],\n",
       " ['14649', '537', '447', 'SM', '1994-09', 'yes', '1'],\n",
       " ['10674', '537', '448', 'SM', '1994-09', 'yes', '1'],\n",
       " ['136802', '537', '44W72', 'SM', '1994-09', 'yes', '1'],\n",
       " ['197765', '537', '44X72', 'SM', '1994-09', 'yes', '1'],\n",
       " ['151451', '537', '44Y72', 'SM', '1994-09', 'yes', '1'],\n",
       " ['183116', '537', '44Z72', 'SM', '1994-09', 'yes', '1'],\n",
       " ['4306', '537', '451', 'SM', '1994-09', 'yes', '1'],\n",
       " ['23995', '537', '452', 'SM', '1994-09', 'yes', '1'],\n",
       " ['16676', '537', '4521E', 'SM', '1994-09', 'yes', '1'],\n",
       " ['6092', '537', '453', 'SM', '1994-09', 'yes', '1'],\n",
       " ['8106', '537', '454', 'SM', '1994-09', 'yes', '1'],\n",
       " ['18978', '537', '722', 'SM', '1994-09', 'yes', '1'],\n",
       " ['180561', '538', '44000', 'SM', '1994-10', 'yes', '1'],\n",
       " ['47041', '538', '441', 'SM', '1994-10', 'yes', '1'],\n",
       " ['42856', '538', '441X', 'SM', '1994-10', 'yes', '1'],\n",
       " ['5260', '538', '442', 'SM', '1994-10', 'yes', '1'],\n",
       " ['5635', '538', '443', 'SM', '1994-10', 'yes', '1'],\n",
       " ['13550', '538', '444', 'SM', '1994-10', 'yes', '1'],\n",
       " ['32196', '538', '445', 'SM', '1994-10', 'yes', '1'],\n",
       " ['29343', '538', '4451', 'SM', '1994-10', 'yes', '1'],\n",
       " ['8214', '538', '446', 'SM', '1994-10', 'yes', '1'],\n",
       " ['14709', '538', '447', 'SM', '1994-10', 'yes', '1'],\n",
       " ['11000', '538', '448', 'SM', '1994-10', 'yes', '1'],\n",
       " ['137821', '538', '44W72', 'SM', '1994-10', 'yes', '1'],\n",
       " ['199571', '538', '44X72', 'SM', '1994-10', 'yes', '1'],\n",
       " ['152530', '538', '44Y72', 'SM', '1994-10', 'yes', '1'],\n",
       " ['184862', '538', '44Z72', 'SM', '1994-10', 'yes', '1'],\n",
       " ['4347', '538', '451', 'SM', '1994-10', 'yes', '1'],\n",
       " ['24255', '538', '452', 'SM', '1994-10', 'yes', '1'],\n",
       " ['16796', '538', '4521E', 'SM', '1994-10', 'yes', '1'],\n",
       " ['6048', '538', '453', 'SM', '1994-10', 'yes', '1'],\n",
       " ['8306', '538', '454', 'SM', '1994-10', 'yes', '1'],\n",
       " ['19010', '538', '722', 'SM', '1994-10', 'yes', '1'],\n",
       " ['180703', '539', '44000', 'SM', '1994-11', 'yes', '1'],\n",
       " ['47203', '539', '441', 'SM', '1994-11', 'yes', '1'],\n",
       " ['43014', '539', '441X', 'SM', '1994-11', 'yes', '1'],\n",
       " ['5199', '539', '442', 'SM', '1994-11', 'yes', '1'],\n",
       " ['5753', '539', '443', 'SM', '1994-11', 'yes', '1'],\n",
       " ['13384', '539', '444', 'SM', '1994-11', 'yes', '1'],\n",
       " ['32370', '539', '445', 'SM', '1994-11', 'yes', '1'],\n",
       " ['29520', '539', '4451', 'SM', '1994-11', 'yes', '1'],\n",
       " ['8190', '539', '446', 'SM', '1994-11', 'yes', '1'],\n",
       " ['14878', '539', '447', 'SM', '1994-11', 'yes', '1'],\n",
       " ['10983', '539', '448', 'SM', '1994-11', 'yes', '1'],\n",
       " ['137650', '539', '44W72', 'SM', '1994-11', 'yes', '1'],\n",
       " ['199731', '539', '44X72', 'SM', '1994-11', 'yes', '1'],\n",
       " ['152528', '539', '44Y72', 'SM', '1994-11', 'yes', '1'],\n",
       " ['184853', '539', '44Z72', 'SM', '1994-11', 'yes', '1'],\n",
       " ['4221', '539', '451', 'SM', '1994-11', 'yes', '1'],\n",
       " ['24356', '539', '452', 'SM', '1994-11', 'yes', '1'],\n",
       " ['16866', '539', '4521E', 'SM', '1994-11', 'yes', '1'],\n",
       " ['6074', '539', '453', 'SM', '1994-11', 'yes', '1'],\n",
       " ['8092', '539', '454', 'SM', '1994-11', 'yes', '1'],\n",
       " ['19028', '539', '722', 'SM', '1994-11', 'yes', '1'],\n",
       " ['181524', '540', '44000', 'SM', '1994-12', 'yes', '1'],\n",
       " ['46941', '540', '441', 'SM', '1994-12', 'yes', '1'],\n",
       " ['42718', '540', '441X', 'SM', '1994-12', 'yes', '1'],\n",
       " ['5254', '540', '442', 'SM', '1994-12', 'yes', '1'],\n",
       " ['5834', '540', '443', 'SM', '1994-12', 'yes', '1'],\n",
       " ['13981', '540', '444', 'SM', '1994-12', 'yes', '1'],\n",
       " ['32294', '540', '445', 'SM', '1994-12', 'yes', '1'],\n",
       " ['29443', '540', '4451', 'SM', '1994-12', 'yes', '1'],\n",
       " ['8287', '540', '446', 'SM', '1994-12', 'yes', '1'],\n",
       " ['14885', '540', '447', 'SM', '1994-12', 'yes', '1'],\n",
       " ['10952', '540', '448', 'SM', '1994-12', 'yes', '1'],\n",
       " ['138876', '540', '44W72', 'SM', '1994-12', 'yes', '1'],\n",
       " ['200702', '540', '44X72', 'SM', '1994-12', 'yes', '1'],\n",
       " ['153761', '540', '44Y72', 'SM', '1994-12', 'yes', '1'],\n",
       " ['185817', '540', '44Z72', 'SM', '1994-12', 'yes', '1'],\n",
       " ['4255', '540', '451', 'SM', '1994-12', 'yes', '1'],\n",
       " ['24583', '540', '452', 'SM', '1994-12', 'yes', '1'],\n",
       " ['16949', '540', '4521E', 'SM', '1994-12', 'yes', '1'],\n",
       " ['6021', '540', '453', 'SM', '1994-12', 'yes', '1'],\n",
       " ['8237', '540', '454', 'SM', '1994-12', 'yes', '1'],\n",
       " ['19178', '540', '722', 'SM', '1994-12', 'yes', '1'],\n",
       " ['182413', '541', '44000', 'SM', '1995-01', 'yes', '1'],\n",
       " ['47224', '541', '441', 'SM', '1995-01', 'yes', '1'],\n",
       " ['42991', '541', '441X', 'SM', '1995-01', 'yes', '1'],\n",
       " ['5265', '541', '442', 'SM', '1995-01', 'yes', '1'],\n",
       " ['5892', '541', '443', 'SM', '1995-01', 'yes', '1'],\n",
       " ['13738', '541', '444', 'SM', '1995-01', 'yes', '1'],\n",
       " ['32625', '541', '445', 'SM', '1995-01', 'yes', '1'],\n",
       " ['29791', '541', '4451', 'SM', '1995-01', 'yes', '1'],\n",
       " ['8306', '541', '446', 'SM', '1995-01', 'yes', '1'],\n",
       " ['14915', '541', '447', 'SM', '1995-01', 'yes', '1'],\n",
       " ['10939', '541', '448', 'SM', '1995-01', 'yes', '1'],\n",
       " ['139434', '541', '44W72', 'SM', '1995-01', 'yes', '1'],\n",
       " ['201573', '541', '44X72', 'SM', '1995-01', 'yes', '1'],\n",
       " ['154349', '541', '44Y72', 'SM', '1995-01', 'yes', '1'],\n",
       " ['186658', '541', '44Z72', 'SM', '1995-01', 'yes', '1'],\n",
       " ['4436', '541', '451', 'SM', '1995-01', 'yes', '1'],\n",
       " ['24936', '541', '452', 'SM', '1995-01', 'yes', '1'],\n",
       " ['17205', '541', '4521E', 'SM', '1995-01', 'yes', '1'],\n",
       " ['5955', '541', '453', 'SM', '1995-01', 'yes', '1'],\n",
       " ['8182', '541', '454', 'SM', '1995-01', 'yes', '1'],\n",
       " ['19160', '541', '722', 'SM', '1995-01', 'yes', '1'],\n",
       " ['179488', '542', '44000', 'SM', '1995-02', 'yes', '1'],\n",
       " ['45902', '542', '441', 'SM', '1995-02', 'yes', '1'],\n",
       " ['41749', '542', '441X', 'SM', '1995-02', 'yes', '1'],\n",
       " ['5081', '542', '442', 'SM', '1995-02', 'yes', '1'],\n",
       " ['5827', '542', '443', 'SM', '1995-02', 'yes', '1'],\n",
       " ['13613', '542', '444', 'SM', '1995-02', 'yes', '1'],\n",
       " ['32399', '542', '445', 'SM', '1995-02', 'yes', '1'],\n",
       " ['29604', '542', '4451', 'SM', '1995-02', 'yes', '1'],\n",
       " ['8304', '542', '446', 'SM', '1995-02', 'yes', '1'],\n",
       " ['14963', '542', '447', 'SM', '1995-02', 'yes', '1'],\n",
       " ['10582', '542', '448', 'SM', '1995-02', 'yes', '1'],\n",
       " ['137534', '542', '44W72', 'SM', '1995-02', 'yes', '1'],\n",
       " ['198399', '542', '44X72', 'SM', '1995-02', 'yes', '1'],\n",
       " ['152497', '542', '44Y72', 'SM', '1995-02', 'yes', '1'],\n",
       " ['183436', '542', '44Z72', 'SM', '1995-02', 'yes', '1'],\n",
       " ['4298', '542', '451', 'SM', '1995-02', 'yes', '1'],\n",
       " ['24115', '542', '452', 'SM', '1995-02', 'yes', '1'],\n",
       " ['16680', '542', '4521E', 'SM', '1995-02', 'yes', '1'],\n",
       " ['6097', '542', '453', 'SM', '1995-02', 'yes', '1'],\n",
       " ['8307', '542', '454', 'SM', '1995-02', 'yes', '1'],\n",
       " ['18911', '542', '722', 'SM', '1995-02', 'yes', '1'],\n",
       " ['181013', '543', '44000', 'SM', '1995-03', 'yes', '1'],\n",
       " ['46681', '543', '441', 'SM', '1995-03', 'yes', '1'],\n",
       " ['42482', '543', '441X', 'SM', '1995-03', 'yes', '1'],\n",
       " ['5130', '543', '442', 'SM', '1995-03', 'yes', '1'],\n",
       " ['5849', '543', '443', 'SM', '1995-03', 'yes', '1'],\n",
       " ['13587', '543', '444', 'SM', '1995-03', 'yes', '1'],\n",
       " ['32415', '543', '445', 'SM', '1995-03', 'yes', '1'],\n",
       " ['29619', '543', '4451', 'SM', '1995-03', 'yes', '1'],\n",
       " ['8304', '543', '446', 'SM', '1995-03', 'yes', '1'],\n",
       " ['14921', '543', '447', 'SM', '1995-03', 'yes', '1'],\n",
       " ['10850', '543', '448', 'SM', '1995-03', 'yes', '1'],\n",
       " ['138645', '543', '44W72', 'SM', '1995-03', 'yes', '1'],\n",
       " ['200247', '543', '44X72', 'SM', '1995-03', 'yes', '1'],\n",
       " ['153566', '543', '44Y72', 'SM', '1995-03', 'yes', '1'],\n",
       " ['185326', '543', '44Z72', 'SM', '1995-03', 'yes', '1'],\n",
       " ['4347', '543', '451', 'SM', '1995-03', 'yes', '1'],\n",
       " ['24579', '543', '452', 'SM', '1995-03', 'yes', '1'],\n",
       " ['16904', '543', '4521E', 'SM', '1995-03', 'yes', '1'],\n",
       " ['6134', '543', '453', 'SM', '1995-03', 'yes', '1'],\n",
       " ['8216', '543', '454', 'SM', '1995-03', 'yes', '1'],\n",
       " ['19234', '543', '722', 'SM', '1995-03', 'yes', '1'],\n",
       " ['181686', '544', '44000', 'SM', '1995-04', 'yes', '1'],\n",
       " ['47056', '544', '441', 'SM', '1995-04', 'yes', '1'],\n",
       " ['42782', '544', '441X', 'SM', '1995-04', 'yes', '1'],\n",
       " ['5181', '544', '442', 'SM', '1995-04', 'yes', '1'],\n",
       " ['5733', '544', '443', 'SM', '1995-04', 'yes', '1'],\n",
       " ['13415', '544', '444', 'SM', '1995-04', 'yes', '1'],\n",
       " ['32312', '544', '445', 'SM', '1995-04', 'yes', '1'],\n",
       " ['29499', '544', '4451', 'SM', '1995-04', 'yes', '1'],\n",
       " ['8450', '544', '446', 'SM', '1995-04', 'yes', '1'],\n",
       " ['15021', '544', '447', 'SM', '1995-04', 'yes', '1'],\n",
       " ['10796', '544', '448', 'SM', '1995-04', 'yes', '1'],\n",
       " ['138955', '544', '44W72', 'SM', '1995-04', 'yes', '1'],\n",
       " ['201032', '544', '44X72', 'SM', '1995-04', 'yes', '1'],\n",
       " ['153976', '544', '44Y72', 'SM', '1995-04', 'yes', '1'],\n",
       " ['186011', '544', '44Z72', 'SM', '1995-04', 'yes', '1'],\n",
       " ['4345', '544', '451', 'SM', '1995-04', 'yes', '1'],\n",
       " ['24747', '544', '452', 'SM', '1995-04', 'yes', '1'],\n",
       " ['16985', '544', '4521E', 'SM', '1995-04', 'yes', '1'],\n",
       " ['6265', '544', '453', 'SM', '1995-04', 'yes', '1'],\n",
       " ['8365', '544', '454', 'SM', '1995-04', 'yes', '1'],\n",
       " ['19346', '544', '722', 'SM', '1995-04', 'yes', '1'],\n",
       " ['183536', '545', '44000', 'SM', '1995-05', 'yes', '1'],\n",
       " ['47718', '545', '441', 'SM', '1995-05', 'yes', '1'],\n",
       " ['43442', '545', '441X', 'SM', '1995-05', 'yes', '1'],\n",
       " ['5216', '545', '442', 'SM', '1995-05', 'yes', '1'],\n",
       " ['5956', '545', '443', 'SM', '1995-05', 'yes', '1'],\n",
       " ['13370', '545', '444', 'SM', '1995-05', 'yes', '1'],\n",
       " ['32540', '545', '445', 'SM', '1995-05', 'yes', '1'],\n",
       " ['29763', '545', '4451', 'SM', '1995-05', 'yes', '1'],\n",
       " ['8424', '545', '446', 'SM', '1995-05', 'yes', '1'],\n",
       " ['15215', '545', '447', 'SM', '1995-05', 'yes', '1'],\n",
       " ['10976', '545', '448', 'SM', '1995-05', 'yes', '1'],\n",
       " ['140053', '545', '44W72', 'SM', '1995-05', 'yes', '1'],\n",
       " ['202986', '545', '44X72', 'SM', '1995-05', 'yes', '1'],\n",
       " ['155268', '545', '44Y72', 'SM', '1995-05', 'yes', '1'],\n",
       " ['187771', '545', '44Z72', 'SM', '1995-05', 'yes', '1'],\n",
       " ['4380', '545', '451', 'SM', '1995-05', 'yes', '1'],\n",
       " ['24851', '545', '452', 'SM', '1995-05', 'yes', '1'],\n",
       " ['16997', '545', '4521E', 'SM', '1995-05', 'yes', '1'],\n",
       " ['6372', '545', '453', 'SM', '1995-05', 'yes', '1'],\n",
       " ['8518', '545', '454', 'SM', '1995-05', 'yes', '1'],\n",
       " ['19450', '545', '722', 'SM', '1995-05', 'yes', '1'],\n",
       " ['186081', '546', '44000', 'SM', '1995-06', 'yes', '1'],\n",
       " ['49652', '546', '441', 'SM', '1995-06', 'yes', '1'],\n",
       " ['45312', '546', '441X', 'SM', '1995-06', 'yes', '1'],\n",
       " ['5217', '546', '442', 'SM', '1995-06', 'yes', '1'],\n",
       " ['6000', '546', '443', 'SM', '1995-06', 'yes', '1'],\n",
       " ['13548', '546', '444', 'SM', '1995-06', 'yes', '1'],\n",
       " ['32597', '546', '445', 'SM', '1995-06', 'yes', '1'],\n",
       " ['29812', '546', '4451', 'SM', '1995-06', 'yes', '1'],\n",
       " ['8482', '546', '446', 'SM', '1995-06', 'yes', '1'],\n",
       " ['15333', '546', '447', 'SM', '1995-06', 'yes', '1'],\n",
       " ['10948', '546', '448', 'SM', '1995-06', 'yes', '1'],\n",
       " ['140515', '546', '44W72', 'SM', '1995-06', 'yes', '1'],\n",
       " ['205500', '546', '44X72', 'SM', '1995-06', 'yes', '1'],\n",
       " ['155848', '546', '44Y72', 'SM', '1995-06', 'yes', '1'],\n",
       " ['190167', '546', '44Z72', 'SM', '1995-06', 'yes', '1'],\n",
       " ['4421', '546', '451', 'SM', '1995-06', 'yes', '1'],\n",
       " ['25166', '546', '452', 'SM', '1995-06', 'yes', '1'],\n",
       " ['17269', '546', '4521E', 'SM', '1995-06', 'yes', '1'],\n",
       " ['6288', '546', '453', 'SM', '1995-06', 'yes', '1'],\n",
       " ['8429', '546', '454', 'SM', '1995-06', 'yes', '1'],\n",
       " ['19419', '546', '722', 'SM', '1995-06', 'yes', '1'],\n",
       " ['185431', '547', '44000', 'SM', '1995-07', 'yes', '1'],\n",
       " ['48832', '547', '441', 'SM', '1995-07', 'yes', '1'],\n",
       " ['44520', '547', '441X', 'SM', '1995-07', 'yes', '1'],\n",
       " ['5318', '547', '442', 'SM', '1995-07', 'yes', '1'],\n",
       " ['5965', '547', '443', 'SM', '1995-07', 'yes', '1'],\n",
       " ['13645', '547', '444', 'SM', '1995-07', 'yes', '1'],\n",
       " ['32466', '547', '445', 'SM', '1995-07', 'yes', '1'],\n",
       " ['29675', '547', '4451', 'SM', '1995-07', 'yes', '1'],\n",
       " ['8431', '547', '446', 'SM', '1995-07', 'yes', '1'],\n",
       " ['15249', '547', '447', 'SM', '1995-07', 'yes', '1'],\n",
       " ['10824', '547', '448', 'SM', '1995-07', 'yes', '1'],\n",
       " ['140839', '547', '44W72', 'SM', '1995-07', 'yes', '1'],\n",
       " ['204920', '547', '44X72', 'SM', '1995-07', 'yes', '1'],\n",
       " ['156088', '547', '44Y72', 'SM', '1995-07', 'yes', '1'],\n",
       " ['189671', '547', '44Z72', 'SM', '1995-07', 'yes', '1'],\n",
       " ['4429', '547', '451', 'SM', '1995-07', 'yes', '1'],\n",
       " ['25375', '547', '452', 'SM', '1995-07', 'yes', '1'],\n",
       " ['17487', '547', '4521E', 'SM', '1995-07', 'yes', '1'],\n",
       " ['6398', '547', '453', 'SM', '1995-07', 'yes', '1'],\n",
       " ['8499', '547', '454', 'SM', '1995-07', 'yes', '1'],\n",
       " ['19489', '547', '722', 'SM', '1995-07', 'yes', '1'],\n",
       " ['186806', '548', '44000', 'SM', '1995-08', 'yes', '1'],\n",
       " ['49748', '548', '441', 'SM', '1995-08', 'yes', '1'],\n",
       " ['45351', '548', '441X', 'SM', '1995-08', 'yes', '1'],\n",
       " ['5304', '548', '442', 'SM', '1995-08', 'yes', '1'],\n",
       " ['6159', '548', '443', 'SM', '1995-08', 'yes', '1'],\n",
       " ['13683', '548', '444', 'SM', '1995-08', 'yes', '1'],\n",
       " ['32547', '548', '445', 'SM', '1995-08', 'yes', '1'],\n",
       " ['29721', '548', '4451', 'SM', '1995-08', 'yes', '1'],\n",
       " ['8488', '548', '446', 'SM', '1995-08', 'yes', '1'],\n",
       " ['15227', '548', '447', 'SM', '1995-08', 'yes', '1'],\n",
       " ['10813', '548', '448', 'SM', '1995-08', 'yes', '1'],\n",
       " ['141546', '548', '44W72', 'SM', '1995-08', 'yes', '1'],\n",
       " ['206521', '548', '44X72', 'SM', '1995-08', 'yes', '1'],\n",
       " ['156773', '548', '44Y72', 'SM', '1995-08', 'yes', '1'],\n",
       " ['191294', '548', '44Z72', 'SM', '1995-08', 'yes', '1'],\n",
       " ['4462', '548', '451', 'SM', '1995-08', 'yes', '1'],\n",
       " ['25174', '548', '452', 'SM', '1995-08', 'yes', '1'],\n",
       " ['17231', '548', '4521E', 'SM', '1995-08', 'yes', '1'],\n",
       " ['6502', '548', '453', 'SM', '1995-08', 'yes', '1'],\n",
       " ['8699', '548', '454', 'SM', '1995-08', 'yes', '1'],\n",
       " ['19715', '548', '722', 'SM', '1995-08', 'yes', '1'],\n",
       " ['187366', '549', '44000', 'SM', '1995-09', 'yes', '1'],\n",
       " ['49188', '549', '441', 'SM', '1995-09', 'yes', '1'],\n",
       " ['44783', '549', '441X', 'SM', '1995-09', 'yes', '1'],\n",
       " ['5407', '549', '442', 'SM', '1995-09', 'yes', '1'],\n",
       " ['6141', '549', '443', 'SM', '1995-09', 'yes', '1'],\n",
       " ['13837', '549', '444', 'SM', '1995-09', 'yes', '1'],\n",
       " ['32625', '549', '445', 'SM', '1995-09', 'yes', '1'],\n",
       " ['29735', '549', '4451', 'SM', '1995-09', 'yes', '1'],\n",
       " ['8611', '549', '446', 'SM', '1995-09', 'yes', '1'],\n",
       " ['15194', '549', '447', 'SM', '1995-09', 'yes', '1'],\n",
       " ['11198', '549', '448', 'SM', '1995-09', 'yes', '1'],\n",
       " ['142624', '549', '44W72', 'SM', '1995-09', 'yes', '1'],\n",
       " ['207006', '549', '44X72', 'SM', '1995-09', 'yes', '1'],\n",
       " ['157818', '549', '44Y72', 'SM', '1995-09', 'yes', '1'],\n",
       " ['191812', '549', '44Z72', 'SM', '1995-09', 'yes', '1'],\n",
       " ['4441', '549', '451', 'SM', '1995-09', 'yes', '1'],\n",
       " ['25469', '549', '452', 'SM', '1995-09', 'yes', '1'],\n",
       " ['17440', '549', '4521E', 'SM', '1995-09', 'yes', '1'],\n",
       " ['6413', '549', '453', 'SM', '1995-09', 'yes', '1'],\n",
       " ['8842', '549', '454', 'SM', '1995-09', 'yes', '1'],\n",
       " ['19640', '549', '722', 'SM', '1995-09', 'yes', '1'],\n",
       " ['186565', '550', '44000', 'SM', '1995-10', 'yes', '1'],\n",
       " ['49271', '550', '441', 'SM', '1995-10', 'yes', '1'],\n",
       " ['44867', '550', '441X', 'SM', '1995-10', 'yes', '1'],\n",
       " ['5429', '550', '442', 'SM', '1995-10', 'yes', '1'],\n",
       " ['6212', '550', '443', 'SM', '1995-10', 'yes', '1'],\n",
       " ['13932', '550', '444', 'SM', '1995-10', 'yes', '1'],\n",
       " ['32578', '550', '445', 'SM', '1995-10', 'yes', '1'],\n",
       " ['29692', '550', '4451', 'SM', '1995-10', 'yes', '1'],\n",
       " ['8584', '550', '446', 'SM', '1995-10', 'yes', '1'],\n",
       " ['15007', '550', '447', 'SM', '1995-10', 'yes', '1'],\n",
       " ['10882', '550', '448', 'SM', '1995-10', 'yes', '1'],\n",
       " ['141898', '550', '44W72', 'SM', '1995-10', 'yes', '1'],\n",
       " ['206176', '550', '44X72', 'SM', '1995-10', 'yes', '1'],\n",
       " ['156905', '550', '44Y72', 'SM', '1995-10', 'yes', '1'],\n",
       " ['191169', '550', '44Z72', 'SM', '1995-10', 'yes', '1'],\n",
       " ['4414', '550', '451', 'SM', '1995-10', 'yes', '1'],\n",
       " ['25135', '550', '452', 'SM', '1995-10', 'yes', '1'],\n",
       " ['17188', '550', '4521E', 'SM', '1995-10', 'yes', '1'],\n",
       " ['6419', '550', '453', 'SM', '1995-10', 'yes', '1'],\n",
       " ['8702', '550', '454', 'SM', '1995-10', 'yes', '1'],\n",
       " ['19611', '550', '722', 'SM', '1995-10', 'yes', '1'],\n",
       " ['189055', '551', '44000', 'SM', '1995-11', 'yes', '1'],\n",
       " ['49863', '551', '441', 'SM', '1995-11', 'yes', '1'],\n",
       " ['45343', '551', '441X', 'SM', '1995-11', 'yes', '1'],\n",
       " ['5516', '551', '442', 'SM', '1995-11', 'yes', '1'],\n",
       " ['6263', '551', '443', 'SM', '1995-11', 'yes', '1'],\n",
       " ['14092', '551', '444', 'SM', '1995-11', 'yes', '1'],\n",
       " ['32744', '551', '445', 'SM', '1995-11', 'yes', '1'],\n",
       " ['29858', '551', '4451', 'SM', '1995-11', 'yes', '1'],\n",
       " ['8691', '551', '446', 'SM', '1995-11', 'yes', '1'],\n",
       " ['14981', '551', '447', 'SM', '1995-11', 'yes', '1'],\n",
       " ['11269', '551', '448', 'SM', '1995-11', 'yes', '1'],\n",
       " ['143820', '551', '44W72', 'SM', '1995-11', 'yes', '1'],\n",
       " ['208664', '551', '44X72', 'SM', '1995-11', 'yes', '1'],\n",
       " ['158801', '551', '44Y72', 'SM', '1995-11', 'yes', '1'],\n",
       " ['193683', '551', '44Z72', 'SM', '1995-11', 'yes', '1'],\n",
       " ['4532', '551', '451', 'SM', '1995-11', 'yes', '1'],\n",
       " ['25414', '551', '452', 'SM', '1995-11', 'yes', '1'],\n",
       " ['17283', '551', '4521E', 'SM', '1995-11', 'yes', '1'],\n",
       " ['6520', '551', '453', 'SM', '1995-11', 'yes', '1'],\n",
       " ['9170', '551', '454', 'SM', '1995-11', 'yes', '1'],\n",
       " ['19609', '551', '722', 'SM', '1995-11', 'yes', '1'],\n",
       " ['190774', '552', '44000', 'SM', '1995-12', 'yes', '1'],\n",
       " ['50163', '552', '441', 'SM', '1995-12', 'yes', '1'],\n",
       " ['45687', '552', '441X', 'SM', '1995-12', 'yes', '1'],\n",
       " ['5445', '552', '442', 'SM', '1995-12', 'yes', '1'],\n",
       " ['6281', '552', '443', 'SM', '1995-12', 'yes', '1'],\n",
       " ['14683', '552', '444', 'SM', '1995-12', 'yes', '1'],\n",
       " ['32903', '552', '445', 'SM', '1995-12', 'yes', '1'],\n",
       " ['29994', '552', '4451', 'SM', '1995-12', 'yes', '1'],\n",
       " ['8761', '552', '446', 'SM', '1995-12', 'yes', '1'],\n",
       " ['15246', '552', '447', 'SM', '1995-12', 'yes', '1'],\n",
       " ['11124', '552', '448', 'SM', '1995-12', 'yes', '1'],\n",
       " ['144990', '552', '44W72', 'SM', '1995-12', 'yes', '1'],\n",
       " ...]"
      ]
     },
     "execution_count": 8,
     "metadata": {},
     "output_type": "execute_result"
    }
   ],
   "source": [
    "r"
   ]
  },
  {
   "cell_type": "code",
   "execution_count": 9,
   "metadata": {},
   "outputs": [
    {
     "data": {
      "text/plain": [
       "'According to the \\\\href{https://www.census.gov/retail/index.html}{Census Bureau}, retail and food service sales totalled \\\\$483.1 billion in March 2020, equivalent to roughly 26.7 percent of GDP on an annualized basis. Over the past year, retail and food service sales decreased by 6.2 percent, without adjusting for prices (see {\\\\color{green!90!blue}\\\\textbf{---}}). Nonstore sales, which include online retailers, have increased by 9.7 percent over the same period (see {\\\\color{blue!70!black}\\\\textbf{---}}), and total \\\\$68.8 billion, or roughly 3.8 percent of GDP. '"
      ]
     },
     "execution_count": 9,
     "metadata": {},
     "output_type": "execute_result"
    }
   ],
   "source": [
    "df = pd.DataFrame()\n",
    "for series in ['44000', '44X72', '44W72', '454']:\n",
    "    df[series] = pd.Series(\n",
    "        {pd.to_datetime(i[4]): \n",
    "         float(i[0]) for i in r[1:] if i[2] == series}\n",
    "    ).sort_index()\n",
    "    \n",
    "data = (df.pct_change(12) * 100).dropna()\n",
    "data['NS_3M'] = data['454'].rolling(3).mean()\n",
    "\n",
    "s = ['A191RC']\n",
    "\n",
    "gdp = nipa_df(retrieve_table('T10105')['Data'], s)\n",
    "\n",
    "data.to_csv(data_dir / 'marts.csv', index_label='date', float_format='%g')\n",
    "\n",
    "node = end_node(data['NS_3M'], 'blue!70!black')\n",
    "write_txt(text_dir / 'rs_ns3m_node.txt', node)\n",
    "\n",
    "node = end_node(data['44X72'], 'green!90!blue')\n",
    "write_txt(text_dir / 'rs_44x72_node.txt', node)\n",
    "\n",
    "totval = df['44X72'].iloc[-1]\n",
    "shgdp = (totval * 12 / gdp.iloc[-1] * 100)[-1]\n",
    "totgr = data['44X72'].iloc[-1]\n",
    "datelt = df.index[-1].strftime('%B %Y')\n",
    "grtxt = inc_dec_percent(totgr)\n",
    "    \n",
    "totval2 = df['454'].iloc[-1]\n",
    "shgdp2 = (totval2 * 12 / gdp.iloc[-1] * 100)[-1]\n",
    "totgr2 = data['454'].iloc[-1]\n",
    "grtxt2 = inc_dec_percent(totgr2)\n",
    "    \n",
    "text = ('According to the \\href{https://www.census.gov/retail/index.html}{Census Bureau}, '+\n",
    "        'retail and food service '+\n",
    "        f'sales totalled \\${totval/1000:,.1f} billion in {datelt}, equivalent '+\n",
    "        f'to roughly {shgdp:.1f} percent of GDP on an annualized basis. '+\n",
    "        'Over the past year, retail and '+\n",
    "        f'food service sales {grtxt}, without adjusting for prices '+\n",
    "        '(see {\\color{green!90!blue}\\\\textbf{---}}). Nonstore '+\n",
    "        f'sales, which include online retailers, have {grtxt2} over '+\n",
    "        'the same period (see {\\color{blue!70!black}\\\\textbf{---}}), and '\n",
    "        f'total \\${totval2/1000:,.1f} billion, or roughly {shgdp2:.1f} percent of GDP. ')\n",
    "\n",
    "write_txt(text_dir / 'marts.txt', text)\n",
    "\n",
    "text"
   ]
  },
  {
   "cell_type": "code",
   "execution_count": null,
   "metadata": {},
   "outputs": [],
   "source": []
  },
  {
   "cell_type": "code",
   "execution_count": null,
   "metadata": {},
   "outputs": [],
   "source": []
  },
  {
   "cell_type": "markdown",
   "metadata": {},
   "source": [
    "### Retail Sales by Type"
   ]
  },
  {
   "cell_type": "code",
   "execution_count": 10,
   "metadata": {},
   "outputs": [],
   "source": [
    "key = census_key\n",
    "base = 'https://api.census.gov/data/timeseries/eits/marts/'\n",
    "param = 'cell_value,time_slot_id,category_code'\n",
    "t = '&time=from+1992'\n",
    "dtc = '&data_type_code=SM'\n",
    "oth = '&for=us&seasonally_adj=no'\n",
    "\n",
    "url = f'{base}?get={param}&key={key}{dtc}{t}{oth}'\n",
    "\n",
    "r = requests.get(url).json()"
   ]
  },
  {
   "cell_type": "code",
   "execution_count": 11,
   "metadata": {},
   "outputs": [],
   "source": [
    "series_dict = {'441': 'Motor Vehicles \\& Parts', '442': 'Furniture \\& Home Furnishings', \n",
    "               '443': 'Electronics \\& Appliance', '444': 'Building \\& Garden Equipment', \n",
    "               '445': 'Food \\& Beverage Stores', '446': 'Health \\& Personal Care', \n",
    "               '447': 'Gasoline Stations', '448': 'Clothing and Accessories', \n",
    "               '451': 'Sports/Hobby/Music/Books', '452': 'General Merchandise', \n",
    "               '454': 'Nonstore', '722': 'Food Service \\& Drinking Places'}\n",
    "\n",
    "df = pd.DataFrame()\n",
    "for series in series_dict.keys():\n",
    "    df[series] = pd.Series(\n",
    "        {pd.to_datetime(i[4]): \n",
    "         float(i[0]) for i in r[1:] if i[2] == series}\n",
    "    ).sort_index()\n",
    "    \n",
    "dpi = nipa_df(retrieve_table('T20100')['Data'], ['A067RC'])['A067RC']\n",
    "data = (df.resample('QS').sum().rolling(4).sum()\n",
    "          .dropna().divide(dpi, axis=0).dropna() * 100)\n",
    "results = (pd.concat([data.loc['2015-01-01'], data.loc['2019-10-01']], axis=1)\n",
    "             .sort_values('2019-10-01', ascending=False))\n",
    "results.index = results.index.map(series_dict)\n",
    "results.round(2).to_csv(data_dir / 'rs_comp.csv', index_label='name')"
   ]
  },
  {
   "cell_type": "code",
   "execution_count": 12,
   "metadata": {},
   "outputs": [
    {
     "data": {
      "text/html": [
       "<div>\n",
       "<style scoped>\n",
       "    .dataframe tbody tr th:only-of-type {\n",
       "        vertical-align: middle;\n",
       "    }\n",
       "\n",
       "    .dataframe tbody tr th {\n",
       "        vertical-align: top;\n",
       "    }\n",
       "\n",
       "    .dataframe thead th {\n",
       "        text-align: right;\n",
       "    }\n",
       "</style>\n",
       "<table border=\"1\" class=\"dataframe\">\n",
       "  <thead>\n",
       "    <tr style=\"text-align: right;\">\n",
       "      <th></th>\n",
       "      <th>441</th>\n",
       "      <th>442</th>\n",
       "      <th>443</th>\n",
       "      <th>444</th>\n",
       "      <th>445</th>\n",
       "      <th>446</th>\n",
       "      <th>447</th>\n",
       "      <th>448</th>\n",
       "      <th>451</th>\n",
       "      <th>452</th>\n",
       "      <th>454</th>\n",
       "      <th>722</th>\n",
       "    </tr>\n",
       "  </thead>\n",
       "  <tbody>\n",
       "    <tr>\n",
       "      <th>1992-10-01</th>\n",
       "      <td>8.545521</td>\n",
       "      <td>1.068943</td>\n",
       "      <td>0.994496</td>\n",
       "      <td>2.675402</td>\n",
       "      <td>7.567590</td>\n",
       "      <td>1.832191</td>\n",
       "      <td>3.192860</td>\n",
       "      <td>2.453059</td>\n",
       "      <td>0.877565</td>\n",
       "      <td>5.062775</td>\n",
       "      <td>1.603354</td>\n",
       "      <td>4.143442</td>\n",
       "    </tr>\n",
       "    <tr>\n",
       "      <th>1993-01-01</th>\n",
       "      <td>8.626638</td>\n",
       "      <td>1.068150</td>\n",
       "      <td>1.008842</td>\n",
       "      <td>2.662426</td>\n",
       "      <td>7.510427</td>\n",
       "      <td>1.818744</td>\n",
       "      <td>3.198483</td>\n",
       "      <td>2.446716</td>\n",
       "      <td>0.875804</td>\n",
       "      <td>5.064297</td>\n",
       "      <td>1.620430</td>\n",
       "      <td>4.120993</td>\n",
       "    </tr>\n",
       "    <tr>\n",
       "      <th>1993-04-01</th>\n",
       "      <td>8.833238</td>\n",
       "      <td>1.071808</td>\n",
       "      <td>1.027960</td>\n",
       "      <td>2.690636</td>\n",
       "      <td>7.465095</td>\n",
       "      <td>1.813808</td>\n",
       "      <td>3.210315</td>\n",
       "      <td>2.451408</td>\n",
       "      <td>0.878250</td>\n",
       "      <td>5.108593</td>\n",
       "      <td>1.633110</td>\n",
       "      <td>4.164341</td>\n",
       "    </tr>\n",
       "    <tr>\n",
       "      <th>1993-07-01</th>\n",
       "      <td>9.102671</td>\n",
       "      <td>1.083275</td>\n",
       "      <td>1.056573</td>\n",
       "      <td>2.735556</td>\n",
       "      <td>7.442898</td>\n",
       "      <td>1.823292</td>\n",
       "      <td>3.215650</td>\n",
       "      <td>2.463497</td>\n",
       "      <td>0.887874</td>\n",
       "      <td>5.188671</td>\n",
       "      <td>1.646841</td>\n",
       "      <td>4.239901</td>\n",
       "    </tr>\n",
       "    <tr>\n",
       "      <th>1993-10-01</th>\n",
       "      <td>9.305018</td>\n",
       "      <td>1.091143</td>\n",
       "      <td>1.084768</td>\n",
       "      <td>2.773585</td>\n",
       "      <td>7.368916</td>\n",
       "      <td>1.821864</td>\n",
       "      <td>3.194884</td>\n",
       "      <td>2.454541</td>\n",
       "      <td>0.896687</td>\n",
       "      <td>5.233694</td>\n",
       "      <td>1.688403</td>\n",
       "      <td>4.239493</td>\n",
       "    </tr>\n",
       "    <tr>\n",
       "      <th>...</th>\n",
       "      <td>...</td>\n",
       "      <td>...</td>\n",
       "      <td>...</td>\n",
       "      <td>...</td>\n",
       "      <td>...</td>\n",
       "      <td>...</td>\n",
       "      <td>...</td>\n",
       "      <td>...</td>\n",
       "      <td>...</td>\n",
       "      <td>...</td>\n",
       "      <td>...</td>\n",
       "      <td>...</td>\n",
       "    </tr>\n",
       "    <tr>\n",
       "      <th>2018-10-01</th>\n",
       "      <td>7.529747</td>\n",
       "      <td>0.728572</td>\n",
       "      <td>0.632392</td>\n",
       "      <td>2.358665</td>\n",
       "      <td>4.715005</td>\n",
       "      <td>2.149679</td>\n",
       "      <td>3.195157</td>\n",
       "      <td>1.689485</td>\n",
       "      <td>0.496482</td>\n",
       "      <td>4.398700</td>\n",
       "      <td>4.300114</td>\n",
       "      <td>4.609784</td>\n",
       "    </tr>\n",
       "    <tr>\n",
       "      <th>2019-01-01</th>\n",
       "      <td>7.460037</td>\n",
       "      <td>0.717040</td>\n",
       "      <td>0.618815</td>\n",
       "      <td>2.347137</td>\n",
       "      <td>4.678730</td>\n",
       "      <td>2.141872</td>\n",
       "      <td>3.152290</td>\n",
       "      <td>1.667903</td>\n",
       "      <td>0.480278</td>\n",
       "      <td>4.351312</td>\n",
       "      <td>4.339268</td>\n",
       "      <td>4.597822</td>\n",
       "    </tr>\n",
       "    <tr>\n",
       "      <th>2019-04-01</th>\n",
       "      <td>7.449892</td>\n",
       "      <td>0.709770</td>\n",
       "      <td>0.605500</td>\n",
       "      <td>2.314468</td>\n",
       "      <td>4.672351</td>\n",
       "      <td>2.143494</td>\n",
       "      <td>3.138222</td>\n",
       "      <td>1.651575</td>\n",
       "      <td>0.471119</td>\n",
       "      <td>4.338132</td>\n",
       "      <td>4.418318</td>\n",
       "      <td>4.603972</td>\n",
       "    </tr>\n",
       "    <tr>\n",
       "      <th>2019-07-01</th>\n",
       "      <td>7.496677</td>\n",
       "      <td>0.706708</td>\n",
       "      <td>0.595931</td>\n",
       "      <td>2.299101</td>\n",
       "      <td>4.672984</td>\n",
       "      <td>2.140838</td>\n",
       "      <td>3.099867</td>\n",
       "      <td>1.634941</td>\n",
       "      <td>0.469373</td>\n",
       "      <td>4.313473</td>\n",
       "      <td>4.538500</td>\n",
       "      <td>4.611499</td>\n",
       "    </tr>\n",
       "    <tr>\n",
       "      <th>2019-10-01</th>\n",
       "      <td>7.535121</td>\n",
       "      <td>0.704330</td>\n",
       "      <td>0.586883</td>\n",
       "      <td>2.284976</td>\n",
       "      <td>4.674594</td>\n",
       "      <td>2.132281</td>\n",
       "      <td>3.087945</td>\n",
       "      <td>1.621541</td>\n",
       "      <td>0.467733</td>\n",
       "      <td>4.284339</td>\n",
       "      <td>4.674762</td>\n",
       "      <td>4.636369</td>\n",
       "    </tr>\n",
       "  </tbody>\n",
       "</table>\n",
       "<p>109 rows × 12 columns</p>\n",
       "</div>"
      ],
      "text/plain": [
       "                 441       442       443       444       445       446  \\\n",
       "1992-10-01  8.545521  1.068943  0.994496  2.675402  7.567590  1.832191   \n",
       "1993-01-01  8.626638  1.068150  1.008842  2.662426  7.510427  1.818744   \n",
       "1993-04-01  8.833238  1.071808  1.027960  2.690636  7.465095  1.813808   \n",
       "1993-07-01  9.102671  1.083275  1.056573  2.735556  7.442898  1.823292   \n",
       "1993-10-01  9.305018  1.091143  1.084768  2.773585  7.368916  1.821864   \n",
       "...              ...       ...       ...       ...       ...       ...   \n",
       "2018-10-01  7.529747  0.728572  0.632392  2.358665  4.715005  2.149679   \n",
       "2019-01-01  7.460037  0.717040  0.618815  2.347137  4.678730  2.141872   \n",
       "2019-04-01  7.449892  0.709770  0.605500  2.314468  4.672351  2.143494   \n",
       "2019-07-01  7.496677  0.706708  0.595931  2.299101  4.672984  2.140838   \n",
       "2019-10-01  7.535121  0.704330  0.586883  2.284976  4.674594  2.132281   \n",
       "\n",
       "                 447       448       451       452       454       722  \n",
       "1992-10-01  3.192860  2.453059  0.877565  5.062775  1.603354  4.143442  \n",
       "1993-01-01  3.198483  2.446716  0.875804  5.064297  1.620430  4.120993  \n",
       "1993-04-01  3.210315  2.451408  0.878250  5.108593  1.633110  4.164341  \n",
       "1993-07-01  3.215650  2.463497  0.887874  5.188671  1.646841  4.239901  \n",
       "1993-10-01  3.194884  2.454541  0.896687  5.233694  1.688403  4.239493  \n",
       "...              ...       ...       ...       ...       ...       ...  \n",
       "2018-10-01  3.195157  1.689485  0.496482  4.398700  4.300114  4.609784  \n",
       "2019-01-01  3.152290  1.667903  0.480278  4.351312  4.339268  4.597822  \n",
       "2019-04-01  3.138222  1.651575  0.471119  4.338132  4.418318  4.603972  \n",
       "2019-07-01  3.099867  1.634941  0.469373  4.313473  4.538500  4.611499  \n",
       "2019-10-01  3.087945  1.621541  0.467733  4.284339  4.674762  4.636369  \n",
       "\n",
       "[109 rows x 12 columns]"
      ]
     },
     "execution_count": 12,
     "metadata": {},
     "output_type": "execute_result"
    }
   ],
   "source": [
    "data"
   ]
  },
  {
   "cell_type": "code",
   "execution_count": null,
   "metadata": {},
   "outputs": [],
   "source": []
  },
  {
   "cell_type": "markdown",
   "metadata": {},
   "source": [
    "### Government spending and investment"
   ]
  },
  {
   "cell_type": "code",
   "execution_count": 13,
   "metadata": {
    "ExecuteTime": {
     "end_time": "2019-11-01T00:29:16.184663Z",
     "start_time": "2019-11-01T00:29:16.181990Z"
    }
   },
   "outputs": [
    {
     "data": {
      "text/plain": [
       "'Government consumption expeditures and gross investment, which provide services and infrastructure, contributed 0.44 percentage points to real GDP growth in 2019 Q4, slightly below the average contribution of 0.52 percentage points over the past year, and slightly above the average of 0.24 percentage points since 1989. In 2019 Q4, federal defense spending and investment (see\\\\cbox{blue!60!black}) contributed 0.17 percentage points, nondefense federal government spending and investment (see\\\\cbox{green!85!black}) contributed 0.05 percentage points, and state and local government (see\\\\cbox{purple!70!magenta}) contributed 0.22 percentage points.'"
      ]
     },
     "execution_count": 13,
     "metadata": {},
     "output_type": "execute_result"
    }
   ],
   "source": [
    "n = {'A822RY': 'Total',\n",
    "     'A823RY': '\\hspace{1mm}Federal total',\n",
    "     'A824RY': '\\hspace{1mm}\\cbox{blue!60!black}National defense',\n",
    "     'A997RY': '\\hspace{7mm}Consumption expenditures',\n",
    "     'A788RY': '\\hspace{7mm}Gross investment',\n",
    "     'A825RY': '\\hspace{1mm}\\cbox{green!85!black}Nondefense',\n",
    "     'A542RY': '\\hspace{7mm}Consumption expenditures',\n",
    "     'A798RY': '\\hspace{7mm}Gross investment',\n",
    "     'A829RY': '\\hspace{-2mm}\\cbox{purple!70!magenta}State \\& local total',\n",
    "     'A991RY': '\\hspace{5mm}Consumption expenditures',\n",
    "     'A799RY': '\\hspace{5mm}Gross investment'}\n",
    "\n",
    "s = n.keys()\n",
    "\n",
    "df = nipa_df(retrieve_table('T10502')['Data'], s)\n",
    "df.loc['1989':].to_csv(data_dir / 'gov.csv', index_label='date')\n",
    "\n",
    "d = series_info(df['A822RY'])    \n",
    "d2 = {}\n",
    "for i in ['A824RY', 'A825RY', 'A829RY']:\n",
    "    d2[i] = cont_subt(df[i].iloc[-1], 'end')\n",
    "    \n",
    "ltmain = cont_subt(d['val_latest'], 'main')\n",
    "compare = compare_text(d['val_latest'], d['one_year_mean'], [0.05, 0.25, 0.5])\n",
    "compare2 = compare_text(d['val_latest'], d['mean'], [0.05, 0.25, 0.5])\n",
    "    \n",
    "txt = ('Government consumption expeditures and gross investment, which provide '+\n",
    "       f'services and infrastructure, {ltmain} real GDP growth in {d[\"date_latest_ft\"]}, '+\n",
    "       f'{compare} the average contribution of {d[\"one_year_mean\"]:.2f} percentage points '+\n",
    "       f'over the past year, and {compare2} the average of {d[\"mean\"]:.2f} percentage points since 1989. '+\n",
    "       f'In {d[\"date_latest_ft\"]}, federal defense spending and investment (see\\cbox{{blue!60!black}}) '+\n",
    "       f'{d2[\"A824RY\"]}, nondefense federal government spending and investment '+\n",
    "       f'(see\\cbox{{green!85!black}}) {d2[\"A825RY\"]}, and state and '+\n",
    "       f'local government (see\\cbox{{purple!70!magenta}}) {d2[\"A829RY\"]}.')\n",
    "\n",
    "write_txt(text_dir / 'gov.txt', txt)\n",
    "\n",
    "txt"
   ]
  },
  {
   "cell_type": "code",
   "execution_count": 14,
   "metadata": {},
   "outputs": [],
   "source": [
    "result = df[n.keys()]\n",
    "\n",
    "data = result.iloc[-5:].iloc[::-1].T\n",
    "\n",
    "cols = [f' {q.year} Q{q.quarter}' \n",
    "        if i == 0 else f'`{str(q.year)[2:]} Q{q.quarter}'\n",
    "        for i, q in enumerate(data.columns)]\n",
    "\n",
    "data.columns = cols\n",
    "data['3-year'] = result.rolling(13).mean().iloc[-1].round(2)\n",
    "data['10-year'] = result.rolling(41).mean().iloc[-1].round(2)\n",
    "data['30-year'] = result.rolling(121).mean().iloc[-1].round(2)\n",
    "data.index = data.index.map(n)\n",
    "data = data.applymap('{:.2f}'.format)\n",
    "data.to_csv(data_dir / 'gov.tex', sep='&', line_terminator='\\\\\\ ', quotechar=' ')"
   ]
  },
  {
   "cell_type": "code",
   "execution_count": null,
   "metadata": {},
   "outputs": [],
   "source": []
  },
  {
   "cell_type": "code",
   "execution_count": null,
   "metadata": {},
   "outputs": [],
   "source": []
  },
  {
   "cell_type": "markdown",
   "metadata": {},
   "source": [
    "### Government receipts and expenditures"
   ]
  },
  {
   "cell_type": "code",
   "execution_count": 20,
   "metadata": {
    "ExecuteTime": {
     "end_time": "2019-11-01T00:29:29.092805Z",
     "start_time": "2019-11-01T00:29:29.017408Z"
    }
   },
   "outputs": [],
   "source": [
    "# State and local government\n",
    "s = ['W024RC', 'W023RC']\n",
    "\n",
    "df = nipa_df(retrieve_table('T30300')['Data'], s)\n",
    "\n",
    "gdp = nipa_df(retrieve_table('T10105')['Data'], ['A191RC'])['A191RC']\n",
    "\n",
    "df['GDP'] = gdp\n",
    "\n",
    "(df.div(df['GDP'], axis=0) * 100).loc['1989':].to_csv(data_dir / 'slggdp.csv', index_label='date', float_format='%g')\n",
    "df = df.dropna() / 1000000"
   ]
  },
  {
   "cell_type": "code",
   "execution_count": 22,
   "metadata": {},
   "outputs": [
    {
     "data": {
      "text/plain": [
       "'Consolidated state and local government expenditures total \\\\$3.0 trillion, or 13.8 percent of GDP, in 2019 Q4, and receipts total \\\\$2.8 trillion, equivalent to 12.7 percent of GDP. The combined state and local government deficit was \\\\$232 billion or 1.07 percent of GDP. Over the past three years, the expenditures to GDP ratio decreased by a total of 0.57 percentage points at the consolidated state and local level, and the ratio of receipts to GDP has decreased by a total of 0.38 percentage points, causing the deficit to shrink by 0.19 percent of GDP.'"
      ]
     },
     "execution_count": 22,
     "metadata": {},
     "output_type": "execute_result"
    }
   ],
   "source": [
    "ldate = dtxt(df.index[-1])['qtr1']\n",
    "gdp = df.GDP.iloc[-1]\n",
    "gdp3y = df.GDP.iloc[-13]\n",
    "gdpgr = ((gdp / gdp3y) - 1) * 100\n",
    "exp = df.W024RC.iloc[-1]\n",
    "exp3y = df.W024RC.iloc[-13]\n",
    "expsh = exp / gdp * 100\n",
    "exp3ysh = exp3y / gdp3y * 100\n",
    "expgr = ((exp / exp3y) - 1) * 100\n",
    "rec = df.W023RC.iloc[-1]\n",
    "rec3y = df.W023RC.iloc[-13]\n",
    "recsh = rec / gdp * 100\n",
    "rec3ysh = rec3y / gdp3y * 100\n",
    "recgr = ((rec / rec3y) - 1) * 100\n",
    "diff = rec - exp\n",
    "diffsh = diff / gdp * 100\n",
    "diff3y = rec3y - exp3y\n",
    "diffgr = ((diff / diff3y) - 1) * 100\n",
    "if diff < 0:\n",
    "    txt = 'deficit'\n",
    "else:\n",
    "    txt = 'surplus'\n",
    "\n",
    "recshch = recsh - rec3ysh\n",
    "rectxt = f'{[\"increased\" if recshch >= 0 else \"decreased\"][0]} by a total of {abs(recshch):.2f} percentage points'\n",
    "\n",
    "expshch = expsh - exp3ysh\n",
    "exptxt = f'{[\"increased\" if expshch >= 0 else \"decreased\"][0]} by a total of {abs(expshch):.2f} percentage points'\n",
    "\n",
    "diffch = recshch - expshch\n",
    "\n",
    "difftxt = [f'shrink by {diffch:.2f} percent of GDP' if diffch >= 0.1 \n",
    "             else f'widen by {abs(diffch):.2f} percent of GDP' if diffch <= -0.1 \n",
    "             else 'be unchanged'][0]\n",
    "\n",
    "\n",
    "text = (f'Consolidated state and local government expenditures total \\${exp:.1f} trillion, '+\n",
    "        f'or {expsh:.1f} percent of GDP, in {ldate}, and receipts total '+\n",
    "        f'\\${rec:.1f} trillion, equivalent to {recsh:.1f} percent of GDP. The combined state'+\n",
    "        f' and local government {txt} was '+\n",
    "        f'\\${abs(diff) * 1000:.0f} billion or {abs(diffsh):.2f} percent of GDP. '+\n",
    "        f'Over the past three years, the expenditures to GDP ratio {exptxt} at the '+\n",
    "        f'consolidated state and local level, and the ratio of '+\n",
    "        f'receipts to GDP has {rectxt}, causing the {txt} to {difftxt}.')\n",
    "\n",
    "write_txt(text_dir / 'govexprec1.txt', text)\n",
    "\n",
    "text"
   ]
  },
  {
   "cell_type": "code",
   "execution_count": 32,
   "metadata": {
    "ExecuteTime": {
     "end_time": "2019-11-01T00:29:31.169034Z",
     "start_time": "2019-11-01T00:29:31.092413Z"
    }
   },
   "outputs": [],
   "source": [
    "# Federal government\n",
    "s = ['W005RC', 'W013RC']\n",
    "\n",
    "df = nipa_df(retrieve_table('T30200')['Data'], s)\n",
    "\n",
    "gdp = nipa_df(retrieve_table('T10105')['Data'], ['A191RC'])['A191RC']\n",
    "\n",
    "df['GDP'] = gdp\n",
    "\n",
    "(df.div(df['GDP'], axis=0) * 100).to_csv(data_dir / 'fedgdp.csv', index_label='date', float_format='%g')\n",
    "df = (df / 1000000).dropna()"
   ]
  },
  {
   "cell_type": "code",
   "execution_count": 33,
   "metadata": {},
   "outputs": [
    {
     "data": {
      "text/plain": [
       "'In 2019 Q4, federal government expenditures total \\\\$4.9 trillion, equivalent to 22.4 percent of GDP, and receipts total \\\\$3.6 trillion, or 16.8 percent of GDP. The federal deficit was therefore \\\\$1.2 trillion or 5.7 percent of GDP. Over the past three years, the ratio of expenditures to GDP increased by a total of 0.4 percentage points, and the ratio of receipts to GDP has decreased by a total of 1.6 percentage points, causing the deficit to widen by 2.0 percent of GDP.'"
      ]
     },
     "execution_count": 33,
     "metadata": {},
     "output_type": "execute_result"
    }
   ],
   "source": [
    "ldate = dtxt(df.index[-1])['qtr1']\n",
    "gdp = df.GDP.iloc[-1]\n",
    "gdp3y = df.GDP.iloc[-13]\n",
    "gdpgr = ((gdp / gdp3y) - 1) * 100\n",
    "exp = df.W013RC.iloc[-1]\n",
    "exp3y = df.W013RC.iloc[-13]\n",
    "expsh = exp / gdp * 100\n",
    "exp3ysh = exp3y / gdp3y * 100\n",
    "expgr = ((exp / exp3y) - 1) * 100\n",
    "rec = df.W005RC.iloc[-1]\n",
    "rec3y = df.W005RC.iloc[-13]\n",
    "recsh = rec / gdp * 100\n",
    "rec3ysh = rec3y / gdp3y * 100\n",
    "recgr = ((rec / rec3y) - 1) * 100\n",
    "diff = rec - exp\n",
    "diffsh = diff / gdp * 100\n",
    "diff3y = rec3y - exp3y\n",
    "diffgr = ((diff / diff3y) - 1) * 100\n",
    "if diff < 0:\n",
    "    txt = 'deficit'\n",
    "else:\n",
    "    txt = 'surplus'\n",
    "\n",
    "recshch = recsh - rec3ysh\n",
    "rectxt = f'{[\"increased\" if recshch >= 0 else \"decreased\"][0]} by a total of {abs(recshch):.1f} percentage points'\n",
    "\n",
    "expshch = expsh - exp3ysh\n",
    "exptxt = f'{[\"increased\" if expshch >= 0 else \"decreased\"][0]} by a total of {abs(expshch):.1f} percentage points'\n",
    "\n",
    "diffch = recshch - expshch\n",
    "\n",
    "difftxt = [f'shrink by {diffch:.1f} percent of GDP' if diffch >= 0.1 \n",
    "             else f'widen by {abs(diffch):.1f} percent of GDP' if diffch <= -0.1 \n",
    "             else 'be unchanged'][0]\n",
    "\n",
    "text = (f'In {ldate}, federal government expenditures total \\${exp:.1f} trillion, '+\n",
    "        f'equivalent to {expsh:.1f} percent of GDP, and receipts total '+\n",
    "        f'\\${rec:.1f} trillion, or {recsh:.1f} percent of GDP. The federal {txt} was therefore '+\n",
    "        f'\\${abs(diff):.1f} trillion or {abs(diffsh):.1f} percent of GDP. '+\n",
    "        f'Over the past three years, the ratio of expenditures to GDP {exptxt}, and the ratio of '+\n",
    "        f'receipts to GDP has {rectxt}, causing the {txt} to {difftxt}.')\n",
    "\n",
    "write_txt(text_dir / 'govexprec2.txt', text)\n",
    "\n",
    "text"
   ]
  },
  {
   "cell_type": "code",
   "execution_count": null,
   "metadata": {},
   "outputs": [],
   "source": []
  },
  {
   "cell_type": "code",
   "execution_count": null,
   "metadata": {},
   "outputs": [],
   "source": []
  },
  {
   "cell_type": "markdown",
   "metadata": {},
   "source": [
    "### Public Debt by Holder"
   ]
  },
  {
   "cell_type": "code",
   "execution_count": 2,
   "metadata": {
    "ExecuteTime": {
     "end_time": "2019-12-15T20:42:58.449627Z",
     "start_time": "2019-12-15T20:42:54.735870Z"
    }
   },
   "outputs": [],
   "source": [
    "series = ['FDHBATN', 'GFDEBTN', 'FDHBFRBN', 'FDHBPIN', 'FDHBFIN']\n",
    "start = '1988-01-01'\n",
    "ftype = '&file_type=json'\n",
    "base = 'https://api.stlouisfed.org/fred/series/observations?'\n",
    "\n",
    "df = pd.DataFrame()\n",
    "\n",
    "for srs in series:\n",
    "    param = f'series_id={srs}&observation_start={start}&api_key={fred_key}'\n",
    "   \n",
    "\n",
    "    url = f'{base}{param}{ftype}'\n",
    "    r = requests.get(url).json()['observations']\n",
    "    data = pd.Series({i['date']: (float(i['value']) / 1000.0) \n",
    "                      if srs in series[:2] \n",
    "                      else float(i['value']) for i in r})\n",
    "    \n",
    "    df[srs] = data"
   ]
  },
  {
   "cell_type": "code",
   "execution_count": 9,
   "metadata": {
    "ExecuteTime": {
     "end_time": "2019-12-15T20:42:59.662879Z",
     "start_time": "2019-12-15T20:42:59.612612Z"
    }
   },
   "outputs": [
    {
     "data": {
      "text/plain": [
       "'In the third quarter of 2019, total public debt was \\\\$22.7 trllion, equivalent to 105.5 percent of GDP. Of this, \\\\$7.9 trillion, or 34.8 percent of the total, is held by private domestic investors (see\\\\cbox{green!60!black}). An additional \\\\$6.8 trillion, or 29.8 percent of the total, is held by foreign investors (see\\\\cbox{orange!70!white}). The remainder is held by the Federal Reserve (see\\\\cbox{blue}) and various government agencies and trusts (see\\\\cbox{cyan!50!white}), such as the Social Security Trust Fund. '"
      ]
     },
     "execution_count": 9,
     "metadata": {},
     "output_type": "execute_result"
    }
   ],
   "source": [
    "df = df.dropna()\n",
    "df['PD'] = df['FDHBPIN'] - df['FDHBFIN']\n",
    "df['IG'] = df['GFDEBTN'] - (df['FDHBFRBN'] + df['FDHBPIN'])\n",
    "\n",
    "gdp = nipa_df(retrieve_table('T10105')['Data'], ['A191RC'])['A191RC']\n",
    "\n",
    "data = df.div(gdp / 1000.0, axis=0).dropna()\n",
    "\n",
    "(data[['PD', 'FDHBFIN', 'FDHBFRBN', 'IG']] * 100).to_csv(data_dir / 'pubdebt.csv', index_label='date')\n",
    "\n",
    "ld = pd.to_datetime(df.index[-1])\n",
    "ldate = dtxt(ld)['qtr2']\n",
    "\n",
    "sh = df.div(df['GFDEBTN'], axis=0).iloc[-1] * 100\n",
    "lv = df.iloc[-1] / 1000\n",
    "dl = data.iloc[-1] * 100\n",
    "\n",
    "text = (f'In {ldate}, total public debt was \\${lv.GFDEBTN:.1f} trllion, '+\n",
    "        f'equivalent to {dl.GFDEBTN:.1f} percent of GDP. Of this, \\${lv.PD:.1f} '+\n",
    "        f'trillion, or {sh.PD:.1f} percent of the total, is held by '+\n",
    "        'private domestic investors (see\\cbox{green!60!black}). An additional '+\n",
    "        f'\\${lv.FDHBFIN:.1f} trillion, or {sh.FDHBFIN:.1f} percent '+\n",
    "        'of the total, is held by foreign investors (see\\cbox{orange!70!white}). '+\n",
    "        'The remainder is held by the Federal Reserve (see\\cbox{blue}) '+\n",
    "        'and various government agencies and trusts (see\\cbox{cyan!50!white}), '+\n",
    "        'such as the Social Security Trust Fund. ')\n",
    "\n",
    "write_txt(text_dir / 'pubdebt.txt', text)\n",
    "\n",
    "text"
   ]
  },
  {
   "cell_type": "code",
   "execution_count": null,
   "metadata": {},
   "outputs": [],
   "source": []
  },
  {
   "cell_type": "code",
   "execution_count": null,
   "metadata": {},
   "outputs": [],
   "source": []
  },
  {
   "cell_type": "markdown",
   "metadata": {},
   "source": [
    "### Personal Income"
   ]
  },
  {
   "cell_type": "code",
   "execution_count": 36,
   "metadata": {},
   "outputs": [
    {
     "data": {
      "text/plain": [
       "'Aggregate real personal income increased at an annualized rate of 1.73 percent in 2019 Q4. Labor income contributed 1.45 percentage points to overall growth, capital income contributed 0.13 percentage points, and welfare income contributed 0.15 percentage points. '"
      ]
     },
     "execution_count": 36,
     "metadata": {},
     "output_type": "execute_result"
    }
   ],
   "source": [
    "s = ['DPCERG']\n",
    "\n",
    "d = nipa_df(retrieve_table('T20304')['Data'], s)['DPCERG']\n",
    "deflator = d.iloc[-1] / d\n",
    "\n",
    "s = ['A065RC', 'A033RC', 'A041RC', 'A048RC', 'W210RC', 'A577RC', 'A061RC']\n",
    "\n",
    "df = (nipa_df(retrieve_table('T20100')['Data'], s)\n",
    "      .assign(CAPITAL = lambda x: x['A041RC'] + x['A048RC'] + x['W210RC'],\n",
    "              TRANSFER = lambda x: x['A577RC'] - x['A061RC'])\n",
    "      .drop(['A061RC', 'A041RC', 'A048RC', 'W210RC', 'A577RC'], axis=1)\n",
    "      .multiply(deflator, axis=0))\n",
    "growth_contrib(df, 'A065RC').loc['1989':].to_csv(data_dir / 'pi.csv', index_label='date')\n",
    "\n",
    "\n",
    "data = growth_contrib(df, 'A065RC').rename({'A065RC': 'TOTAL', 'A033RC': 'LABOR'}, axis=1)\n",
    "\n",
    "val3y = data.rolling(12).mean().iloc[-1]\n",
    "\n",
    "ltdate = dtxt(data.index[-1])['qtr1']\n",
    "\n",
    "\n",
    "d = {}\n",
    "\n",
    "for i in data.keys():\n",
    "    val = data[i].iloc[-1]\n",
    "    if val >= 0.1:\n",
    "        d[i] = f'contributed {val:.2f} percentage points to'\n",
    "    elif val <= 0.1:\n",
    "        d[i] = f'subtracted {abs(val):.2f} percentage points from'\n",
    "    else:\n",
    "        d[i] = 'did not contribute significantly to'\n",
    "        \n",
    "d['TOTAL'] = (d['TOTAL']\n",
    "              .replace('contributed', 'increased at an annualized rate of')\n",
    "              .replace('subtracted', 'decreased at an annualized rate of')\n",
    "              .replace('percentage points', 'percent')\n",
    "              .replace(' to', '').replace(' from', ''))\n",
    "\n",
    "for i in ['TRANSFER', 'CAPITAL']:\n",
    "    d[i] = d[i].replace(' to', '').replace(' from', '')\n",
    "    \n",
    "    \n",
    "d2 = {}\n",
    "\n",
    "for i in data.keys():\n",
    "    val = val3y[i]\n",
    "    if val >= 0.1:\n",
    "        d2[i] = f'contributed an average of {val:.2f} percentage points'\n",
    "    elif val <= 0.1:\n",
    "        d2[i] = f'subtracted an average of {abs(val):.2f} percentage points'\n",
    "    else:\n",
    "        d2[i] = 'did not contribute significantly, on average'\n",
    "        \n",
    "text = (f'Aggregate real personal income {d[\"TOTAL\"]} in {ltdate}. '+\n",
    "        f'Labor income {d[\"LABOR\"]} overall growth, '+\n",
    "        f'capital income {d[\"CAPITAL\"]}, and welfare income {d[\"TRANSFER\"]}. ')\n",
    "\n",
    "write_txt(text_dir / 'pi.txt', text)\n",
    "\n",
    "text"
   ]
  },
  {
   "cell_type": "code",
   "execution_count": null,
   "metadata": {},
   "outputs": [],
   "source": []
  },
  {
   "cell_type": "code",
   "execution_count": null,
   "metadata": {},
   "outputs": [],
   "source": []
  },
  {
   "cell_type": "markdown",
   "metadata": {},
   "source": [
    "### Consumer Spending Growth Contributions"
   ]
  },
  {
   "cell_type": "code",
   "execution_count": 37,
   "metadata": {
    "ExecuteTime": {
     "end_time": "2019-11-03T17:36:01.148553Z",
     "start_time": "2019-11-03T17:36:01.014154Z"
    }
   },
   "outputs": [],
   "source": [
    "s = ['B230RC']\n",
    "\n",
    "population = nipa_df(retrieve_table('T20100')['Data'], s)['B230RC']\n",
    "\n",
    "s = ['DPCERG']\n",
    "\n",
    "d = nipa_df(retrieve_table('T20304')['Data'], s)['DPCERG']\n",
    "deflator = d.iloc[-1] / d\n",
    "\n",
    "s = ['A067RC', 'A068RC', 'A071RC', 'DPCERC']\n",
    "\n",
    "df = (nipa_df(retrieve_table('T20100')['Data'], s)\n",
    "      .assign(OTHER = lambda x: -(x['A068RC'] - x['DPCERC']),\n",
    "              SAVING = lambda x: -x['A071RC'])\n",
    "      .drop(['A068RC'], axis=1)\n",
    "      .divide(population, axis=0)\n",
    "      .multiply(deflator, axis=0))\n",
    "\n",
    "data = growth_contrib(df, 'DPCERC').rolling(4).mean()\n",
    "data3y = growth_contrib(df, 'DPCERC').rolling(12).mean()\n",
    "data.loc['1989':].to_csv(data_dir / 'pcedecomp.csv', index_label='date')"
   ]
  },
  {
   "cell_type": "code",
   "execution_count": 38,
   "metadata": {
    "ExecuteTime": {
     "end_time": "2019-11-03T17:32:26.502517Z",
     "start_time": "2019-11-03T17:32:26.485449Z"
    }
   },
   "outputs": [],
   "source": [
    "date = f'{data.index[-1].year} Q{data.index[-1].quarter}'\n",
    "\n",
    "pce = round(data['DPCERC'].iloc[-1], 1)\n",
    "if pce > 0:\n",
    "    pcedir = 'increased'\n",
    "elif pce < 0:\n",
    "    pcedir = 'decreased'\n",
    "else: \n",
    "    pcedir = ''\n",
    "pcetext = f'{pcedir} at an average rate of {abs(pce):.1f} percent' \n",
    "if pce == 0:\n",
    "    pcetext = 'was unchanged'\n",
    "    \n",
    "slist = ['A067RC', 'SAVING', 'OTHER']\n",
    "d = {}\n",
    "for i in slist:\n",
    "    d[i] = round(data[i].iloc[-1], 1)\n",
    "    tname = f'{i}txt'\n",
    "    if d[i] > 0:\n",
    "        tmpdir = 'added'\n",
    "    elif d[i] < 0:\n",
    "        tmpdir = 'subtracted'\n",
    "    else:\n",
    "        tmpdir = ''\n",
    "    tmptxt = f'{tmpdir} {abs(d[i]):.1f} percentage points'\n",
    "    if d[i] == 0:\n",
    "        tmptxt = \"didn't affect the total\"\n",
    "    d[tname] = tmptxt"
   ]
  },
  {
   "cell_type": "code",
   "execution_count": 39,
   "metadata": {
    "ExecuteTime": {
     "end_time": "2019-11-03T17:35:29.078572Z",
     "start_time": "2019-11-03T17:35:29.072301Z"
    }
   },
   "outputs": [],
   "source": [
    "pcetxt1 = (f'Real per capita consumer spending {pcetext} over the '+\n",
    "           f'four quarters ending {date}. Changes to disposable income '+\n",
    "           f'{d[\"A067RCtxt\"]}, changes to saving {d[\"SAVINGtxt\"]}, and '+\n",
    "           f'changes to other outlays {d[\"OTHERtxt\"]}.')\n",
    "\n",
    "pcetxt2 = ('Over the past three years, real per capita consumer spending '+\n",
    "           f'growth has averaged {data3y[\"DPCERC\"].iloc[-1]:.1f} percent, '+\n",
    "           f'with income growth contribuing an average of {data3y[\"A067RC\"].iloc[-1]:.1f} '+\n",
    "           'percentage points and saving subtracting an average of '+\n",
    "           f'{abs(data3y[\"SAVING\"].iloc[-1]):.1f} percentage points.')\n",
    "\n",
    "pcetxt = f'{pcetxt1} {pcetxt2}'\n",
    "\n",
    "write_txt(text_dir / 'pcedecomp.txt', pcetxt)"
   ]
  },
  {
   "cell_type": "code",
   "execution_count": null,
   "metadata": {},
   "outputs": [],
   "source": []
  },
  {
   "cell_type": "code",
   "execution_count": null,
   "metadata": {},
   "outputs": [],
   "source": []
  },
  {
   "cell_type": "markdown",
   "metadata": {},
   "source": [
    "### Sectoral Accounts\n",
    "\n",
    "**NOTE:** Need to convert \"deficit\", \"borrower\" etc to parameters!"
   ]
  },
  {
   "cell_type": "code",
   "execution_count": 3,
   "metadata": {
    "ExecuteTime": {
     "end_time": "2019-12-16T22:59:18.561746Z",
     "start_time": "2019-12-16T22:59:18.426611Z"
    }
   },
   "outputs": [],
   "source": [
    "s = ['W162RC', 'W994RC', 'AD01RC', 'W995RC', 'W996RC', 'AD03RC']\n",
    "df = (nipa_df(retrieve_table('T50100')['Data'], s).div(\n",
    "      nipa_df(retrieve_table('T10105')['Data'], ['A191RC'])['A191RC'], axis=0)) * 100\n",
    "\n",
    "df[['W995RC', 'W996RC', 'AD03RC']].dropna().to_csv(data_dir / 'sectbal2.csv', index_label='date')\n",
    "\n",
    "data = pd.DataFrame()\n",
    "data['PRIV'] = df['W994RC']\n",
    "data['GOV'] = df['AD01RC']\n",
    "data['ROW'] = -df['W162RC']\n",
    "data = data.dropna()\n",
    "date = dtxt(data.index[-1])['qtr1']\n",
    "\n",
    "data.dropna().to_csv(data_dir / 'sectbal.csv', index_label='date')\n",
    "\n",
    "priv_curr = abs(data['PRIV'].iloc[-1])\n",
    "priv_prev = abs(data.loc['2015-01-01', 'PRIV'])\n",
    "gov_curr = abs(data['GOV'].iloc[-1])\n",
    "gov_prev = abs(data.loc['2015-01-01', 'GOV'])\n",
    "row_curr = abs(data['ROW'].iloc[-1])\n",
    "row_prev = abs(data.loc['2015-01-01', 'ROW'])"
   ]
  },
  {
   "cell_type": "code",
   "execution_count": 4,
   "metadata": {},
   "outputs": [],
   "source": [
    "compare = compare_text(priv_curr, priv_prev, [0.4, 1.0, 3.5])"
   ]
  },
  {
   "cell_type": "code",
   "execution_count": 5,
   "metadata": {
    "ExecuteTime": {
     "end_time": "2019-12-16T22:59:21.723963Z",
     "start_time": "2019-12-16T22:59:21.720631Z"
    }
   },
   "outputs": [
    {
     "name": "stdout",
     "output_type": "stream",
     "text": [
      "In 2019 Q4, the US private sector was a net lender (running a surplus) of the equivalent of 5.4 percent of GDP, substantially above the 2.3 percent surplus in 2015 Q1. The rest of the world was a net lender to the US, to the equivalent of 2.0 percent of GDP in 2019 Q4 compared to 2.4 percent in 2015 Q1. Balancing these transactions, the government (federal, state, and local combined) was a net borrower (running a deficit) of the equivalent of 7.5 percent of GDP, compared to 4.7 percent in 2015. \n"
     ]
    }
   ],
   "source": [
    "sectbaltxt = (f\"In {date}, the US private sector was a net lender (running a surplus) of \"+\n",
    "              f\"the equivalent of {priv_curr:.1f} percent of GDP, {compare} the {priv_prev:.1f} \"+\n",
    "              \"percent surplus in 2015 Q1. The rest of the world was a net lender to the US, to the \"+\n",
    "              f\"equivalent of {row_curr:.1f} percent of GDP in {date} compared to {row_prev:.1f} \"+\n",
    "              f\"percent in 2015 Q1. Balancing these transactions, the government (federal, state, \"+\n",
    "              f\"and local combined) was a net borrower (running a deficit) of the equivalent \"+\n",
    "              f\"of {gov_curr:.1f} percent of GDP, compared to {gov_prev:.1f} percent in 2015. \")\n",
    "print(sectbaltxt)\n",
    "\n",
    "write_txt(text_dir / 'sectbal.txt', sectbaltxt)"
   ]
  },
  {
   "cell_type": "code",
   "execution_count": 6,
   "metadata": {
    "ExecuteTime": {
     "end_time": "2019-12-16T23:05:35.683520Z",
     "start_time": "2019-12-16T23:05:35.678923Z"
    }
   },
   "outputs": [
    {
     "data": {
      "text/plain": [
       "'Within the private sector, households were net lenders of the equivalent of 4.5 percent of GDP in 2019 Q4 (see\\\\cbox{orange!90!yellow}), while the net financial balance of private businesses--corporate and noncorporate--was equivalent to 0.9 percent of GDP (see\\\\cbox{purple!50!red}).'"
      ]
     },
     "execution_count": 6,
     "metadata": {},
     "output_type": "execute_result"
    }
   ],
   "source": [
    "dt = df.dropna().index[-1]\n",
    "ltdate = dtxt(dt)['qtr1']\n",
    "hhsh = df.loc[dt, 'W996RC']\n",
    "pbussh = f\"{df.loc[dt, 'W995RC']:.1f} percent of GDP\"\n",
    "\n",
    "if (df.loc[dt, 'W995RC'] > -0.1) & (df.loc[dt, 'W995RC'] < 0.1):\n",
    "    pbussh = 'unchanged'\n",
    "    \n",
    "text = (f'Within the private sector, households were net lenders of the equivalent of {hhsh:.1f} '+\n",
    "        f'percent of GDP in {ltdate} (see\\cbox{{orange!90!yellow}}), while the '+\n",
    "         'net financial balance of private businesses--corporate and noncorporate--was '+\n",
    "        f'equivalent to {pbussh} (see\\cbox{{purple!50!red}}).')  \n",
    "\n",
    "write_txt(text_dir / 'sectbal2.txt', text)\n",
    "\n",
    "text"
   ]
  },
  {
   "cell_type": "code",
   "execution_count": null,
   "metadata": {},
   "outputs": [],
   "source": []
  },
  {
   "cell_type": "code",
   "execution_count": null,
   "metadata": {},
   "outputs": [],
   "source": []
  },
  {
   "cell_type": "markdown",
   "metadata": {},
   "source": [
    "### Current Account Balance"
   ]
  },
  {
   "cell_type": "code",
   "execution_count": 45,
   "metadata": {
    "ExecuteTime": {
     "end_time": "2019-11-04T00:18:51.088235Z",
     "start_time": "2019-11-04T00:18:50.873013Z"
    },
    "code_folding": []
   },
   "outputs": [
    {
     "data": {
      "text/plain": [
       "'As of 2019 Q4, the US runs a current account deficit of 2.0 percent of GDP, primarily as the result of a trade deficit on goods of 3.8 percent of GDP.'"
      ]
     },
     "execution_count": 45,
     "metadata": {},
     "output_type": "execute_result"
    }
   ],
   "source": [
    "s = ['A191RC']\n",
    "\n",
    "gdp = nipa_df(retrieve_table('T10105')['Data'], s)\n",
    "\n",
    "s = ['A124RC', 'A253RC', 'A255RC', 'A646RC', 'B656RC', 'B645RC',\n",
    "     'A655RC', 'A123RC']\n",
    "\n",
    "df = (nipa_df(retrieve_table('T40100')['Data'], s)\n",
    "      .assign(GOODS = lambda x: x['A253RC'] - x['A255RC'],\n",
    "              SERVICES = lambda x: x['A646RC'] - x['B656RC'],\n",
    "              INCOME = lambda x: x['B645RC'] - x['A655RC'],\n",
    "              TRANSFERS = lambda x: - x['A123RC'])\n",
    "      .drop(s[1:], axis=1).drop_duplicates())\n",
    "\n",
    "data = (df.div(nipa_df(retrieve_table('T10105')['Data'], ['A191RC']\n",
    "               )['A191RC'], axis=0).dropna().loc['1989':].multiply(100).round(2))\n",
    "\n",
    "data.loc['1989':].to_csv(data_dir / 'cab.csv', index_label='date')\n",
    "\n",
    "cab = abs(data['A124RC'].iloc[-1])\n",
    "tb = abs(data['GOODS'].iloc[-1])\n",
    "ld = dtxt(data.index[-1])['qtr1']\n",
    "\n",
    "text = (f'As of {ld}, the US runs a current account deficit of {cab:.1f} '+\n",
    "        'percent of GDP, primarily as the result of a trade deficit on '+\n",
    "        f'goods of {tb:.1f} percent of GDP.')\n",
    "\n",
    "write_txt(text_dir / 'cab.txt', text)\n",
    "\n",
    "text"
   ]
  },
  {
   "cell_type": "code",
   "execution_count": null,
   "metadata": {
    "ExecuteTime": {
     "end_time": "2019-11-04T00:18:55.197181Z",
     "start_time": "2019-11-04T00:18:55.189648Z"
    }
   },
   "outputs": [],
   "source": []
  },
  {
   "cell_type": "code",
   "execution_count": null,
   "metadata": {},
   "outputs": [],
   "source": []
  },
  {
   "cell_type": "markdown",
   "metadata": {},
   "source": [
    "### Federal Interest Outlays share of GDP"
   ]
  },
  {
   "cell_type": "code",
   "execution_count": 2,
   "metadata": {},
   "outputs": [
    {
     "name": "stdout",
     "output_type": "stream",
     "text": [
      "The Office of Management and Budget \\href{https://www.whitehouse.gov/omb/historical-tables/}{reports} federal interest outlays of \\$375.2 billion in fiscal year 2019, compared to \\$325.0 billion in fiscal year 2018. Put into the context of the size of the economy, federal interest outlays in 2019 were equivalent to 1.8 percent of GDP, 1.6 percent of GDP in 2018, and an average of 2.9 percent in the 1990s, when interest rates were substantially higher. \n"
     ]
    }
   ],
   "source": [
    "tot = fred_df('FYOINT')['VALUE']\n",
    "fy = tot.index[-1].year\n",
    "pfy = tot.index[-2].year\n",
    "lttot = tot.iloc[-1] / 1000\n",
    "prtot = tot.iloc[-2] / 1000\n",
    "\n",
    "data = fred_df('FYOIGDA188S')['VALUE']\n",
    "\n",
    "data.to_csv(data_dir / 'fedintexp.csv', index_label='date', header=True)\n",
    "\n",
    "latest = data.iloc[-1]\n",
    "pval = data.iloc[-2]\n",
    "val90s = data.loc['1990':'1999'].mean()\n",
    "\n",
    "\n",
    "text = (f'The Office of Management and Budget '+\n",
    "        '\\href{https://www.whitehouse.gov/omb/historical-tables/}{reports} '+\n",
    "        f'federal interest outlays of \\${lttot:.1f} billion in fiscal year {fy}, '+\n",
    "        f'compared to \\${prtot:.1f} billion in fiscal year {pfy}. '+\n",
    "        f'Put into the context of the size of the economy, federal interest '+\n",
    "        f'outlays in {fy} were equivalent to {latest:.1f} percent of '+\n",
    "        f'GDP, {pval:.1f} percent of GDP in {pfy}, and an average of {val90s:.1f} '+\n",
    "        'percent in the 1990s, when interest rates were substantially higher. ')\n",
    "\n",
    "write_txt(text_dir / 'fedintexp.txt', text)\n",
    "\n",
    "print(text)\n",
    "\n",
    "node = end_node(data, 'magenta')\n",
    "write_txt(text_dir / 'fedintexp_node.txt', node)"
   ]
  },
  {
   "cell_type": "code",
   "execution_count": null,
   "metadata": {},
   "outputs": [],
   "source": []
  },
  {
   "cell_type": "code",
   "execution_count": null,
   "metadata": {},
   "outputs": [],
   "source": []
  },
  {
   "cell_type": "code",
   "execution_count": null,
   "metadata": {
    "ExecuteTime": {
     "end_time": "2019-11-03T21:32:21.272688Z",
     "start_time": "2019-11-03T21:32:21.268715Z"
    }
   },
   "outputs": [],
   "source": [
    "#nipa_series_codes(retrieve_table('T20100'))"
   ]
  },
  {
   "cell_type": "markdown",
   "metadata": {},
   "source": [
    "### Corporate Profits Destination"
   ]
  },
  {
   "cell_type": "code",
   "execution_count": 5,
   "metadata": {
    "ExecuteTime": {
     "end_time": "2019-12-16T22:26:03.999417Z",
     "start_time": "2019-12-16T22:26:03.993142Z"
    }
   },
   "outputs": [
    {
     "data": {
      "text/plain": [
       "'In the fourth quarter of 2019, aggregate corporate profits were \\\\$2.13 trillion, or 12.9 percent of net national income. Of this, \\\\$1.35 trillion, equivalent to 8.2 percent of net national product, were paid out as dividends (see\\\\cbox{blue!70!purple}), \\\\$556 billion were retained (see\\\\cbox{cyan!50!white}), and \\\\$223 billion went to corporate income tax (see\\\\cbox{red!80!orange}). '"
      ]
     },
     "execution_count": 5,
     "metadata": {},
     "output_type": "execute_result"
    }
   ],
   "source": [
    "s = ['A032RC', 'A438RC', 'A054RC', 'B056RC', 'A127RC']\n",
    "cprof = nipa_df(retrieve_table('T11200')['Data'], s) / 1000000\n",
    "\n",
    "cprof['NNI'] = cprof['A032RC'] - cprof['A438RC']\n",
    "cprof['TAX'] = cprof['A054RC'] / cprof['NNI'] * 100 \n",
    "cprof['DIV'] = cprof['B056RC'] / cprof['NNI'] * 100 \n",
    "cprof['RE'] = cprof['A127RC'] / cprof['NNI'] * 100 \n",
    "\n",
    "cprof[['TAX', 'DIV', 'RE']].loc['1989':].to_csv(data_dir / 'cprof.csv', index_label='date')\n",
    "\n",
    "dt = cprof.index[-1]\n",
    "ltdate = dtxt(cprof.index[-1])['qtr2']\n",
    "tot = cprof.loc[dt, ['A054RC', 'B056RC', 'A127RC']].sum()\n",
    "totsh = tot / cprof.loc[dt, 'NNI'] * 100\n",
    "div = cprof.loc[dt, 'B056RC']\n",
    "divsh = div / cprof.loc[dt, 'NNI'] * 100\n",
    "ret = cprof.loc[dt, 'A127RC']\n",
    "tax = cprof.loc[dt, 'A054RC']\n",
    "\n",
    "text = (f'In {ltdate}, aggregate corporate profits were \\${tot:.2f} trillion, or {totsh:.1f} '+\n",
    "        f'percent of net national income. Of this, \\${div:.2f} trillion, equivalent to {divsh:.1f} '+\n",
    "        'percent of net national product, were paid out as dividends (see\\cbox{blue!70!purple}), '+\n",
    "        f'\\${ret*1000:.0f} billion were retained (see\\cbox{{cyan!50!white}}), and \\${tax*1000:.0f} billion '+\n",
    "        'went to corporate income tax (see\\cbox{red!80!orange}). ')\n",
    "\n",
    "write_txt(text_dir / 'cprof.txt', text)\n",
    "\n",
    "text"
   ]
  },
  {
   "cell_type": "code",
   "execution_count": null,
   "metadata": {},
   "outputs": [],
   "source": []
  },
  {
   "cell_type": "code",
   "execution_count": null,
   "metadata": {},
   "outputs": [],
   "source": []
  },
  {
   "cell_type": "markdown",
   "metadata": {},
   "source": [
    "### Corporate profits source"
   ]
  },
  {
   "cell_type": "code",
   "execution_count": 48,
   "metadata": {
    "ExecuteTime": {
     "end_time": "2019-11-01T00:30:06.166913Z",
     "start_time": "2019-11-01T00:30:06.029974Z"
    }
   },
   "outputs": [],
   "source": [
    "s = ['W170RC', 'A262RC', 'W986RC', 'A922RC']\n",
    "df1 = nipa_df(retrieve_table('T50100')['Data'], s)\n",
    "\n",
    "s = ['A123RC']\n",
    "df2 = nipa_df(retrieve_table('T40100')['Data'], s)\n",
    "\n",
    "s = ['A001RC']\n",
    "df3 = nipa_df(retrieve_table('T10705')['Data'], s)\n",
    "\n",
    "cprof = pd.DataFrame()\n",
    "cprof['ROW Saving'] = (df2['A123RC'] / df3['A001RC']) * 100\n",
    "cprof['HH Saving'] = (- df1['W986RC'] / df3['A001RC']) * 100\n",
    "cprof['Gov Saving'] = (- df1['A922RC'] / df3['A001RC']) * 100\n",
    "cprof['Investment'] = ((df1['W170RC'] - df1['A262RC']) / df3['A001RC']) * 100\n",
    "\n",
    "cprof.loc['1989':].to_csv(data_dir / 'cprof2.csv', index_label='date')"
   ]
  },
  {
   "cell_type": "code",
   "execution_count": null,
   "metadata": {
    "ExecuteTime": {
     "end_time": "2019-10-30T23:45:29.704755Z",
     "start_time": "2019-10-30T23:45:27.663Z"
    }
   },
   "outputs": [],
   "source": [
    "#nipa_series_codes(retrieve_table('T50100'))"
   ]
  },
  {
   "cell_type": "code",
   "execution_count": null,
   "metadata": {},
   "outputs": [],
   "source": []
  },
  {
   "cell_type": "code",
   "execution_count": null,
   "metadata": {},
   "outputs": [],
   "source": []
  },
  {
   "cell_type": "markdown",
   "metadata": {},
   "source": [
    "### Labor Productivity"
   ]
  },
  {
   "cell_type": "code",
   "execution_count": 33,
   "metadata": {},
   "outputs": [],
   "source": [
    "# Series stored as a dictionary\n",
    "series = {'PRS85006092': 'value',\n",
    "          'PRS85006032': 'hours',\n",
    "          'PRS85006042': 'output',\n",
    "          'PRS84006033': 'hours_index'}"
   ]
  },
  {
   "cell_type": "code",
   "execution_count": 34,
   "metadata": {
    "ExecuteTime": {
     "end_time": "2019-11-06T17:22:29.201984Z",
     "start_time": "2019-11-06T17:22:25.977027Z"
    }
   },
   "outputs": [
    {
     "name": "stdout",
     "output_type": "stream",
     "text": [
      "Post Request Status: REQUEST_SUCCEEDED\n"
     ]
    }
   ],
   "source": [
    "# Start year and end year\n",
    "dates = (1989, 2019)\n",
    "df = bls_api(series, dates, bls_key)\n",
    "\n",
    "df.to_csv(data_dir / 'lprod.csv', index_label='date')"
   ]
  },
  {
   "cell_type": "code",
   "execution_count": 35,
   "metadata": {
    "ExecuteTime": {
     "end_time": "2019-11-06T17:35:01.313905Z",
     "start_time": "2019-11-06T17:35:01.288785Z"
    }
   },
   "outputs": [
    {
     "data": {
      "text/plain": [
       "'In 2019 Q4, labor productivity increased at an annual rate of 1.2 percent (see\\\\cbox{teal}), as the result of an increase of 2.4 percent in real ouput and an increase of 1.2 percent in hours worked. In the prior quarter, 2019 Q3, labor productivity decreased at an annual rate of 0.3 percent, as real output increased at an annual rate of 2.3 percent and hours of work increased at an annual rate of 2.7 percent. Over the past five years, labor productivity growth has averaged 1.2 percent, substantially below the 1989-onward average of 2.0 percent.'"
      ]
     },
     "execution_count": 35,
     "metadata": {},
     "output_type": "execute_result"
    }
   ],
   "source": [
    "df = pd.read_csv(data_dir / 'lprod.csv')\n",
    "df = df.set_index(pd.to_datetime(df['date']))\n",
    "df = df.drop('date',axis=1)\n",
    "\n",
    "d = series_info(df['value'])\n",
    "\n",
    "s = {}\n",
    "\n",
    "for srs in list(series.values()):\n",
    "    s[srs] = {}\n",
    "    tmp = series_info(df[srs])\n",
    "    for i in ['val_latest', 'val_prev']:\n",
    "        if tmp[i] > 0:\n",
    "            s[srs][i] = f'increased at an annual rate of {tmp[i]:.1f} percent'\n",
    "            s[srs][i+'2'] = f'an increase of {tmp[i]:.1f} percent'\n",
    "        elif tmp[i] < 0:\n",
    "            s[srs][i] = f'decreased at an annual rate of {abs(tmp[i]):.1f} percent'\n",
    "            s[srs][i+'2'] = f'a decrease of {abs(tmp[i]):.1f} percent'\n",
    "        else:\n",
    "            s[srs][i] = 'was unchanged'\n",
    "            s[srs][i+'2'] = 'no change'   \n",
    "            \n",
    "compare = compare_text(d[\"five_year_mean\"], d[\"mean\"], [0.1, 0.5, 2.0])\n",
    "    \n",
    "\n",
    "text = (f'In {d[\"date_latest_ft\"]}, labor productivity {s[\"value\"][\"val_latest\"]} '+\n",
    "        f'(see\\cbox{{teal}}), as the result of {s[\"output\"][\"val_latest2\"]} in real ouput and '+\n",
    "        f'{s[\"hours\"][\"val_latest2\"]} in hours worked. In the prior quarter, '+\n",
    "        f'{d[\"date_prev_ft\"]}, labor productivity {s[\"value\"][\"val_prev\"]}, as '+\n",
    "        f'real output {s[\"output\"][\"val_prev\"]} and hours of work {s[\"hours\"][\"val_prev\"]}. '+\n",
    "        f'Over the past five years, '+\n",
    "        f'labor productivity growth has averaged {d[\"five_year_mean\"]:.1f} percent, '+\n",
    "        f'{compare} the 1989-onward average of {d[\"mean\"]:.1f} percent.')\n",
    "\n",
    "write_txt(text_dir / 'lprod.txt', text)\n",
    "\n",
    "text"
   ]
  },
  {
   "cell_type": "code",
   "execution_count": 36,
   "metadata": {},
   "outputs": [
    {
     "data": {
      "text/plain": [
       "'Total hours worked in nonfarm businesses increased at an annual rate of 1.2 percent in 2019 Q4, following an increase of 2.7 percent in 2019 Q3.'"
      ]
     },
     "execution_count": 36,
     "metadata": {},
     "output_type": "execute_result"
    }
   ],
   "source": [
    "text = (f'Total hours worked in nonfarm businesses {s[\"hours\"][\"val_latest\"]} '+\n",
    "        f'in {d[\"date_latest_ft\"]}, following {s[\"hours\"][\"val_prev2\"]} in '+\n",
    "        f'{d[\"date_prev_ft\"]}.')\n",
    "\n",
    "write_txt(text_dir / 'tot_hours.txt', text)\n",
    "\n",
    "text"
   ]
  },
  {
   "cell_type": "code",
   "execution_count": null,
   "metadata": {},
   "outputs": [],
   "source": []
  },
  {
   "cell_type": "code",
   "execution_count": null,
   "metadata": {},
   "outputs": [],
   "source": []
  },
  {
   "cell_type": "markdown",
   "metadata": {},
   "source": [
    "### Gross Labor Income"
   ]
  },
  {
   "cell_type": "code",
   "execution_count": 51,
   "metadata": {
    "ExecuteTime": {
     "end_time": "2019-11-03T21:33:21.255545Z",
     "start_time": "2019-11-03T21:33:19.143067Z"
    }
   },
   "outputs": [
    {
     "name": "stdout",
     "output_type": "stream",
     "text": [
      "Post Request Status: REQUEST_SUCCEEDED\n"
     ]
    }
   ],
   "source": [
    "# Series stored as a dictionary\n",
    "#series = {'LNS12005054': 'Hours', 'LNS12000000': 'Employment'}\n",
    "\n",
    "# Start year and end year\n",
    "#dates = (1989, 2019)\n",
    "#emp_hrs = bls_api(series, dates, bls_key)"
   ]
  },
  {
   "cell_type": "code",
   "execution_count": 37,
   "metadata": {},
   "outputs": [],
   "source": [
    "emp = pd.read_csv(data_dir / 'lprod.csv').set_index('date')['hours_index']"
   ]
  },
  {
   "cell_type": "code",
   "execution_count": 38,
   "metadata": {
    "ExecuteTime": {
     "end_time": "2019-11-03T21:45:10.324640Z",
     "start_time": "2019-11-03T21:45:10.319025Z"
    }
   },
   "outputs": [],
   "source": [
    "#emp_hrs['Total'] = emp_hrs['Hours'] * emp_hrs['Employment']\n",
    "#emp = emp_hrs['Total'].resample('QS').mean()\n",
    "\n",
    "s = ['A033RC']\n",
    "coe = nipa_df(retrieve_table('T20100')['Data'], s)\n",
    "\n",
    "s = ['DPCERG']\n",
    "pce = nipa_df(retrieve_table('T20304')['Data'], s)\n",
    "\n",
    "data = coe.join(pce).join(emp).dropna()\n",
    "data['real_coe'] = data['A033RC'] / (data['DPCERG'] / data['DPCERG'].iloc[-1])\n",
    "data['coe_inp'] = data['real_coe'] / data['hours_index']\n",
    "data['wage'] = data['coe_inp'] * data['hours_index'].iloc[0]\n",
    "data['work'] = data['real_coe'] - data['wage']\n",
    "# Calculate contributions to growth\n",
    "result = growth_contrib(data, 'real_coe')[['work', 'wage']]\n",
    "result.dropna().loc['1989':].to_csv(data_dir / 'gli.csv', index_label='date')\n",
    "\n",
    "date = f'{result.index[-1].year} Q{result.index[-1].quarter}'\n",
    "totval = result.iloc[-1].sum()\n",
    "wage = result['wage'].iloc[-1]\n",
    "work = result['work'].iloc[-1]\n",
    "\n",
    "if totval > 0:\n",
    "    txt1 = f'increased at an annualized and inflation-adjusted rate of {totval:.2f} percent in {date}.'\n",
    "elif totval < 0:\n",
    "    txt1 = f'decreased at an annualized and inflation-adjusted rate of {abs(totval):.2f} percent in {date}.'\n",
    "else:\n",
    "    txt1 = f'was unchanged, after adjusting for inflation, in {date}.'\n",
    "    \n",
    "if wage > 0:\n",
    "    txt2 = f'Changes in wages contributed {wage:.2f} percentage points'\n",
    "elif wage < 0:\n",
    "    txt2 = f'Changes in wages subtracted {abs(wage):.2f} percentage points'\n",
    "else: \n",
    "    txt2 = 'Changes in wages did not contribute'\n",
    "    \n",
    "if work > 0:\n",
    "    txt3 = f', and changes in total hours worked contributed {work:.2f} percentage points.'\n",
    "elif work < 0:\n",
    "    txt3 = f', amd changes in total hours worked subtracted {abs(work):.2f} percentage points.'\n",
    "else: \n",
    "    txt3 = ', and changes in total hours worked did not contribute.'    \n",
    "    \n",
    "text = f'{txt1} {txt2}{txt3}'\n",
    "write_txt(text_dir / 'gli.txt', text)\n",
    "\n",
    "text"
   ]
  },
  {
   "cell_type": "code",
   "execution_count": null,
   "metadata": {},
   "outputs": [],
   "source": []
  },
  {
   "cell_type": "code",
   "execution_count": null,
   "metadata": {},
   "outputs": [],
   "source": []
  },
  {
   "cell_type": "markdown",
   "metadata": {},
   "source": [
    "### Shiller real return trailing 20-year average"
   ]
  },
  {
   "cell_type": "code",
   "execution_count": 6,
   "metadata": {},
   "outputs": [],
   "source": [
    "data = pd.read_excel('http://www.econ.yale.edu/~shiller/data/ie_data.xls', sheet_name='Data')\n",
    "df = data.iloc[679:1797, np.r_[0, 7, 8]]\n",
    "df.columns = ['Date', 'Price', 'Dividend']\n",
    "df.index = pd.to_datetime([f'{val:.2f}' for val in df['Date'].values])\n",
    "df = df.loc[~df.index.duplicated(keep='first')]"
   ]
  },
  {
   "cell_type": "code",
   "execution_count": 7,
   "metadata": {},
   "outputs": [
    {
     "data": {
      "text/plain": [
       "'According to historical stock market \\\\href{www.econ.yale.edu/~shiller/data.htm}{data} from Robert Shiller, the inflation-adjusted trailing twenty year annual rate of return of the S\\\\&P 500 was 3.8 percent as of December 2019. Real returns are currently low relative to the average trailing twenty year real annual return of 10.1 percent during 1995--2005.'"
      ]
     },
     "execution_count": 7,
     "metadata": {},
     "output_type": "execute_result"
    }
   ],
   "source": [
    "for yrs in [10, 15, 20]:\n",
    "    s = df.copy()\n",
    "    mos = yrs * 12\n",
    "    s['DY'] = (s['Dividend'] / s['Price']).rolling(mos).mean()\n",
    "    s['Pch'] = s['Price'].pct_change(mos)\n",
    "    s['Pch'] = (s['Pch']+1)**(1/yrs) - 1\n",
    "    s = s.dropna()\n",
    "    s['Return'] = (s['DY'] + s['Pch']) * 100\n",
    "    s.loc['1989':].dropna().to_csv(data_dir / f'sp500rr{yrs}.csv', \n",
    "                                   index_label='date', float_format='%g')\n",
    "    \n",
    "text = ('According to historical stock market '+\n",
    "        '\\href{www.econ.yale.edu/~shiller/data.htm}{data} from Robert Shiller, '+\n",
    "        'the inflation-adjusted trailing twenty year annual rate of return '+\n",
    "        f'of the S\\&P 500 was {s[\"Return\"].iloc[-1]:.1f} percent as '+\n",
    "        f'of {s.index[-1].strftime(\"%B %Y\")}. Real returns are currently low relative '+\n",
    "        'to the average trailing twenty year real annual return of '+\n",
    "        f'{s[\"Return\"].loc[\"1995\":\"2005\"].mean():.1f} percent during 1995--2005.')\n",
    "\n",
    "write_txt(text_dir / 'sp500rr3.txt', text)\n",
    "\n",
    "text"
   ]
  },
  {
   "cell_type": "code",
   "execution_count": null,
   "metadata": {},
   "outputs": [],
   "source": []
  },
  {
   "cell_type": "code",
   "execution_count": null,
   "metadata": {},
   "outputs": [],
   "source": []
  },
  {
   "cell_type": "markdown",
   "metadata": {},
   "source": [
    "### Money Growth"
   ]
  },
  {
   "cell_type": "code",
   "execution_count": 3,
   "metadata": {},
   "outputs": [],
   "source": [
    "base = 'https://www.federalreserve.gov/datadownload/Output.aspx?'\n",
    "srs = 'rel=H6&series=fafc1295c552e99d2b907eb62278e4ca&lastobs=&'\n",
    "dt = 'from=01/01/1988&to=12/31/2020&'\n",
    "oth = 'filetype=csv&label=include&layout=seriescolumn'\n",
    "url = base + srs + dt + oth\n",
    "\n",
    "raw_data = pd.read_csv(url)\n",
    "\n",
    "d = {v: re.sub(\"\\s+[\\(\\[].*?[\\)\\]]\", \"\", i) \n",
    "     for i, v in raw_data.iloc[4, 1:].iteritems()}\n",
    "\n",
    "date_column = raw_data.loc[5:, 'Series Description']\n",
    "date_index = pd.to_datetime(date_column).rename('Date')\n",
    "columns = raw_data.iloc[4, 1:].values\n",
    "    \n",
    "clean_data = raw_data.iloc[5:, 1:].replace('ND', np.nan).astype('float')\n",
    "clean_data.index = date_index\n",
    "clean_data.columns = columns\n",
    "\n",
    "final2 = {}\n",
    "data = clean_data[['M2_N.WM', 'MMFIN_N.WM']].sum(axis=1)\n",
    "month_list = clean_data.resample('MS').mean().pct_change(12).dropna().index\n",
    "short_month = ''\n",
    "for date in month_list:\n",
    "    month_len = len(data.loc[date.strftime('%Y-%m')])\n",
    "    prevyr = f'{date.year - 1}-{date.month}'\n",
    "    weeks_in_short_month = 4\n",
    "    end_date = date\n",
    "    if month_len < 4:\n",
    "        end_date = date\n",
    "        short_month = date.strftime('%B %Y')\n",
    "        val = data.loc[date.strftime('%Y-%m')].mean()\n",
    "        prv = data.loc[prevyr].iloc[:month_len]\n",
    "        prev = prv.mean()\n",
    "        weeks_in_short_month = len(prv)\n",
    "    elif month_len >= 4:\n",
    "        val = data.loc[date.strftime('%Y-%m')].mean()\n",
    "        prev = data.loc[prevyr].mean()\n",
    "        end_full = date\n",
    "    final2[date] = (val / prev - 1) * 100\n",
    "    \n",
    "final = pd.Series(final2, name='value')\n",
    "final.to_csv(data_dir / 'm2imf.csv', index_label='date', header='True')\n",
    "\n",
    "s = series_info(final)\n",
    "\n",
    "node = end_node(final, 'green!80!blue')\n",
    "write_txt(text_dir / 'm2imf_node.txt', node)"
   ]
  },
  {
   "cell_type": "code",
   "execution_count": 4,
   "metadata": {},
   "outputs": [
    {
     "data": {
      "text/plain": [
       "'In March 2020, the M2 plus institutional money funds measure increased over the equivalent previous year value by 12.5 percent, the fastest growth rate since January 2009.'"
      ]
     },
     "execution_count": 4,
     "metadata": {},
     "output_type": "execute_result"
    }
   ],
   "source": [
    "week_conv = {1: f'the first week of {short_month}', \n",
    "             2: f'the first two weeks of {short_month}', \n",
    "             3: f'the first three weeks of {short_month}',\n",
    "             4: end_full.strftime('%B %Y')}\n",
    "\n",
    "if final.iloc[-1] >= 0.1:\n",
    "    txt = f'increased over the equivalent previous year value by {final.iloc[-1]:.1f} percent'\n",
    "elif final.iloc[-1] <= -0.1:\n",
    "    txt = f'decreased over the equivalent previous year value by {abs(final.iloc[-1]):.1f} percent'   \n",
    "else:\n",
    "    txt = 'was virtually unchanged over the previous year value'\n",
    "    \n",
    "if s['days_since_match'] > 300:\n",
    "    txt2 = f\", {s['last_matched'].replace('highest level', 'fastest growth rate')}.\"\n",
    "else:\n",
    "    txt2 = '.'\n",
    "    \n",
    "text = (f'In {week_conv[weeks_in_short_month]}, '+\n",
    "        f'the M2 plus institutional money funds measure {txt}{txt2}')\n",
    "\n",
    "write_txt(text_dir / 'm2imf.txt', text)\n",
    "\n",
    "gdp = nipa_df(retrieve_table('T10105')['Data'], ['A191RC'])['A191RC']\n",
    "m2sh = (clean_data['M2_N.WM'].iloc[-1] / (gdp.iloc[-1] / 1000)) * 100\n",
    "imfsh = (clean_data['MMFIN_N.WM'].iloc[-1] / (gdp.iloc[-1] / 1000)) * 100\n",
    "\n",
    "text2 = (f'In the week of {clean_data.index[-1].strftime(\"%B %-d, %Y\")}, '+\n",
    "         f'the M2 measure of money averaged \\${clean_data[\"M2_N.WM\"].iloc[-1] / 1000:.1f} '+\n",
    "         f'trillion, equivalent to {m2sh:.1f} percent of GDP. Institution money market '\n",
    "         +f'accounts, which are not included in M2, can be combined with M2 to create a '+\n",
    "         f'slightly-broader-than-M2 measure of the money stock. These funds averaged '+\n",
    "         f'\\${clean_data[\"MMFIN_N.WM\"].iloc[-1] / 1000:.1f} trillion in the same week, '+\n",
    "         f'equivalent to {imfsh:.1f} percent of GDP. ')\n",
    "\n",
    "write_txt(text_dir / 'm2imf2.txt', text2)\n",
    "text"
   ]
  },
  {
   "cell_type": "code",
   "execution_count": 5,
   "metadata": {},
   "outputs": [
    {
     "data": {
      "text/plain": [
       "'In the week of March 30, 2020, the M2 measure of money averaged \\\\$16.8 trillion, equivalent to 77.2 percent of GDP. Institution money market accounts, which are not included in M2, can be combined with M2 to create a slightly-broader-than-M2 measure of the money stock. These funds averaged \\\\$2.8 trillion in the same week, equivalent to 12.8 percent of GDP. '"
      ]
     },
     "execution_count": 5,
     "metadata": {},
     "output_type": "execute_result"
    }
   ],
   "source": [
    "text2"
   ]
  },
  {
   "cell_type": "code",
   "execution_count": null,
   "metadata": {},
   "outputs": [],
   "source": []
  },
  {
   "cell_type": "code",
   "execution_count": null,
   "metadata": {},
   "outputs": [],
   "source": []
  }
 ],
 "metadata": {
  "kernelspec": {
   "display_name": "Python 3",
   "language": "python",
   "name": "python3"
  },
  "language_info": {
   "codemirror_mode": {
    "name": "ipython",
    "version": 3
   },
   "file_extension": ".py",
   "mimetype": "text/x-python",
   "name": "python",
   "nbconvert_exporter": "python",
   "pygments_lexer": "ipython3",
   "version": "3.8.2"
  }
 },
 "nbformat": 4,
 "nbformat_minor": 2
}
