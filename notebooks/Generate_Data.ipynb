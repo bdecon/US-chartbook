{
 "cells": [
  {
   "cell_type": "code",
   "execution_count": 1,
   "metadata": {
    "ExecuteTime": {
     "end_time": "2019-10-13T10:13:50.222134Z",
     "start_time": "2019-10-13T10:13:49.724506Z"
    }
   },
   "outputs": [],
   "source": [
    "import sys\n",
    "sys.path.append('../src')\n",
    "\n",
    "import requests\n",
    "\n",
    "import uschartbook.config\n",
    "\n",
    "from uschartbook.config import *\n",
    "from uschartbook.utils import *"
   ]
  },
  {
   "cell_type": "code",
   "execution_count": null,
   "metadata": {
    "ExecuteTime": {
     "end_time": "2019-09-26T23:48:01.193072Z",
     "start_time": "2019-09-26T23:48:01.150902Z"
    }
   },
   "outputs": [],
   "source": [
    "s = ['A191RL']\n",
    "\n",
    "df = nipa_df(retrieve_table('T10502')['Data'], s).sort_index()\n",
    "\n",
    "df.to_csv(data_dir / 'gdp.csv', index_label='date')\n",
    "\n",
    "txt = f'{df.index[-1].year} Q{df.index[-1].quarter}: {df[\"A191RL\"].iloc[-1]}\\%'\n",
    "\n",
    "write_txt(data_dir / 'gdp.txt', txt)"
   ]
  },
  {
   "cell_type": "code",
   "execution_count": 19,
   "metadata": {
    "ExecuteTime": {
     "end_time": "2019-10-11T22:04:41.682135Z",
     "start_time": "2019-10-11T22:04:41.595930Z"
    }
   },
   "outputs": [],
   "source": [
    "# Private fixed investment\n",
    "s = ['A008RY', 'A011RY', 'A014RY']\n",
    "\n",
    "(nipa_df(retrieve_table('T10502')['Data'], s)\n",
    " .to_csv(data_dir / 'inv.csv', index_label='date'))"
   ]
  },
  {
   "cell_type": "code",
   "execution_count": 24,
   "metadata": {
    "ExecuteTime": {
     "end_time": "2019-10-11T22:29:35.794688Z",
     "start_time": "2019-10-11T22:29:35.734005Z"
    }
   },
   "outputs": [],
   "source": [
    "# Import and Export share of GDP\n",
    "s = ['B020RC', 'B021RC', 'A191RC']\n",
    "\n",
    "data = nipa_df(retrieve_table('T10105')['Data'], s)\n",
    "((data.div(data['A191RC'], axis=0) * 100)\n",
    "      .to_csv(data_dir / 'eximgdp.csv', index_label='date'))\n",
    "\n",
    "#(nipa_df(retrieve_table('T10105')['Data'], s)\n",
    "# .to_csv(data_dir / 'eximgdp.csv', index_label='date'))"
   ]
  },
  {
   "cell_type": "code",
   "execution_count": null,
   "metadata": {
    "ExecuteTime": {
     "end_time": "2019-09-26T12:49:57.522723Z",
     "start_time": "2019-09-26T12:49:57.437892Z"
    }
   },
   "outputs": [],
   "source": [
    "s = ['DPCERY', 'A006RY', 'A822RY', 'A019RY']\n",
    "\n",
    "(nipa_df(retrieve_table('T10502')['Data'], s)\n",
    " .to_csv(data_dir / 'comp.csv', index_label='date'))"
   ]
  },
  {
   "cell_type": "code",
   "execution_count": null,
   "metadata": {
    "ExecuteTime": {
     "end_time": "2019-09-26T12:49:57.567363Z",
     "start_time": "2019-09-26T12:49:57.524220Z"
    }
   },
   "outputs": [],
   "source": [
    "s = ['A939RC', 'A939RX']\n",
    "\n",
    "df = nipa_df(retrieve_table('T70100')['Data'], s)\n",
    "df['value'] = (df['A939RX'] / df['A939RX'].iloc[-1])  * df['A939RC'].iloc[-1]\n",
    "df[['value']].to_csv(data_dir / 'gdppc.csv', index_label='date')"
   ]
  },
  {
   "cell_type": "code",
   "execution_count": null,
   "metadata": {},
   "outputs": [],
   "source": []
  },
  {
   "cell_type": "code",
   "execution_count": null,
   "metadata": {
    "ExecuteTime": {
     "end_time": "2019-09-26T12:49:57.717632Z",
     "start_time": "2019-09-26T12:49:57.568565Z"
    }
   },
   "outputs": [],
   "source": [
    "s = ['A261RX', 'W256RX']\n",
    "rgdi = nipa_df(retrieve_table('T11706')['Data'], s).dropna()\n",
    "\n",
    "s = ['A261RC', 'A4002C', 'W056RC', 'A107RC', 'W271RC', 'A262RC']\n",
    "df = nipa_df(retrieve_table('T11000')['Data'], s).dropna()\n",
    "\n",
    "# Calculate indirect taxes net of transfers\n",
    "df['indirect'] = df['W056RC'] - df['A107RC']\n",
    "df = df.drop(['A107RC', 'W056RC'], axis=1)\n",
    "\n",
    "# Calculate GDI deflator from real GDI series\n",
    "deflator = rgdi['A261RX'] / df['A261RC']\n",
    "deflator = deflator / deflator.iloc[-1]\n",
    "df = df.multiply(deflator, axis=0)\n",
    "\n",
    "# Calculate contributions to growth\n",
    "dft = df.diff()\n",
    "dft = dft.div(dft['A261RC'], axis=0)\n",
    "contr = dft.multiply((((df['A261RC'].pct_change() + 1) ** 4) - 1) * 100, axis=0)\n",
    "contr.round(2).to_csv(data_dir / 'gdi.csv', index_label='date')"
   ]
  },
  {
   "cell_type": "code",
   "execution_count": null,
   "metadata": {},
   "outputs": [],
   "source": []
  },
  {
   "cell_type": "markdown",
   "metadata": {},
   "source": [
    "### Consumer Spending"
   ]
  },
  {
   "cell_type": "code",
   "execution_count": null,
   "metadata": {
    "ExecuteTime": {
     "end_time": "2019-09-26T12:49:57.808706Z",
     "start_time": "2019-09-26T12:49:57.718941Z"
    }
   },
   "outputs": [],
   "source": [
    "s = ['DGDSRY', 'DHCERY', 'DHUTRY', 'A011RY']\n",
    "\n",
    "(nipa_df(retrieve_table('T10502')['Data'], s)\n",
    " .assign(OTHSER = lambda x: x['DHCERY'] - x['DHUTRY'],\n",
    "         HOUSING = lambda x: x['A011RY'] + x['DHUTRY'])\n",
    " .drop('DHCERY', axis=1)\n",
    " .to_csv(data_dir / 'pce.csv', index_label='date'))"
   ]
  },
  {
   "cell_type": "code",
   "execution_count": null,
   "metadata": {},
   "outputs": [],
   "source": []
  },
  {
   "cell_type": "markdown",
   "metadata": {},
   "source": [
    "### Trade Contribution to GDP"
   ]
  },
  {
   "cell_type": "code",
   "execution_count": null,
   "metadata": {
    "ExecuteTime": {
     "end_time": "2019-09-27T20:06:42.540791Z",
     "start_time": "2019-09-27T20:06:42.429321Z"
    }
   },
   "outputs": [],
   "source": [
    "s = ['A019RY', 'A253RY', 'A646RY', 'A255RY', 'A656RY']\n",
    "df = nipa_df(retrieve_table('T10502')['Data'], s)\n",
    "df.to_csv(data_dir / 'nx.csv', index_label='date')"
   ]
  },
  {
   "cell_type": "code",
   "execution_count": null,
   "metadata": {
    "ExecuteTime": {
     "end_time": "2019-09-27T20:11:26.473659Z",
     "start_time": "2019-09-27T20:11:26.463815Z"
    }
   },
   "outputs": [],
   "source": [
    "sl = [('A253RY', 'main'), ('A646RY', 'end'), \n",
    "      ('A255RY', 'main'), ('A656RY', 'end')]\n",
    "\n",
    "d = {}\n",
    "\n",
    "for s, style in sl:\n",
    "    # Latest total value\n",
    "    value = df[s].iloc[-1]\n",
    "    d[s] = cont_subt(value, style=style)\n",
    "\n",
    "# Text for household expenditure section\n",
    "q = {1: 'first', 2: 'second', 3: 'third', 4: 'fourth'}\n",
    "    \n",
    "ld2 = f'{q[df.index[-1].quarter]} quarter of {df.index[-1].year}'\n",
    "\n",
    "\n",
    "text = f\"Goods exports {d['A253RY']} GDP growth in the {ld2} while services exports {d['A646RY']}. Good imports {d['A255RY']} GDP growth and services imports {d['A656RY']}.\"\n",
    "# Print to file\n",
    "f = text_dir.joinpath('trade.txt')\n",
    "with f.open('w') as text_file:\n",
    "    text_file.write(text)"
   ]
  },
  {
   "cell_type": "code",
   "execution_count": null,
   "metadata": {},
   "outputs": [],
   "source": []
  },
  {
   "cell_type": "markdown",
   "metadata": {},
   "source": [
    "### Business investment"
   ]
  },
  {
   "cell_type": "code",
   "execution_count": null,
   "metadata": {
    "ExecuteTime": {
     "end_time": "2019-09-26T12:49:57.921197Z",
     "start_time": "2019-09-26T12:49:57.916920Z"
    }
   },
   "outputs": [],
   "source": [
    "s = ['Y001RY', 'A009RY', 'Y033RY']"
   ]
  },
  {
   "cell_type": "code",
   "execution_count": null,
   "metadata": {
    "ExecuteTime": {
     "end_time": "2019-09-26T12:49:57.992548Z",
     "start_time": "2019-09-26T12:49:57.922857Z"
    }
   },
   "outputs": [],
   "source": [
    "df = nipa_df(retrieve_table('T10502')['Data'], s)\n",
    "df.to_csv(data_dir / 'businv.csv', index_label='date')"
   ]
  },
  {
   "cell_type": "code",
   "execution_count": null,
   "metadata": {},
   "outputs": [],
   "source": []
  },
  {
   "cell_type": "markdown",
   "metadata": {},
   "source": [
    "### Government spending and investment"
   ]
  },
  {
   "cell_type": "code",
   "execution_count": null,
   "metadata": {
    "ExecuteTime": {
     "end_time": "2019-09-26T12:49:57.998711Z",
     "start_time": "2019-09-26T12:49:57.993879Z"
    }
   },
   "outputs": [],
   "source": [
    "s = ['A824RY', 'A825RY', 'A829RY']"
   ]
  },
  {
   "cell_type": "code",
   "execution_count": null,
   "metadata": {
    "ExecuteTime": {
     "end_time": "2019-09-26T12:49:58.069973Z",
     "start_time": "2019-09-26T12:49:57.999914Z"
    }
   },
   "outputs": [],
   "source": [
    "df = nipa_df(retrieve_table('T10502')['Data'], s)\n",
    "df.to_csv(data_dir / 'gov.csv', index_label='date')"
   ]
  },
  {
   "cell_type": "code",
   "execution_count": null,
   "metadata": {},
   "outputs": [],
   "source": []
  },
  {
   "cell_type": "markdown",
   "metadata": {},
   "source": [
    "### Personal Income"
   ]
  },
  {
   "cell_type": "code",
   "execution_count": null,
   "metadata": {
    "ExecuteTime": {
     "end_time": "2019-09-26T12:49:58.219988Z",
     "start_time": "2019-09-26T12:49:58.071224Z"
    }
   },
   "outputs": [],
   "source": [
    "s = ['DPCERG']\n",
    "\n",
    "d = nipa_df(retrieve_table('T20304')['Data'], s)['DPCERG']\n",
    "deflator = d.iloc[-1] / d\n",
    "\n",
    "s = ['A065RC', 'A033RC', 'A041RC', 'A048RC', 'W210RC', 'A577RC', 'A061RC']\n",
    "\n",
    "df = (nipa_df(retrieve_table('T20100')['Data'], s)\n",
    "      .assign(CAPITAL = lambda x: x['A041RC'] + x['A048RC'] + x['W210RC'],\n",
    "              TRANSFER = lambda x: x['A577RC'] - x['A061RC'])\n",
    "      .drop(['A061RC', 'A041RC', 'A048RC', 'W210RC', 'A577RC'], axis=1)\n",
    "      .multiply(deflator, axis=0))\n",
    "growth_contrib(df, 'A065RC').to_csv(data_dir / 'pi.csv', index_label='date')"
   ]
  },
  {
   "cell_type": "code",
   "execution_count": null,
   "metadata": {},
   "outputs": [],
   "source": []
  },
  {
   "cell_type": "markdown",
   "metadata": {},
   "source": [
    "### Sectoral Accounts"
   ]
  },
  {
   "cell_type": "code",
   "execution_count": null,
   "metadata": {
    "ExecuteTime": {
     "end_time": "2019-09-26T12:49:58.317976Z",
     "start_time": "2019-09-26T12:49:58.221201Z"
    }
   },
   "outputs": [],
   "source": [
    "s = ['W162RC', 'W994RC', 'AD01RC']\n",
    "df = (nipa_df(retrieve_table('T50100')['Data'], s).div(\n",
    "      nipa_df(retrieve_table('T10105')['Data'], ['A191RC'])['A191RC'], axis=0)) * 100\n",
    "\n",
    "data = pd.DataFrame()\n",
    "data['PRIV'] = df['W994RC']\n",
    "data['GOV'] = df['AD01RC']\n",
    "data['ROW'] = -df['W162RC']\n",
    "data = data.dropna()\n",
    "date = f'{data.index[-1].year} Q{data.index[-1].quarter}'"
   ]
  },
  {
   "cell_type": "code",
   "execution_count": null,
   "metadata": {
    "ExecuteTime": {
     "end_time": "2019-09-26T12:49:58.325071Z",
     "start_time": "2019-09-26T12:49:58.319134Z"
    }
   },
   "outputs": [],
   "source": [
    "data.dropna().to_csv(data_dir / 'sectbal.csv', index_label='date')"
   ]
  },
  {
   "cell_type": "code",
   "execution_count": null,
   "metadata": {
    "ExecuteTime": {
     "end_time": "2019-09-26T12:49:58.337821Z",
     "start_time": "2019-09-26T12:49:58.326410Z"
    }
   },
   "outputs": [],
   "source": [
    "sectbaltxt = f\"In {date}, the US private sector was a net lender (running a surplus) of the equivalent of {data['PRIV'].iloc[-1]:.1f} percent of GDP, compared to {data.loc['2015-01-01', 'PRIV']:.1f} percent in 2015 Q1. The rest of the world was a net lender to the US, to the equivalent of {data['ROW'].iloc[-1]:.1f} percent of GDP in {date} compared to {data.loc['2015-01-01', 'ROW']:.1f} percent in 2015 Q1. Balancing these transactions, the government (federal, state, and local combined) was a net borrower (running a deficit) of the equivalent of {data['GOV'].iloc[-1]:.1f} percent of GDP, compared to {data.loc['2015-01-01', 'GOV']:.1f} percent in 2015. \"\n",
    "print(sectbaltxt)"
   ]
  },
  {
   "cell_type": "code",
   "execution_count": null,
   "metadata": {
    "ExecuteTime": {
     "end_time": "2019-09-26T12:49:58.343989Z",
     "start_time": "2019-09-26T12:49:58.340454Z"
    }
   },
   "outputs": [],
   "source": [
    "# Print latest date to file\n",
    "f = text_dir.joinpath('sectbal.txt')\n",
    "with f.open('w') as wf:\n",
    "    wf.write(sectbaltxt)"
   ]
  },
  {
   "cell_type": "code",
   "execution_count": null,
   "metadata": {},
   "outputs": [],
   "source": []
  },
  {
   "cell_type": "code",
   "execution_count": null,
   "metadata": {},
   "outputs": [],
   "source": []
  },
  {
   "cell_type": "markdown",
   "metadata": {},
   "source": [
    "### Current Account Balance"
   ]
  },
  {
   "cell_type": "code",
   "execution_count": null,
   "metadata": {
    "ExecuteTime": {
     "end_time": "2019-09-27T17:26:20.252848Z",
     "start_time": "2019-09-27T17:26:20.035900Z"
    },
    "code_folding": []
   },
   "outputs": [],
   "source": [
    "s = ['A191RC']\n",
    "\n",
    "gdp = nipa_df(retrieve_table('T10105')['Data'], s)\n",
    "\n",
    "s = ['A124RC', 'A253RC', 'A255RC', 'A646RC', 'B656RC', 'B645RC',\n",
    "     'A655RC', 'A123RC']\n",
    "\n",
    "df = (nipa_df(retrieve_table('T40100')['Data'], s)\n",
    "      .assign(GOODS = lambda x: x['A253RC'] - x['A255RC'],\n",
    "              SERVICES = lambda x: x['A646RC'] - x['B656RC'],\n",
    "              INCOME = lambda x: x['B645RC'] - x['A655RC'],\n",
    "              TRANSFERS = lambda x: - x['A123RC'])\n",
    "      .drop(s[1:], axis=1).drop_duplicates())\n",
    "\n",
    "data = (df.div(nipa_df(retrieve_table('T10105')['Data'], ['A191RC']\n",
    "               )['A191RC'], axis=0).dropna().loc['1989':].multiply(100).round(2))\n",
    "\n",
    "data.to_csv(data_dir / 'cab.csv', index_label='date')"
   ]
  },
  {
   "cell_type": "code",
   "execution_count": null,
   "metadata": {
    "ExecuteTime": {
     "end_time": "2019-09-27T17:33:55.133785Z",
     "start_time": "2019-09-27T17:33:55.128204Z"
    }
   },
   "outputs": [],
   "source": [
    "cab = abs(data['A124RC'].iloc[-1])\n",
    "tb = abs(data['GOODS'].iloc[-1])\n",
    "ld = f'{data.index[-1].year} Q{data.index[-1].quarter}'\n",
    "\n",
    "text = f'As of {ld}, the US runs a current account deficit of {cab:.1f} percent of GDP, primarily as the result of a trade deficit on goods of {tb:.1f} percent of GDP.'\n",
    "\n",
    "# Print latest date to file\n",
    "f = text_dir.joinpath('cab.txt')\n",
    "with f.open('w') as wf:\n",
    "    wf.write(text)"
   ]
  },
  {
   "cell_type": "code",
   "execution_count": null,
   "metadata": {},
   "outputs": [],
   "source": []
  },
  {
   "cell_type": "markdown",
   "metadata": {},
   "source": [
    "### Wealth to GDP\n",
    "\n"
   ]
  },
  {
   "cell_type": "code",
   "execution_count": null,
   "metadata": {
    "ExecuteTime": {
     "end_time": "2019-09-21T15:04:38.846372Z",
     "start_time": "2019-09-21T15:04:38.843543Z"
    }
   },
   "outputs": [],
   "source": [
    "url = 'https://www.federalreserve.gov/datadownload/Output.aspx?rel=Z1&series=71f2e13e70c5d96bb5da3a65053d836e&lastobs=&from=03/01/1988&to=06/30/2019&filetype=csv&label=include&layout=seriescolumn'"
   ]
  },
  {
   "cell_type": "code",
   "execution_count": null,
   "metadata": {
    "ExecuteTime": {
     "end_time": "2019-09-21T16:11:34.294099Z",
     "start_time": "2019-09-21T16:11:33.927796Z"
    }
   },
   "outputs": [],
   "source": [
    "d = {'LM155035005.Q': 'Real Estate', \n",
    "     'FL892090005.Q': 'Total', \n",
    "     'LM883164105.Q': 'Corporate Equities'}\n",
    "\n",
    "df = pd.read_csv(url, skiprows=5, index_col=0)[d.keys()].rename(d, axis=1)\n",
    "\n",
    "df.index = pd.to_datetime(df.index)\n",
    "\n",
    "df['Other'] = df['Total'] * 2 - df.sum(axis=1)\n",
    "\n",
    "data = (df.div(nipa_df(retrieve_table('T10105')['Data'], ['A191RC']\n",
    "               )['A191RC'], axis=0)).dropna().loc['1989':]\n",
    "data.to_csv(data_dir / 'wealthgdp.csv', index_label='date')"
   ]
  },
  {
   "cell_type": "code",
   "execution_count": null,
   "metadata": {
    "ExecuteTime": {
     "end_time": "2019-09-21T16:11:41.069376Z",
     "start_time": "2019-09-21T16:11:41.065062Z"
    }
   },
   "outputs": [],
   "source": [
    "d89 = data.iloc[0].round(2)\n",
    "dlt = data.iloc[-1].round(2)\n",
    "date = f'{data.index[-1].year} Q{data.index[-1].quarter}'"
   ]
  },
  {
   "cell_type": "code",
   "execution_count": null,
   "metadata": {
    "ExecuteTime": {
     "end_time": "2019-09-21T16:19:50.693400Z",
     "start_time": "2019-09-21T16:19:50.690712Z"
    }
   },
   "outputs": [],
   "source": [
    "wealthtxt = f\"The ratio of US total wealth, excluding public lands, to GDP increased to {dlt['Total']} in {date} from {d89['Total']} in 1989 Q1. The market value of corporate equities (see\\cbox{{magenta!50!violet}}) increased to a {dlt['Corporate Equities']} multiple of GDP in {date} from {d89['Corporate Equities']} in 1989 Q1. The market value of residential real estate (see\\cbox{{green!80!blue}}) increased to {dlt['Real Estate']} times GDP from {d89['Real Estate']} in 1989. The other category (see\\cbox{{cyan!35!white}}), which includes tangible assets other than residential real estate less US financial obligations to the rest of the world, decreased to {dlt['Other']} from {d89['Other']} in 1989.\""
   ]
  },
  {
   "cell_type": "code",
   "execution_count": null,
   "metadata": {
    "ExecuteTime": {
     "end_time": "2019-09-21T16:19:51.530358Z",
     "start_time": "2019-09-21T16:19:51.525805Z"
    }
   },
   "outputs": [],
   "source": [
    "# Print latest date to file\n",
    "f = text_dir.joinpath('wealthgdp.txt')\n",
    "with f.open('w') as wf:\n",
    "    wf.write(wealthtxt)"
   ]
  },
  {
   "cell_type": "code",
   "execution_count": null,
   "metadata": {
    "ExecuteTime": {
     "end_time": "2019-09-21T16:19:52.508327Z",
     "start_time": "2019-09-21T16:19:52.505332Z"
    }
   },
   "outputs": [],
   "source": [
    "wealthtxt"
   ]
  },
  {
   "cell_type": "markdown",
   "metadata": {},
   "source": [
    "### Household formation estimates"
   ]
  },
  {
   "cell_type": "code",
   "execution_count": null,
   "metadata": {
    "ExecuteTime": {
     "end_time": "2019-09-23T18:50:05.773164Z",
     "start_time": "2019-09-23T18:50:04.337698Z"
    },
    "code_folding": [],
    "run_control": {
     "marked": false
    }
   },
   "outputs": [],
   "source": [
    "%matplotlib inline\n",
    "import requests\n",
    "\n",
    "files = ['histtab8.xlsx', 'hist_tab_8a_v2018.xlsx']\n",
    "url = 'https://www.census.gov/housing/hvs/data/'\n",
    "\n",
    "results = {}\n",
    "\n",
    "for file in files:\n",
    "    #r = requests.get(f'{url}{file}')\n",
    "    #with open(data_dir / file, 'wb') as output:\n",
    "    #    output.write(r.content)\n",
    "    data = pd.read_excel(data_dir / file).iloc[4:, :5]\n",
    "    data.columns = ['category', 'Q1', 'Q2', 'Q3', 'Q4']\n",
    "    years = []\n",
    "    for h in data[data['Q1'] == '1st Qtr'].index - 1:\n",
    "        year_raw = data.loc[h, 'Q1']\n",
    "        if type(year_raw) == int:\n",
    "            year = year_raw\n",
    "        elif type(year_raw) == str:\n",
    "            year = int(year_raw[:4])\n",
    "        elif type(year) == float:\n",
    "            year = year + 1\n",
    "        years.append(year)\n",
    "    data.loc[data['Q1'] == '1st Qtr', 'category'] = years\n",
    "    data = data.dropna(subset=['category'])\n",
    "    \n",
    "    df = pd.DataFrame()\n",
    "    for series in ['Owner', 'Renter']:\n",
    "        srs = data.loc[data['category'].astype('str').str.contains(series)]\n",
    "        srs.index = years\n",
    "        srs = srs[['Q1', 'Q2', 'Q3', 'Q4']].unstack().swaplevel()\n",
    "        srs.index = pd.to_datetime([f'{i[0]}-{i[1]}' for i in srs.index])\n",
    "        srs = srs.sort_index()\n",
    "        df[series] = srs\n",
    "    df = df.dropna()\n",
    "    df['Total'] = df.sum(axis=1)\n",
    "    \n",
    "    # Convert to share of total change\n",
    "    for s in ['Owner', 'Renter']:  \n",
    "        df[s] = ((df[s] - df[s].shift(4))\n",
    "                  /df['Total'].shift(4)) * 100\n",
    "        \n",
    "    df = (df.reset_index()\n",
    "            .drop_duplicates(subset='index', keep='last')\n",
    "            .set_index('index'))\n",
    "        \n",
    "    #(df[['Owner', 'Renter']].dropna().rolling(4).mean().loc['1989':]\n",
    "    #   .plot(kind='bar', stacked=True))\n",
    "    \n",
    "    results[file] = df[['Owner', 'Renter']].dropna().rolling(4).mean().loc['1989':]"
   ]
  },
  {
   "cell_type": "code",
   "execution_count": null,
   "metadata": {
    "ExecuteTime": {
     "end_time": "2019-09-23T18:50:06.693836Z",
     "start_time": "2019-09-23T18:50:06.613624Z"
    }
   },
   "outputs": [],
   "source": [
    "final = (results[files[0]].loc[:'2001-10-01']\n",
    "         .append(results[files[1]]).dropna())\n",
    "\n",
    "final['pop'] = (nipa_df(retrieve_table('T70100')['Data'], ['B230RC'])\n",
    "                .pct_change(4).dropna() * 100)\n",
    "\n",
    "final.to_csv(data_dir / 'hhform.csv', index_label='date')"
   ]
  },
  {
   "cell_type": "code",
   "execution_count": null,
   "metadata": {},
   "outputs": [],
   "source": []
  },
  {
   "cell_type": "code",
   "execution_count": null,
   "metadata": {
    "ExecuteTime": {
     "end_time": "2019-10-11T19:35:06.923351Z",
     "start_time": "2019-10-11T19:35:06.902829Z"
    }
   },
   "outputs": [],
   "source": [
    "nipa_series_codes(retrieve_table('T11200'))"
   ]
  },
  {
   "cell_type": "markdown",
   "metadata": {},
   "source": [
    "### Corporate Profits Destination"
   ]
  },
  {
   "cell_type": "code",
   "execution_count": null,
   "metadata": {
    "ExecuteTime": {
     "end_time": "2019-10-11T20:09:28.612923Z",
     "start_time": "2019-10-11T20:09:28.482650Z"
    }
   },
   "outputs": [],
   "source": [
    "s = ['A032RC', 'A438RC', 'A054RC', 'B056RC', 'A127RC']\n",
    "cprof = nipa_df(retrieve_table('T11200')['Data'], s)"
   ]
  },
  {
   "cell_type": "code",
   "execution_count": null,
   "metadata": {
    "ExecuteTime": {
     "end_time": "2019-10-11T20:09:29.180957Z",
     "start_time": "2019-10-11T20:09:29.172274Z"
    }
   },
   "outputs": [],
   "source": [
    "cprof['NNI'] = cprof['A032RC'] - cprof['A438RC']\n",
    "cprof['TAX'] = cprof['A054RC'] / cprof['NNI'] * 100 \n",
    "cprof['DIV'] = cprof['B056RC'] / cprof['NNI'] * 100 \n",
    "cprof['RE'] = cprof['A127RC'] / cprof['NNI'] * 100 "
   ]
  },
  {
   "cell_type": "code",
   "execution_count": null,
   "metadata": {
    "ExecuteTime": {
     "end_time": "2019-10-11T20:09:29.916402Z",
     "start_time": "2019-10-11T20:09:29.906980Z"
    }
   },
   "outputs": [],
   "source": [
    "cprof[['TAX', 'DIV', 'RE']].to_csv(data_dir / 'cprof.csv', index_label='date')"
   ]
  },
  {
   "cell_type": "code",
   "execution_count": null,
   "metadata": {},
   "outputs": [],
   "source": []
  },
  {
   "cell_type": "code",
   "execution_count": null,
   "metadata": {},
   "outputs": [],
   "source": []
  },
  {
   "cell_type": "markdown",
   "metadata": {},
   "source": [
    "### Gross Labor Income"
   ]
  },
  {
   "cell_type": "code",
   "execution_count": 4,
   "metadata": {
    "ExecuteTime": {
     "end_time": "2019-10-11T21:04:30.680407Z",
     "start_time": "2019-10-11T21:04:28.886422Z"
    }
   },
   "outputs": [
    {
     "name": "stdout",
     "output_type": "stream",
     "text": [
      "Post Request Status: REQUEST_SUCCEEDED\n"
     ]
    }
   ],
   "source": [
    "# Series stored as a dictionary\n",
    "series = {'LNS12005054': 'Hours', 'LNS12000000': 'Employment'}\n",
    "\n",
    "# Start year and end year\n",
    "dates = (1989, 2019)\n",
    "emp_hrs = bls_api(series, dates, bls_key)"
   ]
  },
  {
   "cell_type": "code",
   "execution_count": 12,
   "metadata": {
    "ExecuteTime": {
     "end_time": "2019-10-11T21:17:53.451168Z",
     "start_time": "2019-10-11T21:17:53.443822Z"
    }
   },
   "outputs": [],
   "source": [
    "emp_hrs['Total'] = emp_hrs['Hours'] * 52/12 * emp_hrs['Employment']\n",
    "emp = emp_hrs['Total'].resample('QS').sum()"
   ]
  },
  {
   "cell_type": "code",
   "execution_count": 9,
   "metadata": {
    "ExecuteTime": {
     "end_time": "2019-10-11T21:13:58.090725Z",
     "start_time": "2019-10-11T21:13:58.019990Z"
    }
   },
   "outputs": [],
   "source": [
    "s = ['A033RC']\n",
    "coe = nipa_df(retrieve_table('T20100')['Data'], s)\n",
    "\n",
    "s = ['DPCERG']\n",
    "pce = nipa_df(retrieve_table('T20304')['Data'], s)"
   ]
  },
  {
   "cell_type": "code",
   "execution_count": 13,
   "metadata": {
    "ExecuteTime": {
     "end_time": "2019-10-11T21:17:55.867452Z",
     "start_time": "2019-10-11T21:17:55.858103Z"
    }
   },
   "outputs": [],
   "source": [
    "data = coe.join(pce).join(emp).dropna()"
   ]
  },
  {
   "cell_type": "code",
   "execution_count": 15,
   "metadata": {
    "ExecuteTime": {
     "end_time": "2019-10-11T21:18:20.389827Z",
     "start_time": "2019-10-11T21:18:20.371250Z"
    }
   },
   "outputs": [],
   "source": [
    "data = coe.join(pce).join(emp).dropna()\n",
    "data['real_coe'] = data['A033RC'] / (data['DPCERG'] / data['DPCERG'].iloc[-1])\n",
    "data['coe_inp'] = data['real_coe'] / data['Total']\n",
    "data['wage'] = data['coe_inp'] * data['Total'].iloc[0]\n",
    "data['work'] = data['real_coe'] - data['wage']\n",
    "# Calculate contributions to growth\n",
    "dft = data.diff()\n",
    "dft = dft.div(dft['real_coe'], axis=0)\n",
    "contr = dft.multiply(\n",
    "    (((data['real_coe'].pct_change() + 1) ** 4) - 1) * 100, axis=0)\n",
    "\n",
    "result = contr[['work', 'wage']]"
   ]
  },
  {
   "cell_type": "code",
   "execution_count": 17,
   "metadata": {
    "ExecuteTime": {
     "end_time": "2019-10-11T21:20:41.787387Z",
     "start_time": "2019-10-11T21:20:41.780765Z"
    }
   },
   "outputs": [],
   "source": [
    "result.dropna().to_csv(data_dir / 'gli.csv', index_label='date')"
   ]
  },
  {
   "cell_type": "code",
   "execution_count": null,
   "metadata": {},
   "outputs": [],
   "source": []
  },
  {
   "cell_type": "markdown",
   "metadata": {},
   "source": [
    "### Census Population and Age Data"
   ]
  },
  {
   "cell_type": "code",
   "execution_count": 139,
   "metadata": {
    "ExecuteTime": {
     "end_time": "2019-10-12T22:50:02.859358Z",
     "start_time": "2019-10-12T22:50:02.205809Z"
    }
   },
   "outputs": [],
   "source": [
    "# Import libraries and adjust settings\n",
    "%matplotlib inline\n",
    "\n",
    "import matplotlib.pyplot as plt\n",
    "from mpl_toolkits.basemap import Basemap\n",
    "from mpl_toolkits.axes_grid1.inset_locator import inset_axes\n",
    "from matplotlib.patches import Polygon\n",
    "from matplotlib.patches import Rectangle\n",
    "from matplotlib.colors import Normalize\n",
    "acsdir = '/home/brian/Documents/ACS/'\n",
    "\n",
    "plt.rc('font', family='Lato')\n",
    "\n",
    "# Match PUMAs to commuter zones (file from Dorn)\n",
    "cz_match = pd.read_stata(acsdir + 'data/cw_puma2010_czone.dta')\n",
    "cz_dict = {cz: [(puma, afactor) \n",
    "                for puma, z, afactor \n",
    "                in cz_match[cz_match['czone'] == cz].values] \n",
    "           for cz in cz_match['czone'].unique()}"
   ]
  },
  {
   "cell_type": "code",
   "execution_count": 169,
   "metadata": {
    "ExecuteTime": {
     "end_time": "2019-10-12T23:28:30.977448Z",
     "start_time": "2019-10-12T23:28:28.970823Z"
    }
   },
   "outputs": [],
   "source": [
    "variables = {'DP05_0024E': 'Age 65+',\n",
    "             'DP05_0019E': 'Age 0-17',\n",
    "             'DP03_0114E': 'Other NILF',\n",
    "             'DP05_0001E': 'Total'}\n",
    "srs = ','.join(variables.keys())\n",
    "area = 'for=public%20use%20microdata%20area:*'\n",
    "base = 'https://api.census.gov/data/2018/acs/acs1/profile'\n",
    "url = f'{base}?get={srs}&{area}&key={census_key}'\n",
    "r = requests.get(url)"
   ]
  },
  {
   "cell_type": "code",
   "execution_count": 170,
   "metadata": {
    "ExecuteTime": {
     "end_time": "2019-10-12T23:28:32.344437Z",
     "start_time": "2019-10-12T23:28:32.331066Z"
    }
   },
   "outputs": [],
   "source": [
    "df = pd.DataFrame(r.json()[1:])\n",
    "df.columns = r.json()[0]\n",
    "df['PUMA'] = [float(f\"{i[-2]}{i[-1]}\") for i in r.json()[1:]]\n",
    "df = df.set_index('PUMA')[variables.keys()]"
   ]
  },
  {
   "cell_type": "code",
   "execution_count": 171,
   "metadata": {
    "ExecuteTime": {
     "end_time": "2019-10-12T23:28:35.948402Z",
     "start_time": "2019-10-12T23:28:33.660718Z"
    }
   },
   "outputs": [],
   "source": [
    "d = {}\n",
    "for cz, puma_list in cz_dict.items(): \n",
    "    pop = 0\n",
    "    u18 = 0\n",
    "    o64 = 0\n",
    "    nlf = 0\n",
    "    for puma, afactor in puma_list:\n",
    "        data = dict(df.loc[puma].astype(int) * afactor)\n",
    "        pop += data['DP05_0001E']\n",
    "        u18 += data['DP05_0019E']\n",
    "        o64 += data['DP05_0024E']\n",
    "        nlf += data['DP03_0114E']\n",
    "    \n",
    "    u18sh = u18 / pop\n",
    "    o64sh = o64 / pop\n",
    "    nlfsh = nlf / pop\n",
    "    results = {'Total': pop, 'Age 0-17': u18sh, 'Age 65+': o64sh, 'NILF': nlfsh}\n",
    "    d[cz] = results"
   ]
  },
  {
   "cell_type": "code",
   "execution_count": 184,
   "metadata": {
    "ExecuteTime": {
     "end_time": "2019-10-12T23:34:00.280363Z",
     "start_time": "2019-10-12T23:34:00.234043Z"
    }
   },
   "outputs": [],
   "source": [
    "result = pd.DataFrame(d).T\n",
    "result['Sum'] = result[['Age 0-17', 'Age 65+', 'NILF']].sum(axis=1)\n",
    "maxval = result['Age 0-17'].max()\n",
    "minval = result['Age 0-17'].min()\n",
    "\n",
    "maxval2 = result['Age 65+'].max()\n",
    "minval2 = result['Age 65+'].min()\n",
    "\n",
    "maxval3 = result['NILF'].max()\n",
    "minval3 = result['NILF'].min()"
   ]
  },
  {
   "cell_type": "code",
   "execution_count": 202,
   "metadata": {
    "ExecuteTime": {
     "end_time": "2019-10-13T00:55:53.101832Z",
     "start_time": "2019-10-13T00:55:52.692246Z"
    }
   },
   "outputs": [],
   "source": [
    "# Map and legend settings\n",
    "m = Basemap(llcrnrlon=-121, llcrnrlat=20, urcrnrlon=-64, urcrnrlat=49,\n",
    "            projection='lcc', lat_1=33, lat_2=45, lon_0=-95)\n",
    "\n",
    "cmap = plt.cm.Blues\n",
    "norm = Normalize(vmin=minval, vmax=maxval)\n",
    "\n",
    "cmap2 = plt.cm.Greens\n",
    "norm2 = Normalize(vmin=minval2, vmax=maxval2)\n",
    "\n",
    "cmap3 = plt.cm.Greens\n",
    "norm3 = Normalize(vmin=minval3, vmax=maxval3)\n",
    "\n",
    "hi_cz = [35600, 34701, 34703, 34702, 34703]\n",
    "ak_cz = [34101, 34114, 34102, 34112, 34104, 34107, 34115, \n",
    "         34109, 34109, 34102, 34111, 34108, 34107, 34102, \n",
    "         34106, 34113, 34105, 34111, 34110, 34109, 34115, \n",
    "         34103, 34112, 34110, 34115]\n",
    "\n",
    "pts = np.arange(1, 101, 1)\n",
    "pct = (np.percentile(\n",
    "    np.repeat(result['Age 0-17'].values, \n",
    "              result.Total.div(1000).astype(int).values), pts))\n",
    "pct2 = (np.percentile(\n",
    "    np.repeat(result['Age 65+'].values, \n",
    "              result.Total.div(1000).astype(int).values), pts))\n",
    "pct3 = (np.percentile(\n",
    "    np.repeat(result['NILF'].values, \n",
    "              result.Total.div(1000).astype(int).values), pts))\n",
    "\n",
    "max_val = f'{maxval * 100:.1f}%'\n",
    "min_val = f'{minval * 100:.1f}%'\n",
    "\n",
    "max_val2 = f'{maxval2 * 100:.1f}%'\n",
    "min_val2 = f'{minval2 * 100:.1f}%'\n",
    "\n",
    "max_val3 = f'{maxval3 * 100:.1f}%'\n",
    "min_val3 = f'{minval3 * 100:.1f}%'"
   ]
  },
  {
   "cell_type": "code",
   "execution_count": 243,
   "metadata": {
    "ExecuteTime": {
     "end_time": "2019-10-13T01:45:46.308858Z",
     "start_time": "2019-10-13T01:45:44.477486Z"
    }
   },
   "outputs": [
    {
     "data": {
      "image/png": "[encoded data removed]",
      "text/plain": [
       "<Figure size 360x180 with 2 Axes>"
      ]
     },
     "metadata": {
      "needs_background": "light"
     },
     "output_type": "display_data"
    }
   ],
   "source": [
    "# Draw map\n",
    "fig = plt.figure(figsize=(5.0,2.5))\n",
    "\n",
    "m.drawmapboundary()\n",
    "m.readshapefile(acsdir + 'shapefiles/cz1990', 'cz', drawbounds=False)\n",
    "\n",
    "ax = plt.gca()\n",
    "\n",
    "for info, shape in zip(m.cz_info, m.cz):\n",
    "    fc = cmap(norm(d[info['cz']]['Age 0-17']))\n",
    "    fc2 = cmap2(norm2(d[info['cz']]['Age 65+']))\n",
    "    fc3 = cmap3(norm3(d[info['cz']]['NILF']))\n",
    "    if info['cz'] in hi_cz:\n",
    "        shape = [[x + 5200000, y - 1400000] for x, y in shape]\n",
    "    elif info['cz'] in ak_cz:\n",
    "        shape = [(x * 0.34 + 1280000, \n",
    "                  y * 0.34 - 1300000) for x, y in shape]\n",
    "    #ax.add_patch(Polygon(shape, fc=fc))\n",
    "    ax.add_patch(Polygon(shape, fc=fc2))\n",
    "    #ax.add_patch(Polygon(shape, fc=fc3))\n",
    "\n",
    "ax.axis('off')    \n",
    "\n",
    "ax_inset = inset_axes(ax, width='-10%', height='50%', loc=4, borderpad=1.8) \n",
    "for i, pt in enumerate(pct2):\n",
    "    rect = Rectangle(xy=(pt, i / 100), width=-pt, height=0.1, \n",
    "                     fc=cmap2(norm2(pt)), ec=None)\n",
    "    ax_inset.add_patch(rect)    \n",
    "\n",
    "ax_inset.text(0.6, 1.05, max_val2, fontsize=7)\n",
    "ax_inset.text(0.6, -0.12, min_val2, fontsize=7)\n",
    "ax_inset.axis('off')\n",
    "plt.savefig(data_dir / 'over64pop.pgf', bbox_inches='tight')"
   ]
  },
  {
   "cell_type": "code",
   "execution_count": null,
   "metadata": {},
   "outputs": [],
   "source": []
  },
  {
   "cell_type": "code",
   "execution_count": null,
   "metadata": {},
   "outputs": [],
   "source": []
  },
  {
   "cell_type": "code",
   "execution_count": null,
   "metadata": {},
   "outputs": [],
   "source": [
    "variables = {'DP05_0024E': 'Age 65+',\n",
    "             'DP05_0019E': 'Age 0-17',\n",
    "             'DP03_0114E': 'Other NILF',\n",
    "             'DP05_0001E': 'Total'}\n",
    "srs = ','.join(variables.keys())\n",
    "area = 'for=public%20use%20microdata%20area:*'\n",
    "base = 'https://api.census.gov/data/2018/acs/acs1/profile'\n",
    "url = f'{base}?get={srs}&{area}&key={census_key}'\n",
    "r = requests.get(url)"
   ]
  },
  {
   "cell_type": "code",
   "execution_count": 5,
   "metadata": {
    "ExecuteTime": {
     "end_time": "2019-10-13T10:40:35.224291Z",
     "start_time": "2019-10-13T10:40:35.221860Z"
    }
   },
   "outputs": [],
   "source": [
    "url = f'https://api.census.gov/data/timeseries/eits/resconst?get=geo_level_code,data_type_code,time_slot_id,seasonally_adj,category_code,cell_value,error_data&time=2012&key={census_key}'"
   ]
  },
  {
   "cell_type": "code",
   "execution_count": 6,
   "metadata": {
    "ExecuteTime": {
     "end_time": "2019-10-13T10:40:37.370470Z",
     "start_time": "2019-10-13T10:40:36.405530Z"
    }
   },
   "outputs": [],
   "source": [
    "r = requests.get(url)"
   ]
  },
  {
   "cell_type": "code",
   "execution_count": 7,
   "metadata": {
    "ExecuteTime": {
     "end_time": "2019-10-13T10:40:38.248713Z",
     "start_time": "2019-10-13T10:40:38.169284Z"
    }
   },
   "outputs": [
    {
     "data": {
      "text/plain": [
       "[['geo_level_code',\n",
       "  'data_type_code',\n",
       "  'time_slot_id',\n",
       "  'seasonally_adj',\n",
       "  'category_code',\n",
       "  'cell_value',\n",
       "  'error_data',\n",
       "  'time'],\n",
       " ['MW', 'SINGLE', '745', 'yes', 'ACOMPLETIONS', '67', 'no', '2012-01'],\n",
       " ['MW', 'TOTAL', '745', 'yes', 'ACOMPLETIONS', '90', 'no', '2012-01'],\n",
       " ['MW', 'E_SINGLE', '745', 'yes', 'ACOMPLETIONS', '13', 'yes', '2012-01'],\n",
       " ['MW', 'E_TOTAL', '745', 'yes', 'ACOMPLETIONS', '13', 'yes', '2012-01'],\n",
       " ['MW', 'SINGLE', '745', 'yes', 'APERMITS', '75', 'no', '2012-01'],\n",
       " ['MW', 'TOTAL', '745', 'yes', 'APERMITS', '109', 'no', '2012-01'],\n",
       " ['MW', 'SINGLE', '745', 'yes', 'ASTARTS', '86', 'no', '2012-01'],\n",
       " ['MW', 'TOTAL', '745', 'yes', 'ASTARTS', '109', 'no', '2012-01'],\n",
       " ['MW', 'E_SINGLE', '745', 'yes', 'ASTARTS', '12', 'yes', '2012-01'],\n",
       " ['MW', 'E_TOTAL', '745', 'yes', 'ASTARTS', '12', 'yes', '2012-01'],\n",
       " ['MW', 'TOTAL', '745', 'no', 'AUTHNOTSTD', '5.6', 'no', '2012-01'],\n",
       " ['MW', 'SINGLE', '745', 'no', 'AUTHNOTSTD', '3.7', 'no', '2012-01'],\n",
       " ['MW', 'E_TOTAL', '745', 'no', 'AUTHNOTSTD', '15', 'yes', '2012-01'],\n",
       " ['MW', 'E_SINGLE', '745', 'no', 'AUTHNOTSTD', '15', 'yes', '2012-01'],\n",
       " ['MW', 'SINGLE', '745', 'yes', 'AUTHNOTSTD', '4', 'no', '2012-01'],\n",
       " ['MW', 'TOTAL', '745', 'yes', 'AUTHNOTSTD', '7', 'no', '2012-01'],\n",
       " ['MW', 'TOTAL', '745', 'no', 'COMPLETIONS', '5.8', 'no', '2012-01'],\n",
       " ['MW', 'SINGLE', '745', 'no', 'COMPLETIONS', '4.3', 'no', '2012-01'],\n",
       " ['MW', 'E_TOTAL', '745', 'no', 'COMPLETIONS', '13', 'yes', '2012-01'],\n",
       " ['MW', 'E_SINGLE', '745', 'no', 'COMPLETIONS', '13', 'yes', '2012-01'],\n",
       " ['MW', 'SINGLE', '745', 'no', 'PERMITS', '3.3', 'no', '2012-01'],\n",
       " ['MW', 'TOTAL', '745', 'no', 'PERMITS', '5.0', 'no', '2012-01'],\n",
       " ['MW', 'SINGLE', '745', 'no', 'STARTS', '3.7', 'no', '2012-01'],\n",
       " ['MW', 'TOTAL', '745', 'no', 'STARTS', '5.3', 'no', '2012-01'],\n",
       " ['MW', 'E_SINGLE', '745', 'no', 'STARTS', '12', 'yes', '2012-01'],\n",
       " ['MW', 'E_TOTAL', '745', 'no', 'STARTS', '12', 'yes', '2012-01'],\n",
       " ['MW', 'SINGLE', '745', 'no', 'UNDERCONST', '43.4', 'no', '2012-01'],\n",
       " ['MW', 'TOTAL', '745', 'no', 'UNDERCONST', '66.1', 'no', '2012-01'],\n",
       " ['MW', 'E_SINGLE', '745', 'no', 'UNDERCONST', '10', 'yes', '2012-01'],\n",
       " ['MW', 'E_TOTAL', '745', 'no', 'UNDERCONST', '7', 'yes', '2012-01'],\n",
       " ['MW', 'SINGLE', '745', 'yes', 'UNDERCONST', '46', 'no', '2012-01'],\n",
       " ['MW', 'TOTAL', '745', 'yes', 'UNDERCONST', '69', 'no', '2012-01'],\n",
       " ['NE', 'SINGLE', '745', 'yes', 'ACOMPLETIONS', '37', 'no', '2012-01'],\n",
       " ['NE', 'TOTAL', '745', 'yes', 'ACOMPLETIONS', '91', 'no', '2012-01'],\n",
       " ['NE', 'E_SINGLE', '745', 'yes', 'ACOMPLETIONS', '17', 'yes', '2012-01'],\n",
       " ['NE', 'E_TOTAL', '745', 'yes', 'ACOMPLETIONS', '22', 'yes', '2012-01'],\n",
       " ['NE', 'SINGLE', '745', 'yes', 'APERMITS', '39', 'no', '2012-01'],\n",
       " ['NE', 'TOTAL', '745', 'yes', 'APERMITS', '77', 'no', '2012-01'],\n",
       " ['NE', 'SINGLE', '745', 'yes', 'ASTARTS', '45', 'no', '2012-01'],\n",
       " ['NE', 'TOTAL', '745', 'yes', 'ASTARTS', '74', 'no', '2012-01'],\n",
       " ['NE', 'E_SINGLE', '745', 'yes', 'ASTARTS', '12', 'yes', '2012-01'],\n",
       " ['NE', 'E_TOTAL', '745', 'yes', 'ASTARTS', '14', 'yes', '2012-01'],\n",
       " ['NE', 'TOTAL', '745', 'no', 'AUTHNOTSTD', '8.1', 'no', '2012-01'],\n",
       " ['NE', 'SINGLE', '745', 'no', 'AUTHNOTSTD', '5.0', 'no', '2012-01'],\n",
       " ['NE', 'E_TOTAL', '745', 'no', 'AUTHNOTSTD', '15', 'yes', '2012-01'],\n",
       " ['NE', 'E_SINGLE', '745', 'no', 'AUTHNOTSTD', '18', 'yes', '2012-01'],\n",
       " ['NE', 'SINGLE', '745', 'yes', 'AUTHNOTSTD', '5', 'no', '2012-01'],\n",
       " ['NE', 'TOTAL', '745', 'yes', 'AUTHNOTSTD', '8', 'no', '2012-01'],\n",
       " ['NE', 'TOTAL', '745', 'no', 'COMPLETIONS', '5.8', 'no', '2012-01'],\n",
       " ['NE', 'SINGLE', '745', 'no', 'COMPLETIONS', '2.2', 'no', '2012-01'],\n",
       " ['NE', 'E_TOTAL', '745', 'no', 'COMPLETIONS', '22', 'yes', '2012-01'],\n",
       " ['NE', 'E_SINGLE', '745', 'no', 'COMPLETIONS', '17', 'yes', '2012-01'],\n",
       " ['NE', 'SINGLE', '745', 'no', 'PERMITS', '2.3', 'no', '2012-01'],\n",
       " ['NE', 'TOTAL', '745', 'no', 'PERMITS', '4.9', 'no', '2012-01'],\n",
       " ['NE', 'SINGLE', '745', 'no', 'STARTS', '2.6', 'no', '2012-01'],\n",
       " ['NE', 'TOTAL', '745', 'no', 'STARTS', '4.6', 'no', '2012-01'],\n",
       " ['NE', 'E_SINGLE', '745', 'no', 'STARTS', '12', 'yes', '2012-01'],\n",
       " ['NE', 'E_TOTAL', '745', 'no', 'STARTS', '14', 'yes', '2012-01'],\n",
       " ['NE', 'SINGLE', '745', 'no', 'UNDERCONST', '34.6', 'no', '2012-01'],\n",
       " ['NE', 'TOTAL', '745', 'no', 'UNDERCONST', '87.7', 'no', '2012-01'],\n",
       " ['NE', 'E_SINGLE', '745', 'no', 'UNDERCONST', '9', 'yes', '2012-01'],\n",
       " ['NE', 'E_TOTAL', '745', 'no', 'UNDERCONST', '7', 'yes', '2012-01'],\n",
       " ['NE', 'TOTAL', '745', 'yes', 'UNDERCONST', '89', 'no', '2012-01'],\n",
       " ['NE', 'SINGLE', '745', 'yes', 'UNDERCONST', '36', 'no', '2012-01'],\n",
       " ['SO', 'SINGLE', '745', 'yes', 'ACOMPLETIONS', '218', 'no', '2012-01'],\n",
       " ['SO', 'TOTAL', '745', 'yes', 'ACOMPLETIONS', '275', 'no', '2012-01'],\n",
       " ['SO', 'E_SINGLE', '745', 'yes', 'ACOMPLETIONS', '8', 'yes', '2012-01'],\n",
       " ['SO', 'E_TOTAL', '745', 'yes', 'ACOMPLETIONS', '8', 'yes', '2012-01'],\n",
       " ['SO', 'SINGLE', '745', 'yes', 'APERMITS', '255', 'no', '2012-01'],\n",
       " ['SO', 'TOTAL', '745', 'yes', 'APERMITS', '395', 'no', '2012-01'],\n",
       " ['SO', 'SINGLE', '745', 'yes', 'ASTARTS', '295', 'no', '2012-01'],\n",
       " ['SO', 'TOTAL', '745', 'yes', 'ASTARTS', '407', 'no', '2012-01'],\n",
       " ['SO', 'E_SINGLE', '745', 'yes', 'ASTARTS', '6', 'yes', '2012-01'],\n",
       " ['SO', 'E_TOTAL', '745', 'yes', 'ASTARTS', '7', 'yes', '2012-01'],\n",
       " ['SO', 'TOTAL', '745', 'no', 'AUTHNOTSTD', '41.4', 'no', '2012-01'],\n",
       " ['SO', 'SINGLE', '745', 'no', 'AUTHNOTSTD', '21.1', 'no', '2012-01'],\n",
       " ['SO', 'E_TOTAL', '745', 'no', 'AUTHNOTSTD', '7', 'yes', '2012-01'],\n",
       " ['SO', 'E_SINGLE', '745', 'no', 'AUTHNOTSTD', '9', 'yes', '2012-01'],\n",
       " ['SO', 'TOTAL', '745', 'yes', 'AUTHNOTSTD', '42', 'no', '2012-01'],\n",
       " ['SO', 'SINGLE', '745', 'yes', 'AUTHNOTSTD', '22', 'no', '2012-01'],\n",
       " ['SO', 'TOTAL', '745', 'no', 'COMPLETIONS', '18.8', 'no', '2012-01'],\n",
       " ['SO', 'SINGLE', '745', 'no', 'COMPLETIONS', '14.9', 'no', '2012-01'],\n",
       " ['SO', 'E_TOTAL', '745', 'no', 'COMPLETIONS', '8', 'yes', '2012-01'],\n",
       " ['SO', 'E_SINGLE', '745', 'no', 'COMPLETIONS', '8', 'yes', '2012-01'],\n",
       " ['SO', 'SINGLE', '745', 'no', 'PERMITS', '18.9', 'no', '2012-01'],\n",
       " ['SO', 'TOTAL', '745', 'no', 'PERMITS', '29.7', 'no', '2012-01'],\n",
       " ['SO', 'SINGLE', '745', 'no', 'STARTS', '20.7', 'no', '2012-01'],\n",
       " ['SO', 'TOTAL', '745', 'no', 'STARTS', '28.4', 'no', '2012-01'],\n",
       " ['SO', 'E_SINGLE', '745', 'no', 'STARTS', '6', 'yes', '2012-01'],\n",
       " ['SO', 'E_TOTAL', '745', 'no', 'STARTS', '7', 'yes', '2012-01'],\n",
       " ['SO', 'TOTAL', '745', 'no', 'UNDERCONST', '174.0', 'no', '2012-01'],\n",
       " ['SO', 'SINGLE', '745', 'no', 'UNDERCONST', '104.2', 'no', '2012-01'],\n",
       " ['SO', 'E_TOTAL', '745', 'no', 'UNDERCONST', '4', 'yes', '2012-01'],\n",
       " ['SO', 'E_SINGLE', '745', 'no', 'UNDERCONST', '5', 'yes', '2012-01'],\n",
       " ['SO', 'TOTAL', '745', 'yes', 'UNDERCONST', '181', 'no', '2012-01'],\n",
       " ['SO', 'SINGLE', '745', 'yes', 'UNDERCONST', '111', 'no', '2012-01'],\n",
       " ['US', 'SINGLE', '745', 'yes', 'ACOMPLETIONS', '392', 'no', '2012-01'],\n",
       " ['US', 'MULTI', '745', 'yes', 'ACOMPLETIONS', '145', 'no', '2012-01'],\n",
       " ['US', 'TOTAL', '745', 'yes', 'ACOMPLETIONS', '545', 'no', '2012-01'],\n",
       " ['US', 'E_SINGLE', '745', 'yes', 'ACOMPLETIONS', '6', 'yes', '2012-01'],\n",
       " ['US', 'E_MULTI', '745', 'yes', 'ACOMPLETIONS', '18', 'yes', '2012-01'],\n",
       " ['US', 'E_TOTAL', '745', 'yes', 'ACOMPLETIONS', '7', 'yes', '2012-01'],\n",
       " ['US', 'SINGLE', '745', 'yes', 'APERMITS', '462', 'no', '2012-01'],\n",
       " ['US', 'MULTI', '745', 'yes', 'APERMITS', '229', 'no', '2012-01'],\n",
       " ['US', 'TOTAL', '745', 'yes', 'APERMITS', '712', 'no', '2012-01'],\n",
       " ['US', 'SINGLE', '745', 'yes', 'ASTARTS', '518', 'no', '2012-01'],\n",
       " ['US', 'TOTAL', '745', 'yes', 'ASTARTS', '723', 'no', '2012-01'],\n",
       " ['US', 'MULTI', '745', 'yes', 'ASTARTS', '189', 'no', '2012-01'],\n",
       " ['US', 'E_SINGLE', '745', 'yes', 'ASTARTS', '4', 'yes', '2012-01'],\n",
       " ['US', 'E_TOTAL', '745', 'yes', 'ASTARTS', '5', 'yes', '2012-01'],\n",
       " ['US', 'E_MULTI', '745', 'yes', 'ASTARTS', '14', 'yes', '2012-01'],\n",
       " ['US', 'TOTAL', '745', 'no', 'AUTHNOTSTD', '75.0', 'no', '2012-01'],\n",
       " ['US', 'MULTI', '745', 'no', 'AUTHNOTSTD', '33.5', 'no', '2012-01'],\n",
       " ['US', 'SINGLE', '745', 'no', 'AUTHNOTSTD', '39.9', 'no', '2012-01'],\n",
       " ['US', 'E_TOTAL', '745', 'no', 'AUTHNOTSTD', '5', 'yes', '2012-01'],\n",
       " ['US', 'E_MULTI', '745', 'no', 'AUTHNOTSTD', '9', 'yes', '2012-01'],\n",
       " ['US', 'E_SINGLE', '745', 'no', 'AUTHNOTSTD', '7', 'yes', '2012-01'],\n",
       " ['US', 'SINGLE', '745', 'yes', 'AUTHNOTSTD', '42', 'no', '2012-01'],\n",
       " ['US', 'TOTAL', '745', 'yes', 'AUTHNOTSTD', '78', 'no', '2012-01'],\n",
       " ['US', 'MULTI', '745', 'yes', 'AUTHNOTSTD', '34', 'no', '2012-01'],\n",
       " ['US', 'TOTAL', '745', 'no', 'COMPLETIONS', '36.4', 'no', '2012-01'],\n",
       " ['US', 'MULTI', '745', 'no', 'COMPLETIONS', '9.8', 'no', '2012-01'],\n",
       " ['US', 'SINGLE', '745', 'no', 'COMPLETIONS', '26.0', 'no', '2012-01'],\n",
       " ['US', 'E_TOTAL', '745', 'no', 'COMPLETIONS', '7', 'yes', '2012-01'],\n",
       " ['US', 'E_MULTI', '745', 'no', 'COMPLETIONS', '18', 'yes', '2012-01'],\n",
       " ['US', 'E_SINGLE', '745', 'no', 'COMPLETIONS', '6', 'yes', '2012-01'],\n",
       " ['US', 'SINGLE', '745', 'no', 'PERMITS', '30.5', 'no', '2012-01'],\n",
       " ['US', 'TOTAL', '745', 'no', 'PERMITS', '47.8', 'no', '2012-01'],\n",
       " ['US', 'MULTI', '745', 'no', 'PERMITS', '15.9', 'no', '2012-01'],\n",
       " ['US', 'SINGLE', '745', 'no', 'STARTS', '33.1', 'no', '2012-01'],\n",
       " ['US', 'TOTAL', '745', 'no', 'STARTS', '47.2', 'no', '2012-01'],\n",
       " ['US', 'MULTI', '745', 'no', 'STARTS', '13.0', 'no', '2012-01'],\n",
       " ['US', 'E_SINGLE', '745', 'no', 'STARTS', '4', 'yes', '2012-01'],\n",
       " ['US', 'E_TOTAL', '745', 'no', 'STARTS', '5', 'yes', '2012-01'],\n",
       " ['US', 'E_MULTI', '745', 'no', 'STARTS', '14', 'yes', '2012-01'],\n",
       " ['US', 'MULTI', '745', 'no', 'UNDERCONST', '188.7', 'no', '2012-01'],\n",
       " ['US', 'TOTAL', '745', 'no', 'UNDERCONST', '426.8', 'no', '2012-01'],\n",
       " ['US', 'SINGLE', '745', 'no', 'UNDERCONST', '227.7', 'no', '2012-01'],\n",
       " ['US', 'E_MULTI', '745', 'no', 'UNDERCONST', '4', 'yes', '2012-01'],\n",
       " ['US', 'E_TOTAL', '745', 'no', 'UNDERCONST', '3', 'yes', '2012-01'],\n",
       " ['US', 'E_SINGLE', '745', 'no', 'UNDERCONST', '4', 'yes', '2012-01'],\n",
       " ['US', 'MULTI', '745', 'yes', 'UNDERCONST', '190', 'no', '2012-01'],\n",
       " ['US', 'TOTAL', '745', 'yes', 'UNDERCONST', '441', 'no', '2012-01'],\n",
       " ['US', 'SINGLE', '745', 'yes', 'UNDERCONST', '241', 'no', '2012-01'],\n",
       " ['WE', 'SINGLE', '745', 'yes', 'ACOMPLETIONS', '70', 'no', '2012-01'],\n",
       " ['WE', 'TOTAL', '745', 'yes', 'ACOMPLETIONS', '89', 'no', '2012-01'],\n",
       " ['WE', 'E_SINGLE', '745', 'yes', 'ACOMPLETIONS', '10', 'yes', '2012-01'],\n",
       " ['WE', 'E_TOTAL', '745', 'yes', 'ACOMPLETIONS', '11', 'yes', '2012-01'],\n",
       " ['WE', 'SINGLE', '745', 'yes', 'APERMITS', '93', 'no', '2012-01'],\n",
       " ['WE', 'TOTAL', '745', 'yes', 'APERMITS', '131', 'no', '2012-01'],\n",
       " ['WE', 'SINGLE', '745', 'yes', 'ASTARTS', '92', 'no', '2012-01'],\n",
       " ['WE', 'TOTAL', '745', 'yes', 'ASTARTS', '133', 'no', '2012-01'],\n",
       " ['WE', 'E_SINGLE', '745', 'yes', 'ASTARTS', '9', 'yes', '2012-01'],\n",
       " ['WE', 'E_TOTAL', '745', 'yes', 'ASTARTS', '11', 'yes', '2012-01'],\n",
       " ['WE', 'TOTAL', '745', 'no', 'AUTHNOTSTD', '20.0', 'no', '2012-01'],\n",
       " ['WE', 'SINGLE', '745', 'no', 'AUTHNOTSTD', '10.1', 'no', '2012-01'],\n",
       " ['WE', 'E_TOTAL', '745', 'no', 'AUTHNOTSTD', '12', 'yes', '2012-01'],\n",
       " ['WE', 'E_SINGLE', '745', 'no', 'AUTHNOTSTD', '17', 'yes', '2012-01'],\n",
       " ['WE', 'SINGLE', '745', 'yes', 'AUTHNOTSTD', '11', 'no', '2012-01'],\n",
       " ['WE', 'TOTAL', '745', 'yes', 'AUTHNOTSTD', '21', 'no', '2012-01'],\n",
       " ['WE', 'TOTAL', '745', 'no', 'COMPLETIONS', '6.0', 'no', '2012-01'],\n",
       " ['WE', 'SINGLE', '745', 'no', 'COMPLETIONS', '4.7', 'no', '2012-01'],\n",
       " ['WE', 'E_TOTAL', '745', 'no', 'COMPLETIONS', '11', 'yes', '2012-01'],\n",
       " ['WE', 'E_SINGLE', '745', 'no', 'COMPLETIONS', '10', 'yes', '2012-01'],\n",
       " ['WE', 'SINGLE', '745', 'no', 'PERMITS', '6.1', 'no', '2012-01'],\n",
       " ['WE', 'TOTAL', '745', 'no', 'PERMITS', '8.2', 'no', '2012-01'],\n",
       " ['WE', 'SINGLE', '745', 'no', 'STARTS', '6.1', 'no', '2012-01'],\n",
       " ['WE', 'TOTAL', '745', 'no', 'STARTS', '9.0', 'no', '2012-01'],\n",
       " ['WE', 'E_SINGLE', '745', 'no', 'STARTS', '9', 'yes', '2012-01'],\n",
       " ['WE', 'E_TOTAL', '745', 'no', 'STARTS', '11', 'yes', '2012-01'],\n",
       " ['WE', 'TOTAL', '745', 'no', 'UNDERCONST', '99.0', 'no', '2012-01'],\n",
       " ['WE', 'SINGLE', '745', 'no', 'UNDERCONST', '45.4', 'no', '2012-01'],\n",
       " ['WE', 'E_TOTAL', '745', 'no', 'UNDERCONST', '6', 'yes', '2012-01'],\n",
       " ['WE', 'E_SINGLE', '745', 'no', 'UNDERCONST', '9', 'yes', '2012-01'],\n",
       " ['WE', 'TOTAL', '745', 'yes', 'UNDERCONST', '102', 'no', '2012-01'],\n",
       " ['WE', 'SINGLE', '745', 'yes', 'UNDERCONST', '48', 'no', '2012-01'],\n",
       " ['MW', 'SINGLE', '746', 'yes', 'ACOMPLETIONS', '77', 'no', '2012-02'],\n",
       " ['MW', 'TOTAL', '746', 'yes', 'ACOMPLETIONS', '95', 'no', '2012-02'],\n",
       " ['MW', 'E_SINGLE', '746', 'yes', 'ACOMPLETIONS', '13', 'yes', '2012-02'],\n",
       " ['MW', 'E_TOTAL', '746', 'yes', 'ACOMPLETIONS', '13', 'yes', '2012-02'],\n",
       " ['MW', 'SINGLE', '746', 'yes', 'APERMITS', '83', 'no', '2012-02'],\n",
       " ['MW', 'TOTAL', '746', 'yes', 'APERMITS', '125', 'no', '2012-02'],\n",
       " ['MW', 'SINGLE', '746', 'yes', 'ASTARTS', '86', 'no', '2012-02'],\n",
       " ['MW', 'TOTAL', '746', 'yes', 'ASTARTS', '97', 'no', '2012-02'],\n",
       " ['MW', 'E_SINGLE', '746', 'yes', 'ASTARTS', '11', 'yes', '2012-02'],\n",
       " ['MW', 'E_TOTAL', '746', 'yes', 'ASTARTS', '12', 'yes', '2012-02'],\n",
       " ['MW', 'TOTAL', '746', 'no', 'AUTHNOTSTD', '6.7', 'no', '2012-02'],\n",
       " ['MW', 'SINGLE', '746', 'no', 'AUTHNOTSTD', '4.5', 'no', '2012-02'],\n",
       " ['MW', 'E_SINGLE', '746', 'no', 'AUTHNOTSTD', '17', 'yes', '2012-02'],\n",
       " ['MW', 'E_TOTAL', '746', 'no', 'AUTHNOTSTD', '15', 'yes', '2012-02'],\n",
       " ['MW', 'SINGLE', '746', 'yes', 'AUTHNOTSTD', '5', 'no', '2012-02'],\n",
       " ['MW', 'TOTAL', '746', 'yes', 'AUTHNOTSTD', '7', 'no', '2012-02'],\n",
       " ['MW', 'TOTAL', '746', 'no', 'COMPLETIONS', '6.4', 'no', '2012-02'],\n",
       " ['MW', 'SINGLE', '746', 'no', 'COMPLETIONS', '5.2', 'no', '2012-02'],\n",
       " ['MW', 'E_TOTAL', '746', 'no', 'COMPLETIONS', '13', 'yes', '2012-02'],\n",
       " ['MW', 'E_SINGLE', '746', 'no', 'COMPLETIONS', '13', 'yes', '2012-02'],\n",
       " ['MW', 'TOTAL', '746', 'no', 'PERMITS', '6.5', 'no', '2012-02'],\n",
       " ['MW', 'SINGLE', '746', 'no', 'PERMITS', '4.6', 'no', '2012-02'],\n",
       " ['MW', 'TOTAL', '746', 'no', 'STARTS', '5.0', 'no', '2012-02'],\n",
       " ['MW', 'SINGLE', '746', 'no', 'STARTS', '4.1', 'no', '2012-02'],\n",
       " ['MW', 'E_TOTAL', '746', 'no', 'STARTS', '12', 'yes', '2012-02'],\n",
       " ['MW', 'E_SINGLE', '746', 'no', 'STARTS', '11', 'yes', '2012-02'],\n",
       " ['MW', 'TOTAL', '746', 'no', 'UNDERCONST', '65.3', 'no', '2012-02'],\n",
       " ['MW', 'SINGLE', '746', 'no', 'UNDERCONST', '42.6', 'no', '2012-02'],\n",
       " ['MW', 'E_TOTAL', '746', 'no', 'UNDERCONST', '7', 'yes', '2012-02'],\n",
       " ['MW', 'E_SINGLE', '746', 'no', 'UNDERCONST', '9', 'yes', '2012-02'],\n",
       " ['MW', 'TOTAL', '746', 'yes', 'UNDERCONST', '70', 'no', '2012-02'],\n",
       " ['MW', 'SINGLE', '746', 'yes', 'UNDERCONST', '47', 'no', '2012-02'],\n",
       " ['NE', 'SINGLE', '746', 'yes', 'ACOMPLETIONS', '41', 'no', '2012-02'],\n",
       " ['NE', 'TOTAL', '746', 'yes', 'ACOMPLETIONS', '80', 'no', '2012-02'],\n",
       " ['NE', 'E_SINGLE', '746', 'yes', 'ACOMPLETIONS', '17', 'yes', '2012-02'],\n",
       " ['NE', 'E_TOTAL', '746', 'yes', 'ACOMPLETIONS', '24', 'yes', '2012-02'],\n",
       " ['NE', 'SINGLE', '746', 'yes', 'APERMITS', '47', 'no', '2012-02'],\n",
       " ['NE', 'TOTAL', '746', 'yes', 'APERMITS', '96', 'no', '2012-02'],\n",
       " ['NE', 'SINGLE', '746', 'yes', 'ASTARTS', '49', 'no', '2012-02'],\n",
       " ['NE', 'TOTAL', '746', 'yes', 'ASTARTS', '64', 'no', '2012-02'],\n",
       " ['NE', 'E_SINGLE', '746', 'yes', 'ASTARTS', '14', 'yes', '2012-02'],\n",
       " ['NE', 'E_TOTAL', '746', 'yes', 'ASTARTS', '16', 'yes', '2012-02'],\n",
       " ['NE', 'TOTAL', '746', 'no', 'AUTHNOTSTD', '9.8', 'no', '2012-02'],\n",
       " ['NE', 'SINGLE', '746', 'no', 'AUTHNOTSTD', '5.1', 'no', '2012-02'],\n",
       " ['NE', 'E_TOTAL', '746', 'no', 'AUTHNOTSTD', '15', 'yes', '2012-02'],\n",
       " ['NE', 'E_SINGLE', '746', 'no', 'AUTHNOTSTD', '18', 'yes', '2012-02'],\n",
       " ['NE', 'SINGLE', '746', 'yes', 'AUTHNOTSTD', '5', 'no', '2012-02'],\n",
       " ['NE', 'TOTAL', '746', 'yes', 'AUTHNOTSTD', '9', 'no', '2012-02'],\n",
       " ['NE', 'TOTAL', '746', 'no', 'COMPLETIONS', '5.3', 'no', '2012-02'],\n",
       " ['NE', 'SINGLE', '746', 'no', 'COMPLETIONS', '2.6', 'no', '2012-02'],\n",
       " ['NE', 'E_TOTAL', '746', 'no', 'COMPLETIONS', '24', 'yes', '2012-02'],\n",
       " ['NE', 'E_SINGLE', '746', 'no', 'COMPLETIONS', '17', 'yes', '2012-02'],\n",
       " ['NE', 'TOTAL', '746', 'no', 'PERMITS', '5.7', 'no', '2012-02'],\n",
       " ['NE', 'SINGLE', '746', 'no', 'PERMITS', '2.8', 'no', '2012-02'],\n",
       " ['NE', 'TOTAL', '746', 'no', 'STARTS', '3.8', 'no', '2012-02'],\n",
       " ['NE', 'SINGLE', '746', 'no', 'STARTS', '2.7', 'no', '2012-02'],\n",
       " ['NE', 'E_TOTAL', '746', 'no', 'STARTS', '16', 'yes', '2012-02'],\n",
       " ['NE', 'E_SINGLE', '746', 'no', 'STARTS', '14', 'yes', '2012-02'],\n",
       " ['NE', 'TOTAL', '746', 'no', 'UNDERCONST', '86.1', 'no', '2012-02'],\n",
       " ['NE', 'SINGLE', '746', 'no', 'UNDERCONST', '34.9', 'no', '2012-02'],\n",
       " ['NE', 'E_TOTAL', '746', 'no', 'UNDERCONST', '7', 'yes', '2012-02'],\n",
       " ['NE', 'E_SINGLE', '746', 'no', 'UNDERCONST', '9', 'yes', '2012-02'],\n",
       " ['NE', 'TOTAL', '746', 'yes', 'UNDERCONST', '88', 'no', '2012-02'],\n",
       " ['NE', 'SINGLE', '746', 'yes', 'UNDERCONST', '37', 'no', '2012-02'],\n",
       " ['SO', 'SINGLE', '746', 'yes', 'ACOMPLETIONS', '225', 'no', '2012-02'],\n",
       " ['SO', 'TOTAL', '746', 'yes', 'ACOMPLETIONS', '279', 'no', '2012-02'],\n",
       " ['SO', 'E_SINGLE', '746', 'yes', 'ACOMPLETIONS', '8', 'yes', '2012-02'],\n",
       " ['SO', 'E_TOTAL', '746', 'yes', 'ACOMPLETIONS', '7', 'yes', '2012-02'],\n",
       " ['SO', 'TOTAL', '746', 'yes', 'APERMITS', '374', 'no', '2012-02'],\n",
       " ['SO', 'SINGLE', '746', 'yes', 'APERMITS', '270', 'no', '2012-02'],\n",
       " ['SO', 'SINGLE', '746', 'yes', 'ASTARTS', '248', 'no', '2012-02'],\n",
       " ['SO', 'TOTAL', '746', 'yes', 'ASTARTS', '408', 'no', '2012-02'],\n",
       " ['SO', 'E_SINGLE', '746', 'yes', 'ASTARTS', '6', 'yes', '2012-02'],\n",
       " ['SO', 'E_TOTAL', '746', 'yes', 'ASTARTS', '8', 'yes', '2012-02'],\n",
       " ['SO', 'TOTAL', '746', 'no', 'AUTHNOTSTD', '41.1', 'no', '2012-02'],\n",
       " ['SO', 'SINGLE', '746', 'no', 'AUTHNOTSTD', '23.5', 'no', '2012-02'],\n",
       " ['SO', 'E_TOTAL', '746', 'no', 'AUTHNOTSTD', '7', 'yes', '2012-02'],\n",
       " ['SO', 'E_SINGLE', '746', 'no', 'AUTHNOTSTD', '9', 'yes', '2012-02'],\n",
       " ['SO', 'TOTAL', '746', 'yes', 'AUTHNOTSTD', '41', 'no', '2012-02'],\n",
       " ['SO', 'SINGLE', '746', 'yes', 'AUTHNOTSTD', '23', 'no', '2012-02'],\n",
       " ['SO', 'TOTAL', '746', 'no', 'COMPLETIONS', '19.9', 'no', '2012-02'],\n",
       " ['SO', 'SINGLE', '746', 'no', 'COMPLETIONS', '16.2', 'no', '2012-02'],\n",
       " ['SO', 'E_TOTAL', '746', 'no', 'COMPLETIONS', '7', 'yes', '2012-02'],\n",
       " ['SO', 'E_SINGLE', '746', 'no', 'COMPLETIONS', '8', 'yes', '2012-02'],\n",
       " ['SO', 'TOTAL', '746', 'no', 'PERMITS', '30.1', 'no', '2012-02'],\n",
       " ['SO', 'SINGLE', '746', 'no', 'PERMITS', '21.7', 'no', '2012-02'],\n",
       " ['SO', 'TOTAL', '746', 'no', 'STARTS', '31.1', 'no', '2012-02'],\n",
       " ['SO', 'SINGLE', '746', 'no', 'STARTS', '19.5', 'no', '2012-02'],\n",
       " ['SO', 'E_TOTAL', '746', 'no', 'STARTS', '8', 'yes', '2012-02'],\n",
       " ['SO', 'E_SINGLE', '746', 'no', 'STARTS', '6', 'yes', '2012-02'],\n",
       " ['SO', 'TOTAL', '746', 'no', 'UNDERCONST', '182.6', 'no', '2012-02'],\n",
       " ['SO', 'SINGLE', '746', 'no', 'UNDERCONST', '106.4', 'no', '2012-02'],\n",
       " ['SO', 'E_TOTAL', '746', 'no', 'UNDERCONST', '4', 'yes', '2012-02'],\n",
       " ['SO', 'E_SINGLE', '746', 'no', 'UNDERCONST', '4', 'yes', '2012-02'],\n",
       " ['SO', 'TOTAL', '746', 'yes', 'UNDERCONST', '188', 'no', '2012-02'],\n",
       " ['SO', 'SINGLE', '746', 'yes', 'UNDERCONST', '112', 'no', '2012-02'],\n",
       " ['US', 'SINGLE', '746', 'yes', 'ACOMPLETIONS', '421', 'no', '2012-02'],\n",
       " ['US', 'MULTI', '746', 'yes', 'ACOMPLETIONS', '136', 'no', '2012-02'],\n",
       " ['US', 'TOTAL', '746', 'yes', 'ACOMPLETIONS', '561', 'no', '2012-02'],\n",
       " ['US', 'E_SINGLE', '746', 'yes', 'ACOMPLETIONS', '6', 'yes', '2012-02'],\n",
       " ['US', 'E_MULTI', '746', 'yes', 'ACOMPLETIONS', '19', 'yes', '2012-02'],\n",
       " ['US', 'E_TOTAL', '746', 'yes', 'ACOMPLETIONS', '7', 'yes', '2012-02'],\n",
       " ['US', 'SINGLE', '746', 'yes', 'APERMITS', '493', 'no', '2012-02'],\n",
       " ['US', 'MULTI', '746', 'yes', 'APERMITS', '221', 'no', '2012-02'],\n",
       " ['US', 'TOTAL', '746', 'yes', 'APERMITS', '738', 'no', '2012-02'],\n",
       " ['US', 'SINGLE', '746', 'yes', 'ASTARTS', '466', 'no', '2012-02'],\n",
       " ['US', 'MULTI', '746', 'yes', 'ASTARTS', '230', 'no', '2012-02'],\n",
       " ['US', 'TOTAL', '746', 'yes', 'ASTARTS', '704', 'no', '2012-02'],\n",
       " ['US', 'E_SINGLE', '746', 'yes', 'ASTARTS', '5', 'yes', '2012-02'],\n",
       " ['US', 'E_MULTI', '746', 'yes', 'ASTARTS', '15', 'yes', '2012-02'],\n",
       " ['US', 'E_TOTAL', '746', 'yes', 'ASTARTS', '6', 'yes', '2012-02'],\n",
       " ['US', 'TOTAL', '746', 'no', 'AUTHNOTSTD', '78.7', 'no', '2012-02'],\n",
       " ['US', 'MULTI', '746', 'no', 'AUTHNOTSTD', '32.6', 'no', '2012-02'],\n",
       " ['US', 'SINGLE', '746', 'no', 'AUTHNOTSTD', '44.2', 'no', '2012-02'],\n",
       " ['US', 'E_TOTAL', '746', 'no', 'AUTHNOTSTD', '5', 'yes', '2012-02'],\n",
       " ['US', 'E_MULTI', '746', 'no', 'AUTHNOTSTD', '9', 'yes', '2012-02'],\n",
       " ['US', 'E_SINGLE', '746', 'no', 'AUTHNOTSTD', '7', 'yes', '2012-02'],\n",
       " ['US', 'SINGLE', '746', 'yes', 'AUTHNOTSTD', '44', 'no', '2012-02'],\n",
       " ['US', 'TOTAL', '746', 'yes', 'AUTHNOTSTD', '78', 'no', '2012-02'],\n",
       " ['US', 'MULTI', '746', 'yes', 'AUTHNOTSTD', '32', 'no', '2012-02'],\n",
       " ['US', 'TOTAL', '746', 'no', 'COMPLETIONS', '39.0', 'no', '2012-02'],\n",
       " ['US', 'MULTI', '746', 'no', 'COMPLETIONS', '9.3', 'no', '2012-02'],\n",
       " ['US', 'SINGLE', '746', 'no', 'COMPLETIONS', '29.4', 'no', '2012-02'],\n",
       " ['US', 'E_TOTAL', '746', 'no', 'COMPLETIONS', '7', 'yes', '2012-02'],\n",
       " ['US', 'E_MULTI', '746', 'no', 'COMPLETIONS', '19', 'yes', '2012-02'],\n",
       " ['US', 'E_SINGLE', '746', 'no', 'COMPLETIONS', '6', 'yes', '2012-02'],\n",
       " ['US', 'TOTAL', '746', 'no', 'PERMITS', '53.5', 'no', '2012-02'],\n",
       " ['US', 'MULTI', '746', 'no', 'PERMITS', '16.0', 'no', '2012-02'],\n",
       " ['US', 'SINGLE', '746', 'no', 'PERMITS', '35.7', 'no', '2012-02'],\n",
       " ['US', 'TOTAL', '746', 'no', 'STARTS', '49.7', 'no', '2012-02'],\n",
       " ['US', 'MULTI', '746', 'no', 'STARTS', '16.9', 'no', '2012-02'],\n",
       " ['US', 'SINGLE', '746', 'no', 'STARTS', '32.2', 'no', '2012-02'],\n",
       " ['US', 'E_TOTAL', '746', 'no', 'STARTS', '6', 'yes', '2012-02'],\n",
       " ['US', 'E_MULTI', '746', 'no', 'STARTS', '15', 'yes', '2012-02'],\n",
       " ['US', 'E_SINGLE', '746', 'no', 'STARTS', '5', 'yes', '2012-02'],\n",
       " ['US', 'MULTI', '746', 'no', 'UNDERCONST', '194.4', 'no', '2012-02'],\n",
       " ['US', 'TOTAL', '746', 'no', 'UNDERCONST', '435.1', 'no', '2012-02'],\n",
       " ['US', 'SINGLE', '746', 'no', 'UNDERCONST', '230.2', 'no', '2012-02'],\n",
       " ['US', 'E_MULTI', '746', 'no', 'UNDERCONST', '4', 'yes', '2012-02'],\n",
       " ['US', 'E_TOTAL', '746', 'no', 'UNDERCONST', '3', 'yes', '2012-02'],\n",
       " ['US', 'E_SINGLE', '746', 'no', 'UNDERCONST', '4', 'yes', '2012-02'],\n",
       " ['US', 'MULTI', '746', 'yes', 'UNDERCONST', '194', 'no', '2012-02'],\n",
       " ['US', 'TOTAL', '746', 'yes', 'UNDERCONST', '450', 'no', '2012-02'],\n",
       " ['US', 'SINGLE', '746', 'yes', 'UNDERCONST', '245', 'no', '2012-02'],\n",
       " ['WE', 'SINGLE', '746', 'yes', 'ACOMPLETIONS', '78', 'no', '2012-02'],\n",
       " ['WE', 'TOTAL', '746', 'yes', 'ACOMPLETIONS', '107', 'no', '2012-02'],\n",
       " ['WE', 'E_SINGLE', '746', 'yes', 'ACOMPLETIONS', '11', 'yes', '2012-02'],\n",
       " ['WE', 'E_TOTAL', '746', 'yes', 'ACOMPLETIONS', '11', 'yes', '2012-02'],\n",
       " ['WE', 'SINGLE', '746', 'yes', 'APERMITS', '93', 'no', '2012-02'],\n",
       " ['WE', 'TOTAL', '746', 'yes', 'APERMITS', '143', 'no', '2012-02'],\n",
       " ['WE', 'SINGLE', '746', 'yes', 'ASTARTS', '83', 'no', '2012-02'],\n",
       " ['WE', 'TOTAL', '746', 'yes', 'ASTARTS', '135', 'no', '2012-02'],\n",
       " ['WE', 'E_SINGLE', '746', 'yes', 'ASTARTS', '10', 'yes', '2012-02'],\n",
       " ['WE', 'E_TOTAL', '746', 'yes', 'ASTARTS', '11', 'yes', '2012-02'],\n",
       " ['WE', 'TOTAL', '746', 'no', 'AUTHNOTSTD', '21.1', 'no', '2012-02'],\n",
       " ['WE', 'SINGLE', '746', 'no', 'AUTHNOTSTD', '11.1', 'no', '2012-02'],\n",
       " ['WE', 'E_TOTAL', '746', 'no', 'AUTHNOTSTD', '12', 'yes', '2012-02'],\n",
       " ['WE', 'E_SINGLE', '746', 'no', 'AUTHNOTSTD', '17', 'yes', '2012-02'],\n",
       " ['WE', 'SINGLE', '746', 'yes', 'AUTHNOTSTD', '11', 'no', '2012-02'],\n",
       " ['WE', 'TOTAL', '746', 'yes', 'AUTHNOTSTD', '21', 'no', '2012-02'],\n",
       " ['WE', 'TOTAL', '746', 'no', 'COMPLETIONS', '7.4', 'no', '2012-02'],\n",
       " ['WE', 'SINGLE', '746', 'no', 'COMPLETIONS', '5.4', 'no', '2012-02'],\n",
       " ['WE', 'E_TOTAL', '746', 'no', 'COMPLETIONS', '11', 'yes', '2012-02'],\n",
       " ['WE', 'E_SINGLE', '746', 'no', 'COMPLETIONS', '11', 'yes', '2012-02'],\n",
       " ['WE', 'TOTAL', '746', 'no', 'PERMITS', '11.1', 'no', '2012-02'],\n",
       " ['WE', 'SINGLE', '746', 'no', 'PERMITS', '6.7', 'no', '2012-02'],\n",
       " ['WE', 'TOTAL', '746', 'no', 'STARTS', '9.8', 'no', '2012-02'],\n",
       " ['WE', 'SINGLE', '746', 'no', 'STARTS', '5.9', 'no', '2012-02'],\n",
       " ['WE', 'E_TOTAL', '746', 'no', 'STARTS', '11', 'yes', '2012-02'],\n",
       " ['WE', 'E_SINGLE', '746', 'no', 'STARTS', '10', 'yes', '2012-02'],\n",
       " ['WE', 'TOTAL', '746', 'no', 'UNDERCONST', '101.0', 'no', '2012-02'],\n",
       " ['WE', 'SINGLE', '746', 'no', 'UNDERCONST', '46.2', 'no', '2012-02'],\n",
       " ['WE', 'E_TOTAL', '746', 'no', 'UNDERCONST', '6', 'yes', '2012-02'],\n",
       " ['WE', 'E_SINGLE', '746', 'no', 'UNDERCONST', '10', 'yes', '2012-02'],\n",
       " ['WE', 'TOTAL', '746', 'yes', 'UNDERCONST', '104', 'no', '2012-02'],\n",
       " ['WE', 'SINGLE', '746', 'yes', 'UNDERCONST', '49', 'no', '2012-02'],\n",
       " ['MW', 'SINGLE', '747', 'yes', 'ACOMPLETIONS', '78', 'no', '2012-03'],\n",
       " ['MW', 'TOTAL', '747', 'yes', 'ACOMPLETIONS', '121', 'no', '2012-03'],\n",
       " ['MW', 'E_SINGLE', '747', 'yes', 'ACOMPLETIONS', '14', 'yes', '2012-03'],\n",
       " ['MW', 'E_TOTAL', '747', 'yes', 'ACOMPLETIONS', '13', 'yes', '2012-03'],\n",
       " ['MW', 'SINGLE', '747', 'yes', 'APERMITS', '86', 'no', '2012-03'],\n",
       " ['MW', 'TOTAL', '747', 'yes', 'APERMITS', '132', 'no', '2012-03'],\n",
       " ['MW', 'TOTAL', '747', 'yes', 'ASTARTS', '112', 'no', '2012-03'],\n",
       " ['MW', 'SINGLE', '747', 'yes', 'ASTARTS', '84', 'no', '2012-03'],\n",
       " ['MW', 'E_TOTAL', '747', 'yes', 'ASTARTS', '12', 'yes', '2012-03'],\n",
       " ['MW', 'E_SINGLE', '747', 'yes', 'ASTARTS', '11', 'yes', '2012-03'],\n",
       " ['MW', 'TOTAL', '747', 'no', 'AUTHNOTSTD', '8.4', 'no', '2012-03'],\n",
       " ['MW', 'SINGLE', '747', 'no', 'AUTHNOTSTD', '5.2', 'no', '2012-03'],\n",
       " ['MW', 'E_TOTAL', '747', 'no', 'AUTHNOTSTD', '15', 'yes', '2012-03'],\n",
       " ['MW', 'E_SINGLE', '747', 'no', 'AUTHNOTSTD', '16', 'yes', '2012-03'],\n",
       " ['MW', 'SINGLE', '747', 'yes', 'AUTHNOTSTD', '5', 'no', '2012-03'],\n",
       " ['MW', 'TOTAL', '747', 'yes', 'AUTHNOTSTD', '8', 'no', '2012-03'],\n",
       " ['MW', 'TOTAL', '747', 'no', 'COMPLETIONS', '8.4', 'no', '2012-03'],\n",
       " ['MW', 'SINGLE', '747', 'no', 'COMPLETIONS', '5.3', 'no', '2012-03'],\n",
       " ['MW', 'E_TOTAL', '747', 'no', 'COMPLETIONS', '13', 'yes', '2012-03'],\n",
       " ['MW', 'E_SINGLE', '747', 'no', 'COMPLETIONS', '14', 'yes', '2012-03'],\n",
       " ['MW', 'TOTAL', '747', 'no', 'PERMITS', '10.5', 'no', '2012-03'],\n",
       " ['MW', 'SINGLE', '747', 'no', 'PERMITS', '7.3', 'no', '2012-03'],\n",
       " ['MW', 'TOTAL', '747', 'no', 'STARTS', '8.4', 'no', '2012-03'],\n",
       " ['MW', 'SINGLE', '747', 'no', 'STARTS', '6.1', 'no', '2012-03'],\n",
       " ['MW', 'E_TOTAL', '747', 'no', 'STARTS', '12', 'yes', '2012-03'],\n",
       " ['MW', 'E_SINGLE', '747', 'no', 'STARTS', '11', 'yes', '2012-03'],\n",
       " ['MW', 'SINGLE', '747', 'no', 'UNDERCONST', '43.3', 'no', '2012-03'],\n",
       " ['MW', 'TOTAL', '747', 'no', 'UNDERCONST', '64.8', 'no', '2012-03'],\n",
       " ['MW', 'E_SINGLE', '747', 'no', 'UNDERCONST', '9', 'yes', '2012-03'],\n",
       " ['MW', 'E_TOTAL', '747', 'no', 'UNDERCONST', '7', 'yes', '2012-03'],\n",
       " ['MW', 'SINGLE', '747', 'yes', 'UNDERCONST', '47', 'no', '2012-03'],\n",
       " ['MW', 'TOTAL', '747', 'yes', 'UNDERCONST', '68', 'no', '2012-03'],\n",
       " ['NE', 'TOTAL', '747', 'yes', 'ACOMPLETIONS', '72', 'no', '2012-03'],\n",
       " ['NE', 'SINGLE', '747', 'yes', 'ACOMPLETIONS', '45', 'no', '2012-03'],\n",
       " ['NE', 'E_SINGLE', '747', 'yes', 'ACOMPLETIONS', '17', 'yes', '2012-03'],\n",
       " ['NE', 'E_TOTAL', '747', 'yes', 'ACOMPLETIONS', '20', 'yes', '2012-03'],\n",
       " ['NE', 'SINGLE', '747', 'yes', 'APERMITS', '45', 'no', '2012-03'],\n",
       " ['NE', 'TOTAL', '747', 'yes', 'APERMITS', '79', 'no', '2012-03'],\n",
       " ['NE', 'TOTAL', '747', 'yes', 'ASTARTS', '86', 'no', '2012-03'],\n",
       " ['NE', 'SINGLE', '747', 'yes', 'ASTARTS', '44', 'no', '2012-03'],\n",
       " ['NE', 'E_TOTAL', '747', 'yes', 'ASTARTS', '14', 'yes', '2012-03'],\n",
       " ['NE', 'E_SINGLE', '747', 'yes', 'ASTARTS', '14', 'yes', '2012-03'],\n",
       " ['NE', 'TOTAL', '747', 'no', 'AUTHNOTSTD', '8.4', 'no', '2012-03'],\n",
       " ['NE', 'SINGLE', '747', 'no', 'AUTHNOTSTD', '5.2', 'no', '2012-03'],\n",
       " ['NE', 'E_TOTAL', '747', 'no', 'AUTHNOTSTD', '16', 'yes', '2012-03'],\n",
       " ['NE', 'E_SINGLE', '747', 'no', 'AUTHNOTSTD', '19', 'yes', '2012-03'],\n",
       " ['NE', 'SINGLE', '747', 'yes', 'AUTHNOTSTD', '5', 'no', '2012-03'],\n",
       " ['NE', 'TOTAL', '747', 'yes', 'AUTHNOTSTD', '8', 'no', '2012-03'],\n",
       " ['NE', 'TOTAL', '747', 'no', 'COMPLETIONS', '4.8', 'no', '2012-03'],\n",
       " ['NE', 'SINGLE', '747', 'no', 'COMPLETIONS', '2.9', 'no', '2012-03'],\n",
       " ['NE', 'E_TOTAL', '747', 'no', 'COMPLETIONS', '20', 'yes', '2012-03'],\n",
       " ['NE', 'E_SINGLE', '747', 'no', 'COMPLETIONS', '17', 'yes', '2012-03'],\n",
       " ['NE', 'TOTAL', '747', 'no', 'PERMITS', '5.9', 'no', '2012-03'],\n",
       " ['NE', 'SINGLE', '747', 'no', 'PERMITS', '3.7', 'no', '2012-03'],\n",
       " ['NE', 'TOTAL', '747', 'no', 'STARTS', '7.0', 'no', '2012-03'],\n",
       " ['NE', 'SINGLE', '747', 'no', 'STARTS', '3.7', 'no', '2012-03'],\n",
       " ['NE', 'E_TOTAL', '747', 'no', 'STARTS', '14', 'yes', '2012-03'],\n",
       " ['NE', 'E_SINGLE', '747', 'no', 'STARTS', '14', 'yes', '2012-03'],\n",
       " ['NE', 'SINGLE', '747', 'no', 'UNDERCONST', '35.5', 'no', '2012-03'],\n",
       " ['NE', 'TOTAL', '747', 'no', 'UNDERCONST', '88.7', 'no', '2012-03'],\n",
       " ['NE', 'E_SINGLE', '747', 'no', 'UNDERCONST', '9', 'yes', '2012-03'],\n",
       " ['NE', 'E_TOTAL', '747', 'no', 'UNDERCONST', '7', 'yes', '2012-03'],\n",
       " ['NE', 'SINGLE', '747', 'yes', 'UNDERCONST', '37', 'no', '2012-03'],\n",
       " ['NE', 'TOTAL', '747', 'yes', 'UNDERCONST', '90', 'no', '2012-03'],\n",
       " ['SO', 'TOTAL', '747', 'yes', 'ACOMPLETIONS', '279', 'no', '2012-03'],\n",
       " ['SO', 'SINGLE', '747', 'yes', 'ACOMPLETIONS', '222', 'no', '2012-03'],\n",
       " ['SO', 'E_TOTAL', '747', 'yes', 'ACOMPLETIONS', '8', 'yes', '2012-03'],\n",
       " ['SO', 'E_SINGLE', '747', 'yes', 'ACOMPLETIONS', '9', 'yes', '2012-03'],\n",
       " ['SO', 'SINGLE', '747', 'yes', 'APERMITS', '251', 'no', '2012-03'],\n",
       " ['SO', 'TOTAL', '747', 'yes', 'APERMITS', '404', 'no', '2012-03'],\n",
       " ['SO', 'TOTAL', '747', 'yes', 'ASTARTS', '350', 'no', '2012-03'],\n",
       " ['SO', 'SINGLE', '747', 'yes', 'ASTARTS', '246', 'no', '2012-03'],\n",
       " ['SO', 'E_TOTAL', '747', 'yes', 'ASTARTS', '8', 'yes', '2012-03'],\n",
       " ['SO', 'E_SINGLE', '747', 'yes', 'ASTARTS', '6', 'yes', '2012-03'],\n",
       " ['SO', 'TOTAL', '747', 'no', 'AUTHNOTSTD', '44.4', 'no', '2012-03'],\n",
       " ['SO', 'SINGLE', '747', 'no', 'AUTHNOTSTD', '23.6', 'no', '2012-03'],\n",
       " ['SO', 'E_TOTAL', '747', 'no', 'AUTHNOTSTD', '7', 'yes', '2012-03'],\n",
       " ['SO', 'E_SINGLE', '747', 'no', 'AUTHNOTSTD', '8', 'yes', '2012-03'],\n",
       " ['SO', 'TOTAL', '747', 'yes', 'AUTHNOTSTD', '44', 'no', '2012-03'],\n",
       " ['SO', 'SINGLE', '747', 'yes', 'AUTHNOTSTD', '23', 'no', '2012-03'],\n",
       " ['SO', 'TOTAL', '747', 'no', 'COMPLETIONS', '22.1', 'no', '2012-03'],\n",
       " ['SO', 'SINGLE', '747', 'no', 'COMPLETIONS', '17.9', 'no', '2012-03'],\n",
       " ['SO', 'E_TOTAL', '747', 'no', 'COMPLETIONS', '8', 'yes', '2012-03'],\n",
       " ['SO', 'E_SINGLE', '747', 'no', 'COMPLETIONS', '9', 'yes', '2012-03'],\n",
       " ['SO', 'TOTAL', '747', 'no', 'PERMITS', '35.9', 'no', '2012-03'],\n",
       " ['SO', 'SINGLE', '747', 'no', 'PERMITS', '23.2', 'no', '2012-03'],\n",
       " ['SO', 'TOTAL', '747', 'no', 'STARTS', '30.2', 'no', '2012-03'],\n",
       " ['SO', 'SINGLE', '747', 'no', 'STARTS', '21.8', 'no', '2012-03'],\n",
       " ['SO', 'E_TOTAL', '747', 'no', 'STARTS', '8', 'yes', '2012-03'],\n",
       " ['SO', 'E_SINGLE', '747', 'no', 'STARTS', '6', 'yes', '2012-03'],\n",
       " ['SO', 'SINGLE', '747', 'no', 'UNDERCONST', '109.6', 'no', '2012-03'],\n",
       " ['SO', 'TOTAL', '747', 'no', 'UNDERCONST', '189.4', 'no', '2012-03'],\n",
       " ['SO', 'E_SINGLE', '747', 'no', 'UNDERCONST', '5', 'yes', '2012-03'],\n",
       " ['SO', 'E_TOTAL', '747', 'no', 'UNDERCONST', '4', 'yes', '2012-03'],\n",
       " ['SO', 'SINGLE', '747', 'yes', 'UNDERCONST', '112', 'no', '2012-03'],\n",
       " ['SO', 'TOTAL', '747', 'yes', 'UNDERCONST', '192', 'no', '2012-03'],\n",
       " ['US', 'MULTI', '747', 'yes', 'ACOMPLETIONS', '136', 'no', '2012-03'],\n",
       " ['US', 'TOTAL', '747', 'yes', 'ACOMPLETIONS', '582', 'no', '2012-03'],\n",
       " ['US', 'SINGLE', '747', 'yes', 'ACOMPLETIONS', '434', 'no', '2012-03'],\n",
       " ['US', 'E_MULTI', '747', 'yes', 'ACOMPLETIONS', '17', 'yes', '2012-03'],\n",
       " ['US', 'E_TOTAL', '747', 'yes', 'ACOMPLETIONS', '6', 'yes', '2012-03'],\n",
       " ['US', 'E_SINGLE', '747', 'yes', 'ACOMPLETIONS', '6', 'yes', '2012-03'],\n",
       " ['US', 'SINGLE', '747', 'yes', 'APERMITS', '482', 'no', '2012-03'],\n",
       " ['US', 'MULTI', '747', 'yes', 'APERMITS', '299', 'no', '2012-03'],\n",
       " ['US', 'TOTAL', '747', 'yes', 'APERMITS', '806', 'no', '2012-03'],\n",
       " ['US', 'MULTI', '747', 'yes', 'ASTARTS', '213', 'no', '2012-03'],\n",
       " ['US', 'TOTAL', '747', 'yes', 'ASTARTS', '695', 'no', '2012-03'],\n",
       " ['US', 'SINGLE', '747', 'yes', 'ASTARTS', '472', 'no', '2012-03'],\n",
       " ['US', 'E_MULTI', '747', 'yes', 'ASTARTS', '15', 'yes', '2012-03'],\n",
       " ['US', 'E_TOTAL', '747', 'yes', 'ASTARTS', '6', 'yes', '2012-03'],\n",
       " ['US', 'E_SINGLE', '747', 'yes', 'ASTARTS', '5', 'yes', '2012-03'],\n",
       " ['US', 'TOTAL', '747', 'no', 'AUTHNOTSTD', '87.6', 'no', '2012-03'],\n",
       " ['US', 'MULTI', '747', 'no', 'AUTHNOTSTD', '40.4', 'no', '2012-03'],\n",
       " ['US', 'SINGLE', '747', 'no', 'AUTHNOTSTD', '45.2', 'no', '2012-03'],\n",
       " ['US', 'E_TOTAL', '747', 'no', 'AUTHNOTSTD', '5', 'yes', '2012-03'],\n",
       " ['US', 'E_MULTI', '747', 'no', 'AUTHNOTSTD', '8', 'yes', '2012-03'],\n",
       " ['US', 'E_SINGLE', '747', 'no', 'AUTHNOTSTD', '6', 'yes', '2012-03'],\n",
       " ['US', 'SINGLE', '747', 'yes', 'AUTHNOTSTD', '44', 'no', '2012-03'],\n",
       " ['US', 'TOTAL', '747', 'yes', 'AUTHNOTSTD', '85', 'no', '2012-03'],\n",
       " ['US', 'MULTI', '747', 'yes', 'AUTHNOTSTD', '39', 'no', '2012-03'],\n",
       " ['US', 'TOTAL', '747', 'no', 'COMPLETIONS', '44.4', 'no', '2012-03'],\n",
       " ['US', 'MULTI', '747', 'no', 'COMPLETIONS', '9.9', 'no', '2012-03'],\n",
       " ['US', 'SINGLE', '747', 'no', 'COMPLETIONS', '33.6', 'no', '2012-03'],\n",
       " ['US', 'E_TOTAL', '747', 'no', 'COMPLETIONS', '6', 'yes', '2012-03'],\n",
       " ['US', 'E_MULTI', '747', 'no', 'COMPLETIONS', '17', 'yes', '2012-03'],\n",
       " ['US', 'E_SINGLE', '747', 'no', 'COMPLETIONS', '6', 'yes', '2012-03'],\n",
       " ['US', 'MULTI', '747', 'no', 'PERMITS', '24.5', 'no', '2012-03'],\n",
       " ['US', 'TOTAL', '747', 'no', 'PERMITS', '69.5', 'no', '2012-03'],\n",
       " ['US', 'SINGLE', '747', 'no', 'PERMITS', '42.9', 'no', '2012-03'],\n",
       " ['US', 'MULTI', '747', 'no', 'STARTS', '17.1', 'no', '2012-03'],\n",
       " ['US', 'TOTAL', '747', 'no', 'STARTS', '58.0', 'no', '2012-03'],\n",
       " ['US', 'SINGLE', '747', 'no', 'STARTS', '40.2', 'no', '2012-03'],\n",
       " ['US', 'E_MULTI', '747', 'no', 'STARTS', '15', 'yes', '2012-03'],\n",
       " ['US', 'E_TOTAL', '747', 'no', 'STARTS', '6', 'yes', '2012-03'],\n",
       " ['US', 'E_SINGLE', '747', 'no', 'STARTS', '5', 'yes', '2012-03'],\n",
       " ['US', 'MULTI', '747', 'no', 'UNDERCONST', '202.6', 'no', '2012-03'],\n",
       " ['US', 'SINGLE', '747', 'no', 'UNDERCONST', '236.5', 'no', '2012-03'],\n",
       " ['US', 'TOTAL', '747', 'no', 'UNDERCONST', '449.3', 'no', '2012-03'],\n",
       " ['US', 'E_MULTI', '747', 'no', 'UNDERCONST', '4', 'yes', '2012-03'],\n",
       " ['US', 'E_SINGLE', '747', 'no', 'UNDERCONST', '4', 'yes', '2012-03'],\n",
       " ['US', 'E_TOTAL', '747', 'no', 'UNDERCONST', '3', 'yes', '2012-03'],\n",
       " ['US', 'MULTI', '747', 'yes', 'UNDERCONST', '202', 'no', '2012-03'],\n",
       " ['US', 'SINGLE', '747', 'yes', 'UNDERCONST', '246', 'no', '2012-03'],\n",
       " ['US', 'TOTAL', '747', 'yes', 'UNDERCONST', '458', 'no', '2012-03'],\n",
       " ['WE', 'TOTAL', '747', 'yes', 'ACOMPLETIONS', '110', 'no', '2012-03'],\n",
       " ['WE', 'SINGLE', '747', 'yes', 'ACOMPLETIONS', '89', 'no', '2012-03'],\n",
       " ['WE', 'E_TOTAL', '747', 'yes', 'ACOMPLETIONS', '11', 'yes', '2012-03'],\n",
       " ['WE', 'E_SINGLE', '747', 'yes', 'ACOMPLETIONS', '12', 'yes', '2012-03'],\n",
       " ['WE', 'SINGLE', '747', 'yes', 'APERMITS', '100', 'no', '2012-03'],\n",
       " ['WE', 'TOTAL', '747', 'yes', 'APERMITS', '191', 'no', '2012-03'],\n",
       " ['WE', 'TOTAL', '747', 'yes', 'ASTARTS', '147', 'no', '2012-03'],\n",
       " ['WE', 'SINGLE', '747', 'yes', 'ASTARTS', '98', 'no', '2012-03'],\n",
       " ['WE', 'E_TOTAL', '747', 'yes', 'ASTARTS', '12', 'yes', '2012-03'],\n",
       " ['WE', 'E_SINGLE', '747', 'yes', 'ASTARTS', '10', 'yes', '2012-03'],\n",
       " ['WE', 'TOTAL', '747', 'no', 'AUTHNOTSTD', '26.4', 'no', '2012-03'],\n",
       " ['WE', 'SINGLE', '747', 'no', 'AUTHNOTSTD', '11.3', 'no', '2012-03'],\n",
       " ['WE', 'E_TOTAL', '747', 'no', 'AUTHNOTSTD', '12', 'yes', '2012-03'],\n",
       " ['WE', 'E_SINGLE', '747', 'no', 'AUTHNOTSTD', '17', 'yes', '2012-03'],\n",
       " ['WE', 'SINGLE', '747', 'yes', 'AUTHNOTSTD', '11', 'no', '2012-03'],\n",
       " ['WE', 'TOTAL', '747', 'yes', 'AUTHNOTSTD', '25', 'no', '2012-03'],\n",
       " ['WE', 'TOTAL', '747', 'no', 'COMPLETIONS', '9.1', 'no', '2012-03'],\n",
       " ['WE', 'SINGLE', '747', 'no', 'COMPLETIONS', '7.6', 'no', '2012-03'],\n",
       " ['WE', 'E_TOTAL', '747', 'no', 'COMPLETIONS', '11', 'yes', '2012-03'],\n",
       " ['WE', 'E_SINGLE', '747', 'no', 'COMPLETIONS', '12', 'yes', '2012-03'],\n",
       " ['WE', 'TOTAL', '747', 'no', 'PERMITS', '17.2', 'no', '2012-03'],\n",
       " ['WE', 'SINGLE', '747', 'no', 'PERMITS', '8.8', 'no', '2012-03'],\n",
       " ['WE', 'SINGLE', '747', 'no', 'STARTS', '8.5', 'no', '2012-03'],\n",
       " ['WE', 'TOTAL', '747', 'no', 'STARTS', '12.4', 'no', '2012-03'],\n",
       " ['WE', 'E_TOTAL', '747', 'no', 'STARTS', '12', 'yes', '2012-03'],\n",
       " ['WE', 'E_SINGLE', '747', 'no', 'STARTS', '10', 'yes', '2012-03'],\n",
       " ['WE', 'SINGLE', '747', 'no', 'UNDERCONST', '48.0', 'no', '2012-03'],\n",
       " ['WE', 'TOTAL', '747', 'no', 'UNDERCONST', '106.4', 'no', '2012-03'],\n",
       " ['WE', 'E_SINGLE', '747', 'no', 'UNDERCONST', '10', 'yes', '2012-03'],\n",
       " ['WE', 'E_TOTAL', '747', 'no', 'UNDERCONST', '6', 'yes', '2012-03'],\n",
       " ['WE', 'SINGLE', '747', 'yes', 'UNDERCONST', '50', 'no', '2012-03'],\n",
       " ['WE', 'TOTAL', '747', 'yes', 'UNDERCONST', '108', 'no', '2012-03'],\n",
       " ['MW', 'TOTAL', '748', 'yes', 'ACOMPLETIONS', '104', 'no', '2012-04'],\n",
       " ['MW', 'SINGLE', '748', 'yes', 'ACOMPLETIONS', '87', 'no', '2012-04'],\n",
       " ['MW', 'E_TOTAL', '748', 'yes', 'ACOMPLETIONS', '13', 'yes', '2012-04'],\n",
       " ['MW', 'E_SINGLE', '748', 'yes', 'ACOMPLETIONS', '14', 'yes', '2012-04'],\n",
       " ['MW', 'TOTAL', '748', 'yes', 'APERMITS', '115', 'no', '2012-04'],\n",
       " ['MW', 'SINGLE', '748', 'yes', 'APERMITS', '81', 'no', '2012-04'],\n",
       " ['MW', 'SINGLE', '748', 'yes', 'ASTARTS', '90', 'no', '2012-04'],\n",
       " ['MW', 'TOTAL', '748', 'yes', 'ASTARTS', '125', 'no', '2012-04'],\n",
       " ['MW', 'E_SINGLE', '748', 'yes', 'ASTARTS', '10', 'yes', '2012-04'],\n",
       " ['MW', 'E_TOTAL', '748', 'yes', 'ASTARTS', '12', 'yes', '2012-04'],\n",
       " ['MW', 'SINGLE', '748', 'no', 'AUTHNOTSTD', '5.3', 'no', '2012-04'],\n",
       " ['MW', 'TOTAL', '748', 'no', 'AUTHNOTSTD', '7.2', 'no', '2012-04'],\n",
       " ['MW', 'E_SINGLE', '748', 'no', 'AUTHNOTSTD', '17', 'yes', '2012-04'],\n",
       " ['MW', 'E_TOTAL', '748', 'no', 'AUTHNOTSTD', '15', 'yes', '2012-04'],\n",
       " ['MW', 'SINGLE', '748', 'yes', 'AUTHNOTSTD', '5', 'no', '2012-04'],\n",
       " ['MW', 'TOTAL', '748', 'yes', 'AUTHNOTSTD', '7', 'no', '2012-04'],\n",
       " ['MW', 'SINGLE', '748', 'no', 'COMPLETIONS', '6.9', 'no', '2012-04'],\n",
       " ['MW', 'TOTAL', '748', 'no', 'COMPLETIONS', '8.3', 'no', '2012-04'],\n",
       " ['MW', 'E_SINGLE', '748', 'no', 'COMPLETIONS', '14', 'yes', '2012-04'],\n",
       " ['MW', 'E_TOTAL', '748', 'no', 'COMPLETIONS', '13', 'yes', '2012-04'],\n",
       " ['MW', 'TOTAL', '748', 'no', 'PERMITS', '10.8', 'no', '2012-04'],\n",
       " ['MW', 'SINGLE', '748', 'no', 'PERMITS', '7.8', 'no', '2012-04'],\n",
       " ['MW', 'TOTAL', '748', 'no', 'STARTS', '11.3', 'no', '2012-04'],\n",
       " ['MW', 'SINGLE', '748', 'no', 'STARTS', '8.5', 'no', '2012-04'],\n",
       " ['MW', 'E_TOTAL', '748', 'no', 'STARTS', '12', 'yes', '2012-04'],\n",
       " ['MW', 'E_SINGLE', '748', 'no', 'STARTS', '10', 'yes', '2012-04'],\n",
       " ['MW', 'SINGLE', '748', 'no', 'UNDERCONST', '45.1', 'no', '2012-04'],\n",
       " ['MW', 'TOTAL', '748', 'no', 'UNDERCONST', '68.0', 'no', '2012-04'],\n",
       " ['MW', 'E_SINGLE', '748', 'no', 'UNDERCONST', '9', 'yes', '2012-04'],\n",
       " ['MW', 'E_TOTAL', '748', 'no', 'UNDERCONST', '6', 'yes', '2012-04'],\n",
       " ['MW', 'SINGLE', '748', 'yes', 'UNDERCONST', '47', 'no', '2012-04'],\n",
       " ['MW', 'TOTAL', '748', 'yes', 'UNDERCONST', '70', 'no', '2012-04'],\n",
       " ['NE', 'TOTAL', '748', 'yes', 'ACOMPLETIONS', '83', 'no', '2012-04'],\n",
       " ['NE', 'SINGLE', '748', 'yes', 'ACOMPLETIONS', '46', 'no', '2012-04'],\n",
       " ['NE', 'E_TOTAL', '748', 'yes', 'ACOMPLETIONS', '19', 'yes', '2012-04'],\n",
       " ['NE', 'E_SINGLE', '748', 'yes', 'ACOMPLETIONS', '17', 'yes', '2012-04'],\n",
       " ['NE', 'SINGLE', '748', 'yes', 'APERMITS', '46', 'no', '2012-04'],\n",
       " ['NE', 'TOTAL', '748', 'yes', 'APERMITS', '90', 'no', '2012-04'],\n",
       " ['NE', 'SINGLE', '748', 'yes', 'ASTARTS', '45', 'no', '2012-04'],\n",
       " ['NE', 'TOTAL', '748', 'yes', 'ASTARTS', '78', 'no', '2012-04'],\n",
       " ['NE', 'E_SINGLE', '748', 'yes', 'ASTARTS', '13', 'yes', '2012-04'],\n",
       " ['NE', 'E_TOTAL', '748', 'yes', 'ASTARTS', '15', 'yes', '2012-04'],\n",
       " ['NE', 'SINGLE', '748', 'no', 'AUTHNOTSTD', '5.1', 'no', '2012-04'],\n",
       " ['NE', 'TOTAL', '748', 'no', 'AUTHNOTSTD', '8.8', 'no', '2012-04'],\n",
       " ['NE', 'E_SINGLE', '748', 'no', 'AUTHNOTSTD', '20', 'yes', '2012-04'],\n",
       " ['NE', 'E_TOTAL', '748', 'no', 'AUTHNOTSTD', '16', 'yes', '2012-04'],\n",
       " ['NE', 'SINGLE', '748', 'yes', 'AUTHNOTSTD', '5', 'no', '2012-04'],\n",
       " ['NE', 'TOTAL', '748', 'yes', 'AUTHNOTSTD', '9', 'no', '2012-04'],\n",
       " ['NE', 'SINGLE', '748', 'no', 'COMPLETIONS', '3.0', 'no', '2012-04'],\n",
       " ['NE', 'TOTAL', '748', 'no', 'COMPLETIONS', '6.1', 'no', '2012-04'],\n",
       " ['NE', 'E_SINGLE', '748', 'no', 'COMPLETIONS', '17', 'yes', '2012-04'],\n",
       " ['NE', 'E_TOTAL', '748', 'no', 'COMPLETIONS', '19', 'yes', '2012-04'],\n",
       " ['NE', 'TOTAL', '748', 'no', 'PERMITS', '7.8', 'no', '2012-04'],\n",
       " ['NE', 'SINGLE', '748', 'no', 'PERMITS', '4.1', 'no', '2012-04'],\n",
       " ['NE', 'TOTAL', '748', 'no', 'STARTS', '7.1', 'no', '2012-04'],\n",
       " ['NE', 'SINGLE', '748', 'no', 'STARTS', '4.4', 'no', '2012-04'],\n",
       " ['NE', 'E_TOTAL', '748', 'no', 'STARTS', '15', 'yes', '2012-04'],\n",
       " ['NE', 'E_SINGLE', '748', 'no', 'STARTS', '13', 'yes', '2012-04'],\n",
       " ['NE', 'SINGLE', '748', 'no', 'UNDERCONST', '36.6', 'no', '2012-04'],\n",
       " ['NE', 'TOTAL', '748', 'no', 'UNDERCONST', '88.7', 'no', '2012-04'],\n",
       " ['NE', 'E_SINGLE', '748', 'no', 'UNDERCONST', '8', 'yes', '2012-04'],\n",
       " ['NE', 'E_TOTAL', '748', 'no', 'UNDERCONST', '7', 'yes', '2012-04'],\n",
       " ['NE', 'SINGLE', '748', 'yes', 'UNDERCONST', '36', 'no', '2012-04'],\n",
       " ['NE', 'TOTAL', '748', 'yes', 'UNDERCONST', '88', 'no', '2012-04'],\n",
       " ['SO', 'TOTAL', '748', 'yes', 'ACOMPLETIONS', '329', 'no', '2012-04'],\n",
       " ['SO', 'SINGLE', '748', 'yes', 'ACOMPLETIONS', '249', 'no', '2012-04'],\n",
       " ['SO', 'E_TOTAL', '748', 'yes', 'ACOMPLETIONS', '9', 'yes', '2012-04'],\n",
       " ['SO', 'E_SINGLE', '748', 'yes', 'ACOMPLETIONS', '8', 'yes', '2012-04'],\n",
       " ['SO', 'SINGLE', '748', 'yes', 'APERMITS', '255', 'no', '2012-04'],\n",
       " ['SO', 'TOTAL', '748', 'yes', 'APERMITS', '366', 'no', '2012-04'],\n",
       " ['SO', 'SINGLE', '748', 'yes', 'ASTARTS', '267', 'no', '2012-04'],\n",
       " ['SO', 'TOTAL', '748', 'yes', 'ASTARTS', '400', 'no', '2012-04'],\n",
       " ['SO', 'E_SINGLE', '748', 'yes', 'ASTARTS', '7', 'yes', '2012-04'],\n",
       " ['SO', 'E_TOTAL', '748', 'yes', 'ASTARTS', '8', 'yes', '2012-04'],\n",
       " ['SO', 'SINGLE', '748', 'no', 'AUTHNOTSTD', '22.8', 'no', '2012-04'],\n",
       " ['SO', 'TOTAL', '748', 'no', 'AUTHNOTSTD', '39.9', 'no', '2012-04'],\n",
       " ['SO', 'E_SINGLE', '748', 'no', 'AUTHNOTSTD', '8', 'yes', '2012-04'],\n",
       " ['SO', 'E_TOTAL', '748', 'no', 'AUTHNOTSTD', '6', 'yes', '2012-04'],\n",
       " ['SO', 'TOTAL', '748', 'yes', 'AUTHNOTSTD', '41', 'no', '2012-04'],\n",
       " ['SO', 'SINGLE', '748', 'yes', 'AUTHNOTSTD', '23', 'no', '2012-04'],\n",
       " ['SO', 'SINGLE', '748', 'no', 'COMPLETIONS', '19.4', 'no', '2012-04'],\n",
       " ['SO', 'TOTAL', '748', 'no', 'COMPLETIONS', '26.1', 'no', '2012-04'],\n",
       " ['SO', 'E_SINGLE', '748', 'no', 'COMPLETIONS', '8', 'yes', '2012-04'],\n",
       " ['SO', 'E_TOTAL', '748', 'no', 'COMPLETIONS', '9', 'yes', '2012-04'],\n",
       " ['SO', 'TOTAL', '748', 'no', 'PERMITS', '31.8', 'no', '2012-04'],\n",
       " ['SO', 'SINGLE', '748', 'no', 'PERMITS', '23.1', 'no', '2012-04'],\n",
       " ['SO', 'TOTAL', '748', 'no', 'STARTS', '35.0', 'no', '2012-04'],\n",
       " ['SO', 'SINGLE', '748', 'no', 'STARTS', '24.2', 'no', '2012-04'],\n",
       " ['SO', 'E_TOTAL', '748', 'no', 'STARTS', '8', 'yes', '2012-04'],\n",
       " ['SO', 'E_SINGLE', '748', 'no', 'STARTS', '7', 'yes', '2012-04'],\n",
       " ['SO', 'SINGLE', '748', 'no', 'UNDERCONST', '113.7', 'no', '2012-04'],\n",
       " ['SO', 'TOTAL', '748', 'no', 'UNDERCONST', '197.6', 'no', '2012-04'],\n",
       " ['SO', 'E_SINGLE', '748', 'no', 'UNDERCONST', '5', 'yes', '2012-04'],\n",
       " ['SO', 'E_TOTAL', '748', 'no', 'UNDERCONST', '4', 'yes', '2012-04'],\n",
       " ['SO', 'SINGLE', '748', 'yes', 'UNDERCONST', '113', 'no', '2012-04'],\n",
       " ['SO', 'TOTAL', '748', 'yes', 'UNDERCONST', '197', 'no', '2012-04'],\n",
       " ['US', 'TOTAL', '748', 'yes', 'ACOMPLETIONS', '671', 'no', '2012-04'],\n",
       " ['US', 'MULTI', '748', 'yes', 'ACOMPLETIONS', '174', 'no', '2012-04'],\n",
       " ['US', 'SINGLE', '748', 'yes', 'ACOMPLETIONS', '494', 'no', '2012-04'],\n",
       " ['US', 'E_TOTAL', '748', 'yes', 'ACOMPLETIONS', '6', 'yes', '2012-04'],\n",
       " ['US', 'E_MULTI', '748', 'yes', 'ACOMPLETIONS', '18', 'yes', '2012-04'],\n",
       " ['US', 'E_SINGLE', '748', 'yes', 'ACOMPLETIONS', '6', 'yes', '2012-04'],\n",
       " ['US', 'SINGLE', '748', 'yes', 'APERMITS', '485', 'no', '2012-04'],\n",
       " ['US', 'MULTI', '748', 'yes', 'APERMITS', '224', 'no', '2012-04'],\n",
       " ['US', 'TOTAL', '748', 'yes', 'APERMITS', '732', 'no', '2012-04'],\n",
       " ['US', 'MULTI', '748', 'yes', 'ASTARTS', '240', 'no', '2012-04'],\n",
       " ['US', 'SINGLE', '748', 'yes', 'ASTARTS', '504', 'no', '2012-04'],\n",
       " ['US', 'TOTAL', '748', 'yes', 'ASTARTS', '753', 'no', '2012-04'],\n",
       " ['US', 'E_MULTI', '748', 'yes', 'ASTARTS', '16', 'yes', '2012-04'],\n",
       " ['US', 'E_SINGLE', '748', 'yes', 'ASTARTS', '5', 'yes', '2012-04'],\n",
       " ['US', 'E_TOTAL', '748', 'yes', 'ASTARTS', '6', 'yes', '2012-04'],\n",
       " ['US', 'MULTI', '748', 'no', 'AUTHNOTSTD', '34.5', 'no', '2012-04'],\n",
       " ['US', 'SINGLE', '748', 'no', 'AUTHNOTSTD', '44.2', 'no', '2012-04'],\n",
       " ['US', 'TOTAL', '748', 'no', 'AUTHNOTSTD', '80.6', 'no', '2012-04'],\n",
       " ['US', 'E_MULTI', '748', 'no', 'AUTHNOTSTD', '8', 'yes', '2012-04'],\n",
       " ['US', 'E_SINGLE', '748', 'no', 'AUTHNOTSTD', '6', 'yes', '2012-04'],\n",
       " ['US', 'E_TOTAL', '748', 'no', 'AUTHNOTSTD', '5', 'yes', '2012-04'],\n",
       " ['US', 'SINGLE', '748', 'yes', 'AUTHNOTSTD', '44', 'no', '2012-04'],\n",
       " ['US', 'TOTAL', '748', 'yes', 'AUTHNOTSTD', '81', 'no', '2012-04'],\n",
       " ['US', 'MULTI', '748', 'yes', 'AUTHNOTSTD', '35', 'no', '2012-04'],\n",
       " ['US', 'MULTI', '748', 'no', 'COMPLETIONS', '14.5', 'no', '2012-04'],\n",
       " ['US', 'SINGLE', '748', 'no', 'COMPLETIONS', '37.6', 'no', '2012-04'],\n",
       " ['US', 'TOTAL', '748', 'no', 'COMPLETIONS', '52.3', 'no', '2012-04'],\n",
       " ['US', 'E_MULTI', '748', 'no', 'COMPLETIONS', '18', 'yes', '2012-04'],\n",
       " ['US', 'E_SINGLE', '748', 'no', 'COMPLETIONS', '6', 'yes', '2012-04'],\n",
       " ['US', 'E_TOTAL', '748', 'no', 'COMPLETIONS', '6', 'yes', '2012-04'],\n",
       " ['US', 'TOTAL', '748', 'no', 'PERMITS', '64.1', 'no', '2012-04'],\n",
       " ['US', 'MULTI', '748', 'no', 'PERMITS', '17.7', 'no', '2012-04'],\n",
       " ['US', 'SINGLE', '748', 'no', 'PERMITS', '44.5', 'no', '2012-04'],\n",
       " ['US', 'TOTAL', '748', 'no', 'STARTS', '66.8', 'no', '2012-04'],\n",
       " ['US', 'MULTI', '748', 'no', 'STARTS', '19.5', 'no', '2012-04'],\n",
       " ['US', 'SINGLE', '748', 'no', 'STARTS', '46.6', 'no', '2012-04'],\n",
       " ['US', 'E_TOTAL', '748', 'no', 'STARTS', '6', 'yes', '2012-04'],\n",
       " ['US', 'E_MULTI', '748', 'no', 'STARTS', '16', 'yes', '2012-04'],\n",
       " ['US', 'E_SINGLE', '748', 'no', 'STARTS', '5', 'yes', '2012-04'],\n",
       " ['US', 'SINGLE', '748', 'no', 'UNDERCONST', '245.0', 'no', '2012-04'],\n",
       " ['US', 'MULTI', '748', 'no', 'UNDERCONST', '206.6', 'no', '2012-04'],\n",
       " ['US', 'TOTAL', '748', 'no', 'UNDERCONST', '462.1', 'no', '2012-04'],\n",
       " ['US', 'E_SINGLE', '748', 'no', 'UNDERCONST', '4', 'yes', '2012-04'],\n",
       " ['US', 'E_MULTI', '748', 'no', 'UNDERCONST', '4', 'yes', '2012-04'],\n",
       " ['US', 'E_TOTAL', '748', 'no', 'UNDERCONST', '3', 'yes', '2012-04'],\n",
       " ['US', 'SINGLE', '748', 'yes', 'UNDERCONST', '246', 'no', '2012-04'],\n",
       " ['US', 'MULTI', '748', 'yes', 'UNDERCONST', '207', 'no', '2012-04'],\n",
       " ['US', 'TOTAL', '748', 'yes', 'UNDERCONST', '463', 'no', '2012-04'],\n",
       " ['WE', 'TOTAL', '748', 'yes', 'ACOMPLETIONS', '155', 'no', '2012-04'],\n",
       " ['WE', 'SINGLE', '748', 'yes', 'ACOMPLETIONS', '112', 'no', '2012-04'],\n",
       " ['WE', 'E_TOTAL', '748', 'yes', 'ACOMPLETIONS', '11', 'yes', '2012-04'],\n",
       " ['WE', 'E_SINGLE', '748', 'yes', 'ACOMPLETIONS', '12', 'yes', '2012-04'],\n",
       " ['WE', 'SINGLE', '748', 'yes', 'APERMITS', '103', 'no', '2012-04'],\n",
       " ['WE', 'TOTAL', '748', 'yes', 'APERMITS', '161', 'no', '2012-04'],\n",
       " ['WE', 'SINGLE', '748', 'yes', 'ASTARTS', '102', 'no', '2012-04'],\n",
       " ['WE', 'TOTAL', '748', 'yes', 'ASTARTS', '150', 'no', '2012-04'],\n",
       " ['WE', 'E_SINGLE', '748', 'yes', 'ASTARTS', '9', 'yes', '2012-04'],\n",
       " ['WE', 'E_TOTAL', '748', 'yes', 'ASTARTS', '12', 'yes', '2012-04'],\n",
       " ['WE', 'SINGLE', '748', 'no', 'AUTHNOTSTD', '11.1', 'no', '2012-04'],\n",
       " ['WE', 'TOTAL', '748', 'no', 'AUTHNOTSTD', '24.8', 'no', '2012-04'],\n",
       " ['WE', 'E_SINGLE', '748', 'no', 'AUTHNOTSTD', '17', 'yes', '2012-04'],\n",
       " ['WE', 'E_TOTAL', '748', 'no', 'AUTHNOTSTD', '12', 'yes', '2012-04'],\n",
       " ['WE', 'SINGLE', '748', 'yes', 'AUTHNOTSTD', '11', 'no', '2012-04'],\n",
       " ['WE', 'TOTAL', '748', 'yes', 'AUTHNOTSTD', '24', 'no', '2012-04'],\n",
       " ['WE', 'SINGLE', '748', 'no', 'COMPLETIONS', '8.3', 'no', '2012-04'],\n",
       " ['WE', 'TOTAL', '748', 'no', 'COMPLETIONS', '11.9', 'no', '2012-04'],\n",
       " ['WE', 'E_SINGLE', '748', 'no', 'COMPLETIONS', '12', 'yes', '2012-04'],\n",
       " ['WE', 'E_TOTAL', '748', 'no', 'COMPLETIONS', '11', 'yes', '2012-04'],\n",
       " ['WE', 'TOTAL', '748', 'no', 'PERMITS', '13.8', 'no', '2012-04'],\n",
       " ['WE', 'SINGLE', '748', 'no', 'PERMITS', '9.5', 'no', '2012-04'],\n",
       " ['WE', 'SINGLE', '748', 'no', 'STARTS', '9.5', 'no', '2012-04'],\n",
       " ['WE', 'TOTAL', '748', 'no', 'STARTS', '13.4', 'no', '2012-04'],\n",
       " ['WE', 'E_TOTAL', '748', 'no', 'STARTS', '12', 'yes', '2012-04'],\n",
       " ['WE', 'E_SINGLE', '748', 'no', 'STARTS', '9', 'yes', '2012-04'],\n",
       " ['WE', 'SINGLE', '748', 'no', 'UNDERCONST', '49.6', 'no', '2012-04'],\n",
       " ['WE', 'TOTAL', '748', 'no', 'UNDERCONST', '107.9', 'no', '2012-04'],\n",
       " ['WE', 'E_SINGLE', '748', 'no', 'UNDERCONST', '10', 'yes', '2012-04'],\n",
       " ['WE', 'E_TOTAL', '748', 'no', 'UNDERCONST', '6', 'yes', '2012-04'],\n",
       " ['WE', 'SINGLE', '748', 'yes', 'UNDERCONST', '50', 'no', '2012-04'],\n",
       " ['WE', 'TOTAL', '748', 'yes', 'UNDERCONST', '108', 'no', '2012-04'],\n",
       " ['MW', 'SINGLE', '749', 'yes', 'ACOMPLETIONS', '92', 'no', '2012-05'],\n",
       " ['MW', 'TOTAL', '749', 'yes', 'ACOMPLETIONS', '109', 'no', '2012-05'],\n",
       " ['MW', 'E_SINGLE', '749', 'yes', 'ACOMPLETIONS', '13', 'yes', '2012-05'],\n",
       " ['MW', 'E_TOTAL', '749', 'yes', 'ACOMPLETIONS', '12', 'yes', '2012-05'],\n",
       " ['MW', 'SINGLE', '749', 'yes', 'APERMITS', '82', 'no', '2012-05'],\n",
       " ['MW', 'TOTAL', '749', 'yes', 'APERMITS', '120', 'no', '2012-05'],\n",
       " ['MW', 'SINGLE', '749', 'yes', 'ASTARTS', '87', 'no', '2012-05'],\n",
       " ['MW', 'TOTAL', '749', 'yes', 'ASTARTS', '109', 'no', '2012-05'],\n",
       " ['MW', 'E_SINGLE', '749', 'yes', 'ASTARTS', '10', 'yes', '2012-05'],\n",
       " ['MW', 'E_TOTAL', '749', 'yes', 'ASTARTS', '12', 'yes', '2012-05'],\n",
       " ['MW', 'TOTAL', '749', 'no', 'AUTHNOTSTD', '8.5', 'no', '2012-05'],\n",
       " ['MW', 'SINGLE', '749', 'no', 'AUTHNOTSTD', '5.7', 'no', '2012-05'],\n",
       " ['MW', 'E_TOTAL', '749', 'no', 'AUTHNOTSTD', '13', 'yes', '2012-05'],\n",
       " ['MW', 'E_SINGLE', '749', 'no', 'AUTHNOTSTD', '15', 'yes', '2012-05'],\n",
       " ['MW', 'SINGLE', '749', 'yes', 'AUTHNOTSTD', '5', 'no', '2012-05'],\n",
       " ['MW', 'TOTAL', '749', 'yes', 'AUTHNOTSTD', '8', 'no', '2012-05'],\n",
       " ['MW', 'TOTAL', '749', 'no', 'COMPLETIONS', '8.5', 'no', '2012-05'],\n",
       " ['MW', 'SINGLE', '749', 'no', 'COMPLETIONS', '7.4', 'no', '2012-05'],\n",
       " ['MW', 'E_TOTAL', '749', 'no', 'COMPLETIONS', '12', 'yes', '2012-05'],\n",
       " ['MW', 'E_SINGLE', '749', 'no', 'COMPLETIONS', '13', 'yes', '2012-05'],\n",
       " ['MW', 'SINGLE', '749', 'no', 'PERMITS', '9.1', 'no', '2012-05'],\n",
       " ['MW', 'TOTAL', '749', 'no', 'PERMITS', '12.6', 'no', '2012-05'],\n",
       " ['MW', 'SINGLE', '749', 'no', 'STARTS', '9.4', 'no', '2012-05'],\n",
       " ['MW', 'TOTAL', '749', 'no', 'STARTS', '11.4', 'no', '2012-05'],\n",
       " ['MW', 'E_SINGLE', '749', 'no', 'STARTS', '10', 'yes', '2012-05'],\n",
       " ['MW', 'E_TOTAL', '749', 'no', 'STARTS', '12', 'yes', '2012-05'],\n",
       " ['MW', 'SINGLE', '749', 'no', 'UNDERCONST', '47.1', 'no', '2012-05'],\n",
       " ['MW', 'TOTAL', '749', 'no', 'UNDERCONST', '70.4', 'no', '2012-05'],\n",
       " ['MW', 'E_SINGLE', '749', 'no', 'UNDERCONST', '8', 'yes', '2012-05'],\n",
       " ['MW', 'E_TOTAL', '749', 'no', 'UNDERCONST', '6', 'yes', '2012-05'],\n",
       " ['MW', 'SINGLE', '749', 'yes', 'UNDERCONST', '48', 'no', '2012-05'],\n",
       " ['MW', 'TOTAL', '749', 'yes', 'UNDERCONST', '71', 'no', '2012-05'],\n",
       " ['NE', 'TOTAL', '749', 'yes', 'ACOMPLETIONS', '84', 'no', '2012-05'],\n",
       " ['NE', 'SINGLE', '749', 'yes', 'ACOMPLETIONS', '50', 'no', '2012-05'],\n",
       " ['NE', 'E_SINGLE', '749', 'yes', 'ACOMPLETIONS', '18', 'yes', '2012-05'],\n",
       " ['NE', 'E_TOTAL', '749', 'yes', 'ACOMPLETIONS', '20', 'yes', '2012-05'],\n",
       " ['NE', 'SINGLE', '749', 'yes', 'APERMITS', '44', 'no', '2012-05'],\n",
       " ['NE', 'TOTAL', '749', 'yes', 'APERMITS', '79', 'no', '2012-05'],\n",
       " ['NE', 'SINGLE', '749', 'yes', 'ASTARTS', '44', 'no', '2012-05'],\n",
       " ['NE', 'TOTAL', '749', 'yes', 'ASTARTS', '77', 'no', '2012-05'],\n",
       " ['NE', 'E_SINGLE', '749', 'yes', 'ASTARTS', '13', 'yes', '2012-05'],\n",
       " ['NE', 'E_TOTAL', '749', 'yes', 'ASTARTS', '15', 'yes', '2012-05'],\n",
       " ['NE', 'TOTAL', '749', 'no', 'AUTHNOTSTD', '8.0', 'no', '2012-05'],\n",
       " ['NE', 'SINGLE', '749', 'no', 'AUTHNOTSTD', '4.9', 'no', '2012-05'],\n",
       " ['NE', 'E_TOTAL', '749', 'no', 'AUTHNOTSTD', '16', 'yes', '2012-05'],\n",
       " ['NE', 'E_SINGLE', '749', 'no', 'AUTHNOTSTD', '20', 'yes', '2012-05'],\n",
       " ['NE', 'SINGLE', '749', 'yes', 'AUTHNOTSTD', '5', 'no', '2012-05'],\n",
       " ['NE', 'TOTAL', '749', 'yes', 'AUTHNOTSTD', '8', 'no', '2012-05'],\n",
       " ['NE', 'TOTAL', '749', 'no', 'COMPLETIONS', '6.8', 'no', '2012-05'],\n",
       " ['NE', 'SINGLE', '749', 'no', 'COMPLETIONS', '4.4', 'no', '2012-05'],\n",
       " ['NE', 'E_TOTAL', '749', 'no', 'COMPLETIONS', '20', 'yes', '2012-05'],\n",
       " ['NE', 'E_SINGLE', '749', 'no', 'COMPLETIONS', '18', 'yes', '2012-05'],\n",
       " ['NE', 'SINGLE', '749', 'no', 'PERMITS', '4.5', 'no', '2012-05'],\n",
       " ['NE', 'TOTAL', '749', 'no', 'PERMITS', '7.3', 'no', '2012-05'],\n",
       " ['NE', 'SINGLE', '749', 'no', 'STARTS', '4.4', 'no', '2012-05'],\n",
       " ['NE', 'TOTAL', '749', 'no', 'STARTS', '7.4', 'no', '2012-05'],\n",
       " ['NE', 'E_SINGLE', '749', 'no', 'STARTS', '13', 'yes', '2012-05'],\n",
       " ['NE', 'E_TOTAL', '749', 'no', 'STARTS', '15', 'yes', '2012-05'],\n",
       " ['NE', 'SINGLE', '749', 'no', 'UNDERCONST', '36.4', 'no', '2012-05'],\n",
       " ['NE', 'TOTAL', '749', 'no', 'UNDERCONST', '89.6', 'no', '2012-05'],\n",
       " ['NE', 'E_SINGLE', '749', 'no', 'UNDERCONST', '8', 'yes', '2012-05'],\n",
       " ['NE', 'E_TOTAL', '749', 'no', 'UNDERCONST', '7', 'yes', '2012-05'],\n",
       " ['NE', 'SINGLE', '749', 'yes', 'UNDERCONST', '36', 'no', '2012-05'],\n",
       " ['NE', 'TOTAL', '749', 'yes', 'UNDERCONST', '89', 'no', '2012-05'],\n",
       " ['SO', 'TOTAL', '749', 'yes', 'ACOMPLETIONS', '306', 'no', '2012-05'],\n",
       " ['SO', 'SINGLE', '749', 'yes', 'ACOMPLETIONS', '248', 'no', '2012-05'],\n",
       " ['SO', 'E_TOTAL', '749', 'yes', 'ACOMPLETIONS', '9', 'yes', '2012-05'],\n",
       " ['SO', 'E_SINGLE', '749', 'yes', 'ACOMPLETIONS', '9', 'yes', '2012-05'],\n",
       " ['SO', 'SINGLE', '749', 'yes', 'APERMITS', '261', 'no', '2012-05'],\n",
       " ['SO', 'TOTAL', '749', 'yes', 'APERMITS', '421', 'no', '2012-05'],\n",
       " ['SO', 'SINGLE', '749', 'yes', 'ASTARTS', '276', 'no', '2012-05'],\n",
       " ['SO', 'TOTAL', '749', 'yes', 'ASTARTS', '363', 'no', '2012-05'],\n",
       " ['SO', 'E_SINGLE', '749', 'yes', 'ASTARTS', '7', 'yes', '2012-05'],\n",
       " ['SO', 'E_TOTAL', '749', 'yes', 'ASTARTS', '7', 'yes', '2012-05'],\n",
       " ['SO', 'TOTAL', '749', 'no', 'AUTHNOTSTD', '43.6', 'no', '2012-05'],\n",
       " ['SO', 'SINGLE', '749', 'no', 'AUTHNOTSTD', '23.5', 'no', '2012-05'],\n",
       " ['SO', 'E_TOTAL', '749', 'no', 'AUTHNOTSTD', '6', 'yes', '2012-05'],\n",
       " ['SO', 'E_SINGLE', '749', 'no', 'AUTHNOTSTD', '8', 'yes', '2012-05'],\n",
       " ['SO', 'TOTAL', '749', 'yes', 'AUTHNOTSTD', '43', 'no', '2012-05'],\n",
       " ['SO', 'SINGLE', '749', 'yes', 'AUTHNOTSTD', '22', 'no', '2012-05'],\n",
       " ['SO', 'TOTAL', '749', 'no', 'COMPLETIONS', '24.5', 'no', '2012-05'],\n",
       " ['SO', 'SINGLE', '749', 'no', 'COMPLETIONS', '20.4', 'no', '2012-05'],\n",
       " ['SO', 'E_TOTAL', '749', 'no', 'COMPLETIONS', '9', 'yes', '2012-05'],\n",
       " ['SO', 'E_SINGLE', '749', 'no', 'COMPLETIONS', '9', 'yes', '2012-05'],\n",
       " ['SO', 'SINGLE', '749', 'no', 'PERMITS', '25.6', 'no', '2012-05'],\n",
       " ['SO', 'TOTAL', '749', 'no', 'PERMITS', '40.4', 'no', '2012-05'],\n",
       " ['SO', 'SINGLE', '749', 'no', 'STARTS', '25.3', 'no', '2012-05'],\n",
       " ['SO', 'TOTAL', '749', 'no', 'STARTS', '33.4', 'no', '2012-05'],\n",
       " ['SO', 'E_SINGLE', '749', 'no', 'STARTS', '7', 'yes', '2012-05'],\n",
       " ['SO', 'E_TOTAL', '749', 'no', 'STARTS', '7', 'yes', '2012-05'],\n",
       " ['SO', 'SINGLE', '749', 'no', 'UNDERCONST', '117.9', 'no', '2012-05'],\n",
       " ['SO', 'TOTAL', '749', 'no', 'UNDERCONST', '205.0', 'no', '2012-05'],\n",
       " ['SO', 'E_SINGLE', '749', 'no', 'UNDERCONST', '4', 'yes', '2012-05'],\n",
       " ['SO', 'E_TOTAL', '749', 'no', 'UNDERCONST', '4', 'yes', '2012-05'],\n",
       " ['SO', 'SINGLE', '749', 'yes', 'UNDERCONST', '116', 'no', '2012-05'],\n",
       " ['SO', 'TOTAL', '749', 'yes', 'UNDERCONST', '202', 'no', '2012-05'],\n",
       " ['US', 'MULTI', '749', 'yes', 'ACOMPLETIONS', '134', 'no', '2012-05'],\n",
       " ['US', 'TOTAL', '749', 'yes', 'ACOMPLETIONS', '626', 'no', '2012-05'],\n",
       " ['US', 'SINGLE', '749', 'yes', 'ACOMPLETIONS', '475', 'no', '2012-05'],\n",
       " ['US', 'E_MULTI', '749', 'yes', 'ACOMPLETIONS', '17', 'yes', '2012-05'],\n",
       " ['US', 'E_TOTAL', '749', 'yes', 'ACOMPLETIONS', '6', 'yes', '2012-05'],\n",
       " ['US', 'E_SINGLE', '749', 'yes', 'ACOMPLETIONS', '6', 'yes', '2012-05'],\n",
       " ['US', 'SINGLE', '749', 'yes', 'APERMITS', '494', 'no', '2012-05'],\n",
       " ['US', 'MULTI', '749', 'yes', 'APERMITS', '279', 'no', '2012-05'],\n",
       " ['US', 'TOTAL', '749', 'yes', 'APERMITS', '796', 'no', '2012-05'],\n",
       " ['US', 'MULTI', '749', 'yes', 'ASTARTS', '175', 'no', '2012-05'],\n",
       " ['US', 'SINGLE', '749', 'yes', 'ASTARTS', '518', 'no', '2012-05'],\n",
       " ['US', 'TOTAL', '749', 'yes', 'ASTARTS', '708', 'no', '2012-05'],\n",
       " ['US', 'E_MULTI', '749', 'yes', 'ASTARTS', '14', 'yes', '2012-05'],\n",
       " ['US', 'E_SINGLE', '749', 'yes', 'ASTARTS', '5', 'yes', '2012-05'],\n",
       " ['US', 'E_TOTAL', '749', 'yes', 'ASTARTS', '5', 'yes', '2012-05'],\n",
       " ['US', 'MULTI', '749', 'no', 'AUTHNOTSTD', '39.2', 'no', '2012-05'],\n",
       " ['US', 'TOTAL', '749', 'no', 'AUTHNOTSTD', '85.8', 'no', '2012-05'],\n",
       " ['US', 'SINGLE', '749', 'no', 'AUTHNOTSTD', '45.1', 'no', '2012-05'],\n",
       " ['US', 'E_MULTI', '749', 'no', 'AUTHNOTSTD', '7', 'yes', '2012-05'],\n",
       " ['US', 'E_TOTAL', '749', 'no', 'AUTHNOTSTD', '5', 'yes', '2012-05'],\n",
       " ['US', 'E_SINGLE', '749', 'no', 'AUTHNOTSTD', '6', 'yes', '2012-05'],\n",
       " ['US', 'SINGLE', '749', 'yes', 'AUTHNOTSTD', '42', 'no', '2012-05'],\n",
       " ['US', 'TOTAL', '749', 'yes', 'AUTHNOTSTD', '83', 'no', '2012-05'],\n",
       " ['US', 'MULTI', '749', 'yes', 'AUTHNOTSTD', '39', 'no', '2012-05'],\n",
       " ['US', 'MULTI', '749', 'no', 'COMPLETIONS', '9.5', 'no', '2012-05'],\n",
       " ['US', 'TOTAL', '749', 'no', 'COMPLETIONS', '50.0', 'no', '2012-05'],\n",
       " ['US', 'SINGLE', '749', 'no', 'COMPLETIONS', '39.3', 'no', '2012-05'],\n",
       " ['US', 'E_MULTI', '749', 'no', 'COMPLETIONS', '17', 'yes', '2012-05'],\n",
       " ['US', 'E_TOTAL', '749', 'no', 'COMPLETIONS', '6', 'yes', '2012-05'],\n",
       " ['US', 'E_SINGLE', '749', 'no', 'COMPLETIONS', '6', 'yes', '2012-05'],\n",
       " ['US', 'MULTI', '749', 'no', 'PERMITS', '25.3', 'no', '2012-05'],\n",
       " ['US', 'SINGLE', '749', 'no', 'PERMITS', '50.3', 'no', '2012-05'],\n",
       " ['US', 'TOTAL', '749', 'no', 'PERMITS', '77.7', 'no', '2012-05'],\n",
       " ['US', 'MULTI', '749', 'no', 'STARTS', '16.3', 'no', '2012-05'],\n",
       " ['US', 'SINGLE', '749', 'no', 'STARTS', '50.1', 'no', '2012-05'],\n",
       " ['US', 'TOTAL', '749', 'no', 'STARTS', '67.8', 'no', '2012-05'],\n",
       " ['US', 'E_MULTI', '749', 'no', 'STARTS', '14', 'yes', '2012-05'],\n",
       " ['US', 'E_SINGLE', '749', 'no', 'STARTS', '5', 'yes', '2012-05'],\n",
       " ['US', 'E_TOTAL', '749', 'no', 'STARTS', '5', 'yes', '2012-05'],\n",
       " ['US', 'MULTI', '749', 'no', 'UNDERCONST', '212.8', 'no', '2012-05'],\n",
       " ['US', 'SINGLE', '749', 'no', 'UNDERCONST', '255.1', 'no', '2012-05'],\n",
       " ['US', 'TOTAL', '749', 'no', 'UNDERCONST', '478.1', 'no', '2012-05'],\n",
       " ['US', 'E_MULTI', '749', 'no', 'UNDERCONST', '4', 'yes', '2012-05'],\n",
       " ['US', 'E_SINGLE', '749', 'no', 'UNDERCONST', '4', 'yes', '2012-05'],\n",
       " ['US', 'E_TOTAL', '749', 'no', 'UNDERCONST', '3', 'yes', '2012-05'],\n",
       " ['US', 'MULTI', '749', 'yes', 'UNDERCONST', '211', 'no', '2012-05'],\n",
       " ['US', 'SINGLE', '749', 'yes', 'UNDERCONST', '253', 'no', '2012-05'],\n",
       " ['US', 'TOTAL', '749', 'yes', 'UNDERCONST', '474', 'no', '2012-05'],\n",
       " ['WE', 'TOTAL', '749', 'yes', 'ACOMPLETIONS', '127', 'no', '2012-05'],\n",
       " ['WE', 'SINGLE', '749', 'yes', 'ACOMPLETIONS', '85', 'no', '2012-05'],\n",
       " ['WE', 'E_TOTAL', '749', 'yes', 'ACOMPLETIONS', '12', 'yes', '2012-05'],\n",
       " ['WE', 'E_SINGLE', '749', 'yes', 'ACOMPLETIONS', '12', 'yes', '2012-05'],\n",
       " ['WE', 'SINGLE', '749', 'yes', 'APERMITS', '107', 'no', '2012-05'],\n",
       " ['WE', 'TOTAL', '749', 'yes', 'APERMITS', '176', 'no', '2012-05'],\n",
       " ['WE', 'SINGLE', '749', 'yes', 'ASTARTS', '111', 'no', '2012-05'],\n",
       " ['WE', 'TOTAL', '749', 'yes', 'ASTARTS', '159', 'no', '2012-05'],\n",
       " ['WE', 'E_SINGLE', '749', 'yes', 'ASTARTS', '9', 'yes', '2012-05'],\n",
       " ['WE', 'E_TOTAL', '749', 'yes', 'ASTARTS', '11', 'yes', '2012-05'],\n",
       " ['WE', 'TOTAL', '749', 'no', 'AUTHNOTSTD', '25.7', 'no', '2012-05'],\n",
       " ['WE', 'SINGLE', '749', 'no', 'AUTHNOTSTD', '11.0', 'no', '2012-05'],\n",
       " ['WE', 'E_TOTAL', '749', 'no', 'AUTHNOTSTD', '12', 'yes', '2012-05'],\n",
       " ['WE', 'E_SINGLE', '749', 'no', 'AUTHNOTSTD', '17', 'yes', '2012-05'],\n",
       " ['WE', 'SINGLE', '749', 'yes', 'AUTHNOTSTD', '10', 'no', '2012-05'],\n",
       " ['WE', 'TOTAL', '749', 'yes', 'AUTHNOTSTD', '24', 'no', '2012-05'],\n",
       " ['WE', 'TOTAL', '749', 'no', 'COMPLETIONS', '10.1', 'no', '2012-05'],\n",
       " ['WE', 'SINGLE', '749', 'no', 'COMPLETIONS', '7.1', 'no', '2012-05'],\n",
       " ['WE', 'E_TOTAL', '749', 'no', 'COMPLETIONS', '12', 'yes', '2012-05'],\n",
       " ['WE', 'E_SINGLE', '749', 'no', 'COMPLETIONS', '12', 'yes', '2012-05'],\n",
       " ['WE', 'SINGLE', '749', 'no', 'PERMITS', '11.1', 'no', '2012-05'],\n",
       " ['WE', 'TOTAL', '749', 'no', 'PERMITS', '17.3', 'no', '2012-05'],\n",
       " ['WE', 'SINGLE', '749', 'no', 'STARTS', '11.0', 'no', '2012-05'],\n",
       " ['WE', 'TOTAL', '749', 'no', 'STARTS', '15.5', 'no', '2012-05'],\n",
       " ['WE', 'E_SINGLE', '749', 'no', 'STARTS', '9', 'yes', '2012-05'],\n",
       " ['WE', 'E_TOTAL', '749', 'no', 'STARTS', '11', 'yes', '2012-05'],\n",
       " ['WE', 'SINGLE', '749', 'no', 'UNDERCONST', '53.6', 'no', '2012-05'],\n",
       " ['WE', 'TOTAL', '749', 'no', 'UNDERCONST', '113.1', 'no', '2012-05'],\n",
       " ['WE', 'E_SINGLE', '749', 'no', 'UNDERCONST', '9', 'yes', '2012-05'],\n",
       " ['WE', 'E_TOTAL', '749', 'no', 'UNDERCONST', '5', 'yes', '2012-05'],\n",
       " ['WE', 'SINGLE', '749', 'yes', 'UNDERCONST', '53', 'no', '2012-05'],\n",
       " ['WE', 'TOTAL', '749', 'yes', 'UNDERCONST', '112', 'no', '2012-05'],\n",
       " ['MW', 'TOTAL', '750', 'yes', 'ACOMPLETIONS', '110', 'no', '2012-06'],\n",
       " ['MW', 'SINGLE', '750', 'yes', 'ACOMPLETIONS', '79', 'no', '2012-06'],\n",
       " ['MW', 'E_TOTAL', '750', 'yes', 'ACOMPLETIONS', '11', 'yes', '2012-06'],\n",
       " ['MW', 'E_SINGLE', '750', 'yes', 'ACOMPLETIONS', '13', 'yes', '2012-06'],\n",
       " ['MW', 'SINGLE', '750', 'yes', 'APERMITS', '81', 'no', '2012-06'],\n",
       " ['MW', 'TOTAL', '750', 'yes', 'APERMITS', '120', 'no', '2012-06'],\n",
       " ['MW', 'SINGLE', '750', 'yes', 'ASTARTS', '85', 'no', '2012-06'],\n",
       " ['MW', 'TOTAL', '750', 'yes', 'ASTARTS', '97', 'no', '2012-06'],\n",
       " ['MW', 'E_SINGLE', '750', 'yes', 'ASTARTS', '10', 'yes', '2012-06'],\n",
       " ['MW', 'E_TOTAL', '750', 'yes', 'ASTARTS', '10', 'yes', '2012-06'],\n",
       " ['MW', 'TOTAL', '750', 'no', 'AUTHNOTSTD', '9.3', 'no', '2012-06'],\n",
       " ['MW', 'SINGLE', '750', 'no', 'AUTHNOTSTD', '4.9', 'no', '2012-06'],\n",
       " ['MW', 'E_SINGLE', '750', 'no', 'AUTHNOTSTD', '14', 'yes', '2012-06'],\n",
       " ['MW', 'E_TOTAL', '750', 'no', 'AUTHNOTSTD', '12', 'yes', '2012-06'],\n",
       " ['MW', 'SINGLE', '750', 'yes', 'AUTHNOTSTD', '5', 'no', '2012-06'],\n",
       " ['MW', 'TOTAL', '750', 'yes', 'AUTHNOTSTD', '8', 'no', '2012-06'],\n",
       " ['MW', 'TOTAL', '750', 'no', 'COMPLETIONS', '9.0', 'no', '2012-06'],\n",
       " ['MW', 'SINGLE', '750', 'no', 'COMPLETIONS', '6.3', 'no', '2012-06'],\n",
       " ['MW', 'E_TOTAL', '750', 'no', 'COMPLETIONS', '11', 'yes', '2012-06'],\n",
       " ['MW', 'E_SINGLE', '750', 'no', 'COMPLETIONS', '13', 'yes', '2012-06'],\n",
       " ['MW', 'SINGLE', '750', 'no', 'PERMITS', '8.2', 'no', '2012-06'],\n",
       " ['MW', 'TOTAL', '750', 'no', 'PERMITS', '11.7', 'no', '2012-06'],\n",
       " ['MW', 'SINGLE', '750', 'no', 'STARTS', '9.5', 'no', '2012-06'],\n",
       " ['MW', 'TOTAL', '750', 'no', 'STARTS', '10.5', 'no', '2012-06'],\n",
       " ['MW', 'E_SINGLE', '750', 'no', 'STARTS', '10', 'yes', '2012-06'],\n",
       " ['MW', 'E_TOTAL', '750', 'no', 'STARTS', '10', 'yes', '2012-06'],\n",
       " ['MW', 'SINGLE', '750', 'no', 'UNDERCONST', '49.9', 'no', '2012-06'],\n",
       " ['MW', 'TOTAL', '750', 'no', 'UNDERCONST', '72.2', 'no', '2012-06'],\n",
       " ['MW', 'E_SINGLE', '750', 'no', 'UNDERCONST', '8', 'yes', '2012-06'],\n",
       " ['MW', 'E_TOTAL', '750', 'no', 'UNDERCONST', '6', 'yes', '2012-06'],\n",
       " ['MW', 'SINGLE', '750', 'yes', 'UNDERCONST', '48', 'no', '2012-06'],\n",
       " ['MW', 'TOTAL', '750', 'yes', 'UNDERCONST', '70', 'no', '2012-06'],\n",
       " ['NE', 'TOTAL', '750', 'yes', 'ACOMPLETIONS', '73', 'no', '2012-06'],\n",
       " ['NE', 'SINGLE', '750', 'yes', 'ACOMPLETIONS', '59', 'no', '2012-06'],\n",
       " ['NE', 'E_TOTAL', '750', 'yes', 'ACOMPLETIONS', '19', 'yes', '2012-06'],\n",
       " ['NE', 'E_SINGLE', '750', 'yes', 'ACOMPLETIONS', '17', 'yes', '2012-06'],\n",
       " ['NE', 'SINGLE', '750', 'yes', 'APERMITS', '44', 'no', '2012-06'],\n",
       " ['NE', 'TOTAL', '750', 'yes', 'APERMITS', '81', 'no', '2012-06'],\n",
       " ['NE', 'SINGLE', '750', 'yes', 'ASTARTS', '49', 'no', '2012-06'],\n",
       " ['NE', 'TOTAL', '750', 'yes', 'ASTARTS', '80', 'no', '2012-06'],\n",
       " ['NE', 'E_SINGLE', '750', 'yes', 'ASTARTS', '14', 'yes', '2012-06'],\n",
       " ['NE', 'E_TOTAL', '750', 'yes', 'ASTARTS', '15', 'yes', '2012-06'],\n",
       " ['NE', 'TOTAL', '750', 'no', 'AUTHNOTSTD', '8.5', 'no', '2012-06'],\n",
       " ['NE', 'SINGLE', '750', 'no', 'AUTHNOTSTD', '5.6', 'no', '2012-06'],\n",
       " ['NE', 'E_TOTAL', '750', 'no', 'AUTHNOTSTD', '17', 'yes', '2012-06'],\n",
       " ['NE', 'E_SINGLE', '750', 'no', 'AUTHNOTSTD', '21', 'yes', '2012-06'],\n",
       " ['NE', 'SINGLE', '750', 'yes', 'AUTHNOTSTD', '5', 'no', '2012-06'],\n",
       " ['NE', 'TOTAL', '750', 'yes', 'AUTHNOTSTD', '8', 'no', '2012-06'],\n",
       " ['NE', 'TOTAL', '750', 'no', 'COMPLETIONS', '7.2', 'no', '2012-06'],\n",
       " ['NE', 'SINGLE', '750', 'no', 'COMPLETIONS', '5.9', 'no', '2012-06'],\n",
       " ['NE', 'E_TOTAL', '750', 'no', 'COMPLETIONS', '19', 'yes', '2012-06'],\n",
       " ['NE', 'E_SINGLE', '750', 'no', 'COMPLETIONS', '17', 'yes', '2012-06'],\n",
       " ['NE', 'SINGLE', '750', 'no', 'PERMITS', '4.2', 'no', '2012-06'],\n",
       " ['NE', 'TOTAL', '750', 'no', 'PERMITS', '8.9', 'no', '2012-06'],\n",
       " ['NE', 'SINGLE', '750', 'no', 'STARTS', '5.0', 'no', '2012-06'],\n",
       " ['NE', 'TOTAL', '750', 'no', 'STARTS', '7.7', 'no', '2012-06'],\n",
       " ['NE', 'E_SINGLE', '750', 'no', 'STARTS', '14', 'yes', '2012-06'],\n",
       " ['NE', 'E_TOTAL', '750', 'no', 'STARTS', '15', 'yes', '2012-06'],\n",
       " ['NE', 'SINGLE', '750', 'no', 'UNDERCONST', '35.3', 'no', '2012-06'],\n",
       " ['NE', 'TOTAL', '750', 'no', 'UNDERCONST', '90.1', 'no', '2012-06'],\n",
       " ['NE', 'E_SINGLE', '750', 'no', 'UNDERCONST', '8', 'yes', '2012-06'],\n",
       " ['NE', 'E_TOTAL', '750', 'no', 'UNDERCONST', '7', 'yes', '2012-06'],\n",
       " ['NE', 'SINGLE', '750', 'yes', 'UNDERCONST', '35', 'no', '2012-06'],\n",
       " ['NE', 'TOTAL', '750', 'yes', 'UNDERCONST', '90', 'no', '2012-06'],\n",
       " ['SO', 'TOTAL', '750', 'yes', 'ACOMPLETIONS', '315', 'no', '2012-06'],\n",
       " ['SO', 'SINGLE', '750', 'yes', 'ACOMPLETIONS', '251', 'no', '2012-06'],\n",
       " ['SO', 'E_TOTAL', '750', 'yes', 'ACOMPLETIONS', '9', 'yes', '2012-06'],\n",
       " ['SO', 'E_SINGLE', '750', 'yes', 'ACOMPLETIONS', '9', 'yes', '2012-06'],\n",
       " ['SO', 'SINGLE', '750', 'yes', 'APERMITS', '267', 'no', '2012-06'],\n",
       " ['SO', 'TOTAL', '750', 'yes', 'APERMITS', '409', 'no', '2012-06'],\n",
       " ['SO', 'SINGLE', '750', 'yes', 'ASTARTS', '275', 'no', '2012-06'],\n",
       " ['SO', 'TOTAL', '750', 'yes', 'ASTARTS', '369', 'no', '2012-06'],\n",
       " ['SO', 'E_SINGLE', '750', 'yes', 'ASTARTS', '6', 'yes', '2012-06'],\n",
       " ['SO', 'E_TOTAL', '750', 'yes', 'ASTARTS', '7', 'yes', '2012-06'],\n",
       " ['SO', 'TOTAL', '750', 'no', 'AUTHNOTSTD', '43.3', 'no', '2012-06'],\n",
       " ['SO', 'SINGLE', '750', 'no', 'AUTHNOTSTD', '22.2', 'no', '2012-06'],\n",
       " ['SO', 'E_TOTAL', '750', 'no', 'AUTHNOTSTD', '7', 'yes', '2012-06'],\n",
       " ['SO', 'E_SINGLE', '750', 'no', 'AUTHNOTSTD', '8', 'yes', '2012-06'],\n",
       " ['SO', 'TOTAL', '750', 'yes', 'AUTHNOTSTD', '43', 'no', '2012-06'],\n",
       " ['SO', 'SINGLE', '750', 'yes', 'AUTHNOTSTD', '22', 'no', '2012-06'],\n",
       " ['SO', 'TOTAL', '750', 'no', 'COMPLETIONS', '27.9', 'no', '2012-06'],\n",
       " ['SO', 'SINGLE', '750', 'no', 'COMPLETIONS', '22.3', 'no', '2012-06'],\n",
       " ['SO', 'E_TOTAL', '750', 'no', 'COMPLETIONS', '9', 'yes', '2012-06'],\n",
       " ['SO', 'E_SINGLE', '750', 'no', 'COMPLETIONS', '9', 'yes', '2012-06'],\n",
       " ['SO', 'SINGLE', '750', 'no', 'PERMITS', '24.6', 'no', '2012-06'],\n",
       " ['SO', 'TOTAL', '750', 'no', 'PERMITS', '37.0', 'no', '2012-06'],\n",
       " ['SO', 'SINGLE', '750', 'no', 'STARTS', '27.7', 'no', '2012-06'],\n",
       " ['SO', 'TOTAL', '750', 'no', 'STARTS', '35.9', 'no', '2012-06'],\n",
       " ['SO', 'E_SINGLE', '750', 'no', 'STARTS', '6', 'yes', '2012-06'],\n",
       " ['SO', 'E_TOTAL', '750', 'no', 'STARTS', '7', 'yes', '2012-06'],\n",
       " ['SO', 'SINGLE', '750', 'no', 'UNDERCONST', '122.5', 'no', '2012-06'],\n",
       " ['SO', 'TOTAL', '750', 'no', 'UNDERCONST', '212.2', 'no', '2012-06'],\n",
       " ['SO', 'E_SINGLE', '750', 'no', 'UNDERCONST', '4', 'yes', '2012-06'],\n",
       " ['SO', 'E_TOTAL', '750', 'no', 'UNDERCONST', '4', 'yes', '2012-06'],\n",
       " ['SO', 'SINGLE', '750', 'yes', 'UNDERCONST', '118', 'no', '2012-06'],\n",
       " ['SO', 'TOTAL', '750', 'yes', 'UNDERCONST', '207', 'no', '2012-06'],\n",
       " ['US', 'TOTAL', '750', 'yes', 'ACOMPLETIONS', '625', 'no', '2012-06'],\n",
       " ['US', 'SINGLE', '750', 'yes', 'ACOMPLETIONS', '482', 'no', '2012-06'],\n",
       " ['US', 'MULTI', '750', 'yes', 'ACOMPLETIONS', '127', 'no', '2012-06'],\n",
       " ['US', 'E_TOTAL', '750', 'yes', 'ACOMPLETIONS', '6', 'yes', '2012-06'],\n",
       " ['US', 'E_SINGLE', '750', 'yes', 'ACOMPLETIONS', '6', 'yes', '2012-06'],\n",
       " ['US', 'E_MULTI', '750', 'yes', 'ACOMPLETIONS', '16', 'yes', '2012-06'],\n",
       " ['US', 'SINGLE', '750', 'yes', 'APERMITS', '501', 'no', '2012-06'],\n",
       " ['US', 'MULTI', '750', 'yes', 'APERMITS', '271', 'no', '2012-06'],\n",
       " ['US', 'TOTAL', '750', 'yes', 'APERMITS', '794', 'no', '2012-06'],\n",
       " ['US', 'SINGLE', '750', 'yes', 'ASTARTS', '524', 'no', '2012-06'],\n",
       " ['US', 'TOTAL', '750', 'yes', 'ASTARTS', '757', 'no', '2012-06'],\n",
       " ['US', 'MULTI', '750', 'yes', 'ASTARTS', '224', 'no', '2012-06'],\n",
       " ['US', 'E_SINGLE', '750', 'yes', 'ASTARTS', '5', 'yes', '2012-06'],\n",
       " ['US', 'E_TOTAL', '750', 'yes', 'ASTARTS', '6', 'yes', '2012-06'],\n",
       " ['US', 'E_MULTI', '750', 'yes', 'ASTARTS', '15', 'yes', '2012-06'],\n",
       " ['US', 'TOTAL', '750', 'no', 'AUTHNOTSTD', '84.7', 'no', '2012-06'],\n",
       " ['US', 'SINGLE', '750', 'no', 'AUTHNOTSTD', '43.5', 'no', '2012-06'],\n",
       " ['US', 'MULTI', '750', 'no', 'AUTHNOTSTD', '39.8', 'no', '2012-06'],\n",
       " ['US', 'E_TOTAL', '750', 'no', 'AUTHNOTSTD', '5', 'yes', '2012-06'],\n",
       " ['US', 'E_SINGLE', '750', 'no', 'AUTHNOTSTD', '6', 'yes', '2012-06'],\n",
       " ['US', 'E_MULTI', '750', 'no', 'AUTHNOTSTD', '7', 'yes', '2012-06'],\n",
       " ['US', 'SINGLE', '750', 'yes', 'AUTHNOTSTD', '42', 'no', '2012-06'],\n",
       " ['US', 'TOTAL', '750', 'yes', 'AUTHNOTSTD', '81', 'no', '2012-06'],\n",
       " ...]"
      ]
     },
     "execution_count": 7,
     "metadata": {},
     "output_type": "execute_result"
    }
   ],
   "source": [
    "r.json()"
   ]
  }
 ],
 "metadata": {
  "kernelspec": {
   "display_name": "Python 3",
   "language": "python",
   "name": "python3"
  },
  "language_info": {
   "codemirror_mode": {
    "name": "ipython",
    "version": 3
   },
   "file_extension": ".py",
   "mimetype": "text/x-python",
   "name": "python",
   "nbconvert_exporter": "python",
   "pygments_lexer": "ipython3",
   "version": "3.7.4"
  }
 },
 "nbformat": 4,
 "nbformat_minor": 2
}
