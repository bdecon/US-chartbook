{
 "cells": [
  {
   "cell_type": "markdown",
   "metadata": {},
   "source": [
    "# Generate Data for Chartbook\n",
    "\n",
    "Brian Dew\n",
    "\n",
    "@bd_econ"
   ]
  },
  {
   "cell_type": "code",
   "execution_count": 6,
   "metadata": {
    "ExecuteTime": {
     "end_time": "2023-08-01T00:31:22.427487Z",
     "start_time": "2023-08-01T00:31:22.424740Z"
    }
   },
   "outputs": [],
   "source": [
    "import sys\n",
    "sys.path.append('../src')\n",
    "\n",
    "import uschartbook.config\n",
    "\n",
    "from uschartbook.config import *\n",
    "from uschartbook.utils import *"
   ]
  },
  {
   "cell_type": "code",
   "execution_count": 2,
   "metadata": {
    "ExecuteTime": {
     "end_time": "2023-06-07T15:01:57.506074Z",
     "start_time": "2023-06-07T15:01:57.503954Z"
    },
    "code_folding": [],
    "scrolled": true
   },
   "outputs": [],
   "source": [
    "#nipa_series_codes(retrieve_table('T10502'))"
   ]
  },
  {
   "cell_type": "markdown",
   "metadata": {
    "ExecuteTime": {
     "end_time": "2022-09-05T02:11:50.599323Z",
     "start_time": "2022-09-05T02:11:50.596520Z"
    }
   },
   "source": [
    "### GDPNow"
   ]
  },
  {
   "cell_type": "code",
   "execution_count": 7,
   "metadata": {
    "ExecuteTime": {
     "end_time": "2023-08-01T00:31:25.560760Z",
     "start_time": "2023-08-01T00:31:24.573326Z"
    },
    "scrolled": true
   },
   "outputs": [],
   "source": [
    "url = ('https://api.stlouisfed.org/fred/series?series_id=GDPNOW&'+\n",
    "       f'api_key={fred_key}&file_type=json')\n",
    "r = requests.get(url).json()\n",
    "update = r['seriess'][0]['last_updated']\n",
    "url = ('https://api.stlouisfed.org/fred/series/observations?series_id=GDPNOW&'+\n",
    "       f'api_key={fred_key}&file_type=json')\n",
    "r = requests.get(url).json()\n",
    "lv = pd.DataFrame(r['observations']).set_index('date')['value'].sort_index()[-1]\n",
    "lvt = f'{float(lv):.1f}'\n",
    "nowdt = pd.DataFrame(r['observations']).set_index('date')['value'].sort_index().index[-1]\n",
    "ltdt = dtxt(nowdt)['qtr1']\n",
    "\n",
    "s = ['A191RL']\n",
    "gdp = nipa_df(retrieve_table('T10502')['Data'], s).sort_index()\n",
    "gdpdt = gdp.index[-1]"
   ]
  },
  {
   "cell_type": "code",
   "execution_count": 8,
   "metadata": {
    "ExecuteTime": {
     "end_time": "2023-08-01T00:31:25.591396Z",
     "start_time": "2023-08-01T00:31:25.585152Z"
    }
   },
   "outputs": [
    {
     "name": "stdout",
     "output_type": "stream",
     "text": [
      "The latest nowcast for 2023 Q3 is 3.5 percent, as of July 28, 2023 (see \\tikz \\draw[blue!70!green, fill=cyan] (2.5pt,2.5pt) circle (2.5pt);).\n"
     ]
    }
   ],
   "source": [
    "# Only add mark to plot if nowcast is available\n",
    "mark = ' (see \\\\tikz \\draw[blue!70!green, fill=cyan] (2.5pt,2.5pt) circle (2.5pt);)'\n",
    "if dtxt(gdpdt)['datetime'] < nowdt:\n",
    "    linedt = dtxt(pd.to_datetime(nowdt) - pd.DateOffset(days=46))['datetime']\n",
    "    node = (f'\\\\node[label={{[align=left]90:{{\\scriptsize \\\\textit{{{lvt}}}}}}}, '+\n",
    "            'circle, draw=blue!70!green, fill=cyan, inner sep=1.8pt] at '+\n",
    "            f'(axis cs:{nowdt}, {lv}) {{}};'+\n",
    "            f'\\draw [dashed] (axis cs:{{{linedt}}},\\pgfkeysvalueof{{/pgfplots/ymin}})'+\n",
    "            f' -- (axis cs:{{{linedt}}}, \\pgfkeysvalueof{{/pgfplots/ymax}});')\n",
    "    write_txt(text_dir / 'gdpnow_node.txt', node)\n",
    "\n",
    "    node = ('\\\\node[circle, draw=blue!70!green, fill=cyan, inner sep=1.0pt] '+\n",
    "            f'at (axis cs:{nowdt}, {lv}) {{}};')\n",
    "    write_txt(text_dir / 'gdpnow_node2.txt', node)\n",
    "    # Nowcast text\n",
    "    write_txt(text_dir / 'nowcast_text.txt', 'nowcast')\n",
    "    latest_txt = 'latest '\n",
    "\n",
    "else:\n",
    "    node = ''\n",
    "    write_txt(text_dir / 'gdpnow_node.txt', node)\n",
    "    write_txt(text_dir / 'gdpnow_node2.txt', node)\n",
    "    write_txt(text_dir / 'nowcast_text.txt', '\\color{white}{.}')\n",
    "    latest_txt = ''\n",
    "    mark = ''\n",
    "            \n",
    "text = (f'The {latest_txt}nowcast for {ltdt} is {lvt} percent, as '+\n",
    "        f'of {dtxt(pd.to_datetime(update))[\"day1\"]}{mark}.')\n",
    "write_txt(text_dir / 'gdpnow.txt', text)\n",
    "print(text)"
   ]
  },
  {
   "cell_type": "code",
   "execution_count": null,
   "metadata": {},
   "outputs": [],
   "source": []
  },
  {
   "cell_type": "code",
   "execution_count": null,
   "metadata": {},
   "outputs": [],
   "source": []
  },
  {
   "cell_type": "markdown",
   "metadata": {},
   "source": [
    "### GDP components"
   ]
  },
  {
   "cell_type": "code",
   "execution_count": 5,
   "metadata": {
    "ExecuteTime": {
     "end_time": "2023-07-27T12:24:46.900047Z",
     "start_time": "2023-07-27T12:24:46.674024Z"
    }
   },
   "outputs": [
    {
     "name": "stdout",
     "output_type": "stream",
     "text": [
      "Much of the increase in real GDP per capita over the past 30 years comes from consumer spending. Domestic consumer spending (see {\\color{yellow!45!orange}\\textbf{---}}) is equivalent to \\$54,640 per person in 2023 Q2, a price-adjusted increase of \\$24,508 since 1989. Gross private domestic investment (see {\\color{blue!70!black}\\textbf{---}}) is equivalent to \\$13,860 per person in 2023 Q2, and government spending and investment (see {\\color{cyan!60!white}\\textbf{---}}) totals \\$13,982 per person. The trade deficit, equivalent to \\$2,382 per person, is subtracted, to capture only domestic production (see {\\color{green!60!black}\\textbf{---}}).\n"
     ]
    }
   ],
   "source": [
    "pop = nipa_df(retrieve_table('T20100')['Data'], ['B230RC'])['B230RC']\n",
    "\n",
    "srs = {'A191RX': '\\hspace{0.5mm} {\\color{red!95!black}\\\\textbf{---}} Gross Domestic Product', \n",
    "       'DPCERX': '\\hspace{2.5mm} {\\color{yellow!45!orange}\\\\textbf{---}} Consumer Spending', \n",
    "       'A006RX': '\\hspace{2.5mm} {\\color{blue!70!black}\\\\textbf{---}} Gross Private Domestic Investment', \n",
    "       'A822RX': '\\hspace{2.5mm} {\\color{cyan!60!white}\\\\textbf{---}} Government Spending and Investment',\n",
    "       'A019RX': '\\hspace{2.5mm} {\\color{green!60!black}\\\\textbf{---}} Net Exports', \n",
    "       'A020RX': '\\hspace{7.5mm} Exports', 'A021RX': '\\hspace{7.5mm} Less: Imports'}\n",
    "s = [key for key, value in srs.items()]\n",
    "s2 = [i[:-1].replace('A02', 'B02') + 'C' for i in s]\n",
    "df = nipa_df(retrieve_table('T10106')['Data'], s).sort_index()\n",
    "df2 = nipa_df(retrieve_table('T10105')['Data'], s2).sort_index()\n",
    "\n",
    "dfpop = df.div(pop, axis=0)\n",
    "real_vals = df2.rename({i: i.replace('RC', 'RX').replace('B02', 'A02') \n",
    "                        for i in s2}, axis=1).iloc[-1]\n",
    "data = ((dfpop / dfpop.iloc[-1]) * (real_vals / pop.iloc[-1])).loc['1989':]\n",
    "\n",
    "sel_cols = ['DPCERX', 'A006RX', 'A019RX', 'A822RX']\n",
    "\n",
    "data[sel_cols].to_csv(data_dir / 'gdp_pc_comp.csv', index_label='date')\n",
    "\n",
    "pce = f'\\${data.DPCERX.iloc[-1] * 1000:,.0f}'\n",
    "inv = f'\\${data.A006RX.iloc[-1] * 1000:,.0f}'\n",
    "gov = f'\\${data.A822RX.iloc[-1] * 1000:,.0f}'\n",
    "exp = f'\\${abs(data.A019RX.iloc[-1]) * 1000:,.0f}'\n",
    "ltdt = dtxt(data.index[-1])['qtr1']\n",
    "pce_diff = f'\\${(data.DPCERX.iloc[-1] - data.DPCERX.iloc[0]) * 1000:,.0f}'\n",
    "\n",
    "text = ('Much of the increase in real GDP per capita over the past '+\n",
    "        '30 years comes from consumer spending. Domestic consumer '+\n",
    "        'spending (see {\\color{yellow!45!orange}\\\\textbf{---}}) is '+\n",
    "        f'equivalent to {pce} per person in {ltdt}, a price-adjusted '+\n",
    "        f'increase of {pce_diff} since 1989. Gross private domestic '+\n",
    "        'investment (see {\\color{blue!70!black}\\\\textbf{---}}) is '+\n",
    "        f'equivalent to {inv} per person in {ltdt}, and government '+\n",
    "        'spending and investment (see {\\color{cyan!60!white}\\\\textbf{---}}) '+\n",
    "        f'totals {gov} per person. The trade deficit, equivalent to {exp} per '+\n",
    "        'person, is subtracted, to capture only domestic production '+\n",
    "        '(see {\\color{green!60!black}\\\\textbf{---}}).')\n",
    "\n",
    "write_txt(text_dir / 'gdp_pc_comp.txt', text)\n",
    "write_txt(text_dir / 'gdp_ltdt.txt', ltdt)\n",
    "print(text)\n",
    "\n",
    "res = data * 1000\n",
    "lt = res.rename(srs, axis=1).iloc[-1]\n",
    "lt.name = dtxt(lt.name)['qtr1']\n",
    "pr = res.rename(srs, axis=1).loc['2019-10-01']\n",
    "pr.name = dtxt(pr.name)['qtr1']\n",
    "p00 = res.rename(srs, axis=1).loc['2000-01-01']\n",
    "p00.name = dtxt(p00.name)['qtr1']\n",
    "fi = res.rename(srs, axis=1).iloc[0]\n",
    "fi.name = dtxt(fi.name)['qtr1']\n",
    "table = pd.concat([lt, pr, p00, fi], axis=1).applymap('{:,.0f}'.format)\n",
    "table.iloc[0, 0] = f'\\${table.iloc[0, 0]}'\n",
    "table.to_csv(data_dir / 'gdppc_levels.tex', sep='&', \n",
    "             lineterminator='\\\\\\ ', quotechar=' ')"
   ]
  },
  {
   "cell_type": "code",
   "execution_count": null,
   "metadata": {},
   "outputs": [],
   "source": []
  },
  {
   "cell_type": "code",
   "execution_count": null,
   "metadata": {},
   "outputs": [],
   "source": []
  },
  {
   "cell_type": "markdown",
   "metadata": {},
   "source": [
    "### Labor Share"
   ]
  },
  {
   "cell_type": "code",
   "execution_count": 6,
   "metadata": {
    "ExecuteTime": {
     "end_time": "2023-07-27T12:24:51.008997Z",
     "start_time": "2023-07-27T12:24:50.942000Z"
    }
   },
   "outputs": [
    {
     "name": "stdout",
     "output_type": "stream",
     "text": [
      "As of the first quarter of 2023, labor receives 64.7 percent of net domestic income. Labor's share increased 1.2 percentage points over the past year. The labor share is 3.4 percentage points above its 30-year low of 61.3 percent in 2014 Q3, and 3.0 percentage points below the 30-year high of 67.7 percent in 2020 Q2. \n"
     ]
    }
   ],
   "source": [
    "# Compensation of employees divided by gross domestic income less \n",
    "# depreciation (net domestic income, as depreciation is income that\n",
    "# does not go to people)\n",
    "\n",
    "s = ['A261RC', 'A4002C', 'A262RC']\n",
    "\n",
    "df = nipa_df(retrieve_table('T11000')['Data'], s).sort_index()\n",
    "df['Share'] = (df['A4002C'] / (df['A261RC'] - df['A262RC'])) * 100\n",
    "data = df.loc['1989':, 'Share'].dropna()\n",
    "data.to_csv(data_dir / 'laborshare.csv', \n",
    "            index_label='date', \n",
    "            float_format='%g')\n",
    "\n",
    "node = end_node(data, 'blue!60!cyan', date='q')\n",
    "write_txt(text_dir / 'laborshare_node.txt', node)\n",
    "\n",
    "s = series_info(data)\n",
    "ltdate = dtxt(s['date_latest'])['qtr2']\n",
    "one_yr = value_text(s['val_latest'] - s['val_year_ago'], ptype='pp')\n",
    "ltmin = s['val_latest'] - s['val_min']\n",
    "ltmax = s['val_max'] - s['val_latest']\n",
    "text = (f'As of {ltdate}, labor receives {s[\"val_latest\"]:.1f} '+\n",
    "        f\"percent of net domestic income. Labor's share {one_yr} \"+\n",
    "        f'over the past year. The labor share is {ltmin:.1f} '+\n",
    "        f'percentage points above its 30-year low of {s[\"val_min\"]:.1f} '+\n",
    "        f'percent in {s[\"date_min_ft\"]}, and {ltmax:.1f} percentage '+\n",
    "        f'points below the 30-year high of {s[\"val_max\"]:.1f} percent '+\n",
    "        f'in {s[\"date_max_ft\"]}. ')\n",
    "write_txt(text_dir / 'laborshare.txt', text)\n",
    "print(text)"
   ]
  },
  {
   "cell_type": "code",
   "execution_count": null,
   "metadata": {},
   "outputs": [],
   "source": []
  },
  {
   "cell_type": "code",
   "execution_count": null,
   "metadata": {},
   "outputs": [],
   "source": []
  },
  {
   "cell_type": "markdown",
   "metadata": {},
   "source": [
    "### GDP growth rate"
   ]
  },
  {
   "cell_type": "code",
   "execution_count": 7,
   "metadata": {
    "ExecuteTime": {
     "end_time": "2023-07-27T12:25:03.480144Z",
     "start_time": "2023-07-27T12:25:03.415471Z"
    }
   },
   "outputs": [],
   "source": [
    "s = ['A191RL']\n",
    "df = nipa_df(retrieve_table('T10502')['Data'], s).sort_index()\n",
    "df.loc['1989':].to_csv(data_dir / 'gdp.csv', index_label='date')\n",
    "date = dtxt(df.index[-1])['qtr1']\n",
    "\n",
    "txt = f'{date}: {df[\"A191RL\"].iloc[-1]}\\%'\n",
    "write_txt(data_dir / 'gdp.txt', txt)"
   ]
  },
  {
   "cell_type": "code",
   "execution_count": 8,
   "metadata": {
    "ExecuteTime": {
     "end_time": "2023-07-27T12:25:04.149689Z",
     "start_time": "2023-07-27T12:25:04.134554Z"
    }
   },
   "outputs": [],
   "source": [
    "dfa = (nipa_df(retrieve_table('T10101A')['Data'], ['A191RL'])\n",
    "       ['A191RL'])\n",
    "dfa.index = dfa.index + pd.DateOffset(months=6)\n",
    "dfa.to_csv(data_dir / 'gdp_a.csv', index_label='date')"
   ]
  },
  {
   "cell_type": "code",
   "execution_count": 9,
   "metadata": {
    "ExecuteTime": {
     "end_time": "2023-07-27T12:25:04.861197Z",
     "start_time": "2023-07-27T12:25:04.787688Z"
    }
   },
   "outputs": [
    {
     "name": "stdout",
     "output_type": "stream",
     "text": [
      "Real GDP growth \\href{url}{measures} changes in economic activity. As seen in the previous subsection, real GDP has increased steadily over the long-term. Since 1989, growth averaged 2.5 percent per year (see \\cbox{red}). Growth rates were relatively high during the mid- to late-1990s, averaging 3.8 percent from 1993 to 2000.\n",
      "\n",
      "In the 2000s, the housing bubble boosted GDP but then collapsed, leading to average growth of only 1.8 percent from 2001 to 2013. Growth was slightly stronger from 2014 to 2019, averaging 2.4 percent per year.\n",
      "\n",
      "In 2020, COVID-19 caused an economic shutdown, followed by monetary and fiscal stimulus, resulting in large swings in GDP. Real GDP decreased 29.9 percent in Q2, and increased by 35.3 percent in Q3, by far the largest changes in recent history. Since 2020, economic growth averaged 2.5 percent.\n",
      "\n",
      " The bottom-left chart shows annual growth, to make trends more visible. The bottom-right chart shows the most-recent four quarters and the estimate for the current quarter. In the \\textbf{latest data}, covering the second quarter of 2023, real GDP increased at an annual rate of 2.4 percent, compared to an increase of two percent in Q1, and an increase of 2.6 percent in 2022 Q4.\n"
     ]
    }
   ],
   "source": [
    "df = nipa_df(retrieve_table('T10502')['Data'],\n",
    "             ['A191RL'])['A191RL']\n",
    "# Dates for latest quarters chart\n",
    "a = (df.iloc[-4:].to_frame()\n",
    "   .join(pd.Series({i: dtxt(i)['qtr4'].replace(' Q', '\\\\\\Q')\n",
    "                    for i in df.index[-4:]}, \n",
    "                   name='Quarter')))\n",
    "next_qtr = a.index[-1] + pd.DateOffset(months=3)\n",
    "dtxt(next_qtr)['qtr4'].replace(' Q', '\\\\\\Q')\n",
    "frow = pd.DataFrame({'Quarter': dtxt(next_qtr)['qtr4'].replace(' Q', '\\\\\\Q'), \n",
    "                     'index': next_qtr}, index={'index': 4})\n",
    "# From GDP Now (cover cases where no nowcast available)\n",
    "if dtxt(gdpdt)['datetime'] < nowdt:\n",
    "    a = pd.concat([a.reset_index(), frow]).set_index('index')\n",
    "    a.loc[next_qtr, 'A191RL'] = 0\n",
    "a['zero'] = 0\n",
    "a.to_csv(data_dir/'gdp_rec.csv', index_label='date')\n",
    "# Text\n",
    "lty = df.index[-1].year\n",
    "ltdt = dtxt(df.index[-1])['qtr2']\n",
    "ltdt2 = dtxt(df.index[-1])['qtr1']\n",
    "pry = df.index[-2].year\n",
    "pr2y = df.index[-3].year\n",
    "prdt = dtxt(df.index[-2])\n",
    "prdt = prdt['qtr3'] if lty == pry else prdt['qtr1']\n",
    "pr2dt = dtxt(df.index[-3])\n",
    "pr2dt = pr2dt['qtr3'] if lty == pr2y else pr2dt['qtr1']\n",
    "gtot = df.loc['1989':].mean()\n",
    "g9300 = df.loc['1993':'2000'].mean()\n",
    "g0013 = df.loc['2001':'2013'].mean()\n",
    "g1419 = df.loc['2014':'2019'].mean()\n",
    "g20on = df.loc['2020':].mean()\n",
    "cov1 = value_text(df.loc['2020-04-01'])\n",
    "cov2 = value_text(df.loc['2020-07-01'], 'increase_by')\n",
    "ltval = value_text(df.iloc[-1], adj='annual')\n",
    "prval = value_text(df.iloc[-2], 'increase_of')\n",
    "prval2 = value_text(df.iloc[-3], 'increase_of')\n",
    "\n",
    "color='red'\n",
    "url = 'https://www.bea.gov/data/gdp/gross-domestic-product'\n",
    "text = ('Real GDP growth \\href{url}{measures} changes in '+\n",
    "        'economic activity. As seen in the previous subsection, '+\n",
    "        'real GDP has increased steadily over the long-term. '+\n",
    "        'Since 1989, growth averaged '+\n",
    "        f'{gtot:.1f} percent per year {c_box(color)}. '+\n",
    "        'Growth rates were relatively high during the mid- '+\n",
    "        f'to late-1990s, averaging {g9300:.1f} percent '+\n",
    "        'from 1993 to 2000.\\n\\nIn the 2000s, the housing '+\n",
    "        'bubble boosted GDP but then collapsed, '+\n",
    "        f'leading to average growth of only {g0013:.1f} '+\n",
    "        'percent from 2001 to 2013. Growth was slightly '+\n",
    "        f'stronger from 2014 to 2019, averaging {g1419:.1f} '+\n",
    "        'percent per year.\\n\\nIn 2020, COVID-19 caused '+\n",
    "        'an economic shutdown, followed by monetary '+\n",
    "        'and fiscal stimulus, resulting in large swings in '+\n",
    "        f'GDP. Real GDP {cov1} in Q2, and {cov2} in Q3, by '+\n",
    "        'far the largest changes in recent history. Since 2020, '+\n",
    "        f'economic growth averaged {g20on:.1f} '+\n",
    "        'percent.')\n",
    "write_txt(text_dir / 'gdp_gr.txt', text)\n",
    "print(text)\n",
    "\n",
    "txt2 = ('The bottom-left chart shows annual growth, to make '+\n",
    "        'trends more visible. The bottom-right chart shows '+\n",
    "        'the most-recent four quarters and the estimate for the '+\n",
    "        'current quarter. In the \\\\textbf{latest data}, '+\n",
    "        f'covering {ltdt}, real GDP {ltval}, compared to {prval} '+\n",
    "        f'in {prdt}, and {prval2} in {pr2dt}.')\n",
    "write_txt(text_dir / 'gdp_gr2.txt', txt2)\n",
    "print('\\n', txt2)"
   ]
  },
  {
   "cell_type": "code",
   "execution_count": null,
   "metadata": {},
   "outputs": [],
   "source": []
  },
  {
   "cell_type": "code",
   "execution_count": null,
   "metadata": {},
   "outputs": [],
   "source": []
  },
  {
   "cell_type": "markdown",
   "metadata": {
    "ExecuteTime": {
     "end_time": "2022-03-03T13:07:16.875163Z",
     "start_time": "2022-03-03T13:07:16.870308Z"
    }
   },
   "source": [
    "### Recessions Table"
   ]
  },
  {
   "cell_type": "code",
   "execution_count": 10,
   "metadata": {
    "ExecuteTime": {
     "end_time": "2023-07-27T12:25:08.811812Z",
     "start_time": "2023-07-27T12:25:08.135892Z"
    }
   },
   "outputs": [],
   "source": [
    "rec = fred_df('USREC')\n",
    "rec.to_csv(data_dir / 'recessions_raw.csv', index_label='date')"
   ]
  },
  {
   "cell_type": "code",
   "execution_count": 11,
   "metadata": {
    "ExecuteTime": {
     "end_time": "2023-07-27T12:25:08.928902Z",
     "start_time": "2023-07-27T12:25:08.826503Z"
    }
   },
   "outputs": [
    {
     "name": "stdout",
     "output_type": "stream",
     "text": [
      "During the early 1990s recession, output contracted for eight months and unemployment was higher than its pre-recession average for 63 months. The drop in output was smaller during the early 2000s recession, but unemployment rates took almost 16 years to recover.\n",
      "\n",
      "The 2008--2009 great recession, caused by the collapse of a housing bubble, was very severe. The recession lasted 18 months, with higher rates of unemployment lasting 89 months. The most-recent COVID-19 recession was extremely severe and also extremely short-lived, lasting only two months, but with output reduced 9.6 percent.\n"
     ]
    }
   ],
   "source": [
    "rec = pd.read_csv(data_dir / 'recessions_raw.csv', \n",
    "                  index_col='date', parse_dates=True)\n",
    "first = rec[(rec.VALUE==1) & (rec.VALUE.shift(1) == 0)]\n",
    "post = rec[(rec.VALUE==0) & (rec.VALUE.shift(1) == 1)]\n",
    "names = [' \\ Early `90s Recession', ' \\ Early `00s Recession', \n",
    "         ' \\ Great Recession', ' \\ COVID-19 Recession']\n",
    "recs = (pd.Series(data=first.index, index=names)\n",
    "        .rename('First').to_frame())\n",
    "recs['Last'] = rec[(rec.VALUE==1) & (rec.VALUE.shift(-1) == 0)].index\n",
    "recs['Pre'] = rec[(rec.VALUE==0) & (rec.VALUE.shift(-1) == 1)].index\n",
    "recs['Post'] = post.index\n",
    "dur = [i.n for i in (post.index.to_period('M') - \n",
    "                     first.index.to_period('M'))]\n",
    "recs['Dur'] = pd.Series(data=dur, index=recs.index)\n",
    "recs['PrevEnd'] = recs['Post'].shift(1)\n",
    "recs.loc[' \\ Early `90s Recession', 'PrevEnd'] = pd.to_datetime('1989-01-01')\n",
    "recs['NextStart'] = recs['Pre'].shift(-1)\n",
    "recs.loc[' \\ COVID-19 Recession', 'NextStart'] = cps_date()\n",
    "recs['Start'] = recs.First.apply(lambda x: dtxt(x)['mon2'])\n",
    "recs['End'] = recs.Last.apply(lambda x: dtxt(x)['mon2'])\n",
    "rgdp = nipa_df(retrieve_table('T10106')['Data'], ['A191RX'])['A191RX']\n",
    "unrate = pd.read_csv(data_dir / 'jobs_report_main.csv', index_col='date', \n",
    "                 parse_dates=True)['Total']\n",
    "for row in recs.itertuples():\n",
    "    # Real GDP change\n",
    "    vprev = rgdp.loc[:row.Pre].max()\n",
    "    vmin = rgdp.loc[row.First:row.NextStart].min()\n",
    "    ch = ((vmin / vprev) - 1) * 100\n",
    "    recs.loc[row.Index, 'GDPch'] = ch\n",
    "    # Unemployment rate change and duration\n",
    "    pravg = unrate.loc[row.Pre - pd.DateOffset(years=3): row.Pre].mean()\n",
    "    vmax = unrate.loc[row.First:row.NextStart].max()\n",
    "    uch = vmax - pravg\n",
    "    rdt = (unrate.loc[row.Last:].loc[(unrate <= pravg)].index[0] \n",
    "           if pravg >= unrate.iloc[-1] else '--')\n",
    "    rtime = (int((rdt.to_period('M') - row.Last.to_period('M')).n) \n",
    "             if rdt != '--' else '--')\n",
    "    recs.loc[row.Index, 'Unratech'] = uch    \n",
    "    recs.loc[row.Index, 'RecoDate'] = rdt\n",
    "    recs.loc[row.Index, 'RecoTime'] = str(rtime)\n",
    "recs['GDPcht'] =  recs.GDPch.apply('{:.1f}'.format)\n",
    "recs['Uncht'] =  recs.Unratech.apply('+{:.1f}'.format)\n",
    "tbl = recs[['Start', 'End', 'Dur', 'GDPcht', 'Uncht', 'RecoTime']]\n",
    "tbl.columns = ['Start \\ \\ \\ Month', 'End \\ \\ \\ \\ \\ \\ Month', \n",
    "               'Recession Duration, Months', \n",
    "               'GDP Percent Change', 'Unemp. Rate Change*', \n",
    "               'Unemp. Rate Recovery, Months**']\n",
    "tbl.to_csv(data_dir / 'recession.tex', sep='&', \n",
    "           lineterminator='\\\\\\ ', quotechar=' ')\n",
    "\n",
    "un3 = unrate.rolling(3).mean()\n",
    "sahm = (un3 - un3.rolling(12).min()).dropna()\n",
    "sahm.to_csv(data_dir / 'sahm.csv', index_label='date', \n",
    "            header=True)\n",
    "bar = pd.Series(index=[sahm.index[0], sahm.index[-1]], \n",
    "                data=[0.5, 0.5], name='Bar')\n",
    "bar.to_csv(data_dir / 'sahm_bar.csv', index_label='date', \n",
    "           header=True)\n",
    "node = end_node(bar, 'gray', loc='start')\n",
    "write_txt(text_dir / 'sahm_bar_node.txt', node)\n",
    "marks = (sahm.loc[(sahm > 0.5) & (sahm.shift(1) < 0.5)]\n",
    "             .rename('Mark').to_frame())\n",
    "marks['Intersect'] = len(marks) * [0.5]\n",
    "marks.to_csv(data_dir / 'sahm_marks.csv', index_label='date')\n",
    "\n",
    "dur90 = numbers[f'{recs.Dur.iloc[0]:.1f}']\n",
    "unrec90 = recs.RecoTime.iloc[0]\n",
    "unrec00 = round(int(recs.RecoTime.iloc[1]) / 12)\n",
    "durgr = recs.Dur.iloc[2]\n",
    "unrecgr = recs.RecoTime.iloc[2]\n",
    "durco = numbers[f'{recs.Dur.iloc[3]:.1f}']\n",
    "gdpco = abs(recs.GDPch.iloc[3])\n",
    "\n",
    "text = ('During the early 1990s recession, output contracted '+\n",
    "        f'for {dur90} months and unemployment was higher '+\n",
    "        f'than its pre-recession average for {unrec90} months. '+\n",
    "        'The drop in output was smaller during the '+\n",
    "        'early 2000s recession, but unemployment rates '+\n",
    "        f'took almost {unrec00} years to recover.\\n\\n'+\n",
    "        'The 2008--2009 great recession, caused by the '+\n",
    "        'collapse of a housing bubble, was very severe. '+\n",
    "        f'The recession lasted {durgr} months, with higher '+\n",
    "        f'rates of unemployment lasting {unrecgr} months. The '+\n",
    "        'most-recent COVID-19 recession was extremely severe '+\n",
    "        f'and also extremely short-lived, lasting only {durco} '+\n",
    "        f'months, but with output reduced {gdpco:.1f} percent.')\n",
    "write_txt(text_dir / 'recessions.txt', text)\n",
    "print(text)"
   ]
  },
  {
   "cell_type": "code",
   "execution_count": null,
   "metadata": {},
   "outputs": [],
   "source": []
  },
  {
   "cell_type": "code",
   "execution_count": null,
   "metadata": {},
   "outputs": [],
   "source": []
  },
  {
   "cell_type": "markdown",
   "metadata": {},
   "source": [
    "### GDP Intro Chart and Text"
   ]
  },
  {
   "cell_type": "code",
   "execution_count": 12,
   "metadata": {
    "ExecuteTime": {
     "end_time": "2023-07-27T12:25:11.360423Z",
     "start_time": "2023-07-27T12:25:11.238777Z"
    }
   },
   "outputs": [
    {
     "name": "stdout",
     "output_type": "stream",
     "text": [
      "\\$26,834 billion in the second quarter of 2023, compared to an inflation-adjusted equivalent of \\$25,272 billion in 2019 Q4, and \\$11,482 billion in the first quarter of 1989.\n",
      "\n",
      "The US population is growing by about five-tenths of a percent per year. GDP per capita (see {\\color{red!95!black}\\textbf{---}}), adjusted for inflation to 2023 Q2 dollars, had increased to \\$76,303 in 2019 Q4 from \\$47,019 in 1989 Q1, and is currently \\$80,100, as of the second quarter of 2023.\n"
     ]
    }
   ],
   "source": [
    "df = nipa_df(retrieve_table('T70100')['Data'], ['A939RC', 'A939RX'])\n",
    "df['value'] = (df['A939RX'] / df['A939RX'].iloc[-1]) * df['A939RC'].iloc[-1]\n",
    "df.loc['1989':, 'value'].divide(1000).to_csv(data_dir / 'gdppc.csv', \n",
    "                                             index_label='date')\n",
    "cd = nipa_df(retrieve_table('T10105')['Data'], ['A191RC'])['A191RC'].iloc[-1]\n",
    "rgdp = nipa_df(retrieve_table('T10106')['Data'], ['A191RX'])\n",
    "rgdp_cd = rgdp / rgdp.iloc[-1] * cd\n",
    "\n",
    "ltdate = dtxt(df.index[-1])['qtr2']\n",
    "gdp_val = int(rgdp_cd.iloc[-1].values[0] / 1000)\n",
    "gdp_prv_val = int(rgdp_cd.loc['2019-10-01'] / 1000)\n",
    "gdp_prv_val2 = int(rgdp_cd.iloc[0].values[0] / 1000)\n",
    "gdppc_val = int(df.iloc[-1].loc['value'])\n",
    "gdppc_prv_val = int(df.loc['2019-10-01', 'value'])\n",
    "gdppc_prv_val2 = int(df.iloc[0].loc['value'])\n",
    "qdate = dtxt(df.index[-1])['qtr1']\n",
    "pop = nipa_df(retrieve_table('T20100')['Data'], ['B230RC'])['B230RC']\n",
    "num = numbers[f'{(pop.pct_change(4).iloc[-1] * 1000).round()}']\n",
    "popnum = f'{num}-tenths'\n",
    "color = 'red!95!black'\n",
    "cl = c_line(color)\n",
    "node = end_node(df['value'] / 1000, color, anchor='south', \n",
    "                dollar='thousands')\n",
    "write_txt(text_dir / 'gdp_pc_node.txt', node)\n",
    "text = (f'\\${gdp_val:,} billion in {ltdate}, compared to an '+\n",
    "        f'inflation-adjusted equivalent of \\${gdp_prv_val:,} '+\n",
    "        f'billion in 2019 Q4, and \\${gdp_prv_val2:,} billion in '+\n",
    "        'the first quarter of 1989.\\n\\nThe US population is growing '+\n",
    "        f'by about {popnum} of a percent per year. GDP per capita '+\n",
    "        f'{cl}, adjusted for inflation to {qdate} dollars, had '+\n",
    "        f'increased to \\${gdppc_prv_val:,} in 2019 Q4 from '+\n",
    "        f'\\${gdppc_prv_val2:,} in 1989 Q1, and is currently '+\n",
    "        f'\\${gdppc_val:,}, as of {ltdate}.')\n",
    "write_txt(text_dir / 'gdp1.txt', text)\n",
    "print(text)"
   ]
  },
  {
   "cell_type": "code",
   "execution_count": null,
   "metadata": {},
   "outputs": [],
   "source": []
  },
  {
   "cell_type": "code",
   "execution_count": null,
   "metadata": {},
   "outputs": [],
   "source": []
  },
  {
   "cell_type": "markdown",
   "metadata": {},
   "source": [
    "### Private fixed investment"
   ]
  },
  {
   "cell_type": "code",
   "execution_count": 13,
   "metadata": {
    "ExecuteTime": {
     "end_time": "2023-07-27T12:25:13.927706Z",
     "start_time": "2023-07-27T12:25:13.774027Z"
    }
   },
   "outputs": [
    {
     "name": "stdout",
     "output_type": "stream",
     "text": [
      "In the second quarter of 2023, private fixed investment, which does not include inventory investment, totals \\$4.6 trillion, equivalent to 17.2 percent of GDP. Non-residential (business) fixed investment totals \\$3.6 trillion, or 13.5 percent of GDP, while residential fixed investment totals \\$1.0 trillion (3.8 percent of GDP).\n",
      "\n",
      "During the quarter, private fixed investment contributed 0.83 percentage point to real GDP growth. Non-residential fixed investment contributed 0.99 percentage point, while residential fixed investment subtracted 0.16 percentage point. Prinvate inventories increased by \\$22.7 billion in Q2. The change in private inventories contributed 0.14 percentage point to GDP growth in Q2\n"
     ]
    }
   ],
   "source": [
    "# In levels and share of GDP\n",
    "s = ['A191RC', 'A007RC', 'A008RC', 'A011RC', 'A014RC']\n",
    "df = nipa_df(retrieve_table('T10105')['Data'], s) / 1_000_000\n",
    "lt = df.iloc[-1]\n",
    "sh = lt / lt.A191RC * 100\n",
    "ldate = dtxt(df.index[-1])['qtr2']\n",
    "\n",
    "# contribution to growth\n",
    "s2 = ['A008RY', 'A011RY', 'A014RY']\n",
    "df2 = nipa_df(retrieve_table('T10502')['Data'], s2)\n",
    "df2.loc['1989':].to_csv(data_dir / 'inv.csv', index_label='date')\n",
    "lt2 = df2.iloc[-1]\n",
    "\n",
    "pfi = lt2[['A008RY', 'A011RY']].sum()\n",
    "tot = value_text(pfi, 'contribution_to', ptype='pp', \n",
    "                 digits=2, threshold=0.01)\n",
    "txt = lambda x: value_text(x, 'contribution', ptype='pp', \n",
    "                           digits=2, threshold=0.01)\n",
    "dft = lt2.apply(txt)\n",
    "\n",
    "cipi = value_text(df['A014RC'].iloc[-1] * 1000, style='increase_by', \n",
    "                  ptype='billion', dollar=True)\n",
    "dtq = dtxt(df.index[-1])['qtr3']\n",
    "cipi2 = value_text(lt2['A014RY'], 'contribution_to', ptype='pp', \n",
    "                           digits=2, threshold=0.01)\n",
    "\n",
    "text = (f'In {ldate}, private fixed investment, which does not '+\n",
    "        f'include inventory investment, totals \\${lt.A007RC:.1f} '+\n",
    "        f'trillion, equivalent to {sh.A007RC:.1f} percent of '+\n",
    "        f'GDP. Non-residential (business) fixed investment '+\n",
    "        f'totals \\${lt.A008RC:.1f} trillion, or {sh.A008RC:.1f} '+\n",
    "        f'percent of GDP, while residential fixed investment '+\n",
    "        f'totals \\${lt.A011RC:,.1f} trillion ({sh.A011RC:.1f} '+\n",
    "        'percent of GDP).\\n\\nDuring the quarter, private fixed '+\n",
    "        f'investment {tot} real GDP growth. Non-residential fixed '+\n",
    "        f'investment {dft.A008RY}, while residential fixed '+\n",
    "        f'investment {dft.A011RY}. Prinvate inventories {cipi} '+\n",
    "        f'in {dtq}. The change in private inventories {cipi2} '+\n",
    "        f'GDP growth in {dtq}')\n",
    "write_txt(text_dir / 'inv_text.txt', text)\n",
    "print(text)"
   ]
  },
  {
   "cell_type": "code",
   "execution_count": null,
   "metadata": {},
   "outputs": [],
   "source": []
  },
  {
   "cell_type": "code",
   "execution_count": null,
   "metadata": {},
   "outputs": [],
   "source": []
  },
  {
   "cell_type": "markdown",
   "metadata": {},
   "source": [
    "### Imports and Exports"
   ]
  },
  {
   "cell_type": "code",
   "execution_count": 14,
   "metadata": {
    "ExecuteTime": {
     "end_time": "2023-07-27T12:25:15.728779Z",
     "start_time": "2023-07-27T12:25:15.622798Z"
    }
   },
   "outputs": [],
   "source": [
    "# Import and Export share of GDP\n",
    "s = ['B020RC', 'B021RC', 'B648RC', 'LA000006']\n",
    "s2 = ['A191RC']\n",
    "df = nipa_df(retrieve_table('T40205')['Data'], s)\n",
    "df['A191RC'] = nipa_df(retrieve_table('T10105')['Data'], s2)\n",
    "df['EX'] = df['B020RC'] - df['LA000006']\n",
    "df['IM'] = df['B021RC'] - df['B648RC']\n",
    "data = (df.div(df['A191RC'], axis=0) * 100).loc['1989':]\n",
    "data.to_csv(data_dir / 'eximgdp.csv', index_label='date')"
   ]
  },
  {
   "cell_type": "code",
   "execution_count": 15,
   "metadata": {
    "ExecuteTime": {
     "end_time": "2023-07-27T12:25:16.328746Z",
     "start_time": "2023-07-27T12:25:16.322328Z"
    }
   },
   "outputs": [
    {
     "name": "stdout",
     "output_type": "stream",
     "text": [
      "Nonpetroleum goods and services imports (see {\\color{blue!90!cyan}\\textbf{---}}) were equivalent to 13.1 percent of GDP in the the second quarter of 2023, while exports of nonpetroleum goods and services (see {\\color{green!60!teal!80!black}\\textbf{---}}) were equivalent to 9.9 percent of GDP. In 2019 Q4, nonpetroleum imports were 13.1 percent of GDP, and exports were 10.7 percent.\n"
     ]
    }
   ],
   "source": [
    "excol = 'green!60!teal!80!black'\n",
    "imcol = 'blue!90!cyan'\n",
    "\n",
    "node = end_node(data.IM, imcol, date='q',\n",
    "                percent=True, offset=-0.1, full_year=True)\n",
    "write_txt(text_dir / 'np_im_node.txt', node)\n",
    "node = end_node(data.EX, excol, percent=True)\n",
    "write_txt(text_dir / 'np_ex_node.txt', node)\n",
    "\n",
    "date = dtxt(data.index[-1])['qtr2']\n",
    "pc_dt = '2019-10-01'\n",
    "pc_date = dtxt(pd.to_datetime(pc_dt))['qtr1']\n",
    "text = ('Nonpetroleum goods and services imports '+\n",
    "        f'{c_line(imcol)} were equivalent to '+\n",
    "        f'{data.IM.iloc[-1]:.1f} percent of GDP '+\n",
    "        f'in the {date}, while exports of nonpetroleum '+\n",
    "        f'goods and services {c_line(excol)} were '+\n",
    "        f'equivalent to {data.EX.iloc[-1]:.1f} percent '+\n",
    "        f'of GDP. In {pc_date}, nonpetroleum imports '+\n",
    "        f'were {data.IM.loc[pc_dt]:.1f} percent of GDP, '+\n",
    "        f'and exports were {data.EX.loc[pc_dt]:.1f} percent.')\n",
    "write_txt(text_dir / 'exim.txt', text)\n",
    "print(text)"
   ]
  },
  {
   "cell_type": "code",
   "execution_count": null,
   "metadata": {},
   "outputs": [],
   "source": []
  },
  {
   "cell_type": "code",
   "execution_count": null,
   "metadata": {},
   "outputs": [],
   "source": []
  },
  {
   "cell_type": "markdown",
   "metadata": {},
   "source": [
    "### Goods Import Penetration"
   ]
  },
  {
   "cell_type": "code",
   "execution_count": 16,
   "metadata": {
    "ExecuteTime": {
     "end_time": "2023-07-27T12:25:18.837554Z",
     "start_time": "2023-07-27T12:25:18.648415Z"
    }
   },
   "outputs": [
    {
     "name": "stdout",
     "output_type": "stream",
     "text": [
      "As of 2023 Q2, imports of consumer goods excluding petroleum and petroleum products are equivalent to 14.8 percent of domestic consumption of goods (see\\cbox{cyan!40!white}). Petroleum-related imports claim 2.4 percent (see\\cbox{purple}) and imports of all other goods, primarily capital goods, industrial supplies, and materials, are equivalent to 14.9 percent (see\\cbox{blue!50!cyan}). \n",
      "\n",
      "From 1989 to 2011, imports of consumer goods excluding petroleum increased by the equivalent of 5.7 percent of domestic consumption of goods; petroleum-related imports increased by the equivalent of 6.3 percent; and all other goods imports increased by the equivalent of 6.2 percent. \n",
      "\n",
      "Since 2011, imports of consumer goods decreased by the equivalent of 1.6 percent of domestic goods demand; imports of petroleum products decreased by the equivalent of six percent; and other imports decreased by the equivalent of 1.2 percent.\n"
     ]
    }
   ],
   "source": [
    "s = ['A353RC']\n",
    "\n",
    "G = nipa_df(retrieve_table('T10205')['Data'], s).sort_index()\n",
    "\n",
    "s = ['A253RC', 'A255RC', 'B647RC', 'LA000004', 'A650RC', \n",
    "     'B651RC', 'A652RC', 'A653RC', 'B648RC']\n",
    "\n",
    "MX = nipa_df(retrieve_table('T40205')['Data'], s).sort_index()\n",
    "\n",
    "D = G['A353RC'] - MX['A253RC'] + MX['A255RC']\n",
    "result = (MX['A255RC'] / D)\n",
    "\n",
    "import_categories = ['B647RC', 'LA000004', 'A650RC', 'B651RC', \n",
    "                     'A652RC', 'A653RC', 'B648RC']\n",
    "Msh = MX[import_categories].div(MX['A255RC'], axis=0)\n",
    "\n",
    "Msh['Consumer'] = Msh['B647RC'] + Msh['A652RC'] + Msh['B651RC']\n",
    "Msh['Capital'] = Msh['LA000004'] - Msh['B648RC'] + Msh['A650RC'] + Msh['A653RC']\n",
    "\n",
    "final = Msh[['Consumer', 'Capital', 'B648RC']].multiply(result, axis=0) * 100\n",
    "\n",
    "final.loc['1989':].to_csv(data_dir / 'goodsimpsh.csv', index_label='date')\n",
    "\n",
    "ltdate = final.index[-1]\n",
    "ltdt = dtxt(ltdate)['qtr1']\n",
    "cons, capi = [value_text(final[i].iloc[-1], style='eq') \n",
    "              for i in ['Consumer', 'Capital']]\n",
    "oil = final['B648RC'].iloc[-1]\n",
    "text = (f'As of {ltdt}, imports of consumer goods excluding petroleum '+\n",
    "        f'and petroleum products are {cons} of domestic consumption of '+\n",
    "        'goods (see\\cbox{cyan!40!white}). Petroleum-related imports claim '+\n",
    "        f'{oil:.1f} percent (see\\cbox{{purple}}) and imports of all other '+\n",
    "        f'goods, primarily capital goods, industrial supplies, and materials, '+\n",
    "        f'are {capi} (see\\cbox{{blue!50!cyan}}).')\n",
    "write_txt(text_dir / 'goodsimpsh1.txt', text)\n",
    "print(text, '\\n')\n",
    "\n",
    "ch11 = (final.loc['2011-01-01'] - final.iloc[0])\n",
    "cons11, pet11, oth11 = [value_text(ch11[i], adj='equivalent', threshold=0.1) \n",
    "                        for i in ['Consumer', 'B648RC', 'Capital']]\n",
    "chlt = (final.iloc[-1] - final.loc['2011-01-01'])\n",
    "conslt, petlt, othlt = [value_text(chlt[i], adj='equivalent', threshold=0.1) \n",
    "                        for i in ['Consumer', 'B648RC', 'Capital']]\n",
    "text = ('From 1989 to 2011, imports of consumer goods excluding '+\n",
    "        f'petroleum {cons11} of domestic consumption of goods; petroleum-'+\n",
    "        f'related imports {pet11}; and all other goods imports {oth11}. \\n\\n'+\n",
    "        f'Since 2011, imports of consumer goods {conslt} of domestic goods '+\n",
    "        f'demand; imports of petroleum products {petlt}; and other '+\n",
    "        f'imports {othlt}.')\n",
    "write_txt(text_dir / 'goodsimpsh.txt', text)\n",
    "print(text)"
   ]
  },
  {
   "cell_type": "code",
   "execution_count": null,
   "metadata": {},
   "outputs": [],
   "source": []
  },
  {
   "cell_type": "code",
   "execution_count": null,
   "metadata": {},
   "outputs": [],
   "source": []
  },
  {
   "cell_type": "markdown",
   "metadata": {},
   "source": [
    "### ITA - Financial Account Balance"
   ]
  },
  {
   "cell_type": "code",
   "execution_count": 17,
   "metadata": {
    "ExecuteTime": {
     "end_time": "2023-07-27T12:25:28.996422Z",
     "start_time": "2023-07-27T12:25:21.070436Z"
    }
   },
   "outputs": [
    {
     "name": "stdout",
     "output_type": "stream",
     "text": [
      "Over the year ending 2023 Q1, net domestic acquisitions of foreign assets were equivalent to 1.4 percent of GDP, while net domestic incurrence of foreign liabilities was equivalent to 4.4 percent of GDP. As a result, domestic net borrowing totals 2.8 percent of GDP over the one-year period.\n"
     ]
    }
   ],
   "source": [
    "ind_list = ['FinAssetsExclFinDeriv', 'FinLiabsExclFinDeriv', \n",
    "            'FinDeriv', 'StatDisc']\n",
    "\n",
    "api_results = bea_api_ita(ind_list, bea_key)\n",
    "\n",
    "gdp = nipa_df(retrieve_table('T10105')['Data'], ['A191RC'])['A191RC']\n",
    "\n",
    "df = pd.DataFrame(\n",
    "    {name: {i['TimePeriod']: i['DataValue'] \n",
    "            for i in json.loads(series)['BEAAPI']['Results']['Data']} \n",
    "     for name, series in api_results})\n",
    "df.index = pd.to_datetime(df.index)\n",
    "df = (df.replace(r'^\\s*$', np.nan, regex=True)\n",
    "        .astype('float').rolling(4).sum())\n",
    "df['FAB'] = df['FinLiabsExclFinDeriv'] - df['FinAssetsExclFinDeriv']\n",
    "df['TOT'] = df[['FAB', 'StatDisc', 'FinDeriv']].sum(axis=1)\n",
    "final = (df.divide(gdp, axis=0).dropna(how='all') * 100).fillna(0)\n",
    "keep_cols = ['FinDeriv', 'StatDisc', 'FAB', 'TOT']\n",
    "final.loc['1989':, keep_cols].to_csv(data_dir/'fab.csv', index_label='date')\n",
    "\n",
    "s = final.iloc[-1]\n",
    "liab = value_text(s.FinLiabsExclFinDeriv, style='eq', adj='GDP')\n",
    "assets = value_text(s.FinAssetsExclFinDeriv, style='eq', adj='GDP')\n",
    "ldate = dtxt(final.index[-1])['qtr1']\n",
    "text = (f'Over the year ending {ldate}, net domestic acquisitions of '+\n",
    "        f'foreign assets were {assets}, while net domestic incurrence '+\n",
    "        f'of foreign liabilities was {liab}. As a result, domestic '+\n",
    "        f'net borrowing totals {s.TOT:.1f} percent of GDP over the '+\n",
    "         'one-year period.')\n",
    "write_txt(text_dir / 'fab.txt', text)\n",
    "print(text)"
   ]
  },
  {
   "cell_type": "code",
   "execution_count": null,
   "metadata": {},
   "outputs": [],
   "source": []
  },
  {
   "cell_type": "code",
   "execution_count": null,
   "metadata": {},
   "outputs": [],
   "source": []
  },
  {
   "cell_type": "markdown",
   "metadata": {},
   "source": [
    "### GDP Composition"
   ]
  },
  {
   "cell_type": "code",
   "execution_count": 18,
   "metadata": {
    "ExecuteTime": {
     "end_time": "2023-07-27T12:25:29.078141Z",
     "start_time": "2023-07-27T12:25:28.998456Z"
    }
   },
   "outputs": [
    {
     "name": "stdout",
     "output_type": "stream",
     "text": [
      "In the second quarter of 2023, consumer spending (see\\cbox{yellow!80!orange}) contributed 1.12 percentage points to overall real GDP growth. Private domestic investment (see\\cbox{blue!70!black}) contributed 0.97 percentage point to real GDP growth, government spending and investment (see\\cbox{cyan!50!white}) contributed 0.45 percentage point, and net exports (see\\cbox{green!60!black}) subtracted 0.12 percentage point.\n"
     ]
    }
   ],
   "source": [
    "s = ['DPCERY', 'A006RY', 'A822RY', 'A019RY']\n",
    "df = nipa_df(retrieve_table('T10502')['Data'], s).loc['1989':]\n",
    "df.to_csv(data_dir / 'comp.csv', index_label='date')\n",
    "\n",
    "ltdt = dtxt(df.index[-1])['qtr2']\n",
    "sl = [('DPCERY', 'contribution_to'), ('A006RY', 'contribution_to'), \n",
    "      ('A822RY', 'contribution'), ('A019RY', 'contribution')]\n",
    "d = {s: value_text(df[s].iloc[-1], style=style, ptype='pp', \n",
    "                   digits=2, threshold=0.1) for s, style in sl}\n",
    "text = (f'In {ltdt}, consumer spending (see\\cbox{{yellow!80!orange}}) '+\n",
    "        f'{d[\"DPCERY\"]} overall real GDP growth. Private domestic '+\n",
    "        f'investment (see\\cbox{{blue!70!black}}) {d[\"A006RY\"]} real GDP '+\n",
    "        'growth, government spending and investment (see\\cbox{cyan!50!white}) '+\n",
    "        f'{d[\"A822RY\"]}, and net exports (see\\cbox{{green!60!black}}) '+\n",
    "        f'{d[\"A019RY\"]}.')  \n",
    "write_txt(text_dir / 'gdp_exp_basic.txt', text)\n",
    "print(text)"
   ]
  },
  {
   "cell_type": "code",
   "execution_count": null,
   "metadata": {},
   "outputs": [],
   "source": []
  },
  {
   "cell_type": "code",
   "execution_count": null,
   "metadata": {},
   "outputs": [],
   "source": []
  },
  {
   "cell_type": "markdown",
   "metadata": {},
   "source": [
    "### Gross Domestic Income"
   ]
  },
  {
   "cell_type": "code",
   "execution_count": 19,
   "metadata": {
    "ExecuteTime": {
     "end_time": "2023-07-27T12:25:29.240219Z",
     "start_time": "2023-07-27T12:25:29.079397Z"
    }
   },
   "outputs": [],
   "source": [
    "s = ['A261RX', 'W256RX']\n",
    "rgdi = nipa_df(retrieve_table('T11706')['Data'], s).dropna()\n",
    "\n",
    "s = ['A261RC', 'A4002C', 'W056RC', 'A107RC', 'W271RC', 'A262RC',\n",
    "     'A4102C', 'A038RC']\n",
    "\n",
    "df = nipa_df(retrieve_table('T11000')['Data'], s).dropna()\n",
    "\n",
    "pop = nipa_df(retrieve_table('T20100')['Data'], ['B230RC'])['B230RC']\n",
    "\n",
    "# Calculate indirect taxes net of transfers\n",
    "df['indirect'] = df['W056RC'] - df['A107RC']\n",
    "\n",
    "# Calculate GDI deflator from real GDI series\n",
    "deflator = rgdi['A261RX'] / df['A261RC']\n",
    "deflator = deflator / deflator.iloc[-1]\n",
    "df = df.multiply(deflator, axis=0)\n",
    "\n",
    "# Calculate contributions to growth\n",
    "dft = df.diff()\n",
    "dft = dft.div(dft['A261RC'], axis=0)\n",
    "contr = dft.multiply((((df['A261RC'].pct_change() + 1) ** 4) - 1) * 100, axis=0)\n",
    "\n",
    "cols = ['A261RC', 'W271RC', 'A4002C', 'A262RC', 'indirect']\n",
    "\n",
    "contr.loc['1989':, cols].to_csv(data_dir / 'gdi.csv', index_label='date')\n",
    "\n",
    "dfpop = df.div(pop, axis=0).dropna()\n",
    "\n",
    "ltdt = dtxt(dfpop.index[-1])['qtr1']\n",
    "write_txt(text_dir / 'gdi_ltdt.txt', ltdt)\n",
    "\n",
    "dfpop[cols].to_csv(data_dir / 'gdi_pc_comp.csv', index_label='date')"
   ]
  },
  {
   "cell_type": "code",
   "execution_count": 20,
   "metadata": {
    "ExecuteTime": {
     "end_time": "2023-07-27T12:25:29.257559Z",
     "start_time": "2023-07-27T12:25:29.241962Z"
    }
   },
   "outputs": [
    {
     "name": "stdout",
     "output_type": "stream",
     "text": [
      "\n",
      " of \\$26,137 billion in 2023 Q1, compared to an inflation-adjusted equivalent of \\$25,256 billion in 2019 Q4. Real GDI per capita was \\$78,106 in 2023 Q1 and \\$76,253 in 2019 Q4. \n",
      "\n",
      "Gross labor income per capita is equivalent to \\$41,839 in 2023 Q1 (see {\\color{magenta!90!blue}\\textbf{---}}) and \\$40,659 in 2019 Q4, on an annualized, seasonally-adjusted, and inflation-adjusted basis. Profits per person total \\$17,757 in 2023 Q1 (see {\\color{yellow!60!orange}\\textbf{---}}) and \\$18,278 in 2019 Q4, following the same adjustments. Indirect taxes less subsidies per capita total \\$5,044 in 2023 Q1 (see {\\color{violet}\\textbf{---}}) and \\$5,128 in 2019 Q4. Lastly, depreciation per capita is \\$13,466 in 2023 Q1 (see {\\color{teal!60!white}\\textbf{---}}) and \\$12,188 in 2019 Q4.\n"
     ]
    }
   ],
   "source": [
    "srs = {'A261RC': 'Gross Domestic Income', \n",
    "       'A4002C': '\\hspace{0.1mm} {\\color{magenta!90!blue}\\\\textbf{---}} Labor', \n",
    "       'A4102C': '\\hspace{6mm} Wages and Salaries',\n",
    "       'A038RC': '\\hspace{6mm} Supplements',\n",
    "       'W271RC': '\\hspace{0.1mm} {\\color{yellow!60!orange}\\\\textbf{---}} Profit', \n",
    "       'indirect': '\\hspace{0.1mm} {\\color{violet}\\\\textbf{---}} Indirect Taxes', \n",
    "       'W056RC': '\\hspace{6mm} Taxes on Production and Imports',\n",
    "       'A107RC': '\\hspace{6mm} Less: Subsidies',\n",
    "       'A262RC': '\\hspace{0.1mm} {\\color{teal!60!white}\\\\textbf{---}} Depreciation'}\n",
    "\n",
    "res = (dfpop[list(srs.keys())] * 1000).dropna()\n",
    "lt = res.rename(srs, axis=1).iloc[-1]\n",
    "lt.name = dtxt(lt.name)['qtr1']\n",
    "pr = res.rename(srs, axis=1).loc['2019-10-01']\n",
    "pr.name = dtxt(pr.name)['qtr1']\n",
    "p00 = res.rename(srs, axis=1).loc['2000-01-01']\n",
    "p00.name = dtxt(p00.name)['qtr1']\n",
    "fi = res.rename(srs, axis=1).loc['1989-01-01']\n",
    "fi.name = dtxt(fi.name)['qtr1']\n",
    "table = pd.concat([lt, pr, p00, fi], axis=1).applymap('{:,.0f}'.format)\n",
    "table.iloc[0, 0] = f'\\${table.iloc[0, 0]}'\n",
    "table.to_csv(data_dir / 'gdipc_levels.tex', sep='&', \n",
    "             lineterminator='\\\\\\ ', quotechar=' ')\n",
    "#print(table)\n",
    "\n",
    "prdate = '2019-10-01'\n",
    "ltval = df['A261RC'].iloc[-1] / 1000\n",
    "ltpc = dfpop['A261RC'].iloc[-1] * 1000\n",
    "prval = df['A261RC'].loc[prdate] / 1000\n",
    "prpc = dfpop['A261RC'].loc[prdate] * 1000\n",
    "prdt = dtxt(pd.to_datetime(prdate))['qtr1']\n",
    "text = (f'of \\${ltval:,.0f} billion in {ltdt}, compared to an inflation-'+\n",
    "        f'adjusted equivalent of \\${prval:,.0f} billion in {prdt}. Real '+\n",
    "        f'GDI per capita was \\${ltpc:,.0f} in {ltdt} and \\${prpc:,.0f} '+\n",
    "        f'in {prdt}.')\n",
    "write_txt(text_dir / 'gdi_levels.txt', text)\n",
    "print('\\n', text, '\\n')\n",
    "\n",
    "l_pc = dfpop['A4002C'].iloc[-1] * 1000\n",
    "l_pr = dfpop['A4002C'].loc[prdate] * 1000\n",
    "k_pc = dfpop['W271RC'].iloc[-1] * 1000\n",
    "k_pr = dfpop['W271RC'].loc[prdate] * 1000\n",
    "t_pc = dfpop['indirect'].iloc[-1] * 1000\n",
    "t_pr = dfpop['indirect'].loc[prdate] * 1000\n",
    "d_pc = dfpop['A262RC'].iloc[-1] * 1000\n",
    "d_pr = dfpop['A262RC'].loc[prdate] * 1000\n",
    "\n",
    "text = ('Gross labor income per capita is equivalent '+\n",
    "        f'to \\${l_pc:,.0f} in {ltdt} '+\n",
    "        '(see {\\color{magenta!90!blue}\\\\textbf{---}}) '+\n",
    "        f'and \\${l_pr:,.0f} in 2019 Q4, on an annualized, '+\n",
    "        'seasonally-adjusted, and inflation-adjusted basis. '+\n",
    "        f'Profits per person total \\${k_pc:,.0f} in {ltdt} '+\n",
    "        '(see {\\color{yellow!60!orange}\\\\textbf{---}}) and '+\n",
    "        f'\\${k_pr:,.0f} in {prdt}, following the same adjustments. '+\n",
    "        f'Indirect taxes less subsidies per capita total \\${t_pc:,.0f} '+\n",
    "        f'in {ltdt} (see {{\\color{{violet}}\\\\textbf{{---}}}}) '+\n",
    "        f'and \\${t_pr:,.0f} in {prdt}. Lastly, depreciation per '+\n",
    "        f'capita is \\${d_pc:,.0f} in {ltdt} (see '+\n",
    "        '{\\color{teal!60!white}\\\\textbf{---}}) and '+\n",
    "        f'\\${d_pr:,.0f} in {prdt}.')\n",
    "write_txt(text_dir / 'gdi_levels_pc.txt', text)\n",
    "print(text)"
   ]
  },
  {
   "cell_type": "code",
   "execution_count": 21,
   "metadata": {
    "ExecuteTime": {
     "end_time": "2023-07-27T12:25:29.267720Z",
     "start_time": "2023-07-27T12:25:29.258991Z"
    }
   },
   "outputs": [
    {
     "name": "stdout",
     "output_type": "stream",
     "text": [
      "In the first quarter of 2023, gross domestic income decreased at an annual rate of 1.8 percent, following a decrease of 3.3 percent in 2022 Q4 and an increase of 2.8 percent in 2022 Q3. In the latest quarter, labor income contributed 0.32 percentage point to overall growth, following a a subtraction of 0.90 percentage point in 2022 Q4. Profit income subtracted 2.76 percentage points in the first quarter of 2023 and subtracted 2.50 percentage points in 2022 Q4. Changes in indirect tax revenue and surpluses contributed 0.06 percentage point to aggregate income growth in the latest quarter and subtracted 0.29 percentage point in 2022 Q4. \n"
     ]
    }
   ],
   "source": [
    "s = ['A261RC', 'A4002C', 'W271RC', 'indirect', 'A262RC']\n",
    "df = contr[s]\n",
    "gdi_lt = value_text(df[\"A261RC\"].iloc[-1], adj='annual')\n",
    "gdi_pr = value_text(df[\"A261RC\"].iloc[-2], style='increase_of')\n",
    "gdi_pr2 = value_text(df[\"A261RC\"].iloc[-3], style='increase_of')\n",
    "\n",
    "ltdt = dtxt(df.index[-1])['qtr2']\n",
    "ltdt2 = dtxt(df.index[-1])['qtr1']\n",
    "prdt = dtxt(df.index[-2])['qtr1']\n",
    "prdt2 = dtxt(df.index[-3])['qtr1']\n",
    "\n",
    "text1 = (f'In {ltdt}, gross domestic income {gdi_lt}, following {gdi_pr} '+\n",
    "         f'in {prdt} and {gdi_pr2} in {prdt2}. ')  \n",
    "\n",
    "l_lt = value_text(df[\"A4002C\"].iloc[-1], style='contribution_to', \n",
    "                  digits=2, ptype='pp')\n",
    "l_pr = value_text(df[\"A4002C\"].iloc[-2], style='contribution_of', \n",
    "                  digits=2, ptype='pp')\n",
    "k_lt = value_text(df[\"W271RC\"].iloc[-1], style='contribution', \n",
    "                  digits=2, ptype='pp')\n",
    "k_pr = value_text(df[\"W271RC\"].iloc[-2], style='contribution', \n",
    "                  digits=2, ptype='pp')\n",
    "t_lt = value_text(df['indirect'].iloc[-1], style='contribution_to', \n",
    "                  digits=2, ptype='pp')\n",
    "t_pr = value_text(df['indirect'].iloc[-2], style='contribution', \n",
    "                  digits=2, ptype='pp')\n",
    "    \n",
    "text = (f'{text1}In the latest quarter, labor income {l_lt} overall growth, '+\n",
    "        f'following a {l_pr} in {prdt}. Profit income {k_lt} in '+\n",
    "        f'{ltdt} and {k_pr} in {prdt}. Changes in indirect tax revenue '+\n",
    "        f'and surpluses {t_lt} aggregate income growth in the latest quarter and '+\n",
    "        f'{t_pr} in {prdt}. ')\n",
    "write_txt(text_dir / 'gdi_growth_comp.txt', text)\n",
    "print(text) "
   ]
  },
  {
   "cell_type": "code",
   "execution_count": null,
   "metadata": {},
   "outputs": [],
   "source": []
  },
  {
   "cell_type": "code",
   "execution_count": null,
   "metadata": {},
   "outputs": [],
   "source": []
  },
  {
   "cell_type": "markdown",
   "metadata": {},
   "source": [
    "### Consumer Spending Overview (Levels)"
   ]
  },
  {
   "cell_type": "code",
   "execution_count": 22,
   "metadata": {
    "ExecuteTime": {
     "end_time": "2023-07-27T12:25:30.762235Z",
     "start_time": "2023-07-27T12:25:30.283869Z"
    }
   },
   "outputs": [
    {
     "name": "stdout",
     "output_type": "stream",
     "text": [
      "Total consumer spending is \\$18.3 trillion in 2023 Q2, compared to a price-adjusted \\$18.2 trillion in 2023 Q1 and \\$16.8 trillion in 2019 Q4. On a per person basis, consumer spending is \\$54,640 in 2023 Q2, of which \\$18,194 are spent on goods (see {\\color{red}\\textbf{---}}) and \\$36,445 on services (see {\\color{orange}\\textbf{---}}). In the fourth quarter of 2019, before the pandemic, consumer spending on goods was \\$15,684 per person, and spending on services was \\$34,990 per person, after adjusting for inflation. \n",
      "\n",
      " Within consumer spending on services, housing and utilities spending totals \\$9,600 on an annualized and per person basis in 2023 Q2 (see {\\color{green!60!blue}\\textbf{---}}) and \\$9,350 in 2019 Q4. Construction or improvement of housing is considered residential fixed investment, not consumer spending, but can be combined with spending to analyze patterns in shelter costs. In 2023 Q2, residential investment totals \\$3,018 per person (see {\\color{blue!80!black}\\textbf{---}}), compared to \\$3,306 in the pre-COVID data covering 2019 Q4. \n",
      "\n",
      " Consumer spending on services other than housing and utilities totals \\$26,846 per person, on an annualized basis, in 2023 Q2 (see {\\color{blue!75!white}\\textbf{---}}), compared to \\$26,761 in 2023 Q1, and \\$25,640 in 2019 Q4. Spending on non-housing services has increased 4.7 percent since 2019 Q4. \n",
      "\n",
      "Shelter costs, which combine housing, utilities, and residential fixed investment, are \\$12,618 per person in 2023 Q2 (see {\\color{green!85!blue}\\textbf{---}}), \\$12,589 in 2023 Q1, and \\$12,656 in 2019 Q4. Shelter spending peaked at \\$14,608 per person in the third quarter of 2005, during the housing bubble.\n"
     ]
    }
   ],
   "source": [
    "pop = nipa_df(retrieve_table('T20100')['Data'], ['B230RC'])['B230RC']\n",
    "\n",
    "n = {'DPCERC': 'Total',\n",
    "     'DGDSRC': 'Goods',\n",
    "     'DSERRC': 'Services',\n",
    "     'DHUTRC': 'Housing',\n",
    "     'A011RC': 'ResInv',\n",
    "     'DMOTRC': 'MotorVeh',\n",
    "     'DFDHRC': 'Furn',\n",
    "     'DREQRC': 'RecDG',\n",
    "     'DFXARC': 'Groc',\n",
    "     'DCLORC': 'Cloth',\n",
    "     'DHLCRC': 'Health',\n",
    "     'DTRSRC': 'Transp',\n",
    "     'DRCARC': 'RecSer',\n",
    "     'DFSARC': 'FoodAcc',\n",
    "     'DIFSRC': 'FinIns'}\n",
    "n2 = {k[:-2] + 'RA': v for k, v in n.items()}\n",
    "s = list(n.keys())\n",
    "s2 = list(n2.keys())\n",
    "\n",
    "othserv = lambda x: x['Services'] - x['Housing']\n",
    "shelter = lambda x: x['Housing'] + x['ResInv']\n",
    "\n",
    "df = (nipa_df(retrieve_table('T10505')['Data'], s)\n",
    "      .rename(n, axis=1))\n",
    "df2 = (nipa_df(retrieve_table('T10503')['Data'], s2)\n",
    "       .rename(n2, axis=1))\n",
    "real = ((df2 / df2.iloc[-1]) * df.iloc[-1]).assign(OTHSERV = othserv, SHELTER = shelter)\n",
    "pp = real.divide(pop, axis=0)\n",
    "\n",
    "keep_col = ['Goods', 'Services', 'Housing', 'ResInv', 'OTHSERV', 'SHELTER']\n",
    "pp.loc['1989':, keep_col].to_csv(data_dir / 'pce_levels.csv', index_label='date')\n",
    "\n",
    "lttot = real.Total.iloc[-1] / 1_000_000\n",
    "prtot = real.Total.iloc[-2] / 1_000_000\n",
    "pctot = real.Total.loc['2019-10-01'] / 1_000_000\n",
    "ltdate = dtxt(real.index[-1])['qtr1']\n",
    "prdate = dtxt(real.index[-2])['qtr1']\n",
    "totpp = pp.Total.iloc[-1] * 1_000\n",
    "goodpp = pp.Goods.iloc[-1] * 1_000\n",
    "servpp = pp.Services.iloc[-1] * 1_000\n",
    "goodpppc = pp.Goods.loc['2019-10-01'] * 1_000\n",
    "servpppc = pp.Services.loc['2019-10-01'] * 1_000\n",
    "\n",
    "text = ('Total consumer spending is '+\n",
    "        f'\\${lttot:.1f} trillion in {ltdate}, compared to a price-adjusted '+\n",
    "        f'\\${prtot:.1f} trillion in {prdate} and \\${pctot:.1f} trillion in 2019 Q4. '+\n",
    "        'On a per person basis, consumer spending is '+\n",
    "        f'\\${totpp:,.0f} in {ltdate}, of which \\${goodpp:,.0f} are spent on goods '+\n",
    "        '(see {\\color{red}\\\\textbf{---}}) and '+\n",
    "        f'\\${servpp:,.0f} on services '+\n",
    "        '(see {\\color{orange}\\\\textbf{---}}). In the fourth quarter of 2019, '+\n",
    "        f'before the pandemic, consumer spending on goods was \\${goodpppc:,.0f} '+\n",
    "        f'per person, and spending on services was \\${servpppc:,.0f} per person, '+\n",
    "        'after adjusting for inflation. ')\n",
    "write_txt(text_dir / 'pce_levels.txt', text)\n",
    "print(text)\n",
    "\n",
    "hult = pp['Housing'].iloc[-1] * 1_000\n",
    "hupc = pp['Housing'].loc['2019-10-01'] * 1_000\n",
    "rfilt = pp['ResInv'].iloc[-1] * 1_000\n",
    "rfipc = pp['ResInv'].loc['2019-10-01'] * 1_000\n",
    "\n",
    "text = ('Within consumer spending on services, housing and utilities spending '+\n",
    "        f'totals \\${hult:,.0f} on an annualized and per person basis in {ltdate} '+\n",
    "        '(see {\\color{green!60!blue}\\\\textbf{---}}) '+\n",
    "        f'and \\${hupc:,.0f} in 2019 Q4. Construction or improvement '+\n",
    "        'of housing is considered residential fixed investment, not '+\n",
    "        'consumer spending, but can be combined with spending to analyze '+\n",
    "        'patterns in shelter costs. In '+\n",
    "        f'{ltdate}, residential investment totals \\${rfilt:,.0f} per person '+\n",
    "        '(see {\\color{blue!80!black}\\\\textbf{---}}), '+\n",
    "        f'compared to \\${rfipc:,.0f} in the pre-COVID data covering 2019 Q4. ')\n",
    "write_txt(text_dir / 'pce2_levels.txt', text)\n",
    "print('\\n', text)\n",
    "\n",
    "othlt = pp['OTHSERV'].iloc[-1] * 1_000\n",
    "othpr = pp['OTHSERV'].iloc[-2] * 1_000\n",
    "othpc = pp.loc['2019-10-01', 'OTHSERV'] * 1_000\n",
    "chval = ((othlt / othpc) - 1) * 100\n",
    "chtxt = value_text(chval)\n",
    "shellt = pp['SHELTER'].iloc[-1] * 1_000\n",
    "shelpr = pp['SHELTER'].iloc[-2] * 1_000\n",
    "shelpc = pp.loc['2019-10-01', 'SHELTER'] * 1_000\n",
    "shelmax = pp['SHELTER'].max() * 1_000\n",
    "shelmaxdt = dtxt(pp.SHELTER.idxmax())['qtr2']\n",
    "\n",
    "text = ('Consumer spending on services other than housing and utilities totals \\$'+\n",
    "        f'{othlt:,.0f} per person, on an annualized basis, in {ltdate} '+\n",
    "        '(see {\\color{blue!75!white}\\\\textbf{---}}), '+\n",
    "        f'compared to \\${othpr:,.0f} in {prdate}, and \\${othpc:,.0f} in '+\n",
    "        f'2019 Q4. Spending on non-housing services has {chtxt} since 2019 Q4. '+\n",
    "        '\\n\\nShelter costs, which combine housing, utilities, and residential fixed '+\n",
    "        f'investment, are \\${shellt:,.0f} per person in {ltdate} '+\n",
    "        '(see {\\color{green!85!blue}\\\\textbf{---}})'+\n",
    "        f', \\${shelpr:,.0f} '+\n",
    "        f'in {prdate}, and \\${shelpc:,.0f} in 2019 Q4. Shelter spending peaked at '+\n",
    "        f'\\${shelmax:,.0f} per person in {shelmaxdt}, during the housing bubble.')\n",
    "write_txt(text_dir / 'pce3_levels.txt', text)\n",
    "print('\\n', text)"
   ]
  },
  {
   "cell_type": "code",
   "execution_count": 23,
   "metadata": {
    "ExecuteTime": {
     "end_time": "2023-07-27T12:25:32.689919Z",
     "start_time": "2023-07-27T12:25:32.666247Z"
    }
   },
   "outputs": [],
   "source": [
    "n = {'Total': 'Total',\n",
    "     'Goods': '\\hspace{0.1mm} {\\color{red}\\\\textbf{---}} Goods',\n",
    "     'MotorVeh': '\\hspace{5mm} Motor Vehicles and Parts',\n",
    "     'Furn': '\\hspace{5mm} Furniture and HH Equipment',\n",
    "     'RecDG': '\\hspace{5mm} Recreational Durable Goods',\n",
    "     'Groc': '\\hspace{5mm} Groceries',\n",
    "     'Cloth': '\\hspace{5mm} Clothes and Shoes',\n",
    "     'OTHSERV': '\\hspace{0.1mm} {\\color{blue!75!white}\\\\textbf{---}} Services ex. Shelter',\n",
    "     'Health': '\\hspace{5mm} Health Care Services',\n",
    "     'Transp': '\\hspace{5mm} Transportation',\n",
    "     'RecSer': '\\hspace{5mm} Recreational',\n",
    "     'FoodAcc': '\\hspace{5mm} Food and Accommodations',\n",
    "     'FinIns': '\\hspace{5mm} Financial and Insurance',\n",
    "     'SHELTER': '\\hspace{0.1mm} {\\color{green!85!blue}\\\\textbf{---}} Shelter ',\n",
    "     'Housing': '\\hspace{5mm} Housing Services and Utilities ',\n",
    "     'ResInv': '\\hspace{5mm} Residential Fixed Investment'}\n",
    "\n",
    "res = pp[n.keys()].rename(n, axis=1) * 1_000\n",
    "lt = res.iloc[-1]\n",
    "lt.name = dtxt(lt.name)['qtr1']\n",
    "pr = res.loc['2019-10-01']\n",
    "pr.name = dtxt(pr.name)['qtr1']\n",
    "p00 = res.loc['2000-01-01']\n",
    "p00.name = dtxt(p00.name)['qtr1']\n",
    "fi = res.loc['1989-01-01']\n",
    "fi.name = dtxt(fi.name)['qtr1']\n",
    "table = pd.concat([lt, pr, p00, fi], axis=1).applymap('{:,.0f}'.format)\n",
    "table.iloc[0, 0] = f'\\${table.iloc[0, 0]}'\n",
    "table.to_csv(data_dir / 'pce_levels.tex', sep='&', lineterminator='\\\\\\ ', quotechar=' ')\n",
    "#table"
   ]
  },
  {
   "cell_type": "code",
   "execution_count": null,
   "metadata": {},
   "outputs": [],
   "source": []
  },
  {
   "cell_type": "code",
   "execution_count": null,
   "metadata": {},
   "outputs": [],
   "source": []
  },
  {
   "cell_type": "markdown",
   "metadata": {},
   "source": [
    "### Consumer Spending and Residential Fixed Investment"
   ]
  },
  {
   "cell_type": "code",
   "execution_count": 24,
   "metadata": {
    "ExecuteTime": {
     "end_time": "2023-07-27T12:25:36.112637Z",
     "start_time": "2023-07-27T12:25:35.844885Z"
    }
   },
   "outputs": [
    {
     "name": "stdout",
     "output_type": "stream",
     "text": [
      "These categories contributed 1.1 percentage points to GDP growth in 2023 Q2 and contributed 2.8 percentage points in 2023 Q1, compared to an addition of 1.6 percentage points in 2019 Q4, before the pandemic.\n",
      "\n",
      " In the second quarter of 2023, household spending on goods contributed 0.2 percentage point to GDP growth, household spending on services other than housing and utilities added 0.6 percentage point, and shelter spending and investment contributed 0.2 percentage point.\n"
     ]
    }
   ],
   "source": [
    "s = ['DNPIRY', 'DSERRY', 'DPCERY', 'DGDSRY', 'DMOTRY',\n",
    "     'DFDHRY', 'DREQRY', 'DFXARY', 'DCLORY', 'DHLCRY',\n",
    "     'DTRSRY', 'DRCARY', 'DFSARY', 'DIFSRY', 'DHUTRY',\n",
    "     'A011RY']\n",
    "\n",
    "n = {'TOTAL': '& Total',\n",
    "     'DGDSRY': '\\cbox{red} & Goods',\n",
    "     'DMOTRY': '& \\hspace{1mm} Motor Vehicles and Parts',\n",
    "     'DFDHRY': '& \\hspace{1mm} Furniture and HH Equipment',\n",
    "     'DREQRY': '& \\hspace{1mm} Recreational Durable Goods',\n",
    "     'DFXARY': '& \\hspace{1mm} Groceries',\n",
    "     'DCLORY': '& \\hspace{1mm} Clothes and Shoes',\n",
    "     'OTHSERV': '\\cbox{blue!75!white} & Services (ex. Shelter)',\n",
    "     'DHLCRY': '& \\hspace{1mm} Health Care Services',\n",
    "     'DTRSRY': '& \\hspace{1mm} Transportation',\n",
    "     'DRCARY': '& \\hspace{1mm} Recreational',\n",
    "     'DFSARY': '& \\hspace{1mm} Food and Accommodations',\n",
    "     'DIFSRY': '& \\hspace{1mm} Financial and Insurance',\n",
    "     'SHELTER': '\\cbox{green!85!blue} & Shelter ',\n",
    "     'DHUTRY': '& \\hspace{1mm} Housing Services and Utilities ',\n",
    "     'A011RY': '& \\hspace{1mm} Residential Fixed Investment'}\n",
    "\n",
    "total = lambda x: x['DPCERY']\n",
    "othserv = lambda x: x['DSERRY'] - x['DHUTRY']\n",
    "shelter = lambda x: x['DHUTRY'] + x['A011RY']\n",
    "\n",
    "df = (nipa_df(retrieve_table('T10502')['Data'], s)\n",
    "      .assign(TOTAL = total, OTHSERV = othserv, SHELTER = shelter)\n",
    "      [list(n.keys())])\n",
    "\n",
    "#(df.loc['1989':, ['DGDSRY', 'OTHSERV', 'SHELTER']]\n",
    "#   .to_csv(data_dir / 'pce.csv', index_label='date', float_format='%g'))\n",
    "\n",
    "(df.loc['1988':, ['DGDSRY', 'OTHSERV', 'SHELTER']]\n",
    " .rolling(4).mean().dropna()\n",
    " .to_csv(data_dir / 'pce_ma.csv', index_label='date', float_format='%g'))\n",
    "\n",
    "data = df.iloc[-5:].iloc[::-1].T\n",
    "\n",
    "cols = [f'& {q.year} Q{q.quarter}' \n",
    "        if i == 0 else f'`{str(q.year)[2:]} Q{q.quarter}'\n",
    "        for i, q in enumerate(data.columns)]\n",
    "\n",
    "data.columns = cols\n",
    "data['3-year'] = df.rolling(13).mean().iloc[-1].round(2)\n",
    "data['10-year'] = df.rolling(41).mean().iloc[-1].round(2)\n",
    "data['30-year'] = df.rolling(121).mean().iloc[-1].round(2)\n",
    "data.index = data.index.map(n)\n",
    "(data.round(2).applymap('{:,.2f}'.format)\n",
    " .to_csv(data_dir / 'pce.tex', sep='&', lineterminator='\\\\\\ ', quotechar=' '))\n",
    "\n",
    "ld = dtxt(df.index[-1])['qtr1']\n",
    "prd = dtxt(df.index[-2])['qtr1']\n",
    "ld2 = dtxt(df.index[-1])['qtr2']\n",
    "\n",
    "totlt = df['TOTAL'].iloc[-1]\n",
    "totltt = value_text(totlt, style='contribution_to', ptype='pp', \n",
    "                    digits=1, threshold=0.1)\n",
    "totpr = df['TOTAL'].iloc[-2]\n",
    "totprt = value_text(totpr, style='contribution', ptype='pp', \n",
    "                    digits=1, threshold=0.1)\n",
    "totpc = df.loc['2019-10-01', 'TOTAL']\n",
    "totpct = value_text(totpc, style='contribution_of', ptype='pp', \n",
    "                    digits=1, casual=True, threshold=0.1)\n",
    "\n",
    "txt1 = (f'These categories {totltt} GDP growth in {ld} and {totprt} in '+\n",
    "        f'{prd}, compared to {totpct} in 2019 Q4, before the pandemic.')\n",
    "write_txt(text_dir / 'pce1.txt', txt1)\n",
    "print(txt1)\n",
    "\n",
    "gdslt = df['DGDSRY'].iloc[-1]\n",
    "gdsltt = value_text(gdslt, style='contribution_to', ptype='pp', \n",
    "                    digits=1, threshold=0.1)\n",
    "serlt = df['OTHSERV'].iloc[-1]\n",
    "serltt = value_text(serlt, style='contribution', ptype='pp', digits=1, \n",
    "                    casual=True, threshold=0.1)\n",
    "shelt = df['SHELTER'].iloc[-1]\n",
    "sheltt = value_text(shelt, style='contribution', ptype='pp', \n",
    "                    digits=1, threshold=0.1)\n",
    "\n",
    "txt2 = (f'In {ld2}, household spending on goods {gdsltt} GDP growth, '+\n",
    "         'household spending on services other than housing and utilities '+\n",
    "        f'{serltt}, and shelter spending and investment {sheltt}.')\n",
    "write_txt(text_dir / 'pce2.txt', txt2)\n",
    "print('\\n', txt2)"
   ]
  },
  {
   "cell_type": "code",
   "execution_count": null,
   "metadata": {},
   "outputs": [],
   "source": []
  },
  {
   "cell_type": "code",
   "execution_count": null,
   "metadata": {},
   "outputs": [],
   "source": []
  },
  {
   "cell_type": "markdown",
   "metadata": {},
   "source": [
    "### Trade Contribution to GDP"
   ]
  },
  {
   "cell_type": "code",
   "execution_count": 25,
   "metadata": {
    "ExecuteTime": {
     "end_time": "2023-07-27T12:25:38.414132Z",
     "start_time": "2023-07-27T12:25:38.261441Z"
    }
   },
   "outputs": [
    {
     "name": "stdout",
     "output_type": "stream",
     "text": [
      "Goods exports subtracted 1.35 percentage points from GDP growth in the second quarter of 2023 while services exports contributed 0.07 percentage point. Good imports contributed 0.98 percentage point to GDP growth and services imports contributed 0.18 percentage point.\n"
     ]
    }
   ],
   "source": [
    "s = ['A019RY', 'A253RY', 'A646RY', 'A255RY', 'A656RY']\n",
    "df = nipa_df(retrieve_table('T10502')['Data'], s)\n",
    "df.loc['1989':].to_csv(data_dir / 'nx.csv', index_label='date')\n",
    "\n",
    "sl = [('A253RY', 'contribution_to'), ('A646RY', 'contribution'), \n",
    "      ('A255RY', 'contribution_to'), ('A656RY', 'contribution')]\n",
    "\n",
    "d = {}\n",
    "for s, style in sl:\n",
    "    d[s] = value_text(df[s].iloc[-1], style, 'pp', digits=2)\n",
    "    \n",
    "ldate = dtxt(df.index[-1])['qtr2']\n",
    "\n",
    "text = (f\"Goods exports {d['A253RY']} GDP growth in {ldate} while \"+\n",
    "        f\"services exports {d['A646RY']}. Good imports {d['A255RY']} \"+\n",
    "        f\"GDP growth and services imports {d['A656RY']}.\")\n",
    "write_txt(text_dir / 'trade.txt', text)\n",
    "print(text)"
   ]
  },
  {
   "cell_type": "code",
   "execution_count": null,
   "metadata": {},
   "outputs": [],
   "source": []
  },
  {
   "cell_type": "code",
   "execution_count": null,
   "metadata": {},
   "outputs": [],
   "source": []
  },
  {
   "cell_type": "markdown",
   "metadata": {},
   "source": [
    "### Business investment"
   ]
  },
  {
   "cell_type": "code",
   "execution_count": 26,
   "metadata": {
    "ExecuteTime": {
     "end_time": "2023-07-27T12:25:40.109314Z",
     "start_time": "2023-07-27T12:25:40.040881Z"
    }
   },
   "outputs": [],
   "source": [
    "s = ['Y001RY', 'A009RY', 'Y033RY']\n",
    "\n",
    "df = nipa_df(retrieve_table('T10502')['Data'], s)\n",
    "df.loc['1989':].to_csv(data_dir / 'businv.csv', index_label='date')"
   ]
  },
  {
   "cell_type": "code",
   "execution_count": 27,
   "metadata": {
    "ExecuteTime": {
     "end_time": "2023-07-27T12:25:40.828283Z",
     "start_time": "2023-07-27T12:25:40.720170Z"
    }
   },
   "outputs": [
    {
     "name": "stdout",
     "output_type": "stream",
     "text": [
      "Business investments in fixed assets are grouped into three categories: structures, equipment, and intellectual property (for example software and R\\&D). Annualized investment in structures is \\$756 billion in 2023 Q2, equivalent to 2.8 percent of GDP (see {\\color{yellow!50!orange}\\textbf{---}}). Equipment investment is \\$1,383 billion or 5.2 percent of GDP (see {\\color{cyan!60!white}\\textbf{---}}), and intellectual property investment is \\$1,470 billion or 5.5 percent of GDP (see {\\color{violet}\\textbf{---}}). \n"
     ]
    }
   ],
   "source": [
    "s = ['Y001RC', 'B009RC', 'Y033RC', 'A008RC']\n",
    "data = nipa_df(retrieve_table('T10105')['Data'], s)\n",
    "gdp = nipa_df(retrieve_table('T10105')['Data'], ['A191RC'])['A191RC']\n",
    "df1 = data.divide(gdp, axis=0) * 100\n",
    "(df1.loc['1989':, ['Y001RC', 'B009RC', 'Y033RC']]\n",
    "    .to_csv(data_dir / 'businvsh.csv', index_label='date'))\n",
    "\n",
    "ltdate = dtxt(df1.index[-1])['qtr1']\n",
    "\n",
    "levels = {}\n",
    "shgdp = {}\n",
    "for series in ['Y001RC', 'B009RC', 'Y033RC']:\n",
    "    level_val = data[series].iloc[-1] / 1_000\n",
    "    txt = f\"\\${level_val:,.0f} billion\"\n",
    "    levels[series] = txt\n",
    "    shgdp[series] = f\"{df1[series].iloc[-1]:.1f} percent of GDP\"\n",
    "\n",
    "text = ('Business investments in fixed assets are grouped into three '+\n",
    "        'categories: structures, equipment, and intellectual property '+\n",
    "        '(for example software and R\\&D). Annualized investment in '+\n",
    "        f'structures is {levels[\"B009RC\"]} in {ltdate}, equivalent to '+\n",
    "        f'{shgdp[\"B009RC\"]} '+\n",
    "        '(see {\\color{yellow!50!orange}\\\\textbf{---}}). '+\n",
    "        f'Equipment investment is {levels[\"Y033RC\"]} or {shgdp[\"Y033RC\"]} '+\n",
    "        '(see {\\color{cyan!60!white}\\\\textbf{---}}), '+\n",
    "        'and intellectual property investment '+\n",
    "        f'is {levels[\"Y001RC\"]} or {shgdp[\"Y001RC\"]} '+\n",
    "        '(see {\\color{violet}\\\\textbf{---}}). ')\n",
    "write_txt(text_dir / 'businv_sh.txt', text)\n",
    "print(text)"
   ]
  },
  {
   "cell_type": "code",
   "execution_count": 28,
   "metadata": {
    "ExecuteTime": {
     "end_time": "2023-07-27T12:25:41.502761Z",
     "start_time": "2023-07-27T12:25:41.390031Z"
    }
   },
   "outputs": [
    {
     "name": "stdout",
     "output_type": "stream",
     "text": [
      "In the the second quarter of 2023, gross private business investment totals \\$3,559 billion on a seasonally-adjusted annualized basis, equivalent to 13.3 percent of GDP (see {\\color{blue!60!violet}\\textbf{---}}). Private business investment in fixed assets totals \\$3,610 billion, or 13.5 percent of GDP (see {\\color{cyan!80!white}\\textbf{---}}). Private business depreciation totals \\$2,981 billion in the quarter, or 11.1 percent of GDP (see {\\color{magenta}\\textbf{---}}). As a result, net investment is \\$577 billion, or 2.2 percent of GDP (see {\\color{green!80!blue}\\textbf{---}}). \n",
      "\n",
      " In 2019 Q4, prior to the COVID-19 pandemic, private business gross investment was \\$2,880 billion. Since 2019 Q4, annualized gross investment increased 23.6 percent. Net investment was \\$596 billion in 2019 Q4, and decreased 3.2 percent from 2019 Q4 to 2023 Q2, as gross investment recovered from its pandemic lows. \n"
     ]
    }
   ],
   "source": [
    "s = ['W790RC', 'W276RC', 'W987RC']\n",
    "df = nipa_df(retrieve_table('T50100')['Data'], s).join(data['A008RC'])\n",
    "gdp = nipa_df(retrieve_table('T10105')['Data'], ['A191RC'])['A191RC']\n",
    "res = (df.div(gdp, axis=0) * 100).dropna()\n",
    "res.loc['1989':].to_csv(data_dir / 'businv_main.csv', index_label='date')\n",
    "\n",
    "ltdate1 = dtxt(df.index[-1])['qtr1']\n",
    "ltdate2 = dtxt(df.index[-1])['qtr2']\n",
    "\n",
    "levels = {}\n",
    "shgdp = {}\n",
    "for series in ['W790RC', 'W276RC', 'W987RC', 'A008RC']:\n",
    "    level_val = df[series].iloc[-1] / 1_000\n",
    "    n = ''\n",
    "    if level_val < 0:\n",
    "        n = 'negative '\n",
    "        level_val = abs(level_val)\n",
    "    txt = f\"{n}\\${level_val:,.0f} billion\"\n",
    "    levels[series] = txt\n",
    "    shgdp[series] = f\"{res[series].iloc[-1]:.1f} percent of GDP\"\n",
    "    \n",
    "diff = ((df['W987RC'].iloc[-1] / df.loc['2019-10-01', 'W987RC']) - 1) * 100\n",
    "gdt = value_text(diff)\n",
    "diff2 = ((df['W790RC'].iloc[-1] / df.loc['2019-10-01', 'W790RC']) - 1) * 100\n",
    "if diff2 < -95:\n",
    "    ndt = 'but collapsed completely'\n",
    "else:\n",
    "    ndt = 'and ' + value_text(diff2)\n",
    "gpcl = f\"{n}\\${df.loc['2019-10-01', 'W987RC'] / 1_000:,.0f} billion\"\n",
    "npcl = f\"{n}\\${df.loc['2019-10-01', 'W790RC'] / 1_000:,.0f} billion\"\n",
    "if diff < 0:\n",
    "    txt = 'as gross investment fell while deprecation was relatively constant'\n",
    "else:\n",
    "    txt = 'as gross investment recovered from its pandemic lows'\n",
    "    \n",
    "text = (f'In the {ltdate2}, gross private business investment totals '+\n",
    "        f'{levels[\"W987RC\"]} on a seasonally-adjusted annualized basis, '+\n",
    "        f'equivalent to {shgdp[\"W987RC\"]} '+\n",
    "        '(see {\\color{blue!60!violet}\\\\textbf{---}}). Private business investment '+\n",
    "        f'in fixed assets totals {levels[\"A008RC\"]}, or {shgdp[\"A008RC\"]} '+\n",
    "        '(see {\\color{cyan!80!white}\\\\textbf{---}}). Private business depreciation '+\n",
    "        f'totals {levels[\"W276RC\"]} in the quarter, or {shgdp[\"W276RC\"]} '+\n",
    "        '(see {\\color{magenta}\\\\textbf{---}}). '+\n",
    "        f'As a result, net investment is {levels[\"W790RC\"]}, or {shgdp[\"W790RC\"]} '+\n",
    "        '(see {\\color{green!80!blue}\\\\textbf{---}}). \\n\\n '+\n",
    "        'In 2019 Q4, prior to the COVID-19 pandemic, private business gross '+\n",
    "        f'investment was {gpcl}. Since 2019 Q4, annualized gross investment {gdt}. '+\n",
    "        f'Net investment was {npcl} in 2019 Q4, {ndt} from 2019 Q4 to {ltdate1}, '+\n",
    "        f'{txt}. ')\n",
    "write_txt(text_dir / 'businv_levels.txt', text)\n",
    "print(text)  "
   ]
  },
  {
   "cell_type": "code",
   "execution_count": null,
   "metadata": {},
   "outputs": [],
   "source": []
  },
  {
   "cell_type": "code",
   "execution_count": null,
   "metadata": {},
   "outputs": [],
   "source": []
  },
  {
   "cell_type": "markdown",
   "metadata": {},
   "source": [
    "### Durable goods new orders"
   ]
  },
  {
   "cell_type": "code",
   "execution_count": 29,
   "metadata": {
    "ExecuteTime": {
     "end_time": "2023-07-27T12:26:02.376840Z",
     "start_time": "2023-07-27T12:26:00.536116Z"
    }
   },
   "outputs": [],
   "source": [
    "# New orders for capital goods excluding defense or aircraft\n",
    "url = ('https://api.census.gov/data/timeseries/eits/advm3?'+\n",
    "       f'get=cell_value,time_slot_id&key={census_key}&'+\n",
    "       'category_code=NXA&data_type_code=NO&time=from+1992&'+\n",
    "       'for=us&seasonally_adj=yes')\n",
    "r = requests.get(url).json()\n",
    "date = lambda x: pd.to_datetime(x.time)\n",
    "df = (pd.DataFrame(r[1:], columns=r[0]).assign(date = date)\n",
    "        .set_index('date')['cell_value'].astype('float')).sort_index()\n",
    "df.to_csv(data_dir / 'dgno_raw.csv', index_label='date', \n",
    "          header=True)"
   ]
  },
  {
   "cell_type": "code",
   "execution_count": 30,
   "metadata": {
    "ExecuteTime": {
     "end_time": "2023-07-27T12:26:03.766392Z",
     "start_time": "2023-07-27T12:26:03.712764Z"
    }
   },
   "outputs": [
    {
     "name": "stdout",
     "output_type": "stream",
     "text": [
      "New orders for manufactured core capital goods excluding aircraft total \\$74 billion in June 2023, equivalent to 3.3 percent of GDP (see {\\color{purple!50!violet}\\textbf{---}}). New orders increased 1.9 percent over the past year, and increased by 21.2 percent since February 2020.\n"
     ]
    }
   ],
   "source": [
    "df = pd.read_csv(data_dir / 'dgno_raw.csv', index_col='date', \n",
    "                 parse_dates=True)['cell_value']\n",
    "gdp = nipa_df(retrieve_table('T10105')['Data'], ['A191RC'])\n",
    "res = ((df.resample('QS').sum() * 4  / \n",
    "        gdp['A191RC']).dropna() * 100).iloc[1:]\n",
    "(res.rename('value').to_csv(data_dir / 'dgno.csv', \n",
    "                            index_label='date',  header=True))\n",
    "color = 'purple!50!violet'\n",
    "node = end_node(res, color, date='q', percent=True)\n",
    "write_txt(text_dir / 'dgno_node.txt', node)\n",
    "ltval = f'\\${df.iloc[-1] / 1000:,.0f} billion'\n",
    "ldate = dtxt(df.index[-1])['mon1']\n",
    "comp = pd.to_datetime('2020-02-01')\n",
    "compdt = dtxt(pd.to_datetime(comp))['mon1']\n",
    "val = value_text(df.pct_change(12).iloc[-1] * 100)\n",
    "pcv = ((df.iloc[-1] / df.loc[comp]) - 1) * 100\n",
    "pcval = value_text(pcv, 'increase_by')\n",
    "text = ('New orders for manufactured core capital goods excluding '+\n",
    "        f'aircraft total {ltval} in {ldate}, equivalent to '+\n",
    "        f'{res.iloc[-1]:.1f} percent of GDP {c_line(color)}. New '+\n",
    "        f'orders {val} over the past year, and {pcval} since '+\n",
    "        f'{compdt}.')\n",
    "write_txt(text_dir / 'dgno.txt', text)\n",
    "print(text)"
   ]
  },
  {
   "cell_type": "code",
   "execution_count": null,
   "metadata": {},
   "outputs": [],
   "source": []
  },
  {
   "cell_type": "code",
   "execution_count": null,
   "metadata": {},
   "outputs": [],
   "source": []
  },
  {
   "cell_type": "markdown",
   "metadata": {},
   "source": [
    "### Government spending and investment"
   ]
  },
  {
   "cell_type": "code",
   "execution_count": 31,
   "metadata": {
    "ExecuteTime": {
     "end_time": "2023-07-27T12:26:06.387724Z",
     "start_time": "2023-07-27T12:26:06.174260Z"
    }
   },
   "outputs": [],
   "source": [
    "n = {'A822RY': 'Total',\n",
    "     'A823RY': '\\hspace{1mm}Federal total',\n",
    "     'A824RY': '\\hspace{1mm}\\cbox{blue!60!black}National defense',\n",
    "     'A997RY': '\\hspace{7mm}Consumption expenditures',\n",
    "     'A788RY': '\\hspace{7mm}Gross investment',\n",
    "     'A825RY': '\\hspace{1mm}\\cbox{green!85!black}Nondefense',\n",
    "     'A542RY': '\\hspace{7mm}Consumption expenditures',\n",
    "     'A798RY': '\\hspace{7mm}Gross investment',\n",
    "     'A829RY': '\\hspace{-2mm}\\cbox{purple!70!magenta}State \\& local total',\n",
    "     'A991RY': '\\hspace{5mm}Consumption expenditures',\n",
    "     'A799RY': '\\hspace{5mm}Gross investment'}\n",
    "\n",
    "df = nipa_df(retrieve_table('T10502')['Data'], \n",
    "             list(n.keys()) + ['A191RL'])\n",
    "df.rolling(4).mean().loc['1989':].to_csv(data_dir / 'gov.csv', \n",
    "                                         index_label='date')"
   ]
  },
  {
   "cell_type": "code",
   "execution_count": 32,
   "metadata": {
    "ExecuteTime": {
     "end_time": "2023-07-27T12:26:09.319736Z",
     "start_time": "2023-07-27T12:26:09.288566Z"
    }
   },
   "outputs": [
    {
     "name": "stdout",
     "output_type": "stream",
     "text": [
      "Government consumption and investment directly affect economic growth in the short-term. In the second quarter of 2023, government consumption spending and investment contributed 0.45 percentage point to the real GDP growth rate of 2.4 percent. Over the latest four quarters, government consumption and investment contributed 0.65 percentage point to economic growth, on average. Since 1989, the average contribution has been 0.24 percentage points.\n",
      "\n",
      "Over the four quarters ending 2023 Q2, by level of government, national defense contributed 0.11 percentage point (see \\cbox{blue!60!black}), other federal government contributed 0.15 percentage point (see \\cbox{green!85!black}), and state and local government contributed 0.39 percentage point (see \\cbox{purple!70!magenta}).\n"
     ]
    }
   ],
   "source": [
    "ltdt = dtxt(df.index[-1])['qtr2']\n",
    "ltdt2 = dtxt(df.index[-1])['qtr1']\n",
    "tot = df.A822RY\n",
    "gdp = df['A191RL'].iloc[-1]\n",
    "oneyr = value_text(tot.iloc[-4:].mean(), 'contribution', 'pp', \n",
    "                   threshold=0.01, digits=2)\n",
    "v89 = tot.loc['1989':].mean()\n",
    "totval = value_text(tot.iloc[-1], 'contribution_to', 'pp', \n",
    "                    threshold=0.01, digits=2)\n",
    "defval = value_text(df['A824RY'].iloc[-4:].mean(), 'contribution', 'pp', \n",
    "                   threshold=0.01, digits=2)\n",
    "defcb = c_box('blue!60!black')\n",
    "fedval = value_text(df['A825RY'].iloc[-4:].mean(), 'contribution', 'pp', \n",
    "                   threshold=0.01, digits=2)\n",
    "fedcb = c_box('green!85!black')\n",
    "slgval = value_text(df['A829RY'].iloc[-4:].mean(), 'contribution', 'pp', \n",
    "                   threshold=0.01, digits=2)\n",
    "slgcb = c_box('purple!70!magenta')\n",
    "text = ('Government consumption and investment directly affect economic '+\n",
    "        f'growth in the short-term. In {ltdt}, government consumption spending '+\n",
    "        f'and investment {totval} the real GDP growth rate of {gdp:.1f} '+\n",
    "        'percent. Over the latest four quarters, government consumption '+\n",
    "        f'and investment {oneyr} to economic growth, on average. '+\n",
    "        f'Since 1989, the average contribution has been {v89:.2f} '+\n",
    "        f'percentage points.\\n\\nOver the four quarters ending {ltdt2}, '+\n",
    "        f'by level of government, national defense {defval} {defcb}, '+\n",
    "        f'other federal government {fedval} {fedcb}, and state and '+\n",
    "        f'local government {slgval} {slgcb}.')\n",
    "write_txt(text_dir / 'gov.txt', text)\n",
    "print(text)"
   ]
  },
  {
   "cell_type": "code",
   "execution_count": 33,
   "metadata": {
    "ExecuteTime": {
     "end_time": "2023-07-27T12:26:11.379810Z",
     "start_time": "2023-07-27T12:26:11.355427Z"
    }
   },
   "outputs": [],
   "source": [
    "result = df[n.keys()]\n",
    "data = result.iloc[-5:].iloc[::-1].T\n",
    "\n",
    "cols = [f' {q.year} Q{q.quarter}' \n",
    "        if i == 0 else f'`{str(q.year)[2:]} Q{q.quarter}'\n",
    "        for i, q in enumerate(data.columns)]\n",
    "\n",
    "data.columns = cols\n",
    "data['3-year'] = result.rolling(13).mean().iloc[-1].round(2)\n",
    "data['10-year'] = result.rolling(41).mean().iloc[-1].round(2)\n",
    "data['30-year'] = result.rolling(121).mean().iloc[-1].round(2)\n",
    "data.index = data.index.map(n)\n",
    "data = data.applymap('{:.2f}'.format)\n",
    "data.to_csv(data_dir / 'gov.tex', sep='&', lineterminator='\\\\\\ ', quotechar=' ')"
   ]
  },
  {
   "cell_type": "code",
   "execution_count": null,
   "metadata": {},
   "outputs": [],
   "source": []
  },
  {
   "cell_type": "code",
   "execution_count": null,
   "metadata": {},
   "outputs": [],
   "source": []
  },
  {
   "cell_type": "markdown",
   "metadata": {},
   "source": [
    "### Government Net Investment"
   ]
  },
  {
   "cell_type": "code",
   "execution_count": 34,
   "metadata": {
    "ExecuteTime": {
     "end_time": "2023-07-27T12:26:13.765560Z",
     "start_time": "2023-07-27T12:26:13.669045Z"
    }
   },
   "outputs": [
    {
     "name": "stdout",
     "output_type": "stream",
     "text": [
      "Government gross investment, less depreciation, is the government's net investment in the tangible assets that make the economy more productive. Government investment includes infrastructure, buildings, equipment, intellectual property, and other capital goods. In the latest data, covering 2023 Q2, government net investment is \\$178.7 billion. Government net investment is equivalent to 0.67 percent of GDP in 2023 Q2 (see {\\color{red}\\textbf{---}}), compared to 0.51 percent in 2022 Q2, and 0.68 percent in 2021 Q2. \n"
     ]
    }
   ],
   "source": [
    "cofc = nipa_df(retrieve_table('T11000')['Data'], ['A264RC'])['A264RC']\n",
    "ginv = nipa_df(retrieve_table('T30100')['Data'], ['A782RC'])['A782RC']\n",
    "gdp = nipa_df(retrieve_table('T10105')['Data'], ['A191RC'])['A191RC']\n",
    "\n",
    "data = (((ginv - cofc) / gdp) * 100).loc['1989':]\n",
    "data.name = 'Value'\n",
    "data.to_csv(data_dir / 'govnetinv.csv', index_label='date')\n",
    "\n",
    "color = 'red'\n",
    "node = end_node(data, color, percent=True, date='q', digits=2, \n",
    "                full_year=True)\n",
    "write_txt(text_dir / 'govnetinv_node.txt', node)\n",
    "\n",
    "ltdt = dtxt(data.index[-1])['qtr1']\n",
    "yrdt = dtxt(data.index[-5])['qtr1']\n",
    "yr2dt = dtxt(data.index[-9])['qtr1']\n",
    "gni = f'\\${(ginv - cofc).iloc[-1] / 1_000:.1f} billion'\n",
    "gnish = f'{data.iloc[-1]:.2f} percent'\n",
    "gnishyr = f'{data.iloc[-5]:.2f} percent'\n",
    "gnishyr2 = f'{data.iloc[-9]:.2f} percent'\n",
    "\n",
    "text = (\"Government gross investment, less depreciation, is the government's \"+\n",
    "        \"net investment in the tangible assets that make the economy more \"+\n",
    "        \"productive. Government investment includes infrastructure, \"+\n",
    "        \"buildings, equipment, intellectual property, and other capital goods. \"+\n",
    "        f\"In the latest data, covering {ltdt}, government net investment is \"+\n",
    "        f\"{gni}. Government net investment is equivalent to {gnish} \"+\n",
    "        f\"of GDP in {ltdt} {c_line(color)}, compared \"+\n",
    "        f\"to {gnishyr} in {yrdt}, and {gnishyr2} in {yr2dt}. \")\n",
    "write_txt(text_dir / f'govnetinv.txt', text)\n",
    "print(text)"
   ]
  },
  {
   "cell_type": "code",
   "execution_count": null,
   "metadata": {},
   "outputs": [],
   "source": []
  },
  {
   "cell_type": "code",
   "execution_count": null,
   "metadata": {},
   "outputs": [],
   "source": []
  },
  {
   "cell_type": "markdown",
   "metadata": {},
   "source": [
    "### Government receipts and expenditures"
   ]
  },
  {
   "cell_type": "code",
   "execution_count": 35,
   "metadata": {
    "ExecuteTime": {
     "end_time": "2023-07-27T12:26:20.325047Z",
     "start_time": "2023-07-27T12:26:20.208472Z"
    },
    "code_folding": []
   },
   "outputs": [
    {
     "name": "stdout",
     "output_type": "stream",
     "text": [
      "Combined state and local government expenditures total \\$3.7 trillion, or 13.8 percent of GDP, in 2023 Q2. BEA has not yet released receipts data for 2023 Q2, however, in 2023 Q1, combined state and local government receipts total \\$3.5 trillion, or 13.2 percent of GDP. In 2023 Q1, the combined state and local government deficit was \\$169 billion or 0.6 percent of GDP. \n",
      "Federal government expenditures total \\$6.5 trillion, or 24.1 percent of GDP, in 2023 Q2. BEA has not yet released receipts data for 2023 Q2, however, in 2023 Q1, federal government receipts total \\$4.8 trillion, or 18.0 percent of GDP. In 2023 Q1, the federal government deficit was \\$1,664 billion or 6.3 percent of GDP. \n"
     ]
    }
   ],
   "source": [
    "gdp = nipa_df(retrieve_table('T10105')['Data'], ['A191RC'])['A191RC']\n",
    "\n",
    "d = {'slggdp': {'name': 'combined state and local government', \n",
    "                'table': 'T30300', 'series': \n",
    "                {'W024RC': 'SLG_EXP', 'W023RC': 'SLG_REC'}},\n",
    "     'fedgdp': {'name': 'federal government', \n",
    "                'table': 'T30200', 'series':\n",
    "                {'W005RC': 'FED_REC', 'W013RC': 'FED_EXP'}}}\n",
    "\n",
    "data = pd.DataFrame()\n",
    "\n",
    "ltdate = dtxt(gdp.index[-1])['qtr1']\n",
    "\n",
    "for group, details in d.items():\n",
    "    df = nipa_df(retrieve_table(details['table'])['Data'], details['series'].keys())\n",
    "    (df.div(gdp, axis=0) * 100).loc['1989':].to_csv(data_dir / f'{group}.csv', \n",
    "                                                    index_label='date', float_format='%g')\n",
    "    \n",
    "    grp = group[:3].upper()\n",
    "    df.columns = [details['series'][i] for i in df.columns]\n",
    "    bal = df[f'{grp}_REC'] - df[f'{grp}_EXP']\n",
    "    bal_lt = bal.dropna().iloc[-1]\n",
    "    bal_lt_dt = dtxt(bal.dropna().index[-1])['qtr1']\n",
    "    def_sur = 'deficit' if bal_lt < 0 else 'surplus'\n",
    "    df[f'{grp}_BAL'] = bal\n",
    "    \n",
    "    for col in df.columns:\n",
    "        data[col] = df[col]\n",
    "        data[col+'_GDP'] = df[col].div(gdp, axis=0) * 100\n",
    "        \n",
    "    bal_gdp = data[f'{grp}_BAL_GDP'].dropna().iloc[-1]\n",
    "    bal_txt = (f'In {bal_lt_dt}, the {d[group][\"name\"]} {def_sur} was '+\n",
    "               f'\\${abs(bal_lt) / 1000:,.0f} billion or {abs(bal_gdp):.1f} percent of GDP. ')\n",
    "    \n",
    "    exp_txt = (f'{d[group][\"name\"].capitalize()} expenditures total '+\n",
    "               f'\\${data[grp+\"_EXP\"].iloc[-1] / 1000000:.1f} trillion, '+\n",
    "               f'or {data[grp+\"_EXP_GDP\"].iloc[-1]:.1f} percent of GDP, in {ltdate}. ')\n",
    "    \n",
    "    if pd.isna(df[[i for i in df.columns if i[4:] == 'REC'][0]].iloc[-1]) == True:\n",
    "        rec_txt = (f'BEA has not yet released receipts data for {ltdate}, however, '+\n",
    "                   f'in {bal_lt_dt}, {d[group][\"name\"]} receipts total '+\n",
    "                   f'\\${data[grp+\"_REC\"].dropna().iloc[-1] / 1000000:.1f} trillion, '+\n",
    "                   f'or {data[grp+\"_REC_GDP\"].dropna().iloc[-1]:.1f} percent of GDP. ')\n",
    "    else:\n",
    "        rec_txt = ('Receipts for the same period total '+\n",
    "                   f'\\${data[grp+\"_REC\"].dropna().iloc[-1] / 1000000:.1f} trillion '+\n",
    "                   f'or {data[grp+\"_REC_GDP\"].dropna().iloc[-1]:.1f} percent of GDP. ')\n",
    "    \n",
    "    text = exp_txt + rec_txt + bal_txt\n",
    "    write_txt(text_dir / f'{group}.txt', text)\n",
    "    print(text)"
   ]
  },
  {
   "cell_type": "code",
   "execution_count": null,
   "metadata": {},
   "outputs": [],
   "source": []
  },
  {
   "cell_type": "code",
   "execution_count": null,
   "metadata": {},
   "outputs": [],
   "source": []
  },
  {
   "cell_type": "markdown",
   "metadata": {},
   "source": [
    "### Public Debt by Holder"
   ]
  },
  {
   "cell_type": "code",
   "execution_count": 9,
   "metadata": {
    "ExecuteTime": {
     "end_time": "2023-08-01T00:31:46.509731Z",
     "start_time": "2023-08-01T00:31:44.832194Z"
    }
   },
   "outputs": [],
   "source": [
    "series = ['FDHBATN', 'GFDEBTN', 'FDHBFRBN', 'FDHBPIN', 'FDHBFIN']\n",
    "start = '1988-01-01'\n",
    "ftype = '&file_type=json'\n",
    "base = 'https://api.stlouisfed.org/fred/series/observations?'\n",
    "\n",
    "df = pd.DataFrame()\n",
    "\n",
    "for srs in series:\n",
    "    param = f'series_id={srs}&observation_start={start}&api_key={fred_key}'\n",
    "    url = f'{base}{param}{ftype}'\n",
    "    r = requests.get(url).json()['observations']\n",
    "    data = pd.Series({pd.to_datetime(i['date']): (float(i['value']) / 1000.0) \n",
    "                      if srs in series[:2] \n",
    "                      else float(i['value']) for i in r})\n",
    "    df[srs] = data"
   ]
  },
  {
   "cell_type": "code",
   "execution_count": 10,
   "metadata": {
    "ExecuteTime": {
     "end_time": "2023-08-01T00:31:48.989126Z",
     "start_time": "2023-08-01T00:31:48.947888Z"
    }
   },
   "outputs": [
    {
     "name": "stdout",
     "output_type": "stream",
     "text": [
      "In the fourth quarter of 2022, total \\href{https://www.fiscal.treasury.gov/reports-statements/treasury-bulletin/current.html}{public debt} was \\$31.4 trillion, equivalent to 120.2 percent of GDP. Of this, \\$11.7 trillion, or 37.2 percent of the total, is held by private domestic investors (see\\cbox{green!60!black}). An additional \\$7.3 trillion, or 23.3 percent of the total, is held by foreign investors (see\\cbox{orange!70!white}). The remainder is held by the Federal Reserve (see\\cbox{blue}) and various government agencies and trusts (see\\cbox{cyan!50!white}), such as the Social Security Trust Fund. \n"
     ]
    }
   ],
   "source": [
    "df = df.dropna()\n",
    "df['PD'] = df['FDHBPIN'] - df['FDHBFIN']\n",
    "df['IG'] = df['GFDEBTN'] - (df['FDHBFRBN'] + df['FDHBPIN'])\n",
    "\n",
    "gdp = nipa_df(retrieve_table('T10105')['Data'], ['A191RC'])['A191RC']\n",
    "\n",
    "data = df.loc['1989':].div(gdp / 1000.0, axis=0).dropna()\n",
    "\n",
    "(data[['PD', 'FDHBFIN', 'FDHBFRBN', 'IG']] * 100).to_csv(data_dir / 'pubdebt.csv', \n",
    "                                                         index_label='date')\n",
    "\n",
    "ld = pd.to_datetime(df.index[-1])\n",
    "ldate = dtxt(ld)['qtr2']\n",
    "\n",
    "sh = df.div(df['GFDEBTN'], axis=0).iloc[-1] * 100\n",
    "lv = df.iloc[-1] / 1000\n",
    "dl = data.iloc[-1] * 100\n",
    "url = 'https://www.fiscal.treasury.gov/reports-statements/treasury-bulletin/current.html'\n",
    "text = (f'In {ldate}, total \\href{{{url}}}{{public debt}} was '+\n",
    "        f'\\${lv.GFDEBTN:.1f} trillion, equivalent to {dl.GFDEBTN:.1f} percent '+\n",
    "        f'of GDP. Of this, \\${lv.PD:.1f} trillion, or {sh.PD:.1f} percent of '+\n",
    "        'the total, is held by private domestic investors (see\\cbox{green!60!black}). '+\n",
    "        f'An additional \\${lv.FDHBFIN:.1f} trillion, or {sh.FDHBFIN:.1f} percent '+\n",
    "        'of the total, is held by foreign investors (see\\cbox{orange!70!white}). '+\n",
    "        'The remainder is held by the Federal Reserve (see\\cbox{blue}) '+\n",
    "        'and various government agencies and trusts (see\\cbox{cyan!50!white}), '+\n",
    "        'such as the Social Security Trust Fund. ')\n",
    "write_txt(text_dir / 'pubdebt.txt', text)\n",
    "print(text)"
   ]
  },
  {
   "cell_type": "code",
   "execution_count": null,
   "metadata": {},
   "outputs": [],
   "source": []
  },
  {
   "cell_type": "code",
   "execution_count": null,
   "metadata": {},
   "outputs": [],
   "source": []
  },
  {
   "cell_type": "markdown",
   "metadata": {},
   "source": [
    "### Personal Income"
   ]
  },
  {
   "cell_type": "code",
   "execution_count": 40,
   "metadata": {
    "ExecuteTime": {
     "end_time": "2023-07-27T12:27:18.456727Z",
     "start_time": "2023-07-27T12:27:18.309698Z"
    }
   },
   "outputs": [
    {
     "name": "stdout",
     "output_type": "stream",
     "text": [
      "Aggregate real personal income increased at an annualized rate of 1.59 percent in 2023 Q2. Labor income contributed 1.61 percentage points to overall growth, capital income contributed 0.30 percentage point, and welfare income subtracted 0.32 percentage point. \n"
     ]
    }
   ],
   "source": [
    "# deflator\n",
    "d = nipa_df(retrieve_table('T20304')['Data'], ['DPCERG'])['DPCERG']\n",
    "deflator = d.iloc[-1] / d\n",
    "\n",
    "# collect and combine series\n",
    "s = ['A065RC', 'A033RC', 'A041RC', 'A048RC', 'W210RC', 'A577RC', 'A061RC']\n",
    "df = (nipa_df(retrieve_table('T20100')['Data'], s)\n",
    "      .assign(CAPITAL = lambda x: x['A041RC'] + x['A048RC'] + x['W210RC'],\n",
    "              TRANSFER = lambda x: x['A577RC'] - x['A061RC'])\n",
    "      .drop(['A061RC', 'A041RC', 'A048RC', 'W210RC', 'A577RC'], axis=1)\n",
    "      .multiply(deflator, axis=0))\n",
    "growth_contrib(df, 'A065RC').loc['1989':].to_csv(data_dir / 'pi.csv', index_label='date')\n",
    "\n",
    "data = growth_contrib(df, 'A065RC').rename({'A065RC': 'TOTAL', 'A033RC': 'LABOR'}, axis=1)\n",
    "\n",
    "ltdate = dtxt(data.index[-1])['qtr1']\n",
    "tot = value_text(data['TOTAL'].iloc[-1], adj='annualized', digits=2)\n",
    "slist = ['LABOR', 'CAPITAL', 'TRANSFER']\n",
    "style = {k: 'contribution' for k in slist}\n",
    "style['LABOR'] = 'contribution_to'\n",
    "d = {}\n",
    "for i in slist:\n",
    "    d[i] = value_text(data[i].iloc[-1], style=style[i], \n",
    "                      ptype='pp', digits=2)\n",
    "text = (f'Aggregate real personal income {tot} in {ltdate}. '+\n",
    "        f'Labor income {d[\"LABOR\"]} overall growth, capital '+\n",
    "        f'income {d[\"CAPITAL\"]}, and welfare income {d[\"TRANSFER\"]}. ')\n",
    "write_txt(text_dir / 'pi.txt', text)\n",
    "print(text)"
   ]
  },
  {
   "cell_type": "code",
   "execution_count": null,
   "metadata": {},
   "outputs": [],
   "source": []
  },
  {
   "cell_type": "code",
   "execution_count": null,
   "metadata": {},
   "outputs": [],
   "source": []
  },
  {
   "cell_type": "markdown",
   "metadata": {
    "ExecuteTime": {
     "end_time": "2020-10-14T06:23:18.467227Z",
     "start_time": "2020-10-14T06:23:18.460090Z"
    }
   },
   "source": [
    "### Government Personal Income"
   ]
  },
  {
   "cell_type": "code",
   "execution_count": 41,
   "metadata": {
    "ExecuteTime": {
     "end_time": "2023-07-27T12:27:20.450568Z",
     "start_time": "2023-07-27T12:27:20.319188Z"
    }
   },
   "outputs": [
    {
     "name": "stdout",
     "output_type": "stream",
     "text": [
      "In 2023 Q2, government worker wages and salaries, not including benefits, were equivalent to \\$5,060 per capita, following a price-adjusted \\$5,141 in 2019 Q4 (see {\\color{orange}\\textbf{---}}). Welfare payments were equivalent to \\$11,944 per capita in 2023 Q2, compared to \\$10,822 per capita in 2019 Q4 (see {\\color{violet}\\textbf{---}}). In 1989 Q1, welfare payments were equivalent to \\$4,388 per person.  \n",
      "\n",
      " Personal current taxes and social insurance contributions total \\$13,862 per capita in 2023 Q2, \\$12,696 in 2019 Q4, and \\$8,038 in 1989 (see {\\color{cyan!80!blue}\\textbf{---}}).\n"
     ]
    }
   ],
   "source": [
    "s = ['DPCERG']\n",
    "\n",
    "d = nipa_df(retrieve_table('T20304')['Data'], s)['DPCERG']\n",
    "deflator = d.iloc[-1] / d\n",
    "\n",
    "s = ['B230RC']\n",
    "\n",
    "population = nipa_df(retrieve_table('T20100')['Data'], s)['B230RC']\n",
    "\n",
    "s = ['A063RC', 'B202RC', 'A061RC', 'W055RC']\n",
    "df = nipa_df(retrieve_table('T20100')['Data'], s)\n",
    "\n",
    "n = {'A063RC': 'Welfare',\n",
    "     'B202RC': 'WandS'}\n",
    "result = df.multiply(deflator, axis=0).divide(population, axis=0)\n",
    "result['TaxSI'] = result['A061RC'] + result['W055RC']\n",
    "result = result.drop(['A061RC', 'W055RC'], axis=1).rename(n, axis=1)\n",
    "result.loc['1989':].to_csv(data_dir / 'govpi.csv', index_label='date')\n",
    "\n",
    "ltdate = dtxt(result.index[-1])['qtr1']\n",
    "prdt = '2019-10-01'\n",
    "prdate = dtxt(pd.to_datetime(prdt))['qtr1']\n",
    "wsltval = result['WandS'].iloc[-1] * 1_000\n",
    "wsprval = result.loc[prdt, 'WandS'] * 1_000\n",
    "wltval = result['Welfare'].iloc[-1] * 1_000\n",
    "wprval = result.loc[prdt, 'Welfare'] * 1_000\n",
    "w89val = result.loc['1989-01-01', 'Welfare'] * 1_000\n",
    "tltval = result['TaxSI'].iloc[-1] * 1_000\n",
    "tprval = result.loc[prdt, 'TaxSI'] * 1_000\n",
    "t89val = result.loc['1989-01-01', 'TaxSI'] * 1_000\n",
    "\n",
    "text = (f'In {ltdate}, government worker wages and salaries, not including '+\n",
    "        f'benefits, were equivalent to \\${wsltval:,.0f} per capita, following a '+\n",
    "        f'price-adjusted \\${wsprval:,.0f} in {prdate} '+\n",
    "        '(see {\\color{orange}\\\\textbf{---}}). Welfare payments were equivalent '+\n",
    "        f'to \\${wltval:,.0f} per capita in {ltdate}, compared to \\${wprval:,.0f} '+\n",
    "        f'per capita in {prdate} '+\n",
    "        '(see {\\color{violet}\\\\textbf{---}}). In 1989 Q1, welfare payments were '+\n",
    "        f'equivalent to \\${w89val:,.0f} per person.  \\n\\n Personal current taxes '+\n",
    "        f'and social insurance contributions total \\${tltval:,.0f} per capita '+\n",
    "        f'in {ltdate}, \\${tprval:,.0f} in {prdate}, and \\${t89val:,.0f} in 1989 '+\n",
    "        '(see {\\color{cyan!80!blue}\\\\textbf{---}}).')\n",
    "write_txt(text_dir / 'govpi.txt', text)\n",
    "print(text)"
   ]
  },
  {
   "cell_type": "code",
   "execution_count": null,
   "metadata": {},
   "outputs": [],
   "source": []
  },
  {
   "cell_type": "code",
   "execution_count": null,
   "metadata": {},
   "outputs": [],
   "source": []
  },
  {
   "cell_type": "markdown",
   "metadata": {
    "ExecuteTime": {
     "end_time": "2020-10-14T15:23:11.647340Z",
     "start_time": "2020-10-14T15:23:11.645438Z"
    }
   },
   "source": [
    "### Government Consumption and Investment"
   ]
  },
  {
   "cell_type": "code",
   "execution_count": 42,
   "metadata": {
    "ExecuteTime": {
     "end_time": "2023-07-27T12:27:21.978245Z",
     "start_time": "2023-07-27T12:27:21.886039Z"
    }
   },
   "outputs": [
    {
     "name": "stdout",
     "output_type": "stream",
     "text": [
      "In 2023 Q2, federal non-defense spending and investment was \\$776.5 billion, equivalent to 2.9 percent of GDP (see {\\color{green!85!black}\\textbf{---}}), compared to 2.7 percent of GDP in 2019 Q4. Federal spending on national defense was equivalent to 3.6 percent of GDP in the latest quarter and 4.0 percent in 2019 Q4 (see {\\color{blue!60!black}\\textbf{---}}). National defense spending was 6.9 percent of GDP in 1989 Q1. \n",
      "\n",
      " In 2023 Q2, state and local government spending and investment was equivalent to 10.9 percent of GDP, compared to 11.0 percent in 2019 Q4 (see {\\color{purple!70!magenta}\\textbf{---}}).\n"
     ]
    }
   ],
   "source": [
    "s = ['A823RC', 'A829RC', 'A191RC', 'A824RC', 'A825RC']\n",
    "df = nipa_df(retrieve_table('T10105')['Data'], s).sort_index()\n",
    "result = df.drop('A191RC', axis=1).divide(df['A191RC'], axis=0) * 100\n",
    "result.loc['1989':].to_csv(data_dir / 'govci.csv', index_label='date')\n",
    "\n",
    "ltdate = dtxt(result.index[-1])['qtr1']\n",
    "prdt = pd.to_datetime('2019-10-01')\n",
    "prdate = dtxt(prdt)['qtr1']\n",
    "fndnom = df['A825RC'].iloc[-1] / 1_000\n",
    "fndlt = result['A825RC'].iloc[-1]\n",
    "fndpr = result.loc[prdt, 'A825RC']\n",
    "dlt = result['A824RC'].iloc[-1]\n",
    "dpr = result.loc[prdt, 'A824RC']\n",
    "d89 = result.loc['1989-01-01', 'A824RC']\n",
    "slt = result['A829RC'].iloc[-1]\n",
    "spr = result.loc[prdt, 'A829RC']\n",
    "\n",
    "text = (f'In {ltdate}, federal non-defense spending and investment '+\n",
    "        f'was \\${fndnom:,.1f} billion, equivalent to {fndlt:.1f} percent '+\n",
    "        'of GDP (see {\\color{green!85!black}\\\\textbf{---}}), compared '+\n",
    "        f'to {fndpr:.1f} percent of GDP in {prdate}. Federal spending '+\n",
    "        f'on national defense was equivalent to {dlt:.1f} percent of '+\n",
    "        f'GDP in the latest quarter and {dpr:.1f} percent in {prdate} '+\n",
    "        '(see {\\color{blue!60!black}\\\\textbf{---}}). National defense '\n",
    "        f'spending was {d89:.1f} percent of GDP in 1989 Q1. \\n\\n In '+\n",
    "        f'{ltdate}, state and local government spending and investment '+\n",
    "        f'was equivalent to {slt:.1f} percent of GDP, compared to '+\n",
    "        f'{spr:.1f} percent in {prdate} '+\n",
    "        '(see {\\color{purple!70!magenta}\\\\textbf{---}}).')\n",
    "write_txt(text_dir / 'govci.txt', text)\n",
    "print(text)"
   ]
  },
  {
   "cell_type": "code",
   "execution_count": null,
   "metadata": {},
   "outputs": [],
   "source": []
  },
  {
   "cell_type": "code",
   "execution_count": null,
   "metadata": {},
   "outputs": [],
   "source": []
  },
  {
   "cell_type": "markdown",
   "metadata": {},
   "source": [
    "### Consumer Spending Growth Contributions"
   ]
  },
  {
   "cell_type": "code",
   "execution_count": 43,
   "metadata": {
    "ExecuteTime": {
     "end_time": "2023-07-27T12:27:23.707994Z",
     "start_time": "2023-07-27T12:27:23.577952Z"
    }
   },
   "outputs": [],
   "source": [
    "s = ['B230RC']\n",
    "population = nipa_df(retrieve_table('T20100')['Data'], s)['B230RC']\n",
    "s = ['DPCERG']\n",
    "d = nipa_df(retrieve_table('T20304')['Data'], s)['DPCERG']\n",
    "deflator = d.iloc[-1] / d\n",
    "\n",
    "s = ['A067RC', 'A068RC', 'A071RC', 'DPCERC']\n",
    "\n",
    "df = (nipa_df(retrieve_table('T20100')['Data'], s)\n",
    "      .assign(OTHER = lambda x: -(x['A068RC'] - x['DPCERC']),\n",
    "              SAVING = lambda x: -x['A071RC'])\n",
    "      .drop(['A068RC'], axis=1)\n",
    "      .divide(population, axis=0)\n",
    "      .multiply(deflator, axis=0))\n",
    "\n",
    "data = growth_contrib(df, 'DPCERC').rolling(4).mean()\n",
    "data3y = growth_contrib(df, 'DPCERC').rolling(12).mean()\n",
    "data.loc['1989':].to_csv(data_dir / 'pcedecomp.csv', index_label='date')"
   ]
  },
  {
   "cell_type": "code",
   "execution_count": 44,
   "metadata": {
    "ExecuteTime": {
     "end_time": "2023-07-27T12:27:24.963814Z",
     "start_time": "2023-07-27T12:27:24.938087Z"
    },
    "scrolled": true
   },
   "outputs": [
    {
     "name": "stdout",
     "output_type": "stream",
     "text": [
      "Real per capita consumer spending increased at an average rate of 1.8 percent over the four quarters ending 2023 Q2. Changes to disposable income added 3.9 percentage points, changes to saving subtracted 1.4 percentage points, and changes to other outlays subtracted 0.7 percentage point. During 2019, real per capita consumer spending increased at an average rate of 1.5 percent. Increased income contributed 3.3 percentage points, and a slight increase in saving subtracted 1.7 percentage points.\n"
     ]
    }
   ],
   "source": [
    "date = f'{data.index[-1].year} Q{data.index[-1].quarter}'\n",
    "pcetext = value_text(data['DPCERC'].iloc[-1], adj='average')\n",
    "\n",
    "slist = ['A067RC', 'SAVING', 'OTHER']\n",
    "d = {}\n",
    "for i in slist:\n",
    "    val = data[i].iloc[-1]\n",
    "    vt = value_text(data[i].iloc[-1], style='contribution', \n",
    "           ptype='pp', casual=True)\n",
    "    if f'{abs(val):.1f}' == '0.0':\n",
    "        vt = \"didn't affect the total\"\n",
    "    d[i] = vt\n",
    "pce19 = value_text(data.loc['2019', 'DPCERC'].mean(), adj='average')\n",
    "dpi19 = value_text(data.loc['2019', 'A067RC'].mean(), style='contribution', \n",
    "           ptype='pp')\n",
    "save19 = value_text(data.loc['2019', 'SAVING'].mean(), style='contribution', \n",
    "           ptype='pp')\n",
    "\n",
    "pcetxt = (f'Real per capita consumer spending {pcetext} over the '+\n",
    "          f'four quarters ending {date}. Changes to disposable income '+\n",
    "          f'{d[\"A067RC\"]}, changes to saving {d[\"SAVING\"]}, and '+\n",
    "          f'changes to other outlays {d[\"OTHER\"]}. '+\n",
    "          f'During 2019, real per capita consumer spending {pce19}. '+\n",
    "          f'Increased income {dpi19}, and a slight increase in saving {save19}.')\n",
    "write_txt(text_dir / 'pcedecomp.txt', pcetxt)\n",
    "print(pcetxt)"
   ]
  },
  {
   "cell_type": "code",
   "execution_count": null,
   "metadata": {},
   "outputs": [],
   "source": []
  },
  {
   "cell_type": "code",
   "execution_count": null,
   "metadata": {},
   "outputs": [],
   "source": []
  },
  {
   "cell_type": "markdown",
   "metadata": {},
   "source": [
    "### Sectoral Accounts\n",
    "\n",
    "**NOTE:** Need to convert \"deficit\", \"borrower\" etc to parameters!"
   ]
  },
  {
   "cell_type": "code",
   "execution_count": 45,
   "metadata": {
    "ExecuteTime": {
     "end_time": "2023-07-27T12:27:26.599391Z",
     "start_time": "2023-07-27T12:27:26.593397Z"
    }
   },
   "outputs": [],
   "source": [
    "def sect_txt(val):\n",
    "    lb = ('borrower', 'deficit') if val < 0 else ('lender', 'surplus')\n",
    "    d = {'v': val,\n",
    "         'vt': f'{val:.1f}',\n",
    "         'avt': f'{abs(val):.1f}',\n",
    "         'vg': f'the equivalent of {abs(val):.1f} percent of GDP',\n",
    "         'lb': lb[0],\n",
    "         'ds': lb[1]}\n",
    "    return d"
   ]
  },
  {
   "cell_type": "code",
   "execution_count": 46,
   "metadata": {
    "ExecuteTime": {
     "end_time": "2023-07-27T12:27:27.919839Z",
     "start_time": "2023-07-27T12:27:27.763325Z"
    }
   },
   "outputs": [
    {
     "name": "stdout",
     "output_type": "stream",
     "text": [
      "In 2023 Q1, the US private sector was a net lender (running a surplus) of the equivalent of 4.1 percent of GDP, slightly below the 4.5 percent surplus in 2019. The rest of the world was a net lender to the US to the equivalent of 3.5 percent of GDP in 2023 Q1, compared to 2.2 percent in 2019. Balancing these transactions, the government (federal, state, and local combined) was a net borrower (running a deficit) of the equivalent of 7.6 percent of GDP in 2023 Q1, compared to 6.7 percent in 2019.  \n",
      "\n",
      "Breaking out the two main categories in the private sector, households were net lenders (ran a surplus) of the equivalent of 2.1 percent of GDP in 2023 Q1 (see\\cbox{orange!90!yellow}), while private businesses--corporate and noncorporate--were net lenders of the equivalent of 2.0 percent of GDP (see\\cbox{purple!50!red}). In 2019, households were net lenders of 5.4 percent, and private businesses were net borrowers of 0.9 percent.\n"
     ]
    }
   ],
   "source": [
    "gdp = nipa_df(retrieve_table('T10105')['Data'], ['A191RC'])['A191RC']\n",
    "s = ['W162RC', 'W994RC', 'AD01RC', 'W995RC', 'W996RC', 'AD03RC']\n",
    "sb = nipa_df(retrieve_table('T50100')['Data'], s)\n",
    "df = (sb.div(gdp, axis=0) * 100).dropna()\n",
    "res = df[['W995RC', 'W996RC', 'AD03RC']].loc['1989':]\n",
    "res.to_csv(data_dir / 'sectbal2.csv', index_label='date')\n",
    "\n",
    "data = pd.DataFrame()\n",
    "data['PRIV'] = df['W994RC']\n",
    "data['GOV'] = df['AD01RC']\n",
    "data['ROW'] = -df['W162RC'] # Negative in raw data\n",
    "data = data.dropna().loc['1989':]\n",
    "data.to_csv(data_dir / 'sectbal.csv', index_label='date')\n",
    "\n",
    "date = dtxt(data.index[-1])['qtr1']\n",
    "pcdt = '2019-10-01'\n",
    "\n",
    "priv = sect_txt(data.PRIV.iloc[-1])\n",
    "privpr = sect_txt(data.loc['2019', 'PRIV'].mean())\n",
    "row = sect_txt(data.ROW.iloc[-1])\n",
    "rowpr = sect_txt(data.loc['2019', 'ROW'].mean())\n",
    "gov = sect_txt(data.GOV.iloc[-1])\n",
    "govpr = sect_txt(data.loc['2019', 'GOV'].mean())\n",
    "\n",
    "compare = compare_text(priv['v'], privpr['v'], [0.4, 1.0, 3.5])\n",
    "\n",
    "txt = (f\"In {date}, the US private sector was a net {priv['lb']} \"+\n",
    "       f\"(running a {priv['ds']}) of {priv['vg']}, {compare} the \"+\n",
    "       f\"{privpr['avt']} percent surplus in 2019. The rest of the world \"+\n",
    "       f\"was a net {row['lb']} to the US to {row['vg']} in {date}, compared \"+\n",
    "       f\"to {rowpr['avt']} percent in 2019. Balancing these transactions, \"+\n",
    "       \"the government (federal, state, and local combined) was a net \"+\n",
    "       f\"{gov['lb']} (running a {gov['ds']}) of {gov['vg']} in {date}, \"+\n",
    "       f\"compared to {govpr['avt']} percent in 2019. \")\n",
    "write_txt(text_dir / 'sectbal.txt', txt)\n",
    "print(txt, '\\n')\n",
    "\n",
    "date = dtxt(df.index[-1])['qtr1']\n",
    "hh = sect_txt(df.W996RC.iloc[-1])\n",
    "hhpr = sect_txt(df.loc['2019', 'W996RC'].mean())\n",
    "pb = sect_txt(df.W995RC.iloc[-1])\n",
    "pbpr = sect_txt(df.loc['2019', 'W995RC'].mean())   \n",
    "text = ('Breaking out the two main categories in the private sector, households '+\n",
    "       f'were net {hh[\"lb\"]}s (ran a {hh[\"ds\"]}) of {hh[\"vg\"]} in {date} '+\n",
    "        '(see\\cbox{orange!90!yellow}), while private businesses--corporate '+\n",
    "       f'and noncorporate--were net {pb[\"lb\"]}s of {pb[\"vg\"]} '+\n",
    "       '(see\\cbox{purple!50!red}). In 2019, households were net '+\n",
    "       f'{hhpr[\"lb\"]}s of {hhpr[\"avt\"]} percent, and private businesses were net '+\n",
    "       f'{pbpr[\"lb\"]}s of {pbpr[\"avt\"]} percent.') \n",
    "write_txt(text_dir / 'sectbal2.txt', text)\n",
    "print(text)"
   ]
  },
  {
   "cell_type": "code",
   "execution_count": null,
   "metadata": {},
   "outputs": [],
   "source": []
  },
  {
   "cell_type": "code",
   "execution_count": null,
   "metadata": {},
   "outputs": [],
   "source": []
  },
  {
   "cell_type": "markdown",
   "metadata": {},
   "source": [
    "### Current Account Balance"
   ]
  },
  {
   "cell_type": "code",
   "execution_count": 47,
   "metadata": {
    "ExecuteTime": {
     "end_time": "2023-07-27T12:27:30.843493Z",
     "start_time": "2023-07-27T12:27:30.569037Z"
    },
    "code_folding": []
   },
   "outputs": [
    {
     "name": "stdout",
     "output_type": "stream",
     "text": [
      "As of 2023 Q1, the US runs a current account deficit of 3.4 percent of GDP, primarily as the result of a trade deficit on goods of 4.0 percent of GDP. The initial GDP report for 2023 Q2 does not include the data needed to calculate the current account balance, however, the goods trade deficit for 2023 Q2 is equivalent to 4.0 percent of GDP. \n"
     ]
    }
   ],
   "source": [
    "s = ['A191RC']\n",
    "\n",
    "gdp = nipa_df(retrieve_table('T10105')['Data'], s)\n",
    "\n",
    "n = {'A124RC': 'Current Account Balance',\n",
    "     'A1073C': 'Current Receipts',\n",
    "     'B020RC': '\\hspace{1mm}Exports',\n",
    "     'A253RC': '\\hspace{3mm}Goods',\n",
    "     'A332RC': '\\hspace{5mm}Durable',\n",
    "     'A339RC': '\\hspace{5mm}Non-Durable',\n",
    "     'A646RC': '\\hspace{3mm}Services',\n",
    "     'B645RC': '\\hspace{1mm}Income Receipts',\n",
    "     'LA000035': '\\hspace{1mm}Transfer Receipts',\n",
    "     'W163RC': 'Current payments',\n",
    "     'B021RC': '\\hspace{1mm}Imports',\n",
    "     'A255RC': '\\hspace{3mm}Goods',\n",
    "     'A333RC': '\\hspace{5mm}Durable',\n",
    "     'A340RC': '\\hspace{5mm}Non-Durable',\n",
    "     'B656RC': '\\hspace{3mm}Services',\n",
    "     'A655RC': '\\hspace{1mm}Income Payments',\n",
    "     'A123RC': '\\hspace{1mm}Transfer Payments'}\n",
    "\n",
    "s = ['A124RC', 'GOODS', 'SERVICES', 'INCOME', 'TRANSFERS']\n",
    "\n",
    "df = (nipa_df(retrieve_table('T40100')['Data'], n.keys())\n",
    "      .assign(GOODS = lambda x: x['A253RC'] - x['A255RC'],\n",
    "              SERVICES = lambda x: x['A646RC'] - x['B656RC'],\n",
    "              INCOME = lambda x: x['B645RC'] - x['A655RC'],\n",
    "              TRANSFERS = lambda x: - x['A123RC']))\n",
    "\n",
    "data = (df.div(nipa_df(retrieve_table('T10105')['Data'], ['A191RC']\n",
    "               )['A191RC'], axis=0).loc['1989':].multiply(100).round(2))\n",
    "\n",
    "data.loc['1989':, s].dropna().to_csv(data_dir / 'cab.csv', index_label='date')\n",
    "\n",
    "node = end_node(data['A124RC'].dropna(), 'black', date='q', \n",
    "                full_year=True, percent=True)\n",
    "write_txt(text_dir / 'cab_node.txt', node)  \n",
    "\n",
    "cab = abs(data.dropna()['A124RC'].iloc[-1])\n",
    "tb = abs(data.dropna()['GOODS'].iloc[-1])\n",
    "ld = dtxt(data.dropna().index[-1])['qtr1']\n",
    "ltdate = dtxt(data.index[-1])['qtr1']\n",
    "prdate = dtxt(data.index[-2])['qtr1']\n",
    "lttbval = abs(data['GOODS'].iloc[-1])\n",
    "tbprval = abs(data['GOODS'].iloc[-2])\n",
    "prval = abs(data['A124RC'].iloc[-2])\n",
    "\n",
    "if pd.isna(data['A124RC'].iloc[-1]) == True:\n",
    "    mtxt = (f'The initial GDP report for {ltdate} does not include the '+\n",
    "            'data needed to calculate the current account balance, however, '+\n",
    "            f'the goods trade deficit for {ltdate} is equivalent to '+\n",
    "            f'{lttbval:.1f} percent of GDP. ')\n",
    "else:\n",
    "    mtxt = (f'In {prdate}, the current account deficit was equivalent to '\n",
    "            f'{prval:.1f}, and the trade deficit was equivalent to '+\n",
    "            f'{tbprval:.1f} percent of GDP.')\n",
    "\n",
    "text = (f'As of {ld}, the US runs a current account deficit of {cab:.1f} '+\n",
    "        'percent of GDP, primarily as the result of a trade deficit on '+\n",
    "        f'goods of {tb:.1f} percent of GDP. {mtxt}')\n",
    "write_txt(text_dir / 'cab.txt', text)\n",
    "print(text)"
   ]
  },
  {
   "cell_type": "code",
   "execution_count": 48,
   "metadata": {
    "ExecuteTime": {
     "end_time": "2023-07-27T12:27:31.484046Z",
     "start_time": "2023-07-27T12:27:31.468240Z"
    }
   },
   "outputs": [],
   "source": [
    "result = data[n.keys()]\n",
    "data2 = result.iloc[-6:].iloc[::-1].T\n",
    "\n",
    "cols = [f' {q.year} Q{q.quarter}' \n",
    "        if i == 0 else f'`{str(q.year)[2:]} Q{q.quarter}'\n",
    "        for i, q in enumerate(data2.columns)]\n",
    "\n",
    "data2.columns = cols\n",
    "data2['3-year'] = result.rolling(13).mean().iloc[-1].round(2)\n",
    "data2['10-year'] = result.rolling(41).mean().iloc[-1].round(2)\n",
    "data2.index = data2.index.map(n)\n",
    "data2 = data2.applymap('{:.2f}'.format).replace('nan', '--')\n",
    "data2.to_csv(data_dir / 'cab.tex', sep='&', lineterminator='\\\\\\ ', quotechar=' ')"
   ]
  },
  {
   "cell_type": "code",
   "execution_count": null,
   "metadata": {},
   "outputs": [],
   "source": []
  },
  {
   "cell_type": "code",
   "execution_count": null,
   "metadata": {},
   "outputs": [],
   "source": []
  },
  {
   "cell_type": "markdown",
   "metadata": {},
   "source": [
    "### Federal Interest Outlays share of GDP"
   ]
  },
  {
   "cell_type": "code",
   "execution_count": 49,
   "metadata": {
    "ExecuteTime": {
     "end_time": "2023-07-27T12:27:34.070801Z",
     "start_time": "2023-07-27T12:27:33.380824Z"
    },
    "scrolled": false
   },
   "outputs": [
    {
     "name": "stdout",
     "output_type": "stream",
     "text": [
      "The Office of Management and Budget \\href{https://www.whitehouse.gov/omb/historical-tables/}{report} \\textbf{federal interest outlays} of \\$476 billion in fiscal year 2022, compared to \\$352 billion in fiscal year 2021. Put into the context of the size of the economy, federal interest outlays in fiscal year 2022 were equivalent to 1.90 percent of GDP (see {\\color{magenta}\\textbf{---}}), following 1.56 percent of GDP in FY2021 and 1.64 percent in FY2020, and compared to an average of 2.9 percent in the 1990s, when interest rates were substantially higher. \n",
      "\n",
      " The actual interest expense is slightly lower than the reported figure, because interest paid to the Federal Reserve gets returned to the Treasury. In FY2022, the Fed returned more than \\$90 billion to the Treasury. Adjusting for these remittances, the interest expense was 1.55 percent of GDP in FY2022 (see {\\color{orange}\\textbf{---}}). \n"
     ]
    }
   ],
   "source": [
    "gdp = nipa_df(retrieve_table('T10105')['Data'], ['A191RC'])\n",
    "gdp.index = gdp.index + pd.DateOffset(months=3)\n",
    "gdp = gdp.A191RC.rolling(4).mean()\n",
    "tot = fred_df('FYOINT')['VALUE']\n",
    "tot.index = tot.index + pd.DateOffset(days=1)\n",
    "df = (tot / gdp).dropna() * 100\n",
    "fedadj = pd.read_csv(data_dir / 'fedintadj.csv', index_col='date', \n",
    "                     parse_dates=True)['RESPPLLOP_N.WW']\n",
    "res = pd.DataFrame({'Tot': tot, 'FedAdj': fedadj}).fillna(0.0)\n",
    "adj = res['Tot'] - res['FedAdj']\n",
    "df2 = (adj / gdp).dropna() * 100\n",
    "final = pd.DataFrame({'Tot': df, 'Adj': df2})\n",
    "\n",
    "final.to_csv(data_dir / 'fedintexp.csv', index_label='date')\n",
    "node = end_node(df, 'magenta', digits=2, percent=True, date='fy', offset=0.15)\n",
    "node2 = end_node(df2, 'orange', digits=2, percent=True)\n",
    "write_txt(text_dir / 'fedintexp_nodes.txt', '\\n'.join([node, node2]))\n",
    "val90s = df.loc['1990':'1999'].mean()\n",
    "\n",
    "text = ('The Office of Management and Budget '+\n",
    "        '\\href{https://www.whitehouse.gov/omb/historical-tables/}{report} '+\n",
    "        f'\\\\textbf{{federal interest outlays}} of \\${tot.iloc[-1] / 1000:.0f} '+\n",
    "        f'billion in fiscal year {tot.index[-1].year}, compared to '+\n",
    "        f'\\${tot.iloc[-2] / 1000:.0f} billion in fiscal year '+\n",
    "        f'{tot.index[-2].year}. Put into the context of the size of '+\n",
    "        f'the economy, federal interest outlays in fiscal year '+\n",
    "        f'{df.index[-1].year} were equivalent to {df.iloc[-1]:.2f} '+\n",
    "        'percent of GDP (see {\\color{magenta}\\\\textbf{---}}), following '+\n",
    "        f'{df.iloc[-2]:.2f} percent of GDP in FY{df.index[-2].year} '+\n",
    "        f'and {df.iloc[-3]:.2f} percent in FY{df.index[-3].year}, '+\n",
    "        f'and compared to an average of {val90s:.1f} percent in '+\n",
    "        'the 1990s, when interest rates were substantially higher. ')\n",
    "write_txt(text_dir / 'fedintexp.txt', text)\n",
    "print(text)\n",
    "\n",
    "val = (fedadj / 1_000).iloc[-1].round(-1)\n",
    "adjval = df2.iloc[-1]\n",
    "cl = c_line('orange')\n",
    "text = ('The actual interest expense is slightly lower than the reported '+\n",
    "        'figure, because interest paid to the Federal Reserve gets returned '+\n",
    "        f'to the Treasury. In FY{df.index[-1].year}, '+\n",
    "        f'the Fed returned more than \\${val:.0f} billion to the Treasury. '+\n",
    "        f'Adjusting for these remittances, the interest expense was '+\n",
    "        f'{adjval:.2f} percent of GDP in FY{df.index[-1].year} {cl}. ')\n",
    "write_txt(text_dir / 'fedintexp2.txt', text)\n",
    "print('\\n', text)"
   ]
  },
  {
   "cell_type": "code",
   "execution_count": null,
   "metadata": {},
   "outputs": [],
   "source": []
  },
  {
   "cell_type": "code",
   "execution_count": null,
   "metadata": {},
   "outputs": [],
   "source": []
  },
  {
   "cell_type": "code",
   "execution_count": 48,
   "metadata": {
    "ExecuteTime": {
     "end_time": "2023-06-07T15:02:08.075876Z",
     "start_time": "2023-06-07T15:02:08.072075Z"
    }
   },
   "outputs": [],
   "source": [
    "#nipa_series_codes(retrieve_table('T20100'))"
   ]
  },
  {
   "cell_type": "markdown",
   "metadata": {},
   "source": [
    "### Corporate Profits Destination"
   ]
  },
  {
   "cell_type": "code",
   "execution_count": 50,
   "metadata": {
    "ExecuteTime": {
     "end_time": "2023-07-27T12:27:35.863293Z",
     "start_time": "2023-07-27T12:27:35.752777Z"
    }
   },
   "outputs": [
    {
     "name": "stdout",
     "output_type": "stream",
     "text": [
      "In the first quarter of 2023, corporate profits were \\$2.82 trillion, equivalent to 14.6 percent of the income paid to US nationals after depreciation costs (net national income). Of this, \\$1.65 trillion, equivalent to 8.6 percent of net national income, were paid out as dividends (see\\cbox{blue!70!purple}), \\$678 billion were retained (corporate saving, see\\cbox{cyan!50!white}), and \\$489 billion, 17.3 percent of corporate profits, went to corporate income tax (see\\cbox{red!80!orange}). \n",
      "\n",
      "In 2019, corporate profits were 14.6 percent of net national income. Dividends were equivalent to 9.3 percent, corporate savings were 3.5 percent, and corporate income taxes were 1.8 percent of net national income and 12.4 percent of corporate profits.\n"
     ]
    }
   ],
   "source": [
    "s = ['A032RC', 'A438RC', 'A054RC', 'B056RC', 'A127RC']\n",
    "df = (nipa_df(retrieve_table('T11200')['Data'], s)\n",
    "         / 1_000_000).dropna().rename({})\n",
    "df['NNI'] = df['A032RC'] - df['A438RC']\n",
    "df['TOT'] = df[['A054RC', 'B056RC', 'A127RC']].sum(axis=1)\n",
    "dt = df.index[-1]\n",
    "ltdate = dtxt(df.index[-1])['qtr2']\n",
    "sh = df.div(df.NNI, axis=0) * 100\n",
    "(sh.loc['1989':, ['A054RC', 'B056RC', 'A127RC']]\n",
    "   .to_csv(data_dir / 'cprof.csv', index_label='date'))\n",
    "taxrt = ((df.A054RC / df.TOT) * 100).loc['1989':]\n",
    "taxrt.to_csv(data_dir / 'cprof_taxrt.csv', index_label='date')\n",
    "totsh19 = sh.loc['2019', 'TOT'].mean()\n",
    "divsh19 = sh.loc['2019', 'B056RC'].mean()\n",
    "resh19 = sh.loc['2019', 'A127RC'].mean()\n",
    "taxsh19 = sh.loc['2019', 'A054RC'].mean()\n",
    "taxrt19 = taxrt.loc['2019'].mean()\n",
    "text = (f'In {ltdate}, corporate profits were '+\n",
    "        f'\\${df.TOT.iloc[-1]:.2f} trillion, equivalent to '+\n",
    "        f'{sh.TOT.iloc[-1]:.1f} percent of the income paid '+\n",
    "        'to US nationals after depreciation costs (net national '+\n",
    "        f'income). Of this, \\${df.B056RC.iloc[-1]:.2f} trillion, '+\n",
    "        f'equivalent to {sh.B056RC.iloc[-1]:.1f} percent of '+\n",
    "        'net national income, were paid out as dividends '+\n",
    "        '(see\\cbox{blue!70!purple}), '+\n",
    "        f'\\${df.A127RC.iloc[-1] * 1000:,.0f} billion were '+\n",
    "        'retained (corporate saving, see\\cbox{cyan!50!white}), '+\n",
    "        f'and \\${df.A054RC.iloc[-1] * 1000:.0f} billion, '+\n",
    "        f'{taxrt.iloc[-1]:.1f} percent of corporate profits, '+\n",
    "        'went to corporate income tax (see\\cbox{red!80!orange}). \\n\\n'+\n",
    "        f'In 2019, corporate profits were {totsh19:.1f} percent '+\n",
    "        'of net national income. Dividends were equivalent to '+\n",
    "        f'{divsh19:.1f} percent, corporate savings were '+\n",
    "        f'{resh19:.1f} percent, and corporate income taxes were '+\n",
    "        f'{taxsh19:.1f} percent of net national income '+\n",
    "        f'and {taxrt19:.1f} percent of corporate profits.')\n",
    "write_txt(text_dir / 'cprof.txt', text)\n",
    "print(text)\n",
    "\n",
    "cols = ['B056RC', 'A127RC', 'A054RC']\n",
    "sdf = sh[cols].iloc[-1]\n",
    "height = ((sdf.cumsum() - (sdf / 2) + 1.0)).to_dict()\n",
    "val = sdf.to_dict()\n",
    "dtp = dtxt(sh.index[-1] + pd.DateOffset(months=3))['datetime']\n",
    "nodes = [f'\\\\absnode{{{{{dtp}}}}}{{{height[i]}}}{{\\scriptsize {val[i]:.1f}\\%}}' \n",
    "         for i in cols]\n",
    "dtv = dtxt(sh.index[-1])['qtr1'].replace(' ', '\\\\\\\\ \\scriptsize ')\n",
    "dtn = f'\\\\absnode{{{{{dtp}}}}}{{{sdf.cumsum().iloc[-1] + 3.0}}}{{\\scriptsize{dtv}:}}'\n",
    "nodes.append(dtn)\n",
    "nodetext = '\\n'.join(nodes)\n",
    "write_txt(text_dir / 'cprof_nodes.txt', nodetext)"
   ]
  },
  {
   "cell_type": "code",
   "execution_count": null,
   "metadata": {},
   "outputs": [],
   "source": []
  },
  {
   "cell_type": "code",
   "execution_count": null,
   "metadata": {},
   "outputs": [],
   "source": []
  },
  {
   "cell_type": "markdown",
   "metadata": {},
   "source": [
    "### Corporate profits source"
   ]
  },
  {
   "cell_type": "code",
   "execution_count": 51,
   "metadata": {
    "ExecuteTime": {
     "end_time": "2023-07-27T12:27:37.636246Z",
     "start_time": "2023-07-27T12:27:37.500663Z"
    }
   },
   "outputs": [],
   "source": [
    "# Based loosely on Levy's Where do Profits Come From?\n",
    "s = ['W170RC', 'A262RC', 'W986RC', 'A922RC']\n",
    "df1 = nipa_df(retrieve_table('T50100')['Data'], s)\n",
    "\n",
    "s = ['A123RC']\n",
    "df2 = nipa_df(retrieve_table('T40100')['Data'], s)\n",
    "\n",
    "s = ['A001RC']\n",
    "df3 = nipa_df(retrieve_table('T10705')['Data'], s)\n",
    "\n",
    "cprof = pd.DataFrame()\n",
    "cprof['ROW Saving'] = (df2['A123RC'] / df3['A001RC']) * 100\n",
    "cprof['HH Saving'] = (- df1['W986RC'] / df3['A001RC']) * 100\n",
    "cprof['Gov Saving'] = (- df1['A922RC'] / df3['A001RC']) * 100\n",
    "cprof['Investment'] = ((df1['W170RC'] - df1['A262RC']) / df3['A001RC']) * 100\n",
    "\n",
    "cprof.loc['1989':].to_csv(data_dir / 'cprof2.csv', index_label='date')"
   ]
  },
  {
   "cell_type": "code",
   "execution_count": 51,
   "metadata": {
    "ExecuteTime": {
     "end_time": "2023-06-07T15:02:08.314707Z",
     "start_time": "2023-06-07T15:02:08.312655Z"
    },
    "code_folding": []
   },
   "outputs": [],
   "source": [
    "#nipa_series_codes(retrieve_table('T50100'))"
   ]
  },
  {
   "cell_type": "code",
   "execution_count": null,
   "metadata": {},
   "outputs": [],
   "source": []
  },
  {
   "cell_type": "code",
   "execution_count": null,
   "metadata": {},
   "outputs": [],
   "source": []
  },
  {
   "cell_type": "markdown",
   "metadata": {},
   "source": [
    "### Labor Productivity ST / LT"
   ]
  },
  {
   "cell_type": "code",
   "execution_count": 52,
   "metadata": {
    "ExecuteTime": {
     "end_time": "2023-07-27T12:27:42.517905Z",
     "start_time": "2023-07-27T12:27:41.953108Z"
    }
   },
   "outputs": [
    {
     "name": "stdout",
     "output_type": "stream",
     "text": [
      "Over the longer-term, US labor productivity growth has averaged 2.0 percent per year. The trailing 20-year average growth rate was 1.6 percent in 2023 Q1 (see {\\color{orange!80!yellow}\\textbf{---}}). During the 1990s and early 2000s, labor productivity growth was above its long-term average. In contrast, from 2010 to 2017, productivity growth was below average. Over the year ending 2023 Q1, productivity growth averaged -0.8 percent (see {\\color{blue!80!black}\\textbf{---}}). \n"
     ]
    }
   ],
   "source": [
    "df = fred_df('OPHNFB', start='1968')['VALUE']\n",
    "df = growth_rate(df)\n",
    "lt = df.rolling(80).mean().dropna()\n",
    "st = df.rolling(4).mean().dropna()\n",
    "data = pd.DataFrame({'ST': st, 'LT': lt})\n",
    "data.loc['1989':].to_csv(data_dir / 'prod_st_lt.csv', index_label='date')\n",
    "ltdt = dtxt(data.index[-1])['qtr1']\n",
    "ltavg = data['LT'].mean()\n",
    "lt = data.iloc[-1]\n",
    "colors = {'LT': 'orange!80!yellow', 'ST': 'blue!80!black'}\n",
    "cl = {name: c_line(col) for name, col in colors.items()}\n",
    "text = ('Over the longer-term, US labor productivity growth '+\n",
    "        f'has averaged {ltavg:.1f} percent per year. The trailing 20-'+\n",
    "        f'year average growth rate was {lt[\"LT\"]:.1f} percent in {ltdt} '+\n",
    "        f'{cl[\"LT\"]}. During the 1990s and early 2000s, labor '+\n",
    "        'productivity growth was above its long-term average. '+\n",
    "        'In contrast, from 2010 to 2017, productivity growth '+\n",
    "        f'was below average. Over the year ending {ltdt}, productivity '+\n",
    "        f'growth averaged {lt[\"ST\"]:.1f} percent {cl[\"ST\"]}. ')\n",
    "write_txt(text_dir / 'prod_st_lt.txt', text)\n",
    "print(text)"
   ]
  },
  {
   "cell_type": "code",
   "execution_count": null,
   "metadata": {},
   "outputs": [],
   "source": []
  },
  {
   "cell_type": "code",
   "execution_count": null,
   "metadata": {},
   "outputs": [],
   "source": []
  },
  {
   "cell_type": "markdown",
   "metadata": {},
   "source": [
    "### Labor Productivity"
   ]
  },
  {
   "cell_type": "code",
   "execution_count": 50,
   "metadata": {
    "ExecuteTime": {
     "end_time": "2023-06-29T12:34:29.335100Z",
     "start_time": "2023-06-29T12:34:29.332372Z"
    }
   },
   "outputs": [],
   "source": [
    "# Series stored as a dictionary\n",
    "series = {'PRS85006092': 'value',\n",
    "          'PRS85006032': 'hours',\n",
    "          'PRS85006042': 'output',\n",
    "          'PRS85006033': 'hours_index'}"
   ]
  },
  {
   "cell_type": "code",
   "execution_count": 51,
   "metadata": {
    "ExecuteTime": {
     "end_time": "2023-06-29T12:34:33.001148Z",
     "start_time": "2023-06-29T12:34:30.481600Z"
    }
   },
   "outputs": [
    {
     "name": "stdout",
     "output_type": "stream",
     "text": [
      "Post Request Status: REQUEST_SUCCEEDED\n"
     ]
    }
   ],
   "source": [
    "# Start year and end year\n",
    "dates = (1989, 2023)\n",
    "df = bls_api(series, dates, bls_key)\n",
    "\n",
    "df.to_csv(data_dir / 'lprod.csv', index_label='date')"
   ]
  },
  {
   "cell_type": "code",
   "execution_count": 52,
   "metadata": {
    "ExecuteTime": {
     "end_time": "2023-06-29T12:34:33.020201Z",
     "start_time": "2023-06-29T12:34:33.002849Z"
    }
   },
   "outputs": [
    {
     "name": "stdout",
     "output_type": "stream",
     "text": [
      "In 2023 Q1, nonfarm business labor productivity decreased at an annual rate of 2.1 percent (see\\cbox{teal}), as the result of an increase of 0.5 percent in real output and an increase of 2.6 percent in hours worked. In the prior quarter, 2022 Q4, labor productivity increased at an annual rate of 1.6 percent, as real output increased 2.9 percent and hours of work increased 1.3 percent. Over the past five years, labor productivity growth has averaged 1.5 percent, slightly below the 1989-onward average of 1.9 percent. \n",
      "\n",
      "Total hours worked in nonfarm businesses increased at an annual rate of 2.6 percent in 2023 Q1, following an increase of 1.3 percent in 2022 Q4. From 2017 through 2019, total hours worked increased at an average rate of 1.4 percent. Since 2019, hours worked have increased by a total of 2.7 percent.\n"
     ]
    }
   ],
   "source": [
    "df = pd.read_csv(data_dir / 'lprod.csv', \n",
    "                 index_col='date', parse_dates=True)\n",
    "ltdt = dtxt(df.index[-1])['qtr1']\n",
    "prdt = dtxt(df.index[-2])['qtr1']\n",
    "d = series_info(df['value'])\n",
    "s = {srs: {'lt': value_text(df[srs].iloc[-1], adj='annual'), \n",
    "           'pr': value_text(df[srs].iloc[-2], adj='annual'), \n",
    "           'lt2': value_text(df[srs].iloc[-1], style='increase_of'), \n",
    "           'pr2': value_text(df[srs].iloc[-2]),\n",
    "           'pr3': value_text(df[srs].iloc[-2], style='increase_of')} \n",
    "     for srs in series.values()}\n",
    "compare = compare_text(d['five_year_mean'], d['mean'], [0.1, 0.5, 2.0])\n",
    "\n",
    "text = (f'In {ltdt}, nonfarm business labor productivity {s[\"value\"][\"lt\"]} '+\n",
    "        f'(see\\cbox{{teal}}), as the result of {s[\"output\"][\"lt2\"]} in '+\n",
    "        f'real output and {s[\"hours\"][\"lt2\"]} in hours worked. In the '+\n",
    "        f'prior quarter, {prdt}, labor productivity {s[\"value\"][\"pr\"]}, '+\n",
    "        f'as real output {s[\"output\"][\"pr2\"]} and hours of work '+\n",
    "        f'{s[\"hours\"][\"pr2\"]}. Over the past five years, labor productivity '+\n",
    "        f'growth has averaged {d[\"five_year_mean\"]:.1f} percent, '+\n",
    "        f'{compare} the 1989-onward average of {d[\"mean\"]:.1f} percent.')\n",
    "write_txt(text_dir / 'lprod.txt', text)\n",
    "print(text, '\\n')\n",
    "\n",
    "hr19 = value_text(df.loc['2017': '2019', 'hours'].mean(), adj='average')\n",
    "ch19 = (df['hours_index'].iloc[-1] / \n",
    "        df.loc['2019-10-01', 'hours_index'] - 1) * 100\n",
    "ch19txt = value_text(ch19, 'increase_by', adj='total')\n",
    "text = (f'Total hours worked in nonfarm businesses {s[\"hours\"][\"lt\"]} '+\n",
    "        f'in {ltdt}, following {s[\"hours\"][\"pr3\"]} in {prdt}. From '+\n",
    "        f'2017 through 2019, total hours worked {hr19}. Since 2019, '+\n",
    "        f'hours worked have {ch19txt}.')\n",
    "write_txt(text_dir / 'tot_hours.txt', text)\n",
    "print(text)"
   ]
  },
  {
   "cell_type": "code",
   "execution_count": null,
   "metadata": {},
   "outputs": [],
   "source": []
  },
  {
   "cell_type": "code",
   "execution_count": null,
   "metadata": {},
   "outputs": [],
   "source": []
  },
  {
   "cell_type": "markdown",
   "metadata": {},
   "source": [
    "### Gross Labor Income"
   ]
  },
  {
   "cell_type": "code",
   "execution_count": 6,
   "metadata": {
    "ExecuteTime": {
     "end_time": "2023-07-28T12:56:08.727955Z",
     "start_time": "2023-07-28T12:56:06.692022Z"
    }
   },
   "outputs": [
    {
     "name": "stdout",
     "output_type": "stream",
     "text": [
      "Post Request Status: REQUEST_SUCCEEDED\n"
     ]
    }
   ],
   "source": [
    "s = {'LNS12005054': 'Hours', 'LNS12000000': 'Employment'}\n",
    "df = bls_api(s, (1989, 2023), bls_key)\n",
    "df['Total'] = df['Hours'] * df['Employment']\n",
    "df.to_csv(data_dir / 'emp_hrs.csv', index_label='date')"
   ]
  },
  {
   "cell_type": "code",
   "execution_count": 7,
   "metadata": {
    "ExecuteTime": {
     "end_time": "2023-07-28T12:56:08.801850Z",
     "start_time": "2023-07-28T12:56:08.729437Z"
    }
   },
   "outputs": [
    {
     "name": "stdout",
     "output_type": "stream",
     "text": [
      "increased at an annualized and inflation-adjusted rate of 2.61 percent in 2023 Q2. Changes in wages contributed 1.32 percentage points, and changes in total hours worked contributed 1.29 percentage points.\n"
     ]
    }
   ],
   "source": [
    "emp = (pd.read_csv(data_dir / 'emp_hrs.csv', parse_dates=[0])\n",
    "         .set_index('date')['Total'])\n",
    "coe = nipa_df(retrieve_table('T20100')['Data'], ['A033RC'])\n",
    "pce = nipa_df(retrieve_table('T20304')['Data'], ['DPCERG'])\n",
    "data = coe.join(pce).join(emp.resample('QS').mean()).dropna()\n",
    "data['real_coe'] = data['A033RC'] / (data['DPCERG'] / data['DPCERG'].iloc[-1])\n",
    "data['coe_inp'] = data['real_coe'] / data['Total']\n",
    "data['wage'] = data['coe_inp'] * data['Total'].iloc[0]\n",
    "data['work'] = data['real_coe'] - data['wage']\n",
    "\n",
    "# Calculate contributions to growth\n",
    "result = growth_contrib(data, 'real_coe')[['work', 'wage']]\n",
    "result.dropna().loc['1989':]\n",
    "result.to_csv(data_dir / 'gli.csv', index_label='date')\n",
    "\n",
    "ltdate = dtxt(result.index[-1])['qtr1']\n",
    "totval = result.iloc[-1].sum()\n",
    "wage = result['wage'].iloc[-1]\n",
    "work = result['work'].iloc[-1]\n",
    "\n",
    "incdec = 'increased' if totval > 0 else 'decreased'\n",
    "txt1 = (f'{incdec} at an annualized and inflation-adjusted '+\n",
    "        f'rate of {abs(totval):.2f} percent')\n",
    "\n",
    "if totval == 0:\n",
    "    txt1 = 'was unchanged, after adjusting for inflation,'\n",
    "    \n",
    "txt2 = value_text(wage, 'contribution', 'pp', digits=2)\n",
    "txt3 = value_text(work, 'contribution', 'pp', digits=2)\n",
    "\n",
    "text = (f'{txt1} in {ltdate}. Changes in wages {txt2}, '+\n",
    "        f'and changes in total hours worked {txt3}.')\n",
    "write_txt(text_dir / 'gli.txt', text)\n",
    "print(text)"
   ]
  },
  {
   "cell_type": "code",
   "execution_count": null,
   "metadata": {},
   "outputs": [],
   "source": []
  },
  {
   "cell_type": "code",
   "execution_count": null,
   "metadata": {},
   "outputs": [],
   "source": []
  },
  {
   "cell_type": "markdown",
   "metadata": {},
   "source": [
    "### Financial Obligations Ratio"
   ]
  },
  {
   "cell_type": "code",
   "execution_count": 53,
   "metadata": {
    "ExecuteTime": {
     "end_time": "2023-07-27T12:27:53.512580Z",
     "start_time": "2023-07-27T12:27:53.299919Z"
    }
   },
   "outputs": [
    {
     "name": "stdout",
     "output_type": "stream",
     "text": [
      "As of 2023 Q1, the \\textbf{financial obligations ratio} is 14.3 percent (see {\\color{blue!80!black}\\textbf{---}}), and the \\textbf{debt service ratio} is 9.6 percent (see {\\color{red}\\textbf{---}}).\n"
     ]
    }
   ],
   "source": [
    "base = 'https://www.federalreserve.gov/datadownload/Output.aspx?'\n",
    "srs = 'rel=FOR&series=1dc13603606b1a2cf3c07004eeb7f026&lastobs=&'\n",
    "dt = 'from=01/01/1989&to=12/31/2023&'\n",
    "oth = 'filetype=csv&label=include&layout=seriescolumn'\n",
    "url = base + srs + dt + oth\n",
    "\n",
    "d, clean_data = clean_fed_data(url)\n",
    "\n",
    "d = {k: v.replace(', seasonally adjusted', '') for k, v in d.items()}\n",
    "\n",
    "data = clean_data.rename(d, axis=1)\n",
    "data.to_csv(data_dir / 'for.csv', index_label='date')\n",
    "col1 = 'blue!80!black'\n",
    "node = end_node(data['Financial obligations ratio'], col1, \n",
    "                percent=True, date='q', full_year=True)\n",
    "write_txt(text_dir / 'for_node.txt', node)\n",
    "\n",
    "ltdate = dtxt(data.index[-1])['qtr1']\n",
    "ltval = data['Financial obligations ratio'].iloc[-1]\n",
    "col2 = 'red'\n",
    "node2 = end_node(data['Debt service ratio'], col2, percent=True)\n",
    "write_txt(text_dir / 'dsr_node.txt', node2)\n",
    "\n",
    "dsrval = data['Debt service ratio'].iloc[-1]\n",
    "\n",
    "text = (f'As of {ltdate}, the \\\\textbf{{financial obligations ratio}} '+\n",
    "        f'is {ltval:.1f} percent {c_line(col1)}, and the '+\n",
    "        f'\\\\textbf{{debt service ratio}} is {dsrval:.1f} percent '+\n",
    "        f'{c_line(col2)}.')\n",
    "write_txt(text_dir / 'for.txt', text)\n",
    "print(text)"
   ]
  },
  {
   "cell_type": "code",
   "execution_count": null,
   "metadata": {},
   "outputs": [],
   "source": []
  },
  {
   "cell_type": "code",
   "execution_count": null,
   "metadata": {},
   "outputs": [],
   "source": []
  },
  {
   "cell_type": "markdown",
   "metadata": {},
   "source": [
    "### Shiller real return trailing 20-year average"
   ]
  },
  {
   "cell_type": "code",
   "execution_count": 54,
   "metadata": {
    "ExecuteTime": {
     "end_time": "2023-07-27T12:27:57.885440Z",
     "start_time": "2023-07-27T12:27:55.701162Z"
    }
   },
   "outputs": [
    {
     "name": "stdout",
     "output_type": "stream",
     "text": [
      "In July 2023, the Shiller total return CAPE ratio was 33.3, compared to 32.5 in June 2023 and 31.5 in July 2022 (see {\\color{blue!80!cyan}\\textbf{---}}). In 2019, the Shiller CAPE ratio was 32.1, on average. In 2000, during the stock market bubble, the ratio averaged 45.1. \n",
      "Three conflicting nodes\n",
      "According to historical stock market \\href{http://www.econ.yale.edu/~shiller/data.htm}{data} from Robert Shiller, the \\textbf{inflation-adjusted trailing twenty-year annual rate of return} of the S\\&P 500 is 7.3 percent as of March 2023 (see {\\color{green!80!blue}\\textbf{---}}). Ultra-long-term real returns are currently low relative to the average trailing twenty-year real annual return of 10.1 percent during 1995--2005. The trailing ten-year real return was 8.9 percent, as of March 2023, and 10.7 percent during 1995--2005 (see {\\color{blue}\\textbf{---}}). \n"
     ]
    }
   ],
   "source": [
    "url = 'http://www.econ.yale.edu/~shiller/data/ie_data.xls'\n",
    "data = pd.read_excel(url, sheet_name='Data', header=7, \n",
    "                     index_col='Date').dropna(subset=['TR CAPE'])\n",
    "data.index = pd.to_datetime(data.index.format())\n",
    "data.loc['1989':, 'TR CAPE'].to_csv(data_dir / 'catrpe.csv', \n",
    "                                    index_label='date')\n",
    "color = 'blue!80!cyan'\n",
    "cl = c_line(color)\n",
    "pe = data.loc['1989':, 'TR CAPE']\n",
    "ltdt = dtxt(pe.index[-1])['mon1']\n",
    "prdt = dtxt(pe.index[-2])['mon1']\n",
    "yrdt = dtxt(pe.index[-13])['mon1']\n",
    "ltval = pe.iloc[-1]\n",
    "prval = pe.iloc[-2]\n",
    "yrval = pe.iloc[-13]\n",
    "val19 = pe.loc['2019'].mean()\n",
    "val00 = pe.loc['2000'].mean()\n",
    "\n",
    "text = (f'In {ltdt}, the Shiller total return CAPE ratio was '+\n",
    "        f'{ltval:.1f}, compared to {prval:.1f} in {prdt} and '+\n",
    "        f'{yrval:.1f} in {yrdt} {cl}. In 2019, the Shiller CAPE ratio '+\n",
    "        f'was {val19:.1f}, on average. In 2000, during the stock market '+\n",
    "        f'bubble, the ratio averaged {val00:.1f}. ')\n",
    "write_txt(text_dir / 'cape.txt', text)\n",
    "print(text)\n",
    "node = end_node(data['TR CAPE'], color, date='m')\n",
    "write_txt(text_dir / 'cape_node.txt', node)\n",
    "col = ['Price', 'Dividend']\n",
    "df = data.loc['1960':, col].dropna()\n",
    "for yrs in [10, 15, 20]:\n",
    "    mos = yrs * 12\n",
    "    dy = (df.Dividend / df.Price).rolling(mos).mean()\n",
    "    pch = (df.Price.pct_change(mos)+1)**(1/yrs) - 1\n",
    "    df[f'r{yrs}'] = (dy + pch) * 100\n",
    "    \n",
    "res = df.loc['1989':, ~df.columns.isin(col)]\n",
    "res.to_csv(data_dir / f'sp500rr.csv', index_label='date', \n",
    "           float_format='%g')\n",
    "adj = node_adj(res)\n",
    "smax = res.iloc[-1].idxmax()\n",
    "adj[smax] = adj[smax] + 0.35\n",
    "\n",
    "colors = {'r20': 'green!80!blue', \n",
    "          'r15': 'orange',\n",
    "          'r10': 'blue'}\n",
    "date = {series: 'm' if series == smax else None \n",
    "        for series in colors.keys()}\n",
    "nodes  ='\\n'.join([end_node(res[series], color, \n",
    "                            date=date[series], \n",
    "                            percent=True, full_year=True, \n",
    "                            size=1.1, offset=adj[series]) \n",
    "                   for series, color in colors.items()])\n",
    "write_txt(text_dir / 'sp500rr_nodes.txt', nodes)  \n",
    "url = 'http://www.econ.yale.edu/~shiller/data.htm'\n",
    "lt20 = df['r20'].iloc[-1]\n",
    "ltdt = dtxt(df.index[-1])['mon1']\n",
    "pr = df['r20'].loc['1995':'2005'].mean()\n",
    "lt10 = df['r10'].iloc[-1]\n",
    "pr10 = df['r10'].loc['1995':'2005'].mean()\n",
    "cl = c_line(colors['r20'])\n",
    "text = (f'According to historical stock market \\href{{{url}}}'+\n",
    "        '{data} from Robert Shiller, the \\\\textbf{inflation-adjusted '+\n",
    "        'trailing twenty-year annual rate of return} of the S\\&P '+\n",
    "        f'500 is {lt20:.1f} percent as of {ltdt} {cl}. Ultra-long-'+\n",
    "        'term real returns are currently low relative to the '+\n",
    "        'average trailing twenty-year real annual return of '+\n",
    "        f'{pr:.1f} percent during 1995--2005. The trailing ten-'+\n",
    "        f'year real return was {lt10:.1f} percent, as of {ltdt}, '+\n",
    "        f'and {pr10:.1f} percent during 1995--2005 '+\n",
    "        f'{c_line(colors[\"r10\"])}. ')\n",
    "write_txt(text_dir / 'sp500rr.txt', text)\n",
    "print(text)"
   ]
  },
  {
   "cell_type": "code",
   "execution_count": 55,
   "metadata": {
    "ExecuteTime": {
     "end_time": "2023-07-27T12:27:57.896528Z",
     "start_time": "2023-07-27T12:27:57.886950Z"
    }
   },
   "outputs": [
    {
     "name": "stdout",
     "output_type": "stream",
     "text": [
      "In March 2023, the dividend yield for the S\\&P 500 is 1.72 percent (see {\\color{green!80!black}\\textbf{---}}), compared to 1.66 percent in February 2023, and 1.41 percent in March 2022. From 1990 to 2015, the dividend yield averaged 2.09 percent.\n"
     ]
    }
   ],
   "source": [
    "dy = ((data.D / data.P).dropna() * 100).loc['1989':].rename('DY')\n",
    "dy.to_csv(data_dir / 'sp500dy.csv', index_label='date')\n",
    "color = 'green!80!black'\n",
    "\n",
    "node = end_node(dy, color, date='m', full_year=True, percent=True, \n",
    "                digits=2, offset=0.3)\n",
    "write_txt(text_dir / 'sp500dy_node.txt', node)\n",
    "\n",
    "ltdt = dtxt(dy.index[-1])['mon1']\n",
    "prdt = dtxt(dy.index[-2])['mon1']\n",
    "yrdt = dtxt(dy.index[-13])['mon1']\n",
    "ltval = dy.iloc[-1]\n",
    "prval = dy.iloc[-2]\n",
    "yrval = dy.iloc[-13]\n",
    "cl = c_line(color)\n",
    "avg = dy.loc['1990': '2015'].mean()\n",
    "text = (f'In {ltdt}, the dividend yield for the S\\&P 500 is '+\n",
    "        f'{ltval:.2f} percent {cl}, compared to {prval:.2f} percent '+\n",
    "        f'in {prdt}, and {yrval:.2f} percent in {yrdt}. From 1990 to '+\n",
    "        f'2015, the dividend yield averaged {avg:.2f} percent.')\n",
    "write_txt(text_dir / 'sp500div.txt', text)\n",
    "print(text)"
   ]
  },
  {
   "cell_type": "code",
   "execution_count": null,
   "metadata": {},
   "outputs": [],
   "source": []
  },
  {
   "cell_type": "code",
   "execution_count": null,
   "metadata": {},
   "outputs": [],
   "source": []
  },
  {
   "cell_type": "markdown",
   "metadata": {},
   "source": [
    "### S&P 500 Quarterly Data"
   ]
  },
  {
   "cell_type": "code",
   "execution_count": 61,
   "metadata": {
    "ExecuteTime": {
     "end_time": "2023-06-07T15:02:17.178135Z",
     "start_time": "2023-06-07T15:02:17.171360Z"
    }
   },
   "outputs": [],
   "source": [
    "#url = ('https://us.spindices.com/documents/'+\n",
    "#       'additional-material/sp-500-eps-est.xlsx')\n"
   ]
  },
  {
   "cell_type": "code",
   "execution_count": null,
   "metadata": {},
   "outputs": [],
   "source": []
  },
  {
   "cell_type": "code",
   "execution_count": null,
   "metadata": {},
   "outputs": [],
   "source": []
  },
  {
   "cell_type": "code",
   "execution_count": null,
   "metadata": {},
   "outputs": [],
   "source": []
  },
  {
   "cell_type": "code",
   "execution_count": null,
   "metadata": {},
   "outputs": [],
   "source": []
  },
  {
   "cell_type": "markdown",
   "metadata": {},
   "source": [
    "### High Quality Corporate Bond Yield"
   ]
  },
  {
   "cell_type": "code",
   "execution_count": 56,
   "metadata": {
    "ExecuteTime": {
     "end_time": "2023-07-27T12:28:00.621547Z",
     "start_time": "2023-07-27T12:28:00.097550Z"
    }
   },
   "outputs": [
    {
     "name": "stdout",
     "output_type": "stream",
     "text": [
      "The yield on high-quality corporate bonds with a maturity of 10 years is 5.22 percent in June 2023, following 5.09 percent in May 2023 (see {\\color{violet!80!black}\\textbf{---}}). One year prior, in June 2022, this spot rate was 4.78 percent, and four years prior, in June 2019, it was 3.35 percent.\n"
     ]
    }
   ],
   "source": [
    "df = fred_df('HQMCB10YR')\n",
    "df.to_csv(data_dir / 'hqcb.csv', index_label='date')\n",
    "\n",
    "color = 'violet!80!black'\n",
    "node = end_node(df['VALUE'], color, date='m', percent=True, \n",
    "                full_year=True, digits=2)\n",
    "write_txt(text_dir / 'hqcb_node.txt', node)\n",
    "\n",
    "data = df.VALUE.apply('{:.2f} percent'.format).values\n",
    "idx = [dtxt(i)['mon1'] for i in df.index]\n",
    "cl = c_line(color)\n",
    "\n",
    "text = (f'The yield on high-quality corporate bonds with a maturity '+\n",
    "        f'of 10 years is {data[-1]} in {idx[-1]}, following '+\n",
    "        f'{data[-2]} in {idx[-2]} {cl}. One year prior, in '+\n",
    "        f'{idx[-13]}, this spot rate was {data[-13]}, and '+\n",
    "        f'four years prior, in {idx[-49]}, it was {data[-49]}.')\n",
    "write_txt(text_dir / 'hqcb.txt', text)\n",
    "print(text)"
   ]
  },
  {
   "cell_type": "code",
   "execution_count": null,
   "metadata": {},
   "outputs": [],
   "source": []
  },
  {
   "cell_type": "code",
   "execution_count": null,
   "metadata": {},
   "outputs": [],
   "source": []
  },
  {
   "cell_type": "markdown",
   "metadata": {},
   "source": [
    "### Treasury Monthly Data"
   ]
  },
  {
   "cell_type": "code",
   "execution_count": 57,
   "metadata": {
    "ExecuteTime": {
     "end_time": "2023-07-27T12:28:02.790390Z",
     "start_time": "2023-07-27T12:28:02.226004Z"
    }
   },
   "outputs": [],
   "source": [
    "cols = ['record_date', 'classification_desc', \n",
    "        'current_month_rcpt_outly_amt']\n",
    "fields = ','.join(cols)\n",
    "lines = ','.join(['2', '3', '5', '6', '7', '12'])\n",
    "url = ('https://api.fiscaldata.treasury.gov/services/api/'+\n",
    "       'fiscal_service/v1/accounting/mts/mts_table_9'+\n",
    "       f'?filter=src_line_nbr:in:({lines})&format=csv&'+\n",
    "       f'fields={fields}&page[size]=600')\n",
    "\n",
    "other = lambda x: x['Total'] - x['Individual Income Taxes']\n",
    "si_cols = ['Employment and General Retirement', 'Other Retirement', \n",
    "           'Unemployment Insurance']\n",
    "si = lambda x: x[si_cols].sum(axis=1)\n",
    "df = (pd.read_csv(url, index_col=cols[:2], parse_dates=True)\n",
    "        ['current_month_rcpt_outly_amt']\n",
    "        .unstack().astype('float').divide(1_000_000_000_000)\n",
    "        .assign(Other = other, SI = si).rolling(12).sum().dropna())\n",
    "df.to_csv(data_dir / 'tmb_rec.csv', float_format='%g', \n",
    "          index_label='date')"
   ]
  },
  {
   "cell_type": "code",
   "execution_count": 58,
   "metadata": {
    "ExecuteTime": {
     "end_time": "2023-07-27T12:28:03.786162Z",
     "start_time": "2023-07-27T12:28:03.761939Z"
    }
   },
   "outputs": [
    {
     "name": "stdout",
     "output_type": "stream",
     "text": [
      "The United States Treasury \\href{https://fiscal.treasury.gov/reports-statements/mts/current.html}{report} federal government receipts and outlays in the Monthly Treasury Statement. Over the 12 months ending June 2023, \\textbf{Federal government receipts} total \\$4.5 trillion, of which \\$2.2 trillion are from individual income taxes (see {\\color{blue!70!black}\\textbf{---}}). The remaining receipts (see {\\color{blue!40!cyan}\\textbf{---}}) are largely social insurance contributions (\\$1.6 trillion) and corporate income taxes (\\$0.4 trillion).\n"
     ]
    }
   ],
   "source": [
    "df = pd.read_csv(data_dir / 'tmb_rec.csv', index_col='date', \n",
    "                 parse_dates=True)\n",
    "col_iit = 'blue!70!black'\n",
    "write_txt(text_dir / 'tmb_rec_iit.txt', \n",
    "          end_node(df['Individual Income Taxes'], col_iit))\n",
    "cl_iit = c_line(col_iit)\n",
    "col_oth = 'blue!40!cyan'\n",
    "write_txt(text_dir / 'tmb_rec_oth.txt', \n",
    "          end_node(df['Other'], col_oth))\n",
    "cl_oth = c_line(col_oth)\n",
    "\n",
    "# Text \n",
    "url = 'https://fiscal.treasury.gov/reports-statements/mts/current.html'\n",
    "tval = df.iloc[-1].apply(lambda x: f'\\${x:.1f} trillion')\n",
    "ltdt = dtxt(df.index[-1])['mon1']\n",
    "text = (f'The United States Treasury \\href{{{url}}}{{report}} '+\n",
    "        'federal government receipts and outlays in the Monthly '+\n",
    "        f'Treasury Statement. 'f'Over the 12 months ending {ltdt}, '+\n",
    "        f'\\\\textbf{{Federal government receipts}} total {tval[\"Total\"]}, '+\n",
    "        f'of which {tval[\"Individual Income Taxes\"]} are from '+\n",
    "        f'individual income taxes {cl_iit}. The remaining receipts '+\n",
    "        f'{cl_oth} are largely social insurance contributions '+\n",
    "        f'({tval[\"SI\"]}) and corporate income taxes '+\n",
    "        f'({tval[\"Corporation Income Taxes\"]}).')\n",
    "write_txt(text_dir / 'tmb_rec.txt', text)\n",
    "print(text)"
   ]
  },
  {
   "cell_type": "code",
   "execution_count": null,
   "metadata": {},
   "outputs": [],
   "source": []
  },
  {
   "cell_type": "code",
   "execution_count": null,
   "metadata": {},
   "outputs": [],
   "source": []
  },
  {
   "cell_type": "markdown",
   "metadata": {},
   "source": [
    "### International Investment Position (IIP)"
   ]
  },
  {
   "cell_type": "code",
   "execution_count": 59,
   "metadata": {
    "ExecuteTime": {
     "end_time": "2023-07-27T12:28:09.263060Z",
     "start_time": "2023-07-27T12:28:06.695189Z"
    }
   },
   "outputs": [
    {
     "name": "stdout",
     "output_type": "stream",
     "text": [
      "In 2023 Q1, domestic holdings of foreign assets total \\$32.7 trillion, equivalent to 123.4 percent of GDP (see {\\color{blue!95!violet}\\textbf{---}}). In 2022 Q4, these assets were equivalent to 121.0 percent of GDP, and in 2019, they were equivalent to 129.6 percent. Domestic liabilities to the foreign sector total \\$49.5 trillion, or 186.6 percent of GDP, in 2023 Q1, following 182.9 percent in 2022 Q4, and 181.4 percent in 2019 (see {\\color{red}\\textbf{---}}).\n",
      "\n",
      "The overall result of these financial positions, net IIP, or holdings of foreign assets minus liabilities, identifies the US as a net debtor to the rest of the world, to the equivalent of 63.1 percent of GDP in 2023 Q1, following 61.9 percent in 2022 Q4, and 51.7 percent in 2019 (see \\cbox{cyan!25!white}).\n"
     ]
    }
   ],
   "source": [
    "# Annual GDP for 1988-2005\n",
    "s = 'A191RC'\n",
    "r = bea_api_nipa([f'T10105'], bea_key, freq='A')\n",
    "data = json.loads(r[0][2])['BEAAPI']['Results']\n",
    "date = lambda x: (pd.to_datetime(x.TimePeriod) + \n",
    "                  pd.DateOffset(months=6))\n",
    "value = lambda x: x.DataValue.str.replace(',','')\n",
    "gdpa = (pd.DataFrame(data['Data']).query('SeriesCode == @s')\n",
    "          .assign(date = date, value=value).set_index('date')\n",
    "          .loc[:'2005', 'value'].astype(int))\n",
    "gdpq = nipa_df(retrieve_table('T10105')['Data'], [s])[s]\n",
    "gdp = pd.concat([gdpa, gdpq.loc['2006':]])\n",
    "\n",
    "srs = ['FinAssets', 'FinLiabs', 'Net']\n",
    "years = ','.join(map(str, range(1988, 2024)))\n",
    "res = pd.DataFrame()\n",
    "for s in srs:\n",
    "    url = (f'https://apps.bea.gov/api/data/?&UserID={bea_key}'+\n",
    "           f'&method=GetData&datasetname=IIP&TypeOfInvestment={s}'+\n",
    "           f'&Component=Pos&Frequency=A,QNSA&Year={years}')\n",
    "    r = requests.get(url)\n",
    "    t = pd.DataFrame(r.json()['BEAAPI']['Data'])\n",
    "    a = t.query('Frequency == \"A\"')[['TimePeriod', 'DataValue']]\n",
    "    a = a.set_index(pd.to_datetime(a['TimePeriod']) + \n",
    "                    pd.DateOffset(months=6)).loc[:'2005', 'DataValue']\n",
    "    q = t.query('Frequency == \"QNSA\"')[['TimePeriod', 'DataValue']]\n",
    "    q = q.set_index(pd.to_datetime(q['TimePeriod']))['DataValue']\n",
    "    res[s] = pd.concat([a, q]).astype('float')\n",
    "\n",
    "sh = res.divide(gdp, axis=0).multiply(100).dropna()\n",
    "sh.to_csv(data_dir / 'iip.csv', index_label='date')\n",
    "\n",
    "tot = res.iloc[-1] / 1_000_000\n",
    "lt = sh.iloc[-1]\n",
    "ltdt = dtxt(sh.index[-1])['qtr1']\n",
    "pr = sh.iloc[-2]\n",
    "prdt = dtxt(sh.index[-2])['qtr1']\n",
    "pr19 = sh.loc['2019'].mean()\n",
    "col_a, col_l, col_n = 'blue!95!violet', 'red', 'cyan!25!white'\n",
    "\n",
    "text = (f'In {ltdt}, domestic holdings of foreign assets total '+\n",
    "        f'\\${tot.FinAssets:.1f} trillion, equivalent to {lt.FinAssets:.1f} '+\n",
    "        f'percent of GDP {c_line(col_a)}. In {prdt}, these assets were '+\n",
    "        f'equivalent to {pr.FinAssets:.1f} percent of GDP, and in '+\n",
    "        f'2019, they were equivalent to {pr19.FinAssets:.1f} percent. '+\n",
    "        'Domestic liabilities to the foreign sector total '+\n",
    "        f'\\${tot.FinLiabs:.1f} trillion, or {lt.FinLiabs:.1f} percent of '+\n",
    "        f'GDP, in {ltdt}, following {pr.FinLiabs:.1f} percent in {prdt}, '+\n",
    "        f'and {pr19.FinLiabs:.1f} percent in 2019 {c_line(col_l)}.\\n\\n'+\n",
    "        f'The overall result of these financial positions, net IIP, or '+\n",
    "        'holdings of foreign assets minus liabilities, identifies the '+\n",
    "        'US as a net debtor to the rest of the world, to the equivalent '+\n",
    "        f'of {abs(lt.Net):.1f} percent of GDP in {ltdt}, following '\n",
    "        f'{abs(pr.Net):.1f} percent in {prdt}, and {abs(pr19.Net):.1f} '+\n",
    "        f'percent in 2019 {c_box(col_n)}.')\n",
    "write_txt(text_dir / 'niip.txt', text)\n",
    "print(text)"
   ]
  },
  {
   "cell_type": "code",
   "execution_count": null,
   "metadata": {},
   "outputs": [],
   "source": []
  },
  {
   "cell_type": "code",
   "execution_count": null,
   "metadata": {},
   "outputs": [],
   "source": []
  },
  {
   "cell_type": "markdown",
   "metadata": {},
   "source": [
    "### H.6 Money Stock - M2 (Monthly)"
   ]
  },
  {
   "cell_type": "code",
   "execution_count": 60,
   "metadata": {
    "ExecuteTime": {
     "end_time": "2023-07-27T12:28:09.500404Z",
     "start_time": "2023-07-27T12:28:09.265769Z"
    }
   },
   "outputs": [],
   "source": [
    "url = ('https://www.federalreserve.gov/datadownload/Output.aspx?'+\n",
    "       'rel=H6&series=411c4c269dc600450339f8d4809d80eb&lastobs=&'+\n",
    "       'from=01/01/1987&to=12/31/2023&filetype=csv&label=include&'+\n",
    "       'layout=seriescolumn')\n",
    "d, df = clean_fed_data(url)\n",
    "df.rename(d, axis=1).to_csv(data_dir / 'h6raw.csv', index_label='date')"
   ]
  },
  {
   "cell_type": "code",
   "execution_count": 61,
   "metadata": {
    "ExecuteTime": {
     "end_time": "2023-07-27T12:28:09.549234Z",
     "start_time": "2023-07-27T12:28:09.502856Z"
    }
   },
   "outputs": [
    {
     "name": "stdout",
     "output_type": "stream",
     "text": [
      "In June 2023, the M2 money stock totals \\$20.8 trillion. Put into the context of overall economic activity, M2 is equivalent to 77.5 percent of GDP in the second quarter of 2023. During the 1990s, the ratio of money to economic activity was falling (see {\\color{magenta}\\textbf{---}}). Following the great recession, the money supply has expanded relative to activity. Since 1989, the ratio has increased by a total of 37.2 percent. \n",
      " The M2 money stock increased 0.3 percent in June 2023, over the previous month, following a decrease of 0.6 percent in May 2023. Over the past 12 months, the money stock decreased 3.6 percent (see {\\color{green!80!blue}\\textbf{---}}). The M2 money stock has increased 41.2 percent, in total, over the past four years. \n"
     ]
    }
   ],
   "source": [
    "df = pd.read_csv(data_dir / 'h6raw.csv', index_col='date', \n",
    "                 parse_dates=True)\n",
    "ltdate = dtxt(df.index[-1])['mon1']\n",
    "prmodt = dtxt(df.index[-2])['mon1']\n",
    "ltval = df['M2'].iloc[-1] / 1000.0\n",
    "one_yr = value_text(df['M2'].pct_change(12).iloc[-1] * 100, threshold=0.1)\n",
    "pr_mo = value_text(df['M2'].pct_change(12).iloc[-2] * 100, \n",
    "                   style='increase_of')\n",
    "four_yr = value_text(df['M2'].pct_change(48).iloc[-1] * 100)\n",
    "\n",
    "# M2 share of GDP\n",
    "m2q = df.M2.resample('QS').mean() * 1_000\n",
    "gdp = nipa_df(retrieve_table('T10105')['Data'], ['A191RC'])['A191RC']\n",
    "m2gdp = ((m2q / gdp) * 100).dropna()\n",
    "m2gi = (m2gdp / m2gdp.iloc[0]).rename('value')\n",
    "m2gi.to_csv(data_dir / 'm2gdp.csv', index_label='date',\n",
    "         float_format='%g')\n",
    "ltqtr = dtxt(m2gi.index[-1])['qtr2']\n",
    "lt = m2gdp.iloc[-1]\n",
    "totch = (m2gi.iloc[-1] - 1) * 100\n",
    "\n",
    "txt1 = (f'In {ltdate}, the M2 money stock totals \\${ltval:.1f} '+\n",
    "        'trillion. Put into the context of overall economic activity, '+\n",
    "        f'M2 is equivalent to {lt:.1f} percent of GDP in {ltqtr}. During '+\n",
    "        'the 1990s, the ratio of money to economic activity was falling '+\n",
    "        f'{c_line(\"magenta\")}. Following the great recession, the money '+\n",
    "        'supply has expanded relative to activity. Since 1989, the ratio '+\n",
    "        f'has increased by a total of {totch:.1f} percent.')\n",
    "write_txt(text_dir / 'm2lvl.txt', txt1)\n",
    "col = 'green!80!blue'\n",
    "\n",
    "mo_ch = value_text((df.M2.pct_change()*100).iloc[-1], threshold=0.1)\n",
    "pc_mo_ch = value_text((df.M2.pct_change()*100).iloc[-2], \n",
    "                      'increase_of', threshold=0.1)\n",
    "prdt = dtxt(df.index[-2])['mon1']\n",
    "txt2 = (f'The M2 money stock {mo_ch} in {ltdate}, over the previous '+\n",
    "        f'month, following {pc_mo_ch} in {prdt}. Over the past 12 '+\n",
    "        f'months, the money stock {one_yr} {c_line(col)}. The M2 money '+\n",
    "        f'stock has {four_yr}, in total, over the past four years. ')\n",
    "write_txt(text_dir / 'm2chg.txt', txt2)\n",
    "print(txt1, '\\n', txt2)\n",
    "\n",
    "r = pd.DataFrame({'value': df['M2'].pct_change(12) * 100,\n",
    "                  '3M': m3rate(df['M2']),\n",
    "                  '1M': (((df.M2.pct_change() + 1) ** 12) - 1) * 100}\n",
    "                ).loc['1989':]\n",
    "r.value.to_csv(data_dir / 'm2.csv', index_label='date', header=True,\n",
    "         float_format='%g')\n",
    "\n",
    "node = end_node(r.value, col, percent=True, offset=True,\n",
    "                date='m', full_year=True)\n",
    "write_txt(text_dir / 'm2_node.txt', node)"
   ]
  },
  {
   "cell_type": "code",
   "execution_count": null,
   "metadata": {},
   "outputs": [],
   "source": []
  },
  {
   "cell_type": "code",
   "execution_count": null,
   "metadata": {},
   "outputs": [],
   "source": []
  },
  {
   "cell_type": "markdown",
   "metadata": {},
   "source": [
    "### Consumer Credit (G.19)\n",
    "\n",
    "The same chart also includes a line from the Z.1 notebook"
   ]
  },
  {
   "cell_type": "code",
   "execution_count": 62,
   "metadata": {
    "ExecuteTime": {
     "end_time": "2023-07-27T12:28:11.866387Z",
     "start_time": "2023-07-27T12:28:11.645965Z"
    }
   },
   "outputs": [
    {
     "name": "stdout",
     "output_type": "stream",
     "text": [
      "In the monthly measure, consumer credit totals \\$4.86 trillion US dollars on a seasonally-adjusted and annualized basis in May 2023. Over the past year, consumer credit increased by 6.2 percent, while after-tax income increased by eight percent. As a result, the ratio of consumer credit to disposable income decreased by a total of 0.4 percentage point. In May 2023, total consumer credit is equivalent to 24.5 percent of annualized May 2023 disposable income (see {\\color{green!60!blue!80!black}\\textbf{---}}). \n"
     ]
    }
   ],
   "source": [
    "base = 'https://www.federalreserve.gov/datadownload/Output.aspx?'\n",
    "srs = 'rel=G19&series=8c7511a37e4aea678be81e7a61df57db&lastobs=&'\n",
    "dt = 'from=01/01/1989&to=12/31/2023&'\n",
    "oth = 'filetype=csv&label=include&layout=seriescolumn'\n",
    "url = base + srs + dt + oth\n",
    "\n",
    "d, df = clean_fed_data(url)\n",
    "cc = df['DTCTL.M']\n",
    "\n",
    "dpi = (pd.read_csv(data_dir / 'nipa20600.csv', index_col='date', \n",
    "                   parse_dates=True).loc['1989':, 'A067RC'])\n",
    "rate = ((cc / dpi) * 100).rename('value').dropna()\n",
    "rate.to_csv(data_dir / 'cc_dpi_monthly.csv', index_label='date')\n",
    "\n",
    "node_color = 'green!60!blue!80!black'\n",
    "node = end_node(rate, node_color, date='m', percent=True, full_year=True)\n",
    "write_txt(text_dir / 'cc_dpi_monthly_node.txt', node)\n",
    "\n",
    "ltdate = dtxt(cc.index[-1])['mon1']\n",
    "ltval = cc.iloc[-1] / 1_000_000\n",
    "ltrate = rate.iloc[-1]\n",
    "one_yr = value_text(cc.pct_change(12).iloc[-1] * 100, style='increase_by')\n",
    "one_yr_dpi = value_text(dpi.pct_change(12).iloc[-1] * 100, style='increase_by')\n",
    "one_yr_rate = value_text(rate.diff(12).iloc[-1], adj='total', \n",
    "                         ptype='pp', threshold=0.1)\n",
    "cline = c_line(node_color)\n",
    "also = 'also ' if one_yr == one_yr_dpi else ''    \n",
    "text = ('In the monthly measure, consumer credit totals '+\n",
    "        f'\\${ltval:.2f} trillion US dollars on a '+\n",
    "        f'seasonally-adjusted and annualized basis in {ltdate}. '+\n",
    "        f'Over the past year, consumer credit {one_yr}, while '+\n",
    "        f'after-tax income {also}{one_yr_dpi}. As a result, the ratio '+\n",
    "        f'of consumer credit to disposable income {one_yr_rate}. '+\n",
    "        f'In {ltdate}, total consumer credit is equivalent to '+\n",
    "        f'{ltrate:.1f} percent of annualized {ltdate} disposable '+\n",
    "        f'income {cline}. ')\n",
    "write_txt(text_dir / 'cc_dpi.txt', text)\n",
    "print(text)"
   ]
  },
  {
   "cell_type": "code",
   "execution_count": null,
   "metadata": {},
   "outputs": [],
   "source": []
  },
  {
   "cell_type": "code",
   "execution_count": null,
   "metadata": {},
   "outputs": [],
   "source": []
  },
  {
   "cell_type": "markdown",
   "metadata": {},
   "source": [
    "### Employment Cost Index"
   ]
  },
  {
   "cell_type": "code",
   "execution_count": 4,
   "metadata": {
    "ExecuteTime": {
     "end_time": "2023-07-28T12:55:30.820025Z",
     "start_time": "2023-07-28T12:55:29.392227Z"
    }
   },
   "outputs": [
    {
     "name": "stdout",
     "output_type": "stream",
     "text": [
      "Post Request Status: REQUEST_SUCCEEDED\n"
     ]
    }
   ],
   "source": [
    "series = {'CIU2020000000000A': 'WS',\n",
    "          'CIU2030000000000A': 'Be'}\n",
    "\n",
    "dates = (2001, 2023)\n",
    "df = bls_api(series, dates, bls_key)\n",
    "df.to_csv(data_dir/ 'eci.csv', index_label='date')"
   ]
  },
  {
   "cell_type": "code",
   "execution_count": 5,
   "metadata": {
    "ExecuteTime": {
     "end_time": "2023-07-28T12:55:32.944462Z",
     "start_time": "2023-07-28T12:55:32.928358Z"
    }
   },
   "outputs": [
    {
     "name": "stdout",
     "output_type": "stream",
     "text": [
      "In the second quarter of 2023, private industry wage and salary costs increased by 4.6 percent (one-year percent change, see {\\color{green!80!blue}\\textbf{---}}), following an increase of 5.1 percent in 2023 Q1, and an increase of 5.1 percent in 2022 Q4. In 2019, private wages and salaries costs increased by three percent, on average.\n",
      "\n",
      "The cost of private sector benefits increased by 3.9 percent (see {\\color{cyan!40!blue}\\textbf{---}}) over the year ending 2023 Q2, following an increase of 4.3 percent in 2023 Q1. In 2019, private-sector benefits costs increased by two percent, on average.\n"
     ]
    }
   ],
   "source": [
    "df = pd.read_csv(data_dir / 'eci.csv', index_col='date', \n",
    "                 parse_dates=True)\n",
    "adj = node_adj(df)\n",
    "smax = df.iloc[-1].idxmax()\n",
    "adj[smax] = adj[smax] + 0.35\n",
    "\n",
    "colors = {'WS': 'green!80!blue', \n",
    "          'Be': 'cyan!40!blue'}\n",
    "date = {series: 'q' if series == smax else None \n",
    "        for series in colors.keys()}\n",
    "nodes  ='\\n'.join([end_node(df[series], color, \n",
    "                            date=date[series], \n",
    "                            percent=True, colon=False,\n",
    "                            size=1.1, offset=adj[series])\n",
    "                   for series, color in colors.items()])\n",
    "write_txt(text_dir / 'eci_nodes.txt', nodes)\n",
    "\n",
    "obs = [(-1, 'lt'), (-2, 'pr'), (-3, 'pr2')]\n",
    "sty = [('increase', '1'), ('increase_of', '2'), \n",
    "       ('increase_by', '3')]\n",
    "dt = {n: dtxt(df.index[i]) for i, n in obs}\n",
    "v = {f'{name}_{n}_{s}': value_text(val, style=style) \n",
    "     for i, n in obs for name, val \n",
    "     in df.iloc[i].to_dict().items() \n",
    "     for style, s in sty}\n",
    "\n",
    "val19 = {s: value_text(df.loc['2019', s].mean(), 'increase_by') \n",
    "         for s in ['WS', 'Be']}\n",
    "text = (f'In {dt[\"lt\"][\"qtr2\"]}, private industry wage and '+\n",
    "        f'salary costs {v[\"WS_lt_3\"]} (one-year percent '+\n",
    "        f'change, {c_line(colors[\"WS\"]).replace(\"(\", \"\")}, '+\n",
    "        f'following {v[\"WS_pr_2\"]} in {dt[\"pr\"][\"qtr1\"]}, '+\n",
    "        f'and {v[\"WS_pr2_2\"]} in {dt[\"pr2\"][\"qtr1\"]}. In '+\n",
    "        f'2019, private wages and salaries costs {val19[\"WS\"]}, '+\n",
    "        'on average.\\n\\nThe cost of private sector benefits '+\n",
    "        f'{v[\"Be_lt_3\"]} {c_line(colors[\"Be\"])} over the year '+\n",
    "        f'ending {dt[\"lt\"][\"qtr1\"]}, following {v[\"Be_pr_2\"]} '+\n",
    "        f'in {dt[\"pr\"][\"qtr1\"]}. In 2019, private-sector '+\n",
    "        f'benefits costs {val19[\"Be\"]}, on average.')\n",
    "write_txt(text_dir / 'eci.txt', text)\n",
    "print(text)"
   ]
  },
  {
   "cell_type": "code",
   "execution_count": null,
   "metadata": {},
   "outputs": [],
   "source": []
  },
  {
   "cell_type": "code",
   "execution_count": null,
   "metadata": {},
   "outputs": [],
   "source": []
  },
  {
   "cell_type": "markdown",
   "metadata": {
    "ExecuteTime": {
     "end_time": "2022-02-16T00:25:27.133068Z",
     "start_time": "2022-02-16T00:25:27.131119Z"
    }
   },
   "source": [
    "### Treasury International Capital"
   ]
  },
  {
   "cell_type": "code",
   "execution_count": 63,
   "metadata": {
    "ExecuteTime": {
     "end_time": "2023-07-27T12:28:23.619682Z",
     "start_time": "2023-07-27T12:28:23.531950Z"
    }
   },
   "outputs": [],
   "source": [
    "# URL \n",
    "#file = ('https://treasury.gov/resource-center/data-chart-center/tic/'+\n",
    "#        'Documents/npr_history.csv')\n",
    "file = ('/home/brian/Downloads/npr_history.csv')\n",
    "# Match names with numbers of columns in report\n",
    "names = {10: 'Treasuries_official', 5: 'Treasuries_private', \n",
    "         11: 'Agencies_official', 6: 'Agencies_private', \n",
    "         12: 'Corporate_official', 7: 'Corporate_private',\n",
    "         13: 'Equities_official', 8: 'Equities_private'}\n",
    "\n",
    "df = pd.read_csv(file, header=12, index_col=0, parse_dates=True).iloc[1:]\n",
    "df.index.name = 'date'\n",
    "rn = {f'[{k}]': v for k, v in names.items()}\n",
    "res = df[rn.keys()].rename(rn, axis=1).sort_index().loc['1988':]\n",
    "# Categories to combine\n",
    "c = {'Treasury_Bonds': ['Treasuries_official',\n",
    "                        'Treasuries_private'],\n",
    "     'Agency_Bonds': ['Agencies_official', \n",
    "                      'Agencies_private'],\n",
    "     'Corporate_Bonds': ['Corporate_official',\n",
    "                         'Corporate_private'],\n",
    "     'Equities': ['Equities_official', 'Equities_private']}\n",
    "\n",
    "final = pd.DataFrame()\n",
    "for name, grp in c.items():\n",
    "    final[name] = (res[grp].astype('int').sum(axis=1).sort_index())"
   ]
  },
  {
   "cell_type": "code",
   "execution_count": 67,
   "metadata": {
    "ExecuteTime": {
     "end_time": "2023-07-25T14:46:24.772266Z",
     "start_time": "2023-07-25T14:46:24.769039Z"
    }
   },
   "outputs": [],
   "source": [
    "# URL \n",
    "#file = ('https://treasury.gov/resource-center/data-chart-center/tic/'+\n",
    "#        'Documents/npr_history.csv')\n",
    "#file = ('/home/brian/Downloads/npr_history.csv')\n",
    "# Retrieve historical data csv from Treasury\n",
    "#df = pd.read_csv(file, header=False)\n",
    "#col = df.iloc[8:16, 1:].dropna(how='all', axis=1)\n",
    "#names = {col.iloc[-1, i-1]: col.iloc[:-1, i-1].str.cat(sep=' ') \n",
    "# for i in col.iloc[-1].values.astype(int)}\n",
    "#data = df.iloc[17:, 1:].dropna(how='all')\n",
    "#data.index = [pd.to_datetime(f'{i}-01') \n",
    "#              for i in df.iloc[:,0].dropna()]\n",
    "#data.columns = names.values()\n",
    "#res = data.sort_index().loc['1988':]\n",
    "\n",
    "# Categories to combine\n",
    "#c = {'Treasury_Bonds': ['Official Treas Bonds & Notes, net',\n",
    "#                        'Pvt Treas Bonds & Notes, net'],\n",
    "#     'Agency_Bonds': [\"Official Gov't Agency Bonds, net\", \n",
    "#                      \"Pvt Gov't Agency Bonds, net\"],\n",
    "#     'Corporate_Bonds': ['Official Corp Bonds, net',\n",
    "#                         'Pvt Corp Bonds, net'],\n",
    "#     'Equities': ['Official Equity, Net', 'Pvt Equity, Net']}\n",
    "#\n",
    "#final = pd.DataFrame()\n",
    "#for name, grp in c.items():\n",
    "#    final[name] = (res[grp].astype('int').sum(axis=1).sort_index())"
   ]
  },
  {
   "cell_type": "code",
   "execution_count": 64,
   "metadata": {
    "ExecuteTime": {
     "end_time": "2023-07-27T12:28:25.738945Z",
     "start_time": "2023-07-27T12:28:25.702887Z"
    }
   },
   "outputs": [
    {
     "name": "stdout",
     "output_type": "stream",
     "text": [
      "May 2023\n"
     ]
    }
   ],
   "source": [
    "s = ['Treasury_Bonds', 'Agency_Bonds', 'Corporate_Bonds']\n",
    "pce = pd.read_csv(data_dir / 'nipa20804.csv', index_col='date', \n",
    "                  parse_dates=True).loc[final.index, 'DPCERG']\n",
    "pr = pce / pce.iloc[-1]\n",
    "data = (final[s].rolling(12).sum().loc['1989':]\n",
    "        .divide(1000).dropna())\n",
    "adj = (final[s].divide(pr, axis=0).rolling(12).sum().loc['1989':]\n",
    "        .divide(1000).dropna())\n",
    "adj.to_csv(data_dir/ 'tic_bond.csv', index_label='date')\n",
    "date = dtxt(adj.index[-1])['mon1']\n",
    "write_txt(text_dir / 'tic_date.txt', date)\n",
    "print(date)"
   ]
  },
  {
   "cell_type": "code",
   "execution_count": 65,
   "metadata": {
    "ExecuteTime": {
     "end_time": "2023-07-27T12:28:26.536718Z",
     "start_time": "2023-07-27T12:28:26.503955Z"
    }
   },
   "outputs": [
    {
     "name": "stdout",
     "output_type": "stream",
     "text": [
      "Over the year ending May 2023, the rest of the world was a net buyer of \\$791 billion of US treasury bonds, equivalent to 2.9 percent of US GDP (see \\cbox{black!25!white}). Over the same period, the rest of the world was a net buyer of \\$211 billion of US agency bonds, (see \\cbox{orange!30!yellow!90!white}), and a net buyer of \\$168 billion of US corporate bonds, (see \\cbox{blue!70!white}).\n"
     ]
    }
   ],
   "source": [
    "ltdt = dtxt(data.index[-1])['mon1']\n",
    "gdp = nipa_df(retrieve_table('T10105')['Data'], ['A191RC'])['A191RC']\n",
    "tbgdp = ((data.iloc[-1].loc['Treasury_Bonds'] * 1_000) / \n",
    "         gdp.iloc[-1]) * 100\n",
    "\n",
    "colors = {'Treasury_Bonds': 'black!25!white', \n",
    "          'Corporate_Bonds': 'blue!70!white',\n",
    "          'Agency_Bonds': 'orange!30!yellow!90!white'}\n",
    "\n",
    "cb = {k: c_box(v) for k,v in colors.items()}\n",
    "\n",
    "d = {}\n",
    "for i in s:\n",
    "    item = i.replace('_', ' ').lower()\n",
    "    val = data.iloc[-1].loc[i]\n",
    "    buysell = 'buyer' if val > 0 else 'seller'\n",
    "    txt = (f'a net {buysell} of \\${val:,.0f} billion of US {item}' \n",
    "           if abs(val) >= 5 else \n",
    "           f'about unchanged in holdings of US {item}')\n",
    "    d[i] = txt\n",
    "\n",
    "text = (f'Over the year ending {ltdt}, the rest of the world was '+\n",
    "        f'{d[\"Treasury_Bonds\"]}, equivalent to {tbgdp:.1f} percent '+\n",
    "        f'of US GDP {cb[\"Treasury_Bonds\"]}. Over the same period, '+\n",
    "        f'the rest of the world was {d[\"Agency_Bonds\"]}, '+\n",
    "        f'{cb[\"Agency_Bonds\"]}, and {d[\"Corporate_Bonds\"]}, '+\n",
    "        f'{cb[\"Corporate_Bonds\"]}.')\n",
    "write_txt(text_dir / 'tic.txt', text)\n",
    "print(text)"
   ]
  },
  {
   "cell_type": "code",
   "execution_count": null,
   "metadata": {},
   "outputs": [],
   "source": []
  },
  {
   "cell_type": "code",
   "execution_count": null,
   "metadata": {},
   "outputs": [],
   "source": []
  },
  {
   "cell_type": "markdown",
   "metadata": {},
   "source": [
    "### FRBNY Survey of Consumer Expectations Job Separation Expectation"
   ]
  },
  {
   "cell_type": "code",
   "execution_count": 66,
   "metadata": {
    "ExecuteTime": {
     "end_time": "2023-07-27T12:28:29.990974Z",
     "start_time": "2023-07-27T12:28:29.169837Z"
    }
   },
   "outputs": [],
   "source": [
    "url = ('https://www.newyorkfed.org/medialibrary/interactives/'+\n",
    "       'sce/sce/downloads/data/frbny-sce-data.xlsx')\n",
    "df = pd.read_excel(url, sheet_name='Job separation expectation', \n",
    "                   skiprows=3, index_col=0)\n",
    "df.index = pd.to_datetime([f'{str(i)[:4]}-{str(i)[-2:]}-01' \n",
    "                          for i in df.index])\n",
    "df.columns = ['Losing', 'Leaving']\n",
    "df.to_csv(data_dir / 'sce_job_separation.csv', index_label='date')"
   ]
  },
  {
   "cell_type": "code",
   "execution_count": 67,
   "metadata": {
    "ExecuteTime": {
     "end_time": "2023-07-27T12:28:30.001809Z",
     "start_time": "2023-07-27T12:28:29.992429Z"
    }
   },
   "outputs": [
    {
     "name": "stdout",
     "output_type": "stream",
     "text": [
      "In June 2023, the perceived likelihood of leaving one's job voluntarily in the next 12 months averages 18.9 percent, compared to 21.0 percent in 2019 (see {\\color{violet!50!blue}\\textbf{---}}). In the latest month, the perceived probability losing one's job is 12.9 percent, compared to 14.3 percent in 2019 (see {\\color{cyan}\\textbf{---}}).\n",
      "\n",
      "During the pandemic, in April 2020, job loss expectations exceeded job leaving expectations. In June 2023, job leaving expectations exceed job loss expectations by 5.9 percentage points, compared to 6.8 percentage points in 2019. \n"
     ]
    }
   ],
   "source": [
    "df = pd.read_csv(data_dir / 'sce_job_separation.csv', index_col='date', \n",
    "                 parse_dates=True)\n",
    "\n",
    "lcol = 'cyan'\n",
    "vcol = 'violet!50!blue'\n",
    "vnode = end_node(df.Leaving, vcol, date='m', percent=True, \n",
    "                 full_year=True, colon=False, offset=0.35)\n",
    "lnode = end_node(df.Losing, lcol, percent=True)\n",
    "nodes = '\\n'.join([vnode, lnode])\n",
    "write_txt(text_dir / 'sce_job_sep_nodes.txt', nodes)\n",
    "\n",
    "ltdt = dtxt(df.index[-1])['mon1']\n",
    "ltv = df.Leaving.iloc[-1]\n",
    "prv = df.Leaving.loc['2019'].mean()\n",
    "ltl = df.Losing.iloc[-1]\n",
    "prl = df.Losing.loc['2019'].mean()\n",
    "diff = ltv - ltl\n",
    "diffpr = prv - prl\n",
    "exfb = 'exceed' if diff > 0 else 'false below'\n",
    "text = (f'In {ltdt}, the perceived likelihood of leaving '+\n",
    "        \"one's job voluntarily in the next 12 months \"+\n",
    "        f'averages {ltv:.1f} percent, compared to {prv:.1f} '+\n",
    "        f'percent in 2019 {c_line(vcol)}. In the latest month, '+\n",
    "        f\"the perceived probability losing one's job is {ltl:.1f} \"+\n",
    "        f'percent, compared to {prl:.1f} percent in 2019 '+\n",
    "        f'{c_line(lcol)}.\\n\\nDuring the pandemic, in April 2020, '+\n",
    "        'job loss expectations exceeded job leaving expectations. '+\n",
    "        f'In {ltdt}, job leaving expectations {exfb} job loss '+\n",
    "        f'expectations by {diff:.1f} percentage points, compared '+\n",
    "        f'to {diffpr:.1f} percentage points in 2019. ')\n",
    "write_txt(text_dir / 'sce_job_sep.txt', text)\n",
    "print(text)"
   ]
  },
  {
   "cell_type": "code",
   "execution_count": null,
   "metadata": {},
   "outputs": [],
   "source": []
  },
  {
   "cell_type": "code",
   "execution_count": null,
   "metadata": {},
   "outputs": [],
   "source": []
  },
  {
   "cell_type": "markdown",
   "metadata": {
    "ExecuteTime": {
     "end_time": "2022-03-10T16:51:48.241151Z",
     "start_time": "2022-03-10T16:51:48.238778Z"
    }
   },
   "source": [
    "### Real Effective Exchange Rate\n",
    "\n",
    "From BIS\n",
    "\n",
    "Index 2010 = 100"
   ]
  },
  {
   "cell_type": "code",
   "execution_count": 70,
   "metadata": {
    "ExecuteTime": {
     "end_time": "2023-07-25T14:46:41.764566Z",
     "start_time": "2023-07-25T14:46:41.186533Z"
    }
   },
   "outputs": [
    {
     "name": "stdout",
     "output_type": "stream",
     "text": [
      "The Bank for International Settlements (BIS) \\href{https://www.bis.org/statistics/eer.htm}{calculates} \\textbf{real effective exchange rates} for many countries, on a monthly basis. As of June 2023, the US dollar real effective exchange rate has increased 7.1 percent since 2010. In 2019, the index average was 98.6. Over the past three months, the index average value was 106.6.\n"
     ]
    }
   ],
   "source": [
    "df = fred_df('RBUSBIS')\n",
    "df.to_csv(data_dir / 'reer.csv', index_label='date')\n",
    "ltdt = dtxt(df.index[-1])['mon1']\n",
    "ltval = value_text(df.VALUE.iloc[-1] - 100)\n",
    "val19 = df.loc['2019', 'VALUE'].mean()\n",
    "lt3m = df.VALUE.iloc[-3:].mean()\n",
    "url = 'https://www.bis.org/statistics/eer.htm'\n",
    "text = (f'The Bank for International Settlements (BIS) \\href{{{url}}}{{calculates}} '+\n",
    "        '\\\\textbf{real effective exchange rates} for many countries, on a monthly '+\n",
    "        f'basis. As of {ltdt}, the US dollar real effective exchange rate has '+\n",
    "        f'{ltval} since 2010. In 2019, the index average was {val19:.1f}. Over the '+\n",
    "        f'past three months, the index average value was {lt3m:.1f}.')\n",
    "write_txt(text_dir / 'reer.txt', text)\n",
    "print(text)\n",
    "node = end_node(df.VALUE, 'red', date='m', full_year=True, offset=-0.35)\n",
    "write_txt(text_dir / 'reer_node.txt', node)"
   ]
  },
  {
   "cell_type": "code",
   "execution_count": null,
   "metadata": {},
   "outputs": [],
   "source": []
  },
  {
   "cell_type": "code",
   "execution_count": null,
   "metadata": {},
   "outputs": [],
   "source": []
  },
  {
   "cell_type": "markdown",
   "metadata": {},
   "source": [
    "### Decomposition of US Public Debt Dynamics"
   ]
  },
  {
   "cell_type": "code",
   "execution_count": 68,
   "metadata": {
    "ExecuteTime": {
     "end_time": "2023-07-27T12:28:35.637804Z",
     "start_time": "2023-07-27T12:28:35.433571Z"
    }
   },
   "outputs": [],
   "source": [
    "url = ('https://www.federalreserve.gov/datadownload/Output.aspx?'+\n",
    "       'rel=Z1&series=005f835d2ffea228372c2cc838173fa5&lastobs=&'+\n",
    "       'from=01/01/1988&to=12/31/2023&filetype=csv&label=include&'+\n",
    "       'layout=seriescolumn')\n",
    "d, df = clean_fed_data(url)\n",
    "n = {'FA316006005.A': 'Fiscal balance',\n",
    "     'FA316130001.A': 'Interest paid',\n",
    "     'FL314104005.A': 'DSL',\n",
    "     'FL314190005.A': 'Liab',\n",
    "     'FA315000905.A': 'Borrowing'}\n",
    "data = df[n.keys()].rename(n, axis=1)"
   ]
  },
  {
   "cell_type": "code",
   "execution_count": 69,
   "metadata": {
    "ExecuteTime": {
     "end_time": "2023-07-27T12:28:36.141731Z",
     "start_time": "2023-07-27T12:28:36.096067Z"
    }
   },
   "outputs": [
    {
     "name": "stdout",
     "output_type": "stream",
     "text": [
      "In 2022, the debt to GDP ratio decreased by 3.1 percentage points (see \\begin{tikzpicture} \\node[line width=0.3mm, circle, draw=black, scale=0.4, aspect=0.8] (d) at (0,0) {}; \\end{tikzpicture}). The primary balance added 1.2 percentage points to the debt to GDP ratio (see \\cbox{orange!60!yellow!86!white}), economic growth subtracted 2.1 percentage points (see \\cbox{violet!80!white}), and real interest rates subtracted 4.1 percentage points (see \\cbox{green!80!yellow!68!black}). These combined factors were less than the actual change in liabilities; the adjustment to reconcile stocks and flows added two percentage points (see \\cbox{blue!90!cyan!78!white}).\n"
     ]
    }
   ],
   "source": [
    "data['Primary balance'] = data['Fiscal balance'] + data['Interest paid']\n",
    "gdpa = (nipa_df(retrieve_table('T10105A')['Data'], ['A191RC'])\n",
    "        ['A191RC'])\n",
    "data['GDP'] = gdpa\n",
    "data['pi_'] = (nipa_df(retrieve_table('T10104A')['Data'], ['A191RG'])\n",
    "               ['A191RG'])\n",
    "data['defl'] = data['pi_'].iloc[-1] / data['pi_']\n",
    "data['Real GDP'] = data['defl'] * data['GDP']\n",
    "\n",
    "pb = -data['Primary balance']\n",
    "i = data['Interest paid'] / data['DSL'].shift()\n",
    "pi = data['pi_'].pct_change()\n",
    "g = data['Real GDP'].pct_change()\n",
    "lmbda = data['GDP'].pct_change()\n",
    "d = data['DSL'] / data['GDP']\n",
    "p = pb / data['GDP']\n",
    "\n",
    "res = (((i / (1 + lmbda)) * d.shift()) - \n",
    "       ((pi / (1 + lmbda)) * d.shift()) - \n",
    "       ((g / (1 + g)) * d.shift()) +\n",
    "       p)\n",
    "\n",
    "data['calc'] = res\n",
    "\n",
    "g2 = 0\n",
    "res3 = (((i / (1 + lmbda - g)) * d.shift()) - \n",
    "       ((pi / (1 + lmbda - g)) * d.shift()) - \n",
    "       ((g2 / (1 + g2)) * d.shift()) +\n",
    "       p)\n",
    "\n",
    "res4 = (((pi / (1 + lmbda)) * d.shift()) - \n",
    "       ((pi / (1 + lmbda)) * d.shift()) - \n",
    "       ((g / (1 + g)) * d.shift()) +\n",
    "       p)\n",
    "\n",
    "res5 = (((i / (1 + lmbda)) * d.shift()) - \n",
    "       ((pi / (1 + lmbda)) * d.shift()) - \n",
    "       ((g / (1 + g)) * d.shift()))\n",
    "\n",
    "data['e_gdp'] = (res - res3)\n",
    "data['e_p'] = (res - res5)\n",
    "data['e_r'] = (res - res4)\n",
    "data['calc2'] = data['e_gdp'] + data['e_p'] + data['e_r']\n",
    "data['sfa'] = d.diff() - data['calc2']\n",
    "data['total'] = d.diff()\n",
    "final = data[['e_gdp', 'e_p', 'e_r', 'sfa', 'total']] * 100\n",
    "final = final.dropna()\n",
    "final.index = final.index + pd.DateOffset(months=6)\n",
    "final.to_csv(data_dir / 'debt_dynamics.csv', index_label='date')\n",
    "\n",
    "col = {'p': 'orange!60!yellow!86!white',\n",
    "       'gdp': 'violet!80!white', 'r': 'green!80!yellow!68!black', \n",
    "       'sfa': 'blue!90!cyan!78!white'}\n",
    "\n",
    "lt = final.iloc[-1]\n",
    "ltdt = final.index[-1].year\n",
    "totch = value_text(lt['total'], 'increase_by', 'pp', threshold=0.1)\n",
    "pbch = value_text(lt['e_p'], 'contribution_to', 'pp', casual=True, threshold=0.1)\n",
    "rch = value_text(lt['e_r'], 'contribution', 'pp', casual=True, threshold=0.1)\n",
    "gdpch = value_text(lt['e_gdp'], 'contribution', 'pp', casual=True, threshold=0.1)\n",
    "sfach = value_text(lt['sfa'], 'contribution', 'pp', casual=True, threshold=0.1)\n",
    "cmb = lt[['e_gdp', 'e_p', 'e_r']].sum()\n",
    "cmbtxt = 'greater' if cmb > d.diff().iloc[-1] else 'less'\n",
    "text = (f'In {ltdt}, the debt to GDP ratio {totch} (see '+\n",
    "        '\\\\begin{tikzpicture} \\\\node[line width=0.3mm, circle, '+\n",
    "        'draw=black, scale=0.4, aspect=0.8] (d) at (0,0) {}; '+\n",
    "        '\\end{tikzpicture}). The primary balance '+\n",
    "        f'{pbch} the debt to GDP ratio {c_box(col[\"p\"])}, economic '+\n",
    "        f'growth {gdpch} {c_box(col[\"gdp\"])}, and real interest rates '+\n",
    "        f'{rch} {c_box(col[\"r\"])}. These combined factors were '+\n",
    "        f'{cmbtxt} than the actual change in liabilities; '+\n",
    "        'the adjustment to reconcile stocks and flows '+\n",
    "        f'{sfach} {c_box(col[\"sfa\"])}.')\n",
    "write_txt(text_dir / 'debt_dynamics.txt', text)\n",
    "print(text)"
   ]
  },
  {
   "cell_type": "code",
   "execution_count": null,
   "metadata": {},
   "outputs": [],
   "source": []
  },
  {
   "cell_type": "code",
   "execution_count": null,
   "metadata": {},
   "outputs": [],
   "source": []
  },
  {
   "cell_type": "markdown",
   "metadata": {},
   "source": [
    "### Government Expenditures by Type\n",
    "\n",
    "Longer-term data from OMB Historical Data Table 8.3\n",
    "\n",
    "Shorter-term data from Treasury Monthly Statement Table 9"
   ]
  },
  {
   "cell_type": "code",
   "execution_count": 70,
   "metadata": {
    "ExecuteTime": {
     "end_time": "2023-07-27T12:28:38.675165Z",
     "start_time": "2023-07-27T12:28:38.428534Z"
    }
   },
   "outputs": [
    {
     "name": "stderr",
     "output_type": "stream",
     "text": [
      "/home/brian/miniconda3/lib/python3.8/site-packages/openpyxl/styles/stylesheet.py:226: UserWarning: Workbook contains no default style, apply openpyxl's default\n",
      "  warn(\"Workbook contains no default style, apply openpyxl's default\")\n"
     ]
    }
   ],
   "source": [
    "# Retrieve long-term data\n",
    "url = 'https://www.whitehouse.gov/wp-content/uploads/2022/03/hist08z3_fy2023.xlsx'\n",
    "data = pd.read_excel(url, header=[2,3,4], skipfooter=2, index_col=0)\n",
    "data = data.rename(columns=lambda x: x if not 'Unnamed' in str(x) else '')\n",
    "data.columns = [' '.join(col).strip() for col in data.columns.values]\n",
    "data['Mandatory'] = data.loc[:,data.columns.duplicated()]\n",
    "data = data.loc[:,~data.columns.duplicated()]\n",
    "data = data.rename({'Total': 'Discretionary', '': 'Total'}, axis=1).loc['1989':]\n",
    "data.columns = [i.replace('\\n', ' ').replace('Mandatory Programmatic', 'MP') \n",
    "                for i in data.columns]\n",
    "data.to_csv(data_dir / 'gov_exp_omb_raw.csv', index_label='date')"
   ]
  },
  {
   "cell_type": "code",
   "execution_count": 71,
   "metadata": {
    "ExecuteTime": {
     "end_time": "2023-07-27T12:28:39.233331Z",
     "start_time": "2023-07-27T12:28:39.204077Z"
    }
   },
   "outputs": [
    {
     "name": "stdout",
     "output_type": "stream",
     "text": [
      "national defense spending fell to 15.2 percent of outlays in 2019 from 26.6 percent in 1989 (see \\cbox{green!80!blue!68!black}). Discretionary non-defense spending maintained a relative stable share of spending over the period (see \\cbox{green!78!black}). Net interest expense, the cost of federal borrowing, fell along with long-term interest rates, to 8.4 percent of outlays in 2019 from 14.8 percent in 1989 (see \\cbox{orange!80!yellow}). \n",
      "\n",
      " Offsetting the reduction in spending on interest and national defense, Medicare and Social Security now make up a larger share of federal spending, as a larger share of people are retirement age. Likewise, spending on the social safety net (means-tested benefits and Medicaid) increased as employment-to-population ratios fell and Medicaid was expanded. Medicare (see \\cbox{blue!65!black}), Social Security (see \\cbox{cyan!50!blue!95!white}), and the social safety net (see \\cbox{cyan!95!white}) combine to comprise 54.8 percent of federal spending in 2019, compared to 34.7 percent in 1989. \n"
     ]
    }
   ],
   "source": [
    "data = pd.read_csv(data_dir / 'gov_exp_omb_raw.csv', index_col='date')\n",
    "res = data[['Net Interest', 'Non- defense', 'National Defense', \n",
    "            'MP Social Security', 'MP Medicare']].copy()\n",
    "res['Social Safety Net'] = (data['MP Medicaid'] + \n",
    "                            data['MP Other Means  Tested Entitlements (1)'])\n",
    "res['Other'] = 100 - res.sum(axis=1)\n",
    "res = res.loc[~res.index.str.contains('estimate')]\n",
    "res.index = pd.to_datetime(res.index) + pd.DateOffset(months=6)\n",
    "res.to_csv(data_dir / 'gov_exp_omb.csv', index_label='date')\n",
    "\n",
    "cols = ['National Defense', 'Non- defense', 'MP Medicare', 'MP Social Security', \n",
    "        'Social Safety Net', 'Other', 'Net Interest']\n",
    "sdf = res[cols].iloc[-1]\n",
    "height = ((sdf.cumsum() - (sdf / 2) + 4)).to_dict()\n",
    "val = sdf.to_dict()\n",
    "dt = dtxt(res.index[-1] + pd.DateOffset(weeks=2))['datetime']\n",
    "nodes = [f'\\\\absnode{{{dt}}}{{{height[i]}}}{{\\scriptsize {val[i]:.1f}\\%}}' for i in cols]\n",
    "dt2 = dtxt(final.index[-1] - pd.DateOffset(months=24))['datetime']\n",
    "dv = dtxt(res.index[-1])['year']\n",
    "dtnode = f'\\\\absnode{{{dt2}}}{{{108}}}{{\\\\footnotesize {dv}}}'\n",
    "nodetext = '\\n'.join([dtnode] + nodes)\n",
    "write_txt(text_dir / 'gov_exp_nodes.txt', nodetext)\n",
    "\n",
    "val19 = res.loc['2019-07-01']\n",
    "val89 = res.loc['1989-07-01']\n",
    "def19 = val19['National Defense']\n",
    "def89 = val89['National Defense']\n",
    "ni19 = val19['Net Interest']\n",
    "ni89 = val89['Net Interest']\n",
    "combcat = ['MP Medicare', 'MP Social Security', 'Social Safety Net']\n",
    "comb19 = val19.loc[combcat].sum()\n",
    "comb89 = val89.loc[combcat].sum()\n",
    "colors = {'Defense': 'green!80!blue!68!black',\n",
    "          'NonDef': 'green!78!black',\n",
    "          'NI': 'orange!80!yellow',\n",
    "          'SS': 'cyan!50!blue!95!white',\n",
    "          'Medicare': 'blue!65!black',\n",
    "          'SSN': 'cyan!95!white'}\n",
    "\n",
    "text = (f'national defense spending fell to {def19:.1f} percent '+\n",
    "        f'of outlays in 2019 from {def89:.1f} percent in 1989 '+\n",
    "        f'{c_box(colors[\"Defense\"])}. Discretionary non-defense '+\n",
    "        'spending maintained a relative stable share of spending '+\n",
    "        f'over the period {c_box(colors[\"NonDef\"])}. Net interest '+\n",
    "        'expense, the cost of federal borrowing, fell along with '+\n",
    "        f'long-term interest rates, to {ni19:.1f} percent of outlays '+\n",
    "        f'in 2019 from {ni89:.1f} percent in 1989 '+\n",
    "        f'{c_box(colors[\"NI\"])}. \\n\\n Offsetting the reduction in '+\n",
    "        'spending on interest and national defense, Medicare and '+\n",
    "        'Social Security now make up a larger share of federal '+\n",
    "        'spending, as a larger share of people are retirement age. '+\n",
    "        'Likewise, spending on the social safety net (means-tested '+\n",
    "        'benefits and Medicaid) increased as employment-to-population '+\n",
    "        'ratios fell and Medicaid was expanded. Medicare '+\n",
    "        f'{c_box(colors[\"Medicare\"])}, Social Security '+\n",
    "        f'{c_box(colors[\"SS\"])}, and the social safety net '+\n",
    "        f'{c_box(colors[\"SSN\"])} combine to comprise {comb19:.1f} '+\n",
    "        'percent of federal spending in 2019, compared to '+\n",
    "        f'{comb89:.1f} percent in 1989. ')\n",
    "write_txt(text_dir / 'gov_exp_comp1.txt', text)\n",
    "print(text)"
   ]
  },
  {
   "cell_type": "code",
   "execution_count": 72,
   "metadata": {
    "ExecuteTime": {
     "end_time": "2023-07-27T12:28:42.275081Z",
     "start_time": "2023-07-27T12:28:41.515539Z"
    }
   },
   "outputs": [],
   "source": [
    "#Retrieve short-term data\n",
    "cols = ['record_date', 'classification_desc', \n",
    "        'current_month_rcpt_outly_amt']\n",
    "fields = ','.join(cols)\n",
    "lines = ','.join([str(i) for i in list(range(14, 34))])\n",
    "url = ('https://api.fiscaldata.treasury.gov/services/api/'+\n",
    "       'fiscal_service/v1/accounting/mts/mts_table_9'+\n",
    "       f'?filter=src_line_nbr:in:({lines})&format=csv&'+\n",
    "       f'fields={fields}&page[size]=6000')\n",
    "df = (pd.read_csv(url, index_col=cols[:2], parse_dates=True)\n",
    "        ['current_month_rcpt_outly_amt']\n",
    "        .unstack().astype('float').divide(1_000_000))\n",
    "df.to_csv(data_dir / 'gov_exp_mts_raw.csv', index_label='date')"
   ]
  },
  {
   "cell_type": "code",
   "execution_count": 73,
   "metadata": {
    "ExecuteTime": {
     "end_time": "2023-07-27T12:28:42.346979Z",
     "start_time": "2023-07-27T12:28:42.282169Z"
    }
   },
   "outputs": [
    {
     "name": "stdout",
     "output_type": "stream",
     "text": [
      "Income security, which includes economic impact payments, the child tax credit, unemployment compensation, food and nutrition assistance, federal employee retirement and disability, and housing assistance, was 12.1 percent of federal spending over the 12 months ending June 2023 (see \\cbox{brown}). At its peak, over the 12 months ending March 2021, income security comprised 24.7 percent of federal spending. Pre-pandemic, in 2019, the category comprised 11.3 percent. \n",
      "\n",
      " The category labeled ``other'' in the above-right chart includes several subcategories worth examining. The category increased to 21.0 percent of federal spending during the 12 months ending June 2023, from 24.2 percent during the 12 months ending March 2021 (see \\cbox{yellow!50!brown!55!white}). Prior to the pandemic, in 2019, the category was 12.8 percent of spending. \n"
     ]
    }
   ],
   "source": [
    "df = pd.read_csv(data_dir / 'gov_exp_mts_raw.csv', index_col='date', \n",
    "                 parse_dates=True)\n",
    "oth = ['Administration of Justice', 'Agriculture',\n",
    "       'Commerce and Housing Credit', \n",
    "       'Community and Regional Development',\n",
    "       'Education, Training, Employment, and Social Services', \n",
    "       'Energy', 'General Government', \n",
    "       'General Science, Space, and Technology',\n",
    "       'International Affairs', 'Natural Resources and Environment', \n",
    "       'Transportation', 'Undistributed Offsetting Receipts', \n",
    "       'Veterans Benefits and Services']\n",
    "df['Other'] = df[oth].sum(axis=1)\n",
    "res = df[['Income Security', 'Social Security', 'Health', \n",
    "          'National Defense', 'Medicare', 'Net Interest', 'Other']].copy()\n",
    "final = ((res.divide(res.sum(axis=1), axis=0) * 100)\n",
    "             .rolling(12).mean().dropna())\n",
    "final.loc['2016-12-01':].to_csv(data_dir / 'gov_exp_mts.csv', \n",
    "                                index_label='date')\n",
    "\n",
    "cols = ['National Defense', 'Health', 'Medicare', 'Social Security', \n",
    "        'Income Security', 'Other', 'Net Interest']\n",
    "sdf = final[cols].iloc[-1]\n",
    "height = ((sdf.cumsum() - (sdf / 2) + 4)).to_dict()\n",
    "val = sdf.to_dict()\n",
    "dt = dtxt(final.index[-1] + pd.DateOffset(weeks=1))['datetime']\n",
    "nodes = [f'\\\\absnode{{{dt}}}{{{height[i]}}}{{\\scriptsize {val[i]:.1f}\\%}}' \n",
    "         for i in cols]\n",
    "dt2 = dtxt(final.index[-1] - pd.DateOffset(months=3))['datetime']\n",
    "dv = dtxt(final.index[-1])['mon6']\n",
    "dtnode = f'\\\\absnode{{{dt2}}}{{{108}}}{{\\\\footnotesize {dv}}}'\n",
    "nodetext = '\\n'.join([dtnode] + nodes)\n",
    "write_txt(text_dir / 'gov_exp_nodes2.txt', nodetext)\n",
    "\n",
    "ltdt = dtxt(final.index[-1])['mon1']\n",
    "lt = final.iloc[-1]\n",
    "incseclt = lt['Income Security']\n",
    "maxdt = dtxt(final[['Income Security', 'Other']].sum(axis=1).idxmax())\n",
    "maxmon = maxdt['mon1']\n",
    "mx = final.loc[maxdt['datetime']]\n",
    "pc = final.loc['2019-12-31']\n",
    "incsecmx = mx['Income Security']\n",
    "incsecpc = pc['Income Security']\n",
    "text = ('Income security, which includes economic impact payments, the '+\n",
    "        'child tax credit, unemployment compensation, food and nutrition '+\n",
    "        'assistance, federal employee retirement and disability, and '+\n",
    "        f'housing assistance, was {incseclt:.1f} percent of federal spending '+\n",
    "        f'over the 12 months ending {ltdt} {c_box(\"brown\")}. At its peak, '+\n",
    "        f'over the 12 months ending {maxmon}, income security comprised '+\n",
    "        f'{incsecmx:.1f} percent of federal spending. Pre-pandemic, in 2019, '+\n",
    "        f'the category comprised {incsecpc:.1f} percent. ')\n",
    "write_txt(text_dir / 'gov_exp_comp2.txt', text)\n",
    "print(text)\n",
    "\n",
    "cols2 = {'Income Security': 'brown', 'Health': 'violet!50!black', \n",
    "         'Medicare': 'blue!65!black', \n",
    "         'Social Security': 'cyan!50!blue!95!white', \n",
    "         'National Defense': 'green!80!blue!68!black',  \n",
    "         'Net Interest': 'orange!80!yellow', \n",
    "         'Other: ': 'yellow!50!brown!55!white'}\n",
    "col_names = {k: f'\\hspace{{-1mm}}\\cbox{{{v}}}{k}' for k, v in cols2.items()}\n",
    "col_names2 = {i: f'\\hspace{{6mm}}{i}' for i in oth}\n",
    "\n",
    "data = df.rolling(12).sum()\n",
    "data = data.divide(data.Total, axis=0) * 100\n",
    "data = data.rename({'Other': 'Other: '}, axis=1)\n",
    "data = data[list(cols2.keys()) + oth]\n",
    "tbl = data.iloc[-3:].iloc[::-1].T\n",
    "dmax = data.loc[maxdt['datetime']]\n",
    "d19 = data.loc['2019'].mean().rename('2019')\n",
    "d17 = data.loc['2017'].mean().rename('2017')\n",
    "tbl = tbl.join(dmax)\n",
    "tbl.columns = [dtxt(i)['mon2'] for i in tbl.columns]\n",
    "tbl = tbl.join(d19).join(d17)\n",
    "tbl = tbl.rename(col_names).rename(col_names2)\n",
    "tbl.index = tbl.index.str.replace('and', '\\&')\n",
    "tbl = tbl.round(1).applymap('{:.1f}'.format)\n",
    "tbl = tbl.rename({'\\hspace{6mm}Education, Training, Employment, \\& Social Services': \n",
    "            '\\hspace{6mm}Educ., Training, Employment, \\& Social Serv.'})\n",
    "(tbl.to_csv(data_dir / 'gov_exp_comp.tex', sep='&', \n",
    "            lineterminator='\\\\\\ ', quotechar=' '))\n",
    "\n",
    "ltval = data['Other: '].iloc[-1]\n",
    "maxval = data.loc[maxdt['datetime'], 'Other: ']\n",
    "val19 = data.loc['2019', 'Other: '].mean()\n",
    "text = (f\"The category labeled ``other'' in the above-right chart \"+\n",
    "        f'includes several subcategories worth examining. The '+\n",
    "        f'category increased to {ltval:.1f} percent of federal '+\n",
    "        f'spending during the 12 months ending {ltdt}, from '+\n",
    "        f'{maxval:.1f} percent during the 12 months ending {maxmon} '+\n",
    "        f'{c_box(cols2[\"Other: \"])}. Prior to the pandemic, in 2019, '+\n",
    "        f'the category was {val19:.1f} percent of spending. ')\n",
    "write_txt(text_dir / 'gov_exp_comp3.txt', text)\n",
    "print('\\n', text)"
   ]
  },
  {
   "cell_type": "code",
   "execution_count": null,
   "metadata": {},
   "outputs": [],
   "source": []
  },
  {
   "cell_type": "code",
   "execution_count": null,
   "metadata": {},
   "outputs": [],
   "source": []
  }
 ],
 "metadata": {
  "kernelspec": {
   "display_name": "Python 3 (ipykernel)",
   "language": "python",
   "name": "python3"
  },
  "language_info": {
   "codemirror_mode": {
    "name": "ipython",
    "version": 3
   },
   "file_extension": ".py",
   "mimetype": "text/x-python",
   "name": "python",
   "nbconvert_exporter": "python",
   "pygments_lexer": "ipython3",
   "version": "3.8.13"
  }
 },
 "nbformat": 4,
 "nbformat_minor": 2
}
