{
 "cells": [
  {
   "cell_type": "markdown",
   "metadata": {},
   "source": [
    "# Generate Data for Chartbook\n",
    "\n",
    "Brian Dew\n",
    "\n",
    "@bd_econ"
   ]
  },
  {
   "cell_type": "code",
   "execution_count": 1,
   "metadata": {
    "ExecuteTime": {
     "end_time": "2024-01-19T14:15:46.678214Z",
     "start_time": "2024-01-19T14:15:45.670401Z"
    }
   },
   "outputs": [],
   "source": [
    "import sys\n",
    "sys.path.append('../src')\n",
    "\n",
    "import uschartbook.config\n",
    "\n",
    "from uschartbook.config import *\n",
    "from uschartbook.utils import *"
   ]
  },
  {
   "cell_type": "code",
   "execution_count": 2,
   "metadata": {
    "ExecuteTime": {
     "end_time": "2024-01-19T14:15:46.681948Z",
     "start_time": "2024-01-19T14:15:46.679898Z"
    }
   },
   "outputs": [],
   "source": [
    "#nipa_series_codes(retrieve_table('T11500'))"
   ]
  },
  {
   "cell_type": "code",
   "execution_count": null,
   "metadata": {},
   "outputs": [],
   "source": []
  },
  {
   "cell_type": "markdown",
   "metadata": {
    "ExecuteTime": {
     "end_time": "2022-09-05T02:11:50.599323Z",
     "start_time": "2022-09-05T02:11:50.596520Z"
    }
   },
   "source": [
    "### GDPNow"
   ]
  },
  {
   "cell_type": "code",
   "execution_count": 3,
   "metadata": {
    "ExecuteTime": {
     "end_time": "2024-01-19T14:15:47.246695Z",
     "start_time": "2024-01-19T14:15:46.685431Z"
    },
    "scrolled": true
   },
   "outputs": [],
   "source": [
    "url = ('https://api.stlouisfed.org/fred/series?series_id=GDPNOW&'+\n",
    "       f'api_key={fred_key}&file_type=json')\n",
    "r = requests.get(url).json()\n",
    "update = r['seriess'][0]['last_updated']\n",
    "url = ('https://api.stlouisfed.org/fred/series/observations?series_id=GDPNOW&'+\n",
    "       f'api_key={fred_key}&file_type=json')\n",
    "r = requests.get(url).json()\n",
    "lv = pd.DataFrame(r['observations']).set_index('date')['value'].sort_index()[-1]\n",
    "lvt = f'{float(lv):.1f}'\n",
    "nowdt = pd.DataFrame(r['observations']).set_index('date')['value'].sort_index().index[-1]\n",
    "ltdt = dtxt(nowdt)['qtr1']\n",
    "\n",
    "# Store GDP now value\n",
    "gdpnow = pd.Series({'date': nowdt, 'value': lv}).to_frame().T.set_index('date')\n",
    "gdpnow.to_csv(data_dir / 'gdpnow.csv', index_label='date')\n",
    "\n",
    "s = ['A191RL']\n",
    "gdp = nipa_df(retrieve_table('T10502')['Data'], s).sort_index()\n",
    "gdpdt = gdp.index[-1]"
   ]
  },
  {
   "cell_type": "code",
   "execution_count": 4,
   "metadata": {
    "ExecuteTime": {
     "end_time": "2024-01-19T14:15:47.255340Z",
     "start_time": "2024-01-19T14:15:47.249625Z"
    }
   },
   "outputs": [
    {
     "name": "stdout",
     "output_type": "stream",
     "text": [
      "The latest nowcast for 2023 Q4 is 2.4 percent, as of January 18, 2024 (see \\tikz \\draw[black, fill=red] (2.5pt,2.5pt) circle (2.5pt);).\n"
     ]
    }
   ],
   "source": [
    "# Only add mark to plot if nowcast is available\n",
    "mark = ' (see \\\\tikz \\draw[black, fill=red] (2.5pt,2.5pt) circle (2.5pt);)'\n",
    "if dtxt(gdpdt)['datetime'] < nowdt:\n",
    "    linedt = dtxt(pd.to_datetime(nowdt) - pd.DateOffset(days=46))['datetime']\n",
    "    node = (f'\\\\node[label={{[align=left]90:{{\\scriptsize \\\\textit{{{lvt}}}}}}}, '+\n",
    "            'circle, draw=black, fill=red, inner sep=1.8pt] at '+\n",
    "            f'(axis cs:{nowdt}, {lv}) {{}};'+\n",
    "            f'\\draw [dashed] (axis cs:{{{linedt}}},\\pgfkeysvalueof{{/pgfplots/ymin}})'+\n",
    "            f' -- (axis cs:{{{linedt}}}, \\pgfkeysvalueof{{/pgfplots/ymax}});')\n",
    "    write_txt(text_dir / 'gdpnow_node.txt', node)\n",
    "\n",
    "    node = ('\\\\node[circle, draw=black, fill=red, inner sep=1.0pt] '+\n",
    "            f'at (axis cs:{nowdt}, {lv}) {{}};')\n",
    "    write_txt(text_dir / 'gdpnow_node2.txt', node)\n",
    "    # Nowcast text\n",
    "    write_txt(text_dir / 'nowcast_text.txt', 'nowcast')\n",
    "    latest_txt = 'latest '\n",
    "\n",
    "else:\n",
    "    node = ''\n",
    "    write_txt(text_dir / 'gdpnow_node.txt', node)\n",
    "    write_txt(text_dir / 'gdpnow_node2.txt', node)\n",
    "    write_txt(text_dir / 'nowcast_text.txt', '\\color{white}{.}')\n",
    "    latest_txt = ''\n",
    "    mark = ''\n",
    "            \n",
    "text = (f'The {latest_txt}nowcast for {ltdt} is {lvt} percent, as '+\n",
    "        f'of {dtxt(pd.to_datetime(update))[\"day1\"]}{mark}.')\n",
    "write_txt(text_dir / 'gdpnow.txt', text)\n",
    "print(text)"
   ]
  },
  {
   "cell_type": "code",
   "execution_count": null,
   "metadata": {},
   "outputs": [],
   "source": []
  },
  {
   "cell_type": "code",
   "execution_count": null,
   "metadata": {},
   "outputs": [],
   "source": []
  },
  {
   "cell_type": "markdown",
   "metadata": {
    "ExecuteTime": {
     "end_time": "2023-09-05T02:28:04.781746Z",
     "start_time": "2023-09-05T02:28:04.779721Z"
    }
   },
   "source": [
    "### Monthly nominal GDP measure\n",
    "\n",
    "Does not show meaningful differences within months, basic interpolation. Adds latest quarter from nowcasts."
   ]
  },
  {
   "cell_type": "code",
   "execution_count": 5,
   "metadata": {
    "ExecuteTime": {
     "end_time": "2024-01-19T14:15:47.269334Z",
     "start_time": "2024-01-19T14:15:47.256623Z"
    }
   },
   "outputs": [],
   "source": [
    "pce = pd.read_csv(data_dir / 'pce_now.csv', index_col='date', parse_dates=True)\n",
    "gdp = gdpnow.copy().astype('float')\n",
    "gdp.index = pd.to_datetime(gdp.index)\n",
    "data = pd.concat([gdp, pce], axis=1)\n",
    "data['real'] = data[['value', 'pce']].sum(axis=1)"
   ]
  },
  {
   "cell_type": "code",
   "execution_count": 6,
   "metadata": {
    "ExecuteTime": {
     "end_time": "2024-01-19T14:15:47.300819Z",
     "start_time": "2024-01-19T14:15:47.270528Z"
    }
   },
   "outputs": [],
   "source": [
    "df = nipa_df(retrieve_table('T10105')['Data'], ['A191RC'])['A191RC']\n",
    "mult = ((data['real'].iloc[0] / 4) / 100) + 1\n",
    "df.loc[data.index[0]] = df.iloc[-1] * mult\n",
    "df.index = (df.index + pd.DateOffset(months=2)).to_period('M')\n",
    "mon = df.resample('M').interpolate()\n",
    "mon.index = mon.index.to_timestamp()\n",
    "mon.to_csv(data_dir / 'gdp_monthly.csv', index_label='date')"
   ]
  },
  {
   "cell_type": "code",
   "execution_count": null,
   "metadata": {},
   "outputs": [],
   "source": []
  },
  {
   "cell_type": "code",
   "execution_count": null,
   "metadata": {},
   "outputs": [],
   "source": []
  },
  {
   "cell_type": "markdown",
   "metadata": {},
   "source": [
    "### Estimate of labor productivity"
   ]
  },
  {
   "cell_type": "code",
   "execution_count": 7,
   "metadata": {
    "ExecuteTime": {
     "end_time": "2024-01-19T14:15:47.350087Z",
     "start_time": "2024-01-19T14:15:47.302080Z"
    }
   },
   "outputs": [],
   "source": [
    "data = pd.read_csv(data_dir / 'gdpjobslvl.csv', \n",
    "                   index_col='date', parse_dates=True)\n",
    "currdt = data['GDP'].dropna().index[-1]\n",
    "gdpnow = pd.read_csv(data_dir / 'gdpnow.csv', index_col='date', parse_dates=True)\n",
    "\n",
    "qch = ((gdpnow['value'].iloc[0] / 100) + 1) ** (1/4)\n",
    "nowdt = gdpnow.index[0]\n",
    "ltmo = f'{gdpnow.index[0].year}-{gdpnow.index[0].quarter*3}-01'\n",
    "prdt = nowdt - pd.DateOffset(months=3)\n",
    "\n",
    "# Fill in data based on GDPNow estimate\n",
    "if pd.isna(data.loc[nowdt, 'GDP']):\n",
    "    if pd.isna(data.loc[nowdt, 'TOT_HRS']):\n",
    "        popch = (data['POP'].pct_change().iloc[-1]) + 1\n",
    "        data.loc[nowdt, 'TOT_HRS'] = data.loc[prdt, 'TOT_HRS'] * popch\n",
    "        data.loc[nowdt, 'EPOP_sa'] = data.loc[prdt, 'EPOP_sa']\n",
    "        data.loc[nowdt, 'AAH_trend'] = data.loc[prdt, 'AAH_trend']\n",
    "    data.loc[nowdt, 'GDP'] = data.loc[prdt, 'GDP'] * qch\n",
    "    data.loc[nowdt, 'LPROD'] = (data.loc[nowdt, 'GDP'] / \n",
    "                                data.loc[nowdt, 'TOT_HRS'])\n",
    "    qtrs = -10\n",
    "    gdp_now = True\n",
    "else:\n",
    "    qtrs = -9\n",
    "    gdp_now = False\n",
    "    \n",
    "# Contribution to GDP growth\n",
    "srs = {'EPOP_sa': 'epop_contr', 'POP': 'pop_contr', \n",
    "       'AAH_trend': 'hours_contr', 'lprod': 'prod', \n",
    "       'GDP': 'gdp'}\n",
    "dft = data.copy()[['GDP', 'POP', 'EPOP_sa', 'AAH_trend', \n",
    "                   'TOT_HRS', 'LPROD']].dropna()\n",
    "c = ((((dft.pct_change() + 1) ** 4) - 1) * 100).rename(srs, axis=1).dropna()\n",
    "clt = c.copy().iloc[qtrs:]\n",
    "\n",
    "# Nodes\n",
    "sl = ['pop_contr', 'epop_contr', 'hours_contr', 'LPROD']\n",
    "nodes = selected_nodes(clt[sl], nowrow=gdp_now, threshold=0.3)\n",
    "write_txt(text_dir / 'gdp_hh_comp_recent_nodes.txt', nodes)\n",
    "\n",
    "# Save csv\n",
    "clt['label'] = [f'Q{i.quarter} \\\\\\\\ {i.year}' \n",
    "                  if (i.quarter == 1) | (i == clt.index[0]) \n",
    "                  else dtxt(i)['qtr3'] for i in clt.index]\n",
    "clt.to_csv(data_dir / 'gdp_hh_comp_recent.csv', index_label='date')\n",
    "\n",
    "# Convert to indices\n",
    "for i in ['LPROD','TOT_HRS', 'GDP', \n",
    "          'POP', 'EPOP_sa', 'AAH_trend']:\n",
    "    data[f'{i}_ix'] = (data[i] / data.loc['2000-01-01', i]) * 100\n",
    "\n",
    "# Calculate productivity growth rate\n",
    "data['LPROD_gr'] = c.LPROD\n",
    "    \n",
    "# Create table\n",
    "cl = c_line('cyan!70!white', see=False, paren=False)\n",
    "names = {'LPROD_ix': f'\\hspace{{0.1mm}}{cl} Labor Productivity (index)', \n",
    "         'GDP_ix': '\\hspace{4mm} Real GDP (index)',\n",
    "         'TOT_HRS_ix': '\\hspace{4mm} Total Hours Worked (index)', \n",
    "         'POP': '\\hspace{7mm} Population (millions)', \n",
    "         'EPOP_sa': '\\hspace{7mm} Employment Rate (percent)', \n",
    "         'AAH_trend': '\\hspace{7mm} Average Workweek (hours)',\n",
    "         'LPROD_gr': '\\hspace{0.1mm} Labor Productivity Growth (percent)'}\n",
    "\n",
    "table = data[names.keys()].dropna().iloc[[-1,-2,-3,-5]].T\n",
    "table['2019-10-01'] = data.loc['2019-10-01', names.keys()]\n",
    "table.columns = [dtxt(c)['qtr1'] for c in table.columns]\n",
    "table['2014'] = data.loc['2014', names.keys()].mean()\n",
    "table['1989'] = data.loc['1989', names.keys()].mean()\n",
    "table = table.rename(names)\n",
    "nowqt = dtxt(nowdt)['qtr1']\n",
    "if nowdt > currdt:\n",
    "    table[nowqt] = (table[nowqt].apply('\\\\textit{{{:.1f}}}'.format))\n",
    "    table.iloc[:, 1:] = table.iloc[:, 1:].applymap('{:.1f}'.format)\n",
    "    table.columns = table.columns.str.replace(nowqt, f'\\\\\\\\textit{{{{{nowqt}}} Est.}}')\n",
    "else:\n",
    "    table = table.applymap('{:.1f}'.format)\n",
    "table.to_csv(data_dir / 'gdpjobs.tex', sep='&', \n",
    "             lineterminator='\\\\\\ ', quotechar=' ')"
   ]
  },
  {
   "cell_type": "code",
   "execution_count": 8,
   "metadata": {
    "ExecuteTime": {
     "end_time": "2024-01-19T14:15:47.357949Z",
     "start_time": "2024-01-19T14:15:47.352624Z"
    }
   },
   "outputs": [
    {
     "name": "stdout",
     "output_type": "stream",
     "text": [
      "More-recent data show annualized total economy productivity growth of 4.9 percent in 2023 Q3. The estimate for 2023 Q4 (see \\tikz \\draw[black, fill=cyan!70!white] (2.5pt,2.5pt) circle (2.5pt);), based on the Federal Reserve Bank of Atlanta GDPNow, suggests annualized productivity growth of 2.5 percent.\n"
     ]
    }
   ],
   "source": [
    "# Only add mark to plot if nowcast is available\n",
    "mark = ' (see \\\\tikz \\draw[black, fill=cyan!70!white] (2.5pt,2.5pt) circle (2.5pt);)'\n",
    "prval = data.loc[currdt, 'LPROD_gr']\n",
    "nowval = data.loc[nowdt, 'LPROD_gr']\n",
    "lv = data.loc[nowdt, 'LPROD_ix']\n",
    "lvt = f'{lv:.1f}'\n",
    "cht = f'{nowval:.1f}'\n",
    "if currdt < nowdt:\n",
    "    node = (f'\\\\node[label={{[align=left]90:{{\\scriptsize \\\\textit{{{lvt}}}}}}}, '+\n",
    "            'circle, draw=black, fill=cyan!70!white, inner sep=1.2pt] at '+\n",
    "            f'(axis cs:{nowdt.date()}, {lv}) {{}};')\n",
    "    node2 = (f'\\\\node[label={{[align=left]90:{{\\scriptsize \\\\textit{{{cht}}}}}}}, '+\n",
    "            'circle, draw=black, fill=cyan!70!white, inner sep=1.2pt] at '+\n",
    "            f'(axis cs:{nowdt.date()}, {nowval}) {{}};')\n",
    "    txt = (f'The estimate for {nowqt}{mark}, based on the Federal Reserve Bank of '+\n",
    "        'Atlanta GDPNow, suggests annualized productivity growth of '+\n",
    "        f'{nowval:.1f} percent.')\n",
    "    write_txt(text_dir / 'gdpjobs_est_node.txt', node)\n",
    "    write_txt(text_dir / 'lprod_rec_node.txt', node2)\n",
    "else:\n",
    "    node = ''\n",
    "    txt = ''\n",
    "    write_txt(text_dir / 'gdpjobs_est_node.txt', node)\n",
    "\n",
    "text = ('More-recent data show annualized total economy productivity '+\n",
    "        f'growth of {prval:.1f} percent in {dtxt(currdt)[\"qtr1\"]}. {txt}')\n",
    "write_txt(text_dir / 'gdpjobs_est.txt', text)\n",
    "print(text)"
   ]
  },
  {
   "cell_type": "code",
   "execution_count": 9,
   "metadata": {
    "ExecuteTime": {
     "end_time": "2024-01-19T14:15:47.371133Z",
     "start_time": "2024-01-19T14:15:47.359263Z"
    }
   },
   "outputs": [],
   "source": [
    "rec = data.loc[:currdt, 'LPROD_gr'].iloc[-8:].to_frame()\n",
    "rec['Quarter'] = [f'Q{i.quarter}\\\\\\\\{i.year}' if i.quarter == 1 \n",
    "                  else dtxt(i)['qtr3'] for i in rec.index]\n",
    "# From GDP Now (cover cases where no nowcast available)\n",
    "if currdt < nowdt:\n",
    "    next_qtr = rec.index[-1] + pd.DateOffset(months=3)\n",
    "    label = (f'Q{next_qtr.quarter}\\\\\\\\{next_qtr.year}' \n",
    "             if next_qtr.quarter == 1 else dtxt(next_qtr)['qtr3'])\n",
    "    frow = pd.DataFrame({'Quarter': label, \n",
    "                         'date': next_qtr}, index={'date': 4})\n",
    "    rec= pd.concat([rec.reset_index(), frow]).set_index('date')\n",
    "    rec.loc[next_qtr, 'LPROD_gr'] = 0\n",
    "rec['zero'] = 0\n",
    "rec.to_csv(data_dir / 'lprod_rec.csv', index_label='date')\n",
    "\n",
    "# Average bar\n",
    "start_date = rec.index[0] - pd.DateOffset(months=2)\n",
    "end_date = rec.index[-1] + pd.DateOffset(months=1)\n",
    "val = data['LPROD_gr'].iloc[:-1].astype('float').mean()\n",
    "color = 'gray!60!white'\n",
    "bar = (f'\\draw [{color}] (axis cs:{{{start_date}}},{val}) -- '+\n",
    "       f'(axis cs:{{{end_date}}},{val});')\n",
    "bardf = pd.Series(index=[start_date, end_date], \n",
    "                data=[val, val], name='Bar')\n",
    "node = end_node(bardf, color, loc='start')\n",
    "write_txt(text_dir / 'lprod_rec_bar_node.txt', bar + '\\n' + node)"
   ]
  },
  {
   "cell_type": "code",
   "execution_count": 10,
   "metadata": {
    "ExecuteTime": {
     "end_time": "2024-01-19T14:15:47.384595Z",
     "start_time": "2024-01-19T14:15:47.372471Z"
    },
    "code_folding": []
   },
   "outputs": [
    {
     "name": "stdout",
     "output_type": "stream",
     "text": [
      "Using the Atlanta Fed GDPNow and the latest available population and labor force data, we can estimate contributions to growth for 2023 Q4. Real GDP is estimated to increase by 2.4 percent, with contributions of 2.5 percentage points from labor productivity and 0.6 percentage point from population growth.\n"
     ]
    }
   ],
   "source": [
    "# Optional GDPNow text for HH inp contributions\n",
    "text = ''\n",
    "if currdt < nowdt:\n",
    "    sl = ['pop_contr', 'epop_contr', 'hours_contr', 'LPROD']\n",
    "    ltvals = clt[sl].iloc[-1]\n",
    "\n",
    "    epopnm = ('the higher employment rate' if ltvals.epop_contr > 0.4 \n",
    "              else 'the lower employment rate' if ltvals.epop_contr < -0.4\n",
    "              else 'the employment rate')\n",
    "    hoursnm = ('longer average workweeks' if ltvals.hours_contr > 0.4 \n",
    "              else 'the drop in hours worked' if ltvals.hours_contr < -0.4\n",
    "              else 'hours worked')\n",
    "    rn = {'epop_contr': epopnm,\n",
    "          'pop_contr': 'population growth',\n",
    "          'hours_contr': hoursnm,\n",
    "          'LPROD': 'labor productivity'}\n",
    "    ltvals = ltvals.rename(rn)\n",
    "\n",
    "    sel = ltvals[(abs(ltvals) > 0.4).sort_values()]\n",
    "    if len(sel) > 0:\n",
    "        cat1 = sel.index[-1]\n",
    "        cv1 = value_text(sel.sort_values().iloc[-1], 'plain', ptype='pp')\n",
    "        ext = '.'\n",
    "    if len(sel) > 1:\n",
    "        cat2 = sel.index[-2]\n",
    "        cv2 = value_text(sel.sort_values().iloc[-2], 'plain', ptype='pp')\n",
    "        ext = f' and {cv2} from {cat2}.'\n",
    "    nowdtt = dtxt(nowdt)['qtr1']\n",
    "    gdpch = (value_text(clt.gdp.iloc[-1], 'increase_by', threshold=0.1)\n",
    "             .replace('ed by', 'e by').replace('was', 'be'))\n",
    "    text = ('Using the Atlanta Fed GDPNow and the latest available population '+\n",
    "            'and labor force data, we can estimate contributions to growth for '+\n",
    "            f'{nowdtt}. Real GDP is estimated to {gdpch}, with '+\n",
    "            f'contributions of {cv1} from {cat1}{ext}')\n",
    "write_txt(text_dir / 'gdpjobs_ch_est.txt', text)\n",
    "print(text)"
   ]
  },
  {
   "cell_type": "code",
   "execution_count": null,
   "metadata": {},
   "outputs": [],
   "source": []
  },
  {
   "cell_type": "code",
   "execution_count": null,
   "metadata": {},
   "outputs": [],
   "source": []
  },
  {
   "cell_type": "markdown",
   "metadata": {},
   "source": [
    "### GDP growth rate"
   ]
  },
  {
   "cell_type": "code",
   "execution_count": 11,
   "metadata": {
    "ExecuteTime": {
     "end_time": "2024-01-19T14:15:47.430009Z",
     "start_time": "2024-01-19T14:15:47.385892Z"
    }
   },
   "outputs": [],
   "source": [
    "s = ['A191RL']\n",
    "df = nipa_df(retrieve_table('T10502')['Data'], s).sort_index()\n",
    "df.loc['1989':].to_csv(data_dir / 'gdp.csv', index_label='date')\n",
    "date = dtxt(df.index[-1])['qtr1']\n",
    "\n",
    "txt = f'{date}: {df[\"A191RL\"].iloc[-1]}\\%'\n",
    "write_txt(data_dir / 'gdp.txt', txt)"
   ]
  },
  {
   "cell_type": "code",
   "execution_count": 12,
   "metadata": {
    "ExecuteTime": {
     "end_time": "2024-01-19T14:15:47.440769Z",
     "start_time": "2024-01-19T14:15:47.431202Z"
    }
   },
   "outputs": [],
   "source": [
    "dfa = (nipa_df(retrieve_table('T10101A')['Data'], ['A191RL'])\n",
    "       ['A191RL'])\n",
    "dfa.index = dfa.index + pd.DateOffset(months=6)\n",
    "dfa.loc['1989':].to_csv(data_dir / 'gdp_a.csv', index_label='date')"
   ]
  },
  {
   "cell_type": "code",
   "execution_count": 13,
   "metadata": {
    "ExecuteTime": {
     "end_time": "2024-01-19T14:15:47.511384Z",
     "start_time": "2024-01-19T14:15:47.442294Z"
    }
   },
   "outputs": [
    {
     "name": "stdout",
     "output_type": "stream",
     "text": [
      "Real GDP growth \\href{https://www.bea.gov/data/gdp/gross-domestic-product}{measures} changes in economic activity. As seen in the previous subsection, real GDP has increased steadily over the long-term. Since 1989, growth averages 2.4 percent per year (see\\cbox{red}). Growth rates were relatively high during the mid- to late-1990s, averaging 3.9 percent from 1993 to 2000.\n",
      "\n",
      "In the 2000s, the housing bubble boosted GDP but then collapsed, leading to average growth of only 1.9 percent from 2001 to 2013. Growth was slightly stronger from 2014 to 2019, averaging 2.7 percent per year.\n",
      "\n",
      "In 2020, COVID-19 caused an economic shutdown, followed by monetary and fiscal stimulus, resulting in large swings in GDP. Annualized real GDP decreased 28.0 percent in Q2, and increased by 34.8 percent in Q3, by far the largest changes in recent history. Since 2019 Q4, real GDP has grown at an average annual rate of 1.9 percent.\n",
      "\n",
      " The bottom-left chart shows annual growth, to make trends more visible. The bottom-right chart shows the most-recent four quarters and the estimate for the current quarter. In the \\textbf{latest data}, covering the third quarter of 2023, real GDP increased at an annual rate of 4.9 percent, compared to increases of 2.1 percent in Q2 and 2.2 percent in Q1.\n"
     ]
    }
   ],
   "source": [
    "df = nipa_df(retrieve_table('T10502')['Data'],\n",
    "             ['A191RL'])['A191RL']\n",
    "dfl = (nipa_df(retrieve_table('T10106')['Data'], ['A191RX'])\n",
    "       .loc['1989':, 'A191RX'])\n",
    "# Dates for latest quarters chart\n",
    "a = df.iloc[-4:].to_frame()\n",
    "next_qtr = a.index[-1] + pd.DateOffset(months=3)\n",
    "frow = pd.DataFrame({'index': next_qtr}, index={'index': 4})\n",
    "# From GDP Now (cover cases where no nowcast available)\n",
    "if gdpdt < nowdt:\n",
    "    a = pd.concat([a.reset_index(), frow]).set_index('index')\n",
    "    a.loc[next_qtr, 'A191RL'] = 0\n",
    "a['zero'] = 0\n",
    "a['Quarter'] = [f'Q{i.quarter}\\\\\\\\{i.year}' \n",
    "                if (i.quarter == 1) | (i == a.index[0])\n",
    "                else dtxt(i)['qtr3'] for i in a.index]\n",
    "a.to_csv(data_dir/'gdp_rec.csv', index_label='date')\n",
    "# Text\n",
    "lty = df.index[-1].year\n",
    "ltdt = dtxt(df.index[-1])['qtr2']\n",
    "ltdt2 = dtxt(df.index[-1])['qtr1']\n",
    "gtot = cagr(dfl)\n",
    "g9300 = cagr(dfl.loc['1993':'2000'])\n",
    "g0013 = cagr(dfl.loc['2001':'2013'])\n",
    "g1419 = cagr(dfl.loc['2014':'2019'])\n",
    "# expenditure approach data\n",
    "d19 = dfl.loc['2019-10-01':]\n",
    "g20on = cagr(d19)\n",
    "cov1 = value_text(df.loc['2020-04-01'])\n",
    "cov2 = value_text(df.loc['2020-07-01'], 'increase_by')\n",
    "ltval = value_text(df.iloc[-1], adj='annual')\n",
    "prval = prval_comp(df)\n",
    "\n",
    "color='red'\n",
    "url = 'https://www.bea.gov/data/gdp/gross-domestic-product'\n",
    "text = (f'Real GDP growth \\href{{{url}}}{{measures}} changes in '+\n",
    "        'economic activity. As seen in the previous subsection, '+\n",
    "        'real GDP has increased steadily over the long-term. '+\n",
    "        'Since 1989, growth averages '+\n",
    "        f'{gtot:.1f} percent per year {c_box(color)}. '+\n",
    "        'Growth rates were relatively high during the mid- '+\n",
    "        f'to late-1990s, averaging {g9300:.1f} percent '+\n",
    "        'from 1993 to 2000.\\n\\nIn the 2000s, the housing '+\n",
    "        'bubble boosted GDP but then collapsed, '+\n",
    "        f'leading to average growth of only {g0013:.1f} '+\n",
    "        'percent from 2001 to 2013. Growth was slightly '+\n",
    "        f'stronger from 2014 to 2019, averaging {g1419:.1f} '+\n",
    "        'percent per year.\\n\\nIn 2020, COVID-19 caused '+\n",
    "        'an economic shutdown, followed by monetary '+\n",
    "        'and fiscal stimulus, resulting in large swings in '+\n",
    "        f'GDP. Annualized real GDP {cov1} in Q2, and {cov2} in Q3, '+\n",
    "        'by far the largest changes in recent history. Since 2019 Q4, '+\n",
    "        f'real GDP has grown at an average annual rate of {g20on:.1f} '+\n",
    "        'percent.')\n",
    "write_txt(text_dir / 'gdp_gr.txt', text)\n",
    "print(text)\n",
    "\n",
    "txt2 = ('The bottom-left chart shows annual growth, to make '+\n",
    "        'trends more visible. The bottom-right chart shows '+\n",
    "        'the most-recent four quarters and the estimate for the '+\n",
    "        'current quarter. In the \\\\textbf{latest data}, '+\n",
    "        f'covering {ltdt}, real GDP {ltval}, compared to {prval}.')\n",
    "write_txt(text_dir / 'gdp_gr2.txt', txt2)\n",
    "print('\\n', txt2)"
   ]
  },
  {
   "cell_type": "code",
   "execution_count": 14,
   "metadata": {
    "ExecuteTime": {
     "end_time": "2024-01-19T14:15:47.522544Z",
     "start_time": "2024-01-19T14:15:47.512593Z"
    }
   },
   "outputs": [],
   "source": [
    "# Dates for latest quarters chart\n",
    "a = df.iloc[-8:].to_frame()\n",
    "a['Quarter'] = [f'Q{i.quarter}\\\\\\\\{i.year}' if i.quarter == 1 \n",
    "                  else dtxt(i)['qtr3'] for i in a.index]\n",
    "# From GDP Now (cover cases where no nowcast available)\n",
    "if gdpdt < nowdt:\n",
    "    next_qtr = a.index[-1] + pd.DateOffset(months=3)\n",
    "    label = (f'Q{next_qtr.quarter}\\\\\\\\{next_qtr.year}' \n",
    "             if next_qtr.quarter == 1 else dtxt(next_qtr)['qtr3'])\n",
    "    frow = pd.DataFrame({'Quarter': label, \n",
    "                         'index': next_qtr}, index={'index': 4})\n",
    "    a = pd.concat([a.reset_index(), frow]).set_index('index')\n",
    "    a.loc[next_qtr, 'A191RL'] = 0\n",
    "a['zero'] = 0\n",
    "a.to_csv(data_dir/'gdp_rec2.csv', index_label='date')\n",
    "\n",
    "# Average bar\n",
    "start_date = a.index[0] - pd.DateOffset(months=2)\n",
    "end_date = a.index[-1] + pd.DateOffset(months=1)\n",
    "val = df.mean()\n",
    "color = 'gray!60!white'\n",
    "bar = (f'\\draw [{color}] (axis cs:{{{start_date}}},{val}) -- '+\n",
    "       f'(axis cs:{{{end_date}}},{val});')\n",
    "bardf = pd.Series(index=[start_date, end_date], \n",
    "                data=[val, val], name='Bar')\n",
    "node = end_node(bardf, color, loc='start')\n",
    "write_txt(text_dir / 'gdp_rec2_bar_node.txt', bar + '\\n' + node)"
   ]
  },
  {
   "cell_type": "code",
   "execution_count": null,
   "metadata": {},
   "outputs": [],
   "source": []
  },
  {
   "cell_type": "code",
   "execution_count": null,
   "metadata": {},
   "outputs": [],
   "source": []
  },
  {
   "cell_type": "markdown",
   "metadata": {},
   "source": [
    "### Atlanta Fed GDPNow Contributions"
   ]
  },
  {
   "cell_type": "code",
   "execution_count": 15,
   "metadata": {
    "ExecuteTime": {
     "end_time": "2024-01-19T14:15:48.307561Z",
     "start_time": "2024-01-19T14:15:47.523777Z"
    }
   },
   "outputs": [
    {
     "name": "stdout",
     "output_type": "stream",
     "text": [
      "The Federal Reserve Bank of Atlanta GDPNow estimate for 2023 Q4 of 2.4 percent is based on a contribution of 1.92 percentage points from consumer spending, a subtraction of 0.12 percentage point from private investment, a contribution of 0.68 point from government, and virtually no contribution from net exports. \n"
     ]
    }
   ],
   "source": [
    "# GDP Now contributions to GDP\n",
    "url = ('https://www.atlantafed.org/-/media/documents/cqer/researchcq/'+\n",
    "       'gdpnow/GDPTrackingModelDataAndForecasts.xlsx')\n",
    "df = pd.read_excel(url, sheet_name='ContribHistory', header=0, skipfooter=9)\n",
    "title = df.iloc[0, 0]\n",
    "df = df.iloc[1:]\n",
    "d = {'Personal consumption expenditures (PCE)': 'DPCERY',\n",
    "     'Gross Private Domestic Investment (GPDI)': 'A006RY',\n",
    "     'Government expenditures': 'A822RY',\n",
    "     'Change in net exports': 'A019RY',\n",
    "     'GDP Nowcast': 'A191RL'}\n",
    "res = df.dropna(subset=df.columns[2])\n",
    "names = res[res.columns[1]].to_list()\n",
    "res.index = [n.split('-', 1)[-1].strip().rstrip('*') for n in names]\n",
    "res = res.iloc[:, 2:].T\n",
    "res.index = pd.to_datetime(res.index)\n",
    "nowcomp = res[d.keys()].iloc[-1].rename(d)\n",
    "nowcomp.name = pd.to_datetime(title[-6:])\n",
    "update = nowcomp.name\n",
    "nowcomp = nowcomp.to_frame().T\n",
    "\n",
    "# Text based on GDPNow\n",
    "nowval = nowcomp.iloc[-1]\n",
    "nowdt = dtxt(nowcomp.index[-1])['qtr1']\n",
    "gdpch = value_text(nowval['A191RL'], 'plain')\n",
    "csch = value_text(nowval['DPCERY'], 'contribution_of', \n",
    "                  ptype='pp', digits=2, threshold=0.1)\n",
    "gdpich = value_text(nowval['A006RY'], 'contribution_of', \n",
    "                  ptype='pp', digits=2, threshold=0.1)\n",
    "govch = value_text(nowval['A822RY'], 'contribution_of', \n",
    "                  ptype='point', digits=2, threshold=0.1)\n",
    "nxch = value_text(nowval['A019RY'], 'contribution_of', \n",
    "                  ptype='point', digits=2, threshold=0.1)\n",
    "text = ('The Federal Reserve Bank of Atlanta GDPNow estimate for '+\n",
    "        f'{nowdt} of {gdpch} is based on {csch} '+\n",
    "        f'from consumer spending, {gdpich} '+\n",
    "        f'from private investment, {govch} '+\n",
    "        f'from government, and {nxch} from net exports. ')\n",
    "write_txt(text_dir / 'gdp_comp_exp_now.txt', text)\n",
    "print(text)"
   ]
  },
  {
   "cell_type": "code",
   "execution_count": 16,
   "metadata": {
    "ExecuteTime": {
     "end_time": "2024-01-19T14:15:48.450490Z",
     "start_time": "2024-01-19T14:15:48.309393Z"
    }
   },
   "outputs": [
    {
     "name": "stdout",
     "output_type": "stream",
     "text": [
      "In the latest full year of data, covering 2022, GDP growth of 1.9 percent is the result of contributions from consumer spending of 1.7 percentage points, private investment of 0.9 percentage point, government saving and investment of negative 0.2 percentage point, and net exports of negative 0.5 point.  \n",
      "\n",
      "In 2023 Q3, consumer spending (see\\cbox{yellow!80!orange}) contributed 2.11 percentage points to real GDP growth. Private domestic investment (see\\cbox{blue!70!black}) added 1.74 percentage points, government spending and investment (see\\cbox{cyan!50!white}) contributed 0.99 percentage point, and net exports (see\\cbox{green!60!black}) did not contribute.\n"
     ]
    }
   ],
   "source": [
    "# Contribution to growth from expenditure approach categories\n",
    "s = ['DPCERY', 'A006RY', 'A822RY', 'A019RY', 'A191RL']\n",
    "df = nipa_df(retrieve_table('T10502')['Data'], s)\n",
    "df.loc['1989':].to_csv(data_dir / 'comp.csv', index_label='date')\n",
    "# Annual GDP version \n",
    "dfa = nipa_df(retrieve_table('T10502A')['Data'], s).loc['1989':]\n",
    "dfa.to_csv(data_dir / 'gdp_comp_ann.csv', index_label='date')\n",
    "# Recent data\n",
    "dfr = df.copy().iloc[-9:]\n",
    "if (dfr.index[-1] < nowcomp.index[-1]) == True:\n",
    "    dfr = pd.concat([dfr, nowcomp])\n",
    "    gdp_now = True\n",
    "dfr['label'] = [f'Q{i.quarter} \\\\\\\\ {i.year}' if (i.quarter == 1) | (i == dfr.index[0]) \n",
    "                else dtxt(i)['qtr3'] for i in dfr.index]\n",
    "dfr.to_csv(data_dir / 'gdp_comp_recent.csv', index_label='date')\n",
    "dfrn = dfr.drop(['label', 'A191RL'], axis=1)\n",
    "\n",
    "# Text for annual change latest year\n",
    "ltyr = dfa.index[-1].year\n",
    "totch = dfa['A191RL'].iloc[-1]\n",
    "totcht = value_text(abs(totch), 'plain')\n",
    "gdpt = (f'growth of {totcht} is' if totch > 0.1 \n",
    "        else f'falling by {totcht} is' if totch < -0.1 \n",
    "        else 'was unchanged as')\n",
    "dfat = {name: value_text(val, 'plain', ptype='pp') \n",
    "        for name, val in dfa.iloc[-1].items()}\n",
    "dfat['A019RY'] = value_text(dfa['A019RY'].iloc[-1], \n",
    "                            'plain', ptype='point') \n",
    "text = (f'In the latest full year of data, covering {ltyr}, GDP {gdpt} '+\n",
    "        'the result of contributions from consumer '+\n",
    "        f'spending of {dfat[\"DPCERY\"]}, private investment of '+\n",
    "        f'{dfat[\"A006RY\"]}, government saving and investment of '+\n",
    "        f'{dfat[\"A822RY\"]}, and net exports of {dfat[\"A019RY\"]}. ')\n",
    "write_txt(text_dir / 'gdp_contrib_ltyr_exp.txt', text)\n",
    "print(text, '\\n')\n",
    "\n",
    "# Text for chart on expenditure approach contributions\n",
    "ltdt = dtxt(df.index[-1])['qtr1']\n",
    "sl = [('DPCERY', 'contribution_to', False), ('A006RY', 'contribution', True), \n",
    "      ('A822RY', 'contribution', False), ('A019RY', 'contribution', True)]\n",
    "d = {s: value_text(df[s].iloc[-1], style=style, ptype='pp', casual=cas,\n",
    "                   digits=2, threshold=0.1) for s, style, cas in sl}\n",
    "colors = {'DPCERY': 'yellow!80!orange', 'A006RY': 'blue!70!black', \n",
    "          'A822RY': 'cyan!50!white', 'A019RY': 'green!60!black'}\n",
    "cl = {n: c_box(color) for n, color in colors.items()}\n",
    "text = (f'In {ltdt}, consumer spending {cl[\"DPCERY\"]} '+\n",
    "        f'{d[\"DPCERY\"]} real GDP growth. Private domestic '+\n",
    "        f'investment {cl[\"A006RY\"]} {d[\"A006RY\"]}, '+\n",
    "        f'government spending and investment {cl[\"A822RY\"]} '+\n",
    "        f'{d[\"A822RY\"]}, and net exports {cl[\"A019RY\"]} '+\n",
    "        f'{d[\"A019RY\"]}.')  \n",
    "write_txt(text_dir / 'gdp_exp_basic.txt', text)\n",
    "print(text)\n",
    "\n",
    "# Value nodes\n",
    "nodes = selected_nodes(dfrn, nowrow=gdp_now)\n",
    "write_txt(text_dir / 'gdp_comp_recent_nodes.txt', nodes)\n",
    "now_annote = ''\n",
    "if gdp_now == True:\n",
    "    now_annote = ('\\draw [dashed] ({2023-10-01},\\pgfkeysvalueof{/pgfplots/ymin}) -- '+\n",
    "                  '({2023-10-01}, \\pgfkeysvalueof{/pgfplots/ymax});\\n'+\n",
    "                  '\\\\node[anchor=west, align=left] at ({2023-10-01}, '+\n",
    "                  '\\pgfkeysvalueof{/pgfplots/ymax}) {\\color{black!65}\\\\footnotesize '+\n",
    "                  '{\\\\textit{GDPNow}}};\\n')    \n",
    "write_txt(text_dir / 'gdp_comp_recent_now_annote.txt', now_annote)"
   ]
  },
  {
   "cell_type": "code",
   "execution_count": null,
   "metadata": {},
   "outputs": [],
   "source": []
  },
  {
   "cell_type": "code",
   "execution_count": null,
   "metadata": {},
   "outputs": [],
   "source": []
  },
  {
   "cell_type": "markdown",
   "metadata": {},
   "source": [
    "### Labor Productivity ST / LT"
   ]
  },
  {
   "cell_type": "code",
   "execution_count": 17,
   "metadata": {
    "ExecuteTime": {
     "end_time": "2024-01-19T14:15:48.791773Z",
     "start_time": "2024-01-19T14:15:48.451685Z"
    }
   },
   "outputs": [
    {
     "name": "stdout",
     "output_type": "stream",
     "text": [
      "Over this same period, which features a sharp increase in education in the US, labor productivity increased by 94.4 percent.\n",
      "Over the longer-term, US labor productivity growth averages two percent per year. The trailing 20-year average growth rate is 1.6 percent in 2023 Q3 (see {\\color{orange!80!yellow}\\textbf{---}}). During the 1990s and early 2000s, labor productivity growth was above its long-term average. In contrast, from 2010 to 2017, productivity growth was below average. Over the year ending 2023 Q3, growth averages 2.4 percent (see {\\color{blue!80!black}\\textbf{---}}). \n"
     ]
    }
   ],
   "source": [
    "# Sentence for comparison with median wage growth\n",
    "df = fred_df('OPHNFB', start='1968')['VALUE']\n",
    "lpch = ((df.iloc[-1] / df.loc['1989-01-01']) - 1) * 100\n",
    "lpcht = value_text(lpch, 'increase_by')\n",
    "text = ('Over this same period, which features a sharp increase '+\n",
    "        f'in education in the US, labor productivity {lpcht}.')\n",
    "write_txt(text_dir / 'lprod_rw_educ.txt', text)\n",
    "print(text)\n",
    "\n",
    "# Long-term and short-term growth rates\n",
    "df = growth_rate(df)\n",
    "lt = df.rolling(80).mean().dropna()\n",
    "st = df.rolling(4).mean().dropna()\n",
    "data = pd.DataFrame({'ST': st, 'LT': lt})\n",
    "data.loc['1989':].to_csv(data_dir / 'prod_st_lt.csv', index_label='date')\n",
    "ltdt = dtxt(data.index[-1])['qtr1']\n",
    "ltavg = value_text(data['LT'].mean(), 'plain')\n",
    "tty = value_text(data['LT'].iloc[-1], 'plain')\n",
    "ltv = value_text(data['ST'].iloc[-1], 'plain')\n",
    "colors = {'LT': 'orange!80!yellow', 'ST': 'blue!80!black'}\n",
    "cl = {name: c_line(col) for name, col in colors.items()}\n",
    "text = ('Over the longer-term, US labor productivity growth '+\n",
    "        f'averages {ltavg} per year. The trailing 20-'+\n",
    "        f'year average growth rate is {tty} in {ltdt} '+\n",
    "        f'{cl[\"LT\"]}. During the 1990s and early 2000s, labor '+\n",
    "        'productivity growth was above its long-term average. '+\n",
    "        'In contrast, from 2010 to 2017, productivity growth '+\n",
    "        f'was below average. Over the year ending {ltdt}, '+\n",
    "        f'growth averages {ltv} {cl[\"ST\"]}. ')\n",
    "write_txt(text_dir / 'prod_st_lt.txt', text)\n",
    "print(text)"
   ]
  },
  {
   "cell_type": "code",
   "execution_count": null,
   "metadata": {},
   "outputs": [],
   "source": []
  },
  {
   "cell_type": "code",
   "execution_count": null,
   "metadata": {},
   "outputs": [],
   "source": []
  },
  {
   "cell_type": "markdown",
   "metadata": {},
   "source": [
    "### Labor Productivity"
   ]
  },
  {
   "cell_type": "code",
   "execution_count": 18,
   "metadata": {
    "ExecuteTime": {
     "end_time": "2024-01-19T14:15:48.795938Z",
     "start_time": "2024-01-19T14:15:48.792998Z"
    }
   },
   "outputs": [],
   "source": [
    "# Series stored as a dictionary\n",
    "series = {'PRS85006093': 'value_index',\n",
    "          'PRS85006092': 'value',\n",
    "          'PRS85006032': 'hours',\n",
    "          'PRS85006042': 'output',\n",
    "          'PRS85006033': 'hours_index',\n",
    "          'PRS84006113': 'business_ulc',\n",
    "          'PRS30006113': 'manuf_ulc',\n",
    "          'PRS85006113': 'nfbus_ulc'}"
   ]
  },
  {
   "cell_type": "code",
   "execution_count": 19,
   "metadata": {
    "ExecuteTime": {
     "end_time": "2024-01-19T14:15:48.802741Z",
     "start_time": "2024-01-19T14:15:48.797129Z"
    },
    "scrolled": false
   },
   "outputs": [],
   "source": [
    "# Start year and end year\n",
    "#dates = (1989, 2023)\n",
    "#df = bls_api(series, dates, bls_key)\n",
    "\n",
    "#df.to_csv(data_dir / 'lprod.csv', index_label='date')"
   ]
  },
  {
   "cell_type": "code",
   "execution_count": 20,
   "metadata": {
    "ExecuteTime": {
     "end_time": "2024-01-19T14:15:48.816651Z",
     "start_time": "2024-01-19T14:15:48.804108Z"
    }
   },
   "outputs": [
    {
     "name": "stdout",
     "output_type": "stream",
     "text": [
      "In 2023 Q3, nonfarm business labor productivity increased at an annual rate of 5.2 percent (see\\cbox{teal}), as the result of an increase of 6.1 percent in real output and an increase of 0.9 percent in hours worked. In the prior quarter, 2023 Q2, labor productivity increased at an annual rate of 3.6 percent, as real output increased two percent and hours of work decreased 1.5 percent. Productivity has increased at an annual rate of 1.9 percent over the past five years, in line with the 1989-onward rate of 1.9 percent. \n",
      "\n",
      "Total hours worked in nonfarm businesses increased at an annual rate of 0.9 percent in 2023 Q3, following a decrease of 1.5 percent in Q2, and an increase of 2.6 percent in Q1. From 2017 through 2019, total hours worked increased at an annual rate of 1.3 percent. Since 2019, hours worked have increased by 0.7 percent per year.\n"
     ]
    }
   ],
   "source": [
    "df = pd.read_csv(data_dir / 'lprod.csv', \n",
    "                 index_col='date', parse_dates=True)\n",
    "ltdt = dtxt(df.index[-1])['qtr1']\n",
    "prdt = dtxt(df.index[-2])['qtr1']\n",
    "s = {srs: {'lt': value_text(df[srs].iloc[-1], adj='annual'), \n",
    "           'pr': value_text(df[srs].iloc[-2], adj='annual'), \n",
    "           'lt2': value_text(df[srs].iloc[-1], style='increase_of'), \n",
    "           'pr2': value_text(df[srs].iloc[-2]),\n",
    "           'pr3': value_text(df[srs].iloc[-2], style='increase_of')} \n",
    "     for srs in series.values()}\n",
    "grlt = cagr(df['value_index'])\n",
    "grltt = value_text(grlt, 'plain')\n",
    "gr5 = cagr(df['value_index'].iloc[-20:])\n",
    "gr5t = value_text(gr5, adj='annual')\n",
    "compare = compare_text(gr5, grlt, [0.1, 0.5, 2.0])\n",
    "\n",
    "text = (f'In {ltdt}, nonfarm business labor productivity {s[\"value\"][\"lt\"]} '+\n",
    "        f'(see\\cbox{{teal}}), as the result of {s[\"output\"][\"lt2\"]} in '+\n",
    "        f'real output and {s[\"hours\"][\"lt2\"]} in hours worked. In the '+\n",
    "        f'prior quarter, {prdt}, labor productivity {s[\"value\"][\"pr\"]}, '+\n",
    "        f'as real output {s[\"output\"][\"pr2\"]} and hours of work '+\n",
    "        f'{s[\"hours\"][\"pr2\"]}. Productivity has {gr5t} over the past '+\n",
    "        f'five years, {compare} the 1989-onward rate of {grltt}.')\n",
    "write_txt(text_dir / 'lprod.txt', text)\n",
    "print(text, '\\n')\n",
    "\n",
    "hr19 = value_text(cagr(df.loc['2017': '2019', 'hours_index']), adj='annual')\n",
    "ch19txt = value_text(cagr(df.loc['2019-10-01':, 'hours_index']), 'increase_by')\n",
    "prval = prval_comp(df['hours'])\n",
    "text = (f'Total hours worked in nonfarm businesses {s[\"hours\"][\"lt\"]} '+\n",
    "        f'in {ltdt}, following {prval}. From '+\n",
    "        f'2017 through 2019, total hours worked {hr19}. Since 2019, '+\n",
    "        f'hours worked have {ch19txt} per year.')\n",
    "write_txt(text_dir / 'tot_hours.txt', text)\n",
    "print(text)"
   ]
  },
  {
   "cell_type": "code",
   "execution_count": null,
   "metadata": {},
   "outputs": [],
   "source": []
  },
  {
   "cell_type": "code",
   "execution_count": null,
   "metadata": {},
   "outputs": [],
   "source": []
  },
  {
   "cell_type": "markdown",
   "metadata": {},
   "source": [
    "### Financial Obligations Ratio"
   ]
  },
  {
   "cell_type": "code",
   "execution_count": 21,
   "metadata": {
    "ExecuteTime": {
     "end_time": "2024-01-19T14:15:48.974060Z",
     "start_time": "2024-01-19T14:15:48.818136Z"
    }
   },
   "outputs": [],
   "source": [
    "# Retrieve data and store\n",
    "base = 'https://www.federalreserve.gov/datadownload/Output.aspx?'\n",
    "srs = 'rel=FOR&series=1dc13603606b1a2cf3c07004eeb7f026&lastobs=&'\n",
    "dt = 'from=01/01/1989&to=12/31/2023&'\n",
    "oth = 'filetype=csv&label=include&layout=seriescolumn'\n",
    "url = base + srs + dt + oth\n",
    "\n",
    "d, clean_data = clean_fed_data(url)\n",
    "d = {k: v.replace(', seasonally adjusted', '') for k, v in d.items()}\n",
    "data = clean_data.rename(d, axis=1)\n",
    "data.to_csv(data_dir / 'for.csv', index_label='date')"
   ]
  },
  {
   "cell_type": "code",
   "execution_count": 22,
   "metadata": {
    "ExecuteTime": {
     "end_time": "2024-01-19T14:15:48.987956Z",
     "start_time": "2024-01-19T14:15:48.975612Z"
    },
    "code_folding": []
   },
   "outputs": [
    {
     "name": "stdout",
     "output_type": "stream",
     "text": [
      "In the 1990s, financial obligations comprise an average of 16.4 percent of income. This ratio peaked at 18.2 percent in 2007 Q4, during the housing bubble.\n",
      "\n",
      "As of 2023 Q3, household \\textbf{financial obligations} are 14.2 percent of income (see {\\color{blue!80!black}\\textbf{---}}), a decrease of 0.15 percentage point from the year prior. The financial obligations ratio fell by 0.52 percentage point since 2019.\n",
      "\n",
      "In the latest quarter, the ratio of \\textbf{debt service} payments to income is 9.8 percent (see {\\color{red}\\textbf{---}}). The debt service ratio fell by 0.20 percentage point since 2019. In 2023 Q3, the ratio of mortage debt service to income is four percent, and the ratio of consumer credit debt service to income is 5.8 percent.\n"
     ]
    }
   ],
   "source": [
    "# End nodes and text\n",
    "data = pd.read_csv(data_dir / 'for.csv', index_col='date', \n",
    "                   parse_dates=True)\n",
    "# End nodes\n",
    "cols = {'Financial obligations ratio': ['blue!80!black', 'q', 0.35], \n",
    "        'Debt service ratio': ['red', None, 0]}\n",
    "nodes = '\\n'.join([end_node(data[n], col, date=date, offset=offset) \n",
    "                   for n, [col, date, offset] in cols.items()])\n",
    "write_txt(text_dir / 'for_nodes.txt', nodes)\n",
    "\n",
    "# Text\n",
    "fo = data['Financial obligations ratio']\n",
    "ds = data['Debt service ratio']\n",
    "ltdt = dtxt(data.index[-1])['qtr1']\n",
    "ltval = fo.iloc[-1]\n",
    "pryrval = fo.iloc[-5]\n",
    "chval = value_text(ltval - pryrval, 'increase_of', ptype='pp', \n",
    "                   digits=2, threshold=0.03)\n",
    "ch19 = value_text(ltval - fo.loc['2019-10-01'], 'increase_by', ptype='pp', \n",
    "                  digits=2, casual=True, threshold=0.03)\n",
    "dsrval = ds.iloc[-1]\n",
    "dch19 = value_text(dsrval - ds.loc['2019-10-01'], 'increase_by', ptype='pp', \n",
    "                   digits=2, casual=True, threshold=0.03).replace('was', 'is')\n",
    "val90 = value_text(fo.loc['1990': '1999'].mean(), 'plain')\n",
    "maxval = value_text(fo.max(), 'plain')\n",
    "maxdt = dtxt(fo.idxmax())['qtr1']\n",
    "hb = ', during the housing bubble' if fo.idxmax().year == 2007 else ''\n",
    "m = data['Mortgage debt service ratio']\n",
    "c = data['Consumer debt service ratio']\n",
    "mltval = value_text(m.iloc[-1], 'plain')\n",
    "cltval = value_text(c.iloc[-1], 'plain')\n",
    "cl1 = c_line(cols['Financial obligations ratio'][0])\n",
    "cl2 = c_line(cols['Debt service ratio'][0])\n",
    "\n",
    "text = ('In the 1990s, financial obligations comprise an average of '+\n",
    "        f'{val90} of income. This ratio peaked at {maxval} '+\n",
    "        f'in {maxdt}{hb}.\\n\\n'+\n",
    "        f'As of {ltdt}, household \\\\textbf{{financial obligations}} '+\n",
    "        f'are {ltval:.1f} percent of income {cl1}, '+\n",
    "        f'{chval} from the year prior. The financial obligations ratio '+\n",
    "        f'{ch19} since 2019.\\n\\nIn the latest quarter, the ratio '+\n",
    "        f'of \\\\textbf{{debt service}} payments to income is '+\n",
    "        f'{dsrval:.1f} percent {cl2}. The debt service ratio '+\n",
    "        f'{dch19} since 2019. In {ltdt}, the ratio of mortage debt '+\n",
    "        f'service to income is {mltval}, and the ratio of '+\n",
    "        f'consumer credit debt service to income is {cltval}.')\n",
    "write_txt(text_dir / 'for.txt', text)\n",
    "print(text)"
   ]
  },
  {
   "cell_type": "code",
   "execution_count": null,
   "metadata": {},
   "outputs": [],
   "source": []
  },
  {
   "cell_type": "code",
   "execution_count": null,
   "metadata": {},
   "outputs": [],
   "source": []
  },
  {
   "cell_type": "markdown",
   "metadata": {},
   "source": [
    "### Durable goods new orders"
   ]
  },
  {
   "cell_type": "code",
   "execution_count": 23,
   "metadata": {
    "ExecuteTime": {
     "end_time": "2024-01-19T14:15:50.559079Z",
     "start_time": "2024-01-19T14:15:48.989151Z"
    }
   },
   "outputs": [],
   "source": [
    "# New orders for capital goods excluding defense or aircraft\n",
    "url = ('https://api.census.gov/data/timeseries/eits/advm3?'+\n",
    "       f'get=cell_value,time_slot_id&key={census_key}&'+\n",
    "       'category_code=NXA&data_type_code=NO&time=from+1992&'+\n",
    "       'for=us&seasonally_adj=yes')\n",
    "r = requests.get(url).json()\n",
    "date = lambda x: pd.to_datetime(x.time)\n",
    "df = (pd.DataFrame(r[1:], columns=r[0]).assign(date = date)\n",
    "        .set_index('date')['cell_value'].astype('float')).sort_index()\n",
    "df.to_csv(data_dir / 'dgno_raw.csv', index_label='date', \n",
    "          header=True)"
   ]
  },
  {
   "cell_type": "code",
   "execution_count": 24,
   "metadata": {
    "ExecuteTime": {
     "end_time": "2024-01-19T14:15:50.592092Z",
     "start_time": "2024-01-19T14:15:50.560401Z"
    }
   },
   "outputs": [
    {
     "name": "stdout",
     "output_type": "stream",
     "text": [
      "New orders for manufactured core capital goods excluding aircraft total \\$74 billion in November 2023, equivalent to 3.2 percent of GDP (see {\\color{purple!50!violet}\\textbf{---}}). New orders increased two percent over the past year, and increased by 21.0 percent since February 2020.\n"
     ]
    }
   ],
   "source": [
    "df = pd.read_csv(data_dir / 'dgno_raw.csv', index_col='date', \n",
    "                 parse_dates=True)['cell_value']\n",
    "gdp = nipa_df(retrieve_table('T10105')['Data'], ['A191RC'])\n",
    "res = ((df.resample('QS').sum() * 4  / \n",
    "        gdp['A191RC']).dropna() * 100).iloc[1:]\n",
    "(res.rename('value').to_csv(data_dir / 'dgno.csv', \n",
    "                            index_label='date',  header=True))\n",
    "color = 'purple!50!violet'\n",
    "node = end_node(res, color, date='q')\n",
    "write_txt(text_dir / 'dgno_node.txt', node)\n",
    "ltval = f'\\${df.iloc[-1] / 1000:,.0f} billion'\n",
    "ldate = dtxt(df.index[-1])['mon1']\n",
    "comp = pd.to_datetime('2020-02-01')\n",
    "compdt = dtxt(pd.to_datetime(comp))['mon1']\n",
    "val = value_text(df.pct_change(12).iloc[-1] * 100)\n",
    "pcv = ((df.iloc[-1] / df.loc[comp]) - 1) * 100\n",
    "pcval = value_text(pcv, 'increase_by')\n",
    "text = ('New orders for manufactured core capital goods excluding '+\n",
    "        f'aircraft total {ltval} in {ldate}, equivalent to '+\n",
    "        f'{res.iloc[-1]:.1f} percent of GDP {c_line(color)}. New '+\n",
    "        f'orders {val} over the past year, and {pcval} since '+\n",
    "        f'{compdt}.')\n",
    "write_txt(text_dir / 'dgno.txt', text)\n",
    "print(text)"
   ]
  },
  {
   "cell_type": "code",
   "execution_count": null,
   "metadata": {},
   "outputs": [],
   "source": []
  },
  {
   "cell_type": "code",
   "execution_count": null,
   "metadata": {},
   "outputs": [],
   "source": []
  },
  {
   "cell_type": "markdown",
   "metadata": {},
   "source": [
    "### Shiller real return trailing 20-year average"
   ]
  },
  {
   "cell_type": "code",
   "execution_count": 25,
   "metadata": {
    "ExecuteTime": {
     "end_time": "2024-01-19T14:15:52.344850Z",
     "start_time": "2024-01-19T14:15:50.593394Z"
    }
   },
   "outputs": [
    {
     "name": "stdout",
     "output_type": "stream",
     "text": [
      "In September 2023, the Shiller total return CAPE ratio was 33.3, compared to 32.9 in August 2023 and 30.6 in September 2022 (see {\\color{blue!80!cyan}\\textbf{---}}). In 2019, the Shiller CAPE ratio was 32.1, on average. In 2000, during the stock market bubble, the ratio averaged 45.1. \n",
      "Three conflicting nodes\n",
      "According to historical stock market \\href{http://www.econ.yale.edu/~shiller/data.htm}{data} from Robert Shiller, the \\textbf{inflation-adjusted trailing twenty-year annual rate of return} of the S\\&P 500 is 6.9 percent as of June 2023 (see {\\color{green!80!blue}\\textbf{---}}). Ultra-long-term real returns are currently low relative to the average trailing twenty-year real annual return of 10.1 percent during 1995--2005. The trailing ten-year real return was 9.3 percent, as of June 2023, and 10.7 percent during 1995--2005 (see {\\color{blue}\\textbf{---}}). \n"
     ]
    }
   ],
   "source": [
    "url = 'http://www.econ.yale.edu/~shiller/data/ie_data.xls'\n",
    "data = pd.read_excel(url, sheet_name='Data', header=7, \n",
    "                     index_col='Date').dropna(subset=['TR CAPE'])\n",
    "data.index = pd.to_datetime(data.index.format())\n",
    "data.loc['1989':, 'TR CAPE'].to_csv(data_dir / 'catrpe.csv', \n",
    "                                    index_label='date')\n",
    "color = 'blue!80!cyan'\n",
    "cl = c_line(color)\n",
    "pe = data.loc['1989':, 'TR CAPE']\n",
    "ltdt = dtxt(pe.index[-1])['mon1']\n",
    "prdt = dtxt(pe.index[-2])['mon1']\n",
    "yrdt = dtxt(pe.index[-13])['mon1']\n",
    "ltval = pe.iloc[-1]\n",
    "prval = pe.iloc[-2]\n",
    "yrval = pe.iloc[-13]\n",
    "val19 = pe.loc['2019'].mean()\n",
    "val00 = pe.loc['2000'].mean()\n",
    "\n",
    "text = (f'In {ltdt}, the Shiller total return CAPE ratio was '+\n",
    "        f'{ltval:.1f}, compared to {prval:.1f} in {prdt} and '+\n",
    "        f'{yrval:.1f} in {yrdt} {cl}. In 2019, the Shiller CAPE ratio '+\n",
    "        f'was {val19:.1f}, on average. In 2000, during the stock market '+\n",
    "        f'bubble, the ratio averaged {val00:.1f}. ')\n",
    "write_txt(text_dir / 'cape.txt', text)\n",
    "print(text)\n",
    "node = end_node(data['TR CAPE'], color, date='m')\n",
    "write_txt(text_dir / 'cape_node.txt', node)\n",
    "col = ['Price', 'Dividend']\n",
    "df = data.loc['1960':, col].dropna()\n",
    "for yrs in [10, 15, 20]:\n",
    "    mos = yrs * 12\n",
    "    dy = (df.Dividend / df.Price).rolling(mos).mean()\n",
    "    pch = (df.Price.pct_change(mos)+1)**(1/yrs) - 1\n",
    "    df[f'r{yrs}'] = (dy + pch) * 100\n",
    "    \n",
    "res = df.loc['1989':, ~df.columns.isin(col)]\n",
    "res.to_csv(data_dir / f'sp500rr.csv', index_label='date', \n",
    "           float_format='%g')\n",
    "adj = node_adj(res)\n",
    "smax = res.iloc[-1].idxmax()\n",
    "adj[smax] = adj[smax] + 0.35\n",
    "\n",
    "colors = {'r20': 'green!80!blue', \n",
    "          'r15': 'orange',\n",
    "          'r10': 'blue'}\n",
    "date = {series: 'm' if series == smax else None \n",
    "        for series in colors.keys()}\n",
    "nodes  ='\\n'.join([end_node(res[series], color, \n",
    "                            date=date[series], \n",
    "                            size=1.1, offset=adj[series]) \n",
    "                   for series, color in colors.items()])\n",
    "write_txt(text_dir / 'sp500rr_nodes.txt', nodes)  \n",
    "url = 'http://www.econ.yale.edu/~shiller/data.htm'\n",
    "lt20 = df['r20'].iloc[-1]\n",
    "ltdt = dtxt(df.index[-1])['mon1']\n",
    "pr = df['r20'].loc['1995':'2005'].mean()\n",
    "lt10 = df['r10'].iloc[-1]\n",
    "pr10 = df['r10'].loc['1995':'2005'].mean()\n",
    "cl = c_line(colors['r20'])\n",
    "text = (f'According to historical stock market \\href{{{url}}}'+\n",
    "        '{data} from Robert Shiller, the \\\\textbf{inflation-adjusted '+\n",
    "        'trailing twenty-year annual rate of return} of the S\\&P '+\n",
    "        f'500 is {lt20:.1f} percent as of {ltdt} {cl}. Ultra-long-'+\n",
    "        'term real returns are currently low relative to the '+\n",
    "        'average trailing twenty-year real annual return of '+\n",
    "        f'{pr:.1f} percent during 1995--2005. The trailing ten-'+\n",
    "        f'year real return was {lt10:.1f} percent, as of {ltdt}, '+\n",
    "        f'and {pr10:.1f} percent during 1995--2005 '+\n",
    "        f'{c_line(colors[\"r10\"])}. ')\n",
    "write_txt(text_dir / 'sp500rr.txt', text)\n",
    "print(text)"
   ]
  },
  {
   "cell_type": "code",
   "execution_count": 26,
   "metadata": {
    "ExecuteTime": {
     "end_time": "2024-01-19T14:15:52.359308Z",
     "start_time": "2024-01-19T14:15:52.349049Z"
    }
   },
   "outputs": [
    {
     "name": "stdout",
     "output_type": "stream",
     "text": [
      "In June 2023, the dividend yield for the S\\&P 500 is 1.58 percent (see {\\color{green!80!black}\\textbf{---}}), compared to 1.65 percent in May 2023, and 1.64 percent in June 2022. From 1990 to 2015, the dividend yield averaged 2.09 percent.\n"
     ]
    }
   ],
   "source": [
    "dy = ((data.D / data.P).dropna() * 100).loc['1989':].rename('DY')\n",
    "dy.to_csv(data_dir / 'sp500dy.csv', index_label='date')\n",
    "color = 'green!80!black'\n",
    "\n",
    "node = end_node(dy, color, date='m', digits=2, offset=0.3)\n",
    "write_txt(text_dir / 'sp500dy_node.txt', node)\n",
    "\n",
    "ltdt = dtxt(dy.index[-1])['mon1']\n",
    "prdt = dtxt(dy.index[-2])['mon1']\n",
    "yrdt = dtxt(dy.index[-13])['mon1']\n",
    "ltval = dy.iloc[-1]\n",
    "prval = dy.iloc[-2]\n",
    "yrval = dy.iloc[-13]\n",
    "cl = c_line(color)\n",
    "avg = dy.loc['1990': '2015'].mean()\n",
    "text = (f'In {ltdt}, the dividend yield for the S\\&P 500 is '+\n",
    "        f'{ltval:.2f} percent {cl}, compared to {prval:.2f} percent '+\n",
    "        f'in {prdt}, and {yrval:.2f} percent in {yrdt}. From 1990 to '+\n",
    "        f'2015, the dividend yield averaged {avg:.2f} percent.')\n",
    "write_txt(text_dir / 'sp500div.txt', text)\n",
    "print(text)"
   ]
  },
  {
   "cell_type": "code",
   "execution_count": null,
   "metadata": {},
   "outputs": [],
   "source": []
  },
  {
   "cell_type": "code",
   "execution_count": null,
   "metadata": {},
   "outputs": [],
   "source": []
  },
  {
   "cell_type": "markdown",
   "metadata": {},
   "source": [
    "### High Quality Corporate Bond Yield"
   ]
  },
  {
   "cell_type": "code",
   "execution_count": 27,
   "metadata": {
    "ExecuteTime": {
     "end_time": "2024-01-19T14:15:52.709802Z",
     "start_time": "2024-01-19T14:15:52.361332Z"
    }
   },
   "outputs": [
    {
     "name": "stdout",
     "output_type": "stream",
     "text": [
      "The yield on high-quality corporate bonds with a maturity of 10 years is 5.10 percent in December 2023, following 5.72 percent in November 2023 (see {\\color{violet!80!black}\\textbf{---}}). One year prior, in December 2022, this spot rate was 5.17 percent, and four years prior, in December 2019, it was 2.92 percent.\n"
     ]
    }
   ],
   "source": [
    "df = fred_df('HQMCB10YR')\n",
    "\n",
    "# Spread between Corporate Bonds and Treasuries \n",
    "dft = pd.read_csv(data_dir / 'treas_raw.csv', index_col='date', \n",
    "                 parse_dates=True).loc['1989':, 'Ten-year']\n",
    "\n",
    "df['Treasury'] = dft.resample('MS').mean()\n",
    "df['Spread'] = df['VALUE'] - df['Treasury']\n",
    "df[['VALUE', 'Spread']].to_csv(data_dir / 'hqcb.csv', \n",
    "                               index_label='date')\n",
    "\n",
    "color = 'violet!80!black'\n",
    "node = end_node(df['VALUE'], color, date='m', digits=2)\n",
    "write_txt(text_dir / 'hqcb_node.txt', node)\n",
    "\n",
    "data = df.VALUE.apply('{:.2f} percent'.format).values\n",
    "idx = [dtxt(i)['mon1'] for i in df.index]\n",
    "cl = c_line(color)\n",
    "\n",
    "text = (f'The yield on high-quality corporate bonds with a maturity '+\n",
    "        f'of 10 years is {data[-1]} in {idx[-1]}, following '+\n",
    "        f'{data[-2]} in {idx[-2]} {cl}. One year prior, in '+\n",
    "        f'{idx[-13]}, this spot rate was {data[-13]}, and '+\n",
    "        f'four years prior, in {idx[-49]}, it was {data[-49]}.')\n",
    "write_txt(text_dir / 'hqcb.txt', text)\n",
    "print(text)"
   ]
  },
  {
   "cell_type": "code",
   "execution_count": null,
   "metadata": {},
   "outputs": [],
   "source": []
  },
  {
   "cell_type": "code",
   "execution_count": null,
   "metadata": {},
   "outputs": [],
   "source": []
  },
  {
   "cell_type": "markdown",
   "metadata": {},
   "source": [
    "### International Investment Position (IIP)"
   ]
  },
  {
   "cell_type": "code",
   "execution_count": 28,
   "metadata": {
    "ExecuteTime": {
     "end_time": "2024-01-19T14:15:54.072649Z",
     "start_time": "2024-01-19T14:15:52.711047Z"
    }
   },
   "outputs": [
    {
     "name": "stdout",
     "output_type": "stream",
     "text": [
      "In 2023 Q3, domestic holdings of foreign assets total \\$32.9 trillion, which is 119.2 percent of GDP (see {\\color{blue!95!violet}\\textbf{---}}). These assets translate to 123.8 percent of GDP in 2023 Q2, and 128.8 percent in 2019. Domestic liabilities to the foreign sector total \\$51.1 trillion, or 185.0 percent of GDP, in 2023 Q3, following 190.9 percent in 2023 Q2, and 180.2 percent in 2019 (see {\\color{red}\\textbf{---}}).\n",
      "\n",
      "The overall result of these financial positions, net IIP, or holdings of foreign assets minus liabilities, identifies the US as a net debtor to the rest of the world, to the equivalent of 65.8 percent of GDP in 2023 Q3, following 67.0 percent in 2023 Q2, and 51.4 percent in 2019 (see\\cbox{cyan!25!white}).\n"
     ]
    }
   ],
   "source": [
    "# Annual GDP for 1988-2005\n",
    "s = 'A191RC'\n",
    "r = bea_api_nipa([f'T10105'], bea_key, freq='A')\n",
    "data = json.loads(r[0][2])['BEAAPI']['Results']\n",
    "date = lambda x: (pd.to_datetime(x.TimePeriod) + \n",
    "                  pd.DateOffset(months=6))\n",
    "value = lambda x: x.DataValue.str.replace(',','')\n",
    "gdpa = (pd.DataFrame(data['Data']).query('SeriesCode == @s')\n",
    "          .assign(date = date, value=value).set_index('date')\n",
    "          .loc[:'2005', 'value'].astype(int))\n",
    "gdpq = nipa_df(retrieve_table('T10105')['Data'], [s])[s]\n",
    "gdp = pd.concat([gdpa, gdpq.loc['2006':]])\n",
    "\n",
    "srs = ['FinAssets', 'FinLiabs', 'Net']\n",
    "years = ','.join(map(str, range(1988, 2024)))\n",
    "res = pd.DataFrame()\n",
    "for s in srs:\n",
    "    url = (f'https://apps.bea.gov/api/data/?&UserID={bea_key}'+\n",
    "           f'&method=GetData&datasetname=IIP&TypeOfInvestment={s}'+\n",
    "           f'&Component=Pos&Frequency=A,QNSA&Year={years}')\n",
    "    r = requests.get(url)\n",
    "    t = pd.DataFrame(r.json()['BEAAPI']['Data'])\n",
    "    a = t.query('Frequency == \"A\"')[['TimePeriod', 'DataValue']]\n",
    "    a = a.set_index(pd.to_datetime(a['TimePeriod']) + \n",
    "                    pd.DateOffset(months=6)).loc[:'2005', 'DataValue']\n",
    "    q = t.query('Frequency == \"QNSA\"')[['TimePeriod', 'DataValue']]\n",
    "    q = q.set_index(pd.to_datetime(q['TimePeriod']))['DataValue']\n",
    "    res[s] = pd.concat([a, q]).astype('float')\n",
    "\n",
    "sh = res.divide(gdp, axis=0).multiply(100).dropna()\n",
    "sh.loc['1989':].to_csv(data_dir / 'iip.csv', index_label='date')\n",
    "\n",
    "tot = res.iloc[-1] / 1_000_000\n",
    "lt = sh.iloc[-1]\n",
    "ltdt = dtxt(sh.index[-1])['qtr1']\n",
    "pr = sh.iloc[-2]\n",
    "prdt = dtxt(sh.index[-2])['qtr1']\n",
    "pr19 = sh.loc['2019'].mean()\n",
    "col_a, col_l, col_n = 'blue!95!violet', 'red', 'cyan!25!white'\n",
    "cb = c_box(col_n).replace('see ', 'see')\n",
    "text = (f'In {ltdt}, domestic holdings of foreign assets total '+\n",
    "        f'\\${tot.FinAssets:.1f} trillion, which is {lt.FinAssets:.1f} '+\n",
    "        f'percent of GDP {c_line(col_a)}. These assets translate to '+\n",
    "        f'{pr.FinAssets:.1f} percent of GDP in {prdt}, and '+\n",
    "        f'{pr19.FinAssets:.1f} percent in 2019. '+\n",
    "        'Domestic liabilities to the foreign sector total '+\n",
    "        f'\\${tot.FinLiabs:.1f} trillion, or {lt.FinLiabs:.1f} percent of '+\n",
    "        f'GDP, in {ltdt}, following {pr.FinLiabs:.1f} percent in {prdt}, '+\n",
    "        f'and {pr19.FinLiabs:.1f} percent in 2019 {c_line(col_l)}.\\n\\n'+\n",
    "        f'The overall result of these financial positions, net IIP, or '+\n",
    "        'holdings of foreign assets minus liabilities, identifies the '+\n",
    "        'US as a net debtor to the rest of the world, to the equivalent '+\n",
    "        f'of {abs(lt.Net):.1f} percent of GDP in {ltdt}, following '\n",
    "        f'{abs(pr.Net):.1f} percent in {prdt}, and {abs(pr19.Net):.1f} '+\n",
    "        f'percent in 2019 {cb}.')\n",
    "write_txt(text_dir / 'niip.txt', text)\n",
    "print(text)"
   ]
  },
  {
   "cell_type": "code",
   "execution_count": null,
   "metadata": {},
   "outputs": [],
   "source": []
  },
  {
   "cell_type": "code",
   "execution_count": null,
   "metadata": {},
   "outputs": [],
   "source": []
  },
  {
   "cell_type": "markdown",
   "metadata": {},
   "source": [
    "### H.6 Money Stock - M2 (Monthly)"
   ]
  },
  {
   "cell_type": "code",
   "execution_count": 29,
   "metadata": {
    "ExecuteTime": {
     "end_time": "2024-01-19T14:15:54.263765Z",
     "start_time": "2024-01-19T14:15:54.073875Z"
    }
   },
   "outputs": [],
   "source": [
    "url = ('https://www.federalreserve.gov/datadownload/Output.aspx?'+\n",
    "       'rel=H6&series=411c4c269dc600450339f8d4809d80eb&lastobs=&'+\n",
    "       'from=01/01/1987&to=12/31/2023&filetype=csv&label=include&'+\n",
    "       'layout=seriescolumn')\n",
    "d, df = clean_fed_data(url)\n",
    "df.rename(d, axis=1).to_csv(data_dir / 'h6raw.csv', index_label='date')"
   ]
  },
  {
   "cell_type": "code",
   "execution_count": 30,
   "metadata": {
    "ExecuteTime": {
     "end_time": "2024-01-19T14:15:54.305498Z",
     "start_time": "2024-01-19T14:15:54.265298Z"
    }
   },
   "outputs": [
    {
     "name": "stdout",
     "output_type": "stream",
     "text": [
      "In November 2023, the M2 money stock totals \\$20.8 trillion. Put into the context of overall economic activity, M2 is equivalent to 75.1 percent of GDP in the third quarter of 2023.\n",
      "\n",
      "During the 1990s, the ratio of money to economic activity was falling (see {\\color{magenta}\\textbf{---}}). Following the great recession, the money supply has expanded relative to activity. Since 1989, the ratio has increased by a total of 32.8 percent. \n",
      " The M2 money stock increased 0.4 percent in November 2023, over the previous month, following decreases of 0.1 percent in both October and September. Over the past 12 months, the money stock decreased three percent (see {\\color{green!80!blue}\\textbf{---}}). The M2 money stock has increased 36.0 percent, in total, over the past four years. \n"
     ]
    }
   ],
   "source": [
    "df = pd.read_csv(data_dir / 'h6raw.csv', index_col='date', \n",
    "                 parse_dates=True)\n",
    "ltdate = dtxt(df.index[-1])['mon1']\n",
    "prmodt = dtxt(df.index[-2])['mon1']\n",
    "ltval = df['M2'].iloc[-1] / 1000.0\n",
    "one_yr = value_text(df['M2'].pct_change(12).iloc[-1] * 100, threshold=0.1)\n",
    "pr_mo = value_text(df['M2'].pct_change(12).iloc[-2] * 100, \n",
    "                   style='increase_of')\n",
    "four_yr = value_text(df['M2'].pct_change(48).iloc[-1] * 100)\n",
    "\n",
    "# M2 share of GDP\n",
    "m2q = df.M2.resample('QS').mean() * 1_000\n",
    "gdp = nipa_df(retrieve_table('T10105')['Data'], ['A191RC'])['A191RC']\n",
    "m2gdp = ((m2q / gdp) * 100).dropna()\n",
    "m2gi = (m2gdp / m2gdp.iloc[0]).rename('value')\n",
    "m2gi.to_csv(data_dir / 'm2gdp.csv', index_label='date',\n",
    "         float_format='%g')\n",
    "ltqtr = dtxt(m2gi.index[-1])['qtr2']\n",
    "lt = m2gdp.iloc[-1]\n",
    "totch = (m2gi.iloc[-1] - 1) * 100\n",
    "\n",
    "txt1 = (f'In {ltdate}, the M2 money stock totals \\${ltval:.1f} '+\n",
    "        'trillion. Put into the context of overall economic activity, '+\n",
    "        f'M2 is equivalent to {lt:.1f} percent of GDP in {ltqtr}.\\n\\nDuring '+\n",
    "        'the 1990s, the ratio of money to economic activity was falling '+\n",
    "        f'{c_line(\"magenta\")}. Following the great recession, the money '+\n",
    "        'supply has expanded relative to activity. Since 1989, the ratio '+\n",
    "        f'has increased by a total of {totch:.1f} percent.')\n",
    "write_txt(text_dir / 'm2lvl.txt', txt1)\n",
    "col = 'green!80!blue'\n",
    "\n",
    "mo_ch = value_text((df.M2.pct_change()*100).iloc[-1], threshold=0.1)\n",
    "prval = prval_comp(df.M2.pct_change()*100)\n",
    "txt2 = (f'The M2 money stock {mo_ch} in {ltdate}, over the previous '+\n",
    "        f'month, following {prval}. Over the past 12 '+\n",
    "        f'months, the money stock {one_yr} {c_line(col)}. The M2 money '+\n",
    "        f'stock has {four_yr}, in total, over the past four years. ')\n",
    "write_txt(text_dir / 'm2chg.txt', txt2)\n",
    "print(txt1, '\\n', txt2)\n",
    "\n",
    "r = pd.DataFrame({'value': df['M2'].pct_change(12) * 100,\n",
    "                  '3M': m3rate(df['M2']),\n",
    "                  '1M': (((df.M2.pct_change() + 1) ** 12) - 1) * 100}\n",
    "                ).loc['1989':]\n",
    "r.value.to_csv(data_dir / 'm2.csv', index_label='date', header=True,\n",
    "         float_format='%g')\n",
    "\n",
    "node = end_node(r.value, col, offset=0.35, date='m')\n",
    "write_txt(text_dir / 'm2_node.txt', node)"
   ]
  },
  {
   "cell_type": "code",
   "execution_count": null,
   "metadata": {},
   "outputs": [],
   "source": []
  },
  {
   "cell_type": "code",
   "execution_count": null,
   "metadata": {},
   "outputs": [],
   "source": []
  },
  {
   "cell_type": "markdown",
   "metadata": {},
   "source": [
    "### Consumer Credit (G.19)\n",
    "\n",
    "The same chart also includes a line from the Z.1 notebook"
   ]
  },
  {
   "cell_type": "code",
   "execution_count": 31,
   "metadata": {
    "ExecuteTime": {
     "end_time": "2024-01-19T14:15:54.490013Z",
     "start_time": "2024-01-19T14:15:54.306684Z"
    }
   },
   "outputs": [
    {
     "name": "stdout",
     "output_type": "stream",
     "text": [
      "In the monthly measure, consumer credit totals \\$5.01 trillion US dollars on a seasonally-adjusted and annualized basis in November 2023. Over the past year, consumer credit increased by 2.8 percent, while after-tax income increased by seven percent. As a result, the ratio of consumer credit to disposable income decreased by a total of one percentage point. In November 2023, total consumer credit is equivalent to 24.4 percent of annualized November 2023 disposable income (see {\\color{blue!50!black}\\textbf{---}}). \n"
     ]
    }
   ],
   "source": [
    "base = 'https://www.federalreserve.gov/datadownload/Output.aspx?'\n",
    "srs = 'rel=G19&series=8c7511a37e4aea678be81e7a61df57db&lastobs=&'\n",
    "dt = 'from=01/01/1989&to=12/31/2023&'\n",
    "oth = 'filetype=csv&label=include&layout=seriescolumn'\n",
    "url = base + srs + dt + oth\n",
    "\n",
    "d, df = clean_fed_data(url)\n",
    "cc = df['DTCTL.M']\n",
    "\n",
    "dpi = (pd.read_csv(data_dir / 'nipa20600.csv', index_col='date', \n",
    "                   parse_dates=True).loc['1989':, 'A067RC'])\n",
    "rate = ((cc / dpi) * 100).rename('value').dropna()\n",
    "rate.to_csv(data_dir / 'cc_dpi_monthly.csv', index_label='date')\n",
    "\n",
    "node_color = 'blue!50!black'\n",
    "node = end_node(rate, node_color, date='m', offset=0.35)\n",
    "write_txt(text_dir / 'cc_dpi_monthly_node.txt', node)\n",
    "\n",
    "ltdate = dtxt(cc.index[-1])['mon1']\n",
    "ltval = cc.iloc[-1] / 1_000_000\n",
    "ltrate = rate.iloc[-1]\n",
    "one_yr = value_text(cc.pct_change(12).iloc[-1] * 100, style='increase_by')\n",
    "one_yr_dpi = value_text(dpi.pct_change(12).iloc[-1] * 100, style='increase_by')\n",
    "one_yr_rate = value_text(rate.diff(12).iloc[-1], adj='total', \n",
    "                         ptype='pp', threshold=0.1)\n",
    "cline = c_line(node_color)\n",
    "also = 'also ' if one_yr == one_yr_dpi else ''    \n",
    "text = ('In the monthly measure, consumer credit totals '+\n",
    "        f'\\${ltval:.2f} trillion US dollars on a '+\n",
    "        f'seasonally-adjusted and annualized basis in {ltdate}. '+\n",
    "        f'Over the past year, consumer credit {one_yr}, while '+\n",
    "        f'after-tax income {also}{one_yr_dpi}. As a result, the ratio '+\n",
    "        f'of consumer credit to disposable income {one_yr_rate}. '+\n",
    "        f'In {ltdate}, total consumer credit is equivalent to '+\n",
    "        f'{ltrate:.1f} percent of annualized {ltdate} disposable '+\n",
    "        f'income {cline}. ')\n",
    "write_txt(text_dir / 'cc_dpi.txt', text)\n",
    "print(text)"
   ]
  },
  {
   "cell_type": "code",
   "execution_count": null,
   "metadata": {},
   "outputs": [],
   "source": []
  },
  {
   "cell_type": "code",
   "execution_count": null,
   "metadata": {},
   "outputs": [],
   "source": []
  },
  {
   "cell_type": "markdown",
   "metadata": {},
   "source": [
    "### Employment Cost Index"
   ]
  },
  {
   "cell_type": "code",
   "execution_count": 32,
   "metadata": {
    "ExecuteTime": {
     "end_time": "2024-01-19T14:15:54.494458Z",
     "start_time": "2024-01-19T14:15:54.491573Z"
    }
   },
   "outputs": [],
   "source": [
    "series = {'CIU2020000000000A': 'WS',\n",
    "          'CIU2030000000000A': 'Be',\n",
    "          'CIS1020000000000I': 'IndexWS',\n",
    "          'CIS102G000000000I': 'IndexWSGoods',\n",
    "          'CIU2020000000000I': 'IndexWS_PVT_NSA',\n",
    "          'CIU1020000000000I': 'IndexWS_ALL_NSA',\n",
    "          'ECU20001I': 'IndexWS_ALL_NSA_SIC',\n",
    "          'ECS20001I': 'IndexWS_All_SA_SIC'}\n",
    "\n",
    "#dates = (1988, 2023)\n",
    "#df = bls_api(series, dates, bls_key)\n",
    "#df.to_csv(data_dir/ 'eci.csv', index_label='date')"
   ]
  },
  {
   "cell_type": "code",
   "execution_count": 33,
   "metadata": {
    "ExecuteTime": {
     "end_time": "2024-01-19T14:15:54.519427Z",
     "start_time": "2024-01-19T14:15:54.495848Z"
    }
   },
   "outputs": [
    {
     "name": "stdout",
     "output_type": "stream",
     "text": [
      "Over the year ending 2023 Q3, private industry wage and salary costs increased 4.5 percent (see {\\color{green!75!blue!60!black}\\textbf{---}}), following increases of 4.6 percent in Q2 and 5.1 percent in Q1. In 2019, private wages and salaries increased by three percent.\n",
      "\n",
      "The cost of private sector benefits increased 3.9 percent (see {\\color{cyan!90!blue}\\textbf{---}}) over the year ending 2023 Q3, following an increase of 3.9 percent in 2023 Q2. In 2019, private-sector benefits costs increased by two percent. \n",
      "\n",
      "Calculating gross labor income from the employment cost index for private industries and the prime age employment rate (see {\\color{violet!80!black}\\textbf{---}}), one-year growth is 5.4 percent in 2023 Q3, following 8.0 percent one year prior. \n"
     ]
    }
   ],
   "source": [
    "df = pd.read_csv(data_dir / 'eci.csv', index_col='date', \n",
    "                 parse_dates=True)[['WS', 'Be']]\n",
    "\n",
    "adj = node_adj(df)\n",
    "smax = df.iloc[-1].idxmax()\n",
    "adj[smax] = adj[smax] + 0.35\n",
    "\n",
    "colors = {'WS': 'green!75!blue!60!black', \n",
    "          'Be': 'cyan!90!blue'}\n",
    "date = {series: 'q' if series == smax else None \n",
    "        for series in colors.keys()}\n",
    "nodes  ='\\n'.join([end_node(df[series], color, \n",
    "                            date=date[series], \n",
    "                            size=1.1, offset=adj[series])\n",
    "                   for series, color in colors.items()])\n",
    "write_txt(text_dir / 'eci_nodes.txt', nodes)\n",
    "\n",
    "obs = [(-1, 'lt'), (-2, 'pr'), (-3, 'pr2')]\n",
    "sty = [('increase', '1'), ('increase_of', '2'), \n",
    "       ('increase', '3')]\n",
    "dt = {n: dtxt(df.index[i]) for i, n in obs}\n",
    "v = {f'{name}_{n}_{s}': value_text(val, style=style, threshold=0.1) \n",
    "     for i, n in obs for name, val \n",
    "     in df.iloc[i].to_dict().items() \n",
    "     for style, s in sty}\n",
    "\n",
    "valpr = prval_comp(df.WS)\n",
    "val19 = {s: value_text(df.loc['2019', s].mean(), 'increase_by') \n",
    "         for s in ['WS', 'Be']}\n",
    "text = (f'Over the year ending {dt[\"lt\"][\"qtr1\"]}, private '+\n",
    "        f'industry wage and salary costs {v[\"WS_lt_3\"]} '+\n",
    "        f'{c_line(colors[\"WS\"])}, '+\n",
    "        f'following {valpr}. In '+\n",
    "        f'2019, private wages and salaries {val19[\"WS\"]}.'+\n",
    "        '\\n\\nThe cost of private sector benefits '+\n",
    "        f'{v[\"Be_lt_3\"]} {c_line(colors[\"Be\"])} over the year '+\n",
    "        f'ending {dt[\"lt\"][\"qtr1\"]}, following {v[\"Be_pr_2\"]} '+\n",
    "        f'in {dt[\"pr\"][\"qtr1\"]}. In 2019, private-sector '+\n",
    "        f'benefits costs {val19[\"Be\"]}.')\n",
    "write_txt(text_dir / 'eci.txt', text)\n",
    "print(text, '\\n')\n",
    "\n",
    "# Calculate Gross Labor Income\n",
    "start = '2017-01-01'\n",
    "eci = pd.read_csv(data_dir / 'eci.csv', index_col='date', \n",
    "                  parse_dates=True)['WS']\n",
    "epop = (pd.read_csv(data_dir / 'jobs_report_main.csv', index_col='date', \n",
    "                   parse_dates=True)['PA_EPOP'].pct_change(12)\n",
    "        .resample('QS').mean()) * 100\n",
    "ece = (eci + epop).rename('ECI_EPOP').dropna()\n",
    "# Shift dates to center quarter on chart\n",
    "ds = ece.loc[start:]\n",
    "ds.index = ds.index + pd.DateOffset(days=45)\n",
    "ds.to_csv(data_dir / 'gli_qtr.csv', index_label='date')\n",
    "\n",
    "#text\n",
    "cline = c_line('violet!80!black')\n",
    "ltdt = dtxt(ece.index[-1])['qtr1']\n",
    "text = ('Calculating gross labor income from the employment cost index '+\n",
    "        f'for private industries and the prime age employment rate {cline}, '+\n",
    "        f'one-year growth is {ece.iloc[-1]:.1f} percent in {ltdt}, '+\n",
    "        f'following {ece.iloc[-5]:.1f} percent one year prior. ')\n",
    "write_txt(text_dir / 'gli_eci.txt', text)\n",
    "print(text)"
   ]
  },
  {
   "cell_type": "code",
   "execution_count": 34,
   "metadata": {
    "ExecuteTime": {
     "end_time": "2024-01-19T14:15:54.535843Z",
     "start_time": "2024-01-19T14:15:54.520830Z"
    }
   },
   "outputs": [],
   "source": [
    "# Latest data for wage summary chart\n",
    "df = pd.read_csv(data_dir / 'eci.csv', index_col='date', \n",
    "                 parse_dates=True)\n",
    "cpi = pd.read_csv(data_dir / 'cpi_raw.csv', \n",
    "                 index_col='date', parse_dates=True)\n",
    "cpidt = cpi.index[-73]\n",
    "df.loc[cpidt:, 'WS'].to_csv(data_dir / 'eci_growth_recent.csv', \n",
    "                      index_label='date')\n",
    "\n",
    "# Long-term chart\n",
    "df = pd.read_csv(data_dir / 'eci.csv', index_col='date', \n",
    "                 parse_dates=True)\n",
    "res = (df[['IndexWS_ALL_NSA_SIC', 'IndexWS_ALL_NSA']]\n",
    "       .pct_change(4, fill_method=None).multiply(100))\n",
    "\n",
    "res.loc['1989':].to_csv(data_dir / 'eci_yy.csv', \n",
    "                      index_label='date')\n",
    "\n",
    "node = end_node(res['IndexWS_ALL_NSA'], 'blue!80!purple!80!white', \n",
    "                date='q', offset=0.35)\n",
    "write_txt(text_dir / 'eci_yy_node.txt', node)"
   ]
  },
  {
   "cell_type": "code",
   "execution_count": 35,
   "metadata": {
    "ExecuteTime": {
     "end_time": "2024-01-19T14:15:54.577457Z",
     "start_time": "2024-01-19T14:15:54.537269Z"
    }
   },
   "outputs": [
    {
     "name": "stdout",
     "output_type": "stream",
     "text": [
      "In 2023 Q2, wages increased 4.8 percent, following increases of 3.8 percent in Q2 and 4.6 percent in Q1 (see\\cbox{cyan!50!lime!70!white}). Growth is currently below the 2021 highs and above the pre-COVID average.\n",
      "\n",
      "Adjusted for inflation using the PCE deflator, growth is 2.2 percent in 2023 Q3, following increases of 1.4 percent in Q2 and 0.5 percent in Q1 (see {\\color{violet}\\textbf{---}}). Real wage growth is above the long-term average. \n"
     ]
    }
   ],
   "source": [
    "# Quarterly growth chart\n",
    "df = pd.read_csv(data_dir / 'eci.csv', index_col='date', \n",
    "                 parse_dates=True)[['IndexWS']]\n",
    "res = (df.pct_change() * 400)\n",
    "\n",
    "# deflator\n",
    "d = nipa_df(retrieve_table('T20304')['Data'], ['DPCERG'])['DPCERG']\n",
    "pr = (d.pct_change() * 400)\n",
    "\n",
    "# Calculate real series\n",
    "res = pd.concat([res, pr.to_frame()], axis=1)\n",
    "res['REAL'] = res['IndexWS'] - res['DPCERG']\n",
    "res['Quarter'] = [f'Q{i.quarter}\\\\\\\\{i.year}' if i.quarter == 1 \n",
    "                  else dtxt(i)['qtr3'] for i in res.index]\n",
    "\n",
    "# Save results\n",
    "res.iloc[-13:].to_csv(data_dir / 'eci_qq.csv', index_label='date')\n",
    "\n",
    "# End node for real series\n",
    "node = end_node(res.REAL, 'violet', size=1.8, xoffset=0.06)\n",
    "write_txt(text_dir / 'eci_qq_real_node.txt', node)\n",
    "\n",
    "# Text\n",
    "ltdt = dtxt(res.index[-1])['qtr1']\n",
    "\n",
    "cb = c_box('cyan!50!lime!70!white')\n",
    "cl = c_line('violet')\n",
    "\n",
    "nomlt = value_text(res.IndexWS.iloc[-1])\n",
    "valpr = prval_comp(res.IndexWS)\n",
    "rlt = value_text(res.REAL.iloc[-1], 'plain')\n",
    "rvalpr = prval_comp(res.REAL)\n",
    "\n",
    "ct1 = compare_text(res.IndexWS.iloc[-1], \n",
    "             res.loc['2021', 'IndexWS'].max(), \n",
    "             [0.2, 0.6, 1.2], plain=True)\n",
    "\n",
    "ct2 = compare_text(res.IndexWS.iloc[-1], \n",
    "             res.loc['2019', 'IndexWS'].mean(), \n",
    "             [0.2, 0.6, 1.2], plain=True)\n",
    "\n",
    "ct3 = compare_text(res.REAL.iloc[-1], \n",
    "             res['REAL'].mean(), \n",
    "             [0.2, 0.6, 1.2], plain=True)\n",
    "\n",
    "text = (f'In {prdt}, wages {nomlt}, following '+\n",
    "        f'{valpr} {cb}. '+\n",
    "        f'Growth is currently {ct1} the 2021 highs and {ct2} '+\n",
    "        'the pre-COVID average.\\n\\nAdjusted for inflation using '+\n",
    "        f'the PCE deflator, growth is {rlt} in {ltdt}, '+\n",
    "        f'following {rvalpr} {cl}. Real wage growth is {ct3} '+\n",
    "        'the long-term average. ')\n",
    "write_txt(text_dir / 'eci_qq.txt', text)\n",
    "print(text)"
   ]
  },
  {
   "cell_type": "code",
   "execution_count": null,
   "metadata": {
    "ExecuteTime": {
     "end_time": "2023-11-10T19:51:30.466977Z",
     "start_time": "2023-11-10T19:51:30.423022Z"
    }
   },
   "outputs": [],
   "source": []
  },
  {
   "cell_type": "code",
   "execution_count": null,
   "metadata": {},
   "outputs": [],
   "source": []
  },
  {
   "cell_type": "markdown",
   "metadata": {
    "ExecuteTime": {
     "end_time": "2022-02-16T00:25:27.133068Z",
     "start_time": "2022-02-16T00:25:27.131119Z"
    }
   },
   "source": [
    "### Treasury International Capital"
   ]
  },
  {
   "cell_type": "code",
   "execution_count": 36,
   "metadata": {
    "ExecuteTime": {
     "end_time": "2024-01-19T14:16:15.040812Z",
     "start_time": "2024-01-19T14:15:54.578602Z"
    }
   },
   "outputs": [],
   "source": [
    "# URL \n",
    "file = ('https://treasury.gov/resource-center/data-chart-center/tic/'+\n",
    "        'Documents/npr_history.csv')\n",
    "#file = ('/home/brian/Downloads/npr_history.csv')\n",
    "# Match names with numbers of columns in report\n",
    "names = {10: 'Treasuries_official', 5: 'Treasuries_private', \n",
    "         11: 'Agencies_official', 6: 'Agencies_private', \n",
    "         12: 'Corporate_official', 7: 'Corporate_private',\n",
    "         13: 'Equities_official', 8: 'Equities_private'}\n",
    "\n",
    "df = pd.read_csv(file, header=12, index_col=0, parse_dates=True).iloc[1:].dropna()\n",
    "df.index.name = 'date'\n",
    "df.index = pd.to_datetime(df.index)\n",
    "rn = {f'[{k}]': v for k, v in names.items()}\n",
    "res = df[rn.keys()].rename(rn, axis=1).sort_index().loc['1988':]\n",
    "# Categories to combine\n",
    "c = {'Treasury_Bonds': ['Treasuries_official',\n",
    "                        'Treasuries_private'],\n",
    "     'Agency_Bonds': ['Agencies_official', \n",
    "                      'Agencies_private'],\n",
    "     'Corporate_Bonds': ['Corporate_official',\n",
    "                         'Corporate_private'],\n",
    "     'Equities': ['Equities_official', 'Equities_private']}\n",
    "\n",
    "final = pd.DataFrame()\n",
    "for name, grp in c.items():\n",
    "    final[name] = (res[grp].astype('int').sum(axis=1).sort_index())"
   ]
  },
  {
   "cell_type": "code",
   "execution_count": 37,
   "metadata": {
    "ExecuteTime": {
     "end_time": "2024-01-19T14:16:15.056605Z",
     "start_time": "2024-01-19T14:16:15.041995Z"
    }
   },
   "outputs": [
    {
     "name": "stdout",
     "output_type": "stream",
     "text": [
      "October 2023\n"
     ]
    }
   ],
   "source": [
    "s = ['Treasury_Bonds', 'Agency_Bonds', 'Corporate_Bonds']\n",
    "pce = pd.read_csv(data_dir / 'nipa20804.csv', index_col='date', \n",
    "                  parse_dates=True).loc[final.index, 'DPCERG']\n",
    "pr = pce / pce.iloc[-1]\n",
    "data = (final[s].rolling(12).sum().loc['1989':]\n",
    "        .divide(1000).dropna())\n",
    "adj = (final[s].divide(pr, axis=0).rolling(12).sum().loc['1989':]\n",
    "        .divide(1000).dropna())\n",
    "adj.to_csv(data_dir/ 'tic_bond.csv', index_label='date')\n",
    "date = dtxt(adj.index[-1])['mon1']\n",
    "write_txt(text_dir / 'tic_date.txt', date)\n",
    "print(date)"
   ]
  },
  {
   "cell_type": "code",
   "execution_count": 38,
   "metadata": {
    "ExecuteTime": {
     "end_time": "2024-01-19T14:16:15.082894Z",
     "start_time": "2024-01-19T14:16:15.057944Z"
    }
   },
   "outputs": [
    {
     "name": "stdout",
     "output_type": "stream",
     "text": [
      "Over the year ending October 2023, the rest of the world was a net buyer of \\$502 billion of US treasury bonds, equivalent to 1.8 percent of US GDP (see\\cbox{black!25!white}). Over the same period, the rest of the world was a net buyer of \\$172 billion of US agency bonds, (see\\cbox{orange!30!yellow!90!white}), and a net buyer of \\$213 billion of US corporate bonds, (see\\cbox{blue!70!white}).\n"
     ]
    }
   ],
   "source": [
    "ltdt = dtxt(data.index[-1])['mon1']\n",
    "gdp = nipa_df(retrieve_table('T10105')['Data'], ['A191RC'])['A191RC']\n",
    "tbgdp = ((data.iloc[-1].loc['Treasury_Bonds'] * 1_000) / \n",
    "         gdp.iloc[-1]) * 100\n",
    "tbgdpt = value_text(tbgdp, 'plain')\n",
    "\n",
    "colors = {'Treasury_Bonds': 'black!25!white', \n",
    "          'Corporate_Bonds': 'blue!70!white',\n",
    "          'Agency_Bonds': 'orange!30!yellow!90!white'}\n",
    "\n",
    "cb = {k: c_box(v).replace('see ', 'see') for k,v in colors.items()}\n",
    "\n",
    "d = {}\n",
    "for i in s:\n",
    "    item = i.replace('_', ' ').lower()\n",
    "    val = data.iloc[-1].loc[i]\n",
    "    buysell = 'buyer' if val > 0 else 'seller'\n",
    "    txt = (f'a net {buysell} of \\${val:,.0f} billion of US {item}' \n",
    "           if abs(val) >= 5 else \n",
    "           f'about unchanged in holdings of US {item}')\n",
    "    d[i] = txt\n",
    "\n",
    "text = (f'Over the year ending {ltdt}, the rest of the world was '+\n",
    "        f'{d[\"Treasury_Bonds\"]}, equivalent to {tbgdpt} '+\n",
    "        f'of US GDP {cb[\"Treasury_Bonds\"]}. Over the same period, '+\n",
    "        f'the rest of the world was {d[\"Agency_Bonds\"]}, '+\n",
    "        f'{cb[\"Agency_Bonds\"]}, and {d[\"Corporate_Bonds\"]}, '+\n",
    "        f'{cb[\"Corporate_Bonds\"]}.')\n",
    "write_txt(text_dir / 'tic.txt', text)\n",
    "print(text)"
   ]
  },
  {
   "cell_type": "code",
   "execution_count": null,
   "metadata": {},
   "outputs": [],
   "source": []
  },
  {
   "cell_type": "code",
   "execution_count": null,
   "metadata": {},
   "outputs": [],
   "source": []
  },
  {
   "cell_type": "markdown",
   "metadata": {},
   "source": [
    "### FRBNY Survey of Consumer Expectations Job Separation Expectation"
   ]
  },
  {
   "cell_type": "code",
   "execution_count": 39,
   "metadata": {
    "ExecuteTime": {
     "end_time": "2024-01-19T14:16:15.725151Z",
     "start_time": "2024-01-19T14:16:15.084286Z"
    }
   },
   "outputs": [],
   "source": [
    "url = ('https://www.newyorkfed.org/medialibrary/interactives/'+\n",
    "       'sce/sce/downloads/data/frbny-sce-data.xlsx')\n",
    "df = pd.read_excel(url, sheet_name='Job separation expectation', \n",
    "                   skiprows=3, index_col=0)\n",
    "df.index = pd.to_datetime([f'{str(i)[:4]}-{str(i)[-2:]}-01' \n",
    "                          for i in df.index])\n",
    "df.columns = ['Losing', 'Leaving']\n",
    "df.to_csv(data_dir / 'sce_job_separation.csv', index_label='date')"
   ]
  },
  {
   "cell_type": "code",
   "execution_count": 40,
   "metadata": {
    "ExecuteTime": {
     "end_time": "2024-01-19T14:16:15.738384Z",
     "start_time": "2024-01-19T14:16:15.726339Z"
    }
   },
   "outputs": [
    {
     "name": "stdout",
     "output_type": "stream",
     "text": [
      "In December 2023, the perceived likelihood of leaving one's job voluntarily in the next 12 months averages 20.4 percent, compared to 21.0 percent in 2019 (see {\\color{violet!50!blue}\\textbf{---}}). In the latest month, the perceived probability losing one's job is 13.4 percent, compared to 14.3 percent in 2019 (see {\\color{cyan}\\textbf{---}}).\n",
      "\n",
      "During the pandemic, in April 2020, job loss expectations exceeded job leaving expectations. In December 2023, job leaving expectations exceed job loss expectations by 7.0 percentage points, compared to 6.8 percentage points in 2019. \n"
     ]
    }
   ],
   "source": [
    "df = pd.read_csv(data_dir / 'sce_job_separation.csv', index_col='date', \n",
    "                 parse_dates=True)\n",
    "\n",
    "lcol = 'cyan'\n",
    "vcol = 'violet!50!blue'\n",
    "vnode = end_node(df.Leaving, vcol, date='m', offset=0.35)\n",
    "lnode = end_node(df.Losing, lcol)\n",
    "nodes = '\\n'.join([vnode, lnode])\n",
    "write_txt(text_dir / 'sce_job_sep_nodes.txt', nodes)\n",
    "\n",
    "ltdt = dtxt(df.index[-1])['mon1']\n",
    "ltv = df.Leaving.iloc[-1]\n",
    "prv = df.Leaving.loc['2019'].mean()\n",
    "ltl = df.Losing.iloc[-1]\n",
    "prl = df.Losing.loc['2019'].mean()\n",
    "diff = ltv - ltl\n",
    "diffpr = prv - prl\n",
    "exfb = 'exceed' if diff > 0 else 'false below'\n",
    "text = (f'In {ltdt}, the perceived likelihood of leaving '+\n",
    "        \"one's job voluntarily in the next 12 months \"+\n",
    "        f'averages {ltv:.1f} percent, compared to {prv:.1f} '+\n",
    "        f'percent in 2019 {c_line(vcol)}. In the latest month, '+\n",
    "        f\"the perceived probability losing one's job is {ltl:.1f} \"+\n",
    "        f'percent, compared to {prl:.1f} percent in 2019 '+\n",
    "        f'{c_line(lcol)}.\\n\\nDuring the pandemic, in April 2020, '+\n",
    "        'job loss expectations exceeded job leaving expectations. '+\n",
    "        f'In {ltdt}, job leaving expectations {exfb} job loss '+\n",
    "        f'expectations by {diff:.1f} percentage points, compared '+\n",
    "        f'to {diffpr:.1f} percentage points in 2019. ')\n",
    "write_txt(text_dir / 'sce_job_sep.txt', text)\n",
    "print(text)"
   ]
  },
  {
   "cell_type": "code",
   "execution_count": null,
   "metadata": {},
   "outputs": [],
   "source": []
  },
  {
   "cell_type": "code",
   "execution_count": null,
   "metadata": {},
   "outputs": [],
   "source": []
  },
  {
   "cell_type": "markdown",
   "metadata": {
    "ExecuteTime": {
     "end_time": "2022-03-10T16:51:48.241151Z",
     "start_time": "2022-03-10T16:51:48.238778Z"
    }
   },
   "source": [
    "### Real Effective Exchange Rate\n",
    "\n",
    "From BIS\n",
    "\n",
    "Index 2010 = 100"
   ]
  },
  {
   "cell_type": "code",
   "execution_count": 41,
   "metadata": {
    "ExecuteTime": {
     "end_time": "2024-01-19T14:16:16.139403Z",
     "start_time": "2024-01-19T14:16:15.739567Z"
    }
   },
   "outputs": [
    {
     "name": "stdout",
     "output_type": "stream",
     "text": [
      "The Bank for International Settlements (BIS) \\href{https://www.bis.org/statistics/eer.htm}{calculates} \\textbf{real effective exchange rates} for many countries, on a monthly basis. As of December 2023, the US dollar real effective exchange rate has increased 6.6 percent since 2010. In 2019, the index average was 98.6. Over the past three months, the index average value was 108.5.\n"
     ]
    }
   ],
   "source": [
    "df = fred_df('RBUSBIS')\n",
    "df.to_csv(data_dir / 'reer.csv', index_label='date')\n",
    "ltdt = dtxt(df.index[-1])['mon1']\n",
    "ltval = value_text(df.VALUE.iloc[-1] - 100)\n",
    "val19 = df.loc['2019', 'VALUE'].mean()\n",
    "lt3m = df.VALUE.iloc[-3:].mean()\n",
    "url = 'https://www.bis.org/statistics/eer.htm'\n",
    "text = (f'The Bank for International Settlements (BIS) \\href{{{url}}}{{calculates}} '+\n",
    "        '\\\\textbf{real effective exchange rates} for many countries, on a monthly '+\n",
    "        f'basis. As of {ltdt}, the US dollar real effective exchange rate has '+\n",
    "        f'{ltval} since 2010. In 2019, the index average was {val19:.1f}. Over the '+\n",
    "        f'past three months, the index average value was {lt3m:.1f}.')\n",
    "write_txt(text_dir / 'reer.txt', text)\n",
    "print(text)\n",
    "node = end_node(df.VALUE, 'red', date='m', full_year=True, offset=-0.35)\n",
    "write_txt(text_dir / 'reer_node.txt', node)"
   ]
  },
  {
   "cell_type": "code",
   "execution_count": null,
   "metadata": {},
   "outputs": [],
   "source": []
  },
  {
   "cell_type": "code",
   "execution_count": null,
   "metadata": {},
   "outputs": [],
   "source": []
  },
  {
   "cell_type": "markdown",
   "metadata": {},
   "source": [
    "### Construction Spending\n",
    "\n",
    "Census data on the value of construction put-in-place"
   ]
  },
  {
   "cell_type": "code",
   "execution_count": 42,
   "metadata": {
    "ExecuteTime": {
     "end_time": "2024-01-19T14:16:23.260271Z",
     "start_time": "2024-01-19T14:16:16.140629Z"
    }
   },
   "outputs": [],
   "source": [
    "# Category codes and data type codes\n",
    "d = {'PrRes': ['A00XX', 'V'], 'PrNR': ['ANRXX', 'V'], \n",
    "     'Pub': ['AXXXX', 'P'], 'Total': ['AXXXX', 'T'],\n",
    "     'PrMan': ['A20IX', 'V']}\n",
    "date = lambda x: pd.to_datetime(x.time)\n",
    "df = pd.DataFrame()\n",
    "for name, (cc, dtc) in d.items():\n",
    "    url = ('https://api.census.gov/data/timeseries/eits/vip?'+\n",
    "           f'get=cell_value,time_slot_id&key={census_key}&time=from+2002&'+\n",
    "           f'category_code={cc}&data_type_code={dtc}&'+\n",
    "           'for=us&seasonally_adj=yes')\n",
    "    r = requests.get(url).json()\n",
    "    df[name] = (pd.DataFrame(r[1:], columns=r[0]).assign(date = date)\n",
    "                .set_index('date')['cell_value'].astype('float')).sort_index()\n",
    "df.to_csv(data_dir / 'construction_spending.csv', index_label='date')"
   ]
  },
  {
   "cell_type": "code",
   "execution_count": 43,
   "metadata": {
    "ExecuteTime": {
     "end_time": "2024-01-19T14:16:23.284587Z",
     "start_time": "2024-01-19T14:16:23.261588Z"
    }
   },
   "outputs": [
    {
     "name": "stdout",
     "output_type": "stream",
     "text": [
      "In November 2023, the annualized value of construction put-in-place is \\$2.1 trillion, equivalent to 7.4 percent of GDP.\n",
      "By sector, private residential construction is 3.2 percent of GDP (see {\\color{blue!60!white}\\textbf{---}}) in November 2023, private nonresidential construction is 2.5 percent (see {\\color{yellow!60!orange}\\textbf{---}}), and government construction is 1.6 percent (see {\\color{violet!60!black}\\textbf{---}}).\n",
      "\n",
      "Over the past year, construction spending contributed 0.79 percentage point to nominal GDP growth. Private residential construction contributed 0.12 percentage point, private nonresidential contributed 0.43 point, and public construction added 0.24 point.\n"
     ]
    }
   ],
   "source": [
    "df = pd.read_csv(data_dir / 'construction_spending.csv', index_col='date', \n",
    "                 parse_dates=True)\n",
    "\n",
    "gdp = pd.read_csv(data_dir / 'gdp_monthly.csv', index_col='date', \n",
    "                  parse_dates=True)['A191RC']\n",
    "\n",
    "sh = (df.divide(gdp, axis=0).dropna() * 100)\n",
    "sh.to_csv(data_dir / 'construction_spending_sh.csv', index_label='date')\n",
    "\n",
    "# Text for total\n",
    "ltdt = dtxt(sh.index[-1])['mon1']\n",
    "ltval = f'\\${(df.Total.iloc[-1] / 1_000_000):.1f} trillion'\n",
    "ltsh = value_text(sh.Total.iloc[-1], 'eq', adj='GDP')\n",
    "\n",
    "text = (f'In {ltdt}, the annualized value of construction put-in-place '+\n",
    "        f'is {ltval}, {ltsh}.')\n",
    "write_txt(text_dir / 'construction_spending_total.txt', text)\n",
    "print(text)\n",
    "\n",
    "# End nodes\n",
    "colors = {'PrRes': 'blue!60!white', 'PrNR': 'yellow!60!orange', \n",
    "          'Pub': 'violet!60!black'}\n",
    "res = sh[colors.keys()]\n",
    "adj = node_adj(res)\n",
    "smax = res.iloc[-1].idxmax()\n",
    "adj[smax] = adj[smax] + 0.35\n",
    "\n",
    "date = {series: 'm' if series == smax else None \n",
    "        for series in colors.keys()}\n",
    "nodes  ='\\n'.join([end_node(res[series], color, \n",
    "                            date=date[series], full_year=True, \n",
    "                            size=1.1, offset=adj[series]) \n",
    "                   for series, color in colors.items()])\n",
    "write_txt(text_dir / 'construction_spending_nodes.txt', nodes)  \n",
    "\n",
    "# Share of GDP by sector\n",
    "shd = {i: value_text(sh[i].iloc[-1], 'plain') \n",
    "       for i in ['PrRes', 'PrNR', 'Pub']}\n",
    "cl = {i: c_line(c) for i, c in colors.items()}\n",
    "\n",
    "# Growth contribution\n",
    "df['GDP'] = gdp\n",
    "gc = growth_contrib_ann(df, 'GDP', freq='M')\n",
    "gcd = {i: value_text(gc[i].iloc[-1], 'contribution', \n",
    "                     ptype='pp', digits=2) \n",
    "       for i in ['PrRes', 'PrNR', 'Pub', 'Total']}\n",
    "gcnr = value_text(gc['PrNR'].iloc[-1], 'contribution', \n",
    "                   ptype=None, digits=2) + ' point'\n",
    "gcpub = value_text(gc['Pub'].iloc[-1], 'contribution', casual=True,\n",
    "                   ptype=None, digits=2) + ' point'\n",
    "\n",
    "text = (f'By sector, private residential construction is '+\n",
    "        f'{shd[\"PrRes\"]} of GDP {cl[\"PrRes\"]} in {ltdt}, '+\n",
    "        f'private nonresidential construction is {shd[\"PrNR\"]} '+\n",
    "        f'{cl[\"PrNR\"]}, and government construction is '+\n",
    "        f'{shd[\"Pub\"]} {cl[\"Pub\"]}.\\n\\n'+\n",
    "        'Over the past year, construction spending '+\n",
    "        f'{gcd[\"Total\"]} to nominal GDP growth. Private residential '+\n",
    "        f'construction {gcd[\"PrRes\"]}, private '+\n",
    "        f'nonresidential {gcnr}, and '+\n",
    "        f'public construction {gcpub}.')\n",
    "write_txt(text_dir / 'construction_spending_sector.txt', text)  \n",
    "print(text)"
   ]
  },
  {
   "cell_type": "code",
   "execution_count": null,
   "metadata": {},
   "outputs": [],
   "source": []
  },
  {
   "cell_type": "code",
   "execution_count": null,
   "metadata": {},
   "outputs": [],
   "source": []
  }
 ],
 "metadata": {
  "kernelspec": {
   "display_name": "Python 3 (ipykernel)",
   "language": "python",
   "name": "python3"
  },
  "language_info": {
   "codemirror_mode": {
    "name": "ipython",
    "version": 3
   },
   "file_extension": ".py",
   "mimetype": "text/x-python",
   "name": "python",
   "nbconvert_exporter": "python",
   "pygments_lexer": "ipython3",
   "version": "3.8.13"
  }
 },
 "nbformat": 4,
 "nbformat_minor": 2
}
