{
 "cells": [
  {
   "cell_type": "markdown",
   "metadata": {},
   "source": [
    "# Generate Data for Chartbook\n",
    "\n",
    "Brian Dew\n",
    "\n",
    "@bd_econ"
   ]
  },
  {
   "cell_type": "code",
   "execution_count": 1,
   "metadata": {
    "ExecuteTime": {
     "end_time": "2022-03-04T13:44:33.062664Z",
     "start_time": "2022-03-04T13:44:32.399883Z"
    }
   },
   "outputs": [],
   "source": [
    "import sys\n",
    "sys.path.append('../src')\n",
    "\n",
    "import uschartbook.config\n",
    "\n",
    "from uschartbook.config import *\n",
    "from uschartbook.utils import *"
   ]
  },
  {
   "cell_type": "code",
   "execution_count": null,
   "metadata": {
    "ExecuteTime": {
     "end_time": "2022-02-19T01:08:58.391068Z",
     "start_time": "2022-02-19T01:08:58.389288Z"
    },
    "scrolled": true
   },
   "outputs": [],
   "source": [
    "#nipa_series_codes(retrieve_table('T10502'))"
   ]
  },
  {
   "cell_type": "markdown",
   "metadata": {},
   "source": [
    "### GDP components"
   ]
  },
  {
   "cell_type": "code",
   "execution_count": null,
   "metadata": {
    "ExecuteTime": {
     "end_time": "2022-02-24T13:38:39.526318Z",
     "start_time": "2022-02-24T13:38:39.336015Z"
    }
   },
   "outputs": [],
   "source": [
    "pop = nipa_df(retrieve_table('T20100')['Data'], ['B230RC'])['B230RC']\n",
    "\n",
    "srs = {'A191RX': '\\hspace{0.5mm} {\\color{red!95!black}\\\\textbf{---}} Gross Domestic Product', \n",
    "       'DPCERX': '\\hspace{2.5mm} {\\color{yellow!45!orange}\\\\textbf{---}} Consumer Spending', \n",
    "       'A006RX': '\\hspace{2.5mm} {\\color{blue!70!black}\\\\textbf{---}} Gross Private Domestic Investment', \n",
    "       'A822RX': '\\hspace{2.5mm} {\\color{cyan!60!white}\\\\textbf{---}} Government Spending and Investment',\n",
    "       'A019RX': '\\hspace{2.5mm} {\\color{green!60!black}\\\\textbf{---}} Net Exports', \n",
    "       'A020RX': '\\hspace{7.5mm} Exports', 'A021RX': '\\hspace{7.5mm} Less: Imports'}\n",
    "s = [key for key, value in srs.items()]\n",
    "s2 = [i[:-1].replace('A02', 'B02') + 'C' for i in s]\n",
    "df = nipa_df(retrieve_table('T10106')['Data'], s).sort_index()\n",
    "df2 = nipa_df(retrieve_table('T10105')['Data'], s2).sort_index()\n",
    "\n",
    "dfpop = df.div(pop, axis=0)\n",
    "real_vals = df2.rename({i: i.replace('RC', 'RX').replace('B02', 'A02') \n",
    "                        for i in s2}, axis=1).iloc[-1]\n",
    "data = ((dfpop / dfpop.iloc[-1]) * (real_vals / pop.iloc[-1])).loc['1989':]\n",
    "\n",
    "sel_cols = ['DPCERX', 'A006RX', 'A019RX', 'A822RX']\n",
    "\n",
    "data[sel_cols].to_csv(data_dir / 'gdp_pc_comp.csv', index_label='date')"
   ]
  },
  {
   "cell_type": "code",
   "execution_count": null,
   "metadata": {
    "ExecuteTime": {
     "end_time": "2022-02-24T13:38:40.494310Z",
     "start_time": "2022-02-24T13:38:40.490016Z"
    }
   },
   "outputs": [],
   "source": [
    "pce = f'\\${data.DPCERX.iloc[-1] * 1000:,.0f}'\n",
    "inv = f'\\${data.A006RX.iloc[-1] * 1000:,.0f}'\n",
    "gov = f'\\${data.A822RX.iloc[-1] * 1000:,.0f}'\n",
    "exp = f'\\${abs(data.A019RX.iloc[-1]) * 1000:,.0f}'\n",
    "ltdt = dtxt(data.index[-1])['qtr1']\n",
    "pce_diff = f'\\${(data.DPCERX.iloc[-1] - data.DPCERX.iloc[0]) * 1000:,.0f}'\n",
    "\n",
    "text = ('Much of the increase in real GDP per capita over the past '+\n",
    "        '30 years comes from consumer spending. Domestic consumer '+\n",
    "        'spending (see {\\color{yellow!45!orange}\\\\textbf{---}}) is '+\n",
    "        f'equivalent to {pce} per person in {ltdt}, a price-adjusted '+\n",
    "        f'increase of {pce_diff} since 1989. Gross private domestic '+\n",
    "        'investment (see {\\color{blue!70!black}\\\\textbf{---}}) is '+\n",
    "        f'equivalent to {inv} per person in {ltdt}, and government '+\n",
    "        'spending and investment (see {\\color{cyan!60!white}\\\\textbf{---}}) '+\n",
    "        f'totals {gov} per person. Net exports equivalent to {exp} per '+\n",
    "        'person are subtracted to reflect only domestic production '+\n",
    "        '(see {\\color{green!60!black}\\\\textbf{---}}).')\n",
    "\n",
    "write_txt(text_dir / 'gdp_pc_comp.txt', text)\n",
    "write_txt(text_dir / 'gdp_ltdt.txt', ltdt)\n",
    "print(text)"
   ]
  },
  {
   "cell_type": "code",
   "execution_count": null,
   "metadata": {
    "ExecuteTime": {
     "end_time": "2022-02-24T13:38:43.666272Z",
     "start_time": "2022-02-24T13:38:43.628941Z"
    }
   },
   "outputs": [],
   "source": [
    "res = data * 1000\n",
    "lt = res.rename(srs, axis=1).iloc[-1]\n",
    "lt.name = dtxt(lt.name)['qtr1']\n",
    "pr = res.rename(srs, axis=1).loc['2019-10-01']\n",
    "pr.name = dtxt(pr.name)['qtr1']\n",
    "p00 = res.rename(srs, axis=1).loc['2000-01-01']\n",
    "p00.name = dtxt(p00.name)['qtr1']\n",
    "fi = res.rename(srs, axis=1).iloc[0]\n",
    "fi.name = dtxt(fi.name)['qtr1']\n",
    "table = pd.concat([lt, pr, p00, fi], axis=1).applymap('{:,.0f}'.format)\n",
    "table.iloc[0, 0] = f'\\${table.iloc[0, 0]}'\n",
    "table.to_csv(data_dir / 'gdppc_levels.tex', sep='&', \n",
    "             line_terminator='\\\\\\ ', quotechar=' ')\n",
    "table"
   ]
  },
  {
   "cell_type": "code",
   "execution_count": null,
   "metadata": {},
   "outputs": [],
   "source": []
  },
  {
   "cell_type": "code",
   "execution_count": null,
   "metadata": {},
   "outputs": [],
   "source": []
  },
  {
   "cell_type": "markdown",
   "metadata": {},
   "source": [
    "### Labor Share"
   ]
  },
  {
   "cell_type": "code",
   "execution_count": null,
   "metadata": {
    "ExecuteTime": {
     "end_time": "2022-02-24T13:38:47.066293Z",
     "start_time": "2022-02-24T13:38:47.016293Z"
    }
   },
   "outputs": [],
   "source": [
    "s = ['A261RC', 'A4002C', 'A262RC']\n",
    "\n",
    "df = nipa_df(retrieve_table('T11000')['Data'], s).sort_index()\n",
    "df['Share'] = (df['A4002C'] / (df['A261RC'] - df['A262RC'])) * 100\n",
    "data = df.loc['1989':, 'Share'].dropna()\n",
    "data.to_csv(data_dir / 'laborshare.csv', \n",
    "            index_label='date', \n",
    "            float_format='%g')\n",
    "\n",
    "node = end_node(data, 'blue!60!cyan', date='q')\n",
    "write_txt(text_dir / 'laborshare_node.txt', node)"
   ]
  },
  {
   "cell_type": "code",
   "execution_count": null,
   "metadata": {
    "ExecuteTime": {
     "end_time": "2022-02-24T13:38:47.859572Z",
     "start_time": "2022-02-24T13:38:47.851996Z"
    }
   },
   "outputs": [],
   "source": [
    "s = series_info(data)\n",
    "ltdate = dtxt(s['date_latest'])['qtr2']\n",
    "one_yr = value_text(s['val_latest'] - s['val_year_ago'], ptype='pp')\n",
    "ltmin = s['val_latest'] - s['val_min']\n",
    "ltmax = s['val_max'] - s['val_latest']\n",
    "text = (f'As of {ltdate}, labor receives {s[\"val_latest\"]:.1f} '+\n",
    "        f\"percent of net domestic income. Labor's share {one_yr} \"+\n",
    "        f'over the past year. The labor share is {ltmin:.1f} '+\n",
    "        f'percentage points above its 30-year low of {s[\"val_min\"]:.1f} '+\n",
    "        f'percent in {s[\"date_min_ft\"]}, and {ltmax:.1f} percentage '+\n",
    "        f'points below the 30-year high of {s[\"val_max\"]:.1f} percent '+\n",
    "        f'in {s[\"date_max_ft\"]}. ')\n",
    "write_txt(text_dir / 'laborshare.txt', text)\n",
    "print(text)"
   ]
  },
  {
   "cell_type": "code",
   "execution_count": null,
   "metadata": {},
   "outputs": [],
   "source": []
  },
  {
   "cell_type": "code",
   "execution_count": null,
   "metadata": {},
   "outputs": [],
   "source": []
  },
  {
   "cell_type": "markdown",
   "metadata": {},
   "source": [
    "### GDP growth rate"
   ]
  },
  {
   "cell_type": "code",
   "execution_count": 2,
   "metadata": {
    "ExecuteTime": {
     "end_time": "2022-03-04T04:32:35.385608Z",
     "start_time": "2022-03-04T04:32:35.346148Z"
    }
   },
   "outputs": [],
   "source": [
    "s = ['A191RL']\n",
    "df = nipa_df(retrieve_table('T10502')['Data'], s).sort_index()\n",
    "df.loc['1989':].to_csv(data_dir / 'gdp.csv', index_label='date')\n",
    "date = dtxt(df.index[-1])['qtr1']\n",
    "\n",
    "txt = f'{date}: {df[\"A191RL\"].iloc[-1]}\\%'\n",
    "write_txt(data_dir / 'gdp.txt', txt)"
   ]
  },
  {
   "cell_type": "code",
   "execution_count": 3,
   "metadata": {
    "ExecuteTime": {
     "end_time": "2022-03-04T04:32:42.181278Z",
     "start_time": "2022-03-04T04:32:36.443769Z"
    }
   },
   "outputs": [],
   "source": [
    "dfa = fred_df('GDPCA', start='1988').pct_change().dropna() * 100\n",
    "dfa.index = dfa.index + pd.DateOffset(months=6)\n",
    "dfa.to_csv(data_dir / 'gdp_a.csv', index_label='date')"
   ]
  },
  {
   "cell_type": "code",
   "execution_count": 2,
   "metadata": {
    "ExecuteTime": {
     "end_time": "2022-03-04T05:03:13.576450Z",
     "start_time": "2022-03-04T05:03:13.526304Z"
    }
   },
   "outputs": [
    {
     "name": "stdout",
     "output_type": "stream",
     "text": [
      "Changes in economic activity are commonly \\href{url}{summarized} using the growth rate of real gross domestic product. As seen in the previous section, economic activity has increased fairly consistently in the US. Since 1989, \\textbf{real GDP growth} has averaged 2.5 percent per year (see\\cbox{red}). Real GDP growth rates were particularly high during the mid- to late-1990s, and averaged 3.8 percent per year from 1993 to 2000.\n",
      "\n",
      "In the 2000s, the housing bubble artificially boosted GDP but then collapsed, leading to average annual GDP growth of only 1.8 percent from 2001 to 2013. Growth rates were somewhat higher from 2014 through 2019, averaging 2.3 percent per year.\n",
      "\n",
      "In 2020, COVID-19 caused a rapid and unexpected economic shutdown, followed by monetary and fiscal stimulus. The result was large swings in quarterly GDP, particularly when quarterly growth is reported at an annual rate, as is the case for GDP in the US. In 2020 Q2, GDP decreased 31.2 percent, and in Q3 increased by 33.8 percent, by far the largest changes in recent history. Since 2020, real GDP growth has averaged 3.0 percent per year.\n",
      "\n",
      " The swings in real GDP growth during the COVID-19 pandemic were so extreme that they make it hard to visually compare data before and after the pandemic using quarterly growth charts. As such, annual growth rates are included in the bottom left chart to make trends more visible. Additionally, the most recent four quarters are included in the bottom right chart. In the \\textbf{latest data}, covering the fourth quarter of 2021, real GDP increased at an annual rate of seven percent, compared to an increase of 2.3 percent in Q3, and an increase of 6.7 percent in Q2.\n"
     ]
    }
   ],
   "source": [
    "df = nipa_df(retrieve_table('T10502')['Data'],\n",
    "             ['A191RL'])['A191RL']\n",
    "(df.iloc[-4:].to_frame()\n",
    "   .join(pd.Series({i: dtxt(i)['qtr4'].replace(' Q', '\\\\\\Q')\n",
    "                    for i in df.index[-4:]}, \n",
    "                   name='Quarter'))\n",
    "   .to_csv(data_dir/'gdp_rec.csv', index_label='date'))\n",
    "lty = df.index[-1].year\n",
    "ltdt = dtxt(df.index[-1])['qtr2']\n",
    "ltdt2 = dtxt(df.index[-1])['qtr1']\n",
    "pry = df.index[-2].year\n",
    "pr2y = df.index[-3].year\n",
    "prdt = dtxt(df.index[-2])\n",
    "prdt = prdt['qtr3'] if lty == pry else prdt['qtr1']\n",
    "pr2dt = dtxt(df.index[-3])\n",
    "pr2dt = pr2dt['qtr3'] if lty == pr2y else pr2dt['qtr1']\n",
    "gtot = df.loc['1989':].mean()\n",
    "g9300 = df.loc['1993':'2000'].mean()\n",
    "g0013 = df.loc['2001':'2013'].mean()\n",
    "g1419 = df.loc['2014':'2019'].mean()\n",
    "g20on = df.loc['2020':].mean()\n",
    "cov1 = value_text(df.loc['2020-04-01'])\n",
    "cov2 = value_text(df.loc['2020-07-01'], 'increase_by')\n",
    "ltval = value_text(df.iloc[-1], adj='annual')\n",
    "prval = value_text(df.iloc[-2], 'increase_of')\n",
    "prval2 = value_text(df.iloc[-3], 'increase_of')\n",
    "\n",
    "color='red'\n",
    "url = 'https://www.bea.gov/data/gdp/gross-domestic-product'\n",
    "text = ('Changes in economic activity are commonly '+\n",
    "        '\\href{url}{summarized} using the growth rate of real '+\n",
    "        'gross domestic product. As seen in the previous section, '+\n",
    "        'economic activity has increased fairly consistently in '+\n",
    "        'the US. Since 1989, \\\\textbf{real GDP growth} has averaged '+\n",
    "        f'{gtot:.1f} percent per year {c_box(color)}. Real GDP '+\n",
    "        'growth rates were particularly high during the mid- '+\n",
    "        f'to late-1990s, and averaged {g9300:.1f} percent per '+\n",
    "        'year from 1993 to 2000.\\n\\nIn the 2000s, the housing '+\n",
    "        'bubble artificially boosted GDP but then collapsed, '+\n",
    "        f'leading to average annual GDP growth of only {g0013:.1f} '+\n",
    "        'percent from 2001 to 2013. Growth rates were somewhat '+\n",
    "        f'higher from 2014 through 2019, averaging {g1419:.1f} '+\n",
    "        'percent per year.\\n\\nIn 2020, COVID-19 caused a rapid '+\n",
    "        'and unexpected economic shutdown, followed by monetary '+\n",
    "        'and fiscal stimulus. The result was large swings in '+\n",
    "        'quarterly GDP, particularly when quarterly growth is '+\n",
    "        'reported at an annual rate, as is the case for GDP in '+\n",
    "        f'the US. In 2020 Q2, GDP {cov1}, and in Q3 {cov2}, by '+\n",
    "        'far the largest changes in recent history. Since 2020, '+\n",
    "        f'real GDP growth has averaged {g20on:.1f} percent per '+\n",
    "        'year.')\n",
    "write_txt(text_dir / 'gdp_gr.txt', text)\n",
    "print(text)\n",
    "\n",
    "txt2 = ('The swings in real GDP growth during the COVID-19 '+\n",
    "        'pandemic were so extreme that they make it hard to '+\n",
    "        'visually compare data before and after the pandemic '+\n",
    "        'using quarterly growth charts. As such, annual growth '+\n",
    "        'rates are included in the bottom left chart to make '+\n",
    "        'trends more visible. Additionally, the most recent '+\n",
    "        'four quarters are included in the bottom right chart. '+\n",
    "        'In the \\\\textbf{latest data}, '+\n",
    "        f'covering {ltdt}, real GDP {ltval}, compared to {prval} '+\n",
    "        f'in {prdt}, and {prval2} in {pr2dt}.')\n",
    "write_txt(text_dir / 'gdp_gr2.txt', txt2)\n",
    "print('\\n', txt2)"
   ]
  },
  {
   "cell_type": "code",
   "execution_count": null,
   "metadata": {},
   "outputs": [],
   "source": []
  },
  {
   "cell_type": "code",
   "execution_count": null,
   "metadata": {},
   "outputs": [],
   "source": []
  },
  {
   "cell_type": "markdown",
   "metadata": {
    "ExecuteTime": {
     "end_time": "2022-03-03T13:07:16.875163Z",
     "start_time": "2022-03-03T13:07:16.870308Z"
    }
   },
   "source": [
    "### Recessions Table"
   ]
  },
  {
   "cell_type": "code",
   "execution_count": 5,
   "metadata": {
    "ExecuteTime": {
     "end_time": "2022-03-04T04:32:55.315060Z",
     "start_time": "2022-03-04T04:32:49.625159Z"
    }
   },
   "outputs": [],
   "source": [
    "rec = fred_df('USREC')\n",
    "rec.to_csv(data_dir / 'recessions_raw.csv', index_label='date')"
   ]
  },
  {
   "cell_type": "code",
   "execution_count": 2,
   "metadata": {
    "ExecuteTime": {
     "end_time": "2022-03-04T13:44:48.535150Z",
     "start_time": "2022-03-04T13:44:48.441843Z"
    }
   },
   "outputs": [
    {
     "name": "stdout",
     "output_type": "stream",
     "text": [
      "During the early 1990s recession, output contracted for eight months and unemployment was higher than its pre-recession average for 63 months. The drop in output was smaller during the early 2000s recession, but unemployment rates took almost 16 years to recover.\n",
      "\n",
      "The 2008--2009 great recession, caused by the collapse of a housing bubble, was very severe. The recession lasted 18 months, with higher rates of unemployment lasting 89 months. The most-recent COVID-19 recession was extremely severe and also extremely short-lived, lasting only two months, but with output reduced 10.1 percent.\n"
     ]
    }
   ],
   "source": [
    "rec = pd.read_csv(data_dir / 'recessions_raw.csv', \n",
    "                  index_col='date', parse_dates=True)\n",
    "first = rec[(rec.VALUE==1) & (rec.VALUE.shift(1) == 0)]\n",
    "post = rec[(rec.VALUE==0) & (rec.VALUE.shift(1) == 1)]\n",
    "names = [' \\ Early `90s Recession', ' \\ Early `00s Recession', \n",
    "         ' \\ Great Recession', ' \\ COVID-19 Recession']\n",
    "recs = (pd.Series(data=first.index, index=names)\n",
    "        .rename('First').to_frame())\n",
    "recs['Last'] = rec[(rec.VALUE==1) & (rec.VALUE.shift(-1) == 0)].index\n",
    "recs['Pre'] = rec[(rec.VALUE==0) & (rec.VALUE.shift(-1) == 1)].index\n",
    "recs['Post'] = post.index\n",
    "dur = [i.n for i in (post.index.to_period('M') - \n",
    "                     first.index.to_period('M'))]\n",
    "recs['Dur'] = pd.Series(data=dur, index=recs.index)\n",
    "recs['PrevEnd'] = recs['Post'].shift(1)\n",
    "recs.loc[' \\ Early `90s Recession', 'PrevEnd'] = pd.to_datetime('1989-01-01')\n",
    "recs['NextStart'] = recs['Pre'].shift(-1)\n",
    "recs.loc[' \\ COVID-19 Recession', 'NextStart'] = cps_date()\n",
    "recs['Start'] = recs.First.apply(lambda x: dtxt(x)['mon2'])\n",
    "recs['End'] = recs.Last.apply(lambda x: dtxt(x)['mon2'])\n",
    "rgdp = nipa_df(retrieve_table('T10106')['Data'], ['A191RX'])['A191RX']\n",
    "unrate = pd.read_csv(data_dir / 'jobs_report_main.csv', index_col='date', \n",
    "                 parse_dates=True)['Total']\n",
    "for row in recs.itertuples():\n",
    "    # Real GDP change\n",
    "    vprev = rgdp.loc[:row.Pre].max()\n",
    "    vmin = rgdp.loc[row.First:row.NextStart].min()\n",
    "    ch = ((vmin / vprev) - 1) * 100\n",
    "    recs.loc[row.Index, 'GDPch'] = ch\n",
    "    # Unemployment rate change and duration\n",
    "    pravg = unrate.loc[row.Pre - pd.DateOffset(years=3): row.Pre].mean()\n",
    "    vmax = unrate.loc[row.First:row.NextStart].max()\n",
    "    uch = vmax - pravg\n",
    "    rdt = (unrate.loc[row.Last:].loc[(unrate <= pravg)].index[0] \n",
    "           if pravg >= unrate.iloc[-1] else '--')\n",
    "    rtime = (int((rdt.to_period('M') - row.Last.to_period('M')).n) \n",
    "             if rdt != '--' else '--')\n",
    "    recs.loc[row.Index, 'Unratech'] = uch    \n",
    "    recs.loc[row.Index, 'RecoDate'] = rdt\n",
    "    recs.loc[row.Index, 'RecoTime'] = str(rtime)\n",
    "recs['GDPcht'] =  recs.GDPch.apply('{:.1f}'.format)\n",
    "recs['Uncht'] =  recs.Unratech.apply('+{:.1f}'.format)\n",
    "tbl = recs[['Start', 'End', 'Dur', 'GDPcht', 'Uncht', 'RecoTime']]\n",
    "tbl.columns = ['Start \\ \\ \\ Month', 'End \\ \\ \\ \\ \\ \\ Month', \n",
    "               'Recession Duration, Months', \n",
    "               'GDP Percent Change', 'Unemp. Rate Change*', \n",
    "               'Unemp. Rate Recovery, Months**']\n",
    "tbl.to_csv(data_dir / 'recession.tex', sep='&', \n",
    "           line_terminator='\\\\\\ ', quotechar=' ')\n",
    "\n",
    "un3 = unrate.rolling(3).mean()\n",
    "sahm = (un3 - un3.rolling(12).min()).dropna()\n",
    "sahm.to_csv(data_dir / 'sahm.csv', index_label='date', \n",
    "            header=True)\n",
    "bar = pd.Series(index=[sahm.index[0], sahm.index[-1]], \n",
    "                data=[0.5, 0.5], name='Bar')\n",
    "bar.to_csv(data_dir / 'sahm_bar.csv', index_label='date', \n",
    "           header=True)\n",
    "node = end_node(bar, 'gray', loc='start')\n",
    "write_txt(text_dir / 'sahm_bar_node.txt', node)\n",
    "marks = (sahm.loc[(sahm > 0.5) & (sahm.shift(1) < 0.5)]\n",
    "             .rename('Mark').to_frame())\n",
    "marks['Intersect'] = len(marks) * [0.5]\n",
    "marks.to_csv(data_dir / 'sahm_marks.csv', index_label='date')\n",
    "\n",
    "dur90 = numbers[f'{recs.Dur.iloc[0]:.1f}']\n",
    "unrec90 = recs.RecoTime.iloc[0]\n",
    "unrec00 = round(int(recs.RecoTime.iloc[1]) / 12)\n",
    "durgr = recs.Dur.iloc[2]\n",
    "unrecgr = recs.RecoTime.iloc[2]\n",
    "durco = numbers[f'{recs.Dur.iloc[3]:.1f}']\n",
    "gdpco = abs(recs.GDPch.iloc[3])\n",
    "\n",
    "text = ('During the early 1990s recession, output contracted '+\n",
    "        f'for {dur90} months and unemployment was higher '+\n",
    "        f'than its pre-recession average for {unrec90} months. '+\n",
    "        'The drop in output was smaller during the '+\n",
    "        'early 2000s recession, but unemployment rates '+\n",
    "        f'took almost {unrec00} years to recover.\\n\\n'+\n",
    "        'The 2008--2009 great recession, caused by the '+\n",
    "        'collapse of a housing bubble, was very severe. '+\n",
    "        f'The recession lasted {durgr} months, with higher '+\n",
    "        f'rates of unemployment lasting {unrecgr} months. The '+\n",
    "        'most-recent COVID-19 recession was extremely severe '+\n",
    "        f'and also extremely short-lived, lasting only {durco} '+\n",
    "        f'months, but with output reduced {gdpco:.1f} percent.')\n",
    "write_txt(text_dir / 'recessions.txt', text)\n",
    "print(text)"
   ]
  },
  {
   "cell_type": "code",
   "execution_count": null,
   "metadata": {},
   "outputs": [],
   "source": []
  },
  {
   "cell_type": "code",
   "execution_count": null,
   "metadata": {},
   "outputs": [],
   "source": []
  },
  {
   "cell_type": "markdown",
   "metadata": {},
   "source": [
    "### GDP Intro Chart and Text"
   ]
  },
  {
   "cell_type": "code",
   "execution_count": null,
   "metadata": {
    "ExecuteTime": {
     "end_time": "2022-02-24T13:38:54.613785Z",
     "start_time": "2022-02-24T13:38:54.519963Z"
    }
   },
   "outputs": [],
   "source": [
    "df = nipa_df(retrieve_table('T70100')['Data'], ['A939RC', 'A939RX'])\n",
    "df['value'] = (df['A939RX'] / df['A939RX'].iloc[-1]) * df['A939RC'].iloc[-1]\n",
    "df.loc['1989':, 'value'].divide(1000).to_csv(data_dir / 'gdppc.csv', \n",
    "                                             index_label='date')\n",
    "cd = nipa_df(retrieve_table('T10105')['Data'], ['A191RC'])['A191RC'].iloc[-1]\n",
    "rgdp = nipa_df(retrieve_table('T10106')['Data'], ['A191RX'])\n",
    "rgdp_cd = rgdp / rgdp.iloc[-1] * cd\n",
    "\n",
    "ltdate = dtxt(df.index[-1])['qtr2']\n",
    "gdp_val = int(rgdp_cd.iloc[-1].values[0] / 1000)\n",
    "gdp_prv_val = int(rgdp_cd.loc['2019-10-01'] / 1000)\n",
    "gdp_prv_val2 = int(rgdp_cd.iloc[0].values[0] / 1000)\n",
    "gdppc_val = int(df.iloc[-1].loc['value'])\n",
    "gdppc_prv_val = int(df.loc['2019-10-01', 'value'])\n",
    "gdppc_prv_val2 = int(df.iloc[0].loc['value'])\n",
    "qdate = dtxt(df.index[-1])['qtr1']\n",
    "pop = nipa_df(retrieve_table('T20100')['Data'], ['B230RC'])['B230RC']\n",
    "num = numbers[f'{(pop.pct_change(4).iloc[-1] * 1000).round()}']\n",
    "popnum = f'{num}-tenths'\n",
    "color = 'red!95!black'\n",
    "cl = c_line(color)\n",
    "node = end_node(df['value'] / 1000, color, anchor='south', \n",
    "                dollar='thousands')\n",
    "write_txt(text_dir / 'gdp_pc_node.txt', node)\n",
    "text = (f'\\${gdp_val:,} billion in {ltdate}, compared to an '+\n",
    "        f'inflation-adjusted equivalent of \\${gdp_prv_val:,} '+\n",
    "        f'billion in 2019 Q4 and \\${gdp_prv_val2:,} billion in '+\n",
    "        'the first quarter of 1989.\\n\\nThe US population is growing '+\n",
    "        f'by about {popnum} of a percent per year. GDP per capita '+\n",
    "        f'{cl}, adjusted for inflation to {qdate} dollars, had '+\n",
    "        f'increased to \\${gdppc_prv_val:,} in 2019 Q4 from '+\n",
    "        f'\\${gdppc_prv_val2:,} in 1989 Q1, and is currently '+\n",
    "        f'\\${gdppc_val:,}, as of {ltdate}.')\n",
    "write_txt(text_dir / 'gdp1.txt', text)\n",
    "print(text)"
   ]
  },
  {
   "cell_type": "code",
   "execution_count": null,
   "metadata": {},
   "outputs": [],
   "source": []
  },
  {
   "cell_type": "code",
   "execution_count": null,
   "metadata": {},
   "outputs": [],
   "source": []
  },
  {
   "cell_type": "markdown",
   "metadata": {},
   "source": [
    "### Private fixed investment"
   ]
  },
  {
   "cell_type": "code",
   "execution_count": null,
   "metadata": {
    "ExecuteTime": {
     "end_time": "2022-02-24T13:38:57.159070Z",
     "start_time": "2022-02-24T13:38:57.047956Z"
    }
   },
   "outputs": [],
   "source": [
    "# In levels and share of GDP\n",
    "s = ['A191RC', 'A007RC', 'A008RC', 'A011RC']\n",
    "df = nipa_df(retrieve_table('T10105')['Data'], s) / 1_000_000\n",
    "lt = df.iloc[-1]\n",
    "sh = lt / lt.A191RC * 100\n",
    "ldate = dtxt(df.index[-1])['qtr2']\n",
    "\n",
    "# contribution to growth\n",
    "s2 = ['A008RY', 'A011RY', 'A014RY']\n",
    "df2 = nipa_df(retrieve_table('T10502')['Data'], s2)\n",
    "df2.loc['1989':].to_csv(data_dir / 'inv.csv', index_label='date')\n",
    "lt2 = df2.iloc[-1]\n",
    "\n",
    "pfi = lt2[['A008RY', 'A011RY']].sum()\n",
    "tot = value_text(pfi, 'contribution_to', ptype='pp', \n",
    "                 digits=2, threshold=0.01)\n",
    "txt = lambda x: value_text(x, 'contribution', ptype='pp', \n",
    "                           digits=2, threshold=0.01)\n",
    "dft = lt2.apply(txt)\n",
    "\n",
    "text = (f'In {ldate}, private fixed investment, which does not '+\n",
    "        f'include inventory investment, totals \\${lt.A007RC:.1f} '+\n",
    "        f'trillion, equivalent to {sh.A007RC:.1f} percent of '+\n",
    "        f'GDP. Non-residential (business) fixed investment '+\n",
    "        f'totals \\${lt.A008RC:.1f} trillion, or {sh.A008RC:.1f} '+\n",
    "        f'percent of DP, while residential fixed investment '+\n",
    "        f'totals \\${lt.A011RC:,.1f} trillion ({sh.A011RC:.1f} '+\n",
    "        'percent of GDP).\\n\\nDuring the quarter, private fixed '+\n",
    "        f'investment {tot} real GDP growth. Non-residential fixed '+\n",
    "        f'investment {dft.A008RY}, while residential fixed '+\n",
    "        f'investment {dft.A011RY}. The change in private '+\n",
    "        f'inventories {dft.A014RY}.')\n",
    "write_txt(text_dir / 'inv_text.txt', text)\n",
    "print(text)"
   ]
  },
  {
   "cell_type": "code",
   "execution_count": null,
   "metadata": {},
   "outputs": [],
   "source": []
  },
  {
   "cell_type": "code",
   "execution_count": null,
   "metadata": {},
   "outputs": [],
   "source": []
  },
  {
   "cell_type": "markdown",
   "metadata": {},
   "source": [
    "### Imports and Exports"
   ]
  },
  {
   "cell_type": "code",
   "execution_count": null,
   "metadata": {
    "ExecuteTime": {
     "end_time": "2022-02-24T13:38:59.983438Z",
     "start_time": "2022-02-24T13:38:59.893935Z"
    }
   },
   "outputs": [],
   "source": [
    "# Import and Export share of GDP\n",
    "s = ['B020RC', 'B021RC', 'B648RC', 'LA000006']\n",
    "s2 = ['A191RC']\n",
    "df = nipa_df(retrieve_table('T40205')['Data'], s)\n",
    "df['A191RC'] = nipa_df(retrieve_table('T10105')['Data'], s2)\n",
    "df['EX'] = df['B020RC'] - df['LA000006']\n",
    "df['IM'] = df['B021RC'] - df['B648RC']\n",
    "data = (df.div(df['A191RC'], axis=0) * 100).loc['1989':]\n",
    "data.to_csv(data_dir / 'eximgdp.csv', index_label='date')"
   ]
  },
  {
   "cell_type": "code",
   "execution_count": null,
   "metadata": {
    "ExecuteTime": {
     "end_time": "2022-02-24T13:39:00.681853Z",
     "start_time": "2022-02-24T13:39:00.672916Z"
    }
   },
   "outputs": [],
   "source": [
    "ex_color = 'green!60!teal!80!black'\n",
    "im_color = 'blue!90!cyan'\n",
    "\n",
    "node = end_node(data.IM, im_color, date='q',\n",
    "                percent=True, offset=-0.1, full_year=True)\n",
    "write_txt(text_dir / 'np_im_node.txt', node)\n",
    "node = end_node(data.EX, ex_color, percent=True)\n",
    "write_txt(text_dir / 'np_ex_node.txt', node)\n",
    "\n",
    "date = dtxt(data.index[-1])['qtr2']\n",
    "pc_dt = '2019-10-01'\n",
    "pc_date = dtxt(pd.to_datetime(pc_dt))['qtr1']\n",
    "text = ('Nonpetroleum goods and services imports (see '+\n",
    "        f'{{\\color{{{im_color}}}\\\\textbf{{---}}}}) were '+\n",
    "        f'equivalent to {data.IM.iloc[-1]:.1f} percent '+\n",
    "        f'of GDP in the {date}, while exports of nonpetroleum '+\n",
    "        f'goods and services (see {{\\\\color{{{ex_color}}}'+\n",
    "        '\\\\textbf{---}}) were equivalent to '+\n",
    "        f'{data.EX.iloc[-1]:.1f} percent of GDP. '+\n",
    "        f'In {pc_date}, nonpetroleum imports were '+\n",
    "        f'{data.IM.loc[pc_dt]:.1f} percent of GDP, '+\n",
    "        f'and exports were {data.EX.loc[pc_dt]:.1f} percent.')\n",
    "write_txt(text_dir / 'exim.txt', text)\n",
    "print(text)"
   ]
  },
  {
   "cell_type": "code",
   "execution_count": null,
   "metadata": {},
   "outputs": [],
   "source": []
  },
  {
   "cell_type": "code",
   "execution_count": null,
   "metadata": {},
   "outputs": [],
   "source": []
  },
  {
   "cell_type": "markdown",
   "metadata": {},
   "source": [
    "### Goods Import Penetration"
   ]
  },
  {
   "cell_type": "code",
   "execution_count": null,
   "metadata": {
    "ExecuteTime": {
     "end_time": "2022-02-24T13:39:04.287040Z",
     "start_time": "2022-02-24T13:39:04.135914Z"
    }
   },
   "outputs": [],
   "source": [
    "s = ['A353RC']\n",
    "\n",
    "G = nipa_df(retrieve_table('T10205')['Data'], s).sort_index()\n",
    "\n",
    "s = ['A253RC', 'A255RC', 'B647RC', 'LA000004', 'A650RC', \n",
    "     'B651RC', 'A652RC', 'A653RC', 'B648RC']\n",
    "\n",
    "MX = nipa_df(retrieve_table('T40205')['Data'], s).sort_index()\n",
    "\n",
    "D = G['A353RC'] - MX['A253RC'] + MX['A255RC']\n",
    "result = (MX['A255RC'] / D)\n",
    "\n",
    "import_categories = ['B647RC', 'LA000004', 'A650RC', 'B651RC', \n",
    "                     'A652RC', 'A653RC', 'B648RC']\n",
    "Msh = MX[import_categories].div(MX['A255RC'], axis=0)\n",
    "\n",
    "Msh['Consumer'] = Msh['B647RC'] + Msh['A652RC'] + Msh['B651RC']\n",
    "Msh['Capital'] = Msh['LA000004'] - Msh['B648RC'] + Msh['A650RC'] + Msh['A653RC']\n",
    "\n",
    "final = Msh[['Consumer', 'Capital', 'B648RC']].multiply(result, axis=0) * 100\n",
    "\n",
    "final.loc['1989':].to_csv(data_dir / 'goodsimpsh.csv', index_label='date')\n",
    "\n",
    "ltdate = final.index[-1]\n",
    "ltdt = dtxt(ltdate)['qtr1']\n",
    "cons, capi = [value_text(final[i].iloc[-1], style='eq') \n",
    "              for i in ['Consumer', 'Capital']]\n",
    "oil = final['B648RC'].iloc[-1]\n",
    "text = (f'As of {ltdt}, imports of consumer goods excluding petroleum '+\n",
    "        f'and petroleum products are {cons} of domestic consumption of '+\n",
    "        'goods (see\\cbox{cyan!40!white}). Petroleum-related imports claim '+\n",
    "        f'{oil:.1f} percent (see\\cbox{{purple}}) and imports of all other '+\n",
    "        f'goods, primarily capital goods, industrial supplies, and materials '+\n",
    "        f'are {capi} (see\\cbox{{blue!50!cyan}}).')\n",
    "write_txt(text_dir / 'goodsimpsh1.txt', text)\n",
    "print(text, '\\n')\n",
    "\n",
    "ch11 = (final.loc['2011-01-01'] - final.iloc[0])\n",
    "cons11, pet11, oth11 = [value_text(ch11[i], adj='equivalent', threshold=0.1) \n",
    "                        for i in ['Consumer', 'B648RC', 'Capital']]\n",
    "chlt = (final.iloc[-1] - final.loc['2011-01-01'])\n",
    "conslt, petlt, othlt = [value_text(chlt[i], adj='equivalent', threshold=0.1) \n",
    "                        for i in ['Consumer', 'B648RC', 'Capital']]\n",
    "text = ('From 1989 to 2011, imports of consumer goods excluding '+\n",
    "        f'petroleum {cons11} of domestic consumption of goods; petroleum-'+\n",
    "        f'related imports {pet11}; and all other goods imports {oth11}. \\n\\n'+\n",
    "        f'Since 2011, imports of consumer goods {conslt} of domestic goods '+\n",
    "        f'demand; imports of petroleum products {petlt}; and other '+\n",
    "        f'imports {othlt}.')\n",
    "write_txt(text_dir / 'goodsimpsh.txt', text)\n",
    "print(text)"
   ]
  },
  {
   "cell_type": "code",
   "execution_count": null,
   "metadata": {},
   "outputs": [],
   "source": []
  },
  {
   "cell_type": "code",
   "execution_count": null,
   "metadata": {},
   "outputs": [],
   "source": []
  },
  {
   "cell_type": "markdown",
   "metadata": {},
   "source": [
    "### ITA - Financial Account Balance"
   ]
  },
  {
   "cell_type": "code",
   "execution_count": null,
   "metadata": {
    "ExecuteTime": {
     "end_time": "2022-02-24T13:39:09.968540Z",
     "start_time": "2022-02-24T13:39:06.708869Z"
    }
   },
   "outputs": [],
   "source": [
    "ind_list = ['FinAssetsExclFinDeriv', 'FinLiabsExclFinDeriv', \n",
    "            'FinDeriv', 'StatDisc']\n",
    "\n",
    "api_results = bea_api_ita(ind_list, bea_key)\n",
    "\n",
    "gdp = nipa_df(retrieve_table('T10105')['Data'], ['A191RC'])['A191RC']\n",
    "\n",
    "df = pd.DataFrame(\n",
    "    {name: {i['TimePeriod']: i['DataValue'] \n",
    "            for i in json.loads(series)['BEAAPI']['Results']['Data']} \n",
    "     for name, series in api_results})\n",
    "df.index = pd.to_datetime(df.index)\n",
    "df = (df.replace(r'^\\s*$', np.nan, regex=True)\n",
    "        .astype('float').rolling(4).sum())\n",
    "df['FAB'] = df['FinLiabsExclFinDeriv'] - df['FinAssetsExclFinDeriv']\n",
    "df['TOT'] = df[['FAB', 'StatDisc', 'FinDeriv']].sum(axis=1)\n",
    "final = (df.divide(gdp, axis=0).dropna(how='all') * 100).fillna(0)\n",
    "keep_cols = ['FinDeriv', 'StatDisc', 'FAB', 'TOT']\n",
    "final[keep_cols].to_csv(data_dir/'fab.csv', index_label='date')\n",
    "\n",
    "s = final.iloc[-1]\n",
    "liab = value_text(s.FinLiabsExclFinDeriv, style='eq', adj='GDP')\n",
    "assets = value_text(s.FinAssetsExclFinDeriv, style='eq', adj='GDP')\n",
    "ldate = dtxt(final.index[-1])['qtr1']\n",
    "text = (f'Over the year ending {ldate}, net domestic acquisitions of '+\n",
    "        f'foreign assets were {assets}, while net domestic incurrence '+\n",
    "        f'of foreign liabilities was {liab}. As a result, domestic '+\n",
    "        f'net borrowing totals {s.TOT:.1f} percent of GDP over the '+\n",
    "         'one-year period.')\n",
    "write_txt(text_dir / 'fab.txt', text)\n",
    "print(text)"
   ]
  },
  {
   "cell_type": "code",
   "execution_count": null,
   "metadata": {},
   "outputs": [],
   "source": []
  },
  {
   "cell_type": "code",
   "execution_count": null,
   "metadata": {},
   "outputs": [],
   "source": []
  },
  {
   "cell_type": "markdown",
   "metadata": {},
   "source": [
    "### GDP Composition"
   ]
  },
  {
   "cell_type": "code",
   "execution_count": null,
   "metadata": {
    "ExecuteTime": {
     "end_time": "2022-02-24T13:39:10.044509Z",
     "start_time": "2022-02-24T13:39:09.969619Z"
    }
   },
   "outputs": [],
   "source": [
    "s = ['DPCERY', 'A006RY', 'A822RY', 'A019RY']\n",
    "df = nipa_df(retrieve_table('T10502')['Data'], s).loc['1989':]\n",
    "df.to_csv(data_dir / 'comp.csv', index_label='date')\n",
    "\n",
    "ltdt = dtxt(df.index[-1])['qtr2']\n",
    "sl = [('DPCERY', 'contribution_to'), ('A006RY', 'contribution_to'), \n",
    "      ('A822RY', 'contribution'), ('A019RY', 'contribution')]\n",
    "d = {s: value_text(df[s].iloc[-1], style=style, ptype='pp', \n",
    "                   digits=2, threshold=0.1) for s, style in sl}\n",
    "text = (f'In {ltdt}, consumer spending (see\\cbox{{yellow!80!orange}}) '+\n",
    "        f'{d[\"DPCERY\"]} overall real GDP growth. Private domestic '+\n",
    "        f'investment (see\\cbox{{blue!70!black}}) {d[\"A006RY\"]} real GDP '+\n",
    "        'growth, government spending and investment (see\\cbox{cyan!50!white}) '+\n",
    "        f'{d[\"A822RY\"]}, and net exports (see\\cbox{{green!60!black}}) '+\n",
    "        f'{d[\"A019RY\"]}.')  \n",
    "write_txt(text_dir / 'gdp_exp_basic.txt', text)\n",
    "print(text)"
   ]
  },
  {
   "cell_type": "code",
   "execution_count": null,
   "metadata": {},
   "outputs": [],
   "source": []
  },
  {
   "cell_type": "code",
   "execution_count": null,
   "metadata": {},
   "outputs": [],
   "source": []
  },
  {
   "cell_type": "markdown",
   "metadata": {},
   "source": [
    "### Gross Domestic Income"
   ]
  },
  {
   "cell_type": "code",
   "execution_count": null,
   "metadata": {
    "ExecuteTime": {
     "end_time": "2022-02-24T13:39:13.839582Z",
     "start_time": "2022-02-24T13:39:13.684371Z"
    }
   },
   "outputs": [],
   "source": [
    "s = ['A261RX', 'W256RX']\n",
    "rgdi = nipa_df(retrieve_table('T11706')['Data'], s).dropna()\n",
    "\n",
    "s = ['A261RC', 'A4002C', 'W056RC', 'A107RC', 'W271RC', 'A262RC',\n",
    "     'A4102C', 'A038RC']\n",
    "\n",
    "df = nipa_df(retrieve_table('T11000')['Data'], s).dropna()\n",
    "\n",
    "pop = nipa_df(retrieve_table('T20100')['Data'], ['B230RC'])['B230RC']\n",
    "\n",
    "# Calculate indirect taxes net of transfers\n",
    "df['indirect'] = df['W056RC'] - df['A107RC']\n",
    "\n",
    "# Calculate GDI deflator from real GDI series\n",
    "deflator = rgdi['A261RX'] / df['A261RC']\n",
    "deflator = deflator / deflator.iloc[-1]\n",
    "df = df.multiply(deflator, axis=0)\n",
    "\n",
    "# Calculate contributions to growth\n",
    "dft = df.diff()\n",
    "dft = dft.div(dft['A261RC'], axis=0)\n",
    "contr = dft.multiply((((df['A261RC'].pct_change() + 1) ** 4) - 1) * 100, axis=0)\n",
    "\n",
    "cols = ['A261RC', 'W271RC', 'A4002C', 'A262RC', 'indirect']\n",
    "\n",
    "contr.loc['1989':, cols].to_csv(data_dir / 'gdi.csv', index_label='date')\n",
    "\n",
    "dfpop = df.div(pop, axis=0).dropna()\n",
    "\n",
    "ltdt = dtxt(dfpop.index[-1])['qtr1']\n",
    "write_txt(text_dir / 'gdi_ltdt.txt', ltdt)\n",
    "\n",
    "dfpop[cols].to_csv(data_dir / 'gdi_pc_comp.csv', index_label='date')"
   ]
  },
  {
   "cell_type": "code",
   "execution_count": null,
   "metadata": {
    "ExecuteTime": {
     "end_time": "2022-02-24T13:39:16.592406Z",
     "start_time": "2022-02-24T13:39:16.573905Z"
    }
   },
   "outputs": [],
   "source": [
    "srs = {'A261RC': 'Gross Domestic Income', \n",
    "       'A4002C': '\\hspace{0.1mm} {\\color{magenta!90!blue}\\\\textbf{---}} Labor', \n",
    "       'A4102C': '\\hspace{6mm} Wages and Salaries',\n",
    "       'A038RC': '\\hspace{6mm} Supplements',\n",
    "       'W271RC': '\\hspace{0.1mm} {\\color{yellow!60!orange}\\\\textbf{---}} Profit', \n",
    "       'indirect': '\\hspace{0.1mm} {\\color{violet}\\\\textbf{---}} Indirect Taxes', \n",
    "       'W056RC': '\\hspace{6mm} Taxes on Production and Imports',\n",
    "       'A107RC': '\\hspace{6mm} Less: Subsidies',\n",
    "       'A262RC': '\\hspace{0.1mm} {\\color{teal!60!white}\\\\textbf{---}} Depreciation'}\n",
    "\n",
    "res = (dfpop[list(srs.keys())] * 1000).dropna()\n",
    "lt = res.rename(srs, axis=1).iloc[-1]\n",
    "lt.name = dtxt(lt.name)['qtr1']\n",
    "pr = res.rename(srs, axis=1).loc['2019-10-01']\n",
    "pr.name = dtxt(pr.name)['qtr1']\n",
    "p00 = res.rename(srs, axis=1).loc['2000-01-01']\n",
    "p00.name = dtxt(p00.name)['qtr1']\n",
    "fi = res.rename(srs, axis=1).loc['1989-01-01']\n",
    "fi.name = dtxt(fi.name)['qtr1']\n",
    "table = pd.concat([lt, pr, p00, fi], axis=1).applymap('{:,.0f}'.format)\n",
    "table.iloc[0, 0] = f'\\${table.iloc[0, 0]}'\n",
    "table.to_csv(data_dir / 'gdipc_levels.tex', sep='&', \n",
    "             line_terminator='\\\\\\ ', quotechar=' ')\n",
    "print(table)\n",
    "\n",
    "prdate = '2019-10-01'\n",
    "ltval = df['A261RC'].iloc[-1] / 1000\n",
    "ltpc = dfpop['A261RC'].iloc[-1] * 1000\n",
    "prval = df['A261RC'].loc[prdate] / 1000\n",
    "prpc = dfpop['A261RC'].loc[prdate] * 1000\n",
    "prdt = dtxt(pd.to_datetime(prdate))['qtr1']\n",
    "text = (f'of \\${ltval:,.0f} billion in {ltdt}, compared to an inflation-'+\n",
    "        f'adjusted equivalent of \\${prval:,.0f} billion in {prdt}. Real '+\n",
    "        f'GDI per capita was \\${ltpc:,.0f} in {ltdt} and \\${prpc:,.0f} '+\n",
    "        f'in {prdt}.')\n",
    "write_txt(text_dir / 'gdi_levels.txt', text)\n",
    "print('\\n', text, '\\n')\n",
    "\n",
    "l_pc = dfpop['A4002C'].iloc[-1] * 1000\n",
    "l_pr = dfpop['A4002C'].loc[prdate] * 1000\n",
    "k_pc = dfpop['W271RC'].iloc[-1] * 1000\n",
    "k_pr = dfpop['W271RC'].loc[prdate] * 1000\n",
    "t_pc = dfpop['indirect'].iloc[-1] * 1000\n",
    "t_pr = dfpop['indirect'].loc[prdate] * 1000\n",
    "d_pc = dfpop['A262RC'].iloc[-1] * 1000\n",
    "d_pr = dfpop['A262RC'].loc[prdate] * 1000\n",
    "\n",
    "text = ('Gross labor income per capita is equivalent '+\n",
    "        f'to \\${l_pc:,.0f} in {ltdt} '+\n",
    "        '(see {\\color{magenta!90!blue}\\\\textbf{---}}) '+\n",
    "        f'and \\${l_pr:,.0f} in 2019 Q4, on an annualized, '+\n",
    "        'seasonally-adjusted, and inflation-adjusted basis. '+\n",
    "        f'Profits per person total \\${k_pc:,.0f} in {ltdt} '+\n",
    "        '(see {\\color{yellow!60!orange}\\\\textbf{---}}) and '+\n",
    "        f'\\${k_pr:,.0f} in {prdt}, following the same adjustments. '+\n",
    "        f'Indirect taxes less subsidies per capita total \\${t_pc:,.0f} '+\n",
    "        f'in {ltdt} (see {{\\color{{violet}}\\\\textbf{{---}}}}) '+\n",
    "        f'and \\${t_pr:,.0f} in {prdt}. Lastly, depreciation per '+\n",
    "        f'capita is \\${d_pc:,.0f} in {ltdt} (see '+\n",
    "        '{\\color{teal!60!white}\\\\textbf{---}}) and '+\n",
    "        f'\\${d_pr:,.0f} in {prdt}.')\n",
    "write_txt(text_dir / 'gdi_levels_pc.txt', text)\n",
    "print(text)"
   ]
  },
  {
   "cell_type": "code",
   "execution_count": null,
   "metadata": {
    "ExecuteTime": {
     "end_time": "2022-02-24T13:39:19.392022Z",
     "start_time": "2022-02-24T13:39:19.383908Z"
    }
   },
   "outputs": [],
   "source": [
    "s = ['A261RC', 'A4002C', 'W271RC', 'indirect', 'A262RC']\n",
    "df = contr[s]\n",
    "gdi_lt = inc_dec_percent(df[\"A261RC\"].iloc[-1], annualized=True)\n",
    "gdi_pr = inc_dec_percent(df[\"A261RC\"].iloc[-2], how='of')\n",
    "gdi_pr2 = inc_dec_percent(df[\"A261RC\"].iloc[-3], how='of')\n",
    "\n",
    "ltdt = dtxt(df.index[-1])['qtr2']\n",
    "ltdt2 = dtxt(df.index[-1])['qtr1']\n",
    "prdt = dtxt(df.index[-2])['qtr1']\n",
    "prdt2 = dtxt(df.index[-3])['qtr1']\n",
    "\n",
    "sl = [('A4002C', 'main'), ('W271RC', 'main'), \n",
    "      ('indirect', 'end'), ('A262RC', 'end')]\n",
    "\n",
    "d = {}\n",
    "for s, style in sl:\n",
    "    value = df[s].iloc[-1]\n",
    "    d[s] = cont_subt(value, style=style)\n",
    "    \n",
    "text1 = (f'In {ltdt}, gross domestic income {gdi_lt}, following {gdi_pr} '+\n",
    "         f'in {prdt} and {gdi_pr2} in {prdt2}. ')  \n",
    "\n",
    "l_lt = cont_subt(df['A4002C'].iloc[-1])\n",
    "l_pr = cont_subt(df['A4002C'].iloc[-2], style='of')\n",
    "k_lt = cont_subt(df['W271RC'].iloc[-1]).replace(' from', '').replace(' to', '')\n",
    "k_pr = cont_subt(df['W271RC'].iloc[-2]).replace(' from', '').replace(' to', '')\n",
    "if k_lt[:3] == k_pr[:3]:\n",
    "    if abs(df['W271RC'].iloc[-2]) > 1:\n",
    "        pp = 'percentage points'\n",
    "    else:\n",
    "        pp = 'percentage point'\n",
    "    k_pr = f\"{abs(df['W271RC'].iloc[-2]):.2f} {pp}\"\n",
    "t_lt = cont_subt(df['indirect'].iloc[-1])\n",
    "t_pr = cont_subt(df['indirect'].iloc[-2]).replace(' from', '').replace(' to', '')\n",
    "    \n",
    "text = (f'{text1}In the latest quarter, labor income {l_lt} overall growth, '+\n",
    "        f'following a {l_pr} in {prdt}. Profit income {k_lt} in '+\n",
    "        f'{ltdt} and {k_pr} in {prdt}. Changes in indirect tax revenue '+\n",
    "        f'and surpluses {t_lt} aggregate income growth in the latest quarter and '+\n",
    "        f'{t_pr} in {prdt}. ')\n",
    "write_txt(text_dir / 'gdi_growth_comp.txt', text)\n",
    "print(text) "
   ]
  },
  {
   "cell_type": "code",
   "execution_count": null,
   "metadata": {},
   "outputs": [],
   "source": []
  },
  {
   "cell_type": "code",
   "execution_count": null,
   "metadata": {},
   "outputs": [],
   "source": []
  },
  {
   "cell_type": "markdown",
   "metadata": {},
   "source": [
    "### Consumer Spending Overview (Levels)"
   ]
  },
  {
   "cell_type": "code",
   "execution_count": null,
   "metadata": {
    "ExecuteTime": {
     "end_time": "2022-02-24T13:39:23.875849Z",
     "start_time": "2022-02-24T13:39:23.442231Z"
    }
   },
   "outputs": [],
   "source": [
    "pop = nipa_df(retrieve_table('T20100')['Data'], ['B230RC'])['B230RC']\n",
    "\n",
    "n = {'DPCERC': 'Total',\n",
    "     'DGDSRC': 'Goods',\n",
    "     'DSERRC': 'Services',\n",
    "     'DHUTRC': 'Housing',\n",
    "     'A011RC': 'ResInv',\n",
    "     'DMOTRC': 'MotorVeh',\n",
    "     'DFDHRC': 'Furn',\n",
    "     'DREQRC': 'RecDG',\n",
    "     'DFXARC': 'Groc',\n",
    "     'DCLORC': 'Cloth',\n",
    "     'DHLCRC': 'Health',\n",
    "     'DTRSRC': 'Transp',\n",
    "     'DRCARC': 'RecSer',\n",
    "     'DFSARC': 'FoodAcc',\n",
    "     'DIFSRC': 'FinIns'}\n",
    "n2 = {k[:-2] + 'RA': v for k, v in n.items()}\n",
    "s = list(n.keys())\n",
    "s2 = list(n2.keys())\n",
    "\n",
    "othserv = lambda x: x['Services'] - x['Housing']\n",
    "shelter = lambda x: x['Housing'] + x['ResInv']\n",
    "\n",
    "df = (nipa_df(retrieve_table('T10505')['Data'], s)\n",
    "      .rename(n, axis=1))\n",
    "df2 = (nipa_df(retrieve_table('T10503')['Data'], s2)\n",
    "       .rename(n2, axis=1))\n",
    "real = ((df2 / df2.iloc[-1]) * df.iloc[-1]).assign(OTHSERV = othserv, SHELTER = shelter)\n",
    "pp = real.divide(pop, axis=0)\n",
    "\n",
    "keep_col = ['Goods', 'Services', 'Housing', 'ResInv', 'OTHSERV', 'SHELTER']\n",
    "pp.loc['1989':, keep_col].to_csv(data_dir / 'pce_levels.csv', index_label='date')\n",
    "\n",
    "lttot = real.Total.iloc[-1] / 1_000_000\n",
    "prtot = real.Total.iloc[-2] / 1_000_000\n",
    "pctot = real.Total.loc['2019-10-01'] / 1_000_000\n",
    "ltdate = dtxt(real.index[-1])['qtr1']\n",
    "prdate = dtxt(real.index[-2])['qtr1']\n",
    "totpp = pp.Total.iloc[-1] * 1_000\n",
    "goodpp = pp.Goods.iloc[-1] * 1_000\n",
    "servpp = pp.Services.iloc[-1] * 1_000\n",
    "goodpppc = pp.Goods.loc['2019-10-01'] * 1_000\n",
    "servpppc = pp.Services.loc['2019-10-01'] * 1_000\n",
    "\n",
    "text = ('Total consumer spending is '+\n",
    "        f'\\${lttot:.1f} trillion in {ltdate}, compared to a price-adjusted '+\n",
    "        f'\\${prtot:.1f} trillion in {prdate} and \\${pctot:.1f} trillion in 2019 Q4. '+\n",
    "        'On a per person basis, consumer spending is '+\n",
    "        f'\\${totpp:,.0f} in {ltdate}, of which \\${goodpp:,.0f} are spent on goods '+\n",
    "        '(see {\\color{red}\\\\textbf{---}}) and '+\n",
    "        f'\\${servpp:,.0f} on services '+\n",
    "        '(see {\\color{orange}\\\\textbf{---}}). In the fourth quarter of 2019, '+\n",
    "        f'before the pandemic, consumer spending on goods was \\${goodpppc:,.0f} '+\n",
    "        f'per person, and spending on services was \\${servpppc:,.0f} per person, '+\n",
    "        'after adjusting for inflation. ')\n",
    "write_txt(text_dir / 'pce_levels.txt', text)\n",
    "print(text)\n",
    "\n",
    "hult = pp['Housing'].iloc[-1] * 1_000\n",
    "hupc = pp['Housing'].loc['2019-10-01'] * 1_000\n",
    "rfilt = pp['ResInv'].iloc[-1] * 1_000\n",
    "rfipc = pp['ResInv'].loc['2019-10-01'] * 1_000\n",
    "\n",
    "text = ('Within consumer spending on services, housing and utilities spending '+\n",
    "        f'totals \\${hult:,.0f} on an annualized and per person basis in {ltdate} '+\n",
    "        '(see {\\color{green!60!blue}\\\\textbf{---}}) '+\n",
    "        f'and \\${hupc:,.0f} in 2019 Q4. Construction or improvement '+\n",
    "        'of housing is considered residential fixed investment, not '+\n",
    "        'consumer spending, but can be combined with spending to analyze '+\n",
    "        'patterns in shelter costs. In '+\n",
    "        f'{ltdate}, residential investment totals \\${rfilt:,.0f} per person '+\n",
    "        '(see {\\color{blue!80!black}\\\\textbf{---}}), '+\n",
    "        f'compared to \\${rfipc:,.0f} in the pre-COVID data covering 2019 Q4. ')\n",
    "write_txt(text_dir / 'pce2_levels.txt', text)\n",
    "print('\\n', text)\n",
    "\n",
    "othlt = pp['OTHSERV'].iloc[-1] * 1_000\n",
    "othpr = pp['OTHSERV'].iloc[-2] * 1_000\n",
    "othpc = pp.loc['2019-10-01', 'OTHSERV'] * 1_000\n",
    "chval = ((othlt / othpc) - 1) * 100\n",
    "chtxt = value_text(chval)\n",
    "shellt = pp['SHELTER'].iloc[-1] * 1_000\n",
    "shelpr = pp['SHELTER'].iloc[-2] * 1_000\n",
    "shelpc = pp.loc['2019-10-01', 'SHELTER'] * 1_000\n",
    "shelmax = pp['SHELTER'].max() * 1_000\n",
    "shelmaxdt = dtxt(pp.SHELTER.idxmax())['qtr2']\n",
    "\n",
    "text = ('Consumer spending on services other than housing and utilities totals \\$'+\n",
    "        f'{othlt:,.0f} per person, on an annaulized basis, in {ltdate} '+\n",
    "        '(see {\\color{blue!75!white}\\\\textbf{---}}), '+\n",
    "        f'compared to \\${othpr:,.0f} in {prdate}, and \\${othpc:,.0f} in '+\n",
    "        f'2019 Q4. Spending on non-housing services has {chtxt} since 2019 Q4. '+\n",
    "        '\\n\\nShelter costs, which combine housing, utilities, and residential fixed '+\n",
    "        f'investment, are \\${shellt:,.0f} per person in {ltdate} '+\n",
    "        '(see {\\color{green!85!blue}\\\\textbf{---}})'+\n",
    "        f', \\${shelpr:,.0f} '+\n",
    "        f'in {prdate}, and \\${shelpc:,.0f} in 2019 Q4. Shelter spending peaked at '+\n",
    "        f'\\${shelmax:,.0f} per person in {shelmaxdt}, during the housing bubble.')\n",
    "write_txt(text_dir / 'pce3_levels.txt', text)\n",
    "print('\\n', text)"
   ]
  },
  {
   "cell_type": "code",
   "execution_count": null,
   "metadata": {
    "ExecuteTime": {
     "end_time": "2022-02-24T13:39:26.152107Z",
     "start_time": "2022-02-24T13:39:26.137770Z"
    }
   },
   "outputs": [],
   "source": [
    "n = {'Total': 'Total',\n",
    "     'Goods': '\\hspace{0.1mm} {\\color{red}\\\\textbf{---}} Goods',\n",
    "     'MotorVeh': '\\hspace{5mm} Motor Vehicles and Parts',\n",
    "     'Furn': '\\hspace{5mm} Furniture and HH Equipment',\n",
    "     'RecDG': '\\hspace{5mm} Recreational Durable Goods',\n",
    "     'Groc': '\\hspace{5mm} Groceries',\n",
    "     'Cloth': '\\hspace{5mm} Clothes and Shoes',\n",
    "     'OTHSERV': '\\hspace{0.1mm} {\\color{blue!75!white}\\\\textbf{---}} Services ex. Shelter',\n",
    "     'Health': '\\hspace{5mm} Health Care Services',\n",
    "     'Transp': '\\hspace{5mm} Transportation',\n",
    "     'RecSer': '\\hspace{5mm} Recreational',\n",
    "     'FoodAcc': '\\hspace{5mm} Food and Accommodations',\n",
    "     'FinIns': '\\hspace{5mm} Financial and Insurance',\n",
    "     'SHELTER': '\\hspace{0.1mm} {\\color{green!85!blue}\\\\textbf{---}} Shelter ',\n",
    "     'Housing': '\\hspace{5mm} Housing Services and Utilities ',\n",
    "     'ResInv': '\\hspace{5mm} Residential Fixed Investment'}\n",
    "\n",
    "res = pp[n.keys()].rename(n, axis=1) * 1_000\n",
    "lt = res.iloc[-1]\n",
    "lt.name = dtxt(lt.name)['qtr1']\n",
    "pr = res.loc['2019-10-01']\n",
    "pr.name = dtxt(pr.name)['qtr1']\n",
    "p00 = res.loc['2000-01-01']\n",
    "p00.name = dtxt(p00.name)['qtr1']\n",
    "fi = res.loc['1989-01-01']\n",
    "fi.name = dtxt(fi.name)['qtr1']\n",
    "table = pd.concat([lt, pr, p00, fi], axis=1).applymap('{:,.0f}'.format)\n",
    "table.iloc[0, 0] = f'\\${table.iloc[0, 0]}'\n",
    "table.to_csv(data_dir / 'pce_levels.tex', sep='&', line_terminator='\\\\\\ ', quotechar=' ')\n",
    "table"
   ]
  },
  {
   "cell_type": "code",
   "execution_count": null,
   "metadata": {},
   "outputs": [],
   "source": []
  },
  {
   "cell_type": "code",
   "execution_count": null,
   "metadata": {},
   "outputs": [],
   "source": []
  },
  {
   "cell_type": "markdown",
   "metadata": {},
   "source": [
    "### Consumer Spending and Residential Fixed Investment"
   ]
  },
  {
   "cell_type": "code",
   "execution_count": null,
   "metadata": {
    "ExecuteTime": {
     "end_time": "2022-02-24T13:39:29.899280Z",
     "start_time": "2022-02-24T13:39:29.664126Z"
    }
   },
   "outputs": [],
   "source": [
    "s = ['DNPIRY', 'DSERRY', 'DPCERY', 'DGDSRY', 'DMOTRY',\n",
    "     'DFDHRY', 'DREQRY', 'DFXARY', 'DCLORY', 'DHLCRY',\n",
    "     'DTRSRY', 'DRCARY', 'DFSARY', 'DIFSRY', 'DHUTRY',\n",
    "     'A011RY']\n",
    "\n",
    "n = {'TOTAL': '& Total',\n",
    "     'DGDSRY': '\\cbox{red} & Goods',\n",
    "     'DMOTRY': '& \\hspace{1mm} Motor Vehicles and Parts',\n",
    "     'DFDHRY': '& \\hspace{1mm} Furniture and HH Equipment',\n",
    "     'DREQRY': '& \\hspace{1mm} Recreational Durable Goods',\n",
    "     'DFXARY': '& \\hspace{1mm} Groceries',\n",
    "     'DCLORY': '& \\hspace{1mm} Clothes and Shoes',\n",
    "     'OTHSERV': '\\cbox{blue!75!white} & Services (ex. Shelter)',\n",
    "     'DHLCRY': '& \\hspace{1mm} Health Care Services',\n",
    "     'DTRSRY': '& \\hspace{1mm} Transportation',\n",
    "     'DRCARY': '& \\hspace{1mm} Recreational',\n",
    "     'DFSARY': '& \\hspace{1mm} Food and Accommodations',\n",
    "     'DIFSRY': '& \\hspace{1mm} Financial and Insurance',\n",
    "     'SHELTER': '\\cbox{green!85!blue} & Shelter ',\n",
    "     'DHUTRY': '& \\hspace{1mm} Housing Services and Utilities ',\n",
    "     'A011RY': '& \\hspace{1mm} Residential Fixed Investment'}\n",
    "\n",
    "total = lambda x: x['DPCERY']\n",
    "othserv = lambda x: x['DSERRY'] - x['DHUTRY']\n",
    "shelter = lambda x: x['DHUTRY'] + x['A011RY']\n",
    "\n",
    "df = (nipa_df(retrieve_table('T10502')['Data'], s)\n",
    "      .assign(TOTAL = total, OTHSERV = othserv, SHELTER = shelter)\n",
    "      [list(n.keys())])\n",
    "\n",
    "(df.loc['1989':, ['DGDSRY', 'OTHSERV', 'SHELTER']]\n",
    "   .to_csv(data_dir / 'pce.csv', index_label='date', float_format='%g'))\n",
    "\n",
    "data = df.iloc[-5:].iloc[::-1].T\n",
    "\n",
    "cols = [f'& {q.year} Q{q.quarter}' \n",
    "        if i == 0 else f'`{str(q.year)[2:]} Q{q.quarter}'\n",
    "        for i, q in enumerate(data.columns)]\n",
    "\n",
    "data.columns = cols\n",
    "data['3-year'] = df.rolling(13).mean().iloc[-1].round(2)\n",
    "data['10-year'] = df.rolling(41).mean().iloc[-1].round(2)\n",
    "data['30-year'] = df.rolling(121).mean().iloc[-1].round(2)\n",
    "data.index = data.index.map(n)\n",
    "(data.round(2).applymap('{:,.2f}'.format)\n",
    " .to_csv(data_dir / 'pce.tex', sep='&', line_terminator='\\\\\\ ', quotechar=' '))\n",
    "\n",
    "ld = dtxt(df.index[-1])['qtr1']\n",
    "prd = dtxt(df.index[-2])['qtr1']\n",
    "ld2 = dtxt(df.index[-1])['qtr2']\n",
    "\n",
    "totlt = df['TOTAL'].iloc[-1]\n",
    "totltt = value_text(totlt, style='contribution_to', ptype='pp', \n",
    "                    digits=1, threshold=0.1)\n",
    "totpr = df['TOTAL'].iloc[-2]\n",
    "totprt = value_text(totpr, style='contribution', ptype='pp', \n",
    "                    digits=1, threshold=0.1)\n",
    "totpc = df.loc['2019-10-01', 'TOTAL']\n",
    "totpct = value_text(totpc, style='contribution_of', ptype='pp', \n",
    "                    digits=1, casual=True, threshold=0.1)\n",
    "\n",
    "txt1 = (f'These categories {totltt} GDP growth in {ld} and {totprt} in '+\n",
    "        f'{prd}, compared to {totpct} in 2019 Q4, before the pandemic.')\n",
    "write_txt(text_dir / 'pce1.txt', txt1)\n",
    "print(txt1)\n",
    "\n",
    "gdslt = df['DGDSRY'].iloc[-1]\n",
    "gdsltt = value_text(gdslt, style='contribution_to', ptype='pp', \n",
    "                    digits=1, threshold=0.1)\n",
    "serlt = df['OTHSERV'].iloc[-1]\n",
    "serltt = value_text(serlt, style='contribution', ptype='pp', digits=1, \n",
    "                    casual=True, threshold=0.1)\n",
    "shelt = df['SHELTER'].iloc[-1]\n",
    "sheltt = value_text(shelt, style='contribution', ptype='pp', \n",
    "                    digits=1, threshold=0.1)\n",
    "\n",
    "txt2 = (f'In the {ld2}, household spending on goods {gdsltt} GDP growth, '+\n",
    "         'household spending on services other than housing and utilities '+\n",
    "        f'{serltt}, and shelter spending and investment {sheltt}.')\n",
    "write_txt(text_dir / 'pce2.txt', txt2)\n",
    "print('\\n', txt2)"
   ]
  },
  {
   "cell_type": "code",
   "execution_count": null,
   "metadata": {},
   "outputs": [],
   "source": []
  },
  {
   "cell_type": "code",
   "execution_count": null,
   "metadata": {},
   "outputs": [],
   "source": []
  },
  {
   "cell_type": "markdown",
   "metadata": {},
   "source": [
    "### Trade Contribution to GDP"
   ]
  },
  {
   "cell_type": "code",
   "execution_count": null,
   "metadata": {
    "ExecuteTime": {
     "end_time": "2022-02-24T13:39:32.926826Z",
     "start_time": "2022-02-24T13:39:32.839819Z"
    }
   },
   "outputs": [],
   "source": [
    "s = ['A019RY', 'A253RY', 'A646RY', 'A255RY', 'A656RY']\n",
    "df = nipa_df(retrieve_table('T10502')['Data'], s)\n",
    "df.loc['1989':].to_csv(data_dir / 'nx.csv', index_label='date')\n",
    "\n",
    "sl = [('A253RY', 'main'), ('A646RY', 'end'), \n",
    "      ('A255RY', 'main'), ('A656RY', 'end')]\n",
    "\n",
    "d = {}\n",
    "for s, style in sl:\n",
    "    value = df[s].iloc[-1]\n",
    "    d[s] = cont_subt(value, style=style)\n",
    "    \n",
    "ldate = dtxt(df.index[-1])['qtr2']\n",
    "\n",
    "text = (f\"Goods exports {d['A253RY']} GDP growth in {ldate} while \"+\n",
    "        f\"services exports {d['A646RY']}. Good imports {d['A255RY']} \"+\n",
    "        f\"GDP growth and services imports {d['A656RY']}.\")\n",
    "write_txt(text_dir / 'trade.txt', text)\n",
    "print(text)"
   ]
  },
  {
   "cell_type": "code",
   "execution_count": null,
   "metadata": {},
   "outputs": [],
   "source": []
  },
  {
   "cell_type": "code",
   "execution_count": null,
   "metadata": {},
   "outputs": [],
   "source": []
  },
  {
   "cell_type": "markdown",
   "metadata": {},
   "source": [
    "### Business investment"
   ]
  },
  {
   "cell_type": "code",
   "execution_count": null,
   "metadata": {
    "ExecuteTime": {
     "end_time": "2022-02-24T13:39:35.167415Z",
     "start_time": "2022-02-24T13:39:35.107722Z"
    }
   },
   "outputs": [],
   "source": [
    "s = ['Y001RY', 'A009RY', 'Y033RY']\n",
    "\n",
    "df = nipa_df(retrieve_table('T10502')['Data'], s)\n",
    "df.loc['1989':].to_csv(data_dir / 'businv.csv', index_label='date')"
   ]
  },
  {
   "cell_type": "code",
   "execution_count": null,
   "metadata": {
    "ExecuteTime": {
     "end_time": "2022-02-24T13:39:37.259568Z",
     "start_time": "2022-02-24T13:39:37.183977Z"
    }
   },
   "outputs": [],
   "source": [
    "s = ['Y001RC', 'B009RC', 'Y033RC', 'A008RC']\n",
    "data = nipa_df(retrieve_table('T10105')['Data'], s)\n",
    "gdp = nipa_df(retrieve_table('T10105')['Data'], ['A191RC'])['A191RC']\n",
    "df1 = data.divide(gdp, axis=0) * 100\n",
    "(df1.loc['1989':, ['Y001RC', 'B009RC', 'Y033RC']]\n",
    "    .to_csv(data_dir / 'businvsh.csv', index_label='date'))\n",
    "\n",
    "ltdate = dtxt(df1.index[-1])['qtr1']\n",
    "\n",
    "levels = {}\n",
    "shgdp = {}\n",
    "for series in ['Y001RC', 'B009RC', 'Y033RC']:\n",
    "    level_val = data[series].iloc[-1] / 1_000\n",
    "    txt = f\"\\${level_val:,.0f} billion\"\n",
    "    levels[series] = txt\n",
    "    shgdp[series] = f\"{df1[series].iloc[-1]:.1f} percent of GDP\"\n",
    "\n",
    "text = ('Business investments in fixed assets are grouped into three '+\n",
    "        'categories: structures, equipment, and intellectual property '+\n",
    "        '(for example software and R\\&D). Investment in structures was '+\n",
    "        f'{levels[\"B009RC\"]} in {ltdate}, equivalent to {shgdp[\"B009RC\"]} '+\n",
    "        '(see {\\color{yellow!50!orange}\\\\textbf{---}}). '+\n",
    "        f'Equipment investment was {levels[\"Y033RC\"]} or {shgdp[\"Y033RC\"]} '+\n",
    "        '(see {\\color{cyan!60!white}\\\\textbf{---}}), '+\n",
    "        'and intellectual property investment '+\n",
    "        f'was {levels[\"Y001RC\"]} or {shgdp[\"Y001RC\"]} '+\n",
    "        '(see {\\color{violet}\\\\textbf{---}}). ')\n",
    "write_txt(text_dir / 'businv_sh.txt', text)\n",
    "print(text)"
   ]
  },
  {
   "cell_type": "code",
   "execution_count": null,
   "metadata": {
    "ExecuteTime": {
     "end_time": "2022-02-24T13:39:39.748199Z",
     "start_time": "2022-02-24T13:39:39.629936Z"
    }
   },
   "outputs": [],
   "source": [
    "s = ['W790RC', 'W276RC', 'W987RC']\n",
    "df = nipa_df(retrieve_table('T50100')['Data'], s).join(data['A008RC'])\n",
    "gdp = nipa_df(retrieve_table('T10105')['Data'], ['A191RC'])['A191RC']\n",
    "res = (df.div(gdp, axis=0) * 100).dropna()\n",
    "res.loc['1989':].to_csv(data_dir / 'businv_main.csv', index_label='date')\n",
    "\n",
    "ltdate1 = dtxt(df.index[-1])['qtr1']\n",
    "ltdate2 = dtxt(df.index[-1])['qtr2']\n",
    "\n",
    "levels = {}\n",
    "shgdp = {}\n",
    "for series in ['W790RC', 'W276RC', 'W987RC', 'A008RC']:\n",
    "    level_val = df[series].iloc[-1] / 1_000\n",
    "    n = ''\n",
    "    if level_val < 0:\n",
    "        n = 'negative '\n",
    "        level_val = abs(level_val)\n",
    "    txt = f\"{n}\\${level_val:,.0f} billion\"\n",
    "    levels[series] = txt\n",
    "    shgdp[series] = f\"{res[series].iloc[-1]:.1f} percent of GDP\"\n",
    "    \n",
    "diff = ((df['W987RC'].iloc[-1] / df.loc['2019-10-01', 'W987RC']) - 1) * 100\n",
    "gdt = value_text(diff)\n",
    "diff2 = ((df['W790RC'].iloc[-1] / df.loc['2019-10-01', 'W790RC']) - 1) * 100\n",
    "if diff2 < -95:\n",
    "    ndt = 'but collapsed completely'\n",
    "else:\n",
    "    ndt = 'and ' + value_text(diff2)\n",
    "gpcl = f\"{n}\\${df.loc['2019-10-01', 'W987RC'] / 1_000:,.0f} billion\"\n",
    "npcl = f\"{n}\\${df.loc['2019-10-01', 'W790RC'] / 1_000:,.0f} billion\"\n",
    "if diff < 0:\n",
    "    txt = 'as gross investment fell while deprecation was relatively constant'\n",
    "else:\n",
    "    txt = 'as gross investment recovered from its pandemic lows'\n",
    "    \n",
    "text = (f'In the {ltdate2}, gross private business investment totals '+\n",
    "        f'{levels[\"W987RC\"]} on a seasonally-adjusted annualized basis, '+\n",
    "        f'equivalent to {shgdp[\"W987RC\"]} '+\n",
    "        '(see {\\color{blue!60!violet}\\\\textbf{---}}). Private business investment '+\n",
    "        f'in fixed assets totals {levels[\"A008RC\"]}, or {shgdp[\"A008RC\"]} '+\n",
    "        '(see {\\color{cyan!80!white}\\\\textbf{---}}). Private business depreciation '+\n",
    "        f'totals {levels[\"W276RC\"]} in the quarter, or {shgdp[\"W276RC\"]} '+\n",
    "        '(see {\\color{magenta}\\\\textbf{---}}). '+\n",
    "        f'As a result, net investment is {levels[\"W790RC\"]}, or {shgdp[\"W790RC\"]} '+\n",
    "        '(see {\\color{green!80!blue}\\\\textbf{---}}). \\n\\n '+\n",
    "        'In 2019 Q4, prior to the COVID-19 pandemic, private business gross '+\n",
    "        f'investment was {gpcl}. Since 2019 Q4, annualized gross investment {gdt}. '+\n",
    "        f'Net investment was {npcl} in 2019 Q4, {ndt} from 2019 Q4 to {ltdate1}, '+\n",
    "        f'{txt}. ')\n",
    "write_txt(text_dir / 'businv_levels.txt', text)\n",
    "print(text)  "
   ]
  },
  {
   "cell_type": "code",
   "execution_count": null,
   "metadata": {},
   "outputs": [],
   "source": []
  },
  {
   "cell_type": "code",
   "execution_count": null,
   "metadata": {},
   "outputs": [],
   "source": []
  },
  {
   "cell_type": "markdown",
   "metadata": {},
   "source": [
    "### Durable goods new orders"
   ]
  },
  {
   "cell_type": "code",
   "execution_count": 189,
   "metadata": {
    "ExecuteTime": {
     "end_time": "2022-03-04T04:23:33.315427Z",
     "start_time": "2022-03-04T04:23:27.410519Z"
    }
   },
   "outputs": [],
   "source": [
    "# New orders for capital goods excluding defense or aircraft\n",
    "url = ('https://api.census.gov/data/timeseries/eits/advm3?'+\n",
    "       f'get=cell_value,time_slot_id&key={census_key}&'+\n",
    "       'category_code=NXA&data_type_code=NO&time=from+1992&'+\n",
    "       'for=us&seasonally_adj=yes')\n",
    "r = requests.get(url).json()\n",
    "date = lambda x: pd.to_datetime(x.time)\n",
    "df = (pd.DataFrame(r[1:], columns=r[0]).assign(date = date)\n",
    "        .set_index('date')['cell_value'].astype('float'))\n",
    "df.to_csv(data_dir / 'dgno_raw.csv', index_label='date', \n",
    "          header=True)"
   ]
  },
  {
   "cell_type": "code",
   "execution_count": 190,
   "metadata": {
    "ExecuteTime": {
     "end_time": "2022-03-04T04:23:35.439464Z",
     "start_time": "2022-03-04T04:23:35.407162Z"
    }
   },
   "outputs": [
    {
     "name": "stdout",
     "output_type": "stream",
     "text": [
      "New orders for manufactured core capital goods excluding aircraft totaled \\$78 billion in September 2021, equivalent to 3.9 percent of GDP (see {\\color{purple!50!violet}\\textbf{---}}). New orders increased eight percent over the past year, and increased by 20.5 percent since February 2020.\n"
     ]
    }
   ],
   "source": [
    "df = pd.read_csv(data_dir / 'dgno_raw.csv', index_col='date', \n",
    "                 parse_dates=True)['cell_value']\n",
    "gdp = nipa_df(retrieve_table('T10105')['Data'], ['A191RC'])\n",
    "res = ((df.resample('QS').sum() * 4  / \n",
    "        gdp['A191RC']).dropna() * 100).iloc[1:]\n",
    "(res.rename('value').to_csv(data_dir / 'dgno.csv', \n",
    "                            index_label='date',  header=True))\n",
    "color = 'purple!50!violet'\n",
    "node = end_node(res, color, date='q', percent=True)\n",
    "write_txt(text_dir / 'dgno_node.txt', node)\n",
    "ltval = f'\\${df.iloc[-1] / 1000:,.0f} billion'\n",
    "ldate = dtxt(df.index[-1])['mon1']\n",
    "comp = pd.to_datetime('2020-02-01')\n",
    "compdt = dtxt(pd.to_datetime(comp))['mon1']\n",
    "val = value_text(df.pct_change(12).iloc[-1] * 100)\n",
    "pcv = ((df.iloc[-1] / df.loc[comp]) - 1) * 100\n",
    "pcval = value_text(pcv, 'increase_by')\n",
    "text = ('New orders for manufactured core capital goods excluding '+\n",
    "        f'aircraft totaled {ltval} in {ldate}, equivalent to '+\n",
    "        f'{res.iloc[-1]:.1f} percent of GDP {c_line(color)}. New '+\n",
    "        f'orders {val} over the past year, and {pcval} since '+\n",
    "        f'{compdt}.')\n",
    "write_txt(text_dir / 'dgno.txt', text)\n",
    "print(text)"
   ]
  },
  {
   "cell_type": "code",
   "execution_count": null,
   "metadata": {},
   "outputs": [],
   "source": []
  },
  {
   "cell_type": "code",
   "execution_count": null,
   "metadata": {},
   "outputs": [],
   "source": []
  },
  {
   "cell_type": "markdown",
   "metadata": {},
   "source": [
    "### Government spending and investment"
   ]
  },
  {
   "cell_type": "code",
   "execution_count": null,
   "metadata": {
    "ExecuteTime": {
     "end_time": "2022-03-02T20:47:38.341154Z",
     "start_time": "2022-03-02T20:47:38.166808Z"
    }
   },
   "outputs": [],
   "source": [
    "n = {'A822RY': 'Total',\n",
    "     'A823RY': '\\hspace{1mm}Federal total',\n",
    "     'A824RY': '\\hspace{1mm}\\cbox{blue!60!black}National defense',\n",
    "     'A997RY': '\\hspace{7mm}Consumption expenditures',\n",
    "     'A788RY': '\\hspace{7mm}Gross investment',\n",
    "     'A825RY': '\\hspace{1mm}\\cbox{green!85!black}Nondefense',\n",
    "     'A542RY': '\\hspace{7mm}Consumption expenditures',\n",
    "     'A798RY': '\\hspace{7mm}Gross investment',\n",
    "     'A829RY': '\\hspace{-2mm}\\cbox{purple!70!magenta}State \\& local total',\n",
    "     'A991RY': '\\hspace{5mm}Consumption expenditures',\n",
    "     'A799RY': '\\hspace{5mm}Gross investment'}\n",
    "\n",
    "df = nipa_df(retrieve_table('T10502')['Data'], \n",
    "             list(n.keys()) + ['A191RL'])\n",
    "df.rolling(4).mean().loc['1989':].to_csv(data_dir / 'gov.csv', \n",
    "                                         index_label='date')"
   ]
  },
  {
   "cell_type": "code",
   "execution_count": null,
   "metadata": {
    "ExecuteTime": {
     "end_time": "2022-03-02T20:55:32.277902Z",
     "start_time": "2022-03-02T20:55:32.270883Z"
    }
   },
   "outputs": [],
   "source": [
    "ltdt = dtxt(df.index[-1])['qtr2']\n",
    "ltdt2 = dtxt(df.index[-1])['qtr1']\n",
    "tot = df.A822RY\n",
    "gdp = df['A191RL'].iloc[-1]\n",
    "oneyr = value_text(tot.iloc[-4:].mean(), 'contribution', 'pp', \n",
    "                   threshold=0.01, digits=2)\n",
    "v89 = tot.loc['1989':].mean()\n",
    "totval = value_text(tot.iloc[-1], 'contribution_to', 'pp', \n",
    "                    threshold=0.01, digits=2)\n",
    "defval = value_text(df['A824RY'].iloc[-4:].mean(), 'contribution', 'pp', \n",
    "                   threshold=0.01, digits=2)\n",
    "defcb = c_box('blue!60!black')\n",
    "fedval = value_text(df['A825RY'].iloc[-4:].mean(), 'contribution', 'pp', \n",
    "                   threshold=0.01, digits=2)\n",
    "fedcb = c_box('green!85!black')\n",
    "slgval = value_text(df['A829RY'].iloc[-4:].mean(), 'contribution', 'pp', \n",
    "                   threshold=0.01, digits=2)\n",
    "slgcb = c_box('purple!70!magenta')\n",
    "text = ('Government consumption and investment directly affect economic '+\n",
    "        f'growth in the short-term. In {ltdt}, government consumption spending '+\n",
    "        f'and investment {totval} the real GDP growth rate of {gdp:.1f} '+\n",
    "        'percent. Over the latest four quarters, government consumption '+\n",
    "        f'and investment {oneyr} to economic growth, on average. '+\n",
    "        f'Since 1989, the average contribution has been {v89:.2f} '+\n",
    "        f'percentage points.\\n\\nOver the four quarters ending {ltdt2}, '+\n",
    "        f'by level of government, national defense {defval} {defcb}, '+\n",
    "        f'other federal government {fedval} {fedcb}, and state and '+\n",
    "        f'local government {slgval} {slgcb}.')\n",
    "write_txt(text_dir / 'gov.txt', text)\n",
    "print(text)"
   ]
  },
  {
   "cell_type": "code",
   "execution_count": null,
   "metadata": {
    "ExecuteTime": {
     "end_time": "2022-03-02T20:55:37.187585Z",
     "start_time": "2022-03-02T20:55:37.172404Z"
    }
   },
   "outputs": [],
   "source": [
    "result = df[n.keys()]\n",
    "data = result.iloc[-5:].iloc[::-1].T\n",
    "\n",
    "cols = [f' {q.year} Q{q.quarter}' \n",
    "        if i == 0 else f'`{str(q.year)[2:]} Q{q.quarter}'\n",
    "        for i, q in enumerate(data.columns)]\n",
    "\n",
    "data.columns = cols\n",
    "data['3-year'] = result.rolling(13).mean().iloc[-1].round(2)\n",
    "data['10-year'] = result.rolling(41).mean().iloc[-1].round(2)\n",
    "data['30-year'] = result.rolling(121).mean().iloc[-1].round(2)\n",
    "data.index = data.index.map(n)\n",
    "data = data.applymap('{:.2f}'.format)\n",
    "data.to_csv(data_dir / 'gov.tex', sep='&', line_terminator='\\\\\\ ', quotechar=' ')"
   ]
  },
  {
   "cell_type": "code",
   "execution_count": null,
   "metadata": {},
   "outputs": [],
   "source": []
  },
  {
   "cell_type": "code",
   "execution_count": null,
   "metadata": {},
   "outputs": [],
   "source": []
  },
  {
   "cell_type": "markdown",
   "metadata": {},
   "source": [
    "### Government Net Investment"
   ]
  },
  {
   "cell_type": "code",
   "execution_count": null,
   "metadata": {
    "ExecuteTime": {
     "end_time": "2022-02-24T13:39:53.770893Z",
     "start_time": "2022-02-24T13:39:53.703669Z"
    }
   },
   "outputs": [],
   "source": [
    "cofc = nipa_df(retrieve_table('T11000')['Data'], ['A264RC'])['A264RC']\n",
    "ginv = nipa_df(retrieve_table('T30100')['Data'], ['A782RC'])['A782RC']\n",
    "gdp = nipa_df(retrieve_table('T10105')['Data'], ['A191RC'])['A191RC']\n",
    "\n",
    "data = (((ginv - cofc) / gdp) * 100).loc['1989':]\n",
    "data.name = 'Value'\n",
    "data.to_csv(data_dir / 'govnetinv.csv', index_label='date')\n",
    "\n",
    "color = 'red'\n",
    "node = end_node(data, color, percent=True, date='q', digits=2, \n",
    "                full_year=True)\n",
    "write_txt(text_dir / 'govnetinv_node.txt', node)\n",
    "\n",
    "ltdt = dtxt(data.index[-1])['qtr1']\n",
    "yrdt = dtxt(data.index[-5])['qtr1']\n",
    "yr2dt = dtxt(data.index[-9])['qtr1']\n",
    "gni = f'\\${(ginv - cofc).iloc[-1] / 1_000:.1f} billion'\n",
    "gnish = f'{data.iloc[-1]:.2f} percent'\n",
    "gnishyr = f'{data.iloc[-5]:.2f} percent'\n",
    "gnishyr2 = f'{data.iloc[-9]:.2f} percent'\n",
    "\n",
    "text = (\"Government gross investment, less depreciation, is the government's \"+\n",
    "        \"net investment in the tangible assets that make the economy more \"+\n",
    "        \"productive. Government investment includes infrastructure, \"+\n",
    "        \"buildings, equipment, intellectual property, and other capital goods. \"+\n",
    "        f\"In the latest data, covering {ltdt}, government net investment is \"+\n",
    "        f\"{gni}. Government net investment is equivalent to {gnish} \"+\n",
    "        f\"of GDP in {ltdt} \"+\n",
    "        \"(see {\\color{red}\\\\textbf{---}}), compared \"+\n",
    "        f\"to {gnishyr} in {yrdt}, and \"+\n",
    "        f\"{gnishyr2} in {yr2dt}. \")\n",
    "write_txt(text_dir / f'govnetinv.txt', text)\n",
    "print(text)"
   ]
  },
  {
   "cell_type": "code",
   "execution_count": null,
   "metadata": {},
   "outputs": [],
   "source": []
  },
  {
   "cell_type": "code",
   "execution_count": null,
   "metadata": {},
   "outputs": [],
   "source": []
  },
  {
   "cell_type": "markdown",
   "metadata": {},
   "source": [
    "### Government receipts and expenditures"
   ]
  },
  {
   "cell_type": "code",
   "execution_count": null,
   "metadata": {
    "ExecuteTime": {
     "end_time": "2022-02-24T13:39:56.267006Z",
     "start_time": "2022-02-24T13:39:56.158081Z"
    }
   },
   "outputs": [],
   "source": [
    "gdp = nipa_df(retrieve_table('T10105')['Data'], ['A191RC'])['A191RC']\n",
    "\n",
    "d = {'slggdp': {'name': 'combined state and local government', \n",
    "                'table': 'T30300', 'series': \n",
    "                {'W024RC': 'SLG_EXP', 'W023RC': 'SLG_REC'}},\n",
    "     'fedgdp': {'name': 'federal government', \n",
    "                'table': 'T30200', 'series':\n",
    "                {'W005RC': 'FED_REC', 'W013RC': 'FED_EXP'}}}\n",
    "\n",
    "data = pd.DataFrame()\n",
    "\n",
    "ltdate = dtxt(gdp.index[-1])['qtr1']\n",
    "\n",
    "for group, details in d.items():\n",
    "    df = nipa_df(retrieve_table(details['table'])['Data'], details['series'].keys())\n",
    "    (df.div(gdp, axis=0) * 100).loc['1989':].to_csv(data_dir / f'{group}.csv', \n",
    "                                                    index_label='date', float_format='%g')\n",
    "    \n",
    "    grp = group[:3].upper()\n",
    "    df.columns = [details['series'][i] for i in df.columns]\n",
    "    bal = df[f'{grp}_REC'] - df[f'{grp}_EXP']\n",
    "    bal_lt = bal.dropna().iloc[-1]\n",
    "    bal_lt_dt = dtxt(bal.dropna().index[-1])['qtr1']\n",
    "    def_sur = 'deficit' if bal_lt < 0 else 'surplus'\n",
    "    df[f'{grp}_BAL'] = bal\n",
    "    \n",
    "    for col in df.columns:\n",
    "        data[col] = df[col]\n",
    "        data[col+'_GDP'] = df[col].div(gdp, axis=0) * 100\n",
    "        \n",
    "    bal_gdp = data[f'{grp}_BAL_GDP'].dropna().iloc[-1]\n",
    "    bal_txt = (f'In {bal_lt_dt}, the {d[group][\"name\"]} {def_sur} was '+\n",
    "               f'\\${abs(bal_lt) / 1000:,.0f} billion or {abs(bal_gdp):.1f} percent of GDP. ')\n",
    "    \n",
    "    exp_txt = (f'{d[group][\"name\"].capitalize()} expenditures total '+\n",
    "               f'\\${data[grp+\"_EXP\"].iloc[-1] / 1000000:.1f} trillion, '+\n",
    "               f'or {data[grp+\"_EXP_GDP\"].iloc[-1]:.1f} percent of GDP, in {ltdate}. ')\n",
    "    \n",
    "    if pd.isna(df[[i for i in df.columns if i[4:] == 'REC'][0]].iloc[-1]) == True:\n",
    "        rec_txt = (f'BEA has not yet released receipts data for {ltdate}, however, '+\n",
    "                   f'in {bal_lt_dt}, {d[group][\"name\"]} receipts total '+\n",
    "                   f'\\${data[grp+\"_REC\"].dropna().iloc[-1] / 1000000:.1f} trillion, '+\n",
    "                   f'or {data[grp+\"_REC_GDP\"].dropna().iloc[-1]:.1f} percent of GDP. ')\n",
    "    else:\n",
    "        rec_txt = ('Receipts for the same period total '+\n",
    "                   f'\\${data[grp+\"_REC\"].dropna().iloc[-1] / 1000000:.1f} trillion '+\n",
    "                   f'or {data[grp+\"_REC_GDP\"].dropna().iloc[-1]:.1f} percent of GDP. ')\n",
    "    \n",
    "    text = exp_txt + rec_txt + bal_txt\n",
    "    write_txt(text_dir / f'{group}.txt', text)\n",
    "    print(text)"
   ]
  },
  {
   "cell_type": "code",
   "execution_count": null,
   "metadata": {},
   "outputs": [],
   "source": []
  },
  {
   "cell_type": "code",
   "execution_count": null,
   "metadata": {},
   "outputs": [],
   "source": []
  },
  {
   "cell_type": "markdown",
   "metadata": {},
   "source": [
    "### Public Debt by Holder"
   ]
  },
  {
   "cell_type": "code",
   "execution_count": null,
   "metadata": {
    "ExecuteTime": {
     "end_time": "2022-03-02T18:31:48.481033Z",
     "start_time": "2022-03-02T18:31:46.785262Z"
    }
   },
   "outputs": [],
   "source": [
    "series = ['FDHBATN', 'GFDEBTN', 'FDHBFRBN', 'FDHBPIN', 'FDHBFIN']\n",
    "start = '1988-01-01'\n",
    "ftype = '&file_type=json'\n",
    "base = 'https://api.stlouisfed.org/fred/series/observations?'\n",
    "\n",
    "df = pd.DataFrame()\n",
    "\n",
    "for srs in series:\n",
    "    param = f'series_id={srs}&observation_start={start}&api_key={fred_key}'\n",
    "    url = f'{base}{param}{ftype}'\n",
    "    r = requests.get(url).json()['observations']\n",
    "    data = pd.Series({pd.to_datetime(i['date']): (float(i['value']) / 1000.0) \n",
    "                      if srs in series[:2] \n",
    "                      else float(i['value']) for i in r})\n",
    "    df[srs] = data"
   ]
  },
  {
   "cell_type": "code",
   "execution_count": null,
   "metadata": {
    "ExecuteTime": {
     "end_time": "2022-03-02T18:31:48.515731Z",
     "start_time": "2022-03-02T18:31:48.482099Z"
    }
   },
   "outputs": [],
   "source": [
    "df = df.dropna()\n",
    "df['PD'] = df['FDHBPIN'] - df['FDHBFIN']\n",
    "df['IG'] = df['GFDEBTN'] - (df['FDHBFRBN'] + df['FDHBPIN'])\n",
    "\n",
    "gdp = nipa_df(retrieve_table('T10105')['Data'], ['A191RC'])['A191RC']\n",
    "\n",
    "data = df.loc['1989':].div(gdp / 1000.0, axis=0).dropna()\n",
    "\n",
    "(data[['PD', 'FDHBFIN', 'FDHBFRBN', 'IG']] * 100).to_csv(data_dir / 'pubdebt.csv', \n",
    "                                                         index_label='date')\n",
    "\n",
    "ld = pd.to_datetime(df.index[-1])\n",
    "ldate = dtxt(ld)['qtr2']\n",
    "\n",
    "sh = df.div(df['GFDEBTN'], axis=0).iloc[-1] * 100\n",
    "lv = df.iloc[-1] / 1000\n",
    "dl = data.iloc[-1] * 100\n",
    "url = 'https://www.fiscal.treasury.gov/reports-statements/treasury-bulletin/current.html'\n",
    "text = (f'In {ldate}, total \\href{{{url}}}{{public debt}} was '+\n",
    "        f'\\${lv.GFDEBTN:.1f} trllion, equivalent to {dl.GFDEBTN:.1f} percent '+\n",
    "        f'of GDP. Of this, \\${lv.PD:.1f} trillion, or {sh.PD:.1f} percent of '+\n",
    "        'the total, is held by private domestic investors (see\\cbox{green!60!black}). '+\n",
    "        f'An additional \\${lv.FDHBFIN:.1f} trillion, or {sh.FDHBFIN:.1f} percent '+\n",
    "        'of the total, is held by foreign investors (see\\cbox{orange!70!white}). '+\n",
    "        'The remainder is held by the Federal Reserve (see\\cbox{blue}) '+\n",
    "        'and various government agencies and trusts (see\\cbox{cyan!50!white}), '+\n",
    "        'such as the Social Security Trust Fund. ')\n",
    "write_txt(text_dir / 'pubdebt.txt', text)\n",
    "print(text)"
   ]
  },
  {
   "cell_type": "code",
   "execution_count": null,
   "metadata": {},
   "outputs": [],
   "source": []
  },
  {
   "cell_type": "code",
   "execution_count": null,
   "metadata": {},
   "outputs": [],
   "source": []
  },
  {
   "cell_type": "markdown",
   "metadata": {},
   "source": [
    "### Personal Income"
   ]
  },
  {
   "cell_type": "code",
   "execution_count": null,
   "metadata": {
    "ExecuteTime": {
     "end_time": "2022-02-24T13:40:05.937484Z",
     "start_time": "2022-02-24T13:40:05.813830Z"
    }
   },
   "outputs": [],
   "source": [
    "# deflator\n",
    "d = nipa_df(retrieve_table('T20304')['Data'], ['DPCERG'])['DPCERG']\n",
    "deflator = d.iloc[-1] / d\n",
    "\n",
    "# collect and combine series\n",
    "s = ['A065RC', 'A033RC', 'A041RC', 'A048RC', 'W210RC', 'A577RC', 'A061RC']\n",
    "df = (nipa_df(retrieve_table('T20100')['Data'], s)\n",
    "      .assign(CAPITAL = lambda x: x['A041RC'] + x['A048RC'] + x['W210RC'],\n",
    "              TRANSFER = lambda x: x['A577RC'] - x['A061RC'])\n",
    "      .drop(['A061RC', 'A041RC', 'A048RC', 'W210RC', 'A577RC'], axis=1)\n",
    "      .multiply(deflator, axis=0))\n",
    "growth_contrib(df, 'A065RC').loc['1989':].to_csv(data_dir / 'pi.csv', index_label='date')\n",
    "\n",
    "data = growth_contrib(df, 'A065RC').rename({'A065RC': 'TOTAL', 'A033RC': 'LABOR'}, axis=1)\n",
    "\n",
    "ltdate = dtxt(data.index[-1])['qtr1']\n",
    "tot = value_text(data['TOTAL'].iloc[-1], adj='annualized', digits=2)\n",
    "d = {}\n",
    "for i in ['LABOR', 'CAPITAL', 'TRANSFER']:\n",
    "    d[i] = value_text(data[i].iloc[-1], style='contribution', \n",
    "                      ptype='pp', digits=2)\n",
    "text = (f'Aggregate real personal income {tot} in {ltdate}. '+\n",
    "        f'Labor income {d[\"LABOR\"]} overall growth, '+\n",
    "        f'capital income {d[\"CAPITAL\"]}, and welfare income {d[\"TRANSFER\"]}. ')\n",
    "write_txt(text_dir / 'pi.txt', text)\n",
    "print(text)"
   ]
  },
  {
   "cell_type": "code",
   "execution_count": null,
   "metadata": {},
   "outputs": [],
   "source": []
  },
  {
   "cell_type": "code",
   "execution_count": null,
   "metadata": {},
   "outputs": [],
   "source": []
  },
  {
   "cell_type": "markdown",
   "metadata": {
    "ExecuteTime": {
     "end_time": "2020-10-14T06:23:18.467227Z",
     "start_time": "2020-10-14T06:23:18.460090Z"
    }
   },
   "source": [
    "### Government Personal Income"
   ]
  },
  {
   "cell_type": "code",
   "execution_count": null,
   "metadata": {
    "ExecuteTime": {
     "end_time": "2022-02-24T13:40:08.642588Z",
     "start_time": "2022-02-24T13:40:08.531987Z"
    }
   },
   "outputs": [],
   "source": [
    "s = ['DPCERG']\n",
    "\n",
    "d = nipa_df(retrieve_table('T20304')['Data'], s)['DPCERG']\n",
    "deflator = d.iloc[-1] / d\n",
    "\n",
    "s = ['B230RC']\n",
    "\n",
    "population = nipa_df(retrieve_table('T20100')['Data'], s)['B230RC']\n",
    "\n",
    "s = ['A063RC', 'B202RC', 'A061RC', 'W055RC']\n",
    "df = nipa_df(retrieve_table('T20100')['Data'], s)\n",
    "\n",
    "n = {'A063RC': 'Welfare',\n",
    "     'B202RC': 'WandS'}\n",
    "result = df.multiply(deflator, axis=0).divide(population, axis=0)\n",
    "result['TaxSI'] = result['A061RC'] + result['W055RC']\n",
    "result = result.drop(['A061RC', 'W055RC'], axis=1).rename(n, axis=1)\n",
    "result.loc['1989':].to_csv(data_dir / 'govpi.csv', index_label='date')\n",
    "\n",
    "ltdate = dtxt(result.index[-1])['qtr1']\n",
    "prdt = '2019-10-01'\n",
    "prdate = dtxt(pd.to_datetime(prdt))['qtr1']\n",
    "wsltval = result['WandS'].iloc[-1] * 1_000\n",
    "wsprval = result.loc[prdt, 'WandS'] * 1_000\n",
    "wltval = result['Welfare'].iloc[-1] * 1_000\n",
    "wprval = result.loc[prdt, 'Welfare'] * 1_000\n",
    "w89val = result.loc['1989-01-01', 'Welfare'] * 1_000\n",
    "tltval = result['TaxSI'].iloc[-1] * 1_000\n",
    "tprval = result.loc[prdt, 'TaxSI'] * 1_000\n",
    "t89val = result.loc['1989-01-01', 'TaxSI'] * 1_000\n",
    "\n",
    "text = (f'In {ltdate}, government worker wages and salaries, not including '+\n",
    "        f'benefits, were equivalent to \\${wsltval:,.0f} per capita, following a '+\n",
    "        f'price-adjusted \\${wsprval:,.0f} in {prdate} '+\n",
    "        '(see {\\color{orange}\\\\textbf{---}}). Welfare payments were equivalent '+\n",
    "        f'to \\${wltval:,.0f} per capita in {ltdate}, compared to \\${wprval:,.0f} '+\n",
    "        f'per capita in {prdate} '+\n",
    "        '(see {\\color{violet}\\\\textbf{---}}). In 1989 Q1, welfare payments were '+\n",
    "        f'equivalent to \\${w89val:,.0f} per person.  \\n\\n Personal current taxes '+\n",
    "        f'and social insurance contributions total \\${tltval:,.0f} per capita '+\n",
    "        f'in {ltdate}, \\${tprval:,.0f} in {prdate}, and \\${t89val:,.0f} in 1989 '+\n",
    "        '(see {\\color{cyan!80!blue}\\\\textbf{---}}).')\n",
    "write_txt(text_dir / 'govpi.txt', text)\n",
    "print(text)"
   ]
  },
  {
   "cell_type": "code",
   "execution_count": null,
   "metadata": {},
   "outputs": [],
   "source": []
  },
  {
   "cell_type": "code",
   "execution_count": null,
   "metadata": {},
   "outputs": [],
   "source": []
  },
  {
   "cell_type": "markdown",
   "metadata": {
    "ExecuteTime": {
     "end_time": "2020-10-14T15:23:11.647340Z",
     "start_time": "2020-10-14T15:23:11.645438Z"
    }
   },
   "source": [
    "### Government Consumption and Investment"
   ]
  },
  {
   "cell_type": "code",
   "execution_count": null,
   "metadata": {
    "ExecuteTime": {
     "end_time": "2022-02-24T13:40:11.135403Z",
     "start_time": "2022-02-24T13:40:11.060551Z"
    }
   },
   "outputs": [],
   "source": [
    "s = ['A823RC', 'A829RC', 'A191RC', 'A824RC', 'A825RC']\n",
    "df = nipa_df(retrieve_table('T10105')['Data'], s).sort_index()\n",
    "result = df.drop('A191RC', axis=1).divide(df['A191RC'], axis=0) * 100\n",
    "result.loc['1989':].to_csv(data_dir / 'govci.csv', index_label='date')\n",
    "\n",
    "ltdate = dtxt(result.index[-1])['qtr1']\n",
    "prdt = pd.to_datetime('2019-10-01')\n",
    "prdate = dtxt(prdt)['qtr1']\n",
    "fndnom = df['A825RC'].iloc[-1] / 1_000\n",
    "fndlt = result['A825RC'].iloc[-1]\n",
    "fndpr = result.loc[prdt, 'A825RC']\n",
    "dlt = result['A824RC'].iloc[-1]\n",
    "dpr = result.loc[prdt, 'A824RC']\n",
    "d89 = result.loc['1989-01-01', 'A824RC']\n",
    "slt = result['A829RC'].iloc[-1]\n",
    "spr = result.loc[prdt, 'A829RC']\n",
    "\n",
    "text = (f'In {ltdate}, federal non-defense spending and investment '+\n",
    "        f'was \\${fndnom:,.1f} billion, equivalent to {fndlt:.1f} percent '+\n",
    "        'of GDP (see {\\color{green!85!black}\\\\textbf{---}}), compared '+\n",
    "        f'to {fndpr:.1f} percent of GDP in {prdate}. Federal spending '+\n",
    "        f'on national defense was equivalent to {dlt:.1f} percent of '+\n",
    "        f'GDP in the latest quarter and {dpr:.1f} percent in {prdate} '+\n",
    "        '(see {\\color{blue!60!black}\\\\textbf{---}}). National defense '\n",
    "        f'spending was {d89:.1f} percent of GDP in 1989 Q1. \\n\\n In '+\n",
    "        f'{ltdate}, state and local government spending and investment '+\n",
    "        f'was equivalent to {slt:.1f} percent of GDP, compared to '+\n",
    "        f'{spr:.1f} percent in {prdate} '+\n",
    "        '(see {\\color{purple!70!magenta}\\\\textbf{---}}).')\n",
    "write_txt(text_dir / 'govci.txt', text)\n",
    "print(text)"
   ]
  },
  {
   "cell_type": "code",
   "execution_count": null,
   "metadata": {},
   "outputs": [],
   "source": []
  },
  {
   "cell_type": "code",
   "execution_count": null,
   "metadata": {},
   "outputs": [],
   "source": []
  },
  {
   "cell_type": "markdown",
   "metadata": {},
   "source": [
    "### Consumer Spending Growth Contributions"
   ]
  },
  {
   "cell_type": "code",
   "execution_count": null,
   "metadata": {
    "ExecuteTime": {
     "end_time": "2022-02-24T13:40:13.496073Z",
     "start_time": "2022-02-24T13:40:13.383788Z"
    }
   },
   "outputs": [],
   "source": [
    "s = ['B230RC']\n",
    "population = nipa_df(retrieve_table('T20100')['Data'], s)['B230RC']\n",
    "s = ['DPCERG']\n",
    "d = nipa_df(retrieve_table('T20304')['Data'], s)['DPCERG']\n",
    "deflator = d.iloc[-1] / d\n",
    "\n",
    "s = ['A067RC', 'A068RC', 'A071RC', 'DPCERC']\n",
    "\n",
    "df = (nipa_df(retrieve_table('T20100')['Data'], s)\n",
    "      .assign(OTHER = lambda x: -(x['A068RC'] - x['DPCERC']),\n",
    "              SAVING = lambda x: -x['A071RC'])\n",
    "      .drop(['A068RC'], axis=1)\n",
    "      .divide(population, axis=0)\n",
    "      .multiply(deflator, axis=0))\n",
    "\n",
    "data = growth_contrib(df, 'DPCERC').rolling(4).mean()\n",
    "data3y = growth_contrib(df, 'DPCERC').rolling(12).mean()\n",
    "data.loc['1989':].to_csv(data_dir / 'pcedecomp.csv', index_label='date')"
   ]
  },
  {
   "cell_type": "code",
   "execution_count": null,
   "metadata": {
    "ExecuteTime": {
     "end_time": "2022-02-24T13:40:15.575162Z",
     "start_time": "2022-02-24T13:40:15.567668Z"
    },
    "scrolled": true
   },
   "outputs": [],
   "source": [
    "date = f'{data.index[-1].year} Q{data.index[-1].quarter}'\n",
    "pcetext = value_text(data['DPCERC'].iloc[-1], adj='average')\n",
    "\n",
    "slist = ['A067RC', 'SAVING', 'OTHER']\n",
    "d = {}\n",
    "for i in slist:\n",
    "    val = data[i].iloc[-1]\n",
    "    vt = value_text(data[i].iloc[-1], style='contribution', \n",
    "           ptype='pp', casual=True)\n",
    "    if f'{abs(val):.1f}' == '0.0':\n",
    "        vt = \"didn't affect the total\"\n",
    "    d[i] = vt\n",
    "pce19 = value_text(data.loc['2019', 'DPCERC'].mean(), adj='average')\n",
    "dpi19 = value_text(data.loc['2019', 'A067RC'].mean(), style='contribution', \n",
    "           ptype='pp')\n",
    "save19 = value_text(data.loc['2019', 'SAVING'].mean(), style='contribution', \n",
    "           ptype='pp')\n",
    "\n",
    "pcetxt = (f'Real per capita consumer spending {pcetext} over the '+\n",
    "          f'four quarters ending {date}. Changes to disposable income '+\n",
    "          f'{d[\"A067RC\"]}, changes to saving {d[\"SAVING\"]}, and '+\n",
    "          f'changes to other outlays {d[\"OTHER\"]}. '+\n",
    "          f'During 2019, real per capita consumer spending {pce19}. '+\n",
    "          f'Increased income {dpi19}, and a slight increase in saving {save19}.')\n",
    "write_txt(text_dir / 'pcedecomp.txt', pcetxt)\n",
    "print(pcetxt)"
   ]
  },
  {
   "cell_type": "code",
   "execution_count": null,
   "metadata": {},
   "outputs": [],
   "source": []
  },
  {
   "cell_type": "code",
   "execution_count": null,
   "metadata": {},
   "outputs": [],
   "source": []
  },
  {
   "cell_type": "markdown",
   "metadata": {},
   "source": [
    "### Sectoral Accounts\n",
    "\n",
    "**NOTE:** Need to convert \"deficit\", \"borrower\" etc to parameters!"
   ]
  },
  {
   "cell_type": "code",
   "execution_count": null,
   "metadata": {
    "ExecuteTime": {
     "end_time": "2022-02-24T13:40:17.736401Z",
     "start_time": "2022-02-24T13:40:17.733808Z"
    }
   },
   "outputs": [],
   "source": [
    "def sect_txt(val):\n",
    "    lb = ('borrower', 'deficit') if val < 0 else ('lender', 'surplus')\n",
    "    d = {'v': val,\n",
    "         'vt': f'{val:.1f}',\n",
    "         'avt': f'{abs(val):.1f}',\n",
    "         'vg': f'the equivalent of {abs(val):.1f} percent of GDP',\n",
    "         'lb': lb[0],\n",
    "         'ds': lb[1]}\n",
    "    return d"
   ]
  },
  {
   "cell_type": "code",
   "execution_count": null,
   "metadata": {
    "ExecuteTime": {
     "end_time": "2022-02-24T13:40:20.343400Z",
     "start_time": "2022-02-24T13:40:20.215916Z"
    }
   },
   "outputs": [],
   "source": [
    "gdp = nipa_df(retrieve_table('T10105')['Data'], ['A191RC'])['A191RC']\n",
    "s = ['W162RC', 'W994RC', 'AD01RC', 'W995RC', 'W996RC', 'AD03RC']\n",
    "sb = nipa_df(retrieve_table('T50100')['Data'], s)\n",
    "df = (sb.div(gdp, axis=0) * 100).dropna()\n",
    "res = df[['W995RC', 'W996RC', 'AD03RC']].loc['1989':]\n",
    "res.to_csv(data_dir / 'sectbal2.csv', index_label='date')\n",
    "\n",
    "data = pd.DataFrame()\n",
    "data['PRIV'] = df['W994RC']\n",
    "data['GOV'] = df['AD01RC']\n",
    "data['ROW'] = -df['W162RC'] # Negative in raw data\n",
    "data = data.dropna().loc['1989':]\n",
    "data.to_csv(data_dir / 'sectbal.csv', index_label='date')\n",
    "\n",
    "date = dtxt(data.index[-1])['qtr1']\n",
    "pcdt = '2019-10-01'\n",
    "\n",
    "priv = sect_txt(data.PRIV.iloc[-1])\n",
    "privpr = sect_txt(data.loc['2019', 'PRIV'].mean())\n",
    "row = sect_txt(data.ROW.iloc[-1])\n",
    "rowpr = sect_txt(data.loc['2019', 'ROW'].mean())\n",
    "gov = sect_txt(data.GOV.iloc[-1])\n",
    "govpr = sect_txt(data.loc['2019', 'GOV'].mean())\n",
    "\n",
    "compare = compare_text(priv['v'], privpr['v'], [0.4, 1.0, 3.5])\n",
    "\n",
    "txt = (f\"In {date}, the US private sector was a net {priv['lb']} \"+\n",
    "       f\"(running a {priv['ds']}) of {priv['vg']}, {compare} the \"+\n",
    "       f\"{privpr['avt']} percent surplus in 2019. The rest of the world \"+\n",
    "       f\"was a net {row['lb']} to the US to {row['vg']} in {date}, compared \"+\n",
    "       f\"to {rowpr['avt']} percent in 2019. Balancing these transactions, \"+\n",
    "       \"the government (federal, state, and local combined) was a net \"+\n",
    "       f\"{gov['lb']} (running a {gov['ds']}) of {gov['vg']} in {date}, \"+\n",
    "       f\"compared to {govpr['avt']} percent in 2019. \")\n",
    "write_txt(text_dir / 'sectbal.txt', txt)\n",
    "print(txt, '\\n')\n",
    "\n",
    "date = dtxt(df.index[-1])['qtr1']\n",
    "hh = sect_txt(df.W996RC.iloc[-1])\n",
    "hhpr = sect_txt(df.loc['2019', 'W996RC'].mean())\n",
    "pb = sect_txt(df.W995RC.iloc[-1])\n",
    "pbpr = sect_txt(df.loc['2019', 'W995RC'].mean())   \n",
    "text = ('Breaking out the two main categories in the private sector, households '+\n",
    "       f'were net {hh[\"lb\"]}s (ran a {hh[\"ds\"]}) of {hh[\"vg\"]} in {date} '+\n",
    "        '(see\\cbox{orange!90!yellow}), while private businesses--corporate '+\n",
    "       f'and noncorporate--were net {pb[\"lb\"]}s of {pb[\"vg\"]} '+\n",
    "       '(see\\cbox{purple!50!red}). In 2019, households were net '+\n",
    "       f'{hhpr[\"lb\"]}s of {hhpr[\"avt\"]} percent, and private businesses were net '+\n",
    "       f'{pbpr[\"lb\"]}s of {pbpr[\"avt\"]} percent.') \n",
    "write_txt(text_dir / 'sectbal2.txt', text)\n",
    "print(text)"
   ]
  },
  {
   "cell_type": "code",
   "execution_count": null,
   "metadata": {},
   "outputs": [],
   "source": []
  },
  {
   "cell_type": "code",
   "execution_count": null,
   "metadata": {},
   "outputs": [],
   "source": []
  },
  {
   "cell_type": "markdown",
   "metadata": {},
   "source": [
    "### Current Account Balance"
   ]
  },
  {
   "cell_type": "code",
   "execution_count": null,
   "metadata": {
    "ExecuteTime": {
     "end_time": "2022-02-24T13:40:23.897542Z",
     "start_time": "2022-02-24T13:40:23.645791Z"
    },
    "code_folding": []
   },
   "outputs": [],
   "source": [
    "s = ['A191RC']\n",
    "\n",
    "gdp = nipa_df(retrieve_table('T10105')['Data'], s)\n",
    "\n",
    "n = {'A1073C': 'Current receipts',\n",
    "     'B020RC': '\\hspace{1mm}Exports',\n",
    "     'A253RC': '\\hspace{3mm}Goods',\n",
    "     'A332RC': '\\hspace{5mm}Durable',\n",
    "     'A339RC': '\\hspace{5mm}Nondurable',\n",
    "     'A646RC': '\\hspace{3mm}Services',\n",
    "     'B645RC': '\\hspace{1mm}Income receipts',\n",
    "     'LA000035': '\\hspace{1mm}Transfer receipts',\n",
    "     'W163RC': 'Current payments',\n",
    "     'B021RC': '\\hspace{1mm}Imports',\n",
    "     'A255RC': '\\hspace{3mm}Goods',\n",
    "     'A333RC': '\\hspace{5mm}Durable',\n",
    "     'A340RC': '\\hspace{5mm}Nondurable',\n",
    "     'B656RC': '\\hspace{3mm}Services',\n",
    "     'A655RC': '\\hspace{1mm}Income payments',\n",
    "     'A123RC': '\\hspace{1mm}Transfer payments',\n",
    "     'A124RC': 'Current account balance'}\n",
    "\n",
    "s = ['A124RC', 'GOODS', 'SERVICES', 'INCOME', 'TRANSFERS']\n",
    "\n",
    "df = (nipa_df(retrieve_table('T40100')['Data'], n.keys())\n",
    "      .assign(GOODS = lambda x: x['A253RC'] - x['A255RC'],\n",
    "              SERVICES = lambda x: x['A646RC'] - x['B656RC'],\n",
    "              INCOME = lambda x: x['B645RC'] - x['A655RC'],\n",
    "              TRANSFERS = lambda x: - x['A123RC']))\n",
    "\n",
    "data = (df.div(nipa_df(retrieve_table('T10105')['Data'], ['A191RC']\n",
    "               )['A191RC'], axis=0).loc['1989':].multiply(100).round(2))\n",
    "\n",
    "data[s].dropna().to_csv(data_dir / 'cab.csv', index_label='date')\n",
    "\n",
    "cab = abs(data.dropna()['A124RC'].iloc[-1])\n",
    "tb = abs(data.dropna()['GOODS'].iloc[-1])\n",
    "ld = dtxt(data.dropna().index[-1])['qtr1']\n",
    "ltdate = dtxt(data.index[-1])['qtr1']\n",
    "prdate = dtxt(data.index[-2])['qtr1']\n",
    "lttbval = abs(data['GOODS'].iloc[-1])\n",
    "tbprval = abs(data['GOODS'].iloc[-2])\n",
    "prval = abs(data['A124RC'].iloc[-2])\n",
    "\n",
    "if pd.isna(data['A124RC'].iloc[-1]) == True:\n",
    "    mtxt = (f'The initial GDP report for {ltdate} does not include the '+\n",
    "            'data needed to calculate the current account balance, however, '+\n",
    "            f'the goods trade deficit for {ltdate} is equivalent to '+\n",
    "            f'{lttbval:.1f} percent of GDP. ')\n",
    "else:\n",
    "    mtxt = (f'In {prdate}, the current account deficit was equivalent to '\n",
    "            f'{prval:.1f}, and the trade deficit was equivalent to '+\n",
    "            f'{tbprval:.1f} percent of GDP.')\n",
    "\n",
    "text = (f'As of {ld}, the US runs a current account deficit of {cab:.1f} '+\n",
    "        'percent of GDP, primarily as the result of a trade deficit on '+\n",
    "        f'goods of {tb:.1f} percent of GDP. {mtxt}')\n",
    "write_txt(text_dir / 'cab.txt', text)\n",
    "print(text)"
   ]
  },
  {
   "cell_type": "code",
   "execution_count": null,
   "metadata": {
    "ExecuteTime": {
     "end_time": "2022-02-24T13:40:24.556672Z",
     "start_time": "2022-02-24T13:40:24.544503Z"
    }
   },
   "outputs": [],
   "source": [
    "result = data[n.keys()]\n",
    "data2 = result.iloc[-6:].iloc[::-1].T\n",
    "\n",
    "cols = [f' {q.year} Q{q.quarter}' \n",
    "        if i == 0 else f'`{str(q.year)[2:]} Q{q.quarter}'\n",
    "        for i, q in enumerate(data2.columns)]\n",
    "\n",
    "data2.columns = cols\n",
    "data2['3-year'] = result.rolling(13).mean().iloc[-1].round(2)\n",
    "data2['10-year'] = result.rolling(41).mean().iloc[-1].round(2)\n",
    "data2.index = data2.index.map(n)\n",
    "data2 = data2.applymap('{:.2f}'.format).replace('nan', '--')\n",
    "data2.to_csv(data_dir / 'cab.tex', sep='&', line_terminator='\\\\\\ ', quotechar=' ')"
   ]
  },
  {
   "cell_type": "code",
   "execution_count": null,
   "metadata": {},
   "outputs": [],
   "source": []
  },
  {
   "cell_type": "code",
   "execution_count": null,
   "metadata": {},
   "outputs": [],
   "source": []
  },
  {
   "cell_type": "markdown",
   "metadata": {},
   "source": [
    "### Federal Interest Outlays share of GDP"
   ]
  },
  {
   "cell_type": "code",
   "execution_count": 188,
   "metadata": {
    "ExecuteTime": {
     "end_time": "2022-03-04T04:23:11.609444Z",
     "start_time": "2022-03-04T04:23:10.855181Z"
    },
    "scrolled": false
   },
   "outputs": [
    {
     "name": "stdout",
     "output_type": "stream",
     "text": [
      "The Office of Management and Budget \\href{https://www.whitehouse.gov/omb/historical-tables/}{report} federal interest outlays of \\$352 billion in fiscal year 2021, compared to \\$345 billion in fiscal year 2020. Put into the context of the size of the economy, federal interest outlays in fiscal year 2021 were equivalent to 1.58 percent of GDP (see {\\color{magenta}\\textbf{---}}), following 1.65 percent of GDP in FY2020 and 1.77 percent in FY2019, and compared to an average of 2.9 percent in the 1990s, when interest rates were substantially higher. \n"
     ]
    }
   ],
   "source": [
    "gdp = nipa_df(retrieve_table('T10105')['Data'], ['A191RC'])\n",
    "gdp.index = gdp.index + pd.DateOffset(months=3)\n",
    "tot = fred_df('FYOINT')['VALUE']\n",
    "tot.index = tot.index + pd.DateOffset(days=1)\n",
    "df = (tot / gdp.A191RC.rolling(4).mean()).dropna() * 100\n",
    "df.name = 'value'\n",
    "df.to_csv(data_dir / 'fedintexp.csv', index_label='date', header=True)\n",
    "write_txt(text_dir / 'fedintexp_node.txt', end_node(df, 'magenta', digits=2,\n",
    "                                                    percent=True, date='fy'))\n",
    "val90s = df.loc['1990':'1999'].mean()\n",
    "\n",
    "text = ('The Office of Management and Budget '+\n",
    "        '\\href{https://www.whitehouse.gov/omb/historical-tables/}{report} '+\n",
    "        f'federal interest outlays of \\${tot.iloc[-1] / 1000:.0f} '+\n",
    "        f'billion in fiscal year {tot.index[-1].year}, compared to '+\n",
    "        f'\\${tot.iloc[-2] / 1000:.0f} billion in fiscal year '+\n",
    "        f'{tot.index[-2].year}. Put into the context of the size of '+\n",
    "        f'the economy, federal interest outlays in fiscal year '+\n",
    "        f'{df.index[-1].year} were equivalent to {df.iloc[-1]:.2f} '+\n",
    "        'percent of GDP (see {\\color{magenta}\\\\textbf{---}}), following '+\n",
    "        f'{df.iloc[-2]:.2f} percent of GDP in FY{df.index[-2].year} '+\n",
    "        f'and {df.iloc[-3]:.2f} percent in FY{df.index[-3].year}, '+\n",
    "        f'and compared to an average of {val90s:.1f} percent in '+\n",
    "        'the 1990s, when interest rates were substantially higher. ')\n",
    "write_txt(text_dir / 'fedintexp.txt', text)\n",
    "print(text)"
   ]
  },
  {
   "cell_type": "code",
   "execution_count": null,
   "metadata": {},
   "outputs": [],
   "source": []
  },
  {
   "cell_type": "code",
   "execution_count": null,
   "metadata": {
    "ExecuteTime": {
     "end_time": "2022-01-31T23:52:09.587506Z",
     "start_time": "2022-01-31T23:52:09.584044Z"
    }
   },
   "outputs": [],
   "source": [
    "#nipa_series_codes(retrieve_table('T20100'))"
   ]
  },
  {
   "cell_type": "markdown",
   "metadata": {},
   "source": [
    "### Corporate Profits Destination"
   ]
  },
  {
   "cell_type": "code",
   "execution_count": null,
   "metadata": {
    "ExecuteTime": {
     "end_time": "2022-02-24T13:40:31.962404Z",
     "start_time": "2022-02-24T13:40:31.869808Z"
    }
   },
   "outputs": [],
   "source": [
    "s = ['A032RC', 'A438RC', 'A054RC', 'B056RC', 'A127RC']\n",
    "df = (nipa_df(retrieve_table('T11200')['Data'], s)\n",
    "         / 1_000_000).dropna().rename({})\n",
    "df['NNI'] = df['A032RC'] - df['A438RC']\n",
    "df['TOT'] = df[['A054RC', 'B056RC', 'A127RC']].sum(axis=1)\n",
    "dt = df.index[-1]\n",
    "ltdate = dtxt(df.index[-1])['qtr2']\n",
    "sh = df.div(df.NNI, axis=0) * 100\n",
    "(sh.loc['1989':, ['A054RC', 'B056RC', 'A127RC']]\n",
    "   .to_csv(data_dir / 'cprof.csv', index_label='date'))\n",
    "taxrt = ((df.A054RC / df.TOT) * 100).loc['1989':]\n",
    "taxrt.to_csv(data_dir / 'cprof_taxrt.csv', index_label='date')\n",
    "totsh19 = sh.loc['2019', 'TOT'].mean()\n",
    "divsh19 = sh.loc['2019', 'B056RC'].mean()\n",
    "resh19 = sh.loc['2019', 'A127RC'].mean()\n",
    "taxsh19 = sh.loc['2019', 'A054RC'].mean()\n",
    "taxrt19 = taxrt.loc['2019'].mean()\n",
    "text = (f'In {ltdate}, corporate profits were '+\n",
    "        f'\\${df.TOT.iloc[-1]:.2f} trillion, equivalent to '+\n",
    "        f'{sh.TOT.iloc[-1]:.1f} percent of the income paid '+\n",
    "        'to US nationals after depreciation costs (net national '+\n",
    "        f'income). Of this, \\${df.B056RC.iloc[-1]:.2f} trillion, '+\n",
    "        f'equivalent to {sh.B056RC.iloc[-1]:.1f} percent of '+\n",
    "        'net national income, were paid out as dividends '+\n",
    "        '(see\\cbox{blue!70!purple}), '+\n",
    "        f'\\${df.A127RC.iloc[-1] * 1000:,.0f} billion were '+\n",
    "        'retained (corporate saving, see\\cbox{cyan!50!white}), '+\n",
    "        f'and \\${df.A054RC.iloc[-1] * 1000:.0f} billion, '+\n",
    "        f'{taxrt.iloc[-1]:.1f} percent of corporate profits, '+\n",
    "        'went to corporate income tax (see\\cbox{red!80!orange}). \\n\\n'+\n",
    "        f'In 2019, corporate profits were {totsh19:.1f} percent '+\n",
    "        'of net national income. Dividends were equivalent to '+\n",
    "        f'{divsh19:.1f} percent, corporate savings were '+\n",
    "        f'{resh19:.1f} percent, and corporate income taxes were '+\n",
    "        f'{taxsh19:.1f} percent of net national income '+\n",
    "        f'and {taxrt19:.1f} percent of corporate profits.')\n",
    "write_txt(text_dir / 'cprof.txt', text)\n",
    "print(text)"
   ]
  },
  {
   "cell_type": "code",
   "execution_count": null,
   "metadata": {},
   "outputs": [],
   "source": []
  },
  {
   "cell_type": "code",
   "execution_count": null,
   "metadata": {},
   "outputs": [],
   "source": []
  },
  {
   "cell_type": "markdown",
   "metadata": {},
   "source": [
    "### Corporate profits source"
   ]
  },
  {
   "cell_type": "code",
   "execution_count": null,
   "metadata": {
    "ExecuteTime": {
     "end_time": "2022-02-24T13:40:34.221859Z",
     "start_time": "2022-02-24T13:40:34.103770Z"
    }
   },
   "outputs": [],
   "source": [
    "s = ['W170RC', 'A262RC', 'W986RC', 'A922RC']\n",
    "df1 = nipa_df(retrieve_table('T50100')['Data'], s)\n",
    "\n",
    "s = ['A123RC']\n",
    "df2 = nipa_df(retrieve_table('T40100')['Data'], s)\n",
    "\n",
    "s = ['A001RC']\n",
    "df3 = nipa_df(retrieve_table('T10705')['Data'], s)\n",
    "\n",
    "cprof = pd.DataFrame()\n",
    "cprof['ROW Saving'] = (df2['A123RC'] / df3['A001RC']) * 100\n",
    "cprof['HH Saving'] = (- df1['W986RC'] / df3['A001RC']) * 100\n",
    "cprof['Gov Saving'] = (- df1['A922RC'] / df3['A001RC']) * 100\n",
    "cprof['Investment'] = ((df1['W170RC'] - df1['A262RC']) / df3['A001RC']) * 100\n",
    "\n",
    "cprof.loc['1989':].to_csv(data_dir / 'cprof2.csv', index_label='date')"
   ]
  },
  {
   "cell_type": "code",
   "execution_count": null,
   "metadata": {
    "ExecuteTime": {
     "end_time": "2022-01-31T23:52:09.805169Z",
     "start_time": "2022-01-31T23:52:09.803409Z"
    },
    "code_folding": []
   },
   "outputs": [],
   "source": [
    "#nipa_series_codes(retrieve_table('T50100'))"
   ]
  },
  {
   "cell_type": "code",
   "execution_count": null,
   "metadata": {},
   "outputs": [],
   "source": []
  },
  {
   "cell_type": "code",
   "execution_count": null,
   "metadata": {},
   "outputs": [],
   "source": []
  },
  {
   "cell_type": "markdown",
   "metadata": {},
   "source": [
    "### Labor Productivity"
   ]
  },
  {
   "cell_type": "code",
   "execution_count": 183,
   "metadata": {
    "ExecuteTime": {
     "end_time": "2022-03-04T04:22:39.067285Z",
     "start_time": "2022-03-04T04:22:39.065281Z"
    }
   },
   "outputs": [],
   "source": [
    "# Series stored as a dictionary\n",
    "series = {'PRS85006092': 'value',\n",
    "          'PRS85006032': 'hours',\n",
    "          'PRS85006042': 'output',\n",
    "          'PRS85006033': 'hours_index'}"
   ]
  },
  {
   "cell_type": "code",
   "execution_count": 184,
   "metadata": {
    "ExecuteTime": {
     "end_time": "2022-03-04T04:22:50.242611Z",
     "start_time": "2022-03-04T04:22:42.461383Z"
    }
   },
   "outputs": [
    {
     "name": "stdout",
     "output_type": "stream",
     "text": [
      "Post Request Status: REQUEST_SUCCEEDED\n"
     ]
    }
   ],
   "source": [
    "# Start year and end year\n",
    "dates = (1989, 2023)\n",
    "df = bls_api(series, dates, bls_key)\n",
    "\n",
    "df.to_csv(data_dir / 'lprod.csv', index_label='date')"
   ]
  },
  {
   "cell_type": "code",
   "execution_count": 185,
   "metadata": {
    "ExecuteTime": {
     "end_time": "2022-03-04T04:22:52.433405Z",
     "start_time": "2022-03-04T04:22:52.419441Z"
    }
   },
   "outputs": [
    {
     "name": "stdout",
     "output_type": "stream",
     "text": [
      "In 2021 Q4, labor productivity increased at an annual rate of 6.6 percent (see\\cbox{teal}), as the result of an increase of 9.1 percent in real ouput and an increase of 2.4 percent in hours worked. In the prior quarter, 2021 Q3, labor productivity decreased at an annual rate of 3.9 percent, as real output increased two percent and hours of work increased 6.2 percent. Over the past five years, labor productivity growth has averaged 1.9 percent, slightly below the 1989-onward average of 2.0 percent. \n",
      "\n",
      "Total hours worked in nonfarm businesses increased at an annual rate of 2.4 percent in 2021 Q4, following an increase of 6.2 percent in 2021 Q3. From 2017 through 2019, total hours worked increased at an average rate of 1.4 percent. Since 2019, hours worked have decreased by a total of 0.4 percent.\n"
     ]
    }
   ],
   "source": [
    "df = pd.read_csv(data_dir / 'lprod.csv', \n",
    "                 index_col='date', parse_dates=True)\n",
    "ltdt = dtxt(df.index[-1])['qtr1']\n",
    "prdt = dtxt(df.index[-2])['qtr1']\n",
    "d = series_info(df['value'])\n",
    "s = {srs: {'lt': value_text(df[srs].iloc[-1], adj='annual'), \n",
    "           'pr': value_text(df[srs].iloc[-2], adj='annual'), \n",
    "           'lt2': value_text(df[srs].iloc[-1], style='increase_of'), \n",
    "           'pr2': value_text(df[srs].iloc[-2]),\n",
    "           'pr3': value_text(df[srs].iloc[-2], style='increase_of')} \n",
    "     for srs in series.values()}\n",
    "compare = compare_text(d['five_year_mean'], d['mean'], [0.1, 0.5, 2.0])\n",
    "\n",
    "text = (f'In {ltdt}, labor productivity {s[\"value\"][\"lt\"]} '+\n",
    "        f'(see\\cbox{{teal}}), as the result of {s[\"output\"][\"lt2\"]} in '+\n",
    "        f'real ouput and {s[\"hours\"][\"lt2\"]} in hours worked. In the '+\n",
    "        f'prior quarter, {prdt}, labor productivity {s[\"value\"][\"pr\"]}, '+\n",
    "        f'as real output {s[\"output\"][\"pr2\"]} and hours of work '+\n",
    "        f'{s[\"hours\"][\"pr2\"]}. Over the past five years, labor productivity '+\n",
    "        f'growth has averaged {d[\"five_year_mean\"]:.1f} percent, '+\n",
    "        f'{compare} the 1989-onward average of {d[\"mean\"]:.1f} percent.')\n",
    "write_txt(text_dir / 'lprod.txt', text)\n",
    "print(text, '\\n')\n",
    "\n",
    "hr19 = value_text(df.loc['2017': '2019', 'hours'].mean(), adj='average')\n",
    "ch19 = (df['hours_index'].iloc[-1] / \n",
    "        df.loc['2019-10-01', 'hours_index'] - 1) * 100\n",
    "ch19txt = value_text(ch19, 'increase_by', adj='total')\n",
    "text = (f'Total hours worked in nonfarm businesses {s[\"hours\"][\"lt\"]} '+\n",
    "        f'in {ltdt}, following {s[\"hours\"][\"pr3\"]} in {prdt}. From '+\n",
    "        f'2017 through 2019, total hours worked {hr19}. Since 2019, '+\n",
    "        f'hours worked have {ch19txt}.')\n",
    "write_txt(text_dir / 'tot_hours.txt', text)\n",
    "print(text)"
   ]
  },
  {
   "cell_type": "code",
   "execution_count": null,
   "metadata": {},
   "outputs": [],
   "source": []
  },
  {
   "cell_type": "code",
   "execution_count": null,
   "metadata": {},
   "outputs": [],
   "source": []
  },
  {
   "cell_type": "markdown",
   "metadata": {},
   "source": [
    "### Gross Labor Income"
   ]
  },
  {
   "cell_type": "code",
   "execution_count": 186,
   "metadata": {
    "ExecuteTime": {
     "end_time": "2022-03-04T04:22:59.268299Z",
     "start_time": "2022-03-04T04:22:57.004470Z"
    }
   },
   "outputs": [
    {
     "name": "stdout",
     "output_type": "stream",
     "text": [
      "Post Request Status: REQUEST_SUCCEEDED\n"
     ]
    }
   ],
   "source": [
    "s = {'LNS12005054': 'Hours', 'LNS12000000': 'Employment'}\n",
    "df = bls_api(s, (1989, 2023), bls_key)\n",
    "df['Total'] = df['Hours'] * df['Employment']\n",
    "df.to_csv(data_dir / 'emp_hrs.csv', index_label='date')"
   ]
  },
  {
   "cell_type": "code",
   "execution_count": 187,
   "metadata": {
    "ExecuteTime": {
     "end_time": "2022-03-04T04:23:01.636254Z",
     "start_time": "2022-03-04T04:23:01.568397Z"
    }
   },
   "outputs": [
    {
     "name": "stdout",
     "output_type": "stream",
     "text": [
      "increased at an annualized and inflation-adjusted rate of 3.32 percent in 2021 Q4. Changes in wages subtracted 1.68 percentage points, and changes in total hours worked contributed 5.00 percentage points.\n"
     ]
    }
   ],
   "source": [
    "emp = (pd.read_csv(data_dir / 'emp_hrs.csv', parse_dates=[0])\n",
    "         .set_index('date')['Total'])\n",
    "coe = nipa_df(retrieve_table('T20100')['Data'], ['A033RC'])\n",
    "pce = nipa_df(retrieve_table('T20304')['Data'], ['DPCERG'])\n",
    "data = coe.join(pce).join(emp.resample('QS').mean()).dropna()\n",
    "data['real_coe'] = data['A033RC'] / (data['DPCERG'] / data['DPCERG'].iloc[-1])\n",
    "data['coe_inp'] = data['real_coe'] / data['Total']\n",
    "data['wage'] = data['coe_inp'] * data['Total'].iloc[0]\n",
    "data['work'] = data['real_coe'] - data['wage']\n",
    "\n",
    "# Calculate contributions to growth\n",
    "result = growth_contrib(data, 'real_coe')[['work', 'wage']]\n",
    "result.dropna().loc['1989':]\n",
    "result.to_csv(data_dir / 'gli.csv', index_label='date')\n",
    "\n",
    "ltdate = dtxt(result.index[-1])['qtr1']\n",
    "totval = result.iloc[-1].sum()\n",
    "wage = result['wage'].iloc[-1]\n",
    "work = result['work'].iloc[-1]\n",
    "\n",
    "incdec = 'increased' if totval > 0 else 'decreased'\n",
    "txt1 = (f'{incdec} at an annualized and inflation-adjusted '+\n",
    "        f'rate of {abs(totval):.2f} percent')\n",
    "\n",
    "if totval == 0:\n",
    "    txt1 = 'was unchanged, after adjusting for inflation,'\n",
    "    \n",
    "txt2 = cont_subt(wage, style='end')\n",
    "txt3 = cont_subt(work, style='end')\n",
    "\n",
    "text = (f'{txt1} in {ltdate}. Changes in wages {txt2}, '+\n",
    "        f'and changes in total hours worked {txt3}.')\n",
    "write_txt(text_dir / 'gli.txt', text)\n",
    "print(text)"
   ]
  },
  {
   "cell_type": "code",
   "execution_count": null,
   "metadata": {},
   "outputs": [],
   "source": []
  },
  {
   "cell_type": "code",
   "execution_count": null,
   "metadata": {},
   "outputs": [],
   "source": []
  },
  {
   "cell_type": "markdown",
   "metadata": {},
   "source": [
    "### Financial Obligations Ratio"
   ]
  },
  {
   "cell_type": "code",
   "execution_count": null,
   "metadata": {
    "ExecuteTime": {
     "end_time": "2022-03-02T18:32:24.429613Z",
     "start_time": "2022-03-02T18:32:24.172096Z"
    }
   },
   "outputs": [],
   "source": [
    "base = 'https://www.federalreserve.gov/datadownload/Output.aspx?'\n",
    "srs = 'rel=FOR&series=1dc13603606b1a2cf3c07004eeb7f026&lastobs=&'\n",
    "dt = 'from=01/01/1989&to=12/31/2022&'\n",
    "oth = 'filetype=csv&label=include&layout=seriescolumn'\n",
    "url = base + srs + dt + oth\n",
    "\n",
    "d, clean_data = clean_fed_data(url)\n",
    "\n",
    "d = {k: v.replace(', seasonally adjusted', '') for k, v in d.items()}\n",
    "\n",
    "data = clean_data.rename(d, axis=1)\n",
    "data.to_csv(data_dir / 'for.csv', index_label='date')\n",
    "\n",
    "node = end_node(data['Financial obligations ratio'], 'blue!80!black', \n",
    "                percent=True, date='q', full_year=True)\n",
    "write_txt(text_dir / 'for_node.txt', node)\n",
    "\n",
    "ltdate = dtxt(data.index[-1])['qtr1']\n",
    "ltval = data['Financial obligations ratio'].iloc[-1]\n",
    "\n",
    "node2 = end_node(data['Debt service ratio'], 'red', percent=True)\n",
    "write_txt(text_dir / 'dsr_node.txt', node2)\n",
    "\n",
    "dsrval = data['Debt service ratio'].iloc[-1]\n",
    "\n",
    "text = (f'As of {ltdate}, the financial obligations ratio is {ltval:.1f} '+\n",
    "        'percent (see {\\color{blue!80!black}\\\\textbf{---}}), '+\n",
    "        f'and the debt service ratio is {dsrval:.1f} percent '+\n",
    "        '(see {\\color{red}\\\\textbf{---}}).')\n",
    "write_txt(text_dir / 'for.txt', text)\n",
    "print(text)"
   ]
  },
  {
   "cell_type": "code",
   "execution_count": null,
   "metadata": {},
   "outputs": [],
   "source": []
  },
  {
   "cell_type": "code",
   "execution_count": null,
   "metadata": {},
   "outputs": [],
   "source": []
  },
  {
   "cell_type": "markdown",
   "metadata": {},
   "source": [
    "### Shiller real return trailing 20-year average"
   ]
  },
  {
   "cell_type": "code",
   "execution_count": null,
   "metadata": {
    "ExecuteTime": {
     "end_time": "2022-03-02T18:32:32.246705Z",
     "start_time": "2022-03-02T18:32:29.869204Z"
    }
   },
   "outputs": [],
   "source": [
    "url = 'http://www.econ.yale.edu/~shiller/data/ie_data.xls'\n",
    "data = pd.read_excel(url, sheet_name='Data', header=7, \n",
    "                     index_col='Date').dropna(subset=['TR CAPE'])\n",
    "data.index = pd.to_datetime(data.index.format())\n",
    "data.loc['1989':, 'TR CAPE'].to_csv(data_dir / 'catrpe.csv', \n",
    "                                    index_label='date')\n",
    "node = end_node(data['TR CAPE'], 'blue!80!black', date='m')\n",
    "write_txt(text_dir / 'cape_node.txt', node)\n",
    "col = ['Price', 'Dividend']\n",
    "df = data.loc['1960':, col].dropna()\n",
    "for yrs in [10, 15, 20]:\n",
    "    mos = yrs * 12\n",
    "    dy = (df.Dividend / df.Price).rolling(mos).mean()\n",
    "    pch = (df.Price.pct_change(mos)+1)**(1/yrs) - 1\n",
    "    df[f'Return{yrs}'] = (dy + pch) * 100\n",
    "    \n",
    "res = df.loc['1989':, ~df.columns.isin(col)]\n",
    "res.to_csv(data_dir / f'sp500rr.csv', index_label='date', \n",
    "           float_format='%g')\n",
    "\n",
    "url = 'http://www.econ.yale.edu/~shiller/data.htm'\n",
    "lt20 = df['Return20'].iloc[-1]\n",
    "ltdt = dtxt(df.index[-1])['mon1']\n",
    "pr = df['Return20'].loc['1995':'2005'].mean()\n",
    "cl = c_line('green!80!blue')\n",
    "text = (f'According to historical stock market \\href{{{url}}}'+\n",
    "        '{data} from Robert Shiller, the inflation-adjusted '+\n",
    "        'trailing twenty-year annual rate of return of the S\\&P '+\n",
    "        f'500 was {lt20:.1f} percent as of {ltdt} {cl}. Long-'+\n",
    "        'term real returns are currently low relative to the '+\n",
    "        'average trailing twenty year real annual return of '+\n",
    "        f'{pr:.1f} percent during 1995--2005.')\n",
    "write_txt(text_dir / 'sp500rr.txt', text)\n",
    "print(text)"
   ]
  },
  {
   "cell_type": "code",
   "execution_count": null,
   "metadata": {},
   "outputs": [],
   "source": []
  },
  {
   "cell_type": "code",
   "execution_count": null,
   "metadata": {},
   "outputs": [],
   "source": []
  },
  {
   "cell_type": "markdown",
   "metadata": {},
   "source": [
    "### High Quality Corporate Bond Yield"
   ]
  },
  {
   "cell_type": "code",
   "execution_count": 182,
   "metadata": {
    "ExecuteTime": {
     "end_time": "2022-03-04T04:22:26.652435Z",
     "start_time": "2022-03-04T04:22:26.135567Z"
    }
   },
   "outputs": [
    {
     "name": "stdout",
     "output_type": "stream",
     "text": [
      "The yield on high-quality corporate bonds with a maturity of 10 years is 2.93 percent in January 2022, following 2.61 percent in December 2021. One year prior, in January 2021, this spot rate was 2.18 percent, and two years prior, in January 2020, it was 2.79 percent.\n"
     ]
    }
   ],
   "source": [
    "df = fred_df('HQMCB10YR')\n",
    "df.to_csv(data_dir / 'hqcb.csv', index_label='date')\n",
    "node = end_node(df['VALUE'], 'blue!60!violet', date='m', percent=True, \n",
    "                full_year=True, digits=2)\n",
    "write_txt(text_dir / 'hqcb_node.txt', node)\n",
    "\n",
    "ltval = df.VALUE.iloc[-1]\n",
    "prval = df.VALUE.iloc[-2]\n",
    "prval2 = df.VALUE.iloc[-13]\n",
    "prval3 = df.VALUE.iloc[-25]\n",
    "ltdate = dtxt(df.index[-1])['mon1']\n",
    "prdate = dtxt(df.index[-2])['mon1']\n",
    "prdate2 = dtxt(df.index[-13])['mon1']\n",
    "prdate3 = dtxt(df.index[-25])['mon1']\n",
    "\n",
    "text = (f'The yield on high-quality corporate bonds with a maturity '+\n",
    "        f'of 10 years is {ltval:.2f} percent in {ltdate}, following '+\n",
    "        f'{prval:.2f} percent in {prdate}. One year prior, in '+\n",
    "        f'{prdate2}, this spot rate was {prval2:.2f} percent, and '+\n",
    "        f'two years prior, in {prdate3}, it was {prval3:.2f} percent.')\n",
    "write_txt(text_dir / 'hqcb.txt', text)\n",
    "print(text)"
   ]
  },
  {
   "cell_type": "code",
   "execution_count": null,
   "metadata": {},
   "outputs": [],
   "source": []
  },
  {
   "cell_type": "code",
   "execution_count": null,
   "metadata": {},
   "outputs": [],
   "source": []
  },
  {
   "cell_type": "markdown",
   "metadata": {},
   "source": [
    "### Treasury Monthly Data"
   ]
  },
  {
   "cell_type": "code",
   "execution_count": null,
   "metadata": {
    "ExecuteTime": {
     "end_time": "2022-02-10T20:15:15.869550Z",
     "start_time": "2022-02-10T20:15:11.485521Z"
    }
   },
   "outputs": [],
   "source": [
    "cols = ['record_date', 'classification_desc', \n",
    "        'current_month_rcpt_outly_amt']\n",
    "fields = ','.join(cols)\n",
    "lines = ','.join(['2', '3', '5', '6', '7', '12'])\n",
    "url = ('https://api.fiscaldata.treasury.gov/services/api/'+\n",
    "       'fiscal_service/v1/accounting/mts/mts_table_9'+\n",
    "       f'?filter=src_line_nbr:in:({lines})&format=csv&'+\n",
    "       f'fields={fields}&page[size]=500')\n",
    "\n",
    "other = lambda x: x['Total'] - x['Individual Income Taxes']\n",
    "si_cols = ['Employment and General Retirement', 'Other Retirement', \n",
    "           'Unemployment Insurance']\n",
    "si = lambda x: x[si_cols].sum(axis=1)\n",
    "df = (pd.read_csv(url, index_col=cols[:2], parse_dates=True)\n",
    "        ['current_month_rcpt_outly_amt']\n",
    "        .unstack().astype('float').divide(1_000_000_000_000)\n",
    "        .assign(Other = other, SI = si).rolling(12).sum().dropna())\n",
    "df.to_csv(data_dir / 'tmb_rec.csv', float_format='%g', \n",
    "          index_label='date')"
   ]
  },
  {
   "cell_type": "code",
   "execution_count": null,
   "metadata": {
    "ExecuteTime": {
     "end_time": "2022-03-02T18:32:46.641129Z",
     "start_time": "2022-03-02T18:32:46.633778Z"
    }
   },
   "outputs": [],
   "source": [
    "df = pd.read_csv(data_dir / 'tmb_rec.csv', index_col='date', \n",
    "                 parse_dates=True)\n",
    "col_iit = 'blue!70!black'\n",
    "write_txt(text_dir / 'tmb_rec_iit.txt', \n",
    "          end_node(df['Individual Income Taxes'], col_iit))\n",
    "cl_iit = c_line(col_iit)\n",
    "col_oth = 'blue!40!cyan'\n",
    "write_txt(text_dir / 'tmb_rec_oth.txt', \n",
    "          end_node(df['Other'], col_oth))\n",
    "cl_oth = c_line(col_oth)\n",
    "\n",
    "# Text \n",
    "url = 'https://fiscal.treasury.gov/reports-statements/mts/current.html'\n",
    "tval = df.iloc[-1].apply(lambda x: f'\\${x:.1f} trillion')\n",
    "ltdt = dtxt(df.index[-1])['mon1']\n",
    "text = (f'The United States Treasury \\href{{{url}}}{{report}} '+\n",
    "        'federal government receipts and outlays in the Monthly '+\n",
    "        f'Treasury Statement. 'f'Over the 12 months ending {ltdt}, '+\n",
    "        f'Federal government receipts total {tval[\"Total\"]}, of '+\n",
    "        f'which {tval[\"Individual Income Taxes\"]} are from '+\n",
    "        f'individual income taxes {cl_iit}. The remaining receipts '+\n",
    "        f'{cl_oth} are largely social insurance contributions '+\n",
    "        f'({tval[\"SI\"]}) and corporate income taxes '+\n",
    "        f'({tval[\"Corporation Income Taxes\"]}).')\n",
    "write_txt(text_dir / 'tmb_rec.txt', text)\n",
    "print(text)"
   ]
  },
  {
   "cell_type": "code",
   "execution_count": null,
   "metadata": {},
   "outputs": [],
   "source": []
  },
  {
   "cell_type": "code",
   "execution_count": null,
   "metadata": {},
   "outputs": [],
   "source": []
  },
  {
   "cell_type": "markdown",
   "metadata": {},
   "source": [
    "### International Investment Position (IIP)"
   ]
  },
  {
   "cell_type": "code",
   "execution_count": null,
   "metadata": {
    "ExecuteTime": {
     "end_time": "2022-02-24T13:41:04.145541Z",
     "start_time": "2022-02-24T13:41:02.462279Z"
    }
   },
   "outputs": [],
   "source": [
    "# Annual GDP for 1988-2005\n",
    "s = 'A191RC'\n",
    "r = bea_api_nipa([f'T10105'], bea_key, freq='A')\n",
    "data = json.loads(r[0][2])['BEAAPI']['Results']\n",
    "date = lambda x: (pd.to_datetime(x.TimePeriod) + \n",
    "                  pd.DateOffset(months=6))\n",
    "value = lambda x: x.DataValue.str.replace(',','')\n",
    "gdpa = (pd.DataFrame(data['Data']).query('SeriesCode == @s')\n",
    "          .assign(date = date, value=value).set_index('date')\n",
    "          .loc[:'2005', 'value'].astype(int))\n",
    "gdpq = nipa_df(retrieve_table('T10105')['Data'], [s])[s]\n",
    "gdp = gdpa.append(gdpq.loc['2006':])\n",
    "\n",
    "srs = ['FinAssets', 'FinLiabs', 'Net']\n",
    "years = ','.join(map(str, range(1988, 2022)))\n",
    "res = pd.DataFrame()\n",
    "for s in srs:\n",
    "    url = (f'https://apps.bea.gov/api/data/?&UserID={bea_key}'+\n",
    "           f'&method=GetData&datasetname=IIP&TypeOfInvestment={s}'+\n",
    "           f'&Component=Pos&Frequency=A,QNSA&Year={years}')\n",
    "    r = requests.get(url)\n",
    "    t = pd.DataFrame(r.json()['BEAAPI']['Data'])\n",
    "    a = t.query('Frequency == \"A\"')[['TimePeriod', 'DataValue']]\n",
    "    a = a.set_index(pd.to_datetime(a['TimePeriod']) + \n",
    "                    pd.DateOffset(months=6)).loc[:'2005', 'DataValue']\n",
    "    q = t.query('Frequency == \"QNSA\"')[['TimePeriod', 'DataValue']]\n",
    "    q = q.set_index(pd.to_datetime(q['TimePeriod']))['DataValue']\n",
    "    res[s] = a.append(q).astype('float')\n",
    "\n",
    "sh = res.divide(gdp, axis=0).multiply(100).dropna()\n",
    "sh.to_csv(data_dir / 'iip.csv', index_label='date')\n",
    "\n",
    "tot = res.iloc[-1] / 1_000_000\n",
    "lt = sh.iloc[-1]\n",
    "ltdt = dtxt(sh.index[-1])['qtr1']\n",
    "pr = sh.iloc[-2]\n",
    "prdt = dtxt(sh.index[-2])['qtr1']\n",
    "pr19 = sh.loc['2019'].mean()\n",
    "col_a, col_l, col_n = 'blue!95!violet', 'red', 'cyan!25!white'\n",
    "\n",
    "text = (f'In {ltdt}, domestic holdings of foreign assets total '+\n",
    "        f'\\${tot.FinAssets:.1f} trillion, equivalent to {lt.FinAssets:.1f} '+\n",
    "        f'percent of GDP {c_line(col_a)}. In {prdt}, these assets were '+\n",
    "        f'equivalent to {pr.FinAssets:.1f} percent of GDP, and in '+\n",
    "        f'2019, they were equivalent to {pr19.FinAssets:.1f} percent. '+\n",
    "        'Domestic liabilities to the foreign sector total '+\n",
    "        f'\\${tot.FinLiabs:.1f} trillion, or {lt.FinLiabs:.1f} percent of '+\n",
    "        f'GDP, in {ltdt}, following {pr.FinLiabs:.1f} percent in {prdt}, '+\n",
    "        f'and {pr19.FinLiabs:.1f} percent in 2019 {c_line(col_l)}.\\n\\n'+\n",
    "        f'The overall result of these financial positions, net IIP, or '+\n",
    "        'holdings of foreign assets minus liabilities, identifies the '+\n",
    "        'US as a net debtor to the rest of the world, to the equivalent '+\n",
    "        f'of {abs(lt.Net):.1f} percent of GDP in {ltdt}, following '\n",
    "        f'{abs(pr.Net):.1f} percent in {prdt}, and {abs(pr19.Net):.1f} '+\n",
    "        f'percent in 2019 {c_box(col_n)}.')\n",
    "write_txt(text_dir / 'niip.txt', text)\n",
    "print(text)"
   ]
  },
  {
   "cell_type": "code",
   "execution_count": null,
   "metadata": {},
   "outputs": [],
   "source": []
  },
  {
   "cell_type": "code",
   "execution_count": null,
   "metadata": {},
   "outputs": [],
   "source": []
  },
  {
   "cell_type": "markdown",
   "metadata": {},
   "source": [
    "### H.6 Money Stock - M2 (Monthly)"
   ]
  },
  {
   "cell_type": "code",
   "execution_count": null,
   "metadata": {
    "ExecuteTime": {
     "end_time": "2022-02-24T23:17:27.925355Z",
     "start_time": "2022-02-24T23:17:27.679120Z"
    }
   },
   "outputs": [],
   "source": [
    "url = ('https://www.federalreserve.gov/datadownload/Output.aspx?'+\n",
    "       'rel=H6&series=411c4c269dc600450339f8d4809d80eb&lastobs=&'+\n",
    "       'from=01/01/1987&to=12/31/2022&filetype=csv&label=include&'+\n",
    "       'layout=seriescolumn')\n",
    "d, df = clean_fed_data(url)\n",
    "df.rename(d, axis=1).to_csv(data_dir / 'h6raw.csv', index_label='date')"
   ]
  },
  {
   "cell_type": "code",
   "execution_count": null,
   "metadata": {
    "ExecuteTime": {
     "end_time": "2022-02-24T23:44:28.271587Z",
     "start_time": "2022-02-24T23:44:28.253234Z"
    }
   },
   "outputs": [],
   "source": [
    "df = pd.read_csv(data_dir / 'h6raw.csv', index_col='date', \n",
    "                 parse_dates=True)\n",
    "ltdate = dtxt(df.index[-1])['mon1']\n",
    "prmodt = dtxt(df.index[-2])['mon1']\n",
    "ltval = df['M2'].iloc[-1] / 1000.0\n",
    "one_yr = value_text(df['M2'].pct_change(12).iloc[-1] * 100)\n",
    "pr_mo = value_text(df['M2'].pct_change(12).iloc[-2] * 100, \n",
    "                   style='increase_of')\n",
    "two_yr = value_text(df['M2'].pct_change(24).iloc[-1] * 100)\n",
    "txt1 = (f'As of {ltdate}, the M2 money stock totals \\${ltval:.1f} '+\n",
    "        'trillion.')\n",
    "write_txt(text_dir / 'm2lvl.txt', txt1)\n",
    "txt2 = (f'The M2 money stock {one_yr} over the past year (ending '+\n",
    "        f'{ltdate}), compared to {pr_mo} over the year ending {prmodt}. '+\n",
    "        f'The M2 money stock has {two_yr}, in total, over the past '+\n",
    "        'two years. ')\n",
    "write_txt(text_dir / 'm2chg.txt', txt2)\n",
    "print(txt1, '\\n', txt2)\n",
    "\n",
    "r = pd.DataFrame({'value': df['M2'].pct_change(12) * 100,\n",
    "                  '3M': m3rate(df['M2']),\n",
    "                  '1M': (((df.M2.pct_change() + 1) ** 12) - 1) * 100}\n",
    "                ).loc['1989':]\n",
    "r.value.to_csv(data_dir / 'm2.csv', index_label='date', header=True,\n",
    "         float_format='%g')\n",
    "\n",
    "node = end_node(r.value, 'green!80!blue', percent=True, \n",
    "                date='m', full_year=True)\n",
    "write_txt(text_dir / 'm2_node.txt', node)"
   ]
  },
  {
   "cell_type": "code",
   "execution_count": null,
   "metadata": {},
   "outputs": [],
   "source": []
  },
  {
   "cell_type": "code",
   "execution_count": null,
   "metadata": {},
   "outputs": [],
   "source": []
  },
  {
   "cell_type": "markdown",
   "metadata": {},
   "source": [
    "### Consumer Credit (G.19)\n",
    "\n",
    "The same chart also includes a line from the Z.1 notebook"
   ]
  },
  {
   "cell_type": "code",
   "execution_count": null,
   "metadata": {
    "ExecuteTime": {
     "end_time": "2022-02-25T15:39:19.541075Z",
     "start_time": "2022-02-25T15:39:14.200129Z"
    }
   },
   "outputs": [],
   "source": [
    "base = 'https://www.federalreserve.gov/datadownload/Output.aspx?'\n",
    "srs = 'rel=G19&series=8c7511a37e4aea678be81e7a61df57db&lastobs=&'\n",
    "dt = 'from=01/01/1989&to=12/31/2022&'\n",
    "oth = 'filetype=csv&label=include&layout=seriescolumn'\n",
    "url = base + srs + dt + oth\n",
    "\n",
    "d, df = clean_fed_data(url)\n",
    "cc = df['DTCTL.M']\n",
    "\n",
    "dpi = (pd.read_csv(data_dir / 'nipa20600.csv', index_col='date', \n",
    "                   parse_dates=True).loc['1989':, 'A067RC'])\n",
    "rate = ((cc / dpi) * 100).rename('value').dropna()\n",
    "rate.to_csv(data_dir / 'cc_dpi_monthly.csv', index_label='date')\n",
    "\n",
    "node_color = 'green!60!blue!80!black'\n",
    "node = end_node(rate, node_color, date='m', percent=True, full_year=True)\n",
    "write_txt(text_dir / 'cc_dpi_monthly_node.txt', node)\n",
    "\n",
    "ltdate = dtxt(cc.index[-1])['mon1']\n",
    "ltval = cc.iloc[-1] / 1_000_000\n",
    "ltrate = rate.iloc[-1]\n",
    "one_yr = value_text(cc.pct_change(12).iloc[-1] * 100, style='increase_by')\n",
    "one_yr_dpi = value_text(dpi.pct_change(12).iloc[-1] * 100, style='increase_by')\n",
    "one_yr_rate = value_text(rate.diff(12).iloc[-1], adj='total', \n",
    "                         ptype='pp', threshold=0.1)\n",
    "cline = c_line(node_color)\n",
    "also = 'also ' if one_yr == one_yr_dpi else ''    \n",
    "text = ('In the monthly measure, consumer credit totals '+\n",
    "        f'\\${ltval:.2f} trillion US dollars on a '+\n",
    "        f'seasonally-adjusted and annualized basis in {ltdate}. '+\n",
    "        f'Over the past year, consumer credit {one_yr}, while '+\n",
    "        f'after-tax income {also}{one_yr_dpi}. As a result, the ratio '+\n",
    "        f'of consumer credit to disposable income {one_yr_rate}. '+\n",
    "        f'In {ltdate}, total consumer credit is equivalent to '+\n",
    "        f'{ltrate:.1f} percent of annualized {ltdate} disposable '+\n",
    "        f'income {cline}. ')\n",
    "write_txt(text_dir / 'cc_dpi.txt', text)\n",
    "print(text)"
   ]
  },
  {
   "cell_type": "code",
   "execution_count": null,
   "metadata": {},
   "outputs": [],
   "source": []
  },
  {
   "cell_type": "code",
   "execution_count": null,
   "metadata": {},
   "outputs": [],
   "source": []
  },
  {
   "cell_type": "markdown",
   "metadata": {},
   "source": [
    "### Employment Cost Index"
   ]
  },
  {
   "cell_type": "code",
   "execution_count": null,
   "metadata": {
    "ExecuteTime": {
     "end_time": "2022-02-05T18:25:47.343468Z",
     "start_time": "2022-02-05T18:25:45.974050Z"
    }
   },
   "outputs": [],
   "source": [
    "series = {'CIU2020000000000A': 'WS',\n",
    "          'CIU2030000000000A': 'Be'}\n",
    "\n",
    "dates = (2001, 2022)\n",
    "df = bls_api(series, dates, bls_key)\n",
    "df.to_csv(data_dir/ 'eci.csv', index_label='date')"
   ]
  },
  {
   "cell_type": "code",
   "execution_count": null,
   "metadata": {
    "ExecuteTime": {
     "end_time": "2022-03-02T18:33:08.482896Z",
     "start_time": "2022-03-02T18:33:08.469281Z"
    }
   },
   "outputs": [],
   "source": [
    "df = pd.read_csv(data_dir / 'eci.csv', index_col='date', \n",
    "                 parse_dates=True)\n",
    "col_ws = 'green!80!blue'\n",
    "col_be = 'cyan!40!blue'\n",
    "grps = [(df['WS'], col_ws), (df['Be'], col_be)]\n",
    "nodes = '\\n'.join([end_node(grp, col, percent=True) \n",
    "                   for grp, col in grps])\n",
    "write_txt(text_dir/ 'eci_nodes.txt', nodes)\n",
    "\n",
    "obs = [(-1, 'lt'), (-2, 'pr'), (-3, 'pr2')]\n",
    "sty = [('increase', '1'), ('increase_of', '2'), \n",
    "       ('increase_by', '3')]\n",
    "dt = {n: dtxt(df.index[i]) for i, n in obs}\n",
    "v = {f'{name}_{n}_{s}': value_text(val, style=style) \n",
    "     for i, n in obs for name, val \n",
    "     in df.iloc[i].to_dict().items() \n",
    "     for style, s in sty}\n",
    "\n",
    "val19 = {s: value_text(df.loc['2019', s].mean(), 'increase_by') \n",
    "         for s in ['WS', 'Be']}\n",
    "text = (f'In {dt[\"lt\"][\"qtr2\"]}, private industry wage and '+\n",
    "        f'salary costs {v[\"WS_lt_3\"]} (one-year percent '+\n",
    "        f'change, {c_line(col_ws).replace(\"(\", \"\")}, '+\n",
    "        f'following {v[\"WS_pr_2\"]} in {dt[\"pr\"][\"qtr1\"]}, '+\n",
    "        f'and {v[\"WS_pr2_2\"]} in {dt[\"pr2\"][\"qtr1\"]}. In '+\n",
    "        f'2019, private wages and salaries costs {val19[\"WS\"]}, '+\n",
    "        'on average.\\n\\nThe cost of private sector benefits '+\n",
    "        f'{v[\"Be_lt_3\"]} {c_line(col_be)} over the year '+\n",
    "        f'ending {dt[\"lt\"][\"qtr1\"]}, following {v[\"Be_pr_2\"]} '+\n",
    "        f'in {dt[\"pr\"][\"qtr1\"]}. In 2019, private-sector '+\n",
    "        f'benefits costs {val19[\"Be\"]}, on average')\n",
    "write_txt(text_dir / 'eci.txt', text)\n",
    "print(text)"
   ]
  },
  {
   "cell_type": "code",
   "execution_count": null,
   "metadata": {},
   "outputs": [],
   "source": []
  },
  {
   "cell_type": "code",
   "execution_count": null,
   "metadata": {},
   "outputs": [],
   "source": []
  },
  {
   "cell_type": "markdown",
   "metadata": {
    "ExecuteTime": {
     "end_time": "2022-02-16T00:25:27.133068Z",
     "start_time": "2022-02-16T00:25:27.131119Z"
    }
   },
   "source": [
    "### Treasury International Capital"
   ]
  },
  {
   "cell_type": "code",
   "execution_count": null,
   "metadata": {
    "ExecuteTime": {
     "end_time": "2022-03-02T18:33:46.500705Z",
     "start_time": "2022-03-02T18:33:45.773000Z"
    }
   },
   "outputs": [],
   "source": [
    "url = ('https://www.treasury.gov/resource-center/data-chart-center/'+\n",
    "       'tic/Documents/s1_99996.txt')\n",
    "df = pd.read_table(url, header=9, delimiter=' ', skipinitialspace=True, \n",
    "                   index_col=0).iloc[1:]\n",
    "df = df.set_index(pd.to_datetime(df['Year-Mo'])).drop('Year-Mo', axis=1)\n",
    "df.columns = ['P_Treasury_Bonds', 'P_Agency_Bonds', 'P_Corporate_Bonds', \n",
    "              'P_Corporate_Stocks', 'P_Foreign_Bonds', 'P_Foreign_Stocks',\n",
    "              'S_Treasury_Bonds', 'S_Agency_Bonds', 'S_Corporate_Bonds', \n",
    "              'S_Corporate_Stocks', 'S_Foreign_Bonds', 'S_Foreign_Stocks']\n",
    "df = df.replace(',','', regex=True).astype(float).sort_index()\n",
    "df.loc['1988':].to_csv(data_dir/ 'tic.csv', index_label='date')"
   ]
  },
  {
   "cell_type": "code",
   "execution_count": null,
   "metadata": {
    "ExecuteTime": {
     "end_time": "2022-03-02T18:33:47.372216Z",
     "start_time": "2022-03-02T18:33:47.354885Z"
    }
   },
   "outputs": [],
   "source": [
    "df = pd.read_csv(data_dir / 'tic.csv', index_col='date', \n",
    "                 parse_dates=True)\n",
    "s = ['Treasury_Bonds', 'Agency_Bonds', 'Corporate_Bonds']\n",
    "for i in s:\n",
    "    df[i] = df[f'P_{i}'] - df[f'S_{i}']\n",
    "\n",
    "pce = pd.read_csv(data_dir / 'nipa20804.csv', index_col='date', \n",
    "                  parse_dates=True).loc[df.index, 'DPCERG']\n",
    "pr = pce / pce.iloc[-1]\n",
    "data = (df[s].divide(pr, axis=0).rolling(12).sum()\n",
    "             .loc['1989':].divide(1000).dropna())\n",
    "data.to_csv(data_dir/ 'tic_bond.csv', index_label='date')\n",
    "date = dtxt(data.index[-1])['mon1']\n",
    "write_txt(text_dir / 'tic_date.txt', date)\n",
    "print(date)"
   ]
  },
  {
   "cell_type": "code",
   "execution_count": null,
   "metadata": {},
   "outputs": [],
   "source": []
  },
  {
   "cell_type": "code",
   "execution_count": null,
   "metadata": {},
   "outputs": [],
   "source": []
  },
  {
   "cell_type": "markdown",
   "metadata": {},
   "source": [
    "### FRBNY Survey of Consumer Expectations Job Separation Expectation"
   ]
  },
  {
   "cell_type": "code",
   "execution_count": null,
   "metadata": {},
   "outputs": [],
   "source": [
    "url = ('https://www.newyorkfed.org/medialibrary/interactives/'+\n",
    "       'sce/sce/downloads/data/frbny-sce-data.xlsx')\n",
    "df = pd.read_excel(url, sheet_name='Job separation expectation', \n",
    "                   skiprows=3, index_col=0)\n",
    "df.index = pd.to_datetime([f'{str(i)[:4]}-{str(i)[-2:]}-01' \n",
    "                          for i in df.index])\n",
    "df.columns = ['Losing', 'Leaving']\n",
    "df.to_csv(data_dir / 'sce_job_separation.csv', index_label='date')"
   ]
  },
  {
   "cell_type": "code",
   "execution_count": null,
   "metadata": {
    "ExecuteTime": {
     "end_time": "2022-03-02T17:56:12.956364Z",
     "start_time": "2022-03-02T17:56:12.928923Z"
    }
   },
   "outputs": [],
   "source": [
    "df = pd.read_csv(data_dir / 'sce_job_separation.csv', index_col='date', \n",
    "                 parse_dates=True)\n",
    "\n",
    "lcol = 'cyan'\n",
    "vcol = 'violet!50!blue'\n",
    "vnode = end_node(df.Leaving, vcol, date='m', percent=True, \n",
    "                 full_year=True, colon=False, offset=0.35)\n",
    "lnode = end_node(df.Losing, lcol, percent=True)\n",
    "nodes = '\\n'.join([vnode, lnode])\n",
    "write_txt(text_dir / 'sce_job_sep_nodes.txt', nodes)\n",
    "\n",
    "ltdt = dtxt(df.index[-1])['mon1']\n",
    "ltv = df.Leaving.iloc[-1]\n",
    "prv = df.Leaving.loc['2019'].mean()\n",
    "ltl = df.Losing.iloc[-1]\n",
    "prl = df.Losing.loc['2019'].mean()\n",
    "diff = ltv - ltl\n",
    "diffpr = prv - prl\n",
    "exfb = 'exceed' if diff > 0 else 'false below'\n",
    "text = (f'In {ltdt}, the perceived likelihood of leaving '+\n",
    "        \"one's job voluntarily in the next 12 months \"+\n",
    "        f'averages {ltv:.1f} percent, compared to {prv:.1f} '+\n",
    "        f'percent in 2019 {c_line(vcol)}. In the latest month, '+\n",
    "        f\"the perceived probability losing one's job is {ltl:.1f} \"+\n",
    "        f'percent, compared to {prl:.1f} percent in 2019 '+\n",
    "        f'{c_line(lcol)}.\\n\\nDuring the pandemic, in April 2020, '+\n",
    "        'job loss expectations exceeded job leaving expectations. '+\n",
    "        f'In {ltdt}, job leaving expectations {exfb} job loss '+\n",
    "        f'expectations by {diff:.1f} percentage points, compared '+\n",
    "        f'to {diffpr:.1f} percentage points in 2019. ')\n",
    "write_txt(text_dir / 'sce_job_sep.txt', text)\n",
    "print(text)"
   ]
  },
  {
   "cell_type": "code",
   "execution_count": null,
   "metadata": {},
   "outputs": [],
   "source": []
  },
  {
   "cell_type": "code",
   "execution_count": null,
   "metadata": {},
   "outputs": [],
   "source": []
  }
 ],
 "metadata": {
  "kernelspec": {
   "display_name": "Python 3",
   "language": "python",
   "name": "python3"
  },
  "language_info": {
   "codemirror_mode": {
    "name": "ipython",
    "version": 3
   },
   "file_extension": ".py",
   "mimetype": "text/x-python",
   "name": "python",
   "nbconvert_exporter": "python",
   "pygments_lexer": "ipython3",
   "version": "3.8.8"
  }
 },
 "nbformat": 4,
 "nbformat_minor": 2
}
