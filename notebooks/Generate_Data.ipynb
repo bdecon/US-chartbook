{
 "cells": [
  {
   "cell_type": "markdown",
   "metadata": {},
   "source": [
    "# Generate Data for Chartbook\n",
    "\n",
    "Brian Dew\n",
    "\n",
    "@bd_econ"
   ]
  },
  {
   "cell_type": "code",
   "execution_count": 2,
   "metadata": {
    "ExecuteTime": {
     "end_time": "2020-10-06T19:00:12.890431Z",
     "start_time": "2020-10-06T19:00:12.261885Z"
    }
   },
   "outputs": [],
   "source": [
    "import sys\n",
    "sys.path.append('../src')\n",
    "\n",
    "import uschartbook.config\n",
    "\n",
    "from uschartbook.config import *\n",
    "from uschartbook.utils import *"
   ]
  },
  {
   "cell_type": "code",
   "execution_count": 89,
   "metadata": {
    "ExecuteTime": {
     "end_time": "2020-10-06T22:58:34.907787Z",
     "start_time": "2020-10-06T22:58:34.889982Z"
    },
    "scrolled": true
   },
   "outputs": [
    {
     "data": {
      "text/plain": [
       "{'A191RC': 'Gross domestic product',\n",
       " 'B009RC': 'Structures',\n",
       " 'Y033RC': 'Equipment',\n",
       " 'Y001RC': 'Intellectual property products',\n",
       " 'A011RC': 'Residential',\n",
       " 'A014RC': 'Change in private inventories',\n",
       " 'A019RC': 'Net exports of goods and services',\n",
       " 'B020RC': 'Exports',\n",
       " 'A253RC': 'Goods',\n",
       " 'A646RC': 'Services',\n",
       " 'B021RC': 'Imports',\n",
       " 'DPCERC': 'Personal consumption expenditures',\n",
       " 'A255RC': 'Goods',\n",
       " 'B656RC': 'Services',\n",
       " 'A822RC': 'Government consumption expenditures and gross investment',\n",
       " 'A823RC': 'Federal',\n",
       " 'A824RC': 'National defense',\n",
       " 'A825RC': 'Nondefense',\n",
       " 'A829RC': 'State and local',\n",
       " 'DGDSRC': 'Goods',\n",
       " 'DDURRC': 'Durable goods',\n",
       " 'DNDGRC': 'Nondurable goods',\n",
       " 'DSERRC': 'Services',\n",
       " 'A006RC': 'Gross private domestic investment',\n",
       " 'A007RC': 'Fixed investment',\n",
       " 'A008RC': 'Nonresidential'}"
      ]
     },
     "execution_count": 89,
     "metadata": {},
     "output_type": "execute_result"
    }
   ],
   "source": [
    "nipa_series_codes(retrieve_table('T10105'))"
   ]
  },
  {
   "cell_type": "markdown",
   "metadata": {},
   "source": [
    "### GDP components"
   ]
  },
  {
   "cell_type": "code",
   "execution_count": 2,
   "metadata": {
    "ExecuteTime": {
     "end_time": "2020-09-30T12:49:55.406016Z",
     "start_time": "2020-09-30T12:49:55.189985Z"
    }
   },
   "outputs": [],
   "source": [
    "pop = nipa_df(retrieve_table('T20100')['Data'], ['B230RC'])['B230RC']\n",
    "\n",
    "srs = {'A191RX': '\\hspace{0.5mm} {\\color{red!95!black}\\\\textbf{---}} Gross Domestic Product', \n",
    "       'DPCERX': '\\hspace{2.5mm} {\\color{yellow!65!orange}\\\\textbf{---}} Consumer Spending', \n",
    "       'A006RX': '\\hspace{2.5mm} {\\color{blue!70!black}\\\\textbf{---}} Gross Private Domestic Investment', \n",
    "       'A822RX': '\\hspace{2.5mm} {\\color{cyan!60!white}\\\\textbf{---}} Government Spending and Investment',\n",
    "       'A019RX': '\\hspace{2.5mm} {\\color{green!60!black}\\\\textbf{---}} Net Exports', \n",
    "       'A020RX': '\\hspace{7.5mm} Exports', 'A021RX': '\\hspace{7.5mm} Less: Imports'}\n",
    "s = [key for key, value in srs.items()]\n",
    "s2 = [i[:-1].replace('A02', 'B02') + 'C' for i in s]\n",
    "df = nipa_df(retrieve_table('T10106')['Data'], s).sort_index()\n",
    "df2 = nipa_df(retrieve_table('T10105')['Data'], s2).sort_index()\n",
    "\n",
    "dfpop = df.div(pop, axis=0)\n",
    "real_vals = df2.rename({i: i.replace('RC', 'RX').replace('B02', 'A02') \n",
    "                        for i in s2}, axis=1).iloc[-1]\n",
    "data = ((dfpop / dfpop.iloc[-1]) * (real_vals / pop.iloc[-1])).loc['1989':]\n",
    "\n",
    "sel_cols = ['DPCERX', 'A006RX', 'A019RX', 'A822RX']\n",
    "\n",
    "data[sel_cols].to_csv(data_dir / 'gdp_pc_comp.csv', index_label='date')"
   ]
  },
  {
   "cell_type": "code",
   "execution_count": 3,
   "metadata": {
    "ExecuteTime": {
     "end_time": "2020-09-30T12:49:56.478322Z",
     "start_time": "2020-09-30T12:49:56.461183Z"
    }
   },
   "outputs": [
    {
     "name": "stdout",
     "output_type": "stream",
     "text": [
      "Much of the increase in real GDP per capita over the past 30 years comes from consumer spending. Domestic consumer spending (see {\\color{yellow!65!orange}\\textbf{---}}) is equivalent to \\$39,701 per person in 2020 Q2, a price-adjusted increase of \\$13,542 since 1989. Gross private domestic investment (see {\\color{blue!70!black}\\textbf{---}}) is equivalent to \\$9,484 per person in 2020 Q2, and government spending and investment (see {\\color{cyan!60!white}\\textbf{---}}) totals \\$11,638 per person. Net exports equivalent to \\$1,653 per person are subtracted to reflect only domestic production (see {\\color{green!60!black}\\textbf{---}}).\n"
     ]
    }
   ],
   "source": [
    "pce = f'\\${data.DPCERX.iloc[-1] * 1000:,.0f}'\n",
    "inv = f'\\${data.A006RX.iloc[-1] * 1000:,.0f}'\n",
    "gov = f'\\${data.A822RX.iloc[-1] * 1000:,.0f}'\n",
    "exp = f'\\${abs(data.A019RX.iloc[-1]) * 1000:,.0f}'\n",
    "ltdt = dtxt(data.index[-1])['qtr1']\n",
    "pce_diff = f'\\${(data.DPCERX.iloc[-1] - data.DPCERX.iloc[0]) * 1000:,.0f}'\n",
    "\n",
    "text = ('Much of the increase in real GDP per capita over the past '+\n",
    "        '30 years comes from consumer spending. Domestic '+\n",
    "        'consumer spending (see {\\color{yellow!65!orange}\\\\textbf{---}}) '+\n",
    "        f'is equivalent to {pce} per person in {ltdt}, a price-adjusted increase '+\n",
    "        f'of {pce_diff} since 1989. Gross private domestic investment '+\n",
    "        '(see {\\color{blue!70!black}\\\\textbf{---}}) is equivalent to '+\n",
    "        f'{inv} per person in {ltdt}, and government spending and '+\n",
    "        'investment (see {\\color{cyan!60!white}\\\\textbf{---}}) totals '+\n",
    "        f'{gov} per person. Net exports equivalent to {exp} per person '+\n",
    "        'are subtracted to reflect only domestic production '+\n",
    "        '(see {\\color{green!60!black}\\\\textbf{---}}).')\n",
    "\n",
    "write_txt(text_dir / 'gdp_pc_comp.txt', text)\n",
    "write_txt(text_dir / 'gdp_ltdt.txt', ltdt)\n",
    "print(text)"
   ]
  },
  {
   "cell_type": "code",
   "execution_count": 4,
   "metadata": {
    "ExecuteTime": {
     "end_time": "2020-09-30T12:50:01.730134Z",
     "start_time": "2020-09-30T12:50:01.691864Z"
    }
   },
   "outputs": [
    {
     "data": {
      "text/html": [
       "<div>\n",
       "<style scoped>\n",
       "    .dataframe tbody tr th:only-of-type {\n",
       "        vertical-align: middle;\n",
       "    }\n",
       "\n",
       "    .dataframe tbody tr th {\n",
       "        vertical-align: top;\n",
       "    }\n",
       "\n",
       "    .dataframe thead th {\n",
       "        text-align: right;\n",
       "    }\n",
       "</style>\n",
       "<table border=\"1\" class=\"dataframe\">\n",
       "  <thead>\n",
       "    <tr style=\"text-align: right;\">\n",
       "      <th></th>\n",
       "      <th>2020 Q2</th>\n",
       "      <th>2019 Q4</th>\n",
       "      <th>2000 Q1</th>\n",
       "      <th>1989 Q1</th>\n",
       "    </tr>\n",
       "  </thead>\n",
       "  <tbody>\n",
       "    <tr>\n",
       "      <th>\\hspace{0.5mm} {\\color{red!95!black}\\textbf{---}} Gross Domestic Product</th>\n",
       "      <td>\\$59,170</td>\n",
       "      <td>65,986</td>\n",
       "      <td>51,832</td>\n",
       "      <td>41,662</td>\n",
       "    </tr>\n",
       "    <tr>\n",
       "      <th>\\hspace{2.5mm} {\\color{yellow!65!orange}\\textbf{---}} Consumer Spending</th>\n",
       "      <td>39,701</td>\n",
       "      <td>44,797</td>\n",
       "      <td>33,449</td>\n",
       "      <td>26,159</td>\n",
       "    </tr>\n",
       "    <tr>\n",
       "      <th>\\hspace{2.5mm} {\\color{blue!70!black}\\textbf{---}} Gross Private Domestic Investment</th>\n",
       "      <td>9,484</td>\n",
       "      <td>11,383</td>\n",
       "      <td>8,809</td>\n",
       "      <td>5,669</td>\n",
       "    </tr>\n",
       "    <tr>\n",
       "      <th>\\hspace{2.5mm} {\\color{cyan!60!white}\\textbf{---}} Government Spending and Investment</th>\n",
       "      <td>11,638</td>\n",
       "      <td>11,555</td>\n",
       "      <td>10,718</td>\n",
       "      <td>10,468</td>\n",
       "    </tr>\n",
       "    <tr>\n",
       "      <th>\\hspace{2.5mm} {\\color{green!60!black}\\textbf{---}} Net Exports</th>\n",
       "      <td>-1,653</td>\n",
       "      <td>-1,841</td>\n",
       "      <td>-1,292</td>\n",
       "      <td>-430</td>\n",
       "    </tr>\n",
       "    <tr>\n",
       "      <th>\\hspace{7.5mm} Exports</th>\n",
       "      <td>5,420</td>\n",
       "      <td>7,209</td>\n",
       "      <td>4,410</td>\n",
       "      <td>2,300</td>\n",
       "    </tr>\n",
       "    <tr>\n",
       "      <th>\\hspace{7.5mm} Less: Imports</th>\n",
       "      <td>7,073</td>\n",
       "      <td>8,968</td>\n",
       "      <td>5,690</td>\n",
       "      <td>2,668</td>\n",
       "    </tr>\n",
       "  </tbody>\n",
       "</table>\n",
       "</div>"
      ],
      "text/plain": [
       "                                                     2020 Q2 2019 Q4 2000 Q1  \\\n",
       "\\hspace{0.5mm} {\\color{red!95!black}\\textbf{---...  \\$59,170  65,986  51,832   \n",
       "\\hspace{2.5mm} {\\color{yellow!65!orange}\\textbf...    39,701  44,797  33,449   \n",
       "\\hspace{2.5mm} {\\color{blue!70!black}\\textbf{--...     9,484  11,383   8,809   \n",
       "\\hspace{2.5mm} {\\color{cyan!60!white}\\textbf{--...    11,638  11,555  10,718   \n",
       "\\hspace{2.5mm} {\\color{green!60!black}\\textbf{-...    -1,653  -1,841  -1,292   \n",
       "\\hspace{7.5mm} Exports                                 5,420   7,209   4,410   \n",
       "\\hspace{7.5mm} Less: Imports                           7,073   8,968   5,690   \n",
       "\n",
       "                                                   1989 Q1  \n",
       "\\hspace{0.5mm} {\\color{red!95!black}\\textbf{---...  41,662  \n",
       "\\hspace{2.5mm} {\\color{yellow!65!orange}\\textbf...  26,159  \n",
       "\\hspace{2.5mm} {\\color{blue!70!black}\\textbf{--...   5,669  \n",
       "\\hspace{2.5mm} {\\color{cyan!60!white}\\textbf{--...  10,468  \n",
       "\\hspace{2.5mm} {\\color{green!60!black}\\textbf{-...    -430  \n",
       "\\hspace{7.5mm} Exports                               2,300  \n",
       "\\hspace{7.5mm} Less: Imports                         2,668  "
      ]
     },
     "execution_count": 4,
     "metadata": {},
     "output_type": "execute_result"
    }
   ],
   "source": [
    "res = data * 1000\n",
    "lt = res.rename(srs, axis=1).iloc[-1]\n",
    "lt.name = dtxt(lt.name)['qtr1']\n",
    "pr = res.rename(srs, axis=1).loc['2019-10-01']\n",
    "pr.name = dtxt(pr.name)['qtr1']\n",
    "p00 = res.rename(srs, axis=1).loc['2000-01-01']\n",
    "p00.name = dtxt(p00.name)['qtr1']\n",
    "fi = res.rename(srs, axis=1).iloc[0]\n",
    "fi.name = dtxt(fi.name)['qtr1']\n",
    "table = pd.concat([lt, pr, p00, fi], axis=1).applymap('{:,.0f}'.format)\n",
    "table.iloc[0, 0] = f'\\${table.iloc[0, 0]}'\n",
    "table.to_csv(data_dir / 'gdppc_levels.tex', sep='&', line_terminator='\\\\\\ ', quotechar=' ')\n",
    "table"
   ]
  },
  {
   "cell_type": "code",
   "execution_count": null,
   "metadata": {},
   "outputs": [],
   "source": []
  },
  {
   "cell_type": "code",
   "execution_count": null,
   "metadata": {},
   "outputs": [],
   "source": []
  },
  {
   "cell_type": "markdown",
   "metadata": {},
   "source": [
    "### Labor Share"
   ]
  },
  {
   "cell_type": "code",
   "execution_count": 5,
   "metadata": {
    "ExecuteTime": {
     "end_time": "2020-09-30T12:50:05.653764Z",
     "start_time": "2020-09-30T12:50:05.615329Z"
    }
   },
   "outputs": [],
   "source": [
    "s = ['A261RC', 'A4002C']\n",
    "\n",
    "df = nipa_df(retrieve_table('T11000')['Data'], s).sort_index()\n",
    "df['Share'] = (df['A4002C'] / df['A261RC']) * 100\n",
    "data = df.loc['1989':, 'Share'].dropna()\n",
    "data.to_csv(data_dir / 'laborshare.csv', \n",
    "            index_label='date', \n",
    "            float_format='%g')\n",
    "\n",
    "node = end_node(data, 'blue!60!cyan')\n",
    "write_txt(text_dir / 'laborshare_node.txt', node)"
   ]
  },
  {
   "cell_type": "code",
   "execution_count": 6,
   "metadata": {
    "ExecuteTime": {
     "end_time": "2020-09-30T12:50:06.544625Z",
     "start_time": "2020-09-30T12:50:06.506874Z"
    }
   },
   "outputs": [
    {
     "data": {
      "text/plain": [
       "'As of the second quarter of 2020, labor receives 55.9 percent of gross domestic income, and the labor share increased by a total of 2.5 percentage points over the past year. The labor share is 4.4 percentage points above its 30-year low of 51.6 percent in 2014 Q3, but 1.5 percentage points below the 30-year high of 57.4 percent in 1992 Q3. '"
      ]
     },
     "execution_count": 6,
     "metadata": {},
     "output_type": "execute_result"
    }
   ],
   "source": [
    "s = series_info(data)\n",
    "ltdate = dtxt(s['date_latest'])['qtr2']\n",
    "one_yr = val_inc_pp(s['val_latest'] - s['val_year_ago'])\n",
    "ltmin = s['val_latest'] - s['val_min']\n",
    "ltmax = s['val_max'] - s['val_latest']\n",
    "text = (f'As of {ltdate}, labor receives '+\n",
    "        f'{s[\"val_latest\"]:.1f} percent of gross domestic income, '+\n",
    "        f'and the labor share {one_yr} over the past year. '+\n",
    "        f'The labor share is {ltmin:.1f} percentage '+\n",
    "        f'points above its 30-year low of {s[\"val_min\"]:.1f} percent '+\n",
    "        f'in {s[\"date_min_ft\"]}, but {ltmax:.1f} percentage points '+\n",
    "        f'below the 30-year high of {s[\"val_max\"]:.1f} percent in '+\n",
    "        f'{s[\"date_max_ft\"]}. ')\n",
    "\n",
    "write_txt(text_dir / 'laborshare.txt', text)\n",
    "text"
   ]
  },
  {
   "cell_type": "code",
   "execution_count": null,
   "metadata": {},
   "outputs": [],
   "source": []
  },
  {
   "cell_type": "code",
   "execution_count": null,
   "metadata": {},
   "outputs": [],
   "source": []
  },
  {
   "cell_type": "markdown",
   "metadata": {},
   "source": [
    "### GDP growth rate"
   ]
  },
  {
   "cell_type": "code",
   "execution_count": 7,
   "metadata": {
    "ExecuteTime": {
     "end_time": "2020-09-30T12:50:09.074311Z",
     "start_time": "2020-09-30T12:50:09.019025Z"
    }
   },
   "outputs": [],
   "source": [
    "s = ['A191RL']\n",
    "df = nipa_df(retrieve_table('T10502')['Data'], s).sort_index()\n",
    "df.loc['1989':].to_csv(data_dir / 'gdp.csv', index_label='date')\n",
    "date = dtxt(df.index[-1])['qtr1']\n",
    "\n",
    "txt = f'{date}: {df[\"A191RL\"].iloc[-1]}\\%'\n",
    "write_txt(data_dir / 'gdp.txt', txt)"
   ]
  },
  {
   "cell_type": "code",
   "execution_count": 8,
   "metadata": {
    "ExecuteTime": {
     "end_time": "2020-09-30T12:50:09.938064Z",
     "start_time": "2020-09-30T12:50:09.901315Z"
    }
   },
   "outputs": [
    {
     "name": "stdout",
     "output_type": "stream",
     "text": [
      "decreased at an annual rate of 31.4 percent during the second quarter of 2020, compared to a decrease of 5.0 percent in the first quarter of 2020, and an increase of 2.4 percent in 2019 Q4. This annualized rate of quarterly growth averaged 2.5 percent over the three years from 2017--2019. Over the most recent three years, which include the COVID-19 pandemic, real GDP growth averaged -0.7 percent.\n"
     ]
    }
   ],
   "source": [
    "df = nipa_df(retrieve_table('T10502')['Data'], ['A191RL'])['A191RL']\n",
    "ltdate = dtxt(df.index[-1])['qtr2']\n",
    "prdate = dtxt(df.index[-2])['qtr2']\n",
    "prdate2 = dtxt(df.index[-3])['qtr1']\n",
    "pravg = df['2017': '2019'].values.mean().round(1)\n",
    "d = {}\n",
    "for i in [-13, -41, -121]:\n",
    "    d[i] = df.iloc[i:].values.mean().round(1)\n",
    "    \n",
    "text = (f'{inc_dec_percent(df.iloc[-1], annualized=True)} during {ltdate}, '+\n",
    "        f'compared to {inc_dec_percent(df.iloc[-2], how=\"of\")} in {prdate}, and '+\n",
    "        f'{inc_dec_percent(df.iloc[-3], how=\"of\")} in {prdate2}. This '+\n",
    "        f'annualized rate of quarterly growth averaged {pravg} percent over '+\n",
    "        f'the three years from 2017--2019. Over the most recent three years, '+\n",
    "        'which include the COVID-19 pandemic, real GDP '+\n",
    "        f'growth averaged {d[-13]} percent.')    \n",
    "write_txt(text_dir / 'gdp_gr.txt', text)\n",
    "print(text)"
   ]
  },
  {
   "cell_type": "code",
   "execution_count": null,
   "metadata": {},
   "outputs": [],
   "source": []
  },
  {
   "cell_type": "code",
   "execution_count": null,
   "metadata": {},
   "outputs": [],
   "source": []
  },
  {
   "cell_type": "markdown",
   "metadata": {},
   "source": [
    "### GDP Intro Chart and Text"
   ]
  },
  {
   "cell_type": "code",
   "execution_count": 9,
   "metadata": {
    "ExecuteTime": {
     "end_time": "2020-09-30T12:50:14.048647Z",
     "start_time": "2020-09-30T12:50:13.956648Z"
    }
   },
   "outputs": [
    {
     "name": "stdout",
     "output_type": "stream",
     "text": [
      "\\$19,520 billion in the second quarter of 2020, compared to an inflation-adjusted equivalent of \\$21,721 billion in 2019 Q4 and \\$9,843 billion in the first quarter of 1989. \n",
      "\n",
      "\n",
      "The US population is growing by about sixth-tenths of a percent per year. GDP per capita (see {\\color{red!95!black}\\textbf{---}} ), adjusted for inflation to 2020 Q2 dollars, had increased to \\$65,986 in 2019 Q4 from \\$40,307 in 1989 Q1, and is currently \\$59,170. \n",
      "\n",
      "\n",
      "\\noindent \\normalsize \\textbf{GDP per capita}\\\\\n",
      "\\footnotesize{\\textit{in 2020 Q2 dollars}}\\\\* \n",
      "\\noindent \\begin{tikzpicture}\n",
      "    \\begin{axis}[\\dateaxisticks clip=false, height=5.2cm, width=5.8cm,\n",
      "            ytick={40000,50000,60000,70000}, yticklabels={40, 50, 60, \\$70k},\n",
      "            xtick={{1989-01-01}, {2000-01-01}, {2010-01-01}, {2019-04-01}},\n",
      "        minor xtick={}, \n",
      "        xticklabels={`89, `00, `10, `20 Q2}, enlarge y limits={lower, 0.3}, \n",
      "        enlarge x limits={0.05}]\n",
      "    \\stdline{red!95!black}{date}{value}{data/gdppc.csv}\n",
      "    \\node[label={270:{\\$59,170}}, circle, red!95!black, fill, inner sep=1.5pt] at \n",
      "        (axis cs:2020-04-01,59170) {};\n",
      "    \\end{axis}\n",
      "\\end{tikzpicture}\\\\\n",
      "\\footnotesize{Source: Bureau of Economic Analysis}\n"
     ]
    }
   ],
   "source": [
    "df = nipa_df(retrieve_table('T70100')['Data'], ['A939RC', 'A939RX'])\n",
    "df['value'] = (df['A939RX'] / df['A939RX'].iloc[-1]) * df['A939RC'].iloc[-1]\n",
    "cd = nipa_df(retrieve_table('T10105')['Data'], ['A191RC'])['A191RC'].iloc[-1]\n",
    "rgdp = nipa_df(retrieve_table('T10106')['Data'], ['A191RX'])\n",
    "rgdp_cd = rgdp / rgdp.iloc[-1] * cd\n",
    "\n",
    "ltdate = dtxt(df.index[-1])['qtr2']\n",
    "gdp_val = int(rgdp_cd.iloc[-1].values[0] / 1000)\n",
    "gdp_prv_val = int(rgdp_cd.loc['2019-10-01'] / 1000)\n",
    "gdp_prv_val2 = int(rgdp_cd.iloc[0].values[0] / 1000)\n",
    "gdppc_val = int(df.iloc[-1].loc['value'])\n",
    "gdppc_prv_val = int(df.loc['2019-10-01', 'value'])\n",
    "gdppc_prv_val2 = int(df.iloc[0].loc['value'])\n",
    "qdate = dtxt(df.index[-1])['qtr1']\n",
    "\n",
    "text = (f'\\${gdp_val:,} billion in {ltdate}, compared to an '+\n",
    "        f'inflation-adjusted equivalent of \\${gdp_prv_val:,} '+\n",
    "        f'billion in 2019 Q4 and \\${gdp_prv_val2:,} billion in '+\n",
    "        'the first quarter of 1989.')\n",
    "write_txt(text_dir / 'gdp1.txt', text)\n",
    "print(text, '\\n\\n')\n",
    "\n",
    "text = ('The US population is growing by about sixth-tenths of a '+\n",
    "        'percent per year. GDP per capita (see {\\color{red!95!black}\\\\textbf{---}} ), '+\n",
    "        f'adjusted for inflation to {qdate} dollars, had increased to '+\n",
    "        f'\\${gdppc_prv_val:,} in 2019 Q4 from \\${gdppc_prv_val2:,} in 1989 Q1, and is '+\n",
    "        f'currently \\${gdppc_val:,}.')\n",
    "write_txt(text_dir / 'gdp2.txt', text)\n",
    "print(text, '\\n\\n')\n",
    "\n",
    "date = df.index[-1].strftime('%Y-%m-%d')\n",
    "ldate = dtxt(df.index[-1])['qtr4']\n",
    "\n",
    "text = [r'\\noindent \\normalsize \\textbf{GDP per capita}\\\\',\n",
    "r'\\footnotesize{\\textit{in ' + qdate + r' dollars}}\\\\* ',\n",
    "r'\\noindent \\begin{tikzpicture}',\n",
    "r'    \\begin{axis}[\\dateaxisticks clip=false, height=5.2cm, width=5.8cm,',\n",
    "r'            ytick={40000,50000,60000,70000}, yticklabels={40, 50, 60, \\$70k},',\n",
    "r'            xtick={{1989-01-01}, {2000-01-01}, {2010-01-01}, {2019-04-01}},',\n",
    "r'        minor xtick={}, ',\n",
    "f\"        xticklabels={{`89, `00, `10, {ldate}}}, enlarge y limits={{lower, 0.3}}, \",\n",
    "r'        enlarge x limits={0.05}]',\n",
    "r'    \\stdline{red!95!black}{date}{value}{data/gdppc.csv}',\n",
    "r'    \\node[label={270:{\\$'+ f'{gdppc_val:,}' + r'}}, circle, red!95!black, fill, inner sep=1.5pt] at ',\n",
    "f'        (axis cs:{date},{gdppc_val})' + r' {};',\n",
    "r'    \\end{axis}',\n",
    "r'\\end{tikzpicture}\\\\',\n",
    "r'\\footnotesize{Source: Bureau of Economic Analysis}']\n",
    "\n",
    "f = text_dir.joinpath('gdp_chart.txt')\n",
    "with f.open('w') as wf:\n",
    "    for t in text:\n",
    "        print(t)\n",
    "        wf.write(t + '\\n')"
   ]
  },
  {
   "cell_type": "code",
   "execution_count": null,
   "metadata": {},
   "outputs": [],
   "source": []
  },
  {
   "cell_type": "code",
   "execution_count": null,
   "metadata": {},
   "outputs": [],
   "source": []
  },
  {
   "cell_type": "markdown",
   "metadata": {},
   "source": [
    "### Private fixed investment"
   ]
  },
  {
   "cell_type": "code",
   "execution_count": 10,
   "metadata": {
    "ExecuteTime": {
     "end_time": "2020-09-30T12:50:16.678827Z",
     "start_time": "2020-09-30T12:50:16.595925Z"
    }
   },
   "outputs": [],
   "source": [
    "# Private fixed investment contribution to growth\n",
    "s = ['A008RY', 'A011RY', 'A014RY']\n",
    "\n",
    "df = nipa_df(retrieve_table('T10502')['Data'], s)\n",
    "\n",
    "df.loc['1989':].to_csv(data_dir / 'inv.csv', index_label='date')\n",
    "\n",
    "ldate = df.index[-1]\n",
    "datetext = dtxt(ldate)[\"qtr1\"]\n",
    "\n",
    "tot_contr = cont_subt(df.loc[ldate, ['A008RY', 'A011RY']].sum())\n",
    "bus_contr = cont_subt(df.loc[ldate, 'A008RY'], 'end')\n",
    "res_contr = cont_subt(df.loc[ldate, 'A011RY'], 'end')\n",
    "inv_contr = cont_subt(df.loc[ldate, 'A014RY'], 'end')\n",
    "\n",
    "text = (f'During the quarter, private fixed investment {tot_contr} real GDP growth. '+\n",
    "        f'Non-residential fixed investment {bus_contr}, while '+\n",
    "        f'residential fixed investment {res_contr}. The change in private '+\n",
    "        f'inventories {inv_contr}.')\n",
    "\n",
    "write_txt(text_dir / 'inv_text2.txt', text)"
   ]
  },
  {
   "cell_type": "code",
   "execution_count": 11,
   "metadata": {
    "ExecuteTime": {
     "end_time": "2020-09-30T12:50:17.492657Z",
     "start_time": "2020-09-30T12:50:17.418626Z"
    }
   },
   "outputs": [],
   "source": [
    "# In levels and share of GDP\n",
    "s = ['A191RC', 'A007RC', 'A008RC', 'A011RC']\n",
    "\n",
    "df = nipa_df(retrieve_table('T10105')['Data'], s)\n",
    "\n",
    "ldate = df.index[-1]\n",
    "\n",
    "inv_tot = df.loc[ldate, 'A007RC'] / 1_000_000\n",
    "gdp_tot = df.loc[ldate, 'A191RC'] / 1_000_000\n",
    "res_tot = df.loc[ldate, 'A011RC'] / 1_000\n",
    "bus_tot = df.loc[ldate, 'A008RC'] / 1_000_000\n",
    "\n",
    "inv_sh = (inv_tot / gdp_tot) * 100\n",
    "res_sh = (res_tot / 1_000 / gdp_tot) * 100\n",
    "bus_sh = (bus_tot / gdp_tot) * 100\n",
    "\n",
    "text = (f'In {dtxt(ldate)[\"qtr2\"]}, private fixed investment, '+\n",
    "        f'which does not include inventory investment, totals \\${inv_tot:.1f} trillion, '+\n",
    "        f'equivalent to {inv_sh:.1f} percent of GDP. Non-residential (business) fixed '+\n",
    "        f'investment totals \\${bus_tot:.1f} trillion, or {bus_sh:.1f} percent of GDP, '+\n",
    "        f'while residential fixed investment totals \\${res_tot:.1f} billion ({res_sh:.1f} '+\n",
    "        'percent of GDP).')\n",
    "\n",
    "write_txt(text_dir / 'inv_text.txt', text)"
   ]
  },
  {
   "cell_type": "code",
   "execution_count": null,
   "metadata": {},
   "outputs": [],
   "source": []
  },
  {
   "cell_type": "code",
   "execution_count": null,
   "metadata": {},
   "outputs": [],
   "source": []
  },
  {
   "cell_type": "markdown",
   "metadata": {},
   "source": [
    "### Imports and Exports"
   ]
  },
  {
   "cell_type": "code",
   "execution_count": 12,
   "metadata": {
    "ExecuteTime": {
     "end_time": "2020-09-30T12:50:20.316545Z",
     "start_time": "2020-09-30T12:50:20.224897Z"
    },
    "code_folding": []
   },
   "outputs": [
    {
     "data": {
      "text/plain": [
       "'Nonpetroleum goods and services imports (see {\\\\color{green!60!teal!80!black}\\\\textbf{---}}) were equivalent to 11.5 percent of GDP in the second quarter of 2020, while exports of nonpetroleum goods and services (see {\\\\color{blue!90!cyan}\\\\textbf{---}}) were equivalent to 8.7 percent of GDP.'"
      ]
     },
     "execution_count": 12,
     "metadata": {},
     "output_type": "execute_result"
    }
   ],
   "source": [
    "# Import and Export share of GDP\n",
    "s = ['B020RC', 'B021RC', 'B648RC', 'LA000006']\n",
    "s2 = ['A191RC']\n",
    "df = nipa_df(retrieve_table('T40205')['Data'], s)\n",
    "df['A191RC'] = nipa_df(retrieve_table('T10105')['Data'], s2)\n",
    "df['EX'] = df['B020RC'] - df['LA000006']\n",
    "df['IM'] = df['B021RC'] - df['B648RC']\n",
    "data = df.div(df['A191RC'], axis=0) * 100\n",
    "data.loc['1989':].to_csv(data_dir / 'eximgdp.csv', index_label='date')\n",
    "\n",
    "date = f'{qtrs[data.index[-1].quarter]} quarter of {data.index[-1].year}'\n",
    "valex = data['EX'].iloc[-1]\n",
    "valim = data['IM'].iloc[-1]\n",
    "\n",
    "text = (f'Nonpetroleum goods and services imports (see {{\\color{{green!60!teal!80!black}}'+\n",
    "        f'\\\\textbf{{---}}}}) were equivalent to {valim:.1f} percent of GDP in the {date}, '+\n",
    "        f'while exports of nonpetroleum goods and services (see {{\\\\color{{blue!90!cyan}}'+\n",
    "        f'\\\\textbf{{---}}}}) were equivalent to {valex:.1f} percent of GDP.')\n",
    "\n",
    "write_txt(text_dir / 'exim.txt', text)\n",
    "\n",
    "text"
   ]
  },
  {
   "cell_type": "code",
   "execution_count": null,
   "metadata": {},
   "outputs": [],
   "source": []
  },
  {
   "cell_type": "code",
   "execution_count": null,
   "metadata": {},
   "outputs": [],
   "source": []
  },
  {
   "cell_type": "markdown",
   "metadata": {},
   "source": [
    "### Goods Import Penetration"
   ]
  },
  {
   "cell_type": "code",
   "execution_count": 13,
   "metadata": {
    "ExecuteTime": {
     "end_time": "2020-09-30T12:50:23.592417Z",
     "start_time": "2020-09-30T12:50:23.418563Z"
    }
   },
   "outputs": [],
   "source": [
    "s = ['A353RC']\n",
    "\n",
    "G = nipa_df(retrieve_table('T10205')['Data'], s).sort_index()\n",
    "\n",
    "s = ['A253RC', 'A255RC', 'B647RC', 'LA000004', 'A650RC', 'B651RC', 'A652RC', 'A653RC', 'B648RC']\n",
    "\n",
    "MX = nipa_df(retrieve_table('T40205')['Data'], s).sort_index()\n",
    "\n",
    "D = G['A353RC'] - MX['A253RC'] + MX['A255RC']\n",
    "result = (MX['A255RC'] / D)\n",
    "\n",
    "import_categories = ['B647RC', 'LA000004', 'A650RC', 'B651RC', \n",
    "                     'A652RC', 'A653RC', 'B648RC']\n",
    "Msh = MX[import_categories].div(MX['A255RC'], axis=0)\n",
    "\n",
    "Msh['Consumer'] = Msh['B647RC'] + Msh['A652RC'] + Msh['B651RC']\n",
    "Msh['Capital'] = Msh['LA000004'] - Msh['B648RC'] + Msh['A650RC'] + Msh['A653RC']\n",
    "\n",
    "final = Msh[['Consumer', 'Capital', 'B648RC']].multiply(result, axis=0) * 100\n",
    "\n",
    "final.loc['1989':].to_csv(data_dir / 'goodsimpsh.csv', index_label='date')\n",
    "\n",
    "ltdate = final.index[-1]\n",
    "datetext = dtxt(ltdate)['qtr1']\n",
    "cons = final['Consumer'].iloc[-1]\n",
    "capi = final['Capital'].iloc[-1]\n",
    "oil = final['B648RC'].iloc[-1]\n",
    "\n",
    "text = (f'As of {datetext}, imports of consumer goods excluding petroleum '+\n",
    "        f'and petroleum products are equivalent to {cons:.1f} percent of domestic '+\n",
    "        'consumption of goods (see\\cbox{cyan!40!white}). Petroleum-related imports '+\n",
    "        f'claim {oil:.1f} percent (see\\cbox{{purple}}) and imports of all other goods, '+\n",
    "        f'primarily capital goods, industrial supplies, and materials are equivalent to '+\n",
    "        f'{capi:.1f} percent (see\\cbox{{blue!50!cyan}}).')\n",
    "\n",
    "write_txt(text_dir / 'goodsimpsh1.txt', text)\n",
    "\n",
    "ch11 = (final.loc['2011-01-01'] - final.iloc[0])\n",
    "\n",
    "chlt = (final.iloc[-1] - final.loc['2011-01-01'])\n",
    "\n",
    "chtxt = {}\n",
    "for i, v in chlt.items():\n",
    "    if v >= 0.1:\n",
    "        chtxt[i] = f'increased by the equivalent of {v:.1f} percent'\n",
    "    elif v <= -0.1:\n",
    "        chtxt[i] = f'decreased by the equivalent of {abs(v):.1f} percent'\n",
    "    else:\n",
    "        chtxt[i] = 'was virtually unchanged'\n",
    "        \n",
    "text = ('From 1989 to 2011, imports of consumer goods excluding petroleum increased '+\n",
    "        f'by the equivalent of {ch11[\"Consumer\"]:.1f} percent of domestic '+\n",
    "         'consumption of goods; petroleum and products imports '+\n",
    "        f'increased by the equivalent of {ch11[\"B648RC\"]:.1f} percent; '+\n",
    "        'and all other goods increased by the equivalent '+\n",
    "        f'of {ch11[\"Capital\"]:.1f} percent. Since 2011, imports of '+\n",
    "        f'consumer goods {chtxt[\"Consumer\"]} of domestic goods demand; '+\n",
    "        f'imports of petroleum and products {chtxt[\"B648RC\"]}; and other '+\n",
    "        f'imports {chtxt[\"Capital\"]}.')\n",
    "\n",
    "write_txt(text_dir / 'goodsimpsh.txt', text)"
   ]
  },
  {
   "cell_type": "code",
   "execution_count": null,
   "metadata": {},
   "outputs": [],
   "source": []
  },
  {
   "cell_type": "code",
   "execution_count": null,
   "metadata": {},
   "outputs": [],
   "source": []
  },
  {
   "cell_type": "markdown",
   "metadata": {},
   "source": [
    "### ITA - Financial Account Balance"
   ]
  },
  {
   "cell_type": "code",
   "execution_count": 14,
   "metadata": {
    "ExecuteTime": {
     "end_time": "2020-09-30T12:50:28.650116Z",
     "start_time": "2020-09-30T12:50:25.934974Z"
    }
   },
   "outputs": [
    {
     "name": "stdout",
     "output_type": "stream",
     "text": [
      "Over the year ending 2020 Q2, net domestic acquisitions of foreign assets were equivalent to 4.5 percent of GDP, while net domestic incurrence of foreign liabilities total 6.5 percent of GDP. Domestic net borrowing totals 3.0 percent of GDP.\n"
     ]
    }
   ],
   "source": [
    "ind_list = ['FinAssetsExclFinDeriv', 'FinLiabsExclFinDeriv', 'FinDeriv', 'StatDisc']\n",
    "\n",
    "api_results = bea_api_ita(ind_list, bea_key)\n",
    "\n",
    "gdp = nipa_df(retrieve_table('T10105')['Data'], ['A191RC'])['A191RC']\n",
    "\n",
    "results = pd.DataFrame({name: {i['TimePeriod']: i['DataValue'] \n",
    "                               for i in json.loads(series)['BEAAPI']['Results']['Data']} \n",
    "                        for name, series in api_results})\n",
    "results.index = pd.to_datetime(results.index)\n",
    "results = results.replace(r'^\\s*$', np.nan, regex=True).astype('float').rolling(4).sum()\n",
    "results['FAB'] = results['FinLiabsExclFinDeriv'] - results['FinAssetsExclFinDeriv']\n",
    "results['TOT'] = results[['FAB', 'StatDisc', 'FinDeriv']].sum(axis=1)\n",
    "final = (results.divide(gdp, axis=0).dropna(how='all') * 100).fillna(0)\n",
    "\n",
    "s = final.iloc[-1]\n",
    "liab = s.FinLiabsExclFinDeriv\n",
    "assets = s.FinAssetsExclFinDeriv\n",
    "\n",
    "ldate = dtxt(final.index[-1])['qtr1']\n",
    "\n",
    "text = (f'Over the year ending {ldate}, net domestic acquisitions of foreign assets were '+\n",
    "        f'equivalent to {assets:.1f} percent of GDP, while net domestic incurrence of foreign '+\n",
    "        f'liabilities total {liab:.1f} percent of GDP. Domestic net borrowing totals '+\n",
    "        f'{s.TOT:.1f} percent of GDP.')\n",
    "write_txt(text_dir / 'fab.txt', text)\n",
    "print(text)"
   ]
  },
  {
   "cell_type": "code",
   "execution_count": null,
   "metadata": {},
   "outputs": [],
   "source": []
  },
  {
   "cell_type": "code",
   "execution_count": null,
   "metadata": {},
   "outputs": [],
   "source": []
  },
  {
   "cell_type": "code",
   "execution_count": null,
   "metadata": {},
   "outputs": [],
   "source": []
  },
  {
   "cell_type": "markdown",
   "metadata": {},
   "source": [
    "### GDP Composition"
   ]
  },
  {
   "cell_type": "code",
   "execution_count": 15,
   "metadata": {
    "ExecuteTime": {
     "end_time": "2020-09-30T12:50:33.427474Z",
     "start_time": "2020-09-30T12:50:33.332249Z"
    }
   },
   "outputs": [
    {
     "name": "stdout",
     "output_type": "stream",
     "text": [
      "In the second quarter of 2020, consumer spending (see\\cbox{yellow!80!orange}) subtracted 24.01 percentage points from overall real GDP growth. Private domestic investment (see\\cbox{blue!70!black}) subtracted 8.77 percentage points from real GDP growth, government spending and investment (see\\cbox{cyan!50!white}) contributed 0.77 percentage point, and net exports (see\\cbox{green!60!black}) contributed 0.62 percentage point.\n"
     ]
    }
   ],
   "source": [
    "s = ['DPCERY', 'A006RY', 'A822RY', 'A019RY']\n",
    "\n",
    "df = nipa_df(retrieve_table('T10502')['Data'], s).loc['1989':]\n",
    "df.to_csv(data_dir / 'comp.csv', index_label='date')\n",
    "\n",
    "ltdt = dtxt(df.index[-1])['qtr2']\n",
    "\n",
    "sl = [('DPCERY', 'main'), ('A006RY', 'main'), \n",
    "      ('A822RY', 'end'), ('A019RY', 'end')]\n",
    "\n",
    "d = {}\n",
    "\n",
    "for s, style in sl:\n",
    "    value = df[s].iloc[-1]\n",
    "    d[s] = cont_subt(value, style=style)\n",
    "    \n",
    "text = (f'In {ltdt}, consumer spending (see\\cbox{{yellow!80!orange}}) '+\n",
    "        f'{d[\"DPCERY\"]} overall real GDP growth. Private domestic '+\n",
    "        f'investment (see\\cbox{{blue!70!black}}) {d[\"A006RY\"]} real GDP '+\n",
    "        'growth, government spending and investment (see\\cbox{cyan!50!white}) '+\n",
    "        f'{d[\"A822RY\"]}, and net exports (see\\cbox{{green!60!black}}) '+\n",
    "        f'{d[\"A019RY\"]}.')  \n",
    "\n",
    "write_txt(text_dir / 'gdp_exp_basic.txt', text)\n",
    "print(text)"
   ]
  },
  {
   "cell_type": "code",
   "execution_count": null,
   "metadata": {},
   "outputs": [],
   "source": []
  },
  {
   "cell_type": "code",
   "execution_count": null,
   "metadata": {},
   "outputs": [],
   "source": []
  },
  {
   "cell_type": "markdown",
   "metadata": {},
   "source": [
    "### GDP per capita"
   ]
  },
  {
   "cell_type": "code",
   "execution_count": 16,
   "metadata": {
    "ExecuteTime": {
     "end_time": "2020-09-30T12:50:49.097213Z",
     "start_time": "2020-09-30T12:50:49.065829Z"
    }
   },
   "outputs": [],
   "source": [
    "s = ['A939RC', 'A939RX']\n",
    "\n",
    "df = nipa_df(retrieve_table('T70100')['Data'], s)\n",
    "df['value'] = (df['A939RX'] / df['A939RX'].iloc[-1])  * df['A939RC'].iloc[-1]\n",
    "df[['value']].loc['1989':].to_csv(data_dir / 'gdppc.csv', index_label='date')"
   ]
  },
  {
   "cell_type": "code",
   "execution_count": null,
   "metadata": {},
   "outputs": [],
   "source": []
  },
  {
   "cell_type": "code",
   "execution_count": null,
   "metadata": {},
   "outputs": [],
   "source": []
  },
  {
   "cell_type": "markdown",
   "metadata": {},
   "source": [
    "### Gross Domestic Income"
   ]
  },
  {
   "cell_type": "code",
   "execution_count": 17,
   "metadata": {
    "ExecuteTime": {
     "end_time": "2020-09-30T12:50:52.172612Z",
     "start_time": "2020-09-30T12:50:52.025805Z"
    }
   },
   "outputs": [],
   "source": [
    "s = ['A261RX', 'W256RX']\n",
    "rgdi = nipa_df(retrieve_table('T11706')['Data'], s).dropna()\n",
    "\n",
    "s = ['A261RC', 'A4002C', 'W056RC', 'A107RC', 'W271RC', 'A262RC',\n",
    "     'A4102C', 'A038RC']\n",
    "\n",
    "df = nipa_df(retrieve_table('T11000')['Data'], s).dropna()\n",
    "\n",
    "pop = nipa_df(retrieve_table('T20100')['Data'], ['B230RC'])['B230RC']\n",
    "\n",
    "# Calculate indirect taxes net of transfers\n",
    "df['indirect'] = df['W056RC'] - df['A107RC']\n",
    "\n",
    "# Calculate GDI deflator from real GDI series\n",
    "deflator = rgdi['A261RX'] / df['A261RC']\n",
    "deflator = deflator / deflator.iloc[-1]\n",
    "df = df.multiply(deflator, axis=0)\n",
    "\n",
    "# Calculate contributions to growth\n",
    "dft = df.diff()\n",
    "dft = dft.div(dft['A261RC'], axis=0)\n",
    "contr = dft.multiply((((df['A261RC'].pct_change() + 1) ** 4) - 1) * 100, axis=0)\n",
    "\n",
    "cols = ['A261RC', 'W271RC', 'A4002C', 'A262RC', 'indirect']\n",
    "\n",
    "contr.loc['1989':, cols].to_csv(data_dir / 'gdi.csv', index_label='date')\n",
    "\n",
    "dfpop = df.div(pop, axis=0)\n",
    "\n",
    "ltdt = dtxt(dfpop.index[-1])['qtr1']\n",
    "write_txt(text_dir / 'gdi_ltdt.txt', ltdt)\n",
    "\n",
    "dfpop[cols].to_csv(data_dir / 'gdi_pc_comp.csv', index_label='date')"
   ]
  },
  {
   "cell_type": "code",
   "execution_count": 18,
   "metadata": {
    "ExecuteTime": {
     "end_time": "2020-09-30T12:50:56.200318Z",
     "start_time": "2020-09-30T12:50:56.165393Z"
    }
   },
   "outputs": [
    {
     "name": "stdout",
     "output_type": "stream",
     "text": [
      "                                                     2020 Q2 2019 Q4 2000 Q1  \\\n",
      "Gross Domestic Income                               \\$59,001  65,906  52,750   \n",
      "\\hspace{0.1mm} {\\color{magenta!90!blue}\\textbf{...    33,007  35,128  29,828   \n",
      "\\hspace{6mm} Wages and Salaries                       26,834  28,628  24,658   \n",
      "\\hspace{6mm} Supplements                               6,173   6,500   5,170   \n",
      "\\hspace{0.1mm} {\\color{yellow!60!orange}\\textbf...    14,344  15,902  11,872   \n",
      "\\hspace{0.1mm} {\\color{violet}\\textbf{---}} Ind...       937   4,334   3,386   \n",
      "\\hspace{6mm} Taxes on Production and Imports           4,231   4,581   3,620   \n",
      "\\hspace{6mm} Less: Subsidies                           3,294     246     234   \n",
      "\\hspace{0.1mm} {\\color{teal!60!white}\\textbf{--...    10,714  10,542   7,664   \n",
      "\n",
      "                                                   1989 Q1  \n",
      "Gross Domestic Income                               41,529  \n",
      "\\hspace{0.1mm} {\\color{magenta!90!blue}\\textbf{...  23,284  \n",
      "\\hspace{6mm} Wages and Salaries                     19,215  \n",
      "\\hspace{6mm} Supplements                             4,069  \n",
      "\\hspace{0.1mm} {\\color{yellow!60!orange}\\textbf...   9,313  \n",
      "\\hspace{0.1mm} {\\color{violet}\\textbf{---}} Ind...   2,745  \n",
      "\\hspace{6mm} Taxes on Production and Imports         2,956  \n",
      "\\hspace{6mm} Less: Subsidies                           211  \n",
      "\\hspace{0.1mm} {\\color{teal!60!white}\\textbf{--...   6,187  \n",
      "The Bureau of Economic Analysis \\href{https://www.bea.gov/data/gdp/gross-domestic-product}{report} seasonally-adjusted and annualized \\href{https://www.bea.gov/help/glossary/gross-domestic-income-gdi}{Gross Domestic Income} (GDI) of \\$19,464 billion in 2020 Q2, compared to an inflation-adjusted equivalent of \\$21,695 billion in 2019 Q4. Real GDI per capita was \\$59,001 in 2020 Q2 and \\$65,906 in 2019 Q4.\n",
      "Gross labor income per capita is equivalent to \\$33,007 in 2020 Q2 (see {\\color{magenta!90!blue}\\textbf{---}}) and \\$35,128 in 2019 Q4, on an annualized, seasonally-adjusted, and inflation-adjusted basis. Profits per person total \\$14,344 in 2020 Q2 (see {\\color{yellow!60!orange}\\textbf{---}}) and \\$15,902 in 2019 Q4, following the same adjustments. Indirect taxes less subsidies per capita total \\$937 in 2020 Q2 (see {\\color{violet}\\textbf{---}}) and \\$4,334 in 2019 Q4. Lastly, depreciation per capita is \\$10,714 in 2020 Q2 (see {\\color{teal!60!white}\\textbf{---}}) and \\$10,542 in 2019 Q4.\n"
     ]
    }
   ],
   "source": [
    "srs = {'A261RC': 'Gross Domestic Income', \n",
    "       'A4002C': '\\hspace{0.1mm} {\\color{magenta!90!blue}\\\\textbf{---}} Labor', \n",
    "       'A4102C': '\\hspace{6mm} Wages and Salaries',\n",
    "       'A038RC': '\\hspace{6mm} Supplements',\n",
    "       'W271RC': '\\hspace{0.1mm} {\\color{yellow!60!orange}\\\\textbf{---}} Profit', \n",
    "       'indirect': '\\hspace{0.1mm} {\\color{violet}\\\\textbf{---}} Indirect Taxes', \n",
    "       'W056RC': '\\hspace{6mm} Taxes on Production and Imports',\n",
    "       'A107RC': '\\hspace{6mm} Less: Subsidies',\n",
    "       'A262RC': '\\hspace{0.1mm} {\\color{teal!60!white}\\\\textbf{---}} Depreciation'}\n",
    "\n",
    "res = dfpop[list(srs.keys())] * 1000\n",
    "lt = res.rename(srs, axis=1).iloc[-1]\n",
    "lt.name = dtxt(lt.name)['qtr1']\n",
    "pr = res.rename(srs, axis=1).loc['2019-10-01']\n",
    "pr.name = dtxt(pr.name)['qtr1']\n",
    "p00 = res.rename(srs, axis=1).loc['2000-01-01']\n",
    "p00.name = dtxt(p00.name)['qtr1']\n",
    "fi = res.rename(srs, axis=1).loc['1989-01-01']\n",
    "fi.name = dtxt(fi.name)['qtr1']\n",
    "table = pd.concat([lt, pr, p00, fi], axis=1).applymap('{:,.0f}'.format)\n",
    "table.iloc[0, 0] = f'\\${table.iloc[0, 0]}'\n",
    "table.to_csv(data_dir / 'gdipc_levels.tex', sep='&', line_terminator='\\\\\\ ', quotechar=' ')\n",
    "print(table)\n",
    "\n",
    "prdate = '2019-10-01'\n",
    "ltval = df['A261RC'].iloc[-1] / 1000\n",
    "ltpc = dfpop['A261RC'].iloc[-1] * 1000\n",
    "prval = df['A261RC'].loc[prdate] / 1000\n",
    "prpc = dfpop['A261RC'].loc[prdate] * 1000\n",
    "prdt = dtxt(pd.to_datetime(prdate))['qtr1']\n",
    "\n",
    "text = ('The Bureau of Economic Analysis \\href{https://www.bea.gov/data/gdp/gross-domestic-product}{report} '+\n",
    "        'seasonally-adjusted and annualized '+\n",
    "        '\\href{https://www.bea.gov/help/glossary/gross-domestic-income-gdi}{Gross Domestic Income} '+\n",
    "        f'(GDI) of \\${ltval:,.0f} billion in {ltdt}, compared to an inflation-'+\n",
    "        f'adjusted equivalent of \\${prval:,.0f} billion in {prdt}. '+\n",
    "        f'Real GDI per capita was \\${ltpc:,.0f} in {ltdt} '+\n",
    "        f'and \\${prpc:,.0f} in {prdt}.')\n",
    "\n",
    "write_txt(text_dir / 'gdi_levels.txt', text)\n",
    "print(text)\n",
    "\n",
    "l_pc = dfpop['A4002C'].iloc[-1] * 1000\n",
    "l_pr = dfpop['A4002C'].loc[prdate] * 1000\n",
    "k_pc = dfpop['W271RC'].iloc[-1] * 1000\n",
    "k_pr = dfpop['W271RC'].loc[prdate] * 1000\n",
    "t_pc = dfpop['indirect'].iloc[-1] * 1000\n",
    "t_pr = dfpop['indirect'].loc[prdate] * 1000\n",
    "d_pc = dfpop['A262RC'].iloc[-1] * 1000\n",
    "d_pr = dfpop['A262RC'].loc[prdate] * 1000\n",
    "\n",
    "text = ('Gross labor income per capita is equivalent '+\n",
    "        f'to \\${l_pc:,.0f} in {ltdt} '+\n",
    "        '(see {\\color{magenta!90!blue}\\\\textbf{---}}) '+\n",
    "        f'and \\${l_pr:,.0f} in 2019 Q4, '+\n",
    "        'on an annualized, seasonally-adjusted, and inflation-'+\n",
    "        f'adjusted basis. Profits per person total \\${k_pc:,.0f} in {ltdt} '+\n",
    "        '(see {\\color{yellow!60!orange}\\\\textbf{---}}) '+\n",
    "        f'and \\${k_pr:,.0f} in {prdt}, following the same adjustments. '+\n",
    "        f'Indirect taxes less subsidies per capita total \\${t_pc:,.0f} in {ltdt} '+\n",
    "        '(see {\\color{violet}\\\\textbf{---}}) '+\n",
    "        f'and \\${t_pr:,.0f} in {prdt}. Lastly, depreciation per capita is \\${d_pc:,.0f} in '+\n",
    "        f'{ltdt} (see {{\\color{{teal!60!white}}\\\\textbf{{---}}}}) and \\${d_pr:,.0f} in {prdt}.')\n",
    "\n",
    "write_txt(text_dir / 'gdi_levels_pc.txt', text)\n",
    "print(text)"
   ]
  },
  {
   "cell_type": "code",
   "execution_count": 19,
   "metadata": {
    "ExecuteTime": {
     "end_time": "2020-09-30T12:50:59.520806Z",
     "start_time": "2020-09-30T12:50:59.512509Z"
    }
   },
   "outputs": [
    {
     "name": "stdout",
     "output_type": "stream",
     "text": [
      "In the second quarter of 2020, gross domestic income decreased at an annual rate of 33.5 percent, following a decrease of 2.5 percent in 2020 Q1 and an increase of 3.3 percent in 2019 Q4. In the latest quarter, labor income subtracted 11.79 percentage points from overall growth, following a contribution of 1.11 percentage points in 2020 Q1. Profit income subtracted 4.21 percentage points in the second quarter of 2020 and 4.38 percentage points in 2020 Q1. Changes in indirect tax revenue and surpluses subtracted 18.24 percentage points from aggregate income growth in the latest quarter and contributed 0.37 percentage point in 2020 Q1. \n"
     ]
    }
   ],
   "source": [
    "s = ['A261RC', 'A4002C', 'W271RC', 'indirect', 'A262RC']\n",
    "\n",
    "df = contr[s]\n",
    "gdi_lt = inc_dec_percent(df[\"A261RC\"].iloc[-1], annualized=True)\n",
    "gdi_pr = inc_dec_percent(df[\"A261RC\"].iloc[-2], how='of')\n",
    "gdi_pr2 = inc_dec_percent(df[\"A261RC\"].iloc[-3], how='of')\n",
    "\n",
    "ltdt = dtxt(df.index[-1])['qtr2']\n",
    "ltdt2 = dtxt(df.index[-1])['qtr1']\n",
    "prdt = dtxt(df.index[-2])['qtr1']\n",
    "prdt2 = dtxt(df.index[-3])['qtr1']\n",
    "\n",
    "\n",
    "sl = [('A4002C', 'main'), ('W271RC', 'main'), \n",
    "      ('indirect', 'end'), ('A262RC', 'end')]\n",
    "\n",
    "d = {}\n",
    "for s, style in sl:\n",
    "    value = df[s].iloc[-1]\n",
    "    d[s] = cont_subt(value, style=style)\n",
    "    \n",
    "text1 = (f'In {ltdt}, gross domestic income {gdi_lt}, following {gdi_pr} '+\n",
    "         f'in {prdt} and {gdi_pr2} in {prdt2}. ')  \n",
    "\n",
    "l_lt = cont_subt(df['A4002C'].iloc[-1])\n",
    "l_pr = cont_subt(df['A4002C'].iloc[-2], style='of')\n",
    "k_lt = cont_subt(df['W271RC'].iloc[-1]).replace(' from', '').replace(' to', '')\n",
    "k_pr = cont_subt(df['W271RC'].iloc[-2]).replace(' from', '').replace(' to', '')\n",
    "if k_lt[:3] == k_pr[:3]:\n",
    "    if abs(df['W271RC'].iloc[-2]) > 1:\n",
    "        pp = 'percentage points'\n",
    "    else:\n",
    "        pp = 'percentage point'\n",
    "    k_pr = f\"{abs(df['W271RC'].iloc[-2]):.2f} {pp}\"\n",
    "t_lt = cont_subt(df['indirect'].iloc[-1])\n",
    "t_pr = cont_subt(df['indirect'].iloc[-2]).replace(' from', '').replace(' to', '')\n",
    "    \n",
    "text = (f'{text1}In the latest quarter, labor income {l_lt} overall growth, '+\n",
    "        f'following a {l_pr} in {prdt}. Profit income {k_lt} in '+\n",
    "        f'{ltdt} and {k_pr} in {prdt}. Changes in indirect tax revenue '+\n",
    "        f'and surpluses {t_lt} aggregate income growth in the latest quarter and '+\n",
    "        f'{t_pr} in {prdt}. ')\n",
    "print(text) \n",
    "\n",
    "write_txt(text_dir / 'gdi_growth_comp.txt', text)"
   ]
  },
  {
   "cell_type": "code",
   "execution_count": null,
   "metadata": {},
   "outputs": [],
   "source": []
  },
  {
   "cell_type": "code",
   "execution_count": null,
   "metadata": {},
   "outputs": [],
   "source": []
  },
  {
   "cell_type": "code",
   "execution_count": null,
   "metadata": {},
   "outputs": [],
   "source": []
  },
  {
   "cell_type": "markdown",
   "metadata": {},
   "source": [
    "### Consumer Spending Overview (Levels)"
   ]
  },
  {
   "cell_type": "code",
   "execution_count": 20,
   "metadata": {
    "ExecuteTime": {
     "end_time": "2020-09-30T12:51:04.838259Z",
     "start_time": "2020-09-30T12:51:04.418839Z"
    }
   },
   "outputs": [
    {
     "name": "stdout",
     "output_type": "stream",
     "text": [
      "Total consumer spending is \\$13.1 trillion in 2020 Q2, compared to a price-adjusted \\$14.5 trillion in 2020 Q1 and \\$14.7 trillion in 2019 Q4. On a per person basis, consumer spending is \\$39,701 in 2020 Q2, of which \\$13,221 are spent on goods (see {\\color{red}\\textbf{---}}) and \\$26,480 on services (see {\\color{orange}\\textbf{---}}). In the fourth quarter of 2019, before the pandemic, consumer spending on goods was \\$13,630 per person, and spending on services was \\$31,179 per person, after adjusting for inflation. \n",
      "\n",
      " Within consumer spending on services, housing and utilities spending totals \\$8,430 on an annualized and per person basis in 2020 Q2 (see {\\color{green!60!blue}\\textbf{---}}) and \\$8,367 in 2019 Q4. Construction or improvement of housing is considered residential fixed investment, not consumer spending, but can be combined with spending to analyze patterns in shelter costs. In 2020 Q2, residential investment totals \\$2,365 per person (see {\\color{blue!80!black}\\textbf{---}}), compared to \\$2,533 in the pre-COVID data covering 2019 Q4. \n",
      "\n",
      " Consumer spending on services other than housing and utilities totals \\$18,050 per person, on an annaulized basis, in 2020 Q2 (see {\\color{blue!75!white}\\textbf{---}}), compared to \\$21,999 in 2020 Q1, and \\$22,812 in 2019 Q4. Spending on non-housing services has decreased 20.9 percent since 2019 Q4. Shelter costs, which combine housing, utilities, and residential fixed investment, are \\$10,795 per person in 2020 Q2 (see {\\color{green!85!blue}\\textbf{---}}), \\$10,994 in 2020 Q1, and \\$10,899 in 2019 Q4. Shelter spending peaked at \\$11,992 per person in the third quarter of 2005, during the housing bubble.\n"
     ]
    }
   ],
   "source": [
    "pop = nipa_df(retrieve_table('T20100')['Data'], ['B230RC'])['B230RC']\n",
    "\n",
    "n = {'DPCERC': 'Total',\n",
    "     'DGDSRC': 'Goods',\n",
    "     'DSERRC': 'Services',\n",
    "     'DHUTRC': 'Housing',\n",
    "     'A011RC': 'ResInv',\n",
    "     'DMOTRC': 'MotorVeh',\n",
    "     'DFDHRC': 'Furn',\n",
    "     'DREQRC': 'RecDG',\n",
    "     'DFXARC': 'Groc',\n",
    "     'DCLORC': 'Cloth',\n",
    "     'DHLCRC': 'Health',\n",
    "     'DTRSRC': 'Transp',\n",
    "     'DRCARC': 'RecSer',\n",
    "     'DFSARC': 'FoodAcc',\n",
    "     'DIFSRC': 'FinIns'}\n",
    "n2 = {k[:-2] + 'RA': v for k, v in n.items()}\n",
    "s = list(n.keys())\n",
    "s2 = list(n2.keys())\n",
    "\n",
    "othserv = lambda x: x['Services'] - x['Housing']\n",
    "shelter = lambda x: x['Housing'] + x['ResInv']\n",
    "\n",
    "df = (nipa_df(retrieve_table('T10505')['Data'], s)\n",
    "      .rename(n, axis=1))\n",
    "df2 = (nipa_df(retrieve_table('T10503')['Data'], s2)\n",
    "       .rename(n2, axis=1))\n",
    "real = ((df2 / df2.iloc[-1]) * df.iloc[-1]).assign(OTHSERV = othserv, SHELTER = shelter)\n",
    "pp = real.divide(pop, axis=0)\n",
    "\n",
    "keep_col = ['Goods', 'Services', 'Housing', 'ResInv', 'OTHSERV', 'SHELTER']\n",
    "pp.loc['1989':, keep_col].to_csv(data_dir / 'pce_levels.csv', index_label='date')\n",
    "\n",
    "lttot = real.Total.iloc[-1] / 1_000_000\n",
    "prtot = real.Total.iloc[-2] / 1_000_000\n",
    "pctot = real.Total.loc['2019-10-01'] / 1_000_000\n",
    "ltdate = dtxt(real.index[-1])['qtr1']\n",
    "prdate = dtxt(real.index[-2])['qtr1']\n",
    "totpp = pp.Total.iloc[-1] * 1_000\n",
    "goodpp = pp.Goods.iloc[-1] * 1_000\n",
    "servpp = pp.Services.iloc[-1] * 1_000\n",
    "goodpppc = pp.Goods.loc['2019-10-01'] * 1_000\n",
    "servpppc = pp.Services.loc['2019-10-01'] * 1_000\n",
    "\n",
    "\n",
    "text = ('Total consumer spending is '+\n",
    "        f'\\${lttot:.1f} trillion in {ltdate}, compared to a price-adjusted '+\n",
    "        f'\\${prtot:.1f} trillion in {prdate} and \\${pctot:.1f} trillion in 2019 Q4. '+\n",
    "        'On a per person basis, consumer spending is '+\n",
    "        f'\\${totpp:,.0f} in {ltdate}, of which \\${goodpp:,.0f} are spent on goods '+\n",
    "        '(see {\\color{red}\\\\textbf{---}}) and '+\n",
    "        f'\\${servpp:,.0f} on services '+\n",
    "        '(see {\\color{orange}\\\\textbf{---}}). In the fourth quarter of 2019, '+\n",
    "        f'before the pandemic, consumer spending on goods was \\${goodpppc:,.0f} '+\n",
    "        f'per person, and spending on services was \\${servpppc:,.0f} per person, '+\n",
    "        'after adjusting for inflation. ')\n",
    "write_txt(text_dir / 'pce_levels.txt', text)\n",
    "print(text)\n",
    "\n",
    "hult = pp['Housing'].iloc[-1] * 1_000\n",
    "hupc = pp['Housing'].loc['2019-10-01'] * 1_000\n",
    "rfilt = pp['ResInv'].iloc[-1] * 1_000\n",
    "rfipc = pp['ResInv'].loc['2019-10-01'] * 1_000\n",
    "\n",
    "text = ('Within consumer spending on services, housing and utilities spending '+\n",
    "        f'totals \\${hult:,.0f} on an annualized and per person basis in {ltdate} '+\n",
    "        '(see {\\color{green!60!blue}\\\\textbf{---}}) '+\n",
    "        f'and \\${hupc:,.0f} in 2019 Q4. Construction or improvement '+\n",
    "        'of housing is considered residential fixed investment, not '+\n",
    "        'consumer spending, but can be combined with spending to analyze '+\n",
    "        'patterns in shelter costs. In '+\n",
    "        f'{ltdate}, residential investment totals \\${rfilt:,.0f} per person '+\n",
    "        '(see {\\color{blue!80!black}\\\\textbf{---}}), '+\n",
    "        f'compared to \\${rfipc:,.0f} in the pre-COVID data covering 2019 Q4. ')\n",
    "write_txt(text_dir / 'pce2_levels.txt', text)\n",
    "print('\\n', text)\n",
    "\n",
    "othlt = pp['OTHSERV'].iloc[-1] * 1_000\n",
    "othpr = pp['OTHSERV'].iloc[-2] * 1_000\n",
    "othpc = pp.loc['2019-10-01', 'OTHSERV'] * 1_000\n",
    "chval = ((othlt / othpc) - 1) * 100\n",
    "chtxt = value_text(chval)\n",
    "shellt = pp['SHELTER'].iloc[-1] * 1_000\n",
    "shelpr = pp['SHELTER'].iloc[-2] * 1_000\n",
    "shelpc = pp.loc['2019-10-01', 'SHELTER'] * 1_000\n",
    "shelmax = pp['SHELTER'].max() * 1_000\n",
    "shelmaxdt = dtxt(pp.SHELTER.idxmax())['qtr2']\n",
    "\n",
    "\n",
    "text = ('Consumer spending on services other than housing and utilities totals \\$'+\n",
    "        f'{othlt:,.0f} per person, on an annaulized basis, in {ltdate} '+\n",
    "        '(see {\\color{blue!75!white}\\\\textbf{---}}), '+\n",
    "        f'compared to \\${othpr:,.0f} in {prdate}, and \\${othpc:,.0f} in '+\n",
    "        f'2019 Q4. Spending on non-housing services has {chtxt} since 2019 Q4. '+\n",
    "        'Shelter costs, which combine housing, utilities, and residential fixed '+\n",
    "        f'investment, are \\${shellt:,.0f} per person in {ltdate} '+\n",
    "        '(see {\\color{green!85!blue}\\\\textbf{---}})'+\n",
    "        f', \\${shelpr:,.0f} '+\n",
    "        f'in {prdate}, and \\${shelpc:,.0f} in 2019 Q4. Shelter spending peaked at '+\n",
    "        f'\\${shelmax:,.0f} per person in {shelmaxdt}, during the housing bubble.')\n",
    "write_txt(text_dir / 'pce3_levels.txt', text)\n",
    "print('\\n', text)"
   ]
  },
  {
   "cell_type": "code",
   "execution_count": 21,
   "metadata": {
    "ExecuteTime": {
     "end_time": "2020-09-30T12:51:07.800641Z",
     "start_time": "2020-09-30T12:51:07.789146Z"
    }
   },
   "outputs": [
    {
     "name": "stdout",
     "output_type": "stream",
     "text": [
      "                                                     2020 Q2 2019 Q4 2000 Q1  \\\n",
      "Total                                               \\$39,701  44,797  33,449   \n",
      "\\hspace{0.1mm} {\\color{red}\\textbf{---}} Goods        13,221  13,630   9,026   \n",
      "\\hspace{5mm} Motor Vehicles and Parts                  1,469   1,596   1,367   \n",
      "\\hspace{5mm} Furniture and HH Equipment                1,067   1,103     535   \n",
      "\\hspace{5mm} Recreational Durable Goods                1,430   1,303     264   \n",
      "\\hspace{5mm} Groceries                                 3,447   3,275   2,797   \n",
      "\\hspace{5mm} Clothes and Shoes                           873   1,149     838   \n",
      "\\hspace{0.1mm} {\\color{blue!75!white}\\textbf{--...    18,050  22,812  17,490   \n",
      "\\hspace{5mm} Health Care Services                      6,065   7,706   5,087   \n",
      "\\hspace{5mm} Transportation                              869   1,460   1,312   \n",
      "\\hspace{5mm} Recreational                                879   1,815   1,432   \n",
      "\\hspace{5mm} Food and Accommodations                   1,867   3,083   2,418   \n",
      "\\hspace{5mm} Financial and Insurance                   3,583   3,619   3,523   \n",
      "\\hspace{0.1mm} {\\color{green!85!blue}\\textbf{--...    10,795  10,899  10,398   \n",
      "\\hspace{5mm} Housing Services and Utilities            8,430   8,367   7,220   \n",
      "\\hspace{5mm} Residential Fixed Investment              2,365   2,533   3,178   \n",
      "\n",
      "                                                   1989 Q1  \n",
      "Total                                               26,159  \n",
      "\\hspace{0.1mm} {\\color{red}\\textbf{---}} Goods       6,772  \n",
      "\\hspace{5mm} Motor Vehicles and Parts                1,029  \n",
      "\\hspace{5mm} Furniture and HH Equipment                371  \n",
      "\\hspace{5mm} Recreational Durable Goods                 77  \n",
      "\\hspace{5mm} Groceries                               2,778  \n",
      "\\hspace{5mm} Clothes and Shoes                         622  \n",
      "\\hspace{0.1mm} {\\color{blue!75!white}\\textbf{--...  13,475  \n",
      "\\hspace{5mm} Health Care Services                    4,605  \n",
      "\\hspace{5mm} Transportation                            911  \n",
      "\\hspace{5mm} Recreational                            1,022  \n",
      "\\hspace{5mm} Food and Accommodations                 2,221  \n",
      "\\hspace{5mm} Financial and Insurance                 2,090  \n",
      "\\hspace{0.1mm} {\\color{green!85!blue}\\textbf{--...   8,929  \n",
      "\\hspace{5mm} Housing Services and Utilities          6,268  \n",
      "\\hspace{5mm} Residential Fixed Investment            2,660  \n"
     ]
    }
   ],
   "source": [
    "n = {'Total': 'Total',\n",
    "     'Goods': '\\hspace{0.1mm} {\\color{red}\\\\textbf{---}} Goods',\n",
    "     'MotorVeh': '\\hspace{5mm} Motor Vehicles and Parts',\n",
    "     'Furn': '\\hspace{5mm} Furniture and HH Equipment',\n",
    "     'RecDG': '\\hspace{5mm} Recreational Durable Goods',\n",
    "     'Groc': '\\hspace{5mm} Groceries',\n",
    "     'Cloth': '\\hspace{5mm} Clothes and Shoes',\n",
    "     'OTHSERV': '\\hspace{0.1mm} {\\color{blue!75!white}\\\\textbf{---}} Services ex. Shelter',\n",
    "     'Health': '\\hspace{5mm} Health Care Services',\n",
    "     'Transp': '\\hspace{5mm} Transportation',\n",
    "     'RecSer': '\\hspace{5mm} Recreational',\n",
    "     'FoodAcc': '\\hspace{5mm} Food and Accommodations',\n",
    "     'FinIns': '\\hspace{5mm} Financial and Insurance',\n",
    "     'SHELTER': '\\hspace{0.1mm} {\\color{green!85!blue}\\\\textbf{---}} Shelter ',\n",
    "     'Housing': '\\hspace{5mm} Housing Services and Utilities ',\n",
    "     'ResInv': '\\hspace{5mm} Residential Fixed Investment'}\n",
    "\n",
    "res = pp[n.keys()].rename(n, axis=1) * 1_000\n",
    "lt = res.iloc[-1]\n",
    "lt.name = dtxt(lt.name)['qtr1']\n",
    "pr = res.loc['2019-10-01']\n",
    "pr.name = dtxt(pr.name)['qtr1']\n",
    "p00 = res.loc['2000-01-01']\n",
    "p00.name = dtxt(p00.name)['qtr1']\n",
    "fi = res.loc['1989-01-01']\n",
    "fi.name = dtxt(fi.name)['qtr1']\n",
    "table = pd.concat([lt, pr, p00, fi], axis=1).applymap('{:,.0f}'.format)\n",
    "table.iloc[0, 0] = f'\\${table.iloc[0, 0]}'\n",
    "table.to_csv(data_dir / 'pce_levels.tex', sep='&', line_terminator='\\\\\\ ', quotechar=' ')\n",
    "print(table)"
   ]
  },
  {
   "cell_type": "code",
   "execution_count": null,
   "metadata": {},
   "outputs": [],
   "source": []
  },
  {
   "cell_type": "code",
   "execution_count": null,
   "metadata": {},
   "outputs": [],
   "source": []
  },
  {
   "cell_type": "markdown",
   "metadata": {},
   "source": [
    "### Consumer Spending and Residential Fixed Investment"
   ]
  },
  {
   "cell_type": "code",
   "execution_count": 22,
   "metadata": {
    "ExecuteTime": {
     "end_time": "2020-09-30T12:51:12.274494Z",
     "start_time": "2020-09-30T12:51:12.046972Z"
    }
   },
   "outputs": [
    {
     "name": "stdout",
     "output_type": "stream",
     "text": [
      "These categories subtracted 24.0 percentage points from GDP growth in 2020 Q2 and subtracted 4.8 percentage points in 2020 Q1, compared to an addition of 1.1 percentage points in 2019 Q4, before the pandemic.\n",
      "\n",
      " In the the second quarter of 2020, household spending on goods subtracted 2.1 percentage points from GDP growth, household spending on services other than housing and utilities subtracted 22.5 percentage points, and shelter spending and investment subtracted one percentage points.\n"
     ]
    }
   ],
   "source": [
    "s = ['DNPIRY', 'DSERRY', 'DPCERY', 'DGDSRY', 'DMOTRY',\n",
    "     'DFDHRY', 'DREQRY', 'DFXARY', 'DCLORY', 'DHLCRY',\n",
    "     'DTRSRY', 'DRCARY', 'DFSARY', 'DIFSRY', 'DHUTRY',\n",
    "     'A011RY']\n",
    "\n",
    "n = {'TOTAL': '& Total',\n",
    "     'DGDSRY': '\\cbox{red} & Goods',\n",
    "     'DMOTRY': '& \\hspace{1mm} Motor Vehicles and Parts',\n",
    "     'DFDHRY': '& \\hspace{1mm} Furniture and HH Equipment',\n",
    "     'DREQRY': '& \\hspace{1mm} Recreational Durable Goods',\n",
    "     'DFXARY': '& \\hspace{1mm} Groceries',\n",
    "     'DCLORY': '& \\hspace{1mm} Clothes and Shoes',\n",
    "     'OTHSERV': '\\cbox{blue!75!white} & Services (ex. Shelter)',\n",
    "     'DHLCRY': '& \\hspace{1mm} Health Care Services',\n",
    "     'DTRSRY': '& \\hspace{1mm} Transportation',\n",
    "     'DRCARY': '& \\hspace{1mm} Recreational',\n",
    "     'DFSARY': '& \\hspace{1mm} Food and Accommodations',\n",
    "     'DIFSRY': '& \\hspace{1mm} Financial and Insurance',\n",
    "     'SHELTER': '\\cbox{green!85!blue} & Shelter ',\n",
    "     'DHUTRY': '& \\hspace{1mm} Housing Services and Utilities ',\n",
    "     'A011RY': '& \\hspace{1mm} Residential Fixed Investment'}\n",
    "\n",
    "total = lambda x: x['DPCERY']\n",
    "othserv = lambda x: x['DSERRY'] - x['DHUTRY']\n",
    "shelter = lambda x: x['DHUTRY'] + x['A011RY']\n",
    "\n",
    "df = (nipa_df(retrieve_table('T10502')['Data'], s)\n",
    "      .assign(TOTAL = total, OTHSERV = othserv, SHELTER = shelter)\n",
    "      [list(n.keys())])\n",
    "\n",
    "# Save timseries to csv\n",
    "(df.loc['1989':, ['DGDSRY', 'OTHSERV', 'SHELTER']]\n",
    "   .to_csv(data_dir / 'pce.csv', index_label='date', float_format='%g'))\n",
    "\n",
    "# Save table\n",
    "data = df.iloc[-5:].iloc[::-1].T\n",
    "\n",
    "cols = [f'& {q.year} Q{q.quarter}' \n",
    "        if i == 0 else f'`{str(q.year)[2:]} Q{q.quarter}'\n",
    "        for i, q in enumerate(data.columns)]\n",
    "\n",
    "data.columns = cols\n",
    "data['3-year'] = df.rolling(13).mean().iloc[-1].round(2)\n",
    "data['10-year'] = df.rolling(41).mean().iloc[-1].round(2)\n",
    "data['30-year'] = df.rolling(121).mean().iloc[-1].round(2)\n",
    "data.index = data.index.map(n)\n",
    "(data.round(2).applymap('{:,.2f}'.format)\n",
    " .to_csv(data_dir / 'pce.tex', sep='&', line_terminator='\\\\\\ ', quotechar=' '))\n",
    "\n",
    "ld = dtxt(df.index[-1])['qtr1']\n",
    "prd = dtxt(df.index[-2])['qtr1']\n",
    "ld2 = dtxt(df.index[-1])['qtr2']\n",
    "\n",
    "totlt = df['TOTAL'].iloc[-1]\n",
    "totltt = value_text(totlt, style='contribution_to', ptype='pp', digits=1)\n",
    "totpr = df['TOTAL'].iloc[-2]\n",
    "totprt = value_text(totpr, style='contribution', ptype='pp', digits=1)\n",
    "totpc = df.loc['2019-10-01', 'TOTAL']\n",
    "totpct = value_text(totpc, style='contribution_of', ptype='pp', digits=1, casual=True)\n",
    "\n",
    "txt1 = (f'These categories {totltt} GDP growth in {ld} and {totprt} in {prd}, compared to '+\n",
    "        f'{totpct} in 2019 Q4, before the pandemic.')\n",
    "write_txt(text_dir / 'pce1.txt', txt1)\n",
    "print(txt1)\n",
    "\n",
    "gdslt = df['DGDSRY'].iloc[-1]\n",
    "gdsltt = value_text(gdslt, style='contribution_to', ptype='pp', digits=1)\n",
    "serlt = df['OTHSERV'].iloc[-1]\n",
    "serltt = value_text(serlt, style='contribution', ptype='pp', digits=1, casual=True)\n",
    "shelt = df['SHELTER'].iloc[-1]\n",
    "sheltt = value_text(shelt, style='contribution', ptype='pp', digits=1, casual=True)\n",
    "\n",
    "txt2 = (f'In the {ld2}, household spending on goods {gdsltt} GDP growth, '+\n",
    "         'household spending on services other than housing and utilities '+\n",
    "        f'{serltt}, and shelter spending and investment {sheltt}.')\n",
    "write_txt(text_dir / 'pce2.txt', txt2)\n",
    "print('\\n', txt2)"
   ]
  },
  {
   "cell_type": "code",
   "execution_count": null,
   "metadata": {},
   "outputs": [],
   "source": []
  },
  {
   "cell_type": "code",
   "execution_count": null,
   "metadata": {},
   "outputs": [],
   "source": []
  },
  {
   "cell_type": "markdown",
   "metadata": {},
   "source": [
    "### Trade Contribution to GDP"
   ]
  },
  {
   "cell_type": "code",
   "execution_count": 23,
   "metadata": {
    "ExecuteTime": {
     "end_time": "2020-09-30T12:51:14.832424Z",
     "start_time": "2020-09-30T12:51:14.746961Z"
    }
   },
   "outputs": [],
   "source": [
    "s = ['A019RY', 'A253RY', 'A646RY', 'A255RY', 'A656RY']\n",
    "df = nipa_df(retrieve_table('T10502')['Data'], s)\n",
    "df.loc['1989':].to_csv(data_dir / 'nx.csv', index_label='date')\n",
    "\n",
    "sl = [('A253RY', 'main'), ('A646RY', 'end'), \n",
    "      ('A255RY', 'main'), ('A656RY', 'end')]\n",
    "\n",
    "d = {}\n",
    "for s, style in sl:\n",
    "    value = df[s].iloc[-1]\n",
    "    d[s] = cont_subt(value, style=style)\n",
    "    \n",
    "ldate = dtxt(df.index[-1])['qtr2']\n",
    "\n",
    "text = (f\"Goods exports {d['A253RY']} GDP growth in {ldate} while \"+\n",
    "        f\"services exports {d['A646RY']}. Good imports {d['A255RY']} \"+\n",
    "        f\"GDP growth and services imports {d['A656RY']}.\")\n",
    "\n",
    "write_txt(text_dir / 'trade.txt', text)"
   ]
  },
  {
   "cell_type": "code",
   "execution_count": null,
   "metadata": {},
   "outputs": [],
   "source": []
  },
  {
   "cell_type": "code",
   "execution_count": null,
   "metadata": {},
   "outputs": [],
   "source": []
  },
  {
   "cell_type": "markdown",
   "metadata": {},
   "source": [
    "### Business investment"
   ]
  },
  {
   "cell_type": "code",
   "execution_count": 92,
   "metadata": {
    "ExecuteTime": {
     "end_time": "2020-10-06T23:04:42.889431Z",
     "start_time": "2020-10-06T23:04:42.831093Z"
    }
   },
   "outputs": [],
   "source": [
    "s = ['Y001RY', 'A009RY', 'Y033RY']\n",
    "\n",
    "df = nipa_df(retrieve_table('T10502')['Data'], s)\n",
    "df.loc['1989':].to_csv(data_dir / 'businv.csv', index_label='date')"
   ]
  },
  {
   "cell_type": "code",
   "execution_count": 145,
   "metadata": {
    "ExecuteTime": {
     "end_time": "2020-10-07T02:25:06.202107Z",
     "start_time": "2020-10-07T02:25:06.115300Z"
    }
   },
   "outputs": [
    {
     "name": "stdout",
     "output_type": "stream",
     "text": [
      "Business investments in fixed assets are grouped into three categories: structures, equipment, and intellectual property (for example software and R\\&D). Investment in structures was \\$584 billion in 2020 Q2, equivalent to 3.0 percent of GDP (see {\\color{yellow!50!orange}\\textbf{---}}). Equipment investment was \\$1,057 billion or 5.4 percent of GDP (see {\\color{cyan!60!white}\\textbf{---}}), and intellectual property investment was \\$1,006 billion or 5.2 percent of GDP (see {\\color{violet}\\textbf{---}}). \n"
     ]
    }
   ],
   "source": [
    "s = ['Y001RC', 'B009RC', 'Y033RC', 'A008RC']\n",
    "data = nipa_df(retrieve_table('T10105')['Data'], s)\n",
    "gdp = nipa_df(retrieve_table('T10105')['Data'], ['A191RC'])['A191RC']\n",
    "df1 = data.divide(gdp, axis=0) * 100\n",
    "(df1.loc['1989':, ['Y001RC', 'B009RC', 'Y033RC']]\n",
    "    .to_csv(data_dir / 'businvsh.csv', index_label='date'))\n",
    "\n",
    "ltdate = dtxt(df1.index[-1])['qtr1']\n",
    "\n",
    "levels = {}\n",
    "shgdp = {}\n",
    "for series in ['Y001RC', 'B009RC', 'Y033RC']:\n",
    "    level_val = data[series].iloc[-1] / 1_000\n",
    "    txt = f\"\\${level_val:,.0f} billion\"\n",
    "    levels[series] = txt\n",
    "    shgdp[series] = f\"{df1[series].iloc[-1]:.1f} percent of GDP\"\n",
    "\n",
    "text = ('Business investments in fixed assets are grouped into three '+\n",
    "        'categories: structures, equipment, and intellectual property '+\n",
    "        '(for example software and R\\&D). Investment in structures was '+\n",
    "        f'{levels[\"B009RC\"]} in {ltdate}, equivalent to {shgdp[\"B009RC\"]} '+\n",
    "        '(see {\\color{yellow!50!orange}\\\\textbf{---}}). '+\n",
    "        f'Equipment investment was {levels[\"Y033RC\"]} or {shgdp[\"Y033RC\"]} '+\n",
    "        '(see {\\color{cyan!60!white}\\\\textbf{---}}), '+\n",
    "        'and intellectual property investment '+\n",
    "        f'was {levels[\"Y001RC\"]} or {shgdp[\"Y001RC\"]} '+\n",
    "        '(see {\\color{violet}\\\\textbf{---}}). ')\n",
    "write_txt(text_dir / 'businv_sh.txt', text)\n",
    "print(text)"
   ]
  },
  {
   "cell_type": "code",
   "execution_count": 135,
   "metadata": {
    "ExecuteTime": {
     "end_time": "2020-10-07T01:28:41.735856Z",
     "start_time": "2020-10-07T01:28:41.652008Z"
    }
   },
   "outputs": [
    {
     "name": "stdout",
     "output_type": "stream",
     "text": [
      "In the the second quarter of 2020, gross private business investment totals \\$2,297 billion on a seasonally-adjusted annualized basis, equivalent to 11.8 percent of GDP (see {\\color{blue!60!violet}\\textbf{---}}). Private business investment in fixed assets totals \\$2,647 billion, or 13.6 percent of GDP (see {\\color{cyan!80!white}\\textbf{---}}). Private business depreciation totals \\$2,311 billion in the quarter, or 11.8 percent of GDP (see {\\color{magenta}\\textbf{---}}). As a result, net investment is negative \\$14 billion, or -0.1 percent of GDP (see {\\color{green!80!blue}\\textbf{---}}). \n",
      "\n",
      " In 2019 Q4, prior to the COVID-19 pandemic, private business gross investment was \\$2,839 billion. Since 2019 Q4, annualized gross investment decreased 19.1 percent. Net investment was \\$569 billion in 2019 Q4, but collapsed completely from 2019 Q4 to 2020 Q2, as gross investment fell while deprecation was relatively constant. \n"
     ]
    }
   ],
   "source": [
    "s = ['W790RC', 'W276RC', 'W987RC']\n",
    "df = nipa_df(retrieve_table('T50100')['Data'], s).join(data['A008RC'])\n",
    "gdp = nipa_df(retrieve_table('T10105')['Data'], ['A191RC'])['A191RC']\n",
    "res = (df.div(gdp, axis=0) * 100).dropna()\n",
    "res.loc['1989':].to_csv(data_dir / 'businv_main.csv', index_label='date')\n",
    "\n",
    "ltdate1 = dtxt(df.index[-1])['qtr1']\n",
    "ltdate2 = dtxt(df.index[-1])['qtr2']\n",
    "\n",
    "levels = {}\n",
    "shgdp = {}\n",
    "for series in ['W790RC', 'W276RC', 'W987RC', 'A008RC']:\n",
    "    level_val = df[series].iloc[-1] / 1_000\n",
    "    n = ''\n",
    "    if level_val < 0:\n",
    "        n = 'negative '\n",
    "        level_val = abs(level_val)\n",
    "    txt = f\"{n}\\${level_val:,.0f} billion\"\n",
    "    levels[series] = txt\n",
    "    shgdp[series] = f\"{res[series].iloc[-1]:.1f} percent of GDP\"\n",
    "    \n",
    "diff = ((df['W987RC'].iloc[-1] / df.loc['2019-10-01', 'W987RC']) - 1) * 100\n",
    "gdt = value_text(diff)\n",
    "diff2 = ((df['W790RC'].iloc[-1] / df.loc['2019-10-01', 'W790RC']) - 1) * 100\n",
    "if diff2 < -95:\n",
    "    ndt = 'but collapsed completely'\n",
    "else:\n",
    "    ndt = 'and ' + value_text(diff2)\n",
    "gpcl = f\"{n}\\${df.loc['2019-10-01', 'W987RC'] / 1_000:,.0f} billion\"\n",
    "npcl = f\"{n}\\${df.loc['2019-10-01', 'W790RC'] / 1_000:,.0f} billion\"\n",
    "if diff < 0:\n",
    "    txt = 'as gross investment fell while deprecation was relatively constant'\n",
    "else:\n",
    "    txt = 'as gross investment recovered from its pandemic lows'\n",
    "    \n",
    "text = (f'In the {ltdate2}, gross private business investment totals '+\n",
    "        f'{levels[\"W987RC\"]} on a seasonally-adjusted annualized basis, '+\n",
    "        f'equivalent to {shgdp[\"W987RC\"]} '+\n",
    "        '(see {\\color{blue!60!violet}\\\\textbf{---}}). Private business investment '+\n",
    "        f'in fixed assets totals {levels[\"A008RC\"]}, or {shgdp[\"A008RC\"]} '+\n",
    "        '(see {\\color{cyan!80!white}\\\\textbf{---}}). Private business depreciation '+\n",
    "        f'totals {levels[\"W276RC\"]} in the quarter, or {shgdp[\"W276RC\"]} '+\n",
    "        '(see {\\color{magenta}\\\\textbf{---}}). '+\n",
    "        f'As a result, net investment is {levels[\"W790RC\"]}, or {shgdp[\"W790RC\"]} '+\n",
    "        '(see {\\color{green!80!blue}\\\\textbf{---}}). \\n\\n '+\n",
    "        'In 2019 Q4, prior to the COVID-19 pandemic, private business gross '+\n",
    "        f'investment was {gpcl}. Since 2019 Q4, annualized gross investment {gdt}. '+\n",
    "        f'Net investment was {npcl} in 2019 Q4, {ndt} from 2019 Q4 to {ltdate1}, '+\n",
    "        f'{txt}. ')\n",
    "write_txt(text_dir / 'businv_levels.txt', text)\n",
    "print(text)  "
   ]
  },
  {
   "cell_type": "code",
   "execution_count": null,
   "metadata": {},
   "outputs": [],
   "source": []
  },
  {
   "cell_type": "code",
   "execution_count": null,
   "metadata": {},
   "outputs": [],
   "source": []
  },
  {
   "cell_type": "code",
   "execution_count": 123,
   "metadata": {
    "ExecuteTime": {
     "end_time": "2020-10-07T00:40:24.837923Z",
     "start_time": "2020-10-07T00:40:24.831278Z"
    }
   },
   "outputs": [
    {
     "data": {
      "text/plain": [
       "1988-01-01    12.644411\n",
       "1988-04-01    12.704459\n",
       "1988-07-01    12.613152\n",
       "1988-10-01    12.629371\n",
       "1989-01-01    12.637163\n",
       "                ...    \n",
       "2019-04-01    13.555320\n",
       "2019-07-01    13.500080\n",
       "2019-10-01    13.345374\n",
       "2020-01-01    13.261289\n",
       "2020-04-01    13.559301\n",
       "Name: A008RC, Length: 130, dtype: float64"
      ]
     },
     "execution_count": 123,
     "metadata": {},
     "output_type": "execute_result"
    }
   ],
   "source": [
    "df1['A008RC']"
   ]
  },
  {
   "cell_type": "code",
   "execution_count": 112,
   "metadata": {
    "ExecuteTime": {
     "end_time": "2020-10-06T23:49:32.627863Z",
     "start_time": "2020-10-06T23:49:32.623540Z"
    }
   },
   "outputs": [
    {
     "data": {
      "text/plain": [
       "1988-01-01     24473.0\n",
       "1988-04-01     28020.0\n",
       "1988-07-01     27085.0\n",
       "1988-10-01     28266.0\n",
       "1989-01-01     55653.0\n",
       "                ...   \n",
       "2019-04-01    -18955.0\n",
       "2019-07-01    -28791.0\n",
       "2019-10-01    -63725.0\n",
       "2020-01-01   -109741.0\n",
       "2020-04-01   -349307.0\n",
       "Length: 130, dtype: float64"
      ]
     },
     "execution_count": 112,
     "metadata": {},
     "output_type": "execute_result"
    }
   ],
   "source": [
    "(df2['W987RC'] - df['A008RC'])"
   ]
  },
  {
   "cell_type": "code",
   "execution_count": 120,
   "metadata": {
    "ExecuteTime": {
     "end_time": "2020-10-07T00:26:28.635065Z",
     "start_time": "2020-10-07T00:26:28.453131Z"
    }
   },
   "outputs": [
    {
     "data": {
      "image/png": "[encoded data removed]",
      "text/plain": [
       "<Figure size 432x288 with 1 Axes>"
      ]
     },
     "metadata": {
      "needs_background": "light"
     },
     "output_type": "display_data"
    }
   ],
   "source": [
    "df1.plot(title='NIPA business investment / GDP');"
   ]
  },
  {
   "cell_type": "code",
   "execution_count": 96,
   "metadata": {
    "ExecuteTime": {
     "end_time": "2020-10-06T23:09:34.991050Z",
     "start_time": "2020-10-06T23:09:34.952871Z"
    }
   },
   "outputs": [],
   "source": [
    "s = ['W987RC']\n",
    "df2 = nipa_df(retrieve_table('T50100')['Data'], s)\n",
    "df['Gross Investment'] = df2.divide(gdp, axis=0)"
   ]
  },
  {
   "cell_type": "code",
   "execution_count": 98,
   "metadata": {
    "ExecuteTime": {
     "end_time": "2020-10-06T23:09:47.696474Z",
     "start_time": "2020-10-06T23:09:47.690124Z"
    }
   },
   "outputs": [
    {
     "data": {
      "text/html": [
       "<div>\n",
       "<style scoped>\n",
       "    .dataframe tbody tr th:only-of-type {\n",
       "        vertical-align: middle;\n",
       "    }\n",
       "\n",
       "    .dataframe tbody tr th {\n",
       "        vertical-align: top;\n",
       "    }\n",
       "\n",
       "    .dataframe thead th {\n",
       "        text-align: right;\n",
       "    }\n",
       "</style>\n",
       "<table border=\"1\" class=\"dataframe\">\n",
       "  <thead>\n",
       "    <tr style=\"text-align: right;\">\n",
       "      <th></th>\n",
       "      <th>W987RC</th>\n",
       "    </tr>\n",
       "  </thead>\n",
       "  <tbody>\n",
       "    <tr>\n",
       "      <th>1988-01-01</th>\n",
       "      <td>0.131268</td>\n",
       "    </tr>\n",
       "    <tr>\n",
       "      <th>1988-04-01</th>\n",
       "      <td>0.132443</td>\n",
       "    </tr>\n",
       "    <tr>\n",
       "      <th>1988-07-01</th>\n",
       "      <td>0.131259</td>\n",
       "    </tr>\n",
       "    <tr>\n",
       "      <th>1988-10-01</th>\n",
       "      <td>0.131529</td>\n",
       "    </tr>\n",
       "    <tr>\n",
       "      <th>1989-01-01</th>\n",
       "      <td>0.136470</td>\n",
       "    </tr>\n",
       "    <tr>\n",
       "      <th>...</th>\n",
       "      <td>...</td>\n",
       "    </tr>\n",
       "    <tr>\n",
       "      <th>2019-04-01</th>\n",
       "      <td>0.134665</td>\n",
       "    </tr>\n",
       "    <tr>\n",
       "      <th>2019-07-01</th>\n",
       "      <td>0.133664</td>\n",
       "    </tr>\n",
       "    <tr>\n",
       "      <th>2019-10-01</th>\n",
       "      <td>0.130524</td>\n",
       "    </tr>\n",
       "    <tr>\n",
       "      <th>2020-01-01</th>\n",
       "      <td>0.127523</td>\n",
       "    </tr>\n",
       "    <tr>\n",
       "      <th>2020-04-01</th>\n",
       "      <td>0.117698</td>\n",
       "    </tr>\n",
       "  </tbody>\n",
       "</table>\n",
       "<p>130 rows × 1 columns</p>\n",
       "</div>"
      ],
      "text/plain": [
       "              W987RC\n",
       "1988-01-01  0.131268\n",
       "1988-04-01  0.132443\n",
       "1988-07-01  0.131259\n",
       "1988-10-01  0.131529\n",
       "1989-01-01  0.136470\n",
       "...              ...\n",
       "2019-04-01  0.134665\n",
       "2019-07-01  0.133664\n",
       "2019-10-01  0.130524\n",
       "2020-01-01  0.127523\n",
       "2020-04-01  0.117698\n",
       "\n",
       "[130 rows x 1 columns]"
      ]
     },
     "execution_count": 98,
     "metadata": {},
     "output_type": "execute_result"
    }
   ],
   "source": [
    "df2.divide(gdp, axis=0)"
   ]
  },
  {
   "cell_type": "markdown",
   "metadata": {},
   "source": [
    "##### Gross, Net, Depreciation"
   ]
  },
  {
   "cell_type": "code",
   "execution_count": 131,
   "metadata": {
    "ExecuteTime": {
     "end_time": "2020-10-07T01:26:59.164010Z",
     "start_time": "2020-10-07T01:26:59.103908Z"
    }
   },
   "outputs": [
    {
     "ename": "NameError",
     "evalue": "name 'data' is not defined",
     "output_type": "error",
     "traceback": [
      "\u001b[0;31m---------------------------------------------------------------------------\u001b[0m",
      "\u001b[0;31mNameError\u001b[0m                                 Traceback (most recent call last)",
      "\u001b[0;32m<ipython-input-131-cf9a1ddcac33>\u001b[0m in \u001b[0;36m<module>\u001b[0;34m\u001b[0m\n\u001b[0;32m----> 1\u001b[0;31m \u001b[0mnipa_df\u001b[0m\u001b[0;34m(\u001b[0m\u001b[0mretrieve_table\u001b[0m\u001b[0;34m(\u001b[0m\u001b[0;34m'T50100'\u001b[0m\u001b[0;34m)\u001b[0m\u001b[0;34m[\u001b[0m\u001b[0;34m'Data'\u001b[0m\u001b[0;34m]\u001b[0m\u001b[0;34m,\u001b[0m \u001b[0ms\u001b[0m\u001b[0;34m)\u001b[0m\u001b[0;34m.\u001b[0m\u001b[0mjoin\u001b[0m\u001b[0;34m(\u001b[0m\u001b[0mdata\u001b[0m\u001b[0;34m[\u001b[0m\u001b[0;34m'A008RC'\u001b[0m\u001b[0;34m]\u001b[0m\u001b[0;34m)\u001b[0m\u001b[0;34m\u001b[0m\u001b[0;34m\u001b[0m\u001b[0m\n\u001b[0m",
      "\u001b[0;31mNameError\u001b[0m: name 'data' is not defined"
     ]
    }
   ],
   "source": [
    "nipa_df(retrieve_table('T50100')['Data'], s).join(data['A008RC'])"
   ]
  },
  {
   "cell_type": "code",
   "execution_count": 126,
   "metadata": {
    "ExecuteTime": {
     "end_time": "2020-10-07T01:24:50.892286Z",
     "start_time": "2020-10-07T01:24:50.796374Z"
    }
   },
   "outputs": [
    {
     "ename": "KeyError",
     "evalue": "'A008RC'",
     "output_type": "error",
     "traceback": [
      "\u001b[0;31m---------------------------------------------------------------------------\u001b[0m",
      "\u001b[0;31mKeyError\u001b[0m                                  Traceback (most recent call last)",
      "\u001b[0;32m~/miniconda3/lib/python3.8/site-packages/pandas/core/indexes/base.py\u001b[0m in \u001b[0;36mget_loc\u001b[0;34m(self, key, method, tolerance)\u001b[0m\n\u001b[1;32m   2888\u001b[0m             \u001b[0;32mtry\u001b[0m\u001b[0;34m:\u001b[0m\u001b[0;34m\u001b[0m\u001b[0;34m\u001b[0m\u001b[0m\n\u001b[0;32m-> 2889\u001b[0;31m                 \u001b[0;32mreturn\u001b[0m \u001b[0mself\u001b[0m\u001b[0;34m.\u001b[0m\u001b[0m_engine\u001b[0m\u001b[0;34m.\u001b[0m\u001b[0mget_loc\u001b[0m\u001b[0;34m(\u001b[0m\u001b[0mcasted_key\u001b[0m\u001b[0;34m)\u001b[0m\u001b[0;34m\u001b[0m\u001b[0;34m\u001b[0m\u001b[0m\n\u001b[0m\u001b[1;32m   2890\u001b[0m             \u001b[0;32mexcept\u001b[0m \u001b[0mKeyError\u001b[0m \u001b[0;32mas\u001b[0m \u001b[0merr\u001b[0m\u001b[0;34m:\u001b[0m\u001b[0;34m\u001b[0m\u001b[0;34m\u001b[0m\u001b[0m\n",
      "\u001b[0;32mpandas/_libs/index.pyx\u001b[0m in \u001b[0;36mpandas._libs.index.IndexEngine.get_loc\u001b[0;34m()\u001b[0m\n",
      "\u001b[0;32mpandas/_libs/index.pyx\u001b[0m in \u001b[0;36mpandas._libs.index.IndexEngine.get_loc\u001b[0;34m()\u001b[0m\n",
      "\u001b[0;32mpandas/_libs/hashtable_class_helper.pxi\u001b[0m in \u001b[0;36mpandas._libs.hashtable.PyObjectHashTable.get_item\u001b[0;34m()\u001b[0m\n",
      "\u001b[0;32mpandas/_libs/hashtable_class_helper.pxi\u001b[0m in \u001b[0;36mpandas._libs.hashtable.PyObjectHashTable.get_item\u001b[0;34m()\u001b[0m\n",
      "\u001b[0;31mKeyError\u001b[0m: 'A008RC'",
      "\nThe above exception was the direct cause of the following exception:\n",
      "\u001b[0;31mKeyError\u001b[0m                                  Traceback (most recent call last)",
      "\u001b[0;32m<ipython-input-126-0b527405ea1e>\u001b[0m in \u001b[0;36m<module>\u001b[0;34m\u001b[0m\n\u001b[1;32m     13\u001b[0m \u001b[0mshgdp\u001b[0m \u001b[0;34m=\u001b[0m \u001b[0;34m{\u001b[0m\u001b[0;34m}\u001b[0m\u001b[0;34m\u001b[0m\u001b[0;34m\u001b[0m\u001b[0m\n\u001b[1;32m     14\u001b[0m \u001b[0;32mfor\u001b[0m \u001b[0mseries\u001b[0m \u001b[0;32min\u001b[0m \u001b[0;34m[\u001b[0m\u001b[0;34m'W790RC'\u001b[0m\u001b[0;34m,\u001b[0m \u001b[0;34m'W276RC'\u001b[0m\u001b[0;34m,\u001b[0m \u001b[0;34m'W987RC'\u001b[0m\u001b[0;34m,\u001b[0m \u001b[0;34m'A008RC'\u001b[0m\u001b[0;34m]\u001b[0m\u001b[0;34m:\u001b[0m\u001b[0;34m\u001b[0m\u001b[0;34m\u001b[0m\u001b[0m\n\u001b[0;32m---> 15\u001b[0;31m     \u001b[0mlevel_val\u001b[0m \u001b[0;34m=\u001b[0m \u001b[0mdf\u001b[0m\u001b[0;34m[\u001b[0m\u001b[0mseries\u001b[0m\u001b[0;34m]\u001b[0m\u001b[0;34m.\u001b[0m\u001b[0miloc\u001b[0m\u001b[0;34m[\u001b[0m\u001b[0;34m-\u001b[0m\u001b[0;36m1\u001b[0m\u001b[0;34m]\u001b[0m \u001b[0;34m/\u001b[0m \u001b[0;36m1_000\u001b[0m\u001b[0;34m\u001b[0m\u001b[0;34m\u001b[0m\u001b[0m\n\u001b[0m\u001b[1;32m     16\u001b[0m     \u001b[0mn\u001b[0m \u001b[0;34m=\u001b[0m \u001b[0;34m''\u001b[0m\u001b[0;34m\u001b[0m\u001b[0;34m\u001b[0m\u001b[0m\n\u001b[1;32m     17\u001b[0m     \u001b[0;32mif\u001b[0m \u001b[0mlevel_val\u001b[0m \u001b[0;34m<\u001b[0m \u001b[0;36m0\u001b[0m\u001b[0;34m:\u001b[0m\u001b[0;34m\u001b[0m\u001b[0;34m\u001b[0m\u001b[0m\n",
      "\u001b[0;32m~/miniconda3/lib/python3.8/site-packages/pandas/core/frame.py\u001b[0m in \u001b[0;36m__getitem__\u001b[0;34m(self, key)\u001b[0m\n\u001b[1;32m   2900\u001b[0m             \u001b[0;32mif\u001b[0m \u001b[0mself\u001b[0m\u001b[0;34m.\u001b[0m\u001b[0mcolumns\u001b[0m\u001b[0;34m.\u001b[0m\u001b[0mnlevels\u001b[0m \u001b[0;34m>\u001b[0m \u001b[0;36m1\u001b[0m\u001b[0;34m:\u001b[0m\u001b[0;34m\u001b[0m\u001b[0;34m\u001b[0m\u001b[0m\n\u001b[1;32m   2901\u001b[0m                 \u001b[0;32mreturn\u001b[0m \u001b[0mself\u001b[0m\u001b[0;34m.\u001b[0m\u001b[0m_getitem_multilevel\u001b[0m\u001b[0;34m(\u001b[0m\u001b[0mkey\u001b[0m\u001b[0;34m)\u001b[0m\u001b[0;34m\u001b[0m\u001b[0;34m\u001b[0m\u001b[0m\n\u001b[0;32m-> 2902\u001b[0;31m             \u001b[0mindexer\u001b[0m \u001b[0;34m=\u001b[0m \u001b[0mself\u001b[0m\u001b[0;34m.\u001b[0m\u001b[0mcolumns\u001b[0m\u001b[0;34m.\u001b[0m\u001b[0mget_loc\u001b[0m\u001b[0;34m(\u001b[0m\u001b[0mkey\u001b[0m\u001b[0;34m)\u001b[0m\u001b[0;34m\u001b[0m\u001b[0;34m\u001b[0m\u001b[0m\n\u001b[0m\u001b[1;32m   2903\u001b[0m             \u001b[0;32mif\u001b[0m \u001b[0mis_integer\u001b[0m\u001b[0;34m(\u001b[0m\u001b[0mindexer\u001b[0m\u001b[0;34m)\u001b[0m\u001b[0;34m:\u001b[0m\u001b[0;34m\u001b[0m\u001b[0;34m\u001b[0m\u001b[0m\n\u001b[1;32m   2904\u001b[0m                 \u001b[0mindexer\u001b[0m \u001b[0;34m=\u001b[0m \u001b[0;34m[\u001b[0m\u001b[0mindexer\u001b[0m\u001b[0;34m]\u001b[0m\u001b[0;34m\u001b[0m\u001b[0;34m\u001b[0m\u001b[0m\n",
      "\u001b[0;32m~/miniconda3/lib/python3.8/site-packages/pandas/core/indexes/base.py\u001b[0m in \u001b[0;36mget_loc\u001b[0;34m(self, key, method, tolerance)\u001b[0m\n\u001b[1;32m   2889\u001b[0m                 \u001b[0;32mreturn\u001b[0m \u001b[0mself\u001b[0m\u001b[0;34m.\u001b[0m\u001b[0m_engine\u001b[0m\u001b[0;34m.\u001b[0m\u001b[0mget_loc\u001b[0m\u001b[0;34m(\u001b[0m\u001b[0mcasted_key\u001b[0m\u001b[0;34m)\u001b[0m\u001b[0;34m\u001b[0m\u001b[0;34m\u001b[0m\u001b[0m\n\u001b[1;32m   2890\u001b[0m             \u001b[0;32mexcept\u001b[0m \u001b[0mKeyError\u001b[0m \u001b[0;32mas\u001b[0m \u001b[0merr\u001b[0m\u001b[0;34m:\u001b[0m\u001b[0;34m\u001b[0m\u001b[0;34m\u001b[0m\u001b[0m\n\u001b[0;32m-> 2891\u001b[0;31m                 \u001b[0;32mraise\u001b[0m \u001b[0mKeyError\u001b[0m\u001b[0;34m(\u001b[0m\u001b[0mkey\u001b[0m\u001b[0;34m)\u001b[0m \u001b[0;32mfrom\u001b[0m \u001b[0merr\u001b[0m\u001b[0;34m\u001b[0m\u001b[0;34m\u001b[0m\u001b[0m\n\u001b[0m\u001b[1;32m   2892\u001b[0m \u001b[0;34m\u001b[0m\u001b[0m\n\u001b[1;32m   2893\u001b[0m         \u001b[0;32mif\u001b[0m \u001b[0mtolerance\u001b[0m \u001b[0;32mis\u001b[0m \u001b[0;32mnot\u001b[0m \u001b[0;32mNone\u001b[0m\u001b[0;34m:\u001b[0m\u001b[0;34m\u001b[0m\u001b[0;34m\u001b[0m\u001b[0m\n",
      "\u001b[0;31mKeyError\u001b[0m: 'A008RC'"
     ]
    }
   ],
   "source": [
    "s = ['W790RC', 'W276RC', 'W987RC']\n",
    "\n",
    "df = nipa_df(retrieve_table('T50100')['Data'], s).append()\n",
    "gdp = nipa_df(retrieve_table('T10105')['Data'], ['A191RC'])['A191RC']\n",
    "res = (df.div(gdp, axis=0) * 100).dropna()\n",
    "res['A008RC'] = df1['A008RC']\n",
    "res.loc['1989':].to_csv(data_dir / 'businv_main.csv', index_label='date')\n",
    "\n",
    "ltdate1 = dtxt(df.index[-1])['qtr1']\n",
    "ltdate2 = dtxt(df.index[-1])['qtr2']\n",
    "\n",
    "levels = {}\n",
    "shgdp = {}\n",
    "for series in ['W790RC', 'W276RC', 'W987RC', 'A008RC']:\n",
    "    level_val = df[series].iloc[-1] / 1_000\n",
    "    n = ''\n",
    "    if level_val < 0:\n",
    "        n = 'negative '\n",
    "        level_val = abs(level_val)\n",
    "    txt = f\"{n}\\${level_val:,.0f} billion\"\n",
    "    levels[series] = txt\n",
    "    shgdp[series] = f\"{res[series].iloc[-1]:.1f} percent of GDP\"\n",
    "alsoor = 'or'    \n",
    "if shgdp['W276RC'] == shgdp['W987RC']:\n",
    "    alsoor = 'also'\n",
    "    \n",
    "diff = ((df['W987RC'].iloc[-1] / df.loc['2019-10-01', 'W987RC']) - 1) * 100\n",
    "gdt = value_text(diff)\n",
    "diff2 = ((df['W790RC'].iloc[-1] / df.loc['2019-10-01', 'W790RC']) - 1) * 100\n",
    "if diff2 < -95:\n",
    "    ndt = 'but collapsed completely'\n",
    "else:\n",
    "    ndt = 'and ' + value_text(diff2)\n",
    "gpcl = f\"{n}\\${df.loc['2019-10-01', 'W987RC'] / 1_000:,.0f} billion\"\n",
    "npcl = f\"{n}\\${df.loc['2019-10-01', 'W790RC'] / 1_000:,.0f} billion\"\n",
    "if diff < 0:\n",
    "    txt = 'as gross investment fell while deprecation was relatively constant'\n",
    "else:\n",
    "    txt = 'as gross investment recovered from its pandemic lows'\n",
    "    \n",
    "text = (f'In the {ltdate2}, gross private business investment totals '+\n",
    "        f'{levels[\"W987RC\"]} on a seasonally-adjusted annualized basis, '+\n",
    "        f'equivalent to {shgdp[\"W987RC\"]} '+\n",
    "        '(see {\\color{blue!60!violet}\\\\textbf{---}}). Private business fixed '+\n",
    "        f'investment totals {levels[\"A008RC\"]}, or {shgdp[\"A008RC\"]} '+\n",
    "        '(see {\\color{cyan!80!white}\\\\textbf{---}}). Private business depreciation '+\n",
    "        f'totals {levels[\"W276RC\"]} in the quarter, {alsoor} {shgdp[\"W276RC\"]} '+\n",
    "        '(see {\\color{magenta}\\\\textbf{---}}). '+\n",
    "        f'As a result, net investment is {levels[\"W790RC\"]}, or {shgdp[\"W790RC\"]} '+\n",
    "        '(see {\\color{green!80!blue}\\\\textbf{---}}). \\n\\n '+\n",
    "        'In 2019 Q4, prior to the COVID-19 pandemic, private business gross '+\n",
    "        f'investment was {gpcl}. Since 2019 Q4, annualized gross investment {gdt}. '+\n",
    "        f'Net investment was {npcl} in 2019 Q4, {ndt} from 2019 Q4 to {ltdate1}, '+\n",
    "        f'{txt}. ')\n",
    "write_txt(text_dir / 'businv_levels.txt', text)\n",
    "print(text)    "
   ]
  },
  {
   "cell_type": "code",
   "execution_count": null,
   "metadata": {},
   "outputs": [],
   "source": []
  },
  {
   "cell_type": "code",
   "execution_count": null,
   "metadata": {},
   "outputs": [],
   "source": []
  },
  {
   "cell_type": "markdown",
   "metadata": {},
   "source": [
    "### Durable goods new orders"
   ]
  },
  {
   "cell_type": "code",
   "execution_count": 9,
   "metadata": {
    "ExecuteTime": {
     "end_time": "2020-10-02T17:45:40.280027Z",
     "start_time": "2020-10-02T17:45:39.404244Z"
    }
   },
   "outputs": [],
   "source": [
    "# New orders for capital goods excluding defense or aircraft\n",
    "key = census_key\n",
    "base = 'https://api.census.gov/data/timeseries/eits/advm3'\n",
    "param = 'cell_value,time_slot_id'\n",
    "t = '&time=from+1992'\n",
    "cat = '&category_code=NXA'\n",
    "dtc = '&data_type_code=NO'\n",
    "oth = '&for=us&seasonally_adj=yes'\n",
    "url = f'{base}?get={param}&key={key}{cat}{dtc}{t}{oth}'\n",
    "\n",
    "r = requests.get(url).json()\n",
    "\n",
    "df = pd.DataFrame({'date': [pd.to_datetime(i[4]) for i in r[1:]], \n",
    "                   'value': [float(i[0]) for i in r[1:]]}).sort_values('date')\n",
    "\n",
    "df = df.set_index('date')\n",
    "\n",
    "gdp = nipa_df(retrieve_table('T10105')['Data'], ['A191RC'])\n",
    "\n",
    "result = ((df['value'].resample('QS').sum() * 4  / gdp['A191RC']).dropna() * 100).iloc[1:]\n",
    "(result.rename('value').loc['1989':].to_csv(data_dir / 'dgno.csv', index_label='date', header=True))\n",
    "\n",
    "node = end_node(result, 'purple!50!violet')\n",
    "write_txt(text_dir / 'dgno_node.txt', node)\n",
    "\n",
    "ldate = dtxt(df.index[-1])['mon1']\n",
    "date_latest = dtxt(df.index[-1])['datetime']\n",
    "month_short = df.index[-1].strftime('%b')"
   ]
  },
  {
   "cell_type": "code",
   "execution_count": 10,
   "metadata": {
    "ExecuteTime": {
     "end_time": "2020-10-02T17:45:40.845455Z",
     "start_time": "2020-10-02T17:45:40.825142Z"
    }
   },
   "outputs": [
    {
     "name": "stdout",
     "output_type": "stream",
     "text": [
      "New orders for manufactured core capital goods excluding aircraft totalled \\$68 billion in August 2020, equivalent to 3.9 percent of GDP (see {\\color{purple!50!violet}\\textbf{---}}). New orders increased by 2.8 percent over the past year.\n"
     ]
    }
   ],
   "source": [
    "one_yr_ch = (df.pct_change(12) * 100).dropna()['value'].iloc[-1]\n",
    "val = inc_dec_percent(one_yr_ch)\n",
    "\n",
    "text = ('New orders for manufactured core capital goods excluding aircraft '+\n",
    "        f'totalled \\${df.iloc[-1][0] / 1000:,.0f} billion in {ldate}, '+\n",
    "        f'equivalent to {result.iloc[-1]:.1f} percent of GDP '+\n",
    "        '(see {\\color{purple!50!violet}\\\\textbf{---}}). New orders '+\n",
    "        f'{val} over the past year.')\n",
    "\n",
    "write_txt(text_dir / 'dgno.txt', text)\n",
    "print(text)\n",
    "\n",
    "text = ('xtick={{1992-01-01}, {1995-01-01}, {2000-01-01}, {2005-01-01}, '+\n",
    "f'{{2010-01-01}}, {{2015-01-01}}, {{{date_latest}}}}}, '+\n",
    "f'xticklabels={{`92, `95, `00, `05, `10, `15, {month_short}}}, ')\n",
    "\n",
    "text_full = ('\\\\begin{tikzpicture}'+\n",
    "'\\\\begin{axis}[\\\\bbar{y}{0}, \\dateaxisticks ytick={4, 6, 8}, width=6.4cm, height=5.4cm,'+\n",
    "'ymin=3.0, clip=false,'+\n",
    "text + \n",
    "'minor xtick={}]'+\n",
    "'\\\\rebars'+\n",
    "'\\\\thickline{purple!50!violet}{date}{value}{data/dgno.csv}'+\n",
    "'\\input{text/dgno_node.txt}'+\n",
    "'\\end{axis}'+\n",
    "'\\end{tikzpicture}')\n",
    "\n",
    "write_txt(text_dir / 'dgno.tex', text_full)"
   ]
  },
  {
   "cell_type": "code",
   "execution_count": null,
   "metadata": {},
   "outputs": [],
   "source": []
  },
  {
   "cell_type": "code",
   "execution_count": null,
   "metadata": {},
   "outputs": [],
   "source": []
  },
  {
   "cell_type": "markdown",
   "metadata": {},
   "source": [
    "### Government spending and investment"
   ]
  },
  {
   "cell_type": "code",
   "execution_count": 27,
   "metadata": {
    "ExecuteTime": {
     "end_time": "2020-09-30T12:51:25.056284Z",
     "start_time": "2020-09-30T12:51:24.899258Z"
    }
   },
   "outputs": [
    {
     "name": "stdout",
     "output_type": "stream",
     "text": [
      "Government consumption expeditures and gross investment, which provide services and infrastructure, contributed 0.77 percentage point to real GDP growth in 2020 Q2, substantially above the average contribution of 0.45 percentage point over the past year, and far above the average of 0.24 percentage point since 1989. In 2020 Q2, federal defense spending and investment (see\\cbox{blue!60!black}) contributed 0.18 percentage point, nondefense federal government spending and investment (see\\cbox{green!85!black}) contributed 0.98 percentage point, and state and local government (see\\cbox{purple!70!magenta}) subtracted 0.40 percentage point.\n"
     ]
    }
   ],
   "source": [
    "n = {'A822RY': 'Total',\n",
    "     'A823RY': '\\hspace{1mm}Federal total',\n",
    "     'A824RY': '\\hspace{1mm}\\cbox{blue!60!black}National defense',\n",
    "     'A997RY': '\\hspace{7mm}Consumption expenditures',\n",
    "     'A788RY': '\\hspace{7mm}Gross investment',\n",
    "     'A825RY': '\\hspace{1mm}\\cbox{green!85!black}Nondefense',\n",
    "     'A542RY': '\\hspace{7mm}Consumption expenditures',\n",
    "     'A798RY': '\\hspace{7mm}Gross investment',\n",
    "     'A829RY': '\\hspace{-2mm}\\cbox{purple!70!magenta}State \\& local total',\n",
    "     'A991RY': '\\hspace{5mm}Consumption expenditures',\n",
    "     'A799RY': '\\hspace{5mm}Gross investment'}\n",
    "\n",
    "s = n.keys()\n",
    "\n",
    "df = nipa_df(retrieve_table('T10502')['Data'], s)\n",
    "df.loc['1989':].to_csv(data_dir / 'gov.csv', index_label='date')\n",
    "\n",
    "d = series_info(df['A822RY'])    \n",
    "d2 = {}\n",
    "for i in ['A824RY', 'A825RY', 'A829RY']:\n",
    "    d2[i] = cont_subt(df[i].iloc[-1], 'end')\n",
    "    \n",
    "ltmain = cont_subt(d['val_latest'], 'main')\n",
    "compare = compare_text(d['val_latest'], d['one_year_mean'], [0.05, 0.25, 0.5])\n",
    "compare2 = compare_text(d['val_latest'], d['mean'], [0.05, 0.25, 0.5])\n",
    "\n",
    "ltoym = f'{d[\"one_year_mean\"]:.2f} ' + ['percentage point' if abs(d[\"one_year_mean\"]) < 1.05 else 'percentage points'][0]\n",
    "ltmean = f'{d[\"mean\"]:.2f} ' + ['percentage point' if abs(d[\"mean\"]) < 1.05 else 'percentage points'][0]\n",
    "    \n",
    "txt = ('Government consumption expeditures and gross investment, which provide '+\n",
    "       f'services and infrastructure, {ltmain} real GDP growth in {d[\"date_latest_ft\"]}, '+\n",
    "       f'{compare} the average contribution of {ltoym} '+\n",
    "       f'over the past year, and {compare2} the average of {ltmean} since 1989. '+\n",
    "       f'In {d[\"date_latest_ft\"]}, federal defense spending and investment (see\\cbox{{blue!60!black}}) '+\n",
    "       f'{d2[\"A824RY\"]}, nondefense federal government spending and investment '+\n",
    "       f'(see\\cbox{{green!85!black}}) {d2[\"A825RY\"]}, and state and '+\n",
    "       f'local government (see\\cbox{{purple!70!magenta}}) {d2[\"A829RY\"]}.')\n",
    "write_txt(text_dir / 'gov.txt', txt)\n",
    "print(txt)"
   ]
  },
  {
   "cell_type": "code",
   "execution_count": 28,
   "metadata": {
    "ExecuteTime": {
     "end_time": "2020-09-30T12:51:27.831938Z",
     "start_time": "2020-09-30T12:51:27.817228Z"
    }
   },
   "outputs": [],
   "source": [
    "result = df[n.keys()]\n",
    "\n",
    "data = result.iloc[-5:].iloc[::-1].T\n",
    "\n",
    "cols = [f' {q.year} Q{q.quarter}' \n",
    "        if i == 0 else f'`{str(q.year)[2:]} Q{q.quarter}'\n",
    "        for i, q in enumerate(data.columns)]\n",
    "\n",
    "data.columns = cols\n",
    "data['3-year'] = result.rolling(13).mean().iloc[-1].round(2)\n",
    "data['10-year'] = result.rolling(41).mean().iloc[-1].round(2)\n",
    "data['30-year'] = result.rolling(121).mean().iloc[-1].round(2)\n",
    "data.index = data.index.map(n)\n",
    "data = data.applymap('{:.2f}'.format)\n",
    "data.to_csv(data_dir / 'gov.tex', sep='&', line_terminator='\\\\\\ ', quotechar=' ')"
   ]
  },
  {
   "cell_type": "code",
   "execution_count": null,
   "metadata": {},
   "outputs": [],
   "source": []
  },
  {
   "cell_type": "code",
   "execution_count": null,
   "metadata": {},
   "outputs": [],
   "source": []
  },
  {
   "cell_type": "markdown",
   "metadata": {},
   "source": [
    "### Government receipts and expenditures"
   ]
  },
  {
   "cell_type": "code",
   "execution_count": 29,
   "metadata": {
    "ExecuteTime": {
     "end_time": "2020-09-30T12:51:30.764609Z",
     "start_time": "2020-09-30T12:51:30.658601Z"
    }
   },
   "outputs": [
    {
     "name": "stdout",
     "output_type": "stream",
     "text": [
      "Combined state and local government expenditures total \\$3.0 trillion, or 15.3 percent of GDP, in 2020 Q2. Receipts for the same period total \\$3.5 trillion or 17.7 percent of GDP. In 2020 Q2, the combined state and local government surplus was \\$470 billion or 2.4 percent of GDP. \n",
      "Federal government expenditures total \\$9.1 trillion, or 46.7 percent of GDP, in 2020 Q2. Receipts for the same period total \\$3.5 trillion or 17.7 percent of GDP. In 2020 Q2, the federal government deficit was \\$5,648 billion or 28.9 percent of GDP. \n"
     ]
    }
   ],
   "source": [
    "gdp = nipa_df(retrieve_table('T10105')['Data'], ['A191RC'])['A191RC']\n",
    "\n",
    "d = {'slggdp': {'name': 'combined state and local government', \n",
    "                'table': 'T30300', 'series': \n",
    "                {'W024RC': 'SLG_EXP', 'W023RC': 'SLG_REC'}},\n",
    "     'fedgdp': {'name': 'federal government', \n",
    "                'table': 'T30200', 'series':\n",
    "                {'W005RC': 'FED_REC', 'W013RC': 'FED_EXP'}}}\n",
    "\n",
    "data = pd.DataFrame()\n",
    "\n",
    "ltdate = dtxt(gdp.index[-1])['qtr1']\n",
    "\n",
    "for group, details in d.items():\n",
    "    df = nipa_df(retrieve_table(details['table'])['Data'], details['series'].keys())\n",
    "    (df.div(gdp, axis=0) * 100).loc['1989':].to_csv(data_dir / f'{group}.csv', \n",
    "                                                    index_label='date', float_format='%g')\n",
    "    \n",
    "    grp = group[:3].upper()\n",
    "    df.columns = [details['series'][i] for i in df.columns]\n",
    "    bal = df[f'{grp}_REC'] - df[f'{grp}_EXP']\n",
    "    bal_lt = bal.dropna().iloc[-1]\n",
    "    bal_lt_dt = dtxt(bal.dropna().index[-1])['qtr1']\n",
    "    def_sur = 'deficit' if bal_lt < 0 else 'surplus'\n",
    "    df[f'{grp}_BAL'] = bal\n",
    "    \n",
    "    for col in df.columns:\n",
    "        data[col] = df[col]\n",
    "        data[col+'_GDP'] = df[col].div(gdp, axis=0) * 100\n",
    "        \n",
    "    bal_gdp = data[f'{grp}_BAL_GDP'].dropna().iloc[-1]\n",
    "    bal_txt = (f'In {bal_lt_dt}, the {d[group][\"name\"]} {def_sur} was '+\n",
    "               f'\\${abs(bal_lt) / 1000:,.0f} billion or {abs(bal_gdp):.1f} percent of GDP. ')\n",
    "    \n",
    "    exp_txt = (f'{d[group][\"name\"].capitalize()} expenditures total '+\n",
    "               f'\\${data[grp+\"_EXP\"].iloc[-1] / 1000000:.1f} trillion, '+\n",
    "               f'or {data[grp+\"_EXP_GDP\"].iloc[-1]:.1f} percent of GDP, in {ltdate}. ')\n",
    "    \n",
    "        \n",
    "    if pd.isna(df[[i for i in df.columns if i[4:] == 'REC'][0]].iloc[-1]) == True:\n",
    "        rec_txt = (f'BEA has not yet released receipts data for {ltdate}, however, '+\n",
    "                   f'in {bal_lt_dt}, {d[group][\"name\"]} receipts total '+\n",
    "                   f'\\${data[grp+\"_REC\"].dropna().iloc[-1] / 1000000:.1f} trillion, '+\n",
    "                   f'or {data[grp+\"_REC_GDP\"].dropna().iloc[-1]:.1f} percent of GDP. ')\n",
    "    else:\n",
    "        rec_txt = ('Receipts for the same period total '+\n",
    "                   f'\\${data[grp+\"_REC\"].dropna().iloc[-1] / 1000000:.1f} trillion '+\n",
    "                   f'or {data[grp+\"_REC_GDP\"].dropna().iloc[-1]:.1f} percent of GDP. ')\n",
    "    \n",
    "    text = exp_txt + rec_txt + bal_txt\n",
    "    write_txt(text_dir / f'{group}.txt', text)\n",
    "    print(text)"
   ]
  },
  {
   "cell_type": "code",
   "execution_count": null,
   "metadata": {},
   "outputs": [],
   "source": []
  },
  {
   "cell_type": "code",
   "execution_count": null,
   "metadata": {},
   "outputs": [],
   "source": []
  },
  {
   "cell_type": "markdown",
   "metadata": {},
   "source": [
    "### Public Debt by Holder"
   ]
  },
  {
   "cell_type": "code",
   "execution_count": 30,
   "metadata": {
    "ExecuteTime": {
     "end_time": "2020-09-30T12:51:34.845404Z",
     "start_time": "2020-09-30T12:51:33.720293Z"
    }
   },
   "outputs": [],
   "source": [
    "series = ['FDHBATN', 'GFDEBTN', 'FDHBFRBN', 'FDHBPIN', 'FDHBFIN']\n",
    "start = '1988-01-01'\n",
    "ftype = '&file_type=json'\n",
    "base = 'https://api.stlouisfed.org/fred/series/observations?'\n",
    "\n",
    "df = pd.DataFrame()\n",
    "\n",
    "for srs in series:\n",
    "    param = f'series_id={srs}&observation_start={start}&api_key={fred_key}'\n",
    "   \n",
    "\n",
    "    url = f'{base}{param}{ftype}'\n",
    "    r = requests.get(url).json()['observations']\n",
    "    data = pd.Series({i['date']: (float(i['value']) / 1000.0) \n",
    "                      if srs in series[:2] \n",
    "                      else float(i['value']) for i in r})\n",
    "    \n",
    "    df[srs] = data"
   ]
  },
  {
   "cell_type": "code",
   "execution_count": 31,
   "metadata": {
    "ExecuteTime": {
     "end_time": "2020-09-30T12:51:34.883024Z",
     "start_time": "2020-09-30T12:51:34.850340Z"
    }
   },
   "outputs": [
    {
     "name": "stdout",
     "output_type": "stream",
     "text": [
      "In the second quarter of 2020, total public debt was \\$26.5 trllion, equivalent to 135.6 percent of GDP. Of this, \\$9.3 trillion, or 35.1 percent of the total, is held by private domestic investors (see\\cbox{green!60!black}). An additional \\$7.0 trillion, or 26.6 percent of the total, is held by foreign investors (see\\cbox{orange!70!white}). The remainder is held by the Federal Reserve (see\\cbox{blue}) and various government agencies and trusts (see\\cbox{cyan!50!white}), such as the Social Security Trust Fund. \n"
     ]
    }
   ],
   "source": [
    "df = df.dropna()\n",
    "df['PD'] = df['FDHBPIN'] - df['FDHBFIN']\n",
    "df['IG'] = df['GFDEBTN'] - (df['FDHBFRBN'] + df['FDHBPIN'])\n",
    "\n",
    "gdp = nipa_df(retrieve_table('T10105')['Data'], ['A191RC'])['A191RC']\n",
    "\n",
    "data = df.div(gdp / 1000.0, axis=0).dropna()\n",
    "\n",
    "(data[['PD', 'FDHBFIN', 'FDHBFRBN', 'IG']] * 100).to_csv(data_dir / 'pubdebt.csv', index_label='date')\n",
    "\n",
    "ld = pd.to_datetime(df.index[-1])\n",
    "ldate = dtxt(ld)['qtr2']\n",
    "\n",
    "sh = df.div(df['GFDEBTN'], axis=0).iloc[-1] * 100\n",
    "lv = df.iloc[-1] / 1000\n",
    "dl = data.iloc[-1] * 100\n",
    "\n",
    "text = (f'In {ldate}, total public debt was \\${lv.GFDEBTN:.1f} trllion, '+\n",
    "        f'equivalent to {dl.GFDEBTN:.1f} percent of GDP. Of this, \\${lv.PD:.1f} '+\n",
    "        f'trillion, or {sh.PD:.1f} percent of the total, is held by '+\n",
    "        'private domestic investors (see\\cbox{green!60!black}). An additional '+\n",
    "        f'\\${lv.FDHBFIN:.1f} trillion, or {sh.FDHBFIN:.1f} percent '+\n",
    "        'of the total, is held by foreign investors (see\\cbox{orange!70!white}). '+\n",
    "        'The remainder is held by the Federal Reserve (see\\cbox{blue}) '+\n",
    "        'and various government agencies and trusts (see\\cbox{cyan!50!white}), '+\n",
    "        'such as the Social Security Trust Fund. ')\n",
    "write_txt(text_dir / 'pubdebt.txt', text)\n",
    "print(text)"
   ]
  },
  {
   "cell_type": "code",
   "execution_count": null,
   "metadata": {},
   "outputs": [],
   "source": []
  },
  {
   "cell_type": "code",
   "execution_count": null,
   "metadata": {},
   "outputs": [],
   "source": []
  },
  {
   "cell_type": "markdown",
   "metadata": {},
   "source": [
    "### Personal Income"
   ]
  },
  {
   "cell_type": "code",
   "execution_count": 32,
   "metadata": {
    "ExecuteTime": {
     "end_time": "2020-09-30T12:51:38.326896Z",
     "start_time": "2020-09-30T12:51:38.174782Z"
    }
   },
   "outputs": [
    {
     "name": "stdout",
     "output_type": "stream",
     "text": [
      "Aggregate real personal income increased at an annualized rate of 36.37 percent in 2020 Q2. Labor income subtracted 17.85 percentage points from overall growth, capital income subtracted 6.03 percentage points, and welfare income contributed 60.25 percentage points. \n"
     ]
    }
   ],
   "source": [
    "s = ['DPCERG']\n",
    "\n",
    "d = nipa_df(retrieve_table('T20304')['Data'], s)['DPCERG']\n",
    "deflator = d.iloc[-1] / d\n",
    "\n",
    "s = ['A065RC', 'A033RC', 'A041RC', 'A048RC', 'W210RC', 'A577RC', 'A061RC']\n",
    "\n",
    "df = (nipa_df(retrieve_table('T20100')['Data'], s)\n",
    "      .assign(CAPITAL = lambda x: x['A041RC'] + x['A048RC'] + x['W210RC'],\n",
    "              TRANSFER = lambda x: x['A577RC'] - x['A061RC'])\n",
    "      .drop(['A061RC', 'A041RC', 'A048RC', 'W210RC', 'A577RC'], axis=1)\n",
    "      .multiply(deflator, axis=0))\n",
    "growth_contrib(df, 'A065RC').loc['1989':].to_csv(data_dir / 'pi.csv', index_label='date')\n",
    "\n",
    "\n",
    "data = growth_contrib(df, 'A065RC').rename({'A065RC': 'TOTAL', 'A033RC': 'LABOR'}, axis=1)\n",
    "\n",
    "val3y = data.rolling(12).mean().iloc[-1]\n",
    "\n",
    "ltdate = dtxt(data.index[-1])['qtr1']\n",
    "\n",
    "d = {}\n",
    "for i in data.keys():\n",
    "    val = data[i].iloc[-1]\n",
    "    pp = 'percentage points' if abs(val) > 1.05 else 'percentage point'\n",
    "    if val >= 0.1:\n",
    "        d[i] = f'contributed {val:.2f} {pp} to'\n",
    "    elif val <= 0.1:\n",
    "        d[i] = f'subtracted {abs(val):.2f} {pp} from'\n",
    "    else:\n",
    "        d[i] = 'did not contribute significantly to'\n",
    "        \n",
    "d['TOTAL'] = (d['TOTAL']\n",
    "              .replace('contributed', 'increased at an annualized rate of')\n",
    "              .replace('subtracted', 'decreased at an annualized rate of')\n",
    "              .replace('percentage points', 'percent')\n",
    "              .replace(' to', '').replace(' from', ''))\n",
    "\n",
    "for i in ['TRANSFER', 'CAPITAL']:\n",
    "    d[i] = d[i].replace(' to', '').replace(' from', '')\n",
    "    \n",
    "d2 = {}\n",
    "for i in data.keys():\n",
    "    val = val3y[i]\n",
    "    pp = 'percentage points' if abs(val) > 1.05 else 'percentage point'\n",
    "    if val >= 0.1:\n",
    "        d2[i] = f'contributed an average of {val:.2f} {pp}'\n",
    "    elif val <= 0.1:\n",
    "        d2[i] = f'subtracted an average of {abs(val):.2f} {pp}'\n",
    "    else:\n",
    "        d2[i] = 'did not contribute significantly, on average'\n",
    "        \n",
    "text = (f'Aggregate real personal income {d[\"TOTAL\"]} in {ltdate}. '+\n",
    "        f'Labor income {d[\"LABOR\"]} overall growth, '+\n",
    "        f'capital income {d[\"CAPITAL\"]}, and welfare income {d[\"TRANSFER\"]}. ')\n",
    "write_txt(text_dir / 'pi.txt', text)\n",
    "print(text)"
   ]
  },
  {
   "cell_type": "code",
   "execution_count": null,
   "metadata": {},
   "outputs": [],
   "source": []
  },
  {
   "cell_type": "code",
   "execution_count": null,
   "metadata": {},
   "outputs": [],
   "source": []
  },
  {
   "cell_type": "markdown",
   "metadata": {},
   "source": [
    "### Consumer Spending Growth Contributions"
   ]
  },
  {
   "cell_type": "code",
   "execution_count": 33,
   "metadata": {
    "ExecuteTime": {
     "end_time": "2020-09-30T12:51:41.351388Z",
     "start_time": "2020-09-30T12:51:41.243119Z"
    }
   },
   "outputs": [],
   "source": [
    "s = ['B230RC']\n",
    "\n",
    "population = nipa_df(retrieve_table('T20100')['Data'], s)['B230RC']\n",
    "\n",
    "s = ['DPCERG']\n",
    "\n",
    "d = nipa_df(retrieve_table('T20304')['Data'], s)['DPCERG']\n",
    "deflator = d.iloc[-1] / d\n",
    "\n",
    "s = ['A067RC', 'A068RC', 'A071RC', 'DPCERC']\n",
    "\n",
    "df = (nipa_df(retrieve_table('T20100')['Data'], s)\n",
    "      .assign(OTHER = lambda x: -(x['A068RC'] - x['DPCERC']),\n",
    "              SAVING = lambda x: -x['A071RC'])\n",
    "      .drop(['A068RC'], axis=1)\n",
    "      .divide(population, axis=0)\n",
    "      .multiply(deflator, axis=0))\n",
    "\n",
    "data = growth_contrib(df, 'DPCERC').rolling(4).mean()\n",
    "data3y = growth_contrib(df, 'DPCERC').rolling(12).mean()\n",
    "data.loc['1989':].to_csv(data_dir / 'pcedecomp.csv', index_label='date')"
   ]
  },
  {
   "cell_type": "code",
   "execution_count": 34,
   "metadata": {
    "ExecuteTime": {
     "end_time": "2020-09-30T12:51:42.079419Z",
     "start_time": "2020-09-30T12:51:42.075395Z"
    }
   },
   "outputs": [],
   "source": [
    "date = f'{data.index[-1].year} Q{data.index[-1].quarter}'\n",
    "\n",
    "pce = round(data['DPCERC'].iloc[-1], 1)\n",
    "if pce > 0:\n",
    "    pcedir = 'increased'\n",
    "elif pce < 0:\n",
    "    pcedir = 'decreased'\n",
    "else: \n",
    "    pcedir = ''\n",
    "pcetext = f'{pcedir} at an average rate of {abs(pce):.1f} percent' \n",
    "if pce == 0:\n",
    "    pcetext = 'was unchanged'\n",
    "    \n",
    "slist = ['A067RC', 'SAVING', 'OTHER']\n",
    "d = {}\n",
    "for i in slist:\n",
    "    d[i] = round(data[i].iloc[-1], 1)\n",
    "    tname = f'{i}txt'\n",
    "    if d[i] > 0:\n",
    "        tmpdir = 'added'\n",
    "    elif d[i] < 0:\n",
    "        tmpdir = 'subtracted'\n",
    "    else:\n",
    "        tmpdir = ''\n",
    "    tmptxt = f'{tmpdir} {abs(d[i]):.1f} percentage points'\n",
    "    if d[i] == 0:\n",
    "        tmptxt = \"didn't affect the total\"\n",
    "    d[tname] = tmptxt"
   ]
  },
  {
   "cell_type": "code",
   "execution_count": 35,
   "metadata": {
    "ExecuteTime": {
     "end_time": "2020-09-30T12:51:42.912687Z",
     "start_time": "2020-09-30T12:51:42.908403Z"
    }
   },
   "outputs": [
    {
     "name": "stdout",
     "output_type": "stream",
     "text": [
      "Real per capita consumer spending decreased at an average rate of 9.4 percent over the four quarters ending 2020 Q2. Changes to disposable income added 11.2 percentage points, changes to saving subtracted 21.2 percentage points, and changes to other outlays added 0.5 percentage points.\n",
      "Over the past three years, real per capita consumer spending growth has averaged -1.7 percent, with income growth contribuing an average of 5.4 percentage points and saving subtracting an average of 7.1 percentage points.\n"
     ]
    }
   ],
   "source": [
    "pcetxt1 = (f'Real per capita consumer spending {pcetext} over the '+\n",
    "           f'four quarters ending {date}. Changes to disposable income '+\n",
    "           f'{d[\"A067RCtxt\"]}, changes to saving {d[\"SAVINGtxt\"]}, and '+\n",
    "           f'changes to other outlays {d[\"OTHERtxt\"]}.')\n",
    "\n",
    "pcetxt2 = ('Over the past three years, real per capita consumer spending '+\n",
    "           f'growth has averaged {data3y[\"DPCERC\"].iloc[-1]:.1f} percent, '+\n",
    "           f'with income growth contribuing an average of {data3y[\"A067RC\"].iloc[-1]:.1f} '+\n",
    "           'percentage points and saving subtracting an average of '+\n",
    "           f'{abs(data3y[\"SAVING\"].iloc[-1]):.1f} percentage points.')\n",
    "\n",
    "pcetxt = f'{pcetxt1} {pcetxt2}'\n",
    "\n",
    "write_txt(text_dir / 'pcedecomp.txt', pcetxt)\n",
    "\n",
    "print(pcetxt1)\n",
    "\n",
    "print(pcetxt2)"
   ]
  },
  {
   "cell_type": "code",
   "execution_count": null,
   "metadata": {},
   "outputs": [],
   "source": []
  },
  {
   "cell_type": "markdown",
   "metadata": {},
   "source": [
    "### Sectoral Accounts\n",
    "\n",
    "**NOTE:** Need to convert \"deficit\", \"borrower\" etc to parameters!"
   ]
  },
  {
   "cell_type": "code",
   "execution_count": 36,
   "metadata": {
    "ExecuteTime": {
     "end_time": "2020-09-30T12:51:47.150436Z",
     "start_time": "2020-09-30T12:51:47.025459Z"
    }
   },
   "outputs": [
    {
     "name": "stdout",
     "output_type": "stream",
     "text": [
      "In 2020 Q2, the US private sector was a net lender (running a surplus) of the equivalent of 24.6 percent of GDP, far above the 2.6 percent surplus in 2015 Q1. The rest of the world was a net lender to the US, to the equivalent of 2.9 percent of GDP in 2020 Q2 compared to 2.4 percent in 2015 Q1. Balancing these transactions, the government (federal, state, and local combined) was a net borrower (running a deficit) of the equivalent of 27.5 percent of GDP, compared to 5.0 percent in 2015. \n",
      "\n",
      " Within the private sector, households were net lenders of the equivalent of 23.3 percent of GDP in 2020 Q2 (see\\cbox{orange!90!yellow}), while the net financial balance of private businesses--corporate and noncorporate--was equivalent to 1.2 percent of GDP (see\\cbox{purple!50!red}).\n"
     ]
    }
   ],
   "source": [
    "s = ['W162RC', 'W994RC', 'AD01RC', 'W995RC', 'W996RC', 'AD03RC']\n",
    "df = (nipa_df(retrieve_table('T50100')['Data'], s).div(\n",
    "      nipa_df(retrieve_table('T10105')['Data'], ['A191RC'])['A191RC'], axis=0)) * 100\n",
    "\n",
    "df[['W995RC', 'W996RC', 'AD03RC']].dropna().to_csv(data_dir / 'sectbal2.csv', index_label='date')\n",
    "\n",
    "data = pd.DataFrame()\n",
    "data['PRIV'] = df['W994RC']\n",
    "data['GOV'] = df['AD01RC']\n",
    "data['ROW'] = -df['W162RC']\n",
    "data = data.dropna()\n",
    "date = dtxt(data.index[-1])['qtr1']\n",
    "datepr = '2015-01-01'\n",
    "dateprtxt = dtxt(pd.to_datetime(datepr))['qtr1']\n",
    "yrpr = dtxt(pd.to_datetime(datepr))['year']\n",
    "\n",
    "data.dropna().to_csv(data_dir / 'sectbal.csv', index_label='date')\n",
    "\n",
    "priv_curr = abs(data['PRIV'].iloc[-1])\n",
    "priv_prev = abs(data.loc[datepr, 'PRIV'])\n",
    "gov_curr = abs(data['GOV'].iloc[-1])\n",
    "gov_prev = abs(data.loc[datepr, 'GOV'])\n",
    "row_curr = abs(data['ROW'].iloc[-1])\n",
    "row_prev = abs(data.loc[datepr, 'ROW'])\n",
    "\n",
    "compare = compare_text(priv_curr, priv_prev, [0.4, 1.0, 3.5])\n",
    "\n",
    "sectbaltxt = (f\"In {date}, the US private sector was a net lender (running a surplus) of \"+\n",
    "              f\"the equivalent of {priv_curr:.1f} percent of GDP, {compare} the {priv_prev:.1f} \"+\n",
    "              f\"percent surplus in {dateprtxt}. The rest of the world was a net lender to the US, to the \"+\n",
    "              f\"equivalent of {row_curr:.1f} percent of GDP in {date} compared to {row_prev:.1f} \"+\n",
    "              f\"percent in {dateprtxt}. Balancing these transactions, the government (federal, state, \"+\n",
    "              f\"and local combined) was a net borrower (running a deficit) of the equivalent \"+\n",
    "              f\"of {gov_curr:.1f} percent of GDP, compared to {gov_prev:.1f} percent in {yrpr}. \")\n",
    "\n",
    "write_txt(text_dir / 'sectbal.txt', sectbaltxt)\n",
    "print(sectbaltxt)\n",
    "\n",
    "dt = df.dropna().index[-1]\n",
    "ltdate = dtxt(dt)['qtr1']\n",
    "hhsh = df.loc[dt, 'W996RC']\n",
    "pbussh = f\"{df.loc[dt, 'W995RC']:.1f} percent of GDP\"\n",
    "\n",
    "if (df.loc[dt, 'W995RC'] > -0.1) & (df.loc[dt, 'W995RC'] < 0.1):\n",
    "    pbussh = 'unchanged'\n",
    "    \n",
    "text = (f'Within the private sector, households were net lenders of the equivalent of {hhsh:.1f} '+\n",
    "        f'percent of GDP in {ltdate} (see\\cbox{{orange!90!yellow}}), while the '+\n",
    "         'net financial balance of private businesses--corporate and noncorporate--was '+\n",
    "        f'equivalent to {pbussh} (see\\cbox{{purple!50!red}}).')  \n",
    "\n",
    "write_txt(text_dir / 'sectbal2.txt', text)\n",
    "print('\\n', text)"
   ]
  },
  {
   "cell_type": "code",
   "execution_count": null,
   "metadata": {
    "ExecuteTime": {
     "end_time": "2019-12-16T23:05:35.683520Z",
     "start_time": "2019-12-16T23:05:35.678923Z"
    }
   },
   "outputs": [],
   "source": []
  },
  {
   "cell_type": "code",
   "execution_count": null,
   "metadata": {},
   "outputs": [],
   "source": []
  },
  {
   "cell_type": "code",
   "execution_count": null,
   "metadata": {},
   "outputs": [],
   "source": []
  },
  {
   "cell_type": "markdown",
   "metadata": {},
   "source": [
    "### Current Account Balance"
   ]
  },
  {
   "cell_type": "code",
   "execution_count": 37,
   "metadata": {
    "ExecuteTime": {
     "end_time": "2020-09-30T12:51:51.094234Z",
     "start_time": "2020-09-30T12:51:50.858790Z"
    },
    "code_folding": []
   },
   "outputs": [
    {
     "name": "stdout",
     "output_type": "stream",
     "text": [
      "As of 2020 Q2, the US runs a current account deficit of 2.9 percent of GDP, primarily as the result of a trade deficit on goods of 4.1 percent of GDP. In 2020 Q1, the current account deficit was equivalent to 2.0, and the trade deficit was equivalent to 3.6 percent of GDP.\n"
     ]
    }
   ],
   "source": [
    "s = ['A191RC']\n",
    "\n",
    "gdp = nipa_df(retrieve_table('T10105')['Data'], s)\n",
    "\n",
    "n = {'A1073C': 'Current receipts',\n",
    "     'B020RC': '\\hspace{1mm}Exports',\n",
    "     'A253RC': '\\hspace{3mm}Goods',\n",
    "     'A332RC': '\\hspace{5mm}Durable',\n",
    "     'A339RC': '\\hspace{5mm}Nondurable',\n",
    "     'A646RC': '\\hspace{3mm}Services',\n",
    "     'B645RC': '\\hspace{1mm}Income receipts',\n",
    "     'LA000035': '\\hspace{1mm}Transfer receipts',\n",
    "     'W163RC': 'Current payments',\n",
    "     'B021RC': '\\hspace{1mm}Imports',\n",
    "     'A255RC': '\\hspace{3mm}Goods',\n",
    "     'A333RC': '\\hspace{5mm}Durable',\n",
    "     'A340RC': '\\hspace{5mm}Nondurable',\n",
    "     'B656RC': '\\hspace{3mm}Services',\n",
    "     'A655RC': '\\hspace{1mm}Income payments',\n",
    "     'A123RC': '\\hspace{1mm}Transfer payments',\n",
    "     'A124RC': 'Current account balance'}\n",
    "\n",
    "s = ['A124RC', 'GOODS', 'SERVICES', 'INCOME', 'TRANSFERS']\n",
    "\n",
    "df = (nipa_df(retrieve_table('T40100')['Data'], n.keys())\n",
    "      .assign(GOODS = lambda x: x['A253RC'] - x['A255RC'],\n",
    "              SERVICES = lambda x: x['A646RC'] - x['B656RC'],\n",
    "              INCOME = lambda x: x['B645RC'] - x['A655RC'],\n",
    "              TRANSFERS = lambda x: - x['A123RC']))\n",
    "\n",
    "data = (df.div(nipa_df(retrieve_table('T10105')['Data'], ['A191RC']\n",
    "               )['A191RC'], axis=0).loc['1989':].multiply(100).round(2))\n",
    "\n",
    "data[s].dropna().to_csv(data_dir / 'cab.csv', index_label='date')\n",
    "\n",
    "cab = abs(data.dropna()['A124RC'].iloc[-1])\n",
    "tb = abs(data.dropna()['GOODS'].iloc[-1])\n",
    "ld = dtxt(data.dropna().index[-1])['qtr1']\n",
    "ltdate = dtxt(data.index[-1])['qtr1']\n",
    "prdate = dtxt(data.index[-2])['qtr1']\n",
    "lttbval = abs(data['GOODS'].iloc[-1])\n",
    "tbprval = abs(data['GOODS'].iloc[-2])\n",
    "prval = abs(data['A124RC'].iloc[-2])\n",
    "\n",
    "\n",
    "if pd.isna(data['A124RC'].iloc[-1]) == True:\n",
    "    mtxt = (f'The initial GDP report for {ltdate} does not include the '+\n",
    "            'data needed to calculate the current account balance, however, '+\n",
    "            f'the goods trade deficit for {ltdate} is equivalent to '+\n",
    "            f'{lttbval:.1f} percent of GDP. ')\n",
    "else:\n",
    "    mtxt = (f'In {prdate}, the current account deficit was equivalent to '\n",
    "            f'{prval:.1f}, and the trade deficit was equivalent to '+\n",
    "            f'{tbprval:.1f} percent of GDP.')\n",
    "\n",
    "text = (f'As of {ld}, the US runs a current account deficit of {cab:.1f} '+\n",
    "        'percent of GDP, primarily as the result of a trade deficit on '+\n",
    "        f'goods of {tb:.1f} percent of GDP. {mtxt}')\n",
    "write_txt(text_dir / 'cab.txt', text)\n",
    "print(text)"
   ]
  },
  {
   "cell_type": "code",
   "execution_count": 38,
   "metadata": {
    "ExecuteTime": {
     "end_time": "2020-09-30T12:51:51.804781Z",
     "start_time": "2020-09-30T12:51:51.793079Z"
    }
   },
   "outputs": [],
   "source": [
    "result = data[n.keys()]\n",
    "data2 = result.iloc[-6:].iloc[::-1].T\n",
    "\n",
    "cols = [f' {q.year} Q{q.quarter}' \n",
    "        if i == 0 else f'`{str(q.year)[2:]} Q{q.quarter}'\n",
    "        for i, q in enumerate(data2.columns)]\n",
    "\n",
    "data2.columns = cols\n",
    "data2['3-year'] = result.rolling(13).mean().iloc[-1].round(2)\n",
    "data2['10-year'] = result.rolling(41).mean().iloc[-1].round(2)\n",
    "data2.index = data2.index.map(n)\n",
    "data2 = data2.applymap('{:.2f}'.format).replace('nan', '--')\n",
    "data2.to_csv(data_dir / 'cab.tex', sep='&', line_terminator='\\\\\\ ', quotechar=' ')"
   ]
  },
  {
   "cell_type": "code",
   "execution_count": null,
   "metadata": {},
   "outputs": [],
   "source": []
  },
  {
   "cell_type": "code",
   "execution_count": null,
   "metadata": {},
   "outputs": [],
   "source": []
  },
  {
   "cell_type": "markdown",
   "metadata": {},
   "source": [
    "### Federal Interest Outlays share of GDP"
   ]
  },
  {
   "cell_type": "code",
   "execution_count": 39,
   "metadata": {
    "ExecuteTime": {
     "end_time": "2020-09-30T12:51:55.834117Z",
     "start_time": "2020-09-30T12:51:54.917463Z"
    }
   },
   "outputs": [
    {
     "name": "stdout",
     "output_type": "stream",
     "text": [
      "The Office of Management and Budget \\href{https://www.whitehouse.gov/omb/historical-tables/}{reports} federal interest outlays of \\$375.2 billion in fiscal year 2019, compared to \\$325.0 billion in fiscal year 2018. Put into the context of the size of the economy, federal interest outlays in 2019 were equivalent to 1.8 percent of GDP, 1.6 percent of GDP in 2018, and an average of 2.9 percent in the 1990s, when interest rates were substantially higher. \n"
     ]
    }
   ],
   "source": [
    "tot = fred_df('FYOINT')['VALUE']\n",
    "fy = tot.index[-1].year\n",
    "pfy = tot.index[-2].year\n",
    "lttot = tot.iloc[-1] / 1000\n",
    "prtot = tot.iloc[-2] / 1000\n",
    "\n",
    "data = fred_df('FYOIGDA188S')['VALUE']\n",
    "data.index = data.index + pd.DateOffset(months=6)\n",
    "data.to_csv(data_dir / 'fedintexp.csv', index_label='date', header=True)\n",
    "\n",
    "latest = data.iloc[-1]\n",
    "pval = data.iloc[-2]\n",
    "val90s = data.loc['1990':'1999'].mean()\n",
    "\n",
    "\n",
    "text = (f'The Office of Management and Budget '+\n",
    "        '\\href{https://www.whitehouse.gov/omb/historical-tables/}{reports} '+\n",
    "        f'federal interest outlays of \\${lttot:.1f} billion in fiscal year {fy}, '+\n",
    "        f'compared to \\${prtot:.1f} billion in fiscal year {pfy}. '+\n",
    "        f'Put into the context of the size of the economy, federal interest '+\n",
    "        f'outlays in {fy} were equivalent to {latest:.1f} percent of '+\n",
    "        f'GDP, {pval:.1f} percent of GDP in {pfy}, and an average of {val90s:.1f} '+\n",
    "        'percent in the 1990s, when interest rates were substantially higher. ')\n",
    "write_txt(text_dir / 'fedintexp.txt', text)\n",
    "print(text)\n",
    "\n",
    "node = end_node(data, 'magenta')\n",
    "write_txt(text_dir / 'fedintexp_node.txt', node)"
   ]
  },
  {
   "cell_type": "code",
   "execution_count": null,
   "metadata": {},
   "outputs": [],
   "source": []
  },
  {
   "cell_type": "code",
   "execution_count": null,
   "metadata": {
    "ExecuteTime": {
     "end_time": "2019-11-03T21:32:21.272688Z",
     "start_time": "2019-11-03T21:32:21.268715Z"
    }
   },
   "outputs": [],
   "source": [
    "#nipa_series_codes(retrieve_table('T20100'))"
   ]
  },
  {
   "cell_type": "markdown",
   "metadata": {},
   "source": [
    "### Corporate Profits Destination"
   ]
  },
  {
   "cell_type": "code",
   "execution_count": 40,
   "metadata": {
    "ExecuteTime": {
     "end_time": "2020-09-30T12:52:00.563839Z",
     "start_time": "2020-09-30T12:52:00.482770Z"
    }
   },
   "outputs": [
    {
     "name": "stdout",
     "output_type": "stream",
     "text": [
      "In the second quarter of 2020, aggregate corporate profits were \\$1.83 trillion, or 12.9 percent of net national income. Of this, \\$1.36 trillion, equivalent to 9.6 percent of net national product, were paid out as dividends (see\\cbox{blue!70!purple}), \\$225 billion were retained (see\\cbox{cyan!50!white}), and \\$237 billion went to corporate income tax (see\\cbox{red!80!orange}). \n"
     ]
    }
   ],
   "source": [
    "s = ['A032RC', 'A438RC', 'A054RC', 'B056RC', 'A127RC']\n",
    "cprof = (nipa_df(retrieve_table('T11200')['Data'], s) / 1000000).dropna()\n",
    "\n",
    "cprof['NNI'] = cprof['A032RC'] - cprof['A438RC']\n",
    "cprof['TAX'] = cprof['A054RC'] / cprof['NNI'] * 100 \n",
    "cprof['DIV'] = cprof['B056RC'] / cprof['NNI'] * 100 \n",
    "cprof['RE'] = cprof['A127RC'] / cprof['NNI'] * 100 \n",
    "\n",
    "cprof[['TAX', 'DIV', 'RE']].loc['1989':].to_csv(data_dir / 'cprof.csv', index_label='date')\n",
    "\n",
    "dt = cprof.index[-1]\n",
    "ltdate = dtxt(cprof.index[-1])['qtr2']\n",
    "tot = cprof.loc[dt, ['A054RC', 'B056RC', 'A127RC']].sum()\n",
    "totsh = tot / cprof.loc[dt, 'NNI'] * 100\n",
    "div = cprof.loc[dt, 'B056RC']\n",
    "divsh = div / cprof.loc[dt, 'NNI'] * 100\n",
    "ret = cprof.loc[dt, 'A127RC']\n",
    "tax = cprof.loc[dt, 'A054RC']\n",
    "\n",
    "text = (f'In {ltdate}, aggregate corporate profits were \\${tot:.2f} trillion, or {totsh:.1f} '+\n",
    "        f'percent of net national income. Of this, \\${div:.2f} trillion, equivalent to {divsh:.1f} '+\n",
    "        'percent of net national product, were paid out as dividends (see\\cbox{blue!70!purple}), '+\n",
    "        f'\\${ret*1000:.0f} billion were retained (see\\cbox{{cyan!50!white}}), and \\${tax*1000:.0f} '+\n",
    "        'billion went to corporate income tax (see\\cbox{red!80!orange}). ')\n",
    "write_txt(text_dir / 'cprof.txt', text)\n",
    "print(text)"
   ]
  },
  {
   "cell_type": "code",
   "execution_count": null,
   "metadata": {},
   "outputs": [],
   "source": []
  },
  {
   "cell_type": "code",
   "execution_count": null,
   "metadata": {},
   "outputs": [],
   "source": []
  },
  {
   "cell_type": "markdown",
   "metadata": {},
   "source": [
    "### Corporate profits source"
   ]
  },
  {
   "cell_type": "code",
   "execution_count": 41,
   "metadata": {
    "ExecuteTime": {
     "end_time": "2020-09-30T12:52:06.026617Z",
     "start_time": "2020-09-30T12:52:05.916825Z"
    }
   },
   "outputs": [],
   "source": [
    "s = ['W170RC', 'A262RC', 'W986RC', 'A922RC']\n",
    "df1 = nipa_df(retrieve_table('T50100')['Data'], s)\n",
    "\n",
    "s = ['A123RC']\n",
    "df2 = nipa_df(retrieve_table('T40100')['Data'], s)\n",
    "\n",
    "s = ['A001RC']\n",
    "df3 = nipa_df(retrieve_table('T10705')['Data'], s)\n",
    "\n",
    "cprof = pd.DataFrame()\n",
    "cprof['ROW Saving'] = (df2['A123RC'] / df3['A001RC']) * 100\n",
    "cprof['HH Saving'] = (- df1['W986RC'] / df3['A001RC']) * 100\n",
    "cprof['Gov Saving'] = (- df1['A922RC'] / df3['A001RC']) * 100\n",
    "cprof['Investment'] = ((df1['W170RC'] - df1['A262RC']) / df3['A001RC']) * 100\n",
    "\n",
    "cprof.loc['1989':].to_csv(data_dir / 'cprof2.csv', index_label='date')"
   ]
  },
  {
   "cell_type": "code",
   "execution_count": null,
   "metadata": {
    "ExecuteTime": {
     "end_time": "2019-10-30T23:45:29.704755Z",
     "start_time": "2019-10-30T23:45:27.663Z"
    }
   },
   "outputs": [],
   "source": [
    "#nipa_series_codes(retrieve_table('T50100'))"
   ]
  },
  {
   "cell_type": "code",
   "execution_count": null,
   "metadata": {},
   "outputs": [],
   "source": []
  },
  {
   "cell_type": "code",
   "execution_count": null,
   "metadata": {},
   "outputs": [],
   "source": []
  },
  {
   "cell_type": "markdown",
   "metadata": {},
   "source": [
    "### Labor Productivity"
   ]
  },
  {
   "cell_type": "code",
   "execution_count": 6,
   "metadata": {
    "ExecuteTime": {
     "end_time": "2020-10-02T17:44:58.682898Z",
     "start_time": "2020-10-02T17:44:58.678198Z"
    }
   },
   "outputs": [],
   "source": [
    "# Series stored as a dictionary\n",
    "series = {'PRS85006092': 'value',\n",
    "          'PRS85006032': 'hours',\n",
    "          'PRS85006042': 'output',\n",
    "          'PRS84006033': 'hours_index'}"
   ]
  },
  {
   "cell_type": "code",
   "execution_count": 7,
   "metadata": {
    "ExecuteTime": {
     "end_time": "2020-10-02T17:45:01.395382Z",
     "start_time": "2020-10-02T17:44:59.626315Z"
    }
   },
   "outputs": [
    {
     "name": "stdout",
     "output_type": "stream",
     "text": [
      "Post Request Status: REQUEST_SUCCEEDED\n"
     ]
    }
   ],
   "source": [
    "# Start year and end year\n",
    "dates = (1989, 2020)\n",
    "df = bls_api(series, dates, bls_key)\n",
    "\n",
    "df.to_csv(data_dir / 'lprod.csv', index_label='date')"
   ]
  },
  {
   "cell_type": "code",
   "execution_count": 8,
   "metadata": {
    "ExecuteTime": {
     "end_time": "2020-10-02T17:45:02.370856Z",
     "start_time": "2020-10-02T17:45:02.321327Z"
    }
   },
   "outputs": [
    {
     "name": "stdout",
     "output_type": "stream",
     "text": [
      "In 2020 Q2, labor productivity increased at an annual rate of 10.1 percent (see\\cbox{teal}), as the result of a decrease of 37.1 percent in real ouput and a decrease of 42.9 percent in hours worked. In the prior quarter, 2020 Q1, labor productivity decreased at an annual rate of 0.3 percent, as real output decreased at an annual rate of 6.4 percent and hours of work decreased at an annual rate of 6.1 percent. Over the past five years, labor productivity growth has averaged 1.5 percent, substantially below the 1989-onward average of 2.0 percent.\n",
      "Total hours worked in nonfarm businesses decreased at an annual rate of 42.9 percent in 2020 Q2, following a decrease of 6.1 percent in 2020 Q1.\n"
     ]
    }
   ],
   "source": [
    "df = pd.read_csv(data_dir / 'lprod.csv')\n",
    "df = df.set_index(pd.to_datetime(df['date']))\n",
    "df = df.drop('date',axis=1)\n",
    "\n",
    "d = series_info(df['value'])\n",
    "\n",
    "s = {}\n",
    "\n",
    "for srs in list(series.values()):\n",
    "    s[srs] = {}\n",
    "    tmp = series_info(df[srs])\n",
    "    for i in ['val_latest', 'val_prev']:\n",
    "        if tmp[i] > 0:\n",
    "            s[srs][i] = f'increased at an annual rate of {tmp[i]:.1f} percent'\n",
    "            s[srs][i+'2'] = f'an increase of {tmp[i]:.1f} percent'\n",
    "        elif tmp[i] < 0:\n",
    "            s[srs][i] = f'decreased at an annual rate of {abs(tmp[i]):.1f} percent'\n",
    "            s[srs][i+'2'] = f'a decrease of {abs(tmp[i]):.1f} percent'\n",
    "        else:\n",
    "            s[srs][i] = 'was unchanged'\n",
    "            s[srs][i+'2'] = 'no change'   \n",
    "            \n",
    "compare = compare_text(d[\"five_year_mean\"], d[\"mean\"], [0.1, 0.5, 2.0])\n",
    "    \n",
    "text = (f'In {d[\"date_latest_ft\"]}, labor productivity {s[\"value\"][\"val_latest\"]} '+\n",
    "        f'(see\\cbox{{teal}}), as the result of {s[\"output\"][\"val_latest2\"]} in real ouput '+\n",
    "        f'and {s[\"hours\"][\"val_latest2\"]} in hours worked. In the prior quarter, '+\n",
    "        f'{d[\"date_prev_ft\"]}, labor productivity {s[\"value\"][\"val_prev\"]}, as '+\n",
    "        f'real output {s[\"output\"][\"val_prev\"]} and hours of work {s[\"hours\"][\"val_prev\"]}. '+\n",
    "        f'Over the past five years, '+\n",
    "        f'labor productivity growth has averaged {d[\"five_year_mean\"]:.1f} percent, '+\n",
    "        f'{compare} the 1989-onward average of {d[\"mean\"]:.1f} percent.')\n",
    "\n",
    "write_txt(text_dir / 'lprod.txt', text)\n",
    "print(text)\n",
    "\n",
    "text = (f'Total hours worked in nonfarm businesses {s[\"hours\"][\"val_latest\"]} '+\n",
    "        f'in {d[\"date_latest_ft\"]}, following {s[\"hours\"][\"val_prev2\"]} in '+\n",
    "        f'{d[\"date_prev_ft\"]}.')\n",
    "\n",
    "write_txt(text_dir / 'tot_hours.txt', text)\n",
    "print(text)"
   ]
  },
  {
   "cell_type": "code",
   "execution_count": null,
   "metadata": {},
   "outputs": [],
   "source": []
  },
  {
   "cell_type": "code",
   "execution_count": null,
   "metadata": {},
   "outputs": [],
   "source": []
  },
  {
   "cell_type": "markdown",
   "metadata": {},
   "source": [
    "### Gross Labor Income"
   ]
  },
  {
   "cell_type": "code",
   "execution_count": 4,
   "metadata": {
    "ExecuteTime": {
     "end_time": "2020-10-02T17:44:43.301316Z",
     "start_time": "2020-10-02T17:44:41.432583Z"
    }
   },
   "outputs": [
    {
     "name": "stdout",
     "output_type": "stream",
     "text": [
      "Post Request Status: REQUEST_SUCCEEDED\n"
     ]
    }
   ],
   "source": [
    "s = {'LNS12005054': 'Hours', 'LNS12000000': 'Employment'}\n",
    "df = bls_api(s, (1989, 2020), bls_key)\n",
    "df['Total'] = df['Hours'] * df['Employment']\n",
    "df.to_csv(data_dir / 'emp_hrs.csv', index_label='date')"
   ]
  },
  {
   "cell_type": "code",
   "execution_count": 5,
   "metadata": {
    "ExecuteTime": {
     "end_time": "2020-10-02T17:44:44.165826Z",
     "start_time": "2020-10-02T17:44:44.072980Z"
    }
   },
   "outputs": [
    {
     "name": "stdout",
     "output_type": "stream",
     "text": [
      "decreased at an annualized and inflation-adjusted rate of 23.32 percent in 2020 Q2. Changes in wages contributed 26.80 percentage points, and changes in total hours worked subtracted 50.12 percentage points.\n"
     ]
    }
   ],
   "source": [
    "emp = (pd.read_csv(data_dir / 'emp_hrs.csv', parse_dates=[0])\n",
    "         .set_index('date')['Total'])\n",
    "coe = nipa_df(retrieve_table('T20100')['Data'], ['A033RC'])\n",
    "pce = nipa_df(retrieve_table('T20304')['Data'], ['DPCERG'])\n",
    "data = coe.join(pce).join(emp.resample('QS').mean()).dropna()\n",
    "data['real_coe'] = data['A033RC'] / (data['DPCERG'] / data['DPCERG'].iloc[-1])\n",
    "data['coe_inp'] = data['real_coe'] / data['Total']\n",
    "data['wage'] = data['coe_inp'] * data['Total'].iloc[0]\n",
    "data['work'] = data['real_coe'] - data['wage']\n",
    "\n",
    "# Calculate contributions to growth\n",
    "result = growth_contrib(data, 'real_coe')[['work', 'wage']]\n",
    "result.dropna().loc['1989':]\n",
    "result.to_csv(data_dir / 'gli.csv', index_label='date')\n",
    "\n",
    "ltdate = dtxt(result.index[-1])['qtr1']\n",
    "totval = result.iloc[-1].sum()\n",
    "wage = result['wage'].iloc[-1]\n",
    "work = result['work'].iloc[-1]\n",
    "\n",
    "incdec = 'increased' if totval > 0 else 'decreased'\n",
    "txt1 = (f'{incdec} at an annualized and inflation-adjusted '+\n",
    "        f'rate of {abs(totval):.2f} percent')\n",
    "\n",
    "if totval == 0:\n",
    "    txt1 = 'was unchanged, after adjusting for inflation,'\n",
    "    \n",
    "txt2 = cont_subt(wage, style='end')\n",
    "txt3 = cont_subt(work, style='end')\n",
    "\n",
    "text = (f'{txt1} in {ltdate}. Changes in wages {txt2}, '+\n",
    "        f'and changes in total hours worked {txt3}.')\n",
    "write_txt(text_dir / 'gli.txt', text)\n",
    "print(text)"
   ]
  },
  {
   "cell_type": "code",
   "execution_count": null,
   "metadata": {},
   "outputs": [],
   "source": []
  },
  {
   "cell_type": "code",
   "execution_count": null,
   "metadata": {},
   "outputs": [],
   "source": []
  },
  {
   "cell_type": "markdown",
   "metadata": {},
   "source": [
    "### Financial Obligations Ratio"
   ]
  },
  {
   "cell_type": "code",
   "execution_count": 3,
   "metadata": {
    "ExecuteTime": {
     "end_time": "2020-10-02T17:44:29.516294Z",
     "start_time": "2020-10-02T17:44:24.280804Z"
    }
   },
   "outputs": [
    {
     "name": "stdout",
     "output_type": "stream",
     "text": [
      "As of 2020 Q2 the financial obligations ratio is 13.6 percent\n"
     ]
    }
   ],
   "source": [
    "base = 'https://www.federalreserve.gov/datadownload/Output.aspx?'\n",
    "srs = 'rel=FOR&series=6d253f59629f788ab250a7a30662e79e&lastobs=&'\n",
    "dt = 'from=01/01/1989&to=12/31/2020&'\n",
    "oth = 'filetype=csv&label=include&layout=seriescolumn'\n",
    "url = base + srs + dt + oth\n",
    "\n",
    "d, clean_data = clean_fed_data(url)\n",
    "\n",
    "d = {k: v.replace(', seasonally adjusted', '') for k, v in d.items()}\n",
    "\n",
    "data = clean_data.rename(d, axis=1)['Financial obligations ratio']\n",
    "data.to_csv(data_dir / 'for.csv', index_label='date')\n",
    "\n",
    "node = end_node(data, 'blue!80!black')\n",
    "write_txt(text_dir / 'for_node.txt', node)\n",
    "\n",
    "ltdate = dtxt(data.index[-1])['qtr1']\n",
    "ltval = data.iloc[-1]\n",
    "\n",
    "text = (f'As of {ltdate} the financial obligations ratio is {ltval:.1f} percent')\n",
    "write_txt(text_dir / 'for.txt', text)\n",
    "print(text)"
   ]
  },
  {
   "cell_type": "code",
   "execution_count": null,
   "metadata": {},
   "outputs": [],
   "source": []
  },
  {
   "cell_type": "code",
   "execution_count": null,
   "metadata": {},
   "outputs": [],
   "source": []
  },
  {
   "cell_type": "markdown",
   "metadata": {},
   "source": [
    "### Shiller real return trailing 20-year average"
   ]
  },
  {
   "cell_type": "code",
   "execution_count": 48,
   "metadata": {
    "ExecuteTime": {
     "end_time": "2020-09-30T12:52:25.849140Z",
     "start_time": "2020-09-30T12:52:24.516803Z"
    }
   },
   "outputs": [],
   "source": [
    "data = pd.read_excel('http://www.econ.yale.edu/~shiller/data/ie_data.xls', sheet_name='Data')\n",
    "df1 = data.iloc[679:1801, np.r_[0, 14]]\n",
    "df1.columns = ['Date', 'CATRPE']\n",
    "df1.index = pd.to_datetime([f'{val:.2f}' for val in df1['Date'].values])\n",
    "df1 = df1.loc[~df1.index.duplicated(keep='first')]\n",
    "df1.loc['1989':, 'CATRPE'].to_csv(data_dir / 'catrpe.csv', index_label='date')\n",
    "\n",
    "node = end_node(df1.CATRPE, 'blue!80!black', percent=False, date=True)\n",
    "write_txt(text_dir / 'cape_node.txt', node)\n",
    "\n",
    "df = data.iloc[679:1801, np.r_[0, 7, 8]]\n",
    "df.columns = ['Date', 'Price', 'Dividend']\n",
    "df.index = pd.to_datetime([f'{val:.2f}' for val in df['Date'].values])\n",
    "df = df.loc[~df.index.duplicated(keep='first')]"
   ]
  },
  {
   "cell_type": "code",
   "execution_count": 49,
   "metadata": {
    "ExecuteTime": {
     "end_time": "2020-09-30T12:52:26.670052Z",
     "start_time": "2020-09-30T12:52:26.630397Z"
    }
   },
   "outputs": [
    {
     "name": "stdout",
     "output_type": "stream",
     "text": [
      "According to historical stock market \\href{www.econ.yale.edu/~shiller/data.htm}{data} from Robert Shiller, the inflation-adjusted trailing twenty year annual rate of return of the S\\&P 500 was 3.7 percent as of June 2020. Real returns are currently low relative to the average trailing twenty year real annual return of 10.1 percent during 1995--2005.\n"
     ]
    }
   ],
   "source": [
    "for yrs in [10, 15, 20]:\n",
    "    s = df.copy()\n",
    "    mos = yrs * 12\n",
    "    s['DY'] = (s['Dividend'] / s['Price']).rolling(mos).mean()\n",
    "    s['Pch'] = s['Price'].pct_change(mos)\n",
    "    s['Pch'] = (s['Pch']+1)**(1/yrs) - 1\n",
    "    s = s.dropna()\n",
    "    s['Return'] = (s['DY'] + s['Pch']) * 100\n",
    "    s.loc['1989':].dropna().to_csv(data_dir / f'sp500rr{yrs}.csv', \n",
    "                                   index_label='date', float_format='%g')\n",
    "    \n",
    "text = ('According to historical stock market '+\n",
    "        '\\href{www.econ.yale.edu/~shiller/data.htm}{data} from Robert Shiller, '+\n",
    "        'the inflation-adjusted trailing twenty year annual rate of return '+\n",
    "        f'of the S\\&P 500 was {s[\"Return\"].iloc[-1]:.1f} percent as '+\n",
    "        f'of {s.index[-1].strftime(\"%B %Y\")}. Real returns are currently low relative '+\n",
    "        'to the average trailing twenty year real annual return of '+\n",
    "        f'{s[\"Return\"].loc[\"1995\":\"2005\"].mean():.1f} percent during 1995--2005.')\n",
    "\n",
    "write_txt(text_dir / 'sp500rr3.txt', text)\n",
    "\n",
    "print(text)"
   ]
  },
  {
   "cell_type": "code",
   "execution_count": null,
   "metadata": {},
   "outputs": [],
   "source": []
  },
  {
   "cell_type": "code",
   "execution_count": null,
   "metadata": {},
   "outputs": [],
   "source": []
  },
  {
   "cell_type": "markdown",
   "metadata": {},
   "source": [
    "### High Quality Corporate Bond Yield"
   ]
  },
  {
   "cell_type": "code",
   "execution_count": 2,
   "metadata": {
    "ExecuteTime": {
     "end_time": "2020-10-02T17:44:14.664954Z",
     "start_time": "2020-10-02T17:44:14.216252Z"
    }
   },
   "outputs": [
    {
     "name": "stdout",
     "output_type": "stream",
     "text": [
      "This monthly measure shows a spot rate of 2.0 percent in August 2020 for high-quality corporate bonds with a maturity of 10 years, following a rate of 2.0 percent in July 2020. In August 2019, the spot rate was 2.9 percent.\n"
     ]
    }
   ],
   "source": [
    "df = fred_df('HQMCB10YR')\n",
    "df.to_csv(data_dir / 'hqcb.csv', index_label='date')\n",
    "node = end_node(df['VALUE'], 'blue!60!violet', date=True)\n",
    "write_txt(text_dir / 'hqcb_node.txt', node)\n",
    "\n",
    "ltval = df.VALUE.iloc[-1]\n",
    "prval = df.VALUE.iloc[-2]\n",
    "prval2 = df.VALUE.iloc[-13]\n",
    "ltdate = dtxt(df.index[-1])['mon1']\n",
    "prdate = dtxt(df.index[-2])['mon1']\n",
    "prdate2 = dtxt(df.index[-13])['mon1']\n",
    "\n",
    "text = (f'This monthly measure shows a spot rate of {ltval:.1f} '+\n",
    "        f'percent in {ltdate} for high-quality corporate bonds with '+\n",
    "        f'a maturity of 10 years, following a rate of {prval:.1f} percent '+\n",
    "        f'in {prdate}. In {prdate2}, the spot rate was {prval2:.1f} percent.')\n",
    "\n",
    "write_txt(text_dir / 'hqcb.txt', text)\n",
    "print(text)"
   ]
  },
  {
   "cell_type": "code",
   "execution_count": null,
   "metadata": {},
   "outputs": [],
   "source": []
  },
  {
   "cell_type": "code",
   "execution_count": null,
   "metadata": {},
   "outputs": [],
   "source": []
  },
  {
   "cell_type": "markdown",
   "metadata": {},
   "source": [
    "### International Investment Position (IIP)"
   ]
  },
  {
   "cell_type": "code",
   "execution_count": 51,
   "metadata": {
    "ExecuteTime": {
     "end_time": "2020-09-30T12:52:39.342578Z",
     "start_time": "2020-09-30T12:52:36.660798Z"
    }
   },
   "outputs": [
    {
     "name": "stdout",
     "output_type": "stream",
     "text": [
      "In 2020 Q2, domestic holdings of foreign assets are equivalent to 147.9 percent of GDP (see {\\color{blue!95!violet}\\textbf{---}}), compared to 106.3 percent in 2006 Q1. Domestic liabilities to the foreign sector total 214.7 percent of GDP in 2020 Q2 (see {\\color{red}\\textbf{---}}), and 118.5 percent in 2006 Q1. As a result, net IIP, holdings of foreign assets minus liabilities, identifies the US as a net debtor to the result of the world, to the equivalent of 66.8 percent of GDP in 2020 Q2 (see\\cbox{cyan!25!white}) and 12.2 percent of GDP in 2006 Q1.\n"
     ]
    }
   ],
   "source": [
    "series = ['IIPUSLIAA', 'IIPUSASSA','GDPA']\n",
    "df = pd.DataFrame()\n",
    "for s in series:\n",
    "    df[s] = fred_df(s)['VALUE']\n",
    "    \n",
    "series2 = ['IIPUSLIAQ', 'IIPUSASSQ', 'GDP']\n",
    "df2 = pd.DataFrame()\n",
    "for s in series2:\n",
    "    df2[s] = fred_df(s)['VALUE']\n",
    "    \n",
    "data = pd.DataFrame()\n",
    "data['Liab'] = (df.loc[:'2005', 'IIPUSLIAA'] / df.loc[:'2005', 'GDPA']) / 10\n",
    "data['Assets'] = (df.loc[:'2005', 'IIPUSASSA'] / df.loc[:'2005', 'GDPA']) / 10\n",
    "data2 = pd.DataFrame()\n",
    "data2['Liab'] = (df2.loc[:, 'IIPUSLIAQ'] / df2.loc[:, 'GDP']) / 10\n",
    "data2['Assets'] = (df2.loc[:, 'IIPUSASSQ'] / df2.loc[:, 'GDP']) / 10\n",
    "result = data.append(data2)\n",
    "result.to_csv(data_dir / 'iip.csv', index_label='date')\n",
    "\n",
    "lt = result.index[-1]\n",
    "ltdt = dtxt(lt)['qtr1']\n",
    "pr = '2006-01-01'\n",
    "prdt = dtxt(pd.to_datetime(pr))['qtr1']\n",
    "ltvala = result.loc[lt, 'Assets']\n",
    "ltvall = result.loc[lt, 'Liab']\n",
    "ltvaln = ltvala - ltvall\n",
    "prvala = result.loc[pr, 'Assets']\n",
    "prvall = result.loc[pr, 'Liab']\n",
    "prvaln = prvala - prvall\n",
    "\n",
    "text = (f'In {ltdt}, domestic holdings of foreign assets are equivalent '+\n",
    "        f'to {ltvala:.1f} percent of GDP '+\n",
    "        '(see {\\color{blue!95!violet}\\\\textbf{---}}), compared to '+\n",
    "        f'{prvala:.1f} percent in {prdt}. Domestic liabilities '+\n",
    "        f'to the foreign sector total {ltvall:.1f} percent of GDP in {ltdt} '+\n",
    "        '(see {\\color{red}\\\\textbf{---}}), and '+\n",
    "        f'{prvall:.1f} percent in {prdt}. As a result, net IIP, '+\n",
    "        'holdings of foreign assets minus liabilities, identifies the '+\n",
    "        'US as a net debtor to the result of the world, to the equivalent '\n",
    "        f'of {abs(ltvaln):.1f} percent of GDP in {ltdt} '+\n",
    "        '(see\\cbox{cyan!25!white}) '+\n",
    "        f'and {abs(prvaln):.1f} percent of GDP in {prdt}.')\n",
    "\n",
    "write_txt(text_dir / 'niip.txt', text)\n",
    "print(text)"
   ]
  },
  {
   "cell_type": "code",
   "execution_count": null,
   "metadata": {},
   "outputs": [],
   "source": []
  },
  {
   "cell_type": "code",
   "execution_count": null,
   "metadata": {},
   "outputs": [],
   "source": []
  },
  {
   "cell_type": "code",
   "execution_count": null,
   "metadata": {},
   "outputs": [],
   "source": []
  },
  {
   "cell_type": "markdown",
   "metadata": {},
   "source": [
    "### Consumer Credit (G.19)\n",
    "\n",
    "The same chart also includes a line from the Z.1 notebook"
   ]
  },
  {
   "cell_type": "code",
   "execution_count": 52,
   "metadata": {
    "ExecuteTime": {
     "end_time": "2020-09-30T12:52:51.332619Z",
     "start_time": "2020-09-30T12:52:50.531733Z"
    }
   },
   "outputs": [
    {
     "name": "stdout",
     "output_type": "stream",
     "text": [
      "Consumer credit totals \\$4.14 trillion US dollars on a seasonally-adjusted and annualized basis in July 2020. Over the past year, consumer credit increased by 0.7 percent, while after-tax income increased by 9.5 percent. As a result, the ratio of consumer credit to disposable income decreased by a total of 2.0 percentage points. In July 2020, total consumer credit is equivalent to 23.1 percent of annualized July 2020 disposable income (see {\\color{green!70!blue!80!black}\\textbf{---}}). \n"
     ]
    }
   ],
   "source": [
    "base = 'https://www.federalreserve.gov/datadownload/Output.aspx?'\n",
    "srs = 'rel=G19&series=8c7511a37e4aea678be81e7a61df57db&lastobs=&'\n",
    "dt = 'from=01/01/1989&to=12/31/2020&'\n",
    "oth = 'filetype=csv&label=include&layout=seriescolumn'\n",
    "url = base + srs + dt + oth\n",
    "\n",
    "d, clean_data = clean_fed_data(url)\n",
    "\n",
    "d = {'DTCTL_N.M': 'level, nsa',\n",
    "     'DTCTL_XDF_BA_N.M': 'flow, nsa',\n",
    "     'DTCTL.M': 'level',\n",
    "     'DTCTL_XDF_BA.M': 'flow'}\n",
    "\n",
    "data = clean_data.rename(d, axis=1)[['level', 'flow']]\n",
    "data['DPI'] = fred_df('DSPI')['VALUE']\n",
    "\n",
    "rate = ((data['level'] / (data['DPI'] * 1000)) * 100)\n",
    "rate.name = 'value'\n",
    "rate.to_csv(data_dir / 'cc_dpi_monthly.csv', index_label='date')\n",
    "\n",
    "node_color = 'green!70!blue!80!black'\n",
    "\n",
    "node = end_node(rate, node_color, date=True)\n",
    "write_txt(text_dir / 'cc_dpi_monthly_node.txt', node)\n",
    "\n",
    "ltdate = dtxt(data.index[-1])['mon1']\n",
    "ltval = data['level'].iloc[-1] / 1_000_000\n",
    "one_yr = inc_dec_percent(data['level'].pct_change(12).iloc[-1] * 100)\n",
    "one_yr_dpi = inc_dec_percent(data['DPI'].pct_change(12).iloc[-1] * 100)\n",
    "one_yr_rate = val_inc_pp(rate.diff(12).iloc[-1])\n",
    "\n",
    "ltrate = rate.iloc[-1]\n",
    "\n",
    "text = (f'Consumer credit totals \\${ltval:.2f} trillion US dollars on '+\n",
    "        f'a seasonally-adjusted and annualized basis in {ltdate}. '+\n",
    "        f'Over the past year, consumer credit {one_yr}, while '+\n",
    "        f'after-tax income {one_yr_dpi}. As a result, the ratio '+\n",
    "        f'of consumer credit to disposable income {one_yr_rate}. '+\n",
    "        f'In {ltdate}, total consumer credit is equivalent to '+\n",
    "        f'{ltrate:.1f} percent of annualized {ltdate} disposable '+\n",
    "        f'income (see {{\\color{{{node_color}}}\\\\textbf{{---}}}}). ')\n",
    "print(text)\n",
    "write_txt(text_dir / 'cc_dpi.txt', text)"
   ]
  },
  {
   "cell_type": "code",
   "execution_count": null,
   "metadata": {},
   "outputs": [],
   "source": []
  },
  {
   "cell_type": "code",
   "execution_count": null,
   "metadata": {},
   "outputs": [],
   "source": []
  }
 ],
 "metadata": {
  "kernelspec": {
   "display_name": "Python 3",
   "language": "python",
   "name": "python3"
  },
  "language_info": {
   "codemirror_mode": {
    "name": "ipython",
    "version": 3
   },
   "file_extension": ".py",
   "mimetype": "text/x-python",
   "name": "python",
   "nbconvert_exporter": "python",
   "pygments_lexer": "ipython3",
   "version": "3.8.5"
  }
 },
 "nbformat": 4,
 "nbformat_minor": 2
}
