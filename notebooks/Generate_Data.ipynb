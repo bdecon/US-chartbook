{
 "cells": [
  {
   "cell_type": "markdown",
   "metadata": {},
   "source": [
    "# Generate Data for Chartbook\n",
    "\n",
    "Brian Dew\n",
    "\n",
    "@bd_econ"
   ]
  },
  {
   "cell_type": "code",
   "execution_count": 1,
   "metadata": {
    "ExecuteTime": {
     "end_time": "2022-02-07T03:14:56.350515Z",
     "start_time": "2022-02-07T03:14:55.694582Z"
    }
   },
   "outputs": [],
   "source": [
    "import sys\n",
    "sys.path.append('../src')\n",
    "\n",
    "import uschartbook.config\n",
    "\n",
    "from uschartbook.config import *\n",
    "from uschartbook.utils import *"
   ]
  },
  {
   "cell_type": "code",
   "execution_count": null,
   "metadata": {
    "ExecuteTime": {
     "end_time": "2022-01-31T23:51:59.206447Z",
     "start_time": "2022-01-31T23:51:59.204289Z"
    },
    "scrolled": true
   },
   "outputs": [],
   "source": [
    "#nipa_series_codes(retrieve_table('T20100'))"
   ]
  },
  {
   "cell_type": "markdown",
   "metadata": {},
   "source": [
    "### GDP components"
   ]
  },
  {
   "cell_type": "code",
   "execution_count": null,
   "metadata": {
    "ExecuteTime": {
     "end_time": "2022-02-04T04:40:42.198332Z",
     "start_time": "2022-02-04T04:40:42.001461Z"
    }
   },
   "outputs": [],
   "source": [
    "pop = nipa_df(retrieve_table('T20100')['Data'], ['B230RC'])['B230RC']\n",
    "\n",
    "srs = {'A191RX': '\\hspace{0.5mm} {\\color{red!95!black}\\\\textbf{---}} Gross Domestic Product', \n",
    "       'DPCERX': '\\hspace{2.5mm} {\\color{yellow!45!orange}\\\\textbf{---}} Consumer Spending', \n",
    "       'A006RX': '\\hspace{2.5mm} {\\color{blue!70!black}\\\\textbf{---}} Gross Private Domestic Investment', \n",
    "       'A822RX': '\\hspace{2.5mm} {\\color{cyan!60!white}\\\\textbf{---}} Government Spending and Investment',\n",
    "       'A019RX': '\\hspace{2.5mm} {\\color{green!60!black}\\\\textbf{---}} Net Exports', \n",
    "       'A020RX': '\\hspace{7.5mm} Exports', 'A021RX': '\\hspace{7.5mm} Less: Imports'}\n",
    "s = [key for key, value in srs.items()]\n",
    "s2 = [i[:-1].replace('A02', 'B02') + 'C' for i in s]\n",
    "df = nipa_df(retrieve_table('T10106')['Data'], s).sort_index()\n",
    "df2 = nipa_df(retrieve_table('T10105')['Data'], s2).sort_index()\n",
    "\n",
    "dfpop = df.div(pop, axis=0)\n",
    "real_vals = df2.rename({i: i.replace('RC', 'RX').replace('B02', 'A02') \n",
    "                        for i in s2}, axis=1).iloc[-1]\n",
    "data = ((dfpop / dfpop.iloc[-1]) * (real_vals / pop.iloc[-1])).loc['1989':]\n",
    "\n",
    "sel_cols = ['DPCERX', 'A006RX', 'A019RX', 'A822RX']\n",
    "\n",
    "data[sel_cols].to_csv(data_dir / 'gdp_pc_comp.csv', index_label='date')"
   ]
  },
  {
   "cell_type": "code",
   "execution_count": null,
   "metadata": {
    "ExecuteTime": {
     "end_time": "2022-01-31T23:51:59.430273Z",
     "start_time": "2022-01-31T23:51:59.426097Z"
    }
   },
   "outputs": [],
   "source": [
    "pce = f'\\${data.DPCERX.iloc[-1] * 1000:,.0f}'\n",
    "inv = f'\\${data.A006RX.iloc[-1] * 1000:,.0f}'\n",
    "gov = f'\\${data.A822RX.iloc[-1] * 1000:,.0f}'\n",
    "exp = f'\\${abs(data.A019RX.iloc[-1]) * 1000:,.0f}'\n",
    "ltdt = dtxt(data.index[-1])['qtr1']\n",
    "pce_diff = f'\\${(data.DPCERX.iloc[-1] - data.DPCERX.iloc[0]) * 1000:,.0f}'\n",
    "\n",
    "text = ('Much of the increase in real GDP per capita over the past '+\n",
    "        '30 years comes from consumer spending. Domestic consumer '+\n",
    "        'spending (see {\\color{yellow!45!orange}\\\\textbf{---}}) is '+\n",
    "        f'equivalent to {pce} per person in {ltdt}, a price-adjusted '+\n",
    "        f'increase of {pce_diff} since 1989. Gross private domestic '+\n",
    "        'investment (see {\\color{blue!70!black}\\\\textbf{---}}) is '+\n",
    "        f'equivalent to {inv} per person in {ltdt}, and government '+\n",
    "        'spending and investment (see {\\color{cyan!60!white}\\\\textbf{---}}) '+\n",
    "        f'totals {gov} per person. Net exports equivalent to {exp} per '+\n",
    "        'person are subtracted to reflect only domestic production '+\n",
    "        '(see {\\color{green!60!black}\\\\textbf{---}}).')\n",
    "\n",
    "write_txt(text_dir / 'gdp_pc_comp.txt', text)\n",
    "write_txt(text_dir / 'gdp_ltdt.txt', ltdt)\n",
    "print(text)"
   ]
  },
  {
   "cell_type": "code",
   "execution_count": null,
   "metadata": {
    "ExecuteTime": {
     "end_time": "2022-01-31T23:51:59.451270Z",
     "start_time": "2022-01-31T23:51:59.431183Z"
    }
   },
   "outputs": [],
   "source": [
    "res = data * 1000\n",
    "lt = res.rename(srs, axis=1).iloc[-1]\n",
    "lt.name = dtxt(lt.name)['qtr1']\n",
    "pr = res.rename(srs, axis=1).loc['2019-10-01']\n",
    "pr.name = dtxt(pr.name)['qtr1']\n",
    "p00 = res.rename(srs, axis=1).loc['2000-01-01']\n",
    "p00.name = dtxt(p00.name)['qtr1']\n",
    "fi = res.rename(srs, axis=1).iloc[0]\n",
    "fi.name = dtxt(fi.name)['qtr1']\n",
    "table = pd.concat([lt, pr, p00, fi], axis=1).applymap('{:,.0f}'.format)\n",
    "table.iloc[0, 0] = f'\\${table.iloc[0, 0]}'\n",
    "table.to_csv(data_dir / 'gdppc_levels.tex', sep='&', \n",
    "             line_terminator='\\\\\\ ', quotechar=' ')\n",
    "table"
   ]
  },
  {
   "cell_type": "code",
   "execution_count": null,
   "metadata": {},
   "outputs": [],
   "source": []
  },
  {
   "cell_type": "code",
   "execution_count": null,
   "metadata": {},
   "outputs": [],
   "source": []
  },
  {
   "cell_type": "markdown",
   "metadata": {},
   "source": [
    "### Labor Share"
   ]
  },
  {
   "cell_type": "code",
   "execution_count": null,
   "metadata": {
    "ExecuteTime": {
     "end_time": "2022-01-31T23:51:59.501614Z",
     "start_time": "2022-01-31T23:51:59.452331Z"
    }
   },
   "outputs": [],
   "source": [
    "s = ['A261RC', 'A4002C', 'A262RC']\n",
    "\n",
    "df = nipa_df(retrieve_table('T11000')['Data'], s).sort_index()\n",
    "df['Share'] = (df['A4002C'] / (df['A261RC'] - df['A262RC'])) * 100\n",
    "data = df.loc['1989':, 'Share'].dropna()\n",
    "data.to_csv(data_dir / 'laborshare.csv', \n",
    "            index_label='date', \n",
    "            float_format='%g')\n",
    "\n",
    "node = end_node(data, 'blue!60!cyan', date='q')\n",
    "write_txt(text_dir / 'laborshare_node.txt', node)"
   ]
  },
  {
   "cell_type": "code",
   "execution_count": null,
   "metadata": {
    "ExecuteTime": {
     "end_time": "2022-01-31T23:51:59.511079Z",
     "start_time": "2022-01-31T23:51:59.502907Z"
    }
   },
   "outputs": [],
   "source": [
    "s = series_info(data)\n",
    "ltdate = dtxt(s['date_latest'])['qtr2']\n",
    "one_yr = value_text(s['val_latest'] - s['val_year_ago'], ptype='pp')\n",
    "ltmin = s['val_latest'] - s['val_min']\n",
    "ltmax = s['val_max'] - s['val_latest']\n",
    "text = (f'As of {ltdate}, labor receives {s[\"val_latest\"]:.1f} '+\n",
    "        f\"percent of net domestic income. Labor's share {one_yr} \"+\n",
    "        f'over the past year. The labor share is {ltmin:.1f} '+\n",
    "        f'percentage points above its 30-year low of {s[\"val_min\"]:.1f} '+\n",
    "        f'percent in {s[\"date_min_ft\"]}, and {ltmax:.1f} percentage '+\n",
    "        f'points below the 30-year high of {s[\"val_max\"]:.1f} percent '+\n",
    "        f'in {s[\"date_max_ft\"]}. ')\n",
    "write_txt(text_dir / 'laborshare.txt', text)\n",
    "print(text)"
   ]
  },
  {
   "cell_type": "code",
   "execution_count": null,
   "metadata": {},
   "outputs": [],
   "source": []
  },
  {
   "cell_type": "code",
   "execution_count": null,
   "metadata": {},
   "outputs": [],
   "source": []
  },
  {
   "cell_type": "markdown",
   "metadata": {},
   "source": [
    "### GDP growth rate"
   ]
  },
  {
   "cell_type": "code",
   "execution_count": null,
   "metadata": {
    "ExecuteTime": {
     "end_time": "2022-01-31T23:51:59.551618Z",
     "start_time": "2022-01-31T23:51:59.512603Z"
    }
   },
   "outputs": [],
   "source": [
    "s = ['A191RL']\n",
    "df = nipa_df(retrieve_table('T10502')['Data'], s).sort_index()\n",
    "df.loc['1989':].to_csv(data_dir / 'gdp.csv', index_label='date')\n",
    "date = dtxt(df.index[-1])['qtr1']\n",
    "\n",
    "txt = f'{date}: {df[\"A191RL\"].iloc[-1]}\\%'\n",
    "write_txt(data_dir / 'gdp.txt', txt)"
   ]
  },
  {
   "cell_type": "code",
   "execution_count": null,
   "metadata": {
    "ExecuteTime": {
     "end_time": "2022-01-31T23:51:59.591797Z",
     "start_time": "2022-01-31T23:51:59.552953Z"
    }
   },
   "outputs": [],
   "source": [
    "df = nipa_df(retrieve_table('T10502')['Data'], ['A191RL'])['A191RL']\n",
    "ltdate = dtxt(df.index[-1])['qtr2']\n",
    "prdate = dtxt(df.index[-2])['qtr2']\n",
    "prdate2 = dtxt(df.index[-3])['qtr1']\n",
    "pravg = df['2017': '2019'].values.mean().round(1)\n",
    "d = {}\n",
    "for i in [-13, -41, -121]:\n",
    "    d[i] = df.iloc[i:].values.mean().round(1)\n",
    "    \n",
    "text = (f'{inc_dec_percent(df.iloc[-1], annualized=True)} during {ltdate}, '+\n",
    "        f'compared to {inc_dec_percent(df.iloc[-2], how=\"of\")} in {prdate}, and '+\n",
    "        f'{inc_dec_percent(df.iloc[-3], how=\"of\")} in {prdate2}. This '+\n",
    "        f'annualized rate of quarterly growth averaged {pravg} percent over '+\n",
    "        f'the three years from 2017--2019. Over the most recent three years, '+\n",
    "        'which include the COVID-19 pandemic, real GDP '+\n",
    "        f'growth averaged {d[-13]} percent.')    \n",
    "write_txt(text_dir / 'gdp_gr.txt', text)\n",
    "print(text)"
   ]
  },
  {
   "cell_type": "code",
   "execution_count": null,
   "metadata": {},
   "outputs": [],
   "source": []
  },
  {
   "cell_type": "code",
   "execution_count": null,
   "metadata": {},
   "outputs": [],
   "source": []
  },
  {
   "cell_type": "markdown",
   "metadata": {},
   "source": [
    "### GDP Intro Chart and Text"
   ]
  },
  {
   "cell_type": "code",
   "execution_count": null,
   "metadata": {
    "ExecuteTime": {
     "end_time": "2022-02-04T04:50:18.762359Z",
     "start_time": "2022-02-04T04:50:18.689654Z"
    }
   },
   "outputs": [],
   "source": [
    "df = nipa_df(retrieve_table('T70100')['Data'], ['A939RC', 'A939RX'])\n",
    "df['value'] = (df['A939RX'] / df['A939RX'].iloc[-1]) * df['A939RC'].iloc[-1]\n",
    "cd = nipa_df(retrieve_table('T10105')['Data'], ['A191RC'])['A191RC'].iloc[-1]\n",
    "rgdp = nipa_df(retrieve_table('T10106')['Data'], ['A191RX'])\n",
    "rgdp_cd = rgdp / rgdp.iloc[-1] * cd\n",
    "\n",
    "ltdate = dtxt(df.index[-1])['qtr2']\n",
    "gdp_val = int(rgdp_cd.iloc[-1].values[0] / 1000)\n",
    "gdp_prv_val = int(rgdp_cd.loc['2019-10-01'] / 1000)\n",
    "gdp_prv_val2 = int(rgdp_cd.iloc[0].values[0] / 1000)\n",
    "gdppc_val = int(df.iloc[-1].loc['value'])\n",
    "gdppc_prv_val = int(df.loc['2019-10-01', 'value'])\n",
    "gdppc_prv_val2 = int(df.iloc[0].loc['value'])\n",
    "qdate = dtxt(df.index[-1])['qtr1']\n",
    "\n",
    "numbers = {'1.0': 'one', '2.0': 'two', '3.0': 'three', \n",
    "           '4.0': 'four', '5.0': 'five', \n",
    "           '6.0': 'six', '7.0': 'seven', \n",
    "           '8.0': 'eight', '9.0': 'nine'}\n",
    "\n",
    "num = numbers[f'{(pop.pct_change(4).iloc[-1] * 1000).round()}']\n",
    "popnum = f'{num}-tenths'\n",
    "\n",
    "text = (f'\\${gdp_val:,} billion in {ltdate}, compared to an '+\n",
    "        f'inflation-adjusted equivalent of \\${gdp_prv_val:,} '+\n",
    "        f'billion in 2019 Q4 and \\${gdp_prv_val2:,} billion in '+\n",
    "        'the first quarter of 1989.')\n",
    "write_txt(text_dir / 'gdp1.txt', text)\n",
    "print(text, '\\n\\n')\n",
    "\n",
    "text = (f'The US population is growing by about {popnum} of a percent per '+\n",
    "        'year. GDP per capita (see {\\color{red!95!black}\\\\textbf{---}} ), '+\n",
    "        f'adjusted for inflation to {qdate} dollars, had increased to '+\n",
    "        f'\\${gdppc_prv_val:,} in 2019 Q4 from \\${gdppc_prv_val2:,} in 1989 Q1, '+\n",
    "        f'and is currently \\${gdppc_val:,}, as of {ltdate}.')\n",
    "write_txt(text_dir / 'gdp2.txt', text)\n",
    "print(text, '\\n\\n')\n",
    "\n",
    "date = df.index[-1].strftime('%Y-%m-%d')\n",
    "ldate = dtxt(df.index[-1])['qtr4']\n",
    "\n",
    "text = [r'\\noindent \\normalsize \\textbf{GDP per capita}\\\\',\n",
    "r'\\footnotesize{\\textit{in ' + qdate + r' dollars}}\\\\* ',\n",
    "r'\\noindent \\begin{tikzpicture}',\n",
    "r'    \\begin{axis}[\\dateaxisticks clip=false, height=5.2cm, width=5.9cm,',\n",
    "r'            ytick={40000,50000,60000,70000}, yticklabels={40, 50, 60, \\$70k},',\n",
    "f'            xtick={{{{1989-01-01}}, {{2000-01-01}}, {{2010-01-01}}, {{{date}}}}},',\n",
    "r'        minor xtick={}, ',\n",
    "f\"        xticklabels={{`89, `00, `10, {ldate}}}, enlarge y limits={{lower, 0.2}}, \",\n",
    "r'        enlarge x limits={0.02}]',\n",
    "r'    \\stdline{red!95!black}{date}{value}{data/gdppc.csv}',\n",
    "r'    \\node[label={90:{\\$'+ f'{gdppc_val:,}' + r'}}, circle, red!95!black, fill, inner sep=1.3pt] at ',\n",
    "f'        (axis cs:{date},{gdppc_val})' + r' {};',\n",
    "r'    \\end{axis}',\n",
    "r'\\end{tikzpicture}\\\\',\n",
    "r'\\footnotesize{Source: Bureau of Economic Analysis}']\n",
    "\n",
    "f = text_dir.joinpath('gdp_chart.txt')\n",
    "with f.open('w') as wf:\n",
    "    for t in text:\n",
    "        print(t)\n",
    "        wf.write(t + '\\n')"
   ]
  },
  {
   "cell_type": "code",
   "execution_count": null,
   "metadata": {},
   "outputs": [],
   "source": []
  },
  {
   "cell_type": "code",
   "execution_count": null,
   "metadata": {},
   "outputs": [],
   "source": []
  },
  {
   "cell_type": "markdown",
   "metadata": {},
   "source": [
    "### Private fixed investment"
   ]
  },
  {
   "cell_type": "code",
   "execution_count": null,
   "metadata": {
    "ExecuteTime": {
     "end_time": "2022-02-05T13:57:37.864244Z",
     "start_time": "2022-02-05T13:57:37.750549Z"
    }
   },
   "outputs": [],
   "source": [
    "# In levels and share of GDP\n",
    "s = ['A191RC', 'A007RC', 'A008RC', 'A011RC']\n",
    "df = nipa_df(retrieve_table('T10105')['Data'], s) / 1_000_000\n",
    "lt = df.iloc[-1]\n",
    "sh = lt / lt.A191RC * 100\n",
    "ldate = dtxt(df.index[-1])['qtr2']\n",
    "\n",
    "# contribution to growth\n",
    "s2 = ['A008RY', 'A011RY', 'A014RY']\n",
    "df2 = nipa_df(retrieve_table('T10502')['Data'], s2)\n",
    "df2.loc['1989':].to_csv(data_dir / 'inv.csv', index_label='date')\n",
    "lt2 = df2.iloc[-1]\n",
    "\n",
    "pfi = lt2[['A008RY', 'A011RY']].sum()\n",
    "tot = value_text(pfi, 'contribution_to', ptype='pp', \n",
    "                 digits=2, threshold=0.01)\n",
    "txt = lambda x: value_text(x, 'contribution', ptype='pp', \n",
    "                           digits=2, threshold=0.01)\n",
    "dft = lt2.apply(txt)\n",
    "\n",
    "text = (f'In {ldate}, private fixed investment, which does not '+\n",
    "        f'include inventory investment, totals \\${lt.A007RC:.1f} '+\n",
    "        f'trillion, equivalent to {sh.A007RC:.1f} percent of '+\n",
    "        f'GDP. Non-residential (business) fixed investment '+\n",
    "        f'totals \\${lt.A008RC:.1f} trillion, or {sh.A008RC:.1f} '+\n",
    "        f'percent of DP, while residential fixed investment '+\n",
    "        f'totals \\${lt.A011RC:,.1f} trillion ({sh.A011RC:.1f} '+\n",
    "        'percent of GDP).\\n\\nDuring the quarter, private fixed '+\n",
    "        f'investment {tot} real GDP growth. Non-residential fixed '+\n",
    "        f'investment {dft.A008RY}, while residential fixed '+\n",
    "        f'investment {dft.A011RY}. The change in private '+\n",
    "        f'inventories {dft.A014RY}.')\n",
    "write_txt(text_dir / 'inv_text.txt', text)\n",
    "print(text)"
   ]
  },
  {
   "cell_type": "code",
   "execution_count": null,
   "metadata": {},
   "outputs": [],
   "source": []
  },
  {
   "cell_type": "code",
   "execution_count": null,
   "metadata": {},
   "outputs": [],
   "source": []
  },
  {
   "cell_type": "markdown",
   "metadata": {},
   "source": [
    "### Imports and Exports"
   ]
  },
  {
   "cell_type": "code",
   "execution_count": null,
   "metadata": {
    "ExecuteTime": {
     "end_time": "2022-01-31T23:51:59.875769Z",
     "start_time": "2022-01-31T23:51:59.786145Z"
    }
   },
   "outputs": [],
   "source": [
    "# Import and Export share of GDP\n",
    "s = ['B020RC', 'B021RC', 'B648RC', 'LA000006']\n",
    "s2 = ['A191RC']\n",
    "df = nipa_df(retrieve_table('T40205')['Data'], s)\n",
    "df['A191RC'] = nipa_df(retrieve_table('T10105')['Data'], s2)\n",
    "df['EX'] = df['B020RC'] - df['LA000006']\n",
    "df['IM'] = df['B021RC'] - df['B648RC']\n",
    "data = (df.div(df['A191RC'], axis=0) * 100).loc['1989':]\n",
    "data.to_csv(data_dir / 'eximgdp.csv', index_label='date')"
   ]
  },
  {
   "cell_type": "code",
   "execution_count": null,
   "metadata": {
    "ExecuteTime": {
     "end_time": "2022-01-31T23:51:59.882736Z",
     "start_time": "2022-01-31T23:51:59.876797Z"
    }
   },
   "outputs": [],
   "source": [
    "ex_color = 'green!60!teal!80!black'\n",
    "im_color = 'blue!90!cyan'\n",
    "\n",
    "node = end_node(data.IM, im_color, date='q',\n",
    "                percent=True, offset=-0.1, full_year=True)\n",
    "write_txt(text_dir / 'np_im_node.txt', node)\n",
    "node = end_node(data.EX, ex_color, percent=True)\n",
    "write_txt(text_dir / 'np_ex_node.txt', node)\n",
    "\n",
    "date = dtxt(data.index[-1])['qtr2']\n",
    "pc_dt = '2019-10-01'\n",
    "pc_date = dtxt(pd.to_datetime(pc_dt))['qtr1']\n",
    "text = ('Nonpetroleum goods and services imports (see '+\n",
    "        f'{{\\color{{{im_color}}}\\\\textbf{{---}}}}) were '+\n",
    "        f'equivalent to {data.IM.iloc[-1]:.1f} percent '+\n",
    "        f'of GDP in the {date}, while exports of nonpetroleum '+\n",
    "        f'goods and services (see {{\\\\color{{{ex_color}}}'+\n",
    "        '\\\\textbf{---}}) were equivalent to '+\n",
    "        f'{data.EX.iloc[-1]:.1f} percent of GDP. '+\n",
    "        f'In {pc_date}, nonpetroleum imports were '+\n",
    "        f'{data.IM.loc[pc_dt]:.1f} percent of GDP, '+\n",
    "        f'and exports were {data.EX.loc[pc_dt]:.1f} percent.')\n",
    "write_txt(text_dir / 'exim.txt', text)\n",
    "print(text)"
   ]
  },
  {
   "cell_type": "code",
   "execution_count": null,
   "metadata": {},
   "outputs": [],
   "source": []
  },
  {
   "cell_type": "code",
   "execution_count": null,
   "metadata": {},
   "outputs": [],
   "source": []
  },
  {
   "cell_type": "markdown",
   "metadata": {},
   "source": [
    "### Goods Import Penetration"
   ]
  },
  {
   "cell_type": "code",
   "execution_count": null,
   "metadata": {
    "ExecuteTime": {
     "end_time": "2022-01-31T23:52:00.041448Z",
     "start_time": "2022-01-31T23:51:59.883578Z"
    }
   },
   "outputs": [],
   "source": [
    "s = ['A353RC']\n",
    "\n",
    "G = nipa_df(retrieve_table('T10205')['Data'], s).sort_index()\n",
    "\n",
    "s = ['A253RC', 'A255RC', 'B647RC', 'LA000004', 'A650RC', \n",
    "     'B651RC', 'A652RC', 'A653RC', 'B648RC']\n",
    "\n",
    "MX = nipa_df(retrieve_table('T40205')['Data'], s).sort_index()\n",
    "\n",
    "D = G['A353RC'] - MX['A253RC'] + MX['A255RC']\n",
    "result = (MX['A255RC'] / D)\n",
    "\n",
    "import_categories = ['B647RC', 'LA000004', 'A650RC', 'B651RC', \n",
    "                     'A652RC', 'A653RC', 'B648RC']\n",
    "Msh = MX[import_categories].div(MX['A255RC'], axis=0)\n",
    "\n",
    "Msh['Consumer'] = Msh['B647RC'] + Msh['A652RC'] + Msh['B651RC']\n",
    "Msh['Capital'] = Msh['LA000004'] - Msh['B648RC'] + Msh['A650RC'] + Msh['A653RC']\n",
    "\n",
    "final = Msh[['Consumer', 'Capital', 'B648RC']].multiply(result, axis=0) * 100\n",
    "\n",
    "final.loc['1989':].to_csv(data_dir / 'goodsimpsh.csv', index_label='date')\n",
    "\n",
    "ltdate = final.index[-1]\n",
    "ltdt = dtxt(ltdate)['qtr1']\n",
    "cons, capi = [value_text(final[i].iloc[-1], style='eq') \n",
    "              for i in ['Consumer', 'Capital']]\n",
    "oil = final['B648RC'].iloc[-1]\n",
    "text = (f'As of {ltdt}, imports of consumer goods excluding petroleum '+\n",
    "        f'and petroleum products are {cons} of domestic consumption of '+\n",
    "        'goods (see\\cbox{cyan!40!white}). Petroleum-related imports claim '+\n",
    "        f'{oil:.1f} percent (see\\cbox{{purple}}) and imports of all other '+\n",
    "        f'goods, primarily capital goods, industrial supplies, and materials '+\n",
    "        f'are {capi} (see\\cbox{{blue!50!cyan}}).')\n",
    "write_txt(text_dir / 'goodsimpsh1.txt', text)\n",
    "print(text, '\\n')\n",
    "\n",
    "ch11 = (final.loc['2011-01-01'] - final.iloc[0])\n",
    "cons11, pet11, oth11 = [value_text(ch11[i], adj='equivalent', threshold=0.1) \n",
    "                        for i in ['Consumer', 'B648RC', 'Capital']]\n",
    "chlt = (final.iloc[-1] - final.loc['2011-01-01'])\n",
    "conslt, petlt, othlt = [value_text(chlt[i], adj='equivalent', threshold=0.1) \n",
    "                        for i in ['Consumer', 'B648RC', 'Capital']]\n",
    "text = ('From 1989 to 2011, imports of consumer goods excluding '+\n",
    "        f'petroleum {cons11} of domestic consumption of goods; petroleum-'+\n",
    "        f'related imports {pet11}; and all other goods imports {oth11}. \\n\\n'+\n",
    "        f'Since 2011, imports of consumer goods {conslt} of domestic goods '+\n",
    "        f'demand; imports of petroleum products {petlt}; and other '+\n",
    "        f'imports {othlt}.')\n",
    "write_txt(text_dir / 'goodsimpsh.txt', text)\n",
    "print(text)"
   ]
  },
  {
   "cell_type": "code",
   "execution_count": null,
   "metadata": {},
   "outputs": [],
   "source": []
  },
  {
   "cell_type": "code",
   "execution_count": null,
   "metadata": {},
   "outputs": [],
   "source": []
  },
  {
   "cell_type": "markdown",
   "metadata": {},
   "source": [
    "### ITA - Financial Account Balance"
   ]
  },
  {
   "cell_type": "code",
   "execution_count": null,
   "metadata": {
    "ExecuteTime": {
     "end_time": "2022-01-31T23:52:04.064536Z",
     "start_time": "2022-01-31T23:52:00.042377Z"
    }
   },
   "outputs": [],
   "source": [
    "ind_list = ['FinAssetsExclFinDeriv', 'FinLiabsExclFinDeriv', \n",
    "            'FinDeriv', 'StatDisc']\n",
    "\n",
    "api_results = bea_api_ita(ind_list, bea_key)\n",
    "\n",
    "gdp = nipa_df(retrieve_table('T10105')['Data'], ['A191RC'])['A191RC']\n",
    "\n",
    "df = pd.DataFrame(\n",
    "    {name: {i['TimePeriod']: i['DataValue'] \n",
    "            for i in json.loads(series)['BEAAPI']['Results']['Data']} \n",
    "     for name, series in api_results})\n",
    "df.index = pd.to_datetime(df.index)\n",
    "df = (df.replace(r'^\\s*$', np.nan, regex=True)\n",
    "        .astype('float').rolling(4).sum())\n",
    "df['FAB'] = df['FinLiabsExclFinDeriv'] - df['FinAssetsExclFinDeriv']\n",
    "df['TOT'] = df[['FAB', 'StatDisc', 'FinDeriv']].sum(axis=1)\n",
    "final = (df.divide(gdp, axis=0).dropna(how='all') * 100).fillna(0)\n",
    "keep_cols = ['FinDeriv', 'StatDisc', 'FAB', 'TOT']\n",
    "final[keep_cols].to_csv(data_dir/'fab.csv', index_label='date')\n",
    "\n",
    "s = final.iloc[-1]\n",
    "liab = value_text(s.FinLiabsExclFinDeriv, style='eq', adj='GDP')\n",
    "assets = value_text(s.FinAssetsExclFinDeriv, style='eq', adj='GDP')\n",
    "ldate = dtxt(final.index[-1])['qtr1']\n",
    "text = (f'Over the year ending {ldate}, net domestic acquisitions of '+\n",
    "        f'foreign assets were {assets}, while net domestic incurrence '+\n",
    "        f'of foreign liabilities was {liab}. As a result, domestic '+\n",
    "        f'net borrowing totals {s.TOT:.1f} percent of GDP over the '+\n",
    "         'one-year period.')\n",
    "write_txt(text_dir / 'fab.txt', text)\n",
    "print(text)"
   ]
  },
  {
   "cell_type": "code",
   "execution_count": null,
   "metadata": {},
   "outputs": [],
   "source": []
  },
  {
   "cell_type": "code",
   "execution_count": null,
   "metadata": {},
   "outputs": [],
   "source": []
  },
  {
   "cell_type": "markdown",
   "metadata": {},
   "source": [
    "### GDP Composition"
   ]
  },
  {
   "cell_type": "code",
   "execution_count": null,
   "metadata": {
    "ExecuteTime": {
     "end_time": "2022-01-31T23:52:04.140680Z",
     "start_time": "2022-01-31T23:52:04.065613Z"
    }
   },
   "outputs": [],
   "source": [
    "s = ['DPCERY', 'A006RY', 'A822RY', 'A019RY']\n",
    "df = nipa_df(retrieve_table('T10502')['Data'], s).loc['1989':]\n",
    "df.to_csv(data_dir / 'comp.csv', index_label='date')\n",
    "\n",
    "ltdt = dtxt(df.index[-1])['qtr2']\n",
    "sl = [('DPCERY', 'contribution_to'), ('A006RY', 'contribution_to'), \n",
    "      ('A822RY', 'contribution'), ('A019RY', 'contribution')]\n",
    "d = {s: value_text(df[s].iloc[-1], style=style, ptype='pp', \n",
    "                   digits=2, threshold=0.1) for s, style in sl}\n",
    "text = (f'In {ltdt}, consumer spending (see\\cbox{{yellow!80!orange}}) '+\n",
    "        f'{d[\"DPCERY\"]} overall real GDP growth. Private domestic '+\n",
    "        f'investment (see\\cbox{{blue!70!black}}) {d[\"A006RY\"]} real GDP '+\n",
    "        'growth, government spending and investment (see\\cbox{cyan!50!white}) '+\n",
    "        f'{d[\"A822RY\"]}, and net exports (see\\cbox{{green!60!black}}) '+\n",
    "        f'{d[\"A019RY\"]}.')  \n",
    "write_txt(text_dir / 'gdp_exp_basic.txt', text)\n",
    "print(text)"
   ]
  },
  {
   "cell_type": "code",
   "execution_count": null,
   "metadata": {},
   "outputs": [],
   "source": []
  },
  {
   "cell_type": "code",
   "execution_count": null,
   "metadata": {},
   "outputs": [],
   "source": []
  },
  {
   "cell_type": "markdown",
   "metadata": {},
   "source": [
    "### GDP per capita"
   ]
  },
  {
   "cell_type": "code",
   "execution_count": null,
   "metadata": {
    "ExecuteTime": {
     "end_time": "2022-01-31T23:52:04.173780Z",
     "start_time": "2022-01-31T23:52:04.141665Z"
    }
   },
   "outputs": [],
   "source": [
    "s = ['A939RC', 'A939RX']\n",
    "\n",
    "df = nipa_df(retrieve_table('T70100')['Data'], s)\n",
    "df['value'] = (df['A939RX'] / df['A939RX'].iloc[-1])  * df['A939RC'].iloc[-1]\n",
    "df[['value']].loc['1989':].to_csv(data_dir / 'gdppc.csv', index_label='date')"
   ]
  },
  {
   "cell_type": "code",
   "execution_count": null,
   "metadata": {},
   "outputs": [],
   "source": []
  },
  {
   "cell_type": "code",
   "execution_count": null,
   "metadata": {},
   "outputs": [],
   "source": []
  },
  {
   "cell_type": "markdown",
   "metadata": {},
   "source": [
    "### Gross Domestic Income"
   ]
  },
  {
   "cell_type": "code",
   "execution_count": null,
   "metadata": {
    "ExecuteTime": {
     "end_time": "2022-01-31T23:52:04.330007Z",
     "start_time": "2022-01-31T23:52:04.174785Z"
    }
   },
   "outputs": [],
   "source": [
    "s = ['A261RX', 'W256RX']\n",
    "rgdi = nipa_df(retrieve_table('T11706')['Data'], s).dropna()\n",
    "\n",
    "s = ['A261RC', 'A4002C', 'W056RC', 'A107RC', 'W271RC', 'A262RC',\n",
    "     'A4102C', 'A038RC']\n",
    "\n",
    "df = nipa_df(retrieve_table('T11000')['Data'], s).dropna()\n",
    "\n",
    "pop = nipa_df(retrieve_table('T20100')['Data'], ['B230RC'])['B230RC']\n",
    "\n",
    "# Calculate indirect taxes net of transfers\n",
    "df['indirect'] = df['W056RC'] - df['A107RC']\n",
    "\n",
    "# Calculate GDI deflator from real GDI series\n",
    "deflator = rgdi['A261RX'] / df['A261RC']\n",
    "deflator = deflator / deflator.iloc[-1]\n",
    "df = df.multiply(deflator, axis=0)\n",
    "\n",
    "# Calculate contributions to growth\n",
    "dft = df.diff()\n",
    "dft = dft.div(dft['A261RC'], axis=0)\n",
    "contr = dft.multiply((((df['A261RC'].pct_change() + 1) ** 4) - 1) * 100, axis=0)\n",
    "\n",
    "cols = ['A261RC', 'W271RC', 'A4002C', 'A262RC', 'indirect']\n",
    "\n",
    "contr.loc['1989':, cols].to_csv(data_dir / 'gdi.csv', index_label='date')\n",
    "\n",
    "dfpop = df.div(pop, axis=0).dropna()\n",
    "\n",
    "ltdt = dtxt(dfpop.index[-1])['qtr1']\n",
    "write_txt(text_dir / 'gdi_ltdt.txt', ltdt)\n",
    "\n",
    "dfpop[cols].to_csv(data_dir / 'gdi_pc_comp.csv', index_label='date')"
   ]
  },
  {
   "cell_type": "code",
   "execution_count": null,
   "metadata": {
    "ExecuteTime": {
     "end_time": "2022-01-31T23:52:04.349675Z",
     "start_time": "2022-01-31T23:52:04.330975Z"
    }
   },
   "outputs": [],
   "source": [
    "srs = {'A261RC': 'Gross Domestic Income', \n",
    "       'A4002C': '\\hspace{0.1mm} {\\color{magenta!90!blue}\\\\textbf{---}} Labor', \n",
    "       'A4102C': '\\hspace{6mm} Wages and Salaries',\n",
    "       'A038RC': '\\hspace{6mm} Supplements',\n",
    "       'W271RC': '\\hspace{0.1mm} {\\color{yellow!60!orange}\\\\textbf{---}} Profit', \n",
    "       'indirect': '\\hspace{0.1mm} {\\color{violet}\\\\textbf{---}} Indirect Taxes', \n",
    "       'W056RC': '\\hspace{6mm} Taxes on Production and Imports',\n",
    "       'A107RC': '\\hspace{6mm} Less: Subsidies',\n",
    "       'A262RC': '\\hspace{0.1mm} {\\color{teal!60!white}\\\\textbf{---}} Depreciation'}\n",
    "\n",
    "res = (dfpop[list(srs.keys())] * 1000).dropna()\n",
    "lt = res.rename(srs, axis=1).iloc[-1]\n",
    "lt.name = dtxt(lt.name)['qtr1']\n",
    "pr = res.rename(srs, axis=1).loc['2019-10-01']\n",
    "pr.name = dtxt(pr.name)['qtr1']\n",
    "p00 = res.rename(srs, axis=1).loc['2000-01-01']\n",
    "p00.name = dtxt(p00.name)['qtr1']\n",
    "fi = res.rename(srs, axis=1).loc['1989-01-01']\n",
    "fi.name = dtxt(fi.name)['qtr1']\n",
    "table = pd.concat([lt, pr, p00, fi], axis=1).applymap('{:,.0f}'.format)\n",
    "table.iloc[0, 0] = f'\\${table.iloc[0, 0]}'\n",
    "table.to_csv(data_dir / 'gdipc_levels.tex', sep='&', \n",
    "             line_terminator='\\\\\\ ', quotechar=' ')\n",
    "print(table)\n",
    "\n",
    "prdate = '2019-10-01'\n",
    "ltval = df['A261RC'].iloc[-1] / 1000\n",
    "ltpc = dfpop['A261RC'].iloc[-1] * 1000\n",
    "prval = df['A261RC'].loc[prdate] / 1000\n",
    "prpc = dfpop['A261RC'].loc[prdate] * 1000\n",
    "prdt = dtxt(pd.to_datetime(prdate))['qtr1']\n",
    "text = (f'of \\${ltval:,.0f} billion in {ltdt}, compared to an inflation-'+\n",
    "        f'adjusted equivalent of \\${prval:,.0f} billion in {prdt}. Real '+\n",
    "        f'GDI per capita was \\${ltpc:,.0f} in {ltdt} and \\${prpc:,.0f} '+\n",
    "        f'in {prdt}.')\n",
    "write_txt(text_dir / 'gdi_levels.txt', text)\n",
    "print('\\n', text, '\\n')\n",
    "\n",
    "l_pc = dfpop['A4002C'].iloc[-1] * 1000\n",
    "l_pr = dfpop['A4002C'].loc[prdate] * 1000\n",
    "k_pc = dfpop['W271RC'].iloc[-1] * 1000\n",
    "k_pr = dfpop['W271RC'].loc[prdate] * 1000\n",
    "t_pc = dfpop['indirect'].iloc[-1] * 1000\n",
    "t_pr = dfpop['indirect'].loc[prdate] * 1000\n",
    "d_pc = dfpop['A262RC'].iloc[-1] * 1000\n",
    "d_pr = dfpop['A262RC'].loc[prdate] * 1000\n",
    "\n",
    "text = ('Gross labor income per capita is equivalent '+\n",
    "        f'to \\${l_pc:,.0f} in {ltdt} '+\n",
    "        '(see {\\color{magenta!90!blue}\\\\textbf{---}}) '+\n",
    "        f'and \\${l_pr:,.0f} in 2019 Q4, on an annualized, '+\n",
    "        'seasonally-adjusted, and inflation-adjusted basis. '+\n",
    "        f'Profits per person total \\${k_pc:,.0f} in {ltdt} '+\n",
    "        '(see {\\color{yellow!60!orange}\\\\textbf{---}}) and '+\n",
    "        f'\\${k_pr:,.0f} in {prdt}, following the same adjustments. '+\n",
    "        f'Indirect taxes less subsidies per capita total \\${t_pc:,.0f} '+\n",
    "        f'in {ltdt} (see {{\\color{{violet}}\\\\textbf{{---}}}}) '+\n",
    "        f'and \\${t_pr:,.0f} in {prdt}. Lastly, depreciation per '+\n",
    "        f'capita is \\${d_pc:,.0f} in {ltdt} (see '+\n",
    "        '{\\color{teal!60!white}\\\\textbf{---}}) and '+\n",
    "        f'\\${d_pr:,.0f} in {prdt}.')\n",
    "write_txt(text_dir / 'gdi_levels_pc.txt', text)\n",
    "print(text)"
   ]
  },
  {
   "cell_type": "code",
   "execution_count": null,
   "metadata": {
    "ExecuteTime": {
     "end_time": "2022-01-31T23:52:04.358734Z",
     "start_time": "2022-01-31T23:52:04.350519Z"
    }
   },
   "outputs": [],
   "source": [
    "s = ['A261RC', 'A4002C', 'W271RC', 'indirect', 'A262RC']\n",
    "df = contr[s]\n",
    "gdi_lt = inc_dec_percent(df[\"A261RC\"].iloc[-1], annualized=True)\n",
    "gdi_pr = inc_dec_percent(df[\"A261RC\"].iloc[-2], how='of')\n",
    "gdi_pr2 = inc_dec_percent(df[\"A261RC\"].iloc[-3], how='of')\n",
    "\n",
    "ltdt = dtxt(df.index[-1])['qtr2']\n",
    "ltdt2 = dtxt(df.index[-1])['qtr1']\n",
    "prdt = dtxt(df.index[-2])['qtr1']\n",
    "prdt2 = dtxt(df.index[-3])['qtr1']\n",
    "\n",
    "sl = [('A4002C', 'main'), ('W271RC', 'main'), \n",
    "      ('indirect', 'end'), ('A262RC', 'end')]\n",
    "\n",
    "d = {}\n",
    "for s, style in sl:\n",
    "    value = df[s].iloc[-1]\n",
    "    d[s] = cont_subt(value, style=style)\n",
    "    \n",
    "text1 = (f'In {ltdt}, gross domestic income {gdi_lt}, following {gdi_pr} '+\n",
    "         f'in {prdt} and {gdi_pr2} in {prdt2}. ')  \n",
    "\n",
    "l_lt = cont_subt(df['A4002C'].iloc[-1])\n",
    "l_pr = cont_subt(df['A4002C'].iloc[-2], style='of')\n",
    "k_lt = cont_subt(df['W271RC'].iloc[-1]).replace(' from', '').replace(' to', '')\n",
    "k_pr = cont_subt(df['W271RC'].iloc[-2]).replace(' from', '').replace(' to', '')\n",
    "if k_lt[:3] == k_pr[:3]:\n",
    "    if abs(df['W271RC'].iloc[-2]) > 1:\n",
    "        pp = 'percentage points'\n",
    "    else:\n",
    "        pp = 'percentage point'\n",
    "    k_pr = f\"{abs(df['W271RC'].iloc[-2]):.2f} {pp}\"\n",
    "t_lt = cont_subt(df['indirect'].iloc[-1])\n",
    "t_pr = cont_subt(df['indirect'].iloc[-2]).replace(' from', '').replace(' to', '')\n",
    "    \n",
    "text = (f'{text1}In the latest quarter, labor income {l_lt} overall growth, '+\n",
    "        f'following a {l_pr} in {prdt}. Profit income {k_lt} in '+\n",
    "        f'{ltdt} and {k_pr} in {prdt}. Changes in indirect tax revenue '+\n",
    "        f'and surpluses {t_lt} aggregate income growth in the latest quarter and '+\n",
    "        f'{t_pr} in {prdt}. ')\n",
    "write_txt(text_dir / 'gdi_growth_comp.txt', text)\n",
    "print(text) "
   ]
  },
  {
   "cell_type": "code",
   "execution_count": null,
   "metadata": {},
   "outputs": [],
   "source": []
  },
  {
   "cell_type": "code",
   "execution_count": null,
   "metadata": {},
   "outputs": [],
   "source": []
  },
  {
   "cell_type": "markdown",
   "metadata": {},
   "source": [
    "### Consumer Spending Overview (Levels)"
   ]
  },
  {
   "cell_type": "code",
   "execution_count": null,
   "metadata": {
    "ExecuteTime": {
     "end_time": "2022-02-03T15:20:16.208476Z",
     "start_time": "2022-02-03T15:20:15.771717Z"
    }
   },
   "outputs": [],
   "source": [
    "pop = nipa_df(retrieve_table('T20100')['Data'], ['B230RC'])['B230RC']\n",
    "\n",
    "n = {'DPCERC': 'Total',\n",
    "     'DGDSRC': 'Goods',\n",
    "     'DSERRC': 'Services',\n",
    "     'DHUTRC': 'Housing',\n",
    "     'A011RC': 'ResInv',\n",
    "     'DMOTRC': 'MotorVeh',\n",
    "     'DFDHRC': 'Furn',\n",
    "     'DREQRC': 'RecDG',\n",
    "     'DFXARC': 'Groc',\n",
    "     'DCLORC': 'Cloth',\n",
    "     'DHLCRC': 'Health',\n",
    "     'DTRSRC': 'Transp',\n",
    "     'DRCARC': 'RecSer',\n",
    "     'DFSARC': 'FoodAcc',\n",
    "     'DIFSRC': 'FinIns'}\n",
    "n2 = {k[:-2] + 'RA': v for k, v in n.items()}\n",
    "s = list(n.keys())\n",
    "s2 = list(n2.keys())\n",
    "\n",
    "othserv = lambda x: x['Services'] - x['Housing']\n",
    "shelter = lambda x: x['Housing'] + x['ResInv']\n",
    "\n",
    "df = (nipa_df(retrieve_table('T10505')['Data'], s)\n",
    "      .rename(n, axis=1))\n",
    "df2 = (nipa_df(retrieve_table('T10503')['Data'], s2)\n",
    "       .rename(n2, axis=1))\n",
    "real = ((df2 / df2.iloc[-1]) * df.iloc[-1]).assign(OTHSERV = othserv, SHELTER = shelter)\n",
    "pp = real.divide(pop, axis=0)\n",
    "\n",
    "keep_col = ['Goods', 'Services', 'Housing', 'ResInv', 'OTHSERV', 'SHELTER']\n",
    "pp.loc['1989':, keep_col].to_csv(data_dir / 'pce_levels.csv', index_label='date')\n",
    "\n",
    "lttot = real.Total.iloc[-1] / 1_000_000\n",
    "prtot = real.Total.iloc[-2] / 1_000_000\n",
    "pctot = real.Total.loc['2019-10-01'] / 1_000_000\n",
    "ltdate = dtxt(real.index[-1])['qtr1']\n",
    "prdate = dtxt(real.index[-2])['qtr1']\n",
    "totpp = pp.Total.iloc[-1] * 1_000\n",
    "goodpp = pp.Goods.iloc[-1] * 1_000\n",
    "servpp = pp.Services.iloc[-1] * 1_000\n",
    "goodpppc = pp.Goods.loc['2019-10-01'] * 1_000\n",
    "servpppc = pp.Services.loc['2019-10-01'] * 1_000\n",
    "\n",
    "text = ('Total consumer spending is '+\n",
    "        f'\\${lttot:.1f} trillion in {ltdate}, compared to a price-adjusted '+\n",
    "        f'\\${prtot:.1f} trillion in {prdate} and \\${pctot:.1f} trillion in 2019 Q4. '+\n",
    "        'On a per person basis, consumer spending is '+\n",
    "        f'\\${totpp:,.0f} in {ltdate}, of which \\${goodpp:,.0f} are spent on goods '+\n",
    "        '(see {\\color{red}\\\\textbf{---}}) and '+\n",
    "        f'\\${servpp:,.0f} on services '+\n",
    "        '(see {\\color{orange}\\\\textbf{---}}). In the fourth quarter of 2019, '+\n",
    "        f'before the pandemic, consumer spending on goods was \\${goodpppc:,.0f} '+\n",
    "        f'per person, and spending on services was \\${servpppc:,.0f} per person, '+\n",
    "        'after adjusting for inflation. ')\n",
    "write_txt(text_dir / 'pce_levels.txt', text)\n",
    "print(text)\n",
    "\n",
    "hult = pp['Housing'].iloc[-1] * 1_000\n",
    "hupc = pp['Housing'].loc['2019-10-01'] * 1_000\n",
    "rfilt = pp['ResInv'].iloc[-1] * 1_000\n",
    "rfipc = pp['ResInv'].loc['2019-10-01'] * 1_000\n",
    "\n",
    "text = ('Within consumer spending on services, housing and utilities spending '+\n",
    "        f'totals \\${hult:,.0f} on an annualized and per person basis in {ltdate} '+\n",
    "        '(see {\\color{green!60!blue}\\\\textbf{---}}) '+\n",
    "        f'and \\${hupc:,.0f} in 2019 Q4. Construction or improvement '+\n",
    "        'of housing is considered residential fixed investment, not '+\n",
    "        'consumer spending, but can be combined with spending to analyze '+\n",
    "        'patterns in shelter costs. In '+\n",
    "        f'{ltdate}, residential investment totals \\${rfilt:,.0f} per person '+\n",
    "        '(see {\\color{blue!80!black}\\\\textbf{---}}), '+\n",
    "        f'compared to \\${rfipc:,.0f} in the pre-COVID data covering 2019 Q4. ')\n",
    "write_txt(text_dir / 'pce2_levels.txt', text)\n",
    "print('\\n', text)\n",
    "\n",
    "othlt = pp['OTHSERV'].iloc[-1] * 1_000\n",
    "othpr = pp['OTHSERV'].iloc[-2] * 1_000\n",
    "othpc = pp.loc['2019-10-01', 'OTHSERV'] * 1_000\n",
    "chval = ((othlt / othpc) - 1) * 100\n",
    "chtxt = value_text(chval)\n",
    "shellt = pp['SHELTER'].iloc[-1] * 1_000\n",
    "shelpr = pp['SHELTER'].iloc[-2] * 1_000\n",
    "shelpc = pp.loc['2019-10-01', 'SHELTER'] * 1_000\n",
    "shelmax = pp['SHELTER'].max() * 1_000\n",
    "shelmaxdt = dtxt(pp.SHELTER.idxmax())['qtr2']\n",
    "\n",
    "text = ('Consumer spending on services other than housing and utilities totals \\$'+\n",
    "        f'{othlt:,.0f} per person, on an annaulized basis, in {ltdate} '+\n",
    "        '(see {\\color{blue!75!white}\\\\textbf{---}}), '+\n",
    "        f'compared to \\${othpr:,.0f} in {prdate}, and \\${othpc:,.0f} in '+\n",
    "        f'2019 Q4. Spending on non-housing services has {chtxt} since 2019 Q4. '+\n",
    "        '\\n\\nShelter costs, which combine housing, utilities, and residential fixed '+\n",
    "        f'investment, are \\${shellt:,.0f} per person in {ltdate} '+\n",
    "        '(see {\\color{green!85!blue}\\\\textbf{---}})'+\n",
    "        f', \\${shelpr:,.0f} '+\n",
    "        f'in {prdate}, and \\${shelpc:,.0f} in 2019 Q4. Shelter spending peaked at '+\n",
    "        f'\\${shelmax:,.0f} per person in {shelmaxdt}, during the housing bubble.')\n",
    "write_txt(text_dir / 'pce3_levels.txt', text)\n",
    "print('\\n', text)"
   ]
  },
  {
   "cell_type": "code",
   "execution_count": null,
   "metadata": {
    "ExecuteTime": {
     "end_time": "2022-02-03T15:20:20.943059Z",
     "start_time": "2022-02-03T15:20:20.913865Z"
    }
   },
   "outputs": [],
   "source": [
    "n = {'Total': 'Total',\n",
    "     'Goods': '\\hspace{0.1mm} {\\color{red}\\\\textbf{---}} Goods',\n",
    "     'MotorVeh': '\\hspace{5mm} Motor Vehicles and Parts',\n",
    "     'Furn': '\\hspace{5mm} Furniture and HH Equipment',\n",
    "     'RecDG': '\\hspace{5mm} Recreational Durable Goods',\n",
    "     'Groc': '\\hspace{5mm} Groceries',\n",
    "     'Cloth': '\\hspace{5mm} Clothes and Shoes',\n",
    "     'OTHSERV': '\\hspace{0.1mm} {\\color{blue!75!white}\\\\textbf{---}} Services ex. Shelter',\n",
    "     'Health': '\\hspace{5mm} Health Care Services',\n",
    "     'Transp': '\\hspace{5mm} Transportation',\n",
    "     'RecSer': '\\hspace{5mm} Recreational',\n",
    "     'FoodAcc': '\\hspace{5mm} Food and Accommodations',\n",
    "     'FinIns': '\\hspace{5mm} Financial and Insurance',\n",
    "     'SHELTER': '\\hspace{0.1mm} {\\color{green!85!blue}\\\\textbf{---}} Shelter ',\n",
    "     'Housing': '\\hspace{5mm} Housing Services and Utilities ',\n",
    "     'ResInv': '\\hspace{5mm} Residential Fixed Investment'}\n",
    "\n",
    "res = pp[n.keys()].rename(n, axis=1) * 1_000\n",
    "lt = res.iloc[-1]\n",
    "lt.name = dtxt(lt.name)['qtr1']\n",
    "pr = res.loc['2019-10-01']\n",
    "pr.name = dtxt(pr.name)['qtr1']\n",
    "p00 = res.loc['2000-01-01']\n",
    "p00.name = dtxt(p00.name)['qtr1']\n",
    "fi = res.loc['1989-01-01']\n",
    "fi.name = dtxt(fi.name)['qtr1']\n",
    "table = pd.concat([lt, pr, p00, fi], axis=1).applymap('{:,.0f}'.format)\n",
    "table.iloc[0, 0] = f'\\${table.iloc[0, 0]}'\n",
    "table.to_csv(data_dir / 'pce_levels.tex', sep='&', line_terminator='\\\\\\ ', quotechar=' ')\n",
    "table"
   ]
  },
  {
   "cell_type": "code",
   "execution_count": null,
   "metadata": {},
   "outputs": [],
   "source": []
  },
  {
   "cell_type": "code",
   "execution_count": null,
   "metadata": {},
   "outputs": [],
   "source": []
  },
  {
   "cell_type": "markdown",
   "metadata": {},
   "source": [
    "### Consumer Spending and Residential Fixed Investment"
   ]
  },
  {
   "cell_type": "code",
   "execution_count": null,
   "metadata": {
    "ExecuteTime": {
     "end_time": "2022-01-31T23:52:05.065664Z",
     "start_time": "2022-01-31T23:52:04.822128Z"
    }
   },
   "outputs": [],
   "source": [
    "s = ['DNPIRY', 'DSERRY', 'DPCERY', 'DGDSRY', 'DMOTRY',\n",
    "     'DFDHRY', 'DREQRY', 'DFXARY', 'DCLORY', 'DHLCRY',\n",
    "     'DTRSRY', 'DRCARY', 'DFSARY', 'DIFSRY', 'DHUTRY',\n",
    "     'A011RY']\n",
    "\n",
    "n = {'TOTAL': '& Total',\n",
    "     'DGDSRY': '\\cbox{red} & Goods',\n",
    "     'DMOTRY': '& \\hspace{1mm} Motor Vehicles and Parts',\n",
    "     'DFDHRY': '& \\hspace{1mm} Furniture and HH Equipment',\n",
    "     'DREQRY': '& \\hspace{1mm} Recreational Durable Goods',\n",
    "     'DFXARY': '& \\hspace{1mm} Groceries',\n",
    "     'DCLORY': '& \\hspace{1mm} Clothes and Shoes',\n",
    "     'OTHSERV': '\\cbox{blue!75!white} & Services (ex. Shelter)',\n",
    "     'DHLCRY': '& \\hspace{1mm} Health Care Services',\n",
    "     'DTRSRY': '& \\hspace{1mm} Transportation',\n",
    "     'DRCARY': '& \\hspace{1mm} Recreational',\n",
    "     'DFSARY': '& \\hspace{1mm} Food and Accommodations',\n",
    "     'DIFSRY': '& \\hspace{1mm} Financial and Insurance',\n",
    "     'SHELTER': '\\cbox{green!85!blue} & Shelter ',\n",
    "     'DHUTRY': '& \\hspace{1mm} Housing Services and Utilities ',\n",
    "     'A011RY': '& \\hspace{1mm} Residential Fixed Investment'}\n",
    "\n",
    "total = lambda x: x['DPCERY']\n",
    "othserv = lambda x: x['DSERRY'] - x['DHUTRY']\n",
    "shelter = lambda x: x['DHUTRY'] + x['A011RY']\n",
    "\n",
    "df = (nipa_df(retrieve_table('T10502')['Data'], s)\n",
    "      .assign(TOTAL = total, OTHSERV = othserv, SHELTER = shelter)\n",
    "      [list(n.keys())])\n",
    "\n",
    "(df.loc['1989':, ['DGDSRY', 'OTHSERV', 'SHELTER']]\n",
    "   .to_csv(data_dir / 'pce.csv', index_label='date', float_format='%g'))\n",
    "\n",
    "data = df.iloc[-5:].iloc[::-1].T\n",
    "\n",
    "cols = [f'& {q.year} Q{q.quarter}' \n",
    "        if i == 0 else f'`{str(q.year)[2:]} Q{q.quarter}'\n",
    "        for i, q in enumerate(data.columns)]\n",
    "\n",
    "data.columns = cols\n",
    "data['3-year'] = df.rolling(13).mean().iloc[-1].round(2)\n",
    "data['10-year'] = df.rolling(41).mean().iloc[-1].round(2)\n",
    "data['30-year'] = df.rolling(121).mean().iloc[-1].round(2)\n",
    "data.index = data.index.map(n)\n",
    "(data.round(2).applymap('{:,.2f}'.format)\n",
    " .to_csv(data_dir / 'pce.tex', sep='&', line_terminator='\\\\\\ ', quotechar=' '))\n",
    "\n",
    "ld = dtxt(df.index[-1])['qtr1']\n",
    "prd = dtxt(df.index[-2])['qtr1']\n",
    "ld2 = dtxt(df.index[-1])['qtr2']\n",
    "\n",
    "totlt = df['TOTAL'].iloc[-1]\n",
    "totltt = value_text(totlt, style='contribution_to', ptype='pp', \n",
    "                    digits=1, threshold=0.1)\n",
    "totpr = df['TOTAL'].iloc[-2]\n",
    "totprt = value_text(totpr, style='contribution', ptype='pp', \n",
    "                    digits=1, threshold=0.1)\n",
    "totpc = df.loc['2019-10-01', 'TOTAL']\n",
    "totpct = value_text(totpc, style='contribution_of', ptype='pp', \n",
    "                    digits=1, casual=True, threshold=0.1)\n",
    "\n",
    "txt1 = (f'These categories {totltt} GDP growth in {ld} and {totprt} in '+\n",
    "        f'{prd}, compared to {totpct} in 2019 Q4, before the pandemic.')\n",
    "write_txt(text_dir / 'pce1.txt', txt1)\n",
    "print(txt1)\n",
    "\n",
    "gdslt = df['DGDSRY'].iloc[-1]\n",
    "gdsltt = value_text(gdslt, style='contribution_to', ptype='pp', \n",
    "                    digits=1, threshold=0.1)\n",
    "serlt = df['OTHSERV'].iloc[-1]\n",
    "serltt = value_text(serlt, style='contribution', ptype='pp', digits=1, \n",
    "                    casual=True, threshold=0.1)\n",
    "shelt = df['SHELTER'].iloc[-1]\n",
    "sheltt = value_text(shelt, style='contribution', ptype='pp', \n",
    "                    digits=1, threshold=0.1)\n",
    "\n",
    "txt2 = (f'In the {ld2}, household spending on goods {gdsltt} GDP growth, '+\n",
    "         'household spending on services other than housing and utilities '+\n",
    "        f'{serltt}, and shelter spending and investment {sheltt}.')\n",
    "write_txt(text_dir / 'pce2.txt', txt2)\n",
    "print('\\n', txt2)"
   ]
  },
  {
   "cell_type": "code",
   "execution_count": null,
   "metadata": {},
   "outputs": [],
   "source": []
  },
  {
   "cell_type": "code",
   "execution_count": null,
   "metadata": {},
   "outputs": [],
   "source": []
  },
  {
   "cell_type": "markdown",
   "metadata": {},
   "source": [
    "### Trade Contribution to GDP"
   ]
  },
  {
   "cell_type": "code",
   "execution_count": null,
   "metadata": {
    "ExecuteTime": {
     "end_time": "2022-01-31T23:52:05.184577Z",
     "start_time": "2022-01-31T23:52:05.066865Z"
    }
   },
   "outputs": [],
   "source": [
    "s = ['A019RY', 'A253RY', 'A646RY', 'A255RY', 'A656RY']\n",
    "df = nipa_df(retrieve_table('T10502')['Data'], s)\n",
    "df.loc['1989':].to_csv(data_dir / 'nx.csv', index_label='date')\n",
    "\n",
    "sl = [('A253RY', 'main'), ('A646RY', 'end'), \n",
    "      ('A255RY', 'main'), ('A656RY', 'end')]\n",
    "\n",
    "d = {}\n",
    "for s, style in sl:\n",
    "    value = df[s].iloc[-1]\n",
    "    d[s] = cont_subt(value, style=style)\n",
    "    \n",
    "ldate = dtxt(df.index[-1])['qtr2']\n",
    "\n",
    "text = (f\"Goods exports {d['A253RY']} GDP growth in {ldate} while \"+\n",
    "        f\"services exports {d['A646RY']}. Good imports {d['A255RY']} \"+\n",
    "        f\"GDP growth and services imports {d['A656RY']}.\")\n",
    "write_txt(text_dir / 'trade.txt', text)\n",
    "print(text)"
   ]
  },
  {
   "cell_type": "code",
   "execution_count": null,
   "metadata": {},
   "outputs": [],
   "source": []
  },
  {
   "cell_type": "code",
   "execution_count": null,
   "metadata": {},
   "outputs": [],
   "source": []
  },
  {
   "cell_type": "markdown",
   "metadata": {},
   "source": [
    "### Business investment"
   ]
  },
  {
   "cell_type": "code",
   "execution_count": null,
   "metadata": {
    "ExecuteTime": {
     "end_time": "2022-01-31T23:52:05.245969Z",
     "start_time": "2022-01-31T23:52:05.185639Z"
    }
   },
   "outputs": [],
   "source": [
    "s = ['Y001RY', 'A009RY', 'Y033RY']\n",
    "\n",
    "df = nipa_df(retrieve_table('T10502')['Data'], s)\n",
    "df.loc['1989':].to_csv(data_dir / 'businv.csv', index_label='date')"
   ]
  },
  {
   "cell_type": "code",
   "execution_count": null,
   "metadata": {
    "ExecuteTime": {
     "end_time": "2022-01-31T23:52:05.321862Z",
     "start_time": "2022-01-31T23:52:05.246899Z"
    }
   },
   "outputs": [],
   "source": [
    "s = ['Y001RC', 'B009RC', 'Y033RC', 'A008RC']\n",
    "data = nipa_df(retrieve_table('T10105')['Data'], s)\n",
    "gdp = nipa_df(retrieve_table('T10105')['Data'], ['A191RC'])['A191RC']\n",
    "df1 = data.divide(gdp, axis=0) * 100\n",
    "(df1.loc['1989':, ['Y001RC', 'B009RC', 'Y033RC']]\n",
    "    .to_csv(data_dir / 'businvsh.csv', index_label='date'))\n",
    "\n",
    "ltdate = dtxt(df1.index[-1])['qtr1']\n",
    "\n",
    "levels = {}\n",
    "shgdp = {}\n",
    "for series in ['Y001RC', 'B009RC', 'Y033RC']:\n",
    "    level_val = data[series].iloc[-1] / 1_000\n",
    "    txt = f\"\\${level_val:,.0f} billion\"\n",
    "    levels[series] = txt\n",
    "    shgdp[series] = f\"{df1[series].iloc[-1]:.1f} percent of GDP\"\n",
    "\n",
    "text = ('Business investments in fixed assets are grouped into three '+\n",
    "        'categories: structures, equipment, and intellectual property '+\n",
    "        '(for example software and R\\&D). Investment in structures was '+\n",
    "        f'{levels[\"B009RC\"]} in {ltdate}, equivalent to {shgdp[\"B009RC\"]} '+\n",
    "        '(see {\\color{yellow!50!orange}\\\\textbf{---}}). '+\n",
    "        f'Equipment investment was {levels[\"Y033RC\"]} or {shgdp[\"Y033RC\"]} '+\n",
    "        '(see {\\color{cyan!60!white}\\\\textbf{---}}), '+\n",
    "        'and intellectual property investment '+\n",
    "        f'was {levels[\"Y001RC\"]} or {shgdp[\"Y001RC\"]} '+\n",
    "        '(see {\\color{violet}\\\\textbf{---}}). ')\n",
    "write_txt(text_dir / 'businv_sh.txt', text)\n",
    "print(text)"
   ]
  },
  {
   "cell_type": "code",
   "execution_count": null,
   "metadata": {
    "ExecuteTime": {
     "end_time": "2022-01-31T23:52:05.409804Z",
     "start_time": "2022-01-31T23:52:05.323087Z"
    }
   },
   "outputs": [],
   "source": [
    "s = ['W790RC', 'W276RC', 'W987RC']\n",
    "df = nipa_df(retrieve_table('T50100')['Data'], s).join(data['A008RC'])\n",
    "gdp = nipa_df(retrieve_table('T10105')['Data'], ['A191RC'])['A191RC']\n",
    "res = (df.div(gdp, axis=0) * 100).dropna()\n",
    "res.loc['1989':].to_csv(data_dir / 'businv_main.csv', index_label='date')\n",
    "\n",
    "ltdate1 = dtxt(df.index[-1])['qtr1']\n",
    "ltdate2 = dtxt(df.index[-1])['qtr2']\n",
    "\n",
    "levels = {}\n",
    "shgdp = {}\n",
    "for series in ['W790RC', 'W276RC', 'W987RC', 'A008RC']:\n",
    "    level_val = df[series].iloc[-1] / 1_000\n",
    "    n = ''\n",
    "    if level_val < 0:\n",
    "        n = 'negative '\n",
    "        level_val = abs(level_val)\n",
    "    txt = f\"{n}\\${level_val:,.0f} billion\"\n",
    "    levels[series] = txt\n",
    "    shgdp[series] = f\"{res[series].iloc[-1]:.1f} percent of GDP\"\n",
    "    \n",
    "diff = ((df['W987RC'].iloc[-1] / df.loc['2019-10-01', 'W987RC']) - 1) * 100\n",
    "gdt = value_text(diff)\n",
    "diff2 = ((df['W790RC'].iloc[-1] / df.loc['2019-10-01', 'W790RC']) - 1) * 100\n",
    "if diff2 < -95:\n",
    "    ndt = 'but collapsed completely'\n",
    "else:\n",
    "    ndt = 'and ' + value_text(diff2)\n",
    "gpcl = f\"{n}\\${df.loc['2019-10-01', 'W987RC'] / 1_000:,.0f} billion\"\n",
    "npcl = f\"{n}\\${df.loc['2019-10-01', 'W790RC'] / 1_000:,.0f} billion\"\n",
    "if diff < 0:\n",
    "    txt = 'as gross investment fell while deprecation was relatively constant'\n",
    "else:\n",
    "    txt = 'as gross investment recovered from its pandemic lows'\n",
    "    \n",
    "text = (f'In the {ltdate2}, gross private business investment totals '+\n",
    "        f'{levels[\"W987RC\"]} on a seasonally-adjusted annualized basis, '+\n",
    "        f'equivalent to {shgdp[\"W987RC\"]} '+\n",
    "        '(see {\\color{blue!60!violet}\\\\textbf{---}}). Private business investment '+\n",
    "        f'in fixed assets totals {levels[\"A008RC\"]}, or {shgdp[\"A008RC\"]} '+\n",
    "        '(see {\\color{cyan!80!white}\\\\textbf{---}}). Private business depreciation '+\n",
    "        f'totals {levels[\"W276RC\"]} in the quarter, or {shgdp[\"W276RC\"]} '+\n",
    "        '(see {\\color{magenta}\\\\textbf{---}}). '+\n",
    "        f'As a result, net investment is {levels[\"W790RC\"]}, or {shgdp[\"W790RC\"]} '+\n",
    "        '(see {\\color{green!80!blue}\\\\textbf{---}}). \\n\\n '+\n",
    "        'In 2019 Q4, prior to the COVID-19 pandemic, private business gross '+\n",
    "        f'investment was {gpcl}. Since 2019 Q4, annualized gross investment {gdt}. '+\n",
    "        f'Net investment was {npcl} in 2019 Q4, {ndt} from 2019 Q4 to {ltdate1}, '+\n",
    "        f'{txt}. ')\n",
    "write_txt(text_dir / 'businv_levels.txt', text)\n",
    "print(text)  "
   ]
  },
  {
   "cell_type": "code",
   "execution_count": null,
   "metadata": {},
   "outputs": [],
   "source": []
  },
  {
   "cell_type": "code",
   "execution_count": null,
   "metadata": {},
   "outputs": [],
   "source": []
  },
  {
   "cell_type": "markdown",
   "metadata": {},
   "source": [
    "### Durable goods new orders"
   ]
  },
  {
   "cell_type": "code",
   "execution_count": null,
   "metadata": {
    "ExecuteTime": {
     "end_time": "2022-01-31T23:52:06.513849Z",
     "start_time": "2022-01-31T23:52:05.410718Z"
    }
   },
   "outputs": [],
   "source": [
    "# New orders for capital goods excluding defense or aircraft\n",
    "key = census_key\n",
    "base = 'https://api.census.gov/data/timeseries/eits/advm3'\n",
    "param = 'cell_value,time_slot_id'\n",
    "t = '&time=from+1992'\n",
    "cat = '&category_code=NXA'\n",
    "dtc = '&data_type_code=NO'\n",
    "oth = '&for=us&seasonally_adj=yes'\n",
    "url = f'{base}?get={param}&key={key}{cat}{dtc}{t}{oth}'\n",
    "\n",
    "r = requests.get(url).json()\n",
    "\n",
    "df = pd.DataFrame({'date': [pd.to_datetime(i[4]) for i in r[1:]], \n",
    "                   'value': [float(i[0]) for i in r[1:]]}).sort_values('date')\n",
    "\n",
    "df = df.set_index('date')\n",
    "\n",
    "gdp = nipa_df(retrieve_table('T10105')['Data'], ['A191RC'])\n",
    "\n",
    "result = ((df['value'].resample('QS').sum() * 4  / \n",
    "           gdp['A191RC']).dropna() * 100).iloc[1:]\n",
    "(result.rename('value').loc['1989':]\n",
    "       .to_csv(data_dir / 'dgno.csv', index_label='date', header=True))\n",
    "node = end_node(result, 'purple!50!violet', date='q', percent=True)\n",
    "write_txt(text_dir / 'dgno_node.txt', node)\n",
    "\n",
    "ldate = dtxt(df.index[-1])['mon1']\n",
    "one_yr_ch = (df.pct_change(12) * 100).dropna()['value'].iloc[-1]\n",
    "val = inc_dec_percent(one_yr_ch)\n",
    "pcch = ((df['value'].iloc[-1] / df.loc['2020-02-01', 'value']) - 1) * 100\n",
    "pctxt = inc_dec_percent(pcch)\n",
    "\n",
    "text = ('New orders for manufactured core capital goods excluding aircraft '+\n",
    "        f'totalled \\${df.iloc[-1][0] / 1000:,.0f} billion in {ldate}, '+\n",
    "        f'equivalent to {result.iloc[-1]:.1f} percent of GDP '+\n",
    "        '(see {\\color{purple!50!violet}\\\\textbf{---}}). New orders '+\n",
    "        f'{val} over the past year, and {pctxt} since February 2020.')\n",
    "\n",
    "write_txt(text_dir / 'dgno.txt', text)\n",
    "print(text)"
   ]
  },
  {
   "cell_type": "code",
   "execution_count": null,
   "metadata": {},
   "outputs": [],
   "source": []
  },
  {
   "cell_type": "code",
   "execution_count": null,
   "metadata": {},
   "outputs": [],
   "source": []
  },
  {
   "cell_type": "markdown",
   "metadata": {},
   "source": [
    "### Government spending and investment"
   ]
  },
  {
   "cell_type": "code",
   "execution_count": null,
   "metadata": {
    "ExecuteTime": {
     "end_time": "2022-01-31T23:52:06.682499Z",
     "start_time": "2022-01-31T23:52:06.515001Z"
    }
   },
   "outputs": [],
   "source": [
    "n = {'A822RY': 'Total',\n",
    "     'A823RY': '\\hspace{1mm}Federal total',\n",
    "     'A824RY': '\\hspace{1mm}\\cbox{blue!60!black}National defense',\n",
    "     'A997RY': '\\hspace{7mm}Consumption expenditures',\n",
    "     'A788RY': '\\hspace{7mm}Gross investment',\n",
    "     'A825RY': '\\hspace{1mm}\\cbox{green!85!black}Nondefense',\n",
    "     'A542RY': '\\hspace{7mm}Consumption expenditures',\n",
    "     'A798RY': '\\hspace{7mm}Gross investment',\n",
    "     'A829RY': '\\hspace{-2mm}\\cbox{purple!70!magenta}State \\& local total',\n",
    "     'A991RY': '\\hspace{5mm}Consumption expenditures',\n",
    "     'A799RY': '\\hspace{5mm}Gross investment'}\n",
    "\n",
    "s = n.keys()\n",
    "\n",
    "df = nipa_df(retrieve_table('T10502')['Data'], s)\n",
    "df.loc['1989':].to_csv(data_dir / 'gov.csv', index_label='date')\n",
    "\n",
    "d = series_info(df['A822RY'])    \n",
    "d2 = {}\n",
    "for i in ['A824RY', 'A825RY', 'A829RY']:\n",
    "    d2[i] = cont_subt(df[i].iloc[-1], 'end')\n",
    "    \n",
    "ltmain = cont_subt(d['val_latest'], 'main')\n",
    "compare = compare_text(d['val_latest'], d['one_year_mean'], [0.05, 0.25, 0.5])\n",
    "compare2 = compare_text(d['val_latest'], d['mean'], [0.05, 0.25, 0.5])\n",
    "\n",
    "ltoym = f'{d[\"one_year_mean\"]:.2f} ' + ['percentage point' \n",
    "                                        if abs(d[\"one_year_mean\"]) < 1.05 \n",
    "                                        else 'percentage points'][0]\n",
    "ltmean = f'{d[\"mean\"]:.2f} ' + ['percentage point' \n",
    "                                if abs(d[\"mean\"]) < 1.05 \n",
    "                                else 'percentage points'][0]\n",
    "    \n",
    "txt = ('Government consumption expeditures and gross investment, which provide '+\n",
    "       f'services and infrastructure, {ltmain} real GDP growth in {d[\"date_latest_ft\"]}, '+\n",
    "       f'{compare} the average contribution of {ltoym} '+\n",
    "       f'over the past year, and {compare2} the average of {ltmean} since 1989. '+\n",
    "       f'In {d[\"date_latest_ft\"]}, federal defense spending and investment (see\\cbox{{blue!60!black}}) '+\n",
    "       f'{d2[\"A824RY\"]}, nondefense federal government spending and investment '+\n",
    "       f'(see\\cbox{{green!85!black}}) {d2[\"A825RY\"]}, and state and '+\n",
    "       f'local government (see\\cbox{{purple!70!magenta}}) {d2[\"A829RY\"]}.')\n",
    "write_txt(text_dir / 'gov.txt', txt)\n",
    "print(txt)"
   ]
  },
  {
   "cell_type": "code",
   "execution_count": null,
   "metadata": {
    "ExecuteTime": {
     "end_time": "2022-01-31T23:52:06.695088Z",
     "start_time": "2022-01-31T23:52:06.683534Z"
    }
   },
   "outputs": [],
   "source": [
    "result = df[n.keys()]\n",
    "\n",
    "data = result.iloc[-5:].iloc[::-1].T\n",
    "\n",
    "cols = [f' {q.year} Q{q.quarter}' \n",
    "        if i == 0 else f'`{str(q.year)[2:]} Q{q.quarter}'\n",
    "        for i, q in enumerate(data.columns)]\n",
    "\n",
    "data.columns = cols\n",
    "data['3-year'] = result.rolling(13).mean().iloc[-1].round(2)\n",
    "data['10-year'] = result.rolling(41).mean().iloc[-1].round(2)\n",
    "data['30-year'] = result.rolling(121).mean().iloc[-1].round(2)\n",
    "data.index = data.index.map(n)\n",
    "data = data.applymap('{:.2f}'.format)\n",
    "data.to_csv(data_dir / 'gov.tex', sep='&', line_terminator='\\\\\\ ', quotechar=' ')"
   ]
  },
  {
   "cell_type": "code",
   "execution_count": null,
   "metadata": {},
   "outputs": [],
   "source": []
  },
  {
   "cell_type": "markdown",
   "metadata": {},
   "source": [
    "### Government Net Investment"
   ]
  },
  {
   "cell_type": "code",
   "execution_count": null,
   "metadata": {
    "ExecuteTime": {
     "end_time": "2022-01-31T23:52:06.768367Z",
     "start_time": "2022-01-31T23:52:06.696369Z"
    }
   },
   "outputs": [],
   "source": [
    "cofc = nipa_df(retrieve_table('T11000')['Data'], ['A264RC'])['A264RC']\n",
    "ginv = nipa_df(retrieve_table('T30100')['Data'], ['A782RC'])['A782RC']\n",
    "gdp = nipa_df(retrieve_table('T10105')['Data'], ['A191RC'])['A191RC']\n",
    "\n",
    "data = (((ginv - cofc) / gdp) * 100).loc['1989':]\n",
    "data.name = 'Value'\n",
    "data.to_csv(data_dir / 'govnetinv.csv', index_label='date')\n",
    "\n",
    "node = end_node(data, 'red', percent=True, date='q', digits=2, \n",
    "                full_year=True)\n",
    "write_txt(text_dir / 'govnetinv_node.txt', node)\n",
    "\n",
    "ltdt = dtxt(data.index[-1])['qtr1']\n",
    "yrdt = dtxt(data.index[-5])['qtr1']\n",
    "yr2dt = dtxt(data.index[-9])['qtr1']\n",
    "gni = f'\\${(ginv - cofc).iloc[-1] / 1_000:.1f} billion'\n",
    "gnish = f'{data.iloc[-1]:.2f} percent'\n",
    "gnishyr = f'{data.iloc[-5]:.2f} percent'\n",
    "gnishyr2 = f'{data.iloc[-9]:.2f} percent'\n",
    "\n",
    "text = (\"Government gross investment, less depreciation, is the government's \"+\n",
    "        \"net investment in the tangible assets that make the economy more \"+\n",
    "        \"productive. Government investment includes infrastructure, \"+\n",
    "        \"buildings, equipment, intellectual property, and other capital goods. \"+\n",
    "        f\"In the latest data, covering {ltdt}, government net investment is \"+\n",
    "        f\"{gni}. Government net investment is equivalent to {gnish} \"+\n",
    "        f\"of GDP in {ltdt} \"+\n",
    "        \"(see {\\color{red}\\\\textbf{---}}), compared \"+\n",
    "        f\"to {gnishyr} in {yrdt}, and \"+\n",
    "        f\"{gnishyr2} in {yr2dt}. \")\n",
    "write_txt(text_dir / f'govnetinv.txt', text)\n",
    "print(text)"
   ]
  },
  {
   "cell_type": "code",
   "execution_count": null,
   "metadata": {},
   "outputs": [],
   "source": []
  },
  {
   "cell_type": "code",
   "execution_count": null,
   "metadata": {},
   "outputs": [],
   "source": []
  },
  {
   "cell_type": "markdown",
   "metadata": {},
   "source": [
    "### Government receipts and expenditures"
   ]
  },
  {
   "cell_type": "code",
   "execution_count": null,
   "metadata": {
    "ExecuteTime": {
     "end_time": "2022-01-31T23:52:06.881131Z",
     "start_time": "2022-01-31T23:52:06.769373Z"
    }
   },
   "outputs": [],
   "source": [
    "gdp = nipa_df(retrieve_table('T10105')['Data'], ['A191RC'])['A191RC']\n",
    "\n",
    "d = {'slggdp': {'name': 'combined state and local government', \n",
    "                'table': 'T30300', 'series': \n",
    "                {'W024RC': 'SLG_EXP', 'W023RC': 'SLG_REC'}},\n",
    "     'fedgdp': {'name': 'federal government', \n",
    "                'table': 'T30200', 'series':\n",
    "                {'W005RC': 'FED_REC', 'W013RC': 'FED_EXP'}}}\n",
    "\n",
    "data = pd.DataFrame()\n",
    "\n",
    "ltdate = dtxt(gdp.index[-1])['qtr1']\n",
    "\n",
    "for group, details in d.items():\n",
    "    df = nipa_df(retrieve_table(details['table'])['Data'], details['series'].keys())\n",
    "    (df.div(gdp, axis=0) * 100).loc['1989':].to_csv(data_dir / f'{group}.csv', \n",
    "                                                    index_label='date', float_format='%g')\n",
    "    \n",
    "    grp = group[:3].upper()\n",
    "    df.columns = [details['series'][i] for i in df.columns]\n",
    "    bal = df[f'{grp}_REC'] - df[f'{grp}_EXP']\n",
    "    bal_lt = bal.dropna().iloc[-1]\n",
    "    bal_lt_dt = dtxt(bal.dropna().index[-1])['qtr1']\n",
    "    def_sur = 'deficit' if bal_lt < 0 else 'surplus'\n",
    "    df[f'{grp}_BAL'] = bal\n",
    "    \n",
    "    for col in df.columns:\n",
    "        data[col] = df[col]\n",
    "        data[col+'_GDP'] = df[col].div(gdp, axis=0) * 100\n",
    "        \n",
    "    bal_gdp = data[f'{grp}_BAL_GDP'].dropna().iloc[-1]\n",
    "    bal_txt = (f'In {bal_lt_dt}, the {d[group][\"name\"]} {def_sur} was '+\n",
    "               f'\\${abs(bal_lt) / 1000:,.0f} billion or {abs(bal_gdp):.1f} percent of GDP. ')\n",
    "    \n",
    "    exp_txt = (f'{d[group][\"name\"].capitalize()} expenditures total '+\n",
    "               f'\\${data[grp+\"_EXP\"].iloc[-1] / 1000000:.1f} trillion, '+\n",
    "               f'or {data[grp+\"_EXP_GDP\"].iloc[-1]:.1f} percent of GDP, in {ltdate}. ')\n",
    "    \n",
    "        \n",
    "    if pd.isna(df[[i for i in df.columns if i[4:] == 'REC'][0]].iloc[-1]) == True:\n",
    "        rec_txt = (f'BEA has not yet released receipts data for {ltdate}, however, '+\n",
    "                   f'in {bal_lt_dt}, {d[group][\"name\"]} receipts total '+\n",
    "                   f'\\${data[grp+\"_REC\"].dropna().iloc[-1] / 1000000:.1f} trillion, '+\n",
    "                   f'or {data[grp+\"_REC_GDP\"].dropna().iloc[-1]:.1f} percent of GDP. ')\n",
    "    else:\n",
    "        rec_txt = ('Receipts for the same period total '+\n",
    "                   f'\\${data[grp+\"_REC\"].dropna().iloc[-1] / 1000000:.1f} trillion '+\n",
    "                   f'or {data[grp+\"_REC_GDP\"].dropna().iloc[-1]:.1f} percent of GDP. ')\n",
    "    \n",
    "    text = exp_txt + rec_txt + bal_txt\n",
    "    write_txt(text_dir / f'{group}.txt', text)\n",
    "    print(text)"
   ]
  },
  {
   "cell_type": "code",
   "execution_count": null,
   "metadata": {},
   "outputs": [],
   "source": []
  },
  {
   "cell_type": "code",
   "execution_count": null,
   "metadata": {},
   "outputs": [],
   "source": []
  },
  {
   "cell_type": "markdown",
   "metadata": {},
   "source": [
    "### Public Debt by Holder"
   ]
  },
  {
   "cell_type": "code",
   "execution_count": null,
   "metadata": {
    "ExecuteTime": {
     "end_time": "2022-02-05T02:56:41.196425Z",
     "start_time": "2022-02-05T02:56:39.375473Z"
    }
   },
   "outputs": [],
   "source": [
    "series = ['FDHBATN', 'GFDEBTN', 'FDHBFRBN', 'FDHBPIN', 'FDHBFIN']\n",
    "start = '1988-01-01'\n",
    "ftype = '&file_type=json'\n",
    "base = 'https://api.stlouisfed.org/fred/series/observations?'\n",
    "\n",
    "df = pd.DataFrame()\n",
    "\n",
    "for srs in series:\n",
    "    param = f'series_id={srs}&observation_start={start}&api_key={fred_key}'\n",
    "    url = f'{base}{param}{ftype}'\n",
    "    r = requests.get(url).json()['observations']\n",
    "    data = pd.Series({pd.to_datetime(i['date']): (float(i['value']) / 1000.0) \n",
    "                      if srs in series[:2] \n",
    "                      else float(i['value']) for i in r})\n",
    "    \n",
    "    df[srs] = data"
   ]
  },
  {
   "cell_type": "code",
   "execution_count": null,
   "metadata": {
    "ExecuteTime": {
     "end_time": "2022-02-05T02:56:43.879330Z",
     "start_time": "2022-02-05T02:56:43.843082Z"
    }
   },
   "outputs": [],
   "source": [
    "df = df.dropna()\n",
    "df['PD'] = df['FDHBPIN'] - df['FDHBFIN']\n",
    "df['IG'] = df['GFDEBTN'] - (df['FDHBFRBN'] + df['FDHBPIN'])\n",
    "\n",
    "gdp = nipa_df(retrieve_table('T10105')['Data'], ['A191RC'])['A191RC']\n",
    "\n",
    "data = df.loc['1989':].div(gdp / 1000.0, axis=0).dropna()\n",
    "\n",
    "(data[['PD', 'FDHBFIN', 'FDHBFRBN', 'IG']] * 100).to_csv(data_dir / 'pubdebt.csv', \n",
    "                                                         index_label='date')\n",
    "\n",
    "ld = pd.to_datetime(df.index[-1])\n",
    "ldate = dtxt(ld)['qtr2']\n",
    "\n",
    "sh = df.div(df['GFDEBTN'], axis=0).iloc[-1] * 100\n",
    "lv = df.iloc[-1] / 1000\n",
    "dl = data.iloc[-1] * 100\n",
    "url = 'https://www.fiscal.treasury.gov/reports-statements/treasury-bulletin/current.html'\n",
    "text = (f'In {ldate}, total \\href{{{url}}}{{public debt}} was '+\n",
    "        f'\\${lv.GFDEBTN:.1f} trllion, equivalent to {dl.GFDEBTN:.1f} percent '+\n",
    "        f'of GDP. Of this, \\${lv.PD:.1f} trillion, or {sh.PD:.1f} percent of '+\n",
    "        'the total, is held by private domestic investors (see\\cbox{green!60!black}). '+\n",
    "        f'An additional \\${lv.FDHBFIN:.1f} trillion, or {sh.FDHBFIN:.1f} percent '+\n",
    "        'of the total, is held by foreign investors (see\\cbox{orange!70!white}). '+\n",
    "        'The remainder is held by the Federal Reserve (see\\cbox{blue}) '+\n",
    "        'and various government agencies and trusts (see\\cbox{cyan!50!white}), '+\n",
    "        'such as the Social Security Trust Fund. ')\n",
    "write_txt(text_dir / 'pubdebt.txt', text)\n",
    "print(text)"
   ]
  },
  {
   "cell_type": "code",
   "execution_count": null,
   "metadata": {},
   "outputs": [],
   "source": []
  },
  {
   "cell_type": "code",
   "execution_count": null,
   "metadata": {},
   "outputs": [],
   "source": []
  },
  {
   "cell_type": "markdown",
   "metadata": {},
   "source": [
    "### Personal Income"
   ]
  },
  {
   "cell_type": "code",
   "execution_count": null,
   "metadata": {
    "ExecuteTime": {
     "end_time": "2022-01-31T23:52:08.413731Z",
     "start_time": "2022-01-31T23:52:08.287337Z"
    }
   },
   "outputs": [],
   "source": [
    "# deflator\n",
    "d = nipa_df(retrieve_table('T20304')['Data'], ['DPCERG'])['DPCERG']\n",
    "deflator = d.iloc[-1] / d\n",
    "\n",
    "# collect and combine series\n",
    "s = ['A065RC', 'A033RC', 'A041RC', 'A048RC', 'W210RC', 'A577RC', 'A061RC']\n",
    "df = (nipa_df(retrieve_table('T20100')['Data'], s)\n",
    "      .assign(CAPITAL = lambda x: x['A041RC'] + x['A048RC'] + x['W210RC'],\n",
    "              TRANSFER = lambda x: x['A577RC'] - x['A061RC'])\n",
    "      .drop(['A061RC', 'A041RC', 'A048RC', 'W210RC', 'A577RC'], axis=1)\n",
    "      .multiply(deflator, axis=0))\n",
    "growth_contrib(df, 'A065RC').loc['1989':].to_csv(data_dir / 'pi.csv', index_label='date')\n",
    "\n",
    "data = growth_contrib(df, 'A065RC').rename({'A065RC': 'TOTAL', 'A033RC': 'LABOR'}, axis=1)\n",
    "\n",
    "ltdate = dtxt(data.index[-1])['qtr1']\n",
    "tot = value_text(data['TOTAL'].iloc[-1], adj='annualized', digits=2)\n",
    "d = {}\n",
    "for i in ['LABOR', 'CAPITAL', 'TRANSFER']:\n",
    "    d[i] = value_text(data[i].iloc[-1], style='contribution', \n",
    "                      ptype='pp', digits=2)\n",
    "text = (f'Aggregate real personal income {tot} in {ltdate}. '+\n",
    "        f'Labor income {d[\"LABOR\"]} overall growth, '+\n",
    "        f'capital income {d[\"CAPITAL\"]}, and welfare income {d[\"TRANSFER\"]}. ')\n",
    "write_txt(text_dir / 'pi.txt', text)\n",
    "print(text)"
   ]
  },
  {
   "cell_type": "code",
   "execution_count": null,
   "metadata": {},
   "outputs": [],
   "source": []
  },
  {
   "cell_type": "code",
   "execution_count": null,
   "metadata": {},
   "outputs": [],
   "source": []
  },
  {
   "cell_type": "markdown",
   "metadata": {
    "ExecuteTime": {
     "end_time": "2020-10-14T06:23:18.467227Z",
     "start_time": "2020-10-14T06:23:18.460090Z"
    }
   },
   "source": [
    "### Government Personal Income"
   ]
  },
  {
   "cell_type": "code",
   "execution_count": null,
   "metadata": {
    "ExecuteTime": {
     "end_time": "2022-01-31T23:52:08.524970Z",
     "start_time": "2022-01-31T23:52:08.414690Z"
    }
   },
   "outputs": [],
   "source": [
    "s = ['DPCERG']\n",
    "\n",
    "d = nipa_df(retrieve_table('T20304')['Data'], s)['DPCERG']\n",
    "deflator = d.iloc[-1] / d\n",
    "\n",
    "s = ['B230RC']\n",
    "\n",
    "population = nipa_df(retrieve_table('T20100')['Data'], s)['B230RC']\n",
    "\n",
    "s = ['A063RC', 'B202RC', 'A061RC', 'W055RC']\n",
    "df = nipa_df(retrieve_table('T20100')['Data'], s)\n",
    "\n",
    "n = {'A063RC': 'Welfare',\n",
    "     'B202RC': 'WandS'}\n",
    "result = df.multiply(deflator, axis=0).divide(population, axis=0)\n",
    "result['TaxSI'] = result['A061RC'] + result['W055RC']\n",
    "result = result.drop(['A061RC', 'W055RC'], axis=1).rename(n, axis=1)\n",
    "result.loc['1989':].to_csv(data_dir / 'govpi.csv', index_label='date')\n",
    "\n",
    "ltdate = dtxt(result.index[-1])['qtr1']\n",
    "prdt = '2019-10-01'\n",
    "prdate = dtxt(pd.to_datetime(prdt))['qtr1']\n",
    "wsltval = result['WandS'].iloc[-1] * 1_000\n",
    "wsprval = result.loc[prdt, 'WandS'] * 1_000\n",
    "wltval = result['Welfare'].iloc[-1] * 1_000\n",
    "wprval = result.loc[prdt, 'Welfare'] * 1_000\n",
    "w89val = result.loc['1989-01-01', 'Welfare'] * 1_000\n",
    "tltval = result['TaxSI'].iloc[-1] * 1_000\n",
    "tprval = result.loc[prdt, 'TaxSI'] * 1_000\n",
    "t89val = result.loc['1989-01-01', 'TaxSI'] * 1_000\n",
    "\n",
    "text = (f'In {ltdate}, government worker wages and salaries, not including '+\n",
    "        f'benefits, were equivalent to \\${wsltval:,.0f} per capita, following a '+\n",
    "        f'price-adjusted \\${wsprval:,.0f} in {prdate} '+\n",
    "        '(see {\\color{orange}\\\\textbf{---}}). Welfare payments were equivalent '+\n",
    "        f'to \\${wltval:,.0f} per capita in {ltdate}, compared to \\${wprval:,.0f} '+\n",
    "        f'per capita in {prdate} '+\n",
    "        '(see {\\color{violet}\\\\textbf{---}}). In 1989 Q1, welfare payments were '+\n",
    "        f'equivalent to \\${w89val:,.0f} per person.  \\n\\n Personal current taxes '+\n",
    "        f'and social insurance contributions total \\${tltval:,.0f} per capita '+\n",
    "        f'in {ltdate}, \\${tprval:,.0f} in {prdate}, and \\${t89val:,.0f} in 1989 '+\n",
    "        '(see {\\color{cyan!80!blue}\\\\textbf{---}}).')\n",
    "write_txt(text_dir / 'govpi.txt', text)\n",
    "print(text)"
   ]
  },
  {
   "cell_type": "code",
   "execution_count": null,
   "metadata": {},
   "outputs": [],
   "source": []
  },
  {
   "cell_type": "code",
   "execution_count": null,
   "metadata": {},
   "outputs": [],
   "source": []
  },
  {
   "cell_type": "markdown",
   "metadata": {
    "ExecuteTime": {
     "end_time": "2020-10-14T15:23:11.647340Z",
     "start_time": "2020-10-14T15:23:11.645438Z"
    }
   },
   "source": [
    "### Government Consumption and Investment"
   ]
  },
  {
   "cell_type": "code",
   "execution_count": null,
   "metadata": {
    "ExecuteTime": {
     "end_time": "2022-01-31T23:52:08.595747Z",
     "start_time": "2022-01-31T23:52:08.525983Z"
    }
   },
   "outputs": [],
   "source": [
    "s = ['A823RC', 'A829RC', 'A191RC', 'A824RC', 'A825RC']\n",
    "df = nipa_df(retrieve_table('T10105')['Data'], s).sort_index()\n",
    "result = df.drop('A191RC', axis=1).divide(df['A191RC'], axis=0) * 100\n",
    "result.loc['1989':].to_csv(data_dir / 'govci.csv', index_label='date')\n",
    "\n",
    "ltdate = dtxt(result.index[-1])['qtr1']\n",
    "prdt = pd.to_datetime('2019-10-01')\n",
    "prdate = dtxt(prdt)['qtr1']\n",
    "fndnom = df['A825RC'].iloc[-1] / 1_000\n",
    "fndlt = result['A825RC'].iloc[-1]\n",
    "fndpr = result.loc[prdt, 'A825RC']\n",
    "dlt = result['A824RC'].iloc[-1]\n",
    "dpr = result.loc[prdt, 'A824RC']\n",
    "d89 = result.loc['1989-01-01', 'A824RC']\n",
    "slt = result['A829RC'].iloc[-1]\n",
    "spr = result.loc[prdt, 'A829RC']\n",
    "\n",
    "text = (f'In {ltdate}, federal non-defense spending and investment '+\n",
    "        f'was \\${fndnom:,.1f} billion, equivalent to {fndlt:.1f} percent '+\n",
    "        'of GDP (see {\\color{green!85!black}\\\\textbf{---}}), compared '+\n",
    "        f'to {fndpr:.1f} percent of GDP in {prdate}. Federal spending '+\n",
    "        f'on national defense was equivalent to {dlt:.1f} percent of '+\n",
    "        f'GDP in the latest quarter and {dpr:.1f} percent in {prdate} '+\n",
    "        '(see {\\color{blue!60!black}\\\\textbf{---}}). National defense '\n",
    "        f'spending was {d89:.1f} percent of GDP in 1989 Q1. \\n\\n In '+\n",
    "        f'{ltdate}, state and local government spending and investment '+\n",
    "        f'was equivalent to {slt:.1f} percent of GDP, compared to '+\n",
    "        f'{spr:.1f} percent in {prdate} '+\n",
    "        '(see {\\color{purple!70!magenta}\\\\textbf{---}}).')\n",
    "write_txt(text_dir / 'govci.txt', text)\n",
    "print(text)"
   ]
  },
  {
   "cell_type": "code",
   "execution_count": null,
   "metadata": {},
   "outputs": [],
   "source": []
  },
  {
   "cell_type": "code",
   "execution_count": null,
   "metadata": {},
   "outputs": [],
   "source": []
  },
  {
   "cell_type": "markdown",
   "metadata": {},
   "source": [
    "### Consumer Spending Growth Contributions"
   ]
  },
  {
   "cell_type": "code",
   "execution_count": null,
   "metadata": {
    "ExecuteTime": {
     "end_time": "2022-01-31T23:52:08.707760Z",
     "start_time": "2022-01-31T23:52:08.596689Z"
    }
   },
   "outputs": [],
   "source": [
    "s = ['B230RC']\n",
    "population = nipa_df(retrieve_table('T20100')['Data'], s)['B230RC']\n",
    "s = ['DPCERG']\n",
    "d = nipa_df(retrieve_table('T20304')['Data'], s)['DPCERG']\n",
    "deflator = d.iloc[-1] / d\n",
    "\n",
    "s = ['A067RC', 'A068RC', 'A071RC', 'DPCERC']\n",
    "\n",
    "df = (nipa_df(retrieve_table('T20100')['Data'], s)\n",
    "      .assign(OTHER = lambda x: -(x['A068RC'] - x['DPCERC']),\n",
    "              SAVING = lambda x: -x['A071RC'])\n",
    "      .drop(['A068RC'], axis=1)\n",
    "      .divide(population, axis=0)\n",
    "      .multiply(deflator, axis=0))\n",
    "\n",
    "data = growth_contrib(df, 'DPCERC').rolling(4).mean()\n",
    "data3y = growth_contrib(df, 'DPCERC').rolling(12).mean()\n",
    "data.loc['1989':].to_csv(data_dir / 'pcedecomp.csv', index_label='date')"
   ]
  },
  {
   "cell_type": "code",
   "execution_count": null,
   "metadata": {
    "ExecuteTime": {
     "end_time": "2022-01-31T23:52:08.725106Z",
     "start_time": "2022-01-31T23:52:08.710922Z"
    },
    "scrolled": true
   },
   "outputs": [],
   "source": [
    "date = f'{data.index[-1].year} Q{data.index[-1].quarter}'\n",
    "pcetext = value_text(data['DPCERC'].iloc[-1], adj='average')\n",
    "\n",
    "slist = ['A067RC', 'SAVING', 'OTHER']\n",
    "d = {}\n",
    "for i in slist:\n",
    "    val = data[i].iloc[-1]\n",
    "    vt = value_text(data[i].iloc[-1], style='contribution', \n",
    "           ptype='pp', casual=True)\n",
    "    if f'{abs(val):.1f}' == '0.0':\n",
    "        vt = \"didn't affect the total\"\n",
    "    d[i] = vt\n",
    "pce19 = value_text(data.loc['2019', 'DPCERC'].mean(), adj='average')\n",
    "dpi19 = value_text(data.loc['2019', 'A067RC'].mean(), style='contribution', \n",
    "           ptype='pp')\n",
    "save19 = value_text(data.loc['2019', 'SAVING'].mean(), style='contribution', \n",
    "           ptype='pp')\n",
    "\n",
    "pcetxt = (f'Real per capita consumer spending {pcetext} over the '+\n",
    "          f'four quarters ending {date}. Changes to disposable income '+\n",
    "          f'{d[\"A067RC\"]}, changes to saving {d[\"SAVING\"]}, and '+\n",
    "          f'changes to other outlays {d[\"OTHER\"]}. '+\n",
    "          f'During 2019, real per capita consumer spending {pce19}. '+\n",
    "          f'Increased income {dpi19}, and a slight increase in saving {save19}.')\n",
    "write_txt(text_dir / 'pcedecomp.txt', pcetxt)\n",
    "print(pcetxt)"
   ]
  },
  {
   "cell_type": "code",
   "execution_count": null,
   "metadata": {},
   "outputs": [],
   "source": []
  },
  {
   "cell_type": "code",
   "execution_count": null,
   "metadata": {},
   "outputs": [],
   "source": []
  },
  {
   "cell_type": "markdown",
   "metadata": {},
   "source": [
    "### Sectoral Accounts\n",
    "\n",
    "**NOTE:** Need to convert \"deficit\", \"borrower\" etc to parameters!"
   ]
  },
  {
   "cell_type": "code",
   "execution_count": null,
   "metadata": {
    "ExecuteTime": {
     "end_time": "2022-01-31T23:52:08.729982Z",
     "start_time": "2022-01-31T23:52:08.726627Z"
    }
   },
   "outputs": [],
   "source": [
    "def sect_txt(val):\n",
    "    lb = ('borrower', 'deficit') if val < 0 else ('lender', 'surplus')\n",
    "    d = {'v': val,\n",
    "         'vt': f'{val:.1f}',\n",
    "         'avt': f'{abs(val):.1f}',\n",
    "         'vg': f'the equivalent of {abs(val):.1f} percent of GDP',\n",
    "         'lb': lb[0],\n",
    "         'ds': lb[1]}\n",
    "    return d"
   ]
  },
  {
   "cell_type": "code",
   "execution_count": null,
   "metadata": {
    "ExecuteTime": {
     "end_time": "2022-01-31T23:52:08.874921Z",
     "start_time": "2022-01-31T23:52:08.731573Z"
    }
   },
   "outputs": [],
   "source": [
    "gdp = nipa_df(retrieve_table('T10105')['Data'], ['A191RC'])['A191RC']\n",
    "s = ['W162RC', 'W994RC', 'AD01RC', 'W995RC', 'W996RC', 'AD03RC']\n",
    "sb = nipa_df(retrieve_table('T50100')['Data'], s)\n",
    "df = (sb.div(gdp, axis=0) * 100).dropna()\n",
    "res = df[['W995RC', 'W996RC', 'AD03RC']].loc['1989':]\n",
    "res.to_csv(data_dir / 'sectbal2.csv', index_label='date')\n",
    "\n",
    "data = pd.DataFrame()\n",
    "data['PRIV'] = df['W994RC']\n",
    "data['GOV'] = df['AD01RC']\n",
    "data['ROW'] = -df['W162RC'] # Negative in raw data\n",
    "data = data.dropna().loc['1989':]\n",
    "data.to_csv(data_dir / 'sectbal.csv', index_label='date')\n",
    "\n",
    "date = dtxt(data.index[-1])['qtr1']\n",
    "pcdt = '2019-10-01'\n",
    "\n",
    "priv = sect_txt(data.PRIV.iloc[-1])\n",
    "privpr = sect_txt(data.loc['2019', 'PRIV'].mean())\n",
    "row = sect_txt(data.ROW.iloc[-1])\n",
    "rowpr = sect_txt(data.loc['2019', 'ROW'].mean())\n",
    "gov = sect_txt(data.GOV.iloc[-1])\n",
    "govpr = sect_txt(data.loc['2019', 'GOV'].mean())\n",
    "\n",
    "compare = compare_text(priv['v'], privpr['v'], [0.4, 1.0, 3.5])\n",
    "\n",
    "txt = (f\"In {date}, the US private sector was a net {priv['lb']} \"+\n",
    "       f\"(running a {priv['ds']}) of {priv['vg']}, {compare} the \"+\n",
    "       f\"{privpr['avt']} percent surplus in 2019. The rest of the world \"+\n",
    "       f\"was a net {row['lb']} to the US to {row['vg']} in {date}, compared \"+\n",
    "       f\"to {rowpr['avt']} percent in 2019. Balancing these transactions, \"+\n",
    "       \"the government (federal, state, and local combined) was a net \"+\n",
    "       f\"{gov['lb']} (running a {gov['ds']}) of {gov['vg']} in {date}, \"+\n",
    "       f\"compared to {govpr['avt']} percent in 2019. \")\n",
    "write_txt(text_dir / 'sectbal.txt', txt)\n",
    "print(txt, '\\n')\n",
    "\n",
    "date = dtxt(df.index[-1])['qtr1']\n",
    "hh = sect_txt(df.W996RC.iloc[-1])\n",
    "hhpr = sect_txt(df.loc['2019', 'W996RC'].mean())\n",
    "pb = sect_txt(df.W995RC.iloc[-1])\n",
    "pbpr = sect_txt(df.loc['2019', 'W995RC'].mean())   \n",
    "text = ('Breaking out the two main categories in the private sector, households '+\n",
    "       f'were net {hh[\"lb\"]}s (ran a {hh[\"ds\"]}) of {hh[\"vg\"]} in {date} '+\n",
    "        '(see\\cbox{orange!90!yellow}), while private businesses--corporate '+\n",
    "       f'and noncorporate--were net {pb[\"lb\"]}s of {pb[\"vg\"]} '+\n",
    "       '(see\\cbox{purple!50!red}). In 2019, households were net '+\n",
    "       f'{hhpr[\"lb\"]}s of {hhpr[\"avt\"]} percent, and private businesses were net '+\n",
    "       f'{pbpr[\"lb\"]}s of {pbpr[\"avt\"]} percent.') \n",
    "write_txt(text_dir / 'sectbal2.txt', text)\n",
    "print(text)"
   ]
  },
  {
   "cell_type": "code",
   "execution_count": null,
   "metadata": {},
   "outputs": [],
   "source": []
  },
  {
   "cell_type": "code",
   "execution_count": null,
   "metadata": {},
   "outputs": [],
   "source": []
  },
  {
   "cell_type": "markdown",
   "metadata": {},
   "source": [
    "### Current Account Balance"
   ]
  },
  {
   "cell_type": "code",
   "execution_count": null,
   "metadata": {
    "ExecuteTime": {
     "end_time": "2022-01-31T23:52:09.129879Z",
     "start_time": "2022-01-31T23:52:08.875910Z"
    },
    "code_folding": []
   },
   "outputs": [],
   "source": [
    "s = ['A191RC']\n",
    "\n",
    "gdp = nipa_df(retrieve_table('T10105')['Data'], s)\n",
    "\n",
    "n = {'A1073C': 'Current receipts',\n",
    "     'B020RC': '\\hspace{1mm}Exports',\n",
    "     'A253RC': '\\hspace{3mm}Goods',\n",
    "     'A332RC': '\\hspace{5mm}Durable',\n",
    "     'A339RC': '\\hspace{5mm}Nondurable',\n",
    "     'A646RC': '\\hspace{3mm}Services',\n",
    "     'B645RC': '\\hspace{1mm}Income receipts',\n",
    "     'LA000035': '\\hspace{1mm}Transfer receipts',\n",
    "     'W163RC': 'Current payments',\n",
    "     'B021RC': '\\hspace{1mm}Imports',\n",
    "     'A255RC': '\\hspace{3mm}Goods',\n",
    "     'A333RC': '\\hspace{5mm}Durable',\n",
    "     'A340RC': '\\hspace{5mm}Nondurable',\n",
    "     'B656RC': '\\hspace{3mm}Services',\n",
    "     'A655RC': '\\hspace{1mm}Income payments',\n",
    "     'A123RC': '\\hspace{1mm}Transfer payments',\n",
    "     'A124RC': 'Current account balance'}\n",
    "\n",
    "s = ['A124RC', 'GOODS', 'SERVICES', 'INCOME', 'TRANSFERS']\n",
    "\n",
    "df = (nipa_df(retrieve_table('T40100')['Data'], n.keys())\n",
    "      .assign(GOODS = lambda x: x['A253RC'] - x['A255RC'],\n",
    "              SERVICES = lambda x: x['A646RC'] - x['B656RC'],\n",
    "              INCOME = lambda x: x['B645RC'] - x['A655RC'],\n",
    "              TRANSFERS = lambda x: - x['A123RC']))\n",
    "\n",
    "data = (df.div(nipa_df(retrieve_table('T10105')['Data'], ['A191RC']\n",
    "               )['A191RC'], axis=0).loc['1989':].multiply(100).round(2))\n",
    "\n",
    "data[s].dropna().to_csv(data_dir / 'cab.csv', index_label='date')\n",
    "\n",
    "cab = abs(data.dropna()['A124RC'].iloc[-1])\n",
    "tb = abs(data.dropna()['GOODS'].iloc[-1])\n",
    "ld = dtxt(data.dropna().index[-1])['qtr1']\n",
    "ltdate = dtxt(data.index[-1])['qtr1']\n",
    "prdate = dtxt(data.index[-2])['qtr1']\n",
    "lttbval = abs(data['GOODS'].iloc[-1])\n",
    "tbprval = abs(data['GOODS'].iloc[-2])\n",
    "prval = abs(data['A124RC'].iloc[-2])\n",
    "\n",
    "\n",
    "if pd.isna(data['A124RC'].iloc[-1]) == True:\n",
    "    mtxt = (f'The initial GDP report for {ltdate} does not include the '+\n",
    "            'data needed to calculate the current account balance, however, '+\n",
    "            f'the goods trade deficit for {ltdate} is equivalent to '+\n",
    "            f'{lttbval:.1f} percent of GDP. ')\n",
    "else:\n",
    "    mtxt = (f'In {prdate}, the current account deficit was equivalent to '\n",
    "            f'{prval:.1f}, and the trade deficit was equivalent to '+\n",
    "            f'{tbprval:.1f} percent of GDP.')\n",
    "\n",
    "text = (f'As of {ld}, the US runs a current account deficit of {cab:.1f} '+\n",
    "        'percent of GDP, primarily as the result of a trade deficit on '+\n",
    "        f'goods of {tb:.1f} percent of GDP. {mtxt}')\n",
    "write_txt(text_dir / 'cab.txt', text)\n",
    "print(text)"
   ]
  },
  {
   "cell_type": "code",
   "execution_count": null,
   "metadata": {
    "ExecuteTime": {
     "end_time": "2022-01-31T23:52:09.142652Z",
     "start_time": "2022-01-31T23:52:09.130987Z"
    }
   },
   "outputs": [],
   "source": [
    "result = data[n.keys()]\n",
    "data2 = result.iloc[-6:].iloc[::-1].T\n",
    "\n",
    "cols = [f' {q.year} Q{q.quarter}' \n",
    "        if i == 0 else f'`{str(q.year)[2:]} Q{q.quarter}'\n",
    "        for i, q in enumerate(data2.columns)]\n",
    "\n",
    "data2.columns = cols\n",
    "data2['3-year'] = result.rolling(13).mean().iloc[-1].round(2)\n",
    "data2['10-year'] = result.rolling(41).mean().iloc[-1].round(2)\n",
    "data2.index = data2.index.map(n)\n",
    "data2 = data2.applymap('{:.2f}'.format).replace('nan', '--')\n",
    "data2.to_csv(data_dir / 'cab.tex', sep='&', line_terminator='\\\\\\ ', quotechar=' ')"
   ]
  },
  {
   "cell_type": "code",
   "execution_count": null,
   "metadata": {},
   "outputs": [],
   "source": []
  },
  {
   "cell_type": "code",
   "execution_count": null,
   "metadata": {},
   "outputs": [],
   "source": []
  },
  {
   "cell_type": "markdown",
   "metadata": {},
   "source": [
    "### Federal Interest Outlays share of GDP"
   ]
  },
  {
   "cell_type": "code",
   "execution_count": null,
   "metadata": {
    "ExecuteTime": {
     "end_time": "2022-01-31T23:52:09.580862Z",
     "start_time": "2022-01-31T23:52:09.143524Z"
    },
    "scrolled": false
   },
   "outputs": [],
   "source": [
    "gdp = nipa_df(retrieve_table('T10105')['Data'], ['A191RC'])\n",
    "gdp.index = gdp.index + pd.DateOffset(months=3)\n",
    "tot = fred_df('FYOINT')['VALUE']\n",
    "tot.index = tot.index + pd.DateOffset(days=1)\n",
    "df = (tot / gdp.A191RC.rolling(4).mean()).dropna() * 100\n",
    "df.name = 'value'\n",
    "df.to_csv(data_dir / 'fedintexp.csv', index_label='date', header=True)\n",
    "write_txt(text_dir / 'fedintexp_node.txt', end_node(df, 'magenta', digits=2,\n",
    "                                                    percent=True, date='fy'))\n",
    "val90s = df.loc['1990':'1999'].mean()\n",
    "\n",
    "text = ('The Office of Management and Budget '+\n",
    "        '\\href{https://www.whitehouse.gov/omb/historical-tables/}{report} '+\n",
    "        f'federal interest outlays of \\${tot.iloc[-1] / 1000:.0f} '+\n",
    "        f'billion in fiscal year {tot.index[-1].year}, compared to '+\n",
    "        f'\\${tot.iloc[-2] / 1000:.0f} billion in fiscal year '+\n",
    "        f'{tot.index[-2].year}. Put into the context of the size of '+\n",
    "        f'the economy, federal interest outlays in fiscal year '+\n",
    "        f'{df.index[-1].year} were equivalent to {df.iloc[-1]:.2f} '+\n",
    "        'percent of GDP (see {\\color{magenta}\\\\textbf{---}}), following '+\n",
    "        f'{df.iloc[-2]:.2f} percent of GDP in FY{df.index[-2].year} '+\n",
    "        f'and {df.iloc[-3]:.2f} percent in FY{df.index[-3].year}, '+\n",
    "        f'and compared to an average of {val90s:.1f} percent in '+\n",
    "        'the 1990s, when interest rates were substantially higher. ')\n",
    "write_txt(text_dir / 'fedintexp.txt', text)\n",
    "print(text)"
   ]
  },
  {
   "cell_type": "code",
   "execution_count": null,
   "metadata": {},
   "outputs": [],
   "source": []
  },
  {
   "cell_type": "code",
   "execution_count": null,
   "metadata": {
    "ExecuteTime": {
     "end_time": "2022-01-31T23:52:09.587506Z",
     "start_time": "2022-01-31T23:52:09.584044Z"
    }
   },
   "outputs": [],
   "source": [
    "#nipa_series_codes(retrieve_table('T20100'))"
   ]
  },
  {
   "cell_type": "markdown",
   "metadata": {},
   "source": [
    "### Corporate Profits Destination"
   ]
  },
  {
   "cell_type": "code",
   "execution_count": null,
   "metadata": {
    "ExecuteTime": {
     "end_time": "2022-02-01T05:04:08.833344Z",
     "start_time": "2022-02-01T05:04:08.734484Z"
    }
   },
   "outputs": [],
   "source": [
    "s = ['A032RC', 'A438RC', 'A054RC', 'B056RC', 'A127RC']\n",
    "df = (nipa_df(retrieve_table('T11200')['Data'], s)\n",
    "         / 1_000_000).dropna().rename({})\n",
    "df['NNI'] = df['A032RC'] - df['A438RC']\n",
    "df['TOT'] = df[['A054RC', 'B056RC', 'A127RC']].sum(axis=1)\n",
    "dt = df.index[-1]\n",
    "ltdate = dtxt(df.index[-1])['qtr2']\n",
    "sh = df.div(df.NNI, axis=0) * 100\n",
    "(sh.loc['1989':, ['A054RC', 'B056RC', 'A127RC']]\n",
    "   .to_csv(data_dir / 'cprof.csv', index_label='date'))\n",
    "taxrt = ((df.A054RC / df.TOT) * 100).loc['1989':]\n",
    "taxrt.to_csv(data_dir / 'cprof_taxrt.csv', index_label='date')\n",
    "totsh19 = sh.loc['2019', 'TOT'].mean()\n",
    "divsh19 = sh.loc['2019', 'B056RC'].mean()\n",
    "resh19 = sh.loc['2019', 'A127RC'].mean()\n",
    "taxsh19 = sh.loc['2019', 'A054RC'].mean()\n",
    "taxrt19 = taxrt.loc['2019'].mean()\n",
    "text = (f'In {ltdate}, corporate profits were '+\n",
    "        f'\\${df.TOT.iloc[-1]:.2f} trillion, equivalent to '+\n",
    "        f'{sh.TOT.iloc[-1]:.1f} percent of the income paid '+\n",
    "        'to US nationals after depreciation costs (net national '+\n",
    "        f'income). Of this, \\${df.B056RC.iloc[-1]:.2f} trillion, '+\n",
    "        f'equivalent to {sh.B056RC.iloc[-1]:.1f} percent of '+\n",
    "        'net national income, were paid out as dividends '+\n",
    "        '(see\\cbox{blue!70!purple}), '+\n",
    "        f'\\${df.A127RC.iloc[-1] * 1000:,.0f} billion were '+\n",
    "        'retained (corporate saving, see\\cbox{cyan!50!white}), '+\n",
    "        f'and \\${df.A054RC.iloc[-1] * 1000:.0f} billion, '+\n",
    "        f'{taxrt.iloc[-1]:.1f} percent of corporate profits, '+\n",
    "        'went to corporate income tax (see\\cbox{red!80!orange}). \\n\\n'+\n",
    "        f'In 2019, corporate profits were {totsh19:.1f} percent '+\n",
    "        'of net national income. Dividends were equivalent to '+\n",
    "        f'{divsh19:.1f} percent, corporate savings were '+\n",
    "        f'{resh19:.1f} percent, and corporate income taxes were '+\n",
    "        f'{taxsh19:.1f} percent of net national income '+\n",
    "        f'and {taxrt19:.1f} percent of corporate profits.')\n",
    "write_txt(text_dir / 'cprof.txt', text)\n",
    "print(text)"
   ]
  },
  {
   "cell_type": "code",
   "execution_count": null,
   "metadata": {},
   "outputs": [],
   "source": []
  },
  {
   "cell_type": "code",
   "execution_count": null,
   "metadata": {},
   "outputs": [],
   "source": []
  },
  {
   "cell_type": "code",
   "execution_count": null,
   "metadata": {},
   "outputs": [],
   "source": []
  },
  {
   "cell_type": "markdown",
   "metadata": {},
   "source": [
    "### Corporate profits source"
   ]
  },
  {
   "cell_type": "code",
   "execution_count": null,
   "metadata": {
    "ExecuteTime": {
     "end_time": "2022-01-31T23:52:09.802442Z",
     "start_time": "2022-01-31T23:52:09.682829Z"
    }
   },
   "outputs": [],
   "source": [
    "s = ['W170RC', 'A262RC', 'W986RC', 'A922RC']\n",
    "df1 = nipa_df(retrieve_table('T50100')['Data'], s)\n",
    "\n",
    "s = ['A123RC']\n",
    "df2 = nipa_df(retrieve_table('T40100')['Data'], s)\n",
    "\n",
    "s = ['A001RC']\n",
    "df3 = nipa_df(retrieve_table('T10705')['Data'], s)\n",
    "\n",
    "cprof = pd.DataFrame()\n",
    "cprof['ROW Saving'] = (df2['A123RC'] / df3['A001RC']) * 100\n",
    "cprof['HH Saving'] = (- df1['W986RC'] / df3['A001RC']) * 100\n",
    "cprof['Gov Saving'] = (- df1['A922RC'] / df3['A001RC']) * 100\n",
    "cprof['Investment'] = ((df1['W170RC'] - df1['A262RC']) / df3['A001RC']) * 100\n",
    "\n",
    "cprof.loc['1989':].to_csv(data_dir / 'cprof2.csv', index_label='date')"
   ]
  },
  {
   "cell_type": "code",
   "execution_count": null,
   "metadata": {
    "ExecuteTime": {
     "end_time": "2022-01-31T23:52:09.805169Z",
     "start_time": "2022-01-31T23:52:09.803409Z"
    },
    "code_folding": []
   },
   "outputs": [],
   "source": [
    "#nipa_series_codes(retrieve_table('T50100'))"
   ]
  },
  {
   "cell_type": "code",
   "execution_count": null,
   "metadata": {},
   "outputs": [],
   "source": []
  },
  {
   "cell_type": "code",
   "execution_count": null,
   "metadata": {},
   "outputs": [],
   "source": []
  },
  {
   "cell_type": "markdown",
   "metadata": {},
   "source": [
    "### Labor Productivity"
   ]
  },
  {
   "cell_type": "code",
   "execution_count": null,
   "metadata": {
    "ExecuteTime": {
     "end_time": "2022-02-03T14:32:37.425227Z",
     "start_time": "2022-02-03T14:32:37.420430Z"
    }
   },
   "outputs": [],
   "source": [
    "# Series stored as a dictionary\n",
    "series = {'PRS85006092': 'value',\n",
    "          'PRS85006032': 'hours',\n",
    "          'PRS85006042': 'output',\n",
    "          'PRS85006033': 'hours_index'}"
   ]
  },
  {
   "cell_type": "code",
   "execution_count": null,
   "metadata": {
    "ExecuteTime": {
     "end_time": "2022-02-03T14:32:40.876857Z",
     "start_time": "2022-02-03T14:32:38.315155Z"
    }
   },
   "outputs": [],
   "source": [
    "# Start year and end year\n",
    "dates = (1989, 2021)\n",
    "df = bls_api(series, dates, bls_key)\n",
    "\n",
    "df.to_csv(data_dir / 'lprod.csv', index_label='date')"
   ]
  },
  {
   "cell_type": "code",
   "execution_count": null,
   "metadata": {
    "ExecuteTime": {
     "end_time": "2022-02-03T14:32:43.142976Z",
     "start_time": "2022-02-03T14:32:43.128343Z"
    }
   },
   "outputs": [],
   "source": [
    "df = pd.read_csv(data_dir / 'lprod.csv', \n",
    "                 index_col='date', parse_dates=True)\n",
    "ltdt = dtxt(df.index[-1])['qtr1']\n",
    "prdt = dtxt(df.index[-2])['qtr1']\n",
    "d = series_info(df['value'])\n",
    "s = {srs: {'lt': value_text(df[srs].iloc[-1], adj='annual'), \n",
    "           'pr': value_text(df[srs].iloc[-2], adj='annual'), \n",
    "           'lt2': value_text(df[srs].iloc[-1], style='increase_of'), \n",
    "           'pr2': value_text(df[srs].iloc[-2]),\n",
    "           'pr3': value_text(df[srs].iloc[-2], style='increase_of')} \n",
    "     for srs in series.values()}\n",
    "compare = compare_text(d['five_year_mean'], d['mean'], [0.1, 0.5, 2.0])\n",
    "\n",
    "text = (f'In {ltdt}, labor productivity {s[\"value\"][\"lt\"]} '+\n",
    "        f'(see\\cbox{{teal}}), as the result of {s[\"output\"][\"lt2\"]} in '+\n",
    "        f'real ouput and {s[\"hours\"][\"lt2\"]} in hours worked. In the '+\n",
    "        f'prior quarter, {prdt}, labor productivity {s[\"value\"][\"pr\"]}, '+\n",
    "        f'as real output {s[\"output\"][\"pr2\"]} and hours of work '+\n",
    "        f'{s[\"hours\"][\"pr2\"]}. Over the past five years, labor productivity '+\n",
    "        f'growth has averaged {d[\"five_year_mean\"]:.1f} percent, '+\n",
    "        f'{compare} the 1989-onward average of {d[\"mean\"]:.1f} percent.')\n",
    "write_txt(text_dir / 'lprod.txt', text)\n",
    "print(text, '\\n')\n",
    "\n",
    "hr19 = value_text(df.loc['2017': '2019', 'hours'].mean(), adj='average')\n",
    "ch19 = (df['hours_index'].iloc[-1] / \n",
    "        df.loc['2019-10-01', 'hours_index'] - 1) * 100\n",
    "ch19txt = value_text(ch19, 'increase_by', adj='total')\n",
    "text = (f'Total hours worked in nonfarm businesses {s[\"hours\"][\"lt\"]} '+\n",
    "        f'in {ltdt}, following {s[\"hours\"][\"pr3\"]} in {prdt}. From '+\n",
    "        f'2017 through 2019, total hours worked {hr19}. Since 2019, '+\n",
    "        f'hours worked have {ch19txt}.')\n",
    "write_txt(text_dir / 'tot_hours.txt', text)\n",
    "print(text)"
   ]
  },
  {
   "cell_type": "code",
   "execution_count": null,
   "metadata": {},
   "outputs": [],
   "source": []
  },
  {
   "cell_type": "code",
   "execution_count": null,
   "metadata": {},
   "outputs": [],
   "source": []
  },
  {
   "cell_type": "markdown",
   "metadata": {},
   "source": [
    "### Gross Labor Income"
   ]
  },
  {
   "cell_type": "code",
   "execution_count": null,
   "metadata": {
    "ExecuteTime": {
     "end_time": "2022-02-03T14:33:32.631129Z",
     "start_time": "2022-02-03T14:33:30.518869Z"
    }
   },
   "outputs": [],
   "source": [
    "s = {'LNS12005054': 'Hours', 'LNS12000000': 'Employment'}\n",
    "df = bls_api(s, (1989, 2021), bls_key)\n",
    "df['Total'] = df['Hours'] * df['Employment']\n",
    "df.to_csv(data_dir / 'emp_hrs.csv', index_label='date')"
   ]
  },
  {
   "cell_type": "code",
   "execution_count": null,
   "metadata": {
    "ExecuteTime": {
     "end_time": "2022-02-03T14:33:35.507661Z",
     "start_time": "2022-02-03T14:33:35.437183Z"
    }
   },
   "outputs": [],
   "source": [
    "emp = (pd.read_csv(data_dir / 'emp_hrs.csv', parse_dates=[0])\n",
    "         .set_index('date')['Total'])\n",
    "coe = nipa_df(retrieve_table('T20100')['Data'], ['A033RC'])\n",
    "pce = nipa_df(retrieve_table('T20304')['Data'], ['DPCERG'])\n",
    "data = coe.join(pce).join(emp.resample('QS').mean()).dropna()\n",
    "data['real_coe'] = data['A033RC'] / (data['DPCERG'] / data['DPCERG'].iloc[-1])\n",
    "data['coe_inp'] = data['real_coe'] / data['Total']\n",
    "data['wage'] = data['coe_inp'] * data['Total'].iloc[0]\n",
    "data['work'] = data['real_coe'] - data['wage']\n",
    "\n",
    "# Calculate contributions to growth\n",
    "result = growth_contrib(data, 'real_coe')[['work', 'wage']]\n",
    "result.dropna().loc['1989':]\n",
    "result.to_csv(data_dir / 'gli.csv', index_label='date')\n",
    "\n",
    "ltdate = dtxt(result.index[-1])['qtr1']\n",
    "totval = result.iloc[-1].sum()\n",
    "wage = result['wage'].iloc[-1]\n",
    "work = result['work'].iloc[-1]\n",
    "\n",
    "incdec = 'increased' if totval > 0 else 'decreased'\n",
    "txt1 = (f'{incdec} at an annualized and inflation-adjusted '+\n",
    "        f'rate of {abs(totval):.2f} percent')\n",
    "\n",
    "if totval == 0:\n",
    "    txt1 = 'was unchanged, after adjusting for inflation,'\n",
    "    \n",
    "txt2 = cont_subt(wage, style='end')\n",
    "txt3 = cont_subt(work, style='end')\n",
    "\n",
    "text = (f'{txt1} in {ltdate}. Changes in wages {txt2}, '+\n",
    "        f'and changes in total hours worked {txt3}.')\n",
    "write_txt(text_dir / 'gli.txt', text)\n",
    "print(text)"
   ]
  },
  {
   "cell_type": "code",
   "execution_count": null,
   "metadata": {},
   "outputs": [],
   "source": []
  },
  {
   "cell_type": "code",
   "execution_count": null,
   "metadata": {},
   "outputs": [],
   "source": []
  },
  {
   "cell_type": "markdown",
   "metadata": {},
   "source": [
    "### Financial Obligations Ratio"
   ]
  },
  {
   "cell_type": "code",
   "execution_count": null,
   "metadata": {
    "ExecuteTime": {
     "end_time": "2022-02-03T14:33:39.971546Z",
     "start_time": "2022-02-03T14:33:39.723230Z"
    }
   },
   "outputs": [],
   "source": [
    "base = 'https://www.federalreserve.gov/datadownload/Output.aspx?'\n",
    "srs = 'rel=FOR&series=1dc13603606b1a2cf3c07004eeb7f026&lastobs=&'\n",
    "dt = 'from=01/01/1989&to=12/31/2021&'\n",
    "oth = 'filetype=csv&label=include&layout=seriescolumn'\n",
    "url = base + srs + dt + oth\n",
    "\n",
    "d, clean_data = clean_fed_data(url)\n",
    "\n",
    "d = {k: v.replace(', seasonally adjusted', '') for k, v in d.items()}\n",
    "\n",
    "data = clean_data.rename(d, axis=1)\n",
    "data.to_csv(data_dir / 'for.csv', index_label='date')\n",
    "\n",
    "node = end_node(data['Financial obligations ratio'], 'blue!80!black', \n",
    "                percent=True, date='q', full_year=True)\n",
    "write_txt(text_dir / 'for_node.txt', node)\n",
    "\n",
    "ltdate = dtxt(data.index[-1])['qtr1']\n",
    "ltval = data['Financial obligations ratio'].iloc[-1]\n",
    "\n",
    "node2 = end_node(data['Debt service ratio'], 'red', percent=True)\n",
    "write_txt(text_dir / 'dsr_node.txt', node2)\n",
    "\n",
    "dsrval = data['Debt service ratio'].iloc[-1]\n",
    "\n",
    "text = (f'As of {ltdate}, the financial obligations ratio is {ltval:.1f} '+\n",
    "        'percent (see {\\color{blue!80!black}\\\\textbf{---}}), '+\n",
    "        f'and the debt service ratio is {dsrval:.1f} percent '+\n",
    "        '(see {\\color{red}\\\\textbf{---}}).')\n",
    "write_txt(text_dir / 'for.txt', text)\n",
    "print(text)"
   ]
  },
  {
   "cell_type": "code",
   "execution_count": null,
   "metadata": {},
   "outputs": [],
   "source": []
  },
  {
   "cell_type": "code",
   "execution_count": null,
   "metadata": {},
   "outputs": [],
   "source": []
  },
  {
   "cell_type": "markdown",
   "metadata": {},
   "source": [
    "### Shiller real return trailing 20-year average"
   ]
  },
  {
   "cell_type": "code",
   "execution_count": 71,
   "metadata": {
    "ExecuteTime": {
     "end_time": "2022-02-07T04:26:00.658322Z",
     "start_time": "2022-02-07T04:25:56.335704Z"
    }
   },
   "outputs": [
    {
     "name": "stdout",
     "output_type": "stream",
     "text": [
      "According to historical stock market \\href{http://www.econ.yale.edu/~shiller/data.htm}{data} from Robert Shiller, the inflation-adjusted trailing twenty-year annual rate of return of the S\\&P 500 was 6.8 percent as of December 2021. Long-term real returns are currently low relative to the average trailing twenty year real annual return of 10.1 percent during 1995--2005.\n"
     ]
    }
   ],
   "source": [
    "url = 'http://www.econ.yale.edu/~shiller/data/ie_data.xls'\n",
    "data = pd.read_excel(url, sheet_name='Data', header=7, \n",
    "                     index_col='Date').dropna(subset=['TR CAPE'])\n",
    "data.index = pd.to_datetime(data.index.format())\n",
    "data.loc['1989':, 'TR CAPE'].to_csv(data_dir / 'catrpe.csv', \n",
    "                                    index_label='date')\n",
    "node = end_node(data['TR CAPE'], 'blue!80!black', date='m')\n",
    "write_txt(text_dir / 'cape_node.txt', node)\n",
    "col = ['Price', 'Dividend']\n",
    "df = data.loc['1960':, col].dropna()\n",
    "for yrs in [10, 15, 20]:\n",
    "    mos = yrs * 12\n",
    "    dy = (df.Dividend / df.Price).rolling(mos).mean()\n",
    "    pch = (df.Price.pct_change(mos)+1)**(1/yrs) - 1\n",
    "    df[f'Return{yrs}'] = (dy + pch) * 100\n",
    "    \n",
    "res = df.loc['1989':, ~df.columns.isin(col)]\n",
    "res.to_csv(data_dir / f'sp500rr.csv', index_label='date', \n",
    "           float_format='%g')\n",
    "\n",
    "url = 'http://www.econ.yale.edu/~shiller/data.htm'\n",
    "lt20 = df['Return20'].iloc[-1]\n",
    "ltdt = dtxt(df.index[-1])['mon1']\n",
    "pr = df['Return20'].loc['1995':'2005'].mean()\n",
    "text = (f'According to historical stock market \\href{{{url}}}'+\n",
    "        '{data} from Robert Shiller, the inflation-adjusted '+\n",
    "        'trailing twenty-year annual rate of return of the '+\n",
    "        f'S\\&P 500 was {lt20:.1f} percent as of {ltdt}. Long-'+\n",
    "        'term real returns are currently low relative to the '+\n",
    "        'average trailing twenty year real annual return of '+\n",
    "        f'{pr:.1f} percent during 1995--2005.')\n",
    "write_txt(text_dir / 'sp500rr.txt', text)\n",
    "print(text)"
   ]
  },
  {
   "cell_type": "code",
   "execution_count": null,
   "metadata": {},
   "outputs": [],
   "source": []
  },
  {
   "cell_type": "code",
   "execution_count": null,
   "metadata": {},
   "outputs": [],
   "source": []
  },
  {
   "cell_type": "markdown",
   "metadata": {},
   "source": [
    "### High Quality Corporate Bond Yield"
   ]
  },
  {
   "cell_type": "code",
   "execution_count": 2,
   "metadata": {
    "ExecuteTime": {
     "end_time": "2022-02-07T03:18:41.419587Z",
     "start_time": "2022-02-07T03:18:40.602311Z"
    }
   },
   "outputs": [
    {
     "name": "stdout",
     "output_type": "stream",
     "text": [
      "The yield on high-quality corporate bonds with a maturity of 10 years is 2.61 percent in December 2021, following 2.63 percent in November 2021. One year prior, in December 2020, this spot rate was 2.06 percent, and two years prior, in December 2019, it was 2.92 percent.\n"
     ]
    }
   ],
   "source": [
    "df = fred_df('HQMCB10YR')\n",
    "df.to_csv(data_dir / 'hqcb.csv', index_label='date')\n",
    "node = end_node(df['VALUE'], 'blue!60!violet', date='m', percent=True, \n",
    "                full_year=True, digits=2)\n",
    "write_txt(text_dir / 'hqcb_node.txt', node)\n",
    "\n",
    "ltval = df.VALUE.iloc[-1]\n",
    "prval = df.VALUE.iloc[-2]\n",
    "prval2 = df.VALUE.iloc[-13]\n",
    "prval3 = df.VALUE.iloc[-25]\n",
    "ltdate = dtxt(df.index[-1])['mon1']\n",
    "prdate = dtxt(df.index[-2])['mon1']\n",
    "prdate2 = dtxt(df.index[-13])['mon1']\n",
    "prdate3 = dtxt(df.index[-25])['mon1']\n",
    "\n",
    "text = (f'The yield on high-quality corporate bonds with a maturity '+\n",
    "        f'of 10 years is {ltval:.2f} percent in {ltdate}, following '+\n",
    "        f'{prval:.2f} percent in {prdate}. One year prior, in '+\n",
    "        f'{prdate2}, this spot rate was {prval2:.2f} percent, and '+\n",
    "        f'two years prior, in {prdate3}, it was {prval3:.2f} percent.')\n",
    "write_txt(text_dir / 'hqcb.txt', text)\n",
    "print(text)"
   ]
  },
  {
   "cell_type": "code",
   "execution_count": null,
   "metadata": {},
   "outputs": [],
   "source": []
  },
  {
   "cell_type": "code",
   "execution_count": null,
   "metadata": {},
   "outputs": [],
   "source": []
  },
  {
   "cell_type": "markdown",
   "metadata": {},
   "source": [
    "### Treasury Monthly Data"
   ]
  },
  {
   "cell_type": "code",
   "execution_count": null,
   "metadata": {},
   "outputs": [],
   "source": [
    "cols = ['record_date', 'classification_desc', \n",
    "        'current_month_rcpt_outly_amt']\n",
    "fields = ','.join(cols)\n",
    "lines = ','.join(['2', '3', '5', '6', '7', '12'])\n",
    "url = ('https://api.fiscaldata.treasury.gov/services/api/'+\n",
    "       'fiscal_service/v1/accounting/mts/mts_table_9'+\n",
    "       f'?filter=src_line_nbr:in:({lines})&format=csv&'+\n",
    "       f'fields={fields}&page[size]=500')\n",
    "\n",
    "other = lambda x: x['Total'] - x['Individual Income Taxes']\n",
    "si_cols = ['Employment and General Retirement', 'Other Retirement', \n",
    "           'Unemployment Insurance']\n",
    "si = lambda x: x[si_cols].sum(axis=1)\n",
    "df = (pd.read_csv(url, index_col=cols[:2], parse_dates=True)\n",
    "        ['current_month_rcpt_outly_amt']\n",
    "        .unstack().astype('float').divide(1_000_000_000_000)\n",
    "        .assign(Other = other, SI = si).rolling(12).sum().dropna())\n",
    "df.to_csv(data_dir / 'tmb_rec.csv', float_format='%g', \n",
    "          index_label='date')"
   ]
  },
  {
   "cell_type": "code",
   "execution_count": 106,
   "metadata": {
    "ExecuteTime": {
     "end_time": "2022-02-05T16:54:42.040075Z",
     "start_time": "2022-02-05T16:54:42.032398Z"
    }
   },
   "outputs": [
    {
     "name": "stdout",
     "output_type": "stream",
     "text": [
      "The United States Treasury \\href{https://fiscal.treasury.gov/reports-statements/mts/current.html}{report} federal government receipts and outlays in the Monthly Treasury Statement. Over the 12 months ending December 2021, Federal government receipts total \\$4.3 trillion, of which \\$2.2 trillion are from individual income taxes (see {\\color{blue!70!black}\\textbf{---}}). The remaining receipts (see {\\color{blue!40!cyan}\\textbf{---}}) are largely social insurance contributions (\\$1.3 trillion) and corporate income taxes (\\$0.4 trillion).\n"
     ]
    }
   ],
   "source": [
    "df = pd.read_csv(data_dir / 'tmb_rec.csv', index_col='date', \n",
    "                 parse_dates=True)\n",
    "col_iit = 'blue!70!black'\n",
    "write_txt(text_dir / 'tmb_rec_iit.txt', \n",
    "          end_node(df['Individual Income Taxes'], col_iit))\n",
    "cl_iit = c_line(col_iit)\n",
    "col_oth = 'blue!40!cyan'\n",
    "write_txt(text_dir / 'tmb_rec_oth.txt', \n",
    "          end_node(df['Other'], col_oth))\n",
    "cl_oth = c_line(col_oth)\n",
    "\n",
    "# Text \n",
    "url = 'https://fiscal.treasury.gov/reports-statements/mts/current.html'\n",
    "tval = df.iloc[-1].apply(lambda x: f'\\${x:.1f} trillion')\n",
    "ltdt = dtxt(df.index[-1])['mon1']\n",
    "text = (f'The United States Treasury \\href{{{url}}}{{report}} '+\n",
    "        'federal government receipts and outlays in the Monthly '+\n",
    "        f'Treasury Statement. 'f'Over the 12 months ending {ltdt}, '+\n",
    "        f'Federal government receipts total {tval[\"Total\"]}, of '+\n",
    "        f'which {tval[\"Individual Income Taxes\"]} are from '+\n",
    "        f'individual income taxes {cl_iit}. The remaining receipts '+\n",
    "        f'{cl_oth} are largely social insurance contributions '+\n",
    "        f'({tval[\"SI\"]}) and corporate income taxes '+\n",
    "        f'({tval[\"Corporation Income Taxes\"]}).')\n",
    "write_txt(text_dir / 'tmb_rec.txt', text)\n",
    "print(text)"
   ]
  },
  {
   "cell_type": "code",
   "execution_count": null,
   "metadata": {},
   "outputs": [],
   "source": []
  },
  {
   "cell_type": "code",
   "execution_count": null,
   "metadata": {},
   "outputs": [],
   "source": []
  },
  {
   "cell_type": "markdown",
   "metadata": {},
   "source": [
    "### International Investment Position (IIP)"
   ]
  },
  {
   "cell_type": "code",
   "execution_count": null,
   "metadata": {
    "ExecuteTime": {
     "end_time": "2022-01-31T23:52:20.472834Z",
     "start_time": "2022-01-31T23:52:17.676099Z"
    }
   },
   "outputs": [],
   "source": [
    "series = ['IIPUSLIAA', 'IIPUSASSA','GDPA']\n",
    "df = pd.DataFrame()\n",
    "for s in series:\n",
    "    df[s] = fred_df(s)['VALUE']\n",
    "    \n",
    "series2 = ['IIPUSLIAQ', 'IIPUSASSQ', 'GDP']\n",
    "df2 = pd.DataFrame()\n",
    "for s in series2:\n",
    "    df2[s] = fred_df(s)['VALUE']\n",
    "    \n",
    "data = pd.DataFrame()\n",
    "data['Liab'] = (df.loc[:'2005', 'IIPUSLIAA'] / df.loc[:'2005', 'GDPA']) / 10\n",
    "data['Assets'] = (df.loc[:'2005', 'IIPUSASSA'] / df.loc[:'2005', 'GDPA']) / 10\n",
    "data2 = pd.DataFrame()\n",
    "data2['Liab'] = (df2.loc[:, 'IIPUSLIAQ'] / df2.loc[:, 'GDP']) / 10\n",
    "data2['Assets'] = (df2.loc[:, 'IIPUSASSQ'] / df2.loc[:, 'GDP']) / 10\n",
    "result = data.append(data2)\n",
    "result.to_csv(data_dir / 'iip.csv', index_label='date')\n",
    "\n",
    "lt = result.index[-1]\n",
    "ltdt = dtxt(lt)['qtr1']\n",
    "pr = '2006-01-01'\n",
    "prdt = dtxt(pd.to_datetime(pr))['qtr1']\n",
    "ltvala = result.loc[lt, 'Assets']\n",
    "ltvall = result.loc[lt, 'Liab']\n",
    "ltvaln = ltvala - ltvall\n",
    "prvala = result.loc[pr, 'Assets']\n",
    "prvall = result.loc[pr, 'Liab']\n",
    "prvaln = prvala - prvall\n",
    "\n",
    "text = (f'In {ltdt}, domestic holdings of foreign assets are equivalent '+\n",
    "        f'to {ltvala:.1f} percent of GDP '+\n",
    "        '(see {\\color{blue!95!violet}\\\\textbf{---}}), compared to '+\n",
    "        f'{prvala:.1f} percent in {prdt}. Domestic liabilities '+\n",
    "        f'to the foreign sector total {ltvall:.1f} percent of GDP in {ltdt} '+\n",
    "        '(see {\\color{red}\\\\textbf{---}}), and '+\n",
    "        f'{prvall:.1f} percent in {prdt}. As a result, net IIP, '+\n",
    "        'holdings of foreign assets minus liabilities, identifies the '+\n",
    "        'US as a net debtor to the rest of the world, to the equivalent '\n",
    "        f'of {abs(ltvaln):.1f} percent of GDP in {ltdt} '+\n",
    "        '(see\\cbox{cyan!25!white}) '+\n",
    "        f'and {abs(prvaln):.1f} percent of GDP in {prdt}.')\n",
    "write_txt(text_dir / 'niip.txt', text)\n",
    "print(text)"
   ]
  },
  {
   "cell_type": "code",
   "execution_count": null,
   "metadata": {},
   "outputs": [],
   "source": []
  },
  {
   "cell_type": "code",
   "execution_count": null,
   "metadata": {},
   "outputs": [],
   "source": []
  },
  {
   "cell_type": "markdown",
   "metadata": {},
   "source": [
    "### H.6 Money Stock - M2 (Monthly)"
   ]
  },
  {
   "cell_type": "code",
   "execution_count": null,
   "metadata": {
    "ExecuteTime": {
     "end_time": "2022-02-05T03:00:44.940840Z",
     "start_time": "2022-02-05T03:00:39.635527Z"
    }
   },
   "outputs": [],
   "source": [
    "base = 'https://www.federalreserve.gov/datadownload/Output.aspx?'\n",
    "srs = 'rel=H6&series=411c4c269dc600450339f8d4809d80eb&lastobs=&'\n",
    "dt = 'from=01/01/1987&to=12/31/2022&'\n",
    "oth = 'filetype=csv&label=include&layout=seriescolumn'\n",
    "url = base + srs + dt + oth\n",
    "\n",
    "d, raw_data = clean_fed_data(url)\n",
    "\n",
    "ltdate = dtxt(raw_data.index[-1])['mon1']\n",
    "prmodt = dtxt(raw_data.index[-2])['mon1']\n",
    "ltval = raw_data['M2_N.M'].iloc[-1] / 1000.0\n",
    "one_yr = value_text(raw_data['M2_N.M'].pct_change(12).iloc[-1] * 100)\n",
    "pr_mo = value_text(raw_data['M2_N.M'].pct_change(12).iloc[-2] * 100, style='increase_of')\n",
    "two_yr = value_text(raw_data['M2_N.M'].pct_change(24).iloc[-1] * 100)\n",
    "\n",
    "text = (f'As of {ltdate}, the M2 money stock totals \\${ltval:.1f} trillion.')\n",
    "write_txt(text_dir / 'm2lvl.txt', text)\n",
    "print(text)\n",
    "\n",
    "text2 = (f'The M2 money stock {one_yr} over the past year (ending {ltdate}), '+\n",
    "         f'compared to {pr_mo} over the year ending {prmodt}. '+\n",
    "         f'The M2 money stock has {two_yr}, in total, over the past two years. ')\n",
    "write_txt(text_dir / 'm2chg.txt', text2)\n",
    "print(text2)\n",
    "\n",
    "clean = raw_data['M2_N.M'].pct_change(12).dropna() * 100\n",
    "clean.name = 'value'\n",
    "clean.to_csv(data_dir / 'm2.csv', index_label='date', header='True')\n",
    "\n",
    "node = end_node(clean, 'green!80!blue', percent=True, \n",
    "                date='m', full_year=True)\n",
    "write_txt(text_dir / 'm2_node.txt', node)"
   ]
  },
  {
   "cell_type": "code",
   "execution_count": null,
   "metadata": {},
   "outputs": [],
   "source": []
  },
  {
   "cell_type": "code",
   "execution_count": null,
   "metadata": {},
   "outputs": [],
   "source": []
  },
  {
   "cell_type": "markdown",
   "metadata": {},
   "source": [
    "### Consumer Credit (G.19)\n",
    "\n",
    "The same chart also includes a line from the Z.1 notebook"
   ]
  },
  {
   "cell_type": "code",
   "execution_count": 3,
   "metadata": {
    "ExecuteTime": {
     "end_time": "2022-02-05T14:14:39.814880Z",
     "start_time": "2022-02-05T14:14:39.621527Z"
    }
   },
   "outputs": [
    {
     "name": "stdout",
     "output_type": "stream",
     "text": [
      "In the monthly measure, consumer credit totals \\$4.41 trillion US dollars on a seasonally-adjusted and annualized basis in November 2021. Over the past year, consumer credit increased by 5.8 percent, while after-tax income increased by 5.6 percent. As a result, the ratio of consumer credit to disposable income was virtually unchanged. In November 2021, total consumer credit is equivalent to 24.3 percent of annualized November 2021 disposable income (see {\\color{green!60!blue!80!black}\\textbf{---}}). \n"
     ]
    }
   ],
   "source": [
    "base = 'https://www.federalreserve.gov/datadownload/Output.aspx?'\n",
    "srs = 'rel=G19&series=8c7511a37e4aea678be81e7a61df57db&lastobs=&'\n",
    "dt = 'from=01/01/1989&to=12/31/2021&'\n",
    "oth = 'filetype=csv&label=include&layout=seriescolumn'\n",
    "url = base + srs + dt + oth\n",
    "\n",
    "d, df = clean_fed_data(url)\n",
    "cc = df['DTCTL.M']\n",
    "\n",
    "dpi = (pd.read_csv(data_dir / 'nipa20600.csv', index_col='date', \n",
    "                   parse_dates=True).loc['1989':, 'A067RC'])\n",
    "rate = ((cc / dpi) * 100).rename('value').dropna()\n",
    "rate.to_csv(data_dir / 'cc_dpi_monthly.csv', index_label='date')\n",
    "\n",
    "node_color = 'green!60!blue!80!black'\n",
    "node = end_node(rate, node_color, date='m', percent=True, full_year=True)\n",
    "write_txt(text_dir / 'cc_dpi_monthly_node.txt', node)\n",
    "\n",
    "ltdate = dtxt(cc.index[-1])['mon1']\n",
    "ltval = cc.iloc[-1] / 1_000_000\n",
    "ltrate = rate.iloc[-1]\n",
    "one_yr = value_text(cc.pct_change(12).iloc[-1] * 100, style='increase_by')\n",
    "one_yr_dpi = value_text(dpi.pct_change(12).iloc[-1] * 100, style='increase_by')\n",
    "one_yr_rate = value_text(rate.diff(12).iloc[-1], adj='total', \n",
    "                         ptype='pp', threshold=0.1)\n",
    "cline = c_line(node_color)\n",
    "also = 'also ' if one_yr == one_yr_dpi else ''    \n",
    "text = ('In the monthly measure, consumer credit totals '+\n",
    "        f'\\${ltval:.2f} trillion US dollars on a '+\n",
    "        f'seasonally-adjusted and annualized basis in {ltdate}. '+\n",
    "        f'Over the past year, consumer credit {one_yr}, while '+\n",
    "        f'after-tax income {also}{one_yr_dpi}. As a result, the ratio '+\n",
    "        f'of consumer credit to disposable income {one_yr_rate}. '+\n",
    "        f'In {ltdate}, total consumer credit is equivalent to '+\n",
    "        f'{ltrate:.1f} percent of annualized {ltdate} disposable '+\n",
    "        f'income {cline}. ')\n",
    "write_txt(text_dir / 'cc_dpi.txt', text)\n",
    "print(text)"
   ]
  },
  {
   "cell_type": "code",
   "execution_count": null,
   "metadata": {},
   "outputs": [],
   "source": []
  },
  {
   "cell_type": "code",
   "execution_count": null,
   "metadata": {},
   "outputs": [],
   "source": []
  },
  {
   "cell_type": "markdown",
   "metadata": {},
   "source": [
    "### Employment Cost Index"
   ]
  },
  {
   "cell_type": "code",
   "execution_count": 145,
   "metadata": {
    "ExecuteTime": {
     "end_time": "2022-02-05T18:25:47.343468Z",
     "start_time": "2022-02-05T18:25:45.974050Z"
    }
   },
   "outputs": [
    {
     "name": "stdout",
     "output_type": "stream",
     "text": [
      "Post Request Status: REQUEST_SUCCEEDED\n"
     ]
    }
   ],
   "source": [
    "series = {'CIU2020000000000A': 'WS',\n",
    "          'CIU2030000000000A': 'Be'}\n",
    "\n",
    "dates = (2001, 2022)\n",
    "df = bls_api(series, dates, bls_key)\n",
    "df.to_csv(data_dir/ 'eci.csv', index_label='date')"
   ]
  },
  {
   "cell_type": "code",
   "execution_count": 192,
   "metadata": {
    "ExecuteTime": {
     "end_time": "2022-02-05T20:03:18.858382Z",
     "start_time": "2022-02-05T20:03:18.847363Z"
    }
   },
   "outputs": [
    {
     "name": "stdout",
     "output_type": "stream",
     "text": [
      "In the fourth quarter of 2021, private industry wage and salary costs increased by five percent (one-year percent change, see {\\color{green!80!blue}\\textbf{---}}), following an increase of 4.6 percent in 2021 Q3, and an increase of 3.5 percent in 2021 Q2. In 2019, private wages and salaries costs increased by three percent, on average.\n",
      "\n",
      "The cost of private sector benefits increased by 2.9 percent (see {\\color{cyan!40!blue}\\textbf{---}}) over the year ending 2021 Q4, following an increase of 2.6 percent in 2021 Q3. In 2019, private-sector benefits costs increased by two percent, on average\n"
     ]
    }
   ],
   "source": [
    "df = pd.read_csv(data_dir / 'eci.csv', index_col='date', \n",
    "                 parse_dates=True)\n",
    "col_ws = 'green!80!blue'\n",
    "col_be = 'cyan!40!blue'\n",
    "grps = [(df['WS'], col_ws), (df['Be'], col_be)]\n",
    "nodes = '\\n'.join([end_node(grp, col, percent=True) \n",
    "                   for grp, col in grps])\n",
    "write_txt(text_dir/ 'eci_nodes.txt', nodes)\n",
    "\n",
    "obs = [(-1, 'lt'), (-2, 'pr'), (-3, 'pr2')]\n",
    "sty = [('increase', '1'), ('increase_of', '2'), \n",
    "       ('increase_by', '3')]\n",
    "dt = {n: dtxt(df.index[i]) for i, n in obs}\n",
    "v = {f'{name}_{n}_{s}': value_text(val, style=style) \n",
    "     for i, n in obs for name, val \n",
    "     in df.iloc[i].to_dict().items() \n",
    "     for style, s in sty}\n",
    "\n",
    "val19 = {s: value_text(df.loc['2019', s].mean(), 'increase_by') \n",
    "         for s in ['WS', 'Be']}\n",
    "text = (f'In {dt[\"lt\"][\"qtr2\"]}, private industry wage and '+\n",
    "        f'salary costs {v[\"WS_lt_3\"]} (one-year percent '+\n",
    "        f'change, {c_line(col_ws).replace(\"(\", \"\")}, '+\n",
    "        f'following {v[\"WS_pr_2\"]} in {dt[\"pr\"][\"qtr1\"]}, '+\n",
    "        f'and {v[\"WS_pr2_2\"]} in {dt[\"pr2\"][\"qtr1\"]}. In '+\n",
    "        f'2019, private wages and salaries costs {val19[\"WS\"]}, '+\n",
    "        'on average.\\n\\nThe cost of private sector benefits '+\n",
    "        f'{v[\"Be_lt_3\"]} {c_line(col_be)} over the year '+\n",
    "        f'ending {dt[\"lt\"][\"qtr1\"]}, following {v[\"Be_pr_2\"]} '+\n",
    "        f'in {dt[\"pr\"][\"qtr1\"]}. In 2019, private-sector '+\n",
    "        f'benefits costs {val19[\"Be\"]}, on average')\n",
    "write_txt(text_dir / 'eci.txt', text)\n",
    "print(text)"
   ]
  },
  {
   "cell_type": "code",
   "execution_count": null,
   "metadata": {},
   "outputs": [],
   "source": []
  },
  {
   "cell_type": "code",
   "execution_count": null,
   "metadata": {},
   "outputs": [],
   "source": []
  }
 ],
 "metadata": {
  "kernelspec": {
   "display_name": "Python 3",
   "language": "python",
   "name": "python3"
  },
  "language_info": {
   "codemirror_mode": {
    "name": "ipython",
    "version": 3
   },
   "file_extension": ".py",
   "mimetype": "text/x-python",
   "name": "python",
   "nbconvert_exporter": "python",
   "pygments_lexer": "ipython3",
   "version": "3.8.8"
  }
 },
 "nbformat": 4,
 "nbformat_minor": 2
}
