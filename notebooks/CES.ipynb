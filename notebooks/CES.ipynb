{
 "cells": [
  {
   "cell_type": "markdown",
   "id": "ceaee2be",
   "metadata": {
    "ExecuteTime": {
     "end_time": "2022-04-04T05:58:33.048544Z",
     "start_time": "2022-04-04T05:58:33.043077Z"
    }
   },
   "source": [
    "CES Example"
   ]
  },
  {
   "cell_type": "code",
   "execution_count": 1,
   "id": "1a83ea01",
   "metadata": {
    "ExecuteTime": {
     "end_time": "2022-10-07T13:27:55.985110Z",
     "start_time": "2022-10-07T13:27:54.805913Z"
    }
   },
   "outputs": [],
   "source": [
    "import sys\n",
    "sys.path.append('../src')\n",
    "\n",
    "import uschartbook.config\n",
    "\n",
    "from uschartbook.config import *\n",
    "from uschartbook.utils import *"
   ]
  },
  {
   "cell_type": "code",
   "execution_count": 2,
   "id": "6f8f92fa",
   "metadata": {
    "ExecuteTime": {
     "end_time": "2022-10-07T13:27:57.681253Z",
     "start_time": "2022-10-07T13:27:55.986339Z"
    }
   },
   "outputs": [],
   "source": [
    "# Industry codes\n",
    "ind_url = 'https://download.bls.gov/pub/time.series/ce/ce.industry'\n",
    "ind = pd.read_table(ind_url, sep='\\t')\n",
    "ind_g1 = ind[(ind['naics_code'].str.len() == 3)]\n",
    "ind_g2 = ind[(ind['naics_code'].str.len() != 3) & \n",
    "             (ind['display_level'] == 4) & \n",
    "             (ind['publishing_status'] != 'C') &\n",
    "             (ind['naics_code'] != '621,2,3') &\n",
    "             (ind['naics_code'] != '-')]\n",
    "ind_g3 = ind[(ind['naics_code'].str.len() == 2) & \n",
    "             (~ind['naics_code'].isin(ind_g1.naics_code.str[:2].unique()))]\n",
    "\n",
    "indg = pd.concat([ind_g1, ind_g2, ind_g3])\n",
    "\n",
    "# Series IDs\n",
    "srs_url = 'https://download.bls.gov/pub/time.series/ce/ce.series'\n",
    "converters = {'series_id        ': lambda x: x.strip()}\n",
    "srs = pd.read_table(srs_url, sep='\\t', converters=converters)\n",
    "srs.columns = srs.columns.str.strip()\n",
    "\n",
    "# AHE and Payrolls for 3 digit industries, NSA\n",
    "ind_grps = indg.merge(srs).query('data_type_code in [1, 3] and seasonal == \"U\"')\n",
    "\n",
    "# Supersector\n",
    "ss = {'90000000': 'Government',\n",
    "      '06000000': 'Private Goods-Producing',\n",
    "      '08000000': 'Private Service-Producing'}\n",
    "ss = {f'CEU{k}01':v for k,v in ss.items()}\n",
    "\n",
    "# Seleted other series\n",
    "s_list = ['CEU0000000001', 'CES0000000001', 'CEU0500000006', \n",
    "          'CEU0500000001', 'CES0500000006', 'CES0500000001'] + list(ss.keys())\n",
    "others = srs[srs['series_id'].isin(s_list)]\n",
    "sel = pd.concat([ind_grps, others])\n",
    "sel.to_csv(data_dir / 'ces_meta_raw.csv')"
   ]
  },
  {
   "cell_type": "code",
   "execution_count": 3,
   "id": "121937a5",
   "metadata": {
    "ExecuteTime": {
     "end_time": "2022-10-07T13:28:15.571299Z",
     "start_time": "2022-10-07T13:27:57.682283Z"
    }
   },
   "outputs": [],
   "source": [
    "# Full CES dataset\n",
    "url = 'https://download.bls.gov/pub/time.series/ce/ce.data.0.AllCESSeries'\n",
    "raw = pd.read_table(url, sep='\\t', converters=converters)\n",
    "raw.columns = raw.columns.str.strip()\n",
    "\n",
    "# Annual data\n",
    "sd = raw.query('series_id in @sel.series_id and year > 1987')\n",
    "sdy = sd.query('period == \"M13\"').set_index(['year', 'series_id'])['value'].unstack()\n",
    "sdy.index = pd.to_datetime(dict(year=sdy.index, month=7, day=1))\n",
    "sdy.to_csv(data_dir / 'ces_ann_raw.csv', index_label='date')\n",
    "\n",
    "#Monthly data\n",
    "idx = ['year', 'period', 'series_id']\n",
    "sdm = sd.query('period != \"M13\"').set_index(idx)['value'].unstack()\n",
    "sdm.index = [pd.to_datetime(f'{year}-{period[1:]}-01') \n",
    "             for year, period in sdm.index]\n",
    "sdm.to_csv(data_dir / 'ces_raw.csv', index_label='date')"
   ]
  },
  {
   "cell_type": "code",
   "execution_count": null,
   "id": "bae84dd9",
   "metadata": {},
   "outputs": [],
   "source": []
  },
  {
   "cell_type": "code",
   "execution_count": null,
   "id": "fd571e78",
   "metadata": {},
   "outputs": [],
   "source": []
  },
  {
   "cell_type": "code",
   "execution_count": null,
   "id": "380e515e",
   "metadata": {},
   "outputs": [],
   "source": []
  },
  {
   "cell_type": "markdown",
   "id": "85c0bfef",
   "metadata": {},
   "source": [
    "### Job Growth by Sector"
   ]
  },
  {
   "cell_type": "code",
   "execution_count": 4,
   "id": "880e45e7",
   "metadata": {
    "ExecuteTime": {
     "end_time": "2022-10-07T13:28:15.590372Z",
     "start_time": "2022-10-07T13:28:15.572711Z"
    }
   },
   "outputs": [
    {
     "name": "stdout",
     "output_type": "stream",
     "text": [
      "Over the three years ending September 2022, nonfarm payrolls increased by a total of 1,562,000. By sector, combined government payrolls fell by 307,000 (see\\cbox{green!85!yellow!75!black}), and private payrolls increased by a total of 1,869,000 over the three-year period. Private goods-producing industries added 127,000 jobs (see\\cbox{blue!80!black}), and private service-providing industries added 1.7 million jobs (see\\cbox{cyan!80!white}). \n"
     ]
    }
   ],
   "source": [
    "sdm = pd.read_csv(data_dir / 'ces_raw.csv', index_col='date', \n",
    "                  parse_dates=True)\n",
    "# Supersector\n",
    "ss = {'90000000': 'Gov.',\n",
    "      '06000000': 'Goods',\n",
    "      '08000000': 'Services'}\n",
    "ss = {f'CEU{k}01':v for k,v in ss.items()}\n",
    "df = sdm[ss.keys()]\n",
    "res = (df.iloc[-1] - \n",
    "       df.loc[pd.to_datetime(f'{2019}-{df.index[-1].month}-01')]).rename(ss)\n",
    "\n",
    "# Bar plot\n",
    "ssd = {'Gov.': 'green!85!yellow!75!black',\n",
    "       'Goods': 'blue!80!black',\n",
    "       'Services': 'cyan!80!white'}\n",
    "\n",
    "bars = '\\n'.join([f'\\\\addplot[{ssd[n]}]coordinates {{({i+1},{res[n]})}};' \n",
    "                  for i, n in enumerate(ssd.keys())])\n",
    "write_txt(text_dir / 'emp_ss_bars.txt', bars)\n",
    "\n",
    "ltdt = dtxt(sdm.index[-1])['mon1']\n",
    "tot = value_text(res.sum() * 1_000, ptype=None, adj='total', digits=0)\n",
    "gov = value_text(res['Gov.'] * 1_000, 'increase_by', ptype=None, \n",
    "                 digits=0, casual=True)\n",
    "priv = value_text((res.sum() - res['Gov.']) * 1_000, ptype=None, \n",
    "                  adj='total', digits=0)\n",
    "goods = value_text(res['Goods'] * 1_000, 'added_lost', ptype=None, \n",
    "                   digits=0)\n",
    "serv = (value_text(res['Services'] / 1_000, 'added_lost', \n",
    "                   ptype=None, digits=1) + ' million')\n",
    "if res.Services < 1_000:\n",
    "    serv = value_text(res['Services'] * 1_000, 'added_lost', \n",
    "                      ptype=None, digits=0)\n",
    "text = (f'Over the three years ending {ltdt}, nonfarm payrolls '+\n",
    "        f'{tot}. By sector, combined government payrolls {gov} {c_box(ssd[\"Gov.\"])}, '+\n",
    "        f'and private payrolls {priv} over the three-year period. Private '+\n",
    "        f'goods-producing industries {goods} jobs {c_box(ssd[\"Goods\"])}, and private service-'+\n",
    "        f'providing industries {serv} jobs {c_box(ssd[\"Services\"])}. ')\n",
    "write_txt(text_dir / 'nfp_ss.txt', text)\n",
    "print(text)"
   ]
  },
  {
   "cell_type": "code",
   "execution_count": null,
   "id": "2f6119ad",
   "metadata": {},
   "outputs": [],
   "source": []
  },
  {
   "cell_type": "code",
   "execution_count": null,
   "id": "e434e54c",
   "metadata": {},
   "outputs": [],
   "source": []
  },
  {
   "cell_type": "markdown",
   "id": "36d13c5a",
   "metadata": {},
   "source": [
    "### Job Growth By 2019 Wage Tercile"
   ]
  },
  {
   "cell_type": "code",
   "execution_count": 5,
   "id": "3b2e5cb4",
   "metadata": {
    "ExecuteTime": {
     "end_time": "2022-10-07T13:28:15.629743Z",
     "start_time": "2022-10-07T13:28:15.591748Z"
    }
   },
   "outputs": [
    {
     "name": "stdout",
     "output_type": "stream",
     "text": [
      "Dividing the private industries into three wage groups, the lowest-wage industries lost 194,000 jobs since September 2019, the middle-wage industries gained 160,000 jobs, and the highest-wage industries added 1.84 million jobs (see\\cbox{violet!70!magenta}). \n"
     ]
    }
   ],
   "source": [
    "sel = pd.read_csv(data_dir / 'ces_meta_raw.csv')\n",
    "d = sel.set_index('series_id')['industry_name'].dropna().to_dict()\n",
    "\n",
    "v19 = pd.read_csv(data_dir / 'ces_ann_raw.csv', index_col='date', \n",
    "                 parse_dates=True).loc['2019-07-01', d.keys()]\n",
    "\n",
    "c = {'ahe': '3', 'emp': '1'}\n",
    "df = pd.DataFrame({n: v19[v19.index.str.endswith(i)].rename(d) \n",
    "                   for n, i in c.items()})\n",
    "\n",
    "# Latest data and three-year prior\n",
    "lt = pd.read_csv(data_dir / 'ces_raw.csv', index_col='date', \n",
    "                 parse_dates=True).iloc[[-1, -37]].T.loc[d.keys()]\n",
    "df[['emplt', 'emppr']] = lt[lt.index.str.endswith('1')].rename(d)\n",
    "df['diff'] = df['emplt'] - df['emppr']\n",
    "\n",
    "\n",
    "# Split into three wage groups\n",
    "dft = df.dropna()\n",
    "df['cdf']  = dft.sort_values('ahe').emp.cumsum() / dft.emp.sum()\n",
    "grps = (lambda x: np.where(x.cdf < (1/3), 'Lowest Third', \n",
    "                  np.where((x.cdf >= (1/3)) & (x.cdf < (2/3)), 'Middle Third', \n",
    "                  np.where((x.cdf >= (2/3)) & (x.cdf <= 1), 'Highest Third', 'none'))))\n",
    "\n",
    "df = df.assign(grps = grps)\n",
    "\n",
    "res = df.groupby('grps')['diff'].sum().drop('none').round()\n",
    "\n",
    "(res.to_csv(data_dir / 'jobs_tercile.csv', index_label='grps', \n",
    "            header=True))\n",
    "\n",
    "# Footer for industries missing wage data\n",
    "nonech = value_text(df.groupby('grps')['diff'].sum()['none'] * 1_000, \n",
    "                    'added_lost', ptype=None, digits=0)\n",
    "text = (f'Private industries without wage information {nonech} '+\n",
    "        'jobs over the period.')\n",
    "write_txt(text_dir / 'jobs_nowage_ch.txt', text)\n",
    "emp3dt = f\"{dtxt(sdm.index[-37])['mon1']} to {dtxt(sdm.index[-1])['mon1']}\"\n",
    "write_txt(text_dir / 'emp_3_dates.txt', emp3dt)\n",
    "\n",
    "# Text\n",
    "low = value_text(res['Lowest Third'] * 1000, 'added_lost', ptype=None, digits=0)\n",
    "mid = value_text(res['Middle Third'] * 1000, 'added_lost', ptype=None, \n",
    "                 digits=0, casual=True)\n",
    "high = (value_text(res['Highest Third'] / 1000, 'added_lost', ptype=None, \n",
    "                   digits=2) + ' million')\n",
    "if res['Highest Third'] < 1000:\n",
    "    high = value_text(res['Highest Third'] * 1000, 'added_lost', \n",
    "                      ptype=None, digits=0)\n",
    "prdt = dtxt(lt.columns[1])['mon1']\n",
    "text = ('Dividing the private industries into three wage groups, the '+\n",
    "        f'lowest-wage industries {low} jobs since {prdt}, the middle-wage '+\n",
    "        f'industries {mid} jobs, and the highest-wage industries {high} '+\n",
    "        f'jobs {c_box(\"violet!70!magenta\")}. ')\n",
    "write_txt(text_dir / 'nfp_wg.txt', text)\n",
    "print(text)"
   ]
  },
  {
   "cell_type": "code",
   "execution_count": null,
   "id": "6ac8c176",
   "metadata": {},
   "outputs": [],
   "source": []
  },
  {
   "cell_type": "code",
   "execution_count": null,
   "id": "b8fdbf60",
   "metadata": {},
   "outputs": [],
   "source": []
  },
  {
   "cell_type": "markdown",
   "id": "b6b283f3",
   "metadata": {},
   "source": [
    "### Overview Jobs Growth and Monthly Change"
   ]
  },
  {
   "cell_type": "code",
   "execution_count": 6,
   "id": "556ba2b8",
   "metadata": {
    "ExecuteTime": {
     "end_time": "2022-10-07T13:28:15.662900Z",
     "start_time": "2022-10-07T13:28:15.630820Z"
    }
   },
   "outputs": [],
   "source": [
    "sl = {'CEU0000000001': 'NFP', 'CES0000000001': 'NFPsa', \n",
    "      'CEU0500000006': 'PNS', 'CES0500000006': 'PNSsa',\n",
    "      'CEU0500000001': 'PNFP', 'CES0500000001': 'PNFPsa'}\n",
    "# CES series from flat/text files\n",
    "df = pd.read_csv(data_dir / 'ces_raw.csv', index_col='date', \n",
    "                 parse_dates=True).loc[:, sl.keys()].rename(sl, axis=1)\n",
    "# Add LFS series from jobs report\n",
    "df[['EMP', 'EMPsa']] = (pd.read_csv(data_dir / 'jobs_report_main2.csv', \n",
    "                                   index_col='date', parse_dates=True)\n",
    "                          .loc[:, ['EMP', 'EMPsa']])\n",
    "# Save results for time series graph\n",
    "res = df.loc['1989':].divide(1000)\n",
    "res.to_csv(data_dir / 'emp_ts.csv', index_label='date')\n",
    "\n",
    "# End nodes for time series graph\n",
    "res2 = res[['NFP', 'EMP', 'PNS']]\n",
    "adj = node_adj(res2)\n",
    "smax = res2.iloc[-1].idxmax()\n",
    "adj[smax] = adj[smax] + 0.35\n",
    "cols = {'NFP': 'blue!70!white', 'EMP': 'magenta',\n",
    "        'PNS': 'orange!80!yellow'}\n",
    "date = {series: 'm' if series in ['EMP'] else None \n",
    "        for series in cols.keys()}\n",
    "nodes  ='\\n'.join([end_node(res2[series].dropna(), color, date=date[series], \n",
    "                            full_year=True, size=1.1, offset=adj[series]) \n",
    "                   for series, color in cols.items()])\n",
    "write_txt(text_dir / 'emp_ts_nodes.txt', nodes) \n",
    "\n",
    "# Latest values bar graph\n",
    "sa = df[['NFPsa', 'EMPsa']]\n",
    "final2 = sa.diff().loc['2019'].mean().to_frame().T\n",
    "final2['label'] = '2019 Average'\n",
    "final = sa.diff().iloc[-3:]\n",
    "final['label'] = [dtxt(i)['mon2'] for i in final.index]\n",
    "final = pd.concat([final2, final])\n",
    "final.to_csv(data_dir / 'emp_lt.csv', index_label='date')"
   ]
  },
  {
   "cell_type": "code",
   "execution_count": 7,
   "id": "109af2af",
   "metadata": {
    "ExecuteTime": {
     "end_time": "2022-10-07T13:28:15.675684Z",
     "start_time": "2022-10-07T13:28:15.664024Z"
    }
   },
   "outputs": [
    {
     "name": "stdout",
     "output_type": "stream",
     "text": [
      "In September 2022, establishments report 153.1 million \\textbf{nonfarm payroll employees} (see {\\color{blue!70!white}\\textbf{---}}). The pre-COVID peak was 153.1 million in November 2019. Households report 159.0 million employed people, including the self-employed but not including armed forces, in the latest month, compared to a pre-COVID peak of 159.1 million (see {\\color{magenta}\\textbf{---}}). \n",
      "\n",
      "Private production and nonsupervisory workers are engaged in production, including working supervisors, or in other activities but not above the working supervisor level. In September 2022, this group totals 106.4 million, compared to a pre-COVID peak of 106.9 million (see {\\color{orange!80!yellow}\\textbf{---}}). Production and nonsupervisory workers comprise 81.4 percent of private nonfarm payrolls in September 2022. \n",
      "\n",
      " In September 2022, seasonally-adjusted civilian employment increased by 204,000 (see\\cbox{magenta}), slightly above the 2019 average increase of 167,083 jobs per month. The US added a net total of 263,000 nonfarm payroll jobs in September 2022 (see\\cbox{blue!70!white}), compared to a monthly average of 164,000 in 2019. The average of both surveys over the past three months shows an increase of 323,300 employees per month.  \n"
     ]
    }
   ],
   "source": [
    "ltdt = dtxt(res.index[-1])['mon1']\n",
    "lt = res.iloc[-1]\n",
    "pc = res.loc[:'2020-03-01']\n",
    "pnssh = (lt.PNS / lt.PNFP) * 100\n",
    "\n",
    "cl = {n: c_line(col) for n, col in cols.items()}\n",
    "text = (f'In {ltdt}, establishments report {lt.NFP:.1f} million '+\n",
    "        f'\\\\textbf{{nonfarm payroll employees}} {cl[\"NFP\"]}. '+\n",
    "        f'The pre-COVID peak was {pc.NFP.max():.1f} million '+\n",
    "        f'in {dtxt(pc.NFP.idxmax())[\"mon1\"]}. '+\n",
    "        f'Households report {lt.EMP:.1f} million employed '+\n",
    "        'people, including the self-employed but not including '+\n",
    "        'armed forces, in the latest month, compared to a pre-COVID '+\n",
    "        f'peak of {pc.EMP.max():.1f} million {cl[\"EMP\"]}. \\n\\nPrivate '+\n",
    "        'production and nonsupervisory workers are engaged in '+\n",
    "        'production, including working supervisors, or in other '+\n",
    "        'activities but not above the working supervisor level. '+\n",
    "        f'In {ltdt}, this group totals {lt.PNS:.1f} million, compared '+\n",
    "        f'to a pre-COVID peak of {pc.PNS.max():.1f} million {cl[\"PNS\"]}. '+\n",
    "        f'Production and nonsupervisory workers comprise {pnssh:.1f} '+\n",
    "        f'percent of private nonfarm payrolls in {ltdt}. ')\n",
    "write_txt(text_dir / 'emp_overview1.txt', text)\n",
    "print(text)\n",
    "\n",
    "lc = res.diff().iloc[-1] * 1_000_000\n",
    "ltemp = value_text(lc.EMPsa, 'increase_by', ptype=None, digits=0)\n",
    "a19 = res.diff().loc['2019'].mean() * 1_000_000\n",
    "empc = compare_text(lc.EMPsa, a19.EMPsa, [30000, 50000, 150000])\n",
    "nfpal = 'added' if lc.NFPsa >= 0 else 'lost'\n",
    "a3m = value_text(round(res[['NFPsa', 'EMPsa']].diff().iloc[-3:].mean().mean()\n",
    "                       * 1_000_000, -2), \n",
    "                 'increase_of', ptype=None, digits=0)\n",
    "text = (f'In {ltdt}, seasonally-adjusted civilian employment {ltemp} '+\n",
    "        f'{c_box(cols[\"EMP\"])}, {empc} the 2019 average increase of '+\n",
    "        f'{a19.EMPsa:,.0f} jobs per month. The US {nfpal} a net total '+\n",
    "        f'of {lc.NFPsa:,.0f} nonfarm payroll jobs in {ltdt} '+\n",
    "        f'{c_box(cols[\"NFP\"])}, compared to a monthly average of '+\n",
    "        f'{a19.NFPsa:,.0f} in 2019. The average of both surveys over '+\n",
    "        f'the past three months shows {a3m} employees per month.  ')\n",
    "write_txt(text_dir / 'emp_overview2.txt', text)\n",
    "print('\\n', text)"
   ]
  },
  {
   "cell_type": "code",
   "execution_count": 8,
   "id": "8a6df8f5",
   "metadata": {
    "ExecuteTime": {
     "end_time": "2022-10-07T13:28:15.703734Z",
     "start_time": "2022-10-07T13:28:15.677204Z"
    }
   },
   "outputs": [],
   "source": [
    "d = {'EMP': 'Employed', 'NFP': 'Nonfarm Payrolls',\n",
    "     'PNFP': '\\hspace{1mm} Private Nonfarm Payrolls',\n",
    "     'PNS': '\\hspace{2mm} Production \\& Nonsuperv.'}\n",
    "d = {**{f'{k}sa': v for k,v in d.items()}, **d}\n",
    "\n",
    "g1 = ['EMP', 'NFP', 'PNFP', 'PNS']\n",
    "g2 = [f'{i}sa' for i in g1]\n",
    "\n",
    "r2 = res.copy()\n",
    "r2.index = [dtxt(i)['mon2'] for i in r2.index]\n",
    "\n",
    "tbl = pd.concat([r2[g2].iloc[-2:].T.iloc[:, ::-1].rename(d), \n",
    "                 r2[g1].iloc[-2:].T.iloc[:, ::-1].rename(d)], axis=1)\n",
    "tbl['2019 Avg.'] = res.loc['2019', g1].mean().rename(d)\n",
    "tbl['2017 Avg.'] = res.loc['2017', g1].mean().rename(d)\n",
    "tbl['2000 Avg.'] = res.loc['2000', g1].mean().rename(d)\n",
    "\n",
    "tbl.applymap('{:.1f}'.format).to_csv(data_dir/'emp_overview.tex', sep='&', \n",
    "             line_terminator='\\\\\\ ', quotechar=' ')"
   ]
  },
  {
   "cell_type": "code",
   "execution_count": null,
   "id": "7dbd18d8",
   "metadata": {},
   "outputs": [],
   "source": []
  },
  {
   "cell_type": "code",
   "execution_count": null,
   "id": "60db5f44",
   "metadata": {},
   "outputs": [],
   "source": []
  },
  {
   "cell_type": "markdown",
   "id": "abd7308a",
   "metadata": {},
   "source": [
    "### Payrolls by Industry Summary Table"
   ]
  },
  {
   "cell_type": "code",
   "execution_count": 9,
   "id": "73f67885",
   "metadata": {
    "ExecuteTime": {
     "end_time": "2022-10-07T13:28:15.708300Z",
     "start_time": "2022-10-07T13:28:15.705069Z"
    }
   },
   "outputs": [],
   "source": [
    "s = {'CEU0000000001': 'Total nonfarm',\n",
    "     'CEU0500000001': '\\hspace{1mm} Total private',\n",
    "     'CEU0600000001': '\\hspace{2mm} Goods-producing',\n",
    "     'CEU1000000001': '\\hspace{4mm} Mining \\& logging',\n",
    "     'CEU2000000001': '\\hspace{4mm} Construction',\n",
    "     'CEU3000000001': '\\hspace{4mm} Manufacturing',\n",
    "     'CEU0800000001': '\\hspace{2mm} Private service-providing',\n",
    "     'CEU4142000001': '\\hspace{4mm} Wholesale trade',\n",
    "     'CEU4200000001': '\\hspace{4mm} Retail trade',\n",
    "     'CEU4300000001': '\\hspace{4mm} Transportation \\& warehousing',\n",
    "     'CEU5000000001': '\\hspace{4mm} Information',\n",
    "     'CEU5500000001': '\\hspace{4mm} Financial activities',\n",
    "     'CEU5553000001': '\\hspace{4mm} Real estate \\& rental \\& leasing',\n",
    "     'CEU6054000001': '\\hspace{4mm} Professional \\& technical services',\n",
    "     'CEU6055000001': '\\hspace{4mm} Management',\n",
    "     'CEU6056100001': '\\hspace{4mm} Administrative \\& support',\n",
    "     'CEU6561000001': '\\hspace{4mm} Educational services',\n",
    "     'CEU6562000101': '\\hspace{4mm} Health care',\n",
    "     'CEU6562400001': '\\hspace{4mm} Social assistance',\n",
    "     'CEU7071000001': '\\hspace{4mm} Arts, entertainment, \\& recreation',\n",
    "     'CEU7072100001': '\\hspace{4mm} Accommodation',\n",
    "     'CEU7072200001': '\\hspace{4mm} Food services \\& drinking places',\n",
    "     'CEU8000000001': '\\hspace{4mm} Other services',\n",
    "     'FromData': '\\hspace{4mm} Utilities and waste management',\n",
    "     'CEU9000000001': '\\hspace{1mm} Government'}\n",
    "s_other = ['CEU4422000001', 'CEU6056200001']"
   ]
  },
  {
   "cell_type": "code",
   "execution_count": 10,
   "id": "4b71c77f",
   "metadata": {
    "ExecuteTime": {
     "end_time": "2022-10-07T13:28:17.226456Z",
     "start_time": "2022-10-07T13:28:15.709879Z"
    }
   },
   "outputs": [],
   "source": [
    "# Not seasonally adjusted data\n",
    "res = raw.query('(series_id in @s.keys() or series_id in @s_other) '+\n",
    "                'and year > 1988 and period != \"M13\"')\n",
    "res = res.set_index(['year', 'period', 'series_id'])['value'].unstack()\n",
    "res.index = [pd.to_datetime(f'{year}-{period[1:]}-01') \n",
    "             for year, period in res.index]\n",
    "res[s['FromData']] = res[s_other].sum(axis=1)\n",
    "res = res.drop(s_other, axis=1)\n",
    "res = res.rename(s, axis=1)\n",
    "tbl = pd.DataFrame({ltdt: res.iloc[-1], \n",
    "                    '3-year change': res.diff(36).iloc[-1]}).loc[s.values()]\n",
    "# Seasonally adjusted data\n",
    "s2 = {k.replace('CEU', 'CES'): v for k,v in s.items()}\n",
    "s2_other = [i.replace('CEU', 'CES') for i in s_other]\n",
    "res2 = raw.query('(series_id in @s2.keys() or series_id in @s2_other) '+\n",
    "                'and year > 1988 and period != \"M13\"')\n",
    "res2 = res2.set_index(['year', 'period', 'series_id'])['value'].unstack()\n",
    "res2.index = [pd.to_datetime(f'{year}-{period[1:]}-01') \n",
    "             for year, period in res2.index]\n",
    "res2[s['FromData']] = res2[s2_other].sum(axis=1)\n",
    "res2 = res2.drop(s2_other, axis=1)\n",
    "res2 = res2.rename(s2, axis=1)\n",
    "ltdr = f\"{dtxt(res2.index[-3])['mon6']}-- {dtxt(res2.index[-1])['mon6']} average\"\n",
    "prdr = f\"{dtxt(res2.index[-6])['mon6']}-- {dtxt(res2.index[-4])['mon6']} average\"\n",
    "tbl2 = pd.DataFrame({f'{ltdt} ': res2.iloc[-1], \n",
    "                     '1-month change': res2.diff().iloc[-1],\n",
    "                     ltdr: res2.diff().iloc[-3:].mean(),\n",
    "                     prdr: res2.diff().iloc[-6:-3].mean()}).loc[s2.values()]\n",
    "table = tbl2.join(tbl).applymap('{:,.0f}'.format).replace('-0', '0')\n",
    "table.index.name = ''\n",
    "table.to_csv(data_dir/'nfp.tex', sep='&', \n",
    "             line_terminator='\\\\\\ ', quotechar=' ')"
   ]
  },
  {
   "cell_type": "code",
   "execution_count": 11,
   "id": "9343c6d3",
   "metadata": {
    "ExecuteTime": {
     "end_time": "2022-10-07T13:28:17.234218Z",
     "start_time": "2022-10-07T13:28:17.228038Z"
    }
   },
   "outputs": [
    {
     "name": "stdout",
     "output_type": "stream",
     "text": [
      "Over the three years ending September 2022, the industry groups with the largest increase in payrolls were professional and technical services (+941,200), transportation and warehousing (+773,200), retail trade (+217,600), and health care (+185,200). The private industry groups with the least least job growth were accommodation (-362,200), food services and drinking places (-334,100), and arts, entertainment, and recreation (-129,400).\n"
     ]
    }
   ],
   "source": [
    "st = res.diff(36).iloc[-1].sort_values()\n",
    "st.index = [i.split('} ')[-1].replace('\\&', 'and').lower() \n",
    "            for i in st.index]\n",
    "excats = ['government', 'other services', 'total nonfarm', \n",
    "          'total private', 'private service-providing', \n",
    "          'goods-producing']\n",
    "st = (st.multiply(1000).apply('{:+,.0f}'.format)\n",
    "        .drop(excats))\n",
    "\n",
    "ltdt = dtxt(res.index[-1])['mon1']\n",
    "high = [f'{st.index[i]} ({st.iloc[i]})' for i in [-1, -2, -3, -4]]\n",
    "htxt = ', and '.join([', '.join(high[:3]), high[3]])\n",
    "low = [f'{st.index[i]} ({st.iloc[i]})' for i in [0, 1, 2]]\n",
    "ltxt = ', and '.join([', '.join(low[:2]), low[2]])\n",
    "\n",
    "text = (f'Over the three years ending {ltdt}, the industry '+\n",
    "        'groups with the largest increase in payrolls were '+\n",
    "        f'{htxt}. The private industry groups with the least '+\n",
    "        f'least job growth were {ltxt}.')\n",
    "write_txt(text_dir / 'emp_ind.txt', text)\n",
    "print(text)"
   ]
  },
  {
   "cell_type": "code",
   "execution_count": null,
   "id": "4d75e034",
   "metadata": {},
   "outputs": [],
   "source": []
  },
  {
   "cell_type": "code",
   "execution_count": null,
   "id": "37fe0904",
   "metadata": {},
   "outputs": [],
   "source": []
  },
  {
   "cell_type": "code",
   "execution_count": null,
   "id": "b32d00b0",
   "metadata": {},
   "outputs": [],
   "source": []
  }
 ],
 "metadata": {
  "kernelspec": {
   "display_name": "Python 3 (ipykernel)",
   "language": "python",
   "name": "python3"
  },
  "language_info": {
   "codemirror_mode": {
    "name": "ipython",
    "version": 3
   },
   "file_extension": ".py",
   "mimetype": "text/x-python",
   "name": "python",
   "nbconvert_exporter": "python",
   "pygments_lexer": "ipython3",
   "version": "3.8.8"
  }
 },
 "nbformat": 4,
 "nbformat_minor": 5
}
