{
 "cells": [
  {
   "cell_type": "markdown",
   "metadata": {},
   "source": [
    "# Consumer Expenditure Survey\n",
    "\n",
    "Brian Dew\n",
    "\n",
    "@bd_econ"
   ]
  },
  {
   "cell_type": "code",
   "execution_count": 1,
   "metadata": {
    "ExecuteTime": {
     "end_time": "2021-04-17T00:04:28.108268Z",
     "start_time": "2021-04-17T00:04:27.445831Z"
    }
   },
   "outputs": [],
   "source": [
    "%config Completer.use_jedi = False\n",
    "import sys\n",
    "sys.path.append('../src')\n",
    "\n",
    "import uschartbook.config\n",
    "\n",
    "from uschartbook.config import *\n",
    "from uschartbook.utils import *"
   ]
  },
  {
   "cell_type": "code",
   "execution_count": 2,
   "metadata": {
    "ExecuteTime": {
     "end_time": "2021-04-17T00:04:28.568079Z",
     "start_time": "2021-04-17T00:04:28.109328Z"
    }
   },
   "outputs": [],
   "source": [
    "# Fred series - Median personal income\n",
    "series_id = 'MEPAINUSA646N'\n",
    "medinc = fred_df(series=series_id, start='1984')\n",
    "medinc.index = medinc.index.year"
   ]
  },
  {
   "cell_type": "code",
   "execution_count": 3,
   "metadata": {
    "ExecuteTime": {
     "end_time": "2021-04-17T00:04:30.180127Z",
     "start_time": "2021-04-17T00:04:28.573835Z"
    }
   },
   "outputs": [],
   "source": [
    "url = 'https://download.bls.gov/pub/time.series/cx/cx.data.1.AllData'\n",
    "df = pd.read_table(url, sep='\\s+', dtype='object')\n",
    "full = df.set_index('series_id').drop(['footnote_codes', 'period'], axis=1)\n",
    "full.to_csv(data_dir / 'ce_full.csv')"
   ]
  },
  {
   "cell_type": "code",
   "execution_count": 4,
   "metadata": {
    "ExecuteTime": {
     "end_time": "2021-04-17T00:04:30.292697Z",
     "start_time": "2021-04-17T00:04:30.181350Z"
    }
   },
   "outputs": [],
   "source": [
    "df = pd.read_csv(data_dir / 'ce_full.csv')"
   ]
  },
  {
   "cell_type": "code",
   "execution_count": 5,
   "metadata": {
    "ExecuteTime": {
     "end_time": "2021-04-17T00:04:31.349628Z",
     "start_time": "2021-04-17T00:04:30.293803Z"
    }
   },
   "outputs": [],
   "source": [
    "cats = ['TOTALEXP', 'INCAFTTX', 'INCBEFTX', 'PENSIONS', 'CHGASLI', \n",
    "        '900000', 'SFEMPINC', 'INDIVRNT', '980010']\n",
    "\n",
    "grps = [1, 2, 3, 4, 5, 6]\n",
    "\n",
    "results = pd.DataFrame()\n",
    "for grp in grps:\n",
    "    for cat in cats:\n",
    "        if cat != '980010':\n",
    "            datatype = 'int'\n",
    "        else: \n",
    "            datatype = 'float'\n",
    "        srs = f'CXU{cat}LB010{grp}M'\n",
    "        data = (df.loc[df.series_id == srs]\n",
    "                  .set_index('year')['value']\n",
    "                  .astype(datatype))\n",
    "        name = f'{cat}_{grp}'\n",
    "        results[name] = data\n",
    "        \n",
    "    exp = (results[f'TOTALEXP_{grp}'] - results[f'PENSIONS_{grp}'])\n",
    "    results[f'ADJEXP_{grp}'] = exp\n",
    "    di_save = results[f'INCAFTTX_{grp}'] - exp\n",
    "    mi = results[f'900000_{grp}'] + results[f'SFEMPINC_{grp}'] + results[f'INDIVRNT_{grp}']\n",
    "    mi_save = mi - exp                                   \n",
    "    results[f'DI_SAVE_RT_{grp}'] = (di_save.to_numpy() / medinc.VALUE.to_numpy()) * 100\n",
    "    results[f'MI_SAVE_RT_{grp}'] = (mi_save.to_numpy() / medinc.VALUE.to_numpy()) * 100\n",
    "    results[f'DI_SAVE_{grp}'] = di_save\n",
    "    results[f'MI_SAVE_{grp}'] = mi_save"
   ]
  },
  {
   "cell_type": "code",
   "execution_count": 6,
   "metadata": {
    "ExecuteTime": {
     "end_time": "2021-04-17T00:04:31.363767Z",
     "start_time": "2021-04-17T00:04:31.350617Z"
    }
   },
   "outputs": [],
   "source": [
    "results.index = [pd.to_datetime(f'{dt}-01-01') for dt in results.index]\n",
    "results.loc['1988':].to_csv(data_dir / 'ce_table.csv', index_label='date')\n",
    "di_cats = ['DI_SAVE_RT_2', 'DI_SAVE_RT_3', 'DI_SAVE_RT_4', 'DI_SAVE_RT_5', 'DI_SAVE_RT_6']\n",
    "results.loc['1989':, di_cats].to_csv(data_dir / 'save_dist.csv', index_label='date')"
   ]
  },
  {
   "cell_type": "code",
   "execution_count": 7,
   "metadata": {
    "ExecuteTime": {
     "end_time": "2021-04-17T00:04:31.384986Z",
     "start_time": "2021-04-17T00:04:31.365319Z"
    }
   },
   "outputs": [],
   "source": [
    "write_txt(text_dir / 'save_dist_node2.txt', end_node3(results['DI_SAVE_RT_2'], 'violet'))\n",
    "write_txt(text_dir / 'save_dist_node3.txt', end_node3(results['DI_SAVE_RT_3'], 'red!20!orange!95!black'))\n",
    "write_txt(text_dir / 'save_dist_node4.txt', end_node3(results['DI_SAVE_RT_4'], 'green!80!blue!85!black'))\n",
    "write_txt(text_dir / 'save_dist_node5.txt', end_node3(results['DI_SAVE_RT_5'], 'red!80!black'))\n",
    "write_txt(text_dir / 'save_dist_node6.txt', end_node3(results['DI_SAVE_RT_6'], 'blue!80!cyan!80!black'))"
   ]
  },
  {
   "cell_type": "code",
   "execution_count": null,
   "metadata": {},
   "outputs": [],
   "source": []
  },
  {
   "cell_type": "markdown",
   "metadata": {},
   "source": [
    "### Overview for median"
   ]
  },
  {
   "cell_type": "code",
   "execution_count": 8,
   "metadata": {
    "ExecuteTime": {
     "end_time": "2021-04-17T00:04:32.018397Z",
     "start_time": "2021-04-17T00:04:31.388312Z"
    }
   },
   "outputs": [],
   "source": [
    "# Overview for median income, spending, saving\n",
    "pce = fred_df('PCEPI', start='1988')['VALUE']\n",
    "pce_ann = (pce.iloc[-1] / pce).resample('AS').mean()\n",
    "\n",
    "cols = ['INCAFTTX_4', 'ADJEXP_4', 'DI_SAVE_4', '980010_4']\n",
    "ce_table = pd.read_csv(data_dir / 'ce_table.csv', index_col=0, parse_dates=True)\n",
    "res = ce_table[cols[:3]].divide(ce_table[cols[3]],axis=0).multiply(pce_ann, axis=0) / 1000\n",
    "res.dropna().to_csv(data_dir / 'medincexp.csv', index_label='date')"
   ]
  },
  {
   "cell_type": "code",
   "execution_count": 9,
   "metadata": {
    "ExecuteTime": {
     "end_time": "2021-04-17T00:04:32.028933Z",
     "start_time": "2021-04-17T00:04:32.019816Z"
    }
   },
   "outputs": [],
   "source": [
    "incval = res.loc[res.dropna().index[-1], 'INCAFTTX_4']\n",
    "incval = f'\\${incval * 1000:,.0f}'\n",
    "expval = res.loc[res.dropna().index[-1], 'ADJEXP_4']\n",
    "expval = f'\\${expval * 1000:,.0f}'\n",
    "saveval = res.loc[res.dropna().index[-1], 'DI_SAVE_4']\n",
    "saveval = f'\\${saveval * 1000:,.0f}'\n",
    "ltyear = res.dropna().index[-1].year\n",
    "\n",
    "text = ('The middle quintile, or 20 percent, of households, by total money income, '+\n",
    "        f'have average per person after-tax income of {incval} in {ltyear} '+\n",
    "        '(see {\\color{blue!50!cyan}\\\\textbf{---}}). Spending for these households is '+\n",
    "        f'{expval} per person '+\n",
    "        '(see {\\color{red!50!orange}\\\\textbf{---}}), and saving is '+\n",
    "        f'{saveval} per person '+\n",
    "        '(see {\\color{green!50!blue}\\\\textbf{---}}).')\n",
    "write_txt(text_dir / 'ce_med_inc.txt', text)"
   ]
  },
  {
   "cell_type": "code",
   "execution_count": null,
   "metadata": {},
   "outputs": [],
   "source": []
  },
  {
   "cell_type": "code",
   "execution_count": null,
   "metadata": {},
   "outputs": [],
   "source": []
  },
  {
   "cell_type": "markdown",
   "metadata": {},
   "source": [
    "### Income and Spending by Age Group"
   ]
  },
  {
   "cell_type": "code",
   "execution_count": 10,
   "metadata": {
    "ExecuteTime": {
     "end_time": "2021-04-17T00:04:32.593107Z",
     "start_time": "2021-04-17T00:04:32.030280Z"
    }
   },
   "outputs": [
    {
     "name": "stdout",
     "output_type": "stream",
     "text": [
      "In 2019, after-tax household income (see\\cbox{green!80!blue}) ranges from \\$35,600 for the youngest age group to \\$91,400 for the 45--54 age group. Spending, excluding pensions, (see\\cbox{blue!40!magenta}) ranges from \\$36,100 for the youngest age group to \\$67,700 for the 45--54 age group.\n"
     ]
    }
   ],
   "source": [
    "cats = {'TOTALEXP': 'Spending', 'INCAFTTX': 'After-tax income',\n",
    "        'INCBEFTX': 'Pre-tax income', 'PENSIONS':'Pension spending'}\n",
    "\n",
    "grps = {2: 'Under 25', 3: '25-34', 4: '35-44', \n",
    "        5: '45-54', 6: '55-64', 8: '65-74', 9: '75+'}\n",
    "\n",
    "results = pd.DataFrame()\n",
    "for grp, name in grps.items():\n",
    "    for cat, cname in cats.items():\n",
    "        srs = f'CXU{cat}LB040{grp}M'\n",
    "        yr = data.index[-1]\n",
    "        data = (df.loc[df.series_id == srs]\n",
    "                  .set_index('year')['value'])\n",
    "        val = data.loc[yr]\n",
    "        results.loc[name, cname] = int(val)\n",
    "        \n",
    "exp = (results['Spending'] - results['Pension spending'])\n",
    "results.loc[:, 'Adjusted spending'] = exp\n",
    "cols = ['After-tax income', 'Adjusted spending']\n",
    "results[cols].divide(1000).to_csv(data_dir / 'ce_age.csv', index_label='name')\n",
    "\n",
    "year = data.index[-1]\n",
    "\n",
    "write_txt(text_dir / 'ce_year.txt', str(year))\n",
    "\n",
    "grp_names = {'Under 25': 'youngest age group', '25-34': '25--34 age group',\n",
    "             '35-44': '35--44 age group', '45-54': '45--54 age group',\n",
    "             '55-64': '55--64 age group', '75+': 'oldest age group'}\n",
    "\n",
    "inc_max_grp = grp_names[results['After-tax income'].idxmax()]\n",
    "inc_min_grp = grp_names[results['After-tax income'].idxmin()]\n",
    "exp_max_grp = grp_names[results['Adjusted spending'].idxmax()]\n",
    "exp_min_grp = grp_names[results['Adjusted spending'].idxmin()]\n",
    "\n",
    "inc_max_val = f\"\\${results['After-tax income'].max().round(-2):,.0f}\"\n",
    "inc_min_val = f\"\\${results['After-tax income'].min().round(-2):,.0f}\"\n",
    "exp_max_val = f\"\\${results['Adjusted spending'].max().round(-2):,.0f}\"\n",
    "exp_min_val = f\"\\${results['Adjusted spending'].min().round(-2):,.0f}\"\n",
    "\n",
    "text = (f'In {year}, after-tax household income '+\n",
    "        '(see\\cbox{green!80!blue}) ranges from '+\n",
    "        f'{inc_min_val} for the {inc_min_grp} to '+\n",
    "        f'{inc_max_val} for the {inc_max_grp}. '+\n",
    "        'Spending, excluding pensions, (see\\cbox{blue!40!magenta}) '+\n",
    "        f'ranges from {exp_min_val} for the {exp_min_grp} '+\n",
    "        f'to {exp_max_val} for the {exp_max_grp}.')\n",
    "\n",
    "print(text)\n",
    "\n",
    "write_txt(text_dir / 'ce_age.txt', text)"
   ]
  },
  {
   "cell_type": "code",
   "execution_count": null,
   "metadata": {},
   "outputs": [],
   "source": []
  },
  {
   "cell_type": "markdown",
   "metadata": {},
   "source": [
    "### Distribution by Income"
   ]
  },
  {
   "cell_type": "code",
   "execution_count": 11,
   "metadata": {
    "ExecuteTime": {
     "end_time": "2021-04-17T00:04:33.069559Z",
     "start_time": "2021-04-17T00:04:32.594140Z"
    }
   },
   "outputs": [],
   "source": [
    "cats = {'TOTALEXP': 'Spending', 'INCAFTTX': 'After-tax income',\n",
    "        'INCBEFTX': 'Pre-tax income', 'PENSIONS':'Pension spending'}\n",
    "\n",
    "grps = {'0102': 'Bottom 20 Percent', '0103': 'Percentile 20--40',\n",
    "        '0104': 'Percentile 40--60', '0105': 'Percentile 60--80',\n",
    "        '1510': 'Percentile 80--90', '1511': 'Top 10 Percent'}\n",
    "\n",
    "results = pd.DataFrame()\n",
    "for grp, name in grps.items():\n",
    "    for cat, cname in cats.items():\n",
    "        srs = f'CXU{cat}LB{grp}M'\n",
    "        yr = int(data.index[-1])\n",
    "        data = (df.loc[df.series_id == srs]\n",
    "                  .set_index('year')['value'])\n",
    "        val = data.loc[yr]\n",
    "        results.loc[name, cname] = int(val)\n",
    "        \n",
    "exp = (results['Spending'] - results['Pension spending'])\n",
    "results.loc[:, 'Adjusted spending'] = exp\n",
    "cols = ['After-tax income', 'Adjusted spending']\n",
    "results[cols].divide(1000).to_csv(data_dir / 'ce_inc.csv', index_label='name')"
   ]
  },
  {
   "cell_type": "code",
   "execution_count": 12,
   "metadata": {
    "ExecuteTime": {
     "end_time": "2021-04-17T00:04:33.074895Z",
     "start_time": "2021-04-17T00:04:33.070512Z"
    }
   },
   "outputs": [
    {
     "name": "stdout",
     "output_type": "stream",
     "text": [
      "In 2019, after-tax household income (see\\cbox{blue!70!black}) ranges from \\$12,200 for the bottom 20 percent to \\$226,600 for the top 10 percent. Spending, excluding pensions, (see\\cbox{blue!30!cyan}) ranges from \\$28,200 for the bottom 20 percent by income, to \\$122,200 for the top 10 percent income group.\n"
     ]
    }
   ],
   "source": [
    "inc_max_grp = results['After-tax income'].idxmax().lower()\n",
    "inc_min_grp = results['After-tax income'].idxmin().lower()\n",
    "exp_max_grp = results['Adjusted spending'].idxmax().lower()\n",
    "exp_min_grp = results['Adjusted spending'].idxmin().lower()\n",
    "\n",
    "inc_max_val = f\"\\${results['After-tax income'].max().round(-2):,.0f}\"\n",
    "inc_min_val = f\"\\${results['After-tax income'].min().round(-2):,.0f}\"\n",
    "exp_max_val = f\"\\${results['Adjusted spending'].max().round(-2):,.0f}\"\n",
    "exp_min_val = f\"\\${results['Adjusted spending'].min().round(-2):,.0f}\"\n",
    "\n",
    "text = (f'In {year}, after-tax household income '+\n",
    "        '(see\\cbox{blue!70!black}) ranges from '+\n",
    "        f'{inc_min_val} for the {inc_min_grp} to '+\n",
    "        f'{inc_max_val} for the {inc_max_grp}. '+\n",
    "        'Spending, excluding pensions, (see\\cbox{blue!30!cyan}) '+\n",
    "        f'ranges from {exp_min_val} for the {exp_min_grp} by income, '+\n",
    "        f'to {exp_max_val} for the {exp_max_grp} income group.')\n",
    "\n",
    "print(text)\n",
    "\n",
    "write_txt(text_dir / 'ce_inc_pct.txt', text)"
   ]
  },
  {
   "cell_type": "code",
   "execution_count": null,
   "metadata": {},
   "outputs": [],
   "source": []
  },
  {
   "cell_type": "code",
   "execution_count": null,
   "metadata": {},
   "outputs": [],
   "source": []
  }
 ],
 "metadata": {
  "kernelspec": {
   "display_name": "Python 3",
   "language": "python",
   "name": "python3"
  },
  "language_info": {
   "codemirror_mode": {
    "name": "ipython",
    "version": 3
   },
   "file_extension": ".py",
   "mimetype": "text/x-python",
   "name": "python",
   "nbconvert_exporter": "python",
   "pygments_lexer": "ipython3",
   "version": "3.8.6"
  }
 },
 "nbformat": 4,
 "nbformat_minor": 4
}
