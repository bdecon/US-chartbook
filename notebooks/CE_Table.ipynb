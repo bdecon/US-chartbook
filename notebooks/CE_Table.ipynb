{
 "cells": [
  {
   "cell_type": "markdown",
   "metadata": {},
   "source": [
    "# Consumer Expenditure Survey\n",
    "\n",
    "Brian Dew\n",
    "\n",
    "@bd_econ"
   ]
  },
  {
   "cell_type": "code",
   "execution_count": 1,
   "metadata": {
    "ExecuteTime": {
     "end_time": "2023-08-13T22:00:59.458864Z",
     "start_time": "2023-08-13T22:00:58.416359Z"
    }
   },
   "outputs": [],
   "source": [
    "%config Completer.use_jedi = False\n",
    "import sys\n",
    "sys.path.append('../src')\n",
    "\n",
    "import uschartbook.config\n",
    "\n",
    "from uschartbook.config import *\n",
    "from uschartbook.utils import *"
   ]
  },
  {
   "cell_type": "code",
   "execution_count": 21,
   "metadata": {
    "ExecuteTime": {
     "end_time": "2023-07-10T22:11:34.400885Z",
     "start_time": "2023-07-10T22:11:32.731315Z"
    }
   },
   "outputs": [],
   "source": [
    "# Tools to retrieve flat files from BLS\n",
    "headers = {'User-Agent': 'Mozilla/5.0 (X11; Linux x86_64; rv:109.0) Gecko/20100101 Firefox/110.0'}\n",
    "# Fred series - Median personal income\n",
    "series_id = 'MEPAINUSA646N'\n",
    "medinc = fred_df(series=series_id, start='1984')\n",
    "medinc.to_csv(data_dir / 'median_pi.csv', index_label='date')\n",
    "\n",
    "url = 'https://download.bls.gov/pub/time.series/cx/cx.data.1.AllData'\n",
    "r = requests.get(url, headers=headers)\n",
    "df = pd.read_csv(io.StringIO(r.content.decode('utf-8')), sep='\\t', \n",
    "                  converters=converters)\n",
    "df.columns = df.columns.str.strip()\n",
    "full = df.set_index('series_id').drop(['footnote_codes', 'period'], \n",
    "                                      axis=1)\n",
    "full.to_csv(data_dir / 'ce_full.csv')"
   ]
  },
  {
   "cell_type": "code",
   "execution_count": 22,
   "metadata": {
    "ExecuteTime": {
     "end_time": "2023-07-10T22:11:41.409171Z",
     "start_time": "2023-07-10T22:11:40.224881Z"
    }
   },
   "outputs": [
    {
     "name": "stdout",
     "output_type": "stream",
     "text": [
      "The 20 percent of households with the least income dissave the equivalent of 38.8 percent of the US median personal income in 2021 (see {\\color{violet}\\textbf{---}}). This group includes people going into debt and retirees dissaving. In the same period, the top 20 percent of households save the equivalent of 206.8 percent of the median income (see {\\color{blue!80!cyan!80!black}\\textbf{---}}).\n",
      "\n",
      " The middle fifth of households by income, percentiles 40--60, saved the equivalent of 25.9 percent of the median income (see {\\color{green!80!blue!85!black}\\textbf{---}}). The fifth of households below the middle group, in percentiles 20--40, dissaved the equivalent of 12.1 percent of a median income in 2021 (see {\\color{red!20!orange!95!black}\\textbf{---}}).\n"
     ]
    }
   ],
   "source": [
    "medinc = pd.read_csv(data_dir / 'median_pi.csv', index_col='date', \n",
    "                     parse_dates=True)\n",
    "medinc.index = medinc.index.year\n",
    "\n",
    "df = pd.read_csv(data_dir / 'ce_full.csv')\n",
    "yr = f\"{df['year'].iloc[-1]}\"\n",
    "write_txt(text_dir / 'ce_year.txt', yr)\n",
    "cats = ['TOTALEXP', 'INCAFTTX', 'INCBEFTX', 'PENSIONS', 'CHGASLI', \n",
    "        '900000', 'SFEMPINC', 'INDIVRNT', '980010']\n",
    "\n",
    "grps = [1, 2, 3, 4, 5, 6]\n",
    "\n",
    "results = pd.DataFrame()\n",
    "for grp in grps:\n",
    "    for cat in cats:\n",
    "        if cat != '980010':\n",
    "            datatype = 'int'\n",
    "        else: \n",
    "            datatype = 'float'\n",
    "        srs = f'CXU{cat}LB010{grp}M'\n",
    "        data = (df.loc[df.series_id == srs]\n",
    "                  .set_index('year')['value']\n",
    "                  .astype(datatype))\n",
    "        name = f'{cat}_{grp}'\n",
    "        results[name] = data\n",
    "        \n",
    "    exp = (results[f'TOTALEXP_{grp}'] - results[f'PENSIONS_{grp}'])\n",
    "    results[f'ADJEXP_{grp}'] = exp\n",
    "    di_save = results[f'INCAFTTX_{grp}'] - exp\n",
    "    mi = (results[f'900000_{grp}'] + results[f'SFEMPINC_{grp}']\n",
    "          + results[f'INDIVRNT_{grp}'])\n",
    "    mi_save = mi - exp                                   \n",
    "    results[f'DI_SAVE_RT_{grp}'] = (di_save.to_numpy() / \n",
    "                                    medinc.VALUE.to_numpy()) * 100\n",
    "    results[f'MI_SAVE_RT_{grp}'] = (mi_save.to_numpy() / \n",
    "                                    medinc.VALUE.to_numpy()) * 100\n",
    "    results[f'DI_SAVE_{grp}'] = di_save\n",
    "    results[f'MI_SAVE_{grp}'] = mi_save\n",
    "    \n",
    "results.index = [pd.to_datetime(f'{dt}-01-01') for dt in results.index]\n",
    "results.loc['1988':].to_csv(data_dir / 'ce_table.csv', index_label='date')\n",
    "color = {'DI_SAVE_RT_2': 'violet', 'DI_SAVE_RT_3': 'red!20!orange!95!black',\n",
    "         'DI_SAVE_RT_4': 'green!80!blue!85!black', \n",
    "         'DI_SAVE_RT_5': 'red!80!black',\n",
    "         'DI_SAVE_RT_6': 'blue!80!cyan!80!black'}\n",
    "results.loc['1989':, color.keys()].to_csv(data_dir / 'save_dist.csv', \n",
    "                                     index_label='date')\n",
    "\n",
    "nmax = {i: None for i in color.keys()}\n",
    "maxsrs = results[color.keys()].iloc[-1].idxmax()\n",
    "nmax[maxsrs] = 'y'\n",
    "\n",
    "nodes = '\\n'.join([end_node(results[i], color[i], percent=True, \n",
    "                            date=nmax[i], full_year=True) \n",
    "                   for i in color.keys()])\n",
    "write_txt(text_dir / 'save_dist_nodes.txt', nodes)\n",
    "\n",
    "ltyr = results.index[-1].year\n",
    "b20 = results['DI_SAVE_RT_2'].iloc[-1]\n",
    "t20 = results['DI_SAVE_RT_6'].iloc[-1]\n",
    "m20 = results['DI_SAVE_RT_4'].iloc[-1]\n",
    "lm20vpr = results['DI_SAVE_RT_3'].iloc[-2]\n",
    "lm20v = results['DI_SAVE_RT_3'].iloc[-1]\n",
    "lm20_1 = (f'saved the equivalent of {abs(lm20v):.1f} percent of '+\n",
    "          f'a median income in {ltyr}')\n",
    "lm20_2 = (f'did not save in {ltyr}, but dissaved less '+\n",
    "          'than previous years ')\n",
    "lm20_3 = (f'dissaved the equivalent of {abs(lm20v):.1f} percent '+\n",
    "          f'of a median income in {ltyr}')\n",
    "lm20 = lm20_1 if lm20v > 0 else lm20_2 if lm20v > lm20vpr else lm20_3\n",
    "text = ('The 20 percent of households with the least income '+\n",
    "        f'dissave the equivalent of {abs(b20):.1f} percent of the '+\n",
    "        f'US median personal income in {ltyr} '+\n",
    "        f'{c_line(color[\"DI_SAVE_RT_2\"])}. This group includes '+\n",
    "        'people going into debt and retirees dissaving. In '+\n",
    "        'the same period, the top 20 percent of households '+\n",
    "        f'save the equivalent of {t20:.1f} percent of the '+\n",
    "        f'median income {c_line(color[\"DI_SAVE_RT_6\"])}.\\n\\n '+\n",
    "        'The middle fifth of households by income, percentiles '+\n",
    "        f'40--60, saved the equivalent of {m20:.1f} percent of '+\n",
    "        f'the median income {c_line(color[\"DI_SAVE_RT_4\"])}. '+\n",
    "        'The fifth of households below the middle group, in '+\n",
    "        f'percentiles 20--40, {lm20} {c_line(color[\"DI_SAVE_RT_3\"])}.')\n",
    "write_txt(text_dir / 'save_dist.txt', text)\n",
    "print(text)"
   ]
  },
  {
   "cell_type": "code",
   "execution_count": null,
   "metadata": {},
   "outputs": [],
   "source": []
  },
  {
   "cell_type": "code",
   "execution_count": null,
   "metadata": {},
   "outputs": [],
   "source": []
  },
  {
   "cell_type": "markdown",
   "metadata": {},
   "source": [
    "### Overview for median"
   ]
  },
  {
   "cell_type": "code",
   "execution_count": 10,
   "metadata": {
    "ExecuteTime": {
     "end_time": "2023-08-13T22:11:37.826931Z",
     "start_time": "2023-08-13T22:11:37.813020Z"
    }
   },
   "outputs": [],
   "source": [
    "# Overview for median income, spending, saving\n",
    "pce = pd.read_csv(data_dir / 'nipa20804.csv', \n",
    "                  index_col='date', parse_dates=True)['DPCERG']\n",
    "pce_ann = (pce.iloc[-1] / pce).resample('AS').mean()\n",
    "\n",
    "cols = ['INCAFTTX_4', 'ADJEXP_4', 'DI_SAVE_4', '980010_4']\n",
    "ce_table = pd.read_csv(data_dir / 'ce_table.csv', index_col=0, \n",
    "                       parse_dates=True)\n",
    "res = (ce_table[cols[:3]].divide(ce_table[cols[3]],axis=0)\n",
    "       .multiply(pce_ann, axis=0) / 1000)\n",
    "res.dropna().to_csv(data_dir / 'medincexp.csv', index_label='date')"
   ]
  },
  {
   "cell_type": "code",
   "execution_count": 11,
   "metadata": {
    "ExecuteTime": {
     "end_time": "2023-08-13T22:11:38.577858Z",
     "start_time": "2023-08-13T22:11:38.559880Z"
    }
   },
   "outputs": [
    {
     "name": "stdout",
     "output_type": "stream",
     "text": [
      "In 2021, after-tax income is \\$26,828 per person for the middle fifth of households (see {\\color{blue!50!cyan}\\textbf{---}}). Spending for these households is \\$22,555 per person (see {\\color{red!50!orange}\\textbf{---}}), and saving is \\$4,273 per person (see {\\color{green!50!blue}\\textbf{---}}).\n"
     ]
    }
   ],
   "source": [
    "incval = res.loc[res.dropna().index[-1], 'INCAFTTX_4']\n",
    "incval = f'\\${incval * 1000:,.0f}'\n",
    "expval = res.loc[res.dropna().index[-1], 'ADJEXP_4']\n",
    "expval = f'\\${expval * 1000:,.0f}'\n",
    "saveval = res.loc[res.dropna().index[-1], 'DI_SAVE_4']\n",
    "saveval = f'\\${saveval * 1000:,.0f}'\n",
    "ltyear = res.dropna().index[-1].year\n",
    "\n",
    "colors = {'inc': 'blue!50!cyan', 'exp': 'red!50!orange', \n",
    "          'save': 'green!50!blue'}\n",
    "\n",
    "text = (f'In {ltyear}, after-tax income is {incval} per person '+\n",
    "        f'for the middle fifth of households {c_line(colors[\"inc\"])}. '+\n",
    "        f'Spending for these households is {expval} per person '+\n",
    "        f'{c_line(colors[\"exp\"])}, and saving is {saveval} per person '+\n",
    "        f'{c_line(colors[\"save\"])}.')\n",
    "write_txt(text_dir / 'ce_med_inc.txt', text)\n",
    "print(text)"
   ]
  },
  {
   "cell_type": "code",
   "execution_count": null,
   "metadata": {},
   "outputs": [],
   "source": []
  },
  {
   "cell_type": "code",
   "execution_count": null,
   "metadata": {},
   "outputs": [],
   "source": []
  },
  {
   "cell_type": "markdown",
   "metadata": {},
   "source": [
    "### Income and Spending by Age Group"
   ]
  },
  {
   "cell_type": "code",
   "execution_count": 25,
   "metadata": {
    "ExecuteTime": {
     "end_time": "2023-07-10T22:11:55.156249Z",
     "start_time": "2023-07-10T22:11:54.599297Z"
    }
   },
   "outputs": [
    {
     "name": "stdout",
     "output_type": "stream",
     "text": [
      "In 2021, after-tax household income (see\\cbox{green!80!blue}) ranges from \\$43,200 for the oldest age group to \\$103,500 for the 45 to 54 age group. Spending, excluding pensions, (see\\cbox{blue!40!magenta}) ranges from \\$38,100 for the youngest age group to \\$72,800 for the 45 to 54 age group.\n"
     ]
    }
   ],
   "source": [
    "cats = {'TOTALEXP': 'Spending', 'INCAFTTX': 'After-tax income',\n",
    "        'INCBEFTX': 'Pre-tax income', 'PENSIONS':'Pension spending'}\n",
    "\n",
    "grps = {2: 'Under 25', 3: '25--34', 4: '35--44', \n",
    "        5: '45--54', 6: '55--64', 8: '65--74', 9: '75+'}\n",
    "\n",
    "results = pd.DataFrame()\n",
    "for grp, name in grps.items():\n",
    "    for cat, cname in cats.items():\n",
    "        srs = f'CXU{cat}LB040{grp}M'\n",
    "        yr = data.index[-1]\n",
    "        data = (df.loc[df.series_id == srs]\n",
    "                  .set_index('year')['value'])\n",
    "        val = data.loc[yr]\n",
    "        results.loc[name, cname] = int(val)\n",
    "        \n",
    "exp = (results['Spending'] - results['Pension spending'])\n",
    "results.loc[:, 'Adjusted spending'] = exp\n",
    "cols = ['After-tax income', 'Adjusted spending']\n",
    "results[cols].divide(1000).to_csv(data_dir / 'ce_age.csv', index_label='name')\n",
    "\n",
    "year = data.index[-1]\n",
    "\n",
    "write_txt(text_dir / 'ce_year.txt', str(year))\n",
    "\n",
    "grp_names = {'Under 25': 'youngest age group', '25--34': '25 to 34 age group',\n",
    "             '35--44': '35 to 44 age group', '45--54': '45 to 54 age group',\n",
    "             '55--64': '55 to 64 age group', '75+': 'oldest age group'}\n",
    "\n",
    "inc_max_grp = grp_names[results['After-tax income'].idxmax()]\n",
    "inc_min_grp = grp_names[results['After-tax income'].idxmin()]\n",
    "exp_max_grp = grp_names[results['Adjusted spending'].idxmax()]\n",
    "exp_min_grp = grp_names[results['Adjusted spending'].idxmin()]\n",
    "\n",
    "inc_max_val = f\"\\${results['After-tax income'].max().round(-2):,.0f}\"\n",
    "inc_min_val = f\"\\${results['After-tax income'].min().round(-2):,.0f}\"\n",
    "exp_max_val = f\"\\${results['Adjusted spending'].max().round(-2):,.0f}\"\n",
    "exp_min_val = f\"\\${results['Adjusted spending'].min().round(-2):,.0f}\"\n",
    "\n",
    "text = (f'In {year}, after-tax household income '+\n",
    "        '(see\\cbox{green!80!blue}) ranges from '+\n",
    "        f'{inc_min_val} for the {inc_min_grp} to '+\n",
    "        f'{inc_max_val} for the {inc_max_grp}. '+\n",
    "        'Spending, excluding pensions, (see\\cbox{blue!40!magenta}) '+\n",
    "        f'ranges from {exp_min_val} for the {exp_min_grp} '+\n",
    "        f'to {exp_max_val} for the {exp_max_grp}.')\n",
    "write_txt(text_dir / 'ce_age.txt', text)\n",
    "print(text)"
   ]
  },
  {
   "cell_type": "code",
   "execution_count": null,
   "metadata": {},
   "outputs": [],
   "source": []
  },
  {
   "cell_type": "markdown",
   "metadata": {},
   "source": [
    "### Distribution by Income"
   ]
  },
  {
   "cell_type": "code",
   "execution_count": 26,
   "metadata": {
    "ExecuteTime": {
     "end_time": "2023-07-10T22:11:57.155977Z",
     "start_time": "2023-07-10T22:11:56.671955Z"
    }
   },
   "outputs": [],
   "source": [
    "cats = {'TOTALEXP': 'Spending', 'INCAFTTX': 'After-tax income',\n",
    "        'INCBEFTX': 'Pre-tax income', 'PENSIONS':'Pension spending'}\n",
    "\n",
    "grps = {'0102': 'Bottom 20 Percent', '0103': 'Percentile 20--40',\n",
    "        '0104': 'Percentile 40--60', '0105': 'Percentile 60--80',\n",
    "        '1510': 'Percentile 80--90', '1511': 'Top 10 Percent'}\n",
    "\n",
    "results = pd.DataFrame()\n",
    "for grp, name in grps.items():\n",
    "    for cat, cname in cats.items():\n",
    "        srs = f'CXU{cat}LB{grp}M'\n",
    "        yr = int(data.index[-1])\n",
    "        data = (df.loc[df.series_id == srs]\n",
    "                  .set_index('year')['value'])\n",
    "        val = data.loc[yr]\n",
    "        results.loc[name, cname] = int(val)\n",
    "        \n",
    "exp = (results['Spending'] - results['Pension spending'])\n",
    "results.loc[:, 'Adjusted spending'] = exp\n",
    "cols = ['After-tax income', 'Adjusted spending']\n",
    "results[cols].divide(1000).to_csv(data_dir / 'ce_inc.csv', index_label='name')"
   ]
  },
  {
   "cell_type": "code",
   "execution_count": 27,
   "metadata": {
    "ExecuteTime": {
     "end_time": "2023-07-10T22:11:57.667766Z",
     "start_time": "2023-07-10T22:11:57.652959Z"
    }
   },
   "outputs": [
    {
     "name": "stdout",
     "output_type": "stream",
     "text": [
      "In 2021, after-tax household income (see\\cbox{blue!70!black}) ranges from \\$15,900 for the bottom 20 percent to \\$233,600 for the top 10 percent. Spending, excluding pensions, (see\\cbox{blue!30!cyan}) ranges from \\$30,500 for the bottom 20 percent by income, to \\$128,400 for the top 10 percent income group.\n"
     ]
    }
   ],
   "source": [
    "inc_max_grp = results['After-tax income'].idxmax().lower()\n",
    "inc_min_grp = results['After-tax income'].idxmin().lower()\n",
    "exp_max_grp = results['Adjusted spending'].idxmax().lower()\n",
    "exp_min_grp = results['Adjusted spending'].idxmin().lower()\n",
    "\n",
    "inc_max_val = f\"\\${results['After-tax income'].max().round(-2):,.0f}\"\n",
    "inc_min_val = f\"\\${results['After-tax income'].min().round(-2):,.0f}\"\n",
    "exp_max_val = f\"\\${results['Adjusted spending'].max().round(-2):,.0f}\"\n",
    "exp_min_val = f\"\\${results['Adjusted spending'].min().round(-2):,.0f}\"\n",
    "\n",
    "text = (f'In {year}, after-tax household income '+\n",
    "        '(see\\cbox{blue!70!black}) ranges from '+\n",
    "        f'{inc_min_val} for the {inc_min_grp} to '+\n",
    "        f'{inc_max_val} for the {inc_max_grp}. '+\n",
    "        'Spending, excluding pensions, (see\\cbox{blue!30!cyan}) '+\n",
    "        f'ranges from {exp_min_val} for the {exp_min_grp} by income, '+\n",
    "        f'to {exp_max_val} for the {exp_max_grp} income group.')\n",
    "write_txt(text_dir / 'ce_inc_pct.txt', text)\n",
    "print(text)"
   ]
  },
  {
   "cell_type": "code",
   "execution_count": null,
   "metadata": {},
   "outputs": [],
   "source": []
  },
  {
   "cell_type": "code",
   "execution_count": null,
   "metadata": {},
   "outputs": [],
   "source": []
  }
 ],
 "metadata": {
  "kernelspec": {
   "display_name": "Python 3 (ipykernel)",
   "language": "python",
   "name": "python3"
  },
  "language_info": {
   "codemirror_mode": {
    "name": "ipython",
    "version": 3
   },
   "file_extension": ".py",
   "mimetype": "text/x-python",
   "name": "python",
   "nbconvert_exporter": "python",
   "pygments_lexer": "ipython3",
   "version": "3.8.13"
  }
 },
 "nbformat": 4,
 "nbformat_minor": 4
}
