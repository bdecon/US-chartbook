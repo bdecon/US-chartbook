{
 "cells": [
  {
   "cell_type": "markdown",
   "metadata": {},
   "source": [
    "### GDP by Industry / Value Added\n",
    "\n",
    "Covers basic broad categories. Still need to expand discussion to cover levels (per capita) and add text that covers both levels and changes. \n",
    "\n",
    "https://apps.bea.gov/iTable/iTable.cfm?ReqID=51&step=1\n",
    "\n",
    "In the latest data, the quarter format is different (Q1 instead of I). I manually replaced the row containing the quarter. "
   ]
  },
  {
   "cell_type": "code",
   "execution_count": 1,
   "metadata": {
    "ExecuteTime": {
     "end_time": "2024-04-04T13:58:45.595803Z",
     "start_time": "2024-04-04T13:58:44.673952Z"
    }
   },
   "outputs": [],
   "source": [
    "import sys\n",
    "sys.path.append('../src')\n",
    "\n",
    "import uschartbook.config\n",
    "\n",
    "from uschartbook.config import *\n",
    "from uschartbook.utils import *\n",
    "\n",
    "qtrsrm = {'I': 1, 'II': 4, 'III': 7, 'IV': 10}\n",
    "\n",
    "prdt = '2019-10-01'\n",
    "prdate = dtxt(pd.to_datetime(prdt))['qtr1']\n",
    "\n",
    "s = ['Quarter', 'Government', 'Utilities', 'Wholesale trade', 'Retail trade', \n",
    "     'Transportation and warehousing', 'Private goods-producing industries [1]',\n",
    "     'Private services-producing industries [2]',\n",
    "     'Finance, insurance, real estate, rental, and leasing',\n",
    "     'Educational services, health care, and social assistance', \n",
    "     'Construction', 'Manufacturing', 'Information', \n",
    "     'Professional and business services', 'Federal', 'State and local']"
   ]
  },
  {
   "cell_type": "markdown",
   "metadata": {},
   "source": [
    "### Contribution to GDP"
   ]
  },
  {
   "cell_type": "markdown",
   "metadata": {},
   "source": [
    "##### Historical Data"
   ]
  },
  {
   "cell_type": "code",
   "execution_count": 2,
   "metadata": {
    "ExecuteTime": {
     "end_time": "2024-04-04T13:58:45.626285Z",
     "start_time": "2024-04-04T13:58:45.597479Z"
    }
   },
   "outputs": [],
   "source": [
    "df = pd.read_csv('raw/GDPVA_real_contrib.csv', index_col=0, parse_dates=True).T\n",
    "df.index = pd.to_datetime(df.index)\n",
    "for i in [1, 2]:\n",
    "    df.columns = df.columns.str.strip().str.replace(f'\\\\{i}\\\\', f' [{i}]', regex=False)\n",
    "    \n",
    "df = df[s[1:]].astype('float')\n",
    "df.index.name = 'date'\n",
    "df['TTU'] = df[['Utilities', 'Wholesale trade', 'Retail trade', \n",
    "                'Transportation and warehousing']].sum(axis=1)\n",
    "df['FIRE'] = df['Finance, insurance, real estate, rental, and leasing'] + df['Information']\n",
    "df['Oth_Serv'] = (df['Private services-producing industries [2]'] - df['TTU']\n",
    "                    - df['FIRE'])\n",
    "df['GoodsTTU'] = df['Private goods-producing industries [1]'] + df['TTU']\n",
    "\n",
    "dft = df"
   ]
  },
  {
   "cell_type": "code",
   "execution_count": 3,
   "metadata": {
    "ExecuteTime": {
     "end_time": "2024-04-04T13:58:45.647479Z",
     "start_time": "2024-04-04T13:58:45.628002Z"
    }
   },
   "outputs": [],
   "source": [
    "# Historical data\n",
    "d = {}\n",
    "for dset in [1, 2]:\n",
    "    # Adjust top and bottom line 1, 2 (downloaded data manually)\n",
    "    df = pd.read_csv(f'raw/gdpbyindustry{dset}.csv', skiprows=4).T\n",
    "\n",
    "    columns = df.iloc[1].str.strip()\n",
    "    if dset == 3:\n",
    "        columns[0] = 'Quarter'\n",
    "\n",
    "    df.columns = columns\n",
    "\n",
    "    si = [i for i in s if i in df.keys()]\n",
    "    df = df.iloc[2:].loc[:, si]\n",
    "\n",
    "    if dset == 3:\n",
    "        dates = list(zip([dt[:4] for dt in df.index], df.Quarter.map(qtrsrm).values))\n",
    "        date_index = pd.to_datetime([f'{year}-{month}-01' for year, month in dates])\n",
    "\n",
    "        df = (df.reset_index().drop(['index', 'Quarter'], axis=1)\n",
    "                .set_index(date_index).astype(float))\n",
    "\n",
    "    else:\n",
    "        dates = pd.to_datetime([f'{year}-01-01' for year in df.index])\n",
    "        df = (df.reset_index().drop(['index'], axis=1)\n",
    "                .set_index(dates).astype(float))    \n",
    "\n",
    "    df.index.name = 'date'\n",
    "    df['TTU'] = df[['Utilities', 'Wholesale trade', 'Retail trade', \n",
    "                    'Transportation and warehousing']].sum(axis=1)\n",
    "    df['FIRE'] = df['Finance, insurance, real estate, rental, and leasing'] + df['Information']\n",
    "    df['Oth_Serv'] = (df['Private services-producing industries [2]'] - df['TTU']\n",
    "                      - df['FIRE'])\n",
    "    df['GoodsTTU'] = df['Private goods-producing industries [1]'] + df['TTU']\n",
    "\n",
    "    d[dset] = df"
   ]
  },
  {
   "cell_type": "code",
   "execution_count": 4,
   "metadata": {
    "ExecuteTime": {
     "end_time": "2024-04-04T13:58:49.614272Z",
     "start_time": "2024-04-04T13:58:45.649834Z"
    }
   },
   "outputs": [],
   "source": [
    "years = ','.join(map(str, range(2004, 2024)))\n",
    "\n",
    "url = (f'https://apps.bea.gov/api/data/?&UserID={bea_key}'+\n",
    "        '&method=GetData&DataSetName=GDPbyIndustry'+\n",
    "       f'&Year={years}&Industry=ALL&tableID=13&Frequency=Q'+\n",
    "        '&ResultFormat=json')\n",
    "\n",
    "r = requests.get(url)\n",
    "\n",
    "df = pd.DataFrame(json.loads(r.text)['BEAAPI']['Results'][0]['Data'])\n",
    "df['Month'] = df.Quarter.map(qtrsrm)\n",
    "df['Day'] = 1\n",
    "df['Date'] = pd.to_datetime(df[['Year', 'Month', 'Day']])\n",
    "\n",
    "data = df.groupby(['Date', 'IndustrYDescription']).DataValue.max().unstack().astype('float')\n",
    "data['TTU'] = data[['Utilities', 'Wholesale trade', 'Retail trade', \n",
    "                'Transportation and warehousing']].sum(axis=1)\n",
    "data['FIRE'] = data['Finance, insurance, real estate, rental, and leasing'] + data['Information']\n",
    "data['Oth_Serv'] = (data['Private services-producing industries<sup>2</sup>'] - data['TTU']\n",
    "                - data['FIRE'])\n",
    "data['GoodsTTU'] = data['Private goods-producing industries<sup>1</sup>'] + data['TTU']\n",
    "\n",
    "data = data.rename({'Private goods-producing industries<sup>1</sup>': \n",
    "                    'Private goods-producing industries [1]',\n",
    "                    'Private services-producing industries<sup>2</sup>': \n",
    "                    'Private services-producing industries [2]'}, axis=1)\n",
    "\n",
    "srs = ['Government', 'Oth_Serv', 'FIRE', 'GoodsTTU', \n",
    "       'Educational services, health care, and social assistance', \n",
    "       'Construction', 'Manufacturing', 'Retail trade', 'Information',\n",
    "       'Professional and business services']\n",
    "\n",
    "srs1 = ['Government', 'Oth_Serv', 'FIRE', 'GoodsTTU']\n",
    "data1 = pd.concat([d[1], d[2]]).loc['1989':'2005'].resample('QS').ffill().iloc[:-1]\n",
    "final = pd.concat([data1, dft.loc[:'2018-01-01'], data])\n",
    "final.to_csv(data_dir / 'gdpvafull.csv', index_label='date', float_format='%g')\n",
    "final[srs1].to_csv(data_dir / 'gdpva.csv', index_label='date', float_format='%g')"
   ]
  },
  {
   "cell_type": "code",
   "execution_count": 5,
   "metadata": {
    "ExecuteTime": {
     "end_time": "2024-04-04T13:58:49.623900Z",
     "start_time": "2024-04-04T13:58:49.615499Z"
    }
   },
   "outputs": [],
   "source": [
    "lt = final[srs1].iloc[-1]\n",
    "pr = final[srs1].iloc[-2]\n",
    "pcdt = '2019-10-01'\n",
    "pc = final.loc[pcdt, srs1]\n",
    "ltdate = dtxt(final.index[-1])['qtr1']\n",
    "prdate = dtxt(final.index[-2])['qtr1']\n",
    "pcdate = dtxt(pd.to_datetime(pcdt))['qtr1']\n",
    "\n",
    "gttu = f\"{lt['GoodsTTU']:.1f}\"\n",
    "prgttu = value_text(pr['GoodsTTU'], style='contribution_of', ptype='pp', threshold=0.1)\n",
    "pcgttu = value_text(pc['GoodsTTU'], style='contribution_of', ptype='pp', threshold=0.1)\n",
    "\n",
    "fire = value_text(lt['FIRE'], style='contribution', ptype='pp', threshold=0.1)\n",
    "prfire = value_text(pr['FIRE'], style='contribution', ptype='pp', threshold=0.1)\n",
    "pcfire = value_text(pc['FIRE'], style='contribution', ptype='pp', threshold=0.1)\n",
    "\n",
    "oths = value_text(lt['Oth_Serv'], style='contribution_to', ptype='pp', threshold=0.1)\n",
    "proths = value_text(pr['Oth_Serv'], style='contribution_of', ptype='pp', threshold=0.1)\n",
    "pcoths = value_text(pc['Oth_Serv'], style='contribution_of', ptype='pp', threshold=0.1)\n",
    "\n",
    "gov = value_text(lt['Government'], style='contribution', ptype='pp', threshold=0.1)\n",
    "prgov = value_text(pr['Government'], style='contribution', ptype='pp', threshold=0.1)\n",
    "pcgov = value_text(pc['Government'], style='contribution', ptype='pp', threshold=0.1)"
   ]
  },
  {
   "cell_type": "code",
   "execution_count": 6,
   "metadata": {
    "ExecuteTime": {
     "end_time": "2024-04-04T13:58:49.638166Z",
     "start_time": "2024-04-04T13:58:49.625326Z"
    }
   },
   "outputs": [
    {
     "name": "stdout",
     "output_type": "stream",
     "text": [
      "In 2023 Q4, the combined contribution to GDP growth from private goods-producing industries and trade, transportation, and utilities is 1.9 percentage points, following a contribution of 2.5 percentage points in 2023 Q3, and compared to virtually no contribution in 2019 Q4. The group of private service-providing industries that include finance, insurance, real estate, as well as the information industry, contributed 0.4 percentage point in 2023 Q4, contributed 1.6 percentage points in 2023 Q3, and contributed 1.6 percentage points in 2019 Q4. \n",
      "\n",
      " Other private services-providing industries, which are wide-ranging and described above, contributed 0.7 percentage point to real GDP growth in 2023 Q4, following a contribution of 0.5 percentage point in 2023 Q3, and compared to a contribution of 0.5 percentage point in 2019 Q4. Combined federal, state, and local government contributed 0.3 percentage point in 2023 Q4, contributed 0.2 percentage point the prior quarter, and contributed 0.5 percentage point in 2019 Q4, prior to the pandemic.\n"
     ]
    }
   ],
   "source": [
    "text = (f'In {ltdate}, the combined contribution to GDP growth from '+\n",
    "        'private goods-producing industries and trade, transportation, '+\n",
    "        f'and utilities is {gttu} percentage points, following {prgttu} '+\n",
    "        f'in {prdate}, and compared to {pcgttu} in {pcdate}. The group '+\n",
    "        'of private service-providing industries that include finance, '+\n",
    "        'insurance, real estate, as well as the information industry, '+\n",
    "        f'{fire} in {ltdate}, {prfire} in {prdate}, and {pcfire} '+\n",
    "        f'in {pcdate}. \\n\\n Other private services-providing industries, '+\n",
    "        f'which are wide-ranging and described above, {oths} real GDP '+\n",
    "        f'growth in {ltdate}, '+\n",
    "        f'following {proths} in {prdate}, and compared to {pcoths} in '+\n",
    "        f'{pcdate}. Combined federal, state, and local government '+\n",
    "        f'{gov} in {ltdate}, {prgov} the prior quarter, and {pcgov} '+\n",
    "        f'in {pcdate}, prior to the pandemic.')\n",
    "write_txt(text_dir / 'gdpva_growth.txt', text)\n",
    "print(text)"
   ]
  },
  {
   "cell_type": "code",
   "execution_count": null,
   "metadata": {},
   "outputs": [],
   "source": []
  },
  {
   "cell_type": "code",
   "execution_count": null,
   "metadata": {},
   "outputs": [],
   "source": []
  },
  {
   "cell_type": "markdown",
   "metadata": {},
   "source": [
    "### Nominal"
   ]
  },
  {
   "cell_type": "code",
   "execution_count": 7,
   "metadata": {
    "ExecuteTime": {
     "end_time": "2024-04-04T13:58:49.654168Z",
     "start_time": "2024-04-04T13:58:49.639428Z"
    }
   },
   "outputs": [],
   "source": [
    "nom_ann = pd.read_csv('../data/GDPVA_nom.csv', skiprows=4).dropna().T.iloc[1:]\n",
    "nom_ann.columns = nom_ann.iloc[0].str.strip()\n",
    "nom_ann.columns.name = 'IndustrYDescription'\n",
    "nom_ann = nom_ann.iloc[1:]\n",
    "nom_ann.index = pd.to_datetime([f\"{i}-07-01\" for i in nom_ann.index])\n",
    "nom_ann.index.name = 'Date'\n",
    "\n",
    "# Duplicate columns dropped:\n",
    "nom_ann = nom_ann.loc[:,~nom_ann.columns.duplicated()]\n",
    "\n",
    "nom_ann = nom_ann.rename({'Private goods-producing industries1': \n",
    "                          'Private goods-producing industries [1]',\n",
    "                          'Private services-producing industries2': \n",
    "                          'Private services-producing industries [2]'}, axis=1)"
   ]
  },
  {
   "cell_type": "code",
   "execution_count": 8,
   "metadata": {
    "ExecuteTime": {
     "end_time": "2024-04-04T13:58:49.672362Z",
     "start_time": "2024-04-04T13:58:49.655758Z"
    }
   },
   "outputs": [],
   "source": [
    "# Quarterly\n",
    "df = pd.read_csv('raw/GDPVA_nom.csv', index_col=0, parse_dates=True).T\n",
    "df.index = pd.to_datetime(df.index)\n",
    "for i in [1, 2]:\n",
    "    df.columns = df.columns.str.strip().str.replace(f'\\\\{i}\\\\', f' [{i}]', regex=False)\n",
    "    \n",
    "df = df[s[1:]].replace(',', '', regex=True).astype('float')\n",
    "df.index.name = 'date'\n",
    "df['TTU'] = df[['Utilities', 'Wholesale trade', 'Retail trade', \n",
    "                'Transportation and warehousing']].sum(axis=1)\n",
    "df['FIRE'] = df['Finance, insurance, real estate, rental, and leasing'] + df['Information']\n",
    "df['Oth_Serv'] = (df['Private services-producing industries [2]'] - df['TTU']\n",
    "                    - df['FIRE'])\n",
    "df['GoodsTTU'] = df['Private goods-producing industries [1]'] + df['TTU']\n",
    "\n",
    "dft = df / 1_000"
   ]
  },
  {
   "cell_type": "code",
   "execution_count": 9,
   "metadata": {
    "ExecuteTime": {
     "end_time": "2024-04-04T13:58:51.783544Z",
     "start_time": "2024-04-04T13:58:49.674014Z"
    }
   },
   "outputs": [],
   "source": [
    "years = ','.join(map(str, range(2005, 2024)))\n",
    "\n",
    "url = (f'https://apps.bea.gov/api/data/?&UserID={bea_key}'+\n",
    "        '&method=GetData&DataSetName=GDPbyIndustry'+\n",
    "       f'&Year={years}&Industry=ALL&tableID=1&Frequency=Q'+\n",
    "        '&ResultFormat=json')\n",
    "\n",
    "r = requests.get(url)\n",
    "\n",
    "df = pd.DataFrame(json.loads(r.text)['BEAAPI']['Results'][0]['Data'])\n",
    "df['Month'] = df.Quarter.map(qtrsrm)\n",
    "df['Day'] = 1\n",
    "df['Date'] = pd.to_datetime(df[['Year', 'Month', 'Day']])\n",
    "\n",
    "data = df.groupby(['Date', 'IndustrYDescription']).DataValue.max().unstack().astype('float')\n",
    "\n",
    "data = data.rename({'Private goods-producing industries<sup>1</sup>': \n",
    "                    'Private goods-producing industries [1]',\n",
    "                    'Private services-producing industries<sup>2</sup>': \n",
    "                    'Private services-producing industries [2]'}, axis=1)\n",
    "\n",
    "data = pd.concat([nom_ann, dft.loc[:'2017-10-01'], data])\n",
    "\n",
    "data['TTU'] = data[['Utilities', 'Wholesale trade', 'Retail trade', \n",
    "                'Transportation and warehousing']].sum(axis=1)\n",
    "data['FIRE'] = data['Finance, insurance, real estate, rental, and leasing'] + data['Information']\n",
    "data['Oth_Serv'] = (data['Private services-producing industries [2]'] - data['TTU']\n",
    "                - data['FIRE'])\n",
    "data['Goods'] = data['Private goods-producing industries [1]']\n",
    "data['GoodsTTU'] = data['Private goods-producing industries [1]'] + data['TTU']\n",
    "\n",
    "data.to_csv(data_dir / 'gdpva_nom.csv', index_label='date', float_format='%g')"
   ]
  },
  {
   "cell_type": "code",
   "execution_count": null,
   "metadata": {},
   "outputs": [],
   "source": []
  },
  {
   "cell_type": "code",
   "execution_count": null,
   "metadata": {},
   "outputs": [],
   "source": []
  },
  {
   "cell_type": "markdown",
   "metadata": {},
   "source": [
    "### Real"
   ]
  },
  {
   "cell_type": "code",
   "execution_count": 10,
   "metadata": {
    "ExecuteTime": {
     "end_time": "2024-04-04T13:58:51.801147Z",
     "start_time": "2024-04-04T13:58:51.785848Z"
    }
   },
   "outputs": [],
   "source": [
    "real_ann = pd.read_csv('../data/GDPVA_real.csv', skiprows=4).dropna().T.iloc[1:]\n",
    "real_ann.columns = real_ann.iloc[0].str.strip()\n",
    "real_ann.columns.name = 'IndustrYDescription'\n",
    "real_ann = real_ann.iloc[1:]\n",
    "real_ann.index = pd.to_datetime([f\"{i}-07-01\" for i in real_ann.index])\n",
    "real_ann.index.name = 'Date'\n",
    "\n",
    "# Duplicate columns dropped:\n",
    "real_ann = real_ann.loc[:,~real_ann.columns.duplicated()]\n",
    "\n",
    "real_ann = real_ann.rename({'Private goods-producing industries2': \n",
    "                            'Private goods-producing industries [1]',\n",
    "                            'Private services-producing industries3': \n",
    "                            'Private services-producing industries [2]'}, axis=1)"
   ]
  },
  {
   "cell_type": "code",
   "execution_count": 11,
   "metadata": {
    "ExecuteTime": {
     "end_time": "2024-04-04T13:58:51.816941Z",
     "start_time": "2024-04-04T13:58:51.802380Z"
    }
   },
   "outputs": [],
   "source": [
    "# Quarterly\n",
    "df = pd.read_csv('raw/GDPVA_real.csv', index_col=0, parse_dates=True).T\n",
    "df.index = pd.to_datetime(df.index)\n",
    "for i in [1, 2]:\n",
    "    df.columns = df.columns.str.strip().str.replace(f'\\\\{i}\\\\', f' [{i}]', regex=False)\n",
    "    \n",
    "df = df[s[1:]].replace(',', '', regex=True).astype('float')\n",
    "df.index.name = 'date'\n",
    "df['TTU'] = df[['Utilities', 'Wholesale trade', 'Retail trade', \n",
    "                'Transportation and warehousing']].sum(axis=1)\n",
    "df['FIRE'] = df['Finance, insurance, real estate, rental, and leasing'] + df['Information']\n",
    "df['Oth_Serv'] = (df['Private services-producing industries [2]'] - df['TTU']\n",
    "                    - df['FIRE'])\n",
    "df['GoodsTTU'] = df['Private goods-producing industries [1]'] + df['TTU']\n",
    "\n",
    "dft = df / 1_000"
   ]
  },
  {
   "cell_type": "code",
   "execution_count": 12,
   "metadata": {
    "ExecuteTime": {
     "end_time": "2024-04-04T13:58:52.431673Z",
     "start_time": "2024-04-04T13:58:51.818465Z"
    },
    "code_folding": []
   },
   "outputs": [],
   "source": [
    "years = ','.join(map(str, range(2005, 2024)))\n",
    "\n",
    "url = (f'https://apps.bea.gov/api/data/?&UserID={bea_key}'+\n",
    "        '&method=GetData&DataSetName=GDPbyIndustry'+\n",
    "       f'&Year={years}&Industry=ALL&tableID=10&Frequency=Q'+\n",
    "        '&ResultFormat=json')\n",
    "\n",
    "r = requests.get(url)\n",
    "\n",
    "df = pd.DataFrame(json.loads(r.text)['BEAAPI']['Results'][0]['Data'])\n",
    "df['Month'] = df.Quarter.map(qtrsrm)\n",
    "df['Day'] = 1\n",
    "df['Date'] = pd.to_datetime(df[['Year', 'Month', 'Day']])\n",
    "\n",
    "data = df.groupby(['Date', 'IndustrYDescription']).DataValue.max().unstack().astype('float')\n",
    "\n",
    "data = data.rename({'Private goods-producing industries<sup>2</sup>': \n",
    "                    'Private goods-producing industries [1]',\n",
    "                    'Private services-producing industries<sup>3</sup>': \n",
    "                    'Private services-producing industries [2]'}, axis=1)\n",
    "\n",
    "data = pd.concat([real_ann, dft.loc[:'2017-10-01'], data])\n",
    "\n",
    "data['TTU'] = data[['Utilities', 'Wholesale trade', 'Retail trade', \n",
    "                'Transportation and warehousing']].sum(axis=1)\n",
    "data['FIRE'] = data['Finance, insurance, real estate, rental, and leasing'] + data['Information']\n",
    "data['Oth_Serv'] = (data['Private services-producing industries [2]'] - data['TTU']\n",
    "                - data['FIRE'])\n",
    "data['Goods'] = data['Private goods-producing industries [1]']\n",
    "data['GoodsTTU'] = data['Private goods-producing industries [1]'] + data['TTU']\n",
    "\n",
    "data.to_csv(data_dir / 'gdpva_real.csv', index_label='date', float_format='%g')"
   ]
  },
  {
   "cell_type": "code",
   "execution_count": 13,
   "metadata": {
    "ExecuteTime": {
     "end_time": "2024-04-04T13:58:52.489003Z",
     "start_time": "2024-04-04T13:58:52.433350Z"
    }
   },
   "outputs": [
    {
     "name": "stdout",
     "output_type": "stream",
     "text": [
      "The first category combines private goods producing industries: agriculture, forestry, fishing, and hunting (0.8 percent of GDP in 2023 Q4); mining (1.4 percent of GDP); construction (4.5 percent); and manufacturing (10.3 percent), with trade, transportation, and utilities (TTU, combined 17.2 percent of GDP). The second category is finance, insurance, and real estate (FIRE, 20.7 percent of GDP in 2023 Q4) combined with the information industry (5.4 percent of GDP), labeled as FIRE+. \n",
      "\n",
      " The remaining private services-providing industries include: professional and business services (12.9 percent of GDP in 2023 Q4); education, health care, and social services (8.6 percent of GDP); and arts, entertainment, and recreation (4.5 percent). Separately, public-sector value added in production, at the federal, state, and local levels, is captured by the government category (11.4 percent of GDP).\n"
     ]
    }
   ],
   "source": [
    "pop = nipa_df(retrieve_table('T20100')['Data'], ['B230RC'])['B230RC'] / 1_000\n",
    "\n",
    "nom = pd.read_csv(data_dir / 'gdpva_nom.csv', parse_dates=['date'], index_col='date')\n",
    "real = pd.read_csv(data_dir / 'gdpva_real.csv', parse_dates=['date'], index_col='date')\n",
    "\n",
    "adj = ((real / real.iloc[-1]) * nom.iloc[-1]).div(pop, axis=0).dropna(how='all')\n",
    "\n",
    "srs1 = ['Government', 'FIRE', 'GoodsTTU', 'Oth_Serv', 'Federal', 'State and local']\n",
    "adj[srs1].to_csv(data_dir / 'gdpva_pc.csv', index_label='date', float_format='%g')\n",
    "\n",
    "ltdt = dtxt(adj.index[-1])['qtr1']\n",
    "write_txt(text_dir / 'gdpva_ltdt.txt', ltdt)\n",
    "\n",
    "ltdate = dtxt(nom.index[-1])['qtr1']\n",
    "\n",
    "sh = nom.iloc[-1].divide(nom['Gross domestic product'].iloc[-1], axis=0) * 100\n",
    "ag = sh['Agriculture, forestry, fishing, and hunting']\n",
    "mn = sh['Mining']\n",
    "con = sh['Construction']\n",
    "mfg = sh['Manufacturing']\n",
    "ttu = sh['TTU']\n",
    "fi = sh['Finance, insurance, real estate, rental, and leasing']\n",
    "info = sh['Information']\n",
    "pbs = sh['Professional and business services']\n",
    "ehs = sh['Educational services, health care, and social assistance']\n",
    "aer = sh['Arts, entertainment, recreation, accommodation, and food services']\n",
    "gov = sh['Government']\n",
    "\n",
    "text = ('The first category combines private goods producing industries: '+\n",
    "        f'agriculture, forestry, fishing, and hunting ({ag:.1f} percent '+\n",
    "        f'of GDP in {ltdate}); mining ({mn:.1f} percent of GDP); construction '+\n",
    "        f'({con:.1f} percent); and manufacturing ({mfg:.1f} percent), with '+\n",
    "        f'trade, transportation, and utilities (TTU, combined {ttu:.1f} '+\n",
    "        'percent of GDP). The second category is finance, insurance, and '+\n",
    "        f'real estate (FIRE, {fi:.1f} percent of GDP in {ltdate}) '+\n",
    "        f'combined with the information industry ({info:.1f} percent of GDP), '+\n",
    "        'labeled as FIRE+. \\n\\n The remaining private services-providing industries '+\n",
    "        f'include: professional and business services ({pbs:.1f} percent of '+\n",
    "        f'GDP in {ltdate}); education, health care, and social services '+\n",
    "        f'({ehs:.1f} percent of GDP); and arts, entertainment, and recreation '+\n",
    "        f'({aer:.1f} percent). Separately, public-sector value added in '+\n",
    "        'production, at the federal, state, and local levels, is captured '+\n",
    "        f'by the government category ({gov:.1f} percent of GDP).')\n",
    "write_txt(text_dir / 'gdpva_sh.txt', text)\n",
    "print(text)"
   ]
  },
  {
   "cell_type": "code",
   "execution_count": 14,
   "metadata": {
    "ExecuteTime": {
     "end_time": "2024-04-04T13:58:52.510175Z",
     "start_time": "2024-04-04T13:58:52.490253Z"
    }
   },
   "outputs": [
    {
     "name": "stdout",
     "output_type": "stream",
     "text": [
      "In 2023 Q4, private goods-producing industries and the trade, transportation, and utilities industries add \\$28,507 per person in domestic production, on an annualized basis, compared to \\$28,100 in 2023 Q3 (see {\\color{purple!70!blue}\\textbf{---}}). Private finance, insurance, real estate, and information industry services add \\$21,718 in combined value, per capita in 2023 Q4 and \\$19,360 in 2023 Q3 (see {\\color{red!90!white}\\textbf{---}}). \n",
      "\n",
      " All other private services-producing industries combined value added per person is \\$23,527 in 2023 Q4 and \\$21,318 in 2023 Q3 (see {\\color{blue!90!white}\\textbf{---}}). Government value added is \\$9,473 per person in 2023 Q4 and \\$9,398 in 2023 Q3 (see {\\color{orange!80!white}\\textbf{---}}). \n"
     ]
    }
   ],
   "source": [
    "colors = {'GoodsTTU': 'purple!70!blue', 'FIRE': 'red!90!white', \n",
    "          'Oth_Serv': 'blue!90!white', 'Government': 'orange!80!white'}\n",
    "cl = {k: c_line(color) for k, color in colors.items()}\n",
    "aval = adj.multiply(1000).applymap('\\${:,.0f}'.format)\n",
    "alt = aval.iloc[-1]\n",
    "apr = aval.loc[prdt]\n",
    "\n",
    "text = (f'In {ltdate}, private goods-producing industries and the trade, '+\n",
    "        f'transportation, and utilities industries add {alt.GoodsTTU} '+\n",
    "        f'per person in domestic production, on an annualized basis, compared '+\n",
    "        f'to {apr.GoodsTTU} in {prdate} {cl[\"GoodsTTU\"]}. Private finance, '+\n",
    "        'insurance, real estate, and information industry services '+\n",
    "        f'add {alt.FIRE} in combined value, per capita in {ltdate} and '+\n",
    "        f'{apr.FIRE} in {prdate} {cl[\"FIRE\"]}. \\n\\n All other private '+\n",
    "        'services-producing industries combined value added per person '+\n",
    "        f'is {alt.Oth_Serv} in {ltdate} and {apr.Oth_Serv} in {prdate} '+\n",
    "        f'{cl[\"Oth_Serv\"]}. Government value added is {alt.Government} '+\n",
    "        f'per person in {ltdate} and {apr.Government} in {prdate} '+\n",
    "        f'{cl[\"Government\"]}. ')\n",
    "write_txt(text_dir / 'gdpva_pc.txt', text)\n",
    "print(text)"
   ]
  },
  {
   "cell_type": "code",
   "execution_count": 15,
   "metadata": {
    "ExecuteTime": {
     "end_time": "2024-04-04T13:58:52.522756Z",
     "start_time": "2024-04-04T13:58:52.511591Z"
    }
   },
   "outputs": [],
   "source": [
    "n1 = {'GoodsTTU': '\\hspace{0.5mm} {\\color{purple!70!blue}\\\\textbf{---}} Goods and TTU ',\n",
    "      'Manufacturing': '\\hspace{6mm} Manufacturing ',\n",
    "      'Construction': '\\hspace{6mm} Construction ',\n",
    "      'Retail trade': '\\hspace{6mm} Retail Trade ',\n",
    "      'FIRE': '\\hspace{0.5mm} {\\color{red!90!white}\\\\textbf{---}} FIRE+ ',\n",
    "      'Finance and insurance': '\\hspace{6mm} Finance \\& Insurance ',\n",
    "      'Information': '\\hspace{6mm} Information ',\n",
    "      'Oth_Serv': '\\hspace{0.5mm} {\\color{blue!90!white}\\\\textbf{---}} Other Services ',\n",
    "      'Educational services, health care, and social assistance': '\\hspace{6mm} Education \\& Healthcare ',\n",
    "      'Professional and business services': '\\hspace{6mm} Professional \\& Business',\n",
    "      'Government': '\\hspace{0.5mm} {\\color{orange!80!white}\\\\textbf{---}} Government '}\n",
    "\n",
    "lt = adj[n1.keys()].rename(n1, axis=1).iloc[[-1, -2]]\n",
    "pc = adj[n1.keys()].rename(n1, axis=1).loc[[prdt, '2005-01-01', '1997-07-01']]\n",
    "tbl = pd.concat([lt, pc]).T * 1_000\n",
    "tbl = tbl.applymap('{:,.0f}'.format)\n",
    "tbl.iloc[0, 0] = f'\\${tbl.iloc[0, 0]}'\n",
    "tbl.columns = [dtxt(i)['qtr1'] for i in tbl.columns[:-1]] + ['1997 (A)']\n",
    "tbl.to_csv(data_dir / 'gdpva_pc.tex', sep='&', lineterminator='\\\\\\ ', quotechar=' ')"
   ]
  },
  {
   "cell_type": "code",
   "execution_count": null,
   "metadata": {},
   "outputs": [],
   "source": []
  },
  {
   "cell_type": "markdown",
   "metadata": {},
   "source": [
    "### Government value added"
   ]
  },
  {
   "cell_type": "code",
   "execution_count": 16,
   "metadata": {
    "ExecuteTime": {
     "end_time": "2024-04-04T13:58:52.536462Z",
     "start_time": "2024-04-04T13:58:52.523993Z"
    }
   },
   "outputs": [
    {
     "name": "stdout",
     "output_type": "stream",
     "text": [
      "In the fourth quarter of 2023, the federal government value added in domestic production is \\$1018 billion, equivalent to \\$3,032 per capita (see {\\color{blue!70!white}\\textbf{---}}). In 2023 Q3, federal government added \\$2,948 in value to domestic production, per capita, after adjusting for inflation. \n",
      "\n",
      "State and local governments added \\$2,164 billion in production value in 2023 Q4 and \\$1,851 billion in 2023 Q3, equivalent after inflation to \\$6,440 and \\$6,445 per capita, respectively (see {\\color{red}\\textbf{---}}).\n"
     ]
    }
   ],
   "source": [
    "nom = pd.read_csv(data_dir / 'gdpva_nom.csv', parse_dates=True, index_col='date')\n",
    "\n",
    "ltdt1 = dtxt(nom.index[-1])['qtr2']\n",
    "ltdt = dtxt(nom.index[-1])['qtr1']\n",
    "\n",
    "fltvaln = nom['Federal'].iloc[-1]\n",
    "sltvaln = nom['State and local'].iloc[-1]\n",
    "sprvaln = nom.loc[prdt, 'State and local']\n",
    "\n",
    "fedcol = 'blue!70!white'\n",
    "slgcol = 'red'\n",
    "text = (f'In {ltdt1}, the federal government value added in domestic '+\n",
    "        f'production is \\${fltvaln:.0f} billion, equivalent to {alt.Federal} '+\n",
    "        f'per capita {c_line(fedcol)}. In {prdate}, federal government added '+\n",
    "        f'{apr.Federal} in value to domestic production, per capita, '+\n",
    "        'after adjusting for inflation. \\n\\nState and local governments '+\n",
    "        f'added \\${sltvaln:,.0f} billion in production value in {ltdt} '+\n",
    "        f'and \\${sprvaln:,.0f} billion in {prdate}, equivalent after inflation '+\n",
    "        f'to {alt[\"State and local\"]} and {apr[\"State and local\"]} per capita, '+\n",
    "        f'respectively {c_line(slgcol)}.')\n",
    "write_txt(text_dir / 'govva.txt', text)\n",
    "print(text)"
   ]
  },
  {
   "cell_type": "code",
   "execution_count": null,
   "metadata": {},
   "outputs": [],
   "source": []
  }
 ],
 "metadata": {
  "kernelspec": {
   "display_name": "Python 3 (ipykernel)",
   "language": "python",
   "name": "python3"
  },
  "language_info": {
   "codemirror_mode": {
    "name": "ipython",
    "version": 3
   },
   "file_extension": ".py",
   "mimetype": "text/x-python",
   "name": "python",
   "nbconvert_exporter": "python",
   "pygments_lexer": "ipython3",
   "version": "3.8.13"
  }
 },
 "nbformat": 4,
 "nbformat_minor": 2
}
