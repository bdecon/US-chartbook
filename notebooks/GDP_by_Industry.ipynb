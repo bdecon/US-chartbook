{
 "cells": [
  {
   "cell_type": "markdown",
   "metadata": {},
   "source": [
    "### GDP by Industry / Value Added\n",
    "\n",
    "Covers basic broad categories. Still need to expand discussion to cover levels (per capita) and add text that covers both levels and changes. \n",
    "\n",
    "https://apps.bea.gov/iTable/iTable.cfm?ReqID=51&step=1\n",
    "\n",
    "In the latest data, the quarter format is different (Q1 instead of I). I manually replaced the row containing the quarter. "
   ]
  },
  {
   "cell_type": "code",
   "execution_count": 1,
   "metadata": {
    "ExecuteTime": {
     "end_time": "2021-11-01T17:49:48.906491Z",
     "start_time": "2021-11-01T17:49:48.163247Z"
    }
   },
   "outputs": [],
   "source": [
    "import sys\n",
    "sys.path.append('../src')\n",
    "\n",
    "import uschartbook.config\n",
    "\n",
    "from uschartbook.config import *\n",
    "from uschartbook.utils import *\n",
    "\n",
    "qtrsrm = {'I': 1, 'II': 4, 'III': 7, 'IV': 10}"
   ]
  },
  {
   "cell_type": "markdown",
   "metadata": {},
   "source": [
    "### Contribution to GDP"
   ]
  },
  {
   "cell_type": "markdown",
   "metadata": {},
   "source": [
    "##### Historical Data"
   ]
  },
  {
   "cell_type": "code",
   "execution_count": 2,
   "metadata": {
    "ExecuteTime": {
     "end_time": "2021-11-01T17:49:48.952307Z",
     "start_time": "2021-11-01T17:49:48.907595Z"
    }
   },
   "outputs": [],
   "source": [
    "s = ['Quarter', 'Government', 'Utilities', 'Wholesale trade', 'Retail trade', \n",
    "     'Transportation and warehousing', 'Private goods-producing industries [1]',\n",
    "     'Private services-producing industries [2]',\n",
    "     'Finance, insurance, real estate, rental, and leasing',\n",
    "     'Educational services, health care, and social assistance', \n",
    "     'Construction', 'Manufacturing', 'Information', \n",
    "     'Professional and business services']\n",
    "\n",
    "d = {}\n",
    "for dset in [1, 2]:\n",
    "    # Adjust top and bottom line 1, 2 (downloaded data manually)\n",
    "    df = pd.read_csv(f'raw/gdpbyindustry{dset}.csv', skiprows=4).T\n",
    "\n",
    "    columns = df.iloc[1].str.strip()\n",
    "    if dset == 3:\n",
    "        columns[0] = 'Quarter'\n",
    "\n",
    "    df.columns = columns\n",
    "\n",
    "    si = [i for i in s if i in df.keys()]\n",
    "    df = df.iloc[2:].loc[:, si]\n",
    "\n",
    "    if dset == 3:\n",
    "        dates = list(zip([dt[:4] for dt in df.index], df.Quarter.map(qtrsrm).values))\n",
    "        date_index = pd.to_datetime([f'{year}-{month}-01' for year, month in dates])\n",
    "\n",
    "        df = (df.reset_index().drop(['index', 'Quarter'], axis=1)\n",
    "                .set_index(date_index).astype(float))\n",
    "\n",
    "    else:\n",
    "        dates = pd.to_datetime([f'{year}-01-01' for year in df.index])\n",
    "        df = (df.reset_index().drop(['index'], axis=1)\n",
    "                .set_index(dates).astype(float))    \n",
    "\n",
    "    df.index.name = 'date'\n",
    "    df['TTU'] = df[['Utilities', 'Wholesale trade', 'Retail trade', \n",
    "                    'Transportation and warehousing']].sum(axis=1)\n",
    "    \n",
    "    df['FIRE'] = df['Finance, insurance, real estate, rental, and leasing'] + df['Information']\n",
    "\n",
    "    df['Oth_Serv'] = (df['Private services-producing industries [2]'] - df['TTU']\n",
    "                      - df['FIRE'])\n",
    "\n",
    "    df['GoodsTTU'] = df['Private goods-producing industries [1]'] + df['TTU']\n",
    "\n",
    "    d[dset] = df"
   ]
  },
  {
   "cell_type": "code",
   "execution_count": 3,
   "metadata": {
    "ExecuteTime": {
     "end_time": "2021-11-01T17:49:52.499762Z",
     "start_time": "2021-11-01T17:49:48.954046Z"
    }
   },
   "outputs": [],
   "source": [
    "years = ','.join(map(str, range(2004, 2022)))\n",
    "\n",
    "url = (f'https://apps.bea.gov/api/data/?&UserID={bea_key}'+\n",
    "        '&method=GetData&DataSetName=GDPbyIndustry'+\n",
    "       f'&Year={years}&Industry=ALL&tableID=13&Frequency=Q'+\n",
    "        '&ResultFormat=json')\n",
    "\n",
    "r = requests.get(url)\n",
    "\n",
    "df = pd.DataFrame(json.loads(r.text)['BEAAPI']['Results'][0]['Data'])\n",
    "df['Month'] = df.Quarter.map(qtrsrm)\n",
    "df['Day'] = 1\n",
    "df['Date'] = pd.to_datetime(df[['Year', 'Month', 'Day']])\n",
    "\n",
    "data = df.groupby(['Date', 'IndustrYDescription']).DataValue.max().unstack().astype('float')\n",
    "\n",
    "data['TTU'] = data[['Utilities', 'Wholesale trade', 'Retail trade', \n",
    "                'Transportation and warehousing']].sum(axis=1)\n",
    "\n",
    "data['FIRE'] = data['Finance, insurance, real estate, rental, and leasing'] + data['Information']\n",
    "\n",
    "data['Oth_Serv'] = (data['Private services-producing industries<sup>2</sup>'] - data['TTU']\n",
    "                - data['FIRE'])\n",
    "\n",
    "data['GoodsTTU'] = data['Private goods-producing industries<sup>1</sup>'] + data['TTU']\n",
    "\n",
    "data = data.rename({'Private goods-producing industries<sup>1</sup>': \n",
    "                    'Private goods-producing industries [1]',\n",
    "                    'Private services-producing industries<sup>2</sup>': \n",
    "                    'Private services-producing industries [2]'}, axis=1)\n",
    "\n",
    "srs = ['Government', 'Oth_Serv', 'FIRE', 'GoodsTTU', \n",
    "       'Educational services, health care, and social assistance', \n",
    "       'Construction', 'Manufacturing', 'Retail trade', 'Information',\n",
    "       'Professional and business services']\n",
    "\n",
    "srs1 = ['Government', 'Oth_Serv', 'FIRE', 'GoodsTTU']\n",
    "data1 = d[1].append(d[2]).loc['1989':'2005'].resample('QS').pad().iloc[:-1]\n",
    "final = data1.append(data)\n",
    "final.to_csv(data_dir / 'gdpvafull.csv', index_label='date', float_format='%g')\n",
    "final[srs1].to_csv(data_dir / 'gdpva.csv', index_label='date', float_format='%g')"
   ]
  },
  {
   "cell_type": "code",
   "execution_count": 4,
   "metadata": {
    "ExecuteTime": {
     "end_time": "2021-11-01T17:49:52.511460Z",
     "start_time": "2021-11-01T17:49:52.500765Z"
    }
   },
   "outputs": [],
   "source": [
    "lt = final[srs1].iloc[-1]\n",
    "pr = final[srs1].iloc[-2]\n",
    "pcdt = '2019-10-01'\n",
    "pc = final.loc[pcdt, srs1]\n",
    "ltdate = dtxt(final.index[-1])['qtr1']\n",
    "prdate = dtxt(final.index[-2])['qtr1']\n",
    "pcdate = dtxt(pd.to_datetime(pcdt))['qtr1']\n",
    "\n",
    "gttu = f\"{lt['GoodsTTU']:.1f}\"\n",
    "prgttu = value_text(pr['GoodsTTU'], style='contribution_of', ptype='pp')\n",
    "pcgttu = value_text(pc['GoodsTTU'], style='contribution_of', ptype='pp')\n",
    "\n",
    "fire = value_text(lt['FIRE'], style='contribution', ptype='pp')\n",
    "prfire = value_text(pr['FIRE'], style='contribution', ptype='pp')\n",
    "pcfire = value_text(pc['FIRE'], style='contribution', ptype='pp')\n",
    "\n",
    "oths = value_text(lt['Oth_Serv'], style='contribution_to', ptype='pp')\n",
    "proths = value_text(pr['Oth_Serv'], style='contribution_of', ptype='pp')\n",
    "pcoths = value_text(pc['Oth_Serv'], style='contribution_of', ptype='pp')\n",
    "\n",
    "gov = value_text(lt['Government'], style='contribution', ptype='pp')\n",
    "prgov = value_text(pr['Government'], style='contribution', ptype='pp')\n",
    "pcgov = value_text(pc['Government'], style='contribution', ptype='pp')"
   ]
  },
  {
   "cell_type": "code",
   "execution_count": 5,
   "metadata": {
    "ExecuteTime": {
     "end_time": "2021-11-01T17:49:52.519290Z",
     "start_time": "2021-11-01T17:49:52.512610Z"
    }
   },
   "outputs": [
    {
     "name": "stdout",
     "output_type": "stream",
     "text": [
      "In 2021 Q2, the combined contribution to GDP growth from private goods-producing industries and trade, transportation, and utilities is -0.1 percentage points, following a contribution of 2.3 percentage points in 2021 Q1, and compared to a subtraction of 0.0 percentage point in 2019 Q4. The group of private service-providing industries that include finance, insurance, real estate, as well as the information industry contributed 2.2 percentage points in 2021 Q2, contributed 2.1 percentage points in 2021 Q1, and contributed 1.2 percentage points in 2019 Q4. \n",
      "\n",
      " Other private services-providing industries, which are wide-ranging and described above, contributed 4.1 percentage points to real GDP growth in 2021 Q1, following a contribution of 1.8 percentage points in 2021 Q1, and compared to a contribution of 0.1 percentage point in 2019 Q4. Combined federal, state, and local government contributed 0.4 percentage point in 2021 Q2, contributed 0.1 percentage point the prior quarter, and contributed 0.6 percentage point in 2019 Q4, prior to the pandemic.\n"
     ]
    }
   ],
   "source": [
    "text = (f'In {ltdate}, the combined contribution to GDP growth from '+\n",
    "        'private goods-producing industries and trade, transportation, '+\n",
    "        f'and utilities is {gttu} percentage points, following {prgttu} '+\n",
    "        f'in {prdate}, and compared to {pcgttu} in {pcdate}. The group '+\n",
    "        'of private service-providing industries that include finance, '+\n",
    "        'insurance, real estate, as well as the information industry '+\n",
    "        f'{fire} in {ltdate}, {prfire} in {prdate}, and {pcfire} '+\n",
    "        f'in {pcdate}. \\n\\n Other private services-providing industries, '+\n",
    "        f'which are wide-ranging and described above, {oths} real GDP '+\n",
    "        f'growth in {prdate}, '+\n",
    "        f'following {proths} in {prdate}, and compared to {pcoths} in '+\n",
    "        f'{pcdate}. Combined federal, state, and local government '+\n",
    "        f'{gov} in {ltdate}, {prgov} the prior quarter, and {pcgov} '+\n",
    "        f'in {pcdate}, prior to the pandemic.')\n",
    "write_txt(text_dir / 'gdpva_growth.txt', text)\n",
    "print(text)"
   ]
  },
  {
   "cell_type": "code",
   "execution_count": null,
   "metadata": {},
   "outputs": [],
   "source": []
  },
  {
   "cell_type": "code",
   "execution_count": null,
   "metadata": {},
   "outputs": [],
   "source": []
  },
  {
   "cell_type": "code",
   "execution_count": null,
   "metadata": {},
   "outputs": [],
   "source": []
  },
  {
   "cell_type": "markdown",
   "metadata": {},
   "source": [
    "### Nominal"
   ]
  },
  {
   "cell_type": "code",
   "execution_count": 6,
   "metadata": {
    "ExecuteTime": {
     "end_time": "2021-11-01T17:49:52.535555Z",
     "start_time": "2021-11-01T17:49:52.520548Z"
    }
   },
   "outputs": [],
   "source": [
    "nom_ann = pd.read_csv('../data/GDPVA_nom.csv', skiprows=4).dropna().T.iloc[1:]\n",
    "nom_ann.columns = nom_ann.iloc[0].str.strip()\n",
    "nom_ann.columns.name = 'IndustrYDescription'\n",
    "nom_ann = nom_ann.iloc[1:]\n",
    "nom_ann.index = pd.to_datetime([f\"{i}-07-01\" for i in nom_ann.index])\n",
    "nom_ann.index.name = 'Date'\n",
    "\n",
    "# Duplicate columns dropped:\n",
    "nom_ann = nom_ann.loc[:,~nom_ann.columns.duplicated()]\n",
    "\n",
    "nom_ann = nom_ann.rename({'Private goods-producing industries1': \n",
    "                          'Private goods-producing industries [1]',\n",
    "                          'Private services-producing industries2': \n",
    "                          'Private services-producing industries [2]'}, axis=1)"
   ]
  },
  {
   "cell_type": "code",
   "execution_count": 7,
   "metadata": {
    "ExecuteTime": {
     "end_time": "2021-11-01T17:49:53.719554Z",
     "start_time": "2021-11-01T17:49:52.537199Z"
    }
   },
   "outputs": [],
   "source": [
    "years = ','.join(map(str, range(2005, 2022)))\n",
    "\n",
    "url = (f'https://apps.bea.gov/api/data/?&UserID={bea_key}'+\n",
    "        '&method=GetData&DataSetName=GDPbyIndustry'+\n",
    "       f'&Year={years}&Industry=ALL&tableID=1&Frequency=Q'+\n",
    "        '&ResultFormat=json')\n",
    "\n",
    "r = requests.get(url)\n",
    "\n",
    "df = pd.DataFrame(json.loads(r.text)['BEAAPI']['Results'][0]['Data'])\n",
    "df['Month'] = df.Quarter.map(qtrsrm)\n",
    "df['Day'] = 1\n",
    "df['Date'] = pd.to_datetime(df[['Year', 'Month', 'Day']])\n",
    "\n",
    "data = df.groupby(['Date', 'IndustrYDescription']).DataValue.max().unstack().astype('float')\n",
    "\n",
    "data = data.rename({'Private goods-producing industries<sup>1</sup>': \n",
    "                    'Private goods-producing industries [1]',\n",
    "                    'Private services-producing industries<sup>2</sup>': \n",
    "                    'Private services-producing industries [2]'}, axis=1)\n",
    "\n",
    "data = nom_ann.append(data)\n",
    "\n",
    "data['TTU'] = data[['Utilities', 'Wholesale trade', 'Retail trade', \n",
    "                'Transportation and warehousing']].sum(axis=1)\n",
    "\n",
    "data['FIRE'] = data['Finance, insurance, real estate, rental, and leasing'] + data['Information']\n",
    "\n",
    "data['Oth_Serv'] = (data['Private services-producing industries [2]'] - data['TTU']\n",
    "                - data['FIRE'])\n",
    "\n",
    "data['Goods'] = data['Private goods-producing industries [1]']\n",
    "\n",
    "data['GoodsTTU'] = data['Private goods-producing industries [1]'] + data['TTU']\n",
    "\n",
    "data.to_csv(data_dir / 'gdpva_nom.csv', index_label='date', float_format='%g')"
   ]
  },
  {
   "cell_type": "code",
   "execution_count": null,
   "metadata": {},
   "outputs": [],
   "source": []
  },
  {
   "cell_type": "markdown",
   "metadata": {},
   "source": [
    "### Real"
   ]
  },
  {
   "cell_type": "code",
   "execution_count": 8,
   "metadata": {
    "ExecuteTime": {
     "end_time": "2021-11-01T17:49:53.731322Z",
     "start_time": "2021-11-01T17:49:53.721039Z"
    }
   },
   "outputs": [],
   "source": [
    "real_ann = pd.read_csv('../data/GDPVA_real.csv', skiprows=4).dropna().T.iloc[1:]\n",
    "real_ann.columns = real_ann.iloc[0].str.strip()\n",
    "real_ann.columns.name = 'IndustrYDescription'\n",
    "real_ann = real_ann.iloc[1:]\n",
    "real_ann.index = pd.to_datetime([f\"{i}-07-01\" for i in real_ann.index])\n",
    "real_ann.index.name = 'Date'\n",
    "\n",
    "# Duplicate columns dropped:\n",
    "real_ann = real_ann.loc[:,~real_ann.columns.duplicated()]\n",
    "\n",
    "real_ann = real_ann.rename({'Private goods-producing industries2': \n",
    "                            'Private goods-producing industries [1]',\n",
    "                            'Private services-producing industries3': \n",
    "                            'Private services-producing industries [2]'}, axis=1)"
   ]
  },
  {
   "cell_type": "code",
   "execution_count": 9,
   "metadata": {
    "ExecuteTime": {
     "end_time": "2021-11-01T17:49:55.054949Z",
     "start_time": "2021-11-01T17:49:53.732355Z"
    },
    "code_folding": []
   },
   "outputs": [],
   "source": [
    "years = ','.join(map(str, range(2005, 2022)))\n",
    "\n",
    "url = (f'https://apps.bea.gov/api/data/?&UserID={bea_key}'+\n",
    "        '&method=GetData&DataSetName=GDPbyIndustry'+\n",
    "       f'&Year={years}&Industry=ALL&tableID=10&Frequency=Q'+\n",
    "        '&ResultFormat=json')\n",
    "\n",
    "r = requests.get(url)\n",
    "\n",
    "df = pd.DataFrame(json.loads(r.text)['BEAAPI']['Results'][0]['Data'])\n",
    "df['Month'] = df.Quarter.map(qtrsrm)\n",
    "df['Day'] = 1\n",
    "df['Date'] = pd.to_datetime(df[['Year', 'Month', 'Day']])\n",
    "\n",
    "data = df.groupby(['Date', 'IndustrYDescription']).DataValue.max().unstack().astype('float')\n",
    "\n",
    "data = data.rename({'Private goods-producing industries<sup>2</sup>': \n",
    "                    'Private goods-producing industries [1]',\n",
    "                    'Private services-producing industries<sup>3</sup>': \n",
    "                    'Private services-producing industries [2]'}, axis=1)\n",
    "\n",
    "data = real_ann.append(data)\n",
    "\n",
    "data['TTU'] = data[['Utilities', 'Wholesale trade', 'Retail trade', \n",
    "                'Transportation and warehousing']].sum(axis=1)\n",
    "\n",
    "data['FIRE'] = data['Finance, insurance, real estate, rental, and leasing'] + data['Information']\n",
    "\n",
    "data['Oth_Serv'] = (data['Private services-producing industries [2]'] - data['TTU']\n",
    "                - data['FIRE'])\n",
    "\n",
    "data['Goods'] = data['Private goods-producing industries [1]']\n",
    "\n",
    "data['GoodsTTU'] = data['Private goods-producing industries [1]'] + data['TTU']\n",
    "\n",
    "data.to_csv(data_dir / 'gdpva_real.csv', index_label='date', float_format='%g')"
   ]
  },
  {
   "cell_type": "code",
   "execution_count": 10,
   "metadata": {
    "ExecuteTime": {
     "end_time": "2021-11-01T17:49:55.110691Z",
     "start_time": "2021-11-01T17:49:55.056190Z"
    }
   },
   "outputs": [
    {
     "name": "stdout",
     "output_type": "stream",
     "text": [
      "The first category combines private goods producing industries: agriculture, forestry, fishing, and hunting (1.1 percent of GDP in 2021 Q2); mining (1.2 percent of GDP); construction (4.2 percent); and manufacturing (11.1 percent), with trade, transportation, and utilities (TTU, combined 16.5 percent of GDP). The second category is finance, insurance, and real estate (FIRE, 21.3 percent of GDP in 2021 Q2) combined with the information industry (5.7 percent of GDP), labeled as FIRE+. \n",
      "\n",
      " The remaining private services-providing industries include: professional and business services (12.9 percent of GDP in 2021 Q2); education, health care, and social services (8.4 percent of GDP); arts, entertainment, and recreation (3.6 percent). Separately, public-sector value added in production, at the federal, state, and local levels, is captured by the government category (12.1 percent of GDP).\n"
     ]
    }
   ],
   "source": [
    "pop = nipa_df(retrieve_table('T20100')['Data'], ['B230RC'])['B230RC'] / 1_000\n",
    "\n",
    "nom = pd.read_csv(data_dir / 'gdpva_nom.csv', parse_dates=['date'], index_col='date')\n",
    "real = pd.read_csv(data_dir / 'gdpva_real.csv', parse_dates=['date'], index_col='date')\n",
    "\n",
    "adj = ((real / real.iloc[-1]) * nom.iloc[-1]).div(pop, axis=0).dropna(how='all')\n",
    "\n",
    "srs1 = ['Government', 'FIRE', 'GoodsTTU', 'Oth_Serv', 'Federal', 'State and local']\n",
    "adj[srs1].to_csv(data_dir / 'gdpva_pc.csv', index_label='date', float_format='%g')\n",
    "\n",
    "ltdt = dtxt(adj.index[-1])['qtr1']\n",
    "write_txt(text_dir / 'gdpva_ltdt.txt', ltdt)\n",
    "\n",
    "ltdate = dtxt(nom.index[-1])['qtr1']\n",
    "\n",
    "sh = nom.iloc[-1].divide(nom['Gross domestic product'].iloc[-1], axis=0) * 100\n",
    "ag = sh['Agriculture, forestry, fishing, and hunting']\n",
    "mn = sh['Mining']\n",
    "con = sh['Construction']\n",
    "mfg = sh['Manufacturing']\n",
    "ttu = sh['TTU']\n",
    "fi = sh['Finance, insurance, real estate, rental, and leasing']\n",
    "info = sh['Information']\n",
    "pbs = sh['Professional and business services']\n",
    "ehs = sh['Educational services, health care, and social assistance']\n",
    "aer = sh['Arts, entertainment, recreation, accommodation, and food services']\n",
    "gov = sh['Government']\n",
    "\n",
    "text = ('The first category combines private goods producing industries: '+\n",
    "        f'agriculture, forestry, fishing, and hunting ({ag:.1f} percent '+\n",
    "        f'of GDP in {ltdate}); mining ({mn:.1f} percent of GDP); construction '+\n",
    "        f'({con:.1f} percent); and manufacturing ({mfg:.1f} percent), with '+\n",
    "        f'trade, transportation, and utilities (TTU, combined {ttu:.1f} '+\n",
    "        'percent of GDP). The second category is finance, insurance, and '+\n",
    "        f'real estate (FIRE, {fi:.1f} percent of GDP in {ltdate}) '+\n",
    "        f'combined with the information industry ({info:.1f} percent of GDP), '+\n",
    "        'labeled as FIRE+. \\n\\n The remaining private services-providing industries '+\n",
    "        f'include: professional and business services ({pbs:.1f} percent of '+\n",
    "        f'GDP in {ltdate}); education, health care, and social services '+\n",
    "        f'({ehs:.1f} percent of GDP); arts, entertainment, and recreation '+\n",
    "        f'({aer:.1f} percent). Separately, public-sector value added in '+\n",
    "        'production, at the federal, state, and local levels, is captured '+\n",
    "        f'by the government category ({gov:.1f} percent of GDP).')\n",
    "write_txt(text_dir / 'gdpva_sh.txt', text)\n",
    "print(text)"
   ]
  },
  {
   "cell_type": "code",
   "execution_count": 11,
   "metadata": {
    "ExecuteTime": {
     "end_time": "2021-11-01T17:49:55.118758Z",
     "start_time": "2021-11-01T17:49:55.111896Z"
    }
   },
   "outputs": [
    {
     "name": "stdout",
     "output_type": "stream",
     "text": [
      "In 2021 Q2, private goods producing industries and trade, transportation, and utilities combined value added per person is \\$23,420, on an annualized basis, compared to \\$23,585 in 2019 Q4 (see {\\color{purple!70!blue}\\textbf{---}}). Private finance, insurance, real estate, and information industry services combined value added per person is \\$18,542 in 2021 Q2 and \\$17,506 in 2019 Q4 (see {\\color{red!90!white}\\textbf{---}}). \n",
      "\n",
      " All other private services-producing industries combined value added per person is \\$18,417 in 2021 Q2 and \\$18,969 in 2019 Q4 (see {\\color{blue!90!white}\\textbf{---}}). Government value added is \\$8,281 per person in 2021 Q2 and \\$8,415 in 2019 Q4 (see {\\color{orange!80!white}\\textbf{---}}). \n"
     ]
    }
   ],
   "source": [
    "prdt = '2019-10-01'\n",
    "prdate = dtxt(pd.to_datetime(prdt))['qtr1']\n",
    "gttuval = f'\\${adj[\"GoodsTTU\"].iloc[-1] * 1_000:,.0f}'\n",
    "gttuprval = f'\\${adj.loc[prdt, \"GoodsTTU\"] * 1_000:,.0f}'\n",
    "fireval = f'\\${adj[\"FIRE\"].iloc[-1] * 1_000:,.0f}'\n",
    "fireprval = f'\\${adj.loc[prdt, \"FIRE\"] * 1_000:,.0f}'\n",
    "oservval = f'\\${adj[\"Oth_Serv\"].iloc[-1] * 1_000:,.0f}'\n",
    "oservprval = f'\\${adj.loc[prdt, \"Oth_Serv\"] * 1_000:,.0f}'\n",
    "govval = f'\\${adj[\"Government\"].iloc[-1] * 1_000:,.0f}'\n",
    "govprval = f'\\${adj.loc[prdt, \"Government\"] * 1_000:,.0f}'\n",
    "\n",
    "text = (f'In {ltdate}, private goods producing industries and trade, '+\n",
    "        'transportation, and utilities combined value added per person '+\n",
    "        f'is {gttuval}, on an annualized basis, compared to {gttuprval} '+\n",
    "        f'in {prdate} (see {{\\color{{purple!70!blue}}\\\\textbf{{---}}}}). Private '+\n",
    "        'finance, insurance, real estate, and information industry services '+\n",
    "        f'combined value added per person is {fireval} in {ltdate} and '+\n",
    "        f'{fireprval} in {prdate} (see '+\n",
    "        '{\\color{red!90!white}\\\\textbf{---}}). \\n\\n All other private '+\n",
    "        'services-producing industries combined value added per person '+\n",
    "        f'is {oservval} in {ltdate} and {oservprval} in {prdate} '+\n",
    "        '(see {\\color{blue!90!white}\\\\textbf{---}}). Government value added '+\n",
    "        f'is {govval} per person in {ltdate} '+\n",
    "        f'and {govprval} in {prdate} (see '+\n",
    "        '{\\color{orange!80!white}\\\\textbf{---}}). ')\n",
    "write_txt(text_dir / 'gdpva_pc.txt', text)\n",
    "print(text)"
   ]
  },
  {
   "cell_type": "code",
   "execution_count": 12,
   "metadata": {
    "ExecuteTime": {
     "end_time": "2021-11-01T17:49:55.136136Z",
     "start_time": "2021-11-01T17:49:55.119867Z"
    }
   },
   "outputs": [],
   "source": [
    "n1 = {'GoodsTTU': '\\hspace{0.5mm} {\\color{purple!70!blue}\\\\textbf{---}} Goods and TTU ',\n",
    "      'Manufacturing': '\\hspace{6mm} Manufacturing ',\n",
    "      'Construction': '\\hspace{6mm} Construction ',\n",
    "      'Retail trade': '\\hspace{6mm} Retail Trade ',\n",
    "      'FIRE': '\\hspace{0.5mm} {\\color{red!90!white}\\\\textbf{---}} FIRE+ ',\n",
    "      'Oth_Serv': '\\hspace{0.5mm} {\\color{blue!90!white}\\\\textbf{---}} Other Services ',\n",
    "      'Educational services, health care, and social assistance': '\\hspace{6mm} Education \\& Healthcare ',\n",
    "      'Professional and business services': '\\hspace{6mm} Professional \\& Business',\n",
    "      'Information': '\\hspace{6mm} Information ',\n",
    "      'Government': '\\hspace{0.5mm} {\\color{orange!80!white}\\\\textbf{---}} Government '}\n",
    "\n",
    "lt = adj[n1.keys()].rename(n1, axis=1).iloc[[-1, -2]]\n",
    "pc = adj[n1.keys()].rename(n1, axis=1).loc[[prdt, '2005-01-01', '1997-07-01']]\n",
    "tbl = lt.append(pc).T * 1_000\n",
    "tbl = tbl.applymap('{:,.0f}'.format)\n",
    "tbl.iloc[0, 0] = f'\\${tbl.iloc[0, 0]}'\n",
    "tbl.columns = [dtxt(i)['qtr1'] for i in tbl.columns[:-1]] + ['1997 (A)']\n",
    "tbl.to_csv(data_dir / 'gdpva_pc.tex', sep='&', line_terminator='\\\\\\ ', quotechar=' ')"
   ]
  },
  {
   "cell_type": "markdown",
   "metadata": {},
   "source": [
    "### Government value added"
   ]
  },
  {
   "cell_type": "code",
   "execution_count": 13,
   "metadata": {
    "ExecuteTime": {
     "end_time": "2021-11-01T17:49:55.148656Z",
     "start_time": "2021-11-01T17:49:55.137233Z"
    }
   },
   "outputs": [
    {
     "name": "stdout",
     "output_type": "stream",
     "text": [
      "In the second quarter of 2021, the federal government value added in domestic production is \\$875.1 billion, equivalent to \\$2,642 per capita (see {\\color{blue!70!white}\\textbf{---}}). In 2019 Q4, federal government value added in production was equivalent to \\$2,602 per capita, after adjusting for inflation.  \n",
      "\n",
      " State and local government value added in domestic production is \\$1,867.6 billion in 2021 Q2 and \\$1,840.0 billion in 2019 Q4, equivalent to \\$5,639 and \\$5,810 per capita, respectively (see {\\color{red}\\textbf{---}}).\n"
     ]
    }
   ],
   "source": [
    "ltdt1 = dtxt(adj.index[-1])['qtr2']\n",
    "ltdt = dtxt(adj.index[-1])['qtr1']\n",
    "\n",
    "fltval = adj['Federal'].iloc[-1] * 1_000\n",
    "fprval = adj.loc[prdt, 'Federal'] * 1_000\n",
    "\n",
    "sltval = adj['State and local'].iloc[-1] * 1_000\n",
    "sprval = adj.loc[prdt, 'State and local'] * 1_000\n",
    "\n",
    "fltvaln = nom['Federal'].iloc[-1]\n",
    "sltvaln = nom['State and local'].iloc[-1]\n",
    "sprvaln = nom.loc[prdt, 'State and local']\n",
    "\n",
    "text = (f'In {ltdt1}, the federal government value added in domestic production '+\n",
    "        f'is \\${fltvaln:.1f} billion, equivalent to \\${fltval:,.0f} per capita '+\n",
    "        f'(see {{\\color{{blue!70!white}}\\\\textbf{{---}}}}). In {prdate}, federal '+\n",
    "        f'government value added in production was equivalent to \\${fprval:,.0f} '+\n",
    "        'per capita, after adjusting for inflation.  \\n\\n State and local government '+\n",
    "        f'value added in domestic production is \\${sltvaln:,.1f} billion in {ltdt} '+\n",
    "        f'and \\${sprvaln:,.1f} billion in {prdate}, equivalent to \\${sltval:,.0f} '+\n",
    "        f'and \\${sprval:,.0f} per capita, respectively '+\n",
    "        '(see {\\color{red}\\\\textbf{---}}).')\n",
    "write_txt(text_dir / 'govva.txt', text)\n",
    "print(text)"
   ]
  },
  {
   "cell_type": "code",
   "execution_count": null,
   "metadata": {},
   "outputs": [],
   "source": []
  },
  {
   "cell_type": "code",
   "execution_count": null,
   "metadata": {},
   "outputs": [],
   "source": []
  },
  {
   "cell_type": "code",
   "execution_count": null,
   "metadata": {},
   "outputs": [],
   "source": []
  },
  {
   "cell_type": "code",
   "execution_count": null,
   "metadata": {},
   "outputs": [],
   "source": []
  }
 ],
 "metadata": {
  "kernelspec": {
   "display_name": "Python 3",
   "language": "python",
   "name": "python3"
  },
  "language_info": {
   "codemirror_mode": {
    "name": "ipython",
    "version": 3
   },
   "file_extension": ".py",
   "mimetype": "text/x-python",
   "name": "python",
   "nbconvert_exporter": "python",
   "pygments_lexer": "ipython3",
   "version": "3.8.8"
  }
 },
 "nbformat": 4,
 "nbformat_minor": 2
}
