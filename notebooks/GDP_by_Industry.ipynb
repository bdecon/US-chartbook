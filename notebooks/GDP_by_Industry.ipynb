{
 "cells": [
  {
   "cell_type": "markdown",
   "metadata": {},
   "source": [
    "https://apps.bea.gov/iTable/iTable.cfm?reqid=147&step=51&isuri=1&table_list=13"
   ]
  },
  {
   "cell_type": "code",
   "execution_count": 1,
   "metadata": {
    "ExecuteTime": {
     "end_time": "2019-10-30T02:17:06.386814Z",
     "start_time": "2019-10-30T02:17:06.091176Z"
    }
   },
   "outputs": [],
   "source": [
    "import sys\n",
    "sys.path.append('../src')\n",
    "\n",
    "import uschartbook.config\n",
    "\n",
    "from uschartbook.config import *\n",
    "from uschartbook.utils import *\n",
    "\n",
    "qtrsrm = {'I': 1, 'II': 4, 'III': 7, 'IV': 10}"
   ]
  },
  {
   "cell_type": "code",
   "execution_count": 2,
   "metadata": {
    "ExecuteTime": {
     "end_time": "2019-10-30T02:17:06.391107Z",
     "start_time": "2019-10-30T02:17:06.388052Z"
    }
   },
   "outputs": [],
   "source": [
    "s = ['Quarter', 'Government', 'Utilities', 'Wholesale trade', 'Retail trade', \n",
    "     'Transportation and warehousing', 'Private goods-producing industries [1]',\n",
    "     'Private services-producing industries [2]',\n",
    "     'Finance, insurance, real estate, rental, and leasing',\n",
    "     'Educational services, health care, and social assistance', \n",
    "     'Construction', 'Manufacturing', 'Information', \n",
    "     'Professional and business services']"
   ]
  },
  {
   "cell_type": "code",
   "execution_count": 3,
   "metadata": {
    "ExecuteTime": {
     "end_time": "2019-10-30T02:17:06.450536Z",
     "start_time": "2019-10-30T02:17:06.395557Z"
    }
   },
   "outputs": [
    {
     "name": "stderr",
     "output_type": "stream",
     "text": [
      "/home/brian/miniconda3/lib/python3.7/site-packages/pandas/core/indexing.py:1418: FutureWarning: \n",
      "Passing list-likes to .loc or [] with any missing label will raise\n",
      "KeyError in the future, you can use .reindex() as an alternative.\n",
      "\n",
      "See the documentation here:\n",
      "https://pandas.pydata.org/pandas-docs/stable/user_guide/indexing.html#deprecate-loc-reindex-listlike\n",
      "  return self._getitem_tuple(key)\n"
     ]
    }
   ],
   "source": [
    "d = {}\n",
    "for dset in [1, 2, 3]:\n",
    "    # Adjust top and bottom line 1, 2, 3 (downloaded data manually)\n",
    "    df = pd.read_csv(f'raw/gdpbyindustry{dset}.csv', skiprows=4).T\n",
    "\n",
    "    columns = df.iloc[1].str.strip()\n",
    "    if dset == 3:\n",
    "        columns[0] = 'Quarter'\n",
    "\n",
    "    df.columns = columns\n",
    "\n",
    "    df = df.iloc[2:].loc[:, s]\n",
    "\n",
    "    if dset == 3:\n",
    "        dates = list(zip([dt[:4] for dt in df.index], df.Quarter.map(qtrsrm).values))\n",
    "        date_index = pd.to_datetime([f'{year}-{month}-01' for year, month in dates])\n",
    "\n",
    "        df = (df.reset_index().drop(['index', 'Quarter'], axis=1)\n",
    "                .set_index(date_index).astype(float))\n",
    "\n",
    "    else:\n",
    "        dates = pd.to_datetime([f'{year}-01-01' for year in df.index])\n",
    "        df = (df.reset_index().drop(['index', 'Quarter'], axis=1)\n",
    "                .set_index(dates).astype(float))    \n",
    "\n",
    "    df.index.name = 'date'\n",
    "    df['TTU'] = df[['Utilities', 'Wholesale trade', 'Retail trade', \n",
    "                    'Transportation and warehousing']].sum(axis=1)\n",
    "\n",
    "    df['Oth_Serv'] = (df['Private services-producing industries [2]'] - df['TTU']\n",
    "                      - df['Finance, insurance, real estate, rental, and leasing'])\n",
    "\n",
    "    df['FIRE'] = df['Finance, insurance, real estate, rental, and leasing']\n",
    "\n",
    "    df['GoodsTTU'] = df['Private goods-producing industries [1]'] + df['TTU']\n",
    "\n",
    "    d[dset] = df"
   ]
  },
  {
   "cell_type": "code",
   "execution_count": 4,
   "metadata": {
    "ExecuteTime": {
     "end_time": "2019-10-30T02:17:06.477190Z",
     "start_time": "2019-10-30T02:17:06.451828Z"
    }
   },
   "outputs": [],
   "source": [
    "r = (d[1].append(d[2]).loc['1989':'2005'].resample('QS').pad().iloc[:-1]\n",
    "    .append((d[1].append(d[2]).loc['2005'] - (d[3].loc['2005'].sum() / 3)).append(d[3])))\n",
    "\n",
    "(r[['Government', 'Oth_Serv', 'FIRE', 'GoodsTTU']]\n",
    " .to_csv(data_dir / 'gdpva.csv', index_label='date', float_format='%g'))"
   ]
  },
  {
   "cell_type": "code",
   "execution_count": 5,
   "metadata": {
    "ExecuteTime": {
     "end_time": "2019-10-30T02:17:06.486775Z",
     "start_time": "2019-10-30T02:17:06.478602Z"
    }
   },
   "outputs": [],
   "source": [
    "(r[['Government', 'Oth_Serv', 'FIRE', 'GoodsTTU', \n",
    "    'Educational services, health care, and social assistance', \n",
    "    'Construction', 'Manufacturing', 'Retail trade', 'Information',\n",
    "    'Professional and business services']]\n",
    " .to_csv(data_dir / 'gdpvafull.csv', index_label='date', float_format='%g'))"
   ]
  },
  {
   "cell_type": "code",
   "execution_count": 6,
   "metadata": {
    "ExecuteTime": {
     "end_time": "2019-09-26T12:54:09.201657Z",
     "start_time": "2019-09-26T12:54:09.183808Z"
    }
   },
   "outputs": [
    {
     "data": {
      "text/plain": [
       "[nan,\n",
       " 'Percent change:',\n",
       " '  Gross domestic product',\n",
       " 'Percentage points:',\n",
       " '  Private industries',\n",
       " '    Agriculture, forestry, fishing, and hunting',\n",
       " '      Farms',\n",
       " '      Forestry, fishing, and related activities',\n",
       " '    Mining',\n",
       " '      Oil and gas extraction',\n",
       " '      Mining, except oil and gas',\n",
       " '      Support activities for mining',\n",
       " '    Utilities',\n",
       " '    Construction',\n",
       " '    Manufacturing',\n",
       " '      Durable goods',\n",
       " '        Wood products',\n",
       " '        Nonmetallic mineral products',\n",
       " '        Primary metals',\n",
       " '        Fabricated metal products',\n",
       " '        Machinery',\n",
       " '        Computer and electronic products',\n",
       " '        Electrical equipment, appliances, and components',\n",
       " '        Motor vehicles, bodies and trailers, and parts',\n",
       " '        Other transportation equipment',\n",
       " '        Furniture and related products',\n",
       " '        Miscellaneous manufacturing',\n",
       " '      Nondurable goods',\n",
       " '        Food and beverage and tobacco products',\n",
       " '        Textile mills and textile product mills',\n",
       " '        Apparel and leather and allied products',\n",
       " '        Paper products',\n",
       " '        Printing and related support activities',\n",
       " '        Petroleum and coal products',\n",
       " '        Chemical products',\n",
       " '        Plastics and rubber products',\n",
       " '    Wholesale trade',\n",
       " '    Retail trade',\n",
       " '      Motor vehicle and parts dealers',\n",
       " '      Food and beverage stores',\n",
       " '      General merchandise stores',\n",
       " '      Other retail',\n",
       " '    Transportation and warehousing',\n",
       " '      Air transportation',\n",
       " '      Rail transportation',\n",
       " '      Water transportation',\n",
       " '      Truck transportation',\n",
       " '      Transit and ground passenger transportation',\n",
       " '      Pipeline transportation',\n",
       " '      Other transportation and support activities',\n",
       " '      Warehousing and storage',\n",
       " '    Information',\n",
       " '      Publishing industries, except internet (includes software)',\n",
       " '      Motion picture and sound recording industries',\n",
       " '      Broadcasting and telecommunications',\n",
       " '      Data processing, internet publishing, and other information services',\n",
       " '    Finance, insurance, real estate, rental, and leasing',\n",
       " '      Finance and insurance',\n",
       " '        Federal Reserve banks, credit intermediation, and related activities',\n",
       " '        Securities, commodity contracts, and investments',\n",
       " '        Insurance carriers and related activities',\n",
       " '        Funds, trusts, and other financial vehicles',\n",
       " '      Real estate and rental and leasing',\n",
       " '        Real estate',\n",
       " '          Housing',\n",
       " '          Other real estate',\n",
       " '        Rental and leasing services and lessors of intangible assets',\n",
       " '    Professional and business services',\n",
       " '      Professional, scientific, and technical services',\n",
       " '        Legal services',\n",
       " '        Computer systems design and related services',\n",
       " '        Miscellaneous professional, scientific, and technical services',\n",
       " '      Management of companies and enterprises',\n",
       " '      Administrative and waste management services',\n",
       " '        Administrative and support services',\n",
       " '        Waste management and remediation services',\n",
       " '    Educational services, health care, and social assistance',\n",
       " '      Educational services',\n",
       " '      Health care and social assistance',\n",
       " '        Ambulatory health care services',\n",
       " '        Hospitals',\n",
       " '        Nursing and residential care facilities',\n",
       " '        Social assistance',\n",
       " '    Arts, entertainment, recreation, accommodation, and food services',\n",
       " '      Arts, entertainment, and recreation',\n",
       " '        Performing arts, spectator sports, museums, and related activities',\n",
       " '        Amusements, gambling, and recreation industries',\n",
       " '      Accommodation and food services',\n",
       " '        Accommodation',\n",
       " '        Food services and drinking places',\n",
       " '    Other services, except government',\n",
       " '  Government',\n",
       " '    Federal',\n",
       " '      General government',\n",
       " '        National defense',\n",
       " '        Nondefense',\n",
       " '      Government enterprises',\n",
       " '    State and local',\n",
       " '      General government',\n",
       " '      Government enterprises',\n",
       " 'Addenda:',\n",
       " '      Private goods-producing industries [1]',\n",
       " '      Private services-producing industries [2]',\n",
       " nan,\n",
       " nan,\n",
       " nan,\n",
       " nan]"
      ]
     },
     "execution_count": 6,
     "metadata": {},
     "output_type": "execute_result"
    }
   ],
   "source": [
    "list(pd.read_csv(f'raw/gdpbyindustry{dset}.csv', skiprows=4)['Unnamed: 1'])"
   ]
  }
 ],
 "metadata": {
  "kernelspec": {
   "display_name": "Python 3",
   "language": "python",
   "name": "python3"
  },
  "language_info": {
   "codemirror_mode": {
    "name": "ipython",
    "version": 3
   },
   "file_extension": ".py",
   "mimetype": "text/x-python",
   "name": "python",
   "nbconvert_exporter": "python",
   "pygments_lexer": "ipython3",
   "version": "3.7.6"
  }
 },
 "nbformat": 4,
 "nbformat_minor": 2
}
