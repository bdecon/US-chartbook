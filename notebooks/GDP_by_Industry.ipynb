{
 "cells": [
  {
   "cell_type": "markdown",
   "metadata": {},
   "source": [
    "### GDP by Industry / Value Added\n",
    "\n",
    "Covers basic broad categories. Still need to expand discussion to cover levels (per capita) and add text that covers both levels and changes. \n",
    "\n",
    "https://apps.bea.gov/iTable/iTable.cfm?ReqID=51&step=1\n",
    "\n",
    "In the latest data, the quarter format is different (Q1 instead of I). I manually replaced the row containing the quarter. "
   ]
  },
  {
   "cell_type": "code",
   "execution_count": 1,
   "metadata": {
    "ExecuteTime": {
     "end_time": "2020-10-10T23:31:32.471645Z",
     "start_time": "2020-10-10T23:31:31.777271Z"
    }
   },
   "outputs": [],
   "source": [
    "import sys\n",
    "sys.path.append('../src')\n",
    "\n",
    "import uschartbook.config\n",
    "\n",
    "from uschartbook.config import *\n",
    "from uschartbook.utils import *\n",
    "\n",
    "qtrsrm = {'I': 1, 'II': 4, 'III': 7, 'IV': 10}"
   ]
  },
  {
   "cell_type": "markdown",
   "metadata": {},
   "source": [
    "### Contribution to GDP"
   ]
  },
  {
   "cell_type": "markdown",
   "metadata": {},
   "source": [
    "##### Historical Data"
   ]
  },
  {
   "cell_type": "code",
   "execution_count": 56,
   "metadata": {
    "ExecuteTime": {
     "end_time": "2020-10-11T02:24:21.194929Z",
     "start_time": "2020-10-11T02:24:21.167275Z"
    }
   },
   "outputs": [],
   "source": [
    "s = ['Quarter', 'Government', 'Utilities', 'Wholesale trade', 'Retail trade', \n",
    "     'Transportation and warehousing', 'Private goods-producing industries [1]',\n",
    "     'Private services-producing industries [2]',\n",
    "     'Finance, insurance, real estate, rental, and leasing',\n",
    "     'Educational services, health care, and social assistance', \n",
    "     'Construction', 'Manufacturing', 'Information', \n",
    "     'Professional and business services']\n",
    "\n",
    "d = {}\n",
    "for dset in [1, 2]:\n",
    "    # Adjust top and bottom line 1, 2 (downloaded data manually)\n",
    "    df = pd.read_csv(f'raw/gdpbyindustry{dset}.csv', skiprows=4).T\n",
    "\n",
    "    columns = df.iloc[1].str.strip()\n",
    "    if dset == 3:\n",
    "        columns[0] = 'Quarter'\n",
    "\n",
    "    df.columns = columns\n",
    "\n",
    "    si = [i for i in s if i in df.keys()]\n",
    "    df = df.iloc[2:].loc[:, si]\n",
    "\n",
    "    if dset == 3:\n",
    "        dates = list(zip([dt[:4] for dt in df.index], df.Quarter.map(qtrsrm).values))\n",
    "        date_index = pd.to_datetime([f'{year}-{month}-01' for year, month in dates])\n",
    "\n",
    "        df = (df.reset_index().drop(['index', 'Quarter'], axis=1)\n",
    "                .set_index(date_index).astype(float))\n",
    "\n",
    "    else:\n",
    "        dates = pd.to_datetime([f'{year}-01-01' for year in df.index])\n",
    "        df = (df.reset_index().drop(['index'], axis=1)\n",
    "                .set_index(dates).astype(float))    \n",
    "\n",
    "    df.index.name = 'date'\n",
    "    df['TTU'] = df[['Utilities', 'Wholesale trade', 'Retail trade', \n",
    "                    'Transportation and warehousing']].sum(axis=1)\n",
    "    \n",
    "    df['FIRE'] = df['Finance, insurance, real estate, rental, and leasing'] + df['Information']\n",
    "\n",
    "    df['Oth_Serv'] = (df['Private services-producing industries [2]'] - df['TTU']\n",
    "                      - df['FIRE'])\n",
    "\n",
    "    df['GoodsTTU'] = df['Private goods-producing industries [1]'] + df['TTU']\n",
    "\n",
    "    d[dset] = df"
   ]
  },
  {
   "cell_type": "code",
   "execution_count": 57,
   "metadata": {
    "ExecuteTime": {
     "end_time": "2020-10-11T02:24:23.484074Z",
     "start_time": "2020-10-11T02:24:21.932854Z"
    }
   },
   "outputs": [],
   "source": [
    "years = ','.join(map(str, range(2004, 2021)))\n",
    "\n",
    "url = (f'https://apps.bea.gov/api/data/?&UserID={bea_key}'+\n",
    "        '&method=GetData&DataSetName=GDPbyIndustry'+\n",
    "       f'&Year={years}&Industry=ALL&tableID=13&Frequency=Q'+\n",
    "        '&ResultFormat=json')\n",
    "\n",
    "r = requests.get(url)\n",
    "\n",
    "df = pd.DataFrame(json.loads(r.text)['BEAAPI']['Results'][0]['Data'])\n",
    "df['Month'] = df.Quarter.map(qtrsrm)\n",
    "df['Day'] = 1\n",
    "df['Date'] = pd.to_datetime(df[['Year', 'Month', 'Day']])\n",
    "\n",
    "data = df.groupby(['Date', 'IndustrYDescription']).DataValue.max().unstack().astype('float')\n",
    "\n",
    "data['TTU'] = data[['Utilities', 'Wholesale trade', 'Retail trade', \n",
    "                'Transportation and warehousing']].sum(axis=1)\n",
    "\n",
    "data['FIRE'] = data['Finance, insurance, real estate, rental, and leasing'] + data['Information']\n",
    "\n",
    "data['Oth_Serv'] = (data['Private services-producing industries<sup>2</sup>'] - data['TTU']\n",
    "                - data['FIRE'])\n",
    "\n",
    "data['GoodsTTU'] = data['Private goods-producing industries<sup>1</sup>'] + data['TTU']\n",
    "\n",
    "data = data.rename({'Private goods-producing industries<sup>1</sup>': \n",
    "                    'Private goods-producing industries [1]',\n",
    "                    'Private services-producing industries<sup>2</sup>': \n",
    "                    'Private services-producing industries [2]'}, axis=1)\n",
    "\n",
    "srs = ['Government', 'Oth_Serv', 'FIRE', 'GoodsTTU', \n",
    "       'Educational services, health care, and social assistance', \n",
    "       'Construction', 'Manufacturing', 'Retail trade', 'Information',\n",
    "       'Professional and business services']\n",
    "\n",
    "srs1 = ['Government', 'Oth_Serv', 'FIRE', 'GoodsTTU']\n",
    "data1 = d[1].append(d[2]).loc['1989':'2005'].resample('QS').pad().iloc[:-1]\n",
    "final = data1.append(data)\n",
    "final.to_csv(data_dir / 'gdpvafull.csv', index_label='date', float_format='%g')\n",
    "final[srs1].to_csv(data_dir / 'gdpva.csv', index_label='date', float_format='%g')"
   ]
  },
  {
   "cell_type": "code",
   "execution_count": 100,
   "metadata": {
    "ExecuteTime": {
     "end_time": "2020-10-11T02:54:51.366408Z",
     "start_time": "2020-10-11T02:54:51.357642Z"
    }
   },
   "outputs": [],
   "source": [
    "lt = final[srs1].iloc[-1]\n",
    "pr = final[srs1].iloc[-2]\n",
    "pcdt = '2019-10-01'\n",
    "pc = final.loc[pcdt, srs1]\n",
    "ltdate = dtxt(final.index[-1])['qtr1']\n",
    "prdate = dtxt(final.index[-2])['qtr1']\n",
    "pcdate = dtxt(pd.to_datetime(prdt))['qtr1']\n",
    "\n",
    "gttu = f\"{lt['GoodsTTU']:.1f}\"\n",
    "prgttu = value_text(pr['GoodsTTU'], style='contribution_of', ptype='pp')\n",
    "pcgttu = value_text(pc['GoodsTTU'], style='contribution_of', ptype='pp')\n",
    "\n",
    "fire = value_text(lt['FIRE'], style='contribution', ptype='pp')\n",
    "prfire = value_text(pr['FIRE'], style='contribution_of', ptype='pp')\n",
    "pcfire = value_text(pc['FIRE'], style='contribution_of', ptype='pp')\n",
    "\n",
    "oths = value_text(lt['Oth_Serv'], style='contribution_to', ptype='pp')\n",
    "proths = value_text(pr['Oth_Serv'], style='contribution', ptype='pp')\n",
    "pcoths = value_text(pc['Oth_Serv'], style='contribution', ptype='pp')\n",
    "\n",
    "gov = value_text(lt['Government'], style='contribution', ptype='pp')\n",
    "prgov = value_text(pr['Government'], style='contribution', ptype='pp')\n",
    "pcgov = value_text(pc['Government'], style='contribution', ptype='pp')"
   ]
  },
  {
   "cell_type": "code",
   "execution_count": 102,
   "metadata": {
    "ExecuteTime": {
     "end_time": "2020-10-11T02:55:39.318360Z",
     "start_time": "2020-10-11T02:55:39.314483Z"
    }
   },
   "outputs": [
    {
     "name": "stdout",
     "output_type": "stream",
     "text": [
      "In 2020 Q2, the combined contribution to GDP growth from private goods-producing industries and trade, transportation, and utilities is -12.4 percentage points, following a subtraction of 1.1 percentage points in 2020 Q1, and compared to a contribution of 0.5 percentage point in 2019 Q4. The group of private service-providing industries that include finance, insurance, real estate, as well as the information industry subtracted 0.5 percentage point in 2020 Q2, a subtraction of 1.3 percentage points in 2020 Q1, and a contribution of 1.1 percentage points in 2019 Q4. \n",
      "\n",
      " Other private services-providing industries, which are wide-ranging and described above, subtracted 16.5 percentage points from real GDP growth in 2020 Q1, following subtracted 2.4 percentage points in 2020 Q1, and compared to contributed 0.5 percentage point in 2019 Q4. Combined federal, state, and local government subtracted 1.9 percentage points in 2020 Q2, subtracted 0.3 percentage point the prior quarter, and contributed 0.3 percentage point in 2019 Q4, prior to the pandemic.\n"
     ]
    }
   ],
   "source": [
    "text = (f'In {ltdate}, the combined contribution to GDP growth from '+\n",
    "        'private goods-producing industries and trade, transportation, '+\n",
    "        f'and utilities is {gttu} percentage points, following {prgttu} '+\n",
    "        f'in {prdate}, and compared to {pcgttu} in {pcdate}. The group '+\n",
    "        'of private service-providing industries that include finance, '+\n",
    "        'insurance, real estate, as well as the information industry '+\n",
    "        f'{fire} in {ltdate}, {prfire} in {prdate}, and {pcfire} '+\n",
    "        f'in {pcdate}. \\n\\n Other private services-providing industries, '+\n",
    "        f'which are wide-ranging and described above, {oths} real GDP '+\n",
    "        f'growth in {prdate}, '+\n",
    "        f'following {proths} in {prdate}, and compared to {pcoths} in '+\n",
    "        f'{pcdate}. Combined federal, state, and local government '+\n",
    "        f'{gov} in {ltdate}, {prgov} the prior quarter, and {pcgov} '+\n",
    "        f'in {pcdate}, prior to the pandemic.')\n",
    "write_txt(text_dir / 'gdpva_growth.txt', text)\n",
    "print(text)"
   ]
  },
  {
   "cell_type": "code",
   "execution_count": null,
   "metadata": {},
   "outputs": [],
   "source": []
  },
  {
   "cell_type": "code",
   "execution_count": null,
   "metadata": {},
   "outputs": [],
   "source": []
  },
  {
   "cell_type": "code",
   "execution_count": null,
   "metadata": {},
   "outputs": [],
   "source": []
  },
  {
   "cell_type": "markdown",
   "metadata": {},
   "source": [
    "### Nominal"
   ]
  },
  {
   "cell_type": "code",
   "execution_count": 4,
   "metadata": {
    "ExecuteTime": {
     "end_time": "2020-10-10T23:31:34.109901Z",
     "start_time": "2020-10-10T23:31:34.098959Z"
    }
   },
   "outputs": [],
   "source": [
    "nom_ann = pd.read_csv('../data/GDPVA_nom.csv', skiprows=4).dropna().T.iloc[1:]\n",
    "nom_ann.columns = nom_ann.iloc[0].str.strip()\n",
    "nom_ann.columns.name = 'IndustrYDescription'\n",
    "nom_ann = nom_ann.iloc[1:]\n",
    "nom_ann.index = pd.to_datetime([f\"{i}-07-01\" for i in nom_ann.index])\n",
    "nom_ann.index.name = 'Date'\n",
    "\n",
    "# Duplicate columns dropped:\n",
    "nom_ann = nom_ann.loc[:,~nom_ann.columns.duplicated()]\n",
    "\n",
    "nom_ann = nom_ann.rename({'Private goods-producing industries1': \n",
    "                          'Private goods-producing industries [1]',\n",
    "                          'Private services-producing industries2': \n",
    "                          'Private services-producing industries [2]'}, axis=1)"
   ]
  },
  {
   "cell_type": "code",
   "execution_count": 5,
   "metadata": {
    "ExecuteTime": {
     "end_time": "2020-10-10T23:31:35.570598Z",
     "start_time": "2020-10-10T23:31:34.110878Z"
    }
   },
   "outputs": [],
   "source": [
    "years = ','.join(map(str, range(2005, 2021)))\n",
    "\n",
    "url = (f'https://apps.bea.gov/api/data/?&UserID={bea_key}'+\n",
    "        '&method=GetData&DataSetName=GDPbyIndustry'+\n",
    "       f'&Year={years}&Industry=ALL&tableID=1&Frequency=Q'+\n",
    "        '&ResultFormat=json')\n",
    "\n",
    "r = requests.get(url)\n",
    "\n",
    "df = pd.DataFrame(json.loads(r.text)['BEAAPI']['Results'][0]['Data'])\n",
    "df['Month'] = df.Quarter.map(qtrsrm)\n",
    "df['Day'] = 1\n",
    "df['Date'] = pd.to_datetime(df[['Year', 'Month', 'Day']])\n",
    "\n",
    "data = df.groupby(['Date', 'IndustrYDescription']).DataValue.max().unstack().astype('float')\n",
    "\n",
    "data = data.rename({'Private goods-producing industries<sup>1</sup>': \n",
    "                    'Private goods-producing industries [1]',\n",
    "                    'Private services-producing industries<sup>2</sup>': \n",
    "                    'Private services-producing industries [2]'}, axis=1)\n",
    "\n",
    "data = nom_ann.append(data)\n",
    "\n",
    "data['TTU'] = data[['Utilities', 'Wholesale trade', 'Retail trade', \n",
    "                'Transportation and warehousing']].sum(axis=1)\n",
    "\n",
    "data['FIRE'] = data['Finance, insurance, real estate, rental, and leasing'] + data['Information']\n",
    "\n",
    "data['Oth_Serv'] = (data['Private services-producing industries [2]'] - data['TTU']\n",
    "                - data['FIRE'])\n",
    "\n",
    "data['Goods'] = data['Private goods-producing industries [1]']\n",
    "\n",
    "data['GoodsTTU'] = data['Private goods-producing industries [1]'] + data['TTU']\n",
    "\n",
    "data.to_csv(data_dir / 'gdpva_nom.csv', index_label='date', float_format='%g')"
   ]
  },
  {
   "cell_type": "code",
   "execution_count": null,
   "metadata": {},
   "outputs": [],
   "source": []
  },
  {
   "cell_type": "markdown",
   "metadata": {},
   "source": [
    "### Real"
   ]
  },
  {
   "cell_type": "code",
   "execution_count": 6,
   "metadata": {
    "ExecuteTime": {
     "end_time": "2020-10-10T23:31:35.581920Z",
     "start_time": "2020-10-10T23:31:35.571653Z"
    }
   },
   "outputs": [],
   "source": [
    "real_ann = pd.read_csv('../data/GDPVA_real.csv', skiprows=4).dropna().T.iloc[1:]\n",
    "real_ann.columns = real_ann.iloc[0].str.strip()\n",
    "real_ann.columns.name = 'IndustrYDescription'\n",
    "real_ann = real_ann.iloc[1:]\n",
    "real_ann.index = pd.to_datetime([f\"{i}-07-01\" for i in real_ann.index])\n",
    "real_ann.index.name = 'Date'\n",
    "\n",
    "# Duplicate columns dropped:\n",
    "real_ann = real_ann.loc[:,~real_ann.columns.duplicated()]\n",
    "\n",
    "real_ann = real_ann.rename({'Private goods-producing industries2': \n",
    "                            'Private goods-producing industries [1]',\n",
    "                            'Private services-producing industries3': \n",
    "                            'Private services-producing industries [2]'}, axis=1)"
   ]
  },
  {
   "cell_type": "code",
   "execution_count": 7,
   "metadata": {
    "ExecuteTime": {
     "end_time": "2020-10-10T23:31:37.052055Z",
     "start_time": "2020-10-10T23:31:35.582947Z"
    },
    "code_folding": []
   },
   "outputs": [],
   "source": [
    "years = ','.join(map(str, range(2005, 2021)))\n",
    "\n",
    "url = (f'https://apps.bea.gov/api/data/?&UserID={bea_key}'+\n",
    "        '&method=GetData&DataSetName=GDPbyIndustry'+\n",
    "       f'&Year={years}&Industry=ALL&tableID=10&Frequency=Q'+\n",
    "        '&ResultFormat=json')\n",
    "\n",
    "r = requests.get(url)\n",
    "\n",
    "df = pd.DataFrame(json.loads(r.text)['BEAAPI']['Results'][0]['Data'])\n",
    "df['Month'] = df.Quarter.map(qtrsrm)\n",
    "df['Day'] = 1\n",
    "df['Date'] = pd.to_datetime(df[['Year', 'Month', 'Day']])\n",
    "\n",
    "data = df.groupby(['Date', 'IndustrYDescription']).DataValue.max().unstack().astype('float')\n",
    "\n",
    "data = data.rename({'Private goods-producing industries<sup>2</sup>': \n",
    "                    'Private goods-producing industries [1]',\n",
    "                    'Private services-producing industries<sup>3</sup>': \n",
    "                    'Private services-producing industries [2]'}, axis=1)\n",
    "\n",
    "data = real_ann.append(data)\n",
    "\n",
    "data['TTU'] = data[['Utilities', 'Wholesale trade', 'Retail trade', \n",
    "                'Transportation and warehousing']].sum(axis=1)\n",
    "\n",
    "data['FIRE'] = data['Finance, insurance, real estate, rental, and leasing'] + data['Information']\n",
    "\n",
    "data['Oth_Serv'] = (data['Private services-producing industries [2]'] - data['TTU']\n",
    "                - data['FIRE'])\n",
    "\n",
    "data['Goods'] = data['Private goods-producing industries [1]']\n",
    "\n",
    "data['GoodsTTU'] = data['Private goods-producing industries [1]'] + data['TTU']\n",
    "\n",
    "data.to_csv(data_dir / 'gdpva_real.csv', index_label='date', float_format='%g')"
   ]
  },
  {
   "cell_type": "code",
   "execution_count": 8,
   "metadata": {
    "ExecuteTime": {
     "end_time": "2020-10-10T23:31:37.102758Z",
     "start_time": "2020-10-10T23:31:37.053431Z"
    }
   },
   "outputs": [
    {
     "name": "stdout",
     "output_type": "stream",
     "text": [
      "The first category combines private goods producing industries: agriculture, forestry, fishing, and hunting (0.7 percent of GDP in 2020 Q2; mining (0.7 percent of GDP); construction (4.4 percent); and manufacturing (10.5 percent), with trade, transportation, and utilities (TTU, combined 15.7 percent of GDP). The second category is finance, insurance, and real estate category (FIRE, 23.4 percent of GDP in 2020 Q2) combined with the information industry (5.7 percent of GDP), labeled as FIRE+. \n",
      "\n",
      " The remaining services-providing industries include: professional and business services (12.9 percent of GDP in 2020 Q2); education, health care, and social services (8.3 percent of GDP); arts, entertainment, and recreation (2.4 percent). Separately, public-sector value added in production, at the federal, state, and local levels, is captured by the government category (13.3 percent of GDP).\n"
     ]
    }
   ],
   "source": [
    "pop = nipa_df(retrieve_table('T20100')['Data'], ['B230RC'])['B230RC'] / 1_000\n",
    "\n",
    "nom = pd.read_csv(data_dir / 'gdpva_nom.csv', parse_dates=['date'], index_col='date')\n",
    "real = pd.read_csv(data_dir / 'gdpva_real.csv', parse_dates=['date'], index_col='date')\n",
    "\n",
    "adj = ((real / real.iloc[-1]) * nom.iloc[-1]).div(pop, axis=0).dropna(how='all')\n",
    "\n",
    "srs1 = ['Government', 'FIRE', 'GoodsTTU', 'Oth_Serv']\n",
    "adj[srs1].to_csv(data_dir / 'gdpva_pc.csv', index_label='date', float_format='%g')\n",
    "\n",
    "ltdt = dtxt(adj.index[-1])['qtr1']\n",
    "write_txt(text_dir / 'gdpva_ltdt.txt', ltdt)\n",
    "\n",
    "ltdate = dtxt(nom.index[-1])['qtr1']\n",
    "\n",
    "sh = nom.iloc[-1].divide(nom['Gross domestic product'].iloc[-1], axis=0) * 100\n",
    "ag = sh['Agriculture, forestry, fishing, and hunting']\n",
    "mn = sh['Mining']\n",
    "con = sh['Construction']\n",
    "mfg = sh['Manufacturing']\n",
    "ttu = sh['TTU']\n",
    "fi = sh['Finance, insurance, real estate, rental, and leasing']\n",
    "info = sh['Information']\n",
    "pbs = sh['Professional and business services']\n",
    "ehs = sh['Educational services, health care, and social assistance']\n",
    "aer = sh['Arts, entertainment, recreation, accommodation, and food services']\n",
    "gov = sh['Government']\n",
    "\n",
    "text = ('The first category combines private goods producing industries: '+\n",
    "        f'agriculture, forestry, fishing, and hunting ({ag:.1f} percent '+\n",
    "        f'of GDP in {ltdate}; mining ({mn:.1f} percent of GDP); construction '+\n",
    "        f'({con:.1f} percent); and manufacturing ({mfg:.1f} percent), with '+\n",
    "        f'trade, transportation, and utilities (TTU, combined {ttu:.1f} '+\n",
    "        'percent of GDP). The second category is finance, insurance, and '+\n",
    "        f'real estate category (FIRE, {fi:.1f} percent of GDP in {ltdate}) '+\n",
    "        f'combined with the information industry ({info:.1f} percent of GDP), '+\n",
    "        'labeled as FIRE+. \\n\\n The remaining services-providing industries '+\n",
    "        f'include: professional and business services ({pbs:.1f} percent of '+\n",
    "        f'GDP in {ltdate}); education, health care, and social services '+\n",
    "        f'({ehs:.1f} percent of GDP); arts, entertainment, and recreation '+\n",
    "        f'({aer:.1f} percent). Separately, public-sector value added in '+\n",
    "        'production, at the federal, state, and local levels, is captured '+\n",
    "        f'by the government category ({gov:.1f} percent of GDP).')\n",
    "write_txt(text_dir / 'gdpva_sh.txt', text)\n",
    "print(text)"
   ]
  },
  {
   "cell_type": "code",
   "execution_count": 12,
   "metadata": {
    "ExecuteTime": {
     "end_time": "2020-10-11T00:07:54.136173Z",
     "start_time": "2020-10-11T00:07:54.130364Z"
    }
   },
   "outputs": [
    {
     "name": "stdout",
     "output_type": "stream",
     "text": [
      "In 2020 Q2, private goods producing industries and trade, transportation, and utilities combined value added per person is \\$18,956, on an annualized basis, compared to \\$21,431 in 2019 Q4 (see {\\color{purple!70!blue}\\textbf{---}}). Private finance, insurance, real estate, and information industry services combined value added per person is \\$17,219 in 2020 Q2 and \\$17,625 in 2019 Q4 (see {\\color{red!90!white}\\textbf{---}}). \n",
      "\n",
      " All other private services-producing industries combined value added per person is \\$15,131 in 2020 Q2 and \\$18,597 in 2019 Q4 (see {\\color{blue!90!white}\\textbf{---}}). Government value added is \\$7,865 per person in 2020 Q2 and \\$8,301 in 2019 Q4 (see {\\color{orange!80!white}\\textbf{---}}). \n"
     ]
    }
   ],
   "source": [
    "prdt = '2019-10-01'\n",
    "prdate = dtxt(pd.to_datetime(prdt))['qtr1']\n",
    "gttuval = f'\\${adj[\"GoodsTTU\"].iloc[-1] * 1_000:,.0f}'\n",
    "gttuprval = f'\\${adj.loc[prdt, \"GoodsTTU\"] * 1_000:,.0f}'\n",
    "fireval = f'\\${adj[\"FIRE\"].iloc[-1] * 1_000:,.0f}'\n",
    "fireprval = f'\\${adj.loc[prdt, \"FIRE\"] * 1_000:,.0f}'\n",
    "oservval = f'\\${adj[\"Oth_Serv\"].iloc[-1] * 1_000:,.0f}'\n",
    "oservprval = f'\\${adj.loc[prdt, \"Oth_Serv\"] * 1_000:,.0f}'\n",
    "govval = f'\\${adj[\"Government\"].iloc[-1] * 1_000:,.0f}'\n",
    "govprval = f'\\${adj.loc[prdt, \"Government\"] * 1_000:,.0f}'\n",
    "\n",
    "text = (f'In {ltdate}, private goods producing industries and trade, '+\n",
    "        'transportation, and utilities combined value added per person '+\n",
    "        f'is {gttuval}, on an annualized basis, compared to {gttuprval} '+\n",
    "        f'in {prdate} (see {{\\color{{purple!70!blue}}\\\\textbf{{---}}}}). Private '+\n",
    "        'finance, insurance, real estate, and information industry services '+\n",
    "        f'combined value added per person is {fireval} in {ltdate} and '+\n",
    "        f'{fireprval} in {prdate} (see '+\n",
    "        '{\\color{red!90!white}\\\\textbf{---}}). \\n\\n All other private '+\n",
    "        'services-producing industries combined value added per person '+\n",
    "        f'is {oservval} in {ltdate} and {oservprval} in {prdate} '+\n",
    "        '(see {\\color{blue!90!white}\\\\textbf{---}}). Government value added '+\n",
    "        f'is {govval} per person in {ltdate} '+\n",
    "        f'and {govprval} in {prdate} (see '+\n",
    "        '{\\color{orange!80!white}\\\\textbf{---}}). ')\n",
    "write_txt(text_dir / 'gdpva_pc.txt', text)\n",
    "print(text)"
   ]
  },
  {
   "cell_type": "code",
   "execution_count": 55,
   "metadata": {
    "ExecuteTime": {
     "end_time": "2020-10-11T00:54:11.979608Z",
     "start_time": "2020-10-11T00:54:11.968559Z"
    }
   },
   "outputs": [],
   "source": [
    "n1 = {'GoodsTTU': '\\hspace{0.5mm} {\\color{purple!70!blue}\\\\textbf{---}} Goods and TTU ',\n",
    "      'Manufacturing': '\\hspace{6mm} Manufacturing ',\n",
    "      'Construction': '\\hspace{6mm} Construction ',\n",
    "      'Retail trade': '\\hspace{6mm} Retail Trade ',\n",
    "      'FIRE': '\\hspace{0.5mm} {\\color{red!90!white}\\\\textbf{---}} FIRE+ ',\n",
    "      'Oth_Serv': '\\hspace{0.5mm} {\\color{blue!90!white}\\\\textbf{---}} Other Services ',\n",
    "      'Educational services, health care, and social assistance': '\\hspace{6mm} Education \\& Healthcare ',\n",
    "      'Professional and business services': '\\hspace{6mm} Professional \\& Business',\n",
    "      'Information': '\\hspace{6mm} Information ',\n",
    "      'Government': '\\hspace{0.5mm} {\\color{orange!80!white}\\\\textbf{---}} Government '}\n",
    "\n",
    "lt = adj[n1.keys()].rename(n1, axis=1).iloc[[-1, -2]]\n",
    "pc = adj[n1.keys()].rename(n1, axis=1).loc[[prdt, '2005-01-01', '1997-07-01']]\n",
    "tbl = lt.append(pc).T * 1_000\n",
    "tbl = tbl.applymap('{:,.0f}'.format)\n",
    "tbl.iloc[0, 0] = f'\\${tbl.iloc[0, 0]}'\n",
    "tbl.columns = [dtxt(i)['qtr1'] for i in tbl.columns[:-1]] + ['1997 (A)']\n",
    "tbl.to_csv(data_dir / 'gdpva_pc.tex', sep='&', line_terminator='\\\\\\ ', quotechar=' ')"
   ]
  },
  {
   "cell_type": "code",
   "execution_count": null,
   "metadata": {},
   "outputs": [],
   "source": []
  },
  {
   "cell_type": "code",
   "execution_count": null,
   "metadata": {},
   "outputs": [],
   "source": []
  }
 ],
 "metadata": {
  "kernelspec": {
   "display_name": "Python 3",
   "language": "python",
   "name": "python3"
  },
  "language_info": {
   "codemirror_mode": {
    "name": "ipython",
    "version": 3
   },
   "file_extension": ".py",
   "mimetype": "text/x-python",
   "name": "python",
   "nbconvert_exporter": "python",
   "pygments_lexer": "ipython3",
   "version": "3.8.5"
  }
 },
 "nbformat": 4,
 "nbformat_minor": 2
}
