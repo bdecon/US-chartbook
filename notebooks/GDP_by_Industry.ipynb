{
 "cells": [
  {
   "cell_type": "markdown",
   "metadata": {},
   "source": [
    "https://apps.bea.gov/iTable/iTable.cfm?reqid=147&step=51&isuri=1&table_list=13"
   ]
  },
  {
   "cell_type": "code",
   "execution_count": 1,
   "metadata": {
    "ExecuteTime": {
     "end_time": "2019-10-30T02:17:06.386814Z",
     "start_time": "2019-10-30T02:17:06.091176Z"
    }
   },
   "outputs": [],
   "source": [
    "import sys\n",
    "sys.path.append('../src')\n",
    "\n",
    "import uschartbook.config\n",
    "\n",
    "from uschartbook.config import *\n",
    "from uschartbook.utils import *\n",
    "\n",
    "qtrsrm = {'I': 1, 'II': 4, 'III': 7, 'IV': 10}"
   ]
  },
  {
   "cell_type": "code",
   "execution_count": 2,
   "metadata": {
    "ExecuteTime": {
     "end_time": "2019-10-30T02:17:06.450536Z",
     "start_time": "2019-10-30T02:17:06.395557Z"
    }
   },
   "outputs": [],
   "source": [
    "s = ['Quarter', 'Government', 'Utilities', 'Wholesale trade', 'Retail trade', \n",
    "     'Transportation and warehousing', 'Private goods-producing industries [1]',\n",
    "     'Private services-producing industries [2]',\n",
    "     'Finance, insurance, real estate, rental, and leasing',\n",
    "     'Educational services, health care, and social assistance', \n",
    "     'Construction', 'Manufacturing', 'Information', \n",
    "     'Professional and business services']\n",
    "\n",
    "d = {}\n",
    "for dset in [1, 2, 3]:\n",
    "    # Adjust top and bottom line 1, 2, 3 (downloaded data manually)\n",
    "    df = pd.read_csv(f'raw/gdpbyindustry{dset}.csv', skiprows=4).T\n",
    "\n",
    "    columns = df.iloc[1].str.strip()\n",
    "    if dset == 3:\n",
    "        columns[0] = 'Quarter'\n",
    "\n",
    "    df.columns = columns\n",
    "\n",
    "    si = [i for i in s if i in df.keys()]\n",
    "    df = df.iloc[2:].loc[:, si]\n",
    "\n",
    "    if dset == 3:\n",
    "        dates = list(zip([dt[:4] for dt in df.index], df.Quarter.map(qtrsrm).values))\n",
    "        date_index = pd.to_datetime([f'{year}-{month}-01' for year, month in dates])\n",
    "\n",
    "        df = (df.reset_index().drop(['index', 'Quarter'], axis=1)\n",
    "                .set_index(date_index).astype(float))\n",
    "\n",
    "    else:\n",
    "        dates = pd.to_datetime([f'{year}-01-01' for year in df.index])\n",
    "        df = (df.reset_index().drop(['index'], axis=1)\n",
    "                .set_index(dates).astype(float))    \n",
    "\n",
    "    df.index.name = 'date'\n",
    "    df['TTU'] = df[['Utilities', 'Wholesale trade', 'Retail trade', \n",
    "                    'Transportation and warehousing']].sum(axis=1)\n",
    "\n",
    "    df['Oth_Serv'] = (df['Private services-producing industries [2]'] - df['TTU']\n",
    "                      - df['Finance, insurance, real estate, rental, and leasing'])\n",
    "\n",
    "    df['FIRE'] = df['Finance, insurance, real estate, rental, and leasing']\n",
    "\n",
    "    df['GoodsTTU'] = df['Private goods-producing industries [1]'] + df['TTU']\n",
    "\n",
    "    d[dset] = df"
   ]
  },
  {
   "cell_type": "code",
   "execution_count": 3,
   "metadata": {
    "ExecuteTime": {
     "end_time": "2019-10-30T02:17:06.477190Z",
     "start_time": "2019-10-30T02:17:06.451828Z"
    }
   },
   "outputs": [],
   "source": [
    "r = (d[1].append(d[2]).loc['1989':'2005'].resample('QS').pad().iloc[:-1]\n",
    "    .append((d[1].append(d[2]).loc['2005'] - (d[3].loc['2005'].sum() / 3)).append(d[3])))\n",
    "\n",
    "(r[['Government', 'Oth_Serv', 'FIRE', 'GoodsTTU']]\n",
    " .to_csv(data_dir / 'gdpva.csv', index_label='date', float_format='%g'))\n",
    "\n",
    "(r[['Government', 'Oth_Serv', 'FIRE', 'GoodsTTU', \n",
    "    'Educational services, health care, and social assistance', \n",
    "    'Construction', 'Manufacturing', 'Retail trade', 'Information',\n",
    "    'Professional and business services']]\n",
    " .to_csv(data_dir / 'gdpvafull.csv', index_label='date', float_format='%g'))"
   ]
  },
  {
   "cell_type": "code",
   "execution_count": 4,
   "metadata": {
    "ExecuteTime": {
     "end_time": "2019-09-26T12:54:09.201657Z",
     "start_time": "2019-09-26T12:54:09.183808Z"
    }
   },
   "outputs": [],
   "source": [
    "#list(pd.read_csv(f'raw/gdpbyindustry{dset}.csv', skiprows=4)['Unnamed: 1'])"
   ]
  }
 ],
 "metadata": {
  "kernelspec": {
   "display_name": "Python 3",
   "language": "python",
   "name": "python3"
  },
  "language_info": {
   "codemirror_mode": {
    "name": "ipython",
    "version": 3
   },
   "file_extension": ".py",
   "mimetype": "text/x-python",
   "name": "python",
   "nbconvert_exporter": "python",
   "pygments_lexer": "ipython3",
   "version": "3.8.2"
  }
 },
 "nbformat": 4,
 "nbformat_minor": 2
}
