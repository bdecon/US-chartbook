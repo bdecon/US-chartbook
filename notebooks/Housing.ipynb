{
 "cells": [
  {
   "cell_type": "markdown",
   "metadata": {},
   "source": [
    "# Housing"
   ]
  },
  {
   "cell_type": "code",
   "execution_count": 1,
   "metadata": {
    "ExecuteTime": {
     "end_time": "2022-03-02T18:34:22.204848Z",
     "start_time": "2022-03-02T18:34:21.558139Z"
    }
   },
   "outputs": [],
   "source": [
    "import sys\n",
    "sys.path.append('../src')\n",
    "\n",
    "import uschartbook.config\n",
    "\n",
    "from uschartbook.config import *\n",
    "from uschartbook.utils import *"
   ]
  },
  {
   "cell_type": "markdown",
   "metadata": {},
   "source": [
    "### Homeownership rate"
   ]
  },
  {
   "cell_type": "code",
   "execution_count": 9,
   "metadata": {
    "ExecuteTime": {
     "end_time": "2022-03-02T18:35:12.325124Z",
     "start_time": "2022-03-02T18:35:11.712844Z"
    }
   },
   "outputs": [
    {
     "name": "stdout",
     "output_type": "stream",
     "text": [
      "As of 2021 Q4, the Census Bureau \\href{https://www.census.gov/housing/hvs/index.html}{report} a homeownership rate of 65.5 percent (see {\\color{violet!60!magenta}\\textbf{---}}). Over the past three years, the overall US homeownership rate increased by a total of 0.7 percentage point.\n"
     ]
    }
   ],
   "source": [
    "data = fred_df('RHORUSQ156N')['VALUE']\n",
    "data.to_csv(data_dir / 'homeown.csv', index_label='date', \n",
    "            header=True)\n",
    "col = 'violet!60!magenta'\n",
    "node = end_node(data, col, percent=True, \n",
    "                date='q', full_year=True)\n",
    "write_txt(text_dir / 'homeown_node.txt', node)\n",
    "datelt = dtxt(data.index[-1])['qtr1']\n",
    "latest = data.iloc[-1]\n",
    "ch3yr = value_text(data.diff(12).iloc[-1], ptype='pp', \n",
    "                   adj='total')\n",
    "url = 'https://www.census.gov/housing/hvs/index.html'\n",
    "cl = c_line(col)\n",
    "text = (f'As of {datelt}, the Census Bureau \\href{{{url}}}'+\n",
    "        f'{{report}} a homeownership rate of {latest:.1f} '+\n",
    "        f'percent {cl}. Over the past three years, the '+\n",
    "        f'overall US homeownership rate {ch3yr}.')\n",
    "write_txt(text_dir / 'homeown.txt', text)\n",
    "print(text)"
   ]
  },
  {
   "cell_type": "code",
   "execution_count": null,
   "metadata": {},
   "outputs": [],
   "source": []
  },
  {
   "cell_type": "code",
   "execution_count": null,
   "metadata": {},
   "outputs": [],
   "source": []
  },
  {
   "cell_type": "markdown",
   "metadata": {},
   "source": [
    "### By Race/Ethnicity"
   ]
  },
  {
   "cell_type": "code",
   "execution_count": null,
   "metadata": {},
   "outputs": [],
   "source": [
    "url = 'https://www.census.gov/housing/hvs/data/histtab16.xlsx'\n",
    "\n",
    "data = pd.read_excel(url)\n",
    "df = data.iloc[7:-9, :-6].reset_index().drop('index', axis=1)\n",
    "df.columns = ['Date', 'Total', 'White', 'Black', 'Other', 'Other2', 'Hispanic']\n",
    "df = df.replace('2002r', 2002).replace('20033', 2003).dropna(how='all')\n",
    "\n",
    "q = {1: '01', 2: '04', 3: '07', 4: '10'}\n",
    "\n",
    "d = {}\n",
    "for i, row in df.iterrows():\n",
    "    if i not in d.keys():\n",
    "        d[i] = {}\n",
    "    if type(row['Date']) == int:\n",
    "        for y in list(range(i, i+5)):\n",
    "            if y in df.index:\n",
    "                d[y] = {'quarter': ''}\n",
    "                d[y]['year'] = row['Date']\n",
    "    if (type(row['Date']) != int) & ('.' in str(row['Date'])):\n",
    "        d[i]['quarter'] = q[int(row['Date'][0])]\n",
    "        \n",
    "    if 'year' not in d[i].keys():\n",
    "        d[i] = {'date': '', 'year': '', 'quarter': ''}\n",
    "    else:\n",
    "        d[i]['date'] = f'{d[i][\"year\"]}-{d[i][\"quarter\"]}-01'\n",
    "        \n",
    "dates = {k: v['date'] for k, v in d.items()}\n",
    "df['date'] = df.index.map(dates)\n",
    "df = df.dropna()\n",
    "df = df.set_index(pd.to_datetime(df.date))\n",
    "result = df[['White', 'Black', 'Hispanic', 'Other', 'Total']]\n",
    "result.to_csv(data_dir / 'homeown2.csv', index_label='date')"
   ]
  },
  {
   "cell_type": "code",
   "execution_count": null,
   "metadata": {
    "ExecuteTime": {
     "end_time": "2022-02-17T03:46:57.563543Z",
     "start_time": "2022-02-17T03:46:57.551928Z"
    }
   },
   "outputs": [],
   "source": [
    "result = pd.read_csv(data_dir / 'homeown2.csv', index_col='date', \n",
    "                     parse_dates=True)\n",
    "\n",
    "color_list = [('Black', 'red!20!orange!95!black'), \n",
    "              ('White', 'blue!80!cyan!80!black'),\n",
    "              ('Hispanic', 'green!80!blue!85!black'),\n",
    "              ('Other', 'red!80!black')]\n",
    "cl = {}\n",
    "for group, color in color_list:\n",
    "    write_txt(text_dir / f'homeown_{group.lower()}_node.txt', \n",
    "              end_node(result[group], color, percent=True))\n",
    "    cl[group] = c_line(color)\n",
    "\n",
    "wtlt = result.White.iloc[-1]\n",
    "blmax = result['Black'].max()\n",
    "blidxmax = dtxt(result['Black'].idxmax())['qtr2']\n",
    "blmin = result.loc['2006':, 'Black'].min()\n",
    "blidxmin = dtxt(result.loc['2006':, 'Black'].idxmin())['qtr1']\n",
    "bllt = result.Black.iloc[-1]\n",
    "ltdt = dtxt(result.index[-1])['qtr1']\n",
    "hsmax = result['Hispanic'].max()\n",
    "hsidxmax = dtxt(result['Hispanic'].idxmax())['qtr2']\n",
    "hslt = result['Hispanic'].iloc[-1]\n",
    "compare = compare_text(hslt, hsmax, [0.3, 1.0, 3.0])\n",
    "if hslt == hsmax:\n",
    "    cmp_txt = 'the highest on record'\n",
    "else:\n",
    "    cmp_txt = f'{compare} the {hsmax:.1f} percent peak rate in {hsidxmax}'\n",
    "\n",
    "text = (f'Around three-quarters ({wtlt:.1f} percent in {ltdt}) of '+\n",
    "        f'non-Hispanic white households own their home {cl[\"White\"]}, '+\n",
    "        'compared to fewer than half of black and Hispanic households. ')\n",
    "write_txt(text_dir / 'homeown2.txt', text)\n",
    "print(text, '\\n')\n",
    "\n",
    "txt2 = ('During the housing bubble, the homeownership rate for black '+\n",
    "        'households increased by nearly ten percentage points, peaked  '+\n",
    "        f'at {blmax:.1f} percentin {blidxmax}, and fell to {blmin:.1f} '+\n",
    "        f'percent in {blidxmin}. The current homeownership rate for black '+\n",
    "        f'households is {bllt:.1f} percent, as of {ltdt} {cl[\"Black\"]}. '+\n",
    "        f'The rate for Hispanic households of any race is {hslt:.1f} '+\n",
    "        f'percent in {ltdt}, {cmp_txt} {cl[\"Hispanic\"]}. ')\n",
    "write_txt(text_dir / 'homeown3.txt', txt2)\n",
    "print(txt2)"
   ]
  },
  {
   "cell_type": "code",
   "execution_count": null,
   "metadata": {},
   "outputs": [],
   "source": []
  },
  {
   "cell_type": "code",
   "execution_count": null,
   "metadata": {},
   "outputs": [],
   "source": []
  },
  {
   "cell_type": "markdown",
   "metadata": {},
   "source": [
    "### FHFA Housing Price Index"
   ]
  },
  {
   "cell_type": "code",
   "execution_count": null,
   "metadata": {
    "ExecuteTime": {
     "end_time": "2022-02-24T02:33:20.537726Z",
     "start_time": "2022-02-24T02:33:20.047500Z"
    }
   },
   "outputs": [],
   "source": [
    "url = ('https://www.fhfa.gov/DataTools/Downloads/'+\n",
    "       'Documents/HPI/HPI_PO_monthly_hist.xls')\n",
    "df = pd.read_excel(url, header=3, index_col=0, \n",
    "                   parse_dates=True).iloc[1:]\n",
    "sa = df[[col for col in df.columns if 'NSA' not in col]]\n",
    "sa.columns = [col.replace('\\n(SA)', '').replace('\\n', '') \n",
    "              for col in df.columns if 'NSA' not in col]\n",
    "sa.to_csv(data_dir / 'hpi_raw.csv', index_label='date')"
   ]
  },
  {
   "cell_type": "code",
   "execution_count": 2,
   "metadata": {
    "ExecuteTime": {
     "end_time": "2022-02-24T22:30:28.941138Z",
     "start_time": "2022-02-24T22:30:28.915228Z"
    }
   },
   "outputs": [
    {
     "name": "stdout",
     "output_type": "stream",
     "text": [
      "increased 17.6 percent over the year ending December 2021 (see {\\color{blue!35!cyan}\\textbf{---}}). The average of the latest three months of data compared to the previous three months shows an annualized growth rate of 13.9 percent (see {\\color{purple}\\textbf{---}}). In November 2021, the one-year growth rate was 17.6 percent and the three-month growth rate was 13.6 percent. Home prices in the Mountain region, which includes Arizona, Colorado, Idaho, Montana, New Mexico, Nevada, Utah, and Wyoming, increased 23.2 percent in December 2021, the highest one-year growth rate.\n"
     ]
    }
   ],
   "source": [
    "dr = pd.read_csv(data_dir / 'hpi_raw.csv', index_col='date', \n",
    "                 parse_dates=True)\n",
    "\n",
    "data = (dr.pct_change(12) * 100).dropna()\n",
    "ch = data['USA']\n",
    "ch.to_csv(data_dir / 'hpi.csv', index_label='date', header='True', \n",
    "            float_format='%g')\n",
    "d3m = m3rate(dr.USA)\n",
    "d3m.to_csv(data_dir / 'hpi3m.csv', index_label='date', header='True', \n",
    "           float_format='%g')\n",
    "color = 'blue!35!cyan'\n",
    "color3 = 'purple'\n",
    "node = end_node(ch, color, date='m', offset=0.35,\n",
    "                full_year=True, percent=True)\n",
    "write_txt(text_dir / 'fhfa_node.txt', node)\n",
    "node = end_node(d3m, color3, percent=True)\n",
    "write_txt(text_dir / 'fhfa3m_node.txt', node)\n",
    "\n",
    "chtxt = value_text(ch.iloc[-1])\n",
    "prtxt = value_text(ch.iloc[-2], 'increase_of')\n",
    "ltdt = dtxt(ch.index[-1])['mon1']\n",
    "prdt = dtxt(ch.index[-2])['mon1']\n",
    "pr = ch.iloc[-2]\n",
    "pr3 = d3m.iloc[-2]\n",
    "div = data.iloc[-1].idxmax()\n",
    "maxval = data.iloc[-1].max()\n",
    "divs = pd.read_csv('raw/census_regions.csv')\n",
    "div_list = divs[divs['Division'] == div].State.to_list()\n",
    "states = f\"{', '.join(div_list[:-1])}, and {div_list[-1]}\"\n",
    "ch3m = d3m.iloc[-1]\n",
    "mreg = value_text(maxval)\n",
    "text = (f'{chtxt} over the year ending {ltdt} {c_line(color)}. '+\n",
    "        'The average of the latest three months of data compared '+\n",
    "        f'to the previous three months shows an annualized growth '+\n",
    "        f'rate of {ch3m:.1f} percent {c_line(color3)}. In {prdt}, '+\n",
    "        f'the one-year growth rate was {pr:.1f} percent and the '+\n",
    "        f'three-month growth rate was {pr3:.1f} percent. Home '+\n",
    "        f'prices in the {div} region, which includes {states}, '+\n",
    "        f'{mreg} in {ltdt}, the highest one-year growth rate.')\n",
    "write_txt(text_dir / 'fhfa.txt', text)\n",
    "print(text)"
   ]
  },
  {
   "cell_type": "code",
   "execution_count": 3,
   "metadata": {
    "ExecuteTime": {
     "end_time": "2022-02-24T22:30:32.848391Z",
     "start_time": "2022-02-24T22:30:32.819057Z"
    }
   },
   "outputs": [
    {
     "data": {
      "text/html": [
       "<div>\n",
       "<style scoped>\n",
       "    .dataframe tbody tr th:only-of-type {\n",
       "        vertical-align: middle;\n",
       "    }\n",
       "\n",
       "    .dataframe tbody tr th {\n",
       "        vertical-align: top;\n",
       "    }\n",
       "\n",
       "    .dataframe thead th {\n",
       "        text-align: right;\n",
       "    }\n",
       "</style>\n",
       "<table border=\"1\" class=\"dataframe\">\n",
       "  <thead>\n",
       "    <tr style=\"text-align: right;\">\n",
       "      <th></th>\n",
       "      <th>Dec `21</th>\n",
       "      <th>Nov `21</th>\n",
       "      <th>Oct `21</th>\n",
       "      <th>Sep `21</th>\n",
       "      <th>Dec `20</th>\n",
       "      <th>Dec `19</th>\n",
       "      <th>Dec `18</th>\n",
       "      <th>`03--`05 Average</th>\n",
       "      <th>`09--`12 Average</th>\n",
       "    </tr>\n",
       "  </thead>\n",
       "  <tbody>\n",
       "    <tr>\n",
       "      <th>Mountain</th>\n",
       "      <td>23.2</td>\n",
       "      <td>23.1</td>\n",
       "      <td>23.5</td>\n",
       "      <td>24.0</td>\n",
       "      <td>13.9</td>\n",
       "      <td>8.1</td>\n",
       "      <td>7.6</td>\n",
       "      <td>11.1</td>\n",
       "      <td>-4.2</td>\n",
       "    </tr>\n",
       "    <tr>\n",
       "      <th>South Atlantic</th>\n",
       "      <td>20.6</td>\n",
       "      <td>20.5</td>\n",
       "      <td>19.5</td>\n",
       "      <td>20.0</td>\n",
       "      <td>12.0</td>\n",
       "      <td>5.8</td>\n",
       "      <td>6.2</td>\n",
       "      <td>11.3</td>\n",
       "      <td>-3.7</td>\n",
       "    </tr>\n",
       "    <tr>\n",
       "      <th>Pacific</th>\n",
       "      <td>19.4</td>\n",
       "      <td>19.2</td>\n",
       "      <td>20.0</td>\n",
       "      <td>19.7</td>\n",
       "      <td>12.8</td>\n",
       "      <td>5.3</td>\n",
       "      <td>5.1</td>\n",
       "      <td>18.4</td>\n",
       "      <td>-3.9</td>\n",
       "    </tr>\n",
       "    <tr>\n",
       "      <th>East South Central</th>\n",
       "      <td>18.5</td>\n",
       "      <td>19.8</td>\n",
       "      <td>18.8</td>\n",
       "      <td>17.7</td>\n",
       "      <td>11.7</td>\n",
       "      <td>6.6</td>\n",
       "      <td>5.7</td>\n",
       "      <td>5.1</td>\n",
       "      <td>-1.6</td>\n",
       "    </tr>\n",
       "    <tr>\n",
       "      <th>West South Central</th>\n",
       "      <td>17.9</td>\n",
       "      <td>18.3</td>\n",
       "      <td>17.3</td>\n",
       "      <td>18.1</td>\n",
       "      <td>9.2</td>\n",
       "      <td>5.3</td>\n",
       "      <td>4.1</td>\n",
       "      <td>4.3</td>\n",
       "      <td>0.3</td>\n",
       "    </tr>\n",
       "    <tr>\n",
       "      <th>\\textbf{United States}</th>\n",
       "      <td>17.6</td>\n",
       "      <td>17.6</td>\n",
       "      <td>17.5</td>\n",
       "      <td>17.8</td>\n",
       "      <td>11.7</td>\n",
       "      <td>5.8</td>\n",
       "      <td>5.5</td>\n",
       "      <td>9.2</td>\n",
       "      <td>-2.5</td>\n",
       "    </tr>\n",
       "    <tr>\n",
       "      <th>New England</th>\n",
       "      <td>16.5</td>\n",
       "      <td>15.7</td>\n",
       "      <td>15.8</td>\n",
       "      <td>18.3</td>\n",
       "      <td>13.5</td>\n",
       "      <td>5.1</td>\n",
       "      <td>4.9</td>\n",
       "      <td>10.3</td>\n",
       "      <td>-2.2</td>\n",
       "    </tr>\n",
       "    <tr>\n",
       "      <th>East North Central</th>\n",
       "      <td>14.1</td>\n",
       "      <td>13.9</td>\n",
       "      <td>14.0</td>\n",
       "      <td>14.7</td>\n",
       "      <td>11.8</td>\n",
       "      <td>5.8</td>\n",
       "      <td>5.3</td>\n",
       "      <td>4.3</td>\n",
       "      <td>-2.4</td>\n",
       "    </tr>\n",
       "    <tr>\n",
       "      <th>West North Central</th>\n",
       "      <td>13.9</td>\n",
       "      <td>13.3</td>\n",
       "      <td>13.5</td>\n",
       "      <td>13.9</td>\n",
       "      <td>9.9</td>\n",
       "      <td>5.8</td>\n",
       "      <td>5.7</td>\n",
       "      <td>5.4</td>\n",
       "      <td>-1.1</td>\n",
       "    </tr>\n",
       "    <tr>\n",
       "      <th>Middle Atlantic</th>\n",
       "      <td>13.4</td>\n",
       "      <td>13.8</td>\n",
       "      <td>14.2</td>\n",
       "      <td>14.3</td>\n",
       "      <td>11.7</td>\n",
       "      <td>5.1</td>\n",
       "      <td>4.7</td>\n",
       "      <td>11.3</td>\n",
       "      <td>-2.3</td>\n",
       "    </tr>\n",
       "  </tbody>\n",
       "</table>\n",
       "</div>"
      ],
      "text/plain": [
       "                        Dec `21  Nov `21  Oct `21  Sep `21  Dec `20  Dec `19  \\\n",
       "Mountain                   23.2     23.1     23.5     24.0     13.9      8.1   \n",
       "South Atlantic             20.6     20.5     19.5     20.0     12.0      5.8   \n",
       "Pacific                    19.4     19.2     20.0     19.7     12.8      5.3   \n",
       "East South Central         18.5     19.8     18.8     17.7     11.7      6.6   \n",
       "West South Central         17.9     18.3     17.3     18.1      9.2      5.3   \n",
       "\\textbf{United States}     17.6     17.6     17.5     17.8     11.7      5.8   \n",
       "New England                16.5     15.7     15.8     18.3     13.5      5.1   \n",
       "East North Central         14.1     13.9     14.0     14.7     11.8      5.8   \n",
       "West North Central         13.9     13.3     13.5     13.9      9.9      5.8   \n",
       "Middle Atlantic            13.4     13.8     14.2     14.3     11.7      5.1   \n",
       "\n",
       "                        Dec `18  `03--`05 Average  `09--`12 Average  \n",
       "Mountain                    7.6              11.1              -4.2  \n",
       "South Atlantic              6.2              11.3              -3.7  \n",
       "Pacific                     5.1              18.4              -3.9  \n",
       "East South Central          5.7               5.1              -1.6  \n",
       "West South Central          4.1               4.3               0.3  \n",
       "\\textbf{United States}      5.5               9.2              -2.5  \n",
       "New England                 4.9              10.3              -2.2  \n",
       "East North Central          5.3               4.3              -2.4  \n",
       "West North Central          5.7               5.4              -1.1  \n",
       "Middle Atlantic             4.7              11.3              -2.3  "
      ]
     },
     "execution_count": 3,
     "metadata": {},
     "output_type": "execute_result"
    }
   ],
   "source": [
    "t = pd.DataFrame()\n",
    "for i in [-1, -2, -3, -4, -13, -25, -37]:\n",
    "    t[dtxt(data.index[i])['mon6']] = data.iloc[i]\n",
    "    \n",
    "t['`03--`05 Average'] = data.loc['2003':'2005'].mean()\n",
    "t['`09--`12 Average'] = data.loc['2009':'2012'].mean()\n",
    "\n",
    "final = (t.rename({'USA': '\\\\textbf{United States}'})\n",
    "          .sort_values(dtxt(data.index[-1])['mon6'], ascending=False)\n",
    "          .round(1))\n",
    "\n",
    "final.to_csv(data_dir / 'hpi.tex', sep='&', line_terminator='\\\\\\ ', \n",
    "             quotechar=' ')\n",
    "final"
   ]
  },
  {
   "cell_type": "code",
   "execution_count": null,
   "metadata": {},
   "outputs": [],
   "source": []
  },
  {
   "cell_type": "code",
   "execution_count": null,
   "metadata": {},
   "outputs": [],
   "source": []
  },
  {
   "cell_type": "markdown",
   "metadata": {},
   "source": [
    "### Ratio of price to rent"
   ]
  },
  {
   "cell_type": "code",
   "execution_count": 5,
   "metadata": {
    "ExecuteTime": {
     "end_time": "2022-02-27T17:54:28.106359Z",
     "start_time": "2022-02-27T17:54:28.089146Z"
    }
   },
   "outputs": [
    {
     "name": "stdout",
     "output_type": "stream",
     "text": [
      "As of December 2021, housing prices are 45.7 percent above the rental equivalent (see {\\color{red}\\textbf{---}}).\n"
     ]
    }
   ],
   "source": [
    "hpi = pd.read_csv(data_dir / 'hpi_raw.csv', index_col='date', \n",
    "                  parse_dates=True)['USA']\n",
    "rent = (pd.read_csv(data_dir / 'cpi_raw.csv', index_col='date', \n",
    "                    parse_dates=True)['Rent of primary residence'])\n",
    "ratio = (hpi / rent).dropna()\n",
    "ratio = ratio / ratio.iloc[0]\n",
    "ratio.name = 'VALUE'\n",
    "ratio.to_csv(data_dir / 'hpi_rent_ratio.csv', index_label='date', \n",
    "             header=True)\n",
    "\n",
    "ltdate = dtxt(ratio.index[-1])['mon1']\n",
    "ltval = (ratio.iloc[-1] - 1) * 100\n",
    "cl = c_line('red')\n",
    "val = value_text(ltval, 'above_below')\n",
    "text = (f'As of {ltdate}, housing prices are {val} '+\n",
    "        f'the rental equivalent {cl}.')\n",
    "write_txt(text_dir / 'hp_rent.txt', text)\n",
    "print(text)"
   ]
  },
  {
   "cell_type": "code",
   "execution_count": null,
   "metadata": {},
   "outputs": [],
   "source": []
  },
  {
   "cell_type": "code",
   "execution_count": null,
   "metadata": {},
   "outputs": [],
   "source": []
  },
  {
   "cell_type": "markdown",
   "metadata": {},
   "source": [
    "### Owner's equity share in real estate"
   ]
  },
  {
   "cell_type": "code",
   "execution_count": null,
   "metadata": {
    "ExecuteTime": {
     "end_time": "2022-02-22T16:02:59.746139Z",
     "start_time": "2022-02-22T16:02:58.798571Z"
    }
   },
   "outputs": [],
   "source": [
    "data = fred_df('HOEREPHRE')['VALUE'].astype('float')\n",
    "data.to_csv(data_dir / 'homeeq.csv', index_label='date', header=True)\n",
    "\n",
    "datelt = dtxt(data.index[-1])['qtr1']\n",
    "latest = data.iloc[-1]\n",
    "ch3, ch1 = [value_text(data.diff(i).iloc[-1], style='increase_by', \n",
    "                   adj='total', ptype='pp') for i in [12, 4]]\n",
    "avg89 = data.loc['1989'].mean()\n",
    "compare = compare_text(latest, avg89, [0.05, 1.0, 5.0])\n",
    "node_color = 'blue!80!violet'\n",
    "node = end_node(data, node_color, percent=True)\n",
    "write_txt(text_dir / 'homeeq_node.txt', node)\n",
    "cl = c_line(node_color)\n",
    "url = 'https://www.federalreserve.gov/releases/z1/20191212/html/b101.htm'\n",
    "text = (f'As of {datelt}, the Federal Reserve \\href{{{url}}}{{report}} '+\n",
    "        f\"owners\\' equity is {latest:.1f} percent of residential \"+\n",
    "        f\"real estate {cl}. Over the past three years, the owners\\' \"+\n",
    "        f\"equity share {ch3}. Over the past year, the share {ch1}. \"+\n",
    "        f'The current share is {compare} the 1989 average of {avg89:.1f} '+\n",
    "        f'percent.')\n",
    "write_txt(text_dir / 'homeeq.txt', text)\n",
    "print(text)"
   ]
  },
  {
   "cell_type": "code",
   "execution_count": null,
   "metadata": {},
   "outputs": [],
   "source": []
  },
  {
   "cell_type": "code",
   "execution_count": null,
   "metadata": {},
   "outputs": [],
   "source": []
  },
  {
   "cell_type": "markdown",
   "metadata": {},
   "source": [
    "### Residential construction"
   ]
  },
  {
   "cell_type": "code",
   "execution_count": 2,
   "metadata": {
    "ExecuteTime": {
     "end_time": "2022-03-02T18:34:33.550835Z",
     "start_time": "2022-03-02T18:34:32.399057Z"
    }
   },
   "outputs": [],
   "source": [
    "key = census_key\n",
    "base = 'https://api.census.gov/data/timeseries/eits/resconst/'\n",
    "param = 'cell_value,time_slot_id,category_code,data_type_code'\n",
    "t = '&time=from+1989'\n",
    "oth = '&for=us&seasonally_adj=yes'\n",
    "\n",
    "url = f'{base}?get={param}&key={key}{t}{oth}'\n",
    "\n",
    "r = requests.get(url).json()"
   ]
  },
  {
   "cell_type": "code",
   "execution_count": 3,
   "metadata": {
    "ExecuteTime": {
     "end_time": "2022-03-02T18:34:33.824342Z",
     "start_time": "2022-03-02T18:34:33.551978Z"
    }
   },
   "outputs": [],
   "source": [
    "for t in ['total', 'single', 'multi']:\n",
    "    df = pd.DataFrame()\n",
    "    for series in ['APERMITS', 'ASTARTS', 'ACOMPLETIONS']:\n",
    "        df[series] = pd.Series(\n",
    "            {pd.to_datetime(i[4]): \n",
    "             float(i[0]) for i in r[1:] if i[2] == series \n",
    "             and i[3] == t.upper()}\n",
    "        ).sort_index()\n",
    "    df.to_csv(data_dir / f'permits_{t}.csv', index_label='date')"
   ]
  },
  {
   "cell_type": "code",
   "execution_count": 4,
   "metadata": {
    "ExecuteTime": {
     "end_time": "2022-03-02T18:34:36.036774Z",
     "start_time": "2022-03-02T18:34:36.019830Z"
    }
   },
   "outputs": [
    {
     "name": "stdout",
     "output_type": "stream",
     "text": [
      "In January 2022, a seasonally-adjusted annual rate of 1,895,000 new residential housing units were authorized by building permits, the highest level since May 2006 (see {\\color{blue!70!green}\\textbf{---}}). Permits issued increased by 10,000 (0.5 percent) over the previous month, increased by 12,000 (0.6 percent) over last January, and increased by 594,000 (45.7 percent) total over the past five years. \n",
      "\n",
      "In January 2022, a seasonally-adjusted annual rate of 1,246,000 new residential units were completed (see {\\color{blue!30!cyan}\\textbf{---}}), compared to 1,315,000 in December and 1,404,000 in January 2021.\n"
     ]
    }
   ],
   "source": [
    "df = pd.read_csv(data_dir / 'permits_total.csv', \n",
    "                 parse_dates=True, index_col='date')\n",
    "p_col = 'blue!70!green'\n",
    "node = end_node(df.APERMITS, p_col, date='m', full_year=True, \n",
    "                digits='comma', offset=0.35)\n",
    "write_txt(text_dir / 'permits_node.txt', node)\n",
    "c_col = 'blue!30!cyan'\n",
    "node = end_node(df.ACOMPLETIONS, c_col, date='m', full_year=True, \n",
    "                digits='comma', offset=0.35)\n",
    "write_txt(text_dir / 'completions_node.txt', node)\n",
    "\n",
    "s = series_info(df['APERMITS'])\n",
    "s['val_5yr_ago'] = df['APERMITS'].iloc[-61]\n",
    "\n",
    "if s['days_since_match'] > 100:\n",
    "    hlt = f\", {s['last_matched']}\"\n",
    "else:\n",
    "    hlt = ''\n",
    "month = s['date_latest'].strftime('%B')\n",
    "\n",
    "d = {}\n",
    "for i in ['val_prev', 'val_year_ago', 'val_5yr_ago']:\n",
    "    mo_ch = s[\"val_latest\"] - s[i]\n",
    "    mo_pch = (s[\"val_latest\"] / s[i] - 1) * 100\n",
    "    if mo_ch >= 0.1:\n",
    "        txt = f'increased by {abs(mo_ch)*1000:,.0f} ({mo_pch:.1f} percent)'\n",
    "    elif mo_ch <= -0.1:\n",
    "        txt = f'decreased by {abs(mo_ch)*1000:,.0f} ({mo_pch:.1f} percent)'\n",
    "    else:\n",
    "        txt = 'were virtually unchanged' \n",
    "    d[i] = txt\n",
    "\n",
    "date = s[\"date_latest_ft\"]    \n",
    "    \n",
    "text = (f'In {date}, a seasonally-adjusted annual rate of '+\n",
    "        f'{s[\"val_latest\"]*1000:,.0f} new residential housing '+\n",
    "        f'units were authorized by building permits{hlt} '+\n",
    "        f'{c_line(p_col)}. Permits issued {d[\"val_prev\"]} '+\n",
    "        f'over the previous month, {d[\"val_year_ago\"]} '+\n",
    "        f'over last {month}, and {d[\"val_5yr_ago\"]} total '+\n",
    "        f'over the past five years.')\n",
    "write_txt(text_dir / 'permits.txt', text)\n",
    "print(text, '\\n')\n",
    "\n",
    "prdate = dtxt(df.index[-2])['mon3']\n",
    "pryrdate = dtxt(df.index[-13])['mon1']\n",
    "ltval = df['ACOMPLETIONS'].iloc[-1]\n",
    "prval = df['ACOMPLETIONS'].iloc[-2]\n",
    "pryrval = df['ACOMPLETIONS'].iloc[-3]\n",
    "text = (f'In {date}, a seasonally-adjusted annual rate of '+\n",
    "        f'{ltval*1000:,.0f} new residential units were completed '+\n",
    "        f'{c_line(c_col)}, compared to {prval*1000:,.0f} in '+\n",
    "        f'{prdate} and {pryrval*1000:,.0f} in {pryrdate}.')\n",
    "write_txt(text_dir / 'completions.txt', text)\n",
    "print(text)"
   ]
  },
  {
   "cell_type": "code",
   "execution_count": 5,
   "metadata": {
    "ExecuteTime": {
     "end_time": "2022-03-02T18:34:39.836550Z",
     "start_time": "2022-03-02T18:34:39.828568Z"
    }
   },
   "outputs": [
    {
     "name": "stdout",
     "output_type": "stream",
     "text": [
      "In January 2022, a seasonally-adjusted annual rate of 1,213,000 new single-family residential units were permitted and 927,000 were completed.\n",
      "In January 2022, a seasonally-adjusted annual rate of 625,000 new multi-family residential units were permitted and 309,000 were completed.\n"
     ]
    }
   ],
   "source": [
    "for t in ['single', 'multi']:\n",
    "    df = pd.read_csv(data_dir / f'permits_{t}.csv', \n",
    "                     parse_dates=True, index_col='date')\n",
    "    date = dtxt(df.index[-1])['mon1']\n",
    "    pval = df['APERMITS'].iloc[-1]\n",
    "    cval = df['ACOMPLETIONS'].iloc[-1]\n",
    "    text = (f'In {date}, a seasonally-adjusted annual rate of '+\n",
    "            f'{pval*1000:,.0f} new {t}-family residential units were '+\n",
    "            f'permitted and {cval*1000:,.0f} were completed.')\n",
    "    write_txt(text_dir / f'permits_{t}.txt', text)\n",
    "    print(text)"
   ]
  },
  {
   "cell_type": "code",
   "execution_count": null,
   "metadata": {},
   "outputs": [],
   "source": []
  },
  {
   "cell_type": "code",
   "execution_count": null,
   "metadata": {},
   "outputs": [],
   "source": []
  },
  {
   "cell_type": "markdown",
   "metadata": {},
   "source": [
    "### Household formation estimates"
   ]
  },
  {
   "cell_type": "code",
   "execution_count": 6,
   "metadata": {
    "ExecuteTime": {
     "end_time": "2022-03-02T18:34:57.669112Z",
     "start_time": "2022-03-02T18:34:47.671913Z"
    }
   },
   "outputs": [],
   "source": [
    "files = ['histtab8.xlsx', 'hist_tab_8a_v2020.xlsx']\n",
    "url = 'https://www.census.gov/housing/hvs/data/'\n",
    "\n",
    "results = {}\n",
    "lev = {}\n",
    "for file in files:\n",
    "    data = pd.read_excel(url + file).iloc[4:, :5]\n",
    "    data.columns = ['category', 'Q1', 'Q2', 'Q3', 'Q4']\n",
    "    years = []\n",
    "    for h in data[data['Q1'] == '1st Qtr'].index - 1:\n",
    "        year_raw = data.loc[h, 'Q1']\n",
    "        if type(year_raw) == int:\n",
    "            year = year_raw\n",
    "        elif type(year_raw) == str:\n",
    "            year = int(year_raw[:4])\n",
    "        elif type(year) == float:\n",
    "            year = year + 1\n",
    "        years.append(year)\n",
    "    data.loc[data['Q1'] == '1st Qtr', 'category'] = years\n",
    "    data = data.dropna(subset=['category'])\n",
    "    \n",
    "    df = pd.DataFrame()\n",
    "    levels = pd.DataFrame()\n",
    "    for series in ['Owner', 'Renter']:\n",
    "        srs = data.loc[data['category'].astype('str').str.contains(series)]\n",
    "        srs.index = years\n",
    "        srs = srs[['Q1', 'Q2', 'Q3', 'Q4']].unstack().swaplevel()\n",
    "        srs.index = pd.to_datetime([f'{i[0]}-{i[1]}' for i in srs.index])\n",
    "        srs = srs.sort_index()\n",
    "        df[series] = srs\n",
    "        levels[series] = srs\n",
    "    df = df.dropna()\n",
    "    df['Total'] = df.sum(axis=1)\n",
    "    lev[file] = levels[~levels.index.duplicated()]\n",
    "    \n",
    "    # Convert to share of total change\n",
    "    for s in ['Owner', 'Renter']:  \n",
    "        df[s] = ((df[s] - df[s].shift(4))\n",
    "                  /df['Total'].shift(4)) * 100\n",
    "        \n",
    "    df = (df.reset_index()\n",
    "            .drop_duplicates(subset='index', keep='last')\n",
    "            .set_index('index'))\n",
    "    \n",
    "    results[file] = (df[['Owner', 'Renter']].dropna().rolling(4)\n",
    "                     .mean().loc['1989':])\n",
    "l90 = lev['histtab8.xlsx'].loc['1990-01-01'].sum()\n",
    "l90txt = f'{l90 / 1_000:.1f} million'"
   ]
  },
  {
   "cell_type": "code",
   "execution_count": 7,
   "metadata": {
    "ExecuteTime": {
     "end_time": "2022-03-02T18:34:57.699765Z",
     "start_time": "2022-03-02T18:34:57.670102Z"
    }
   },
   "outputs": [],
   "source": [
    "final = (results['histtab8.xlsx'].loc[:'2001']\n",
    "         .append(results['hist_tab_8a_v2020.xlsx'].loc['2002':]))\n",
    "final['pop'] = (nipa_df(retrieve_table('T70100')['Data'], ['B230RC'])\n",
    "                .pct_change(4).dropna() * 100)\n",
    "\n",
    "final.to_csv(data_dir / 'hhform.csv', index_label='date')\n",
    "\n",
    "levels = levels.dropna()\n",
    "ldate = f'{levels.index[-1].year} Q{levels.index[-1].quarter}'\n",
    "pdate = f'{levels.index[-2].year} Q{levels.index[-2].quarter}'\n",
    "tot = levels.iloc[-1].sum() / 1000\n",
    "rtot = levels['Renter'].iloc[-1] / 1000\n",
    "rsh = rtot / tot * 100\n",
    "otot = levels['Owner'].iloc[-1] / 1000\n",
    "osh = otot / tot * 100\n",
    "\n",
    "ch = levels.diff(4).rolling(4).mean().iloc[-1]\n",
    "incdec = ['increase' if ch.sum() >= 0 else 'decrease']\n",
    "chtot = [f'{abs(ch.sum()) / 1000:.1f} million' \n",
    "         if ch.sum() > 1000 else f'{abs(ch.sum())*1000:,.0f}'][0]\n",
    "\n",
    "t = {name: [f'{abs(s) / 1000:.1f} million {[\"net new\" if s >= 0 else \"net fewer\"][0]}' \n",
    "            if s > 1000 \n",
    "            else f'{abs(s):.0f},000 {[\"net new\" if s >= 0 else \"net fewer\"][0]}'][0]\n",
    "     for name, s in [('tot', ch.sum()), ('rent', ch.Renter), ('own', ch.Owner)]}\n",
    "\n",
    "htxt = (f'In {ldate}, there were {tot:.1f} households, '+\n",
    "        f'compared to {l90txt} in 1990.')\n",
    "write_txt(text_dir / 'hh_tot.txt', htxt)\n",
    "\n",
    "text = (f'As of {ldate}, there are {tot:.1f} million total occupied '+\n",
    "        f'housing units in the US, of which {rtot:.1f} million ({rsh:.1f} percent) '+\n",
    "        f'are rented, and {otot:.1f} million ({osh:.1f} percent) are '+\n",
    "        'owner-occupied. There was an average annual net total '+\n",
    "        f'{incdec[0]} of {chtot} housing units '+\n",
    "        f'over the year ending {ldate}, the result of {t[\"rent\"]} '+\n",
    "        f'renter households and {t[\"own\"]} '+\n",
    "        f'owner-occupied households. ')"
   ]
  },
  {
   "cell_type": "code",
   "execution_count": 8,
   "metadata": {
    "ExecuteTime": {
     "end_time": "2022-03-02T18:34:57.709190Z",
     "start_time": "2022-03-02T18:34:57.700906Z"
    }
   },
   "outputs": [
    {
     "name": "stdout",
     "output_type": "stream",
     "text": [
      "As of 2021 Q4, there are 127.4 million total occupied housing units in the US, of which 44.0 million (34.5 percent) are rented, and 83.5 million (65.5 percent) are owner-occupied. There was an average annual net total increase of 765,000 housing units over the year ending 2021 Q4, the result of 1.7 million net new renter households and 963,000 net fewer owner-occupied households. Over the year ending 2021 Q4, the total number of occupied housing units increased by 0.6 percent, compared to an increase of 0.7 percent in 2021 Q3. Owner-occupied units subtracted 0.8 percent from total household formation on average over the year (see\\cbox{teal!70!green!85!black}), compared to a contribution of 1.4 percent from rented units (see\\cbox{cyan!70!white}).\n"
     ]
    }
   ],
   "source": [
    "totgr = final[['Owner', 'Renter']].sum(axis=1).iloc[-1]\n",
    "ogr = final['Owner'].iloc[-1]\n",
    "rgr = final['Renter'].iloc[-1]\n",
    "\n",
    "final['Total'] = final[['Owner', 'Renter']].sum(axis=1)\n",
    "\n",
    "t2 = {name: [f\"{['increased' if s >= 0 else 'decreased'][0]} by {abs(s):.1f} percent\"][0] \n",
    "      for name, s in final.iloc[-1].iteritems()}\n",
    "\n",
    "t3 = {name: [f\"{['an increase' if s >= 0 else 'a decreased'][0]} of {abs(s):.1f} percent\"][0] \n",
    "      for name, s in final.iloc[-2].iteritems()}\n",
    "\n",
    "t4 = {name: [f\"{['a contribution' if s >= 0 else 'a reduction'][0]} of {abs(s):.1f} percent\"][0] \n",
    "      for name, s in final.iloc[-1].iteritems()}\n",
    "\n",
    "t5 = {name: [f\"{[f'contributed {abs(s):.1f} percent to' if s >= 0 else f'subtracted {abs(s):.1f} percent from'][0]}\"][0] \n",
    "      for name, s in final.iloc[-1].iteritems()}\n",
    "\n",
    "cbo = c_box('teal!70!green!85!black')\n",
    "cbr = c_box('cyan!70!white')\n",
    "\n",
    "text2 = (f'Over the year ending {ldate}, the total number of '+\n",
    "         f'occupied housing units {t2[\"Total\"]}, compared to '+\n",
    "         f'{t3[\"Total\"]} in {pdate}. Owner-occupied units '+\n",
    "         f'{t5[\"Owner\"]} total household formation on average '+\n",
    "         f'over the year {cbo}, compared to {t4[\"Renter\"]} from '+\n",
    "         f'rented units {cbr}.')\n",
    "txt = text + text2\n",
    "write_txt(text_dir / 'hhform1.txt', txt)\n",
    "print(txt)"
   ]
  },
  {
   "cell_type": "code",
   "execution_count": null,
   "metadata": {},
   "outputs": [],
   "source": []
  },
  {
   "cell_type": "code",
   "execution_count": null,
   "metadata": {},
   "outputs": [],
   "source": []
  },
  {
   "cell_type": "markdown",
   "metadata": {},
   "source": [
    "### New Home Sales"
   ]
  },
  {
   "cell_type": "code",
   "execution_count": 4,
   "metadata": {
    "ExecuteTime": {
     "end_time": "2022-02-24T22:30:55.938157Z",
     "start_time": "2022-02-24T22:30:55.247106Z"
    }
   },
   "outputs": [
    {
     "name": "stdout",
     "output_type": "stream",
     "text": [
      "In January 2022, the Census Bureau \\href{https://www.census.gov/construction/nrs/pdf/newressales.pdf}{report} seasonally-adjusted single family new homes sales totaling 801,000 (see {\\color{green!80!blue}\\textbf{---}}). Over the past year, new homes sales decreased 0.2 percent. Pre-COVID, in February 2020, the annualized rate of single family new home sales was 730,000. Since February 2020, new home sales have increased 9.7 percent.\n"
     ]
    }
   ],
   "source": [
    "data = fred_df('HSN1F')['VALUE']\n",
    "data.to_csv(data_dir / 'nhs.csv', index_label='date', header=True)\n",
    "\n",
    "node_color = 'green!80!blue'\n",
    "datelt = dtxt(data.index[-1])['mon1']\n",
    "latest = data.iloc[-1] * 1000\n",
    "ch1yr = data.pct_change(12).iloc[-1]\n",
    "\n",
    "txt = value_text(ch1yr)\n",
    "compdt = '2020-02-01'\n",
    "cdt = dtxt(pd.to_datetime(compdt))['mon1']\n",
    "pc = data.loc[compdt]\n",
    "pcch = ((data.iloc[-1] / pc) - 1) * 100\n",
    "pcvt = value_text(pcch)\n",
    "url = 'https://www.census.gov/construction/nrs/pdf/newressales.pdf'\n",
    "cl = c_line(node_color)\n",
    "text = (f'In {datelt}, the Census Bureau \\href{{{url}}}{{report}}'+\n",
    "        ' seasonally-adjusted single family new homes sales totaling '+\n",
    "        f'{latest:,.0f} {cl}. Over the past year, new homes sales '+\n",
    "        f'{txt}. Pre-COVID, in {cdt}, the annualized rate of '+\n",
    "        f'single family new home sales was {pc * 1000:,.0f}. '+\n",
    "        f'Since {cdt}, new home sales have {pcvt}.')\n",
    "write_txt(text_dir / 'nhs.txt', text)\n",
    "print(text)\n",
    "\n",
    "node = end_node(data, node_color, date='m', digits=0, full_year=True)\n",
    "write_txt(text_dir / 'nhs_node.txt', node)"
   ]
  },
  {
   "cell_type": "code",
   "execution_count": null,
   "metadata": {},
   "outputs": [],
   "source": []
  },
  {
   "cell_type": "code",
   "execution_count": null,
   "metadata": {},
   "outputs": [],
   "source": []
  }
 ],
 "metadata": {
  "kernelspec": {
   "display_name": "Python 3",
   "language": "python",
   "name": "python3"
  },
  "language_info": {
   "codemirror_mode": {
    "name": "ipython",
    "version": 3
   },
   "file_extension": ".py",
   "mimetype": "text/x-python",
   "name": "python",
   "nbconvert_exporter": "python",
   "pygments_lexer": "ipython3",
   "version": "3.8.8"
  }
 },
 "nbformat": 4,
 "nbformat_minor": 4
}
