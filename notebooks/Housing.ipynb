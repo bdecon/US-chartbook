{
 "cells": [
  {
   "cell_type": "markdown",
   "metadata": {},
   "source": [
    "# Housing"
   ]
  },
  {
   "cell_type": "code",
   "execution_count": 1,
   "metadata": {
    "ExecuteTime": {
     "end_time": "2022-03-23T23:37:22.757120Z",
     "start_time": "2022-03-23T23:37:21.675584Z"
    }
   },
   "outputs": [],
   "source": [
    "import sys\n",
    "sys.path.append('../src')\n",
    "\n",
    "import uschartbook.config\n",
    "\n",
    "from uschartbook.config import *\n",
    "from uschartbook.utils import *"
   ]
  },
  {
   "cell_type": "markdown",
   "metadata": {},
   "source": [
    "### Homeownership rate"
   ]
  },
  {
   "cell_type": "code",
   "execution_count": null,
   "metadata": {},
   "outputs": [],
   "source": [
    "# Seasonally adjusted homeownership rate\n",
    "url = ('https://api.census.gov/data/timeseries/eits/hv?'+\n",
    "       f'get=cell_value,time_slot_id,data_type_code,'+\n",
    "       f'category_code&key={census_key}&time=from+1989&'+\n",
    "       'for=us&seasonally_adj=yes')\n",
    "r = requests.get(url).json()\n",
    "date = lambda x: pd.to_datetime(x.time)\n",
    "df = (pd.DataFrame(r[1:], columns=r[0]).assign(date = date)\n",
    "        .set_index('date')['cell_value'].astype('float')\n",
    "        .sort_index().rename('VALUE'))\n",
    "df.to_csv(data_dir / 'homeown.csv', index_label='date', \n",
    "          header=True)"
   ]
  },
  {
   "cell_type": "code",
   "execution_count": null,
   "metadata": {
    "ExecuteTime": {
     "end_time": "2022-03-09T18:23:25.371734Z",
     "start_time": "2022-03-09T18:23:25.364994Z"
    }
   },
   "outputs": [],
   "source": [
    "df = pd.read_csv(data_dir / 'homeown.csv', \n",
    "                 index_col='date', parse_dates=True)['VALUE']\n",
    "col = 'violet!60!magenta'\n",
    "node = end_node(df, col, percent=True, \n",
    "                date='q', full_year=True)\n",
    "write_txt(text_dir / 'homeown_node.txt', node)\n",
    "dtlt = dtxt(df.index[-1])['qtr1']\n",
    "latest = df.iloc[-1]\n",
    "ch3yr = value_text(df.diff(12).iloc[-1], ptype='pp', \n",
    "                   adj='total')\n",
    "url = 'https://www.census.gov/housing/hvs/index.html'\n",
    "cl = c_line(col)\n",
    "text = (f'As of {dtlt}, the Census Bureau \\href{{{url}}}'+\n",
    "        f'{{report}} a homeownership rate of {latest:.1f} '+\n",
    "        f'percent {cl}. Over the past three years, the '+\n",
    "        f'overall US homeownership rate {ch3yr}.')\n",
    "write_txt(text_dir / 'homeown.txt', text)\n",
    "print(text)"
   ]
  },
  {
   "cell_type": "code",
   "execution_count": null,
   "metadata": {},
   "outputs": [],
   "source": []
  },
  {
   "cell_type": "code",
   "execution_count": null,
   "metadata": {},
   "outputs": [],
   "source": []
  },
  {
   "cell_type": "markdown",
   "metadata": {},
   "source": [
    "### By Race/Ethnicity"
   ]
  },
  {
   "cell_type": "code",
   "execution_count": null,
   "metadata": {},
   "outputs": [],
   "source": [
    "url = 'https://www.census.gov/housing/hvs/data/histtab16.xlsx'\n",
    "\n",
    "data = pd.read_excel(url)\n",
    "df = data.iloc[7:-9, :-6].reset_index().drop('index', axis=1)\n",
    "df.columns = ['Date', 'Total', 'White', 'Black', 'Other', 'Other2', 'Hispanic']\n",
    "df = df.replace('2002r', 2002).replace('20033', 2003).dropna(how='all')\n",
    "\n",
    "q = {1: '01', 2: '04', 3: '07', 4: '10'}\n",
    "\n",
    "d = {}\n",
    "for i, row in df.iterrows():\n",
    "    if i not in d.keys():\n",
    "        d[i] = {}\n",
    "    if type(row['Date']) == int:\n",
    "        for y in list(range(i, i+5)):\n",
    "            if y in df.index:\n",
    "                d[y] = {'quarter': ''}\n",
    "                d[y]['year'] = row['Date']\n",
    "    if (type(row['Date']) != int) & ('.' in str(row['Date'])):\n",
    "        d[i]['quarter'] = q[int(row['Date'][0])]\n",
    "        \n",
    "    if 'year' not in d[i].keys():\n",
    "        d[i] = {'date': '', 'year': '', 'quarter': ''}\n",
    "    else:\n",
    "        d[i]['date'] = f'{d[i][\"year\"]}-{d[i][\"quarter\"]}-01'\n",
    "        \n",
    "dates = {k: v['date'] for k, v in d.items()}\n",
    "df['date'] = df.index.map(dates)\n",
    "df = df.dropna()\n",
    "df = df.set_index(pd.to_datetime(df.date))\n",
    "result = df[['White', 'Black', 'Hispanic', 'Other', 'Total']]\n",
    "result.to_csv(data_dir / 'homeown2.csv', index_label='date')"
   ]
  },
  {
   "cell_type": "code",
   "execution_count": null,
   "metadata": {
    "ExecuteTime": {
     "end_time": "2022-02-17T03:46:57.563543Z",
     "start_time": "2022-02-17T03:46:57.551928Z"
    }
   },
   "outputs": [],
   "source": [
    "result = pd.read_csv(data_dir / 'homeown2.csv', index_col='date', \n",
    "                     parse_dates=True)\n",
    "\n",
    "color_list = [('Black', 'red!20!orange!95!black'), \n",
    "              ('White', 'blue!80!cyan!80!black'),\n",
    "              ('Hispanic', 'green!80!blue!85!black'),\n",
    "              ('Other', 'red!80!black')]\n",
    "cl = {}\n",
    "for group, color in color_list:\n",
    "    write_txt(text_dir / f'homeown_{group.lower()}_node.txt', \n",
    "              end_node(result[group], color, percent=True))\n",
    "    cl[group] = c_line(color)\n",
    "\n",
    "wtlt = result.White.iloc[-1]\n",
    "blmax = result['Black'].max()\n",
    "blidxmax = dtxt(result['Black'].idxmax())['qtr2']\n",
    "blmin = result.loc['2006':, 'Black'].min()\n",
    "blidxmin = dtxt(result.loc['2006':, 'Black'].idxmin())['qtr1']\n",
    "bllt = result.Black.iloc[-1]\n",
    "ltdt = dtxt(result.index[-1])['qtr1']\n",
    "hsmax = result['Hispanic'].max()\n",
    "hsidxmax = dtxt(result['Hispanic'].idxmax())['qtr2']\n",
    "hslt = result['Hispanic'].iloc[-1]\n",
    "compare = compare_text(hslt, hsmax, [0.3, 1.0, 3.0])\n",
    "if hslt == hsmax:\n",
    "    cmp_txt = 'the highest on record'\n",
    "else:\n",
    "    cmp_txt = f'{compare} the {hsmax:.1f} percent peak rate in {hsidxmax}'\n",
    "\n",
    "text = (f'Around three-quarters ({wtlt:.1f} percent in {ltdt}) of '+\n",
    "        f'non-Hispanic white households own their home {cl[\"White\"]}, '+\n",
    "        'compared to fewer than half of black and Hispanic households. ')\n",
    "write_txt(text_dir / 'homeown2.txt', text)\n",
    "print(text, '\\n')\n",
    "\n",
    "txt2 = ('During the housing bubble, the homeownership rate for black '+\n",
    "        'households increased by nearly ten percentage points, peaked  '+\n",
    "        f'at {blmax:.1f} percentin {blidxmax}, and fell to {blmin:.1f} '+\n",
    "        f'percent in {blidxmin}. The current homeownership rate for black '+\n",
    "        f'households is {bllt:.1f} percent, as of {ltdt} {cl[\"Black\"]}. '+\n",
    "        f'The rate for Hispanic households of any race is {hslt:.1f} '+\n",
    "        f'percent in {ltdt}, {cmp_txt} {cl[\"Hispanic\"]}. ')\n",
    "write_txt(text_dir / 'homeown3.txt', txt2)\n",
    "print(txt2)"
   ]
  },
  {
   "cell_type": "code",
   "execution_count": null,
   "metadata": {},
   "outputs": [],
   "source": []
  },
  {
   "cell_type": "code",
   "execution_count": null,
   "metadata": {},
   "outputs": [],
   "source": []
  },
  {
   "cell_type": "markdown",
   "metadata": {},
   "source": [
    "### FHFA Housing Price Index"
   ]
  },
  {
   "cell_type": "code",
   "execution_count": null,
   "metadata": {
    "ExecuteTime": {
     "end_time": "2022-02-24T02:33:20.537726Z",
     "start_time": "2022-02-24T02:33:20.047500Z"
    }
   },
   "outputs": [],
   "source": [
    "url = ('https://www.fhfa.gov/DataTools/Downloads/'+\n",
    "       'Documents/HPI/HPI_PO_monthly_hist.xls')\n",
    "df = pd.read_excel(url, header=3, index_col=0, \n",
    "                   parse_dates=True).iloc[1:]\n",
    "sa = df[[col for col in df.columns if 'NSA' not in col]]\n",
    "sa.columns = [col.replace('\\n(SA)', '').replace('\\n', '') \n",
    "              for col in df.columns if 'NSA' not in col]\n",
    "sa.to_csv(data_dir / 'hpi_raw.csv', index_label='date')"
   ]
  },
  {
   "cell_type": "code",
   "execution_count": null,
   "metadata": {
    "ExecuteTime": {
     "end_time": "2022-03-15T02:20:16.258729Z",
     "start_time": "2022-03-15T02:20:16.220379Z"
    }
   },
   "outputs": [],
   "source": [
    "dr = pd.read_csv(data_dir / 'hpi_raw.csv', index_col='date', \n",
    "                 parse_dates=True)\n",
    "data = (dr.pct_change(12) * 100)\n",
    "data['USA3M'] = m3rate(dr.USA)\n",
    "df = data.loc['1991':, ['USA', 'USA3M']]\n",
    "df.to_csv(data_dir / 'hpi.csv', index_label='date', float_format='%g')\n",
    "\n",
    "adj = node_adj(df)\n",
    "smax = df.iloc[-1].idxmax()\n",
    "adj[smax] = adj[smax] + 0.35\n",
    "\n",
    "colors = {'USA': 'blue!35!cyan', 'USA3M': 'purple'}\n",
    "\n",
    "node_file = open(text_dir / 'hpi_nodes.txt', 'w')\n",
    "for series, color in colors.items():\n",
    "    date = 'm' if series == smax else None\n",
    "    node_file.write(end_node(df[series], color, date=date,\n",
    "                             percent=True, full_year=True,\n",
    "                             size=1.1, offset=adj[series]))\n",
    "node_file.close()\n",
    "\n",
    "ch = data['USA']\n",
    "chtxt = value_text(df.USA.iloc[-1])\n",
    "prtxt = value_text(df.USA.iloc[-2], 'increase_of')\n",
    "ltdt = dtxt(df.USA.index[-1])['mon1']\n",
    "prdt = dtxt(df.USA.index[-2])['mon1']\n",
    "pr = df.USA.iloc[-2]\n",
    "pr3 = df.USA3M.iloc[-2]\n",
    "regions = data.drop(['USA', 'USA3M'], axis=1).iloc[-1]\n",
    "div = regions.idxmax()\n",
    "maxval = regions.max()\n",
    "divs = pd.read_csv('raw/census_regions.csv')\n",
    "div_list = divs[divs['Division'] == div].State.to_list()\n",
    "states = f\"{', '.join(div_list[:-1])}, and {div_list[-1]}\"\n",
    "ch3m = df.USA3M.iloc[-1]\n",
    "mreg = value_text(maxval)\n",
    "text = (f'{chtxt} over the year ending {ltdt} {c_line(colors[\"USA\"])}. '+\n",
    "        'The average of the latest three months of data compared '+\n",
    "        f'to the previous three months shows an annualized growth '+\n",
    "        f'rate of {ch3m:.1f} percent {c_line(colors[\"USA3M\"])}. '+\n",
    "        f'In {prdt}, the one-year growth rate was {pr:.1f} percent '+\n",
    "        f'and the three-month growth rate was {pr3:.1f} percent. '+\n",
    "        f'Home prices in the {div} region, which includes {states}, '+\n",
    "        f'{mreg} in {ltdt}, the highest one-year growth rate.')\n",
    "write_txt(text_dir / 'fhfa.txt', text)\n",
    "print(text)"
   ]
  },
  {
   "cell_type": "code",
   "execution_count": null,
   "metadata": {
    "ExecuteTime": {
     "end_time": "2022-03-15T02:20:17.424478Z",
     "start_time": "2022-03-15T02:20:17.398507Z"
    }
   },
   "outputs": [],
   "source": [
    "t = pd.DataFrame()\n",
    "for i in [-1, -2, -3, -4, -13, -25, -37]:\n",
    "    t[dtxt(data.index[i])['mon6']] = data.iloc[i]\n",
    "    \n",
    "t['`03--`05 Average'] = data.loc['2003':'2005'].mean()\n",
    "t['`09--`12 Average'] = data.loc['2009':'2012'].mean()\n",
    "\n",
    "final = (t.rename({'USA': '\\\\textbf{United States}'})\n",
    "          .drop('USA3M')\n",
    "          .sort_values(dtxt(data.index[-1])['mon6'], ascending=False)\n",
    "          .round(1))\n",
    "\n",
    "final.to_csv(data_dir / 'hpi.tex', sep='&', line_terminator='\\\\\\ ', \n",
    "             quotechar=' ')\n",
    "final"
   ]
  },
  {
   "cell_type": "code",
   "execution_count": null,
   "metadata": {},
   "outputs": [],
   "source": []
  },
  {
   "cell_type": "code",
   "execution_count": null,
   "metadata": {},
   "outputs": [],
   "source": []
  },
  {
   "cell_type": "markdown",
   "metadata": {},
   "source": [
    "### Ratio of price to rent"
   ]
  },
  {
   "cell_type": "code",
   "execution_count": null,
   "metadata": {
    "ExecuteTime": {
     "end_time": "2022-02-27T17:54:28.106359Z",
     "start_time": "2022-02-27T17:54:28.089146Z"
    }
   },
   "outputs": [],
   "source": [
    "hpi = pd.read_csv(data_dir / 'hpi_raw.csv', index_col='date', \n",
    "                  parse_dates=True)['USA']\n",
    "rent = (pd.read_csv(data_dir / 'cpi_raw.csv', index_col='date', \n",
    "                    parse_dates=True)['Rent of primary residence'])\n",
    "ratio = (hpi / rent).dropna()\n",
    "ratio = ratio / ratio.iloc[0]\n",
    "ratio.name = 'VALUE'\n",
    "ratio.to_csv(data_dir / 'hpi_rent_ratio.csv', index_label='date', \n",
    "             header=True)\n",
    "\n",
    "ltdate = dtxt(ratio.index[-1])['mon1']\n",
    "ltval = (ratio.iloc[-1] - 1) * 100\n",
    "cl = c_line('red')\n",
    "val = value_text(ltval, 'above_below')\n",
    "text = (f'As of {ltdate}, housing prices are {val} '+\n",
    "        f'the rental equivalent {cl}.')\n",
    "write_txt(text_dir / 'hp_rent.txt', text)\n",
    "print(text)"
   ]
  },
  {
   "cell_type": "code",
   "execution_count": null,
   "metadata": {},
   "outputs": [],
   "source": []
  },
  {
   "cell_type": "code",
   "execution_count": null,
   "metadata": {},
   "outputs": [],
   "source": []
  },
  {
   "cell_type": "markdown",
   "metadata": {},
   "source": [
    "### Owner's equity share in real estate"
   ]
  },
  {
   "cell_type": "code",
   "execution_count": null,
   "metadata": {
    "ExecuteTime": {
     "end_time": "2022-03-14T02:40:13.641001Z",
     "start_time": "2022-03-14T02:40:12.054742Z"
    }
   },
   "outputs": [],
   "source": [
    "data = fred_df('HOEREPHRE')['VALUE'].astype('float')\n",
    "data.to_csv(data_dir / 'homeeq.csv', index_label='date', header=True)\n",
    "\n",
    "datelt = dtxt(data.index[-1])['qtr1']\n",
    "latest = data.iloc[-1]\n",
    "ch3, ch1 = [value_text(data.diff(i).iloc[-1], style='increase_by', \n",
    "                   adj='total', ptype='pp') for i in [12, 4]]\n",
    "avg89 = data.loc['1989'].mean()\n",
    "compare = compare_text(latest, avg89, [0.05, 1.0, 5.0])\n",
    "node_color = 'blue!80!violet'\n",
    "node = end_node(data, node_color, percent=True, date='q', full_year=True, offset=-0.35)\n",
    "write_txt(text_dir / 'homeeq_node.txt', node)\n",
    "cl = c_line(node_color)\n",
    "url = 'https://www.federalreserve.gov/releases/z1/20191212/html/b101.htm'\n",
    "text = (f'As of {datelt}, the Federal Reserve \\href{{{url}}}{{report}} '+\n",
    "        f\"\\\\textbf{{owners\\' equity}} is {latest:.1f} percent of residential \"+\n",
    "        f\"real estate {cl}. Over the past three years, the owners\\' \"+\n",
    "        f\"equity share {ch3}. Over the past year, the share {ch1}. \"+\n",
    "        f'The current share is {compare} the 1989 average of {avg89:.1f} '+\n",
    "        f'percent.')\n",
    "write_txt(text_dir / 'homeeq.txt', text)\n",
    "print(text)"
   ]
  },
  {
   "cell_type": "code",
   "execution_count": null,
   "metadata": {},
   "outputs": [],
   "source": []
  },
  {
   "cell_type": "code",
   "execution_count": null,
   "metadata": {},
   "outputs": [],
   "source": []
  },
  {
   "cell_type": "markdown",
   "metadata": {},
   "source": [
    "### Residential construction"
   ]
  },
  {
   "cell_type": "code",
   "execution_count": null,
   "metadata": {
    "ExecuteTime": {
     "end_time": "2022-03-17T13:23:35.484734Z",
     "start_time": "2022-03-17T13:23:34.533928Z"
    }
   },
   "outputs": [],
   "source": [
    "key = census_key\n",
    "base = 'https://api.census.gov/data/timeseries/eits/resconst'\n",
    "param = 'cell_value,time_slot_id,category_code,data_type_code'\n",
    "t = '&time=from+1989'\n",
    "oth = '&for=us&seasonally_adj=yes'\n",
    "\n",
    "url = f'{base}?get={param}&key={key}{t}{oth}'\n",
    "\n",
    "r = requests.get(url).json()"
   ]
  },
  {
   "cell_type": "code",
   "execution_count": null,
   "metadata": {
    "ExecuteTime": {
     "end_time": "2022-03-17T13:23:38.118226Z",
     "start_time": "2022-03-17T13:23:37.882757Z"
    }
   },
   "outputs": [],
   "source": [
    "for t in ['total', 'single', 'multi']:\n",
    "    df = pd.DataFrame()\n",
    "    for series in ['APERMITS', 'ASTARTS', 'ACOMPLETIONS']:\n",
    "        df[series] = pd.Series(\n",
    "            {pd.to_datetime(i[4]): \n",
    "             float(i[0]) for i in r[1:] if i[2] == series \n",
    "             and i[3] == t.upper()}\n",
    "        ).sort_index()\n",
    "    df.to_csv(data_dir / f'permits_{t}.csv', index_label='date')"
   ]
  },
  {
   "cell_type": "code",
   "execution_count": null,
   "metadata": {
    "ExecuteTime": {
     "end_time": "2022-03-17T13:23:41.200193Z",
     "start_time": "2022-03-17T13:23:41.172414Z"
    }
   },
   "outputs": [],
   "source": [
    "df = pd.read_csv(data_dir / 'permits_total.csv', \n",
    "                 parse_dates=True, index_col='date')\n",
    "p_col = 'blue!70!green'\n",
    "node = end_node(df.APERMITS, p_col, date='m', full_year=True, \n",
    "                digits='comma', offset=0.35)\n",
    "write_txt(text_dir / 'permits_node.txt', node)\n",
    "c_col = 'blue!30!cyan'\n",
    "node = end_node(df.ACOMPLETIONS, c_col, date='m', full_year=True, \n",
    "                digits='comma', offset=0.35)\n",
    "write_txt(text_dir / 'completions_node.txt', node)\n",
    "\n",
    "s = series_info(df['APERMITS'])\n",
    "s['val_5yr_ago'] = df['APERMITS'].iloc[-61]\n",
    "\n",
    "if s['days_since_match'] > 100:\n",
    "    hlt = f\", {s['last_matched']}\"\n",
    "else:\n",
    "    hlt = ''\n",
    "month = s['date_latest'].strftime('%B')\n",
    "\n",
    "d = {}\n",
    "for i in ['val_prev', 'val_year_ago', 'val_5yr_ago']:\n",
    "    mo_ch = s[\"val_latest\"] - s[i]\n",
    "    mo_pch = (s[\"val_latest\"] / s[i] - 1) * 100\n",
    "    if mo_ch >= 0.1:\n",
    "        txt = f'increased by {abs(mo_ch)*1000:,.0f} ({mo_pch:.1f} percent)'\n",
    "    elif mo_ch <= -0.1:\n",
    "        txt = f'decreased by {abs(mo_ch)*1000:,.0f} ({mo_pch:.1f} percent)'\n",
    "    else:\n",
    "        txt = 'were virtually unchanged' \n",
    "    d[i] = txt\n",
    "\n",
    "date = s[\"date_latest_ft\"]    \n",
    "    \n",
    "text = (f'In {date}, a seasonally-adjusted annual rate of '+\n",
    "        f'{s[\"val_latest\"]*1000:,.0f} new residential housing '+\n",
    "        f'units were authorized by building permits{hlt} '+\n",
    "        f'{c_line(p_col)}. Permits issued {d[\"val_prev\"]} '+\n",
    "        f'over the previous month, {d[\"val_year_ago\"]} '+\n",
    "        f'over last {month}, and {d[\"val_5yr_ago\"]} total '+\n",
    "        f'over the past five years.')\n",
    "write_txt(text_dir / 'permits.txt', text)\n",
    "print(text, '\\n')\n",
    "\n",
    "prdate = dtxt(df.index[-2])['mon3']\n",
    "pryrdate = dtxt(df.index[-13])['mon1']\n",
    "ltval = df['ACOMPLETIONS'].iloc[-1]\n",
    "prval = df['ACOMPLETIONS'].iloc[-2]\n",
    "pryrval = df['ACOMPLETIONS'].iloc[-3]\n",
    "text = (f'In {date}, a seasonally-adjusted annual rate of '+\n",
    "        f'{ltval*1000:,.0f} new residential units were completed '+\n",
    "        f'{c_line(c_col)}, compared to {prval*1000:,.0f} in '+\n",
    "        f'{prdate} and {pryrval*1000:,.0f} in {pryrdate}.')\n",
    "write_txt(text_dir / 'completions.txt', text)\n",
    "print(text)"
   ]
  },
  {
   "cell_type": "code",
   "execution_count": null,
   "metadata": {
    "ExecuteTime": {
     "end_time": "2022-03-17T13:23:42.817671Z",
     "start_time": "2022-03-17T13:23:42.809684Z"
    }
   },
   "outputs": [],
   "source": [
    "for t in ['single', 'multi']:\n",
    "    df = pd.read_csv(data_dir / f'permits_{t}.csv', \n",
    "                     parse_dates=True, index_col='date')\n",
    "    date = dtxt(df.index[-1])['mon1']\n",
    "    pval = df['APERMITS'].iloc[-1]\n",
    "    cval = df['ACOMPLETIONS'].iloc[-1]\n",
    "    text = (f'In {date}, a seasonally-adjusted annual rate of '+\n",
    "            f'{pval*1000:,.0f} new {t}-family residential units were '+\n",
    "            f'permitted and {cval*1000:,.0f} were completed.')\n",
    "    write_txt(text_dir / f'permits_{t}.txt', text)\n",
    "    print(text)"
   ]
  },
  {
   "cell_type": "code",
   "execution_count": null,
   "metadata": {},
   "outputs": [],
   "source": []
  },
  {
   "cell_type": "code",
   "execution_count": null,
   "metadata": {},
   "outputs": [],
   "source": []
  },
  {
   "cell_type": "markdown",
   "metadata": {},
   "source": [
    "### Household formation estimates"
   ]
  },
  {
   "cell_type": "code",
   "execution_count": 3,
   "metadata": {
    "ExecuteTime": {
     "end_time": "2022-03-18T14:33:13.868025Z",
     "start_time": "2022-03-18T14:33:04.026746Z"
    }
   },
   "outputs": [],
   "source": [
    "# Retrieve historical data and revised data\n",
    "files = {'hist': 'histtab8.xlsx',\n",
    "         'rev': 'hist_tab_8a_v2020.xlsx'}\n",
    "url = 'https://www.census.gov/housing/hvs/data/'\n",
    "for name, file in files.items():\n",
    "    data = pd.read_excel(url + file).iloc[4:, :5]\n",
    "    data.columns = ['category', 'Q1', 'Q2', 'Q3', 'Q4']\n",
    "    years = []\n",
    "    for h in data[data['Q1'] == '1st Qtr'].index - 1:\n",
    "        year_raw = data.loc[h, 'Q1']\n",
    "        if type(year_raw) == int:\n",
    "            year = year_raw\n",
    "        elif type(year_raw) == str:\n",
    "            year = int(year_raw[:4])\n",
    "        elif type(year) == float:\n",
    "            year = year + 1\n",
    "        years.append(year)\n",
    "    data.loc[data['Q1'] == '1st Qtr', 'category'] = years\n",
    "    data = data.dropna(subset=['category'])\n",
    "    \n",
    "    levels = pd.DataFrame()\n",
    "    for series in ['Owner', 'Renter', 'Vacant']:\n",
    "        srs = data.loc[data['category'].astype('str')\n",
    "                       .str.contains(series)]\n",
    "        srs.index = years\n",
    "        srs = srs[['Q1', 'Q2', 'Q3', 'Q4']].unstack().swaplevel()\n",
    "        srs.index = pd.to_datetime([f'{i[0]}-{i[1]}' \n",
    "                                    for i in srs.index])\n",
    "        srs = srs.sort_index()\n",
    "        levels[series] = srs\n",
    "    res = levels[~levels.index.duplicated()]\n",
    "    res.to_csv(data_dir / f'hhform_raw_{name}.csv', \n",
    "               index_label='date')"
   ]
  },
  {
   "cell_type": "code",
   "execution_count": 5,
   "metadata": {
    "ExecuteTime": {
     "end_time": "2022-03-18T14:33:38Z",
     "start_time": "2022-03-18T14:33:37.952775Z"
    }
   },
   "outputs": [
    {
     "name": "stdout",
     "output_type": "stream",
     "text": [
      "Over the year ending 2021 Q4, there were an agerage of 126.6 million total occupied housing units in the US, of which 43.7 million (34.5 percent) were rented, and 82.9 million (65.5 percent) were owner-occupied. \n"
     ]
    }
   ],
   "source": [
    "hist = pd.read_csv(data_dir / 'hhform_raw_hist.csv', index_col='date', \n",
    "                    parse_dates=True)\n",
    "rev = pd.read_csv(data_dir / 'hhform_raw_rev.csv', index_col='date', \n",
    "                    parse_dates=True)\n",
    "level = (hist.loc[:'2000'].append(rev.loc['2001':]))\n",
    "level['Occupied'] = level[['Owner', 'Renter']].sum(axis=1)\n",
    "cats = ['Owner', 'Renter', 'Vacant']\n",
    "lvl = level[cats + ['Occupied']].rolling(4).mean() / 1_000\n",
    "lvl.loc['1989':].to_csv(data_dir / 'hhform_lvl.csv', \n",
    "                        index_label='date')\n",
    "cols = {'Owner': 'teal!68!green!95!black', 'Renter': 'cyan!65!white', \n",
    "        'Vacant': 'orange!80!yellow'}\n",
    "offsets = node_adj(lvl)\n",
    "nodes = '\\n'.join([end_node(lvl[cname], color, offset=offsets[cname]) \n",
    "                   for cname, color in cols.items()])\n",
    "write_txt(text_dir / 'hhform_lvl_nodes.txt', nodes)\n",
    "level['Total'] = level.sum(axis=1)\n",
    "level['pop'] = nipa_df(retrieve_table('T70100')['Data'], ['B230RC'])\n",
    "res = (level.divide(level['pop'], axis=0)[cats]\n",
    "            .rolling(4).mean().dropna()) * 100\n",
    "res = res.loc['1989':]\n",
    "res = res - res.iloc[0]\n",
    "res.to_csv(data_dir / 'hhform_idx.csv', index_label='date')\n",
    "offsets = node_adj(res)\n",
    "nodes = '\\n'.join([end_node(res[cname], color, offset=offsets[cname]) \n",
    "                   for cname, color in cols.items()])\n",
    "write_txt(text_dir / 'hhform_idx_nodes.txt', nodes)\n",
    "\n",
    "ltdt = dtxt(level.index[-1])['qtr1']\n",
    "lvllt = lvl['Occupied'].iloc[-1]\n",
    "lvlltr = lvl['Renter'].iloc[-1] \n",
    "lvllto = lvl['Owner'].iloc[-1]\n",
    "lvl90 = lvl.loc['1990-10-01', 'Occupied']\n",
    "shltr = (lvl['Renter'] / lvl['Occupied']).iloc[-1] * 100\n",
    "shlto = (lvl['Owner'] / lvl['Occupied']).iloc[-1] * 100\n",
    "htxt = (f'Over the year ending {ltdt}, there were an average of {lvllt:.1f} '+\n",
    "        f'million households, compared to {lvl90:.1f} million in 1990.')\n",
    "write_txt(text_dir / 'hh_tot.txt', htxt)\n",
    "\n",
    "text = (f'Over the year ending {ltdt}, there were an agerage of '+\n",
    "        f'{lvllt:.1f} million total occupied '+\n",
    "        f'housing units in the US, of which {lvlltr:.1f} million '+\n",
    "        f'({shltr:.1f} percent) were rented, and {lvllto:.1f} '+\n",
    "        f'million ({shlto:.1f} percent) were owner-occupied. ')\n",
    "write_txt(text_dir / 'hhform_lvl.txt', text)\n",
    "print(text)"
   ]
  },
  {
   "cell_type": "code",
   "execution_count": 6,
   "metadata": {
    "ExecuteTime": {
     "end_time": "2022-03-18T14:33:42.550928Z",
     "start_time": "2022-03-18T14:33:42.504531Z"
    }
   },
   "outputs": [
    {
     "name": "stdout",
     "output_type": "stream",
     "text": [
      "From 2019 Q4 to 2021 Q4, the average annual \\textbf{household formation rate} was 1.6 percent, while annual population growth averaged 0.3 percent. Changes in the number of owner-occupied households contributed 1.7 percentage points on an average basis (see\\cbox{teal!68!green!95!black}), and changes in rented households subtracted 0.1 percentage point (see\\cbox{cyan!65!white}). Over the year ending 2021 Q4, the household formation rate averaged 0.6 percent, of which owner-occupied households subtracted 0.8 percentage point, and rented households contributed 1.4 percentage points. \n"
     ]
    }
   ],
   "source": [
    "cats = ['Owner', 'Renter', 'Vacant']\n",
    "occ = 'Occupied'\n",
    "\n",
    "grps = {}\n",
    "for name, dft in {'hist': hist, 'rev': rev}.items():\n",
    "    dft['Occupied'] = dft[['Owner', 'Renter']].sum(axis=1)\n",
    "    grps[name] = growth_contrib_ann(dft[cats + [occ]], 'Occupied')[cats].dropna()\n",
    "    \n",
    "ch = (grps['hist'].loc[:'2001'].append(grps['rev'].loc['2002':]))\n",
    "ch = ch.loc['1987':].rolling(4).mean().dropna()\n",
    "ch['pop'] = (nipa_df(retrieve_table('T70100')['Data'], ['B230RC'])\n",
    "                .pct_change(4).dropna() * 100).round(2)\n",
    "ch.dropna().to_csv(data_dir / 'hhform.csv', index_label='date')\n",
    "\n",
    "ch['Occupied'] = ch['Owner'] + ch['Renter']\n",
    "ch19 = ch.loc['2019-10-01':, 'Occupied'].mean()\n",
    "chpop = ch.loc['2019-10-01':, 'pop'].mean()\n",
    "ch19oo = value_text(ch.loc['2019-10-01':, 'Owner'].mean(), \n",
    "           'contribution', 'pp', adj='average')\n",
    "ch19r = value_text(ch.loc['2019-10-01':, 'Renter'].mean(), \n",
    "           'contribution', 'pp')\n",
    "chlt = ch['Occupied'].iloc[-1]\n",
    "chltoo = value_text(ch['Owner'].iloc[-1], 'contribution', 'pp')\n",
    "chltr = value_text(ch['Renter'].iloc[-1], 'contribution', 'pp')\n",
    "text = (f'From 2019 Q4 to {ltdt}, the average annual \\\\textbf{{household '+\n",
    "        f'formation rate}} was {ch19:.1f} percent, while annual population '+\n",
    "        f'growth averaged {chpop:.1f} percent. Changes in the number '+\n",
    "        f'of owner-occupied households {ch19oo} {c_box(cols[\"Owner\"])}, and '+\n",
    "        f'changes in rented households {ch19r} {c_box(cols[\"Renter\"])}. Over '+\n",
    "        f'the year ending {ltdt}, the household formation rate averaged '+\n",
    "        f'{chlt:.1f} percent, of which owner-occupied households {chltoo}, '+\n",
    "        f'and rented households {chltr}. ')\n",
    "write_txt(text_dir / 'hhform.txt', text)\n",
    "print(text)"
   ]
  },
  {
   "cell_type": "code",
   "execution_count": null,
   "metadata": {},
   "outputs": [],
   "source": []
  },
  {
   "cell_type": "code",
   "execution_count": null,
   "metadata": {},
   "outputs": [],
   "source": []
  },
  {
   "cell_type": "markdown",
   "metadata": {},
   "source": [
    "### New Home Sales"
   ]
  },
  {
   "cell_type": "code",
   "execution_count": 2,
   "metadata": {
    "ExecuteTime": {
     "end_time": "2022-03-23T23:37:27.766343Z",
     "start_time": "2022-03-23T23:37:26.872351Z"
    }
   },
   "outputs": [],
   "source": [
    "# New home sales data from Census API\n",
    "url = ('https://api.census.gov/data/timeseries/eits/ressales?'+\n",
    "       f'get=cell_value,time_slot_id,data_type_code,'+\n",
    "       f'category_code&key={census_key}&time=from+1989&'+\n",
    "       'for=us&seasonally_adj=yes&data_type_code=TOTAL'+\n",
    "       '&category_code=ASOLD')\n",
    "r = requests.get(url).json()\n",
    "date = lambda x: pd.to_datetime(x.time)\n",
    "df = (pd.DataFrame(r[1:], columns=r[0]).assign(date = date)\n",
    "        .set_index('date')['cell_value'].astype('float')\n",
    "        .sort_index().rename('VALUE'))\n",
    "df.to_csv(data_dir / 'nhs.csv', index_label='date', \n",
    "          header=True)"
   ]
  },
  {
   "cell_type": "code",
   "execution_count": 3,
   "metadata": {
    "ExecuteTime": {
     "end_time": "2022-03-23T23:37:28.713423Z",
     "start_time": "2022-03-23T23:37:28.702991Z"
    }
   },
   "outputs": [
    {
     "name": "stdout",
     "output_type": "stream",
     "text": [
      "In February 2022, the Census Bureau \\href{https://www.census.gov/construction/nrs/pdf/newressales.pdf}{report} seasonally-adjusted single family new homes sales totaling 772,000 (see {\\color{green!80!blue}\\textbf{---}}). Over the past year, new homes sales decreased 0.1 percent. Pre-COVID, in February 2020, the annualized rate of single family new home sales was 730,000. Since February 2020, new home sales have increased 5.8 percent.\n"
     ]
    }
   ],
   "source": [
    "data = pd.read_csv(data_dir / 'nhs.csv', index_col='date',\n",
    "                   parse_dates=True)['VALUE']\n",
    "node_color = 'green!80!blue'\n",
    "datelt = dtxt(data.index[-1])['mon1']\n",
    "latest = data.iloc[-1] * 1000\n",
    "ch1yr = data.pct_change(12).iloc[-1]\n",
    "\n",
    "txt = value_text(ch1yr)\n",
    "compdt = '2020-02-01'\n",
    "cdt = dtxt(pd.to_datetime(compdt))['mon1']\n",
    "pc = data.loc[compdt]\n",
    "pcch = ((data.iloc[-1] / pc) - 1) * 100\n",
    "pcvt = value_text(pcch)\n",
    "url = 'https://www.census.gov/construction/nrs/pdf/newressales.pdf'\n",
    "cl = c_line(node_color)\n",
    "text = (f'In {datelt}, the Census Bureau \\href{{{url}}}{{report}}'+\n",
    "        ' seasonally-adjusted single family new homes sales totaling '+\n",
    "        f'{latest:,.0f} {cl}. Over the past year, new homes sales '+\n",
    "        f'{txt}. Pre-COVID, in {cdt}, the annualized rate of '+\n",
    "        f'single family new home sales was {pc * 1000:,.0f}. '+\n",
    "        f'Since {cdt}, new home sales have {pcvt}.')\n",
    "write_txt(text_dir / 'nhs.txt', text)\n",
    "print(text)\n",
    "\n",
    "node = end_node(data, node_color, date='m', digits=0, full_year=True)\n",
    "write_txt(text_dir / 'nhs_node.txt', node)"
   ]
  },
  {
   "cell_type": "code",
   "execution_count": null,
   "metadata": {},
   "outputs": [],
   "source": []
  },
  {
   "cell_type": "code",
   "execution_count": null,
   "metadata": {},
   "outputs": [],
   "source": []
  },
  {
   "cell_type": "code",
   "execution_count": null,
   "metadata": {},
   "outputs": [],
   "source": []
  },
  {
   "cell_type": "code",
   "execution_count": null,
   "metadata": {},
   "outputs": [],
   "source": []
  },
  {
   "cell_type": "code",
   "execution_count": null,
   "metadata": {},
   "outputs": [],
   "source": []
  }
 ],
 "metadata": {
  "kernelspec": {
   "display_name": "Python 3 (ipykernel)",
   "language": "python",
   "name": "python3"
  },
  "language_info": {
   "codemirror_mode": {
    "name": "ipython",
    "version": 3
   },
   "file_extension": ".py",
   "mimetype": "text/x-python",
   "name": "python",
   "nbconvert_exporter": "python",
   "pygments_lexer": "ipython3",
   "version": "3.8.8"
  }
 },
 "nbformat": 4,
 "nbformat_minor": 4
}
