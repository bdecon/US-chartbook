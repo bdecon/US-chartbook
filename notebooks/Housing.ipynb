{
 "cells": [
  {
   "cell_type": "markdown",
   "metadata": {},
   "source": [
    "# Housing"
   ]
  },
  {
   "cell_type": "code",
   "execution_count": 1,
   "metadata": {
    "ExecuteTime": {
     "end_time": "2020-12-12T15:51:57.168223Z",
     "start_time": "2020-12-12T15:51:56.495874Z"
    }
   },
   "outputs": [],
   "source": [
    "import sys\n",
    "sys.path.append('../src')\n",
    "\n",
    "import uschartbook.config\n",
    "\n",
    "from uschartbook.config import *\n",
    "from uschartbook.utils import *"
   ]
  },
  {
   "cell_type": "markdown",
   "metadata": {},
   "source": [
    "### Homeownership rate"
   ]
  },
  {
   "cell_type": "code",
   "execution_count": 2,
   "metadata": {
    "ExecuteTime": {
     "end_time": "2020-11-03T01:12:39.079843Z",
     "start_time": "2020-11-03T01:12:38.399287Z"
    }
   },
   "outputs": [
    {
     "name": "stdout",
     "output_type": "stream",
     "text": [
      "As of 2020 Q3, the Census Bureau \\href{https://www.census.gov/housing/hvs/index.html}{report} a rate of home-ownership of 67.4 percent (see {\\color{violet!60!magenta}\\textbf{---}}). Over the past three years, the overall US homeownership rate increased by a total of 3.5 percentage points.\n"
     ]
    }
   ],
   "source": [
    "data = fred_df('RHORUSQ156N')['VALUE']\n",
    "\n",
    "data.to_csv(data_dir / 'homeown.csv', index_label='date', header=True)\n",
    "\n",
    "datelt = dtxt(data.index[-1])['qtr1']\n",
    "latest = data.iloc[-1]\n",
    "ch3yr = data.diff(12).iloc[-1]\n",
    "\n",
    "txt = val_inc_pp(ch3yr)\n",
    "\n",
    "text = (f'As of {datelt}, the Census Bureau '+\n",
    "        '\\href{https://www.census.gov/housing/hvs/index.html}{report} a rate '+\n",
    "        f'of home-ownership of {latest:.1f} percent (see {{\\color{{violet!60!magenta}}\\\\textbf{{---}}}}). '+\n",
    "        f'Over the past three years, the overall US homeownership rate {txt}.')\n",
    "\n",
    "write_txt(text_dir / 'homeown.txt', text)\n",
    "\n",
    "print(text)\n",
    "\n",
    "node = end_node(data, 'violet!60!magenta')\n",
    "write_txt(text_dir / 'homeown_node.txt', node)"
   ]
  },
  {
   "cell_type": "code",
   "execution_count": null,
   "metadata": {},
   "outputs": [],
   "source": []
  },
  {
   "cell_type": "code",
   "execution_count": null,
   "metadata": {},
   "outputs": [],
   "source": []
  },
  {
   "cell_type": "markdown",
   "metadata": {},
   "source": [
    "### By Race/Ethnicity"
   ]
  },
  {
   "cell_type": "code",
   "execution_count": 3,
   "metadata": {
    "ExecuteTime": {
     "end_time": "2020-11-03T01:12:39.745925Z",
     "start_time": "2020-11-03T01:12:39.084653Z"
    }
   },
   "outputs": [
    {
     "name": "stdout",
     "output_type": "stream",
     "text": [
      "Around three-quarters (75.8 percent in 2020 Q3) of non-Hispanic white households own their home (see {\\color{blue!80!cyan!80!black}\\textbf{---}}), compared to fewer than half of black and Hispanic households.  \n",
      "\n",
      "During the housing bubble, the homeownership rate for black households increased by nearly ten percentage points, peaked at 49.7 percent in the second quarter of 2004, and fell to 40.6 percent in 2019 Q2. The current homeownership rate for black households is 46.4 percent, as of 2020 Q3 (see {\\color{red!20!orange!95!black}\\textbf{---}}). The rate for Hispanic households of any race is 50.9 percent in 2020 Q3, slightly below the 51.4 percent peak rate in the second quarter of 2020 (see {\\color{green!80!blue!85!black}\\textbf{---}}). \n"
     ]
    }
   ],
   "source": [
    "url = 'https://www.census.gov/housing/hvs/data/histtab16.xlsx'\n",
    "\n",
    "data = pd.read_excel(url)\n",
    "df = data.iloc[7:-8, :-1].reset_index().drop('index', axis=1)\n",
    "df.columns = ['Date', 'Total', 'White', 'Black', 'Other', 'Other2', 'Hispanic']\n",
    "df = df.replace('2002r', 2002).replace('20033', 2003).dropna(how='all')\n",
    "\n",
    "q = {1: '01', 2: '04', 3: '07', 4: '10'}\n",
    "\n",
    "d = {}\n",
    "for i, row in df.iterrows():\n",
    "    if i not in d.keys():\n",
    "        d[i] = {}\n",
    "    if type(row['Date']) == int:\n",
    "        for y in list(range(i, i+5)):\n",
    "            if y in df.index:\n",
    "                d[y] = {'quarter': ''}\n",
    "                d[y]['year'] = row['Date']\n",
    "    if (type(row['Date']) != int) & ('.' in str(row['Date'])):\n",
    "        d[i]['quarter'] = q[int(row['Date'][0])]\n",
    "        \n",
    "    if 'year' not in d[i].keys():\n",
    "        d[i] = {'date': '', 'year': '', 'quarter': ''}\n",
    "    else:\n",
    "        d[i]['date'] = f'{d[i][\"year\"]}-{d[i][\"quarter\"]}-01'\n",
    "        \n",
    "dates = {k: v['date'] for k, v in d.items()}\n",
    "df['date'] = df.index.map(dates)\n",
    "df = df.dropna()\n",
    "df = df.set_index(pd.to_datetime(df.date))\n",
    "result = df[['White', 'Black', 'Hispanic', 'Other', 'Total']]\n",
    "\n",
    "result.to_csv(data_dir / 'homeown2.csv', index_label='date', header=True)\n",
    "\n",
    "write_txt(text_dir / 'homeown_black_node.txt', end_node(result['Black'], 'red!20!orange!95!black'))\n",
    "write_txt(text_dir / 'homeown_white_node.txt', end_node(result['White'], 'blue!80!cyan!80!black'))\n",
    "write_txt(text_dir / 'homeown_hispanic_node.txt', end_node(result['Hispanic'], 'green!80!blue!85!black'))\n",
    "write_txt(text_dir / 'homeown_other_node.txt', end_node(result['Other'], 'red!80!black'))\n",
    "\n",
    "wtlt = result.White.iloc[-1]\n",
    "blmax = result['Black'].max()\n",
    "blidxmax = dtxt(result['Black'].idxmax())['qtr2']\n",
    "blmin = result.loc['2006':, 'Black'].min()\n",
    "blidxmin = dtxt(result.loc['2006':, 'Black'].idxmin())['qtr1']\n",
    "bllt = result.Black.iloc[-1]\n",
    "ltdt = dtxt(result.index[-1])['qtr1']\n",
    "hsmax = result['Hispanic'].max()\n",
    "hsidxmax = dtxt(result['Hispanic'].idxmax())['qtr2']\n",
    "hslt = result['Hispanic'].iloc[-1]\n",
    "compare = compare_text(hslt, hsmax, [0.3, 1.0, 3.0])\n",
    "if hslt == hsmax:\n",
    "    cmp_txt = 'the highest on record'\n",
    "else:\n",
    "    cmp_txt = f'{compare} the {hsmax:.1f} percent peak rate in {hsidxmax}'\n",
    "\n",
    "\n",
    "text = (f'Around three-quarters ({wtlt:.1f} percent in {ltdt}) of non-Hispanic '+\n",
    "        'white households own their home (see {\\color{blue!80!cyan!80!black}\\\\textbf{---}}), '+\n",
    "        'compared to fewer than half of black and Hispanic households. ')\n",
    "\n",
    "write_txt(text_dir / 'homeown2.txt', text)\n",
    "\n",
    "print(text, '\\n')\n",
    "\n",
    "txt2 = ('During the housing bubble, the homeownership rate for black households increased '+\n",
    "        f'by nearly ten percentage points, peaked at {blmax:.1f} percent '+\n",
    "        f'in {blidxmax}, and fell to {blmin:.1f} percent in {blidxmin}. The current '+\n",
    "        f'homeownership rate for black households is {bllt:.1f} percent, as of '+\n",
    "        f'{ltdt} (see {{\\color{{red!20!orange!95!black}}\\\\textbf{{---}}}}). '+\n",
    "        'The rate for Hispanic households '+\n",
    "        f'of any race is {hslt:.1f} percent in {ltdt}, {cmp_txt} '+\n",
    "        '(see {\\color{green!80!blue!85!black}\\\\textbf{---}}). ')\n",
    "\n",
    "write_txt(text_dir / 'homeown3.txt', txt2)\n",
    "\n",
    "print(txt2)"
   ]
  },
  {
   "cell_type": "code",
   "execution_count": 4,
   "metadata": {
    "ExecuteTime": {
     "end_time": "2020-11-03T01:12:39.925011Z",
     "start_time": "2020-11-03T01:12:39.747140Z"
    }
   },
   "outputs": [
    {
     "data": {
      "text/plain": [
       "<AxesSubplot:xlabel='date'>"
      ]
     },
     "execution_count": 4,
     "metadata": {},
     "output_type": "execute_result"
    },
    {
     "data": {
      "image/png": "[encoded data removed]",
      "text/plain": [
       "<Figure size 432x288 with 1 Axes>"
      ]
     },
     "metadata": {
      "needs_background": "light"
     },
     "output_type": "display_data"
    }
   ],
   "source": [
    "result.plot()"
   ]
  },
  {
   "cell_type": "code",
   "execution_count": null,
   "metadata": {},
   "outputs": [],
   "source": []
  },
  {
   "cell_type": "code",
   "execution_count": null,
   "metadata": {},
   "outputs": [],
   "source": []
  },
  {
   "cell_type": "markdown",
   "metadata": {},
   "source": [
    "### FHFA Housing Price Index"
   ]
  },
  {
   "cell_type": "code",
   "execution_count": 2,
   "metadata": {
    "ExecuteTime": {
     "end_time": "2020-12-12T15:52:16.223444Z",
     "start_time": "2020-12-12T15:52:14.861871Z"
    }
   },
   "outputs": [
    {
     "name": "stdout",
     "output_type": "stream",
     "text": [
      "increased by 9.1 percent over the year ending September 2020. Among Census Divisions, the fastest one-year housing price index growth rate in September 2020 was 11.2 percent in the Mountain Division, which includes Arizona, Colorado, Idaho, Montana, New Mexico, Nevada, Utah, and Wyoming.\n"
     ]
    }
   ],
   "source": [
    "df = pd.read_csv('https://www.fhfa.gov/HPI_master.csv')\n",
    "srs = ['place_name', 'yr', 'period', 'index_sa']\n",
    "dr = (df.loc[(df['level'] == 'USA or Census Division') & \n",
    "             (df['frequency'] == 'monthly'), srs]\n",
    "        .rename({'yr': 'year', 'period': 'month'}, axis=1)\n",
    "        .assign(day = 1))\n",
    "\n",
    "data = (dr.set_index([pd.to_datetime(dr[['year', 'month', 'day']]), \n",
    "                   dr['place_name']])\n",
    "          .index_sa.unstack().pct_change(12) * 100).dropna()\n",
    "data.columns = [i.replace(' Division', '') for i in data.columns]\n",
    "ch = data['United States']\n",
    "ch.to_csv(data_dir / 'hpi.csv', index_label='date', header='True')\n",
    "node = end_node(ch, 'cyan!60!blue', date=True)\n",
    "write_txt(text_dir / 'fhfa_node.txt', node)\n",
    "\n",
    "chtxt = inc_dec_percent(ch.iloc[-1])\n",
    "ltdt = dtxt(ch.index[-1])['mon1']\n",
    "div = data.iloc[-1].idxmax()\n",
    "maxval = data.iloc[-1].max()\n",
    "divs = pd.read_csv('raw/census_regions.csv')\n",
    "div_list = divs[divs['Division'] == div].State.to_list()\n",
    "states = f\"{', '.join(div_list[:-1])}, and {div_list[-1]}\"\n",
    "\n",
    "text = (f'{chtxt} over the year ending {ltdt}. '+\n",
    "          'Among Census Divisions, the fastest one-year housing '+\n",
    "         f'price index growth rate in {ltdt} was {maxval:.1f} '+\n",
    "         f'percent in the {div} Division, which includes {states}.')\n",
    "\n",
    "write_txt(text_dir / 'fhfa.txt', text)\n",
    "print(text)"
   ]
  },
  {
   "cell_type": "code",
   "execution_count": 3,
   "metadata": {
    "ExecuteTime": {
     "end_time": "2020-12-12T15:52:20.092633Z",
     "start_time": "2020-12-12T15:52:20.054619Z"
    },
    "scrolled": true
   },
   "outputs": [
    {
     "data": {
      "text/html": [
       "<div>\n",
       "<style scoped>\n",
       "    .dataframe tbody tr th:only-of-type {\n",
       "        vertical-align: middle;\n",
       "    }\n",
       "\n",
       "    .dataframe tbody tr th {\n",
       "        vertical-align: top;\n",
       "    }\n",
       "\n",
       "    .dataframe thead th {\n",
       "        text-align: right;\n",
       "    }\n",
       "</style>\n",
       "<table border=\"1\" class=\"dataframe\">\n",
       "  <thead>\n",
       "    <tr style=\"text-align: right;\">\n",
       "      <th></th>\n",
       "      <th>Sep `20</th>\n",
       "      <th>Aug `20</th>\n",
       "      <th>Jul `20</th>\n",
       "      <th>Jun `20</th>\n",
       "      <th>Sep `19</th>\n",
       "      <th>Sep `18</th>\n",
       "      <th>Sep `17</th>\n",
       "      <th>`03--`05 Average</th>\n",
       "      <th>`09--`12 Average</th>\n",
       "    </tr>\n",
       "  </thead>\n",
       "  <tbody>\n",
       "    <tr>\n",
       "      <th>Mountain</th>\n",
       "      <td>11.2</td>\n",
       "      <td>9.7</td>\n",
       "      <td>8.0</td>\n",
       "      <td>7.7</td>\n",
       "      <td>6.6</td>\n",
       "      <td>9.2</td>\n",
       "      <td>8.6</td>\n",
       "      <td>11.1</td>\n",
       "      <td>-4.2</td>\n",
       "    </tr>\n",
       "    <tr>\n",
       "      <th>New England</th>\n",
       "      <td>10.1</td>\n",
       "      <td>8.0</td>\n",
       "      <td>7.0</td>\n",
       "      <td>5.3</td>\n",
       "      <td>4.6</td>\n",
       "      <td>4.9</td>\n",
       "      <td>5.4</td>\n",
       "      <td>10.3</td>\n",
       "      <td>-2.2</td>\n",
       "    </tr>\n",
       "    <tr>\n",
       "      <th>Pacific</th>\n",
       "      <td>9.7</td>\n",
       "      <td>8.0</td>\n",
       "      <td>6.1</td>\n",
       "      <td>5.7</td>\n",
       "      <td>4.7</td>\n",
       "      <td>5.9</td>\n",
       "      <td>8.6</td>\n",
       "      <td>18.4</td>\n",
       "      <td>-3.9</td>\n",
       "    </tr>\n",
       "    <tr>\n",
       "      <th>Middle Atlantic</th>\n",
       "      <td>9.6</td>\n",
       "      <td>7.8</td>\n",
       "      <td>5.8</td>\n",
       "      <td>4.8</td>\n",
       "      <td>4.7</td>\n",
       "      <td>4.3</td>\n",
       "      <td>5.2</td>\n",
       "      <td>11.3</td>\n",
       "      <td>-2.2</td>\n",
       "    </tr>\n",
       "    <tr>\n",
       "      <th>East South Central</th>\n",
       "      <td>9.3</td>\n",
       "      <td>9.0</td>\n",
       "      <td>7.3</td>\n",
       "      <td>6.1</td>\n",
       "      <td>6.6</td>\n",
       "      <td>5.9</td>\n",
       "      <td>4.9</td>\n",
       "      <td>5.1</td>\n",
       "      <td>-1.6</td>\n",
       "    </tr>\n",
       "    <tr>\n",
       "      <th>\\textbf{United States}</th>\n",
       "      <td>9.1</td>\n",
       "      <td>8.1</td>\n",
       "      <td>6.6</td>\n",
       "      <td>5.9</td>\n",
       "      <td>5.5</td>\n",
       "      <td>6.0</td>\n",
       "      <td>6.4</td>\n",
       "      <td>9.2</td>\n",
       "      <td>-2.5</td>\n",
       "    </tr>\n",
       "    <tr>\n",
       "      <th>South Atlantic</th>\n",
       "      <td>8.8</td>\n",
       "      <td>8.7</td>\n",
       "      <td>7.0</td>\n",
       "      <td>6.3</td>\n",
       "      <td>5.9</td>\n",
       "      <td>6.8</td>\n",
       "      <td>6.5</td>\n",
       "      <td>11.3</td>\n",
       "      <td>-3.7</td>\n",
       "    </tr>\n",
       "    <tr>\n",
       "      <th>East North Central</th>\n",
       "      <td>8.7</td>\n",
       "      <td>7.7</td>\n",
       "      <td>6.9</td>\n",
       "      <td>5.8</td>\n",
       "      <td>5.6</td>\n",
       "      <td>6.3</td>\n",
       "      <td>5.6</td>\n",
       "      <td>4.3</td>\n",
       "      <td>-2.4</td>\n",
       "    </tr>\n",
       "    <tr>\n",
       "      <th>West North Central</th>\n",
       "      <td>8.6</td>\n",
       "      <td>7.4</td>\n",
       "      <td>6.3</td>\n",
       "      <td>5.9</td>\n",
       "      <td>5.8</td>\n",
       "      <td>5.4</td>\n",
       "      <td>5.1</td>\n",
       "      <td>5.4</td>\n",
       "      <td>-1.1</td>\n",
       "    </tr>\n",
       "    <tr>\n",
       "      <th>West South Central</th>\n",
       "      <td>7.7</td>\n",
       "      <td>7.2</td>\n",
       "      <td>5.3</td>\n",
       "      <td>5.1</td>\n",
       "      <td>4.9</td>\n",
       "      <td>4.4</td>\n",
       "      <td>6.2</td>\n",
       "      <td>4.3</td>\n",
       "      <td>0.3</td>\n",
       "    </tr>\n",
       "  </tbody>\n",
       "</table>\n",
       "</div>"
      ],
      "text/plain": [
       "                        Sep `20  Aug `20  Jul `20  Jun `20  Sep `19  Sep `18  \\\n",
       "Mountain                   11.2      9.7      8.0      7.7      6.6      9.2   \n",
       "New England                10.1      8.0      7.0      5.3      4.6      4.9   \n",
       "Pacific                     9.7      8.0      6.1      5.7      4.7      5.9   \n",
       "Middle Atlantic             9.6      7.8      5.8      4.8      4.7      4.3   \n",
       "East South Central          9.3      9.0      7.3      6.1      6.6      5.9   \n",
       "\\textbf{United States}      9.1      8.1      6.6      5.9      5.5      6.0   \n",
       "South Atlantic              8.8      8.7      7.0      6.3      5.9      6.8   \n",
       "East North Central          8.7      7.7      6.9      5.8      5.6      6.3   \n",
       "West North Central          8.6      7.4      6.3      5.9      5.8      5.4   \n",
       "West South Central          7.7      7.2      5.3      5.1      4.9      4.4   \n",
       "\n",
       "                        Sep `17  `03--`05 Average  `09--`12 Average  \n",
       "Mountain                    8.6              11.1              -4.2  \n",
       "New England                 5.4              10.3              -2.2  \n",
       "Pacific                     8.6              18.4              -3.9  \n",
       "Middle Atlantic             5.2              11.3              -2.2  \n",
       "East South Central          4.9               5.1              -1.6  \n",
       "\\textbf{United States}      6.4               9.2              -2.5  \n",
       "South Atlantic              6.5              11.3              -3.7  \n",
       "East North Central          5.6               4.3              -2.4  \n",
       "West North Central          5.1               5.4              -1.1  \n",
       "West South Central          6.2               4.3               0.3  "
      ]
     },
     "execution_count": 3,
     "metadata": {},
     "output_type": "execute_result"
    }
   ],
   "source": [
    "t = pd.DataFrame()\n",
    "for i in [-1, -2, -3, -4, -13, -25, -37]:\n",
    "    t[dtxt(data.index[i])['mon6']] = data.iloc[i]\n",
    "    \n",
    "t['`03--`05 Average'] = data.loc['2003':'2005'].mean()\n",
    "t['`09--`12 Average'] = data.loc['2009':'2012'].mean()\n",
    "\n",
    "final = (t.rename({'United States': '\\\\textbf{United States}'})\n",
    "          .sort_values(dtxt(data.index[-1])['mon6'], ascending=False)\n",
    "          .round(1))\n",
    "\n",
    "final.to_csv(data_dir / 'hpi.tex', sep='&', line_terminator='\\\\\\ ', quotechar=' ')\n",
    "\n",
    "final"
   ]
  },
  {
   "cell_type": "code",
   "execution_count": null,
   "metadata": {},
   "outputs": [],
   "source": []
  },
  {
   "cell_type": "code",
   "execution_count": null,
   "metadata": {},
   "outputs": [],
   "source": []
  },
  {
   "cell_type": "markdown",
   "metadata": {},
   "source": [
    "### Owner's equity share in real estate"
   ]
  },
  {
   "cell_type": "code",
   "execution_count": 4,
   "metadata": {
    "ExecuteTime": {
     "end_time": "2020-12-12T15:52:24.915851Z",
     "start_time": "2020-12-12T15:52:24.287040Z"
    }
   },
   "outputs": [
    {
     "name": "stdout",
     "output_type": "stream",
     "text": [
      "As of 2020 Q3, the Federal Reserve \\href{fedlink}{report} owners' equity is 65.5 percent of residential real estate (see {\\color{blue!80!violet}\\textbf{---}}). Over the past three years, the owners' equity share increased by a total of 2.8 percentage points. Over the past year, the share increased by a total of 0.6 percentage point. The current share is substantially below the 1989 average of 67.9 percent.\n"
     ]
    }
   ],
   "source": [
    "data = fred_df('HOEREPHRE')['VALUE'].astype('float')\n",
    "\n",
    "data.to_csv(data_dir / 'homeeq.csv', index_label='date', header=True)\n",
    "\n",
    "datelt = dtxt(data.index[-1])['qtr1']\n",
    "latest = data.iloc[-1]\n",
    "ch3yr = data.diff(12).iloc[-1]\n",
    "ch1yr = data.diff(4).iloc[-1]\n",
    "txt = val_inc_pp(ch3yr)\n",
    "txt2 = val_inc_pp(ch1yr)\n",
    "avg89 = data.loc['1989'].mean()\n",
    "compare = compare_text(latest, avg89, [0.05, 1.0, 5.0])\n",
    "\n",
    "fedlink = 'https://www.federalreserve.gov/releases/z1/20191212/html/b101.htm'\n",
    "\n",
    "text = (f'As of {datelt}, the Federal Reserve \\href{{fedlink}}{{report}} '+\n",
    "        f\"owners\\' equity is {latest:.1f} percent of residential \"+\n",
    "        'real estate (see {\\color{blue!80!violet}\\\\textbf{---}}). '+\n",
    "        f\"Over the past three years, the owners\\' equity share {txt}. \"+\n",
    "        f'Over the past year, the share {txt2}. The current share is {compare} '+\n",
    "        f'the 1989 average of {avg89:.1f} percent.')\n",
    "\n",
    "write_txt(text_dir / 'homeeq.txt', text)\n",
    "\n",
    "print(text)\n",
    "\n",
    "node = end_node(data, 'blue!80!violet')\n",
    "write_txt(text_dir / 'homeeq_node.txt', node)"
   ]
  },
  {
   "cell_type": "code",
   "execution_count": null,
   "metadata": {},
   "outputs": [],
   "source": []
  },
  {
   "cell_type": "code",
   "execution_count": null,
   "metadata": {},
   "outputs": [],
   "source": []
  },
  {
   "cell_type": "markdown",
   "metadata": {},
   "source": [
    "### Geographic Detail for Housing Wealth Data"
   ]
  },
  {
   "cell_type": "code",
   "execution_count": 5,
   "metadata": {
    "ExecuteTime": {
     "end_time": "2020-12-12T15:52:37.249739Z",
     "start_time": "2020-12-12T15:52:33.770315Z"
    }
   },
   "outputs": [
    {
     "data": {
      "text/html": [
       "<div>\n",
       "<style scoped>\n",
       "    .dataframe tbody tr th:only-of-type {\n",
       "        vertical-align: middle;\n",
       "    }\n",
       "\n",
       "    .dataframe tbody tr th {\n",
       "        vertical-align: top;\n",
       "    }\n",
       "\n",
       "    .dataframe thead th {\n",
       "        text-align: right;\n",
       "    }\n",
       "</style>\n",
       "<table border=\"1\" class=\"dataframe\">\n",
       "  <thead>\n",
       "    <tr style=\"text-align: right;\">\n",
       "      <th></th>\n",
       "      <th>Northeast_Q</th>\n",
       "      <th>Northeast_P</th>\n",
       "      <th>Midwest_Q</th>\n",
       "      <th>Midwest_P</th>\n",
       "      <th>West_Q</th>\n",
       "      <th>West_P</th>\n",
       "      <th>South_Q</th>\n",
       "      <th>South_P</th>\n",
       "      <th>US_Q</th>\n",
       "      <th>US_P</th>\n",
       "    </tr>\n",
       "  </thead>\n",
       "  <tbody>\n",
       "    <tr>\n",
       "      <th>2002-01-01</th>\n",
       "      <td>1.246788</td>\n",
       "      <td>12.148593</td>\n",
       "      <td>0.054483</td>\n",
       "      <td>7.979357</td>\n",
       "      <td>2.215630</td>\n",
       "      <td>10.016383</td>\n",
       "      <td>2.837168</td>\n",
       "      <td>7.103101</td>\n",
       "      <td>1.730330</td>\n",
       "      <td>9.265575</td>\n",
       "    </tr>\n",
       "    <tr>\n",
       "      <th>2002-04-01</th>\n",
       "      <td>2.053345</td>\n",
       "      <td>11.031070</td>\n",
       "      <td>1.638546</td>\n",
       "      <td>6.148777</td>\n",
       "      <td>1.453714</td>\n",
       "      <td>10.325106</td>\n",
       "      <td>2.037257</td>\n",
       "      <td>7.874438</td>\n",
       "      <td>1.830337</td>\n",
       "      <td>8.919039</td>\n",
       "    </tr>\n",
       "    <tr>\n",
       "      <th>2002-07-01</th>\n",
       "      <td>1.573850</td>\n",
       "      <td>11.265119</td>\n",
       "      <td>0.848057</td>\n",
       "      <td>6.723787</td>\n",
       "      <td>1.868985</td>\n",
       "      <td>9.641970</td>\n",
       "      <td>0.608687</td>\n",
       "      <td>9.230163</td>\n",
       "      <td>1.093095</td>\n",
       "      <td>9.469793</td>\n",
       "    </tr>\n",
       "    <tr>\n",
       "      <th>2002-10-01</th>\n",
       "      <td>2.360779</td>\n",
       "      <td>10.301806</td>\n",
       "      <td>0.422460</td>\n",
       "      <td>6.971540</td>\n",
       "      <td>2.457644</td>\n",
       "      <td>8.955556</td>\n",
       "      <td>1.206418</td>\n",
       "      <td>8.503507</td>\n",
       "      <td>1.464004</td>\n",
       "      <td>8.966595</td>\n",
       "    </tr>\n",
       "    <tr>\n",
       "      <th>2003-01-01</th>\n",
       "      <td>1.626671</td>\n",
       "      <td>10.172361</td>\n",
       "      <td>0.538033</td>\n",
       "      <td>6.685996</td>\n",
       "      <td>2.995607</td>\n",
       "      <td>8.442529</td>\n",
       "      <td>1.183082</td>\n",
       "      <td>8.243820</td>\n",
       "      <td>1.463032</td>\n",
       "      <td>8.672992</td>\n",
       "    </tr>\n",
       "    <tr>\n",
       "      <th>...</th>\n",
       "      <td>...</td>\n",
       "      <td>...</td>\n",
       "      <td>...</td>\n",
       "      <td>...</td>\n",
       "      <td>...</td>\n",
       "      <td>...</td>\n",
       "      <td>...</td>\n",
       "      <td>...</td>\n",
       "      <td>...</td>\n",
       "      <td>...</td>\n",
       "    </tr>\n",
       "    <tr>\n",
       "      <th>2018-04-01</th>\n",
       "      <td>2.125525</td>\n",
       "      <td>1.541386</td>\n",
       "      <td>2.529399</td>\n",
       "      <td>3.596621</td>\n",
       "      <td>3.015849</td>\n",
       "      <td>6.600754</td>\n",
       "      <td>2.263331</td>\n",
       "      <td>3.419525</td>\n",
       "      <td>2.464762</td>\n",
       "      <td>4.229299</td>\n",
       "    </tr>\n",
       "    <tr>\n",
       "      <th>2018-07-01</th>\n",
       "      <td>2.032166</td>\n",
       "      <td>1.870247</td>\n",
       "      <td>1.319744</td>\n",
       "      <td>4.321588</td>\n",
       "      <td>3.940729</td>\n",
       "      <td>5.028132</td>\n",
       "      <td>1.588974</td>\n",
       "      <td>3.599708</td>\n",
       "      <td>2.085234</td>\n",
       "      <td>4.230372</td>\n",
       "    </tr>\n",
       "    <tr>\n",
       "      <th>2018-10-01</th>\n",
       "      <td>2.400654</td>\n",
       "      <td>2.667958</td>\n",
       "      <td>1.746228</td>\n",
       "      <td>3.763904</td>\n",
       "      <td>2.873691</td>\n",
       "      <td>4.597203</td>\n",
       "      <td>2.313911</td>\n",
       "      <td>2.835151</td>\n",
       "      <td>2.315546</td>\n",
       "      <td>3.696151</td>\n",
       "    </tr>\n",
       "    <tr>\n",
       "      <th>2019-01-01</th>\n",
       "      <td>1.845684</td>\n",
       "      <td>4.399038</td>\n",
       "      <td>1.512474</td>\n",
       "      <td>5.739869</td>\n",
       "      <td>2.345565</td>\n",
       "      <td>5.179026</td>\n",
       "      <td>0.973419</td>\n",
       "      <td>6.677595</td>\n",
       "      <td>1.535048</td>\n",
       "      <td>5.715030</td>\n",
       "    </tr>\n",
       "    <tr>\n",
       "      <th>2019-04-01</th>\n",
       "      <td>1.325126</td>\n",
       "      <td>3.716924</td>\n",
       "      <td>-0.040125</td>\n",
       "      <td>6.302147</td>\n",
       "      <td>1.235539</td>\n",
       "      <td>3.849597</td>\n",
       "      <td>0.844208</td>\n",
       "      <td>5.662644</td>\n",
       "      <td>0.797971</td>\n",
       "      <td>4.850389</td>\n",
       "    </tr>\n",
       "  </tbody>\n",
       "</table>\n",
       "<p>70 rows × 10 columns</p>\n",
       "</div>"
      ],
      "text/plain": [
       "            Northeast_Q  Northeast_P  Midwest_Q  Midwest_P    West_Q  \\\n",
       "2002-01-01     1.246788    12.148593   0.054483   7.979357  2.215630   \n",
       "2002-04-01     2.053345    11.031070   1.638546   6.148777  1.453714   \n",
       "2002-07-01     1.573850    11.265119   0.848057   6.723787  1.868985   \n",
       "2002-10-01     2.360779    10.301806   0.422460   6.971540  2.457644   \n",
       "2003-01-01     1.626671    10.172361   0.538033   6.685996  2.995607   \n",
       "...                 ...          ...        ...        ...       ...   \n",
       "2018-04-01     2.125525     1.541386   2.529399   3.596621  3.015849   \n",
       "2018-07-01     2.032166     1.870247   1.319744   4.321588  3.940729   \n",
       "2018-10-01     2.400654     2.667958   1.746228   3.763904  2.873691   \n",
       "2019-01-01     1.845684     4.399038   1.512474   5.739869  2.345565   \n",
       "2019-04-01     1.325126     3.716924  -0.040125   6.302147  1.235539   \n",
       "\n",
       "               West_P   South_Q   South_P      US_Q      US_P  \n",
       "2002-01-01  10.016383  2.837168  7.103101  1.730330  9.265575  \n",
       "2002-04-01  10.325106  2.037257  7.874438  1.830337  8.919039  \n",
       "2002-07-01   9.641970  0.608687  9.230163  1.093095  9.469793  \n",
       "2002-10-01   8.955556  1.206418  8.503507  1.464004  8.966595  \n",
       "2003-01-01   8.442529  1.183082  8.243820  1.463032  8.672992  \n",
       "...               ...       ...       ...       ...       ...  \n",
       "2018-04-01   6.600754  2.263331  3.419525  2.464762  4.229299  \n",
       "2018-07-01   5.028132  1.588974  3.599708  2.085234  4.230372  \n",
       "2018-10-01   4.597203  2.313911  2.835151  2.315546  3.696151  \n",
       "2019-01-01   5.179026  0.973419  6.677595  1.535048  5.715030  \n",
       "2019-04-01   3.849597  0.844208  5.662644  0.797971  4.850389  \n",
       "\n",
       "[70 rows x 10 columns]"
      ]
     },
     "execution_count": 5,
     "metadata": {},
     "output_type": "execute_result"
    }
   ],
   "source": [
    "url = 'https://www.federalreserve.gov/releases/efa/state-census-region-housing-wealth.csv'\n",
    "\n",
    "regions = ['Northeast', 'Midwest', 'West', 'South', 'US']\n",
    "\n",
    "data = pd.read_csv(url, index_col=0)\n",
    "data.index = pd.to_datetime([f'{i[:4]}-{int(i[-1]) * 3 - 2}-01' for i in data.index])\n",
    "data = data.rename({'National': 'US'}, axis=1)[regions]\n",
    "\n",
    "series = {'EOWNOCCNEQ176N': 'Northeast_Q', \n",
    "          'EOWNOCCMWQ176N': 'Midwest_Q', \n",
    "          'EOWNOCCSOQ176N': 'South_Q', \n",
    "          'EOWNOCCWEQ176N': 'West_Q', \n",
    "          'EOWNOCCUSQ176N': 'US_Q'}\n",
    "\n",
    "df = pd.DataFrame()\n",
    "for srs, name in series.items():\n",
    "    url = f'http://research.stlouisfed.org/fred2/series/{srs}/downloaddata/{srs}.csv'\n",
    "    s = pd.read_csv(url, index_col='DATE', parse_dates=True)['VALUE']\n",
    "    df[name] = s\n",
    "    \n",
    "results = pd.DataFrame()\n",
    "for region in regions:\n",
    "    regionq = f'{region}_Q'\n",
    "    regionp = f'{region}_P'\n",
    "    \n",
    "    total_value = data[region]\n",
    "    \n",
    "    quantity = df[regionq]\n",
    "    \n",
    "    unit_price = total_value / quantity\n",
    "    \n",
    "    growth = total_value.pct_change(4) * 100\n",
    "    \n",
    "    price_growth = unit_price.pct_change(4) * 100\n",
    "    \n",
    "    quantity_growth = growth - price_growth\n",
    "    \n",
    "    results[regionq] = quantity_growth \n",
    "    results[regionp] = price_growth \n",
    "\n",
    "results = results.dropna()\n",
    "\n",
    "results.to_csv(data_dir / 'val_ooh.csv', index_label='date', float_format='%g')\n",
    "\n",
    "results"
   ]
  },
  {
   "cell_type": "code",
   "execution_count": null,
   "metadata": {},
   "outputs": [],
   "source": []
  },
  {
   "cell_type": "code",
   "execution_count": null,
   "metadata": {},
   "outputs": [],
   "source": []
  },
  {
   "cell_type": "markdown",
   "metadata": {},
   "source": [
    "### Residential construction"
   ]
  },
  {
   "cell_type": "code",
   "execution_count": 6,
   "metadata": {
    "ExecuteTime": {
     "end_time": "2020-12-12T15:52:47.753039Z",
     "start_time": "2020-12-12T15:52:45.086539Z"
    }
   },
   "outputs": [],
   "source": [
    "key = census_key\n",
    "base = 'https://api.census.gov/data/timeseries/eits/resconst/'\n",
    "param = 'cell_value,time_slot_id,category_code'\n",
    "t = '&time=from+1989'\n",
    "dtc = '&data_type_code=TOTAL'\n",
    "oth = '&for=us&seasonally_adj=yes'\n",
    "\n",
    "url = f'{base}?get={param}&key={key}{dtc}{t}{oth}'\n",
    "\n",
    "r = requests.get(url).json()\n",
    "\n",
    "df = pd.DataFrame()\n",
    "for series in ['APERMITS', 'ASTARTS']:\n",
    "    df[series] = pd.Series(\n",
    "        {pd.to_datetime(i[4]): \n",
    "         float(i[0]) for i in r[1:] if i[2] == series}\n",
    "    ).sort_index()"
   ]
  },
  {
   "cell_type": "code",
   "execution_count": 7,
   "metadata": {
    "ExecuteTime": {
     "end_time": "2020-12-12T15:52:47.766278Z",
     "start_time": "2020-12-12T15:52:47.754111Z"
    }
   },
   "outputs": [
    {
     "data": {
      "text/plain": [
       "'In October 2020, a seasonally-adjusted annual rate of 1,544,000 new residential housing units were authorized by building permits (see {\\\\color{blue!70!green}\\\\textbf{---}}). Permits issued decreased by 1,000 (-0.1 percent) over the previous month, increased by 41,000 (2.7 percent) over last October, and increased by 386,000 (33.3 percent) total over the past five years.'"
      ]
     },
     "execution_count": 7,
     "metadata": {},
     "output_type": "execute_result"
    }
   ],
   "source": [
    "df.to_csv(data_dir / 'permits.csv', index_label='date')\n",
    "\n",
    "s = series_info(df['APERMITS'])\n",
    "s['val_5yr_ago'] = df['APERMITS'].iloc[-61]\n",
    "\n",
    "if s['days_since_match'] > 100:\n",
    "    hlt = f\", {s['last_matched']}\"\n",
    "else:\n",
    "    hlt = ''\n",
    "    \n",
    "month = s['date_latest'].strftime('%B')\n",
    "\n",
    "d = {}\n",
    "for i in ['val_prev', 'val_year_ago', 'val_5yr_ago']:\n",
    "    mo_ch = s[\"val_latest\"] - s[i]\n",
    "    mo_pch = (s[\"val_latest\"] / s[i] - 1) * 100\n",
    "    if mo_ch >= 0.1:\n",
    "        txt = f'increased by {abs(mo_ch)*1000:,.0f} ({mo_pch:.1f} percent)'\n",
    "    elif mo_ch <= -0.1:\n",
    "        txt = f'decreased by {abs(mo_ch)*1000:,.0f} ({mo_pch:.1f} percent)'\n",
    "    else:\n",
    "        txt = 'were virtually unchanged'\n",
    "        \n",
    "    d[i] = txt\n",
    "    \n",
    "text = (f'In {s[\"date_latest_ft\"]}, a seasonally-adjusted annual rate of '+\n",
    "        f'{s[\"val_latest\"]*1000:,.0f} new '+\n",
    "        f'residential housing units were authorized by building permits{hlt} '+\n",
    "        '(see {\\color{blue!70!green}\\\\textbf{---}}). '+\n",
    "        f'Permits issued {d[\"val_prev\"]} over the previous month, '+\n",
    "        f'{d[\"val_year_ago\"]} over last {month}, and '+\n",
    "        f'{d[\"val_5yr_ago\"]} total over the past five years.')\n",
    "\n",
    "write_txt(text_dir / 'permits.txt', text)\n",
    "\n",
    "text"
   ]
  },
  {
   "cell_type": "code",
   "execution_count": null,
   "metadata": {},
   "outputs": [],
   "source": []
  },
  {
   "cell_type": "code",
   "execution_count": null,
   "metadata": {},
   "outputs": [],
   "source": []
  },
  {
   "cell_type": "markdown",
   "metadata": {},
   "source": [
    "### Household formation estimates"
   ]
  },
  {
   "cell_type": "code",
   "execution_count": 8,
   "metadata": {
    "ExecuteTime": {
     "end_time": "2020-12-12T15:52:54.067425Z",
     "start_time": "2020-12-12T15:52:52.520320Z"
    }
   },
   "outputs": [],
   "source": [
    "files = ['histtab8.xlsx', 'hist_tab_8a_v2019.xlsx']\n",
    "url = 'https://www.census.gov/housing/hvs/data/'\n",
    "\n",
    "results = {}\n",
    "\n",
    "for file in files:\n",
    "    data = pd.read_excel(url + file).iloc[4:, :5]\n",
    "    data.columns = ['category', 'Q1', 'Q2', 'Q3', 'Q4']\n",
    "    years = []\n",
    "    for h in data[data['Q1'] == '1st Qtr'].index - 1:\n",
    "        year_raw = data.loc[h, 'Q1']\n",
    "        if type(year_raw) == int:\n",
    "            year = year_raw\n",
    "        elif type(year_raw) == str:\n",
    "            year = int(year_raw[:4])\n",
    "        elif type(year) == float:\n",
    "            year = year + 1\n",
    "        years.append(year)\n",
    "    data.loc[data['Q1'] == '1st Qtr', 'category'] = years\n",
    "    data = data.dropna(subset=['category'])\n",
    "    \n",
    "    df = pd.DataFrame()\n",
    "    levels = pd.DataFrame()\n",
    "    for series in ['Owner', 'Renter']:\n",
    "        srs = data.loc[data['category'].astype('str').str.contains(series)]\n",
    "        srs.index = years\n",
    "        srs = srs[['Q1', 'Q2', 'Q3', 'Q4']].unstack().swaplevel()\n",
    "        srs.index = pd.to_datetime([f'{i[0]}-{i[1]}' for i in srs.index])\n",
    "        srs = srs.sort_index()\n",
    "        df[series] = srs\n",
    "        levels[series] = srs\n",
    "    df = df.dropna()\n",
    "    df['Total'] = df.sum(axis=1)\n",
    "    \n",
    "    # Convert to share of total change\n",
    "    for s in ['Owner', 'Renter']:  \n",
    "        df[s] = ((df[s] - df[s].shift(4))\n",
    "                  /df['Total'].shift(4)) * 100\n",
    "        \n",
    "    df = (df.reset_index()\n",
    "            .drop_duplicates(subset='index', keep='last')\n",
    "            .set_index('index'))\n",
    "    \n",
    "    results[file] = df[['Owner', 'Renter']].dropna().rolling(4).mean().loc['1989':]"
   ]
  },
  {
   "cell_type": "code",
   "execution_count": 9,
   "metadata": {
    "ExecuteTime": {
     "end_time": "2020-12-12T15:52:54.097820Z",
     "start_time": "2020-12-12T15:52:54.068507Z"
    }
   },
   "outputs": [],
   "source": [
    "final = results['histtab8.xlsx'].loc[:'2001'].append(results['hist_tab_8a_v2019.xlsx'].loc['2002':])\n",
    "final['pop'] = (nipa_df(retrieve_table('T70100')['Data'], ['B230RC'])\n",
    "                .pct_change(4).dropna() * 100)\n",
    "\n",
    "final.to_csv(data_dir / 'hhform.csv', index_label='date')\n",
    "\n",
    "levels = levels.dropna()\n",
    "ldate = f'{levels.index[-1].year} Q{levels.index[-1].quarter}'\n",
    "pdate = f'{levels.index[-2].year} Q{levels.index[-2].quarter}'\n",
    "tot = levels.iloc[-1].sum() / 1000\n",
    "rtot = levels['Renter'].iloc[-1] / 1000\n",
    "rsh = rtot / tot * 100\n",
    "otot = levels['Owner'].iloc[-1] / 1000\n",
    "osh = otot / tot * 100\n",
    "\n",
    "ch = levels.diff(4).rolling(4).mean().iloc[-1]\n",
    "incdec = ['increase' if ch.sum() >= 0 else 'decrease']\n",
    "chtot = [f'{abs(ch.sum()) / 1000:.1f} million' if ch.sum() > 1000 else f'{abs(ch.sum()):.0f} thousand'][0]\n",
    "\n",
    "t = {name: [f'{abs(s) / 1000:.1f} million {[\"net new\" if s >= 0 else \"net fewer\"][0]}' \n",
    "            if s > 1000 \n",
    "            else f'{abs(s):.0f},000 {[\"net new\" if s >= 0 else \"net fewer\"][0]}'][0]\n",
    "     for name, s in [('tot', ch.sum()), ('rent', ch.Renter), ('own', ch.Owner)]}\n",
    "\n",
    "text = (f'As of {ldate}, there are {tot:.1f} million total occupied '+\n",
    "        f'housing units in the US, of which {rtot:.1f} million ({rsh:.1f} percent) '+\n",
    "        f'are rented, and {otot:.1f} million ({osh:.1f} percent) are '+\n",
    "        'owner-occupied. There was an average annual net total '+\n",
    "        f'{incdec[0]} of {chtot} housing units '+\n",
    "        f'over the year ending {ldate}, the result of {t[\"rent\"]} '+\n",
    "        f'renter households and {t[\"own\"]} '+\n",
    "        f'owner-occupied households. ')"
   ]
  },
  {
   "cell_type": "code",
   "execution_count": 10,
   "metadata": {
    "ExecuteTime": {
     "end_time": "2020-12-12T15:52:56.246649Z",
     "start_time": "2020-12-12T15:52:56.225955Z"
    }
   },
   "outputs": [
    {
     "name": "stdout",
     "output_type": "stream",
     "text": [
      "As of 2020 Q3, there are 126.7 million total occupied housing units in the US, of which 41.3 million (32.6 percent) are rented, and 85.4 million (67.4 percent) are owner-occupied. There was an average annual net total increase of 2.9 million housing units over the year ending 2020 Q3, the result of 1412,000 net fewer renter households and 4.4 million net new owner-occupied households. Over the year ending 2020 Q3, the total number of occupied housing units increased by 2.4 percent, compared to an increase of 1.9 percent in 2020 Q2. Owner-occupied units contributed 3.6 percent to total household formation on average over the year (see\\cbox{yellow!60!orange}), compared to a reduction of 1.2 percent from rented units (see\\cbox{magenta!90!blue}).\n"
     ]
    }
   ],
   "source": [
    "totgr = final[['Owner', 'Renter']].sum(axis=1).iloc[-1]\n",
    "ogr = final['Owner'].iloc[-1]\n",
    "rgr = final['Renter'].iloc[-1]\n",
    "\n",
    "final['Total'] = final[['Owner', 'Renter']].sum(axis=1)\n",
    "\n",
    "t2 = {name: [f\"{['increased' if s >= 0 else 'decreased'][0]} by {abs(s):.1f} percent\"][0] \n",
    "      for name, s in final.iloc[-1].iteritems()}\n",
    "\n",
    "t3 = {name: [f\"{['an increase' if s >= 0 else 'a decreased'][0]} of {abs(s):.1f} percent\"][0] \n",
    "      for name, s in final.iloc[-2].iteritems()}\n",
    "\n",
    "t4 = {name: [f\"{['a contribution' if s >= 0 else 'a reduction'][0]} of {abs(s):.1f} percent\"][0] \n",
    "      for name, s in final.iloc[-1].iteritems()}\n",
    "\n",
    "t5 = {name: [f\"{[f'contributed {abs(s):.1f} percent to' if s >= 0 else f'subtracted {abs(s):.1f} percent from'][0]}\"][0] \n",
    "      for name, s in final.iloc[-1].iteritems()}\n",
    "\n",
    "text2 = (f'Over the year ending {ldate}, the total number of occupied housing units '+\n",
    "         f'{t2[\"Total\"]}, compared to {t3[\"Total\"]} in {pdate}. Owner-occupied '+\n",
    "         f'units {t5[\"Owner\"]} total household formation on average over the year '+\n",
    "         '(see\\cbox{yellow!60!orange}), compared to '+\n",
    "         f'{t4[\"Renter\"]} from rented units (see\\cbox{{magenta!90!blue}}).')\n",
    "txt = text + text2\n",
    "write_txt(text_dir / 'hhform1.txt', txt)\n",
    "print(txt)"
   ]
  },
  {
   "cell_type": "code",
   "execution_count": null,
   "metadata": {},
   "outputs": [],
   "source": []
  },
  {
   "cell_type": "code",
   "execution_count": null,
   "metadata": {},
   "outputs": [],
   "source": []
  },
  {
   "cell_type": "markdown",
   "metadata": {},
   "source": [
    "### New Home Sales"
   ]
  },
  {
   "cell_type": "code",
   "execution_count": 11,
   "metadata": {
    "ExecuteTime": {
     "end_time": "2020-12-12T15:53:00.008778Z",
     "start_time": "2020-12-12T15:52:59.552185Z"
    }
   },
   "outputs": [
    {
     "name": "stdout",
     "output_type": "stream",
     "text": [
      "In October 2020, the Census Bureau \\href{https://www.census.gov/construction/nrs/pdf/newressales.pdf}{report} seasonally-adjusted single family new homes sales totalling 999,000 (see {\\color{green}\\textbf{---}}). Over the past year, new homes sales increased 0.4 percent.\n"
     ]
    }
   ],
   "source": [
    "data = fred_df('HSN1F')['VALUE']\n",
    "\n",
    "data.to_csv(data_dir / 'nhs.csv', index_label='date', header=True)\n",
    "\n",
    "datelt = dtxt(data.index[-1])['mon1']\n",
    "latest = data.iloc[-1] * 1000\n",
    "ch1yr = data.pct_change(12).iloc[-1]\n",
    "\n",
    "txt = value_text(ch1yr)\n",
    "\n",
    "text = (f'In {datelt}, the Census Bureau '+\n",
    "        '\\href{https://www.census.gov/construction/nrs/pdf/newressales.pdf}{report} '+\n",
    "        'seasonally-adjusted single family new homes sales totalling '+\n",
    "        f'{latest:,.0f} (see {{\\color{{green}}\\\\textbf{{---}}}}). '+\n",
    "        f'Over the past year, new homes sales {txt}.')\n",
    "\n",
    "write_txt(text_dir / 'nhs.txt', text)\n",
    "\n",
    "print(text)\n",
    "\n",
    "node = end_node(data, 'green', percent=False)\n",
    "write_txt(text_dir / 'nhs_node.txt', node)"
   ]
  },
  {
   "cell_type": "code",
   "execution_count": null,
   "metadata": {},
   "outputs": [],
   "source": []
  }
 ],
 "metadata": {
  "kernelspec": {
   "display_name": "Python 3",
   "language": "python",
   "name": "python3"
  },
  "language_info": {
   "codemirror_mode": {
    "name": "ipython",
    "version": 3
   },
   "file_extension": ".py",
   "mimetype": "text/x-python",
   "name": "python",
   "nbconvert_exporter": "python",
   "pygments_lexer": "ipython3",
   "version": "3.8.6"
  }
 },
 "nbformat": 4,
 "nbformat_minor": 4
}
