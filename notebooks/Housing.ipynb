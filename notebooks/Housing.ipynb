{
 "cells": [
  {
   "cell_type": "markdown",
   "metadata": {},
   "source": [
    "# Housing"
   ]
  },
  {
   "cell_type": "code",
   "execution_count": 1,
   "metadata": {
    "ExecuteTime": {
     "end_time": "2023-07-26T15:25:04.731241Z",
     "start_time": "2023-07-26T15:25:03.338959Z"
    }
   },
   "outputs": [],
   "source": [
    "import sys\n",
    "sys.path.append('../src')\n",
    "\n",
    "import uschartbook.config\n",
    "\n",
    "from uschartbook.config import *\n",
    "from uschartbook.utils import *"
   ]
  },
  {
   "cell_type": "markdown",
   "metadata": {},
   "source": [
    "### Homeownership rate"
   ]
  },
  {
   "cell_type": "code",
   "execution_count": 2,
   "metadata": {
    "ExecuteTime": {
     "end_time": "2023-07-26T15:25:06.304261Z",
     "start_time": "2023-07-26T15:25:04.732867Z"
    }
   },
   "outputs": [],
   "source": [
    "# Seasonally adjusted homeownership rate\n",
    "url = ('https://api.census.gov/data/timeseries/eits/hv?'+\n",
    "       f'get=cell_value,time_slot_id,data_type_code,'+\n",
    "       f'category_code&key={census_key}&time=from+1989&'+\n",
    "       'for=us&seasonally_adj=yes')\n",
    "r = requests.get(url).json()\n",
    "date = lambda x: pd.to_datetime(x.time)\n",
    "df = (pd.DataFrame(r[1:], columns=r[0]).assign(date = date)\n",
    "        .set_index('date')['cell_value'].astype('float')\n",
    "        .sort_index().rename('VALUE'))\n",
    "df.to_csv(data_dir / 'homeown.csv', index_label='date', \n",
    "          header=True)"
   ]
  },
  {
   "cell_type": "code",
   "execution_count": 3,
   "metadata": {
    "ExecuteTime": {
     "end_time": "2023-07-26T15:25:06.316077Z",
     "start_time": "2023-07-26T15:25:06.305549Z"
    }
   },
   "outputs": [
    {
     "name": "stdout",
     "output_type": "stream",
     "text": [
      "As of 2023 Q1, the Census Bureau \\href{https://www.census.gov/housing/hvs/index.html}{report} a homeownership rate of 66.0 percent (see {\\color{violet!60!magenta}\\textbf{---}}). Over the past three years, the overall US homeownership rate increased by a total of 0.7 percentage point.\n"
     ]
    }
   ],
   "source": [
    "df = pd.read_csv(data_dir / 'homeown.csv', \n",
    "                 index_col='date', parse_dates=True)['VALUE']\n",
    "col = 'violet!60!magenta'\n",
    "node = end_node(df, col, percent=True, \n",
    "                date='q', full_year=True)\n",
    "write_txt(text_dir / 'homeown_node.txt', node)\n",
    "dtlt = dtxt(df.index[-1])['qtr1']\n",
    "latest = df.iloc[-1]\n",
    "ch3yr = value_text(df.diff(12).iloc[-1], ptype='pp', \n",
    "                   adj='total')\n",
    "url = 'https://www.census.gov/housing/hvs/index.html'\n",
    "cl = c_line(col)\n",
    "text = (f'As of {dtlt}, the Census Bureau \\href{{{url}}}'+\n",
    "        f'{{report}} a homeownership rate of {latest:.1f} '+\n",
    "        f'percent {cl}. Over the past three years, the '+\n",
    "        f'overall US homeownership rate {ch3yr}.')\n",
    "write_txt(text_dir / 'homeown.txt', text)\n",
    "print(text)"
   ]
  },
  {
   "cell_type": "code",
   "execution_count": null,
   "metadata": {},
   "outputs": [],
   "source": []
  },
  {
   "cell_type": "code",
   "execution_count": null,
   "metadata": {},
   "outputs": [],
   "source": []
  },
  {
   "cell_type": "markdown",
   "metadata": {},
   "source": [
    "### By Race/Ethnicity"
   ]
  },
  {
   "cell_type": "code",
   "execution_count": 4,
   "metadata": {
    "ExecuteTime": {
     "end_time": "2023-07-26T15:25:11.490651Z",
     "start_time": "2023-07-26T15:25:06.317973Z"
    }
   },
   "outputs": [],
   "source": [
    "url = 'https://www.census.gov/housing/hvs/data/histtab16.xlsx'\n",
    "\n",
    "data = pd.read_excel(url)\n",
    "df = data.iloc[7:-9].reset_index().drop('index', axis=1)\n",
    "df.columns = ['Date', 'Total', 'White', 'Black', 'Other', 'Other2', 'Hispanic']\n",
    "df = df.replace('2002r', 2002).replace('20033', 2003).dropna(how='all')\n",
    "\n",
    "q = {1: '01', 2: '04', 3: '07', 4: '10'}\n",
    "\n",
    "d = {}\n",
    "for i, row in df.iterrows():\n",
    "    if i not in d.keys():\n",
    "        d[i] = {}\n",
    "    if type(row['Date']) == int:\n",
    "        for y in list(range(i, i+5)):\n",
    "            if y in df.index:\n",
    "                d[y] = {'quarter': ''}\n",
    "                d[y]['year'] = row['Date']\n",
    "    if (type(row['Date']) != int) & ('.' in str(row['Date'])):\n",
    "        d[i]['quarter'] = q[int(row['Date'][0])]\n",
    "        \n",
    "    if 'year' not in d[i].keys():\n",
    "        d[i] = {'date': '', 'year': '', 'quarter': ''}\n",
    "    else:\n",
    "        d[i]['date'] = f'{d[i][\"year\"]}-{d[i][\"quarter\"]}-01'\n",
    "        \n",
    "dates = {k: v['date'] for k, v in d.items()}\n",
    "df['date'] = df.index.map(dates)\n",
    "df = df.dropna()\n",
    "df = df.set_index(pd.to_datetime(df.date))\n",
    "result = df[['White', 'Black', 'Hispanic', 'Other', 'Total']]\n",
    "result.to_csv(data_dir / 'homeown2.csv', index_label='date')"
   ]
  },
  {
   "cell_type": "code",
   "execution_count": 5,
   "metadata": {
    "ExecuteTime": {
     "end_time": "2023-07-26T15:25:11.505440Z",
     "start_time": "2023-07-26T15:25:11.492010Z"
    }
   },
   "outputs": [
    {
     "name": "stdout",
     "output_type": "stream",
     "text": [
      "Around three-quarters (74.4 percent in 2023 Q1) of non-Hispanic white households own their home (see {\\color{blue!80!cyan!80!black}\\textbf{---}}), compared to fewer than half of black and Hispanic households.  \n",
      "\n",
      "During the housing bubble, the homeownership rate for black households increased by nearly ten percentage points. Black homeownership peaked at 49.7 percent in the second quarter of 2004 but fell to 40.6 percent in 2019 Q2. The 2023 Q1 rate is 45.8 percent (see {\\color{red!20!orange!95!black}\\textbf{---}}). The 2023 Q1 rate for Hispanic households is 49.7 percent, slightly below the 50.1 percent rate in 2007 Q1 (see {\\color{green!80!blue!85!black}\\textbf{---}}). \n"
     ]
    }
   ],
   "source": [
    "result = pd.read_csv(data_dir / 'homeown2.csv', index_col='date', \n",
    "                     parse_dates=True)\n",
    "\n",
    "color_list = [('Black', 'red!20!orange!95!black'), \n",
    "              ('White', 'blue!80!cyan!80!black'),\n",
    "              ('Hispanic', 'green!80!blue!85!black'),\n",
    "              ('Other', 'red!80!black')]\n",
    "cl = {}\n",
    "for group, color in color_list:\n",
    "    write_txt(text_dir / f'homeown_{group.lower()}_node.txt', \n",
    "              end_node(result[group], color, percent=True))\n",
    "    cl[group] = c_line(color)\n",
    "\n",
    "wtlt = result.White.iloc[-1]\n",
    "blmax = result['Black'].max()\n",
    "blidxmax = dtxt(result['Black'].idxmax())['qtr2']\n",
    "blmin = result.loc['2006':, 'Black'].min()\n",
    "blidxmin = dtxt(result.loc['2006':, 'Black'].idxmin())['qtr1']\n",
    "bllt = result.Black.iloc[-1]\n",
    "ltdt = dtxt(result.index[-1])['qtr1']\n",
    "hsmax = result.loc[:'2019', 'Hispanic'].max()\n",
    "hsidxmax = dtxt(result.loc[:'2019', 'Hispanic'].idxmax())['qtr1']\n",
    "hslt = result['Hispanic'].iloc[-1]\n",
    "compare = compare_text(hslt, hsmax, [0.3, 1.0, 3.0])\n",
    "if hslt == hsmax:\n",
    "    cmp_txt = 'the highest on record'\n",
    "else:\n",
    "    cmp_txt = f'{compare} the {hsmax:.1f} percent rate in {hsidxmax}'\n",
    "\n",
    "text = (f'Around three-quarters ({wtlt:.1f} percent in {ltdt}) of '+\n",
    "        f'non-Hispanic white households own their home {cl[\"White\"]}, '+\n",
    "        'compared to fewer than half of black and Hispanic households. ')\n",
    "write_txt(text_dir / 'homeown2.txt', text)\n",
    "print(text, '\\n')\n",
    "\n",
    "txt2 = ('During the housing bubble, the homeownership rate for black '+\n",
    "        'households increased by nearly ten percentage points. Black '+\n",
    "        f'homeownership peaked at {blmax:.1f} percent in {blidxmax} but '+\n",
    "        f'fell to {blmin:.1f} percent in {blidxmin}. The {ltdt} rate is '+\n",
    "        f'{bllt:.1f} percent {cl[\"Black\"]}. The {ltdt} rate for Hispanic '+\n",
    "        f'households is {hslt:.1f} percent, {cmp_txt} {cl[\"Hispanic\"]}. ')\n",
    "write_txt(text_dir / 'homeown3.txt', txt2)\n",
    "print(txt2)"
   ]
  },
  {
   "cell_type": "code",
   "execution_count": null,
   "metadata": {},
   "outputs": [],
   "source": []
  },
  {
   "cell_type": "code",
   "execution_count": null,
   "metadata": {},
   "outputs": [],
   "source": []
  },
  {
   "cell_type": "markdown",
   "metadata": {},
   "source": [
    "### FHFA Housing Price Index"
   ]
  },
  {
   "cell_type": "code",
   "execution_count": 6,
   "metadata": {
    "ExecuteTime": {
     "end_time": "2023-07-26T15:25:11.846758Z",
     "start_time": "2023-07-26T15:25:11.506703Z"
    }
   },
   "outputs": [],
   "source": [
    "url = ('https://www.fhfa.gov/DataTools/Downloads/'+\n",
    "       'Documents/HPI/HPI_PO_monthly_hist.xls')\n",
    "df = pd.read_excel(url, header=3, index_col=0, \n",
    "                   parse_dates=True).iloc[1:]\n",
    "sa = df[[col for col in df.columns if 'NSA' not in col]]\n",
    "sa.columns = [col.replace('\\n(SA)', '').replace('\\n', '') \n",
    "              for col in df.columns if 'NSA' not in col]\n",
    "sa.to_csv(data_dir / 'hpi_raw.csv', index_label='date')"
   ]
  },
  {
   "cell_type": "code",
   "execution_count": 7,
   "metadata": {
    "ExecuteTime": {
     "end_time": "2023-07-26T15:25:11.871465Z",
     "start_time": "2023-07-26T15:25:11.848360Z"
    }
   },
   "outputs": [
    {
     "name": "stdout",
     "output_type": "stream",
     "text": [
      "increased 2.8 percent over the year ending May 2023 (see {\\color{purple!90!black}\\textbf{---}}). The average of the latest three months of data compared to the previous three months shows an annualized growth rate of 7.8 percent (see {\\color{blue!35!cyan}\\textbf{---}}). In April 2023, the one-year growth rate was 3.1 percent and the three-month growth rate was 6.2 percent. Home prices in the East North Central region, which includes Illinois, Indiana, Michigan, Ohio, and Wisconsin, increased 5.5 percent in May 2023, the highest one-year growth rate.\n"
     ]
    }
   ],
   "source": [
    "dr = pd.read_csv(data_dir / 'hpi_raw.csv', index_col='date', \n",
    "                 parse_dates=True)\n",
    "data = (dr.pct_change(12) * 100)\n",
    "data['USA3M'] = m3rate(dr.USA)\n",
    "df = data.loc['1991':, ['USA', 'USA3M']]\n",
    "df.to_csv(data_dir / 'hpi.csv', index_label='date', float_format='%g')\n",
    "\n",
    "adj = node_adj(df)\n",
    "smax = df.iloc[-1].idxmax()\n",
    "adj[smax] = adj[smax] + 0.35\n",
    "\n",
    "colors = {'USA': 'purple!90!black', 'USA3M': 'blue!35!cyan'}\n",
    "\n",
    "node_file = open(text_dir / 'hpi_nodes.txt', 'w')\n",
    "for series, color in colors.items():\n",
    "    date = 'm' if series == smax else None\n",
    "    node_file.write(end_node(df[series], color, date=date,\n",
    "                             percent=True, full_year=True,\n",
    "                             size=1.1, offset=adj[series]))\n",
    "node_file.close()\n",
    "\n",
    "ch = data['USA']\n",
    "chtxt = value_text(df.USA.iloc[-1])\n",
    "prtxt = value_text(df.USA.iloc[-2], 'increase_of')\n",
    "ltdt = dtxt(df.USA.index[-1])['mon1']\n",
    "prdt = dtxt(df.USA.index[-2])['mon1']\n",
    "pr = df.USA.iloc[-2]\n",
    "pr3 = df.USA3M.iloc[-2]\n",
    "regions = data.drop(['USA', 'USA3M'], axis=1).iloc[-1]\n",
    "div = regions.idxmax()\n",
    "maxval = regions.max()\n",
    "divs = pd.read_csv('raw/census_regions.csv')\n",
    "div_list = divs[divs['Division'] == div].State.to_list()\n",
    "states = f\"{', '.join(div_list[:-1])}, and {div_list[-1]}\"\n",
    "ch3m = df.USA3M.iloc[-1]\n",
    "mreg = value_text(maxval)\n",
    "text = (f'{chtxt} over the year ending {ltdt} {c_line(colors[\"USA\"])}. '+\n",
    "        'The average of the latest three months of data compared '+\n",
    "        f'to the previous three months shows an annualized growth '+\n",
    "        f'rate of {ch3m:.1f} percent {c_line(colors[\"USA3M\"])}. '+\n",
    "        f'In {prdt}, the one-year growth rate was {pr:.1f} percent '+\n",
    "        f'and the three-month growth rate was {pr3:.1f} percent. '+\n",
    "        f'Home prices in the {div} region, which includes {states}, '+\n",
    "        f'{mreg} in {ltdt}, the highest one-year growth rate.')\n",
    "write_txt(text_dir / 'fhfa.txt', text)\n",
    "print(text)"
   ]
  },
  {
   "cell_type": "code",
   "execution_count": 8,
   "metadata": {
    "ExecuteTime": {
     "end_time": "2023-07-26T15:25:11.887914Z",
     "start_time": "2023-07-26T15:25:11.872858Z"
    }
   },
   "outputs": [],
   "source": [
    "t = pd.DataFrame()\n",
    "for i in [-1, -2, -3, -4, -13, -25, -37]:\n",
    "    t[dtxt(data.index[i])['mon6']] = data.iloc[i]\n",
    "    \n",
    "t['`03--`05 Average'] = data.loc['2003':'2005'].mean()\n",
    "t['`09--`12 Average'] = data.loc['2009':'2012'].mean()\n",
    "\n",
    "final = (t.rename({'USA': '\\\\textbf{United States}'})\n",
    "          .drop('USA3M')\n",
    "          .sort_values(dtxt(data.index[-1])['mon6'], ascending=False)\n",
    "          .round(1))\n",
    "\n",
    "final.to_csv(data_dir / 'hpi.tex', sep='&', lineterminator='\\\\\\ ', \n",
    "             quotechar=' ')\n",
    "#final"
   ]
  },
  {
   "cell_type": "code",
   "execution_count": null,
   "metadata": {},
   "outputs": [],
   "source": []
  },
  {
   "cell_type": "code",
   "execution_count": null,
   "metadata": {},
   "outputs": [],
   "source": []
  },
  {
   "cell_type": "markdown",
   "metadata": {},
   "source": [
    "### Ratio of price to rent"
   ]
  },
  {
   "cell_type": "code",
   "execution_count": 9,
   "metadata": {
    "ExecuteTime": {
     "end_time": "2023-07-26T15:25:11.908981Z",
     "start_time": "2023-07-26T15:25:11.889527Z"
    }
   },
   "outputs": [
    {
     "name": "stdout",
     "output_type": "stream",
     "text": [
      "As of May 2023, housing prices are 43.8 percent above the rental equivalent (see {\\color{red}\\textbf{---}}).\n"
     ]
    }
   ],
   "source": [
    "hpi = pd.read_csv(data_dir / 'hpi_raw.csv', index_col='date', \n",
    "                  parse_dates=True)['USA']\n",
    "rent = (pd.read_csv(data_dir / 'cpi_raw.csv', index_col='date', \n",
    "                    parse_dates=True)['Rent of primary residence'])\n",
    "ratio = (hpi / rent).dropna()\n",
    "ratio = ratio / ratio.iloc[0]\n",
    "ratio.name = 'VALUE'\n",
    "ratio.to_csv(data_dir / 'hpi_rent_ratio.csv', index_label='date', \n",
    "             header=True)\n",
    "\n",
    "ltdate = dtxt(ratio.index[-1])['mon1']\n",
    "ltval = (ratio.iloc[-1] - 1) * 100\n",
    "cl = c_line('red')\n",
    "val = value_text(ltval, 'above_below')\n",
    "text = (f'As of {ltdate}, housing prices are {val} '+\n",
    "        f'the rental equivalent {cl}.')\n",
    "write_txt(text_dir / 'hp_rent.txt', text)\n",
    "print(text)"
   ]
  },
  {
   "cell_type": "code",
   "execution_count": null,
   "metadata": {},
   "outputs": [],
   "source": []
  },
  {
   "cell_type": "code",
   "execution_count": null,
   "metadata": {},
   "outputs": [],
   "source": []
  },
  {
   "cell_type": "markdown",
   "metadata": {},
   "source": [
    "### Owners' equity share in real estate"
   ]
  },
  {
   "cell_type": "code",
   "execution_count": 10,
   "metadata": {
    "ExecuteTime": {
     "end_time": "2023-07-26T15:25:12.500626Z",
     "start_time": "2023-07-26T15:25:11.911613Z"
    }
   },
   "outputs": [
    {
     "name": "stdout",
     "output_type": "stream",
     "text": [
      "As of 2023 Q1, the Federal Reserve \\href{https://www.federalreserve.gov/releases/z1/20191212/html/b101.htm}{report} \\textbf{owners' equity} is 69.6 percent of residential real estate (see {\\color{blue!80!violet}\\textbf{---}}). Over the past three years, the owners' equity share increased by a total of four percentage points. Over the past year, the share decreased by a total of two percentage points. The current share is substantially above the 1989 average of 67.9 percent.\n"
     ]
    }
   ],
   "source": [
    "data = fred_df('HOEREPHRE')['VALUE'].astype('float')\n",
    "data.to_csv(data_dir / 'homeeq.csv', index_label='date', header=True)\n",
    "\n",
    "datelt = dtxt(data.index[-1])['qtr1']\n",
    "latest = data.iloc[-1]\n",
    "ch3, ch1 = [value_text(data.diff(i).iloc[-1], style='increase_by', \n",
    "                   adj='total', ptype='pp') for i in [12, 4]]\n",
    "avg89 = data.loc['1989'].mean()\n",
    "compare = compare_text(latest, avg89, [0.05, 1.0, 5.0])\n",
    "node_color = 'blue!80!violet'\n",
    "node = end_node(data, node_color, percent=True, date='q', full_year=True, offset=-0.35)\n",
    "write_txt(text_dir / 'homeeq_node.txt', node)\n",
    "cl = c_line(node_color)\n",
    "url = 'https://www.federalreserve.gov/releases/z1/20191212/html/b101.htm'\n",
    "text = (f'As of {datelt}, the Federal Reserve \\href{{{url}}}{{report}} '+\n",
    "        f\"\\\\textbf{{owners\\' equity}} is {latest:.1f} percent of residential \"+\n",
    "        f\"real estate {cl}. Over the past three years, the owners\\' \"+\n",
    "        f\"equity share {ch3}. Over the past year, the share {ch1}. \"+\n",
    "        f'The current share is {compare} the 1989 average of {avg89:.1f} '+\n",
    "        f'percent.')\n",
    "write_txt(text_dir / 'homeeq.txt', text)\n",
    "print(text)"
   ]
  },
  {
   "cell_type": "code",
   "execution_count": null,
   "metadata": {},
   "outputs": [],
   "source": []
  },
  {
   "cell_type": "code",
   "execution_count": null,
   "metadata": {},
   "outputs": [],
   "source": []
  },
  {
   "cell_type": "markdown",
   "metadata": {},
   "source": [
    "### Residential construction"
   ]
  },
  {
   "cell_type": "code",
   "execution_count": 11,
   "metadata": {
    "ExecuteTime": {
     "end_time": "2023-07-26T15:25:14.348905Z",
     "start_time": "2023-07-26T15:25:12.501965Z"
    }
   },
   "outputs": [],
   "source": [
    "key = census_key\n",
    "base = 'https://api.census.gov/data/timeseries/eits/resconst'\n",
    "param = 'cell_value,time_slot_id,category_code,data_type_code'\n",
    "t = '&time=from+1989'\n",
    "oth = '&for=us&seasonally_adj=yes'\n",
    "\n",
    "url = f'{base}?get={param}&key={key}{t}{oth}'\n",
    "\n",
    "r = requests.get(url).json()"
   ]
  },
  {
   "cell_type": "code",
   "execution_count": 12,
   "metadata": {
    "ExecuteTime": {
     "end_time": "2023-07-26T15:25:14.592339Z",
     "start_time": "2023-07-26T15:25:14.350160Z"
    }
   },
   "outputs": [],
   "source": [
    "for t in ['total', 'single', 'multi']:\n",
    "    df = pd.DataFrame()\n",
    "    for series in ['APERMITS', 'ASTARTS', 'ACOMPLETIONS']:\n",
    "        df[series] = pd.Series(\n",
    "            {pd.to_datetime(i[4]): \n",
    "             float(i[0]) for i in r[1:] if i[2] == series \n",
    "             and i[3] == t.upper()}\n",
    "        ).sort_index()\n",
    "    df.to_csv(data_dir / f'permits_{t}.csv', index_label='date')"
   ]
  },
  {
   "cell_type": "code",
   "execution_count": 13,
   "metadata": {
    "ExecuteTime": {
     "end_time": "2023-07-26T15:25:14.609075Z",
     "start_time": "2023-07-26T15:25:14.593665Z"
    }
   },
   "outputs": [
    {
     "name": "stdout",
     "output_type": "stream",
     "text": [
      "In June 2023, a seasonally-adjusted annual rate of 1,441,000 new residential housing units were authorized by building permits (see {\\color{blue!70!green}\\textbf{---}}). Permits issued decreased by 55,000 (-3.7 percent) (annualized) over the previous month, decreased by 260,000 (-15.3 percent) over last June, and increased by 103,000 (7.7 percent) total over the past five years. \n",
      "\n",
      "In June 2023, a seasonally-adjusted annual rate of 1,468,000 new residential units were completed (see {\\color{blue!30!cyan}\\textbf{---}}), compared to 1,518,000 in May and 1,416,000 in June 2022.\n"
     ]
    }
   ],
   "source": [
    "df = pd.read_csv(data_dir / 'permits_total.csv', \n",
    "                 parse_dates=True, index_col='date')\n",
    "p_col = 'blue!70!green'\n",
    "node = end_node(df.APERMITS, p_col, date='m', full_year=True, \n",
    "                digits='comma', offset=0.35)\n",
    "write_txt(text_dir / 'permits_node.txt', node)\n",
    "c_col = 'blue!30!cyan'\n",
    "node = end_node(df.ACOMPLETIONS, c_col, date='m', full_year=True, \n",
    "                digits='comma', offset=0.35)\n",
    "write_txt(text_dir / 'completions_node.txt', node)\n",
    "\n",
    "s = series_info(df['APERMITS'])\n",
    "s['val_5yr_ago'] = df['APERMITS'].iloc[-61]\n",
    "\n",
    "if s['days_since_match'] > 100:\n",
    "    hlt = f\", {s['last_matched']}\"\n",
    "else:\n",
    "    hlt = ''\n",
    "month = s['date_latest'].strftime('%B')\n",
    "\n",
    "d = {}\n",
    "for i in ['val_prev', 'val_year_ago', 'val_5yr_ago']:\n",
    "    mo_ch = s[\"val_latest\"] - s[i]\n",
    "    mo_pch = (s[\"val_latest\"] / s[i] - 1) * 100\n",
    "    if mo_ch >= 0.1:\n",
    "        txt = f'increased by {abs(mo_ch)*1000:,.0f} ({mo_pch:.1f} percent)'\n",
    "    elif mo_ch <= -0.1:\n",
    "        txt = f'decreased by {abs(mo_ch)*1000:,.0f} ({mo_pch:.1f} percent)'\n",
    "    else:\n",
    "        txt = 'were virtually unchanged' \n",
    "    d[i] = txt\n",
    "\n",
    "date = s[\"date_latest_ft\"]    \n",
    "    \n",
    "text = (f'In {date}, a seasonally-adjusted annual rate of '+\n",
    "        f'{s[\"val_latest\"]*1000:,.0f} new residential housing '+\n",
    "        f'units were authorized by building permits{hlt} '+\n",
    "        f'{c_line(p_col)}. Permits issued {d[\"val_prev\"]} '+\n",
    "        f'(annualized) over the previous month, {d[\"val_year_ago\"]} '+\n",
    "        f'over last {month}, and {d[\"val_5yr_ago\"]} total '+\n",
    "        f'over the past five years.')\n",
    "write_txt(text_dir / 'permits.txt', text)\n",
    "print(text, '\\n')\n",
    "\n",
    "prdate = dtxt(df.index[-2])['mon3']\n",
    "pryrdate = dtxt(df.index[-13])['mon1']\n",
    "ltval = df['ACOMPLETIONS'].iloc[-1]\n",
    "prval = df['ACOMPLETIONS'].iloc[-2]\n",
    "pryrval = df['ACOMPLETIONS'].iloc[-3]\n",
    "text = (f'In {date}, a seasonally-adjusted annual rate of '+\n",
    "        f'{ltval*1000:,.0f} new residential units were completed '+\n",
    "        f'{c_line(c_col)}, compared to {prval*1000:,.0f} in '+\n",
    "        f'{prdate} and {pryrval*1000:,.0f} in {pryrdate}.')\n",
    "write_txt(text_dir / 'completions.txt', text)\n",
    "print(text)"
   ]
  },
  {
   "cell_type": "code",
   "execution_count": 14,
   "metadata": {
    "ExecuteTime": {
     "end_time": "2023-07-26T15:25:14.618822Z",
     "start_time": "2023-07-26T15:25:14.610367Z"
    }
   },
   "outputs": [
    {
     "name": "stdout",
     "output_type": "stream",
     "text": [
      "In June 2023, a seasonally-adjusted annual rate of 924,000 new single-family residential units were permitted and 986,000 were completed.\n",
      "In June 2023, a seasonally-adjusted annual rate of 465,000 new multi-family residential units were permitted and 476,000 were completed.\n"
     ]
    }
   ],
   "source": [
    "for t in ['single', 'multi']:\n",
    "    df = pd.read_csv(data_dir / f'permits_{t}.csv', \n",
    "                     parse_dates=True, index_col='date')\n",
    "    date = dtxt(df.index[-1])['mon1']\n",
    "    pval = df['APERMITS'].iloc[-1]\n",
    "    cval = df['ACOMPLETIONS'].iloc[-1]\n",
    "    text = (f'In {date}, a seasonally-adjusted annual rate of '+\n",
    "            f'{pval*1000:,.0f} new {t}-family residential units were '+\n",
    "            f'permitted and {cval*1000:,.0f} were completed.')\n",
    "    write_txt(text_dir / f'permits_{t}.txt', text)\n",
    "    print(text)"
   ]
  },
  {
   "cell_type": "code",
   "execution_count": null,
   "metadata": {},
   "outputs": [],
   "source": []
  },
  {
   "cell_type": "code",
   "execution_count": null,
   "metadata": {},
   "outputs": [],
   "source": []
  },
  {
   "cell_type": "markdown",
   "metadata": {},
   "source": [
    "### Residential Construction by Region, Index"
   ]
  },
  {
   "cell_type": "code",
   "execution_count": 15,
   "metadata": {
    "ExecuteTime": {
     "end_time": "2023-07-26T15:25:15.370344Z",
     "start_time": "2023-07-26T15:25:14.620130Z"
    }
   },
   "outputs": [],
   "source": [
    "url = 'https://www.census.gov/construction/bps/permitsbyusreg_cust.xls'\n",
    "df = pd.read_excel(url, sheet_name='Units SA', usecols='B,G,I,K,M', \n",
    "                   header=4, skipfooter=5, index_col=0, parse_dates=True)\n",
    "df.iloc[1:].to_csv(data_dir / f'permits_region.csv', index_label='date')"
   ]
  },
  {
   "cell_type": "code",
   "execution_count": 16,
   "metadata": {
    "ExecuteTime": {
     "end_time": "2023-07-26T15:25:15.376448Z",
     "start_time": "2023-07-26T15:25:15.371851Z"
    }
   },
   "outputs": [],
   "source": [
    "df = pd.read_csv(data_dir / 'permits_region.csv', \n",
    "                 parse_dates=True, index_col='date')"
   ]
  },
  {
   "cell_type": "code",
   "execution_count": null,
   "metadata": {},
   "outputs": [],
   "source": []
  },
  {
   "cell_type": "code",
   "execution_count": null,
   "metadata": {},
   "outputs": [],
   "source": []
  },
  {
   "cell_type": "markdown",
   "metadata": {},
   "source": [
    "### Household formation estimates"
   ]
  },
  {
   "cell_type": "code",
   "execution_count": 17,
   "metadata": {
    "ExecuteTime": {
     "end_time": "2023-07-26T15:25:25.891251Z",
     "start_time": "2023-07-26T15:25:15.377988Z"
    }
   },
   "outputs": [],
   "source": [
    "# Retrieve historical data and revised data\n",
    "files = {'hist': 'histtab8.xlsx',\n",
    "         'rev': 'hist_tab_8a_v2020.xlsx'}\n",
    "url = 'https://www.census.gov/housing/hvs/data/'\n",
    "for name, file in files.items():\n",
    "    data = pd.read_excel(url + file).iloc[4:, :5]\n",
    "    data.columns = ['category', 'Q1', 'Q2', 'Q3', 'Q4']\n",
    "    years = []\n",
    "    for h in data[data['Q1'] == '1st Qtr'].index - 1:\n",
    "        year_raw = data.loc[h, 'Q1']\n",
    "        if type(year_raw) == int:\n",
    "            year = year_raw\n",
    "        elif type(year_raw) == str:\n",
    "            year = int(year_raw[:4])\n",
    "        elif type(year) == float:\n",
    "            year = year + 1\n",
    "        years.append(year)\n",
    "    data.loc[data['Q1'] == '1st Qtr', 'category'] = years\n",
    "    data = data.dropna(subset=['category'])\n",
    "    \n",
    "    levels = pd.DataFrame()\n",
    "    for series in ['Owner', 'Renter', 'Vacant']:\n",
    "        srs = data.loc[data['category'].astype('str')\n",
    "                       .str.contains(series)]\n",
    "        srs.index = years\n",
    "        srs = srs[['Q1', 'Q2', 'Q3', 'Q4']].unstack().swaplevel()\n",
    "        srs.index = pd.to_datetime([f'{i[0]}-{i[1]}' \n",
    "                                    for i in srs.index])\n",
    "        srs = srs.sort_index()\n",
    "        levels[series] = srs\n",
    "    res = levels[~levels.index.duplicated()]\n",
    "    res.to_csv(data_dir / f'hhform_raw_{name}.csv', \n",
    "               index_label='date')"
   ]
  },
  {
   "cell_type": "code",
   "execution_count": 18,
   "metadata": {
    "ExecuteTime": {
     "end_time": "2023-07-26T15:25:25.936333Z",
     "start_time": "2023-07-26T15:25:25.892393Z"
    }
   },
   "outputs": [
    {
     "name": "stdout",
     "output_type": "stream",
     "text": [
      "Over the year ending 2023 Q1, there were an average of 128.7 million total occupied housing units in the US, of which 43.9 million (34.1 percent) were rented, and 84.9 million (65.9 percent) were owner-occupied. \n"
     ]
    }
   ],
   "source": [
    "hist = pd.read_csv(data_dir / 'hhform_raw_hist.csv', index_col='date', \n",
    "                    parse_dates=True)\n",
    "rev = pd.read_csv(data_dir / 'hhform_raw_rev.csv', index_col='date', \n",
    "                    parse_dates=True)\n",
    "level = pd.concat([hist.loc[:'2000'], rev.loc['2001':'2019'], hist.loc['2020':]])\n",
    "level['Occupied'] = level[['Owner', 'Renter']].sum(axis=1)\n",
    "cats = ['Owner', 'Renter', 'Vacant']\n",
    "lvl = (level[cats + ['Occupied']].rolling(4).mean() / 1_000).loc['1989':].dropna()\n",
    "lvl.to_csv(data_dir / 'hhform_lvl.csv', \n",
    "                        index_label='date')\n",
    "cols = {'Owner': 'teal!68!green!95!black', 'Renter': 'cyan!65!white', \n",
    "        'Vacant': 'orange!80!yellow'}\n",
    "offsets = node_adj(lvl)\n",
    "nodes = '\\n'.join([end_node(lvl[cname], color, offset=offsets[cname]) \n",
    "                   for cname, color in cols.items()])\n",
    "write_txt(text_dir / 'hhform_lvl_nodes.txt', nodes)\n",
    "level['Total'] = level.sum(axis=1)\n",
    "level['pop'] = nipa_df(retrieve_table('T70100')['Data'], ['B230RC'])\n",
    "res = (level.divide(level['pop'], axis=0)[cats]\n",
    "            .rolling(4).mean().dropna()) * 100\n",
    "res = res.loc['1989':]\n",
    "res = res - res.iloc[0]\n",
    "res.to_csv(data_dir / 'hhform_idx.csv', index_label='date')\n",
    "offsets = node_adj(res)\n",
    "nodes = '\\n'.join([end_node(res[cname], color, offset=offsets[cname]) \n",
    "                   for cname, color in cols.items()])\n",
    "write_txt(text_dir / 'hhform_idx_nodes.txt', nodes)\n",
    "\n",
    "ltdt = dtxt(level.dropna().index[-1])['qtr1']\n",
    "lvllt = lvl['Occupied'].iloc[-1]\n",
    "lvlltr = lvl['Renter'].iloc[-1] \n",
    "lvllto = lvl['Owner'].iloc[-1]\n",
    "lvl90 = lvl.loc['1990-10-01', 'Occupied']\n",
    "shltr = (lvl['Renter'] / lvl['Occupied']).iloc[-1] * 100\n",
    "shlto = (lvl['Owner'] / lvl['Occupied']).iloc[-1] * 100\n",
    "htxt = (f'Over the year ending {ltdt}, there were an average of {lvllt:.1f} '+\n",
    "        f'million households, compared to {lvl90:.1f} million in 1990.')\n",
    "write_txt(text_dir / 'hh_tot.txt', htxt)\n",
    "\n",
    "text = (f'Over the year ending {ltdt}, there were an average of '+\n",
    "        f'{lvllt:.1f} million total occupied '+\n",
    "        f'housing units in the US, of which {lvlltr:.1f} million '+\n",
    "        f'({shltr:.1f} percent) were rented, and {lvllto:.1f} '+\n",
    "        f'million ({shlto:.1f} percent) were owner-occupied. ')\n",
    "write_txt(text_dir / 'hhform_lvl.txt', text)\n",
    "print(text)"
   ]
  },
  {
   "cell_type": "code",
   "execution_count": 19,
   "metadata": {
    "ExecuteTime": {
     "end_time": "2023-07-26T15:25:25.979157Z",
     "start_time": "2023-07-26T15:25:25.937503Z"
    }
   },
   "outputs": [
    {
     "name": "stdout",
     "output_type": "stream",
     "text": [
      "From 2019 Q4 to 2023 Q1, the average annual \\textbf{household formation rate} was 1.4 percent, while annual population growth averaged 0.3 percent. Changes in the number of owner-occupied households contributed 1.3 percentage points on an average basis (see \\cbox{teal!68!green!95!black}), and changes in rented households contributed 0.1 percentage point (see \\cbox{cyan!65!white}). Over the year ending 2023 Q1, the household formation rate averaged 1.4 percent, of which owner-occupied households contributed 1.4 percentage points, and rented households subtracted 0.0 percentage point. \n"
     ]
    }
   ],
   "source": [
    "cats = ['Owner', 'Renter', 'Vacant']\n",
    "occ = 'Occupied'\n",
    "\n",
    "grps = {}\n",
    "for name, dft in {'hist': hist, 'rev': rev}.items():\n",
    "    dft['Occupied'] = dft[['Owner', 'Renter']].sum(axis=1)\n",
    "    grps[name] = growth_contrib_ann(dft[cats + [occ]], 'Occupied')[cats].dropna()\n",
    "    \n",
    "ch = pd.concat([grps['hist'].loc[:'2001'], grps['rev'].loc['2002':'2019'], \n",
    "                grps['hist'].loc['2020':]])\n",
    "ch = ch.loc['1987':].rolling(4).mean().dropna()\n",
    "ch['pop'] = (nipa_df(retrieve_table('T70100')['Data'], ['B230RC'])\n",
    "                .pct_change(4).dropna() * 100).round(2)\n",
    "ch.dropna().to_csv(data_dir / 'hhform.csv', index_label='date')\n",
    "\n",
    "ch['Occupied'] = ch['Owner'] + ch['Renter']\n",
    "ch19 = ch.loc['2019-10-01':, 'Occupied'].mean()\n",
    "chpop = ch.loc['2019-10-01':, 'pop'].mean()\n",
    "ch19oo = value_text(ch.loc['2019-10-01':, 'Owner'].mean(), \n",
    "           'contribution', 'pp', adj='average', threshold=0.1)\n",
    "ch19r = value_text(ch.loc['2019-10-01':, 'Renter'].mean(), \n",
    "           'contribution', 'pp', threshold=0.1)\n",
    "chlt = ch['Occupied'].iloc[-1]\n",
    "chltoo = value_text(ch['Owner'].iloc[-1], 'contribution', 'pp')\n",
    "chltr = value_text(ch['Renter'].iloc[-1], 'contribution', 'pp')\n",
    "text = (f'From 2019 Q4 to {ltdt}, the average annual \\\\textbf{{household '+\n",
    "        f'formation rate}} was {ch19:.1f} percent, while annual population '+\n",
    "        f'growth averaged {chpop:.1f} percent. Changes in the number '+\n",
    "        f'of owner-occupied households {ch19oo} {c_box(cols[\"Owner\"])}, and '+\n",
    "        f'changes in rented households {ch19r} {c_box(cols[\"Renter\"])}. Over '+\n",
    "        f'the year ending {ltdt}, the household formation rate averaged '+\n",
    "        f'{chlt:.1f} percent, of which owner-occupied households {chltoo}, '+\n",
    "        f'and rented households {chltr}. ')\n",
    "write_txt(text_dir / 'hhform.txt', text)\n",
    "print(text)"
   ]
  },
  {
   "cell_type": "code",
   "execution_count": null,
   "metadata": {},
   "outputs": [],
   "source": []
  },
  {
   "cell_type": "code",
   "execution_count": null,
   "metadata": {},
   "outputs": [],
   "source": []
  },
  {
   "cell_type": "markdown",
   "metadata": {},
   "source": [
    "### New Home Sales"
   ]
  },
  {
   "cell_type": "code",
   "execution_count": 20,
   "metadata": {
    "ExecuteTime": {
     "end_time": "2023-07-26T15:25:27.485511Z",
     "start_time": "2023-07-26T15:25:25.980449Z"
    }
   },
   "outputs": [],
   "source": [
    "# New home sales data from Census API\n",
    "url = ('https://api.census.gov/data/timeseries/eits/ressales?'+\n",
    "       f'get=cell_value,time_slot_id,data_type_code,'+\n",
    "       f'category_code&key={census_key}&time=from+1989&'+\n",
    "       'for=us&seasonally_adj=yes&data_type_code=TOTAL'+\n",
    "       '&category_code=ASOLD')\n",
    "r = requests.get(url).json()\n",
    "date = lambda x: pd.to_datetime(x.time)\n",
    "df = (pd.DataFrame(r[1:], columns=r[0]).assign(date = date)\n",
    "        .set_index('date')['cell_value'].astype('float')\n",
    "        .sort_index().rename('VALUE'))\n",
    "df.to_csv(data_dir / 'nhs.csv', index_label='date', \n",
    "          header=True)"
   ]
  },
  {
   "cell_type": "code",
   "execution_count": 21,
   "metadata": {
    "ExecuteTime": {
     "end_time": "2023-07-26T15:25:27.508094Z",
     "start_time": "2023-07-26T15:25:27.489733Z"
    }
   },
   "outputs": [
    {
     "name": "stdout",
     "output_type": "stream",
     "text": [
      "In June 2023, seasonally-adjusted \\textbf{annualized sales} of new single-family homes total 697,000 (see {\\color{green!80!blue}\\textbf{---}}), as \\href{https://www.census.gov/construction/nrs/pdf/newressales.pdf}{reported} by the Census Bureau. Over the past year, new home sales increased 0.2 percent. Pre-COVID, in February 2020, the annualized rate of single family new home sales was 699,000. Since February 2020, new home sales have decreased 0.3 percent.\n"
     ]
    }
   ],
   "source": [
    "data = pd.read_csv(data_dir / 'nhs.csv', index_col='date',\n",
    "                   parse_dates=True)['VALUE']\n",
    "node_color = 'green!80!blue'\n",
    "datelt = dtxt(data.index[-1])['mon1']\n",
    "latest = data.iloc[-1] * 1000\n",
    "ch1yr = data.pct_change(12).iloc[-1]\n",
    "\n",
    "txt = value_text(ch1yr, threshold=0.1, obj='plural')\n",
    "compdt = '2020-02-01'\n",
    "cdt = dtxt(pd.to_datetime(compdt))['mon1']\n",
    "pc = data.loc[compdt]\n",
    "pcch = ((data.iloc[-1] / pc) - 1) * 100\n",
    "pcvt = value_text(pcch)\n",
    "url = 'https://www.census.gov/construction/nrs/pdf/newressales.pdf'\n",
    "cl = c_line(node_color)\n",
    "text = (f'In {datelt}, seasonally-adjusted \\\\textbf{{annualized sales}} '+\n",
    "        f'of new single-family homes total {latest:,.0f} {cl}, '+\n",
    "        f'as \\href{{{url}}}{{reported}} by the Census Bureau. '\n",
    "        f'Over the past year, new home sales {txt}. Pre-COVID, '+\n",
    "        f'in {cdt}, the annualized rate of '+\n",
    "        f'single family new home sales was {pc * 1000:,.0f}. '+\n",
    "        f'Since {cdt}, new home sales have {pcvt}.')\n",
    "write_txt(text_dir / 'nhs.txt', text)\n",
    "print(text)\n",
    "\n",
    "node = end_node(data, node_color, date='m', digits=0, full_year=True)\n",
    "write_txt(text_dir / 'nhs_node.txt', node)"
   ]
  },
  {
   "cell_type": "code",
   "execution_count": null,
   "metadata": {},
   "outputs": [],
   "source": []
  },
  {
   "cell_type": "code",
   "execution_count": null,
   "metadata": {},
   "outputs": [],
   "source": []
  },
  {
   "cell_type": "markdown",
   "metadata": {},
   "source": [
    "### Months' Supply"
   ]
  },
  {
   "cell_type": "code",
   "execution_count": 22,
   "metadata": {
    "ExecuteTime": {
     "end_time": "2023-07-26T15:25:30.438995Z",
     "start_time": "2023-07-26T15:25:27.511253Z"
    }
   },
   "outputs": [
    {
     "name": "stdout",
     "output_type": "stream",
     "text": [
      "nhs_forsale.csv saved\n",
      "nhs_s.csv saved\n"
     ]
    }
   ],
   "source": [
    "# New home inventory, levels (TOTAL) and months supply (MONSUP)\n",
    "date = lambda x: pd.to_datetime(x.time)\n",
    "for var, fname in [('TOTAL', 'forsale'), ('MONSUP', 's')]:\n",
    "    url = ('https://api.census.gov/data/timeseries/eits/ressales?'+\n",
    "       f'get=cell_value,time_slot_id,data_type_code,'+\n",
    "       f'category_code&key={census_key}&time=from+1989&'+\n",
    "       f'for=us&seasonally_adj=yes&data_type_code={var}'+\n",
    "       '&category_code=FORSALE')\n",
    "    r = requests.get(url).json()\n",
    "\n",
    "    df = (pd.DataFrame(r[1:], columns=r[0]).assign(date = date)\n",
    "            .set_index('date')['cell_value'].astype('float')\n",
    "            .sort_index().rename('VALUE'))\n",
    "    file = f'nhs_{fname}.csv'\n",
    "    df.to_csv(data_dir / file, index_label='date', \n",
    "              header=True)\n",
    "    print(f'{file} saved')"
   ]
  },
  {
   "cell_type": "code",
   "execution_count": 23,
   "metadata": {
    "ExecuteTime": {
     "end_time": "2023-07-26T15:25:30.477588Z",
     "start_time": "2023-07-26T15:25:30.444815Z"
    }
   },
   "outputs": [
    {
     "name": "stdout",
     "output_type": "stream",
     "text": [
      "The \\textbf{inventory} of new homes for sale affects housing prices. The Census Bureau \\href{https://www.census.gov/construction/nrs/index.html}{report} a seasonally-adjusted total of 461,000 new houses for sale in August 2022, an increase of 87,000 since August 2021.  At the current pace of new home sales, it would take 7.4 months to exhaust the supply of unsold homes (see {\\color{red!90!black}\\textbf{---}}). Current inventory levels are substantially below the year-prior supply of 9.5 months and slightly above the long-term average supply of 5.9 months. \n"
     ]
    }
   ],
   "source": [
    "# Inventory levels text\n",
    "data = pd.read_csv(data_dir / 'nhs_foresale.csv', index_col='date',\n",
    "                   parse_dates=True)['VALUE']\n",
    "ltval = data.iloc[-1] * 1000\n",
    "chval = data.diff(12).iloc[-1] * 1000\n",
    "chtxt = value_text(chval, 'increase_of', digits=0, ptype=None, threshold=1000)\n",
    "ltdt = dtxt(data.index[-1])['mon1']\n",
    "prdt = dtxt(data.index[-13])['mon1']\n",
    "value_text(chval, 'increase_of', digits=0, ptype=None, threshold=1000)\n",
    "url = 'https://www.census.gov/construction/nrs/index.html'\n",
    "txt1 = ('The \\\\textbf{inventory} of new homes for sale affects housing prices. '+\n",
    "       f'The Census Bureau \\href{{{url}}}{{report}} a seasonally-adjusted '+\n",
    "       f'total of {ltval:,.0f} new houses for sale in {ltdt}, '+\n",
    "       f'{chtxt} since {prdt}. ')\n",
    "\n",
    "# Months supply text\n",
    "df = pd.read_csv(data_dir / 'nhs_s.csv', index_col='date',\n",
    "                 parse_dates=True)['VALUE']\n",
    "# Node\n",
    "node_color = 'red!90!black'\n",
    "cl = c_line(node_color)\n",
    "node = end_node(df, node_color, date='m', digits=1, full_year=True)\n",
    "write_txt(text_dir / 'nhs_s_node.txt', node)\n",
    "\n",
    "ltval = df.iloc[-1]\n",
    "prval = df.iloc[-13]\n",
    "ltavg = df.mean()\n",
    "thresh = (0.8, 1.8, 3)\n",
    "ctlt = compare_text(ltval, ltavg, thresh)\n",
    "ctpr = compare_text(ltval, prval, thresh)\n",
    "lttxt = f'the long-term average supply of {ltavg:.1f} months'\n",
    "prtxt = f'the year-prior supply of {prval} months'\n",
    "ctxt = f'{ctpr} {prtxt} and {ctlt} {lttxt}'\n",
    "if ctlt == ctpr: \n",
    "    ctxt = f'{ctlt} both {prtxt} and {lttxt}'\n",
    "txt2 = (f'At the current pace of new home sales, it would take {ltval} '+\n",
    "        f'months to exhaust the supply of unsold homes {cl}. Current inventory '+\n",
    "        f'levels are {ctxt}. ')\n",
    "text = f'{txt1} {txt2}'\n",
    "write_txt(text_dir / 'nhs_s.txt', text)\n",
    "print(text)"
   ]
  },
  {
   "cell_type": "code",
   "execution_count": null,
   "metadata": {},
   "outputs": [],
   "source": []
  },
  {
   "cell_type": "code",
   "execution_count": null,
   "metadata": {},
   "outputs": [],
   "source": []
  },
  {
   "cell_type": "markdown",
   "metadata": {},
   "source": [
    "### New Home Sales Price"
   ]
  },
  {
   "cell_type": "code",
   "execution_count": 24,
   "metadata": {
    "ExecuteTime": {
     "end_time": "2023-07-26T15:25:33.468335Z",
     "start_time": "2023-07-26T15:25:30.479601Z"
    }
   },
   "outputs": [],
   "source": [
    "# New home sales data from Census API\n",
    "url = ('https://api.census.gov/data/timeseries/eits/ressales?'+\n",
    "       f'get=cell_value,time_slot_id,data_type_code,'+\n",
    "       f'category_code&key={census_key}&time=from+1989&'+\n",
    "       'for=us&seasonally_adj=no&data_type_code=MEDIAN'+\n",
    "       '&category_code=SOLD')\n",
    "r = requests.get(url).json()\n",
    "date = lambda x: pd.to_datetime(x.time)\n",
    "md = (pd.DataFrame(r[1:], columns=r[0]).assign(date = date)\n",
    "        .set_index('date')['cell_value'].astype('float')\n",
    "        .sort_index().rename('MEDIAN'))\n",
    "\n",
    "url = ('https://api.census.gov/data/timeseries/eits/ressales?'+\n",
    "       f'get=cell_value,time_slot_id,data_type_code,'+\n",
    "       f'category_code&key={census_key}&time=from+1989&'+\n",
    "       'for=us&seasonally_adj=no&data_type_code=AVERAG'+\n",
    "       '&category_code=SOLD')\n",
    "r = requests.get(url).json()\n",
    "date = lambda x: pd.to_datetime(x.time)\n",
    "mn = (pd.DataFrame(r[1:], columns=r[0]).assign(date = date)\n",
    "        .set_index('date')['cell_value'].astype('float')\n",
    "        .sort_index().rename('AVERAGE'))\n",
    "\n",
    "df = pd.concat([mn, md], axis=1)\n",
    "df.to_csv(data_dir / 'nhs_p.csv', index_label='date', \n",
    "          header=True)\n",
    "p = pd.read_csv(data_dir / 'cpi_raw.csv', index_col='date', \n",
    "                parse_dates=True)['All items']\n",
    "res = (df.multiply(p.loc[df.index[-1]] / p, axis=0)).dropna()\n",
    "# Save latest date as text \n",
    "write_txt(text_dir / 'nhs_p_dt.txt', dtxt(res.index[-1])['mon1'])\n",
    "res.divide(1000).to_csv(data_dir / 'nhs_rp.csv', index_label='date', \n",
    "          header=True)"
   ]
  },
  {
   "cell_type": "code",
   "execution_count": 25,
   "metadata": {
    "ExecuteTime": {
     "end_time": "2023-07-26T15:25:33.478490Z",
     "start_time": "2023-07-26T15:25:33.469505Z"
    }
   },
   "outputs": [
    {
     "name": "stdout",
     "output_type": "stream",
     "text": [
      "The Census Bureau also tracks the \\textbf{sales price} of new single-family homes. In June 2023, the median new home sold for \\$415,400 (see {\\color{violet}\\textbf{---}}), and the average sales price was \\$494,700. The inflation-adjusted median sales price has decreased 6.8 percent over the past year, and increased 2.9 percent over the past three years. Since 1989, the inflation-adjusted median new home sales price increased 45.9 percent.\n"
     ]
    }
   ],
   "source": [
    "res = pd.read_csv(data_dir / 'nhs_rp.csv', index_col='date', \n",
    "                  parse_dates=True).multiply(1000)\n",
    "\n",
    "ltdt = dtxt(df.index[-1])['mon1']\n",
    "mdval = res['MEDIAN'].iloc[-1]\n",
    "mnval = res['AVERAGE'].iloc[-1]\n",
    "md1yr = value_text(res.MEDIAN.pct_change(12).iloc[-1] * 100)\n",
    "md3yr = value_text(res.MEDIAN.pct_change(36).iloc[-1] * 100)\n",
    "tot = value_text(((res.MEDIAN / res.MEDIAN.iloc[0]) - 1).iloc[-1] * 100)\n",
    "col = 'violet'\n",
    "node = end_node(res.MEDIAN / 1000, col, date='m', digits=0, \n",
    "                full_year=True, dollar='thousands')\n",
    "write_txt(text_dir / 'nhs_rp_node.txt', node)\n",
    "text = ('The Census Bureau also tracks the \\\\textbf{sales price} of new single-family '+\n",
    "        f'homes. In {ltdt}, the median new home sold for \\${mdval:,.0f} '+\n",
    "        f'{c_line(col)}, and the average sales price was \\${mnval:,.0f}. '+\n",
    "        'The inflation-adjusted median sales price has '+\n",
    "        f'{md1yr} over the past year, and {md3yr} over the past three '+\n",
    "        'years. Since 1989, the inflation-adjusted median new home sales '+\n",
    "        f'price {tot}.')\n",
    "write_txt(text_dir / 'nhs_rp.txt', text)\n",
    "print(text)"
   ]
  },
  {
   "cell_type": "code",
   "execution_count": null,
   "metadata": {},
   "outputs": [],
   "source": []
  },
  {
   "cell_type": "code",
   "execution_count": null,
   "metadata": {},
   "outputs": [],
   "source": []
  },
  {
   "cell_type": "markdown",
   "metadata": {},
   "source": [
    "### Mortgage Rate"
   ]
  },
  {
   "cell_type": "code",
   "execution_count": 38,
   "metadata": {
    "ExecuteTime": {
     "end_time": "2023-07-26T15:29:49.116889Z",
     "start_time": "2023-07-26T15:29:46.760754Z"
    }
   },
   "outputs": [],
   "source": [
    "url = 'https://www.freddiemac.com/pmms/docs/historicalweeklydata.xls'\n",
    "storage_options = {'User-Agent': 'Mozilla/5.0'}\n",
    "h = pd.read_excel(url, sheet_name='Full History', \n",
    "                  usecols=[0, 1], index_col=0, header=6,\n",
    "                  storage_options=storage_options, \n",
    "                  parse_dates=True).iloc[:-1]\n",
    "lt = pd.read_excel(url, usecols=[0, 1], index_col=0, header=6,\n",
    "                  storage_options=storage_options, \n",
    "                  parse_dates=True).iloc[:-1]\n",
    "if len(lt.loc['1989':].dropna()) > 1700:\n",
    "    df = lt.loc['1989':].dropna()\n",
    "else:\n",
    "    df = pd.concat([h.loc['1989':], lt.loc['1989':].dropna()])\n",
    "df.index = pd.to_datetime(df.index)\n",
    "df.to_csv(data_dir / 'mortgage.csv', index_label='date')\n",
    "# Monthly average + latest value\n",
    "df = pd.concat([df.iloc[:-1].resample('MS').mean(), \n",
    "                df.iloc[-1].to_frame().T]).drop_duplicates()\n",
    "df.to_csv(data_dir / 'mortgage_mo.csv', index_label='date')"
   ]
  },
  {
   "cell_type": "code",
   "execution_count": 39,
   "metadata": {
    "ExecuteTime": {
     "end_time": "2023-07-26T15:29:49.279585Z",
     "start_time": "2023-07-26T15:29:49.265786Z"
    },
    "code_folding": []
   },
   "outputs": [
    {
     "name": "stdout",
     "output_type": "stream",
     "text": [
      "As of July 20, 2023, the average 30-year mortgage rate is 6.78 percent, compared to 6.34 percent in April 2023, and 5.41 percent in July 2022 (see {\\color{blue}\\textbf{---}}). In 2019, the average rate was 3.92 percent.\n"
     ]
    }
   ],
   "source": [
    "df = pd.read_csv(data_dir / 'mortgage_mo.csv', index_col='date', \n",
    "                 parse_dates=True)\n",
    "ltdt = dtxt(df.index[-1])['day1']\n",
    "prdt = dtxt(df.index[-5])['mon1']\n",
    "yrdt = dtxt(df.index[-14])['mon1']\n",
    "ltval = df.FRM.iloc[-1]\n",
    "prval = df.FRM.iloc[-5]\n",
    "yrval = df.FRM.iloc[-14]\n",
    "val19 = df.loc['2019', 'FRM'].mean()\n",
    "color = 'blue'\n",
    "cl = c_line(color)\n",
    "\n",
    "text = (f'As of {ltdt}, the average 30-year mortgage rate '+\n",
    "        f'is {ltval:.2f} percent, compared to {prval:.2f} percent in '+\n",
    "        f'{prdt}, and {yrval:.2f} percent in {yrdt} {cl}. In 2019, '+\n",
    "        f'the average rate was {val19:.2f} percent.')\n",
    "write_txt(text_dir / 'mortgage.txt', text)\n",
    "print(text)\n",
    "\n",
    "node = end_node(df['FRM'], color, date='d', percent=True, \n",
    "                full_year=True, digits=2)\n",
    "write_txt(text_dir / 'mortgage_node.txt', node)"
   ]
  },
  {
   "cell_type": "code",
   "execution_count": null,
   "metadata": {},
   "outputs": [],
   "source": []
  },
  {
   "cell_type": "code",
   "execution_count": null,
   "metadata": {},
   "outputs": [],
   "source": []
  },
  {
   "cell_type": "code",
   "execution_count": null,
   "metadata": {},
   "outputs": [],
   "source": []
  },
  {
   "cell_type": "markdown",
   "metadata": {},
   "source": [
    "### New Home Affordability"
   ]
  },
  {
   "cell_type": "code",
   "execution_count": 40,
   "metadata": {
    "ExecuteTime": {
     "end_time": "2023-07-26T15:29:58.323178Z",
     "start_time": "2023-07-26T15:29:54.890350Z"
    }
   },
   "outputs": [],
   "source": [
    "# Wages\n",
    "columns = ['MONTH', 'YEAR', 'AGE', 'PWORWGT', 'WKEARN', 'WORKFT']\n",
    "dfc = (pd.concat([pd.read_feather(cps_dir / f'cps{year}.ft', columns=columns)\n",
    "                    .query('WKEARN > 0 and WORKFT == 1')\n",
    "                  for year in range(1989, 2024)]))\n",
    "w = dfc.groupby(['YEAR', 'MONTH']).apply(binned_wage, percentile=0.5).rename('All')\n",
    "w.index = [pd.to_datetime(f'{ti[0]}-{ti[1]}-01') for ti in w.index]\n",
    "w = w * 52 / 12\n",
    "\n",
    "# Median new home sales price\n",
    "p = pd.read_csv(data_dir / 'nhs_p.csv', index_col='date', \n",
    "                  parse_dates=True).MEDIAN\n",
    "\n",
    "# Mortgage rate\n",
    "i = pd.read_csv(data_dir / 'mortgage.csv', index_col='date', \n",
    "                  parse_dates=True).FRM\n",
    "ct = i.resample('MS').count()\n",
    "indx = ct[ct > 3].index\n",
    "i = i.resample('MS').mean().loc[indx] / 1200\n",
    "\n",
    "# New Home Affordability\n",
    "payment = ((p * 0.9) * (i / (1 - ((1 / (1 + i)**360))))).dropna()\n",
    "nha = ((w / (payment * 3.33)) * 100).dropna()\n",
    "nha.rename('VALUE').to_csv(data_dir / 'nha.csv', index_label='date', \n",
    "          header=True)"
   ]
  },
  {
   "cell_type": "code",
   "execution_count": 41,
   "metadata": {
    "ExecuteTime": {
     "end_time": "2023-07-26T15:29:58.332007Z",
     "start_time": "2023-07-26T15:29:58.325157Z"
    }
   },
   "outputs": [
    {
     "name": "stdout",
     "output_type": "stream",
     "text": [
      "The monthly payment associated with new single-family home sales typically reflects both the sales price and the current mortgage interest rate. The monthly principal and interest payment for a 30-year fixed-rate mortgage on the median new home sold is \\$2,416, as of of June 2023, compared to an average of \\$2,356 over the past three months, and an average of \\$1,361 in 2019.\n",
      "The \\textbf{affordability of a new house} depends on both the monthly payment and people's ability to make the payment, usually determined by their income. New homes are affordable when the monthly payment is a third of income, or less.\n",
      "\n",
      "The new house affordability index (see {\\color{blue!80!black}\\textbf{---}}) compares the monthly payment with one-third of the median full-time wage. The median full-time wage is sufficient to afford the median new home when index values are 100 or greater.\n"
     ]
    }
   ],
   "source": [
    "# Summary text\n",
    "color = 'blue!80!black'\n",
    "\n",
    "node = end_node(nha, color, date='m')\n",
    "write_txt(text_dir / 'nha_node.txt', node)\n",
    "\n",
    "value = payment.iloc[-1]\n",
    "ltdt = dtxt(payment.index[-1])['mon1']\n",
    "val3m = payment.iloc[-3:].mean()\n",
    "val19 = payment.loc['2019'].mean()\n",
    "\n",
    "text = ('The monthly payment associated with new single-'+\n",
    "        'family home sales typically reflects both the sales '+\n",
    "        'price and the current mortgage interest rate. The '+\n",
    "        'monthly principal and interest payment for a 30-year '+\n",
    "        'fixed-rate mortgage on the median new home sold is '+\n",
    "        f'\\${value:,.0f}, as of of {ltdt}, compared to an '+\n",
    "        f'average of \\${val3m:,.0f} over the past three months, '+\n",
    "        f'and an average of \\${val19:,.0f} in 2019.')\n",
    "write_txt(text_dir / 'nha_payment.txt', text)\n",
    "print(text)\n",
    "\n",
    "cl = c_line(color)\n",
    "txt2 = ('The \\\\textbf{affordability of a new house} depends on both '+\n",
    "        \"the monthly payment and people's ability to make \"+\n",
    "        'the payment, usually determined by their income. '+\n",
    "        'New homes are affordable when the monthly payment '+\n",
    "        'is a third of income, or less.\\n\\nThe new house affordability '+\n",
    "        f'index {cl} compares the monthly payment with one-third of '+\n",
    "        'the median full-time wage. The median full-time wage '+\n",
    "        'is sufficient to afford the median new home when index '+\n",
    "        'values are 100 or greater.')\n",
    "write_txt(text_dir / 'nha2.txt', txt2)\n",
    "print(txt2)"
   ]
  },
  {
   "cell_type": "code",
   "execution_count": 42,
   "metadata": {
    "ExecuteTime": {
     "end_time": "2023-07-26T15:29:58.355155Z",
     "start_time": "2023-07-26T15:29:58.333566Z"
    }
   },
   "outputs": [],
   "source": [
    "# Create table\n",
    "res = pd.concat([nha, payment, p, i * 1200, w], axis=1)\n",
    "tab = res.iloc[-4:].iloc[::-1].T\n",
    "tab.columns = tab.columns.strftime('%b `%y')\n",
    "pryr = res.dropna().iloc[-13]\n",
    "tab[dtxt(pryr.name)['mon6']] = pryr\n",
    "tab['2019'] = res.loc['2019'].mean()\n",
    "tab = tab.T\n",
    "fmts = {0: '{:.1f}'.format,\n",
    "        1: '{:,.0f}'.format,\n",
    "        'FRM': '{:.2f}'.format,\n",
    "        'MEDIAN': '{:,.0f}'.format,\n",
    "        'All': '{:,.0f}'.format}\n",
    "for name, fmt in fmts.items():\n",
    "    tab[name] = tab[name].apply(fmt)\n",
    "names = {0: 'Affordability Index', 1: '\\hspace{2mm} Monthly Payment (\\$)', \n",
    "         'MEDIAN': '\\hspace{4mm} Median Home Price (\\$)', \n",
    "         'FRM': '\\hspace{4mm} Mortgage Rate (\\%)',  \n",
    "         'All': '\\hspace{2mm} Median Monthly Earnings (\\$)'}\n",
    "tab = tab.rename(names, axis=1).T.replace('nan', '--')\n",
    "tab.to_csv(data_dir / 'nha.tex', sep='&', lineterminator='\\\\\\ ', quotechar=' ')\n",
    "\n",
    "# Version for download\n",
    "res.rename(names, axis=1).to_csv(data_dir / 'nha_ts.csv', index_label='date')"
   ]
  },
  {
   "cell_type": "code",
   "execution_count": null,
   "metadata": {},
   "outputs": [],
   "source": []
  },
  {
   "cell_type": "code",
   "execution_count": null,
   "metadata": {},
   "outputs": [],
   "source": []
  }
 ],
 "metadata": {
  "kernelspec": {
   "display_name": "Python 3 (ipykernel)",
   "language": "python",
   "name": "python3"
  },
  "language_info": {
   "codemirror_mode": {
    "name": "ipython",
    "version": 3
   },
   "file_extension": ".py",
   "mimetype": "text/x-python",
   "name": "python",
   "nbconvert_exporter": "python",
   "pygments_lexer": "ipython3",
   "version": "3.8.13"
  }
 },
 "nbformat": 4,
 "nbformat_minor": 4
}
