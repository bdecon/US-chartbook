{
 "cells": [
  {
   "cell_type": "markdown",
   "metadata": {},
   "source": [
    "# Housing"
   ]
  },
  {
   "cell_type": "code",
   "execution_count": 1,
   "metadata": {
    "ExecuteTime": {
     "end_time": "2022-02-02T15:54:45.404001Z",
     "start_time": "2022-02-02T15:54:44.663776Z"
    }
   },
   "outputs": [],
   "source": [
    "import sys\n",
    "sys.path.append('../src')\n",
    "\n",
    "import uschartbook.config\n",
    "\n",
    "from uschartbook.config import *\n",
    "from uschartbook.utils import *"
   ]
  },
  {
   "cell_type": "markdown",
   "metadata": {},
   "source": [
    "### Homeownership rate"
   ]
  },
  {
   "cell_type": "code",
   "execution_count": 2,
   "metadata": {
    "ExecuteTime": {
     "end_time": "2022-02-02T15:54:47.158743Z",
     "start_time": "2022-02-02T15:54:46.647507Z"
    }
   },
   "outputs": [
    {
     "name": "stdout",
     "output_type": "stream",
     "text": [
      "As of 2021 Q4, the Census Bureau \\href{https://www.census.gov/housing/hvs/index.html}{report} a homeownership rate of 65.5 percent (see {\\color{violet!60!magenta}\\textbf{---}}). Over the past three years, the overall US homeownership rate increased by a total of 0.7 percentage point.\n"
     ]
    }
   ],
   "source": [
    "data = fred_df('RHORUSQ156N')['VALUE']\n",
    "data.to_csv(data_dir / 'homeown.csv', index_label='date', header=True)\n",
    "node = end_node(data, 'violet!60!magenta', percent=True, \n",
    "                date='q', full_year=True)\n",
    "write_txt(text_dir / 'homeown_node.txt', node)\n",
    "datelt = dtxt(data.index[-1])['qtr1']\n",
    "latest = data.iloc[-1]\n",
    "ch3yr = value_text(data.diff(12).iloc[-1], ptype='pp', adj='total')\n",
    "text = (f'As of {datelt}, the Census Bureau '+\n",
    "        '\\href{https://www.census.gov/housing/hvs/index.html}{report} '+\n",
    "        f'a homeownership rate of {latest:.1f} percent '+\n",
    "        '(see {\\color{violet!60!magenta}\\\\textbf{---}}). Over the '+\n",
    "        f'past three years, the overall US homeownership rate {ch3yr}.')\n",
    "write_txt(text_dir / 'homeown.txt', text)\n",
    "print(text)"
   ]
  },
  {
   "cell_type": "code",
   "execution_count": null,
   "metadata": {},
   "outputs": [],
   "source": []
  },
  {
   "cell_type": "code",
   "execution_count": null,
   "metadata": {},
   "outputs": [],
   "source": []
  },
  {
   "cell_type": "markdown",
   "metadata": {},
   "source": [
    "### By Race/Ethnicity"
   ]
  },
  {
   "cell_type": "code",
   "execution_count": 3,
   "metadata": {
    "ExecuteTime": {
     "end_time": "2022-02-02T15:54:56.886037Z",
     "start_time": "2022-02-02T15:54:52.595317Z"
    }
   },
   "outputs": [
    {
     "name": "stdout",
     "output_type": "stream",
     "text": [
      "Around three-quarters (74.4 percent in 2021 Q4) of non-Hispanic white households own their home (see {\\color{blue!80!cyan!80!black}\\textbf{---}}), compared to fewer than half of black and Hispanic households.  \n",
      "\n",
      "During the housing bubble, the homeownership rate for black households increased by nearly ten percentage points, peaked at 49.7 percent in the second quarter of 2004, and fell to 40.6 percent in 2019 Q2. The current homeownership rate for black households is 43.1 percent, as of 2021 Q4 (see {\\color{red!20!orange!95!black}\\textbf{---}}). The rate for Hispanic households of any race is 48.4 percent in 2021 Q4, substantially below the 51.4 percent peak rate in the second quarter of 2020 (see {\\color{green!80!blue!85!black}\\textbf{---}}). \n"
     ]
    }
   ],
   "source": [
    "url = 'https://www.census.gov/housing/hvs/data/histtab16.xlsx'\n",
    "\n",
    "data = pd.read_excel(url)\n",
    "df = data.iloc[7:-9, :-6].reset_index().drop('index', axis=1)\n",
    "df.columns = ['Date', 'Total', 'White', 'Black', 'Other', 'Other2', 'Hispanic']\n",
    "df = df.replace('2002r', 2002).replace('20033', 2003).dropna(how='all')\n",
    "\n",
    "q = {1: '01', 2: '04', 3: '07', 4: '10'}\n",
    "\n",
    "d = {}\n",
    "for i, row in df.iterrows():\n",
    "    if i not in d.keys():\n",
    "        d[i] = {}\n",
    "    if type(row['Date']) == int:\n",
    "        for y in list(range(i, i+5)):\n",
    "            if y in df.index:\n",
    "                d[y] = {'quarter': ''}\n",
    "                d[y]['year'] = row['Date']\n",
    "    if (type(row['Date']) != int) & ('.' in str(row['Date'])):\n",
    "        d[i]['quarter'] = q[int(row['Date'][0])]\n",
    "        \n",
    "    if 'year' not in d[i].keys():\n",
    "        d[i] = {'date': '', 'year': '', 'quarter': ''}\n",
    "    else:\n",
    "        d[i]['date'] = f'{d[i][\"year\"]}-{d[i][\"quarter\"]}-01'\n",
    "        \n",
    "dates = {k: v['date'] for k, v in d.items()}\n",
    "df['date'] = df.index.map(dates)\n",
    "df = df.dropna()\n",
    "df = df.set_index(pd.to_datetime(df.date))\n",
    "result = df[['White', 'Black', 'Hispanic', 'Other', 'Total']]\n",
    "result.to_csv(data_dir / 'homeown2.csv', index_label='date', header=True)\n",
    "\n",
    "color_list = [('Black', 'red!20!orange!95!black'), \n",
    "              ('White', 'blue!80!cyan!80!black'),\n",
    "              ('Hispanic', 'green!80!blue!85!black'),\n",
    "              ('Other', 'red!80!black')]\n",
    "for group, color in color_list:\n",
    "    write_txt(text_dir / f'homeown_{group.lower()}_node.txt', \n",
    "              end_node(result[group], color, percent=True))\n",
    "\n",
    "wtlt = result.White.iloc[-1]\n",
    "blmax = result['Black'].max()\n",
    "blidxmax = dtxt(result['Black'].idxmax())['qtr2']\n",
    "blmin = result.loc['2006':, 'Black'].min()\n",
    "blidxmin = dtxt(result.loc['2006':, 'Black'].idxmin())['qtr1']\n",
    "bllt = result.Black.iloc[-1]\n",
    "ltdt = dtxt(result.index[-1])['qtr1']\n",
    "hsmax = result['Hispanic'].max()\n",
    "hsidxmax = dtxt(result['Hispanic'].idxmax())['qtr2']\n",
    "hslt = result['Hispanic'].iloc[-1]\n",
    "compare = compare_text(hslt, hsmax, [0.3, 1.0, 3.0])\n",
    "if hslt == hsmax:\n",
    "    cmp_txt = 'the highest on record'\n",
    "else:\n",
    "    cmp_txt = f'{compare} the {hsmax:.1f} percent peak rate in {hsidxmax}'\n",
    "\n",
    "text = (f'Around three-quarters ({wtlt:.1f} percent in {ltdt}) of non-Hispanic '+\n",
    "        'white households own their home (see {\\color{blue!80!cyan!80!black}\\\\textbf{---}}), '+\n",
    "        'compared to fewer than half of black and Hispanic households. ')\n",
    "write_txt(text_dir / 'homeown2.txt', text)\n",
    "print(text, '\\n')\n",
    "\n",
    "txt2 = ('During the housing bubble, the homeownership rate for black households increased '+\n",
    "        f'by nearly ten percentage points, peaked at {blmax:.1f} percent '+\n",
    "        f'in {blidxmax}, and fell to {blmin:.1f} percent in {blidxmin}. The current '+\n",
    "        f'homeownership rate for black households is {bllt:.1f} percent, as of '+\n",
    "        f'{ltdt} (see {{\\color{{red!20!orange!95!black}}\\\\textbf{{---}}}}). '+\n",
    "        'The rate for Hispanic households '+\n",
    "        f'of any race is {hslt:.1f} percent in {ltdt}, {cmp_txt} '+\n",
    "        '(see {\\color{green!80!blue!85!black}\\\\textbf{---}}). ')\n",
    "write_txt(text_dir / 'homeown3.txt', txt2)\n",
    "print(txt2)"
   ]
  },
  {
   "cell_type": "code",
   "execution_count": null,
   "metadata": {},
   "outputs": [],
   "source": []
  },
  {
   "cell_type": "code",
   "execution_count": null,
   "metadata": {},
   "outputs": [],
   "source": []
  },
  {
   "cell_type": "markdown",
   "metadata": {},
   "source": [
    "### FHFA Housing Price Index"
   ]
  },
  {
   "cell_type": "code",
   "execution_count": 4,
   "metadata": {
    "ExecuteTime": {
     "end_time": "2022-01-31T23:47:29.705519Z",
     "start_time": "2022-01-31T23:47:27.660213Z"
    }
   },
   "outputs": [
    {
     "name": "stdout",
     "output_type": "stream",
     "text": [
      "increased 17.5 percent over the year ending November 2021. Among Census Divisions, the fastest one-year housing price index growth rate in November 2021 was 22.8 percent in the Mountain Division, which includes Arizona, Colorado, Idaho, Montana, New Mexico, Nevada, Utah, and Wyoming.\n"
     ]
    }
   ],
   "source": [
    "df = pd.read_csv('https://www.fhfa.gov/HPI_master.csv')\n",
    "srs = ['place_name', 'yr', 'period', 'index_sa']\n",
    "dr = (df.loc[(df['level'] == 'USA or Census Division') & \n",
    "             (df['frequency'] == 'monthly'), srs]\n",
    "        .rename({'yr': 'year', 'period': 'month'}, axis=1)\n",
    "        .assign(day = 1))\n",
    "\n",
    "data = (dr.set_index([pd.to_datetime(dr[['year', 'month', 'day']]), \n",
    "                   dr['place_name']])\n",
    "          .index_sa.unstack().pct_change(12) * 100).dropna()\n",
    "data.columns = [i.replace(' Division', '') for i in data.columns]\n",
    "ch = data['United States']\n",
    "ch.to_csv(data_dir / 'hpi.csv', index_label='date', header='True')\n",
    "node = end_node(ch, 'blue!40!cyan', date='m', \n",
    "                full_year=True, percent=True)\n",
    "write_txt(text_dir / 'fhfa_node.txt', node)\n",
    "\n",
    "chtxt = value_text(ch.iloc[-1])\n",
    "ltdt = dtxt(ch.index[-1])['mon1']\n",
    "div = data.iloc[-1].idxmax()\n",
    "maxval = data.iloc[-1].max()\n",
    "divs = pd.read_csv('raw/census_regions.csv')\n",
    "div_list = divs[divs['Division'] == div].State.to_list()\n",
    "states = f\"{', '.join(div_list[:-1])}, and {div_list[-1]}\"\n",
    "\n",
    "text = (f'{chtxt} over the year ending {ltdt}. '+\n",
    "          'Among Census Divisions, the fastest one-year housing '+\n",
    "         f'price index growth rate in {ltdt} was {maxval:.1f} '+\n",
    "         f'percent in the {div} Division, which includes {states}.')\n",
    "write_txt(text_dir / 'fhfa.txt', text)\n",
    "print(text)"
   ]
  },
  {
   "cell_type": "code",
   "execution_count": 5,
   "metadata": {
    "ExecuteTime": {
     "end_time": "2022-01-31T23:47:29.731934Z",
     "start_time": "2022-01-31T23:47:29.706589Z"
    },
    "scrolled": true
   },
   "outputs": [
    {
     "data": {
      "text/html": [
       "<div>\n",
       "<style scoped>\n",
       "    .dataframe tbody tr th:only-of-type {\n",
       "        vertical-align: middle;\n",
       "    }\n",
       "\n",
       "    .dataframe tbody tr th {\n",
       "        vertical-align: top;\n",
       "    }\n",
       "\n",
       "    .dataframe thead th {\n",
       "        text-align: right;\n",
       "    }\n",
       "</style>\n",
       "<table border=\"1\" class=\"dataframe\">\n",
       "  <thead>\n",
       "    <tr style=\"text-align: right;\">\n",
       "      <th></th>\n",
       "      <th>Nov `21</th>\n",
       "      <th>Oct `21</th>\n",
       "      <th>Sep `21</th>\n",
       "      <th>Aug `21</th>\n",
       "      <th>Nov `20</th>\n",
       "      <th>Nov `19</th>\n",
       "      <th>Nov `18</th>\n",
       "      <th>`03--`05 Average</th>\n",
       "      <th>`09--`12 Average</th>\n",
       "    </tr>\n",
       "  </thead>\n",
       "  <tbody>\n",
       "    <tr>\n",
       "      <th>Mountain</th>\n",
       "      <td>22.8</td>\n",
       "      <td>23.3</td>\n",
       "      <td>23.9</td>\n",
       "      <td>25.7</td>\n",
       "      <td>13.9</td>\n",
       "      <td>6.7</td>\n",
       "      <td>7.8</td>\n",
       "      <td>11.1</td>\n",
       "      <td>-4.2</td>\n",
       "    </tr>\n",
       "    <tr>\n",
       "      <th>South Atlantic</th>\n",
       "      <td>20.4</td>\n",
       "      <td>19.5</td>\n",
       "      <td>19.9</td>\n",
       "      <td>20.7</td>\n",
       "      <td>11.6</td>\n",
       "      <td>5.5</td>\n",
       "      <td>6.1</td>\n",
       "      <td>11.3</td>\n",
       "      <td>-3.7</td>\n",
       "    </tr>\n",
       "    <tr>\n",
       "      <th>East South Central</th>\n",
       "      <td>19.8</td>\n",
       "      <td>18.9</td>\n",
       "      <td>17.6</td>\n",
       "      <td>18.8</td>\n",
       "      <td>11.7</td>\n",
       "      <td>4.6</td>\n",
       "      <td>6.5</td>\n",
       "      <td>5.1</td>\n",
       "      <td>-1.6</td>\n",
       "    </tr>\n",
       "    <tr>\n",
       "      <th>Pacific</th>\n",
       "      <td>18.9</td>\n",
       "      <td>20.0</td>\n",
       "      <td>19.7</td>\n",
       "      <td>21.3</td>\n",
       "      <td>12.1</td>\n",
       "      <td>5.1</td>\n",
       "      <td>5.2</td>\n",
       "      <td>18.4</td>\n",
       "      <td>-3.9</td>\n",
       "    </tr>\n",
       "    <tr>\n",
       "      <th>West South Central</th>\n",
       "      <td>18.1</td>\n",
       "      <td>17.1</td>\n",
       "      <td>18.1</td>\n",
       "      <td>16.9</td>\n",
       "      <td>9.0</td>\n",
       "      <td>3.8</td>\n",
       "      <td>4.5</td>\n",
       "      <td>4.3</td>\n",
       "      <td>0.3</td>\n",
       "    </tr>\n",
       "    <tr>\n",
       "      <th>\\textbf{United States}</th>\n",
       "      <td>17.5</td>\n",
       "      <td>17.4</td>\n",
       "      <td>17.8</td>\n",
       "      <td>18.6</td>\n",
       "      <td>11.2</td>\n",
       "      <td>5.2</td>\n",
       "      <td>5.7</td>\n",
       "      <td>9.2</td>\n",
       "      <td>-2.5</td>\n",
       "    </tr>\n",
       "    <tr>\n",
       "      <th>New England</th>\n",
       "      <td>15.4</td>\n",
       "      <td>15.6</td>\n",
       "      <td>18.3</td>\n",
       "      <td>18.7</td>\n",
       "      <td>12.9</td>\n",
       "      <td>5.1</td>\n",
       "      <td>4.7</td>\n",
       "      <td>10.3</td>\n",
       "      <td>-2.2</td>\n",
       "    </tr>\n",
       "    <tr>\n",
       "      <th>Middle Atlantic</th>\n",
       "      <td>14.0</td>\n",
       "      <td>14.2</td>\n",
       "      <td>14.3</td>\n",
       "      <td>15.6</td>\n",
       "      <td>11.1</td>\n",
       "      <td>4.5</td>\n",
       "      <td>5.3</td>\n",
       "      <td>11.3</td>\n",
       "      <td>-2.3</td>\n",
       "    </tr>\n",
       "    <tr>\n",
       "      <th>East North Central</th>\n",
       "      <td>13.9</td>\n",
       "      <td>14.0</td>\n",
       "      <td>14.7</td>\n",
       "      <td>15.2</td>\n",
       "      <td>10.6</td>\n",
       "      <td>5.9</td>\n",
       "      <td>5.7</td>\n",
       "      <td>4.3</td>\n",
       "      <td>-2.4</td>\n",
       "    </tr>\n",
       "    <tr>\n",
       "      <th>West North Central</th>\n",
       "      <td>13.3</td>\n",
       "      <td>13.5</td>\n",
       "      <td>13.9</td>\n",
       "      <td>14.9</td>\n",
       "      <td>10.0</td>\n",
       "      <td>5.1</td>\n",
       "      <td>5.1</td>\n",
       "      <td>5.4</td>\n",
       "      <td>-1.1</td>\n",
       "    </tr>\n",
       "  </tbody>\n",
       "</table>\n",
       "</div>"
      ],
      "text/plain": [
       "                        Nov `21  Oct `21  Sep `21  Aug `21  Nov `20  Nov `19  \\\n",
       "Mountain                   22.8     23.3     23.9     25.7     13.9      6.7   \n",
       "South Atlantic             20.4     19.5     19.9     20.7     11.6      5.5   \n",
       "East South Central         19.8     18.9     17.6     18.8     11.7      4.6   \n",
       "Pacific                    18.9     20.0     19.7     21.3     12.1      5.1   \n",
       "West South Central         18.1     17.1     18.1     16.9      9.0      3.8   \n",
       "\\textbf{United States}     17.5     17.4     17.8     18.6     11.2      5.2   \n",
       "New England                15.4     15.6     18.3     18.7     12.9      5.1   \n",
       "Middle Atlantic            14.0     14.2     14.3     15.6     11.1      4.5   \n",
       "East North Central         13.9     14.0     14.7     15.2     10.6      5.9   \n",
       "West North Central         13.3     13.5     13.9     14.9     10.0      5.1   \n",
       "\n",
       "                        Nov `18  `03--`05 Average  `09--`12 Average  \n",
       "Mountain                    7.8              11.1              -4.2  \n",
       "South Atlantic              6.1              11.3              -3.7  \n",
       "East South Central          6.5               5.1              -1.6  \n",
       "Pacific                     5.2              18.4              -3.9  \n",
       "West South Central          4.5               4.3               0.3  \n",
       "\\textbf{United States}      5.7               9.2              -2.5  \n",
       "New England                 4.7              10.3              -2.2  \n",
       "Middle Atlantic             5.3              11.3              -2.3  \n",
       "East North Central          5.7               4.3              -2.4  \n",
       "West North Central          5.1               5.4              -1.1  "
      ]
     },
     "execution_count": 5,
     "metadata": {},
     "output_type": "execute_result"
    }
   ],
   "source": [
    "t = pd.DataFrame()\n",
    "for i in [-1, -2, -3, -4, -13, -25, -37]:\n",
    "    t[dtxt(data.index[i])['mon6']] = data.iloc[i]\n",
    "    \n",
    "t['`03--`05 Average'] = data.loc['2003':'2005'].mean()\n",
    "t['`09--`12 Average'] = data.loc['2009':'2012'].mean()\n",
    "\n",
    "final = (t.rename({'United States': '\\\\textbf{United States}'})\n",
    "          .sort_values(dtxt(data.index[-1])['mon6'], ascending=False)\n",
    "          .round(1))\n",
    "\n",
    "final.to_csv(data_dir / 'hpi.tex', sep='&', line_terminator='\\\\\\ ', quotechar=' ')\n",
    "final"
   ]
  },
  {
   "cell_type": "code",
   "execution_count": null,
   "metadata": {},
   "outputs": [],
   "source": []
  },
  {
   "cell_type": "code",
   "execution_count": null,
   "metadata": {},
   "outputs": [],
   "source": []
  },
  {
   "cell_type": "markdown",
   "metadata": {},
   "source": [
    "### Ratio of price to rent"
   ]
  },
  {
   "cell_type": "code",
   "execution_count": 6,
   "metadata": {
    "ExecuteTime": {
     "end_time": "2022-01-31T23:47:30.288681Z",
     "start_time": "2022-01-31T23:47:29.732978Z"
    }
   },
   "outputs": [
    {
     "name": "stdout",
     "output_type": "stream",
     "text": [
      "As of November 2021, housing prices are 44.4 percent above the rental equivalent (see {\\color{red}\\textbf{---}}).\n"
     ]
    }
   ],
   "source": [
    "hpi = (dr.set_index(pd.to_datetime(dr[['year', 'month', 'day']]))\n",
    "         .query('place_name == \"United States\"').index_sa)\n",
    "\n",
    "rent = fred_df('CUUR0000SEHA')['VALUE']\n",
    "\n",
    "ratio = (hpi / rent).dropna()\n",
    "ratio = ratio / ratio.iloc[0]\n",
    "ratio.name = 'VALUE'\n",
    "\n",
    "ratio.to_csv(data_dir / 'hpi_rent_ratio.csv', index_label='date', header=True)\n",
    "\n",
    "ltdate = dtxt(ratio.index[-1])['mon1']\n",
    "ltval = (ratio.iloc[-1] - 1) * 100\n",
    "text = (f'As of {ltdate}, housing prices are {ltval:.1f} percent '+\n",
    "        'above the rental equivalent (see {\\color{red}\\\\textbf{---}}).')\n",
    "write_txt(text_dir / 'hp_rent.txt', text)\n",
    "print(text)"
   ]
  },
  {
   "cell_type": "code",
   "execution_count": null,
   "metadata": {},
   "outputs": [],
   "source": []
  },
  {
   "cell_type": "code",
   "execution_count": null,
   "metadata": {},
   "outputs": [],
   "source": []
  },
  {
   "cell_type": "markdown",
   "metadata": {},
   "source": [
    "### Owner's equity share in real estate"
   ]
  },
  {
   "cell_type": "code",
   "execution_count": 7,
   "metadata": {
    "ExecuteTime": {
     "end_time": "2022-01-31T23:47:30.937534Z",
     "start_time": "2022-01-31T23:47:30.291061Z"
    }
   },
   "outputs": [
    {
     "name": "stdout",
     "output_type": "stream",
     "text": [
      "As of 2021 Q3, the Federal Reserve \\href{fedlink}{report} owners' equity is 68.8 percent of residential real estate (see {\\color{blue!80!violet}\\textbf{---}}). Over the past three years, the owners' equity share increased by a total of 4.7 percentage points. Over the past year, the share increased by a total of 2.4 percentage points. The current share is slightly above the 1989 average of 67.9 percent.\n"
     ]
    }
   ],
   "source": [
    "data = fred_df('HOEREPHRE')['VALUE'].astype('float')\n",
    "data.to_csv(data_dir / 'homeeq.csv', index_label='date', header=True)\n",
    "\n",
    "datelt = dtxt(data.index[-1])['qtr1']\n",
    "latest = data.iloc[-1]\n",
    "ch3, ch1 = [value_text(data.diff(i).iloc[-1], style='increase_by', \n",
    "                   adj='total', ptype='pp') for i in [12, 4]]\n",
    "avg89 = data.loc['1989'].mean()\n",
    "compare = compare_text(latest, avg89, [0.05, 1.0, 5.0])\n",
    "node_color = 'blue!80!violet'\n",
    "node = end_node(data, node_color, percent=True)\n",
    "write_txt(text_dir / 'homeeq_node.txt', node)\n",
    "\n",
    "fedlink = 'https://www.federalreserve.gov/releases/z1/20191212/html/b101.htm'\n",
    "text = (f'As of {datelt}, the Federal Reserve \\href{{fedlink}}{{report}} '+\n",
    "        f\"owners\\' equity is {latest:.1f} percent of residential \"+\n",
    "        f'real estate (see {{\\color{{{node_color}}}\\\\textbf{{---}}}}). '+\n",
    "        f\"Over the past three years, the owners\\' equity share {ch3}. \"+\n",
    "        f'Over the past year, the share {ch1}. The current share is {compare} '+\n",
    "        f'the 1989 average of {avg89:.1f} percent.')\n",
    "write_txt(text_dir / 'homeeq.txt', text)\n",
    "print(text)"
   ]
  },
  {
   "cell_type": "code",
   "execution_count": null,
   "metadata": {},
   "outputs": [],
   "source": []
  },
  {
   "cell_type": "code",
   "execution_count": null,
   "metadata": {},
   "outputs": [],
   "source": []
  },
  {
   "cell_type": "markdown",
   "metadata": {},
   "source": [
    "### Residential construction"
   ]
  },
  {
   "cell_type": "code",
   "execution_count": 8,
   "metadata": {
    "ExecuteTime": {
     "end_time": "2022-01-31T23:47:32.213820Z",
     "start_time": "2022-01-31T23:47:30.940621Z"
    }
   },
   "outputs": [],
   "source": [
    "key = census_key\n",
    "base = 'https://api.census.gov/data/timeseries/eits/resconst/'\n",
    "param = 'cell_value,time_slot_id,category_code,data_type_code'\n",
    "t = '&time=from+1989'\n",
    "oth = '&for=us&seasonally_adj=yes'\n",
    "\n",
    "url = f'{base}?get={param}&key={key}{t}{oth}'\n",
    "\n",
    "r = requests.get(url).json()"
   ]
  },
  {
   "cell_type": "code",
   "execution_count": 9,
   "metadata": {
    "ExecuteTime": {
     "end_time": "2022-01-31T23:47:32.469872Z",
     "start_time": "2022-01-31T23:47:32.214962Z"
    }
   },
   "outputs": [],
   "source": [
    "for t in ['total', 'single', 'multi']:\n",
    "    df = pd.DataFrame()\n",
    "    for series in ['APERMITS', 'ASTARTS', 'ACOMPLETIONS']:\n",
    "        df[series] = pd.Series(\n",
    "            {pd.to_datetime(i[4]): \n",
    "             float(i[0]) for i in r[1:] if i[2] == series and i[3] == t.upper()}\n",
    "        ).sort_index()\n",
    "    df.to_csv(data_dir / f'permits_{t}.csv', index_label='date')"
   ]
  },
  {
   "cell_type": "code",
   "execution_count": 10,
   "metadata": {
    "ExecuteTime": {
     "end_time": "2022-01-31T23:47:32.483479Z",
     "start_time": "2022-01-31T23:47:32.470846Z"
    }
   },
   "outputs": [
    {
     "name": "stdout",
     "output_type": "stream",
     "text": [
      "In December 2021, a seasonally-adjusted annual rate of 1,885,000 new residential housing units were authorized by building permits, the highest level since May 2006 (see {\\color{blue!70!green}\\textbf{---}}). Permits issued increased by 168,000 (9.8 percent) over the previous month, increased by 127,000 (7.2 percent) over last December, and increased by 633,000 (50.6 percent) total over the past five years.\n",
      "In December 2021, a seasonally-adjusted annual rate of 1,295,000 new residential units were completed (see {\\color{blue!30!cyan}\\textbf{---}}), compared to 1,418,000 in November and 1,255,000 in December 2020.\n"
     ]
    }
   ],
   "source": [
    "df = pd.read_csv(data_dir / 'permits_total.csv', \n",
    "                 parse_dates=True, index_col='date')\n",
    "s = series_info(df['APERMITS'])\n",
    "s['val_5yr_ago'] = df['APERMITS'].iloc[-61]\n",
    "\n",
    "if s['days_since_match'] > 100:\n",
    "    hlt = f\", {s['last_matched']}\"\n",
    "else:\n",
    "    hlt = ''\n",
    "month = s['date_latest'].strftime('%B')\n",
    "\n",
    "d = {}\n",
    "for i in ['val_prev', 'val_year_ago', 'val_5yr_ago']:\n",
    "    mo_ch = s[\"val_latest\"] - s[i]\n",
    "    mo_pch = (s[\"val_latest\"] / s[i] - 1) * 100\n",
    "    if mo_ch >= 0.1:\n",
    "        txt = f'increased by {abs(mo_ch)*1000:,.0f} ({mo_pch:.1f} percent)'\n",
    "    elif mo_ch <= -0.1:\n",
    "        txt = f'decreased by {abs(mo_ch)*1000:,.0f} ({mo_pch:.1f} percent)'\n",
    "    else:\n",
    "        txt = 'were virtually unchanged' \n",
    "    d[i] = txt\n",
    "\n",
    "date = s[\"date_latest_ft\"]    \n",
    "    \n",
    "text = (f'In {date}, a seasonally-adjusted annual rate of '+\n",
    "        f'{s[\"val_latest\"]*1000:,.0f} new '+\n",
    "        f'residential housing units were authorized by building permits{hlt} '+\n",
    "        '(see {\\color{blue!70!green}\\\\textbf{---}}). '+\n",
    "        f'Permits issued {d[\"val_prev\"]} over the previous month, '+\n",
    "        f'{d[\"val_year_ago\"]} over last {month}, and '+\n",
    "        f'{d[\"val_5yr_ago\"]} total over the past five years.')\n",
    "write_txt(text_dir / 'permits.txt', text)\n",
    "print(text)\n",
    "\n",
    "prdate = dtxt(df.index[-2])['mon3']\n",
    "pryrdate = dtxt(df.index[-13])['mon1']\n",
    "ltval = df['ACOMPLETIONS'].iloc[-1]\n",
    "prval = df['ACOMPLETIONS'].iloc[-2]\n",
    "pryrval = df['ACOMPLETIONS'].iloc[-3]\n",
    "text = (f'In {date}, a seasonally-adjusted annual rate of '+\n",
    "        f'{ltval*1000:,.0f} new residential units were completed '+\n",
    "        '(see {\\color{blue!30!cyan}\\\\textbf{---}}), compared to '+\n",
    "        f'{prval*1000:,.0f} in {prdate} and {pryrval*1000:,.0f} in {pryrdate}.')\n",
    "write_txt(text_dir / 'completions.txt', text)\n",
    "print(text)"
   ]
  },
  {
   "cell_type": "code",
   "execution_count": 11,
   "metadata": {
    "ExecuteTime": {
     "end_time": "2022-01-31T23:47:32.492073Z",
     "start_time": "2022-01-31T23:47:32.484697Z"
    }
   },
   "outputs": [
    {
     "name": "stdout",
     "output_type": "stream",
     "text": [
      "In December 2021, a seasonally-adjusted annual rate of 1,128,000 new single-family residential units were permitted and 990,000 were completed.\n",
      "In December 2021, a seasonally-adjusted annual rate of 690,000 new multi-family residential units were permitted and 299,000 were completed.\n"
     ]
    }
   ],
   "source": [
    "for t in ['single', 'multi']:\n",
    "    df = pd.read_csv(data_dir / f'permits_{t}.csv', \n",
    "                     parse_dates=True, index_col='date')\n",
    "    date = dtxt(df.index[-1])['mon1']\n",
    "    pval = df['APERMITS'].iloc[-1]\n",
    "    cval = df['ACOMPLETIONS'].iloc[-1]\n",
    "    text = (f'In {date}, a seasonally-adjusted annual rate of '+\n",
    "            f'{pval*1000:,.0f} new {t}-family residential units were permitted '+\n",
    "            f'and {cval*1000:,.0f} were completed.')\n",
    "    write_txt(text_dir / f'permits_{t}.txt', text)\n",
    "    print(text)"
   ]
  },
  {
   "cell_type": "code",
   "execution_count": null,
   "metadata": {},
   "outputs": [],
   "source": []
  },
  {
   "cell_type": "code",
   "execution_count": null,
   "metadata": {},
   "outputs": [],
   "source": []
  },
  {
   "cell_type": "markdown",
   "metadata": {},
   "source": [
    "### Household formation estimates"
   ]
  },
  {
   "cell_type": "code",
   "execution_count": 4,
   "metadata": {
    "ExecuteTime": {
     "end_time": "2022-02-02T15:55:27.385497Z",
     "start_time": "2022-02-02T15:55:17.658185Z"
    }
   },
   "outputs": [],
   "source": [
    "files = ['histtab8.xlsx', 'hist_tab_8a_v2020.xlsx']\n",
    "url = 'https://www.census.gov/housing/hvs/data/'\n",
    "\n",
    "results = {}\n",
    "\n",
    "for file in files:\n",
    "    data = pd.read_excel(url + file).iloc[4:, :5]\n",
    "    data.columns = ['category', 'Q1', 'Q2', 'Q3', 'Q4']\n",
    "    years = []\n",
    "    for h in data[data['Q1'] == '1st Qtr'].index - 1:\n",
    "        year_raw = data.loc[h, 'Q1']\n",
    "        if type(year_raw) == int:\n",
    "            year = year_raw\n",
    "        elif type(year_raw) == str:\n",
    "            year = int(year_raw[:4])\n",
    "        elif type(year) == float:\n",
    "            year = year + 1\n",
    "        years.append(year)\n",
    "    data.loc[data['Q1'] == '1st Qtr', 'category'] = years\n",
    "    data = data.dropna(subset=['category'])\n",
    "    \n",
    "    df = pd.DataFrame()\n",
    "    levels = pd.DataFrame()\n",
    "    for series in ['Owner', 'Renter']:\n",
    "        srs = data.loc[data['category'].astype('str').str.contains(series)]\n",
    "        srs.index = years\n",
    "        srs = srs[['Q1', 'Q2', 'Q3', 'Q4']].unstack().swaplevel()\n",
    "        srs.index = pd.to_datetime([f'{i[0]}-{i[1]}' for i in srs.index])\n",
    "        srs = srs.sort_index()\n",
    "        df[series] = srs\n",
    "        levels[series] = srs\n",
    "    df = df.dropna()\n",
    "    df['Total'] = df.sum(axis=1)\n",
    "    \n",
    "    # Convert to share of total change\n",
    "    for s in ['Owner', 'Renter']:  \n",
    "        df[s] = ((df[s] - df[s].shift(4))\n",
    "                  /df['Total'].shift(4)) * 100\n",
    "        \n",
    "    df = (df.reset_index()\n",
    "            .drop_duplicates(subset='index', keep='last')\n",
    "            .set_index('index'))\n",
    "    \n",
    "    results[file] = df[['Owner', 'Renter']].dropna().rolling(4).mean().loc['1989':]"
   ]
  },
  {
   "cell_type": "code",
   "execution_count": 5,
   "metadata": {
    "ExecuteTime": {
     "end_time": "2022-02-02T15:55:33.254063Z",
     "start_time": "2022-02-02T15:55:33.223053Z"
    }
   },
   "outputs": [],
   "source": [
    "final = results['histtab8.xlsx'].loc[:'2001'].append(results['hist_tab_8a_v2020.xlsx'].loc['2002':])\n",
    "final['pop'] = (nipa_df(retrieve_table('T70100')['Data'], ['B230RC'])\n",
    "                .pct_change(4).dropna() * 100)\n",
    "\n",
    "final.to_csv(data_dir / 'hhform.csv', index_label='date')\n",
    "\n",
    "levels = levels.dropna()\n",
    "ldate = f'{levels.index[-1].year} Q{levels.index[-1].quarter}'\n",
    "pdate = f'{levels.index[-2].year} Q{levels.index[-2].quarter}'\n",
    "tot = levels.iloc[-1].sum() / 1000\n",
    "rtot = levels['Renter'].iloc[-1] / 1000\n",
    "rsh = rtot / tot * 100\n",
    "otot = levels['Owner'].iloc[-1] / 1000\n",
    "osh = otot / tot * 100\n",
    "\n",
    "ch = levels.diff(4).rolling(4).mean().iloc[-1]\n",
    "incdec = ['increase' if ch.sum() >= 0 else 'decrease']\n",
    "chtot = [f'{abs(ch.sum()) / 1000:.1f} million' if ch.sum() > 1000 else f'{abs(ch.sum()):.0f} thousand'][0]\n",
    "\n",
    "t = {name: [f'{abs(s) / 1000:.1f} million {[\"net new\" if s >= 0 else \"net fewer\"][0]}' \n",
    "            if s > 1000 \n",
    "            else f'{abs(s):.0f},000 {[\"net new\" if s >= 0 else \"net fewer\"][0]}'][0]\n",
    "     for name, s in [('tot', ch.sum()), ('rent', ch.Renter), ('own', ch.Owner)]}\n",
    "\n",
    "text = (f'As of {ldate}, there are {tot:.1f} million total occupied '+\n",
    "        f'housing units in the US, of which {rtot:.1f} million ({rsh:.1f} percent) '+\n",
    "        f'are rented, and {otot:.1f} million ({osh:.1f} percent) are '+\n",
    "        'owner-occupied. There was an average annual net total '+\n",
    "        f'{incdec[0]} of {chtot} housing units '+\n",
    "        f'over the year ending {ldate}, the result of {t[\"rent\"]} '+\n",
    "        f'renter households and {t[\"own\"]} '+\n",
    "        f'owner-occupied households. ')"
   ]
  },
  {
   "cell_type": "code",
   "execution_count": 6,
   "metadata": {
    "ExecuteTime": {
     "end_time": "2022-02-02T15:55:35.209468Z",
     "start_time": "2022-02-02T15:55:35.198346Z"
    }
   },
   "outputs": [
    {
     "name": "stdout",
     "output_type": "stream",
     "text": [
      "As of 2021 Q4, there are 127.4 million total occupied housing units in the US, of which 44.0 million (34.5 percent) are rented, and 83.5 million (65.5 percent) are owner-occupied. There was an average annual net total increase of 765 thousand housing units over the year ending 2021 Q4, the result of 1.7 million net new renter households and 963,000 net fewer owner-occupied households. Over the year ending 2021 Q4, the total number of occupied housing units increased by 0.6 percent, compared to an increase of 0.7 percent in 2021 Q3. Owner-occupied units subtracted 0.8 percent from total household formation on average over the year (see\\cbox{yellow!60!orange}), compared to a contribution of 1.4 percent from rented units (see\\cbox{magenta!90!blue}).\n"
     ]
    }
   ],
   "source": [
    "totgr = final[['Owner', 'Renter']].sum(axis=1).iloc[-1]\n",
    "ogr = final['Owner'].iloc[-1]\n",
    "rgr = final['Renter'].iloc[-1]\n",
    "\n",
    "final['Total'] = final[['Owner', 'Renter']].sum(axis=1)\n",
    "\n",
    "t2 = {name: [f\"{['increased' if s >= 0 else 'decreased'][0]} by {abs(s):.1f} percent\"][0] \n",
    "      for name, s in final.iloc[-1].iteritems()}\n",
    "\n",
    "t3 = {name: [f\"{['an increase' if s >= 0 else 'a decreased'][0]} of {abs(s):.1f} percent\"][0] \n",
    "      for name, s in final.iloc[-2].iteritems()}\n",
    "\n",
    "t4 = {name: [f\"{['a contribution' if s >= 0 else 'a reduction'][0]} of {abs(s):.1f} percent\"][0] \n",
    "      for name, s in final.iloc[-1].iteritems()}\n",
    "\n",
    "t5 = {name: [f\"{[f'contributed {abs(s):.1f} percent to' if s >= 0 else f'subtracted {abs(s):.1f} percent from'][0]}\"][0] \n",
    "      for name, s in final.iloc[-1].iteritems()}\n",
    "\n",
    "text2 = (f'Over the year ending {ldate}, the total number of occupied housing units '+\n",
    "         f'{t2[\"Total\"]}, compared to {t3[\"Total\"]} in {pdate}. Owner-occupied '+\n",
    "         f'units {t5[\"Owner\"]} total household formation on average over the year '+\n",
    "         '(see\\cbox{yellow!60!orange}), compared to '+\n",
    "         f'{t4[\"Renter\"]} from rented units (see\\cbox{{magenta!90!blue}}).')\n",
    "txt = text + text2\n",
    "write_txt(text_dir / 'hhform1.txt', txt)\n",
    "print(txt)"
   ]
  },
  {
   "cell_type": "code",
   "execution_count": null,
   "metadata": {},
   "outputs": [],
   "source": []
  },
  {
   "cell_type": "code",
   "execution_count": null,
   "metadata": {},
   "outputs": [],
   "source": []
  },
  {
   "cell_type": "markdown",
   "metadata": {},
   "source": [
    "### New Home Sales"
   ]
  },
  {
   "cell_type": "code",
   "execution_count": 15,
   "metadata": {
    "ExecuteTime": {
     "end_time": "2022-01-31T23:47:42.810609Z",
     "start_time": "2022-01-31T23:47:42.260719Z"
    }
   },
   "outputs": [
    {
     "name": "stdout",
     "output_type": "stream",
     "text": [
      "In December 2021, the Census Bureau \\href{https://www.census.gov/construction/nrs/pdf/newressales.pdf}{report} seasonally-adjusted single family new homes sales totaling 811,000 (see {\\color{green!80!blue}\\textbf{---}}). Over the past year, new homes sales decreased 0.1 percent. Pre-COVID, in February 2020, the annualized rate of single family new home sales was 730,000. Since February 2020, new home sales have increased 11.1 percent.\n"
     ]
    }
   ],
   "source": [
    "data = fred_df('HSN1F')['VALUE']\n",
    "data.to_csv(data_dir / 'nhs.csv', index_label='date', header=True)\n",
    "\n",
    "node_color = 'green!80!blue'\n",
    "\n",
    "datelt = dtxt(data.index[-1])['mon1']\n",
    "latest = data.iloc[-1] * 1000\n",
    "ch1yr = data.pct_change(12).iloc[-1]\n",
    "\n",
    "txt = value_text(ch1yr)\n",
    "pc = data.loc['2020-02-01']\n",
    "pcch = ((data.iloc[-1] / pc) - 1) * 100\n",
    "pcvt = value_text(pcch)\n",
    "text = (f'In {datelt}, the Census Bureau '+\n",
    "        '\\href{https://www.census.gov/construction/nrs/pdf/newressales.pdf}'+\n",
    "        '{report} seasonally-adjusted single family new homes sales totaling '+\n",
    "        f'{latest:,.0f} (see {{\\color{{{node_color}}}\\\\textbf{{---}}}}). '+\n",
    "        f'Over the past year, new homes sales {txt}. Pre-COVID, in '+\n",
    "        'February 2020, the annualized rate of '+\n",
    "        f'single family new home sales was {pc * 1000:,.0f}. '+\n",
    "        f'Since February 2020, new home sales have {pcvt}.')\n",
    "write_txt(text_dir / 'nhs.txt', text)\n",
    "print(text)\n",
    "\n",
    "node = end_node(data, node_color, date='m', digits=0, full_year=True)\n",
    "write_txt(text_dir / 'nhs_node.txt', node)"
   ]
  },
  {
   "cell_type": "code",
   "execution_count": null,
   "metadata": {},
   "outputs": [],
   "source": []
  },
  {
   "cell_type": "code",
   "execution_count": null,
   "metadata": {},
   "outputs": [],
   "source": []
  }
 ],
 "metadata": {
  "kernelspec": {
   "display_name": "Python 3",
   "language": "python",
   "name": "python3"
  },
  "language_info": {
   "codemirror_mode": {
    "name": "ipython",
    "version": 3
   },
   "file_extension": ".py",
   "mimetype": "text/x-python",
   "name": "python",
   "nbconvert_exporter": "python",
   "pygments_lexer": "ipython3",
   "version": "3.8.8"
  }
 },
 "nbformat": 4,
 "nbformat_minor": 4
}
