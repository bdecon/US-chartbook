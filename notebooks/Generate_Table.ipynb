{
 "cells": [
  {
   "cell_type": "code",
   "execution_count": 1,
   "metadata": {
    "ExecuteTime": {
     "end_time": "2023-10-11T20:25:27.806988Z",
     "start_time": "2023-10-11T20:25:26.820702Z"
    }
   },
   "outputs": [],
   "source": [
    "import sys\n",
    "sys.path.append('../src')\n",
    "\n",
    "import uschartbook.config\n",
    "\n",
    "from uschartbook.config import *\n",
    "from uschartbook.utils import *"
   ]
  },
  {
   "cell_type": "markdown",
   "metadata": {},
   "source": [
    "### GDP growth contributions table"
   ]
  },
  {
   "cell_type": "code",
   "execution_count": 2,
   "metadata": {
    "ExecuteTime": {
     "end_time": "2023-10-11T20:25:27.825027Z",
     "start_time": "2023-10-11T20:25:27.808637Z"
    },
    "code_folding": []
   },
   "outputs": [],
   "source": [
    "# Settings for GDP table\n",
    "slist = ['A191RL', 'DPCERY', 'DDURRY', 'DNDGRY', 'DSERRY', 'A006RY',\n",
    "         'A008RY', 'A011RY', 'A014RY', 'A822RY', 'A823RY', 'A829RY', \n",
    "         'A019RY', 'A020RY', 'A021RY']\n",
    "\n",
    "n = {'A191RL': '\\cbox{red!95!black} & \\\\textbf{Gross Domestic Product}',\n",
    "     'DPCERY': '\\cbox{yellow!80!orange} & \\hspace{2mm} Consumer Spending',\n",
    "     'DDURRY': '& \\hspace{4mm} Durable Goods',\n",
    "     'DNDGRY': '& \\hspace{4mm} Non-Durable Goods ',\n",
    "     'DSERRY': '& \\hspace{4mm} Services ',\n",
    "     'A006RY': '\\cbox{blue!70!black} & \\hspace{2mm} Gross Investment',\n",
    "     'A011RY': '& \\hspace{4mm} Residential ',\n",
    "     'A008RY': '& \\hspace{4mm} Non-Residential ',\n",
    "     'A014RY': '& \\hspace{4mm} Change in Inventories ',\n",
    "     'A019RY': '\\cbox{green!60!black} & \\hspace{2mm} Net Exports ',\n",
    "     'A020RY': '& \\hspace{4mm} Exports ',\n",
    "     'A021RY': '& \\hspace{4mm} Imports ',\n",
    "     'A822RY': '\\cbox{cyan!50!white} & \\hspace{2mm} Government ',\n",
    "     'A823RY': '& \\hspace{4mm} Federal ',\n",
    "     'A829RY': '& \\hspace{4mm} State and Local '}\n",
    "\n",
    "\n",
    "va = pd.read_csv(data_dir / 'gdpvafull.csv', parse_dates=['date']).set_index('date')\n",
    "\n",
    "sl2 = ['GoodsTTU', 'Manufacturing', 'Construction', 'Retail trade', 'FIRE', \n",
    "       'Oth_Serv', 'Educational services, health care, and social assistance',\n",
    "       'Professional and business services', 'Information', 'Government']\n",
    "\n",
    "n2 = {'GoodsTTU': '\\cbox{purple!70!blue} & \\hspace{2mm} Goods and TTU ',\n",
    "      'Manufacturing': '& \\hspace{4mm} Manufacturing ',\n",
    "      'Construction': '& \\hspace{4mm} Construction ',\n",
    "      'Retail trade': '& \\hspace{4mm} Retail Trade ',\n",
    "      'FIRE': '\\cbox{red!90!white} & \\hspace{2mm} FIRE+ ',\n",
    "      'Oth_Serv': '\\cbox{blue!90!white} & \\hspace{2mm} Other Services ',\n",
    "      'Educational services, health care, and social assistance': '& \\hspace{4mm} Education \\& Healthcare ',\n",
    "      'Professional and business services': '& \\hspace{4mm} Professional \\& Business',\n",
    "      'Information': '& \\hspace{4mm} Information ',\n",
    "      'Government': '\\cbox{orange!80!white} & \\hspace{2mm} Government '}\n",
    "\n",
    "jb = pd.read_csv(data_dir / 'gdpjobs.csv', parse_dates=['date']).set_index('date') \n",
    "\n",
    "n3 = {'pop_contr': '\\cbox{lime!90!green} & \\hspace{2mm} Population ',\n",
    "      'epop_contr': '\\cbox{green!30!teal!80!black} & \\hspace{2mm} Employment Rate ',\n",
    "      'hours_contr': '\\cbox{blue} & \\hspace{2mm} Average Hours',\n",
    "      'prod': '\\cbox{cyan!55!white} & \\hspace{2mm} Productivity '}\n",
    "\n",
    "sl3 = ['pop_contr', 'epop_contr', 'hours_contr', 'prod']\n",
    "\n",
    "gd = pd.read_csv(data_dir / 'gdi.csv', parse_dates=['date']).set_index('date')\n",
    "\n",
    "n4 = {'A261RC': '& \\\\textbf{Gross Domestic Income} ',\n",
    "      'A4002C': '\\cbox{magenta!90!blue} & \\hspace{2mm} Labor ',\n",
    "      'W271RC': '\\cbox{yellow!60!orange} & \\hspace{2mm} Profit ',\n",
    "      'A262RC': '\\cbox{teal!60!white} & \\hspace{2mm} Depreciation ',\n",
    "      'indirect': '\\cbox{violet} & \\hspace{2mm} Indirect Taxes '}\n",
    "\n",
    "sl4 = ['A261RC', 'A4002C', 'W271RC', 'A262RC', 'indirect']"
   ]
  },
  {
   "cell_type": "code",
   "execution_count": 3,
   "metadata": {
    "ExecuteTime": {
     "end_time": "2023-10-11T20:25:28.071447Z",
     "start_time": "2023-10-11T20:25:27.826314Z"
    }
   },
   "outputs": [],
   "source": [
    "df = nipa_df(retrieve_table('T10502')['Data'], slist).sort_index()\n",
    "#nipa_series_codes(retrieve_table('T10502'))"
   ]
  },
  {
   "cell_type": "code",
   "execution_count": 4,
   "metadata": {
    "ExecuteTime": {
     "end_time": "2023-10-11T20:25:28.140975Z",
     "start_time": "2023-10-11T20:25:28.073377Z"
    },
    "code_folding": []
   },
   "outputs": [
    {
     "name": "stdout",
     "output_type": "stream",
     "text": [
      "& & 2023 Q2 & 2023 Q1 & 2022 Q4 & 2022 Q3 & 2022 Q2 & & 3-year & 10-year & 30-year \\\\\n",
      "\\cbox{red!95!black} & \\textbf{Gross Domestic Product} & 2.1 & 2.2 & 2.6 & 2.7 & -0.6 & & 3.1 &  2.5 & 2.6 \\\\\n",
      "\\cbox{yellow!80!orange} & \\hspace{2mm} Consumer Spending & 0.55 & 2.54 & 0.79 & 1.05 & 1.32 & & 2.48 &  1.85 & 1.87 \\\\\n",
      "& \\hspace{4mm} Durable Goods & -0.03 & 1.07 & -0.08 & 0.08 & -0.08 & & 0.73 &  0.48 & 0.48 \\\\\n",
      "& \\hspace{4mm} Non-Durable Goods  & 0.14 & 0.07 & 0.07 & -0.26 & -0.01 & & 0.50 &  0.45 & 0.38 \\\\\n",
      "& \\hspace{4mm} Services  & 0.44 & 1.40 & 0.80 & 1.23 & 1.41 & & 1.26 &  0.92 & 1.01 \\\\\n",
      "\\cbox{blue!70!black} & \\hspace{2mm} Gross Investment & 0.90 & -1.69 & 0.62 & -1.45 & -2.10 & & 0.77 &  0.69 & 0.68 \\\\\n",
      "& \\hspace{4mm} Non-Residential  & 0.98 & 0.76 & 0.24 & 0.62 & 0.68 & & 0.55 &  0.55 & 0.60 \\\\\n",
      "& \\hspace{4mm} Residential  & -0.09 & -0.22 & -1.23 & -1.41 & -0.73 & & -0.10 &  0.07 & 0.04 \\\\\n",
      "& \\hspace{4mm} Change in Inventories  & 0.00 & -2.22 & 1.61 & -0.66 & -2.05 & & 0.32 &  0.07 & 0.05 \\\\\n",
      "\\cbox{cyan!50!white} & \\hspace{2mm} Government  & 0.57 & 0.82 & 0.90 & 0.49 & -0.34 & & 0.17 &  0.25 & 0.25 \\\\\n",
      "& \\hspace{4mm} Federal  & 0.07 & 0.33 & 0.59 & 0.07 & -0.26 & & 0.12 &  0.08 & 0.09 \\\\\n",
      "& \\hspace{4mm} State and Local  & 0.50 & 0.49 & 0.31 & 0.41 & -0.08 & & 0.05 &  0.17 & 0.15 \\\\\n",
      "\\cbox{green!60!black} & \\hspace{2mm} Net Exports  & 0.04 & 0.58 & 0.26 & 2.58 & 0.56 & & -0.37 &  -0.26 & -0.20 \\\\\n",
      "& \\hspace{4mm} Exports  & -1.09 & 0.76 & -0.41 & 1.80 & 1.19 & & 0.24 &  0.21 & 0.44 \\\\\n",
      "& \\hspace{4mm} Imports  & 1.13 & -0.18 & 0.66 & 0.77 & -0.63 & & -0.62 &  -0.47 & -0.64 \\\\\n",
      "& & & & & & & & & & \\\\\n",
      "\\cbox{purple!70!blue} & \\hspace{2mm} Goods and TTU  & -- & 0.38 & 1.57 & 0.56 & -2.24 & & 0.24 &  0.65 & 0.84 \\\\\n",
      "& \\hspace{4mm} Manufacturing  & -- & -0.60 & 0.49 & 0.06 & -0.97 & & 0.11 &  0.21 & 0.36 \\\\\n",
      "& \\hspace{4mm} Construction  & -- & 0.05 & -0.14 & -0.77 & -0.84 & & -0.18 &  0.01 & -0.01 \\\\\n",
      "& \\hspace{4mm} Retail Trade  & -- & 0.57 & 0.46 & 0.39 & 0.08 & & 0.08 &  0.14 & 0.18 \\\\\n",
      "\\cbox{red!90!white} & \\hspace{2mm} FIRE+  & -- & 0.12 & -0.41 & 1.10 & 0.47 & & 0.85 &  0.73 & 0.77 \\\\\n",
      "\\cbox{blue!90!white} & \\hspace{2mm} Other Services  & -- & 1.19 & 1.18 & 1.51 & 1.21 & & 1.37 &  0.95 & 0.76 \\\\\n",
      "& \\hspace{4mm} Education \\& Healthcare  & -- & 0.61 & 0.40 & 0.45 & 0.23 & & 0.34 &  0.25 & 0.22 \\\\\n",
      "& \\hspace{4mm} Professional \\& Business & -- & 0.16 & 0.80 & 0.72 & 0.54 & & 0.82 &  0.57 & 0.43 \\\\\n",
      "& \\hspace{4mm} Information  & -- & 0.24 & 0.34 & 0.88 & 0.08 & & 0.48 &  0.41 & 0.29 \\\\\n",
      "\\cbox{orange!80!white} & \\hspace{2mm} Government  & -- & 0.31 & 0.24 & 0.08 & -0.03 & & 0.08 &  0.08 & 0.10 \\\\\n",
      "& & & & & & & & & & \\\\\n",
      "\\cbox{lime!90!green} & \\hspace{2mm} Population  & 0.34 & 0.32 & 0.44 & 0.44 & 0.31 & & 0.25 &  0.47 & 0.83 \\\\\n",
      "\\cbox{green!30!teal!80!black} & \\hspace{2mm} Employment Rate  & 0.16 & 1.91 & 0.21 & 0.83 & 1.32 & & 0.63 &  0.56 & 0.22 \\\\\n",
      "\\cbox{blue} & \\hspace{2mm} Average Hours & 0.12 & -0.08 & -0.25 & -0.30 & -0.14 & & -0.10 &  0.01 & 0.00 \\\\\n",
      "\\cbox{cyan!55!white} & \\hspace{2mm} Productivity  & 1.01 & -1.01 & 1.80 & 1.09 & -2.56 & & 1.66 &  1.02 & 1.48 \\\\\n",
      "& & & & & & & & & & \\\\\n",
      "& \\textbf{Gross Domestic Income}  & 0.7 & 0.5 & -3.0 & 2.7 & -0.0 & & 2.5 &  2.3 & 2.7 \\\\\n",
      "\\cbox{magenta!90!blue} & \\hspace{2mm} Labor  & 2.25 & 2.37 & -0.94 & 2.62 & -2.69 & & 0.91 &  1.29 & 1.29 \\\\\n",
      "\\cbox{yellow!60!orange} & \\hspace{2mm} Profit  & -1.77 & -2.42 & -2.21 & -0.97 & 2.02 & & 0.87 &  0.40 & 0.73 \\\\\n",
      "\\cbox{teal!60!white} & \\hspace{2mm} Depreciation  & 0.46 & 0.52 & 0.31 & 0.95 & 0.44 & & 0.49 &  0.47 & 0.45 \\\\\n",
      "\\cbox{violet} & \\hspace{2mm} Indirect Taxes  & -0.23 & 0.03 & -0.16 & 0.08 & 0.22 & & 0.24 &  0.19 & 0.18 \n"
     ]
    }
   ],
   "source": [
    "# GDP Table (please consider revising!!)\n",
    "f = data_dir / 'gdptable.tex'\n",
    "os.remove(f)\n",
    "\n",
    "date1 = {}\n",
    "date = {}\n",
    "data = {s: {} for s in list(df.keys())}\n",
    "\n",
    "blankrow = '& & & & & & & & & & \\\\\\\\'\n",
    "\n",
    "with open(f, 'a') as table:\n",
    "    \n",
    "    for s in list(df.keys()):\n",
    "        data[s]['name'] = n[s]\n",
    "\n",
    "    for i in range(1, 6):\n",
    "        dt = df['A191RL'].index[-i]\n",
    "        q = dt.quarter\n",
    "        y = dt.year\n",
    "        date1[i] = dt\n",
    "        date[i] = f'{y} Q{q}'\n",
    "        for s in list(df.keys()):\n",
    "            if s == 'A191RL':\n",
    "                data[s][i] = f'{df[s].iloc[-i]:.1f}'\n",
    "            else:\n",
    "                data[s][i] = f'{df[s].iloc[-i]:.2f}'\n",
    "\n",
    "    for ma in [13, 41, 121]:\n",
    "        for s in list(df.keys()):\n",
    "            if s == 'A191RL':\n",
    "                data[s][ma] = f'{df[s].iloc[-ma:].mean():.1f}'\n",
    "            else:\n",
    "                data[s][ma] = f'{df[s].iloc[-ma:].mean():.2f}'\n",
    "\n",
    "    daterow = (f'& & {date[1]} & {date[2]} & {date[3]} & {date[4]} & {date[5]}'\n",
    "                ' & & 3-year & 10-year & 30-year \\\\\\\\')\n",
    "    table.write(daterow + '\\n')\n",
    "    print(daterow)\n",
    "\n",
    "    for s in slist:\n",
    "        r = (f'{n[s]} & {data[s][1]} & {data[s][2]} & {data[s][3]} & '\n",
    "             f'{data[s][4]} & {data[s][5]} & & {data[s][13]} & '\n",
    "             f' {data[s][41]} & {data[s][121]} \\\\\\\\')\n",
    "\n",
    "        print(r)\n",
    "        table.write(r + '\\n')\n",
    "\n",
    "    print(blankrow)\n",
    "    table.write(blankrow + '\\n')\n",
    "\n",
    "    for s in list(va.keys()):\n",
    "        data[s] = {}\n",
    "        for i in range(1, 6):\n",
    "            if date1[i] in va.index:\n",
    "                data[s][i] = f'{va[s].loc[date1[i]]:.2f}'\n",
    "            else:\n",
    "                data[s][i] = '--'\n",
    "\n",
    "    for ma in [13, 41, 121]:\n",
    "        for s in list(va.keys()):\n",
    "            data[s][ma] = f'{va[s].iloc[-ma:].mean():.2f}'\n",
    "\n",
    "    for s in sl2:\n",
    "        r = (f'{n2[s]} & {data[s][1]} & {data[s][2]} & {data[s][3]} & '\n",
    "             f'{data[s][4]} & {data[s][5]} & & {data[s][13]} & '\n",
    "             f' {data[s][41]} & {data[s][121]} \\\\\\\\')\n",
    "        print(r)\n",
    "        table.write(r + '\\n')\n",
    "\n",
    "    print(blankrow)\n",
    "    table.write(blankrow + '\\n')\n",
    "\n",
    "    for s in list(jb.keys()):\n",
    "        data[s] = {}\n",
    "        for i in range(1, 6):\n",
    "            if date1[i] in jb.index:\n",
    "                data[s][i] = f'{jb[s].loc[date1[i]]:.2f}'\n",
    "            else:\n",
    "                data[s][i] = '--'\n",
    "\n",
    "    for ma in [13, 41, 121]:\n",
    "        for s in list(jb.keys()):\n",
    "            data[s][ma] = f'{jb[s].iloc[-ma:].mean():.2f}'\n",
    "\n",
    "    for s in sl3:\n",
    "        r = (f'{n3[s]} & {data[s][1]} & {data[s][2]} & {data[s][3]} & '\n",
    "             f'{data[s][4]} & {data[s][5]} & & {data[s][13]} & '\n",
    "             f' {data[s][41]} & {data[s][121]} \\\\\\\\')\n",
    "        print(r)\n",
    "        table.write(r + '\\n')\n",
    "\n",
    "    print(blankrow)\n",
    "    table.write(blankrow)\n",
    "\n",
    "    for s in list(gd.keys()):\n",
    "        data[s] = {}\n",
    "        if s == 'A261RC':\n",
    "            for i in range(1, 6):\n",
    "                if date1[i] in gd.index:\n",
    "                    data[s][i] = f'{gd[s].loc[date1[i]]:.1f}'\n",
    "                else:\n",
    "                    data[s][i] = '--'\n",
    "        else:\n",
    "            for i in range(1, 6):\n",
    "                if date1[i] in gd.index:\n",
    "                    data[s][i] = f'{gd[s].loc[date1[i]]:.2f}'\n",
    "                else:\n",
    "                    data[s][i] = '--'\n",
    "\n",
    "    for ma in [13, 41, 121]:\n",
    "        for s in list(gd.keys()):\n",
    "            if s == 'A261RC':\n",
    "                data[s][ma] = f'{gd[s].iloc[-ma:].mean():.1f}'\n",
    "            else:\n",
    "                data[s][ma] = f'{gd[s].iloc[-ma:].mean():.2f}'\n",
    "\n",
    "    for s in sl4:\n",
    "        r = (f'{n4[s]} & {data[s][1]} & {data[s][2]} & {data[s][3]} & '\n",
    "             f'{data[s][4]} & {data[s][5]} & & {data[s][13]} & '\n",
    "             f' {data[s][41]} & {data[s][121]} \\\\\\\\')\n",
    "        if s == 'indirect':\n",
    "            r = r.replace('\\\\\\\\', '')\n",
    "        print(r)\n",
    "        table.write(r + '\\n')"
   ]
  },
  {
   "cell_type": "code",
   "execution_count": null,
   "metadata": {},
   "outputs": [],
   "source": []
  },
  {
   "cell_type": "code",
   "execution_count": null,
   "metadata": {},
   "outputs": [],
   "source": []
  },
  {
   "cell_type": "markdown",
   "metadata": {},
   "source": [
    "### Business Investment Table and Text"
   ]
  },
  {
   "cell_type": "code",
   "execution_count": 13,
   "metadata": {
    "ExecuteTime": {
     "end_time": "2023-10-11T20:31:04.547971Z",
     "start_time": "2023-10-11T20:31:04.389383Z"
    }
   },
   "outputs": [],
   "source": [
    "s = ['A008RY', 'A009RY', 'Y033RY', 'Y034RY', 'B935RY', \n",
    "     'A680RY', 'A681RY', 'Y001RY', 'B985RY', 'Y006RY']\n",
    "\n",
    "n = { 'A008RY': 'Total',\n",
    "      'A009RY': '\\hspace{-2mm}\\cbox{yellow!50!orange}Structures',\n",
    "      'Y033RY': '\\hspace{-2mm}\\cbox{cyan!60!white}Equipment',\n",
    "      'Y034RY': '\\hspace{4mm} Information Processing',\n",
    "      'B935RY': '\\hspace{6mm} Computers \\& Peripherals',\n",
    "      'A680RY': '\\hspace{4mm} Industrial Equipment',\n",
    "      'A681RY': '\\hspace{4mm} Transportation Equipment',\n",
    "      'Y001RY': '\\hspace{-2mm}\\cbox{violet}Intellectual Property Products',\n",
    "      'B985RY': '\\hspace{4mm} Software',\n",
    "      'Y006RY': '\\hspace{4mm} Research \\& Development'}\n",
    "\n",
    "df = (nipa_df(retrieve_table('T10502')['Data'], s)\n",
    "      [list(n.keys())])\n",
    "\n",
    "data = df.iloc[-5:].iloc[::-1].T\n",
    "\n",
    "cols = [f' {q.year} Q{q.quarter}' \n",
    "        if i == 0 else f'`{str(q.year)[2:]} Q{q.quarter}'\n",
    "        for i, q in enumerate(data.columns)]\n",
    "\n",
    "data.columns = cols\n",
    "data['3-year'] = df.rolling(4).mean().iloc[-1].round(2)\n",
    "data['10-year'] = df.rolling(40).mean().iloc[-1].round(2)\n",
    "data['30-year'] = df.rolling(120).mean().iloc[-1].round(2)\n",
    "data.index = data.index.map(n)\n",
    "(data.round(2).applymap('{:,.2f}'.format)\n",
    " .to_csv(data_dir / 'businv.tex', sep='&', lineterminator='\\\\\\ ', quotechar=' '))"
   ]
  },
  {
   "cell_type": "code",
   "execution_count": 6,
   "metadata": {
    "ExecuteTime": {
     "end_time": "2023-10-11T20:25:28.315944Z",
     "start_time": "2023-10-11T20:25:28.309420Z"
    }
   },
   "outputs": [
    {
     "name": "stdout",
     "output_type": "stream",
     "text": [
      "cont_subt will be removed from a future version\n",
      "cont_subt will be removed from a future version\n",
      "cont_subt will be removed from a future version\n",
      "cont_subt will be removed from a future version\n",
      "cont_subt will be removed from a future version\n",
      "cont_subt will be removed from a future version\n",
      "Business fixed investment contributed 0.98 percentage point to GDP growth in 2023 Q2, slightly above the average contribution of 0.55 percentage point over the three years prior to the pandemic. In 2023 Q2, investment in structures contributed 0.46 percentage point to GDP growth (see\\cbox{yellow!50!orange}), investment in equipment contributed 0.38 percentage point (see\\cbox{cyan!60!white}), and investment in intellectual property products contributed 0.15 percentage point (see\\cbox{violet}).\n"
     ]
    }
   ],
   "source": [
    "sl = [('A008RY', 'main'), ('A009RY', 'main'), \n",
    "      ('Y033RY', 'end'), ('Y001RY', 'end'), ('A680RY', 'end')]\n",
    "\n",
    "d = {}\n",
    "\n",
    "for s, style in sl:\n",
    "    value = df[s].iloc[-1]\n",
    "    d[s] = cont_subt(value, style=style)\n",
    "\n",
    "t_3y = cont_subt(data.loc[n['A008RY'], '3-year'], style='of')\n",
    "ld = dtxt(df.index[-1])['qtr1']\n",
    "ld2 = dtxt(df.index[-1])['qtr2']\n",
    "val3y = df.A008RY.rolling(13).mean().iloc[-1]\n",
    "vallt = df.A008RY.iloc[-1]\n",
    "\n",
    "compare = compare_text(vallt, val3y, [0.1, 0.5, 2.0])\n",
    "\n",
    "text = (f\"Business fixed investment {d['A008RY']} GDP growth in {ld}, \"+\n",
    "        f\"{compare} the average {t_3y} over the three years prior to the pandemic. \"+\n",
    "        f\"In {ld}, investment in structures {d['A009RY']} GDP growth \"+\n",
    "        \"(see\\cbox{yellow!50!orange}), \"+\n",
    "        f\"investment in equipment {d['Y033RY']} \"+\n",
    "        \"(see\\cbox{cyan!60!white}), and investment in \"+\n",
    "        f\"intellectual property products {d['Y001RY']} \"+\n",
    "        \"(see\\cbox{violet}).\")\n",
    "\n",
    "write_txt(text_dir / 'businv.txt', text)\n",
    "print(text)"
   ]
  },
  {
   "cell_type": "code",
   "execution_count": null,
   "metadata": {},
   "outputs": [],
   "source": []
  },
  {
   "cell_type": "code",
   "execution_count": null,
   "metadata": {},
   "outputs": [],
   "source": []
  },
  {
   "cell_type": "markdown",
   "metadata": {},
   "source": [
    "### Personal Income"
   ]
  },
  {
   "cell_type": "code",
   "execution_count": 7,
   "metadata": {
    "ExecuteTime": {
     "end_time": "2023-10-11T20:25:28.326794Z",
     "start_time": "2023-10-11T20:25:28.317277Z"
    }
   },
   "outputs": [],
   "source": [
    "series = {\n",
    " 'A065RC': '\\hspace{0.5mm}Personal Income (Pre-Tax Income)',\n",
    " 'A033RC': '\\hspace{-2mm}\\cbox{green!65!black}Labor',\n",
    " 'A034RC': '\\hspace{3mm} Wages \\& Salaries',\n",
    " 'A038RC': '\\hspace{3mm} Supplements to Wages \\& Salaries',\n",
    " 'CAPITAL': '\\hspace{-2mm}\\cbox{orange!40!yellow}Capital',\n",
    " 'A041RC': \"\\hspace{3mm} Proprietors' Income\",\n",
    " 'A048RC': '\\hspace{3mm} Rental Income',\n",
    " 'W210RC': '\\hspace{3mm} Personal Income Receipts on Assets',\n",
    " 'A064RC': '\\hspace{3mm} Personal Interest Income',\n",
    " 'B703RC': '\\hspace{3mm} Personal Dividend Income',\n",
    " 'TRANSFER': '\\hspace{-2mm}\\cbox{blue!80!white}Net Government Benefits',\n",
    " 'A577RC': 'Personal current transfer receipts',\n",
    " 'A063RC': '\\hspace{2mm} Government Social Benefits',\n",
    " 'W823RC': '\\hspace{3mm} Social Security',\n",
    " 'W824RC': '\\hspace{3mm} Medicare',\n",
    " 'W729RC': '\\hspace{3mm} Medicaid',\n",
    " 'W825RC': '\\hspace{3mm} Unemployment Insurance',\n",
    " 'W826RC': \"\\hspace{3mm} Veterans' Benefits\",\n",
    " 'W827RC': '\\hspace{3mm} Other',\n",
    " 'A061RC': '\\hspace{2mm} Less: Social Insurance Contributions'}"
   ]
  },
  {
   "cell_type": "code",
   "execution_count": 8,
   "metadata": {
    "ExecuteTime": {
     "end_time": "2023-10-11T20:25:28.601285Z",
     "start_time": "2023-10-11T20:25:28.328170Z"
    }
   },
   "outputs": [],
   "source": [
    "s = ['DPCERG']\n",
    "\n",
    "d = nipa_df(retrieve_table('T20304')['Data'], s)['DPCERG']\n",
    "deflator = d.iloc[-1] / d\n",
    "\n",
    "s = [key for key, value in series.items() \n",
    "     if key not in ['CAPITAL', 'TRANSFER']]\n",
    "\n",
    "df = (nipa_df(retrieve_table('T20100')['Data'], s)\n",
    "      .assign(CAPITAL = lambda x: x['A041RC'] + x['A048RC'] + x['W210RC'],\n",
    "              TRANSFER = lambda x: x['A577RC'] - x['A061RC'],\n",
    "              A061RC = lambda x: - x['A061RC'])\n",
    "      .drop(['W210RC', 'A577RC'], axis=1)\n",
    "      .multiply(deflator, axis=0))\n",
    "result = growth_contrib_ann(df, 'A065RC')\n",
    "\n",
    "data = result.iloc[-5:].iloc[::-1].T\n",
    "\n",
    "cols = [f' {q.year} Q{q.quarter}' \n",
    "        if i == 0 else f'`{str(q.year)[2:]} Q{q.quarter}'\n",
    "        for i, q in enumerate(data.columns)]\n",
    "\n",
    "data.columns = cols\n",
    "data['3-year'] = result.rolling(13).mean().iloc[-1].round(2)\n",
    "data['10-year'] = result.rolling(41).mean().iloc[-1].round(2)\n",
    "data['30-year'] = result.rolling(121).mean().iloc[-1].round(2)\n",
    "data.index = data.index.map(series)\n",
    "(data.reindex(list(series.values())).dropna().round(2).applymap('{:,.2f}'.format)\n",
    "     .to_csv(data_dir / 'pi.tex', sep='&', lineterminator='\\\\\\ ', quotechar=' '))"
   ]
  },
  {
   "cell_type": "code",
   "execution_count": null,
   "metadata": {
    "ExecuteTime": {
     "end_time": "2019-10-31T00:04:59.159368Z",
     "start_time": "2019-10-31T00:04:59.154951Z"
    }
   },
   "outputs": [],
   "source": []
  },
  {
   "cell_type": "code",
   "execution_count": null,
   "metadata": {
    "ExecuteTime": {
     "end_time": "2019-10-31T00:05:01.737537Z",
     "start_time": "2019-10-31T00:05:01.732131Z"
    }
   },
   "outputs": [],
   "source": []
  },
  {
   "cell_type": "markdown",
   "metadata": {},
   "source": [
    "### International Trade Table"
   ]
  },
  {
   "cell_type": "code",
   "execution_count": 9,
   "metadata": {
    "ExecuteTime": {
     "end_time": "2023-10-11T20:25:28.606156Z",
     "start_time": "2023-10-11T20:25:28.602523Z"
    }
   },
   "outputs": [],
   "source": [
    "s = {'B020RC': 'Exports of goods and services',\n",
    "     'A253RC': 'Exports of goods',\n",
    "     'B638RC': '\\hspace{2mm}Foods, feeds, and beverages',\n",
    "     'A639RC': '\\hspace{2mm}Industrial supplies \\& materials',\n",
    "     'LA000006': '\\hspace{4mm}Petroleum and products',\n",
    "     'A640RC': '\\hspace{2mm}Capital goods, except automotive',\n",
    "     'B641RC': '\\hspace{2mm}Automotive vehicles, \\& parts',\n",
    "     'A642RC': '\\hspace{2mm}Consumer goods, ex. food \\& auto',\n",
    "     'B690RC': '\\hspace{4mm}Durable goods',\n",
    "     'B691RC': '\\hspace{4mm}Nondurable goods',\n",
    "     'A646RC': 'Exports of services',\n",
    "     'Y800RC': '\\hspace{2mm}Transport',\n",
    "     'Y801RC': '\\hspace{2mm}Travel',\n",
    "     'B684RC': '\\hspace{2mm}Intellectual property charges',\n",
    "     'Y802RC': '\\hspace{2mm}Other business services',\n",
    "     'B021RC': 'Imports of goods and services',\n",
    "     'A255RC': 'Imports of goods',\n",
    "     'B647RC': '\\hspace{2mm}Foods, feeds, and beverages',\n",
    "     'LA000004': '\\hspace{2mm}Industrial supplies \\& materials',\n",
    "     'B648RC': '\\hspace{4mm}Petroleum and products',\n",
    "     'A650RC': '\\hspace{2mm}Capital goods, except automotive',\n",
    "     'B651RC': '\\hspace{2mm}Automotive vehicles, \\& parts',\n",
    "     'A652RC': '\\hspace{2mm}Consumer goods, ex. food \\& auto',\n",
    "     'B697RC': '\\hspace{4mm}Durable goods',\n",
    "     'B698RC': '\\hspace{4mm}Nondurable goods',\n",
    "     'B656RC': 'Imports of services',\n",
    "     'Y804RC': '\\hspace{2mm}Transport',\n",
    "     'Y805RC': '\\hspace{2mm}Travel',\n",
    "     'B908RC': '\\hspace{2mm}Intellectual property charges',\n",
    "     'Y806RC': '\\hspace{2mm}Other business services'}"
   ]
  },
  {
   "cell_type": "code",
   "execution_count": 10,
   "metadata": {
    "ExecuteTime": {
     "end_time": "2023-10-11T20:25:29.244935Z",
     "start_time": "2023-10-11T20:25:28.608207Z"
    }
   },
   "outputs": [],
   "source": [
    "df1 = nipa_df(retrieve_table('T40205A')['Data'], s)\n",
    "df2 = nipa_df(retrieve_table('T40205B')['Data'], s)\n",
    "df = pd.concat([df1, df2])\n",
    "df['GDP'] = nipa_df(retrieve_table('T10105')['Data'], ['A191RC'])['A191RC']\n",
    "df = df.div(df['GDP'], axis=0) * 100"
   ]
  },
  {
   "cell_type": "code",
   "execution_count": 11,
   "metadata": {
    "ExecuteTime": {
     "end_time": "2023-10-11T20:25:29.262674Z",
     "start_time": "2023-10-11T20:25:29.246815Z"
    }
   },
   "outputs": [],
   "source": [
    "a16 = df.loc['2016'].mean()\n",
    "a1213 = df.loc['2012-01-01': '2013-12-01'].mean()\n",
    "a0506 = df.loc['2005-01-01': '2006-12-01'].mean()\n",
    "a9899 = df.loc['1998-01-01': '1999-12-01'].mean()\n",
    "a8993 = df.loc['1989-01-01': '1993-12-01'].mean()\n",
    "\n",
    "latest = df.iloc[-1]\n",
    "prev = df.iloc[-2]\n",
    "yrago = df.iloc[-5]\n",
    "\n",
    "data = pd.concat([latest, prev, yrago], axis=1)\n",
    "data.columns = [f' {q.year} Q{q.quarter}' \n",
    "        if i == 0 else f'`{str(q.year)[2:]} Q{q.quarter}'\n",
    "        for i, q in enumerate(data.columns)]\n",
    "data['2016'] = a16\n",
    "data['2012 --13'] = a1213\n",
    "data['2005 --06'] = a0506\n",
    "data['1998 --99'] = a9899\n",
    "data['1989 --93'] = a8993\n",
    "\n",
    "data = data.round(2).applymap('{:,.2f}'.format)\n",
    "data.index = data.index.map(s)\n",
    "(data.iloc[:-1].to_csv(data_dir / 'exim.tex', sep='&', \n",
    "                       lineterminator='\\\\\\ ', quotechar=' '))"
   ]
  },
  {
   "cell_type": "code",
   "execution_count": 12,
   "metadata": {
    "ExecuteTime": {
     "end_time": "2023-10-11T20:25:29.270777Z",
     "start_time": "2023-10-11T20:25:29.263796Z"
    }
   },
   "outputs": [],
   "source": [
    "#data"
   ]
  },
  {
   "cell_type": "code",
   "execution_count": null,
   "metadata": {
    "ExecuteTime": {
     "end_time": "2019-11-07T04:04:33.929861Z",
     "start_time": "2019-11-07T04:04:33.918225Z"
    }
   },
   "outputs": [],
   "source": []
  }
 ],
 "metadata": {
  "kernelspec": {
   "display_name": "Python 3 (ipykernel)",
   "language": "python",
   "name": "python3"
  },
  "language_info": {
   "codemirror_mode": {
    "name": "ipython",
    "version": 3
   },
   "file_extension": ".py",
   "mimetype": "text/x-python",
   "name": "python",
   "nbconvert_exporter": "python",
   "pygments_lexer": "ipython3",
   "version": "3.8.13"
  }
 },
 "nbformat": 4,
 "nbformat_minor": 2
}
